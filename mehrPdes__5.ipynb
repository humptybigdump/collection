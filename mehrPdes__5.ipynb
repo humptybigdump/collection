{
 "cells": [
  {
   "cell_type": "markdown",
   "metadata": {},
   "source": [
    "<div style=\"text-align:center\">Marco Seiz, Michael Kellner, Anastasia August<br>\n",
    "KIT, Institut für Angewandte Materialien (IAM)<br>\n",
    "Computational Materials Science (CMS)\n",
    "</div>\n",
    "<h1>Mikrostruktursimulation <br/>Zusatzbeispiel zur numerischen Lösung von PDEs </h1>"
   ]
  },
  {
   "cell_type": "markdown",
   "metadata": {},
   "source": [
    "Advektionsgleichung: Ein Größe $c$ wird mit der Geschwindigkeit $v$ durch das Gebiet bewegt.\n",
    "$$ \\frac{\\partial c}{\\partial t} = -v \\frac{\\partial c}{\\partial x} $$\n",
    "\n",
    "Die räumliche Ableitung wird hier nicht mit zentralen Differenzen gebildet, da das explizite Schema unbedingt instabil Schema ist, sondern mit rechtsseitigen Differenzen für $v<0$ und mit linksseitigen für $v>0$, hier für $v<0$ exemplarisch:\n",
    "\n",
    "$$ \\frac{\\partial c}{\\partial t} = -v \\frac{c_{i+1}-c_i}{\\Delta x} $$\n",
    "\n",
    "und die zeitliche Ableitung wird wieder mit dem expliziten Eulerverfahren bestimmt und umgestellt:\n",
    "\n",
    "$$ c_i^{n+1} = c_i^n - \\Delta t v \\frac{c_{i+1}^n-c_i^n}{\\Delta x} $$.\n",
    "\n",
    "Vgl. hierzu auch http://bender.astro.sunysb.edu/classes/phy688_spring2013/lectures/advection.pdf . Die richtige numerische Lösung der Advektionsgleichung ist ein Gebiet für sich. \n",
    "\n",
    "Es werden beispielhaft weitere Terme auf der rechten Seite der Gleichung eingeführt, um daraus jeweils eine \n",
    "\n",
    "a) Advektions-Diffusiongleichung $$ \\frac{\\partial c}{\\partial t} = -v \\frac{\\partial c}{\\partial x} + D \\frac{\\partial^2 c}{\\partial x^2} $$\n",
    "\n",
    "b) Advektions-Diffusions-Reaktionsgleichung $$ \\frac{\\partial c}{\\partial t} = -v \\frac{\\partial c}{\\partial x} + D \\frac{\\partial^2 c}{\\partial x^2} - c(1-c)(1-2c) $$\n",
    "\n",
    "zu erhalten. Der diffusive Anteil wird wie in der Übung diskretisiert, während der Reaktionsanteil ohne eine Diskretisierung auskommt, da in diesem keine Ableitungen vorkommen.\n",
    "\n",
    "Diese Terme können einzeln in der Funktion \"pde\" mit Kommentaren ein- und ausgeschaltet werden bzw. mit Hilfe der kompletten Formulierung, indem Terme mit 0 multipliziert werden."
   ]
  },
  {
   "cell_type": "code",
   "execution_count": null,
   "metadata": {},
   "outputs": [],
   "source": [
    "%matplotlib notebook\n",
    "import matplotlib.pyplot as plt\n",
    "import matplotlib as mpl\n",
    "import numpy as np\n",
    "mpl.rcParams.update({'font.size': 16})\n",
    "mpl.rcParams['figure.figsize'] = (9,6)\n",
    "mpl.rcParams['axes.grid'] = True\n",
    "from numba import jit\n",
    "import scipy.signal"
   ]
  },
  {
   "cell_type": "code",
   "execution_count": null,
   "metadata": {},
   "outputs": [],
   "source": [
    "v=-1 #0.1\n",
    "D=1\n",
    "vabs = abs(v)\n",
    "deltax=1\n",
    "factor = 4 # 4 ist stabil für reine advektion und ergibt C=1, 1 falls mit diffusion gerechnet wird\n",
    "deltat =  factor * min(deltax/(vabs), deltax**2 / (2*2*D))\n",
    "offset1 = int(v < 0) # konstantes upwind/downwind-verfahren\n",
    "offset2 = int(v > 0)"
   ]
  },
  {
   "cell_type": "code",
   "execution_count": null,
   "metadata": {},
   "outputs": [],
   "source": [
    "C = vabs * deltat / deltax \n",
    "# bei der reinen Advektionsgleichung:\n",
    "# für C < 1 gibt es eine numerischen Diffusion des Profils\n",
    "# bei C > 1 numerische Instabilität\n",
    "# bei C = 1 wird das Profil erhalten\n",
    "C"
   ]
  },
  {
   "cell_type": "code",
   "execution_count": null,
   "metadata": {},
   "outputs": [],
   "source": [
    "@jit\n",
    "def pde(field, fieldNew):\n",
    "    length = field.shape[0]\n",
    "    for i in range(1,length-1): \n",
    "        # nur advektion\n",
    "        fieldNew[i] = field[i] + deltat *  ( -v * (field[i+offset1] - field[i-offset2]) / deltax )\n",
    "        # advektion-diffusion\n",
    "        #fieldNew[i] = field[i] + deltat *  ( -v * (field[i+offset1] - field[i-offset2]) / deltax \n",
    "        #                                   + D * ( field[i+1] - 2*field[i] + field[i-1] ) / (deltax * deltax)   )\n",
    "        # advektion-diffusion-reaktion --- hier können Terme mit *0 ausgeschalten werden\n",
    "        #fieldNew[i] = field[i] + deltat *  ( -v * (field[i+offset1] - field[i-offset2]) / deltax \n",
    "        #                                   + D * ( field[i+1] - 2*field[i] + field[i-1] ) / (deltax * deltax)   \n",
    "        #                                   - field[i] * (1-field[i]) * (1-2*field[i]))\n",
    "                                            \n",
    "def ini(field): # \"top hat\"-Profil\n",
    "    mylen = gridpoints//4\n",
    "    field[mylen:3*mylen] = 1\n",
    "        \n",
    "def iniGauss(field): # Gaußsche Glocke\n",
    "    field[:] = scipy.signal.gaussian(gridpoints, 10, True)\n",
    "    \n",
    "def bcs(field): # periodisch\n",
    "    field[0] = field[-2]\n",
    "    field[-1] = field[1] "
   ]
  },
  {
   "cell_type": "code",
   "execution_count": null,
   "metadata": {},
   "outputs": [],
   "source": [
    "# Initialisieren der Felder\n",
    "gridpoints=100\n",
    "cold=np.zeros(gridpoints)\n",
    "cnew=np.zeros(gridpoints)\n",
    "iniGauss(cold)\n",
    "#ini(cold)\n",
    "framelist_e=[]\n",
    "times_e=[]"
   ]
  },
  {
   "cell_type": "code",
   "execution_count": null,
   "metadata": {},
   "outputs": [],
   "source": [
    "#Simulation\n",
    "goaltime = 100\n",
    "# goaltime = 100 ~ eine Advektionsbewegung durchs Gebiet\n",
    "# goaltime = 5 ~ man erkennt, was der Diffusions-Reaktionsanteil bewirkt\n",
    "print(\"Zielzeit ist %lf\" % (goaltime))\n",
    "timesteps=int(goaltime/deltat)\n",
    "writefreq=int(timesteps/5) \n",
    "bcs(cold)\n",
    "#start = time.time()\n",
    "for i in range(timesteps+1):\n",
    "    if i%writefreq == 0:\n",
    "        framelist_e.append(cold.copy())\n",
    "        times_e.append(i*deltat)\n",
    "    pde(cold, cnew)\n",
    "    bcs(cnew)\n",
    "    cold, cnew = cnew, cold\n",
    "#end = time.time()\n",
    "\n",
    "#framelist_e.append(cold.copy())\n",
    "#times_e.append(i*deltat)\n",
    "#print(\"Laufzeit: %f Sekunden\" % (end-start))"
   ]
  },
  {
   "cell_type": "code",
   "execution_count": null,
   "metadata": {},
   "outputs": [],
   "source": [
    "fig_e, ax_e = plt.subplots()\n",
    "for i in range(len(framelist_e)):\n",
    "    ax_e.plot(framelist_e[i], label=\"%.1f\" % (times_e[i]))\n",
    "    \n",
    "ax_e.set_xlabel(\"Gitterposition / -\")\n",
    "ax_e.set_ylabel(\"Feldwert / -\")\n",
    "\n",
    "ax_e.legend(ncol=2,title=\"Simulationszeit\")"
   ]
  },
  {
   "cell_type": "code",
   "execution_count": null,
   "metadata": {},
   "outputs": [],
   "source": []
  }
 ],
 "metadata": {
  "kernelspec": {
   "display_name": "Python 3",
   "language": "python",
   "name": "python3"
  },
  "language_info": {
   "codemirror_mode": {
    "name": "ipython",
    "version": 3
   },
   "file_extension": ".py",
   "mimetype": "text/x-python",
   "name": "python",
   "nbconvert_exporter": "python",
   "pygments_lexer": "ipython3",
   "version": "3.8.3"
  }
 },
 "nbformat": 4,
 "nbformat_minor": 4
}
