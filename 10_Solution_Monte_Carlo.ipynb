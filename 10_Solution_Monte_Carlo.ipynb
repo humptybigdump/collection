{
 "cells": [
  {
   "attachments": {},
   "cell_type": "markdown",
   "metadata": {},
   "source": [
    "# Geospatial Data Analysis I \n",
    "\n",
    "## Monte Carlo Methods - Solution"
   ]
  },
  {
   "cell_type": "markdown",
   "metadata": {},
   "source": [
    "In this exercise we want to quantify the uncertainty in the analytical calculation of biological degradation of o-xylene in a contaminated aquifer. The analytical model is given in eq. 6 in Würth et al. (2021): \n",
    "\n",
    "<a href=\"https://www.codecogs.com/eqnedit.php?latex=\\lambda&space;=&space;\\frac{\\Delta&space;\\delta&space;^{13}C&space;\\cdot&space;k_{f}&space;\\cdot&space;i}{\\epsilon&space;\\cdot&space;s&space;\\cdot&space;n_{e}}\" target=\"_blank\"><img src=\"https://latex.codecogs.com/gif.latex?\\lambda&space;=&space;\\frac{\\Delta&space;\\delta&space;^{13}C&space;\\cdot&space;k_{f}&space;\\cdot&space;i}{\\epsilon&space;\\cdot&space;s&space;\\cdot&space;n_{e}}\" title=\"\\lambda = \\frac{\\Delta \\delta ^{13}C \\cdot k_{f} \\cdot i}{\\epsilon \\cdot s \\cdot n_{e}}\" /></a>\n",
    "\n",
    "with \n",
    "\n",
    "<a href=\"https://www.codecogs.com/eqnedit.php?latex=k_{f}&space;=&space;\\frac{s&space;\\cdot&space;n_{e}}{t&space;\\cdot&space;i}\" target=\"_blank\"><img src=\"https://latex.codecogs.com/gif.latex?k_{f}&space;=&space;\\frac{s&space;\\cdot&space;n_{e}}{t&space;\\cdot&space;i}\" title=\"k_{f} = \\frac{s \\cdot n_{e}}{t \\cdot i}\" /></a>\n",
    "\n",
    "- First, generate random values for the uncertain input parameters for the equation above. You can find the required information in Table 1 and 3 in the paper (literature folder on ILIAS). Take the values for the well pair G10m - G30u. *N* stands for Normal, *U* for Uniform, and *W* for Weibull distribution. As a Weibull distribution is not easily available in Python, use *U* (0.0013, 0.0016) for the hydraulic gradient. Also note, that some distributions are truncated (see exercise inferential statistics). \n",
    "\n",
    "- Then, calculate the hydraulic conductivity and biological degradation rate based on the generated in input values, and visualise the resulting distributions. \n"
   ]
  },
  {
   "cell_type": "code",
   "execution_count": null,
   "metadata": {},
   "outputs": [
    {
     "name": "stdout",
     "output_type": "stream",
     "text": [
      "0.00019254041392926442 0.21948569134162527\n"
     ]
    },
    {
     "data": {
      "image/png": "[encoded data removed]",
      "text/plain": [
       "<Figure size 576x576 with 2 Axes>"
      ]
     },
     "metadata": {
      "needs_background": "light"
     },
     "output_type": "display_data"
    }
   ],
   "source": [
    "# Monte-Carlo Simulation for quantifiying degradation of o-xylene\n",
    "\n",
    "# importing the required Python packages\n",
    "import numpy as np\n",
    "from scipy.stats import truncnorm\n",
    "import matplotlib.pyplot as plt\n",
    "import seaborn as sns\n",
    "\n",
    "# setting the number of MC simulations / iterations \n",
    "n = 5000 # number of MC simulations \n",
    "\n",
    "# generating random values for the input parameters\n",
    "# in accordance to the probabality density functions given in the paper\n",
    "\n",
    "# isotope shift delta 13C [o/oo], truncated to (3.8, 4.8)\n",
    "a, b = (3.8 - 4.3) / 0.7, (4.8 - 4.3) / 0.7\n",
    "deltaC = truncnorm.rvs(a, b, 4.3, 0.7, size=n)\n",
    "\n",
    "# isotope enrichment factor epsilon [-]\n",
    "epsilon = np.random.uniform(-3.2, -1.1, n)\n",
    "\n",
    "# distance [m]\n",
    "s = np.random.uniform(415, 423, n)\n",
    "\n",
    "# effective porosity [-], trunctaed to (0.12, 0.30)\n",
    "a, b = (0.12 - 0.21) / 0.09, (0.3 - 0.21) / 0.09\n",
    "neff = truncnorm.rvs(a, b, 0.21, 0.09, size=n)\n",
    "\n",
    "# time, truncated to (3e8, 3.3e8)\n",
    "a, b = (3e8 - 3.15e8) / 1.6e6, (3.3e8 - 3.15e8) / 1.6e6\n",
    "t = truncnorm.rvs(a, b, 3.15e8, 1.6e6, size=n)\n",
    "\n",
    "# hydraulic gradient [-]\n",
    "grad = np.random.uniform(1.3e-3, 1.6e-3, n)\n",
    "\n",
    "# analytical modelling \n",
    "kf = (s*neff)/(t*grad)\n",
    "lambda_rate = -(deltaC*kf*grad)/(epsilon*s*neff)\n",
    "\n",
    "lambda_rate = lambda_rate*3600*24*365  # to get values as [1/a]\n",
    "\n",
    "# printing mean values for hydraulic conductivity and degradation rate\n",
    "print(kf.mean(), lambda_rate.mean())\n",
    "\n",
    "# visualising the generated output values for hydraulic conductivity and degradation rate\n",
    "# in two seperate histogram plots \n",
    "\n",
    "fig = plt.figure(1, figsize=(8, 8))\n",
    "ax = fig.add_subplot(2,1,1)\n",
    "kf_neu = kf*10000\n",
    "plt.hist(kf_neu)\n",
    "plt.ylabel(\"Häufigkeit\")\n",
    "plt.xlabel(\"hydraulische Durchlässigkeit [1e-4 m/s]\")\n",
    "\n",
    "ax1 = fig.add_subplot(2,1,2)\n",
    "plt.hist(lambda_rate)\n",
    "plt.ylabel(\"Häufigkeit\")\n",
    "plt.xlabel(\"Abbaurate [1/a]\")\n",
    "\n",
    "plt.show()\n",
    "\n"
   ]
  },
  {
   "cell_type": "markdown",
   "metadata": {},
   "source": [
    "- Compare your results with the ones in figure 3 in the paper. Are they consistent?\n",
    "\n",
    "## END\n",
    "\n",
    "### References: \n",
    "\n",
    "Würth et al. (2021): Quantifying biodegradation rate constants of o-xylene by combining compound-specific isotope analysis and groundwater dating. Journal of Contaminant Hydrology, 238, 103757"
   ]
  }
 ],
 "metadata": {
  "kernelspec": {
   "display_name": "GDA1",
   "language": "python",
   "name": "python3"
  },
  "language_info": {
   "codemirror_mode": {
    "name": "ipython",
    "version": 3
   },
   "file_extension": ".py",
   "mimetype": "text/x-python",
   "name": "python",
   "nbconvert_exporter": "python",
   "pygments_lexer": "ipython3",
   "version": "3.11.5"
  }
 },
 "nbformat": 4,
 "nbformat_minor": 4
}
