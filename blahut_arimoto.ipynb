{
 "cells": [
  {
   "cell_type": "markdown",
   "metadata": {},
   "source": [
    "# Content and Objective\n",
    "\n",
    "+ Show principle and realization of Blahut-Arimoto algorithm\n",
    "+ To this goal, channel transition probabilities are fixed, e.g., by randomly sampling them\n",
    "+ Note: Transition matrix is given as $P=P(j|i)=P(Y=j|X=i)_ji$, so column represents input going to rows representing the possible outputs"
   ]
  },
  {
   "cell_type": "markdown",
   "metadata": {},
   "source": [
    "# Import"
   ]
  },
  {
   "cell_type": "code",
   "execution_count": 1,
   "metadata": {},
   "outputs": [],
   "source": [
    "# importing\n",
    "import numpy as np\n",
    "\n",
    "from scipy import optimize\n",
    "\n",
    "import matplotlib.pyplot as plt\n",
    "import matplotlib\n",
    "\n",
    "from time import time\n",
    "\n",
    "# showing figures inline\n",
    "%matplotlib inline"
   ]
  },
  {
   "cell_type": "code",
   "execution_count": 2,
   "metadata": {},
   "outputs": [],
   "source": [
    "# plotting options \n",
    "font = {'size'   : 20}\n",
    "plt.rc('font', **font)\n",
    "plt.rc('text', usetex=True)\n",
    "\n",
    "matplotlib.rc('figure', figsize=(18, 6) )"
   ]
  },
  {
   "cell_type": "markdown",
   "metadata": {},
   "source": [
    "# Here we go"
   ]
  },
  {
   "cell_type": "markdown",
   "metadata": {},
   "source": [
    "## Sample channel matrix"
   ]
  },
  {
   "cell_type": "code",
   "execution_count": 3,
   "metadata": {},
   "outputs": [
    {
     "name": "stdout",
     "output_type": "stream",
     "text": [
      "[[0.00246523 0.00711295 0.02782456 ... 0.01653006 0.03434379 0.03049172]\n",
      " [0.0265472  0.03519986 0.02602848 ... 0.01867495 0.01825141 0.03387893]\n",
      " [0.03311553 0.02828597 0.00277402 ... 0.01631709 0.01766695 0.00159377]\n",
      " ...\n",
      " [0.02172708 0.00474088 0.01012203 ... 0.03148688 0.02340585 0.00336943]\n",
      " [0.00227957 0.03162971 0.01172162 ... 0.00466872 0.00955778 0.03954988]\n",
      " [0.01447773 0.03121833 0.01955999 ... 0.01956633 0.02751361 0.00495326]]\n"
     ]
    }
   ],
   "source": [
    "# choose channel\n",
    "# currently: \n",
    "#       BSC\n",
    "#       random \n",
    "switch = 'random'  \n",
    "\n",
    "if switch == 'bsc':\n",
    "    X = np.arange( 2 ) \n",
    "    Y = np.arange( 2 )     \n",
    "    \n",
    "    delta = .2\n",
    "    P_yx = np.array( [ [ 1-delta, delta], [ delta, 1-delta ] ] )\n",
    "\n",
    "elif switch == 'bec':\n",
    "    X = np.arange( 2 ) \n",
    "    Y = np.arange( 3 )\n",
    "\n",
    "    delta = .2\n",
    "    P_yx = np.array( [ [ 1- delta, 0 ], [ delta, delta ], [ 0, 1-delta ] ])\n",
    "\n",
    "elif switch == 'Z':\n",
    "    X = np.arange( 2 ) \n",
    "    Y = np.arange( 2 )     \n",
    "    \n",
    "    delta = .2\n",
    "    P_yx = np.array( [ [ 1, delta], [ 0, 1-delta ] ] )\n",
    "\n",
    "\n",
    "elif switch == 'random':\n",
    "        # random channel\n",
    "    X = np.arange(0, 300)\n",
    "    Y = np.arange(0, 50)\n",
    "\n",
    "\n",
    "    P_yx = np.random.rand( Y.size, X.size)\n",
    "    for x in X:\n",
    "        P_yx[ :, x ] /= np.sum( P_yx[ :, x ] )\n",
    "\n",
    "\n",
    "print( P_yx )"
   ]
  },
  {
   "cell_type": "markdown",
   "metadata": {},
   "source": [
    "## Functions for determining mutual information, depending on P and p_X"
   ]
  },
  {
   "cell_type": "code",
   "execution_count": 4,
   "metadata": {},
   "outputs": [],
   "source": [
    "# getting mutual information resulting from a given input distribution\n",
    "def get_mutual_information( P, p_X ):\n",
    "    '''\n",
    "    Determining the mutual transinformation of a given channel and a given input distribution\n",
    "    \n",
    "    IN: P, channel transition matrix; cols are inputs, rows are outputs\n",
    "        p_X, input distribution\n",
    "        \n",
    "    OUT: I, value of mutual transinformation\n",
    "    '''\n",
    "    \n",
    "    # get matrix of \"pointwise entropy\" and determine  -(P pX)^T log2( (P pX) ) + 1^T ( P log2( P ) p_X )\n",
    "    Pp_info = get_P_info( P @ p_X )\n",
    "    I_1 = -np.sum( Pp_info )  \n",
    "\n",
    "    P_info = get_P_info( P )\n",
    "    I_2 =  np.sum( P_info @ p_X ) \n",
    "        \n",
    "    I = I_1 + I_2\n",
    "    \n",
    "    return I\n",
    "\n",
    "\n",
    "# determining information matrix\n",
    "def get_P_info( P ):\n",
    "    '''\n",
    "    Determining information matrix/vector given by P log2( P ) when P equals input\n",
    "    \n",
    "    IN: P vector or matrix\n",
    "    \n",
    "    OUT: P_info: same shape and pointwise p log2( p )\n",
    "    \n",
    "    ''' \n",
    "    \n",
    "    # transform to array and get shape\n",
    "    P_array = np.array( P )\n",
    "    P_shape = np.shape( P )\n",
    "    \n",
    "    # flatten array and assign info values by list comprehension\n",
    "    P_flatten = P_array.flatten()\n",
    "     \n",
    "    P_info = np.array( [ p * np.log2( p ) if p > 0 else 0.0 for p in P_flatten ] )\n",
    "    \n",
    "    return P_info.reshape( P_shape )"
   ]
  },
  {
   "cell_type": "markdown",
   "metadata": {},
   "source": [
    "## Optimization with differential evolution for comparison"
   ]
  },
  {
   "cell_type": "code",
   "execution_count": 5,
   "metadata": {},
   "outputs": [],
   "source": [
    "# define differential_evolution\n",
    "def diff_evo( func, n, p_cross = 0.9, step_size = 0.8, pop_size = 100, n_trials = 100 ):\n",
    "    '''\n",
    "    performing differential evolution\n",
    "    description and standard values due to https://en.wikipedia.org/wiki/Differential_evolution\n",
    "    \n",
    "    IN: func: function to be minimized, \n",
    "        n: problem dimension n, \n",
    "        p_cross: cross-over probability, \n",
    "        step_size: step size , \n",
    "        pop_size: population size,\n",
    "        n_trials: number of trials for minimization\n",
    "        \n",
    "    OUT: min_val: minimum value\n",
    "        arg_min: argument of minimum\n",
    "    '''\n",
    "    \n",
    "    agents = np.random.rand( pop_size, n )\n",
    "    for _k in range( pop_size ):\n",
    "        agents[ _k, : ] /= np.sum( agents[ _k, : ] )\n",
    "    \n",
    "    for _n in range( n_trials ):\n",
    "        \n",
    "        for ind_agent in range( pop_size ):\n",
    "            \n",
    "            # get parent agent\n",
    "            x = agents[ ind_agent, : ]\n",
    "            \n",
    "            # select three other agents by first sampling three indices unequal to ind_agent and getting according values\n",
    "            abc_ind = np.random.choice( \n",
    "                np.concatenate( (np.arange( 1, ind_agent ), np.arange( ind_agent + 1, pop_size)) ), \n",
    "                size = 3, replace = False )\n",
    "            \n",
    "            a = agents[ abc_ind[ 0 ], : ]\n",
    "            b = agents[ abc_ind[ 1 ], : ]\n",
    "            c = agents[ abc_ind[ 2 ], : ]\n",
    "\n",
    "            # select dimension to be retained\n",
    "            R = np.random.randint( n )\n",
    "            \n",
    "            # check whether coefficient should be retained\n",
    "            retain = 1 * ( np.random.rand( n ) > p_cross )\n",
    "\n",
    "            # get new value of y by altering only indices as determined before\n",
    "            y = ( 1 - retain ) * ( a + step_size * ( b - c ) ) + retain * x\n",
    "            #y = np.array( [ a[_k] + step_size * ( b[_k] - c[_k] ) if retain[_k]==1 else x[_k] for _k in range(n) ] )\n",
    "            \n",
    "            # avoid negative values and values greater 1\n",
    "            if np.any( y<0 ) or np.any( y>1 ):\n",
    "                continue\n",
    "\n",
    "            y[ R ] = x[ R ]\n",
    "            y /= np.sum( y )\n",
    "            \n",
    "            # check y against x\n",
    "            if func( y ) <= func( x ):\n",
    "                agents[ ind_agent, : ] = y\n",
    "    \n",
    "    # get minimum value and return min_value and arg min\n",
    "    values = np.array( [ func( agents[ i, :] ) for i in range( pop_size ) ] )\n",
    "    min_value = np.min( values )\n",
    "    min_arg = agents[ np.argmin( values ), : ]\n",
    "    \n",
    "    return min_value, np.array( min_arg )"
   ]
  },
  {
   "cell_type": "markdown",
   "metadata": {},
   "source": [
    "## Optimize using scipy optimize"
   ]
  },
  {
   "cell_type": "code",
   "execution_count": 6,
   "metadata": {},
   "outputs": [],
   "source": [
    "# solving optimization problem for getting optimizing input distribution\n",
    "def solve_for_p_X_scipy( P ):\n",
    "    '''\n",
    "    Determining input distribution maximizing mutual information\n",
    "    \n",
    "    IN: P, transition matrix of channel\n",
    "    \n",
    "    OUT: p_X, vector of capacity achieving probabilities\n",
    "    '''\n",
    "    \n",
    "    N = np.shape(P)[1]\n",
    "    x_0 = np.random.rand(N)\n",
    "    x_0 /= np.sum(x_0)\n",
    "    \n",
    "    # getting channel capacity resulting from a given input distribution\n",
    "    def get_I( p ):    \n",
    "        \n",
    "        # get matrix of \"pointwise entropy\" and determine  -(P pX)^T log2( (P pX) ) + 1^T ( P log2( P ) p_X )\n",
    "        Pp_info = get_P_info( P @ p )\n",
    "        I_1 = -np.sum( Pp_info )  \n",
    "\n",
    "        P_info = get_P_info( P )\n",
    "        I_2 =  np.sum( P_info @ p ) \n",
    "\n",
    "        I = I_1 + I_2\n",
    "\n",
    "        return -I\n",
    "    \n",
    "    def sum_x_eq_1(p):\n",
    "        return np.sum(p) - 1.0\n",
    "    \n",
    "    cons = {'type':'eq', 'fun': sum_x_eq_1}\n",
    "    bds = optimize.Bounds( 0, 1, keep_feasible=1 )\n",
    "    \n",
    "    p_X = optimize.minimize( get_I, x_0, constraints=(cons), bounds = bds )\n",
    "\n",
    "    return p_X"
   ]
  },
  {
   "cell_type": "markdown",
   "metadata": {},
   "source": [
    "## Helper functions for Blahut-Arimoto"
   ]
  },
  {
   "cell_type": "code",
   "execution_count": 7,
   "metadata": {},
   "outputs": [],
   "source": [
    "# getting Q given P and p_X\n",
    "def get_Q_xy( P, p_X ):\n",
    "    '''\n",
    "        determines Q as provided by Blahut-Arimoto\n",
    "\n",
    "        IN: P, p_X\n",
    "        OUT: Q\n",
    "    '''\n",
    "    # init Q as |X| x |Y| matrix\n",
    "    Q = np.zeros( np.shape(P)[::-1] )\n",
    "\n",
    "    for x in X:\n",
    "        for y in Y:\n",
    "            Q_denom_y = (P @ p_X )[y]\n",
    "\n",
    "            Q[ x, y ] = p_X[ x ] * P_yx[ y, x ] / Q_denom_y\n",
    "\n",
    "    return Q\n",
    "\n",
    "# getting p_X given P and Q\n",
    "def get_p_X( P, Q ):\n",
    "\n",
    "    # init p_X as |X| vector\n",
    "    p_X = np.ones( np.shape( P ) )[1]\n",
    "\n",
    "    # find denominator\n",
    "    denom = 0\n",
    "    for x in X:\n",
    "        prod = 1\n",
    "        for y in Y:\n",
    "            prod *= Q[ x, y ]**P[ y, x ]\n",
    "        denom += prod\n",
    "    \n",
    "    # get P(x)\n",
    "    for x in X:\n",
    "        prod = 1\n",
    "        for y in Y:\n",
    "            prod *= Q[ x, y ]**P[ y, x ]\n",
    "\n",
    "        p_X[ x ] = prod / denom\n",
    "    \n",
    "    return p_X\n",
    "\n",
    "    \n",
    "#Q = get_Q_xy( P_yx, np.ones(X.size)/X.size )\n",
    "#p_X = get_p_X( P_yx, Q)\n"
   ]
  },
  {
   "cell_type": "markdown",
   "metadata": {},
   "source": [
    "## Actual algorithm of Blahut-Arimoto"
   ]
  },
  {
   "cell_type": "code",
   "execution_count": 8,
   "metadata": {},
   "outputs": [],
   "source": [
    "# define Blahut-Arimoto Algorithm\n",
    "def Blahut_Arimoto( P, max_iterations = 1e2 ):\n",
    "    '''\n",
    "        performs alg. of Blahut-Arimoto\n",
    "\n",
    "        IN: P_yx\n",
    "        OUT: p_X_max, C\n",
    "    '''\n",
    "    # initial distribution\n",
    "    p_X = np.empty( ( 1, X.size ) )\n",
    "    p_X[ 0, : ] = np.ones( X.size) / X.size\n",
    "    \n",
    "    i = 0\n",
    "\n",
    "    # loop for a max. number of times (and stop if p has not changed)\n",
    "    while i < max_iterations:\n",
    "\n",
    "        # get Q\n",
    "        Q = get_Q_xy( P, p_X[ i ])\n",
    "\n",
    "        # get new p_X\n",
    "        p_X_new = get_p_X( P_yx, Q )\n",
    "\n",
    "        # append probabilities as row to p_X\n",
    "        p_X = np.vstack( [ p_X, p_X_new ] )\n",
    "\n",
    "        # increase counter\n",
    "        i += 1\n",
    "\n",
    "    return p_X\n"
   ]
  },
  {
   "cell_type": "markdown",
   "metadata": {},
   "source": [
    "# Comparison of Blahut-Arimoto to differential evolution"
   ]
  },
  {
   "cell_type": "code",
   "execution_count": 9,
   "metadata": {},
   "outputs": [],
   "source": [
    "# apply Blahut-Arimoto\n",
    "p_X = Blahut_Arimoto( P_yx, 50 )\n",
    "\n",
    "p_maximizer_BA = p_X[ -1, : ]\n",
    "C_BA = get_mutual_information( P_yx, p_maximizer_BA )"
   ]
  },
  {
   "cell_type": "code",
   "execution_count": 10,
   "metadata": {},
   "outputs": [],
   "source": [
    "# apply differential evolution\n",
    "p_cross = 0.9\n",
    "step_size = 0.8\n",
    "pop_size = 30\n",
    "n_trials = 100\n",
    "\n",
    "# helper function to fix P\n",
    "def func( p ):\n",
    "    return - get_mutual_information( P_yx, p )\n",
    "    \n",
    "n = X.size\n",
    "\n",
    "[ mv, ma ] = diff_evo( func, n, p_cross, step_size, pop_size, n_trials )\n",
    "\n",
    "p_maximizer_de = ma\n",
    "C_de = get_mutual_information( P_yx, p_maximizer_de )\n"
   ]
  },
  {
   "cell_type": "code",
   "execution_count": 11,
   "metadata": {},
   "outputs": [],
   "source": [
    "# apply scipy optimization\n",
    "p_maximizer_sp = solve_for_p_X_scipy( P_yx  ).x.reshape(X.size)\n",
    "\n",
    "C_sp = get_mutual_information( P_yx, p_maximizer_sp )"
   ]
  },
  {
   "cell_type": "code",
   "execution_count": 13,
   "metadata": {},
   "outputs": [
    {
     "name": "stdout",
     "output_type": "stream",
     "text": [
      "Result of Blahut-Arimoto:\n",
      "-------------------------\n",
      "Capacity is \t\tC = 0.36190097444208913\n",
      "\n",
      "\n",
      "Result of differential evolution:\n",
      "-------------------------\n",
      "Capacity is \t\tC = 0.2809704454419828\n",
      "\n",
      "\n",
      "Result of scipy optimize:\n",
      "-------------------------\n",
      "Capacity is \t\tC = 0.3869806091591883\n",
      "\n",
      "\n",
      "Result when assuming uniform distribution:\n",
      "-------------------------\n",
      "Mutual information is \t\tC = 0.27751427062067613\n"
     ]
    }
   ],
   "source": [
    "if switch == 'bsc':\n",
    "    val = 1 - ( - delta * np.log2( delta ) - ( 1-delta ) * np.log2( 1-delta ) )\n",
    "\n",
    "    print('Theory:')\n",
    "    print('-------------------------')\n",
    "    print( f'Capacity is \\t\\tC = { val }') \n",
    "    print( f'Capacity achieved by \\tp_X = { np.ones( X.size )/X.size }\\n\\n' )\n",
    "\n",
    "if switch == 'bec':\n",
    "    val = 1 - delta\n",
    "\n",
    "    print('Theory:')\n",
    "    print('-------------------------')\n",
    "    print( f'Capacity is \\t\\tC = { val }') \n",
    "    print( f'Capacity achieved by \\tp_X = { np.ones( X.size )/X.size }\\n\\n' )\n",
    "\n",
    "\n",
    "print('Result of Blahut-Arimoto:')\n",
    "print('-------------------------')\n",
    "print( f'Capacity is \\t\\tC = { C_BA }') \n",
    "#print( f'Capacity achieved by \\tp_X = { p_maximizer_BA }' )\n",
    "\n",
    "print('\\n\\nResult of differential evolution:')\n",
    "print('-------------------------')\n",
    "print( f'Capacity is \\t\\tC = { C_de }') \n",
    "#print( f'Capacity achieved by \\tp_X = { p_maximizer_de }' )\n",
    "\n",
    "print('\\n\\nResult of scipy optimize:')\n",
    "print('-------------------------')\n",
    "print( f'Capacity is \\t\\tC = { C_sp }') \n",
    "#print( f'Capacity achieved by \\tp_X = { p_maximizer_sp }' )\n",
    "\n",
    "p_uni = np.ones_like( p_maximizer_de ) / len( p_maximizer_de )\n",
    "C_uni = get_mutual_information( P_yx, p_uni )\n",
    "\n",
    "print('\\n\\nResult when assuming uniform distribution:')\n",
    "print('-------------------------')\n",
    "print( f'Mutual information is \\t\\tC = { C_uni }') \n",
    "#print( f'Mutual information achieved by \\tp_X = { p_uni }' )\n",
    "\n"
   ]
  },
  {
   "cell_type": "code",
   "execution_count": null,
   "metadata": {},
   "outputs": [],
   "source": []
  },
  {
   "cell_type": "code",
   "execution_count": null,
   "metadata": {},
   "outputs": [],
   "source": []
  },
  {
   "cell_type": "code",
   "execution_count": null,
   "metadata": {},
   "outputs": [],
   "source": []
  },
  {
   "cell_type": "code",
   "execution_count": null,
   "metadata": {},
   "outputs": [],
   "source": []
  }
 ],
 "metadata": {
  "kernelspec": {
   "display_name": "Python 3.9.13 ('base')",
   "language": "python",
   "name": "python3"
  },
  "language_info": {
   "codemirror_mode": {
    "name": "ipython",
    "version": 3
   },
   "file_extension": ".py",
   "mimetype": "text/x-python",
   "name": "python",
   "nbconvert_exporter": "python",
   "pygments_lexer": "ipython3",
   "version": "3.9.13"
  },
  "vscode": {
   "interpreter": {
    "hash": "1bf9b466e818f114aa88684763663e3f92502a9e77792b1f61dabc3003ef1245"
   }
  }
 },
 "nbformat": 4,
 "nbformat_minor": 1
}
