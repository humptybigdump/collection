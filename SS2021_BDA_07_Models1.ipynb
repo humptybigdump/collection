{
 "cells": [
  {
   "cell_type": "markdown",
   "metadata": {},
   "source": [
    "# Installing libraries"
   ]
  },
  {
   "cell_type": "code",
   "execution_count": null,
   "metadata": {},
   "outputs": [],
   "source": [
    "# quick & dirty\n",
    "# better to use a separate requirements.txt file\n",
    "!pip install matplotlib numpy scipy scikit-learn "
   ]
  },
  {
   "cell_type": "markdown",
   "metadata": {},
   "source": [
    "# Importing libraries"
   ]
  },
  {
   "cell_type": "code",
   "execution_count": null,
   "metadata": {},
   "outputs": [],
   "source": [
    "# imports\n",
    "import matplotlib.pyplot as plt\n",
    "import numpy as np\n",
    "from scipy.linalg import inv\n",
    "from sklearn.datasets import make_regression, make_classification\n",
    "from sklearn.decomposition import PCA\n",
    "from sklearn.linear_model import LinearRegression, LogisticRegression\n",
    "from sklearn.metrics import mean_squared_error, accuracy_score, mean_absolute_error\n",
    "from sklearn.model_selection import train_test_split, GridSearchCV, KFold\n",
    "from sklearn.tree import DecisionTreeClassifier, plot_tree\n",
    "\n",
    "# set random state for reproducibility\n",
    "kwargs = dict(random_state=42)"
   ]
  },
  {
   "cell_type": "markdown",
   "metadata": {},
   "source": [
    "# Linear regression"
   ]
  },
  {
   "cell_type": "code",
   "execution_count": null,
   "metadata": {},
   "outputs": [],
   "source": [
    "# create dataset\n",
    "X, y = make_regression(n_samples=100, n_features=1, noise=20, bias=50, **kwargs)\n",
    "\n",
    "# split into training and test set\n",
    "X_train, X_test, y_train, y_test = train_test_split(X, y, test_size=0.2, shuffle=True, **kwargs)\n",
    "\n",
    "# plot training set\n",
    "plt.scatter(X_train, y_train)\n",
    "plt.show()"
   ]
  },
  {
   "cell_type": "code",
   "execution_count": null,
   "metadata": {},
   "outputs": [],
   "source": [
    "# fit linear regression model\n",
    "lr = LinearRegression()\n",
    "lr.fit(X_train, y_train)\n",
    "\n",
    "# make predictions on test set\n",
    "y_pred = lr.predict(X_test)\n",
    "\n",
    "# plot training set, regression line, and errors on test set\n",
    "plt.scatter(X_train, y_train)\n",
    "plt.plot(X, lr.predict(X), color=\"green\")\n",
    "plt.scatter(X_test, y_test, color=\"red\")\n",
    "for i in range(len(X_test)):\n",
    "    plt.plot([X_test[i]]*2, [y_test[i], y_pred[i]], color=\"red\")\n",
    "    \n",
    "# calculate mean squared error and mean absolute error\n",
    "for name, metric in zip((\"MSE\", \"MAE\"), (mean_squared_error, mean_absolute_error)):\n",
    "    print(f\"{name}: {metric(y_test, y_pred)}\")"
   ]
  },
  {
   "cell_type": "markdown",
   "metadata": {},
   "source": [
    "# Multiple regression"
   ]
  },
  {
   "cell_type": "code",
   "execution_count": null,
   "metadata": {},
   "outputs": [],
   "source": [
    "# create dataset with 2 features\n",
    "X, y = make_regression(n_samples=100, n_features=2, noise=20, bias=50, **kwargs)\n",
    "\n",
    "# fit linear regression model\n",
    "lr = LinearRegression()\n",
    "lr.fit(X, y)\n",
    "\n",
    "# calculate intercept and coefficients \"by hand\"\n",
    "X = np.c_[np.ones(X.shape[0]), X]\n",
    "theta = inv(X.T.dot(X)).dot(X.T).dot(y)\n",
    "\n",
    "# check that intercept and coefficients are equal\n",
    "print(theta)\n",
    "print(lr.intercept_, lr.coef_)"
   ]
  },
  {
   "cell_type": "markdown",
   "metadata": {},
   "source": [
    "# Logistic regression"
   ]
  },
  {
   "cell_type": "code",
   "execution_count": null,
   "metadata": {},
   "outputs": [],
   "source": [
    "# create classification dataset\n",
    "X, y = make_classification(n_samples=1000, n_classes=2, n_features=2, n_informative=2, n_redundant=0, flip_y=0.05, n_clusters_per_class=1, **kwargs)\n",
    "\n",
    "# split into training and test set\n",
    "X_train, X_test, y_train, y_test = train_test_split(X, y, test_size=0.2, shuffle=True, **kwargs)\n",
    "\n",
    "# visualize training dataset\n",
    "for label in np.unique(y_train):\n",
    "    mask = y_train == label\n",
    "    plt.scatter(X_train[mask, 0], X_train[mask, 1])"
   ]
  },
  {
   "cell_type": "code",
   "execution_count": null,
   "metadata": {},
   "outputs": [],
   "source": [
    "# fit logistic regression model\n",
    "logr = LogisticRegression(max_iter=1000, **kwargs)\n",
    "logr.fit(X_train, y_train)\n",
    "\n",
    "# evaluate model\n",
    "y_pred = logr.predict(X_test)\n",
    "print(\"Accuracy:\", accuracy_score(y_test, y_pred))"
   ]
  },
  {
   "cell_type": "markdown",
   "metadata": {},
   "source": [
    "# Decision trees / train-validation-test split"
   ]
  },
  {
   "cell_type": "code",
   "execution_count": null,
   "metadata": {},
   "outputs": [],
   "source": [
    "# create classification dataset with low signal-to-noise ratio\n",
    "X, y = make_classification(n_samples=10000, n_classes=3, n_features=10, n_informative=2, n_redundant=8, flip_y=0.2, n_clusters_per_class=1, **kwargs)\n",
    "\n",
    "# split into training, validation, and test set\n",
    "X_train_all, X_test, y_train_all, y_test = train_test_split(X, y, test_size=0.2, shuffle=True, **kwargs)\n",
    "X_train, X_val, y_train, y_val = train_test_split(X_train_all, y_train_all, test_size=0.2, shuffle=True, **kwargs)\n",
    "\n",
    "# compare decision trees with max_depth None (no limit) and 2 on validation set and visualize tree\n",
    "for max_depth in (None, 2):\n",
    "    dt = DecisionTreeClassifier(max_depth=max_depth, **kwargs)\n",
    "    dt.fit(X_train, y_train)\n",
    "    y_pred = dt.predict(X_val)\n",
    "    print(\"Accuracy:\", accuracy_score(y_val, y_pred))\n",
    "    plot_tree(dt)\n",
    "    \n",
    "# max_depth 2 was better --> re-fit on training + validation set\n",
    "dt = DecisionTreeClassifier(max_depth=2, **kwargs)\n",
    "dt.fit(X_train_all, y_train_all)\n",
    "\n",
    "# evaluate final model on test set\n",
    "print(\"Accuracy:\", accuracy_score(y_test, dt.predict(X_test)))"
   ]
  },
  {
   "cell_type": "markdown",
   "metadata": {},
   "source": [
    "# Cross validation / bias-variance trade-off"
   ]
  },
  {
   "cell_type": "code",
   "execution_count": null,
   "metadata": {},
   "outputs": [],
   "source": [
    "# compare max_depth from 1 to 50 using 5-fold cross-validation on training (+ validation) set\n",
    "gs = GridSearchCV(DecisionTreeClassifier(**kwargs), {\"max_depth\": range(1, 51)}, cv=KFold(5, shuffle=True, **kwargs), refit=True, return_train_score=True)\n",
    "gs.fit(X_train_all, y_train_all)\n",
    "\n",
    "# best configuration\n",
    "gs.best_estimator_"
   ]
  },
  {
   "cell_type": "code",
   "execution_count": null,
   "metadata": {},
   "outputs": [],
   "source": [
    "# plot training and validation accuracies for all values of max_depth\n",
    "# overfitting is apparent: training accuracy increases, validation accuracy decreases\n",
    "res = gs.cv_results_\n",
    "plt.plot(res[\"param_max_depth\"].data, res[\"mean_test_score\"], label=\"validation set\")\n",
    "plt.plot(res[\"param_max_depth\"].data, res[\"mean_train_score\"], label=\"training set\")\n",
    "plt.xlabel(\"max_depth\")\n",
    "plt.ylabel(\"Mean accuracy\")\n",
    "plt.legend()\n",
    "plt.show()"
   ]
  },
  {
   "cell_type": "code",
   "execution_count": null,
   "metadata": {},
   "outputs": [],
   "source": [
    "# evaluate model with best configuration on test set\n",
    "y_pred = gs.predict(X_test)\n",
    "print(accuracy_score(y_test, y_pred))"
   ]
  },
  {
   "cell_type": "code",
   "execution_count": null,
   "metadata": {},
   "outputs": [],
   "source": []
  }
 ],
 "metadata": {
  "kernelspec": {
   "display_name": "Python 3",
   "language": "python",
   "name": "python3"
  },
  "language_info": {
   "codemirror_mode": {
    "name": "ipython",
    "version": 3
   },
   "file_extension": ".py",
   "mimetype": "text/x-python",
   "name": "python",
   "nbconvert_exporter": "python",
   "pygments_lexer": "ipython3",
   "version": "3.8.8"
  }
 },
 "nbformat": 4,
 "nbformat_minor": 4
}
