{
 "cells": [
  {
   "cell_type": "markdown",
   "id": "5215bfae",
   "metadata": {},
   "source": [
    "# Organisatorisches\n",
    "\n",
    "- #### Heute ist Deadline für Klausuranmeldung (06.02.2023)\n",
    "\n",
    "- #### Die ersten Projektabgaben wurden bereits korrigiert --> Note in Ilias = Bonuspunkte\n",
    "\n",
    "- #### [Evaluation Übung](https://onlineumfrage.kit.edu/evasys/online.php?p=F3ZLD)\n",
    "![](https://git.scc.kit.edu/vy9905/ml2images/-/raw/main/qr-eva-uebung.png): https://onlineumfrage.kit.edu mit TAN/Losung = UESZ4\n",
    "  - Code stark reduziert und durch \"mathematische\" Aufgaben für bessere Klausurvorbereitung ersetzt. So beibehalten oder etwas mehr Code?\n",
    "  - Auch für Projektabgabe (am besten in Freitextfeldern):\n",
    "      - Fandet ihr sie gut/schlecht. Zielsetzung klar?\n",
    "      - Auch für Studierende die sie nicht bearbeitet haben: Woran lags? \n",
    "          - Grundsätzlich im Semester zuwenig Zeit? \n",
    "          - Zu wenig Hilfestellung?\n",
    "          - Arbeitsumfang zu aufwändig für einen Notenschritt?"
   ]
  },
  {
   "cell_type": "markdown",
   "id": "7d25d827",
   "metadata": {},
   "source": [
    "# Decision Trees:\n",
    "We will use the dataset below to learn a decision tree that predicts if we play tennis (Yes or No). Based on the attribute, Temperature (hot or cold), Outlook (sunny, overcast or rain), Humidity (high or normal), and Wind (weak or strong)\n",
    "\n",
    "Training Dataset:\n",
    "\n",
    "|Outlook  |  Temperatur | Humidity | Wind | PlayTennis|  \n",
    "| ----------- | ----------- |----------- | ----------- | ----------- |\n",
    "|sunny    |  hot  |   high  | weak    | no\n",
    "|sunny    |  hot  |   high  | strong  | no\n",
    "|overcast |  hot  |   high  | weak    | yes\n",
    "|rain     | mild  |   high  | weak    | yes\n",
    "|rain     | cold  |   normal|  weak   | yes\n",
    "|rain     | cold  |   normal|  strong | no\n",
    "|overcast | cold  |   normal|  strong | yes\n",
    "|sunny    |  mild |   high  |  weak   | no\n",
    "|sunny    |  cold |   normal|  weak   | yes\n",
    "|rain     | mild  |  normal | weak    | yes\n",
    "|sunny    | mild  |  normal | strong  | yes\n",
    "|overcast | mild  | high    | strong  | yes\n",
    "|overcast | hot   | normal  | weak    | yes\n",
    "|rain     | mild  |  high   | strong  | no\n",
    "\n",
    "\n",
    "New Sample:\n",
    "\n",
    "|Outlook  |  Temperatur | Humidity | Wind | PlayTennis|  \n",
    "| ----------- | ----------- |----------- | ----------- | ----------- |\n",
    "|rain     |  mild  |  normal  | strong | ?\n",
    "\n",
    "\n",
    "The following mathematical questions are possible in an exam. \n",
    "\n",
    "\n",
    "Careful, you will need to calculate $\\log_2$ which most calculators can't do by default\n",
    "\n",
    "$$ log_b x = \\frac{log_d x}{log_d b} $$\n",
    "\n",
    "$$ log_2 x = \\frac{\\log_{10} x}{\\log_{10} 2} \\quad \\text{  or  } \\quad \\frac{\\ln x}{\\ln 2}$$\n",
    "\n",
    "1. What is the entropy $H(PlayTennis)$?\n",
    "2. What is the conditional entropy $H(PlayTennis |Humidity)$? \n",
    "3. What is the conditional entropy $H(PlayTennis| Wind)$?\n",
    "4. What is the information gain  $IG(Humidity)$?\n",
    "5. What is the information gain  $IG(Wind)$?\n",
    "6. What feature will we split on at the root? Why?\n",
    "7. Calculate the whole tree with ID3.\n",
    "7. How is the new sample classified?"
   ]
  },
  {
   "cell_type": "code",
   "execution_count": 1,
   "id": "ea60c1e6",
   "metadata": {},
   "outputs": [
    {
     "data": {
      "text/html": [
       "<div>\n",
       "<style scoped>\n",
       "    .dataframe tbody tr th:only-of-type {\n",
       "        vertical-align: middle;\n",
       "    }\n",
       "\n",
       "    .dataframe tbody tr th {\n",
       "        vertical-align: top;\n",
       "    }\n",
       "\n",
       "    .dataframe thead th {\n",
       "        text-align: right;\n",
       "    }\n",
       "</style>\n",
       "<table border=\"1\" class=\"dataframe\">\n",
       "  <thead>\n",
       "    <tr style=\"text-align: right;\">\n",
       "      <th></th>\n",
       "      <th>Outlook</th>\n",
       "      <th>Temperature</th>\n",
       "      <th>Humidity</th>\n",
       "      <th>Wind</th>\n",
       "      <th>PlayTennis</th>\n",
       "    </tr>\n",
       "  </thead>\n",
       "  <tbody>\n",
       "    <tr>\n",
       "      <th>0</th>\n",
       "      <td>sunny</td>\n",
       "      <td>hot</td>\n",
       "      <td>high</td>\n",
       "      <td>weak</td>\n",
       "      <td>0</td>\n",
       "    </tr>\n",
       "    <tr>\n",
       "      <th>1</th>\n",
       "      <td>sunny</td>\n",
       "      <td>hot</td>\n",
       "      <td>high</td>\n",
       "      <td>strong</td>\n",
       "      <td>0</td>\n",
       "    </tr>\n",
       "    <tr>\n",
       "      <th>2</th>\n",
       "      <td>overcast</td>\n",
       "      <td>hot</td>\n",
       "      <td>high</td>\n",
       "      <td>weak</td>\n",
       "      <td>1</td>\n",
       "    </tr>\n",
       "    <tr>\n",
       "      <th>3</th>\n",
       "      <td>rain</td>\n",
       "      <td>mild</td>\n",
       "      <td>high</td>\n",
       "      <td>weak</td>\n",
       "      <td>1</td>\n",
       "    </tr>\n",
       "    <tr>\n",
       "      <th>4</th>\n",
       "      <td>rain</td>\n",
       "      <td>cold</td>\n",
       "      <td>normal</td>\n",
       "      <td>weak</td>\n",
       "      <td>1</td>\n",
       "    </tr>\n",
       "    <tr>\n",
       "      <th>5</th>\n",
       "      <td>rain</td>\n",
       "      <td>cold</td>\n",
       "      <td>normal</td>\n",
       "      <td>strong</td>\n",
       "      <td>0</td>\n",
       "    </tr>\n",
       "    <tr>\n",
       "      <th>6</th>\n",
       "      <td>overcast</td>\n",
       "      <td>cold</td>\n",
       "      <td>normal</td>\n",
       "      <td>strong</td>\n",
       "      <td>1</td>\n",
       "    </tr>\n",
       "    <tr>\n",
       "      <th>7</th>\n",
       "      <td>sunny</td>\n",
       "      <td>mild</td>\n",
       "      <td>high</td>\n",
       "      <td>weak</td>\n",
       "      <td>0</td>\n",
       "    </tr>\n",
       "    <tr>\n",
       "      <th>8</th>\n",
       "      <td>sunny</td>\n",
       "      <td>cold</td>\n",
       "      <td>normal</td>\n",
       "      <td>weak</td>\n",
       "      <td>1</td>\n",
       "    </tr>\n",
       "    <tr>\n",
       "      <th>9</th>\n",
       "      <td>rain</td>\n",
       "      <td>mild</td>\n",
       "      <td>normal</td>\n",
       "      <td>weak</td>\n",
       "      <td>1</td>\n",
       "    </tr>\n",
       "    <tr>\n",
       "      <th>10</th>\n",
       "      <td>sunny</td>\n",
       "      <td>mild</td>\n",
       "      <td>normal</td>\n",
       "      <td>strong</td>\n",
       "      <td>1</td>\n",
       "    </tr>\n",
       "    <tr>\n",
       "      <th>11</th>\n",
       "      <td>overcast</td>\n",
       "      <td>mild</td>\n",
       "      <td>high</td>\n",
       "      <td>strong</td>\n",
       "      <td>1</td>\n",
       "    </tr>\n",
       "    <tr>\n",
       "      <th>12</th>\n",
       "      <td>overcast</td>\n",
       "      <td>hot</td>\n",
       "      <td>normal</td>\n",
       "      <td>weak</td>\n",
       "      <td>1</td>\n",
       "    </tr>\n",
       "    <tr>\n",
       "      <th>13</th>\n",
       "      <td>rain</td>\n",
       "      <td>mild</td>\n",
       "      <td>high</td>\n",
       "      <td>strong</td>\n",
       "      <td>0</td>\n",
       "    </tr>\n",
       "  </tbody>\n",
       "</table>\n",
       "</div>"
      ],
      "text/plain": [
       "     Outlook Temperature Humidity    Wind  PlayTennis\n",
       "0      sunny         hot     high    weak           0\n",
       "1      sunny         hot     high  strong           0\n",
       "2   overcast         hot     high    weak           1\n",
       "3       rain        mild     high    weak           1\n",
       "4       rain        cold   normal    weak           1\n",
       "5       rain        cold   normal  strong           0\n",
       "6   overcast        cold   normal  strong           1\n",
       "7      sunny        mild     high    weak           0\n",
       "8      sunny        cold   normal    weak           1\n",
       "9       rain        mild   normal    weak           1\n",
       "10     sunny        mild   normal  strong           1\n",
       "11  overcast        mild     high  strong           1\n",
       "12  overcast         hot   normal    weak           1\n",
       "13      rain        mild     high  strong           0"
      ]
     },
     "execution_count": 1,
     "metadata": {},
     "output_type": "execute_result"
    }
   ],
   "source": [
    "import pandas as pd\n",
    "import numpy as np\n",
    "from collections import Counter\n",
    "\n",
    "dataset = pd.DataFrame({'Outlook':['sunny','sunny','overcast','rain','rain','rain','overcast','sunny','sunny','rain','sunny','overcast','overcast','rain'],  \n",
    "                        'Temperature':['hot','hot','hot','mild','cold','cold','cold','mild','cold','mild','mild','mild','hot','mild'], \n",
    "                        'Humidity':['high','high','high','high','normal','normal','normal','high','normal','normal','normal','high','normal','high'], \n",
    "                        'Wind' :['weak','strong','weak','weak','weak','strong','strong','weak','weak','weak','strong','strong','weak','strong'], \n",
    "                        'PlayTennis':[0,0,1,1,1,0,1,0,1,1,1,1,1,0]})\n",
    "dataset"
   ]
  },
  {
   "cell_type": "markdown",
   "id": "e9b09f70",
   "metadata": {},
   "source": [
    "### What is the entropy $H(PlayTennis)$?\n",
    "\n",
    "Entropy is a measure of uncertainty. If I sample from a distribution, do I already now beforehand what I'll get?\n",
    "\n",
    "\n",
    "Entropy:\n",
    "$$H(Y) = - \\sum_{i=1}^k P(Y=y_i) \\log_2 P(Y=y_i)$$"
   ]
  },
  {
   "cell_type": "markdown",
   "id": "721605bc",
   "metadata": {},
   "source": [
    "$$P(PlayTennis ==  yes) = \\frac{9}{14}$$\n",
    "$$P(PlayTennis ==  no) = \\frac{5}{14}$$\n",
    "$$ H(PlayTennis) =  - \\frac{9}{14} * \\log_2 (\\frac{9}{14})  - \\frac{5}{14} * \\log_2 (\\frac{5}{14}) ~= 0.94 $$"
   ]
  },
  {
   "cell_type": "code",
   "execution_count": 2,
   "id": "bd5623fc",
   "metadata": {},
   "outputs": [
    {
     "name": "stdout",
     "output_type": "stream",
     "text": [
      "0.940285958670631\n"
     ]
    }
   ],
   "source": [
    "from scipy.stats import entropy\n",
    "P_tennis       = 9/14\n",
    "P_no_tennis    = 5/14\n",
    "\n",
    "entropy_tennis = entropy([P_tennis, P_no_tennis], base=2)\n",
    "print(entropy_tennis)"
   ]
  },
  {
   "cell_type": "code",
   "execution_count": 3,
   "id": "6a00d8c1",
   "metadata": {},
   "outputs": [],
   "source": [
    "# program entropy calculation ourself\n",
    "from math import log\n",
    "\n",
    "def entropy_(data, verbose=False):\n",
    "    value,counts = np.unique(data, return_counts=True)\n",
    "    if verbose:\n",
    "        print(\"value\", value)\n",
    "        print(\"counts\", counts)\n",
    "    probs = counts / len(data)\n",
    "    ent = 0\n",
    "    for p in probs:\n",
    "        if p > 0.:\n",
    "            ent -= p * log(p, 2)\n",
    "    return ent"
   ]
  },
  {
   "cell_type": "code",
   "execution_count": 4,
   "id": "8ab4a823",
   "metadata": {},
   "outputs": [
    {
     "name": "stdout",
     "output_type": "stream",
     "text": [
      "value [0 1]\n",
      "counts [5 9]\n",
      "0.9402859586706309\n"
     ]
    }
   ],
   "source": [
    "print(entropy_(dataset['PlayTennis'], verbose=True))"
   ]
  },
  {
   "cell_type": "markdown",
   "id": "6563987d",
   "metadata": {},
   "source": [
    "### What is the conditional entropy $H(PlayTennis|Humidity)$ ?\n",
    "\n",
    "$$P(Humidity =  high)   = \\frac{7}{14}$$\n",
    "$$P(Humidity =  normal) = \\frac{7}{14}$$"
   ]
  },
  {
   "cell_type": "code",
   "execution_count": 5,
   "id": "04ffe686",
   "metadata": {},
   "outputs": [
    {
     "name": "stdout",
     "output_type": "stream",
     "text": [
      "     Outlook Temperature Humidity    Wind  PlayTennis\n",
      "0      sunny         hot     high    weak           0\n",
      "1      sunny         hot     high  strong           0\n",
      "2   overcast         hot     high    weak           1\n",
      "3       rain        mild     high    weak           1\n",
      "7      sunny        mild     high    weak           0\n",
      "11  overcast        mild     high  strong           1\n",
      "13      rain        mild     high  strong           0\n"
     ]
    }
   ],
   "source": [
    "high_humid = dataset[dataset['Humidity']=='high']\n",
    "print(high_humid)"
   ]
  },
  {
   "cell_type": "markdown",
   "id": "ee4c83da",
   "metadata": {},
   "source": [
    "$$ H(PlayTennis|Humidity=high) =  - \\frac{4}{7} * \\log_2 (\\frac{4}{7})  - \\frac{3}{7} * \\log_2 (\\frac{3}{7})  \\approx 0.99$$"
   ]
  },
  {
   "cell_type": "code",
   "execution_count": 6,
   "id": "b92ea7cb",
   "metadata": {},
   "outputs": [
    {
     "data": {
      "text/plain": [
       "0.9852281360342516"
      ]
     },
     "execution_count": 6,
     "metadata": {},
     "output_type": "execute_result"
    }
   ],
   "source": [
    "- 4/7 * log(4/7 ,2)  - 3/7 * log(3/7 , 2)"
   ]
  },
  {
   "cell_type": "code",
   "execution_count": 7,
   "id": "75f497dc",
   "metadata": {},
   "outputs": [
    {
     "name": "stdout",
     "output_type": "stream",
     "text": [
      "     Outlook Temperature Humidity    Wind  PlayTennis\n",
      "4       rain        cold   normal    weak           1\n",
      "5       rain        cold   normal  strong           0\n",
      "6   overcast        cold   normal  strong           1\n",
      "8      sunny        cold   normal    weak           1\n",
      "9       rain        mild   normal    weak           1\n",
      "10     sunny        mild   normal  strong           1\n",
      "12  overcast         hot   normal    weak           1\n"
     ]
    }
   ],
   "source": [
    "normal_humid = dataset[dataset['Humidity']=='normal']\n",
    "print(normal_humid)"
   ]
  },
  {
   "cell_type": "markdown",
   "id": "4585cf1e",
   "metadata": {},
   "source": [
    "$$ H(PlayTennis|Humidity=normal) =  - \\frac{1}{7} * \\log_2 (\\frac{1}{7})  - \\frac{6}{7} * \\log_2 (\\frac{6}{7}) \\approx 0.59 $$"
   ]
  },
  {
   "cell_type": "code",
   "execution_count": 8,
   "id": "4709c975",
   "metadata": {},
   "outputs": [
    {
     "data": {
      "text/plain": [
       "0.5916727785823275"
      ]
     },
     "execution_count": 8,
     "metadata": {},
     "output_type": "execute_result"
    }
   ],
   "source": [
    "- 1/7 * log(1/7 ,2)  - 6/7 * log(6/7 , 2)"
   ]
  },
  {
   "cell_type": "markdown",
   "id": "8aa97dbb",
   "metadata": {},
   "source": [
    "#### Putting it together\n",
    "$$ H(PlayTennis|Humidity) =  P(Humidity=normal) H(PlayTennis|Humidity=normal)  + P(Humidity=high) H(PlayTennis|Humidity=high)$$\n",
    "\n",
    "$$= \\frac{7}{14}*0.99 + \\frac{7}{14}*0.59 \\approx 0.79$$\n",
    "\n",
    "$$H(PlayTennis|Humidity)  \\approx 0.79$$"
   ]
  },
  {
   "cell_type": "code",
   "execution_count": 9,
   "id": "70cebd1f",
   "metadata": {},
   "outputs": [
    {
     "data": {
      "text/plain": [
       "0.79"
      ]
     },
     "execution_count": 9,
     "metadata": {},
     "output_type": "execute_result"
    }
   ],
   "source": [
    "7/14 * 0.99 + 7/14 *  0.59 ## Runden auf 2 Nachkommastellen"
   ]
  },
  {
   "cell_type": "code",
   "execution_count": 10,
   "id": "42875b0b",
   "metadata": {},
   "outputs": [],
   "source": [
    "def centropy_(data,attribute1,attribute2, verbose=False):\n",
    "    value,counts = np.unique(data[attribute2],return_counts=True)\n",
    "    probs = counts / len(data)\n",
    "    cent = 0\n",
    "    for v,p in zip(value,probs):\n",
    "        _data =  data[attribute1][data[attribute2]==v]\n",
    "        ent   = entropy_(_data)\n",
    "        if p > 0.:\n",
    "            cent += p * ent\n",
    "    return cent"
   ]
  },
  {
   "cell_type": "code",
   "execution_count": 11,
   "id": "28a73c39",
   "metadata": {},
   "outputs": [
    {
     "data": {
      "text/plain": [
       "0.7884504573082896"
      ]
     },
     "execution_count": 11,
     "metadata": {},
     "output_type": "execute_result"
    }
   ],
   "source": [
    "centropy_(dataset,'PlayTennis','Humidity')"
   ]
  },
  {
   "cell_type": "markdown",
   "id": "c05dcfea",
   "metadata": {},
   "source": [
    "### What is the conditional entropy H(PlayTennis|Wind)"
   ]
  },
  {
   "cell_type": "code",
   "execution_count": 12,
   "id": "86cd4373",
   "metadata": {},
   "outputs": [
    {
     "data": {
      "text/plain": [
       "0.8921589282623617"
      ]
     },
     "execution_count": 12,
     "metadata": {},
     "output_type": "execute_result"
    }
   ],
   "source": [
    "centropy_(dataset,'PlayTennis','Wind')"
   ]
  },
  {
   "cell_type": "markdown",
   "id": "823ed321",
   "metadata": {},
   "source": [
    "$$P(Wind =  strong)   = \\frac{6}{14}$$ \\\n",
    "$$P(Wind =  weak)   =   \\frac{8}{14}$$ \\\n",
    "$$H(PlayTennis?|Wind=weak) = - \\frac{6}{8}*\\log_2\\frac{6}{8} - \\frac{2}{8}*\\log_2\\frac{2}{8} \\approx 0.81$$ \\\n",
    "$$H(PlayTennis?|Wind=strong) = - \\frac{3}{6}*\\log_2\\frac{3}{6} - \\frac{3}{6}*\\log_2\\frac{3}{6} = 1$$ \\\n",
    "$$H(PlayTennis?|Wind) = \\frac{6}{14}*1 + \\frac{8}{14}*0.81 \\approx 0.89 $$"
   ]
  },
  {
   "cell_type": "markdown",
   "id": "aaa03fd0",
   "metadata": {},
   "source": [
    "### What is the information gain $IG(Humidity)$?\n",
    "\n",
    "$$ IG(Humidity) = H(PlayTennis?)- H(PlayTennis?|Humidity)$$   \\\n",
    "$$IG(Humidity) = 0.94 - 0.79= 0.15$$ "
   ]
  },
  {
   "cell_type": "code",
   "execution_count": 13,
   "id": "03b49f72",
   "metadata": {},
   "outputs": [],
   "source": [
    "def ig(data,attribute1,attribute2):\n",
    "    return entropy_(data[attribute1]) - centropy_(data,attribute1,attribute2)      "
   ]
  },
  {
   "cell_type": "code",
   "execution_count": 14,
   "id": "9dfc9bdb",
   "metadata": {},
   "outputs": [
    {
     "name": "stdout",
     "output_type": "stream",
     "text": [
      "0.15183550136234136\n"
     ]
    }
   ],
   "source": [
    "print(ig(dataset,'PlayTennis','Humidity'))"
   ]
  },
  {
   "cell_type": "markdown",
   "id": "9636bd6c",
   "metadata": {},
   "source": [
    "### What is the information gain $IG(Wind)$?"
   ]
  },
  {
   "cell_type": "code",
   "execution_count": 15,
   "id": "974a3cdf",
   "metadata": {},
   "outputs": [
    {
     "name": "stdout",
     "output_type": "stream",
     "text": [
      "0.04812703040826927\n"
     ]
    }
   ],
   "source": [
    "print(ig(dataset,'PlayTennis','Wind'))"
   ]
  },
  {
   "cell_type": "markdown",
   "id": "cbf7e89d",
   "metadata": {},
   "source": [
    "## If we only look at these two features, which feature will we split on at the root? Why?"
   ]
  },
  {
   "cell_type": "markdown",
   "id": "634c9bc6",
   "metadata": {},
   "source": [
    "We will use Humidity and split into high and normal humidity.\n",
    "\n",
    "Reason: Information Gain is higher for humidity as for wind"
   ]
  },
  {
   "cell_type": "markdown",
   "id": "87923d25",
   "metadata": {},
   "source": [
    "### And if we use all features?"
   ]
  },
  {
   "cell_type": "code",
   "execution_count": 16,
   "id": "9b45b61c",
   "metadata": {},
   "outputs": [
    {
     "name": "stdout",
     "output_type": "stream",
     "text": [
      "Information Gain of splitting feature Outlook is 0.2467498197744391\n",
      "Information Gain of splitting feature Temperature is 0.029222565658954647\n",
      "Information Gain of splitting feature Humidity is 0.15183550136234136\n",
      "Information Gain of splitting feature Wind is 0.04812703040826927\n"
     ]
    }
   ],
   "source": [
    "for feature in list(dataset.columns)[:-1]:\n",
    "    print(f\"Information Gain of splitting feature {feature} is {ig(dataset, 'PlayTennis', feature)}\")"
   ]
  },
  {
   "cell_type": "markdown",
   "id": "bbf315e5",
   "metadata": {},
   "source": [
    "#### Split on  outlook, it has the highest Information Gain"
   ]
  },
  {
   "cell_type": "code",
   "execution_count": 17,
   "id": "ddbcf6d0",
   "metadata": {},
   "outputs": [
    {
     "name": "stdout",
     "output_type": "stream",
     "text": [
      "   Outlook Temperature Humidity    Wind  PlayTennis\n",
      "0    sunny         hot     high    weak           0\n",
      "1    sunny         hot     high  strong           0\n",
      "7    sunny        mild     high    weak           0\n",
      "8    sunny        cold   normal    weak           1\n",
      "10   sunny        mild   normal  strong           1\n"
     ]
    }
   ],
   "source": [
    "data2 = dataset[dataset['Outlook']=='sunny']\n",
    "print(data2)"
   ]
  },
  {
   "cell_type": "markdown",
   "id": "e27eeefb",
   "metadata": {},
   "source": [
    "$$P(Outlook = sunny)   = \\frac{5}{14}$$ \\\n",
    "$$P(Outlook =  overcast)   =   \\frac{4}{14}$$ \\\n",
    "$$P(Outlook =  rain)   =   \\frac{5}{14}$$ \n",
    "\n",
    "$$H(PlayTennis|Outlook=sunny) = - \\frac{2}{5}*\\log_2\\frac{2}{5} - \\frac{3}{5}*\\log_2\\frac{3}{5} \\approx 0.97$$ \\\n",
    "$$H(PlayTennis|Outlook=overcast) = - \\frac{0}{4}*\\log_2\\frac{0}{4} - \\frac{4}{4}*\\log_2\\frac{4}{4} = 0$$ \\\n",
    "$$H(PlayTennis|Outlook=rain) = - \\frac{2}{5}*\\log_2\\frac{2}{5} - \\frac{3}{5}*\\log_2\\frac{3}{5} \\approx 0.97$$ \n",
    "\n",
    "$$IG(Outlook) = 0.94 - (\\frac{5}{14}*0.97 + \\frac{4}{14}*0 +  \\frac{5}{14}*0.97) \\approx 0.25$$\n",
    "\n",
    "                                                            Outlook\n",
    "                                                              /|\\\n",
    "                                                             / | \\\n",
    "                                                            /  |  \\\n",
    "                                                           /   |   \\\n",
    "                                                        sun   over  rain\n",
    "                                                        /      |     \\\n",
    "                                                       /       |      \\"
   ]
  },
  {
   "cell_type": "markdown",
   "id": "66491274",
   "metadata": {},
   "source": [
    "### ID3 Algorithm\n",
    "\n",
    "Split the tree recursively until Entropy is 0 or no attributes are left"
   ]
  },
  {
   "cell_type": "code",
   "execution_count": 22,
   "id": "42c78d24",
   "metadata": {},
   "outputs": [
    {
     "name": "stdout",
     "output_type": "stream",
     "text": [
      " Split sunny \n",
      "    Outlook Temperature Humidity    Wind  PlayTennis\n",
      "0    sunny         hot     high    weak           0\n",
      "1    sunny         hot     high  strong           0\n",
      "7    sunny        mild     high    weak           0\n",
      "8    sunny        cold   normal    weak           1\n",
      "10   sunny        mild   normal  strong           1 \n",
      " has entropy 0.9709505944546686 \n",
      "\n",
      "\n",
      " Split overcast \n",
      "      Outlook Temperature Humidity    Wind  PlayTennis\n",
      "2   overcast         hot     high    weak           1\n",
      "6   overcast        cold   normal  strong           1\n",
      "11  overcast        mild     high  strong           1\n",
      "12  overcast         hot   normal    weak           1 \n",
      " has entropy 0.0 \n",
      "\n",
      "\n",
      " Split rain \n",
      "    Outlook Temperature Humidity    Wind  PlayTennis\n",
      "3     rain        mild     high    weak           1\n",
      "4     rain        cold   normal    weak           1\n",
      "5     rain        cold   normal  strong           0\n",
      "9     rain        mild   normal    weak           1\n",
      "13    rain        mild     high  strong           0 \n",
      " has entropy 0.9709505944546686 \n",
      "\n",
      "\n"
     ]
    }
   ],
   "source": [
    "sunny = dataset[dataset['Outlook']=='sunny']\n",
    "overcast = dataset[dataset['Outlook']=='overcast']\n",
    "rain = dataset[dataset['Outlook']=='rain']\n",
    "\n",
    "split = {\"sunny\": sunny, \"overcast\": overcast, \"rain\":rain}\n",
    "\n",
    "for i in split:\n",
    "    print(f' Split {i} \\n {split[i]} \\n has entropy {entropy_(split[i][\"PlayTennis\"])} \\n\\n')"
   ]
  },
  {
   "cell_type": "markdown",
   "id": "5b42d569",
   "metadata": {},
   "source": [
    "#### Information Gain for Sunny "
   ]
  },
  {
   "cell_type": "code",
   "execution_count": 19,
   "id": "f5b7223d",
   "metadata": {},
   "outputs": [
    {
     "name": "stdout",
     "output_type": "stream",
     "text": [
      "Information Gain of splitting feature Outlook is 0.0\n",
      "Information Gain of splitting feature Temperature is 0.5709505944546686\n",
      "Information Gain of splitting feature Humidity is 0.9709505944546686\n",
      "Information Gain of splitting feature Wind is 0.01997309402197489\n"
     ]
    }
   ],
   "source": [
    "for feature in list(sunny.columns)[:-1]:\n",
    "    print(f\"Information Gain of splitting feature {feature} is {ig(sunny, 'PlayTennis', feature)}\")"
   ]
  },
  {
   "cell_type": "markdown",
   "id": "c7618a24",
   "metadata": {},
   "source": [
    "#### Information Gain for Rain"
   ]
  },
  {
   "cell_type": "code",
   "execution_count": 20,
   "id": "78a9821a",
   "metadata": {},
   "outputs": [
    {
     "name": "stdout",
     "output_type": "stream",
     "text": [
      "Information Gain of splitting feature Outlook is 0.0\n",
      "Information Gain of splitting feature Temperature is 0.01997309402197489\n",
      "Information Gain of splitting feature Humidity is 0.01997309402197489\n",
      "Information Gain of splitting feature Wind is 0.9709505944546686\n"
     ]
    }
   ],
   "source": [
    "for feature in list(rain.columns)[:-1]:\n",
    "    print(f\"Information Gain of splitting feature {feature} is {ig(rain, 'PlayTennis', feature)}\")"
   ]
  },
  {
   "cell_type": "markdown",
   "id": "63d4641b",
   "metadata": {},
   "source": [
    "First we split on outlook, now we split on humidity and wind\n",
    "\n",
    "               Outlook\n",
    "                 /|\\\n",
    "                / | \\\n",
    "               /  |  \\\n",
    "              /   |   \\\n",
    "           sun   over  rain\n",
    "           /      |     \\\n",
    "          /       |      \\\n",
    "         /       yes      \\\n",
    "      Humid              Wind\n",
    "       /\\                 /\\\n",
    "      /  \\               /  \\\n",
    "    high  normal       weak strong"
   ]
  },
  {
   "cell_type": "markdown",
   "id": "9acc2035",
   "metadata": {},
   "source": [
    "### And that's it. Now every split has Entropy == 0"
   ]
  },
  {
   "cell_type": "code",
   "execution_count": 21,
   "id": "f4fd21fe",
   "metadata": {},
   "outputs": [
    {
     "name": "stdout",
     "output_type": "stream",
     "text": [
      "split sunny high has entropy 0.0\n",
      "  Outlook Temperature Humidity    Wind  PlayTennis\n",
      "0   sunny         hot     high    weak           0\n",
      "1   sunny         hot     high  strong           0\n",
      "7   sunny        mild     high    weak           0\n",
      "\n",
      "\n",
      "split sunny normal has entropy 0.0\n",
      "   Outlook Temperature Humidity    Wind  PlayTennis\n",
      "8    sunny        cold   normal    weak           1\n",
      "10   sunny        mild   normal  strong           1\n",
      "\n",
      "\n",
      "split rain weak has entropy 0.0\n",
      "  Outlook Temperature Humidity  Wind  PlayTennis\n",
      "3    rain        mild     high  weak           1\n",
      "4    rain        cold   normal  weak           1\n",
      "9    rain        mild   normal  weak           1\n",
      "\n",
      "\n",
      "split rain strong has entropy 0.0\n",
      "   Outlook Temperature Humidity    Wind  PlayTennis\n",
      "5     rain        cold   normal  strong           0\n",
      "13    rain        mild     high  strong           0\n",
      "\n",
      "\n"
     ]
    }
   ],
   "source": [
    "sh = sunny[sunny['Humidity']=='high']\n",
    "sn = sunny[sunny['Humidity']=='normal']\n",
    "\n",
    "rw = rain[rain['Wind']=='weak']\n",
    "rs = rain[rain['Wind']=='strong']\n",
    "\n",
    "second_split = {\"sunny high\":sh , \"sunny normal\": sn, \"rain weak\":rw, \"rain strong\": rs}\n",
    "\n",
    "for s in second_split:\n",
    "    print(f\"split {s} has entropy {entropy_(second_split[s]['PlayTennis'])}\")\n",
    "    print(second_split[s])\n",
    "    print(\"\\n\")"
   ]
  },
  {
   "cell_type": "markdown",
   "id": "c3e31fb6",
   "metadata": {},
   "source": [
    "               Outlook\n",
    "                 /|\\\n",
    "                / | \\\n",
    "               /  |  \\\n",
    "              /   |   \\\n",
    "           sun   over  rain\n",
    "           /      |     \\\n",
    "          /       |      \\\n",
    "         /       yes      \\\n",
    "      Humid              Wind\n",
    "       /\\                 /\\\n",
    "      /  \\               /  \\\n",
    "    high  normal       weak strong\n",
    "     |      |´           |    |\n",
    "     |      |            |    |\n",
    "    no     yes          yes   no"
   ]
  },
  {
   "cell_type": "markdown",
   "id": "73daa764",
   "metadata": {},
   "source": [
    "### How is the new sample classified?\n",
    "\n",
    "|Outlook  |  Temperatur | Humidity | Wind | PlayTennis|  \n",
    "| ----------- | ----------- |----------- | ----------- | ----------- |\n",
    "|rain     |  mild  |  normal  | strong | ?"
   ]
  },
  {
   "cell_type": "markdown",
   "id": "82d3a685",
   "metadata": {},
   "source": [
    "PlayTennis --> No"
   ]
  },
  {
   "cell_type": "markdown",
   "id": "c1477ffc",
   "metadata": {},
   "source": [
    "### Outlook:\n",
    "\n",
    "\n",
    "- ID3 is the basic decision tree algorithm but it is pretty old (Common Frameworks don't support it anymore).\n",
    "- Decision Trees are \"interpretable\"\n",
    "- Basic Decisions Tree like to overfit.\n",
    "- Better with Random Forest and XGBoost\n",
    "- XGBoost (Extreme Gradient Boosting) is a Boosting method that works similar to Adaboost (learn one hypothesis, rank wrongly classified examples higher, add second hypothesis ...). \n",
    "    - First step: Create very small Decision Tree (eg. with maximum 3 splits)\n",
    "    - Second step: Use loss function and calculate gradients for loss\n",
    "    - Third step: Create new decision tree and use gradient information for splits (minimize loss)\n",
    "    - fourth step: Do this iteratively until you have ~100 very small decision trees.\n",
    "\n",
    "\n",
    "- Generally: XGBoost and Random Forests show better performance on tabular data than neural networks. \n",
    "    - [From 07.2022: Why do tree-based models still outperform deep\n",
    "learning on tabular data?](https://arxiv.org/pdf/2207.08815.pdf)\n",
    "- (But no longer interpretable)\n",
    "\n",
    "![](https://i.imgflip.com/3gyzsn.jpg)\n",
    "\n",
    "\n",
    "\n"
   ]
  },
  {
   "cell_type": "code",
   "execution_count": null,
   "id": "1de35f62",
   "metadata": {},
   "outputs": [],
   "source": []
  }
 ],
 "metadata": {
  "kernelspec": {
   "display_name": "ml_env",
   "language": "python",
   "name": "ml_env"
  },
  "language_info": {
   "codemirror_mode": {
    "name": "ipython",
    "version": 3
   },
   "file_extension": ".py",
   "mimetype": "text/x-python",
   "name": "python",
   "nbconvert_exporter": "python",
   "pygments_lexer": "ipython3",
   "version": "3.9.13"
  }
 },
 "nbformat": 4,
 "nbformat_minor": 5
}
