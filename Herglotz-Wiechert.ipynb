{
 "cells": [
  {
   "cell_type": "markdown",
   "metadata": {},
   "source": [
    "# Practicals in Seismology, winter semester 2024/25\n",
    "\n",
    "---\n",
    "#### Week 5, 20 November 2024\n",
    "#### Topic: Herglotz-Wiechert analysis\n",
    "#### Responsible: Y.Gao \n",
    "\n",
    "---\n",
    "**In this week's practicals you recapulate how to work with array data and learn/practice**\n",
    "\n",
    "* how to determine slowness and backazimuth of an arriving phase\n",
    "* how the ray parameter varies with the distance to the earthquake\n",
    "* how to use the ray parameter to create a 1D velocity model of the Earth\n",
    "\n",
    "---\n"
   ]
  },
  {
   "cell_type": "markdown",
   "metadata": {},
   "source": [
    "First you will import the necessary python packages which are required for this exercise:\n",
    "- numpy\n",
    "- obspy (including read and UTCDateTime)"
   ]
  },
  {
   "cell_type": "code",
   "execution_count": 1,
   "metadata": {},
   "outputs": [],
   "source": [
    "#import packages\n",
    "import obspy\n",
    "from obspy import UTCDateTime, read"
   ]
  },
  {
   "cell_type": "markdown",
   "metadata": {},
   "source": [
    "Similar to the last practical we need to import functions from an additional file. Therefore, run the cell below."
   ]
  },
  {
   "cell_type": "code",
   "execution_count": 2,
   "metadata": {},
   "outputs": [],
   "source": [
    "import sys\n",
    "sys.path.append('scripts')\n",
    "from utils import *"
   ]
  },
  {
   "cell_type": "markdown",
   "metadata": {},
   "source": [
    "## Herglotz-Wiechert analysis\n",
    "\n",
    "In the beginning of the 20th century Emil Wiechert and Gustav Herglotz established a method to create a 1D velocity model of the Earth by using information about the ray parameter and the epicentral distance. <br> \n",
    "Generally, the ray parameter is estimated by the derivative of travel time curves. Those curves were determined by measuring the arrival time of earthquake phases at multiple stations, which are spread over the globe. With the advantage of data of a seismic array, we can simplify the determination of the ray parameter! <br>\n",
    "As you might remember from the lecture, the ray parameter $p=\\frac{r}{v}* \\sin(i)$ (spherical case) is constant along the ray path: <br>\n",
    "\n",
    "<img src=\"data/HW_parameter.png\" alt=\"drawing\" width=\"400\"> <br>\n",
    "<br>\n",
    "On the surface the ray parameter can be measured with the slowness:\n",
    "<center>$s=\\frac{1}{v_{hor}}=\\frac{1}{v}* \\sin(i)$</center>  <br><br>\n",
    "With the equations for traveltime and epicentral distance (with $\\phi=\\frac{r}{v}$):<br>\n",
    "<center>$T=2\\int_{r_m}^{r_0}\\frac{\\phi^2\\text{d}r}{r\\sqrt{\\phi^2-p^2}}$    </center> <br>\n",
    "<center>$\\Delta=2\\int_{r_m}^{r_0}\\frac{p \\text{d}r}{r\\sqrt{\\phi^2-p^2}}$   </center>\n",
    "we can derive the equation for the Herglotz-Wiechert inversion:\n",
    "<br><br>\n",
    "<center>$\\text{ln}\\frac{r_0}{r_1}= \\frac{1}{\\pi}\\int_0^{\\Delta_1}\\text{arccosh} \\frac{p}{p_1}\\text{d}\\Delta =\\frac{A}{\\pi} $   </center>\n",
    "<br><br>\n",
    "After we calculated the integral $A$, we can determine the deepest point of the raypath, at which the incident angle i will be 90°. Then, we can determine the velocity for the given depth. <br><br>\n",
    "\n",
    "<center>$r_1=r_0 e^{-\\frac{A}{\\pi}}$  and $v_1=\\frac{r_1}{p_1}$   </center>\n",
    "<br><br>\n",
    "\n",
    "In this practical we will follow the steps of Herglotz and Wiechert and create a simple 1D velocity model of the Earth<br>\n",
    "This practical is divided in three parts:<br>\n",
    "1) Data collection (slowness, distance)<br>\n",
    "2) Inversion (velocity, depth)<br>\n",
    "3) *Bonus: comparison with results obtained by travel times of the ak135 tables*<br>\n",
    "\n"
   ]
  },
  {
   "cell_type": "markdown",
   "metadata": {},
   "source": [
    "### 1) Collect slowness data for earthquakes in various distances\n",
    "\n",
    "As we need information of the variation of the ray parameter over the epicentral distance, we can determine the slowness for earthquakes in multiple distances.<br>\n",
    "We provided data for several earthquakes and if every student determines the slowness (P-phase) of one or two, than we will have enough for the inversion. <br>\n",
    "Here is a list of the earthquakes:\n",
    "\n",
    "<img src=\"data/eq_list.png\" alt=\"drawing\" width=\"550\"> <br>\n",
    "\n",
    "The following steps are now carried out for the individual earthquake. If someone of you finishes earlier, just repeat the steps with a different earthquake and then you can compare the results."
   ]
  },
  {
   "cell_type": "markdown",
   "metadata": {},
   "source": [
    "#### a) Determine the distance to the earthquake \n",
    "\n",
    "In order to determine the distance, the function <code>calc_distance</code> is available. Please run the cell below."
   ]
  },
  {
   "cell_type": "code",
   "execution_count": null,
   "metadata": {},
   "outputs": [],
   "source": [
    "def calc_distance(lo1,la1,lo2,la2):\n",
    "    lat1 = radians(la1)\n",
    "    lon1 = radians(lo1)\n",
    "    lat2 = radians(la2)\n",
    "    lon2 = radians(lo2)\n",
    "\n",
    "    dlon = lon2 - lon1\n",
    "    dlat = lat2 - lat1\n",
    "\n",
    "    a = np.sin(dlat / 2)**2 + np.cos(lat1) * np.cos(lat2) * np.sin(dlon / 2)**2\n",
    "    c = 2 * np.arctan2(sqrt(a), sqrt(1 - a))\n",
    "    return(c*360/2/np.pi)"
   ]
  },
  {
   "cell_type": "markdown",
   "metadata": {},
   "source": [
    "Determine the distance between your earthquake and the array (coordinates of array: 49.3°N 11.5°E). "
   ]
  },
  {
   "cell_type": "code",
   "execution_count": null,
   "metadata": {},
   "outputs": [],
   "source": [
    "#calculate the distance and print the results"
   ]
  },
  {
   "cell_type": "markdown",
   "metadata": {},
   "source": [
    "#### b) Determine the slowness\n",
    "Read the data of the day with the earthquake and cut a reasonable time window. <br>\n",
    "\n"
   ]
  },
  {
   "cell_type": "code",
   "execution_count": null,
   "metadata": {},
   "outputs": [],
   "source": [
    "#read the data of all stations and the day of \"your earthquake\" with read()\n",
    "\n",
    "\n",
    "#trim your stream in a reasonable time window (40 seconds before and 80 seconds after the P-onset). P-onsets are given below. Choose the onset of 'your' earthquake.\n",
    "#P_arrival=[\"2020-07-08T05:19:56\",\"2019-11-27T07:27:24\",\"2020-06-21T19:12:56\",\"2015-02-13T19:04:54\",\"2017-11-12T18:24:15\",\"2015-12-07T07:58:17.86\",\"2016-08-29T04:39:37\",\"2015-4-25T06:21:22\",\"2020-09-18T21:53:54\",\"2020:01:28T19:22:14\"]\n",
    "\n"
   ]
  },
  {
   "cell_type": "markdown",
   "metadata": {},
   "source": [
    "Define the parameters, which are relevant for the array analysis. You can find some suggestions in the box below. Depending on the distance to your earthquake you might consider changing the parameters. Compute your array analysis for a time window of 30 seconds, from 5 seconds before to 25 seconds after the P-onset."
   ]
  },
  {
   "cell_type": "code",
   "execution_count": null,
   "metadata": {},
   "outputs": [],
   "source": [
    "start=UTCDateTime(P_arrival[i])-5\n",
    "end=UTCDateTime(P_arrival[i])+25\n",
    "fmin    =  0.005  \n",
    "fmax    =  0.5\n",
    "win_len =  10\n",
    "smax    =  0.15"
   ]
  },
  {
   "cell_type": "markdown",
   "metadata": {},
   "source": [
    "Carry out the array analysis in order to determine the slowness: the output ou array_hist_st is optimal baz (in rad) and slowness(in s/km)! <br>\n",
    "Remember, that you can use <code>%matplotlib qt5</code> to display a figure in an external window."
   ]
  },
  {
   "cell_type": "code",
   "execution_count": null,
   "metadata": {},
   "outputs": [],
   "source": [
    "%matplotlib qt5\n",
    "baz,slow=array_hist_st(st,start,end,fmin=fmin, fmax=fmax,win_len=win_len,smax=smax, stationfile='data/station_GR.csv')"
   ]
  },
  {
   "cell_type": "markdown",
   "metadata": {},
   "source": [
    "#### c) Create a list with the information of all earthquakes\n",
    "Therefore, you should share the information with the other students and write the distance and the slowness down."
   ]
  },
  {
   "cell_type": "markdown",
   "metadata": {},
   "source": [
    "Create a np.array with distance and slowness. The list should be orderd by the distance (starting with the lowest value).\n",
    "<br>E.g: <code> data=np.array([dist1,slow1],[dist2,slow2],...)</code> <br>\n",
    "Convert the slowness values in s/deg!"
   ]
  },
  {
   "cell_type": "code",
   "execution_count": null,
   "metadata": {},
   "outputs": [],
   "source": [
    "# create the array in the following format: \n",
    "# data=np.array([dist1,slow1],[dist2,slow2],...)\n",
    "\n",
    "\n",
    "#convert the slowness (given in s/km) to s/deg\n",
    "\n",
    "    \n"
   ]
  },
  {
   "cell_type": "markdown",
   "metadata": {},
   "source": [
    "Show a scatter plot of the slowness over the epicentral distances."
   ]
  },
  {
   "cell_type": "code",
   "execution_count": null,
   "metadata": {},
   "outputs": [],
   "source": []
  },
  {
   "cell_type": "markdown",
   "metadata": {},
   "source": [
    "Have a look at the figure of Filson (1975). Does your own plot show similarities? <br>In which region of epicentral distances could you apply a reasonable fit to the data? Can you connect this observation with your knowledge about the Earth's structure?<br>\n",
    "<img src=\"data/filson.png\" alt=\"drawing\" width=\"350\"> "
   ]
  },
  {
   "cell_type": "markdown",
   "metadata": {},
   "source": [
    "For a fit to the data we have to approximate the plot by a mathematical function. As the travel time (TT) curves can be approximated by a limited growth functions and the ray parameter is the derivative of the TT-curves, we will use the derivative of a limited growth function for our data. <br>\n",
    "The necessary functions are provided below."
   ]
  },
  {
   "cell_type": "code",
   "execution_count": null,
   "metadata": {},
   "outputs": [],
   "source": [
    "from scipy.optimize import curve_fit\n",
    "\n",
    "def derv_limited_increase(x,s,b,k):\n",
    "    y=(s-b)*np.exp(-k*x)*(-k)\n",
    "    return y\n",
    "\n",
    "\n",
    "def fit2p(d,p,n):\n",
    "    popt, pcov = curve_fit(derv_limited_increase, d, p)\n",
    "    x_line=np.linspace(0,100,n)\n",
    "    y_line=derv_limited_increase(x_line,*popt)\n",
    "    return x_line,y_line"
   ]
  },
  {
   "cell_type": "markdown",
   "metadata": {},
   "source": [
    "Fit a curve to your data and create a Figure with both your scattered data points and the fit!"
   ]
  },
  {
   "cell_type": "code",
   "execution_count": null,
   "metadata": {},
   "outputs": [],
   "source": [
    "# create the fit by replacing the \"?\" with the first and second column of your list.\n",
    "d,p=fit2p(?,?,50) \n",
    "\n",
    "#create a figure with your data points and the fit\n"
   ]
  },
  {
   "cell_type": "markdown",
   "metadata": {},
   "source": [
    "### 2) Inversion\n",
    "If the fit of the data is correct, you can move on to the inversion! Run the cell below to make the inversion-algorithm available.\n",
    "   "
   ]
  },
  {
   "cell_type": "code",
   "execution_count": null,
   "metadata": {},
   "outputs": [],
   "source": [
    "from scipy import integrate\n",
    "def calc_vel(dist, s, r0):\n",
    "    '''\n",
    "    dist:     array with float values of the distance, unit is radian\n",
    "    s:        array with float values of the slowness, unit is s/deg\n",
    "    r0:       integer/float with earth radius in km\n",
    "    '''\n",
    "    res=[]\n",
    "    km2deg=111.13\n",
    "    \n",
    "    for i in range(len(s)):\n",
    "        x=np.arccosh(s[:i+1]/(s[i]))\n",
    "        A=integrate.simps(x[:i+1],dist[:i+1])\n",
    "        r=r0*np.exp(-A/np.pi)\n",
    "        v=r/r0/s[i]*km2deg\n",
    "        res.append([r,v])\n",
    "    return np.array(res)\n"
   ]
  },
  {
   "cell_type": "markdown",
   "metadata": {},
   "source": [
    "Now, calculate the velocity model with the given inversion function. Have a look of the comment within the function, which specify the required parameters. Be careful with the units and use a earth radius of 6371km."
   ]
  },
  {
   "cell_type": "code",
   "execution_count": null,
   "metadata": {},
   "outputs": [],
   "source": [
    "#carry out the inversion\n",
    "\n",
    "# create a Figure, which shows the results \n"
   ]
  },
  {
   "cell_type": "markdown",
   "metadata": {},
   "source": [
    "What do you think? Does your plot make sense? What is depicted? What do you know from the earth structure? <br>\n",
    "<br>\n",
    "Have a look at the \"official\" velocity model of the earth (PREM-model).<br>\n",
    "Therefore read the data with: <code>r,v=np.loadtxt('data/prem.txt', unpack=True)</code>\n",
    "    "
   ]
  },
  {
   "cell_type": "code",
   "execution_count": null,
   "metadata": {},
   "outputs": [],
   "source": [
    "\n"
   ]
  },
  {
   "cell_type": "markdown",
   "metadata": {},
   "source": [
    "Now you can compare your results with the PREM-model in one Figure."
   ]
  },
  {
   "cell_type": "code",
   "execution_count": null,
   "metadata": {},
   "outputs": [],
   "source": [
    "#create Figure\n",
    "\n"
   ]
  },
  {
   "cell_type": "markdown",
   "metadata": {},
   "source": [
    "What are similarities and differences of both model? \n"
   ]
  },
  {
   "cell_type": "markdown",
   "metadata": {},
   "source": [
    "### 3) Using travel time curves (bonus)\n",
    "\n",
    "As the travel time curves are mathematically the integral of the ray parameter, we can use available travel time data (e.g. ak135 tables) to determine the 1D- velocity model. <br>\n",
    "<br>\n",
    "First we need a function, which calculates the derivative of a given data set. In the provided function below we use a central finite difference approach."
   ]
  },
  {
   "cell_type": "code",
   "execution_count": null,
   "metadata": {},
   "outputs": [],
   "source": [
    "def derivative(x,y):\n",
    "    deriv_y=[]\n",
    "    x_new=[]\n",
    "    for i in range(1,len(y)-1):\n",
    "        deriv_y.append((y[i+1]-y[i-1])/abs(x[i+1]-x[i-1]))\n",
    "        x_new.append(x[i])\n",
    "    deriv_y=np.array(deriv_y)\n",
    "    x_new=np.array(x_new)\n",
    "    \n",
    "    return x_new,deriv_y\n"
   ]
  },
  {
   "cell_type": "markdown",
   "metadata": {},
   "source": [
    "In the file \"traveltimes.txt\" (located in the folder \"data\") we provided epicentral distances (1st column) with the the related travel times (2nd column). <br>\n",
    "Use <code>d,t=np.loadtxt(filename, unpack=True)</code> to read the data."
   ]
  },
  {
   "cell_type": "code",
   "execution_count": null,
   "metadata": {},
   "outputs": [],
   "source": [
    "\n"
   ]
  },
  {
   "cell_type": "markdown",
   "metadata": {},
   "source": [
    "In the next step we determine the ray parameter by calculating the derivative. Use the provided function <code>derivative()</code>."
   ]
  },
  {
   "cell_type": "code",
   "execution_count": null,
   "metadata": {},
   "outputs": [],
   "source": [
    "\n"
   ]
  },
  {
   "cell_type": "markdown",
   "metadata": {},
   "source": [
    "Similar to our procedure before, we now fit a curve to our data (<code>fit2p()</code>) and then carry out the inversion (<code>calc_vel()</code>). Be careful with the units of your data!"
   ]
  },
  {
   "cell_type": "code",
   "execution_count": null,
   "metadata": {},
   "outputs": [],
   "source": [
    "#fit a curve to the data\n",
    "\n",
    "\n",
    "#carry out inversion\n",
    "\n"
   ]
  },
  {
   "cell_type": "markdown",
   "metadata": {},
   "source": [
    "Plot all three velocity models\n",
    "- the prem-model\n",
    "- the model derived with array analysis\n",
    "- the model derived with the travel time curves\n",
    "\n",
    "in one Figure. "
   ]
  },
  {
   "cell_type": "code",
   "execution_count": null,
   "metadata": {},
   "outputs": [],
   "source": [
    "\n"
   ]
  },
  {
   "cell_type": "code",
   "execution_count": null,
   "metadata": {},
   "outputs": [],
   "source": [
    "# create Figure"
   ]
  }
 ],
 "metadata": {
  "kernelspec": {
   "display_name": "Python 3 (ipykernel)",
   "language": "python",
   "name": "python3"
  },
  "language_info": {
   "codemirror_mode": {
    "name": "ipython",
    "version": 3
   },
   "file_extension": ".py",
   "mimetype": "text/x-python",
   "name": "python",
   "nbconvert_exporter": "python",
   "pygments_lexer": "ipython3",
   "version": "3.9.13"
  }
 },
 "nbformat": 4,
 "nbformat_minor": 4
}
