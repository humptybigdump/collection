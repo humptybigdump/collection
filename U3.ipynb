{
 "cells": [
  {
   "cell_type": "markdown",
   "id": "d2ddac80",
   "metadata": {},
   "source": [
    "<img src=\"KITlogo_1c_deutsch.eps\" width=\"200\" height=\"200\" align=\"right\"/>\n",
    "\n",
    "##### Lehrstuhl für Analytics and Statistics (IOR)\n",
    "##### Prof. Dr. Oliver Grothe\n",
    "##### SoSe 2024"
   ]
  },
  {
   "cell_type": "markdown",
   "id": "3de59e10",
   "metadata": {},
   "source": [
    "# Analyse multivariater Daten\n",
    "## Übung 3"
   ]
  },
  {
   "cell_type": "markdown",
   "id": "a2149042",
   "metadata": {},
   "source": [
    "Laden Sie den Datensatz $\\textit{statstud}$ aus Ilias herunter.\n",
    "Berechnen Sie den Mittelwertvektor, die empirische Kovarianzmatrix und die empirische\n",
    "Korrelationsmatrix."
   ]
  },
  {
   "cell_type": "code",
   "execution_count": 1,
   "id": "39e337ee",
   "metadata": {},
   "outputs": [],
   "source": [
    "import pandas as pd\n",
    "import numpy as np\n",
    "data=np.array(pd.read_csv('statstud.csv', sep=';',header=None))"
   ]
  },
  {
   "cell_type": "markdown",
   "id": "8c09fd02",
   "metadata": {},
   "source": [
    "Mittelwert berechnen:"
   ]
  },
  {
   "cell_type": "code",
   "execution_count": 5,
   "id": "737fa6d6",
   "metadata": {},
   "outputs": [
    {
     "data": {
      "text/plain": [
       "array([1.76943662e+02, 4.15141844e+01, 6.94347826e+01, 1.52816901e+00,\n",
       "       6.17605634e+00, 8.63732394e+01, 2.58769231e+00, 2.24184397e+00,\n",
       "       3.23943662e-01, 2.53521127e-01, 3.54609929e-02, 5.70422535e-01,\n",
       "       4.39007092e+00])"
      ]
     },
     "execution_count": 5,
     "metadata": {},
     "output_type": "execute_result"
    }
   ],
   "source": [
    "meanvec=np.nanmean(data,axis=0)\n",
    "meanvec"
   ]
  },
  {
   "cell_type": "markdown",
   "id": "48622cb7",
   "metadata": {},
   "source": [
    "Empirische Kovarianz:"
   ]
  },
  {
   "cell_type": "code",
   "execution_count": 6,
   "id": "30f20a8b",
   "metadata": {},
   "outputs": [
    {
     "name": "stdout",
     "output_type": "stream",
     "text": [
      "[[80.53203729418765 -- -- 3.191727831779409 -1.3492362626462997\n",
      "  0.0773656020630824 -- -- -0.36907359650862925 -0.1336044435627851 --\n",
      "  0.8983336639555642 --]\n",
      " [-- -- -- -- -- -- -- -- -- -- -- -- --]\n",
      " [-- -- -- -- -- -- -- -- -- -- -- -- --]\n",
      " [3.191727831779409 -- -- 0.24920650664550686 -0.06481848839515972\n",
      "  -0.267556040468161 -- -- -0.009125173576671284 -9.918666931165064e-05\n",
      "  -- 0.015621900416584001 --]\n",
      " [-1.3492362626462997 -- -- -0.06481848839515972 10.835201348938702\n",
      "  -1.9248660979964296 -- -- -0.0077365602063083055 -0.03054949414798651\n",
      "  -- 0.07562983535012893 --]\n",
      " [0.0773656020630824 -- -- -0.267556040468161 -1.9248660979964296\n",
      "  13.304354294782781 -- -- -0.19837333862328915 -0.3763142233683793 --\n",
      "  0.30118032136480855 --]\n",
      " [-- -- -- -- -- -- -- -- -- -- -- -- --]\n",
      " [-- -- -- -- -- -- -- -- -- -- -- -- --]\n",
      " [-0.36907359650862925 -- -- -0.009125173576671284 -0.0077365602063083055\n",
      "  -0.19837333862328915 -- -- 0.21900416584011104 0.009422733584606243 --\n",
      "  0.02648284070620911 --]\n",
      " [-0.1336044435627851 -- -- -9.918666931165064e-05 -0.03054949414798651\n",
      "  -0.3763142233683793 -- -- 0.009422733584606243 0.18924816504661773 --\n",
      "  -0.03193810751834953 --]\n",
      " [-- -- -- -- -- -- -- -- -- -- -- -- --]\n",
      " [0.8983336639555642 -- -- 0.015621900416584001 0.07562983535012893\n",
      "  0.30118032136480855 -- -- 0.02648284070620911 -0.03193810751834953 --\n",
      "  0.2450406665344178 --]\n",
      " [-- -- -- -- -- -- -- -- -- -- -- -- --]]\n"
     ]
    }
   ],
   "source": [
    "cov_emp=np.ma.cov(data,bias=True,rowvar=False) # see https://numpy.org/doc/stable/reference/generated/numpy.ma.cov.html \n",
    "print(cov_emp)\n"
   ]
  },
  {
   "cell_type": "markdown",
   "id": "0516503f",
   "metadata": {},
   "source": [
    "Empirische Korrelationsmatrix:\n",
    "    "
   ]
  },
  {
   "cell_type": "code",
   "execution_count": 7,
   "id": "e6ba3f4a",
   "metadata": {},
   "outputs": [
    {
     "data": {
      "text/plain": [
       "masked_array(\n",
       "  data=[[1.0, --, --, 0.7124621858960758, -0.04567569548352747,\n",
       "         0.0023635601864075715, --, --, -0.0878825087252259,\n",
       "         -0.03422320832919056, --, 0.20222472294344798, --],\n",
       "        [--, --, --, --, --, --, --, --, --, --, --, --, --],\n",
       "        [--, --, --, --, --, --, --, --, --, --, --, --, --],\n",
       "        [0.7124621858960758, --, --, 1.0, -0.03944579533708438,\n",
       "         -0.1469393690852533, --, --, -0.03906027149530447,\n",
       "         -0.000456728149839451, --, 0.0632171763502173, --],\n",
       "        [-0.04567569548352747, --, --, -0.03944579533708438, 1.0,\n",
       "         -0.16031904959398666, --, --, -0.005022306677342879,\n",
       "         -0.021333872325367775, --, 0.046414703369242485, --],\n",
       "        [0.0023635601864075715, --, --, -0.1469393690852533,\n",
       "         -0.16031904959398666, 1.0, --, --, -0.11621447209710782,\n",
       "         -0.237158062694448, --, 0.16680559320048186, --],\n",
       "        [--, --, --, --, --, --, --, --, --, --, --, --, --],\n",
       "        [--, --, --, --, --, --, --, --, --, --, --, --, --],\n",
       "        [-0.0878825087252259, --, --, -0.03906027149530447,\n",
       "         -0.005022306677342879, -0.11621447209710782, --, --, 1.0,\n",
       "         0.046284426363968796, --, 0.11431923187728409, --],\n",
       "        [-0.03422320832919056, --, --, -0.000456728149839451,\n",
       "         -0.021333872325367775, -0.237158062694448, --, --,\n",
       "         0.046284426363968796, 1.0, --, -0.14831130537484571, --],\n",
       "        [--, --, --, --, --, --, --, --, --, --, --, --, --],\n",
       "        [0.20222472294344798, --, --, 0.0632171763502173,\n",
       "         0.046414703369242485, 0.16680559320048186, --, --,\n",
       "         0.11431923187728409, -0.14831130537484571, --, 1.0, --],\n",
       "        [--, --, --, --, --, --, --, --, --, --, --, --, --]],\n",
       "  mask=[[False,  True,  True, False, False, False,  True,  True, False,\n",
       "         False,  True, False,  True],\n",
       "        [ True,  True,  True,  True,  True,  True,  True,  True,  True,\n",
       "          True,  True,  True,  True],\n",
       "        [ True,  True,  True,  True,  True,  True,  True,  True,  True,\n",
       "          True,  True,  True,  True],\n",
       "        [False,  True,  True, False, False, False,  True,  True, False,\n",
       "         False,  True, False,  True],\n",
       "        [False,  True,  True, False, False, False,  True,  True, False,\n",
       "         False,  True, False,  True],\n",
       "        [False,  True,  True, False, False, False,  True,  True, False,\n",
       "         False,  True, False,  True],\n",
       "        [ True,  True,  True,  True,  True,  True,  True,  True,  True,\n",
       "          True,  True,  True,  True],\n",
       "        [ True,  True,  True,  True,  True,  True,  True,  True,  True,\n",
       "          True,  True,  True,  True],\n",
       "        [False,  True,  True, False, False, False,  True,  True, False,\n",
       "         False,  True, False,  True],\n",
       "        [False,  True,  True, False, False, False,  True,  True, False,\n",
       "         False,  True, False,  True],\n",
       "        [ True,  True,  True,  True,  True,  True,  True,  True,  True,\n",
       "          True,  True,  True,  True],\n",
       "        [False,  True,  True, False, False, False,  True,  True, False,\n",
       "         False,  True, False,  True],\n",
       "        [ True,  True,  True,  True,  True,  True,  True,  True,  True,\n",
       "          True,  True,  True,  True]],\n",
       "  fill_value=1e+20)"
      ]
     },
     "execution_count": 7,
     "metadata": {},
     "output_type": "execute_result"
    }
   ],
   "source": [
    "np.ma.corrcoef(data,rowvar=False)"
   ]
  }
 ],
 "metadata": {
  "kernelspec": {
   "display_name": "amd_env",
   "language": "python",
   "name": "amd_env"
  },
  "language_info": {
   "codemirror_mode": {
    "name": "ipython",
    "version": 3
   },
   "file_extension": ".py",
   "mimetype": "text/x-python",
   "name": "python",
   "nbconvert_exporter": "python",
   "pygments_lexer": "ipython3",
   "version": "3.11.7"
  }
 },
 "nbformat": 4,
 "nbformat_minor": 5
}
