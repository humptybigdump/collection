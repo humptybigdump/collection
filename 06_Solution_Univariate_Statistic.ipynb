{
 "cells": [
  {
   "cell_type": "markdown",
   "metadata": {},
   "source": [
    "# Geospatial Data Analysis I \n",
    "\n",
    "## Univariate Statistics - Solution  "
   ]
  },
  {
   "cell_type": "markdown",
   "metadata": {},
   "source": [
    "### Exercise 1: Daten einlesen und prüfen\n",
    "\n",
    "- Open the file \"Data_GW_KA.xlsx\" in Excel and have a look at the data. Which type of data (discrete / continuous, ratio / interval / closed /etc.) do the individual columns represent? Please note the types in the box below.  \n",
    "\n",
    "- Read the file into your notebook using Pandas and save the groundwater temperature data into a separate array. "
   ]
  },
  {
   "cell_type": "markdown",
   "metadata": {},
   "source": [
    "Data Types in \"Data_GW_KA.csv\": \n",
    "\n",
    "- Name: nominal data\n",
    "- Depth: continuous ratio data\n",
    "- Dissolved oxygen: continuous ratio data\n",
    "- Groundwater temperature: continuous interval data (or ratio) \n",
    "- Electric conductivity: continuous ratio data\n",
    "- pH: continuous ratio data\n",
    "- Iron: continuous ratio data\n",
    "- Phosphate: continuous ratio data\n",
    "- Nitrate: continuous ratio data\n",
    "- Detritus: discrete ordinal data \n",
    "- Amount of sediment: discrete ordinal data \n",
    "- Geology: discrete ordinal data \n",
    "- Land use type: discrete ordinal data \n",
    "- Abundancy (i.e. number) of groundwater fauna species: continuous ratio data\n",
    "- Abundancy (i.e. number) of groundwater fauna individuals: continuous ratio data\n",
    "- Percentage of individual Crustaceens: continuous closed data\n",
    "- Percentage of individual Oligochaets: continuous closed data"
   ]
  },
  {
   "cell_type": "code",
   "execution_count": 1,
   "metadata": {},
   "outputs": [
    {
     "data": {
      "text/plain": [
       "numpy.ndarray"
      ]
     },
     "execution_count": 1,
     "metadata": {},
     "output_type": "execute_result"
    }
   ],
   "source": [
    "# [1]\n",
    "# reading the csv file\n",
    "import pandas as pd\n",
    "data = pd.read_excel(\"Data_GW_KA.xlsx\")\n",
    "\n",
    "# saving groundwater temperature (column 4) into a separate array\n",
    "GWT = data.iloc[:,3].values\n",
    "type(GWT)"
   ]
  },
  {
   "cell_type": "markdown",
   "metadata": {},
   "source": [
    "Next, visualise the groundwater temperature data to get an overview on the range of measured values and potential outliers. Pick an appropriate plot type in matplotlib. \n",
    "\n",
    "Do not forget to add the basic figure elements (axes label, ticks and title). "
   ]
  },
  {
   "cell_type": "code",
   "execution_count": 2,
   "metadata": {},
   "outputs": [
    {
     "data": {
      "image/png": "[encoded data removed]",
      "text/plain": [
       "<Figure size 640x480 with 1 Axes>"
      ]
     },
     "metadata": {},
     "output_type": "display_data"
    }
   ],
   "source": [
    "# [2] \n",
    "import matplotlib.pyplot as plt\n",
    "\n",
    "plt.hist(GWT, rwidth = 0.9, color='k')\n",
    "plt.xlabel(\"Groundwater temperature [°C]\")\n",
    "plt.ylabel(\"Frequency\")\n",
    "plt.title(\"Groundwater temperature Karlsruhe\")\n",
    "\n",
    "plt.show()\n"
   ]
  },
  {
   "cell_type": "markdown",
   "metadata": {},
   "source": [
    "### Exercise 2: Measures for Central Tendency\n",
    "\n",
    "Now you can calculate different measures for the central tendency for the groundwater temperature. These measures help to contextualize the measured values on a linear scale, and are typcially used to get an estimated value representative for the entire data set. A common measure for central tendency is the arithmetic mean.\n",
    "\n",
    "- Calculate the arithmetic mean for the groundwater temperature as the `sum()` of all values divided by the number of values (e.g. `len()`): \n",
    "\n",
    "<img src=\"https://latex.codecogs.com/gif.latex?\\bar{x}&space;=&space;\\frac{1}{n}\\sum_{i=1}^{n}x_{i}\" title=\"\\bar{x} = \\frac{1}{n}\\sum_{i=1}^{n}x_{i}\" />\n"
   ]
  },
  {
   "cell_type": "code",
   "execution_count": 3,
   "metadata": {},
   "outputs": [
    {
     "name": "stdout",
     "output_type": "stream",
     "text": [
      "39\n",
      "13.526666666666666\n"
     ]
    }
   ],
   "source": [
    "# [4] calulating the arithmetic mean \n",
    "n = len(GWT)\n",
    "print(n)\n",
    "amean = (1/n)*sum(GWT)\n",
    "print(amean)"
   ]
  },
  {
   "cell_type": "markdown",
   "metadata": {},
   "source": [
    "Of course there is a in-built function `mean()` in Python to calculate the arithmetic mean. In order to use it, you first need to import the package `statistics` into your script / your notebook, e.g. with `from statistics import mean`. \n",
    "\n",
    "- Now, calculate the mean groundwater temperature using the imported function.  "
   ]
  },
  {
   "cell_type": "code",
   "execution_count": 4,
   "metadata": {},
   "outputs": [
    {
     "name": "stdout",
     "output_type": "stream",
     "text": [
      "13.526666666666667\n"
     ]
    }
   ],
   "source": [
    "# [5] calculating the mean values using \"mean()\"\"\n",
    "from statistics import mean\n",
    "amean = mean(GWT)\n",
    "print (amean)"
   ]
  },
  {
   "cell_type": "markdown",
   "metadata": {},
   "source": [
    "The arithmetic mean however is very sensitive for outliers, i.e. extreme values that differ from the majority of the values. For this reason the median is often used as measure for central tendency in geoscience instead. The median is value that lies in the middle of the data set, meaning 50% of the values are larger, the other 50% are smaller. The equation for a calculating the median of a sorted data set is as follows:   \n",
    "\n",
    "For an even number of values: \n",
    "\n",
    "<img src=\"https://latex.codecogs.com/gif.latex?\\widetilde{x}&space;=&space;(x_{(n/2)}&plus;x_{(n/2)&plus;1})/2\" title=\"\\widetilde{x} = (x_{(n/2)}+x_{(n/2)+1})/2\" /> \n",
    "\n",
    "For an uneven number of values: \n",
    "\n",
    "<img src=\"https://latex.codecogs.com/gif.latex?\\widetilde{x}&space;=&space;x_{(n&plus;1)/2}\" title=\"\\widetilde{x} = x_{(n+1)/2}\" />\n",
    "\n",
    "- First, sort the values in the array in ascending order. \n",
    "\n",
    "- Then, calculate the median of the groundwater temperature, choosing the correct equation from above based on your `n`. Tipp: once you have calculated the index value, you need to transform it into an integer (`int`) in order tobe able to use it for indexing. \n",
    " "
   ]
  },
  {
   "cell_type": "code",
   "execution_count": 5,
   "metadata": {},
   "outputs": [
    {
     "name": "stdout",
     "output_type": "stream",
     "text": [
      "14.13\n"
     ]
    }
   ],
   "source": [
    "# sorting the values of the groundwater temperature array\n",
    "import numpy as np\n",
    "GWT_sorted=np.sort(GWT)\n",
    "\n",
    "# calculatin the median \n",
    "Median=GWT_sorted[int((n+1)/2)]\n",
    "print(Median)"
   ]
  },
  {
   "cell_type": "markdown",
   "metadata": {},
   "source": [
    "Now, use the `median` function in the `statistics` package to calculate the median again, and compare both values. What could be the reason for the deviation? "
   ]
  },
  {
   "cell_type": "code",
   "execution_count": 6,
   "metadata": {},
   "outputs": [
    {
     "name": "stdout",
     "output_type": "stream",
     "text": [
      "14.0\n"
     ]
    }
   ],
   "source": [
    "# [8] median with statistics package \n",
    "import statistics\n",
    "Median2 = statistics.median(GWT)\n",
    "print(Median2)"
   ]
  },
  {
   "cell_type": "markdown",
   "metadata": {},
   "source": [
    "Another common measure for central tendency is the mode value. Is it reasonable to calculate the mode value for the groundwater temperature, and why or why not?\n",
    "\n",
    "Pick a suitable parameter for a mode value in the excel file, and use to method `statistics.mode()` to calculate it. "
   ]
  },
  {
   "cell_type": "code",
   "execution_count": null,
   "metadata": {},
   "outputs": [
    {
     "name": "stdout",
     "output_type": "stream",
     "text": [
      "14.4\n"
     ]
    }
   ],
   "source": [
    "# [9] picking a suitable parameter \n",
    "# --> every parameter with discrete numeric value, i.e. detritus, sediment, geology or land use. \n",
    "geology = data.iloc[:,11]\n",
    "mode = statistics.mode(geology)\n",
    "print (mode)\n",
    "\n"
   ]
  },
  {
   "cell_type": "markdown",
   "metadata": {},
   "source": [
    "Back to groundwater temperature: you can now also calculate the three quartile values (at 0.25, 0.5, 0.75) with the method `np.quantile(GWT, [0.25, 0.5, 0.75])`.\n",
    "The middle quartile (0.5) should correspond to the median value from above. "
   ]
  },
  {
   "cell_type": "code",
   "execution_count": 8,
   "metadata": {},
   "outputs": [
    {
     "name": "stdout",
     "output_type": "stream",
     "text": [
      "[11.465 14.    14.95 ]\n"
     ]
    }
   ],
   "source": [
    "# [10] calculating quartiles\n",
    "quart = np.quantile(GWT, [0.25, 0.5, 0.75])\n",
    "print(quart)"
   ]
  },
  {
   "cell_type": "markdown",
   "metadata": {},
   "source": [
    "### Exercise 3: Measures for Statistical Dispersion \n",
    "\n",
    "Measures for statistica dispersion help to get a feeling for the spatial or temporal variation of the data. The simplest measure for disperion is the range, i.e. teh difference between the smallest and largest value. \n",
    "\n",
    "-  Use  `min()` und `max()` to calculate the range of the groundwater temperature.  "
   ]
  },
  {
   "cell_type": "code",
   "execution_count": 9,
   "metadata": {},
   "outputs": [
    {
     "name": "stdout",
     "output_type": "stream",
     "text": [
      "7.0600000000000005\n"
     ]
    }
   ],
   "source": [
    "# [11]\n",
    "range = max(GWT)-min(GWT)\n",
    "print(range)"
   ]
  },
  {
   "cell_type": "markdown",
   "metadata": {},
   "source": [
    "As the range is calculated using the extreme values, it is very sensitive to outliers and in most geoscientiffic application not a robust measure for dispersion. One more robust measures is for example the interquartile range (IQR), i.e. the middle 50% of the data points. \n",
    "\n",
    "- Use the quartiles from above to calculate the IQR (Q3 - Q1) of the groundwater temperature.   "
   ]
  },
  {
   "cell_type": "code",
   "execution_count": 10,
   "metadata": {},
   "outputs": [
    {
     "name": "stdout",
     "output_type": "stream",
     "text": [
      "3.4849999999999994\n"
     ]
    }
   ],
   "source": [
    "# [12] interquartile range\n",
    "IQR = quart[2]-quart[0]\n",
    "print(IQR)"
   ]
  },
  {
   "cell_type": "markdown",
   "metadata": {},
   "source": [
    "The most commonly used measures for statistical dispersion are the standard deviation (sigma) and the disperion (sigma^2). \n",
    "\n",
    "The standard deviation of the samples is the square root of the mean value of the differences between each value and the mean value: \n",
    "\n",
    "<img src=\"https://latex.codecogs.com/gif.latex?s&space;=&space;\\sqrt{\\frac{1}{n-1}\\sum_{i=1}^{n}&space;(x_{i}-{\\bar{x}})^{2}}\" title=\"s = \\sqrt{\\frac{1}{n-1}\\sum_{i=1}^{n} (x_{i}-{\\bar{x}})^{2}}\" />\n",
    "\n",
    "The variance is simply the square of the standard deviation: \n",
    "\n",
    "<img src=\"https://latex.codecogs.com/gif.latex?s^{2}&space;=&space;\\frac{1}{n-1}\\sum_{i=1}^{n}&space;(x_{i}-{\\bar{x}})^{2}\" title=\"s^{2} = \\frac{1}{n-1}\\sum_{i=1}^{n} (x_{i}-{\\bar{x}})^{2}\" />\n",
    "\n",
    "The `statistics`package in Python contains methods from both standard devations of samples (`statistics.stdev()`) and the entire (estimated) population (`statistics.pstdev()`). \n",
    "\n",
    "- Use the corresponding functions to calculate standard deviation and variance (`statistics.variance()`) of the sampled groundwater temperatures. \n",
    "\n",
    "- Also, compare them to the values of the range and IQR above. \n"
   ]
  },
  {
   "cell_type": "code",
   "execution_count": 11,
   "metadata": {},
   "outputs": [
    {
     "name": "stdout",
     "output_type": "stream",
     "text": [
      "2.107264794059043\n",
      "4.440564912280702\n"
     ]
    }
   ],
   "source": [
    "# [13]\n",
    "stabw = statistics.stdev(GWT)\n",
    "print(stabw)\n",
    "var = statistics.variance(GWT)\n",
    "print(var)"
   ]
  },
  {
   "cell_type": "markdown",
   "metadata": {},
   "source": [
    "### Exercise 4: Measures for Skewness and Kurtosis\n",
    "\n",
    "Now, we can also calculate the skewness and kurtosis of the data. For the skewness there are two commonly used equations: \n",
    "\n",
    "Pearson's Mode Skewness: \n",
    "\n",
    "<img src=\"https://latex.codecogs.com/gif.latex?skewness&space;=&space;(mean-mode)/standarddeviation\" title=\"skewness = (mean-mode)/standarddeviation\" />\n",
    "\n",
    "Fisher Skewness: \n",
    "\n",
    "<img src=\"https://latex.codecogs.com/gif.latex?skewness&space;=&space;\\sum_{i=1}^{n}\\frac{(x_{i}-\\bar{x})^{3}}{s^{3}}\" title=\"skewness = \\sum_{i=1}^{n}\\frac{(x_{i}-\\bar{x})^{3}}{s^{3}}\" />\n",
    "\n",
    "- Calculate the Pearson Skewness \n",
    "\n",
    "- Calcualte the Fisher Skewness, using a `for` loop to calculate the difference from the mean for each value. \n",
    "\n",
    "- Then, compare both values. "
   ]
  },
  {
   "cell_type": "code",
   "execution_count": 12,
   "metadata": {},
   "outputs": [
    {
     "name": "stdout",
     "output_type": "stream",
     "text": [
      "-0.4144392939109973\n"
     ]
    },
    {
     "ename": "TypeError",
     "evalue": "'numpy.float64' object is not callable",
     "output_type": "error",
     "traceback": [
      "\u001b[1;31m---------------------------------------------------------------------------\u001b[0m",
      "\u001b[1;31mTypeError\u001b[0m                                 Traceback (most recent call last)",
      "Cell \u001b[1;32mIn[12], line 7\u001b[0m\n\u001b[0;32m      5\u001b[0m \u001b[38;5;66;03m# Fisher Skewness\u001b[39;00m\n\u001b[0;32m      6\u001b[0m Fisher \u001b[38;5;241m=\u001b[39m \u001b[38;5;241m0\u001b[39m\n\u001b[1;32m----> 7\u001b[0m \u001b[38;5;28;01mfor\u001b[39;00m i \u001b[38;5;129;01min\u001b[39;00m \u001b[38;5;28mrange\u001b[39m(n):\n\u001b[0;32m      8\u001b[0m     Fisher \u001b[38;5;241m+\u001b[39m\u001b[38;5;241m=\u001b[39m (GWT[i]\u001b[38;5;241m-\u001b[39mamean)\u001b[38;5;241m*\u001b[39m\u001b[38;5;241m*\u001b[39m\u001b[38;5;241m3\u001b[39m\u001b[38;5;241m/\u001b[39mstabw\u001b[38;5;241m*\u001b[39m\u001b[38;5;241m*\u001b[39m\u001b[38;5;241m3\u001b[39m\n\u001b[0;32m     10\u001b[0m \u001b[38;5;28mprint\u001b[39m(Fisher)\n",
      "\u001b[1;31mTypeError\u001b[0m: 'numpy.float64' object is not callable"
     ]
    }
   ],
   "source": [
    "# [14] Pearson Skewness\n",
    "Pearson = (amean - statistics.mode(GWT))/stabw\n",
    "print (Pearson)\n",
    "\n",
    "# Fisher Skewness\n",
    "Fisher = 0\n",
    "for i in range(n):\n",
    "    Fisher += (GWT[i]-amean)**3/stabw**3\n",
    "\n",
    "print(Fisher)"
   ]
  },
  {
   "cell_type": "markdown",
   "metadata": {},
   "source": [
    "The fourth statistical measure is the kurtosis, which describes the  difference in \"peakyness\" of the distribution relative to a normal distribution. It can be calculated similarly to the Fisher Skewness: \n",
    "\n",
    "<img src=\"https://latex.codecogs.com/gif.latex?kurtosis&space;=&space;\\sum_{i=1}^{n}\\frac{(x_{i}-\\bar{x})^{4}}{s^{4}}\" title=\"kurtosis = \\sum_{i=1}^{n}\\frac{(x_{i}-\\bar{x})^{4}}{s^{4}}\" />\n",
    "\n",
    "- Copy your code for the Fisher Skewness from above and adapt it for calculating the kurtosis. \n",
    "\n",
    "- Is the distribution of groundwater temperature values more or less \"peaky\" than a normal distribution? \n"
   ]
  },
  {
   "cell_type": "code",
   "execution_count": null,
   "metadata": {},
   "outputs": [],
   "source": [
    "# [16]\n",
    "Kurtosis = 0\n",
    "for i in range(n):\n",
    "    Kurtosis += (GWT[i]-amean)**4/stabw**4\n",
    "print(Kurtosis)\n",
    "\n",
    "# kurtosis >> 0, so more peaky than a normal distribution. "
   ]
  },
  {
   "cell_type": "markdown",
   "metadata": {},
   "source": [
    "Now you have calculated all four statistical measures for the groundwater temperature. If there is time left, you can explore other parameters. Using `scipy.stats.describe()` you can get almost all descriptive measures in one go ;)\n",
    "\n",
    "\n",
    "## END"
   ]
  }
 ],
 "metadata": {
  "kernelspec": {
   "display_name": "GDA1",
   "language": "python",
   "name": "python3"
  },
  "language_info": {
   "codemirror_mode": {
    "name": "ipython",
    "version": 3
   },
   "file_extension": ".py",
   "mimetype": "text/x-python",
   "name": "python",
   "nbconvert_exporter": "python",
   "pygments_lexer": "ipython3",
   "version": "3.11.5"
  }
 },
 "nbformat": 4,
 "nbformat_minor": 4
}
