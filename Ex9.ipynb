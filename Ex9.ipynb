{
 "cells": [
  {
   "cell_type": "code",
   "execution_count": null,
   "metadata": {},
   "outputs": [],
   "source": [
    "## ***Uncertainty Quantification***\n",
    "\n",
    "Prof. Dr. Martin Frank\n",
    "\n",
    "------------------------------------------------------------------------\n",
    "\n",
    "#### **EXERCISE SHEET 9**"
   ]
  },
  {
   "cell_type": "code",
   "execution_count": null,
   "metadata": {
    "scrolled": true
   },
   "outputs": [],
   "source": [
    "!pip install ghalton\n",
    "import numpy as np\n",
    "import sobol_seq\n",
    "from pyDOE import *\n",
    "import matplotlib.pyplot as plt\n",
    "import math\n",
    "import ghalton"
   ]
  },
  {
   "cell_type": "markdown",
   "metadata": {},
   "source": [
    "**EXERCISE 1)**\n",
    "\n",
    "Verify some details used in the sparse grid error estimates:\n",
    "\n",
    "&nbsp;&nbsp;&nbsp;&nbsp;&nbsp;&nbsp; (a) Show that the number of nodes $n$ of stage $l$ in the dimension $d$ used in a sparse grid satisfies \n",
    "\n",
    "$$n(d,l) \\leq 2^l {l+d-2 \\choose d-1}$$\n",
    "\n",
    "&nbsp;&nbsp;&nbsp;&nbsp;&nbsp;&nbsp;     if $R_l \\leq 2^{l-1}$.\n",
    "\n",
    "&nbsp;&nbsp;&nbsp;&nbsp;&nbsp;&nbsp;    *Hint:* \n",
    "$$n(d,l) \\leq \\sum_{|l'|\\leq l+d-1} 2^{|l'-1|}.$$\n",
    "\n",
    "&nbsp;&nbsp;&nbsp;&nbsp;&nbsp;&nbsp; (b) Let \n",
    "$$ \\|f\\|_{H^1} = f(0) + \\|f'\\|_{L^2} $$\n",
    "\n",
    "&nbsp;&nbsp;&nbsp;&nbsp;&nbsp;&nbsp;    Show that if in 1D                                                                                             $$|\\Delta_l^{(1)}f| \\leq 2^{-l+1} \\|f\\|_{H^1} \\;\\;,$$\n",
    "\n",
    "&nbsp;&nbsp;&nbsp;&nbsp;&nbsp;&nbsp;    then \n",
    "$$|\\Delta_{l_1}^{(1)} \\otimes \\cdot \\cdot \\cdot \\otimes \\Delta_{l_p}^{(1)}f| \\leq b_l \\|f\\|_{H^1} \\;\\;,$$\n",
    "\n",
    "&nbsp;&nbsp;&nbsp;&nbsp;&nbsp;&nbsp;    where $b_l = 2^{-|l-1|}$, and $l$ is a multi-index $l=(l_1,...,l_d).$"
   ]
  },
  {
   "cell_type": "code",
   "execution_count": null,
   "metadata": {},
   "outputs": [],
   "source": []
  }
 ],
 "metadata": {
  "kernelspec": {
   "display_name": "Python 3 (ipykernel)",
   "language": "python",
   "name": "python3"
  },
  "language_info": {
   "codemirror_mode": {
    "name": "ipython",
    "version": 3
   },
   "file_extension": ".py",
   "mimetype": "text/x-python",
   "name": "python",
   "nbconvert_exporter": "python",
   "pygments_lexer": "ipython3",
   "version": "3.10.4"
  },
  "latex_envs": {
   "LaTeX_envs_menu_present": true,
   "autoclose": false,
   "autocomplete": true,
   "bibliofile": "biblio.bib",
   "cite_by": "apalike",
   "current_citInitial": 1,
   "eqLabelWithNumbers": true,
   "eqNumInitial": 1,
   "hotkeys": {
    "equation": "Ctrl-E",
    "itemize": "Ctrl-I"
   },
   "labels_anchors": false,
   "latex_user_defs": false,
   "report_style_numbering": false,
   "user_envs_cfg": false
  }
 },
 "nbformat": 4,
 "nbformat_minor": 4
}
