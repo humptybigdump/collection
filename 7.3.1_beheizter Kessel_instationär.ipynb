{
 "cells": [
  {
   "cell_type": "markdown",
   "id": "e71d889b-d0c2-4770-b075-cf8b40ae7c21",
   "metadata": {
    "tags": []
   },
   "source": [
    "# 7.3.1 Lineare Prozessmodelle (instationär)\n",
    "## beheizter Rührkessel (wie Übung 1)"
   ]
  },
  {
   "cell_type": "code",
   "execution_count": 1,
   "id": "6260f5ac-7600-448d-a737-06a6c7fc32f3",
   "metadata": {},
   "outputs": [],
   "source": [
    "import numpy as np\n",
    "import matplotlib.pyplot as plt"
   ]
  },
  {
   "cell_type": "markdown",
   "id": "3d111de1-33c7-46ce-9682-109076fe6c9f",
   "metadata": {
    "tags": []
   },
   "source": [
    "# Definition der Funktion(en)"
   ]
  },
  {
   "cell_type": "markdown",
   "id": "70f40a00-c491-4d00-93ac-0d01e0659a2a",
   "metadata": {
    "tags": []
   },
   "source": [
    "Die Aufgabenstellung ist exakt die gleiche wie die in Ü1. Allerdings wird ein anderer Lösungsweg dargestellt. In Ü1 wurde auf dem Papier analytisch integriert und so eine Gleichung für das bestimmte Integral ermittelt, die mehrfach angewendet wird.\n",
    "Hier wird iterativ statt analytisch gelöst. \n",
    "\n",
    "**(1):** Der Startwert von ```T``` wird beginnend bei ```T_0``` sukzessive erhöht, wobei die differentielle Gleichung Skript (7-5) bzw. Lsg. Ü1 (1.1) über die Schrittweite ```delta_t``` linearisiert betrachtet wird.\n",
    "\n",
    "\n",
    "\n",
    "\n",
    "\n",
    "**(2):** Die Schleife nimmt sich den aktuellen T-Wert aus der Liste über ```T_list[i]``` und schreibt den neuen Wert in den darauffolgenden leeren Platz über ```T_list[i+1]```. \n",
    "- Daher muss die Schleife beim vorletzten Eintrag mit dem Index ```(len(T_list)-2)``` beenden.\n",
    "- ```range(n)``` ist ein schneller Befehl um eine Liste [0, 1, ..., n-1] zu erzeugen und eignet sich als Indexmethode. (Python beginnt seine Indizes stets bei 0).\n",
    "- Tipp: Beobachte Variablen durch z.B. ```print(j)``` in der Schleife.\n"
   ]
  },
  {
   "cell_type": "code",
   "execution_count": 2,
   "id": "c6a22b37-c883-4e57-87fb-72fae38678bc",
   "metadata": {},
   "outputs": [],
   "source": [
    "# Definition einer aufrufbaren Funktion: [t],Q -> [T(t,Q)]\n",
    "def temperaturverlauf(t_range, Q_zu):\n",
    "    \n",
    "    T_list = [None] * len(t_range)\n",
    "    T_list[0] = T_0\n",
    "    \n",
    "    for i in range(len(T_list)-1):                                       # (2)\n",
    "        H_zu = M_punkt_1*cp*T_1\n",
    "        H_ab = M_punkt_1*cp*T_list[i]\n",
    "        Q_verl = k*A*(T_list[i]-T_u)\n",
    "        T_list[i+1] = T_list[i] + delta_t/(M*cp)*(H_zu-H_ab+Q_zu-Q_verl) # (1)  \n",
    "        \n",
    "    return T_list"
   ]
  },
  {
   "cell_type": "code",
   "execution_count": 3,
   "id": "727d30a3-d052-4ffa-bf4b-e310fa072cbf",
   "metadata": {
    "jupyter": {
     "source_hidden": true
    },
    "tags": []
   },
   "outputs": [
    {
     "name": "stdout",
     "output_type": "stream",
     "text": [
      "0\n",
      "1\n",
      "2\n"
     ]
    }
   ],
   "source": [
    "# Nur für den Lerneffekt gedacht, kein Teil der Berechnung:\n",
    "for j in range(3):  # (2)\n",
    "    print(j)"
   ]
  },
  {
   "cell_type": "markdown",
   "id": "7e7890e0-cd3b-4a21-a324-b37182a3bf72",
   "metadata": {},
   "source": [
    "# Eingabe der Werte"
   ]
  },
  {
   "cell_type": "markdown",
   "id": "0b873c5c-0497-429c-8c52-d95b9b916a89",
   "metadata": {
    "tags": []
   },
   "source": [
    "**(3):** In Ü1 wurde die Option \"linspace\" benutzt um eine Zeitwertsliste zu erstellen.\n",
    "<br>```np.linspace(start, stop, number_points)```\n",
    "<br>```np.linspace(0, 1, 3)``` erzeugt die Liste [0, 0.5, 1]\n",
    "<br><br>\n",
    "Nun wird die Option \"arange\" verwendet.\n",
    "<br>```np.arange(start, stop, width_step)``` \n",
    "<br>```np.arange(0, 1, 0.5)``` erzeugt die Liste [0, 0.5], da stop nur in Ausnahmefällen inkludiert wird.\n",
    "<br>```np.arange(0, 1+0.5, 0.5)``` erzeugt die Liste [0, 0.5, 1]."
   ]
  },
  {
   "cell_type": "code",
   "execution_count": 4,
   "id": "43de5c27-2749-4137-87d5-85703664c353",
   "metadata": {},
   "outputs": [],
   "source": [
    "# Vorgabe globaler PARAMETER (bei Aufruf der Funktion verwendet) (Typ ZWANG):\n",
    "M_punkt_1 = 1800 / 3600    # Massenstrom ein [kg/s]\n",
    "M = 250                    # Masse in Behälter [kg]\n",
    "cp = 4180                  # spez. Wärmekapazität [J/kg/K]\n",
    "T_1 = 25                   # Temperatur ein [°C]\n",
    "T_u = 20                   # Temperatur Umgebung [°C]\n",
    "k = 5                      # Wärmedurchgangskoeffizient [W/m^2/K]\n",
    "A = 3.5                    # wärmeübertragende Fläche [m]\n",
    "\n",
    "# Vorgabe Anfangstemperatur [°C]\n",
    "T_0 = 20     "
   ]
  },
  {
   "cell_type": "code",
   "execution_count": 5,
   "id": "a85660a4-640e-40fc-9800-91179acaaa50",
   "metadata": {},
   "outputs": [],
   "source": [
    "# Vorgabe PARAMETER (die bei Aufruf der Funtkion noch variiert werden können):\n",
    "Q_zu_1 = 1000              # Wärmestrom zu [W] \n",
    "Q_zu_2 = 10000\n",
    "Q_zu_3 = 100000\n",
    "\n",
    "# Erzeugung von t-Inputvektor: Zeitwertsliste  # (3)\n",
    "delta_t = 100      # Schrittweite [s] \n",
    "t_Ende = 3600     \n",
    "t_range = np.arange(0, t_Ende+delta_t, delta_t)"
   ]
  },
  {
   "cell_type": "markdown",
   "id": "90dbbd90-56b1-476f-9dc6-bf2a88686e93",
   "metadata": {},
   "source": [
    "# Lösung durch Aufruf der Funktion(en)"
   ]
  },
  {
   "cell_type": "code",
   "execution_count": 6,
   "id": "147cd828-3d50-4f10-a06e-146cc9f16f73",
   "metadata": {},
   "outputs": [],
   "source": [
    "tempv_1 = temperaturverlauf(t_range, Q_zu_1)\n",
    "tempv_2 = temperaturverlauf(t_range, Q_zu_2)\n",
    "tempv_3 = temperaturverlauf(t_range, Q_zu_3)"
   ]
  },
  {
   "cell_type": "markdown",
   "id": "83a0a1cf-6b57-42f8-b381-2280f67dff29",
   "metadata": {},
   "source": [
    "# Untersuchung der Ergebnisse"
   ]
  },
  {
   "cell_type": "code",
   "execution_count": 7,
   "id": "6ce2c08b-04b6-4bb6-b659-2d6067bf7315",
   "metadata": {},
   "outputs": [],
   "source": [
    "# Definition einer aufrufbaren Plotfunktion\n",
    "def plot_values(x_list, y_lists, \n",
    "                x_label='x_label', y_label='y_label', figname=None):\n",
    "    \n",
    "    fig, ax = plt.subplots()\n",
    "    \n",
    "    for y_list, name in y_lists:\n",
    "        ax.plot(x_list, y_list, label=name)\n",
    "    \n",
    "    plt.xlabel(x_label)\n",
    "    plt.ylabel(y_label)\n",
    "    plt.grid()\n",
    "    plt.legend()\n",
    "    \n",
    "    if figname != None:\n",
    "        fig.savefig(figname, dpi=300)"
   ]
  },
  {
   "cell_type": "code",
   "execution_count": 8,
   "id": "00b1b8eb-a12f-42b2-9c31-f478a01e66fa",
   "metadata": {},
   "outputs": [
    {
     "data": {
      "image/png": "[encoded data removed]",
      "text/plain": [
       "<Figure size 640x480 with 1 Axes>"
      ]
     },
     "metadata": {},
     "output_type": "display_data"
    }
   ],
   "source": [
    "# Erzeugung eines für die \"plot_values\"-Funktion geeigneten Datensatzes\n",
    "y_lists = [ [tempv_1, 'Q=1 kW'], [ tempv_2, 'Q=10 kW'], [ tempv_3, 'Q=100 kW'] ]\n",
    "\n",
    "# und Aufruf der Funktion\n",
    "plot_values(t_range, y_lists, \n",
    "            x_label='Zeit [s]', y_label='Temperatur [°C]')"
   ]
  }
 ],
 "metadata": {
  "kernelspec": {
   "display_name": "Python 3 (ipykernel)",
   "language": "python",
   "name": "python3"
  },
  "language_info": {
   "codemirror_mode": {
    "name": "ipython",
    "version": 3
   },
   "file_extension": ".py",
   "mimetype": "text/x-python",
   "name": "python",
   "nbconvert_exporter": "python",
   "pygments_lexer": "ipython3",
   "version": "3.8.12"
  }
 },
 "nbformat": 4,
 "nbformat_minor": 5
}
