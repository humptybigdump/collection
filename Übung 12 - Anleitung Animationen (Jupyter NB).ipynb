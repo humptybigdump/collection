{
 "cells": [
  {
   "cell_type": "markdown",
   "metadata": {},
   "source": [
    "# Anleitung: Animationen erstellen in Python - Beispiel variierender Entwicklungspunkt im Taylor-Polynom"
   ]
  },
  {
   "cell_type": "markdown",
   "metadata": {},
   "source": [
    "In diesem Notebook soll eine Animation erstellt werden, die die Taylor-Polynom zweiter Ordnung der Funktion \\\\(f(x)=\\sin(x)\\\\) mit variierenden Entwicklungspunkt \\\\(x_0\\\\) zeigt. Die Taylor-Polynome sind gegeben durch\n",
    "\n",
    "\\\\[ T_2(x,x_0) = f(x_0) + f'(x_0)(x-x_0) + \\frac{f''(x_0)}{2} (x-x_0)^2 \\\\\n",
    "= \\sin(x_0) + \\cos(x_0)(x-x_0) - \\frac{\\sin(x_0)}{2}(x-x_0)^2.\\\\]"
   ]
  },
  {
   "cell_type": "markdown",
   "metadata": {},
   "source": [
    "**Grundprinzip von Animationen:**\n",
    "- Eine Animation ist eine Abfolge von einzelnen Bildern, die nacheinander gezeigt werden. Je nach Anwendung wählt man den zeitlichen Abstand zwischen zwei aufeinanderfolgenden Bildern sehr klein (Bruchteil einer Sekunde), so dass ein für den menschlichen Betrachter scheinbar flüssiges Video entsteht, oder größer (einige Sekunden), falls jedes Bild eigenständig zu betrachten ist (z.B. für die Animation von Interpolationspolynomen für eine Auswahl an Stützstellen-Zahlen \\\\(n\\\\)).\n",
    "- Grundbaustein aller Animation in Python ist deshalb eine Funktion `frames(i)`, die definiert, wie das \\\\(i\\\\)-te Bild (\\\\(i=0,1,2,...\\\\)) der gewünschten Animation aussieht. Zusammen mit einem Animationsbefehl, der all diese Bilder nacheinander erstellt und anzeigt, entsteht eine Animation.\n"
   ]
  },
  {
   "cell_type": "markdown",
   "metadata": {},
   "source": [
    "**Grundlegende Paktete:**"
   ]
  },
  {
   "cell_type": "code",
   "execution_count": null,
   "metadata": {},
   "outputs": [],
   "source": [
    "import numpy as np # mathematische Funktionen\n",
    "import matplotlib.pyplot as plt # Erstellung von Plots\n",
    "import matplotlib.animation as animation # Erstellung von Animationen\n",
    "from IPython.display import HTML # Einbinden von Animationen ins Jupyter Notebook"
   ]
  },
  {
   "cell_type": "markdown",
   "metadata": {},
   "source": [
    "**Detaillierter Ablauf:**\n",
    "\n",
    "Eine Animation besteht üblicherweise aus Grafik-Elementen (Linien, Punkte, Beschriftungen, ...) zweier Arten:\n",
    "\n",
    "- Statische Grafik-Elemente, d.h. Grafik-Elemente, die sich nicht verändern im Laufe der Animation\n",
    "- Dynamische Grafik-Elemente, d.h. Grafik-Elemente, die sich von Bild zu Bild ändern.\n",
    "\n",
    "In unserem Beispiel wollen wir folgende Grafik-Elemente darstellen:\n",
    "\n",
    "- Die Funktion \\\\(f\\\\). Diese ist grundsätzlich der Sinus \\\\(\\Rightarrow\\\\) statisch.\n",
    "- Den Entwicklungspunkt \\\\(x_0\\\\). Dieser soll variieren \\\\(\\Rightarrow\\\\) dynamisch.\n",
    "- Das Taylor-Polynom zweiten Grades zum Entwicklungspunkt \\\\(x_0\\\\). Da der Entwicklungspunkt variiert, variiert auch das Taylor-Polynom \\\\(\\Rightarrow\\\\) dynamisch."
   ]
  },
  {
   "cell_type": "markdown",
   "metadata": {},
   "source": [
    "**Zeichnen der statischen Grafik-Elemente:**\n",
    "Die `frames` Funktion soll nur die dynamischen Grafik-Elemente zeichnen. Die statischen Elemente hingegen werden außerhalb der Funktion `frames` gezeichnet, mit den bekannten Befehlen zum Erstellen von Plots. In unserem Beispiel erstellen wir für den Plot des Sinus wie gewohnt einen Vektor `x`, der aus einer Vielzahl von \\\\(x\\\\)-Werten besteht, berechnen dann die Funktionswerte des Sinus an all diesen \\\\(x\\\\)-Werten, speichern sie in einem Vektor `y`, und zeichen schließlich den Sinus wie üblich durch den Befehl `plt.plot(x,y)` (ggf. um gewünschte Darstellungsoptionen ergänzt)."
   ]
  },
  {
   "cell_type": "markdown",
   "metadata": {},
   "source": [
    "**Zeichnen der dynamischen Grafik-Elemente:**\n",
    "Die `frames` Funktion soll die dynamischen Grafik-Elemente nicht komplett neu zeichnen, sondern lediglich die zugrundeliegenden Daten der einzelnen dynamischen Grafik-Elemente ändern. Wir gehen dazu folgendermaßen vor:\n",
    "\n",
    "- Wir erstellen die dynamischen Grafik-Elemente schon außerhalb der `frames` Funktion, wieder mit den bekannten Plot-Befehlen, allerdings zunächst mit leeren Datenvektoren. Anstatt also wie üblich den Plot-Befehlen Vektoren wie z.B. `x`, `x_data`, `y` oder `y_data` zu übergeben, übergeben wir stattdessen leere Vektoren `[]`.\n",
    "- Um später in der `frames` Funktion die Daten der Grafik-Elemte ändern zu können, müssen wir den Grafik-Elementen Bezeichnungen (= Variablennamen) vergeben. Dies geschieht über den Zusatz `name_des_elements, = ` vor den Plot Befehlen (beachte das Komma nach dem Element-Name). Das Taylor-Polynom bereiten wir zum Beispiel durch den Befehl `taylor_poly, = plt.plot([],[])` vor (ggf. um gewünschte Darstellungsoptionen ergänzt).\n",
    "- In der `frames` Funktion werden dann die Daten der einzelnen Grafikelemte geändert. Dazu sind zwei Schritte nötig:\n",
    "    - Zunächst müssen in Abhängigkeit des Index `i` die Daten des `i`-ten darzustellenden Bildes berechnet werden. Dabei muss beachtet werden, dass der Bild-Index `i` grundsätzlich bei \\\\(0\\\\) startet. Für unsere Animation wollen wir den Entwicklungspunkt bei \\\\(-2\\pi\\\\) starten lassen und dann in \\\\(0.05\\\\)-er Schritten nach rechts bewegen. Den entsprechenden \\\\(x\\\\)-Wert berechnen wir also durch `x_0 = -2*np.pi + i*0.05`. Der \\\\(y\\\\)-Wert des Entwicklungspunktes wird einfach durch `y_0 = f(x_0)` berechnet. Für das aktuelle Taylor-Polynom verwenden wir dann den neuen Entwicklungspunkt und berechnen die Funktionswerte des Taylor-Polynoms zu diesem durch `y_taylor = Taylor_2_sin(x,x_0)` (beachte, dass wir dazu den selben \\\\(x\\\\)-Wert-Vektor wie für den Plot des Sinus verwenden können).\n",
    "    - Anschließend müssen die Daten der Grafik-Elemente erneuert werden. Dies erfolgt durch den Befehl `name_des_elements.set_data(x_daten,y_daten)`.\n",
    "- Zum Abschluss der `frames` Funktion müssen die Bezeichnungen der Grafikelemente als Liste (d.h. durch Komma getrennt und durch eckige Klammern umschlossen) zurückgegeben werden. Auch wenn nur ein dynamisches Grafik-Element existiert sind dabei die eckigen Klammern wichtig!"
   ]
  },
  {
   "cell_type": "markdown",
   "metadata": {},
   "source": [
    "**Der Animationsbefehl und weitere nötige Befehle:**\n",
    "\n",
    "Nun muss nurnoch die eigentliche Animation erstellt werden. Dazu sind folgende weitere Befehle nötig:\n",
    "\n",
    "- Es muss eine \"Leinwand\" (in Programmiersprache `figure`), auf die alle Linien usw. gezeichnet werden, erstellt werden und ihr ein Name vergeben werden. Normalerweise wird so eine Leinwand automatisch erstellt, sobald der erste Plot-Befehl aufgerufen wird. Ihr wird dann aber kein Name vergeben. Da wir dem Animationsbefehl allerdings explizit den Namen der Leinwand nennen müssen, erstellen wir hier auch explizit eine Leinwand durch `fig = plt.figure()` (`fig` ist dann der Leinwand-Name). Dies muss vor Aufruf des ersten Plot-Befehls (also am besten ganz am Anfang) geschehen.\n",
    "\n",
    "- Es folgt der eigentliche Animationsbefehl\n",
    "\n",
    "    `ani = animation.FuncAnimation(fig, frames, interval=543, blit=True, save_count=21)`\n",
    "\n",
    "  Dabei werden folgende Argumente übergeben:\n",
    "  - `fig`: Der Name der Leinwand\n",
    "  - `frames`: Der Name der `frames` Funktion\n",
    "  - `interval`: Der Zeitabstand zwischen zwei Bildern in Millisekunden\n",
    "  - `blit=True`: Zusätzliche Option, damit nur Daten geändert werden anstatt jedes Bild neu zu zeichnen. Ohne die Option dauert das Erstellen der Animation teils sehr lange.\n",
    "  - `save_count`: Die Anzahl an Bildern, die gezeigt werden sollen. Der Index \\\\(i\\\\) der `frames`-Funktion läuft also von \\\\(i=0\\\\) bis \\\\(i=\\\\)`save_count`\\\\(-1\\\\)\n",
    "  \n",
    "  Außerdem ist `ani` der Name, den wir der Animation vergeben haben.\n",
    "\n",
    "- Zum Abschluss folgen die Befehle `plt.close()` und `HTML(ani.to_jshtml())`. Durch den zweiten Befehl wird die Animation ins Jupyter-Notebook eingebunden. `ani` ist dabei erneut der Name der Animation. Der Befehl `plt.close()` davor verhindert, dass zusätzlich zur Animation noch ein statisches Bild des Plots angezeigt wird. "
   ]
  },
  {
   "cell_type": "code",
   "execution_count": null,
   "metadata": {},
   "outputs": [],
   "source": [
    "def Taylor_2_sin(x,x_0):\n",
    "    return np.sin(x_0) + np.cos(x_0)*(x-x_0) - np.sin(x_0)/2*(x-x_0)**2\n",
    "\n",
    "# Leinwand erstellen\n",
    "fig = plt.figure()\n",
    "\n",
    "# 1.) Grafik-Elemente, die statisch bleiben sollen, werden erstellt\n",
    "x = np.linspace(-2*np.pi,2*np.pi,1000)\n",
    "y = np.sin(x)\n",
    "plt.plot(x,y, label = 'Sinus')\n",
    "\n",
    "# 2.) Dynamische Grafik-Elemente werden zunächst ohne Daten erstellt\n",
    "taylor_poly, = plt.plot([],[],'r',label = 'Taylorpolynom')\n",
    "taylor_point, = plt.plot([],[],'ro',label = 'Entwicklungspunkt')\n",
    "\n",
    "plt.legend(loc = 'upper right')\n",
    "\n",
    "# 3.) frames-Funktion, die die dynamischen Grafik Elemente des\n",
    "# Bildes in Abhängigkeit des Zählindex i mit Daten befüllt\n",
    "def frames(i):\n",
    "    # Neue Daten generieren\n",
    "    x_0 = -2*np.pi + i*0.05\n",
    "    y_0 = np.sin(x_0)\n",
    "    y_taylor = Taylor_2_sin(x,x_0)\n",
    "    # Dynamische Grafik-Elemente updaten\n",
    "    taylor_poly.set_data(x,y_taylor)\n",
    "    taylor_point.set_data(x_0,y_0)\n",
    "    # Namen aller dyn. Grafikelemente als Liste zurückgeben\n",
    "    return [taylor_poly,taylor_point]\n",
    "# 4.) Animationsbefehl, der die Bilder für ein i nach dem\n",
    "# anderen anzeigt\n",
    "ani = animation.FuncAnimation(fig, frames, interval=100,\n",
    "                              blit=True, save_count=int(4*np.pi/0.05)+1)\n",
    "\n",
    "plt.close()\n",
    "HTML(ani.to_jshtml())"
   ]
  },
  {
   "cell_type": "markdown",
   "metadata": {},
   "source": [
    "**Ergänzen einer dynamischen Beschriftung:**\n",
    "\n",
    "Wir wollen unsere Animation noch durch einen Hinweis ergänzen, der anzeigt, welchen Wert die Entwicklungsstelle \\\\(x_0\\\\) gerade hat. Dazu eignet sich der Befehl `plt.text(x,y,s)`. Dabei geben `x` und `y` die Koordinaten des Textes im Plot an und `s` erhält den anzuzeigenden Text als string. Außerdem gibt es viele Optionen, mit denen man das Erscheinungsbild des Textes beeinflussen kann. Wir verwenden die folgenden Optionen:\n",
    "\n",
    "- `ha` (für horizontal alignment): gibt an, wie der Text in horizontaler Richtung gegenüber der x-Koordinate platziert sein soll: `x` gibt die Mitte des Textes an (`ha='center'`), `x` gibt das rechte Ende des Textes an (`ha='right'`) oder `x` gibt das linke Ende des Textes an (`ha='left'`).\n",
    "- `va` (für vertical alignment): gibt an, wie der Text in vertikaler Richtung gegenüber der y-Koordinate platziert sein soll: `y` gibt die Mitte des Textes an (`va='center'`), `y` gibt das obere Ende des Textes an (`va='top'`) oder `y` gibt das untere Ende des Textes an (`va='bottom'`).\n",
    "- `fontsize`: Schriftgröße des Textes\n",
    "\n",
    "Da die Entwicklungsstelle variiert, ändert sich auch der Text in jedem Bild. Er gehört also zu den dynamischen Grafikobjekten. Dabei ändert sich aber nur der anzuzeigende Text, die Koordinaten bleiben unverändert. Wir initialisieren den Text also bereits mit zwei Werten für die Koordinaten `x` und `y`, aber mit einem leeren String `''`. Außerdem vergeben wir dem Text-Element den Namen `value_label` (beachte, dass für Text-Elemente kein Komma nach dem Variablenname nötig/erlaubt ist).\n",
    "\n",
    "In der `frames` Funktion können wir dann mit dem Befehl `text_element_name.set_text(string)` den anzuzeigenden Text des Text-Elements aktualisieren. Außerdem ergänzen wir das Text-Element im `return` Befehl."
   ]
  },
  {
   "cell_type": "code",
   "execution_count": null,
   "metadata": {},
   "outputs": [],
   "source": [
    "def Taylor_2_sin(x,x_0):\n",
    "    return np.sin(x_0) + np.cos(x_0)*(x-x_0) - np.sin(x_0)/2*(x-x_0)**2\n",
    "\n",
    "# Leinwand erstellen\n",
    "fig = plt.figure()\n",
    "\n",
    "# 1.) Grafik-Elemente, die statisch bleiben sollen, werden erstellt\n",
    "x = np.linspace(-2*np.pi,2*np.pi,1000)\n",
    "y = np.sin(x)\n",
    "plt.plot(x,y, label = 'Sinus')\n",
    "\n",
    "# 2.) Dynamische Grafik-Elemente werden zunächst ohne Daten erstellt\n",
    "taylor_poly, = plt.plot([],[],'r',label = 'Taylorpolynom')\n",
    "taylor_point, = plt.plot([],[],'ro',label = 'Entwicklungspunkt')\n",
    "value_label = plt.text(0,-1.5,'',ha='center',va='center',\n",
    "                fontsize = 24)\n",
    "\n",
    "plt.legend(loc = 'upper right')\n",
    "plt.ylim(-2,1.2)\n",
    "\n",
    "# 3.) frames-Funktion, die die dynamischen Grafik Elemente des\n",
    "# Bildes in Abhängigkeit des Zählindex i mit Daten befüllt\n",
    "def frames(i):\n",
    "    # Neue Daten generieren\n",
    "    x_0 = -2*np.pi + i*0.05\n",
    "    y_0 = np.sin(x_0)\n",
    "    y_taylor = Taylor_2_sin(x,x_0)\n",
    "    # Dynamische Grafik-Elemente updaten\n",
    "    taylor_poly.set_data(x,y_taylor)\n",
    "    taylor_point.set_data(x_0,y_0)\n",
    "    value_label.set_text('x_0 = '+str(round(x_0,2)))\n",
    "    # Namen aller dyn. Grafikelemente als Liste zurückgeben\n",
    "    return [taylor_poly,taylor_point,value_label]\n",
    "# 4.) Animationsbefehl, der die Bilder für ein i nach dem\n",
    "# anderen anzeigt\n",
    "ani = animation.FuncAnimation(fig, frames, interval=100,\n",
    "                              blit=True, save_count=int(4*np.pi/0.05)+1)\n",
    "\n",
    "plt.close()\n",
    "HTML(ani.to_jshtml())"
   ]
  }
 ],
 "metadata": {
  "kernelspec": {
   "display_name": "Python 3",
   "language": "python",
   "name": "python3"
  },
  "language_info": {
   "codemirror_mode": {
    "name": "ipython",
    "version": 3
   },
   "file_extension": ".py",
   "mimetype": "text/x-python",
   "name": "python",
   "nbconvert_exporter": "python",
   "pygments_lexer": "ipython3",
   "version": "3.8.3"
  }
 },
 "nbformat": 4,
 "nbformat_minor": 4
}
