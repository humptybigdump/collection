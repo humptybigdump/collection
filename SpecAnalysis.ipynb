{
 "cells": [
  {
   "cell_type": "markdown",
   "metadata": {},
   "source": [
    "# Practicals in Seismology, winter semester 2024/25\n",
    "\n",
    "_____\n",
    "\n",
    "### Week 3, 06 November 2024  \n",
    "### Topics: Seismogram spectral analysis\n",
    "### Responsible: Dr. Yajian Gao\n",
    "\n",
    "-------\n",
    "\n",
    "**In this week's practicals you will work with simple obspy functions, learn and/or recapulate and practice**\n",
    "\n",
    "* how to read earthquake data\n",
    "* how to plot earthquake data, and how to distinguish between local, regional and teleseismic events\n",
    "* how to filter earthquake data, and which filters are useful for local, regional and teleseismic events\n",
    "* how to compute spectrograms and how to plot them\n",
    "---"
   ]
  },
  {
   "cell_type": "markdown",
   "metadata": {},
   "source": [
    "**Task 1: Local earthquake**\n",
    "\n",
    "During the first practical (27 October) you already used simple obspy functions, read in a data stream and plotted the data. Do you still remember how to import obspy and its read-function? "
   ]
  },
  {
   "cell_type": "code",
   "execution_count": 20,
   "metadata": {},
   "outputs": [],
   "source": [
    "# import obspy\n",
    "# import the read function from obspy"
   ]
  },
  {
   "cell_type": "markdown",
   "metadata": {},
   "source": [
    "During the practicals on 27 October, you read in the data, which was stored in a folder \"Files\". Today, you can do that in a very similar way. There is also a \"Files\" folder available for today's practicals. Please take a look at those files: The number after the D. gives you the year, the number after the year gives you the Julian Day. Julian days are a simple continuous count, starting on 1 January of each year with 1, running to 365 (or 366 in leap years). Use the linux command <code>ll</code> in a terminal to list all files in the folder.\n",
    "\n",
    "Now, read in the three files from 14 July 2018 (Julian Day 195)."
   ]
  },
  {
   "cell_type": "code",
   "execution_count": 21,
   "metadata": {},
   "outputs": [],
   "source": [
    "# read in the data to stream"
   ]
  },
  {
   "cell_type": "markdown",
   "metadata": {},
   "source": [
    "Print the stream using <code>print(st)</code>, and also print its length using <code>len(st)</code>"
   ]
  },
  {
   "cell_type": "code",
   "execution_count": 22,
   "metadata": {},
   "outputs": [],
   "source": [
    "#print stream\n",
    "#print length of stream"
   ]
  },
  {
   "cell_type": "markdown",
   "metadata": {},
   "source": [
    "What do you think are the three traces in your stream? How do they differ? What do they have in common? How long is each trace approximately?\n",
    "\n",
    "Check your considerations by printing the station, channel, starttime and first data sample of the first trace in st! Remember that the first trace is indexed with a \"0\". Then, check the remaining traces."
   ]
  },
  {
   "cell_type": "code",
   "execution_count": 23,
   "metadata": {},
   "outputs": [],
   "source": [
    "# print(st[0].stats.station) # prints the first trace's station name\n",
    "# now print the channel of the first trace\n",
    "# print the starttime of the first trace\n",
    "# print the first data point of the first trace\n",
    "# do the same for the two remaining traces"
   ]
  },
  {
   "cell_type": "markdown",
   "metadata": {},
   "source": [
    "Assign the vertical component (which trace in stream?) to the variable tr and print it to check if everything went well."
   ]
  },
  {
   "cell_type": "code",
   "execution_count": 24,
   "metadata": {},
   "outputs": [],
   "source": [
    "# assign vertical component from stream to new variable tr\n",
    "# print the trace"
   ]
  },
  {
   "cell_type": "markdown",
   "metadata": {},
   "source": [
    "Now plot this trace using the command <code>tr.plot()</code>."
   ]
  },
  {
   "cell_type": "code",
   "execution_count": 25,
   "metadata": {},
   "outputs": [],
   "source": [
    "# plot the trace"
   ]
  },
  {
   "cell_type": "markdown",
   "metadata": {},
   "source": [
    "Check that you really displayed the vertical component of data for station STG8, and that your data has a length of 24 hours. Can you spot an earthquake? At what time (approximately) did the signal arrive at station STG8?"
   ]
  },
  {
   "cell_type": "markdown",
   "metadata": {
    "collapsed": true,
    "jupyter": {
     "outputs_hidden": true
    }
   },
   "source": [
    "Now use the dayplot option to display your data. Insert <code>type='dayplot'</code> in the empty brackets from the last command."
   ]
  },
  {
   "cell_type": "code",
   "execution_count": 26,
   "metadata": {},
   "outputs": [],
   "source": [
    "# plot the trace as dayplot"
   ]
  },
  {
   "cell_type": "markdown",
   "metadata": {},
   "source": [
    "Can you still spot the earthquake? What are the advantages of the better time resolution in this plot, as compared to the first one? Can you even distinguish even seismic phases here? Can you see other seismic signals which were not visible in the first plot?"
   ]
  },
  {
   "cell_type": "markdown",
   "metadata": {},
   "source": [
    "You might want to cut out your signal now. You did that already during the first practicals on 21 October: Import UTCDateTime from obspy first."
   ]
  },
  {
   "cell_type": "code",
   "execution_count": 27,
   "metadata": {},
   "outputs": [],
   "source": [
    "# import UTCDateTime from obspy"
   ]
  },
  {
   "cell_type": "markdown",
   "metadata": {},
   "source": [
    "It might be helpful to copy your trace before you trim it, in case you want to go back to the full trace. The copied trace should be called t2. \n",
    "\n",
    "Then define start time as <code>t1=UTCDateTime(y,m,d,h,m,s)</code> and end time <code>t2=...</code>, and use the <code>trim</code> command applied to the trace. Then plot the trimmed trace. \n",
    "\n",
    "You can do this step several times in order to find the exact piece you want."
   ]
  },
  {
   "cell_type": "code",
   "execution_count": 28,
   "metadata": {},
   "outputs": [],
   "source": [
    "# copy trace to tr2\n",
    "# define start time: t1=...\n",
    "# define end time: t2=...\n",
    "# use tr2.trim(t1,t2) to trim the trace\n",
    "# now plot tr2"
   ]
  },
  {
   "cell_type": "markdown",
   "metadata": {},
   "source": [
    "Plot all three components now! You can simply do that using st instead of tr. Copy st first (to st2), then use start and end time to trim your stream and plot it."
   ]
  },
  {
   "cell_type": "code",
   "execution_count": 29,
   "metadata": {},
   "outputs": [],
   "source": [
    "# copy stream to st2\n",
    "# define start time: t1=...\n",
    "# define end time: t2=...\n",
    "# use st2.trim(t1,t2) to trim the stream\n",
    "# now plot st2"
   ]
  },
  {
   "cell_type": "markdown",
   "metadata": {},
   "source": [
    "Can you pick P and S phases? You might need to trim the stream even shorter for determining the onsets. Which components would you use for picking the P phase, which component would you use for picking the S phase? Can you assess the approximate hypocentral distance $s$ of this earthquake using S-P times? (use $s = \\Delta t \\cdot$ 1.4 $\\cdot$ 6 km/s as a rule-of-thumb)."
   ]
  },
  {
   "cell_type": "markdown",
   "metadata": {},
   "source": [
    "This event was recorded at Santiaguito volcano (Guatemala), but is not connected to volcanic activity. It is a magnitude 4.1 subduction zone earthquake with an epicentral distance of 11 km from the station, and a hypocentral depth of 99.53 km. What is the hypocentral distance for this event?"
   ]
  },
  {
   "cell_type": "markdown",
   "metadata": {},
   "source": [
    "So, obviously, the hypocentral distance is smaller than what we computed with our rule-of-thumb. Would it make sense to use a different value for the average crustal velocity? Higher or lower, and why? What is the average crustal velocity for a hypocentral depth of 99.53 km, and your $\\Delta t$?"
   ]
  },
  {
   "cell_type": "markdown",
   "metadata": {},
   "source": [
    "__________________________________________\n",
    "\n",
    "Now let's look at the spectral content of the data. Do you have an idea about the frequency content of this signal? A quick overview gives us the <code>spectrogram</code> function below which can be applied to one component of the data, e.g. the trimmed trace (tr2), or even the full trimmed stream (st2). Theoretically, you could also apply it to the full trace (tr) or full stream (st), but this will consume a lot of computational power as the data set is large.\n",
    "\n",
    "Simply run the next cell without making any changes to it."
   ]
  },
  {
   "cell_type": "code",
   "execution_count": 30,
   "metadata": {},
   "outputs": [
    {
     "ename": "NameError",
     "evalue": "name 'st2' is not defined",
     "output_type": "error",
     "traceback": [
      "\u001b[1;31m---------------------------------------------------------------------------\u001b[0m",
      "\u001b[1;31mNameError\u001b[0m                                 Traceback (most recent call last)",
      "Cell \u001b[1;32mIn [30], line 1\u001b[0m\n\u001b[1;32m----> 1\u001b[0m \u001b[43mst2\u001b[49m\u001b[38;5;241m.\u001b[39mspectrogram(log\u001b[38;5;241m=\u001b[39m\u001b[38;5;28;01mFalse\u001b[39;00m)\n",
      "\u001b[1;31mNameError\u001b[0m: name 'st2' is not defined"
     ]
    }
   ],
   "source": [
    "st2.spectrogram(log=False)"
   ]
  },
  {
   "cell_type": "markdown",
   "metadata": {},
   "source": [
    "Once you have arrived at this point, wait for all the others. Before we continue we will compare what everybody did. Please write into the chat that you arrived at this point."
   ]
  },
  {
   "cell_type": "markdown",
   "metadata": {},
   "source": [
    "This spectrogram gives us a vague idea, but from now on we will produce \"better\" plots using the matplotlib library. You have already used this library in the second Seismology practicals on 28 October. \n",
    "\n",
    "We will also need numpy during the next steps. \n",
    "\n",
    "Import both, matplotlib and numpy, first."
   ]
  },
  {
   "cell_type": "code",
   "execution_count": null,
   "metadata": {},
   "outputs": [],
   "source": [
    "# import numpy\n",
    "# import matplotlib"
   ]
  },
  {
   "cell_type": "markdown",
   "metadata": {},
   "source": [
    "Now we can use the function <code>specgram</code>. It requires several more values than the simple function <code>spectrogram</code>. We can individually adjust them. The man page says:\n",
    "    \n",
    "matplotlib.pyplot.specgram(x, NFFT=None, Fs=None, Fc=None, detrend=None, window=None, noverlap=None, cmap=None, xextent=None, pad_to=None, sides=None, scale_by_freq=None, mode=None, scale=None, vmin=None, vmax=None, *, data=None, **kwargs)\n",
    "\n",
    "x is the data (you might want to set this to tr2), NFFT is the number of points in the FFT, FS is the sampling frequency, noverlap gives the number of overlapping samples, vmin and vmax are the values which are used for brightest and darkest color. Try out different values and see how your spectrogram varies."
   ]
  },
  {
   "cell_type": "code",
   "execution_count": null,
   "metadata": {},
   "outputs": [],
   "source": [
    "NFFT= 256 #number of points in FFT, should be 2^n for integer n.\n",
    "Fs=1.0/tr.stats.delta # we compute this from dt, given as meta information of the trace\n",
    "noverlap=200 # must be smaller than NFFT\n",
    "vmin=20 # value assigned to dark purple\n",
    "vmax=100 # value assigned to bright yellow\n",
    "fig = plt.figure(1) # assigna a figure's name, in order to use it for the colorbar\n",
    "Pxx, freqs, bins, im=plt.specgram(tr2, NFFT=NFFT, Fs=Fs, noverlap=noverlap,vmin=vmin,vmax=vmax) # this is the actual specgram function\n",
    "plt.ylim(0,25) # change y-axis limits\n",
    "plt.xlabel('Time in seconds') # add labels\n",
    "plt.ylabel('Frequency in Hz') # add labels\n",
    "cbar = fig.colorbar(im, orientation='horizontal') # add colorbar        \n",
    "cbar.set_label('Spectral Density') # add colorbar label\n",
    "plt.show() # show plot"
   ]
  },
  {
   "cell_type": "markdown",
   "metadata": {},
   "source": [
    "Here, we only plotted the frequency axis from 0 to 25 Hz. Take a look at the full available frequency axis. What would be the maximum frequency in the data (Nyquist frequency)? How is it defined? You might want to compute and print it, and then change your y-axis limits in the spectrogram above accordingly."
   ]
  },
  {
   "cell_type": "code",
   "execution_count": null,
   "metadata": {},
   "outputs": [],
   "source": [
    "# fnu=\n",
    "print(fnu)"
   ]
  },
  {
   "cell_type": "markdown",
   "metadata": {},
   "source": [
    "As next step we will filter the data. First copy the trimmed trace (tr2) to trace tr3. Then apply a bandpass filter to tr3. Which filters would you apply for a better determination of P and S phases? You can find that out from the spectrogram above. "
   ]
  },
  {
   "cell_type": "code",
   "execution_count": null,
   "metadata": {},
   "outputs": [],
   "source": [
    "# copy the trimmed tr2 to tr3\n",
    "tr3.filter('bandpass',freqmin=0.1,freqmax=25.0, zerophase= 'True') # application of bandpass filter"
   ]
  },
  {
   "cell_type": "markdown",
   "metadata": {},
   "source": [
    "Plot both traces (unfiltered trimmed trace tr2 and filtered trimmed trace tr3) now. Create a time axis t (in seconds) first. Label x and y axes. What is shown on the y-axis?\n",
    "\n",
    "Try out different values for freqmin and freqmax now! Check how the amplitude of the filtered trace changes while you do that."
   ]
  },
  {
   "cell_type": "code",
   "execution_count": null,
   "metadata": {},
   "outputs": [],
   "source": [
    "t = np.arange(0, tr2.stats.npts / tr2.stats.sampling_rate, tr2.stats.delta) # creates time axis\n",
    "plt.subplot(211)\n",
    "plt.plot(t, tr2, 'k')\n",
    "plt.ylabel('Raw Data in Counts')\n",
    "plt.subplot(212)\n",
    "plt.plot(t, tr3, 'k')\n",
    "plt.ylabel('Bandpass filtered Data in Counts')\n",
    "plt.xlabel('Time in Seconds')\n",
    "plt.suptitle(tr.stats.starttime)\n",
    "plt.show()"
   ]
  },
  {
   "cell_type": "markdown",
   "metadata": {},
   "source": [
    "So far, we've only looked at velocity amplitudes in counts. Within the passband, we can simply multiply counts by an amplitude conversion factor, which depends on the seismic instruments used. For the seismic instruments in this exercises, the conversion factor is $5 \\cdot 10^{-12}$. Multiplying the data by this factor will give you m/s as a unit."
   ]
  },
  {
   "cell_type": "code",
   "execution_count": null,
   "metadata": {},
   "outputs": [],
   "source": [
    "# define factor here\n",
    "tr2.data=tr2.data*factor # multiplies data values of tr2 by factor\n",
    "# multiply filtered data values tr3 by factor"
   ]
  },
  {
   "cell_type": "markdown",
   "metadata": {},
   "source": [
    "Now plot the data again. Remember to change the label of the y-axis accordingly."
   ]
  },
  {
   "cell_type": "code",
   "execution_count": null,
   "metadata": {},
   "outputs": [],
   "source": [
    "# plot both, tr2 and tr3, again, using m/s on the y-axis"
   ]
  },
  {
   "cell_type": "markdown",
   "metadata": {},
   "source": [
    "**Task 2: Regional earthquake**\n",
    "\n",
    "You can now apply the same analysis to the seismic records from 21 August 2018 (Julian day 233). Read the data into a stream first. Print the stream, choose the vertical componet and plot it as 24h-long seismogram. Use the dayplot option as well."
   ]
  },
  {
   "cell_type": "code",
   "execution_count": null,
   "metadata": {},
   "outputs": [],
   "source": [
    "# read data to stream\n",
    "# print stream\n",
    "# assign vertical component to tr\n",
    "# plot trace, using tr.plot() and tr.plot(type='dayplot')"
   ]
  },
  {
   "cell_type": "markdown",
   "metadata": {},
   "source": [
    "When we used <code>tr.plot()</code> we can spot the earthquake by the large amplitude signal. When we use the <code>tr.plot(type='dayplot')</code> option we detect the earthquake by increased amplitudes over a long time. We also see a significant change in frequencies, also a change over time DURING the event. Can you explain why?"
   ]
  },
  {
   "cell_type": "markdown",
   "metadata": {},
   "source": [
    "Trim the trace to 120 minutes now, starting at 21 UTC and plot it using matplotlib. You should also use real amplitudes in m/s now. You don't need to define the conversion factor again, because it is still defined from above, but you will need to multiply the data values by the factor once again, since you read in new data."
   ]
  },
  {
   "cell_type": "code",
   "execution_count": null,
   "metadata": {},
   "outputs": [],
   "source": [
    "# copy trace to tr2\n",
    "# define start time: t1=...\n",
    "# define end time: t2=...\n",
    "# use tr2.trim(t1,t2) to trim the trace\n",
    "# multiply data (tr2) by amplitude conversion factor\n",
    "# construct new time axis\n",
    "# now plot tr2\n",
    "# add x and y-labels, incluse starttime as title\n",
    "# don't forget to show the plot"
   ]
  },
  {
   "cell_type": "markdown",
   "metadata": {},
   "source": [
    "Plot a spectrogram! Since your time series (tr2) is longer than above, you will need to adapt NFFT (use NFFT = 2048) and noverlap (use noverlap = 500). You will also need to adapt vmin (use vmin = -220) and vmax (use vmax = -130), because your data contains much smaller amplitude values after you multiplied it by the conversion factor (conversion to m/s). You might also want to adapt the part of the frequency axis that you display (show only frequencies up to 3 Hz). As above, include axes labels and a horizontal colorbar."
   ]
  },
  {
   "cell_type": "code",
   "execution_count": null,
   "metadata": {},
   "outputs": [],
   "source": [
    "# Define NFFT, Fs, noverlap, vmin, vmax and figure first.\n",
    "# Compute spectrogramn using plt.specgram()\n",
    "# Add y-axis limits, axes labels, a colorbar and a colorbar label\n",
    "# Show plot"
   ]
  },
  {
   "cell_type": "markdown",
   "metadata": {},
   "source": [
    "Now we will filter the trace again. As above, copy the trace tr2 to tr3 first, then apply the filter to tr3. Which frequencies would you like to include in your passband?"
   ]
  },
  {
   "cell_type": "code",
   "execution_count": null,
   "metadata": {},
   "outputs": [],
   "source": [
    "# copy the trimmed tr2 to tr3\n",
    "# bandpass filter tr3"
   ]
  },
  {
   "cell_type": "markdown",
   "metadata": {},
   "source": [
    "Now we can plot both, unfiltered and filtered traces. Remember: you already multiplied tr2.data by the factor, so your amplitudes are displayed in m/s already. Look at different filters."
   ]
  },
  {
   "cell_type": "code",
   "execution_count": null,
   "metadata": {},
   "outputs": [],
   "source": [
    "# Create time axis\n",
    "# Define first subplot and plot unfiltered data, add y-label\n",
    "# Define second subplot and plot filtered data, add x-label and y-label\n",
    "# Add starttime as title\n",
    "# Show plot"
   ]
  },
  {
   "cell_type": "markdown",
   "metadata": {},
   "source": [
    "The seismogram was recorded in Guatemala, at Santiaguito volcano. The magnitude 7.3 earthquake occured in Venezuela, at 21:31:47 UTC, at a hypocentral depth of 147 km, and an epicentral distance of 28 degrees. \n",
    "\n",
    "Which phases would you expect in the seismogram?  Can you spot P, PP and S phases in the seismogram? They should appear at 340 seconds (P), 398 seconds (PP) and 613 seconds (S). Trimming your trace again might help you to recognize the phases. **For trimming, use the source time as start time.** \n",
    "\n",
    "Compare to a standard travel time curve. Below you find theoretical curves computed using the IASP91 Earth model for a source depth of 0 km (left) and 600 km (right)."
   ]
  },
  {
   "cell_type": "markdown",
   "metadata": {},
   "source": [
    "<img src=\"Files/TTCurve.png\" alt=\"drawing\" width=\"550\">"
   ]
  },
  {
   "cell_type": "code",
   "execution_count": null,
   "metadata": {},
   "outputs": [],
   "source": [
    "from obspy.taup import plot_travel_times\n",
    "import matplotlib.pyplot as plt\n",
    "\n",
    "fig, ax = plt.subplots()\n",
    "plot_travel_times(source_depth=147, ax=ax, fig=fig,\n",
    "                       phase_list=['P', 'PP', 'S'], npoints=200)\n"
   ]
  },
  {
   "cell_type": "code",
   "execution_count": null,
   "metadata": {},
   "outputs": [],
   "source": [
    "from obspy.taup import TauPyModel\n",
    "\n",
    "model = TauPyModel(model='iasp91')\n",
    "arrivals = model.get_ray_paths(147, 28, phase_list=['PP'])\n",
    "arrivals.plot_rays(plot_type='spherical', phase_list=['PP'],\n",
    "                   legend=True)"
   ]
  },
  {
   "cell_type": "markdown",
   "metadata": {},
   "source": [
    "**Task 3: Teleseismic earthquake**\n",
    "\n",
    "Apply the same analysis to the seismic records from 25 April 2015 (Julian day 115). This data was recorded at a different station. What is the station name? This station is also located very close at Santiaguito volcano, Guatemala. Read the data into a stream and plot all three traces as 24h-long seismogram."
   ]
  },
  {
   "cell_type": "code",
   "execution_count": null,
   "metadata": {},
   "outputs": [],
   "source": [
    "# read in data to stream and plot stream (will plot all three components)"
   ]
  },
  {
   "cell_type": "markdown",
   "metadata": {},
   "source": [
    "The earthquake was a shallow (hypocentral depth = 13.4 km) magnitude 7.8 event, which occured at 06:11:26 UTC in Nepal (epicentral distance of 136 degrees). Select the vertical component, multiply the data by the same amplitude conversion factor as above (station uses same instrumentation as STG8) and trim the trace. Starttime should again be source time, and when trimming the data try to include the earthquake signal as complete as possible. Then filter the data to increase signal to noise ratio. Use a bandpass filter, and from what you know from task 2, choose which frequencies to use in your filter."
   ]
  },
  {
   "cell_type": "code",
   "execution_count": null,
   "metadata": {},
   "outputs": [],
   "source": [
    "# assign vertical component in stream to tr\n",
    "# copy trace to tr2\n",
    "# define start time: t1=...\n",
    "# define end time: t2=...\n",
    "# use tr2.trim(t1,t2) to trim the trace\n",
    "# multiply data (tr2) by amplitude conversion factor\n",
    "# construct time axis\n",
    "# now plot tr2\n",
    "# add x and y-labels, incluse starttime as title\n",
    "# don't forget to show the plot"
   ]
  },
  {
   "cell_type": "markdown",
   "metadata": {},
   "source": [
    "What is the first seismic phase that you would expect for this epicentral distance? Check with the global travel time curves above. Can you spot any other phases? "
   ]
  },
  {
   "cell_type": "markdown",
   "metadata": {},
   "source": [
    "**Task 4: Surprise earthquake**\n",
    "\n",
    "In the Files folder you will also find data from 7 September 2018 (Julian Day 249). Can you detect local, regional or teleseismic events? You may support your analysis by checking the USGS or EMSC earthquake catalogs at\n",
    "\n",
    "https://earthquake.usgs.gov/earthquakes/search/ and\n",
    "https://www.emsc-csem.org/Earthquake/?filter=yes"
   ]
  },
  {
   "cell_type": "code",
   "execution_count": null,
   "metadata": {},
   "outputs": [],
   "source": [
    "# read in data to stream, print the stream, plot a dayplot, and continue your analysis as above..."
   ]
  }
 ],
 "metadata": {
  "kernelspec": {
   "display_name": "Python 3 (ipykernel)",
   "language": "python",
   "name": "python3"
  },
  "language_info": {
   "codemirror_mode": {
    "name": "ipython",
    "version": 3
   },
   "file_extension": ".py",
   "mimetype": "text/x-python",
   "name": "python",
   "nbconvert_exporter": "python",
   "pygments_lexer": "ipython3",
   "version": "3.10.14"
  }
 },
 "nbformat": 4,
 "nbformat_minor": 4
}
