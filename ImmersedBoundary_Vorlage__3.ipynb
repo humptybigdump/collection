{
 "cells": [
  {
   "cell_type": "markdown",
   "metadata": {},
   "source": [
    "# Einblick in die Immersed Boundary Methode"
   ]
  },
  {
   "cell_type": "code",
   "execution_count": null,
   "metadata": {},
   "outputs": [],
   "source": [
    "# wie immer, lass uns einige wichtige Module importieren\n",
    "import numpy as np\n",
    "from matplotlib import pyplot as plt\n",
    "import scipy.linalg as lin           "
   ]
  },
  {
   "cell_type": "markdown",
   "metadata": {},
   "source": [
    "---"
   ]
  },
  {
   "cell_type": "markdown",
   "metadata": {},
   "source": [
    "### Aufgabe 11.1\n",
    "\n",
    "Die voll-entwickelte, laminare Strömung in einem Rohr beliebiges aber entlang der Rohachse konstanten Querschnitts ist von der folgenden zweidimensionalen Laplace-Gleichung beschrieben:\n",
    "\n",
    "\\begin{equation}\n",
    "    \\nu(u_{/yy} + u_{/zz}) = \\Pi_x \\, ,   \\qquad \\qquad (1)\n",
    "\\end{equation}\n",
    "\n",
    "wobei $\\Pi_x$ einen räumlich und zeitlich konstanten Druckgradienten ist, während $u$ die Geschwindigkeitskomponente entlang der Rohrachse ($x$-Richtung) und $\\nu$ die kinematische Viskosität ist. Wir betrachten eine Luftströmung ($\\nu=1.5 \\cdot 10^{-5}\\,\\,\\mathrm{m^2/s}$, $\\rho=1 \\,\\,\\mathrm{Kg/m^3}$), welche von einem Druckgradienten von $\\Pi_x = 10^{-2}\\,\\,\\mathrm{Pa/m}$ getrieben wird. \n",
    "\n",
    "Nachdem Sie die Gleichung (1) mit zentralen finiten Differenzen zweiter Ordnung à $N_x=N_y=N_r$ Punkten in den jeweiligen Raumrichtungen diskretisiert haben, überführen Sie numerisch die diskretisierte Gleichung in ein lineares, algebraisches Gleichungssystem der Form $\\mathsf{A}\\mathbf{u} = \\mathbf{b}$ für das vorliegende Rohr mit kreisförmigen Querschnitt (siehe Übungsblatt). Zur Vorgabe der Haftbedingung verwenden Sie zunächst die Stufen-Approximation: Für Punkte, die sich im inneren des Rohres befinden, wird die diskretisierte Form der Gleichung (1) wie gewohnt gelöst. Für Punkte, die sich auf der Körperkontur oder hinter Dieser (also außerhalb des Rohres) befinden, wird die Haftbedingung $u=0$ vorgegeben. Setzen Sie den Ursprung des cartesischen Koordinatensystem in die Rohrmitte: diese Wahl wird Ihnen im Folgenden helfen. Kapseln Sie die ganze Lösung in eine Funktion ``solve_simple`` ein, welche aus den Eingabeparameter $N_r$, $P_x$, $\\nu$, $\\rho$ und $D$ die Vektoren $\\mathbf{y}$ und $\\mathbf{z}$ der Koordinaten und den Lösungsvektor $\\mathbf{u}$ ausgibt. Für die Rechenaufgaben können Sie das zur Verfügung gestelltes Jupyter-Notebook ``ImmersedBoundary_Vorlage.ipynb`` als Vorlage verwenden."
   ]
  },
  {
   "cell_type": "code",
   "execution_count": null,
   "metadata": {},
   "outputs": [],
   "source": [
    "# zuerst definieren wir einige\n",
    "# EINGABEN\n",
    "# -----------------------------\n",
    "Nr = 10           # Anzahl von Punkten in beiden Raumrichtungen\n",
    "Px = -1e-3        # Druckgradienten in x-Richtung     [Pa/m]\n",
    "nu = 1.5e-5       # kinematische Viskosität           [m^2/s]\n",
    "rho = 1           # Dichte                            [kg/m^3]\n",
    "D  = 2            # Durchmesser                       [m]"
   ]
  },
  {
   "cell_type": "code",
   "execution_count": null,
   "metadata": {},
   "outputs": [],
   "source": [
    "# Wir sind schon bereit für die Definition vom\n",
    "# EINFACHEN LÖSER\n",
    "def solve_simple(Nr,Px,nu,rho,D):\n",
    "    # BERECHNETE GRÖßEN\n",
    "    # -----------------------------\n",
    "                                      # Anzahl von Punkten in z-Richtung\n",
    "                                      # Anzahl von Punkten in y-Richtung\n",
    "                                      # Radius\n",
    "                                      # Vektor der z-Koordinate und z-Gitterweite\n",
    "                                      # Vektor der y-Koordinate und y-Gitterweite\n",
    "\n",
    "\n",
    "\n",
    "                                  # Gesmte Größe der Systemmatrix\n",
    "                                  # Systemmatrix A\n",
    "                                  # Vektor der rechten Seite b\n",
    "                                    \n",
    "    # Koeffizienten für die Matrix A\n",
    "\n",
    "    # Dieses Mal definiere ich die Matrix A \n",
    "    # durch eine for-Schleife \n",
    "    for iz in range(z.size):\n",
    "        for iy in range(y.size):\n",
    "            # Ich berechne die richtige Zeile und Spalte,\n",
    "            # wo die Koeffezienten für die werte phi(i,j)\n",
    "            # phi(i+1,j), phi(i-1,j), phi(i,j-1), phi(i,j+1)\n",
    "            # sich befinden\n",
    "\n",
    "            \n",
    "            \n",
    "            # Ich berechne den Abstand zur Rohrmitte \"r\",\n",
    "            # um zu entscheiden, ob ich in oder aus \n",
    "            # dem Rohr bin\n",
    "\n",
    "            # Wenn wir am Rand oder drüber sind, dann Haftbedingung\n",
    "            if :\n",
    "\n",
    "            # ansonsten lösen wir wie gewohnt\n",
    "            else:\n",
    "\n",
    "                \n",
    "    # Wir lösen das lineare Gleichungssystem\n",
    "\n",
    "    \n",
    "    # und geben Koordinaten und Lösung aus\n",
    "    # ich verwende \".reshape\", um die Lösung\n",
    "    # als 2D Matix auszzgeben\n",
    "\n",
    "\n",
    "# Wir führen unseren Löser mit Nr=10 aus\n"
   ]
  },
  {
   "cell_type": "markdown",
   "metadata": {},
   "source": [
    "Jetzt können wir endlich die Lösung graphisch darstellen!"
   ]
  },
  {
   "cell_type": "code",
   "execution_count": null,
   "metadata": {
    "scrolled": true
   },
   "outputs": [],
   "source": [
    "# Wir öfnnen eine Abbildung\n",
    "\n",
    "# mit der Funktion plt.contourf stellen wir \n",
    "# das Ergebnis dar. \n",
    "\n",
    "# Wir zeigen die Colorbar\n",
    "\n",
    "# und beschriften die Achsen\n"
   ]
  },
  {
   "cell_type": "markdown",
   "metadata": {},
   "source": [
    "Schreiben Sie eine Funktion Namens ``cf_re``, welche den Reibungsbeiwert $C_f$ und die Reynoldszahl $Re_b$ basierend auf Ihrer Lösung $\\mathbf{u}$, den Koordinatenvektoren $\\mathbf{y}$, $\\mathbf{z}$ sowie den Eingabeparametern $P_x$, $\\nu$, $\\rho$ und $D$ berechnet. Die jeweilige Definitionen sind:\n",
    "    \\begin{equation}\n",
    "        C_f = \\frac{2 \\tau_w}{\\rho U_b^2}\\, ,   \\qquad  Re=\\frac{U_b D}{\\nu} \\, ,\n",
    "    \\end{equation}\n",
    "    wobei $\\tau_w$ die Wandschubspannung und $U_b$ die mittlere Geschwindigkeit ist. Sie können $U_b$ aus der folgenden Definition\n",
    "    \\begin{equation}\n",
    "         U_b = \\frac{1}{\\pi R^2}\\int_{-R}^{R} \\int_{-R}^{R} u(y,z) \\mathrm{d}y \\mathrm{d}z \n",
    "    \\end{equation}\n",
    "    durch die Anwendung der Trapezregel numerisch berechnen. Zur Berechnung von $\\tau_w$ leiten Sie eine analytische Beziehung zwischen $\\tau_w$ und $\\Pi_x$ her, in dem Sie die Kräftebilanz für eine Scheibe vom Rohr der Länge $\\mathrm{d}x$ aufstellen. Benutzen Sie Ihre Funktion um $C_f$ und $Re_b$ sowie ihr Produkt $C_f \\, Re_b$ für den vorliegenden Fall zu berechnen. Wie vergleicht sich das Produkt $C_f \\, Re_b$ mit dem analytischen Ergebnis für eine Hagen--Poiseulle Strömung $C_f \\, Re_b = 16$ ?"
   ]
  },
  {
   "cell_type": "code",
   "execution_count": null,
   "metadata": {},
   "outputs": [],
   "source": [
    "# wir können jetzt die Funktion \n",
    "# cf_re definieren\n",
    "def cf_re(y,z,u,Px,nu,rho,D):\n",
    "                               # Radius [m]\n",
    "                               # Bulk Velocity durch Integration\n",
    "                               # \"Bulk\" Reynolds-Zahl\n",
    "                               # Wandschubspannung\n",
    "                               # Reibungsbeiwert\n",
    "    # Wir geben Cf und ReB aus\n"
   ]
  },
  {
   "cell_type": "markdown",
   "metadata": {},
   "source": [
    "Als Vorbereitung zur Implementierung eines neuen Lösers mit der verbesserten Beschreibung von der Körperkontur, schreiben Sie die Funktion ``isInBody``, welche aus den zwei Raumkoordinaten $y$ und $z$ sowie dem Radius $R$ eine Schaltvariable (True / False) ausgibt, welche Wahr (True) ist, wenn der betrachtete Punkt auf oder in dem Körper ist. "
   ]
  },
  {
   "cell_type": "code",
   "execution_count": null,
   "metadata": {},
   "outputs": [],
   "source": [
    "# isInBody-Funktion\n",
    "def isInBody(y,z,R):\n",
    "    # diese Funktion ist einfach ein Einzeiler :)\n",
    " "
   ]
  },
  {
   "cell_type": "markdown",
   "metadata": {},
   "source": [
    "Als weitere Vorbereitung implementieren Sie die Funktion ``bisection``, welche den Schnittpunkt zwischen der Körperkontur und dem betrachteten Ast des Differenzensterns berechnet, um $\\delta_y$ (oder $\\delta_z$) zu liefern."
   ]
  },
  {
   "cell_type": "code",
   "execution_count": null,
   "metadata": {},
   "outputs": [],
   "source": [
    "# die Funktion \"bisection\"\n",
    "def bisection(fun):\n",
    "    # Ich definiere die Funktion \n",
    "    # als eine Bisektion, welche \n",
    "    # eine boolean'sche Funktion\n",
    "    # als Eingabe nimmt\n",
    "                   # Toleranz\n",
    "                   # Fehler (groß initialisiert)\n",
    "    # Zuerst prüfen wir, an welchem\n",
    "    # Extrem wir in dem Körper sind\n",
    "    if  \n",
    " \n",
    "    else:\n",
    "        \n",
    "    # Wir berechnen den Mittelpunkt\n",
    " \n",
    "    # Wir iterieren solange der Fehler\n",
    "    # größer als die Toleranz ist\n",
    "    while  \n",
    "        # Bisektion\n",
    "        if  \n",
    "        \n",
    "        else:\n",
    "             \n",
    "        # Anpassung des Fehlers\n",
    " \n",
    "        # Wir berechnen den Mittelpunkt\n",
    " \n",
    "    # Wir geben das Ergebnis aus\n",
    " "
   ]
  },
  {
   "cell_type": "markdown",
   "metadata": {},
   "source": [
    "Kopieren Sie Ihre Funktion ``solve_simple`` und benennen Sie die Kopie zu ``solve_IBM`` um. Ändern Sie Ihren Löser, so dass er die verbesserte Randbedingung aus Aufgabenteil 11.2a) berücksichtigt. Hierfür müssen Sie die gewohnte Dirichlet Randbedingung für Punkte auf oder in dem Körper und die gewohnte Koeffizienten der diskreten Laplace-Gleichung für alle andere Punkte vorgeben. Für alle Punkte in dem Strömungsgebiet, deren Nachbarn auf oder in dem Körper liegen, müssen Sie die Koeffizienten der Matrix $\\mathsf{A}$ entsprechend Ihrer Herleitung aus Aufgabenteil 11.2a) anpassen. Verwenden Sie für diesen Aufgabeteil Ihre Funktionen ``isInBody`` und ``bisection``."
   ]
  },
  {
   "cell_type": "code",
   "execution_count": null,
   "metadata": {},
   "outputs": [],
   "source": [
    "# Wir sind schon bereit für die Definition vom\n",
    "# VERBESSERTEN LÖSER\n",
    "def solve_ibm(Nr,Px,nu,rho,D):\n",
    "    # BERECHNETE GRÖßEN\n",
    "    # -----------------------------\n",
    "                                   # Anzahl von Punkten in z-Richtung\n",
    "                                   # Anzahl von Punkten in y-Richtung\n",
    "                                   # Radius\n",
    "                                   # Vektor der z-Koordinate und z-Gitterweite\n",
    "                                   # Vektor der y-Koordinate und y-Gitterweite\n",
    "                                   # Gesmte Größe der Systemmatrix\n",
    "                                   # Systemmatrix A\n",
    "                                   # Vektor der rechten Seite b\n",
    "    # Koeffizienten für die Matrix A\n",
    "\n",
    "    # Dieses Mal definiere ich die Matrix A \n",
    "    # durch eine for-Schleife \n",
    "\n",
    "    \n",
    "            # Ich berechne die richtige Zeile und Spalte,\n",
    "            # wo die Koeffezienten für die werte phi(i,j)\n",
    "            # phi(i+1,j), phi(i-1,j), phi(i,j-1), phi(i,j+1)\n",
    "            # sich befinden\n",
    "\n",
    "            \n",
    "            \n",
    "            # Wenn wir am Rand sind, dann Haftbedingung\n",
    "            if \n",
    "            \n",
    "            # Ansonsten \n",
    "            else: \n",
    "                # zuerst setzen wir die Koeffizienten wie normal\n",
    "\n",
    "                \n",
    "                # und überprüfen dann ob der Punkt doch in der Nähe\n",
    "                # des Randes ist. Das machen wir dann in allen Richtungen\n",
    "                if                                # rechts\n",
    "                    # Anpassung der Koeffizienten\n",
    "\n",
    "                    \n",
    "                if                              # links\n",
    "                    # Anpassung der Koeffizienten\n",
    "\n",
    "                if                              # oben\n",
    "                    # Anpassung der Koeffizienten\n",
    "\n",
    "                    \n",
    "                if                              # unten\n",
    "                    # Anpassung der Koeffizienten\n",
    "\n",
    "                    \n",
    "    # Lösung des Gleichungssystems\n",
    "    \n",
    "    # und geben Koordinaten und Lösung aus\n",
    "    # ich verwende \".reshape\", um die Lösung\n",
    "    # als 2D Matix auszzgeben\n",
    "\n",
    "\n",
    "# Wir führen unseren Löser mit Nr=10 aus\n"
   ]
  },
  {
   "cell_type": "markdown",
   "metadata": {},
   "source": [
    "Jetzt können wir das Ergebnis darstellen und mit dem vereinfachten Löser vergleichen"
   ]
  },
  {
   "cell_type": "code",
   "execution_count": null,
   "metadata": {
    "scrolled": true
   },
   "outputs": [],
   "source": [
    "# Wir öfnnen eine Abbildung\n",
    "\n",
    "# mit der Funktion plt.contourf stellen wir \n",
    "# das Ergebnis dar. \n",
    "\n",
    "\n",
    "# Wir zeigen die Colorbar\n",
    "\n",
    "\n",
    "# und beschriften die Achsen\n",
    "\n"
   ]
  },
  {
   "cell_type": "markdown",
   "metadata": {},
   "source": [
    "Vergleichen Sie das Produkt $C_f\\, Re_b$ mit der einfacheren Methode aus Aufgabe 11.1. Welche ist näher an der exakten Lösung? Variieren Sie $N_r$ zwischen 5 und 100 und vergleichen Sie die Konvergenz der zwei Methoden zum exakten Ergebnis. Verwenden Sie den prozentualen Fehler vom Produkt $C_f\\, Re_b$ als Gütegröße. "
   ]
  },
  {
   "cell_type": "code",
   "execution_count": null,
   "metadata": {},
   "outputs": [],
   "source": [
    "# berechnung von Cf und Re für den IBM-Fall\n",
    "\n",
    "# berechnung von Cf und Re für den einfachen Fall\n",
    "\n",
    "\n",
    "# Ausgabe der Produkte Cf*Re am Bildschirm\n",
    "print('The product Cf*ReB is '+str(Cf_IBM*ReB_IBM)+' for the IBM case')\n",
    "print('The product Cf*ReB is '+str(Cf*ReB)+' for the simple case')"
   ]
  },
  {
   "cell_type": "markdown",
   "metadata": {},
   "source": [
    "Konvergenzstudie"
   ]
  },
  {
   "cell_type": "code",
   "execution_count": null,
   "metadata": {},
   "outputs": [],
   "source": [
    "# Array der Nr-Werte\n",
    "\n",
    "# Wir verwenden Listen für die Speicherung der \n",
    "# Cf*Re-Produkte für den IBM und einfachen Fall\n",
    "\n",
    "\n",
    "# Schleife über alle Nr-Werte\n",
    "for Nr in Nr_array:\n",
    "    # Berechnung der einfachen Lösung\n",
    "    \n",
    "    # Berechnung von Cf und Re\n",
    "    \n",
    "    # Speicherung in der Liste\n",
    "    \n",
    "    \n",
    "    # Berechnung der IBM Lösung\n",
    "    \n",
    "    # Berechnung von Cf und Re\n",
    "    \n",
    "    # Speicherung in der Liste\n",
    "    "
   ]
  },
  {
   "cell_type": "markdown",
   "metadata": {},
   "source": [
    "Wir stellen das Ergebnis der Konvergenzstudie dar. "
   ]
  },
  {
   "cell_type": "code",
   "execution_count": null,
   "metadata": {
    "scrolled": true
   },
   "outputs": [],
   "source": [
    "# Wir öffnen eine neue Abbildung\n",
    "\n",
    "# Wir geben der Abbildung einen Titel\n",
    "\n",
    "# Wir stellen das Ergebnis für den einfachen Fall dar \n",
    "\n",
    "# Wir stellen das Ergebnis für den IBM Fall dar \n",
    "\n",
    "# Wir beschriften die Achsen\n",
    "\n",
    "# ... und zeigen die Legende\n",
    "\n"
   ]
  }
 ],
 "metadata": {
  "kernelspec": {
   "display_name": "Python 3",
   "language": "python",
   "name": "python3"
  },
  "language_info": {
   "codemirror_mode": {
    "name": "ipython",
    "version": 3
   },
   "file_extension": ".py",
   "mimetype": "text/x-python",
   "name": "python",
   "nbconvert_exporter": "python",
   "pygments_lexer": "ipython3",
   "version": "3.8.5"
  }
 },
 "nbformat": 4,
 "nbformat_minor": 4
}
