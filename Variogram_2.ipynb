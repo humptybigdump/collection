{
  "nbformat": 4,
  "nbformat_minor": 0,
  "metadata": {
    "colab": {
      "provenance": []
    },
    "kernelspec": {
      "name": "python3",
      "display_name": "Python 3"
    },
    "language_info": {
      "name": "python"
    }
  },
  "cells": [
    {
      "cell_type": "markdown",
      "source": [
        "# Variogram estimation\n",
        "\n",
        "This notebook is used to implement your own variogram estimation algorithm.\n"
      ],
      "metadata": {
        "id": "529aGE24ZCOM"
      }
    },
    {
      "cell_type": "code",
      "execution_count": null,
      "metadata": {
        "id": "PLy-O3n_ZAhr"
      },
      "outputs": [],
      "source": [
        "!pip install scikit-gstat"
      ]
    },
    {
      "cell_type": "code",
      "source": [
        "from google.colab import drive\n",
        "drive.mount('/content/drive')"
      ],
      "metadata": {
        "id": "pV-xWekIZ8VW"
      },
      "execution_count": null,
      "outputs": []
    },
    {
      "cell_type": "markdown",
      "source": [
        "## Load data\n",
        "\n",
        "This chapter loads the data and transforms it into a CRS using meter as unit"
      ],
      "metadata": {
        "id": "XGRsNaPlaBfU"
      }
    },
    {
      "cell_type": "code",
      "source": [
        "from pathlib import Path\n",
        "\n",
        "PATH = Path('/content/drive/MyDrive/Geostatistics/content/data')"
      ],
      "metadata": {
        "id": "K8p6t6l_aH7H"
      },
      "execution_count": null,
      "outputs": []
    },
    {
      "cell_type": "code",
      "source": [
        "import pandas as pd\n",
        "\n",
        "data = pd.read_csv(PATH / 'precipitation_sums_2023-10-01.csv')\n",
        "data"
      ],
      "metadata": {
        "id": "rcTii2dsaO30"
      },
      "execution_count": null,
      "outputs": []
    },
    {
      "cell_type": "code",
      "source": [
        "import pyproj\n",
        "\n",
        "# create a transform and apply\n",
        "src = pyproj.CRS.from_epsg(4326)\n",
        "tgt = pyproj.CRS.from_epsg(25832)\n",
        "transform = pyproj.Transformer.from_crs(src, tgt, always_xy=True)\n",
        "tuples = transform.transform(data.longitude.values, data.latitude.values)\n",
        "\n",
        "# create the coordinates and values list\n",
        "coordinates = list(zip(*tuples))\n",
        "values = data.value.values.tolist()"
      ],
      "metadata": {
        "id": "OFEy2UbsaWR8"
      },
      "execution_count": null,
      "outputs": []
    },
    {
      "cell_type": "markdown",
      "source": [
        "## Calculate the lag classes and groups\n",
        "\n",
        "You could also use your solution from the last exercise (Pairs.ipynb).\n",
        "Here, we simply use scikit-gstat to do that step for us."
      ],
      "metadata": {
        "id": "IqwD9SqKaZtc"
      }
    },
    {
      "cell_type": "code",
      "source": [
        "import skgstat as skg\n",
        "\n",
        "vario = skg.Variogram(coordinates, values, n_lags=50, maxlag=500_000, use_nugget=True)\n",
        "fig = vario.distance_difference_plot()"
      ],
      "metadata": {
        "id": "VDDwEKFJapA4"
      },
      "execution_count": null,
      "outputs": []
    },
    {
      "cell_type": "markdown",
      "source": [
        "## Task 6.1\n",
        "\n",
        "We reuse the code from the last exercise to make our live a bit easier.\n"
      ],
      "metadata": {
        "id": "kXXK07EWbNJk"
      }
    },
    {
      "cell_type": "code",
      "source": [
        "import numpy as np\n",
        "\n",
        "def matheron(obs_pairs) -> float:\n",
        "  x = np.asarray(obs_pairs)\n",
        "  if x.size == 0:\n",
        "    return np.nan\n",
        "  return np.sum(x**2) / (2 * x.size)\n",
        "\n",
        "def cressie(obs_pairs) -> float:\n",
        "  x = np.asarray(obs_pairs)\n",
        "  if x.size == 0:\n",
        "    return np.nan\n",
        "\n",
        "  nominator = ((1 / x.size) * np.sum(np.power(x, 0.5)))**4\n",
        "  denominator = 2 * (0.457 + (0.494 / x.size) + (0.045 / x.size**2))\n",
        "\n",
        "  return nominator / denominator\n"
      ],
      "metadata": {
        "id": "PUzC-i4AbiQp"
      },
      "execution_count": null,
      "outputs": []
    },
    {
      "cell_type": "code",
      "source": [
        "# here we create a random sample and test our function against the skgstat estimator\n",
        "np.random.seed(42)\n",
        "\n",
        "pairs = np.random.normal(10, 2, size=400)\n",
        "\n",
        "# test\n",
        "assert skg.estimators.matheron(pairs) - matheron(pairs) < 0.01\n",
        "assert skg.estimators.cressie(pairs) - cressie(pairs) < 0.01"
      ],
      "metadata": {
        "id": "7rla-lxJb1-E"
      },
      "execution_count": null,
      "outputs": []
    },
    {
      "cell_type": "markdown",
      "source": [
        "## Task 6.2\n"
      ],
      "metadata": {
        "id": "_x0CNpmca_fY"
      }
    },
    {
      "cell_type": "code",
      "source": [
        "# create a container for matheron and cressie semi-variance\n",
        "experimental_matheron = []\n",
        "experimental_cressie = []\n",
        "\n",
        "# the number of lags is also accessible\n",
        "for class_index in range(vario.n_lags):\n",
        "  # get all differences at the current group index\n",
        "  pairs = vario._diff[vario.lag_groups() == class_index]\n",
        "\n",
        "  # calculate the semi-variance\n",
        "  experimental_matheron.append(matheron(pairs))\n",
        "  experimental_cressie.append(cressie(pairs))"
      ],
      "metadata": {
        "id": "FY8nJPN1xklZ"
      },
      "execution_count": null,
      "outputs": []
    },
    {
      "cell_type": "code",
      "source": [
        "# we can test this as well\n",
        "from numpy.testing import assert_array_almost_equal\n",
        "\n",
        "assert_array_almost_equal(vario.experimental, experimental_matheron)"
      ],
      "metadata": {
        "id": "nJ8ZFEUByoaZ"
      },
      "execution_count": null,
      "outputs": []
    },
    {
      "cell_type": "code",
      "source": [
        "# and plot it\n",
        "import matplotlib.pyplot as plt\n",
        "\n",
        "plt.plot(vario.bins, experimental_matheron, '.b', label='Matheron')\n",
        "plt.plot(vario.bins, experimental_cressie, '.r', label='Cressie-Hawkins')\n",
        "plt.legend()"
      ],
      "metadata": {
        "id": "NLcP0vEsyy0w"
      },
      "execution_count": null,
      "outputs": []
    },
    {
      "cell_type": "markdown",
      "source": [
        "## 7.1 Theoretical variogram models\n",
        "\n",
        "Implement the spherical, exponential and gaussian model in a way, that you can parameterize them using the **effective** range, not the range parameter"
      ],
      "metadata": {
        "id": "G0WQJ5zY818U"
      }
    },
    {
      "cell_type": "code",
      "source": [
        "from math import e, pow\n",
        "\n",
        "def spherical(h, a, C, C0=0.0) -> float:\n",
        "  return 42\n",
        "\n",
        "\n",
        "def exponential(h, a, C, C0=0.0) -> float:\n",
        "  return 42\n",
        "\n",
        "def gaussian(h, a, C, C0=0.0) -> float:\n",
        "  return 42\n"
      ],
      "metadata": {
        "id": "o_hxYbaYCHQx"
      },
      "execution_count": null,
      "outputs": []
    },
    {
      "cell_type": "code",
      "source": [
        "# test our implementation to SciKit-GStat\n",
        "from skgstat import models\n",
        "\n",
        "# spherical\n",
        "print('Spherical:')\n",
        "print(f\"{models.spherical(200, 150, 5, 0.0)} == {spherical(200, 150, 5, 0.0)}\")\n",
        "print(f\"{models.spherical(80, 150, 5, 0.0)} == {spherical(80, 150, 5, 0.0)}\")\n",
        "print(f\"{models.spherical(75, 150, 7, 3.0)} == {spherical(75, 150, 7, 3.0)}\\n\")\n",
        "\n",
        "# exponential\n",
        "print('Exponential:')\n",
        "print(f\"{models.exponential(200, 150, 5, 0.0)} == {exponential(200, 150, 5, 0.0)}\")\n",
        "print(f\"{models.exponential(80, 150, 5, 0.0)} == {exponential(80, 150, 5, 0.0)}\")\n",
        "print(f\"{models.exponential(75, 150, 7, 3.0)} == {exponential(75, 150, 7, 3.0)}\\n\")\n",
        "\n",
        "# gaussian\n",
        "# exponential\n",
        "print('Gaussian:')\n",
        "print(f\"{models.gaussian(200, 150, 5, 0.0)} == {gaussian(200, 150, 5, 0.0)}\")\n",
        "print(f\"{models.gaussian(80, 150, 5, 0.0)} == {gaussian(80, 150, 5, 0.0)}\")\n",
        "print(f\"{models.gaussian(75, 150, 7, 3.0)} == {gaussian(75, 150, 7, 3.0)}\")"
      ],
      "metadata": {
        "id": "f5acXljeEoxU"
      },
      "execution_count": null,
      "outputs": []
    },
    {
      "cell_type": "markdown",
      "source": [
        "## 7.3 Fitting a variogram model\n",
        "\n",
        "For this task, we will estimate the variogram model parameters manually and parameterize the model function. use the cell below to change the parameters:"
      ],
      "metadata": {
        "id": "RUil1QPfkBoF"
      }
    },
    {
      "cell_type": "code",
      "source": [
        "# change these parameters here:\n",
        "NUGGET = 600\n",
        "EFF_RANGE = 200_000\n",
        "SILL = 1000\n",
        "\n",
        "# specify the model\n",
        "MODEL = spherical\n",
        "\n",
        "# discreticise the function at 100 step from 0 up to the maximum lag distance\n",
        "x = np.linspace(0, vario.maxlag, 100)\n",
        "\n",
        "# parameterize the model - it should only take one parameter -> the dependent variable\n",
        "par_model = lambda h: MODEL(h, EFF_RANGE, SILL, NUGGET)\n",
        "\n",
        "# map the model on the input data\n",
        "y = list(map(par_model, x))\n",
        "\n",
        "# plot\n",
        "plt.plot(vario.bins, experimental_matheron, '.b')\n",
        "plt.plot(x, y, '-g')"
      ],
      "metadata": {
        "id": "ec8GDAsskNPx"
      },
      "execution_count": null,
      "outputs": []
    },
    {
      "cell_type": "markdown",
      "source": [
        "## Task 7.4 Evaluate the model\n",
        "\n",
        "We evalualte the model from above at the bins and calculate the RMSE to the observations\n"
      ],
      "metadata": {
        "id": "PswWBLzfwDXC"
      }
    },
    {
      "cell_type": "code",
      "source": [
        "# predict the semi-variance at the bins\n",
        "pred =\n",
        "\n",
        "# RMSE\n",
        "rmse ="
      ],
      "metadata": {
        "id": "BkrVHmwcuYMv"
      },
      "execution_count": null,
      "outputs": []
    },
    {
      "cell_type": "markdown",
      "source": [
        "## Task 7.5 Brute-Force fitting\n",
        "\n",
        "In this task we apply brute-force fitting. That means, we define a parameter space, discretize it and test **all** paramter combinations. For this Task, we will fix the nugget to 400."
      ],
      "metadata": {
        "id": "nzLghB7CxxO-"
      }
    },
    {
      "cell_type": "code",
      "source": [
        "from tqdm import tqdm\n",
        "from itertools import product\n",
        "\n",
        "# here you can change the model\n",
        "model = gaussian\n",
        "\n",
        "# here you could change the objective function\n",
        "loss = lambda x, y: np.sqrt(np.mean((y - x)**2))\n",
        "\n",
        "ranges = np.linspace(350_000, 500_000, 100)\n",
        "sills = np.linspace(1400, 2000, 100)\n",
        "C0 = 400\n",
        "\n",
        "\n",
        "# result container\n",
        "losses = []\n",
        "\n",
        "\n",
        "# now test every single combination\n",
        "for r, C in tqdm(product(ranges, sills), total=len(ranges) * len(sills)):\n",
        "  # parameterize the model\n",
        "  par_model =\n",
        "\n",
        "\n",
        "  # map the parameterized model on the bins\n",
        "  pred =\n",
        "\n",
        "  # calculate the loss\n",
        "  err =\n",
        "\n",
        "  losses.append(err)"
      ],
      "metadata": {
        "id": "4Wig90zgxUKs"
      },
      "execution_count": null,
      "outputs": []
    },
    {
      "cell_type": "code",
      "source": [
        "# finally create the plot\n",
        "fig, axes = plt.subplots(1, 2, figsize=(10,5))\n",
        "m = axes[0].pcolormesh(ranges, sills, np.asarray(losses).reshape(100,100), cmap='RdYlGn_r')\n",
        "axes[1].contourf(ranges, sills, np.asarray(losses).reshape(100,100), cmap='RdYlGn_r')\n",
        "plt.colorbar(m)"
      ],
      "metadata": {
        "colab": {
          "base_uri": "https://localhost:8080/",
          "height": 468
        },
        "id": "LBQbLcgHid-I",
        "outputId": "79b33b41-7d91-47fc-d8ea-90693f148da8"
      },
      "execution_count": null,
      "outputs": [
        {
          "output_type": "execute_result",
          "data": {
            "text/plain": [
              "<matplotlib.colorbar.Colorbar at 0x788b68d4eec0>"
            ]
          },
          "metadata": {},
          "execution_count": 34
        },
        {
          "output_type": "display_data",
          "data": {
            "text/plain": [
              "<Figure size 1000x500 with 3 Axes>"
            ],
            "image/png": "[encoded data removed]"
          },
          "metadata": {}
        }
      ]
    }
  ]
}