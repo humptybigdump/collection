{
 "cells": [
  {
   "cell_type": "markdown",
   "metadata": {},
   "source": [
    "# Einführung in Python: Zusatzbeispiel zu Verzweigungen"
   ]
  },
  {
   "cell_type": "markdown",
   "metadata": {},
   "source": [
    "## Fallen bei der Implementierung einer abschnittsweise definierten Funktion\n",
    "\n",
    "### Beispiel 1"
   ]
  },
  {
   "cell_type": "code",
   "execution_count": null,
   "metadata": {},
   "outputs": [],
   "source": [
    "for k in range(10):\n",
    "    x = float( input( 'Geben Sie x ein (5 für Abbruch): ' ) )\n",
    "    if x == 5:\n",
    "        print( 'Abbruch durch Benutzer')\n",
    "        break\n",
    "    if x < 0: \n",
    "        print( 'x =', x, ' ist kleiner als 0.' )\n",
    "    if x <= 1:\n",
    "        print( 'x =', x, ' liegt zwischen 0 und 1.' )\n",
    "    else:\n",
    "        print( 'x ist größer als 1.')"
   ]
  },
  {
   "cell_type": "code",
   "execution_count": null,
   "metadata": {},
   "outputs": [],
   "source": [
    "for k in range(10):\n",
    "    x = float( input( 'Geben Sie x ein (5 für Abbruch): ' ) )\n",
    "    if x == 5:\n",
    "        print( 'Abbruch durch Benutzer')\n",
    "        break\n",
    "    if x < 0: \n",
    "        print( 'x =', x, ' ist kleiner als 0.' )\n",
    "    elif x <= 1:\n",
    "        print( 'x =', x, ' liegt zwischen 0 und 1.' )\n",
    "    else:\n",
    "        print( 'x ist größer als 1.')"
   ]
  },
  {
   "cell_type": "markdown",
   "metadata": {},
   "source": [
    "### Beispiel 2"
   ]
  },
  {
   "cell_type": "code",
   "execution_count": null,
   "metadata": {},
   "outputs": [],
   "source": [
    "for k in range(10):\n",
    "    x = float( input( 'Geben Sie x ein (5 für Abbruch): ' ) )\n",
    "    if x == 5:\n",
    "        print( 'Abbruch durch Benutzer')\n",
    "        break\n",
    "    if int(x/2) == x/2:\n",
    "        print( 'x =', x, ' ist gerade.' )\n",
    "    else:\n",
    "        print( 'x =', x, ' ist ungerade.' )"
   ]
  },
  {
   "cell_type": "code",
   "execution_count": null,
   "metadata": {},
   "outputs": [],
   "source": [
    "for k in range(10):\n",
    "    x = float( input( 'Geben Sie x ein (5 für Abbruch): ' ) )\n",
    "    if x == 5:\n",
    "        print( 'Abbruch durch Benutzer')\n",
    "        break\n",
    "    if int(x/2) == x/2:\n",
    "        print( 'x =', x, ' ist gerade.' )\n",
    "    elif int(x) == x:\n",
    "        print( 'x =', x, ' ist ungerade.' )\n",
    "    else:\n",
    "        print( 'x =', x, ' ist keine ganze Zahl.' )"
   ]
  },
  {
   "cell_type": "code",
   "execution_count": null,
   "metadata": {},
   "outputs": [],
   "source": []
  }
 ],
 "metadata": {
  "kernelspec": {
   "display_name": "Python 3",
   "language": "python",
   "name": "python3"
  },
  "language_info": {
   "codemirror_mode": {
    "name": "ipython",
    "version": 3
   },
   "file_extension": ".py",
   "mimetype": "text/x-python",
   "name": "python",
   "nbconvert_exporter": "python",
   "pygments_lexer": "ipython3",
   "version": "3.7.4"
  }
 },
 "nbformat": 4,
 "nbformat_minor": 1
}
