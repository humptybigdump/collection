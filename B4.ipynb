{
 "cells": [
  {
   "cell_type": "markdown",
   "metadata": {},
   "source": [
    "# Programmieraufgaben zur 4. Abgabeübung"
   ]
  },
  {
   "cell_type": "markdown",
   "metadata": {},
   "source": [
    "## Aufgabe 2.a)\n",
    "\n",
    "### Höhenlinienplots der Zielfunktionen (3 Punkte)"
   ]
  },
  {
   "cell_type": "markdown",
   "metadata": {},
   "source": [
    "Plotten sie mit `plt.contour` die in der Liste `levels` vorgegebenen Höhenlinien der beiden Funktionen im Bereich $[-1.6,1.6]\\times [-1.6,1.6]$. \n",
    "\n",
    "<i>Hinweis:</i> Plotten Sie die Höhenlinien mit einer guten Auflösung, damit Sie die Charakteristika der Funktionen erkennen können. Erstellen Sie ruhig weitere Plots oder nutzen Sie weitere Funktionalitäten von `plt.contour`, wenn Sie sich bei Ihren Antworten in 2.(b) noch unsicher sind."
   ]
  },
  {
   "cell_type": "code",
   "execution_count": 1,
   "metadata": {},
   "outputs": [],
   "source": [
    "# Implementierung der Funktionen\n",
    "..."
   ]
  },
  {
   "cell_type": "markdown",
   "metadata": {},
   "source": [
    "Plot zur $l1$-Straftermfunktion"
   ]
  },
  {
   "cell_type": "code",
   "execution_count": null,
   "metadata": {
    "scrolled": false
   },
   "outputs": [],
   "source": [
    "levels_l1 = np.array([-1.5,0.5,2,4,8,12,16,20])\n",
    "\n",
    "..."
   ]
  },
  {
   "cell_type": "markdown",
   "metadata": {},
   "source": [
    "Plot zur $l2$-Straftermfunktion"
   ]
  },
  {
   "cell_type": "code",
   "execution_count": null,
   "metadata": {},
   "outputs": [],
   "source": [
    "levels_l2 = np.array([-2,-1.5,0,2,4,8,16,30])\n",
    "\n",
    "..."
   ]
  },
  {
   "cell_type": "markdown",
   "metadata": {},
   "source": [
    "## Aufgabe 2.b)\n",
    "### Interpretation (3 Punkte)\n",
    "Erläutern Sie die Abbildungen jeweils ausführlich: An welchen Stellen vermuten Sie stationäre Punkte der Zielfunktion? Handelt es sich jeweils um lokale Minimalpunkte? Gehen Sie auf wichtige Unterschiede der Zielfunktionen ein. "
   ]
  },
  {
   "cell_type": "markdown",
   "metadata": {},
   "source": [
    "<i>Antworten Sie hier</i>"
   ]
  },
  {
   "cell_type": "markdown",
   "metadata": {},
   "source": [
    "## Aufgabe 2.c)\n",
    "### Das Straftermverfahren (6 Punkte)\n",
    "Die folgende Funktion führt das Straftermverfahren aus, so wie es in Algorithmus 1 des Abgabeblattes beschrieben ist. Bitte beachten Sie die folgenden Hinweise:\n",
    "- Durch das Update von $t^k$ ändert sich in jeder Iteration die zu minimierende Funktion und deren Gradient. Verwenden Sie lambda-Funktionen (siehe Einführungsskript), um diese Anpassungen innerhalb der while-Schleife vorzunehmen.\n",
    "- Nach der Funktionsdefinition kann ein Solver-Aufruf für die unrestringierte Minimierung erfolgen. Hierfür können Sie ein selbst implementiertes Verfahren aus den Abgabeübungen zu NLO 1 verwenden oder die Funktion `minimize` aus dem Paket `scipy.optimize`."
   ]
  },
  {
   "cell_type": "code",
   "execution_count": 1,
   "metadata": {},
   "outputs": [],
   "source": [
    "from scipy.optimize import minimize"
   ]
  },
  {
   "cell_type": "code",
   "execution_count": null,
   "metadata": {},
   "outputs": [],
   "source": [
    "def l2_penalty_method(f, f_grad, alpha, alpha_grad, x_0, t_0, rho, eps):\n",
    "\n",
    "    ...\n",
    "    \n",
    "    return x_crit, f_crit, k, runtime"
   ]
  },
  {
   "cell_type": "markdown",
   "metadata": {},
   "source": [
    "Testen Sie das Straftermverfahren jetzt, in dem Sie es für die zuvor generierten Startpunkte ausführen. Geben Sie für jeden Durchgang den approximierten Punkt, den Zielfunktionswert, die Anzahl an Iterationen im Straftermverfahren und die Laufzeit in einem Dataframe aus."
   ]
  },
  {
   "cell_type": "code",
   "execution_count": null,
   "metadata": {},
   "outputs": [],
   "source": [
    "startingPoints = []\n",
    "np.random.seed(12)\n",
    "for i in range(5):\n",
    "    startingPoints.append((np.random.rand(2)-0.5)*4)\n",
    "    \n",
    "# Parameter    \n",
    "t_0 = 1\n",
    "rho = 10\n",
    "eps = 10**(-5)\n",
    "\n",
    "# Funktionen\n",
    "...\n",
    "\n",
    "# Aufruf der Methode\n",
    "...\n",
    "\n",
    "# Ausgabe der Werte\n",
    "..."
   ]
  }
 ],
 "metadata": {
  "kernelspec": {
   "display_name": "Python 3",
   "language": "python",
   "name": "python3"
  },
  "language_info": {
   "codemirror_mode": {
    "name": "ipython",
    "version": 3
   },
   "file_extension": ".py",
   "mimetype": "text/x-python",
   "name": "python",
   "nbconvert_exporter": "python",
   "pygments_lexer": "ipython3",
   "version": "3.8.5"
  }
 },
 "nbformat": 4,
 "nbformat_minor": 4
}
