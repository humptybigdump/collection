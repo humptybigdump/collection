{
 "cells": [
  {
   "cell_type": "markdown",
   "metadata": {},
   "source": [
    "*Disclaimer*: This notebook borrows from different sources including the [IBM Quantum Challenge from 2020](https://github.com/qiskit-community/IBMQuantumChallenge2020)."
   ]
  },
  {
   "cell_type": "markdown",
   "metadata": {},
   "source": [
    "# Grover's Algorithm\n",
    "\n",
    "Grover's algorithm also called quantum search algorithm allows searching unstructured data or more general, checking conditions for given data. This algorithm does not give an exponential speedup, but a quadratic one. Still, it can be used in different algorithms to speed up specific parts as classical algorithms require in the order of $N$ steps to search $N$ entries."
   ]
  },
  {
   "cell_type": "markdown",
   "metadata": {},
   "source": [
    "## Qiskit Implementation\n",
    "\n",
    "After having seen the theoretical aspects of Grover's algorithm let us now look at its implementation based on those gates we got to know already. In the following we look at a two-qubit data register and use one additional qubit for the oracle.\n",
    "\n",
    "Note that in many literature the basic Grover 2-qubit algorithm looks a bit different and does not require an additional ancillary qubit. We do this in purpose as we did not officially introduce [CZ gates](https://qiskit.org/documentation/stubs/qiskit.circuit.library.CZGate.html) yet during the lecture. The big advantage of the shown approach is that you are perfectly equipped for more complex oracles as well as scaling to bigger amounts of qubits.\n",
    "\n",
    "But first let's prepare our environment."
   ]
  },
  {
   "cell_type": "code",
   "execution_count": null,
   "metadata": {},
   "outputs": [],
   "source": [
    "import matplotlib.pyplot as plt\n",
    "%matplotlib inline\n",
    "import numpy as np\n",
    "\n",
    "# importing qiskit\n",
    "from qiskit import IBMQ, Aer\n",
    "from qiskit import QuantumCircuit, ClassicalRegister, QuantumRegister\n",
    "\n",
    "from qiskit.tools.visualization import plot_histogram"
   ]
  },
  {
   "cell_type": "markdown",
   "metadata": {},
   "source": [
    "As in other examples discussed before, we again assume an equal superposition. In this example we will try to find the state $|11\\rangle$. We therefore define our phase oracle to exactly *test* on this state and mark it accordingly."
   ]
  },
  {
   "cell_type": "code",
   "execution_count": null,
   "metadata": {},
   "outputs": [],
   "source": [
    "def phase_oracle(databits: int, oraclebits: int) -> QuantumCircuit:\n",
    "    data_register = QuantumRegister(databits)\n",
    "    oracle_register = QuantumRegister(oraclebits)\n",
    "    circuit = QuantumCircuit(data_register, oracle_register)\n",
    "    circuit.ccx(*data_register, oracle_register)\n",
    "    return circuit\n",
    "\n",
    "data_register = QuantumRegister(2, \"d\")\n",
    "oracle_register = QuantumRegister(1, \"o\")\n",
    "oraclecircuit = QuantumCircuit(data_register, oracle_register)\n",
    "oraclecircuit = oraclecircuit.compose(phase_oracle(2, 1), range(3))\n",
    "oraclecircuit.draw()"
   ]
  },
  {
   "cell_type": "markdown",
   "metadata": {},
   "source": [
    "Next, we setup up a circuit to invert about the average. This is our amplitude amplification circuit that is commonly called diffusion circuit."
   ]
  },
  {
   "cell_type": "code",
   "execution_count": null,
   "metadata": {},
   "outputs": [],
   "source": [
    "def inversion_about_average(databits: int, oraclebits: int):\n",
    "    \"\"\"Apply inversion about the average step\"\"\"\n",
    "    data_register = QuantumRegister(databits)\n",
    "    oracle_register = QuantumRegister(oraclebits)\n",
    "    inversion_circuit = QuantumCircuit(data_register, oracle_register)\n",
    "    inversion_circuit.h(data_register)\n",
    "    inversion_circuit.x(data_register)\n",
    "    inversion_circuit.toffoli(*data_register, oracle_register)\n",
    "    inversion_circuit.x(data_register)\n",
    "    inversion_circuit.h(data_register)\n",
    "    return inversion_circuit"
   ]
  },
  {
   "cell_type": "code",
   "execution_count": null,
   "metadata": {},
   "outputs": [],
   "source": [
    "qAverage = QuantumCircuit(3)\n",
    "qAverage = qAverage.compose(inversion_about_average(2, 1), range(3))\n",
    "qAverage.draw()"
   ]
  },
  {
   "cell_type": "markdown",
   "metadata": {},
   "source": [
    "Being prepared with the basic operations we require to implement Grover's algorithm, i.e. the phase oracle and diffusion operation, we can now put all the pieces together. It is important to include the creation of equal superposition at the start of the circuit and the measurement at the end.\n",
    "\n",
    "Since we only have one solutions and four possibilities, we only need to run one iteration."
   ]
  },
  {
   "cell_type": "code",
   "execution_count": null,
   "metadata": {},
   "outputs": [],
   "source": [
    "databits = 2\n",
    "oraclebits = 1\n",
    "\n",
    "data_register = QuantumRegister(databits, \"d\")\n",
    "oracle_register = QuantumRegister(oraclebits, \"o\")\n",
    "cr = ClassicalRegister(databits, \"c\")\n",
    "\n",
    "groverCircuit = QuantumCircuit(data_register, oracle_register, cr)\n",
    "groverCircuit.h(data_register)\n",
    "\n",
    "groverCircuit.x(oracle_register)\n",
    "groverCircuit.h(oracle_register)\n",
    "\n",
    "groverCircuit.barrier()\n",
    "groverCircuit = groverCircuit.compose(\n",
    "    phase_oracle(databits, oraclebits), qubits=range(databits+oraclebits))\n",
    "groverCircuit.barrier()\n",
    "groverCircuit = groverCircuit.compose(\n",
    "    inversion_about_average(databits, oraclebits), qubits=range(databits+oraclebits))\n",
    "groverCircuit.barrier()\n",
    "\n",
    "groverCircuit.measure(data_register, cr)\n",
    "groverCircuit.draw()"
   ]
  },
  {
   "cell_type": "markdown",
   "metadata": {},
   "source": [
    "### Experiment with simulator\n",
    "\n",
    "We now run the above circuit in our `aer_simulator`."
   ]
  },
  {
   "cell_type": "code",
   "execution_count": null,
   "metadata": {},
   "outputs": [],
   "source": [
    "backend = Aer.get_backend(\"aer_simulator\")\n",
    "job = backend.run(groverCircuit)\n",
    "result = job.result()\n",
    "plot_histogram(result.get_counts())"
   ]
  },
  {
   "cell_type": "markdown",
   "metadata": {},
   "source": [
    "As we can see, the algorithm discovers our marked state."
   ]
  },
  {
   "cell_type": "markdown",
   "metadata": {},
   "source": [
    "Let's generalize the code of our diffusion operation a bit to enable application to a flexible number of qubits."
   ]
  },
  {
   "cell_type": "code",
   "execution_count": null,
   "metadata": {},
   "outputs": [],
   "source": [
    "def diffuser(databits: int, oraclebits: int, ancillabits: int):\n",
    "    data_register = QuantumRegister(databits)\n",
    "    oracle_register = QuantumRegister(oraclebits)\n",
    "    ancilla_register = QuantumRegister(ancillabits)\n",
    "    qc = QuantumCircuit(data_register, oracle_register, ancilla_register)\n",
    "    # Apply transformation |s> -> |00..0> (H-gates)\n",
    "    qc.h(data_register)\n",
    "    # Apply transformation |00..0> -> |11..1> (X-gates)\n",
    "    qc.x(data_register)\n",
    "    # Do multi-controlled-X gate\n",
    "    if ancillabits > 0:\n",
    "        mode = \"basic\"\n",
    "    else:\n",
    "        mode = \"noancilla\"\n",
    "    qc.mcx(\n",
    "        control_qubits=data_register, \n",
    "        target_qubit=oracle_register, \n",
    "        ancilla_qubits=ancilla_register, mode=mode)\n",
    "    # Apply transformation |11..1> -> |00..0>\n",
    "    qc.x(data_register)\n",
    "    # Apply transformation |00..0> -> |s>\n",
    "    qc.h(data_register)\n",
    "    return qc"
   ]
  },
  {
   "cell_type": "code",
   "execution_count": null,
   "metadata": {},
   "outputs": [],
   "source": [
    "diffuser_circuit = diffuser(2, 1, 0)\n",
    "diffuser_circuit.draw()"
   ]
  },
  {
   "cell_type": "markdown",
   "metadata": {},
   "source": [
    "## Number of iterations\n",
    "\n",
    "As mentioned before the number of Grover iterations for a fully amplified solution is approximately $\\sqrt{N}$. Let's look at how the amplification changes with a changing amount of iterations with an examplary database of size $N = 2^4$."
   ]
  },
  {
   "cell_type": "code",
   "execution_count": null,
   "metadata": {},
   "outputs": [],
   "source": [
    "from qiskit import BasicAer, execute"
   ]
  },
  {
   "cell_type": "code",
   "execution_count": null,
   "metadata": {},
   "outputs": [],
   "source": [
    "backend = BasicAer.get_backend(\"qasm_simulator\")\n",
    "probabilities = []\n",
    "\n",
    "database_count = 4\n",
    "answer = \"0111\"\n",
    "\n",
    "for x in range(15):\n",
    "    data_register = QuantumRegister(database_count)\n",
    "    oracle_register = QuantumRegister(1)\n",
    "    ancillary = QuantumRegister(5)\n",
    "    cr = ClassicalRegister(database_count)\n",
    "    qc = QuantumCircuit(data_register, oracle_register, ancillary, cr)\n",
    "    qc.h(data_register[:])\n",
    "    qc.x(oracle_register[0])\n",
    "    qc.h(oracle_register[0])\n",
    "\n",
    "    for j in range(x):\n",
    "        # for state with first qubit 0\n",
    "        qc.x(data_register[0])\n",
    "        qc.mcx(data_register[:], oracle_register[:], ancillary[:], mode=\"basic\")\n",
    "        qc.x(data_register[0])\n",
    "        # apply diffusion\n",
    "        qc.append(diffuser(database_count, 1, 5), [*data_register, *oracle_register, *ancillary])\n",
    "\n",
    "    qc.h(oracle_register[0])\n",
    "    qc.x(oracle_register[0])\n",
    "    qc.measure(data_register, cr)\n",
    "\n",
    "    # Change the endian\n",
    "    qc = qc.reverse_bits()\n",
    "\n",
    "    job = execute(qc, backend=backend, shots=1000, seed_simulator=1337)\n",
    "    result = job.result()\n",
    "    count = result.get_counts()\n",
    "    try:\n",
    "        probabilities.append(count[answer])\n",
    "    except KeyError:\n",
    "        probabilities.append(0)"
   ]
  },
  {
   "cell_type": "code",
   "execution_count": null,
   "metadata": {},
   "outputs": [],
   "source": [
    "import math\n",
    "def iterations(n):\n",
    "    return math.pi * math.sqrt(n) / 4 - 1/2"
   ]
  },
  {
   "cell_type": "code",
   "execution_count": null,
   "metadata": {},
   "outputs": [],
   "source": [
    "import numpy as np\n",
    "import matplotlib.pyplot as plt\n",
    "iteration = [i for i in range(15)]\n",
    "correct = probabilities\n",
    "plt.bar(iteration, correct)\n",
    "plt.xlabel(\"# of iterations\")\n",
    "plt.ylabel(\"# of times the solution was obtained\")\n",
    "print(f\"Expected maximum at {round(iterations(2**database_count))}\")\n",
    "plt.show()"
   ]
  },
  {
   "cell_type": "markdown",
   "metadata": {},
   "source": [
    "# Optional Homework Exercise\n",
    "\n",
    "## Solving a Lights Out Puzzle with Grover\n",
    "\n",
    "Lights out is a famous puzzle game where you have given a rectangular grid of lights that are either switched on or off. When you flip one of the lights this also changes the state of lights in directly adjacent cells – top, bottom, left, and right. Your goal is to turn off all the lights from a random starting light pattern."
   ]
  },
  {
   "cell_type": "markdown",
   "metadata": {},
   "source": [
    "## Example Puzzle\n",
    "\n",
    "<table style=\"float:right;display:inline\">\n",
    "<tr><td style=\"background-color:blue\">&nbsp;</td><td style=\"background-color:blue\">&nbsp;</td><td style=\"background-color:blue\">&nbsp;</td></tr>\n",
    "<tr><td style=\"background-color:yellow\">&nbsp;</td><td style=\"background-color:blue\">&nbsp;</td><td style=\"background-color:yellow\">&nbsp;</td></tr>\n",
    "<tr><td style=\"background-color:yellow\">&nbsp;</td><td style=\"background-color:yellow\">&nbsp;</td><td style=\"background-color:blue\">&nbsp;</td></tr>\n",
    "</table>\n",
    "\n",
    "An example of the puzzle with a 3x3 grid is shown in the table on the right. The squares are labelled from `0` to `8`. We can represent the starting pattern using a list of numbers, where `1` represents lights switched on and `0` represents lights switched off. The list `lights` represents the starting pattern in this example.\n",
    "\n",
    "    lights = [0, 0, 0, 1, 0, 1, 1, 1, 0]\n",
    "\n",
    "The example puzzle can be solved by flipping the switches in sqare 0, 3, and 4. If you play with the example a bit, you will notice two important properties:\n",
    "\n",
    "1. You don't need to flip a switch more than once, and\n",
    "2. The order of flipping doesn't matter.\n",
    "\n",
    "Therefore, we can represent the solution to our example puzzle as a list of numbers similar to the starting pattern. The meaning of `0` and `1` is a bit different: `1` means that a switch is flipped and `0` means that it is *not* flipped.\n",
    "\n",
    "    solution = [1, 0, 0, 1, 1, 0, 0, 0, 0]\n",
    "\n",
    "<table style=\"float:left;margin-right:20px\">\n",
    "<tr><td style=\"background-color:blue\">&nbsp;</td><td style=\"background-color:blue\">&nbsp;</td><td style=\"background-color:blue\">&nbsp;</td></tr>\n",
    "<tr><td style=\"background-color:yellow\">&nbsp;</td><td style=\"background-color:blue\">&nbsp;</td><td style=\"background-color:yellow\">&nbsp;</td></tr>\n",
    "<tr><td style=\"background-color:yellow\">&nbsp;</td><td style=\"background-color:yellow\">&nbsp;</td><td style=\"background-color:blue\">&nbsp;</td></tr>\n",
    "</table>\n",
    "\n",
    "<table style=\"float:left;margin-right:20px\">\n",
    "<tr><td style=\"background-color:yellow\">&nbsp;</td><td style=\"background-color:yellow\">&nbsp;</td><td style=\"background-color:blue\">&nbsp;</td></tr>\n",
    "<tr><td style=\"background-color:blue\">&nbsp;</td><td style=\"background-color:blue\">&nbsp;</td><td style=\"background-color:yellow\">&nbsp;</td></tr>\n",
    "<tr><td style=\"background-color:yellow\">&nbsp;</td><td style=\"background-color:yellow\">&nbsp;</td><td style=\"background-color:blue\">&nbsp;</td></tr>\n",
    "</table>\n",
    "\n",
    "<table style=\"float:left;margin-right:20px\">\n",
    "<tr><td style=\"background-color:blue\">&nbsp;</td><td style=\"background-color:blue\">&nbsp;</td><td style=\"background-color:blue\">&nbsp;</td></tr>\n",
    "<tr><td style=\"background-color:blue\">&nbsp;</td><td style=\"background-color:blue\">&nbsp;</td><td style=\"background-color:blue\">&nbsp;</td></tr>\n",
    "<tr><td style=\"background-color:blue\">&nbsp;</td><td style=\"background-color:blue\">&nbsp;</td><td style=\"background-color:blue\">&nbsp;</td></tr>\n",
    "</table>"
   ]
  },
  {
   "cell_type": "markdown",
   "metadata": {},
   "source": [
    "Let's try to solve a \"Lights Out\" puzzle with the help of Grover's algorithm. Take care that you will need a more complicated oracle than before.\n",
    "\n",
    "Tip: You will need four registers, one for the input, one for the possible solutions, one for the oracle, and one for the ancillary qubits.\n",
    "\n",
    "Please implement your circuit within a maximum of 28 qubits."
   ]
  },
  {
   "cell_type": "code",
   "execution_count": null,
   "metadata": {},
   "outputs": [],
   "source": [
    "import math\n",
    "from qiskit import Aer\n",
    "from qiskit import QuantumCircuit, QuantumRegister, ClassicalRegister\n",
    "\n",
    "from qiskit.tools.visualization import plot_histogram"
   ]
  },
  {
   "cell_type": "code",
   "execution_count": null,
   "metadata": {},
   "outputs": [],
   "source": [
    "import qiskit.tools.jupyter\n",
    "print(\"This notebook was created and tested with the following version numbers\")\n",
    "%qiskit_version_table"
   ]
  }
 ],
 "metadata": {
  "kernelspec": {
   "display_name": "Python 3.8.15 ('lecture3.8')",
   "language": "python",
   "name": "python3"
  },
  "language_info": {
   "codemirror_mode": {
    "name": "ipython",
    "version": 3
   },
   "file_extension": ".py",
   "mimetype": "text/x-python",
   "name": "python",
   "nbconvert_exporter": "python",
   "pygments_lexer": "ipython3",
   "version": "3.8.15"
  },
  "orig_nbformat": 4,
  "vscode": {
   "interpreter": {
    "hash": "8dc5d5bdbdf7113047e58213ff4dd76f18871061ce7c2250ed15efe3e9d22e94"
   }
  }
 },
 "nbformat": 4,
 "nbformat_minor": 2
}
