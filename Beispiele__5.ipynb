{
 "cells": [
  {
   "cell_type": "code",
   "execution_count": null,
   "metadata": {},
   "outputs": [],
   "source": [
    "%matplotlib notebook\n",
    "import matplotlib.pyplot as plt\n",
    "import matplotlib as mpl\n",
    "import numpy as np\n",
    "mpl.rcParams.update({'font.size': 16})\n",
    "mpl.rcParams['figure.figsize'] = (9,6)\n",
    "mpl.rcParams['axes.grid'] = True\n",
    "from sympy import *\n",
    "# Shift+Enter zum Ausführen"
   ]
  },
  {
   "cell_type": "code",
   "execution_count": null,
   "metadata": {},
   "outputs": [],
   "source": [
    "x = 1 # Variable definieren \n",
    "print(x) # und ausgeben"
   ]
  },
  {
   "cell_type": "code",
   "execution_count": null,
   "metadata": {},
   "outputs": [],
   "source": [
    "# interaktive Informationen/Hilfe jederzeit erreichbar\n",
    "print?"
   ]
  },
  {
   "cell_type": "code",
   "execution_count": null,
   "metadata": {},
   "outputs": [],
   "source": [
    "help(print)"
   ]
  },
  {
   "cell_type": "code",
   "execution_count": null,
   "metadata": {},
   "outputs": [],
   "source": [
    "x += 1\n",
    "print(x, x**2, np.sqrt(x)) # der Zustand wird von Zuweisungen geändert, aber nicht von Ausgaben\n",
    "x-= 1\n",
    "x = x +1\n",
    "print(x)"
   ]
  },
  {
   "cell_type": "code",
   "execution_count": null,
   "metadata": {},
   "outputs": [],
   "source": [
    "for i in range(10): \n",
    "    print(\"i\", i) # Einrückung ist wichtig in Python; alles, was in einen Block hinter \":\" soll,\n",
    "    x+=1     # muss eine Stufe tiefer als \":\" eingerückt werden\n",
    "print(\"x\", x)"
   ]
  },
  {
   "cell_type": "code",
   "execution_count": null,
   "metadata": {},
   "outputs": [],
   "source": [
    "def func(x):\n",
    "    x += 1\n",
    "    print(x)\n",
    "    return x\n",
    "func(x)\n",
    "print(x) # x wird als Kopie reingegeben; außerhalb ist noch der selbe Wert!"
   ]
  },
  {
   "cell_type": "code",
   "execution_count": null,
   "metadata": {},
   "outputs": [],
   "source": [
    "arr = np.zeros(10) # Array von Daten\n",
    "print(arr)"
   ]
  },
  {
   "cell_type": "code",
   "execution_count": null,
   "metadata": {},
   "outputs": [],
   "source": [
    "for i in range(arr.shape[0]):\n",
    "    arr[i] = i\n",
    "print(arr)"
   ]
  },
  {
   "cell_type": "code",
   "execution_count": null,
   "metadata": {},
   "outputs": [],
   "source": [
    "def func2(arr):\n",
    "    for i in range(arr.shape[0]):\n",
    "        arr[i] = arr[i] + i\n",
    "    #arr = 2\n",
    "    #print(arr)\n",
    "    return arr\n",
    "arr = np.zeros(10)\n",
    "print(arr)\n",
    "func2(arr)\n",
    "print(arr) \n",
    "# es wird in diesem Fall die Kopie von \"wo liegt arr\" übergeben,\n",
    "#damit ist eine Änderung in der Funktion möglich, wenn innerhalb ([]) etwas geändert wird"
   ]
  },
  {
   "cell_type": "code",
   "execution_count": null,
   "metadata": {},
   "outputs": [],
   "source": [
    "print(arr[:2], arr[2:], arr[2:4])"
   ]
  },
  {
   "cell_type": "code",
   "execution_count": null,
   "metadata": {},
   "outputs": [],
   "source": [
    "y = symbols('y') # aus sympy\n",
    "y"
   ]
  },
  {
   "cell_type": "code",
   "execution_count": null,
   "metadata": {},
   "outputs": [],
   "source": [
    "f = y**3 + 2*y - 4 # Ausdruck\n",
    "fn = Lambda(y, f) # Funktion, fn = f(y)\n",
    "g = log((f)**2)\n",
    "dfdy = diff(f, y)\n",
    "f, dfdy"
   ]
  },
  {
   "cell_type": "code",
   "execution_count": null,
   "metadata": {},
   "outputs": [],
   "source": [
    "#f(1) # Ausdruck nimmt keine Eingabewerte an\n",
    "fn(1) # aber eine Funktion tut dies\n",
    "f.subs(y, 1) # substituieren funktioniert immer"
   ]
  },
  {
   "cell_type": "code",
   "execution_count": null,
   "metadata": {},
   "outputs": [],
   "source": [
    "fn"
   ]
  },
  {
   "cell_type": "code",
   "execution_count": null,
   "metadata": {},
   "outputs": [],
   "source": [
    "display(g), print(g)"
   ]
  },
  {
   "cell_type": "code",
   "execution_count": null,
   "metadata": {},
   "outputs": [],
   "source": [
    "print(g.subs(y, 2), g.subs(y, 2).evalf())"
   ]
  },
  {
   "cell_type": "code",
   "execution_count": null,
   "metadata": {},
   "outputs": [],
   "source": [
    "dgdy = diff(g, y)\n",
    "dgdy"
   ]
  },
  {
   "cell_type": "code",
   "execution_count": null,
   "metadata": {},
   "outputs": [],
   "source": [
    "dgdy.simplify()"
   ]
  },
  {
   "cell_type": "code",
   "execution_count": null,
   "metadata": {},
   "outputs": [],
   "source": [
    "h = 2*(y+1)**2 - 10\n"
   ]
  },
  {
   "cell_type": "code",
   "execution_count": null,
   "metadata": {},
   "outputs": [],
   "source": [
    "fig, ax = plt.subplots()\n",
    "xx = np.linspace(-3, 3)\n",
    "fnp = lambdify(y, f) # ausdruck -> python-funktion, wie in def f(x): ...\n",
    "hnp = lambdify(y, h)\n",
    "ax.plot(xx, fnp(xx), label=\"f\")\n",
    "ax.plot(xx, hnp(xx), label=\"h\")\n",
    "ax.legend()"
   ]
  },
  {
   "cell_type": "code",
   "execution_count": null,
   "metadata": {},
   "outputs": [],
   "source": [
    "# h = f => h-f = 0\n",
    "sol = solve(h-f, y)\n",
    "sol"
   ]
  },
  {
   "cell_type": "code",
   "execution_count": null,
   "metadata": {},
   "outputs": [],
   "source": [
    "nsolve(h-f, y, 1)"
   ]
  }
 ],
 "metadata": {
  "kernelspec": {
   "display_name": "mssuebung",
   "language": "python",
   "name": "mssuebung"
  },
  "language_info": {
   "codemirror_mode": {
    "name": "ipython",
    "version": 3
   },
   "file_extension": ".py",
   "mimetype": "text/x-python",
   "name": "python",
   "nbconvert_exporter": "python",
   "pygments_lexer": "ipython3",
   "version": "3.7.3"
  }
 },
 "nbformat": 4,
 "nbformat_minor": 4
}
