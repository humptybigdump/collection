{
 "cells": [
  {
   "cell_type": "markdown",
   "metadata": {},
   "source": [
    "# Geodatenanalyse 1\n",
    "\n",
    "## Kapitel 3: Funktionen und Berechnungen - Übung"
   ]
  },
  {
   "cell_type": "markdown",
   "metadata": {},
   "source": [
    "### Aufgabe 1\n",
    "#### Deine eigene Funktion\n",
    "- Schreibe eine Funktion mit dem Namen *hiking()*, die Eingangsparameter für die <font color=\"green\">zurückgelegte Strecke</font>, die dafür <font color=\"green\">benötigte Zeit</font> und den <font color=\"green\">Ort der Wanderung</font> hat. \n",
    "\n",
    "    Die Funktion sollte eine Nachricht, mit dem durchschnittlichen Lauftempo und dem Ortsnamen ausgeben. Diese könnte zum Beispiel folgendermaßen lauten:\n",
    " > \" Bei unserer Wanderung in Zermatt hatten wir ein durchschnittliches Lauftempo von 3.5 km/h!\" \n",
    " \n",
    "\n",
    "- Bei einem Tempo von unter 2 km pro Stunde soll eine zusätzliche Nachricht ausgegeben werden, mit dem Hinweis, dass die Wanderung wohl besonders anstrengend oder steil war. Nutze hierfür eine passende Wenn-Dann Bedingung. "
   ]
  },
  {
   "cell_type": "code",
   "execution_count": 1,
   "metadata": {},
   "outputs": [
    {
     "name": "stdout",
     "output_type": "stream",
     "text": [
      "Bei unserer Wanderung in Zermatt hatten wir ein durchschnittliches Lauftempo von 3.5 km/h!\n",
      "Bei unserer Wanderung in Bruchsal hatten wir ein durchschnittliches Lauftempo von 1.5 km/h!\n",
      "Die Wanderung muss besonders anstrengend gewesen sein!\n"
     ]
    }
   ],
   "source": [
    "# eigene Funktion erstellen\n",
    "def hiking(distance, time, location):\n",
    "    speed = distance / time\n",
    "    print(\"Bei unserer Wanderung in\",str(location), \n",
    "          \"hatten wir ein durchschnittliches Lauftempo von\",\n",
    "          speed,\"km/h!\")    \n",
    "    if speed < 2.0:\n",
    "        print(\"Die Wanderung muss besonders anstrengend gewesen sein!\")\n",
    "\n",
    "# Funktion aufrufen mit einer hohen Durschnittsgeschwindigkeit und einem beliebigen Ortsnamen\n",
    "hiking(10.5,3,\"Zermatt\")\n",
    "\n",
    "# Funktion aufrufen mit einer niedrigeren Durschnittsgeschwindigkeit und einem beliebigen Ortsnamen\n",
    "hiking(6,4,\"Bruchsal\")"
   ]
  },
  {
   "cell_type": "markdown",
   "metadata": {},
   "source": [
    "### Aufgabe 2\n",
    "#### Erstellung von NumPy Objekten\n",
    "\n",
    "- Erstelle mit *np.arange()* eine regelmäßige Sequenz zwischen 0 und 100, mit einem Inkrement von 4."
   ]
  },
  {
   "cell_type": "code",
   "execution_count": 2,
   "metadata": {},
   "outputs": [
    {
     "name": "stdout",
     "output_type": "stream",
     "text": [
      "[ 0  4  8 12 16 20 24 28 32 36 40 44 48 52 56 60 64 68 72 76 80 84 88 92\n",
      " 96]\n"
     ]
    }
   ],
   "source": [
    "# Vergiss nicht zuerst Numpy zu laden ;)\n",
    "import numpy as np\n",
    "\n",
    "# Vektor mit regelmäßiger Sequenz\n",
    "sequence = np.arange(0, 100, 4)\n",
    "print(sequence)\n"
   ]
  },
  {
   "cell_type": "markdown",
   "metadata": {},
   "source": [
    "- Erstelle eine Matrix mit 10 x 20 Einträgen, welche einer regelmäßigen Sequenz beginnend bei 0 folgt."
   ]
  },
  {
   "cell_type": "code",
   "execution_count": 3,
   "metadata": {},
   "outputs": [
    {
     "name": "stdout",
     "output_type": "stream",
     "text": [
      "[[  0   1   2   3   4   5   6   7   8   9  10  11  12  13  14  15  16  17\n",
      "   18  19]\n",
      " [ 20  21  22  23  24  25  26  27  28  29  30  31  32  33  34  35  36  37\n",
      "   38  39]\n",
      " [ 40  41  42  43  44  45  46  47  48  49  50  51  52  53  54  55  56  57\n",
      "   58  59]\n",
      " [ 60  61  62  63  64  65  66  67  68  69  70  71  72  73  74  75  76  77\n",
      "   78  79]\n",
      " [ 80  81  82  83  84  85  86  87  88  89  90  91  92  93  94  95  96  97\n",
      "   98  99]\n",
      " [100 101 102 103 104 105 106 107 108 109 110 111 112 113 114 115 116 117\n",
      "  118 119]\n",
      " [120 121 122 123 124 125 126 127 128 129 130 131 132 133 134 135 136 137\n",
      "  138 139]\n",
      " [140 141 142 143 144 145 146 147 148 149 150 151 152 153 154 155 156 157\n",
      "  158 159]\n",
      " [160 161 162 163 164 165 166 167 168 169 170 171 172 173 174 175 176 177\n",
      "  178 179]\n",
      " [180 181 182 183 184 185 186 187 188 189 190 191 192 193 194 195 196 197\n",
      "  198 199]]\n"
     ]
    }
   ],
   "source": [
    "# Matrix mit regelmäßige Sequenz\n",
    "matrix = np.arange(0, 200).reshape(10, 20)\n",
    "print(matrix)\n"
   ]
  },
  {
   "cell_type": "markdown",
   "metadata": {},
   "source": [
    "- Lasse dir die Anzahl an Elementen (size), die Dimensionen (shape) und die Datentypen (type) beider Vektoren von oben ausgeben"
   ]
  },
  {
   "cell_type": "code",
   "execution_count": 4,
   "metadata": {},
   "outputs": [
    {
     "name": "stdout",
     "output_type": "stream",
     "text": [
      "200\n",
      "(10, 20)\n",
      "<class 'numpy.ndarray'>\n"
     ]
    }
   ],
   "source": [
    "# Ausgabe von size, shape und type\n",
    "print(matrix.size)\n",
    "print(matrix.shape)\n",
    "print(type(matrix))\n"
   ]
  },
  {
   "cell_type": "markdown",
   "metadata": {},
   "source": [
    "### Aufgabe 3\n",
    "#### Indizierung von NumPy Objekten\n",
    "\n",
    "- Erstelle mit Hilfe von *np.random.rand()* einen Vektor mit 1000 zufälligen Werten. Erstelle einen zweiten Vektor, welcher jeden dritten Wert des ersten Vektors enthält."
   ]
  },
  {
   "cell_type": "code",
   "execution_count": 5,
   "metadata": {},
   "outputs": [
    {
     "name": "stdout",
     "output_type": "stream",
     "text": [
      "(1000,)\n",
      "(334,)\n"
     ]
    }
   ],
   "source": [
    "# Vektor mit 1000 zufälligen Werten\n",
    "a = np.random.rand(1000)\n",
    "print(a.shape)\n",
    "\n",
    "# zweiter Vektor \n",
    "b = a[::3]\n",
    "print(b.shape)"
   ]
  },
  {
   "cell_type": "markdown",
   "metadata": {},
   "source": [
    "- Forme mit Hilfe von *reshape()* den ersten Vektor von eben in eine Matrix mit 20 Zeilen und 50 Spalten um, und überprüfe die Dimensionen der erzeugten Matrix.  "
   ]
  },
  {
   "cell_type": "code",
   "execution_count": 6,
   "metadata": {},
   "outputs": [
    {
     "name": "stdout",
     "output_type": "stream",
     "text": [
      "(20, 50)\n"
     ]
    }
   ],
   "source": [
    "# Umformen eines Arrays\n",
    "c = a.reshape(20,50)\n",
    "print(c.shape)"
   ]
  },
  {
   "cell_type": "markdown",
   "metadata": {},
   "source": [
    "- Lass dir nun von diesem Vektor die Werte in Spalte 5 bis 8 der dritten Zeile ausgeben, speichere außerdem die kompletten Spalten 4 und 5 in einem neuen Vektor ab.  "
   ]
  },
  {
   "cell_type": "code",
   "execution_count": 7,
   "metadata": {},
   "outputs": [
    {
     "name": "stdout",
     "output_type": "stream",
     "text": [
      "[0.36766058 0.96644827 0.30480584]\n",
      "[[0.46732303]\n",
      " [0.15777997]\n",
      " [0.521282  ]\n",
      " [0.74255412]\n",
      " [0.09708075]\n",
      " [0.31092984]\n",
      " [0.44556291]\n",
      " [0.84633069]\n",
      " [0.44112221]\n",
      " [0.06503766]\n",
      " [0.46297561]\n",
      " [0.82861349]\n",
      " [0.03307325]\n",
      " [0.93227757]\n",
      " [0.37818498]\n",
      " [0.89850422]\n",
      " [0.44342018]\n",
      " [0.88319272]\n",
      " [0.22462503]\n",
      " [0.71322551]]\n"
     ]
    }
   ],
   "source": [
    "# Indizierung von Zeilen und Spalten \n",
    "print(c[3,5:8])\n",
    "\n",
    "d = c[:,4:5]\n",
    "print(d)"
   ]
  },
  {
   "cell_type": "markdown",
   "metadata": {},
   "source": [
    "### Aufgabe 4\n",
    "#### Erweiterte Funktionalität von NumPy\n",
    "\n",
    "- Erstelle einen Vektor mit 1000 zufälligen ganzen Zahlen zwischen 0 und 100. Suche dafür in der Numpy Dokumentation (https://numpy.org/doc/stable/reference/random/legacy.html) nach einer passenden Funktion. "
   ]
  },
  {
   "cell_type": "code",
   "execution_count": 8,
   "metadata": {},
   "outputs": [
    {
     "name": "stdout",
     "output_type": "stream",
     "text": [
      "[37 89 12 21 87 78 53 69 30 89 94 74 77  4  8 18  6 81 19 79 34 99 83 48\n",
      " 26 17 84 40 10 82 79 30 44 19 95 88 62  7 33 58 49 10 81 33 21  4 56 15\n",
      " 55 46 97 23 96 69 16 53 19 50  3 43 45  2 19  7 53  3 66 60 26 19 95 46\n",
      "  2 26 60 53 59 35 40 40 14 94 81 53 88 36 12 74 78 96 80  4 69 40 83 75\n",
      " 19 61 55 13  6 29 72 25 83 38 60 56 19 16 92 73 14 52 17 94 15 58 56 58\n",
      " 58 45 43 47 21  0  1  7 30 22 11 19  2 26 72 35 90 39  6 17 86 93 43 19\n",
      " 26 37 89 84 22 41 55 77 86 36 38 37 97 52 86 94 52  4 79 23  4 55 97 71\n",
      " 81 90  2 80 79 94 66 41 64 92 30  8 13  5 33 56 86 82 83 23  9 13 75 47\n",
      " 86 26  8 94 35 13  5 54  8 68 48 62 64 43 50 46 50 27 63 87 83 67 31 17\n",
      " 58  6 64 58 92 83 59 41  4 30 94 69 69 80 94  5 24 63 89 77 99 37  1  2\n",
      " 83 93 25 98 83 95 97 77 39 49 45 22 77 83 46 71 71 87 76 69 50 80 67  4\n",
      " 84 41 31 61 33 20 11 95 82 99 68 86 96 32 58 78 24 23 18  6 85 85 17 34\n",
      " 50 61 74 29 95 92 84 14 29 33 93 48 71 83 49 47 45 21 67 71 99 66 33 83\n",
      " 35 79  7 62 23 64 18  7 92 39 75 97 46 22 45 12 32  8 32 47 38 20 38 94\n",
      " 48 92 26 73  3  5 60 19  5 45 89 15 43 78 80 56 57 52 33 90 15 59 40  9\n",
      " 86  6 29 40 48 95 42 84 94 89 48 95 20 79 73 12 86 73 54 50 99 44 22 73\n",
      " 45 92 60 96 48 31  2 25 46 63 52 83 42 92 25 89 30  5 10 73  1 41 41 86\n",
      " 81 89 19 10 24 30 12 64 77 11 96 20 60 33 87 49 86 39 55 54 97 90 13 29\n",
      " 55 11 84  0 23 47 80 21 35 31 69  3  8 35 56 52 99 80 27 24 50 31 92 98\n",
      "  6 41 20 24 50  3 30 28 63 76  3 97 55 12 73  0 45 81 63 47 85 93 58 29\n",
      " 29 59 21  5 49 96 22 75 40 68 89 40  9 34 38 83 45 39 40 12 55 25 90 44\n",
      " 62  9 32 36 85 80 42 43 48 41 94 74 59 19  6 76  0 10 75 55 62 17 46 14\n",
      " 58 83 52 95 70 42  3 16  0 28 22 87 54 88 31 31 35 63 21 93 57 84 67 94\n",
      " 18 47 60 99  2 98  9 83  9 25 23 16 28  1 51 74 92 76 66  7 66 41 28 84\n",
      " 18 15  9 11 15 42 74 87 83 20 46 65 33 39 98 54  9 63 76 85 73 89 81 39\n",
      " 76 44 45 92 62  9 43 12 70 19 18 75 94 18 46 79 65 19 33 66 67 59 37 84\n",
      " 90 81 49 50 27 12 69 87 30 32 14 36 57 18 28 54 75 85 34 20 47 73 52 57\n",
      " 96 33 53 61 80 16 83 21 46 24 22 36 41 54 55 69  5  4 84 12 46 64 92 89\n",
      " 69 86 42 49 14 25 38 15 43 50 80 15 85 64 11 64 23 98  6 75 97 68 94 83\n",
      " 48  7 78 74 13 80 42 49 95 41 76 49 82 48  9 23 60 61 34 12 20 79 71 46\n",
      " 63  4 66 45 50 87 77 69  0  8 35 19 83 83 89 24 86  6 49 37 56 21 96 19\n",
      " 99 73 49 73 15 81  9 45 70 30  7  7 28 18 61 87  7 78 14 31 81 19 79 33\n",
      " 36 26 76 58 43 62 68 84 67 41 52 77 25 66 47 68 12 58 37 32 89 39  5 87\n",
      " 65 28 58  6 12 18 90 92 89 62 29 73 25 14 45 89 81 21 61  3 76 30 28 28\n",
      " 14 23  6 71 25  9 86 88 84 15 25 83 37 41 51  0 80 88 79 70 19 86 96 70\n",
      " 58 63 82  5 51  4  5 16 18 83  9 12 87 86 43 36 62 15 94 68 56 14 68 20\n",
      " 25 75 95 35 62 25 20 93  6 39 66 58 39 88 56 73 42  6 89 36 17 81  9 80\n",
      " 64 28 98 73 16 98 10 22 18 64 80 28 45 69 38 69 34 96 35 97 10 54 36 49\n",
      " 73 45 75 89 46 31 62 81 43 90 33 72 33  4 43 79 58 15 95 76 30  8 40 75\n",
      " 35 35 97  9 46 98 81 41 58 99 79 33 17 53 49 68  5 17 10 67 10 22 61 67\n",
      " 62  7 38 64 45 59 43  4 32 51 60 53 31 86 97 49 75 97 32 26 10 15  1 50\n",
      " 93 70 68 27 97 31 45 40 42 68  9 96 72 13 17 16]\n"
     ]
    }
   ],
   "source": [
    "# Vektor mit 1000 zufälligen ganzen Zahlen \n",
    "a = np.random.randint(0, 100, 1000)\n",
    "print(a)"
   ]
  },
  {
   "cell_type": "markdown",
   "metadata": {},
   "source": [
    "- Speichere die 5 größten Werte aus dem Vektor von eben in einem neuen Array. \n",
    "\n",
    "Hinweis: Nutze dafür die *sort()* Funktion und die passende Indizierung.  "
   ]
  },
  {
   "cell_type": "code",
   "execution_count": 9,
   "metadata": {},
   "outputs": [
    {
     "name": "stdout",
     "output_type": "stream",
     "text": [
      "[99 99 99 99 99]\n"
     ]
    }
   ],
   "source": [
    "# 5 kleinste Werte\n",
    "b = np.sort(a)\n",
    "c = b[-5:]\n",
    "print(c)"
   ]
  },
  {
   "cell_type": "markdown",
   "metadata": {},
   "source": [
    "## ENDE"
   ]
  }
 ],
 "metadata": {
  "kernelspec": {
   "display_name": "Python 3.8.8 ('base')",
   "language": "python",
   "name": "python3"
  },
  "language_info": {
   "codemirror_mode": {
    "name": "ipython",
    "version": 3
   },
   "file_extension": ".py",
   "mimetype": "text/x-python",
   "name": "python",
   "nbconvert_exporter": "python",
   "pygments_lexer": "ipython3",
   "version": "3.8.8"
  },
  "vscode": {
   "interpreter": {
    "hash": "e4cce46d6be9934fbd27f9ca0432556941ea5bdf741d4f4d64c6cd7f8dfa8fba"
   }
  }
 },
 "nbformat": 4,
 "nbformat_minor": 4
}
