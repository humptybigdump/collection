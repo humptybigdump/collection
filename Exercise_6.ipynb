{
 "cells": [
  {
   "cell_type": "markdown",
   "metadata": {},
   "source": [
    "## ***Uncertainty Quantification***\n",
    "\n",
    "Prof. Dr. M. Frank 2021\n",
    "\n",
    "------------------------------------------------------------------------\n",
    "\n",
    "#### **EXERCISE SHEET 6**"
   ]
  },
  {
   "cell_type": "markdown",
   "metadata": {},
   "source": [
    "&nbsp;\n",
    "\n",
    "\n",
    "Reproduce and possibly extend the results in either of the following papers (you can also use a paper of your choice):\n",
    "\n",
    "- R. Pulch, *Stochastic Galerkin methods for analyzing equilibria of random dynamical systems,* SIAM/ASA J. Uncertainty Quantification 1(1), 408-430 (2013).\n",
    "- R. Pulch and D. Xiu, *Generalised polynomial chaos for a class of linear conservation laws,* J. Sci. Comput. 51(2), 293-312 (2012).\n",
    "- D. Gottlieb and D. Xiu, *Galerkin Method for Wave Equations with Uncertain Coefficients,* Comm. Comput. Phys. 3(2), 505-518 (2008). \n",
    "- D. Xiu and G.E. Karniadakis, *Supersensitivity Due to Uncertain Boundary Conditions,* Int. J. Numer. Meth. Engng. 61(12), 2114-2138 (2004).\n",
    "- D. Xiu and G.E. Karniadakis, *Modeling Uncertainty in Steady State Diffusion Problems via Generalized Polynomial Chaos,* Comput. Methods Appl. Mech. Engrg. 191, 4927-4948 (2002). \n",
    "\n",
    "&nbsp;\n",
    "\n",
    "All papers can be found in ILIAS or via internet search.\n",
    "Use the following general strategy:\n",
    "\n",
    "&nbsp;&nbsp;&nbsp;&nbsp;&nbsp; &nbsp;&nbsp;(a) Implement an efficient solver for the deterministic problem.  \n",
    "\n",
    "&nbsp;&nbsp;&nbsp;&nbsp;&nbsp; &nbsp;&nbsp;(b) Implement Monte-Carlo sampling. (Possibly keep it running in the background) Also try quasi-MC or MLMC.\n",
    "\n",
    "&nbsp;&nbsp;&nbsp;&nbsp;&nbsp; &nbsp;&nbsp;(c) Implement a tensorized quadrature method.\n",
    "\n",
    "&nbsp;&nbsp;&nbsp;&nbsp;&nbsp; &nbsp;&nbsp;(d) Reproduce the derivation of the stochastic Galerkin system. Implement a solver following the guidelines in each of the papers.\n",
    "\n",
    "&nbsp;&nbsp;&nbsp;&nbsp;&nbsp; &nbsp;&nbsp;(e) Compare and discuss.\n",
    "\n"
   ]
  }
 ],
 "metadata": {
  "kernelspec": {
   "display_name": "Python 3",
   "language": "python",
   "name": "python3"
  },
  "language_info": {
   "codemirror_mode": {
    "name": "ipython",
    "version": 3
   },
   "file_extension": ".py",
   "mimetype": "text/x-python",
   "name": "python",
   "nbconvert_exporter": "python",
   "pygments_lexer": "ipython3",
   "version": "3.7.6"
  }
 },
 "nbformat": 4,
 "nbformat_minor": 4
}
