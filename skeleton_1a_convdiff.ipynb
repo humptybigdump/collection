{
 "cells": [
  {
   "cell_type": "code",
   "execution_count": null,
   "metadata": {},
   "outputs": [],
   "source": [
    "import numpy as np\n",
    "import matplotlib.pyplot as plt\n",
    "from matplotlib.animation import FuncAnimation\n",
    "\n",
    "%matplotlib notebook"
   ]
  },
  {
   "cell_type": "markdown",
   "metadata": {},
   "source": [
    "## User settings"
   ]
  },
  {
   "cell_type": "code",
   "execution_count": null,
   "metadata": {},
   "outputs": [],
   "source": [
    "N = 200 # number of nodes\n",
    "L = 1 # domain length\n",
    "dt = 0.0001 # time step\n",
    "t0 = 0 # initial time instant\n",
    "\n",
    "theta = 0 # for the selection of method in time\n",
    "\n",
    "peclet = 5 # Peclet number\n",
    "kappa = 0.1 # thermal diffusivity\n",
    "\n",
    "tright = 1 # temperature at the end of the beam\n",
    "tleft = 0 # temperature at the root of the beam\n",
    "\n",
    "refresh_time = 5 # basically the inverse of the framerate, in MILLISECONDS"
   ]
  },
  {
   "cell_type": "markdown",
   "metadata": {},
   "source": [
    "## Actual code"
   ]
  },
  {
   "cell_type": "markdown",
   "metadata": {},
   "source": [
    "### Mesh and stability check:"
   ]
  },
  {
   "cell_type": "code",
   "execution_count": null,
   "metadata": {},
   "outputs": [],
   "source": [
    "x = # generate vector corresponding to nodal points (mesh)\n",
    "dx = # grid resolution (scalar, distance between each node)\n",
    "U = # convection velocity (scalar, calculate from peclet)\n",
    "print() # new line\n",
    "print('Local Peclet number: ', ...) # local Peclet number (stab. of stat. conv-diff)\n",
    "print('Fourier number: ', ...) # Fourier number (stab. of diffusion in time)\n",
    "print('CFL number: ', ...) # CFL umber (stab. of convection in time)\n",
    "print() # new line"
   ]
  },
  {
   "cell_type": "markdown",
   "metadata": {},
   "source": [
    "### Calculation of matrix B"
   ]
  },
  {
   "cell_type": "markdown",
   "metadata": {},
   "source": [
    "Calculate matrix __B__ discretising the advection diffusion operator, so that:\n",
    "\n",
    "$$ (\\textbf{I} - \\Delta t \\, \\theta \\, \\textbf{B})\\, \\vec{T}^{n+1} = (\\textbf{I} + \\Delta t \\, (1-\\theta) \\, \\textbf{B}) \\vec{T}^{n} $$\n",
    "\n",
    "notice that __B__ does not include boundary conditions yet.\n",
    "\n",
    "Hint: this step is very similar to the the stationary problem. Actually, re-use the same __A__ from steady problems to find the steady solution; then, you need to make a little modification before using __B__ it for the unsteady solution.\n",
    "\n"
   ]
  },
  {
   "cell_type": "code",
   "execution_count": null,
   "metadata": {},
   "outputs": [],
   "source": [
    "B = # your matrix"
   ]
  },
  {
   "cell_type": "markdown",
   "metadata": {},
   "source": [
    "### Function to apply boundary conditions\n",
    "This takes a matrix __M__ and a vector $\\vec{v}$ and modifies the first and last rows in order to account for boundary conditions."
   ]
  },
  {
   "cell_type": "code",
   "execution_count": null,
   "metadata": {},
   "outputs": [],
   "source": [
    "def apply_bc(M,v):\n",
    "\n",
    "    # delete first and last rows\n",
    "\n",
    "    # apply boundary condition\n",
    "\n",
    "    return M,v"
   ]
  },
  {
   "cell_type": "markdown",
   "metadata": {},
   "source": [
    "### Compute steady solution"
   ]
  },
  {
   "cell_type": "code",
   "execution_count": null,
   "metadata": {},
   "outputs": [],
   "source": [
    "b = # vector of known terms (right hand side)\n",
    "# ...\n",
    "steady_sol = #\n",
    "steady_exact = #"
   ]
  },
  {
   "cell_type": "markdown",
   "metadata": {},
   "source": [
    "### Initial condition\n",
    "Allocate the initial condition and plot it."
   ]
  },
  {
   "cell_type": "code",
   "execution_count": null,
   "metadata": {},
   "outputs": [],
   "source": [
    "# initialise variables\n",
    "t_curr = # temperature field at current instant\n",
    "t_new =  # temperature field at next time step\n",
    "\n",
    "# plot initial condition! this plot will be updated by animation\n",
    "fig, ax = plt.subplots(figsize=(10,5)) # create a figure and a system of axes inside it\n",
    "ax.scatter(x, steady_sol, marker='x') # plot the steady numerical solution point by point\n",
    "ax.plot(x, steady_exact) # plot the steady exact solution\n",
    "solplot = ax.plot(x, t_curr) # plot the temperature field\n",
    "ax.legend(['exact steady', 'unsteady', 'numerical steady']) # add a legend\n",
    "ax.set_title('t = '+str(round(t0, 3))) # add a title containing time instant at which\n",
    "                                       # temperature field is plotted"
   ]
  },
  {
   "cell_type": "markdown",
   "metadata": {},
   "source": [
    "### Matrices for time step\n",
    "$$ A = \\textbf{I} - \\Delta t \\, \\theta \\, \\textbf{B}$$\n",
    "$$ E = \\textbf{I} + \\Delta t \\, (1-\\theta) \\, \\textbf{B} $$"
   ]
  },
  {
   "cell_type": "code",
   "execution_count": null,
   "metadata": {},
   "outputs": [],
   "source": [
    "# A * t_new = E * t_curr\n",
    "\n",
    "A = #\n",
    "E = #"
   ]
  },
  {
   "cell_type": "markdown",
   "metadata": {},
   "source": [
    "### Time step function"
   ]
  },
  {
   "cell_type": "code",
   "execution_count": null,
   "metadata": {},
   "outputs": [],
   "source": [
    "def time_step(ii):\n",
    "\n",
    "    global t_curr, t_new, b, A, E, t0\n",
    "\n",
    "    # get known term and apply bc\n",
    "\n",
    "    # solve system\n",
    "    t_new = # ...\n",
    "\n",
    "    # update\n",
    "    t0 += dt\n",
    "    buffer_pointer = t_curr\n",
    "    t_curr = t_new\n",
    "    t_new = buffer_pointer\n",
    "\n",
    "    # plot\n",
    "    solplot[0].set_ydata(t_curr)\n",
    "    ax.set_title('t = '+str(round(t0, 3)))\n",
    "\n",
    "    return solplot"
   ]
  },
  {
   "cell_type": "markdown",
   "metadata": {},
   "source": [
    "### Animation"
   ]
  },
  {
   "cell_type": "code",
   "execution_count": null,
   "metadata": {},
   "outputs": [],
   "source": [
    "animation = FuncAnimation(fig, func=time_step, interval=refresh_time)\n",
    "plt.show()"
   ]
  }
 ],
 "metadata": {
  "kernelspec": {
   "display_name": "Python 3",
   "language": "python",
   "name": "python3"
  },
  "language_info": {
   "codemirror_mode": {
    "name": "ipython",
    "version": 3
   },
   "file_extension": ".py",
   "mimetype": "text/x-python",
   "name": "python",
   "nbconvert_exporter": "python",
   "pygments_lexer": "ipython3",
   "version": "3.7.7"
  }
 },
 "nbformat": 4,
 "nbformat_minor": 4
}
