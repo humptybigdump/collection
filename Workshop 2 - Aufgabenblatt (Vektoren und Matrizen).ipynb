{
 "cells": [
  {
   "cell_type": "markdown",
   "metadata": {},
   "source": [
    "# Aufgabenblatt zum 2. Python-Workshop\n",
    "\n",
    "Zur Bearbeitung im 2. Python Workshop am 18.11.21."
   ]
  },
  {
   "cell_type": "markdown",
   "metadata": {},
   "source": [
    "## Aufgabe 1 (leicht)\n",
    "\n",
    "Schreiben Sie eine Prozedur `euclidean_norm(x)`, die für einen Vektor \\\\(x = (x_i) \\in \\mathbb{R}^n\\\\) die Euklid-Norm \n",
    "  \n",
    "\\\\[  \\left\\lVert x \\right\\rVert_2 = \\sqrt{ \\sum_{i=1}^n x_i^2 } \\\\]\n",
    "  \n",
    "berechnet. \n",
    "\n",
    "**Hinweis:** Die Anzahl der Komponenten eines Vektors \\\\(x\\\\) bestimmt man mit `len(x)`."
   ]
  },
  {
   "cell_type": "code",
   "execution_count": null,
   "metadata": {},
   "outputs": [],
   "source": []
  },
  {
   "cell_type": "markdown",
   "metadata": {},
   "source": [
    "## Aufgabe 2 (leicht)\n",
    "\n",
    "Schreiben Sie eine Prozedur `kreuzprod(x,y)`, die das Kreuzprodukt zweier Vektoren \\\\(x,y \\in \\mathbb{R}^3\\\\) berechnet.\n",
    "\n",
    "**Hinweis:** Legen Sie (in der Prozedur) zunächst mit `np.zeros(3)` einen Nullvektor an und füllen Sie diesen mit den Werten des Kreuzprodukts."
   ]
  },
  {
   "cell_type": "code",
   "execution_count": null,
   "metadata": {},
   "outputs": [],
   "source": []
  },
  {
   "cell_type": "markdown",
   "metadata": {},
   "source": [
    "## Aufgabe 3 (mittel)\n",
    "\n",
    "Schreiben Sie eine Prozedur `maxnorm(x)`, die die Maximumnorm eines Vektors \\\\(x \\in \\mathbb{R}^n\\\\) berechnet (ohne Verwendung des `max`-Befehls).\n",
    "\n",
    "**Hinweis:** Die Anzahl der Komponenten eines Vektors \\\\(x\\\\) bestimmt man mit `len(x)`."
   ]
  },
  {
   "cell_type": "code",
   "execution_count": null,
   "metadata": {},
   "outputs": [],
   "source": []
  },
  {
   "cell_type": "code",
   "execution_count": null,
   "metadata": {},
   "outputs": [],
   "source": []
  },
  {
   "cell_type": "markdown",
   "metadata": {},
   "source": [
    "## Aufgabe 4 (mittel)\n",
    "\n",
    "Schreiben Sie eine Funktion `PM(A,x,k)`, die für eine Matrix \\\\(A\\\\), einen Vektor \\\\(x\\\\) und eine natürliche Zahl \\\\(k\\\\) den Einheitsvektor \n",
    "\n",
    "\\\\[\\dfrac{A^k x}{\\lVert A^k x \\rVert_2}\\\\]\n",
    "\n",
    "berechnet. Nehmen Sie ohne Prüfung an, dass \\\\(A\\\\) quadratisch ist und die Dimensionen von \\\\(A\\\\) und \\\\(x\\\\) kompatibel sind. Verwenden Sie zur Berechnung der Euklid-Norm \\\\(\\lVert\\cdot\\rVert_2\\\\) die Prozedur aus Aufgabe 1.\n",
    "\n",
    "Testen Sie Ihre Prozedur zunächst mit \n",
    "\n",
    "\\\\[A = \\left(\\begin{array}{cc} 1 & 2 \\\\ 3 & 0 \\end{array} \\right), \\qquad x = \\left(\\begin{array}{cc} \\frac12 \\\\ -\\frac12 \\end{array} \\right), \\qquad k = 10, 20, 50.\\\\] \n",
    "\n",
    "Verwenden Sie dann beliebige andere Vektoren \\\\(x\\\\) mit derselben Matrix \\\\(A\\\\). Was beobachten Sie? "
   ]
  },
  {
   "cell_type": "code",
   "execution_count": null,
   "metadata": {},
   "outputs": [],
   "source": []
  },
  {
   "cell_type": "code",
   "execution_count": null,
   "metadata": {},
   "outputs": [],
   "source": []
  },
  {
   "cell_type": "markdown",
   "metadata": {},
   "source": [
    "## Aufgabe 5 (schwer)\n",
    "\n",
    "1. Schreiben Sie eine Prozedur `LU(A)`, die für eine Matrix \\\\(A\\in\\mathbb{R}^{n\\times n}\\\\) die Matrizen \\\\(L\\\\) und \\\\(U\\\\) der LU-Zerlegung von \\\\(A\\\\) berechnet.  \n",
    "**Hinweis**: Speichern Sie in Ihrer Prozedur zuallererst eine Kopie der Matrix \\\\(A\\\\) als Matrix \\\\(U\\\\), indem Sie den Befehl `U = np.copy(A)` eingeben. Bringen Sie dann innerhalb Ihrer Prozedur die Matrix \\\\(U\\\\) in Dreiecksform und geben Sie sie zusammen mit der Matrix \\\\(L\\\\) zurück. Belassen Sie die Matrix \\\\(A\\\\) hingegen unverändert (*).\n",
    "2. Schreiben Sie eine Prozedur `forward_substitution(L,b)`, die für eine untere Dreiecksmatrix \\\\(L\\in\\mathbb{R}^{n\\times n}\\\\) mit Einsen auf der Diagonale und einen Vektor \\\\(b\\in\\mathbb{R}^n\\\\) die Lösung des LGS \\\\(Lx=b\\\\) mittels Vorwärtssubstitution berechnet.\n",
    "3. Schreiben Sie eine Prozedur `backward_substitution(U,b)`, die für eine obere Dreiecksmatrix \\\\(U\\in\\mathbb{R}^{n\\times n}\\\\) und einen Vektor \\\\(b\\in\\mathbb{R}^n\\\\) die Lösung des LGS \\\\(Ux=b\\\\) mittels Rückwärtssubstitution berechnet.\n",
    "4. Schreiben Sie eine Funktion `LGS(A,b)`, die das LGS \\\\(A x = b\\\\) mithilfe einer LU-Zerlegung von \\\\(A\\\\) löst. \n",
    "\n",
    "Testen Sie all Ihre Prozeduren für das lineare Gleichungssystem \\\\(Ax = b\\\\) mit \n",
    "\n",
    "\\\\[ A = \\begin{pmatrix} 2 & 1 & 1 & 0 \\\\ 4 & 3 & 3 & 1 \\\\ 8 & 7 & 9 & 5 \\\\ 6 & 7 & 9 & 8 \\end{pmatrix}, \\qquad b = \\begin{pmatrix} 0 \\\\ 1 \\\\ 3 \\\\ 2 \\end{pmatrix}. \\\\] \n",
    "\n",
    "Überprüfen Sie insbesondere, ob das Ergebnis Ihrer Prozedur aus Teil 4 tatsächlich eine Lösung des LGS ist.\n",
    "\n",
    "Ändern Sie schließlich die Matrix \\\\(A\\\\) zu\n",
    "\n",
    "\\\\[ A = \\begin{pmatrix} 2 & 2 & -2 & 9 \\\\ 0 & 0 & 2 & 1 \\\\ 2 & 1 & -1 & 3 \\\\ 4 & 0 & 6 & 0 \\end{pmatrix} \\\\]\n",
    "\n",
    "und wenden Sie Ihre Prozeduren erneut an. Was beobachten Sie? Warum?\n",
    "\n",
    "---\n",
    "\n",
    "(*): Der Hinweis ist nötig, da in Python bei Arrays (im Gegensatz zu den klassischen Variablentypen) innerhalb von Prozeduren standardmäßig keine lokale Kopie der Eingabevariablen erstellt wird. Ändern Sie die als Eingabeparameter übergebene Matrix \\\\(A\\\\) innerhalb der Prozedur, so wird gelichzeitig auch die ursprüngliche Matrix \\\\(A\\\\) außerhalb der Prozedur geändert. Durch den Befehl `np.copy(A)` zwingen Sie Pyton hingegen, eine unabhängige Kopie von \\\\(A\\\\) zu erstellen."
   ]
  },
  {
   "cell_type": "code",
   "execution_count": null,
   "metadata": {},
   "outputs": [],
   "source": []
  },
  {
   "cell_type": "code",
   "execution_count": null,
   "metadata": {},
   "outputs": [],
   "source": []
  },
  {
   "cell_type": "code",
   "execution_count": null,
   "metadata": {},
   "outputs": [],
   "source": []
  },
  {
   "cell_type": "code",
   "execution_count": null,
   "metadata": {},
   "outputs": [],
   "source": []
  },
  {
   "cell_type": "code",
   "execution_count": null,
   "metadata": {},
   "outputs": [],
   "source": []
  }
 ],
 "metadata": {
  "kernelspec": {
   "display_name": "Python 3",
   "language": "python",
   "name": "python3"
  },
  "language_info": {
   "codemirror_mode": {
    "name": "ipython",
    "version": 3
   },
   "file_extension": ".py",
   "mimetype": "text/x-python",
   "name": "python",
   "nbconvert_exporter": "python",
   "pygments_lexer": "ipython3",
   "version": "3.8.3"
  }
 },
 "nbformat": 4,
 "nbformat_minor": 4
}
