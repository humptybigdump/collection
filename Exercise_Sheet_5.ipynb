{
 "cells": [
  {
   "cell_type": "markdown",
   "metadata": {},
   "source": [
    "# Tutorial 5"
   ]
  },
  {
   "cell_type": "markdown",
   "metadata": {},
   "source": [
    "## Channel Simulation"
   ]
  },
  {
   "cell_type": "code",
   "execution_count": null,
   "metadata": {},
   "outputs": [],
   "source": [
    "import numpy as np  # make the numpy package available and use 'np' as alias\n",
    "import matplotlib.pyplot as plt  # plotting library\n",
    "%matplotlib inline\n",
    "import rrc  # requires rrc.py to be accessible (e.g., in the same directory)\n",
    "YOUR_CODE_HERE = None  # placeholder"
   ]
  },
  {
   "cell_type": "markdown",
   "metadata": {},
   "source": [
    "# Task 1\n",
    "Implement a QPSK modulator as well as a channel simulator based on the examplary COST 207 \"typical urban\" scenario in order to investigate the effects on the communication system.\n",
    "\n",
    "*Note*: In the following, we assume a static environment, i.e. no Doppler-shift is present.\n",
    "\n",
    "### a) Generate 100 equally distributed QPSK `symbols` and make use of the provided RRC-filter to pulse-shape the base-band signal `s`. "
   ]
  },
  {
   "cell_type": "code",
   "execution_count": null,
   "metadata": {},
   "outputs": [],
   "source": [
    "nsym = 100  # number of symbols\n",
    "samp_rate = 1e6  # sampling rate\n",
    "sps = 32  # samples per symbol\n",
    "K = 8  # length of the impulse response in symbols\n",
    "rho = 0.9  # RRC rolloff factor\n",
    "g = rrc.get_rrc_ir(K * sps + 1, sps, 1, rho)  # RRC impulse response\n",
    "\n",
    "qpsk_mapping = 1/np.sqrt(2) * np.array([1+1j, -1+1j, 1-1j, -1-1j], dtype=complex)\n",
    "M = qpsk_mapping.size  # modulation order\n",
    "\n",
    "tx_symbol_indices = YOUR_CODE_HERE\n",
    "symbols = qpsk_mapping[tx_symbol_indices]\n",
    "s = YOUR_CODE_HERE\n"
   ]
  },
  {
   "cell_type": "markdown",
   "metadata": {},
   "source": [
    "### b) Calculate the symbol duration `T` and the sampling duration `delta_t` in a general way. "
   ]
  },
  {
   "cell_type": "code",
   "execution_count": null,
   "metadata": {},
   "outputs": [],
   "source": [
    "T = YOUR_CODE_HERE\n",
    "delta_t = YOUR_CODE_HERE\n"
   ]
  },
  {
   "cell_type": "code",
   "execution_count": null,
   "metadata": {},
   "outputs": [],
   "source": [
    "t0 = np.arange(symbols.size) * T\n",
    "plt.stem(t0 * 1e6, symbols.real, 'b'); plt.stem(t0 * 1e6, symbols.imag, 'r')\n",
    "plt.title(\"QPSK Symbols\"); plt.ylabel(\"Amplitude\"); plt.xlabel(\"t/us\"); plt.margins(y=0.1, x=0);\n",
    "plt.show()\n",
    "\n",
    "t1 = np.arange(s.size) * delta_t\n",
    "plt.plot(t1 * 1e6, s.real, 'b'); plt.plot(t1 * 1e6, s.imag, 'r')\n",
    "plt.xlabel(\"t/us\"); plt.ylabel(\"Amplitude\")\n",
    "plt.title(\"Baseband transmit signal\"); plt.margins(y=0.1, x=0)\n",
    "plt.show()\n",
    "\n",
    "plt.plot(np.linspace(-0.5, 0.5, s.size), 10*np.log10(np.abs(np.fft.fftshift(np.fft.fft(s))**2)))\n",
    "plt.xlabel(\"f/fs\"); plt.ylabel(\"|S(f)|^2 in dB\"); plt.xlim(-0.5, 0.5)\n",
    "plt.title(\"Baseband transmit signal\")\n",
    "plt.show()"
   ]
  },
  {
   "cell_type": "markdown",
   "metadata": {},
   "source": [
    "### c) Generate an array which samples the PDP with the chosen samppling rate. \n",
    "*Note*: The Power Delay Profile (PDP) of the scenario is: P(tau) = exp(-tau * 1e6 s), if 0 < tau < 7 us, else 0."
   ]
  },
  {
   "cell_type": "code",
   "execution_count": null,
   "metadata": {},
   "outputs": [],
   "source": [
    "t_samp = YOUR_CODE_HERE  # sample time instances\n",
    "PDP = YOUR_CODE_HERE  # sampled PDP\n"
   ]
  },
  {
   "cell_type": "code",
   "execution_count": null,
   "metadata": {},
   "outputs": [],
   "source": [
    "plt.plot(t_samp * 1e6, 10*np.log10(PDP)); plt.xlim(0, 7); plt.ylim(-25, 0); plt.xlabel('t/us'); plt.ylabel('Power in dB')\n",
    "plt.title(\"PDP for COST 207 Typical Urban\")\n",
    "plt.show()"
   ]
  },
  {
   "cell_type": "markdown",
   "metadata": {},
   "source": [
    "### d) Generate a random channel impuls response which coefficients' moduli are Rayleigh-distributed with the mean power following the PDP. \n",
    "*Note*: Think about how the coefficients are distribted if their moduli are Rayleigh-distributed."
   ]
  },
  {
   "cell_type": "code",
   "execution_count": null,
   "metadata": {},
   "outputs": [],
   "source": [
    "h = YOUR_CODE_HERE\n"
   ]
  },
  {
   "cell_type": "code",
   "execution_count": null,
   "metadata": {},
   "outputs": [],
   "source": [
    "plt.plot(t_samp * 1e6, h.real, 'b'); plt.plot(t_samp * 1e6, h.imag, 'r')\n",
    "plt.margins(y=0.1, x=0); plt.xlabel('t/us'); plt.ylabel('Re(h), Im(h)')\n",
    "plt.title(\"Channel Realization for COST 207 Typical Urban\")\n",
    "plt.show()\n",
    "\n",
    "plt.plot(t_samp * 1e6, 10*np.log10(np.abs(h)**2))\n",
    "plt.xlim(0, 7); plt.ylim(-25, 0); plt.xlabel('t/us'); plt.ylabel('|h|^2 in dB')\n",
    "plt.title(\"Channel Realization for COST 207 Typical Urban\")\n",
    "plt.show()\n",
    "\n",
    "plt.plot(np.linspace(-0.5*samp_rate, 0.5*samp_rate, max(1024, h.size)), 10*np.log10(np.abs(np.fft.fftshift(np.fft.fft(h, max(h.size, 1024)))**2)))\n",
    "plt.xlabel(\"Sampled Bandwidth, f in Hz\"); plt.ylabel(\"|H(f)|^2 in dB\"); plt.xlim(-0.5*samp_rate, 0.5*samp_rate)\n",
    "plt.axvline(x=-0.5*samp_rate/sps, color='r'); plt.axvline(x=0.5*samp_rate/sps, color='r')\n",
    "plt.title(\"Channel Realization for COST 207 Typical Urban\")\n",
    "plt.show()\n",
    "\n",
    "plt.plot(np.linspace(-0.5*samp_rate, 0.5*samp_rate, max(1024, h.size)), 10*np.log10(np.abs(np.fft.fftshift(np.fft.fft(h, max(h.size, 1024)))**2)))\n",
    "plt.xlabel(\"System Bandwidth, f in Hz\"); plt.ylabel(\"|H(f)|^2 in dB\"); plt.xlim(-0.5*samp_rate/sps, 0.5*samp_rate/sps)\n",
    "plt.title(\"Channel Realization for COST 207 Typical Urban\")\n",
    "plt.show()\n"
   ]
  },
  {
   "cell_type": "markdown",
   "metadata": {},
   "source": [
    "### e) Apply the channel and the matched filter to the transmit signal. "
   ]
  },
  {
   "cell_type": "code",
   "execution_count": null,
   "metadata": {},
   "outputs": [],
   "source": [
    "r = YOUR_CODE_HERE  # apply h\n",
    "y = YOUR_CODE_HERE  # apply matched filter\n"
   ]
  },
  {
   "cell_type": "code",
   "execution_count": null,
   "metadata": {},
   "outputs": [],
   "source": [
    "t1 = np.arange(y.size) * delta_t\n",
    "plt.plot(t1 * 1e6, y.real, 'b'); plt.plot(t1 * 1e6, y.imag, 'r')\n",
    "plt.xlabel(\"t/us\"); plt.ylabel(\"Amplitude\")\n",
    "plt.title(\"Baseband Receive Signal\"); plt.margins(y=0.1, x=0)\n",
    "plt.show()\n",
    "\n",
    "plt.plot(np.linspace(-0.5, 0.5, y.size), 10*np.log10(np.abs(np.fft.fftshift(np.fft.fft(y))**2)))\n",
    "plt.xlabel(\"f/fs\"); plt.ylabel(\"|Y(f)|^2 in dB\"); plt.xlim(-0.5, 0.5)\n",
    "plt.title(\"Baseband Receive Signal\")\n",
    "plt.show()"
   ]
  },
  {
   "cell_type": "markdown",
   "metadata": {},
   "source": [
    "### f) Sample the symbols and consider the filter delays. "
   ]
  },
  {
   "cell_type": "code",
   "execution_count": null,
   "metadata": {},
   "outputs": [],
   "source": [
    "rx_symbols = YOUR_CODE_HERE\n"
   ]
  },
  {
   "cell_type": "code",
   "execution_count": null,
   "metadata": {},
   "outputs": [],
   "source": [
    "t_sym = np.arange(rx_symbols.size) * T\n",
    "plt.stem(t_sym, rx_symbols.real, 'b'); plt.stem(t_sym, rx_symbols.imag, 'r')\n",
    "plt.title(\"Received QPSK Symbols\"); plt.ylabel(\"Amplitude\"); plt.xlabel(\"t/us\"); plt.margins(y=0.1, x=0)\n",
    "plt.show()\n",
    "\n",
    "plt.scatter(rx_symbols.real, rx_symbols.imag)\n",
    "plt.xlabel('I'); plt.ylabel('Q'); plt.title(\"Received QPSK Symbols\");"
   ]
  },
  {
   "cell_type": "markdown",
   "metadata": {},
   "source": [
    "### g) Calculate (in case of flat fading) the constellation diagramme's rotation due to `h` and compensate the symbols correspondingly. "
   ]
  },
  {
   "cell_type": "code",
   "execution_count": null,
   "metadata": {},
   "outputs": [],
   "source": [
    "angle = YOUR_CODE_HERE  # in radians\n",
    "rx_symbols_rot = YOUR_CODE_HERE\n"
   ]
  },
  {
   "cell_type": "code",
   "execution_count": null,
   "metadata": {},
   "outputs": [],
   "source": [
    "print(\"Detected angle:\", angle / np.pi * 180, \"degrees\")\n",
    "plt.scatter(rx_symbols_rot.real, rx_symbols_rot.imag)\n",
    "plt.xlabel('I'); plt.ylabel('Q'); plt.title(\"Received QPSK Symbols with Phase Correction\");"
   ]
  },
  {
   "cell_type": "markdown",
   "metadata": {},
   "source": [
    "### h) Estimate the symbol indices from the received symbols. Use the ML criterium for decision. "
   ]
  },
  {
   "cell_type": "code",
   "execution_count": null,
   "metadata": {},
   "outputs": [],
   "source": [
    "rx_symbol_indices = YOUR_CODE_HERE\n"
   ]
  },
  {
   "cell_type": "code",
   "execution_count": null,
   "metadata": {
    "code_folding": []
   },
   "outputs": [],
   "source": [
    "SER = sum([rx != tx for (rx, tx) in zip(rx_symbol_indices, tx_symbol_indices)])/nsym\n",
    "if SER == 0:\n",
    "    print(\"Transmission successful!\")\n",
    "else:\n",
    "    print(\"Error(s) occured! Symbol error rate:\", SER)"
   ]
  },
  {
   "cell_type": "markdown",
   "metadata": {},
   "source": [
    "## Comprehension Questions\n",
    "\n",
    "### Regarding Simulation\n",
    "Run the simulation with `sps=32`, `sps=8` und `sps=2`.\n",
    "*Note*: Run the simulation with the same settings for multiple times in order to generate various realisations.\n",
    "\n",
    "1. Bring to your mind how large the delay spread and the coherence bandwidth are and how they relate to the symbol duration.\n",
    "2. Evaluate the channel regarding the coherence terms *flat* and *frequency selective*. \n",
    "3. Is the fading *slow* or *fast*?\n",
    "4. How is the procedure of subtask g) usually called? Which condition must hold in order to correct successfully? Why is there no amplitude correction? \n",
    "\n",
    "### General\n",
    "1. Which kind of fading has rather to be considered at high-speed transmissions? \n",
    "2. Which options do you have for designing your system if you want flat fading charactersistics at high-speed transmission?"
   ]
  }
 ],
 "metadata": {
  "kernelspec": {
   "display_name": "Python 3 (ipykernel)",
   "language": "python",
   "name": "python3"
  },
  "language_info": {
   "codemirror_mode": {
    "name": "ipython",
    "version": 3
   },
   "file_extension": ".py",
   "mimetype": "text/x-python",
   "name": "python",
   "nbconvert_exporter": "python",
   "pygments_lexer": "ipython3",
   "version": "3.10.11"
  }
 },
 "nbformat": 4,
 "nbformat_minor": 1
}
