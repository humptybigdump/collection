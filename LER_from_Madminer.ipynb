{
 "cells": [
  {
   "cell_type": "markdown",
   "metadata": {},
   "source": [
    "# Toy example\n",
    "\n",
    "Based on https://github.com/madminer-tool/madminer/blob/main/examples/tutorial_toy_simulator/tutorial_toy_simulator.ipynb by Alexander Held, Johann Brehmer, Irina Espejo, Felix Kling, and Kyle Cranmer 2018-2019."
   ]
  },
  {
   "cell_type": "markdown",
   "metadata": {},
   "source": [
    "## Preparations"
   ]
  },
  {
   "cell_type": "code",
   "execution_count": 1,
   "metadata": {},
   "outputs": [],
   "source": [
    "import os\n",
    "import logging\n",
    "import numpy as np\n",
    "from matplotlib import pyplot as plt\n",
    "\n",
    "%matplotlib inline\n",
    "\n",
    "from madminer.ml import ParameterizedRatioEstimator"
   ]
  },
  {
   "cell_type": "code",
   "execution_count": 2,
   "metadata": {},
   "outputs": [],
   "source": [
    "if not os.path.exists(\"data\"):\n",
    "    os.makedirs(\"data\")"
   ]
  },
  {
   "cell_type": "markdown",
   "metadata": {},
   "source": [
    "MadMiner uses the Python `logging` module to provide additional information and debugging output. You can choose how much of this output you want to see by switching the level in the following lines to `logging.DEBUG` or `logging.WARNING`."
   ]
  },
  {
   "cell_type": "code",
   "execution_count": 3,
   "metadata": {},
   "outputs": [],
   "source": [
    "# MadMiner output\n",
    "logging.basicConfig(\n",
    "    format=\"%(asctime)-5.5s %(name)-20.20s %(levelname)-7.7s %(message)s\",\n",
    "    datefmt=\"%H:%M\",\n",
    "    level=logging.INFO,\n",
    ")\n",
    "\n",
    "# Output of all other modules (e.g. matplotlib)\n",
    "for key in logging.Logger.manager.loggerDict:\n",
    "    if \"madminer\" not in key:\n",
    "        logging.getLogger(key).setLevel(logging.WARNING)"
   ]
  },
  {
   "cell_type": "markdown",
   "metadata": {},
   "source": [
    "## 1. Toy simulator"
   ]
  },
  {
   "cell_type": "markdown",
   "metadata": {},
   "source": [
    "Our simulator depends on just one parameter `theta` and produces one-dimensional observables `x`. It is characterized by one latent variable `z`. \"Running\" the simulator consists of two steps:\n",
    "- \"Hard process\": a value of `z` is drawn from a normal distribution, where the mean depends on `theta`. \n",
    "- \"Detector\": a value for `x` is drawn from a normal distribution with mean equal to `z`. There is no explicit dependence on `theta`.\n",
    "\n",
    "Here are some general settings (feel free to play with them): "
   ]
  },
  {
   "cell_type": "code",
   "execution_count": 4,
   "metadata": {},
   "outputs": [],
   "source": [
    "z_std = 2.0\n",
    "x_std = 1.0"
   ]
  },
  {
   "cell_type": "markdown",
   "metadata": {},
   "source": [
    "The following function runs the simulator for a value of `theta`:"
   ]
  },
  {
   "cell_type": "code",
   "execution_count": 5,
   "metadata": {},
   "outputs": [],
   "source": [
    "def simulate(theta, npoints=None):\n",
    "    # Draw latent variables z\n",
    "    z = np.random.normal(loc=theta, scale=z_std, size=npoints)\n",
    "\n",
    "    # Draw observables x\n",
    "    x = np.random.normal(loc=z, scale=x_std, size=None)\n",
    "\n",
    "    return x"
   ]
  },
  {
   "cell_type": "markdown",
   "metadata": {},
   "source": [
    "Let's now visualize that: we run the simulation and plot the probability distributions $p(x | \\theta_i)$. "
   ]
  },
  {
   "cell_type": "code",
   "execution_count": 7,
   "metadata": {},
   "outputs": [
    {
     "data": {
      "image/png": "[encoded data removed]",
      "text/plain": [
       "<Figure size 500x500 with 1 Axes>"
      ]
     },
     "metadata": {},
     "output_type": "display_data"
    }
   ],
   "source": [
    "x0 = simulate(-2, npoints=10000)\n",
    "x1 = simulate(2, npoints=10000)\n",
    "\n",
    "xr = np.linspace(-4.0, 4.0, 100)\n",
    "\n",
    "fig, ax1 = plt.subplots()\n",
    "fig.set_size_inches(5, 5)\n",
    "ax1.set_xlabel(\"$x$\")\n",
    "ax1.hist(x0, bins=50, range=(-10, 10.0), histtype=\"step\", label=r\"$p(x | \\theta_0)$\")\n",
    "ax1.hist(x1, bins=50, range=(-10, 10.0), histtype=\"step\", label=r\"$p(x | \\theta_1)$\")\n",
    "ax1.set_ylabel(r\"$p(x|\\theta)$\")\n",
    "ax1.legend(loc=2)\n",
    "\n",
    "plt.show()"
   ]
  },
  {
   "cell_type": "markdown",
   "metadata": {},
   "source": [
    "## 2. Run the simulation and generate training data"
   ]
  },
  {
   "cell_type": "markdown",
   "metadata": {},
   "source": [
    "First, we define the parameter points we want to use for training. For this we assume that `theta` is uniformly distributed between -4 and 4. "
   ]
  },
  {
   "cell_type": "code",
   "execution_count": 26,
   "metadata": {},
   "outputs": [],
   "source": [
    "# number of parameter points to train\n",
    "n_param_points = 50000\n",
    "\n",
    "# uniform prior:\n",
    "theta1 = np.random.uniform(low=-4.0, high=4.0, size=n_param_points)\n",
    "theta2 = np.random.uniform(low=-4.0, high=4.0, size=n_param_points)\n",
    "theta3 = np.random.uniform(low=-4.0, high=4.0, size=n_param_points)"
   ]
  },
  {
   "cell_type": "markdown",
   "metadata": {},
   "source": [
    "We then run the simulator (one sample per parameter point)."
   ]
  },
  {
   "cell_type": "code",
   "execution_count": 27,
   "metadata": {},
   "outputs": [],
   "source": [
    "# Sample from theta\n",
    "x1_from_theta1 = simulate(theta1)\n",
    "x2_from_theta2 = simulate(theta2)"
   ]
  },
  {
   "cell_type": "markdown",
   "metadata": {},
   "source": [
    "Now we combine and reshape the results and save everything to files, so that we can load it later. Note that `y_train` refers to the labels, i.e. it should be 0 for points from sample A and 1 for points from sample B. Note also that we pass `theta3` instead of `theta2` for sample B."
   ]
  },
  {
   "cell_type": "code",
   "execution_count": 28,
   "metadata": {},
   "outputs": [],
   "source": [
    "# Combine results and reshape\n",
    "x_train = np.hstack((x1_from_theta1, x2_from_theta2)).reshape(-1, 1)\n",
    "y_train = np.hstack((np.zeros_like(x1_from_theta1), np.ones_like(np.ones_like(x2_from_theta2)))).reshape(-1, 1)\n",
    "theta_train = np.hstack((theta1, theta3)).reshape(-1, 1)\n",
    "\n",
    "# Save to file\n",
    "np.save(\"data/theta_train.npy\", theta_train)\n",
    "np.save(\"data/x_train.npy\", x_train)\n",
    "np.save(\"data/y_train.npy\", y_train)"
   ]
  },
  {
   "cell_type": "markdown",
   "metadata": {},
   "source": [
    "## 3. Model training"
   ]
  },
  {
   "cell_type": "markdown",
   "metadata": {},
   "source": [
    "Let's train a neural network using the CARL method introduced in [\"Approximating Likelihood Ratios with Calibrated Discriminative Classifiers\"](https://arxiv.org/abs/1506.02169)."
   ]
  },
  {
   "cell_type": "code",
   "execution_count": 29,
   "metadata": {},
   "outputs": [
    {
     "name": "stderr",
     "output_type": "stream",
     "text": [
      "15:33 madminer.ml.paramete INFO    Starting training\n",
      "15:33 madminer.ml.paramete INFO      Method:                 carl\n",
      "15:33 madminer.ml.paramete INFO      Batch size:             128\n",
      "15:33 madminer.ml.paramete INFO      Optimizer:              amsgrad\n",
      "15:33 madminer.ml.paramete INFO      Epochs:                 20\n",
      "15:33 madminer.ml.paramete INFO      Learning rate:          0.001 initially, decaying to 0.0001\n",
      "15:33 madminer.ml.paramete INFO      Validation split:       0.25\n",
      "15:33 madminer.ml.paramete INFO      Early stopping:         True\n",
      "15:33 madminer.ml.paramete INFO      Scale inputs:           True\n",
      "15:33 madminer.ml.paramete INFO      Scale parameters:       True\n",
      "15:33 madminer.ml.paramete INFO      Shuffle labels          False\n",
      "15:33 madminer.ml.paramete INFO      Samples:                all\n",
      "15:33 madminer.ml.paramete INFO    Loading training data\n",
      "15:33 madminer.utils.vario INFO      Loading data/theta_train.npy into RAM\n",
      "15:33 madminer.utils.vario INFO      Loading data/x_train.npy into RAM\n",
      "15:33 madminer.utils.vario INFO      Loading data/y_train.npy into RAM\n",
      "15:33 madminer.ml.paramete INFO    Found 100000 samples with 1 parameters and 1 observables\n",
      "15:33 madminer.ml.base     INFO    Setting up input rescaling\n",
      "15:33 madminer.ml.paramete INFO    Rescaling parameters\n",
      "15:33 madminer.ml.base     INFO    Setting up parameter rescaling\n",
      "15:33 madminer.ml.paramete INFO    Creating model\n",
      "15:33 madminer.ml.paramete INFO    Training model\n",
      "15:33 madminer.utils.ml.tr INFO    Training on CPU with single precision\n",
      "15:33 madminer.utils.ml.tr INFO      Epoch   1: train loss  0.63790 (xe:  0.638)\n",
      "15:33 madminer.utils.ml.tr INFO                 val. loss   0.60017 (xe:  0.638)\n",
      "15:33 madminer.utils.ml.tr INFO      Epoch   2: train loss  0.60136 (xe:  0.601)\n",
      "15:33 madminer.utils.ml.tr INFO                 val. loss   0.59813 (xe:  0.601)\n",
      "15:33 madminer.utils.ml.tr INFO      Epoch   3: train loss  0.59975 (xe:  0.600)\n",
      "15:33 madminer.utils.ml.tr INFO                 val. loss   0.59640 (xe:  0.600)\n",
      "15:33 madminer.utils.ml.tr INFO      Epoch   4: train loss  0.59910 (xe:  0.599)\n",
      "15:33 madminer.utils.ml.tr INFO                 val. loss   0.59604 (xe:  0.599)\n",
      "15:33 madminer.utils.ml.tr INFO      Epoch   5: train loss  0.59866 (xe:  0.599)\n",
      "15:33 madminer.utils.ml.tr INFO                 val. loss   0.59484 (xe:  0.599)\n",
      "15:33 madminer.utils.ml.tr INFO      Epoch   6: train loss  0.59841 (xe:  0.598)\n",
      "15:33 madminer.utils.ml.tr INFO                 val. loss   0.59556 (xe:  0.598)\n",
      "15:33 madminer.utils.ml.tr INFO      Epoch   7: train loss  0.59818 (xe:  0.598)\n",
      "15:33 madminer.utils.ml.tr INFO                 val. loss   0.59517 (xe:  0.598)\n",
      "15:33 madminer.utils.ml.tr INFO      Epoch   8: train loss  0.59788 (xe:  0.598)\n",
      "15:33 madminer.utils.ml.tr INFO                 val. loss   0.59461 (xe:  0.598)\n",
      "15:33 madminer.utils.ml.tr INFO      Epoch   9: train loss  0.59768 (xe:  0.598)\n",
      "15:33 madminer.utils.ml.tr INFO                 val. loss   0.59460 (xe:  0.598)\n",
      "15:33 madminer.utils.ml.tr INFO      Epoch  10: train loss  0.59756 (xe:  0.598)\n",
      "15:33 madminer.utils.ml.tr INFO                 val. loss   0.59485 (xe:  0.598)\n",
      "15:33 madminer.utils.ml.tr INFO      Epoch  11: train loss  0.59735 (xe:  0.597)\n",
      "15:33 madminer.utils.ml.tr INFO                 val. loss   0.59455 (xe:  0.597)\n",
      "15:33 madminer.utils.ml.tr INFO      Epoch  12: train loss  0.59725 (xe:  0.597)\n",
      "15:33 madminer.utils.ml.tr INFO                 val. loss   0.59398 (xe:  0.597)\n",
      "15:33 madminer.utils.ml.tr INFO      Epoch  13: train loss  0.59715 (xe:  0.597)\n",
      "15:33 madminer.utils.ml.tr INFO                 val. loss   0.59397 (xe:  0.597)\n",
      "15:34 madminer.utils.ml.tr INFO      Epoch  14: train loss  0.59711 (xe:  0.597)\n",
      "15:34 madminer.utils.ml.tr INFO                 val. loss   0.59397 (xe:  0.597)\n",
      "15:34 madminer.utils.ml.tr INFO      Epoch  15: train loss  0.59706 (xe:  0.597)\n",
      "15:34 madminer.utils.ml.tr INFO                 val. loss   0.59386 (xe:  0.597)\n",
      "15:34 madminer.utils.ml.tr INFO      Epoch  16: train loss  0.59693 (xe:  0.597)\n",
      "15:34 madminer.utils.ml.tr INFO                 val. loss   0.59445 (xe:  0.597)\n",
      "15:34 madminer.utils.ml.tr INFO      Epoch  17: train loss  0.59685 (xe:  0.597)\n",
      "15:34 madminer.utils.ml.tr INFO                 val. loss   0.59389 (xe:  0.597)\n",
      "15:34 madminer.utils.ml.tr INFO      Epoch  18: train loss  0.59685 (xe:  0.597)\n",
      "15:34 madminer.utils.ml.tr INFO                 val. loss   0.59364 (xe:  0.597)\n",
      "15:34 madminer.utils.ml.tr INFO      Epoch  19: train loss  0.59677 (xe:  0.597)\n",
      "15:34 madminer.utils.ml.tr INFO                 val. loss   0.59397 (xe:  0.597)\n",
      "15:34 madminer.utils.ml.tr INFO      Epoch  20: train loss  0.59673 (xe:  0.597)\n",
      "15:34 madminer.utils.ml.tr INFO                 val. loss   0.59413 (xe:  0.597)\n",
      "15:34 madminer.utils.ml.tr INFO    Early stopping after epoch 18, with loss  0.59364 compared to final loss  0.59413\n",
      "15:34 madminer.utils.ml.tr INFO    Training time spend on:\n",
      "15:34 madminer.utils.ml.tr INFO                      initialize model:   0.00h\n",
      "15:34 madminer.utils.ml.tr INFO                                   ALL:   0.01h\n",
      "15:34 madminer.utils.ml.tr INFO                            check data:   0.00h\n",
      "15:34 madminer.utils.ml.tr INFO                          make dataset:   0.00h\n",
      "15:34 madminer.utils.ml.tr INFO                       make dataloader:   0.00h\n",
      "15:34 madminer.utils.ml.tr INFO                       setup optimizer:   0.00h\n",
      "15:34 madminer.utils.ml.tr INFO                   initialize training:   0.00h\n",
      "15:34 madminer.utils.ml.tr INFO                                set lr:   0.00h\n",
      "15:34 madminer.utils.ml.tr INFO                   load training batch:   0.01h\n",
      "15:34 madminer.utils.ml.tr INFO                        fwd: move data:   0.00h\n",
      "15:34 madminer.utils.ml.tr INFO                   fwd: check for nans:   0.00h\n",
      "15:34 madminer.utils.ml.tr INFO                    fwd: model.forward:   0.00h\n",
      "15:34 madminer.utils.ml.tr INFO                 fwd: calculate losses:   0.00h\n",
      "15:34 madminer.utils.ml.tr INFO                 training forward pass:   0.00h\n",
      "15:34 madminer.utils.ml.tr INFO                   training sum losses:   0.00h\n",
      "15:34 madminer.utils.ml.tr INFO                        opt: zero grad:   0.00h\n",
      "15:34 madminer.utils.ml.tr INFO                         opt: backward:   0.00h\n",
      "15:34 madminer.utils.ml.tr INFO                   opt: clip grad norm:   0.00h\n",
      "15:34 madminer.utils.ml.tr INFO                             opt: step:   0.00h\n",
      "15:34 madminer.utils.ml.tr INFO                        optimizer step:   0.00h\n",
      "15:34 madminer.utils.ml.tr INFO                 load validation batch:   0.00h\n",
      "15:34 madminer.utils.ml.tr INFO               validation forward pass:   0.00h\n",
      "15:34 madminer.utils.ml.tr INFO                 validation sum losses:   0.00h\n",
      "15:34 madminer.utils.ml.tr INFO                        early stopping:   0.00h\n",
      "15:34 madminer.utils.ml.tr INFO                          report epoch:   0.00h\n",
      "15:34 madminer.ml.base     INFO    Saving model to models/carl\n"
     ]
    }
   ],
   "source": [
    "carl = ParameterizedRatioEstimator(n_hidden=(20, 20))\n",
    "\n",
    "carl.train(\n",
    "    method=\"carl\",\n",
    "    x=\"data/x_train.npy\",\n",
    "    y=\"data/y_train.npy\",\n",
    "    theta=\"data/theta_train.npy\",\n",
    "    n_epochs=20,\n",
    ")\n",
    "\n",
    "carl.save(\"models/carl\")"
   ]
  },
  {
   "cell_type": "markdown",
   "metadata": {},
   "source": [
    "## 4. Evaluation"
   ]
  },
  {
   "cell_type": "markdown",
   "metadata": {},
   "source": [
    "Let's consider a single observation:"
   ]
  },
  {
   "cell_type": "code",
   "execution_count": 30,
   "metadata": {},
   "outputs": [],
   "source": [
    "x_test =  np.array([1.5])"
   ]
  },
  {
   "cell_type": "markdown",
   "metadata": {},
   "source": [
    "We want to evaluate the likelihood-evidence ratio for a range of parameter points:"
   ]
  },
  {
   "cell_type": "code",
   "execution_count": 31,
   "metadata": {},
   "outputs": [],
   "source": [
    "theta_grid = np.linspace(-5.0, 5.0, 100).reshape(-1, 1)\n",
    "np.save(\"data/theta_grid.npy\", theta_grid)"
   ]
  },
  {
   "cell_type": "markdown",
   "metadata": {},
   "source": [
    "It's time to evaluate our likelihood ratio estimators!"
   ]
  },
  {
   "cell_type": "code",
   "execution_count": 32,
   "metadata": {},
   "outputs": [
    {
     "name": "stderr",
     "output_type": "stream",
     "text": [
      "15:45 madminer.ml.base     INFO    Loading model from models/carl\n",
      "15:45 madminer.utils.vario INFO      Loading data/theta_grid.npy into RAM\n"
     ]
    }
   ],
   "source": [
    "carl = ParameterizedRatioEstimator()\n",
    "carl.load(\"models/carl\")\n",
    "\n",
    "LER, _ = carl.evaluate(\n",
    "    theta=\"data/theta_grid.npy\",\n",
    "    x=x_test,\n",
    "    evaluate_score=False,\n",
    ")"
   ]
  },
  {
   "cell_type": "markdown",
   "metadata": {},
   "source": [
    "This is the LER over parameter space:"
   ]
  },
  {
   "cell_type": "code",
   "execution_count": 33,
   "metadata": {},
   "outputs": [
    {
     "data": {
      "image/png": "[encoded data removed]",
      "text/plain": [
       "<Figure size 500x500 with 1 Axes>"
      ]
     },
     "metadata": {},
     "output_type": "display_data"
    }
   ],
   "source": [
    "fig = plt.figure(figsize=(5, 5))\n",
    "\n",
    "plt.plot(\n",
    "    theta_grid,\n",
    "    LER\n",
    ")\n",
    "\n",
    "plt.plot(\n",
    "    theta_grid,\n",
    "    np.log(8/np.sqrt(2*np.pi*(x_std**2+z_std**2)) * np.exp(-(x_test[0] - theta_grid)**2/(2 * (x_std**2+z_std**2)))),\n",
    "    ls=\"--\",\n",
    "    c=\"black\",\n",
    "    label=r\"True result\"\n",
    ")\n",
    "\n",
    "plt.xlabel(r\"$\\theta$\")\n",
    "plt.ylabel(r\"log(likelihood-evidence ratio)\")\n",
    "\n",
    "plt.tight_layout()\n",
    "plt.show()"
   ]
  }
 ],
 "metadata": {
  "kernelspec": {
   "display_name": "Python 3 (ipykernel)",
   "language": "python",
   "name": "python3"
  },
  "language_info": {
   "codemirror_mode": {
    "name": "ipython",
    "version": 3
   },
   "file_extension": ".py",
   "mimetype": "text/x-python",
   "name": "python",
   "nbconvert_exporter": "python",
   "pygments_lexer": "ipython3",
   "version": "3.10.6"
  }
 },
 "nbformat": 4,
 "nbformat_minor": 2
}
