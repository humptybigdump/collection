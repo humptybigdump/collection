{
 "cells": [
  {
   "cell_type": "markdown",
   "metadata": {},
   "source": [
    "# Geospatial Data Analysis I \n",
    "\n",
    "## Univariate Statistics - Exercise  "
   ]
  },
  {
   "cell_type": "markdown",
   "metadata": {},
   "source": [
    "### Exercise 1: Daten einlesen und prüfen\n",
    "\n",
    "- Open the file \"Data_GW_KA.xlsx\" in Excel and have a look at the data. Which type of data (discrete / continuous, ratio / interval / closed /etc.) do the individual columns represent? Please note the types in the box below.  \n",
    "\n",
    "- Read the file into your notebook using Pandas and save the groundwater temperature data into a separate array. "
   ]
  },
  {
   "cell_type": "markdown",
   "metadata": {},
   "source": [
    "Data Types in \"Data_GW_KA.csv\": \n",
    "\n",
    "- Name: \n",
    "- Depth: \n",
    "- Dissolved oxygen: \n",
    "- Groundwater temperature: \n",
    "- Electric conductivity: \n",
    "- pH: \n",
    "- Iron: \n",
    "- Phosphate:\n",
    "- Nitrate: \n",
    "- Detritus: \n",
    "- Amount of sediment: \n",
    "- Geology: \n",
    "- Land use type: \n",
    "- Abundancy (i.e. number) of groundwater fauna species: \n",
    "- Abundancy (i.e. number) of groundwater fauna individuals: \n",
    "- Percentage of individual Crustaceens: \n",
    "- Percentage of individual Oligochaets:"
   ]
  },
  {
   "cell_type": "code",
   "execution_count": null,
   "metadata": {},
   "outputs": [],
   "source": [
    "# [1]\n"
   ]
  },
  {
   "cell_type": "markdown",
   "metadata": {},
   "source": [
    "Next, visualise the groundwater temperature data to get an overview on the range of measured values and potential outliers. Pick an appropriate plot type in matplotlib. \n",
    "\n",
    "Do not forget to add the basic figure elements (axes label, ticks and title). "
   ]
  },
  {
   "cell_type": "code",
   "execution_count": null,
   "metadata": {},
   "outputs": [],
   "source": [
    "# [2] \n"
   ]
  },
  {
   "cell_type": "markdown",
   "metadata": {},
   "source": [
    "### Exercise 2: Measures for Central Tendency\n",
    "\n",
    "Now you can calculate different measures for the central tendency for the groundwater temperature. These measures help to contextualize the measured values on a linear scale, and are typcially used to get an estimated value representative for the entire data set. A common measure for central tendency is the arithmetic mean.\n",
    "\n",
    "- Calculate the arithmetic mean for the groundwater temperature as the `sum()` of all values divided by the number of values (e.g. `len()`): \n",
    "\n",
    "<img src=\"https://latex.codecogs.com/gif.latex?\\bar{x}&space;=&space;\\frac{1}{n}\\sum_{i=1}^{n}x_{i}\" title=\"\\bar{x} = \\frac{1}{n}\\sum_{i=1}^{n}x_{i}\" />\n"
   ]
  },
  {
   "cell_type": "code",
   "execution_count": null,
   "metadata": {},
   "outputs": [],
   "source": [
    "# [3] calulating the arithmetic mean \n"
   ]
  },
  {
   "cell_type": "markdown",
   "metadata": {},
   "source": [
    "Of course there is a in-built function `mean()` in Python to calculate the arithmetic mean. In order to use it, you first need to import the package `statistics` into your script / your notebook, e.g. with `from statistics import mean`. \n",
    "\n",
    "- Now, calculate the mean groundwater temperature using the imported function.  "
   ]
  },
  {
   "cell_type": "code",
   "execution_count": null,
   "metadata": {},
   "outputs": [],
   "source": [
    "# [4] calculating the mean values using \"mean()\"\"\n"
   ]
  },
  {
   "cell_type": "markdown",
   "metadata": {},
   "source": [
    "The arithmetic mean however is very sensitive for outliers, i.e. extreme values that differ from the majority of the values. For this reason the median is often used as measure for central tendency in geoscience instead. The median is value that lies in the middle of the data set, meaning 50% of the values are larger, the other 50% are smaller. The equation for a calculating the median of a sorted data set is as follows:   \n",
    "\n",
    "For an even number of values: \n",
    "\n",
    "<img src=\"https://latex.codecogs.com/gif.latex?\\widetilde{x}&space;=&space;(x_{(n/2)}&plus;x_{(n/2)&plus;1})/2\" title=\"\\widetilde{x} = (x_{(n/2)}+x_{(n/2)+1})/2\" /> \n",
    "\n",
    "For an uneven number of values: \n",
    "\n",
    "<img src=\"https://latex.codecogs.com/gif.latex?\\widetilde{x}&space;=&space;x_{(n&plus;1)/2}\" title=\"\\widetilde{x} = x_{(n+1)/2}\" />\n",
    "\n",
    "- First, sort the values in the array in ascending order. \n",
    "\n",
    "- Then, calculate the median of the groundwater temperature, choosing the correct equation from above based on your `n`. Tipp: once you have calculated the index value, you need to transform it into an integer (`int`) in order tobe able to use it for indexing. \n",
    " "
   ]
  },
  {
   "cell_type": "code",
   "execution_count": null,
   "metadata": {},
   "outputs": [],
   "source": [
    "#[5]\n"
   ]
  },
  {
   "cell_type": "markdown",
   "metadata": {},
   "source": [
    "Now, use the `median` function in the `statistics` package to calculate the median again, and compare both values. What could be the reason for the deviation? "
   ]
  },
  {
   "cell_type": "code",
   "execution_count": null,
   "metadata": {},
   "outputs": [],
   "source": [
    "# [6] median with statistics package \n"
   ]
  },
  {
   "cell_type": "markdown",
   "metadata": {},
   "source": [
    "Another common measure for central tendency is the mode value. Is it reasonable to calculate the mode value for the groundwater temperature, and why or why not?\n",
    "\n",
    "Pick a suitable parameter for a mode value in the excel file, and use to method `statistics.mode()` to calculate it. "
   ]
  },
  {
   "cell_type": "code",
   "execution_count": null,
   "metadata": {},
   "outputs": [],
   "source": [
    "# [7] "
   ]
  },
  {
   "cell_type": "markdown",
   "metadata": {},
   "source": [
    "Back to groundwater temperature: you can now also calculate the three quartile values (at 0.25, 0.5, 0.75) with the method `np.quantile(GWT, [0.25, 0.5, 0.75])`.\n",
    "The middle quartile (0.5) should correspond to the median value from above. "
   ]
  },
  {
   "cell_type": "code",
   "execution_count": null,
   "metadata": {},
   "outputs": [],
   "source": [
    "# [8] "
   ]
  },
  {
   "cell_type": "markdown",
   "metadata": {},
   "source": [
    "### Exercise 3: Measures for Statistical Dispersion \n",
    "\n",
    "Measures for statistica dispersion help to get a feeling for the spatial or temporal variation of the data. The simplest measure for disperion is the range, i.e. teh difference between the smallest and largest value. \n",
    "\n",
    "-  Use  `min()` und `max()` to calculate the range of the groundwater temperature.  "
   ]
  },
  {
   "cell_type": "code",
   "execution_count": null,
   "metadata": {},
   "outputs": [],
   "source": [
    "# [9]\n"
   ]
  },
  {
   "cell_type": "markdown",
   "metadata": {},
   "source": [
    "As the range is calculated using the extreme values, it is very sensitive to outliers and in most geoscientiffic application not a robust measure for dispersion. One more robust measures is for example the interquartile range (IQR), i.e. the middle 50% of the data points. \n",
    "\n",
    "- Use the qurtiles from above to calculte teh IQR of the groundwater temperature.  "
   ]
  },
  {
   "cell_type": "code",
   "execution_count": null,
   "metadata": {},
   "outputs": [],
   "source": [
    "# [10] interquartile range\n"
   ]
  },
  {
   "cell_type": "markdown",
   "metadata": {},
   "source": [
    "The most commonly used measures for statistical dispersion are the standard deviation (sigma) and the disperion (sigma^2). \n",
    "\n",
    "The standard deviation of the samples is the square root of the mean value of the differences between each value and the mean value: \n",
    "\n",
    "<img src=\"https://latex.codecogs.com/gif.latex?s&space;=&space;\\sqrt{\\frac{1}{n-1}\\sum_{i=1}^{n}&space;(x_{i}-{\\bar{x}})^{2}}\" title=\"s = \\sqrt{\\frac{1}{n-1}\\sum_{i=1}^{n} (x_{i}-{\\bar{x}})^{2}}\" />\n",
    "\n",
    "The variance is simply the square of the standard deviation: \n",
    "\n",
    "<img src=\"https://latex.codecogs.com/gif.latex?s^{2}&space;=&space;\\frac{1}{n-1}\\sum_{i=1}^{n}&space;(x_{i}-{\\bar{x}})^{2}\" title=\"s^{2} = \\frac{1}{n-1}\\sum_{i=1}^{n} (x_{i}-{\\bar{x}})^{2}\" />\n",
    "\n",
    "The `statistics`package in Python contains methods from both standard devations of samples (`statistics.stdev()`) and the entire (estimated) population (`statistics.pstdev()`). \n",
    "\n",
    "- Use the corresponding functions to calculate standard deviation and variance (`statistics.variance()`) of the sampled groundwater temperatures. \n",
    "\n",
    "- Also, compare them to the values of the range and IQR above. \n"
   ]
  },
  {
   "cell_type": "code",
   "execution_count": null,
   "metadata": {},
   "outputs": [],
   "source": [
    "# [11]\n"
   ]
  },
  {
   "cell_type": "markdown",
   "metadata": {},
   "source": [
    "### Exercise 4: Measures for Skewness and Kurtosis\n",
    "\n",
    "Now, we can also calculate the skewness and kurtosis of the data. For the skewness there are two commonly used equations: \n",
    "\n",
    "Pearson's Mode Skewness: \n",
    "\n",
    "<img src=\"https://latex.codecogs.com/gif.latex?skewness&space;=&space;(mean-mode)/standarddeviation\" title=\"skewness = (mean-mode)/standarddeviation\" />\n",
    "\n",
    "Fisher Skewness: \n",
    "\n",
    "<img src=\"https://latex.codecogs.com/gif.latex?skewness&space;=&space;\\sum_{i=1}^{n}\\frac{(x_{i}-\\bar{x})^{3}}{s^{3}}\" title=\"skewness = \\sum_{i=1}^{n}\\frac{(x_{i}-\\bar{x})^{3}}{s^{3}}\" />\n",
    "\n",
    "- Calculate the Pearson Skewness \n",
    "\n",
    "- Calcualte the Fisher Skewness, using a `for` loop to calculate the difference from the mean for each value. \n",
    "\n",
    "- Then, compare both values. "
   ]
  },
  {
   "cell_type": "code",
   "execution_count": null,
   "metadata": {},
   "outputs": [],
   "source": [
    "# [12] Pearson Skewness\n"
   ]
  },
  {
   "cell_type": "markdown",
   "metadata": {},
   "source": [
    "The fourth statistical measure is the kurtosis, which describes the  difference in \"peakyness\" of the distribution relative to a normal distribution. It can be calculated similarly to the Fisher Skewness: \n",
    "\n",
    "<img src=\"https://latex.codecogs.com/gif.latex?kurtosis&space;=&space;\\sum_{i=1}^{n}\\frac{(x_{i}-\\bar{x})^{4}}{s^{4}}\" title=\"kurtosis = \\sum_{i=1}^{n}\\frac{(x_{i}-\\bar{x})^{4}}{s^{4}}\" />\n",
    "\n",
    "- Copy your code for the Fisher Skewness from above and adapt it for calculating the kurtosis. \n",
    "\n",
    "- Is the distribution of groundwater temperature values more or less \"peaky\" than a normal distribution? \n"
   ]
  },
  {
   "cell_type": "code",
   "execution_count": null,
   "metadata": {},
   "outputs": [],
   "source": [
    "# [13]\n"
   ]
  },
  {
   "cell_type": "markdown",
   "metadata": {},
   "source": [
    "Now you have calculated all four statistical measures for the groundwater temperature. If there is time left, you can explore other parameters. Using `scipy.stats.describe()` you can get almost all descriptive measures in one go ;)\n",
    "\n",
    "\n",
    "## END"
   ]
  }
 ],
 "metadata": {
  "kernelspec": {
   "display_name": "GDA1",
   "language": "python",
   "name": "python3"
  },
  "language_info": {
   "codemirror_mode": {
    "name": "ipython",
    "version": 3
   },
   "file_extension": ".py",
   "mimetype": "text/x-python",
   "name": "python",
   "nbconvert_exporter": "python",
   "pygments_lexer": "ipython3",
   "version": "3.11.5"
  }
 },
 "nbformat": 4,
 "nbformat_minor": 4
}
