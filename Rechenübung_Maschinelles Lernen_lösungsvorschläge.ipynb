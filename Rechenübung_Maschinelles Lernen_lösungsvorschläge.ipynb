{
 "cells": [
  {
   "cell_type": "markdown",
   "metadata": {},
   "source": [
    "# Python Übung 2: Maschinelles Lernen"
   ]
  },
  {
   "cell_type": "markdown",
   "metadata": {},
   "source": [
    "##### In dieser Python Übung befassen wir uns mit der Anwendung maschineller Lernverfahren auf Bilddaten. Dazu verwenden wir den MNIST Datensatz. Dies ist ein sehr bekannter Datensatz für das Benchmarking von Deep Learning Algorithmen. Zunächst installieren wir alle benötigten Packages und importieren diese."
   ]
  },
  {
   "cell_type": "markdown",
   "metadata": {},
   "source": [
    "##### Falls Python für Sie neu ist, empfehlen wir Ihnen folgendes Tutorial: https://www.w3schools.com/python/"
   ]
  },
  {
   "cell_type": "code",
   "execution_count": 1,
   "metadata": {},
   "outputs": [
    {
     "name": "stdout",
     "output_type": "stream",
     "text": [
      "Requirement already satisfied: sklearn in /home/jp/anaconda3/envs/anwki/lib/python3.8/site-packages (0.0)\n",
      "Requirement already satisfied: scikit-learn in /home/jp/anaconda3/envs/anwki/lib/python3.8/site-packages (from sklearn) (0.23.2)\n",
      "Requirement already satisfied: threadpoolctl>=2.0.0 in /home/jp/anaconda3/envs/anwki/lib/python3.8/site-packages (from scikit-learn->sklearn) (2.1.0)\n",
      "Requirement already satisfied: joblib>=0.11 in /home/jp/anaconda3/envs/anwki/lib/python3.8/site-packages (from scikit-learn->sklearn) (0.17.0)\n",
      "Requirement already satisfied: numpy>=1.13.3 in /home/jp/anaconda3/envs/anwki/lib/python3.8/site-packages (from scikit-learn->sklearn) (1.18.5)\n",
      "Requirement already satisfied: scipy>=0.19.1 in /home/jp/anaconda3/envs/anwki/lib/python3.8/site-packages (from scikit-learn->sklearn) (1.5.4)\n",
      "Requirement already satisfied: numpy>=1.13.3 in /home/jp/anaconda3/envs/anwki/lib/python3.8/site-packages (from scikit-learn->sklearn) (1.18.5)\n",
      "Requirement already satisfied: tensorflow in /home/jp/anaconda3/envs/anwki/lib/python3.8/site-packages (2.3.1)\n",
      "Requirement already satisfied: tensorboard<3,>=2.3.0 in /home/jp/anaconda3/envs/anwki/lib/python3.8/site-packages (from tensorflow) (2.4.0)\n",
      "Requirement already satisfied: astunparse==1.6.3 in /home/jp/anaconda3/envs/anwki/lib/python3.8/site-packages (from tensorflow) (1.6.3)\n",
      "Requirement already satisfied: opt-einsum>=2.3.2 in /home/jp/anaconda3/envs/anwki/lib/python3.8/site-packages (from tensorflow) (3.3.0)\n",
      "Requirement already satisfied: protobuf>=3.9.2 in /home/jp/anaconda3/envs/anwki/lib/python3.8/site-packages (from tensorflow) (3.14.0)\n",
      "Requirement already satisfied: grpcio>=1.8.6 in /home/jp/anaconda3/envs/anwki/lib/python3.8/site-packages (from tensorflow) (1.34.0)\n",
      "Requirement already satisfied: wrapt>=1.11.1 in /home/jp/anaconda3/envs/anwki/lib/python3.8/site-packages (from tensorflow) (1.12.1)\n",
      "Requirement already satisfied: wheel>=0.26 in /home/jp/anaconda3/envs/anwki/lib/python3.8/site-packages (from tensorflow) (0.36.1)\n",
      "Requirement already satisfied: tensorflow-estimator<2.4.0,>=2.3.0 in /home/jp/anaconda3/envs/anwki/lib/python3.8/site-packages (from tensorflow) (2.3.0)\n",
      "Requirement already satisfied: h5py<2.11.0,>=2.10.0 in /home/jp/anaconda3/envs/anwki/lib/python3.8/site-packages (from tensorflow) (2.10.0)\n",
      "Requirement already satisfied: numpy<1.19.0,>=1.16.0 in /home/jp/anaconda3/envs/anwki/lib/python3.8/site-packages (from tensorflow) (1.18.5)\n",
      "Requirement already satisfied: six>=1.12.0 in /home/jp/anaconda3/envs/anwki/lib/python3.8/site-packages (from tensorflow) (1.15.0)\n",
      "Requirement already satisfied: termcolor>=1.1.0 in /home/jp/anaconda3/envs/anwki/lib/python3.8/site-packages (from tensorflow) (1.1.0)\n",
      "Requirement already satisfied: keras-preprocessing<1.2,>=1.1.1 in /home/jp/anaconda3/envs/anwki/lib/python3.8/site-packages (from tensorflow) (1.1.2)\n",
      "Requirement already satisfied: absl-py>=0.7.0 in /home/jp/anaconda3/envs/anwki/lib/python3.8/site-packages (from tensorflow) (0.11.0)\n",
      "Requirement already satisfied: gast==0.3.3 in /home/jp/anaconda3/envs/anwki/lib/python3.8/site-packages (from tensorflow) (0.3.3)\n",
      "Requirement already satisfied: google-pasta>=0.1.8 in /home/jp/anaconda3/envs/anwki/lib/python3.8/site-packages (from tensorflow) (0.2.0)\n",
      "Requirement already satisfied: six>=1.12.0 in /home/jp/anaconda3/envs/anwki/lib/python3.8/site-packages (from tensorflow) (1.15.0)\n",
      "Requirement already satisfied: six>=1.12.0 in /home/jp/anaconda3/envs/anwki/lib/python3.8/site-packages (from tensorflow) (1.15.0)\n",
      "Requirement already satisfied: wheel>=0.26 in /home/jp/anaconda3/envs/anwki/lib/python3.8/site-packages (from tensorflow) (0.36.1)\n",
      "Requirement already satisfied: six>=1.12.0 in /home/jp/anaconda3/envs/anwki/lib/python3.8/site-packages (from tensorflow) (1.15.0)\n",
      "Requirement already satisfied: six>=1.12.0 in /home/jp/anaconda3/envs/anwki/lib/python3.8/site-packages (from tensorflow) (1.15.0)\n",
      "Requirement already satisfied: numpy<1.19.0,>=1.16.0 in /home/jp/anaconda3/envs/anwki/lib/python3.8/site-packages (from tensorflow) (1.18.5)\n",
      "Requirement already satisfied: six>=1.12.0 in /home/jp/anaconda3/envs/anwki/lib/python3.8/site-packages (from tensorflow) (1.15.0)\n",
      "Requirement already satisfied: six>=1.12.0 in /home/jp/anaconda3/envs/anwki/lib/python3.8/site-packages (from tensorflow) (1.15.0)\n",
      "Requirement already satisfied: numpy<1.19.0,>=1.16.0 in /home/jp/anaconda3/envs/anwki/lib/python3.8/site-packages (from tensorflow) (1.18.5)\n",
      "Requirement already satisfied: numpy<1.19.0,>=1.16.0 in /home/jp/anaconda3/envs/anwki/lib/python3.8/site-packages (from tensorflow) (1.18.5)\n",
      "Requirement already satisfied: six>=1.12.0 in /home/jp/anaconda3/envs/anwki/lib/python3.8/site-packages (from tensorflow) (1.15.0)\n",
      "Requirement already satisfied: protobuf>=3.9.2 in /home/jp/anaconda3/envs/anwki/lib/python3.8/site-packages (from tensorflow) (3.14.0)\n",
      "Requirement already satisfied: werkzeug>=0.11.15 in /home/jp/anaconda3/envs/anwki/lib/python3.8/site-packages (from tensorboard<3,>=2.3.0->tensorflow) (1.0.1)\n",
      "Requirement already satisfied: wheel>=0.26 in /home/jp/anaconda3/envs/anwki/lib/python3.8/site-packages (from tensorflow) (0.36.1)\n",
      "Requirement already satisfied: six>=1.12.0 in /home/jp/anaconda3/envs/anwki/lib/python3.8/site-packages (from tensorflow) (1.15.0)\n",
      "Requirement already satisfied: markdown>=2.6.8 in /home/jp/anaconda3/envs/anwki/lib/python3.8/site-packages (from tensorboard<3,>=2.3.0->tensorflow) (3.3.3)\n",
      "Requirement already satisfied: grpcio>=1.8.6 in /home/jp/anaconda3/envs/anwki/lib/python3.8/site-packages (from tensorflow) (1.34.0)\n",
      "Requirement already satisfied: requests<3,>=2.21.0 in /home/jp/anaconda3/envs/anwki/lib/python3.8/site-packages (from tensorboard<3,>=2.3.0->tensorflow) (2.25.0)\n",
      "Requirement already satisfied: absl-py>=0.7.0 in /home/jp/anaconda3/envs/anwki/lib/python3.8/site-packages (from tensorflow) (0.11.0)\n",
      "Requirement already satisfied: google-auth<2,>=1.6.3 in /home/jp/anaconda3/envs/anwki/lib/python3.8/site-packages (from tensorboard<3,>=2.3.0->tensorflow) (1.24.0)\n",
      "Requirement already satisfied: numpy<1.19.0,>=1.16.0 in /home/jp/anaconda3/envs/anwki/lib/python3.8/site-packages (from tensorflow) (1.18.5)\n",
      "Requirement already satisfied: tensorboard-plugin-wit>=1.6.0 in /home/jp/anaconda3/envs/anwki/lib/python3.8/site-packages (from tensorboard<3,>=2.3.0->tensorflow) (1.7.0)\n",
      "Requirement already satisfied: google-auth-oauthlib<0.5,>=0.4.1 in /home/jp/anaconda3/envs/anwki/lib/python3.8/site-packages (from tensorboard<3,>=2.3.0->tensorflow) (0.4.2)\n",
      "Requirement already satisfied: setuptools>=41.0.0 in /home/jp/anaconda3/envs/anwki/lib/python3.8/site-packages (from tensorboard<3,>=2.3.0->tensorflow) (51.0.0.post20201207)\n",
      "Requirement already satisfied: setuptools>=41.0.0 in /home/jp/anaconda3/envs/anwki/lib/python3.8/site-packages (from tensorboard<3,>=2.3.0->tensorflow) (51.0.0.post20201207)\n",
      "Requirement already satisfied: pyasn1-modules>=0.2.1 in /home/jp/anaconda3/envs/anwki/lib/python3.8/site-packages (from google-auth<2,>=1.6.3->tensorboard<3,>=2.3.0->tensorflow) (0.2.8)\n",
      "Requirement already satisfied: rsa<5,>=3.1.4 in /home/jp/anaconda3/envs/anwki/lib/python3.8/site-packages (from google-auth<2,>=1.6.3->tensorboard<3,>=2.3.0->tensorflow) (4.6)\n",
      "Requirement already satisfied: six>=1.12.0 in /home/jp/anaconda3/envs/anwki/lib/python3.8/site-packages (from tensorflow) (1.15.0)\n",
      "Requirement already satisfied: cachetools<5.0,>=2.0.0 in /home/jp/anaconda3/envs/anwki/lib/python3.8/site-packages (from google-auth<2,>=1.6.3->tensorboard<3,>=2.3.0->tensorflow) (4.2.0)\n",
      "Requirement already satisfied: requests-oauthlib>=0.7.0 in /home/jp/anaconda3/envs/anwki/lib/python3.8/site-packages (from google-auth-oauthlib<0.5,>=0.4.1->tensorboard<3,>=2.3.0->tensorflow) (1.3.0)\n",
      "Requirement already satisfied: google-auth<2,>=1.6.3 in /home/jp/anaconda3/envs/anwki/lib/python3.8/site-packages (from tensorboard<3,>=2.3.0->tensorflow) (1.24.0)\n",
      "Requirement already satisfied: pyasn1<0.5.0,>=0.4.6 in /home/jp/anaconda3/envs/anwki/lib/python3.8/site-packages (from pyasn1-modules>=0.2.1->google-auth<2,>=1.6.3->tensorboard<3,>=2.3.0->tensorflow) (0.4.8)\n",
      "Requirement already satisfied: urllib3<1.27,>=1.21.1 in /home/jp/anaconda3/envs/anwki/lib/python3.8/site-packages (from requests<3,>=2.21.0->tensorboard<3,>=2.3.0->tensorflow) (1.26.2)\n",
      "Requirement already satisfied: idna<3,>=2.5 in /home/jp/anaconda3/envs/anwki/lib/python3.8/site-packages (from requests<3,>=2.21.0->tensorboard<3,>=2.3.0->tensorflow) (2.10)\n",
      "Requirement already satisfied: chardet<4,>=3.0.2 in /home/jp/anaconda3/envs/anwki/lib/python3.8/site-packages (from requests<3,>=2.21.0->tensorboard<3,>=2.3.0->tensorflow) (3.0.4)\n",
      "Requirement already satisfied: certifi>=2017.4.17 in /home/jp/anaconda3/envs/anwki/lib/python3.8/site-packages (from requests<3,>=2.21.0->tensorboard<3,>=2.3.0->tensorflow) (2020.12.5)\n"
     ]
    },
    {
     "name": "stdout",
     "output_type": "stream",
     "text": [
      "Requirement already satisfied: requests<3,>=2.21.0 in /home/jp/anaconda3/envs/anwki/lib/python3.8/site-packages (from tensorboard<3,>=2.3.0->tensorflow) (2.25.0)\n",
      "Requirement already satisfied: oauthlib>=3.0.0 in /home/jp/anaconda3/envs/anwki/lib/python3.8/site-packages (from requests-oauthlib>=0.7.0->google-auth-oauthlib<0.5,>=0.4.1->tensorboard<3,>=2.3.0->tensorflow) (3.1.0)\n",
      "Requirement already satisfied: pyasn1<0.5.0,>=0.4.6 in /home/jp/anaconda3/envs/anwki/lib/python3.8/site-packages (from pyasn1-modules>=0.2.1->google-auth<2,>=1.6.3->tensorboard<3,>=2.3.0->tensorflow) (0.4.8)\n",
      "Requirement already satisfied: keras in /home/jp/anaconda3/envs/anwki/lib/python3.8/site-packages (2.4.3)\n",
      "Requirement already satisfied: scipy>=0.14 in /home/jp/anaconda3/envs/anwki/lib/python3.8/site-packages (from keras) (1.5.4)\n",
      "Requirement already satisfied: h5py in /home/jp/anaconda3/envs/anwki/lib/python3.8/site-packages (from keras) (2.10.0)\n",
      "Requirement already satisfied: numpy>=1.9.1 in /home/jp/anaconda3/envs/anwki/lib/python3.8/site-packages (from keras) (1.18.5)\n",
      "Requirement already satisfied: pyyaml in /home/jp/anaconda3/envs/anwki/lib/python3.8/site-packages (from keras) (5.3.1)\n",
      "Requirement already satisfied: six in /home/jp/anaconda3/envs/anwki/lib/python3.8/site-packages (from h5py->keras) (1.15.0)\n",
      "Requirement already satisfied: numpy>=1.9.1 in /home/jp/anaconda3/envs/anwki/lib/python3.8/site-packages (from keras) (1.18.5)\n",
      "Requirement already satisfied: numpy>=1.9.1 in /home/jp/anaconda3/envs/anwki/lib/python3.8/site-packages (from keras) (1.18.5)\n",
      "Requirement already satisfied: matplotlib in /home/jp/anaconda3/envs/anwki/lib/python3.8/site-packages (3.3.3)\n",
      "Requirement already satisfied: pillow>=6.2.0 in /home/jp/anaconda3/envs/anwki/lib/python3.8/site-packages (from matplotlib) (8.0.1)\n",
      "Requirement already satisfied: python-dateutil>=2.1 in /home/jp/anaconda3/envs/anwki/lib/python3.8/site-packages (from matplotlib) (2.8.1)\n",
      "Requirement already satisfied: cycler>=0.10 in /home/jp/anaconda3/envs/anwki/lib/python3.8/site-packages (from matplotlib) (0.10.0)\n",
      "Requirement already satisfied: kiwisolver>=1.0.1 in /home/jp/anaconda3/envs/anwki/lib/python3.8/site-packages (from matplotlib) (1.3.1)\n",
      "Requirement already satisfied: pyparsing!=2.0.4,!=2.1.2,!=2.1.6,>=2.0.3 in /home/jp/anaconda3/envs/anwki/lib/python3.8/site-packages (from matplotlib) (2.4.7)\n",
      "Requirement already satisfied: numpy>=1.15 in /home/jp/anaconda3/envs/anwki/lib/python3.8/site-packages (from matplotlib) (1.18.5)\n",
      "Requirement already satisfied: six in /home/jp/anaconda3/envs/anwki/lib/python3.8/site-packages (from cycler>=0.10->matplotlib) (1.15.0)\n",
      "Requirement already satisfied: six in /home/jp/anaconda3/envs/anwki/lib/python3.8/site-packages (from cycler>=0.10->matplotlib) (1.15.0)\n",
      "Requirement already satisfied: seaborn in /home/jp/anaconda3/envs/anwki/lib/python3.8/site-packages (0.11.0)\n",
      "Requirement already satisfied: scipy>=1.0 in /home/jp/anaconda3/envs/anwki/lib/python3.8/site-packages (from seaborn) (1.5.4)\n",
      "Requirement already satisfied: matplotlib>=2.2 in /home/jp/anaconda3/envs/anwki/lib/python3.8/site-packages (from seaborn) (3.3.3)\n",
      "Requirement already satisfied: pandas>=0.23 in /home/jp/anaconda3/envs/anwki/lib/python3.8/site-packages (from seaborn) (1.1.5)\n",
      "Requirement already satisfied: numpy>=1.15 in /home/jp/anaconda3/envs/anwki/lib/python3.8/site-packages (from seaborn) (1.18.5)\n",
      "Requirement already satisfied: pillow>=6.2.0 in /home/jp/anaconda3/envs/anwki/lib/python3.8/site-packages (from matplotlib>=2.2->seaborn) (8.0.1)\n",
      "Requirement already satisfied: kiwisolver>=1.0.1 in /home/jp/anaconda3/envs/anwki/lib/python3.8/site-packages (from matplotlib>=2.2->seaborn) (1.3.1)\n",
      "Requirement already satisfied: python-dateutil>=2.1 in /home/jp/anaconda3/envs/anwki/lib/python3.8/site-packages (from matplotlib>=2.2->seaborn) (2.8.1)\n",
      "Requirement already satisfied: numpy>=1.15 in /home/jp/anaconda3/envs/anwki/lib/python3.8/site-packages (from seaborn) (1.18.5)\n",
      "Requirement already satisfied: cycler>=0.10 in /home/jp/anaconda3/envs/anwki/lib/python3.8/site-packages (from matplotlib>=2.2->seaborn) (0.10.0)\n",
      "Requirement already satisfied: pyparsing!=2.0.4,!=2.1.2,!=2.1.6,>=2.0.3 in /home/jp/anaconda3/envs/anwki/lib/python3.8/site-packages (from matplotlib>=2.2->seaborn) (2.4.7)\n",
      "Requirement already satisfied: six in /home/jp/anaconda3/envs/anwki/lib/python3.8/site-packages (from cycler>=0.10->matplotlib>=2.2->seaborn) (1.15.0)\n",
      "Requirement already satisfied: python-dateutil>=2.1 in /home/jp/anaconda3/envs/anwki/lib/python3.8/site-packages (from matplotlib>=2.2->seaborn) (2.8.1)\n",
      "Requirement already satisfied: pytz>=2017.2 in /home/jp/anaconda3/envs/anwki/lib/python3.8/site-packages (from pandas>=0.23->seaborn) (2020.4)\n",
      "Requirement already satisfied: numpy>=1.15 in /home/jp/anaconda3/envs/anwki/lib/python3.8/site-packages (from seaborn) (1.18.5)\n",
      "Requirement already satisfied: six in /home/jp/anaconda3/envs/anwki/lib/python3.8/site-packages (from cycler>=0.10->matplotlib>=2.2->seaborn) (1.15.0)\n",
      "Requirement already satisfied: numpy>=1.15 in /home/jp/anaconda3/envs/anwki/lib/python3.8/site-packages (from seaborn) (1.18.5)\n"
     ]
    }
   ],
   "source": [
    "# Installation notwendiger Packages\n",
    "!pip install sklearn\n",
    "!pip install tensorflow\n",
    "!pip install keras\n",
    "!pip install matplotlib\n",
    "!pip install seaborn"
   ]
  },
  {
   "cell_type": "code",
   "execution_count": 2,
   "metadata": {},
   "outputs": [],
   "source": [
    "# Import notwendiger Packages\n",
    "from sklearn import metrics\n",
    "from sklearn.svm import SVC\n",
    "from sklearn.neural_network import MLPClassifier\n",
    "from sklearn.model_selection import KFold\n",
    "\n",
    "from keras.datasets import mnist\n",
    "from keras.utils import to_categorical\n",
    "from keras.models import Sequential\n",
    "from keras.layers import Conv2D, MaxPooling2D, Dense, Flatten\n",
    "from keras.optimizers import SGD\n",
    "\n",
    "import numpy as np\n",
    "from matplotlib import pyplot\n",
    "import seaborn as sns"
   ]
  },
  {
   "cell_type": "markdown",
   "metadata": {},
   "source": [
    "##### Der MNIST Datensatz besteht aus 70.000 Bildern der Größe 28x28 Pixel. Die Bilder enthalten dabei die Zahlen von 0 bis 9. Wir laden zunächst den Datensatz und überprüfen die Dimensionen der Daten."
   ]
  },
  {
   "cell_type": "code",
   "execution_count": 3,
   "metadata": {},
   "outputs": [
    {
     "name": "stdout",
     "output_type": "stream",
     "text": [
      "Train: X=(60000, 28, 28), y=(60000,)\n",
      "Test: X=(10000, 28, 28), y=(10000,)\n"
     ]
    }
   ],
   "source": [
    "# Lade den Datensatz\n",
    "(trainX, trainY), (testX, testY) = mnist.load_data()\n",
    "\n",
    "# Gebe einen Überblick über die Dimensionen aus\n",
    "print('Train: X={trainX}, y={trainY}'.format(trainX = trainX.shape, trainY = trainY.shape))\n",
    "print('Test: X={testX}, y={testY}'.format(testX = testX.shape, testY = testY.shape))"
   ]
  },
  {
   "cell_type": "markdown",
   "metadata": {},
   "source": [
    "##### Wir visualisieren nun ein paar Trainingsdaten. "
   ]
  },
  {
   "cell_type": "code",
   "execution_count": 4,
   "metadata": {},
   "outputs": [
    {
     "data": {
      "image/png": "[encoded data removed]",
      "text/plain": [
       "<Figure size 432x288 with 9 Axes>"
      ]
     },
     "metadata": {
      "needs_background": "light"
     },
     "output_type": "display_data"
    }
   ],
   "source": [
    "# Plot der ersten 9 Trainingsbilder\n",
    "for i in range(9):\n",
    "    pyplot.subplot(330 + 1 + i)\n",
    "    pyplot.imshow(trainX[i], cmap = pyplot.get_cmap('gray'))\n",
    "pyplot.show()"
   ]
  },
  {
   "cell_type": "markdown",
   "metadata": {},
   "source": [
    "# Teil 1: Support Vector Machine (SVM)"
   ]
  },
  {
   "cell_type": "markdown",
   "metadata": {},
   "source": [
    "##### Zunächst verwenden wir eine SVM zur Klassifikation der Bilddaten. Da SVMs eindimensionale Inputdaten erwarten, müssen die Bilddaten in diese Form transformiert werden."
   ]
  },
  {
   "cell_type": "code",
   "execution_count": 5,
   "metadata": {},
   "outputs": [
    {
     "name": "stdout",
     "output_type": "stream",
     "text": [
      "Train: X=(60000, 784), y=(60000,)\n",
      "Test: X=(10000, 784), y=(10000,)\n"
     ]
    }
   ],
   "source": [
    "trainX_1d = trainX.reshape((60000, 28*28))\n",
    "testX_1d = testX.reshape((10000, 28*28))\n",
    "\n",
    "# Gebe einen Überblick über die Dimensionen aus\n",
    "print('Train: X={trainX}, y={trainY}'.format(trainX = trainX_1d.shape, trainY = trainY.shape))\n",
    "print('Test: X={testX}, y={testY}'.format(testX = testX_1d.shape, testY = testY.shape))"
   ]
  },
  {
   "cell_type": "markdown",
   "metadata": {},
   "source": [
    "##### Die SVM wird zunächst mit den Trainingsdaten trainiert. Zur Verringerung der Rechenzeit beschränken wir die maximale Anzahl an Iterationen. Anschließend wird das Modell dazu verwendet, um die Daten aus dem Hold Out Testdatensatz vorherzusagen."
   ]
  },
  {
   "cell_type": "code",
   "execution_count": 6,
   "metadata": {},
   "outputs": [
    {
     "name": "stderr",
     "output_type": "stream",
     "text": [
      "/home/jp/anaconda3/envs/anwki/lib/python3.8/site-packages/sklearn/svm/_base.py:246: ConvergenceWarning: Solver terminated early (max_iter=50).  Consider pre-processing your data with StandardScaler or MinMaxScaler.\n",
      "  warnings.warn('Solver terminated early (max_iter=%i).'\n"
     ]
    }
   ],
   "source": [
    "# instanziiere eine SVM\n",
    "svm = SVC(max_iter = 50)\n",
    "\n",
    "# trainiere die SVM mit den Trainingsdaten\n",
    "svm.fit(trainX_1d, trainY)\n",
    "\n",
    "# sage die Testdaten vorher\n",
    "predY_svm = svm.predict(testX_1d)"
   ]
  },
  {
   "cell_type": "markdown",
   "metadata": {},
   "source": [
    "##### Mithilfe der Testdaten berechnen wir die Konfusionsmatrix für das Modell."
   ]
  },
  {
   "cell_type": "code",
   "execution_count": 7,
   "metadata": {},
   "outputs": [
    {
     "data": {
      "image/png": "[encoded data removed]",
      "text/plain": [
       "<Figure size 648x648 with 2 Axes>"
      ]
     },
     "metadata": {
      "needs_background": "light"
     },
     "output_type": "display_data"
    }
   ],
   "source": [
    "# berechne die Konfusionsmatrix\n",
    "cm = metrics.confusion_matrix(testY, predY_svm)\n",
    "\n",
    "# plotte die Matrix\n",
    "pyplot.figure(figsize=(9,9))\n",
    "sns.heatmap(cm, annot = True, fmt = \".3f\", linewidths = .5, square = True, cmap = 'Blues_r');\n",
    "pyplot.ylabel('Tatsächliche Klasse');\n",
    "pyplot.xlabel('Ermittelte Klasse');"
   ]
  },
  {
   "cell_type": "markdown",
   "metadata": {},
   "source": [
    "### Aufgabe 1: Berechnen Sie Accuracy, Precision und Recall des Modells.\n",
    "##### Hinweis: Es empfielt sich, eine Funktion dafür zu schreiben, da die Metriken im späteren Verlauf wieder benötigt werden. Eine Dokumentation zu den Metriken in sklearn finden Sie hier: https://scikit-learn.org/stable/modules/model_evaluation.html"
   ]
  },
  {
   "cell_type": "code",
   "execution_count": 8,
   "metadata": {},
   "outputs": [],
   "source": [
    "# Funktion zur Berechnung der Metriken\n",
    "def compute_metrics(testY, predY):\n",
    "    # berechne die Metriken\n",
    "    accuracy = metrics.accuracy_score(testY, predY)\n",
    "    precision = metrics.precision_score(testY, predY, average = 'macro')\n",
    "    recall = metrics.recall_score(testY, predY, average = 'macro')\n",
    "    \n",
    "    # gebe die Ergebnisse aus\n",
    "    print(\"Accuracy: {accuracy} \\nPrecision: {precision} \\nRecall: {recall}\".format(\n",
    "        accuracy=accuracy, precision=precision, recall=recall))"
   ]
  },
  {
   "cell_type": "code",
   "execution_count": 9,
   "metadata": {},
   "outputs": [
    {
     "name": "stdout",
     "output_type": "stream",
     "text": [
      "Accuracy: 0.8818 \n",
      "Precision: 0.886375159154747 \n",
      "Recall: 0.882194291716818\n"
     ]
    }
   ],
   "source": [
    "# berechne die Metriken\n",
    "compute_metrics(testY, predY_svm)"
   ]
  },
  {
   "cell_type": "markdown",
   "metadata": {},
   "source": [
    "### Aufgabe 2: Welche Parameterwerte hat das SVM Modell standardmäßig?\n",
    "##### Hinweis: Eine Dokumentation zu SVMs in sklearn finden Sie hier: https://scikit-learn.org/stable/modules/generated/sklearn.svm.SVC.html"
   ]
  },
  {
   "cell_type": "code",
   "execution_count": 10,
   "metadata": {},
   "outputs": [
    {
     "data": {
      "text/plain": [
       "{'C': 1.0,\n",
       " 'break_ties': False,\n",
       " 'cache_size': 200,\n",
       " 'class_weight': None,\n",
       " 'coef0': 0.0,\n",
       " 'decision_function_shape': 'ovr',\n",
       " 'degree': 3,\n",
       " 'gamma': 'scale',\n",
       " 'kernel': 'rbf',\n",
       " 'max_iter': 50,\n",
       " 'probability': False,\n",
       " 'random_state': None,\n",
       " 'shrinking': True,\n",
       " 'tol': 0.001,\n",
       " 'verbose': False}"
      ]
     },
     "execution_count": 10,
     "metadata": {},
     "output_type": "execute_result"
    }
   ],
   "source": [
    "# gebe die Standard-Parameter des Modells aus\n",
    "svm.get_params()"
   ]
  },
  {
   "cell_type": "markdown",
   "metadata": {},
   "source": [
    "### Aufgabe 3: Verwenden Sie nun eine SVM mit linearem Kernel. Vergleichen Sie die Performance des neuen Modells mit dem Standard-Modell."
   ]
  },
  {
   "cell_type": "code",
   "execution_count": 11,
   "metadata": {},
   "outputs": [
    {
     "name": "stderr",
     "output_type": "stream",
     "text": [
      "/home/jp/anaconda3/envs/anwki/lib/python3.8/site-packages/sklearn/svm/_base.py:246: ConvergenceWarning: Solver terminated early (max_iter=50).  Consider pre-processing your data with StandardScaler or MinMaxScaler.\n",
      "  warnings.warn('Solver terminated early (max_iter=%i).'\n"
     ]
    }
   ],
   "source": [
    "# instanziiere eine SVM\n",
    "svm_linear = SVC(max_iter = 50, kernel = 'linear')\n",
    "\n",
    "# trainiere die SVM mit den Trainingsdaten\n",
    "svm_linear.fit(trainX_1d, trainY)\n",
    "\n",
    "# sage die Testdaten vorher\n",
    "predY_svm_linear = svm_linear.predict(testX_1d)"
   ]
  },
  {
   "cell_type": "code",
   "execution_count": 12,
   "metadata": {},
   "outputs": [
    {
     "name": "stdout",
     "output_type": "stream",
     "text": [
      "Accuracy: 0.6303 \n",
      "Precision: 0.6400272773442751 \n",
      "Recall: 0.6318450133579526\n"
     ]
    }
   ],
   "source": [
    "# berechne die Metriken\n",
    "compute_metrics(testY, predY_svm_linear)"
   ]
  },
  {
   "cell_type": "markdown",
   "metadata": {},
   "source": [
    "##### Antwort: Der lineare Kernel führt zu einer Verschlechterung des Testergebnisses."
   ]
  },
  {
   "cell_type": "markdown",
   "metadata": {},
   "source": [
    "# Teil 2: Multi Layer Perceptron (MLP)"
   ]
  },
  {
   "cell_type": "markdown",
   "metadata": {},
   "source": [
    "##### Im nächsten Schritt verwenden wir ein Feed-Forward Neuronales Netz. Dabei beschränken wir wieder die Anzahl an Iterationen, um die Rechenzeit zu begrenzen. Das MLP erwartet ebenso wie die SVM eindimensionale Inputs."
   ]
  },
  {
   "cell_type": "code",
   "execution_count": 13,
   "metadata": {
    "scrolled": true
   },
   "outputs": [
    {
     "name": "stdout",
     "output_type": "stream",
     "text": [
      "Iteration 1, loss = 3.34470888\n",
      "Iteration 2, loss = 1.00215730\n",
      "Iteration 3, loss = 0.53571673\n",
      "Iteration 4, loss = 0.33873916\n",
      "Iteration 5, loss = 0.24558858\n",
      "Iteration 6, loss = 0.19735797\n",
      "Iteration 7, loss = 0.16850819\n",
      "Iteration 8, loss = 0.14329054\n",
      "Iteration 9, loss = 0.12840259\n",
      "Iteration 10, loss = 0.12404193\n",
      "Iteration 11, loss = 0.11368434\n",
      "Iteration 12, loss = 0.10592365\n",
      "Iteration 13, loss = 0.11685125\n",
      "Iteration 14, loss = 0.11107638\n",
      "Iteration 15, loss = 0.09850842\n",
      "Iteration 16, loss = 0.09687818\n",
      "Iteration 17, loss = 0.08867341\n",
      "Iteration 18, loss = 0.09591685\n",
      "Iteration 19, loss = 0.09242045\n",
      "Iteration 20, loss = 0.09577434\n",
      "Iteration 21, loss = 0.08564305\n",
      "Iteration 22, loss = 0.08601796\n",
      "Iteration 23, loss = 0.07637984\n",
      "Iteration 24, loss = 0.07593063\n",
      "Iteration 25, loss = 0.06967986\n",
      "Iteration 26, loss = 0.07782451\n",
      "Iteration 27, loss = 0.07760295\n",
      "Iteration 28, loss = 0.07892366\n",
      "Iteration 29, loss = 0.06887684\n",
      "Iteration 30, loss = 0.07248955\n",
      "Iteration 31, loss = 0.06963271\n",
      "Iteration 32, loss = 0.06558709\n",
      "Iteration 33, loss = 0.06118596\n",
      "Iteration 34, loss = 0.05166831\n",
      "Iteration 35, loss = 0.04745272\n",
      "Iteration 36, loss = 0.05486744\n",
      "Iteration 37, loss = 0.06000753\n",
      "Iteration 38, loss = 0.05659777\n",
      "Iteration 39, loss = 0.05706602\n",
      "Iteration 40, loss = 0.06561245\n",
      "Iteration 41, loss = 0.05818521\n",
      "Iteration 42, loss = 0.04642429\n",
      "Iteration 43, loss = 0.04938637\n",
      "Iteration 44, loss = 0.05498421\n",
      "Iteration 45, loss = 0.05500391\n",
      "Iteration 46, loss = 0.04678468\n",
      "Iteration 47, loss = 0.05027193\n",
      "Iteration 48, loss = 0.04660553\n",
      "Iteration 49, loss = 0.05438584\n",
      "Iteration 50, loss = 0.04006169\n"
     ]
    },
    {
     "name": "stderr",
     "output_type": "stream",
     "text": [
      "/home/jp/anaconda3/envs/anwki/lib/python3.8/site-packages/sklearn/neural_network/_multilayer_perceptron.py:582: ConvergenceWarning: Stochastic Optimizer: Maximum iterations (50) reached and the optimization hasn't converged yet.\n",
      "  warnings.warn(\n"
     ]
    }
   ],
   "source": [
    "# instanziiere ein neuronales Netz\n",
    "mlp = MLPClassifier(max_iter = 50, verbose = True)\n",
    "\n",
    "# trainiere das MLP mit den Trainingsdaten\n",
    "mlp.fit(trainX_1d, trainY)\n",
    "\n",
    "# sage die Testdaten vorher\n",
    "predY_mlp = mlp.predict(testX_1d)"
   ]
  },
  {
   "cell_type": "code",
   "execution_count": 14,
   "metadata": {},
   "outputs": [
    {
     "data": {
      "image/png": "[encoded data removed]",
      "text/plain": [
       "<Figure size 648x648 with 2 Axes>"
      ]
     },
     "metadata": {
      "needs_background": "light"
     },
     "output_type": "display_data"
    }
   ],
   "source": [
    "# berechne die Konfusionsmatrix\n",
    "cm = metrics.confusion_matrix(testY, predY_mlp)\n",
    "\n",
    "# plotte die Matrix\n",
    "pyplot.figure(figsize=(9,9))\n",
    "sns.heatmap(cm, annot = True, fmt = \".3f\", linewidths = .5, square = True, cmap = 'Blues_r');\n",
    "pyplot.ylabel('Tatsächliche Klasse');\n",
    "pyplot.xlabel('Ermittelte Klasse');"
   ]
  },
  {
   "cell_type": "markdown",
   "metadata": {},
   "source": [
    "### Aufgabe 4: Berechnen Sie erneut Accuracy, Precision und Recall des Modells. Welche Parameterwerte hat das neuronale Netz standardmäßig?\n",
    "\n",
    "##### Hinweis: Eine Dokumentation zu MLPs in sklearn finden Sie hier: https://scikit-learn.org/stable/modules/generated/sklearn.neural_network.MLPClassifier.html"
   ]
  },
  {
   "cell_type": "code",
   "execution_count": 15,
   "metadata": {},
   "outputs": [
    {
     "name": "stdout",
     "output_type": "stream",
     "text": [
      "Accuracy: 0.9597 \n",
      "Precision: 0.9594002904651878 \n",
      "Recall: 0.9595106171963422\n"
     ]
    }
   ],
   "source": [
    "# berechne die Metriken\n",
    "compute_metrics(testY, predY_mlp)"
   ]
  },
  {
   "cell_type": "code",
   "execution_count": 16,
   "metadata": {},
   "outputs": [
    {
     "data": {
      "text/plain": [
       "{'activation': 'relu',\n",
       " 'alpha': 0.0001,\n",
       " 'batch_size': 'auto',\n",
       " 'beta_1': 0.9,\n",
       " 'beta_2': 0.999,\n",
       " 'early_stopping': False,\n",
       " 'epsilon': 1e-08,\n",
       " 'hidden_layer_sizes': (100,),\n",
       " 'learning_rate': 'constant',\n",
       " 'learning_rate_init': 0.001,\n",
       " 'max_fun': 15000,\n",
       " 'max_iter': 50,\n",
       " 'momentum': 0.9,\n",
       " 'n_iter_no_change': 10,\n",
       " 'nesterovs_momentum': True,\n",
       " 'power_t': 0.5,\n",
       " 'random_state': None,\n",
       " 'shuffle': True,\n",
       " 'solver': 'adam',\n",
       " 'tol': 0.0001,\n",
       " 'validation_fraction': 0.1,\n",
       " 'verbose': True,\n",
       " 'warm_start': False}"
      ]
     },
     "execution_count": 16,
     "metadata": {},
     "output_type": "execute_result"
    }
   ],
   "source": [
    "# gebe die Standard-Parameter des Modells aus\n",
    "mlp.get_params()"
   ]
  },
  {
   "cell_type": "markdown",
   "metadata": {},
   "source": [
    "### Aufgabe 5: Wie lässt sich die Performance des Modells verbessern? Experimentieren Sie mit den Modellparametern. Welche Parameter haben hierbei einen entscheidenden Einfluss?"
   ]
  },
  {
   "cell_type": "code",
   "execution_count": 17,
   "metadata": {},
   "outputs": [
    {
     "name": "stdout",
     "output_type": "stream",
     "text": [
      "Iteration 1, loss = 2.84600857\n",
      "Iteration 2, loss = 0.90737644\n",
      "Iteration 3, loss = 0.50401027\n",
      "Iteration 4, loss = 0.34053995\n",
      "Iteration 5, loss = 0.24342131\n",
      "Iteration 6, loss = 0.18530904\n",
      "Iteration 7, loss = 0.15994815\n",
      "Iteration 8, loss = 0.13666682\n",
      "Iteration 9, loss = 0.14414219\n",
      "Iteration 10, loss = 0.12142808\n",
      "Iteration 11, loss = 0.11806949\n",
      "Iteration 12, loss = 0.12465381\n",
      "Iteration 13, loss = 0.12215987\n",
      "Iteration 14, loss = 0.13067746\n",
      "Iteration 15, loss = 0.11858803\n",
      "Iteration 16, loss = 0.10088848\n",
      "Iteration 17, loss = 0.09684578\n",
      "Iteration 18, loss = 0.07777555\n",
      "Iteration 19, loss = 0.12810451\n",
      "Iteration 20, loss = 0.12641501\n",
      "Iteration 21, loss = 0.09056976\n",
      "Iteration 22, loss = 0.09706698\n",
      "Iteration 23, loss = 0.08408125\n",
      "Iteration 24, loss = 0.06791011\n",
      "Iteration 25, loss = 0.09296581\n",
      "Iteration 26, loss = 0.10290063\n",
      "Iteration 27, loss = 0.07781955\n",
      "Iteration 28, loss = 0.09290510\n",
      "Iteration 29, loss = 0.09899852\n",
      "Iteration 30, loss = 0.10081730\n",
      "Iteration 31, loss = 0.08504445\n",
      "Iteration 32, loss = 0.06530943\n",
      "Iteration 33, loss = 0.06665107\n",
      "Iteration 34, loss = 0.05968981\n",
      "Iteration 35, loss = 0.06631743\n",
      "Iteration 36, loss = 0.07811324\n",
      "Iteration 37, loss = 0.09178711\n",
      "Iteration 38, loss = 0.07166045\n",
      "Iteration 39, loss = 0.06047110\n",
      "Iteration 40, loss = 0.07231617\n",
      "Iteration 41, loss = 0.05959290\n",
      "Iteration 42, loss = 0.07678231\n",
      "Iteration 43, loss = 0.07246581\n",
      "Iteration 44, loss = 0.08483414\n",
      "Iteration 45, loss = 0.06579687\n",
      "Training loss did not improve more than tol=0.000100 for 10 consecutive epochs. Stopping.\n"
     ]
    }
   ],
   "source": [
    "# definiere die Modellparameter\n",
    "params = {\n",
    "    'max_iter': 50,\n",
    "    'verbose': True,\n",
    "    'hidden_layer_sizes': (200,)\n",
    "}\n",
    "\n",
    "# instanziiere ein neuronales Netz\n",
    "mlp_new = MLPClassifier(**params)\n",
    "\n",
    "# trainiere das MLP mit den Trainingsdaten\n",
    "mlp_new.fit(trainX_1d, trainY)\n",
    "\n",
    "# sage die Testdaten vorher\n",
    "predY_mlp_new = mlp_new.predict(testX_1d)"
   ]
  },
  {
   "cell_type": "code",
   "execution_count": 18,
   "metadata": {},
   "outputs": [
    {
     "name": "stdout",
     "output_type": "stream",
     "text": [
      "Accuracy: 0.974 \n",
      "Precision: 0.973893380785575 \n",
      "Recall: 0.9737204333794741\n"
     ]
    }
   ],
   "source": [
    "# berechne die Metriken\n",
    "compute_metrics(testY, predY_mlp_new)"
   ]
  },
  {
   "cell_type": "markdown",
   "metadata": {},
   "source": [
    "##### Die Performance des Modells kann z.B. durch eine Erhöhung der Neuronenanzahl im Hidden Layer verbessert werden. Dadurch steigt die Komplexität des Modells."
   ]
  },
  {
   "cell_type": "markdown",
   "metadata": {},
   "source": [
    "# Teil 3: Convolutional Neural Network (CNN)"
   ]
  },
  {
   "cell_type": "markdown",
   "metadata": {},
   "source": [
    "##### Zuletzt schauen wir uns CNNs an. Für ausführlichere Erläuterungen sei auf https://machinelearningmastery.com/how-to-develop-a-convolutional-neural-network-from-scratch-for-mnist-handwritten-digit-classification/ verwiesen. Wie Sie in der Vorlesung bereits erfahren haben, sind CNNs State of the Art, wenn es um die Klassifikation von Bildern geht. Bevor wir das Klassifikationsmodell erstellen, müssen die MNIST Daten noch transformiert werden. Im Gegensatz zu SVMs und MLPs erwartet ein CNN dreidimensionale Inputs. Ein Eingabebild muss in der Dimension b x h x c übergeben werden, wobei:\n",
    "##### b: Breite des Bildes (#Pixel)\n",
    "##### h: Höhe des Bildes (#Pixel)\n",
    "##### c: Anzahl der Channels, bei Schwarz/Weiß-Bildern: 1, bei Farb-Bildern: 3 (für die Pixelcodierung in rot, grün und blau)"
   ]
  },
  {
   "cell_type": "code",
   "execution_count": 19,
   "metadata": {},
   "outputs": [],
   "source": [
    "# transformiere den Datensatz\n",
    "trainX_cnn = trainX.reshape((trainX.shape[0], 28, 28, 1))\n",
    "testX_cnn = testX.reshape((testX.shape[0], 28, 28, 1))"
   ]
  },
  {
   "cell_type": "markdown",
   "metadata": {},
   "source": [
    "##### Die Pixelwerte im Datensatz liegen zwischen 0 (schwarz) und 255 (weiß). Bevor wir das CNN-Modell erstellen, sollte der Datensatz normalisiert werden, z.B. durch Skalierung der Pixelfarbwerte auf das Intervall [0,1]."
   ]
  },
  {
   "cell_type": "code",
   "execution_count": 20,
   "metadata": {},
   "outputs": [],
   "source": [
    "# skaliere die Trainingsdaten\n",
    "trainX_cnn = trainX_cnn.astype('float32')\n",
    "trainX_cnn = trainX_cnn / 255.0\n",
    "\n",
    "# skaliere die Testdaten\n",
    "testX_cnn = testX_cnn.astype('float32')\n",
    "testX_cnn = testX_cnn / 255.0"
   ]
  },
  {
   "cell_type": "markdown",
   "metadata": {},
   "source": [
    "##### Außerdem codieren wir den Output des Netzes, so dass das CNN später 10 Outputneuronen besitzt (für jede Zahl von 0-9 eine)"
   ]
  },
  {
   "cell_type": "code",
   "execution_count": 21,
   "metadata": {},
   "outputs": [],
   "source": [
    "# Kodierung des Outputs\n",
    "trainY_cnn = to_categorical(trainY)\n",
    "testY_cnn = to_categorical(testY)"
   ]
  },
  {
   "cell_type": "markdown",
   "metadata": {},
   "source": [
    "##### Nun erstellen wir ein CNN mit einem Convolutional Layer, einem Max Pooling Layer und einem Fully Connected Layer. Wir trainieren das Modell mit dem stochastischen Gradientenabstiegsverfahren (SGD)."
   ]
  },
  {
   "cell_type": "code",
   "execution_count": 22,
   "metadata": {},
   "outputs": [],
   "source": [
    "# erstelle ein CNN-Modell\n",
    "def create_cnn():\n",
    "    model = Sequential()\n",
    "    model.add(Conv2D(32, (3, 3), activation = 'relu', kernel_initializer = 'he_uniform', \n",
    "                     input_shape = (28, 28, 1)))\n",
    "    model.add(MaxPooling2D((2, 2)))\n",
    "    model.add(Flatten())\n",
    "    model.add(Dense(100, activation = 'relu', kernel_initializer = 'he_uniform'))\n",
    "    model.add(Dense(10, activation = 'softmax'))\n",
    "    \n",
    "    # kompiliere das Modell\n",
    "    opt = SGD(lr = 0.01, momentum = 0.9)\n",
    "    model.compile(optimizer = opt, loss = 'categorical_crossentropy', metrics = ['accuracy'])\n",
    "    return model"
   ]
  },
  {
   "cell_type": "markdown",
   "metadata": {},
   "source": [
    "### Aufgabe 6: Führen Sie k-Fold Cross Validation (k = 4) mit dem oben definierten CNN-Modell durch. Greifen Sie dabei auf die Funktion create_cnn zurück. Wie robust ist das Modell?\n",
    "##### Hinweis: Hierfür müssen Sie nur auf die Trainingsdaten zurückgreifen. Sie können die KFold Funktion von sklearn verwenden: https://scikit-learn.org/stable/modules/generated/sklearn.model_selection.KFold.html"
   ]
  },
  {
   "cell_type": "code",
   "execution_count": 23,
   "metadata": {},
   "outputs": [
    {
     "name": "stdout",
     "output_type": "stream",
     "text": [
      "\n",
      "Durchlauf 1 von 4:\n",
      "Epoch 1/10\n",
      "1407/1407 [==============================] - 24s 17ms/step - loss: 0.1822 - accuracy: 0.9448 - val_loss: 0.0844 - val_accuracy: 0.9747\n",
      "Epoch 2/10\n",
      "1407/1407 [==============================] - 21s 15ms/step - loss: 0.0649 - accuracy: 0.9795 - val_loss: 0.0736 - val_accuracy: 0.9772\n",
      "Epoch 3/10\n",
      "1407/1407 [==============================] - 18s 13ms/step - loss: 0.0432 - accuracy: 0.9872 - val_loss: 0.0569 - val_accuracy: 0.9833\n",
      "Epoch 4/10\n",
      "1407/1407 [==============================] - 21s 15ms/step - loss: 0.0283 - accuracy: 0.9913 - val_loss: 0.0576 - val_accuracy: 0.9819\n",
      "Epoch 5/10\n",
      "1407/1407 [==============================] - 21s 15ms/step - loss: 0.0201 - accuracy: 0.9937 - val_loss: 0.0536 - val_accuracy: 0.9847\n",
      "Epoch 6/10\n",
      "1407/1407 [==============================] - 21s 15ms/step - loss: 0.0145 - accuracy: 0.9960 - val_loss: 0.0535 - val_accuracy: 0.9849\n",
      "Epoch 7/10\n",
      "1407/1407 [==============================] - 20s 14ms/step - loss: 0.0094 - accuracy: 0.9977 - val_loss: 0.0523 - val_accuracy: 0.9859\n",
      "Epoch 8/10\n",
      "1407/1407 [==============================] - 17s 12ms/step - loss: 0.0061 - accuracy: 0.9989 - val_loss: 0.0548 - val_accuracy: 0.9836\n",
      "Epoch 9/10\n",
      "1407/1407 [==============================] - 17s 12ms/step - loss: 0.0041 - accuracy: 0.9994 - val_loss: 0.0542 - val_accuracy: 0.9855\n",
      "Epoch 10/10\n",
      "1407/1407 [==============================] - 17s 12ms/step - loss: 0.0027 - accuracy: 0.9996 - val_loss: 0.0543 - val_accuracy: 0.9865\n",
      "469/469 [==============================] - 2s 4ms/step - loss: 0.0543 - accuracy: 0.9865\n",
      "\n",
      "Durchlauf 2 von 4:\n",
      "Epoch 1/10\n",
      "1407/1407 [==============================] - 17s 12ms/step - loss: 0.1829 - accuracy: 0.9432 - val_loss: 0.0768 - val_accuracy: 0.9776\n",
      "Epoch 2/10\n",
      "1407/1407 [==============================] - 20s 14ms/step - loss: 0.0611 - accuracy: 0.9813 - val_loss: 0.0763 - val_accuracy: 0.9754\n",
      "Epoch 3/10\n",
      "1407/1407 [==============================] - 17s 12ms/step - loss: 0.0389 - accuracy: 0.9880 - val_loss: 0.0565 - val_accuracy: 0.9824\n",
      "Epoch 4/10\n",
      "1407/1407 [==============================] - 20s 14ms/step - loss: 0.0278 - accuracy: 0.9918 - val_loss: 0.0579 - val_accuracy: 0.9823\n",
      "Epoch 5/10\n",
      "1407/1407 [==============================] - 22s 16ms/step - loss: 0.0199 - accuracy: 0.9939 - val_loss: 0.0505 - val_accuracy: 0.9851\n",
      "Epoch 6/10\n",
      "1407/1407 [==============================] - 22s 15ms/step - loss: 0.0134 - accuracy: 0.9964 - val_loss: 0.0524 - val_accuracy: 0.9841\n",
      "Epoch 7/10\n",
      "1407/1407 [==============================] - 22s 15ms/step - loss: 0.0094 - accuracy: 0.9976 - val_loss: 0.0520 - val_accuracy: 0.9857\n",
      "Epoch 8/10\n",
      "1407/1407 [==============================] - 22s 16ms/step - loss: 0.0060 - accuracy: 0.9988 - val_loss: 0.0489 - val_accuracy: 0.9871\n",
      "Epoch 9/10\n",
      "1407/1407 [==============================] - 22s 16ms/step - loss: 0.0042 - accuracy: 0.9992 - val_loss: 0.0534 - val_accuracy: 0.9865\n",
      "Epoch 10/10\n",
      "1407/1407 [==============================] - 22s 16ms/step - loss: 0.0031 - accuracy: 0.9994 - val_loss: 0.0536 - val_accuracy: 0.9854\n",
      "469/469 [==============================] - 2s 5ms/step - loss: 0.0536 - accuracy: 0.9854\n",
      "\n",
      "Durchlauf 3 von 4:\n",
      "Epoch 1/10\n",
      "1407/1407 [==============================] - 23s 16ms/step - loss: 0.1979 - accuracy: 0.9405 - val_loss: 0.0915 - val_accuracy: 0.9725\n",
      "Epoch 2/10\n",
      "1407/1407 [==============================] - 21s 15ms/step - loss: 0.0654 - accuracy: 0.9805 - val_loss: 0.0713 - val_accuracy: 0.9785\n",
      "Epoch 3/10\n",
      "1407/1407 [==============================] - 22s 15ms/step - loss: 0.0410 - accuracy: 0.9877 - val_loss: 0.0642 - val_accuracy: 0.9811\n",
      "Epoch 4/10\n",
      "1407/1407 [==============================] - 22s 16ms/step - loss: 0.0276 - accuracy: 0.9918 - val_loss: 0.0545 - val_accuracy: 0.9836\n",
      "Epoch 5/10\n",
      "1407/1407 [==============================] - 22s 16ms/step - loss: 0.0195 - accuracy: 0.9946 - val_loss: 0.0599 - val_accuracy: 0.9835\n",
      "Epoch 6/10\n",
      "1407/1407 [==============================] - 22s 16ms/step - loss: 0.0139 - accuracy: 0.9961 - val_loss: 0.0536 - val_accuracy: 0.9838\n",
      "Epoch 7/10\n",
      "1407/1407 [==============================] - 22s 16ms/step - loss: 0.0097 - accuracy: 0.9975 - val_loss: 0.0569 - val_accuracy: 0.9841\n",
      "Epoch 8/10\n",
      "1407/1407 [==============================] - 23s 16ms/step - loss: 0.0071 - accuracy: 0.9983 - val_loss: 0.0579 - val_accuracy: 0.9840\n",
      "Epoch 9/10\n",
      "1407/1407 [==============================] - 21s 15ms/step - loss: 0.0042 - accuracy: 0.9993 - val_loss: 0.0564 - val_accuracy: 0.9851\n",
      "Epoch 10/10\n",
      "1407/1407 [==============================] - 21s 15ms/step - loss: 0.0024 - accuracy: 0.9999 - val_loss: 0.0621 - val_accuracy: 0.9839\n",
      "469/469 [==============================] - 2s 5ms/step - loss: 0.0621 - accuracy: 0.9839\n",
      "\n",
      "Durchlauf 4 von 4:\n",
      "Epoch 1/10\n",
      "1407/1407 [==============================] - 22s 15ms/step - loss: 0.1935 - accuracy: 0.9419 - val_loss: 0.0933 - val_accuracy: 0.9700\n",
      "Epoch 2/10\n",
      "1407/1407 [==============================] - 21s 15ms/step - loss: 0.0661 - accuracy: 0.9806 - val_loss: 0.0694 - val_accuracy: 0.9795\n",
      "Epoch 3/10\n",
      "1407/1407 [==============================] - 21s 15ms/step - loss: 0.0403 - accuracy: 0.9880 - val_loss: 0.0667 - val_accuracy: 0.9807\n",
      "Epoch 4/10\n",
      "1407/1407 [==============================] - 22s 15ms/step - loss: 0.0281 - accuracy: 0.9914 - val_loss: 0.0620 - val_accuracy: 0.9826\n",
      "Epoch 5/10\n",
      "1407/1407 [==============================] - 21s 15ms/step - loss: 0.0187 - accuracy: 0.9945 - val_loss: 0.0526 - val_accuracy: 0.9844\n",
      "Epoch 6/10\n",
      "1407/1407 [==============================] - 20s 14ms/step - loss: 0.0125 - accuracy: 0.9969 - val_loss: 0.0536 - val_accuracy: 0.9843\n",
      "Epoch 7/10\n",
      "1407/1407 [==============================] - 20s 14ms/step - loss: 0.0085 - accuracy: 0.9979 - val_loss: 0.0620 - val_accuracy: 0.9821\n",
      "Epoch 8/10\n",
      "1407/1407 [==============================] - 20s 14ms/step - loss: 0.0056 - accuracy: 0.9988 - val_loss: 0.0578 - val_accuracy: 0.9839\n",
      "Epoch 9/10\n",
      "1407/1407 [==============================] - 20s 14ms/step - loss: 0.0037 - accuracy: 0.9994 - val_loss: 0.0592 - val_accuracy: 0.9853\n",
      "Epoch 10/10\n",
      "1407/1407 [==============================] - 20s 14ms/step - loss: 0.0022 - accuracy: 0.9998 - val_loss: 0.0614 - val_accuracy: 0.9840\n",
      "469/469 [==============================] - 2s 4ms/step - loss: 0.0614 - accuracy: 0.9840\n"
     ]
    }
   ],
   "source": [
    "# erstelle Listen zum Speichern der Validierungsergebnisse\n",
    "scores, histories = list(), list()\n",
    "\n",
    "# definiere die Parameter der k-Fold Cross Validation\n",
    "kfold = KFold(n_splits = 4)\n",
    "\n",
    "# Zählvariable für die Schleife\n",
    "count = 0\n",
    "\n",
    "# führe die Cross Validation aus\n",
    "for train_index, test_index in kfold.split(trainX):\n",
    "    \n",
    "    # Zählvariable ausgeben\n",
    "    count = count + 1\n",
    "    print(\"\\nDurchlauf {} von 4:\".format(count))\n",
    "    \n",
    "    # erstelle ein Modell\n",
    "    model = create_cnn()\n",
    "    \n",
    "    # ermittle die Trainings- und Testdaten des aktuellen Durchlaufs\n",
    "    trainX_cv, trainY_cv = trainX_cnn[train_index], trainY_cnn[train_index]\n",
    "    testX_cv, testY_cv = trainX_cnn[test_index], trainY_cnn[test_index]\n",
    "    \n",
    "    # trainiere das Modell\n",
    "    history = model.fit(trainX_cv, trainY_cv, epochs = 10, batch_size = 32, \n",
    "                        validation_data = (testX_cv, testY_cv), verbose = True)\n",
    "    \n",
    "    # evaluiere das Modell\n",
    "    _, acc = model.evaluate(testX_cv, testY_cv, verbose = True)\n",
    "    \n",
    "    # speichere die Validierungsergebnisse\n",
    "    scores.append(acc)\n",
    "    histories.append(history)"
   ]
  },
  {
   "cell_type": "code",
   "execution_count": 24,
   "metadata": {},
   "outputs": [
    {
     "name": "stdout",
     "output_type": "stream",
     "text": [
      "> 98.647\n",
      "> 98.540\n",
      "> 98.393\n",
      "> 98.400\n",
      "Mittelwert: 98.49500060081482\n",
      "Standardabweichung: 0.10534231991133558\n"
     ]
    }
   ],
   "source": [
    "# gebe die Accuracy der 4 Durchläufe aus\n",
    "for score in scores:\n",
    "    print('> %.3f' % (score * 100.0))\n",
    "\n",
    "# berechne Mittelwert und Standardabweichung der Accuracy\n",
    "print(\"Mittelwert: {}\".format(np.mean(scores) * 100))\n",
    "print(\"Standardabweichung: {}\".format(np.std(scores) * 100))"
   ]
  },
  {
   "cell_type": "markdown",
   "metadata": {},
   "source": [
    "##### Antwort: Das CNN-Modell ist sehr robust, da die Performance der 4 Durchläufe der k-Fold Cross Validation sehr nahe aneinander liegen."
   ]
  },
  {
   "cell_type": "markdown",
   "metadata": {},
   "source": [
    "### Aufgabe 7: Trainieren Sie das obige CNN-Modell nun mit dem kompletten Trainingsdatensatz. Wie hoch ist die Accuracy auf dem Testdatensatz?\n",
    "##### Hinweis: Sie können diese Aufgabe auch bearbeiten, falls Sie die Aufgabe 6 nicht lösen konnten."
   ]
  },
  {
   "cell_type": "code",
   "execution_count": 25,
   "metadata": {},
   "outputs": [
    {
     "name": "stdout",
     "output_type": "stream",
     "text": [
      "Epoch 1/10\n",
      "1875/1875 [==============================] - 22s 12ms/step - loss: 0.1615 - accuracy: 0.9517\n",
      "Epoch 2/10\n",
      "1875/1875 [==============================] - 23s 13ms/step - loss: 0.0549 - accuracy: 0.9827\n",
      "Epoch 3/10\n",
      "1875/1875 [==============================] - 23s 12ms/step - loss: 0.0365 - accuracy: 0.9889\n",
      "Epoch 4/10\n",
      "1875/1875 [==============================] - 23s 12ms/step - loss: 0.0244 - accuracy: 0.9928\n",
      "Epoch 5/10\n",
      "1875/1875 [==============================] - 23s 12ms/step - loss: 0.0170 - accuracy: 0.9950\n",
      "Epoch 6/10\n",
      "1875/1875 [==============================] - 24s 13ms/step - loss: 0.0107 - accuracy: 0.9973\n",
      "Epoch 7/10\n",
      "1875/1875 [==============================] - 24s 13ms/step - loss: 0.0084 - accuracy: 0.9977\n",
      "Epoch 8/10\n",
      "1875/1875 [==============================] - 24s 13ms/step - loss: 0.0049 - accuracy: 0.9990\n",
      "Epoch 9/10\n",
      "1875/1875 [==============================] - 24s 13ms/step - loss: 0.0031 - accuracy: 0.9995\n",
      "Epoch 10/10\n",
      "1875/1875 [==============================] - 24s 13ms/step - loss: 0.0021 - accuracy: 0.9998\n"
     ]
    }
   ],
   "source": [
    "# instanziiere das CNN und trainiere es\n",
    "cnn = create_cnn()\n",
    "history = cnn.fit(trainX_cnn, trainY_cnn, epochs = 10, verbose = True)"
   ]
  },
  {
   "cell_type": "code",
   "execution_count": 26,
   "metadata": {},
   "outputs": [
    {
     "name": "stdout",
     "output_type": "stream",
     "text": [
      "313/313 [==============================] - 1s 4ms/step - loss: 0.0461 - accuracy: 0.9877\n",
      "Accuracy: 0.9876999855041504\n"
     ]
    }
   ],
   "source": [
    "# berechne die Accuracy des Modells\n",
    "_, acc = cnn.evaluate(testX_cnn, testY_cnn)\n",
    "print(\"Accuracy: {}\".format(acc))"
   ]
  },
  {
   "cell_type": "markdown",
   "metadata": {},
   "source": [
    "##### Wie wir sehen, ist die Vorhersagegenauigkeit des CNN-Modells bereits sehr hoch. Zur Veranschaulichung plotten wir ein zufälliges Bild aus dem Testdatensatz und schauen uns an, was die Vorhersage des Modells ist. Die Vorhersageergebnisse des CNNs stehen dabei für die Wahrscheinlichkeiten, die das Modell den Klassen (Zahlen von 0-9) zuordnet."
   ]
  },
  {
   "cell_type": "code",
   "execution_count": 27,
   "metadata": {},
   "outputs": [
    {
     "data": {
      "image/png": "[encoded data removed]",
      "text/plain": [
       "<Figure size 432x288 with 1 Axes>"
      ]
     },
     "metadata": {
      "needs_background": "light"
     },
     "output_type": "display_data"
    },
    {
     "name": "stdout",
     "output_type": "stream",
     "text": [
      "Vorhersage des CNNs: \n",
      "[3.6452654e-09 5.6734323e-10 1.0668008e-08 7.8538960e-08 1.4362403e-09\n",
      " 2.2701565e-11 3.0828607e-15 9.9999964e-01 2.3517699e-09 2.9130325e-07]\n"
     ]
    }
   ],
   "source": [
    "# zufälliger Index für ein Bild aus dem Testdatensatz\n",
    "image_index = 26\n",
    "\n",
    "# plotte das Bild\n",
    "pyplot.imshow(testX[image_index], cmap=pyplot.get_cmap('gray'))\n",
    "pyplot.show()\n",
    "\n",
    "# berechne die Vorhersage des CNNs\n",
    "image = testX_cnn[image_index].reshape(1, 28, 28, 1)\n",
    "digit = cnn.predict(image)\n",
    "print(\"Vorhersage des CNNs: \\n{}\".format(digit[0]))"
   ]
  },
  {
   "cell_type": "markdown",
   "metadata": {},
   "source": [
    "### Aufgabe 8: Können Sie die Vorhersagegenauigkeit noch weiter steigern? Welche Modellparameter lassen sich beim CNN dazu noch verändern? Experimentieren Sie."
   ]
  },
  {
   "cell_type": "code",
   "execution_count": 28,
   "metadata": {},
   "outputs": [],
   "source": [
    "# erstelle ein neues CNN-Modell mit einem weiteren Convolutional Layer und Max Pooling Layer\n",
    "cnn_new = Sequential()\n",
    "cnn_new.add(Conv2D(32, (3, 3), activation = 'relu', kernel_initializer = 'he_uniform', input_shape = (28, 28, 1)))\n",
    "cnn_new.add(MaxPooling2D((2, 2)))\n",
    "cnn_new.add(Conv2D(64, (3, 3), activation = 'relu', kernel_initializer = 'he_uniform'))\n",
    "cnn_new.add(MaxPooling2D((2, 2)))\n",
    "cnn_new.add(Flatten())\n",
    "cnn_new.add(Dense(100, activation = 'relu', kernel_initializer = 'he_uniform'))\n",
    "cnn_new.add(Dense(10, activation = 'softmax'))\n",
    "\n",
    "# kompiliere das Modell\n",
    "opt = SGD(lr = 0.01, momentum = 0.9)\n",
    "cnn_new.compile(optimizer = opt, loss = 'categorical_crossentropy', metrics = ['accuracy'])"
   ]
  },
  {
   "cell_type": "code",
   "execution_count": 29,
   "metadata": {},
   "outputs": [
    {
     "name": "stdout",
     "output_type": "stream",
     "text": [
      "Epoch 1/10\n",
      "1875/1875 [==============================] - 31s 16ms/step - loss: 0.1286 - accuracy: 0.9593\n",
      "Epoch 2/10\n",
      "1875/1875 [==============================] - 32s 17ms/step - loss: 0.0455 - accuracy: 0.9860\n",
      "Epoch 3/10\n",
      "1875/1875 [==============================] - 31s 17ms/step - loss: 0.0306 - accuracy: 0.9904\n",
      "Epoch 4/10\n",
      "1875/1875 [==============================] - 32s 17ms/step - loss: 0.0218 - accuracy: 0.9930\n",
      "Epoch 5/10\n",
      "1875/1875 [==============================] - 32s 17ms/step - loss: 0.0169 - accuracy: 0.9947\n",
      "Epoch 6/10\n",
      "1875/1875 [==============================] - 32s 17ms/step - loss: 0.0113 - accuracy: 0.9965\n",
      "Epoch 7/10\n",
      "1875/1875 [==============================] - 32s 17ms/step - loss: 0.0091 - accuracy: 0.9972\n",
      "Epoch 8/10\n",
      "1875/1875 [==============================] - 33s 17ms/step - loss: 0.0073 - accuracy: 0.9978\n",
      "Epoch 9/10\n",
      "1875/1875 [==============================] - 33s 17ms/step - loss: 0.0056 - accuracy: 0.9983\n",
      "Epoch 10/10\n",
      "1875/1875 [==============================] - 33s 18ms/step - loss: 0.0045 - accuracy: 0.9986\n"
     ]
    }
   ],
   "source": [
    "# trainiere das neue CNN-Modell\n",
    "history = cnn_new.fit(trainX_cnn, trainY_cnn, epochs = 10, verbose = True)"
   ]
  },
  {
   "cell_type": "code",
   "execution_count": 30,
   "metadata": {},
   "outputs": [
    {
     "name": "stdout",
     "output_type": "stream",
     "text": [
      "313/313 [==============================] - 2s 5ms/step - loss: 0.0345 - accuracy: 0.9913\n",
      "Accuracy: 0.9912999868392944\n"
     ]
    }
   ],
   "source": [
    "# berechne die Accuracy des Modells\n",
    "_, acc = cnn_new.evaluate(testX_cnn, testY_cnn)\n",
    "print(\"Accuracy: {}\".format(acc))"
   ]
  }
 ],
 "metadata": {
  "kernelspec": {
   "display_name": "Python 3",
   "language": "python",
   "name": "python3"
  },
  "language_info": {
   "codemirror_mode": {
    "name": "ipython",
    "version": 3
   },
   "file_extension": ".py",
   "mimetype": "text/x-python",
   "name": "python",
   "nbconvert_exporter": "python",
   "pygments_lexer": "ipython3",
   "version": "3.8.5"
  }
 },
 "nbformat": 4,
 "nbformat_minor": 4
}
