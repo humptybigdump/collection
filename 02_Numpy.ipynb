{
 "cells": [
  {
   "cell_type": "markdown",
   "metadata": {},
   "source": [
    "## Numpy - Basics"
   ]
  },
  {
   "cell_type": "code",
   "execution_count": null,
   "metadata": {},
   "outputs": [],
   "source": [
    "# Importing a library\n",
    "import numpy as np # Numpy: fundamental package for scientific computing in Python"
   ]
  },
  {
   "cell_type": "code",
   "execution_count": null,
   "metadata": {},
   "outputs": [],
   "source": [
    "# Numpy arrays are the fundamental data structure\n",
    "\n",
    "# Creation of an array via a list...\n",
    "a = np.array([1,2,3,4,5])\n",
    "print(a)\n",
    "# or a tuple\n",
    "a = np.array((1,2,3,4,5))\n",
    "print(a)"
   ]
  },
  {
   "cell_type": "code",
   "execution_count": null,
   "metadata": {},
   "outputs": [],
   "source": [
    "# When mixing doubles and integers, all entries of an array are converted to doubles by default\n",
    "a = np.array([1,2,3.,4,5])\n",
    "print(a) # Note: All entries are doubles\n",
    "print(a.dtype)\n"
   ]
  },
  {
   "cell_type": "code",
   "execution_count": null,
   "metadata": {},
   "outputs": [],
   "source": [
    "# If necessary, the data type of the array can be set manually\n",
    "a = np.array([1,2,3.,4,5], dtype=np.int64)\n",
    "print(a)\n",
    "print(a.dtype)"
   ]
  },
  {
   "cell_type": "code",
   "execution_count": null,
   "metadata": {},
   "outputs": [],
   "source": [
    "# Examples for creating specific arrays\n",
    "array_1 = np.zeros(5); print(array_1)\n",
    "array_2 = np.ones(5) ; print(array_2)\n",
    "array_3 = np.arange(5);print(array_3)\n",
    "array_4 = np.linspace(0,4,5);print(array_4)"
   ]
  },
  {
   "cell_type": "code",
   "execution_count": null,
   "metadata": {},
   "outputs": [],
   "source": [
    "# Identity matrix\n",
    "identity = np.eye(3); print(identity)"
   ]
  },
  {
   "cell_type": "code",
   "execution_count": null,
   "metadata": {},
   "outputs": [],
   "source": [
    "# zeros and ones for arbitrary dimensions with the array shape as input\n",
    "zeros = np.zeros([3,4]);print(zeros)\n",
    "print(\"\")\n",
    "ones = np.ones([5,2]);print(ones)"
   ]
  },
  {
   "cell_type": "code",
   "execution_count": null,
   "metadata": {},
   "outputs": [],
   "source": [
    "# Generating an array of random numbers\n",
    "random = np.random.random([5,3]);print(random)"
   ]
  },
  {
   "cell_type": "code",
   "execution_count": null,
   "metadata": {},
   "outputs": [],
   "source": [
    "# slicing\n",
    "d = random[:,0]\n",
    "e = random[2,:]"
   ]
  },
  {
   "cell_type": "code",
   "execution_count": null,
   "metadata": {},
   "outputs": [],
   "source": [
    "# In contrast to Matlab, operations are performed elementwise by default\n",
    "a = np.arange(9).reshape((3,3))\n",
    "b = np.array([2,6,3])\n",
    "c = np.array([4,2,5])\n",
    "\n",
    "# Example: Operations withs scalars\n",
    "print(a+4);print(\"\")\n",
    "print(b*3);print(\"\")\n",
    "print(c**2);print(\"\")"
   ]
  },
  {
   "cell_type": "code",
   "execution_count": null,
   "metadata": {},
   "outputs": [],
   "source": [
    "# Example: Operation between arrays with compatible shape\n",
    "print(b+c)\n",
    "print(b*c)\n",
    "print(b**c)\n",
    "print(b/c)"
   ]
  },
  {
   "cell_type": "code",
   "execution_count": null,
   "metadata": {},
   "outputs": [],
   "source": [
    "# Example: Elementwise application of standard math functions\n",
    "print(np.exp(a))\n",
    "print(\"\\n\",np.sin(a))\n",
    "print(\"\\n\",np.sqrt(a))\n",
    "print(\"\\n\",np.log(a+1))"
   ]
  },
  {
   "cell_type": "markdown",
   "metadata": {},
   "source": [
    "## Assignment of Numpy arrays"
   ]
  },
  {
   "cell_type": "code",
   "execution_count": null,
   "metadata": {},
   "outputs": [],
   "source": [
    "# We briefly touch on the assignment of numpy array\n",
    "\n",
    "# first we create a new array\n",
    "a = np.ones(5) \n",
    "print(a)"
   ]
  },
  {
   "cell_type": "code",
   "execution_count": null,
   "metadata": {},
   "outputs": [],
   "source": [
    "# Let's take a look at the following assignment\n",
    "b = a\n",
    "# In Python, no new object is created here, instead b is linked to a.\n",
    "# Hence, a is affected by changes in b:\n",
    "b *= 10\n",
    "print(a)"
   ]
  },
  {
   "cell_type": "code",
   "execution_count": null,
   "metadata": {},
   "outputs": [],
   "source": [
    "# The same is true for slices:\n",
    "a = np.ones([4,3])\n",
    "b = a[:,2]\n",
    "b *= 2\n",
    "print(a)"
   ]
  },
  {
   "cell_type": "code",
   "execution_count": null,
   "metadata": {},
   "outputs": [],
   "source": [
    "# To generate an independent copy, the .copy() method can be used:\n",
    "c = a.copy()\n",
    "c*=12\n",
    "print(a)\n",
    "print(c)"
   ]
  },
  {
   "cell_type": "code",
   "execution_count": null,
   "metadata": {},
   "outputs": [],
   "source": [
    "# Alternatively, for an existing array of compatible shape, we can copy the entries of a into d:\n",
    "d = np.ones(a.shape)\n",
    "d[:] = a\n",
    "\n",
    "# Both arrays stay independent:\n",
    "\n",
    "d*=4\n",
    "print(a)\n",
    "print(d)"
   ]
  },
  {
   "cell_type": "code",
   "execution_count": null,
   "metadata": {},
   "outputs": [],
   "source": [
    "# Arrays can be manipulated inside of a function (as an alternative to returning a new array)\n",
    "def manipulate(array):\n",
    "    for i in range(len(array)):\n",
    "        array[i] = np.exp(array[i])\n",
    "        \n",
    "a = np.array((3.,0.,1.,2.))\n",
    "manipulate(a)\n",
    "print(a)"
   ]
  },
  {
   "cell_type": "code",
   "execution_count": null,
   "metadata": {},
   "outputs": [],
   "source": [
    "# Warning: new assignments in a function stay local and are not effective outside of the function\n",
    "def useless_manipulate(array):\n",
    "    array = np.ones(array.shape)\n",
    "    \n",
    "a = np.array((3.,0.,1.,2.))\n",
    "useless_manipulate(a)\n",
    "print(a)\n",
    "# In this case, an easy fix would be: array[:] = ..."
   ]
  },
  {
   "cell_type": "markdown",
   "metadata": {},
   "source": [
    "## Manipulating the shape of an array"
   ]
  },
  {
   "cell_type": "code",
   "execution_count": null,
   "metadata": {},
   "outputs": [],
   "source": [
    "# reshape and ravel\n",
    "a = np.eye(4)\n",
    "my_ravel = (a.ravel());print(my_ravel)\n",
    "print(\"\")\n",
    "my_reshape = a.reshape([8,2]);print(my_reshape)\n",
    "print(\"\")\n",
    "print(a)"
   ]
  },
  {
   "cell_type": "code",
   "execution_count": null,
   "metadata": {},
   "outputs": [],
   "source": [
    "# reshape does not change the array:\n",
    "a.reshape([2,8]);print(a)\n"
   ]
  },
  {
   "cell_type": "code",
   "execution_count": null,
   "metadata": {},
   "outputs": [],
   "source": [
    "# resize does change the array:\n",
    "a.resize([2,8]);print(a)"
   ]
  },
  {
   "cell_type": "code",
   "execution_count": null,
   "metadata": {},
   "outputs": [],
   "source": [
    "# Transposing an array\n",
    "print(my_reshape.T)"
   ]
  },
  {
   "cell_type": "code",
   "execution_count": null,
   "metadata": {},
   "outputs": [],
   "source": [
    "# As for slices: reshape, ravel and transposition do not create a new array\n",
    "a = np.eye(4)\n",
    "my_ravel = a.ravel()\n",
    "my_ravel[0] = 20\n",
    "print(a)\n",
    "print(\"\")\n",
    "\n",
    "a = np.ones((4,4))\n",
    "my_reshape = a.reshape((2,8))\n",
    "my_reshape[0,:] *= 2\n",
    "print(a)\n",
    "print(\"\")\n",
    "\n",
    "a = np.arange(16).reshape((4,4))\n",
    "my_transpose = a.T\n",
    "my_transpose[0,:] = 50\n",
    "print(a)"
   ]
  },
  {
   "cell_type": "markdown",
   "metadata": {},
   "source": [
    "## Linear algebra using numpy"
   ]
  },
  {
   "cell_type": "code",
   "execution_count": null,
   "metadata": {},
   "outputs": [],
   "source": [
    "# dot product of vectors\n",
    "a = np.arange(2,10)\n",
    "print(a @ a)\n",
    "print(a.dot(a))\n",
    "print(np.matmul(a,a))\n",
    "print(np.inner(a,a))\n",
    "print(np.sum(a*a))"
   ]
  },
  {
   "cell_type": "code",
   "execution_count": null,
   "metadata": {},
   "outputs": [],
   "source": [
    "# outer product of vectors\n",
    "print(np.outer(a,a))"
   ]
  },
  {
   "cell_type": "code",
   "execution_count": null,
   "metadata": {},
   "outputs": [],
   "source": [
    "# matrix-vector multiplication\n",
    "A = np.arange(9).reshape([3,3])\n",
    "print(A @ A)\n",
    "print(np.matmul(A,A))\n",
    "print(np.dot(A,A))"
   ]
  },
  {
   "cell_type": "code",
   "execution_count": null,
   "metadata": {},
   "outputs": [],
   "source": [
    "# More advanced linear algebra functions can be found in numpy's linalg library:\n",
    "# https://docs.scipy.org/doc/numpy/reference/routines.linalg.html\n",
    "\n",
    "# For experienced Matlab users, the following translation may prove useful:\n",
    "# https://docs.scipy.org/doc/numpy/user/numpy-for-matlab-users.html\n",
    "\n",
    "# Example: Solving a linear system\n",
    "A = np.array([[2,1,-1],[1,-1,-1],[2,2,1]])\n",
    "b = np.array([1,3,1])\n",
    "x = np.linalg.solve(A,b);\n",
    "print('A =\\n',A)\n",
    "print('b = \\n',b)\n",
    "print('x = \\n',x)"
   ]
  },
  {
   "cell_type": "code",
   "execution_count": null,
   "metadata": {},
   "outputs": [],
   "source": [
    "# Example: Eigenvalue computation\n",
    "B = np.array( [[10.,  15  ,-12],[ 15 , -3 , -8 ],[ -12 ,-8  ,13 ]])\n",
    "print('B =\\n',B)\n",
    "la,v = np.linalg.eig(B)\n",
    "print('la =\\n',la)\n",
    "print('Eigenvectors in columns:\\n',v)\n",
    "print('Eigenvector of largest eigenvalue:\\n',v[:,0])"
   ]
  },
  {
   "cell_type": "code",
   "execution_count": null,
   "metadata": {},
   "outputs": [],
   "source": [
    "# Determinant\n",
    "print('Det(B) =\\n',np.linalg.det(B))\n",
    "# Trace\n",
    "print('Spur(B)=\\n',np.trace(B))"
   ]
  },
  {
   "cell_type": "markdown",
   "metadata": {},
   "source": [
    "## Plots using matplotlib"
   ]
  },
  {
   "cell_type": "code",
   "execution_count": null,
   "metadata": {},
   "outputs": [],
   "source": [
    "import matplotlib.pyplot as plt\n",
    "# The matplotlib library offers various visualization tools.\n",
    "# Here, we restrict to the basic syntax for plotting functions.\n",
    "# For more examples and further information: https://matplotlib.org/tutorials/introductory/pyplot.html\n",
    "\n",
    "x = np.linspace(0,2*np.pi)\n",
    "y = np.sin(x)\n",
    "plt.plot(x,y)\n",
    "plt.show()"
   ]
  },
  {
   "cell_type": "code",
   "execution_count": null,
   "metadata": {},
   "outputs": [],
   "source": [
    "def gaussFunction(x):\n",
    "    return np.exp(-x**2) - np.exp(-(x-8)**2)\n",
    "\n",
    "x = np.linspace(-3,10,499)\n",
    "y = gaussFunction(x)\n",
    "plt.plot(x,y)\n",
    "plt.show()"
   ]
  },
  {
   "cell_type": "code",
   "execution_count": null,
   "metadata": {},
   "outputs": [],
   "source": []
  },
  {
   "cell_type": "code",
   "execution_count": null,
   "metadata": {},
   "outputs": [],
   "source": []
  }
 ],
 "metadata": {
  "kernelspec": {
   "display_name": "Python 3 (ipykernel)",
   "language": "python",
   "name": "python3"
  },
  "language_info": {
   "codemirror_mode": {
    "name": "ipython",
    "version": 3
   },
   "file_extension": ".py",
   "mimetype": "text/x-python",
   "name": "python",
   "nbconvert_exporter": "python",
   "pygments_lexer": "ipython3",
   "version": "3.8.8"
  }
 },
 "nbformat": 4,
 "nbformat_minor": 2
}
