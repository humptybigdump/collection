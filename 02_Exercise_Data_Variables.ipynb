{
 "cells": [
  {
   "cell_type": "markdown",
   "metadata": {},
   "source": [
    "# Geospatial Data Analysis I \n",
    "\n",
    "## Data and Variables - Solution"
   ]
  },
  {
   "cell_type": "markdown",
   "metadata": {},
   "source": [
    "### Exercise 1\n",
    "\n",
    "#### Assigning variables\n",
    "- Let's play a game of \"Stadt, Land, Fluss\" (German Categories word game). Select an arbitrary letter and pick a city, country and river beginning with the corresponding letter. Assign each to specific variable, e.g.\n",
    "\n",
    "> city = \"Karlsruhe\"\n",
    "\n",
    "- add a comment to your code that state the chosen letter. And print an output message for each variable, e.g. \n",
    "\n",
    "> ' I was born in Karlsruhe.' \n"
   ]
  },
  {
   "cell_type": "code",
   "execution_count": null,
   "metadata": {},
   "outputs": [],
   "source": [
    "#[1]\n"
   ]
  },
  {
   "cell_type": "markdown",
   "metadata": {},
   "source": [
    "#### Creating lists and using indices\n",
    "- Create a list \"*game*\" from yout Stadt-Land-Fluss Variables.\n",
    "\n",
    "- Output the third element of this list using the corresponding index.\n",
    "\n",
    "- Output the length of yout list by using (\"*len()*\") with a suitable message. "
   ]
  },
  {
   "cell_type": "code",
   "execution_count": null,
   "metadata": {},
   "outputs": [],
   "source": [
    "# [2]\n"
   ]
  },
  {
   "cell_type": "markdown",
   "metadata": {},
   "source": [
    "### Exercise 2\n",
    "#### Modifying lists\n",
    "- In your previously created list, change (i.e. overwrite) the country using the corresponding list index.\n",
    "\n",
    "- Add three further entries to your list: one city and two additional countries of your choice. The city should be inserted as the second element, the countries should be added at the end of the list. To do so, use the functions: \n",
    "\n",
    "> insert()\n",
    "\n",
    "> append()\n",
    "\n",
    "- inspect the outcomes. "
   ]
  },
  {
   "cell_type": "code",
   "execution_count": null,
   "metadata": {},
   "outputs": [],
   "source": [
    "#[3]\n"
   ]
  },
  {
   "cell_type": "markdown",
   "metadata": {},
   "source": [
    "#### Copying lists\n",
    "\n",
    "Your list now contains two cities, three countries and one river. For this exercise we would like to have a new list *countries* containing all elements from the list *game* ( the list *game* should not be modified). \n",
    "\n",
    "- Create a copy of the *game* list under the name *countries* by using the function: \n",
    "\n",
    "> copy()"
   ]
  },
  {
   "cell_type": "code",
   "execution_count": null,
   "metadata": {},
   "outputs": [],
   "source": [
    "# [4]\n"
   ]
  },
  {
   "cell_type": "markdown",
   "metadata": {},
   "source": [
    "#### Deleting elements\n",
    "\n",
    "In your new list *countries*, we are primarily interested in the countries, as we would like to work with country-specific information later on. So, we will delete river and city elements from the *countries* list. \n",
    "\n",
    "- delete the river element from *countries* using its original value: \n",
    "\n",
    "> list.remove('river')\n",
    "\n",
    "The cities are going to be used later for another exercise so we are going to cut them from *countries* and put them in another list called *cities*. \n",
    "\n",
    "- create a new empty list *cities*\n",
    "\n",
    "- remove the cities one by one from *countries* and add them to *cities* \n",
    "\n",
    "> list.pop()\n",
    "\n",
    "##### advanced use: \n",
    "\n",
    "both functions can be combined in one command line: \n",
    "\n",
    "\n",
    "```list1.append(list2.pop())```"
   ]
  },
  {
   "cell_type": "code",
   "execution_count": null,
   "metadata": {},
   "outputs": [],
   "source": [
    "# [5]\n"
   ]
  },
  {
   "cell_type": "markdown",
   "metadata": {},
   "source": [
    "#### Creating lists from lists\n",
    "\n",
    "Look up the area and population of the countries in yout list *countries*, so you can store them as additional information. Assign the values to variables and give them meaningful names, e.g.: \n",
    "\n",
    "```\n",
    "#areas\n",
    "IT_area = \n",
    "...\n",
    "# population\n",
    "IT_pop =\n",
    "...\n",
    "```\n",
    "\n",
    "- add those variables to the corresponding country in your list *countries* so that you have three lists within the orginal list: \n",
    "\n",
    "```\n",
    "countries = [[\"Italy\",IT_area,IT_pop],[...],[...]]\n",
    "```\n",
    "\n",
    "- Check the data type for *countries*. \n",
    "\n",
    "\n",
    "- As you can see, this is still a list. This means you can still access individual elements by their index. However, every three elements in *countries* now have three sub-elements each. If you want to access the area (second sub-element) in the second country you can combine the indices. For example like this: \n",
    "\n",
    "> countries[1][1]\n",
    "\n",
    "- Use this indexing to create an output text message for each country in *countries*, which states the area and the population of the corresponding country. The message could be e.g.: \n",
    "\n",
    "> \"In Italy there are 60,026,546 people living in an overall area of 301.338 km<sup>2</sup>\\.\""
   ]
  },
  {
   "cell_type": "code",
   "execution_count": null,
   "metadata": {},
   "outputs": [],
   "source": [
    "# [6]\n"
   ]
  },
  {
   "cell_type": "markdown",
   "metadata": {},
   "source": [
    "### Exercise 3\n",
    "#### for-loops\n",
    "\n",
    "In Exercise 3.3 you specified a separate output message for each *print()* function. Instead of identical repetetive operations, such tasks can be done more elegant with for-loops.  \n",
    "\n",
    "- print the same output message again for each country in *countries* using a for-loop: \n",
    "\n",
    "> for country in countries: \n",
    "       print(...)\n",
    "\n",
    "- Also, let's say we are interested in the population density. Add this calculation to the previous for-loop. \n",
    "\n",
    "> for country in countries: \n",
    "       print(...)\n",
    "       pop_desity = ..."
   ]
  },
  {
   "cell_type": "code",
   "execution_count": null,
   "metadata": {},
   "outputs": [],
   "source": [
    "# [7]\n"
   ]
  },
  {
   "cell_type": "markdown",
   "metadata": {},
   "source": [
    "### Excercise 4\n",
    "\n",
    "#### Lists with numeric values\n",
    "\n",
    "Use the *range()* function and according start, stop, step values to create the following lists of numeric values:\n",
    "\n",
    "- **Liste 1:** Whole numbers from 0 - 100\n",
    "\n",
    "- **Liste 2:** Even (dt. gerade) numbers between 0 - 100\n",
    "\n",
    "- **Liste 3:** Odd (dt. ungerade) numbers from 0 - 100"
   ]
  },
  {
   "cell_type": "code",
   "execution_count": null,
   "metadata": {},
   "outputs": [],
   "source": [
    "#[8]\n"
   ]
  },
  {
   "cell_type": "markdown",
   "metadata": {},
   "source": [
    "#### Slicing\n",
    "\n",
    "- Print the first 30 elements from list 1 from above.\n",
    "\n",
    "- Print the last 30 elements from list 1 (hint: use a negative index here).\n",
    "\n",
    "- Print the numbers 30 to 50 from list 1."
   ]
  },
  {
   "cell_type": "code",
   "execution_count": null,
   "metadata": {},
   "outputs": [],
   "source": [
    "#[9]\n",
    "\n"
   ]
  },
  {
   "cell_type": "markdown",
   "metadata": {},
   "source": [
    "### Exercise 5\n",
    "\n",
    "#### Personal data\n",
    "\n",
    "- Create a dictionary with information about a friend... real or imaginary ;). Save his/her first name, last name and age. \n",
    "\n",
    "- Print the age of this person. \n",
    "\n",
    "- Add the city of residence as another key:value pair to your dictionary."
   ]
  },
  {
   "cell_type": "code",
   "execution_count": null,
   "metadata": {},
   "outputs": [],
   "source": [
    "# [10]\n"
   ]
  },
  {
   "cell_type": "markdown",
   "metadata": {},
   "source": [
    "## ENDE"
   ]
  }
 ],
 "metadata": {
  "kernelspec": {
   "display_name": "Python 3.8.8 ('base')",
   "language": "python",
   "name": "python3"
  },
  "language_info": {
   "codemirror_mode": {
    "name": "ipython",
    "version": 3
   },
   "file_extension": ".py",
   "mimetype": "text/x-python",
   "name": "python",
   "nbconvert_exporter": "python",
   "pygments_lexer": "ipython3",
   "version": "3.11.5"
  },
  "toc": {
   "base_numbering": 1,
   "nav_menu": {},
   "number_sections": true,
   "sideBar": true,
   "skip_h1_title": false,
   "title_cell": "Table of Contents",
   "title_sidebar": "Contents",
   "toc_cell": false,
   "toc_position": {},
   "toc_section_display": true,
   "toc_window_display": false
  },
  "vscode": {
   "interpreter": {
    "hash": "e4cce46d6be9934fbd27f9ca0432556941ea5bdf741d4f4d64c6cd7f8dfa8fba"
   }
  }
 },
 "nbformat": 4,
 "nbformat_minor": 4
}
