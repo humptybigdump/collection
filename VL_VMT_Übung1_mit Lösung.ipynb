{
  "cells": [
    {
      "cell_type": "markdown",
      "metadata": {
        "collapsed": false,
        "id": "my60D_p2Bv_s"
      },
      "source": [
        "## Auswertung von Verkehrsdaten\n",
        "\n",
        "Übung zur Vorlesung \"Verkehrsmanagement und Telematik\"\n",
        "\n"
      ]
    },
    {
      "cell_type": "markdown",
      "metadata": {
        "collapsed": false,
        "id": "qwHT8O9NBv_v"
      },
      "source": [
        "### 1. Kleine Einführung in die Programmierung mit Python\n",
        "\n"
      ]
    },
    {
      "cell_type": "markdown",
      "metadata": {
        "collapsed": false,
        "id": "ZmsVuDNFBv_y"
      },
      "source": [
        "Wir beginnen damit ein paar \\(wenige, aber wichtige\\) Befehle in Python kennen zu lernen. Dies ist nicht als Pythontutorial zu verstehen, es soll nur ein kurzen Überlick geben werden, wie man mit der Programmiersprache Python Verkehrsdaten auswerten kann. Will man weiter mit Python arbeiten, empfielt sich die Installation, z.B. von Anaconda: https://www.anaconda.com/products/distribution.\n",
        "\n",
        "Los gehts: Führe den folgenden Programmiercode aus:\n"
      ]
    },
    {
      "cell_type": "code",
      "execution_count": null,
      "metadata": {
        "colab": {
          "base_uri": "https://localhost:8080/"
        },
        "id": "qrWKK01KBv_0",
        "outputId": "278b4d0f-bc9b-457c-bb8d-a7fc128c1566"
      },
      "outputs": [],
      "source": [
        "print('Hello world')"
      ]
    },
    {
      "cell_type": "markdown",
      "metadata": {
        "collapsed": false,
        "id": "V3Wot6_bBv_2"
      },
      "source": [
        "Hier wurde die `print()`\\-Funktion verwendet. Sie gibt Zeichenketten und andere Datentypen im Notebook aus. Ist man sich nicht sicher, was ein komplexerer Programmiercode tut, kann diese Funktion nützlich sein, um Fehler zu finden \\(debuggen\\). Führe den folgenden Programmiercode aus:\n",
        "\n"
      ]
    },
    {
      "cell_type": "code",
      "execution_count": null,
      "metadata": {
        "colab": {
          "base_uri": "https://localhost:8080/"
        },
        "id": "W8qnc1SsBv_3",
        "outputId": "67af8abd-c287-4d95-99cb-c2d299979928"
      },
      "outputs": [],
      "source": [
        "name = 'Anna' #Ersetzte Anna durch deinen Namen\n",
        "print('Hello ' + name + '!')"
      ]
    },
    {
      "cell_type": "markdown",
      "metadata": {
        "collapsed": false,
        "id": "aqVJgADrBv_4"
      },
      "source": [
        "Anmerkungen:\n",
        "\n",
        "- `name` ist hier die Bezeichnung einer Variable \\(sie kann als Platzhalter für verschiedene Werte gesehen werden\\). Durch das \"`=`\" wird der Variable ein Wert zugeordnet.\n",
        "- Kommentare werden in Python mit `#` vom Code unterschieden; bei der Ausführung des Codes werden diese Teile ignoriert.\n",
        "- Zwei Zeichenketten können durch \"`+`\" zusammengefügt werden. Man bezeichnet Zeichenketten als Strings \\(`str`\\).  Sie stehen in Anführungszeichen, um sie von Variablennamen zu unterscheiden. Strings sind einer von vielen Datentypen, die in Python verwendet werden. Weitere wichtige Datentypen sind hier aufgelistet: [https://www.hdm\\-stuttgart.de/~maucher/Python/html/Datentypen.html](https://www.hdm-stuttgart.de/~maucher/Python/html/Datentypen.html), u.a. Ganzzahlen \\(`int`\\), boolsche Werte \\(`bool,` sie nehmen die Werte `True` oder `False` an\\) und sequenzielle Datentypen wie Listen, Tupel, ...\n",
        "\n"
      ]
    },
    {
      "cell_type": "markdown",
      "metadata": {
        "collapsed": false,
        "id": "wvueubYdBv_5"
      },
      "source": [
        "#### For\\-Schleifen und if\\-statements\n",
        "\n",
        "Eine for\\-Schleife ist eine wiederholte Ausführung des Programmiercodes, meist unter Variation von bestimmten Werten. \n",
        "\n"
      ]
    },
    {
      "cell_type": "code",
      "execution_count": null,
      "metadata": {
        "id": "3ZJDET_UBv_7"
      },
      "outputs": [],
      "source": [
        "for i in range(5): #Doppelpunkt nicht vergessen\n",
        "    print(i)"
      ]
    },
    {
      "cell_type": "markdown",
      "metadata": {
        "collapsed": false,
        "id": "hRtQdiioBv_-"
      },
      "source": [
        "for\\-Schleifen werden in Python mit dem Schlüsselwort '`for`' eingeführt. Es folgt eine Iterationsvariable \\(hier `i`\\) und ein Iterationsbereich \\(hier `range(5), range(5) = 0, 1, 2, 3, 4`\\). Der Körper der for\\-Schleife ist eingerückt und wird für alle Elemente im Iterationsbereich ausgeführt. \n"
      ]
    },
    {
      "cell_type": "markdown",
      "metadata": {
        "collapsed": false,
        "id": "w6Bl5HbtBv__"
      },
      "source": [
        "Ein if-statement prüft vor der Ausführung des Codes, ob eine bestimmte Bedingung erfüllt ist:\n",
        "\n"
      ]
    },
    {
      "cell_type": "code",
      "execution_count": null,
      "metadata": {
        "id": "NLF_Lq6tBwAB"
      },
      "outputs": [],
      "source": [
        "a = 7\n",
        "if a > 5:\n",
        "    print(a)"
      ]
    },
    {
      "cell_type": "markdown",
      "metadata": {
        "id": "tga061i1Z7IC"
      },
      "source": [
        "Durch `else` wird Code definiert, der ausgeführt wird, falls die Bedingung nicht erfüllt ist. Das 'else'-statement ist optional."
      ]
    },
    {
      "cell_type": "code",
      "execution_count": null,
      "metadata": {
        "id": "SGm0FW0IBwAB"
      },
      "outputs": [],
      "source": [
        "a = 4\n",
        "if a > 5:\n",
        "    print(a)\n",
        "else:\n",
        "    print('a is less than or equal to 5')"
      ]
    },
    {
      "cell_type": "markdown",
      "metadata": {
        "id": "RKS5dGNraVJH"
      },
      "source": [
        "Bedingungen können unterschiedlich formuliert werden. Durch '==' wird überprüft, ob a genau den Wert 5 hat (Vergleichsoperator). Zur Erinnerung: ein einfaches '=' ist für die Variablenzuweisung:\n",
        "- `a == 4` entspricht der Antwort auf die Frage \"Ist a gleich 4?\"\n",
        "- `a = 4` entspricht dem Befehl \"Setzte a auf 4!\""
      ]
    },
    {
      "cell_type": "code",
      "execution_count": null,
      "metadata": {
        "id": "jMfFQQ9lZxAP"
      },
      "outputs": [],
      "source": [
        "a = 4\n",
        "if a == 4:\n",
        "    print('a equals 4')"
      ]
    },
    {
      "cell_type": "markdown",
      "metadata": {
        "collapsed": false,
        "id": "wcrPVNKoBwAD"
      },
      "source": [
        "#### Funktionen\n",
        "\n",
        "Oft muss ein und dieselbe Aufgabe erledigt werden, jedoch mit unterschiedlichen Parametern \\(z.B. das Ausgeben von Text auf einer Konsole\\). Zu diesem Zweck können wir Funktionen \\([https://docs.python.org/3/tutorial/controlflow.html\\#defining\\-functions](https://docs.python.org/3/tutorial/controlflow.html#defining-functions)\\) erstellen. Ein Beispiel für eine Funkton ist `print()`. Funktionen können verschiedene Argumente entgegennehmen und auch Werte zurückgeben, wie wir gleich an einem Beispiel sehen werden.\n",
        "\n",
        "In Python werden Funktionen mit dem Schlüsselwort `def` eingeführt:\n"
      ]
    },
    {
      "cell_type": "code",
      "execution_count": null,
      "metadata": {
        "colab": {
          "base_uri": "https://localhost:8080/"
        },
        "id": "f39YIwYDBwAD",
        "outputId": "713027e4-7bc2-4489-8c94-2f7f05d466c5"
      },
      "outputs": [],
      "source": [
        "def my_sum(a, b):  # Doppelpunkt nicht vergessen!\n",
        "    \"\"\"Berechnet a+b.\n",
        "    \n",
        "    Das hier ist eine Dokumentation der Funktion (Docstring)\n",
        "    \"\"\"\n",
        "    c = a+b\n",
        "    return c\n",
        "\n",
        "\n",
        "a = 13\n",
        "b = -3\n",
        "result = my_sum(a,b)\n",
        "print(result)"
      ]
    },
    {
      "cell_type": "markdown",
      "metadata": {
        "collapsed": false,
        "id": "HvzX_OHzBwAE"
      },
      "source": [
        "Hier legen wir zuerst eine Funktion mit dem Namen `my_sum` an, welche zwei Argumente, die wir hier `a` und `b` genannt haben, erwartet. Eine Funktion kann im Prinzip beliebig viele Argumente erwarten, die mit einem Komma voneinander getrennt werden. Sämtlicher Code der danach eingerückt ist gehört zu der Funktion! In diesem Fall wird einfach nur die Summe der beiden Zahlen mittels des `return` Befehls zurückgegeben. Durch das `return` ist es möglich, das Ergebnis auch außerhalb der Funktion zu speichern \\(hier in der Variable `result`\\) und weiter zu verwenden \\(z.B. mit einem`print()`Befehl\\). Eine Funktion muss nichts zurückgeben \\(es muss kein `return` geben\\). Python gibt dann einen speziellen Wert zurück, nämlich `None`.\n",
        "\n"
      ]
    },
    {
      "cell_type": "markdown",
      "metadata": {
        "id": "RZEYLhyucD0R"
      },
      "source": [
        "### Daten"
      ]
    },
    {
      "cell_type": "markdown",
      "metadata": {
        "collapsed": false,
        "id": "Bzdkx7cPBwAE"
      },
      "source": [
        "Häufig muss man Funktionen nicht selbst schreiben, sondern kann bereits existierende Funktionen nutzen, ohne im Detail verstehen zu müssen, wie sie programmiert wurden. Solche Funktionen sind in Bibliotheken verfügbar, die man über den Befehl `import` einbinden kann. Eine wichtige Bibliothek zur Auswertung von Daten in tabellarischem Format ist die Python\\-Bibliothek pandas \\(von engl. panel data\\). Zum Plotten verwenden wir die Bibliothek plotly \\(siehe weiter unten\\). Durch die Nutzung dieser und anderer Bibliotheken wird die Mächtigkeit der Datenauswertung mit Python deutlich. \n",
        "\n",
        "Der folgende Befehl importiert pandas und wir nutzen die gängige Abkürzung `pd`, um Funktionen aus der Bibliothek aufzurufen.\n"
      ]
    },
    {
      "cell_type": "code",
      "execution_count": null,
      "metadata": {
        "id": "CcHr0OsoBwAF"
      },
      "outputs": [],
      "source": [
        "import pandas as pd"
      ]
    },
    {
      "cell_type": "markdown",
      "metadata": {
        "id": "Kd6p9K-VYZ7y"
      },
      "source": [
        "Außerdem brauchen wir noch die Daten, die wir auswerten wollen. Im folgenden sind das:\n",
        "- Radarmessungen vom Adenauerring (Adenauerring Mitte.txt)\n",
        "- ANPR-Daten (Kennzeichenerfassung) von der Kriegsstraße (A1.csv, A4.csv)\n",
        "- Detektordaten von der A57 (verkehrsdaten_5min_HFB_m.csv)"
      ]
    },
    {
      "cell_type": "code",
      "execution_count": null,
      "metadata": {
        "id": "ketFg_18ZC-Q"
      },
      "outputs": [],
      "source": [
        "from google.colab import files\n",
        "uploaded = files.upload()"
      ]
    },
    {
      "cell_type": "markdown",
      "metadata": {
        "id": "LerzJefsbdnX"
      },
      "source": [
        "Jetzt können wir damit beginnen Daten auszuwerten:)"
      ]
    },
    {
      "cell_type": "markdown",
      "metadata": {
        "collapsed": false,
        "id": "sbDCiMZxBwAF"
      },
      "source": [
        "### 2. Nachfrage bestimmen \\(Ganglinie\\)\n",
        "\n"
      ]
    },
    {
      "cell_type": "code",
      "execution_count": null,
      "metadata": {
        "id": "RGXmbachBwAG"
      },
      "outputs": [],
      "source": [
        "df_radar = pd.read_csv('Adenauerring Mitte.txt', delimiter = \"\\t\", names = ['Datum', 'Uhrzeit', 'Länge[dm]', 'Geschwindigkeit', 'Kategorie', 'Zeitlücke', 'Richtung'])\n",
        "df_radar = df_radar.reset_index(drop=True)\n",
        "print(df_radar)"
      ]
    },
    {
      "cell_type": "markdown",
      "metadata": {
        "collapsed": false,
        "id": "_94Z4rUnBwAG"
      },
      "source": [
        "Wir haben die Radar\\-Daten 'Adenauerring Mitte.txt' in einer Tabelle, einem sogenannten Dataframe \\(kurz df\\) gespeichet. Dies ist die zentrale Datenstruktur von Pandas. Die pandas\\-Funktion `read_csv` hat viele \\(optionale\\) Inputparameter, vgl. [https://pandas.pydata.org/docs/reference/api/pandas.read\\_csv.html](https://pandas.pydata.org/docs/reference/api/pandas.read_csv.html). Wir haben folgende genutzt:\n",
        "\n",
        "- Den Namen der Datei:  'Adenauerring Mitte.txt' \\(dieser Input ist nicht optional!\\)\n",
        "- delimiter \\(Trennzeichen\\): Die Spalten sind hier durch Tabs voneinander getrennt. Die Abkürzung dafür ist '\\\\t'. Andere häufige delimiter sind ',' oder ';'.\n",
        "- names: Eine Liste mit den Spaltennamen, die wir verwenden wollen.\n",
        "\n",
        "In der zweiten Zeile haben wir die erste Spalte \\(leere Werte, gespiechert als `NaN` = Not a number\\) gelöscht. Anschließend haben wir print verwendet, um uns das Ergebnis anzuschauen.\n",
        "\n",
        "Um diese einzelnen Schritte besser zu verstehen, kannst du die obige Funktion mal mit weniger Input\\-Parametern laufen lassen und anschauen, wie dann der Output aussieht.\n",
        "\n"
      ]
    },
    {
      "cell_type": "markdown",
      "metadata": {
        "collapsed": false,
        "id": "WezS4Ff_BwAG"
      },
      "source": [
        "Um die Daten etwas besser zu verstehen und sie zu validieren, ist es sinnvoll die `print()`\\-Funktion zu verwenden, wie wir es eben gemacht haben. Weitere nützliche Funktionen sind `head()`, hier werden nur die ersten fünf Zeilen ausgegeben und `describe()`, das die wichtigsten Werte wie Minimum, Maximum, Mittelwert, etc. der Daten zusammenfasst.\n"
      ]
    },
    {
      "cell_type": "code",
      "execution_count": null,
      "metadata": {
        "id": "L-gETp7PBwAH"
      },
      "outputs": [],
      "source": [
        "print(df_radar.head())"
      ]
    },
    {
      "cell_type": "code",
      "execution_count": null,
      "metadata": {
        "colab": {
          "base_uri": "https://localhost:8080/"
        },
        "id": "-qS8HioDcqqd",
        "outputId": "70f020da-fc23-41a3-95a8-35b38aafc739"
      },
      "outputs": [],
      "source": [
        "print(df_radar.describe())"
      ]
    },
    {
      "cell_type": "markdown",
      "metadata": {
        "collapsed": false,
        "id": "x5y3iRLBBwAH"
      },
      "source": [
        "Angenommen wir benötigen nur die Nachfrage einer Richtung und nur vom 2. Dezember 2020. Wir müssen unseren Dataframe nach der Richtung \\(letzte Spalte\\) und nach dem Datum \\(erste Spalte\\) filtern:\n",
        "\n"
      ]
    },
    {
      "cell_type": "code",
      "execution_count": null,
      "metadata": {
        "colab": {
          "base_uri": "https://localhost:8080/"
        },
        "id": "XelQqtcgBwAI",
        "outputId": "b7eaf406-0b0b-47df-f80d-8450e0e52ecb"
      },
      "outputs": [],
      "source": [
        "df_radar = df_radar[df_radar['Richtung'] == '+']\n",
        "df_radar = df_radar[df_radar['Datum'] == '2020-12-02']\n",
        "print(df_radar)"
      ]
    },
    {
      "cell_type": "markdown",
      "metadata": {
        "collapsed": false,
        "id": "ul9s27yNBwAI"
      },
      "source": [
        "Zum besseren Verständnis, kann man beispielsweise die erste Zeile folgendermaßen lesen: \"\\(Das neue\\) df\\_radar ist \\(das alte\\) df\\_radar, bei dem df\\_radar\\['Richtung'\\] den Wert '\\+' hat.\""
      ]
    },
    {
      "cell_type": "markdown",
      "metadata": {
        "id": "FJvxywnmc9lE"
      },
      "source": [
        "Als nächstes möchten wir die Ergebnisse zu Zeitintervallen aggregieren. Dazu müssen wir ein Zeitformat einführen und die Funktion `resample` verwenden. \n",
        "\n",
        "- In Zeile 1 erzeugen wir eine neue Spalte, in dem wir einen noch ungenutzen Spaltennamen \\(hier Datetime\\) verwenden. Die pandas Funktion `to_datetime` wandelt nun die Spalten \"Datum\" und \"Uhrzeit\" in ein Zeitformat um, das dann in dieser neuen Spalte gespeichert wird.\n",
        "- Wir benötigen eine Spalte Verkehrsstärke, über die wir später aggregieren können. Da jeder Eintrag \\(jede Zeile\\) genau ein Fahrzeug repräsentiert, setzten wir die Verkehrsstärke erstmal auf 1.\n",
        "- Die Funktion resample aggregiert nun stundenweise \\('H' für hour\\) die Spalte Datetime. Und gibt ein sogenanntes \"Resampler Object\" zurück.\n",
        "- Von diesem Objekt können wir uns nun beispielsweise die Verkehrsstärke und die mittlere Geschwindigkeit anschauen."
      ]
    },
    {
      "cell_type": "code",
      "execution_count": null,
      "metadata": {
        "colab": {
          "base_uri": "https://localhost:8080/"
        },
        "id": "gTe78HVUBwAI",
        "outputId": "89f382f7-07f4-40a8-e399-f9b99e92db87"
      },
      "outputs": [],
      "source": [
        "df_radar['Datetime'] = pd.to_datetime(df_radar['Datum'] + ' ' + df_radar['Uhrzeit'])\n",
        "df_radar['Verkehrsstärke'] = 1\n",
        "df_radar_resampled = df_radar.resample('H', on='Datetime')\n",
        "\n",
        "df_radar_q = df_radar_resampled.Verkehrsstärke.count()\n",
        "df_radar_v = df_radar_resampled.Geschwindigkeit.mean()\n",
        "print(df_radar_q.head())\n",
        "print(df_radar_v.head())\n"
      ]
    },
    {
      "cell_type": "markdown",
      "metadata": {
        "collapsed": false,
        "id": "A02cccB8BwAJ"
      },
      "source": [
        "Die Daten sind nun so gut aufbereitet, dass wir sie plotten können. Dazu verwenden wir einen line-Plot der Bibliothek plotly express."
      ]
    },
    {
      "cell_type": "code",
      "execution_count": null,
      "metadata": {
        "colab": {
          "base_uri": "https://localhost:8080/",
          "height": 542
        },
        "id": "kVH911FwBwAJ",
        "outputId": "1f297d57-cfc9-4912-a4f6-fe2477883cc1"
      },
      "outputs": [],
      "source": [
        "import plotly.express as px\n",
        "fig = px.line(df_radar_q, title = 'Ganglinie Adenauerring 2. Dezember 2020')\n",
        "fig.show()"
      ]
    },
    {
      "cell_type": "markdown",
      "metadata": {
        "collapsed": false,
        "id": "XtJCgb0tBwAJ"
      },
      "source": [
        "### 3. Geschwindigkeits\\- und Zeitlückenverteilungen\n",
        "\n"
      ]
    },
    {
      "cell_type": "markdown",
      "metadata": {
        "collapsed": false,
        "id": "EvNdXEl2BwAJ"
      },
      "source": [
        "Als nächstes möchten wir uns die Geschwindigkeitsverteilung auf dem Adenauerring anschauen. Wir nutzen dafür die plotly express plots \"Histogram\" und \"ecdf\" \\(empirical cumulative distribution function\\). Falls man eine bestimmte Plotly-Funktion sucht (z.B. ein Histogramm), reicht es häufig nach \"plotly histogram\" zu googeln. Man landet dann bei der plotly-Dokumentation, die sehr anschaulich aufbereitet ist: https://plotly.com/python/histograms/\n",
        "\n"
      ]
    },
    {
      "cell_type": "code",
      "execution_count": null,
      "metadata": {
        "colab": {
          "base_uri": "https://localhost:8080/",
          "height": 1000
        },
        "id": "U-DPmVr7BwAK",
        "outputId": "e3bc5d77-46fb-45a2-d178-56ed8330b6b1",
        "scrolled": true
      },
      "outputs": [],
      "source": [
        "#Histogramm\n",
        "\n",
        "#nbins = number of bins\n",
        "fig = px.histogram(df_radar, x=\"Geschwindigkeit\", title = 'Histogramm Geschwindigkeiten Adenauerring 2. Dezember 2020', nbins=100) \n",
        "fig.show()\n",
        "\n",
        "\n",
        "#Verteilungsfunktion\n",
        "\n",
        "fig = px.ecdf(df_radar, x=\"Geschwindigkeit\", title = 'Geschwindigkeitsverteilung Adenauerring 2. Dezember 2020')\n",
        "#die y-Achse soll neu beschriftet werden\n",
        "fig.update_yaxes(title_text= 'Kumulierte relative Häufigkeit')\n",
        "fig.show()\n"
      ]
    },
    {
      "cell_type": "markdown",
      "metadata": {
        "collapsed": false,
        "id": "QeU9YfDyBwAK"
      },
      "source": [
        "Neben der Geschwindigkeitsverteilung, kann man sich beispielsweise auch die Zeitlückenverteilung anschauen. Zuerst werden die Zeitlücken zu numerischen Werten \\(bisher Strings mit Komma als Dezimalzeichen\\) formatiert.\n"
      ]
    },
    {
      "cell_type": "code",
      "execution_count": null,
      "metadata": {
        "id": "9_8CdSoyBwAL"
      },
      "outputs": [],
      "source": [
        "#ersetze Komma durch Punkt\n",
        "df_radar['Zeitlücke'] = df_radar['Zeitlücke'].apply(lambda x: x.replace(',','.'))\n",
        "\n",
        "#wandle String in numerischen Datentyp um\n",
        "df_radar['Zeitlücke'] = pd.to_numeric(df_radar['Zeitlücke'])"
      ]
    },
    {
      "cell_type": "markdown",
      "metadata": {
        "collapsed": false,
        "id": "OKW78klZBwAM"
      },
      "source": [
        "Wie eben definieren wir uns bins. In den Daten ist bei Zeitlücken größer als 25.5 Sekunden ebenfalls der Wert 25.5 vermerkt. Deswegen schauen wir uns nur die Verteilung bis 25 Sekunden an. Verwollständige den Code analog zur Geschwindigkitsverteilung oben:\n"
      ]
    },
    {
      "cell_type": "code",
      "execution_count": null,
      "metadata": {
        "id": "eNnVJHXUBwAM"
      },
      "outputs": [],
      "source": [
        "fig = #TODO\n",
        "fig.show()"
      ]
    },
    {
      "cell_type": "code",
      "execution_count": null,
      "metadata": {
        "colab": {
          "base_uri": "https://localhost:8080/",
          "height": 542
        },
        "id": "Z6MRpfisBwAN",
        "outputId": "1634e390-7e49-4b70-8678-233940615057"
      },
      "outputs": [],
      "source": [
        "#LÖSUNG\n",
        "fig = px.histogram(df_radar, x=\"Zeitlücke\", title = 'Zeitlücken Adenauerring 2. Dezember 2020', nbins = 50)\n",
        "fig.show()"
      ]
    },
    {
      "cell_type": "markdown",
      "metadata": {
        "collapsed": false,
        "id": "9qGRX-riBwAN"
      },
      "source": [
        "### 4. Reisezeiten\n",
        "\n"
      ]
    },
    {
      "cell_type": "markdown",
      "metadata": {
        "collapsed": false,
        "id": "6H9N-itiBwAN"
      },
      "source": [
        "Mit den ANPR\\-Daten können wir Reisezeiten berechnen. Vieles machen wir ähnlich wie oben.\n"
      ]
    },
    {
      "cell_type": "code",
      "execution_count": null,
      "metadata": {
        "id": "_8roFlJoBwAO",
        "scrolled": true
      },
      "outputs": [],
      "source": [
        "#Einlesen und Formatieren der Daten\n",
        "df_ANPR1 = pd.read_csv('A1.csv', delimiter = ';', encoding= 'unicode_escape', names = ['ID', 'Land', 'Datum', 'Spur', 'SpurID', 'Kennzeichen', 'Ort', 'Uhrzeit', 'FahrzeugTyp', 'Zulassungs-Bezirk', 'ConfLvl', '1', '2', '3'], header = 1, usecols = ['Datum', 'Uhrzeit', 'Kennzeichen'])\n",
        "df_ANPR2 = pd.read_csv('A4.csv', delimiter = ';', encoding= 'unicode_escape', names = ['ID', 'Land', 'Datum', 'Spur', 'SpurID', 'Kennzeichen', 'Ort', 'Uhrzeit', 'FahrzeugTyp', 'Zulassungs-Bezirk', 'ConfLvl', '1', '2', '3'], header = 1, usecols = ['Datum', 'Uhrzeit', 'Kennzeichen'])\n",
        "\n",
        "#Filtern nach dem 28. September 2021\n",
        "df_ANPR1 = df_ANPR1[df_ANPR1['Datum'] == '28.09.2021']\n",
        "df_ANPR2 = df_ANPR2[df_ANPR2['Datum'] == '28.09.2021']\n",
        "\n",
        "#Zeiten im Datetime-Format speichern und löschen der Spalten Datum und Uhrzeit\n",
        "df_ANPR1['Datetime_in'] = pd.to_datetime(df_ANPR1['Datum'] + ' ' + df_ANPR1['Uhrzeit'])\n",
        "df_ANPR2['Datetime_out'] = pd.to_datetime(df_ANPR2['Datum'] + ' ' + df_ANPR2['Uhrzeit'])\n",
        "df_ANPR1 = df_ANPR1.drop(columns=['Datum', 'Uhrzeit'])\n",
        "df_ANPR2 = df_ANPR2.drop(columns=['Datum', 'Uhrzeit'])"
      ]
    },
    {
      "cell_type": "markdown",
      "metadata": {
        "collapsed": false,
        "id": "PxhApzbcBwAO"
      },
      "source": [
        "Wir überprüfen im Folgenden ein paar Voraussetzungen, um sinnvolle Reisezeiten bestimmen zu können.\n"
      ]
    },
    {
      "cell_type": "code",
      "execution_count": null,
      "metadata": {
        "colab": {
          "base_uri": "https://localhost:8080/"
        },
        "id": "D0V0_Z12BwAO",
        "outputId": "bbfdf250-97ae-4c73-a3cb-c106df808617"
      },
      "outputs": [],
      "source": [
        "#An einer Messstation mehrfach erfasste Kennzeichen\n",
        "is_unique = df_ANPR1[\"Kennzeichen\"].is_unique\n",
        "print('Wurden Kennzeichen höchstens einmal an Messstation 1 erfasst? ' + str(is_unique))\n",
        "#wir verwenden nur die jeweils erste Erfassung\n",
        "df_ANPR1 = df_ANPR1.drop_duplicates(subset=['Kennzeichen']) \n",
        "df_ANPR2 = df_ANPR2.drop_duplicates(subset=['Kennzeichen'])\n",
        "\n",
        "#Kennzeichen, die an beiden Messstationen erfasst wurden (sonst können wir keine Reisezeiten bestimmen)\n",
        "Kennzeichen1 = set(df_ANPR1['Kennzeichen'])\n",
        "Kennzeichen2 = set(df_ANPR2['Kennzeichen'])\n",
        "\n",
        "print('Anzahl der Kennzeichen, die an beiden Stationen erfasst wurden: '+ str(len(Kennzeichen1 & Kennzeichen2)))"
      ]
    },
    {
      "cell_type": "markdown",
      "metadata": {
        "collapsed": false,
        "id": "mMAk4LkbBwAO"
      },
      "source": [
        "Nun können wir die Daten mergen und nach obigen Erkennntnissen filtern, sowie die Reisezeiten berechnen. Verwende print\\-Funktionen, um die einzelnen Schritte nachzuvollziehen.\n",
        "\n"
      ]
    },
    {
      "cell_type": "code",
      "execution_count": null,
      "metadata": {
        "id": "AedyWHPCBwAP"
      },
      "outputs": [],
      "source": [
        "#Mergen der Daten\n",
        "df_ANPR1 = df_ANPR1.set_index('Kennzeichen')\n",
        "df_ANPR2 = df_ANPR2.set_index('Kennzeichen')\n",
        "df_ANPR = pd.concat([df_ANPR1, df_ANPR2], axis = 1, join = 'inner')"
      ]
    },
    {
      "cell_type": "code",
      "execution_count": null,
      "metadata": {
        "colab": {
          "base_uri": "https://localhost:8080/"
        },
        "id": "_8CvO1g4BwAP",
        "outputId": "b681a49b-3e7b-4c90-d9d7-3a2e7a86d321"
      },
      "outputs": [],
      "source": [
        "#Reisezeiten bestimmen und in Sekunden umrechnen\n",
        "df_ANPR['Reisezeit'] = df_ANPR['Datetime_out'] - df_ANPR['Datetime_in']\n",
        "df_ANPR['Reisezeit[s]'] = df_ANPR['Reisezeit'].apply(lambda x: x.total_seconds())\n",
        "\n",
        "#Filterung\n",
        "df_ANPR = df_ANPR[df_ANPR['Datetime_out'] > df_ANPR['Datetime_in']]\n",
        "df_ANPR = df_ANPR[df_ANPR['Reisezeit'] < df_ANPR['Reisezeit'].quantile(.90)]\n",
        "\n",
        "print(df_ANPR)"
      ]
    },
    {
      "cell_type": "code",
      "execution_count": null,
      "metadata": {
        "colab": {
          "base_uri": "https://localhost:8080/",
          "height": 542
        },
        "id": "nttLG3H2BwAP",
        "outputId": "b4f1b1c1-1093-4747-b807-5b24376b3a16"
      },
      "outputs": [],
      "source": [
        "import plotly.express as px\n",
        "fig = px.scatter(df_ANPR, x = 'Datetime_in', y = 'Reisezeit[s]')\n",
        "#die y-Achse soll bei 0 starten und bis zum maximalen Wert gehen\n",
        "max = df_ANPR['Reisezeit[s]'].max()\n",
        "fig.update_yaxes(range = [0, max])\n",
        "fig.show()"
      ]
    },
    {
      "cell_type": "markdown",
      "metadata": {
        "collapsed": false,
        "id": "xRWh7bkbBwAQ"
      },
      "source": [
        "### 5. q\\-v\\-Diagramme\n",
        "\n"
      ]
    },
    {
      "cell_type": "markdown",
      "metadata": {
        "id": "Haez1LUHmfaU"
      },
      "source": [
        "Zum Abschluss schauen wir uns noch q-v-Diagramme von Autobahndaten an."
      ]
    },
    {
      "cell_type": "code",
      "execution_count": null,
      "metadata": {
        "colab": {
          "base_uri": "https://localhost:8080/"
        },
        "id": "GE5ndw_MBwAQ",
        "outputId": "3509c099-c6e4-4c7a-d4fc-36bd7ba3a2da"
      },
      "outputs": [],
      "source": [
        "df_Detektor = pd.read_csv('verkehrsdaten_5min_HFB_m.csv', usecols = ['datum', 'position', 'q_kfz_gesamt', 'v_kfz_gesamt', 'q_pkw_gesamt',\n",
        "       'v_pkw_gesamt', 'q_lkw_gesamt', 'v_lkw_gesamt'])\n",
        "print(df_Detektor.head())"
      ]
    },
    {
      "cell_type": "markdown",
      "metadata": {
        "id": "gCQJuMWzmhn8"
      },
      "source": [
        "Wir wollen eine zusätzliche Spalte mit dem Schwerverkehrsanteil hinzufügen:"
      ]
    },
    {
      "cell_type": "code",
      "execution_count": null,
      "metadata": {
        "colab": {
          "base_uri": "https://localhost:8080/"
        },
        "id": "7xfM7OMNBwAS",
        "outputId": "e6a11a62-cff5-4738-a1e7-b75d66778bfa"
      },
      "outputs": [],
      "source": [
        "df_Detektor['SV-Anteil[%]'] = df_Detektor['q_lkw_gesamt'] / df_Detektor['q_kfz_gesamt'] *100\n",
        "print(df_Detektor.head())"
      ]
    },
    {
      "cell_type": "markdown",
      "metadata": {
        "id": "rb7NlTgYuS_v"
      },
      "source": [
        "Hier nun ein erster q-v-Plot:"
      ]
    },
    {
      "cell_type": "code",
      "execution_count": null,
      "metadata": {
        "colab": {
          "base_uri": "https://localhost:8080/",
          "height": 542
        },
        "id": "AV0R4d9CBwAT",
        "outputId": "41b53f65-47d4-441a-fb19-a71a94cde002"
      },
      "outputs": [],
      "source": [
        "import plotly.express as px\n",
        "fig = px.scatter(df_Detektor, x='q_kfz_gesamt', y='v_kfz_gesamt', labels = {'q_kfz_gesamt': 'Verkehrsstärke', 'v_kfz_gesamt': 'Geschwindigkeit'})\n",
        "fig.show()"
      ]
    },
    {
      "cell_type": "markdown",
      "metadata": {
        "id": "XxSJjxBWua1R"
      },
      "source": [
        "Und nach dem Schwerverkehrsanteil eingefärbt:"
      ]
    },
    {
      "cell_type": "code",
      "execution_count": null,
      "metadata": {
        "colab": {
          "base_uri": "https://localhost:8080/",
          "height": 542
        },
        "id": "-s5bln5qBwAT",
        "outputId": "43d19775-aece-492b-f4f9-6d31bdc2c325"
      },
      "outputs": [],
      "source": [
        "fig = px.scatter(df_Detektor, x='q_kfz_gesamt', y='v_kfz_gesamt', labels = {'q_kfz_gesamt': 'Verkehrsstärke', 'v_kfz_gesamt': 'Geschwindigkeit'}, color = df_Detektor['SV-Anteil[%]'])\n",
        "fig.show()"
      ]
    },
    {
      "cell_type": "markdown",
      "metadata": {
        "id": "YDDXeoANulLf"
      },
      "source": [
        "Oder getrennt nach Lkw und Pkw. Achtung: hier wird eine andere Unterbibliothek, nämlich plotly graph_objects verwendet. Der Syntax dafür ist etwas anders."
      ]
    },
    {
      "cell_type": "code",
      "execution_count": null,
      "metadata": {
        "colab": {
          "base_uri": "https://localhost:8080/",
          "height": 542
        },
        "id": "BaG0k_wEBwAU",
        "outputId": "8aa539ab-920c-496e-c5a5-eba2bc003f8a"
      },
      "outputs": [],
      "source": [
        "import plotly.graph_objects as go\n",
        "fig = go.Figure()\n",
        "fig.add_trace(go.Scatter(x=df_Detektor['q_pkw_gesamt'], y=df_Detektor['v_pkw_gesamt'], mode='markers', name='Pkw'))\n",
        "fig.add_trace(go.Scatter(x=df_Detektor['q_lkw_gesamt'], y=df_Detektor['v_lkw_gesamt'], mode='markers', name='Lkw'))\n",
        "fig.update_xaxes(title = 'Verkehrsstärke')\n",
        "fig.update_yaxes(title = 'Geschwindigkeit')\n",
        "fig.show()"
      ]
    },
    {
      "cell_type": "markdown",
      "metadata": {
        "id": "JimB9bECt4gn"
      },
      "source": [
        "Es gibt noch viele weitere Möglichkeiten, die Daten auszuwerten und zu analysieren. Vorerst ist das hier aber das Ende dieser Einführung. Es lohnt sich selbst weiter mit den Daten und Plots rumzuprobieren. Dadurch lernt man am meisten. Viel Spaß dabei:)"
      ]
    }
  ],
  "metadata": {
    "colab": {
      "collapsed_sections": [],
      "name": "VL_VMT_Übung1.ipynb",
      "provenance": [],
      "toc_visible": true
    },
    "interpreter": {
      "hash": "ac59ebe37160ed0dfa835113d9b8498d9f09ceb179beaac4002f036b9467c963"
    },
    "kernelspec": {
      "display_name": "Python 3 (system-wide)",
      "language": "python",
      "metadata": {
        "cocalc": {
          "description": "Python 3 programming language",
          "priority": 100,
          "url": "https://www.python.org/"
        }
      },
      "name": "python3",
      "resource_dir": "/ext/jupyter/kernels/python3"
    },
    "language_info": {
      "codemirror_mode": {
        "name": "ipython",
        "version": 3
      },
      "file_extension": ".py",
      "mimetype": "text/x-python",
      "name": "python",
      "nbconvert_exporter": "python",
      "pygments_lexer": "ipython3",
      "version": "3.8.10"
    }
  },
  "nbformat": 4,
  "nbformat_minor": 0
}
