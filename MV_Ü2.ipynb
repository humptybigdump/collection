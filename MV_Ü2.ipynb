{
 "cells": [
  {
   "cell_type": "markdown",
   "metadata": {},
   "source": [
    "<img src=\"kit_logo.jpg\" width=\"200\" height=\"200\" align=\"right\"/>\n",
    "\n",
    "##### Lehrstuhl für Analytics and Statistics (IOR)\n",
    "##### Prof. Dr. Oliver Grothe\n",
    "##### SS 2020"
   ]
  },
  {
   "cell_type": "markdown",
   "metadata": {},
   "source": [
    "\n",
    "# Multivariate Verfahren\n",
    "## Übung 2"
   ]
  },
  {
   "cell_type": "markdown",
   "metadata": {},
   "source": [
    "#### Aufgabe 2\n",
    "Gegeben seien Vektoren $x = (1, -2, 3,)'$ und $y = (3, 2, 1)'$.\n",
    "* Berechnen Sie das Tensorprodukt $xy'$.\n",
    "\n",
    "* Berechnen Sie nun $det(xy')$.\n",
    "\n",
    "* Wie erklären Sie sich das Ergebnis?"
   ]
  },
  {
   "cell_type": "code",
   "execution_count": 1,
   "metadata": {},
   "outputs": [],
   "source": [
    "import numpy as np\n",
    "from numpy import linalg as la"
   ]
  },
  {
   "cell_type": "code",
   "execution_count": 3,
   "metadata": {},
   "outputs": [
    {
     "data": {
      "text/plain": [
       "matrix([[ 1],\n",
       "        [-2],\n",
       "        [ 3]])"
      ]
     },
     "execution_count": 3,
     "metadata": {},
     "output_type": "execute_result"
    }
   ],
   "source": [
    "X = np.matrix([[1,-2,3]]).T\n",
    "X"
   ]
  },
  {
   "cell_type": "code",
   "execution_count": 5,
   "metadata": {},
   "outputs": [
    {
     "data": {
      "text/plain": [
       "array([[3],\n",
       "       [2],\n",
       "       [1]])"
      ]
     },
     "execution_count": 5,
     "metadata": {},
     "output_type": "execute_result"
    }
   ],
   "source": [
    "Y = np.array([[3,2,1]]).T\n",
    "Y"
   ]
  },
  {
   "cell_type": "markdown",
   "metadata": {},
   "source": [
    "das Tensorprodukt $xy'$ (Matrixberechnung)"
   ]
  },
  {
   "cell_type": "code",
   "execution_count": 6,
   "metadata": {},
   "outputs": [
    {
     "data": {
      "text/plain": [
       "matrix([[ 3,  2,  1],\n",
       "        [-6, -4, -2],\n",
       "        [ 9,  6,  3]])"
      ]
     },
     "execution_count": 6,
     "metadata": {},
     "output_type": "execute_result"
    }
   ],
   "source": [
    "np.matmul(X, Y.T)\n"
   ]
  },
  {
   "cell_type": "code",
   "execution_count": 7,
   "metadata": {},
   "outputs": [],
   "source": [
    "x = np.array([1,-2,3])\n",
    "y = np.array([3,2,1])"
   ]
  },
  {
   "cell_type": "markdown",
   "metadata": {},
   "source": [
    "das Tensorprodukt $xy'$ (Vektorberechnung)"
   ]
  },
  {
   "cell_type": "code",
   "execution_count": 9,
   "metadata": {
    "scrolled": true
   },
   "outputs": [
    {
     "data": {
      "text/plain": [
       "array([[ 3,  2,  1],\n",
       "       [-6, -4, -2],\n",
       "       [ 9,  6,  3]])"
      ]
     },
     "execution_count": 9,
     "metadata": {},
     "output_type": "execute_result"
    }
   ],
   "source": [
    "t=np.tensordot(x,y,0)\n",
    "#np.dot(X,Y.T)\n",
    "t"
   ]
  },
  {
   "cell_type": "markdown",
   "metadata": {},
   "source": [
    "$det(xy')$"
   ]
  },
  {
   "cell_type": "code",
   "execution_count": 10,
   "metadata": {},
   "outputs": [
    {
     "data": {
      "text/plain": [
       "0.0"
      ]
     },
     "execution_count": 10,
     "metadata": {},
     "output_type": "execute_result"
    }
   ],
   "source": [
    "d = la.det(t)\n",
    "d"
   ]
  },
  {
   "cell_type": "markdown",
   "metadata": {},
   "source": [
    "#### Aufgabe 3\n",
    "Gegeben sei die Matrix $A = \\left(\\begin{matrix} 1 & 2 \\\\ 2 & 1 \\end{matrix}\\right)$.\n",
    "\n",
    "* Berechnen Sie die Spur der Matrix $A$.\n",
    "* Berechnen Sie die Determinante von $A$.\n",
    "* Berechnen Sie die Eigenwerte $\\lambda_1$ und $\\lambda_2$ Eigenvektoren von $A$. \n",
    "* Überprüfen Sie, ob $det(A) = \\lambda_1\\lambda_2$ und $Spur(A) = \\lambda_1 + \\lambda_2$."
   ]
  },
  {
   "cell_type": "code",
   "execution_count": 11,
   "metadata": {},
   "outputs": [
    {
     "data": {
      "text/plain": [
       "array([[1, 2],\n",
       "       [2, 1]])"
      ]
     },
     "execution_count": 11,
     "metadata": {},
     "output_type": "execute_result"
    }
   ],
   "source": [
    "A = np.array([[1,2],[2,1]]) \n",
    "A"
   ]
  },
  {
   "cell_type": "markdown",
   "metadata": {},
   "source": [
    "$Spur(A)$"
   ]
  },
  {
   "cell_type": "code",
   "execution_count": 12,
   "metadata": {},
   "outputs": [
    {
     "data": {
      "text/plain": [
       "2"
      ]
     },
     "execution_count": 12,
     "metadata": {},
     "output_type": "execute_result"
    }
   ],
   "source": [
    "sp = np.trace(A) \n",
    "sp"
   ]
  },
  {
   "cell_type": "markdown",
   "metadata": {},
   "source": [
    "$det(A)$"
   ]
  },
  {
   "cell_type": "code",
   "execution_count": 13,
   "metadata": {},
   "outputs": [
    {
     "data": {
      "text/plain": [
       "-2.9999999999999996"
      ]
     },
     "execution_count": 13,
     "metadata": {},
     "output_type": "execute_result"
    }
   ],
   "source": [
    "de = la.det(A) \n",
    "de"
   ]
  },
  {
   "cell_type": "code",
   "execution_count": 15,
   "metadata": {
    "scrolled": true
   },
   "outputs": [
    {
     "name": "stdout",
     "output_type": "stream",
     "text": [
      "die Eigenwerte: -1.0 , 3.0\n"
     ]
    }
   ],
   "source": [
    "[v,w]=la.eigh(A)\n",
    "lambda_1 = v[0]\n",
    "lambda_2 = v[1]\n",
    "print('die Eigenwerte:',lambda_1,',' ,lambda_2)"
   ]
  },
  {
   "cell_type": "markdown",
   "metadata": {},
   "source": [
    "$det(A) = \\lambda_1\\lambda_2?$ "
   ]
  },
  {
   "cell_type": "code",
   "execution_count": 16,
   "metadata": {},
   "outputs": [
    {
     "data": {
      "text/plain": [
       "-3.0"
      ]
     },
     "execution_count": 16,
     "metadata": {},
     "output_type": "execute_result"
    }
   ],
   "source": [
    "\n",
    "lambda_1*lambda_2"
   ]
  },
  {
   "cell_type": "markdown",
   "metadata": {},
   "source": [
    "$Spur(A) = \\lambda_1 + \\lambda_2?$"
   ]
  },
  {
   "cell_type": "code",
   "execution_count": 17,
   "metadata": {},
   "outputs": [
    {
     "data": {
      "text/plain": [
       "2.0"
      ]
     },
     "execution_count": 17,
     "metadata": {},
     "output_type": "execute_result"
    }
   ],
   "source": [
    "lambda_1+lambda_2"
   ]
  },
  {
   "cell_type": "markdown",
   "metadata": {},
   "source": [
    "#### Aufgabe 4\n",
    "Gegeben seien folgende Matrizen:\n",
    "\n",
    "$X = \\left(\\begin{matrix} \\frac{1}{\\sqrt{2}} & \\frac{1}{\\sqrt{3}} & \\frac{1}{\\sqrt{6}} \\\\ \\frac{1}{\\sqrt{2}} & -\\frac{1}{\\sqrt{3}} &\\frac{1}{\\sqrt{6}} \\\\ 0 & \\frac{1}{\\sqrt{3}} & -\\frac{2}{\\sqrt{6}} \\end{matrix}\\right)$,\n",
    "$W = \\left(\\begin{matrix} 3 & 1 & 0 \\\\ 1 & 3 & 0 \\\\ 0 & 0 & \\frac{2}{5} \\end{matrix}\\right)$.\n",
    "\n",
    "* Bestimmen Sie $W^{-1}$.\n",
    "* Berechnen Sie $XX'$. Wie nennt man eine solche Matrix $X$?\n",
    "* Wie lautet $X^{-1}$?\n"
   ]
  },
  {
   "cell_type": "code",
   "execution_count": 18,
   "metadata": {},
   "outputs": [
    {
     "data": {
      "text/plain": [
       "array([[ 0.70710678,  0.57735027,  0.40824829],\n",
       "       [ 0.70710678, -0.57735027, -0.40824829],\n",
       "       [ 0.        ,  0.57735027, -0.81649658]])"
      ]
     },
     "execution_count": 18,
     "metadata": {},
     "output_type": "execute_result"
    }
   ],
   "source": [
    "X = np.array([[1/np.sqrt(2),1/np.sqrt(3), 1/np.sqrt(6)], [1/np.sqrt(2),-1/np.sqrt(3), -1/np.sqrt(6)], [0,1/np.sqrt(3), -2/np.sqrt(6)]]) \n",
    "X"
   ]
  },
  {
   "cell_type": "code",
   "execution_count": 19,
   "metadata": {
    "scrolled": true
   },
   "outputs": [
    {
     "data": {
      "text/plain": [
       "array([[3. , 1. , 0. ],\n",
       "       [1. , 3. , 0. ],\n",
       "       [0. , 0. , 0.4]])"
      ]
     },
     "execution_count": 19,
     "metadata": {},
     "output_type": "execute_result"
    }
   ],
   "source": [
    "W = np.array([[3,1,0],[1,3,0],[0,0,2/5]])\n",
    "W"
   ]
  },
  {
   "cell_type": "markdown",
   "metadata": {},
   "source": [
    "$W^{-1}$"
   ]
  },
  {
   "cell_type": "code",
   "execution_count": 20,
   "metadata": {},
   "outputs": [
    {
     "data": {
      "text/plain": [
       "array([[ 0.375, -0.125,  0.   ],\n",
       "       [-0.125,  0.375,  0.   ],\n",
       "       [ 0.   ,  0.   ,  2.5  ]])"
      ]
     },
     "execution_count": 20,
     "metadata": {},
     "output_type": "execute_result"
    }
   ],
   "source": [
    "W_i = la.inv(W)\n",
    "W_i"
   ]
  },
  {
   "cell_type": "markdown",
   "metadata": {},
   "source": [
    "$XX'$"
   ]
  },
  {
   "cell_type": "code",
   "execution_count": 23,
   "metadata": {},
   "outputs": [
    {
     "data": {
      "text/plain": [
       "array([[ 1.00000000e+00, -2.49570864e-16,  4.58633852e-19],\n",
       "       [-2.49570864e-16,  1.00000000e+00, -4.58633852e-19],\n",
       "       [ 4.58633852e-19, -4.58633852e-19,  1.00000000e+00]])"
      ]
     },
     "execution_count": 23,
     "metadata": {},
     "output_type": "execute_result"
    }
   ],
   "source": [
    "M = np.matmul(X,X.T)\n",
    "M"
   ]
  },
  {
   "cell_type": "code",
   "execution_count": 22,
   "metadata": {},
   "outputs": [
    {
     "data": {
      "text/plain": [
       "array([[ 1.00000000e+00, -2.49570864e-16,  4.58633852e-19],\n",
       "       [-2.49570864e-16,  1.00000000e+00, -4.58633852e-19],\n",
       "       [ 4.58633852e-19, -4.58633852e-19,  1.00000000e+00]])"
      ]
     },
     "execution_count": 22,
     "metadata": {},
     "output_type": "execute_result"
    }
   ],
   "source": [
    "X.dot(X.T)"
   ]
  },
  {
   "cell_type": "markdown",
   "metadata": {},
   "source": [
    "$X^{-1}$"
   ]
  },
  {
   "cell_type": "code",
   "execution_count": 19,
   "metadata": {
    "scrolled": true
   },
   "outputs": [
    {
     "data": {
      "text/plain": [
       "array([[ 0.70710678,  0.70710678,  0.        ],\n",
       "       [ 0.57735027, -0.57735027,  0.57735027],\n",
       "       [ 0.40824829, -0.40824829, -0.81649658]])"
      ]
     },
     "execution_count": 19,
     "metadata": {},
     "output_type": "execute_result"
    }
   ],
   "source": [
    "X_i = la.inv(X)\n",
    "X_i"
   ]
  },
  {
   "cell_type": "markdown",
   "metadata": {},
   "source": [
    "#### Aufgabe 5\n",
    "Gegeben sei die Datenmatrix \n",
    "$X = \\left(\\begin{matrix} -2 & -1 & 0 \\\\ 2 & 1 & 0 \\\\ 0 & -1 & 3 \\\\ 4 & 1 & 1 \\end{matrix}\\right)$ mit vier Beobachtungen von drei Variablen. \n",
    "\n",
    "Die empirischen Standardabweichungen der Variablen sind $\\sigma_1=\\sqrt{\\frac{20}{3}}$,  $\\sigma_2=\\sqrt{\\frac{4}{3}}$, und $\\sigma_3=\\sqrt{2}$.\n",
    "\n",
    "* Standardisieren Sie die Daten $X$ mit Hilfe der Centering-Matrix.\n",
    "* Wie berechnet sich die empirische Korrelationsmatrix?"
   ]
  },
  {
   "cell_type": "code",
   "execution_count": 24,
   "metadata": {},
   "outputs": [
    {
     "data": {
      "text/plain": [
       "array([[-2, -1,  0],\n",
       "       [ 2,  1,  0],\n",
       "       [ 0, -1,  3],\n",
       "       [ 4,  1,  1]])"
      ]
     },
     "execution_count": 24,
     "metadata": {},
     "output_type": "execute_result"
    }
   ],
   "source": [
    "X = np.array([[-2,-1,0],[2,1,0],[0,-1,3],[4,1,1]])\n",
    "X"
   ]
  },
  {
   "cell_type": "markdown",
   "metadata": {},
   "source": [
    "standardisieren $X$ elementweise "
   ]
  },
  {
   "cell_type": "code",
   "execution_count": 25,
   "metadata": {
    "scrolled": true
   },
   "outputs": [
    {
     "data": {
      "text/plain": [
       "array([[-1.34164079, -1.        , -0.81649658],\n",
       "       [ 0.4472136 ,  1.        , -0.81649658],\n",
       "       [-0.4472136 , -1.        ,  1.63299316],\n",
       "       [ 1.34164079,  1.        ,  0.        ]])"
      ]
     },
     "execution_count": 25,
     "metadata": {},
     "output_type": "execute_result"
    }
   ],
   "source": [
    "mw = np.diag(np.mean(X, axis=0))\n",
    "stdw = np.diag(np.std(X, axis=0))\n",
    "Z=(X-np.ones(X.shape).dot(mw)).dot(la.inv(stdw))\n",
    "Z"
   ]
  },
  {
   "cell_type": "markdown",
   "metadata": {},
   "source": [
    "standardisieren $X$ mit Hilfe der Centering-Matrix"
   ]
  },
  {
   "cell_type": "code",
   "execution_count": 26,
   "metadata": {},
   "outputs": [
    {
     "data": {
      "text/plain": [
       "array([[-1.34164079, -1.        , -0.81649658],\n",
       "       [ 0.4472136 ,  1.        , -0.81649658],\n",
       "       [-0.4472136 , -1.        ,  1.63299316],\n",
       "       [ 1.34164079,  1.        ,  0.        ]])"
      ]
     },
     "execution_count": 26,
     "metadata": {},
     "output_type": "execute_result"
    }
   ],
   "source": [
    "(X-(1/X.shape[0])*(np.ones((X.shape[0],1))).dot(np.ones((X.shape[0],1)).T.dot(X))).dot(la.inv(stdw))"
   ]
  },
  {
   "cell_type": "markdown",
   "metadata": {},
   "source": [
    "standardisieren $X$ mit Hilfe der *`zscore`* Funktion."
   ]
  },
  {
   "cell_type": "code",
   "execution_count": 27,
   "metadata": {},
   "outputs": [
    {
     "data": {
      "text/plain": [
       "array([[-1.34164079, -1.        , -0.81649658],\n",
       "       [ 0.4472136 ,  1.        , -0.81649658],\n",
       "       [-0.4472136 , -1.        ,  1.63299316],\n",
       "       [ 1.34164079,  1.        ,  0.        ]])"
      ]
     },
     "execution_count": 27,
     "metadata": {},
     "output_type": "execute_result"
    }
   ],
   "source": [
    "from scipy import stats\n",
    "stats.zscore(X) "
   ]
  },
  {
   "cell_type": "code",
   "execution_count": null,
   "metadata": {},
   "outputs": [],
   "source": []
  }
 ],
 "metadata": {
  "kernelspec": {
   "display_name": "Python 3",
   "language": "python",
   "name": "python3"
  },
  "language_info": {
   "codemirror_mode": {
    "name": "ipython",
    "version": 3
   },
   "file_extension": ".py",
   "mimetype": "text/x-python",
   "name": "python",
   "nbconvert_exporter": "python",
   "pygments_lexer": "ipython3",
   "version": "3.9.4"
  }
 },
 "nbformat": 4,
 "nbformat_minor": 2
}
