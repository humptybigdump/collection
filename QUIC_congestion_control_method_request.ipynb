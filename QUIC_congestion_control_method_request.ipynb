{
  "nbformat": 4,
  "nbformat_minor": 0,
  "metadata": {
    "colab": {
      "provenance": []
    },
    "kernelspec": {
      "name": "python3",
      "display_name": "Python 3"
    },
    "language_info": {
      "name": "python"
    }
  },
  "cells": [
    {
      "cell_type": "code",
      "execution_count": null,
      "metadata": {
        "id": "r667wn6ZtOcE"
      },
      "outputs": [],
      "source": [
        "!pip install aioquic\n",
        "!pip install nest_asyncio"
      ]
    },
    {
      "cell_type": "code",
      "source": [
        "import asyncio\n",
        "import logging\n",
        "import nest_asyncio\n",
        "from aioquic.asyncio import connect\n",
        "from aioquic.quic.configuration import QuicConfiguration\n",
        "\n",
        "# Enable logging for debugging (optional)\n",
        "logging.basicConfig(level=logging.DEBUG)\n",
        "\n",
        "# Apply nested asyncio to avoid conflicts in Google Colab\n",
        "nest_asyncio.apply()\n",
        "\n",
        "\n",
        "async def check_congestion_control(server, port, congestion_control):\n",
        "    \"\"\"Attempts to connect using the specified congestion control algorithm.\"\"\"\n",
        "    config = QuicConfiguration(is_client=True)\n",
        "    config.alpn_protocols = [\"h3\"]  # Explicitly set ALPN for HTTP/3\n",
        "    config.congestion_control_algorithm = congestion_control\n",
        "\n",
        "    try:\n",
        "        async with connect(server, port, configuration=config):\n",
        "            print(f\"Server supports {congestion_control}\")\n",
        "            return True\n",
        "    except Exception as e:\n",
        "        print(f\"Server does not support {congestion_control}: {e}\")\n",
        "        return False\n",
        "\n",
        "\n",
        "async def main():\n",
        "    server = \"cloudflare-quic.com\"\n",
        "    port = 443\n",
        "    congestion_controls = [\"reno\", \"cubic\", \"bbr\"]  # Add more if needed\n",
        "\n",
        "    for cc in congestion_controls:\n",
        "        await check_congestion_control(server, port, cc)\n",
        "\n",
        "\n",
        "if __name__ == \"__main__\":\n",
        "    loop = asyncio.get_event_loop()\n",
        "    loop.run_until_complete(main())"
      ],
      "metadata": {
        "colab": {
          "base_uri": "https://localhost:8080/"
        },
        "id": "_9sXtvFZtUhC",
        "outputId": "7e90f784-40da-49bb-ef0d-1778d9cd1a62"
      },
      "execution_count": 35,
      "outputs": [
        {
          "output_type": "stream",
          "name": "stdout",
          "text": [
            "Requirement already satisfied: aioquic in /usr/local/lib/python3.10/dist-packages (1.2.0)\n",
            "Requirement already satisfied: nest_asyncio in /usr/local/lib/python3.10/dist-packages (1.6.0)\n",
            "Requirement already satisfied: certifi in /usr/local/lib/python3.10/dist-packages (from aioquic) (2024.8.30)\n",
            "Requirement already satisfied: cryptography>=42.0.0 in /usr/local/lib/python3.10/dist-packages (from aioquic) (43.0.3)\n",
            "Requirement already satisfied: pylsqpack<0.4.0,>=0.3.3 in /usr/local/lib/python3.10/dist-packages (from aioquic) (0.3.18)\n",
            "Requirement already satisfied: pyopenssl>=24 in /usr/local/lib/python3.10/dist-packages (from aioquic) (24.2.1)\n",
            "Requirement already satisfied: service-identity>=24.1.0 in /usr/local/lib/python3.10/dist-packages (from aioquic) (24.2.0)\n",
            "Requirement already satisfied: cffi>=1.12 in /usr/local/lib/python3.10/dist-packages (from cryptography>=42.0.0->aioquic) (1.17.1)\n",
            "Requirement already satisfied: attrs>=19.1.0 in /usr/local/lib/python3.10/dist-packages (from service-identity>=24.1.0->aioquic) (24.2.0)\n",
            "Requirement already satisfied: pyasn1 in /usr/local/lib/python3.10/dist-packages (from service-identity>=24.1.0->aioquic) (0.6.1)\n",
            "Requirement already satisfied: pyasn1-modules in /usr/local/lib/python3.10/dist-packages (from service-identity>=24.1.0->aioquic) (0.4.1)\n",
            "Requirement already satisfied: pycparser in /usr/local/lib/python3.10/dist-packages (from cffi>=1.12->cryptography>=42.0.0->aioquic) (2.22)\n",
            "Server supports reno\n",
            "Server supports cubic\n",
            "Server does not support bbr: Unknown congestion control algorithm: bbr\n"
          ]
        }
      ]
    }
  ]
}