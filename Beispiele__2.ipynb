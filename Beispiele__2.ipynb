{
 "cells": [
  {
   "cell_type": "code",
   "execution_count": 1,
   "metadata": {},
   "outputs": [],
   "source": [
    "%matplotlib notebook\n",
    "import matplotlib.pyplot as plt\n",
    "import matplotlib as mpl\n",
    "import numpy as np\n",
    "mpl.rcParams.update({'font.size': 16})\n",
    "mpl.rcParams['figure.figsize'] = (9,6)\n",
    "mpl.rcParams['axes.grid'] = True\n",
    "from sympy import *\n",
    "# Shift+Enter zum Ausführen"
   ]
  },
  {
   "cell_type": "code",
   "execution_count": 2,
   "metadata": {},
   "outputs": [
    {
     "name": "stdout",
     "output_type": "stream",
     "text": [
      "1\n"
     ]
    }
   ],
   "source": [
    "x = 1 # Variable definieren \n",
    "print(x) # und ausgeben"
   ]
  },
  {
   "cell_type": "code",
   "execution_count": 3,
   "metadata": {},
   "outputs": [],
   "source": [
    "# interaktive Informationen/Hilfe jederzeit erreichbar\n",
    "print?"
   ]
  },
  {
   "cell_type": "code",
   "execution_count": 4,
   "metadata": {},
   "outputs": [
    {
     "name": "stdout",
     "output_type": "stream",
     "text": [
      "Help on built-in function print in module builtins:\n",
      "\n",
      "print(...)\n",
      "    print(value, ..., sep=' ', end='\\n', file=sys.stdout, flush=False)\n",
      "    \n",
      "    Prints the values to a stream, or to sys.stdout by default.\n",
      "    Optional keyword arguments:\n",
      "    file:  a file-like object (stream); defaults to the current sys.stdout.\n",
      "    sep:   string inserted between values, default a space.\n",
      "    end:   string appended after the last value, default a newline.\n",
      "    flush: whether to forcibly flush the stream.\n",
      "\n"
     ]
    }
   ],
   "source": [
    "help(print)"
   ]
  },
  {
   "cell_type": "code",
   "execution_count": 5,
   "metadata": {},
   "outputs": [
    {
     "name": "stdout",
     "output_type": "stream",
     "text": [
      "2 4 1.4142135623730951\n",
      "2\n"
     ]
    }
   ],
   "source": [
    "x += 1\n",
    "print(x, x**2, np.sqrt(x)) # der Zustand wird von Zuweisungen geändert, aber nicht von Ausgaben\n",
    "x-= 1\n",
    "x = x +1\n",
    "print(x)"
   ]
  },
  {
   "cell_type": "code",
   "execution_count": 6,
   "metadata": {},
   "outputs": [
    {
     "name": "stdout",
     "output_type": "stream",
     "text": [
      "i 0\n",
      "i 1\n",
      "i 2\n",
      "i 3\n",
      "i 4\n",
      "i 5\n",
      "i 6\n",
      "i 7\n",
      "i 8\n",
      "i 9\n",
      "x 12\n"
     ]
    }
   ],
   "source": [
    "for i in range(10): \n",
    "    print(\"i\", i) # Einrückung ist wichtig in Python; alles, was in einen Block hinter \":\" soll,\n",
    "    x+=1     # muss eine Stufe tiefer als \":\" eingerückt werden\n",
    "print(\"x\", x)"
   ]
  },
  {
   "cell_type": "code",
   "execution_count": 7,
   "metadata": {},
   "outputs": [
    {
     "name": "stdout",
     "output_type": "stream",
     "text": [
      "13\n",
      "12\n"
     ]
    }
   ],
   "source": [
    "def func(x):\n",
    "    x += 1\n",
    "    print(x)\n",
    "    return x\n",
    "func(x)\n",
    "print(x) # x wird als Kopie reingegeben; außerhalb ist noch der selbe Wert!"
   ]
  },
  {
   "cell_type": "code",
   "execution_count": 8,
   "metadata": {},
   "outputs": [
    {
     "name": "stdout",
     "output_type": "stream",
     "text": [
      "[0. 0. 0. 0. 0. 0. 0. 0. 0. 0.]\n"
     ]
    }
   ],
   "source": [
    "arr = np.zeros(10) # Array von Daten\n",
    "print(arr)"
   ]
  },
  {
   "cell_type": "code",
   "execution_count": 9,
   "metadata": {},
   "outputs": [
    {
     "name": "stdout",
     "output_type": "stream",
     "text": [
      "[0. 1. 2. 3. 4. 5. 6. 7. 8. 9.]\n"
     ]
    }
   ],
   "source": [
    "for i in range(arr.shape[0]):\n",
    "    arr[i] = i\n",
    "print(arr)"
   ]
  },
  {
   "cell_type": "code",
   "execution_count": 10,
   "metadata": {},
   "outputs": [
    {
     "name": "stdout",
     "output_type": "stream",
     "text": [
      "[0. 0. 0. 0. 0. 0. 0. 0. 0. 0.]\n",
      "[0. 1. 2. 3. 4. 5. 6. 7. 8. 9.]\n"
     ]
    }
   ],
   "source": [
    "def func2(arr):\n",
    "    for i in range(arr.shape[0]):\n",
    "        arr[i] = arr[i] + i\n",
    "    #arr = 2\n",
    "    #print(arr)\n",
    "    return arr\n",
    "arr = np.zeros(10)\n",
    "print(arr)\n",
    "func2(arr)\n",
    "print(arr) \n",
    "# es wird in diesem Fall die Kopie von \"wo liegt arr\" übergeben,\n",
    "#damit ist eine Änderung in der Funktion möglich, wenn innerhalb ([]) etwas geändert wird"
   ]
  },
  {
   "cell_type": "code",
   "execution_count": 11,
   "metadata": {},
   "outputs": [
    {
     "name": "stdout",
     "output_type": "stream",
     "text": [
      "[0. 1.] [2. 3. 4. 5. 6. 7. 8. 9.] [2. 3.]\n"
     ]
    }
   ],
   "source": [
    "# Indexschreibweise [a:b] entspricht dem halboffenen Intervall [a,b)\n",
    "# :2 bis ausschließlich dem 3. Element (Indizierung beginnt bei 0!)\n",
    "# 2: ausgehend vom 3. Element bis zum Ende\n",
    "# 2:4 ausgehend vom 3. Element bis ausschließlich dem 5. Element\n",
    "print(arr[:2], arr[2:], arr[2:4])"
   ]
  },
  {
   "cell_type": "code",
   "execution_count": 12,
   "metadata": {},
   "outputs": [
    {
     "data": {
      "text/latex": [
       "$\\displaystyle y$"
      ],
      "text/plain": [
       "y"
      ]
     },
     "execution_count": 12,
     "metadata": {},
     "output_type": "execute_result"
    }
   ],
   "source": [
    "y = symbols('y') # aus sympy\n",
    "y"
   ]
  },
  {
   "cell_type": "code",
   "execution_count": 13,
   "metadata": {},
   "outputs": [
    {
     "data": {
      "text/plain": [
       "(y**3 + 2*y - 4, 3*y**2 + 2)"
      ]
     },
     "execution_count": 13,
     "metadata": {},
     "output_type": "execute_result"
    }
   ],
   "source": [
    "f = y**3 + 2*y - 4 # Ausdruck\n",
    "fn = Lambda(y, f) # Funktion, fn = f(y)\n",
    "g = log((f)**2)\n",
    "dfdy = diff(f, y)\n",
    "f, dfdy"
   ]
  },
  {
   "cell_type": "code",
   "execution_count": 14,
   "metadata": {},
   "outputs": [
    {
     "data": {
      "text/latex": [
       "$\\displaystyle -1$"
      ],
      "text/plain": [
       "-1"
      ]
     },
     "execution_count": 14,
     "metadata": {},
     "output_type": "execute_result"
    }
   ],
   "source": [
    "#f(1) # Ausdruck nimmt keine Eingabewerte an\n",
    "fn(1) # aber eine Funktion tut dies\n",
    "f.subs(y, 1) # substituieren funktioniert immer"
   ]
  },
  {
   "cell_type": "code",
   "execution_count": 15,
   "metadata": {},
   "outputs": [
    {
     "data": {
      "text/latex": [
       "$\\displaystyle \\left( y \\mapsto y^{3} + 2 y - 4 \\right)$"
      ],
      "text/plain": [
       "Lambda(y, y**3 + 2*y - 4)"
      ]
     },
     "execution_count": 15,
     "metadata": {},
     "output_type": "execute_result"
    }
   ],
   "source": [
    "fn"
   ]
  },
  {
   "cell_type": "code",
   "execution_count": 16,
   "metadata": {},
   "outputs": [
    {
     "data": {
      "text/latex": [
       "$\\displaystyle \\log{\\left(\\left(y^{3} + 2 y - 4\\right)^{2} \\right)}$"
      ],
      "text/plain": [
       "log((y**3 + 2*y - 4)**2)"
      ]
     },
     "metadata": {},
     "output_type": "display_data"
    },
    {
     "name": "stdout",
     "output_type": "stream",
     "text": [
      "log((y**3 + 2*y - 4)**2)\n"
     ]
    },
    {
     "data": {
      "text/plain": [
       "(None, None)"
      ]
     },
     "execution_count": 16,
     "metadata": {},
     "output_type": "execute_result"
    }
   ],
   "source": [
    "display(g), print(g)"
   ]
  },
  {
   "cell_type": "code",
   "execution_count": 17,
   "metadata": {},
   "outputs": [
    {
     "name": "stdout",
     "output_type": "stream",
     "text": [
      "log(64) 4.15888308335967\n"
     ]
    }
   ],
   "source": [
    "print(g.subs(y, 2), g.subs(y, 2).evalf())"
   ]
  },
  {
   "cell_type": "code",
   "execution_count": 18,
   "metadata": {},
   "outputs": [
    {
     "data": {
      "text/latex": [
       "$\\displaystyle \\frac{6 y^{2} + 4}{y^{3} + 2 y - 4}$"
      ],
      "text/plain": [
       "(6*y**2 + 4)/(y**3 + 2*y - 4)"
      ]
     },
     "execution_count": 18,
     "metadata": {},
     "output_type": "execute_result"
    }
   ],
   "source": [
    "dgdy = diff(g, y)\n",
    "dgdy"
   ]
  },
  {
   "cell_type": "code",
   "execution_count": 19,
   "metadata": {},
   "outputs": [
    {
     "data": {
      "text/latex": [
       "$\\displaystyle \\frac{2 \\left(3 y^{2} + 2\\right)}{y^{3} + 2 y - 4}$"
      ],
      "text/plain": [
       "2*(3*y**2 + 2)/(y**3 + 2*y - 4)"
      ]
     },
     "execution_count": 19,
     "metadata": {},
     "output_type": "execute_result"
    }
   ],
   "source": [
    "dgdy.simplify()"
   ]
  },
  {
   "cell_type": "code",
   "execution_count": 20,
   "metadata": {},
   "outputs": [],
   "source": [
    "h = 2*(y+1)**2 - 10\n"
   ]
  },
  {
   "cell_type": "code",
   "execution_count": 21,
   "metadata": {},
   "outputs": [
    {
     "data": {
      "application/javascript": [
       "/* Put everything inside the global mpl namespace */\n",
       "window.mpl = {};\n",
       "\n",
       "\n",
       "mpl.get_websocket_type = function() {\n",
       "    if (typeof(WebSocket) !== 'undefined') {\n",
       "        return WebSocket;\n",
       "    } else if (typeof(MozWebSocket) !== 'undefined') {\n",
       "        return MozWebSocket;\n",
       "    } else {\n",
       "        alert('Your browser does not have WebSocket support.' +\n",
       "              'Please try Chrome, Safari or Firefox ≥ 6. ' +\n",
       "              'Firefox 4 and 5 are also supported but you ' +\n",
       "              'have to enable WebSockets in about:config.');\n",
       "    };\n",
       "}\n",
       "\n",
       "mpl.figure = function(figure_id, websocket, ondownload, parent_element) {\n",
       "    this.id = figure_id;\n",
       "\n",
       "    this.ws = websocket;\n",
       "\n",
       "    this.supports_binary = (this.ws.binaryType != undefined);\n",
       "\n",
       "    if (!this.supports_binary) {\n",
       "        var warnings = document.getElementById(\"mpl-warnings\");\n",
       "        if (warnings) {\n",
       "            warnings.style.display = 'block';\n",
       "            warnings.textContent = (\n",
       "                \"This browser does not support binary websocket messages. \" +\n",
       "                    \"Performance may be slow.\");\n",
       "        }\n",
       "    }\n",
       "\n",
       "    this.imageObj = new Image();\n",
       "\n",
       "    this.context = undefined;\n",
       "    this.message = undefined;\n",
       "    this.canvas = undefined;\n",
       "    this.rubberband_canvas = undefined;\n",
       "    this.rubberband_context = undefined;\n",
       "    this.format_dropdown = undefined;\n",
       "\n",
       "    this.image_mode = 'full';\n",
       "\n",
       "    this.root = $('<div/>');\n",
       "    this._root_extra_style(this.root)\n",
       "    this.root.attr('style', 'display: inline-block');\n",
       "\n",
       "    $(parent_element).append(this.root);\n",
       "\n",
       "    this._init_header(this);\n",
       "    this._init_canvas(this);\n",
       "    this._init_toolbar(this);\n",
       "\n",
       "    var fig = this;\n",
       "\n",
       "    this.waiting = false;\n",
       "\n",
       "    this.ws.onopen =  function () {\n",
       "            fig.send_message(\"supports_binary\", {value: fig.supports_binary});\n",
       "            fig.send_message(\"send_image_mode\", {});\n",
       "            if (mpl.ratio != 1) {\n",
       "                fig.send_message(\"set_dpi_ratio\", {'dpi_ratio': mpl.ratio});\n",
       "            }\n",
       "            fig.send_message(\"refresh\", {});\n",
       "        }\n",
       "\n",
       "    this.imageObj.onload = function() {\n",
       "            if (fig.image_mode == 'full') {\n",
       "                // Full images could contain transparency (where diff images\n",
       "                // almost always do), so we need to clear the canvas so that\n",
       "                // there is no ghosting.\n",
       "                fig.context.clearRect(0, 0, fig.canvas.width, fig.canvas.height);\n",
       "            }\n",
       "            fig.context.drawImage(fig.imageObj, 0, 0);\n",
       "        };\n",
       "\n",
       "    this.imageObj.onunload = function() {\n",
       "        fig.ws.close();\n",
       "    }\n",
       "\n",
       "    this.ws.onmessage = this._make_on_message_function(this);\n",
       "\n",
       "    this.ondownload = ondownload;\n",
       "}\n",
       "\n",
       "mpl.figure.prototype._init_header = function() {\n",
       "    var titlebar = $(\n",
       "        '<div class=\"ui-dialog-titlebar ui-widget-header ui-corner-all ' +\n",
       "        'ui-helper-clearfix\"/>');\n",
       "    var titletext = $(\n",
       "        '<div class=\"ui-dialog-title\" style=\"width: 100%; ' +\n",
       "        'text-align: center; padding: 3px;\"/>');\n",
       "    titlebar.append(titletext)\n",
       "    this.root.append(titlebar);\n",
       "    this.header = titletext[0];\n",
       "}\n",
       "\n",
       "\n",
       "\n",
       "mpl.figure.prototype._canvas_extra_style = function(canvas_div) {\n",
       "\n",
       "}\n",
       "\n",
       "\n",
       "mpl.figure.prototype._root_extra_style = function(canvas_div) {\n",
       "\n",
       "}\n",
       "\n",
       "mpl.figure.prototype._init_canvas = function() {\n",
       "    var fig = this;\n",
       "\n",
       "    var canvas_div = $('<div/>');\n",
       "\n",
       "    canvas_div.attr('style', 'position: relative; clear: both; outline: 0');\n",
       "\n",
       "    function canvas_keyboard_event(event) {\n",
       "        return fig.key_event(event, event['data']);\n",
       "    }\n",
       "\n",
       "    canvas_div.keydown('key_press', canvas_keyboard_event);\n",
       "    canvas_div.keyup('key_release', canvas_keyboard_event);\n",
       "    this.canvas_div = canvas_div\n",
       "    this._canvas_extra_style(canvas_div)\n",
       "    this.root.append(canvas_div);\n",
       "\n",
       "    var canvas = $('<canvas/>');\n",
       "    canvas.addClass('mpl-canvas');\n",
       "    canvas.attr('style', \"left: 0; top: 0; z-index: 0; outline: 0\")\n",
       "\n",
       "    this.canvas = canvas[0];\n",
       "    this.context = canvas[0].getContext(\"2d\");\n",
       "\n",
       "    var backingStore = this.context.backingStorePixelRatio ||\n",
       "\tthis.context.webkitBackingStorePixelRatio ||\n",
       "\tthis.context.mozBackingStorePixelRatio ||\n",
       "\tthis.context.msBackingStorePixelRatio ||\n",
       "\tthis.context.oBackingStorePixelRatio ||\n",
       "\tthis.context.backingStorePixelRatio || 1;\n",
       "\n",
       "    mpl.ratio = (window.devicePixelRatio || 1) / backingStore;\n",
       "\n",
       "    var rubberband = $('<canvas/>');\n",
       "    rubberband.attr('style', \"position: absolute; left: 0; top: 0; z-index: 1;\")\n",
       "\n",
       "    var pass_mouse_events = true;\n",
       "\n",
       "    canvas_div.resizable({\n",
       "        start: function(event, ui) {\n",
       "            pass_mouse_events = false;\n",
       "        },\n",
       "        resize: function(event, ui) {\n",
       "            fig.request_resize(ui.size.width, ui.size.height);\n",
       "        },\n",
       "        stop: function(event, ui) {\n",
       "            pass_mouse_events = true;\n",
       "            fig.request_resize(ui.size.width, ui.size.height);\n",
       "        },\n",
       "    });\n",
       "\n",
       "    function mouse_event_fn(event) {\n",
       "        if (pass_mouse_events)\n",
       "            return fig.mouse_event(event, event['data']);\n",
       "    }\n",
       "\n",
       "    rubberband.mousedown('button_press', mouse_event_fn);\n",
       "    rubberband.mouseup('button_release', mouse_event_fn);\n",
       "    // Throttle sequential mouse events to 1 every 20ms.\n",
       "    rubberband.mousemove('motion_notify', mouse_event_fn);\n",
       "\n",
       "    rubberband.mouseenter('figure_enter', mouse_event_fn);\n",
       "    rubberband.mouseleave('figure_leave', mouse_event_fn);\n",
       "\n",
       "    canvas_div.on(\"wheel\", function (event) {\n",
       "        event = event.originalEvent;\n",
       "        event['data'] = 'scroll'\n",
       "        if (event.deltaY < 0) {\n",
       "            event.step = 1;\n",
       "        } else {\n",
       "            event.step = -1;\n",
       "        }\n",
       "        mouse_event_fn(event);\n",
       "    });\n",
       "\n",
       "    canvas_div.append(canvas);\n",
       "    canvas_div.append(rubberband);\n",
       "\n",
       "    this.rubberband = rubberband;\n",
       "    this.rubberband_canvas = rubberband[0];\n",
       "    this.rubberband_context = rubberband[0].getContext(\"2d\");\n",
       "    this.rubberband_context.strokeStyle = \"#000000\";\n",
       "\n",
       "    this._resize_canvas = function(width, height) {\n",
       "        // Keep the size of the canvas, canvas container, and rubber band\n",
       "        // canvas in synch.\n",
       "        canvas_div.css('width', width)\n",
       "        canvas_div.css('height', height)\n",
       "\n",
       "        canvas.attr('width', width * mpl.ratio);\n",
       "        canvas.attr('height', height * mpl.ratio);\n",
       "        canvas.attr('style', 'width: ' + width + 'px; height: ' + height + 'px;');\n",
       "\n",
       "        rubberband.attr('width', width);\n",
       "        rubberband.attr('height', height);\n",
       "    }\n",
       "\n",
       "    // Set the figure to an initial 600x600px, this will subsequently be updated\n",
       "    // upon first draw.\n",
       "    this._resize_canvas(600, 600);\n",
       "\n",
       "    // Disable right mouse context menu.\n",
       "    $(this.rubberband_canvas).bind(\"contextmenu\",function(e){\n",
       "        return false;\n",
       "    });\n",
       "\n",
       "    function set_focus () {\n",
       "        canvas.focus();\n",
       "        canvas_div.focus();\n",
       "    }\n",
       "\n",
       "    window.setTimeout(set_focus, 100);\n",
       "}\n",
       "\n",
       "mpl.figure.prototype._init_toolbar = function() {\n",
       "    var fig = this;\n",
       "\n",
       "    var nav_element = $('<div/>')\n",
       "    nav_element.attr('style', 'width: 100%');\n",
       "    this.root.append(nav_element);\n",
       "\n",
       "    // Define a callback function for later on.\n",
       "    function toolbar_event(event) {\n",
       "        return fig.toolbar_button_onclick(event['data']);\n",
       "    }\n",
       "    function toolbar_mouse_event(event) {\n",
       "        return fig.toolbar_button_onmouseover(event['data']);\n",
       "    }\n",
       "\n",
       "    for(var toolbar_ind in mpl.toolbar_items) {\n",
       "        var name = mpl.toolbar_items[toolbar_ind][0];\n",
       "        var tooltip = mpl.toolbar_items[toolbar_ind][1];\n",
       "        var image = mpl.toolbar_items[toolbar_ind][2];\n",
       "        var method_name = mpl.toolbar_items[toolbar_ind][3];\n",
       "\n",
       "        if (!name) {\n",
       "            // put a spacer in here.\n",
       "            continue;\n",
       "        }\n",
       "        var button = $('<button/>');\n",
       "        button.addClass('ui-button ui-widget ui-state-default ui-corner-all ' +\n",
       "                        'ui-button-icon-only');\n",
       "        button.attr('role', 'button');\n",
       "        button.attr('aria-disabled', 'false');\n",
       "        button.click(method_name, toolbar_event);\n",
       "        button.mouseover(tooltip, toolbar_mouse_event);\n",
       "\n",
       "        var icon_img = $('<span/>');\n",
       "        icon_img.addClass('ui-button-icon-primary ui-icon');\n",
       "        icon_img.addClass(image);\n",
       "        icon_img.addClass('ui-corner-all');\n",
       "\n",
       "        var tooltip_span = $('<span/>');\n",
       "        tooltip_span.addClass('ui-button-text');\n",
       "        tooltip_span.html(tooltip);\n",
       "\n",
       "        button.append(icon_img);\n",
       "        button.append(tooltip_span);\n",
       "\n",
       "        nav_element.append(button);\n",
       "    }\n",
       "\n",
       "    var fmt_picker_span = $('<span/>');\n",
       "\n",
       "    var fmt_picker = $('<select/>');\n",
       "    fmt_picker.addClass('mpl-toolbar-option ui-widget ui-widget-content');\n",
       "    fmt_picker_span.append(fmt_picker);\n",
       "    nav_element.append(fmt_picker_span);\n",
       "    this.format_dropdown = fmt_picker[0];\n",
       "\n",
       "    for (var ind in mpl.extensions) {\n",
       "        var fmt = mpl.extensions[ind];\n",
       "        var option = $(\n",
       "            '<option/>', {selected: fmt === mpl.default_extension}).html(fmt);\n",
       "        fmt_picker.append(option)\n",
       "    }\n",
       "\n",
       "    // Add hover states to the ui-buttons\n",
       "    $( \".ui-button\" ).hover(\n",
       "        function() { $(this).addClass(\"ui-state-hover\");},\n",
       "        function() { $(this).removeClass(\"ui-state-hover\");}\n",
       "    );\n",
       "\n",
       "    var status_bar = $('<span class=\"mpl-message\"/>');\n",
       "    nav_element.append(status_bar);\n",
       "    this.message = status_bar[0];\n",
       "}\n",
       "\n",
       "mpl.figure.prototype.request_resize = function(x_pixels, y_pixels) {\n",
       "    // Request matplotlib to resize the figure. Matplotlib will then trigger a resize in the client,\n",
       "    // which will in turn request a refresh of the image.\n",
       "    this.send_message('resize', {'width': x_pixels, 'height': y_pixels});\n",
       "}\n",
       "\n",
       "mpl.figure.prototype.send_message = function(type, properties) {\n",
       "    properties['type'] = type;\n",
       "    properties['figure_id'] = this.id;\n",
       "    this.ws.send(JSON.stringify(properties));\n",
       "}\n",
       "\n",
       "mpl.figure.prototype.send_draw_message = function() {\n",
       "    if (!this.waiting) {\n",
       "        this.waiting = true;\n",
       "        this.ws.send(JSON.stringify({type: \"draw\", figure_id: this.id}));\n",
       "    }\n",
       "}\n",
       "\n",
       "\n",
       "mpl.figure.prototype.handle_save = function(fig, msg) {\n",
       "    var format_dropdown = fig.format_dropdown;\n",
       "    var format = format_dropdown.options[format_dropdown.selectedIndex].value;\n",
       "    fig.ondownload(fig, format);\n",
       "}\n",
       "\n",
       "\n",
       "mpl.figure.prototype.handle_resize = function(fig, msg) {\n",
       "    var size = msg['size'];\n",
       "    if (size[0] != fig.canvas.width || size[1] != fig.canvas.height) {\n",
       "        fig._resize_canvas(size[0], size[1]);\n",
       "        fig.send_message(\"refresh\", {});\n",
       "    };\n",
       "}\n",
       "\n",
       "mpl.figure.prototype.handle_rubberband = function(fig, msg) {\n",
       "    var x0 = msg['x0'] / mpl.ratio;\n",
       "    var y0 = (fig.canvas.height - msg['y0']) / mpl.ratio;\n",
       "    var x1 = msg['x1'] / mpl.ratio;\n",
       "    var y1 = (fig.canvas.height - msg['y1']) / mpl.ratio;\n",
       "    x0 = Math.floor(x0) + 0.5;\n",
       "    y0 = Math.floor(y0) + 0.5;\n",
       "    x1 = Math.floor(x1) + 0.5;\n",
       "    y1 = Math.floor(y1) + 0.5;\n",
       "    var min_x = Math.min(x0, x1);\n",
       "    var min_y = Math.min(y0, y1);\n",
       "    var width = Math.abs(x1 - x0);\n",
       "    var height = Math.abs(y1 - y0);\n",
       "\n",
       "    fig.rubberband_context.clearRect(\n",
       "        0, 0, fig.canvas.width, fig.canvas.height);\n",
       "\n",
       "    fig.rubberband_context.strokeRect(min_x, min_y, width, height);\n",
       "}\n",
       "\n",
       "mpl.figure.prototype.handle_figure_label = function(fig, msg) {\n",
       "    // Updates the figure title.\n",
       "    fig.header.textContent = msg['label'];\n",
       "}\n",
       "\n",
       "mpl.figure.prototype.handle_cursor = function(fig, msg) {\n",
       "    var cursor = msg['cursor'];\n",
       "    switch(cursor)\n",
       "    {\n",
       "    case 0:\n",
       "        cursor = 'pointer';\n",
       "        break;\n",
       "    case 1:\n",
       "        cursor = 'default';\n",
       "        break;\n",
       "    case 2:\n",
       "        cursor = 'crosshair';\n",
       "        break;\n",
       "    case 3:\n",
       "        cursor = 'move';\n",
       "        break;\n",
       "    }\n",
       "    fig.rubberband_canvas.style.cursor = cursor;\n",
       "}\n",
       "\n",
       "mpl.figure.prototype.handle_message = function(fig, msg) {\n",
       "    fig.message.textContent = msg['message'];\n",
       "}\n",
       "\n",
       "mpl.figure.prototype.handle_draw = function(fig, msg) {\n",
       "    // Request the server to send over a new figure.\n",
       "    fig.send_draw_message();\n",
       "}\n",
       "\n",
       "mpl.figure.prototype.handle_image_mode = function(fig, msg) {\n",
       "    fig.image_mode = msg['mode'];\n",
       "}\n",
       "\n",
       "mpl.figure.prototype.updated_canvas_event = function() {\n",
       "    // Called whenever the canvas gets updated.\n",
       "    this.send_message(\"ack\", {});\n",
       "}\n",
       "\n",
       "// A function to construct a web socket function for onmessage handling.\n",
       "// Called in the figure constructor.\n",
       "mpl.figure.prototype._make_on_message_function = function(fig) {\n",
       "    return function socket_on_message(evt) {\n",
       "        if (evt.data instanceof Blob) {\n",
       "            /* FIXME: We get \"Resource interpreted as Image but\n",
       "             * transferred with MIME type text/plain:\" errors on\n",
       "             * Chrome.  But how to set the MIME type?  It doesn't seem\n",
       "             * to be part of the websocket stream */\n",
       "            evt.data.type = \"image/png\";\n",
       "\n",
       "            /* Free the memory for the previous frames */\n",
       "            if (fig.imageObj.src) {\n",
       "                (window.URL || window.webkitURL).revokeObjectURL(\n",
       "                    fig.imageObj.src);\n",
       "            }\n",
       "\n",
       "            fig.imageObj.src = (window.URL || window.webkitURL).createObjectURL(\n",
       "                evt.data);\n",
       "            fig.updated_canvas_event();\n",
       "            fig.waiting = false;\n",
       "            return;\n",
       "        }\n",
       "        else if (typeof evt.data === 'string' && evt.data.slice(0, 21) == \"data:image/png;base64\") {\n",
       "            fig.imageObj.src = evt.data;\n",
       "            fig.updated_canvas_event();\n",
       "            fig.waiting = false;\n",
       "            return;\n",
       "        }\n",
       "\n",
       "        var msg = JSON.parse(evt.data);\n",
       "        var msg_type = msg['type'];\n",
       "\n",
       "        // Call the  \"handle_{type}\" callback, which takes\n",
       "        // the figure and JSON message as its only arguments.\n",
       "        try {\n",
       "            var callback = fig[\"handle_\" + msg_type];\n",
       "        } catch (e) {\n",
       "            console.log(\"No handler for the '\" + msg_type + \"' message type: \", msg);\n",
       "            return;\n",
       "        }\n",
       "\n",
       "        if (callback) {\n",
       "            try {\n",
       "                // console.log(\"Handling '\" + msg_type + \"' message: \", msg);\n",
       "                callback(fig, msg);\n",
       "            } catch (e) {\n",
       "                console.log(\"Exception inside the 'handler_\" + msg_type + \"' callback:\", e, e.stack, msg);\n",
       "            }\n",
       "        }\n",
       "    };\n",
       "}\n",
       "\n",
       "// from http://stackoverflow.com/questions/1114465/getting-mouse-location-in-canvas\n",
       "mpl.findpos = function(e) {\n",
       "    //this section is from http://www.quirksmode.org/js/events_properties.html\n",
       "    var targ;\n",
       "    if (!e)\n",
       "        e = window.event;\n",
       "    if (e.target)\n",
       "        targ = e.target;\n",
       "    else if (e.srcElement)\n",
       "        targ = e.srcElement;\n",
       "    if (targ.nodeType == 3) // defeat Safari bug\n",
       "        targ = targ.parentNode;\n",
       "\n",
       "    // jQuery normalizes the pageX and pageY\n",
       "    // pageX,Y are the mouse positions relative to the document\n",
       "    // offset() returns the position of the element relative to the document\n",
       "    var x = e.pageX - $(targ).offset().left;\n",
       "    var y = e.pageY - $(targ).offset().top;\n",
       "\n",
       "    return {\"x\": x, \"y\": y};\n",
       "};\n",
       "\n",
       "/*\n",
       " * return a copy of an object with only non-object keys\n",
       " * we need this to avoid circular references\n",
       " * http://stackoverflow.com/a/24161582/3208463\n",
       " */\n",
       "function simpleKeys (original) {\n",
       "  return Object.keys(original).reduce(function (obj, key) {\n",
       "    if (typeof original[key] !== 'object')\n",
       "        obj[key] = original[key]\n",
       "    return obj;\n",
       "  }, {});\n",
       "}\n",
       "\n",
       "mpl.figure.prototype.mouse_event = function(event, name) {\n",
       "    var canvas_pos = mpl.findpos(event)\n",
       "\n",
       "    if (name === 'button_press')\n",
       "    {\n",
       "        this.canvas.focus();\n",
       "        this.canvas_div.focus();\n",
       "    }\n",
       "\n",
       "    var x = canvas_pos.x * mpl.ratio;\n",
       "    var y = canvas_pos.y * mpl.ratio;\n",
       "\n",
       "    this.send_message(name, {x: x, y: y, button: event.button,\n",
       "                             step: event.step,\n",
       "                             guiEvent: simpleKeys(event)});\n",
       "\n",
       "    /* This prevents the web browser from automatically changing to\n",
       "     * the text insertion cursor when the button is pressed.  We want\n",
       "     * to control all of the cursor setting manually through the\n",
       "     * 'cursor' event from matplotlib */\n",
       "    event.preventDefault();\n",
       "    return false;\n",
       "}\n",
       "\n",
       "mpl.figure.prototype._key_event_extra = function(event, name) {\n",
       "    // Handle any extra behaviour associated with a key event\n",
       "}\n",
       "\n",
       "mpl.figure.prototype.key_event = function(event, name) {\n",
       "\n",
       "    // Prevent repeat events\n",
       "    if (name == 'key_press')\n",
       "    {\n",
       "        if (event.which === this._key)\n",
       "            return;\n",
       "        else\n",
       "            this._key = event.which;\n",
       "    }\n",
       "    if (name == 'key_release')\n",
       "        this._key = null;\n",
       "\n",
       "    var value = '';\n",
       "    if (event.ctrlKey && event.which != 17)\n",
       "        value += \"ctrl+\";\n",
       "    if (event.altKey && event.which != 18)\n",
       "        value += \"alt+\";\n",
       "    if (event.shiftKey && event.which != 16)\n",
       "        value += \"shift+\";\n",
       "\n",
       "    value += 'k';\n",
       "    value += event.which.toString();\n",
       "\n",
       "    this._key_event_extra(event, name);\n",
       "\n",
       "    this.send_message(name, {key: value,\n",
       "                             guiEvent: simpleKeys(event)});\n",
       "    return false;\n",
       "}\n",
       "\n",
       "mpl.figure.prototype.toolbar_button_onclick = function(name) {\n",
       "    if (name == 'download') {\n",
       "        this.handle_save(this, null);\n",
       "    } else {\n",
       "        this.send_message(\"toolbar_button\", {name: name});\n",
       "    }\n",
       "};\n",
       "\n",
       "mpl.figure.prototype.toolbar_button_onmouseover = function(tooltip) {\n",
       "    this.message.textContent = tooltip;\n",
       "};\n",
       "mpl.toolbar_items = [[\"Home\", \"Reset original view\", \"fa fa-home icon-home\", \"home\"], [\"Back\", \"Back to previous view\", \"fa fa-arrow-left icon-arrow-left\", \"back\"], [\"Forward\", \"Forward to next view\", \"fa fa-arrow-right icon-arrow-right\", \"forward\"], [\"\", \"\", \"\", \"\"], [\"Pan\", \"Pan axes with left mouse, zoom with right\", \"fa fa-arrows icon-move\", \"pan\"], [\"Zoom\", \"Zoom to rectangle\", \"fa fa-square-o icon-check-empty\", \"zoom\"], [\"\", \"\", \"\", \"\"], [\"Download\", \"Download plot\", \"fa fa-floppy-o icon-save\", \"download\"]];\n",
       "\n",
       "mpl.extensions = [\"eps\", \"jpeg\", \"pdf\", \"png\", \"ps\", \"raw\", \"svg\", \"tif\"];\n",
       "\n",
       "mpl.default_extension = \"png\";var comm_websocket_adapter = function(comm) {\n",
       "    // Create a \"websocket\"-like object which calls the given IPython comm\n",
       "    // object with the appropriate methods. Currently this is a non binary\n",
       "    // socket, so there is still some room for performance tuning.\n",
       "    var ws = {};\n",
       "\n",
       "    ws.close = function() {\n",
       "        comm.close()\n",
       "    };\n",
       "    ws.send = function(m) {\n",
       "        //console.log('sending', m);\n",
       "        comm.send(m);\n",
       "    };\n",
       "    // Register the callback with on_msg.\n",
       "    comm.on_msg(function(msg) {\n",
       "        //console.log('receiving', msg['content']['data'], msg);\n",
       "        // Pass the mpl event to the overridden (by mpl) onmessage function.\n",
       "        ws.onmessage(msg['content']['data'])\n",
       "    });\n",
       "    return ws;\n",
       "}\n",
       "\n",
       "mpl.mpl_figure_comm = function(comm, msg) {\n",
       "    // This is the function which gets called when the mpl process\n",
       "    // starts-up an IPython Comm through the \"matplotlib\" channel.\n",
       "\n",
       "    var id = msg.content.data.id;\n",
       "    // Get hold of the div created by the display call when the Comm\n",
       "    // socket was opened in Python.\n",
       "    var element = $(\"#\" + id);\n",
       "    var ws_proxy = comm_websocket_adapter(comm)\n",
       "\n",
       "    function ondownload(figure, format) {\n",
       "        window.open(figure.imageObj.src);\n",
       "    }\n",
       "\n",
       "    var fig = new mpl.figure(id, ws_proxy,\n",
       "                           ondownload,\n",
       "                           element.get(0));\n",
       "\n",
       "    // Call onopen now - mpl needs it, as it is assuming we've passed it a real\n",
       "    // web socket which is closed, not our websocket->open comm proxy.\n",
       "    ws_proxy.onopen();\n",
       "\n",
       "    fig.parent_element = element.get(0);\n",
       "    fig.cell_info = mpl.find_output_cell(\"<div id='\" + id + \"'></div>\");\n",
       "    if (!fig.cell_info) {\n",
       "        console.error(\"Failed to find cell for figure\", id, fig);\n",
       "        return;\n",
       "    }\n",
       "\n",
       "    var output_index = fig.cell_info[2]\n",
       "    var cell = fig.cell_info[0];\n",
       "\n",
       "};\n",
       "\n",
       "mpl.figure.prototype.handle_close = function(fig, msg) {\n",
       "    var width = fig.canvas.width/mpl.ratio\n",
       "    fig.root.unbind('remove')\n",
       "\n",
       "    // Update the output cell to use the data from the current canvas.\n",
       "    fig.push_to_output();\n",
       "    var dataURL = fig.canvas.toDataURL();\n",
       "    // Re-enable the keyboard manager in IPython - without this line, in FF,\n",
       "    // the notebook keyboard shortcuts fail.\n",
       "    IPython.keyboard_manager.enable()\n",
       "    $(fig.parent_element).html('<img src=\"' + dataURL + '\" width=\"' + width + '\">');\n",
       "    fig.close_ws(fig, msg);\n",
       "}\n",
       "\n",
       "mpl.figure.prototype.close_ws = function(fig, msg){\n",
       "    fig.send_message('closing', msg);\n",
       "    // fig.ws.close()\n",
       "}\n",
       "\n",
       "mpl.figure.prototype.push_to_output = function(remove_interactive) {\n",
       "    // Turn the data on the canvas into data in the output cell.\n",
       "    var width = this.canvas.width/mpl.ratio\n",
       "    var dataURL = this.canvas.toDataURL();\n",
       "    this.cell_info[1]['text/html'] = '<img src=\"' + dataURL + '\" width=\"' + width + '\">';\n",
       "}\n",
       "\n",
       "mpl.figure.prototype.updated_canvas_event = function() {\n",
       "    // Tell IPython that the notebook contents must change.\n",
       "    IPython.notebook.set_dirty(true);\n",
       "    this.send_message(\"ack\", {});\n",
       "    var fig = this;\n",
       "    // Wait a second, then push the new image to the DOM so\n",
       "    // that it is saved nicely (might be nice to debounce this).\n",
       "    setTimeout(function () { fig.push_to_output() }, 1000);\n",
       "}\n",
       "\n",
       "mpl.figure.prototype._init_toolbar = function() {\n",
       "    var fig = this;\n",
       "\n",
       "    var nav_element = $('<div/>')\n",
       "    nav_element.attr('style', 'width: 100%');\n",
       "    this.root.append(nav_element);\n",
       "\n",
       "    // Define a callback function for later on.\n",
       "    function toolbar_event(event) {\n",
       "        return fig.toolbar_button_onclick(event['data']);\n",
       "    }\n",
       "    function toolbar_mouse_event(event) {\n",
       "        return fig.toolbar_button_onmouseover(event['data']);\n",
       "    }\n",
       "\n",
       "    for(var toolbar_ind in mpl.toolbar_items){\n",
       "        var name = mpl.toolbar_items[toolbar_ind][0];\n",
       "        var tooltip = mpl.toolbar_items[toolbar_ind][1];\n",
       "        var image = mpl.toolbar_items[toolbar_ind][2];\n",
       "        var method_name = mpl.toolbar_items[toolbar_ind][3];\n",
       "\n",
       "        if (!name) { continue; };\n",
       "\n",
       "        var button = $('<button class=\"btn btn-default\" href=\"#\" title=\"' + name + '\"><i class=\"fa ' + image + ' fa-lg\"></i></button>');\n",
       "        button.click(method_name, toolbar_event);\n",
       "        button.mouseover(tooltip, toolbar_mouse_event);\n",
       "        nav_element.append(button);\n",
       "    }\n",
       "\n",
       "    // Add the status bar.\n",
       "    var status_bar = $('<span class=\"mpl-message\" style=\"text-align:right; float: right;\"/>');\n",
       "    nav_element.append(status_bar);\n",
       "    this.message = status_bar[0];\n",
       "\n",
       "    // Add the close button to the window.\n",
       "    var buttongrp = $('<div class=\"btn-group inline pull-right\"></div>');\n",
       "    var button = $('<button class=\"btn btn-mini btn-primary\" href=\"#\" title=\"Stop Interaction\"><i class=\"fa fa-power-off icon-remove icon-large\"></i></button>');\n",
       "    button.click(function (evt) { fig.handle_close(fig, {}); } );\n",
       "    button.mouseover('Stop Interaction', toolbar_mouse_event);\n",
       "    buttongrp.append(button);\n",
       "    var titlebar = this.root.find($('.ui-dialog-titlebar'));\n",
       "    titlebar.prepend(buttongrp);\n",
       "}\n",
       "\n",
       "mpl.figure.prototype._root_extra_style = function(el){\n",
       "    var fig = this\n",
       "    el.on(\"remove\", function(){\n",
       "\tfig.close_ws(fig, {});\n",
       "    });\n",
       "}\n",
       "\n",
       "mpl.figure.prototype._canvas_extra_style = function(el){\n",
       "    // this is important to make the div 'focusable\n",
       "    el.attr('tabindex', 0)\n",
       "    // reach out to IPython and tell the keyboard manager to turn it's self\n",
       "    // off when our div gets focus\n",
       "\n",
       "    // location in version 3\n",
       "    if (IPython.notebook.keyboard_manager) {\n",
       "        IPython.notebook.keyboard_manager.register_events(el);\n",
       "    }\n",
       "    else {\n",
       "        // location in version 2\n",
       "        IPython.keyboard_manager.register_events(el);\n",
       "    }\n",
       "\n",
       "}\n",
       "\n",
       "mpl.figure.prototype._key_event_extra = function(event, name) {\n",
       "    var manager = IPython.notebook.keyboard_manager;\n",
       "    if (!manager)\n",
       "        manager = IPython.keyboard_manager;\n",
       "\n",
       "    // Check for shift+enter\n",
       "    if (event.shiftKey && event.which == 13) {\n",
       "        this.canvas_div.blur();\n",
       "        event.shiftKey = false;\n",
       "        // Send a \"J\" for go to next cell\n",
       "        event.which = 74;\n",
       "        event.keyCode = 74;\n",
       "        manager.command_mode();\n",
       "        manager.handle_keydown(event);\n",
       "    }\n",
       "}\n",
       "\n",
       "mpl.figure.prototype.handle_save = function(fig, msg) {\n",
       "    fig.ondownload(fig, null);\n",
       "}\n",
       "\n",
       "\n",
       "mpl.find_output_cell = function(html_output) {\n",
       "    // Return the cell and output element which can be found *uniquely* in the notebook.\n",
       "    // Note - this is a bit hacky, but it is done because the \"notebook_saving.Notebook\"\n",
       "    // IPython event is triggered only after the cells have been serialised, which for\n",
       "    // our purposes (turning an active figure into a static one), is too late.\n",
       "    var cells = IPython.notebook.get_cells();\n",
       "    var ncells = cells.length;\n",
       "    for (var i=0; i<ncells; i++) {\n",
       "        var cell = cells[i];\n",
       "        if (cell.cell_type === 'code'){\n",
       "            for (var j=0; j<cell.output_area.outputs.length; j++) {\n",
       "                var data = cell.output_area.outputs[j];\n",
       "                if (data.data) {\n",
       "                    // IPython >= 3 moved mimebundle to data attribute of output\n",
       "                    data = data.data;\n",
       "                }\n",
       "                if (data['text/html'] == html_output) {\n",
       "                    return [cell, data, j];\n",
       "                }\n",
       "            }\n",
       "        }\n",
       "    }\n",
       "}\n",
       "\n",
       "// Register the function which deals with the matplotlib target/channel.\n",
       "// The kernel may be null if the page has been refreshed.\n",
       "if (IPython.notebook.kernel != null) {\n",
       "    IPython.notebook.kernel.comm_manager.register_target('matplotlib', mpl.mpl_figure_comm);\n",
       "}\n"
      ],
      "text/plain": [
       "<IPython.core.display.Javascript object>"
      ]
     },
     "metadata": {},
     "output_type": "display_data"
    },
    {
     "data": {
      "text/html": [
       "<img src=\"data:image/png;base64,iVBORw0KGgoAAAANSUhEUgAAA4QAAAJYCAYAAAA6xSjbAAAgAElEQVR4nOzdeXxU9aH//4O0X1vbC4j1Vq+1o1Wkti61xdpb93qr2EWvItb603Jb7XK9t1qr3mERwq6AgiJKxYWiEkUBAwxhCYvs+04I+xb2JGSdLJOZef/+GEmICcwkTM75fDKv5+Nx/gnJ5ODrMTFvZuaMIwAAAABASnK8PgEAAAAAgDcYhAAAAACQohiEAAAAAJCiGIQAAAAAkKIYhAAAAACQohiEAAAAAJCiGIQAAAAAkKIYhAAAAACQohiEAAAAAJCiGIQAAAAAkKIYhAAAAACQohiEAAAAAJCiGIQAAAAAkKIYhAAAAACQohiEAAAAAJCiGIQAAAAAkKIYhAAAAACQohiEAAAAAJCiGIQAAAAAkKIYhAAAAACQohiEAAAAAJCiGIQAAAAAkKIYhAAAAACQohiEAAAAAJCiGIQAAAAAkKIYhAAAAACQohiEAAAAAJCiGIQAAAAAkKIYhAAAAACQohiEAAAAAJCiGIQAAAAAkKIYhAAAAACQohiEAAAAAJCiGIQAAAAAkKIYhAAAAACQohiEAAAAAJCiGIQAAAAAkKIYhAAAAACQohiEAAAAAJCiGIQAAAAAkKIYhAAAAACQohiEAAAAAJCiGIQAAAAAkKIYhAAAAACQohiEAAAAAJCiGIQAAAAAkKIYhAAAAACQohiEAAAAAJCiGIQAAAAAkKIYhAAAAACQohiEAAAAAJCiGIQAAAAAkKIYhAAAAACQohiEAAAAAJCiGIQAAAAAkKIYhAAAAACQohiEAAAAAJCiGIQAAAAAkKIYhAAAAACQohiEAAAAAJCiGIQAAAAAkKIYhAAAAACQohiEAAAAAJCiGIQAAAAAkKIYhAAAAACQohiEAAAAAJCiGIQAAAAAkKIYhAAAAACQohiEAAAAAJCiGIQAAAAAkKIYhJaLRCLKzc1VUVGRiouLOTg4ODg4ODg4OKw/ioqKlJubq0gk4vWv2y0eg9Byubm5chyHg4ODg4ODg4ODo8Udubm5Xv+63eIxCC1XVFRUc2dx+19u8vPzlZ6ervz8fM//FYmDTrYfdDL/oJEdB53sOOhk/uF1oxMPehQVFXn963aLxyC0XHFxsRzHUXFxsevfOxQKKSMjQ6FQyPXvjcTRyQ50Mh+N7EAnO9DJfF438vJ33FTDILQcgxDx0MkOdDIfjexAJzvQyXxeN2IQuodBaDkGIeKhkx3oZD4a2YFOdqCT+bxuxCB0D4PQcgxCxEMnO9DJfDSyA53sQCfzed2IQegeBqHlGISIh052oJP5aGQHOtmBTubzuhGD0D0Mwib44IMP9Oijj+qaa67R+eefry996Utq06aNrr/+eg0ePFilpaWn/NqsrCzdfffdOu+88/SVr3xFHTt2VM+ePU/7NafDIEQ8dLIDncxHIzvQyQ50Mp/XjRiE7mEQNsGNN96oVq1a6Xvf+57uuusu/fa3v9XPfvYzffWrX5XjOLr88st18ODBel83fPhwOY6jVq1a6ZZbblHXrl11wQUXyHEcdezYUXl5eY0+FwYh4qGTHehkPhrZgU52oJP5vG7EIHQPg7AJli9froKCgnofz8/P10033STHcfTQQw/V+bO1a9eqVatWat26tTIzM2s+HgwGdccdd8hxHHXp0qXR58IgRDx0sgOdzEcjO9DJDnQyn9eNGITuYRAm2cKFC+U4jtq3b1/n4127dpXjOHr88cfrfc3evXt11llnyXEc5eTkNOr7ncmdpbq6WhUVFU0+SkpKFAgEVFJScka30xKPqqoqRaPRRjdpDl7/QEdi6GQ+GtmBTnagk/m8bsQgdA+DMMmWLl0qx3F04YUX1nysqqpK55xzjhzH0bx58xr8uptvvlmO42jw4MGN+n5NubMEg0Ht27dPW7ZsOaMjOztbq1evVnZ29hnfVks8duzYoSNHjigcDjeqabJ5/QMdiaGT+WhkBzrZgU7m87oRg9A9DMIkKikp0Z133inHcfTnP/+55uObNm2S4zhyHEclJSUNfu3TTz8tx3HUtWvXRn3Pxt5ZqqqqtHXrVu3atUuFhYUqLy9v8qNgwWBQR48eVTAY9PwROZOO8vJylZaW6vDhw9q6dav27Nnj6Sj0+gc6EkMn89HIDnSyA53M53UjBqF7GIRnYNasWerWrZseffRR3XnnnfqXf/kXOY6jzp07q6ioqObzpk6dKsdx1K5du1Pe1okLznTq1KlR59DYO0tubq527NiRlIESiURUWFioSCRyxrfVUpWXl2vr1q06cuSIZ+fg9Q90JIZO5qORHehkBzqZz+tGDEL3MAjPwIgRI2oe+TtxPPzww/V++R8/frwcx9FFF110ytsaM2aMHMfRFVdccdrvWVlZqeLi4pojNzdXjuMoPz9foVDotEdVVZVycnJ09OhRRSKRMz7C4bAKCwsVDoeTcnst9Th48KC2bdumqqqquI2a4wgGg8rIyFAwGPTk+3PQqaUcNLLjoJMdB53MP7xulJ+fzyB0CYMwCUKhkHbu3KmXX35Z5557rtq3b68FCxbU/HkyB2FaWlq9Eeo4jtLT05WRkXHaY9q0aVq1apUOHz6swsJCDpeOQ4cOadWqVZo6dWrcRhwcHBwcHBwcHBlKT09nELqEQZhky5cvV6tWrXTxxRervLxcUnKfMnomjxCWlJQoOztbZWVlPELo4lFWVqbs7GyVlpam5L/wcdCppRw0suOgkx0Hncw/vG7EI4TuYRA2g+9///tyHEcLFy6UJG3cuDHhi8o88MADjfpejXl+dUVFhbZs2aKKiopGfY9TiUR4DWEikv3fvbFCIV6nYQM6mY9GdqCTHehkPq8b8RpC9zAIm8GPf/xjOY6jiRMnSjLnbScYhN5gECIRdDIfjexAJzvQyXxeN2IQuodBmGR5eXk6++yz5TiONm7cWPPxeG9M37p162Z/Y3oGoTcYhEgEncxHIzvQyQ50Mt/h46V65yMGYSpgEDZSdna2PvjggwZ/ud+2bZtuu+02OY6jn/zkJ3X+bM2aNWrVqpVat26tGTNm1Hw8GAzqjjvukOM46tKlS6PPh0HYPKZOnaqbbrqp5q1EHMfR/Pnzm3RbDEIkgk7mo5Ed6GQHOpnv6Y/W6vLu0zR+2R5Pvj+D0D0MwkaaP3++HMfR1772Nd1000166KGHdP/996tTp04666yz5DiOrrzySu3bt6/e1564cEyrVq1022236cEHH9SFF14ox3HUsWNH5eXlNfp8GITJt27dOn35y19W69at9fOf/1y/+93v1K1bt0Y/ensCgxCJoJP5aGQHOtmBTmZbvfe4fP6AfP6AVu465sk5MAjdwyBspGPHjmnQoEHq3LmzLrnkEn3ta1/T//t//08XXHCBfv7zn2v06NGqrKw85ddnZWWpc+fOat++vc4++2x16NBBPXr0OOXFZuJhECbfibf26NmzZ1Juj0GIRNDJfDSyA53sQCdzhSNR/eLVhfL5A3rwpak8ZTQFMAgtxyBMvt///vdyHEdjx45Nyu0xCJEIOpmPRnagkx3oZK73l+2Vzx/Q1Wkz9f4nvIYwFTAILccgTJ4Tjww2dNx6661Nvl0GIRJBJ/PRyA50sgOdzHS8rErX9pslnz+gdxbu5CqjKYJBaDkGYfJ8+umn6tatmy677DI5jqMbb7xR3bp1U7du3fTCCy80+XYZhEgEncxHIzvQyQ50MlP3SRvl8wd014gFKq+oZBCmCAah5ZI5CKPRqIJV1QkfpRVVOnQ0X6UVVY36uuY4otFo0v6bduvWjaeMwnV0Mh+N7EAnO9DJPBtyC3VJ99iFZFbsLvC8EYPQPQxCyyVzEAarqmuuKGXbEayqTtp/UwYhvEAn89HIDnSyA53MEolEde+oxfL5A/rbR+sked+IQegeBqHlGIQMwni8/oGOxNDJfDSyA53sQCezTFi5Xz5/QN/rPUNHi2O/r3jdiEHoHgah5XjKKE8ZjcfrH+hIDJ3MRyM70MkOdDJHUTCkH/afLZ8/oDELdtV83OtGDEL3MAgtx0Vlko9BCC/QyXw0sgOd7EAnc6RN2SyfP6A7Xv5MoXDt73ReN2IQuodBaDkGYfIxCOEFOpmPRnagkx3oZIbsg8W69PMLySzekVfnz7xuxCB0D4PQcgzC5GMQwgt0Mh+N7EAnO9DJe9FoVA+MXiKfP6AnPlhT78+9bsQgdA+D0HIMwuRjEMILdDIfjexAJzvQyXufrj0gnz+g7z4/QwcLy+v9udeNGITuYRBajkGYfAxCeIFO5qORHehkBzp5q6QipE4Ds+TzBzRq3o4GP8frRgxC9zAILccgTD4GIbxAJ/PRyA50sgOdvDUwkC2fP6Bbh85TZXW4wc/xuhGD0D0MQssxCM3HIEQi6GQ+GtmBTnagk3e2HynRZT2my+cPaN7Wo6f8PK8bMQjdwyC0HIPQfAxCJIJO5qORHehkBzp5IxqN6uG3lsnnD+jxcatO+7leN2IQuodBaDkGofkYhEgEncxHIzvQyQ508kZgwyH5/AF16JWp/QXB036u140YhO5hEFqOQWg+BiESQSfz0cgOdLIDndwXrKrWTwbPkc8f0PDZ2+J+vteNGITuYRBajkFoPgYhEkEn89HIDnSyA53cN3Rmjnz+gG58ca4qQg1fSOZkXjdiELqHQWg5BqH5GIRIBJ3MRyM70MkOdHLX7rwydeiZKZ8/oFmbDyf0NV43YhC6h0FoOQah+RiESASdzEcjO9DJDnRyTzQa1SNvL5fPH9Dv3lmhaDSa0Nd53YhB6B4GoeUYhOZjECIRdDIfjexAJzvQyT2frM6tuZDM7ryyhL/O60YMQvcwCC3HIDQfgxCJoJP5aGQHOtmBTu44VlKpa/rOks8f0OvzdzTqa71uxCB0D4PQcgxC8zEIkQg6mY9GdqCTHejkjv8Zv0Y+f0B3v7JQoXDjfl/zuhGD0D0MQssxCM3HIEQi6GQ+GtmBTnagU/PLyj4inz+g7/SYrk0Hihr99V43YhC6h0FoOQah+RiESASdzEcjO9DJDnRqXsUVId0wKPaeg4MztzTpNrxuxCB0D4PQcgxC8zEIkQg6mY9GdqCTHejUvHp9ulE+f0C3DJ2n8qr47znYEK8bMQjdwyC0HIPQfAxCJIJO5qORHehkBzo1nxW7C+TzB+TzB7RkZ16Tb8frRgxC9zAILccgNB+DEImgk/loZAc62YFOzaMiFNbtw+bL5w/IP3HDGd2W140YhO5hEFqOQZh8juPIcZJ312AQIhF0Mh+N7EAnO9CpeQydmSOfP6DrB2apqPzM/tt63YhB6B4GoeUYhMnHIIQX6GQ+GtmBTnagU/JlHyzWZT2my+cPaMamw2d8e143YhC6h0FoOQZh8jEI4QU6mY9GdqCTHeiUXNXhiH792iL5/AH9+b3VSblNrxsxCN3DILQcgzD5GITwAp3MRyM70MkOdEquMQt2yecP6Oq0mTpanJzfN7xuxCB0D4PQcgzC5Dt5EE6cOFE33nij/uVf/kXnnHOOfvrTn2r69OmNuj0GIRJBJ/PRyA50sgOdkmdvfpk6Pp8pnz+gj1buS9rtet2IQegeBqHlGITJd2IQ9unTR61atdKNN96o3/zmN7r22mvlOI5atWqlyZMnJ3x7DEIkgk7mo5Ed6GQHOiVHNBrVb8csk88f0G/HLFM0Gk3abXvdiEHoHgah5ZI6CKNRqaos4SNSUaLCYwcVqShp1Nc1y5HEH4AnBmG7du20fPnyOn+WlpYmx3F0xRVXJHx7DEIkgk7mo5Ed6GQHOiXHhFX75fMHdEWvTO3JK0vqbXvdiEHoHgah5ZI6CKvKpLQ2dh5VyfsheGIQjhw5st6fVVZWqm3btnIcR/v370/o9hiESASdzEcjO9DJDnQ6c0dLKnR12kz5/AH947OdSb99rxsxCN3DILQcg7D5BuGePXsa/PPrrrtOjuNo2bJlCd0egxCJoJP5aGQHOtmBTmfuvz9YLZ8/oF+NXKTqcPJfvuN1IwahexiEluMpo833lNFTvTby1ltvleM4mj9/fkK3xyBEIuhkPhrZgU52oNOZmbn5sHz+gL7TY7o2Hyxqlu/hdSMGoXsYhJbjojLJF+9tJxiEaA50Mh+N7EAnO9Cp6YrKQ7p+YJZ8/oCGzMhptu/jdSMGoXsYhJZjECYfgxBeoJP5aGQHOtmBTk333Cfr5fMHdNuw+aoIhZvt+3jdiEHoHgah5RiEyccghBfoZD4a2YFOdqBT05x4qugl3QNasbugWb+X140YhO5hEFqOQZh8DEJ4gU7mo5Ed6GQHOjXe0ZIKXdd/tnz+gAZnbmn27xfat0r7X+msUHlps3+vhjAI3cMgtByDMPkYhPACncxHIzvQyQ50apxoNKr/eneFfP6AOr+yUJXVzfdUUUnSvmWKDr5ISmuj8Oy+zfu9ToFB6B4GoeUYhMnHIIQX6GQ+GtmBTnagU+O8v2yvfP6AOvTK1NbDJc37zXbOlQZeIKW1Ud6w6xUqbd6npp4Kg9A9DELLMQjNxyBEIuhkPhrZgU52oFPidh0r1XefnyGfP6C3Fu5q3m+WE5D6f0NKa6PIuPs0bfIEXkOYAhiElmMQmo9BiETQyXw0sgOd7ECnxITCEd3z2iL5/AE9/NYyRSLJe9/lejZ8LPU9V0prI330iELlpVxUJkUwCC3HIDQfgxCJoJP5aGQHOtmBTokZPnubfP6Ark6bqUNF5c33jVa9K6W1jY3ByX+WwtWeN2IQuodB2EihUEhz5szRs88+q06dOqlt27b60pe+pG9+85v69a9/rUAgcNqvz8rK0t13363zzjtPX/nKV9SxY0f17NlTpaVNu4ITg9B8DEIkgk7mo5Ed6GQHOsW3dt9xfafHdPn8AU1Zf7D5vtGS12JDMK2NFPi79PnvdV43YhC6h0HYSFlZWTUXHbngggv0y1/+Ug8++KCuuuqqmo//6U9/UjRa/yH94cOHy3EctWrVSrfccou6du2qCy64QI7jqGPHjsrLy2v0+TAIzccgRCLoZD4a2YFOdqDT6ZVVVuvWofPk8wf05Idrm+ebRKPS/Bdqx+DsPrGPfc7rRgxC9zAIG2nu3Lnq0qWLFi5cWO/PPvroI7Vu3VqO42jcuHF1/mzt2rVq1aqVWrdurczMzJqPB4NB3XHHHXIcR126dGn0+TAIzccgRCLoZD4a2YFOdqDT6XWftFE+f0A/GTxHReXN8N8oGpVm9qwdgwuG1fsUrxsxCN3DIEyyxx57TI7j6I477qjz8a5du8pxHD3++OP1vmbv3r0666yz5DiOcnJyGvX9GITmYxAiEXQyH43sQCc70OnUsrKPyOcPyOcPaMmOxj97LK5IWJr6ZO0YXDa6wU/zuhGD0D0MwiQbNWqUHMfRFVdcUfOxqqoqnXPOOXIcR/PmzWvw626++WY5jqPBgwc36vsxCM3HIEQi6GQ+GtmBTnagU8PySiv1owGz5fMHNGBadvK/QTgkTXwsNgT7tpPWvHfKT/W6EYPQPQzCJHvqqafkOI5uvfXWmo9t2rSp5vWFJSUNv5no008/Lcdx1LVr10Z9Pwah+RiESASdzEcjO9DJDnSqLxqN6rF/rpLPH9BdIxaoIhRO7jeorpTSfxsbg/3aS5smnfbTvW7EIHQPgzCJDh8+rLZt28pxHI0cObLm41OnTpXjOGrXrt0pv/bEBWc6derUqO/ZlEFYXp6cyxYzCBNTXl7OIERcdDIfjexAJzvQqb4PV+yTzx9Qh56Z2nIoySOoqkwad29sDPY/X9o2M+6XeN2IQegeBmGSVFdX11wc5uqrr1ZVVVXNn40fP16O4+iiiy465dePGTOm3lNNG1JZWani4uKaIzc3V47jKD8/X6FQ6LRHeXm5srOzVVRUpEgkcsZHOBxWYWGhwuFwUm6vpR7Hjx9Xdna2ysvL4zZqjiMYDCojI0PBYNCT789Bp5Zy0MiOg052HHSqe+w4XKQre8+Qzx/QG/O2J/f2i48p8tZ/SGltFB14oaq3z7GiUX5+PoPQJQzCJDlxMZnzzjtP27Ztq/NnyRyEaWlpNU8/PflIT09XRkZG3GPx4sXavn27jh8/rsLCQo5mPgoKCrRlyxYtWLAgoT4cHBwcHBwcqXVM+jRDtw6YJp8/oDsGTdXkT5N32zM/GaviF74npbVRVf8LtGD8MM//voke6enpDEKXMAiT4Mknn5TjODr33HO1dm3994pJ5lNGz+QRwlAopIKCAmVnZ2vfvn0qLCxUWVmZgsFgk46ysjIdPXr0jG6jJR5lZWUqKSnR0aNHtX37duXk5Ki4uNizf3X0+l/4OOjUUg4a2XHQyY6DTrXH8Fk58vkD+n6fmdpzLIm/LxzJUXT4VbFHBod1UOjABqsa8QihexiEZ+jvf/97zdhbtWpVg5+zcePGhC8q88ADDzTq+zfl+dXFxcXatWuXtmzZckZHdna2Vq9erezs7DO+rZZ4bNu2Tbm5uXWePuyFUIjXadiATuajkR3oZAc6xazfX6jv9Jgunz+gyWtzk3fDh9ZLQy+LvWbw1R9Ix/c2+ia8bsRrCN3DIDwDzz33nBzHUdu2bbVy5cpTfp4pbzvxRaFQSBUVFU0+SkpKFAgEVFJScka30xKPqqoqRaPRRjdpDl7/QEdi6GQ+GtmBTnagk1QUDOmmIXPl8wf0xPg1yfu9Yc8iafC3YmNw9E1S6dEm3YzXjRiE7mEQNpHf709oDJ4Q743pW7du3exvTJ9sXv+gQGLoZAc6mY9GdqCTHVK9UzQa1ePjYm8xcdOQuSoqT9J/h5xA7CqiaW2kd38hVRQ1+aa8bsQgdA+DsAl69epV8zTRRMagJK1Zs0atWrVS69atNWPGjJqPB4PBmquTdunSpdHnwiBEPHSyA53MRyM70MkOqd5pzIJdNW8xsTG36aOtjrXvx95sPq2N9OHDUujM3u7K60YMQvcwCBtpypQpNa8H7NSpk7p169bg8cwzz9T72hMXjmnVqpVuu+02Pfjgg7rwwgvlOI46duyovLy8Rp8PgxDx0MkOdDIfjexAJzukcqdVewpqXjf43rLGv7avQYtfiQ3BtDZSxhNSuPqMb9LrRgxC9zAIG2ns2LENvu3DFw+fz9fg12dlZalz585q3769zj77bHXo0EE9evQ45cVm4mEQIh462YFO5qORHehkh1TtlF9aqRsGzZHPH9Bf09ee+esGo1Fp1vO1Y3B279jHksDrRgxC9zAILccgRDx0sgOdzEcjO9DJDqnYKRyJ6pG3l8vnD+hnL81XWeUZPooXrpY+faJ2DC5+JTkn+jmvGzEI3cMgtByDEPHQyQ50Mh+N7EAnO6Rip1eytsvnD6jj85naerhpzwyrEaqQ0n8bG4J928VeP5hkXjdiELqHQWg5BiHioZMd6GQ+GtmBTnZItU6Ld+Tpku4B+fwBTVx9hu83WFEUu4JoWpvYFUVzAsk5yS/wuhGD0D0MQssxCBEPnexAJ/PRyA50skMqdTpSXKEfDZgtnz8g/8QNZ3ZjxYekN26MjcHB34q952Az8boRg9A9DELLMQgRD53sQCfz0cgOdLJDqnSqDkfUdfRS+fwBdX5loSpC4abf2LGt0vDvx8bg0MulQ+uTd6IN8LoRg9A9DELLMQgRD53sQCfz0cgOdLJDqnR6ITNHPn9A3+8zU7vzypp+Q3uXSi98OzYGR/5QOr4naed4Kl43YhC6h0FoOQYh4qGTHehkPhrZgU52SIVOc7Yckc8fe93g9I2Hmn5DW6ZKA/41NgbfukMqy0/eSZ6G140YhO5hEFqOQYh46GQHOpmPRnagkx1aeqf9BUFd03eWfP6A0qZsbvoNLX9TSmsbG4PpD0lVweSdZBxeN2IQuodBaDkGIeKhkx3oZD4a2YFOdmjJnSqrw7rntUXy+QO6d9RiVVVHGn8jkYg0u0/tewxOfSr2voMu8roRg9A9DELLMQgRD53sQCfz0cgOdLJDS+7UJ2OTfP6Aru03SwcKyxt/A9VV0qQ/1o7BBUOlaDT5JxqH140YhO5hEFqOQYh46GQHOpmPRnagkx1aaqep6w/WvG5wbs6Rxt9ARbE07p7P33D+XGntB8k/yQR53YhB6B4GoeUYhIiHTnagk/loZAc62aEldtp5rFTf6z1DPn9AQ2bkNP4GSg5Loz9/j8GBF0rbs5J/ko3gdSMGoXsYhJZjECIeOtmBTuajkR3oZIeW1qkoGNLtw+bL5w/owX8sVXW4ka8bPLZNGn7V5+8xeJl0YE3znGgjeN2IQegeBqHlGISIh052oJP5aGQHOtmhJXWqDkf0yNvL5fMH9O+D5+hYSWXjbmDfculFX2wMvnqdVLC7Wc6zsbxuxCB0D4PQcgxCxEMnO9DJfDSyA53s0JI6pU3ZLJ8/oO8+P0ObDxY17ouzp9S+x+CY26WyvOY5ySbwuhGD0D0MQssxCBEPnexAJ/PRyA50skNL6fTB8r01F5GZselw4l8YjUpLRta+x+D4B6WqsuY70SbwuhGD0D0MQssxCBEPnexAJ/PRyA50skNL6LRkZ54u6zFdPn9Ar83dnvgXhqulaX+rfVuJaU+7/h6DifC6EYPQPQxCyzEIEQ+d7EAn89HIDnSyg+2d9uSV6dp+s+TzB/TX9LWKJvo+gRXF0vv3fz4G20pLR3nyHoOJ8LoRg9A9DELLMQgRD53sQCfz0cgOdLKDzZ2KK0K64+XP5PMHdM9ri1QRCif2hUW50hs/jY3BAd+Utkxr3hM9Q143YhC6h0FoOQYh4qGTHehkPhrZgU52sLVTOBJVt3dXyOcP6IZBc3S0uCKxLzy4Thp2xedvK3G5EW8rEY/XjRiE7mEQWo5BiHjoZAc6mY9GdqCTHWztNGBatnz+gDo+n6mNuQleUXRrpjTwgtgYHHWDVLiveU8ySbxuxCB0D4PQcgxCxEMnO9DJfDSyA53sYGOnj1buq7miaGDDocS+aNloqW+72Bgcd69U0ci3pfCQ11unydcAACAASURBVI0YhO5hEFqOQYh46GQHOpmPRnagkx1s67R8V74u7xm7ouiIrG3xvyASlqY/V3sl0Sl/lcJ2/F1P8LoRg9A9DELLMQgRD53sQCfz0cgOdLKDTZ32FwR1Xf/Z8vkDeuKDNYpE4lwVtLI09r6CJ8bgohHGXkn0dLxuxCB0D4PQcgxCxEMnO9DJfDSyA53sYEun0spq3Tl8gXz+gH41cpHKq+JcUbT4kDT6ps+vJPqv0uZP3TnRZuB1IwahexiElmMQIh462YFO5qORHehkBxs6hSNR/WHsSvn8AV0/MEuHi+JcUfTwRunlK2NjcMh3pP0r3TnRZuJ1IwahexiElmMQIh462YFO5qORHehkBxs6Dc7cIp8/oCt6ZWrd/sLTf/KWqbVXEn2tk1Sw252TbEZeN2IQuodBaDkGIeKhkx3oZD4a2YFOdjC908lXFM1Yd+DUnxiNSguG1b5ecNy9Uvlx9060GXndiEHoHgah5RiEiIdOdqCT+WhkBzrZweROszYf1qXdY2PwpVlbT/2JoXJp4mO1Y3D6c1K42r0TbWZeN2IQuodBaDkGIeKhkx3oZD4a2YFOdjC10/Jd+bqiV6Z8/oCe+2S9oqe6OmjJYWnM7bEh2K+9tOodd0/UBV43YhC6h0FoOQYh4qGTHehkPhrZgU52MLHTlkPFuiptpnz+gB775ypVhyMNf+LBddJL342NwRe+Le1e4O6JusTrRgxC9zAILccgRDx0sgOdzEcjO9DJDqZ12l8QVKeBWfL5A3pg9BJVhE7x9hKbP5UGfLP24jH5O909URd53YhB6B4GoeUYhIiHTnagk/loZAc62cGkTnmllbp16Dz5/AHdOXyBioINnFM0Ks1/sfb1gu/fL1UUuX+yLvK6EYPQPQxCyzEIEQ+d7EAn89HIDnSygymdSiur9auRi+TzB/TTF+bqSHED7zVYFZQ+7lY7Bmf0kCJx3qC+BfC6EYPQPQxCyzEIEQ+d7EAn89HIDnSygwmdKqvDevitZfL5A7qu/2ztOlZa/5OKD0pv3vr5xWPOk9aMc/s0PeN1IwahexiElmMQIh462YFO5qORHehkB687hSNRPTF+jXz+gK7sPUPrG3rj+QOrpWFXxMbgi5dIexa7f6Ie8roRg9A9DELLMQgRD53sQCfz0cgOdLKDl52i0ah6Z2ySzx/Q5T2na+H2Y/U/acPH0oB/jY3BUTdIx/e4fp5e8/q+xCB0D4PQcgxCxEMnO9DJfDSyA53s4GWnV+dsl88f0CXdA5qy/mDdPwxXSzN71r5e8IOuUkVqDhKv70sMQvcwCC3HIEQ8dLIDncxHIzvQyQ5edfpg+V75/AH5/AGNXby77h+W5Uv//HXtGJzTPyUuHnMqXt+XGITuYRBajkGIeOhkBzqZj0Z2oJMdvOg0Y9MhXdo9NgaHzdxa9w8PbZCGXxUbggMvlLIzXDsvU3l9X2IQuodBaDkGIeKhkx3oZD4a2YFOdnC709Kd+erQM1M+f0DdJ21QNBqt/cONn9S+2fwr10pHsl05J9N5fV9iELqHQWg5BiHioZMd6GQ+GtmBTnZws9OG3EJd1WemfP6A/jhularDkdgffPH1gu/fL5Ufb/bzsYXX9yUGoXsYhJZjECIeOtmBTuajkR3oZAe3Om3ILdTVabEx2PUfS1UR+vw1gcECadw9tWMwq29Kv16wIV7flxiE7mEQWo5BiHjoZAc6mY9GdqCTHdzodPIYvP+NJSqtrI79weGN0ogTrxe8QNo8udnOwWZe35cYhO5hEFqOQYh46GQHOpmPRnagkx2au9OG3EJd1dAYrPN6wWukI5ub5fu3BF7flxiE7mEQWo5BiHjoZAc6mY9GdqCTHZqz0/r9tWOwy4kxGK6WZj1f+xTR9/4z9rRRnJLX9yUGoXsYhJZjECIeOtmBTuajkR3oZIfm6tTgGAwWSOPurR2Ds/vwesEEeH1fYhC6h0FoOQYh4qGTHehkPhrZgU52aI5O604agw+M/nwMHlgtDf9+7esFN01M2vdr6by+LzEI3cMgbIKtW7dq5MiR6tatm6666iq1bt1ajuNowIABcb82KytLd999t8477zx95StfUceOHdWzZ0+VlpY26VwYhIiHTnagk/loZAc62SHZneqNwYqQtPItqf83YmPw1R9Ihzcl5XulCq/vSwxC9zAIm+Cpp56S4zj1jniDcPjw4XIcR61atdItt9yirl276oILLpDjOOrYsaPy8vIafS4MQsRDJzvQyXw0sgOd7JDMTvXGYEmRNOmPtU8R/fBhqaIoCWedWry+LzEI3cMgbIK33npLzz77rMaPH6+cnBw9+uijcQfh2rVr1apVK7Vu3VqZmZk1Hw8Gg7rjjjvkOI66dOnS6HNhECIeOtmBTuajkR3oZIdkdVq3v/ZN5x8YvUTBgznS6z+JDcG+50qLX5Gi0SSddWrx+r7EIHQPgzAJunXrFncQdu3aVY7j6PHHH6/3Z3v37tVZZ50lx3GUk5PTqO/NIEQ8dLIDncxHIzvQyQ7J6HTyGOw6eqkq1k+SBl0UG4NDL5f2LEriGacer+9LDEL3MAiTIN4grKqq0jnnnCPHcTRv3rwGP+fmm2+W4zgaPHhwo743gxDx0MkOdDIfjexAJzucaae1+47XjMGH3lio0PQetU8RfaezVHI4yWecery+LzEI3cMgTIJ4g3DTpk01rzMsKSlp8HOefvppOY6jrl27Nup7MwgRD53sQCfz0cgOdLLDmXQ6eQz+6fVpCr91Z+0YnNVLCtM+Gby+LzEI3cMgTIJ4g3Dq1KlyHEft2rU75W2cuOBMp06dGvW9GYSIh052oJP5aGQHOtmhqZ1W7C6oGYNpr45WZOjlsSE46CIpe0oznW1q8vq+xCB0D4MwCeINwvHjx8txHF100UWnvI0xY8bIcRxdccUVp/1elZWVKi4urjlyc3PlOI7y8/MVCoVcPYLBoDIyMhQMBl3/3hx0amkHncw/aGTHQSc7jqZ0mr7+gDr0ypTPP03vDfubon3bSWltFH39Jwod3uL536mlHV7fl/Lz8xmELmEQJkE3FwdhWlpag295kZ6eroyMDA4ODg4ODg6OFnf835tTdIl/mq72T9DSfrfXPEV036t3a9rkCZ6fH0fyj/T0dAahSxiESRBvECbzKaM8QshBp5Z50Mn8g0Z2HHSy40i0U1VVlV6elSOfP6B7u7+igoFXxB4V7P8NVS9/S6GqKs//Li318Pq+xCOE7mEQJkG3OINw48aNCV9U5oEHHmjU9+Y1hIiHTnagk/loZAc62SGRTuFIVD0nb9Ql/qka2PMvCvc9N/bI4CvXSAfWuHi2qcnr+xKvIXQPgzAJ4g1C3nYCXqKTHehkPhrZgU52iNepIhTWn99brR/40zX3+VtqryL6cTeposjdk01RXt+XGITuYRAmQbxBKMV/Y/rWrVvzxvRoFnSyA53MRyM70MkOp+tUVB7Sg/9Yqge6v6TDfS6JDcH+50ur3pGiUQ/ONjV5fV9iELqHQZgEiQzCNWvWqFWrVmrdurVmzJhR8/FgMKg77rhDjuOoS5cujf7eDELEQyc70Ml8NLIDnexwqk5Hiit09/B5GtrzcYX7tI2NwZE/kg5v8uhMU5fX9yUGoXsYhE2wZs0a3XDDDTXHN77xDTmOo29961t1Pn7o0KE6X3fiwjGtWrXSbbfdpgcffFAXXnihHMdRx44dlZeX1+hzYRAiHjrZgU7mo5Ed6GSHhjrtPFaqXw2eqIXP/7T2KaKT/yxVlnp4pqnL6/sSg9A9DMImmD9/foNv/fDFY8+ePfW+NisrS507d1b79u119tlnq0OHDurRo8cpLzYTD4MQ8dDJDnQyH43sQCc7fLHT2n3H9ee+w3Ssz8VSWhtFBnxTWjfe47NMbV7flxiE7mEQWo5BiHjoZAc6mY9GdqCTHU7uNH/LQb3R+78U+fwpotWv3SAd2+r1KaY8r+9LDEL3MAgtxyBEPHSyA53MRyM70MkOJzpN/Wy5VvT+cc1TREOf/lUKlXt9epD39yUGoXsYhJZjECIeOtmBTuajkR3oZIfKyiq9/lKaCvr8m5TWRhX9LlD1+o+9Pi2cxOv7EoPQPQxCyzEIEQ+d7EAn89HIDnQyX0lJkeYP+23No4KHhlyvSN5Or08LX+D1fYlB6B4GoeUYhIiHTnagk/loZAc6me1gzjLt63dlzRjMGfekVF3p9WmhAV7flxiE7mEQWo5BiHjoZAc6mY9GdqCToSIR7coYrFDauVJaGx1Nu0ST3hxEJ4N5fV9iELqHQWg5BiHioZMd6GQ+GtmBTuaJFh3QgVf+o+ZRwaWDOutg7j46Gc7r+xKD0D0MQssxCBEPnexAJ/PRyA50MkvVxgyV9f+WlNZGwT7na8KbA1VRVU0nC3jdiEHoHgah5RiEiIdOdqCT+WhkBzoZoqpMwU/+u+ZRwY29r9UnM+cpGo1KopMNvG7EIHQPg9ByDELEQyc70Ml8NLIDnQxwYI0qXv6BlNZGkT5t9Xba77Q452CdT6GT+bxuxCB0D4PQcgxCxEMnO9DJfDSyA508FAlLi4Yr0rd97O0k+lyiZ4eO1N78snqfSifzed2IQegeBqHlGISIh052oJP5aGQHOnmkcJ8iY39Z8xTRwPP/oafenavSyuoGP51O5vO6EYPQPQxCyzEIEQ+d7EAn89HIDnRyWTQqrX1fkUH/JqW1UVmf8/Vsz2c1fNZWRSLRU34ZnczndSMGoXsYhJZjECIeOtmBTuajkR3o5KKSI1L6QzWPCq7q3Ul39R6rzI2H4n4pnczndSMGoXsYhJZjECIeOtmBTuajkR3o5JLNnyr64iVSWhtV9mmvF3r+SXe9PFdbD5ck9OV0Mp/XjRiE7mEQWo5BiHjoZAc6mY9GdqBTMys/Lk18rOZRwc29r9ad3d9Qj8kbVV4VTvhm6GQ+rxsxCN3DILQcgxDx0MkOdDIfjexAp2a0PUt6qaOU1kbhPm31aq/f6bq0QEJPEf0iOpnP60YMQvcwCC3HIEQ8dLIDncxHIzvQqRlUlkpTn6p5VHBn7466t/sruv+NJco9HmzSTdLJfF43YhC6h0FoOQYh4qGTHehkPhrZgU5JtneJNOLqmjH4Tq8H9d3ukzRs5lZVhyNNvlk6mc/rRgxC9zAILccgRDx0sgOdzEcjO9ApSUIV0qxeiqa1ldLa6ECf7+ihHkN0/cAsLdmRd+Y3Tyfjed2IQegeBqHlGISIh052oJP5aGQHOiVB7ipp1I9rHhX8qNc9+r7/Y/1h7EoVlFUl5VvQyXxeN2IQuodBaDkGIeKhkx3oZD4a2YFOZ6AqKM3sKfVtJ6W1UX7at/WHHv3UoWem3lm0W9Hoqd9ovrHoZD6vGzEI3cMgtByDEPHQyQ50Mh+N7ECnJtqzSHrl2ppHBSc//wtd6/9Qtw2br00HipL+7ehkPq8bMQjdwyC0HIMQ8dDJDnQyH43sQKdGqiiWpj1dMwSP9L1U3XoMkM8f0LMfr1dZZXWzfFs6mc/rRgxC9zAILccgRDx0sgOdzEcjO9CpEbZnSS9/r2YMju/1n7rK/7F++sJczd96tFm/NZ3M53UjBqF7GISWYxAiHjrZgU7mo5Ed6JSAYIE0+c81QzA3rYMe6jFEPn9AvTM2qbSZHhU8GZ3M53UjBqF7GISWYxAiHjrZgU7mo5Ed6BRH9hRp6OVSWhtF0trq7V6/0Xf9E3XbsPlasbvAtdOgk/m8bsQgdA+D0HIMQsRDJzvQyXw0sgOdTqH0qDTh0ZpHBXelfU/3dR+uS7sHNDhziypCYVdPh07m87oRg9A9DELLMQgRD53sQCfz0cgOdPqCaFRa/5H0ok9Ka6NwWju91utRXeGfrLtGLNCG3EJPTotO5vO6EYPQPQxCyzEIEQ+d7EAn89HIDnQ6Sf5Oadw9NY8KbulzjX7RfZQu7zldr87ZrqrqiGenRifzed2IQegeBqHlGISIh052oJP5aGQHOkmqrpI+Gyr1P19Ka6OqtPM0tOfjusyfoXtHLda2IyVenyGdLOB1IwahexiElmMQIh462YFO5qORHVK+094l0mvX1zwquLD3jbql+9vq+Hym3lq4S+FI1OszlEQnG3jdiEHoHgah5RiEiIdOdqCT+Whkh5TtFCyQMv6nZgjmp12sv/boIZ9/mv7y/mrtLwh6fYZ1pGwni3jdiEHoHgah5RiEiIdOdqCT+Whkh5TrdOKiMUO+c9IbzN+ra/wf6a4RC7RkR57XZ9iglOtkIa8bMQjdwyC0HIMQ8dDJDnQyH43skFKd8ndK//x1zRDc1vtKden+kq7tN0vvLdur6rB3F42JJ6U6WcrrRgxC9zAILccgRDx0sgOdzEcjO6REp+pK6bMhin5+0ZiKPudpSM8/qmOPKUqbslmFwSqvzzCulOhkOa8bMQjdwyC0HIMQ8dDJDnQyH43s0OI77Vmk6Gudah4VXPD8jbq5+zt65O3l2m7A1UMT1eI7tQBeN2IQuodBaDkGIeKhkx3oZD4a2aHFdio+JE18rGYIHuvzLf21R0/dMmSuZmcfUTRqxtVDE9ViO7UgXjdiELqHQWg5BiHioZMd6GQ+GtmhxXWqrpIWv6rwwAultDaK9GmrD3rdp5/0/kSjP9upyuqw12fYJC2uUwvkdSMGoXsYhJZjECIeOtmBTuajkR1aVKed81Q54oc1jwqu7f1D/brHSD33yXodLanw+uzOSIvq1EJ53YhB6B4GoeUYhIiHTnagk/loZIcW0alwv0rHPVQzBPP6fEvP9nxWf0tfrV3HSr0+u6RoEZ1aOK8bMQjdwyC0HIMQ8dDJDnQyH43sYHWn6koVzBikqr6xq4eG+7TVu7266plxC6y6YEwirO6UIrxuxCB0D4PQcgxCxEMnO9DJfDSyg62djq2ZqmODrqx5VHB57x+r75iPtOVQy/xl2NZOqcTrRgxC9zAILccgRDx0sgOdzEcjO9jW6cjeHG15+e6aIXikz7f1j9de0Mb9hV6fWrOyrVMq8roRg9A9DELLMQgRD53sQCfz0cgOtnTae/Co5r3xpCr7nCeltVGoz7kKvPSY1u3c7/WpucKWTqnM60YMQvcwCC3HIEQ8dLIDncxHIzuY3CkajWrFrjy9O2qAjvT5ds2jghsG3aoNa1d4fXquMrkTYrxuxCB0D4PQcgxCxEMnO9DJfDSyg4mdqsMRTV1/UD2Gv6FNva+pGYJHB3TU1rnvS5a9qXwymNgJdXndiEHoHgah5RiEiIdOdqCT+WhkB5M6lVSE9NbCXeo66APNeP6OmiFY0e9C5c0cKlVXen2KnjGpExrmdSMGoXsYhB74+OOPdeutt6pdu3Y655xzdM0112jIkCFNusMxCBEPnexAJ/PRyA4mdDpQWK6BgWz9e59JerPXb1XV51wprY0iae1UPvlJqSzPs3MzhQmdcHpeN2IQuodB6LKnnnpKjuPoS1/6ku68807df//9ateunRzH0U033aTy8vJG3R6DEPHQyQ50Mh+N7OBlpw25hfpr+lp16DFVz/d8UgV9/q3mUcHwuPuko1tcPydTcX8yn9eNGITuYRC66NNPP5XjOPr617+uNWvW1Hw8Ly9PV199tRzH0TPPPNOo22QQIh462YFO5qORHdzuFKyq1ierc9XljSXy+aepW48B2t679v0Eo6N+LG3PcuVcbML9yXxeN2IQuodB6KLrr79ejuNo4MCB9f5s0aJFchxHZ599toqKihK+TQYh4qGTHehkPhrZwa1OG3OL1HPyRl3VZ6Z8/oB+3n20Fva+qWYIasil0sq3pHB1s56Hrbg/mc/rRgxC9zAIXXLgwAE5jiPHcbR79+4GP+fiiy+W4zhKT09P+HYZhIiHTnagk/loZIfm7FRUHtJ7S/foF68ulM8fkM8f0E/9Y5XZ/15F09rGhmC/86RZvaTylv3G8meK+5P5vG7EIHQPg9Al06ZNk+M4at++/Sk/57777pPjOHruuecSvl0GIeKhkx3oZD4a2SHZnaLRqJbvytfTH63TFb0ya4bgj3t+pHmvPKZIv2/UPio44VGpYFdSvm9Lx/3JfF43YhC6h0HokpEjR8pxHP3gBz845ec8+eSTchxHDzzwQMK3yyBEPHSyA53MRyM7JKvTsZJK/eOznbp92PyaEejzB/Trl2dpzXs9FB10Ue0QHPtLKXd1kv4GqYH7k/m8bsQgdA+D0CWDBg2S4zi68cYbT/k5PXv2lOM4uvPOO0/5OZWVlSouLq45cnNz5TiO8vPzFQqFXD2CwaAyMjIUDAZd/94cdGppB53MP2hkx3EmnY6Xlmviqn36w9gVuqzH9JoReGXvGfJPWKW9ma8oOvTy2gvGvHGjqnNmKlRV5fnf27aD+5P5h9eN8vPzGYQuYRC6JFmDMC0trea1iCcf6enpysjI4ODg4ODg4GjE8fGkDKW9M0X3DJmqy7tPq/No4C0Dpqn7Pz7Vkne6q3Rwh5ohWDbocq1616+MTyd7fv4cHC31SE9PZxC6hEHokmQ9ZZRHCDno1DIPOpl/0MiOI5FOpcEKTV9/QE98sFpX9p5RZwTeOnSehmRuUXbucVVvy1Jk9M21jwgOvUzhJW8oVFHm+d/T9oP7k/mH1414hNA9DEKXTJ06VY7j6Lzzzjvl55y4qMyzzz6b8O3yGkLEQyc70Ml8NLLDqTpVVUc0N+eInv5oXc1bRZw4bnxxrl7IzNGmA0WKRqPSgTXSuHtqXyM46N+k+S9KlaUe/a1aHu5P5vO6Ea8hdA+D0CUnHsnjbSfgNjrZgU7mo5EdTu5UEQprbs4RPffJel3Td1adEfiTwXM0YFq21u0vjI1ASTq0Xhr/m9oh2O88KdMvleV5+5dqgbg/mc/rRgxC9zAIXcQb08MLdLIDncxHIzvsPVasZ/8xRd3eWa6Oz2fWGYGdBmYpbcpmrdpToEgkWvtFhzdKHz5cOwT7tpMm/Uk6vsezv0dLx/3JfF43YhC6h0Hook8//VSO4+jrX/+61qxZU/Px/Px8XX311XIcR88880yjbpNBiHjoZAc6mY9GZqoOR7RyT4FenJGju0YsqDMAff6AfvrCXD3/6SYt3Zmv8MkjUJKOZEsfPVI7BNPaShMfl/K2e/OXSSHcn8zndSMGoXsYhC47ceGYL3/5y+rcubO6dOmidu3a1VyBtLy8vFG3xyBEPHSyA53MRyNzFAarlLHugJ78cK2u7Vf3qaCXdg/o9oHT9Nqcbco5XFz7dNCTHc2RPu4WG4AnhuDH/xX7OFzB/cl8XjdiELqHQeiBCRMm6JZbblGbNm301a9+VVdddZVefPFFVVVVNfq2GISIh052oJP5aOSdquqIVuwu0KtztuuB0Ut0afe6jwJe22+WnvxwrTLWHdDRorJTd8rbLk187KQh2Eaa8GjskUK4ivuT+bxuxCB0D4PQcgxCxEMnO9DJfDRyTygc0eq9xzVq3g79f2/Vfy2gzx/QXSMW6MUZOVq5p0DV4Ujt1zbUKX9n7DWBfdvVDsEPH5YOb/LgbweJ+5MNvG7EIHQPg9ByDELEQyc70Ml8NGo+1eGI1u0v1Bvzd+rRd1bUe29Anz+gHw2YrSfGr9EHy/fqQOGpX15Rp9OxrdLkP0t9z60dgukPxa4mCk9xfzKf140YhO5hEFrO00FYEeSHuQW8/oGOxNDJfDRKnsrqsNbsO64xC3bp92NX1ntfQJ8/oB/0m6W/vL9a45bu0bYjJQ2/FrABoVBI89NHKJL+cN2nhn7QNfb+gjAC9yfzed2IQegeBqHlvLyzhKc8pWPDblB1zkwpwf9Rw31e/0BHYuhkPho1TTQa1f6CoKasP6i+Uzfr3lGL1aFn/aeAXp02U4+PW6V3Fu3WlkPFdd8WIrFvJO1ZrMi4e0+6aujnTw09sLp5/nJoMu5P5vO6EYPQPQxCy3l2Z6kqU3TQv9X+D3f0jdKmiVK42t3zQFxe/0BHYuhkPholprSyWkt25mnUvB167J+r9KMBs+uNP58/oB/2n63H/rlSYxbs0qYDRfXfEiJR0ai0bZb09p01/0+KpLVTZOLj0tEtyf3LIWm4P5nP60YMQvcwCC3n6VNG83Zr56gHFB14Qe0wfOUaaeXbUqjC9fNBw7z+gY7E0Ml8NKqvvCqstfuO64Ple9V90gbdNWJBvSuA+vwBXd5zuu4ZtVhpUzYrY90B7csPJvwU0FOKhKVNk6Q3bqz9f1D/8xWe8pRmT3iLTobj/mQ+rxsxCN3DILScEReVKToizX9BevGS2v8pD71cWviSVF7o+nmhLq9/oCMxdDJfqjfKK63Ugm3HNPqznfrf9LX62UvzGxx/J94M/onxa/TWwl1avfe4KkLh5J1IdZW05j3p1etq/58z8EJpVi+p5HDKd7IFnczndSMGoXsYhJYzYhCe+EFRVSYtGy29/L3a/0kPukia9bxUfMj180OM1z/QkRg6mS9VGoUjUe06VqrAhkMaMiNH3d5doesHZjU4/GJX/8zS795ZoRdn5Gjm5sM6WtxMzxCpKJaWjpJevrL2/zEvfDv2D5LBgppPS5VOtqOT+bxuxCB0D4PQckYNwhPCIWn9h9KoG056Gs83pCl/jb0XFFzl9Q90JIZO5mtpjULhiHYcLdWMTYc0cs52/TV9rTq/slAdetW/4IvPH9Al3QO6fdh8PTF+jV6fv0Pztx7V0RIXXh5QuF+a2VMa/K3a/6cMu0JaMlKqLKn/92phnVoqOpnP60YMQvcwCC1n5CA8IRKRts6o80J/pbWVPnpE2reMK5O6xOsf6EgMncxna6PK6rC2Hi7RtA0HNXz2Nj3xwRr9fPhnurzn9FM+6ndFr0zd89oidZ+0Qe8t3aPVe4+rrNLli4YdWC198vu67yH4Widp1bunfZ26rZ1SDZ3M53UjBqF7GISWM3oQnmzvUmn8g3UvBf7mrdKGCbHXg6DZeP0DHYmhSYdzrQAAIABJREFUk/lMblQdjmhvfpnmbz2qsYt3K23KZv3unRW6Zeg8fafHqYffd5+foV+/tkhPT1inN+bvVFb2Ee3NL2v6FT/PVCQsbZkmvdO57v8v/vkradvM2D80xmFyJ9Sik/m8bsQgdA+D0HLWDMITjmRLGf8j9T+/7lN/FgyVyvKb72RTmNc/0JEYOpnP60bhSFS5x4NatD1P7y3bq/7TsvWHsSt1+0vzT/ton88f0FV9Zuo/X1+s5z5ZrzELdmne1qPKPR5s/Hv9NZeqMmnFGOnVH9T+v6Ffe2nSn6RDGxp1U153QmLoZD6vGzEI3cMgtJx1g/CEsjzps6HSsA61//Mf8K/SlP+NjUYkjdc/0JEYOpnPjUZFwZA25hZp+sZDGv3ZTvWYvFGPvL1ctw6dF3f0deiVqZ8P/0x/HLdKg6dvUfqKfVq6M1+HiyrO/C0emkvxIWlOP+lF30kXirlYykqTig826Sa5L9mBTubzuhGD0D0MQstZOwhPqK6S1n8k/eOWuk8PGndPwk8Pwul5/QMdiaGT+ZLRKFhVre1HSjRv61G9t2yvBk/for+8v1q/eHWhrk6bedrBd+L9/G5/ab7+MHal+k/L1nvL9mrxjjwdKCw359G+eKJRaf8KaeLjUr/z6r6P7fI3pcrSM7p57kt2oJP5vG7EIHQPg9By1g/CE6LR2IVmJjwq9W1X+wvCq9fFnkZ0hr8gpDKvf6AjMXQyXyKNSipCyjlcrKzsIxq7eLcGBrL1l/dX69evLdJ1/WfHHXw+f0CdBmbpvtcX66kP1+rlWVs1YdV+LduVrwOF5d69ti8ZqoLSmnHS6Jvq/gPg23dKW6bGXj+YBNyX7EAn83ndiEHoHgah5VrMIDzZ8b2fX2L84tpfGAZ/S5r+rHR0S3K/Vwrw+gc6EkMn81VVVen9TzK0eneeMjce0lsLdyltymY9Pm6V7n5loa7pOyuhwXdVn5m6a8QCPfbPleo7dbPeXbxbc7Yc0bYjJQpWuXwlTzfk74z9TH/h2ye9FdH50qf/HbuSaJJxX7IDnczndSMGoXsYhJZrkYPwhMqS2NOHXr2u7r8mv9NZ2vCxVF3ZPN+3hfH6BzoSQyfvhSNRHSws14rdBZq8Nlevzd2u7pM26JG3l+v2l+ar4/MNvz/fF49r+83SL0cu1J/eW6X+07L17uLdmrX5sLIPFquoPEX6RsKxtx16//66P79HXC0tfqXOG8knG/clO9DJfF43YhC6h0FouRY9CE+IRKQdc6QPH677flRDLpVm95YKdjfv97ec1z/QkRg6Nb9QOKL9BUEt3Zmvj1ft14isbXrm4/X6zZtLddOQubrsNG/PcPJx/cAs/efri/U/49do8PQtGrd0j+ZsOaKth0tU6vZ79ZkmWCAtGhEbfie//+z7XT5/XXhynhZ6OtyX7EAn83ndiEHoHgah5VJiEJ6s+KA0/wXppe/W/Vfn9+6LvXdVOMV/GWuA1z/QkRg6nblIJKrDRRVasbtAE1fnavjsbXr6o3XqOnqpfvrCXF3aPf7Yu6zHdN00ZK5+8+ZS/X3Cer08e5smrNyvxTvytONwkSZOplE9Jy4SM/kvdd9S6IVvS7N6SQW7XD0d7kt2oJP5vG7EIHQPg9ByKTcITwhXxwbge/fVHYYvfTc2GJt4ufKWyOsf6EgMnRJTUhFS9sFizdh0WGMW7FLvjE3q9u4K3f7SfHXoFf8pnR16Zeq2YfP1yNvL5Z+4Qa/N3a7Ja3O1ck+BDsa5aAuNvqAsT1rymjTqx3V/Dv/jFmnt+1Ko3JPTopMd6GQ+rxsxCN3DILRcyg7CkxXsij11dMiltb+Q9D039hTTnOlSOLX/Z2NMJ5wWnWqVVlZr04EiTV1/UCPnbNfTE9bpvtcXJ3SVzu98/gjfw28tU/dJGzRq3g5NWX9Qq/ce19HiijN6awYaKfaUz+1ZsStCn/yWEQMviD1CmLsq9oihh+hkBzqZz+tGDEL3MAgtxyA8SXVl7GIz79xV91+rh14eu8Jdil6h1LhOaFCqdaoIhbXlULEyNx7S6/N36LlP1uuB0Uv0owFZcUffdf1n655Ri/W/6Ws1ZEaOPlyxT0t25Gl/QVDV4eZ779JUa1TH8b3SvEHSy9+r+/P1zdukVe9KFeb8wpbSnSxCJ/N53YhB6B4GoeUYhKdwdEtsBA69rP4vLyvfksqPe32GrjG6E2q01E6lldVav79Qn6zO1eDMLfrD2JW6ecg8XRLn9Xw/7D9b97+xRM98vF6j5u1QYMMhbT5Y5OlFW1pqo1OqrpQ2TZTG3Ru7MMyJn6Mv+qTM/5MOb/L6DBuUcp0sRSfzed2IQegeBqHlGIRxhENSTkBK/63Ur33d98D65Pexq5e6cNU7L1nRCdZ3KioPafXe4/po5T4NmJat372zQj99Ye5pR981fWfpnlGL9beP1umVrO3KWHdAG3ILVVxh5n8D2xslJBqVDq2XMv2x4XfyP6iNu0fa+IkUqvD6LE8rJTq1AHQyn9eNGITuYRBajkHYCKXHpKWjpNf/ve4vOS9fKc3pH3vz5BbIuk4pypZO0WhU+/KDytx4SC/N2qo/jF2pnwyec9rh96MBWXrozWXqk7FJ7y3bq2W78pVfat/7iNrSqEkK90kLX6p/gZiXr5TmDpSO7/H6DBPWoju1IHQyn9eNGITuYRBajkHYBNGodHCtFHgmdln0k3/5eftOacWY2HhsIaztlGJM7FRZHdamA0WasGq/0qZsVtfRS3VVn5mnHH43DJqjR95err5TN2v88n1auadAx8uqvP5rJI2Jjc5I+fHY6//e6Vz352D/86UJv5O2z7byGRQtrlMLRSfzed2IQegeBqHlGIRnKFQhbZokvX+/1Ldd3auUvneftC7dqIslNEWL6JQCvO5UVR3R+v2FGrt4t/4+Yb3uGrHglG/U3qFnpn45cqH+75MN+ueSPVq5p8DYp3kmk9eNkiJUIWVPiV2Fuf836r55/D9/FXu7iIoir8/yjLSITimATubzuhGD0D0MQssxCJOo+FDsKaVv3lr3X8sH/Kv00SOxX6IMf+1MQ1pcpxbKzU7RaFQHCss1bcNB9Z+WrfteX3zK9/C7pu8sPfTmMg2Ylq1Ja3KVc7hYoWa8kqfJrL0vRSLSnkXSlP+VBl9c9+fbGz+VFr8iFR3w+iyTxtpOKYZO5vO6EYPQPQxCyzEIm0n+Tmn+i9Jrner+8jT4W7H32toxRwp7d7XDxmjRnVqQ5uwUrKrWsl35emP+Tv1x3CpdP7Dht3b4Qb9Z+v3YlRqRtU2zs4/oQGG5oh6/p5xJrLovRSLS/pWxqy1/8a0iXr5Smt1HOrLZ67NsFlZ1SmF0Mp/XjRiE7mEQWo5B2MyiUenQBmnW8/V/qRp6Wex1iHuXGP06m5To1AIks1NBWZUyNx5S74xNuvuVhfpOA0/9vKzHdP1q5CL1ztikyWtztSevjPEXh/H3pUhE2rcsdoXQl6+s/49ZGf8j7V4Y+7wWzPhOkEQnG3jdiEHoHgah5RiELopEYuNv2tPSkEu/MA4vl6Y+Ke3IkqrNuohGynWy1Jl0KgqGNHPzYaVN2ay7Rixo8NG/nwyeo//+YLXGLNilVXsKVBEy9x8xTGXkfSkSlvYslqY/Kw27ou7PpUEXSRMfs/bp7k1lZCfUQyfzed2IQegeBqHlGIQeCYdiV+Cb9Kf6r8kZfLE06Y/SlqlSVdDrM03tThZpTKfiipDmbDmiAdOy9YtXFzb4Ju93Dl+gPhmbNH3jIR0qKnfhb9DyGXNfCldLuxfE/nFq6OX1Hwmc9CcpZ3pKjcCTGdMJp0Un83ndiEHoHgah5RiEBqiuir2mcOpT9X85G/DN2NX81n8klRd6cnp0ssPpOlVVR7Roe54GT9+ie15bpEsbGIA/e2m+en26UYENh5Rn4Xv82cDT+1KoXNo2K/ZMhCHfqftz5oWLpU//W9o2U6qmPT/z7EAn83ndiEHoHgah5RiEhomEY6/hmdlTGnFV3V/a+rWX3vtPadU7Uslh106JTnb4YqejJRWasHK//vTeKn2v94x6A/C2YfPVfdJGZaw7oKPFqflIkNtcvy+VHJZW/1NKf0gaeEHdnycv+qSMJ6Tt5j1N3Wv8zLMDnczndSMGoXsYhJZjEBrsxAVp5g6URt1Q95e5tDbSP26W5g6Q9q9o1ovS0MkOlZVVevWDDA2bsUW/Grmo3gDsNDBLz368XpPX5vIUUI80+30pGpUOrY9d4fjNW+v/zHj5Smna36Sdc2NPW0eD+JlnBzqZz+tGDEL3MAgtxyC0SN4OadFwaczt9X/Re/ESaeLj0oaPpWBBUr8tncxVUhHS9I2H9MzH6/WjAbPrjcB7XlukV7K2a2NukSIRrgDqtWa5L4XKY0/1nPqU9NJ36/9sGHO79NmQ2D8ucRXYhPAzzw50Mp/XjRiE7mEQWo5BaKnSo9K6dOnj/4q9/ufkXwD7tpPe/rm0YGjs0YIz/CWQTmY5WlKhsYt367djlunynnXfDuKKntP05/dW6eNV+3Ws5P9v797Doy7v9I8/uIAXSE2gupX+1FFUqDVEa7EiuqQeOJRadg2VVaib1W7desQF6XDSyCngWYEKFVukQlRQAfMNCSAgEJBDgsgZOQkhQEiAhDAkmSRz//4YMoI5zCRMnuf5zNyv6/r+sYFkHvtmZrnJZIY/C2absNyXfD7/Pw6texeY/Z/+nzM+9/4/7gog9WEgZyZw6mj4Dh9F+JgnAzvZz3QjDkJ9OAiF4yCMAJUV/rezWJIM/PWOmt8heLWj/2eFtnwKnC5o8JdnJ/MKS8rwwVff4T//tqbGK4Le/dpyjE3bhhU7j+CTz9jJZo2+L50uBLZ84n8fwDduquWpoD/3v2Lot4uj9pVBw4mPeTKwk/1MN+Ig1IeDUDgOwghUlAts+If/uwTj2tf8y+M7dwIZw/1PMys7FfTLsZMZJz3l+Gj9AfzhvbU13hj+P/6ahekr92J/wenA72cn+4XcqKIM2Pul/x95pnUHkmPOvw+PuQyY8Vtg5WvAkc18KmiY8b4kAzvZz3QjDkJ9OAiF4yCMcBVl/heQyBhW+3cPX2oLTL/P/+I0+1bW+pLz7KTPqVIvPs3JxaMz1td4Ouj9k1Zh2pd7kHui9vemZCf71dmoqgo4uhVYPRn4ILHmK4ImXwr8tav/H3K+XQKUn679BigseF+SgZ3sZ7oRB6E+HITCcRBGmZJj/qeeLXgGeCu+5l86x/4rMLMvsPJ1IDcbqKxgpyZ2prwSCzbl4U8zN+CGkQvPG4G93lyBKct2n/edwLqwk/0CjUo9/vvX6kn+t4SY6Krlqd43AJ/+Cdj0oda3mSHel6RgJ/uZbsRBqA8HoXAchFHuxHdAzj+BT/7o/wvoD/9SOv6nqJpxP3ZM/S9U7Fwc0lNMKTRbDhVhxGebEfdiZo03iH9zyS7szm/Y/9a8P1nMewbYvwqVS1OQ/1o3+Gp7Kve4K4B/PuD/LuHRrXwaqEG8L8nATvYz3YiDUB8OQuE4CCnA5wPydwBrpwEfDqj56qXVr2A69U7AGQJsngucPGj61KIUnfHin2v2o8/bK88bgXe9vBSvZO7A9sPF8DVyCPD+ZJHSYv9TO5e8BLzX0/8zfz+8L0242v8qoVlvA7kb+L6AFuF9SQZ2sp/pRhyE+nAQCsdBSHWqqgSObkXlV9Nw8K3e8L0RV/MvtdWvcDj3UWDt3/xvc1FZYfrkVvH5fFi37zj+7+Ov0WnU908JvWHEQjyTuhGrdxeE5T0CeX8ypNIL5H0NrJ8OzHsCmPKrmi8Cc/bVfqs+/i98M/1peA9t8v/cIFmJ9yUZ2Ml+phtxEOrDQSgcByEFc16n4sPA1s+AhW7gbwn+F6Wp8XOIPwGm3wukPw98PRs4ui0qR+KxU2WY9uUe3P3q8vO+G9jzjRX4R9Y+nDhdHtbb4/1JA58PKNwDfDPHfx+Yfh8w5vLa/6HkrXj/QNz4AXB8L+DzsZEQ7CQDO9nPdCMOQn04CIXjIKRg6u1Uftr/8vhfvuz/+aeUK2v/y/G4K4D3egAL/+J/kYz8Hf7vQEaYyioflu/Mx58/yMZ157xVxI0vZMD9yTfYeOBEo58SGgzvT2Hm8/mfEr1zIbBsvP/Pd20v/lL99M9/PgAsHQfszABK8mv9kmwkAzvJwE72M92Ig1AfDkLhOAgpmAZ1qqoCCnb7v4OSOQL4x2+A8T+tYyS2B/7ey/+dlo0fAIeyxb6cvqe8AjPX7EfCK8vO+27gv0/JwkfrD6CkrOm/Q8r70wUo9/j//GW/D6QP9f+5re1naJMv9X9HcPq9/n/c+OZj/3cMQxz5bCQDO8nATvYz3YiDUB8OwgZKT09HcnIy7r//frRv3x5KKSilkJubG/Rzy8vLMXHiRMTHx6N169aIjY1FQkIC5s6d2+jzcBBSMBfcqaoKOLYL2PSR//0Q/97LPwZr+8t2cgzw1s1A6sPAF2P8L1xzdBtQEd6nV4ZLfnEpXsncgZtHLwqMwM7JmXjp863YcUTvfYr3pxAEvuuXAax4BZiTBEz6pf/Fkmr78zi6nf/9Oz/7s/9nBPM2XtCfRTaSgZ1kYCf7mW7EQagPB2EDxcTEBEbguVewQejxeNCtWzcopRAbG4vExET07NkTzZs3h1IKQ4YMadR5OAgpmCbpVFXpf9ropg/93yF8/3fAK9fXMRLP/sV8yu3AnP8GvnwF2P65//O9peE7UwNsP1yMwR9vOu/N47u/sgwz1+yHp9zMz0vy/nSOcg9wZIv/512/fMX/fn5/+3XdT2lOvhR4uYP/PTgzR/j/XB7ZHPZ/iGAjGdhJBnayn+lGHIT6cBA20KOPPoqUlBRkZmbi2LFjIQ/CQYMGQSmFzp07o6CgIPDx7OxstGnTBkoppKWlNfg8HIQUjNZOpwuAfSv9r1j6+SD/S/an1PHUvervKL5xE/D+/f7fn/U2sMMB8reHfSz6fD58uesY/vDe2vOeFtrvndXI2HIElWF4pdALEXX3p6oq/3f79iz1/3lJfx6Y+e/+Pw91/nk557t+n/wPkPUWsPsL4NRRLUeOukZCsZMM7GQ/0404CPXhILxAoQzCEydOoGXLllBKISsrq8avjx07FkopdO3atcG3z0FIwRjv5PMBRYf87+uW9bb/6XvTutf/3Z7qsfj6z8+OxWf9f/nf8glwYC1QlBvyK5+WVVTi4/UH0eONLwMj8NphDp6cnYONB0408X986Ix3CreqSn/379b4f1ZvxSvAgmf8o2/SrXW/uue5L/Qy/V7/n5eVrwHbFvj/oaCizNh/UsQ1ilDsJAM72c90Iw5CfTgIL1Aog3DWrFlQSuHqq6+u9df37t0b+Dp5eXkNun0OQgrG2k4+n/87igfXAV+nAkvH+t8PMaSxeKn/LTNev9H/1gFzkvxPFfzqHWDbfCA3G8X5BzFpyU78cuySwBD8+QsZGP35Nhw87jH9X1+DtZ1qU3n2LUzyvgZ2LQJy/gksnwjMexKY8Vv/WzaMbhe84eh2/p8BTH0IWDQKyJnpH5CnC0J+oRedRDWKYuwkAzvZz3QjDkJ9OAgvUCiDcMiQIVBKITExsc7f065dOyilkJ6e3qDb5yCkYER2qjEWxwFzH/O/oM0bcaGNjeRL4X2xLY6+eDW+fakzct/qgfKP/tv/M48rXgGyZwDb0/zfcSzcA5QWGR0hRjtVVfn/+08eAA5/A+xZ5v+u3upJwKKR/p/hm9kX+GtX4OVrQ/rfPjD43uzsH4nzngCWpfhfkXbfCuD4Pv+wFETkfSkKsZMM7GQ/0404CPXhILxAoQzCxMREKKXw3HPP1fl74uPjoZTClClTGnT7HIQUTER2qqr0f4cqdwOwdR6w5q/wpg/D7imJ2JT8Sxx+8RpUvhgT+nAJDJgfA692BCZ3Ad692z+CPhzgf9pi+lD/K6euesP/ipXffOx/j7v9q/yvXnl0m/8tO0585z+b5zhQdsr/FMcQhmbInXw+/9c8cxI4dcQ/rPK3A4dy/N9d27MU2JHuf3rtxlnAunf9L8ySOQKY/xTw0UD/03Cn3uUfaxOurvtVOoN9h/a1TsC0fwM+6AcseNp/O5s+Ar5b7X9ab4S9V2VE3pciEDvJwE72M92Ig1AfDsILFMog7NGjB5RSGDlyZJ2/p/oVSFNSUuq9vbKyMhQXFweu3NxcKKVQWFgIr9er9fJ4PJg/fz48Ho/22+bFTtVX8elSvLPsW9xyzltH3PPacnyevRdlx/bBe2ADKnZkoiJnFipXvYXKzFGo+uwJVM16EFV/uxu+N+PhG1/X22iE7/KN/jF849rDN+Fq+F65Hr7Xfgbfa53ge/UG///9ynUoHXslfBOvOXu5/L835Ur4Uv4ffON/Ct/Yn8CX3IihG+oZx1zuP8vk21A1435UzXkUlQvdqFzxOipyZqFi52J4D22C9+RheMvLjLfnfYkXO8m92Mn+y3SjwsJCDkJNomYQDh06FJ06dWrwtWrVqnq/ru5BmJycXOvbXqSmpmL+/Pm8eEXNNfez+Xhu6gLEjUoLDMEuyWkYNX0BPpvX8K/3+WdzsGjOe1ie+hZWfTARX81MRvY//oJN05/B1r/9CTvf+QP2TumHA2/3Qd4bdyP/tTtw4uVbcCqlE86MuwalY6+Ed8wVqHjpMlQlN+I7bo0ZcMkxqBh9OcrG/BRnxl2DkpQbUDThJpx4+RYUvPorHH3tLuS9eS/2T/odvv3rf2L7tMewafrT2PCPv2DNzNFYMftVfPHRX5Ex9318/tkc40158eLFixev6is1NZWDUJOoGYQDBw6sdUgFuzIyMur9urqfMsrvEPKK9k4lZ8owY9Ue/Grc9y8Wc+fEpfhw7X6cKbXou1ZlpfB6iuE9VQjvyTx4C7+DN/9beA9vhTd3Iyq+WwfvgQ3wHsyG92AOzuzfgKUfTsaZ73Lgzdvi/32Ht8F7ZDu8R3fAe3QnvMd2w3si1/81S0/DW15u/r8ziq5Iuy9F6sVOMi52sv8y3YjfIdQnagZhUwllEA4ePDjkF5VxHKdBt8+fIaRgIqWTt7IKH647gG4TlgaG4B0pX2D22gMor6gyfbwLFimdIhkbycBOMrCT/Uw34s8Q6sNBeIH4thN8MLed9E4+nw9p3+Th315eFhiCt41bgplr9qOsInJetER6p2jARjKwkwzsZD/TjTgI9eEgvEB8Y3o+mNtOcqcth4rw4NQ1gSH4y7GLMX3lXpR6I2cIVpPcKVqwkQzsJAM72c90Iw5CfTgIL1AogxAABg0aBKUU4uPjUVhYGPh4Tk4O2rRpA6UU0tLSGnz7HIQUjMROhSVlGPbpN7hmmH8Idhq1EG8s3gVPeYXpozUZiZ2iDRvJwE4ysJP9TDfiINSHg7CBxowZg9tvvz1wVQ/CX/ziF4GPPfHEEzU+z+Px4I477oBSCm3btkW/fv3Qu3dvtGjRAkopDB48uFHn4SCkYCR1Kq+owvSVexGXnBn4ruDTqRtx6OQZ00drcpI6RSs2koGdZGAn+5luxEGoDwdhAyUlJQV9ZdKEhIRaP7e8vBwTJkxAXFwcWrVqhZiYGHTv3h1z5sxp9Hk4CCkYKZ2W7czH3a8tDwzBPm+vxLp9x00fSxspnaIZG8nATjKwk/1MN+Ig1IeDUDgOQgrG9k57j5Xgv/+x7ryfE/xo/QFUVvlMH00r2zsRG0nBTjKwk/1MN+Ig1IeDUDgOQgrG1k7FpV6Mc7bhuuHpcLkdXD8iHePTt6O41K5z6mJrJ/oeG8nATjKwk/1MN+Ig1IeDUDgOQgrGtk5VVT58uO4Abh2zOPBdwcdmrMfeYyWmj2aUbZ2oJjaSgZ1kYCf7mW7EQagPB6FwHIQUjE2d9hwrQb93VgeG4D2vLcfynfmmj2UFmzpR7dhIBnaSgZ3sZ7oRB6E+HITCcRBSMDZ08lZWYcqy3bhh5EK43A5+/kIGpq/cC29llbEz2caGTlQ/NpKBnWRgJ/uZbsRBqA8HoXAchBSM6U5b84rQ5+2Vge8K/tff10XF20g0lOlOFBwbycBOMrCT/Uw34iDUh4NQOA5CCsZUp1JvJV7N3Bl40ZibRy/Cpzm58Pmi69VDQ8X7k/3YSAZ2koGd7Ge6EQehPhyEwnEQUjAmOmV/dwL3nPOegk/MysaxU2Xabl8i3p/sx0YysJMM7GQ/0404CPXhIBSOg5CC0dnJU16Blz7fimuG+Ydgl3FLkLHlcJPfbiTg/cl+bCQDO8nATvYz3YiDUB8OQuE4CCkYXZ1WfVuAOycuDXxXcMicTSjy8M9GqHh/sh8bycBOMrCT/Uw34iDUh4NQOA5CCqapOxWd8eIvc78JDMFuE5biy13HmuS2IhnvT/ZjIxnYSQZ2sp/pRhyE+nAQCsdBSME0ZacVu47hV+OXBMbgC/O3oKSsIuy3Ew14f7IfG8nATjKwk/1MN+Ig1IeDUDgOQgqmKTqVV1QhZeH2wBD89avLsW7f8bB9/WjE+5P92EgGdpKBnexnuhEHoT4chMJxEFIw4e50oNCDvlOyAmNw5LzNKPVWhuVrRzPen+zHRjKwkwzsZD/TjTgI9eEgFI6DkIIJZ6cFm/IQ92ImXG4HnZMz+QqiYcT7k/3YSAZ2koGd7Ge6EQehPhyEwnEQUjDh6OQpr8DzczYFviv4+6mrcejkmTCeknh/sh8bycBOMrCT/Uw34iDUh4NQOA5CCuZCO23NK8LdZ99k/pphDl5fvAsVlVVhPiXx/mQ/NpKBnWRgJ/uZbsRBqA8HoXAchBRMYzv5fD7MyNqHG0YshMvt4PbxX2DNnsImOiXx/mQ/NpKBnWRgJ/uZbsRBqA8HoXAchBRMYzqdOF2OP76/IfAU0T++vx7HT5c34SmJ9yf7sZEM7CQDO9nPdCMOQn04CIXjIKRgGtrpq72FuH38F3C5HdwwYiFmZO2Dz+dr4lMS70/2YyMZ2EmJSMAoAAAgAElEQVQGdrKf6UYchPpwEArHQUjBhNqpssqH1xfvwrXD/N8VvPu15diaV6TplMT7k/3YSAZ2koGd7Ge6EQehPhyEwnEQUjChdCryePHI39cFniI6dO4meMorNJ6SeH+yHxvJwE4ysJP9TDfiINSHg1A4DkIKJlin3fmn8OtX/a8i+rNRGZj/9SHNJySA9ycJ2EgGdpKBnexnuhEHoT4chMJxEFIw9XX6YvtR3HT2jea7TVjKp4gaxPuT/dhIBnaSgZ3sZ7oRB6E+HITCcRBSMLV18vl8mLJsN645+/OC/aetQWFJmcFTEu9P9mMjGdhJBnayn+lGHIT6cBAKx0FIwfywk6e8Ak/Nzgn8vOCoeVvg5RvNG8f7k/3YSAZ2koGd7Ge6EQehPhyEwnEQUjDndjp08gx+89ZKuNwOrhuejtlrD5g+Hp3F+5P92EgGdpKBnexnuhEHoT4chMJxEFIw1Z2yvj2KW8cshsvt4NYxi7Fu33HTR6Nz8P5kPzaSgZ1kYCf7mW7EQagPB6FwHIQUjNfrxfPTFuC64elwuR30eXslDp08Y/pY9AO8P9mPjWRgJxnYyX6mG3EQ6sNBKBwHIdWnvKIK7k82BX5e8OnUjThTXmn6WFQL3p/sx0YysJMM7GQ/0404CPXhIBSOg5DqUlBShgenroHL7eAadxomf7ELPp/P9LGoDrw/2Y+NZGAnGdjJfqYbcRDqw0EoHAch1WbX0VPoNmEpXG4HN72YifEzFrCT5Xh/sh8bycBOMrCT/Uw34iDUh4NQOA5C+qH1+4+jc7L/zeZ//epy7Mg7yU4C8P5kPzaSgZ1kYCf7mW7EQagPB6FwHIR0rkVbj6DjyIVwuR0kvrMaJz3l7CQEO9mPjWRgJxnYyX6mG3EQ6sNBKBwHIVVLXXcA1w7zv3jMYzPWB148hp1kYCf7sZEM7CQDO9nPdCMOQn04CIXjICSfz4e3v/g28EqiQ+duQkVlVeDX2UkGdrIfG8nATjKwk/1MN+Ig1IeDUDgOwuhWWeXDqHlbAmPw1cydNV5JlJ1kYCf7sZEM7CQDO9nPdCMOQn04CIXjIIxepd5K/PmDbP/bSgxz8P7q/bX+PnaSgZ3sx0YysJMM7GQ/0404CPXhIBSOgzA6FZd60X+a/z0GbxixEGnf5NX5e9lJBnayHxvJwE4ysJP9TDfiINSHg1A4DsLoc7S4FL3eXBF4j8HVewrq/f3sJAM72Y+NZGAnGdjJfqYbcRDqw0EoHAdhdNl7rCTwhvO/HLsEWw4VBf0cdpKBnezHRjKwkwzsZD/TjTgI9eEgFI6DMHp8ffAkfjFmMVxuBwmvLMOBQk9In8dOMrCT/dhIBnaSgZ3sZ7oRB6E+HITCcRBGh+U78/GzURlwuR3cP2kVCkrKQv5cdpKBnezHRjKwkwzsZD/TjTgI9eEgFI6DMPIt3HwY1w1Ph8vt4A/vrUVJWUWDPp+dZGAn+7GRDOwkAzvZz3QjDkJ9OAiF4yCMbOeOwadTN6K8oir4J/0AO8nATvZjIxnYSQZ2sp/pRhyE+nAQCsdBGLkWbj6MDmfH4KAPN6Kyyhf8k2rBTjKwk/3YSAZ2koGd7Ge6EQehPhyEwnEQRqZzx+BzH33d6DEIsJMU7GQ/NpKBnWRgJ/uZbsRBqA8HoXAchJEnPYxjEGAnKdjJfmwkAzvJwE72M92Ig1AfDsIGyM/Px8yZM/Hwww/j+uuvx8UXX4xWrVqhU6dOeOaZZ7B///56P7+8vBwTJ05EfHw8WrdujdjYWCQkJGDu3LmNPhMHYWQ5dwz+XxjGIMBOUrCT/dhIBnaSgZ3sZ7oRB6E+HIQNMHDgQCilcNFFFyE+Ph4PPvgg+vTpg8svvxxKKVxyySVYvHhxrZ/r8XjQrVs3KKUQGxuLxMRE9OzZE82bN4dSCkOGDGnUmTgII4fzTfjHIMBOUrCT/dhIBnaSgZ3sZ7oRB6E+HIQN8Mwzz2D06NE4dOjQeR8vKSnBQw89BKUU2rVrhxMnTtT43EGDBkEphc6dO6OgoCDw8ezsbLRp0wZKKaSlpTX4TByEkaGpxiDATlKwk/3YSAZ2koGd7Ge6EQehPhyEYeLxePCjH/0ISil88MEH5/3aiRMn0LJlSyilkJWVVeNzx44dC6UUunbt2uDb5SCUL+2bvO/H4MfhHYMAO0nBTvZjIxnYSQZ2sp/pRhyE+nAQhlGXLl2glEJKSsp5H581axaUUrj66qtr/by9e/dCKQWlFPLy8hp0mxyEsjX1GATYSQp2sh8bycBOMrCT/Uw34iDUh4MwTLxeLy677DIopTBjxozzfm3IkCFQSiExMbHOz2/Xrh2UUkhPT2/Q7XIQyvX5pu/H4OCPNzXJGATYSQp2sh8bycBOMrCT/Uw34iDUh4MwTKZOnQqlFFq1aoWjR4+e92uJiYlQSuG5556r8/Pj4+OhlMKUKVMadLschDLpGoMAO0nBTvZjIxnYSQZ2sp/pRhyE+nAQhsHmzZsDLwzzw6eLAkCPHj2glMLIkSPr/BrVr0Ba2+efq6ysDMXFxYErNzcXSikUFhbC6/VqvTweD+bPnw+Px6P9tiVf83IOnvMCMhtRWlbOTrzYScDFRjIudpJxsZP9l+lGhYWFHISaRM0gHDp0KDp16tTga9WqVfV+3dzcXLhcLiil0LdvX/h8Nb/TE85BmJycHPh5w3Ov1NRUzJ8/n5fl19h/LMC17jS43A4efO1zfDbP/Jl48eLFixcvXrxsu1JTUzkINYmaQVj9HoINvTIyMur8mkeOHEHHjh2hlEKvXr1QVlZW6+8L51NG+R1Cudfqb/PRceRCuNwOBqXmNPl3BtlJ1sVO9l9sJONiJxkXO9l/mW7E7xDqEzWDMNzy8/Nx4403QimF++67D6WlpXX+3sGDB4f8ojKO4zToHPwZQhl2HClGXHImXG4Hj81Yj4rKKm23zU4ysJP92EgGdpKBnexnuhF/hlAfDsJGOHbsGG666SYopXDvvffizJkz9f5+vu1EdDt43IPbxi2By+2g3zurcaa8Uuvts5MM7GQ/NpKBnWRgJ/uZbsRBqA8HYQMVFBQgLi4u5DEI8I3po1lhSRnufnU5XG4HPd74EkUe/f9bsZMM7GQ/NpKBnWRgJ/uZbsRBqA8HYQMcP3488LN+9913X0hjsNqgQYOglEJ8fDwKCwsDH8/JyQm8QmlaWlqDz8RBaK+Ssgr8bvIquNwOuk1YiiNFdT+tuCmxkwzsZD82koGdZGAn+5luxEGoDwdhAzzwwANQSqFZs2bo378/kpKSar3mzZtX43M9Hg/uuOMOKKXQtm1b9OvXD71790aLFi2glMLgwYMbdSYOQjuVV1Rh4PS1cLkd3DJ6EXbnlxg7CzvJwE72YyMZ2EkGdrKf6UYchPpwEDZAQkJCSK9MmpycXOvnl5eXY8KECYiLi0OrVq0QExOD7t27Y86cOY0+EwehfaqqfHg6dSNcbgc3vpCBrw+eNHoedpKBnezHRjKwkwzsZD/TjTgI9eEgFI6D0C4+nw/JC7bC5XZw3fB0rNh1zPSR2EkIdrIfG8nATjKwk/1MN+Ig1IeDUDgOQrtMXvotXG4HLreD+V8fMn0cAOwkBTvZj41kYCcZ2Ml+phtxEOrDQSgcB6E9UtcdCIzBv6/aZ/o4AewkAzvZj41kYCcZ2Ml+phtxEOrDQSgcB6EdMrYcwbXD/GPw5Ywdpo9zHnaSgZ3sx0YysJMM7GQ/0404CPXhIBSOg9C8r/YW4oaRC+FyO/jL3G/g8/lMH+k87CQDO9mPjWRgJxnYyX6mG3EQ6sNBKBwHoVnb8ooR92ImXG4H/zNzAyoqq0wfqQZ2koGd7MdGMrCTDOxkP9ONOAj14SAUjoPQnLyTZ9Bl3BK43A4enLoGpd5K00eqVbR3koKd7MdGMrCTDOxkP9ONOAj14SAUjoPQDE95BX7z1kq43A56vrECRWfs/d8gmjtJwk72YyMZ2EkGdrKf6UYchPpwEArHQahfVZUP//vPbLjcDm4dsxi5Jzymj1SvaO0kDTvZj41kYCcZ2Ml+phtxEOrDQSgcB6F+ry/aCZfbwQ0jFmLD/uOmjxNUtHaShp3sx0YysJMM7GQ/0404CPXhIBSOg1CvBZvyAu81ODc71/RxQhKNnSRiJ/uxkQzsJAM72c90Iw5CfTgIheMg1OfrgyfR8ezbS6Skbzd9nJBFWyep2Ml+bCQDO8nATvYz3YiDUB8OQuE4CPU4UlSK286+ouhjM9ajssqu9xqsTzR1koyd7MdGMrCTDOxkP9ONOAj14SAUjoOw6Z0pr8T9k1bB5XbQ440vcapU1n9vtHSSjp3sx0YysJMM7GQ/0404CPXhIBSOg7Bp+Xw+PDk7By63g1tGL8LB43a/omhtoqFTJGAn+7GRDOwkAzvZz3QjDkJ9OAiF4yBsWm8t+RYut4PrR6Rj7d5C08dplGjoFAnYyX5sJAM7ycBO9jPdiINQHw5C4TgIm47zzeHAK4p+tP6A6eM0WqR3ihTsZD82koGdZGAn+5luxEGoDwehcByETWPLoSJ0GuV/RdHRn28zfZwLEsmdIgk72Y+NZGAnGdjJfqYbcRDqw0EoHAdh+OUXl+L28V/A5XbwX39fh4rKKtNHuiCR2inSsJP92EgGdpKBnexnuhEHoT4chMJxEIZXqbcSfadkweV2cM9ry1Es7BVFaxOJnSIRO9mPjWRgJxnYyX6mG3EQ6sNBKBwHYfj4fD48++FGuNwObh69CPsLTps+UlhEWqdIxU72YyMZ2EkGdrKf6UYchPpwEArHQRg+U5bthsvt4Lrh6Vi9p8D0ccIm0jpFKnayHxvJwE4ysJP9TDfiINSHg1A4DsLw+HLXMVwzzP+KorPWfmf6OGEVSZ0iGTvZj41kYCcZ2Ml+phtxEOrDQSgcB+GFO1x0Br8Ysxgut4Phn202fZywi5ROkY6d7MdGMrCTDOxkP9ONOAj14SAUjoPwwngrq5D4zmq43A5+O2klSr2Vpo8UdpHQKRqwk/3YSAZ2koGd7Ge6EQehPhyEwnEQXphxzja43A7ikjNxoNBj+jhNIhI6RQN2sh8bycBOMrCT/Uw34iDUh4NQOA7CxsvcegQut//nBjO3HjF9nCYjvVO0YCf7sZEM7CQDO9nPdCMOQn04CIXjIGycA4UexCVnwuV2MDZtm+njNCnJnaIJO9mPjWRgJxnYyX6mG3EQ6sNBKBwHYcOVeivx20kr4XI7SHxnNbyVVaaP1KSkdoo27GQ/NpKBnWRgJ/uZbsRBqA8HoXAchA034rPNcLkd3DJ6EQ4XnTF9nCYntVO0YSf7sZEM7CQDO9nPdCMOQn04CIXjIGyY+V8fgsvt4JphDr7cdcz0cbSQ2CkasZP92EgGdpKBnexnuhEHoT4chMJxEIZud/4p3PhCBlxuB68v2mn6ONpI6xSt2Ml+bCQDO8nATvYz3YiDUB8OQuE4CEPjKa/Afa9/CZfbwcPvfoXKKp/pI2kjqVM0Yyf7sZEM7CQDO9nPdCMOQn04CIXjIAzO5/Ph/z76Gi63g9vGLcGxU2Wmj6SVlE7Rjp3sx0YysJMM7GQ/0404CPXhIBSOgzC4D9cdgMvtoMPwdKzdW2j6ONpJ6RTt2Ml+bCQDO8nATvYz3YiDUB8OQuE4COu3Na8IN4xcCJfbwTvL95g+jhESOhE7ScBGMrCTDOxkP9ONOAj14SAUjoOwbsWlXnR/ZRlcbgePzViPqij6ucFz2d6J/NjJfmwkAzvJwE72M92Ig1AfDkLhOAhr5/P58OcPsuFyO+g2YSlOespNH8kYmzvR99jJfmwkAzvJwE72M92Ig1AfDkLhOAhr9/dV++ByO7h+RDq+PnjS9HGMsrkTfY+d7MdGMrCTDOxkP9ONOAj14SAUjoOwpq15Rbh+RDpcbgczsvaZPo5xtnai87GT/dhIBnaSgZ3sZ7oRB6E+HITCcRCer9RbGXi/wT/N3ACfLzp/bvBcNnaimtjJfmwkAzvJwE72M92Ig1AfDkLhOAjP99LnW+FyO/jl2CUoLImu9xusi42dqCZ2sh8bycBOMrCT/Uw34iDUh4NQOA7C7636tgAutwOX28GyHfmmj2MN2zpR7djJfmwkAzvJwE72M92Ig1AfDkLhOAj9TnrKcfv4L+ByOxg5b7Pp41jFpk5UN3ayHxvJwE4ysJP9TDfiINSHg1A4DkL/W0w8NTsHLreDu19djjPllUbPYxtbOlH92Ml+bCQDO8nATvYz3YiDUB8OQuE4CIF5Gw/B5XZw3fB0bIryt5iojS2dqH7sZD82koGdZGAn+5luxEGoDwehcNE+CA+dPIO45Ey43A7e/uJbY+ewmQ2dKDh2sh8bycBOMrCT/Uw34iDUh4OwAYqLizFq1Cj06dMHHTp0wKWXXooWLVqgffv26Nu3LxzHqffzy8vLMXHiRMTHx6N169aIjY1FQkIC5s6de0FnitZBWFXlw3/+bQ1cbgf/8dcsVFRWGTmH7Ux3otCwk/3YSAZ2koGd7Ge6EQehPhyEDbB7924opdCmTRt07doVDzzwAPr164ebb74ZSikopfDkk0/W+rkejwfdunWDUgqxsbFITExEz5490bx5cyilMGTIkEadKZoH4bsr9sLldnDjCxnYX3DayBkkMN2JQsNO9mMjGdhJBnayn+lGHIT6cBA2QElJCb766itUVFTU+LVly5ahdevWUEohMzOzxq8PGjQISil07twZBQUFgY9nZ2ejTZs2UEohLS2twWeK1kG4/XAxbhixEC63g9R1B7TfviSmH9ApNOxkPzaSgZ1kYCf7mW7EQagPB2EYPfbYY1BKYfDgwed9/MSJE2jZsiWUUsjKyqrxeWPHjoVSCl27dm3wbUbjICz1VqLXmyvgcjv44/sb4PP5tN6+NKYf0Ck07GQ/NpKBnWRgJ/uZbsRBqA8HYRg9/vjjUEph+PDh53181qxZUErh6quvrvXz9u7dG3jKaV5eXoNuMxoH4ThnG1xuB78cuxgFJWVab1si0w/oFBp2sh8bycBOMrCT/Uw34iDUh4MwTNavX4+YmBg0a9YMa9asOe/XhgwZAqUUEhMT6/z8du3aQSmF9PT0Bt1utA3C1XsKcM0wBy63gyXbjmq7XclMP6BTaNjJfmwkAzvJwE72M92Ig1AfDsJGeuGFF5CUlIT+/fvjtttug1IKLVu2xOTJk2v83sTERCil8Nxzz9X59eLj46GUwpQpUxp0jmgahEVnvLgj5Qu43A6GffqNltuMBKYf0Ck07GQ/NpKBnWRgJ/uZbsRBqA8HYSOd+8qi1a88+u6776KysrLG7+3RoweUUhg5cmSdX6/6FUhTUlLqvd2ysjIUFxcHrtzcXCilUFhYCK/Xq/XyeDyYP38+PB6Pltt7enY2XG4H3V9ehpMlZ7T/90q9dHfixU6RerGRjIudZFzsZP9lulFhYSEHoSZRMwiHDh2KTp06NfhatWpVvV+3uLgY69evx4ABA6CUwj333INTp06d93vCOQiTk5PPG6LVV2pqKubPnx+x14vvLYDL7eBadxre+sD8eXjx4sWLFy9evHg13ZWamspBqEnUDMKBAwfWOqSCXRkZGSHfxpNPPlnrewqG8ymj0fgdwgMFp9A5ORMut4NXM7Yb/xczaZfpf+HjxU6RcrGRjIudZFzsZP9luhG/Q6hP1AxCHTZs2AClFDp06HDexwcPHhzyi8o4jtOg24z0nyH0+XwYOH0tXG4HfSevgreyqsluK1Lp6EQXjp3sx0YysJMM7GQ/0434M4T6cBCG0fbt2wM/T3guvu1E4320/gBcbgedRi3E3mMlTXY7kcz0AzqFhp3sx0YysJMM7GQ/0404CPXhIAyjyZMnQymFW2+99byP843pGye/uDTwVNF3V+xtktuIBqYf0Ck07GQ/NpKBnWRgJ/uZbsRBqA8HYQPMnj0b2dnZNT7u8/nw6aefIiYmBkopTJs2rcbvGTRoEJRSiI+PR2FhYeDjOTk5aNOmDZRSSEtLa/CZInkQ/vkD/6uK3j9pFSr4VNFGM/2ATqFhJ/uxkQzsJAM72c90Iw5CfTgIGyApKQlKKVx55ZXo06cPBgwYgF69esHlcgWe8vnUU0/B5/PV+FyPx4M77rgDSim0bdsW/fr1Q+/evdGiRQsopTB48OBGnSlSB2HGliNwuR1cNzwd2/L4QHAhTD+gU2jYyX5sJAM7ycBO9jPdiINQHw7CBsjKysKzzz6LLl264IorrkCLFi3QunVrdOzYEUlJSUHfoqK8vBwTJkxAXFwcWrVqhZiYGHTv3h1z5sxp9JkicRAWnfHitnFL4HI7eCVzR1i/djQy/YBOoWEn+7GRDOwkAzvZz3QjDkJ9OAiFi8RB6P7kG7jcDu5+dTlKvZVh/drRyPQDOoWGnezHRjKwkwzsZD/TjTgI9eEgFC7SBuHqPQVwuR243A7W7i0M/gkUlOkHdAoNO9mPjWRgJxnYyX6mG3EQ6sNBKFwkDcJSbyUSXlkGl9vBiM82h+VrkvkHdAoNO9mPjWRgJxnYyX6mG3EQ6sNBKFwkDcKUhdvhcju4ffwXOFXK/wcRLqYf0Ck07GQ/NpKBnWRgJ/uZbsRBqA8HoXCRMgi3HCpCh+HpcLkdLN52NAyno2qmH9ApNOxkPzaSgZ1kYCf7mW7EQagPB6FwkTAIvZVV+M1bK+FyO3hydk6YTkfVTD+gU2jYyX5sJAM7ycBO9jPdiINQHw5C4SJhEL6zfA9cbgfxLy3CsVNlYTodVTP9gE6hYSf7sZEM7CQDO9nPdCMOQn04CIWTPgj3FZxGx5EL4XI7mJudG8bTUTXTD+gUGnayHxvJwE4ysJP9TDfiINSHg1A4yYOwqsqH/tPWwOV28If31sLn84X5hASYf0Cn0LCT/dhIBnaSgZ3sZ7oRB6E+HITCSR6Es9cegMvt4GejMnDwuCfMp6Nqph/QKTTsZD82koGdZGAn+5luxEGoDwehcFIH4dHiUsS9mAmX28H0lXub4HRUzfQDOoWGnezHRjKwkwzsZD/TjTgI9eEgFE7iIPT5fPjTzA1wuR30nZKFyio+VbQpmX5Ap9Cwk/3YSAZ2koGd7Ge6EQehPhyEwkkchOmbD8PldnDd8HTsOMI7eVMz/YBOoWEn+7GRDOwkAzvZz3QjDkJ9OAiFkzYIT3rK8cuxS+ByO3h90c4mPB1VM/2ATqFhJ/uxkQzsJAM72c90Iw5CfTgIhZM2CIfO3QSX28E9ry1HWUVlE56Oqpl+QKfQsJP92EgGdpKBnexnuhEHoT4chMJJGoTZ3x2Hy+3A5XawYf/xJj4dVTP9gE6hYSf7sZEM7CQDO9nPdCMOQn04CIWTMggrq3zo8/ZKuNwOhs7dpOF0VM30AzqFhp3sx0YysJMM7GQ/0404CPXhIBROyiD851ffweV20Dk5E4UlZRpOR9VMP6BTaNjJfmwkAzvJwE72M92Ig1AfDkLhJAzC46fLEf/SIrjcDt5fvV/P4SjA9AM6hYad7MdGMrCTDOxkP9ONOAj14SAUTsIgHPbpZrjcDnq9uQIVlVWaTkfVTD+gU2jYyX5sJAM7ycBO9jPdiINQHw5C4WwfhN/knsQ1w/wvJLOeLyRjhOkHdAoNO9mPjWRgJxnYyX6mG3EQ6sNBKJzNg7Cqyod/n5IFl9vBcx99rfl0VM30AzqFhp3sx0YysJMM7GQ/0404CPXhIBTO5kH48fqDcLkd3PRiJvKLSzWfjqqZfkCn0LCT/dhIBnaSgZ3sZ7oRB6E+HITC2ToIizxe3DpmMVxuB9NX7tV+Nvqe6Qd0Cg072Y+NZGAnGdjJfqYbcRDqw0EonK2D8MX5W+ByO7j39S/h5QvJGGX6AZ1Cw072YyMZ2EkGdrKf6UYchPpwEApn4yDclleMa8++kEzW7gLt56LzmX5Ap9Cwk/3YSAZ2koGd7Ge6EQehPhyEwtk2CH0+H34/dTVcbgdPzsrRfiaqyfQDOoWGnezHRjKwkwzsZD/TjTgI9eEgFM62QfjZxly43A5+NioDeSfPaD8T1WT6AZ1Cw072YyMZ2EkGdrKf6UYchPpwEApn0yA8VepFl3FL4HI7mLJst/bzUO1MP6BTaNjJfmwkAzvJwE72M92Ig1AfDkLhbBqE45xtcLkd/PrV5SirqNR+Hqqd6Qd0Cg072Y+NZGAnGdjJfqYbcRDqw0EonC2D8Nujp3Dd8HS43A6W78zXfhaqm+kHdAoNO9mPjWRgJxnYyX6mG3EQ6sNBKJwNg7C8vBwPv/sVXG4H/zNzg/ZzUP1MP6BTaNjJfmwkAzvJwE72M92Ig1AfDkLhbBiECzYehMvtoOPIhTh43KP9HFQ/0w/oFBp2sh8bycBOMrCT/Uw34iDUh4NQONOD8ONP5+P28f4XknlzyS7tZ6DgTD+gU2jYyX5sJAM7ycBO9jPdiINQHw5C4UwPwj9O+hwut4M7Jy5FqZcvJGMj0w/oFBp2sh8bycBOMrCT/Uw34iDUh4NQOJN3ll2HT6LDsDS43A4WbT2i/fYpNKYf0Ck07GQ/NpKBnWRgJ/uZbsRBqA8HoXCm7iw+nw+PvOd/IZlH3vsKPp9P6+1T6Ew/oFNo2Ml+bCQDO8nATvYz3YiDUB8OQuFM3VmKS7343aSV6DAsDd8eOan1tqlhTD+gU2jYyX5sJAM7ycBO9jPdiINQHw5C4UzeWcrKyjFpFh/MbWf6AZ1Cw072YyMZ2EkGdrKf6UYchPpwEApn+kVl+GBuP3aSgZ3sx0YysJMM7GQ/0404CPXhIBSOg5CCYScZ2Ml+bCQDO8nATvYz3YiDUB8OQuE4CCkYdpKBnezHRjKwkwzsZD/TjTgI9eEgFI6DkIJhJxnYyX5sJAM7ycBO9jPdiINQHw5C4TgIKRh2koGd7MdGMrCTDOxkP9ONOAj14SAUjoOQgmEnGdjJfmwkAzvJwE72M92Ig1AfDkLhOLdRwlgAAA5ZSURBVAgpGHaSgZ3sx0YysJMM7GQ/0404CPXhIBSOg5CCYScZ2Ml+bCQDO8nATvYz3YiDUB8OQuE4CCkYdpKBnezHRjKwkwzsZD/TjTgI9eEgvEAlJSW49tproZSCUgq5ubl1/t7y8nJMnDgR8fHxaN26NWJjY5GQkIC5c+c2+vY5CCkYdpKBnezHRjKwkwzsZD/TjTgI9eEgvEB//vOf0axZs6CD0OPxoFu3blBKITY2FomJiejZsyeaN28OpRSGDBnSqNvnIKRg2EkGdrIfG8nATjKwk/1MN+Ig1IeD8AIsXrwYSik8/fTTQQfhoEGDoJRC586dUVBQEPh4dnY22rRpA6UU0tLSGnwGDkIKhp1kYCf7sZEM7CQDO9nPdCMOQn04CBupuLgYV111Fa699lqcPn263kF44sQJtGzZEkopZGVl1fj1sWPHQimFrl27NuocHIRUH3aSgZ3sx0YysJMM7GQ/0404CPXhIGykRx99FM2aNcPSpUsBoN5BOGvWLCilcPXVV9f6tfbu3Rv4/Ly8vAadg4OQgmEnGdjJfmwkAzvJwE72M92Ig1AfDsJGcBwHSik8/vjjgY/VNwiHDBkCpRQSExPr/Jrt2rWDUgrp6ekNOgsHIQXDTjKwk/3YSAZ2koGd7Ge6EQehPhyEDXTixAm0b98eV1111Xl/QOsbhImJiVBK4bnnnqvz68bHx0MphSlTpjToPByEFAw7ycBO9mMjGdhJBnayn+lGHIT6cBA20IABA6CUQkZGxnkfr28Q9ujRA0opjBw5ss6vW/0KpCkpKfXefllZGYqLiwNXbm4ulFIoLCyE1+vVenk8HsyfPx8ej0f7bfNip0i72Mn+i41kXOwk42In+y/TjQoLCzkINYmaQTh06FB06tSpwdeqVasCX+PTTz+FUgqPPvpoja+vaxAmJycHbuvcKzU1FfPnz+fFixcvXrx48eLFS/yVmprKQahJ1AzCgQMH1jqkgl3V3wksKCjAv/7rv+KnP/0pTp48WePr63rK6A+/Q3jw4EEopbB//34UFhZqvY4cOYLU1FQcOXJE+23zYqdIu9jJ/ouNZFzsJONiJ/sv0432798PpRSKiooa+Ld+aqioGYQXat68eVBK4corr0RCQkKNq3oQdu3aFQkJCZgxY0bgcwcPHhzyi8o4jtOgc1U/ZZQXL168ePHixYsXr0i76nqPbwofDsIQVQ/CUK/k5OTA5zbl205UVVUhNzcXRUVF533nUMdVPUZzc3O13zYvdoq0i53sv9hIxsVOMi52sv8y3aioqAi5ubmoqqq6kL/CUwg4CMOkvn/FaMo3pjepuJiv/iQBO8nATvZjIxnYSQZ2sh8bRQ8OwjAJ9m3tQYMGQSmF+Ph4FBYWBj6ek5ODNm3aQCmFtLQ0XccNCz5QyMBOMrCT/dhIBnaSgZ3sx0bRg4MwTIINQo/HgzvuuANKKbRt2xb9+vVD79690aJFCyilMHjwYM0nvnB8oJCBnWRgJ/uxkQzsJAM72Y+NogcHYZiE8oOv5eXlmDBhAuLi4tCqVSvExMSge/fumDNnjsaThk9ZWRmSk5NRVlZm+ihUD3aSgZ3sx0YysJMM7GQ/NooeHIRERERERERRioOQiIiIiIgoSnEQEhERERERRSkOQiIiIiIioijFQUhhU1xcjFGjRqFPnz7o0KEDLr30UrRo0QLt27dH37594TiO6SMSgPz8fMycORMPP/wwrr/+elx88cVo1aoVOnXqhGeeeQb79+83fUQ6Kz09HcnJybj//vvRvn37kF68iprGnDlzkJCQgNjYWLRu3Rrx8fF4+eWX4fV6TR8t6u3cuROTJk1CUlIS4uLi8C//8i9QSmHs2LGmj0Zneb1efPHFF3j++efRpUsXxMTEoHnz5vjJT36C3/3ud/z7gUVmzZqFRx55BPHx8bj88svRvHlzXHrppbjtttuQkpKCkpIS00ekJsBBSGGze/duKKXQpk0bdO3aFQ888AD69euHm2++OfAX2SeffNL0MaPewIEDoZTCRRddhPj4eDz44IPo06cPLr/8ciilcMkll2Dx4sWmj0kAYmJiAvedcy8OQr2q30e2efPm6NmzJxITExEbGwulFO666y6cOXPG9BGjWnWfH14chPZYsmRJoMsVV1yB3/72t+jfvz/i4uICH3/88cfh8/lMHzXq3XnnnWjWrBl+/vOfo1evXnj44Ydxzz33oFWrVlBK4frrr0deXp7pY1KYcRBS2JSUlOCrr75CRUVFjV9btmwZWrduDaUUMjMzDZyOqj3zzDMYPXo0Dh06dN7HS0pK8NBDD0EphXbt2uHEiROGTkjVHn30UaSkpCAzMxPHjh3jIDRg3rx5gX/oysnJCXy8oKAAnTt3hlIKQ4YMMXhCmj59Op5//nnMnj0bO3bswCOPPMJBaJmlS5eiX79+WLlyZY1f++ijjwLf1Z05c6aB09G51q5di+PHj9f4eGFhIe666y4opfDQQw8ZOBk1JQ5C0uaxxx6DUgqDBw82fRSqg8fjwY9+9CMopfDBBx+YPg79AAehfrfddhuUUhg3blyNX1u1ahWUUrj44otRVFRk4HRUm6SkJA5CYf74xz9CKYV7773X9FGoHitXrgz8ozFFFg5C0ubxxx+HUgrDhw83fRSqR5cuXaCUQkpKiumj0A9wEOp16NChwP/m+/btq/X3XHXVVVBKITU1VfPpqC4chPJMmTIFSil07NjR9FGoHmvWrIFSCu3btzd9FAozDkLSYv369YiJiUGzZs2wZs0a08ehOni9Xlx22WVQSmHGjBmmj0M/wEGoV1paWtB/DX/ggQeglMLQoUM1nozqw0EoT/XPgSYkJJg+CtXh1KlT6NmzJ5RS+N///V/Tx6Ew4yCkJvHCCy8gKSkJ/fv3DzzlqmXLlpg8ebLpo1E9pk6dCqUUWrVqhaNHj5o+Dv0AB6FekyZNglIKt9xyS52/59lnn4VSCr///e81nozqw0Eoy5EjRwIvoDVp0iTTx6GzFi1ahKSkJDzyyCPo2bNn4MdJevfuzafIRyAOQmoS576yaPULMrz77ruorKw0fTSqw+bNm9GmTRs+XdRiHIR6jR8/Hkop3HnnnXX+nhEjRkAphZ49e2o8GdWHg1COiooK3HvvvVBKoXPnzigvLzd9JDrrzTffrPHKvQMGDOA/FkcoDkICAAwdOhSdOnVq8LVq1ap6v25xcTHWr1+PAQMGQCmFe+65B6dOndL0XxV5mqpTbm4uXC4XlFLo27cvX/r7AjVVJw5CvTgIZeIglKP6xWR+/OMfY9euXaaPQ7Xwer3Ys2cPXn/9dbRt2xbt2rXDihUrTB+LwoyDkAB8/950Db0yMjJCvo0nn3ySL9F+gZqi05EjR9CxY0copdCrVy+UlZVp/C+KTE11f+Ig1ItPGZWJg1CG6vtO27ZtsXHjRtPHoRCsXbsWzZo1w1VXXcX3X40wHISkzYYNG6CUQocOHUwfhc7Kz8/HjTfeCKUU7rvvPpSWlpo+EtWDg1Cvzz//PPDdi7pUv6jM888/r/FkVB8OQvsNHjwYSinExsZiw4YNpo9DDXDTTTdBKVXre0qSXByEpM327dsDP09I5h07dizwwH7vvffyX/sE4CDUKzc3l287IRAHod2GDh0KpRRiYmKwfv1608ehBvrVr34FpRQ++eQT00ehMOIgJG0mT54MpRRuvfVW00eJegUFBYiLi+MYFIaDUD++Mb08HIT2crvdHIOCFRQU4OKLL4ZSCps3bzZ9HAojDkIKm9mzZyM7O7vGx30+Hz799NPAy0pPmzbNwOmo2vHjxxEfHx94mijHoBwchPrNmzcv8MyGnJycwMcLCwvRuXNn/ly0hTgI7TRy5MjA00Q5Bu20bds2zJo1q9YfH9m1axd+/etfQymFrl27GjgdNSUOQgqb6v8nfOWVV6JPnz4YMGAAevXqFXj1SqUUnnrqKb6CpWHVP/PUrFkz9O/fH0lJSbVe8+bNM33UqDdmzBjcfvvtgav6fvSLX/wi8LEnnnjC9DEjXvWLX7Ro0QK9e/dGv379EBsbG3gFUv6jilk5OTnn3U8uu+yywP8vOvfjhw8fNn3UqLVgwYLA41eXLl3q/P87/McVs5YvXw6lFC655BLcddddeOihh5CYmIguXbrgoosuglIKN954Iw4cOGD6qBRmHIQUNllZWXj22WfRpUsXXHHFFWjRogVat26Njh07IikpKehL6pMeCQkJIb3iZXJysumjRr3qf2Sp70pISDB9zKjw8ccfo3v37rj00kvRqlUrxMXFYeLEiXzfNAtU/yU22LV//37TR41aM2bMCKmRy+UyfdSoduzYMYwfPx69e/fGNddcg0suuQQtW7bEFVdcgR49emDq1Kl8JfIIxUFIREREREQUpTgIiYiIiIiIohQHIRERERERUZTiICQiIiIiIopSHIRERERERERRioOQiIiIiIgoSnEQEhERERERRSkOQiIiIiIioijFQUhERERERBSlOAiJiIiIiIiiFAchERERERFRlOIgJCIiIiIiilIchERERERERFGKg5CIiIiIiChKcRASERERERFFKQ5CIiIiIiKiKMVBSEREREREFKU4CImIiIiIiKIUByEREREREVGU4iAkIiIiIiKKUhyEREREREREUYqDkIiIiIiIKEpxEBIREREREUUpDkIiIiIiIqIoxUFIREREREQUpTgIiYiIiIiIohQHIRERERERUZTiICQiIiIiIopSHIRERERERERRioOQiIiIiIgoSnEQEhERERERRSkOQiIiIiIioijFQUhERERERBSlOAiJiIiIiIiiFAchERERERFRlOIgJCIiIiIiilIchERERERERFGKg5CIiIiIiChKcRASERERERFFKQ5CIiIiIiKiKPX/AQUpE8LSguycAAAAAElFTkSuQmCC\" width=\"900\">"
      ],
      "text/plain": [
       "<IPython.core.display.HTML object>"
      ]
     },
     "metadata": {},
     "output_type": "display_data"
    },
    {
     "data": {
      "text/plain": [
       "<matplotlib.legend.Legend at 0x7fc251185898>"
      ]
     },
     "execution_count": 21,
     "metadata": {},
     "output_type": "execute_result"
    }
   ],
   "source": [
    "fig, ax = plt.subplots()\n",
    "xx = np.linspace(-3, 3)\n",
    "fnp = lambdify(y, f) # ausdruck -> python-funktion, wie in def f(x): ...\n",
    "hnp = lambdify(y, h)\n",
    "ax.plot(xx, fnp(xx), label=\"f\")\n",
    "ax.plot(xx, hnp(xx), label=\"h\")\n",
    "ax.legend()"
   ]
  },
  {
   "cell_type": "code",
   "execution_count": 22,
   "metadata": {},
   "outputs": [
    {
     "data": {
      "text/plain": [
       "[2, -sqrt(2), sqrt(2)]"
      ]
     },
     "execution_count": 22,
     "metadata": {},
     "output_type": "execute_result"
    }
   ],
   "source": [
    "# h = f => h-f = 0\n",
    "sol = solve(h-f, y)\n",
    "sol"
   ]
  },
  {
   "cell_type": "code",
   "execution_count": 23,
   "metadata": {},
   "outputs": [
    {
     "data": {
      "text/latex": [
       "$\\displaystyle 1.4142135623731$"
      ],
      "text/plain": [
       "1.41421356237310"
      ]
     },
     "execution_count": 23,
     "metadata": {},
     "output_type": "execute_result"
    }
   ],
   "source": [
    "nsolve(h-f, y, 1)"
   ]
  }
 ],
 "metadata": {
  "kernelspec": {
   "display_name": "Python 3",
   "language": "python",
   "name": "python3"
  },
  "language_info": {
   "codemirror_mode": {
    "name": "ipython",
    "version": 3
   },
   "file_extension": ".py",
   "mimetype": "text/x-python",
   "name": "python",
   "nbconvert_exporter": "python",
   "pygments_lexer": "ipython3",
   "version": "3.5.3"
  }
 },
 "nbformat": 4,
 "nbformat_minor": 4
}
