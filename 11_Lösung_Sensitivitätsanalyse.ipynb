{
 "cells": [
  {
   "attachments": {},
   "cell_type": "markdown",
   "metadata": {},
   "source": [
    "# Geodatenanalyse 1\n",
    "\n",
    "## Übung 10: Sensitivitätsanalyse - Lösung"
   ]
  },
  {
   "attachments": {},
   "cell_type": "markdown",
   "metadata": {},
   "source": [
    "### Aufgabe 1: Contribution-to-Variance\n",
    "\n",
    "Als Anwendungsbeispiel für eine Sensitivitätsanalyse werden wir das Model und die Unsicherheitsanalyse aus der letzten Übung verwenden. Kopiert daher zuerst das Skript mit der MC Simulation in dieses Notebook, damit ihr alle Input- und Outputwerte als Variablen zur Verfügung habt. "
   ]
  },
  {
   "cell_type": "code",
   "execution_count": 1,
   "metadata": {},
   "outputs": [],
   "source": [
    "# [1]\n",
    "# Monte-Carlo Simulation zur Bestimmung der Abbaurate von O-Xylol\n",
    "import numpy as np\n",
    "from scipy.stats import truncnorm\n",
    "import matplotlib.pyplot as plt\n",
    "\n",
    "n = 5000 # number of MC simulations \n",
    "\n",
    "# input data \n",
    "# isotope shift delta 13C [o/oo], truncated to (3.8, 4.8)\n",
    "a, b = (3.8 - 4.3) / 0.7, (4.8 - 4.3) / 0.7\n",
    "deltaC = truncnorm.rvs(a, b, 4.3, 0.7, size=n)\n",
    "# isotope enrichment factor epsilon [-]\n",
    "epsilon = np.random.uniform(-3.2, -1.1, n)\n",
    "# distance [m]\n",
    "s = np.random.uniform(415, 423, n)\n",
    "# effective porosity [-], trunctaed to (0.12, 0.30)\n",
    "a, b = (0.12 - 0.21) / 0.9, (0.3 - 0.21) / 0.9\n",
    "neff = truncnorm.rvs(a, b, 0.21, 0.9, size=n)\n",
    "# time, truncated to (3e8, 3.3e8)\n",
    "a, b = (3e8 - 3.15e8) / 1.6e6, (3.3e8 - 3.15e8) / 1.6e6\n",
    "t = truncnorm.rvs(a, b, 3.15e8, 1.6e6, size=n)\n",
    "# hydraulic gradient [-]\n",
    "grad = np.random.uniform(1.3e-3, 1.6e-3, n)\n",
    "\n",
    "kf =np.zeros(n)\n",
    "lambda_rate = np.zeros(n)\n",
    "# analytical model\n",
    "for i in range(n):\n",
    "    kf[i] = (s[i]*neff[i])/(t[i]*grad[i])\n",
    "    lambda_rate[i] = -(deltaC[i]*kf[i]*grad[i])/(epsilon[i]*s[i]*neff[i])\n",
    "\n",
    "lambda_rate = lambda_rate*3600*24*365 # to get values as [1/a]"
   ]
  },
  {
   "cell_type": "markdown",
   "metadata": {},
   "source": [
    "Für die Contribution-to-Variance Analyse und die Berechnung von Kovarianzen und Korrelationen ist es praktisch, alle benötigten Werte in einem Pandas DataFrame zusammenzufassen, um sicherzustellen, dass die Dimensionen, Ausrichtung von Spalten usw. alle stimmen. \n",
    "\n",
    "Das Generieren eines DataFrame erfolgt über die Funktion `pandas.DataFrame()`, mit dem Syntax: \"data = pd.DataFrame({'column_name': column_value, ...})\". Die Spalten und Namen könnt Ihr aus dem Output des Monte Carlo Codes zusammensetzen. \n",
    "\n",
    "Berechnet anschließend die Kovarianzen (`data.cov()`) und Korrelationen nach Pearson (`data.corr()`) für den DataFrame. Welches Maß macht hier mehr Sinn für eine Betrachtung der Sensitivitäten? "
   ]
  },
  {
   "cell_type": "code",
   "execution_count": 2,
   "metadata": {},
   "outputs": [],
   "source": [
    "# [2] \n",
    "# pandas package importieren\n",
    "import pandas as pd\n",
    "\n",
    "# DataFrame generieren\n",
    "data = pd.DataFrame({'lambda_rate': lambda_rate, 'kf': kf, 'deltaC': deltaC, 'epsilon': epsilon, 's':s,\n",
    "                     'neff': neff, 't': t, 'grad': grad})\n",
    "\n",
    "# Kovarianzen und Korrelation berechnen\n",
    "covariance = data.cov()\n",
    "correlation = data.corr()"
   ]
  },
  {
   "cell_type": "markdown",
   "metadata": {},
   "source": [
    "Stellt nun die Ergebnisse für die Sensitivitätsanalyse, sowohl für den kf-Wert als auch die Abbaurate mit Hilfe der Funktion `subplot` in `matplotlib` graphisch in einem Tornadoplot dar. Am einfachsten geht das über ein horizontales Balkendiagramm mit `matplotlib.pyplot.barh()`. \n",
    "\n",
    "Überlegt Euch auch genau welche Werte aus der Korrelations-, bzw- Kovarianzmatrix, in dem Plot dargestellt werden sollen, \n",
    "\n",
    "Fügt in der Abbildung schließlichen auch einen Titel (`title()`) und Achsenbeschrfitungen (`labels()`) ein.  \n"
   ]
  },
  {
   "cell_type": "code",
   "execution_count": 7,
   "metadata": {},
   "outputs": [
    {
     "data": {
      "image/png": "[encoded data removed]",
      "text/plain": [
       "<Figure size 648x360 with 2 Axes>"
      ]
     },
     "metadata": {
      "needs_background": "light"
     },
     "output_type": "display_data"
    }
   ],
   "source": [
    "# [3] \n",
    "import matplotlib.pyplot as plt\n",
    "\n",
    "labels = ['deltaC', 'epsilon', 's', 'neff', 't', 'grad']\n",
    "plot_bio = correlation.iloc[0,2:len(correlation)]\n",
    "\n",
    "labels_kf = ['s', 'neff', 't', 'grad']\n",
    "plot_kf = correlation.iloc[1,4:len(correlation)]\n",
    "\n",
    "fig = plt.figure(1, figsize=(9, 5))\n",
    "\n",
    "ax = fig.add_subplot(1,2,1)\n",
    "plt.barh(labels_kf, width=plot_kf)\n",
    "plt.xlabel('Korrelation')\n",
    "plt.title ('hydaulische Leitfähigkeit')\n",
    "\n",
    "ax1 = fig.add_subplot(1,2,2)\n",
    "plt.barh(labels, width=plot_bio)\n",
    "plt.xlabel('Korrelation')\n",
    "plt.title ('Abbaurate')\n",
    "plt.show()\n"
   ]
  },
  {
   "attachments": {},
   "cell_type": "markdown",
   "metadata": {},
   "source": [
    "### Aufgabe 2: Sobol Indizes\n",
    "\n",
    "Für fortgeschrittene Sensitivitätsanalysen gibt es in Python das Package `SALib` (https://salib.readthedocs.io/en/latest/index.html), in dem viele gängige Methoden (z.B. Morris Method, Sobol Indices) und die benötigten Sampling-Strategien implementiert sind. Um dieses benutzen zu können müsst ihr es zuerst in euer Python-Environment installieren. \n",
    "\n",
    "Zur Bestimmung der Sobol Indizes werden zwei Algorithmen aus SALib benötigt: Mit `SALib.sample.saltelli.sample()` erfolgt das Generieren der Input-Wertematrix, danach werden mit diesen Inputs die Modelloutputs erzeugt, und mit `SALib.analyze.sobol.analyze()` erfolgt schließlich die Bestimmung der Sobol-Indizes. \n",
    "\n",
    "`SALib.sample.saltelli.sample()` benötigt als Input-Argument ein Python Dictionary mit der folgenden Angaben: \n",
    "\n",
    "'{'num_vars': Anzahl_unsichere_Parameter, 'names': [Name1, Name2, ...], 'bounds':[[min1, max1], [min2, max2], ...]}'\n",
    "\n",
    "Definiert nun zuerst ein Python Dictionary mit den entsprechenden Angaben zu dem analytischen Abbaumodell aus den letzten Übungen, und erzeugt Euch dann mit `SALib.sample.saltelli.sample()` einen Inputdatensatz für das analytische Modell. \n",
    "\n",
    "Inspiziert anschließend den generierten Inputdatensatz um die  Sampling Strategie nachzuvollziehen. "
   ]
  },
  {
   "cell_type": "code",
   "execution_count": null,
   "metadata": {},
   "outputs": [],
   "source": [
    "# [4] \n",
    "# benötigtes Package importieren\n",
    "from SALib.sample.saltelli import sample\n",
    "\n",
    "# Dictionary erzeugen\n",
    "problem = {\n",
    "    'num_vars': 6,\n",
    "    'names': ['deltaC', 'epsilon', 's', 'neff', 't', 'grad'],\n",
    "    'bounds': [[3.8, 4.8],\n",
    "               [-3.2, -1.1],\n",
    "               [415, 423],\n",
    "               [0.12, 0.3],\n",
    "               [3e8, 3.3e8],\n",
    "               [1.3e-3, 1.6e-3]]\n",
    "}\n",
    "\n",
    "# Inputmatrix erzeugen\n",
    "X = sample(problem, 1000)\n",
    "\n",
    "# Datensatz inspizieren\n",
    "print(X)"
   ]
  },
  {
   "attachments": {},
   "cell_type": "markdown",
   "metadata": {},
   "source": [
    "Venwendet nun die eben erzeugten Modell-Inputs, um mit einer `for` Schleife und dem analytischen Modell der letzten Übungen die entsprechenden Outputs (hydraulische Leitfähigkeit und biologische Abbaurate) zu berechnen (siehe Übung 8 Monte Carlo Methoden). "
   ]
  },
  {
   "cell_type": "code",
   "execution_count": null,
   "metadata": {},
   "outputs": [],
   "source": [
    "# [5]\n",
    "# Packages laden\n",
    "from SALib.analyze.sobol import analyze\n",
    "import numpy as np\n",
    "\n",
    "# Anzahl der Modelldurchläufe sowie leere Arrays für Outputs definieren \n",
    "n = len(X)\n",
    "kf =np.zeros(n)\n",
    "lambda_rate = np.zeros(n)\n",
    "\n",
    "# mit for-Schleife und analytischem Modell Outputs erzeugen\n",
    "for i in range(n):\n",
    "    kf[i] = (X[i, 2]*X[i, 3])/(X[i, 4]*X[i, 5])\n",
    "    lambda_rate[i] = -(X[i, 0]*kf[i]*X[i, 5])/(X[i, 1]*X[i, 2]*X[i, 3])\n",
    "\n",
    "Y = lambda_rate*3600*24*365 # to get values as [1/a]"
   ]
  },
  {
   "attachments": {},
   "cell_type": "markdown",
   "metadata": {},
   "source": [
    "Als Inputs für `SALib.analyze.sobol.analyze()` sind das Eingangs-Dictionary, sowie die Modell-Ouputs erforderlich. Mit der zusätzlichen Angabe von \"print_to_console=True\" könnt Ihr Euch die Indizes direkt ausgeben lassen. \n",
    "\n",
    "Schaut Euch die Werte an, und vergleicht sie mit den Ergebnissen der Morris Method und Contribution-to-Variance Analyse. "
   ]
  },
  {
   "cell_type": "code",
   "execution_count": null,
   "metadata": {},
   "outputs": [],
   "source": [
    "#[6]\n",
    "# Packages laden\n",
    "from SALib.analyze.sobol import analyze\n",
    "\n",
    "# Sobol Indizes berechnen\n",
    "Sobol = analyze(problem, Y, print_to_console=True)"
   ]
  },
  {
   "attachments": {},
   "cell_type": "markdown",
   "metadata": {},
   "source": [
    "Um die Effekte Erster Ordnung und Totalen Effekte zu vergleichen, visualisiert diese abschließend in einer Graphik. Vergleicht dabei die verschiedenen Effekte in Bezug auf die einzelnen Parameter und interpretiert diese. "
   ]
  },
  {
   "cell_type": "code",
   "execution_count": null,
   "metadata": {},
   "outputs": [],
   "source": [
    "#[7]\n",
    "import matplotlib.pyplot as plt\n",
    "\n",
    "labels = ['deltaC', 'epsilon', 's', 'neff', 't', 'grad']\n",
    "\n",
    "fig = plt.figure(1, figsize=(9, 5))\n",
    "\n",
    "ax = fig.add_subplot(1,2,1)\n",
    "plt.barh(labels, width=Sobol['S1'])\n",
    "plt.xlabel('Effekte Erster Ordnung')\n",
    "plt.title ('Effekte Erster Ordnung')\n",
    "\n",
    "ax1 = fig.add_subplot(1,2,2)\n",
    "plt.barh(labels, width=Sobol['ST'])\n",
    "plt.xlabel('Totale Effekte')\n",
    "plt.title ('Totale Effekte')\n",
    "plt.show()"
   ]
  },
  {
   "cell_type": "markdown",
   "metadata": {},
   "source": [
    "## Ende\n",
    "\n",
    "### Referenzen: \n",
    "\n",
    "Würth et al. (2021): Quantifying biodegradation rate constants of o-xylene by combining compound-specific isotope analysis and groundwater dating. Journal of Contaminant Hydrology, 238, 103757"
   ]
  }
 ],
 "metadata": {
  "kernelspec": {
   "display_name": "base",
   "language": "python",
   "name": "python3"
  },
  "language_info": {
   "codemirror_mode": {
    "name": "ipython",
    "version": 3
   },
   "file_extension": ".py",
   "mimetype": "text/x-python",
   "name": "python",
   "nbconvert_exporter": "python",
   "pygments_lexer": "ipython3",
   "version": "3.8.8"
  },
  "vscode": {
   "interpreter": {
    "hash": "e4cce46d6be9934fbd27f9ca0432556941ea5bdf741d4f4d64c6cd7f8dfa8fba"
   }
  }
 },
 "nbformat": 4,
 "nbformat_minor": 4
}
