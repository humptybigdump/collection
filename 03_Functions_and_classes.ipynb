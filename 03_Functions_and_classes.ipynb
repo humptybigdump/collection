{
 "cells": [
  {
   "cell_type": "markdown",
   "metadata": {},
   "source": [
    "## Funktionen"
   ]
  },
  {
   "cell_type": "code",
   "execution_count": null,
   "metadata": {},
   "outputs": [],
   "source": [
    "# function blocks start with the keyword 'def', the function name and a number of arguments\n",
    "\n",
    "def exponentiate(base,exponent):\n",
    "    return base**exponent"
   ]
  },
  {
   "cell_type": "code",
   "execution_count": null,
   "metadata": {},
   "outputs": [],
   "source": [
    "# function calls\n",
    "# \"base\" and \"exponent\" are infered by the position of the given arguments\n",
    "a = exponentiate(7,2)\n",
    "print(a)"
   ]
  },
  {
   "cell_type": "code",
   "execution_count": null,
   "metadata": {},
   "outputs": [],
   "source": [
    "# Alternatively, the arguments can be provided using keywords\n",
    "# For more complex functions with many arguments, this can make your code more readable\n",
    "\n",
    "a = exponentiate(base = 7, exponent = 2)\n",
    "print(a)\n",
    "\n",
    "# In this case, the order and position of the arguments does not matter\n",
    "a = exponentiate(exponent = 2, base = 7)\n",
    "print(a)\n",
    "\n",
    "# This can also be mixed, however the keyword arguments are always last.\n",
    "a = exponentiate(7, exponent = 2)\n",
    "print(a)"
   ]
  },
  {
   "cell_type": "code",
   "execution_count": null,
   "metadata": {},
   "outputs": [],
   "source": [
    "# A function can be defined with default parameters\n",
    "\n",
    "def praise(subject, adjective = \"great\"):\n",
    "    return f\"{subject} is {adjective}!\"\n",
    "    \n",
    "\n",
    "print(praise(\"Python\"))\n",
    "print(praise(\"Python\", adjective = \"terrible\")) # ;_;"
   ]
  },
  {
   "cell_type": "code",
   "execution_count": null,
   "metadata": {},
   "outputs": [],
   "source": [
    "# A function can be defined with a variable number of input arguments using the * signifier\n",
    "\n",
    "def checkIfEven(*numbers):\n",
    "    \n",
    "    print(\"My Input: \", numbers) # arguments are given as tuple\n",
    "    \n",
    "    for number in numbers:\n",
    "        if number%2 == 0:\n",
    "            print(number, \" is even\")\n",
    "        else:\n",
    "            print(number, \" is odd\")\n",
    "    \n",
    "checkIfEven(2,3,6,7,9,10)    "
   ]
  },
  {
   "cell_type": "code",
   "execution_count": null,
   "metadata": {},
   "outputs": [],
   "source": [
    "# Additionally, tuples can be unpacked as arguments using *\n",
    "\n",
    "myArguments = (2,3,6,7,22)\n",
    "\n",
    "checkIfEven(*myArguments)"
   ]
  },
  {
   "cell_type": "code",
   "execution_count": null,
   "metadata": {},
   "outputs": [],
   "source": [
    "# Similarly for keyword arguments using **\n",
    "\n",
    "def praiseMany(**kwargs):\n",
    "    \n",
    "    print(\"My Input :\", kwargs) # keyword arguments are given as dicts\n",
    "    \n",
    "    for key in kwargs.keys():\n",
    "        print(f\"{key} is {kwargs[key]}!\")\n",
    "\n",
    "praiseMany(Python = \"great\", Micromechanics = \"awesome\")"
   ]
  },
  {
   "cell_type": "code",
   "execution_count": null,
   "metadata": {},
   "outputs": [],
   "source": [
    "# Last but not least, dicts can be unpacked as keyword arguments using **\n",
    "\n",
    "myKeywordArguments = {\"Python\": \"great\", \"Micromechanics\": \"awesome\"}\n",
    "\n",
    "praiseMany(**myKeywordArguments)"
   ]
  },
  {
   "cell_type": "code",
   "execution_count": null,
   "metadata": {},
   "outputs": [],
   "source": [
    "# Differentiating between a function and a function call\n",
    "\n",
    "def sayHi():\n",
    "    return \"Hi!\"\n",
    "    \n",
    "print(sayHi()) # result of a function call\n",
    "print(sayHi) # the function as an object\n"
   ]
  },
  {
   "cell_type": "code",
   "execution_count": null,
   "metadata": {},
   "outputs": [],
   "source": [
    "# Functions can be treated as objects. For example, they can be put into lists and dicts:\n",
    "\n",
    "def add(x,y):\n",
    "    return x+y\n",
    "\n",
    "def substract(x,y):\n",
    "    return x-y\n",
    "\n",
    "myFunctionList = [add, substract, exponentiate] # without (args) as object\n",
    "print(myFunctionList[0](1,3)) # with (args for the funtion call)\n",
    "\n",
    "myFunctionDict = {\"addition\": add, \"subtraction\": substract, \"exponentiation\": exponentiate}\n",
    "print(myFunctionDict[\"subtraction\"](5,2))\n"
   ]
  },
  {
   "cell_type": "code",
   "execution_count": null,
   "metadata": {},
   "outputs": [],
   "source": [
    "# Functions can be passed as input to other functions\n",
    "\n",
    "def callAnotherFunctionTwice(function, calls = 2, functionargs = (), functionkwargs = {}):\n",
    "    \n",
    "    for i in range(calls):\n",
    "        result = function(*functionargs, **functionkwargs)\n",
    "        print(result)\n",
    "\n",
    "callAnotherFunctionTwice(add, functionargs = (2,3))\n",
    "callAnotherFunctionTwice(praise, calls = 7, functionargs = (\"Python\",), functionkwargs = {\"adjective\": \"great\"})"
   ]
  },
  {
   "cell_type": "markdown",
   "metadata": {},
   "source": [
    "## Classes"
   ]
  },
  {
   "cell_type": "code",
   "execution_count": null,
   "metadata": {},
   "outputs": [],
   "source": [
    "# Python supports object oriented programing.\n",
    "# Objects contain data and functions operating on this data.\n",
    "# A class acts as a blueprint for a certain type of object and is initiated with the 'class' keyword\n",
    "\n",
    "class Student(object):\n",
    "    \n",
    "    # The functions of a class are called methods. As functions, they are initiated with the 'def' keyword.\n",
    "    # Each method has to contain 'self', i.e. the object itself, as first argument.\n",
    "    \n",
    "    # The __init__() method is the constructor of a class and is called when instantiating objects of said class.\n",
    "    # For example, the constructor can be used to assign certain attributes of an object\n",
    "    \n",
    "    def __init__(self, name, age):\n",
    "        self.name = name\n",
    "        self.age = age\n",
    "        self.hours_studied = 0\n",
    "        self.hours_for_graduation = 100\n",
    "        self.has_graduated = False\n",
    "    \n",
    "    def study(self,hours):\n",
    "        self.hours_studied += hours\n",
    "        print(f\"{self.name} studied for {hours} hours\")\n",
    "        \n",
    "    def graduate(self):\n",
    "        \n",
    "        if self.hours_studied < self.hours_for_graduation:\n",
    "            print(f\"{self.name} has to study {self.hours_for_graduation-self.hours_studied} more hours to graduate :(\")\n",
    "        else:\n",
    "            print(f\"Congratulations {self.name}, you're graduated!\")\n",
    "            self.has_graduated = True\n",
    "    \n",
    "    def sayHi(self):\n",
    "        print(f\"Hi, I'm {self.name}. I am {self.age} years old.\")"
   ]
  },
  {
   "cell_type": "code",
   "execution_count": null,
   "metadata": {},
   "outputs": [],
   "source": [
    "# Instantiating an object\n",
    "\n",
    "Robert = Student(\"Robert\", 22)\n",
    "\n",
    "# Calling the methods of an object:\n",
    "# Conveniently, Python automatically passes the 'self' argument when calling a method of an object\n",
    "\n",
    "Robert.sayHi()\n",
    "Robert.study(75)\n",
    "Robert.graduate()\n",
    "print(\"Has he graduated?\", Robert.has_graduated)\n",
    "Robert.study(50)\n",
    "Robert.graduate()\n",
    "print(\"Has he graduated?\", Robert.has_graduated)\n"
   ]
  },
  {
   "cell_type": "code",
   "execution_count": null,
   "metadata": {},
   "outputs": [],
   "source": [
    "# Inheritance\n",
    "# New classes can be derived from existing classes. This is called inheritance.\n",
    "# The derived class inherits the attributes and methods of the original class\n",
    "\n",
    "class KITStudent(Student): # The class from which the new class is derived must be given\n",
    "    \n",
    "    # By default, the new class inherits the attributes and methods of the original class.\n",
    "    # To change these methods for the derived class, they have to be overwritten:\n",
    "    \n",
    "    def __init__(self, name, age):\n",
    "        Student.__init__(self, name , age) # calls the constructor of the student class\n",
    "        self.University = \"KIT\"\n",
    "        self.hours_for_graduation = 200\n",
    "    \n",
    "    def sayHi(self):\n",
    "        print(f\"Hi, I'm {self.name}. I am {self.age} years old. I study at the {self.University}.\")\n",
    "        \n",
    "\n",
    "Anne = KITStudent(\"Anne\", 24)\n",
    "\n",
    "# \n",
    "\n",
    "Anne.sayHi()\n",
    "Anne.study(75)\n",
    "Anne.graduate()\n",
    "print(\"Is she graduated?\", Anne.has_graduated)\n",
    "Anne.study(150)\n",
    "Anne.graduate()\n",
    "print(\"Is she graduated?\", Anne.has_graduated)\n"
   ]
  },
  {
   "cell_type": "code",
   "execution_count": null,
   "metadata": {},
   "outputs": [],
   "source": [
    "# It can be useful to define an abstract class as a template for other (derived) classes\n",
    "# to define their methods in advance without necessarily specifying them\n",
    "\n",
    "import numpy as np\n",
    "\n",
    "class AbstractLinearElasticStiffness(object):\n",
    "    \n",
    "    def __init__(self):\n",
    "        raise Exception(\"The abstract linear elastic material can not be instantiated!\")\n",
    "        \n",
    "    def computeStiffnessMatrix(self):\n",
    "        pass # Not specified at this point, has to be overwritten\n",
    "    \n",
    "    \n",
    "class isotropicLinearElasticStiffness(AbstractLinearElasticStiffness):\n",
    "    \n",
    "    def __init__(self, E, nu):\n",
    "        # Engineering parameters\n",
    "        self.E = E\n",
    "        self.nu = nu\n",
    "        # Eigenvalues\n",
    "        self.K = self.E/(3*(1-2*self.nu))\n",
    "        self.G = self.E/(2*(1+self.nu))\n",
    "        # Lamé constants\n",
    "        self.mu = self.G\n",
    "        self.lam = self.K - 2/3*self.G\n",
    "        \n",
    "    def computeStiffnessMatrix(self):\n",
    "        \n",
    "        # Here we use the Mandel notation (alternatively Voigt-Notation could be used)\n",
    "        \n",
    "        C11 = self.lam + 2*self.mu\n",
    "        C12 = self.lam\n",
    "        C44 = self.mu\n",
    "        \n",
    "        C = np.array([  C11, C12, C12,  0,   0,   0,\n",
    "                        C12, C11, C12,  0,   0,   0,\n",
    "                        C12, C12, C11,  0,   0,   0,\n",
    "                          0,   0,   0, 2*C44,  0,   0,\n",
    "                          0,   0,   0,  0, 2*C44,   0,\n",
    "                          0,   0,   0,  0,  0,   2*C44]).reshape((6,6))\n",
    "        \n",
    "        return C\n",
    "\n",
    "np.set_printoptions(precision = 2)\n",
    "\n",
    "steel_stiffness = isotropicLinearElasticStiffness( E = 210000, nu = 0.3 )\n",
    "print(steel_stiffness.computeStiffnessMatrix())\n",
    "\n"
   ]
  },
  {
   "cell_type": "code",
   "execution_count": null,
   "metadata": {},
   "outputs": [],
   "source": [
    "# Objects can have other objects as attribute to access their data and attributes:\n",
    "\n",
    "class LinearElasticMaterial(object):\n",
    "    \n",
    "    def __init__(self,stiffness):\n",
    "        self.stiffness = stiffness\n",
    "        \n",
    "    def computeStress(self,strain):\n",
    "        \n",
    "        stiffness_matrix = self.stiffness.computeStiffnessMatrix()\n",
    "        \n",
    "        return np.dot(stiffness_matrix,strain)\n",
    "    \n",
    "steel = LinearElasticMaterial(steel_stiffness)\n",
    "strain = np.array([0.01,0.,0.,0.,0.,0.])\n",
    "\n",
    "stress = steel.computeStress(strain)\n",
    "print(stress)\n"
   ]
  },
  {
   "cell_type": "code",
   "execution_count": null,
   "metadata": {},
   "outputs": [],
   "source": [
    "# The following class implements the complex numbers. Here the +, - and * operators are overwritten, which\n",
    "# enables writing code, that is easy to read\n",
    "\n",
    "class Complex(object):\n",
    "    def __init__(self, real, imag=0.0):\n",
    "        self.real = real\n",
    "        self.imag = imag\n",
    "\n",
    "    def __add__(self, other):\n",
    "        return Complex(self.real + other.real,\n",
    "                       self.imag + other.imag)\n",
    "\n",
    "    def __sub__(self, other):\n",
    "        return Complex(self.real - other.real,\n",
    "                       self.imag - other.imag)\n",
    "\n",
    "    def __mul__(self, other):\n",
    "        return Complex(self.real*other.real - self.imag*other.imag,\n",
    "                       self.imag*other.real + self.real*other.imag)\n",
    "    \n",
    "    def __div__(self,other):\n",
    "        raise Exception('Division needs to be implemented')\n",
    "    \n",
    "    def __abs__(self):\n",
    "        return sqrt(self.real**2 + self.imag**2)\n"
   ]
  },
  {
   "cell_type": "code",
   "execution_count": null,
   "metadata": {},
   "outputs": [],
   "source": [
    "# Generate an Object of Type Complex\n",
    "i = Complex(0,-1.)"
   ]
  },
  {
   "cell_type": "code",
   "execution_count": null,
   "metadata": {},
   "outputs": [],
   "source": [
    "x = Complex(1,2)\n",
    "print(x.real,x.imag)"
   ]
  },
  {
   "cell_type": "code",
   "execution_count": null,
   "metadata": {},
   "outputs": [],
   "source": [
    "# Multiplication with a Complex number\n",
    "x *=i\n",
    "print(x.real,x.imag)"
   ]
  },
  {
   "cell_type": "code",
   "execution_count": null,
   "metadata": {},
   "outputs": [],
   "source": [
    "#Multiplication with a real number\n",
    "x2 = x*Complex(2)\n",
    "print(x2.real,x2.imag)"
   ]
  },
  {
   "cell_type": "code",
   "execution_count": null,
   "metadata": {},
   "outputs": [],
   "source": [
    "#Addition\n",
    "x3 = x+x2\n",
    "print(x3.real,x3.imag)"
   ]
  },
  {
   "cell_type": "code",
   "execution_count": null,
   "metadata": {},
   "outputs": [],
   "source": []
  },
  {
   "cell_type": "code",
   "execution_count": null,
   "metadata": {},
   "outputs": [],
   "source": []
  }
 ],
 "metadata": {
  "kernelspec": {
   "display_name": "Python 3 (ipykernel)",
   "language": "python",
   "name": "python3"
  },
  "language_info": {
   "codemirror_mode": {
    "name": "ipython",
    "version": 3
   },
   "file_extension": ".py",
   "mimetype": "text/x-python",
   "name": "python",
   "nbconvert_exporter": "python",
   "pygments_lexer": "ipython3",
   "version": "3.8.8"
  }
 },
 "nbformat": 4,
 "nbformat_minor": 2
}
