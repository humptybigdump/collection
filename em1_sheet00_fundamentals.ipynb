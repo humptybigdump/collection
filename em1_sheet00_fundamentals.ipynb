{
 "cells": [
  {
   "cell_type": "markdown",
   "metadata": {
    "jp-MarkdownHeadingCollapsed": true
   },
   "source": [
    "# Python Basics"
   ]
  },
  {
   "cell_type": "markdown",
   "metadata": {
    "jp-MarkdownHeadingCollapsed": true
   },
   "source": [
    "## Basic Data Types and Operators"
   ]
  },
  {
   "cell_type": "code",
   "execution_count": 1,
   "metadata": {},
   "outputs": [
    {
     "name": "stdout",
     "output_type": "stream",
     "text": [
      "1\n",
      "<class 'int'>\n"
     ]
    }
   ],
   "source": [
    "# Integer\n",
    "a = 1\n",
    "print(a)\n",
    "print(type(a))"
   ]
  },
  {
   "cell_type": "code",
   "execution_count": 2,
   "metadata": {},
   "outputs": [
    {
     "name": "stdout",
     "output_type": "stream",
     "text": [
      "1.0\n",
      "<class 'float'>\n"
     ]
    }
   ],
   "source": [
    "# Double\n",
    "b = 1.\n",
    "print(b)\n",
    "print(type(b))"
   ]
  },
  {
   "cell_type": "code",
   "execution_count": 3,
   "metadata": {},
   "outputs": [
    {
     "name": "stdout",
     "output_type": "stream",
     "text": [
      "Hello World Hello World\n",
      "Hello WorldHello World\n"
     ]
    }
   ],
   "source": [
    "# String\n",
    "string1 = 'Hello World'\n",
    "string2 = \"Hello World\"\n",
    "print(string1,string2)\n",
    "print(string1 + string2)"
   ]
  },
  {
   "cell_type": "code",
   "execution_count": 4,
   "metadata": {},
   "outputs": [
    {
     "name": "stdout",
     "output_type": "stream",
     "text": [
      "<class 'int'>\n",
      "<class 'float'>\n",
      "<class 'str'>\n"
     ]
    }
   ],
   "source": [
    "# Python allows dynamic assignment of data types (vs. static assignment + compilation, as in Fortran).\n",
    "# This means the data type of a variable does not need to be explicitly set in advance.\n",
    "# Python automatically infers the correct data type during code execution, and it can also change within the code.\n",
    "\n",
    "q = 1\n",
    "print(type(q))\n",
    "q = 3.14\n",
    "print(type(q))\n",
    "q = \"I am a String\"\n",
    "print(type(q))\n",
    "\n",
    "# Advantage: More readable, less verbose code - focusing on the core \"logic\" of the program.\n",
    "# Disadvantage: Speed and potential for errors.\n",
    "# (In larger applications where the data type is crucial, manual type checks may be appropriate)\n"
   ]
  },
  {
   "cell_type": "code",
   "execution_count": 5,
   "metadata": {},
   "outputs": [
    {
     "name": "stdout",
     "output_type": "stream",
     "text": [
      "3\n",
      "<class 'int'>\n",
      "3.5\n",
      "<class 'float'>\n"
     ]
    }
   ],
   "source": [
    "# Addition\n",
    "a = 1\n",
    "b = 2\n",
    "\n",
    "c = a + b\n",
    "print(c)\n",
    "print(type(c))\n",
    "\n",
    "# Note: When mixing data types, Python (if possible) infers the resulting data type\n",
    "# Example: double + int -> conversion to double\n",
    "\n",
    "a = 1\n",
    "b = 2.5\n",
    "\n",
    "c = a + b\n",
    "print(c)\n",
    "print(type(c))\n"
   ]
  },
  {
   "cell_type": "code",
   "execution_count": 6,
   "metadata": {},
   "outputs": [
    {
     "name": "stdout",
     "output_type": "stream",
     "text": [
      "0.2857142857142857\n"
     ]
    }
   ],
   "source": [
    "# Multiplication and Division\n",
    "d = (c - b) / c * a\n",
    "print(d)"
   ]
  },
  {
   "cell_type": "code",
   "execution_count": 7,
   "metadata": {},
   "outputs": [
    {
     "name": "stdout",
     "output_type": "stream",
     "text": [
      "12.25\n"
     ]
    }
   ],
   "source": [
    "# Powers\n",
    "e = c ** 2\n",
    "print(e)"
   ]
  },
  {
   "cell_type": "code",
   "execution_count": 8,
   "metadata": {},
   "outputs": [
    {
     "name": "stdout",
     "output_type": "stream",
     "text": [
      "3\n"
     ]
    }
   ],
   "source": [
    "# Modulo Operator\n",
    "f = 24 % 7\n",
    "print(f)"
   ]
  },
  {
   "cell_type": "markdown",
   "metadata": {
    "jp-MarkdownHeadingCollapsed": true
   },
   "source": [
    "## Lists, Tuples, and Dictionaries\n"
   ]
  },
  {
   "cell_type": "code",
   "execution_count": 9,
   "metadata": {},
   "outputs": [
    {
     "name": "stdout",
     "output_type": "stream",
     "text": [
      "[1, 2, 3.0, 4, 'String']\n"
     ]
    }
   ],
   "source": [
    "# Lists \n",
    "\n",
    "liste_1 = [1,2,3.,4,'String']\n",
    "print(liste_1)"
   ]
  },
  {
   "cell_type": "code",
   "execution_count": 10,
   "metadata": {},
   "outputs": [
    {
     "name": "stdout",
     "output_type": "stream",
     "text": [
      "(1, 2, 3.0, 4, 'String')\n"
     ]
    }
   ],
   "source": [
    "# Tuples \n",
    "\n",
    "tupel_1 = (1,2,3.,4,'String')\n",
    "print(tupel_1)"
   ]
  },
  {
   "cell_type": "code",
   "execution_count": 11,
   "metadata": {},
   "outputs": [
    {
     "name": "stdout",
     "output_type": "stream",
     "text": [
      "String\n",
      "3.0\n"
     ]
    }
   ],
   "source": [
    "# Accessing Elements - IMPORTANT: Indexing starts at 0!\n",
    "\n",
    "print(liste_1[4])\n",
    "print(tupel_1[2])"
   ]
  },
  {
   "cell_type": "code",
   "execution_count": 12,
   "metadata": {},
   "outputs": [
    {
     "name": "stdout",
     "output_type": "stream",
     "text": [
      "[3.0, 4, 'String']\n",
      "(2, 3.0)\n"
     ]
    }
   ],
   "source": [
    "# Slicing - you can easily access multiple elements of a list/tuple.\n",
    "\n",
    "# Note: The syntax [i:j] retrieves the elements i, i+1, ..., j-1 (!).\n",
    "# This may feel unusual at first, but it has the advantage of making\n",
    "# the number of elements easily readable as \"j-i\".\n",
    "# Example: [2:5] -> starting from index 2, it retrieves 3 elements.\n",
    "\n",
    "print(liste_1[2:5])  # Output: [30, 40, 50]\n",
    "print(tupel_1[1:3])  # Output: ('b', 'c')\n"
   ]
  },
  {
   "cell_type": "code",
   "execution_count": 13,
   "metadata": {},
   "outputs": [
    {
     "name": "stdout",
     "output_type": "stream",
     "text": [
      "[10, 2, 3, 4]\n",
      "[10, 2, 22, 33]\n",
      "Something went wrong! Error Message: 'tuple' object does not support item assignment\n"
     ]
    }
   ],
   "source": [
    "# List: mutable, Tuple: immutable\n",
    "\n",
    "neue_Liste = [1, 2, 3, 4]\n",
    "neues_Tupel = (1, 2, 3, 4)\n",
    "\n",
    "# Lists can be modified\n",
    "neue_Liste[0] = 10\n",
    "print(neue_Liste)       # Output: [10, 2, 3, 4]\n",
    "neue_Liste[2:4] = [22, 33]\n",
    "print(neue_Liste)       # Output: [10, 2, 22, 33]\n",
    "\n",
    "# Trying to modify a tuple will raise an error\n",
    "try:\n",
    "    neues_Tupel[0] = 10\n",
    "except Exception as e:\n",
    "    print(\"Something went wrong! Error Message:\", e)\n"
   ]
  },
  {
   "cell_type": "code",
   "execution_count": 14,
   "metadata": {},
   "outputs": [
    {
     "name": "stdout",
     "output_type": "stream",
     "text": [
      "[1, 2, 3.0, 4, 'String', 3.5]\n",
      "[1, 2, 3.0, 4, 3.5]\n",
      "[1, 2, 3.0, 3.5, 4]\n",
      "[1, 2, 3.0, 3.5, 4, 77, 88, 99]\n"
     ]
    }
   ],
   "source": [
    "# There are many additional ways to manipulate lists\n",
    "\n",
    "# Example: Append an element to a list\n",
    "liste_1.append(3.5) \n",
    "print(liste_1)\n",
    "\n",
    "# Example: Remove an element from a list\n",
    "liste_1.remove('String')\n",
    "print(liste_1)\n",
    "\n",
    "# Example: Sort a list\n",
    "liste_1.sort()\n",
    "print(liste_1)\n",
    "\n",
    "# Example: Concatenate lists\n",
    "print(liste_1 + [77, 88, 99])\n",
    "\n",
    "# For more methods and examples: https://docs.python.org/3/tutorial/datastructures.html#more-on-lists\n"
   ]
  },
  {
   "cell_type": "code",
   "execution_count": 15,
   "metadata": {},
   "outputs": [
    {
     "name": "stdout",
     "output_type": "stream",
     "text": [
      "22\n"
     ]
    }
   ],
   "source": [
    "# Dictionaries - Lists and tuples are ordered data structures (entries can be sorted by index).\n",
    "# Dictionaries are unordered; entries have no \"natural\" order but are instead associated with specific tags or keys.\n",
    "\n",
    "Studenten = {\n",
    "    \"Anne\": 25,\n",
    "    \"Daniel\": 29,\n",
    "    \"Jürgen\": 22\n",
    "}\n",
    "\n",
    "print(Studenten[\"Jürgen\"])  # Output: 22\n",
    "\n",
    "# For an overview of dictionary syntax and methods: https://www.programiz.com/python-programming/dictionary\n"
   ]
  },
  {
   "cell_type": "markdown",
   "metadata": {
    "jp-MarkdownHeadingCollapsed": true
   },
   "source": [
    "## Loops"
   ]
  },
  {
   "cell_type": "code",
   "execution_count": 16,
   "metadata": {},
   "outputs": [
    {
     "name": "stdout",
     "output_type": "stream",
     "text": [
      "0\n",
      "1\n",
      "2\n",
      "3\n",
      "4\n",
      "5\n",
      "6\n",
      "7\n",
      "8\n",
      "9\n"
     ]
    }
   ],
   "source": [
    "# for-loop\n",
    "# In Python, there are no braces as in C++, and no 'end' as in Matlab. Instead, indentation is used:\n",
    "for i in range(10):\n",
    "    print(i)\n",
    "\n",
    "# Note: Indentation is not just for aesthetics here; it is actually syntactically important!\n"
   ]
  },
  {
   "cell_type": "code",
   "execution_count": 17,
   "metadata": {},
   "outputs": [
    {
     "name": "stdout",
     "output_type": "stream",
     "text": [
      "0\n",
      "1\n",
      "2\n",
      "3\n",
      "4\n",
      "5\n",
      "6\n",
      "7\n",
      "8\n",
      "9\n"
     ]
    }
   ],
   "source": [
    "# while-loop\n",
    "\n",
    "i = 0\n",
    "while i < 10:\n",
    "    print(i)\n",
    "    i += 1"
   ]
  },
  {
   "cell_type": "markdown",
   "metadata": {
    "jp-MarkdownHeadingCollapsed": true
   },
   "source": [
    "## Bool Operations"
   ]
  },
  {
   "cell_type": "code",
   "execution_count": 18,
   "metadata": {},
   "outputs": [
    {
     "name": "stdout",
     "output_type": "stream",
     "text": [
      "tic\n",
      "tic\n",
      "toc\n",
      "toc\n"
     ]
    }
   ],
   "source": [
    "# If statement\n",
    "# Python includes standard comparison operators: <, <=, >, >=, !=, ==\n",
    "\n",
    "for i in range(4):\n",
    "    if i < 2:\n",
    "        print('tic')\n",
    "    else:\n",
    "        print('toc')\n"
   ]
  },
  {
   "cell_type": "code",
   "execution_count": 19,
   "metadata": {},
   "outputs": [
    {
     "name": "stdout",
     "output_type": "stream",
     "text": [
      "True\n",
      "False\n",
      "True\n"
     ]
    }
   ],
   "source": [
    "# Combining/Negating conditions using logical operators: and, or, and not\n",
    "\n",
    "print(not 5 < 4)          # Output: True (since 5 < 4 is False, and not False is True)\n",
    "print(5 < 4 and 2 > 1)    # Output: False (since 5 < 4 is False, so the entire expression is False)\n",
    "print(5 < 4 or 2 > 1)     # Output: True (since 2 > 1 is True, making the entire expression True)\n"
   ]
  },
  {
   "cell_type": "markdown",
   "metadata": {
    "jp-MarkdownHeadingCollapsed": true
   },
   "source": [
    "## List Comprehension"
   ]
  },
  {
   "cell_type": "code",
   "execution_count": 20,
   "metadata": {},
   "outputs": [
    {
     "name": "stdout",
     "output_type": "stream",
     "text": [
      "1\n",
      "4\n",
      "9.0\n",
      "12.25\n",
      "16\n",
      "\n",
      "1\n",
      "4\n",
      "9.0\n",
      "12.25\n",
      "16\n"
     ]
    }
   ],
   "source": [
    "# Using for loops, Python allows for elegant iteration over the elements of a list (or other iterable objects)\n",
    "\n",
    "# Classic approach:\n",
    "for i in range(len(liste_1)):\n",
    "    print(liste_1[i] ** 2)\n",
    "\n",
    "print(\"\")\n",
    "# Pythonic approach:\n",
    "for element in liste_1:\n",
    "    print(element ** 2)\n"
   ]
  },
  {
   "cell_type": "code",
   "execution_count": 21,
   "metadata": {},
   "outputs": [
    {
     "name": "stdout",
     "output_type": "stream",
     "text": [
      "[0, 1, 2, 3, 4, 5, 6, 7, 8, 9]\n",
      "[0, 1, 2, 3, 4, 5, 6, 7, 8, 9]\n"
     ]
    }
   ],
   "source": [
    "# There is also a simple/readable syntax for filling/creating lists\n",
    "\n",
    "# Classic:\n",
    "liste_2 = []\n",
    "for i in range(10):\n",
    "    liste_2.append(i)\n",
    "print(liste_2)\n",
    "\n",
    "# Pythonic:\n",
    "liste_3 = [i for i in range(10)]\n",
    "print(liste_3)\n"
   ]
  },
  {
   "cell_type": "code",
   "execution_count": 22,
   "metadata": {},
   "outputs": [
    {
     "name": "stdout",
     "output_type": "stream",
     "text": [
      "[4, 5, 6, 7, 8, 9]\n"
     ]
    }
   ],
   "source": [
    "# This can also be combined with if conditions\n",
    "\n",
    "liste_4 = [element for element in liste_3 if element > 3]\n",
    "print(liste_4)\n"
   ]
  },
  {
   "cell_type": "markdown",
   "metadata": {
    "jp-MarkdownHeadingCollapsed": true
   },
   "source": [
    "## Functions"
   ]
  },
  {
   "cell_type": "code",
   "execution_count": 23,
   "metadata": {},
   "outputs": [],
   "source": [
    "# Function blocks are introduced using the keyword \"def\"\n",
    "\n",
    "def exponentiate(base, exponent):\n",
    "    return base ** exponent\n"
   ]
  },
  {
   "cell_type": "code",
   "execution_count": 24,
   "metadata": {},
   "outputs": [
    {
     "name": "stdout",
     "output_type": "stream",
     "text": [
      "49\n"
     ]
    }
   ],
   "source": [
    "# Function call\n",
    "# \"base\" and \"exponent\" are determined by the position of the input arguments\n",
    "a = exponentiate(7, 2)\n",
    "print(a)\n"
   ]
  },
  {
   "cell_type": "code",
   "execution_count": 25,
   "metadata": {},
   "outputs": [
    {
     "name": "stdout",
     "output_type": "stream",
     "text": [
      "49\n",
      "49\n",
      "49\n"
     ]
    }
   ],
   "source": [
    "# Alternatively, input can also be provided using keywords\n",
    "# This can improve readability for complex functions (with many arguments)\n",
    "\n",
    "a = exponentiate(base=7, exponent=2)\n",
    "print(a)\n",
    "\n",
    "# The order does not matter in this case\n",
    "a = exponentiate(exponent=2, base=7)\n",
    "print(a)\n",
    "\n",
    "# Positional and keyword arguments can also be mixed (with keyword arguments at the end)\n",
    "a = exponentiate(7, exponent=2)\n",
    "print(a)\n"
   ]
  },
  {
   "cell_type": "markdown",
   "metadata": {
    "jp-MarkdownHeadingCollapsed": true
   },
   "source": [
    "## Programming Style"
   ]
  },
  {
   "cell_type": "code",
   "execution_count": 26,
   "metadata": {},
   "outputs": [],
   "source": [
    "# Often, it makes sense to adhere to conventions for variable naming and formatting.\n",
    "# While stylistic changes don't directly affect program functionality, they do improve readability.\n",
    "# A widely adopted standard in Python is PEP 8.\n",
    "# Some examples from this style guide are demonstrated below; many more can be found here: https://peps.python.org/pep-0008/\n",
    "\n",
    "# Generally, add a space between operators:\n",
    "\n",
    "not_pep8 = 2*2+3**4/4\n",
    "pep8 = 2 * 2 + 3 ** 4 / 4\n",
    "\n",
    "# Variables should follow a consistent convention throughout the document, e.g., lowercase separated by \"_\"\n",
    "# The purpose of the variable should be recognizable from the name\n",
    "\n",
    "x = 80000                      # Difficult to understand for someone unfamiliar with the code\n",
    "meaning_of_variable = 80000    # Purpose of the variable is quickly identifiable\n",
    "\n",
    "# In technical mechanics (TM), specific conventions apply.\n",
    "# Since these guidelines are tailored to TM students, they take precedence and do not hinder code readability.\n",
    "# For example, defining the modulus of elasticity as \"E\" in uppercase.\n",
    "# PEP 8 might suggest something like \"youngs_modulus.\"\n",
    "# For code that is read by a wider audience, \"Youngs_Modulus\" might be more understandable.\n"
   ]
  },
  {
   "cell_type": "markdown",
   "metadata": {
    "jp-MarkdownHeadingCollapsed": true
   },
   "source": [
    "# Sympy Basics"
   ]
  },
  {
   "cell_type": "code",
   "execution_count": 27,
   "metadata": {},
   "outputs": [],
   "source": [
    "# In the \"Technical Mechanics II\" lecture, the library \"Sympy\" is used to solve mechanical problems in Python.\n",
    "# Sympy enables extensive symbolic computations, making it highly suitable for use in technical mechanics.\n",
    "# Below, the basic commands and properties of Sympy are explained.\n",
    "# There are also countless resources for Sympy online, especially the official documentation: https://www.sympy.org/en/index.html\n",
    "\n",
    "import sympy as sympy\n"
   ]
  },
  {
   "cell_type": "markdown",
   "metadata": {
    "jp-MarkdownHeadingCollapsed": true
   },
   "source": [
    "## Display  "
   ]
  },
  {
   "cell_type": "code",
   "execution_count": 28,
   "metadata": {},
   "outputs": [
    {
     "name": "stdout",
     "output_type": "stream",
     "text": [
      "1/2\n"
     ]
    },
    {
     "data": {
      "text/latex": [
       "$\\displaystyle \\frac{1}{2}$"
      ],
      "text/plain": [
       "1/2"
      ]
     },
     "metadata": {},
     "output_type": "display_data"
    }
   ],
   "source": [
    "# In combination with Sympy, the command \"display()\" from the IPython library is useful. Similar to \"print()\", it can output various data types.\n",
    "# display() presents mathematical expressions in a much nicer format than \"print()\".\n",
    "\n",
    "from IPython.display import display \n",
    "\n",
    "print(sympy.Integer(1) / 2)  # The Integer() command will be introduced in more detail later; here it is used for demonstration purposes.\n",
    "\n",
    "display(sympy.Integer(1) / 2)\n"
   ]
  },
  {
   "cell_type": "markdown",
   "metadata": {
    "jp-MarkdownHeadingCollapsed": true
   },
   "source": [
    "## Symbols"
   ]
  },
  {
   "cell_type": "code",
   "execution_count": 29,
   "metadata": {},
   "outputs": [
    {
     "data": {
      "text/latex": [
       "$\\displaystyle F_{x}$"
      ],
      "text/plain": [
       "F_x"
      ]
     },
     "metadata": {},
     "output_type": "display_data"
    },
    {
     "data": {
      "text/latex": [
       "$\\displaystyle x$"
      ],
      "text/plain": [
       "x"
      ]
     },
     "metadata": {},
     "output_type": "display_data"
    },
    {
     "data": {
      "text/latex": [
       "$\\displaystyle y_{1}$"
      ],
      "text/plain": [
       "y1"
      ]
     },
     "metadata": {},
     "output_type": "display_data"
    }
   ],
   "source": [
    "\n",
    "# Symbols are essential to use the full functionality of Sympy.\n",
    "# Unlike classic Python variables, symbols have no specific value and can represent general parameters, for example.\n",
    "# Symbols can be used to create expressions where some variables are still unknown.\n",
    "\n",
    "F_x = sympy.Symbol('F_x')\n",
    "x = sympy.Symbol('x')\n",
    "l = sympy.Symbol('l')\n",
    "\n",
    "# Multiple symbols can also be introduced at once\n",
    "\n",
    "y1, y2, y3 = sympy.symbols('y1 y2 y3')\n",
    "\n",
    "display(F_x, x, y1)"
   ]
  },
  {
   "cell_type": "code",
   "execution_count": 30,
   "metadata": {},
   "outputs": [
    {
     "data": {
      "text/latex": [
       "$\\displaystyle F_{x} l$"
      ],
      "text/plain": [
       "F_x*l"
      ]
     },
     "metadata": {},
     "output_type": "display_data"
    },
    {
     "data": {
      "text/latex": [
       "$\\displaystyle 2 x$"
      ],
      "text/plain": [
       "2*x"
      ]
     },
     "metadata": {},
     "output_type": "display_data"
    },
    {
     "data": {
      "text/latex": [
       "$\\displaystyle 2 x$"
      ],
      "text/plain": [
       "2*x"
      ]
     },
     "metadata": {},
     "output_type": "display_data"
    }
   ],
   "source": [
    "# Symbols can be used in mathematical expressions\n",
    "\n",
    "Q = F_x * x \n",
    "\n",
    "# With \"subs()\", symbols can be replaced by numbers or other expressions/symbols.\n",
    "\n",
    "Q_l = Q.subs(x, l)\n",
    "display(Q_l) \n",
    "\n",
    "# \"subs()\" can take a list or a tuple as input\n",
    "\n",
    "list_subs = [(l, 2), (F_x, 2)]\n",
    "tupel_subs = ((l, 2), (F_x, 2))\n",
    "\n",
    "display(Q.subs(list_subs), Q.subs(tupel_subs))\n"
   ]
  },
  {
   "cell_type": "code",
   "execution_count": 31,
   "metadata": {},
   "outputs": [
    {
     "data": {
      "text/latex": [
       "$\\displaystyle x y z + x y$"
      ],
      "text/plain": [
       "x*y*z + x*y"
      ]
     },
     "metadata": {},
     "output_type": "display_data"
    },
    {
     "data": {
      "text/latex": [
       "$\\displaystyle 40 y z + 40 z$"
      ],
      "text/plain": [
       "40*y*z + 40*z"
      ]
     },
     "metadata": {},
     "output_type": "display_data"
    },
    {
     "data": {
      "text/latex": [
       "$\\displaystyle 1800$"
      ],
      "text/plain": [
       "1800"
      ]
     },
     "metadata": {},
     "output_type": "display_data"
    }
   ],
   "source": [
    "# The command subs([(x, 1), (y, 4), (z, 9)]) is executed as subs(x, 1).subs(y, 4).subs(z, 9)\n",
    "# This means x can depend on z and y, and y can depend on z:\n",
    "\n",
    "x, y, z = sympy.symbols('x y z')\n",
    "x_subs = z * y + z\n",
    "y_subs = 2 * z + 5 \n",
    "\n",
    "expression = y * z * x + x * y\n",
    "\n",
    "display(expression)\n",
    "\n",
    "# Incorrect, because y is substituted, but then an additional y appears due to the substitution in x\n",
    "display(expression.subs([(z, 9), (y, 4), (x, x_subs)]))\n",
    "\n",
    "# Correct\n",
    "display(expression.subs([(x, x_subs), (y, 4), (z, 9)]))\n"
   ]
  },
  {
   "cell_type": "markdown",
   "metadata": {
    "jp-MarkdownHeadingCollapsed": true
   },
   "source": [
    "## Algebraic Computations with Sympy\n"
   ]
  },
  {
   "cell_type": "code",
   "execution_count": 32,
   "metadata": {},
   "outputs": [
    {
     "data": {
      "text/latex": [
       "$\\displaystyle \\frac{1}{9}$"
      ],
      "text/plain": [
       "1/9"
      ]
     },
     "metadata": {},
     "output_type": "display_data"
    },
    {
     "data": {
      "text/plain": [
       "0.1111111111111111"
      ]
     },
     "metadata": {},
     "output_type": "display_data"
    }
   ],
   "source": [
    "# Sympy enables algebraic computations:\n",
    "# Numeric: sqrt(2) = 1.1414..., sqrt(2) ** 2 = 2.0000004\n",
    "# Algebraic: sqrt(2) = sqrt(2), sqrt(2) ** 2 = 2\n",
    "\n",
    "# Numeric: 1/3 = 0.3333\n",
    "# Algebraic: 1/3 = 1/3 \n",
    "\n",
    "# To perform these algebraic calculations, the number must be introduced as a \"Sympy number,\" for example, using \"Integer()\"\n",
    "algebraic = sympy.Integer(1) / 9\n",
    "numeric = 1 / 9\n",
    "\n",
    "display(algebraic, numeric)\n"
   ]
  },
  {
   "cell_type": "code",
   "execution_count": 33,
   "metadata": {},
   "outputs": [
    {
     "data": {
      "text/plain": [
       "sympy.core.numbers.Rational"
      ]
     },
     "metadata": {},
     "output_type": "display_data"
    },
    {
     "data": {
      "text/plain": [
       "float"
      ]
     },
     "metadata": {},
     "output_type": "display_data"
    }
   ],
   "source": [
    "# The example above demonstrates that if one number in an expression is a \"Sympy number,\" \n",
    "# then all other numbers in the expression are treated as \"Sympy numbers\" as well.\n",
    "\n",
    "# This can be quickly checked using type():\n",
    "\n",
    "display(type(sympy.Integer(1) / 2 * 3 / 5), type(1 / 2 * 3 / 5))\n"
   ]
  },
  {
   "cell_type": "code",
   "execution_count": 34,
   "metadata": {},
   "outputs": [
    {
     "data": {
      "text/latex": [
       "$\\displaystyle \\frac{7}{8}$"
      ],
      "text/plain": [
       "7/8"
      ]
     },
     "metadata": {},
     "output_type": "display_data"
    },
    {
     "data": {
      "text/latex": [
       "$\\displaystyle \\frac{7}{8}$"
      ],
      "text/plain": [
       "7/8"
      ]
     },
     "metadata": {},
     "output_type": "display_data"
    }
   ],
   "source": [
    "# A fraction can also be represented using \"Rational()\"\n",
    "\n",
    "\n",
    "display(sympy.Rational(7 / 8), sympy.Integer(7) / 8)"
   ]
  },
  {
   "cell_type": "code",
   "execution_count": 35,
   "metadata": {},
   "outputs": [
    {
     "data": {
      "text/latex": [
       "$\\displaystyle \\frac{2}{x}$"
      ],
      "text/plain": [
       "2/x"
      ]
     },
     "metadata": {},
     "output_type": "display_data"
    },
    {
     "data": {
      "text/latex": [
       "$\\displaystyle - \\frac{2}{x^{2}}$"
      ],
      "text/plain": [
       "-2/x**2"
      ]
     },
     "metadata": {},
     "output_type": "display_data"
    },
    {
     "data": {
      "text/latex": [
       "$\\displaystyle 2 \\log{\\left(x \\right)}$"
      ],
      "text/plain": [
       "2*log(x)"
      ]
     },
     "metadata": {},
     "output_type": "display_data"
    },
    {
     "data": {
      "text/latex": [
       "$\\displaystyle - 2 \\log{\\left(5 \\right)} + 2 \\log{\\left(6 \\right)}$"
      ],
      "text/plain": [
       "-2*log(5) + 2*log(6)"
      ]
     },
     "metadata": {},
     "output_type": "display_data"
    }
   ],
   "source": [
    "# Below are some mathematical commands and their functionality\n",
    "x = sympy.Symbol('x') \n",
    "\n",
    "# sqrt\n",
    "expression_1 = sympy.sqrt(2 / x) ** 2\n",
    "\n",
    "# diff() - differentiation\n",
    "differential = sympy.diff(expression_1, x)\n",
    "\n",
    "# integrate() - indefinite integration\n",
    "integration = sympy.integrate(expression_1, x)\n",
    "\n",
    "# Definite integral with limits 5 and 6\n",
    "integration_definite = sympy.integrate(expression_1, (x, 5, 6))\n",
    "\n",
    "display(expression_1, differential, integration, integration_definite)\n"
   ]
  },
  {
   "cell_type": "code",
   "execution_count": 36,
   "metadata": {},
   "outputs": [
    {
     "data": {
      "text/latex": [
       "$\\displaystyle \\sin{\\left(2 \\right)}$"
      ],
      "text/plain": [
       "sin(2)"
      ]
     },
     "metadata": {},
     "output_type": "display_data"
    },
    {
     "data": {
      "text/latex": [
       "$\\displaystyle e^{2}$"
      ],
      "text/plain": [
       "exp(2)"
      ]
     },
     "metadata": {},
     "output_type": "display_data"
    }
   ],
   "source": [
    "# Many other well-known mathematical functions can be used algebraically in Sympy\n",
    "\n",
    "sin_2 = sympy.sin(2) \n",
    "exp_2 = sympy.exp(2)\n",
    "\n",
    "display(sin_2, exp_2)\n"
   ]
  },
  {
   "cell_type": "code",
   "execution_count": 37,
   "metadata": {},
   "outputs": [
    {
     "data": {
      "text/latex": [
       "$\\displaystyle 0.909297426825682$"
      ],
      "text/plain": [
       "0.909297426825682"
      ]
     },
     "execution_count": 37,
     "metadata": {},
     "output_type": "execute_result"
    }
   ],
   "source": [
    "# The \"evalf()\" method can be used to evaluate an algebraic expression numerically\n",
    "\n",
    "sin_2.evalf()\n"
   ]
  },
  {
   "cell_type": "markdown",
   "metadata": {
    "jp-MarkdownHeadingCollapsed": true
   },
   "source": [
    "## Matrices (and Vectors) in Sympy\n"
   ]
  },
  {
   "cell_type": "code",
   "execution_count": 38,
   "metadata": {},
   "outputs": [
    {
     "data": {
      "text/latex": [
       "$\\displaystyle \\left[\\begin{matrix}1 & 1 & 1\\\\2 & 2 & 2\\\\3 & 3 & 3\\end{matrix}\\right]$"
      ],
      "text/plain": [
       "Matrix([\n",
       "[1, 1, 1],\n",
       "[2, 2, 2],\n",
       "[3, 3, 3]])"
      ]
     },
     "metadata": {},
     "output_type": "display_data"
    },
    {
     "data": {
      "text/latex": [
       "$\\displaystyle \\left[\\begin{matrix}1\\\\2\\\\3\\end{matrix}\\right]$"
      ],
      "text/plain": [
       "Matrix([\n",
       "[1],\n",
       "[2],\n",
       "[3]])"
      ]
     },
     "metadata": {},
     "output_type": "display_data"
    }
   ],
   "source": [
    "# Matrices \n",
    "\n",
    "matrix = sympy.Matrix([[1, 1, 1],\n",
    "                       [2, 2, 2],\n",
    "                       [3, 3, 3]])\n",
    "\n",
    "# A vector is equivalent to a matrix with dimensions nx1 (or 1xn)\n",
    "\n",
    "vector = sympy.Matrix([1, 2, 3])\n",
    "\n",
    "display(matrix, vector)\n"
   ]
  },
  {
   "cell_type": "markdown",
   "metadata": {
    "jp-MarkdownHeadingCollapsed": true
   },
   "source": [
    "## Simplifying expressions"
   ]
  },
  {
   "cell_type": "code",
   "execution_count": 39,
   "metadata": {},
   "outputs": [
    {
     "data": {
      "text/latex": [
       "$\\displaystyle \\left(x - 1\\right)^{2}$"
      ],
      "text/plain": [
       "(x - 1)**2"
      ]
     },
     "metadata": {},
     "output_type": "display_data"
    },
    {
     "data": {
      "text/latex": [
       "$\\displaystyle x^{3} + 15 x^{2} + 75 x + 125$"
      ],
      "text/plain": [
       "x**3 + 15*x**2 + 75*x + 125"
      ]
     },
     "metadata": {},
     "output_type": "display_data"
    },
    {
     "data": {
      "text/latex": [
       "$\\displaystyle 1$"
      ],
      "text/plain": [
       "1"
      ]
     },
     "metadata": {},
     "output_type": "display_data"
    }
   ],
   "source": [
    "# Mathematical expressions can be transformed in various ways in Sympy\n",
    "x = sympy.Symbol('x')\n",
    "\n",
    "# \"factor()\" can be used to factorize an expression\n",
    "display(sympy.factor(x ** 2 - 2 * x + 1))\n",
    "\n",
    "# In contrast, \"expand()\" multiplies out an expression\n",
    "display(sympy.expand((x + 5) ** 3))\n",
    "\n",
    "# \"simplify()\" generally attempts to further simplify an expression\n",
    "display(sympy.simplify(sympy.cos(x) ** 2 + sympy.sin(x) ** 2))\n"
   ]
  },
  {
   "cell_type": "markdown",
   "metadata": {
    "jp-MarkdownHeadingCollapsed": true
   },
   "source": [
    "## Solving Equations and Differentialequations"
   ]
  },
  {
   "cell_type": "code",
   "execution_count": 40,
   "metadata": {},
   "outputs": [
    {
     "data": {
      "text/latex": [
       "$\\displaystyle x + y + 3 = 0$"
      ],
      "text/plain": [
       "Eq(x + y + 3, 0)"
      ]
     },
     "metadata": {},
     "output_type": "display_data"
    },
    {
     "data": {
      "text/latex": [
       "$\\displaystyle x - y + 1 = 0$"
      ],
      "text/plain": [
       "Eq(x - y + 1, 0)"
      ]
     },
     "metadata": {},
     "output_type": "display_data"
    },
    {
     "data": {
      "text/plain": [
       "{x: -2, y: -1}"
      ]
     },
     "metadata": {},
     "output_type": "display_data"
    },
    {
     "data": {
      "text/latex": [
       "$\\displaystyle -2$"
      ],
      "text/plain": [
       "-2"
      ]
     },
     "metadata": {},
     "output_type": "display_data"
    }
   ],
   "source": [
    "# In Sympy, systems of equations can be solved\n",
    "# First, equations can be defined with \"sympy.Eq(lhs, rhs)\", where the left-hand side and right-hand side are separated by a \",\"\n",
    "x = sympy.Symbol('x')\n",
    "y = sympy.Symbol('y')\n",
    "\n",
    "equation_1 = sympy.Eq(3 + x + y, 0)\n",
    "equation_2 = sympy.Eq(1 - y + x, 0)\n",
    "display(equation_1, equation_2)\n",
    "\n",
    "# The command \"solve([equations], [vars])\" is used to solve the system of equations\n",
    "\n",
    "solutions = sympy.solve([equation_1, equation_2], [x, y])\n",
    "\n",
    "# \"solve()\" returns all solutions. Solutions can be a dictionary, a list, or a tuple.\n",
    "# In this case, the solution is a dictionary, and the solutions can be accessed as follows:\n",
    "\n",
    "solution_x = solutions[x]\n",
    "solution_y = solutions[y]\n",
    "\n",
    "display(solutions, solution_x)\n"
   ]
  },
  {
   "cell_type": "code",
   "execution_count": 41,
   "metadata": {},
   "outputs": [
    {
     "data": {
      "text/latex": [
       "$\\displaystyle \\frac{d}{d x} N{\\left(x \\right)} = x^{2} + 2 x$"
      ],
      "text/plain": [
       "Eq(Derivative(N(x), x), x**2 + 2*x)"
      ]
     },
     "metadata": {},
     "output_type": "display_data"
    },
    {
     "data": {
      "text/latex": [
       "$\\displaystyle N{\\left(x \\right)} = \\frac{x^{3}}{3} + x^{2}$"
      ],
      "text/plain": [
       "Eq(N(x), x**3/3 + x**2)"
      ]
     },
     "metadata": {},
     "output_type": "display_data"
    },
    {
     "data": {
      "text/latex": [
       "$\\displaystyle \\frac{x^{3}}{3} + x^{2}$"
      ],
      "text/plain": [
       "x**3/3 + x**2"
      ]
     },
     "metadata": {},
     "output_type": "display_data"
    }
   ],
   "source": [
    "# To solve a differential equation, the desired function must first be initialized.\n",
    "# An unknown function can be generally defined using \"Function('name')(var)\"\n",
    "\n",
    "N = sympy.Function('N')(x)\n",
    "\n",
    "# Using the familiar commands \"Eq()\" and \"diff()\", a differential equation can be set up\n",
    "\n",
    "differential_equation_N = sympy.Eq(sympy.diff(N), x ** 2 + 2 * x)\n",
    "\n",
    "# The command to solve differential equations is \"dsolve([equations], [functions], ics = initial conditions)\"\n",
    "# The resulting integration constants can either be manually determined and substituted, or solved with \"ics\" (initial conditions).\n",
    "# ics takes a dictionary input in the form {function.subs(var, point): value(point)}\n",
    "\n",
    "N = sympy.dsolve(differential_equation_N, N, ics={N.subs(x, 0): 0})\n",
    "\n",
    "# The solution is an equation; to save the expression on the right side for further use, \".rhs\" can be used\n",
    "\n",
    "N_expression = N.rhs\n",
    "\n",
    "display(differential_equation_N, N, N_expression)\n"
   ]
  },
  {
   "cell_type": "markdown",
   "metadata": {
    "jp-MarkdownHeadingCollapsed": true
   },
   "source": [
    "## Making Plots with sympy"
   ]
  },
  {
   "cell_type": "code",
   "execution_count": 42,
   "metadata": {},
   "outputs": [],
   "source": [
    "# Using sympy.plotting, graphs can be plotted quickly and easily.\n",
    "# Importing sympy.plotting\n",
    "\n",
    "from sympy.plotting import plot\n"
   ]
  },
  {
   "cell_type": "code",
   "execution_count": 43,
   "metadata": {},
   "outputs": [
    {
     "data": {
      "image/png": "[encoded data removed]",
      "text/plain": [
       "<Figure size 640x480 with 1 Axes>"
      ]
     },
     "metadata": {},
     "output_type": "display_data"
    },
    {
     "data": {
      "text/plain": [
       "<sympy.plotting.backends.matplotlibbackend.matplotlib.MatplotlibBackend at 0x10bd03f80>"
      ]
     },
     "execution_count": 43,
     "metadata": {},
     "output_type": "execute_result"
    }
   ],
   "source": [
    "# The \"plot()\" command can be used to graphically display an expression with a variable\n",
    "\n",
    "x = sympy.Symbol('x')\n",
    "function = x ** 2\n",
    "\n",
    "plot(function)\n"
   ]
  },
  {
   "cell_type": "code",
   "execution_count": 44,
   "metadata": {},
   "outputs": [
    {
     "data": {
      "image/png": "[encoded data removed]",
      "text/plain": [
       "<Figure size 640x480 with 1 Axes>"
      ]
     },
     "metadata": {},
     "output_type": "display_data"
    },
    {
     "data": {
      "text/plain": [
       "<sympy.plotting.backends.matplotlibbackend.matplotlib.MatplotlibBackend at 0x10db5d2b0>"
      ]
     },
     "execution_count": 44,
     "metadata": {},
     "output_type": "execute_result"
    }
   ],
   "source": [
    "# Additional parameters can enhance and customize the plot\n",
    "# The second argument of plot (x, -20, 20) specifies the range in which the function should be plotted\n",
    "# The y-axis range can be set with ylim = [0, 2]\n",
    "# Other parameters include \"title\", \"xlabel\", and \"ylabel\" to add a title to the graph and label the axes\n",
    "\n",
    "plot(function, (x, -20, 20), ylim=[0, 100], title='Title of the Graph!', xlabel='x-axis Label', ylabel='y-axis Label')\n"
   ]
  },
  {
   "cell_type": "code",
   "execution_count": 45,
   "metadata": {},
   "outputs": [
    {
     "data": {
      "image/png": "[encoded data removed]",
      "text/plain": [
       "<Figure size 640x480 with 1 Axes>"
      ]
     },
     "metadata": {},
     "output_type": "display_data"
    },
    {
     "data": {
      "text/plain": [
       "<sympy.plotting.backends.matplotlibbackend.matplotlib.MatplotlibBackend at 0x10d9d6180>"
      ]
     },
     "execution_count": 45,
     "metadata": {},
     "output_type": "execute_result"
    }
   ],
   "source": [
    "# In Sympy, piecewise continuous functions can also be defined and plotted\n",
    "# This is done using the command \"Piecewise((function_1, (condition_1)), (function_2, (condition_2))...)\"\n",
    "\n",
    "x = sympy.Symbol('x')\n",
    "piecewise_function = sympy.Piecewise((x, (x < 1)), (x ** 2, (x < 2)), (6 - x, (x < 4))) \n",
    "plot(piecewise_function, (x, 0, 4), title='Title of the Graph!', xlabel='x-axis Label', ylabel='y-axis Label')\n"
   ]
  },
  {
   "cell_type": "markdown",
   "metadata": {
    "jp-MarkdownHeadingCollapsed": true
   },
   "source": [
    "# Commands for sheet 2 "
   ]
  },
  {
   "cell_type": "code",
   "execution_count": 46,
   "metadata": {},
   "outputs": [],
   "source": [
    "# Importing Sympy \n",
    "import sympy as sympy\n",
    "\n",
    "# Importing \"display()\" - Display() can be used to output mathematical expressions nicely\n",
    "from IPython.display import display \n"
   ]
  },
  {
   "cell_type": "code",
   "execution_count": 47,
   "metadata": {},
   "outputs": [
    {
     "data": {
      "text/latex": [
       "$\\displaystyle r$"
      ],
      "text/plain": [
       "r"
      ]
     },
     "metadata": {},
     "output_type": "display_data"
    },
    {
     "data": {
      "text/latex": [
       "$\\displaystyle z$"
      ],
      "text/plain": [
       "z"
      ]
     },
     "metadata": {},
     "output_type": "display_data"
    },
    {
     "data": {
      "text/latex": [
       "$\\displaystyle \\phi$"
      ],
      "text/plain": [
       "phi"
      ]
     },
     "metadata": {},
     "output_type": "display_data"
    }
   ],
   "source": [
    "# To create mathematical expressions with unknowns, these must first be defined as symbols\n",
    "\n",
    "phi = sympy.Symbol('phi')\n",
    "r, z = sympy.symbols('r z')\n",
    "\n",
    "display(r, z, phi)\n"
   ]
  },
  {
   "cell_type": "code",
   "execution_count": 48,
   "metadata": {},
   "outputs": [
    {
     "data": {
      "text/latex": [
       "$\\displaystyle 1$"
      ],
      "text/plain": [
       "1"
      ]
     },
     "execution_count": 48,
     "metadata": {},
     "output_type": "execute_result"
    }
   ],
   "source": [
    "# Sympy provides many mathematical functions that can be easily used:\n",
    "\n",
    "function_cos = sympy.cos(z)\n",
    "\n",
    "# Functions can be evaluated at a specific point using the \"subs()\" (substitution) command\n",
    "\n",
    "function_cos.subs(z, 2 * sympy.pi)\n"
   ]
  },
  {
   "cell_type": "code",
   "execution_count": 49,
   "metadata": {},
   "outputs": [
    {
     "data": {
      "text/latex": [
       "$\\displaystyle \\left[\\begin{matrix}r \\cos{\\left(\\theta \\right)}\\\\r \\sin{\\left(\\theta \\right)}\\\\z\\end{matrix}\\right]$"
      ],
      "text/plain": [
       "Matrix([\n",
       "[r*cos(theta)],\n",
       "[r*sin(theta)],\n",
       "[           z]])"
      ]
     },
     "metadata": {},
     "output_type": "display_data"
    }
   ],
   "source": [
    "# Vectors are defined with sympy.Matrix (A 3x1 matrix is a column vector, and a 1x3 matrix is a row vector)\n",
    "\n",
    "theta = sympy.Symbol('theta')\n",
    "vector = sympy.Matrix([r * sympy.cos(theta), r * sympy.sin(theta), z])\n",
    "display(vector)\n"
   ]
  },
  {
   "cell_type": "code",
   "execution_count": 50,
   "metadata": {},
   "outputs": [
    {
     "data": {
      "text/latex": [
       "$\\displaystyle \\left[\\begin{matrix}4\\\\-1\\\\-2\\end{matrix}\\right]$"
      ],
      "text/plain": [
       "Matrix([\n",
       "[ 4],\n",
       "[-1],\n",
       "[-2]])"
      ]
     },
     "metadata": {},
     "output_type": "display_data"
    },
    {
     "data": {
      "text/latex": [
       "$\\displaystyle 3$"
      ],
      "text/plain": [
       "3"
      ]
     },
     "metadata": {},
     "output_type": "display_data"
    }
   ],
   "source": [
    "# In Sympy, the methods \"cross()\" and \"dot()\" can be used to calculate the cross and dot product\n",
    "\n",
    "vector_1 = sympy.Matrix([1, 2, 1])\n",
    "vector_2 = sympy.Matrix([1, 0, 2])\n",
    "\n",
    "cross_product = vector_1.cross(vector_2)\n",
    "dot_product = vector_1.dot(vector_2)\n",
    "\n",
    "display(cross_product, dot_product)\n"
   ]
  },
  {
   "cell_type": "code",
   "execution_count": 51,
   "metadata": {},
   "outputs": [
    {
     "data": {
      "text/latex": [
       "$\\displaystyle x + y + 3 = 0$"
      ],
      "text/plain": [
       "Eq(x + y + 3, 0)"
      ]
     },
     "metadata": {},
     "output_type": "display_data"
    },
    {
     "data": {
      "text/latex": [
       "$\\displaystyle x - y + 1 = 0$"
      ],
      "text/plain": [
       "Eq(x - y + 1, 0)"
      ]
     },
     "metadata": {},
     "output_type": "display_data"
    },
    {
     "data": {
      "text/plain": [
       "{x: -2, y: -1}"
      ]
     },
     "metadata": {},
     "output_type": "display_data"
    },
    {
     "data": {
      "text/latex": [
       "$\\displaystyle -2$"
      ],
      "text/plain": [
       "-2"
      ]
     },
     "metadata": {},
     "output_type": "display_data"
    }
   ],
   "source": [
    "# In Sympy, systems of equations can be solved\n",
    "# First, equations can be defined with \"sympy.Eq(lhs, rhs)\". The left-hand side and right-hand side are separated by a \",\"\n",
    "\n",
    "x = sympy.Symbol('x')\n",
    "y = sympy.Symbol('y')\n",
    "\n",
    "equation_1 = sympy.Eq(3 + x + y, 0)\n",
    "equation_2 = sympy.Eq(1 - y + x, 0)\n",
    "display(equation_1, equation_2)\n",
    "\n",
    "# The \"solve([equations], [vars])\" command is used to solve the system of equations\n",
    "\n",
    "solutions_1 = sympy.solve([equation_1, equation_2], [x, y])\n",
    "\n",
    "# \"solve()\" provides all solutions. The solution can be a dictionary, list, or tuple.\n",
    "# In this case, the solution is a dictionary, and the solutions can be accessed as follows\n",
    "\n",
    "solution_x = solutions_1[x]\n",
    "solution_y = solutions_1[y]\n",
    "\n",
    "display(solutions_1, solution_x)\n"
   ]
  },
  {
   "cell_type": "code",
   "execution_count": 52,
   "metadata": {},
   "outputs": [
    {
     "data": {
      "text/latex": [
       "$\\displaystyle -1 + \\sqrt{5}$"
      ],
      "text/plain": [
       "-1 + sqrt(5)"
      ]
     },
     "metadata": {},
     "output_type": "display_data"
    },
    {
     "data": {
      "text/latex": [
       "$\\displaystyle - \\sqrt{5} - 1$"
      ],
      "text/plain": [
       "-sqrt(5) - 1"
      ]
     },
     "metadata": {},
     "output_type": "display_data"
    },
    {
     "data": {
      "text/plain": [
       "dict"
      ]
     },
     "metadata": {},
     "output_type": "display_data"
    },
    {
     "data": {
      "text/plain": [
       "list"
      ]
     },
     "metadata": {},
     "output_type": "display_data"
    }
   ],
   "source": [
    "# In this case of a quadratic equation, the solution is a list:\n",
    "\n",
    "x = sympy.Symbol('x')\n",
    "equation_3 = sympy.Eq(x ** 2 + 2 * x - 4, 0)\n",
    "solutions_2 = sympy.solve(equation_3, x)\n",
    "\n",
    "display(solutions_2[0], solutions_2[1])\n",
    "\n",
    "# To identify the type of the solution, \"type()\" can be used\n",
    "\n",
    "display(type(solutions_1), type(solutions_2))\n"
   ]
  },
  {
   "cell_type": "markdown",
   "metadata": {
    "jp-MarkdownHeadingCollapsed": true
   },
   "source": [
    "# Commands for sheet 5\n"
   ]
  },
  {
   "cell_type": "code",
   "execution_count": 53,
   "metadata": {},
   "outputs": [],
   "source": [
    "# Import Sympy\n",
    "import sympy as sympy \n",
    "\n",
    "# Import \"display()\" - Display() can be used to present mathematical expressions in a nice format\n",
    "from IPython.display import display \n"
   ]
  },
  {
   "cell_type": "code",
   "execution_count": 54,
   "metadata": {},
   "outputs": [],
   "source": [
    "# Recap: Defining Symbols\n",
    "\n",
    "phi = sympy.Symbol('phi')\n",
    "x, y = sympy.symbols('x y')\n"
   ]
  },
  {
   "cell_type": "code",
   "execution_count": 55,
   "metadata": {},
   "outputs": [
    {
     "data": {
      "text/latex": [
       "$\\displaystyle 1$"
      ],
      "text/plain": [
       "1"
      ]
     },
     "execution_count": 55,
     "metadata": {},
     "output_type": "execute_result"
    }
   ],
   "source": [
    "# Using Mathematical Functions in Sympy\n",
    "\n",
    "exponential = sympy.exp(x)\n",
    "\n",
    "# Evaluating Functions by Substitution\n",
    "\n",
    "exponential.subs(x, sympy.euler)\n"
   ]
  },
  {
   "cell_type": "code",
   "execution_count": 56,
   "metadata": {},
   "outputs": [
    {
     "data": {
      "text/latex": [
       "$\\displaystyle \\left[\\begin{matrix}x\\\\y\\\\x \\cos{\\left(\\phi \\right)}\\end{matrix}\\right]$"
      ],
      "text/plain": [
       "Matrix([\n",
       "[         x],\n",
       "[         y],\n",
       "[x*cos(phi)]])"
      ]
     },
     "execution_count": 56,
     "metadata": {},
     "output_type": "execute_result"
    }
   ],
   "source": [
    "# Defining Vectors (Reminder: A 3x1 Matrix represents a column vector)\n",
    "\n",
    "vector = sympy.Matrix([x, y, x * sympy.cos(phi)])\n",
    "vector\n"
   ]
  },
  {
   "cell_type": "code",
   "execution_count": 57,
   "metadata": {},
   "outputs": [
    {
     "data": {
      "text/latex": [
       "$\\displaystyle x + y + 3 = 0$"
      ],
      "text/plain": [
       "Eq(x + y + 3, 0)"
      ]
     },
     "metadata": {},
     "output_type": "display_data"
    },
    {
     "data": {
      "text/latex": [
       "$\\displaystyle x - y + 1 = 0$"
      ],
      "text/plain": [
       "Eq(x - y + 1, 0)"
      ]
     },
     "metadata": {},
     "output_type": "display_data"
    },
    {
     "data": {
      "text/plain": [
       "{x: -2, y: -1}"
      ]
     },
     "metadata": {},
     "output_type": "display_data"
    },
    {
     "data": {
      "text/latex": [
       "$\\displaystyle -2$"
      ],
      "text/plain": [
       "-2"
      ]
     },
     "metadata": {},
     "output_type": "display_data"
    }
   ],
   "source": [
    "# Systems of Equations can be solved in Sympy\n",
    "# In the first step, equations can be defined with \"sympy.Eq(lhs, rhs)\". The left-hand side and right-hand side are separated by a \",\"\n",
    "\n",
    "x = sympy.Symbol('x')\n",
    "y = sympy.Symbol('y')\n",
    "\n",
    "equation_1 = sympy.Eq(3 + x + y, 0)\n",
    "equation_2 = sympy.Eq(1 - y + x, 0)\n",
    "display(equation_1, equation_2)\n",
    "\n",
    "# Using the command \"solve([equations], [vars])\" the system of equations is solved\n",
    "# The equations need to be passed as a list, so there are different ways to do this:\n",
    "\n",
    "set_of_equations = [equation_1, equation_2]\n",
    "solutions_1 = sympy.solve(set_of_equations, [x, y])\n",
    "\n",
    "solutions_1 = sympy.solve([equation_1, equation_2], [x, y])\n",
    "\n",
    "# \"solve()\" provides all solutions. The solution can be a dictionary, list, or tuple\n",
    "# In this case, the solution is a dictionary, and the solutions can be accessed as follows\n",
    "\n",
    "solution_x = solutions_1[x]\n",
    "solution_y = solutions_1[y]\n",
    "\n",
    "display(solutions_1, solution_x)\n"
   ]
  },
  {
   "cell_type": "markdown",
   "metadata": {
    "jp-MarkdownHeadingCollapsed": true
   },
   "source": [
    "# Commands for sheet 6"
   ]
  },
  {
   "cell_type": "code",
   "execution_count": 58,
   "metadata": {},
   "outputs": [],
   "source": [
    "import sympy as sympy\n",
    "from IPython.display import display \n",
    "from sympy.plotting import plot\n",
    "\n",
    "# Using sympy.plotting, graphs can be quickly and easily plotted\n",
    "# Importing sympy.plotting\n"
   ]
  },
  {
   "cell_type": "code",
   "execution_count": 59,
   "metadata": {},
   "outputs": [
    {
     "data": {
      "image/png": "[encoded data removed]",
      "text/plain": [
       "<Figure size 640x480 with 1 Axes>"
      ]
     },
     "metadata": {},
     "output_type": "display_data"
    },
    {
     "data": {
      "text/plain": [
       "<sympy.plotting.backends.matplotlibbackend.matplotlib.MatplotlibBackend at 0x10d953aa0>"
      ]
     },
     "execution_count": 59,
     "metadata": {},
     "output_type": "execute_result"
    }
   ],
   "source": [
    "# The \"plot()\" command is a simple but effective way to create a graph\n",
    "# The first argument is the function to be plotted. Then, (x, 0, 2) defines the display range of the x-axis\n",
    "# The range of the y-axis can be set with ylim = [0, 2]\n",
    "# Additional arguments like \"title\", \"xlabel\", and \"ylabel\" allow adding a title and axis labels\n",
    "\n",
    "x = sympy.Symbol('x')\n",
    "function = sympy.sqrt(x)\n",
    "plot(function, (x, 0, 5), ylim=[0, 2], title='Graph Title', xlabel='x-axis Label', ylabel='y-axis Label')\n"
   ]
  },
  {
   "cell_type": "code",
   "execution_count": 60,
   "metadata": {},
   "outputs": [
    {
     "data": {
      "image/png": "[encoded data removed]",
      "text/plain": [
       "<Figure size 640x480 with 1 Axes>"
      ]
     },
     "metadata": {},
     "output_type": "display_data"
    },
    {
     "data": {
      "text/plain": [
       "<sympy.plotting.backends.matplotlibbackend.matplotlib.MatplotlibBackend at 0x10e0e9c40>"
      ]
     },
     "execution_count": 60,
     "metadata": {},
     "output_type": "execute_result"
    }
   ],
   "source": [
    "# In Sympy, piecewise continuous functions can also be defined and plotted\n",
    "# The command \"Piecewise((function_1, (condition_1)), (function_2, (condition_2))...)\" is used for this\n",
    "\n",
    "x = sympy.Symbol('x')\n",
    "piecewise_function = sympy.Piecewise((x, (x < 1)), (x ** 2, (x < 2)), (6 - x, (x < 4)))\n",
    "plot(piecewise_function, (x, 0, 4), title='Graph Title', xlabel='x-axis Label', ylabel='y-axis Label')\n"
   ]
  },
  {
   "cell_type": "code",
   "execution_count": 61,
   "metadata": {},
   "outputs": [
    {
     "data": {
      "text/latex": [
       "$\\displaystyle 2 x$"
      ],
      "text/plain": [
       "2*x"
      ]
     },
     "metadata": {},
     "output_type": "display_data"
    },
    {
     "data": {
      "text/latex": [
       "$\\displaystyle \\frac{8}{3}$"
      ],
      "text/plain": [
       "8/3"
      ]
     },
     "metadata": {},
     "output_type": "display_data"
    }
   ],
   "source": [
    "# With \"diff(expr, variable)\" and \"integrate(expr, (var, limit, limit))\" derivatives and integrals can be computed\n",
    "\n",
    "function = x ** 2\n",
    "\n",
    "display(sympy.diff(function, x), sympy.integrate(function, (x, 0, 2)))\n"
   ]
  },
  {
   "cell_type": "code",
   "execution_count": 62,
   "metadata": {},
   "outputs": [
    {
     "data": {
      "text/latex": [
       "$\\displaystyle N{\\left(x \\right)} = C_{1} + \\frac{x^{3}}{3} + x^{2}$"
      ],
      "text/plain": [
       "Eq(N(x), C1 + x**3/3 + x**2)"
      ]
     },
     "metadata": {},
     "output_type": "display_data"
    },
    {
     "data": {
      "text/latex": [
       "$\\displaystyle N{\\left(x \\right)} = \\frac{x^{3}}{3} + x^{2} - \\frac{4}{3}$"
      ],
      "text/plain": [
       "Eq(N(x), x**3/3 + x**2 - 4/3)"
      ]
     },
     "execution_count": 62,
     "metadata": {},
     "output_type": "execute_result"
    }
   ],
   "source": [
    "# To solve a differential equation, the desired function must first be initialized\n",
    "# Using \"Function('name')(var)\", an unknown function can be generally defined\n",
    "\n",
    "N = sympy.Function('N')(x)\n",
    "\n",
    "# Using the familiar commands \"Eq()\" and \"diff()\", a differential equation can be constructed\n",
    "\n",
    "differential_equation_N = sympy.Eq(sympy.diff(N), x ** 2 + 2 * x)\n",
    "\n",
    "# Differential equations can be solved in Sympy with or without initial conditions\n",
    "# In the Sympy introduction, there is an example where a DE is solved with initial conditions\n",
    "# In Exercise Sheet 6, the differential equation should first be solved without initial conditions, and the constants should be calculated manually\n",
    "\n",
    "solution = sympy.dsolve(differential_equation_N, N)\n",
    "display(solution)\n",
    "\n",
    "# Defining the integration constant as a symbol and setting up the boundary condition N(1) = 0\n",
    "\n",
    "C1 = sympy.Symbol('C1')\n",
    "boundary_condition = sympy.Eq(solution.rhs.subs(x, 1), 0)\n",
    "\n",
    "# Solving for C1 by applying the boundary condition\n",
    "\n",
    "C1_solution = sympy.solve(boundary_condition, C1)[0]\n",
    "\n",
    "# Substituting the integration constant to obtain the solution of the DE with the initial condition\n",
    "\n",
    "solution_value = solution.subs(C1, C1_solution)\n",
    "solution_value\n"
   ]
  },
  {
   "cell_type": "markdown",
   "metadata": {
    "jp-MarkdownHeadingCollapsed": true
   },
   "source": [
    "# Commands for sheet 8"
   ]
  },
  {
   "cell_type": "code",
   "execution_count": 63,
   "metadata": {},
   "outputs": [
    {
     "data": {
      "text/latex": [
       "$\\displaystyle \\frac{x^{2} y}{2} + x z$"
      ],
      "text/plain": [
       "x**2*y/2 + x*z"
      ]
     },
     "metadata": {},
     "output_type": "display_data"
    },
    {
     "data": {
      "text/latex": [
       "$\\displaystyle 2 y + 2 z$"
      ],
      "text/plain": [
       "2*y + 2*z"
      ]
     },
     "metadata": {},
     "output_type": "display_data"
    }
   ],
   "source": [
    "import sympy as sympy\n",
    "\n",
    "# In Exercise Sheet 8, triple integrals are required\n",
    "# First, a review of single integrals\n",
    "\n",
    "x, y, z = sympy.symbols('x y z')\n",
    "function = x * y + z\n",
    "\n",
    "# Indefinite Integral\n",
    "\n",
    "indefinite_integral = sympy.integrate(function, x)\n",
    "\n",
    "# Definite Integral\n",
    "\n",
    "definite_integral = sympy.integrate(function, (x, 0, 2))\n",
    "\n",
    "display(indefinite_integral, definite_integral)\n"
   ]
  },
  {
   "cell_type": "code",
   "execution_count": 64,
   "metadata": {},
   "outputs": [
    {
     "data": {
      "text/latex": [
       "$\\displaystyle \\frac{x^{2} y^{2} z}{4} + \\frac{x y z^{2}}{2}$"
      ],
      "text/plain": [
       "x**2*y**2*z/4 + x*y*z**2/2"
      ]
     },
     "metadata": {},
     "output_type": "display_data"
    },
    {
     "data": {
      "text/latex": [
       "$\\displaystyle 8$"
      ],
      "text/plain": [
       "8"
      ]
     },
     "metadata": {},
     "output_type": "display_data"
    }
   ],
   "source": [
    "# A multiple integral can be calculated in a similar way\n",
    "\n",
    "# Indefinite triple integral\n",
    "\n",
    "indefinite_triple_integral = sympy.integrate(function, x, y, z)  \n",
    "\n",
    "# Definite triple integral\n",
    "\n",
    "definite_triple_integral = sympy.integrate(function, (x, 0, 2), (y, -1, 1), (z, 0, 2))\n",
    "\n",
    "display(indefinite_triple_integral, definite_triple_integral)\n"
   ]
  },
  {
   "cell_type": "code",
   "execution_count": 65,
   "metadata": {},
   "outputs": [
    {
     "data": {
      "text/latex": [
       "$\\displaystyle x y + z$"
      ],
      "text/plain": [
       "x*y + z"
      ]
     },
     "metadata": {},
     "output_type": "display_data"
    },
    {
     "data": {
      "text/latex": [
       "$\\displaystyle z + 12$"
      ],
      "text/plain": [
       "z + 12"
      ]
     },
     "execution_count": 65,
     "metadata": {},
     "output_type": "execute_result"
    }
   ],
   "source": [
    "# To replace variables in a function with specific values, the \"subs()\" command is used\n",
    "\n",
    "display(function)\n",
    "function.subs([(x, 4), (y, 3)])\n"
   ]
  },
  {
   "cell_type": "markdown",
   "metadata": {
    "jp-MarkdownHeadingCollapsed": true
   },
   "source": [
    "# Commands for sheet 9"
   ]
  },
  {
   "cell_type": "code",
   "execution_count": 66,
   "metadata": {},
   "outputs": [
    {
     "data": {
      "text/latex": [
       "$\\displaystyle \\frac{x^{2} y}{2} + x z$"
      ],
      "text/plain": [
       "x**2*y/2 + x*z"
      ]
     },
     "metadata": {},
     "output_type": "display_data"
    },
    {
     "data": {
      "text/latex": [
       "$\\displaystyle 2 y + 2 z$"
      ],
      "text/plain": [
       "2*y + 2*z"
      ]
     },
     "metadata": {},
     "output_type": "display_data"
    }
   ],
   "source": [
    "import sympy as sympy\n",
    "\n",
    "# In Exercise Sheet 8, triple integrals are required\n",
    "# First, a review of single integrals\n",
    "\n",
    "x, y, z = sympy.symbols('x y z')\n",
    "function = x * y + z\n",
    "\n",
    "# Indefinite Integral\n",
    "\n",
    "indefinite_integral = sympy.integrate(function, x)\n",
    "\n",
    "# Definite Integral\n",
    "\n",
    "definite_integral = sympy.integrate(function, (x, 0, 2))\n",
    "\n",
    "display(indefinite_integral, definite_integral)\n"
   ]
  },
  {
   "cell_type": "code",
   "execution_count": 67,
   "metadata": {},
   "outputs": [
    {
     "data": {
      "text/latex": [
       "$\\displaystyle \\frac{x^{2} y^{2} z}{4} + \\frac{x y z^{2}}{2}$"
      ],
      "text/plain": [
       "x**2*y**2*z/4 + x*y*z**2/2"
      ]
     },
     "metadata": {},
     "output_type": "display_data"
    },
    {
     "data": {
      "text/latex": [
       "$\\displaystyle 8$"
      ],
      "text/plain": [
       "8"
      ]
     },
     "metadata": {},
     "output_type": "display_data"
    }
   ],
   "source": [
    "# A multiple integral can be calculated in a similar way\n",
    "\n",
    "# Indefinite triple integral\n",
    "\n",
    "indefinite_triple_integral = sympy.integrate(function, x, y, z)  \n",
    "\n",
    "# Definite triple integral\n",
    "\n",
    "definite_triple_integral = sympy.integrate(function, (x, 0, 2), (y, -1, 1), (z, 0, 2))\n",
    "\n",
    "display(indefinite_triple_integral, definite_triple_integral)\n"
   ]
  },
  {
   "cell_type": "code",
   "execution_count": 68,
   "metadata": {},
   "outputs": [
    {
     "data": {
      "text/latex": [
       "$\\displaystyle x y + z$"
      ],
      "text/plain": [
       "x*y + z"
      ]
     },
     "metadata": {},
     "output_type": "display_data"
    },
    {
     "data": {
      "text/latex": [
       "$\\displaystyle z + 12$"
      ],
      "text/plain": [
       "z + 12"
      ]
     },
     "execution_count": 68,
     "metadata": {},
     "output_type": "execute_result"
    }
   ],
   "source": [
    "# To replace variables in a function with specific values, the \"subs()\" command is used\n",
    "\n",
    "display(function)\n",
    "function.subs([(x, 4), (y, 3)])\n"
   ]
  },
  {
   "cell_type": "markdown",
   "metadata": {
    "jp-MarkdownHeadingCollapsed": true
   },
   "source": [
    "# Commands for sheet 11"
   ]
  },
  {
   "cell_type": "code",
   "execution_count": 69,
   "metadata": {},
   "outputs": [
    {
     "data": {
      "text/latex": [
       "$\\displaystyle \\left(x - 1\\right)^{2}$"
      ],
      "text/plain": [
       "(x - 1)**2"
      ]
     },
     "metadata": {},
     "output_type": "display_data"
    }
   ],
   "source": [
    "# Simplifying results can often make them more readable\n",
    "# The \"factor()\" function can be used to factorize an expression:\n",
    "\n",
    "import sympy as sympy\n",
    "x = sympy.Symbol('x')\n",
    "\n",
    "display(sympy.factor(x ** 2 - 2 * x + 1))\n"
   ]
  },
  {
   "cell_type": "code",
   "execution_count": 70,
   "metadata": {},
   "outputs": [
    {
     "data": {
      "text/latex": [
       "$\\displaystyle \\frac{d}{d x} N{\\left(x \\right)} = x^{2} + 2 x$"
      ],
      "text/plain": [
       "Eq(Derivative(N(x), x), x**2 + 2*x)"
      ]
     },
     "metadata": {},
     "output_type": "display_data"
    },
    {
     "data": {
      "text/latex": [
       "$\\displaystyle N{\\left(x \\right)} = \\frac{x^{3}}{3} + x^{2}$"
      ],
      "text/plain": [
       "Eq(N(x), x**3/3 + x**2)"
      ]
     },
     "metadata": {},
     "output_type": "display_data"
    },
    {
     "data": {
      "text/latex": [
       "$\\displaystyle \\frac{x^{3}}{3} + x^{2}$"
      ],
      "text/plain": [
       "x**3/3 + x**2"
      ]
     },
     "metadata": {},
     "output_type": "display_data"
    }
   ],
   "source": [
    "# In Sympy, differential equations can be solved in a single step using boundary conditions\n",
    "# To solve a differential equation, the desired function must first be initialized\n",
    "# Using \"Function('name')(var)\", an unknown function can be generally defined\n",
    "\n",
    "N = sympy.Function('N')(x)\n",
    "\n",
    "# Using the familiar commands \"Eq()\" and \"diff()\", a differential equation can be set up\n",
    "\n",
    "differential_equation_N = sympy.Eq(sympy.diff(N), x ** 2 + 2 * x)\n",
    "\n",
    "# The command for solving differential equations is \"dsolve([equations], [functions], ics = initial conditions)\"\n",
    "# The resulting integration constants can be determined manually and substituted, or solved using \"ics\" for initial conditions\n",
    "# \"ics\" takes as input a dictionary in the form {function.subs(var, point): value(point)}\n",
    "\n",
    "N = sympy.dsolve(differential_equation_N, N, ics={N.subs(x, 0): 0})\n",
    "\n",
    "# The solution is an equation; to save the expression on the right-hand side for further use, \".rhs\" can be used\n",
    "\n",
    "N_expression = N.rhs\n",
    "\n",
    "display(differential_equation_N, N, N_expression)\n"
   ]
  },
  {
   "cell_type": "code",
   "execution_count": 71,
   "metadata": {},
   "outputs": [
    {
     "data": {
      "text/latex": [
       "$\\displaystyle u_{2}{\\left(x \\right)} = \\frac{x^{3}}{3} - \\frac{2}{3}$"
      ],
      "text/plain": [
       "Eq(u_2(x), x**3/3 - 2/3)"
      ]
     },
     "metadata": {},
     "output_type": "display_data"
    }
   ],
   "source": [
    "# Note: Transition conditions can be used in Sympy just like initial conditions\n",
    "\n",
    "x = sympy.Symbol('x')\n",
    "u_1 = sympy.Function('u_1')(x)\n",
    "u_2 = sympy.Function('u_2')(x)\n",
    "\n",
    "initial_condition = {u_1.subs(x, 0): 0}\n",
    "differential_equation_1 = sympy.Eq(x, sympy.diff(u_1))\n",
    "\n",
    "u_1_solution = sympy.dsolve(differential_equation_1, u_1, ics=initial_condition)\n",
    "\n",
    "# To formulate the transition condition, the solution of the first differential equation must be used\n",
    "# \"rhs\" is used to access the right-hand side of the solution\n",
    "\n",
    "transition_condition = {u_2.subs(x, 2): u_1_solution.rhs.subs(x, 2)}\n",
    "differential_equation_2 = sympy.Eq(x ** 2, sympy.diff(u_2))\n",
    "\n",
    "u_2_solution = sympy.dsolve(differential_equation_2, u_2, ics=transition_condition)\n",
    "\n",
    "display(u_2_solution)\n"
   ]
  },
  {
   "cell_type": "markdown",
   "metadata": {
    "jp-MarkdownHeadingCollapsed": true
   },
   "source": [
    "# Commands for sheet 12"
   ]
  },
  {
   "cell_type": "code",
   "execution_count": 72,
   "metadata": {},
   "outputs": [
    {
     "data": {
      "image/png": "[encoded data removed]",
      "text/plain": [
       "<Figure size 640x480 with 1 Axes>"
      ]
     },
     "metadata": {},
     "output_type": "display_data"
    },
    {
     "data": {
      "text/plain": [
       "<sympy.plotting.backends.matplotlibbackend.matplotlib.MatplotlibBackend at 0x10bd01c40>"
      ]
     },
     "execution_count": 72,
     "metadata": {},
     "output_type": "execute_result"
    }
   ],
   "source": [
    "# In Exercise Sheet 12, piecewise continuous functions must be used and graphically represented\n",
    "# For this, Sympy provides the \"Piecewise()\" command\n",
    "# First, the \"plot()\" command needs to be imported\n",
    "\n",
    "import sympy as sympy\n",
    "from sympy.plotting import plot\n",
    "\n",
    "x = sympy.Symbol('x')\n",
    "piecewise_function = sympy.Piecewise((x, (x < 1)), (x ** 2, (x < 2)), (6 - x, (x < 4)))\n",
    "plot(piecewise_function, (x, 0, 4), title='Graph Title', xlabel='x-axis Label', ylabel='y-axis Label')\n"
   ]
  }
 ],
 "metadata": {
  "kernelspec": {
   "display_name": "Python 3",
   "language": "python",
   "name": "python3"
  },
  "language_info": {
   "codemirror_mode": {
    "name": "ipython",
    "version": 3
   },
   "file_extension": ".py",
   "mimetype": "text/x-python",
   "name": "python",
   "nbconvert_exporter": "python",
   "pygments_lexer": "ipython3",
   "version": "3.12.1"
  }
 },
 "nbformat": 4,
 "nbformat_minor": 4
}
