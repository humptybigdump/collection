{
 "cells": [
  {
   "cell_type": "markdown",
   "metadata": {},
   "source": [
    "# Exercise 9: Multivariate Classification\n",
    "\n",
    "This exercise is dedicated to studies of a multivariate data-set, the famous 'Iris flower data-set' used in the year 1936 by \n",
    "Sir Ronald Fisher as an example of discriminant analysis. The data-set describes the morphological variation of Iris flowers and contains 50 samples from each of the three species Iris-setosa, Iris-virginica and Iris-versicolor.\n",
    "\n",
    "The file `iris.data` (available in the exercise repository and cloned into this directory) contains the data. The columns contain four morphological features of the three species: the sepal length and width and the petal length and width (all in $\\mathrm{cm}$), and the species as classified by a botanist (Iris-setosa = 0, Iris-versicolor= 1, Iris-virginica = 2). Fortunately, the biological details are not of too much importance for the studies proposed here, and you may safely name the variables $v_1, \\ldots, v_4$ and call the classes '1', '2' and '3'.\n",
    "In this exercise you will develop classifiers based on this data-set as a training sample to identify different iris species, for people who are not particularly gifted botanists.\n",
    "\n",
    "To guide your own implementation of studies of the data-set, a code basis is provided in this jupyter notebook. Inspect it and use it as a starting point for your own work. "
   ]
  },
  {
   "cell_type": "code",
   "execution_count": 1,
   "metadata": {},
   "outputs": [],
   "source": [
    "\"\"\"\n",
    ".. module:: ex9_template\n",
    "    :synopsis example for discriminant analysis\n",
    "\n",
    ".. moduleauthor Thomas Keck\n",
    "\"\"\"\n",
    "# ------------------------------------------------------------------------\n",
    "# useful imports\n",
    "\n",
    "import bisect\n",
    "import numpy as np\n",
    "\n",
    "import matplotlib\n",
    "# matplotlib.rcParams['backend'] = 'TkAgg'\n",
    "\n",
    "from matplotlib import pyplot as plt\n",
    "\n",
    "# ------- load the Data set --------------------------------------------\n",
    "# Load iris data\n",
    "data = np.loadtxt('iris.data')\n",
    "\n",
    "# Define dictionary with columns names: s=sepal, p=petal, l=lenght, w=width,\n",
    "columns = {0: 'L(Kelch)', 1: 'W(Kelch)',\n",
    "           2: 'L(Blatt)', 3: 'W(Blatt)', 4: 'class'}\n",
    "\n",
    "# Define boolean arrays corresponding to the three\n",
    "#      classes setosa, versicolor and virginica\n",
    "setosa = data[:, 4] == 0\n",
    "versicolor = data[:, 4] == 1\n",
    "virginica = data[:, 4] == 2\n",
    "\n",
    "# Signal is versicolor (can be changed to setosa or virginica)\n",
    "signal = versicolor\n",
    "bckgrd = ~signal\n",
    "# !! note: see indexing of arrays with boolean array in python documentation\n",
    "#\n",
    "# exmaples how to access the data:\n",
    "#    data[signal]     # All events classified as signal\n",
    "#    data[background] # All events classified as background\n",
    "#    data[setosa]     # All events classified as setosa\n",
    "#    data[versicolor | virginica] # All events classified as versicolor or virginica\n",
    "#    data[:, :2]      # The first two columns (sepal length and sepal width) of all events\n",
    "#    data[signal, :2] # The first two columns of the signal events\n",
    "#    data[background, 2:4] # The 3. and 4. column (petal length and petal width) of the background events\n",
    "#    data[:, 4]       # The label column of all events\n",
    "#             (see the numpy documentation for further examples)"
   ]
  },
  {
   "cell_type": "markdown",
   "metadata": {},
   "source": [
    "### Exercise 9.1: (voluntary)\n",
    "\n",
    "In multivariate analyses, it is most important to gain an overview and some initial level of understanding before deciding\n",
    "on strategies for optimal classification. One-dimensional distributions (=histograms) and pair-wise scatter plots of the \n",
    "available features (=variables) are the best way to visualise the available raw information. Plot the distributions for all features, ideally arranged as two-dimensional array of histograms (on the diagonal) and scatter plots (off-diagonal). You can use the examples in the template class `Plotter` defined in [Exercise 9.2](#exercise92) to make these plots. With appropriate colour coding, all three classes of the data-set can be shown in the same set of histograms. \n",
    "     \n",
    "Which variables provide the best separation of Iris-setosa from the other two species? How can Iris-versicolor or Iris-virginica be separated from the others?"
   ]
  },
  {
   "cell_type": "code",
   "execution_count": 2,
   "metadata": {},
   "outputs": [
    {
     "data": {
      "image/png": "[encoded data removed]",
      "text/plain": [
       "<Figure size 921.6x691.2 with 16 Axes>"
      ]
     },
     "metadata": {},
     "output_type": "display_data"
    }
   ],
   "source": [
    "# ------------------------------------------------------------------\n",
    "# Exercise 1\n",
    "nvar = 4\n",
    "f, axarr = plt.subplots(nvar, nvar, figsize=[12.8, 9.6])\n",
    "plt.tight_layout()\n",
    "nbins = 20\n",
    "# add your code here ...\n",
    "\n",
    "plt.show()"
   ]
  },
  {
   "cell_type": "markdown",
   "metadata": {},
   "source": [
    "### Exercise 9.2: Naive Likelihood-Ratio (obligatory)\n",
    "In the obligatory parts of this exercise, we only use the first two variables in each line of the data-set, the sepal length and width, to separate one of the species, the 'signal', from the other two, the 'background' in order to simplify the visualization of the results.\n",
    "\n",
    "Study the example code, which contains a general python class `Plotter`, which provides methods to display several aspects for the evaluation of the performance of a classifier. The classifier itself is to be implemented as another class containing a method `evaluate()` (an example classifier class is given [below](#cutclass)), which returns the value of the test-statistic under study and is used by the class `Plotter`. The method `plot_contour()` implemented in this class draws scatter plots of the data superimposed with contours representing the result of evaluation of the test-statistic. Also included is a method `plot_test_statistic()` to display the distributions of the test-statistic on background and signal samples, and a method `plot_roc()` to visualise the performance, the so-called 'ROC' curve.\n",
    "<a name=exercise92></a>"
   ]
  },
  {
   "cell_type": "code",
   "execution_count": 3,
   "metadata": {},
   "outputs": [],
   "source": [
    "# ------- helper functions ----------------------------------\n",
    "\n",
    "\n",
    "class Plotter(object):\n",
    "    \"\"\"\n",
    "        class to display and evaluate the performance of a test-statistic\n",
    "    \"\"\"\n",
    "\n",
    "    def __init__(self, signal_data, bckgrd_data):\n",
    "        self.signal_data = signal_data\n",
    "        self.bckgrd_data = bckgrd_data\n",
    "        self.data = np.vstack([signal_data, bckgrd_data])\n",
    "\n",
    "    def plot_contour(self, classifier):\n",
    "        # 1st variable as x-dimension in the plots\n",
    "        xdim = 0\n",
    "        # and 2nd variable as y-dimension\n",
    "        ydim = 1\n",
    "        # Draw the scatter-plots of signal and background\n",
    "        ax = plt.subplot()\n",
    "        ax.scatter(self.signal_data[:, xdim], self.signal_data[:, ydim],\n",
    "                    c='r', label='Signal')\n",
    "        ax.scatter(self.bckgrd_data[:, xdim], self.bckgrd_data[:, ydim],\n",
    "                    c='b', label='Background')\n",
    "\n",
    "        # Evaluate the response function on a two-dimensional grid ...\n",
    "        #   ... using the mean-values of the data for the remaining dimensions.\n",
    "        xs = np.arange(min(self.data[:, xdim]) - 1, max(self.data[:, xdim]) + 1, 0.1)\n",
    "        ys = np.arange(min(self.data[:, ydim]) - 1, max(self.data[:, ydim]) + 1, 0.1)\n",
    "\n",
    "        means = np.mean(self.data, axis=0)  # calculate mean of each column\n",
    "        responses = np.zeros((len(ys), len(xs)))\n",
    "        for i, x in enumerate(xs):\n",
    "            for j, y in enumerate(ys):\n",
    "                values = np.copy(means)\n",
    "                values[xdim] = x\n",
    "                values[ydim] = y\n",
    "                responses[j, i] = float(classifier.evaluate(values))\n",
    "\n",
    "        # Draw a contour plot\n",
    "        X, Y = np.meshgrid(xs, ys)\n",
    "        c = ax.contourf(X, Y, responses, alpha=0.5, cmap=plt.cm.coolwarm)\n",
    "        cbar = plt.colorbar(c, orientation='vertical', ax=ax)\n",
    "        # add the direction of the fisher vector (if specified)\n",
    "        if hasattr(classifier, 'fisher_vector'):\n",
    "            vector = classifier.fisher_vector / np.linalg.norm(classifier.fisher_vector)\n",
    "            ax.set_aspect('equal', 'datalim')\n",
    "            ax.plot([-vector[xdim] + means[xdim], vector[xdim] + means[xdim]],\n",
    "                     [-vector[ydim] + means[ydim], vector[ydim] + means[ydim]],\n",
    "                     'k-', lw=4, label=\"Fisher Projection\")\n",
    "        plt.title(\n",
    "            \"scatter plot {} vs {} and classifier contour\".format(\n",
    "                columns[xdim], columns[ydim]))\n",
    "        # cbar.draw_all()\n",
    "        plt.show()\n",
    "\n",
    "    def plot_test_statistic(self, classifier):\n",
    "        # Draw Distribution of the test-statistic\n",
    "        ns, binss, _ = plt.hist(list(map(classifier.evaluate, self.signal_data)),\n",
    "                                color='r', alpha=0.5, label='Signal')\n",
    "        nb, binsb, _ = plt.hist(list(map(classifier.evaluate, self.bckgrd_data)),\n",
    "                                color='b', alpha=0.5, label='Background')\n",
    "        plt.title(\"test statistic\")\n",
    "        plt.show()\n",
    "\n",
    "    # calculate efficiencies and plot ROC-curves\n",
    "    def plot_roc(self, classifier):\n",
    "        ns, binss = np.histogram(list(map(classifier.evaluate, self.signal_data)))\n",
    "        nb, binsb = np.histogram(list(map(classifier.evaluate, self.bckgrd_data)))\n",
    "        # enforce common binning for response on bkg and sig\n",
    "        minresp = min([binss[0], binsb[0]])\n",
    "        maxresp = max([binss[len(binss) - 1], binsb[len(binsb) - 1]])\n",
    "        nbins = 100\n",
    "        bins = np.linspace(minresp, maxresp, nbins)\n",
    "        bwid = (maxresp - minresp) / nbins\n",
    "        # calculate cumulative distributions (i.e. bkg and sig efficiencies)\n",
    "        h, b = np.histogram(list(map(classifier.evaluate, self.signal_data)), bins, density=True)\n",
    "        ns = np.cumsum(h) * bwid\n",
    "        h, b = np.histogram(list(map(classifier.evaluate, self.bckgrd_data)), bins, density=True)\n",
    "        nb = np.cumsum(h) * bwid\n",
    "        # finally, draw bkg-eff vs. sig-eff\n",
    "        f2, ax = plt.subplots(1, 1)\n",
    "        ax.plot(1. - ns, nb, 'r-', 1. - ns, nb, 'bo', linewidth=2.0)\n",
    "        ax.set_xlabel(\"signal efficiency\")\n",
    "        ax.set_ylabel(\"background rejection\")\n",
    "        ax.set_title(\"ROC curve\")\n",
    "        plt.show()\n",
    "\n",
    "\n",
    "def find_bin(x, edges):\n",
    "    \"\"\"\n",
    "        returns the bin number (in array of bin edges) corresponding to x\n",
    "        @param x: value for which to find correspoding bin number\n",
    "        @param edges: array of bin edges\n",
    "    \"\"\"\n",
    "    return max(min(bisect.bisect(edges, x) - 1, len(edges) - 2), 0)"
   ]
  },
  {
   "cell_type": "markdown",
   "metadata": {},
   "source": [
    "To guide your implementation of the naive likelihood-ratio classifier an implementation example of a classifier class is given below. The class `CutClassifier` implements a simple, cut-based analysis, where the method `evaluate(x)` simply returns the number of cuts satisfied by the point in variable space given in the array $x$.\n",
    "<a name=cutclass></a>"
   ]
  },
  {
   "cell_type": "code",
   "execution_count": 4,
   "metadata": {},
   "outputs": [
    {
     "data": {
      "image/png": "[encoded data removed]",
      "text/plain": [
       "<Figure size 432x288 with 2 Axes>"
      ]
     },
     "metadata": {},
     "output_type": "display_data"
    },
    {
     "data": {
      "image/png": "[encoded data removed]",
      "text/plain": [
       "<Figure size 432x288 with 1 Axes>"
      ]
     },
     "metadata": {},
     "output_type": "display_data"
    },
    {
     "data": {
      "image/png": "[encoded data removed]",
      "text/plain": [
       "<Figure size 432x288 with 1 Axes>"
      ]
     },
     "metadata": {},
     "output_type": "display_data"
    }
   ],
   "source": [
    "# ------- simple example: Classifier and usage with Plotter class ---------\n",
    "\n",
    "# template of Classifier Class\n",
    "class CutClassifier(object):\n",
    "    \"\"\"\n",
    "        template implementation of a Classifier Class\n",
    "    \"\"\"\n",
    "\n",
    "    def fit(self, signal_data, bckgrd_data):\n",
    "        \"\"\"\n",
    "            set up classifier (\"training\")\n",
    "        \"\"\"\n",
    "    # some examples of what might be useful:\n",
    "        # 1. signal and background histograms with same binning\n",
    "        _, self.edges = np.histogramdd(np.vstack([signal_data, bckgrd_data]), bins=10)\n",
    "        self.signal_hist, _ = np.histogramdd(signal_data, bins=self.edges)\n",
    "        self.bckgrd_hist, _ = np.histogramdd(bckgrd_data, bins=self.edges)\n",
    "\n",
    "        # 2. mean and covariance matrix\n",
    "        self.signal_mean = np.mean(signal_data, axis=0)\n",
    "        self.signal_cov = np.cov(signal_data.T)\n",
    "        self.bckgrd_mean = np.mean(bckgrd_data, axis=0)\n",
    "        self.bckgrd_cov = np.cov(bckgrd_data.T)\n",
    "\n",
    "    def evaluate(self, x):\n",
    "        # simple example of a cut-based classifier\n",
    "        c = 0\n",
    "        for i in range(len(x)):\n",
    "            c += (x[i] < (self.signal_mean[i] + self.bckgrd_mean[i]) / 2.)\n",
    "        return c\n",
    "\n",
    "# example how to use a Classifier Class with the Plotter Class\n",
    "ndim = 2\n",
    "\n",
    "# initialise Classifier with training data\n",
    "cut = CutClassifier()\n",
    "cut.fit(data[signal, :ndim], data[bckgrd, :ndim])\n",
    "\n",
    "# initialize Plotter Class\n",
    "plotter = Plotter(data[signal, :ndim], data[bckgrd, :ndim])\n",
    "# and make plots\n",
    "plotter.plot_contour(cut)\n",
    "plotter.plot_test_statistic(cut)\n",
    "plotter.plot_roc(cut)"
   ]
  },
  {
   "cell_type": "markdown",
   "metadata": {},
   "source": [
    "As a very simple approach, we start by building a two-dimensional histogram of the likelihood ratio of the signal and background distributions. First, choose a 'suitable' binning, and then, in each bin, determine the signal-to-background ratio, which already is the desired likelihood ratio in the bin. \n",
    "\n",
    "Implement a class in analogy to the example provided in `CutClassifier`. In particular, implement the method `evaluate(x)` for your new class that returns the likelihood-ratio for each bin corresponding to the test point $x$.\n",
    "\n",
    "Use Iris-versicolor as the signal, the other species as background. Visualise the results in the two-dimensional parameter space using the methods of the provided class `Plotter`.\n",
    "\n",
    "What are the problems of this simple approach?\n",
    "What happens if you use Iris-setosa as the signal?\n",
    "\n",
    "**Hint**: Use the `numpy` function `histogram2d` (or `histogramdd`) to create a two-dimensional histogram. You may profit from the function `find_bin` defined in the provided code basis to find the bin which corresponds to a given point in variable space. "
   ]
  },
  {
   "cell_type": "code",
   "execution_count": 5,
   "metadata": {},
   "outputs": [],
   "source": [
    "# -----------------------------------------------------------------\n",
    "# Exercise 2"
   ]
  },
  {
   "cell_type": "markdown",
   "metadata": {},
   "source": [
    "### Exercise 9.3: Logarithm of Likelihood-Ratio (obligatory)\n",
    "  \n",
    "Next, we use parametrised distributions, assuming that the signal and background distributions can be reasonably described by two-dimensional Gaussian distributions, defined by the mean values and covariance matrices of the signal and background data-sets.\n",
    "\n",
    "Implement a class with a method `evaluate` returning the logarithm of the likelihood-ratio for each point in the sample.\n",
    "\n",
    "Visualise your results, as in the previous exercise, with Iris-versicolor as the signal. \n",
    "\n",
    "What is the advantage of this approach compared to the previous case? \n",
    "What happens if you use Iris-setosa as signal?\n",
    "\n",
    "**Hint**: The `numpy` functions `mean`, `cov`, `.dot` and `linalg.inv` are very helpful for this problem. "
   ]
  },
  {
   "cell_type": "code",
   "execution_count": 6,
   "metadata": {},
   "outputs": [],
   "source": [
    "# ------------------------------------------------------------------\n",
    "# Exercise 3"
   ]
  },
  {
   "cell_type": "markdown",
   "metadata": {},
   "source": [
    "  \n",
    "### Exercise 9.4: Fisher's discriminant (obligatory)\n",
    "\n",
    "In order to study a truly one-dimensional classifier, implement Fisher's discriminant. Write an appropriate class which calculates the Fisher vector in the `fit()` method, and write a method `evaluate(x)` returning the projection of the feature vector $x$ onto the fisher vector, and study the resulting plots. Use again Iris-versicolor as the signal.\n",
    "  \n",
    "What is better in this approach, and where are possible limitations? What happens if you use Iris-setosa as signal?"
   ]
  },
  {
   "cell_type": "code",
   "execution_count": 7,
   "metadata": {},
   "outputs": [],
   "source": [
    "# ------------------------------------------------------------------\n",
    "# Exercise 4"
   ]
  },
  {
   "cell_type": "markdown",
   "metadata": {},
   "source": [
    "### Exercise 9.5:  (voluntary)\n",
    "\n",
    "With the code implemented so far, you are ready now to use the full four-dimensional data, _i.e._ to employ all four features (sepal length, sepal width, petal length, petal width), hopefully with only minor modifications or additions to your code. \n",
    "\n",
    "Is it useful to consider the approaches of exercises 9.2 and 9.3 (naive likelihood-ratio in histogram bins, or the parametrisations\n",
    "of signal an background by four-dimensional Gaussian distributions) in the four-dimensional feature space?\n",
    "\n",
    "With your implementation of Fisher's Method you are ready to separate better even Iris-virginica and Iris-versicolor. \n",
    "Give it a try!\n",
    "\n",
    "**Remark**: The basic code skeleton you have developed in this exercise can easily be used for other data-sets, and an extension by other methods, _e.g._ those mentioned in the lecture, is also thinkable."
   ]
  },
  {
   "cell_type": "code",
   "execution_count": 8,
   "metadata": {},
   "outputs": [],
   "source": [
    "# ------------------------------------------------------------------\n",
    "# Exercise 5\n",
    "#   -> Set ndim to 4"
   ]
  }
 ],
 "metadata": {
  "kernelspec": {
   "display_name": "Python 3",
   "language": "python",
   "name": "python3"
  },
  "language_info": {
   "codemirror_mode": {
    "name": "ipython",
    "version": 3
   },
   "file_extension": ".py",
   "mimetype": "text/x-python",
   "name": "python",
   "nbconvert_exporter": "python",
   "pygments_lexer": "ipython3",
   "version": "3.7.5"
  }
 },
 "nbformat": 4,
 "nbformat_minor": 4
}
