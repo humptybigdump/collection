{
 "cells": [
  {
   "cell_type": "markdown",
   "id": "38a2a48a-a4a3-467e-a3d7-c481c73972b9",
   "metadata": {},
   "source": [
    "# Data Analysis in Geoscience Remote Sensing Projects: Exercises [2021]\n",
    "## Solutions to tasks: Regression\n",
    "\n",
    "Hendrik Andersen | contact: hendrik.andersen@kit.edu"
   ]
  },
  {
   "cell_type": "markdown",
   "id": "f6a29524-159d-494d-ab84-29e230afcb6f",
   "metadata": {},
   "source": [
    "__Tasks:__\n",
    "\n",
    "1. Compute the RSS (residual sum of squares) and RSE (residual standard error) for the regression model\n",
    "2. Create a residual plot to analyse the residuals. Are there any issues with the data?\n",
    "3. Interpret the p-value: Can we reject the 0-hypothesis that there is no relationship between X and y? \n",
    "4. Compute the R$^2$ statistic: How much (%) of the variation in y is explained by X?"
   ]
  },
  {
   "cell_type": "code",
   "execution_count": 1,
   "id": "6b0269fd-d777-41c7-ac03-fb13b7bcf028",
   "metadata": {},
   "outputs": [],
   "source": [
    "import numpy as np\n",
    "import matplotlib.pyplot as plt\n",
    "import pandas as pd\n",
    "\n",
    "# Read in data as pandas dataframe\n",
    "df = pd.read_csv('Fremont.csv', index_col='Date', parse_dates=True)\n",
    "df = df.rename(columns={\"Fremont Bridge Total\": \"total\", \n",
    "                        \"Fremont Bridge East Sidewalk\": \"east\",\n",
    "                        \"Fremont Bridge West Sidewalk\": \"west\"}) \n",
    "\n",
    "X = df['east'].resample('m').mean()\n",
    "y = df['west'].resample('m').mean()\n",
    "z = df['total'].resample('m').mean()"
   ]
  },
  {
   "cell_type": "code",
   "execution_count": 2,
   "id": "dbea49d9-4a5c-4efd-9a09-53105d52cdf7",
   "metadata": {},
   "outputs": [
    {
     "name": "stdout",
     "output_type": "stream",
     "text": [
      "Residual sum of squares is : 19659.687863534757\n",
      "Residual standard error  is : 13.13215147307205\n"
     ]
    },
    {
     "data": {
      "image/png": "[encoded data removed]",
      "text/plain": [
       "<Figure size 432x288 with 1 Axes>"
      ]
     },
     "metadata": {
      "needs_background": "light"
     },
     "output_type": "display_data"
    }
   ],
   "source": [
    "from sklearn.linear_model import LinearRegression\n",
    "import math\n",
    "\n",
    "regr = LinearRegression()\n",
    "X_ = np.expand_dims(X, axis = 1)\n",
    "regr.fit(X_,y)\n",
    "y_pred = regr.predict(X_)\n",
    "\n",
    "RSS = np.sum(np.square(y_pred - y))\n",
    "RSE = math.sqrt(RSS / (len(y) - 2))\n",
    "\n",
    "\n",
    "print('Residual sum of squares is : '+ str(RSS))\n",
    "print('Residual standard error  is : '+ str(RSE))\n",
    "residuals = (y-y_pred)\n",
    "plt.scatter(X,residuals)\n",
    "plt.ylabel('Residuals')\n",
    "plt.xlabel('X')\n",
    "plt.title('Issue: Heteroscedacity')\n",
    "plt.show()"
   ]
  },
  {
   "cell_type": "code",
   "execution_count": 3,
   "id": "5a8042be-1c01-4ccc-9e5c-7981ea4b4817",
   "metadata": {},
   "outputs": [
    {
     "name": "stdout",
     "output_type": "stream",
     "text": [
      "Can we reject the 0-hypothesis that there is no relationship between X and y?: True\n"
     ]
    }
   ],
   "source": [
    "from scipy import stats\n",
    "slope, intercept, rvalue, pvalue, stderr = stats.linregress(X,y)\n",
    "print('Can we reject the 0-hypothesis that there is no relationship between X and y?: '  + str(pvalue < 0.05))"
   ]
  },
  {
   "cell_type": "code",
   "execution_count": 4,
   "id": "f5a49e91-c220-4ec3-849d-9477fa2285a5",
   "metadata": {},
   "outputs": [
    {
     "name": "stdout",
     "output_type": "stream",
     "text": [
      "R2 statistic: 0.64\n",
      "The regression explains 64% of the variability in y\n"
     ]
    }
   ],
   "source": [
    "from sklearn.metrics import r2_score\n",
    "print('R2 statistic: %.2f' % r2_score(y, y_pred))\n",
    "print('The regression explains 64% of the variability in y')"
   ]
  },
  {
   "cell_type": "markdown",
   "id": "875bd83e-7943-460c-902b-aeddcbc4a3c8",
   "metadata": {},
   "source": [
    "__Tasks:__\n",
    "\n",
    "1. Compute a confidence interval for the two groups of data split with train_test_split. What is the reason for the differences in the range of the confidence interval?\n",
    "2. Calculate a regression analysis for the outlier and high-leverage data and create a plot. Which of the issues (outlier/leverage) is more critical for sensitivity estimation?\n",
    "3. Why is the line of the average slope_list approaching the true sensitivity?"
   ]
  },
  {
   "cell_type": "code",
   "execution_count": 9,
   "id": "dbe5770e-1fc5-4404-8019-e85cee070b61",
   "metadata": {},
   "outputs": [
    {
     "name": "stdout",
     "output_type": "stream",
     "text": [
      "slope (95%): 0.977814 +/- 0.15\n",
      "slope (95%): 1.194325 +/- 0.35\n",
      "Confidence range for the test data is much larger, as the sample size is smaller\n"
     ]
    }
   ],
   "source": [
    "from sklearn.model_selection import train_test_split\n",
    "X_train, X_test, y_train, y_test = train_test_split(X, y, test_size=0.1, random_state=1) # the random_state argument creates pseudo (reproducable) random data \n",
    "\n",
    "res_train = stats.linregress(X_train,y_train)\n",
    "res_test = stats.linregress(X_test,y_test)\n",
    "\n",
    "# here, we define a function that returns the confidence interval for the slope and the intercept \n",
    "def conf_int(X, model, p = 0.05):\n",
    "    \"\"\"\n",
    "    This function calculates a confidence interval for a slope and intercept of a linear model.\n",
    "    Only works when the model provided is a scipy.stats.linregress() model.\n",
    "    Returns: confidence interval for a slope and intercept \n",
    "    \"\"\"\n",
    "    from scipy.stats import t\n",
    "    ts = abs(t.ppf(p/2, len(X)-2))\n",
    "    slope_ci = model.stderr*ts\n",
    "    intercept_ci = model.intercept_stderr*ts\n",
    "    return slope_ci, intercept_ci\n",
    "\n",
    "slope_ci_train, intercept_ci_train = conf_int(X_train, res_train)\n",
    "slope_ci_test, intercept_ci_test = conf_int(X_test, res_test)\n",
    "print(f\"slope (95%): {res_train.slope:.6f} +/- {slope_ci_train:.2f}\")\n",
    "print(f\"slope (95%): {res_test.slope:.6f} +/- {slope_ci_test:.2f}\")\n",
    "print('Confidence range for the test data is much larger, as the sample size is smaller')"
   ]
  },
  {
   "cell_type": "code",
   "execution_count": 15,
   "id": "c92d5f6f-c0f1-4f01-8826-02cfc0fd69f7",
   "metadata": {},
   "outputs": [
    {
     "name": "stdout",
     "output_type": "stream",
     "text": [
      "0.9993111831546323 1.0193501253458885 1.021044799139406\n",
      "Outliers and high-leverage points should be removed, ideally. Especially high-leverage points typically influence estimated sensitivity\n",
      "The errors are drawn randomly. The more often this is done, the more likely these cancel out. This is called also often referred to regression to the mean.\n"
     ]
    }
   ],
   "source": [
    "# create copies of the data sets\n",
    "y_outlier = y.copy()\n",
    "X_outlier = X.copy()\n",
    "y_leverage = y.copy()\n",
    "X_leverage = X.copy()\n",
    "\n",
    "# Change the first data point in the X and y data sets to create an outlier and a high-leverage point \n",
    "y_outlier[0] = -5\n",
    "X_outlier[0] = 0\n",
    "y_leverage[0] = -5\n",
    "X_leverage[0] = 2\n",
    "\n",
    "lm_1 = stats.linregress(X,y)\n",
    "lm_2 = stats.linregress(X_outlier,y_outlier)\n",
    "lm_3 = stats.linregress(X_leverage,y_leverage)\n",
    "print(lm_1.slope,lm_2.slope,lm_3.slope)\n",
    "print('Outliers and high-leverage points should be removed, ideally. Especially high-leverage points typically influence estimated sensitivity')\n",
    "\n",
    "print('The errors are drawn randomly. The more often this is done, the more likely these cancel out. This is called also often referred to regression to the mean.')"
   ]
  }
 ],
 "metadata": {
  "kernelspec": {
   "display_name": "Python 3 (ipykernel)",
   "language": "python",
   "name": "python3"
  },
  "language_info": {
   "codemirror_mode": {
    "name": "ipython",
    "version": 3
   },
   "file_extension": ".py",
   "mimetype": "text/x-python",
   "name": "python",
   "nbconvert_exporter": "python",
   "pygments_lexer": "ipython3",
   "version": "3.10.4"
  }
 },
 "nbformat": 4,
 "nbformat_minor": 5
}
