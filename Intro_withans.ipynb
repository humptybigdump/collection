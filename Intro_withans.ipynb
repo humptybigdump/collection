{
 "cells": [
  {
   "cell_type": "markdown",
   "metadata": {},
   "source": [
    "# Practicals in Seismology, winter semester 2024/25\n",
    "\n",
    "_____\n",
    "\n",
    "### Week 1, 22 October 2024 \n",
    "### Topics: Introduction to Python\n",
    "### Responsible: Dr. Yajian Gao\n",
    "\n",
    "\n",
    "___\n",
    "\n",
    "**In this week's practicals you will learn**\n",
    "\n",
    "* how to use jupyter notebooks in python\n",
    "* what data types are used in python\n",
    "* basic programming concepts\n",
    "* how to include packages into python\n",
    "* how the packages obspy is used\n",
    "\n",
    "\n",
    "\n",
    "___\n",
    "\n",
    "Those of you who have already worked with python, might find this introduction not very challenging. You can quickly go through the following tasks and then solve the additional exercises at the bottom of this jupyter notebook.\n",
    "\n"
   ]
  },
  {
   "cell_type": "markdown",
   "metadata": {},
   "source": [
    "### Part 1: Python Basics \n"
   ]
  },
  {
   "cell_type": "markdown",
   "metadata": {},
   "source": [
    "Please fill your name at <code>yourname</code> and run the cell below."
   ]
  },
  {
   "cell_type": "code",
   "execution_count": 3,
   "metadata": {
    "collapsed": true,
    "jupyter": {
     "outputs_hidden": true
    }
   },
   "outputs": [
    {
     "name": "stdout",
     "output_type": "stream",
     "text": [
      "Hello world and Yajian Gao (::)\n"
     ]
    }
   ],
   "source": [
    "name= 'Yajian Gao'\n",
    "\n",
    "print('Hello world and'+' '+name+ ' (::)')"
   ]
  },
  {
   "cell_type": "markdown",
   "metadata": {},
   "source": [
    "**1.1) Variables and Datatypes:** <br>\n",
    "Below you find a selection of datatypes, which are typically used in python. Create an additional variable and assign a list containing the variables a-e to it. Put a comment behind this new variable and run the cell."
   ]
  },
  {
   "cell_type": "code",
   "execution_count": 4,
   "metadata": {
    "collapsed": true,
    "jupyter": {
     "outputs_hidden": true
    }
   },
   "outputs": [],
   "source": [
    "a = 5              # integer  --> whole number without decimals\n",
    "b = 3.1415         # float    --> number that may include decimals\n",
    "c = 1+3j           # complex  --> complex number with real and imaginary part ('j' is the imaginary unit)\n",
    "d = 'Seismology'   # string   --> strings are always surrounded with quotes ' '...\n",
    "e = \"Earthquake\"   # string   --> ... or with double quotes \" \"\n",
    "f = [3,3000,'b',d] # list     --> lists are defined in rectangular brackets and they are separated with commas\n",
    "                   # your list"
   ]
  },
  {
   "cell_type": "markdown",
   "metadata": {},
   "source": [
    "Test how the different data types can be combined. In order to do that, edit the example below and use the following signs: <code>+</code>, <code>*</code>, <code>-</code>, <code>/</code>. <br>\n",
    "Which combinations are possible?\n",
    "<br>\n",
    "With <code>print()</code> you can show the variable in the output kernel. And <code>type()</code> returns the datatype of the variable."
   ]
  },
  {
   "cell_type": "code",
   "execution_count": 5,
   "metadata": {
    "collapsed": true,
    "jupyter": {
     "outputs_hidden": true
    }
   },
   "outputs": [
    {
     "name": "stdout",
     "output_type": "stream",
     "text": [
      "SeismologySeismology\n",
      "<class 'str'>\n"
     ]
    }
   ],
   "source": [
    "var = d*2\n",
    "\n",
    "print(var)\n",
    "print(type(var))"
   ]
  },
  {
   "cell_type": "markdown",
   "metadata": {},
   "source": [
    "**1.2) Indexing and Slicing**<br>\n",
    "In Python, strings are basically an array of characters. Each position of a letter refers to an index, which is shown in the figure below. <br>\n",
    "**Attention:** The first letter has the index '0'.\n",
    "\n",
    "<img src=\"Files/string_array.png\" alt=\"drawing\" width=\"350\"> <br>\n",
    "Create a string containing your name and check the output of the following commands using <code>print()</code>. Note in a comment the meaning of each command and vary them if you are not sure.\n"
   ]
  },
  {
   "cell_type": "code",
   "execution_count": 6,
   "metadata": {
    "collapsed": true,
    "jupyter": {
     "outputs_hidden": true
    }
   },
   "outputs": [
    {
     "name": "stdout",
     "output_type": "stream",
     "text": [
      "1 D\n",
      "2 a\n",
      "3 na\n",
      "4 k\n",
      "5 11\n",
      "6 6\n",
      "7 ['Donald', 'Duck']\n"
     ]
    }
   ],
   "source": [
    "#define your string:\n",
    "name='Donald Duck'\n",
    "print(1,name[0])         #   \n",
    "print(2,name[3])         # \n",
    "print(3,name[2:4])       #\n",
    "print(4,name[-1])        #\n",
    "print(5,len(name))       #\n",
    "\n",
    "print(6,name.find(' '))  #\n",
    "print(7,name.split(' ')) #\n"
   ]
  },
  {
   "cell_type": "markdown",
   "metadata": {},
   "source": [
    "Similar to strings, each element of a list has an index which is counted from the first element. Create a list with all prime numbers below 20 and assign it to a variable. Try to solve the following tasks. You can use the same commands then for the strings. \n",
    "\n",
    "Tip: a prime number is a whole number greater than 1 whose only factors are 1 and itself. A factor is a whole number that can be divided evenly into another number. The first few prime numbers are 2, 3, 5, 7, 11, 13, 17, 19, 23 and 29. Numbers that have more than two factors are called composite numbers.\n",
    "\n",
    "- what is the 4th prime number?\n",
    "- how many prime numbers are below 20? \n",
    "- print the list from the 6th to the last element.\n",
    "- print the maximum <code>max()</code> and the minimum <code>min()</code> of the list \n",
    "- append the next prime number with <code>yourlist.append(nextprime)</code> by replacing 'yourlist' with the variable of your list and 'nextprime' with the first prime number above 20.\n",
    "\n",
    "Always check whether the results are reasonable."
   ]
  },
  {
   "cell_type": "code",
   "execution_count": 14,
   "metadata": {},
   "outputs": [
    {
     "name": "stdout",
     "output_type": "stream",
     "text": [
      "1 4th prime number 7\n",
      "2 number of prime number below 20 is 8\n",
      "3 prime number from 6th [17, 19]\n",
      "4 maximum and minimum are: 19 2\n",
      "5 new list is [2, 3, 5, 7, 11, 13, 17, 19, 23]\n"
     ]
    }
   ],
   "source": [
    "#create the list with all prime numbers:\n",
    "prime=[2, 3, 5, 7, 11, 13, 17, 19]\n",
    "#solve the task listed above\n",
    "print(1,'4th prime number',prime[4-1])\n",
    "print(2,'number of prime number below 20 is',len(prime))\n",
    "print(3,'prime number from 6th', prime[6:])\n",
    "print(4,'maximum and minimum are:',max(prime),min(prime))\n",
    "prime.append(23)\n",
    "print(5,'new list is',prime)"
   ]
  },
  {
   "cell_type": "code",
   "execution_count": 13,
   "metadata": {},
   "outputs": [
    {
     "data": {
      "text/plain": [
       "[2, 3, 5, 7, 11, 13, 17, 19, 23]"
      ]
     },
     "execution_count": 13,
     "metadata": {},
     "output_type": "execute_result"
    }
   ],
   "source": [
    "prime"
   ]
  },
  {
   "cell_type": "markdown",
   "metadata": {},
   "source": [
    "**1.3) Control structures**<br>\n",
    "Often, some parts of the code should only be executed if specific conditions are met or simple tasks should be executed multiple times. To simplify the code python supports \"if-conditions\" and \"loops\". <br>\n",
    "<br>\n",
    "\"If- conditions\" are related to the logical conditions known from mathematics:\n",
    "- <code>a == b</code>, a is equal to b\n",
    "- <code>a != b</code>, a is not equal to b\n",
    "- <code>a > b</code>, a greater than b\n",
    "- <code>a < b</code>, a less than b\n",
    "- <code>a >= b</code>, a greater than or equal to b\n",
    "- <code>a <= b</code>, a less than or equal to b\n",
    "\n",
    "In the example below you will see one of the **most important concepts** of the **python syntax** - the **indentation**!<br>\n",
    "By using whitespace in the beginning of the new line a new statement is defined. \n",
    "<br>Below, you can change the value of the variable <code>intensity</code> and check the output."
   ]
  },
  {
   "cell_type": "code",
   "execution_count": 15,
   "metadata": {
    "collapsed": true,
    "jupyter": {
     "outputs_hidden": true
    }
   },
   "outputs": [
    {
     "name": "stdout",
     "output_type": "stream",
     "text": [
      "Most people don't wake up during the night.\n"
     ]
    }
   ],
   "source": [
    "intensity = 3\n",
    "\n",
    "if intensity < 4: \n",
    "    # if the condtion 'intensity<4' is True, the following statement is printed.\n",
    "    print(\"Most people don't wake up during the night.\" )\n",
    "\n",
    "elif intensity < 7: \n",
    "    # if the first condition was False, but 'intensity < 7' is True, the following statement is executed.\n",
    "    print('People start to loose balance')\n",
    "    \n",
    "else: \n",
    "    # if both previous statements are False, the last statement is printed.\n",
    "    print('Buildings are severly damaged.')"
   ]
  },
  {
   "cell_type": "markdown",
   "metadata": {},
   "source": [
    "Now its up to you! Define two variable (a,b) and assign numbers to it. <br>\n",
    "Check whether:\n",
    "- a is smaller than b\n",
    "- a and b are equal\n",
    "- a is greater than b\n",
    "and print a string describing the particular case. E.g. <code>print('a is smaller than b')</code>"
   ]
  },
  {
   "cell_type": "code",
   "execution_count": 18,
   "metadata": {
    "collapsed": true,
    "jupyter": {
     "outputs_hidden": true
    }
   },
   "outputs": [
    {
     "name": "stdout",
     "output_type": "stream",
     "text": [
      "a is equal to b\n"
     ]
    }
   ],
   "source": [
    "#define two variable a and b\n",
    "a=   3                               \n",
    "b=   3\n",
    "\n",
    "#if-condition (Attention: always use a double dot behind the condition)\n",
    "if a<b:\n",
    "    print('a is smaller than b') \n",
    "elif a==b:\n",
    "    print('a is equal to b')\n",
    "else:\n",
    "    print('a is larger than b')\n",
    "\n",
    "#else   \n",
    "\n"
   ]
  },
  {
   "cell_type": "markdown",
   "metadata": {},
   "source": [
    "Another important concept of any programming language is the idea of **loops**. With loops you can repeat different tasks until a specific criterion is met. Two different types are used in python:\n",
    "- while-loops (repeats tasks until a condition is true)\n",
    "- for-loops (iterate over a sequence as a list, string,...)\n",
    "\n",
    "**While-loop:**"
   ]
  },
  {
   "cell_type": "code",
   "execution_count": 21,
   "metadata": {
    "collapsed": true,
    "jupyter": {
     "outputs_hidden": true
    }
   },
   "outputs": [
    {
     "name": "stdout",
     "output_type": "stream",
     "text": [
      "0\n",
      "1\n",
      "4\n",
      "9\n",
      "16\n",
      "25\n"
     ]
    }
   ],
   "source": [
    "n=0\n",
    "while n<6:      # n<6 is the condition\n",
    "    print(n*n)  # task (indented!!)\n",
    "    n=n+1       # what would happen if this line would be deleted?"
   ]
  },
  {
   "cell_type": "markdown",
   "metadata": {},
   "source": [
    "**For-loops**"
   ]
  },
  {
   "cell_type": "code",
   "execution_count": 22,
   "metadata": {
    "collapsed": true,
    "jupyter": {
     "outputs_hidden": true
    }
   },
   "outputs": [
    {
     "name": "stdout",
     "output_type": "stream",
     "text": [
      "red\n",
      "yellow\n",
      "orange\n",
      "blue\n"
     ]
    }
   ],
   "source": [
    "colors= ['red', 'yellow', 'orange','blue' ]\n",
    "for x in colors: # loop iterates over all elements (x is a variable and could be changed) in the list colors\n",
    "    print(x)"
   ]
  },
  {
   "cell_type": "markdown",
   "metadata": {},
   "source": [
    "Often you want to iterate over a range of numbers and then the command <code>in range(start, end)</code> might be helpful. Be aware, that the end number is not included!."
   ]
  },
  {
   "cell_type": "code",
   "execution_count": 24,
   "metadata": {
    "collapsed": true,
    "jupyter": {
     "outputs_hidden": true
    }
   },
   "outputs": [
    {
     "name": "stdout",
     "output_type": "stream",
     "text": [
      "0 0\n",
      "1 1\n",
      "2 4\n",
      "3 9\n",
      "4 16\n",
      "5 25\n"
     ]
    }
   ],
   "source": [
    "for n in range(0,6): #iterate over numbers starting fom 0 to !5!\n",
    "    print(n,n*n)"
   ]
  },
  {
   "cell_type": "markdown",
   "metadata": {},
   "source": [
    "Now, hands on and it's up to you to create different loops! <br>\n",
    "First, create a list with the name of three students in this practical. Then iterate over the elements of the list and print each name. <br>As a next step, print a whole sentence that greets the students!"
   ]
  },
  {
   "cell_type": "code",
   "execution_count": 27,
   "metadata": {
    "collapsed": true,
    "jupyter": {
     "outputs_hidden": true
    }
   },
   "outputs": [
    {
     "name": "stdout",
     "output_type": "stream",
     "text": [
      "hello Kiran\n",
      "hello Svenja Eva Anita\n",
      "hello Fiona\n"
     ]
    }
   ],
   "source": [
    "#create list\n",
    "#Kiran, Svenja Eva Anita,Fiona,Johannes,Kai,Lisa Kristin,Antonia Dorothea,Ruksana,Florian,Adrian Jakob,Zuoyi,Berkay\n",
    "#create list\n",
    "name_of_students=['Kiran', 'Svenja Eva Anita','Fiona']\n",
    "# define the loop  (first only print the name and then try to print \"hello NameOfStudent\")\n",
    "for name in name_of_students:\n",
    "    print('hello',name)"
   ]
  },
  {
   "cell_type": "markdown",
   "metadata": {},
   "source": [
    "For the second task you will need an **if statement** and a **loop**. <br>\n",
    "Create a variable with your favorite digit ;) Then create a loop over all numbers from 0 to 40. <br>\n",
    "If the loop variable can be divided by your favorite digit without remainder, then print the loop variable and the result of the division. Test your code for multiple favorite numbers. <br>\n",
    "Hint: With modulo ```%``` returns the remainder of a division. E.g. ```10%3```=1 or ```19%5```=4."
   ]
  },
  {
   "cell_type": "code",
   "execution_count": 36,
   "metadata": {
    "collapsed": true,
    "jupyter": {
     "outputs_hidden": true
    }
   },
   "outputs": [
    {
     "name": "stdout",
     "output_type": "stream",
     "text": [
      "0 0.0\n",
      "9 1.0\n",
      "18 2.0\n",
      "27 3.0\n",
      "36 4.0\n",
      "0 0.0\n",
      "9 1.0\n",
      "18 2.0\n",
      "27 3.0\n",
      "36 4.0\n"
     ]
    }
   ],
   "source": [
    "#create a varibale with your favorite digit\n",
    "\n",
    "mynumber=9\n",
    "#define a loop, which will go through all numbers between 0 and 9. (Both a 'while-loop' as well as a 'for-loop' can be used.)\n",
    "for n in range(0,40):\n",
    "    #print(n)\n",
    "    if n%mynumber==0:\n",
    "        print(n,n/mynumber)\n",
    "\n",
    "###while loop:\n",
    "n=0\n",
    "while n < 40:\n",
    "    if n%mynumber==0:\n",
    "        print(n,n/mynumber)\n",
    "    n+=1\n",
    "    "
   ]
  },
  {
   "cell_type": "markdown",
   "metadata": {},
   "source": [
    "**1.4) Functions** <br>\n",
    "Functions are a group of statements/tasks which are only executed if the function is \"called\". They are often used to structure the code and break problems down to small modules. <br>\n",
    "They are defined with: \n",
    "\n",
    "<code>def NameOfFunction (arguments):\n",
    "    tasks or statements\n",
    "    return variables\n",
    "</code>\n",
    "<br>\n",
    "\n",
    "Again, the block of statements and tasks is indented!<br>\n",
    "The following two cell shows an example of a function and how it can be used."
   ]
  },
  {
   "cell_type": "code",
   "execution_count": 37,
   "metadata": {
    "collapsed": true,
    "jupyter": {
     "outputs_hidden": true
    }
   },
   "outputs": [
    {
     "name": "stdout",
     "output_type": "stream",
     "text": [
      "30.0\n"
     ]
    }
   ],
   "source": [
    "def fahr2cel(fahr):\n",
    "    cel = (fahr - 32) * 5/9\n",
    "    return cel\n",
    "\n",
    "\n",
    "temp_celcius = fahr2cel(86)\n",
    "print(temp_celcius)\n"
   ]
  },
  {
   "cell_type": "markdown",
   "metadata": {},
   "source": [
    "In some cases it is also not necessary that functions return variables and all necessary tasks are executed in the function:"
   ]
  },
  {
   "cell_type": "code",
   "execution_count": 38,
   "metadata": {
    "collapsed": true,
    "jupyter": {
     "outputs_hidden": true
    }
   },
   "outputs": [
    {
     "name": "stdout",
     "output_type": "stream",
     "text": [
      "86 degree Fahrenheit are 30.0 degree Celcius.\n",
      "32 degree Fahrenheit are 0.0 degree Celcius.\n"
     ]
    }
   ],
   "source": [
    "def fahr2cel2(fahr):\n",
    "    cel = (fahr - 32) * 5/9\n",
    "    print(fahr, 'degree Fahrenheit are',cel ,'degree Celcius.')\n",
    "    return  #nothing returned\n",
    "\n",
    "fahr2cel2(86)  \n",
    "fahr2cel2(32)  "
   ]
  },
  {
   "cell_type": "markdown",
   "metadata": {},
   "source": [
    "Define a function, which converts radians into degree and test it for different values!"
   ]
  },
  {
   "cell_type": "code",
   "execution_count": 40,
   "metadata": {
    "collapsed": true,
    "jupyter": {
     "outputs_hidden": true
    }
   },
   "outputs": [
    {
     "name": "stdout",
     "output_type": "stream",
     "text": [
      "Input radians: 0\n",
      "0.0\n"
     ]
    }
   ],
   "source": [
    "#define the function\n",
    "pi=22/7\n",
    "radian = float(input(\"Input radians: \"))\n",
    "degree = radian*(180/pi)\n",
    "print(degree)\n",
    "\n",
    "#call the function\n"
   ]
  },
  {
   "cell_type": "code",
   "execution_count": 41,
   "metadata": {},
   "outputs": [],
   "source": [
    "def convert_radian_degree(radian):\n",
    "    pi=22/7\n",
    "    degree = radian*(180/pi)\n",
    "    return degree"
   ]
  },
  {
   "cell_type": "code",
   "execution_count": 44,
   "metadata": {},
   "outputs": [
    {
     "data": {
      "text/plain": [
       "30.000000000000004"
      ]
     },
     "execution_count": 44,
     "metadata": {},
     "output_type": "execute_result"
    }
   ],
   "source": [
    "convert_radian_degree(30*22/7/180)"
   ]
  },
  {
   "cell_type": "markdown",
   "metadata": {},
   "source": [
    "### Further exercises:"
   ]
  },
  {
   "cell_type": "markdown",
   "metadata": {},
   "source": [
    "1) Write a python programm to show the following patern in the output kernel: <br>\n",
    "x<br>\n",
    "xx<br>\n",
    "xxx<br>\n",
    "xxxx<br>\n",
    "xxx<br>\n",
    "xx<br>\n",
    "x<br>"
   ]
  },
  {
   "cell_type": "code",
   "execution_count": 55,
   "metadata": {
    "collapsed": true,
    "jupyter": {
     "outputs_hidden": true
    }
   },
   "outputs": [
    {
     "name": "stdout",
     "output_type": "stream",
     "text": [
      "x\n",
      "xx\n",
      "xxx\n",
      "xxxx\n",
      "xxx\n",
      "xx\n",
      "x\n"
     ]
    }
   ],
   "source": [
    "for i in range(0,7):\n",
    "    #print(i)\n",
    "    if i < 4:\n",
    "        numberofx=i+1\n",
    "    else:\n",
    "        numberofx=7-i\n",
    "    print('x'*numberofx)"
   ]
  },
  {
   "cell_type": "markdown",
   "metadata": {},
   "source": [
    "2) For $-10<x<10$ calulate $f(x)=2x^3+5x^2$ and save each y value in a list. <br>\n",
    "Print the y- value for $x=-6$ and $x=5$. <br>\n",
    "\n",
    "Hints:\n",
    "- the power of a number is calculated in python with ```**```. E.g. $x^2$ equals <code>x**2</code>\n",
    "- create an empty list e.g. ```yourlist=[]``` and then append the values you calculated. ```yourlist.append(value)```"
   ]
  },
  {
   "cell_type": "code",
   "execution_count": 67,
   "metadata": {
    "collapsed": true,
    "jupyter": {
     "outputs_hidden": true
    }
   },
   "outputs": [
    {
     "name": "stdout",
     "output_type": "stream",
     "text": [
      "-6 -252\n",
      "5 375\n"
     ]
    }
   ],
   "source": [
    "mylist=[]\n",
    "for i in range(-10,10):\n",
    "   # print(i)\n",
    "    f=2*i**3+5*i**2\n",
    "    mylist.append(f)\n",
    "    if i==-6 or i==5:\n",
    "        print(i,f)"
   ]
  },
  {
   "cell_type": "markdown",
   "metadata": {},
   "source": [
    "3) Create a function, which calculates the n-th value of the fibonacci series. The next element in the series is always determined by the sum of the previous 2 elements and by definition it starts with 0 and 1. <br>\n",
    "e.g. $0,1,1,2,3,5,8,13,21,... $<br>"
   ]
  },
  {
   "cell_type": "code",
   "execution_count": 72,
   "metadata": {
    "collapsed": true,
    "jupyter": {
     "outputs_hidden": true
    }
   },
   "outputs": [
    {
     "name": "stdout",
     "output_type": "stream",
     "text": [
      "1\n"
     ]
    }
   ],
   "source": [
    "def Fibonacci(n):\n",
    "    if n<= 0:\n",
    "        print(\"Incorrect input\")\n",
    "    # First Fibonacci number is 0\n",
    "    elif n == 1:\n",
    "        return 0\n",
    "    # Second Fibonacci number is 1\n",
    "    elif n == 2:\n",
    "        return 1\n",
    "    else:\n",
    "        return Fibonacci(n-1)+Fibonacci(n-2)\n",
    " \n",
    "print(Fibonacci(3))"
   ]
  },
  {
   "cell_type": "code",
   "execution_count": null,
   "metadata": {},
   "outputs": [],
   "source": []
  }
 ],
 "metadata": {
  "kernelspec": {
   "display_name": "Python 3 (ipykernel)",
   "language": "python",
   "name": "python3"
  },
  "language_info": {
   "codemirror_mode": {
    "name": "ipython",
    "version": 3
   },
   "file_extension": ".py",
   "mimetype": "text/x-python",
   "name": "python",
   "nbconvert_exporter": "python",
   "pygments_lexer": "ipython3",
   "version": "3.10.14"
  }
 },
 "nbformat": 4,
 "nbformat_minor": 4
}
