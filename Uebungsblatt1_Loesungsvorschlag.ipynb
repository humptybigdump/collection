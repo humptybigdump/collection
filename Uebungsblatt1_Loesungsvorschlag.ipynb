{
 "cells": [
  {
   "cell_type": "markdown",
   "metadata": {},
   "source": [
    "# Übungsblatt 1\n",
    "\n",
    "Das vorliegende Jupyter Notebook ist das erste Übungsblatt, das im Rahmen der Studienleistung des Seminars <i>Programmieren für GeisteswissenschaftlerInnen</i> bearbeitet werden soll. Bitte lies vor der Bearbeitung den folgenden Abschnitt genau durch.\n",
    "\n",
    "## Wichtige Hinweise\n",
    "\n",
    "Das Übungsblatt kann bis zum <b>08.05.2023 um 8.00 Uhr</b> bearbeitet und auf Ilias hochgeladen werden. Verspätete Abgaben werden nicht mehr gewertet.\n",
    "\n",
    "Die Punktzahl, die in diesem Übungsblatt maximal erreicht werden kann, beträgt 20 Punkte (+1 Bonuspunkt). \n",
    "\n",
    "Jeder Teilnehmer und jede Teilnehmerin muss eine eigene Lösung abgeben, d.h. es ist zwar zulässig, sich über die Aufgaben auszutauschen, der Code muss allerdings eigenständig geschrieben werden. Das Abschreiben von Code resultiert beim ersten Mal in einer Bewertung des aktuellen Übungsblatts mit null Punkten und bei einer Wiederholung im Nichtbestehen der Studienleistung. Auch die Erstellung von Lösungen durch ChatGPT o.Ä. ist nicht gestattet ;) \n",
    "\n",
    "Treten bei der Bearbeitung Unklarheiten auf, können diese im Ilias-Forum kommuniziert werden. Inhaltliche Hinweise / Lösungen dürfen natürlich nicht veröffentlicht werden.\n",
    "\n",
    "## Aufgabe 1 (2 Punkte)\n",
    "\n",
    "<img style=\"float: left;\" src=\"resources/img/laptop_icon.png\" width=50 height=50 /> <br><br>\n",
    "<i> a) Definiere Variablen für deinen Vornamen, Nachnamen und deine Matrikelnummer (wähle 1234, wenn du keine hast) und gebe sie mit Hilfe der print-Funktion in einem geeigneten Text aus. (1 Punkt) </i>"
   ]
  },
  {
   "cell_type": "code",
   "execution_count": null,
   "metadata": {},
   "outputs": [],
   "source": [
    "vorname = \"Max\"\n",
    "nachname = \"Mustermann\"\n",
    "matrikelnummer = 12345678\n",
    "print(f\"Hallo! Mein Name ist {vorname} {nachname}. Meine Matrikelnummer lautet {matrikelnummer}.\")"
   ]
  },
  {
   "cell_type": "markdown",
   "metadata": {},
   "source": [
    "<img style=\"float: left;\" src=\"resources/img/laptop_icon.png\" width=50 height=50 /> <br><br>\n",
    "<i>b) Korrigiere die Fehler im folgenden Codefeld ohne dabei die Variablen zu löschen. (1 Punkt)</i>"
   ]
  },
  {
   "cell_type": "code",
   "execution_count": null,
   "metadata": {},
   "outputs": [],
   "source": [
    "text = \"Hallo!\"\n",
    "zahl = 5\n",
    "bedigung = True\n",
    "print(text, \"Meine Lieblingszahl ist\", zahl)"
   ]
  },
  {
   "cell_type": "markdown",
   "metadata": {},
   "source": [
    "## Aufgabe 2 (3 Punkte)\n",
    "\n",
    "<img style=\"float: left;\" src=\"resources/img/laptop_icon.png\" width=50 height=50 /> <br><br>\n",
    "<i> Folge den Kommentaren im folgenden Codefeld. (3 Punkte) </i>"
   ]
  },
  {
   "cell_type": "code",
   "execution_count": null,
   "metadata": {},
   "outputs": [],
   "source": [
    "text = \"Handle nur nach derjenigen Maxime, durch die du zugleich wollen kannst,\"\n",
    "\n",
    "# Hänge an die Variable 'text' die Zeichenkette \"dass sie ein allgemeines Gesetz werde.\" an.\n",
    "text += \"dass sie ein allgemeines Gesetz werde.\"\n",
    "\n",
    "# Gib die ersten 6 Zeichen der Variable 'text' aus.\n",
    "print(text[:6])\n",
    "\n",
    "# Gib das 12. Zeichen der Variabel 'text' aus.\n",
    "print(text[12])\n",
    "\n",
    "# Gib den Bereich vom 20. bis auschließlich dem 33. Zeichen von 'text' aus.  \n",
    "print(text[20:33])\n",
    "\n",
    "# Gib das letzte Zeichen von 'text' aus ohne zu zählen, wie viele Zeichen die Zeichenkette enthält.\n",
    "print(text[-1])\n",
    "\n",
    "# Gib die letzten 6 Zeichen von 'text' aus ohne zu zählen, wie viele Zeichen die Zeichenkette enthält.\n",
    "print(text[-6:])\n",
    "\n",
    "# Gib die Anzahl der Zeichen der Variablen 'text' aus (recherchiere im Internet, wie das möglich ist).\n",
    "print(len(text))\n"
   ]
  },
  {
   "cell_type": "markdown",
   "metadata": {},
   "source": [
    "## Aufgabe 3 (5 Punkte)\n",
    "\n",
    "<img style=\"float: left;\" src=\"resources/img/laptop_icon.png\" width=50 height=50 /> <br><br>\n",
    "<i>a) Gib für den folgenden Sachverhalt aus, wer in Abhängigkeit von den Veränderlichen die Rechnung bezahlen muss. (2 Punkte) <br><br> Immanuel und John Stuart sind jeden Montag zum Mittagessen in einer Bierstube verabredet. Sie befolgen immer die folgende Maxime, um zu bestimmen, wer an diesem Tag zahlen muss: Wenn die Anzahl der Bierkrüge, die sich aktuell im Schrank befinden, minus der Anzahl der Buchstaben des Vornamen der Person, die sie an diesem Tag bewirtet, größer oder gleich 7 ist, muss Immanuel zahlen. Wenn diese Differenz kleiner 4 ist, muss John Stuart zahlen. Ansonsten zahlt jeder die Hälfte des Rechnungsbetrags.</i>"
   ]
  },
  {
   "cell_type": "code",
   "execution_count": null,
   "metadata": {},
   "outputs": [],
   "source": [
    "# Variiere die Werte dieser Variablen, um festzustellen, ob du das gewünschte Ergebnis erzielst.\n",
    "anzahl_bierkruege = 15\n",
    "wirt = \"David\"\n",
    "\n",
    "# Füge hier deinen Code ein.\n",
    "if anzahl_bierkruege - len(wirt) >= 7:\n",
    "    print(\"Immanuel zahlt!\")\n",
    "elif anzahl_bierkruege - len(wirt) < 4:\n",
    "    print(\"John Stuart zahlt!\")\n",
    "else:\n",
    "    print(\"Jeder zahlt die Hälfte!\")\n"
   ]
  },
  {
   "cell_type": "markdown",
   "metadata": {},
   "source": [
    "<img style=\"float: left;\" src=\"resources/img/laptop_icon.png\" width=50 height=50 /> <br><br>\n",
    "<i>b) Eine geometrische Form hat folgende Eigenschaften:\n",
    "    <ul>\n",
    "        <li>Sie ist entweder eckig oder rund.</li>\n",
    "        <li>Sie ist in der Farbe rot, blau, grün oder gelb gefärbt.</li>\n",
    "        <li>Sie hat einen Flächeninhalt, der in Quadratzentimeter angegeben wird.</li>\n",
    "    </ul>\n",
    "\n",
    "\n",
    "Folge den Kommentaren im Code, um herauszufinden, welche Aussagen für die Figur mit den gegebenen Eigenschaften ausgegeben werden müssen. (3 Punkte)</i>"
   ]
  },
  {
   "cell_type": "code",
   "execution_count": null,
   "metadata": {},
   "outputs": [],
   "source": [
    "# Variiere die Werte dieser Variablen, um festzustellen, ob du das gewünschte Ergebnis erzielst.\n",
    "rund = True \n",
    "farbe = \"blau\"\n",
    "flaeche = 55\n",
    "\n",
    "# Wenn die Figur rund und blau ist, dann gib 'Blauer Kreis' aus.\n",
    "if rund and farbe == \"blau\":\n",
    "    print(\"Blauer Kreis!\")\n",
    "\n",
    "# Wenn die Figur nicht gelb oder eckig ist, dann gib 'Nicht gelb oder eckig' aus.\n",
    "if farbe != \"gelb\" or rund == False:\n",
    "    print(\"Nicht gelb oder eckig.\")\n",
    "\n",
    "# Wenn die Figur rund, rot und einen Flächeninhalt zwischen 40 und 60 Quadratzentimetern hat, \n",
    "# dann gib 'Mittlerer, roter Kreis' aus.\n",
    "if rund and farbe == \"rot\" and (40 < flaeche < 60):\n",
    "    print(\"Mittlerer, roter Kreis!\")\n",
    "\n",
    "# Wenn die Figur grün ist, dann gib 'Farbe: Grün' aus, wenn sie blau ist, dann 'Farbe: Blau', ansonsten 'Farbe: ?'.\n",
    "if farbe == \"grün\":\n",
    "    print(\"Farbe: Grün\")\n",
    "elif farbe == \"blau\":\n",
    "    print(\"Farbe: Blau\")\n",
    "else:\n",
    "    print(\"Farbe: ?\")\n",
    "\n",
    "# Wenn die Figur nicht eckig ist, nicht blau ist oder einen Flächeninhalt von über 100 Quadratzentimetern hat,\n",
    "# gib 'ALARM' aus.\n",
    "if rund or farbe != \"blau\" or flaeche > 100:\n",
    "    print(\"ALARM\")\n",
    "\n",
    "# Wenn der Flächeninhalt der Figur kleiner 10 Quadratzentimetern ist, die Figur eckig ist und blau oder gelb ist,\n",
    "# gib 'Klein, blau oder gelb und eckig' aus.\n",
    "if flaeche < 10 and rund == False and (farbe == \"blau\" or farbe == \"gelb\"):\n",
    "    print(\"Klein, blau oder gelb und eckig.\")\n"
   ]
  },
  {
   "cell_type": "markdown",
   "metadata": {},
   "source": [
    "## Aufgabe 4 (5 Punkte + 1 Bonuspunkt)\n",
    "\n",
    "Mit der folgenden Codezeile ist es möglich eine Eingabe von einem/einer Benutzer/in in einer Variablen zu speichern."
   ]
  },
  {
   "cell_type": "code",
   "execution_count": null,
   "metadata": {},
   "outputs": [],
   "source": [
    "# Zeichenketteneingabe\n",
    "name = input(\"Wie heißt du? \")\n",
    "\n",
    "# Zahleneingabe\n",
    "zahl = int(input(\"Gib deinen Lieblingszahl ein: \"))\n",
    "\n",
    "print(f\"Hallo {name}! Deine Lieblingszahl ist {zahl}!\")"
   ]
  },
  {
   "cell_type": "markdown",
   "metadata": {},
   "source": [
    "<img style=\"float: left;\" src=\"resources/img/laptop_icon.png\" width=50 height=50 /> <br><br>\n",
    "<i>Setze folgenden Sachverhalt in Code um: <br><br>\n",
    "Du möchtest mit deiner Nachbarin in der Pause ein bestimmtes Spiel spielen. Dafür legt ihr alle Kugelschreiber, die ihr dabei habt, vor euch in einer Reihe auf den Tisch. Es sind genau 16. Nun nehmt ihr immer abwechselnd entweder einen, zwei oder drei Kugelschreiber vom Tisch. Wer den letzten Kugelschreiber nimmt, gewinnt das Spiel. Anschließend überlegt ihr euch, ob ihr das Spiel noch einmal spielt.<br><br>\n",
    "\n",
    "Die Kommentare im Code sollen dir bei der Umsetzung des Spiels helfen. (5 Punkte)</i>"
   ]
  },
  {
   "cell_type": "code",
   "execution_count": null,
   "metadata": {},
   "outputs": [],
   "source": [
    "# Benutze eine while-Schleife, um die Abfragen der Züge solange durchzuführen\n",
    "# bis keine Kugelschreiber mehr auf dem Tisch liegen.\n",
    "# Führe Variablen ein, die für die Modellierung des Spiels benötigt werden.\n",
    "\n",
    "# Gibt ein Spieler / eine Spielerin eine ungültige Zahl an, \n",
    "# dann führe die Abfrage noch einmal durch.  \n",
    "\n",
    "# Gib nach jedem Zug die aktuelle Anzahl an Kugelschreibern aus.\n",
    "\n",
    "# Gib nach Beendigung des Spiels den Gewinner / die Gewinnerin aus.\n",
    "\n",
    "# Frage ab, ob das Spiel neugestartet werden soll. \n",
    "# Eventuell benötigst du eine zweite while-Schleife, um das Spiel neuzustarten.\n",
    "\n",
    "neustart = True\n",
    "\n",
    "while neustart:\n",
    "    \n",
    "    # Frage zu Beginn die Name der beiden SpielerInnen und speichere sie in Variablen ab.\n",
    "    name1 = input(\"Name SpielerIn 1: \")\n",
    "    name2 = input(\"Name SpielerIn 2: \")\n",
    "    \n",
    "    anzahl = 16\n",
    "    spieler_1_am_zug = True\n",
    "    \n",
    "    while anzahl > 0:\n",
    "\n",
    "        aktueller_zug = -1\n",
    "        while aktueller_zug != 1 and aktueller_zug != 2 and aktueller_zug != 3:\n",
    "            if spieler_1_am_zug:\n",
    "                aktueller_zug = int(input(f\"Zug {name1}: \"))\n",
    "            else:\n",
    "                aktueller_zug = int(input(f\"Zug {name2}: \"))\n",
    "\n",
    "        # Gezogene Anzahl der Kugelschreiber wird von der Gesamtzahl abgezogen.\n",
    "        anzahl -= aktueller_zug\n",
    "\n",
    "        if anzahl > 0:\n",
    "            print(f\"Es befinden sich {anzahl} Kugelschreiber auf dem Tisch.\")\n",
    "        else:\n",
    "            if spieler_1_am_zug:\n",
    "                print(f\"Glückwunsch {name1}.\")\n",
    "            else: \n",
    "                print(f\"Glückwunsch {name2}.\")\n",
    "\n",
    "        # Wahrheitswert der Variable wird umgekehrt.\n",
    "        spieler_1_am_zug = not spieler_1_am_zug\n",
    "        \n",
    "        \n",
    "    eingabe = input(\"Möchtet ihr das Spiel neustarten? (j/n)\")\n",
    "    if eingabe == \"j\":\n",
    "        print(\"Das Spiel wird neugestartet.\")\n",
    "    elif eingabe == \"n\":\n",
    "        neustart = False\n",
    "        print(\"Das Spiel wurde beendet.\")\n",
    "    else:\n",
    "        neustart = False\n",
    "        print(\"Unbekannte Eingabe. Das Spiel wurde beendet.\")"
   ]
  },
  {
   "cell_type": "code",
   "execution_count": null,
   "metadata": {},
   "outputs": [],
   "source": [
    "# Bonusaufgabe (1 Punkt): Umreiße die optimale Strategie in wenigen Worten.\n",
    "\n",
    "# Beste Strategie: Nehme immer so viele Kugelschreiber vom Tisch, dass die Anzahl durch 4 teilbar ist.\n",
    "# Wenn beide die optimale Strategie anwenden, hängt der Gewinner von der Startanzahl \n",
    "# und dem Los ab, wer zuerst ziehen muss.\n"
   ]
  },
  {
   "cell_type": "markdown",
   "metadata": {},
   "source": [
    "## Aufgabe 5 (5 Punkte)\n",
    "\n",
    "Setze die Lösungen folgender Aufgaben mit einer <b>for-Schleife</b> um. <b>Andere Lösungen werden nicht gewertet</b>.\n",
    "\n",
    "<img style=\"float: left;\" src=\"resources/img/laptop_icon.png\" width=50 height=50 /> <br><br>\n",
    "<i>a) Einzelne Wörter werden in einem Text durch Leerzeichen getrennt. Gib für einen beliebigen Eingabetext die Anzahl der Wörter und Satzzeichen (nur Punkt, Doppelpunkt, Ausrufezeichen, Fragezeichen und Komma) aus. (2 Punkte)</i>"
   ]
  },
  {
   "cell_type": "code",
   "execution_count": null,
   "metadata": {},
   "outputs": [],
   "source": [
    "# Variiere diese Eingabe, um sicherzugehen, ob du das gewünschte Ergebnis erzielst.\n",
    "text = \"Handle nur nach derjenigen Maxime, durch die du zugleich wollen kannst, \\\n",
    "dass sie ein allgemeines Gesetz werde.\"\n",
    "\n",
    "# Füge deinen Code hier ein.\n",
    "anzahl_woerter = 0\n",
    "anzahl_satzzeichen = 0\n",
    "for zeichen in text:\n",
    "    if zeichen == \" \":\n",
    "        anzahl_woerter += 1\n",
    "    \n",
    "    if zeichen == \".\" or zeichen == \":\" or zeichen == \"!\" or zeichen == \"?\" or zeichen == \",\":\n",
    "        anzahl_satzzeichen += 1\n",
    "\n",
    "anzahl_woerter += 1\n",
    "\n",
    "print(\"Anzahl Wörter:\", anzahl_woerter)\n",
    "print(\"Anzahl Satzzeichen:\", anzahl_satzzeichen)"
   ]
  },
  {
   "cell_type": "markdown",
   "metadata": {},
   "source": [
    "Folgendes Codefeld kann dir bei der Lösung der nächsten Aufgabe helfen."
   ]
  },
  {
   "cell_type": "code",
   "execution_count": null,
   "metadata": {},
   "outputs": [],
   "source": [
    "# Löschen von Zeichen in einer Zeichenkette.\n",
    "string = \"Hallo Welt\"\n",
    "print(string)\n",
    "string = string[6:]\n",
    "print(string)\n",
    "\n",
    "print('\\n######\\n')\n",
    "\n",
    "# Abbruch einer for-Schleife durch 'break'\n",
    "for buchstabe in \"ABCDEFGH\":\n",
    "    print(buchstabe)\n",
    "    if buchstabe == 'E':\n",
    "        break\n",
    "        \n",
    "print('\\n######\\n')\n",
    "        \n",
    "# Nach jedem Durchlauf einer for-Schleife den \n",
    "# Laufindex i um 2 erhöhen, funktioniert wie folgt.\n",
    "# Der Wert i beginnt bei 0 und wird solange um 2 erhöht,\n",
    "# bis die Bedingung i < 11 nicht mehr erfüllt ist.\n",
    "for i in range(0, 11, 2):\n",
    "    print(i)\n",
    "    \n",
    "print('\\n######\\n')\n",
    "    \n",
    "# Mit einer for-Schleife jedes zweite Zeichen ausgeben.\n",
    "text = \"Hallo Welt\"\n",
    "for i in range(0, len(text), 2):\n",
    "    print(text[i])"
   ]
  },
  {
   "cell_type": "markdown",
   "metadata": {},
   "source": [
    "\n",
    "<img style=\"float: left;\" src=\"resources/img/laptop_icon.png\" width=50 height=50 /> <br><br>\n",
    "<i>b) Formale Sprachen sind in der Theoretischen Informatik ein zentraler Untersuchungsgegenstand. Wir betrachten aus Gründen der Einfachheit nur formale Sprachen, deren Wörter ausschließlich aus den Zeichen 'a' und 'b' bestehen.\n",
    "    \n",
    "Eine sogenannte reguläre Sprachen kann durch einen regulären Ausdruck festgelegt werden. Der reguläre Ausdruck „ab (ba)* a” umfasst die Sprache, die genau aus den Wörter besteht, die mit 'ab' beginnen, anschließend null oder beliebig viele 'ba' enthalten und deren letzes Zeichen 'a' ist. 'abbababaa', 'aba' oder 'abbaa' sind in der Sprache enthalten, 'ab', 'a' oder 'abbaba' dagegen nicht.\n",
    "    \n",
    "Überprüfe mit Hilfe von if-else-Anweisungen und for-Schleifen, ob ein Wort in der Sprache, die durch den regulären Ausdruck beschrieben wurde, liegt. (3 Punkte)</i>"
   ]
  },
  {
   "cell_type": "code",
   "execution_count": null,
   "metadata": {},
   "outputs": [],
   "source": [
    "# Füge deinen Code hier ein.\n",
    "\n",
    "wort = \"abbababaa\"\n",
    "teil_der_sprache = True\n",
    "    \n",
    "if wort[:2] != \"ab\" or wort[-1] != \"a\":\n",
    "    teil_der_sprache = False\n",
    "else:\n",
    "    wort = wort[2:]\n",
    "    wort = wort[:-1]\n",
    "    \n",
    "\n",
    "for i in range(0, len(wort), 2):\n",
    "    if wort[i] != \"b\": \n",
    "        teil_der_sprache = False\n",
    "        \n",
    "    if i+1 == len(wort):\n",
    "        teil_der_sprache = False\n",
    "        \n",
    "    elif wort[i+1] != \"a\": \n",
    "        teil_der_sprache = False \n",
    "\n",
    "if teil_der_sprache:\n",
    "    print(\"Wort ist Teil der Sprache.\")\n",
    "else:\n",
    "    print(\"Wort ist nicht Teil der Sprache.\")\n",
    "    "
   ]
  }
 ],
 "metadata": {
  "@webio": {
   "lastCommId": null,
   "lastKernelId": null
  },
  "kernelspec": {
   "display_name": "Python 3",
   "language": "python",
   "name": "python3"
  },
  "language_info": {
   "codemirror_mode": {
    "name": "ipython",
    "version": 3
   },
   "file_extension": ".py",
   "mimetype": "text/x-python",
   "name": "python",
   "nbconvert_exporter": "python",
   "pygments_lexer": "ipython3",
   "version": "3.6.12"
  }
 },
 "nbformat": 4,
 "nbformat_minor": 2
}
