{
 "cells": [
  {
   "cell_type": "markdown",
   "id": "f34e67f8",
   "metadata": {},
   "source": [
    "# Random Forests vs. Decision Tree\n",
    "\n",
    "We are building a random forest on our own and compare it to a decision tree."
   ]
  },
  {
   "cell_type": "markdown",
   "id": "df3fba43",
   "metadata": {},
   "source": [
    "First some imports:"
   ]
  },
  {
   "cell_type": "code",
   "execution_count": 1,
   "id": "69bb9bdd",
   "metadata": {},
   "outputs": [],
   "source": [
    "from sklearn.tree import DecisionTreeClassifier\n",
    "from sklearn.preprocessing import LabelEncoder\n",
    "import numpy as np\n",
    "import pandas as pd\n",
    "from openml.datasets import get_dataset\n",
    "import seaborn as sns\n",
    "import matplotlib.pyplot as plt\n",
    "sns.set()\n",
    "\n",
    "# a random number generator with fixed random state\n",
    "random_state = 0\n",
    "rng = np.random.default_rng(random_state)"
   ]
  },
  {
   "cell_type": "markdown",
   "id": "304f454b",
   "metadata": {},
   "source": [
    "Next we define our utility functions\n",
    "- data frame shuffling\n",
    "- computing the majority vote for each row in the provided data"
   ]
  },
  {
   "cell_type": "code",
   "execution_count": 2,
   "id": "92e120d0",
   "metadata": {},
   "outputs": [],
   "source": [
    "def shuffle_df(df: pd.DataFrame):\n",
    "    return df.sample(frac=1).reset_index(drop=True)\n",
    "\n",
    "\n",
    "def get_majority_vote(predictions: np.ndarray):\n",
    "    labels = []\n",
    "    for pred in predictions:\n",
    "        values, counts = np.unique(pred, return_counts=True)  # we want to count along the rows\n",
    "        max_index = np.argmax(counts)\n",
    "        label = values[max_index]\n",
    "        labels.append(label)\n",
    "    return np.array(labels)"
   ]
  },
  {
   "cell_type": "markdown",
   "id": "db04b6ad",
   "metadata": {},
   "source": [
    "## Building the Random Forest\n",
    "\n",
    "### Parameters:\n",
    "- the number of trees \n",
    "- the fraction of data points used to train each tree\n",
    "\n",
    "We set the number of dimensions for each tree to sqrt(d)"
   ]
  },
  {
   "cell_type": "code",
   "execution_count": 41,
   "id": "58079c16",
   "metadata": {},
   "outputs": [],
   "source": [
    "from __future__ import annotations\n",
    "\n",
    "class RandomForest:\n",
    "    def __init__(self, n_components: int,\n",
    "                 frac_observations_per_tree: float | str = 0.3,\n",
    "                 frac_features_per_tree: float | str = \"sqrt\"\n",
    "                ):\n",
    "        self.n_components = n_components\n",
    "        self.frac_observations_per_tree = frac_observations_per_tree\n",
    "        self.frac_features_per_tree = frac_features_per_tree\n",
    "        self.forest = [DecisionTreeClassifier() for _ in range(n_components)]\n",
    "        self.features_per_tree = []\n",
    "\n",
    "    # for now we only support dataframes, but we could extend our forest to also handle numpy arrays\n",
    "    def fit(self, X: pd.DataFrame, y: pd.Series):\n",
    "        n_data, n_dimensions = X.shape\n",
    "        \n",
    "        # compute the number of features used in each tree\n",
    "        if self.frac_features_per_tree == \"sqrt\":\n",
    "            num_features_per_tree = np.sqrt(n_dimensions).astype(int)\n",
    "        else:\n",
    "            num_features_per_tree = int(n_dimensions * self.frac_features_per_tree)\n",
    "        \n",
    "        # compute the number of observations used in each tree\n",
    "        if self.frac_observations_per_tree == \"sqrt\":\n",
    "            num_observations_per_tree = np.sqrt(n_data).astype(int)\n",
    "        else:\n",
    "            num_observations_per_tree = int(n_data * self.frac_observations_per_tree)\n",
    "        \n",
    "        self.features_per_tree = []  # we need to store those features for the prediction phase later on\n",
    "        all_data_indices = np.arange(len(y))\n",
    "        for tree in self.forest:\n",
    "            # subsample data and dimensions\n",
    "            sampled_indices = rng.choice(all_data_indices, size=num_observations_per_tree, replace=True)  # bootstrap\n",
    "            sampled_dimensions = rng.choice(X.columns, num_features_per_tree, replace=False)  # choose dimensions randomly\n",
    "            self.features_per_tree.append(sampled_dimensions)  # store those dimensions\n",
    "\n",
    "            # train tree\n",
    "            X_tree = X.loc[sampled_indices, sampled_dimensions]  # select samples and dimensions\n",
    "            y_tree = y.loc[sampled_indices]\n",
    "            tree.fit(X_tree, y_tree)  # fit the tree\n",
    "\n",
    "    def predict(self, X: pd.DataFrame):\n",
    "        predictions = [\n",
    "            tree.predict(X[dimensions])  # get the dimensions that belong to each tree\n",
    "            for dimensions, tree in zip(self.features_per_tree, self.forest)\n",
    "        ]\n",
    "        predictions = np.array(predictions).T  # this has shape (#data, #components)\n",
    "        labels = get_majority_vote(predictions)\n",
    "        return labels"
   ]
  },
  {
   "cell_type": "markdown",
   "id": "68579d51",
   "metadata": {},
   "source": [
    "## Evaluation\n",
    "\n",
    "### Dataset\n",
    "\n",
    "We classify measurements from 16 chemical sensors exposed to 6 gases at various levels of concentrations.\n",
    "\n",
    "There are six possible classes:\n",
    "\n",
    "1. Ethanol \n",
    "2. Ethylene  \n",
    "3. Ammonia \n",
    "4. Acetaldehyde \n",
    "5. Acetone \n",
    "6. Toluene\n",
    "\n",
    "- Our goal is to classify the type of gas from the measurements"
   ]
  },
  {
   "cell_type": "markdown",
   "id": "9ab42bad",
   "metadata": {},
   "source": [
    "### Data loading and preprocessing"
   ]
  },
  {
   "cell_type": "code",
   "execution_count": 42,
   "id": "12272d44",
   "metadata": {},
   "outputs": [],
   "source": [
    "GAS_IDENTIFICATION = 1476\n",
    "data = get_dataset(GAS_IDENTIFICATION).get_data()[0]\n",
    "data.dropna(axis=0, inplace=True)\n",
    "if \"id\" in data.columns:\n",
    "    data = data.drop(\"id\", axis=1)\n",
    "data = shuffle_df(data)\n",
    "data.rename({\"Class\": \"class\"}, axis=1, inplace=True)\n",
    "data[\"class\"] = LabelEncoder().fit_transform(data[\"class\"])"
   ]
  },
  {
   "cell_type": "markdown",
   "id": "9124e741",
   "metadata": {},
   "source": [
    "We compare four algorithms:"
   ]
  },
  {
   "cell_type": "code",
   "execution_count": 43,
   "id": "9c11578c",
   "metadata": {},
   "outputs": [],
   "source": [
    "algorithms = {\n",
    "    \"Decision tree\": DecisionTreeClassifier(),\n",
    "    \"Random forest (3)\": RandomForest(n_components=3),\n",
    "    \"Random forest (10)\": RandomForest(n_components=10),\n",
    "    \"Random forest (30)\": RandomForest(n_components=30),\n",
    "    \"Random forest (100)\": RandomForest(n_components=100),\n",
    "}"
   ]
  },
  {
   "cell_type": "markdown",
   "id": "ef617295",
   "metadata": {},
   "source": [
    "Cross validate each algorithm:"
   ]
  },
  {
   "cell_type": "code",
   "execution_count": 44,
   "id": "508fed71",
   "metadata": {},
   "outputs": [
    {
     "data": {
      "text/html": [
       "<div>\n",
       "<style scoped>\n",
       "    .dataframe tbody tr th:only-of-type {\n",
       "        vertical-align: middle;\n",
       "    }\n",
       "\n",
       "    .dataframe tbody tr th {\n",
       "        vertical-align: top;\n",
       "    }\n",
       "\n",
       "    .dataframe thead th {\n",
       "        text-align: right;\n",
       "    }\n",
       "</style>\n",
       "<table border=\"1\" class=\"dataframe\">\n",
       "  <thead>\n",
       "    <tr style=\"text-align: right;\">\n",
       "      <th></th>\n",
       "      <th></th>\n",
       "      <th>Accuracy</th>\n",
       "    </tr>\n",
       "    <tr>\n",
       "      <th>Algorithm</th>\n",
       "      <th>Data</th>\n",
       "      <th></th>\n",
       "    </tr>\n",
       "  </thead>\n",
       "  <tbody>\n",
       "    <tr>\n",
       "      <th rowspan=\"2\" valign=\"top\">Decision tree</th>\n",
       "      <th>Test</th>\n",
       "      <td>0.974694</td>\n",
       "    </tr>\n",
       "    <tr>\n",
       "      <th>Train</th>\n",
       "      <td>1.000000</td>\n",
       "    </tr>\n",
       "    <tr>\n",
       "      <th rowspan=\"2\" valign=\"top\">Random forest (10)</th>\n",
       "      <th>Test</th>\n",
       "      <td>0.986772</td>\n",
       "    </tr>\n",
       "    <tr>\n",
       "      <th>Train</th>\n",
       "      <td>0.994185</td>\n",
       "    </tr>\n",
       "    <tr>\n",
       "      <th rowspan=\"2\" valign=\"top\">Random forest (100)</th>\n",
       "      <th>Test</th>\n",
       "      <td>0.992739</td>\n",
       "    </tr>\n",
       "    <tr>\n",
       "      <th>Train</th>\n",
       "      <td>0.996837</td>\n",
       "    </tr>\n",
       "    <tr>\n",
       "      <th rowspan=\"2\" valign=\"top\">Random forest (3)</th>\n",
       "      <th>Test</th>\n",
       "      <td>0.963551</td>\n",
       "    </tr>\n",
       "    <tr>\n",
       "      <th>Train</th>\n",
       "      <td>0.977131</td>\n",
       "    </tr>\n",
       "    <tr>\n",
       "      <th rowspan=\"2\" valign=\"top\">Random forest (30)</th>\n",
       "      <th>Test</th>\n",
       "      <td>0.990582</td>\n",
       "    </tr>\n",
       "    <tr>\n",
       "      <th>Train</th>\n",
       "      <td>0.996382</td>\n",
       "    </tr>\n",
       "  </tbody>\n",
       "</table>\n",
       "</div>"
      ],
      "text/plain": [
       "                           Accuracy\n",
       "Algorithm           Data           \n",
       "Decision tree       Test   0.974694\n",
       "                    Train  1.000000\n",
       "Random forest (10)  Test   0.986772\n",
       "                    Train  0.994185\n",
       "Random forest (100) Test   0.992739\n",
       "                    Train  0.996837\n",
       "Random forest (3)   Test   0.963551\n",
       "                    Train  0.977131\n",
       "Random forest (30)  Test   0.990582\n",
       "                    Train  0.996382"
      ]
     },
     "execution_count": 44,
     "metadata": {},
     "output_type": "execute_result"
    }
   ],
   "source": [
    "from sklearn.model_selection import KFold\n",
    "\n",
    "n_folds = 10\n",
    "folds = KFold(n_splits=n_folds)\n",
    "\n",
    "df_columns = [\"Algorithm\", \"Fold\", \"Data\", \"Accuracy\"]\n",
    "result = []\n",
    "for i, (train_indices, test_indices) in enumerate(folds.split(data)):\n",
    "    train, test = data.iloc[train_indices].reset_index(), data.iloc[test_indices].reset_index()\n",
    "    for alg_name, algorithm in algorithms.items():\n",
    "        algorithm.fit(train.drop(\"class\", axis=1), train[\"class\"])\n",
    "        \n",
    "        y_pred_test = algorithm.predict(test.drop(\"class\", axis=1))\n",
    "        correct_test = y_pred_test == test[\"class\"]\n",
    "        acc_test = np.mean(correct_test)\n",
    "        \n",
    "        y_pred_train = algorithm.predict(train.drop(\"class\", axis=1))\n",
    "        correct_train = y_pred_train == train[\"class\"]\n",
    "        acc_train = np.mean(correct_train)\n",
    "        \n",
    "        result.append([alg_name, i, \"Train\", acc_train])\n",
    "        result.append([alg_name, i, \"Test\", acc_test])\n",
    "        \n",
    "result_df = pd.DataFrame(result, columns=df_columns)\n",
    "result_df.groupby([\"Algorithm\", \"Data\"]).mean().drop(\"Fold\", axis=1)"
   ]
  },
  {
   "cell_type": "markdown",
   "id": "fd57a307",
   "metadata": {},
   "source": [
    "- Evaluate the algorithms on train and test data\n",
    "- Store the results in a dataframe"
   ]
  },
  {
   "cell_type": "markdown",
   "id": "bf1cbd37",
   "metadata": {},
   "source": [
    "Let's have a look at the result:"
   ]
  },
  {
   "cell_type": "code",
   "execution_count": 45,
   "id": "ff4a9daf",
   "metadata": {},
   "outputs": [
    {
     "data": {
      "image/png": "[encoded data removed]",
      "text/plain": [
       "<Figure size 432x288 with 1 Axes>"
      ]
     },
     "metadata": {},
     "output_type": "display_data"
    }
   ],
   "source": [
    "sns.barplot(data=result_df, x=\"Data\", y=\"Accuracy\", hue=\"Algorithm\")\n",
    "plt.ylim((np.min(result_df[\"Accuracy\"]) - 0.01, 1.0))\n",
    "plt.title(\"Comparison of decision tree and random forests\")\n",
    "plt.legend(loc=\"lower left\")\n",
    "plt.tight_layout(pad=.5)\n",
    "plt.show()"
   ]
  },
  {
   "cell_type": "markdown",
   "id": "23a2a507",
   "metadata": {},
   "source": [
    "### Interpretation\n",
    "\n",
    "- Decision tree has perfect performance on training data but lowest performance on test data\n",
    "    - overfitting\n",
    "    \n",
    "- Performance of random forest increases with number of components but saturates eventually"
   ]
  },
  {
   "cell_type": "code",
   "execution_count": null,
   "id": "275e5744",
   "metadata": {},
   "outputs": [],
   "source": []
  }
 ],
 "metadata": {
  "kernelspec": {
   "display_name": "E2_kernel",
   "language": "python",
   "name": "e2_kernel"
  },
  "language_info": {
   "codemirror_mode": {
    "name": "ipython",
    "version": 3
   },
   "file_extension": ".py",
   "mimetype": "text/x-python",
   "name": "python",
   "nbconvert_exporter": "python",
   "pygments_lexer": "ipython3",
   "version": "3.8.10"
  }
 },
 "nbformat": 4,
 "nbformat_minor": 5
}
