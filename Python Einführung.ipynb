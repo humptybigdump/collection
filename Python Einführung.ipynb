{
 "cells": [
  {
   "cell_type": "markdown",
   "metadata": {},
   "source": [
    "Python ist eine interpretierte Programmiersprache, die besonders in machine learning und data science, aber auch in vielen anderen Bereichen der Informatik verwendet wird. Weil Python Skripte einfach an einen Interpreter übergeben werden können (wie z.B. bash Skripte), wird es oftmals auch als Automatisierungstool benutzt, wenn mehr Funktionalität oder eine modernere Syntax erwünscht ist als bash.\n",
    "\n",
    "Dass Python eine interpretierte, nicht eine kompilierte Sprache ist, ist gleichzeitig seine größte Stärke und Schwäche: Dass kein Kompilieren notwendig ist, erlaubt sehr schnelle Iterationen, eine Idee kann schnell umgesetzt und getested werden. Besonders in der Wissenschaft ist Python deswegen beliebt. Allerdings sorgt der Garbage Collector und der Interpreter dafür, dass Python auf bestimmten Aufgaben deutlich langsamer ist, als andere Programmiersprachen wie C++ oder java.\n",
    "\n",
    "Trotzdem wird Python gerade bei Machine Learning Aufgaben auch im High Performance Computing eingesetzt, wo Geschwindigkeit essentiell ist. Bei diesen Aufgaben werden externe Bibliotheken genutzt, die in anderen Sprachen geschrieben sind und lediglich ein API in Python bereit stellen.\n",
    "\n",
    "Neben der Python sprache selbst, die mit einer Umfangreichen Standardbibliothek kommt, gibt es auch zahlreiche Bibliotheken, die normalerweise über einen Paketmanager verwaltet werden. Auf Linux können Sie dafür natürlich ihren System-Paketmanager verwenden, aber es ist üblich, einen eigenen Manager zu benutzen, der für unterschiedliche Projekte voneinander getrennte Umgebungen verwalten kann, so dass jedes Projekt (nur) die notwendigen Bibliotheken in der jeweils richtigen Version zur Verfügung hat. Wir empfehlen dafür Anaconda, welches für alle gängigen Betriebssysteme verfügbar ist."
   ]
  },
  {
   "cell_type": "markdown",
   "metadata": {},
   "source": [
    "### Grundlagen\n",
    "Sie können mit dem Python Interpreter auf unterschiedliche Arten interagieren\n",
    "* Im interaktiven Modus: Rufen Sie dafür einfach `python` auf\n",
    "* Mit einem Skript: Schreiben Sie ihren Code in eine Textdatei mit der Dateiendung `.py` und rufen Sie `python meinskript.py` auf\n",
    "* Jupyter Notebooks bieten etwas von beidem: In ihnen kann man Code interaktiv bearbeiten und auch gleich ausführen, kann frühere Teile ändern und erneut ausführen und außerdem Code mit Markdown annotieren. Diese Einführung ist auch als Jupyter Notebook verfügbar\n",
    "\n",
    "#### Primitive Typen"
   ]
  },
  {
   "cell_type": "code",
   "execution_count": 1,
   "metadata": {},
   "outputs": [
    {
     "name": "stdout",
     "output_type": "stream",
     "text": [
      "5.0\n",
      "a\n",
      "False\n",
      "<class 'float'>\n"
     ]
    }
   ],
   "source": [
    "name = 'Chapman'  # Der Variable name wird der string \"Chapman\" zugewiesen. Sie können \" oder ' verwenden\n",
    "number1 = 0.5 * 4 + 1\n",
    "number2 = 25 ** 0.5  # Der ** Operator ist für exponentialrechnung, also 25^0.5 = sqrt(25)\n",
    "print(number2)  # Für Konsolenausgabe\n",
    "print(name[2])  # Den dritten Buchstaben des strings (python ist 0-indiziert)\n",
    "print(number1 == number2)  # Da number1 != number2, wird False ausgegeben (beachten Sie die Großschreibung)\n",
    "print(type(number1))  # Datentyp der variable ist float"
   ]
  },
  {
   "cell_type": "markdown",
   "metadata": {},
   "source": [
    "In Python existieren mehrere eingebaute Typen – drei davon haben Sie oben bereits kennengelernt: numerische Werte (`bool`, `int`, `float`, `complex`), Sequenzen (`list`, `tuple`, `str`), Mengen (`set`) und assoziative Typen (`dict`). Mehr Details zu den einzelnen Typen ist unter [Pythons offizieller Dokumnetationsseite](https://docs.python.org/3/library/stdtypes.html) zu finden. Im Folgenden werden Sie Grundlegendes über diese\n",
    "Typen kennenlernen.\n",
    "\n",
    "#### Programmablauf-Steuerung"
   ]
  },
  {
   "cell_type": "markdown",
   "metadata": {},
   "source": [
    "Bevor Sie nun Ihre erste Schleife implementieren, sollten Sie wissen, dass Einrückungen (Leerzeichen bzw. Tabulatoren) in Python eine wichtige Rolle spielen: In Python wird der Programmablauf durch Einrückung gesteuert. Das Einrücken von Codezeilen ist obligatorisch, wie bspw. das richtige Setzten der geschweiften Klammern in java. Eine fehlerhafte Einrückung führt zu einem Fehler."
   ]
  },
  {
   "cell_type": "code",
   "execution_count": null,
   "metadata": {},
   "outputs": [],
   "source": [
    "last_3 = -1\n",
    "for i in range(100):  # Iteration über alle Werte 0 <= i < 100\n",
    "    if i % 3 == 0:    # Die Einrückung gibt an, was in die Schleife gehört. Statements, die einen Block eröffnen,\n",
    "                      # (for, if, while, class etc.) enden mit \":\"\n",
    "        print('3')\n",
    "        last_3 = i\n",
    "    print(i)"
   ]
  },
  {
   "cell_type": "markdown",
   "metadata": {},
   "source": [
    "#### Listen und Schleifen\n",
    "Im folgenden Code werden Sie mit Listen experimentieren. Die vorher definierte Variable `name` wird hier weiterverwendet. Der Zugriff auf die Zeichen dieses Strings erfolgt Analog zum Zugriff auf Listenelemente."
   ]
  },
  {
   "cell_type": "code",
   "execution_count": 6,
   "metadata": {},
   "outputs": [],
   "source": [
    "vowels = [\"k\", 'e', \"i\", \"l\", \"m\"]  # Initialisiere eine Liste.\n",
    "                                    # Beachten Sie, dass es keinen Unterschied zwischen \" und ' gibt\n",
    "                                    # Listen haben variable Länge und Elemente können Verändert werden\n",
    "                                    # vgl. std::vector und java.util.ArrayList\n",
    "vowels[0] = 'o'  # Ersetze falschen Eintrag am Anfang\n",
    "vowels[-1] = 'u'  # Negative Indizes zählen von hinten in der Liste, -1 ist der letzte Eintrag\n",
    "vowels[-2] = name[2]  # Setze zweitletzten Eintrag auf \"a\"\n",
    "# Mehrfachzuweisung zum Tauschen zweier Elemente\n",
    "vowels[0], vowels[3] = vowels[3], vowels[0]\n",
    "n = len(vowels)  # len gibt die Länge der Liste"
   ]
  },
  {
   "cell_type": "code",
   "execution_count": 7,
   "metadata": {},
   "outputs": [
    {
     "ename": "TypeError",
     "evalue": "'str' object does not support item assignment",
     "output_type": "error",
     "traceback": [
      "\u001b[1;31m---------------------------------------------------------------------------\u001b[0m",
      "\u001b[1;31mTypeError\u001b[0m                                 Traceback (most recent call last)",
      "\u001b[1;32m<ipython-input-7-40c5fbebb5eb>\u001b[0m in \u001b[0;36m<module>\u001b[1;34m\u001b[0m\n\u001b[0;32m      1\u001b[0m \u001b[1;31m# Strings können nicht bearbeitet werden:\u001b[0m\u001b[1;33m\u001b[0m\u001b[1;33m\u001b[0m\u001b[1;33m\u001b[0m\u001b[0m\n\u001b[1;32m----> 2\u001b[1;33m \u001b[0mname\u001b[0m\u001b[1;33m[\u001b[0m\u001b[1;36m2\u001b[0m\u001b[1;33m]\u001b[0m \u001b[1;33m=\u001b[0m \u001b[1;34m\"f\"\u001b[0m\u001b[1;33m\u001b[0m\u001b[1;33m\u001b[0m\u001b[0m\n\u001b[0m",
      "\u001b[1;31mTypeError\u001b[0m: 'str' object does not support item assignment"
     ]
    }
   ],
   "source": [
    "# Strings können nicht bearbeitet werden:\n",
    "name[2] = \"f\""
   ]
  },
  {
   "cell_type": "markdown",
   "metadata": {},
   "source": [
    "Mit einer Schleife können Sie über die oben erzeugte Liste zu iterieren. Sie können die print-Funktion verwenden, um Elemente auszugeben. Hier gibt es mehrere Möglichkeiten – in der [offiziellen Python-Dokumentation](https://docs.python.org/3/library/functions.html) finden Sie weitere Informationen zu `range` bzw. `enumerate`:"
   ]
  },
  {
   "cell_type": "code",
   "execution_count": null,
   "metadata": {},
   "outputs": [],
   "source": [
    "for i in range(n):\n",
    "    print(vowels[i])\n",
    "\n",
    "for vowel in vowels:\n",
    "    print(vowel)\n",
    "\n",
    "for i, vowel in enumerate(vowels):  # Es kann auch über mehrere Werte gleichzeitig iteriert werden\n",
    "    print(i, vowel)\n",
    "\n",
    "# Mit zip können zwei Sequenzen miteinander verbunden werden\n",
    "indices = range(n)\n",
    "for i, vowel in zip(indices, vowels):\n",
    "    print(i, vowel)"
   ]
  },
  {
   "cell_type": "markdown",
   "metadata": {},
   "source": [
    "Für Listen existieren in Python einige Operationen. Im Folgenden wird die Liste der Plosive\n",
    "sortiert, zwei Listen werden verkettet und ein Teil einer Liste wird ausgeschnitten:"
   ]
  },
  {
   "cell_type": "code",
   "execution_count": 9,
   "metadata": {},
   "outputs": [
    {
     "name": "stdout",
     "output_type": "stream",
     "text": [
      "['a', 'e', 'i']\n",
      "['e', 'i', 'o', 'u', 'ä', 'ö']\n"
     ]
    }
   ],
   "source": [
    "plosives = ['p', 'b', 't', 'd', 'c', 'k']\n",
    "plosives = sorted(plosives) # Sortiere Liste der Plosive\n",
    "vowels += ['ä', 'ö', 'ü'] # Konkateniere zwei Listen\n",
    "print(vowels[:3]) # Ersten drei Vokale - also die Indizes 0 <= i < 3\n",
    "print(vowels[1:-1]) # Lasse ersten und letzten Vokal weg"
   ]
  },
  {
   "cell_type": "markdown",
   "metadata": {},
   "source": [
    "Auch für Strings gibt es einige wichtige Operationen, die Sie kennen sollten. Dazu gehört das\n",
    "Ersetzen, Löschen und Aufteilen eines Strings:"
   ]
  },
  {
   "cell_type": "code",
   "execution_count": 12,
   "metadata": {},
   "outputs": [
    {
     "name": "stdout",
     "output_type": "stream",
     "text": [
      " Guenther Ruediger Mueller \n",
      "['ü', 'e', 'ü', 'i', 'e', 'ü', 'e', 'G', 'n', 't', 'h', 'r', ' ', 'R', 'd', 'g', 'r', ' ', 'M', 'l', 'l', 'r']\n"
     ]
    }
   ],
   "source": [
    "name_gm = \" Günther Rüdiger Müller \"\n",
    "print(name_gm.replace('ü', 'ue')) # Ersetze Umlaut \"ü\" - der ursprüngliche string wird nicht modifiziert\n",
    "name_gm = name_gm.strip() # Lösche Leerzeichen am Anfang und Ende\n",
    "first1, first2, last = name_gm.split(' ')\n",
    "first, _ = name_gm.rsplit(' ', maxsplit=1)\n",
    "# Sortiere Buchstaben des Namens (Vokale zuerst)\n",
    "print(sorted(name_gm, key=lambda x: x.lower() in vowels, reverse=True))"
   ]
  },
  {
   "cell_type": "markdown",
   "metadata": {},
   "source": [
    "Übergeben Sie der Funktion strip() keinen Parameter werden Leerzeichen am Ende und Anfang eines Strings gelöscht, Sie können aber beliebige Zeichenketten entfernen, bspw. strip('asdf'). Analog zu strip(...) existieren die Funktionen lstrip(...) und rstrip(...), die jeweils Zeichenketten nur links bzw. rechts entfernen.\n",
    "\n",
    "Mittels split(...) bzw. rsplit(...) wird der String in einzelne Teilstrings zerteilt (siehe [Dokumentationsseite](https://docs.python.org/3/library/stdtypes.html#str.split)).\n",
    "\n",
    "Mit dem Unterstrich _ gibt man in Codezeile 5 an, dass man nicht an der Rückgabe dieser Variable interessiert ist.\n",
    "Um die Sortierfunktion genauer zu verstehen, sollte Sie sich Teile der [Dokumentation](https://docs.python.org/3/howto/sorting.html#sortinghowto) anschauen.\n",
    "\n",
    "Auf den Lambda-Operator wird später in eingegangen.\n",
    "\n",
    "#### Formatierung\n",
    "Sie können in Python variablen direkt in strings einpassen. Dabei können Sie auch Angaben für die Formatierung machen (z.B. auf zwei Zeichen auffüllen).\n",
    "Auf [dieser Seite](https://pyformat.info) können Sie bei Bedarf recht übersichtlich Formatiertungsmuster nachschlagen."
   ]
  },
  {
   "cell_type": "code",
   "execution_count": 13,
   "metadata": {},
   "outputs": [
    {
     "name": "stdout",
     "output_type": "stream",
     "text": [
      "Vowel 001: a\n",
      "Vowel 002: e\n",
      "Vowel 003: i\n",
      "Vowel 004: o\n",
      "Vowel 005: u\n",
      "Vowel 006: ä\n",
      "Vowel 007: ö\n",
      "Vowel 008: ü\n"
     ]
    }
   ],
   "source": [
    "for i, vowel in enumerate(vowels):\n",
    "    print(f\"Vowel {i+1:03d}: {vowel}\")  # Beachten Sie das \"f\" vor dem string"
   ]
  },
  {
   "cell_type": "markdown",
   "metadata": {},
   "source": [
    "Sollte das letzte Codebeispiel für Sie nicht funktioniert haben, benutzen Sie eine Pythonversion vor 3.6. In diesem Fall können Sie dieses (äquivalente) Format benutzen:"
   ]
  },
  {
   "cell_type": "code",
   "execution_count": 14,
   "metadata": {},
   "outputs": [
    {
     "name": "stdout",
     "output_type": "stream",
     "text": [
      "Vowel 001: a\n",
      "Vowel 002: e\n",
      "Vowel 003: i\n",
      "Vowel 004: o\n",
      "Vowel 005: u\n",
      "Vowel 006: ä\n",
      "Vowel 007: ö\n",
      "Vowel 008: ü\n"
     ]
    }
   ],
   "source": [
    "for i, vowel in enumerate(vowels):\n",
    "    print(\"Vowel {:03d}: {}\".format(i+1, vowel))"
   ]
  },
  {
   "cell_type": "markdown",
   "metadata": {},
   "source": [
    "#### Mengen und assoziative Typen\n",
    "Möchten Sie nun wissen ob sich ein Buchstabe in der Liste der Vokale (Länge n) befindet, können Sie über diese Liste iterieren. Da diese sequentielle Suche eine Laufzeit in O(n) besitzt, sollte hier bei größeren Datenmengen ein `set` verwendet werden. Im folgenden Codebeispiel wird die Vokalliste in ein `set` übertragen und pro Buchstaben des vorher definierten Namens überprüft, ob es sich um einen Vokal handelt."
   ]
  },
  {
   "cell_type": "code",
   "execution_count": 16,
   "metadata": {},
   "outputs": [
    {
     "name": "stdout",
     "output_type": "stream",
     "text": [
      "Letter 0 (c) is no vowel.\n",
      "Letter 1 (h) is no vowel.\n",
      "Letter 2 (a) is a vowel.\n",
      "Letter 3 (p) is no vowel.\n",
      "Letter 4 (m) is no vowel.\n",
      "Letter 5 (a) is a vowel.\n",
      "Letter 6 (n) is no vowel.\n"
     ]
    }
   ],
   "source": [
    "# Füge Vokale in die neue Datenstruktur ein:\n",
    "vowel_set = set()\n",
    "for vowel in vowels:\n",
    "    vowel_set.add(vowel)\n",
    "vowel = set(vowel) # Alternative zum vorherigen Code\n",
    "# Überprüfe ob die Buchstaben des Namens ein Vokal sind:\n",
    "for i, letter in enumerate(name):\n",
    "    letter = letter.lower() # Wandle Groß- in Kleinbuchstaben um\n",
    "    if letter in vowel_set:\n",
    "        print(f'Letter {i:d} ({letter}) is a vowel.')\n",
    "    else:\n",
    "        print(f'Letter {i:d} ({letter}) is no vowel.')"
   ]
  },
  {
   "cell_type": "markdown",
   "metadata": {},
   "source": [
    "Möchten Sie nun bspw. zu einem Nachnamen (Key) einen Vornamen (Value) nachschlagen benötigen sie einen assoziativen Datentyp, ein `dict`:"
   ]
  },
  {
   "cell_type": "code",
   "execution_count": 19,
   "metadata": {},
   "outputs": [
    {
     "name": "stdout",
     "output_type": "stream",
     "text": [
      "Chapman Graham\n"
     ]
    },
    {
     "data": {
      "text/plain": [
       "'Graham Arthur'"
      ]
     },
     "execution_count": 19,
     "metadata": {},
     "output_type": "execute_result"
    }
   ],
   "source": [
    "lastnames = {'Chapman': 'Graham', 'Cleese': 'John',\n",
    "             'Giliam': 'Terry', 'Idle': 'Eric',\n",
    "             'Jones': 'Terry', 'Palin': 'Michael'}\n",
    "if name in lastnames:\n",
    "    print(f'{name} {lastnames[name]}')\n",
    "    lastnames[name] += ' Arthur'\n",
    "# Alternative mit Standardwert, falls Key nicht gefunden:\n",
    "lastnames.get(name, 'Name not in dict')"
   ]
  },
  {
   "cell_type": "markdown",
   "metadata": {},
   "source": [
    "Der Code beschreibt die Initialisierung eines Dictionarys, den lesenden, sowie den schreibenden Zugriff. Wie Sie nun auf die Menge der Keys (bspw. 'Chapman') oder Values (bspw. 'John') zugreifen, finden Sie in der oben erwähnten Dokumentationsseite.\n",
    "\n",
    "### Funktionen\n",
    "Im Folgenden sehen Sie eine Definition einer Funktion. Wie der Name bereits verrät, berechnet die Funktion die Anzahl der Vokale des übergebenen Wortes. Die Angabe der Typen der Parameter und die Angabe des Rückgabetyps einer Funktion sind optional, werden aber in den [Python Enhancement Proposals (PEP) 8](https://www.python.org/dev/peps/) empfohlen (benötigt mindestens Version 3.5)."
   ]
  },
  {
   "cell_type": "code",
   "execution_count": 22,
   "metadata": {},
   "outputs": [
    {
     "name": "stdout",
     "output_type": "stream",
     "text": [
      "Eric Idle contains 4 vowels.\n"
     ]
    }
   ],
   "source": [
    "def count_vowels(word: str) -> int:\n",
    "    vowel_count = 0\n",
    "    for char in word:\n",
    "        if char.lower() in vowel_set:\n",
    "            vowel_count += 1\n",
    "    return vowel_count\n",
    "\n",
    "name = \"Eric Idle\"\n",
    "n = count_vowels(name)\n",
    "print(f'{name} contains {n:d} vowels.')"
   ]
  },
  {
   "cell_type": "markdown",
   "metadata": {},
   "source": [
    "Darüber hinaus ist es in Python möglich anonyme Funktionen zu definieren (mit Hilfe des Lambda-Operators). Das wird meistens verwendet für Funktionen, die nur aus einem Befehl bestehen und die nicht wiederverwendet werden müssen, wie zum Beispiel die Schlüsselfunktion beim Sortieren."
   ]
  },
  {
   "cell_type": "code",
   "execution_count": 26,
   "metadata": {},
   "outputs": [
    {
     "name": "stdout",
     "output_type": "stream",
     "text": [
      "0\n",
      "1\n",
      "4\n",
      "9\n",
      "16\n",
      "25\n",
      "36\n",
      "49\n",
      "64\n",
      "81\n"
     ]
    }
   ],
   "source": [
    "for i in map(lambda x: x**2, range(10)):  # Map wendet eine Funktion auf jedes Element einer Sequenz an\n",
    "    print(i)"
   ]
  },
  {
   "cell_type": "markdown",
   "metadata": {},
   "source": [
    "### Lesen und Schreiben von Dateien\n",
    "Dateien können in Python in unterschiedlichen Modi geöffnet werden. Im folgenden Code beschränken wir uns auf den lesenden (r) und schreibenden (w) Modus. Zum Zugriff auf die Datei wird die [`open`-Methode](https://docs.python.org/3/library/functions.html#open) in einem `with`-Block verwendet. Dieser Block schließt die Datei automatisch, auch wenn bspw. ein Fehler während des Lesens auftritt.\n",
    "Eine weitere verwendete Methode ist `join`, welche den String `\\n` (Symbol für eine neue Zeile) verwendet, um eine Liste aus Strings zu verketten. Es wird also\n",
    "`vowels[0] + '\\n' + vowels[1] + '\\n' + ...`\n",
    "ausgeführt."
   ]
  },
  {
   "cell_type": "code",
   "execution_count": 29,
   "metadata": {},
   "outputs": [
    {
     "name": "stdout",
     "output_type": "stream",
     "text": [
      "a\n",
      "e\n",
      "i\n",
      "o\n",
      "u\n",
      "ä\n",
      "ö\n",
      "ü\n"
     ]
    }
   ],
   "source": [
    "with open('vowels.txt', 'w') as text_file:\n",
    "    text_file.write('\\n'.join(vowels))\n",
    "\n",
    "with open('vowels.txt', 'r') as text_file:\n",
    "    for line in text_file:\n",
    "        print(line.strip())"
   ]
  },
  {
   "cell_type": "code",
   "execution_count": null,
   "metadata": {},
   "outputs": [],
   "source": []
  }
 ],
 "metadata": {
  "kernelspec": {
   "display_name": "Python 3",
   "language": "python",
   "name": "python3"
  },
  "language_info": {
   "codemirror_mode": {
    "name": "ipython",
    "version": 3
   },
   "file_extension": ".py",
   "mimetype": "text/x-python",
   "name": "python",
   "nbconvert_exporter": "python",
   "pygments_lexer": "ipython3",
   "version": "3.7.4"
  }
 },
 "nbformat": 4,
 "nbformat_minor": 4
}
