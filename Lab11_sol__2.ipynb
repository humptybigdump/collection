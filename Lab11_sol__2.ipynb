{
 "cells": [
  {
   "cell_type": "markdown",
   "id": "0e42763e",
   "metadata": {},
   "source": [
    "# Stochastic Simulation\n",
    "\n",
    "*Winter Semester 2023/24*\n",
    "\n",
    "09.02.2024\n",
    "\n",
    "Prof. Sebastian Krumscheid<br>\n",
    "Asstistant: Stjepan Salatovic"
   ]
  },
  {
   "cell_type": "markdown",
   "id": "5c5187ec",
   "metadata": {},
   "source": [
    "<h3 align=\"center\">\n",
    "Exercise sheet 11\n",
    "</h3>\n",
    "\n",
    "---\n",
    "\n",
    "<h1 align=\"center\">\n",
    "Markov Chains Monte Carlo\n",
    "</h1>"
   ]
  },
  {
   "cell_type": "code",
   "execution_count": 88,
   "id": "f636d6f9",
   "metadata": {},
   "outputs": [],
   "source": [
    "import matplotlib.pyplot as plt\n",
    "import numpy as np\n",
    "\n",
    "from scipy.stats import norm\n",
    "from tqdm.notebook import tqdm\n",
    "from typing import List, Tuple"
   ]
  },
  {
   "cell_type": "code",
   "execution_count": 2,
   "id": "a82b0a91-6d0f-436d-bc1e-bfc75cc60fd5",
   "metadata": {},
   "outputs": [],
   "source": [
    "plt.rc('axes', labelsize=14)     # fontsize of the x and y labels\n",
    "plt.rc('xtick', labelsize=12)    # fontsize of the tick labels\n",
    "plt.rc('ytick', labelsize=12)    # fontsize of the tick labels\n",
    "plt.rc('legend', fontsize=14)    # legend fontsize"
   ]
  },
  {
   "cell_type": "markdown",
   "id": "77d52ade-5638-4c42-87cb-4d5d7992f83d",
   "metadata": {},
   "source": [
    "## Exercise 1"
   ]
  },
  {
   "attachments": {
    "2dcc6189-de52-45c3-b911-7ecb9ce32105.png": {
     "image/png": "[encoded data removed]"
    }
   },
   "cell_type": "markdown",
   "id": "f0f2bee9-f5d8-4125-ac15-e6c0c977bffb",
   "metadata": {},
   "source": [
    "![Ising-eps-converted-to-1.png](attachment:2dcc6189-de52-45c3-b911-7ecb9ce32105.png)"
   ]
  },
  {
   "attachments": {},
   "cell_type": "markdown",
   "id": "dbe4b4ce-17c8-420a-a650-a3272bdd7c62",
   "metadata": {},
   "source": [
    "Let us consider a 2D uniform square-lattice with atoms placed at each\n",
    "vertex, as is sketched in the Figure above.\n",
    "The atoms can have an upward (red arrow) or a downward (blue\n",
    "arrow) pointing magnetic moment (so-called _spin_). Specifically,\n",
    "let the lattice be made out of $m \\times m$ atoms. Therefore the\n",
    "system's possible states are the $2^{m^2}$ possible spin choices for\n",
    "the $m^2$ atoms.  That is, the spin of the atom at position\n",
    "$(i,j)$ in the lattice is denoted with $s_{ij}$, $1\\le i,j\\le m$, and\n",
    "can take a value in $\\{-1,+1\\}$. A specific system configuration is\n",
    "described by the matrix\n",
    "$\\boldsymbol{S}=\\left( s_{ij} \\right)\\in \\{-1,+1\\}^{m\\times m}$,\n",
    "containing the spin of each of the $m^2$ atoms.\n",
    "\n",
    "The energy of a given system state of this Ising model is given by $$\\tag{1} H(\\boldsymbol{S}) = - \\sum_{i,j=1}^{m} \\left( \\frac{1}{2} J s_{ij} (s_{i-1,j} + s_{i+1,j} + s_{i,j-1} + s_{i,j+1}) + Bs_{ij}\\right)\\;,$$\n",
    "where $J$ is a magnetic coupling constant and $B$ is a constant\n",
    "describing the external magnetic field. To account for boundary\n",
    "effects, we set $s_{0,j}= s_{j,0} = s_{m+1,j} = s_{j,m+1} = 0$ for all $j \\in \\{1, \\ldots, m\\}$ in (1).\n",
    "The probability of obtaining a specific system state is then given by the\n",
    "_Boltzmann_ distribution with Probability Mass Function (PMF) $$\\tag{2} f(\\boldsymbol{S})\\equiv f_\\beta(\\boldsymbol{S}) = \\frac{1}{Z_\\beta} e^{-H(\\boldsymbol{S})\\beta}\\;,$$\n",
    "where $\\beta = 1/(k_B T)$ denotes the so-called inverse-temperature\n",
    "(or thermodynamic beta) with $k_B$ being the Boltzmann constant and\n",
    "$T$ the absolute temperature. Here, $Z_\\beta$ denotes the\n",
    "normalization constant that makes the target distribution\n",
    "$f_\\beta\\colon \\{-1,+1\\}^{m\\times m}\\to \\mathbb{R}_+$ a proper PMF.\n",
    "\n",
    "Let's denote by $M(\\boldsymbol{S}) =  \\sum_{i,j=1}^{m} s_{ij}/m^2$\n",
    "the system's average magnetic moment corresponding to the configuration\n",
    "$\\boldsymbol{S}$.\n",
    "Notice that the random realizations of the\n",
    "configuration matrix $\\boldsymbol{S}$ depend on the inverse\n",
    "temperature $\\beta$. \n",
    "The expected value of the average magnetic moment $\\overline{M}(\\beta)$\n",
    "as a function of the inverse temperature $\\beta$ thus reads $$\\tag{3}\\overline{M}(\\beta) %= \\mathbb{E }\\left[M(\\boldsymbol{S}) \\right]\n",
    "= \\sum_{\\boldsymbol{S}\\in \\mathcal{K}} M(\\boldsymbol{S}) f_\\beta(\\boldsymbol{S}) =  \\frac{1}{Z_\\beta} \\sum_{\\boldsymbol{S}\\in \\mathcal{K}} M(\\boldsymbol{S}) e^{-H(\\boldsymbol{S})\\beta} \\;,$$\n",
    "where $\\mathcal{K}=\\{-1,1  \\}^{m\\times m}$ is the set of all possible system\n",
    "configurations. Since the explicit computation of the normalization\n",
    "constant $Z_\\beta$ is computationally expensive (Explain why!), we\n",
    "rely on the Metropolis–Hastings algorithm here. That is, at each step\n",
    "a candidate configuration is proposed by randomly choosing an atom, with uniform\n",
    "probability,  and  \"flipping\" its\n",
    "spin."
   ]
  },
  {
   "cell_type": "markdown",
   "id": "8d0c3205-80cc-49cb-8d06-b04f93003fd7",
   "metadata": {},
   "source": [
    "1. Write a function that implements the Metropolis–Hastings\n",
    "\talgorithm for the Ising model. The input parameters for your\n",
    "\tfunction are: the number of steps $n$ of the chain that should be\n",
    "\tsimulated, the number of atoms $m^2$, the inverse temperature\n",
    "\t$\\beta$, the constants $J$ and $B$, and the initial state of the\n",
    "\tsystem. The function should return a list of energies and mean magnetic\n",
    "\tmoments computed for each step of the chain, as well as the final\n",
    "\tconfiguration of the system."
   ]
  },
  {
   "cell_type": "markdown",
   "id": "eae64e81-1179-4c40-9e80-617ffd98ada6",
   "metadata": {},
   "source": [
    "Notice that the energy \n",
    "$$\n",
    "  H(\\boldsymbol{S}) = - \\sum_{i,j=1}^{m} \\left( \\frac{1}{2} J s_{ij} (s_{i-1,j} + s_{i+1,j} + s_{i,j-1} + s_{i,j+1}) + B s_{ij}\\right)\\;,\n",
    "$$\n",
    "contains the products $s_{ij}s_{i-1,j},\\dots$ twice, so that we can rewrite the energy as\n",
    "\\begin{equation*}\n",
    "  H(\\boldsymbol{S}) = - \\sum_{i,j=1}^{m-1} J s_{ij} (s_{i+1,j} + s_{i,j+1}) - \\sum_{i,j=1}^{m} B s_{ij}\\;,\n",
    "\\end{equation*}\n",
    "which is more amenable for an implementation (and, in fact, used\n",
    "below). It is noteworthy however, that also the evaluation of the energy\n",
    "in this rewritten form requires $\\mathcal{O}(m^2)$ operations. That\n",
    "is, if $m$ is large, the evaluation is computationally expensive!\n",
    "\n",
    "However, in the Metropolis-Hastings algorithm, we only need to\n",
    "evaluate the energy difference between two different states. In\n",
    "particular, let us denote by $\\boldsymbol{S}$ the current system\n",
    "configuration at step $n$ of the algorithm and by $\\boldsymbol{S}^c$\n",
    "the proposed candidate configuration. Due to the particular proposal\n",
    "structure, it follows that the only difference between\n",
    "$\\boldsymbol{S}$ and the candidate $\\boldsymbol{S}^c$ is one\n",
    "spin. Suppose that this difference is at the atom in position $(l,k)$,\n",
    "so that\n",
    "\\begin{equation*}\n",
    "\\boldsymbol{S} = \\left( s_{ij} \\right), \\ \\ \\ \\ \\boldsymbol{S}^c=\\left( s_{ij}^c \\right), \\ \\ \\ \\ \\text{with} \\ \\ \\ \\ s_{ij}^c=\\begin{cases}\n",
    "s_{ij}\\;, \\ \\ \\ \\ \\ \\ \\text{if} \\ \\ \\ \\ i \\neq l,\\ j \\neq k\\;, \\\\ \n",
    "-s_{ij}\\;, \\ \\ \\ \\ \\text{if} \\ \\ \\ \\ i = l,\\ j = k\\;.\n",
    "\\end{cases}\n",
    "\\end{equation*}\n",
    "Consequently, we can write the energy difference conveniently as\n",
    "\\begin{equation*}\n",
    "\\begin{split}\n",
    "\\Delta H(\\mathbf{S}, \\mathbf{S}^c) = H(\\boldsymbol{S}^c) - H(\\boldsymbol{S}) & = - J \\left(s_{lk}^c - s_{lk} \\right)\n",
    "\\left(s_{l-1,k} + s_{l+1,k} + s_{l,k-1} + s_{l,k+1} \\right) - B \\left( s_{lk}^c - s_{lk} \\right) \\\\\n",
    "& = 2 J s_{lk} (s_{l-1,k} + s_{l+1,k} + s_{l,k-1} + s_{l,k+1}) + 2B s_{lk}\\;,\n",
    "\\end{split}\n",
    "\\end{equation*}  \n",
    "which simplifies the implementation. Notice that the proposal transition matrix $Q(\\mathbf{S}, \\mathbf{S}^*)$ is symmetric. Indeed $Q(\\mathbf{S}, \\mathbf{S}^*) = Q(\\mathbf{S}^*, \\mathbf{S}) = \\frac{1}{m^2}$ if $\\mathbf{S}$ and $\\mathbf{S}^*$ differ by only one spin and $Q(\\mathbf{S}, \\mathbf{S}^*) = 0$ if they differ by two or more spins. Hence the Metropolis-Hastings acceptance rate becomes \n",
    "\\begin{equation}\n",
    "\\alpha(\\mathbf{S}, \\mathbf{S}^c) = \\min\\left\\{1 , \\frac{f(\\mathbf{S}^c)Q(\\mathbf{S}^c, \\mathbf{S})}{f(\\mathbf{S})Q(\\mathbf{S},\\mathbf{S}^c)} \\right\\} = \\min\\left\\{1, \\frac{f(\\mathbf{S}^c)}{f(\\mathbf{S})}\\right\\} = \\min\\left\\{1, \\exp\\left[-\\beta\\Delta H(\\mathbf{S}, \\mathbf{S}^c)\\right]\\right\\}.\n",
    "\\end{equation}  \n",
    "A possible implementation that uses these formulas is shown below.\n",
    "The Figures down below show the evolution of energy and magnetic moment as well as the state configuration for $\\beta = 1/3$ and $\\beta = 1$ respectively. \n",
    "For $\\beta=1/3$, the configuration plot shows the formation of spin-up or spin-down clumps.\n",
    "The expected total magnetic moment is expected to be zero, and we get an estimated value of $4.17$.\n",
    "For $\\beta = 1$, the configuration plot shows a phase transition, namely that the spins all align eventually in the same direction. \n",
    "The absolute value of the expected total magnetic moment of the invariant distribution is $2500$ in theory, and we get an estimated value of approximately $1968$ since we have not excluded any burn-in time from the calculation of the mean.\n",
    "We use the ergodic estimator $$\\overline{M}(\\beta) \\approx \\frac{1}{n}\\sum_{k=0}^n M(\\mathbf{S}_k),$$\n",
    "where $\\mathbf{S}_k$ denotes the state at the $k^{\\text{th}}$ step of the MH algorithm."
   ]
  },
  {
   "cell_type": "code",
   "execution_count": 3,
   "id": "15a0d090-51d9-4fe4-ad47-4101db3ce2c9",
   "metadata": {},
   "outputs": [],
   "source": [
    "def H(S: np.array, J: float, B: float) -> float:\n",
    "    \"\"\"\n",
    "    Computes the energy of a given system state `S` in the context of the Ising model.\n",
    "\n",
    "    Args:\n",
    "        S (np.array): The state of the system, represented as a 2D numpy array of spins, where each spin can be +1 or -1.\n",
    "        J (float): The magnetic coupling constant between neighboring spins.\n",
    "        B (float): The external magnetic field constant interacting with the spins.\n",
    "\n",
    "    Returns:\n",
    "        float: The total energy of the system state `S`.\n",
    "    \"\"\"\n",
    "    return - J * ((S[:, :-1] * S[:, 1:]).sum() + (S[:-1, :] * S[1:, :]).sum() ) - B * S.sum()"
   ]
  },
  {
   "cell_type": "markdown",
   "id": "8ea75294-972a-4443-ae65-665c4d7ffe86",
   "metadata": {},
   "source": [
    "The following cell verifies the correct implementation of your `H` function. If the `assert` statement passes without raising an error, it indicates that your function behaves as expected."
   ]
  },
  {
   "cell_type": "code",
   "execution_count": 4,
   "id": "7ae80fc4-79fb-4091-ba26-12f7cb0362c7",
   "metadata": {},
   "outputs": [],
   "source": [
    "# CHECKPOINT\n",
    "np.random.seed(999)\n",
    "m = 50\n",
    "random_state = np.random.choice([-1, 1], size=(m, m))\n",
    "\n",
    "assert H(random_state, J=1, B=0.25) == 52"
   ]
  },
  {
   "cell_type": "code",
   "execution_count": 224,
   "id": "e5abb321-bbb9-4f7e-b8a3-b4a0aa556b05",
   "metadata": {},
   "outputs": [],
   "source": [
    "def ising(n: int, m: int, beta: float, J: float, B: float, S0: np.array) -> Tuple[np.array, np.array, np.array]:\n",
    "    \"\"\"\n",
    "    Simulates the Ising model using the Metropolis algorithm over a square lattice.\n",
    "\n",
    "    Args:\n",
    "        n (int): The number of steps to perform.\n",
    "        m (int): The size of the lattice (m x m).\n",
    "        beta (float): The inverse temperature of the system (1/kT).\n",
    "        J (float): The magnetic coupling constant between neighboring spins.\n",
    "        B (float): The external magnetic field constant interacting with the spins.\n",
    "        S0 (np.array): The initial state of the system, a 2D numpy array of spins (m x m).\n",
    "\n",
    "    Returns:\n",
    "        - E (np.array): The energy of the system at each step.\n",
    "        - M (np.array): The magnetic moment of the system at each step.\n",
    "        - S (np.array): The final state of the system.\n",
    "    \"\"\"\n",
    "    # Allocate vectors derived from a system's state\n",
    "    E = np.zeros(n+1)\n",
    "    M = np.zeros(n+1)\n",
    "\n",
    "    # Initialize system \n",
    "    S = S0\n",
    "\n",
    "    # Magnetic moment and energy associated with the initial condition\n",
    "    M[0] = S.sum()\n",
    "    E[0] = H(S0, J, B)\n",
    "\n",
    "    for k in range(n):\n",
    "        \n",
    "        # PROPOSAL : generate candidate state \n",
    "        Sc = S.copy()\n",
    "\n",
    "        # select randomly an atom on the lattice\n",
    "        i, j = np.random.randint(m, size=2)\n",
    "        Sc[i,j] = - S[i,j] # flip the spin\n",
    "\n",
    "        # Change in magnetic moment due to this flip \n",
    "        dM = - 2 * S[i,j]\n",
    "\n",
    "        # Change in the energy due to this flip\n",
    "        dE = 0\n",
    "        if i > 0:\n",
    "            dE = dE + S[i-1, j]\n",
    "        if i < m-1:\n",
    "            dE = dE + S[i+1, j]\n",
    "        if j > 0:\n",
    "            dE = dE + S[i, j-1]\n",
    "        if j < m-1:\n",
    "            dE = dE + S[i, j+1]\n",
    "        dE = 2 * S[i, j] * (J * dE + B)\n",
    "\n",
    "        # ACCEPT-REJECT STEP\n",
    "        alpha = min(np.exp(-dE * beta), 1)\n",
    "        U = np.random.random()\n",
    "        if U < alpha:\n",
    "            S = Sc # Accept proposed candidate state \n",
    "        else:\n",
    "            dM = 0\n",
    "            dE = 0\n",
    "\n",
    "        # Update energy and magnetic moment \n",
    "        E[k+1] = E[k] + dE\n",
    "        M[k+1] = M[k] + dM\n",
    "\n",
    "    return E, M, S"
   ]
  },
  {
   "cell_type": "markdown",
   "id": "41e7c189-d6fe-41dd-a940-fcedde81489e",
   "metadata": {},
   "source": [
    "2. Use your function with $\\beta=1/3$ and for $n$, such that both the energy and the average magnetic moment appear to have reached stationarity. \n",
    "\tPlot also the final system configuration.\n",
    "\tFurthermore, compute the mean magnetic moment $\\overline{M}(\\beta)$\n",
    "\tfor different values of $\\beta\\in [\\frac{1}{3},1]$ and\n",
    "\t$n=5\\cdot 10^6$.  Choose a lattice of $50 \\times 50$ atoms, $J=1$,\n",
    "\tand $B>0$, say $B = 10^{-1}$, for all simulations.\n",
    "\n",
    "    **Hint:** For plotting a system state, have a look at the [`plt.spy()`](https://matplotlib.org/stable/api/_as_gen/matplotlib.pyplot.spy.html) function."
   ]
  },
  {
   "cell_type": "code",
   "execution_count": 225,
   "id": "c5f6dbf3-3770-4007-9575-21dc7b0ca0a8",
   "metadata": {},
   "outputs": [],
   "source": [
    "m = 50\n",
    "J = 1.\n",
    "B = 0.1\n",
    "S0 = np.random.choice([-1, 1], size=(m, m))\n",
    "\n",
    "n = int(1e6)\n",
    "\n",
    "beta = 1 / 3\n",
    "E, M, S = ising(n, m, beta, J, B, S0)"
   ]
  },
  {
   "cell_type": "code",
   "execution_count": 226,
   "id": "5c8a579f-b951-469c-8bb9-bc1d389b30fb",
   "metadata": {},
   "outputs": [
    {
     "data": {
      "image/png": "[encoded data removed]",
      "text/plain": [
       "<Figure size 800x400 with 2 Axes>"
      ]
     },
     "metadata": {},
     "output_type": "display_data"
    },
    {
     "data": {
      "image/png": "[encoded data removed]",
      "text/plain": [
       "<Figure size 800x400 with 2 Axes>"
      ]
     },
     "metadata": {},
     "output_type": "display_data"
    }
   ],
   "source": [
    "fig2 = plt.figure(figsize = (8,4))\n",
    "ax1 = fig2.add_subplot(121)\n",
    "ax1.spy(S0 + np.ones((m,m)), precision = 0.1, markersize = 2)\n",
    "ax1.set_title('Initial state')\n",
    "ax2 = fig2.add_subplot(122)\n",
    "ax2.spy(S+np.ones((m,m)), precision = 0.1, markersize = 2)\n",
    "ax2.set_title('Final state')\n",
    "plt.subplots_adjust(wspace=0.5)\n",
    "\n",
    "\n",
    "fig3 = plt.figure(figsize = (8,4))\n",
    "ax3 = fig3.add_subplot(211)\n",
    "ax3.plot(E)\n",
    "ax3.set_xlabel('Iteration n')\n",
    "ax3.set_ylabel('$H(S_n)$')\n",
    "ax4 = fig3.add_subplot(212)\n",
    "ax4.plot(M / m ** 2)\n",
    "ax4.set_xlabel('Iteration n')\n",
    "ax4.set_ylabel(r'$\\overline{M}_n (\\beta)$')\n",
    "plt.subplots_adjust(hspace=0.7)\n",
    "\n",
    "plt.show()"
   ]
  },
  {
   "cell_type": "code",
   "execution_count": 227,
   "id": "5b013eb8-b1b7-4f72-906a-d60a969e09a1",
   "metadata": {},
   "outputs": [
    {
     "data": {
      "application/vnd.jupyter.widget-view+json": {
       "model_id": "aab7998c991249359804ab34e46c0fc9",
       "version_major": 2,
       "version_minor": 0
      },
      "text/plain": [
       "  0%|          | 0/10 [00:00<?, ?it/s]"
      ]
     },
     "metadata": {},
     "output_type": "display_data"
    }
   ],
   "source": [
    "betas = np.linspace(0.1, 1.0, 10)\n",
    "Ms = []\n",
    "\n",
    "n = int(5e5)\n",
    "\n",
    "B = 0.1\n",
    "for b in tqdm(betas):\n",
    "    E, M, S = ising(n, m, b, J, B, S0)\n",
    "    meanM = M[int(2 / 3 * n):].mean() / m ** 2\n",
    "    Ms.append(meanM)"
   ]
  },
  {
   "cell_type": "code",
   "execution_count": 228,
   "id": "4b7886e2-ab11-492e-b067-d1f954b09887",
   "metadata": {},
   "outputs": [
    {
     "data": {
      "image/png": "[encoded data removed]",
      "text/plain": [
       "<Figure size 640x480 with 1 Axes>"
      ]
     },
     "metadata": {},
     "output_type": "display_data"
    }
   ],
   "source": [
    "plt.plot(betas, np.abs(Ms), \"o-\")\n",
    "plt.xlabel(r\"$\\beta$\")\n",
    "plt.ylabel(r\"$\\overline{M(\\beta)}$\")\n",
    "plt.show()"
   ]
  },
  {
   "cell_type": "markdown",
   "id": "75380b4e-b200-47b0-876c-1204ef1ddd24",
   "metadata": {},
   "source": [
    "## Exercise 2\n",
    "\n",
    "Recall that the standard Metropolis–Hastings algorithm accepts a new candidate state $j$ drawn from the transition matrix $Q$, given the current state $i$, with probability $\\alpha(i,j)=\\min \\left(\\frac{\\pi_j Q_{ji}}{\\pi_i Q_{ij}},1\\right)$, where $\\pi$ is the target probability measure.\n",
    "Consider now a Metropolis-Hastings algorithm that uses the follwing alternative acceptance probabilities $$\\alpha_1(i,j)=\\frac{\\pi_j Q_{ji}}{\\pi_jQ_{ji}+\\pi_iQ_{ij}},$$ and $$\\alpha_2(i,j)=\\frac{\\delta_{ij}}{\\pi_i Q_{ij}},$$ with $\\delta$ such that $\\delta_{ij} \\leq \\pi_i Q_{ij} \\forall i,j$. \n",
    "Show that, in both cases, the produced Markov chain satisfies the detailed balance condition."
   ]
  },
  {
   "cell_type": "markdown",
   "id": "02241c5c-194d-49b4-b9eb-8357e639f0c4",
   "metadata": {},
   "source": [
    "Note that the detailed balance condition reads:\n",
    "\\begin{equation*}\n",
    "\\alpha(i,j)\\pi_i Q_{ij} = \\alpha(j,i) \\pi_j Q_{ji}.\n",
    "\\end{equation*}\n",
    "Consider the first case $\\alpha_1(i,j) = \\frac{\\pi_jQ_{ji}}{\\pi_j Q_{ji}+\\pi_i Q_{ij}}$.\n",
    "We then have that \n",
    "\\begin{align*}\n",
    "\\alpha_1(i,j)\\pi_i Q_{ij} = \\frac{\\pi_j Q_{ji}\\pi_iQ_{ij}}{\\pi_j Q_{ji}+\\pi_i Q_{ij}} = \\alpha_1(j,i)\\pi_j Q_{ji}.\n",
    "\\end{align*}\n",
    "Consider now the second case $\\alpha_2(i, j) = \\frac{\\delta_{ij}}{\\pi_i Q_{ij}}$ where $\\delta_{ij} = \\delta_{ji}$ is chosen such that $\\alpha_2(i,j) \\leq 1$, $\\forall i, j$. Then\n",
    "\\begin{align*}\n",
    "\\alpha_2(i, j)  \\pi_iQ_{ij} = \\delta_{ij} = \\delta_{ji} = \\frac{\\delta_{ji}}{\\pi_jQ_{ji}} \\pi_j Q_{ji} = \\alpha_2(j, i) \\pi_j Q_{ji}\n",
    "\\end{align*}"
   ]
  },
  {
   "cell_type": "markdown",
   "id": "5fd0af65-5d98-402b-a9ac-864be4af091b",
   "metadata": {},
   "source": [
    "## Exercise 3 (Optional)\n",
    "Consider the following AR(k) model defined by $$\\mathbf{y}_n = A \\mathbf{ y}_{n-1} +\\mathbf{ \\xi}_n, \\quad \\mathbf{ \\xi}_n\\overset{\\text{iid}}{\\sim} \\mathcal{N}(0,\\Gamma), \\ \\ \\mathbf{ \\xi}_n\\in\\mathbb{R}^k,$$ with $ A\\in \\mathbb{R}^{k\\times k}$, invertible and $\\Gamma\\in \\mathbb{R}^{k\\times k} $ full rank."
   ]
  },
  {
   "cell_type": "markdown",
   "id": "39c85589-e8fd-4b10-81eb-69541f4ba8f9",
   "metadata": {},
   "source": [
    "1. Show that the previous process is a Markov chain."
   ]
  },
  {
   "cell_type": "markdown",
   "id": "f4e863aa-4c4c-4be7-89af-2317c5ec6bea",
   "metadata": {},
   "source": [
    "Trivially, using the definition of the AR($k$) model and denoting $y_{[0,n]} = (y_0, y_1, \\dots, y_n)$, we have that \n",
    "\\begin{eqnarray*}\n",
    "\\mathbb{P}(\\mathbf{ y}_n \\leq \\mathbf{ y} | \\mathbf{ y}_{[0, n-1]}) & = & \\mathbb{P} (\\boldsymbol{\\xi}_n \\leq \\mathbf{ y} - A\\mathbf{ y}_{n-1} | \\mathbf{ y}_{[0, n-1]}) = \\mathbb{P} (\\boldsymbol{\\xi}_n \\leq \\mathbf{ y} - A \\mathbf{ y}_{n-1} | \\mathbf{ y}_{n-1}) \\\\ & = & \\mathbb{P} (\\mathbf{ y}_n \\leq \\mathbf{ y} | \\mathbf{ y}_{n-1}), \n",
    "\\end{eqnarray*}\n",
    "since $\\mathbb{P} (\\boldsymbol{\\xi}_n \\leq \\mathbf{ y} - A \\mathbf{ y}_{n-1} | \\mathbf{ y}_{n-1}) $ is the Gaussian $\\mathcal{N}(0, \\Gamma)$ cummulative distribution function evaluated at $\\mathbf{ y} - A \\mathbf{ y}_{n-1} $."
   ]
  },
  {
   "cell_type": "markdown",
   "id": "2b302dd7-6f6f-4d84-9c28-f80674e649ee",
   "metadata": {},
   "source": [
    "2. Show that if $\\mathbf{ y}_0 \\sim \\mathcal{N}(0,\\Gamma_0)$, then $\\mathbf{y}_n$ follows  a multivariate Gaussian distribution for all $n$. "
   ]
  },
  {
   "cell_type": "markdown",
   "id": "cbe0aa40-4886-479b-8367-9c40e7f400c3",
   "metadata": {},
   "source": [
    "We can show that the characteristic function for $\\mathbf{ y}_1$ is \n",
    "\\begin{equation}\n",
    "\\mathbb{E}[e^{i\\mathbf{ t}' \\mathbf{ y}_1}] = \\mathbb{E}[e^{i \\mathbf{ t}' A \\mathbf{ y}_0}] \\mathbb{E}[e^{i \\mathbf{ t}' \\boldsymbol{\\xi}_1}] = e^{-\\frac{1}{2}\\mathbf{ t}' A \\Gamma_0 A' \\mathbf{ t}} e^{-\\frac{1}{2}\\mathbf{ t}' \\Gamma \\mathbf{ t}} = e^{-\\frac{1}{2}\\mathbf{ t}' (A\\Gamma_0 A' + \\Gamma) \\mathbf{ t}}\n",
    "\\end{equation}\n",
    "that is the c.f. function of a Gaussian with zero mean and covariance $A \\Gamma_0 A' + \\Gamma$. Using induction and repeating the same argument one can easily show that for arbitrary $n$ the covariance is of $\\mathbf{ y}_n$ is $ A^n \\Gamma_0 \\left(A^{n} \\right)' + \\sum_{i=0}^{n-1} A^i \\Gamma \\left(A^{i}\\right)'$."
   ]
  },
  {
   "cell_type": "markdown",
   "id": "b3aa714a-3ee9-4259-9e43-953007bdea6a",
   "metadata": {},
   "source": [
    "3. Find the invariant distribution of an AR(1) process (i.e., a special case of the previous model). "
   ]
  },
  {
   "cell_type": "markdown",
   "id": "97187f30-c2bd-45d3-8dab-77916f793bc5",
   "metadata": {},
   "source": [
    "For $k= 1$ we have $y_n = ay_{n-1}+ \\xi_n$, $\\xi_n \\sim N(0, \\gamma)$. Assume that $y_{n-1} \\sim N(0, \\sigma^2)$, then $y_n \\sim N(0, a^2\\sigma^2 + \\gamma)$. Hence $N(0, \\sigma^2)$ is invariant iff $\\sigma^2 = a^2\\sigma^2 + \\gamma$ which implies $\\sigma^2 = \\frac{\\gamma}{1-a^2}$ and $|a| < 1$."
   ]
  },
  {
   "cell_type": "markdown",
   "id": "30730f46-9b96-4aff-97b8-7ed161c25679",
   "metadata": {},
   "source": [
    "4. Simulate the AR(1) process with $a = 0.8, \\gamma = 0.2, \\gamma_0 = 2$ and assess its convergence to the invariant distribution. In addition, verify the ergodic theorem on the quantity  $$\\hat \\mu^N=\\frac{1}{N}\\sum_{n=1}^{N}y_n.$$ "
   ]
  },
  {
   "cell_type": "code",
   "execution_count": 229,
   "id": "d2ed750c-f557-4e04-8dc8-5b5826606a24",
   "metadata": {},
   "outputs": [],
   "source": [
    "def AR_1(a: float, gamma: float, gamma0: float, n: int, n_samples: int) -> np.array:\n",
    "    \"\"\"\n",
    "    Generates samples from an autoregressive process of order 1 (AR(1)).\n",
    "\n",
    "    Args:\n",
    "        a (float): The autoregressive coefficient.\n",
    "        gamma (float): The variance of the innovation process.\n",
    "        gamma0 (float): The variance of the initial observation.\n",
    "        n (int): The number of time steps in the AR(1) process.\n",
    "        n_samples (int): The number of independent AR(1) processes to simulate.\n",
    "\n",
    "    Returns:\n",
    "        np.array: A two-dimensional numpy array where each row represents one AR(1) process,\n",
    "                  and each column represents a time step.\n",
    "    \"\"\"\n",
    "    y0 = np.sqrt(gamma0) * np.random.randn(n_samples)\n",
    "    xi = np.sqrt(gamma) * np.random.randn(n_samples, n)\n",
    "    y = a ** n * y0 + (a ** np.arange(n) * xi).cumsum(axis=1).T\n",
    "    return y.T"
   ]
  },
  {
   "cell_type": "markdown",
   "id": "4aaa7dbe-66e6-4deb-a9a3-458c6158c929",
   "metadata": {},
   "source": [
    "The empirical invariant distribution of AR(1) follows after simulating a large number of \"paths\" (here $10^4$) and plotting the histogram and a large $n = 10^4$. Resulting distribution is shown in the Figure down below for $a = 0.8$, $\\gamma_0 = 2$, $\\gamma = 0.2$."
   ]
  },
  {
   "cell_type": "code",
   "execution_count": 230,
   "id": "7aca7415-53ef-4484-b683-c350de1d3f4b",
   "metadata": {},
   "outputs": [],
   "source": [
    "a = 0.8\n",
    "gamma = 0.2\n",
    "gamma0 = 2.0\n",
    "n_samples = 10000\n",
    "n = 100"
   ]
  },
  {
   "cell_type": "code",
   "execution_count": 231,
   "id": "dc8b1921-34ad-4249-925c-12f8efd51c46",
   "metadata": {},
   "outputs": [],
   "source": [
    "y = AR_1(a, gamma, gamma0, n, n_samples)"
   ]
  },
  {
   "cell_type": "code",
   "execution_count": 232,
   "id": "4b54a850-996a-4b86-a610-0abc7a26996c",
   "metadata": {},
   "outputs": [
    {
     "data": {
      "image/png": "[encoded data removed]",
      "text/plain": [
       "<Figure size 640x480 with 1 Axes>"
      ]
     },
     "metadata": {},
     "output_type": "display_data"
    }
   ],
   "source": [
    "ns = [0, 1, 2, 3, 5, 10]\n",
    "for n_ in ns:\n",
    "    plt.hist(y[:, n_], label=f\"$n = {n_}$\", bins=100, density=True, alpha=0.5)\n",
    "\n",
    "invariant_dist = norm(0, np.sqrt(gamma / (1 - a ** 2)))\n",
    "x = np.linspace(norm.ppf(0.01), norm.ppf(0.99), 100)\n",
    "plt.plot(x, invariant_dist.pdf(x), \"k--\", label=r\"$\\mathcal{N}\\,(0, \\frac{\\gamma}{1 - a^2})$\")\n",
    "plt.legend()\n",
    "plt.title(\"Convergence to invariant distribution\")\n",
    "plt.xlabel(\"$y_n$\");"
   ]
  },
  {
   "cell_type": "markdown",
   "id": "1b8b2f65-953d-446b-8900-4daf4e4f77f9",
   "metadata": {},
   "source": [
    "5. Establish theoretically the convergence of $\\hat \\mu ^N$ by using the strong law of large numbers, and a weighted version of the central limit theorem (e.g. Lindeberg-Feller)."
   ]
  },
  {
   "cell_type": "markdown",
   "id": "60596f20-3f80-401d-ac63-7d5bd9e8f74a",
   "metadata": {},
   "source": [
    "For the almost surely convergence we write \n",
    "\\begin{eqnarray}\n",
    "\\hat{\\mu}^N & = & \\frac{1}{N}\\sum_{n=1}^N y_n = \\frac{1}{N}\\sum_{n=1}^N \\left( a^n y_0 + \\sum_{i=1}^n a^{n-i}\\xi_i \\right) \\\\ & = & y_0 \\frac{1}{N}\\sum_{n=1}^N a^n + \\frac{1}{N}\\sum_{n=1}^{N} \\sum_{i=1}^n a^{n-i} \\xi_i \\\\  & = & y_0 \\frac{1}{N}\\sum_{n=1}^N a^n + \\frac{1}{N}\\sum_{i=1}^{N} \\sum_{n=i}^{N} a^{n-i} \\xi_i \\\\ & = & y_0 \\frac{1}{N}\\sum_{n=1}^N a^n + \\frac{1}{N}\\sum_{i=1}^{N} \\frac{1 - a^{N-i}}{1 - a} \\xi_i \\\\ & = & y_0 \\frac{1}{N}\\sum_{n=1}^N a^n + \\frac{1}{1-a}\\frac{1}{N}\\sum_{n=1}^N \\xi_i - \\frac{a}{(1-a)N}\\sum_{i=1}^N a^{N-i} \\xi_i,\n",
    "\\end{eqnarray}\n",
    "where by the SLLN, the first term on the right hand side $A_N := y_0 \\frac{1}{N}\\sum_{n=1}^N a^n \\to 0$ a.s., the second term $B_N := \\frac{1}{1-a}\\frac{1}{N}\\sum_{i=1}^N \\xi_i \\to 0$ a.s.. For the third term $C_N := \\frac{a}{(1-a)N}\\sum_{i=1}^N a^{N-i} \\xi_i$ we have \n",
    "\\begin{equation}\n",
    "\\mathbb{V}\\left(C_N\\right) = \\frac{a^2}{(1-a)^2 N^2}\\sum_{i=0}^{N-1} a^{2i} \\Gamma \\leq \\frac{a^2}{(1 - a)^2(1-a^2)}\\frac{\\Gamma}{N^2}\n",
    "\\end{equation}\n",
    "and $\\mathbb{E}[C_N] = 0$, hence \n",
    "\\begin{equation}\n",
    "\\mathbb{P}\\left(|C_N| < \\epsilon \\right) \\leq \\frac{\\mathbb{V}(C_N)}{\\epsilon^2} \\leq \\frac{k(\\epsilon)}{N^2}\n",
    "\\end{equation}\n",
    "with $k(\\epsilon) = \\frac{a^2\\Gamma}{\\epsilon^2(1 - a)^2(1- a^2)}$ and $\\sum_{N=1}^{\\infty} \\mathbb{P}\\left(|C_N| > \\epsilon\\right) \\leq \\sum_{N=1}^{\\infty} \\frac{k(\\epsilon)}{N^2} < +\\infty$. So by the Borel-Cantelli lemma $C_N \\to 0$ a.s.\n",
    "\n",
    "For the CLT, we can use the Lindeberg-Feller theorem for triangular arrays: \\\\\n",
    "For each $N$ let $X_{N,m}$, $1 \\leq m \\leq N$ be independent random variables such that \n",
    "\n",
    "- $\\mathbb{E}[X_{N,m}] = 0$\n",
    "- $\\sum_{m=1}^N \\mathbb{E}[X_{N,m}^2] \\to \\sigma^2 < \\infty$\n",
    "- For all $\\epsilon > 0$, $\\lim_{N\\to\\infty} \\sum_{m=1}^N \\mathbb{E}[ |X_{N,m}|^2 ; |X_{N,m}| > \\epsilon]$ = 0.\n",
    "\n",
    "Then $\\sum_{m=1}^N X_{N,m} \\to N(0, \\sigma^2)$ in distribution. We apply the theorem with $X_{N,m} = \\frac{1}{\\sqrt{N}}\\frac{1 - a^{N -m + 1}}{1 - a}\\xi_m$. Then\n",
    "1. $\\quad\\sum_{m=1}^N \\mathbb{E}[X_{N,m}^2] = \\sum_{m=1}^N \\frac{1}{N}\\frac{1 - a^{N-m+1}}{1- a}\\gamma \\to \\frac{\\gamma}{1 - a}$, and\n",
    "2. \\begin{eqnarray*}\n",
    "\\sum_{m=1}^N \\mathbb{E}\\left[X_{N,m}^2 \\big\\vert |X_{N,m}| > \\epsilon\\right] & = & \\sum_{m=1}^N \\mathbb{E}\\left[ \\frac{(1 - a^{N-m+1})}{(1-a)^2N} \\epsilon_m^2 \\big\\vert |\\xi_m| > \\epsilon\\sqrt{N}(1-a)/(1 -a^{N-m+1})\\right] \\\\ &\\leq & \\sum_{m=1}^N\\frac{1}{(1 - a)^2N} \\mathbb{E}\\left[ \\xi_m^2 \\big\\vert |\\xi_m| > \\epsilon\\sqrt{N}(1 - a) \\right] \\\\ & =&  \\frac{1}{(1-a)^2}\\mathbb{E}\\left[ \\xi_1^2 \\big\\vert |\\xi_1| > \\epsilon \\sqrt{N}(1-a)\\right] \\to 0.\n",
    "\\end{eqnarray*}\n",
    "Hence $\\sum_{m=1}^N X_{N,m} = \\sqrt{N}\\left( \\frac{1}{N} \\sum_{i=1}^N \\frac{1 - a^{N-i+1}}{1-a}\\xi_i \\right) \\to N(0, \\frac{\\gamma}{1-a})$ and $\\sqrt{N}\\hat{\\mu}^N \\to N(0, \\frac{\\gamma}{1-a})$. Notice that $\\frac{\\gamma}{1-a} > \\mathbb{V}[y_{\\infty}]$, i.e. the estimator $\\hat{\\mu}^N$ is less efficient (has a larger variance) than a Monte Carlo estimator $\\tilde{\\mu}^N = \\frac{1}{N}\\sum_{n=1}^N y_n$ where $y_n$ are iid $N(0, \\frac{\\gamma}{1-a^2})$."
   ]
  }
 ],
 "metadata": {
  "kernelspec": {
   "display_name": "Python 3 (ipykernel)",
   "language": "python",
   "name": "python3"
  },
  "language_info": {
   "codemirror_mode": {
    "name": "ipython",
    "version": 3
   },
   "file_extension": ".py",
   "mimetype": "text/x-python",
   "name": "python",
   "nbconvert_exporter": "python",
   "pygments_lexer": "ipython3",
   "version": "3.10.12"
  },
  "widgets": {
   "application/vnd.jupyter.widget-state+json": {
    "state": {
     "006901546d574f6091e82de35b107700": {
      "model_module": "@jupyter-widgets/base",
      "model_module_version": "2.0.0",
      "model_name": "LayoutModel",
      "state": {}
     },
     "010d422c1ba44757869186052ca1d9e0": {
      "model_module": "@jupyter-widgets/controls",
      "model_module_version": "2.0.0",
      "model_name": "ProgressStyleModel",
      "state": {
       "description_width": ""
      }
     },
     "01379f9280924633b0b28b4bb24fe73b": {
      "model_module": "@jupyter-widgets/output",
      "model_module_version": "1.0.0",
      "model_name": "OutputModel",
      "state": {
       "layout": "IPY_MODEL_822d02b5abf545f0900438ee68bb6cfc",
       "outputs": [
        {
         "data": {
          "image/png": "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",
          "text/plain": "<Figure size 640x480 with 1 Axes>"
         },
         "metadata": {},
         "output_type": "display_data"
        }
       ]
      }
     },
     "01dc837d59824e36a233030ade9b4679": {
      "model_module": "@jupyter-widgets/controls",
      "model_module_version": "2.0.0",
      "model_name": "VBoxModel",
      "state": {
       "_dom_classes": [
        "widget-interact"
       ],
       "children": [
        "IPY_MODEL_6dd331572a96411aaa2deb0f3e575d24",
        "IPY_MODEL_901b043173844fca9896c820206ee12b"
       ],
       "layout": "IPY_MODEL_287996fe53e74bcb9623bda3c5bf301e"
      }
     },
     "0306a2158e9c48bc8f632df3e1f45d8e": {
      "model_module": "@jupyter-widgets/controls",
      "model_module_version": "2.0.0",
      "model_name": "FloatProgressModel",
      "state": {
       "bar_style": "success",
       "layout": "IPY_MODEL_68c44741a7cd4510b161b7e60da37dbb",
       "max": 10,
       "style": "IPY_MODEL_35bb8848f8804103acf8066f63ca7671",
       "value": 10
      }
     },
     "04244525008941bbb709f8190fa40992": {
      "model_module": "@jupyter-widgets/output",
      "model_module_version": "1.0.0",
      "model_name": "OutputModel",
      "state": {
       "layout": "IPY_MODEL_800d2376194144e5a775123cfbe59d27",
       "outputs": [
        {
         "data": {
          "image/png": "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",
          "text/plain": "<Figure size 640x480 with 1 Axes>"
         },
         "metadata": {},
         "output_type": "display_data"
        }
       ]
      }
     },
     "043802242b47437fac1f38681b6892ce": {
      "model_module": "@jupyter-widgets/base",
      "model_module_version": "2.0.0",
      "model_name": "LayoutModel",
      "state": {}
     },
     "045d22261e0c41b686399b22426bc865": {
      "model_module": "@jupyter-widgets/base",
      "model_module_version": "2.0.0",
      "model_name": "LayoutModel",
      "state": {}
     },
     "06e1deeb3b504628bf7b3ba7e603818b": {
      "model_module": "@jupyter-widgets/output",
      "model_module_version": "1.0.0",
      "model_name": "OutputModel",
      "state": {
       "layout": "IPY_MODEL_ee6dea8fd4d54376af177983b8aebd58",
       "outputs": [
        {
         "data": {
          "image/png": "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",
          "text/plain": "<Figure size 640x480 with 1 Axes>"
         },
         "metadata": {},
         "output_type": "display_data"
        }
       ]
      }
     },
     "06ed469d08bb43d9b31e5e423f7f12bd": {
      "model_module": "@jupyter-widgets/base",
      "model_module_version": "2.0.0",
      "model_name": "LayoutModel",
      "state": {}
     },
     "0734351708e343a0a346feff3221ee82": {
      "model_module": "@jupyter-widgets/output",
      "model_module_version": "1.0.0",
      "model_name": "OutputModel",
      "state": {
       "layout": "IPY_MODEL_70629c62a70e4c0ea4bafb8a12d1d345",
       "outputs": [
        {
         "data": {
          "image/png": "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",
          "text/plain": "<Figure size 640x480 with 1 Axes>"
         },
         "metadata": {},
         "output_type": "display_data"
        }
       ]
      }
     },
     "081276b5ddd641f2b4aecdad5cd50f55": {
      "model_module": "@jupyter-widgets/controls",
      "model_module_version": "2.0.0",
      "model_name": "SliderStyleModel",
      "state": {
       "description_width": ""
      }
     },
     "088e3b4d2f23490796fc383cd4380172": {
      "model_module": "@jupyter-widgets/base",
      "model_module_version": "2.0.0",
      "model_name": "LayoutModel",
      "state": {}
     },
     "0a1115262b5346ee81a9f924ed6ca81e": {
      "model_module": "@jupyter-widgets/output",
      "model_module_version": "1.0.0",
      "model_name": "OutputModel",
      "state": {
       "layout": "IPY_MODEL_5cca349751a5440ca234cd1c91189b14",
       "outputs": [
        {
         "data": {
          "image/png": "iVBORw0KGgoAAAANSUhEUgAAAaQAAAGmCAYAAAAzhPA+AAAAOXRFWHRTb2Z0d2FyZQBNYXRwbG90bGliIHZlcnNpb24zLjguMCwgaHR0cHM6Ly9tYXRwbG90bGliLm9yZy81sbWrAAAACXBIWXMAAA9hAAAPYQGoP6dpAAA3iUlEQVR4nO29fZBV1ZX+/zQQmm5oGntQaOzu+FZgABNBAoVlEBN0MEi+FaXRKsVkKhkyo+FF4ksx0ZhxSikHmMgUVQYSS0y0JkO0LCLBoWh+RQZ1IsRARRm62prypWkaQaC7aei+vJ3fH4QLTTf35ey7e621z/Op6iq55+6911pnn7s9az/rnKIoiiIQQgghwvSRNoAQQggBuCARQghRAhckQgghKuCCRAghRAVckAghhKiACxIhhBAVcEEihBCiAi5IhBBCVMAFiRBCiAq4IBFCCFGBiQUplUrhsccew4gRI1BSUoJJkyZh06ZN0maJ0t7ejieffBLTp09HRUUFioqKsGbNmh6/u3v3bkyfPh2DBg1CRUUF5syZgwMHDvSuwQJs374dP/zhDzFmzBgMHDgQNTU1mD17NhoaGrp9N6kxAoBdu3ahtrYWV111FUpLSzF06FBMmTIFb7zxRrfvJjlOF/L000+jqKgIY8eO7XbsnXfewU033YTS0lIMHz4c8+fPR3t7u4CVxogMcM8990T9+vWLHn744WjVqlXR5MmTo379+kVbt26VNk2Mjz76KAIQ1dTURFOnTo0ARC+++GK37zU2NkZDhw6Nrr766mjFihXR008/HV1yySXRV77ylSiVSvW+4b3IXXfdFQ0fPjyaN29e9Itf/CL6l3/5l2jYsGHRwIEDo/fffz/9vSTHKIqi6Pe//330t3/7t9FPf/rTaPXq1dFzzz0Xfe1rX4sARKtWrUp/L+lxOp/GxsaotLQ0GjhwYDRmzJgux3bs2BENGDAgGjduXPT8889HP/7xj6Pi4uJo+vTpQtbaQf2C9O6770YAoqVLl6Y/6+joiK6++upo8uTJgpbJ0tnZGTU3N0dRFEXbt2+/6IL0j//4j1FJSUn0ySefpD/btGlTtx+bEHn77be7/VA2NDRExcXF0b333pv+LMkxuhgnT56MvvKVr0SjRo1Kf8Y4nePuu++Ovv71r0c333xztwXp9ttvjyorK6PW1tb0Z7/4xS8iANHGjRt721RTqF+QHnnkkahv375dTm4URdEzzzwTAYg+/fRTIcv0kGlBuuyyy6La2tpun48cOTL6xje+0QvW6WP8+PHR+PHj0/9mjHrmjjvuiIYNG5b+N+N0hj/84Q9R3759o7/85S/dFqTW1taoX79+0SOPPNKlTSqVigYNGhR973vf621zTaF+D2nHjh0YOXIkBg8e3OXziRMnAgB27twpYJUNmpqasH//fkyYMKHbsYkTJ2LHjh0CVskSRRE+++wzDB06FABjdD5Hjx7F559/jv/7v//Dz372M7z55pv4xje+AYBxOsupU6cwb948fP/738d1113X7fj777+PkydPdotT//79cf311ycmTnHpJ21ANpqbm1FZWdnt87Of7d27t7dNMkNzczMAXDR+hw4dQiqVQnFxcW+bJsYrr7yCpqYmPPXUUwAYo/P50Y9+hFWrVgEA+vTpgzvvvBMrV64EwDid5ec//zk++eQT1NXV9Xg8W5y2bt3q1T7rqF+QOjo6epzkAwYMSB8nPXM2NtniF/qPyFnq6+vx4IMPYvLkyfjOd74DgDE6n4ULF2LWrFnYu3cv1q5di1OnTuH48eMAGCcAOHjwIH7yk5/giSeewKWXXtrjd7LFib9XmVGfsispKUEqler2eWdnZ/o46ZmzsWH8gH379mHGjBkoLy/Hq6++ir59+wJgjM7n2muvxbRp03D//fdj/fr1aG9vx8yZMxFFEeME4PHHH0dFRQXmzZt30e9ki1PoMXJF/R1SZWUlmpqaun1+9tZ4xIgRvW2SGc6mDc7G6nyam5tRUVER9P/RnqW1tRW33347WlpasHXr1i5zhjG6OLNmzcIPfvADNDQ0JD5OH374IVavXo3nnnuuyzZBZ2cnTpw4gY8//hiDBw/OGif+XmVG/R3S9ddfj4aGBrS1tXX5/N13300fJz1z+eWX49JLL8Wf/vSnbse2bduWiNh1dnZi5syZaGhowPr16zF69Oguxxmji3M2vdTa2pr4ODU1NeH06dOYP38+rrzyyvTfu+++i4aGBlx55ZV46qmnMHbsWPTr169bnI4fP46dO3cGHydnpGV+2fjjH//YrQ6ps7Mzuuaaa6JJkyYJWqaHTLLvf/iHf4hKSkq6yOPr6uoiANHzzz/fi1b2PidPnoy+9a1vRf369Yt+//vfX/R7SY5RFEXRZ5991u2z48ePR+PHj49KSkqiI0eORFGU7DgdOHAgev3117v9jRkzJqqpqYlef/316C9/+UsURVE0ffr0qLKyMmpra0u3/+UvfxkBiN58800pF0xQFEVRJLkg5sLs2bPx+uuv46GHHsI111yDl156Cdu2bcPmzZsxZcoUafPEWLlyJVpaWrB37148//zzuPPOOzFu3DgAwLx581BeXo7GxkaMGzcOQ4YMwYIFC9De3o6lS5eiqqoK27dvDzrNsnDhQqxYsQIzZ87E7Nmzux2/7777ACDRMQKAb3/722hra8OUKVNw+eWXY9++fXjllVdQX1+P5cuXY9GiRQAYp56YOnUqPv/8c3zwwQfpz/785z/jxhtvxOjRozF37lzs2bMHy5cvx5QpU7Bx40ZBaw0gvSLmQkdHR/Twww9Hw4cPj4qLi6OvfvWr0X/9139JmyXOF7/4xQhAj38fffRR+nsffPBBdNttt0WlpaXRkCFDonvvvTfat2+fnOG9xM0333zR+Fw49ZMaoyiKov/4j/+Ipk2bFg0bNizq169fdMkll0TTpk2L1q1b1+27SY5TT/T0pIYoiqKtW7dGN954YzRgwIDo0ksvjR588MEud0ykZ0zcIRFCCAkf9aIGQgghyYALEiGEEBVwQSKEEKICLkiEEEJUwAWJEEKICrggEUIIUQEXJEIIISrggkQIIUQF5hakVCqFn/70pz0+3p2cgTHKDcYpNxin3GCc3DH3pIa2tjaUl5ejtbW122vNyRkYo9xgnHKDccoNxskdr3dIqVQKjz32GEaMGIGSkhJMmjQJmzZt8jkkIYQQo3hdkL773e/i3/7t33DvvfdixYoV6Nu3L775zW/irbfe8jksIYQQg3h7Y+y2bdvwm9/8BkuXLsXDDz8MALj//vsxduxYPProo3jnnXdy6uf06dPYu3cvysrKUFRUlH5R34Uv7CPnYIxyg3HKDcYpNxinnomiCEeOHMGIESPQp0+WeyBfjxF/5JFHor59+0atra1dPn/mmWciAF1e8pWJxsbGjK8Q4B//+Mc//un/a2xszPp77+0OaceOHRg5cmS3zb2JEycCAHbu3Inq6uqs/ZSVlQE483Iwl43CvS0daDl2HENK+2PEkJK8jvtqK9VvJlzaknNInB+N88kFCV812iT12xU3DhfS1taG6urq9G95JrwtSM3NzaisrOz2+dnP9u7d22O7VCrVRTZ55MgRAMDgwYNjL0hNLR34f6vfRurkaRT364P/7+GpuPy8IGY67qutVL8ucSK5IXF+NM4nFyR81WiT1G9X3DhkoqioKOt3vIkaOjo6enyl8YABA9LHe2LJkiUoLy9P/+VyF5WNw0ePI3XyNAAgdfI0Dh89nvNxX22l+s2ES1tyDonzo3E+uSDhq0abpH674sbBFW8LUklJSY8FYp2dnenjPbF48WK0tram/xobG51tuWRgfxT3O+Nqcb8+uGRg/5yP+2or1W8mXNqSc0icH43zyQUJXzXaJPXbFTcOrngrjL311lvR1NSE//3f/+3y+ebNmzFt2jT87ne/w8yZM7P2U6his6aWDhw+ehyXDOzf4+1lpuO+2kr1mwmXtuQcEudH43xyQcJXjTZJ/XbFjcOF5PMb7m1BeuSRR/Czn/0Mhw4d6mLEM888gx//+Mf49NNPc0rHsfqZEELsks9vuLeU3axZs3Dq1CmsXr06/VkqlcKLL76ISZMmFWRviBBCSDh4U9lNmjQJtbW1WLx4Mfbv349rrrkGL730Ej7++GO88MILvoYlhBBiFG8LEgD86le/whNPPIFf//rXOHz4ML785S9j/fr1mDJlSuw+Ne6raMsNS/nq0q8ESZoTLv5IzQmN145Gm0JC/dO+z88/Hjn9BXx92ZaLau7jHMtGtrZxx5Xq15evLv1KkKQ54eKP1JzQeO1otMkCKvaQfKCxNkdbfYGUry79SpCkOeHij9Sc0HjtaLQpNEwtSBprc7TVF0j56tKvBEmaEy7+SM0JjdeORptCw1TKbvDgweb2VazlnLmHVJi22uaEiz/cQ9Jtk3ZU1CEVCtYhEUKIXYLdQyKEEBIuXmXfPkjSrbi2frXaFBeNcdKIr5Sdy7gW52lSU3b5YGpBSpKcU1u/Wm2Ki8Y4acSX7NtlXIvzNMmy73wwlbJLkpxTW79abYqLxjhpxMVXX+NanKe+bAoNUwtSkuSc2vrValNcNMZJIy6++hrX4jz1ZVNomFPZJSk3rK1frTbFRWOcNMI9JN02aYeyb0IIISqg7JsQQog5TKnsgGTdimvr17VtJiTSEhpTUT77lZhPvtDoq8Zrx9o1aWpBSpKcU1u/rm3jnldfaJQz++xXYj75QqOvGq8da9ckYCxllyQ5p7Z+XdtmQkLaqlHO7LNfifnkC42+arx2rF2TgLEFKUlyTm39urbNhIS0VaOc2We/EvPJFxp91XjtWLsmAYMqu5Byw9b6dW2bCWv7ED7H9dUv95Dcjkm2zYT2a5Kyb0IIISqg7JsQQog5uCARQghRgSnZN5Cs3HBcNPqq0aZsaHxki8Zzp5GQ5qnP+MftOx9fy/K47TG1ICWpvsBHjKR81WiTaxwl0HjuNBLSPPUZ/7h95+vrurnjc7bJVMouSfUFcdHoq0absiFVh5EJjedOIyHNU5/xj9t3vr62HMvdZlMLUpLqC+Ki0VeNNmVDqg4jExrPnUZCmqc+4x+373x9HVKau83mZN8h5YZ9odFXjTZlQ+PeicZzp5GQ5qn9PaQTrEMihBAiD+uQCCGEmMOUyg7grXiovvpKS2hMN1k77xpjmI0k/U5IXDu+xjS1IFHOKWevVPxd0ChZtnbeNcYwG0n6nZC4dnzOCVMpO8o5w/TVl7RVo2TZ2nnXGMNsJOl3QuLa8TknTC1IlHOG6asvaatGybK1864xhtlI0u+ExLXjc06YU9klKTecidB85R6Se1uN81SKJP1OaN9D4usnCCGEqICyb0IIIebggkQIIUQFpmTfQFi5YRc0+uoLXzb52svJdlxqv8zaHpK1/Rra5I6pBSmk+gKJOPhs6wtfNvmqB8p2XKrmylodkrWaH9rEOiTT9QUuaPTVF75scvHF2pxwsUninLvaFNLvhEWbXDC1IIVUX+CCRl994csmF1+szQkXmyTOuatNIf1OWLTJBXOy75DysC5o9NUX3EOStYl7SLSJdUh/hXVIhBBiF9YhEUIIMYcplV02rN32+vJHYzrJBYv+hJSqlZjDWn1Nkk2ZyKffsjxue4JZkKxJJ335o1GS7IJFf0KS+0vMYa2+JsmmuOe1p+Pr5o7P2udZgknZWZNO+vJHyl5fWPTH17jWJL7WrknaVJiSiQuPtxzLfc4EsyBZk0768kfKXl9Y9MfXuNYkvtauSdpUmJKJC48PKc19zgSlstOYh+UekjsW/eEekpy9Pn1Nkk2ZyG8P6QRl34QQQuSh7JsQQog5glHZATpvezX2mwmmZ9x99WmTxjhp69enTZmwGKe4/vhKSQezIGmUTmrsN24MkxZ/lzhpmxMabbLoa2hzIq4/Lv1mI5iUnUbppMZ+M+GrrcX4x/XVp00a46StX582ZcJinOL649JvNoJZkDRKJzX2mwlfbS3GP66vPm3SGCdt/fq0KRMW4xTXH5d+sxGUyi60fLXGPHjcthbjH9dXnzZpjJO2fn3alAmLcYrrTz798mnfhBBCVEDZNyGEEHNwQSKEEKKCYGTfrvjS1fvKDUvZ5KtfjfsFtMlmvz5tyoTGOPkiH5sS+foJF3zp6n3VF0jZJOGrxfoO2hSmr5nQGCdf5GtTIl8/4YIvXb2v+gIpm3z1q7HmhDbZ7NenTZnQGCdf5GuT19dPtLe348knn8T06dNRUVGBoqIirFmzpsfv7t69G9OnT8egQYNQUVGBOXPm4MCBA/kO6R1funpf9QVSNvnqV2PNCW2y2a9PmzKhMU6+yNcmr6+f+Pjjj3HllVeipqYGV111FbZs2YIXX3wR3/3ud7t8b8+ePRg3bhzKy8sxf/58tLe3Y9myZaipqcG2bdvQv39uRvaW7Fvjfo1Gm3z1q3G/gDbZ7NenTZnQGCdf5LeH5PH1E6lUCocPH8bw4cPxpz/9CV/96ld7XJAeeOABrFmzBvX19aipqQEA1NXV4dZbb8WqVaswd+7cnMZjHRIhhNjFax1ScXExhg8fnvV7r732Gu644470YgQA06ZNw8iRI7F27dp8hyWEEBI4XlR2TU1N2L9/PyZMmNDt2MSJE7FhwwYfw4ph7VZcKmXhw95sx62ljFywFieN8feZ/gopjegLLwtSc3MzAKCysrLbscrKShw6dAipVArFxcXdjqdSKaRSqfS/29rafJhYMKzJOaVkrz7sdfFHo+w4SXHSGH+fEuqQpOg+8SL77ujoAIAeF5wBAwZ0+c6FLFmyBOXl5em/6upqHyYWDGtyTinZqw97sx23Jjt2wVqcNMbfp4RawiaN8zQbXhakkpIzK+n5dzpn6ezs7PKdC1m8eDFaW1vTf42NjT5MLBjW5JxSslcf9mY7bk127IK1OGmMv08JtYRNGudpNpye9n0xlV1TUxOqqqrw7LPP4tFHH+3SZs6cOdiwYQMOHjyY0xgWVHbcQ5KzN9txa3sYLliLk8b4cw+pMOOeT6+9fiKT7Puyyy7D1KlTuynqRo0ahaqqKmzevDmnMSwsSIQQQnpGxesn7rrrLqxfv75Lym3z5s1oaGhAbW2tr2EJIYQYJZbKbuXKlWhpacHevXsBAG+88Qb27NkDAJg3bx7Ky8vxT//0T/jtb3+LW265BQsWLEB7ezuWLl2K6667Dn/3d39XOA8IIYQEQayU3RVXXIFPPvmkx2MfffQRrrjiCgDArl27sGjRIrz11lvo378/ZsyYgeXLl2PYsGE5j3Xh7V5I+eokYT0P3ls2WZynIfnqc183pD2kfGwK9hXmR05/IZiahyQRWi1FkmpzXGJhzVeftYEh1SHla5OKPSQfhFTzkCRCq6VIUm2OSyys+erSbzZ82RR3TCmbsmFqQQqp5iFJhFZLkaTaHJdYWPPVpd9s+LIp7phSNmXDVMqOe0h20ZgHd0HjHgb3kGRtygb3kALbQ2IdEiGE2CLYPSRCCCHh4uVp3z5heswvUjGUSIVYtNdaGstnuiluW6nfEIm5qGFOlOVx22NqQaLE2i9SMZSQ01q015oU2qdk2UeMfc5/ibmoZU6smzs+Z39MpewosfaLVAwl5LQW7bUmhfYpWY7bVuo3RGIuapkTLcdy99XUgkSJtV+kYighp7VorzUptE/Jcty2Ur8hEnNRy5wYUpq7r+ZUdtxD8gv3kHTbq32/gHtI8Wzy1a+GOVHW5wRl34QQQuSh7JsQQog5TKnsAJ2yb43pAV9YtDku2lMhFlJrGn2N64srIaWPKfuGTtm3RompLyzaHBcLclrt8myNvsb1xZWQShAo+/4rGmXfGiWmvrBoc1wsyGm1y7M1+hrXF1ckZN8ubSn7zgGNsm+NElNfWLQ5LhbktNrl2Rp9jeuLKxKyb5e2lH1fBAuyb+4hhQn3kHLDmq9xfXEluXtIlH0TQghRAGXfhBBCzMEFiRBCiApMyb4BnY+J8ZWv1rhfI7FfoBGN9lrb19K4Xya1D+dCSP6YWpAk6nqkah401vxI1JxoRKO91mqjNNZcSdVyuRCaP6ZSdhJ1PVI1DxprfiRqTjSi0V5rtVEaa6582uSL0PwxtSBJ1PVI1TxorPmRqDnRiEZ7rdVGaay58mmTL0Lzx5zsm3tIsnAP6Qwa7bW2r8I9pMKg3Z98ZN/mFiRCCCF2YB0SIYQQc5hS2QE2UyVx22lMO2h8TJK1NK41myzOiUyEdu1otCkuphYki3LbuO00Sld92eSCtVIAazZZnBNx42Tx2tFokwumUnYW5bZx22mUrvqyyQWJcTXKaa3Np6TJpLXF36dNLphakCzKbeO20yhd9WWTCxLjapTTWptPSZNJa4u/T5tcMKey4x6S2zGpttxDsmuTxTmRidCuHY02nQ9l34QQQlRA2TchhBBzcEEihBCiAlOybyCsnLQ1e13acg9JN6HF0Jc/Gq8d7TaV5XHbY2pBCqmuwZq9Wn21VvOjkdBi6MsfjdeOBZvWzR2fU3wBYym7kOoarNnr0tanr9ZqfjQSWgx9+aPx2rFgU8ux3GNsakEKqa7Bmr0ubX36aq3mRyOhxdCXPxqvHQs2DSnNPcbmZN8h7clYs9elLfeQdBNaDLmHpMemsj4nWIdECCFEHtYhEUIIMYcplR0gkz7Q+JgYX/hKozBlJ9uvCxrSPoVMrbm0054es/7bZWpBkpCg+pRdasOXFJeyb/+vJPGFFulwoeTZEr5Kxcnib5eplJ2EBNWn7FIbvqS4lH37fyWJL7RIhwslz5bw1aWtRpt8YmpBkpCg+pRdasOXFJeyb/+vJPGFFulwoeTZEr66tNVok0/Mqey4h+QX7iG5j+kyLveQcj/uYnPcdtxDyh++foIQQogKKPsmhBBiDlMqOyCslAU5h8bz6tJWYxorrj/0VbatRpt8YWpBCkn2Ss6h8by6tNUohY7rD32l7Juy74sQkuyVnEPjeXVpq1EKHdcf+irbVqNNPjG1IIUkeyXn0HheXdpqlELH9Ye+yrbVaJNPzKnsNO41aMvDWkTjeXVpy30Vv/26YG2/RqNN+UDZNyGEEBVQ9k0IIcQcXJAIIYSowJTsG5B5dI3Gx7mQc/jKg1vbL/CFhn2IQqLxcVISc9jnuHExtSDF1cZL1ZwQ//iqpbBWc+ILi7UsmZCob8p2XGIO+xzXBVMpu7jaeKmaE+IfX7UU1mpOfGGxliUTEvVN2Y5LzGGf47qQ14K0fft2/PCHP8SYMWMwcOBA1NTUYPbs2WhoaOj23d27d2P69OkYNGgQKioqMGfOHBw4cMDJ2LjaeKmaE+IfX7UU1mpOfGGxliUTEvVN2Y5LzGGf47qQl+x71qxZePvtt1FbW4svf/nL2LdvH1auXIn29nb88Y9/xNixYwEAe/bswbhx41BeXo758+ejvb0dy5YtQ01NDbZt24b+/XN3rlB1SNxDChfuIfnF2j5ENriH5H/c8/FWh/TOO+9gwoQJXRaUDz/8ENdddx1mzZqFl19+GQDwwAMPYM2aNaivr0dNTQ0AoK6uDrfeeitWrVqFuXPnenGGEEKILnq9MPaGG24AALz33nsAgGHDhuHmm2/G2rVru3xv1KhRqK6uRl1dXc59c0EihBC75PMb7qyyi6IIn332GcaMGQMAaGpqwv79+zFhwoRu3504cSI2bNjgNJ7G9IDGtERIWEuxuLRNkk0+05NJsskXhYpTWR5KBecF6ZVXXkFTUxOeeuopAEBzczMAoLKystt3KysrcejQIaRSKRQXF/fYXyqVQiqVSv+7ra0t/d8aZYoapa0hYU2m69I2STb5lLgnySZfFDJO6+aOz3lcJ9l3fX09HnzwQUyePBnf+c53AAAdHR0A0OOCM2DAgC7f6YklS5agvLw8/VddXZ0+plGmqFHaGhLWZLoubZNkk0+Je5Js8kUh49RyLHebYy9I+/btw4wZM1BeXo5XX30Vffv2BQCUlJxZKc+/yzlLZ2dnl+/0xOLFi9Ha2pr+a2xsTB/TKFPUKG0NCWsyXZe2SbLJp8Q9STb5opBxGlKau82xRA2tra2YOnUqPv30U2zduhWjR49OH2tqakJVVRWeffZZPProo13azZkzBxs2bMDBgwdzHisf2bfGXCtxh3tIYdpkcb9Go02+KNwe0gl/KrvOzk7cdttteO+991BXV4fJkyd3+85ll12GqVOn9qiyq6qqwubNm3Mejyo7Qgixi7fXT5w6dQp33303/ud//ge//e1ve1yMAOCuu+7C+vXru6TbNm/ejIaGBtTW1uYzJCGEkISQ1x3SwoULsWLFCsycOROzZ8/udvy+++4DADQ2NmLcuHEYMmQIFixYgPb2dixduhRVVVXYvn37RRV2PVGolJ3UrbgvNN7iuyBx7qSq2K2l7Hz5o9FXKZs0oj5lN3XqVPzhD3+46PHzu9q1axcWLVqEt956C/3798eMGTOwfPlyDBs2LNfhAHRdkI6c/oIpOacvNMpEXZA4dz4l1hK+WvNHo69SNmmk0LLvL31xeOFTdlu2bEEURRf9O58xY8Zg48aNOHr0KA4fPoyXX34578XoQqzJOX2hUSbqgsS58ymxlvDVmj8afZWySSPmZN8SWJNz+kKjTNQFiXPnU2It4as1fzT6KmWTRkzJvnsT7iHlP6a1XDXAPaTesEmbPxp95R7SOdTvIUlA2TchhNjFm+ybEEII8QUXJEIIISpwftp3b8PcsLu9FseVIKR9xWzHuYek1yaf+IpTXEwtSKwvcLfX4rgShFSblu0465D02uQTX3FywVTKjvUF7vZaHFcCX7U5vmAdUpg2+cRXnFwwtSCxvsDdXovjSuCrNscXrEMK0yaf+IqTC+Zk39Zyw77gHpJ/uIfkPq7Ga9KaTT7pjT2kfGTf5hYkQgghdmAdEiGEEHOYUtkBOh8Toy1VxZSdfyz6KpGy84XFlJ01CvfooNzHNLUgxZUbhib7zgRl3/6x6KuE7NsXFmXf1ihknNbNHZ/zuKZSdnHlhqHJvjNB2bd/LPoqIfv2hUXZtzUKGadEvn7CpZ012XcmKPv2j0VfJWTfvrAo+7ZGIeOU2NdPZIJ7SP771hYHn1j0lXtIbsdc21qjcHtIfP0EIYQQBVD2TQghxBxckAghhKjAlOwbsFeHFFrOWSI3L2GvT5uk4KOD/MbBhdDmWlxMLUjW6pBCq1uQqO+QsNenTVJI1CFJ1fxYuyZDm2sumErZWatDCq1uQaK+Q8JenzZJIVGHJFXzY+2aDG2uuWBqQbJWhxRa3YJEfYeEvT5tkkKiDkmq5sfaNRnaXHPBnOybe0iycA/JLtxD8hsHF0Kba+fD108QQghRAeuQCCGEmMOUyk4KPk7kHBK+SvXLc+e3X42P89KYWk4SXJCywEfSn0PCV6l+ee7ClH3H9cU1Ti7jJgmm7LLgU55qDQlfpfrlufPbr5TsO64vLv26jpskuCBlwac81RoSvkr1y3Pnt18p2XdcX1z6dR03SVBllwPcQzoH95Dswj0kN19c+nUd1zKUfRNCCFEBZd+EEELMQZVdDoR2O22tAl5j/DWm+6RSyxqfiqDxiS5J4vxYlOVx28MFKQuhSTKtPUVZY/w1SsalyhM0PllbQvatcZ5KcWEs1s0dn3NbpuyyEJokU0KK60tWLIVGybhUeYLEnHCxyaVdkko8XLgwFi3Hco8FF6QshCbJlJDi+pIVS6FRMi5VniAxJ1xscmmXpBIPFy6MxZDS3GNBlV0OhJYb5h6SO9xDcu+Xe0jh0nUP6QRl34QQQuSh7JsQQog5uCARQghRQVCyb2s5XGv2AmE9OkgKjY/T0divC6HNmUxovCYTX4dkrQ7Amr1AWK+fkELjKxk09usrxqGh8ZpkHRLs1QFYsxcI6/UTUkjUgbm01Viblo3Q5kwmNF6TrEOCvToAa/YCYb1+QgqJOjCXthpr07IR2pzJhMZrknVIf8Va3tiavYDOfLU1uIeUW78uhDZnMqHxmmQdEiGEEHWwDokQQog5zKnsNKYHkgRjLIu11Jove32NKzWHpdK42jC1IGmUmCYJxlgWa/JsX/b6GldqDkuVAmjEVMpOo8Q0STDGsliTZ/uy19e4UnNYqhRAI6YWJI0S0yTBGMtiTZ7ty15f40rNYalSAI2YU9lZyw2HBmMsC/eQ/I7LPaTCk4/KztyCRAghxA6UfRNCCDEHFyRCCCEqMCX7BuzlhjPhM4fui7g2aXwkjovNUudO4x6S9kfX9NaccEHj46QK5U+wr5+wVl+QCZ91GL6Ia5PPWorQamgkbNIY/7hx8GlTSOe1N/0J9vUT1uoLMuGzDsMXcW3yWUsRWg2NhE0a458JjXPCBan495Y/3l4/sWvXLtTW1uKqq65CaWkphg4diilTpuCNN97o9t3du3dj+vTpGDRoECoqKjBnzhwcOHAgn+G6Ya2+IBM+6zB8Edcmn7UUodXQSNikMf6Z0DgnXJCKf2/54+31Exs2bMC///u/Y/LkyRgxYgSOHTuG1157DVu3bsWqVaswd+5cAMCePXswbtw4lJeXY/78+Whvb8eyZctQU1ODbdu2oX//3A0MuQ6Je0i5Hde4X6AhN889JF1zwoWw95B68fUTp06dwg033IDOzk7U19cDAB544AGsWbMG9fX1qKmpAQDU1dXh1ltv7bJw5QLrkAghxC69WofUt29fVFdXo6WlJf3Za6+9hjvuuCO9GAHAtGnTMHLkSKxdu9Z1SEIIIQESS2V39OhRdHR0oLW1Fb/73e/w5ptv4u677wYANDU1Yf/+/ZgwYUK3dhMnTsSGDRucDLaWstN4O60RpqLc+9UYJwl7ffoqgcY4+SLWgvSjH/0Iq1atAgD06dMHd955J1auXAkAaG5uBgBUVlZ2a1dZWYlDhw4hlUqhuLi4x75TqRRSqVT6321tben/tib71ijJ1AjlzNnHdG0rEScJe336KoHGOPkkVspu4cKF2LRpE1566SXcfvvtOHXqFI4fPyPt6+joAIAeF5wBAwZ0+U5PLFmyBOXl5em/6urq9DFrsm+NkkyNUM7s3q/GOEnY69NXCTTGySexFqRrr70W06ZNw/3334/169ejvb0dM2fORBRFKCk5s4qef5dzls7OTgBIf6cnFi9ejNbW1vRfY2Nj+pg12bdGSaZGKGd271djnCTs9emrBBrj5JOCPO179erV+MEPfoD6+noMGjQIVVVVePbZZ/Hoo492+d6cOXOwYcMGHDx4MOe+rcu+uYeUGxr3C7iH5N6vhL0+fZVAY5zyoddfP7FixQosXLgQ7777LiZOnIjLLrsMU6dO7aaoGzVqFKqqqrB58+ac+6bsmxBC7OJN9r1///5un504cQK/+tWvUFJSgtGjRwMA7rrrLqxfv75Lum3z5s1oaGhAbW1tPkMSQghJCHndIX37299GW1sbpkyZgssvvxz79u3DK6+8gvr6eixfvhyLFi0CADQ2NmLcuHEYMmQIFixYgPb2dixduhRVVVXYvn37RRV2PZFPyk4KbSkLDbfp+WLtaQtMY+nt17VtXCxeO71x7rw9qeE3v/kNXnjhBbz//vs4ePAgysrKcMMNN2DevHn41re+1eW7u3btwqJFi/DWW2+hf//+mDFjBpYvX45hw4blOhyArgvSkdNfMCfLjNsuJDmzSyx8SaGl5LRx7ZXyx1q/rm3jYvHa6a1zt27ueHzpi8MLn7K75557sGnTJuzbtw8nTpzAoUOHsGnTpm6LEQCMGTMGGzduxNGjR3H48GG8/PLLeS9GF2JRlhm3XUhy5mz4skkqTtrmhEtba/26to2LxWunt86dt6d9S2NRlhm3XUhy5mz4skkqTtrmhEtba/26to2LxWunt86dt6d9S8A9JF25eV9wD0nWppD6dW0bF4vXjuk9JAko+yaEELv06tO+CSGEkELABYkQQogKYj3tWxJre0ja87uh79dojFMmNNqUDV/xjzuma99xkZqnvpCwydSCJKX1j2uThRqBkGt+NMYpbgylbHKxWWKuufYdF6l5KuGPT5tMpeyktP6Z0FaHIVWjYa3mxGIti4RNLjZLzDXXvuMiNU99IWWTqQVJSuufCW11GFI1GtZqTizWskjY5GKzxFxz7TsuUvPUF1I2mZN9cw9Jrl9fcZBqq3G/RqNN2eAekrtNIZ3XC+n110/4hHVIhBBiF9YhEUIIMYcplZ0UGm/FraXWkpay02hTXDTOf19otEkKyr4VolHOaU2enTTZt0ab4qJx/vtCo01SUPatFI1yTmvy7KTJvjXaFBeN898XGm2SgrJvpWiUc1qTZydN9q3RprhonP++0GiTFJR9XwQNKjuNOXTuIdEm7iEVHo02SUHZdw9oWJAIIYTEg7JvQggh5uCCRAghRAWJkX37fNSItT0kl34l9kZ8+ROaTRrPnUZfXUjSHlOh4l+Wx21PIhYkl1oKl7411iG59CtRX+PLn9Bs0njuNPrq69yFRiHjv27u+JzHTUTKzqWWwqVvjXVILv1K1Nf48ic0mzSeO42+upCkOqVCxr/lWO5xSsSC5FJL4dK3xjokl34l6mt8+ROaTRrPnUZfXUhSnVIh4z+kNPc4JUb2zT2kwvTLPSS9Nmk8dxp9dYF7SNmPXXi8rM8J1iERQgiRh3VIhBBCzGFOZWctZSRBaGkfF3+ZMsqtrcY54YK1+IdGImTf1mTHEoQmHXbxl7JjvXHyec1Zi39oJEb2bU12LEFo0mEXfyk7zq2txjnhgrX4h0ZiZN/WZMcShCYddvGXsuPc2mqcEy5Yi39oJEr2rXEPQxvcQ5L11dWfTIQUJ+4hhQtl34QQQtRB2TchhBBzmFLZATpTRtaQiJNUyk4Kbekx17Zx8TVmklLLGsnvSQ2592tqQdIoO7aGRJykZN9SaJNYu7bt7Ti49OsyrsbyBI3kGyfKvpXIdDUiEScp2bcU2iTWrm3j4mtMKSm6hOxeI/nGibJvJTJdjUjESUr2LYU2ibVr27j4GlNKii4hu9dIvnGi7Jt7SBnhHpJ/uIfkd0zuIcmS3x4SZd+EEEIUQNk3IYQQc3BBIoQQogJTsm9AZ27eGqHFSdveiItN3EuTbRuaTdnQNmdMLUga6zusEVqctNXXuNjEeizZmqvQbHI5P1KYStlprO+wRmhx0lZf42IT67Fk24ZmUzY0zhlTC5LG+g5rhBYnbfU1LjaxHku2bWg2ZUPjnDEn+9aYG7ZGaHHiHpJ7W18kab9Go03Z6I05k4/s29yCRAghxA6sQyKEEGIOUyo7QOetODmD1GNVeO7OoDFlFFp6TCMhxcnUgqRRzknO4Et+ynOXGxplx6FJrDUSWpxMpew0yjnJGXzJT3nuckOj7Dg0ibVGQouTqQVJo5yTnMGX/JTnLjc0yo5Dk1hrJLQ4mVPZacxXkzNwD0kWa3s93EMqDNrjRNk3IYQQFVD2TQghxBxckAghhKjAlOwbiJ/j9fn4DWtI+Orz8SZJ2i/IhLW9Hp/xT9LjpEI6d6YWpLj6dxc9fmhI+OqrRinb8dBqTjJhrV7IZ/wlxrUWf582uWAqZRdX/+6ixw8NCV991ShlOx5azUkmrNUL+Yy/xLjW4u/TJhecF6Snn34aRUVFGDt2bLdj77zzDm666SaUlpZi+PDhmD9/Ptrb22OPFVf/7qLHDw0JX33VKGU7HlrNSSas1Qv5jL/EuNbi79MmF5xk33v27MGoUaNQVFSEK664Ah988EH62M6dOzF58mR86Utfwty5c7Fnzx4sW7YMt9xyC958882cx8inDikT3EM6B/eQ3G3SiLU9DO4hFcZe7eeu1+qQ7rnnHhw4cACnTp3C559/3mVB+uY3v4mdO3eivr4+bcQvf/lL/P3f/z02btyI2267LacxWIdECCF26ZU6pP/+7//Gq6++iueee65HAzZt2oT77ruviwH3338/Bg0ahLVr18YdlhBCSKDEUtmdOnUK8+bNw/e//31cd9113Y6///77OHnyJCZMmNDl8/79++P666/Hjh074lkLudttbf26jGktVSX1SCKNaEzPaIyxRl+TalNZHrc9sRakn//85/jkk09QV1fX4/Hm5mYAQGVlZbdjlZWV2Lp160X7TqVSSKVS6X+3tbWl/1tKsqmtX5cxrcmdfUnGrcUB0Cnx1Rhjjb4m2aZ1c8fnfO7yTtkdPHgQP/nJT/DEE0/g0ksv7fE7HR0dAIDi4uJuxwYMGJA+3hNLlixBeXl5+q+6ujp9TEqyqa1flzGtyZ19ScatxQHQKfHVGGONvibZppZjuZ/3vBekxx9/HBUVFZg3b95Fv1NScma1PP9O5yydnZ3p4z2xePFitLa2pv8aGxvTx6Qkm9r6dRnTmtzZl2TcWhwAnRJfjTHW6GuSbRpSmvt5z0tl9+GHH+Laa6/Fc889h5kzZ6Y/v+eee3D48GFs3LgRgwcPxu7du3HTTTfhP//zPzF79uwufXzta1/DsWPH8N577+U0ZqFk39mw1q/LmNb2TriHdA7t+wVaYqzR16TaVNbnhB/Z95YtW3DLLbdk/M6CBQvwz//8zxg6dCgeeugh/Ou//mv62PHjx/E3f/M3mD17Nl544YWcxqTsmxBC7JLPb3heooaxY8fi9ddf7/b5448/jiNHjmDFihW4+uqrUV5ejmnTpuHll1/GE088gbKyMgDAr3/9a7S3t6O2tjafYQkhhCSAgrygb+rUqd0KY//85z/jxhtvxOjRo9NPali+fDmmTJmCjRs35tx3b90hSaSFNNxOF7JtJiw+qSFJ544pu9zsDS3+vXF+vN0h5cP48eNRV1eHxx57DA899BDKysrwve99D0uWLPE1ZGwkpMVaJJmFaisRX4txok2UfVuwSYqCPO17y5YtXe6OznLTTTfh7bffRkdHB/bv34+VK1em03eakJAWa5FkFqptJnzF18WfEOS01m3yhUZfrdkkhanXT/hCQlqsRZJZqLaZ8BVfF39CkNNat8kXGn21ZpMUBdlD8gn3kPT0m8vxi8E9JNrEPSRbNhWKXnvad29A2TchhNilV572TQghhBQSLkiEEEJU4E32LQHz1X59cbEptNx8NqTmYiZ87f/5ir8LvsbVOE/j2utz3LgEsyCx5sHd19BqKaRqNDTWd/iqIfMVf1+++jqvGuOk8TcmG8Gk7Fjz4NcXrb5K2JQNjfUdcW2Sir8LvsbVOE/j2utzXBeCWZBY8+DXF62+StiUDY31HXFtkoq/C77G1ThP49rrc1wXgpJ9cw/Jry8uNnEPSR7uIbmPq3GexrXX57jnwzokQgghKmAdEiGEEHOYU9lZS4VIpIw03uJrTNm5EFo6LxMW4x/SPJW6niUwtSBZk9NKyI41ykQ1yr5dCE0SngmL8Q9pnkpdz1KYStlZk9NKyI41ykQ1yr5dCE0SngmL8Q9pnkpdz1KYWpCsyWklZMcaZaIaZd8uhCYJz4TF+Ic0T6WuZynMqey05TwB7iG5HpNsGxfuIeV2nHtI/m3KhIY9JMq+CSGEqICyb0IIIeYwpbID5G5tfZCkW3ypVIgLGueaxhRwktJjGm0KCVMLkpQ80gdJkolKyWld0DjXNJYRJElirdGm0DCVspOSR/ogSTJRKTmtCxrnmkScKLHWbVNomFqQpOSRPkiSTFRKTuuCxrkmESdKrHXbFBrmVHYa8/px0ZhztrYP4WKTi83cQ3K3yeJ+jUabtEPZNyGEEBVQ9k0IIcQcXJAIIYSowJTsOzQ05pyTlJsnuaFxTvjyx6dNGq8dH/ZeeLwsj9seLkhCaKxbSFJ9B8kNjXPClz8+bdJ47fRWnNbNHZ/TmABTdmJorFtIUn0HyQ2Nc8KXPz5t0njt+LC3p+Mtx3IflwuSEBrrFpJU30FyQ+Oc8OWPT5s0Xjs+7O3p+JDS3Mel7FsQ7iHJtyXZ0TgnfPnDPaTC21TW5wTrkAghhMjDOiRCCCHmoMquAPh6JEvcthZTdhI2uSCVbpJAY8rO2mOSXNpajFNcuCA5EldaKSXJdLEpJCm6C1KSZQk0yr59xV9jeYLFOLnAlJ0jcaWVUpJMF5tCkqK7ICVZlkCj7NtX/KVsCi1OLnBBciSutFJKkuliU0hSdBekJMsSaJR9+4q/lE2hxckFquwKAPeQbNrkAveQcjse2t4I95Dyb8fXTxBCCFEBZd+EEELMwQWJEEKICij7/ish5YY17l9YzM1LoNGmbFjbV3TpV6KtxWun66ODcg4DFyQgrPoCjTUwFus7JNBoUzas1aa59CvR1uK1c+Fxvn4iT0KqL9BYA2OxvkMCjTZlQyL+GutrfLW1eO1ceJyvn8iTkOoLNNbAWKzvkECjTdmQiL/G+hpfbS1eOxce5+snYqA9Dxv63gjjdAaNNmWDe0h+21q8drruIfH1E4QQQhTAOiRCCCHmoMrur2i/7dXQr0+bMsE4hWtTJjT66oI1mwrVL2XfeWJBOindr0+b4p6bpMUpNJvinneN89SXP1I2FbJfyr7zxIJ0UrpfnzZlgnEK16ZMaPTVBWs2FbJfyr7zxIJ0UrpfnzZlgnEK16ZMaPTVBWs2FbJfyr5joDFfra1fnzZlgnEK16ZMaPTVBWs2Fapfyr4JIYSogLJvQggh5ghKZSd12+sLaymWuL5I+WNxTrigbT5ZnBMabXJB2/URzIIkJZ30hTWZblxfpPyxOCdc0DafLM4JjTa5oPH6CCZlJyWd9IU1mW5cX6T8sTgnXNA2nyzOCY02uaDx+ghmQZKSTvrCmkw3ri9S/licEy5om08W54RGm1zQeH0EpbLTlg91RWMe3IcvUv5YnBMuaJtPFueERptc6I1x8/kNV78gtba2YsiQIWhsbKTsmxBCjNHW1obq6mq0tLSgvLw843fVixqOHDkCAKiurha2hBBCSFyOHDmSdUFSf4d0+vRp7N27F2VlZSgqKkqvtrxjujiMUW4wTrnBOOUG49QzURThyJEjGDFiBPr0ySxbUH+H1KdPH1RVVXX7fPDgwTzpWWCMcoNxyg3GKTcYp+5kuzM6SzAqO0IIIbbhgkQIIUQF5hak4uJiPPnkkyguLpY2RS2MUW4wTrnBOOUG4+SOelEDIYSQZGDuDokQQkiYcEEihBCiAi5IhBBCVMAFiRBCiAq4IBFCCFEBFyRCCCEq4IJECCFEBVyQCCGEqOD/B6/mBc+PXlwyAAAAAElFTkSuQmCC",
          "text/plain": "<Figure size 640x480 with 1 Axes>"
         },
         "metadata": {},
         "output_type": "display_data"
        }
       ]
      }
     },
     "0aeefbcd6c554f7a9163050d8ca1eafe": {
      "model_module": "@jupyter-widgets/base",
      "model_module_version": "2.0.0",
      "model_name": "LayoutModel",
      "state": {}
     },
     "0bad985d5d2c4799b7f1bb8b77587cf1": {
      "model_module": "@jupyter-widgets/base",
      "model_module_version": "2.0.0",
      "model_name": "LayoutModel",
      "state": {}
     },
     "0bf806f9d0a94bf5a997621b16a67631": {
      "model_module": "@jupyter-widgets/controls",
      "model_module_version": "2.0.0",
      "model_name": "VBoxModel",
      "state": {
       "_dom_classes": [
        "widget-interact"
       ],
       "children": [
        "IPY_MODEL_809f7348dbd8492cbb8ebefb5c492c3a",
        "IPY_MODEL_75c65e224a8444c2bb5ed60c496fcc5e"
       ],
       "layout": "IPY_MODEL_66f38edf75f0492b82fab439feb86310"
      }
     },
     "0c271145de0542f9be50e184ada887d3": {
      "model_module": "@jupyter-widgets/base",
      "model_module_version": "2.0.0",
      "model_name": "LayoutModel",
      "state": {}
     },
     "0e797565543c44c9a09aa92695561afc": {
      "model_module": "@jupyter-widgets/controls",
      "model_module_version": "2.0.0",
      "model_name": "SliderStyleModel",
      "state": {
       "description_width": ""
      }
     },
     "10757f3a022549e7a307f1f50db8ced1": {
      "model_module": "@jupyter-widgets/base",
      "model_module_version": "2.0.0",
      "model_name": "LayoutModel",
      "state": {}
     },
     "137b575a4d0d4f318d7546640b9fe2e5": {
      "model_module": "@jupyter-widgets/controls",
      "model_module_version": "2.0.0",
      "model_name": "HBoxModel",
      "state": {
       "children": [
        "IPY_MODEL_311ddf5065bf43e89033c4d76e0aca63",
        "IPY_MODEL_3b928cc03a724d3898be712a05ad6bf2",
        "IPY_MODEL_162a5644dfb64251918a09924e832e78"
       ],
       "layout": "IPY_MODEL_304d043d4c0d4aea840135c62d8aefd5"
      }
     },
     "1429c3c50eb04462bacca2d01bb2c82c": {
      "model_module": "@jupyter-widgets/base",
      "model_module_version": "2.0.0",
      "model_name": "LayoutModel",
      "state": {}
     },
     "143243485b6d40028430b09b12fa928d": {
      "model_module": "@jupyter-widgets/base",
      "model_module_version": "2.0.0",
      "model_name": "LayoutModel",
      "state": {}
     },
     "147bd06efca748689466c77d84321fda": {
      "model_module": "@jupyter-widgets/base",
      "model_module_version": "2.0.0",
      "model_name": "LayoutModel",
      "state": {}
     },
     "162a5644dfb64251918a09924e832e78": {
      "model_module": "@jupyter-widgets/controls",
      "model_module_version": "2.0.0",
      "model_name": "HTMLModel",
      "state": {
       "layout": "IPY_MODEL_3993455b993a4eff8248ea90630d7f9f",
       "style": "IPY_MODEL_cb6806712aeb4f3aba1960391e715fa3",
       "value": " 1/10 [00:07&lt;00:36,  4.09s/it]"
      }
     },
     "16a16e9082a645099bd0f02e89a6f0da": {
      "model_module": "@jupyter-widgets/base",
      "model_module_version": "2.0.0",
      "model_name": "LayoutModel",
      "state": {}
     },
     "16c823a92ce54e468f0f354a8f99ef19": {
      "model_module": "@jupyter-widgets/controls",
      "model_module_version": "2.0.0",
      "model_name": "IntSliderModel",
      "state": {
       "behavior": "drag-tap",
       "description": "n",
       "layout": "IPY_MODEL_f1363f870f1249eeba0ed0ff8ed79e5d",
       "max": 430263,
       "min": 1,
       "style": "IPY_MODEL_cccb11db4bb34d548cd3f8ad2c7c10f7",
       "value": 215132
      }
     },
     "16d1ccffec92491b9de98d94a93813d1": {
      "model_module": "@jupyter-widgets/controls",
      "model_module_version": "2.0.0",
      "model_name": "SliderStyleModel",
      "state": {
       "description_width": ""
      }
     },
     "1b7a4b2548d44e2cbed6f4ff7848d89f": {
      "model_module": "@jupyter-widgets/base",
      "model_module_version": "2.0.0",
      "model_name": "LayoutModel",
      "state": {}
     },
     "1bd9ea67eed04b20be94ce9c1b806665": {
      "model_module": "@jupyter-widgets/controls",
      "model_module_version": "2.0.0",
      "model_name": "HBoxModel",
      "state": {
       "children": [
        "IPY_MODEL_b71f6fc1687740dd97e56340853266f9",
        "IPY_MODEL_b08cf36f07f445da86732ba1a5d9a9c4",
        "IPY_MODEL_656603b0cace433883b853bc94ef887d"
       ],
       "layout": "IPY_MODEL_0aeefbcd6c554f7a9163050d8ca1eafe"
      }
     },
     "1c5f55394bea4467b17a5b519394dece": {
      "model_module": "@jupyter-widgets/base",
      "model_module_version": "2.0.0",
      "model_name": "LayoutModel",
      "state": {}
     },
     "1f602ef3991b4383ab80084e5aafdd32": {
      "model_module": "@jupyter-widgets/base",
      "model_module_version": "2.0.0",
      "model_name": "LayoutModel",
      "state": {}
     },
     "1fb0e759181e4cc6a231d6766acc80a9": {
      "model_module": "@jupyter-widgets/controls",
      "model_module_version": "2.0.0",
      "model_name": "SliderStyleModel",
      "state": {
       "description_width": ""
      }
     },
     "2016127bdb1443a89b6e0d75a0be11dc": {
      "model_module": "@jupyter-widgets/output",
      "model_module_version": "1.0.0",
      "model_name": "OutputModel",
      "state": {
       "layout": "IPY_MODEL_51f6b30bc4bc48f99a9720bb3f027e0f",
       "outputs": [
        {
         "data": {
          "image/png": "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",
          "text/plain": "<Figure size 640x480 with 1 Axes>"
         },
         "metadata": {},
         "output_type": "display_data"
        }
       ]
      }
     },
     "2053383cbd224898b3548bc35938b7cb": {
      "model_module": "@jupyter-widgets/base",
      "model_module_version": "2.0.0",
      "model_name": "LayoutModel",
      "state": {}
     },
     "21df9a8d6b8545dba6ce40b410d076ff": {
      "model_module": "@jupyter-widgets/base",
      "model_module_version": "2.0.0",
      "model_name": "LayoutModel",
      "state": {}
     },
     "22479fab35c64e949f71f7965cda7e77": {
      "model_module": "@jupyter-widgets/controls",
      "model_module_version": "2.0.0",
      "model_name": "HTMLModel",
      "state": {
       "layout": "IPY_MODEL_f1fe11fda4784275a88a6985afad6ed6",
       "style": "IPY_MODEL_cbb4a45597744dc7929235b3d2dd47dc",
       "value": "100%"
      }
     },
     "24824bcc409d413e84130261414a9352": {
      "model_module": "@jupyter-widgets/controls",
      "model_module_version": "2.0.0",
      "model_name": "FloatProgressModel",
      "state": {
       "bar_style": "success",
       "layout": "IPY_MODEL_2d53866a39474f45b5db7adcd7c71304",
       "max": 10,
       "style": "IPY_MODEL_b5013216875c4490b41e6f08cba47c35",
       "value": 10
      }
     },
     "2492e38cd6a8482780d222aa70b3590e": {
      "model_module": "@jupyter-widgets/base",
      "model_module_version": "2.0.0",
      "model_name": "LayoutModel",
      "state": {}
     },
     "24d58e029b4e42eb9216fcbb786cc5b8": {
      "model_module": "@jupyter-widgets/controls",
      "model_module_version": "2.0.0",
      "model_name": "HTMLModel",
      "state": {
       "layout": "IPY_MODEL_d5145a3ff69c4da680a674d518cb7614",
       "style": "IPY_MODEL_832f6c70f3244045ae658d4b2dffd15b",
       "value": " 10/10 [00:08&lt;00:00,  1.14it/s]"
      }
     },
     "2572169a5a4947359d7d0bc35fd64006": {
      "model_module": "@jupyter-widgets/controls",
      "model_module_version": "2.0.0",
      "model_name": "IntSliderModel",
      "state": {
       "behavior": "drag-tap",
       "description": "n",
       "layout": "IPY_MODEL_9a4aa659af2648dd95fbebec39b169fc",
       "max": 430263,
       "min": 1,
       "style": "IPY_MODEL_803572893299405a8c56ecadad050462",
       "value": 58989
      }
     },
     "2669822d81b245cb8c5e619648fe8c64": {
      "model_module": "@jupyter-widgets/controls",
      "model_module_version": "2.0.0",
      "model_name": "HTMLModel",
      "state": {
       "layout": "IPY_MODEL_968888a5ba144acd81ae238e33a0baf9",
       "style": "IPY_MODEL_e5cf26e9e4cd4b909937bc49978e55b7",
       "value": " 10/10 [00:07&lt;00:00,  1.38it/s]"
      }
     },
     "287996fe53e74bcb9623bda3c5bf301e": {
      "model_module": "@jupyter-widgets/base",
      "model_module_version": "2.0.0",
      "model_name": "LayoutModel",
      "state": {}
     },
     "290a25523c064db294a8326e15c17e64": {
      "model_module": "@jupyter-widgets/controls",
      "model_module_version": "2.0.0",
      "model_name": "VBoxModel",
      "state": {
       "_dom_classes": [
        "widget-interact"
       ],
       "children": [
        "IPY_MODEL_2572169a5a4947359d7d0bc35fd64006",
        "IPY_MODEL_c37c149dd018467a854a9ea60d86bce5"
       ],
       "layout": "IPY_MODEL_2b6a45e1317c44ccb571abb9c6e72648"
      }
     },
     "2949b50df8cb41b097af3b6cdc2c908c": {
      "model_module": "@jupyter-widgets/base",
      "model_module_version": "2.0.0",
      "model_name": "LayoutModel",
      "state": {}
     },
     "2b6a45e1317c44ccb571abb9c6e72648": {
      "model_module": "@jupyter-widgets/base",
      "model_module_version": "2.0.0",
      "model_name": "LayoutModel",
      "state": {}
     },
     "2d53866a39474f45b5db7adcd7c71304": {
      "model_module": "@jupyter-widgets/base",
      "model_module_version": "2.0.0",
      "model_name": "LayoutModel",
      "state": {}
     },
     "2e5d708153bf4cc3bf02c05f02970b0b": {
      "model_module": "@jupyter-widgets/base",
      "model_module_version": "2.0.0",
      "model_name": "LayoutModel",
      "state": {}
     },
     "2e72fa1378c1426286bc3c65b8730008": {
      "model_module": "@jupyter-widgets/base",
      "model_module_version": "2.0.0",
      "model_name": "LayoutModel",
      "state": {}
     },
     "2e84883faf2f42cdb4d5063ed23d6364": {
      "model_module": "@jupyter-widgets/controls",
      "model_module_version": "2.0.0",
      "model_name": "VBoxModel",
      "state": {
       "_dom_classes": [
        "widget-interact"
       ],
       "children": [
        "IPY_MODEL_55b9412274e343dda412ada82ff49528",
        "IPY_MODEL_dcdfba9ea045400eb18c504554208fce"
       ],
       "layout": "IPY_MODEL_3dcf42843c124fb2909fc463c72e5f2a"
      }
     },
     "2eb197a2a0144c3ba941fccda9c7bc14": {
      "model_module": "@jupyter-widgets/controls",
      "model_module_version": "2.0.0",
      "model_name": "HTMLModel",
      "state": {
       "layout": "IPY_MODEL_81ee2a0720ae49fd88c4d887af83146a",
       "style": "IPY_MODEL_46ba9f9c3c6845138a335197471104fc",
       "value": " 10/10 [00:42&lt;00:00,  4.27s/it]"
      }
     },
     "304d043d4c0d4aea840135c62d8aefd5": {
      "model_module": "@jupyter-widgets/base",
      "model_module_version": "2.0.0",
      "model_name": "LayoutModel",
      "state": {}
     },
     "311ddf5065bf43e89033c4d76e0aca63": {
      "model_module": "@jupyter-widgets/controls",
      "model_module_version": "2.0.0",
      "model_name": "HTMLModel",
      "state": {
       "layout": "IPY_MODEL_440d2245f4b74d0abdce61c2f04c01e7",
       "style": "IPY_MODEL_74998106857848dc9617bbf61b35cb45",
       "value": " 10%"
      }
     },
     "317b76a35b4749d289517229e0d7fc1f": {
      "model_module": "@jupyter-widgets/output",
      "model_module_version": "1.0.0",
      "model_name": "OutputModel",
      "state": {
       "layout": "IPY_MODEL_8c24ae8b0ff543dba6dddfae05cff252",
       "outputs": [
        {
         "data": {
          "image/png": "iVBORw0KGgoAAAANSUhEUgAAAaQAAAGmCAYAAAAzhPA+AAAAOXRFWHRTb2Z0d2FyZQBNYXRwbG90bGliIHZlcnNpb24zLjguMCwgaHR0cHM6Ly9tYXRwbG90bGliLm9yZy81sbWrAAAACXBIWXMAAA9hAAAPYQGoP6dpAAAl9ElEQVR4nO3dfYxU1f3H8c/ChmUBd3ADhV1c6lPQIipQhGLsauvWYhUTHxab4ENbra1RxMcarE+xEdIgVhISBdv4VGODGmPFWgtGLWp1QTGi0axplO4ui4CWGdbujoLn94e/HV1ndmZ2LofzvbPvVzJ/MHfuvWfO3J0P5855qHDOOQEAENiQ0AUAAEAikAAARhBIAAATCCQAgAkEEgDABAIJAGACgQQAMIFAAgCYQCABAEwgkAAAJsQikNLptK6//nrV19erurpas2bN0tq1a0MXK6iuri7dcsstmjNnjmpra1VRUaH7778/52vfffddzZkzR6NGjVJtba3OP/987dixY/8WOIANGzbo8ssv11FHHaWRI0dq4sSJmjdvnlpbW7NeO1jrSJLeeecdNTc369BDD9WIESM0ZswYNTY26qmnnsp67WCup2+6/fbbVVFRoSlTpmRte+WVV3TCCSdoxIgRGj9+vK644gp1dXUFKGXMuBj46U9/6iorK921117rVq5c6WbPnu0qKyvd+vXrQxctmA8++MBJchMnTnQnnXSSk+Tuu+++rNe1tbW5MWPGuMMOO8wtX77c3X777e7AAw90xx57rEun0/u/4PvR2Wef7caPH+8WLFjg7r33Xve73/3OjRs3zo0cOdJt3rw587rBXEfOOff000+7H//4x+7WW291q1atcnfddZf7/ve/7yS5lStXZl432Ovp69ra2tyIESPcyJEj3VFHHdVn26ZNm9zw4cPdtGnT3N133+1++9vfuqqqKjdnzpxApY0P84H02muvOUlu6dKlmee6u7vdYYcd5mbPnh2wZGH19PS4zs5O55xzGzZs6DeQLr30UlddXe22bNmSeW7t2rVZXzbl6OWXX876omxtbXVVVVVu/vz5mecGcx31Z8+ePe7YY491RxxxROY56ukr5557rvvhD3/oTjzxxKxAOvXUU11dXZ1LJpOZ5+69914nyT377LP7u6ixYj6QrrvuOjd06NA+H65zzi1evNhJcv/5z38ClcyOfIH0rW99yzU3N2c9P2nSJHfyySfvh9LZM336dDd9+vTMv6mj3E4//XQ3bty4zL+ppy+9+OKLbujQoe6tt97KCqRkMukqKyvddddd12efdDrtRo0a5S666KL9XdxYMf8b0qZNmzRp0iTV1NT0eX7mzJmSpDfffDNAqeKho6ND27dv14wZM7K2zZw5U5s2bQpQqrCcc/roo480ZswYSdTR13366afauXOn/v3vf+sPf/iDnnnmGZ188smSqKdee/fu1YIFC3TxxRfr6KOPztq+efNm7dmzJ6uehg0bpqlTpw6aeipVZegCFNLZ2am6urqs53uf27p16/4uUmx0dnZKUr/198knnyidTquqqmp/Fy2Yhx9+WB0dHbrtttskUUdfd80112jlypWSpCFDhuiss87SihUrJFFPve655x5t2bJF69aty7m9UD2tX7/ea/niznwgdXd357zIhw8fntmO3HrrplD9lfuXSK/33ntPl112mWbPnq0LL7xQEnX0dVdeeaXOOeccbd26VatXr9bevXv12WefSaKeJOnjjz/WzTffrJtuukljx47N+ZpC9cT3VX7mb9lVV1crnU5nPd/T05PZjtx664b6k7Zt26bTTjtNiURCjz32mIYOHSqJOvq6I488Uk1NTbrgggu0Zs0adXV1ae7cuXLOUU+SbrzxRtXW1mrBggX9vqZQPZV7HUVlvoVUV1enjo6OrOd7m8b19fX7u0ix0XvboLeuvq6zs1O1tbVl/T/aXslkUqeeeqp27dql9evX97lmqKP+nXPOOfrVr36l1tbWQV9P77//vlatWqW77rqrz88EPT09+vzzz/Xhhx+qpqamYD3xfZWf+RbS1KlT1draqlQq1ef51157LbMduU2YMEFjx47Vxo0bs7a1tLQMirrr6enR3Llz1draqjVr1mjy5Ml9tlNH/eu9vZRMJgd9PXV0dOiLL77QFVdcoUMOOSTzeO2119Ta2qpDDjlEt912m6ZMmaLKysqsevrss8/05ptvln09RRa6m18hr776atY4pJ6eHnf44Ye7WbNmBSyZHfm6ff/617921dXVfbrHr1u3zklyd999934s5f63Z88ed8YZZ7jKykr39NNP9/u6wVxHzjn30UcfZT332WefuenTp7vq6mq3e/du59zgrqcdO3a4J554Iutx1FFHuYkTJ7onnnjCvfXWW8455+bMmePq6upcKpXK7P/HP/7RSXLPPPNMqLcQCxXOORcyEIsxb948PfHEE7rqqqt0+OGH64EHHlBLS4uee+45NTY2hi5eMCtWrNCuXbu0detW3X333TrrrLM0bdo0SdKCBQuUSCTU1tamadOmafTo0Vq4cKG6urq0dOlSHXTQQdqwYUNZ32a58sortXz5cs2dO1fz5s3L2n7eeedJ0qCuI0k688wzlUql1NjYqAkTJmjbtm16+OGH9d5772nZsmW6+uqrJVFPuZx00knauXOn3n777cxzb7zxho4//nhNnjxZl1xyidrb27Vs2TI1Njbq2WefDVjaGAidiMXo7u521157rRs/fryrqqpyxx13nPv73/8euljBffvb33aScj4++OCDzOvefvttd8opp7gRI0a40aNHu/nz57tt27aFK/h+cuKJJ/ZbP9+89AdrHTnn3COPPOKamprcuHHjXGVlpTvwwANdU1OTe/LJJ7NeO5jrKZdcMzU459z69evd8ccf74YPH+7Gjh3rLrvssj4tJuQWixYSAKD8me/UAAAYHAgkAIAJBBIAwAQCCQBgAoEEADCBQAIAmEAgAQBMIJAAACbELpDS6bRuvfXWnNO740vUUXGop+JQT8WhnqKL3UwNqVRKiURCyWQya1lzfIk6Kg71VBzqqTjUU3ReW0jpdFrXX3+96uvrVV1drVmzZmnt2rU+TwkAiCmvgfSzn/1Md955p+bPn6/ly5dr6NCh+slPfqKXXnrJ52kBADHkbcXYlpYW/eUvf9HSpUt17bXXSpIuuOACTZkyRb/5zW/0yiuvFHWcL774Qlu3btUBBxygioqKzEJ931ywD1+hjopDPRWHeioO9ZSbc067d+9WfX29hgwp0AbyNY34dddd54YOHeqSyWSf5xcvXuwk9VnkK5+2tra8Swjw4MGDBw/7j7a2toLf995aSJs2bdKkSZOyftybOXOmJOnNN99UQ0NDweMccMABkr5cHGxf/1CYSCRK3jeZTJo7b5Tj+uKrvFHqP258fq6lfj6h6j9KmXztm0+oMkX5u/P1N9v7XZ6Pt0Dq7OxUXV1d1vO9z23dujXnful0uk+3yd27d0uSampqTPVcCVUWS3VQDF/ljVs9WFVqPVqs/yhlsnidxnHffCoqKgq+xlunhu7u7pxLGg8fPjyzPZclS5YokUhkHsW0ogAA8ectkKqrq3MOEOvp6clsz2XRokVKJpOZR1tbm68iAgAM8XbLrq6uTh0dHVnPd3Z2SpLq6+tz7ldVVZWzZQUAKG/eAmnq1Kl6/vnnlUql+tyTfO211zLbB8LiD/YhFHMfdl9zESbziFLefOctdNxS9y30Xn29n1Ci1EWI4/oS5XoKcdwofJ4z17F7Z7Aohrdbduecc4727t2rVatWZZ5Lp9O67777NGvWLH4bAgD04a2FNGvWLDU3N2vRokXavn27Dj/8cD3wwAP68MMP9ac//cnXaQEAMeUtkCTpwQcf1E033aSHHnpI//3vf3XMMcdozZo1amxs9HlaAEAMmZ/teyD3H/enUL+rhMBvSMWft9Qy+TpnFBZ/Qyq3z85iHZd6zv7OO5BZ0GO3HhIAoDwRSAAAEwgkAIAJXjs17A8+f9/wdR82xM92vn5zKbRvlOOWes5Cxw7x21Qx20sV4je+UNdTlDJFOWepx/b5u1apLI+lo4UEADCBQAIAmEAgAQBMIJAAACYQSAAAEwgkAIAJsen23d+0Ez67TZZTV0+fQtRToX0tTh2UT9ymkPHZ/ddiV+hSr6dQQ0t81aHv90MLCQBgAoEEADCBQAIAmEAgAQBMIJAAACYQSAAAEwgkAIAJsRmHNFhYHMPkq0xxXBLD4tIhFvcNUU8hzlnovD6XJCn1Go/C9/cPLSQAgAkEEgDABAIJAGACgQQAMIFAAgCYQCABAEyIfbdvn0sY+JrWP1T31Hx8LfUQhcUu7vmEWprC4nIavsTt87FYXp+ilpkWEgDABAIJAGACgQQAMIFAAgCYQCABAEwgkAAAJsSm23cikShpP1/ds0N18bXYxbrUbsc+Z5MOUaYoLJYpn1DdyeM2A3mo8loa7pJKpYr+/qaFBAAwgUACAJhAIAEATCCQAAAmEEgAABMIJACACQQSAMCE2IxD6o/PsQW+xrKEGptTqhBjlKIcN8q+oZYGCVVPvt6vr7+PfAodN8TfVqjPzuJ3QTFoIQEATCCQAAAmEEgAABMIJACACQQSAMAEAgkAYELsu31HMZim9WdZha/ErWu3z+6/Ibqbh+run0+obtIhPjufQwGifj60kAAAJhBIAAATCCQAgAkEEgDABAIJAGACgQQAMIFAAgCYEPtxSD771FscQ5NP3MZ+FBJqvFCpQi2J4evz8bVcg6+/2VD1FEqpdezz7yrXsVOplBKJRFH700ICAJhAIAEATCCQAAAmEEgAABMGHEhdXV265ZZbNGfOHNXW1qqiokL3339/zte+++67mjNnjkaNGqXa2lqdf/752rFjR9QyAwDK0IB72e3cuVO33XabJk6cqGOPPVYvvPBCzte1t7ersbFRiURCixcvVldXl+644w5t3rxZLS0tGjZsWNSyAwDKyIADqa6uTp2dnRo/frw2btyo4447LufrFi9erE8//VSvv/66Jk6cKEmaOXOmfvSjH+n+++/XJZdcEq3kRQoxXX2hc/rqTmtRqK62obq95uPrvKGWGshnMC0TYbE7eRyHeUgl3LKrqqrS+PHjC77u8ccf1+mnn54JI0lqamrSpEmTtHr16oGeFgBQ5rx0aujo6ND27ds1Y8aMrG0zZ87Upk2bfJwWABBjXmZq6OzslPTl7b1vqqur0yeffKJ0Oq2qqqqs7el0Wul0OvPvVCrlo4gAAGO8tJC6u7slKWfgDB8+vM9rvmnJkiVKJBKZR0NDg48iAgCM8RJI1dXVktSnpdOrp6enz2u+adGiRUomk5lHW1ubjyICAIzxcsuu91Zd7627r+vs7FRtbW3O1pP0Zauqv20AgPLlJZAmTJigsWPHauPGjVnbWlpaNHXqVB+nzclid80QXVd9zoRc6vvxNTu2TyFm1vbZTb3U92OxTIVY/C6wOMv7vh5GYGK277PPPltr1qzpc8vtueeeU2trq5qbm32dFgAQUyW1kFasWKFdu3Zp69atkqSnnnpK7e3tkqQFCxYokUjohhtu0KOPPqof/OAHWrhwobq6urR06VIdffTR+vnPf77v3gEAoCxUuBLa3gcffLC2bNmSc9sHH3yggw8+WJL0zjvv6Oqrr9ZLL72kYcOG6bTTTtOyZcs0bty4os81kOZeLiFGsVscHR/HW3a+brGEGsUeYkG1UDMmxG32AoszNZTbLbtkMqmampq8+5cUSPsTgbRvzksgFXfcQgikLxFIxe9bqsEYSCw/AQAwgUACAJhAIAEATPAyDml/inKf1ee+cRPid4pQdVhu9/zzieNyDSF+a/Ol3K4J3++HFhIAwAQCCQBgAoEEADCBQAIAmEAgAQBMIJAAACbEptt3f9NO+JymJ1SX2VLFsdtrPnHr4htqOqN84jglTql8fheUei2G+n7Kd16L12kvWkgAABMIJACACQQSAMAEAgkAYAKBBAAwgUACAJhAIAEATIjNOKRSxW0p5UJCvJ8o5wyx5HeUfS0uSRLqGrY41qvclp/3VSZf48uiLGFeDFpIAAATCCQAgAkEEgDABAIJAGACgQQAMIFAAgCYUPbdvvOx2MUXX7G4/EG5LadRah377M4c5by+9i2Vzy77vq6nEEuS9KKFBAAwgUACAJhAIAEATCCQAAAmEEgAABMIJACACYO627fFmcCjzGId5bhRzllO3ZkLCTEDeRSh6t/ijPYW6zhu30G+rydaSAAAEwgkAIAJBBIAwAQCCQBgAoEEADCBQAIAmEAgAQBMiM04pEQikfN5n2MAfI0bsbh0RdzG10RhcWxUqLEsFsfmxO16sliHFq+1YtBCAgCYQCABAEwgkAAAJhBIAAATCCQAgAkEEgDAhNh0+04mk6qpqQldjEEpyvITUY5rUZTutPn2jVs3XV/XhE8M4yjOvr4WU6lUv8N2vokWEgDABAIJAGACgQQAMIFAAgCYQCABAEwgkAAAJhBIAAATYjMOqVS+pua31M+/GD7HSvg6tq8xP1GEWBrB5/Ifpe5rcemWQse1ODYqnyh1HOW4IdFCAgCYQCABAEwgkAAAJhBIAAATBhRIGzZs0OWXX66jjjpKI0eO1MSJEzVv3jy1trZmvfbdd9/VnDlzNGrUKNXW1ur888/Xjh079lnBAQDlZUC97H7/+9/r5ZdfVnNzs4455hht27ZNK1as0PTp0/Xqq69qypQpkqT29nY1NjYqkUho8eLF6urq0h133KHNmzerpaVFw4YN8/JmAAAx5gbg5Zdfdul0us9zra2trqqqys2fPz/z3KWXXuqqq6vdli1bMs+tXbvWSXIrV64cyCldMpl0koI88il1v0J8ldfnea19NnEU6nONsq+1a9HXca1ei74+V19lSiaTBfev+P+DRPLd735XkvT6669LksaNG6cTTzxRq1ev7vO6I444Qg0NDVq3bl3Rxx7IWhr7Wr6qsbh+TajzhrAPLltTQl1PpV7jhYS4FgudM9TaUL6Ues34Gt9U6NjFrGkXuVODc04fffSRxowZI0nq6OjQ9u3bNWPGjKzXzpw5U5s2bYp6SgBAGYocSA8//LA6Ojp07rnnSpI6OzslSXV1dVmvraur0yeffKJ0Ot3v8dLptFKpVJ8HAKD8RQqk9957T5dddplmz56tCy+8UJLU3d0tSaqqqsp6/fDhw/u8JpclS5YokUhkHg0NDVGKCACIiZIDadu2bTrttNOUSCT02GOPaejQoZKk6upqScrZCurp6enzmlwWLVqkZDKZebS1tZVaRABAjJQ0uWoymdSpp56qXbt2af369aqvr89s671V13vr7us6OztVW1ubs/XUq6qqKu92AEB5GnAg9fT0aO7cuWptbdW6des0efLkPtsnTJigsWPHauPGjVn7trS0aOrUqSUVtJgeGrlYnPU5374WewqFmp051L4hyhSqh6SvnlqlnjOKUNdEPj57KpZ6zVjujTugW3Z79+7Vueeeq3/961969NFHNXv27JyvO/vss7VmzZo+t9uee+45tba2qrm5OVqJAQBlaUDjkK688kotX75cc+fO1bx587K2n3feeZKktrY2TZs2TaNHj9bChQvV1dWlpUuX6qCDDtKGDRsGdEuudxxSiBZSqf+TCNXP39d4CIstinJrIUVhsdUcojVSiMVrotTjhhLl/RTzHT6gQDrppJP04osv9rv964d65513dPXVV+ull17SsGHDdNppp2nZsmUaN25csaeTRCAN5NgWv/AIpOL2jYJAKo7Fa6LU44ZiKpBCIJCKP7bFLzwCqbh9oyCQimPxmij1uKH4DiSWnwAAmEAgAQBMIJAAACaUNDA2hP5m/I5ynzXUmJ8o4na/OsQYmUJC/b5h8XrKp9x+6yn1nKGOG+o3yZBoIQEATCCQAAAmEEgAABMIJACACQQSAMAEAgkAYEJsun33x+I0+HFcQiLElESFhOh2HOWz87lvqXx1HbbYJTwKX1Mh+fzbCfE94vu7jRYSAMAEAgkAYAKBBAAwgUACAJhAIAEATCCQAAAmEEgAABNiPw6pkBDLhVtcmjvK+AGL0+CXW5ksLk0RasxVqXVRbmPIQnx3Fdq3kFzHTqVS/S4f9E20kAAAJhBIAAATCCQAgAkEEgDABAIJAGACgQQAMCE23b6TyaRqamqyno+yrEIhIbrpWux+GoWv8oZ6r7664kZhcWiDLxY/d1/XeNy+u/bFsWkhAQBMIJAAACYQSAAAEwgkAIAJBBIAwAQCCQBgQmy6ffc3W6zFbtI+u3qG6H5qsTu5RaFm+47yuYf4G/A1U7uvOvTJ13ktDTFgtm8AQOwQSAAAEwgkAIAJBBIAwAQCCQBgAoEEADCBQAIAmBCbcUj9LT9RiMVxFr74GmsUZdxIiLE3Uc4bZVybL1HK5GsJg1D1FOqzs/j3nk9cxw7SQgIAmEAgAQBMIJAAACYQSAAAEwgkAIAJBBIAwITYdPvuj88ul6V2nbS4JIbPeir1/fjsphti+v1C5yy1TL66K/vkcwkWfMliV/So1xstJACACQQSAMAEAgkAYAKBBAAwgUACAJhAIAEATCCQAAAmxH4cUiFxHNdTqhDjm0IJ9bmGGFflc/mJUuvR13Gj8Fmmcvp7DzUmsRi0kAAAJhBIAAATCCQAgAkEEgDAhAEF0jvvvKPm5mYdeuihGjFihMaMGaPGxkY99dRTWa999913NWfOHI0aNUq1tbU6//zztWPHjn1WcABAeRlQL7stW7Zo9+7duvDCC1VfX6///e9/evzxx3XGGWdo5cqVuuSSSyRJ7e3tamxsVCKR0OLFi9XV1aU77rhDmzdvVktLi4YNG+blzQAAYsxFtGfPHnfssce6I444IvPcpZde6qqrq92WLVsyz61du9ZJcitXrhzQ8ZPJpJPkkslk1KJmkeTlEeW8vvb19V6jnDcKn+/H1+cegq8y+7om4lj/cbvGQ523mO/wyL8hDR06VA0NDdq1a1fmuccff1ynn366Jk6cmHmuqalJkyZN0urVq6OeEgBQhkoaGPvpp5+qu7tbyWRSf/3rX/XMM8/o3HPPlSR1dHRo+/btmjFjRtZ+M2fO1N/+9rdoJQYAlKWSAumaa67RypUrJUlDhgzRWWedpRUrVkiSOjs7JUl1dXVZ+9XV1emTTz5ROp1WVVVVzmOn02ml0+nMv1OpVClFBADETEm37K688kqtXbtWDzzwgE499VTt3btXn332mSSpu7tbknIGzvDhw/u8JpclS5YokUhkHg0NDaUUEQAQMyUF0pFHHqmmpiZdcMEFWrNmjbq6ujR37lw551RdXS1JfVo5vXp6eiQp85pcFi1apGQymXm0tbWVUkQAQMzsk4Gx55xzjjZs2KDW1tbMrbreW3df19nZqdra2n5v10lftqxqamr6PAAA5W+fzPbdewsumUzqiCOO0NixY7Vx48as17W0tGjq1KklnSORSEQpYk4uwizK+fb1OZtuoTL7OK7FmY5DfXZR6t/ibOyllslX/Rfa16JQ15Ov4+7r95NKpYr+/h5QC2n79u1Zz33++ed68MEHVV1drcmTJ0uSzj77bK1Zs6bP7bbnnntOra2tam5uHsgpAQCDRIUbQJSeeeaZSqVSamxs1IQJE7Rt2zY9/PDDeu+997Rs2TJdffXVkqS2tjZNmzZNo0eP1sKFC9XV1aWlS5fqoIMO0oYNG/LesvumgaTrQFlsIfn6H1OU/6n52tdnq4AWUuFzFhLqvfpaNyoEn393pR43iigtpGQyWfgnmMLjhb/yyCOPuKamJjdu3DhXWVnpDjzwQNfU1OSefPLJrNe+/fbb7pRTTnEjRoxwo0ePdvPnz3fbtm0byOmcc1/N1ODjUUip+/osU6minNfXvj6FeK++yuTrnFbfq7W/nSh8/t1ZvJ5yGchsOwNqIYVAC2nfoIVU3HlpIX0l1HulhVTcvqUeNwrfLSSWnwAAmEAgAQBMIJAAACbsk3FI5arU+7BR7pGHuudc6jmjCDVGIwpfdWxx3I6v37x8XePl9ntNlPPG7bugFy0kAIAJBBIAwAQCCQBgAoEEADCBQAIAmEAgAQBMiE2376Im5tvHLC4/USqLXaijsDidUbl1O7Z4HVsUpZ4sLkkS8ruCFhIAwAQCCQBgAoEEADCBQAIAmEAgAQBMIJAAACYQSAAAE2IzDqnUZcwtjtGIMh4l1BiaEHyN74gixDIRPscohRgHE2oJc4vLqvtaTsPXd0whUa8ZWkgAABMIJACACQQSAMAEAgkAYAKBBAAwgUACAJgQm27fpS4/4atba6iu26V2E/X1XqOcN1T3Ul9dbX3x1SW5EItDAXyxWIcWu6L7RgsJAGACgQQAMIFAAgCYQCABAEwgkAAAJhBIAAATYtPtO06zfYea4ddiN91Q9ZSPrzq02GU85MzN+/u8FrtY++SrnkKuGkALCQBgAoEEADCBQAIAmEAgAQBMIJAAACYQSAAAEwgkAIAJsRmHFCcWxyyEGt/kc9mLfHxNzR9lX4tLoYQY1+ZrfJPFsUShxnL5utYKyXXsVCpV9DhSWkgAABMIJACACQQSAMAEAgkAYAKBBAAwgUACAJgQ+27fFqfIt9hNOo5T88et+3yoafvj1j3el8G2/Eep16Ll7wJaSAAAEwgkAIAJBBIAwAQCCQBgAoEEADCBQAIAmEAgAQBMiM04pGQyqZqamv16zlLHLVgct7O/p5wvhs9xRiHGYfgaBxO38ViSzWUtovx9+PrsQoyNCjVerhi0kAAAJhBIAAATCCQAgAkEEgDAhMiBdPvtt6uiokJTpkzJ2vbKK6/ohBNO0IgRIzR+/HhdccUV6urqinpKAEAZitTLrr29XYsXL9bIkSOztr355ps6+eST9Z3vfEd33nmn2tvbdccdd+j999/XM888E+W0AIAyFCmQrr32Wn3ve9/T3r17tXPnzj7bbrjhBh144IF64YUXMt21Dz74YP3yl7/UP/7xD51yyikDOlcikSipjBan5g/RJbaQEMsq+PxsLC6rUGpdWFzqwefQhhDd4311Y49jV/SQSr5l989//lOPPfaY7rrrrqxtqVRKa9eu1Xnnnddn7NAFF1ygUaNGafXq1aWeFgBQpkoKpL1792rBggW6+OKLdfTRR2dt37x5s/bs2aMZM2b0eX7YsGGaOnWqNm3aVFppAQBlq6Rbdvfcc4+2bNmidevW5dze2dkpSaqrq8vaVldXp/Xr1/d77HQ6rXQ6nfl3KpUqpYgAgJgZcAvp448/1s0336ybbrpJY8eOzfma7u5uSVJVVVXWtuHDh2e257JkyRIlEonMo6GhYaBFBADE0IAD6cYbb1Rtba0WLFjQ72uqq6slqU9Lp1dPT09mey6LFi1SMpnMPNra2gZaRABADA3olt3777+vVatW6a677tLWrVszz/f09Ojzzz/Xhx9+qJqamsytut5bd1/X2dmp+vr6fs9RVVWVs2UFAChzbgCef/55JynvY+HChW7Xrl2usrLSXXfddX32T6fTbtSoUe4Xv/hF0edMJpNOkksmkzm3FypPvkcoUcrs6/34KlOU8lp8rxb5ej+hjhtCqHry9fcRqn7znbe/7/CvG1ALacqUKXriiSeynr/xxhu1e/duLV++XIcddpgSiYSampr05z//WTfddJMOOOAASdJDDz2krq4uNTc3D+S0AIBBoOL/Uy2Sk046STt37tTbb7+dee6NN97Q8ccfr8mTJ+uSSy5Re3u7li1bpsbGRj377LNFHzuVSimRSPS7HlKIAXhRhVoPJp8Qg+UKlTfUoNp8Ql0z+YRa38nXcUPUcbmt7xTluFHkK1Mxa9p5m1x1+vTpWrdunaqrq3XVVVdp1apVuuiii/TYY4/5OiUAIMb2SQvJJ1pIxaOFVJw4XjP50EKKjhbSvmG2hQQAwEAQSAAAEwgkAIAJkZafsMDibwkW75FbFOq+fZTj+vpdq9RzRj1vqe/H5+9w5VSmQkL8duuznnJt7+0HUAxaSAAAEwgkAIAJBBIAwAQCCQBgAoEEADCBQAIAmBCbbt/FdhsciLh11yx03ijvx+J0LSG6WBdi8ZqJUk+lvh9f09oUc+xS98tXpijlDVH/hfgaluL7e48WEgDABAIJAGACgQQAMIFAAgCYQCABAEwgkAAAJhBIAAATYjMOqVSDaamHUGOjLI6lCMHiUtahyuTrsyuncXih7O96YvkJAEDsEEgAABMIJACACQQSAMAEAgkAYAKBBAAwITbdvpPJpGpqakIXI8NXN9Fy67ptsYtvFCE+nyjLBUQ5tsVu9xaXVYjbkiSF+KrjYtBCAgCYQCABAEwgkAAAJhBIAAATCCQAgAkEEgDAhNh0++5vtlif3X9L7TrpczZdX2UK0Y031CzWIWYnl8JcT1GObbGOowwFCNUV2tpxCwk5kz4tJACACQQSAMAEAgkAYAKBBAAwgUACAJhAIAEATCCQAAAmxGYcUn/LT8RtrITP84aaNt7XuAWLZYpyzlI/H5/XuMUlPnwJsUyHxeMWEvLvjhYSAMAEAgkAYAKBBAAwgUACAJhAIAEATCCQAAAmxKbbd38sLmFQ6Lghzuuz+2/cugdb7KbuaxmCKEJdTxa7oof4fOL4/RQVLSQAgAkEEgDABAIJAGACgQQAMIFAAgCYQCABAEwgkAAAJsRmHFIikShpvxBTqfs8Z8gxAvuaz/cSYrxWIRaXxLB23Cjn9fnZlfo37fO7IC5lSqVSRX9/00ICAJhAIAEATCCQAAAmEEgAABMIJACACeZ72UWd3TeVSu2jkuyf4/oSpbxxe69S6WUebPUUQhz/JkNcTyGPXapcZep9rpjv8gpnfO2A9vZ2NTQ0hC4GACCCtrY2HXTQQXlfYz6QvvjiC23dulUHHHCAKioqlEql1NDQoLa2NtXU1IQunknUUXGop+JQT8WhnnJzzmn37t2qr6/XkCH5fyUyf8tuyJAhOVO1pqaGD70A6qg41FNxqKfiUE/ZGBgLAIgVAgkAYELsAqmqqkq33HKLqqqqQhfFLOqoONRTcain4lBP0Znv1AAAGBxi10ICAJQnAgkAYAKBBAAwgUACAJhAIAEATCCQAAAmEEgAABMIJACACf8HEFJecK2yelEAAAAASUVORK5CYII=",
          "text/plain": "<Figure size 640x480 with 1 Axes>"
         },
         "metadata": {},
         "output_type": "display_data"
        }
       ]
      }
     },
     "3254ab0b859a48788704d6de4aba614f": {
      "model_module": "@jupyter-widgets/controls",
      "model_module_version": "2.0.0",
      "model_name": "VBoxModel",
      "state": {
       "_dom_classes": [
        "widget-interact"
       ],
       "children": [
        "IPY_MODEL_96a1cbeeeb6b4bdc8411cc33ea4b67de",
        "IPY_MODEL_e43ea6d2ac77419da73a1dccd301c60f"
       ],
       "layout": "IPY_MODEL_b83f925751634377a5e66b48d3a2f75f"
      }
     },
     "33b3f56ef69a4a198a751e05e3daf119": {
      "model_module": "@jupyter-widgets/base",
      "model_module_version": "2.0.0",
      "model_name": "LayoutModel",
      "state": {}
     },
     "34db6e57843a4e7688352467e6f286c1": {
      "model_module": "@jupyter-widgets/base",
      "model_module_version": "2.0.0",
      "model_name": "LayoutModel",
      "state": {}
     },
     "35b39cde3bd344bf8693bcda35830ffa": {
      "model_module": "@jupyter-widgets/output",
      "model_module_version": "1.0.0",
      "model_name": "OutputModel",
      "state": {
       "layout": "IPY_MODEL_a11dd8ec553242458fc10bfb590a2ba4",
       "outputs": [
        {
         "data": {
          "image/png": "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",
          "text/plain": "<Figure size 640x480 with 1 Axes>"
         },
         "metadata": {},
         "output_type": "display_data"
        }
       ]
      }
     },
     "35b6269063c44e2c9afda1a87c902986": {
      "model_module": "@jupyter-widgets/controls",
      "model_module_version": "2.0.0",
      "model_name": "VBoxModel",
      "state": {
       "_dom_classes": [
        "widget-interact"
       ],
       "children": [
        "IPY_MODEL_d435a051b5824957b63a9155a005e174",
        "IPY_MODEL_d4209d72c4c447a399231548aaa33fa2"
       ],
       "layout": "IPY_MODEL_143243485b6d40028430b09b12fa928d"
      }
     },
     "35bb8848f8804103acf8066f63ca7671": {
      "model_module": "@jupyter-widgets/controls",
      "model_module_version": "2.0.0",
      "model_name": "ProgressStyleModel",
      "state": {
       "description_width": ""
      }
     },
     "3718db7add9e4fe6add85ffb0a88b811": {
      "model_module": "@jupyter-widgets/controls",
      "model_module_version": "2.0.0",
      "model_name": "VBoxModel",
      "state": {
       "_dom_classes": [
        "widget-interact"
       ],
       "children": [
        "IPY_MODEL_3fe09373563a47aab5eb29b92a934907",
        "IPY_MODEL_de204f4d60424e7fb08391cf12b5cbfb"
       ],
       "layout": "IPY_MODEL_006901546d574f6091e82de35b107700"
      }
     },
     "3789897ca5814a4a9c5930e6b0a145f1": {
      "model_module": "@jupyter-widgets/base",
      "model_module_version": "2.0.0",
      "model_name": "LayoutModel",
      "state": {}
     },
     "37baab0350c2475683682b3b363ba8db": {
      "model_module": "@jupyter-widgets/controls",
      "model_module_version": "2.0.0",
      "model_name": "IntSliderModel",
      "state": {
       "behavior": "drag-tap",
       "description": "n",
       "layout": "IPY_MODEL_60427e7554374ae2b25685111357dad9",
       "max": 430263,
       "min": 1,
       "style": "IPY_MODEL_7c443fd0b1354a91a9a6030ad2c65c5e",
       "value": 215132
      }
     },
     "3968999c6e0544adb21f5b3910497073": {
      "model_module": "@jupyter-widgets/base",
      "model_module_version": "2.0.0",
      "model_name": "LayoutModel",
      "state": {}
     },
     "3993455b993a4eff8248ea90630d7f9f": {
      "model_module": "@jupyter-widgets/base",
      "model_module_version": "2.0.0",
      "model_name": "LayoutModel",
      "state": {}
     },
     "3b928cc03a724d3898be712a05ad6bf2": {
      "model_module": "@jupyter-widgets/controls",
      "model_module_version": "2.0.0",
      "model_name": "FloatProgressModel",
      "state": {
       "bar_style": "danger",
       "layout": "IPY_MODEL_a8119cd98a564f0982ad42537e17cb6b",
       "max": 10,
       "style": "IPY_MODEL_010d422c1ba44757869186052ca1d9e0",
       "value": 1
      }
     },
     "3bfd02bb0f824d3cab21e322f943ea99": {
      "model_module": "@jupyter-widgets/controls",
      "model_module_version": "2.0.0",
      "model_name": "HTMLModel",
      "state": {
       "layout": "IPY_MODEL_5ffe1076e87b4c6eaee98b32c7a7fced",
       "style": "IPY_MODEL_825b4bf1589d4fa9823a81608c181b4a",
       "value": "100%"
      }
     },
     "3c16f3aff6ed469b91d1d3a0a755588a": {
      "model_module": "@jupyter-widgets/controls",
      "model_module_version": "2.0.0",
      "model_name": "IntSliderModel",
      "state": {
       "behavior": "drag-tap",
       "description": "n",
       "layout": "IPY_MODEL_741440e8de0e4ae583dd679b532dd36b",
       "max": 45921,
       "min": 1,
       "style": "IPY_MODEL_f116064006c54b1cac3a5f3e6bed6ddc",
       "value": 45921
      }
     },
     "3dcf42843c124fb2909fc463c72e5f2a": {
      "model_module": "@jupyter-widgets/base",
      "model_module_version": "2.0.0",
      "model_name": "LayoutModel",
      "state": {}
     },
     "3fe09373563a47aab5eb29b92a934907": {
      "model_module": "@jupyter-widgets/controls",
      "model_module_version": "2.0.0",
      "model_name": "IntSliderModel",
      "state": {
       "behavior": "drag-tap",
       "description": "n",
       "layout": "IPY_MODEL_534adb5f6541453dbfd0949b4256e92f",
       "max": 45921,
       "min": 1,
       "style": "IPY_MODEL_698a0ebfef984d93810fdb82ec696dcc",
       "value": 45921
      }
     },
     "40242a94226248c0bdcc3fad1fdd8a7b": {
      "model_module": "@jupyter-widgets/controls",
      "model_module_version": "2.0.0",
      "model_name": "IntSliderModel",
      "state": {
       "behavior": "drag-tap",
       "description": "n",
       "layout": "IPY_MODEL_2053383cbd224898b3548bc35938b7cb",
       "max": 242902,
       "min": 1,
       "style": "IPY_MODEL_ad430393784f4acba6981d967a2250f7",
       "value": 242902
      }
     },
     "407e92bb932d40d3ae798b2713521fbd": {
      "model_module": "@jupyter-widgets/controls",
      "model_module_version": "2.0.0",
      "model_name": "VBoxModel",
      "state": {
       "_dom_classes": [
        "widget-interact"
       ],
       "children": [
        "IPY_MODEL_898dc0fa82cf4066a22fd4be5b0bf6e8",
        "IPY_MODEL_317b76a35b4749d289517229e0d7fc1f"
       ],
       "layout": "IPY_MODEL_8ed21cdcfe6c4783b8129d8f9d3d8a76"
      }
     },
     "40cfb932f8c640689e6b5d7495470061": {
      "model_module": "@jupyter-widgets/controls",
      "model_module_version": "2.0.0",
      "model_name": "IntSliderModel",
      "state": {
       "behavior": "drag-tap",
       "description": "n",
       "layout": "IPY_MODEL_1b7a4b2548d44e2cbed6f4ff7848d89f",
       "max": 430263,
       "min": 1,
       "style": "IPY_MODEL_863e0a1aa6b64f16a41c7bb5b15c41c5",
       "value": 430263
      }
     },
     "410b59af9fb041d291f63e0125051025": {
      "model_module": "@jupyter-widgets/base",
      "model_module_version": "2.0.0",
      "model_name": "LayoutModel",
      "state": {}
     },
     "41f9baf71c0143acb6e39f38fc907405": {
      "model_module": "@jupyter-widgets/base",
      "model_module_version": "2.0.0",
      "model_name": "LayoutModel",
      "state": {}
     },
     "437030d0e5d34c96adffa3939a28ea6f": {
      "model_module": "@jupyter-widgets/controls",
      "model_module_version": "2.0.0",
      "model_name": "VBoxModel",
      "state": {
       "_dom_classes": [
        "widget-interact"
       ],
       "layout": "IPY_MODEL_9801bcefaf1a4615a6b925b5bbd1b14c"
      }
     },
     "440d2245f4b74d0abdce61c2f04c01e7": {
      "model_module": "@jupyter-widgets/base",
      "model_module_version": "2.0.0",
      "model_name": "LayoutModel",
      "state": {}
     },
     "447fcd80368b4072b7884573d6ed65ab": {
      "model_module": "@jupyter-widgets/base",
      "model_module_version": "2.0.0",
      "model_name": "LayoutModel",
      "state": {}
     },
     "45a741ccb6d7457aa4db6b4de41c8389": {
      "model_module": "@jupyter-widgets/controls",
      "model_module_version": "2.0.0",
      "model_name": "HTMLModel",
      "state": {
       "layout": "IPY_MODEL_7f456697276b460887ae5582a90f6f0f",
       "style": "IPY_MODEL_9fb910109c544c768fe72a906edf5aaa",
       "value": " 0/10 [00:03&lt;?, ?it/s]"
      }
     },
     "4654882083dd496c859cef26ff98d394": {
      "model_module": "@jupyter-widgets/controls",
      "model_module_version": "2.0.0",
      "model_name": "DropdownModel",
      "state": {
       "_options_labels": [
        "1",
        "2",
        "3",
        "4"
       ],
       "description": "n",
       "index": 0,
       "layout": "IPY_MODEL_a2d400ee6cb044ae965e1d306cbc02aa",
       "style": "IPY_MODEL_d3ccb1f5c60c4a47b2469fddc6d92e43"
      }
     },
     "46a77947705e40ec807d3bf5657bffcb": {
      "model_module": "@jupyter-widgets/controls",
      "model_module_version": "2.0.0",
      "model_name": "VBoxModel",
      "state": {
       "_dom_classes": [
        "widget-interact"
       ],
       "children": [
        "IPY_MODEL_ec815a9c32ff40c09e948721d5a0fa31",
        "IPY_MODEL_04244525008941bbb709f8190fa40992"
       ],
       "layout": "IPY_MODEL_f862f2457f7a4f089cacfbe81be821b0"
      }
     },
     "46ba9f9c3c6845138a335197471104fc": {
      "model_module": "@jupyter-widgets/controls",
      "model_module_version": "2.0.0",
      "model_name": "HTMLStyleModel",
      "state": {
       "description_width": "",
       "font_size": null,
       "text_color": null
      }
     },
     "477d63817b544d3aa2f1a0bc44b2e9aa": {
      "model_module": "@jupyter-widgets/base",
      "model_module_version": "2.0.0",
      "model_name": "LayoutModel",
      "state": {}
     },
     "483d05cb54bc451787b888a470a7ab5a": {
      "model_module": "@jupyter-widgets/controls",
      "model_module_version": "2.0.0",
      "model_name": "ProgressStyleModel",
      "state": {
       "description_width": ""
      }
     },
     "48e24d591c3a4e17af38624d05eedfb2": {
      "model_module": "@jupyter-widgets/base",
      "model_module_version": "2.0.0",
      "model_name": "LayoutModel",
      "state": {}
     },
     "497593e1eac147e2b39f47850bffe02d": {
      "model_module": "@jupyter-widgets/output",
      "model_module_version": "1.0.0",
      "model_name": "OutputModel",
      "state": {
       "layout": "IPY_MODEL_93fcfc38d10c4dbe862733ebcfa9c6c2",
       "outputs": [
        {
         "name": "stdout",
         "output_type": "stream",
         "text": "Counter({(7, 3): 1, (5, 5): 1, (5, 3): 1})\n"
        },
        {
         "data": {
          "image/png": "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",
          "text/plain": "<Figure size 640x480 with 1 Axes>"
         },
         "metadata": {},
         "output_type": "display_data"
        }
       ]
      }
     },
     "4ce2659276fb44efa0daf1dc1cc9157f": {
      "model_module": "@jupyter-widgets/controls",
      "model_module_version": "2.0.0",
      "model_name": "FloatProgressModel",
      "state": {
       "bar_style": "danger",
       "layout": "IPY_MODEL_a8b801a34a94472384df911ad996fb00",
       "max": 10,
       "style": "IPY_MODEL_968e11a0e7bb4b16a5dc06e7318092de"
      }
     },
     "4e0a01d7a8854e869127525e09140af5": {
      "model_module": "@jupyter-widgets/base",
      "model_module_version": "2.0.0",
      "model_name": "LayoutModel",
      "state": {}
     },
     "50eb18cf7f354a108170bebc39d2765d": {
      "model_module": "@jupyter-widgets/output",
      "model_module_version": "1.0.0",
      "model_name": "OutputModel",
      "state": {
       "layout": "IPY_MODEL_8c3f63275c4c4e4cb4284b7045e69eac",
       "outputs": [
        {
         "data": {
          "image/png": "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",
          "text/plain": "<Figure size 640x480 with 1 Axes>"
         },
         "metadata": {},
         "output_type": "display_data"
        }
       ]
      }
     },
     "51896b6f50ea4d818dbc7dc68ce3ba64": {
      "model_module": "@jupyter-widgets/controls",
      "model_module_version": "2.0.0",
      "model_name": "HTMLStyleModel",
      "state": {
       "description_width": "",
       "font_size": null,
       "text_color": null
      }
     },
     "51f6b30bc4bc48f99a9720bb3f027e0f": {
      "model_module": "@jupyter-widgets/base",
      "model_module_version": "2.0.0",
      "model_name": "LayoutModel",
      "state": {}
     },
     "52325a67c0e74f25905ddc9847942bec": {
      "model_module": "@jupyter-widgets/controls",
      "model_module_version": "2.0.0",
      "model_name": "DescriptionStyleModel",
      "state": {
       "description_width": ""
      }
     },
     "534adb5f6541453dbfd0949b4256e92f": {
      "model_module": "@jupyter-widgets/base",
      "model_module_version": "2.0.0",
      "model_name": "LayoutModel",
      "state": {}
     },
     "53a6afa795df4f15bd3584f40409812d": {
      "model_module": "@jupyter-widgets/base",
      "model_module_version": "2.0.0",
      "model_name": "LayoutModel",
      "state": {}
     },
     "552e11c51897495880acdfba74f52834": {
      "model_module": "@jupyter-widgets/controls",
      "model_module_version": "2.0.0",
      "model_name": "SliderStyleModel",
      "state": {
       "description_width": ""
      }
     },
     "55af2b8998034cf7becf5806da8b1c51": {
      "model_module": "@jupyter-widgets/controls",
      "model_module_version": "2.0.0",
      "model_name": "HTMLModel",
      "state": {
       "layout": "IPY_MODEL_043802242b47437fac1f38681b6892ce",
       "style": "IPY_MODEL_f78e1fd3ed4d48a98bf667073a370855",
       "value": " 0/10 [00:03&lt;?, ?it/s]"
      }
     },
     "55b9412274e343dda412ada82ff49528": {
      "model_module": "@jupyter-widgets/controls",
      "model_module_version": "2.0.0",
      "model_name": "DropdownModel",
      "state": {
       "_options_labels": [
        "1",
        "2",
        "3",
        "4"
       ],
       "description": "n",
       "index": 1,
       "layout": "IPY_MODEL_447fcd80368b4072b7884573d6ed65ab",
       "style": "IPY_MODEL_52325a67c0e74f25905ddc9847942bec"
      }
     },
     "59579628e3f9491897bd4bb66aff3fad": {
      "model_module": "@jupyter-widgets/base",
      "model_module_version": "2.0.0",
      "model_name": "LayoutModel",
      "state": {}
     },
     "5a32fc4d14804c619829c0ffcaaaa59a": {
      "model_module": "@jupyter-widgets/base",
      "model_module_version": "2.0.0",
      "model_name": "LayoutModel",
      "state": {}
     },
     "5afceab12e1b4293935a3a8459fdf982": {
      "model_module": "@jupyter-widgets/controls",
      "model_module_version": "2.0.0",
      "model_name": "VBoxModel",
      "state": {
       "_dom_classes": [
        "widget-interact"
       ],
       "children": [
        "IPY_MODEL_40242a94226248c0bdcc3fad1fdd8a7b",
        "IPY_MODEL_50eb18cf7f354a108170bebc39d2765d"
       ],
       "layout": "IPY_MODEL_2949b50df8cb41b097af3b6cdc2c908c"
      }
     },
     "5cca349751a5440ca234cd1c91189b14": {
      "model_module": "@jupyter-widgets/base",
      "model_module_version": "2.0.0",
      "model_name": "LayoutModel",
      "state": {}
     },
     "5d953a612494496383f372e5dc80037b": {
      "model_module": "@jupyter-widgets/controls",
      "model_module_version": "2.0.0",
      "model_name": "DescriptionStyleModel",
      "state": {
       "description_width": ""
      }
     },
     "5f7480e7a98b4a3792c26bf33b516809": {
      "model_module": "@jupyter-widgets/controls",
      "model_module_version": "2.0.0",
      "model_name": "SliderStyleModel",
      "state": {
       "description_width": ""
      }
     },
     "5ffe1076e87b4c6eaee98b32c7a7fced": {
      "model_module": "@jupyter-widgets/base",
      "model_module_version": "2.0.0",
      "model_name": "LayoutModel",
      "state": {}
     },
     "60427e7554374ae2b25685111357dad9": {
      "model_module": "@jupyter-widgets/base",
      "model_module_version": "2.0.0",
      "model_name": "LayoutModel",
      "state": {}
     },
     "6136276a94034470a9bbb002b059a3fd": {
      "model_module": "@jupyter-widgets/controls",
      "model_module_version": "2.0.0",
      "model_name": "HTMLStyleModel",
      "state": {
       "description_width": "",
       "font_size": null,
       "text_color": null
      }
     },
     "633b63355dd0406bbf4ca5c7dc3d6af0": {
      "model_module": "@jupyter-widgets/controls",
      "model_module_version": "2.0.0",
      "model_name": "SliderStyleModel",
      "state": {
       "description_width": ""
      }
     },
     "6345de7c089d4e6bbd6a7fe7406e6173": {
      "model_module": "@jupyter-widgets/controls",
      "model_module_version": "2.0.0",
      "model_name": "VBoxModel",
      "state": {
       "_dom_classes": [
        "widget-interact"
       ],
       "layout": "IPY_MODEL_21df9a8d6b8545dba6ce40b410d076ff"
      }
     },
     "638c259eb6b046e5b80f33a409e919b7": {
      "model_module": "@jupyter-widgets/base",
      "model_module_version": "2.0.0",
      "model_name": "LayoutModel",
      "state": {}
     },
     "6405070c1c1743d6be71ac81abedcd04": {
      "model_module": "@jupyter-widgets/controls",
      "model_module_version": "2.0.0",
      "model_name": "FloatProgressModel",
      "state": {
       "bar_style": "danger",
       "layout": "IPY_MODEL_8eff54d16e724712ba3e396195ffd29c",
       "max": 10,
       "style": "IPY_MODEL_483d05cb54bc451787b888a470a7ab5a"
      }
     },
     "6432dd6080f54e978b3871095aef95a8": {
      "model_module": "@jupyter-widgets/controls",
      "model_module_version": "2.0.0",
      "model_name": "SliderStyleModel",
      "state": {
       "description_width": ""
      }
     },
     "64ad767cfd21413e979d00a85c043f07": {
      "model_module": "@jupyter-widgets/base",
      "model_module_version": "2.0.0",
      "model_name": "LayoutModel",
      "state": {}
     },
     "656603b0cace433883b853bc94ef887d": {
      "model_module": "@jupyter-widgets/controls",
      "model_module_version": "2.0.0",
      "model_name": "HTMLModel",
      "state": {
       "layout": "IPY_MODEL_e83d4659085c43dab122a64f78ba1c49",
       "style": "IPY_MODEL_e3e75c9248b343f3b0078513e4b1ff3d",
       "value": " 10/10 [00:42&lt;00:00,  4.33s/it]"
      }
     },
     "66f38edf75f0492b82fab439feb86310": {
      "model_module": "@jupyter-widgets/base",
      "model_module_version": "2.0.0",
      "model_name": "LayoutModel",
      "state": {}
     },
     "68957adfdbd34773a0d77974b9284a8c": {
      "model_module": "@jupyter-widgets/controls",
      "model_module_version": "2.0.0",
      "model_name": "VBoxModel",
      "state": {
       "_dom_classes": [
        "widget-interact"
       ],
       "children": [
        "IPY_MODEL_37baab0350c2475683682b3b363ba8db",
        "IPY_MODEL_adad997e82c649439541526f69826656"
       ],
       "layout": "IPY_MODEL_7f598851bd2f4121939ad4cad06f44c0"
      }
     },
     "68c44741a7cd4510b161b7e60da37dbb": {
      "model_module": "@jupyter-widgets/base",
      "model_module_version": "2.0.0",
      "model_name": "LayoutModel",
      "state": {}
     },
     "6985d0ae6ac842b6b65a16d9e4d3ce6f": {
      "model_module": "@jupyter-widgets/controls",
      "model_module_version": "2.0.0",
      "model_name": "IntSliderModel",
      "state": {
       "behavior": "drag-tap",
       "description": "n",
       "layout": "IPY_MODEL_a327848789c24034bbf1317ae222761d",
       "max": 244014,
       "min": 1,
       "style": "IPY_MODEL_a460e88851bb4a679ff5897b93cbad93",
       "value": 244014
      }
     },
     "698a0ebfef984d93810fdb82ec696dcc": {
      "model_module": "@jupyter-widgets/controls",
      "model_module_version": "2.0.0",
      "model_name": "SliderStyleModel",
      "state": {
       "description_width": ""
      }
     },
     "6dd331572a96411aaa2deb0f3e575d24": {
      "model_module": "@jupyter-widgets/controls",
      "model_module_version": "2.0.0",
      "model_name": "DropdownModel",
      "state": {
       "_options_labels": [
        "0",
        "1",
        "2",
        "3",
        "4"
       ],
       "description": "n",
       "index": 0,
       "layout": "IPY_MODEL_b0c3bf7f334648a592a7aad1db84878e",
       "style": "IPY_MODEL_ed36dadee12b416486990ba021380f95"
      }
     },
     "6ebc6836d7a24a58a0359d4e0e49fcb0": {
      "model_module": "@jupyter-widgets/output",
      "model_module_version": "1.0.0",
      "model_name": "OutputModel",
      "state": {
       "layout": "IPY_MODEL_33b3f56ef69a4a198a751e05e3daf119",
       "outputs": [
        {
         "data": {
          "image/png": "iVBORw0KGgoAAAANSUhEUgAAAaQAAAGmCAYAAAAzhPA+AAAAOXRFWHRTb2Z0d2FyZQBNYXRwbG90bGliIHZlcnNpb24zLjguMCwgaHR0cHM6Ly9tYXRwbG90bGliLm9yZy81sbWrAAAACXBIWXMAAA9hAAAPYQGoP6dpAAAmIklEQVR4nO3de4zU1f3/8dfChmUBd3ADhV1c6i1oERUUoRi72rparGKistgEL221tlYRrzVYb7ER/kCsJCQKtvFWY4MaY8VaC0YtanVBMaKRrGmU7i6LgJYZ1u6Oiuf3h7/dr+vMzu3D4bw/s89HMn8w87mcOfPZeXE+cy4VzjknAAACGxK6AAAASAQSAMAIAgkAYAKBBAAwgUACAJhAIAEATCCQAAAmEEgAABMIJACACQQSAMCEWARSOp3WjTfeqPr6elVXV2vmzJlau3Zt6GIF1dXVpdtuu02zZ89WbW2tKioq9OCDD2bd9v3339fs2bM1atQo1dbW6sILL9TOnTv3b4ED2LBhg6688kodddRRGjlypCZOnKh58+aptbU1Y9vBWkeS9N5776m5uVmHHnqoRowYoTFjxqixsVHPPPNMxraDuZ6+7c4771RFRYWmTJmS8dprr72mk046SSNGjND48eN11VVXqaurK0ApY8bFwE9/+lNXWVnprr/+erdy5Uo3a9YsV1lZ6davXx+6aMF8+OGHTpKbOHGiO+WUU5wk98ADD2Rs19bW5saMGeMOO+wwt3z5cnfnnXe6Aw880B177LEunU7v/4LvR+edd54bP368W7Bggbv//vvd73//ezdu3Dg3cuRIt3nz5r7tBnMdOefcs88+63784x+722+/3a1atcrdc8897gc/+IGT5FauXNm33WCvp29qa2tzI0aMcCNHjnRHHXVUv9c2bdrkhg8f7qZNm+buvfde97vf/c5VVVW52bNnByptfJgPpDfeeMNJckuXLu17rru72x122GFu1qxZAUsWVk9Pj+vs7HTOObdhw4YBA+nyyy931dXVbuvWrX3PrV27NuPLphy9+uqrGV+Ura2trqqqys2fP7/vucFcRwP58ssv3bHHHuuOOOKIvueop/9z/vnnux/96Efu5JNPzgikM844w9XV1blkMtn33P333+8kueeff35/FzVWzAfSDTfc4IYOHdrvw3XOucWLFztJ7j//+U+gktmRK5C+853vuObm5oznJ02a5E499dT9UDp7jjvuOHfcccf1/Zs6yu6ss85y48aN6/s39fS1l19+2Q0dOtS98847GYGUTCZdZWWlu+GGG/rtk06n3ahRo9wll1yyv4sbK+Z/Q9q0aZMmTZqkmpqafs/PmDFDkvT2228HKFU8dHR0aMeOHZo+fXrGazNmzNCmTZsClCos55w+/vhjjRkzRhJ19E2fffaZdu3apX//+9/6wx/+oOeee06nnnqqJOqp1969e7VgwQJdeumlOvroozNe37x5s7788suMeho2bJimTp06aOqpVJWhC5BPZ2en6urqMp7vfW7btm37u0ix0dnZKUkD1t+nn36qdDqtqqqq/V20YB599FF1dHTojjvukEQdfdN1112nlStXSpKGDBmic889VytWrJBEPfW67777tHXrVq1bty7r6/nqaf369V7LF3fmA6m7uzvrRT58+PC+15Fdb93kq79y/xLptWXLFl1xxRWaNWuWLr74YknU0TddffXVmjt3rrZt26bVq1dr7969+vzzzyVRT5L0ySef6NZbb9Utt9yisWPHZt0mXz3xfZWb+Vt21dXVSqfTGc/39PT0vY7seuuG+pO2b9+uM888U4lEQk888YSGDh0qiTr6piOPPFJNTU266KKLtGbNGnV1dWnOnDlyzlFPkm6++WbV1tZqwYIFA26Tr57KvY6iMt9CqqurU0dHR8bzvU3j+vr6/V2k2Oi9bdBbV9/U2dmp2trasv4fba9kMqkzzjhDu3fv1vr16/tdM9TRwObOnatf/epXam1tHfT19MEHH2jVqlW65557+v1M0NPToy+++EIfffSRampq8tYT31e5mW8hTZ06Va2trUqlUv2ef+ONN/peR3YTJkzQ2LFjtXHjxozXWlpaBkXd9fT0aM6cOWptbdWaNWs0efLkfq9TRwPrvb2UTCYHfT11dHToq6++0lVXXaVDDjmk7/HGG2+otbVVhxxyiO644w5NmTJFlZWVGfX0+eef6+233y77eoosdDe/fF5//fWMcUg9PT3u8MMPdzNnzgxYMjtydfv+9a9/7aqrq/t1j1+3bp2T5O699979WMr978svv3Rnn322q6ysdM8+++yA2w3mOnLOuY8//jjjuc8//9wdd9xxrrq62u3Zs8c5N7jraefOne6pp57KeBx11FFu4sSJ7qmnnnLvvPOOc8652bNnu7q6OpdKpfr2/+Mf/+gkueeeey7UW4iFCuecCxmIhZg3b56eeuopXXPNNTr88MP10EMPqaWlRS+88IIaGxtDFy+YFStWaPfu3dq2bZvuvfdenXvuuZo2bZokacGCBUokEmpra9O0adM0evRoLVy4UF1dXVq6dKkOOuggbdiwoaxvs1x99dVavny55syZo3nz5mW8fsEFF0jSoK4jSTrnnHOUSqXU2NioCRMmaPv27Xr00Ue1ZcsWLVu2TNdee60k6imbU045Rbt27dK7777b99xbb72lE088UZMnT9Zll12m9vZ2LVu2TI2NjXr++ecDljYGQidiIbq7u93111/vxo8f76qqqtwJJ5zg/v73v4cuVnDf/e53naSsjw8//LBvu3fffdedfvrpbsSIEW706NFu/vz5bvv27eEKvp+cfPLJA9bPty/9wVpHzjn32GOPuaamJjdu3DhXWVnpDjzwQNfU1OSefvrpjG0Hcz1lk22mBuecW79+vTvxxBPd8OHD3dixY90VV1zRr8WE7GLRQgIAlD/znRoAAIMDgQQAMIFAAgCYQCABAEwgkAAAJhBIAAATCCQAgAkEEgDAhNgFUjqd1u233551end8jToqDPVUGOqpMNRTdLGbqSGVSimRSCiZTGYsa46vUUeFoZ4KQz0VhnqKzmsLKZ1O68Ybb1R9fb2qq6s1c+ZMrV271ucpAQAx5TWQfvazn+nuu+/W/PnztXz5cg0dOlQ/+clP9Morr/g8LQAghrytGNvS0qK//OUvWrp0qa6//npJ0kUXXaQpU6bot7/9rV577bWCjvPVV19p27ZtOuCAA1RRUdG3UN+3F+zD/6GOCkM9FYZ6Kgz1lJ1zTnv27FF9fb2GDMnTBvI1jfgNN9zghg4d6pLJZL/nFy9e7CT1W+Qrl7a2tpxLCPDgwYMHD/uPtra2vN/33lpImzZt0qRJkzJ+3JsxY4Yk6e2331ZDQ0Pe4xxwwAFeyid9vTRzqRKJhLnzRjmuL77KG6X+o8hVZl9l8vm5lvr5xLH+fe2bi8Uy5bOv/2ZTqZQaGhoK+i73FkidnZ2qq6vLeL73uW3btmXdL51O9+s2uWfPHj8FlIL1hPF13rj17IlbeaUwZS636zSKKGUKta+v48btWqyoqMi7jbdODd3d3VmXNB4+fHjf69ksWbJEiUSi71FIKwoAEH/eAqm6ujrrALGenp6+17NZtGiRkslk36Otrc1XEQEAhni7ZVdXV6eOjo6M5zs7OyVJ9fX1WferqqrK2rICAJQ3b4E0depUvfjii0qlUv3uO77xxht9rxeD0c9fcwEm1ijk3u9AopQ313nzHbfUfX2+1yjHDsFXXVisB1+fXahrIlQdRz2vt1t2c+fO1d69e7Vq1aq+59LptB544AHNnDmT34YAAP14ayHNnDlTzc3NWrRokXbs2KHDDz9cDz30kD766CP96U9/8nVaAEBMeQskSXr44Yd1yy236JFHHtF///tfHXPMMVqzZo0aGxt9nhYAEEPmZ/u2OoNuqN9VQuA3pMLPW2qZfJ0zH1+/NYT4nS6On13cfqeL8n4K+Q6P3XpIAIDyRCABAEwgkAAAJnjt1LA/xHHcSIgxAr5+c8m3b5TjlnrOfMcO8dtUIa+XKsTvEKGup1xCXU8hjhtFiN/SCkULCQBgAoEEADCBQAIAmEAgAQBMIJAAACYQSAAAE2LT7Xugdd59dpssp66e+UQpk8V6sjh1UC5xm0LGZ/dfi12hS72eQg0tsfgdUwhaSAAAEwgkAIAJBBIAwAQCCQBgAoEEADCBQAIAmEAgAQBMiM04pMGi3MbBRNkvxNIVocaN5BJijFjUfUPUU4hz5juvzyVJSl32JQrffx+0kAAAJhBIAAATCCQAgAkEEgDABAIJAGACgQQAMCH23b6jdJP2uW8uobqn5hLlvZbTFPohur/nE+oatyhun4/F8vqUrcypVGrA5YO+jRYSAMAEAgkAYAKBBAAwgUACAJhAIAEATCCQAAAmxKbbdzKZVE1NTdH7+eqeHaqLr8Uu1qV2O/Y5m3SIMkVhsUy5hOpOHrcZyEOV1+Jwl0LQQgIAmEAgAQBMIJAAACYQSAAAEwgkAIAJBBIAwAQCCQBgQmzGIQ3EZ794X2NZQo3NKVWIMUpRjhtl31BLg4SqJ1/v19ffRy75jhvibyvUZ2fpu4DlJwAAsUMgAQBMIJAAACYQSAAAEwgkAIAJBBIAwITYd/uOYjBN619uyypYnkJ/ICGGEYSqJ4vd/XMJ1U06xGfncyhA1M+HFhIAwAQCCQBgAoEEADCBQAIAmEAgAQBMIJAAACYQSAAAE2I/Dslnn3pfY2h8idvYj3x8fXa+hFoSw9fn42ucmK+/2VD1FEqpdexzbFrUvztaSAAAEwgkAIAJBBIAwAQCCQBgQtGB1NXVpdtuu02zZ89WbW2tKioq9OCDD2bd9v3339fs2bM1atQo1dbW6sILL9TOnTujlhkAUIaK7mW3a9cu3XHHHZo4caKOPfZYvfTSS1m3a29vV2NjoxKJhBYvXqyuri7ddddd2rx5s1paWjRs2LCoZQcAlJGiA6murk6dnZ0aP368Nm7cqBNOOCHrdosXL9Znn32mN998UxMnTpQkzZgxQ6eddpoefPBBXXbZZdFKXqAQ09XnO6fPZResCdXV1uLyE77OG2qpgVwG0zIRFruTW/pcU6mUEolEQdsWfcuuqqpK48ePz7vdk08+qbPOOqsvjCSpqalJkyZN0urVq4s9LQCgzHnp1NDR0aEdO3Zo+vTpGa/NmDFDmzZt8nFaAECMeZmpobOzU9LXt/e+ra6uTp9++qnS6bSqqqoyXk+n00qn033/TqVSPooIADDGSwupu7tbkrIGzvDhw/tt821LlixRIpHoezQ0NPgoIgDAGC+BVF1dLUn9Wjq9enp6+m3zbYsWLVIymex7tLW1+SgiAMAYL7fsem/V9d66+6bOzk7V1tZmbT1JX7eqBnoNAFC+vATShAkTNHbsWG3cuDHjtZaWFk2dOtXHabOy2F0zRJdMnzMhl/p+fM2O7VOImbV9fnal7uuz67zFoRq+WJzlPeQwAm9TB5133nlas2ZNv1tuL7zwglpbW9Xc3OzrtACAmCqphbRixQrt3r1b27ZtkyQ988wzam9vlyQtWLBAiURCN910kx5//HH98Ic/1MKFC9XV1aWlS5fq6KOP1s9//vN99w4AAGWhwpXQ7jv44IO1devWrK99+OGHOvjggyVJ7733nq699lq98sorGjZsmM4880wtW7ZM48aNK/hcvaN8k8mkampqii1qkOanxdHxcbxl5+sWS6jFCkMsqOaLxTLl4+u7INSsFHG7ZVfId3hJgbQ/EUj75rwEUmHHzYdA+prFMuVDIEU/r+9AYvkJAIAJBBIAwAQCCQBggpdxSPtTlPusPveNmxC/q4Sqw8F0z98Xn7+5+PqtLQSLv7VFqadS3o/X5ScAAPCBQAIAmEAgAQBMIJAAACYQSAAAEwgkAIAJsen2XWi3wX0pxBQ/UcSx22suceviG2o6o1ziOCVOqXxO2VXqtRhqGrFcLF6nvWghAQBMIJAAACYQSAAAEwgkAIAJBBIAwAQCCQBgAoEEADAhNuOQBhKlT32oZZZDLaEd4pxRxhJZXMIgxNgoi9epxTLlU27Lz5daFz6/M6P+DdBCAgCYQCABAEwgkAAAJhBIAAATCCQAgAkEEgDAhNh3+/Y5HXrclj+Imzh2HQ6xhIHPrsOl7uuzTFHO62vfUvm8xn19P4Xs7k8LCQBgAoEEADCBQAIAmEAgAQBMIJAAACYQSAAAE2Lf7TtU12FffM2m63NWYYvd40N0O/Y1A3kUoerf4oz2FuvY4vdXyL9nWkgAABMIJACACQQSAMAEAgkAYAKBBAAwgUACAJhAIAEATIjNOKRkMqmampqM532OAfA1bsTi0hVxG18ThcWxUaHGslgcmxO368liHfr6firluKlUSolEoqBtaSEBAEwgkAAAJhBIAAATCCQAgAkEEgDABAIJAGBCbLp9F9ptEPtelOUnohzXoihdt3Pta7FLeC6+rgmfGMZRGJafAAAMegQSAMAEAgkAYAKBBAAwgUACAJhAIAEATCCQAAAmxGYcUql8Tc0ft37+PscP+Dq2rzE/UYRYGsHn8h+l7hvluPmU+rnnK1OIsVGhPrsoZQqJFhIAwAQCCQBgAoEEADCBQAIAmFBUIG3YsEFXXnmljjrqKI0cOVITJ07UvHnz1NramrHt+++/r9mzZ2vUqFGqra3VhRdeqJ07d+6zggMAykuFK6LLxdy5c/Xqq6+qublZxxxzjLZv364VK1aoq6tLr7/+uqZMmSJJam9v17Rp05RIJHTVVVepq6tLd911lyZOnKiWlhYNGzas4AKmUqlIM32Hmu04l5Cz6cYJvewKE6KXXZQy5eOrl50voeo/RC+7KJ9rMplUTU1N7o1cEV599VWXTqf7Pdfa2uqqqqrc/Pnz+567/PLLXXV1tdu6dWvfc2vXrnWS3MqVK4s5pUsmk06SSyaTRe23L0ga8FHqfvkevsrr87whRHmvFh++3muUerT4+UQ5py9xu2Z8vp9sivkOL6qFNJDjjz9ekvTmm29KksaNG6eTTz5Zq1ev7rfdEUccoYaGBq1bt67gY/e2kApK132s1P+9hFq/xuK6Ob6UW0sy1PVksYWUS5R68nWNh7oWS62LKNdEKWUq5js8cqcG55w+/vhjjRkzRpLU0dGhHTt2aPr06RnbzpgxQ5s2bYp6SgBAGYocSI8++qg6Ojp0/vnnS5I6OzslSXV1dRnb1tXV6dNPP1U6nR7weOl0WqlUqt8DAFD+IgXSli1bdMUVV2jWrFm6+OKLJUnd3d2SpKqqqozthw8f3m+bbJYsWaJEItH3aGhoiFJEAEBMlBxI27dv15lnnqlEIqEnnnhCQ4cOlSRVV1dLUtZWUE9PT79tslm0aJGSyWTfo62trdQiAgBipKTJVZPJpM444wzt3r1b69evV319fd9rvbfqem/dfVNnZ6dqa2uztp56VVVV5XwdAFCeig6knp4ezZkzR62trVq3bp0mT57c7/UJEyZo7Nix2rhxY8a+LS0tmjp1akkFLXUsUoieNVF6sVjsKeSrt5XPHmBxez+hekj66qlV6jmjCHVN5OKzp2Kp14zl3rhF3bLbu3evzj//fP3rX//S448/rlmzZmXd7rzzztOaNWv63W574YUX1Nraqubm5mglBgCUpaLGIV199dVavny55syZo3nz5mW8fsEFF0iS2traNG3aNI0ePVoLFy5UV1eXli5dqoMOOkgbNmwo6pZcyJkafI2EjtssDxZbFOXWQorCYqu53GZUsHbcUEp5P8WMQyoqkE455RS9/PLLA77+zUO99957uvbaa/XKK69o2LBhOvPMM7Vs2TKNGzeu0NNJIpCKObbFLzwCqbB9oyCQCmPxmij1uKGYCqQQCKTCj23xC49AKmzfKAikwli8Jko9bii+A4nlJwAAJhBIAAATCCQAgAklDYwNYaD7j1Hus4Ya8xNF3O5Xhxgjk0+o3zdCXE9RrvFy+62n1HOGOm6o3ySjiFomWkgAABMIJACACQQSAMAEAgkAYAKBBAAwgUACAJgQm27fA7E4DX4cl5AIMSVRPnHrJu1z31LFsetwLhbrKdTfTojvkVKu8WKmf6OFBAAwgUACAJhAIAEATCCQAAAmEEgAABMIJACACQQSAMCE2I9DyifEcuEWl+b2uQxBiLEs5VYmi0udhBpzVWpdlNsYshDfXfn2zYflJwAAZYFAAgCYQCABAEwgkAAAJhBIAAATCCQAgAmx6fY90PTlUZZVyCdEN126nxYm1LIJvuoiCotDG3yx+Ln7usbj9t010LFZfgIAEDsEEgDABAIJAGACgQQAMIFAAgCYQCABAEyITbfvZDKpmpqajOcHUzfpfMcO1f00VFdca0LN9h3lcw/xN+DrevJVhz75Oq/FIQaFoIUEADCBQAIAmEAgAQBMIJAAACYQSAAAEwgkAIAJBBIAwITYjEMqdPryb7M4zsIXX8s5WJwGP9R4rRCfbZQy+frsQtVTqM/O4t97LnEdG0gLCQBgAoEEADCBQAIAmEAgAQBMIJAAACYQSAAAE2LT7XsgPrtcltp10uKSGD7rqdT347Obbojp9/Ods9Qy+equ7JPP5U7wNYtd0aNeb7SQAAAmEEgAABMIJACACQQSAMAEAgkAYAKBBAAwgUACAJgQ+3FI+YRa/iCEEOObQgk1XivEuCqfy0+UWo++jhuFzzKV09/7/h6TmEqlCl4+iBYSAMAEAgkAYAKBBAAwgUACAJhQVCC99957am5u1qGHHqoRI0ZozJgxamxs1DPPPJOx7fvvv6/Zs2dr1KhRqq2t1YUXXqidO3fus4IDAMpLUb3stm7dqj179ujiiy9WfX29/ve//+nJJ5/U2WefrZUrV+qyyy6TJLW3t6uxsVGJREKLFy9WV1eX7rrrLm3evFktLS0aNmyYlzcDAIivChexD+DevXt1/PHHq6enR1u2bJEk/eY3v9GDDz6oLVu2aOLEiZKkdevW6bTTTusXXIUopstgsUIsURDqvKGW6fDVFd1iN1yLXestdvsO9XfnS9yu8f39/dT7HZ5MJlVTU5Nz28i/IQ0dOlQNDQ3avXt333NPPvmkzjrrrL4wkqSmpiZNmjRJq1evjnpKAEAZKmlg7Geffabu7m4lk0n99a9/1XPPPafzzz9fktTR0aEdO3Zo+vTpGfvNmDFDf/vb36KVGABQlkoKpOuuu04rV66UJA0ZMkTnnnuuVqxYIUnq7OyUJNXV1WXsV1dXp08//VTpdFpVVVVZj51Op5VOp/v+nUqlSikiACBmSrpld/XVV2vt2rV66KGHdMYZZ2jv3r36/PPPJUnd3d2SlDVwhg8f3m+bbJYsWaJEItH3aGhoKKWIAICYKSmQjjzySDU1Nemiiy7SmjVr1NXVpTlz5sg5p+rqaknq18rp1dPTI0l922SzaNEiJZPJvkdbW1spRQQAxMw+GRg7d+5cbdiwQa2trX236npv3X1TZ2enamtrB7xdJ33dsqqpqen3AACUv30y23fvLbhkMqkjjjhCY8eO1caNGzO2a2lp0dSpU0s6RyFdBosVpfujr26tg63LeKlCfXa+uvHGrUy+6j/fvhaF+ux8HTfk+ymqhbRjx46M57744gs9/PDDqq6u1uTJkyVJ5513ntasWdPvdtsLL7yg1tZWNTc3RyowAKA8FTUw9pxzzlEqlVJjY6MmTJig7du369FHH9WWLVu0bNkyXXvttZKktrY2TZs2TaNHj9bChQvV1dWlpUuX6qCDDtKGDRty3rL7tmIGVRWr3FpIvv5n42tfnwMZy6k1EmoQaoj3mm/fXMptYHKozy6XKO+noO9wV4THHnvMNTU1uXHjxrnKykp34IEHuqamJvf0009nbPvuu++6008/3Y0YMcKNHj3azZ8/323fvr2Y0znnnEsmk06SSyaTRe+bj6Scj1L3jWOZQuyb771GeYR4rxbLFEWI9xqlzD6vJx/1kK/MUVh8P4V8h0eeOsg3Wkj7p0y0kPLvl29fi2XyeS3mEuVzL7XMtJAKO24UUd7Pfpk6CACAfYFAAgCYQCABAEzYJ+OQylWp92Gj3CP3+RtGqSzejw7F10+uIX5zycfX73++flcpt99ropzX1zXh+73SQgIAmEAgAQBMIJAAACYQSAAAEwgkAIAJBBIAwITYdPtOJBL7/Zwhpg6KItQ0PSFYnM6o3Lod+yqTxdnKfA7VKPW4FruT+0YLCQBgAoEEADCBQAIAmEAgAQBMIJAAACYQSAAAEwgkAIAJsRmHVOoS5uU2RiPUGJoQfI3viKLclokIcT2FWsI8xJifUEvR+PqOySdqPdJCAgCYQCABAEwgkAAAJhBIAAATCCQAgAkEEgDAhNh0+y51+QlfXT1Ddd0utZuor/ca5bxxXHLB4jIeFoc2xE2ILvn5WOwe7xstJACACQQSAMAEAgkAYAKBBAAwgUACAJhAIAEATIhNt+84zfYdaoZfi0LVUy5x6zIeqhtuqGstRD1Z7go9EF/1tK9neU+lUgUP26GFBAAwgUACAJhAIAEATCCQAAAmEEgAABMIJACACQQSAMCE2IxDipNQYxZ8jcMINeZnX4+H8H1OX8t0+KwHX597qef0edwQf5ehxnL5Woomn6jHpoUEADCBQAIAmEAgAQBMIJAAACYQSAAAEwgkAIAJse/2Hbcp8iV/XTJDdd321Z3W4pT/vj67UF3rQ3SP98Xi0i2h/u4sfRew/AQAIHYIJACACQQSAMAEAgkAYAKBBAAwgUACAJhAIAEATIjNOKRC+7HvSxbHWuQStynnfS6NEGIchq9xMHEbjyXZXNYiyt9HiGvcl1Dj5QpBCwkAYAKBBAAwgUACAJhAIAEATIgcSHfeeacqKio0ZcqUjNdee+01nXTSSRoxYoTGjx+vq666Sl1dXVFPCQAoQ5F62bW3t2vx4sUaOXJkxmtvv/22Tj31VH3ve9/T3Xffrfb2dt1111364IMP9Nxzz0U5LQCgDEUKpOuvv17f//73tXfvXu3atavfazfddJMOPPBAvfTSS6qpqZEkHXzwwfrlL3+pf/zjHzr99NOLOlcymew7zr7ia1mFKF1IQ3XxDdEV2meXV4vLKpRaFxaHH/hckiRE93hf3djj2BU9pJJv2f3zn//UE088oXvuuSfjtVQqpbVr1+qCCy7oFyIXXXSRRo0apdWrV5d6WgBAmSopkPbu3asFCxbo0ksv1dFHH53x+ubNm/Xll19q+vTp/Z4fNmyYpk6dqk2bNpVWWgBA2Srplt19992nrVu3at26dVlf7+zslCTV1dVlvFZXV6f169cPeOx0Oq10Ot3371QqVUoRAQAxU3QL6ZNPPtGtt96qW265RWPHjs26TXd3tySpqqoq47Xhw4f3vZ7NkiVLlEgk+h4NDQ3FFhEAEENFB9LNN9+s2tpaLViwYMBtqqurJalfS6dXT09P3+vZLFq0SMlksu/R1tZWbBEBADFU1C27Dz74QKtWrdI999yjbdu29T3f09OjL774Qh999JFqamr6btX13rr7ps7OTtXX1w94jqqqqqwtKwBAmXNFePHFF52knI+FCxe63bt3u8rKSnfDDTf02z+dTrtRo0a5X/ziFwWfM5lM5jxfFPnei6+HLxbLFKW8UfYtt2smxPsJxWIdltPf8/6ux97v8GQymfc9F9VCmjJlip566qmM52+++Wbt2bNHy5cv12GHHaZEIqGmpib9+c9/1i233KIDDjhAkvTII4+oq6tLzc3NxZwWADAIVPz/xIzklFNO0a5du/Tuu+/2PffWW2/pxBNP1OTJk3XZZZepvb1dy5YtU2Njo55//vmCj51KpXKuhRSl+KEGHO6DKs/K8jon2fgcNFjqcfOxOEjV1/sJcU1IYeo433u1uL5TLr7+dko5b+93eCGTG3ibXPW4447TunXrVF1drWuuuUarVq3SJZdcoieeeMLXKQEAMbZPWkg+0UIqHC2kwsTxmsmFFlJ0tJD2DbMtJAAAikEgAQBMIJAAACZEWn7CAou/JUS5Hz2YhLpvH+W4Ie7N+7yeSn0/cSxTLnH8PbPUfX3+Nhj1b4AWEgDABAIJAGACgQQAMIFAAgCYQCABAEwgkAAAJsSm23ch004UK25T7eQ7b5T3Y3G6llDTn+Ri8ZqJUk+lvp8o3aSjHrvU/XKVyVf3a1/1n4+vLvul/M3mm/7tm2ghAQBMIJAAACYQSAAAEwgkAIAJBBIAwAQCCQBgAoEEADAhNuOQSmVx3Igv5bbktMXltXMJtZR1lPE1pdZxlPE1ocb85DKYloSxXE+0kAAAJhBIAAATCCQAgAkEEgDABAIJAGACgQQAMCE23b4Lnb68GFG6xPpSbl23LXbxjSLE5+PzOi21ji1epz6XVSj1uPmEWJIkH191XAhaSAAAEwgkAIAJBBIAwAQCCQBgAoEEADCBQAIAmBCbbt/JZFI1NTUZz/ucubbUrpNxLFOomapziTKLdS4hZieXwlxPUY5tsY6jDAUI1RXa2nHzCTmTPi0kAIAJBBIAwAQCCQBgAoEEADCBQAIAmEAgAQBMIJAAACbEZhzSQMtPxG2shM/zhpo2vtTxQvnOGbexFL6WP/B5jVtc4sOXEMt0WDxuPvv6vKlUquDlg2ghAQBMIJAAACYQSAAAEwgkAIAJBBIAwAQCCQBgQmy6fQ8kSrfWUNPGhzivz+6/cesebHGpDV/LEEQR6nqy2BU9xOdj8fvJd/3TQgIAmEAgAQBMIJAAACYQSAAAEwgkAIAJBBIAwAQCCQBgQmzGISWTSdXU1BS9X4gp3H2eM9SYFB98vpcQ47XysbgkhrXjRjmvz8+u1L9pn98F5VSmXrSQAAAmEEgAABMIJACACQQSAMAEAgkAYIL5Xna9vTpSqdR+P/dgOWeo88bxvYbadzDxVU8cN7ooZSqkl2OFM96PuL29XQ0NDaGLAQCIoK2tTQcddFDObcwH0ldffaVt27bpgAMOUEVFhVKplBoaGtTW1lbSuKTBgDoqDPVUGOqpMNRTds457dmzR/X19RoyJPevROZv2Q0ZMiRrqtbU1PCh50EdFYZ6Kgz1VBjqKVMikShoOzo1AABMIJAAACbELpCqqqp02223qaqqKnRRzKKOCkM9FYZ6Kgz1FJ35Tg0AgMEhdi0kAEB5IpAAACYQSAAAEwgkAIAJBBIAwAQCCQBgAoEEADCBQAIAmPD/AEc1/yNns/bZAAAAAElFTkSuQmCC",
          "text/plain": "<Figure size 640x480 with 1 Axes>"
         },
         "metadata": {},
         "output_type": "display_data"
        }
       ]
      }
     },
     "6f044b1d896e42e29301b4562483b227": {
      "model_module": "@jupyter-widgets/base",
      "model_module_version": "2.0.0",
      "model_name": "LayoutModel",
      "state": {}
     },
     "7003d02916bd43fcaa6c98c9f952ce85": {
      "model_module": "@jupyter-widgets/controls",
      "model_module_version": "2.0.0",
      "model_name": "IntSliderModel",
      "state": {
       "behavior": "drag-tap",
       "description": "n",
       "layout": "IPY_MODEL_bd65d0231df444db87071825554a2801",
       "max": 242902,
       "min": 1,
       "style": "IPY_MODEL_e47f5d2eb3be40ab954a0ce10ec792bf",
       "value": 215478
      }
     },
     "70629c62a70e4c0ea4bafb8a12d1d345": {
      "model_module": "@jupyter-widgets/base",
      "model_module_version": "2.0.0",
      "model_name": "LayoutModel",
      "state": {}
     },
     "70d1d03e83d74490aab09496d7211f5e": {
      "model_module": "@jupyter-widgets/controls",
      "model_module_version": "2.0.0",
      "model_name": "VBoxModel",
      "state": {
       "_dom_classes": [
        "widget-interact"
       ],
       "children": [
        "IPY_MODEL_3c16f3aff6ed469b91d1d3a0a755588a",
        "IPY_MODEL_6ebc6836d7a24a58a0359d4e0e49fcb0"
       ],
       "layout": "IPY_MODEL_53a6afa795df4f15bd3584f40409812d"
      }
     },
     "7178cf8603854b4e8581d56c15743808": {
      "model_module": "@jupyter-widgets/base",
      "model_module_version": "2.0.0",
      "model_name": "LayoutModel",
      "state": {}
     },
     "741440e8de0e4ae583dd679b532dd36b": {
      "model_module": "@jupyter-widgets/base",
      "model_module_version": "2.0.0",
      "model_name": "LayoutModel",
      "state": {}
     },
     "74998106857848dc9617bbf61b35cb45": {
      "model_module": "@jupyter-widgets/controls",
      "model_module_version": "2.0.0",
      "model_name": "HTMLStyleModel",
      "state": {
       "description_width": "",
       "font_size": null,
       "text_color": null
      }
     },
     "75c65e224a8444c2bb5ed60c496fcc5e": {
      "model_module": "@jupyter-widgets/output",
      "model_module_version": "1.0.0",
      "model_name": "OutputModel",
      "state": {
       "layout": "IPY_MODEL_0bad985d5d2c4799b7f1bb8b77587cf1",
       "outputs": [
        {
         "data": {
          "image/png": "iVBORw0KGgoAAAANSUhEUgAAAaQAAAGmCAYAAAAzhPA+AAAAOXRFWHRTb2Z0d2FyZQBNYXRwbG90bGliIHZlcnNpb24zLjguMCwgaHR0cHM6Ly9tYXRwbG90bGliLm9yZy81sbWrAAAACXBIWXMAAA9hAAAPYQGoP6dpAABHC0lEQVR4nO29f3Cc1XX//xb2aFfGeIMjB8uK9CkitVNsFyOIiRhqx2Co+WGmBYyZ4VczSZ1mwAbzowEKIQ2DacaYQssMMWmnkIS2QyBMAoFSgcF1kcC/J3YGJKYKa3ktGwTDroUtAeZ+/+C7iu3d595H9+rsvc/q/ZrRH9679+655znPcyztueddo5RSIIQQQjxzjG8DCCGEEIAJiRBCSCAwIRFCCAkCJiRCCCFBwIRECCEkCJiQCCGEBAETEiGEkCBgQiKEEBIETEiEEEKCgAmJEEJIECQiIQ0NDeF73/sepk2bhrq6Opxxxhlob2/3bZZXBgYGcPfdd2PRokWYPHkyampq8Nhjj5V975tvvolFixZh4sSJmDx5Mq6++mq89957lTXYA5s2bcL111+PmTNn4thjj0VzczMuv/xydHd3l7x3rPoIAH73u99hyZIlaGlpwYQJE1BfX4958+bh2WefLXnvWPbT0dx7772oqanBrFmzSsY6Ojpw1llnYcKECZg6dSpWrFiBgYEBD1YmDJUArrjiCjV+/Hh1yy23qLVr16q2tjY1fvx4tWHDBt+meeP3v/+9AqCam5vVN77xDQVA/du//VvJ+3p7e1V9fb066aST1EMPPaTuvfdedfzxx6tTTjlFDQ0NVd7wCnLppZeqqVOnquXLl6uf/OQn6p577lEnnHCCOvbYY9WOHTuG3zeWfaSUUr/5zW/Un//5n6sf/OAH6tFHH1UPPvig+rM/+zMFQK1du3b4fWPdT4fT29urJkyYoI499lg1c+bMI8a2bdum0um0OvXUU9Ujjzyi/u7v/k6lUim1aNEiT9Ymh+AT0htvvKEAqNWrVw+/dvDgQXXSSSeptrY2j5b5ZXBwUPX19SmllNq0aVNkQvrud7+r6urqVDabHX6tvb295GFTjbz22mslD8ru7m6VSqXUlVdeOfzaWPZRFJ9++qk65ZRT1IwZM4Zfo5/+wNKlS9XZZ5+t5s+fX5KQzj//fNXQ0KDy+fzwaz/5yU8UAPXiiy9W2tREEXxCuvXWW9W4ceOOuLhKKbVq1SoFQO3atcuTZeGgS0hf+tKX1JIlS0penz59ujrnnHMqYF14tLa2qtbW1uF/00flueiii9QJJ5ww/G/66XPWr1+vxo0bp37729+WJKR8Pq/Gjx+vbr311iPmDA0NqYkTJ6pvfetblTY3UQT/HdK2bdswffp0TJo06YjX586dCwDYvn27B6uSQS6Xw7vvvovTTz+9ZGzu3LnYtm2bB6v8opTCvn37UF9fD4A+OpyPPvoI/f39+L//+z/84z/+I1544QWcc845AOinIocOHcLy5cvx7W9/G7Nnzy4Z37FjBz799NMSP9XW1mLOnDljxk+2jPdtgIm+vj40NDSUvF58bc+ePZU2KTH09fUBQKT/PvjgAwwNDSGVSlXaNG888cQTyOVy+OEPfwiAPjqcm2++GWvXrgUAHHPMMbjkkkvw8MMPA6Cfivz4xz9GNpvFSy+9VHbc5KcNGzaI2pd0gk9IBw8eLBvk6XR6eJyUp+gbk/+q/SFS5K233sJ1112HtrY2XHvttQDoo8O58cYbcdlll2HPnj148skncejQIXz88ccA6CcAeP/99/H9738fd911F6ZMmVL2PSY/8XmlJ/g/2dXV1WFoaKjk9cHBweFxUp6ib+g/YO/evbjwwguRyWTw1FNPYdy4cQDoo8P56le/ioULF+Kaa67Bc889h4GBASxevBhKKfoJwJ133onJkydj+fLlke8x+anafeRK8L8hNTQ0IJfLlbxe/NV42rRplTYpMRT/bFD01eH09fVh8uTJVf0/2iL5fB7nn38+PvzwQ2zYsOGImKGPornsssvwne98B93d3WPeT2+//TYeffRRPPjgg0d8TTA4OIhPPvkE77zzDiZNmmT0E59XeoL/DWnOnDno7u5GoVA44vU33nhjeJyUp7GxEVOmTMHmzZtLxjZu3DgmfDc4OIjFixeju7sbzz33HE4++eQjxumjaIp/Xsrn82PeT7lcDp999hlWrFiBE088cfjnjTfeQHd3N0488UT88Ic/xKxZszB+/PgSP3388cfYvn171fvJGd9lfiZef/31knNIg4OD6itf+Yo644wzPFoWDrqy77/5m79RdXV1R5THv/TSSwqAeuSRRypoZeX59NNP1cUXX6zGjx+vfvOb30S+byz7SCml9u3bV/Laxx9/rFpbW1VdXZ3av3+/Umps++m9995TzzzzTMnPzJkzVXNzs3rmmWfUb3/7W6WUUosWLVINDQ2qUCgMz/+Xf/kXBUC98MILvraQCGqUUspnQozD5ZdfjmeeeQYrV67EV77yFTz++OPYuHEjXn75ZcybN8+3ed54+OGH8eGHH2LPnj145JFHcMkll+DUU08FACxfvhyZTAa9vb049dRT8YUvfAE33HADBgYGsHr1anz5y1/Gpk2bqvrPLDfeeCMeeughLF68GJdffnnJ+FVXXQUAY9pHAPCXf/mXKBQKmDdvHhobG7F371488cQTeOutt7BmzRrcdNNNAOincnzjG99Af38/du7cOfza1q1bceaZZ+Lkk0/GsmXLsHv3bqxZswbz5s3Diy++6NHaBOA7I8bh4MGD6pZbblFTp05VqVRKfe1rX1P/9V//5dss7/y///f/FICyP7///e+H37dz50513nnnqQkTJqgvfOEL6sorr1R79+71Z3iFmD9/fqR/jg79seojpZT6j//4D7Vw4UJ1wgknqPHjx6vjjz9eLVy4UP3qV78qee9Y9lM5ynVqUEqpDRs2qDPPPFOl02k1ZcoUdd111x3xGxMpTyJ+QyKEEFL9BF/UQAghZGzAhEQIISQImJAIIYQEARMSIYSQIGBCIoQQEgRMSIQQQoKACYkQQkgQMCERQggJgsQlpKGhIfzgBz8o296dfA59FA/6KR70UzzoJ3cS16mhUCggk8kgn8+XyJqTz6GP4kE/xYN+igf95I7ob0hDQ0P43ve+h2nTpqGurg5nnHEG2tvbJT+SEEJIQhFNSH/1V3+FBx54AFdeeSUeeughjBs3DhdccAH+93//V/JjCSGEJBAxxdiNGzfiP//zP7F69WrccsstAIBrrrkGs2bNwt/+7d+io6Mj1jqfffYZ9uzZg+OOOw41NTXDQn1HC/aRP0AfxYN+igf9FA/6qTxKKezfvx/Tpk3DMccYfgeSaiN+6623qnHjxql8Pn/E66tWrVIAjhD50tHb26uVEOAPf/jDH/6E/9Pb22t83ov9hrRt2zZMnz695Mu9uXPnAgC2b9+OpqYm4zrHHXeciH0A8Oijj2LZsmWR4+vXr4+UHN6+fTvmz58/6jbpPtMFF3tNfrLFxf8+MPlQKl5C9FOI8S9lk0v8+4oJqbk6ovZaKBTQ1NQU61kulpD6+vrQ0NBQ8nrxtT179pSdNzQ0dETZ5P79+2UMBDBhwgTt+MSJEyOrZSZOnChhkvYzXde1xeQnqXWlfGGLyYdS8RKin0KMfymbXOLfV0xIzdVhunY1NTXGNcSKGg4ePFhW0jidTg+Pl+O+++5DJpMZ/onzWxQhhJDkI5aQ6urqyh4QGxwcHB4vx+233458Pj/809vbK2UiIYSQgBD7k11DQwNyuVzJ6319fQCAadOmlZ2XSqXK/mZFCCGkuhH7DWnOnDno7u4uKYF84403hsdHQlSS0iUw3Vg6nUZLS8vwnxDLjdfX10faU19fHznXxSbdZ7pga6/JT7787wOdD6XiJVQ/hRj/UjbZxr+vmPB1P49GHIq1DnrjjTfw9a9//YhzSENDQ5g1axa++MUv4vXXX4+1TrEdR3t7O/bt21cy3tLSAgDo6ekZ8VhbWxs6OzsjxxsbG9Hf318yVl9fj+bmZu1c3eea1tWxa9euyLkAROw1+Uk312VdFz9JofN/c3OzdjyXy4n4qa2tzWYrAMz70SEVEy74iFPTXB8xITXX5p4cUUsliyNGsVmyZIkaP368uvXWW9XatWvVmWeeqcaPH6/Wr18fe418Pq8AqFQqVba2PZVKWY2l02nV0dGh0ul0xedms1krf2azWS/22s4N0YeS2F4fFz9JxZNpXam9ulxXH/5P4r1T6fuu+Aw/+kxqOURbB/30pz/FjTfeiJ/97GdYsWIFPvnkEzz33HOYN2/eiNeK6qB7dJl43LHBwUH09PQMF1lUcm65/2HEob+/34u9tnND9KEkttfHxU9S8WRaV2qvLtfVh/+TeO+EfN+JFTUAn/9dcfXq1Vi9erXkxxBCCKkCEqeHRAghpDphQiKEEBIETEiEEEKCQPQ7pNGktrYWH3/8cdnXAYx4LJVKDdfjl/uCr1hvX+4LvmItfyqVKjtu+lxTvX5UmejQ0JD1Z7rYaztX0qb6+nqnkmUJ6uvrrf1UU1NjFWtx4snG3uLrW7duLTvPZa9RY3GuKxB9tEHKJtNzQikV3L1jG0+mudJn3hKTkCRobGxEV1eXVfBLsWvXLsyYMUMb/ATI5XI4++yzy/opnU6jq6vL21mlkVJTU4NXXnml7KFDX4eDlVJYsGBB5INp3bp1Ip+ru66m/yRK2aR7TgwNDWHBggUin2uLSzyZ5krfU4lJSOX+p6B73TQ2NDSE/v5+tLa2ap0cNbZ169bI8sg4nxu1rql0NQrTZ/b09FjbaztX2iZTyXKlE1J/f7/1flKpFFpbW8uO62LNFE8S9hZLh6Viwib+JW3SPSdM18bHveMaT7q50vA7JEIIIUHAhEQIISQImJAIIYQEARMSIYSQIEhMUYNE2bdL6XCxdbxNKaiPclrJsu+oMlGpklhTKW46ndb6GNB3Rdehixfba2cq3dbFWpxS3JCOESSxxFr3nND50Jef4spe2MaTjnJ+GhgYiD0/MQlJApfS4ebmZqtSUF/ltFLoykQlS2JNpbi2pcO6a64ryZe8drpYMyXRpB0jCLHE2lSK7sOHpiMrpsph27k6dLEWl8QkJImyb9fS4ebm5hGXgvosp5Uo+9aViUqVxMYpxbUtHbYtyXe5dnFKt6NizURoxwiSWmJt40NffoqDbTzp0MVaXPgdEiGEkCBgQiKEEBIETEiEEEKCgAmJEEJIECQmIZWr4iq+bjNW7HqbTqcjx126KEet62KT1F6l/KTzg6tNccpaK7mu5H5csPWFrzj14X9f946Un3yhuz5xqVGh1X0eRaFQQCaTQXt7O/bt21cy3tLSAgDo6ekpO9bY2Kgtb+zs7LSeqzuTksvlItfV2dvW1qa1STfXtK6tvSab2traSl4vYppnu1fdZ5o+17SulJ9c9uOCbYxL7dV0X+kwnRsM7Z70dT/76nQfdQ5p/vz5yOfzmDRpkn4BFTj5fF4BUKlUSgEo+UmlUpFj6XRaZbPZyLWz2axKp9NW63Z0dFjN9bWurR9MNunWdlk3addVcj8umK5BaNdOiqTFhMu6vnwcRfEZns/nje9NzJ/sdOcPosaK50qiMJ3R0K1rOptga6/UurZ+MNmkW9tl3aRdV8n9uGC6BqFdOymSFhMu6/ry8WiQmIRECCGkumFCIoQQEgRMSIQQQoKACYkQQkgQJKa5qq7FOxDdvdl0rsFH+/0ouYbiuQWpFvpR6Pxg2qtubZd1XSUBdBIGxfcczeHnRmznSshPuGC6BlEyHVKyCpJ71WG61yXuyVDlJyQZM/ITW7ZsKXtRXfVtKo1OriHEw26hYpIOWbdundbHunjRtebXzU0aSiOFEqI0hRRJvCdd5CekGFPyE01NTdpDVbat+SUkGUxzo+QaAHvpChd5A50f4shPRK3tsq6rdIjOx4A+Xkyt+aPGbK9dHPkJW1xiXDcmKbUhgSkWJe7JkOUnJKD8BCGEkKqBCYkQQkgQMCERQggJAiYkQgghQTCmE5IPmQgp6QRfbf19yU9ISYe4ICV74cMmX/EvhSkWpeRMKD8xMhIjP7Fz506rsm/dmEl+ApBrSa9DSi5ASlbBh4SBi02uEgc6pCQZfNikG5OMfylZBVsJFdNcQEbOxCWGTehsAkb3eXrgwAEsW7aM8hMhtpV3lYLwIRcQmtRGiP43zfUlNeDDJl/+1+HjuvraqwkfMQFQfiLItvKuUhA+5AJCk9oI0f+mub6kBnzY5Mv/OnxcV197NeEjJuKSmIRECCGkumFCIoQQEgRMSIQQQoKACYkQQkgQJKa5am1t7YjbtEu1ho8zV9fOPqrlf319/XAtf1QXax9yAZIt9Cttk05yoeh/G6mN4vxK+8llP76unZT/dZjuKymZmjjnmyotIeEjJuKSmISUJHTt7IeGhrSyCV1dXZFt5XVzx5JcgAtKI7lQlK1IEknbjy97TbIiPrpmh2iTbxKTkKLasbu0cHeVP7BpZ79161ZjqWdUW3ndXEm5AKkW+qHZVCxdtZHaAOylHqT2atqPD5sk/W/CJCsShYuEh8leW5tc8BGnceF3SIQQQoKACYkQQkgQMCERQggJAiYkQgghQZCYogZdKShQ/kv9YuWZrkwxquwyzlyb8lTXsmIJe6ux7Duq7N71uiatxDq0a+da4i5VCq3rfi1V9u0Lln2PAlu2bBmx/MTQ0BAWLFgQuWZjY6O2xFo31we6MtEQ7fWFqeze1k9JK7Em8di1axdmzJgReRSD17VyJCYhNTU1abU0osqkTSWkuhJr3Vzb8lRdyaVLmaiLvdVW9m0qu5fwU4gl1iFeO9fr6lL2HUWcTvlSZd8+YNk3IYQQYoAJiRBCSBAwIRFCCAkCJiRCCCFBUNUJqVgmXY44HX51c4sl4yNd28UmHS72plKpshVprnOl1pX0/1jykw+bpK6rC5IxEWrZd6WvXVxqVOAtoguFAjKZDHbu3Dnisu/6+nrkcjn09PSUjLW0tKCtrU17/sA0t7OzUzsehe4zXSpyTOvqxoFoHzY3N2v3CsBqzORDl7mNjY0i11VqP1Lr+rJJ53/APtZ095ULpnvHxf8hUsmYOHDgAJYtW4Z8Pq+tlAYAqMDJ5/MKgEqlUgpAyU8qlbIaS6fTqqOjQ6XT6VGfm06nVTab9e26USObzVr5yZf/aZNfm1ziXxdrvu4r2/gP9Tng434GoPL5vNG2xPzJTnc2wWaseL5AJ+dgO7coI1Et6M5phOh/2uTXJpf4N50J8nFf2cZ/qM8BH/dzXBKTkAghhFQ3TEiEEEKCYMQJaWBgAHfffTcWLVqEyZMno6amBo899ljZ97755ptYtGgRJk6ciMmTJ+Pqq6/Ge++952ozIYSQKmTEvez6+/vxwx/+EM3NzTjllFPw6quvln3f7t27MW/ePGQyGaxatQoDAwO4//77sWPHDmzcuHG4cywhhBACWCSkhoYG9PX1YerUqdi8eTO+9rWvlX3fqlWr8NFHH2HLli3Dpcxz587Fueeei8ceewzLli0b0efW1taOuCW6r7b+JpkCQF/2KlUWbout7IW0/0O0KSSpB58yEbbxr4u1dDqtXVfq3nCVn7A9bqEbcznGUVXyE6lUClOnTjW+7+mnn8ZFF110RJAsXLgQ06dPx5NPPjnihJQklEamoHiwTCdhcPbZZ0fekF1dXRVPSiHKXiRNOmQs4RL/XV1d2usa2r1hIpfLRdqs84XLcyLO3FARkZ/I5XJ49913cfrpp5eMzZ07F88///yI14xqfZ60tv66/z3ELaf1cdPZyF5I+tBWOiTEmBhrNkVRjG/ddfVxb9jKNRT9pCux1s2NIk45v2luqPITIgmpr68PwOd/3juahoYGfPDBB8OaNUdzdK17oVCQMJEQQkhgiJR9Hzx4EADKJpxir6Pie47mvvvuQyaTGf5pamqSMJEQQkhgiCSkuro6AOV/dSz+mll8z9HcfvvtyOfzwz+9vb0SJhJCCAkMkT/ZFf9UV/zT3eH09fVh8uTJVh1lCSGEVC8ivyE1NjZiypQp2Lx5c8nYxo0bMWfOnBGvaZPAqq2tf4jt7G1b2Uu29fdlU2hSDyHaJHVdJe8NH/FUbTERF5HfkADg0ksvxeOPP47e3t7h74FefvlldHd3Y+XKlSNeb8uWLZHyEzo5AUDfLn3dunUVn2taN6rstXjD2Z5vckF35sGHD3X7aW5u9mKTZEy42KSLJ929o5OQ0B0FkDxfo/tMU4y7yK/o/G/yU9JiArCX8ylnU1F+IhY27cv/+Z//Wd1zzz3qu9/9rgKgLrnkEnXPPfeoe+65R3344YdKKaV27dqlvvjFL6qTTjpJ/dM//ZNatWqVOv7449Xs2bPV4OBg7M8qyk9EtS53aQ0fYlt/Xbt6X23wQ5SfkPJTiDHhw08hSj1IyVpISm0k7d5xuTajIT9h9RvS/fffj2w2O/zvX/7yl/jlL38JALjqqquGq+PWr1+Pm266Cbfddhtqa2tx4YUXYs2aNaP6HZGplXoUo1HLL3G+QHeWwmWvLmc0bD9X0v9SfgoxJnz4ydeZNymbpGJCKhZ9xYQO07UZDfkJq4T0zjvvxHrfzJkz8eKLL9p8BCGEkDEG5ScIIYQEARMSIYSQIGBCIoQQEgRiZd+VwlYawWdb/5qamshOvKZzGLrPtF0X0JfE+mhXH6etfxQucgFJk3pwkT8o9pOM6jYtda7HNtZMsha6L+pd7h2d1InrPQvIxITEs2BoaEjrBy/yE6ERojSCjpqaGrzyyitlKw1dzgu5rLtr1y7MmDEjMtBCbldP9JjkD5RSFbXHJdaURtbCRX4izr3jcv6p0kg/C6LWHQ0Sn5AAO2kEn/ITqVQKra2tke+JQtcG33VdUzlnaBIGplJbyk+4yx9IlH1LxVqc8muXeyfqGWPCNhZdYkLyWaBbV/e8jQu/QyKEEBIETEiEEEKCgAmJEEJIEDAhEUIICYKqKGqIwlRC6qPEV6p01aVMV1c6byp71ZXWh1jOHKfEt5rKvn3EqQ7Xe9LlyIQuxk17te0U7lL2LVWKrsPkJ1sfx6WqE1KISJWuuhCnrDW00nrbcmZTSSz5nBDj1KWc2RTDUbFULHXWxVpxjai5NvgqRXdZN2ruwMAA5s+fH+vzqzohmUo9QyvxdS1ddSnTNZW12pTWh1rObFu6mtSy70rHqQ6Xe9KlnBnQx7BtF+s4XbmljofYlqKbcFm33NxCoRB7Pr9DIoQQEgRMSIQQQoKACYkQQkgQMCERQggJgqpOSMUyxHIcXjpZjlQqFSm17jLXtG6cskqbuVLobJLyoetcWx/7iomkxakOl3tSKsZDfE74up99U6Mq3e53hBQKBWQyGezcubNstYrpHIBurLm5GZ2dnejp6SkZb2lpAYDIsba2Nuu5pnVtzzxIluHqbMrlchX3oetcHUmLCZ3/fdlk6iitm2e7rgs6H/nyvylOXaikj4vP8Hw+j0mTJunfrAInn88rACqVSikAJT+pVCpyLJ1Oq2w2G7l2NptV6XTaat2Ojg6ruS7rmvYjha2fpHzoOjdpMWFr71iLU1tMPvThf0kfuuzXhuIzPJ/PG9+bmD/Z6c4mRI0Vz0tEoWu1blrXdDbB1l7duqb9SGHrJykfus5NWkzY2jvW4tQWkw99+F/Shy77lSYxCYkQQkh1w4RECCEkCJiQCCGEBAETEiGEkCBITHPV2tpaq9b9urbytq3hfUkNmPYD6EvCfbTQjxpzlRqQklUIMSZspTaKNlVaOsRFCsUHcSQXXPwvJf8hcT/7vnaJSUg2KEMLfdvW8L7Q7SdOG/xKt9B3QUomIokxYSu1AQCNjY3BSYeEhklyAQBmzJhh5X9b4sRpku7nuCQmIUW1andpoR9aW39XqYEofLXQd9mrlExEUmPCVmqjv78fra2tFZUOcZVC8YFOckEnT2Hyv5T8h9T97Pva8TskQgghQcCERAghJAiYkAghhAQBExIhhJAgSExCsmmTn8S2/qGt68smKZmIavNTiFIb1SadMJYkSXxfu8TIT7S3t2Pfvn0l464t9KtJasDF3sbGRhGZDpd1pWzSjbnGRIgyHTqkZBV01w6QOS9nqgxzWdfHc8IU/1L7MX3uSKH8RMDyByFKI0h+btKkHqpJ1sJFSiBEWYsk+j9p8hMSNlF+IsaYL/mDEKURJD83aVIP1SRr4SIlEKKsRRL9nzT5CV82FUlMQiKEEFLdMCERQggJAiYkQgghQcCERAghJAgS01xV1y5dCbTQT5rUQBx7TS32o9C159f5P4lSDy4xYfJhpfdqiiddebCUrIKvvQ4NDWljuPieozn83I5N/LvMNZ0H0l1XXXm2SyzaSGIMDAxo93E4iUlIW7ZsKevAamuh7yI1oEMnQ2AKYF17fp3/VQKlHqoNUzwB5R/EUrIKkuj2Wow3nZyJ7t6wlfCQkv/YtWtXpCRGOp1GV1fXqHfsjnM/R/k/LolJSE1NTWUPVUm10E+a1IBpXZ0MQRyi2vPb+j9kqQdbm3Rt+/v7+73Fqa10goRNvvY6ODiolTMBYPxP2Ujj30X+I048mY5xjHYsukhixIXfIRFCCAkCJiRCCCFBwIRECCEkCJiQCCGEBEFiihp6e3sjq+x0JYw1NTXacs5qKTt2Lf+1LXZwLWeudCmuZExIluyPlTiV2qupZBmw60BuKo+3PU6RTqetj0y4fK7UMZq4JCYhnXbaaSMuT62pqcErr7yiLfUcK5hKYiXKRE2YStGB0S/FlYwJqZJ94o6uZNn0nx9dObPLdTXFsKmE3RaXMnZpEpOQdOWRujm6Uk8fJeMhlpObykR1uJQzxylFlyjFlYwJiZL9aiqPD3GvumsTp2O3bl3TfaWLYVO3dduScdPnSvg/LvwOiRBCSBAwIRFCCAkCJiRCCCFBwIRECCEkCBKTkMpVRRVfjxqL28XaZt1i2fFI54a4rslPOlx8KFXpqLNpLMVEiDaNpb1K3Veh3s86m+JSowKvRS0UCshkMmhvb8e+fftKxltaWgAAPT09Zcfa2tq063d2dkbONa1rOzfEdRsbG63PKLn4UAobyYXiXl32o/vcXC5X8ZgYa3Hqw/8u944O07lBnU0u99Zox9qBAwewbNky5PP5sg2yj0AFTj6fVwBUKpVSAEp+UqlU5Fg6nVbZbDZy7Ww2q9LptNW6HR0dVnOTtq6kD3XrSqGzN1Q/udgUWjy5rOsSM1L+DzWOQ/MTAJXP542fn5g/2elq7qPGiudrotC1cDetazqbYGtvaOtK+lC3rhSmtv0h+snFptDiyWVdl5iR8n+ocRyan+KSmIRECCGkumFCIoQQEgQjSkibNm3C9ddfj5kzZ+LYY49Fc3MzLr/8cnR3d5e8980338SiRYswceJETJ48GVdffTXee++9UTOcEEJIdTGiXnY/+tGP8Nprr2HJkiX40z/9U+zduxcPP/wwWltb8frrr2PWrFkAgN27d2PevHnIZDJYtWoVBgYGcP/992PHjh3YuHHjcNdYQgghpMiIEtJNN92Ef//3fz8ioSxduhSzZ8/GP/zDP+DnP/85AGDVqlX46KOPsGXLluGyx7lz5+Lcc8/FY489hmXLlo3Y0NraWmvZhShs27CH2H5fsq2/lKyClCQGEF0ya5ILCNFPSZSfiJL4cLmvTPezDql73cUmF0zSFSabKh2ncRlRQjrzzDNLXvvjP/5jzJw5E2+++ebwa08//TQuuuiiIx4oCxcuxPTp0/Hkk09aJSQJQm7DHhJSsgpSkhi7du3CjBkzKi4DQfmJz9FJfPi6r6rtXtftx/SfOV/3Rxyc5SeUUti3bx9mzpwJ4POb8t1338Xpp59e8t65c+fi+eeft/qcqNbncSQOJCQMQmu/L93WX0pWQUoSw1YuIFQ/JUl+Qifx4XJfxbmfdUjc6642uRC1HxO290ci5CeeeOIJ5HI5LF26FADQ19cHAGhoaCh5b0NDAz744APjQ6FQKBzxQwghpPpxSkhvvfUWrrvuOrS1teHaa68FABw8eBBA+d5zxT5HxfeU47777kMmkxn+aWpqcjGREEJIQrBOSHv37sWFF16ITCaDp556CuPGjQMA1NXVASj/q1/x18Tie8px++23I5/PD//09vbamkgIISRBWH2HlM/ncf755+PDDz/Ehg0bMG3atOGx4p/qin+6O5y+vj5Mnjw5smMsoO8oSwghpHoZcUIaHBzE4sWL0d3djZdeegknn3zyEeONjY2YMmUKNm/eXDJ348aNmDNnjpWhurJLXcnm0NAQtm7dWjJm6g4sVR6ctDLdYlv5StsUp5xWqnS1Wo4C+LJJd9/Fua9cypltqK+vt77XXZ4xkt3AgeiO9rr9SsVEXEaUkA4dOoSlS5eis7MTv/rVryJbnF966aV4/PHH0dvbO/wd0Msvv4zu7m6sXLnSytAtW7aU3aiuZFMphQULFkQ+aNetW8cyXejLdH2csYiDVOlqY2NjVZUH+0B335mujc7/rg9wCVyeMZJHG4DyX5sUbQqVESWkm2++Gb/+9a+xePFifPDBB8MHYYtcddVVAIA77rgDv/jFL7BgwQLccMMNGBgYwOrVqzF79mx885vftDK0qamprJaGrmRTV6YYp2NxFCGWZ0uV6QL2Pna1SVdOK1W62t/fj9bW1qo4ChCqTboxnf+l6O/vF7mucTuFV7J0u2hTpWMiLiNKSNu3bwcAPPvss3j22WdLxosJqampCevXr8dNN92E2267DbW1tbjwwguxZs0afj9ECCGkLCNKSK+++mrs986cORMvvvjiSO0hhBAyRqH8BCGEkCBgQiKEEBIEiU9Ixa635dCdaSqWM1d6bojrmsppbX2cRJtsPzPEmAjRJhf/SyF1XV1j3NbmEGMiLjUq8NrmQqGATCaDfD5ftsoOADo7O9HT01PyektLCwBEjrW1tVnX8pvOF+RyOWubbPfjsm5jY6N2rz5sijpWUETK/zpM9tr6Scr/vuLJZV2Xczu297MuXlz26rofHUmJiQMHDmDZsmXaZ/gwKnDy+bwCoPL5fNnxbDar0um0AlDyk0qlVCqVKjuWTqdVNpsVsdnFpo6ODqu5Uuv6ssnl+kjFhG5dVx/bfm6I185XTNj6SfLe4TPmDz9Rz/DDSfyf7Ez1+FF18cUzAKHZZDobpTsvIbGuL5tcro9UTOjWdfWx7eeGeO18xYStnyTvHT5jRkbiExIhhJDqgAmJEEJIEDAhEUIICQImJEIIIUFgpYcUEsV6fBu5gPr6epESU1f5AxuZCClpBFcJA5OshYTUgFRMuEqS6HyhkzCwlQuQvnYhyVr4klUw+cnlXJXu2eQrJmzXjUviE1Jzc7O1XEAul7NuDS8lf6BDJxMRojSCSdZCd+1czmhIxYTLdTVdO10c+pALCFGSRMWQeqg0cWLcBt3zJXQJCRcSn5CAzx9AtnIBtq3hpeQPbGUipKQRXOfqZC2A6GvnikRMuEiSmK6dqZw8tGvnQ5IkjtRDaNIttsQ5YpAkSZK48DskQgghQcCERAghJAiYkAghhAQBExIhhJAgqOqE5NJWPmmSDL5a6IcoJ6AjRKmBJF47H/EfoqyCVIyHGBOUn8Af5Cd27txZtoLDVFrpIhfgIkUAVF6SwTTPVq5BUlbBB1ISEi4SH5LyBy6yIzp8SD0kUSZFh8s9GeL9PGbkJ2xavLvIBYTY6t5lrz5kFXy15tchKSERmtSDpMSHD/8n7Z508UW1yaQAVSY/YdPi3UUuIMRW9y579SGr4Ks1vw5JCYnQpB4kJT5sGUv3pImxJJMSl8QkJEIIIdUNExIhhJAgYEIihBASBExIhBBCgiAxzVWj2prHOd8R1THXRf7A1P5dQiaiKI8QZY/LXkx+kmhXbzq/4SINEoXuuvmU6ZBY1yWepHCJtTjyEzrZEaB8cZTrPamzqbm5WStnYmPvaNzPUp87ZuQntmzZMuJzSHHkDSTkD3zIRLjsxTTXB6b2+zppEBIuLrGmDPITXV1dxrVtJElcbFq3bp1RWkQn8SFxP8e5Br7ODiYmITU1NZkPVZXBJG9gK3/Q399fcZmIoaEhrSSGi5SDbq6U1ICtvIdJGkSH6bolra2/q3SCrR9dkIi1Yky0trYa7/eRfOZoSGLo4jiOPIsNrs+90b634sLvkAghhAQBExIhhJAgYEIihBASBExIhBBCgiAxRQ2hYSofjioFLRY82JQdS5bp6kqsTSXuwOiXfZv8W19fb1UWXo1l31FHDFyPNvjANtZc7g1fMWEqGQf01W623dalilh05eZxYUISQFcKWjzzEBKmEut169Z5sEpPLpfTltOOlbJw3REDyaMNxB3TcwKIPg+kKyc3zZW6N6JibWBgAPPnz4+1BhOSJboSR1Mprm7MR5lunO7APsq+TaW4NmXh1Vb2rTtiUMTlOEClcbmvqukogO45Eadjt26uZKl/uVgrFAqx5/M7JEIIIUHAhEQIISQImJAIIYQEARMSIYSQIGBCsqRY4liOVCpVturJNHZ4mW7UuESZrm4vJptc9hqnY7GNTXE6wNus63LtkhYTvrC9r1z8UG0xIeWnSlCjQqtBPopCoYBMJoOdO3dGdvsG/HSn7ezsRE9PT8nrLS0tAGA11tbWpl23sbHReq+6cwu5XM7aJt1+dGNtbW1iNrW1tZW8XsR0fsl2r5J+st1rEvFxvsYlJkz3pO1cIFnnkKIoPsPz+by5QbYKnHw+rwCoVCqlAJT8pFKpyLF0Oq2y2ayIXdlsVqXT6RHbZLK3o6PDal3TXm3tdbFJcq+6uS7XPWl+koxx8jm6mHC578bKtSs+w/P5vPG9ifmTne6cQNRYseZeAt3ZHZ1NJntN5wts92prr4tNknuNcw7JhqT5STLGyefEkUKRmDsWSUxCIoQQUt0wIRFCCAkCJiRCCCFBwIRECCEkCBLTXLW2tnbUJQ4A+xJTKUkGF6mBOOd6bLoD+5JVsJ0rJUUQovyEpCSJCzbSIKGiu3fi3He28hOSfgr1+iQmIUmgk12I0/690sSRGojCJEMARCdfQkaCSc4kadIgUhIeSiM/IemnkK9PYhJSVKt2V4kD2xbuoUoN6DDJEESNbd26teJ7dfWThBRBqPITknICNsQpdQ7J3jjYSnjYxpOkn0K+PvwOiRBCSBAwIRFCCAkCJiRCCCFBwIRECCEkCBKTkCotcRBiW3lfreN9SG348hNjwh2TnENo9kriQ07DxSbf1ycx8hPt7e3Yt29fyXgSJRmk2tX7ktrQ2STlQ0lJhhDlJ6TOjbhIGCRF/qCIiw9d9ir1nJCyabSfpwMDA5g/f/7YkJ+QauFuahsfokyED6kN3edK+nAsyU+EJqGSREkMKQmJECVJQpS4AcaI/IRUC3dTrX6IMhE+pDZ0nyvpw7EkPxGahEoSJTGkJCRClCQJUeImLolJSIQQQqobJiRCCCFBMKKE9Lvf/Q5LlixBS0sLJkyYgPr6esybNw/PPvtsyXvffPNNLFq0CBMnTsTkyZNx9dVX47333hs1wwkhhFQXI+pll81msX//flx77bWYNm0aDhw4gKeffhoXX3wx1q5di2XLlgEAdu/ejXnz5iGTyWDVqlUYGBjA/fffjx07dmDjxo3D3Y0JIYSQIiNKSBdccAEuuOCCI167/vrrcdppp+GBBx4YTkirVq3CRx99hC1btgyXCc6dOxfnnnsuHnvsseH3jYQo+QmpFu6mlvPFsyFRncKVUlb2usgfuPhBV0Jq20K/2Aw2ap7Jh8U1jsYkiWHyBaCXFbG9ri7yE7ayIi5ISW34lFWIwlVCwkdMRI1JSre4PGN08RQX527f48aNQ1NTEzZt2jT82tNPP42LLrroiMBbuHAhpk+fjieffNIqIUWhhFq4x2k5HzU+NDSEBQsWWNlrK2vh4gdTO3qdTbrPLd6sUTQ2NopIYphsAqITXVdXl9V1dcFFViREpO5JF1wkJGzv9WpD6tl1OFYJ6aOPPsLBgweRz+fx61//Gi+88AKWLl0KAMjlcnj33Xdx+umnl8ybO3cunn/+eStDbeQnXFupx5FrKDduK9cgJWth8kOc8mxbSQbdWH9/P1pbWysqiWGSFdHZpPtMVzkNF1kRW3xIbfiUN7CVkNDNlYoJX9ItLs8Y3bpxsUpIN998M9auXQsAOOaYY3DJJZfg4YcfBgD09fUBABoaGkrmNTQ04IMPPhi+ActxdB18oVCwMZEQQkjCsCr7vvHGG9He3o7HH38c559/Pg4dOjScPQ8ePAigfO+5Yv+k4nvKcd999yGTyQz/NDU12ZhICCEkYVglpK9+9atYuHAhrrnmGjz33HMYGBjA4sWLoZRCXV0dgPJ/Gin+Waj4nnLcfvvtyOfzwz+9vb02JhJCCEkYo3Iw9rLLLsOmTZvQ3d09/Ke64p/uDqevrw+TJ0+O/HMd8PlvVpMmTTrihxBCSPXjXGUH/OFPcPl8HjNmzMCUKVOwefPmkvdt3LgRc+bMsfqMqLJvyVJoE1Gl0rpyZ1OJr2TpsI29ccpEoz7XVBJrqpYzlaLblIybquxM5b8ufgLs41Si27dU2bev4wkuHbB1Y7p1Xe8dIDll3y7rxmVECendd9/Fl770pSNe++STT/DTn/4UdXV1OPnkkwEAl156KR5//HH09vYOfwf08ssvo7u7GytXrrQ2dqRIlp/qSqV15c6mEl9b4qxrY6/L57qUxJpK0XXl2a4Pn0oTp5z27LPP1voiKaXh0scTovzk8p8U07q29w4pZUQJ6Tvf+Q4KhQLmzZuHxsZG7N27F0888QTeeustrFmzBhMnTgQA3HHHHfjFL36BBQsW4IYbbsDAwABWr16N2bNn45vf/KaVoTZl35Llp6YOwFGYSnxdyplN69raqyvn1H2uqSTWpRTdpWTcNBaFrkxaupzW5IvR3o+v0mHX4wm2Ma6zyWXdsVL2bVo3LiNKSEuXLsW//uu/4pFHHsH777+P4447Dqeddhp+9KMf4eKLLx5+X1NTE9avX4+bbroJt912G2pra3HhhRdizZo12u+PCCGEjF1GlJCuuOIKXHHFFbHeO3PmTLz44otWRhFCCBl7UH6CEEJIEDAhEUIICYLEJKSo755SqZTVmGsX5WLZ8Wh/bojrFrtyj/RzdZ/pYq9kB2wdJpt0fnKJU1v/m5CKCal7MkT/+/JT0myKS40KvGaxUCggk8mgvb0d+/btKxlvaWkBAPT09Ix4rK2tzck23ZmHXC5n/bm2ZylcznCY7O3s7LTaj8v5GYmzN66Y/KAbB+zjVMoXtva67LWxsVEsJmxjXGevyf+A/p6UigmXayflp3I2HThwAMuWLUM+nzc3OlCBk8/nFQCVSqUUgJKfVCplNZZOp1U2mxWxOZvNqnQ6XfHPtcVkb0dHR6L2I4WLn5IWpyabbPfqK15c9upir+3n+vK/VEwAUPl83uivxPzJTnf+w2aseOZBgjhnaELC5XxHiPuRwvUcTJLi1GST7V59xYvLXl3stf1cX/6Xiom4JCYhEUIIqW6YkAghhAQBExIhhJAgYEIihBASBKMiP1EJdC3egeguvkpI/sDUkj5KGsHXGRodLrIKcfwohVR5fBRS8hOmtv466RCXvYYqPyEltaGTK3F5Tpg+V0JOpnjmZ6SdzV2kaIKTn/DJli1bym5Ud0NKyh+YJAHWrVsXKQWRFKmAkDHJfwDRN2SS5BoAIJfLWckqhLhX5Ulqo7m5OVKuxOU5IYVJTka3nzjyKxJSNKNBYhJSU1OT9lBVuSCVlD8wlULrpCBCw0VWweRHKWzlP6TkGqTb+kvsNUT5CSmpDeDzZ8RoPydMuPjY9AyJ2s/h4+WwlaKphPwEv0MihBASBExIhBBCgoAJiRBCSBAwIRFCCAmCqk5IkvIHUpIAPkjiXqVkOmw/M1SpAR+SJCFKbeiQlDrxEadSNlF+An+Qn4jVurwMJrkAF0kG2/MSIcoqmGzS+VFKTgCQaevvIv/hItOhs8lkb1KkBuLMdVnXFGu28eQiF2NCKk51uNzPOptM9o4Z+Yk4rcuPRkouwKUlfdKkKZSSa90fovyBD5sk9xqaTUncqw/5CclnjI9rB1SZ/IQNUnIBLi3pkyZNAci17g9R/sCHTZJ7Dc2mJO7Vh/yE5DPGx7WLS1UnJEIIIcmBCYkQQkgQMCERQggJAiYkQgghQZCY5qo6bFqpx2mhr2v/bitdYbIpxPNLphb6tn5ykQSQunYmm4DoztomSYCo/UhKPUhJYtj63/W6utgUNddV/kNK4sMk06H7TJ38ja10hUv8xyXxCckkQ6Asj1nFaf9eaZtCxMVPUpIAUjbFORuVJIkDKXT+T6IfdPIfUhIfyiDToftMUwy7SleMdN2BgQHMnz+/rK1Hk/iEZCtDEEdWwVZCwsUmH1IOJkyyCy5SG7aSAFLXTmfT4eMjnavbj5TUg7Qkho3/Xa6rz73aSmLYyk+YZDpMz4k4MewS4yNZt1AoRL7/aPgdEiGEkCBgQiKEEBIETEiEEEKCgAmJEEJIECSmqKG3t7fsl4O6MmpT+a+uTFSq7NJUOumr7FtX1qorXZUqVY9Tump77QB9pZAEkiXuQFhl3zr/ux7FsLVJcq+mYwQS5fGSzwmfagSJSUinnXaa9sKVw1T+q0Oy7BKo/ANRh65MPZ1OY926dRW3KY4Po9BdO9N/CCRKeAG5EvcQMfm/mo49uBBiebzpWSB1fxRJTELSlYrq5ujKf21LcUer7DIU4nQH1vlfqlRd50OXMuoo4lxXFyRK3EMs+7b1fxL3aop/2yMTppiQitM4agSSzy5+h0QIISQImJAIIYQEARMSIYSQIGBCIoQQEgSJSUjlKlGKr0eNxe3sPNrrJg2dHw7v4hs17sMXttcuxOvq4n/TfmznJm1dXza5PGN0c23nueLrc4vUqMBrMAuFAjKZDNrb27Fv376S8ZaWFgBAT09P2bHGxkZtiXVnZ2fkXN26bW1tI95LyOj80NbWph03+ViH7swDoC+Pt712LvaasN1PLpez9j+gj1PbuSGua7p2Ov/rfOzLJpNqgI/jIaZnwUgpPsPz+TwmTZqkf7MKnHw+rwCoVCqlAJT8pFIpq7F0Oq06OjpUOp22mpvNZn27ZtTIZrORfpD0k+5zk3jtbPcjuVfbuSGu63Ltqi3WpDA9C2z2U3yG5/N543sT8yc7XU2+zVjxfI1OJkI3t9z/XJJKnHNIEn4yyXQk7drZ7kdyr7ZzQ1zX5dpVW6xJEecckiSJSUiEEEKqGyYkQgghQcCERAghJAiYkAghhARBYpqr6tq/A+WLHiTb+rvU47uUc0qUgprkJVz8pJOBMLXm160rZZNLOa2U1EDSJBl8yFrEkYTxEWv19fXWRwF0Y1LHE0zyIFL3TpHEJKQtW7aUdZLuwoXY1t+lvbvv1vAjRRkkPHzIWphskvJhiFIDScPXtXMhl8vh7LPPHrE2mqRMiu45opMHqYT/E5OQmpqatIeqKt3W37YNu0t7d6nW8KYW+RJt/U2yFj6kBlzb60tJDYTmpxDXjXPvVNqHxbm6knHd3ChGI05tbJK8d4rwOyRCCCFBwIRECCEkCJiQCCGEBAETEiGEkCCo6oQk2dbftuzbpb27VGt4KT8lUWrApZxfSmogRD+Ftq6k1EyI/peKU9/SLYmRn9C1LrdtOS/ZVh6wlxrQ4dIaXspPQOUlDCRt0mE6B2YbT9UmP6HbKyAjK+Jy7Uw2hXjvuCAl01Fu3YGBAcyfP7+65CeiWpdLtZWXkk6QkmsIUeohibIKLv4fS34KUSbCh9SDr5gITULFtFegyuQnopBqKy8lnSAl1xCi1EMSZRVc/D+W/BSiTIQPqQdfMRGahIppr3FJfEIihBBSHTAhEUIICQLnhHTvvfeipqYGs2bNKhnr6OjAWWedhQkTJmDq1KlYsWIFBgYGXD+SEEJIFeLUy2737t1YtWoVjj322JKx7du345xzzsGf/Mmf4IEHHsDu3btx//334+2338YLL7zg8rGEEEKqEKeEdMstt+DrX/86Dh06VPIl2x133IHjjz8er7766nCp3x/90R/hr//6r/Hf//3fOO+881w+ehjXtvLpdDqye7bpXINE+/04Zymi7JWUeoj6XJ10gmRbfyn5A51cgKk1v6Qkg43/Q5WJAKJLrF3iVFLqQRcTunvSR5y6yNjoYtwlJuJinZD+53/+B0899RS2bduG5cuXHzFWKBTQ3t6OlStXHlF3fs0112DlypV48sknRy0hudDY2Iiuri4xzZHRprm5OdLeoaGhyDb3rlIPOj9Vm3SCSS5AeTi2lzT/K41MgUlWwSVOpaQe1q1bZ7y3yh0YHY2DolHo9uoiY+MrxotYJaRDhw5h+fLl+Pa3v43Zs2eXjO/YsQOffvopTj/99CNer62txZw5c7Bt2zY7a8vg0la+v78fra2toy7Z4NJ+39TCvbm5OVJqw1R+KuEnnXSCdFt/KfkDW7kAKZts/R+iTIRJViFEqQdTiXuUrAhgf3+47NVFxsZWfsIUE3GxSkg//vGPkc1m8dJLL5Ud7+vrAwA0NDSUjDU0NGDDhg2Rax9d614oFGxMJIQQkjBGXGX3/vvv4/vf/z7uuusuTJkypex7Dh48CABlf41Np9PD4+W47777kMlkhn+amppGaiIhhJAEMuKEdOedd2Ly5Mkl3xsdTl1dHYDyv/4NDg4Oj5fj9ttvRz6fH/7p7e0dqYmEEEISyIj+ZPf222/j0UcfxYMPPog9e/YMvz44OIhPPvkE77zzDiZNmjT8p7rin+4Op6+vD9OmTYv8DF1HWUIIIdXLiBJSLpfDZ599hhUrVmDFihUl4yeeeCJuuOEG/P3f/z3Gjx+PzZs34/LLLx8e//jjj7F9+/YjXnNFVwptqp4xVcHoyioly75tSlfjlCRL+Mm1nDy0su8QbTKVovsoOw5tXZ8l7j6Oh5iOrEgcAQmu7HvWrFl45plnSl6/8847sX//fjz00EM46aSTkMlksHDhQvz85z/HXXfdheOOOw4A8LOf/QwDAwNYsmSJtcFHoyuFjnO+IApdaaRreaoOl9JVXbmmqcQdsPMTkcdU4uuj7Jj4xXQUQOoIiDQjSkj19fX4i7/4i5LXH3zwQQA4Yuzee+/FmWeeifnz52PZsmXYvXs31qxZg/POOw+LFi1ysbmEqFLow8dHSpwuvqGVHevG4pS4V7L8PeSy7xBtCrHsOKR1fdlkOqoheTxEdxTA17PLtexbrLlqa2srXnrpJdTV1WHlypV49NFH8a1vfQtPPfWU1EcSQghJME6tg4q8+uqrZV8/66yz8Nprr43GRxBCCKlyKD9BCCEkCJiQCCGEBAETUgTFcvJyFMtpo8Z1Z6l0Y5LrSlVc6fwktdcQ/e/Lpjhl+SH5if4fHZtsP9OXn+JSo3y2do1BoVBAJpPBzp07y1ZwuJYs68785HI59PT0lIy1tLSgra3Nei4A7bqdnZ1WcxsbG61a6LuWdtva67JXl7nVZpPpuofmJ6l1fdnU1tZW8vrhSNkk9ewCRlemY2BgAPPnz0c+nz9C/aEsKnDy+bwCoFKplAJQ8pNKpSLH0um0ymazkWtns1mVTqeDWrejo6PiNpnm6vC1V9u5tMmvTdW2V6lnga/nhATFZ3g+nze+NzF/stOdA4gaK7Zhj8LUht3HuqZzSBI2mebq8LVX27m0ya9N1bZXqWeBr+eEbxKTkAghhFQ3TEiEEEKCgAmJEEJIEDAhEUIICYJRaR1UCWpra61aoku0YY8jCeBDksG0V127ettzSib5D6VU1UgNuEgC6HxRbZIMSZSfqKmpiZRf8SU/YbLJ9r4zSdz47O6fmIRkg1IKCxYsiLyoLm3YTTIRqsLHu0x77erq0spP2AahTv5jaGgICxYssFo3iZgkAcaSL5JETU0NXnnllaAkPEw2udx3JjmTrq4ub0kpMQkpqvW5bbt0lzbsLjIRPlroF0s9TfITtkTJf+ikD5IoNeAqCUCZjjD3WvyLho2Eh5T8hMkmwO2+M5Wx+0pI/A6JEEJIEDAhEUIICQImJEIIIUHAhEQIISQIElPUYFP27bPENKpkU6oUOk6ZuhS68nddqblL6WqIJdaSRwF0ey2ufzSmkmXJONWta7LXZa+28WR7PET6aIkNpiMeLmXs0iQmISUJXclmtZX/7tq1CzNmzIgM/nXr1omUroZYYi11FEC31zhyAVFIxWmcMmrd8QPbvdrGk8vxEMmjJbbE8WGoJCYhjXbZt2SJqa5kU6oUOk5JskQpp6mLuFTpaqgl1hJHAeKU7EeNmfwoEadxS5Z1YzZ71c21jQmX4yGuR0tc7lmdD13K2KXhd0iEEEKCgAmJEEJIEDAhEUIICQImJEIIIUGQmIRUrmKn+LrN2OFloqM9V9c9u1iSOdo2meyVqq4x7ce1dNVmXd1cXzHh69rZ+tElTiXjzZakxUQS79nRoEZVui31CCkUCshkMmhvb8e+fftKxltaWgAAPT09Ix5ra2tDZ2enyNy2trbIPZnm6cYbGxsjyzlzuZyVPa64tLLXzQX0Jb6265r8JBUTurmmdaV8rJtrmheqhEEUSYsJyXvW9hljc12Lz/B8Po9Jkybp36wCJ5/PKwAqlUopACU/qVTKaiydTquOjg6VTqdHfW46nVbZbLbsfrLZrHae1LpR83ziw2YX/0vFk1SskXiEGBOS11W3Xwmbis/wfD5vfG9i/mSnq5u3GSueEdCdG7GdW2zhXg7TuR2pdaPm+cSHzS7+l4onqVgj8QgxJiSvq26/vmwqkpiERAghpLphQiKEEBIETEiEEEKCgAmJEEJIECSmuWqI8hO6Fu+68x261u+m1vBRre518gYmaYQ4Jda2c3VjLm39bW0y+UlSkiRqrsu6knIBPkrNXefarOszJqJkOtLptDH+bfEhiRGXxCSk0DBJAkicw1CaVvcmeQOTNAIQrTOzbt06q7lx1o1Ct1dXm3R+Ip9jkhXp6uqKjHFfc3Xo1vUVEyb5j6j4dvFD6CQmIYUmPxFHEqAc/f39IvITOnkDF2mEOKWrNjaNRlv/0bZJUpJEKk6l5ALilORHfaavuTpMpc5R+JSpkfADoH8G+ZKxKcLvkAghhAQBExIhhJAgYEIihBASBExIhBBCgiAxCSk0+QkpWQUpCYMQZRVok/u6UnIBUvIfknN1hCg/4SL/ISVJ4ksSo0jVy0+YWqm7tKS3xUV+AghPaoM2uc91iVOJszlx4t92rsteAfvzcjqbAD8x4SIn4+NcIeUnHOQnXFq4S0kjSLW69yW1QZvClhqwjUVf/tf5gfdOMmON8hP/Py7t0qWkEaRa3fuS2qBNozPXh4SEiwyBlP91fuC9Mzo2hSxXkpiERAghpLphQiKEEBIETEiEEEKCgAmJEEJIECSmuaqN/ISLhEEcOQcbimcAorr46mQtXDprhyqroNurUio4mwC9j23nSp/vKIeLDIGU/3UyKVIyEdIyNTbyE1LxXwkJCRcSk5BsUI4SBkrgiFZzc7NRtkI3DthpD4WITsJjaGgICxYsCMqmOGc0XOYSs0yKxD3pC5P8hI/4901iEtJoy0+4Shi4tGFvbm7Wzo0zPtKxrVu3BieroJPw0Nnry6YiUteu0rjIEEhKbVRaJkJSpsZFfkJKpkZaQsIFfodECCEkCJiQCCGEBAETEiGEkCBgQiKEEBIEiSlqsCn71pVVupZCmyrXpLrp2nZ91pWbS5WMm/xvkiHwUeIbakWiRLfvEMu+bcuk45TdR5VR+yr71sWba/zb3neATKzFJTEJyQZdWaXkg2fXrl2YMWOG1cO/q6sr8qLr1jXNdS0nt8Hk/1ArfULD5bpXE3HiKbRjBD5wue98x1piEpJN2beurBJwK4XWlU6auihHUezEa7OuaS5gX5Ls4ied/3XoSpKly75De7i7XnfduiGWfduUSReJinEfxx7i7Cfq2rnEv+t9JxFrceF3SIQQQoKACYkQQkgQMCERQggJAiYkQgghQRB8UUOxmaJtt+9UKoVCoVB27eK4TTlnaOua5rogtR/bz0ylUjjhhBNEyo6lfOiC1HV3ua5S/tetm7S9uuzHJf4l7zubdYvvj9MYt0YF3j539+7daGpq8m0GIYQQB3p7e/HlL39Z+57gE9Jnn32GPXv24LjjjkNNTQ0KhQKamprQ29uLSZMm+TYvSOijeNBP8aCf4kE/lUcphf3792PatGk45hj9t0TB/8numGOOKZtVJ02axItugD6KB/0UD/opHvRTKZlMJtb7WNRACCEkCJiQCCGEBEHiElIqlcLdd99dtk8T+Rz6KB70Uzzop3jQT+4EX9RACCFkbJC435AIIYRUJ0xIhBBCgoAJiRBCSBAwIRFCCAkCJiRCCCFBwIRECCEkCJiQCCGEBAETEiGEkCD4/wCgcbMo2nMByAAAAABJRU5ErkJggg==",
          "text/plain": "<Figure size 640x480 with 1 Axes>"
         },
         "metadata": {},
         "output_type": "display_data"
        }
       ]
      }
     },
     "78486f1afdff48ce88686311de64452c": {
      "model_module": "@jupyter-widgets/base",
      "model_module_version": "2.0.0",
      "model_name": "LayoutModel",
      "state": {}
     },
     "792600966c564490b7bafc1c3f5736d5": {
      "model_module": "@jupyter-widgets/base",
      "model_module_version": "2.0.0",
      "model_name": "LayoutModel",
      "state": {}
     },
     "79bb0dff024144588c2a4f90ce8ae716": {
      "model_module": "@jupyter-widgets/controls",
      "model_module_version": "2.0.0",
      "model_name": "ProgressStyleModel",
      "state": {
       "description_width": ""
      }
     },
     "79ede340ad36434fb4e7f1f97a77ab49": {
      "model_module": "@jupyter-widgets/output",
      "model_module_version": "1.0.0",
      "model_name": "OutputModel",
      "state": {
       "layout": "IPY_MODEL_410b59af9fb041d291f63e0125051025",
       "outputs": [
        {
         "data": {
          "image/png": "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",
          "text/plain": "<Figure size 640x480 with 1 Axes>"
         },
         "metadata": {},
         "output_type": "display_data"
        }
       ]
      }
     },
     "7ace7443e0bf4c458303ba7eecaa4bd6": {
      "model_module": "@jupyter-widgets/output",
      "model_module_version": "1.0.0",
      "model_name": "OutputModel",
      "state": {
       "layout": "IPY_MODEL_dcd12c53572b490a8bc0e95ce41cda9e",
       "outputs": [
        {
         "data": {
          "image/png": "iVBORw0KGgoAAAANSUhEUgAAAaQAAAGmCAYAAAAzhPA+AAAAOXRFWHRTb2Z0d2FyZQBNYXRwbG90bGliIHZlcnNpb24zLjguMCwgaHR0cHM6Ly9tYXRwbG90bGliLm9yZy81sbWrAAAACXBIWXMAAA9hAAAPYQGoP6dpAAA6NElEQVR4nO2df5BVxZn+H34UdwaQ0RlABhmyCS66zhAjibpYLpI4EvxBahMFrRU1W9k1UYOKwU1YNfrVciiDGklRRdCkhI3W7rJaloUpQwFVukRXIC5UmBTsuFsKMzBEfmRmmCwzKPb3D/fezDB3zjn39Ly33+7zfKpuFdy+3f2+b/c5fc+d5+0eZowxIIQQQhwz3LUBhBBCCMAFiRBCiBK4IBFCCFEBFyRCCCEq4IJECCFEBVyQCCGEqIALEiGEEBVwQSKEEKICLkiEEEJUwAWJEEKICrxYkHp7e/H9738fkydPRmVlJS699FJs2rTJtVlO6e7uxsMPP4x58+ahuroaw4YNw9q1a4t+ds+ePZg3bx7Gjh2L6upq3HLLLTh8+HB5DXbAjh078N3vfhf19fUYM2YMpk6dioULF6KlpWXAZ7MaIwD43e9+hwULFuBzn/scRo8ejfHjx2P27NnYsGHDgM9mOU6n8/jjj2PYsGFoaGgYUPb222/j8ssvx+jRozFp0iTcfffd6O7udmClZxgPuOmmm8zIkSPN0qVLzZo1a8ysWbPMyJEjzdatW12b5oz333/fADBTp041c+bMMQDM888/P+Bzra2tZvz48WbatGlm5cqV5vHHHzdnnXWWufDCC01vb2/5DS8j119/vZk0aZJZvHixee6558xjjz1mzj77bDNmzBize/fuwueyHCNjjPnlL39pvvrVr5pHHnnEPPvss+aZZ54xf/VXf2UAmDVr1hQ+l/U49aW1tdWMHj3ajBkzxtTX1/cr27lzp6moqDAXXXSRWb16tXnggQdMLpcz8+bNc2StP6hfkLZt22YAmBUrVhTeO3HihJk2bZqZNWuWQ8vc0tPTY9rb240xxuzYsWPQBemOO+4wlZWVZt++fYX3Nm3aNOBmEyJvvfXWgBtlS0uLyeVy5uabby68l+UYDcbHH39sLrzwQnPeeecV3mOc/sSNN95ovvKVr5grrrhiwIJ09dVXm9raWtPZ2Vl477nnnjMAzMaNG8ttqleoX5Duv/9+M2LEiH6Da4wxTU1NBoDZv3+/I8v0ELUgTZw40SxYsGDA+9OnTzdXXnllGazTx8yZM83MmTML/2eMinPdddeZs88+u/B/xulT3nzzTTNixAjz29/+dsCC1NnZaUaOHGnuv//+fnV6e3vN2LFjzbe+9a1ym+sV6v+GtHPnTkyfPh3jxo3r9/4ll1wCANi1a5cDq/zgwIED+PDDD/GlL31pQNkll1yCnTt3OrDKLcYY/P73v8f48eMBMEZ9+eMf/4gjR47gf/7nf/DjH/8Yr7/+Oq688koAjFOeU6dOYfHixfi7v/s7zJgxY0D57t278fHHHw+I06hRo/CFL3whM3FKy0jXBsTR3t6O2traAe/n3zt48GC5TfKG9vZ2ABg0fseOHUNvby9yuVy5TXPGiy++iAMHDuDRRx8FwBj15Xvf+x7WrFkDABg+fDi+8Y1vYNWqVQAYpzw//elPsW/fPmzevLloeVyctm7dKmqf76hfkE6cOFF0kldUVBTKSXHysYmLX+g3kTx79+7FXXfdhVmzZuG2224DwBj15d5778UNN9yAgwcPYv369Th16hROnjwJgHECgKNHj+KHP/whHnroIUyYMKHoZ+LixPtVNOp/squsrERvb++A93t6egrlpDj52DB+wKFDh3DttdeiqqoKL730EkaMGAGAMerL+eefj8bGRtx666147bXX0N3djfnz58MYwzgBePDBB1FdXY3FixcP+pm4OIUeI1vUPyHV1tbiwIEDA97PPxpPnjy53CZ5Q/5ng3ys+tLe3o7q6uqgv9Hm6ezsxNVXX42Ojg5s3bq135xhjAbnhhtuwLe//W20tLRkPk7vvfcenn32WTzzzDP9/kzQ09ODjz76CB988AHGjRsXGyfer6JR/4T0hS98AS0tLejq6ur3/rZt2wrlpDjnnHMOJkyYgN/85jcDyrZv356J2PX09GD+/PloaWnBa6+9hgsuuKBfOWM0OPmflzo7OzMfpwMHDuCTTz7B3Xffjc9+9rOF17Zt29DS0oLPfvazePTRR9HQ0ICRI0cOiNPJkyexa9eu4ONkjWuZXxzvvPPOgDyknp4ec+6555pLL73UoWV6iJJ9f+c73zGVlZX95PGbN282AMzq1avLaGX5+fjjj83XvvY1M3LkSPPLX/5y0M9lOUbGGPP73/9+wHsnT540M2fONJWVleb48ePGmGzH6fDhw+aVV14Z8KqvrzdTp041r7zyivntb39rjDFm3rx5pra21nR1dRXq/+xnPzMAzOuvv+7KBS8YZowxLhfEJCxcuBCvvPIKlixZgnPPPRfr1q3D9u3bsWXLFsyePdu1ec5YtWoVOjo6cPDgQaxevRrf+MY3cNFFFwEAFi9ejKqqKrS2tuKiiy7CmWeeiXvuuQfd3d1YsWIFpkyZgh07dgT9M8u9996LlStXYv78+Vi4cOGA8kWLFgFApmMEAF//+tfR1dWF2bNn45xzzsGhQ4fw4osvYu/evXjqqadw3333AWCcijFnzhwcOXIEzc3Nhff+8z//E5dddhkuuOAC3H777Whra8NTTz2F2bNnY+PGjQ6t9QDXK2ISTpw4YZYuXWomTZpkcrmcufjii82vfvUr12Y55zOf+YwBUPT1/vvvFz7X3Nxs5s6da0aPHm3OPPNMc/PNN5tDhw65M7xMXHHFFYPG5/Spn9UYGWPMP//zP5vGxkZz9tlnm5EjR5qzzjrLNDY2mldffXXAZ7Mcp2IU26nBGGO2bt1qLrvsMlNRUWEmTJhg7rrrrn5PTKQ4XjwhEUIICR/1ogZCCCHZgAsSIYQQFXBBIoQQogIuSIQQQlTABYkQQogKuCARQghRARckQgghKuCCRAghRAXeLUi9vb145JFHim7vTj6FMUoG45QMxikZjJM93u3U0NXVhaqqKnR2dg441px8CmOUDMYpGYxTMhgne0SfkHp7e/H9738fkydPRmVlJS699FJs2rRJsktCCCGeIrogffOb38TTTz+Nm2++GStXrsSIESNwzTXX4Ne//rVkt4QQQjxE7MTY7du341/+5V+wYsUKLF26FABw6623oqGhAf/wD/+At99+O1E7n3zyCQ4ePIgzzjgDw4YNKxzUd/qBfeRPMEbJYJySwTglg3EqjjEGx48fx+TJkzF8eMwzkNQ24vfff78ZMWKE6ezs7Pd+U1OTAdDvkK8oWltbI48Q4IsvvvjiS/+rtbU19n4v9oS0c+dOTJ8+fcAf9y655BIAwK5du1BXVxfbzhlnnAEAeOedd3DFFVf0U7Dkcjm8++67AIAvfvGLJZfV1dWhtbW17HXj2pXCxleNNknFX8qmqDimrZekLuepXrLga1dXF+rq6gr38ijEFqT29nbU1tYOeD//3sGDB4vW6+3t7TcAx48fL/r+6e+lKRs3blzqdm3qxrUrhY2vGm3ybU5ExTFtvSR1OU/1kiVfhw0bFvsZMVHDiRMnih5pXFFRUSgvxvLly1FVVVV4+fRNgBBCSHrEFqTKysqiCWI9PT2F8mIsW7YMnZ2dhVdra6uUiYQQQhQh9pNdbW0tDhw4MOD99vZ2AMDkyZOL1svlckWfrGpqalBRUVFY0IBPn7bGjx9f+HeasvHjxzupG1UmhY29Gm2Sir+kTWnjYFOX81QvWfI1CWI7Ndx///348Y9/jGPHjvX7vbOpqQkPPPAA9u/fn+jnuL7Zzx0dHThy5EihbPz48Zg6dSoAYP/+/anKXNWNa1eK0GySir9U3bRxsK3LeaqX0H0tZQcLsQVp27Zt+Mu//Mt+eUi9vb1oaGhATU0N3nnnnUTtcDsOQgjxl1Lu4WI/2V166aVYsGABli1bhg8//BDnnnsu1q1bhw8++AA///nPU7Xp4luexm+err75p0Uy/mnranxCssHVU5uLJ1Qbm3174nMVJ4l6iSg547UETpw4YZYuXWomTZpkcrmcufjii82vfvWrktro7Ow0AExzc7OpqKjol2hVUVFh9u3bZ/bt25eqLI64umn7lbJJyl4bJOOvMU5ScbSJU1qbXM1/V+MuhW9xGup6+Xv46ZskFEN0L7uKigqsWLEC7e3t6Onpwfbt2/HVr341VVtHjx7t98c94FPF3pEjR3DkyJFUZXHE1U3br5RNUvbaIBn/tHUl4yQVxyikbHI1/12NuxS+xUmiXlK8Ow+JEEJImHBBIoQQogJvFqR8HlJf8pr8vJa/1LI44uqm7VfKJil7bZCMf9q6knGSimMUUja5mv+uxl0K3+IkUS8p6k+MLUceUhRU2VFlN5R1paDKLpnNVNkls2ko66mQfUswdepUkcmjMfnMhU1x8fXtQrchKhZxcYoqd7U4u2hXijh7bcYubb++xTCOoZynxXbeGZRYHZ5jkkgGNUp8fWs3Dm0Sd1c22eCbjN23diXxLU5S/qSxKZfL6ZB9lwuNEl/f2o1Dm8TdlU02+CZj961dSXyLk5Q/aWwqtsn2YASxIBFCCPEfLkiEEEJU4JWoYTDyUsS+j4p9pYhRZa7qamw3CimbbPp0YZMNruIf2jzVOHYa4yTlT6k25XK5xD/beSX7jpIMapT4+tZuHNok7q5sssE3Gbtv7UriW5yk/CnVplwuh4aGhvBk36FJK7UhJae1kZP7iMpdlFMilWph06+UdJsoILUOskxI7/btm5yTclrdsm+NY+dClu/bXJPyVTJOGscuM7Jvqd2+fZNzUk6rW/atceykYqEx/mnttamr8XqW8oeyb0IIIZmACxIhhBAVeCNqyO/2rUliqlH2SjmtW9m3xrGTGneN8bex16auxutZyp9SbQpW9i2127dvck7KaXXLvjWOnbad5zXONZu6Gq9nKX8kZd9eLUhxzhBCCNFFsMdPaEzMTIvGb1S+fXu0qUub3D+tROGbTT7Gv5xPSImJFYY7RjoPKQqpfAmNeQu+5WhojVNINrnCN5t8jD/zkCyRykOKQipfQmPegm85GjZ1aZP7nKAofLPJx/iXc54yD4kQQoh3cEEihBCiAm9EDVJ5SFHY6Pxt2tWYy2Ljj8b8GtrkNicoCqnrTtIm3+LPPKSUlCMPKQqq7Kiyy7JNrvDNJh/jrzEPyZsnJEk0Tn4X2Gzr7+qYgihsjjCQOv5AiiyNnQ1Zuta99FVUWzgEaD5+Ii0apcNSuJIzu0Lj2GmMkwt8TG2Q8pWyb0s0Hj+RFo3SYSlcyZldoXHsNMbJBT6mNqRF0z2Gsm9CCCHewQWJEEKICrwRNWg8fiItWmXfEkj6Gpo8WMpXjXFygWQMeY+h7FuFnDYtGqXDUriSM7tC49hpjJMLfExtSIuWewyPnyCEEKICHj9RQpltXQlfbPrV+ETh47dzF08yWXuSdIGrp8yQEtJ5/ATzkBL1qzFvx8ccGBf5QlnL13KBq1wuqXuMi/se85D+D+YhxferMW/HxxwYF/lCWcvXcoGrXC6pe4yL+x7zkAghhGQCLkiEEEJU4M2ClM9D6kte/57XvpdaBsCqblpsbHLRrg0u+rRFaj6l7dOVTaFhEwepuq7aTVs3TbuliBq8kn0zD4kqu3JBlV2YUGWnOw/JK9m3RkK6wft4sUpdVFJwYXCLq2Mt0vbr43w53deurq7klWN1eI7RLPvWJvF1JXHXGH/aRNn3UMJrJ72v+Xs4Zd/Csm9tEl9XEneN8adNlH0PJbx2ZFNh8nizIBFCCAkbLkiEEEJU4I2oQePxE3F1ByOuno1NUu3a+OMq/rRJ7zEdvsFrR/a4jDyUfQvWjUKLJNNn+alNXdqkX62lDV476XwNdrdvKWykoFF1eRMg5SJuDmubpxoXX8k4RLUtJUV3BXf7diDJtKnro3RYm69a4+TCJhtcSMI1StxpE3f7Lgkp2XcUvsk5Kft2HycXNtngQhKuUeJOm7jbNyGEEFKACxIhhBAVeCNqkJJ9R2Ejl9UoyaR0NVyb0uJCEi6Z9pDWH9okN09zuVzin+0o+47BNzknZd/u4+TCJhuosqNNpdSV3O3bqwUpzhlCCCG6yGQekm/fhqX80ZggyW+e/j61xaHRVwl7JeumtdfWprT9it5DYoXhjkmydblvOSdx+JbLktYXyfhrtInz1E97Q5ynUnEqRpDHT0ThW86JlD9S+RA2ML/D39yoODT6KmGvZN209tralLZf6XtIEAsSIYQQ/yl5Qeru7sbDDz+MefPmobq6GsOGDcPatWuLfnbPnj2YN28exo4di+rqatxyyy04fPiwrc2EEEICpGRRw5EjR/Doo49i6tSpuPDCC/HGG28U/VxbWxtmz56NqqoqNDU1obu7G08++SR2796N7du3Y9SoUba2F/AxD0bKH4l8CBuY3+F3bpRNHEOyN7R5atOv5D2kZNl3b28v/vCHP2DSpEn4zW9+g4svvhjPP/88vvnNb/b73J133om1a9di7969BQXG5s2bcdVVV2HNmjW4/fbbE/WXVDKoUT3jm3pJiqyplzQqz0Kap1TZ6Y7T6YjKvnO5HCZNmhT7uZdffhnXXXddP0MbGxsxffp0rF+/PvGCpJ20W8dn6WiKuBhJbb/vKsZR/qQts+nTpm2bGEqNKxkaypVoXbbjJ3bs2GEAmOeff77f+21tbQaAeeKJJwbUWbRokamurk7ch2bZdxS+SYc1ojFOrmIo1S/lzNmUfZfz2nF+/ER7ezsAoLa2dkBZbW0tjh07NujeRr29vejq6ur3ioMSU72ybxs0xslVDKX6pZw5m7Lvcl47zo+fOHHiBIDij2oVFRX9PnM6y5cvR1VVVeFVV1cnYSIhhBBliCxIlZWVAIqvjPnVM/+Z01m2bBk6OzsLr9bWVgkTCSGEKENkL7v8T3X5n+760t7ejurq6kH/0JXL5Ur7IxjCk8SGJPu2QVL26mJO2CA1dpQzZ1P2Xc5rp2zHT0TJvidOnIg5c+Zg/fr1/d4/77zzMGXKFGzZsiVRH9pl31H4Jh3WiMY4uYqhi+MnKGcOV/Yd3PETUQvSHXfcgXXr1uG//uu/Cn8H2rJlCxobG7F69Wp85zvfSdQHj58ghBB/ET9+YtWqVejo6MDBgwcBABs2bEBbWxsAYPHixaiqqsI//uM/4t/+7d/w5S9/Gffccw+6u7uxYsUKzJgxA3/7t3+bpttIXD01+PYNPTRffXuSdPXkpfEbetp+NT7dapynWmwSz0P6zGc+009n3vf1/vvvFz7X3Nxs5s6da0aPHm3OPPNMc/PNN5tDhw6V1JfLPKQ4fMuDCc1X3/K1XOU3acyDkYqTixhrnKeabBLPQ/rggw9gjCn6+rM/+7PC5+rr67Fx40b88Y9/xB/+8Ae88MILOPvss9N0GYmr3Bzf8mBC89WFTTZIjatNvzb1XMxTVzaltdfGplCuHed5SIQQQkipcEEihBCiApE8pHLjIkfAtl+NeRi++erKprRIjattv2nrhZYvlBbJOIVw7ZQtD6kcuM5DikOjeiatvT76SpWdfb829aiyi+/TxqYQrp1S8pCCeEKyJWqb/NASSaXq+obGoxHibLK5SWib4xqPBnHVr8a5GEWcvaeXJ9kgu4CV3rEMSMu+o9AkncySTLQcdW3GPS2upNBS7fo2J6TwTU5uW7dUktzD8wQhanAlk9Ym5wxFJupa4utKHpy2rm8Sa1dzQgrf5OS2dSUJYkEihBDiP1yQCCGEqCAIUYMr+alGOWcIMlHXEl9Xsm+bui7a9XFOSOBqvmi8dmyh7DsGLdJJ1+2GZlMcruTBaev6JrHWeNSDDb7JyW3rloL4bt+u0HiTcIFvMlGNaJQd29jEOZEM3xa6UiXW5UA0Dql0fGUkLxlsbm72SmLqQroamq8abZLClU2+xd9Hm1zgKk7FCFL2ffToUa8kpi6kq6H5qtEmKVzZ5Fv8fbTJBa7iZIs3CxIhhJCw4YJECCFEBd6IGmpqaryTmJZbuqpVJhqaTRLYjp1Uvxrj75tNLpC8F0j66pXsu6OjwyuJqQtFT2i+arRJCh93IOeckN+pPS2u4nQ6pci+vVqQ4pwhhBCii0zmIfE8pGx+8/QtMdaGkMZO47j6mKzrw68wuVwuuUNDInoXxGUeUhzach6ylt8hlRviW16Jb2OncVxdzVONcyJtn4OV53I55iGVI+dEW85D1vI7pPIlfMsr8W3sNI6rq3lqgwub0rSb9PhygLJvQgghSuCCRAghRAXeiBpc5SFFoTHnIUv5HVK5ITZzQorQxk7juLqap2lxYVNcvWLluVwu8c92Xsm+XeQhxaFNZaRR0abRpjiosvOz3Tg0zlMbfFHZNTQ0hCf7liJqC3eNN6Yoe222o3exlb0rJBerciUcktLROMc1zgmbfk+PcVdXV/KOrXSHZUBa9h2FRtmrDSFJ3GmTvza5kn3bXBuhxUnKpmLw+ImEZXFolL3a4EIyq1H2TZuyKfuOIkvxl7TJFm8WJEIIIWHDBYkQQogKvBE1SMm+o0gjcSyH7DUtoUncaZO/Nkm1mxbJa11jnKRssoWy7xg0yl5tCEniTpv8tUnjUQ9Zir+kTafD4ycIIYSogMdPlFDmqm6WviGGFv84fIuTRjReO6HN03L5yuMnPNfyh5SHEVr8beKoMU4a0XjthDZPy+krj59IWAbo1PKHlIcRWvzj8C1OGtF47YQ2T6MYapt4/AQhhBDv4IJECCFEBd6IGlwdP+FbfkFaJPMwQou/TRw1xkkbruaERptcjOtQ+8rjJ0ooc1WXKjt/4x+Hb3HSiMZrJ7R5Wi5fefxEhnF145Ha1l+qXRt8u7nH4cIfH2MYNRc1zlMbnPljpQ8sA5R9y24Nn0dKYkqJtb82SZElX21s0ijnp+z7/6DsW+9RGy7ajavLOeE2jSCKLPlqY5Mr2XcUlH0TQgjJBFyQCCGEqMAbUQNl37qP2ih3u0nqck64SyOIQjLFQJuvtjZJXTtSvlD2rVhOq7HdKKQkppRY+2uTFFny1cYmjXJ+yr4VIyUFlZJdRk0mmz5tLgypOIUmxbUhbSykbnhx9ri4diS/zEVhM4ejyn1cuCn7diAT1bjrsFS/Gnea1ig7djVPQxu7tHU1pkzYoGmeUvadsAzQubN22ro+SqxdoFF27GqehjZ2aetKtWtrc1o0zVPKvgkhhHgHFyRCCCEq8EbUoFH2nRZXUmeNEmsXaJUdu5inGmXSUbiawzbt+iLPlpqnlH2XUGZbNy0adx2W6lfjRpoaZcc+7mLtAo2+hiDPlpqnpci+vVqQ4pwhhBCii1Lu4d78ZAfo/OapzabQfJUitDi5SmqWqmvTbkjxt0FLnHK5XHKjxYTwQ4TmPCRtOSeh+SpFaHGSirFkbk5ashT/UOLEPKSEZUBYOSeh+SpFaHGSirHN2EiNa5bib4OmODEPiRBCiHeUtCDt2LED3/3ud1FfX48xY8Zg6tSpWLhwIVpaWgZ8ds+ePZg3bx7Gjh2L6upq3HLLLTh8+PCQGU4IISQsShI1PPHEE3jrrbewYMECfP7zn8ehQ4ewatUqzJw5E++88w4aGhoAAG1tbZg9ezaqqqrQ1NSE7u5uPPnkk9i9eze2b9+OUaNGlWyoxjwkjTknofkqQdbykNLGWDLnJy2a8muyOsdLbVcsD+ntt9/Gl770pX4LynvvvYcZM2bghhtuwAsvvAAAuPPOO7F27Vrs3bu3oL7YvHkzrrrqKqxZswa333570i7V5yFpU/SE5qsUocWJKrsw42+DljiJHT9x2WWXDXjvz//8z1FfX489e/YU3nv55Zdx3XXX9TOysbER06dPx/r160takIYCmy3cbeq6sonoJUtjF+Wrxhu4K1wd8aESW3nhJ598Ys455xwzd+5cY4wxbW1tBoB54oknBnx20aJFprq6uqT2bWXfrghJ6mlTN0uSWBt/fLTJt/hrlH27uncFK/t+8cUXceDAAdx4440AgPb2dgBAbW3tgM/W1tbi2LFjkb8n9vb2oqurq98LSC/7dkVIUk+bulmSxCZpOySb0hLaPJWsK0WQsu+9e/firrvuwqxZs3DbbbcBAE6cOAGgeHZuRUVFv88UY/ny5aiqqiq86urqbEwkhBDiCakXpEOHDuHaa69FVVUVXnrpJYwYMQIAUFlZCaD4qphfOfOfKcayZcvQ2dlZeLW2tqY1kRBCiEek2suus7MTV199NTo6OrB161ZMnjy5UJb/qS7/011f2tvbUV1dHbm3US6XK1puI/t2QWhST8q+3UqsNdqUlhDnqVRdKYKQfQOfPuXMnTsX7777LjZv3oxZs2YN+MzEiRMxZ84crF+/vt/75513HqZMmYItW7Yk7m8oZN+uCEnqaVNXo6JKo8TXR5vSEto8dXV0iA3ey75PnTqFG2+8Ef/xH/+BV199tehiBADXX3891q1bh9bW1sLfgLZs2YKWlhYsWbKklC77kVbGmLUbYkiEFieNEl+pXCObdqXSHryUQqdE4/yPpRSp4D333GMAmPnz55tf/OIXA1559u/fb2pqasy0adPMT37yE9PU1GTOOussM2PGDNPT01OSPDEv+46SDGqUHVO6SpvKZZPUXHTlq9R1Z1PPN9m3pnlaiuy7pCekXbt2AQA2bNiADRs2DChftGgRAKCurg5vvvkm7rvvPvzgBz/AqFGjcO211+Kpp54q7WyMhMRJEQcrmzp1amRdm28TUjZF1ZVqlzbptilunmqLU1y7NqSNU1w9F3NC6v5T7nlaiuy7pAXpjTfeSPzZ+vp6bNy4sZTmCSGEZBgeP0EIIUQFXh1hPhguJLEubfJNukqb3MrjNcZJ4ppLYlPaer7JviX9KbVdUdl3uekr+46SDGqUHVO6SpvKZVMc2uIkqQDzTXbvm7ReUvYdzIJECCFEH6Xcw4P4yU4SLd8yNHzLjkLj00hae23ROHbabNKYI6Mx/pJI2VTsCSkxVmL3MpAkD0kKTVp+6Xal4uQqv8NmXF3EIrQ8JFfxT4vG+Lvyd6h9LevxEyETp9WPKk9b5qpdG1z4auOPVBzi2nY1dtpskox/WjTGXxIpm4rVLdvxE4QQQshQwQWJEEKICrggRZDX1PelmOa+WHnaMlft2uDCVxt/pOIQ17arsdNmk2T806Ix/pJI2VSsbimiBsq+Y9CohqPKTrfKS+PYabOJKrtsqexEjp/IItyuPkzf48bVxbEKkmRpHqfFJkaukltdIGqTvYBQFpey7zhCkn27krVmScaets+s+aoRjdezC3+kj5/g35AsCEn27UrWmiUZe9o+bdqNQ6OvGtF4PbvwJ42vlH0TQgjxDi5IhBBCVEBRgwV5iWM5tnB33a5UHCTrpsWFTXH1suSrRlzNcak4lfMek8njJ1wRkuzblaw1SzL2tH3atGvTb5Zk33FovJ5d+MPjJxQvSIQQQgYn2OMnNH6r0vYkI/WUY1PXxyekKDSOna3NaetpvCal0Hg9+/CLR5DHTzQ3N6vLXdCWLySVSyQVB8m6UmgcO1ubJXwNDY3Xsy95hUHmIR09elRd7oK2fCGpXCKbuj7mIUWhcexsbU5bz8d8orRovJ5d3AuYh0QIISQTcEEihBCiAm9EDTU1NepyFzTmC0nlEknFQWMeUhS2+UIac07S1vMxnygtGvOQbNotp6/B5iF1dHSoU/RoU89QZUeVXRqb09ajyo4qu6HMQ/LmCSmOLF0YNjBOyXARJ1dHYtjYFIVv5/zw2vgTzo4rSa2DLBNJZN+u5Kfa5JyhyERdy76zFGNXcZJC47Wj0SaJ+A5WnjnZtyv5qTY5ZygyUdey7yzF2AZXMnYJm1zNU41zLQrKvgkhhGQCLkiEEEJU4I2oIU727UJ+qlHOGYJMdKjqpsWVP65sSouUr65scjVPtc21KNKkAmRS9h2aokdbu1JxkKxrQ5ZibING1ZrGa0ejTWmh7JuoQKO0WEqe6kL2qvEGHkfaOGm80fqIi3kq2qeVBrAMUPbtvl1Jm9LG1xVZGjupOGn01UebbOapFJR9U2LqtXQ1ClfjGkWWxs4G33z10aYoNN0TKfsmhBDiHVyQCCGEqMAbUQNl32FKV6OQkivbkEb26vPYpUVrKkBINkXh6tqh7JsSU++lq1FoVFRlaexs8M1XH22KQss9sRTZt1cLUpwzhBBCdFHKPdybn+wkCSnhUPIblW82SZGlb+gakZoTPiZwa6TYE1JiREXpQ0A+DymJhj0NIW3rL5m34JtNUmQpD0YjUnPCVfxDIzN5SFJI5Re4sEkyb8E3m6TIUh6MRqTmhKv4hwbzkAghhAQBFyRCCCEqyPyClNfN9yWv148qi6vrwiYbe2x81WiTFK7i5KquNqTmhKv4h0YxX0sRNVD2DZ3qGd8UbRptkoIqO7dQZacbHj9hSdR26jZbrbvY1t/Gprg+08bJxRb5kmj0x2bspPDtJuxqXH2Lk6i94jpAS6Rl3zaEtK2/Rnz0x4XsW8peH9v17brTOIejSOMrZd9lwoWcNkvyUx/9cSH7lrLXx3Z9u+40zuEo0vhK2TchhBDv4IJECCFEBVyQLHAhp82S/NRHf1zIvqXs9bFd3647jXM4ijS+UvZdRkLa1l8jPvrjQvYtZa+P7fp23Wmcw1GU6iuPnyCEEKKCYI+f0PgtI6Rvwz4mfIaExsRMVwfEZenacYXK605Ssz4U5POQmpub1Wn5Q8o58fFYhZDQePyB5NEhaeuGdu24opzXXSm5pN6IGo4ePapOyx9SzolULkWWcjRskIxT2jjaxF+qbmjXjiu0XnfeLEiEEELCpqQF6Xe/+x0WLFiAz33ucxg9ejTGjx+P2bNnY8OGDQM+u2fPHsybNw9jx45FdXU1brnlFhw+fHjIDCeEEBIWJYka9u3bh+PHj+O2227D5MmT8b//+794+eWX8bWvfQ1r1qzB7bffDgBoa2vD7NmzUVVVhaamJnR3d+PJJ5/E7t27sX37dowaNapkQ2tqalBRUdHvUbKv/j2qTIq85j6NTVFlce26sNeVry7G1QVxcZAcu7Q2uaob2rXjAq3XnbXs+9SpU/jiF7+Inp4e7N27FwBw5513Yu3atdi7d29BmbF582ZcddVV/RauJPSVDHZ0dKhThVBlR5XdUEGVXbK6oV07rijXdVdW2feIESNQV1eHHTt2FN57+eWXcd111/VzoLGxEdOnT8f69etLWpDKgdQxETZHMkhtha/x6AQbXJzR5AoXR3y4OAbFR1wdUyOFs/tEGhlfd3e3OXz4sPnv//5v8/TTT5sRI0aYv/mbvzHGGNPW1mYAmCeeeGJAvUWLFpnq6uqS+pKWfWuUZLrAR9m3lE0a46+17TR9apS42/gjGQspytmvuOz7e9/7HiZMmIBzzz0XS5cuxde//nWsWrUKANDe3g4AqK2tHVCvtrYWx44di9yOvLe3F11dXf1egJzsW6Mk0wU+yr6lbHKBpE0u/NU4J6T8samrMWXFJakWpHvvvRebNm3CunXrcPXVV+PUqVM4efIkAODEiRMAim+oV/F/m+7lP1OM5cuXo6qqqvCqq6tLYyIhhBDPSLUgnX/++WhsbMStt96K1157Dd3d3Zg/fz6MMaisrARQ/FCm/Iqc/0wxli1bhs7OzsKrtbU1jYmEEEI8Y0gSY2+44Qbs2LEDLS0thZ/q8j/d9aW9vR3V1dWR25HncjmMGzeu3wv4k+y7L3kpYtyW6FHY1A2JuDhElacts2lX0iYXSNrkwl+Nc0LKH5u6ruaixmsAGKLdvleuXIl7770X27ZtwyWXXIKJEydizpw5WL9+fb/PnXfeeZgyZQq2bNmSuO1yyL41qlxc4KPsOySVnaRNLvzVOCek/LGpqzFlZSgRk31/+OGHmDhxYr/3PvroI/zTP/0TKisrccEFFwAArr/+eqxbtw6tra2FvwFt2bIFLS0tWLJkSSldloXQpNBS+CYtdkXaC91VHKRuTBrHVSrFw6ZuVFnmcvhKke/99V//tfnKV75iHnnkEfPcc8+Zxx57zJx//vkGgHnqqacKn9u/f7+pqakx06ZNMz/5yU9MU1OTOeuss8yMGTNMT09PKsmgxt2+Q0KjrNVH2bfGuahNdqwxFUAjPsrjiyEm+77xxhsxfPhwrF69GnfccQeefvppTJkyBa+++iruu+++wufq6urw5ptvYtq0afjBD36AH/3oR7jmmmuwadOmko6z7YvG3b5DQqOs1UfZt8a5qE12rDEVQCM+yuNtKeknu5tuugk33XRTos/W19dj48aNqYwihBCSPXj8BCGEEBV4syBJyb7Jp2iUtfoo+9Y4F7XJjjWmAmjER3m8LUMi+5ZE+27fIaFR1uqj7FvjXNSmxtKYCqARH+Xxp1OK7NurBSnOGUIIIboo6/ET5cTFt3CNSXZZgvFPhsbzkKTs1fjUrDFZV8sTUkkMueh8iHF5/ITGreyzBOOfDKmcE1fx9+1IEo1HYmQiD8klLo6f0LiVfZZg/JMhlXPiKv4u8pBc5cvZEGIekjcLEiGEkLDhgkQIIUQF3ixILo6f0LiVfZZg/JMhlXPiKv4u8pBc5cvZwDwkB7g+foIqL7cw/smgyo4qu9Pb1aKyC1b2nZa4wEttk5+1m562dqXQaK/NHNb4ZS7tcQ2SaJz/Lu5dovN/yDV+Q4yt7FtSzpm2ro+yY43SVRe+hDZ2vkmsffPVtq5EHCTjVAzKvhOWxeGbnFwSjdJViT4l67pCSgrtQmIdhzZfbeumxcexAzwSNRBCCAkbLkiEEEJU4I2oIS/77vu42FemmLYsirw0UqJu2nZdYRMLm3Zd9ClV1xU2MY4qk2o3NF81znGNYwdkRPYtKedMW1ejUisOjdJViT4l67pCSgrt2/Efro610DjHyzV2PH6CEEKICjKZhxTaN2mNTyO+HeRm065GND7JaGvXlU1xaIyThL3WWIndy0ASDXto+Soac35c5N/4dqyCJBrzhbS168omqbFzld/EPCRLQstX0Zjz4yL/RsqmLOUS2dT1rV1XNsWhMU4S9g4FQSxIhBBC/IcLEiGEEBUEIWpwlSOjsa5NuzZ5CxLY5lKkbVcjrvJgfGvXlU1RaIyTlL22BCP7psouGVTZ2dVziW/KM6rs/oTGOEnYW4xMyr5dbUkfhY1NUXVdSTLT+qNxoYvzRWOiNbHHxTVp268U5frSm8vlkleO1eE5phTJ4FCjUR6sUSaa1l5Jf1zF2CYWUjZpkx1rnBNZGtdyj10ul8uW7FsKjfJgjTLRtPZK+iNls8ZUAI1SaI2y7yiyNK42ddO029vbGxuHPFyQCCGEqIALEiGEEBUEI2qQQKM82JUkVspejVJ0V3JaKZs0yo61zQmtKR6u4jSU7eZyucQ/2wUj+5ZCoypKo0w0rb2S/kjZrDEVQKMUWqPsO4osjatN3VLbzeVyaGhoyJbs2wbKeO2xiYNGSawNUnMitDj5htR9IrRxPd2frq6u5JVjdXiOkZZ9a5Qdu7BX0+7ASdpNUh5SjKXi5It0WPqapE1DM3bFyNxu3zZolB27sNeVdDVtu0nK06IxxmnttbHJt3aTxGIwaNPQjJ0tmV+QCCGE6IALEiGEEBVkXtSgUXbsyl4X0lWbdjXKvkOT1vvWrpTsO2s2lXsO56HsGzplxy7s1bI7cNJ2bdtO22+WpPW+tZukfDBo09CM3emUcg/ngkQIIUSMTB4/YYPGbxm+PclI4dsThU1dV/HX6CufRvyNkxWxwnDH+JqHpDGXxUWOjA2+5e3Y1HUVf42+MufH3zgVg3lIJaBRyy+VB+AyvyANUjZlMb9jMDT6KlU3bRwkbQotTrZkfkEihBCiAy5IhBBCVJB5UYNGLb9v+UJSuMoz0jgnpNDoK3N+/I2TLZR9Izz1jJSvLqDKjiq7oaybNg6u/PExTqdD2XeJ+Lb9uyt7Q1qw4mIYVe7bfAHSH3/go69RaJzDUtjMcWfE6vAcIy37jkKjnFPKH1c2pbXXlU02NruSfWubT5RY675PpB3zwaDse4jQKOeU8seVTWntdWVTHBpl39rmEyXWuu8TUVD2TQghJBNwQSKEEKICihoikJSCSkgybf1xYZONvS5sikOj7FvjfKLEWu99IgrKvh3v9q1Rzinlj29HbbiyKQ6Nsm9t84kSa933iSh4/ASPnyCEEC8JNg8pS9+GtX2jdeVraEmooRFSEqqNza5sckGpvuZyueSND5U+XYq8hr25uTkzOSfa8kZc+RraUQ+hEdJRDza+urLJBWl8zeVy4eUhHT16NDM5J9ryRmzq+pjfQZKRNo4a50QcGm1yQRpfe3t7E7fvzYJECCEkbKwXpMcffxzDhg1DQ0PDgLK3334bl19+OUaPHo1Jkybh7rvvRnd3t22XhBBCAsRK1NDW1oampiaMGTNmQNmuXbtw5ZVX4i/+4i/w9NNPo62tDU8++STee+89vP766yX3VVNTk5mcE415I1nK7yDJSDtPJfP7bOra2OzCJhekGbtcLpf4Zzsr2fdNN92Ew4cP49SpUzhy5Aiam5sLZddccw127dqFvXv3FqR+P/vZz/D3f//32LhxI+bOnZuoj76SwY6ODnVqFKrsqLLLMlTZUWWXRGXX0NAgK/v+93//d7z00kvYuXMnFi9e3K+sq6sLmzZtwpIlS/oZcOutt2LJkiVYv3594gWpLy62Sw9tspBkaPxCoJGoa9I3fyTt1XjUg9RcPN3Xrq6u5Ealkf59/PHH5vOf/7z59re/bYwx5oorrjD19fWF8l//+tcGgPnXf/3XAXUvv/xyM3PmzMR98fgJv+W0odkkNZ98k//GkaU5ISUnl6ScKRPix0/89Kc/xb59+/DYY48VLW9vbwcA1NbWDiirra3FwYMHB227t7cXXV1d/V6u0CiFdmGvK1812mRDSPLfOLI0J6Tk5JJoTZkoeUE6evQofvjDH+Khhx7ChAkTin7mxIkTAIpn6FZUVBTKi7F8+XJUVVUVXnV1daWaSAghxENKXpAefPBBVFdXD/i7UV8qKysBFE+I6unpKZQXY9myZejs7Cy8WltbSzWREEKIh5Qkanjvvffw7LPP4plnnun3s1tPTw8++ugjfPDBBxg3blzhp7r8T3d9aW9vx+TJkwftI5fLlbb3kSCS8lQJ2bdWOW1oNqUlJPlvHK7GVeM8tYmTFFpTJkqSfb/xxhv48pe/HPmZe+65B//v//0/jB8/HkuWLMGPfvSjQtnJkydRU1ODhQsX4uc//3miPl3v9q1RCu3CXle+arTJhtBUdlFkaU5IycklKVfKhNhu3w0NDXjllVcGvP/ggw/i+PHjWLlyJaZNm4aqqio0NjbihRdewEMPPYQzzjgDAPCLX/wC3d3dWLBgQSndOsU3uaYkUrHQGOMoNN5AXCFlU2hzTeMXTCmc7/Z9uuzbGGPeffddk8vlzEUXXWRWr15tHnjgAVNRUWHmzp1bUtsuZd9xaJOYapSuSkpisxQnjbLwckqHk/SZpFyiXR/naTltUrHb98yZM7F582ZUVlZiyZIlePbZZ/Gtb30LL730klSXZUebxFSjdFVSEpulOGmUhbuQDkvFKWtS9HLaVMpu30NyQN8bb7xR9P3LL78cb7311lB0QQghJHB4/AQhhBAVeHWEuTY0Skw1Slel2s1SnFzJg6NwIR22nRNS7fo2T8tpU9l2+y4HrmXfcWiTmGqUrkpKYrMUJ99UdhrnhFS7Ps7TctlUym7fXJAIIYSIIZaHpBmN31pDajeO0L7l2SD1Dd1F3Sw9jdjYrDH+Wu4xZc9DkiRJHpLG3JCQ2tUYQ8k42SCVB+OibpZyfiTj5CL+mu4xKvKQyonG3JCQ2o0jtFwKG9K2LRV/m7o28bexN7Q5LtWuxmunWHkpeUhBLEiEEEL8hwsSIYQQFQQharDJ0fBFy++6XY0xdJEHE4dUHoyrujbxT9unqzlhY7PG+Gu5x2QyD8k3lYtv7cYRmlLIBqrsqLLTEH8t95hS8pCCeEIiQ4PN1vwaj5DQaFMUkvZG3USk+tWYyGuDb/PJS2J1eI6h7Ls87UrhSrpqY5OkvxL4Js/WKGeWjH/auhrjRNl3AnyTXWpsVwpX0lUbm2zwLcZS7fomZ7bBt/uPTV3KvgkhhGQCLkiEEEJUEMSClJca9qVU2WWxunHtpq2rsV0ppHxN0nZam2zwLcZS7bqY/7Z10+Lb/cembpp2S9nLjrLvmLpapJPlaFcKV9JVG5ts8C3GUu36Jme2wbf7j01dyr4tkbxB+CYFtbHXxYXuKr42/riQUcf1GVWuUZ7tYtw1jnnmSK11LBO2sm8fdwf2bRdrV1J0F3JmV7iQLGucpxpt8i3+knGi7Bs6ZaIaJZk2aJSiu5Azu8KFZFnjPNVokw2UffcniAWJEEKI/3BBIoQQooIgRA15qWHfR8W+UsSoMpu6Gm1Ka6+kPza+2tiUtp6NTVJI2eTbPLUdOxfXjo0/Ur6W83rmbt/QIRPVKMm0QaMU3YWc2RUuJMsa56lGm2yg7PtPBLMgEUII0Ucp9/AgfrLLGhqfRkJ7kvTtCUmjva7wLRa+Xc+i8ZVR1w8dSfKQsoTGnJ/Q8rV8y0PSaK8rfIuFb9dzmj5LuYdTZecZGnN+QsvX8i0PSaO9rvAtFr5dz9Lx5YJECCFEBVyQCCGEqICiBs+QzD2Q6teVPy7iJIVU/END49hF4eP1LBlfyr49xDdVjit/qLLTqyyTxLdY+HY9l9pnsLLvLN18orDZ6t5V3bTtatzW37f5kjU0zhkpNB4rUiwxNjFJ5YmuyEsGm5ubMyPxTYvGLfRd9avxSBIXvhLdhHZMR2aOnzh69GhmJL5pceWLxn5dyMkl0WgTscdFOoVNv2na5fEThBBCvIMLEiGEEBV4I2qoqanJjMQ3La580dqvCzm5FBptIva4Sqco57UT7PETHR0dVNnFoEVZo6FfjUeS2KDRJmJPaMd08PgJQgghKmEeUgllScqzgo9x0PiEJHVooFRd4i+h/QrAPCTmcBhj/IyDxjyktHGUzDkhYeJLrl2Qx08wD0kWH+OgMQ8pbRwlc05ImISWawdQ9k0IIUQJXJAIIYSowBtRA/OQZPExDhrzkNLGUfIoARImkvPU1XzySvbNPCRZfIwDVXb2dYm/+KCyC1b2LYXUdvUubhKhLb429toca6HxSAyNZ1n5hkZfOTZ9SKXjKyPSsm8pXPSrSerp2h+tNqet54vEVzMafdWYnkDZdwKkZN9SuOjXV6nnYPgo2ZeSfYco8S03Gn3VmJ5A2TchhJDMwwWJEEKICrxZkPKy777kpYh5CWOpZZK46DeuT41xisLGH1ektUly7Hwbdyk0+upqXLXOCcq+BfFNZadR0eOjalBK9u2DxFc7Gn3VmJ5A2XeAhCQnlyTKH1cSaxt8tHkwNOZG+daudNtp0ZjaQNm3Z/gi9RwKfyTrakOjxFfj2EjZJDmXNO5KX04o+05Y5iOhST25y/WnaJT4ahwbKZsk55JU/DVez7Z4syARQggJGy5IhBBCVOCNqEFqt2/fCG2HX+5y/Slxvrgad21jIzlfpOaSVPw1Xs+2qJd9d3Z24swzz0Rrays6Oztx9OjRQllNTQ3q6uoAAK2tranKfMTGV41xsuk3pLGVHLu0dTWOjZRNknNJKv4ar+fT6erqQl1dHTo6OlBVVRX5WfVPSMePHwcAb28yhBBCPr2Xxy1I6p+QPvnkExw8eBBnnHEGhg0bVlhtW1tbY5OssgpjlAzGKRmMUzIYp+IYY3D8+HFMnjwZw4dHyxbUPyENHz4cU6ZMGfD+uHHjOOgxMEbJYJySwTglg3EaSNyTUR6q7AghhKiACxIhhBAVeLcg5XI5PPzww8jlcq5NUQtjlAzGKRmMUzIYJ3vUixoIIYRkA++ekAghhIQJFyRCCCEq4IJECCFEBVyQCCGEqIALEiGEEBVwQSKEEKICLkiEEEJUwAWJEEKICv4/pu1a6w2nRHsAAAAASUVORK5CYII=",
          "text/plain": "<Figure size 640x480 with 1 Axes>"
         },
         "metadata": {},
         "output_type": "display_data"
        }
       ]
      }
     },
     "7c443fd0b1354a91a9a6030ad2c65c5e": {
      "model_module": "@jupyter-widgets/controls",
      "model_module_version": "2.0.0",
      "model_name": "SliderStyleModel",
      "state": {
       "description_width": ""
      }
     },
     "7e2a6d906afe4f94adb64aa9e5f8622f": {
      "model_module": "@jupyter-widgets/controls",
      "model_module_version": "2.0.0",
      "model_name": "VBoxModel",
      "state": {
       "_dom_classes": [
        "widget-interact"
       ],
       "children": [
        "IPY_MODEL_40cfb932f8c640689e6b5d7495470061",
        "IPY_MODEL_f6f9caaee9394845ae9c6dc374dbece1"
       ],
       "layout": "IPY_MODEL_477d63817b544d3aa2f1a0bc44b2e9aa"
      }
     },
     "7f456697276b460887ae5582a90f6f0f": {
      "model_module": "@jupyter-widgets/base",
      "model_module_version": "2.0.0",
      "model_name": "LayoutModel",
      "state": {}
     },
     "7f598851bd2f4121939ad4cad06f44c0": {
      "model_module": "@jupyter-widgets/base",
      "model_module_version": "2.0.0",
      "model_name": "LayoutModel",
      "state": {}
     },
     "7fb7e101f4624a41a8e9be8bd981b7d0": {
      "model_module": "@jupyter-widgets/base",
      "model_module_version": "2.0.0",
      "model_name": "LayoutModel",
      "state": {}
     },
     "800d2376194144e5a775123cfbe59d27": {
      "model_module": "@jupyter-widgets/base",
      "model_module_version": "2.0.0",
      "model_name": "LayoutModel",
      "state": {}
     },
     "803572893299405a8c56ecadad050462": {
      "model_module": "@jupyter-widgets/controls",
      "model_module_version": "2.0.0",
      "model_name": "SliderStyleModel",
      "state": {
       "description_width": ""
      }
     },
     "809f7348dbd8492cbb8ebefb5c492c3a": {
      "model_module": "@jupyter-widgets/controls",
      "model_module_version": "2.0.0",
      "model_name": "IntSliderModel",
      "state": {
       "behavior": "drag-tap",
       "description": "n",
       "layout": "IPY_MODEL_a5c7ba8203e2420aa5e71afa44c9ed36",
       "max": 430263,
       "min": 1,
       "style": "IPY_MODEL_633b63355dd0406bbf4ca5c7dc3d6af0",
       "value": 371275
      }
     },
     "81ee2a0720ae49fd88c4d887af83146a": {
      "model_module": "@jupyter-widgets/base",
      "model_module_version": "2.0.0",
      "model_name": "LayoutModel",
      "state": {}
     },
     "822d02b5abf545f0900438ee68bb6cfc": {
      "model_module": "@jupyter-widgets/base",
      "model_module_version": "2.0.0",
      "model_name": "LayoutModel",
      "state": {}
     },
     "825b4bf1589d4fa9823a81608c181b4a": {
      "model_module": "@jupyter-widgets/controls",
      "model_module_version": "2.0.0",
      "model_name": "HTMLStyleModel",
      "state": {
       "description_width": "",
       "font_size": null,
       "text_color": null
      }
     },
     "82e646f55b404221bb54fce2eeb13cd4": {
      "model_module": "@jupyter-widgets/base",
      "model_module_version": "2.0.0",
      "model_name": "LayoutModel",
      "state": {}
     },
     "832f6c70f3244045ae658d4b2dffd15b": {
      "model_module": "@jupyter-widgets/controls",
      "model_module_version": "2.0.0",
      "model_name": "HTMLStyleModel",
      "state": {
       "description_width": "",
       "font_size": null,
       "text_color": null
      }
     },
     "863e0a1aa6b64f16a41c7bb5b15c41c5": {
      "model_module": "@jupyter-widgets/controls",
      "model_module_version": "2.0.0",
      "model_name": "SliderStyleModel",
      "state": {
       "description_width": ""
      }
     },
     "86758c33511f4dcd9da968a8d7303807": {
      "model_module": "@jupyter-widgets/controls",
      "model_module_version": "2.0.0",
      "model_name": "VBoxModel",
      "state": {
       "_dom_classes": [
        "widget-interact"
       ],
       "children": [
        "IPY_MODEL_6985d0ae6ac842b6b65a16d9e4d3ce6f",
        "IPY_MODEL_35b39cde3bd344bf8693bcda35830ffa"
       ],
       "layout": "IPY_MODEL_bb4df2e9e9ab4cf9b855ef4abcaeff33"
      }
     },
     "87756757ed2a4ac8b1e6b8107fd0c348": {
      "model_module": "@jupyter-widgets/controls",
      "model_module_version": "2.0.0",
      "model_name": "HBoxModel",
      "state": {
       "children": [
        "IPY_MODEL_22479fab35c64e949f71f7965cda7e77",
        "IPY_MODEL_fe69d83530ec4cbfa21a09c39f02e561",
        "IPY_MODEL_2669822d81b245cb8c5e619648fe8c64"
       ],
       "layout": "IPY_MODEL_f0de7f300f45479e9e195a320e06b474"
      }
     },
     "87d5ad5c6d4046bb870ff9b3d81ee7f5": {
      "model_module": "@jupyter-widgets/controls",
      "model_module_version": "2.0.0",
      "model_name": "VBoxModel",
      "state": {
       "_dom_classes": [
        "widget-interact"
       ],
       "children": [
        "IPY_MODEL_bf42ba716502416781e1577b6251b71f",
        "IPY_MODEL_2016127bdb1443a89b6e0d75a0be11dc"
       ],
       "layout": "IPY_MODEL_d053c3e4875b47069b5ca166d572ffe8"
      }
     },
     "898dc0fa82cf4066a22fd4be5b0bf6e8": {
      "model_module": "@jupyter-widgets/controls",
      "model_module_version": "2.0.0",
      "model_name": "DropdownModel",
      "state": {
       "_options_labels": [
        "10",
        "20",
        "30",
        "40",
        "50"
       ],
       "description": "n",
       "index": 4,
       "layout": "IPY_MODEL_af326d803069488f8711664b9b5b215e",
       "style": "IPY_MODEL_9af42c5b68954084a38bf98db44f4a27"
      }
     },
     "8bc78150148c4359a8d3db4b7da8a850": {
      "model_module": "@jupyter-widgets/base",
      "model_module_version": "2.0.0",
      "model_name": "LayoutModel",
      "state": {}
     },
     "8c24ae8b0ff543dba6dddfae05cff252": {
      "model_module": "@jupyter-widgets/base",
      "model_module_version": "2.0.0",
      "model_name": "LayoutModel",
      "state": {}
     },
     "8c3f63275c4c4e4cb4284b7045e69eac": {
      "model_module": "@jupyter-widgets/base",
      "model_module_version": "2.0.0",
      "model_name": "LayoutModel",
      "state": {}
     },
     "8dfdac7667c148ba80c1917ff1165e9f": {
      "model_module": "@jupyter-widgets/controls",
      "model_module_version": "2.0.0",
      "model_name": "VBoxModel",
      "state": {
       "_dom_classes": [
        "widget-interact"
       ],
       "children": [
        "IPY_MODEL_16c823a92ce54e468f0f354a8f99ef19",
        "IPY_MODEL_0a1115262b5346ee81a9f924ed6ca81e"
       ],
       "layout": "IPY_MODEL_045d22261e0c41b686399b22426bc865"
      }
     },
     "8ed21cdcfe6c4783b8129d8f9d3d8a76": {
      "model_module": "@jupyter-widgets/base",
      "model_module_version": "2.0.0",
      "model_name": "LayoutModel",
      "state": {}
     },
     "8eff54d16e724712ba3e396195ffd29c": {
      "model_module": "@jupyter-widgets/base",
      "model_module_version": "2.0.0",
      "model_name": "LayoutModel",
      "state": {}
     },
     "8f739b7324b04d4b974b443acf990ba5": {
      "model_module": "@jupyter-widgets/controls",
      "model_module_version": "2.0.0",
      "model_name": "SliderStyleModel",
      "state": {
       "description_width": ""
      }
     },
     "901b043173844fca9896c820206ee12b": {
      "model_module": "@jupyter-widgets/output",
      "model_module_version": "1.0.0",
      "model_name": "OutputModel",
      "state": {
       "layout": "IPY_MODEL_1f602ef3991b4383ab80084e5aafdd32",
       "outputs": [
        {
         "ename": "ValueError",
         "evalue": "not enough values to unpack (expected 2, got 0)",
         "output_type": "error",
         "traceback": [
          "\u001b[0;31m---------------------------------------------------------------------------\u001b[0m",
          "\u001b[0;31mValueError\u001b[0m                                Traceback (most recent call last)",
          "File \u001b[0;32m~/.local/lib/python3.10/site-packages/ipywidgets/widgets/interaction.py:239\u001b[0m, in \u001b[0;36minteractive.update\u001b[0;34m(self, *args)\u001b[0m\n\u001b[1;32m    237\u001b[0m     value \u001b[38;5;241m=\u001b[39m widget\u001b[38;5;241m.\u001b[39mget_interact_value()\n\u001b[1;32m    238\u001b[0m     \u001b[38;5;28mself\u001b[39m\u001b[38;5;241m.\u001b[39mkwargs[widget\u001b[38;5;241m.\u001b[39m_kwarg] \u001b[38;5;241m=\u001b[39m value\n\u001b[0;32m--> 239\u001b[0m \u001b[38;5;28mself\u001b[39m\u001b[38;5;241m.\u001b[39mresult \u001b[38;5;241m=\u001b[39m \u001b[38;5;28;43mself\u001b[39;49m\u001b[38;5;241;43m.\u001b[39;49m\u001b[43mf\u001b[49m\u001b[43m(\u001b[49m\u001b[38;5;241;43m*\u001b[39;49m\u001b[38;5;241;43m*\u001b[39;49m\u001b[38;5;28;43mself\u001b[39;49m\u001b[38;5;241;43m.\u001b[39;49m\u001b[43mkwargs\u001b[49m\u001b[43m)\u001b[49m\n\u001b[1;32m    240\u001b[0m show_inline_matplotlib_plots()\n\u001b[1;32m    241\u001b[0m \u001b[38;5;28;01mif\u001b[39;00m \u001b[38;5;28mself\u001b[39m\u001b[38;5;241m.\u001b[39mauto_display \u001b[38;5;129;01mand\u001b[39;00m \u001b[38;5;28mself\u001b[39m\u001b[38;5;241m.\u001b[39mresult \u001b[38;5;129;01mis\u001b[39;00m \u001b[38;5;129;01mnot\u001b[39;00m \u001b[38;5;28;01mNone\u001b[39;00m:\n",
          "Cell \u001b[0;32mIn[173], line 6\u001b[0m, in \u001b[0;36mplot_state\u001b[0;34m(n)\u001b[0m\n\u001b[1;32m      4\u001b[0m counts \u001b[38;5;241m=\u001b[39m Counter(history[:n])\n\u001b[1;32m      5\u001b[0m flip \u001b[38;5;241m=\u001b[39m [ij \u001b[38;5;28;01mfor\u001b[39;00m ij, occur \u001b[38;5;129;01min\u001b[39;00m counts\u001b[38;5;241m.\u001b[39mitems() \u001b[38;5;28;01mif\u001b[39;00m occur \u001b[38;5;241m%\u001b[39m \u001b[38;5;241m2\u001b[39m]\n\u001b[0;32m----> 6\u001b[0m rows, cols \u001b[38;5;241m=\u001b[39m \u001b[38;5;28mzip\u001b[39m(\u001b[38;5;241m*\u001b[39mflip)\n\u001b[1;32m      7\u001b[0m S0[rows, cols] \u001b[38;5;241m*\u001b[39m\u001b[38;5;241m=\u001b[39m \u001b[38;5;241m-\u001b[39m\u001b[38;5;241m1\u001b[39m\n\u001b[1;32m      8\u001b[0m plt\u001b[38;5;241m.\u001b[39mspy(S0 \u001b[38;5;241m+\u001b[39m \u001b[38;5;241m1\u001b[39m)\n",
          "\u001b[0;31mValueError\u001b[0m: not enough values to unpack (expected 2, got 0)"
         ]
        }
       ]
      }
     },
     "91ec7b33c6ca4a7a947fa388eb7a2abe": {
      "model_module": "@jupyter-widgets/controls",
      "model_module_version": "2.0.0",
      "model_name": "SliderStyleModel",
      "state": {
       "description_width": ""
      }
     },
     "927c21ea018f46a2bf490edc45c8a808": {
      "model_module": "@jupyter-widgets/controls",
      "model_module_version": "2.0.0",
      "model_name": "HBoxModel",
      "state": {
       "children": [
        "IPY_MODEL_e6d7abcca97a45e8b9ec69129fe58dd6",
        "IPY_MODEL_0306a2158e9c48bc8f632df3e1f45d8e",
        "IPY_MODEL_24d58e029b4e42eb9216fcbb786cc5b8"
       ],
       "layout": "IPY_MODEL_936b33a99d1b4a39b3edd74c2fc0434c"
      }
     },
     "936b33a99d1b4a39b3edd74c2fc0434c": {
      "model_module": "@jupyter-widgets/base",
      "model_module_version": "2.0.0",
      "model_name": "LayoutModel",
      "state": {}
     },
     "93fcfc38d10c4dbe862733ebcfa9c6c2": {
      "model_module": "@jupyter-widgets/base",
      "model_module_version": "2.0.0",
      "model_name": "LayoutModel",
      "state": {}
     },
     "968888a5ba144acd81ae238e33a0baf9": {
      "model_module": "@jupyter-widgets/base",
      "model_module_version": "2.0.0",
      "model_name": "LayoutModel",
      "state": {}
     },
     "968e11a0e7bb4b16a5dc06e7318092de": {
      "model_module": "@jupyter-widgets/controls",
      "model_module_version": "2.0.0",
      "model_name": "ProgressStyleModel",
      "state": {
       "description_width": ""
      }
     },
     "96a1cbeeeb6b4bdc8411cc33ea4b67de": {
      "model_module": "@jupyter-widgets/controls",
      "model_module_version": "2.0.0",
      "model_name": "IntSliderModel",
      "state": {
       "behavior": "drag-tap",
       "description": "n",
       "layout": "IPY_MODEL_ff4e9c1c037e4ff6aa815937c8d7bf3e",
       "max": 430263,
       "min": 1,
       "style": "IPY_MODEL_6432dd6080f54e978b3871095aef95a8",
       "value": 430263
      }
     },
     "96d7c98d61954463beaf39c914e224b6": {
      "model_module": "@jupyter-widgets/controls",
      "model_module_version": "2.0.0",
      "model_name": "HTMLStyleModel",
      "state": {
       "description_width": "",
       "font_size": null,
       "text_color": null
      }
     },
     "975a648e22be41b29b78461854e4698f": {
      "model_module": "@jupyter-widgets/controls",
      "model_module_version": "2.0.0",
      "model_name": "IntSliderModel",
      "state": {
       "behavior": "drag-tap",
       "description": "n",
       "layout": "IPY_MODEL_2e72fa1378c1426286bc3c65b8730008",
       "max": 247965,
       "min": 1,
       "style": "IPY_MODEL_91ec7b33c6ca4a7a947fa388eb7a2abe",
       "value": 129982
      }
     },
     "977cdba416fc41a38fc5662efc2ff91b": {
      "model_module": "@jupyter-widgets/controls",
      "model_module_version": "2.0.0",
      "model_name": "DropdownModel",
      "state": {
       "_options_labels": [
        "1",
        "2",
        "3",
        "4"
       ],
       "description": "n",
       "index": 2,
       "layout": "IPY_MODEL_9eae45e3c6d041e3bf3dcc439a856cb9",
       "style": "IPY_MODEL_5d953a612494496383f372e5dc80037b"
      }
     },
     "9801bcefaf1a4615a6b925b5bbd1b14c": {
      "model_module": "@jupyter-widgets/base",
      "model_module_version": "2.0.0",
      "model_name": "LayoutModel",
      "state": {}
     },
     "99ae5e15e70345cb90fd23f9656f1cd4": {
      "model_module": "@jupyter-widgets/controls",
      "model_module_version": "2.0.0",
      "model_name": "VBoxModel",
      "state": {
       "_dom_classes": [
        "widget-interact"
       ],
       "children": [
        "IPY_MODEL_9b959f1b08e64bbb9998c3bd919ed638",
        "IPY_MODEL_0734351708e343a0a346feff3221ee82"
       ],
       "layout": "IPY_MODEL_2e5d708153bf4cc3bf02c05f02970b0b"
      }
     },
     "9a4aa659af2648dd95fbebec39b169fc": {
      "model_module": "@jupyter-widgets/base",
      "model_module_version": "2.0.0",
      "model_name": "LayoutModel",
      "state": {}
     },
     "9af42c5b68954084a38bf98db44f4a27": {
      "model_module": "@jupyter-widgets/controls",
      "model_module_version": "2.0.0",
      "model_name": "DescriptionStyleModel",
      "state": {
       "description_width": ""
      }
     },
     "9b959f1b08e64bbb9998c3bd919ed638": {
      "model_module": "@jupyter-widgets/controls",
      "model_module_version": "2.0.0",
      "model_name": "IntSliderModel",
      "state": {
       "behavior": "drag-tap",
       "description": "n",
       "layout": "IPY_MODEL_088e3b4d2f23490796fc383cd4380172",
       "max": 245072,
       "min": 1,
       "style": "IPY_MODEL_552e11c51897495880acdfba74f52834",
       "value": 203568
      }
     },
     "9eae45e3c6d041e3bf3dcc439a856cb9": {
      "model_module": "@jupyter-widgets/base",
      "model_module_version": "2.0.0",
      "model_name": "LayoutModel",
      "state": {}
     },
     "9fb910109c544c768fe72a906edf5aaa": {
      "model_module": "@jupyter-widgets/controls",
      "model_module_version": "2.0.0",
      "model_name": "HTMLStyleModel",
      "state": {
       "description_width": "",
       "font_size": null,
       "text_color": null
      }
     },
     "a11dd8ec553242458fc10bfb590a2ba4": {
      "model_module": "@jupyter-widgets/base",
      "model_module_version": "2.0.0",
      "model_name": "LayoutModel",
      "state": {}
     },
     "a25df4f3de784da9b268cbbea1f6914a": {
      "model_module": "@jupyter-widgets/base",
      "model_module_version": "2.0.0",
      "model_name": "LayoutModel",
      "state": {}
     },
     "a2d400ee6cb044ae965e1d306cbc02aa": {
      "model_module": "@jupyter-widgets/base",
      "model_module_version": "2.0.0",
      "model_name": "LayoutModel",
      "state": {}
     },
     "a327848789c24034bbf1317ae222761d": {
      "model_module": "@jupyter-widgets/base",
      "model_module_version": "2.0.0",
      "model_name": "LayoutModel",
      "state": {}
     },
     "a460e88851bb4a679ff5897b93cbad93": {
      "model_module": "@jupyter-widgets/controls",
      "model_module_version": "2.0.0",
      "model_name": "SliderStyleModel",
      "state": {
       "description_width": ""
      }
     },
     "a4c028fedf274734b3ad954f0181e905": {
      "model_module": "@jupyter-widgets/controls",
      "model_module_version": "2.0.0",
      "model_name": "VBoxModel",
      "state": {
       "_dom_classes": [
        "widget-interact"
       ],
       "children": [
        "IPY_MODEL_4654882083dd496c859cef26ff98d394",
        "IPY_MODEL_f9c14975eaf0459db1c87b15eb8ff0c3"
       ],
       "layout": "IPY_MODEL_41f9baf71c0143acb6e39f38fc907405"
      }
     },
     "a502d5d16f7545c8b403aaecb480eb93": {
      "model_module": "@jupyter-widgets/base",
      "model_module_version": "2.0.0",
      "model_name": "LayoutModel",
      "state": {}
     },
     "a5c7ba8203e2420aa5e71afa44c9ed36": {
      "model_module": "@jupyter-widgets/base",
      "model_module_version": "2.0.0",
      "model_name": "LayoutModel",
      "state": {}
     },
     "a666ce8110c8479f9e8bb03d04a917f6": {
      "model_module": "@jupyter-widgets/base",
      "model_module_version": "2.0.0",
      "model_name": "LayoutModel",
      "state": {}
     },
     "a6e1739fa3bc4e66924e7f0d33339bbf": {
      "model_module": "@jupyter-widgets/base",
      "model_module_version": "2.0.0",
      "model_name": "LayoutModel",
      "state": {}
     },
     "a6fceacebc6344feb7bb3fe177030851": {
      "model_module": "@jupyter-widgets/controls",
      "model_module_version": "2.0.0",
      "model_name": "VBoxModel",
      "state": {
       "_dom_classes": [
        "widget-interact"
       ],
       "children": [
        "IPY_MODEL_dc6f2c05f83d4157a85c94e7ba1d798f",
        "IPY_MODEL_d1490eff5bf14f619379d2570f0c85d6"
       ],
       "layout": "IPY_MODEL_beb193062c054e6bb363d888c900ae93"
      }
     },
     "a8119cd98a564f0982ad42537e17cb6b": {
      "model_module": "@jupyter-widgets/base",
      "model_module_version": "2.0.0",
      "model_name": "LayoutModel",
      "state": {}
     },
     "a8b801a34a94472384df911ad996fb00": {
      "model_module": "@jupyter-widgets/base",
      "model_module_version": "2.0.0",
      "model_name": "LayoutModel",
      "state": {}
     },
     "aab7998c991249359804ab34e46c0fc9": {
      "model_module": "@jupyter-widgets/controls",
      "model_module_version": "2.0.0",
      "model_name": "HBoxModel",
      "state": {
       "children": [
        "IPY_MODEL_3bfd02bb0f824d3cab21e322f943ea99",
        "IPY_MODEL_24824bcc409d413e84130261414a9352",
        "IPY_MODEL_2eb197a2a0144c3ba941fccda9c7bc14"
       ],
       "layout": "IPY_MODEL_6f044b1d896e42e29301b4562483b227"
      }
     },
     "ad2c6f1fae1b42a5ab54e101643c7061": {
      "model_module": "@jupyter-widgets/output",
      "model_module_version": "1.0.0",
      "model_name": "OutputModel",
      "state": {
       "layout": "IPY_MODEL_0c271145de0542f9be50e184ada887d3",
       "outputs": [
        {
         "data": {
          "image/png": "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",
          "text/plain": "<Figure size 640x480 with 1 Axes>"
         },
         "metadata": {},
         "output_type": "display_data"
        }
       ]
      }
     },
     "ad430393784f4acba6981d967a2250f7": {
      "model_module": "@jupyter-widgets/controls",
      "model_module_version": "2.0.0",
      "model_name": "SliderStyleModel",
      "state": {
       "description_width": ""
      }
     },
     "adad997e82c649439541526f69826656": {
      "model_module": "@jupyter-widgets/output",
      "model_module_version": "1.0.0",
      "model_name": "OutputModel",
      "state": {
       "layout": "IPY_MODEL_59579628e3f9491897bd4bb66aff3fad",
       "outputs": [
        {
         "data": {
          "image/png": "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",
          "text/plain": "<Figure size 640x480 with 1 Axes>"
         },
         "metadata": {},
         "output_type": "display_data"
        }
       ]
      }
     },
     "ae3e830115574bfba4bd24c072437870": {
      "model_module": "@jupyter-widgets/controls",
      "model_module_version": "2.0.0",
      "model_name": "VBoxModel",
      "state": {
       "_dom_classes": [
        "widget-interact"
       ],
       "children": [
        "IPY_MODEL_975a648e22be41b29b78461854e4698f",
        "IPY_MODEL_06e1deeb3b504628bf7b3ba7e603818b"
       ],
       "layout": "IPY_MODEL_792600966c564490b7bafc1c3f5736d5"
      }
     },
     "af326d803069488f8711664b9b5b215e": {
      "model_module": "@jupyter-widgets/base",
      "model_module_version": "2.0.0",
      "model_name": "LayoutModel",
      "state": {}
     },
     "afcf597eb23c4a69a373bfd72ab4357d": {
      "model_module": "@jupyter-widgets/controls",
      "model_module_version": "2.0.0",
      "model_name": "DescriptionStyleModel",
      "state": {
       "description_width": ""
      }
     },
     "b08cf36f07f445da86732ba1a5d9a9c4": {
      "model_module": "@jupyter-widgets/controls",
      "model_module_version": "2.0.0",
      "model_name": "FloatProgressModel",
      "state": {
       "bar_style": "success",
       "layout": "IPY_MODEL_7fb7e101f4624a41a8e9be8bd981b7d0",
       "max": 10,
       "style": "IPY_MODEL_e677fd5b793045dc9166d5bc3fbe143c",
       "value": 10
      }
     },
     "b0c3bf7f334648a592a7aad1db84878e": {
      "model_module": "@jupyter-widgets/base",
      "model_module_version": "2.0.0",
      "model_name": "LayoutModel",
      "state": {}
     },
     "b141f5707683415cb48dcd1ac6df5996": {
      "model_module": "@jupyter-widgets/controls",
      "model_module_version": "2.0.0",
      "model_name": "HBoxModel",
      "state": {
       "children": [
        "IPY_MODEL_d4e6a4982e5142ea8abf118d8f522098",
        "IPY_MODEL_6405070c1c1743d6be71ac81abedcd04",
        "IPY_MODEL_45a741ccb6d7457aa4db6b4de41c8389"
       ],
       "layout": "IPY_MODEL_eda6c3b769ce40649625bd2fdc06953f"
      }
     },
     "b202f56ef97b4293a5ab745613eaa831": {
      "model_module": "@jupyter-widgets/controls",
      "model_module_version": "2.0.0",
      "model_name": "VBoxModel",
      "state": {
       "_dom_classes": [
        "widget-interact"
       ],
       "children": [
        "IPY_MODEL_c72570b06a5f44558b8dcbc2b59b2c2a",
        "IPY_MODEL_f4339cdb0aba403695446f0e01119734"
       ],
       "layout": "IPY_MODEL_147bd06efca748689466c77d84321fda"
      }
     },
     "b5013216875c4490b41e6f08cba47c35": {
      "model_module": "@jupyter-widgets/controls",
      "model_module_version": "2.0.0",
      "model_name": "ProgressStyleModel",
      "state": {
       "description_width": ""
      }
     },
     "b67b909f50e64c71857f24092095617e": {
      "model_module": "@jupyter-widgets/controls",
      "model_module_version": "2.0.0",
      "model_name": "DescriptionStyleModel",
      "state": {
       "description_width": ""
      }
     },
     "b71f6fc1687740dd97e56340853266f9": {
      "model_module": "@jupyter-widgets/controls",
      "model_module_version": "2.0.0",
      "model_name": "HTMLModel",
      "state": {
       "layout": "IPY_MODEL_7178cf8603854b4e8581d56c15743808",
       "style": "IPY_MODEL_96d7c98d61954463beaf39c914e224b6",
       "value": "100%"
      }
     },
     "b83f925751634377a5e66b48d3a2f75f": {
      "model_module": "@jupyter-widgets/base",
      "model_module_version": "2.0.0",
      "model_name": "LayoutModel",
      "state": {}
     },
     "ba1b51baed82484c92f25ef4cd48dac6": {
      "model_module": "@jupyter-widgets/controls",
      "model_module_version": "2.0.0",
      "model_name": "VBoxModel",
      "state": {
       "_dom_classes": [
        "widget-interact"
       ],
       "children": [
        "IPY_MODEL_977cdba416fc41a38fc5662efc2ff91b",
        "IPY_MODEL_497593e1eac147e2b39f47850bffe02d"
       ],
       "layout": "IPY_MODEL_2492e38cd6a8482780d222aa70b3590e"
      }
     },
     "bb4df2e9e9ab4cf9b855ef4abcaeff33": {
      "model_module": "@jupyter-widgets/base",
      "model_module_version": "2.0.0",
      "model_name": "LayoutModel",
      "state": {}
     },
     "bcde4b0668674305b254a30a49e1034b": {
      "model_module": "@jupyter-widgets/base",
      "model_module_version": "2.0.0",
      "model_name": "LayoutModel",
      "state": {}
     },
     "bd65d0231df444db87071825554a2801": {
      "model_module": "@jupyter-widgets/base",
      "model_module_version": "2.0.0",
      "model_name": "LayoutModel",
      "state": {}
     },
     "beb193062c054e6bb363d888c900ae93": {
      "model_module": "@jupyter-widgets/base",
      "model_module_version": "2.0.0",
      "model_name": "LayoutModel",
      "state": {}
     },
     "bf42ba716502416781e1577b6251b71f": {
      "model_module": "@jupyter-widgets/controls",
      "model_module_version": "2.0.0",
      "model_name": "IntSliderModel",
      "state": {
       "behavior": "drag-tap",
       "description": "n",
       "layout": "IPY_MODEL_bcde4b0668674305b254a30a49e1034b",
       "max": 430263,
       "min": 1,
       "style": "IPY_MODEL_8f739b7324b04d4b974b443acf990ba5",
       "value": 62458
      }
     },
     "c15a1417061348cfb5b35ee3448ae910": {
      "model_module": "@jupyter-widgets/base",
      "model_module_version": "2.0.0",
      "model_name": "LayoutModel",
      "state": {}
     },
     "c37c149dd018467a854a9ea60d86bce5": {
      "model_module": "@jupyter-widgets/output",
      "model_module_version": "1.0.0",
      "model_name": "OutputModel",
      "state": {
       "layout": "IPY_MODEL_10757f3a022549e7a307f1f50db8ced1",
       "outputs": [
        {
         "data": {
          "image/png": "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",
          "text/plain": "<Figure size 640x480 with 1 Axes>"
         },
         "metadata": {},
         "output_type": "display_data"
        }
       ]
      }
     },
     "c3c10ae6864d499f892d16e6bd5177f5": {
      "model_module": "@jupyter-widgets/base",
      "model_module_version": "2.0.0",
      "model_name": "LayoutModel",
      "state": {}
     },
     "c5657277031b408183f9ae734315d53c": {
      "model_module": "@jupyter-widgets/base",
      "model_module_version": "2.0.0",
      "model_name": "LayoutModel",
      "state": {}
     },
     "c72570b06a5f44558b8dcbc2b59b2c2a": {
      "model_module": "@jupyter-widgets/controls",
      "model_module_version": "2.0.0",
      "model_name": "IntSliderModel",
      "state": {
       "behavior": "drag-tap",
       "description": "n",
       "layout": "IPY_MODEL_5a32fc4d14804c619829c0ffcaaaa59a",
       "max": 245072,
       "min": 1,
       "style": "IPY_MODEL_5f7480e7a98b4a3792c26bf33b516809",
       "value": 122536
      }
     },
     "cb6806712aeb4f3aba1960391e715fa3": {
      "model_module": "@jupyter-widgets/controls",
      "model_module_version": "2.0.0",
      "model_name": "HTMLStyleModel",
      "state": {
       "description_width": "",
       "font_size": null,
       "text_color": null
      }
     },
     "cbb4a45597744dc7929235b3d2dd47dc": {
      "model_module": "@jupyter-widgets/controls",
      "model_module_version": "2.0.0",
      "model_name": "HTMLStyleModel",
      "state": {
       "description_width": "",
       "font_size": null,
       "text_color": null
      }
     },
     "cccb11db4bb34d548cd3f8ad2c7c10f7": {
      "model_module": "@jupyter-widgets/controls",
      "model_module_version": "2.0.0",
      "model_name": "SliderStyleModel",
      "state": {
       "description_width": ""
      }
     },
     "d053c3e4875b47069b5ca166d572ffe8": {
      "model_module": "@jupyter-widgets/base",
      "model_module_version": "2.0.0",
      "model_name": "LayoutModel",
      "state": {}
     },
     "d1490eff5bf14f619379d2570f0c85d6": {
      "model_module": "@jupyter-widgets/output",
      "model_module_version": "1.0.0",
      "model_name": "OutputModel",
      "state": {
       "layout": "IPY_MODEL_48e24d591c3a4e17af38624d05eedfb2",
       "outputs": [
        {
         "name": "stdout",
         "output_type": "stream",
         "text": "Counter({(0, 49): 123, (47, 34): 115, (49, 0): 113, (49, 49): 112, (37, 27): 111, (0, 0): 108, (49, 37): 108, (48, 0): 98, (49, 17): 94, (7, 49): 94, (0, 6): 92, (0, 8): 89, (49, 18): 88, (0, 43): 88, (0, 41): 88, (22, 7): 88, (49, 15): 87, (44, 2): 87, (17, 49): 86, (1, 35): 86, (10, 0): 86, (46, 2): 86, (38, 27): 86, (27, 49): 85, (49, 40): 84, (6, 48): 83, (24, 49): 83, (5, 48): 83, (48, 35): 82, (14, 49): 82, (29, 1): 82, (0, 7): 82, (36, 49): 82, (25, 49): 82, (49, 1): 82, (19, 0): 82, (0, 1): 82, (1, 0): 81, (49, 11): 81, (0, 45): 81, (49, 4): 81, (46, 8): 81, (8, 49): 80, (42, 0): 80, (22, 30): 80, (10, 1): 80, (35, 26): 80, (49, 35): 80, (49, 44): 80, (24, 0): 80, (45, 1): 79, (23, 49): 79, (10, 23): 79, (19, 49): 79, (44, 1): 79, (45, 2): 79, (0, 24): 79, (47, 33): 78, (49, 33): 78, (49, 5): 78, (0, 48): 78, (0, 10): 78, (43, 1): 78, (48, 49): 78, (47, 49): 78, (49, 3): 77, (37, 28): 77, (0, 29): 77, (15, 49): 77, (49, 46): 77, (49, 34): 77, (0, 44): 77, (43, 0): 77, (43, 26): 77, (48, 19): 77, (48, 2): 77, (7, 14): 77, (48, 34): 76, (1, 48): 76, (10, 34): 76, (49, 9): 76, (5, 47): 76, (0, 35): 76, (8, 0): 76, (44, 4): 76, (49, 38): 76, (0, 21): 76, (0, 46): 76, (6, 49): 76, (48, 1): 76, (30, 0): 76, (31, 38): 75, (47, 2): 75, (49, 48): 75, (16, 9): 75, (49, 14): 75, (1, 1): 75, (47, 35): 75, (21, 0): 75, (35, 27): 74, (49, 43): 74, (13, 28): 74, (17, 29): 74, (22, 49): 74, (0, 11): 74, (21, 7): 74, (3, 46): 74, (1, 43): 74, (48, 33): 74, (48, 47): 73, (17, 16): 73, (16, 26): 73, (5, 49): 73, (27, 2): 73, (0, 42): 73, (23, 0): 73, (20, 44): 73, (48, 15): 73, (42, 2): 73, (20, 49): 73, (49, 24): 73, (0, 31): 73, (44, 40): 73, (11, 35): 73, (49, 32): 73, (33, 22): 73, (0, 17): 73, (15, 7): 73, (3, 8): 73, (0, 47): 73, (11, 1): 73, (49, 13): 73, (0, 27): 73, (49, 47): 73, (16, 15): 73, (40, 0): 73, (43, 20): 73, (19, 7): 72, (0, 9): 72, (0, 33): 72, (30, 49): 72, (44, 9): 72, (49, 28): 72, (0, 25): 72, (26, 20): 72, (0, 3): 72, (11, 10): 72, (49, 20): 72, (48, 48): 72, (29, 0): 72, (29, 49): 72, (21, 49): 72, (49, 10): 71, (1, 49): 71, (46, 35): 71, (49, 16): 71, (48, 36): 71, (40, 48): 71, (0, 40): 71, (49, 27): 71, (1, 23): 71, (21, 48): 71, (49, 29): 71, (1, 47): 71, (15, 6): 71, (43, 19): 71, (3, 10): 71, (11, 33): 71, (3, 43): 71, (34, 44): 71, (42, 21): 71, (46, 48): 71, (49, 39): 70, (38, 1): 70, (0, 14): 70, (13, 25): 70, (46, 47): 70, (2, 32): 70, (9, 33): 70, (34, 0): 70, (3, 7): 70, (0, 34): 70, (35, 49): 70, (16, 49): 70, (2, 35): 70, (38, 28): 70, (33, 47): 70, (0, 36): 69, (25, 18): 69, (0, 22): 69, (14, 25): 69, (10, 30): 69, (2, 17): 69, (14, 27): 69, (46, 33): 69, (28, 0): 69, (47, 48): 69, (47, 4): 69, (0, 30): 69, (0, 5): 69, (10, 32): 69, (46, 25): 69, (11, 34): 69, (0, 4): 69, (7, 10): 69, (19, 9): 69, (2, 27): 69, (4, 10): 69, (40, 49): 69, (49, 26): 69, (20, 0): 69, (6, 4): 69, (12, 3): 69, (48, 40): 69, (12, 0): 69, (37, 49): 69, (14, 26): 68, (47, 1): 68, (23, 43): 68, (13, 40): 68, (0, 20): 68, (38, 24): 68, (49, 31): 68, (10, 33): 68, (0, 39): 68, (49, 19): 68, (3, 47): 68, (30, 34): 68, (7, 1): 68, (4, 49): 68, (9, 21): 67, (42, 25): 67, (0, 2): 67, (3, 0): 67, (20, 41): 67, (7, 32): 67, (39, 0): 67, (48, 31): 67, (4, 7): 67, (46, 49): 67, (48, 9): 67, (8, 9): 67, (14, 6): 67, (27, 0): 67, (15, 34): 67, (3, 3): 67, (11, 2): 67, (13, 0): 67, (11, 0): 67, (39, 49): 67, (49, 12): 67, (23, 2): 66, (48, 14): 66, (6, 47): 66, (33, 13): 66, (26, 22): 66, (2, 49): 66, (20, 46): 66, (1, 10): 66, (22, 4): 66, (18, 0): 66, (44, 3): 66, (19, 8): 66, (1, 18): 66, (48, 11): 66, (34, 4): 66, (1, 20): 66, (16, 0): 66, (37, 40): 66, (23, 44): 66, (17, 0): 66, (14, 7): 66, (4, 1): 66, (37, 2): 66, (45, 0): 66, (14, 4): 66, (40, 23): 66, (15, 4): 66, (22, 0): 66, (6, 15): 66, (9, 0): 66, (47, 47): 66, (48, 13): 66, (0, 26): 66, (49, 8): 66, (13, 7): 66, (45, 8): 66, (46, 1): 65, (35, 45): 65, (49, 6): 65, (10, 2): 65, (17, 31): 65, (5, 10): 65, (22, 9): 65, (34, 25): 65, (36, 0): 65, (38, 0): 65, (1, 6): 65, (22, 28): 65, (27, 44): 65, (16, 29): 65, (48, 18): 65, (44, 20): 65, (42, 3): 65, (33, 49): 65, (48, 39): 65, (46, 6): 65, (21, 8): 65, (46, 3): 65, (41, 0): 65, (3, 32): 65, (12, 30): 65, (3, 31): 65, (44, 7): 65, (20, 48): 65, (18, 1): 64, (37, 38): 64, (4, 3): 64, (11, 29): 64, (6, 12): 64, (46, 29): 64, (32, 22): 64, (28, 49): 64, (46, 34): 64, (9, 29): 64, (43, 5): 64, (38, 3): 64, (6, 11): 64, (23, 3): 64, (30, 35): 64, (0, 32): 64, (1, 42): 64, (42, 17): 64, (22, 41): 64, (31, 0): 64, (38, 2): 64, (10, 31): 64, (16, 11): 64, (15, 11): 64, (23, 5): 64, (0, 13): 64, (17, 46): 63, (34, 37): 63, (44, 19): 63, (13, 1): 63, (34, 3): 63, (2, 48): 63, (35, 28): 63, (5, 34): 63, (35, 3): 63, (1, 32): 63, (38, 39): 63, (5, 0): 63, (36, 27): 63, (30, 1): 63, (1, 24): 63, (9, 1): 63, (34, 31): 63, (21, 21): 63, (27, 15): 63, (33, 26): 63, (16, 41): 63, (7, 0): 63, (1, 38): 63, (24, 1): 63, (38, 49): 63, (47, 39): 63, (47, 40): 63, (42, 1): 62, (46, 7): 62, (40, 25): 62, (12, 26): 62, (0, 23): 62, (47, 3): 62, (38, 32): 62, (13, 6): 62, (12, 21): 62, (23, 16): 62, (4, 0): 62, (35, 13): 62, (1, 46): 62, (9, 35): 62, (37, 26): 62, (1, 21): 62, (32, 37): 62, (1, 36): 62, (2, 11): 62, (0, 18): 62, (10, 9): 62, (39, 23): 62, (42, 26): 62, (41, 1): 62, (49, 30): 62, (7, 11): 62, (0, 19): 62, (15, 28): 61, (29, 37): 61, (9, 13): 61, (34, 27): 61, (4, 47): 61, (43, 18): 61, (4, 9): 61, (6, 1): 61, (19, 43): 61, (25, 34): 61, (31, 19): 61, (44, 17): 61, (1, 39): 61, (23, 1): 61, (10, 22): 61, (0, 16): 61, (0, 12): 61, (4, 45): 61, (2, 1): 61, (42, 49): 61, (1, 8): 61, (45, 7): 61, (10, 15): 61, (36, 13): 61, (2, 26): 61, (18, 11): 61, (12, 49): 61, (4, 8): 61, (11, 27): 61, (18, 44): 61, (0, 28): 61, (14, 8): 61, (13, 2): 60, (24, 36): 60, (22, 43): 60, (12, 32): 60, (32, 3): 60, (9, 31): 60, (27, 34): 60, (1, 2): 60, (3, 11): 60, (43, 2): 60, (2, 4): 60, (12, 22): 60, (1, 28): 60, (1, 26): 60, (26, 0): 60, (4, 26): 60, (20, 9): 60, (22, 45): 60, (28, 8): 60, (22, 8): 60, (26, 24): 60, (35, 1): 60, (49, 25): 60, (35, 0): 60, (6, 13): 60, (1, 16): 60, (48, 10): 60, (15, 48): 60, (21, 1): 60, (42, 18): 60, (45, 32): 60, (47, 8): 60, (13, 8): 60, (22, 23): 60, (18, 12): 60, (24, 2): 60, (39, 2): 60, (19, 10): 60, (2, 42): 60, (23, 18): 60, (6, 32): 60, (25, 1): 60, (39, 25): 60, (35, 2): 60, (8, 12): 60, (24, 30): 60, (45, 21): 60, (2, 3): 60, (25, 4): 60, (22, 10): 59, (43, 33): 59, (49, 45): 59, (9, 49): 59, (46, 23): 59, (34, 47): 59, (18, 8): 59, (11, 9): 59, (5, 28): 59, (47, 28): 59, (3, 29): 59, (47, 43): 59, (47, 30): 59, (45, 33): 59, (2, 2): 59, (39, 1): 59, (21, 4): 59, (44, 37): 59, (46, 44): 59, (11, 16): 59, (49, 2): 59, (36, 44): 59, (19, 1): 59, (20, 7): 59, (4, 34): 59, (9, 34): 59, (10, 35): 59, (36, 2): 59, (47, 0): 59, (31, 8): 59, (15, 41): 59, (1, 34): 59, (37, 19): 59, (39, 48): 59, (43, 24): 59, (19, 41): 59, (43, 39): 59, (47, 19): 59, (48, 32): 59, (2, 28): 59, (22, 1): 59, (39, 41): 59, (14, 0): 59, (13, 3): 59, (46, 0): 59, (37, 25): 59, (8, 45): 59, (41, 4): 59, (34, 45): 59, (23, 8): 59, (45, 41): 59, (1, 44): 59, (47, 38): 59, (10, 28): 59, (1, 33): 59, (49, 23): 59, (5, 45): 59, (31, 9): 58, (27, 45): 58, (14, 5): 58, (22, 46): 58, (10, 48): 58, (19, 17): 58, (18, 45): 58, (23, 48): 58, (40, 24): 58, (26, 2): 58, (14, 10): 58, (36, 43): 58, (27, 19): 58, (20, 45): 58, (29, 24): 58, (17, 15): 58, (27, 8): 58, (27, 21): 58, (28, 1): 58, (26, 32): 58, (34, 42): 58, (16, 6): 58, (1, 11): 58, (16, 24): 58, (12, 15): 58, (22, 29): 58, (23, 23): 58, (38, 12): 58, (34, 46): 58, (47, 44): 58, (32, 4): 58, (2, 9): 58, (16, 28): 58, (23, 4): 58, (11, 23): 58, (2, 0): 58, (48, 3): 58, (0, 15): 58, (15, 5): 58, (24, 3): 58, (38, 20): 58, (31, 36): 58, (2, 7): 58, (24, 18): 58, (3, 4): 58, (13, 9): 58, (27, 22): 58, (34, 14): 58, (48, 30): 58, (34, 21): 58, (38, 15): 58, (34, 49): 58, (3, 45): 58, (13, 20): 58, (20, 10): 58, (15, 24): 58, (12, 9): 58, (6, 9): 58, (5, 9): 58, (35, 24): 58, (39, 26): 58, (35, 14): 57, (12, 10): 57, (39, 24): 57, (25, 2): 57, (31, 27): 57, (37, 4): 57, (3, 28): 57, (26, 35): 57, (10, 11): 57, (45, 9): 57, (46, 24): 57, (46, 31): 57, (33, 0): 57, (21, 32): 57, (43, 14): 57, (26, 49): 57, (28, 44): 57, (49, 42): 57, (1, 22): 57, (46, 36): 57, (33, 45): 57, (22, 48): 57, (30, 38): 57, (30, 21): 57, (41, 23): 57, (41, 25): 57, (24, 4): 57, (36, 48): 57, (14, 3): 57, (34, 30): 57, (16, 7): 57, (16, 48): 57, (18, 46): 57, (22, 44): 57, (21, 46): 57, (16, 13): 57, (37, 24): 57, (13, 30): 57, (44, 49): 57, (41, 49): 57, (11, 49): 57, (25, 0): 57, (4, 46): 57, (46, 40): 57, (12, 1): 57, (17, 12): 57, (29, 8): 57, (42, 20): 57, (19, 48): 57, (7, 4): 56, (9, 9): 56, (45, 49): 56, (3, 33): 56, (25, 19): 56, (9, 6): 56, (12, 16): 56, (3, 9): 56, (2, 21): 56, (32, 49): 56, (35, 25): 56, (35, 32): 56, (14, 48): 56, (14, 24): 56, (3, 2): 56, (20, 42): 56, (32, 41): 56, (27, 37): 56, (45, 24): 56, (0, 37): 56, (1, 17): 56, (45, 43): 56, (22, 31): 56, (47, 37): 56, (13, 49): 56, (18, 14): 56, (24, 34): 56, (47, 32): 56, (22, 40): 56, (3, 35): 56, (21, 45): 56, (8, 25): 56, (26, 34): 56, (38, 17): 56, (5, 40): 56, (10, 10): 56, (44, 23): 56, (32, 5): 56, (39, 8): 56, (47, 36): 56, (9, 23): 56, (30, 22): 56, (8, 36): 56, (38, 16): 56, (2, 47): 56, (33, 43): 56, (44, 38): 56, (11, 21): 56, (24, 48): 56, (34, 33): 56, (49, 36): 56, (21, 30): 56, (48, 45): 56, (6, 0): 56, (8, 14): 56, (40, 3): 55, (34, 1): 55, (39, 27): 55, (14, 14): 55, (13, 29): 55, (40, 26): 55, (43, 21): 55, (12, 20): 55, (5, 3): 55, (18, 9): 55, (2, 34): 55, (11, 18): 55, (45, 18): 55, (5, 14): 55, (45, 27): 55, (27, 26): 55, (31, 41): 55, (35, 41): 55, (44, 8): 55, (30, 28): 55, (33, 31): 55, (49, 41): 55, (44, 0): 55, (7, 48): 55, (8, 10): 55, (21, 41): 55, (18, 49): 55, (27, 31): 55, (36, 3): 55, (1, 7): 55, (42, 12): 55, (31, 1): 55, (3, 48): 55, (7, 5): 55, (39, 16): 55, (4, 2): 55, (2, 10): 55, (41, 24): 55, (30, 8): 55, (41, 44): 55, (36, 39): 55, (43, 25): 55, (33, 4): 55, (30, 4): 55, (36, 5): 55, (45, 40): 55, (40, 27): 55, (48, 42): 55, (28, 46): 55, (30, 23): 55, (41, 26): 55, (11, 22): 55, (35, 20): 55, (1, 19): 55, (26, 17): 55, (3, 18): 55, (27, 48): 55, (4, 19): 55, (43, 27): 55, (9, 32): 55, (31, 6): 55, (17, 48): 55, (20, 6): 55, (12, 27): 55, (35, 44): 55, (12, 33): 55, (9, 16): 55, (1, 13): 54, (35, 12): 54, (47, 18): 54, (19, 44): 54, (26, 36): 54, (42, 48): 54, (44, 48): 54, (23, 41): 54, (31, 5): 54, (12, 18): 54, (0, 38): 54, (11, 32): 54, (49, 21): 54, (1, 3): 54, (33, 37): 54, (7, 15): 54, (5, 15): 54, (14, 22): 54, (26, 46): 54, (46, 30): 54, (41, 48): 54, (12, 40): 54, (8, 33): 54, (32, 25): 54, (37, 23): 54, (28, 2): 54, (14, 29): 54, (20, 40): 54, (33, 38): 54, (1, 9): 54, (33, 1): 54, (16, 31): 54, (37, 3): 54, (16, 34): 54, (1, 45): 54, (15, 33): 54, (16, 10): 54, (21, 9): 54, (28, 43): 54, (33, 19): 54, (13, 39): 54, (43, 17): 54, (48, 37): 54, (26, 21): 54, (18, 35): 54, (2, 36): 54, (31, 25): 54, (14, 1): 54, (17, 27): 54, (2, 46): 54, (31, 37): 54, (40, 11): 54, (46, 42): 54, (4, 38): 54, (22, 5): 54, (2, 43): 54, (15, 47): 54, (8, 11): 54, (39, 12): 54, (38, 29): 54, (34, 5): 54, (39, 44): 54, (7, 2): 54, (14, 34): 53, (14, 46): 53, (7, 3): 53, (34, 38): 53, (1, 25): 53, (1, 31): 53, (8, 40): 53, (45, 3): 53, (7, 13): 53, (11, 15): 53, (36, 34): 53, (28, 37): 53, (39, 28): 53, (28, 3): 53, (26, 33): 53, (22, 18): 53, (13, 15): 53, (29, 4): 53, (32, 23): 53, (19, 42): 53, (13, 26): 53, (24, 41): 53, (22, 6): 53, (48, 38): 53, (14, 47): 53, (48, 25): 53, (30, 25): 53, (24, 43): 53, (17, 9): 53, (2, 45): 53, (18, 30): 53, (43, 37): 53, (30, 5): 53, (23, 30): 53, (23, 45): 53, (15, 1): 53, (43, 28): 53, (35, 48): 53, (25, 44): 53, (32, 38): 53, (33, 41): 53, (21, 11): 53, (43, 7): 53, (45, 11): 53, (9, 24): 53, (42, 23): 53, (24, 5): 53, (45, 29): 53, (27, 1): 53, (11, 31): 53, (44, 25): 53, (13, 22): 53, (30, 20): 53, (3, 37): 53, (44, 26): 53, (16, 16): 53, (45, 48): 53, (1, 40): 53, (29, 36): 53, (26, 1): 53, (12, 7): 53, (11, 30): 53, (49, 22): 53, (45, 34): 53, (31, 49): 53, (5, 33): 53, (11, 28): 53, (28, 27): 53, (41, 20): 53, (48, 4): 53, (2, 24): 53, (13, 48): 53, (45, 36): 52, (8, 32): 52, (27, 23): 52, (16, 32): 52, (11, 36): 52, (36, 46): 52, (47, 15): 52, (29, 3): 52, (31, 4): 52, (44, 35): 52, (27, 13): 52, (42, 27): 52, (46, 37): 52, (1, 12): 52, (43, 40): 52, (30, 24): 52, (48, 46): 52, (45, 10): 52, (38, 13): 52, (46, 26): 52, (10, 43): 52, (3, 49): 52, (42, 5): 52, (13, 16): 52, (2, 12): 52, (18, 25): 52, (8, 13): 52, (27, 46): 52, (20, 31): 52, (27, 20): 52, (9, 25): 52, (16, 30): 52, (17, 28): 52, (37, 37): 52, (9, 12): 52, (8, 4): 52, (45, 4): 52, (28, 21): 52, (34, 23): 52, (44, 6): 52, (21, 12): 52, (38, 26): 52, (14, 28): 52, (10, 21): 52, (34, 26): 52, (3, 6): 52, (15, 32): 52, (43, 38): 52, (4, 6): 52, (3, 34): 52, (32, 48): 52, (25, 6): 52, (25, 5): 52, (25, 3): 52, (24, 29): 52, (12, 39): 52, (29, 16): 52, (38, 44): 52, (36, 24): 52, (9, 2): 52, (31, 12): 52, (46, 43): 52, (9, 14): 52, (14, 23): 52, (47, 24): 52, (5, 12): 52, (27, 4): 52, (1, 4): 51, (28, 42): 51, (35, 31): 51, (48, 20): 51, (29, 12): 51, (28, 16): 51, (5, 29): 51, (34, 15): 51, (3, 36): 51, (16, 12): 51, (6, 18): 51, (14, 44): 51, (14, 42): 51, (30, 48): 51, (33, 3): 51, (36, 40): 51, (17, 7): 51, (31, 44): 51, (47, 45): 51, (46, 28): 51, (19, 35): 51, (44, 5): 51, (1, 30): 51, (24, 27): 51, (36, 4): 51, (38, 41): 51, (20, 43): 51, (3, 1): 51, (43, 12): 51, (14, 2): 51, (12, 12): 51, (22, 22): 51, (15, 26): 51, (37, 13): 51, (36, 7): 51, (5, 24): 51, (23, 34): 51, (6, 10): 51, (3, 30): 51, (21, 10): 51, (10, 8): 51, (26, 45): 51, (5, 32): 51, (25, 21): 51, (29, 2): 51, (43, 36): 51, (35, 46): 51, (27, 42): 51, (44, 27): 51, (44, 12): 51, (22, 14): 51, (16, 14): 51, (15, 39): 51, (12, 28): 51, (13, 4): 51, (41, 21): 51, (18, 48): 51, (10, 12): 50, (46, 21): 50, (45, 20): 50, (46, 10): 50, (23, 25): 50, (15, 42): 50, (41, 37): 50, (28, 48): 50, (25, 8): 50, (40, 22): 50, (47, 41): 50, (17, 13): 50, (26, 15): 50, (12, 23): 50, (35, 21): 50, (44, 18): 50, (18, 15): 50, (9, 8): 50, (18, 29): 50, (25, 47): 50, (35, 42): 50, (48, 17): 50, (34, 19): 50, (18, 13): 50, (28, 41): 50, (22, 17): 50, (5, 13): 50, (10, 16): 50, (9, 11): 50, (16, 39): 50, (24, 44): 50, (40, 43): 50, (46, 45): 50, (43, 22): 50, (24, 38): 50, (40, 8): 50, (27, 25): 50, (17, 5): 50, (48, 6): 50, (24, 16): 50, (12, 44): 50, (26, 43): 50, (44, 21): 50, (23, 9): 50, (23, 17): 50, (17, 30): 50, (27, 38): 50, (19, 14): 50, (24, 6): 50, (41, 3): 50, (33, 2): 50, (36, 26): 50, (33, 17): 50, (19, 45): 50, (24, 17): 50, (40, 10): 50, (33, 27): 50, (38, 25): 50, (12, 24): 50, (17, 10): 50, (18, 40): 50, (18, 10): 50, (39, 29): 50, (29, 9): 50, (4, 4): 50, (14, 19): 50, (10, 45): 50, (36, 28): 50, (18, 41): 50, (33, 21): 50, (38, 43): 50, (16, 25): 50, (40, 47): 50, (13, 38): 50, (20, 47): 50, (26, 30): 49, (18, 47): 49, (34, 34): 49, (35, 37): 49, (19, 31): 49, (37, 14): 49, (41, 5): 49, (26, 31): 49, (26, 47): 49, (4, 43): 49, (8, 34): 49, (32, 31): 49, (17, 6): 49, (6, 16): 49, (23, 31): 49, (15, 23): 49, (35, 33): 49, (44, 39): 49, (32, 39): 49, (40, 13): 49, (41, 18): 49, (2, 25): 49, (14, 15): 49, (6, 17): 49, (43, 48): 49, (45, 30): 49, (30, 46): 49, (45, 35): 49, (19, 15): 49, (3, 27): 49, (42, 37): 49, (37, 0): 49, (48, 5): 49, (22, 2): 49, (22, 47): 49, (37, 21): 49, (44, 36): 49, (13, 34): 49, (26, 13): 49, (30, 9): 49, (24, 37): 49, (8, 30): 49, (1, 37): 49, (17, 17): 49, (25, 25): 49, (13, 21): 49, (29, 41): 49, (21, 15): 49, (33, 42): 49, (34, 32): 49, (4, 11): 49, (12, 31): 49, (43, 49): 49, (10, 24): 49, (3, 17): 49, (22, 11): 49, (17, 14): 49, (12, 29): 49, (2, 6): 49, (29, 48): 49, (2, 33): 49, (44, 11): 49, (7, 31): 49, (21, 43): 49, (46, 4): 49, (47, 31): 48, (25, 31): 48, (39, 15): 48, (9, 30): 48, (2, 38): 48, (25, 43): 48, (28, 24): 48, (9, 43): 48, (26, 16): 48, (8, 6): 48, (37, 12): 48, (32, 26): 48, (18, 26): 48, (14, 12): 48, (32, 29): 48, (7, 20): 48, (2, 31): 48, (6, 14): 48, (28, 20): 48, (2, 41): 48, (40, 28): 48, (23, 42): 48, (27, 43): 48, (41, 31): 48, (23, 22): 48, (4, 29): 48, (2, 18): 48, (25, 38): 48, (48, 43): 48, (21, 39): 48, (20, 1): 48, (7, 18): 48, (8, 5): 48, (40, 12): 48, (42, 36): 48, (17, 26): 48, (41, 12): 48, (12, 37): 48, (24, 39): 48, (45, 47): 48, (10, 19): 48, (34, 40): 48, (4, 27): 48, (27, 47): 48, (37, 15): 48, (24, 31): 48, (33, 44): 48, (36, 15): 48, (11, 17): 48, (20, 39): 48, (38, 34): 48, (45, 31): 48, (20, 17): 48, (47, 5): 48, (9, 36): 48, (3, 44): 48, (43, 34): 48, (10, 7): 48, (32, 34): 48, (40, 2): 48, (28, 35): 48, (25, 9): 48, (24, 42): 48, (48, 24): 48, (24, 26): 48, (48, 26): 48, (27, 3): 48, (15, 25): 48, (33, 46): 48, (25, 48): 48, (31, 3): 48, (48, 44): 48, (43, 4): 48, (37, 29): 48, (34, 2): 48, (26, 3): 48, (36, 31): 47, (34, 20): 47, (13, 13): 47, (28, 31): 47, (41, 43): 47, (38, 35): 47, (29, 22): 47, (43, 3): 47, (45, 45): 47, (22, 25): 47, (11, 47): 47, (25, 26): 47, (7, 25): 47, (29, 45): 47, (36, 41): 47, (44, 24): 47, (15, 35): 47, (8, 27): 47, (40, 36): 47, (24, 40): 47, (21, 22): 47, (12, 36): 47, (43, 16): 47, (31, 34): 47, (45, 22): 47, (33, 14): 47, (26, 48): 47, (2, 22): 47, (9, 40): 47, (19, 33): 47, (17, 33): 47, (33, 23): 47, (25, 20): 47, (12, 19): 47, (35, 36): 47, (17, 36): 47, (15, 31): 47, (26, 38): 47, (30, 11): 47, (20, 11): 47, (2, 20): 47, (31, 33): 47, (20, 8): 47, (11, 5): 47, (7, 46): 47, (46, 20): 47, (46, 5): 47, (36, 38): 47, (21, 47): 47, (15, 3): 47, (13, 44): 47, (25, 7): 47, (17, 35): 47, (36, 12): 47, (37, 1): 47, (17, 25): 47, (6, 46): 47, (10, 29): 47, (43, 11): 47, (4, 35): 47, (41, 32): 47, (27, 32): 47, (16, 44): 47, (45, 39): 47, (28, 30): 47, (35, 47): 47, (41, 41): 47, (23, 29): 47, (15, 0): 47, (12, 35): 47, (3, 26): 47, (38, 19): 47, (8, 47): 47, (3, 25): 47, (2, 16): 47, (13, 5): 47, (9, 7): 47, (8, 44): 47, (43, 30): 47, (21, 44): 47, (6, 6): 47, (38, 40): 47, (12, 13): 46, (19, 34): 46, (44, 22): 46, (29, 27): 46, (22, 3): 46, (15, 14): 46, (12, 8): 46, (40, 20): 46, (4, 30): 46, (23, 33): 46, (38, 46): 46, (2, 8): 46, (30, 42): 46, (12, 48): 46, (24, 8): 46, (6, 3): 46, (16, 38): 46, (28, 22): 46, (46, 16): 46, (10, 49): 46, (17, 42): 46, (10, 3): 46, (4, 13): 46, (5, 26): 46, (18, 32): 46, (16, 35): 46, (35, 22): 46, (37, 48): 46, (17, 1): 46, (36, 6): 46, (7, 33): 46, (8, 31): 46, (16, 40): 46, (41, 29): 46, (41, 13): 46, (47, 29): 46, (44, 13): 46, (31, 24): 46, (31, 31): 46, (15, 29): 46, (43, 23): 46, (39, 43): 46, (29, 30): 46, (14, 32): 46, (34, 22): 46, (32, 27): 46, (28, 33): 46, (17, 43): 46, (3, 38): 46, (47, 42): 46, (34, 28): 46, (29, 10): 46, (20, 16): 46, (13, 14): 46, (24, 19): 46, (22, 24): 46, (10, 36): 46, (33, 25): 46, (28, 32): 46, (36, 10): 46, (21, 26): 46, (32, 32): 46, (12, 25): 46, (29, 23): 46, (44, 44): 46, (19, 6): 46, (37, 39): 46, (17, 32): 46, (14, 20): 46, (37, 42): 46, (36, 33): 46, (33, 33): 46, (46, 46): 46, (19, 37): 46, (25, 42): 46, (8, 2): 46, (23, 28): 46, (47, 25): 46, (9, 20): 46, (33, 12): 46, (21, 5): 45, (36, 45): 45, (44, 31): 45, (17, 47): 45, (39, 17): 45, (18, 4): 45, (26, 4): 45, (33, 48): 45, (12, 46): 45, (2, 23): 45, (45, 38): 45, (36, 42): 45, (41, 2): 45, (8, 29): 45, (38, 47): 45, (33, 18): 45, (12, 11): 45, (42, 29): 45, (7, 41): 45, (37, 34): 45, (8, 48): 45, (18, 42): 45, (47, 6): 45, (41, 36): 45, (45, 12): 45, (16, 45): 45, (27, 29): 45, (32, 33): 45, (16, 42): 45, (8, 46): 45, (45, 46): 45, (14, 13): 45, (35, 29): 45, (39, 40): 45, (42, 16): 45, (35, 4): 45, (35, 11): 45, (36, 1): 45, (18, 34): 45, (9, 22): 45, (47, 9): 45, (16, 8): 45, (5, 16): 45, (4, 39): 45, (27, 36): 45, (7, 9): 45, (13, 23): 45, (16, 23): 45, (34, 7): 45, (42, 7): 45, (17, 3): 45, (18, 31): 45, (36, 20): 45, (33, 30): 45, (30, 41): 45, (21, 40): 45, (3, 19): 45, (18, 16): 45, (44, 28): 45, (25, 35): 45, (32, 30): 45, (10, 25): 45, (9, 10): 45, (18, 43): 45, (34, 24): 45, (4, 28): 45, (33, 39): 45, (3, 16): 45, (5, 38): 45, (19, 16): 45, (22, 35): 45, (4, 25): 45, (7, 36): 45, (28, 9): 45, (36, 25): 45, (12, 34): 45, (26, 9): 45, (42, 19): 45, (2, 29): 45, (47, 7): 45, (32, 28): 45, (13, 33): 45, (31, 13): 45, (8, 16): 45, (21, 17): 44, (22, 21): 44, (39, 47): 44, (24, 20): 44, (26, 42): 44, (5, 11): 44, (4, 40): 44, (32, 0): 44, (11, 3): 44, (35, 5): 44, (39, 13): 44, (7, 12): 44, (24, 15): 44, (43, 6): 44, (1, 27): 44, (27, 16): 44, (7, 35): 44, (25, 17): 44, (28, 47): 44, (4, 23): 44, (4, 42): 44, (40, 14): 44, (36, 11): 44, (27, 41): 44, (42, 44): 44, (22, 15): 44, (40, 40): 44, (30, 43): 44, (46, 38): 44, (43, 45): 44, (39, 22): 44, (29, 7): 44, (46, 39): 44, (5, 22): 44, (29, 18): 44, (45, 37): 44, (29, 28): 44, (28, 39): 44, (20, 13): 44, (7, 42): 44, (37, 17): 44, (38, 18): 44, (23, 35): 44, (30, 29): 44, (32, 24): 44, (2, 37): 44, (39, 38): 44, (5, 35): 44, (35, 38): 44, (23, 26): 44, (37, 44): 44, (9, 27): 44, (16, 5): 44, (42, 28): 44, (28, 40): 44, (15, 27): 44, (5, 27): 44, (48, 41): 44, (23, 14): 44, (44, 16): 44, (20, 5): 44, (38, 38): 44, (40, 9): 44, (39, 3): 44, (7, 38): 44, (44, 33): 44, (45, 17): 44, (8, 1): 44, (39, 34): 44, (32, 11): 44, (17, 41): 44, (18, 6): 44, (15, 12): 44, (19, 11): 44, (12, 4): 44, (30, 37): 44, (39, 46): 44, (7, 27): 44, (30, 47): 44, (15, 22): 44, (19, 32): 44, (40, 16): 43, (30, 31): 43, (21, 23): 43, (23, 46): 43, (3, 42): 43, (6, 35): 43, (27, 28): 43, (35, 7): 43, (14, 43): 43, (7, 16): 43, (31, 23): 43, (11, 8): 43, (4, 44): 43, (38, 23): 43, (46, 9): 43, (34, 29): 43, (41, 11): 43, (32, 36): 43, (31, 14): 43, (30, 17): 43, (45, 23): 43, (26, 44): 43, (27, 35): 43, (23, 36): 43, (32, 21): 43, (45, 16): 43, (17, 8): 43, (11, 43): 43, (6, 24): 43, (46, 11): 43, (35, 23): 43, (5, 37): 43, (35, 39): 43, (23, 38): 43, (25, 23): 43, (27, 39): 43, (39, 33): 43, (5, 39): 43, (13, 24): 43, (28, 45): 43, (30, 3): 43, (27, 27): 43, (15, 15): 43, (47, 17): 43, (31, 39): 43, (31, 32): 43, (25, 45): 43, (7, 22): 43, (6, 34): 43, (14, 39): 43, (29, 43): 43, (17, 18): 43, (6, 36): 43, (41, 33): 43, (17, 45): 43, (5, 7): 43, (46, 32): 43, (28, 38): 43, (40, 41): 43, (28, 29): 43, (28, 28): 43, (41, 39): 43, (29, 20): 43, (4, 24): 43, (38, 8): 43, (35, 40): 43, (8, 7): 43, (8, 8): 43, (42, 22): 43, (35, 43): 43, (4, 48): 43, (3, 24): 43, (35, 30): 43, (13, 31): 43, (2, 30): 43, (28, 6): 43, (48, 8): 43, (45, 5): 43, (48, 12): 42, (34, 43): 42, (20, 14): 42, (25, 27): 42, (29, 19): 42, (11, 11): 42, (38, 45): 42, (44, 34): 42, (20, 23): 42, (7, 26): 42, (33, 15): 42, (4, 21): 42, (3, 41): 42, (39, 37): 42, (33, 20): 42, (43, 8): 42, (31, 35): 42, (15, 17): 42, (13, 12): 42, (6, 33): 42, (17, 40): 42, (40, 42): 42, (6, 23): 42, (45, 26): 42, (19, 21): 42, (5, 8): 42, (45, 6): 42, (24, 9): 42, (24, 23): 42, (25, 39): 42, (21, 36): 42, (41, 28): 42, (5, 4): 42, (22, 16): 42, (31, 30): 42, (20, 30): 42, (42, 32): 42, (17, 34): 42, (11, 12): 42, (9, 28): 42, (7, 34): 42, (6, 42): 42, (13, 27): 42, (41, 27): 42, (18, 27): 42, (48, 16): 42, (32, 43): 42, (43, 41): 42, (26, 37): 42, (43, 35): 42, (18, 3): 42, (16, 43): 42, (30, 12): 42, (47, 21): 42, (30, 18): 42, (16, 19): 42, (36, 23): 42, (44, 41): 42, (37, 18): 42, (2, 44): 42, (34, 48): 42, (33, 32): 42, (19, 2): 42, (9, 45): 42, (37, 20): 42, (13, 46): 42, (31, 43): 42, (7, 47): 42, (31, 20): 42, (38, 42): 42, (3, 23): 42, (25, 29): 42, (28, 4): 42, (37, 32): 42, (24, 28): 42, (46, 18): 42, (20, 20): 42, (36, 32): 42, (39, 32): 42, (19, 39): 42, (17, 4): 42, (5, 2): 42, (26, 8): 42, (8, 21): 42, (29, 42): 42, (25, 24): 42, (23, 37): 41, (32, 8): 41, (21, 2): 41, (27, 14): 41, (15, 20): 41, (26, 39): 41, (29, 35): 41, (46, 17): 41, (19, 46): 41, (21, 31): 41, (11, 20): 41, (30, 36): 41, (8, 3): 41, (6, 2): 41, (36, 17): 41, (33, 40): 41, (39, 39): 41, (49, 7): 41, (15, 18): 41, (17, 44): 41, (1, 41): 41, (26, 26): 41, (2, 5): 41, (41, 30): 41, (34, 35): 41, (34, 6): 41, (41, 35): 41, (20, 15): 41, (34, 13): 41, (26, 27): 41, (25, 14): 41, (40, 1): 41, (5, 23): 41, (20, 33): 41, (39, 7): 41, (36, 21): 41, (5, 36): 41, (4, 16): 41, (11, 41): 41, (25, 36): 41, (25, 37): 41, (6, 8): 41, (45, 25): 41, (16, 4): 41, (45, 28): 41, (42, 24): 41, (43, 13): 41, (36, 47): 41, (47, 11): 41, (40, 5): 41, (15, 13): 41, (11, 48): 41, (38, 21): 41, (20, 32): 41, (2, 40): 41, (4, 33): 41, (23, 39): 41, (45, 42): 41, (17, 11): 41, (42, 39): 41, (4, 31): 41, (6, 29): 41, (10, 6): 41, (27, 9): 41, (28, 36): 41, (12, 2): 41, (33, 28): 41, (40, 19): 41, (41, 40): 41, (42, 11): 40, (42, 30): 40, (16, 1): 40, (29, 25): 40, (42, 31): 40, (7, 40): 40, (26, 14): 40, (30, 40): 40, (7, 8): 40, (22, 32): 40, (35, 15): 40, (14, 18): 40, (18, 39): 40, (40, 32): 40, (42, 6): 40, (8, 20): 40, (40, 35): 40, (32, 6): 40, (42, 34): 40, (24, 7): 40, (42, 38): 40, (29, 6): 40, (37, 6): 40, (39, 4): 40, (33, 6): 40, (22, 42): 40, (38, 5): 40, (18, 28): 40, (30, 30): 40, (15, 44): 40, (28, 18): 40, (36, 36): 40, (35, 8): 40, (7, 17): 40, (42, 8): 40, (9, 4): 40, (42, 4): 40, (29, 34): 40, (32, 40): 40, (33, 36): 40, (16, 27): 40, (4, 36): 40, (7, 19): 40, (35, 6): 40, (9, 44): 40, (10, 44): 40, (32, 45): 40, (14, 17): 40, (39, 9): 40, (13, 47): 40, (19, 12): 40, (11, 38): 40, (12, 47): 40, (28, 34): 40, (47, 23): 40, (42, 15): 40, (19, 13): 40, (9, 41): 40, (6, 40): 40, (47, 46): 40, (4, 5): 40, (31, 2): 40, (39, 45): 40, (21, 29): 40, (29, 31): 40, (43, 15): 40, (24, 25): 40, (24, 24): 40, (23, 21): 40, (8, 15): 40, (38, 14): 39, (40, 21): 39, (28, 10): 39, (26, 10): 39, (16, 47): 39, (36, 19): 39, (22, 20): 39, (10, 20): 39, (41, 6): 39, (42, 14): 39, (11, 37): 39, (10, 14): 39, (26, 28): 39, (23, 15): 39, (32, 9): 39, (25, 15): 39, (40, 4): 39, (37, 10): 39, (14, 30): 39, (9, 3): 39, (13, 19): 39, (31, 29): 39, (23, 24): 39, (5, 19): 39, (7, 6): 39, (10, 13): 39, (29, 21): 39, (42, 41): 39, (23, 6): 39, (17, 19): 39, (41, 15): 39, (31, 7): 39, (32, 20): 39, (20, 38): 39, (11, 24): 39, (7, 37): 39, (30, 16): 39, (25, 46): 39, (27, 18): 39, (32, 42): 39, (3, 40): 39, (37, 16): 39, (40, 6): 39, (23, 27): 39, (28, 15): 39, (20, 3): 39, (27, 12): 39, (6, 41): 39, (40, 31): 39, (43, 29): 39, (26, 23): 39, (4, 15): 39, (38, 10): 39, (16, 3): 39, (12, 6): 39, (31, 42): 39, (44, 45): 39, (20, 12): 39, (19, 28): 39, (21, 19): 39, (33, 24): 39, (44, 47): 39, (5, 1): 39, (6, 30): 39, (21, 27): 39, (4, 14): 39, (4, 22): 39, (45, 19): 39, (26, 25): 39, (29, 5): 39, (29, 26): 39, (32, 47): 39, (29, 47): 39, (18, 36): 38, (4, 37): 38, (13, 32): 38, (25, 22): 38, (11, 6): 38, (13, 18): 38, (14, 9): 38, (12, 17): 38, (21, 6): 38, (44, 42): 38, (24, 45): 38, (18, 2): 38, (40, 37): 38, (8, 26): 38, (44, 30): 38, (28, 26): 38, (31, 40): 38, (32, 16): 38, (33, 29): 38, (20, 26): 38, (30, 10): 38, (33, 8): 38, (4, 12): 38, (5, 41): 38, (38, 4): 38, (13, 37): 38, (22, 36): 38, (24, 32): 38, (37, 33): 38, (28, 14): 38, (1, 14): 38, (15, 37): 38, (39, 31): 38, (27, 33): 38, (8, 41): 38, (18, 17): 38, (6, 38): 38, (1, 5): 38, (32, 19): 38, (36, 9): 38, (30, 15): 38, (39, 10): 38, (23, 20): 38, (13, 10): 38, (37, 31): 38, (25, 11): 38, (19, 5): 38, (17, 37): 38, (34, 12): 38, (9, 15): 38, (23, 40): 37, (6, 39): 37, (47, 10): 37, (7, 28): 37, (5, 30): 37, (39, 6): 37, (16, 17): 37, (39, 18): 37, (34, 41): 37, (22, 38): 37, (44, 10): 37, (29, 39): 37, (47, 22): 37, (30, 32): 37, (34, 39): 37, (4, 18): 37, (40, 44): 37, (37, 36): 37, (29, 46): 37, (46, 41): 37, (34, 17): 37, (8, 43): 37, (20, 22): 37, (34, 18): 37, (29, 38): 37, (27, 17): 37, (8, 17): 37, (22, 27): 37, (19, 40): 37, (32, 44): 37, (34, 9): 37, (30, 19): 37, (5, 5): 37, (7, 24): 37, (27, 30): 37, (47, 26): 37, (12, 43): 37, (4, 20): 37, (3, 20): 37, (44, 46): 37, (20, 34): 37, (6, 22): 37, (25, 16): 37, (17, 39): 37, (5, 25): 37, (24, 14): 37, (38, 31): 37, (35, 9): 37, (15, 8): 37, (42, 40): 37, (23, 7): 37, (32, 2): 37, (40, 7): 37, (6, 28): 37, (22, 13): 37, (7, 29): 37, (7, 30): 37, (38, 7): 37, (5, 17): 37, (39, 19): 37, (25, 13): 36, (41, 19): 36, (40, 33): 36, (4, 32): 36, (14, 11): 36, (30, 39): 36, (31, 46): 36, (45, 44): 36, (8, 35): 36, (17, 24): 36, (41, 10): 36, (11, 4): 36, (19, 3): 36, (13, 11): 36, (11, 25): 36, (41, 38): 36, (26, 18): 36, (33, 9): 36, (38, 48): 36, (29, 15): 36, (37, 7): 36, (18, 5): 36, (5, 31): 36, (16, 37): 36, (40, 39): 36, (38, 6): 36, (15, 10): 36, (11, 26): 36, (10, 17): 36, (8, 38): 36, (25, 12): 36, (31, 47): 36, (42, 13): 36, (25, 10): 36, (21, 38): 36, (30, 2): 36, (21, 24): 36, (14, 41): 36, (21, 20): 36, (31, 10): 36, (22, 26): 36, (3, 39): 36, (32, 17): 36, (30, 14): 36, (38, 36): 36, (39, 11): 36, (20, 2): 36, (11, 7): 36, (48, 23): 36, (7, 39): 36, (11, 14): 36, (31, 45): 36, (35, 34): 36, (25, 28): 36, (12, 5): 36, (36, 14): 36, (46, 12): 36, (35, 16): 36, (30, 45): 36, (19, 36): 36, (19, 47): 36, (32, 14): 36, (10, 41): 36, (5, 21): 36, (9, 47): 36, (9, 19): 36, (29, 11): 36, (16, 22): 36, (14, 45): 36, (32, 12): 36, (26, 6): 36, (40, 29): 35, (8, 22): 35, (26, 29): 35, (41, 17): 35, (10, 26): 35, (12, 38): 35, (30, 13): 35, (32, 10): 35, (23, 19): 35, (8, 28): 35, (3, 22): 35, (37, 47): 35, (39, 20): 35, (36, 37): 35, (10, 47): 35, (15, 40): 35, (27, 7): 35, (34, 10): 35, (30, 7): 35, (47, 14): 35, (18, 7): 35, (30, 44): 35, (29, 44): 35, (7, 21): 35, (5, 6): 35, (25, 40): 35, (19, 18): 35, (28, 19): 35, (18, 18): 35, (24, 33): 35, (8, 42): 35, (1, 29): 35, (9, 48): 35, (47, 20): 35, (31, 22): 35, (21, 14): 35, (25, 32): 35, (10, 4): 35, (48, 21): 35, (26, 19): 35, (46, 19): 35, (31, 28): 35, (32, 13): 35, (9, 17): 34, (41, 47): 34, (2, 39): 34, (21, 42): 34, (15, 9): 34, (13, 45): 34, (10, 27): 34, (21, 13): 34, (16, 18): 34, (37, 22): 34, (15, 2): 34, (19, 29): 34, (34, 11): 34, (44, 32): 34, (32, 18): 34, (25, 41): 34, (6, 5): 34, (35, 10): 34, (44, 43): 34, (34, 36): 34, (4, 17): 34, (13, 36): 34, (29, 29): 34, (21, 16): 34, (37, 9): 34, (1, 15): 34, (21, 25): 34, (15, 16): 34, (24, 11): 34, (31, 11): 34, (48, 7): 34, (24, 21): 34, (22, 19): 34, (20, 36): 34, (38, 33): 34, (26, 11): 34, (41, 14): 34, (46, 27): 34, (21, 3): 34, (47, 27): 34, (24, 10): 34, (36, 16): 34, (20, 29): 34, (45, 14): 34, (11, 39): 34, (10, 42): 34, (12, 45): 34, (46, 14): 34, (26, 12): 33, (37, 11): 33, (14, 40): 33, (23, 11): 33, (34, 8): 33, (37, 35): 33, (26, 5): 33, (41, 16): 33, (47, 12): 33, (20, 19): 33, (18, 33): 33, (3, 12): 33, (6, 25): 33, (43, 31): 33, (9, 5): 33, (19, 19): 33, (45, 15): 33, (14, 35): 33, (36, 22): 33, (18, 37): 33, (24, 46): 33, (40, 15): 33, (15, 21): 33, (43, 47): 33, (42, 45): 33, (15, 43): 33, (13, 17): 33, (47, 13): 33, (14, 33): 33, (40, 45): 33, (12, 14): 33, (47, 16): 33, (16, 33): 33, (33, 35): 33, (20, 35): 33, (38, 37): 33, (13, 35): 33, (42, 9): 33, (24, 35): 33, (24, 47): 33, (41, 7): 33, (7, 45): 33, (18, 24): 33, (21, 34): 33, (48, 29): 33, (2, 13): 33, (22, 33): 33, (28, 7): 33, (20, 37): 33, (19, 20): 33, (5, 46): 33, (21, 28): 33, (21, 35): 32, (35, 35): 32, (10, 5): 32, (5, 43): 32, (5, 42): 32, (6, 19): 32, (12, 41): 32, (39, 21): 32, (39, 42): 32, (2, 14): 32, (29, 40): 32, (16, 21): 32, (41, 42): 32, (44, 15): 32, (9, 26): 32, (28, 17): 32, (32, 7): 32, (24, 22): 32, (11, 44): 32, (34, 16): 32, (46, 22): 32, (19, 24): 32, (15, 46): 32, (31, 21): 32, (8, 37): 32, (36, 29): 32, (4, 41): 32, (17, 22): 32, (37, 30): 32, (29, 33): 32, (6, 26): 32, (48, 27): 32, (32, 46): 32, (33, 5): 32, (36, 18): 32, (35, 18): 32, (25, 30): 32, (9, 18): 32, (14, 37): 31, (14, 36): 31, (16, 20): 31, (40, 30): 31, (30, 33): 31, (15, 30): 31, (26, 41): 31, (31, 26): 31, (19, 30): 31, (33, 10): 31, (45, 13): 31, (28, 13): 31, (38, 11): 31, (8, 19): 31, (8, 18): 31, (33, 7): 31, (16, 46): 31, (11, 19): 31, (41, 22): 31, (3, 13): 31, (22, 12): 31, (16, 2): 31, (21, 33): 31, (2, 19): 31, (23, 13): 31, (40, 38): 31, (30, 26): 31, (18, 20): 31, (30, 6): 30, (6, 21): 30, (25, 33): 30, (31, 16): 30, (41, 9): 30, (2, 15): 30, (26, 7): 30, (28, 12): 30, (27, 6): 30, (43, 10): 30, (27, 10): 30, (14, 31): 30, (39, 35): 30, (22, 39): 30, (8, 23): 30, (36, 30): 30, (43, 44): 30, (13, 42): 30, (36, 8): 30, (8, 24): 30, (37, 41): 30, (29, 13): 30, (9, 37): 30, (20, 18): 30, (18, 21): 30, (9, 46): 30, (48, 28): 30, (23, 10): 30, (33, 16): 30, (33, 34): 30, (42, 43): 30, (10, 46): 30, (3, 5): 29, (6, 27): 29, (27, 5): 29, (38, 22): 29, (42, 47): 29, (9, 42): 29, (28, 23): 29, (20, 27): 29, (32, 35): 29, (21, 37): 29, (13, 41): 29, (28, 11): 29, (40, 34): 29, (16, 36): 29, (42, 33): 29, (22, 37): 29, (42, 10): 29, (11, 13): 29, (27, 11): 29, (20, 21): 29, (28, 25): 29, (38, 9): 29, (7, 44): 29, (39, 5): 28, (40, 46): 28, (17, 2): 28, (17, 23): 28, (11, 42): 28, (5, 44): 28, (41, 8): 28, (39, 14): 28, (37, 46): 28, (20, 25): 28, (20, 24): 28, (15, 38): 28, (7, 7): 28, (23, 32): 28, (10, 39): 28, (37, 43): 28, (3, 21): 28, (14, 16): 28, (6, 20): 28, (35, 19): 28, (33, 11): 28, (43, 9): 27, (19, 4): 27, (35, 17): 27, (6, 7): 27, (37, 5): 27, (6, 37): 27, (23, 12): 27, (37, 45): 27, (19, 22): 27, (37, 8): 27, (42, 42): 27, (15, 19): 27, (44, 14): 27, (17, 38): 27, (9, 39): 27, (43, 32): 27, (40, 17): 27, (3, 15): 27, (22, 34): 27, (3, 14): 27, (5, 18): 27, (6, 45): 27, (28, 5): 26, (32, 1): 26, (31, 48): 26, (14, 38): 26, (30, 27): 26, (39, 36): 26, (7, 43): 26, (13, 43): 26, (15, 45): 26, (20, 4): 26, (18, 22): 26, (43, 42): 26, (29, 32): 26, (48, 22): 26, (10, 40): 26, (19, 38): 26, (38, 30): 26, (46, 13): 25, (11, 45): 25, (21, 18): 25, (24, 12): 25, (8, 39): 25, (41, 46): 25, (14, 21): 25, (10, 37): 25, (5, 20): 25, (31, 17): 25, (41, 45): 25, (7, 23): 25, (19, 23): 25, (29, 17): 25, (15, 36): 25, (31, 15): 24, (23, 47): 24, (6, 44): 24, (43, 46): 24, (19, 25): 24, (26, 40): 24, (20, 28): 24, (29, 14): 24, (27, 24): 24, (42, 35): 24, (17, 21): 24, (39, 30): 24, (11, 40): 24, (27, 40): 23, (18, 38): 23, (31, 18): 23, (40, 18): 23, (18, 19): 23, (10, 38): 22, (19, 27): 22, (42, 46): 22, (18, 23): 22, (36, 35): 22, (46, 15): 22, (10, 18): 22, (11, 46): 22, (32, 15): 21, (9, 38): 21, (24, 13): 21, (44, 29): 20, (6, 31): 19, (41, 34): 19, (19, 26): 17, (6, 43): 17, (43, 43): 14, (12, 42): 13, (17, 20): 12})\n"
        },
        {
         "data": {
          "image/png": "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",
          "text/plain": "<Figure size 640x480 with 1 Axes>"
         },
         "metadata": {},
         "output_type": "display_data"
        }
       ]
      }
     },
     "d3ccb1f5c60c4a47b2469fddc6d92e43": {
      "model_module": "@jupyter-widgets/controls",
      "model_module_version": "2.0.0",
      "model_name": "DescriptionStyleModel",
      "state": {
       "description_width": ""
      }
     },
     "d4209d72c4c447a399231548aaa33fa2": {
      "model_module": "@jupyter-widgets/output",
      "model_module_version": "1.0.0",
      "model_name": "OutputModel",
      "state": {
       "layout": "IPY_MODEL_82e646f55b404221bb54fce2eeb13cd4",
       "outputs": [
        {
         "data": {
          "image/png": "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",
          "text/plain": "<Figure size 640x480 with 1 Axes>"
         },
         "metadata": {},
         "output_type": "display_data"
        }
       ]
      }
     },
     "d435a051b5824957b63a9155a005e174": {
      "model_module": "@jupyter-widgets/controls",
      "model_module_version": "2.0.0",
      "model_name": "IntSliderModel",
      "state": {
       "behavior": "drag-tap",
       "description": "n",
       "layout": "IPY_MODEL_a6e1739fa3bc4e66924e7f0d33339bbf",
       "max": 247965,
       "min": 1,
       "style": "IPY_MODEL_081276b5ddd641f2b4aecdad5cd50f55",
       "value": 247965
      }
     },
     "d4e6a4982e5142ea8abf118d8f522098": {
      "model_module": "@jupyter-widgets/controls",
      "model_module_version": "2.0.0",
      "model_name": "HTMLModel",
      "state": {
       "layout": "IPY_MODEL_1429c3c50eb04462bacca2d01bb2c82c",
       "style": "IPY_MODEL_ea44172713164d9d90b5d1f4fa01bcc2",
       "value": "  0%"
      }
     },
     "d5145a3ff69c4da680a674d518cb7614": {
      "model_module": "@jupyter-widgets/base",
      "model_module_version": "2.0.0",
      "model_name": "LayoutModel",
      "state": {}
     },
     "d533f315a924473d9735a8640070067a": {
      "model_module": "@jupyter-widgets/controls",
      "model_module_version": "2.0.0",
      "model_name": "IntSliderModel",
      "state": {
       "behavior": "drag-tap",
       "description": "n",
       "layout": "IPY_MODEL_638c259eb6b046e5b80f33a409e919b7",
       "max": 430263,
       "min": 1,
       "style": "IPY_MODEL_1fb0e759181e4cc6a231d6766acc80a9",
       "value": 392094
      }
     },
     "dc558cedd67f40669ca1bf21cebf4494": {
      "model_module": "@jupyter-widgets/controls",
      "model_module_version": "2.0.0",
      "model_name": "DropdownModel",
      "state": {
       "_options_labels": [
        "1",
        "2",
        "3",
        "4"
       ],
       "description": "n",
       "index": 3,
       "layout": "IPY_MODEL_c3c10ae6864d499f892d16e6bd5177f5",
       "style": "IPY_MODEL_b67b909f50e64c71857f24092095617e"
      }
     },
     "dc6f2c05f83d4157a85c94e7ba1d798f": {
      "model_module": "@jupyter-widgets/controls",
      "model_module_version": "2.0.0",
      "model_name": "IntSliderModel",
      "state": {
       "behavior": "drag-tap",
       "description": "n",
       "layout": "IPY_MODEL_ee44967b61a6466b9d8d22328894abf3",
       "max": 244014,
       "min": 1,
       "style": "IPY_MODEL_16d1ccffec92491b9de98d94a93813d1",
       "value": 122007
      }
     },
     "dcd12c53572b490a8bc0e95ce41cda9e": {
      "model_module": "@jupyter-widgets/base",
      "model_module_version": "2.0.0",
      "model_name": "LayoutModel",
      "state": {}
     },
     "dcdfba9ea045400eb18c504554208fce": {
      "model_module": "@jupyter-widgets/output",
      "model_module_version": "1.0.0",
      "model_name": "OutputModel",
      "state": {
       "layout": "IPY_MODEL_3789897ca5814a4a9c5930e6b0a145f1",
       "outputs": [
        {
         "name": "stdout",
         "output_type": "stream",
         "text": "Counter({(7, 3): 1, (5, 5): 1})\n"
        },
        {
         "data": {
          "image/png": "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",
          "text/plain": "<Figure size 640x480 with 1 Axes>"
         },
         "metadata": {},
         "output_type": "display_data"
        }
       ]
      }
     },
     "de204f4d60424e7fb08391cf12b5cbfb": {
      "model_module": "@jupyter-widgets/output",
      "model_module_version": "1.0.0",
      "model_name": "OutputModel",
      "state": {
       "layout": "IPY_MODEL_64ad767cfd21413e979d00a85c043f07",
       "outputs": [
        {
         "data": {
          "image/png": "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",
          "text/plain": "<Figure size 640x480 with 1 Axes>"
         },
         "metadata": {},
         "output_type": "display_data"
        }
       ]
      }
     },
     "e3e75c9248b343f3b0078513e4b1ff3d": {
      "model_module": "@jupyter-widgets/controls",
      "model_module_version": "2.0.0",
      "model_name": "HTMLStyleModel",
      "state": {
       "description_width": "",
       "font_size": null,
       "text_color": null
      }
     },
     "e43ea6d2ac77419da73a1dccd301c60f": {
      "model_module": "@jupyter-widgets/output",
      "model_module_version": "1.0.0",
      "model_name": "OutputModel",
      "state": {
       "layout": "IPY_MODEL_a25df4f3de784da9b268cbbea1f6914a",
       "outputs": [
        {
         "data": {
          "image/png": "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",
          "text/plain": "<Figure size 640x480 with 1 Axes>"
         },
         "metadata": {},
         "output_type": "display_data"
        }
       ]
      }
     },
     "e47f5d2eb3be40ab954a0ce10ec792bf": {
      "model_module": "@jupyter-widgets/controls",
      "model_module_version": "2.0.0",
      "model_name": "SliderStyleModel",
      "state": {
       "description_width": ""
      }
     },
     "e5cf26e9e4cd4b909937bc49978e55b7": {
      "model_module": "@jupyter-widgets/controls",
      "model_module_version": "2.0.0",
      "model_name": "HTMLStyleModel",
      "state": {
       "description_width": "",
       "font_size": null,
       "text_color": null
      }
     },
     "e677fd5b793045dc9166d5bc3fbe143c": {
      "model_module": "@jupyter-widgets/controls",
      "model_module_version": "2.0.0",
      "model_name": "ProgressStyleModel",
      "state": {
       "description_width": ""
      }
     },
     "e6d7abcca97a45e8b9ec69129fe58dd6": {
      "model_module": "@jupyter-widgets/controls",
      "model_module_version": "2.0.0",
      "model_name": "HTMLModel",
      "state": {
       "layout": "IPY_MODEL_1c5f55394bea4467b17a5b519394dece",
       "style": "IPY_MODEL_51896b6f50ea4d818dbc7dc68ce3ba64",
       "value": "100%"
      }
     },
     "e83d4659085c43dab122a64f78ba1c49": {
      "model_module": "@jupyter-widgets/base",
      "model_module_version": "2.0.0",
      "model_name": "LayoutModel",
      "state": {}
     },
     "ea44172713164d9d90b5d1f4fa01bcc2": {
      "model_module": "@jupyter-widgets/controls",
      "model_module_version": "2.0.0",
      "model_name": "HTMLStyleModel",
      "state": {
       "description_width": "",
       "font_size": null,
       "text_color": null
      }
     },
     "ec815a9c32ff40c09e948721d5a0fa31": {
      "model_module": "@jupyter-widgets/controls",
      "model_module_version": "2.0.0",
      "model_name": "IntSliderModel",
      "state": {
       "behavior": "drag-tap",
       "description": "n",
       "layout": "IPY_MODEL_c5657277031b408183f9ae734315d53c",
       "max": 242902,
       "min": 1,
       "style": "IPY_MODEL_0e797565543c44c9a09aa92695561afc",
       "value": 121451
      }
     },
     "ed36dadee12b416486990ba021380f95": {
      "model_module": "@jupyter-widgets/controls",
      "model_module_version": "2.0.0",
      "model_name": "DescriptionStyleModel",
      "state": {
       "description_width": ""
      }
     },
     "eda6c3b769ce40649625bd2fdc06953f": {
      "model_module": "@jupyter-widgets/base",
      "model_module_version": "2.0.0",
      "model_name": "LayoutModel",
      "state": {}
     },
     "ee44967b61a6466b9d8d22328894abf3": {
      "model_module": "@jupyter-widgets/base",
      "model_module_version": "2.0.0",
      "model_name": "LayoutModel",
      "state": {}
     },
     "ee6dea8fd4d54376af177983b8aebd58": {
      "model_module": "@jupyter-widgets/base",
      "model_module_version": "2.0.0",
      "model_name": "LayoutModel",
      "state": {}
     },
     "eef513218b404dc7986f25e1899a3d55": {
      "model_module": "@jupyter-widgets/controls",
      "model_module_version": "2.0.0",
      "model_name": "VBoxModel",
      "state": {
       "_dom_classes": [
        "widget-interact"
       ],
       "children": [
        "IPY_MODEL_d533f315a924473d9735a8640070067a",
        "IPY_MODEL_7ace7443e0bf4c458303ba7eecaa4bd6"
       ],
       "layout": "IPY_MODEL_8bc78150148c4359a8d3db4b7da8a850"
      }
     },
     "ef3f6c9633d946168fd3247bc7930fe3": {
      "model_module": "@jupyter-widgets/controls",
      "model_module_version": "2.0.0",
      "model_name": "VBoxModel",
      "state": {
       "_dom_classes": [
        "widget-interact"
       ],
       "children": [
        "IPY_MODEL_fa13ee1d6a1a4c13aca2e7694f46d1a1",
        "IPY_MODEL_79ede340ad36434fb4e7f1f97a77ab49"
       ],
       "layout": "IPY_MODEL_4e0a01d7a8854e869127525e09140af5"
      }
     },
     "f0de7f300f45479e9e195a320e06b474": {
      "model_module": "@jupyter-widgets/base",
      "model_module_version": "2.0.0",
      "model_name": "LayoutModel",
      "state": {}
     },
     "f116064006c54b1cac3a5f3e6bed6ddc": {
      "model_module": "@jupyter-widgets/controls",
      "model_module_version": "2.0.0",
      "model_name": "SliderStyleModel",
      "state": {
       "description_width": ""
      }
     },
     "f1363f870f1249eeba0ed0ff8ed79e5d": {
      "model_module": "@jupyter-widgets/base",
      "model_module_version": "2.0.0",
      "model_name": "LayoutModel",
      "state": {}
     },
     "f1fe11fda4784275a88a6985afad6ed6": {
      "model_module": "@jupyter-widgets/base",
      "model_module_version": "2.0.0",
      "model_name": "LayoutModel",
      "state": {}
     },
     "f4339cdb0aba403695446f0e01119734": {
      "model_module": "@jupyter-widgets/output",
      "model_module_version": "1.0.0",
      "model_name": "OutputModel",
      "state": {
       "layout": "IPY_MODEL_3968999c6e0544adb21f5b3910497073",
       "outputs": [
        {
         "ename": "NameError",
         "evalue": "name 'S01' is not defined",
         "output_type": "error",
         "traceback": [
          "\u001b[0;31m---------------------------------------------------------------------------\u001b[0m",
          "\u001b[0;31mNameError\u001b[0m                                 Traceback (most recent call last)",
          "File \u001b[0;32m~/.local/lib/python3.10/site-packages/ipywidgets/widgets/interaction.py:239\u001b[0m, in \u001b[0;36minteractive.update\u001b[0;34m(self, *args)\u001b[0m\n\u001b[1;32m    237\u001b[0m     value \u001b[38;5;241m=\u001b[39m widget\u001b[38;5;241m.\u001b[39mget_interact_value()\n\u001b[1;32m    238\u001b[0m     \u001b[38;5;28mself\u001b[39m\u001b[38;5;241m.\u001b[39mkwargs[widget\u001b[38;5;241m.\u001b[39m_kwarg] \u001b[38;5;241m=\u001b[39m value\n\u001b[0;32m--> 239\u001b[0m \u001b[38;5;28mself\u001b[39m\u001b[38;5;241m.\u001b[39mresult \u001b[38;5;241m=\u001b[39m \u001b[38;5;28;43mself\u001b[39;49m\u001b[38;5;241;43m.\u001b[39;49m\u001b[43mf\u001b[49m\u001b[43m(\u001b[49m\u001b[38;5;241;43m*\u001b[39;49m\u001b[38;5;241;43m*\u001b[39;49m\u001b[38;5;28;43mself\u001b[39;49m\u001b[38;5;241;43m.\u001b[39;49m\u001b[43mkwargs\u001b[49m\u001b[43m)\u001b[49m\n\u001b[1;32m    240\u001b[0m show_inline_matplotlib_plots()\n\u001b[1;32m    241\u001b[0m \u001b[38;5;28;01mif\u001b[39;00m \u001b[38;5;28mself\u001b[39m\u001b[38;5;241m.\u001b[39mauto_display \u001b[38;5;129;01mand\u001b[39;00m \u001b[38;5;28mself\u001b[39m\u001b[38;5;241m.\u001b[39mresult \u001b[38;5;129;01mis\u001b[39;00m \u001b[38;5;129;01mnot\u001b[39;00m \u001b[38;5;28;01mNone\u001b[39;00m:\n",
          "Cell \u001b[0;32mIn[145], line 10\u001b[0m, in \u001b[0;36mplot_state\u001b[0;34m(n)\u001b[0m\n\u001b[1;32m      8\u001b[0m \u001b[38;5;66;03m#C[rows, cols] *= -1\u001b[39;00m\n\u001b[1;32m      9\u001b[0m S0[rows, cols] \u001b[38;5;241m*\u001b[39m\u001b[38;5;241m=\u001b[39m \u001b[38;5;241m-\u001b[39m\u001b[38;5;241m1\u001b[39m\n\u001b[0;32m---> 10\u001b[0m plt\u001b[38;5;241m.\u001b[39mspy(\u001b[43mS01\u001b[49m)\n",
          "\u001b[0;31mNameError\u001b[0m: name 'S01' is not defined"
         ]
        }
       ]
      }
     },
     "f4d36ed182334603a5e142db8c9dfbb3": {
      "model_module": "@jupyter-widgets/controls",
      "model_module_version": "2.0.0",
      "model_name": "HBoxModel",
      "state": {
       "children": [
        "IPY_MODEL_f6e8a498e00d41898160bf0dc997e149",
        "IPY_MODEL_4ce2659276fb44efa0daf1dc1cc9157f",
        "IPY_MODEL_55af2b8998034cf7becf5806da8b1c51"
       ],
       "layout": "IPY_MODEL_78486f1afdff48ce88686311de64452c"
      }
     },
     "f6e8a498e00d41898160bf0dc997e149": {
      "model_module": "@jupyter-widgets/controls",
      "model_module_version": "2.0.0",
      "model_name": "HTMLModel",
      "state": {
       "layout": "IPY_MODEL_f745649935c444eaac123a6980a0ad71",
       "style": "IPY_MODEL_6136276a94034470a9bbb002b059a3fd",
       "value": "  0%"
      }
     },
     "f6f9caaee9394845ae9c6dc374dbece1": {
      "model_module": "@jupyter-widgets/output",
      "model_module_version": "1.0.0",
      "model_name": "OutputModel",
      "state": {
       "layout": "IPY_MODEL_06ed469d08bb43d9b31e5e423f7f12bd",
       "outputs": [
        {
         "data": {
          "image/png": "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",
          "text/plain": "<Figure size 640x480 with 1 Axes>"
         },
         "metadata": {},
         "output_type": "display_data"
        }
       ]
      }
     },
     "f745649935c444eaac123a6980a0ad71": {
      "model_module": "@jupyter-widgets/base",
      "model_module_version": "2.0.0",
      "model_name": "LayoutModel",
      "state": {}
     },
     "f78e1fd3ed4d48a98bf667073a370855": {
      "model_module": "@jupyter-widgets/controls",
      "model_module_version": "2.0.0",
      "model_name": "HTMLStyleModel",
      "state": {
       "description_width": "",
       "font_size": null,
       "text_color": null
      }
     },
     "f862f2457f7a4f089cacfbe81be821b0": {
      "model_module": "@jupyter-widgets/base",
      "model_module_version": "2.0.0",
      "model_name": "LayoutModel",
      "state": {}
     },
     "f9c14975eaf0459db1c87b15eb8ff0c3": {
      "model_module": "@jupyter-widgets/output",
      "model_module_version": "1.0.0",
      "model_name": "OutputModel",
      "state": {
       "layout": "IPY_MODEL_c15a1417061348cfb5b35ee3448ae910",
       "outputs": [
        {
         "data": {
          "image/png": "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",
          "text/plain": "<Figure size 640x480 with 1 Axes>"
         },
         "metadata": {},
         "output_type": "display_data"
        }
       ]
      }
     },
     "fa13ee1d6a1a4c13aca2e7694f46d1a1": {
      "model_module": "@jupyter-widgets/controls",
      "model_module_version": "2.0.0",
      "model_name": "DropdownModel",
      "state": {
       "_options_labels": [
        "1",
        "2",
        "3",
        "4"
       ],
       "description": "n",
       "index": 2,
       "layout": "IPY_MODEL_16a16e9082a645099bd0f02e89a6f0da",
       "style": "IPY_MODEL_afcf597eb23c4a69a373bfd72ab4357d"
      }
     },
     "fb9536a64aad4c28ab74fd3e92b934b4": {
      "model_module": "@jupyter-widgets/controls",
      "model_module_version": "2.0.0",
      "model_name": "VBoxModel",
      "state": {
       "_dom_classes": [
        "widget-interact"
       ],
       "children": [
        "IPY_MODEL_7003d02916bd43fcaa6c98c9f952ce85",
        "IPY_MODEL_01379f9280924633b0b28b4bb24fe73b"
       ],
       "layout": "IPY_MODEL_a502d5d16f7545c8b403aaecb480eb93"
      }
     },
     "fe69d83530ec4cbfa21a09c39f02e561": {
      "model_module": "@jupyter-widgets/controls",
      "model_module_version": "2.0.0",
      "model_name": "FloatProgressModel",
      "state": {
       "bar_style": "success",
       "layout": "IPY_MODEL_34db6e57843a4e7688352467e6f286c1",
       "max": 10,
       "style": "IPY_MODEL_79bb0dff024144588c2a4f90ce8ae716",
       "value": 10
      }
     },
     "feb844553955418f953045810be0c8a4": {
      "model_module": "@jupyter-widgets/controls",
      "model_module_version": "2.0.0",
      "model_name": "VBoxModel",
      "state": {
       "_dom_classes": [
        "widget-interact"
       ],
       "children": [
        "IPY_MODEL_dc558cedd67f40669ca1bf21cebf4494",
        "IPY_MODEL_ad2c6f1fae1b42a5ab54e101643c7061"
       ],
       "layout": "IPY_MODEL_a666ce8110c8479f9e8bb03d04a917f6"
      }
     },
     "ff4e9c1c037e4ff6aa815937c8d7bf3e": {
      "model_module": "@jupyter-widgets/base",
      "model_module_version": "2.0.0",
      "model_name": "LayoutModel",
      "state": {}
     }
    },
    "version_major": 2,
    "version_minor": 0
   }
  }
 },
 "nbformat": 4,
 "nbformat_minor": 5
}
