{
 "cells": [
  {
   "cell_type": "markdown",
   "metadata": {},
   "source": [
    "**Data Science and AI for Energy Systems** \n",
    "\n",
    "Karlsruhe Institute of Technology\n",
    "\n",
    "Institute of Automation and Applied Informatics\n",
    "\n",
    "Summer Term 2024\n",
    "\n",
    "---"
   ]
  },
  {
   "cell_type": "markdown",
   "metadata": {},
   "source": [
    "# Exercise II: Energy System Modeling - Solution"
   ]
  },
  {
   "cell_type": "markdown",
   "metadata": {},
   "source": [
    "**Imports**"
   ]
  },
  {
   "cell_type": "code",
   "execution_count": null,
   "metadata": {},
   "outputs": [],
   "source": [
    "import pypsa\n",
    "import numpy as np\n",
    "import pandas as pd\n",
    "import matplotlib.pyplot as plt\n",
    "plt.style.use('bmh')\n",
    "%matplotlib inline"
   ]
  },
  {
   "cell_type": "markdown",
   "metadata": {},
   "source": [
    "## Problem II.2 (programming) - Storage Optimization with PyPSA"
   ]
  },
  {
   "cell_type": "markdown",
   "metadata": {},
   "source": [
    "Python for Power System Analysis (PyPSA) is a free software toolbox for optimising modern power systems that include features such as variable wind and solar generation, storage units, etc..\n",
    "\n",
    "Use the toolbox to extend on your findings in Problem II.1."
   ]
  },
  {
   "cell_type": "markdown",
   "metadata": {},
   "source": [
    "***\n",
    "**(a) Build a network in PyPSA with the two buses North and South and attach the load at each bus and attach the wind and solar generators with availability according to $g^N_w(t) = c_w(1+A_w\\sin \\omega_w t)$ and $g^S_s(t) = c_s(1+A_s\\sin \\omega_s t)$ for a year (you have to call `network.set_snapshots` to select a year) and with `p_nom_extendable=True`.**\n",
    "\n",
    "> **Remarks:** For time reasons, you do not have to build the network from scratch. However, to get you acquainted with PyPSA we have omitted a few elements or some of the parameters of the network marked by three question marks `???`. Either, you have to add an element similar to the one in the box above or add a few parameters."
   ]
  },
  {
   "cell_type": "code",
   "execution_count": null,
   "metadata": {},
   "outputs": [],
   "source": [
    "network = pypsa.Network()"
   ]
  },
  {
   "cell_type": "markdown",
   "metadata": {},
   "source": [
    "Add North and South bus"
   ]
  },
  {
   "cell_type": "code",
   "execution_count": null,
   "metadata": {},
   "outputs": [],
   "source": [
    "network.add(\"Bus\",\n",
    "            \"North\",\n",
    "            carrier=\"AC\")"
   ]
  },
  {
   "cell_type": "code",
   "execution_count": null,
   "metadata": {},
   "outputs": [],
   "source": [
    "network.add(\"Bus\",\n",
    "            \"South\",\n",
    "            carrier=\"AC\")"
   ]
  },
  {
   "cell_type": "markdown",
   "metadata": {},
   "source": [
    "Attach constant load"
   ]
  },
  {
   "cell_type": "code",
   "execution_count": null,
   "metadata": {},
   "outputs": [],
   "source": [
    "network.add(\"Load\",\n",
    "            \"North Load\",\n",
    "            bus=\"North\",\n",
    "            p_set=20e3)"
   ]
  },
  {
   "cell_type": "code",
   "execution_count": null,
   "metadata": {},
   "outputs": [],
   "source": [
    "network.add(\"Load\",\n",
    "            \"South Load\",\n",
    "            bus=\"South\",\n",
    "            p_set=30e3)"
   ]
  },
  {
   "cell_type": "markdown",
   "metadata": {},
   "source": [
    "Attach renewable generators according to given parameters"
   ]
  },
  {
   "cell_type": "code",
   "execution_count": null,
   "metadata": {},
   "outputs": [],
   "source": [
    "# use a month instead of a year in this exercise for faster optimization\n",
    "network.set_snapshots(np.arange(0, 4*7*24))\n",
    "# network.set_snapshots(np.arange(0, 365*24))"
   ]
  },
  {
   "cell_type": "code",
   "execution_count": null,
   "metadata": {},
   "outputs": [],
   "source": [
    "Cfw = 0.3\n",
    "Aw = 0.9\n",
    "omegaw = 2*np.pi/(7*24)\n",
    "\n",
    "Cfs = 0.12\n",
    "As = 1.\n",
    "omegas = 2*np.pi/24\n",
    "\n",
    "GNwt = Cfw * (1+Aw*np.sin(omegaw*network.snapshots.to_series()))\n",
    "GSst = Cfs * (1+As*np.sin(omegas*network.snapshots.to_series()))"
   ]
  },
  {
   "cell_type": "code",
   "execution_count": null,
   "metadata": {},
   "outputs": [],
   "source": [
    "pd.concat([GNwt, GSst], keys=['wind', 'solar'], axis=1).loc[:4*7*24].plot()"
   ]
  },
  {
   "cell_type": "code",
   "execution_count": null,
   "metadata": {},
   "outputs": [],
   "source": [
    "network.add(\"Generator\",\n",
    "            \"Wind\",\n",
    "            bus=\"North\",\n",
    "            p_nom_extendable=True,\n",
    "            capital_cost=1.2e6,\n",
    "            p_max_pu=GNwt)"
   ]
  },
  {
   "cell_type": "code",
   "execution_count": null,
   "metadata": {},
   "outputs": [],
   "source": [
    "network.add(\"Generator\",\n",
    "            \"Solar\",\n",
    "            bus=\"South\",\n",
    "            p_nom_extendable=True,\n",
    "            capital_cost=0.6e6,\n",
    "            p_max_pu=GSst)"
   ]
  },
  {
   "cell_type": "markdown",
   "metadata": {},
   "source": [
    "***\n",
    "**(b) Attach extendable storage units at the North and the South! The storages have to be modelled as an `H2-bus` (a bus with `carrier='H2'`) linked to the `AC-bus` North with a `Link` where `p_nom_extendable=True` with the `capital_cost` (in currency/MW) of the power capacity and an also extendable `Store` with the `capital_cost` (in currency/MWh) of the energy capacity, for instance. The losses can be set on the links as `efficiency`.**"
   ]
  },
  {
   "cell_type": "code",
   "execution_count": null,
   "metadata": {},
   "outputs": [],
   "source": [
    "for bus in [\"North\", \"South\"]:\n",
    "    \n",
    "    # H2 storage\n",
    "    network.add(\"Bus\",\n",
    "                bus + \" H2\",\n",
    "                carrier=\"H2\")\n",
    "    \n",
    "    network.add(\"Store\",\n",
    "                bus + \" H2 St.\",\n",
    "                bus=bus + \" H2\",\n",
    "                e_nom_extendable=True,\n",
    "                capital_cost=10e3)\n",
    "    \n",
    "    network.add(\"Link\",\n",
    "                bus + \"->H2\",\n",
    "                bus0=bus, bus1=bus + \" H2\",\n",
    "                p_nom_extendable=True,\n",
    "                capital_cost=0.3e6,\n",
    "                efficiency=0.75)\n",
    "    \n",
    "    network.add(\"Link\",\n",
    "                \"H2->\" + bus,\n",
    "                bus0=bus + \" H2\", bus1=bus,\n",
    "                p_nom_extendable=True,\n",
    "                capital_cost=0.45e6,\n",
    "                efficiency=0.405)\n",
    "    \n",
    "    # Battery storage\n",
    "    network.add(\"Bus\",\n",
    "                bus + \" Battery\",\n",
    "                carrier=\"Battery\")\n",
    "    \n",
    "    network.add(\"Store\",\n",
    "                bus + \" Battery St.\",\n",
    "                bus=bus + \" Battery\",\n",
    "                e_nom_extendable=True,\n",
    "                capital_cost=0.2e6)\n",
    "    \n",
    "    network.add(\"Link\",\n",
    "                bus + \"->Battery\",\n",
    "                bus0=bus, bus1=bus + \" Battery\",\n",
    "                p_nom_extendable=True,\n",
    "                capital_cost=0.15e6,\n",
    "                efficiency=0.9)\n",
    "    \n",
    "    network.add(\"Link\",\n",
    "                \"Battery->\" + bus,\n",
    "                bus0=bus + \" Battery\", bus1=bus,\n",
    "                p_nom_extendable=True,\n",
    "                capital_cost=0.15e6,\n",
    "                efficiency=0.9)"
   ]
  },
  {
   "cell_type": "code",
   "execution_count": null,
   "metadata": {},
   "outputs": [],
   "source": [
    "network"
   ]
  },
  {
   "cell_type": "markdown",
   "metadata": {},
   "source": [
    "***\n",
    "**(c) Run an investment optimization by calling the `optimize` function.**"
   ]
  },
  {
   "cell_type": "code",
   "execution_count": null,
   "metadata": {},
   "outputs": [],
   "source": [
    "network.optimize()"
   ]
  },
  {
   "cell_type": "markdown",
   "metadata": {},
   "source": [
    "***\n",
    "**(d) How do your results `objective` and `{generators,stores,links}.p_nom_opt` compare with the results of III.1(d)?** "
   ]
  },
  {
   "cell_type": "markdown",
   "metadata": {},
   "source": [
    "Objective value"
   ]
  },
  {
   "cell_type": "code",
   "execution_count": null,
   "metadata": {},
   "outputs": [],
   "source": [
    "obj_v1 = network.objective / 1e9 # Mio. Euro\n",
    "obj_v1"
   ]
  },
  {
   "cell_type": "code",
   "execution_count": null,
   "metadata": {},
   "outputs": [],
   "source": [
    "network.generators"
   ]
  },
  {
   "cell_type": "markdown",
   "metadata": {},
   "source": [
    "Capacities for wind and solar."
   ]
  },
  {
   "cell_type": "code",
   "execution_count": null,
   "metadata": {},
   "outputs": [],
   "source": [
    "res_cap_v1 = network.generators.p_nom_opt / 1e3 # GW\n",
    "res_cap_v1 "
   ]
  },
  {
   "cell_type": "markdown",
   "metadata": {},
   "source": [
    "Store and dispatch power capacity."
   ]
  },
  {
   "cell_type": "code",
   "execution_count": null,
   "metadata": {},
   "outputs": [],
   "source": [
    "sto_cap_v1 = network.links.p_nom_opt / 1e3 # GW\n",
    "sto_cap_v1 "
   ]
  },
  {
   "cell_type": "markdown",
   "metadata": {},
   "source": [
    "Energy capacities."
   ]
  },
  {
   "cell_type": "code",
   "execution_count": null,
   "metadata": {},
   "outputs": [],
   "source": [
    "sto_engy_v1 = network.stores.e_nom_opt / 1e6 # TWh\n",
    "sto_engy_v1"
   ]
  },
  {
   "cell_type": "markdown",
   "metadata": {},
   "source": [
    "Plot the storage energy states over time"
   ]
  },
  {
   "cell_type": "code",
   "execution_count": null,
   "metadata": {},
   "outputs": [],
   "source": [
    "network.stores_t.e.plot()"
   ]
  },
  {
   "cell_type": "markdown",
   "metadata": {},
   "source": [
    "***\n",
    "**(e) Now we lift the restriction against transmission and allow North and South to bridge their 500 km\n",
    "separation with a transmission line. How does the cost optimal technology mix change?**"
   ]
  },
  {
   "cell_type": "markdown",
   "metadata": {},
   "source": [
    "Add extendable link between North and South: "
   ]
  },
  {
   "cell_type": "code",
   "execution_count": null,
   "metadata": {},
   "outputs": [],
   "source": [
    "network.add(\"Link\",\n",
    "            \"North<->South\",\n",
    "            bus0=\"North\", bus1=\"South\",\n",
    "            p_min_pu=-1,\n",
    "            p_nom_extendable=True,\n",
    "            capital_cost=0.2e6)"
   ]
  },
  {
   "cell_type": "markdown",
   "metadata": {},
   "source": [
    "Run optimization:"
   ]
  },
  {
   "cell_type": "code",
   "execution_count": null,
   "metadata": {},
   "outputs": [],
   "source": [
    "# network.lopf(solver_name=solver)\n",
    "network.optimize()"
   ]
  },
  {
   "cell_type": "markdown",
   "metadata": {},
   "source": [
    "Get the results `objective` and `{generators,stores,links}.p_nom_opt` with real availability:"
   ]
  },
  {
   "cell_type": "code",
   "execution_count": null,
   "metadata": {},
   "outputs": [],
   "source": [
    "obj_v2 = network.objective / 1e9 # Mio. Euro\n",
    "obj_v2"
   ]
  },
  {
   "cell_type": "code",
   "execution_count": null,
   "metadata": {},
   "outputs": [],
   "source": [
    "# (a) Capacities for wind and solar.\n",
    "res_cap_v2 = network.generators.p_nom_opt / 1e3  # GW\n",
    "res_cap_v2"
   ]
  },
  {
   "cell_type": "code",
   "execution_count": null,
   "metadata": {},
   "outputs": [],
   "source": [
    "# (b) Store and dispatch power capacity.\n",
    "sto_cap_v2 = network.links.p_nom_opt / 1e3 # GW\n",
    "sto_cap_v2"
   ]
  },
  {
   "cell_type": "code",
   "execution_count": null,
   "metadata": {},
   "outputs": [],
   "source": [
    "# (c) Energy capacities\n",
    "sto_engy_v2 = network.stores.e_nom_opt / 1e6 # TWh\n",
    "sto_engy_v2"
   ]
  },
  {
   "cell_type": "code",
   "execution_count": null,
   "metadata": {},
   "outputs": [],
   "source": [
    "network.stores_t.e.plot()"
   ]
  },
  {
   "cell_type": "markdown",
   "metadata": {},
   "source": [
    "***\n",
    "**(f) Replace the approximated availability time-series of the wind and the solar generators with the ones from `availability.csv` computed from reanalysis weather data and re-run the LOPF. Compare the results! Explain the differences by looking at the cumulative variations relative to the mean of the availability time-series!**"
   ]
  },
  {
   "cell_type": "markdown",
   "metadata": {},
   "source": [
    "Adapt the network to new availabiltiy data:"
   ]
  },
  {
   "cell_type": "code",
   "execution_count": null,
   "metadata": {},
   "outputs": [],
   "source": [
    "network.remove(\"Generator\", \"Wind\")\n",
    "network.remove(\"Generator\", \"Solar\")"
   ]
  },
  {
   "cell_type": "code",
   "execution_count": null,
   "metadata": {},
   "outputs": [],
   "source": [
    "availability = pd.read_csv(\"data/availability.csv\", index_col=0, parse_dates=True)\n",
    "availability.head()"
   ]
  },
  {
   "cell_type": "code",
   "execution_count": null,
   "metadata": {},
   "outputs": [],
   "source": [
    "availability.loc[\"2012-7\"].plot()"
   ]
  },
  {
   "cell_type": "code",
   "execution_count": null,
   "metadata": {},
   "outputs": [],
   "source": [
    "availability.loc[\"2012-7\"].index"
   ]
  },
  {
   "cell_type": "code",
   "execution_count": null,
   "metadata": {},
   "outputs": [],
   "source": [
    "network.set_snapshots(availability.loc[\"2012-7\"].index)"
   ]
  },
  {
   "cell_type": "code",
   "execution_count": null,
   "metadata": {},
   "outputs": [],
   "source": [
    "network.add(\"Generator\",\n",
    "            \"Wind\",\n",
    "            bus=\"North\",\n",
    "            p_nom_extendable=True,\n",
    "            capital_cost=1.2e6,\n",
    "            p_max_pu=availability[\"wind\"])"
   ]
  },
  {
   "cell_type": "code",
   "execution_count": null,
   "metadata": {},
   "outputs": [],
   "source": [
    "network.add(\"Generator\",\n",
    "            \"Solar\",\n",
    "            bus=\"South\",\n",
    "            p_nom_extendable=True,\n",
    "            capital_cost=0.6e6,\n",
    "            p_max_pu=availability[\"solar\"])"
   ]
  },
  {
   "cell_type": "markdown",
   "metadata": {},
   "source": [
    "Run optimization:"
   ]
  },
  {
   "cell_type": "code",
   "execution_count": null,
   "metadata": {},
   "outputs": [],
   "source": [
    "network.optimize()"
   ]
  },
  {
   "cell_type": "markdown",
   "metadata": {},
   "source": [
    "Get the results `objective` and `{generators,stores,links}.p_nom_opt` with real availability:"
   ]
  },
  {
   "cell_type": "code",
   "execution_count": null,
   "metadata": {},
   "outputs": [],
   "source": [
    "obj_v3 = network.objective / 1e9 # Mio. Euro\n",
    "obj_v3"
   ]
  },
  {
   "cell_type": "code",
   "execution_count": null,
   "metadata": {},
   "outputs": [],
   "source": [
    "# (a) Capacities for wind and solar.\n",
    "res_cap_v3 = network.generators.p_nom_opt / 1e3\n",
    "res_cap_v3"
   ]
  },
  {
   "cell_type": "code",
   "execution_count": null,
   "metadata": {},
   "outputs": [],
   "source": [
    "# (b) Store and dispatch power capacity.\n",
    "sto_cap_v3 = network.links.p_nom_opt / 1e3\n",
    "sto_cap_v3"
   ]
  },
  {
   "cell_type": "code",
   "execution_count": null,
   "metadata": {},
   "outputs": [],
   "source": [
    "# (c) Energy capacities\n",
    "sto_engy_v3 = network.stores.e_nom_opt / 1e6\n",
    "sto_engy_v3"
   ]
  },
  {
   "cell_type": "code",
   "execution_count": null,
   "metadata": {},
   "outputs": [],
   "source": [
    "network.stores_t.e.plot()"
   ]
  },
  {
   "cell_type": "code",
   "execution_count": null,
   "metadata": {},
   "outputs": [],
   "source": [
    "np.cumsum(availability.loc[\"2012-7\"] - availability.loc[\"2012-7\"].mean()).plot()"
   ]
  },
  {
   "cell_type": "markdown",
   "metadata": {},
   "source": [
    "***\n",
    "**(g) Compare all results for all three scenarios in terms of total system cost, renewable generation capacity, storage power capacity and storage energy capacity!**\n",
    "\n",
    "> **Remark:** For example, you can use bar charts `plt.bar(...)` or `df.plot.bar()` to visualize the differences."
   ]
  },
  {
   "cell_type": "code",
   "execution_count": null,
   "metadata": {},
   "outputs": [],
   "source": [
    "scens = [\"without transmission\",\n",
    "         \"with transmission\",\n",
    "         \"with real data and transmission\"]\n",
    "\n",
    "attrs = [\"storage power capacity\",\n",
    "         \"storage energy capacity\",\n",
    "         \"renewable capacity\"]"
   ]
  },
  {
   "cell_type": "code",
   "execution_count": null,
   "metadata": {},
   "outputs": [],
   "source": [
    "sto_cap_v1.name = attrs[0] + \" \" + scens[0]\n",
    "sto_cap_v2.name = attrs[0] + \" \" + scens[1]\n",
    "sto_cap_v3.name = attrs[0] + \" \" + scens[2]\n",
    "\n",
    "res_cap_v1.name = attrs[1] + \" \" + scens[0]\n",
    "res_cap_v2.name = attrs[1] + \" \" + scens[1]\n",
    "res_cap_v3.name = attrs[1] + \" \" + scens[2]\n",
    "\n",
    "sto_engy_v1.name = attrs[2] + \" \" + scens[0]\n",
    "sto_engy_v2.name = attrs[2] + \" \" + scens[1]\n",
    "sto_engy_v3.name = attrs[2] + \" \" + scens[2]"
   ]
  },
  {
   "cell_type": "code",
   "execution_count": null,
   "metadata": {},
   "outputs": [],
   "source": [
    "values = [obj_v1, obj_v2, obj_v3]\n",
    "plt.bar(scens,values)\n",
    "plt.ylabel('Mio. Euro')\n",
    "plt.show()"
   ]
  },
  {
   "cell_type": "code",
   "execution_count": null,
   "metadata": {},
   "outputs": [],
   "source": [
    "sto_caps = pd.concat([sto_cap_v1,sto_cap_v2,sto_cap_v3], axis=1, sort=False)\n",
    "sto_caps.plot.bar()"
   ]
  },
  {
   "cell_type": "code",
   "execution_count": null,
   "metadata": {},
   "outputs": [],
   "source": [
    "res_caps = pd.concat([res_cap_v1,res_cap_v2,res_cap_v3], axis=1, sort=False)\n",
    "res_caps.plot.bar()"
   ]
  },
  {
   "cell_type": "markdown",
   "metadata": {},
   "source": [
    "## Problem II.3 (programming) - Meshed AC-DC Network"
   ]
  },
  {
   "cell_type": "markdown",
   "metadata": {},
   "source": [
    "We now turn to a slightly bigger, 3-node AC network coupled via AC-DC converters to a\n",
    "3-node DC network. There is also a single point-to-point DC using the Link component."
   ]
  },
  {
   "cell_type": "markdown",
   "metadata": {},
   "source": [
    "Load the network"
   ]
  },
  {
   "cell_type": "code",
   "execution_count": null,
   "metadata": {},
   "outputs": [],
   "source": [
    "network = pypsa.examples.ac_dc_meshed(from_master=True)"
   ]
  },
  {
   "cell_type": "code",
   "execution_count": null,
   "metadata": {},
   "outputs": [],
   "source": [
    "# get current type (AC or DC) of the lines from the buses\n",
    "lines_current_type = network.lines.bus0.map(network.buses.carrier)\n",
    "lines_current_type"
   ]
  },
  {
   "cell_type": "code",
   "execution_count": null,
   "metadata": {},
   "outputs": [],
   "source": [
    "network.links.loc[\"Norwich Converter\", \"p_nom_extendable\"] = False"
   ]
  },
  {
   "cell_type": "markdown",
   "metadata": {},
   "source": [
    "***\n",
    "**(a) First inspect the topology of the network using the\n",
    "`determine_network_topology` and the\n",
    "`network.sub_networks` functions.**"
   ]
  },
  {
   "cell_type": "code",
   "execution_count": null,
   "metadata": {},
   "outputs": [],
   "source": [
    "network.determine_network_topology()\n",
    "network.sub_networks[\"n_branches\"] = [\n",
    "    len(sn.branches()) for sn in network.sub_networks.obj\n",
    "]\n",
    "network.sub_networks[\"n_buses\"] = [len(sn.buses()) for sn in network.sub_networks.obj]\n",
    "\n",
    "network.sub_networks"
   ]
  },
  {
   "cell_type": "markdown",
   "metadata": {},
   "source": [
    "***\n",
    "**(b) Check out the six generators in this network and sort them\n",
    "by their capital and marginal costs**"
   ]
  },
  {
   "cell_type": "code",
   "execution_count": null,
   "metadata": {},
   "outputs": [],
   "source": [
    "network.generators.sort_values(by='capital_cost')"
   ]
  },
  {
   "cell_type": "code",
   "execution_count": null,
   "metadata": {},
   "outputs": [],
   "source": [
    "network.generators.sort_values(by='marginal_cost')"
   ]
  },
  {
   "cell_type": "markdown",
   "metadata": {},
   "source": [
    "We see that the generators have different capital and marginal costs. All of them have a `p_nom_extendable` set to `True`, meaning that capacities can be extended in the optimization."
   ]
  },
  {
   "cell_type": "markdown",
   "metadata": {},
   "source": [
    "***\n",
    "**(c) Plot the per unit limit for the wind generators at each time\n",
    "step, given by the weather potentials at the site.**"
   ]
  },
  {
   "cell_type": "markdown",
   "metadata": {},
   "source": [
    "You can find the relevant data in `network.generators_t.p_max_pu`"
   ]
  },
  {
   "cell_type": "code",
   "execution_count": null,
   "metadata": {},
   "outputs": [],
   "source": [
    "network.generators_t.p_max_pu.plot.area(subplots=True)\n",
    "plt.tight_layout()"
   ]
  },
  {
   "cell_type": "markdown",
   "metadata": {},
   "source": [
    "***\n",
    "**(d) Now we know what the network looks like and where the\n",
    "generators and lines are. Now Perform an optimization\n",
    "of the operation and capacities. What are the optimized\n",
    "system costs?**"
   ]
  },
  {
   "cell_type": "code",
   "execution_count": null,
   "metadata": {},
   "outputs": [],
   "source": [
    "network.optimize()"
   ]
  },
  {
   "cell_type": "code",
   "execution_count": null,
   "metadata": {},
   "outputs": [],
   "source": [
    "network.objective"
   ]
  },
  {
   "cell_type": "markdown",
   "metadata": {},
   "source": [
    "Why is this number negative? It considers the starting point of the optimization, thus the existent capacities given by `network.generators.p_nom` are taken into account.\n",
    "\n",
    "The real system cost are given by"
   ]
  },
  {
   "cell_type": "code",
   "execution_count": null,
   "metadata": {},
   "outputs": [],
   "source": [
    "network.objective + network.objective_constant"
   ]
  },
  {
   "cell_type": "markdown",
   "metadata": {},
   "source": [
    "***\n",
    "**(e) Check the optimal generator capacities and their production time series.**"
   ]
  },
  {
   "cell_type": "markdown",
   "metadata": {},
   "source": [
    "The optimal capacities are given by `p_nom_opt` for generators, links and storages and `s_nom_opt` for lines."
   ]
  },
  {
   "cell_type": "code",
   "execution_count": null,
   "metadata": {},
   "outputs": [],
   "source": [
    "network.generators.p_nom_opt.div(1e3).plot.bar(ylabel=\"GW\", figsize=(8, 3))\n",
    "plt.tight_layout()"
   ]
  },
  {
   "cell_type": "markdown",
   "metadata": {},
   "source": [
    "Their production is again given as a time-series in `network.generators_t.p`.\n"
   ]
  },
  {
   "cell_type": "code",
   "execution_count": null,
   "metadata": {},
   "outputs": [],
   "source": [
    "network.generators_t.p.div(1e3).plot.area(subplots=True, ylabel=\"GW\")\n",
    "plt.tight_layout()"
   ]
  },
  {
   "cell_type": "markdown",
   "metadata": {},
   "source": [
    "***\n",
    "**(f) Plot the marginal prices at each location.**"
   ]
  },
  {
   "cell_type": "markdown",
   "metadata": {},
   "source": [
    "The marginal prices for each bus can be found in `network.buses_t.marginal_price`."
   ]
  },
  {
   "cell_type": "code",
   "execution_count": null,
   "metadata": {
    "scrolled": true
   },
   "outputs": [],
   "source": [
    "network.buses_t.marginal_price.plot.area(subplots=True, ylabel=\"€/MWh\")\n",
    "plt.tight_layout()"
   ]
  }
 ],
 "metadata": {
  "kernelspec": {
   "display_name": "",
   "language": "python",
   "name": ""
  },
  "language_info": {
   "codemirror_mode": {
    "name": "ipython",
    "version": 3
   },
   "file_extension": ".py",
   "mimetype": "text/x-python",
   "name": "python",
   "nbconvert_exporter": "python",
   "pygments_lexer": "ipython3",
   "version": "3.11.9"
  }
 },
 "nbformat": 4,
 "nbformat_minor": 4
}
