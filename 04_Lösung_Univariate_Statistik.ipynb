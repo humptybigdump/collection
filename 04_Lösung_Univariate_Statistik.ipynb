{
 "cells": [
  {
   "cell_type": "markdown",
   "metadata": {},
   "source": [
    "# Geodatenanalyse 1\n",
    "\n",
    "## Kapitel 4: Deskriptive Statistik - Übung \n",
    "\n",
    "### Aufgabe 1: Daten einlesen und prüfen"
   ]
  },
  {
   "cell_type": "markdown",
   "metadata": {},
   "source": [
    "- Öffnet zunächst die Datei \"Data_GW_KA.csv\" in Excel und verschafft Euch einen Überblick über die Daten. Welche Parameter sind vorhanden, wieviele Datenpunkte gibt es, gibt es Datenlücken? Überlegt danach welcher Parameter welchem Datentyp von Folie 8 aus der Vorlesung entspricht. Sind diese stetig oder diskret? Notiert Eure Überlegungen.\n",
    "\n",
    "- Lest nun im ersten Eingabefeld die Messwerte mit Hilfe von `numpy` in Python (`numpy.genfromtxt()`) eingelesen, und speichert die Grundwassertemperaturen in einem separaten Array. "
   ]
  },
  {
   "cell_type": "code",
   "execution_count": 1,
   "metadata": {},
   "outputs": [],
   "source": [
    "# [1]\n",
    "import numpy as np\n",
    "data = np.genfromtxt(open(\"Data_GW_KA.csv\", \"rb\"), delimiter=\";\", skip_header=1)\n",
    "\n",
    "# Grundwassertemperaturen in einem neuem Array speichern\n",
    "GWT = data[:,2]"
   ]
  },
  {
   "cell_type": "markdown",
   "metadata": {},
   "source": [
    "- Lasst Euch die Werte in dem neuen Vektor anzeigen und prüft die Werte im Hinblick auf Plausibilität für Grundwassertemperaturen.\n",
    "- Überprüft außerdem um welchen Python Datentyp es sich handelt. \n",
    "\n",
    "Hinweis: Je nach Ursprungs-Dateityp und benutzter Einlese-Funktion, kann der resultierende Datentyp variieren (*list*, *array*, *dictionary*, *dataframe*, etc.). Möglicherweise müssen Datentypen vor dem benutzten bestimmter Funktionen konvertiert werden. In dieser Übung jedoch nicht ;)"
   ]
  },
  {
   "cell_type": "code",
   "execution_count": 2,
   "metadata": {},
   "outputs": [
    {
     "name": "stdout",
     "output_type": "stream",
     "text": [
      "[14.4  14.   12.5  14.4  14.2  12.8  14.9  14.97 13.17 12.17 12.64 15.87\n",
      " 12.43 11.33 11.4  12.8  11.53 14.17 14.13 14.93 15.43 14.83 17.   16.1\n",
      " 14.47 13.37 17.53 15.27 15.77 17.33 16.17 10.7  10.9  10.67 10.73 10.47\n",
      " 10.83 10.7  10.53]\n",
      "<class 'numpy.ndarray'>\n"
     ]
    }
   ],
   "source": [
    "# [2] Werte und Datentyp anzeigen lassen\n",
    "print(GWT)\n",
    "print(type(GWT))"
   ]
  },
  {
   "cell_type": "markdown",
   "metadata": {},
   "source": [
    "Wenn Werte und Datentyp passen, könnt Ihr anfangen den Datensatz zu charakterisieren. Bestimmt zuerst die Anzahl (*n*) an Werten in dem Datensatz mit dem Befehl `len()`. "
   ]
  },
  {
   "cell_type": "code",
   "execution_count": 3,
   "metadata": {},
   "outputs": [
    {
     "name": "stdout",
     "output_type": "stream",
     "text": [
      "39\n"
     ]
    }
   ],
   "source": [
    "# [3] Anzahl der Messwerte bestimmen\n",
    "n = len(GWT)\n",
    "print(n)"
   ]
  },
  {
   "cell_type": "markdown",
   "metadata": {},
   "source": [
    "### Aufgabe 2: Lageparameter\n",
    "\n",
    "Nun könnt Ihr verschiedene Parameter für das Lagemaß bestimmen. Diese helfen die Werte in dem Datensatz auf einer linearen Skala einzuordnen, und stellen ein typisches Maß da, um die Größenordnung oder eine beste Schätzung der Werte zu erhalten. Das beliebteste Lagemaß ist das arithmetische Mittel. \n",
    "\n",
    "- Berechnet nun das arithmetische Mittel der Grundwassertemperaturen als Summe (`sum()`) aller Werte geteilt durch die Anzahl der Werte: \n",
    "\n",
    "<img src=\"https://latex.codecogs.com/gif.latex?\\bar{x}&space;=&space;\\frac{1}{n}\\sum_{i=1}^{n}x_{i}\" title=\"\\bar{x} = \\frac{1}{n}\\sum_{i=1}^{n}x_{i}\" />\n"
   ]
  },
  {
   "cell_type": "code",
   "execution_count": 4,
   "metadata": {},
   "outputs": [
    {
     "name": "stdout",
     "output_type": "stream",
     "text": [
      "13.526666666666666\n"
     ]
    }
   ],
   "source": [
    "# [4] händische Berechnung des arithmetischen Mittels\n",
    "aMittel = (1/n)*sum(GWT)\n",
    "print(aMittel)"
   ]
  },
  {
   "cell_type": "markdown",
   "metadata": {},
   "source": [
    "Natürlich gibt es in Python auch eine Funktion `mean()`, um das arithmetische Mittel direkt zu berechen. Dazu müsst Ihr zuerst diese Funktion aus dem Package `statistics` in Euer Skript, bzw. Notebook hineinladen: `from statistics import mean`. \n",
    "- Berechnet mit Hilfe der importierten Funktion den Mittelwert der Grundwassertemperaturen.  "
   ]
  },
  {
   "cell_type": "code",
   "execution_count": 5,
   "metadata": {},
   "outputs": [
    {
     "name": "stdout",
     "output_type": "stream",
     "text": [
      "13.526666666666667\n"
     ]
    }
   ],
   "source": [
    "# [5] Berechnung des arithmetischen Mittels mit mean()\n",
    "from statistics import mean\n",
    "amean = mean(GWT)\n",
    "print (amean)"
   ]
  },
  {
   "cell_type": "markdown",
   "metadata": {},
   "source": [
    "Allerdings ist der arithmetische Mittelwert anfällig für Ausreißer (engl. outliers), also Extremwerte die von der Mehrheit der Werte abweichen. Deshalb wird oft der Median als Lagemaß angegeben. Der Median ist derjenige Wert, der in der Mitte des Datensatzes liegt, d.h. 50% der Werte sind größer als der Median, 50% sind kleiner. Die Formel für den Median eines aufsteigend sortierten Datensatzes lautet daher: \n",
    "\n",
    "Für eine gerade Anzahl an Werten: \n",
    "\n",
    "<img src=\"https://latex.codecogs.com/gif.latex?\\widetilde{x}&space;=&space;(x_{(n/2)}&plus;x_{(n/2)&plus;1})/2\" title=\"\\widetilde{x} = (x_{(n/2)}+x_{(n/2)+1})/2\" /> \n",
    "\n",
    "Für eine ungerade Anzahl an Werten: \n",
    "\n",
    "<img src=\"https://latex.codecogs.com/gif.latex?\\widetilde{x}&space;=&space;x_{(n&plus;1)/2}\" title=\"\\widetilde{x} = x_{(n+1)/2}\" />\n",
    "\n",
    "- Berechnet nun den Median Eueres Grundwassertemperatur Arrays. Sortiert dafür zuerst die Werte in aufsteigender Reihenfolge. \n",
    " "
   ]
  },
  {
   "cell_type": "code",
   "execution_count": 6,
   "metadata": {},
   "outputs": [
    {
     "name": "stdout",
     "output_type": "stream",
     "text": [
      "[10.47 10.53 10.67 10.7  10.7  10.73 10.83 10.9  11.33 11.4  11.53 12.17\n",
      " 12.43 12.5  12.64 12.8  12.8  13.17 13.37 14.   14.13 14.17 14.2  14.4\n",
      " 14.4  14.47 14.83 14.9  14.93 14.97 15.27 15.43 15.77 15.87 16.1  16.17\n",
      " 17.   17.33 17.53]\n"
     ]
    }
   ],
   "source": [
    "# [6] Array mit sortierten Werten erzeugen\n",
    "GWT_sorted=np.sort(GWT)\n",
    "print (GWT_sorted)"
   ]
  },
  {
   "cell_type": "markdown",
   "metadata": {},
   "source": [
    "- Wählt dann basierend auf Eurem `n` die richtige Formel von oben aus und berechnet den Median, indem Ihr auf den entsprechenden Index, z.B. \"(n+1)/2\", zugreift und diesen mit der Funktion `int()` in einen Integer umwandelt. "
   ]
  },
  {
   "cell_type": "code",
   "execution_count": 7,
   "metadata": {},
   "outputs": [
    {
     "name": "stdout",
     "output_type": "stream",
     "text": [
      "14.13\n"
     ]
    }
   ],
   "source": [
    "# [7] Median händisch berechnen\n",
    "Median=GWT_sorted[int((n+1)/2)]\n",
    "print(Median)"
   ]
  },
  {
   "cell_type": "markdown",
   "metadata": {},
   "source": [
    "Das Python `statistics` Package enthält auch dazu eine Funktion. Importiert dazu nun das gesamte Package mit `import statistics`, und berechnet mit `statistics.median()` den Median. Fällt Euch beim Vegleich der beiden Medianwerte etwas auf?"
   ]
  },
  {
   "cell_type": "code",
   "execution_count": 8,
   "metadata": {},
   "outputs": [
    {
     "name": "stdout",
     "output_type": "stream",
     "text": [
      "14.0\n"
     ]
    }
   ],
   "source": [
    "# [8] Median mit statistics package berechnen\n",
    "import statistics\n",
    "Median2 = statistics.median(GWT)\n",
    "print(Median2)"
   ]
  },
  {
   "cell_type": "markdown",
   "metadata": {},
   "source": [
    "Ein weiterer häufig benutzter Lageparameter ist der Modus. Macht es Sinn den Modus für die Grundwassertemperatur zu berechnen? Warum oder warum nicht?\n",
    "\n",
    "Sucht Euch in der Excel-Datei einen geeigneten Parameter aus, und bestimmt dessen Modus mit `statistics.mode()`. "
   ]
  },
  {
   "cell_type": "code",
   "execution_count": 9,
   "metadata": {},
   "outputs": [
    {
     "name": "stdout",
     "output_type": "stream",
     "text": [
      "4.0\n"
     ]
    }
   ],
   "source": [
    "# [9] Modus eines geeigneten Datensatzes berechnen\n",
    "Geologie = data[:,11]\n",
    "Modus = statistics.mode(Geologie)\n",
    "print (Modus)"
   ]
  },
  {
   "cell_type": "markdown",
   "metadata": {},
   "source": [
    "Züruck zur Grundwassertemperatur: Bestimmt nun noch die Intervalpunkte der drei Quartile (0.25, 0.5, 0.75) mit dem Befehl `np.quantile(GWT, [0.25, 0.5, 0.75])`.\n",
    "Der mittlere sollte dem Median entsprechen. "
   ]
  },
  {
   "cell_type": "code",
   "execution_count": 10,
   "metadata": {},
   "outputs": [
    {
     "name": "stdout",
     "output_type": "stream",
     "text": [
      "[11.465 14.    14.95 ]\n"
     ]
    }
   ],
   "source": [
    "# [10] Quartile bestimmen\n",
    "quart = np.quantile(GWT, [0.25, 0.5, 0.75])\n",
    "print(quart)"
   ]
  },
  {
   "cell_type": "markdown",
   "metadata": {},
   "source": [
    "### Streuungsmaß\n",
    "\n",
    "Das Streuungsmaß hilft uns zu beschreiben wie sehr Daten, z.B. zeitlich oder räumlich, variieren. Das einfachste Streeungsmaß ist der Wertebereich (engl. range), also die Differenz zwischen dem kleinsten und größten Wert. Bestimmt mit Hilfe der Befehle `min()` und `max()` den Wertebereich der Grundwassertemperatur. "
   ]
  },
  {
   "cell_type": "code",
   "execution_count": 11,
   "metadata": {},
   "outputs": [
    {
     "name": "stdout",
     "output_type": "stream",
     "text": [
      "7.0600000000000005\n"
     ]
    }
   ],
   "source": [
    "# [11]\n",
    "Range = max(GWT)-min(GWT)\n",
    "print(Range)"
   ]
  },
  {
   "cell_type": "markdown",
   "metadata": {},
   "source": [
    "Da der Wertebereich zwischen den Extremwerten berechnet wird, ist er sehr anfällig für Ausreißer und daher in den meisten Fällen nicht als robustes Schätzwert für das Streuungsmaß geeignet. Besser geeignet ist der Interquartilbereich (IQR), also die mittleren 50% der Datenpunkte. Berechnet nun mit Hilfe der oben bestimmten Quartile den IQR, und vergleicht ihn mit dem Wertebereich. "
   ]
  },
  {
   "cell_type": "code",
   "execution_count": 12,
   "metadata": {},
   "outputs": [
    {
     "name": "stdout",
     "output_type": "stream",
     "text": [
      "3.4849999999999994\n"
     ]
    }
   ],
   "source": [
    "# [12]\n",
    "IQR = quart[2]-quart[0]\n",
    "print(IQR)"
   ]
  },
  {
   "cell_type": "markdown",
   "metadata": {},
   "source": [
    "Die am häufigsten benutzen Parameter für das Streeungsmaß sind die Standardabweichung (sigma) und die Varianz (sigma^2). \n",
    "\n",
    "Die Standardabweichung der Stichproben des Datensatzes ist die Wurzel des Mittelwerts der Abweichung jedes einzelnen Datenpunktes vom Mittelwert des Datensatzes, also: \n",
    "\n",
    "<img src=\"https://latex.codecogs.com/gif.latex?s&space;=&space;\\sqrt{\\frac{1}{n-1}\\sum_{i=1}^{n}&space;(x_{i}-{\\bar{x}})^{2}}\" title=\"s = \\sqrt{\\frac{1}{n-1}\\sum_{i=1}^{n} (x_{i}-{\\bar{x}})^{2}}\" />\n",
    "\n",
    "Die Varianz der Stichprobe ist das Quadrat der Standardabweichung: \n",
    "\n",
    "<img src=\"https://latex.codecogs.com/gif.latex?s^{2}&space;=&space;\\frac{1}{n-1}\\sum_{i=1}^{n}&space;(x_{i}-{\\bar{x}})^{2}\" title=\"s^{2} = \\frac{1}{n-1}\\sum_{i=1}^{n} (x_{i}-{\\bar{x}})^{2}\" />\n",
    "\n",
    "Wie Ihr bestimmt schon vermutet gibt es  auch dafür einen Befehl in Python. Das `statistics` Package in Python bietet dabei sowohl die Option die Standardabweichung der Stichprobe zu berechnen (`statistics.stdev()`), als auch die der Grundgesamtheit (`statistics.pstdev()`). Da wir den Mittelwert der Grundgesamtheit nicht kennen, bleiben wir bei der Stichprobe (`statistics.variance()`). \n"
   ]
  },
  {
   "cell_type": "code",
   "execution_count": 13,
   "metadata": {},
   "outputs": [
    {
     "name": "stdout",
     "output_type": "stream",
     "text": [
      "2.107264794059043\n",
      "4.440564912280702\n"
     ]
    }
   ],
   "source": [
    "# [13]\n",
    "stabw = statistics.stdev(GWT)\n",
    "print(stabw)\n",
    "var = statistics.variance(GWT)\n",
    "print(var)"
   ]
  },
  {
   "cell_type": "markdown",
   "metadata": {},
   "source": [
    "### Schiefe und Wölbung\n",
    "\n",
    "Berechnet nun als letztes noch die Schiefe (skewness) und die Wölbung (kurtosis) der Daten. Für die Schiefe gibt es zwei häufig benutzte Formeln: \n",
    "\n",
    "Pearson's Modus Schiefe: \n",
    "\n",
    "<img src=\"https://latex.codecogs.com/gif.latex?skewness&space;=&space;(mean-mode)/standarddeviation\" title=\"skewness = (mean-mode)/standarddeviation\" />\n",
    "\n",
    "Fisher Schiefe: \n",
    "\n",
    "<img src=\"https://latex.codecogs.com/gif.latex?skewness&space;=&space;\\sum_{i=1}^{n}\\frac{(x_{i}-\\bar{x})^{3}}{s^{3}}\" title=\"skewness = \\sum_{i=1}^{n}\\frac{(x_{i}-\\bar{x})^{3}}{s^{3}}\" />\n",
    "\n",
    "Bestimmt nun zuerst den Schiefeparameter nach Pearson für die Grundwassertemperatur, um herauszufinden zu welcher Seite die Stichprobenverteilung geneigt ist. "
   ]
  },
  {
   "cell_type": "code",
   "execution_count": 14,
   "metadata": {},
   "outputs": [
    {
     "name": "stdout",
     "output_type": "stream",
     "text": [
      "-0.2863111152591251\n"
     ]
    }
   ],
   "source": [
    "# [14]\n",
    "Pearson = (aMittel - Median)/stabw\n",
    "print (Pearson)"
   ]
  },
  {
   "cell_type": "markdown",
   "metadata": {},
   "source": [
    "Der Schiefeparameter nach Fisher ist etwas komplizierter zu berechnen, da Ihr für jeden einzelnen Wert die Abweichung zum Mittelwert berechnen müsst. Benutzt dazu eine `for` Schleife. Vergleicht dann die beiden Schiefe-Parameter. "
   ]
  },
  {
   "cell_type": "code",
   "execution_count": 15,
   "metadata": {},
   "outputs": [
    {
     "name": "stdout",
     "output_type": "stream",
     "text": [
      "0.32475414947615916\n"
     ]
    }
   ],
   "source": [
    "# [15]\n",
    "Fisher = 0\n",
    "for i in range(n):\n",
    "    Fisher += (GWT[i]-amean)**3/var**3\n",
    "print(Fisher)"
   ]
  },
  {
   "cell_type": "markdown",
   "metadata": {},
   "source": [
    "Der vierte Parameter zur Beschreibung der Stichprobe ist die Wölbung. Diese beschreibt den relativen Unterschied zur Wölbung einer Normalverteilung dar. Die Wölbung wird dabei sehr ähnlich zur Fisher Schiefe berechnet: \n",
    "\n",
    "<img src=\"https://latex.codecogs.com/gif.latex?kurtosis&space;=&space;\\sum_{i=1}^{n}\\frac{(x_{i}-\\bar{x})^{4}}{s^{4}}\" title=\"kurtosis = \\sum_{i=1}^{n}\\frac{(x_{i}-\\bar{x})^{4}}{s^{4}}\" />\n",
    "\n",
    "Entsprechend könnt Ihr für die Berechnung der Wölbung den Code der Schiefe oben recht einfach anpassen. Ist die Stichprobe der Grundwassertemperatur mehr oder weniger gewölbt wie eine Normalverteilung? "
   ]
  },
  {
   "cell_type": "code",
   "execution_count": 16,
   "metadata": {},
   "outputs": [
    {
     "name": "stdout",
     "output_type": "stream",
     "text": [
      "3.5748059925834057\n"
     ]
    }
   ],
   "source": [
    "# [16]\n",
    "Kurtosis = 0\n",
    "for i in range(n):\n",
    "    Kurtosis += (GWT[i]-amean)**4/var**4\n",
    "print(Kurtosis)"
   ]
  },
  {
   "cell_type": "markdown",
   "metadata": {},
   "source": [
    "Damit habt Ihr alle vier statistischen Parameter der Stichproben der Grundwassertemperatur bestimmt. Wenn Ihr nun noch Zeit habt, könnt Ihr einen anderen Parameter aus dem Datensatz wählen und diesen charakterisieren. \n",
    "\n",
    "Wenn Ihr fast alle deskriptiven Parameter auf einmal bekommen wollt, probiert die Funktion `scipy.stats.describe()`aus. \n",
    "\n",
    "\n",
    "\n",
    "## Ende"
   ]
  }
 ],
 "metadata": {
  "kernelspec": {
   "display_name": "Python 3.8.8 ('base')",
   "language": "python",
   "name": "python3"
  },
  "language_info": {
   "codemirror_mode": {
    "name": "ipython",
    "version": 3
   },
   "file_extension": ".py",
   "mimetype": "text/x-python",
   "name": "python",
   "nbconvert_exporter": "python",
   "pygments_lexer": "ipython3",
   "version": "3.8.8"
  },
  "vscode": {
   "interpreter": {
    "hash": "e4cce46d6be9934fbd27f9ca0432556941ea5bdf741d4f4d64c6cd7f8dfa8fba"
   }
  }
 },
 "nbformat": 4,
 "nbformat_minor": 4
}
