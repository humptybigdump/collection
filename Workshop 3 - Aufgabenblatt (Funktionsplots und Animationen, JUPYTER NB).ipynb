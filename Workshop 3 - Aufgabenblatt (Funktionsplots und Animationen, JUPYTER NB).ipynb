{
 "cells": [
  {
   "cell_type": "markdown",
   "metadata": {},
   "source": [
    "# Aufgabenblatt zum 3. Python-Workshop\n",
    "\n",
    "Zur Bearbeitung im 3. Python Workshop am 03.02.22."
   ]
  },
  {
   "cell_type": "markdown",
   "metadata": {},
   "source": [
    "## Vorbereitungen\n",
    "\n",
    "Wer sich nochmal mit dem Plotten von Funktionen in Python vertraut machen will, dem empfehlen wir die Wiederholung des enstprechenden Notebooks aus der Übung (Notebook \"Übung 2 - Einführung in Plots\" im Ordner \"Aufschriebe aus den Übungen\" im ILIAS). Dies sollte als Grundlage für die erste Aufgabe ausreichen. Wer diese gemeistert hat, kann sich an die folgenden Aufgaben zu den verschiedenen Interpolations-Varianten und zum Erstellen von Animationen machen. Dazu sollte man sich auf jeden Fall das Notebook zum Erstellen von Animationen (Notebook \"Übung 12 - Anleitung Animationen\" im Ordner \"Aufschriebe aus den Übungen\" im ILIAS) zur Hand nehmen.\n",
    "\n",
    "\n",
    "Wir binden vorbereitend für die Aufgaben die folgenden Pakete ein\n",
    "* `numpy` für mathematische Funktionen\n",
    "* `matplotlib.pyplot` zur Erstellung von Plots\n",
    "* `interpolate` aus `scipy` zur Erstellung von Interpolationen (Polynominterpolation, Splines)\n",
    "* `optimize` aus `scipy` zur Berechnung von kleinste-Quadrate-Approximationen\n",
    "* `matplotlib.animation` zur Erstellung animierter Plots\n",
    "* `HTML`aus `IPython.display`, um das Animations-Widget ins Notebook einbinden zu können."
   ]
  },
  {
   "cell_type": "code",
   "execution_count": null,
   "metadata": {},
   "outputs": [],
   "source": [
    "import numpy as np\n",
    "import matplotlib.pyplot as plt\n",
    "from scipy import interpolate\n",
    "from scipy import optimize\n",
    "import matplotlib.animation as animation\n",
    "from IPython.display import HTML"
   ]
  },
  {
   "cell_type": "markdown",
   "metadata": {},
   "source": [
    "## Aufgabe 1 (leicht):\n",
    "Plotten Sie die Graphen zu \n",
    "  \\\\[  f(x) = x^n, \\quad x \\in [0,1]  \\\\]\n",
    "für \\\\(n=1,2,3,4\\\\) in einem gemeinsamen Koordinatensystem. Beschriften Sie die Linien."
   ]
  },
  {
   "cell_type": "code",
   "execution_count": null,
   "metadata": {},
   "outputs": [],
   "source": []
  },
  {
   "cell_type": "markdown",
   "metadata": {},
   "source": [
    "# Aufgabe 2:\n",
    "Es bezeichne \\\\(p_n(x)\\\\) das Interpolationspolynom mit \\\\(n+1\\\\) gleichabständigen Stützstellen zur Funktion \\\\( f(x) =  \\sin x, \\quad x \\in [0,4\\pi]\\\\).\n",
    "  \n",
    "* Plotten Sie jeweils in einem gemeinsamen Plot:\n",
    "    1.  \\\\(f,\\, p_3,\\, p_5, \\, p_7, \\, p_9\\\\) im Intervall \n",
    "      \\\\([0,4\\pi]\\\\),\n",
    "    2.  \\\\(f,\\, p_3,\\, p_5, \\, p_7, \\,p_9\\\\) im Intervall \n",
    "      \\\\([-\\pi,5\\pi]\\\\).\n",
    "* Erstellen Sie einen animierten Plot für \\\\(p_5\\\\) bis \\\\(p_{20}\\\\) im Intervall \\\\([0,4\\pi ]\\\\). Zeichnen Sie dabei die das aktuelle Interpolationspolynom sowie die Funktion \\\\(f\\\\) ein. Markieren Sie außerdem die aktuell verwendeten Interpoaltionspunkte und zeigen Sie den aktuellen Wert von \\\\(n\\\\) an.\n",
    "* Weshalb gilt \\\\(\\lim \\limits_{n \\to \\infty} |p_n(x) - \\sin x | =0\\\\) für \\\\(x \\in [0,4\\pi]\\\\)?  \n",
    "* Erstellen Sie einen analogen animierten Plot, aber für die Funktion \\\\(f(x) = \\frac{1}{1+x^2}\\\\) über dem Intervall \\\\([-5,5]\\\\).\n",
    "\n",
    "**Hinweis:** Verwenden Sie zur Berechnung von Interpolationspolynomen den Python-Befehl `interpolate.BarycentricInterpolator`. Dieser liefert das Interpolationspolynom als auswertbare Funktion zurück. Informieren Sie sich zur Funktionsweise des Befehls im Internet."
   ]
  },
  {
   "cell_type": "markdown",
   "metadata": {},
   "source": [
    "**Plot über dem Intervall \\\\([0,4\\pi]\\\\)**"
   ]
  },
  {
   "cell_type": "code",
   "execution_count": null,
   "metadata": {},
   "outputs": [],
   "source": []
  },
  {
   "cell_type": "markdown",
   "metadata": {},
   "source": [
    "**Plot über dem Intervall \\\\([-\\pi,5\\pi]\\\\)**"
   ]
  },
  {
   "cell_type": "code",
   "execution_count": null,
   "metadata": {},
   "outputs": [],
   "source": []
  },
  {
   "cell_type": "markdown",
   "metadata": {},
   "source": [
    "**Animierter Plot für \\\\(f(x)=\\sin(x)\\\\) auf \\\\([0,4\\pi]\\\\)**"
   ]
  },
  {
   "cell_type": "code",
   "execution_count": null,
   "metadata": {},
   "outputs": [],
   "source": []
  },
  {
   "cell_type": "markdown",
   "metadata": {},
   "source": [
    "**Animierter Plot für \\\\(f(x)=\\frac{1}{1+x^2}\\\\) auf \\\\([-5,5]\\\\)**"
   ]
  },
  {
   "cell_type": "code",
   "execution_count": null,
   "metadata": {},
   "outputs": [],
   "source": []
  },
  {
   "cell_type": "markdown",
   "metadata": {},
   "source": [
    "## Aufgabe 3 (mittel):\n",
    "Es bezeichne \\\\(s_n(x)\\\\) den eingespannten kubischen Spline mit \\\\(n\\\\) gleichabständigen Stützstellen zur Funktion\n",
    "  \n",
    "  \\\\[  f(x) = \\frac{1}{1+x^2}, \\quad x \\in [-5,5],  \\\\]\n",
    "  \n",
    "  und den  Randbedingungen \\\\(s'(-5) = -s'(5) = \\frac{5}{338}\\\\).\n",
    "  \n",
    "* Plotten Sie \\\\(f,\\, s_6,\\, s_7, \\, s_{11}\\\\) und \\\\(s_{12}\\\\) in einem gemeinsamen Plot. \n",
    "* Erstellen Sie einen animierten Plot für \\\\(s_6, s_8, s_{10}, ..., s_{30}\\\\).\n",
    "\n",
    "**Hinweis:** Verwenden Sie zur Berechnung der kubischen Splines den Python-Befehl `interpolate.CubicSpline`. Dieser liefert eine auswertbare Funktion zurück. Informieren Sie sich zur Funktionsweise des Befehls im Internet, insbesondere über die Vorgabe der gewünschten Randbedingungen."
   ]
  },
  {
   "cell_type": "markdown",
   "metadata": {},
   "source": [
    "**Plot von \\\\(f, s_6, s_7, s_{11}, s_{12}\\\\)**"
   ]
  },
  {
   "cell_type": "code",
   "execution_count": null,
   "metadata": {},
   "outputs": [],
   "source": []
  },
  {
   "cell_type": "markdown",
   "metadata": {},
   "source": [
    "**Animierter Plot**"
   ]
  },
  {
   "cell_type": "code",
   "execution_count": null,
   "metadata": {},
   "outputs": [],
   "source": []
  },
  {
   "cell_type": "markdown",
   "metadata": {},
   "source": [
    "## Aufgabe 4 (schwer):\n",
    "\n",
    "Approximieren Sie die Funktion  \\\\(y = \\ln x\\\\), \\\\(x \\in [1,20]\\\\)  mit den\n",
    "Stützstellen   \\\\(x_i = i\\\\), \\\\(i=1,\\dots,20,\\\\)  mit der Methode der\n",
    "kleinsten Quadrate wie folgt:\n",
    "\n",
    "* Berechnen und plotten Sie die Ausgleichsgerade sowie die Ausgleichsparabel 3. und 5. Grades. Berechnen Sie jeweils die Summe der Fehlerquadrate. \n",
    "* Berechnen Sie das Interpolationspolynom \\\\(p\\\\) sowie den natürlichen Spline \\\\(s\\\\) zu den Stützstellen. Plotten Sie die Ausgleichsparabel 5. Grades gemeinsam mit \\\\(p\\\\) und \\\\(s\\\\).\n",
    "* Stören Sie die Funktionswerte zufällig mit einem relativen Fehler von 5% (siehe Erläuterungen unten). Berechnen und plotten Sie das zugehörige Interpolationspolynom, den Spline und die Ausgleichs\\-parabel 5. Grades."
   ]
  },
  {
   "cell_type": "markdown",
   "metadata": {},
   "source": [
    "**Ablauf: Kleinste Quadrate Optimierung in Python**\n",
    "Die kleinste Quadrate Optimierung läuft in Python folgendermaßen ab:\n",
    "* Die Optmierung braucht das Paket `optimize` aus `scipy`. Durch den Befehl `from scipy import optimize` haben wir dieses zu Beginn des Notebooks bereits geladen.\n",
    "* Zunächst gibt man den gewählten Modellierungsansatz an. Dazu definiert man eine Prozedur `fun`, die abhängig von den zu schätzenden Parametern `pars` den durch das Modell gegebenen y-Wert für einen x-Wert berechnet (vg. Gl. 4.10 im Skript), d.h. eine Prozedur der Form\n",
    "\n",
    "```\n",
    "def fun(pars,x):\n",
    "    y=...\n",
    "    return y\n",
    "```\n",
    "* Anschließend wird eine Prozedur `residuals` definiert, die für eine Funktion `fun` wie eben definiert, wieder in Abhängigkeit der Parameter `pars` für gegebene Werte x und y das Residuum berechnet, d.h. den Wert `y-fun(x)`. Die Summe der Quadrate dieser Residuen, die diese Funktion für unsere vorliegenden Messdaten liefert, werden später minimiert (vgl. Gl. 4.13 im Skript). Die Prozedur sieht also folgendermaßen aus:\n",
    "\n",
    "```\n",
    "def residuals(pars,fun,x,y):\n",
    "    return y - fun(pars,x)\n",
    "```\n",
    "* Für die Optimierung werden Anfangs-Schätzungen `pars_0` für die Parameter `pars` benötigt. Als einfachste Variante kann man z.B. alle Parameter gleich Null setzen, d.h. `pars_0` als den Nullvektor passender Größe setzen.\n",
    "* Nun können wir den Befehl `optimize.least_squares` verwenden, um die kleinste Quadrate Approximation zu berechnen. Dabei müssen wir folgende Parameter übergeben:\n",
    "    1. Den Namen der Residuums-Funktion, bei uns `residuals`\n",
    "    2. Die Anfangsschätzungen `pars_0`\n",
    "    3. Ein Tupel `args`, das die Werte der weiteren Argumente der Funktion `residuals` abgesehen von den Parametern `pars` enthält. Es enthält also zunächst die Modellfunktion `fun`. Für `x` und `y` übergeben wir hier unsere Messwerte. Wir nehmen an, dass diese in zwei Vektoren `x_data` und `y_data` gespeichert sind. Die Ergebnisse der Optimierung speichern wir in der Variable `optimization_results`. Insgesamt rufen wir also den folgenden Befehl auf:\n",
    "\n",
    "```\n",
    "    optimization_results = optimize.least_squares(residuals, pars_0, args=(fun, x_data, y_data) )\n",
    "```\n",
    "* Das Element `optimization_results` enthält viele Details zu den Optimierungsergebnissen. Die eigentlichen Parameter, an denen wir in erster Linie interessiert sind, erhält man durch `optimization_results.x`. Die Summe der Fehlerquadrate erhält man durch `optimization_results.cost`."
   ]
  },
  {
   "cell_type": "markdown",
   "metadata": {},
   "source": [
    "Nun zur eigentlichen Aufgabe:\n",
    "\n",
    "**Erzeugung der Modelldaten (Stützstellen und Funktionswerte an den Stützstellen):**"
   ]
  },
  {
   "cell_type": "code",
   "execution_count": null,
   "metadata": {},
   "outputs": [],
   "source": []
  },
  {
   "cell_type": "markdown",
   "metadata": {},
   "source": [
    "**Plot der Ausgleichsgeraden und Ausgleichsparabeln 3./5. Ordnung**"
   ]
  },
  {
   "cell_type": "code",
   "execution_count": null,
   "metadata": {},
   "outputs": [],
   "source": []
  },
  {
   "cell_type": "markdown",
   "metadata": {},
   "source": [
    "**Interpolationspolynom, Spline & Ausgleichsparabel im Vergleich - ohne Störung der Messdaten**"
   ]
  },
  {
   "cell_type": "code",
   "execution_count": null,
   "metadata": {},
   "outputs": [],
   "source": []
  },
  {
   "cell_type": "markdown",
   "metadata": {},
   "source": [
    "**Interpolationspolynom, Spline & Ausgleichsparabel im Vergleich - mit Störung der Messdaten**\n",
    "\n",
    "Wir stören die Messdaten zufällig mit einem relativen Fehler von 5%. Durch den Befehl `np.random.rand(N)` werden \\\\(N\\\\) Pseudo-Zufallszahlen im Intervall \\\\([0,1]\\\\) (gemäß einer Gleichverteilung) erzeugt. Diese transformieren wir durch Muliplikation mit \\\\(2\\\\) und Subtraktion von \\\\(1\\\\) auf Zufallszahlen im Intervall \\\\([-1,1]\\\\). Die Messdaten stören wir, indem wir die Werte aus dem Vektor `y_data` mit Faktoren der Form \\\\(1+0.05\\cdot z\\\\) multiplizieren, wobei \\\\(z\\\\) die Zufallszahlen sind. Anschließend können wir identisch wie oben Ausgleichsparabel, Spline und Interpolationspolynom zu den neuen Messdaten erzeugen."
   ]
  },
  {
   "cell_type": "code",
   "execution_count": null,
   "metadata": {},
   "outputs": [],
   "source": []
  }
 ],
 "metadata": {
  "kernelspec": {
   "display_name": "Python 3",
   "language": "python",
   "name": "python3"
  },
  "language_info": {
   "codemirror_mode": {
    "name": "ipython",
    "version": 3
   },
   "file_extension": ".py",
   "mimetype": "text/x-python",
   "name": "python",
   "nbconvert_exporter": "python",
   "pygments_lexer": "ipython3",
   "version": "3.8.3"
  }
 },
 "nbformat": 4,
 "nbformat_minor": 4
}
