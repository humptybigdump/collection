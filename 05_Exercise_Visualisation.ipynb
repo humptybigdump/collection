{
 "cells": [
  {
   "cell_type": "markdown",
   "id": "faced-manner",
   "metadata": {},
   "source": [
    "# Geospatial Data Analysis I \n",
    "\n",
    "## Data visualisation - Solution"
   ]
  },
  {
   "cell_type": "markdown",
   "id": "racial-trailer",
   "metadata": {},
   "source": [
    "### Exercise 1\n",
    "\n",
    "Plot the following two functions in the interval (i.e. on the x-axis range) $[0, 100]$ as line plots:\n",
    "\n",
    "- $f(x) = \\sqrt{x} - 4$\n",
    "- $f(x) = log_e(x)$\n",
    "\n",
    "Use the numpy functionality  `np.linspace (*start*, *stop*, *number of elements*)` to create a sequence (i.e. values) for 'x'. `np.linspace()` works similar to `np.arange()`, but instead of setting the step of the numerical sequence, the number of elements in the generated sequence has to be defined. The stop value is included in the sequence.\n",
    "\n",
    "Then, calculate the corresponding 'y'-values using the equations above. Finally, use `matplotlib.pylot.plot()` to plot the lines in a 'x, y' diagram. \n",
    "\n"
   ]
  },
  {
   "cell_type": "code",
   "execution_count": null,
   "id": "empirical-administrator",
   "metadata": {},
   "outputs": [],
   "source": [
    "# [1]\n",
    "\n",
    "\n",
    "# defining x values using np.linspace() \n",
    "\n",
    "\n",
    "# calculating y values for the first equation and plotting\n",
    "\n",
    "\n",
    "# calculating y values for the second equation and plotting\n",
    "\n",
    "\n",
    "# axis labels\n",
    "\n",
    "\n",
    "# legend \n"
   ]
  },
  {
   "cell_type": "markdown",
   "id": "handy-jones",
   "metadata": {},
   "source": [
    "### Exercise 2\n",
    "\n",
    "Create an array with 200 random numbers using `numpy.random.normal(mean, sigma, number)`, with 'mean' being the mean value (e.g. 0), 'sigma' being the standard deviation (e.g. 1) and 'n' being the number of values being created. \n",
    "\n",
    "Plot the created array in a figure with two subplots: a boxplot on the left side (`ax.boxplot(...)`), and a histogram (`ax.hist(...)`) on the right side. \n",
    "\n",
    "Finally, add axes labels and figure title to each subplot. You might also want to adapt the figure size, so that both graphs are properly shown beside each other. \n",
    "\n",
    "Tip: with two subplots your Axes-object will be an array with two entries. You can access the individual axis entries using the corresponding index `ax[0]` and `ax[1]`. "
   ]
  },
  {
   "cell_type": "code",
   "execution_count": null,
   "id": "funky-station",
   "metadata": {
    "scrolled": true
   },
   "outputs": [],
   "source": [
    "# [2]\n",
    "\n",
    "# generate random numbers  \n",
    "\n",
    "\n",
    "# creating a Figure object and an Axes object with two subplots \n",
    "\n",
    "\n",
    "# Boxplot on the first Axis\n",
    "\n",
    "\n",
    "# Histogram on the second Axis\n",
    "\n",
    "\n"
   ]
  },
  {
   "cell_type": "markdown",
   "id": "09b61b94",
   "metadata": {},
   "source": [
    "### Exercise 3\n",
    "\n",
    "The European Environmental Agency has put together a data set that highlights the relationship between energy use (kg oil / capita), economic power (as gross domestic product, GDP / capita) and population (see *EEA_dataset.csv*).  \n",
    "\n",
    "1. Creat a scatter plot using `plt.scatter()`, showing GDP on the x-axis and energy use on the y-axis. Adapt the axes limits to the data.  \n",
    "\n",
    "2. Calculate the global mean values for both axes using `np.mean()`, and mark them in the plot by adding a horizontal (`ax.axvline(x-value)`) and vertical (`ax.axhline(y-value)`) line at these locations. \n",
    "\n",
    "3. Highlight the marker for Germany in red. \n",
    "\n",
    "4. Visualise the population as color in the scatter plot, and add a corresponding colorbar as legend/axis for this dimension (`plt.colorbar(...)`).\n",
    "\n",
    "Data source: [European Environment Agency](https://www.eea.europa.eu/data-and-maps/figures/correlation-of-per-capita-energy)"
   ]
  },
  {
   "cell_type": "code",
   "execution_count": null,
   "id": "41339b11",
   "metadata": {},
   "outputs": [],
   "source": [
    "# [3]\n",
    "\n",
    "\n",
    "# reading the data  \n",
    "\n",
    "\n",
    "# creating Figure and Axes objects\n",
    "\n",
    "\n",
    "# calcualting average values \n",
    "\n",
    "\n",
    "# plotting average values as lines\n",
    "\n",
    "\n",
    "# highlighting Germany \n",
    "\n",
    "\n",
    "# add the colorbar for the population\n",
    "\n",
    "\n",
    "# axes limits and labels \n"
   ]
  },
  {
   "cell_type": "markdown",
   "id": "norwegian-stomach",
   "metadata": {},
   "source": [
    "## END"
   ]
  }
 ],
 "metadata": {
  "kernelspec": {
   "display_name": "GDA1",
   "language": "python",
   "name": "python3"
  },
  "language_info": {
   "codemirror_mode": {
    "name": "ipython",
    "version": 3
   },
   "file_extension": ".py",
   "mimetype": "text/x-python",
   "name": "python",
   "nbconvert_exporter": "python",
   "pygments_lexer": "ipython3",
   "version": "3.11.5"
  }
 },
 "nbformat": 4,
 "nbformat_minor": 5
}
