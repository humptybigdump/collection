{
 "cells": [
  {
   "cell_type": "code",
   "execution_count": 1,
   "id": "25448f05-75c4-4145-911d-d5f005ec5319",
   "metadata": {},
   "outputs": [],
   "source": [
    "import pandas as pd\n",
    "import numpy as np\n",
    "from gurobipy import *\n",
    "from datetime import datetime"
   ]
  },
  {
   "cell_type": "markdown",
   "id": "a69fb9e9-e5e1-4bcc-acbd-236fcfb036cd",
   "metadata": {},
   "source": [
    "# Erste Schritte: Data Handling\n",
    "<font size=\"4\">Lest die Datei \"2020_Last_DE.csv\" als Pandas-dataframe ein und lasst euch die ersten 5 Zeilen anzeigen. </font>\n",
    "\n",
    "**Hinweis** Dateipfade müssen relativ zum verzeichnis des Jupyter Notebooks angegeben werden."
   ]
  },
  {
   "cell_type": "code",
   "execution_count": 3,
   "id": "85f7a8f7-5919-4cea-9d26-5ae14e2e1dac",
   "metadata": {},
   "outputs": [],
   "source": [
    "df = pd.read_csv(\"Data/2020_Last_DE.csv\", sep = \";\")"
   ]
  },
  {
   "cell_type": "code",
   "execution_count": 4,
   "id": "f8fe3074-acd9-436f-aa76-27633777626c",
   "metadata": {},
   "outputs": [
    {
     "data": {
      "text/html": [
       "<div>\n",
       "<style scoped>\n",
       "    .dataframe tbody tr th:only-of-type {\n",
       "        vertical-align: middle;\n",
       "    }\n",
       "\n",
       "    .dataframe tbody tr th {\n",
       "        vertical-align: top;\n",
       "    }\n",
       "\n",
       "    .dataframe thead th {\n",
       "        text-align: right;\n",
       "    }\n",
       "</style>\n",
       "<table border=\"1\" class=\"dataframe\">\n",
       "  <thead>\n",
       "    <tr style=\"text-align: right;\">\n",
       "      <th></th>\n",
       "      <th>Datum</th>\n",
       "      <th>Uhrzeit</th>\n",
       "      <th>Gesamt (Netzlast)[MWh]</th>\n",
       "      <th>Residuallast[MWh]</th>\n",
       "      <th>Pumpspeicher[MWh]</th>\n",
       "    </tr>\n",
       "  </thead>\n",
       "  <tbody>\n",
       "    <tr>\n",
       "      <th>0</th>\n",
       "      <td>01.01.2020</td>\n",
       "      <td>00:00</td>\n",
       "      <td>10.899</td>\n",
       "      <td>9.302</td>\n",
       "      <td>49.0</td>\n",
       "    </tr>\n",
       "    <tr>\n",
       "      <th>1</th>\n",
       "      <td>01.01.2020</td>\n",
       "      <td>00:15</td>\n",
       "      <td>10.837</td>\n",
       "      <td>9.241</td>\n",
       "      <td>66.0</td>\n",
       "    </tr>\n",
       "    <tr>\n",
       "      <th>2</th>\n",
       "      <td>01.01.2020</td>\n",
       "      <td>00:30</td>\n",
       "      <td>10.759</td>\n",
       "      <td>9.099</td>\n",
       "      <td>97.0</td>\n",
       "    </tr>\n",
       "    <tr>\n",
       "      <th>3</th>\n",
       "      <td>01.01.2020</td>\n",
       "      <td>00:45</td>\n",
       "      <td>10.719</td>\n",
       "      <td>8.999</td>\n",
       "      <td>129.0</td>\n",
       "    </tr>\n",
       "    <tr>\n",
       "      <th>4</th>\n",
       "      <td>01.01.2020</td>\n",
       "      <td>01:00</td>\n",
       "      <td>10.678</td>\n",
       "      <td>8.942</td>\n",
       "      <td>235.0</td>\n",
       "    </tr>\n",
       "  </tbody>\n",
       "</table>\n",
       "</div>"
      ],
      "text/plain": [
       "        Datum Uhrzeit  Gesamt (Netzlast)[MWh]  Residuallast[MWh]  \\\n",
       "0  01.01.2020   00:00                  10.899              9.302   \n",
       "1  01.01.2020   00:15                  10.837              9.241   \n",
       "2  01.01.2020   00:30                  10.759              9.099   \n",
       "3  01.01.2020   00:45                  10.719              8.999   \n",
       "4  01.01.2020   01:00                  10.678              8.942   \n",
       "\n",
       "   Pumpspeicher[MWh]  \n",
       "0               49.0  \n",
       "1               66.0  \n",
       "2               97.0  \n",
       "3              129.0  \n",
       "4              235.0  "
      ]
     },
     "execution_count": 4,
     "metadata": {},
     "output_type": "execute_result"
    }
   ],
   "source": [
    "df.head()"
   ]
  },
  {
   "cell_type": "code",
   "execution_count": null,
   "id": "9e53ff87-e297-4ccb-99ec-afae31f306d6",
   "metadata": {},
   "outputs": [],
   "source": []
  },
  {
   "cell_type": "markdown",
   "id": "84a31561-505c-4638-a5fd-596d8a568ec8",
   "metadata": {},
   "source": [
    "<font size=\"4\">Erstellt eine neue Spalte mit dem Titel **\"Zeitschritt\"**, die sich aus den Spalten **\"Datum\"** und **\"Uhrzeit\"** zusammensetzt.<font>"
   ]
  },
  {
   "cell_type": "code",
   "execution_count": 5,
   "id": "b21c95ea-0fac-46ae-9647-68cbc65186ce",
   "metadata": {},
   "outputs": [
    {
     "data": {
      "text/html": [
       "<div>\n",
       "<style scoped>\n",
       "    .dataframe tbody tr th:only-of-type {\n",
       "        vertical-align: middle;\n",
       "    }\n",
       "\n",
       "    .dataframe tbody tr th {\n",
       "        vertical-align: top;\n",
       "    }\n",
       "\n",
       "    .dataframe thead th {\n",
       "        text-align: right;\n",
       "    }\n",
       "</style>\n",
       "<table border=\"1\" class=\"dataframe\">\n",
       "  <thead>\n",
       "    <tr style=\"text-align: right;\">\n",
       "      <th></th>\n",
       "      <th>Datum</th>\n",
       "      <th>Uhrzeit</th>\n",
       "      <th>Gesamt (Netzlast)[MWh]</th>\n",
       "      <th>Residuallast[MWh]</th>\n",
       "      <th>Pumpspeicher[MWh]</th>\n",
       "      <th>Zeitschritt</th>\n",
       "    </tr>\n",
       "  </thead>\n",
       "  <tbody>\n",
       "    <tr>\n",
       "      <th>0</th>\n",
       "      <td>01.01.2020</td>\n",
       "      <td>00:00</td>\n",
       "      <td>10.899</td>\n",
       "      <td>9.302</td>\n",
       "      <td>49.0</td>\n",
       "      <td>01.01.2020 00:00</td>\n",
       "    </tr>\n",
       "    <tr>\n",
       "      <th>1</th>\n",
       "      <td>01.01.2020</td>\n",
       "      <td>00:15</td>\n",
       "      <td>10.837</td>\n",
       "      <td>9.241</td>\n",
       "      <td>66.0</td>\n",
       "      <td>01.01.2020 00:15</td>\n",
       "    </tr>\n",
       "    <tr>\n",
       "      <th>2</th>\n",
       "      <td>01.01.2020</td>\n",
       "      <td>00:30</td>\n",
       "      <td>10.759</td>\n",
       "      <td>9.099</td>\n",
       "      <td>97.0</td>\n",
       "      <td>01.01.2020 00:30</td>\n",
       "    </tr>\n",
       "    <tr>\n",
       "      <th>3</th>\n",
       "      <td>01.01.2020</td>\n",
       "      <td>00:45</td>\n",
       "      <td>10.719</td>\n",
       "      <td>8.999</td>\n",
       "      <td>129.0</td>\n",
       "      <td>01.01.2020 00:45</td>\n",
       "    </tr>\n",
       "    <tr>\n",
       "      <th>4</th>\n",
       "      <td>01.01.2020</td>\n",
       "      <td>01:00</td>\n",
       "      <td>10.678</td>\n",
       "      <td>8.942</td>\n",
       "      <td>235.0</td>\n",
       "      <td>01.01.2020 01:00</td>\n",
       "    </tr>\n",
       "  </tbody>\n",
       "</table>\n",
       "</div>"
      ],
      "text/plain": [
       "        Datum Uhrzeit  Gesamt (Netzlast)[MWh]  Residuallast[MWh]  \\\n",
       "0  01.01.2020   00:00                  10.899              9.302   \n",
       "1  01.01.2020   00:15                  10.837              9.241   \n",
       "2  01.01.2020   00:30                  10.759              9.099   \n",
       "3  01.01.2020   00:45                  10.719              8.999   \n",
       "4  01.01.2020   01:00                  10.678              8.942   \n",
       "\n",
       "   Pumpspeicher[MWh]       Zeitschritt  \n",
       "0               49.0  01.01.2020 00:00  \n",
       "1               66.0  01.01.2020 00:15  \n",
       "2               97.0  01.01.2020 00:30  \n",
       "3              129.0  01.01.2020 00:45  \n",
       "4              235.0  01.01.2020 01:00  "
      ]
     },
     "execution_count": 5,
     "metadata": {},
     "output_type": "execute_result"
    }
   ],
   "source": [
    "df[\"Zeitschritt\"] = df[\"Datum\"] + \" \" + df[\"Uhrzeit\"]\n",
    "df.head()"
   ]
  },
  {
   "cell_type": "markdown",
   "id": "510a69c2-b6e2-496b-a6b7-3a9f33bcbc8d",
   "metadata": {},
   "source": [
    "<font size=\"4\">Konvertiert die Spalte Zeitschritt in das **datetime-Format.**<font>"
   ]
  },
  {
   "cell_type": "code",
   "execution_count": 6,
   "id": "05bc14d2-bc1f-40b4-9ce0-de9fe9a26107",
   "metadata": {},
   "outputs": [],
   "source": [
    "df[\"Zeitschritt\"] = pd.to_datetime(df[\"Zeitschritt\"], format =\"%d.%m.%Y %H:%M\")"
   ]
  },
  {
   "cell_type": "code",
   "execution_count": 7,
   "id": "361c64f6-477b-4c6e-b96b-4657a77e9954",
   "metadata": {},
   "outputs": [
    {
     "data": {
      "text/html": [
       "<div>\n",
       "<style scoped>\n",
       "    .dataframe tbody tr th:only-of-type {\n",
       "        vertical-align: middle;\n",
       "    }\n",
       "\n",
       "    .dataframe tbody tr th {\n",
       "        vertical-align: top;\n",
       "    }\n",
       "\n",
       "    .dataframe thead th {\n",
       "        text-align: right;\n",
       "    }\n",
       "</style>\n",
       "<table border=\"1\" class=\"dataframe\">\n",
       "  <thead>\n",
       "    <tr style=\"text-align: right;\">\n",
       "      <th></th>\n",
       "      <th>Datum</th>\n",
       "      <th>Uhrzeit</th>\n",
       "      <th>Gesamt (Netzlast)[MWh]</th>\n",
       "      <th>Residuallast[MWh]</th>\n",
       "      <th>Pumpspeicher[MWh]</th>\n",
       "      <th>Zeitschritt</th>\n",
       "    </tr>\n",
       "  </thead>\n",
       "  <tbody>\n",
       "    <tr>\n",
       "      <th>0</th>\n",
       "      <td>01.01.2020</td>\n",
       "      <td>00:00</td>\n",
       "      <td>10.899</td>\n",
       "      <td>9.302</td>\n",
       "      <td>49.0</td>\n",
       "      <td>2020-01-01 00:00:00</td>\n",
       "    </tr>\n",
       "    <tr>\n",
       "      <th>1</th>\n",
       "      <td>01.01.2020</td>\n",
       "      <td>00:15</td>\n",
       "      <td>10.837</td>\n",
       "      <td>9.241</td>\n",
       "      <td>66.0</td>\n",
       "      <td>2020-01-01 00:15:00</td>\n",
       "    </tr>\n",
       "    <tr>\n",
       "      <th>2</th>\n",
       "      <td>01.01.2020</td>\n",
       "      <td>00:30</td>\n",
       "      <td>10.759</td>\n",
       "      <td>9.099</td>\n",
       "      <td>97.0</td>\n",
       "      <td>2020-01-01 00:30:00</td>\n",
       "    </tr>\n",
       "    <tr>\n",
       "      <th>3</th>\n",
       "      <td>01.01.2020</td>\n",
       "      <td>00:45</td>\n",
       "      <td>10.719</td>\n",
       "      <td>8.999</td>\n",
       "      <td>129.0</td>\n",
       "      <td>2020-01-01 00:45:00</td>\n",
       "    </tr>\n",
       "    <tr>\n",
       "      <th>4</th>\n",
       "      <td>01.01.2020</td>\n",
       "      <td>01:00</td>\n",
       "      <td>10.678</td>\n",
       "      <td>8.942</td>\n",
       "      <td>235.0</td>\n",
       "      <td>2020-01-01 01:00:00</td>\n",
       "    </tr>\n",
       "  </tbody>\n",
       "</table>\n",
       "</div>"
      ],
      "text/plain": [
       "        Datum Uhrzeit  Gesamt (Netzlast)[MWh]  Residuallast[MWh]  \\\n",
       "0  01.01.2020   00:00                  10.899              9.302   \n",
       "1  01.01.2020   00:15                  10.837              9.241   \n",
       "2  01.01.2020   00:30                  10.759              9.099   \n",
       "3  01.01.2020   00:45                  10.719              8.999   \n",
       "4  01.01.2020   01:00                  10.678              8.942   \n",
       "\n",
       "   Pumpspeicher[MWh]         Zeitschritt  \n",
       "0               49.0 2020-01-01 00:00:00  \n",
       "1               66.0 2020-01-01 00:15:00  \n",
       "2               97.0 2020-01-01 00:30:00  \n",
       "3              129.0 2020-01-01 00:45:00  \n",
       "4              235.0 2020-01-01 01:00:00  "
      ]
     },
     "execution_count": 7,
     "metadata": {},
     "output_type": "execute_result"
    }
   ],
   "source": [
    "df.head()"
   ]
  },
  {
   "cell_type": "markdown",
   "id": "a0bdb9c8-4e90-4321-bbf9-b8b7957978ff",
   "metadata": {},
   "source": [
    "<font size=\"4\">Definiert die Spalte \"Zeitschritt\" als **Index**.<font>"
   ]
  },
  {
   "cell_type": "code",
   "execution_count": 8,
   "id": "777f367c-0def-42b2-bb9b-e6f4e6c56848",
   "metadata": {},
   "outputs": [],
   "source": [
    "df.set_index(\"Zeitschritt\", inplace = True)"
   ]
  },
  {
   "cell_type": "code",
   "execution_count": 9,
   "id": "aee32197-441f-4fe1-b324-4455ed88325d",
   "metadata": {},
   "outputs": [
    {
     "data": {
      "text/html": [
       "<div>\n",
       "<style scoped>\n",
       "    .dataframe tbody tr th:only-of-type {\n",
       "        vertical-align: middle;\n",
       "    }\n",
       "\n",
       "    .dataframe tbody tr th {\n",
       "        vertical-align: top;\n",
       "    }\n",
       "\n",
       "    .dataframe thead th {\n",
       "        text-align: right;\n",
       "    }\n",
       "</style>\n",
       "<table border=\"1\" class=\"dataframe\">\n",
       "  <thead>\n",
       "    <tr style=\"text-align: right;\">\n",
       "      <th></th>\n",
       "      <th>Datum</th>\n",
       "      <th>Uhrzeit</th>\n",
       "      <th>Gesamt (Netzlast)[MWh]</th>\n",
       "      <th>Residuallast[MWh]</th>\n",
       "      <th>Pumpspeicher[MWh]</th>\n",
       "    </tr>\n",
       "    <tr>\n",
       "      <th>Zeitschritt</th>\n",
       "      <th></th>\n",
       "      <th></th>\n",
       "      <th></th>\n",
       "      <th></th>\n",
       "      <th></th>\n",
       "    </tr>\n",
       "  </thead>\n",
       "  <tbody>\n",
       "    <tr>\n",
       "      <th>2020-01-01 00:00:00</th>\n",
       "      <td>01.01.2020</td>\n",
       "      <td>00:00</td>\n",
       "      <td>10.899</td>\n",
       "      <td>9.302</td>\n",
       "      <td>49.0</td>\n",
       "    </tr>\n",
       "    <tr>\n",
       "      <th>2020-01-01 00:15:00</th>\n",
       "      <td>01.01.2020</td>\n",
       "      <td>00:15</td>\n",
       "      <td>10.837</td>\n",
       "      <td>9.241</td>\n",
       "      <td>66.0</td>\n",
       "    </tr>\n",
       "    <tr>\n",
       "      <th>2020-01-01 00:30:00</th>\n",
       "      <td>01.01.2020</td>\n",
       "      <td>00:30</td>\n",
       "      <td>10.759</td>\n",
       "      <td>9.099</td>\n",
       "      <td>97.0</td>\n",
       "    </tr>\n",
       "    <tr>\n",
       "      <th>2020-01-01 00:45:00</th>\n",
       "      <td>01.01.2020</td>\n",
       "      <td>00:45</td>\n",
       "      <td>10.719</td>\n",
       "      <td>8.999</td>\n",
       "      <td>129.0</td>\n",
       "    </tr>\n",
       "    <tr>\n",
       "      <th>2020-01-01 01:00:00</th>\n",
       "      <td>01.01.2020</td>\n",
       "      <td>01:00</td>\n",
       "      <td>10.678</td>\n",
       "      <td>8.942</td>\n",
       "      <td>235.0</td>\n",
       "    </tr>\n",
       "  </tbody>\n",
       "</table>\n",
       "</div>"
      ],
      "text/plain": [
       "                          Datum Uhrzeit  Gesamt (Netzlast)[MWh]  \\\n",
       "Zeitschritt                                                       \n",
       "2020-01-01 00:00:00  01.01.2020   00:00                  10.899   \n",
       "2020-01-01 00:15:00  01.01.2020   00:15                  10.837   \n",
       "2020-01-01 00:30:00  01.01.2020   00:30                  10.759   \n",
       "2020-01-01 00:45:00  01.01.2020   00:45                  10.719   \n",
       "2020-01-01 01:00:00  01.01.2020   01:00                  10.678   \n",
       "\n",
       "                     Residuallast[MWh]  Pumpspeicher[MWh]  \n",
       "Zeitschritt                                                \n",
       "2020-01-01 00:00:00              9.302               49.0  \n",
       "2020-01-01 00:15:00              9.241               66.0  \n",
       "2020-01-01 00:30:00              9.099               97.0  \n",
       "2020-01-01 00:45:00              8.999              129.0  \n",
       "2020-01-01 01:00:00              8.942              235.0  "
      ]
     },
     "execution_count": 9,
     "metadata": {},
     "output_type": "execute_result"
    }
   ],
   "source": [
    "df.head()"
   ]
  },
  {
   "cell_type": "markdown",
   "id": "5110e751-4473-46c8-8aee-28f622bf7498",
   "metadata": {},
   "source": [
    "<font size=\"4\">Lasst euch die Spalte **\"Gesamt (Netzlast)[MWh]\"** grafisch anzeigen.<font>"
   ]
  },
  {
   "cell_type": "code",
   "execution_count": 10,
   "id": "ab24a5e9-4a1a-40d8-a613-b6fc68d012a7",
   "metadata": {},
   "outputs": [
    {
     "data": {
      "text/plain": [
       "<AxesSubplot:xlabel='Zeitschritt'>"
      ]
     },
     "execution_count": 10,
     "metadata": {},
     "output_type": "execute_result"
    },
    {
     "data": {
      "image/png": "[encoded data removed]",
      "text/plain": [
       "<Figure size 1440x360 with 1 Axes>"
      ]
     },
     "metadata": {
      "needs_background": "light"
     },
     "output_type": "display_data"
    }
   ],
   "source": [
    "df[\"Gesamt (Netzlast)[MWh]\"].plot(figsize= (20,5))"
   ]
  },
  {
   "cell_type": "markdown",
   "id": "9a4fc6b7-0e06-4a1e-bcd9-0f9742cb9764",
   "metadata": {},
   "source": [
    "# Übungsaufgabe: Optimales Demand Side Management\n",
    "\n",
    "Durch einen sogenannten \"Real-Time-Pricing\"-Tarif ist es Haushalten möglich, ihre Last in möglichst günstige Stunden zu verschieben. Im Folgenden soll eine optimale Strategie für einen Haushalt bestimmt werden, der möglichst wenig für seinen Stromverbrauch ausgeben möchte. Der Haushalt hat in jedem Zeitschritt einen fixen Lastanteil, den er nicht verschieben kann und einen flexiblen Lastanteil, den er **maximal eine Stunde** nach vorne oder hinten verschieben kann.\n",
    "\n",
    "## Daten einlesen\n",
    "\n",
    "Lest die CSV-Datei \"SGA_Uebung0_Data.csv\" ein und entfernt leere Einträge."
   ]
  },
  {
   "cell_type": "code",
   "execution_count": null,
   "id": "7a5c3e78-754d-4e25-8aa7-bd755b38dab1",
   "metadata": {},
   "outputs": [],
   "source": [
    "pd.read_csv(\"Data"
   ]
  },
  {
   "cell_type": "code",
   "execution_count": null,
   "id": "86cd6439-608b-44f6-a28c-8458a31503bc",
   "metadata": {},
   "outputs": [],
   "source": []
  },
  {
   "cell_type": "code",
   "execution_count": null,
   "id": "5bd152ae-d4c8-44ea-84f8-0b0be4b0ad3f",
   "metadata": {},
   "outputs": [],
   "source": []
  },
  {
   "cell_type": "markdown",
   "id": "b6a41b45-59ce-461a-bce1-11dfd3195ddc",
   "metadata": {},
   "source": [
    "## Daten für Optimierung vorbereiten\n",
    "\n",
    "Die Spalten unserer Inputdatei, die wir für die Modellierung des Optimierungsproblems benötigen, müssen zu Listen konvertiert werden. Dafür gibt es verschiedene Ansätze.\n",
    "\n",
    "1. type casting"
   ]
  },
  {
   "cell_type": "code",
   "execution_count": null,
   "id": "02f7bd71-c663-41e3-9871-8347bb5ae1a6",
   "metadata": {},
   "outputs": [],
   "source": []
  },
  {
   "cell_type": "markdown",
   "id": "78c3396e-a111-43f6-a3f7-e4894cc5c74e",
   "metadata": {},
   "source": [
    "2. List comprehension"
   ]
  },
  {
   "cell_type": "code",
   "execution_count": null,
   "id": "0f61335f-34c5-4473-9950-476397dc0313",
   "metadata": {},
   "outputs": [],
   "source": []
  },
  {
   "cell_type": "markdown",
   "id": "ac4f89a9-3858-40e4-b889-7a76a3ab2e55",
   "metadata": {},
   "source": [
    "3. Spalte über Index anstatt Namen referenzieren"
   ]
  },
  {
   "cell_type": "code",
   "execution_count": null,
   "id": "0f66d6d9-2a27-4214-9d18-600862c1a382",
   "metadata": {},
   "outputs": [],
   "source": []
  },
  {
   "cell_type": "code",
   "execution_count": null,
   "id": "9a4a1c77-518b-4e0e-9c11-daa9a0ef507d",
   "metadata": {},
   "outputs": [],
   "source": []
  },
  {
   "cell_type": "markdown",
   "id": "162fd3e7-243b-4a69-8bb7-4d142d79b087",
   "metadata": {},
   "source": [
    "Bestimmt mithilfe einer Optimierung, wie der Haushalt seine Last optimal verschieben kann. **Tipp**: Schreibt euch das Optimierungsproblem zuerst formal auf einem Blatt Papier auf."
   ]
  },
  {
   "cell_type": "code",
   "execution_count": null,
   "id": "068cf842-b1a7-482a-b78a-52f95314964b",
   "metadata": {},
   "outputs": [],
   "source": []
  },
  {
   "cell_type": "code",
   "execution_count": 40,
   "id": "d3711d02-af88-46f0-8296-d8d08bc4fe50",
   "metadata": {},
   "outputs": [],
   "source": []
  },
  {
   "cell_type": "code",
   "execution_count": 40,
   "id": "a509f529-f83a-410e-a588-7743d8acb463",
   "metadata": {},
   "outputs": [],
   "source": []
  },
  {
   "cell_type": "code",
   "execution_count": null,
   "id": "3bf7a963-5d1d-497d-98fc-f762cf0d4c0f",
   "metadata": {},
   "outputs": [],
   "source": []
  },
  {
   "cell_type": "code",
   "execution_count": null,
   "id": "326dcc37-3189-49c7-a76b-3c53199423f9",
   "metadata": {},
   "outputs": [],
   "source": []
  },
  {
   "cell_type": "code",
   "execution_count": null,
   "id": "1392e071-0d05-4308-b05b-05aa026a73d0",
   "metadata": {},
   "outputs": [],
   "source": []
  },
  {
   "cell_type": "markdown",
   "id": "8c861f8f-b5a4-42fd-9ab0-4fbe2ea9ee54",
   "metadata": {},
   "source": [
    "Lasst euch die Ergebnisse ausgeben"
   ]
  },
  {
   "cell_type": "code",
   "execution_count": null,
   "id": "b3404b40-eb6f-49c5-b501-9448100b9873",
   "metadata": {},
   "outputs": [],
   "source": []
  },
  {
   "cell_type": "code",
   "execution_count": 84,
   "id": "1eb9dbd1-f760-4f9a-bf41-029f70cb5987",
   "metadata": {},
   "outputs": [],
   "source": []
  },
  {
   "cell_type": "code",
   "execution_count": null,
   "id": "e5a2a43f-d326-4ca4-88ed-37d1ed5a1046",
   "metadata": {},
   "outputs": [],
   "source": []
  },
  {
   "cell_type": "code",
   "execution_count": 113,
   "id": "d2ca0f2f-f6b5-4e4f-baa9-fdea54b55159",
   "metadata": {},
   "outputs": [],
   "source": []
  },
  {
   "cell_type": "code",
   "execution_count": null,
   "id": "5c3c8314-2755-49ec-8e35-5de74277712c",
   "metadata": {},
   "outputs": [],
   "source": []
  },
  {
   "cell_type": "code",
   "execution_count": null,
   "id": "00fc4e6d-724d-4177-827b-aed43b9b9def",
   "metadata": {},
   "outputs": [],
   "source": []
  },
  {
   "cell_type": "code",
   "execution_count": null,
   "id": "7faf5e16-a03c-4ded-951b-7b5901bdd4cd",
   "metadata": {},
   "outputs": [],
   "source": []
  },
  {
   "cell_type": "code",
   "execution_count": null,
   "id": "fd1b3683-69c2-4ab6-b049-32249af50abe",
   "metadata": {},
   "outputs": [],
   "source": []
  }
 ],
 "metadata": {
  "kernelspec": {
   "display_name": "Python 3 (ipykernel)",
   "language": "python",
   "name": "python3"
  },
  "language_info": {
   "codemirror_mode": {
    "name": "ipython",
    "version": 3
   },
   "file_extension": ".py",
   "mimetype": "text/x-python",
   "name": "python",
   "nbconvert_exporter": "python",
   "pygments_lexer": "ipython3",
   "version": "3.10.2"
  }
 },
 "nbformat": 4,
 "nbformat_minor": 5
}
