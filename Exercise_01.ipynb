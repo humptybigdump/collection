{
 "cells": [
  {
   "cell_type": "markdown",
   "metadata": {
    "colab_type": "text",
    "id": "yE8PV-Ghauv3"
   },
   "source": [
    "## ***Uncertainty Quantification***\n",
    "\n",
    "Exercise 01, \n",
    "April 22,2021\n",
    "\n",
    "\n",
    "Prof. Dr. M.Frank\n",
    "\n",
    "\n",
    "Dr. Jonas Kusch\n",
    "\n",
    "\n",
    "Pia Stammer\n",
    "\n",
    "\n",
    "Maqsood Rajput\n",
    "\n",
    "-----------------------------------------------------------------------------\n",
    "\n",
    "Note: To render Jupyter Notebook and to run code on Bw-cloud instance, please sign up at https://e5188803.ka.bw-cloud-instance.org/ \n",
    "\n",
    "-----------------------------------------------------------------------------\n",
    "#### **EXERCISE SHEET 1**"
   ]
  },
  {
   "cell_type": "code",
   "execution_count": 0,
   "metadata": {
    "colab": {},
    "colab_type": "code",
    "id": "klFPE_xfayhl"
   },
   "outputs": [],
   "source": [
    "import numpy as np\n",
    "import matplotlib.pyplot as plt\n",
    "import math\n",
    "import scipy\n",
    "import scipy.special"
   ]
  },
  {
   "cell_type": "markdown",
   "metadata": {
    "colab_type": "text",
    "id": "zTV5tn6Ga0oO"
   },
   "source": [
    "&nbsp;\n",
    "\n",
    "**EXERCISE 1)**\n",
    "\n",
    "Let $X_1,\\dots,X_n$ be iid random variables with $E(X_i)=\\mu$. Show that\n",
    "\n",
    "$$\n",
    "\\bar X = \\frac{1}{n}\\sum_{i=1}^n X_i \\text{ satisfies } E(\\bar X) = \\mu.\n",
    "$$\n"
   ]
  },
  {
   "cell_type": "markdown",
   "metadata": {
    "colab_type": "text",
    "id": "Jr72ioX9a3n5"
   },
   "source": [
    "\n",
    "&nbsp;\n",
    "\n",
    "**EXERCISE 2)**\n",
    "\n",
    "A random vector $X=(X_1,\\dots,X_n)^T$ is said to be normally distributed\n",
    "if the probability density function is given by \n",
    "\n",
    "$$\n",
    "\\begin{aligned}\n",
    "f_{X}(x) = \\frac{1}{(2\\pi)^{n/2}\\vert \\det{V}\\vert^{1/2}}\\text{exp}\\left( -\\frac{1}{2}(x-\\mu)^T V^{-1}(x-\\mu) \\right)\n",
    "\\end{aligned}\n",
    "$$\n",
    "where $\\mu = (\\mu_1,\\cdots,\\mu_n)$ is the mean and \n",
    "\n",
    "$$\n",
    "\\begin{aligned}\n",
    "V = \n",
    "\\begin{pmatrix}\n",
    "\\text{var}(X_1) & \\text{cov}(X_1,X_2) & \\cdots & \\text{cov}(X_1,X_n) \\\\\n",
    "\\text{cov}(X_2,X_1) & \\text{var}(X_2) & & \\vdots \\\\\n",
    "\\vdots &  & \\ddots & \\\\\n",
    "& & & & \\\\\n",
    "\\text{cov}(X_n,X_1) & \\cdots &  & \\text{var}(X_n)\n",
    "\\end{pmatrix}\\end{aligned}\n",
    "$$ \n",
    "\n",
    "is the covariance matrix. The notation is\n",
    "$X \\sim \\mathcal{N}(\\mu,V)$. Let $Y=(Y_1,\\dots,Y_n)^T$ be a normally\n",
    "distributed random vector with distribution $\\mathcal{N}(\\mu,V)$, where\n",
    "$V$ is positive definite and has the Cholesky decomposition $V=LL^T$.\n",
    "Let $Z\\sim \\mathcal{N}(0,I_n)$, where $I_n$ is the $n\\times n$ identity\n",
    "matrix. Show that $Y$ can be written as \n",
    "\n",
    "$$\n",
    "Y= LZ+\\mu.\n",
    "$$"
   ]
  },
  {
   "cell_type": "markdown",
   "metadata": {
    "colab_type": "text",
    "id": "PotxrK0sbAc7"
   },
   "source": [
    "&nbsp;\n",
    "\n",
    "**EXERCISE 3)**\n",
    "\n",
    "Let $X\\sim \\mathcal{N}(\\mu,\\sigma^2)$ be a normally distributed random\n",
    "variable. Look up inverse transform sampling, rejection sampling and the\n",
    "Box-Muller method in the literature and\n",
    "\n",
    "\n",
    "&nbsp;&nbsp;&nbsp;&nbsp;&nbsp;&nbsp;(a)  Derive a formula for inverse transform sampling of $X$ using the\n",
    "    error function\n",
    " \n",
    "  &nbsp;&nbsp;&nbsp;&nbsp;&nbsp;&nbsp;  $$\\text{erf}(x) = \\frac{2}{\\sqrt{\\pi}}\\int_0^x e^{-t^2}dt.$$\n",
    "\n",
    "\n",
    "&nbsp;&nbsp;&nbsp;&nbsp;&nbsp;&nbsp;(b)   Derive a rejection algorithm to sample $X$ by using $e^{-|x|}$ to\n",
    "    generate an upper bound.\n",
    "\n",
    "&nbsp;&nbsp;&nbsp;&nbsp;&nbsp;&nbsp;(c)   Write down an algorithm for the Box-Muller method.\n",
    "\n",
    "&nbsp;&nbsp;&nbsp;&nbsp;&nbsp;&nbsp;(d) Add your previous derivations to the code below to obtain inverse transform sampling, rejection sampling, and the  Box-Muller method. \n",
    "&nbsp;&nbsp;&nbsp;&nbsp;&nbsp;&nbsp;Run the code and compare their efficiency (also with `randn`).\n",
    "\n",
    "&nbsp;&nbsp;&nbsp;&nbsp;&nbsp;&nbsp;(e)   How would you sample from a multi-variate Gaussian random vector\n",
    "\n",
    "   $$ X\\sim \\mathcal{N}(\\mu,V)?$$\n",
    "\n"
   ]
  },
  {
   "cell_type": "code",
   "execution_count": 1,
   "metadata": {
    "colab": {},
    "colab_type": "code",
    "id": "9VMOi-nRbB3U"
   },
   "outputs": [],
   "source": [
    "# exact pdf\n",
    "def f(x,mu,sigma):\n",
    "    return (1/np.sqrt(2*np.pi*sigma**2))*np.exp(-0.5*((x-mu)**2)/(sigma**2));\n",
    "\n",
    "# inverse cdf for density function exp(-|x|)\n",
    "def GInverse(U1):\n",
    "    \n",
    "    # TODO: define inverse cdf for density function exp(-|x|)\n",
    "    # ...\n",
    "    \n",
    "    return y\n",
    "\n",
    "# sample function of acceptReject\n",
    "def sampleNormal():\n",
    "    \n",
    "    # TODO: define sample function of acceptReject\n",
    "    # ...\n",
    "    \n",
    "    # if sample is accepted return reject = 1, otherwise reject = 2. Store result of sample on eta\n",
    "    return [reject,eta];"
   ]
  },
  {
   "cell_type": "code",
   "execution_count": 3,
   "metadata": {
    "colab": {},
    "colab_type": "code",
    "id": "_SeZX_bgbEME"
   },
   "outputs": [],
   "source": [
    "# the idea of this code is to approximate the pdf of a given normal distribution by generating samples and plotting a histogram. \n",
    "# I.e. we generate samples with a specified sampling strategy and count how many samples fall into a certain interval\n",
    "\n",
    "method = \"boxmuller\"; # pick sampling strategy from acceptReject, randn, inverseSampling, boxmuller\n",
    "\n",
    "# define mean and variance\n",
    "mu = 1.0;\n",
    "sigma = 1.0;\n",
    "\n",
    "# define grid for x (we will count the samples on this grid)\n",
    "NGrid = 100;\n",
    "width = 10;\n",
    "grid = np.linspace(mu-width,mu+width,NGrid);\n",
    "dx = grid[2]-grid[1];\n",
    "gridMidpoints = np.linspace(mu-width+0.5*dx,mu+width-0.5*dx,NGrid-1);\n",
    "\n",
    "# define hits. Hits saves how many samples fall into the interval (grid[l],grid[l+1]], i.e. we save a histogram\n",
    "hits = np.zeros((NGrid-1,1));\n",
    "success = 0;\n",
    "\n",
    "# define number of samples to compute histogram\n",
    "NSamples = 1000;\n",
    "\n",
    "# main loop: Compute k-th sample with specified method and check in which part of the grid this sample will lie\n",
    "for k in range(1,NSamples):\n",
    "    reject = 1; # every sample is accepted if not otherwise defined. 1 is accepted, 2 is rejected\n",
    "    \n",
    "    # compute sample with mean 0, variance 1\n",
    "    if method == \"acceptReject\":\n",
    "        [reject,sample] = sampleNormal(); \n",
    "    elif method == \"randn\":\n",
    "        sample = np.random.randn();\n",
    "    elif method == \"inverseSampling\":\n",
    "        U = np.random.rand();\n",
    "        # TODO: define inverse sampling \n",
    "        # Note: several special functions such as the inverse error function are implemented in scipy.special\n",
    "        # sample = ...\n",
    "    elif method == \"boxmuller\":\n",
    "        # TODO: define boxmuller sampling\n",
    "        # sample = ...\n",
    "    \n",
    "    # scale sample to defined mean and variance\n",
    "    sample = mu+sigma*sample;\n",
    "    \n",
    "    # save in hits: check in which part of the grid this sample will lie\n",
    "    if reject == 1:\n",
    "        success = success+1; # for acceptReject\n",
    "        for l in range(1,NGrid-1):\n",
    "            if sample > grid[l] and sample <= grid[l+1]:\n",
    "                hits[l] = hits[l]+1;\n",
    "                break;\n",
    "\n",
    "if method == \"acceptReject\":\n",
    "    print('efficiency is',success/NSamples)\n",
    "\n",
    "# plotting\n",
    "maxHits = max(hits); # rescale to exact pdf. One could also rescale such that histogram integrates to 1.\n",
    "\n",
    "plt.figure(figsize=(20,10))\n",
    "fig, ax = plt.plot(gridMidpoints,f(mu,mu,sigma)*hits/maxHits,gridMidpoints,f(gridMidpoints,mu,sigma))\n",
    "\n",
    "plt.xlabel('x', fontsize=18);\n",
    "plt.ylabel(r'$f_X(x)$', fontsize=18);\n",
    "plt.legend([method,'exact'], fontsize=18);\n",
    "plt.xticks(fontsize=18);\n",
    "plt.yticks(fontsize=18);"
   ]
  },
  {
   "cell_type": "markdown",
   "metadata": {
    "colab_type": "text",
    "id": "ZVBT0oc0bJS1"
   },
   "source": [
    "&nbsp;\n",
    "\n",
    "**EXERCISE 4)**\n",
    "\n",
    "Let $X$ be a uniformly distributed random variable on the interval\n",
    "$[a,b]$, i.e. $X$ has the pdf \n",
    "\n",
    "$$\n",
    "f_X(x) = \\frac{1}{b-a}\\chi_{[a,b]}(x).\n",
    "$$\n",
    "\n",
    "Show that\n",
    "\n",
    "$$\n",
    "\\text{E}[X] = \\frac{a+b}{2}\\text{ and } \\text{Var}[X] = \\frac{(b-a)^2}{12}.\n",
    "$$"
   ]
  },
  {
   "cell_type": "markdown",
   "metadata": {
    "colab_type": "text",
    "id": "vNWc5T05bUPR"
   },
   "source": [
    "&nbsp;\n",
    "### **Additional Exercises**\n"
   ]
  },
  {
   "cell_type": "markdown",
   "metadata": {
    "colab_type": "text",
    "id": "LYN-HiUjbLjc"
   },
   "source": [
    "**EXERCISE 5)**\n",
    "\n",
    "Let $X$ be a $\\text{Gamma}(\\alpha,\\beta)$-distributed random variable,\n",
    "i.e. $X$ has the pdf\n",
    "\n",
    "$$\n",
    "f_X(x) = \\frac{\\beta^\\alpha}{\\Gamma(\\alpha)}x^{\\alpha-1}e^{-\\beta x} \\text{ for } x>0.\n",
    "$$\n",
    "\n",
    "Show that\n",
    "\n",
    "$$\n",
    "E[X] = \\frac{\\alpha}{\\beta}\\text{ and } \\text{Var}[X] = \\frac{\\alpha}{\\beta^2}.\n",
    "$$"
   ]
  },
  {
   "cell_type": "markdown",
   "metadata": {
    "colab_type": "text",
    "id": "YdQu_ilUbP-8"
   },
   "source": [
    "**EXERCISE 6)**\n",
    "\n",
    "Use the Cauchy-Schwarz inequality to show that the correlation\n",
    "\n",
    "$$\n",
    "\\text{corr}(X_1,X_2) = \\frac{\\text{cov}(X_1,X_2)}{\\sigma_{X_1}\\sigma_{X_2}}\n",
    "$$\n",
    "\n",
    "of two continuous random variables satisfies\n",
    "\n",
    "$$\n",
    "-1\\leq \\text{corr}(X_1,X_2)\\leq 1.\n",
    "$$"
   ]
  }
 ],
 "metadata": {
  "colab": {
   "collapsed_sections": [],
   "name": "UQ_Exercise1_final",
   "provenance": []
  },
  "kernelspec": {
   "display_name": "Python 3",
   "language": "python",
   "name": "python3"
  },
  "language_info": {
   "codemirror_mode": {
    "name": "ipython",
    "version": 3
   },
   "file_extension": ".py",
   "mimetype": "text/x-python",
   "name": "python",
   "nbconvert_exporter": "python",
   "pygments_lexer": "ipython3",
   "version": "3.8.6"
  }
 },
 "nbformat": 4,
 "nbformat_minor": 1
}
