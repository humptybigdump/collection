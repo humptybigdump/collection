{
 "cells": [
  {
   "cell_type": "markdown",
   "metadata": {},
   "source": [
    "<img src=\"kit_logo.jpg\" width=\"200\" height=\"200\" align=\"right\"/>\n",
    "\n",
    "##### Lehrstuhl für Analytics and Statistics (IOR)\n",
    "##### Prof. Dr. Oliver Grothe\n",
    "##### SS 2020"
   ]
  },
  {
   "cell_type": "markdown",
   "metadata": {},
   "source": [
    "# Multivariate Verfahren\n",
    "## Übung 10"
   ]
  },
  {
   "cell_type": "markdown",
   "metadata": {},
   "source": [
    "### Aufgabe 5"
   ]
  },
  {
   "cell_type": "markdown",
   "metadata": {},
   "source": [
    "Laden Sie den Datensatz *`imports`* aus Ilias herunter. Dieser enthält Daten\n",
    "zu importierten Autos. \n",
    "\n",
    "Führen Sie eine LASSO Regression für den logarithmierten Preis\n",
    "(1. Spalte im Datensatz) auf die restlichen Variablen des Datensatzes durch. Welche Regressoren würden Sie\n",
    "verwenden?\n"
   ]
  },
  {
   "cell_type": "markdown",
   "metadata": {},
   "source": [
    "#### Datenvorbereitung"
   ]
  },
  {
   "cell_type": "markdown",
   "metadata": {},
   "source": [
    "- Daten einlesen:"
   ]
  },
  {
   "cell_type": "code",
   "execution_count": 1,
   "metadata": {},
   "outputs": [],
   "source": [
    "import numpy as np\n",
    "import pandas as pd\n",
    "import math\n",
    "import scipy.stats as st\n",
    "import statsmodels.api as sm\n",
    "import time\n",
    "import matplotlib.pyplot as plt\n",
    "df = pd.read_csv(\"./imports.csv\",sep=',',header=None)\n",
    "df = pd.DataFrame.to_numpy(df)"
   ]
  },
  {
   "cell_type": "markdown",
   "metadata": {},
   "source": [
    "- Regressoren x:"
   ]
  },
  {
   "cell_type": "code",
   "execution_count": 2,
   "metadata": {},
   "outputs": [
    {
     "data": {
      "text/plain": [
       "array([[9.980e+01, 1.766e+02, 6.620e+01, 5.430e+01, 2.337e+03, 1.090e+02,\n",
       "        3.190e+00, 3.400e+00, 1.000e+01, 1.020e+02, 5.500e+03, 2.400e+01,\n",
       "        3.000e+01],\n",
       "       [9.940e+01, 1.766e+02, 6.640e+01, 5.430e+01, 2.824e+03, 1.360e+02,\n",
       "        3.190e+00, 3.400e+00, 8.000e+00, 1.150e+02, 5.500e+03, 1.800e+01,\n",
       "        2.200e+01],\n",
       "       [1.058e+02, 1.927e+02, 7.140e+01, 5.570e+01, 2.844e+03, 1.360e+02,\n",
       "        3.190e+00, 3.400e+00, 8.500e+00, 1.100e+02, 5.500e+03, 1.900e+01,\n",
       "        2.500e+01]])"
      ]
     },
     "execution_count": 2,
     "metadata": {},
     "output_type": "execute_result"
    }
   ],
   "source": [
    "x=df[:,1:14]\n",
    "x[:3]"
   ]
  },
  {
   "cell_type": "markdown",
   "metadata": {},
   "source": [
    "- Regressand y:"
   ]
  },
  {
   "cell_type": "code",
   "execution_count": 3,
   "metadata": {},
   "outputs": [
    {
     "data": {
      "text/plain": [
       "array([9.5432, 9.7671, 9.7819])"
      ]
     },
     "execution_count": 3,
     "metadata": {},
     "output_type": "execute_result"
    }
   ],
   "source": [
    "y=df[:,0]\n",
    "y[:3]"
   ]
  },
  {
   "cell_type": "markdown",
   "metadata": {},
   "source": [
    "- Standardisierung der Regressoren"
   ]
  },
  {
   "cell_type": "code",
   "execution_count": 4,
   "metadata": {},
   "outputs": [],
   "source": [
    "# Standardization\n",
    "from sklearn.preprocessing import StandardScaler\n",
    "std_x = StandardScaler().fit_transform(x)"
   ]
  },
  {
   "cell_type": "markdown",
   "metadata": {},
   "source": [
    "#### LASSO Regression"
   ]
  },
  {
   "cell_type": "markdown",
   "metadata": {},
   "source": [
    "$\\underset{\\beta_0,\\beta}{\\min}  \\frac{1}{2}\\sum_{i=1}^{N}\\left(y_i-\\beta_0-x_i^T \\beta\\right)^2 + \\alpha \\sum_{j=1}^{p}\\,\\lVert \\beta_j\\rVert_1$\n",
    "\n",
    "- $\\alpha$: Regularization parameter\n",
    "- $\\beta_0$: Intercept term \n",
    "- $\\lVert \\beta \\rVert_1$: L1-Norm of $\\beta$\n"
   ]
  },
  {
   "cell_type": "markdown",
   "metadata": {},
   "source": [
    "- Modell festlegen und anpassen"
   ]
  },
  {
   "cell_type": "code",
   "execution_count": 5,
   "metadata": {},
   "outputs": [],
   "source": [
    "# lasso with cross validation\n",
    "from sklearn import linear_model as lm\n",
    "clf=lm.LassoCV(alphas=np.logspace(-4, 0, 100),cv=10)\n",
    "t1 = time.time()\n",
    "clf.fit(std_x,y)\n",
    "t_lasso_cv = time.time() - t1"
   ]
  },
  {
   "cell_type": "code",
   "execution_count": 6,
   "metadata": {},
   "outputs": [
    {
     "data": {
      "text/plain": [
       "9.2383825"
      ]
     },
     "execution_count": 6,
     "metadata": {},
     "output_type": "execute_result"
    }
   ],
   "source": [
    "clf.intercept_"
   ]
  },
  {
   "cell_type": "code",
   "execution_count": 7,
   "metadata": {},
   "outputs": [
    {
     "data": {
      "text/plain": [
       "0.022051307399030457"
      ]
     },
     "execution_count": 7,
     "metadata": {},
     "output_type": "execute_result"
    }
   ],
   "source": [
    "clf.alpha_"
   ]
  },
  {
   "cell_type": "code",
   "execution_count": 8,
   "metadata": {},
   "outputs": [
    {
     "data": {
      "text/plain": [
       "array([ 0.0179976 ,  0.01506694,  0.0747055 ,  0.        ,  0.21051377,\n",
       "        0.        ,  0.        , -0.        ,  0.        ,  0.09065617,\n",
       "        0.        , -0.00892686, -0.        ])"
      ]
     },
     "execution_count": 8,
     "metadata": {},
     "output_type": "execute_result"
    }
   ],
   "source": [
    "clf.coef_"
   ]
  },
  {
   "cell_type": "markdown",
   "metadata": {},
   "source": [
    "- Mean Squared Error (MSE)  \n",
    "  * minIx: Index von $\\alpha$ mit minimalem MSE \n",
    "  * alphaMin, bzw clf.alpha_:  $\\alpha$ mit minimalem MSE "
   ]
  },
  {
   "cell_type": "code",
   "execution_count": 9,
   "metadata": {},
   "outputs": [],
   "source": [
    "mse=clf.mse_path_.mean(axis=-1)\n",
    "minMSE = min(mse)"
   ]
  },
  {
   "cell_type": "code",
   "execution_count": 10,
   "metadata": {},
   "outputs": [
    {
     "data": {
      "text/plain": [
       "41"
      ]
     },
     "execution_count": 10,
     "metadata": {},
     "output_type": "execute_result"
    }
   ],
   "source": [
    "minIx = np.argmin(mse)\n",
    "minIx"
   ]
  },
  {
   "cell_type": "code",
   "execution_count": 11,
   "metadata": {},
   "outputs": [
    {
     "data": {
      "text/plain": [
       "0.022051307399030457"
      ]
     },
     "execution_count": 11,
     "metadata": {},
     "output_type": "execute_result"
    }
   ],
   "source": [
    "alphaMin=clf.alphas_[minIx]\n",
    "alphaMin #same as the opt. alpha by minimaize mse: clf.alpha_"
   ]
  },
  {
   "cell_type": "markdown",
   "metadata": {},
   "source": [
    "- Standard error of MSE (SE)\n",
    "  * seIx: Index von sparsamsten Model, d.h. Model innerhalb einer SE von bestem Model mit minimaler Anzahl Regressoren \n",
    "  * alphaSE:  $\\alpha$ von sparsamsten Model "
   ]
  },
  {
   "cell_type": "code",
   "execution_count": 28,
   "metadata": {},
   "outputs": [
    {
     "data": {
      "text/plain": [
       "32"
      ]
     },
     "execution_count": 28,
     "metadata": {},
     "output_type": "execute_result"
    }
   ],
   "source": [
    "se = clf.mse_path_.std(axis=-1)/ np.sqrt(clf.mse_path_.shape[0]) #Standard error of MSE for each alpha during cv\n",
    "minplus1 = mse[minIx] + se[minIx];\n",
    "seIx = np.argmax(mse[:minIx] <= minplus1)\n",
    "\n",
    "seIx"
   ]
  },
  {
   "cell_type": "code",
   "execution_count": 27,
   "metadata": {},
   "outputs": [
    {
     "data": {
      "text/plain": [
       "0.0509413801481638"
      ]
     },
     "execution_count": 27,
     "metadata": {},
     "output_type": "execute_result"
    }
   ],
   "source": [
    "alphaSE=clf.alphas_[seIx]\n",
    "alphaSE"
   ]
  },
  {
   "cell_type": "markdown",
   "metadata": {},
   "source": [
    "#### Plot der LASSO-Pfad"
   ]
  },
  {
   "cell_type": "markdown",
   "metadata": {},
   "source": [
    "- Plot der cross-validated-MSE von LASSO Anpassung"
   ]
  },
  {
   "cell_type": "code",
   "execution_count": 30,
   "metadata": {
    "scrolled": true
   },
   "outputs": [
    {
     "name": "stderr",
     "output_type": "stream",
     "text": [
      "<ipython-input-30-9a79c8332fd1>:6: MatplotlibDeprecationWarning: Adding an axes using the same arguments as a previous axes currently reuses the earlier instance.  In a future version, a new instance will always be created and returned.  Meanwhile, this warning can be suppressed, and the future behavior ensured, by passing a unique label to each axes instance.\n",
      "  ax = plt.axes()\n"
     ]
    },
    {
     "data": {
      "image/png": "[encoded data removed]",
      "text/plain": [
       "<Figure size 504x360 with 1 Axes>"
      ]
     },
     "metadata": {
      "needs_background": "light"
     },
     "output_type": "display_data"
    }
   ],
   "source": [
    "# a plot of mean value of MSE with error bars (SE) for the model fitted by lasso with that value of alpha\n",
    "fig = plt.figure(figsize=(7,5))\n",
    "ax = fig.add_subplot(111)\n",
    "ymin, ymax= 0.01, 0.15\n",
    "xmin, xmax=10**(-4), 10**(-0.5)\n",
    "ax = plt.axes()\n",
    "ax.set_xscale(\"log\")\n",
    "ax.plot(clf.alphas_, clf.mse_path_, ':')\n",
    "ax.errorbar(clf.alphas_, clf.mse_path_.mean(axis=-1),yerr=se, marker='.',color='red', ecolor='gray',\n",
    "            elinewidth=0.5, lolims=True, uplims=True,capthick=0.3)\n",
    "ax.axvline(clf.alpha_, linestyle='--', color='k',\n",
    "            label='alpha: CV estimate best Model')\n",
    "ax.axvline(alphaSE, linestyle='--', color='b',\n",
    "            label='alpha: CV estimate sparse Model')\n",
    "ax.legend()\n",
    "plt.xlabel('alpha')\n",
    "\n",
    "plt.ylabel('Mean square error (MSE)')\n",
    "plt.title('MSE on each fold: coordinate descent '\n",
    "          '(train time: %.2fs)' % t_lasso_cv)\n",
    "plt.axis('tight')\n",
    "plt.xlim(xmax, xmin)\n",
    "plt.ylim(ymin, ymax)\n",
    "plt.show()"
   ]
  },
  {
   "cell_type": "markdown",
   "metadata": {},
   "source": [
    "- Berechnenung des Lasso-Pfads mit dem Koordinatenabstieg\n",
    "  * coefs_lasso: fitted least-squares regression coefficients along the path.\n",
    "  * alphas_lasso: Regularization coefficients along the path.\n",
    "  * DF: Freiheitsgrad, Anzahl der Nicht-Null-Koeffizienten in coefs_lasso für jeden Wert von alphas_lasso, \n",
    "\n",
    "*Each column of coefs_lasso corresponds to a particular regularization coefficient in coefs_alphas (Regularization coefficients).*"
   ]
  },
  {
   "cell_type": "code",
   "execution_count": 15,
   "metadata": {},
   "outputs": [],
   "source": [
    "alphas_lasso, coefs_lasso, _=lm.lasso_path(std_x,y,alphas=np.logspace(-4, 0, 100))"
   ]
  },
  {
   "cell_type": "code",
   "execution_count": 16,
   "metadata": {},
   "outputs": [
    {
     "data": {
      "text/plain": [
       "(13, 100)"
      ]
     },
     "execution_count": 16,
     "metadata": {},
     "output_type": "execute_result"
    }
   ],
   "source": [
    "coefs_lasso.shape"
   ]
  },
  {
   "cell_type": "code",
   "execution_count": 17,
   "metadata": {},
   "outputs": [],
   "source": [
    "DF = sum(coefs_lasso!=0,1) # Number of nonzero coefficients in coefs_lasso for each value of alpha, a 1-by-L vector"
   ]
  },
  {
   "cell_type": "code",
   "execution_count": 18,
   "metadata": {},
   "outputs": [],
   "source": [
    "xx = np.sum(np.abs(coefs_lasso), axis=0) # L1 Norm of coefficients along the path"
   ]
  },
  {
   "cell_type": "markdown",
   "metadata": {},
   "source": []
  },
  {
   "cell_type": "markdown",
   "metadata": {},
   "source": [
    "- Trace Plot der Koeffizienten von LASSO Anpassung"
   ]
  },
  {
   "cell_type": "code",
   "execution_count": 31,
   "metadata": {
    "scrolled": true
   },
   "outputs": [
    {
     "data": {
      "image/png": "[encoded data removed]",
      "text/plain": [
       "<Figure size 504x360 with 1 Axes>"
      ]
     },
     "metadata": {
      "needs_background": "light"
     },
     "output_type": "display_data"
    }
   ],
   "source": [
    "# a trace plot of the coefficients values against the L1 norm of coefficients. 'Size t'\n",
    "fig = plt.figure(figsize=(7,5))\n",
    "ax1 = fig.add_subplot(111)\n",
    "ax1.plot(xx,coefs_lasso.T, ':')\n",
    "ax1.axvline(np.sum(np.abs(clf.coef_)), linestyle='dashed',color='k',label='L1: CV estimate best')\n",
    "ax1.axvline(np.sum(np.abs(coefs_lasso[:,seIx])), linestyle='dashed',color='b',label='L1: CV estimate sparse')\n",
    "ax1.legend()\n",
    "ax1.set_ylabel('coefficients')\n",
    "ax1.set_xlabel('L1')\n",
    "#ax2 = ax1.twiny()\n",
    "#ax2.set_xticks(DF)\n",
    "#ax2.set_xlabel('degrees of freedom (df)')\n",
    "title=ax1.set_title('LASSO Path')\n",
    "title.set_y(1.12)\n",
    "plt.show()"
   ]
  },
  {
   "cell_type": "code",
   "execution_count": 20,
   "metadata": {},
   "outputs": [
    {
     "data": {
      "text/plain": [
       "0.4178668448519861"
      ]
     },
     "execution_count": 20,
     "metadata": {},
     "output_type": "execute_result"
    }
   ],
   "source": [
    "L1=np.sum(np.abs(clf.coef_))\n",
    "L1 # L1 Norm of opt. coefficient (min MSE)"
   ]
  },
  {
   "cell_type": "code",
   "execution_count": 21,
   "metadata": {},
   "outputs": [],
   "source": [
    "predictorNames = np.array(['wheel-base' ,'length' ,'width' ,'height', 'curb-weight' ,'engine-size', 'bore',\n",
    "                  'stroke' ,'compression-ratio', 'horsepower', 'peak-rpm', 'city-mpg', 'highway-mpg'])"
   ]
  },
  {
   "cell_type": "markdown",
   "metadata": {},
   "source": [
    "#### Die ausgewählten Regressoren im besten und sparsamsten Modell"
   ]
  },
  {
   "cell_type": "code",
   "execution_count": 22,
   "metadata": {},
   "outputs": [
    {
     "data": {
      "text/plain": [
       "array(['wheel-base', 'length', 'width', 'curb-weight', 'horsepower',\n",
       "       'city-mpg'], dtype='<U17')"
      ]
     },
     "execution_count": 22,
     "metadata": {},
     "output_type": "execute_result"
    }
   ],
   "source": [
    "minMSEModell=predictorNames[coefs_lasso[:,minIx]!=0]\n",
    "minMSEModell"
   ]
  },
  {
   "cell_type": "code",
   "execution_count": 23,
   "metadata": {},
   "outputs": [
    {
     "data": {
      "text/plain": [
       "array(['length', 'width', 'curb-weight', 'horsepower', 'city-mpg'],\n",
       "      dtype='<U17')"
      ]
     },
     "execution_count": 23,
     "metadata": {},
     "output_type": "execute_result"
    }
   ],
   "source": [
    "sparseModell = predictorNames[coefs_lasso[:,seIx]!=0]\n",
    "sparseModell"
   ]
  }
 ],
 "metadata": {
  "kernelspec": {
   "display_name": "Python 3",
   "language": "python",
   "name": "python3"
  },
  "language_info": {
   "codemirror_mode": {
    "name": "ipython",
    "version": 3
   },
   "file_extension": ".py",
   "mimetype": "text/x-python",
   "name": "python",
   "nbconvert_exporter": "python",
   "pygments_lexer": "ipython3",
   "version": "3.9.4"
  }
 },
 "nbformat": 4,
 "nbformat_minor": 4
}
