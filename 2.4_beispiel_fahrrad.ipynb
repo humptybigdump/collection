{
 "cells": [
  {
   "cell_type": "markdown",
   "metadata": {},
   "source": [
    "# Beispiel: Fahrradfahren\n",
    "Ein Fahrradreifen mit 28 Zoll besitzt einen Außendurchmesser von ca. 0,7 m, also einen Radius $r = $ 0,35 m. "
   ]
  },
  {
   "cell_type": "markdown",
   "metadata": {},
   "source": [
    "## Aufgabe 1\n",
    "\n",
    "*Zunächst fährt das Fahrrad bei einer konstanten Geschwindigkeit von $v$ = 25,2 km/h. Bestimmen Sie die Winkelgeschwindigkeit der Räder.*\n",
    "\n",
    "Lösung: Umrechnung der Geschwindigkeit auf m/s und Berechnung der Winkelgeschwindigkeit"
   ]
  },
  {
   "cell_type": "code",
   "execution_count": 2,
   "metadata": {},
   "outputs": [
    {
     "name": "stdout",
     "output_type": "stream",
     "text": [
      "Geschwindigkeit: v = 7.0 m/s\n"
     ]
    }
   ],
   "source": [
    "v = 25.2 * 1000.0/3600.0\n",
    "print( \"Geschwindigkeit: v = %3.1f m/s\" % v )"
   ]
  },
  {
   "cell_type": "code",
   "execution_count": 3,
   "metadata": {},
   "outputs": [
    {
     "name": "stdout",
     "output_type": "stream",
     "text": [
      "Winkelgeschwindigkeit: omega0 = 20.0 1/s\n"
     ]
    }
   ],
   "source": [
    "r=0.35\n",
    "omega0 = v/r\n",
    "print( \"Winkelgeschwindigkeit: omega0 = %4.1f 1/s\" % omega0 )"
   ]
  },
  {
   "cell_type": "markdown",
   "metadata": {},
   "source": [
    "## Aufgabe 2:\n",
    "\n",
    "*Das Fahrrad wird in 5 Sekunden mit konstanter Winkelbeschleunigung auf Null abgebremst. Berechnen Sie die Winkelbeschleunigung und die Länge des Bremswegs.*\n",
    "\n",
    "Lösung Winkelbeschleunigung: Berechnung über Differenzenquotient $\\alpha = \\frac{\\omega_1 - \\omega_0}{t_1 - t_0}$ mit $\\omega_1 = \\omega(5\\,\\mathrm{s}) = 0\\,\\mathrm{s^{-1}}$. Wir wählen $t_0$ als Zeitnullpunkt, d. h. $t_0 = 0$ und $t_1 = 5\\,\\mathrm{s}$."
   ]
  },
  {
   "cell_type": "code",
   "execution_count": 4,
   "metadata": {},
   "outputs": [
    {
     "name": "stdout",
     "output_type": "stream",
     "text": [
      "Winkelbeschleunigung: alpha = -4.0 1/s^2\n"
     ]
    }
   ],
   "source": [
    "t0 = 0\n",
    "t1 = 5\n",
    "delta_t = t1 - t0\n",
    "delta_omega = 0 - omega0\n",
    "alpha = delta_omega/delta_t\n",
    "print( \"Winkelbeschleunigung: alpha = %3.1f 1/s^2\" % alpha )"
   ]
  },
  {
   "cell_type": "markdown",
   "metadata": {},
   "source": [
    "Lösung Bremsweg:  Die Bahnkurve für $\\varphi$ ist gegeben durch\n",
    "$$\n",
    "\\varphi(t) = \\frac{1}{2} \\alpha t^2 + \\omega_0 t + \\varphi_0. \n",
    "$$\n",
    "Da der Reifen abrollt ohne zu rutschen, entspricht die Wegstrecke nach einem Zeitintervall $\\Delta t = t_1 - t_0$ gerade $x = r \\varphi$. Da am Anfang noch kein Winkel überstrichen wurde, setzen wir $\\varphi(t_0) = \\varphi_0 = 0$."
   ]
  },
  {
   "cell_type": "code",
   "execution_count": 5,
   "metadata": {},
   "outputs": [
    {
     "name": "stdout",
     "output_type": "stream",
     "text": [
      "Bremsweg: 17.5 m\n"
     ]
    }
   ],
   "source": [
    "phi = 0.5 * alpha * delta_t**2 + omega0 * delta_t\n",
    "x = r * phi\n",
    "print( \"Bremsweg: %4.1f m\" % x )"
   ]
  },
  {
   "cell_type": "markdown",
   "metadata": {},
   "source": [
    "## Aufgabe 3\n",
    "\n",
    "*Wie viele Umdrehungen haben die Räder während des Bremsvorgangs gemacht?*\n",
    "\n",
    "Lösung: Die Anzahl der Umdrehungen ergibt sich aus der Länge des Winkels im Bogenmaß, geteilt durch $2\\pi$."
   ]
  },
  {
   "cell_type": "code",
   "execution_count": 6,
   "metadata": {},
   "outputs": [
    {
     "name": "stdout",
     "output_type": "stream",
     "text": [
      "Anzahl der Umdrehungen: 7.96\n"
     ]
    }
   ],
   "source": [
    "import numpy as np\n",
    "n = phi/(2*np.pi)\n",
    "print( \"Anzahl der Umdrehungen: %4.2f\" % n )"
   ]
  },
  {
   "cell_type": "code",
   "execution_count": null,
   "metadata": {},
   "outputs": [],
   "source": []
  }
 ],
 "metadata": {
  "kernelspec": {
   "display_name": "Python 3",
   "language": "python",
   "name": "python3"
  },
  "language_info": {
   "codemirror_mode": {
    "name": "ipython",
    "version": 3
   },
   "file_extension": ".py",
   "mimetype": "text/x-python",
   "name": "python",
   "nbconvert_exporter": "python",
   "pygments_lexer": "ipython3",
   "version": "3.12.7"
  }
 },
 "nbformat": 4,
 "nbformat_minor": 4
}
