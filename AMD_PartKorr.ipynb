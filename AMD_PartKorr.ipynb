{
 "cells": [
  {
   "cell_type": "code",
   "execution_count": 10,
   "id": "c15a3ae9-cc6c-408a-b859-5c0063c01af2",
   "metadata": {},
   "outputs": [
    {
     "name": "stdout",
     "output_type": "stream",
     "text": [
      "Korrelationsmatrix:\n",
      " [[ 1.          0.89534291 -0.83198622  0.44930286]\n",
      " [ 0.89534291  1.         -0.74586077  0.4007006 ]\n",
      " [-0.83198622 -0.74586077  1.         -0.37699383]\n",
      " [ 0.44930286  0.4007006  -0.37699383  1.        ]]\n",
      "\n",
      "Given variable 1 (as a control):\n",
      "Partial correlation between variable 2 and 3: -0.004\n",
      "Partial correlation between variable 2 and 4: -0.004\n",
      "Partial correlation between variable 3 and 4: -0.006\n",
      "\n",
      "Given variable 2 (as a control):\n",
      "Partial correlation between variable 1 and 3: -0.553\n",
      "Partial correlation between variable 1 and 4: 0.222\n",
      "Partial correlation between variable 3 and 4: -0.128\n",
      "\n",
      "Given variable 3 (as a control):\n",
      "Partial correlation between variable 1 and 2: 0.744\n",
      "Partial correlation between variable 1 and 4: 0.264\n",
      "Partial correlation between variable 2 and 4: 0.194\n",
      "\n",
      "Given variable 4 (as a control):\n",
      "Partial correlation between variable 1 and 2: 0.874\n",
      "Partial correlation between variable 1 and 3: -0.801\n",
      "Partial correlation between variable 2 and 3: -0.701\n"
     ]
    }
   ],
   "source": [
    "import numpy as np\n",
    "\n",
    "def calculate_partial_correlations(data):\n",
    "    \"\"\"\n",
    "    Berechnet die partiellen Korrelationen für jedes Paar von Variablen, gegeben eine dritte Variable,\n",
    "    basierend auf der Korrelationsmatrix der Daten.\n",
    "    \"\"\"\n",
    "    # Korrelationsmatrix berechnen\n",
    "    corr_matrix = np.corrcoef(data, rowvar=False)\n",
    "    n = corr_matrix.shape[0]\n",
    "    partial_corrs = np.zeros((n, n, n))\n",
    "\n",
    "    # Partielle Korrelationen berechnen\n",
    "    for k in range(n):\n",
    "        for i in range(n):\n",
    "            for j in range(n):\n",
    "                if i != j and i != k and j != k:\n",
    "                    # Extraktion der relevanten Submatrix\n",
    "                    C = corr_matrix[np.ix_([i, j, k], [i, j, k])]\n",
    "                    # Berechnung der partiellen Korrelation\n",
    "                    P_ij_k = (C[0, 1] - C[0, 2] * C[1, 2]) / np.sqrt((1 - C[0, 2]**2) * (1 - C[1, 2]**2))\n",
    "                    partial_corrs[i, j, k] = P_ij_k\n",
    "\n",
    "    return partial_corrs\n",
    "\n",
    "# Größe der Stichprobe\n",
    "Size = 100000\n",
    "\n",
    "# Erzeugen der Daten\n",
    "np.random.seed(42)\n",
    "X1 = np.random.normal(0, 1, Size)\n",
    "X2 = 2 * X1 / np.sqrt(5) + np.random.normal(0, 1, Size) / np.sqrt(5)\n",
    "X3 = -1.5 * X1 / np.sqrt(3.25) + np.random.normal(0, 1, Size) / np.sqrt(3.25)\n",
    "X4 = 0.5 * X1 / np.sqrt(1.25) + np.random.normal(0, 1, Size) / np.sqrt(1.25)\n",
    "data = np.column_stack([X1, X2, X3, X4])\n",
    "\n",
    "# Ausgabe der Korrelationsmatrix\n",
    "print(\"Korrelationsmatrix:\\n\",np.corrcoef(data, rowvar=False))\n",
    "\n",
    "# Partielle Korrelationen berechnen\n",
    "partial_corrs = calculate_partial_correlations(data)\n",
    "\n",
    "# Ausgabe der partiellen Korrelationen\n",
    "n = partial_corrs.shape[0]\n",
    "for k in range(n):\n",
    "    print(f\"\\nGiven variable {k+1} (as a control):\")\n",
    "    for i in range(n):\n",
    "        for j in range(i + 1, n):\n",
    "            if i != k and j != k:\n",
    "                print(f\"Partial correlation between variable {i+1} and {j+1}: {partial_corrs[i, j, k]:.3f}\")\n"
   ]
  },
  {
   "cell_type": "code",
   "execution_count": null,
   "id": "b132ecc7-52c4-425c-984a-a14c306194ba",
   "metadata": {},
   "outputs": [],
   "source": []
  }
 ],
 "metadata": {
  "kernelspec": {
   "display_name": "Python 3 (ipykernel)",
   "language": "python",
   "name": "python3"
  },
  "language_info": {
   "codemirror_mode": {
    "name": "ipython",
    "version": 3
   },
   "file_extension": ".py",
   "mimetype": "text/x-python",
   "name": "python",
   "nbconvert_exporter": "python",
   "pygments_lexer": "ipython3",
   "version": "3.11.7"
  }
 },
 "nbformat": 4,
 "nbformat_minor": 5
}
