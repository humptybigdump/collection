{
 "cells": [
  {
   "cell_type": "markdown",
   "metadata": {},
   "source": [
    "# Musterlösung zum 3. Python-Workshop"
   ]
  },
  {
   "cell_type": "markdown",
   "metadata": {},
   "source": [
    "# Vorbereitungen\n",
    "Wir binden vorbereitend für die Aufgaben die folgenden Pakete ein\n",
    "* `numpy` für mathematische Funktionen\n",
    "* `matplotlib.pyplot` zur Erstellung von Plots\n",
    "* `interpolate` aus `scipy` zur Erstellung von Interpolationen (Polynominterpolation, Taylor Polynome, Splines)\n",
    "* `optimize` aus `scipy` zur Berechnung von kleinste-Quadrate-Approximationen\n",
    "* `matplotlib.animation` zur Erstellung animierter Plots\n",
    "* `HTML`aus `IPython.display`, um das Animations-Widget ins Notebook einbinden zu können."
   ]
  },
  {
   "cell_type": "code",
   "execution_count": null,
   "metadata": {},
   "outputs": [],
   "source": [
    "import numpy as np\n",
    "import matplotlib.pyplot as plt\n",
    "from scipy import interpolate\n",
    "from scipy import optimize\n",
    "import matplotlib.animation as animation\n",
    "from IPython.display import HTML"
   ]
  },
  {
   "cell_type": "markdown",
   "metadata": {},
   "source": [
    "# Aufgabe 1:\n",
    "Plotten Sie die Graphen zu \n",
    "  \\\\[  f(x) = x^n, \\quad x \\in [0,1]  \\\\]\n",
    "für \\\\(n=1,2,\\dots,4\\\\) in einem gemeinsamen Koordinatensystem. Beschriften Sie die Linien."
   ]
  },
  {
   "cell_type": "code",
   "execution_count": null,
   "metadata": {},
   "outputs": [],
   "source": [
    "x = np.linspace(0,1,1000)\n",
    "\n",
    "for n in range(1,5):\n",
    "    y = x**n\n",
    "    plt.plot(x,y, label = 'n='+str(n))\n",
    "\n",
    "plt.grid()\n",
    "plt.legend()\n",
    "plt.title('Die Monome x^n')\n",
    "plt.show()"
   ]
  },
  {
   "cell_type": "markdown",
   "metadata": {},
   "source": [
    "# Aufgabe 2:\n",
    "Es bezeichne \\\\(p_n(x)\\\\) das Interpolationspolynom mit \\\\(n+1\\\\) gleichabständigen Stützstellen zur Funktion \\\\( f(x) =  \\sin x, \\quad x \\in [0,4\\pi]\\\\).\n",
    "  \n",
    "* Plotten Sie jeweils in einem gemeinsamen Plot:\n",
    "    1.  \\\\(f,\\, p_3,\\, p_5, \\, p_7, \\, p_9\\\\) im Intervall \n",
    "      \\\\([0,4\\pi]\\\\),\n",
    "    2.  \\\\(f,\\, p_3,\\, p_5, \\, p_7, \\,p_9\\\\) im Intervall \n",
    "      \\\\([-\\pi,5\\pi]\\\\).\n",
    "* Erstellen Sie einen animierten Plot für \\\\(p_5\\\\) bis \\\\(p_{20}\\\\) im Intervall \\\\([0,4\\pi ]\\\\). Zeichnen Sie dabei die das aktuelle Interpolationspolynom sowie die Funktion \\\\(f\\\\) ein. Markieren Sie außerdem die aktuell verwendeten Interpoaltionspunkte und zeigen Sie den aktuellen Wert von \\\\(n\\\\) an.\n",
    "* Weshalb gilt \\\\(\\lim \\limits_{n \\to \\infty} |p_n(x) - \\sin x | =0\\\\) für \\\\(x \\in [0,4\\pi]\\\\)?\n",
    "* Erstellen Sie einen analogen animierten Plot, aber für die Funktion \\\\(f(x) = \\frac{1}{1+x^2}\\\\) über dem Intervall \\\\([-5,5]\\\\)."
   ]
  },
  {
   "cell_type": "code",
   "execution_count": null,
   "metadata": {},
   "outputs": [],
   "source": [
    "def f(x):\n",
    "    return np.sin(x)"
   ]
  },
  {
   "cell_type": "markdown",
   "metadata": {},
   "source": [
    "**Plot über dem Intervall \\\\([0,4\\pi]\\\\)**"
   ]
  },
  {
   "cell_type": "code",
   "execution_count": null,
   "metadata": {},
   "outputs": [],
   "source": [
    "x = np.linspace(0, 4*np.pi, 1000)\n",
    "y = f(x)\n",
    "\n",
    "plt.plot(x,y,label = 'Sinus')\n",
    "\n",
    "for n in [3,5,7,9]:\n",
    "    x_data = np.linspace(0,4*np.pi,n+1)\n",
    "    y_data = f(x_data)\n",
    "    poly = interpolate.BarycentricInterpolator(x_data, y_data)\n",
    "    y_poly = poly(x)\n",
    "    plt.plot(x,y_poly,label = 'n='+str(n))\n",
    "\n",
    "plt.legend()\n",
    "plt.ylim(-2,2)\n",
    "plt.title('Interpolationspolynome des Sinus zu äquidistanten Stützstellen')\n",
    "plt.show()"
   ]
  },
  {
   "cell_type": "markdown",
   "metadata": {},
   "source": [
    "**Plot über dem Intervall \\\\([-\\pi,5\\pi]\\\\)**"
   ]
  },
  {
   "cell_type": "code",
   "execution_count": null,
   "metadata": {},
   "outputs": [],
   "source": [
    "x = np.linspace(-np.pi, 5*np.pi, 1000)\n",
    "y = f(x)\n",
    "\n",
    "plt.plot(x,y,label = 'Sinus')\n",
    "\n",
    "for n in [3,5,7,9]:\n",
    "    x_data = np.linspace(0,4*np.pi,n+1)\n",
    "    y_data = f(x_data)\n",
    "    poly = interpolate.BarycentricInterpolator(x_data, y_data)\n",
    "    y_poly = poly(x)\n",
    "    plt.plot(x,y_poly,label = 'n='+str(n))\n",
    "\n",
    "plt.legend()\n",
    "plt.ylim(-2,2)\n",
    "plt.title('Interpolationspolynome des Sinus zu äquidistanten Stützstellen')\n",
    "plt.show()"
   ]
  },
  {
   "cell_type": "markdown",
   "metadata": {},
   "source": [
    "**Animierter Plot für \\\\(f(x)=\\sin(x)\\\\)**"
   ]
  },
  {
   "cell_type": "code",
   "execution_count": null,
   "metadata": {
    "scrolled": false
   },
   "outputs": [],
   "source": [
    "fig = plt.figure()\n",
    "\n",
    "# 1.) Grafik-Elemente, die statisch bleiben sollen, werden erstellt\n",
    "x = np.linspace(0, 4*np.pi, 1000)\n",
    "y = f(x)\n",
    "plt.plot(x,y)\n",
    "plt.ylim(-2,2)\n",
    "\n",
    "# 2.) Dynamische Grafik-Elemente werden zunächst ohne Daten erstellt\n",
    "line, = plt.plot([], [], 'r-' )   # Interpolationspolynom\n",
    "points, = plt.plot([], [], 'ro' ) # Stützstellen\n",
    "label = plt.text(2*np.pi, 1.5, '', ha='center', va='top', fontsize=24) # Beschriftung von n\n",
    "\n",
    "# 3.) frames-Funktion\n",
    "def frames(i):\n",
    "    n=i+5 # Frame-Zähler startet immer bei 0, wir fangen mit p_5 an\n",
    "    # Neue Daten generieren, neues Interpolationspolynom berechnen\n",
    "    x_data = np.linspace(0,4*np.pi,n+1) # n-tes Inerpolationspolynom --> n+1 Interpolationspunkte\n",
    "    y_data = f(x_data)\n",
    "    poly = interpolate.BarycentricInterpolator(x_data, y_data)  # Interpolationspolynom (auswertbare Python-Funktion)\n",
    "    y_poly = poly(x)\n",
    "    # Interpolationspolynom-Plot updaten\n",
    "    line.set_data(x,y_poly)\n",
    "    # Stützstellen-Plot updaten\n",
    "    points.set_data(x_data, y_data)\n",
    "    # Beschriftung updaten\n",
    "    label.set_text(\"n = \" + str(n))\n",
    "    return line,points,label\n",
    "\n",
    "# 4.) Animationsbefehl\n",
    "ani = animation.FuncAnimation(\n",
    "    fig, frames, interval=500, blit=True, save_count=16)\n",
    "\n",
    "plt.close()\n",
    "HTML(ani.to_jshtml())"
   ]
  },
  {
   "cell_type": "markdown",
   "metadata": {},
   "source": [
    "**Animierter Plot für \\\\(f(x)=\\frac{1}{1+x^2}\\\\)**"
   ]
  },
  {
   "cell_type": "code",
   "execution_count": null,
   "metadata": {},
   "outputs": [],
   "source": [
    "def f(x):\n",
    "    return 1/(1+x**2)"
   ]
  },
  {
   "cell_type": "markdown",
   "metadata": {},
   "source": [
    "Nachdem wir die neue Funktion \\\\(f\\\\) definiert haben, können wir den Code von oben kopieren und brauchen lediglich die Intervallgrenzen für den Vektor \\\\(x\\\\), den dargestellten \\\\(y\\\\)-Achsen-Abschnitt, die Position der Beschriftung sowie die Intervallgrenzen für den Stützstellenvektor `x_data` ändern."
   ]
  },
  {
   "cell_type": "code",
   "execution_count": null,
   "metadata": {},
   "outputs": [],
   "source": [
    "fig = plt.figure()\n",
    "\n",
    "# 1.) Grafik-Elemente, die statisch bleiben sollen, werden erstellt\n",
    "x = np.linspace(-5, 5, 1000)\n",
    "y = f(x)\n",
    "plt.plot(x,y)\n",
    "plt.ylim(-0.5,1.5)\n",
    "\n",
    "# 2.) Dynamische Grafik-Elemente werden zunächst ohne Daten erstellt\n",
    "line, = plt.plot([], [], 'r-' )   # Interpolationspolynom\n",
    "points, = plt.plot([], [], 'ro' ) # Stützstellen\n",
    "label = plt.text(0, 1.25, '', ha='center', va='top', fontsize=24) # Beschriftung von n\n",
    "\n",
    "# 3.) frames-Funktion\n",
    "def frames(i):\n",
    "    n=i+5 # Frame-Zähler startet immer bei 0, wir fangen mit p_5 an\n",
    "    # Neue Daten generieren, neues Interpolationspolynom berechnen\n",
    "    x_data = np.linspace(-5,5,n+1) # n-tes Inerpolationspolynom --> n+1 Interpolationspunkte\n",
    "    y_data = f(x_data)\n",
    "    poly = interpolate.BarycentricInterpolator(x_data, y_data)  # Interpolationspolynom (auswertbare Python-Funktion)\n",
    "    y_poly = poly(x)\n",
    "    # Interpolationspolynom-Plot updaten\n",
    "    line.set_data(x,y_poly)\n",
    "    # Stützstellen-Plot updaten\n",
    "    points.set_data(x_data, y_data)\n",
    "    # Beschriftung updaten\n",
    "    label.set_text(\"n = \" + str(n))\n",
    "    return line,points,label\n",
    "\n",
    "# 4.) Animationsbefehl\n",
    "ani = animation.FuncAnimation(\n",
    "    fig, frames, interval=500, blit=True, save_count=16)\n",
    "\n",
    "plt.close()\n",
    "HTML(ani.to_jshtml())"
   ]
  },
  {
   "cell_type": "markdown",
   "metadata": {},
   "source": [
    "# Aufgabe 3:\n",
    "Es bezeichne \\\\(s_n(x)\\\\) den eingespannten kubischen Spline mit \\\\(n\\\\) gleichabständigen Stützstellen zur Funktion\n",
    "  \n",
    "  \\\\[  f(x) = \\frac{1}{1+x^2}, \\quad x \\in [-5,5],  \\\\]\n",
    "  \n",
    "  und den  Randbedingungen \\\\(s'(-5) = -s'(5) = \\frac{5}{338}\\\\).\n",
    "  \n",
    "* Plotten Sie \\\\(f,\\, s_6,\\, s_7, \\, s_{11}\\\\) und \\\\(s_{12}\\\\) in einem gemeinsamen Plot. \n",
    "* Erstellen Sie einen animierten Plot für \\\\(s_n, n=6,8,...,30\\\\). Markieren Sie dabei die aktuell verwendeten Interpolationspunkte und geben Sie den aktuellen Wert von \\\\(n\\\\) an."
   ]
  },
  {
   "cell_type": "code",
   "execution_count": null,
   "metadata": {},
   "outputs": [],
   "source": [
    "def f(x):\n",
    "    return 1/(1+x**2)"
   ]
  },
  {
   "cell_type": "markdown",
   "metadata": {},
   "source": [
    "**Plot von \\\\(f, s_6, s_7, s_{11}, s_{12}\\\\)**"
   ]
  },
  {
   "cell_type": "code",
   "execution_count": null,
   "metadata": {},
   "outputs": [],
   "source": [
    "x = np.linspace(-5,5,1000)\n",
    "y = f(x)\n",
    "\n",
    "plt.plot(x,y, label = 'Funktion f')\n",
    "\n",
    "for n in [6,7,11,12]:\n",
    "    x_data = np.linspace(-5,5,n) # n-ter Spline --> n Stützstellen\n",
    "    y_data = f(x_data)\n",
    "    # Berechnung des Splines:\n",
    "    spline = interpolate.CubicSpline( x_data, y_data, bc_type=((1,5/338),(1,5/338)) ) # Spline (auswertbare Python-Funktion)\n",
    "    y_spline = spline(x)\n",
    "    plt.plot(x,y_spline, label = 'n='+str(n))\n",
    "\n",
    "plt.legend()\n",
    "plt.show()"
   ]
  },
  {
   "cell_type": "markdown",
   "metadata": {},
   "source": [
    "**Animierter Plot**"
   ]
  },
  {
   "cell_type": "code",
   "execution_count": null,
   "metadata": {},
   "outputs": [],
   "source": [
    "fig = plt.figure()\n",
    "\n",
    "# 1.) Grafik-Elemente, die statisch bleiben sollen werden erstellt\n",
    "x = np.linspace(-5,5,1000)\n",
    "y = f(x)\n",
    "plt.plot(x, y, 'b-', linewidth=2)\n",
    "\n",
    "# 2.) Grafik-Elemente, die sich ändern sollen werden zunächst ohne Daten erstellt\n",
    "line, = plt.plot([], [], 'r-' )   # Spline\n",
    "points, = plt.plot([], [], 'ro' ) # Stützstellen\n",
    "label = plt.text(-2.5, 0.8, '', ha='center', va='top', fontsize=24) # Beschriftung\n",
    "    \n",
    "# 3.) frames-Funktion\n",
    "def frames(i):\n",
    "    n=2*i+6 # Frame-Zähler startet immer bei 0, wir fangen mit s_6 an und gehen in 2er-Schritten nach oben\n",
    "    # Neue Daten generieren, neuen Spline berechnen\n",
    "    x_data = np.linspace(-5,5,n) # n-ter Spline --> n Stützstellen\n",
    "    y_data = f(x_data)\n",
    "    spline = interpolate.CubicSpline( x_data, y_data, bc_type=((1,5/338),(1,5/338)) ) # Spline (auswertbare Python-Funktion)\n",
    "    # Spline-Plot updaten\n",
    "    y_spline = spline(x)\n",
    "    line.set_data(x,y_spline)\n",
    "    # Stützstellen-Plot updaten\n",
    "    points.set_data(x_data, y_data)\n",
    "    # Beschriftung updaten\n",
    "    label.set_text(\"n = \" + str(n))\n",
    "    return line,points,label\n",
    "\n",
    "# 4.) Animationsbefehl\n",
    "ani = animation.FuncAnimation(\n",
    "    fig, frames, interval=500, blit=True, save_count=13)\n",
    "\n",
    "plt.close()\n",
    "HTML(ani.to_jshtml())"
   ]
  },
  {
   "cell_type": "markdown",
   "metadata": {},
   "source": [
    "# Aufgabe 4:\n",
    "Approximieren Sie die Funktion  \\\\(y = \\ln x\\\\), \\\\(x \\in [1,20]\\\\)  mit den\n",
    "Stützstellen   \\\\(x_i = i\\\\), \\\\(i=1,\\dots,20,\\\\)  mit der Methode der\n",
    "kleinsten Quadrate wie folgt:\n",
    "\n",
    "* Berechnen und plotten Sie die Ausgleichsgerade sowie die Ausgleichsparabel 3. und 5. Grades. Berechnen Sie jeweils die Summe der Fehlerquadrate. \n",
    "* Berechnen Sie das Interpolationspolynom \\\\(p\\\\) sowie den natürlichen Spline \\\\(s\\\\) zu den Stützstellen. Plotten Sie die Ausgleichsparabel 5. Grades gemeinsam mit \\\\(p\\\\) und \\\\(s\\\\).\n",
    "* Stören Sie die Funktionswerte zufällig mit einem relativen Fehler von 5%. Berechnen und plotten Sie das zugehörige Interpolationspolynom, den Spline und die Ausgleichs\\-parabel 5. Grades."
   ]
  },
  {
   "cell_type": "markdown",
   "metadata": {},
   "source": [
    "**Ablauf: Kleinste Quadrate Optimierung in Python**\n",
    "Die kleinste Quadrate Optimierung läuft in Python folgendermaßen ab:\n",
    "* Die Optmierung braucht das Paket `optimize` aus `scipy`. Durch den Befehl `from scipy import optimize` haben wir dieses zu Beginn des Notebooks bereits geladen.\n",
    "* Zunächst gibt man den gewählten Modellierungsansatz an. Dazu definiert man eine Prozedur `fun`, die abhängig von den zu schätzenden Parametern `pars` den durch das Modell gegebenen y-Wert für einen x-Wert berechnet (vg. Gl. 4.10 im Skript), d.h. eine Prozedur der Form\n",
    "\n",
    "```\n",
    "def fun(pars,x):\n",
    "    y=...\n",
    "    return y\n",
    "```\n",
    "* Anschließend wird eine Prozedur `residuals` definiert, die für eine Funktion `fun` wie eben definiert, wieder in Abhängigkeit der Parameter `pars` für gegebene Werte x und y das Residuum berechnet, d.h. den Wert `y-fun(x)`. Die Summe der Quadrate dieser Residuen, die diese Funktion für unsere vorliegenden Messdaten liefert, werden später minimiert (vgl. Gl. 4.13 im Skript). Die Prozedur sieht also folgendermaßen aus:\n",
    "\n",
    "```\n",
    "def residuals(pars,fun,x,y):\n",
    "    return y - fun(pars,x)\n",
    "```\n",
    "* Für die Optimierung werden Anfangs-Schätzungen `pars_0` für die Parameter `pars` benötigt. Als einfachste Variante kann man z.B. alle Parameter gleich Null setzen, d.h. `pars_0` als den Nullvektor passender Größe setzen.\n",
    "* Nun können wir den Befehl `optimize.least_squares` verwenden, um die kleinste Quadrate Approximation zu berechnen. Dabei müssen wir folgende Parameter übergeben:\n",
    "    1. Den Namen der Residuums-Funktion, bei uns `residuals`\n",
    "    2. Die Anfangsschätzungen `pars_0`\n",
    "    3. Ein Tupel `args`, das die Werte der weiteren Argumente der Funktion `residuals` abgesehen von den Parametern `pars` enthält. Es enthält also zunächst die Modellfunktion `fun`. Für `x` und `y` übergeben wir hier unsere Messwerte. Wir nehmen an, dass diese in zwei Vektoren `x_data` und `y_data` gespeichert sind. Die Ergebnisse der Optimierung speichern wir in der Variable `optimization_results`. Insgesamt rufen wir also den folgenden Befehl auf:\n",
    "\n",
    "```\n",
    "    optimization_results = optimize.least_squares(residuals, pars_0, args=(fun, x_data, y_data) )\n",
    "```\n",
    "* Das Element `optimization_results` enthält viele Details zu den Optimierungsergebnissen. Die eigentlichen Parameter, an denen wir in erster Linie interessiert sind, erhält man durch `optimization_results.x`. Die Summe der Fehlerquadrate erhält man durch `optimization_results.cost`."
   ]
  },
  {
   "cell_type": "markdown",
   "metadata": {},
   "source": [
    "**Nun zur eigentlichen Aufgabe:**\n",
    "\n",
    "Erzeugung der Modelldaten:"
   ]
  },
  {
   "cell_type": "code",
   "execution_count": null,
   "metadata": {},
   "outputs": [],
   "source": [
    "def f(x):\n",
    "    return np.log(x)\n",
    "\n",
    "x_data = np.array(range(1,21))\n",
    "y_data = f(x_data)"
   ]
  },
  {
   "cell_type": "markdown",
   "metadata": {},
   "source": [
    "**Plot der Ausgleichsgeraden und Ausgleichsparabeln 3./5. Ordnung**\n",
    "\n",
    "Wir wollen eine kleinste Quadrate-Approximation mit verschiedenen Modellfunktionen durchführen, nämlich mit einer Geraden (Polynom von Grad 1), einem Polynom von Grad 3 oder einem Polynom vom Grad 5 als Modellfunktion. Wir definieren daher eine Modellfunktion `polynomial` mit einem zusätzlichen Parameter `n`, der den Grad des Modellpolynoms angibt. Der Parametervektor `pars` entält dann dementsprechend `n+1` Parameter (=Koeffizienten des Polynoms). Auch die Residuums-Funktion `residuals`hat den zusätzlichen Parameter `n`, da in dieser ja wiederum die Modellfunktion `polynomial` aufgerufen wird."
   ]
  },
  {
   "cell_type": "code",
   "execution_count": null,
   "metadata": {},
   "outputs": [],
   "source": [
    "def polynomial(pars,x,n):\n",
    "    y=0\n",
    "    for i in range(n+1):\n",
    "        y = y + pars[i]*x**i\n",
    "    return y\n",
    "\n",
    "def residuals(pars,fun,x,y,n):\n",
    "    return y - polynomial(pars,x,n)"
   ]
  },
  {
   "cell_type": "markdown",
   "metadata": {},
   "source": [
    "Den Optimierungsbefehl wollen wir dann für `n=1,3,5` aufrufen. Dazu erstellen wir eine passende `for`-Schleife. In dieser erstellen wir zunächst als Anfangs-Schätzung einen Nullvektor der passenden Größe (`n+1` Nullen), rufen den Optimierungsbefehl auf (beachte, dass wir zusätzlich das Argument `n` der `residual`-Funktion im Tupel `args` übergeben müssen), lesen die Parameter aus dem Optimierungsergebnis aus und plotten die durch diese Parameter bestimmte Funktion. Außerdem geben wir das Fehlerquadrat aus."
   ]
  },
  {
   "cell_type": "code",
   "execution_count": null,
   "metadata": {},
   "outputs": [],
   "source": [
    "for n in [1,3,5]:\n",
    "    pars_0 = np.zeros(n+1)\n",
    "    optimization_results = optimize.least_squares(residuals, pars_0, args=(polynomial, x_data, y_data, n) )\n",
    "    optimal_pars = optimization_results.x\n",
    "    # Gebe Fehlerquadrate aus\n",
    "    print('n =',n,'--> Fehlerquadrat',optimization_results.cost)\n",
    "    # Plotte Ergebnis-Funktion:\n",
    "    x = np.linspace(1,20,1000)\n",
    "    y_poly = polynomial(optimal_pars,x,n)\n",
    "    plt.plot(x,y_poly, label = 'n = ' + str(n))\n",
    "\n",
    "# Ergänze Plot der Datenpunkte und der Funktion f selbst:\n",
    "plt.plot(x_data,y_data,'ro', label = 'Datenpunkte')\n",
    "y = f(x)\n",
    "plt.plot(x,y, label = 'f')\n",
    "\n",
    "plt.legend()\n",
    "plt.show()"
   ]
  },
  {
   "cell_type": "markdown",
   "metadata": {},
   "source": [
    "**Interpolationspolynom, Spline & Ausgleichsparabel im Vergleich - ohne Störung der Messdaten**"
   ]
  },
  {
   "cell_type": "code",
   "execution_count": null,
   "metadata": {},
   "outputs": [],
   "source": [
    "# Ausgleichsparabel\n",
    "n=5\n",
    "pars_0 = np.zeros(n+1)\n",
    "optimization_results = optimize.least_squares(residuals, pars_0, args=(polynomial, x_data, y_data, n) )\n",
    "optimal_pars = optimization_results.x\n",
    "x = np.arange(1,20+0.01,0.01)\n",
    "y_poly = polynomial(optimal_pars,x,n)\n",
    "plt.plot(x,y_poly, label = 'Ausgleichsparabel')\n",
    "\n",
    "# Inerpolationspolynom\n",
    "interpol = interpolate.BarycentricInterpolator(x_data, y_data)\n",
    "y_interpol = interpol(x)\n",
    "plt.plot(x,y_interpol, label = 'Interpolationspolynom')\n",
    "\n",
    "# Spline\n",
    "spline = interpolate.CubicSpline( x_data, y_data, bc_type='natural' ) # Spline (auswertbare Python-Funktion)\n",
    "y_spline = spline(x)\n",
    "plt.plot(x,y_spline, label = 'Spline')\n",
    "\n",
    "# Datenpunkte\n",
    "plt.plot(x_data,y_data,'ro', label = 'Datenpunkte')\n",
    "\n",
    "plt.legend()\n",
    "plt.show()"
   ]
  },
  {
   "cell_type": "markdown",
   "metadata": {},
   "source": [
    "**Interpolationspolynom, Spline & Ausgleichsparabel im Vergleich - mit Störung der Messdaten**\n",
    "\n",
    "Wir stören die Messdaten zufällig mit einem relativen Fehler von 5%. Durch den Befehl `np.random.rand(N)` werden \\\\(N\\\\) Pseudo-Zufallszahlen im Intervall \\\\([0,1]\\\\) (gemäß einer Gleichverteilung) erzeugt. Diese transformieren durch Muliplikation mit \\\\(2\\\\) und Subtraktion von \\\\(1\\\\) auf Zufallszahlen im Intervall \\\\([-1,1]\\\\). Die Messdaten stören wir, indem wir die Werte aus dem Vektor `y_data` mit Faktoren der Form \\\\(1+0.05\\cdot z\\\\) multiplizieren, wobei \\\\(z\\\\) die Zufallszahlen sind. Anschließend können wir identisch wie oben Ausgleichsparabel, Spline und Interpolationspolynom zu den neuen Messdaten erzeugen.\n",
    "\n",
    "**Man beachte das Ausbrechen des Interpolationspolynoms!**"
   ]
  },
  {
   "cell_type": "code",
   "execution_count": null,
   "metadata": {},
   "outputs": [],
   "source": [
    "# Zufällige Störung der Messdaten\n",
    "x_data = np.array(range(1,21))\n",
    "y_data = f(x_data)\n",
    "z = np.random.rand(20)\n",
    "y_data = y_data*(1+0.05*z)\n",
    "\n",
    "# Ausgleichsparabel\n",
    "n=5\n",
    "pars_0 = np.zeros(n+1)\n",
    "optimization_results = optimize.least_squares(residuals, pars_0, args=(polynomial, x_data, y_data, n) )\n",
    "optimal_pars = optimization_results.x\n",
    "x = np.arange(1,20+0.01,0.01)\n",
    "y_poly = polynomial(optimal_pars,x,n)\n",
    "plt.plot(x,y_poly, label = 'Ausgleichsparabel')\n",
    "\n",
    "# Inerpolationspolynom\n",
    "interpol = interpolate.BarycentricInterpolator(x_data, y_data)\n",
    "y_interpol = interpol(x)\n",
    "plt.plot(x,y_interpol, label = 'Interpolationspolynom')\n",
    "\n",
    "# Spline\n",
    "spline = interpolate.CubicSpline( x_data, y_data, bc_type='natural' ) # Spline (auswertbare Python-Funktion)\n",
    "y_spline = spline(x)\n",
    "plt.plot(x,y_spline, label = 'Spline')\n",
    "\n",
    "# Datenpunkte\n",
    "plt.plot(x_data,y_data,'ro', label = 'Datenpunkte')\n",
    "\n",
    "plt.legend()\n",
    "plt.ylim([0,4])\n",
    "plt.show()"
   ]
  },
  {
   "cell_type": "markdown",
   "metadata": {},
   "source": [
    "**Alternativ: Ausgleichsgerade und Ausgleichsparabeln durch manuelle Aufstellung des Normalgleichungssystems**"
   ]
  },
  {
   "cell_type": "code",
   "execution_count": null,
   "metadata": {},
   "outputs": [],
   "source": [
    "def poly(x,weights):\n",
    "    n = len(weights)\n",
    "    res = 0\n",
    "    for i in range(n):\n",
    "        res = res + weights[i]*x**i\n",
    "    return res"
   ]
  },
  {
   "cell_type": "code",
   "execution_count": null,
   "metadata": {},
   "outputs": [],
   "source": [
    "x = np.arange(1,20+0.01,0.01)\n",
    "y = f(x)\n",
    "plt.plot(x,y, label = 'Funktion f')\n",
    "\n",
    "x_data = np.array(range(1,21))\n",
    "y_data = f(x_data)\n",
    "plt.plot(x_data,y_data,'ro', label = 'Datenpunkte')\n",
    "\n",
    "# Ausgleichsgerade y = a + bx\n",
    "A = np.transpose( np.vstack( (np.ones(20),x_data) ) )\n",
    "# Löse LGS A^T A w = A^T y_data\n",
    "weights = np.linalg.solve(A.T@A,A.T@y_data)\n",
    "# Berechne Funktionwerte der Gerade und plotte sie\n",
    "y_1 = poly(x,weights)\n",
    "plt.plot(x,y_1, label = 'Ausgleichsgerade')\n",
    "\n",
    "# Ausgleichsparabel 3. Ordnung y = a + bx + cx^2 + dx^3\n",
    "A = np.transpose( np.vstack( (np.ones(20),x_data,x_data**2,x_data**3) ) )\n",
    "# Löse LGS A^T A w = A^T y_data\n",
    "weights = np.linalg.solve(A.T@A,A.T@y_data)\n",
    "# Berechne Funktionwerte der Parabel 3. Ordnung und plotte sie\n",
    "y_3 = poly(x,weights)\n",
    "plt.plot(x,y_3, label = 'Parabel 3. Ordnung')\n",
    "\n",
    "# Ausgleichsparabel 5. Ordnung y = a + bx + cx^2 + dx^3 +ex^4 + fx^5\n",
    "A = np.transpose( np.vstack( (np.ones(20),x_data,x_data**2,x_data**3,x_data**4,x_data**5) ) )\n",
    "# Löse LGS A^T A w = A^T y_data\n",
    "weights = np.linalg.solve(A.T@A,A.T@y_data)\n",
    "# Berechne Funktionwerte der Parabel 3. Ordnung und plotte sie\n",
    "y_5 = poly(x,weights)\n",
    "plt.plot(x,y_5, label = 'Parabel 5. Ordnung')\n",
    "\n",
    "plt.legend()\n",
    "plt.show()"
   ]
  },
  {
   "cell_type": "code",
   "execution_count": null,
   "metadata": {},
   "outputs": [],
   "source": []
  }
 ],
 "metadata": {
  "kernelspec": {
   "display_name": "Python 3",
   "language": "python",
   "name": "python3"
  },
  "language_info": {
   "codemirror_mode": {
    "name": "ipython",
    "version": 3
   },
   "file_extension": ".py",
   "mimetype": "text/x-python",
   "name": "python",
   "nbconvert_exporter": "python",
   "pygments_lexer": "ipython3",
   "version": "3.8.3"
  }
 },
 "nbformat": 4,
 "nbformat_minor": 4
}
