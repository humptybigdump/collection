{
 "cells": [
  {
   "cell_type": "markdown",
   "metadata": {
    "cell_id": "6aa89259c39a436186eb4cb658643603",
    "deepnote_cell_type": "markdown",
    "deletable": false,
    "editable": false,
    "id": "902b04ab",
    "nbgrader": {
     "cell_type": "markdown",
     "checksum": "70f84d7b39a452b7f4e13acd976c8ba0",
     "grade": false,
     "grade_id": "cell-b4a5fabbdbb97f8a",
     "locked": true,
     "schema_version": 3,
     "solution": false,
     "task": false
    }
   },
   "source": [
    "# Grundlagen der Künstlichen Intelligenz - Wintersemester 2024/25\n"
   ]
  },
  {
   "cell_type": "markdown",
   "metadata": {
    "cell_id": "a3b8c9afea2c477b90e8c34058adef5d",
    "deepnote_cell_type": "markdown",
    "deletable": false,
    "editable": false,
    "id": "4ceec16e",
    "nbgrader": {
     "cell_type": "markdown",
     "checksum": "9843a11c1562c6cdbdcf77ca61ed4d82",
     "grade": false,
     "grade_id": "cell-557b63afe58adf20",
     "locked": true,
     "schema_version": 3,
     "solution": false,
     "task": false
    }
   },
   "source": [
    "# Übung 2: Regression und Klassifikation mit linearen Modellen\n",
    "\n",
    "---\n",
    "\n",
    "> 'Grundlagen der künstlichen Intelligenz' im Wintersemester 2024/2025\n",
    ">\n",
    "> - T.T.-Prof. Benjamin Schäfer, benjamin.schaefer@kit.edu\n",
    "> - Prof. Gerhard Neumann, gerhard.neumann@kit.edu\n",
    "\n",
    "---\n",
    "\n",
    "In dieser Übung beschäftigen wir uns mit die grundlegenden Konzepte der Regression und Klassifikation anhand von linearen Modellen. In der ersten Aufgabe werden wir lineare Modelle für eine Regressionsaufgabe auf synthetischen Daten anwenden. Wir schauen uns an, welchen Einfluss die Kapazität von Modellen auf die Generalisierungsfähigkeit hat und wie Regularisierung helfen kann, Overfitting zu vermeiden. In der zweiten Aufgabe wenden wir ein lineares Modell zur Klassifikation an. Wir werden den bekannten Titanic-Datensatz verwenden, um mithilfe einer logistischen Regression zu bestimmen, welche Faktoren das Überleben der Passagiere beeinflusst haben.\n",
    "\n",
    "### Übungsteam\n",
    "\n",
    "- Sebastian Pütz, sebastian.puetz@kit.edu\n",
    "- Ulrich Oberhofer, ulrich.oberhofer@kit.edu\n",
    "- Philipp Dahlinger, philipp.dahlinger@kit.edu\n",
    "- Nicolas Schreiber, nicolas.schreiber@kit.edu\n"
   ]
  },
  {
   "cell_type": "markdown",
   "metadata": {
    "cell_id": "b0f43b908917478f8084470fd0648fa4",
    "deepnote_cell_type": "markdown"
   },
   "source": [
    "# Gruppenabgabe\n",
    "\n",
    "Die Übungsblätter können in Gruppen von bis zu **3 Studierenden** abgegeben werden. **Jede Person aus der Gruppe muss die finale Version der Abgabe über Ilias hochladen**, es genügt nicht, dass nur eine Person aus der Gruppe dies tut. Es ist prinzipiell möglich, im Laufe des Semesters sich einer neuen Gruppe anzuschließen, sollte sich die eigene Gruppe vorzeitig auflösen. Generell muss jede Gruppe ihre eigene Lösung hochladen, wir werden die Abgaben auf Duplikate überprüfen.\n",
    "\n",
    "Die Gruppen werden automatisch erfasst, **gebt deshalb die u-Kürzel eurer Gruppenmitglieder in die folgende Zelle ein.** Falls eure Gruppe nur aus 2 Studierenden besteht, oder ihr alleine abgibt, lasst die verbleibenden Felder frei. Hier ein Beispiel für eine Gruppe bestehend aus uabcd und uefgh:\n",
    "\n",
    "_U-Kürzel der Gruppenmitglieder:_\n",
    "\n",
    "_Mitglied 1: uabcd_\n",
    "\n",
    "_Mitglied 2: uefgh_\n",
    "\n",
    "_Mitglied 3:_\n"
   ]
  },
  {
   "cell_type": "markdown",
   "metadata": {
    "cell_id": "c1518d7e12a144eaa103742f0ff3478a",
    "deepnote_cell_type": "markdown"
   },
   "source": [
    "U-Kürzel der Gruppenmitglieder:\n",
    "\n",
    "Mitglied 1:\n",
    "\n",
    "Mitglied 2:\n",
    "\n",
    "Mitglied 3:\n"
   ]
  },
  {
   "cell_type": "markdown",
   "metadata": {
    "cell_id": "1bd42710e7b847b48d1e98956601c816",
    "deepnote_cell_type": "markdown",
    "deletable": false,
    "editable": false,
    "id": "4617191b",
    "nbgrader": {
     "cell_type": "markdown",
     "checksum": "f9b1e957d51365ab47d748bfde41772e",
     "grade": false,
     "grade_id": "cell-f4cd01f4946bdbe8",
     "locked": true,
     "schema_version": 3,
     "solution": false,
     "task": false
    }
   },
   "source": [
    "# Auto-grading\n",
    "\n",
    "Wir nutzen ein auto-grading System, welches eure abgegebenen Jupyter Notebooks automatisch analysiert und über\n",
    "hidden tests auf Richtigkeit prüft. Über diese Tests werden die Punkte bestimmt, die ihr für das Übungsblatt erhaltet.\n",
    "\n",
    "Damit das auto-grading reibungslos funktioniert bitte folgende Dinge beachten:\n",
    "\n",
    "- Notebook muss Dateinamen \"ex_02_regression_classification.ipynb\" haben\n",
    "- PDF und Jupyter notebook einzeln im Ilias hochladen (nicht als Zip!)\n",
    "- Vor dem Abgeben eines Notebooks bitte testen, dass alles von vorne bis hinten ohne Fehler durchläuft.\n",
    "- Zellen, welche mit \"##### DO NOT CHANGE #####\" markiert sind dürfen weder gelöscht noch bearbeitet werden\n",
    "- Eure Lösung muss in die richtige Zelle (markiert mit \"# YOUR CODE HERE\") eingetragen werden.\n",
    "  - (dabei natürlich den NotImplementedError löschen!)\n",
    "- Es gibt potentiell scheinbar leere Zellen, die auch mit \"\" markiert sind. Auch diese dürfen nicht bearbeitet oder gelöscht werden.\n",
    "  - Falls dies doch gemacht wird, dann wird das automatische Grading nicht funktionieren und ihr erhaltet keine Punkte.\n",
    "  - Wir werden hier strikt handeln und keine Ausnahmen machen, falls jemand doch Zellen verändert, die eindeutig als readonly markiert sind!\n",
    "- Die Jupyter Notebooks haben inline Tests (für euch sichtbar), welche euer Ergebnis auf grobe Richtigkeit überprüfen.\n",
    "  - Diese sind primär für euch, um Fehler zu erkennen und zu korrigieren.\n",
    "  - Die inline Tests, die ihr im Notebook sehen könnt, sind allerdings nicht die Tests welche für das Grading verwendet werden!\n",
    "  - Die inline Tests sind eine notwendige Bedingung, um beim Grading der Aufgabe Punkte zu erhalten!\n"
   ]
  },
  {
   "cell_type": "code",
   "execution_count": null,
   "metadata": {
    "cell_id": "d0f1c17c2220491b893617a829647714",
    "deepnote_cell_type": "code",
    "deletable": false,
    "editable": false,
    "execution_context_id": "5a1103c4-0842-497c-951b-69d5a37cd3e1",
    "execution_millis": 2,
    "execution_start": 1730320171073,
    "id": "6656dcf6",
    "nbgrader": {
     "cell_type": "code",
     "checksum": "40f891a216eca0cb461b7d858cf53394",
     "grade": false,
     "grade_id": "ro-imports",
     "locked": true,
     "schema_version": 3,
     "solution": false,
     "task": false
    },
    "source_hash": "9b244cd5"
   },
   "outputs": [],
   "source": [
    "##### DO NOT CHANGE #####\n",
    "import numpy as np\n",
    "import pandas as pd\n",
    "import seaborn as sns\n",
    "import sklearn\n",
    "\n",
    "from sklearn.linear_model import LinearRegression\n",
    "from sklearn.preprocessing import PolynomialFeatures\n",
    "from sklearn.pipeline import Pipeline\n",
    "from sklearn.model_selection import train_test_split\n",
    "from sklearn.linear_model import LogisticRegression\n",
    "from sklearn.preprocessing import MinMaxScaler\n",
    "from sklearn.linear_model import Ridge\n",
    "\n",
    "import matplotlib.pyplot as plt\n",
    "\n",
    "sns.set(style=\"whitegrid\")\n",
    "\n",
    "##### DO NOT CHANGE #####"
   ]
  },
  {
   "cell_type": "markdown",
   "metadata": {
    "cell_id": "b0158de96c99440ca993d92ccc33d944",
    "deepnote_cell_type": "markdown",
    "deletable": false,
    "editable": false,
    "nbgrader": {
     "cell_type": "markdown",
     "checksum": "9da69d76a0acaf09be5e770e8a8c54a4",
     "grade": false,
     "grade_id": "cell-5bf374c8c9c58576",
     "locked": true,
     "schema_version": 3,
     "solution": false,
     "task": false
    }
   },
   "source": [
    "# Aufgabe 2.1 - Regression (6 = 2+2+2 Punkte)\n",
    "\n",
    "In dieser Aufgabe befassen wir uns mit der linearen Regression. Zunächst generieren wir synthetische Datenpunkte in Form eines Polynoms mit hinzugefügtem Rauschen (Noise). Ziel ist es, diese Daten zunächst mit linearer Regression und dann mit verallgemeinerter linearer Regression, konkret mit Polynomregression, zu fitten. Im späteren Verlauf wenden wir dann eine Regularisierungsmethode an, um ein Überanpassen (Overfitting) des Modells zu vermeiden.\n"
   ]
  },
  {
   "cell_type": "markdown",
   "metadata": {
    "cell_id": "35711eb124c14c27b647baff9c941bc1",
    "deepnote_cell_type": "text-cell-h3",
    "deletable": false,
    "editable": false,
    "formattedRanges": [],
    "nbgrader": {
     "cell_type": "markdown",
     "checksum": "1141cb051e627a5f0f628e9cc55cf0de",
     "grade": false,
     "grade_id": "cell-76962b52424825ce",
     "locked": true,
     "schema_version": 3,
     "solution": false,
     "task": false
    }
   },
   "source": [
    "### Datenerzeugung\n"
   ]
  },
  {
   "cell_type": "code",
   "execution_count": null,
   "metadata": {
    "cell_id": "9e51458cbdb54a00992c3b176ffe2dfe",
    "deepnote_cell_type": "code",
    "deletable": false,
    "editable": false,
    "execution_context_id": "5a1103c4-0842-497c-951b-69d5a37cd3e1",
    "execution_millis": 3,
    "execution_start": 1730320173350,
    "id": "p7XNwvEzVBbC",
    "nbgrader": {
     "cell_type": "code",
     "checksum": "8cddb2b7642149357d6ae178acc7b2a9",
     "grade": false,
     "grade_id": "cell-cac2a4913bb27d89",
     "locked": true,
     "schema_version": 3,
     "solution": false,
     "task": false
    },
    "source_hash": "f3b75e26"
   },
   "outputs": [],
   "source": [
    "##### DO NOT CHANGE #####\n",
    "np.random.seed(42)\n",
    "\n",
    "# Generate input data\n",
    "x = np.linspace(-3, 3, 30)\n",
    "y = 0.4 * x ** 3 - 0.2 * x + 5 + np.random.normal(0, 1, x.shape[0])\n",
    "\n",
    "##### DO NOT CHANGE #####"
   ]
  },
  {
   "cell_type": "markdown",
   "metadata": {
    "cell_id": "042435851b194009b533280116648783",
    "deepnote_cell_type": "text-cell-h3",
    "deletable": false,
    "editable": false,
    "formattedRanges": [],
    "nbgrader": {
     "cell_type": "markdown",
     "checksum": "8d883cfc8ad762318f13690f36a57cdd",
     "grade": false,
     "grade_id": "cell-0037d66b425e71e8",
     "locked": true,
     "schema_version": 3,
     "solution": false,
     "task": false
    }
   },
   "source": [
    "### Datensatzaufteilung\n"
   ]
  },
  {
   "cell_type": "markdown",
   "metadata": {
    "cell_id": "19b8685c0a5e4979b7d28b2a2e1d0972",
    "deepnote_cell_type": "markdown",
    "deletable": false,
    "editable": false,
    "nbgrader": {
     "cell_type": "markdown",
     "checksum": "44ee7f01a0d31fb200dd503b5d436f3e",
     "grade": false,
     "grade_id": "cell-10e05b245993b880",
     "locked": true,
     "schema_version": 3,
     "solution": false,
     "task": false
    }
   },
   "source": [
    "Wir teilen den Datensatz jetzt in eine Traning- und eine Testmenge auf. Die Trainingsdaten dienen dazu, das lineare Regressionsmodell zu trainieren und die Modellparameter zu optimieren. Die Testdaten werden im Anschluss dafür verwendet, um die Modellleistung auf neuen Datenpunkten zu evaluieren, die aus der gleichen zugrunde liegenden Verteilung stammen. Diese Annahme ist wichtig, da sie sicherstellt, dass die im Training erlernten Muster auch im Testset anwendbar sind und das Modell somit realistisch evaluiert werden kann. In realen Anwendungen ist diese Annahme jedoch oft nicht vollständig erfüllt.\n",
    "\n",
    "> **Hinweis:** In dieser Übung verwenden wir eine 50:50-Aufteilung, um den Effekt auf das Modell besser zu veranschaulichen. In realen Szenarien werden jedoch üblicherweise kleinere Anteile (zum Beispiel 20-30%) für die Testmenge genutzt, um mehr Daten für das Training zu haben.\n"
   ]
  },
  {
   "cell_type": "code",
   "execution_count": null,
   "metadata": {
    "cell_id": "ea284b60439b4dadad9e4349ea33a032",
    "deepnote_cell_type": "code",
    "deletable": false,
    "editable": false,
    "execution_context_id": "5a1103c4-0842-497c-951b-69d5a37cd3e1",
    "execution_millis": 3,
    "execution_start": 1730320184897,
    "id": "ftHcu8-cVWPi",
    "nbgrader": {
     "cell_type": "code",
     "checksum": "e8d6731481deb1c8faea2993b84f011d",
     "grade": false,
     "grade_id": "cell-d96afc70e8aec79c",
     "locked": true,
     "schema_version": 3,
     "solution": false,
     "task": false
    },
    "source_hash": "709bc554"
   },
   "outputs": [],
   "source": [
    "##### DO NOT CHANGE #####\n",
    "# Split into train and test sets\n",
    "X_train, X_test, y_train, y_test = train_test_split(\n",
    "    x.reshape(-1, 1), y, test_size=0.5, random_state=42\n",
    ")\n",
    "\n",
    "##### DO NOT CHANGE #####"
   ]
  },
  {
   "cell_type": "markdown",
   "metadata": {
    "cell_id": "745fcd9b1a964df0baf1daba6c43a751",
    "deepnote_cell_type": "markdown",
    "deletable": false,
    "editable": false,
    "nbgrader": {
     "cell_type": "markdown",
     "checksum": "6a2cedbc2a14acf1de402999fbf92f1a",
     "grade": false,
     "grade_id": "cell-0345bee70323c2be",
     "locked": true,
     "schema_version": 3,
     "solution": false,
     "task": false
    }
   },
   "source": [
    "Wir sehen uns die erzeugten Traning- und Testdatenpunkte in der folgenden Grafik an.\n"
   ]
  },
  {
   "cell_type": "code",
   "execution_count": null,
   "metadata": {
    "cell_id": "170b7774b52c49febb7d27b6288ed94a",
    "colab": {
     "base_uri": "https://localhost:8080/",
     "height": 573
    },
    "deepnote_cell_type": "code",
    "execution_context_id": "5a1103c4-0842-497c-951b-69d5a37cd3e1",
    "execution_millis": 717,
    "execution_start": 1730320187829,
    "id": "QaxygcSfVfvA",
    "outputId": "e321e27e-1a65-42a0-87d0-5a8ca4cb7e70",
    "source_hash": "3dc56b50"
   },
   "outputs": [],
   "source": [
    "plt.figure(figsize=(10, 6))\n",
    "sns.scatterplot(x=X_train.flatten(), y=y_train, label=\"Train Data\", color=\"blue\")\n",
    "sns.scatterplot(x=X_test.flatten(), y=y_test, label=\"Test Data\", color=\"red\")\n",
    "plt.title(\"Synthetic Dataset\")\n",
    "plt.xlabel(\"x\")\n",
    "plt.ylabel(\"y\")\n",
    "plt.legend()\n",
    "plt.show()"
   ]
  },
  {
   "cell_type": "markdown",
   "metadata": {
    "cell_id": "3842524cd0a04c3bab444c2f810729e6",
    "deepnote_cell_type": "text-cell-h3",
    "deletable": false,
    "editable": false,
    "formattedRanges": [],
    "nbgrader": {
     "cell_type": "markdown",
     "checksum": "7fe55f1c3f00cafef93373f8d49b857e",
     "grade": false,
     "grade_id": "cell-b6e74312bd741620",
     "locked": true,
     "schema_version": 3,
     "solution": false,
     "task": false
    }
   },
   "source": [
    "### Lineare Regression (2 Punkte)\n"
   ]
  },
  {
   "cell_type": "markdown",
   "metadata": {
    "cell_id": "ca1f6797f23c417aab66550c953330b3",
    "deepnote_cell_type": "markdown",
    "deletable": false,
    "editable": false,
    "nbgrader": {
     "cell_type": "markdown",
     "checksum": "f2dbe5280e183586e7e65d41c288e5de",
     "grade": false,
     "grade_id": "cell-4bf4f2ae70b7e6e0",
     "locked": true,
     "schema_version": 3,
     "solution": false,
     "task": false
    }
   },
   "source": [
    "In diesem Schritt beginnen wir mit einer einfachen linearen Regression, um die Daten zu modellieren. Dafür verwenden wir das [`LinearRegression`-Modul](https://scikit-learn.org/stable/modules/generated/sklearn.linear_model.LinearRegression.html) aus der Bibliothek `scikit-learn`. Fittet im nächsten Schritt zunächst das Regressionsmodell mit den Trainingsdaten. Alle wichtigen Informationen dazu findet ihr in der Dokumentation.\n"
   ]
  },
  {
   "cell_type": "code",
   "execution_count": null,
   "metadata": {
    "deletable": false,
    "editable": false,
    "nbgrader": {
     "cell_type": "code",
     "checksum": "b42e15fce07da8e49b09bbc3356c140f",
     "grade": false,
     "grade_id": "cell-e06d7f26de95311e",
     "locked": true,
     "schema_version": 3,
     "solution": false,
     "task": false
    }
   },
   "outputs": [],
   "source": [
    "##### DO NOT CHANGE #####\n",
    "linear_model = LinearRegression()\n",
    "\n",
    "##### DO NOT CHANGE #####"
   ]
  },
  {
   "cell_type": "code",
   "execution_count": null,
   "metadata": {
    "cell_id": "3cac6862e3134b4591c153c7104829db",
    "deepnote_cell_type": "code",
    "deletable": false,
    "execution_context_id": "5a1103c4-0842-497c-951b-69d5a37cd3e1",
    "execution_millis": 2,
    "execution_start": 1730320191753,
    "id": "WewLAOqgVjtm",
    "nbgrader": {
     "cell_type": "code",
     "checksum": "a514840e875dd0660dc72d06ee99f876",
     "grade": false,
     "grade_id": "linear-regression-fitting",
     "locked": false,
     "schema_version": 3,
     "solution": true,
     "task": false
    },
    "source_hash": "1805fb8"
   },
   "outputs": [],
   "source": [
    "# fit the model\n",
    "# YOUR CODE HERE\n",
    "raise NotImplementedError()"
   ]
  },
  {
   "cell_type": "markdown",
   "metadata": {
    "cell_id": "a781a8d876144dcda5e76888108e6e1c",
    "deepnote_cell_type": "markdown",
    "deletable": false,
    "editable": false,
    "nbgrader": {
     "cell_type": "markdown",
     "checksum": "f03eaff7dd9acdd6bad5ba84fdbaf61b",
     "grade": false,
     "grade_id": "cell-10d4d7f44e240732",
     "locked": true,
     "schema_version": 3,
     "solution": false,
     "task": false
    }
   },
   "source": [
    "Nach dem Training visualisieren wir das Ergebnis der Modellierung. Dabei zeigen wir die gerade Linie, die das Modell als beste lineare Lösung für die gegebenen Daten ermittelt hat. Wir plotten sowohl die Trainings- als auch die Testdatenpunkte, um zu sehen, wie gut das Modell zu beiden Datensätzen passt. Da die zugrunde liegende Struktur der Daten jedoch nicht rein linear ist, wird die Anpassung der Linie an die Punkte nur ungefähr, aber nicht optimal sein.\n"
   ]
  },
  {
   "cell_type": "code",
   "execution_count": null,
   "metadata": {
    "cell_id": "9538b74fb54f4361865a57520f6e05cf",
    "colab": {
     "base_uri": "https://localhost:8080/",
     "height": 573
    },
    "deepnote_cell_type": "code",
    "execution_context_id": "5a1103c4-0842-497c-951b-69d5a37cd3e1",
    "execution_millis": 783,
    "execution_start": 1730320197063,
    "id": "MvWYPEgQVw4A",
    "outputId": "581aa93a-df00-4fb1-b7d1-9ec9ac50588d",
    "source_hash": "95c36360"
   },
   "outputs": [],
   "source": [
    "x_plot_range = np.linspace(-3, 3, 100)\n",
    "y_plot_pred = linear_model.predict(x_plot_range.reshape(-1, 1))\n",
    "\n",
    "plt.figure(figsize=(10, 6))\n",
    "sns.scatterplot(x=X_train.flatten(), y=y_train, label=\"Train Data\", color=\"blue\")\n",
    "sns.scatterplot(x=X_test.flatten(), y=y_test, label=\"Test Data\", color=\"red\")\n",
    "sns.lineplot(x=x_plot_range, y=y_plot_pred, label=\"Linear Model\", color=\"blue\")\n",
    "plt.title(\"Linear Regression Model Fit\")\n",
    "plt.xlabel(\"x\")\n",
    "plt.ylabel(\"y\")\n",
    "plt.legend()\n",
    "plt.show()"
   ]
  },
  {
   "cell_type": "markdown",
   "metadata": {
    "cell_id": "5aa14fb074094c919025102b20cf198e",
    "deepnote_cell_type": "markdown",
    "deletable": false,
    "editable": false,
    "nbgrader": {
     "cell_type": "markdown",
     "checksum": "ef1ae63204d6c23bf601c812b7d77830",
     "grade": false,
     "grade_id": "cell-74f846546bcd63b8",
     "locked": true,
     "schema_version": 3,
     "solution": false,
     "task": false
    }
   },
   "source": [
    "Wir wollen die lineare Anpassung nicht nur anschaulich bewerten, sondern auch quantitativ. Dazu nutzen wir die mittlere quadratische Abweichung (Mean squared error, MSE): $\\text{MSE}=\\frac{1}{n}\\sum_{i=1}^n(y_{i, \\text{pred}}-y_{i, \\text{true}})^2$ *(siehe Vorlesung 2, Folie 10 und Vorlesung 3, Folie 25)*.\n",
    "Definiert zunächst eine Funktion, welche die mittlere quadratische Abweichung zwischen vom Modell berechneten Punkten und den echten Daten berechnet:\n"
   ]
  },
  {
   "cell_type": "code",
   "execution_count": null,
   "metadata": {
    "cell_id": "286f2e1bd63f40f6ac9ded2ccd12edbf",
    "deepnote_cell_type": "code",
    "deletable": false,
    "execution_context_id": "5a1103c4-0842-497c-951b-69d5a37cd3e1",
    "execution_millis": 5,
    "execution_start": 1730320200374,
    "nbgrader": {
     "cell_type": "code",
     "checksum": "cc5c5be34f0d39d5d307857fd91b9d42",
     "grade": false,
     "grade_id": "mse-function",
     "locked": false,
     "schema_version": 3,
     "solution": true,
     "task": false
    },
    "source_hash": "93faa6a5"
   },
   "outputs": [],
   "source": [
    "def mse(y_prediction, y_true):\n",
    "    # YOUR CODE HERE\n",
    "    raise NotImplementedError()"
   ]
  },
  {
   "cell_type": "markdown",
   "metadata": {
    "cell_id": "19372ab041b141a9828e671aa6cab8f7",
    "deepnote_cell_type": "markdown",
    "deletable": false,
    "editable": false,
    "nbgrader": {
     "cell_type": "markdown",
     "checksum": "f60b4c8c5c6e5aebfd444e7c687e9185",
     "grade": false,
     "grade_id": "cell-510bf5186ce103b4",
     "locked": true,
     "schema_version": 3,
     "solution": false,
     "task": false
    }
   },
   "source": [
    "Wir berechnen nun den MSE sowohl für die Trainings als auch für die Testdaten.\n"
   ]
  },
  {
   "cell_type": "code",
   "execution_count": null,
   "metadata": {
    "cell_id": "9e137aa9f7804382a474dc10b401e054",
    "deepnote_cell_type": "code",
    "deletable": false,
    "editable": false,
    "execution_context_id": "5a1103c4-0842-497c-951b-69d5a37cd3e1",
    "execution_millis": 4,
    "execution_start": 1730320204404,
    "nbgrader": {
     "cell_type": "code",
     "checksum": "d4559f082019f2ac4eb7f06e3e4ef49e",
     "grade": false,
     "grade_id": "cell-611056ab834b0bb1",
     "locked": true,
     "schema_version": 3,
     "solution": false,
     "task": false
    },
    "source_hash": "37d368e4"
   },
   "outputs": [],
   "source": [
    "##### DO NOT CHANGE #####\n",
    "mse_linear_train = mse(linear_model.predict(X_train), y_train)\n",
    "mse_linear_test = mse(linear_model.predict(X_test), y_test)\n",
    "print(\n",
    "    f\"MSE Trainingsdaten : {mse_linear_train:.4f}, MSE Testdaten : {mse_linear_test:.4f}\"\n",
    ")\n",
    "\n",
    "##### DO NOT CHANGE #####"
   ]
  },
  {
   "cell_type": "markdown",
   "metadata": {
    "cell_id": "134b866e6352420bb546ac0c3f1befc9",
    "deepnote_cell_type": "text-cell-h3",
    "deletable": false,
    "editable": false,
    "formattedRanges": [],
    "nbgrader": {
     "cell_type": "markdown",
     "checksum": "01f86d03f2c3e3b19dbf54db1fc78c2e",
     "grade": false,
     "grade_id": "cell-d7196ca85c4ee3da",
     "locked": true,
     "schema_version": 3,
     "solution": false,
     "task": false
    }
   },
   "source": [
    "### Polynomregression (2 Punkte)\n"
   ]
  },
  {
   "cell_type": "markdown",
   "metadata": {
    "cell_id": "b7c599fc201e461eb53e4f242d030fd8",
    "deepnote_cell_type": "markdown",
    "deletable": false,
    "editable": false,
    "nbgrader": {
     "cell_type": "markdown",
     "checksum": "b6369146196dfabcfbf89e808153425e",
     "grade": false,
     "grade_id": "cell-068647bb9708c08b",
     "locked": true,
     "schema_version": 3,
     "solution": false,
     "task": false
    }
   },
   "source": [
    "> **Hinweis:** Obwohl Polynomregression nichtlineare Beziehungen zwischen den Daten darstellen kann, gilt sie dennoch als lineares Modell. Das liegt daran, dass die Polynomregression die Eingangsvariablen lediglich durch Potenzen erweitert (zum Beispiel $x^2$, $x^3$ etc.), aber die Parameter des Modells (die Koeffizienten dieser Potenzen) immer noch linear geschätzt werden. Es bleibt also ein lineares Modell in den Parametern, obwohl die Eingangsvariablen eine nicht-lineare Form annehmen.\n"
   ]
  },
  {
   "cell_type": "markdown",
   "metadata": {
    "cell_id": "e3da6608c80d4c32aef0adaac5e5e5ca",
    "deepnote_cell_type": "markdown",
    "deletable": false,
    "editable": false,
    "nbgrader": {
     "cell_type": "markdown",
     "checksum": "c84757299a676f62b35ed91ae66a3d51",
     "grade": false,
     "grade_id": "cell-90a621acf98467c5",
     "locked": true,
     "schema_version": 3,
     "solution": false,
     "task": false
    }
   },
   "source": [
    "Wir haben festgestellt, dass eine einfache lineare Regression nicht optimal für die Anpassung unserer Daten geeignet ist. Daher greifen wir auf die verallgemeinerte lineare Regression zurück, und verwenden speziell die Polynomregression. Anstatt eine einfache lineare Beziehung $y = w_0 + w_1 x + \\epsilon$ zu modellieren, ermöglicht die Polynomregression die Darstellung einer komplexeren Beziehung der Form:\n",
    "\n",
    "$y = w_0 + w_1 x + w_2 x^2 + \\dots + w_k x^k + \\epsilon$,\n",
    "\n",
    "wobei $k$ den Grad des Polynoms angibt.\n",
    "In `scikit-learn` können wir mithilfe der Klasse `Pipeline` ein Modell für die Polynomregression erstellen.\n"
   ]
  },
  {
   "cell_type": "markdown",
   "metadata": {
    "cell_id": "c25db09253b545bfb482c8d938e7abf7",
    "deepnote_cell_type": "markdown",
    "deletable": false,
    "editable": false,
    "nbgrader": {
     "cell_type": "markdown",
     "checksum": "921c3042af18e306e17c15aed047f58c",
     "grade": false,
     "grade_id": "cell-78253011e1e2ad5a",
     "locked": true,
     "schema_version": 3,
     "solution": false,
     "task": false
    }
   },
   "source": [
    "Erstellt eine Funktion, die eine Polynomregression abhängig vom Polynomgrad erzeugt:\n"
   ]
  },
  {
   "cell_type": "markdown",
   "metadata": {
    "cell_id": "2a573ac1058245db82e05fe51b3815f9",
    "deepnote_cell_type": "markdown",
    "deletable": false,
    "editable": false,
    "nbgrader": {
     "cell_type": "markdown",
     "checksum": "f4844848f8f6e6491c1e11298d9c0f1a",
     "grade": false,
     "grade_id": "cell-52f3998a9af7fc17",
     "locked": true,
     "schema_version": 3,
     "solution": false,
     "task": false
    }
   },
   "source": [
    "Schreibe eine Funktion `create_polynomial_regressor(poly_degree: int)`, die einen Polynomialregressor der gegebenen Ordnung `poly_degree` erstellt. Verwende dazu `PolynomialFeatures` aus `sklearn.preprocessing` um die Polynome der Ordnung `poly_degree` zu erzeugen (spezifiziert ausschließlich diesen Parameter). Verwende dann `LinearRegression` mit den default Parametern (analog zu dem vorherigen Modell) um das Modell zu erstellen.\n",
    "\n",
    "> **Hinweis:** `scikit-learn` beinhaltet eine [`Pipeline`](https://scikit-learn.org/1.5/modules/generated/sklearn.pipeline.Pipeline.html)-Klasse, die eine Abfolge von Operationen wie z. B. `PolynomialFeatures` und `LinearRegression` kombiniert.\n"
   ]
  },
  {
   "cell_type": "code",
   "execution_count": null,
   "metadata": {
    "cell_id": "4b792d67141d45f4a1d4de0dd87e9bf8",
    "deepnote_cell_type": "code",
    "deletable": false,
    "execution_context_id": "5a1103c4-0842-497c-951b-69d5a37cd3e1",
    "execution_millis": 4,
    "execution_start": 1730320210305,
    "nbgrader": {
     "cell_type": "code",
     "checksum": "940af17a897b74d3fec1774bc43fe3f1",
     "grade": false,
     "grade_id": "polynomial-regression-function",
     "locked": false,
     "schema_version": 3,
     "solution": true,
     "task": false
    },
    "source_hash": "9383d399"
   },
   "outputs": [],
   "source": [
    "def create_polynomial_regressor(poly_degree: int):\n",
    "    # YOUR CODE HERE\n",
    "    raise NotImplementedError()\n",
    "    return polynomial_model"
   ]
  },
  {
   "cell_type": "markdown",
   "metadata": {
    "cell_id": "db417c70e7c646b38fe760283e2dfc47",
    "deepnote_cell_type": "markdown",
    "deletable": false,
    "editable": false,
    "nbgrader": {
     "cell_type": "markdown",
     "checksum": "a7498f4d5eae7c99dea8ffe83818dbb7",
     "grade": false,
     "grade_id": "cell-715185d46dd84b47",
     "locked": true,
     "schema_version": 3,
     "solution": false,
     "task": false
    }
   },
   "source": [
    "Wir können dieses Modell jetzt benutzen, um die Trainingsdaten mit Polynomen eines festgelegten Grades anzupassen.\n"
   ]
  },
  {
   "cell_type": "markdown",
   "metadata": {
    "cell_id": "bbc8edc5947d4e10b13adbf63df136c2",
    "deepnote_cell_type": "markdown",
    "deletable": false,
    "editable": false,
    "nbgrader": {
     "cell_type": "markdown",
     "checksum": "38a93b3126a35deff20347949f692aa0",
     "grade": false,
     "grade_id": "cell-6b247381a12b4249",
     "locked": true,
     "schema_version": 3,
     "solution": false,
     "task": false
    }
   },
   "source": [
    "Fittet das Modell für jeden Wert $k$ in der unten gegebenen Menge `degrees`, und berechnet, welche Werte die Modelle je für den Input `X_train` bzw. `X_test` vorhersagen. Anschließend können wir uns ansehen, wie die Polynome unterschiedlichen Grades die Trainings- und Testdaten anpassen:\n"
   ]
  },
  {
   "cell_type": "code",
   "execution_count": null,
   "metadata": {
    "cell_id": "cfebc8e2bc3e497e8d6afaa5e312696f",
    "deepnote_cell_type": "code",
    "deletable": false,
    "editable": false,
    "execution_context_id": "5a1103c4-0842-497c-951b-69d5a37cd3e1",
    "execution_millis": 2,
    "execution_start": 1730320216213,
    "nbgrader": {
     "cell_type": "code",
     "checksum": "d779e73a340ef31737218ce7aa054416",
     "grade": false,
     "grade_id": "cell-00cc7061490f4c4c",
     "locked": true,
     "schema_version": 3,
     "solution": false,
     "task": false
    },
    "source_hash": "e29afdf9"
   },
   "outputs": [],
   "source": [
    "##### DO NOT CHANGE #####\n",
    "# Define degrees\n",
    "degrees = range(1, 13)\n",
    "\n",
    "##### DO NOT CHANGE #####"
   ]
  },
  {
   "cell_type": "code",
   "execution_count": null,
   "metadata": {
    "cell_id": "54e50144fc9a4334a53f11095fe28f45",
    "colab": {
     "base_uri": "https://localhost:8080/",
     "height": 573
    },
    "deepnote_cell_type": "code",
    "deletable": false,
    "execution_context_id": "5a1103c4-0842-497c-951b-69d5a37cd3e1",
    "execution_millis": 988,
    "execution_start": 1730320218286,
    "id": "k1D8NNz7WrNc",
    "nbgrader": {
     "cell_type": "code",
     "checksum": "d0fd118d5cf969fdaae90abfe1dcf362",
     "grade": false,
     "grade_id": "polynomial-regression-fitting",
     "locked": false,
     "schema_version": 3,
     "solution": true,
     "task": false
    },
    "outputId": "bdccad77-d488-446d-9532-5528d7df9298",
    "source_hash": "6460c149"
   },
   "outputs": [],
   "source": [
    "# Define which polynomials to plot and error dictionaries\n",
    "\n",
    "plot_degrees = [2, 3, 4, 6, 12]  # Specify degrees to plot\n",
    "polynomial_train_errors = {}\n",
    "polynomial_test_errors = {}\n",
    "\n",
    "# Set up the plot\n",
    "plt.figure(figsize=(10, 6))\n",
    "\n",
    "# Plot train and test data\n",
    "sns.scatterplot(x=X_train.flatten(), y=y_train, label=\"Train Data\", color=\"blue\")\n",
    "sns.scatterplot(x=X_test.flatten(), y=y_test, label=\"Test Data\", color=\"red\")\n",
    "\n",
    "# Fit models for each degree and calculate errors\n",
    "for k in degrees:\n",
    "    polynomial_model = create_polynomial_regressor(k)\n",
    "\n",
    "    # use these names:\n",
    "    y_train_pred = None\n",
    "    y_test_pred = None \n",
    "\n",
    "    # Fitting and Predictions\n",
    "    # YOUR CODE HERE\n",
    "    raise NotImplementedError()\n",
    "\n",
    "    y_plot_pred = polynomial_model.predict(x_plot_range.reshape(-1, 1))\n",
    "\n",
    "    # Plot polynomial model lines for specified degrees\n",
    "    if k in plot_degrees:\n",
    "        sns.lineplot(x=x_plot_range, y=y_plot_pred, label=f\"Degree {k}\")\n",
    "\n",
    "    # Calculate MSE and store in dictionaries\n",
    "    polynomial_train_errors[k] = mse(y_train, y_train_pred)\n",
    "    polynomial_test_errors[k] = mse(y_test, y_test_pred)\n",
    "\n",
    "# Finalize plot\n",
    "plt.title(\"Polynomial Regression Model Fit\")\n",
    "plt.xlabel(\"x\")\n",
    "plt.ylabel(\"y\")\n",
    "plt.ylim(-10, 20)\n",
    "plt.legend()\n",
    "plt.show()"
   ]
  },
  {
   "cell_type": "markdown",
   "metadata": {
    "cell_id": "e90cf388731a427cb4fd7501eb01f2e1",
    "deepnote_cell_type": "markdown",
    "deletable": false,
    "editable": false,
    "nbgrader": {
     "cell_type": "markdown",
     "checksum": "5b50f012356b267ea214343fefca1f9b",
     "grade": false,
     "grade_id": "cell-be292d0a05887076",
     "locked": true,
     "schema_version": 3,
     "solution": false,
     "task": false
    }
   },
   "source": [
    "Nun können wir uns ansehen, wie sich der Mean Squared Error (MSE) abhängig der Kapazität des Modells verhält:\n"
   ]
  },
  {
   "cell_type": "code",
   "execution_count": null,
   "metadata": {
    "cell_id": "05df598154e94d5dbbd6e3feea1aaa63",
    "colab": {
     "base_uri": "https://localhost:8080/",
     "height": 573
    },
    "deepnote_cell_type": "code",
    "execution_context_id": "5a1103c4-0842-497c-951b-69d5a37cd3e1",
    "execution_millis": 932,
    "execution_start": 1730320223447,
    "id": "r084tvmmWn5P",
    "outputId": "1f5523c3-76f7-4dc4-9970-50cf47461747",
    "source_hash": "7742d194"
   },
   "outputs": [],
   "source": [
    "plt.figure(figsize=(10, 6))\n",
    "plt.plot(\n",
    "    polynomial_train_errors.keys(),\n",
    "    polynomial_train_errors.values(),\n",
    "    label=\"Training MSE\",\n",
    "    marker=\"o\",\n",
    "    color=\"blue\",\n",
    ")\n",
    "plt.plot(\n",
    "    polynomial_test_errors.keys(),\n",
    "    polynomial_test_errors.values(),\n",
    "    label=\"Test MSE\",\n",
    "    marker=\"o\",\n",
    "    color=\"red\"\n",
    ")\n",
    "plt.xlabel(\"Degree of Polynomial (k)\")\n",
    "plt.ylabel(\"Mean Squared Error\")\n",
    "plt.yscale(\"log\")\n",
    "plt.title(\"MSE vs Degree of Polynomial\")\n",
    "plt.legend()\n",
    "plt.show()"
   ]
  },
  {
   "cell_type": "markdown",
   "metadata": {
    "cell_id": "dd13c209111948ca920d615a8040c828",
    "deepnote_cell_type": "markdown",
    "deletable": false,
    "editable": false,
    "nbgrader": {
     "cell_type": "markdown",
     "checksum": "7023f01a0cfa64fd546c67d3c299bc3f",
     "grade": false,
     "grade_id": "cell-9cc188d34a24d67d",
     "locked": true,
     "schema_version": 3,
     "solution": false,
     "task": false
    }
   },
   "source": [
    "Zu Beginn sinkt der Mean Squared Error (MSE) sowohl für die Trainings- als auch für die Testdaten mit zunehmendem Polynomgrad, was auf eine bessere Anpassung des Modells hindeutet. Während der MSE der Trainingsdaten mit weiter steigender Komplexität des Modells kontinuierlich abnimmt, zeigt sich ab einem Polynomgrad von 3 beim MSE der Testdaten jedoch ein Anstieg. Dies deutet auf Überanpassung _(overfitting)_ hin (siehe Vorlesung 2, Folie 33/Vorlesung 3, Folie 28 ff.): Das Modell passt sich zu stark an die Trainingsdaten an und verliert dadurch seine Fähigkeit, die Testdaten zuverlässig zu generalisieren.\n"
   ]
  },
  {
   "cell_type": "markdown",
   "metadata": {
    "cell_id": "70b6b6c1f89f451f9e5dc102bf156522",
    "deepnote_cell_type": "text-cell-h3",
    "deletable": false,
    "editable": false,
    "formattedRanges": [],
    "nbgrader": {
     "cell_type": "markdown",
     "checksum": "6bcdb667ef537cc15bf103d329ca17c3",
     "grade": false,
     "grade_id": "cell-d7155cf00877d351",
     "locked": true,
     "schema_version": 3,
     "solution": false,
     "task": false
    }
   },
   "source": [
    "### Regularisierung (2 Punkte)\n"
   ]
  },
  {
   "cell_type": "markdown",
   "metadata": {
    "cell_id": "3532d2b388384953a09fcffe91d1e5a4",
    "deepnote_cell_type": "markdown",
    "deletable": false,
    "editable": false,
    "nbgrader": {
     "cell_type": "markdown",
     "checksum": "73797a726eadf9f4560981b2aafe8486",
     "grade": false,
     "grade_id": "cell-b64793f4b3b6054b",
     "locked": true,
     "schema_version": 3,
     "solution": false,
     "task": false
    }
   },
   "source": [
    "Nach der Einführung in die Methode der linearen Regression und deren Erweiterung zur Polynomregression betrachten wir nun eine Regularisierungsmethode, die Ridge-Regression. Diese dient dazu, Überanpassungen bei komplexen Modellen zu verhindern (siehe Vorlesung 2, Folie 35 ff. und Vorlesung 3, Folie 31 ff.). Im Folgenden ersetzen wir die [`LinearRegression`](https://scikit-learn.org/stable/modules/generated/sklearn.linear_model.LinearRegression.html) konkret durch [`Ridge`](https://scikit-learn.org/stable/modules/generated/sklearn.linear_model.Ridge.html)-Regression, die einen Regularisierungsparameter $\\alpha$ (in der Vorlesung $\\lambda$) einführt. $\\alpha$ bestimmt die Stärke der Regularisierung über den sogenannte Bestrafungsterm, der zu der Verlustfunktion _(loss function)_ hinzugefügt wird. Im Falle der Ridge-Regression ist dieser Term eine $L^2$-Norm des Gewichtsvektors: $\\alpha \\sum_{j=1}^n w_j^2$ . Dieser Bestrafungsterm reduziert die Modellkomplexität, indem er die Gewichte $\\mathbf{w}$ verkleinert, insbesondere bei hohen $\\alpha$-Werten. Ziel ist es, große Gewichte zu vermeiden und so ein Modell zu erzeugen, das besser generalisiert und Überanpassung vermeidet.\n"
   ]
  },
  {
   "cell_type": "markdown",
   "metadata": {
    "cell_id": "49b77871da0a4f17b6faa29cca9b5788",
    "deepnote_cell_type": "markdown",
    "deletable": false,
    "editable": false,
    "nbgrader": {
     "cell_type": "markdown",
     "checksum": "13eaf802b0a4c9643216f4077f979945",
     "grade": false,
     "grade_id": "cell-80509bb615f3a3d8",
     "locked": true,
     "schema_version": 3,
     "solution": false,
     "task": false
    }
   },
   "source": [
    "Erstellt im Folgenden analog zur Polynomregression ohne Regularisierung, die wir im letzten Schrritt gesehen haben, ein Modell, das die Polynomregression mit der Ridge Regression vereinigt. Ihr könnt hier ebenfalls die Klasse `Pipeline` aus `sklearn` nutzen um die beiden Modellklassen `PolynomialFeatures` und `Ridge` einzubinden. Spezifiziert für `PolynomialFeatures` ausschließlich den Grad der Polynome und für `Ridge` ausschließlich den Regularisierungsparamter $\\alpha$:\n"
   ]
  },
  {
   "cell_type": "code",
   "execution_count": null,
   "metadata": {
    "cell_id": "923dbdc9258b46d9873055906f8c740a",
    "deepnote_cell_type": "code",
    "deletable": false,
    "execution_context_id": "5a1103c4-0842-497c-951b-69d5a37cd3e1",
    "execution_millis": 3,
    "execution_start": 1730320227922,
    "nbgrader": {
     "cell_type": "code",
     "checksum": "f59f980c029bed0d3cfce1647aa686a1",
     "grade": false,
     "grade_id": "ridge-regression-function",
     "locked": false,
     "schema_version": 3,
     "solution": true,
     "task": false
    },
    "source_hash": "e818ec35"
   },
   "outputs": [],
   "source": [
    "def create_ridge_polynomial_regressor(poly_degree: int, alpha: float):\n",
    "    # YOUR CODE HERE\n",
    "    raise NotImplementedError()\n",
    "    return ridge_polynomial_model"
   ]
  },
  {
   "cell_type": "markdown",
   "metadata": {
    "cell_id": "b0d0d005a64e40a39ee1b822618dfc9c",
    "deepnote_cell_type": "markdown",
    "deletable": false,
    "editable": false,
    "nbgrader": {
     "cell_type": "markdown",
     "checksum": "9e76b8d7e1dc9568c2a04745ce1aca81",
     "grade": false,
     "grade_id": "cell-e181acc47770536e",
     "locked": true,
     "schema_version": 3,
     "solution": false,
     "task": false
    }
   },
   "source": [
    "Fittet das Modell für jeden Wert $\\alpha$ in der unten gegebenen Menge `alphas`, und berechnet, welche Werte die Modelle je für den Input `X_train` bzw. `X_test` vorhersagen:\n"
   ]
  },
  {
   "cell_type": "code",
   "execution_count": null,
   "metadata": {
    "cell_id": "b82ff97b697a48079ba152654df33cad",
    "deepnote_cell_type": "code",
    "deletable": false,
    "editable": false,
    "execution_context_id": "5a1103c4-0842-497c-951b-69d5a37cd3e1",
    "execution_millis": 1,
    "execution_start": 1730320456314,
    "nbgrader": {
     "cell_type": "code",
     "checksum": "b304b66539c6529c92d81d7555f4e4eb",
     "grade": false,
     "grade_id": "cell-b08d56f2af0109d9",
     "locked": true,
     "schema_version": 3,
     "solution": false,
     "task": false
    },
    "source_hash": "42adfc41"
   },
   "outputs": [],
   "source": [
    "##### DO NOT CHANGE #####\n",
    "# Range of alpha values to test\n",
    "alphas = np.logspace(-3, 13, 100)\n",
    "# Fix ploynomial degree\n",
    "poly_degree = 12\n",
    "\n",
    "##### DO NOT CHANGE #####"
   ]
  },
  {
   "cell_type": "code",
   "execution_count": null,
   "metadata": {
    "cell_id": "a2fcfb7c6ec2427bad6fc1ab2148b976",
    "colab": {
     "base_uri": "https://localhost:8080/",
     "height": 501
    },
    "deepnote_cell_type": "code",
    "deletable": false,
    "execution_context_id": "5a1103c4-0842-497c-951b-69d5a37cd3e1",
    "execution_millis": 2995,
    "execution_start": 1730320587939,
    "id": "wcIpAbb6Z7GK",
    "nbgrader": {
     "cell_type": "code",
     "checksum": "3f89090b0b176229afe944927571ae56",
     "grade": false,
     "grade_id": "ridge-regression-fitting",
     "locked": false,
     "schema_version": 3,
     "solution": true,
     "task": false
    },
    "outputId": "7e5562be-edd9-4d35-9613-7116eb1cdf22",
    "source_hash": "39a3255a"
   },
   "outputs": [],
   "source": [
    "# Choose certain alphas to plot\n",
    "alphas_plot = alphas[::20]  # Subset for plotting individual fits\n",
    "\n",
    "# Lists to store coefficients and errors for each alpha\n",
    "ridge_coefficients = []\n",
    "ridge_train_errors = {}\n",
    "ridge_test_errors = {}\n",
    "ridge_fits = []\n",
    "\n",
    "for alpha in alphas:\n",
    "    # Ridge Regression\n",
    "    ridge_polynomial_model = create_ridge_polynomial_regressor(poly_degree, alpha)\n",
    "\n",
    "    # use these names:\n",
    "    ridge_train_pred = None\n",
    "    ridge_test_pred = None\n",
    "\n",
    "    # Fitting and Predictions\n",
    "    # YOUR CODE HERE\n",
    "    raise NotImplementedError()\n",
    "\n",
    "    # Save the MSEs and the coefficients of the model in lists\n",
    "    ridge_train_errors[alpha] = mse(y_train, ridge_train_pred)\n",
    "    ridge_test_errors[alpha] = mse(y_test, ridge_test_pred)\n",
    "    ridge_coefficients.append(ridge_polynomial_model.named_steps[\"ridge\"].coef_)\n",
    "\n",
    "    if alpha in alphas_plot:\n",
    "        ridge_fits.append(ridge_polynomial_model.predict(x_plot_range.reshape(-1, 1)))\n",
    "\n",
    "# Set up subplots with custom heights\n",
    "fig = plt.figure(figsize=(10, 9))\n",
    "gs = fig.add_gridspec(2, 2, height_ratios=[2, 1])\n",
    "\n",
    "ax_main = fig.add_subplot(gs[0, :])\n",
    "sns.scatterplot(\n",
    "    x=X_train.flatten(), y=y_train, label=\"Train Data\", color=\"blue\", ax=ax_main\n",
    ")\n",
    "sns.scatterplot(\n",
    "    x=X_test.flatten(), y=y_test, label=\"Test Data\", color=\"red\", ax=ax_main\n",
    ")\n",
    "\n",
    "for i, alpha in enumerate(alphas_plot):\n",
    "    ax_main.plot(\n",
    "        x_plot_range, ridge_fits[i], label=r\"$\\alpha \\approx 10^{{{}}}$\".format(int(np.log10(alpha)))\n",
    "    )\n",
    "\n",
    "ax_main.set_xlabel(\"x\")\n",
    "ax_main.set_ylabel(\"y\")\n",
    "ax_main.set_ylim(-10, 20)\n",
    "ax_main.legend()\n",
    "ax_main.set_title(f\"Polynomial Fits (degree={poly_degree}) for varying Regularization\")\n",
    "\n",
    "\n",
    "# Plot Ridge coefficients vs alpha\n",
    "ax_coef = fig.add_subplot(gs[1, 0])\n",
    "ax_coef.plot(alphas, np.abs(ridge_coefficients))\n",
    "ax_coef.set_xscale(\"log\")\n",
    "ax_coef.set_yscale(\"log\")\n",
    "ax_coef.set_title(\"Ridge Coefficients vs Alpha\")\n",
    "ax_coef.set_xlabel(\"Alpha\")\n",
    "ax_coef.set_ylabel(\"Coefficients\")\n",
    "\n",
    "# Plot Ridge MSE vs alpha\n",
    "ax_mse = fig.add_subplot(gs[1, 1])\n",
    "ax_mse.plot(alphas, ridge_train_errors.values(), color=\"blue\", label=\"Training MSE\")\n",
    "ax_mse.plot(alphas, ridge_test_errors.values(), color=\"red\", label=\"Test MSE\")\n",
    "ax_mse.set_xscale(\"log\")\n",
    "ax_mse.set_yscale(\"log\")\n",
    "ax_mse.set_title(\"Ridge MSE vs Alpha\")\n",
    "ax_mse.set_xlabel(\"Alpha\")\n",
    "ax_mse.set_ylabel(\"Mean Squared Error\")\n",
    "ax_mse.legend()\n",
    "\n",
    "plt.tight_layout()\n",
    "plt.show()"
   ]
  },
  {
   "cell_type": "markdown",
   "metadata": {
    "cell_id": "59aca23b655a4893a63c994c2d4e39da",
    "deepnote_cell_type": "markdown",
    "deletable": false,
    "editable": false,
    "nbgrader": {
     "cell_type": "markdown",
     "checksum": "67e0ce1e52b4f8a9ac5cedd8917fc37a",
     "grade": false,
     "grade_id": "cell-551b2808116e7875",
     "locked": true,
     "schema_version": 3,
     "solution": false,
     "task": false
    }
   },
   "source": [
    "Wir können hier gut sehen, wie sich der Regularisierungsterm auf den Absolutwert der Koeffizienten und auf den MSE von Trainings- und Testdaten auswirkt.\n"
   ]
  },
  {
   "cell_type": "markdown",
   "metadata": {
    "cell_id": "0ffce3278e0946b7ac410ef6856daad8",
    "deepnote_cell_type": "markdown",
    "deletable": false,
    "editable": false,
    "nbgrader": {
     "cell_type": "markdown",
     "checksum": "ab0964e4332eeb25b5302607ad999194",
     "grade": false,
     "grade_id": "cell-092cff38f35db645",
     "locked": true,
     "schema_version": 3,
     "solution": false,
     "task": false
    }
   },
   "source": [
    "Jetzt folgen noch ein paar Tests für Aufgabe 2.1, bei denen ihr eure Ergebnisse grob überprüfen könnt:\n"
   ]
  },
  {
   "cell_type": "code",
   "execution_count": null,
   "metadata": {
    "cell_id": "f9ec170438e6409abfbb4a9a9fca4c83",
    "deepnote_cell_type": "code",
    "deletable": false,
    "editable": false,
    "execution_context_id": "5a1103c4-0842-497c-951b-69d5a37cd3e1",
    "execution_millis": 1,
    "execution_start": 1730316351274,
    "nbgrader": {
     "cell_type": "code",
     "checksum": "b1ee39ee27865e3f80366c0666692dfb",
     "grade": true,
     "grade_id": "mse-function-and-linear-fitting-test",
     "locked": true,
     "points": 2,
     "schema_version": 3,
     "solution": false,
     "task": false
    },
    "source_hash": "669617ea"
   },
   "outputs": [],
   "source": [
    "##### DO NOT CHANGE #####\n",
    "# ID: mse-function-and-linear-fitting-test - possible points: 2\n",
    "\n",
    "assert (mse (np.array([[1,2,3]]),np.array([[1,2,3]])) == 0) or (mse (np.array([1,2,3]),np.array([1,2,3])) == 0), \"The MSE of two identical arrays should be 0!\"\n",
    "assert 3 < mse_linear_train < 5, \"The training MSE of the linear regression model should be in the range between 3 and 5!\"\n",
    "assert 3 < mse_linear_test < 5, \"The test MSE of the linear regression model should be in the range between 3 and 5!\"\n",
    "\n",
    "\n",
    "##### DO NOT CHANGE #####"
   ]
  },
  {
   "cell_type": "code",
   "execution_count": null,
   "metadata": {
    "cell_id": "fb4e7782a27743199636388385dae960",
    "deepnote_cell_type": "code",
    "deletable": false,
    "editable": false,
    "execution_context_id": "5a1103c4-0842-497c-951b-69d5a37cd3e1",
    "execution_millis": 0,
    "execution_start": 1730317948442,
    "nbgrader": {
     "cell_type": "code",
     "checksum": "85cc530a294a1daf5ca77c07dbcd043b",
     "grade": true,
     "grade_id": "polynomial-regression-test",
     "locked": true,
     "points": 2,
     "schema_version": 3,
     "solution": false,
     "task": false
    },
    "source_hash": "2da1b222"
   },
   "outputs": [],
   "source": [
    "##### DO NOT CHANGE #####\n",
    "# ID: polynomial-regression-test - possible points: 2\n",
    "\n",
    "assert isinstance(polynomial_train_errors, dict), \"polynomial_train_errors should be a dictionary\"\n",
    "assert isinstance(polynomial_test_errors, dict), \"polynomial_train_errors should be a dictionary\"\n",
    "assert polynomial_train_errors, \"The dictionary should not be empty!\"\n",
    "assert polynomial_test_errors, \"The dictionary should not be empty!\"\n",
    "\n",
    "\n",
    "##### DO NOT CHANGE #####"
   ]
  },
  {
   "cell_type": "code",
   "execution_count": null,
   "metadata": {
    "cell_id": "44dfc8c01d5c4b87a062f95d717d2f8d",
    "deepnote_cell_type": "code",
    "deletable": false,
    "editable": false,
    "execution_context_id": "5a1103c4-0842-497c-951b-69d5a37cd3e1",
    "execution_millis": 2,
    "execution_start": 1730317951205,
    "nbgrader": {
     "cell_type": "code",
     "checksum": "5e5ae320a73e8092e1920afec10630d4",
     "grade": true,
     "grade_id": "ridge-regression-test",
     "locked": true,
     "points": 2,
     "schema_version": 3,
     "solution": false,
     "task": false
    },
    "source_hash": "2f1d93d"
   },
   "outputs": [],
   "source": [
    "##### DO NOT CHANGE #####\n",
    "# ID: ridge-regression-test - possible points: 2\n",
    "\n",
    "assert isinstance(ridge_train_errors, dict), \"ridge_train_errors should be a dictionary\"\n",
    "assert isinstance(ridge_test_errors, dict), \"ridge_train_errors should be a dictionary\"\n",
    "assert ridge_train_errors, \"The dictionary should not be empty!\"\n",
    "assert ridge_test_errors, \"The dictionary should not be empty!\"\n",
    "\n",
    "\n",
    "##### DO NOT CHANGE #####"
   ]
  },
  {
   "cell_type": "markdown",
   "metadata": {
    "cell_id": "30790cf6405949019657cc48824dd9f2",
    "deepnote_cell_type": "markdown",
    "deletable": false,
    "editable": false,
    "nbgrader": {
     "cell_type": "markdown",
     "checksum": "021e30682879ac9605f663a9d549c210",
     "grade": false,
     "grade_id": "cell-56a9fe18f8b22547",
     "locked": true,
     "schema_version": 3,
     "solution": false,
     "task": false
    }
   },
   "source": [
    "# Task 2.2 Klassifikation (8 = 2 + 6 Punkte)\n"
   ]
  },
  {
   "cell_type": "markdown",
   "metadata": {
    "cell_id": "a92901440cc1493eae9f2bd2e970d3bf",
    "deepnote_cell_type": "text-cell-h3",
    "deletable": false,
    "editable": false,
    "formattedRanges": [],
    "nbgrader": {
     "cell_type": "markdown",
     "checksum": "8d67a64cc80445b153f20ee5c1c32021",
     "grade": false,
     "grade_id": "cell-2349ea56be7e3e82",
     "locked": true,
     "schema_version": 3,
     "solution": false,
     "task": false
    }
   },
   "source": [
    "### Datenvorbereitung und Exploration (2 Punkte)\n"
   ]
  },
  {
   "cell_type": "markdown",
   "metadata": {
    "cell_id": "4863bd28ea304c2eac510d6a2c6e5598",
    "deepnote_cell_type": "markdown",
    "deletable": false,
    "editable": false,
    "nbgrader": {
     "cell_type": "markdown",
     "checksum": "0113f5165ce7f379d92c0c025e79b6f3",
     "grade": false,
     "grade_id": "cell-2c0374f3e230a3ab",
     "locked": true,
     "schema_version": 3,
     "solution": false,
     "task": false
    }
   },
   "source": [
    "In der zweiten Teilaufgabe analysieren wir einen realen Datensatz und führen darauf eine Klassifikation mithilfe einer logistischen Regression durch. Wir verwenden hierzu den Titanic-Datensatz, der Informationen zu Passagieren wie Alter, Geschlecht, (Kabinen-)Klasse an Bord sowie die Angabe, ob die jeweilige Person das Unglück überlebt hat, enthält. Ziel ist es, eine logistische Regression durchzuführen, die anhand der Merkmale Alter, Geschlecht und Klasse die Überlebenswahrscheinlichkeit der Passagiere berechnet und diese in die Kategorien „Überlebt“ und „Nicht überlebt“ einordnet.\n",
    "Wir laden den Datensatz aus `seaborn` als `pandas.DataFrame` herunter und sehen uns die ersten Zeilen des Datensatzes an:\n"
   ]
  },
  {
   "cell_type": "code",
   "execution_count": null,
   "metadata": {
    "cell_id": "fc306e97668f4415b57457416a1e2f05",
    "deepnote_cell_type": "code",
    "deletable": false,
    "editable": false,
    "execution_context_id": "5a1103c4-0842-497c-951b-69d5a37cd3e1",
    "execution_millis": 75,
    "execution_start": 1730323276554,
    "id": "4416e244",
    "nbgrader": {
     "cell_type": "code",
     "checksum": "fa5a263b306bd67b348b212faa3a2dae",
     "grade": false,
     "grade_id": "classification-mlp-config",
     "locked": true,
     "schema_version": 3,
     "solution": false,
     "task": false
    },
    "source_hash": "2e8a14fb"
   },
   "outputs": [],
   "source": [
    "##### DO NOT CHANGE #####\n",
    "titanic = sns.load_dataset(\"titanic\")\n",
    "titanic.head()\n",
    "\n",
    "##### DO NOT CHANGE #####"
   ]
  },
  {
   "cell_type": "markdown",
   "metadata": {
    "cell_id": "340969560c454b45b99f7f9d4f51da82",
    "deepnote_cell_type": "markdown",
    "deletable": false,
    "editable": false,
    "nbgrader": {
     "cell_type": "markdown",
     "checksum": "17099d5759a908c8fe238c487630f8e8",
     "grade": false,
     "grade_id": "cell-e1e6b5acafee0d04",
     "locked": true,
     "schema_version": 3,
     "solution": false,
     "task": false
    }
   },
   "source": [
    "Zuerst wählen wir aus dem vollständigen Datensatz die Features _Überlebt (survived)_, _Alter (age)_, _Geschlecht (sex)_ und _Klasse (pclass)_ aus:\n"
   ]
  },
  {
   "cell_type": "code",
   "execution_count": null,
   "metadata": {
    "cell_id": "3af34a70754446e1918769a8b502f26c",
    "deepnote_cell_type": "code",
    "deletable": false,
    "editable": false,
    "execution_context_id": "5a1103c4-0842-497c-951b-69d5a37cd3e1",
    "execution_millis": 23,
    "execution_start": 1730323299168,
    "id": "f90xfUZ5ZEAl",
    "nbgrader": {
     "cell_type": "code",
     "checksum": "9b3775741666f540ee83b9f6bcf4b786",
     "grade": false,
     "grade_id": "cell-6e99ad88c73b3a36",
     "locked": true,
     "schema_version": 3,
     "solution": false,
     "task": false
    },
    "source_hash": "4047175f"
   },
   "outputs": [],
   "source": [
    "##### DO NOT CHANGE #####\n",
    "data = titanic.loc[:, [\"survived\", \"age\", \"sex\", \"pclass\"]]\n",
    "data = data.astype({\"pclass\": \"float\"})\n",
    "data.head()\n",
    "\n",
    "##### DO NOT CHANGE #####"
   ]
  },
  {
   "cell_type": "markdown",
   "metadata": {
    "cell_id": "e99c4eba398d480c8ad5b9795e9c6365",
    "deepnote_cell_type": "markdown",
    "deletable": false,
    "editable": false,
    "nbgrader": {
     "cell_type": "markdown",
     "checksum": "7429471faeb4a855b4f125b308d497a6",
     "grade": false,
     "grade_id": "cell-baaecf91ab92a33a",
     "locked": true,
     "schema_version": 3,
     "solution": false,
     "task": false
    }
   },
   "source": [
    "Für die Vorbereitung der Daten zur Verwendung in einem Regressionsmodell wandeln wir die Kategorie _Geschlecht (sex)_ in eine Binärvariable um. Dabei soll der Wert `male` in `0` und `female` in `1` umgewandelt werden. Verwendet dazu die `map`-Funktion von `pandas` und wendet diese auf die Spalte `data.loc[:, 'sex']` an.\n"
   ]
  },
  {
   "cell_type": "code",
   "execution_count": null,
   "metadata": {
    "cell_id": "a008dc7b62534d949665b969ada0ff9b",
    "deepnote_cell_type": "code",
    "deletable": false,
    "execution_context_id": "5a1103c4-0842-497c-951b-69d5a37cd3e1",
    "execution_millis": 2,
    "execution_start": 1730323301454,
    "id": "1uMALzYUcF9P",
    "nbgrader": {
     "cell_type": "code",
     "checksum": "3ddb80295e08634d768d5cbd2b19d595",
     "grade": false,
     "grade_id": "sex-mapping",
     "locked": false,
     "schema_version": 3,
     "solution": true,
     "task": false
    },
    "source_hash": "35f1dba6"
   },
   "outputs": [],
   "source": [
    "# YOUR CODE HERE\n",
    "raise NotImplementedError()"
   ]
  },
  {
   "cell_type": "markdown",
   "metadata": {
    "cell_id": "f184a74bc6fd4c77a9c792de6cf218a5",
    "deepnote_cell_type": "markdown",
    "deletable": false,
    "editable": false,
    "nbgrader": {
     "cell_type": "markdown",
     "checksum": "45085fea8b82bcee2e431d3700222f40",
     "grade": false,
     "grade_id": "cell-36e55f069dde798e",
     "locked": true,
     "schema_version": 3,
     "solution": false,
     "task": false
    }
   },
   "source": [
    "Um die beiden nicht-binären Merkmale `pclass` und `age` für das Modell zu skalieren, wenden wir die Funktion [`MinMaxScaler()`](https://scikit-learn.org/1.5/modules/generated/sklearn.preprocessing.MinMaxScaler.html) aus [`sklearn`](https://scikit-learn.org/1.5/index.html) an. Durch die Normalisierung wird sichergestellt, dass die Werte dieser Merkmale auf eine gemeinsame Skala gebracht werden, was die Stabilität und Genauigkeit des Modells verbessern kann. Zuerst normalisieren wir die Spalte `pclass`. Führt anschließend die gleiche Vorgehensweise für die Spalte `age` durch.\n"
   ]
  },
  {
   "cell_type": "code",
   "execution_count": null,
   "metadata": {
    "cell_id": "aab392dbd2364873986499336a6d062b",
    "deepnote_cell_type": "code",
    "deletable": false,
    "editable": false,
    "execution_context_id": "5a1103c4-0842-497c-951b-69d5a37cd3e1",
    "execution_millis": 1,
    "execution_start": 1730323304169,
    "id": "G4Ty5W_taSzi",
    "nbgrader": {
     "cell_type": "code",
     "checksum": "da4940efe07ae92f4624792e1bb15778",
     "grade": false,
     "grade_id": "cell-864c6291ed407e23",
     "locked": true,
     "schema_version": 3,
     "solution": false,
     "task": false
    },
    "source_hash": "bd898dd6"
   },
   "outputs": [],
   "source": [
    "##### DO NOT CHANGE #####\n",
    "data.loc[:, \"pclass\"] = MinMaxScaler().fit_transform(\n",
    "    data.loc[:, \"pclass\"].values.reshape(-1, 1)\n",
    ")\n",
    "\n",
    "##### DO NOT CHANGE #####"
   ]
  },
  {
   "cell_type": "code",
   "execution_count": null,
   "metadata": {
    "cell_id": "aacfffe56ce14d5586e76bb4b5fcf6f6",
    "deepnote_cell_type": "code",
    "deletable": false,
    "execution_context_id": "5a1103c4-0842-497c-951b-69d5a37cd3e1",
    "execution_millis": 1,
    "execution_start": 1730323305174,
    "id": "tbiNZcFvdFep",
    "nbgrader": {
     "cell_type": "code",
     "checksum": "b94600f978c47039ade9d0bf589d86aa",
     "grade": false,
     "grade_id": "age-normalization",
     "locked": false,
     "schema_version": 3,
     "solution": true,
     "task": false
    },
    "source_hash": "6f7ab503"
   },
   "outputs": [],
   "source": [
    "# Normalize the column 'age'\n",
    "# YOUR CODE HERE\n",
    "raise NotImplementedError()"
   ]
  },
  {
   "cell_type": "markdown",
   "metadata": {
    "cell_id": "ed3c99fb2a034677acfc8b2d95ec2800",
    "deepnote_cell_type": "markdown",
    "deletable": false,
    "editable": false,
    "nbgrader": {
     "cell_type": "markdown",
     "checksum": "16fa2cc2d71d933cab99b691df697d1d",
     "grade": false,
     "grade_id": "cell-19e8cb88ce1451d8",
     "locked": true,
     "schema_version": 3,
     "solution": false,
     "task": false
    }
   },
   "source": [
    "Im nächsten Schritt entfernen wir alle Zeilen mit fehlenden Einträgen aus dem Datensatz:\n"
   ]
  },
  {
   "cell_type": "code",
   "execution_count": null,
   "metadata": {
    "cell_id": "d87b778041eb4ad3836a5a8dacbda2b5",
    "colab": {
     "base_uri": "https://localhost:8080/",
     "height": 424
    },
    "deepnote_cell_type": "code",
    "deletable": false,
    "editable": false,
    "execution_context_id": "5a1103c4-0842-497c-951b-69d5a37cd3e1",
    "execution_millis": 1,
    "execution_start": 1730323306290,
    "id": "8VQWOGe9dRJw",
    "nbgrader": {
     "cell_type": "code",
     "checksum": "746f6025322d980e2e2591934176a042",
     "grade": false,
     "grade_id": "cell-f92a80c30f922638",
     "locked": true,
     "schema_version": 3,
     "solution": false,
     "task": false
    },
    "outputId": "73f0031c-e385-4a93-c7ed-d80a3adfab48",
    "source_hash": "f19f24ab"
   },
   "outputs": [],
   "source": [
    "##### DO NOT CHANGE #####\n",
    "data.dropna(inplace=True)\n",
    "\n",
    "##### DO NOT CHANGE #####"
   ]
  },
  {
   "cell_type": "markdown",
   "metadata": {
    "cell_id": "ea04ab627204432f8165557f744cc422",
    "deepnote_cell_type": "markdown",
    "deletable": false,
    "editable": false,
    "nbgrader": {
     "cell_type": "markdown",
     "checksum": "a750b4d0f5cf3ecd4c58925c8691ed2a",
     "grade": false,
     "grade_id": "cell-8e6f9ea200d26720",
     "locked": true,
     "schema_version": 3,
     "solution": false,
     "task": false
    }
   },
   "source": [
    "Im nächsten Schritt betrachten wir die Korrelationsmatrix des Datensatzes, um die Beziehungen zwischen den verschiedenen Merkmalen besser zu verstehen.\n"
   ]
  },
  {
   "cell_type": "code",
   "execution_count": null,
   "metadata": {
    "cell_id": "e59529dfe34f4da3bbb15ceabd3027cd",
    "deepnote_cell_type": "code",
    "execution_context_id": "5a1103c4-0842-497c-951b-69d5a37cd3e1",
    "execution_millis": 560,
    "execution_start": 1730323307876,
    "id": "KiPN04y8aWks",
    "source_hash": "c4169ea2"
   },
   "outputs": [],
   "source": [
    "plt.figure(figsize=(8, 6))\n",
    "sns.heatmap(data.corr(), cmap=\"Blues\", annot=True)\n",
    "plt.show()"
   ]
  },
  {
   "cell_type": "markdown",
   "metadata": {
    "cell_id": "a4bbd9fc3e194bcf87159394fff28187",
    "deepnote_cell_type": "markdown",
    "deletable": false,
    "editable": false,
    "nbgrader": {
     "cell_type": "markdown",
     "checksum": "78cd62d6ddb9fac5fdc5cd08a1405e33",
     "grade": false,
     "grade_id": "cell-dbca34ba73f92925",
     "locked": true,
     "schema_version": 3,
     "solution": false,
     "task": false
    }
   },
   "source": [
    "Anhand der Korrelationsmatrix erkennen wir die Zusammenhänge zwischen den einzelnen Merkmalen. Auffällig ist, dass die Passagierklasse und das Alter jeweils negativ mit der Überlebensrate korrelieren. Das bedeutet, dass Personen in einer niedrigeren Passagierklasse (Hinweis: Eine niedrigere Klassennummer entspricht einer höheren Klasse, ähnlich den Zugklassen) mit höherer Wahrscheinlichkeit überlebten. Beachte hier die Bedeutung der Werte im Datensatz:<br>\n",
    "1 = “Person hat überlebt” <br>\n",
    "0 = “Person hat nicht überlebt” <br>\n",
    "Auch ein niedrigeres Alter steht in einer positiven Beziehung zur Überlebenswahrscheinlichkeit, wenngleich die Korrelation hier weniger stark ausgeprägt ist als bei der Passagierklasse.\n",
    "Zudem zeigt sich eine positive Korrelation zwischen den Merkmalen Geschlecht und Überleben. Da wir Mann = 0 und Frau = 1 kodiert haben, lässt sich daraus ableiten, dass Frauen eine höhere Überlebenschance hatten.\n"
   ]
  },
  {
   "cell_type": "markdown",
   "metadata": {
    "cell_id": "ef1163ed4dbc491d98bba5e723830dd8",
    "deepnote_cell_type": "markdown",
    "deletable": false,
    "editable": false,
    "nbgrader": {
     "cell_type": "markdown",
     "checksum": "59c61e8bb83f6d997fca6f1b3dc8ffbd",
     "grade": false,
     "grade_id": "cell-958e187fa2b9f5a3",
     "locked": true,
     "schema_version": 3,
     "solution": false,
     "task": false
    }
   },
   "source": [
    "Nun entwickeln wir ein Modell, das anhand der Merkmale die kategorische Zielvariable „Überlebt“ vorhersagen soll. Die Zielvariable ist die Spalte _survived_ im Datensatz. Zur Vorbereitung des Modells teilen wir die Daten in einen Trainings- und einen Testdatensatz auf. Nutzt dafür die Funktion `train_test_split` aus `sklearn` mit den folgenden Parametern:\n",
    "\n",
    "• `test_size = 0.2`: 20 % der Daten werden für den Testdatensatz verwendet.\n",
    "\n",
    "• `stratify = y`: Die Aufteilung behält die Verteilung der Zielvariable Survived in Trainings- und Testdaten bei.\n",
    "\n",
    "• `random_state = 42`: Dieser Wert sorgt für reproduzierbare Ergebnisse.\n"
   ]
  },
  {
   "cell_type": "code",
   "execution_count": null,
   "metadata": {
    "cell_id": "146487d46e874469b8e4a5358be99b7c",
    "deepnote_cell_type": "code",
    "deletable": false,
    "execution_context_id": "5a1103c4-0842-497c-951b-69d5a37cd3e1",
    "execution_millis": 3,
    "execution_start": 1730323309944,
    "id": "oft05zY0cgt1",
    "nbgrader": {
     "cell_type": "code",
     "checksum": "e342dda8b06482aa53b26208b2201d52",
     "grade": false,
     "grade_id": "train-test-splitting",
     "locked": false,
     "schema_version": 3,
     "solution": true,
     "task": false
    },
    "source_hash": "6b1b842e"
   },
   "outputs": [],
   "source": [
    "x = data.drop(\"survived\", axis=1)\n",
    "y = data[\"survived\"]\n",
    "\n",
    "\n",
    "# YOUR CODE HERE\n",
    "raise NotImplementedError()"
   ]
  },
  {
   "cell_type": "markdown",
   "metadata": {
    "cell_id": "5df66f01adb148058610a37ad7a89aea",
    "deepnote_cell_type": "text-cell-h3",
    "deletable": false,
    "editable": false,
    "formattedRanges": [],
    "nbgrader": {
     "cell_type": "markdown",
     "checksum": "89910bb46a1f1a3f3b804d20eb379bb3",
     "grade": false,
     "grade_id": "cell-898677ad03de6c1a",
     "locked": true,
     "schema_version": 3,
     "solution": false,
     "task": false
    }
   },
   "source": [
    "### Logistische Regression (6 Punkte)\n"
   ]
  },
  {
   "cell_type": "markdown",
   "metadata": {
    "cell_id": "bc8580439c454b0bbe50780135e720d9",
    "deepnote_cell_type": "markdown",
    "deletable": false,
    "editable": false,
    "nbgrader": {
     "cell_type": "markdown",
     "checksum": "3ac06c51876f48667678b989e59ef1b0",
     "grade": false,
     "grade_id": "cell-6100c6af9e4f86ad",
     "locked": true,
     "schema_version": 3,
     "solution": false,
     "task": false
    }
   },
   "source": [
    "Im Folgenden führt ihr eine logistische Regression durch. Dafür könnt ihr die [`LogisticRegression`](https://scikit-learn.org/1.5/modules/generated/sklearn.linear_model.LogisticRegression.html) aus `sklearn` verwenden. Fittet zunächst das Modell mit den Trainingsdaten:\n"
   ]
  },
  {
   "cell_type": "code",
   "execution_count": null,
   "metadata": {
    "cell_id": "adb1e2ee34a040fea1720e310e11ea6e",
    "colab": {
     "base_uri": "https://localhost:8080/"
    },
    "deepnote_cell_type": "code",
    "deletable": false,
    "execution_context_id": "5a1103c4-0842-497c-951b-69d5a37cd3e1",
    "execution_millis": 5,
    "execution_start": 1730323311980,
    "id": "X4PrIXRfa66O",
    "nbgrader": {
     "cell_type": "code",
     "checksum": "fa34d5d979bf763042663e05bef37688",
     "grade": false,
     "grade_id": "logistic-regression-fitting",
     "locked": false,
     "schema_version": 3,
     "solution": true,
     "task": false
    },
    "outputId": "af350d47-0778-421a-8a37-02611eec8800",
    "source_hash": "de5fc848"
   },
   "outputs": [],
   "source": [
    "model = LogisticRegression()\n",
    "\n",
    "# YOUR CODE HERE\n",
    "raise NotImplementedError()"
   ]
  },
  {
   "cell_type": "markdown",
   "metadata": {
    "cell_id": "dbdd084a8d39444b84aa103c8c40863c",
    "deepnote_cell_type": "markdown",
    "deletable": false,
    "editable": false,
    "nbgrader": {
     "cell_type": "markdown",
     "checksum": "b936f7a92f56b5228e5334bbe79f9935",
     "grade": false,
     "grade_id": "cell-df0e6af3cc364427",
     "locked": true,
     "schema_version": 3,
     "solution": false,
     "task": false
    }
   },
   "source": [
    "Analysiert nun die Modellparameter (Alle wichtigen Informationen dazu findet ihr in der Dokumentation): Welches Merkmal/Feature (Name der Stringvariable) hat den größten Einfluss auf den Model Output? Verwendet hierfür den genauen Name der Spalte im Datensatz!\n"
   ]
  },
  {
   "cell_type": "code",
   "execution_count": null,
   "metadata": {
    "cell_id": "91d3ce8db76e4557b55fe6832ec53b41",
    "deepnote_cell_type": "code",
    "deletable": false,
    "execution_context_id": "5a1103c4-0842-497c-951b-69d5a37cd3e1",
    "execution_millis": 2,
    "execution_start": 1730323314850,
    "nbgrader": {
     "cell_type": "code",
     "checksum": "5233e6acefb7d086b602cf6e22521eab",
     "grade": false,
     "grade_id": "most-influential-feature",
     "locked": false,
     "schema_version": 3,
     "solution": true,
     "task": false
    },
    "source_hash": "66796456"
   },
   "outputs": [],
   "source": [
    "model_most_influential_feature = None\n",
    "# YOUR CODE HERE\n",
    "raise NotImplementedError()"
   ]
  },
  {
   "cell_type": "markdown",
   "metadata": {
    "cell_id": "6330669180c34923b630bc65acb06b14",
    "deepnote_cell_type": "markdown",
    "deletable": false,
    "editable": false,
    "nbgrader": {
     "cell_type": "markdown",
     "checksum": "786388ab470936c6eef555f91b9886ae",
     "grade": false,
     "grade_id": "cell-d6e2889e0cd19357",
     "locked": true,
     "schema_version": 3,
     "solution": false,
     "task": false
    }
   },
   "source": [
    "Nachdem Ihr nun ein Modell zur Klassifikation trainiert habt, möchten wir bestimmen, wie gut es ist. Es gibt allerdings keine allgemeingültige Metrik für die Genauigkeit (siehe z.B. [hier](https://scikit-learn.org/stable/modules/model_evaluation.html)).\n",
    "\n",
    "Hier definieren wir die Genauigkeit als die Anzahl der richtigen Vorhersagen geteilt durch die Gesamtzahl an Vorhersagen. Implementiert dafür im nächsten Feld eine Funktion, die bevorzugt Vektoren benutzt (anstelle einer Schleife).\n"
   ]
  },
  {
   "cell_type": "code",
   "execution_count": null,
   "metadata": {
    "cell_id": "69e74afbaa5c4cf6a90cba852f807be5",
    "deepnote_cell_type": "code",
    "deletable": false,
    "execution_context_id": "5a1103c4-0842-497c-951b-69d5a37cd3e1",
    "execution_millis": 2,
    "execution_start": 1730323316331,
    "nbgrader": {
     "cell_type": "code",
     "checksum": "15e2acbbcd94318f8f16b1749921aca4",
     "grade": false,
     "grade_id": "accuracy-function",
     "locked": false,
     "schema_version": 3,
     "solution": true,
     "task": false
    },
    "source_hash": "8bc04d25"
   },
   "outputs": [],
   "source": [
    "def accuracy(y_true, y_pred) -> float:\n",
    "    # YOUR CODE HERE\n",
    "    raise NotImplementedError()\n",
    "    return frac"
   ]
  },
  {
   "cell_type": "markdown",
   "metadata": {
    "cell_id": "06d81d7d718740d3ad0f5922f3c3b952",
    "deepnote_cell_type": "markdown",
    "deletable": false,
    "editable": false,
    "nbgrader": {
     "cell_type": "markdown",
     "checksum": "ebcd024450376832504a6186ff160e40",
     "grade": false,
     "grade_id": "cell-44d7fd0a77c52796",
     "locked": true,
     "schema_version": 3,
     "solution": false,
     "task": false
    }
   },
   "source": [
    "Nachdem wir eine Formel für die Genauigkeit aufgestellt haben, können wir diese nun nutzen, um die Metrik für die Trainings- und die Testdaten zu berechnen:\n"
   ]
  },
  {
   "cell_type": "code",
   "execution_count": null,
   "metadata": {
    "cell_id": "51c6a5125fc94fadaa0d83e19a0ff90a",
    "deepnote_cell_type": "code",
    "deletable": false,
    "editable": false,
    "execution_context_id": "5a1103c4-0842-497c-951b-69d5a37cd3e1",
    "execution_millis": 4,
    "execution_start": 1730323318028,
    "nbgrader": {
     "cell_type": "code",
     "checksum": "904caf57a4bb533ce178310cb308359e",
     "grade": false,
     "grade_id": "cell-63ae42195def2d47",
     "locked": true,
     "schema_version": 3,
     "solution": false,
     "task": false
    },
    "source_hash": "4a454098"
   },
   "outputs": [],
   "source": [
    "##### DO NOT CHANGE #####\n",
    "acc_train = accuracy(y_train, model.predict(X_train))\n",
    "acc_test = accuracy(y_test, model.predict(X_test))\n",
    "print(\"Trainingsgenauigkeit:\", acc_train, \"Testgenauigkeit:\", acc_test)\n",
    "\n",
    "##### DO NOT CHANGE #####"
   ]
  },
  {
   "cell_type": "markdown",
   "metadata": {
    "cell_id": "54ad641b775847b29ec6c4f17664275a",
    "deepnote_cell_type": "markdown",
    "deletable": false,
    "editable": false,
    "nbgrader": {
     "cell_type": "markdown",
     "checksum": "abf8bd61c337ac814f2e79b02e1383e1",
     "grade": false,
     "grade_id": "cell-3766f91456ecf4fd",
     "locked": true,
     "schema_version": 3,
     "solution": false,
     "task": false
    }
   },
   "source": [
    "Im Bereich des maschinellen Lernens ist es oft hilfreich, die Leistung eines Modells mit einem einfachen Baseline-Modell zu vergleichen, um dessen Qualität besser einschätzen zu können. Eines der einfachsten Baseline-Modelle für unseren Datensatz könnte zum Beispiel immer nur eine der beiden Klassen vorhersagen.\n",
    "\n",
    "Berechnet die höchste mögliche Genauigkeit _(accuracy)_ eines solchen Modells, das immer nur eine Klasse vorhersagt, für den gesamten Datensatz (Trainings- und Testdaten zusammen).\n"
   ]
  },
  {
   "cell_type": "code",
   "execution_count": null,
   "metadata": {
    "cell_id": "19af44f2a9124110a783720fb78e7c3f",
    "deepnote_cell_type": "code",
    "deletable": false,
    "execution_context_id": "943c497c-d9e7-4e69-8f31-e282a43bb978",
    "execution_millis": 3,
    "execution_start": 1730308307020,
    "nbgrader": {
     "cell_type": "code",
     "checksum": "54321bfb7d95864a3c676b84df36eb8d",
     "grade": false,
     "grade_id": "accuracy-baseline-model",
     "locked": false,
     "schema_version": 3,
     "solution": true,
     "task": false
    },
    "source_hash": "698a38d9"
   },
   "outputs": [],
   "source": [
    "acc_baseline_model = None\n",
    "# YOUR CODE HERE\n",
    "raise NotImplementedError()"
   ]
  },
  {
   "cell_type": "markdown",
   "metadata": {
    "cell_id": "28982f1bbc544da5a37a834bdadb40df",
    "deepnote_cell_type": "markdown",
    "deletable": false,
    "editable": false,
    "nbgrader": {
     "cell_type": "markdown",
     "checksum": "15ba84d433a97d361b5a6966664b2560",
     "grade": false,
     "grade_id": "cell-34d92ce49a9db406",
     "locked": true,
     "schema_version": 3,
     "solution": false,
     "task": false
    }
   },
   "source": [
    "Die Genauigkeit _(accuracy)_ ist nicht die einzige Metrik zur Bewertung einer Klassifikation. Zwei weitere wichtige Kennzahlen sind die Sensitivität _(recall)_ und der positive Vorhersagewert _(precision)_. In einer Binärklassifikation bezeichnen wir die Werte der einen Klasse als positiv und die der anderen als negativ. Die folgenden Begriffe helfen, diese Metriken zu berechnen:<br>\n",
    "• True Positives (TP): Korrekt als positiv klassifizierte Werte<br>\n",
    "• True Negatives (TN): Korrekt als negativ klassifizierte Werte<br>\n",
    "• False Positives (FP): Fälschlicherweise als positiv eingestufte Werte<br>\n",
    "• False Negatives (FN): Fälschlicherweise als negativ eingestufte Werte<br>\n",
    "\n",
    "In unserem Fall bezeichnen wir die Datenpunkte mit Wert 1 in der Kategorie \"Überlebt\" als positiv und jene mit Wert 0 als negativ. Die Funktionen zur Berechnung der True Positives (TP) und False Positives (FP) sind unten angegeben. Gebt anschließend die Formeln zur Berechnung der False Negatives (FN) und True Negatives (TN) an:\n"
   ]
  },
  {
   "cell_type": "code",
   "execution_count": null,
   "metadata": {
    "cell_id": "aa5901f13f664f8fbb1a1511cbadf350",
    "deepnote_cell_type": "code",
    "deletable": false,
    "editable": false,
    "execution_context_id": "5a1103c4-0842-497c-951b-69d5a37cd3e1",
    "execution_millis": 0,
    "execution_start": 1730319954282,
    "nbgrader": {
     "cell_type": "code",
     "checksum": "42b123cc2b6efcb2420c4040a4a58347",
     "grade": false,
     "grade_id": "cell-2e0fe074a8e7162a",
     "locked": true,
     "schema_version": 3,
     "solution": false,
     "task": false
    },
    "source_hash": "deb1c03e"
   },
   "outputs": [],
   "source": [
    "##### DO NOT CHANGE #####\n",
    "def true_positives(y_true, y_pred) -> int:\n",
    "    tp = ((y_true == 1) & (y_pred == 1)).sum()\n",
    "    return tp\n",
    "\n",
    "\n",
    "def false_positives(y_true, y_pred) -> int:\n",
    "    fp = ((y_true == 0) & (y_pred == 1)).sum()\n",
    "    return fp\n",
    "\n",
    "##### DO NOT CHANGE #####"
   ]
  },
  {
   "cell_type": "code",
   "execution_count": null,
   "metadata": {
    "cell_id": "18a290313a3e43208fcff6e55549bdb1",
    "deepnote_cell_type": "code",
    "deletable": false,
    "execution_context_id": "5a1103c4-0842-497c-951b-69d5a37cd3e1",
    "execution_millis": 3,
    "execution_start": 1730319956635,
    "nbgrader": {
     "cell_type": "code",
     "checksum": "1c27dc169a5563aee0eaf6157250729e",
     "grade": false,
     "grade_id": "false-negative-and-true-negatives",
     "locked": false,
     "schema_version": 3,
     "solution": true,
     "task": false
    },
    "source_hash": "aa3b0e58"
   },
   "outputs": [],
   "source": [
    "def false_negatives(y_true, y_pred) -> int:\n",
    "    # YOUR CODE HERE\n",
    "    raise NotImplementedError()\n",
    "    return fn\n",
    "\n",
    "\n",
    "def true_negatives(y_true, y_pred) -> int:\n",
    "    # YOUR CODE HERE\n",
    "    raise NotImplementedError()\n",
    "    return tn"
   ]
  },
  {
   "cell_type": "markdown",
   "metadata": {
    "cell_id": "0517ace41cbb41158778e3e18b763d55",
    "deepnote_cell_type": "markdown",
    "deletable": false,
    "editable": false,
    "nbgrader": {
     "cell_type": "markdown",
     "checksum": "dce807d0f86657d50ab73b53f38257c3",
     "grade": false,
     "grade_id": "cell-fa5612a0eda45259",
     "locked": true,
     "schema_version": 3,
     "solution": false,
     "task": false
    }
   },
   "source": [
    "Precision und Recall berechnen sich wie folgt:<br>\n",
    "• Precision = $\\frac{\\text{True Positives}}{\\text{True Positives} + \\text{False Positives}}$<br>\n",
    "• Recall = $\\frac{\\text{True Positives}}{\\text{True Positives} + \\text{False Negatives}}$<br>\n",
    "\n",
    "Berechnet im nächsten Schritt die Werte für Precision und Recall für den Testdatensatz.\n"
   ]
  },
  {
   "cell_type": "code",
   "execution_count": null,
   "metadata": {
    "cell_id": "910414568fe94a2ca63f538608911d08",
    "deepnote_cell_type": "code",
    "deletable": false,
    "execution_context_id": "5a1103c4-0842-497c-951b-69d5a37cd3e1",
    "execution_millis": 22,
    "execution_start": 1730319960805,
    "nbgrader": {
     "cell_type": "code",
     "checksum": "8bfbc58f21b5fa95de4d179f328195ec",
     "grade": false,
     "grade_id": "precision-and-recall",
     "locked": false,
     "schema_version": 3,
     "solution": true,
     "task": false
    },
    "source_hash": "2e581947"
   },
   "outputs": [],
   "source": [
    "y_pred = model.predict(X_test)\n",
    "\n",
    "precision = None\n",
    "recall = None\n",
    "\n",
    "# YOUR CODE HERE\n",
    "raise NotImplementedError()\n",
    "print(f\"Precision: {precision:.4f}, Recall: {recall:.4f}\")"
   ]
  },
  {
   "cell_type": "markdown",
   "metadata": {
    "cell_id": "ccdc413e358440a2b4dab312ed5f6dde",
    "deepnote_cell_type": "markdown",
    "deletable": false,
    "editable": false,
    "nbgrader": {
     "cell_type": "markdown",
     "checksum": "85c9515696a3166f0a7da96fd3dea4de",
     "grade": false,
     "grade_id": "cell-9e9e7dcfb6396c2a",
     "locked": true,
     "schema_version": 3,
     "solution": false,
     "task": false
    }
   },
   "source": [
    "Jetzt folgen noch ein paar Tests für Aufgabe 2.2, bei denen ihr eure Ergebnisse grob überprüfen könnt:\n"
   ]
  },
  {
   "cell_type": "code",
   "execution_count": null,
   "metadata": {
    "cell_id": "f366fba7567b45138759073734db6195",
    "deepnote_cell_type": "code",
    "deletable": false,
    "editable": false,
    "execution_context_id": "943c497c-d9e7-4e69-8f31-e282a43bb978",
    "execution_millis": 2,
    "execution_start": 1730308315893,
    "nbgrader": {
     "cell_type": "code",
     "checksum": "3b3f21be71d25b62c1f0aea3a0188e2c",
     "grade": true,
     "grade_id": "data-preparation-test",
     "locked": true,
     "points": 2,
     "schema_version": 3,
     "solution": false,
     "task": false
    },
    "source_hash": "3d44849d"
   },
   "outputs": [],
   "source": [
    "##### DO NOT CHANGE #####\n",
    "# ID: data-preparation-test - possible points: 2\n",
    "\n",
    "assert (x[\"age\"].min()) == 0, \"Minimum normalized age should be 0\"\n",
    "assert (x[\"age\"].max()) == 1, \"Maximum normalized age should be 1\"\n",
    "\n",
    "\n",
    "##### DO NOT CHANGE #####"
   ]
  },
  {
   "cell_type": "code",
   "execution_count": null,
   "metadata": {
    "cell_id": "f5521cf828b64429a471522ecbca53ab",
    "deepnote_cell_type": "code",
    "deletable": false,
    "editable": false,
    "execution_context_id": "943c497c-d9e7-4e69-8f31-e282a43bb978",
    "execution_millis": 18,
    "execution_start": 1730308319356,
    "nbgrader": {
     "cell_type": "code",
     "checksum": "167b8cbe679f604c35f6d9f778592a27",
     "grade": true,
     "grade_id": "most-influential-feature-test",
     "locked": true,
     "points": 1,
     "schema_version": 3,
     "solution": false,
     "task": false
    },
    "source_hash": "51379a91"
   },
   "outputs": [],
   "source": [
    "##### DO NOT CHANGE #####\n",
    "# ID: most-influential-feature-test - possible points: 1\n",
    "\n",
    "assert isinstance(model_most_influential_feature, str)\n",
    "\n",
    "\n",
    "##### DO NOT CHANGE #####"
   ]
  },
  {
   "cell_type": "code",
   "execution_count": null,
   "metadata": {
    "cell_id": "5a1be71aacc0433f885330d33ff049f3",
    "deepnote_cell_type": "code",
    "deletable": false,
    "editable": false,
    "execution_context_id": "943c497c-d9e7-4e69-8f31-e282a43bb978",
    "execution_millis": 0,
    "execution_start": 1730308319441,
    "nbgrader": {
     "cell_type": "code",
     "checksum": "184a83752b497c26446e79c54aba494f",
     "grade": true,
     "grade_id": "accuracy-test",
     "locked": true,
     "points": 2,
     "schema_version": 3,
     "solution": false,
     "task": false
    },
    "source_hash": "5277ba39"
   },
   "outputs": [],
   "source": [
    "##### DO NOT CHANGE #####\n",
    "# ID: accuracy-test - possible points: 2\n",
    "\n",
    "assert (\n",
    "    accuracy(np.array([1.0, 2.0, 1.0]), np.array([2.0, 1.0, 1.0])) - 0.33\n",
    ") < 0.01, \"wrong accuracy calculation!\"\n",
    "assert (\n",
    "   accuracy(y_test, model.predict(X_test)) > 0.6\n",
    "), \"model accuracy should be above 60%!\"\n",
    "\n",
    "\n",
    "##### DO NOT CHANGE #####"
   ]
  },
  {
   "cell_type": "code",
   "execution_count": null,
   "metadata": {
    "cell_id": "9c40928af4be47c082abd7c977acf89d",
    "deepnote_cell_type": "code",
    "deletable": false,
    "editable": false,
    "execution_context_id": "943c497c-d9e7-4e69-8f31-e282a43bb978",
    "execution_millis": 8,
    "execution_start": 1730308328389,
    "nbgrader": {
     "cell_type": "code",
     "checksum": "b573d6ccdd018147f7a4507ba331dee9",
     "grade": true,
     "grade_id": "accuracy-baseline-model-test",
     "locked": true,
     "points": 2,
     "schema_version": 3,
     "solution": false,
     "task": false
    },
    "source_hash": "29a750e2"
   },
   "outputs": [],
   "source": [
    "##### DO NOT CHANGE #####\n",
    "# ID: accuracy-baseline-model-test - possible points: 2\n",
    "\n",
    "assert acc_baseline_model > 0.5, \"The accuracy for the baseline model should be higher than 50%!\"\n",
    "\n",
    "\n",
    "##### DO NOT CHANGE #####"
   ]
  },
  {
   "cell_type": "code",
   "execution_count": null,
   "metadata": {
    "cell_id": "51e9bef78f6a4d8f809cd545a2a6e1e8",
    "deepnote_cell_type": "code",
    "deletable": false,
    "editable": false,
    "execution_context_id": "943c497c-d9e7-4e69-8f31-e282a43bb978",
    "execution_millis": 17,
    "execution_start": 1730308325972,
    "nbgrader": {
     "cell_type": "code",
     "checksum": "a9d5a68a81eaed0ac57307c7be8ba18c",
     "grade": true,
     "grade_id": "precision-and-recall-test",
     "locked": true,
     "points": 1,
     "schema_version": 3,
     "solution": false,
     "task": false
    },
    "source_hash": "b49a832d"
   },
   "outputs": [],
   "source": [
    "##### DO NOT CHANGE #####\n",
    "# ID: precision-and-recall-test - possible points: 1\n",
    "\n",
    "assert precision > 0.65, \"The precision should be higher than 0.65!\"\n",
    "assert recall > 0.65, \"The recall should be higher than 0.65!\"\n",
    "\n",
    "\n",
    "##### DO NOT CHANGE #####"
   ]
  },
  {
   "cell_type": "markdown",
   "metadata": {
    "cell_id": "edd7b3f71604472e8bfe10acda809a95",
    "deepnote_cell_type": "markdown",
    "deletable": false,
    "editable": false,
    "id": "24e908e1",
    "nbgrader": {
     "cell_type": "markdown",
     "checksum": "4ac621c8196394c8b75e77e4e4a7d966",
     "grade": false,
     "grade_id": "cell-174adf961622120a",
     "locked": true,
     "schema_version": 3,
     "solution": false,
     "task": false
    }
   },
   "source": [
    "Dies ist das Ende der Programmieraufgabe. **Vergesst nicht, auch die Fragen auf dem Übungsblatt zu beantworten** ;)\n"
   ]
  }
 ],
 "metadata": {
  "deepnote_notebook_id": "d98bf76200044b16a07679afbfe74dc6",
  "kernelspec": {
   "display_name": "gki_exercises",
   "language": "python",
   "name": "python3"
  },
  "language_info": {
   "codemirror_mode": {
    "name": "ipython",
    "version": 3
   },
   "file_extension": ".py",
   "mimetype": "text/x-python",
   "name": "python",
   "nbconvert_exporter": "python",
   "pygments_lexer": "ipython3",
   "version": "3.10.12"
  }
 },
 "nbformat": 4,
 "nbformat_minor": 1
}
