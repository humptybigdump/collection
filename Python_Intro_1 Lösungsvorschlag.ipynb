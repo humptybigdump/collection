{
  "cells": [
    {
      "cell_type": "markdown",
      "metadata": {
        "id": "J7PVP9Y_8tjs"
      },
      "source": [
        "Intro\n",
        "====\n",
        "\n",
        "This Jupyter notebook will introduce you to\n",
        "\n",
        "* the basic operation of a Jupyter notebook\n",
        "* some nice features of the Python programming language\n",
        "* a helpful mindset of how to approach programming tasks (in Python)\n",
        "\n",
        "If you're completely unfamiliar with programming languages the contents below will probably overwhelm you. If this is the case, try the *Extended Intro* notebook and/or search the web for a general introduction to Python."
      ]
    },
    {
      "cell_type": "markdown",
      "metadata": {
        "id": "jeMvIaPY8tj0"
      },
      "source": [
        "Jupyter basics\n",
        "---------------------\n",
        "\n",
        "A Jupyter notebook is composed of cells. For our purposes, there are two relevant types of cells:\n",
        "\n",
        "* [Python](https://en.wikipedia.org/wiki/Python_(programming_language))\n",
        "* [Markdown](https://en.wikipedia.org/wiki/Markdown)\n",
        "\n",
        "This text is in a Markdown cell. If you double-click into the cell it will reveal the markdown and become editable.\n",
        "\n",
        "<!-- By the way: you can use HTML in Mardkown. This is an HTML comment and therefore not visible when renderd. -->"
      ]
    },
    {
      "cell_type": "code",
      "execution_count": null,
      "metadata": {
        "colab": {
          "base_uri": "https://localhost:8080/"
        },
        "id": "V2IN2KBW8tj2",
        "outputId": "1edaef79-162e-44d5-972e-ca5f4840f9f0"
      },
      "outputs": [
        {
          "data": {
            "text/plain": [
              "3"
            ]
          },
          "execution_count": 1,
          "metadata": {},
          "output_type": "execute_result"
        }
      ],
      "source": [
        "# This is a Python cell. (This line is a Python comment)\n",
        "\n",
        "# If you click into this cell, you can run/execute it using Ctrl+Enter.\n",
        "# This will result in the cell's output being printed.\n",
        "\n",
        "1 + 2"
      ]
    },
    {
      "cell_type": "code",
      "execution_count": null,
      "metadata": {
        "id": "EhWmZ_Z88tj4"
      },
      "outputs": [],
      "source": [
        "# <- Each execution of a Python cell is counted. The number of a cell's last\n",
        "#    execution is shown on the top left.\n",
        "\n",
        "# Try and run this cell several times\n",
        "\n",
        "x = 1 + 2"
      ]
    },
    {
      "cell_type": "markdown",
      "metadata": {
        "id": "3e6a6CuB8tj6"
      },
      "source": [
        "Above cell has no output, this is because assigning a value to a variable does not result in an output.  \n",
        "If you add another line to above cell that just says `x`, the value of x will be output.  \n",
        "Alternatively, you can explicitly print the value of `x` with the line `print(x)`.\n",
        "\n",
        "**Question:** What is the difference between the output of the `x` line and the `print(x)` line?"
      ]
    },
    {
      "cell_type": "code",
      "execution_count": null,
      "metadata": {
        "colab": {
          "base_uri": "https://localhost:8080/"
        },
        "id": "mGnyqwyj8tj6",
        "outputId": "40ffee80-bead-4cdf-e0e5-932093934f6c"
      },
      "outputs": [
        {
          "name": "stdout",
          "output_type": "stream",
          "text": [
            "12\n",
            "24\n"
          ]
        }
      ],
      "source": [
        "# The values of variables carry over to subsequently executed cells.\n",
        "# In other words, x still carries its value assigend in above Python cell.\n",
        "\n",
        "# Run this cell multiple times and see what happens.\n",
        "\n",
        "print(x)\n",
        "x = x * 2\n",
        "print(x)"
      ]
    },
    {
      "cell_type": "markdown",
      "metadata": {
        "id": "WL0d_sj98tj8"
      },
      "source": [
        "Python goodies\n",
        "-----------------------\n",
        "\n",
        "Compared to some other programming languages,\n",
        "Python is [relatively comfortable](https://xkcd.com/353/) to work with.  \n",
        "Below are just a few examples of the nifty things that are possible."
      ]
    },
    {
      "cell_type": "code",
      "execution_count": null,
      "metadata": {
        "colab": {
          "base_uri": "https://localhost:8080/"
        },
        "id": "48WdAr3l8tj-",
        "outputId": "6e6675cd-7387-40d9-c7b0-9d215a87f054"
      },
      "outputs": [
        {
          "name": "stdout",
          "output_type": "stream",
          "text": [
            "Hello World!\n"
          ]
        }
      ],
      "source": [
        "# Printing, as you've seen, is dead easy.\n",
        "print('Hello World!')"
      ]
    },
    {
      "cell_type": "code",
      "execution_count": null,
      "metadata": {
        "colab": {
          "base_uri": "https://localhost:8080/"
        },
        "id": "ZPk1M-rS8tj-",
        "outputId": "3bd2d200-348f-4c1b-b0d5-6ed4409abcfe"
      },
      "outputs": [
        {
          "name": "stdout",
          "output_type": "stream",
          "text": [
            "The value of x is 24 and the value of y is 3.\n",
            "The value of x is 24 and the value of y is 3.\n"
          ]
        }
      ],
      "source": [
        "# Using variables in print statements is straightforward, too.\n",
        "y = 3\n",
        "print('The value of x is {} and the value of y is {}.'.format(x, y))\n",
        "\n",
        "# or, even shorter:\n",
        "print(f'The value of x is {x} and the value of y is {y}.')  #  (notice the `f` preceeding the string)"
      ]
    },
    {
      "cell_type": "code",
      "execution_count": null,
      "metadata": {
        "colab": {
          "base_uri": "https://localhost:8080/"
        },
        "id": "3jrGkDNF8tkA",
        "outputId": "909e59e6-2535-4ef8-8f6b-af950c4d5b49"
      },
      "outputs": [
        {
          "name": "stdout",
          "output_type": "stream",
          "text": [
            "Help on built-in function print in module builtins:\n",
            "\n",
            "print(...)\n",
            "    print(value, ..., sep=' ', end='\\n', file=sys.stdout, flush=False)\n",
            "    \n",
            "    Prints the values to a stream, or to sys.stdout by default.\n",
            "    Optional keyword arguments:\n",
            "    file:  a file-like object (stream); defaults to the current sys.stdout.\n",
            "    sep:   string inserted between values, default a space.\n",
            "    end:   string appended after the last value, default a newline.\n",
            "    flush: whether to forcibly flush the stream.\n",
            "\n"
          ]
        }
      ],
      "source": [
        "# Python has built in documentation that can be retrieved with the function `help`.\n",
        "# This can be handy to, for example, quickly look up the parameters a function expects.\n",
        "\n",
        "help(print)"
      ]
    },
    {
      "cell_type": "markdown",
      "metadata": {
        "id": "T7TeRECC8tkC"
      },
      "source": [
        "**Task:** Using the information given by `help(print)`, write a print statement that outputs the words *foo*, *bar*, and *baz* separated by semicolons."
      ]
    },
    {
      "cell_type": "code",
      "execution_count": null,
      "metadata": {
        "colab": {
          "base_uri": "https://localhost:8080/"
        },
        "id": "HvNCzQ-88tkD",
        "outputId": "a838d5f2-d834-47f7-8dd5-de7c79d619af"
      },
      "outputs": [
        {
          "name": "stdout",
          "output_type": "stream",
          "text": [
            "foo; bar; baz\n"
          ]
        }
      ],
      "source": [
        "print('foo','bar','baz',sep='; ')"
      ]
    },
    {
      "cell_type": "code",
      "execution_count": null,
      "metadata": {
        "colab": {
          "base_uri": "https://localhost:8080/"
        },
        "id": "3mQ6JyrE8tkE",
        "outputId": "406c1e27-c553-4f71-8b5e-f0d0b9e85155"
      },
      "outputs": [
        {
          "name": "stdout",
          "output_type": "stream",
          "text": [
            "[1, 2, 3, 'a', 'b', 'c']\n",
            "1\n",
            "c\n",
            "[2, 3, 'a', 'b', 'c']\n",
            "[3]\n",
            "[1, 2]\n"
          ]
        }
      ],
      "source": [
        "# Lists (\"arrays\") have some nice features.\n",
        "\n",
        "l = [1, 2, 3, 'a', 'b', 'c']\n",
        "print(l)\n",
        "print(l[0])  # indexing\n",
        "print(l[-1])  # negative indexing\n",
        "print(l[1:])  # slicing\n",
        "print(l[2:3])\n",
        "print(l[:-4])"
      ]
    },
    {
      "cell_type": "code",
      "execution_count": 6,
      "metadata": {
        "colab": {
          "base_uri": "https://localhost:8080/"
        },
        "id": "qyZsQQFP8tkE",
        "outputId": "4f48b4b8-28cf-4999-b392-9d8a04978654"
      },
      "outputs": [
        {
          "name": "stdout",
          "output_type": "stream",
          "text": [
            "Hello\n",
            "World\n",
            "World\n"
          ]
        }
      ],
      "source": [
        "# Strings are automatically treated as lists of characters\n",
        "\n",
        "print('Hello World!'[:5])\n",
        "print('Hello World!'[6:-1])\n",
        "print('Hello World!'[6:11])"
      ]
    },
    {
      "cell_type": "markdown",
      "metadata": {
        "id": "-cOl3wyF8tkF"
      },
      "source": [
        "**Task:** Use slicing to make above print statement say *World* (without the exclamation mark) instead of *Hello*."
      ]
    },
    {
      "cell_type": "code",
      "execution_count": null,
      "metadata": {
        "colab": {
          "base_uri": "https://localhost:8080/"
        },
        "id": "LPRNIO9g8tkG",
        "outputId": "5e2701c1-0aff-4896-c386-f152e8c27c98"
      },
      "outputs": [
        {
          "name": "stdout",
          "output_type": "stream",
          "text": [
            "a is 1\n",
            "b is 2\n",
            "c is 3\n",
            "x is 1\n",
            "y is [2, 3]\n"
          ]
        }
      ],
      "source": [
        "# More fun with lists\n",
        "\n",
        "l = [1, 2, 3]\n",
        "\n",
        "# unpacking\n",
        "a, b, c = l\n",
        "print(f'a is {a}\\nb is {b}\\nc is {c}')\n",
        "x, *y = l\n",
        "print(f'x is {x}\\ny is {y}')"
      ]
    },
    {
      "cell_type": "code",
      "execution_count": null,
      "metadata": {
        "colab": {
          "base_uri": "https://localhost:8080/"
        },
        "id": "dZuXVpIH8tkG",
        "outputId": "e38b4c24-e5f9-4f60-835e-c765cddd2986"
      },
      "outputs": [
        {
          "name": "stdout",
          "output_type": "stream",
          "text": [
            "[2, 4, 6, 'aa', 'bb', 'cc']\n",
            "['€ 1;-', '€ 2;-', '€ 3;-', '€ a;-', '€ b;-', '€ c;-']\n"
          ]
        }
      ],
      "source": [
        "# list comprehensions\n",
        "l_doubled = [i * 2 for i in l]\n",
        "print(l_doubled)\n",
        "l_stringed = ['€ {};-'.format(i) for i in l]\n",
        "print(l_stringed)"
      ]
    },
    {
      "cell_type": "code",
      "execution_count": null,
      "metadata": {
        "colab": {
          "base_uri": "https://localhost:8080/"
        },
        "id": "vNbuLWiw8tkI",
        "outputId": "8866cf48-b5e3-491e-d367-d61205dbc7bc"
      },
      "outputs": [
        {
          "name": "stdout",
          "output_type": "stream",
          "text": [
            "{'Venus': 0, 'Earth': 1, 'Mars': 2, 'Jupiter': 79, 'Neptune': 14}\n",
            "14\n"
          ]
        }
      ],
      "source": [
        "# Dictionaries\n",
        "\n",
        "number_of_moons = {'Venus': 0, 'Earth': 1, 'Mars': 2, 'Jupiter': 79, 'Neptune': 14}\n",
        "print(number_of_moons)\n",
        "print(number_of_moons['Neptune'])"
      ]
    },
    {
      "cell_type": "code",
      "execution_count": null,
      "metadata": {
        "colab": {
          "base_uri": "https://localhost:8080/"
        },
        "id": "2k4cmmso8tkI",
        "outputId": "837e2cf4-cd4c-44cb-edbd-06f4644e9e9e"
      },
      "outputs": [
        {
          "name": "stdout",
          "output_type": "stream",
          "text": [
            "{'not Venus': 3, 'not Earth': 4, 'not Mars': 5, 'not Jupiter': 82, 'not Neptune': 17}\n"
          ]
        }
      ],
      "source": [
        "# dictionary comprehension\n",
        "not_num_moons = {\n",
        "    'not {}'.format(key) : value + 3\n",
        "    for key, value\n",
        "    in number_of_moons.items()\n",
        "}\n",
        "print(not_num_moons)"
      ]
    },
    {
      "cell_type": "code",
      "execution_count": null,
      "metadata": {
        "colab": {
          "base_uri": "https://localhost:8080/"
        },
        "id": "3mDzME8Q8tkI",
        "outputId": "6e215b27-1c02-4467-a16e-ddec0e6e2906"
      },
      "outputs": [
        {
          "name": "stdout",
          "output_type": "stream",
          "text": [
            "Venus has 0 moons.\n",
            "Earth has 1 moons.\n",
            "Mars has 2 moons.\n",
            "Jupiter has 79 moons.\n",
            "Neptune has 14 moons.\n"
          ]
        }
      ],
      "source": [
        "# easy use in loops\n",
        "for key, val in number_of_moons.items():\n",
        "    print(f'{key} has {val} moons.')"
      ]
    },
    {
      "cell_type": "markdown",
      "metadata": {
        "id": "zIO1TqUw8tkJ"
      },
      "source": [
        "**Task:** In the cell below, write a list comprehension based on the list `planets` such that a list of the numbers of moons is printed."
      ]
    },
    {
      "cell_type": "code",
      "execution_count": null,
      "metadata": {
        "colab": {
          "base_uri": "https://localhost:8080/"
        },
        "id": "wlGZ6gI88tkJ",
        "outputId": "ee5b19f7-7ade-483f-ad4e-72ce0d640178"
      },
      "outputs": [
        {
          "name": "stdout",
          "output_type": "stream",
          "text": [
            "[0, 1, 2, 79, 14]\n"
          ]
        }
      ],
      "source": [
        "planets = ['Venus', 'Earth', 'Mars', 'Jupiter', 'Neptune']\n",
        "numbers =  [number_of_moons[planet]  for   planet  in  planets]\n",
        "print(numbers)"
      ]
    },
    {
      "cell_type": "markdown",
      "metadata": {
        "id": "cbIuIBNg8tkJ"
      },
      "source": [
        "Python libraries\n",
        "-----------------------\n",
        "\n",
        "Python offers a lot of useful extra functionality in its [standard library](https://docs.python.org/3/library/)\n",
        "as well as [third party libraries](https://pypi.org/)."
      ]
    },
    {
      "cell_type": "code",
      "execution_count": null,
      "metadata": {
        "colab": {
          "base_uri": "https://localhost:8080/"
        },
        "id": "DSB99Iyq8tkK",
        "outputId": "ed33b7b0-385d-4ef0-bf52-737b8fe7578a"
      },
      "outputs": [
        {
          "name": "stdout",
          "output_type": "stream",
          "text": [
            "5.0\n",
            "2.718281828459045\n"
          ]
        }
      ],
      "source": [
        "# Libraries can be imported as follows\n",
        "\n",
        "import math  # imports the whole library\n",
        "from collections import defaultdict  # imports just part of a library\n",
        "from unicodedata import name as unicode_name  # imports under a specified name\n",
        "\n",
        "# And then used as shown below\n",
        "\n",
        "print(math.sqrt(25))\n",
        "print(math.exp(1))"
      ]
    },
    {
      "cell_type": "code",
      "execution_count": null,
      "metadata": {
        "colab": {
          "base_uri": "https://localhost:8080/"
        },
        "id": "TOTU4dwF8tkK",
        "outputId": "26d2f021-fd6f-46fa-9694-6c7c35a85d7a"
      },
      "outputs": [
        {
          "name": "stdout",
          "output_type": "stream",
          "text": [
            "3\n",
            "0\n"
          ]
        }
      ],
      "source": [
        "player_score = defaultdict(int)\n",
        "player_score['Alex'] = 3\n",
        "print(player_score['Alex'])\n",
        "print(player_score['Bob'])"
      ]
    },
    {
      "cell_type": "code",
      "execution_count": null,
      "metadata": {
        "colab": {
          "base_uri": "https://localhost:8080/"
        },
        "id": "aurS1N4l8tkL",
        "outputId": "8f88bf94-cc89-4896-df95-cd9d69f1e068"
      },
      "outputs": [
        {
          "name": "stdout",
          "output_type": "stream",
          "text": [
            "SPACE\n",
            "LATIN SMALL LETTER SHARP S\n",
            "HIRAGANA LETTER A\n",
            "THUMBS UP SIGN\n"
          ]
        }
      ],
      "source": [
        "print(unicode_name(' '))\n",
        "print(unicode_name('ß'))  # as in the German word “Straße”\n",
        "print(unicode_name('あ'))  # as in the Japanese word かかあ天下\n",
        "print(unicode_name('👍'))  # as in “👍 was approved as part of Unicode 6.0 under the name ‘Thumbs Up Sign’”"
      ]
    },
    {
      "cell_type": "markdown",
      "metadata": {
        "id": "q0cU285x8tkL"
      },
      "source": [
        "Third party libraries have to be installed before they can be used.\n",
        "This can be done, for example, using [pip](https://pip.pypa.io/en/stable/).\n",
        "\n",
        "To install third party libraries—ideally in a [virtual environment](https://docs.python.org/3/tutorial/venv.html)—using pip, execute `pip install <package_name>`.‌  \n",
        "For example `pip install matplotlib`.\n",
        "\n",
        "The following libraries will most likely be used frequently throughout the exercise sessions:\n",
        "\n",
        "* pandas\n",
        "* matplotlib\n",
        "* numpy\n",
        "* scipy\n",
        "* scikit-learn"
      ]
    },
    {
      "cell_type": "code",
      "execution_count": 2,
      "metadata": {
        "id": "C5pqA07R8tkM"
      },
      "outputs": [],
      "source": [
        "# A quick showcase\n",
        "\n",
        "import pandas as pd  # frequently used packages sometimes have common short handles they're imported as\n",
        "import numpy as np"
      ]
    },
    {
      "cell_type": "markdown",
      "metadata": {
        "id": "ZOQcXN0J8tkM"
      },
      "source": [
        "If executing above cell resulted in an error, you have to first install *pandas* and *numpy*."
      ]
    },
    {
      "cell_type": "code",
      "execution_count": 4,
      "metadata": {
        "colab": {
          "base_uri": "https://localhost:8080/",
          "height": 317
        },
        "id": "N3PsldOD8tkM",
        "outputId": "c5828e20-1f87-49d6-faaa-897fc3a73983"
      },
      "outputs": [
        {
          "data": {
            "text/plain": [
              "array([[<matplotlib.axes._subplots.AxesSubplot object at 0x7f91c712a610>]],\n",
              "      dtype=object)"
            ]
          },
          "execution_count": 4,
          "metadata": {},
          "output_type": "execute_result"
        },
        {
          "data": {
            "image/png": "[encoded data removed]",
            "text/plain": [
              "<Figure size 432x288 with 1 Axes>"
            ]
          },
          "metadata": {
            "needs_background": "light"
          },
          "output_type": "display_data"
        }
      ],
      "source": [
        "random_values = np.random.randn(100000, 1)  # a 100×1 \"matrix\" (basically a list) of normally distributed values\n",
        "df_showcase = pd.DataFrame(random_values, columns=['values'])\n",
        "df_showcase.hist(bins=100)"
      ]
    },
    {
      "cell_type": "code",
      "execution_count": 5,
      "metadata": {
        "colab": {
          "base_uri": "https://localhost:8080/"
        },
        "id": "7Q2e6LaBaMZQ",
        "outputId": "0fd69655-12be-4882-feb0-17e1ea4d642d"
      },
      "outputs": [
        {
          "name": "stdout",
          "output_type": "stream",
          "text": [
            "Help on method hist_frame in module pandas.plotting._core:\n",
            "\n",
            "hist_frame(column: Union[Hashable, NoneType, Sequence[Union[Hashable, NoneType]]] = None, by=None, grid: bool = True, xlabelsize: Union[int, NoneType] = None, xrot: Union[float, NoneType] = None, ylabelsize: Union[int, NoneType] = None, yrot: Union[float, NoneType] = None, ax=None, sharex: bool = False, sharey: bool = False, figsize: Union[Tuple[int, int], NoneType] = None, layout: Union[Tuple[int, int], NoneType] = None, bins: Union[int, Sequence[int]] = 10, backend: Union[str, NoneType] = None, legend: bool = False, **kwargs) method of pandas.core.frame.DataFrame instance\n",
            "    Make a histogram of the DataFrame's.\n",
            "    \n",
            "    A `histogram`_ is a representation of the distribution of data.\n",
            "    This function calls :meth:`matplotlib.pyplot.hist`, on each series in\n",
            "    the DataFrame, resulting in one histogram per column.\n",
            "    \n",
            "    .. _histogram: https://en.wikipedia.org/wiki/Histogram\n",
            "    \n",
            "    Parameters\n",
            "    ----------\n",
            "    data : DataFrame\n",
            "        The pandas object holding the data.\n",
            "    column : str or sequence\n",
            "        If passed, will be used to limit data to a subset of columns.\n",
            "    by : object, optional\n",
            "        If passed, then used to form histograms for separate groups.\n",
            "    grid : bool, default True\n",
            "        Whether to show axis grid lines.\n",
            "    xlabelsize : int, default None\n",
            "        If specified changes the x-axis label size.\n",
            "    xrot : float, default None\n",
            "        Rotation of x axis labels. For example, a value of 90 displays the\n",
            "        x labels rotated 90 degrees clockwise.\n",
            "    ylabelsize : int, default None\n",
            "        If specified changes the y-axis label size.\n",
            "    yrot : float, default None\n",
            "        Rotation of y axis labels. For example, a value of 90 displays the\n",
            "        y labels rotated 90 degrees clockwise.\n",
            "    ax : Matplotlib axes object, default None\n",
            "        The axes to plot the histogram on.\n",
            "    sharex : bool, default True if ax is None else False\n",
            "        In case subplots=True, share x axis and set some x axis labels to\n",
            "        invisible; defaults to True if ax is None otherwise False if an ax\n",
            "        is passed in.\n",
            "        Note that passing in both an ax and sharex=True will alter all x axis\n",
            "        labels for all subplots in a figure.\n",
            "    sharey : bool, default False\n",
            "        In case subplots=True, share y axis and set some y axis labels to\n",
            "        invisible.\n",
            "    figsize : tuple\n",
            "        The size in inches of the figure to create. Uses the value in\n",
            "        `matplotlib.rcParams` by default.\n",
            "    layout : tuple, optional\n",
            "        Tuple of (rows, columns) for the layout of the histograms.\n",
            "    bins : int or sequence, default 10\n",
            "        Number of histogram bins to be used. If an integer is given, bins + 1\n",
            "        bin edges are calculated and returned. If bins is a sequence, gives\n",
            "        bin edges, including left edge of first bin and right edge of last\n",
            "        bin. In this case, bins is returned unmodified.\n",
            "    \n",
            "    backend : str, default None\n",
            "        Backend to use instead of the backend specified in the option\n",
            "        ``plotting.backend``. For instance, 'matplotlib'. Alternatively, to\n",
            "        specify the ``plotting.backend`` for the whole session, set\n",
            "        ``pd.options.plotting.backend``.\n",
            "    \n",
            "        .. versionadded:: 1.0.0\n",
            "    \n",
            "    legend : bool, default False\n",
            "        Whether to show the legend.\n",
            "    \n",
            "        .. versionadded:: 1.1.0\n",
            "    \n",
            "    **kwargs\n",
            "        All other plotting keyword arguments to be passed to\n",
            "        :meth:`matplotlib.pyplot.hist`.\n",
            "    \n",
            "    Returns\n",
            "    -------\n",
            "    matplotlib.AxesSubplot or numpy.ndarray of them\n",
            "    \n",
            "    See Also\n",
            "    --------\n",
            "    matplotlib.pyplot.hist : Plot a histogram using matplotlib.\n",
            "    \n",
            "    Examples\n",
            "    --------\n",
            "    This example draws a histogram based on the length and width of\n",
            "    some animals, displayed in three bins\n",
            "    \n",
            "    .. plot::\n",
            "        :context: close-figs\n",
            "    \n",
            "        >>> df = pd.DataFrame({\n",
            "        ...     'length': [1.5, 0.5, 1.2, 0.9, 3],\n",
            "        ...     'width': [0.7, 0.2, 0.15, 0.2, 1.1]\n",
            "        ...     }, index=['pig', 'rabbit', 'duck', 'chicken', 'horse'])\n",
            "        >>> hist = df.hist(bins=3)\n",
            "\n"
          ]
        }
      ],
      "source": [
        "help(df_showcase.hist)"
      ]
    },
    {
      "cell_type": "markdown",
      "metadata": {
        "id": "cMmzfqY28tkM"
      },
      "source": [
        "**Task:**\n",
        "* Increase the number of random values and see, if you get a nicer bell curve than before.\n",
        "* Use `help` to learn about the parameters of the DataFrame's `hist` function and increase the number of bins used for the histogramm."
      ]
    },
    {
      "cell_type": "markdown",
      "metadata": {
        "id": "LHSBEu9x8tkN"
      },
      "source": [
        "You're not the first to try this\n",
        "-----------------------------------------\n",
        "\n",
        "Trying to ...\n",
        "\n",
        "* parse a CSV file?\n",
        "* extract a piece of text from an HTML document?\n",
        "* use configuration files with your program? \n",
        "* display a progressbar for a long running process?\n",
        "* validate a URL?\n",
        "* detect the language a text is written in?\n",
        "\n",
        "You're not the first. If you're not doing it as a programming exercise, and *especially* if you're creating something that is supposed to be used by others, it is often advisable to look for a mature library that does the job.\n",
        "\n",
        "* CSV parsing is available in the [standard library](https://docs.python.org/3/library/csv.html); pandas also has a [builtin function](https://pandas.pydata.org/pandas-docs/stable/reference/api/pandas.read_csv.html)\n",
        "* HTML can be parsed with [Beautiful Soup](https://www.crummy.com/software/BeautifulSoup/)\n",
        "* Parsing configuration files is also part of the [standard library](https://docs.python.org/3/library/configparser.html)\n",
        "* A nice progressbar can be created using [tqdm](https://tqdm.github.io/)\n",
        "* URL validation, while a bit of an iffy topic, can be done with [urllib](https://docs.python.org/3/library/urllib.parse.html)\n",
        "* For language detection there is, for example, [langdetect](https://github.com/Mimino666/langdetect)\n",
        "\n",
        "**Bottom line:** the Python community is your friend. :)"
      ]
    },
    {
      "cell_type": "markdown",
      "metadata": {
        "id": "2yTu8rxL8tkN"
      },
      "source": [
        "---\n",
        "\n",
        "As a minimal demonstration, here's effectively four lines of Python that retrieve the latest KIT news:  \n",
        "(The libraries used are `requests` and `beautifulsoup4`. You'll have to install them for the code to run.)"
      ]
    },
    {
      "cell_type": "code",
      "execution_count": null,
      "metadata": {
        "colab": {
          "base_uri": "https://localhost:8080/"
        },
        "id": "qvo4m2TN8tkO",
        "outputId": "6f4f3929-0d8e-45fc-b87a-1d3357fe518a"
      },
      "outputs": [
        {
          "name": "stdout",
          "output_type": "stream",
          "text": [
            "KIT News:\n",
            "=========\n",
            "Crisis Communication: Providing Credible and Comprehensible Information\n",
            "KIT project investigates the impact of health information on citizens and authorities in times of epidemic crisis\n"
          ]
        }
      ],
      "source": [
        "import requests\n",
        "from bs4 import BeautifulSoup\n",
        "\n",
        "http_response = requests.get('https://www.kit.edu/english/')  # retrieve website content\n",
        "parsed_html = BeautifulSoup(http_response.text)               # parse html\n",
        "headline = parsed_html.find('span', class_='headline')        # find headline\n",
        "snippet = headline.parent.find('p')                           # find associated text snippet\n",
        "\n",
        "print(\n",
        "    'KIT News:\\n'\n",
        "    '=========\\n'\n",
        "    f'{headline.text}\\n'\n",
        "    f'{snippet.text}'\n",
        ")"
      ]
    },
    {
      "cell_type": "markdown",
      "metadata": {
        "id": "sagAPjGr8tkO"
      },
      "source": [
        "**NOTE:** before you get all enthusiastic now and start scraping websites left and right, *be aware* that there are laws and a general etiquette to be observed when accessing other people's stuff.\n",
        "\n",
        "A web search for \"ethical web scraping\" or \"responsible web scraping\" will lead you to further information. Key points:\n",
        "\n",
        "* Use an API if there is one\n",
        "* Identify yourself and your intent using the `User-Agent` header\n",
        "* Respect the robots.txt\n",
        "* Respect time-outs, crawl-rates, etc. as indicated in response headers or the robots.txt"
      ]
    }
  ],
  "metadata": {
    "colab": {
      "collapsed_sections": [],
      "name": "Python_Intro_1.ipynb",
      "provenance": []
    },
    "kernelspec": {
      "display_name": "Python 3",
      "language": "python",
      "name": "python3"
    },
    "language_info": {
      "codemirror_mode": {
        "name": "ipython",
        "version": 3
      },
      "file_extension": ".py",
      "mimetype": "text/x-python",
      "name": "python",
      "nbconvert_exporter": "python",
      "pygments_lexer": "ipython3",
      "version": "3.8.9 (default, Jul 19 2021, 09:37:32) \n[Clang 13.0.0 (clang-1300.0.27.3)]"
    },
    "vscode": {
      "interpreter": {
        "hash": "31f2aee4e71d21fbe5cf8b01ff0e069b9275f58929596ceb00d14d90e3e16cd6"
      }
    }
  },
  "nbformat": 4,
  "nbformat_minor": 0
}
