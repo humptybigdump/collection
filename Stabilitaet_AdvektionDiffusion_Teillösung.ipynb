{
 "cells": [
  {
   "cell_type": "markdown",
   "metadata": {},
   "source": [
    "# Numerische Verifizierung der von Neumann Stabilitätsanalyse"
   ]
  },
  {
   "cell_type": "code",
   "execution_count": 1,
   "metadata": {},
   "outputs": [],
   "source": [
    "# wie immer, lass uns einige wichtige Module importieren\n",
    "import numpy as np\n",
    "from matplotlib import pyplot as plt\n",
    "from matplotlib import ticker as mtick"
   ]
  },
  {
   "cell_type": "markdown",
   "metadata": {},
   "source": [
    "---"
   ]
  },
  {
   "cell_type": "markdown",
   "metadata": {},
   "source": [
    "## Aufgabe 8.1\n",
    "\n",
    "Bearbeiten Sie Ihre Jupyter Notebooks der Übungen 5 und 6, so dass diese die Advektions-Diffusionsgleichung \n",
    "\n",
    "$$ \\phi_{/t} + U \\phi_{/x} = \\nu \\phi_{/xx} \\qquad \\qquad (1)$$\n",
    "\n",
    "mit dem in Aufgabenteil 8.1 beschrieben Verfahren lösen. \n",
    "\n",
    "Definieren Sie zuerst die notwendigen Parameter. Verwenden Sie hierfür $N_x = 20$ Kontrollvolumina (KV), um das Lösungsgebiet zu diskretisieren. Nehmen Sie zusätzlich folgende Parameter an: $U=1$, $L_x=1$. Wählen Sie $\\Delta t$ und $\\nu$ nach der Stabilitätsanalyse von Augfgabe 8.2, so dass das Verfahren stabil ist."
   ]
  },
  {
   "cell_type": "code",
   "execution_count": 12,
   "metadata": {},
   "outputs": [],
   "source": [
    "##########\n",
    "# INPUTS #\n",
    "##########\n",
    "\n",
    "L = 1         # [m] Länge des Gebiets\n",
    "U = 1         # [m/s] Advektionsgeschwindigkeit\n",
    "\n",
    "Nt = 20\n",
    "# Anzahl der zu berechnende Zeitschritte\n",
    "Nx = 20         # Anzahl von Zellen / Kontrollvolumina (KV)\n",
    "beta = 0.4         # dimensionsloser Parameter alfa/(dx^2/dt) = nu * dt / dx^2 = beta\n",
    "sigma = 0.4         # dimensionsloser Parameter U/(dx/dt) = U * dt / dx = sigma"
   ]
  },
  {
   "cell_type": "markdown",
   "metadata": {},
   "source": [
    "Definieren Sie die Vektoren $\\mathbf{x}$ der Koordinaten von den Mittelpunkten der Kontrollvolumina (KV), $\\mathbf{\\phi}$ der unbekannten Lösungsvariable, $\\mathbf{F}$ der Flüsse an den KV Grenzflächen. Nachdem Sie in dem oberen Block $L$ und $N_x$ definiert haben, können Sie jetzt die Breite $\\Delta x$ des Kontrollvolumens auch definieren.  Die Zeitschrittweite $\\Delta t$ und der Diffusionskoeffizienten $\\nu$ werden aus den dimensionslosen Parametern $\\beta$ und $\\sigma$ hergeleitet."
   ]
  },
  {
   "cell_type": "code",
   "execution_count": 13,
   "metadata": {},
   "outputs": [],
   "source": [
    "dx = L/Nx                  # [m] Auflösung\n",
    "dt = sigma*dx/U                  # [s] Zeitschritt\n",
    "nu = beta*dx**2/dt                  # [m^2/s] Diffusionskoeffizient\n",
    "\n",
    "x = (np.arange(Nx)+0.5)*dx      # Gitter (Vektor der Koordinate von den KV Mittelpunkten)\n",
    "x_I = (np.arange(Nx+1))*dx      # Gitter (Vektor der Koordinate der KV Grenzfflächen: nicht nötig für Berechnung!)\n",
    "phi = np.zeros(Nx)      # Vektor der im KV gemittelten phi-Werte\n",
    "F = np.zeros(Nx+1)      # Vektor der Flüsse an den KV Grenzflächen"
   ]
  },
  {
   "cell_type": "markdown",
   "metadata": {},
   "source": [
    "Initialisieren Sie den Lösungsvektor $\\mathbf{\\phi}$ mit der in Aufgabenteil 8.1a) vorgegebenen Anfangsbedingung\n",
    "\n",
    "$$ \\phi(x,t=0) = A \\cos (k_x x) \\, . \\qquad \\qquad (2)$$\n",
    "\n",
    "Wählen Sie als Wellenzahl $k_x=2\\pi$ und $A=1$."
   ]
  },
  {
   "cell_type": "code",
   "execution_count": 14,
   "metadata": {
    "scrolled": false
   },
   "outputs": [],
   "source": [
    "# Wir speichern die Anfangsbedingung in dem Vektor phi\n",
    "phi += np.cos(2*np.pi*x)"
   ]
  },
  {
   "cell_type": "markdown",
   "metadata": {},
   "source": [
    "Iterieren Sie die Berechnung der Lösung im nächsten Zeitschritt für eine Anzahl von Zeitschritten $N_t=200$. Dieser Schritt beinhaltet folgende Operationen:\n",
    "        \n",
    "* Iterieren Sie über alle KV Grenzflächen, um die advektive und diffusive Flüsse zu berechnen und in den Vektor $\\mathbf{F}$ zu speichern. \n",
    "* Iterieren Sie über alle KV, um die Lösung durch die Bilanz der Flüsse zu aktualisieren."
   ]
  },
  {
   "cell_type": "code",
   "execution_count": 15,
   "metadata": {
    "scrolled": true
   },
   "outputs": [],
   "source": [
    "# Zuerst definieren wir die Zeit\n",
    "# vor der Integration sind wir beim Zeitpunkt null\n",
    "t=0\n",
    "# Wir starten die zeitliche Integration\n",
    "# als For-Schleife für Nt Zeitschritte\n",
    "for n in range(Nt):\n",
    "    # Wir aktualisieren die Zeit\n",
    "    t = t+dt\n",
    "    # Wir berechnen die Flüsse: Achten Sie auf \n",
    "    # die periodischen Randbedingungen! \n",
    "    for iF in range(Nx+1):\n",
    "        # Wir berechnen die diffusive Flüsse (grad(phi)*n) \n",
    "        # mit den zentralen finiten Differenzen\n",
    "        F[iF] = -nu*(phi[iF%Nx]-phi[iF-1])/dx\n",
    "        # und dann die advektive Flüsse (U*phi) \n",
    "        # mit linearen Interpolation\n",
    "        F[iF] += 0.5*U*(phi[iF%Nx]+phi[iF-1])\n",
    "    # Wir aktualisieren die Lösung\n",
    "    # durch die Bilanz der Flüsse\n",
    "    for i in range(Nx):\n",
    "        phi[i] += (dt/dx)*(F[i]-F[i+1])\n"
   ]
  },
  {
   "cell_type": "markdown",
   "metadata": {},
   "source": [
    "Bevor wir die Lösung darstellen, ist es sinnvoll, die analytische exakte Lösung des Problems zu implementieren. Das machen wir mit einer Funktion. "
   ]
  },
  {
   "cell_type": "code",
   "execution_count": 16,
   "metadata": {},
   "outputs": [],
   "source": [
    "# Wir definieren die Funktion, mit der wir die exakten Lösung definieren \n",
    "def phi_exakt(t,x,A,nu,U,kx):\n",
    "    phi_exakt = A*np.cos(kx*(x-U*t))*np.exp(-nu*t*kx**2)\n",
    "    return phi_exakt\n",
    "    \n",
    "# Wir können jetzt die exakte Lösung berechnen\n",
    "x_ex = np.linspace(0,L,Nx)\n",
    "phi_ex = phi_exakt(t,x_ex,1,nu,U,2*np.pi)"
   ]
  },
  {
   "cell_type": "markdown",
   "metadata": {},
   "source": [
    "Stellen Sie das Ergebnis dar und überprüfen Sie diese, in dem Sie es mit dem erwarteten Ergebnis vergleichen. "
   ]
  },
  {
   "cell_type": "code",
   "execution_count": 17,
   "metadata": {
    "scrolled": true
   },
   "outputs": [
    {
     "data": {
      "image/png": "[encoded data removed]",
      "text/plain": [
       "<Figure size 640x480 with 1 Axes>"
      ]
     },
     "metadata": {},
     "output_type": "display_data"
    }
   ],
   "source": [
    "# Wir öffnen eine neue Abbildung\n",
    "plt.figure()\n",
    "# wir stellen die exakte und numerische Lösung dar\n",
    "plt.plot(x,phi,'.',label='numerisch')\n",
    "plt.plot(x_ex,phi_ex,label='exakt')\n",
    "# wir setzen Grenzen für die x-Achse:\n",
    "# Wir sehen gleich wozu wir das brauchen\n",
    "\n",
    "# wir zeigen die Legende an\n",
    "plt.legend()\n",
    "\n",
    "# und beschriften die Achsen\n",
    "plt.xlabel('x')\n",
    "plt.ylabel('phi')\n",
    "plt.show()"
   ]
  },
  {
   "cell_type": "markdown",
   "metadata": {},
   "source": [
    "Verifizieren Sie, dass Ihr Ergebnis bezüglich der Stabilität des numerischen Verfahren aus Aufgabe 8.2 korrekt ist und sich in die Stabilitätseigenschaften des Verfahrens tatsächlich wiederspielt. Um dies zu erreichen, variieren Sie in ihrem Jupyter Notebook die Parameter $\\sigma = U / (\\Delta x / \\Delta t)$ und $\\beta = \\nu / (\\Delta x^2 / \\Delta t)$ im folgenden Bereich\n",
    "\n",
    "$$ \\sigma = 0 \\cdots 1.5,  \\qquad \\beta = 0 \\cdots 1.5 \\, $$\n",
    "    \n",
    "und beobachten Sie das Verhalten der Lösung. Für welche Werte von $(\\sigma, \\beta)$ ist die Lösung stabil? \n",
    "\n",
    "Hinweis: Sie können eine Fehlernorm zur von Ihnen berechneten analytischen Lösung verwenden, um in Ihrem Jupyter Notebook die Stabilität der Lösung zu bewerten. Erhöhen Sie hierfür die Anzahl von Zeitschritte zu $N_t=1000$."
   ]
  },
  {
   "cell_type": "code",
   "execution_count": null,
   "metadata": {},
   "outputs": [],
   "source": [
    "# Gleich werden wir das obere Problem für unterschiedliche Werte von sigma und beta lösen müssen\n",
    "#\n",
    "# Es bietet sich also an, die Definition des Problems \n",
    "# und seine Lösung in eine Funktion zu implementieren\n",
    "#\n",
    "def solve_advdiff(Nx,Nt,U,L,sigma,beta):\n",
    "    # zuerst definieren wir die abhängigen Parameter\n",
    "                          # [m] Auflösung\n",
    "    # wenn sigma=0, dann muss U=0 und wir können den Zeitschritt nicht aus \n",
    "    # sigma berechnen. In diesem Fall müssen wir den Zeitschritt \n",
    "    # vorgeben\n",
    "    if sigma==0:\n",
    "\n",
    "    else:\n",
    "                  # [s] Zeitschritt\n",
    "                  # [m^2/s] Diffusionskoeffizient\n",
    " \n",
    "    # und die Vektoren der Koordinaten und Lösungsvektoren\n",
    "                  # Gitter (Vektor der Koordinate von den KV Mittelpunkten)\n",
    "                  # Gitter (Vektor der Koordinate der KV Grenzfflächen: nicht nötig für Berechnung!)\n",
    "                  # Vektor der im KV gemittelten phi-Werte\n",
    "                  # Vektor der Flüsse an den KV Grenzflächen\n",
    "\n",
    "    # Wir speichern die Anfangsbedingung in dem Vektor phi\n",
    " \n",
    "    \n",
    "    # Wenn beide beta und sigma null sind, \n",
    "    # dann passiert nichts in der Gleichung: wir haben\n",
    "    # weder diffusion noch advektion\n",
    "    if sigma==0 and beta==0:\n",
    " \n",
    "\n",
    "    # Zuerst definieren wir die Zeit\n",
    "    # vor der Integration sind wir beim Zeitpunkt null\n",
    "\n",
    "    # Wir starten die zeitliche Integration\n",
    "    # als For-Schleife für Nt Zeitschritte\n",
    "\n",
    "        # Wir aktualisieren die Zeit\n",
    "\n",
    "        # Wir berechnen die Flüsse: Achten Sie auf \n",
    "        # die periodischen Randbedingungen! \n",
    "\n",
    "            # Wir berechnen die diffusive Flüsse (grad(phi)*n) \n",
    "            # mit den zentralen finiten Differenzen\n",
    "\n",
    "            # und dann die advektive Flüsse (U*phi) \n",
    "            # mit linearen Interpolation\n",
    "\n",
    "        # Wir aktualisieren die Lösung\n",
    "        # durch die Bilanz der Flüsse\n",
    "\n",
    "  \n",
    "    # Wir können gleich auch die analytische Lösung berechnen\n",
    "\n",
    "    # Die Funktion soll die Lösung und die Koordinate zurückgeben\n",
    "\n",
    "    \n",
    "# Wir können eine weitere Funktion definieren, mit der wir durch den Vergleich\n",
    "# mit der analytischen Lösung bestimmen können, ob die Lösung stabil war\n",
    "def isStabil(phi,phi_ex):\n",
    "    # Berechne den maximalen Fehler \n"
   ]
  },
  {
   "cell_type": "markdown",
   "metadata": {},
   "source": [
    "Jetzt sind wir bereit, um tatsächlich den Parameterraum zu untesuchen"
   ]
  },
  {
   "cell_type": "code",
   "execution_count": null,
   "metadata": {},
   "outputs": [],
   "source": [
    "      # Parameterraum sigma\n",
    "      # Parameterraum beta\n",
    "# Array von \"dtype=bool\" mit True-Werte, wenn die Kombination (sigma,beta) stabil ist\n",
    "\n",
    "# Wir erhähren die Anza\n",
    "\n",
    "\n",
    "# Loop für alle sigma\n",
    "\n",
    "    # Loop für alle betas\n",
    "\n",
    "        # Löse die Gleichung\n",
    "\n",
    "        # Kontrolliere die Stabilität\n"
   ]
  },
  {
   "cell_type": "markdown",
   "metadata": {},
   "source": [
    "Stellen Sie das Ergebnis des Aufgabenteils 8.3b) in einem Diagramm dar, welches auf der Ordinate den Parameter $\\beta$ und auf der Abszisse den Parameter $\\sigma$ zeigt. Kennzeichnen Sie mit dem Symbol $\\times$ die $(\\sigma,\\beta)$-Kombinationen, die zu einer stabilen Lösung geführt haben. Die instabile Fälle werden ansonsten mit dem Symbol $\\circ$ gekennzeichnet. Stellen im selben Diagramm auch die Kurven der neutralen Stabilitätsgrenze, so wie sie diese in Aufgabe 8.2 bestimmt haben. Stimmen die numerischen Ergebnisse mit Ihrer Erwartung aus der Stabilitätsanalyse überein?"
   ]
  },
  {
   "cell_type": "code",
   "execution_count": null,
   "metadata": {
    "scrolled": true
   },
   "outputs": [],
   "source": [
    "# Wir öffnen eine neue Abbildung\n",
    "\n",
    "# Wir gehe die Fälle durch und plotten sie\n",
    "# Loop für alle sigma\n",
    "for iS,sigma in enumerate(sigmas):\n",
    "    # Loop für alle betas\n",
    "    for iB,beta in enumerate(betas):\n",
    "        # Fall-Unterscheidung in Abhängigkeit\n",
    "        # der Stabilität\n",
    "        if stable[iS,iB]:   #wenn stabil\n",
    "            # Plotten mit x\n",
    "\n",
    "        else:               #wenn instabil\n",
    "            # Plotten mit o\n",
    "\n",
    "# Wir plotten auch die Kurven aus der Stabilitätsanalyse\n",
    "\n",
    "# Wir plotten eie Legende\n"
   ]
  }
 ],
 "metadata": {
  "kernelspec": {
   "display_name": "Python 3 (ipykernel)",
   "language": "python",
   "name": "python3"
  },
  "language_info": {
   "codemirror_mode": {
    "name": "ipython",
    "version": 3
   },
   "file_extension": ".py",
   "mimetype": "text/x-python",
   "name": "python",
   "nbconvert_exporter": "python",
   "pygments_lexer": "ipython3",
   "version": "3.11.5"
  }
 },
 "nbformat": 4,
 "nbformat_minor": 4
}
