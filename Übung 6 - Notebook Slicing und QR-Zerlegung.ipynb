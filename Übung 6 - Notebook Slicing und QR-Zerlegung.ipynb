{
 "cells": [
  {
   "cell_type": "markdown",
   "metadata": {},
   "source": [
    "# Erweiterte Zugriffsmöglichkeiten auf Vektor und Matrixelemente (Slicing)"
   ]
  },
  {
   "cell_type": "code",
   "execution_count": null,
   "metadata": {},
   "outputs": [],
   "source": [
    "import numpy as np\n",
    "A = np.array([ [1,2,3,4] , [5,6,7,8] , [9,10,11,12], [13,14,15,16], [17,18,19,20] ])\n",
    "print(A)"
   ]
  },
  {
   "cell_type": "markdown",
   "metadata": {},
   "source": [
    "**Bisher**: Zugriff auf einzelne Matrixelemente durch `A[Zeilenindex,Spaltenindex]`:"
   ]
  },
  {
   "cell_type": "code",
   "execution_count": null,
   "metadata": {},
   "outputs": [],
   "source": [
    "print( A[1,3] )\n",
    "print( A[0,0] )\n",
    "print( A[4,3] )"
   ]
  },
  {
   "cell_type": "markdown",
   "metadata": {},
   "source": [
    "**Jetzt**: Zugriff auf komplette Teilmatrizen:\n",
    "\n",
    "In den eckigen Klammern für Zeilen- und Spaltenindex kann man nicht nur einzelne Zahlen einegben, sondern auch Ausdrücke der Form \n",
    "- `start:stop` mit zwei natürlichen Zahlen `start` und `stop` --> Alle Indizes von `start` bis `stop`-1\n",
    "- `start:stop:step` mit drei natürlichen Zahlen `start`, `stop` und `step` --> Alle Indizes von `start` bis (maximal) `stop`-1 im Abstand von `step`\n",
    "\n",
    "Damit greift man dann gleichzeitig auf alle Elemente des Arrays zu, die durch die jeweiligen Indizes erreicht werden. "
   ]
  },
  {
   "cell_type": "code",
   "execution_count": null,
   "metadata": {},
   "outputs": [],
   "source": [
    "print(A)"
   ]
  },
  {
   "cell_type": "code",
   "execution_count": null,
   "metadata": {},
   "outputs": [],
   "source": [
    "# Erste Zeile von A\n",
    "print( A[0,0:4] )"
   ]
  },
  {
   "cell_type": "code",
   "execution_count": null,
   "metadata": {},
   "outputs": [],
   "source": [
    "# Teil der vierten Spalte von A\n",
    "print( A[2:5,3] )"
   ]
  },
  {
   "cell_type": "code",
   "execution_count": null,
   "metadata": {},
   "outputs": [],
   "source": [
    "# Dritte Spalte von A\n",
    "print( A[0:5,2] )"
   ]
  },
  {
   "cell_type": "code",
   "execution_count": null,
   "metadata": {},
   "outputs": [],
   "source": [
    "# A ohne die äußeren Zeilen und Spalten\n",
    "print( A[1:4,1:3] )"
   ]
  },
  {
   "cell_type": "code",
   "execution_count": null,
   "metadata": {},
   "outputs": [],
   "source": [
    "# Jeder zweite Eintrag der ersten Spalte von A\n",
    "print( A[0:5:2,0] )"
   ]
  },
  {
   "cell_type": "markdown",
   "metadata": {},
   "source": [
    "Bei der Verwendung von `start:stop` kann sowohl für `start` als auch für `stop` einfach **keine Zahl** eingegeben werden.\n",
    "\n",
    "- Wird `start` weggelassen, so wird mit dem Index 0 angefangen (also mit der ersten Zeile/Spalte)\n",
    "- Wird `stop` weggelassen, so werden alle Elemente bis zum letzten ausgewählt (also bis zur letzten Zeile/Spalte)"
   ]
  },
  {
   "cell_type": "code",
   "execution_count": null,
   "metadata": {},
   "outputs": [],
   "source": [
    "print(A)"
   ]
  },
  {
   "cell_type": "code",
   "execution_count": null,
   "metadata": {},
   "outputs": [],
   "source": [
    "# Erste drei Einträge der ersten Spalte von A\n",
    "print( A[:3,0] )"
   ]
  },
  {
   "cell_type": "code",
   "execution_count": null,
   "metadata": {},
   "outputs": [],
   "source": [
    "# Letzte drei Einträge der ersten Spalte von A\n",
    "print( A[2:,0] )"
   ]
  },
  {
   "cell_type": "code",
   "execution_count": null,
   "metadata": {},
   "outputs": [],
   "source": [
    "# Komplette erste Spalte von A\n",
    "print( A[:,0] )"
   ]
  },
  {
   "cell_type": "code",
   "execution_count": null,
   "metadata": {},
   "outputs": [],
   "source": [
    "# Komplette dritte Zeile von A\n",
    "print( A[2,:] )"
   ]
  },
  {
   "cell_type": "code",
   "execution_count": null,
   "metadata": {},
   "outputs": [],
   "source": [
    "# Erste drei Zeilen von A\n",
    "print( A[0:3,:] )"
   ]
  },
  {
   "cell_type": "markdown",
   "metadata": {},
   "source": [
    "**--> Sehr einfacher Zugriff auf die Zeilen und Spalten einer Matrix, indem man den Spalten-/Zeilenindex durch einen Doppelpunkt ersetzt!**"
   ]
  },
  {
   "cell_type": "markdown",
   "metadata": {},
   "source": [
    "So kann man nicht nur auf Teilmatrizen zugreifen, sondern auch Teilmatrizen ändern:"
   ]
  },
  {
   "cell_type": "code",
   "execution_count": null,
   "metadata": {},
   "outputs": [],
   "source": [
    "# Mache die zweite Spalte von A zu einer Eins-Spalte\n",
    "A[:,1] = np.ones(5)\n",
    "print(A)"
   ]
  },
  {
   "cell_type": "markdown",
   "metadata": {},
   "source": [
    "# QR-Zerlegung in Python (ÜB 5, Aufgabe 4)\n"
   ]
  },
  {
   "cell_type": "code",
   "execution_count": null,
   "metadata": {},
   "outputs": [],
   "source": [
    "import numpy as np"
   ]
  },
  {
   "cell_type": "code",
   "execution_count": null,
   "metadata": {},
   "outputs": [],
   "source": [
    "# Prozedur für Skalarprodukte\n",
    "def skp(u,v):\n",
    "    n = len(u)\n",
    "    res = 0\n",
    "    for j in range(n):\n",
    "        res = res + u[j]*v[j]\n",
    "        \n",
    "    return res"
   ]
  },
  {
   "cell_type": "code",
   "execution_count": null,
   "metadata": {},
   "outputs": [],
   "source": [
    "# Test der Skalarprodukt-Prozedur\n",
    "u = np.array( [1,2,3] )\n",
    "v = np.array( [-1,-1,1] )\n",
    "print('(u,v) =',skp(u,v))"
   ]
  },
  {
   "cell_type": "code",
   "execution_count": null,
   "metadata": {},
   "outputs": [],
   "source": [
    "# Prozedur zur QR-Zerlegung\n",
    "def qr(A):\n",
    "    n = A.shape[0]\n",
    "    Q = np.zeros([n,n])\n",
    "    R = np.zeros([n,n])\n",
    "    for j in range(n): # Spalte für Spalte\n",
    "        temp = A[:,j]\n",
    "        for i in range(j): # gegenüber vorherigen Spalten orthogonalisieren\n",
    "            R[i,j] = skp( Q[:,i],temp )\n",
    "            temp = temp - R[i,j]*Q[:,i]\n",
    "        R[j,j] = np.sqrt( skp(temp,temp) )\n",
    "        Q[:,j] = temp/R[j,j]\n",
    "    return Q,R"
   ]
  },
  {
   "cell_type": "code",
   "execution_count": null,
   "metadata": {},
   "outputs": [],
   "source": [
    "# Test\n",
    "A = np.array( [ [1,1,1],[2,-1,-1],[2,-4,5] ])\n",
    "print('A:')\n",
    "print(A)\n",
    "\n",
    "Q,R = qr(A)\n",
    "print('Q:')\n",
    "print(Q)\n",
    "print('R:')\n",
    "print(R)\n",
    "\n",
    "print('Proberechnung: QR = ')\n",
    "print(Q@R)"
   ]
  },
  {
   "cell_type": "code",
   "execution_count": null,
   "metadata": {},
   "outputs": [],
   "source": []
  }
 ],
 "metadata": {
  "kernelspec": {
   "display_name": "Python 3",
   "language": "python",
   "name": "python3"
  },
  "language_info": {
   "codemirror_mode": {
    "name": "ipython",
    "version": 3
   },
   "file_extension": ".py",
   "mimetype": "text/x-python",
   "name": "python",
   "nbconvert_exporter": "python",
   "pygments_lexer": "ipython3",
   "version": "3.8.3"
  }
 },
 "nbformat": 4,
 "nbformat_minor": 4
}
