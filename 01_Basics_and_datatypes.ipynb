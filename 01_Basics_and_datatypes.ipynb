{
 "cells": [
  {
   "cell_type": "markdown",
   "metadata": {},
   "source": [
    "## Basic data types and operators"
   ]
  },
  {
   "cell_type": "code",
   "execution_count": null,
   "metadata": {},
   "outputs": [],
   "source": [
    "# Integer\n",
    "a = 1\n",
    "print(a)\n",
    "print(type(a))"
   ]
  },
  {
   "cell_type": "code",
   "execution_count": null,
   "metadata": {},
   "outputs": [],
   "source": [
    "# Double\n",
    "b = 1.\n",
    "print(b)\n",
    "print(type(b))"
   ]
  },
  {
   "cell_type": "code",
   "execution_count": null,
   "metadata": {},
   "outputs": [],
   "source": [
    "# String\n",
    "string1 = 'Hello World'\n",
    "string2 = \"Hello World\"\n",
    "print(string1,string2)\n",
    "print(string1 + string2)"
   ]
  },
  {
   "cell_type": "code",
   "execution_count": null,
   "metadata": {},
   "outputs": [],
   "source": [
    "# In python data types are assigned dynamically (vs. static assignment + compilation, e.g. Fortran)\n",
    "# Thus, the data type of a variable does not have to be assigned explicitly.\n",
    "# Python infers the data types at execution, the data type of a variable can potentially change in the code\n",
    "\n",
    "q = 1\n",
    "print(type(q))\n",
    "q = 3.14\n",
    "print(type(q))\n",
    "q = \"I am a string\"\n",
    "print(type(q))\n",
    "\n",
    "# Advantage: Less verbose, more readable code - focus on the 'logic' of the program\n",
    "# Disadvantage: Speed, somewhat prone to errors \n",
    "# (for larger applications where the data type of variables is relevant, typechecks may be sensible)\n"
   ]
  },
  {
   "cell_type": "code",
   "execution_count": null,
   "metadata": {},
   "outputs": [],
   "source": [
    "# Addition\n",
    "a = 1\n",
    "b = 2\n",
    "\n",
    "c = a + b\n",
    "print(c)\n",
    "print(type(c))\n",
    "\n",
    "# Note: When operating on variables with mixed types, python infers the resulting data type (if possible)\n",
    "# Example: double + int -> double\n",
    "\n",
    "a = 1\n",
    "b = 2.5\n",
    "\n",
    "c = a + b\n",
    "print(c)\n",
    "print(type(c))"
   ]
  },
  {
   "cell_type": "code",
   "execution_count": null,
   "metadata": {},
   "outputs": [],
   "source": [
    "# multiplication and division\n",
    "d = (c-b)/c*a\n",
    "print(d)"
   ]
  },
  {
   "cell_type": "code",
   "execution_count": null,
   "metadata": {},
   "outputs": [],
   "source": [
    "# exponentiation\n",
    "e = c**2\n",
    "print(e)"
   ]
  },
  {
   "cell_type": "code",
   "execution_count": null,
   "metadata": {},
   "outputs": [],
   "source": [
    "# modulo operator\n",
    "f = 24%7\n",
    "print(f)"
   ]
  },
  {
   "cell_type": "markdown",
   "metadata": {},
   "source": [
    "## Listen, Tupel und Dictionaries"
   ]
  },
  {
   "cell_type": "code",
   "execution_count": null,
   "metadata": {},
   "outputs": [],
   "source": [
    "# Lists\n",
    "\n",
    "list1 = [1,2,3.,4,'String']\n",
    "print(list1)"
   ]
  },
  {
   "cell_type": "code",
   "execution_count": null,
   "metadata": {},
   "outputs": [],
   "source": [
    "# Tuples\n",
    "\n",
    "tuple1 = (1,2,3.,4,'String')\n",
    "print(tuple1)"
   ]
  },
  {
   "cell_type": "code",
   "execution_count": null,
   "metadata": {},
   "outputs": [],
   "source": [
    "# Accessing elements - IMPORTANT: Indexing starts at 0!\n",
    "\n",
    "print(list1[4])\n",
    "print(tuple1[2])"
   ]
  },
  {
   "cell_type": "code",
   "execution_count": null,
   "metadata": {},
   "outputs": [],
   "source": [
    "# Slicing - accessing multiple elements of a list or tuple\n",
    "\n",
    "# Note: The command [i:j] calls elements i, i+1 , ... , j-1 (!)\n",
    "# This may seem unintuitive at first, however the number of accessed elements can be easily infered by 'j-i'\n",
    "# Example: [2:5] -> 3 elements, starting at index 2\n",
    "\n",
    "print(list1[2:5])\n",
    "print(tuple1[1:3])"
   ]
  },
  {
   "cell_type": "code",
   "execution_count": null,
   "metadata": {},
   "outputs": [],
   "source": [
    "# Liste: mutable, Tupel: immutable\n",
    "\n",
    "new_list = [1,2,3,4]\n",
    "new_tuple = (1,2,3,4)\n",
    "\n",
    "new_list[0] = 10\n",
    "print(new_list)\n",
    "new_list[2:4] = [22, 33]\n",
    "print(new_list)\n",
    "\n",
    "# trying to change an element of a tuple results in an error\n",
    "try:\n",
    "    new_tuple[0] = 10\n",
    "except Exception as e:\n",
    "    print(\"Something went wrong! Error Message:\" ,e)"
   ]
  },
  {
   "cell_type": "code",
   "execution_count": null,
   "metadata": {},
   "outputs": [],
   "source": [
    "# Manipulation of lists\n",
    "\n",
    "# Example: Appending an element\n",
    "list1.append(3.5) \n",
    "print(list1)\n",
    "\n",
    "# Example: Removing an element\n",
    "list1.remove('String')\n",
    "print(list1)\n",
    "\n",
    "# Example: Sorting a list\n",
    "list1.sort()\n",
    "print(list1)\n",
    "\n",
    "# Example: Adding two lists\n",
    "print(list1 + [77, 88, 99])\n",
    "\n",
    "# Further methods and examples: https://docs.python.org/3/tutorial/datastructures.html#more-on-lists"
   ]
  },
  {
   "cell_type": "code",
   "execution_count": null,
   "metadata": {},
   "outputs": [],
   "source": [
    "# Dictionaries - lists and tuples are ordered data structures, every element is associated to an index\n",
    "# Dictionaries are unordered, their entries do not have a 'natural' order and are instead associated to keys\n",
    "\n",
    "students = {\n",
    "    \"Anne\" : 25,\n",
    "    \"Daniel\" : 29,\n",
    "    \"Robert\" : 22\n",
    "    }\n",
    "\n",
    "print(students[\"Robert\"])\n",
    "\n",
    "# Dictionary methods and syntax: https://www.programiz.com/python-programming/dictionary"
   ]
  },
  {
   "cell_type": "markdown",
   "metadata": {},
   "source": [
    "## Loops"
   ]
  },
  {
   "cell_type": "code",
   "execution_count": null,
   "metadata": {},
   "outputs": [],
   "source": [
    "# for-loop\n",
    "# The code block in a for-loop is not put in parenthesis as in C++. Neither is there an end statement as in Matlab.\n",
    "# Instead, python works with indentations (tab)\n",
    "\n",
    "for i in range(10):\n",
    "    print(i)\n",
    "    \n",
    "# Warning: The indentations are not just 'for show' but have an actual function - they signify the code block\n",
    "# associated to the respective command (in this case a for loop)"
   ]
  },
  {
   "cell_type": "code",
   "execution_count": null,
   "metadata": {},
   "outputs": [],
   "source": [
    "# while-loop\n",
    "\n",
    "i = 0\n",
    "while i < 10:\n",
    "    print(i)\n",
    "    i+=1"
   ]
  },
  {
   "cell_type": "markdown",
   "metadata": {},
   "source": [
    "## Boolean operators"
   ]
  },
  {
   "cell_type": "code",
   "execution_count": null,
   "metadata": {},
   "outputs": [],
   "source": [
    "# If statement\n",
    "# Python uses the following comparison operators: <, <=, >, >=, !=, ==\n",
    "\n",
    "for i in range(4):\n",
    "    if i<2:\n",
    "        print('tic')\n",
    "    else:\n",
    "        print('toc')\n"
   ]
  },
  {
   "cell_type": "code",
   "execution_count": null,
   "metadata": {},
   "outputs": [],
   "source": [
    "# Logical operators: and, or und not\n",
    "\n",
    "print(not 5 < 4)\n",
    "print(5 < 4 and 2 > 1)\n",
    "print(5 < 4 or 2 > 1)"
   ]
  },
  {
   "cell_type": "markdown",
   "metadata": {},
   "source": [
    "## List Comprehension"
   ]
  },
  {
   "cell_type": "code",
   "execution_count": null,
   "metadata": {},
   "outputs": [],
   "source": [
    "# Iterating over the elements of a list (or any other iterable object) can be handled quite elegantly in Python\n",
    "\n",
    "# standard:\n",
    "for i in range(len(list1)):\n",
    "    print(list1[i]**2)\n",
    "\n",
    "print(\"\")\n",
    "# python:\n",
    "for element in list1:\n",
    "    print(element**2)"
   ]
  },
  {
   "cell_type": "code",
   "execution_count": null,
   "metadata": {},
   "outputs": [],
   "source": [
    "# Similarly, filling or creating lists is less verbose\n",
    "\n",
    "# standard:\n",
    "list2 = []\n",
    "for i in range(10):\n",
    "    list2.append(i)\n",
    "print(list2)\n",
    "\n",
    "# python:\n",
    "list3 = [i for i in range(10)]\n",
    "print(list3)"
   ]
  },
  {
   "cell_type": "code",
   "execution_count": null,
   "metadata": {},
   "outputs": [],
   "source": [
    "# This can also be combined with if statements\n",
    "\n",
    "list4 = [element for element in list3 if element%2 == 0]\n",
    "print(list4)"
   ]
  },
  {
   "cell_type": "code",
   "execution_count": null,
   "metadata": {},
   "outputs": [],
   "source": []
  }
 ],
 "metadata": {
  "kernelspec": {
   "display_name": "Python 3 (ipykernel)",
   "language": "python",
   "name": "python3"
  },
  "language_info": {
   "codemirror_mode": {
    "name": "ipython",
    "version": 3
   },
   "file_extension": ".py",
   "mimetype": "text/x-python",
   "name": "python",
   "nbconvert_exporter": "python",
   "pygments_lexer": "ipython3",
   "version": "3.8.8"
  }
 },
 "nbformat": 4,
 "nbformat_minor": 2
}
