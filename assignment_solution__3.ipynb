{
 "cells": [
  {
   "cell_type": "markdown",
   "metadata": {
    "pycharm": {
     "name": "#%% md\n"
    }
   },
   "source": [
    "# Machine Vision 2022/23 - Assignment 7: Deep Learning\n",
    "\n",
    "In this exercises you will apply different concepts of deep learning in order to classify images of traffic signs. While working through this notebook, different links to official web-sites or blog-posts are provided for additional information.\n",
    "This exercise uses the Tensorflow framework, which is one of the most popular deep learning frameworks."
   ]
  },
  {
   "cell_type": "code",
   "execution_count": 1,
   "metadata": {
    "pycharm": {
     "name": "#%%\n"
    }
   },
   "outputs": [
    {
     "name": "stderr",
     "output_type": "stream",
     "text": [
      "2023-02-10 09:01:56.514703: I tensorflow/core/util/util.cc:169] oneDNN custom operations are on. You may see slightly different numerical results due to floating-point round-off errors from different computation orders. To turn them off, set the environment variable `TF_ENABLE_ONEDNN_OPTS=0`.\n"
     ]
    }
   ],
   "source": [
    "import matplotlib.pyplot as plt\n",
    "import numpy as np\n",
    "from sklearn.metrics import ConfusionMatrixDisplay\n",
    "import tensorflow as tf\n",
    "import logging\n",
    "tf.get_logger().setLevel(logging.ERROR)"
   ]
  },
  {
   "cell_type": "markdown",
   "metadata": {
    "pycharm": {
     "name": "#%% md\n"
    }
   },
   "source": [
    "##### Preparation\n",
    "\n",
    "##### German Traffic Sign Recognition Benchmark\n",
    "\n",
    "The German Traffic Sign Recognition Benchmark [(GTSRB)](https://benchmark.ini.rub.de/) is a competition that was held at the IJCNN 2011. In this competition images of traffic signs should be classified.\n",
    "You will implement your own neural network to classify a subset of the GTSRB dataset. This subset consists of `12` different classes, which are shown in the figures below. However, you are free to extend your solution to the full dataset.\n",
    "\n",
    "\n",
    "|---|------------------------------|-------------------------------|-------------------------------|-------------------------------|-------------------------------|-------------------------------|-------------------------------|-------------------------------|-------------------------------|--------------------------------|--------------------------------|--------------------------------|\n",
    "|  ![Class 0](res/images/0.png) | ![Class 1](res/images/6.png) | ![Class 2](res/images/16.png) | ![Class 3](res/images/17.jpg) | ![Class 4](res/images/19.png) | ![Class 5](res/images/22.jpg) | ![Class 6](res/images/28.png) | ![Class 7](res/images/29.png) | ![Class 8](res/images/32.png) | ![Class 9](res/images/33.png) | ![Class 10](res/images/38.png) | ![Class 11](res/images/40.png) |\n",
    "<br></br>\n",
    "\n",
    "In order to simplify this exercise, the raw GTSRB images are already transformed into a dataset, where each image has the shape of `[H,W,C]` (Height x Width x Channels) with values ranging from `0-1`.\n",
    "Furthermore, the dataset is split into a train-, validation- and test-dataset, where the train- and validation-datasets are provided."
   ]
  },
  {
   "cell_type": "code",
   "execution_count": 2,
   "metadata": {
    "pycharm": {
     "name": "#%%\n"
    }
   },
   "outputs": [
    {
     "name": "stderr",
     "output_type": "stream",
     "text": [
      "2023-02-10 09:01:58.027242: I tensorflow/stream_executor/cuda/cuda_gpu_executor.cc:975] successful NUMA node read from SysFS had negative value (-1), but there must be at least one NUMA node, so returning NUMA node zero\n",
      "2023-02-10 09:01:58.035386: W tensorflow/stream_executor/platform/default/dso_loader.cc:64] Could not load dynamic library 'libcusolver.so.11'; dlerror: libcusolver.so.11: cannot open shared object file: No such file or directory\n",
      "2023-02-10 09:01:58.036541: W tensorflow/core/common_runtime/gpu/gpu_device.cc:1850] Cannot dlopen some GPU libraries. Please make sure the missing libraries mentioned above are installed properly if you would like to use GPU. Follow the guide at https://www.tensorflow.org/install/gpu for how to download and setup the required libraries for your platform.\n",
      "Skipping registering GPU devices...\n",
      "2023-02-10 09:01:58.037134: I tensorflow/core/platform/cpu_feature_guard.cc:193] This TensorFlow binary is optimized with oneAPI Deep Neural Network Library (oneDNN) to use the following CPU instructions in performance-critical operations:  AVX2 AVX512F AVX512_VNNI FMA\n",
      "To enable them in other operations, rebuild TensorFlow with the appropriate compiler flags.\n"
     ]
    }
   ],
   "source": [
    "NUM_CLASSES = 12\n",
    "\n",
    "def get_datasets(*, images, labels, shuffle=True):\n",
    "    ds = tf.data.Dataset.from_tensor_slices((np.load(images), np.load(labels)))\n",
    "\n",
    "    if shuffle:\n",
    "        ds = ds.shuffle(1024)\n",
    "\n",
    "    return ds.batch(32)\n",
    "\n",
    "# Create a dataset for training\n",
    "train_ds = get_datasets(\n",
    "    images=\"res/images_train.npy\",\n",
    "    labels=\"res/labels_train.npy\",\n",
    ")\n",
    "# Create a dataset for validation\n",
    "val_ds = get_datasets(\n",
    "    images=\"res/images_val.npy\",\n",
    "    labels=\"res/labels_val.npy\",\n",
    "    shuffle=False\n",
    ")"
   ]
  },
  {
   "cell_type": "markdown",
   "metadata": {
    "pycharm": {
     "name": "#%% md\n"
    }
   },
   "source": [
    "The `gen_datasets` function creates a [Tensorflow dataset](https://blog.tensorflow.org/2019/02/introducing-tensorflow-datasets.html) from two numpy arrays containing the images and the corresponding ground truth class labels.\n",
    "\n",
    "A Tensorflow dataset is a python class, which provide an easy way iterate a dataset. Each iteration, the dataset returns a batch of `x = [Bx32x32x3]` images and `y = [Bx12]` class labels, where B is the batch size.\n",
    "\n",
    "There are different approaches to encode the class label. For further information you can read this blog entry [integer- or one-hot-encoding](https://machinelearningmastery.com/why-one-hot-encode-data-in-machine-learning/).\n",
    "In this exercise the labels are encoded in one-hot format. Which means, that each label is a vector of 12 entries, where only the entry of the class has the value $1$ and all others values are $0$."
   ]
  },
  {
   "cell_type": "code",
   "execution_count": 3,
   "metadata": {
    "pycharm": {
     "name": "#%%\n"
    }
   },
   "outputs": [
    {
     "name": "stdout",
     "output_type": "stream",
     "text": [
      "image shape: (32, 32, 32, 3)\n",
      "label shape: (32, 12)\n"
     ]
    }
   ],
   "source": [
    "x_batch, y_batch = next(iter(train_ds))\n",
    "\n",
    "# @student print the image and label shape of a batch\n",
    "print(f\"image shape: {x_batch.shape}\")\n",
    "print(f\"label shape: {y_batch.shape}\")"
   ]
  },
  {
   "cell_type": "code",
   "execution_count": 4,
   "metadata": {
    "pycharm": {
     "name": "#%%\n"
    }
   },
   "outputs": [
    {
     "name": "stdout",
     "output_type": "stream",
     "text": [
      "label: [0. 0. 1. 0. 0. 0. 0. 0. 0. 0. 0. 0.]\n"
     ]
    },
    {
     "data": {
      "text/plain": "<Figure size 432x288 with 1 Axes>",
      "image/png": "[encoded data removed]"
     },
     "metadata": {
      "needs_background": "light"
     },
     "output_type": "display_data"
    }
   ],
   "source": [
    "# @student show one image of the batch and its label\n",
    "print(f\"label: {y_batch[1]}\")\n",
    "plt.imshow(x_batch[1])\n",
    "plt.show()"
   ]
  },
  {
   "cell_type": "markdown",
   "metadata": {
    "pycharm": {
     "name": "#%% md\n"
    }
   },
   "source": [
    "##### Execution\n",
    "\n",
    "In order to compare models against each other metrics are calculated on an unseen test dataset. In this exercise you should try to develop your own model and upload the `final_model` directory to ilias.\n",
    "All submitted models are compared to each other using the accuracy metric.\n",
    "\n",
    "**The student that submits the best model will be given the chance to be in the passenger seat while our autonomous car drives around the adenauer ring**."
   ]
  },
  {
   "cell_type": "code",
   "execution_count": 5,
   "metadata": {
    "pycharm": {
     "name": "#%%\n"
    }
   },
   "outputs": [],
   "source": [
    "def create_model(image_shape):\n",
    "    input = tf.keras.layers.Input(shape=image_shape)\n",
    "    # @student implement your neural network\n",
    "\n",
    "    # Augementation Layers\n",
    "    x = tf.keras.layers.RandomBrightness(factor=(-0.5, 0.5), value_range=(0, 1))(input)\n",
    "\n",
    "    # Model Layers\n",
    "    x = tf.keras.layers.Conv2D(filters=32, kernel_size=(3, 3), activation=\"relu\")(x)\n",
    "    x = tf.keras.layers.Dropout(0.2)(x)\n",
    "    x = tf.keras.layers.AveragePooling2D()(x)\n",
    "    x = tf.keras.layers.Conv2D(filters=64, kernel_size=(3, 3), activation=\"relu\")(x)\n",
    "    x = tf.keras.layers.Dropout(0.2)(x)\n",
    "    x = tf.keras.layers.AveragePooling2D()(x)\n",
    "    x = tf.keras.layers.Flatten()(x)\n",
    "    x = tf.keras.layers.Dense(units=120, activation='relu')(x)\n",
    "    x = tf.keras.layers.Dropout(0.2)(x)\n",
    "    x = tf.keras.layers.Dense(units=84, activation='relu')(x)\n",
    "    x = tf.keras.layers.Dropout(0.2)(x)\n",
    "    x = tf.keras.layers.Dense(units=NUM_CLASSES, activation=\"linear\")(x)\n",
    "\n",
    "    return tf.keras.Model(inputs=input, outputs=x)"
   ]
  },
  {
   "cell_type": "markdown",
   "metadata": {
    "pycharm": {
     "name": "#%% md\n"
    }
   },
   "source": [
    "In the `create_model` function you can define your own neural network using the [functional tensorflow API](https://www.tensorflow.org/guide/keras/functional).\n",
    "You can also use other tensorflow APIs like the [SequentialModel](https://www.tensorflow.org/guide/keras/sequential_model). However, when transitioning to complex architectures the functional API provides the more flexibility.\n",
    "\n",
    "\n",
    "You are free to use any layer and activation provided by tensorflow for example:\n",
    "[tf.keras.layers.Conv2D](https://www.tensorflow.org/api_docs/python/tf/keras/layers/Conv2D)\n",
    "[tf.keras.layers.Dropout](https://www.tensorflow.org/api_docs/python/tf/keras/layers/Dropout)\n",
    "[tf.keras.layers.AveragePooling2D](https://www.tensorflow.org/api_docs/python/tf/keras/layers/AveragePooling2D)\n",
    "[tf.keras.layers.Flatten](https://www.tensorflow.org/api_docs/python/tf/keras/layers/Flatten)\n",
    "[tf.keras.layers.Dense](https://www.tensorflow.org/api_docs/python/tf/keras/layers/Dense)\n",
    "[tf.keras.activations.relu](https://www.tensorflow.org/api_docs/python/tf/keras/activations/relu)\n",
    "\n",
    "For inspiration you can take a look at these ground-breaking publications:\n",
    "[LeNet](http://yann.lecun.com/exdb/publis/pdf/lecun-01a.pdf)\n",
    "[AlexNet](https://papers.nips.cc/paper/2012/file/c399862d3b9d6b76c8436e924a68c45b-Paper.pdf)\n",
    "[GoogLeNet](https://arxiv.org/pdf/1409.4842.pdf)\n",
    "[ResNet](https://arxiv.org/pdf/1512.03385.pdf)\n",
    "\n",
    "Additionally, you can also add data augmentation to the training data in order to improve the generalization of your model."
   ]
  },
  {
   "cell_type": "code",
   "execution_count": 6,
   "metadata": {
    "pycharm": {
     "name": "#%%\n"
    }
   },
   "outputs": [
    {
     "name": "stdout",
     "output_type": "stream",
     "text": [
      "Model: \"model\"\n",
      "_________________________________________________________________\n",
      " Layer (type)                Output Shape              Param #   \n",
      "=================================================================\n",
      " input_1 (InputLayer)        [(None, 32, 32, 3)]       0         \n",
      "                                                                 \n",
      " random_brightness (RandomBr  (None, 32, 32, 3)        0         \n",
      " ightness)                                                       \n",
      "                                                                 \n",
      " conv2d (Conv2D)             (None, 30, 30, 32)        896       \n",
      "                                                                 \n",
      " dropout (Dropout)           (None, 30, 30, 32)        0         \n",
      "                                                                 \n",
      " average_pooling2d (AverageP  (None, 15, 15, 32)       0         \n",
      " ooling2D)                                                       \n",
      "                                                                 \n",
      " conv2d_1 (Conv2D)           (None, 13, 13, 64)        18496     \n",
      "                                                                 \n",
      " dropout_1 (Dropout)         (None, 13, 13, 64)        0         \n",
      "                                                                 \n",
      " average_pooling2d_1 (Averag  (None, 6, 6, 64)         0         \n",
      " ePooling2D)                                                     \n",
      "                                                                 \n",
      " flatten (Flatten)           (None, 2304)              0         \n",
      "                                                                 \n",
      " dense (Dense)               (None, 120)               276600    \n",
      "                                                                 \n",
      " dropout_2 (Dropout)         (None, 120)               0         \n",
      "                                                                 \n",
      " dense_1 (Dense)             (None, 84)                10164     \n",
      "                                                                 \n",
      " dropout_3 (Dropout)         (None, 84)                0         \n",
      "                                                                 \n",
      " dense_2 (Dense)             (None, 12)                1020      \n",
      "                                                                 \n",
      "=================================================================\n",
      "Total params: 307,176\n",
      "Trainable params: 307,176\n",
      "Non-trainable params: 0\n",
      "_________________________________________________________________\n"
     ]
    }
   ],
   "source": [
    "model = create_model(image_shape=(32,32,3))\n",
    "model.summary()"
   ]
  },
  {
   "cell_type": "code",
   "execution_count": 7,
   "metadata": {
    "pycharm": {
     "name": "#%%\n"
    }
   },
   "outputs": [
    {
     "name": "stdout",
     "output_type": "stream",
     "text": [
      "Epoch 1/25\n",
      "217/217 [==============================] - ETA: 0s - loss: 1.4010 - accuracy: 0.5462"
     ]
    },
    {
     "name": "stderr",
     "output_type": "stream",
     "text": [
      "WARNING:absl:Found untraced functions such as _jit_compiled_convolution_op, _jit_compiled_convolution_op while saving (showing 2 of 2). These functions will not be directly callable after loading.\n"
     ]
    },
    {
     "name": "stdout",
     "output_type": "stream",
     "text": [
      "217/217 [==============================] - 5s 20ms/step - loss: 1.4010 - accuracy: 0.5462 - val_loss: 2.5948 - val_accuracy: 0.2333\n",
      "Epoch 2/25\n",
      "216/217 [============================>.] - ETA: 0s - loss: 0.8625 - accuracy: 0.7258"
     ]
    },
    {
     "name": "stderr",
     "output_type": "stream",
     "text": [
      "WARNING:absl:Found untraced functions such as _jit_compiled_convolution_op, _jit_compiled_convolution_op while saving (showing 2 of 2). These functions will not be directly callable after loading.\n"
     ]
    },
    {
     "name": "stdout",
     "output_type": "stream",
     "text": [
      "217/217 [==============================] - 9s 41ms/step - loss: 0.8613 - accuracy: 0.7260 - val_loss: 1.4670 - val_accuracy: 0.5750\n",
      "Epoch 3/25\n",
      "216/217 [============================>.] - ETA: 0s - loss: 0.5030 - accuracy: 0.8410"
     ]
    },
    {
     "name": "stderr",
     "output_type": "stream",
     "text": [
      "WARNING:absl:Found untraced functions such as _jit_compiled_convolution_op, _jit_compiled_convolution_op while saving (showing 2 of 2). These functions will not be directly callable after loading.\n"
     ]
    },
    {
     "name": "stdout",
     "output_type": "stream",
     "text": [
      "217/217 [==============================] - 8s 37ms/step - loss: 0.5032 - accuracy: 0.8411 - val_loss: 1.1006 - val_accuracy: 0.6000\n",
      "Epoch 4/25\n",
      "216/217 [============================>.] - ETA: 0s - loss: 0.4365 - accuracy: 0.8562"
     ]
    },
    {
     "name": "stderr",
     "output_type": "stream",
     "text": [
      "WARNING:absl:Found untraced functions such as _jit_compiled_convolution_op, _jit_compiled_convolution_op while saving (showing 2 of 2). These functions will not be directly callable after loading.\n"
     ]
    },
    {
     "name": "stdout",
     "output_type": "stream",
     "text": [
      "217/217 [==============================] - 7s 34ms/step - loss: 0.4365 - accuracy: 0.8562 - val_loss: 1.6335 - val_accuracy: 0.6250\n",
      "Epoch 5/25\n",
      "215/217 [============================>.] - ETA: 0s - loss: 0.4185 - accuracy: 0.8657"
     ]
    },
    {
     "name": "stderr",
     "output_type": "stream",
     "text": [
      "WARNING:absl:Found untraced functions such as _jit_compiled_convolution_op, _jit_compiled_convolution_op while saving (showing 2 of 2). These functions will not be directly callable after loading.\n"
     ]
    },
    {
     "name": "stdout",
     "output_type": "stream",
     "text": [
      "217/217 [==============================] - 7s 34ms/step - loss: 0.4166 - accuracy: 0.8663 - val_loss: 0.8032 - val_accuracy: 0.7500\n",
      "Epoch 6/25\n",
      "217/217 [==============================] - ETA: 0s - loss: 0.3499 - accuracy: 0.8860"
     ]
    },
    {
     "name": "stderr",
     "output_type": "stream",
     "text": [
      "WARNING:absl:Found untraced functions such as _jit_compiled_convolution_op, _jit_compiled_convolution_op while saving (showing 2 of 2). These functions will not be directly callable after loading.\n"
     ]
    },
    {
     "name": "stdout",
     "output_type": "stream",
     "text": [
      "217/217 [==============================] - 8s 36ms/step - loss: 0.3499 - accuracy: 0.8860 - val_loss: 0.8461 - val_accuracy: 0.7667\n",
      "Epoch 7/25\n",
      "217/217 [==============================] - ETA: 0s - loss: 0.2753 - accuracy: 0.9095"
     ]
    },
    {
     "name": "stderr",
     "output_type": "stream",
     "text": [
      "WARNING:absl:Found untraced functions such as _jit_compiled_convolution_op, _jit_compiled_convolution_op while saving (showing 2 of 2). These functions will not be directly callable after loading.\n"
     ]
    },
    {
     "name": "stdout",
     "output_type": "stream",
     "text": [
      "217/217 [==============================] - 8s 35ms/step - loss: 0.2753 - accuracy: 0.9095 - val_loss: 0.6758 - val_accuracy: 0.8500\n",
      "Epoch 8/25\n",
      "217/217 [==============================] - 5s 25ms/step - loss: 0.2473 - accuracy: 0.9187 - val_loss: 0.6786 - val_accuracy: 0.8167\n",
      "Epoch 9/25\n",
      "215/217 [============================>.] - ETA: 0s - loss: 0.2251 - accuracy: 0.9289"
     ]
    },
    {
     "name": "stderr",
     "output_type": "stream",
     "text": [
      "WARNING:absl:Found untraced functions such as _jit_compiled_convolution_op, _jit_compiled_convolution_op while saving (showing 2 of 2). These functions will not be directly callable after loading.\n"
     ]
    },
    {
     "name": "stdout",
     "output_type": "stream",
     "text": [
      "217/217 [==============================] - 8s 35ms/step - loss: 0.2249 - accuracy: 0.9288 - val_loss: 0.5001 - val_accuracy: 0.9000\n",
      "Epoch 10/25\n",
      "217/217 [==============================] - 5s 24ms/step - loss: 0.2082 - accuracy: 0.9346 - val_loss: 0.4496 - val_accuracy: 0.8583\n",
      "Epoch 11/25\n",
      "217/217 [==============================] - 6s 27ms/step - loss: 0.1937 - accuracy: 0.9398 - val_loss: 0.8537 - val_accuracy: 0.8500\n",
      "Epoch 12/25\n",
      "217/217 [==============================] - 6s 26ms/step - loss: 0.2146 - accuracy: 0.9342 - val_loss: 0.4428 - val_accuracy: 0.8667\n",
      "Epoch 13/25\n",
      "217/217 [==============================] - 6s 26ms/step - loss: 0.2011 - accuracy: 0.9363 - val_loss: 1.0292 - val_accuracy: 0.8083\n",
      "Epoch 14/25\n",
      "217/217 [==============================] - ETA: 0s - loss: 0.1887 - accuracy: 0.9410"
     ]
    },
    {
     "name": "stderr",
     "output_type": "stream",
     "text": [
      "WARNING:absl:Found untraced functions such as _jit_compiled_convolution_op, _jit_compiled_convolution_op while saving (showing 2 of 2). These functions will not be directly callable after loading.\n"
     ]
    },
    {
     "name": "stdout",
     "output_type": "stream",
     "text": [
      "217/217 [==============================] - 8s 35ms/step - loss: 0.1887 - accuracy: 0.9410 - val_loss: 0.2278 - val_accuracy: 0.9417\n",
      "Epoch 15/25\n",
      "217/217 [==============================] - 5s 24ms/step - loss: 0.1689 - accuracy: 0.9460 - val_loss: 0.4905 - val_accuracy: 0.8750\n",
      "Epoch 16/25\n",
      "217/217 [==============================] - 6s 28ms/step - loss: 0.1632 - accuracy: 0.9488 - val_loss: 0.2932 - val_accuracy: 0.9333\n",
      "Epoch 17/25\n",
      "217/217 [==============================] - 6s 25ms/step - loss: 0.1590 - accuracy: 0.9503 - val_loss: 0.5758 - val_accuracy: 0.9083\n",
      "Epoch 18/25\n",
      "217/217 [==============================] - 5s 25ms/step - loss: 0.1557 - accuracy: 0.9512 - val_loss: 0.1910 - val_accuracy: 0.9417\n",
      "Epoch 19/25\n",
      "217/217 [==============================] - 5s 25ms/step - loss: 0.1520 - accuracy: 0.9524 - val_loss: 0.4585 - val_accuracy: 0.9083\n",
      "Epoch 20/25\n",
      "217/217 [==============================] - 5s 25ms/step - loss: 0.1739 - accuracy: 0.9440 - val_loss: 0.4996 - val_accuracy: 0.9167\n",
      "Epoch 21/25\n",
      "217/217 [==============================] - 5s 25ms/step - loss: 0.1490 - accuracy: 0.9495 - val_loss: 0.2472 - val_accuracy: 0.9417\n",
      "Epoch 22/25\n",
      "217/217 [==============================] - 5s 24ms/step - loss: 0.1508 - accuracy: 0.9508 - val_loss: 0.4806 - val_accuracy: 0.9000\n",
      "Epoch 23/25\n",
      "217/217 [==============================] - 5s 25ms/step - loss: 0.1557 - accuracy: 0.9521 - val_loss: 0.3244 - val_accuracy: 0.9083\n",
      "Epoch 24/25\n",
      "217/217 [==============================] - 5s 25ms/step - loss: 0.1478 - accuracy: 0.9553 - val_loss: 0.2610 - val_accuracy: 0.9083\n",
      "Epoch 25/25\n",
      "217/217 [==============================] - 6s 27ms/step - loss: 0.1335 - accuracy: 0.9573 - val_loss: 0.2476 - val_accuracy: 0.9333\n"
     ]
    },
    {
     "data": {
      "text/plain": "<keras.callbacks.History at 0x7ff9d5dbdd20>"
     },
     "execution_count": 7,
     "metadata": {},
     "output_type": "execute_result"
    }
   ],
   "source": [
    "optimizer = tf.keras.optimizers.Adam(learning_rate=2e-3)\n",
    "loss_fn = tf.keras.losses.CategoricalCrossentropy(from_logits=True)\n",
    "acc_metric = tf.keras.metrics.CategoricalAccuracy(name=\"accuracy\")\n",
    "model.compile(optimizer, loss=loss_fn, metrics=[acc_metric])\n",
    "model.fit(\n",
    "    train_ds,\n",
    "    epochs=25,\n",
    "    validation_data=val_ds,\n",
    "    callbacks=[\n",
    "        tf.keras.callbacks.ModelCheckpoint(filepath=\"final_model\", monitor='val_accuracy', mode='max', save_best_only=True)\n",
    "    ]\n",
    ")"
   ]
  },
  {
   "cell_type": "code",
   "execution_count": 8,
   "metadata": {
    "pycharm": {
     "name": "#%%\n"
    }
   },
   "outputs": [
    {
     "name": "stdout",
     "output_type": "stream",
     "text": [
      "4/4 [==============================] - 0s 4ms/step - loss: 0.2278 - accuracy: 0.9417\n"
     ]
    }
   ],
   "source": [
    "model = tf.keras.models.load_model(\"final_model/\")\n",
    "loss, acc = model.evaluate(val_ds)"
   ]
  },
  {
   "cell_type": "markdown",
   "metadata": {
    "pycharm": {
     "name": "#%% md\n"
    }
   },
   "source": [
    "#### From Logits to Labels\n",
    "\n",
    "Your network will output logits as long as you use `tf.keras.losses.CategoricalCrossentropy` as loss function.\n",
    "However, if you want to manually infer you have to calculate the predicted label based on the logits."
   ]
  },
  {
   "cell_type": "code",
   "execution_count": 9,
   "metadata": {
    "pycharm": {
     "name": "#%%\n"
    }
   },
   "outputs": [
    {
     "name": "stdout",
     "output_type": "stream",
     "text": [
      "4/4 [==============================] - 0s 4ms/step\n"
     ]
    },
    {
     "data": {
      "text/plain": "<Figure size 432x288 with 2 Axes>",
      "image/png": "[encoded data removed]"
     },
     "metadata": {
      "needs_background": "light"
     },
     "output_type": "display_data"
    }
   ],
   "source": [
    "pred_logit = model.predict(val_ds)\n",
    "y_labels = [labels for _, labels in val_ds.unbatch()]\n",
    "y_labels = tf.argmax(y_labels, axis=1)\n",
    "\n",
    "\n",
    "# @student: pred_logit are the predicted logits of your model, while y_labels are the ground truth labels.\n",
    "# calculate the labels from the logits\n",
    "pred_softmax = tf.math.softmax(pred_logit)\n",
    "pred_labels = tf.argmax(pred_softmax, -1)\n",
    "\n",
    "\n",
    "confusion_matrix = tf.math.confusion_matrix(y_labels, pred_labels, num_classes=NUM_CLASSES)\n",
    "disp = ConfusionMatrixDisplay(confusion_matrix=confusion_matrix.numpy())\n",
    "disp.plot()\n",
    "plt.show()"
   ]
  },
  {
   "cell_type": "code",
   "execution_count": 9,
   "metadata": {
    "pycharm": {
     "name": "#%%\n"
    }
   },
   "outputs": [],
   "source": []
  }
 ],
 "metadata": {
  "kernelspec": {
   "display_name": "Python 3 (ipykernel)",
   "language": "python",
   "name": "python3"
  },
  "language_info": {
   "codemirror_mode": {
    "name": "ipython",
    "version": 3
   },
   "file_extension": ".py",
   "mimetype": "text/x-python",
   "name": "python",
   "nbconvert_exporter": "python",
   "pygments_lexer": "ipython3",
   "version": "3.10.4"
  }
 },
 "nbformat": 4,
 "nbformat_minor": 1
}