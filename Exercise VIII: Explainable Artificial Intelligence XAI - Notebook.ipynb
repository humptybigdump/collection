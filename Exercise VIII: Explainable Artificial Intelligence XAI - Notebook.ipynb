{
 "cells": [
  {
   "cell_type": "markdown",
   "metadata": {},
   "source": [
    "**Data Science and AI for Energy Systems** \n",
    "\n",
    "Karlsruhe Institute of Technology\n",
    "\n",
    "Institute of Automation and Applied Informatics\n",
    "\n",
    "Summer Term 2024\n",
    "\n",
    "---"
   ]
  },
  {
   "cell_type": "markdown",
   "metadata": {},
   "source": [
    "# Exercise VIII Explainable Artificial Intelligence XAI"
   ]
  },
  {
   "cell_type": "markdown",
   "metadata": {},
   "source": [
    "**Imports**"
   ]
  },
  {
   "cell_type": "code",
   "execution_count": 1,
   "metadata": {},
   "outputs": [],
   "source": [
    "# Imports\n",
    "#!pip install shap  #if shap is not installed\n",
    "import pandas as pd\n",
    "import numpy as np\n",
    "import scipy as sc\n",
    "import matplotlib.pyplot as plt\n",
    "import matplotlib.dates as mdates\n",
    "import seaborn as sns\n",
    "import os\n",
    "import shap\n",
    "from sklearn.linear_model import LinearRegression"
   ]
  },
  {
   "cell_type": "markdown",
   "metadata": {},
   "source": [
    "***\n",
    "**(a) Create a plot for feature ranking and a partial dependency plot.**\n",
    "\n",
    "\n",
    "First we have to load the dataset on which we have to train the model. You can download the dataset from https://bwsyncandshare.kit.edu/s/QPySS7eZCWjSjYP?path=%2FExercise-8 . This dataset contains 9 features and Load_type is the target feature. The details of the dataset is available here https://archive.ics.uci.edu/dataset/851/steel+industry+energy+consumption."
   ]
  },
  {
   "cell_type": "code",
   "execution_count": null,
   "metadata": {},
   "outputs": [],
   "source": [
    "#Mention the path of the file as per your file system\n",
    "df = pd.read_csv('data/Steel_industry_data.csv',  parse_dates=True) "
   ]
  },
  {
   "cell_type": "markdown",
   "metadata": {},
   "source": [
    "Remove the features \"CO2(tCO2), Lagging_Current_Power_Factor, Leading_Current_Power_Factor, NSM,date, Load_Type\" from the dataset and store the target feature \"Load_type\" in a separate field. Train the LinearRegression model on this dataset. \n",
    "(Note: Some features are categorical in nature, so we need to do pre-processing)"
   ]
  },
  {
   "cell_type": "code",
   "execution_count": null,
   "metadata": {},
   "outputs": [],
   "source": [
    "#pre-processing the dataset.......\n",
    "X=df.drop(columns=['date, Load_Type'])\n",
    "y=df['Load_Type']\n"
   ]
  },
  {
   "cell_type": "code",
   "execution_count": null,
   "metadata": {},
   "outputs": [],
   "source": [
    "#train LinearRegression......\n",
    "model=lr.fit(X,y)"
   ]
  },
  {
   "cell_type": "markdown",
   "metadata": {},
   "source": [
    "Create a shap explainer"
   ]
  },
  {
   "cell_type": "code",
   "execution_count": null,
   "metadata": {},
   "outputs": [],
   "source": []
  },
  {
   "cell_type": "markdown",
   "metadata": {},
   "source": [
    "Plot the graphs as mentioned in the main question"
   ]
  },
  {
   "cell_type": "code",
   "execution_count": null,
   "metadata": {},
   "outputs": [],
   "source": []
  },
  {
   "cell_type": "markdown",
   "metadata": {},
   "source": [
    "***\n",
    "**(b). Test two properties of Shapley values:**\n",
    "\n",
    "• Null/dummy\n",
    "\n",
    "• Efficiency\n"
   ]
  },
  {
   "cell_type": "code",
   "execution_count": null,
   "metadata": {},
   "outputs": [],
   "source": []
  },
  {
   "cell_type": "markdown",
   "metadata": {},
   "source": [
    "***\n",
    "**(c). Use more of the data provided by adding additional features to the model (previously removed features) and create new feature rankings and partial dependency plots.**\n",
    "\n",
    "• What has changed?\n",
    "\n",
    "• If we wanted to keep the number of features small, which features do we use in a\n",
    "reduced model? in a reduced model?"
   ]
  },
  {
   "cell_type": "code",
   "execution_count": null,
   "metadata": {},
   "outputs": [],
   "source": []
  }
 ],
 "metadata": {
  "kernelspec": {
   "display_name": "Python 3",
   "language": "python",
   "name": "python3"
  },
  "language_info": {
   "codemirror_mode": {
    "name": "ipython",
    "version": 3
   },
   "file_extension": ".py",
   "mimetype": "text/x-python",
   "name": "python",
   "nbconvert_exporter": "python",
   "pygments_lexer": "ipython3",
   "version": "3.10.11"
  }
 },
 "nbformat": 4,
 "nbformat_minor": 2
}
