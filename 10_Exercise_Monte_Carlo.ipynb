{
 "cells": [
  {
   "attachments": {},
   "cell_type": "markdown",
   "metadata": {},
   "source": [
    "# Geospatial Data Analysis I \n",
    "\n",
    "## Monte Carlo Methods - Exercise"
   ]
  },
  {
   "cell_type": "markdown",
   "metadata": {},
   "source": [
    "In this exercise we want to quantify the uncertainty in the analytical calculation of biological degradation of o-xylene in a contaminated aquifer. The analytical model is given in eq. 6 in Würth et al. (2021): \n",
    "\n",
    "<a href=\"https://www.codecogs.com/eqnedit.php?latex=\\lambda&space;=&space;\\frac{\\Delta&space;\\delta&space;^{13}C&space;\\cdot&space;k_{f}&space;\\cdot&space;i}{\\epsilon&space;\\cdot&space;s&space;\\cdot&space;n_{e}}\" target=\"_blank\"><img src=\"https://latex.codecogs.com/gif.latex?\\lambda&space;=&space;\\frac{\\Delta&space;\\delta&space;^{13}C&space;\\cdot&space;k_{f}&space;\\cdot&space;i}{\\epsilon&space;\\cdot&space;s&space;\\cdot&space;n_{e}}\" title=\"\\lambda = \\frac{\\Delta \\delta ^{13}C \\cdot k_{f} \\cdot i}{\\epsilon \\cdot s \\cdot n_{e}}\" /></a>\n",
    "\n",
    "with \n",
    "\n",
    "<a href=\"https://www.codecogs.com/eqnedit.php?latex=k_{f}&space;=&space;\\frac{s&space;\\cdot&space;n_{e}}{t&space;\\cdot&space;i}\" target=\"_blank\"><img src=\"https://latex.codecogs.com/gif.latex?k_{f}&space;=&space;\\frac{s&space;\\cdot&space;n_{e}}{t&space;\\cdot&space;i}\" title=\"k_{f} = \\frac{s \\cdot n_{e}}{t \\cdot i}\" /></a>\n",
    "\n",
    "- First, generate random values for the uncertain input parameters for the equation above. You can find the required information in Table 1 and 3 in the paper (literature folder on ILIAS). Take the values for the well pair G10m - G30u. *N* stands for Normal, *U* for Uniform, and *W* for Weibull distribution. As a Weibull distribution is not easily available in Python, use *U* (0.0013, 0.0016) for the hydraulic gradient. Also note, that some distributions are truncated (see exercise inferential statistics). \n",
    "\n",
    "- Then, calculate the hydraulic conductivity and biological degradation rate based on the generated in input values, and visualise the resulting distributions. \n"
   ]
  },
  {
   "cell_type": "code",
   "execution_count": null,
   "metadata": {},
   "outputs": [],
   "source": [
    "# Monte-Carlo Simulation for quantifiying degradation of o-xylene\n",
    "\n",
    "# importing the required Python packages\n",
    "\n",
    "\n",
    "# setting the number of MC simulations / iterations \n",
    "\n",
    "\n",
    "# generating random values for the input parameters\n",
    "# in accordance to the probabality density functions given in the paper\n",
    "\n",
    "# isotope shift delta 13C [o/oo], truncated to (3.8, 4.8)\n",
    "\n",
    "\n",
    "# isotope enrichment factor epsilon [-]\n",
    "\n",
    "\n",
    "# distance [m]\n",
    "\n",
    "\n",
    "# effective porosity [-], trunctaed to (0.12, 0.30)\n",
    "\n",
    "\n",
    "# time, truncated to (3e8, 3.3e8)\n",
    "\n",
    "\n",
    "# hydraulic gradient [-]\n",
    "\n",
    "\n",
    "# analytical modelling \n",
    "\n",
    "\n",
    "# printing mean values for hydraulic conductivity and degradation rate\n",
    "\n",
    "\n",
    "# visualising the generated output values for hydraulic conductivity and degradation rate\n",
    "# in two seperate histogram plots \n",
    "\n",
    "\n"
   ]
  },
  {
   "cell_type": "markdown",
   "metadata": {},
   "source": [
    "- Compare your results with the ones in figure 3 in the paper. Are they consistent?\n",
    "\n",
    "## END\n",
    "\n",
    "### References: \n",
    "\n",
    "Würth et al. (2021): Quantifying biodegradation rate constants of o-xylene by combining compound-specific isotope analysis and groundwater dating. Journal of Contaminant Hydrology, 238, 103757"
   ]
  }
 ],
 "metadata": {
  "kernelspec": {
   "display_name": "GDA1",
   "language": "python",
   "name": "python3"
  },
  "language_info": {
   "codemirror_mode": {
    "name": "ipython",
    "version": 3
   },
   "file_extension": ".py",
   "mimetype": "text/x-python",
   "name": "python",
   "nbconvert_exporter": "python",
   "pygments_lexer": "ipython3",
   "version": "3.11.5"
  }
 },
 "nbformat": 4,
 "nbformat_minor": 4
}
