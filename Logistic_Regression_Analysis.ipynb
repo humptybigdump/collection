{
 "cells": [
  {
   "cell_type": "code",
   "execution_count": 8,
   "id": "91b8276f-86a6-4036-b73d-cf55165f9ebb",
   "metadata": {
    "jupyter": {
     "source_hidden": true
    }
   },
   "outputs": [],
   "source": [
    "import warnings\n",
    "warnings.filterwarnings('ignore')"
   ]
  },
  {
   "cell_type": "markdown",
   "id": "4c593e14",
   "metadata": {},
   "source": [
    "# Logistic Regression Analysis with Python"
   ]
  },
  {
   "cell_type": "markdown",
   "id": "caf91677",
   "metadata": {},
   "source": [
    "## **1. Introduction to Logistic Regression**\n",
    "Logistic regression is a statistical method for modeling the relationship between a binary dependent variable and one or more independent variables. It predicts the probability that a given observation falls into one of two categories.\n",
    "\n",
    "The logistic function (sigmoid function) maps predicted values to a range between 0 and 1:"
   ]
  },
  {
   "cell_type": "code",
   "execution_count": 4,
   "id": "6be69169-755e-4615-943a-1c5590d448ac",
   "metadata": {
    "jupyter": {
     "source_hidden": true
    }
   },
   "outputs": [
    {
     "data": {
      "text/latex": [
       "$\\displaystyle \\sigma(z) = \\frac{1}{1 + e^{-z}}$"
      ],
      "text/plain": [
       "<IPython.core.display.Math object>"
      ]
     },
     "metadata": {},
     "output_type": "display_data"
    },
    {
     "data": {
      "text/latex": [
       "$\\displaystyle \\text{where: } z = \\beta_0 + \\beta_1x_1 + \\beta_2x_2 + \\dots + \\beta_nx_n.$"
      ],
      "text/plain": [
       "<IPython.core.display.Math object>"
      ]
     },
     "metadata": {},
     "output_type": "display_data"
    }
   ],
   "source": [
    "from IPython.display import display, Math\n",
    "\n",
    "display(Math(r\"\\sigma(z) = \\frac{1}{1 + e^{-z}}\"))\n",
    "\n",
    "display(Math(r\"\\text{where: } z = \\beta_0 + \\beta_1x_1 + \\beta_2x_2 + \\dots + \\beta_nx_n.\"))\n"
   ]
  },
  {
   "cell_type": "markdown",
   "id": "7baab315",
   "metadata": {},
   "source": [
    "## **2. Exploratory Data Analysis (EDA)**\n",
    "- Overview of the dataset.\n",
    "- Checking for missing values.\n",
    "- Visualizing relationships between variables and the target.\n",
    "- Understanding class imbalance."
   ]
  },
  {
   "cell_type": "code",
   "execution_count": 5,
   "id": "be8143f7",
   "metadata": {},
   "outputs": [
    {
     "name": "stdout",
     "output_type": "stream",
     "text": [
      "mean radius                0\n",
      "mean texture               0\n",
      "mean perimeter             0\n",
      "mean area                  0\n",
      "mean smoothness            0\n",
      "mean compactness           0\n",
      "mean concavity             0\n",
      "mean concave points        0\n",
      "mean symmetry              0\n",
      "mean fractal dimension     0\n",
      "radius error               0\n",
      "texture error              0\n",
      "perimeter error            0\n",
      "area error                 0\n",
      "smoothness error           0\n",
      "compactness error          0\n",
      "concavity error            0\n",
      "concave points error       0\n",
      "symmetry error             0\n",
      "fractal dimension error    0\n",
      "worst radius               0\n",
      "worst texture              0\n",
      "worst perimeter            0\n",
      "worst area                 0\n",
      "worst smoothness           0\n",
      "worst compactness          0\n",
      "worst concavity            0\n",
      "worst concave points       0\n",
      "worst symmetry             0\n",
      "worst fractal dimension    0\n",
      "target                     0\n",
      "dtype: int64\n"
     ]
    }
   ],
   "source": [
    "# Example: Load data and check for missing values\n",
    "import pandas as pd\n",
    "import seaborn as sns\n",
    "import matplotlib.pyplot as plt\n",
    "\n",
    "# Example dataset\n",
    "from sklearn.datasets import load_breast_cancer\n",
    "data = load_breast_cancer()\n",
    "df = pd.DataFrame(data.data, columns=data.feature_names)\n",
    "df['target'] = data.target\n",
    "\n",
    "# Check for missing values\n",
    "print(df.isnull().sum())"
   ]
  },
  {
   "cell_type": "markdown",
   "id": "66c101d7",
   "metadata": {},
   "source": [
    "## **3. Logistic Regression Assumptions**\n",
    "- **Binary dependent variable**: The target variable must be binary.\n",
    "- **Independence**: Observations must be independent of each other.\n",
    "- **Linearity in log-odds**: Independent variables should have a linear relationship with the log-odds of the dependent variable.\n",
    "- **No multicollinearity**: Independent variables should not be highly correlated."
   ]
  },
  {
   "cell_type": "markdown",
   "id": "581a6b57",
   "metadata": {},
   "source": [
    "## **4. Model Fitting**\n",
    "1. Splitting the dataset into training and testing sets.\n",
    "2. Fitting a logistic regression model using scikit-learn.\n",
    "3. Evaluating the model using metrics like accuracy, precision, recall, and ROC-AUC."
   ]
  },
  {
   "cell_type": "code",
   "execution_count": 9,
   "id": "888aed0b",
   "metadata": {},
   "outputs": [
    {
     "name": "stdout",
     "output_type": "stream",
     "text": [
      "              precision    recall  f1-score   support\n",
      "\n",
      "           0       0.97      0.91      0.94        43\n",
      "           1       0.95      0.99      0.97        71\n",
      "\n",
      "    accuracy                           0.96       114\n",
      "   macro avg       0.96      0.95      0.95       114\n",
      "weighted avg       0.96      0.96      0.96       114\n",
      "\n"
     ]
    }
   ],
   "source": [
    "# Example: Fitting a Logistic Regression Model\n",
    "from sklearn.model_selection import train_test_split\n",
    "from sklearn.linear_model import LogisticRegression\n",
    "from sklearn.metrics import classification_report, roc_auc_score\n",
    "\n",
    "# Split the data\n",
    "X = df.drop('target', axis=1)\n",
    "y = df['target']\n",
    "X_train, X_test, y_train, y_test = train_test_split(X, y, test_size=0.2, random_state=42)\n",
    "\n",
    "# Fit the model\n",
    "model = LogisticRegression(max_iter=1000)\n",
    "model.fit(X_train, y_train)\n",
    "\n",
    "# Make predictions\n",
    "y_pred = model.predict(X_test)\n",
    "print(classification_report(y_test, y_pred))"
   ]
  },
  {
   "cell_type": "markdown",
   "id": "82d95e54",
   "metadata": {},
   "source": [
    "## **5. Interpreting Results**\n",
    "- **Coefficients**: Indicate the log-odds change in the dependent variable for a one-unit change in the independent variable.\n",
    "- **Odds Ratio**: Exponentiating the coefficients provides the odds ratio.\n",
    "- **Model Performance**: Metrics like precision, recall, and ROC-AUC help assess the model's effectiveness."
   ]
  },
  {
   "cell_type": "markdown",
   "id": "f5ea87ae",
   "metadata": {},
   "source": [
    "## **6. Cross-Validation**\n",
    "- Perform k-fold cross-validation to assess model robustness.\n",
    "- Average the performance metrics across folds to get a reliable estimate."
   ]
  },
  {
   "cell_type": "code",
   "execution_count": 10,
   "id": "e4474ec1",
   "metadata": {},
   "outputs": [
    {
     "name": "stdout",
     "output_type": "stream",
     "text": [
      "Mean ROC-AUC: 0.99\n"
     ]
    }
   ],
   "source": [
    "# Example: Cross-validation\n",
    "from sklearn.model_selection import cross_val_score\n",
    "\n",
    "scores = cross_val_score(model, X, y, cv=5, scoring='roc_auc')\n",
    "print(f'Mean ROC-AUC: {scores.mean():.2f}')"
   ]
  },
  {
   "cell_type": "markdown",
   "id": "ee30ccea",
   "metadata": {},
   "source": [
    "## **7. Handling Class Imbalance**\n",
    "- Techniques like oversampling, undersampling, or using class weights can address imbalanced datasets.\n",
    "- Synthetic data generation (e.g., SMOTE) is another option."
   ]
  },
  {
   "cell_type": "markdown",
   "id": "935d8f8c",
   "metadata": {},
   "source": [
    "## **8. Visualizing Results**\n",
    "- Plotting the ROC curve to evaluate the model's discriminative power.\n",
    "- Confusion matrix for a detailed performance overview."
   ]
  },
  {
   "cell_type": "code",
   "execution_count": 11,
   "id": "14eeb61c",
   "metadata": {},
   "outputs": [
    {
     "data": {
      "image/png": "[encoded data removed]",
      "text/plain": [
       "<Figure size 640x480 with 1 Axes>"
      ]
     },
     "metadata": {},
     "output_type": "display_data"
    }
   ],
   "source": [
    "# Example: ROC Curve\n",
    "from sklearn.metrics import roc_curve, auc\n",
    "\n",
    "y_prob = model.predict_proba(X_test)[:, 1]\n",
    "fpr, tpr, thresholds = roc_curve(y_test, y_prob)\n",
    "roc_auc = auc(fpr, tpr)\n",
    "\n",
    "plt.figure()\n",
    "plt.plot(fpr, tpr, label=f'ROC Curve (area = {roc_auc:.2f})')\n",
    "plt.plot([0, 1], [0, 1], 'k--')\n",
    "plt.xlabel('False Positive Rate')\n",
    "plt.ylabel('True Positive Rate')\n",
    "plt.title('Receiver Operating Characteristic')\n",
    "plt.legend(loc='lower right')\n",
    "plt.show()"
   ]
  }
 ],
 "metadata": {
  "kernelspec": {
   "display_name": "Python 3 (ipykernel)",
   "language": "python",
   "name": "python3"
  },
  "language_info": {
   "codemirror_mode": {
    "name": "ipython",
    "version": 3
   },
   "file_extension": ".py",
   "mimetype": "text/x-python",
   "name": "python",
   "nbconvert_exporter": "python",
   "pygments_lexer": "ipython3",
   "version": "3.12.3"
  }
 },
 "nbformat": 4,
 "nbformat_minor": 5
}
