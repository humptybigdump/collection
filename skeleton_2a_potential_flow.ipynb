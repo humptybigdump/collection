{
 "cells": [
  {
   "cell_type": "markdown",
   "metadata": {},
   "source": [
    "# 2D potential equation"
   ]
  },
  {
   "cell_type": "code",
   "execution_count": null,
   "metadata": {},
   "outputs": [],
   "source": [
    "import numpy as np\n",
    "from numpy.linalg import solve\n",
    "import matplotlib.pyplot as plt\n",
    "from time import time\n",
    "\n",
    "# for sparse matrices\n",
    "from scipy.sparse import csc_matrix # for sparse matrix\n",
    "from scipy.sparse.linalg import spsolve # for sparse matrix\n",
    "\n",
    "from mesh_utils import rectangular_mesh # import everything from custom module mesh_utils\n",
    "\n",
    "%matplotlib notebook"
   ]
  },
  {
   "cell_type": "code",
   "execution_count": null,
   "metadata": {},
   "outputs": [],
   "source": [
    "#################\n",
    "# USER SETTINGS #\n",
    "#################\n",
    "\n",
    "nx = 100; lx = 50 # number of points and length of domain in x direction\n",
    "ny = 40; ly = 20 # number of points and length of domain in y direction\n",
    "\n",
    "u_out = 1 # velocity at outflow\n",
    "u_in = u_out # velocity at inflow\n",
    "\n",
    "ix_phi = nx - 2 # x-coordinate at which potential is provided\n",
    "iy_phi = 1 # y-coordinate at which potential is provided\n",
    "phi_default = 100 # arbitrary value of potential "
   ]
  },
  {
   "cell_type": "markdown",
   "metadata": {},
   "source": [
    "Since we already have a class `rectangular_mesh` taking care about the mesh generation, we can just exploit it; however, such class still does not contain information about where inflow and outflow sections are located.\n",
    "\n",
    "This is fine: such information is specific to this problem - it wouldn't make sense to include it into a class `rectangular_mesh` that is suit for a variety of different problems! However, what could be done is creating a _child class_ of `rectangular_mesh`, meaning a class that _inherits_ everything that is already contained in `rectangular_mesh` - but also adding new content. We will call the children class `potential_mesh`, and it will contain what we now need - meaning, a description of inflow and outflow; we will refer to `rectangular_mesh` as the _parent_ class. This is done by:"
   ]
  },
  {
   "cell_type": "code",
   "execution_count": null,
   "metadata": {},
   "outputs": [],
   "source": [
    "class potential_mesh(rectangular_mesh):\n",
    "    \n",
    "    #########################################################################\n",
    "    \n",
    "    def is_inout(self, ik, boundary):\n",
    "        \n",
    "        # inout = 'in' if you are on the inflow\n",
    "        # inout = 'out' if you are on the outflow\n",
    "        \n",
    "        # You are being passed the 1d index of the point and the string boundary;\n",
    "        # you can take advantage of both.\n",
    "        # You can also calculate the 2d indices if you want.\n",
    "        # YOU CAN USE ANYTHING THAT WAS DEFINED INSIDE CLASS rectangular_mesh!\n",
    "            \n",
    "        return inout"
   ]
  },
  {
   "cell_type": "markdown",
   "metadata": {},
   "source": [
    "Now, class `potential_mesh` contains everything that was in `rectangular mesh`, with the addition of functions `is_inflow` and `is_outflow`. We have now a complete description of geometry, so we can actually create an instance of the mesh:"
   ]
  },
  {
   "cell_type": "code",
   "execution_count": null,
   "metadata": {},
   "outputs": [],
   "source": [
    "m = potential_mesh(nx, lx, ny, ly)"
   ]
  },
  {
   "cell_type": "markdown",
   "metadata": {},
   "source": [
    "It is now time for the allocation of the coefficient matrix `A` and known term `b`:"
   ]
  },
  {
   "cell_type": "code",
   "execution_count": null,
   "metadata": {},
   "outputs": [],
   "source": [
    "# allocation\n",
    "A = np.zeros(#)\n",
    "b = np.zeros(#)\n",
    "\n",
    "for ik, _ in enumerate(#): # cycle over rows of A\n",
    "    \n",
    "    # Each row of A corresponds to a grid point P (in particular, \n",
    "    # the equation contained in a given row is evaluated at point P).\n",
    "    \n",
    "    # Any row of A should correspond to the discretised Laplace (or Poisson)\n",
    "    # equation, but there are exceptions:\n",
    "    # - if you are on the boundary, you have the non-penetration condition\n",
    "    #   (which is a homogeneous Neumann condition)\n",
    "    # - if the piece of boundary you are on is actually an inflow or outflow\n",
    "    #   section, you have Neumann conditions"
   ]
  },
  {
   "cell_type": "markdown",
   "metadata": {},
   "source": [
    "Since only Neumann conditions have been supplied, matrix A is currently singular. One has then to specify the value of the potential at an arbitrary point."
   ]
  },
  {
   "cell_type": "code",
   "execution_count": null,
   "metadata": {},
   "outputs": [],
   "source": [
    "# the settings contain variables ix_phi and iy_phi indicating the position at which\n",
    "# the value for the potential is provided. You should modify the corresponding row\n",
    "# of A so that it reads:\n",
    "#\n",
    "# phi[ix_phi,iy_phi] = phi_default\n",
    "\n",
    "# Of course, matrix phi doesn't really exist - but you have the 1D equivalent...\n",
    "# Also, phi_default is also specified in the user settings."
   ]
  },
  {
   "cell_type": "markdown",
   "metadata": {},
   "source": [
    "And now, let's solve the problem:"
   ]
  },
  {
   "cell_type": "code",
   "execution_count": null,
   "metadata": {},
   "outputs": [],
   "source": [
    "start = time()\n",
    "phi = solve(A,b) # for normal solution\n",
    "#A = csc_matrix(A) # converts A to a sparse matrix\n",
    "#phi = spsolve(A,b) # for sparse matrix solution\n",
    "end = time()\n",
    "print('Matrix inversion took', end-start, 'seconds to complete.')"
   ]
  },
  {
   "cell_type": "markdown",
   "metadata": {},
   "source": [
    "__Hint:__ try and switch the datatypes of matrices A and b from numpy.array to scipy.sparse.csc_matrix; then, use solver scipy.sparse.linalg.spsolve. This means, matrices are archived as sparse. How does the computing time change?"
   ]
  },
  {
   "cell_type": "markdown",
   "metadata": {},
   "source": [
    "## Postprocessing"
   ]
  },
  {
   "cell_type": "code",
   "execution_count": null,
   "metadata": {},
   "outputs": [],
   "source": [
    "# treatment for mesh before plotting\n",
    "phi = phi.reshape((m.nx, m.ny))\n",
    "phi = phi.transpose()"
   ]
  },
  {
   "cell_type": "code",
   "execution_count": null,
   "metadata": {},
   "outputs": [],
   "source": [
    "fig, ax = plt.subplots()\n",
    "ax.set_title('Velocity potential and isocontours')\n",
    "pos = ax.pcolormesh(m.x, m.y, phi, shading='gouraud')\n",
    "fig.colorbar(pos)\n",
    "ax.contour(m.x, m.y, phi, 30, colors='white', linewidths=.7)"
   ]
  },
  {
   "cell_type": "code",
   "execution_count": null,
   "metadata": {},
   "outputs": [],
   "source": [
    "print(phi.shape)\n",
    "# calculate gradient\n",
    "v,u = np.gradient(phi, m.dx, m.dy)"
   ]
  },
  {
   "cell_type": "code",
   "execution_count": null,
   "metadata": {},
   "outputs": [],
   "source": [
    "fig, ax = plt.subplots()\n",
    "ax.set_title('Streamlines')\n",
    "ax.streamplot(m.x, m.y, u, v, linewidth=np.sqrt(u**2 + v**2)*3) # start_points = np.array([[25, i] for i in np.linspace(0, m.ly, 30)])\n",
    "plt.xlim(0, m.lx)\n",
    "plt.ylim(0, m.ly)"
   ]
  },
  {
   "cell_type": "code",
   "execution_count": null,
   "metadata": {},
   "outputs": [],
   "source": [
    "fig, ax = plt.subplots()\n",
    "ax.set_title('Velocity field')\n",
    "ax.quiver(m.x, m.y, u, v)\n",
    "plt.xlim(0, m.lx)\n",
    "plt.ylim(0, m.ly)"
   ]
  },
  {
   "cell_type": "code",
   "execution_count": null,
   "metadata": {},
   "outputs": [],
   "source": []
  }
 ],
 "metadata": {
  "interpreter": {
   "hash": "30295c5bec572e859485b1ffa5e89b8b3e2022ef6e3e739c1ac40f143a557caf"
  },
  "kernelspec": {
   "display_name": "Python 3 (ipykernel)",
   "language": "python",
   "name": "python3"
  },
  "language_info": {
   "codemirror_mode": {
    "name": "ipython",
    "version": 3
   },
   "file_extension": ".py",
   "mimetype": "text/x-python",
   "name": "python",
   "nbconvert_exporter": "python",
   "pygments_lexer": "ipython3",
   "version": "3.8.0"
  }
 },
 "nbformat": 4,
 "nbformat_minor": 4
}
