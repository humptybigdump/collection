{
 "cells": [
  {
   "cell_type": "markdown",
   "id": "dbf221aa",
   "metadata": {},
   "source": [
    "<img src=\"KITlogo_1c_deutsch.eps\" width=\"200\" height=\"200\" align=\"right\"/>\n",
    "\n",
    "##### Lehrstuhl für Analytics and Statistics (IOR)\n",
    "##### Prof. Dr. Oliver Grothe\n",
    "##### SoSe 2024"
   ]
  },
  {
   "cell_type": "markdown",
   "id": "9092929a",
   "metadata": {},
   "source": [
    "# Analyse multivariater Daten\n",
    "## Übung 5"
   ]
  },
  {
   "cell_type": "code",
   "execution_count": 1,
   "id": "5c63e436",
   "metadata": {},
   "outputs": [
    {
     "data": {
      "text/html": [
       "<div>\n",
       "<style scoped>\n",
       "    .dataframe tbody tr th:only-of-type {\n",
       "        vertical-align: middle;\n",
       "    }\n",
       "\n",
       "    .dataframe tbody tr th {\n",
       "        vertical-align: top;\n",
       "    }\n",
       "\n",
       "    .dataframe thead th {\n",
       "        text-align: right;\n",
       "    }\n",
       "</style>\n",
       "<table border=\"1\" class=\"dataframe\">\n",
       "  <thead>\n",
       "    <tr style=\"text-align: right;\">\n",
       "      <th></th>\n",
       "      <th>0</th>\n",
       "      <th>1</th>\n",
       "    </tr>\n",
       "  </thead>\n",
       "  <tbody>\n",
       "    <tr>\n",
       "      <th>0</th>\n",
       "      <td>426.1</td>\n",
       "      <td>59.91</td>\n",
       "    </tr>\n",
       "    <tr>\n",
       "      <th>1</th>\n",
       "      <td>422.2</td>\n",
       "      <td>60.39</td>\n",
       "    </tr>\n",
       "    <tr>\n",
       "      <th>2</th>\n",
       "      <td>424.4</td>\n",
       "      <td>60.13</td>\n",
       "    </tr>\n",
       "    <tr>\n",
       "      <th>3</th>\n",
       "      <td>422.9</td>\n",
       "      <td>59.69</td>\n",
       "    </tr>\n",
       "    <tr>\n",
       "      <th>4</th>\n",
       "      <td>419.5</td>\n",
       "      <td>59.50</td>\n",
       "    </tr>\n",
       "  </tbody>\n",
       "</table>\n",
       "</div>"
      ],
      "text/plain": [
       "       0      1\n",
       "0  426.1  59.91\n",
       "1  422.2  60.39\n",
       "2  424.4  60.13\n",
       "3  422.9  59.69\n",
       "4  419.5  59.50"
      ]
     },
     "execution_count": 1,
     "metadata": {},
     "output_type": "execute_result"
    }
   ],
   "source": [
    "import pandas as pd\n",
    "import numpy as np\n",
    "from scipy.stats import chi2\n",
    "import matplotlib.pyplot as plt\n",
    "data=pd.read_csv('DAXSP500.csv', sep=';',header=None)\n",
    "data.head()"
   ]
  },
  {
   "cell_type": "markdown",
   "id": "7fb48212",
   "metadata": {},
   "source": [
    "Bilden Sie zunächst aus den absoluten Indexständen Renditedaten: Wenn Wi den Stand\n",
    "eines Index am Handelstag i bezeichnet, dann bilden Sie fur alle Handelstage in dem \n",
    "Datensatz (außer dem ersten) die Rendite:\n",
    "Ri = (Wi − Wi−1)/Wi−1\n",
    "\n",
    "Die Rendite gibt also die prozentuale Veränderung des Stands vom letzten Handelstag auf den aktuellen an. Nehmen Sie nur die Handelstage in dem Datensatz, Wi−1\n",
    "entspricht also immer dem Wert in der Zelle über dem Wert  Wi: Sie erhalten damit\n",
    "insgesamt zwei Spalten mit Tagesrenditen.\n"
   ]
  },
  {
   "cell_type": "code",
   "execution_count": 2,
   "id": "b194b170",
   "metadata": {},
   "outputs": [
    {
     "data": {
      "text/html": [
       "<div>\n",
       "<style scoped>\n",
       "    .dataframe tbody tr th:only-of-type {\n",
       "        vertical-align: middle;\n",
       "    }\n",
       "\n",
       "    .dataframe tbody tr th {\n",
       "        vertical-align: top;\n",
       "    }\n",
       "\n",
       "    .dataframe thead th {\n",
       "        text-align: right;\n",
       "    }\n",
       "</style>\n",
       "<table border=\"1\" class=\"dataframe\">\n",
       "  <thead>\n",
       "    <tr style=\"text-align: right;\">\n",
       "      <th></th>\n",
       "      <th>0</th>\n",
       "      <th>1</th>\n",
       "    </tr>\n",
       "  </thead>\n",
       "  <tbody>\n",
       "    <tr>\n",
       "      <th>0</th>\n",
       "      <td>NaN</td>\n",
       "      <td>NaN</td>\n",
       "    </tr>\n",
       "    <tr>\n",
       "      <th>1</th>\n",
       "      <td>426.1</td>\n",
       "      <td>59.91</td>\n",
       "    </tr>\n",
       "    <tr>\n",
       "      <th>2</th>\n",
       "      <td>422.2</td>\n",
       "      <td>60.39</td>\n",
       "    </tr>\n",
       "    <tr>\n",
       "      <th>3</th>\n",
       "      <td>424.4</td>\n",
       "      <td>60.13</td>\n",
       "    </tr>\n",
       "    <tr>\n",
       "      <th>4</th>\n",
       "      <td>422.9</td>\n",
       "      <td>59.69</td>\n",
       "    </tr>\n",
       "  </tbody>\n",
       "</table>\n",
       "</div>"
      ],
      "text/plain": [
       "       0      1\n",
       "0    NaN    NaN\n",
       "1  426.1  59.91\n",
       "2  422.2  60.39\n",
       "3  424.4  60.13\n",
       "4  422.9  59.69"
      ]
     },
     "execution_count": 2,
     "metadata": {},
     "output_type": "execute_result"
    }
   ],
   "source": [
    "data_versch=data.shift(1)\n",
    "data_versch.head()"
   ]
  },
  {
   "cell_type": "code",
   "execution_count": 5,
   "id": "972b8fe7",
   "metadata": {
    "scrolled": true
   },
   "outputs": [],
   "source": [
    "R_i=(data-data_versch)/data_versch\n",
    "\n"
   ]
  },
  {
   "cell_type": "markdown",
   "id": "a0195474",
   "metadata": {},
   "source": [
    "Teilen Sie (im Kopf) den Datensatz in einen ersten Teil vor 1995 und einen zweiten Teil\n",
    "ab 1995 (der 3. Januar 1995 entspricht der Zeile 8442 im Datensatz). Standardisieren\n",
    "Sie nun alle 4 Renditedatensätze (Dax vor und ab 1995 sowie SP500 vor und ab 1995),\n",
    "indem Sie sie um ihren geschätzten Erwartungswert zentrieren und durch ihre geschätzte\n",
    "Standardabweichung teilen."
   ]
  },
  {
   "cell_type": "code",
   "execution_count": 6,
   "id": "5956d4ce",
   "metadata": {},
   "outputs": [],
   "source": [
    "R_i_vor1995=R_i.loc[:8441,:]\n",
    "R_i_nach1995=R_i.loc[8442:,:]"
   ]
  },
  {
   "cell_type": "markdown",
   "id": "e3cfb0be",
   "metadata": {},
   "source": [
    "Berechne SD"
   ]
  },
  {
   "cell_type": "code",
   "execution_count": 9,
   "id": "840f19e2",
   "metadata": {},
   "outputs": [],
   "source": [
    "std_1=np.std(R_i_vor1995.loc[1:,:])\n",
    "std_2=np.std(R_i_nach1995.loc[1:,:])"
   ]
  },
  {
   "cell_type": "markdown",
   "id": "3eadfc7b",
   "metadata": {},
   "source": [
    "Standardisiere"
   ]
  },
  {
   "cell_type": "code",
   "execution_count": 10,
   "id": "d70a299f",
   "metadata": {},
   "outputs": [],
   "source": [
    "R_i_vor1995_std=(R_i_vor1995-np.mean(R_i_vor1995,axis=0))/(std_1)\n",
    "R_i_nach1995_std=(R_i_nach1995-np.mean(R_i_nach1995,axis=0))/(std_2)"
   ]
  },
  {
   "cell_type": "markdown",
   "id": "3fa003f5",
   "metadata": {},
   "source": [
    "Schätzen Sie die Kovarianzmatrizen zwischen DAX und SP500 fur die beiden Standardisierten 2-dimensionalen Zeitreihen vor 1995 und ab 1995. Warum sind diese Kovarianzmatrizen ein Schätzer fur die Korrelationsmatrizen zwischen DAX und SP500?"
   ]
  },
  {
   "cell_type": "code",
   "execution_count": 11,
   "id": "5acf3fe0",
   "metadata": {},
   "outputs": [
    {
     "name": "stdout",
     "output_type": "stream",
     "text": [
      "[[1.00011848 0.18911306]\n",
      " [0.18911306 1.00011848]]\n",
      "[[1.00028145 0.52967375]\n",
      " [0.52967375 1.00028145]]\n"
     ]
    }
   ],
   "source": [
    "s_1=np.cov(R_i_vor1995_std.loc[1:,:],rowvar=False)\n",
    "s_2=np.cov(R_i_nach1995_std.loc[1:,:],rowvar=False)\n",
    "print(s_1)\n",
    "print(s_2)"
   ]
  },
  {
   "cell_type": "markdown",
   "id": "f7c24ac5",
   "metadata": {},
   "source": [
    "--> Schätzer für Korrelationsmatrix von DAX und S&P500"
   ]
  },
  {
   "cell_type": "markdown",
   "id": "9f8756c5",
   "metadata": {},
   "source": [
    " Testen Sie auf Gleichheit der Kovarianzmatrizen.\n",
    " S.79 im Skript"
   ]
  },
  {
   "cell_type": "code",
   "execution_count": 13,
   "id": "fb49a4b6",
   "metadata": {},
   "outputs": [],
   "source": [
    "n_1=np.size(R_i_vor1995_std.loc[1:,:],axis=0)\n",
    "n_2=np.size(R_i_nach1995_std.loc[1:,:],axis=0)\n",
    "p=2\n",
    "c=1 - (2*p**2+3*p-1)/(6*(p+1)) * (1/(n_1-1) + 1/(n_2-1) - 1/(n_1+n_2-2))\n",
    "S = 1/(n_1+n_2-2) * ((n_1-1)*s_1+(n_2-1)*s_2)"
   ]
  },
  {
   "cell_type": "code",
   "execution_count": 14,
   "id": "4564e066",
   "metadata": {},
   "outputs": [
    {
     "data": {
      "text/plain": [
       "423.0942436240159"
      ]
     },
     "execution_count": 14,
     "metadata": {},
     "output_type": "execute_result"
    }
   ],
   "source": [
    "X_2=c * ((n_1+n_2-2)*np.log(np.linalg.det(S)) - (n_1-1)*np.log(np.linalg.det(s_1)) - (n_2-1)*np.log(np.linalg.det(s_2)))\n",
    "X_2"
   ]
  },
  {
   "cell_type": "markdown",
   "id": "33547ddc",
   "metadata": {},
   "source": [
    "Wert Teststatistik"
   ]
  },
  {
   "cell_type": "code",
   "execution_count": 15,
   "id": "27296440",
   "metadata": {},
   "outputs": [
    {
     "data": {
      "text/plain": [
       "7.814727903251179"
      ]
     },
     "execution_count": 15,
     "metadata": {},
     "output_type": "execute_result"
    }
   ],
   "source": [
    "X_2_test=chi2.ppf(1-0.05,p*(p+1)/2) \n",
    "X_2_test"
   ]
  },
  {
   "cell_type": "code",
   "execution_count": 16,
   "id": "4789e23f",
   "metadata": {},
   "outputs": [
    {
     "name": "stdout",
     "output_type": "stream",
     "text": [
      "H0 wird abgelehnt!\n"
     ]
    }
   ],
   "source": [
    "if X_2>X_2_test:\n",
    "    print(\"H0 wird abgelehnt!\")"
   ]
  },
  {
   "cell_type": "code",
   "execution_count": null,
   "id": "d0be8793",
   "metadata": {},
   "outputs": [],
   "source": []
  }
 ],
 "metadata": {
  "kernelspec": {
   "display_name": "Python 3 (ipykernel)",
   "language": "python",
   "name": "python3"
  },
  "language_info": {
   "codemirror_mode": {
    "name": "ipython",
    "version": 3
   },
   "file_extension": ".py",
   "mimetype": "text/x-python",
   "name": "python",
   "nbconvert_exporter": "python",
   "pygments_lexer": "ipython3",
   "version": "3.11.7"
  }
 },
 "nbformat": 4,
 "nbformat_minor": 5
}
