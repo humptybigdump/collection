{
 "cells": [
  {
   "cell_type": "markdown",
   "metadata": {},
   "source": [
    "### Running shell commands from inside the notebook\n",
    "To forward a command to the underlying shell of the computer prefix it with '!'."
   ]
  },
  {
   "cell_type": "code",
   "execution_count": 1,
   "metadata": {},
   "outputs": [
    {
     "name": "stdout",
     "output_type": "stream",
     "text": [
      "Hello world\n"
     ]
    }
   ],
   "source": [
    "#Windows, Mac OS and Linux, Google Colab\n",
    "!echo Hello world"
   ]
  },
  {
   "cell_type": "markdown",
   "metadata": {},
   "source": [
    "In case that you are missing some packages, they can easily be installed in the virtual environment you created.  \n",
    "You just need to follow these steps:  \n",
    "1. make sure you sourced/activated your virtual environment\n",
    "    * Windows: `C:\\Users\\<USER>\\envs\\ml_env\\Scripts\\activate` (or `~/envs/ml_env/bin/Activate.ps1` if you use Powershell)\n",
    "    * Mac/Linux: `. ~/envs/ml_env/bin/activate`\n",
    "2. run your desired command e.g. `pip install <PACKAGE_NAME>`\n",
    "    \n",
    "Let's try to upgrade pip - the Python package manager."
   ]
  },
  {
   "cell_type": "code",
   "execution_count": 2,
   "metadata": {},
   "outputs": [
    {
     "name": "stdout",
     "output_type": "stream",
     "text": [
      "Requirement already satisfied: pip in c:\\users\\yf3851\\envs\\ml_env\\lib\\site-packages (22.0.4)\n"
     ]
    }
   ],
   "source": [
    "!pip install --upgrade pip"
   ]
  },
  {
   "cell_type": "markdown",
   "metadata": {
    "colab_type": "text",
    "id": "p3d7NFyNRgh0"
   },
   "source": [
    "# PyTorch Tutorial "
   ]
  },
  {
   "cell_type": "markdown",
   "metadata": {
    "colab_type": "text",
    "id": "TAYt54IhRzXV"
   },
   "source": [
    "Facebook's PyTorch engine has a unique way of solving problems, allowing us to solve machine learning problems very efficiently. Nowadays, machine learning is used in almost all areas of life and work, with famous applications in computer vision, speech recognition, language translations, healthcare, and many more.\n",
    "\n",
    "Production-oriented and capable of handling different computational architectures (CPUs and GPUs), PyTorch is a framework for any kind of computation that requires high performance and easy distribution. It excels at deep learning, making it possible to create everything from shallow networks (neural networks made of a few layers) to complex deep networks for image recognition and natural language processing.\n",
    "\n",
    "In this semseter, we will use PyTorch to implement different machine learning algorithms \n",
    "\n",
    "* **Feed Forward Neural Networks (FFNNs)** classification and regression based on features.\n",
    "* **Convolutional Neural Networks (CNNs)** image classification, object detection, video action recognition, etc.\n",
    "* **Generative Adversarial Networks (GANs)**  unsupervised generation of realistic images, etc.\n",
    "* **Deep Reinforcement Learning** game playing, robotics in simulation, self-play, neural architecture search, etc."
   ]
  },
  {
   "cell_type": "markdown",
   "metadata": {
    "colab_type": "text",
    "id": "adoGygpkRzig"
   },
   "source": [
    "## Installing PyTorch\n",
    "To install PyTorch on your local machine, you can use pip - the python package manager.\n",
    "```console\n",
    "!pip install torch torchvision torchaudio\n",
    "```\n",
    "\n",
    "If you have a Nvidia GPU, then you can install the CUDA-supported version:\n",
    "```console\n",
    "!pip install torch torchvision torchaudio --extra-index-url https://download.pytorch.org/whl/cu113\n",
    "```\n",
    "\n",
    "More detailed instructions can be found on the [PyTorch Website](https://pytorch.org/get-started/locally/)."
   ]
  },
  {
   "cell_type": "markdown",
   "metadata": {
    "colab_type": "text",
    "id": "AezwWaY5SPoR"
   },
   "source": [
    "## Importing PyTorch\n",
    "The first step is going to be to import PyTorch."
   ]
  },
  {
   "cell_type": "code",
   "execution_count": 3,
   "metadata": {
    "colab": {},
    "colab_type": "code",
    "id": "wW7hW6vISI99",
    "tags": []
   },
   "outputs": [],
   "source": [
    "import torch"
   ]
  },
  {
   "cell_type": "markdown",
   "metadata": {
    "colab_type": "text",
    "id": "G66ZqlImWKNE"
   },
   "source": [
    "Other required packages for this notebook will be imported later when they are needed."
   ]
  },
  {
   "cell_type": "markdown",
   "metadata": {
    "colab_type": "text",
    "id": "Q2dpgLLZSrMp"
   },
   "source": [
    "\n",
    "## PyTorch\n",
    "PyTorch does have its own data structure for the purpose of performance and ease of use, namely the `torch.Tensor`. You can think of a PyTorch tensor as an n-dimensional array or list.\n",
    "\n",
    "**Example**: The shape of a tensor can be described with a vector $[ 10000, 3, 32, 32]$\n",
    "* 10,000 images\n",
    "* Each image has 3 channels (RGB)\n",
    "* Each channel has 32 rows\n",
    "* Each row has 32 pixels"
   ]
  },
  {
   "cell_type": "markdown",
   "metadata": {},
   "source": [
    "### Creation"
   ]
  },
  {
   "cell_type": "markdown",
   "metadata": {},
   "source": [
    "Tensors can be created in the following ways:"
   ]
  },
  {
   "cell_type": "markdown",
   "metadata": {},
   "source": [
    "**1)** directly from data"
   ]
  },
  {
   "cell_type": "code",
   "execution_count": 4,
   "metadata": {},
   "outputs": [
    {
     "name": "stdout",
     "output_type": "stream",
     "text": [
      "tensor([[1, 2],\n",
      "        [3, 4]])\n"
     ]
    }
   ],
   "source": [
    "data = [[1, 2],[3, 4]]\n",
    "x_data = torch.tensor(data)\n",
    "print(x_data)"
   ]
  },
  {
   "cell_type": "markdown",
   "metadata": {},
   "source": [
    "**2)** from a NumPy array"
   ]
  },
  {
   "cell_type": "code",
   "execution_count": 5,
   "metadata": {},
   "outputs": [
    {
     "name": "stdout",
     "output_type": "stream",
     "text": [
      "tensor([[1, 2],\n",
      "        [3, 4]], dtype=torch.int32)\n"
     ]
    }
   ],
   "source": [
    "import numpy as np\n",
    "\n",
    "np_array = np.array(data)\n",
    "x_np = torch.from_numpy(np_array)\n",
    "print(x_np)"
   ]
  },
  {
   "cell_type": "markdown",
   "metadata": {},
   "source": [
    "**3)** with random or constant values"
   ]
  },
  {
   "cell_type": "code",
   "execution_count": 6,
   "metadata": {},
   "outputs": [
    {
     "name": "stdout",
     "output_type": "stream",
     "text": [
      "Random Tensor: \n",
      " tensor([[0.2181, 0.1424, 0.2210],\n",
      "        [0.7839, 0.8441, 0.3092]]) \n",
      "\n",
      "Ones Tensor: \n",
      " tensor([[1., 1., 1.],\n",
      "        [1., 1., 1.]]) \n",
      "\n",
      "Zeros Tensor: \n",
      " tensor([[0., 0., 0.],\n",
      "        [0., 0., 0.]])\n"
     ]
    }
   ],
   "source": [
    "rand_tensor = torch.rand(2,3) # random numbers in [0,1]\n",
    "ones_tensor = torch.ones(2,3)\n",
    "zeros_tensor = torch.zeros(2,3)\n",
    "\n",
    "print(f\"Random Tensor: \\n {rand_tensor} \\n\")\n",
    "print(f\"Ones Tensor: \\n {ones_tensor} \\n\")\n",
    "print(f\"Zeros Tensor: \\n {zeros_tensor}\")"
   ]
  },
  {
   "cell_type": "markdown",
   "metadata": {},
   "source": [
    "**4)** from other tensors"
   ]
  },
  {
   "cell_type": "code",
   "execution_count": 7,
   "metadata": {},
   "outputs": [
    {
     "name": "stdout",
     "output_type": "stream",
     "text": [
      "Random Tensor: \n",
      " tensor([[0.0585, 0.7429, 0.2790],\n",
      "        [0.6340, 0.5882, 0.2914]]) \n",
      "\n",
      "Ones Tensor: \n",
      " tensor([[1., 1., 1.],\n",
      "        [1., 1., 1.]]) \n",
      "\n",
      "Zeros Tensor: \n",
      " tensor([[0., 0., 0.],\n",
      "        [0., 0., 0.]])\n"
     ]
    }
   ],
   "source": [
    "r_tensor = torch.rand_like(rand_tensor) # random numbers in [0,1]\n",
    "o_tensor = torch.ones_like(rand_tensor)\n",
    "z_tensor = torch.zeros_like(rand_tensor)\n",
    "\n",
    "print(f\"Random Tensor: \\n {r_tensor} \\n\")\n",
    "print(f\"Ones Tensor: \\n {o_tensor} \\n\")\n",
    "print(f\"Zeros Tensor: \\n {z_tensor}\")"
   ]
  },
  {
   "cell_type": "markdown",
   "metadata": {
    "colab_type": "text",
    "id": "6yw-fNeYUqYs"
   },
   "source": [
    "### Attributes of Tensors\n",
    "\n",
    "Each tensor has a data type, a shape, and a device on which it is stored:  \n",
    "* **Data Type**: `torch.bool`, `torch.uint8`, `torch.int32`, `torch.int64`, `torch.float32`, `torch.float64` and others.\n",
    "* **Shape**: Represents the dimension of  the data.\n",
    "* **Device**: By default, tensors are created on the CPU. But they can also be created on / moved to the GPU."
   ]
  },
  {
   "cell_type": "code",
   "execution_count": 8,
   "metadata": {
    "colab": {},
    "colab_type": "code",
    "id": "1v1GRaxxVtYj"
   },
   "outputs": [
    {
     "name": "stdout",
     "output_type": "stream",
     "text": [
      "tensor([[1, 2],\n",
      "        [3, 4]])\n",
      "Type: torch.int64\n",
      "Shape: torch.Size([2, 2])\n",
      "Device: cpu\n"
     ]
    }
   ],
   "source": [
    "data = [[1, 2],[3, 4]]\n",
    "default_tensor = torch.tensor(data)\n",
    "print(default_tensor)\n",
    "print(f\"Type: {default_tensor.dtype}\")\n",
    "print(f\"Shape: {default_tensor.shape}\")\n",
    "print(f\"Device: {default_tensor.device}\")"
   ]
  },
  {
   "cell_type": "markdown",
   "metadata": {},
   "source": [
    "You can also specify the data type during the creation."
   ]
  },
  {
   "cell_type": "code",
   "execution_count": 9,
   "metadata": {},
   "outputs": [
    {
     "name": "stdout",
     "output_type": "stream",
     "text": [
      "tensor([[1., 2.],\n",
      "        [3., 4.]])\n",
      "Type: torch.float32\n",
      "Shape: torch.Size([2, 2])\n"
     ]
    }
   ],
   "source": [
    "float_tensor = torch.tensor(data, dtype=torch.float32)\n",
    "print(float_tensor)\n",
    "print(f\"Type: {float_tensor.dtype}\")\n",
    "print(f\"Shape: {float_tensor.shape}\")"
   ]
  },
  {
   "cell_type": "markdown",
   "metadata": {},
   "source": [
    "If you have a GPU with CUDA support, you should use it for a better runtime in your trainings. Let's determine whether a supported GPU is present:"
   ]
  },
  {
   "cell_type": "code",
   "execution_count": 10,
   "metadata": {},
   "outputs": [
    {
     "name": "stdout",
     "output_type": "stream",
     "text": [
      "cuda\n"
     ]
    }
   ],
   "source": [
    "device = \"cuda\" if torch.cuda.is_available() else \"cpu\"\n",
    "print(device)"
   ]
  },
  {
   "cell_type": "markdown",
   "metadata": {},
   "source": [
    "By default, tensors are created on the CPU. But now, we can also create tensors on our preferred device. It is also possible to move existing tensors to other devices."
   ]
  },
  {
   "cell_type": "code",
   "execution_count": 11,
   "metadata": {},
   "outputs": [
    {
     "name": "stdout",
     "output_type": "stream",
     "text": [
      "cpu_tensor device: cpu\n",
      "device_tensor device: cuda:0\n",
      "moved_tensor device: cuda:0\n"
     ]
    }
   ],
   "source": [
    "cpu_tensor = torch.Tensor(data)\n",
    "device_tensor = torch.ones(2, 3, device=device)\n",
    "moved_tensor = cpu_tensor.to(device)\n",
    "\n",
    "print(f\"cpu_tensor device: {cpu_tensor.device}\")\n",
    "print(f\"device_tensor device: {device_tensor.device}\")\n",
    "print(f\"moved_tensor device: {moved_tensor.device}\")"
   ]
  },
  {
   "cell_type": "markdown",
   "metadata": {},
   "source": [
    "### Operations on Tensors"
   ]
  },
  {
   "cell_type": "markdown",
   "metadata": {},
   "source": [
    "Just like vectors and matrices, tensors can have operations applied to them like addition, subtraction, dot product, cross product etc."
   ]
  },
  {
   "cell_type": "code",
   "execution_count": 12,
   "metadata": {},
   "outputs": [
    {
     "name": "stdout",
     "output_type": "stream",
     "text": [
      "tensor([[1., 2., 3.],\n",
      "        [4., 5., 6.]])\n",
      "tensor([[3., 3., 3.],\n",
      "        [3., 3., 3.]])\n"
     ]
    }
   ],
   "source": [
    "t1 = torch.Tensor([[1,2,3],[4,5,6]])\n",
    "t2 = torch.Tensor([[3,3,3],[3,3,3]])\n",
    "\n",
    "print(t1)\n",
    "print(t2)"
   ]
  },
  {
   "cell_type": "code",
   "execution_count": 13,
   "metadata": {},
   "outputs": [
    {
     "name": "stdout",
     "output_type": "stream",
     "text": [
      "tensor([[4., 5., 6.],\n",
      "        [7., 8., 9.]])\n",
      "tensor([[4., 5., 6.],\n",
      "        [7., 8., 9.]])\n",
      "tensor([[4., 5., 6.],\n",
      "        [7., 8., 9.]])\n"
     ]
    }
   ],
   "source": [
    "# This computes the element-wise sum.\n",
    "x1 = t1 + 3\n",
    "x2 = t1 + t2\n",
    "x3 = t1.add(t2)\n",
    "\n",
    "print(x1)\n",
    "print(x2)\n",
    "print(x3)"
   ]
  },
  {
   "cell_type": "code",
   "execution_count": 14,
   "metadata": {},
   "outputs": [
    {
     "name": "stdout",
     "output_type": "stream",
     "text": [
      "tensor([[14., 32.],\n",
      "        [32., 77.]])\n",
      "tensor([[14., 32.],\n",
      "        [32., 77.]])\n"
     ]
    }
   ],
   "source": [
    "# This computes the matrix multiplication between two tensors.\n",
    "y1 = t1 @ t1.T        # t1.T is the transposed matrix of t1\n",
    "y2 = t1.matmul(t1.T)\n",
    "\n",
    "print(y1)\n",
    "print(y2)"
   ]
  },
  {
   "cell_type": "code",
   "execution_count": 15,
   "metadata": {},
   "outputs": [
    {
     "name": "stdout",
     "output_type": "stream",
     "text": [
      "tensor([[ 3.,  6.,  9.],\n",
      "        [12., 15., 18.]])\n",
      "tensor([[ 3.,  6.,  9.],\n",
      "        [12., 15., 18.]])\n",
      "tensor([[ 3.,  6.,  9.],\n",
      "        [12., 15., 18.]])\n"
     ]
    }
   ],
   "source": [
    "# This computes the element-wise product.\n",
    "z1 = t1 * 3\n",
    "z2 = t1 * t2\n",
    "z3 = t1.mul(t2)\n",
    "\n",
    "print(z1)\n",
    "print(z2)\n",
    "print(z3)"
   ]
  },
  {
   "cell_type": "markdown",
   "metadata": {},
   "source": [
    "Methods which mutate a tensor are marked with an underscore suffix. For example, the following addition alters the original tensor."
   ]
  },
  {
   "cell_type": "code",
   "execution_count": 16,
   "metadata": {},
   "outputs": [
    {
     "name": "stdout",
     "output_type": "stream",
     "text": [
      "tensor([[1., 2., 3.],\n",
      "        [4., 5., 6.]])\n",
      "tensor([[4., 5., 6.],\n",
      "        [7., 8., 9.]])\n"
     ]
    }
   ],
   "source": [
    "print(t1)\n",
    "t1.add_(3)\n",
    "print(t1)"
   ]
  },
  {
   "cell_type": "markdown",
   "metadata": {},
   "source": [
    "Of course, PyTorch also implements more complex mathematical functions."
   ]
  },
  {
   "cell_type": "code",
   "execution_count": 17,
   "metadata": {},
   "outputs": [
    {
     "name": "stdout",
     "output_type": "stream",
     "text": [
      "tensor([[-0.7568, -0.9589, -0.2794],\n",
      "        [ 0.6570,  0.9894,  0.4121]])\n",
      "tensor([[0.0900, 0.2447, 0.6652],\n",
      "        [0.0900, 0.2447, 0.6652]])\n"
     ]
    }
   ],
   "source": [
    "print(torch.sin(t1))\n",
    "print(torch.softmax(t1, dim=1))"
   ]
  },
  {
   "cell_type": "markdown",
   "metadata": {},
   "source": [
    "### Automatic Differentiation with `torch.autograd`"
   ]
  },
  {
   "cell_type": "markdown",
   "metadata": {},
   "source": [
    "Training of neural networks (NNs) includes generally the following steps:\n",
    "- **Forward pass**: The NN makes its best guess about the correct output. It runs the input data through each of its functions to make this guess.\n",
    "- **Backward pass**: By traversing backwards from the output, the NN adjusts its **parameters** to reduce the error in its guess."
   ]
  },
  {
   "cell_type": "markdown",
   "metadata": {},
   "source": [
    "When training neural networks, the most frequently used algorithm is **backpropagation**. In this algorithm, parameters are adjusted according to the **gradient** (vector of  partial derivatives) of the **loss function** with respect to the given parameter. To simplify this procedure, PyTorch can calculate the gradients automatically with its built-in engine called `torch.autograd`. We just need to set the `requires_grad` property of the parameter tensors to `True`."
   ]
  },
  {
   "cell_type": "code",
   "execution_count": 18,
   "metadata": {},
   "outputs": [
    {
     "name": "stdout",
     "output_type": "stream",
     "text": [
      "x = tensor([[0.1099],\n",
      "        [0.9744],\n",
      "        [0.6141],\n",
      "        [0.4064],\n",
      "        [0.3424]])\n",
      "y = tensor([[-1.7752, -1.2752, -0.7752],\n",
      "        [-0.5516, -0.0516,  0.4484],\n",
      "        [ 0.6721,  1.1721,  1.6721]])\n",
      "y_pred = tensor([[ 0.8564,  0.4198,  1.9214],\n",
      "        [ 0.3715, -0.0652,  1.4365],\n",
      "        [ 0.0309, -0.4057,  1.0959]], grad_fn=<AddBackward0>)\n"
     ]
    }
   ],
   "source": [
    "x = torch.rand(5, 1)  # input tensor\n",
    "W_true = torch.Tensor([[-1.5, -1.0, -0.5, 0.0, 0.5],\n",
    "                       [-1.0, -0.5,  0.0, 0.5, 1.0],\n",
    "                       [-0.5,  0.0,  0.5, 1.0, 1.5]])\n",
    "b_true = torch.Tensor([-0.5, 0.0, 0.5])\n",
    "y = torch.matmul(W_true, x) + b_true  # expected output\n",
    "\n",
    "W = torch.randn(3, 5, requires_grad=True) # weights\n",
    "b = torch.randn(3, requires_grad=True) # biases\n",
    "y_pred = torch.matmul(W, x) + b # predicted output\n",
    "loss = (y_pred - y).pow(2).sum()\n",
    "\n",
    "print(f\"x = {x}\")\n",
    "print(f\"y = {y}\")\n",
    "print(f\"y_pred = {y_pred}\")"
   ]
  },
  {
   "cell_type": "markdown",
   "metadata": {},
   "source": [
    "PyTorch constructs a **computational graph** which can be used in combination with the chain rule of differentiation to compute the gradients. Each tensor representing a composite function has a gradient function stored in the `grad_fn` property. If the computation is started with the `backward` function, these functions are used to determine the gradients for the parameters, which will be stored in the respective `grad` properties."
   ]
  },
  {
   "cell_type": "code",
   "execution_count": 19,
   "metadata": {},
   "outputs": [
    {
     "name": "stdout",
     "output_type": "stream",
     "text": [
      "Gradient function for y_pred = <AddBackward0 object at 0x000001C72C2F3790>\n",
      "Gradient function for loss = <SumBackward0 object at 0x000001C72C2F3730>\n",
      "tensor([[ 1.5443, 13.6867,  8.6262,  5.7087,  4.8090],\n",
      "        [ 0.4172,  3.6978,  2.3306,  1.5423,  1.2993],\n",
      "        [-0.6146, -5.4470, -3.4330, -2.2719, -1.9139]])\n",
      "tensor([5.8269, 0.2072, 6.2169])\n"
     ]
    }
   ],
   "source": [
    "print(f\"Gradient function for y_pred = {y_pred.grad_fn}\")\n",
    "print(f\"Gradient function for loss = {loss.grad_fn}\")\n",
    "\n",
    "loss.backward()\n",
    "\n",
    "print(W.grad) # gradient with respect to W\n",
    "print(b.grad) # gradient with respect to b"
   ]
  },
  {
   "cell_type": "markdown",
   "metadata": {},
   "source": [
    "To reduce the loss, we use **gradient descent** meaning that the gradient times a learning rate is subtracted from the parameters. This process is repeated for several iterations. Notice that we have to reset the gradients to zero in each iteration since PyTorch **accumulates** them otherwise. Moreover, we can deactivate the tracking of tensor operations with the context `torch.no_grad()` if no gradients shall be calculated for these operations. This is useful for manually executed gradient descent or computations in the validation/testing phase."
   ]
  },
  {
   "cell_type": "code",
   "execution_count": 20,
   "metadata": {},
   "outputs": [
    {
     "name": "stdout",
     "output_type": "stream",
     "text": [
      "100 17.98517417907715\n",
      "200 14.626494407653809\n",
      "300 11.926593780517578\n",
      "400 9.749578475952148\n",
      "500 7.989034175872803\n",
      "600 6.561319828033447\n",
      "700 5.40046501159668\n",
      "800 4.454217910766602\n",
      "900 3.6810731887817383\n",
      "1000 3.047943115234375\n",
      "1100 2.528362512588501\n",
      "1200 2.101097583770752\n",
      "1300 1.7490664720535278\n",
      "1400 1.4584821462631226\n",
      "1500 1.2181912660598755\n",
      "1600 1.0191460847854614\n",
      "1700 0.8539940118789673\n",
      "1800 0.7167397141456604\n",
      "1900 0.6024918556213379\n",
      "2000 0.5072454214096069\n",
      "Result: y = tensor([[-1.7752, -1.2752, -0.7752],\n",
      "        [-0.5516, -0.0516,  0.4484],\n",
      "        [ 0.6721,  1.1721,  1.6721]])\n",
      " and y_pred = tensor([[-1.4211, -1.2032, -0.4015],\n",
      "        [-0.4416, -0.2238,  0.5779],\n",
      "        [ 0.5584,  0.7763,  1.5780]], grad_fn=<AddBackward0>)\n",
      "Result: W = tensor([[ 1.0464, -1.0759, -0.1246, -0.1219, -0.5095],\n",
      "        [ 1.3758, -0.9997,  0.5027,  0.6477, -0.0095],\n",
      "        [ 0.4714, -0.8703,  1.2031,  1.1517,  0.9795]], requires_grad=True)\n",
      " and b = tensor([-0.1875,  0.0304,  0.8320], requires_grad=True)\n"
     ]
    }
   ],
   "source": [
    "# reset the gradients to zero\n",
    "W.grad = None\n",
    "b.grad = None\n",
    "\n",
    "learning_rate = 1e-4\n",
    "\n",
    "for t in range(2000):\n",
    "    \n",
    "    # Forward pass: compute predicted y using operations on Tensors.\n",
    "    y_pred = torch.matmul(W, x) + b\n",
    "\n",
    "    # Compute and print loss using operations on Tensors.\n",
    "    # Now loss is a Tensor of shape (1,)\n",
    "    # loss.item() gets the scalar value held in the loss.\n",
    "    loss = (y_pred - y).pow(2).sum()\n",
    "    if t % 100 == 99:\n",
    "        print(t+1, loss.item())\n",
    "\n",
    "    # Use autograd to compute the backward pass. This call will compute the\n",
    "    # gradient of loss with respect to all Tensors with requires_grad=True.\n",
    "    # After this call W.grad and b.grad will be Tensors holding the gradient\n",
    "    # of the loss with respect to W, b respectively.\n",
    "    loss.backward()\n",
    "\n",
    "    # Manually update parameters using gradient descent. Wrap in torch.no_grad()\n",
    "    # because weights have requires_grad=True, but we don't need to track this\n",
    "    # in autograd.\n",
    "    with torch.no_grad():\n",
    "        W -= learning_rate * W.grad\n",
    "        b -= learning_rate * b.grad\n",
    "\n",
    "        # Manually zero the gradients after updating parameters\n",
    "        W.grad = None\n",
    "        b.grad = None\n",
    "\n",
    "print(f\"Result: y = {y}\\n and y_pred = {y_pred}\")\n",
    "print(f\"Result: W = {W}\\n and b = {b}\")"
   ]
  },
  {
   "cell_type": "markdown",
   "metadata": {
    "colab_type": "text",
    "id": "Oy_DwYWlbnAx",
    "tags": []
   },
   "source": [
    "## Machine Lerarning Model with PyTorch\n",
    "The basic structure of training a machine learning model is as follows:\n",
    "\n",
    "1. Import the dataset.\n",
    "2. Select the type of model.\n",
    "3. Train the model.\n",
    "4. Evaluate the model's effectiveness.\n",
    "5. Use the trained model to make predictions.\n",
    "\n",
    "A **regression model** can be used to predict the output of a continuous value, like a stock price or a time series. In contrast, a **classification model** predicts a discrete label, e.g. whether a picture contains a dog or a cat."
   ]
  },
  {
   "cell_type": "markdown",
   "metadata": {},
   "source": [
    "### Datasets, Dataloaders & Transforms"
   ]
  },
  {
   "cell_type": "markdown",
   "metadata": {},
   "source": [
    "For this exercise, we will use the CIFAR10 dataset. It has the classes: ‘airplane’, ‘automobile’, ‘bird’, ‘cat’, ‘deer’, ‘dog’, ‘frog’, ‘horse’, ‘ship’, ‘truck’. The images in CIFAR-10 are of size 3x32x32, i.e. 3-channel color images of 32x32 pixels in size."
   ]
  },
  {
   "cell_type": "markdown",
   "metadata": {},
   "source": [
    "![CIFAR10](https://pytorch.org/tutorials/_images/cifar10.png)"
   ]
  },
  {
   "cell_type": "markdown",
   "metadata": {},
   "source": [
    "First, we have to import the necessary packages."
   ]
  },
  {
   "cell_type": "code",
   "execution_count": 21,
   "metadata": {},
   "outputs": [],
   "source": [
    "import torchvision\n",
    "import torchvision.transforms as transforms\n",
    "\n",
    "import matplotlib.pyplot as plt\n",
    "import numpy as np"
   ]
  },
  {
   "cell_type": "markdown",
   "metadata": {},
   "source": [
    "PyTorch provides two data primitives: `torch.utils.data.DataLoader` and `torch.utils.data.Dataset` that allow you to use pre-loaded datasets as well as your own data. **Dataset** stores the samples and their corresponding labels, and **DataLoader** wraps an iterable around the Dataset to enable easy access to the samples. If the dataset is not locally present, it can be downloaded from the internet automatically. In this notebook, we use *batches* of data for the training. To reduce model overfitting, we reshuffle the data at every epoch in the training phase.\n",
    "\n",
    "Data does not always come in its final processed form that is required for training machine learning algorithms. We use **transforms** to perform some manipulation of the data and make it suitable for training."
   ]
  },
  {
   "cell_type": "code",
   "execution_count": 22,
   "metadata": {},
   "outputs": [
    {
     "name": "stdout",
     "output_type": "stream",
     "text": [
      "Files already downloaded and verified\n",
      "Files already downloaded and verified\n"
     ]
    }
   ],
   "source": [
    "transform = transforms.Compose(\n",
    "    [transforms.ToTensor(),\n",
    "     transforms.Normalize((0.5, 0.5, 0.5), (0.5, 0.5, 0.5))])\n",
    "\n",
    "batch_size = 4\n",
    "\n",
    "trainset = torchvision.datasets.CIFAR10(root='./data', train=True,\n",
    "                                        download=True, transform=transform)\n",
    "trainloader = torch.utils.data.DataLoader(trainset, batch_size=batch_size,\n",
    "                                          shuffle=True, num_workers=2)\n",
    "\n",
    "testset = torchvision.datasets.CIFAR10(root='./data', train=False,\n",
    "                                       download=True, transform=transform)\n",
    "testloader = torch.utils.data.DataLoader(testset, batch_size=batch_size,\n",
    "                                         shuffle=False, num_workers=2)\n",
    "\n",
    "classes = ('plane', 'car', 'bird', 'cat',\n",
    "           'deer', 'dog', 'frog', 'horse', 'ship', 'truck')"
   ]
  },
  {
   "cell_type": "code",
   "execution_count": 23,
   "metadata": {},
   "outputs": [
    {
     "data": {
      "image/png": "[encoded data removed]",
      "text/plain": [
       "<Figure size 432x288 with 1 Axes>"
      ]
     },
     "metadata": {
      "needs_background": "light"
     },
     "output_type": "display_data"
    },
    {
     "name": "stdout",
     "output_type": "stream",
     "text": [
      "ship  bird  deer  horse\n"
     ]
    }
   ],
   "source": [
    "def unnormalize(img):\n",
    "    return img / 2 + 0.5     # unnormalize\n",
    "\n",
    "def imshow(img):\n",
    "    \"\"\"Function to show an image\"\"\"\n",
    "    img = unnormalize(img)\n",
    "    npimg = img.numpy()\n",
    "    plt.imshow(np.transpose(npimg, (1, 2, 0)))\n",
    "    plt.show()\n",
    "\n",
    "# get some random training images\n",
    "data_iter = iter(trainloader)\n",
    "images, labels = data_iter.next()\n",
    "\n",
    "plt.axis('off')\n",
    "# show images\n",
    "img_grid = torchvision.utils.make_grid(images)\n",
    "imshow(img_grid)\n",
    "# print labels\n",
    "print(' '.join(f'{classes[labels[j]]:5s}' for j in range(4)))"
   ]
  },
  {
   "cell_type": "markdown",
   "metadata": {},
   "source": [
    "### Model Definition"
   ]
  },
  {
   "cell_type": "markdown",
   "metadata": {},
   "source": [
    "To simpify the model definition, we can use common components provided in the `torch.nn` library."
   ]
  },
  {
   "cell_type": "code",
   "execution_count": 24,
   "metadata": {},
   "outputs": [],
   "source": [
    "import torch.nn as nn\n",
    "import torch.nn.functional as F"
   ]
  },
  {
   "cell_type": "markdown",
   "metadata": {},
   "source": [
    "In this example, we define a custom convolutional neural network (CNN) by specifying a subclass of `nn.Module`. In the constructor, we define the components and hence also the parameters of our model. The `forward` method implements the forward pass in our net. Since the model is a subclass of `nn.Module`, the parameters are automatically tracked for the gradient computations."
   ]
  },
  {
   "cell_type": "code",
   "execution_count": 25,
   "metadata": {},
   "outputs": [
    {
     "name": "stdout",
     "output_type": "stream",
     "text": [
      "Net(\n",
      "  (conv1): Conv2d(3, 6, kernel_size=(5, 5), stride=(1, 1))\n",
      "  (pool): MaxPool2d(kernel_size=2, stride=2, padding=0, dilation=1, ceil_mode=False)\n",
      "  (conv2): Conv2d(6, 16, kernel_size=(5, 5), stride=(1, 1))\n",
      "  (fc1): Linear(in_features=400, out_features=120, bias=True)\n",
      "  (fc2): Linear(in_features=120, out_features=84, bias=True)\n",
      "  (fc3): Linear(in_features=84, out_features=10, bias=True)\n",
      ")\n",
      "shape: torch.Size([6, 3, 5, 5])\n",
      "requires_grad: True\n"
     ]
    }
   ],
   "source": [
    "class Net(nn.Module):\n",
    "    def __init__(self):\n",
    "        super().__init__()\n",
    "        self.conv1 = nn.Conv2d(3, 6, 5)\n",
    "        self.pool = nn.MaxPool2d(2, 2)\n",
    "        self.conv2 = nn.Conv2d(6, 16, 5)\n",
    "        self.fc1 = nn.Linear(16 * 5 * 5, 120)\n",
    "        self.fc2 = nn.Linear(120, 84)\n",
    "        self.fc3 = nn.Linear(84, 10)\n",
    "\n",
    "    def forward(self, x):\n",
    "        x = self.pool(F.relu(self.conv1(x)))\n",
    "        x = self.pool(F.relu(self.conv2(x)))\n",
    "        x = torch.flatten(x, 1) # flatten all dimensions except batch\n",
    "        x = F.relu(self.fc1(x))\n",
    "        x = F.relu(self.fc2(x))\n",
    "        x = self.fc3(x)\n",
    "        return x\n",
    "\n",
    "net = Net()\n",
    "print(net)\n",
    "\n",
    "first_par = next(net.parameters())\n",
    "print(f\"shape: {first_par.shape}\")\n",
    "print(f\"requires_grad: {first_par.requires_grad}\")"
   ]
  },
  {
   "cell_type": "markdown",
   "metadata": {},
   "source": [
    "### Training"
   ]
  },
  {
   "cell_type": "markdown",
   "metadata": {},
   "source": [
    "Before we can start the training of our net, we must define the loss function and the optimization method. Fortunately, common variants are already implemented in PyTorch."
   ]
  },
  {
   "cell_type": "code",
   "execution_count": 26,
   "metadata": {},
   "outputs": [],
   "source": [
    "import torch.optim as optim\n",
    "\n",
    "criterion = nn.CrossEntropyLoss()\n",
    "optimizer = optim.SGD(net.parameters(), lr=0.001, momentum=0.9)"
   ]
  },
  {
   "cell_type": "markdown",
   "metadata": {},
   "source": [
    "After we moved our net to the preferred device and set it in training mode, we can start the training. In each iteration, we execute the forward pass for a batch of training data, calculate the loss and the gradients, and finally conduct gradient descent with the optimizers's `step()` method. Notice that we reset the parameter gradients in each iteration with the optimizer's `zero_grad()` method so that they are not accumulated over the iterations."
   ]
  },
  {
   "cell_type": "code",
   "execution_count": 27,
   "metadata": {},
   "outputs": [
    {
     "name": "stdout",
     "output_type": "stream",
     "text": [
      "[1,  2000] loss: 2.185\n",
      "[1,  4000] loss: 1.874\n",
      "[1,  6000] loss: 1.705\n",
      "[1,  8000] loss: 1.578\n",
      "[1, 10000] loss: 1.527\n",
      "[1, 12000] loss: 1.474\n",
      "[2,  2000] loss: 1.399\n",
      "[2,  4000] loss: 1.376\n",
      "[2,  6000] loss: 1.338\n",
      "[2,  8000] loss: 1.317\n",
      "[2, 10000] loss: 1.288\n",
      "[2, 12000] loss: 1.245\n",
      "Finished Training\n"
     ]
    }
   ],
   "source": [
    "# move the net and its parameters to the preferred device\n",
    "net.to(device)\n",
    "\n",
    "# set the net in training mode\n",
    "net.train()\n",
    "\n",
    "for epoch in range(2):  # loop over the dataset multiple times\n",
    "\n",
    "    running_loss = 0.0\n",
    "    for i, data in enumerate(trainloader, 0):\n",
    "        # get the inputs; data is a list of [inputs, labels]\n",
    "        inputs, labels = data[0].to(device), data[1].to(device)\n",
    "\n",
    "        # zero the parameter gradients\n",
    "        optimizer.zero_grad()\n",
    "\n",
    "        # forward + backward + optimize\n",
    "        outputs = net(inputs)\n",
    "        loss = criterion(outputs, labels)\n",
    "        loss.backward()\n",
    "        optimizer.step()\n",
    "\n",
    "        # print statistics\n",
    "        running_loss += loss.item()\n",
    "        if i % 2000 == 1999:    # print every 2000 mini-batches\n",
    "            print(f\"[{epoch + 1}, {i + 1:5d}] loss: {running_loss / 2000:.3f}\")\n",
    "            running_loss = 0.0\n",
    "\n",
    "print(\"Finished Training\")"
   ]
  },
  {
   "cell_type": "markdown",
   "metadata": {},
   "source": [
    "The parameters of a trained model can be stored in a local file. These parameters can then be loaded again from the file to initalize a new model."
   ]
  },
  {
   "cell_type": "code",
   "execution_count": 28,
   "metadata": {},
   "outputs": [],
   "source": [
    "PATH = \"./cifar_net.pth\"\n",
    "\n",
    "# save the learned parameters\n",
    "torch.save(net.state_dict(), PATH)\n",
    "\n",
    "# create a new net initialized with the stored parameters\n",
    "pretrained_net = Net().load_state_dict(torch.load(PATH))"
   ]
  },
  {
   "cell_type": "markdown",
   "metadata": {},
   "source": [
    "### Evaluation"
   ]
  },
  {
   "cell_type": "markdown",
   "metadata": {},
   "source": [
    "We evaluate our trained net with the test dataset. The predicted label of an image is the class with the highest output value of the corresponding neuron."
   ]
  },
  {
   "cell_type": "code",
   "execution_count": 29,
   "metadata": {},
   "outputs": [
    {
     "name": "stdout",
     "output_type": "stream",
     "text": [
      "Accuracy of the network on the 10000 test images: 54 %\n"
     ]
    }
   ],
   "source": [
    "# set the net in evaluation mode\n",
    "net.eval()\n",
    "\n",
    "correct = 0\n",
    "total = 0\n",
    "# since we're not training, we don't need to calculate the gradients for our outputs\n",
    "with torch.no_grad():\n",
    "    for data in testloader:\n",
    "        images, labels = data[0].to(device), data[1].to(device)\n",
    "        # calculate outputs by running images through the network\n",
    "        outputs = net(images)\n",
    "        # the class with the highest energy is what we choose as prediction\n",
    "        _, predicted = torch.max(outputs.data, 1)\n",
    "        total += labels.size(0)\n",
    "        correct += (predicted == labels).sum().item()\n",
    "\n",
    "print(f'Accuracy of the network on the 10000 test images: {100 * correct // total} %')"
   ]
  },
  {
   "cell_type": "markdown",
   "metadata": {},
   "source": [
    "Let's have a look at the prediction accuracy for each class."
   ]
  },
  {
   "cell_type": "code",
   "execution_count": 30,
   "metadata": {},
   "outputs": [
    {
     "name": "stdout",
     "output_type": "stream",
     "text": [
      "Accuracy for class: plane is 61.4 %\n",
      "Accuracy for class: car   is 74.6 %\n",
      "Accuracy for class: bird  is 22.9 %\n",
      "Accuracy for class: cat   is 59.2 %\n",
      "Accuracy for class: deer  is 50.5 %\n",
      "Accuracy for class: dog   is 32.4 %\n",
      "Accuracy for class: frog  is 67.0 %\n",
      "Accuracy for class: horse is 66.9 %\n",
      "Accuracy for class: ship  is 63.8 %\n",
      "Accuracy for class: truck is 49.0 %\n"
     ]
    }
   ],
   "source": [
    "# prepare to count predictions for each class\n",
    "correct_pred = {classname: 0 for classname in classes}\n",
    "total_pred = {classname: 0 for classname in classes}\n",
    "\n",
    "# again no gradients needed\n",
    "with torch.no_grad():\n",
    "    for data in testloader:\n",
    "        images, labels = data[0].to(device), data[1].to(device)\n",
    "        outputs = net(images)\n",
    "        _, predictions = torch.max(outputs, 1)\n",
    "        # collect the correct predictions for each class\n",
    "        for label, prediction in zip(labels, predictions):\n",
    "            if label == prediction:\n",
    "                correct_pred[classes[label]] += 1\n",
    "            total_pred[classes[label]] += 1\n",
    "\n",
    "\n",
    "# print accuracy for each class\n",
    "for classname, correct_count in correct_pred.items():\n",
    "    accuracy = 100 * float(correct_count) / total_pred[classname]\n",
    "    print(f'Accuracy for class: {classname:5s} is {accuracy:.1f} %')"
   ]
  },
  {
   "cell_type": "markdown",
   "metadata": {
    "tags": []
   },
   "source": [
    "### TensorBoard"
   ]
  },
  {
   "cell_type": "markdown",
   "metadata": {},
   "source": [
    "The results can also be visualized with `tensorboard`."
   ]
  },
  {
   "cell_type": "code",
   "execution_count": 31,
   "metadata": {
    "tags": []
   },
   "outputs": [],
   "source": [
    "!pip install -q -U tensorboard\n",
    "\n",
    "from torch.utils.tensorboard import SummaryWriter\n",
    "import datetime\n",
    "\n",
    "# Default log_dir argument is \"runs\" - but it's good to be specific\n",
    "writer = SummaryWriter('runs/cifar10_' + datetime.datetime.now().strftime(\"%Y%m%d-%H%M%S\"))"
   ]
  },
  {
   "cell_type": "markdown",
   "metadata": {},
   "source": [
    "TensorBoard can be displayed embedded in the notebook."
   ]
  },
  {
   "cell_type": "code",
   "execution_count": 32,
   "metadata": {},
   "outputs": [],
   "source": [
    "%load_ext tensorboard\n",
    "# %reload_ext tensorboard"
   ]
  },
  {
   "cell_type": "code",
   "execution_count": 33,
   "metadata": {},
   "outputs": [
    {
     "data": {
      "text/html": [
       "\n",
       "      <iframe id=\"tensorboard-frame-f556b3c85d5c28f6\" width=\"100%\" height=\"800\" frameborder=\"0\">\n",
       "      </iframe>\n",
       "      <script>\n",
       "        (function() {\n",
       "          const frame = document.getElementById(\"tensorboard-frame-f556b3c85d5c28f6\");\n",
       "          const url = new URL(\"/\", window.location);\n",
       "          const port = 6006;\n",
       "          if (port) {\n",
       "            url.port = port;\n",
       "          }\n",
       "          frame.src = url;\n",
       "        })();\n",
       "      </script>\n",
       "    "
      ],
      "text/plain": [
       "<IPython.core.display.HTML object>"
      ]
     },
     "metadata": {},
     "output_type": "display_data"
    }
   ],
   "source": [
    "#%tensorboard --host localhost --logdir=runs\n",
    "# if it doesn't work, try --bind_all instead of --host localhost\n",
    "%tensorboard --bind_all --logdir=runs\n",
    "\n",
    "# the tensorboard is also available at http://localhost:6006/\n",
    "\n",
    "# tensorboard can be killed with:\n",
    "# Windows: !taskkill /F /PID pid OR !taskkill /IM \"tensorboard.exe\" /F, and then: !del /q %TMP%\\.tensorboard-info\\*\n",
    "# Linux/MacOS: !kill pid"
   ]
  },
  {
   "cell_type": "markdown",
   "metadata": {},
   "source": [
    "For instance, we can add images to the TensorBoard."
   ]
  },
  {
   "cell_type": "code",
   "execution_count": 34,
   "metadata": {},
   "outputs": [],
   "source": [
    "# Write image data to TensorBoard log dir\n",
    "writer.add_image('Four CIFAR10 Images', unnormalize(img_grid))\n",
    "writer.flush()"
   ]
  },
  {
   "cell_type": "markdown",
   "metadata": {},
   "source": [
    "Moreover, we can track the progress of the training by evaluating our model regularly with a validation dataset. The training loss and the validation loss are then plotted in the TensorBoard. By comparing these characteristics, we can detect overfitting and underfitting."
   ]
  },
  {
   "cell_type": "code",
   "execution_count": 35,
   "metadata": {},
   "outputs": [
    {
     "name": "stdout",
     "output_type": "stream",
     "text": [
      "2500\n",
      "Batch 1000\n",
      "Batch 2000\n",
      "Batch 3000\n",
      "Batch 4000\n",
      "Batch 5000\n",
      "Batch 6000\n",
      "Batch 7000\n",
      "Batch 8000\n",
      "Batch 9000\n",
      "Batch 10000\n",
      "Batch 11000\n",
      "Batch 12000\n",
      "Finished Training\n"
     ]
    }
   ],
   "source": [
    "# it is okay here to use the test data also as validation data since we don't\n",
    "# modify the model's hyperparameters dependent on the validation data.\n",
    "validation_loader = testloader\n",
    "print(len(validation_loader))\n",
    "\n",
    "new_net = Net()\n",
    "new_net.to(device)\n",
    "new_net.train() # training mode\n",
    "\n",
    "new_criterion = nn.CrossEntropyLoss()\n",
    "new_optimizer = optim.SGD(new_net.parameters(), lr=0.001, momentum=0.9)\n",
    "\n",
    "for epoch in range(1):  # loop over the dataset multiple times\n",
    "    running_loss = 0.0\n",
    "\n",
    "    for i, data in enumerate(trainloader, 0):\n",
    "        # basic training loop\n",
    "        inputs, labels = data[0].to(device), data[1].to(device)\n",
    "        new_optimizer.zero_grad()\n",
    "        outputs = new_net(inputs)\n",
    "        loss = new_criterion(outputs, labels)\n",
    "        loss.backward()\n",
    "        new_optimizer.step()\n",
    "\n",
    "        running_loss += loss.item()\n",
    "        if i % 1000 == 999:    # Every 1000 mini-batches...\n",
    "            print('Batch {}'.format(i + 1))\n",
    "            # Check against the validation set\n",
    "            running_vloss = 0.0\n",
    "\n",
    "            new_net.eval() # evaluation mode\n",
    "            with torch.no_grad():\n",
    "                for j, vdata in enumerate(validation_loader, 0):\n",
    "                    vinputs, vlabels = vdata[0].to(device), vdata[1].to(device)\n",
    "                    voutputs = new_net(vinputs)\n",
    "                    vloss = new_criterion(voutputs, vlabels)\n",
    "                    running_vloss += vloss.item()\n",
    "            new_net.train() # training mode\n",
    "\n",
    "            avg_loss = running_loss / 1000\n",
    "            avg_vloss = running_vloss / len(validation_loader)\n",
    "\n",
    "            # Log the running loss averaged per batch\n",
    "            writer.add_scalars('Training vs. Validation Loss',\n",
    "                            { 'Training' : avg_loss, 'Validation' : avg_vloss },\n",
    "                            epoch * len(trainloader) + i)\n",
    "\n",
    "            running_loss = 0.0\n",
    "print('Finished Training')\n",
    "\n",
    "writer.flush()"
   ]
  },
  {
   "cell_type": "markdown",
   "metadata": {},
   "source": [
    "TensorBoard can also illustrate the computational graph."
   ]
  },
  {
   "cell_type": "code",
   "execution_count": 36,
   "metadata": {},
   "outputs": [],
   "source": [
    "writer.add_graph(new_net, inputs)"
   ]
  },
  {
   "cell_type": "markdown",
   "metadata": {
    "colab_type": "text",
    "id": "jIUlWvsSyKT7"
   },
   "source": [
    "### Overfitting and underfitting\n",
    "Learning how to deal with overfitting is important. Although it is often possible to achieve high accuracy on the training set, what we really want is to develop models that generalize well to a testing set (or data they haven't seen before).\n",
    "\n",
    "The opposite of overfitting is underfitting. Underfitting occurs when there is still room for improvement on the test data. This can happen for a number of reasons: \n",
    "* If the model is not powerful enough,\n",
    "* is over-regularized, or \n",
    "* has simply not been trained long enough. \n",
    "\n",
    "This means the model has not learned the relevant patterns in the training data.\n",
    "\n",
    "If you train for too long though, the model will start to overfit and learn patterns from the training data that don't generalize to the test data. We need to strike a balance. Understanding how to train for an appropriate number of epochs is a useful skill.\n",
    "\n",
    "To prevent overfitting, the best solution is to use more complete training data. The dataset should cover the full range of inputs that the model is expected to handle. Additional data may only be useful if it covers new and interesting cases."
   ]
  },
  {
   "cell_type": "markdown",
   "metadata": {
    "colab_type": "text",
    "id": "pTf8ly9PMzA4"
   },
   "source": [
    "The simplest way to prevent overfitting is to start with a small model: A model with a small number of learnable parameters (which is determined by the number of layers and the number of units per layer). In deep learning, the number of learnable parameters in a model is often referred to as the model's \"capacity\".\n",
    "\n",
    "Intuitively, a model with more parameters will have more \"memorization capacity\" and therefore will be able to easily learn a perfect dictionary-like mapping between training samples and their targets, a mapping without any generalization power, but this would be useless when making predictions on previously unseen data.\n",
    "\n",
    "Always keep this in mind: deep learning models tend to be good at fitting to the training data, but the real challenge is generalization, not fitting.\n",
    "\n",
    "On the other hand, if the network has limited memorization resources, it will not be able to learn the mapping as easily. To minimize its loss, it will have to learn compressed representations that have more predictive power. At the same time, if you make your model too small, it will have difficulty fitting to the training data. There is a balance between \"too much capacity\" and \"not enough capacity\".\n",
    "\n",
    "To find an appropriate model size, it's best to start with relatively few layers and parameters, then begin increasing the size of the layers or adding new layers until you see diminishing returns on the validation loss."
   ]
  }
 ],
 "metadata": {
  "colab": {
   "collapsed_sections": [
    "Mr6BhtgBq45N",
    "pTf8ly9PMzA4"
   ],
   "name": "Exercise_01_Introduction.ipynb",
   "provenance": []
  },
  "kernelspec": {
   "display_name": "ml_env",
   "language": "python",
   "name": "ml_env"
  },
  "language_info": {
   "codemirror_mode": {
    "name": "ipython",
    "version": 3
   },
   "file_extension": ".py",
   "mimetype": "text/x-python",
   "name": "python",
   "nbconvert_exporter": "python",
   "pygments_lexer": "ipython3",
   "version": "3.10.4"
  },
  "toc-autonumbering": false,
  "toc-showcode": false,
  "toc-showmarkdowntxt": false
 },
 "nbformat": 4,
 "nbformat_minor": 4
}
