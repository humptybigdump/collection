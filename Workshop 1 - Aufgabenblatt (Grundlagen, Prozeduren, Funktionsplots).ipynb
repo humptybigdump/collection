{
 "cells": [
  {
   "cell_type": "markdown",
   "metadata": {},
   "source": [
    "# Aufgabenblatt zum 1. Python-Workshop\n",
    "\n",
    "Zur Bearbeitung im 1. Python Workshop am 4.11.2021."
   ]
  },
  {
   "cell_type": "markdown",
   "metadata": {},
   "source": [
    "## Vorbereitungen\n",
    "\n",
    "Wenn Sie zum ersten Mal praktisch mit Python arbeiten, führen Sie die Notebooks aus der Vorlesung und der Übung schrittweise aus. Machen Sie sich insbesondere mit Ablaufsteuerung, Porzeduren und dem Erstellen von Plots vertraut. Ändern Sie in den Notebooks einzelne Befehle ab und beobachten Sie die neuen Ergebnisse."
   ]
  },
  {
   "cell_type": "markdown",
   "metadata": {},
   "source": [
    "## Aufgabe 1 (leicht)\n",
    "\n",
    "Schreiben Sie eine Prozedur `arithmean(x,y)`, die für zwei reelle Zahlen \\\\(x\\\\) und \\\\(y\\\\) das arithmetische Mittel \\\\(\\frac{1}{2}(x+y)\\\\) berechnet."
   ]
  },
  {
   "cell_type": "code",
   "execution_count": null,
   "metadata": {},
   "outputs": [],
   "source": []
  },
  {
   "cell_type": "markdown",
   "metadata": {},
   "source": [
    "## Aufgabe 2 (mittel)\n",
    "\n",
    "Schreiben Sie eine Prozedur `geomean(x,y)`, die für zwei reelle Zahlen \\\\(x\\\\) und \\\\(y\\\\) das geometrische Mittel \\\\(\\sqrt{ |xy|}\\\\) berechnet. \n",
    "\n",
    "Verwenden Sie nicht die Betragsfunktion `abs()`, sondern prüfen Sie in der Prozedur das Vorzeichen von \\\\(x\\\\) und \\\\(y\\\\) und ersetzen Sie gegebenenfalls \\\\(x\\\\) durch \\\\(-x\\\\) bzw. \\\\(y\\\\) durch \\\\(-y\\\\)."
   ]
  },
  {
   "cell_type": "code",
   "execution_count": null,
   "metadata": {},
   "outputs": [],
   "source": []
  },
  {
   "cell_type": "markdown",
   "metadata": {},
   "source": [
    "## Aufgabe 3 (mittel)\n",
    "\n",
    "  Schreiben Sie eine Prozedur `myf(x)`, die Funktionswerte zu\n",
    "  \n",
    "  \\\\[  f(x) = e^x-x-2  \\\\]\n",
    "  \n",
    "  berechnet. Berechnen Sie \\\\(f(k)\\\\) für \\\\(k=-2,-1,0,1,2\\\\) und zeichnen Sie den\n",
    "  Graphen der Funktion im Intervall \\\\([-2,2]\\\\)."
   ]
  },
  {
   "cell_type": "code",
   "execution_count": null,
   "metadata": {},
   "outputs": [],
   "source": []
  },
  {
   "cell_type": "code",
   "execution_count": null,
   "metadata": {},
   "outputs": [],
   "source": []
  },
  {
   "cell_type": "markdown",
   "metadata": {},
   "source": [
    "## Aufgabe 4 (schwer)\n",
    "Schreiben Sie ein Python-Programm, das mittels des Newton-Verfahrens eine Nullstelle der Funktion\n",
    "\n",
    "\\\\[g: \\mathbb{R} \\rightarrow \\mathbb{R}, x\\mapsto g(x)=e^{\\frac{1}{2}(x+1)} + \\sin(x) -3\\\\]\n",
    "\n",
    "berechnet. Gehen Sie dazu folgendermaßen vor:\n",
    "\n",
    "a) Schreiben Sie eine Python-Prozedur, die zu einem x-Wert den Funktionswert von \\\\(g\\\\) an der Stelle \\\\(x\\\\) liefert."
   ]
  },
  {
   "cell_type": "code",
   "execution_count": null,
   "metadata": {},
   "outputs": [],
   "source": []
  },
  {
   "cell_type": "code",
   "execution_count": null,
   "metadata": {},
   "outputs": [],
   "source": []
  },
  {
   "cell_type": "markdown",
   "metadata": {},
   "source": [
    "b) Berechnen Sie (von Hand) die Ableitung \\\\(g'\\\\) von \\\\(g\\\\) und schreiben Sie anschließend eine Python-Prozedur, die zu einem x-Wert den Wert der Ableitung von \\\\(g\\\\) an der Stelle \\\\(x\\\\) liefert."
   ]
  },
  {
   "cell_type": "code",
   "execution_count": null,
   "metadata": {},
   "outputs": [],
   "source": []
  },
  {
   "cell_type": "markdown",
   "metadata": {},
   "source": [
    "c) Schreiben Sie eine Python-Prozdeur, die zu einer Funktion \\\\(g\\\\) sowie deren Ableitung \\\\(g'\\\\) und zu einem vorgegebenen Startwert \\\\(x_0\\\\) das Newton-Verfahren zur Berechnung einer Nullstelle \\\\(\\xi\\\\) von \\\\(g\\\\) durchführt. Dabei sollen in der Prozedur die ersten 10 Iterierten berechnet werden. Die Funktionen \\\\(g\\\\) und \\\\(g'\\\\) sowie der Wert \\\\(x_0\\\\) sollen als Eingabeparameter der Prozedur übergeben werden. \n",
    "\n",
    "Die Prozedur soll alle berechneten Iterierten auf dem Bildschirm ausgeben und die finale Approximation an eine Nullstelle von \\\\(g\\\\) zurückgeben.\n",
    "\n",
    "Wenden Sie Ihr Newton-Verfahren auf die Funktion \\\\(g\\\\) aus Teil a) und mit Startwert \\\\(x_0=4\\\\) an."
   ]
  },
  {
   "cell_type": "code",
   "execution_count": null,
   "metadata": {},
   "outputs": [],
   "source": []
  },
  {
   "cell_type": "code",
   "execution_count": null,
   "metadata": {
    "scrolled": true
   },
   "outputs": [],
   "source": []
  },
  {
   "cell_type": "markdown",
   "metadata": {},
   "source": [
    "## Zusatz zu Aufgabe 4"
   ]
  },
  {
   "cell_type": "markdown",
   "metadata": {},
   "source": [
    "d) Ändern Sie Ihre Prozedur aus Aufgabe 4c) so, dass so viele Iterationen des Newton Verfahrens durchgeführt werden, bis der Betrag des Funktionswerts der neusten Iterierten den Wert \\\\(10^{-8}\\\\) unterschreitet (d.h. bis der Funktionswert der neusten Iterierten tatsächlich fast Null ist) und der Abstand der beiden neusten Iterierten den Wert \\\\(10^{-6}\\\\) unterschreitet (d.h. bis zwischen den Iterierten fast keine Änderung mehr vorliegt). "
   ]
  },
  {
   "cell_type": "code",
   "execution_count": null,
   "metadata": {},
   "outputs": [],
   "source": []
  },
  {
   "cell_type": "code",
   "execution_count": null,
   "metadata": {},
   "outputs": [],
   "source": []
  },
  {
   "cell_type": "markdown",
   "metadata": {},
   "source": [
    "e) Überprüfen Sie Ihr Ergebnis, indem Sie die Funktion \\\\(g\\\\)  sowie die gefundene Approximation an eine Nullstelle mit zugehörigem Funktionswert in einen gemeinsamen Plot einzeichnen."
   ]
  },
  {
   "cell_type": "code",
   "execution_count": null,
   "metadata": {
    "scrolled": true
   },
   "outputs": [],
   "source": []
  },
  {
   "cell_type": "code",
   "execution_count": null,
   "metadata": {},
   "outputs": [],
   "source": []
  }
 ],
 "metadata": {
  "kernelspec": {
   "display_name": "Python 3",
   "language": "python",
   "name": "python3"
  },
  "language_info": {
   "codemirror_mode": {
    "name": "ipython",
    "version": 3
   },
   "file_extension": ".py",
   "mimetype": "text/x-python",
   "name": "python",
   "nbconvert_exporter": "python",
   "pygments_lexer": "ipython3",
   "version": "3.8.3"
  }
 },
 "nbformat": 4,
 "nbformat_minor": 4
}
