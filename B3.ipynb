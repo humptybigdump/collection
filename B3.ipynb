{
 "cells": [
  {
   "cell_type": "markdown",
   "metadata": {},
   "source": [
    "# Programmieraufgaben zur 3. Abgabeübung"
   ]
  },
  {
   "cell_type": "code",
   "execution_count": null,
   "metadata": {},
   "outputs": [],
   "source": [
    "import numpy as np"
   ]
  },
  {
   "cell_type": "markdown",
   "metadata": {},
   "source": [
    "## Aufgabenteil c)"
   ]
  },
  {
   "cell_type": "markdown",
   "metadata": {},
   "source": [
    "Implementieren Sie eine Funktion, die geeignete Input-Parameter für das Bisektionsverfahren bestimmt. Die Funktion muss lediglich für univariate Funktionen mit den Eigenschaften von $\\theta$ aus dieser Aufgabe funktionieren."
   ]
  },
  {
   "cell_type": "code",
   "execution_count": null,
   "metadata": {},
   "outputs": [],
   "source": [
    "def get_l_and_u(theta):\n",
    "    \n",
    "    \"\"\" Get valid input arguments for bisectionmethod\n",
    "    \n",
    "    Input\n",
    "    ----------\n",
    "    theta: callable\n",
    "        univariate monotone function \n",
    "            Input: float, \n",
    "            Output: float\n",
    "            \n",
    "    Output\n",
    "    -------\n",
    "    l: float\n",
    "    u: float\n",
    "    \n",
    "    \"\"\"\n",
    "\n",
    "    ..."
   ]
  },
  {
   "cell_type": "markdown",
   "metadata": {},
   "source": [
    "Begründen Sie, weswegen Ihre Methode gültige Parameter $l$ und $u$ liefert:\n",
    "\n",
    "<i> Schreiben Sie hier... </i>  "
   ]
  },
  {
   "cell_type": "markdown",
   "metadata": {},
   "source": [
    "## Aufgabenteil d)"
   ]
  },
  {
   "cell_type": "markdown",
   "metadata": {},
   "source": [
    "Implementieren Sie hier das Bisektionsverfahren, mit dem die Nullstelle von $\\theta$ berechnet wird. Nutzen Sie die Vorlage vom Übungsblatt."
   ]
  },
  {
   "cell_type": "code",
   "execution_count": null,
   "metadata": {},
   "outputs": [],
   "source": [
    "def bisectionmethod(f, l, u, eps):\n",
    "    \n",
    "    \"\"\" Bisectionmethod \n",
    "    \n",
    "    Input\n",
    "    ----------\n",
    "    theta: callable\n",
    "        univariate function\n",
    "            Input: float, \n",
    "            Output: float\n",
    "    l: float\n",
    "    u: float\n",
    "    eps: float\n",
    "            \n",
    "    Output\n",
    "    -------\n",
    "    lam: float\n",
    "        eps-approximation of theta's root \n",
    "    \n",
    "    \"\"\"\n",
    "    ..."
   ]
  },
  {
   "cell_type": "markdown",
   "metadata": {},
   "source": [
    "Testen Sie das Bisektionsverfahren, indem Sie die eindeutige Nullstelle von $f(x)= \\sqrt{x}-9$ auf $\\left[ 0,\\infty \\right)$ mit einer Genauigkeit von $10^{-7}$ approximieren."
   ]
  },
  {
   "cell_type": "code",
   "execution_count": null,
   "metadata": {},
   "outputs": [],
   "source": [
    "..."
   ]
  },
  {
   "cell_type": "markdown",
   "metadata": {},
   "source": [
    "Implementieren Sie nun ein Lösungsverfahren für $P$, dass den globalen Minimalpunkt approximiert. Binden Sie das Bisektionsverfahren an passender Stelle ein. Beachten Sie, dass die Restriktion im globalen Minimalpunkt auch inaktiv sein kann. Definieren Sie $\\theta$ als lambda-Funktion innerhalb der Methode."
   ]
  },
  {
   "cell_type": "code",
   "execution_count": null,
   "metadata": {},
   "outputs": [],
   "source": [
    "def solve_P(Q, b, alpha, eps):\n",
    "    \"\"\"\"    \n",
    "    Input\n",
    "    ----------\n",
    "    Problem-data of P \n",
    "        Q: (n,n)-array\n",
    "        b: (,n)-vector\n",
    "        alpha: float\n",
    "    eps: float \n",
    "            \n",
    "    Output\n",
    "    -------\n",
    "    x_opt: (,n)-vector\n",
    "        approx. global optimum of P\n",
    "    is_boundary_point: bool\n",
    "        flag giving information if x_opt is boundary point\n",
    "    \n",
    "    \"\"\"\n",
    "    ..."
   ]
  },
  {
   "cell_type": "markdown",
   "metadata": {},
   "source": [
    "## Aufgabenteil e)"
   ]
  },
  {
   "cell_type": "markdown",
   "metadata": {},
   "source": [
    "Überführen Sie das Optimierungsproblem $CLS$ in die Struktur von $P$. Lösen Sie es mit der oben implementierten Methode für die beiden vorgegebenen $t$-Parameter und und geben Sie die Ergebnisse aus."
   ]
  },
  {
   "cell_type": "code",
   "execution_count": null,
   "metadata": {},
   "outputs": [],
   "source": [
    "..."
   ]
  }
 ],
 "metadata": {
  "kernelspec": {
   "display_name": "Python 3",
   "language": "python",
   "name": "python3"
  },
  "language_info": {
   "codemirror_mode": {
    "name": "ipython",
    "version": 3
   },
   "file_extension": ".py",
   "mimetype": "text/x-python",
   "name": "python",
   "nbconvert_exporter": "python",
   "pygments_lexer": "ipython3",
   "version": "3.8.5"
  }
 },
 "nbformat": 4,
 "nbformat_minor": 4
}
