{
 "cells": [
  {
   "cell_type": "markdown",
   "metadata": {},
   "source": [
    "# Geospatial Data Analysis I \n",
    "\n",
    "## Data and Variables - Exercise"
   ]
  },
  {
   "cell_type": "markdown",
   "metadata": {},
   "source": [
    "### Exercise 1\n",
    "\n",
    "#### Loops and if-else conditions\n",
    "\n",
    "- Create two lists with 5 elements each. The first should contain names of rocks, the second minerals contained in the former. Make sure all three classes of rock (magmatic, metamorphic and sedimentary) are represented. \n",
    "\n",
    "> rocks = [\"granite\", \"basalt\", ...]\n",
    "\n",
    "> minerals = [\"feldspar\", \"olivine\", ...]\n",
    "\n",
    "- then use a for-loop to create output messages for each rock-mineral pair. For example: \n",
    "\n",
    "> \"Granite contains feldspar.\" and so on. \n",
    "\n",
    "- hint: to set up the enumerator you can use the functions *range()* and the *len()* command. "
   ]
  },
  {
   "cell_type": "code",
   "execution_count": null,
   "metadata": {},
   "outputs": [],
   "source": [
    "# [1]\n"
   ]
  },
  {
   "cell_type": "markdown",
   "metadata": {},
   "source": [
    "- now extend the for-loop from above with an if-else statement regarding the class of rock, and adapt the output message accordingly. \n",
    "\n",
    "- in case you are unsure about the required structure of the code, make some notes in \"pseudocode\" first. That is a sequence of functionalities, but without using exact Python syntax from the beginning, e.g:   \n",
    "\n",
    "> if rock == granite or basalt, \n",
    "\n",
    "> then message == \"rock X contains mineral X and is an magmatic rock.\"\n",
    "\n",
    "> if rock == ... "
   ]
  },
  {
   "cell_type": "code",
   "execution_count": null,
   "metadata": {},
   "outputs": [],
   "source": [
    "[2]\n",
    "\n"
   ]
  },
  {
   "cell_type": "markdown",
   "metadata": {},
   "source": [
    "### Exercise 2\n",
    "\n",
    "#### Creating NumPy Objects\n",
    "\n",
    "- use *np.arange()* to create a continuous sequence of numbers from 0 to 100, with an increment of 4."
   ]
  },
  {
   "cell_type": "code",
   "execution_count": null,
   "metadata": {},
   "outputs": [],
   "source": [
    "# [3]\n",
    "\n"
   ]
  },
  {
   "cell_type": "markdown",
   "metadata": {},
   "source": [
    "- create a matrix with 10 by 20 entries, which follow a continuous sequence starting with 0, by combining *np.arange()* and *np.reshape()*"
   ]
  },
  {
   "cell_type": "code",
   "execution_count": null,
   "metadata": {},
   "outputs": [],
   "source": [
    "# [4]\n"
   ]
  },
  {
   "cell_type": "markdown",
   "metadata": {},
   "source": [
    "- check the number of elements (size), dimensions (shape) and data type (type) of both variables from above"
   ]
  },
  {
   "cell_type": "code",
   "execution_count": null,
   "metadata": {},
   "outputs": [],
   "source": [
    "# [5]\n"
   ]
  },
  {
   "cell_type": "markdown",
   "metadata": {},
   "source": [
    "### Exercise 3\n",
    "\n",
    "#### Indices of NumPy objects\n",
    "\n",
    "- create a vector with 1000 random numbers with the help of *np.random.rand()*. In addition, create a second vector that contains every third value of the first vector. "
   ]
  },
  {
   "cell_type": "code",
   "execution_count": null,
   "metadata": {},
   "outputs": [],
   "source": [
    "# [6]\n"
   ]
  },
  {
   "cell_type": "markdown",
   "metadata": {},
   "source": [
    "- convert the first vector from above into a matrix with 20 lines and 50 columns using *reshape()*, and check the dimensions (*shape*) of the newly created matrix."
   ]
  },
  {
   "cell_type": "code",
   "execution_count": null,
   "metadata": {},
   "outputs": [],
   "source": [
    "# [7]\n",
    "\n"
   ]
  },
  {
   "cell_type": "markdown",
   "metadata": {},
   "source": [
    "- from this vector print the values in columns 5 to 8 of the third line, and save the entire columns 4 and 5 into a new vector. "
   ]
  },
  {
   "cell_type": "code",
   "execution_count": null,
   "metadata": {},
   "outputs": [],
   "source": [
    "# [8]\n",
    "\n"
   ]
  },
  {
   "cell_type": "markdown",
   "metadata": {},
   "source": [
    "### Exercise 4\n",
    "\n",
    "#### Other functionalities in NumPy\n",
    "\n",
    "- create an array with 1000 random integer numbers between 0 and 100. Look for a purpose-built function in the NumPy documentation to do so: https://numpy.org/doc/stable/reference/random/legacy.html "
   ]
  },
  {
   "cell_type": "code",
   "execution_count": null,
   "metadata": {},
   "outputs": [],
   "source": [
    "#[9]\n"
   ]
  },
  {
   "cell_type": "markdown",
   "metadata": {},
   "source": [
    "- save the 5 highest numbers from this array into a new array. Use the *sort()* function and appropriate indices. "
   ]
  },
  {
   "cell_type": "code",
   "execution_count": null,
   "metadata": {},
   "outputs": [],
   "source": [
    "#[10]\n"
   ]
  },
  {
   "cell_type": "markdown",
   "metadata": {},
   "source": [
    "### Exercise 5\n",
    "#### Your own function\n",
    "- Write a function with the name *hiking()*, with input parameters for the <font color=\"green\">covered distance</font>, the <font color=\"green\">time spent</font> and the <font color=\"green\">location of the hike</font>. \n",
    "\n",
    "    The function is supposed to print a message with the average speed and the location. For example:\n",
    " > \" For our hike in Zermatt we had an average speed of 3.5 km/h!\" \n",
    " \n",
    "\n",
    "- If the speed is lower than 2 km/h there should be an additional message, with a note that the hike was apparently quite exhausting or the route quite steep. Use an if-else statement to implement this. "
   ]
  },
  {
   "cell_type": "code",
   "execution_count": null,
   "metadata": {},
   "outputs": [],
   "source": [
    "#[11]\n"
   ]
  },
  {
   "cell_type": "markdown",
   "metadata": {},
   "source": [
    "## END"
   ]
  }
 ],
 "metadata": {
  "kernelspec": {
   "display_name": "Python 3.8.8 ('base')",
   "language": "python",
   "name": "python3"
  },
  "language_info": {
   "codemirror_mode": {
    "name": "ipython",
    "version": 3
   },
   "file_extension": ".py",
   "mimetype": "text/x-python",
   "name": "python",
   "nbconvert_exporter": "python",
   "pygments_lexer": "ipython3",
   "version": "3.11.5"
  },
  "vscode": {
   "interpreter": {
    "hash": "e4cce46d6be9934fbd27f9ca0432556941ea5bdf741d4f4d64c6cd7f8dfa8fba"
   }
  }
 },
 "nbformat": 4,
 "nbformat_minor": 4
}
