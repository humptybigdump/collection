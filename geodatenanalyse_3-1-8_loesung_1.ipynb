{
 "cells": [
  {
   "cell_type": "markdown",
   "id": "listed-washer",
   "metadata": {},
   "source": [
    "# Geodatenanalyse 1\n",
    "\n",
    "## Tag 3 / Block 1 - Lösung zur Übung 8"
   ]
  },
  {
   "cell_type": "markdown",
   "id": "quantitative-location",
   "metadata": {},
   "source": [
    "### Aufgabe 1\n",
    "Wir möchten uns den Datensatz des NASA Exoplanten Archives, den wir in der vorherigen Übung bereits kennen gelernt haben, jetzt noch etwas genauer anschauen.\n",
    "\n",
    "Zusätzlich zu den allgemeinen Informationen zu Planetennamen, Anzahl der Sterne und Planeten im System sowie Entdeckungs-Methode, -Jahr und -Einrichtung, die uns bereits aus der .xlsx Datei:\n",
    "\n",
    " > *NASA_exoplanets.xlsx*\n",
    " \n",
    "bekannt sind, gibt es noch eine Vielzahl weiterer Parameter die erhoben wurden. Einige davon finden sich in mehreren .csv Dateien im Übungsordner:\n",
    "\n",
    "**Planeten Parameter**\n",
    "- planet_part1.csv\n",
    "- planet_part2.csv\n",
    "\n",
    "**System Daten**\n",
    "- system_data.csv\n",
    "\n",
    "**Stellar Daten**\n",
    "- stellar_data.csv"
   ]
  },
  {
   "cell_type": "markdown",
   "id": "deluxe-increase",
   "metadata": {},
   "source": [
    "#### 1.1 Daten zusammenführen\n",
    "- Lade die NASA_exoplanten Datei und alle zusätzlichen tabellarischen Daten aus den <font color=\"green\">csv. Dateien</font> jeweils in einen Pandas **DataFrame**.\n",
    "- Schaue dir die neuen Datensätze genau an. Gibt es Gemeinsamkeiten, wie zum Beispiel eine Kennung? Wie lassen sie sich kombinieren? \n",
    "- Verwende die <font color=\"red\">concat()</font> und <font color=\"red\">merge()</font> Methoden um alle Daten in einem **DataFrame** zusammenzuführen.\n",
    "- Wieviele Spalten und Zeilen hat der komplette **DataFrame**?"
   ]
  },
  {
   "cell_type": "code",
   "execution_count": 137,
   "id": "lonely-basic",
   "metadata": {},
   "outputs": [],
   "source": [
    "# Importiere Pandas\n",
    "import pandas as pd"
   ]
  },
  {
   "cell_type": "code",
   "execution_count": 138,
   "id": "agricultural-karaoke",
   "metadata": {},
   "outputs": [],
   "source": [
    "## Laden der Datensätze\n",
    "# Exceltabelle\n",
    "exoplanets = pd.read_excel(\"example_data/NASA_exoplanet_UE/NASA_exoplanets.xlsx\")\n",
    "# Planeten Daten Teil 1\n",
    "planet_data_1 = pd.read_csv(\"example_data/NASA_exoplanet_UE/planet_part1.csv\")\n",
    "# Planeten Daten Teil 2\n",
    "planet_data_2 = pd.read_csv(\"example_data/NASA_exoplanet_UE/planet_part2.csv\")    \n",
    "# System Daten\n",
    "system_data = pd.read_csv(\"example_data/NASA_exoplanet_UE/system_data.csv\")\n",
    "# Stellar Daten\n",
    "stellar_data = pd.read_csv(\"example_data/NASA_exoplanet_UE/stellar_data.csv\")"
   ]
  },
  {
   "cell_type": "code",
   "execution_count": 139,
   "id": "later-aspect",
   "metadata": {},
   "outputs": [
    {
     "data": {
      "text/html": [
       "<div>\n",
       "<style scoped>\n",
       "    .dataframe tbody tr th:only-of-type {\n",
       "        vertical-align: middle;\n",
       "    }\n",
       "\n",
       "    .dataframe tbody tr th {\n",
       "        vertical-align: top;\n",
       "    }\n",
       "\n",
       "    .dataframe thead th {\n",
       "        text-align: right;\n",
       "    }\n",
       "</style>\n",
       "<table border=\"1\" class=\"dataframe\">\n",
       "  <thead>\n",
       "    <tr style=\"text-align: right;\">\n",
       "      <th></th>\n",
       "      <th>pl_name</th>\n",
       "      <th>orbital_period</th>\n",
       "      <th>radius_earth</th>\n",
       "      <th>radius_jupiter</th>\n",
       "      <th>mass_earth</th>\n",
       "      <th>mass_jupiter</th>\n",
       "      <th>equi_temp</th>\n",
       "    </tr>\n",
       "  </thead>\n",
       "  <tbody>\n",
       "    <tr>\n",
       "      <th>0</th>\n",
       "      <td>GJ 411 b</td>\n",
       "      <td>12.95</td>\n",
       "      <td>1.54</td>\n",
       "      <td>0.14</td>\n",
       "      <td>2.99</td>\n",
       "      <td>0.01</td>\n",
       "      <td>350.0</td>\n",
       "    </tr>\n",
       "    <tr>\n",
       "      <th>1</th>\n",
       "      <td>GJ 422 b</td>\n",
       "      <td>20.13</td>\n",
       "      <td>3.33</td>\n",
       "      <td>0.30</td>\n",
       "      <td>11.07</td>\n",
       "      <td>0.03</td>\n",
       "      <td>NaN</td>\n",
       "    </tr>\n",
       "    <tr>\n",
       "      <th>2</th>\n",
       "      <td>GJ 4276 b</td>\n",
       "      <td>13.35</td>\n",
       "      <td>4.22</td>\n",
       "      <td>0.38</td>\n",
       "      <td>16.57</td>\n",
       "      <td>0.05</td>\n",
       "      <td>NaN</td>\n",
       "    </tr>\n",
       "  </tbody>\n",
       "</table>\n",
       "</div>"
      ],
      "text/plain": [
       "     pl_name  orbital_period  radius_earth  radius_jupiter  mass_earth  \\\n",
       "0   GJ 411 b           12.95          1.54            0.14        2.99   \n",
       "1   GJ 422 b           20.13          3.33            0.30       11.07   \n",
       "2  GJ 4276 b           13.35          4.22            0.38       16.57   \n",
       "\n",
       "   mass_jupiter  equi_temp  \n",
       "0          0.01      350.0  \n",
       "1          0.03        NaN  \n",
       "2          0.05        NaN  "
      ]
     },
     "execution_count": 139,
     "metadata": {},
     "output_type": "execute_result"
    }
   ],
   "source": [
    "## Daten untersuchen mit Methoden wie .head(), .tail(), .info(), .shape().\n",
    "planet_data_1.head(3)\n",
    "planet_data_2.head(3)\n",
    "# ..."
   ]
  },
  {
   "cell_type": "code",
   "execution_count": 140,
   "id": "stock-briefs",
   "metadata": {},
   "outputs": [
    {
     "name": "stdout",
     "output_type": "stream",
     "text": [
      "(4352, 7)\n"
     ]
    },
    {
     "data": {
      "text/html": [
       "<div>\n",
       "<style scoped>\n",
       "    .dataframe tbody tr th:only-of-type {\n",
       "        vertical-align: middle;\n",
       "    }\n",
       "\n",
       "    .dataframe tbody tr th {\n",
       "        vertical-align: top;\n",
       "    }\n",
       "\n",
       "    .dataframe thead th {\n",
       "        text-align: right;\n",
       "    }\n",
       "</style>\n",
       "<table border=\"1\" class=\"dataframe\">\n",
       "  <thead>\n",
       "    <tr style=\"text-align: right;\">\n",
       "      <th></th>\n",
       "      <th>pl_name</th>\n",
       "      <th>number_stars</th>\n",
       "      <th>number_planets</th>\n",
       "      <th>discoverymethod</th>\n",
       "      <th>disc_year</th>\n",
       "      <th>disc_facility</th>\n",
       "      <th>disc_pub_date</th>\n",
       "      <th>controversial</th>\n",
       "      <th>orbital_period</th>\n",
       "      <th>radius_earth</th>\n",
       "      <th>...</th>\n",
       "      <th>mass_earth</th>\n",
       "      <th>mass_jupiter</th>\n",
       "      <th>equi_temp</th>\n",
       "      <th>ra</th>\n",
       "      <th>dec</th>\n",
       "      <th>distance</th>\n",
       "      <th>stellar_spectype</th>\n",
       "      <th>st_radius_sun</th>\n",
       "      <th>st_mass_sun</th>\n",
       "      <th>stellar_age</th>\n",
       "    </tr>\n",
       "  </thead>\n",
       "  <tbody>\n",
       "    <tr>\n",
       "      <th>0</th>\n",
       "      <td>11 Com b</td>\n",
       "      <td>2</td>\n",
       "      <td>1</td>\n",
       "      <td>Radial Velocity</td>\n",
       "      <td>2007</td>\n",
       "      <td>Xinglong Station</td>\n",
       "      <td>2008-01</td>\n",
       "      <td>0</td>\n",
       "      <td>326.03</td>\n",
       "      <td>12.1</td>\n",
       "      <td>...</td>\n",
       "      <td>6165.60</td>\n",
       "      <td>19.40</td>\n",
       "      <td>NaN</td>\n",
       "      <td>185.18</td>\n",
       "      <td>17.79</td>\n",
       "      <td>93.18</td>\n",
       "      <td>G8 III</td>\n",
       "      <td>19.00</td>\n",
       "      <td>2.70</td>\n",
       "      <td>NaN</td>\n",
       "    </tr>\n",
       "    <tr>\n",
       "      <th>1</th>\n",
       "      <td>11 UMi b</td>\n",
       "      <td>1</td>\n",
       "      <td>1</td>\n",
       "      <td>Radial Velocity</td>\n",
       "      <td>2009</td>\n",
       "      <td>Thueringer Landessternwarte Tautenburg</td>\n",
       "      <td>2009-10</td>\n",
       "      <td>0</td>\n",
       "      <td>516.22</td>\n",
       "      <td>12.3</td>\n",
       "      <td>...</td>\n",
       "      <td>4684.81</td>\n",
       "      <td>14.74</td>\n",
       "      <td>NaN</td>\n",
       "      <td>229.27</td>\n",
       "      <td>71.82</td>\n",
       "      <td>125.32</td>\n",
       "      <td>K4 III</td>\n",
       "      <td>29.79</td>\n",
       "      <td>2.78</td>\n",
       "      <td>1.56</td>\n",
       "    </tr>\n",
       "    <tr>\n",
       "      <th>2</th>\n",
       "      <td>14 And b</td>\n",
       "      <td>1</td>\n",
       "      <td>1</td>\n",
       "      <td>Radial Velocity</td>\n",
       "      <td>2008</td>\n",
       "      <td>Okayama Astrophysical Observatory</td>\n",
       "      <td>2008-12</td>\n",
       "      <td>0</td>\n",
       "      <td>185.84</td>\n",
       "      <td>12.9</td>\n",
       "      <td>...</td>\n",
       "      <td>1525.50</td>\n",
       "      <td>4.80</td>\n",
       "      <td>NaN</td>\n",
       "      <td>352.82</td>\n",
       "      <td>39.24</td>\n",
       "      <td>75.44</td>\n",
       "      <td>K0 III</td>\n",
       "      <td>11.00</td>\n",
       "      <td>2.20</td>\n",
       "      <td>NaN</td>\n",
       "    </tr>\n",
       "    <tr>\n",
       "      <th>3</th>\n",
       "      <td>14 Her b</td>\n",
       "      <td>1</td>\n",
       "      <td>1</td>\n",
       "      <td>Radial Velocity</td>\n",
       "      <td>2002</td>\n",
       "      <td>W. M. Keck Observatory</td>\n",
       "      <td>2003-01</td>\n",
       "      <td>0</td>\n",
       "      <td>1773.40</td>\n",
       "      <td>12.9</td>\n",
       "      <td>...</td>\n",
       "      <td>1481.09</td>\n",
       "      <td>4.66</td>\n",
       "      <td>NaN</td>\n",
       "      <td>242.60</td>\n",
       "      <td>43.82</td>\n",
       "      <td>17.93</td>\n",
       "      <td>K0 V</td>\n",
       "      <td>0.93</td>\n",
       "      <td>0.90</td>\n",
       "      <td>3.90</td>\n",
       "    </tr>\n",
       "    <tr>\n",
       "      <th>4</th>\n",
       "      <td>16 Cyg B b</td>\n",
       "      <td>3</td>\n",
       "      <td>1</td>\n",
       "      <td>Radial Velocity</td>\n",
       "      <td>1996</td>\n",
       "      <td>Multiple Observatories</td>\n",
       "      <td>1997-07</td>\n",
       "      <td>0</td>\n",
       "      <td>798.50</td>\n",
       "      <td>13.5</td>\n",
       "      <td>...</td>\n",
       "      <td>565.74</td>\n",
       "      <td>1.78</td>\n",
       "      <td>NaN</td>\n",
       "      <td>295.47</td>\n",
       "      <td>50.52</td>\n",
       "      <td>21.14</td>\n",
       "      <td>G2.5 V</td>\n",
       "      <td>1.13</td>\n",
       "      <td>1.08</td>\n",
       "      <td>NaN</td>\n",
       "    </tr>\n",
       "    <tr>\n",
       "      <th>...</th>\n",
       "      <td>...</td>\n",
       "      <td>...</td>\n",
       "      <td>...</td>\n",
       "      <td>...</td>\n",
       "      <td>...</td>\n",
       "      <td>...</td>\n",
       "      <td>...</td>\n",
       "      <td>...</td>\n",
       "      <td>...</td>\n",
       "      <td>...</td>\n",
       "      <td>...</td>\n",
       "      <td>...</td>\n",
       "      <td>...</td>\n",
       "      <td>...</td>\n",
       "      <td>...</td>\n",
       "      <td>...</td>\n",
       "      <td>...</td>\n",
       "      <td>...</td>\n",
       "      <td>...</td>\n",
       "      <td>...</td>\n",
       "      <td>...</td>\n",
       "    </tr>\n",
       "    <tr>\n",
       "      <th>4347</th>\n",
       "      <td>tau Gem b</td>\n",
       "      <td>1</td>\n",
       "      <td>1</td>\n",
       "      <td>Radial Velocity</td>\n",
       "      <td>2013</td>\n",
       "      <td>Lick Observatory</td>\n",
       "      <td>2013-07</td>\n",
       "      <td>0</td>\n",
       "      <td>305.50</td>\n",
       "      <td>12.1</td>\n",
       "      <td>...</td>\n",
       "      <td>6547.00</td>\n",
       "      <td>20.60</td>\n",
       "      <td>NaN</td>\n",
       "      <td>107.78</td>\n",
       "      <td>30.24</td>\n",
       "      <td>112.54</td>\n",
       "      <td>K2 III</td>\n",
       "      <td>26.80</td>\n",
       "      <td>2.30</td>\n",
       "      <td>1.22</td>\n",
       "    </tr>\n",
       "    <tr>\n",
       "      <th>4348</th>\n",
       "      <td>ups And b</td>\n",
       "      <td>2</td>\n",
       "      <td>3</td>\n",
       "      <td>Radial Velocity</td>\n",
       "      <td>1996</td>\n",
       "      <td>Lick Observatory</td>\n",
       "      <td>1997-01</td>\n",
       "      <td>0</td>\n",
       "      <td>4.62</td>\n",
       "      <td>14.0</td>\n",
       "      <td>...</td>\n",
       "      <td>218.53</td>\n",
       "      <td>0.69</td>\n",
       "      <td>NaN</td>\n",
       "      <td>24.20</td>\n",
       "      <td>41.40</td>\n",
       "      <td>13.41</td>\n",
       "      <td>F8 V</td>\n",
       "      <td>1.56</td>\n",
       "      <td>1.30</td>\n",
       "      <td>5.00</td>\n",
       "    </tr>\n",
       "    <tr>\n",
       "      <th>4349</th>\n",
       "      <td>ups And c</td>\n",
       "      <td>2</td>\n",
       "      <td>3</td>\n",
       "      <td>Radial Velocity</td>\n",
       "      <td>1999</td>\n",
       "      <td>Multiple Observatories</td>\n",
       "      <td>1999-12</td>\n",
       "      <td>0</td>\n",
       "      <td>241.26</td>\n",
       "      <td>13.4</td>\n",
       "      <td>...</td>\n",
       "      <td>629.60</td>\n",
       "      <td>1.98</td>\n",
       "      <td>NaN</td>\n",
       "      <td>24.20</td>\n",
       "      <td>41.40</td>\n",
       "      <td>13.41</td>\n",
       "      <td>F8 V</td>\n",
       "      <td>1.56</td>\n",
       "      <td>1.30</td>\n",
       "      <td>5.00</td>\n",
       "    </tr>\n",
       "    <tr>\n",
       "      <th>4350</th>\n",
       "      <td>ups And d</td>\n",
       "      <td>2</td>\n",
       "      <td>3</td>\n",
       "      <td>Radial Velocity</td>\n",
       "      <td>1999</td>\n",
       "      <td>Multiple Observatories</td>\n",
       "      <td>1999-12</td>\n",
       "      <td>0</td>\n",
       "      <td>1276.46</td>\n",
       "      <td>13.0</td>\n",
       "      <td>...</td>\n",
       "      <td>1313.22</td>\n",
       "      <td>4.13</td>\n",
       "      <td>NaN</td>\n",
       "      <td>24.20</td>\n",
       "      <td>41.40</td>\n",
       "      <td>13.41</td>\n",
       "      <td>F8 V</td>\n",
       "      <td>1.56</td>\n",
       "      <td>1.30</td>\n",
       "      <td>5.00</td>\n",
       "    </tr>\n",
       "    <tr>\n",
       "      <th>4351</th>\n",
       "      <td>xi Aql b</td>\n",
       "      <td>1</td>\n",
       "      <td>1</td>\n",
       "      <td>Radial Velocity</td>\n",
       "      <td>2007</td>\n",
       "      <td>Okayama Astrophysical Observatory</td>\n",
       "      <td>2008-06</td>\n",
       "      <td>0</td>\n",
       "      <td>136.75</td>\n",
       "      <td>13.2</td>\n",
       "      <td>...</td>\n",
       "      <td>890.00</td>\n",
       "      <td>2.80</td>\n",
       "      <td>NaN</td>\n",
       "      <td>298.56</td>\n",
       "      <td>8.46</td>\n",
       "      <td>56.19</td>\n",
       "      <td>NaN</td>\n",
       "      <td>12.00</td>\n",
       "      <td>2.20</td>\n",
       "      <td>NaN</td>\n",
       "    </tr>\n",
       "  </tbody>\n",
       "</table>\n",
       "<p>4352 rows × 21 columns</p>\n",
       "</div>"
      ],
      "text/plain": [
       "         pl_name  number_stars  number_planets  discoverymethod  disc_year  \\\n",
       "0       11 Com b             2               1  Radial Velocity       2007   \n",
       "1       11 UMi b             1               1  Radial Velocity       2009   \n",
       "2       14 And b             1               1  Radial Velocity       2008   \n",
       "3       14 Her b             1               1  Radial Velocity       2002   \n",
       "4     16 Cyg B b             3               1  Radial Velocity       1996   \n",
       "...          ...           ...             ...              ...        ...   \n",
       "4347   tau Gem b             1               1  Radial Velocity       2013   \n",
       "4348   ups And b             2               3  Radial Velocity       1996   \n",
       "4349   ups And c             2               3  Radial Velocity       1999   \n",
       "4350   ups And d             2               3  Radial Velocity       1999   \n",
       "4351    xi Aql b             1               1  Radial Velocity       2007   \n",
       "\n",
       "                               disc_facility disc_pub_date  controversial  \\\n",
       "0                           Xinglong Station       2008-01              0   \n",
       "1     Thueringer Landessternwarte Tautenburg       2009-10              0   \n",
       "2          Okayama Astrophysical Observatory       2008-12              0   \n",
       "3                     W. M. Keck Observatory       2003-01              0   \n",
       "4                     Multiple Observatories       1997-07              0   \n",
       "...                                      ...           ...            ...   \n",
       "4347                        Lick Observatory       2013-07              0   \n",
       "4348                        Lick Observatory       1997-01              0   \n",
       "4349                  Multiple Observatories       1999-12              0   \n",
       "4350                  Multiple Observatories       1999-12              0   \n",
       "4351       Okayama Astrophysical Observatory       2008-06              0   \n",
       "\n",
       "      orbital_period  radius_earth  ...  mass_earth  mass_jupiter  equi_temp  \\\n",
       "0             326.03          12.1  ...     6165.60         19.40        NaN   \n",
       "1             516.22          12.3  ...     4684.81         14.74        NaN   \n",
       "2             185.84          12.9  ...     1525.50          4.80        NaN   \n",
       "3            1773.40          12.9  ...     1481.09          4.66        NaN   \n",
       "4             798.50          13.5  ...      565.74          1.78        NaN   \n",
       "...              ...           ...  ...         ...           ...        ...   \n",
       "4347          305.50          12.1  ...     6547.00         20.60        NaN   \n",
       "4348            4.62          14.0  ...      218.53          0.69        NaN   \n",
       "4349          241.26          13.4  ...      629.60          1.98        NaN   \n",
       "4350         1276.46          13.0  ...     1313.22          4.13        NaN   \n",
       "4351          136.75          13.2  ...      890.00          2.80        NaN   \n",
       "\n",
       "          ra    dec  distance  stellar_spectype st_radius_sun  st_mass_sun  \\\n",
       "0     185.18  17.79     93.18            G8 III         19.00         2.70   \n",
       "1     229.27  71.82    125.32            K4 III         29.79         2.78   \n",
       "2     352.82  39.24     75.44            K0 III         11.00         2.20   \n",
       "3     242.60  43.82     17.93              K0 V          0.93         0.90   \n",
       "4     295.47  50.52     21.14            G2.5 V          1.13         1.08   \n",
       "...      ...    ...       ...               ...           ...          ...   \n",
       "4347  107.78  30.24    112.54            K2 III         26.80         2.30   \n",
       "4348   24.20  41.40     13.41              F8 V          1.56         1.30   \n",
       "4349   24.20  41.40     13.41              F8 V          1.56         1.30   \n",
       "4350   24.20  41.40     13.41              F8 V          1.56         1.30   \n",
       "4351  298.56   8.46     56.19               NaN         12.00         2.20   \n",
       "\n",
       "      stellar_age  \n",
       "0             NaN  \n",
       "1            1.56  \n",
       "2             NaN  \n",
       "3            3.90  \n",
       "4             NaN  \n",
       "...           ...  \n",
       "4347         1.22  \n",
       "4348         5.00  \n",
       "4349         5.00  \n",
       "4350         5.00  \n",
       "4351          NaN  \n",
       "\n",
       "[4352 rows x 21 columns]"
      ]
     },
     "execution_count": 140,
     "metadata": {},
     "output_type": "execute_result"
    }
   ],
   "source": [
    "# Hänge die beiden Planetendatensätze mit Hilfe von Concat aneinander\n",
    "planet_data = pd.concat([planet_data_1,planet_data_2],axis=00)\n",
    "print(planet_data.shape)\n",
    "\n",
    "\"\"\"\n",
    "DataFrames können nacheinander einzeln via pd.merge hinzugefügt werden. \n",
    "Alternative gibt es auch folgende Lösung:\n",
    "\n",
    "https://stackoverflow.com/questions/44327999/python-pandas-merge-multiple-dataframes\n",
    "\"\"\"\n",
    "from functools import reduce\n",
    "\n",
    "# Sammle alle Dataframes in einer Liste\n",
    "dfs = [exoplanets, planet_data, system_data, stellar_data]\n",
    "\n",
    "# Füge alle Daten anhand der gemeinsamen Kennung \"pl_name\" zusammen\n",
    "exoplanets = reduce(lambda  left,right: pd.merge(left,right,on=['pl_name'],\n",
    "                                            how='outer'), dfs)\n",
    "\n",
    "exoplanets"
   ]
  },
  {
   "cell_type": "code",
   "execution_count": 141,
   "id": "chubby-violation",
   "metadata": {},
   "outputs": [
    {
     "data": {
      "text/plain": [
       "(4352, 21)"
      ]
     },
     "execution_count": 141,
     "metadata": {},
     "output_type": "execute_result"
    }
   ],
   "source": [
    "exoplanets.shape"
   ]
  },
  {
   "cell_type": "code",
   "execution_count": 142,
   "id": "appointed-survivor",
   "metadata": {},
   "outputs": [
    {
     "name": "stdout",
     "output_type": "stream",
     "text": [
      "<class 'pandas.core.frame.DataFrame'>\n",
      "Int64Index: 4352 entries, 0 to 4351\n",
      "Data columns (total 21 columns):\n",
      " #   Column            Non-Null Count  Dtype  \n",
      "---  ------            --------------  -----  \n",
      " 0   pl_name           4352 non-null   object \n",
      " 1   number_stars      4352 non-null   int64  \n",
      " 2   number_planets    4352 non-null   int64  \n",
      " 3   discoverymethod   4352 non-null   object \n",
      " 4   disc_year         4352 non-null   int64  \n",
      " 5   disc_facility     4352 non-null   object \n",
      " 6   disc_pub_date     4352 non-null   object \n",
      " 7   controversial     4352 non-null   int64  \n",
      " 8   orbital_period    4212 non-null   float64\n",
      " 9   radius_earth      4338 non-null   float64\n",
      " 10  radius_jupiter    4336 non-null   float64\n",
      " 11  mass_earth        4330 non-null   float64\n",
      " 12  mass_jupiter      4330 non-null   float64\n",
      " 13  equi_temp         3242 non-null   float64\n",
      " 14  ra                4352 non-null   float64\n",
      " 15  dec               4352 non-null   float64\n",
      " 16  distance          4347 non-null   float64\n",
      " 17  stellar_spectype  1218 non-null   object \n",
      " 18  st_radius_sun     4021 non-null   float64\n",
      " 19  st_mass_sun       4331 non-null   float64\n",
      " 20  stellar_age       3445 non-null   float64\n",
      "dtypes: float64(12), int64(4), object(5)\n",
      "memory usage: 748.0+ KB\n"
     ]
    }
   ],
   "source": [
    "exoplanets.info()"
   ]
  },
  {
   "cell_type": "markdown",
   "id": "enhanced-logan",
   "metadata": {},
   "source": [
    "### Aufgabe 2\n",
    "#### 2.1 Split-Apply-Combine\n",
    "Nutze die <font color=\"red\">groupby()</font> Methode um verschiedene Statistiken zu berechnen:\n",
    "\n",
    "- Was ist für jede Methode die jeweils maximal gemessene Entfernung eines Exoplaneten?\n",
    "\n",
    "- Wie groß ist die  <font color=\"green\">mittlere</font> <font color=\"peachpuff\">relative Masse der Exoplaneten</font> (im Verhältnis zur Erde) in Abhängigkeit von der <font color=\"darkred\">Anzahl der Sterne</font> und der <font color=\"darkred\">Anzahl Planeten</font> in einem System?\n",
    "\n",
    "#### 2.2 Ergebnis darstellen\n",
    "Erstelle für das Ergebnis zu den mittleren relativen Massen aus der vorherigen Teilaufgabe 2.1 einen Barplot. Stelle die relativen Masse als abhängige Variable dar.\n",
    "\n",
    "**Hinweis:**\n",
    "mit der <font color=\"red\">.unstack(level=0)</font> Methode kannst du aus einer **Series** wieder einen **DataFrame** machen."
   ]
  },
  {
   "cell_type": "code",
   "execution_count": 143,
   "id": "analyzed-attack",
   "metadata": {},
   "outputs": [
    {
     "data": {
      "text/plain": [
       "discoverymethod\n",
       "Astrometry                         20.77\n",
       "Disk Kinematics                   183.86\n",
       "Eclipse Timing Variations        1188.54\n",
       "Imaging                           190.72\n",
       "Microlensing                     8200.00\n",
       "Orbital Brightness Modulation    1672.94\n",
       "Pulsar Timing                    1200.00\n",
       "Pulsation Timing Variations      1382.89\n",
       "Radial Velocity                  1539.71\n",
       "Transit                          8500.00\n",
       "Transit Timing Variations        1027.45\n",
       "Name: distance, dtype: float64"
      ]
     },
     "execution_count": 143,
     "metadata": {},
     "output_type": "execute_result"
    }
   ],
   "source": [
    "# Maximal gemessene Entfernung eines Exoplaneten für jede Methode\n",
    "exoplanets.groupby(\"discoverymethod\")[\"distance\"].max()"
   ]
  },
  {
   "cell_type": "code",
   "execution_count": 154,
   "id": "dense-chest",
   "metadata": {},
   "outputs": [
    {
     "data": {
      "text/plain": [
       "number_stars  number_planets\n",
       "1             1                  652.772351\n",
       "              2                  263.969286\n",
       "              3                   94.510922\n",
       "              4                   95.558922\n",
       "              5                   33.208300\n",
       "              6                   25.863611\n",
       "              7                    0.801429\n",
       "              8                   83.356250\n",
       "2             1                  839.518874\n",
       "              2                  762.295968\n",
       "              3                  194.082143\n",
       "              4                  147.573125\n",
       "              5                  141.881333\n",
       "              6                   11.643333\n",
       "3             1                 1028.214571\n",
       "              2                  418.077500\n",
       "              5                    2.015000\n",
       "4             1                 2280.705000\n",
       "Name: mass_earth, dtype: float64"
      ]
     },
     "execution_count": 154,
     "metadata": {},
     "output_type": "execute_result"
    }
   ],
   "source": [
    "#  Mittlere relative Masse der Exoplaneten in Abhängigkeit der Anzahl Sterne und Planeten in einem System?\n",
    "system_config = exoplanets.groupby([\"number_stars\",\"number_planets\"])[\"mass_earth\"].mean()\n",
    "system_config"
   ]
  },
  {
   "cell_type": "code",
   "execution_count": 172,
   "id": "julian-intention",
   "metadata": {},
   "outputs": [
    {
     "name": "stdout",
     "output_type": "stream",
     "text": [
      "<class 'pandas.core.series.Series'>\n",
      "<class 'pandas.core.frame.DataFrame'>\n"
     ]
    }
   ],
   "source": [
    "# Unstack\n",
    "print(type(system_config))\n",
    "unstack = system_config.unstack(level=0)\n",
    "print(type(unstack))"
   ]
  },
  {
   "cell_type": "code",
   "execution_count": 162,
   "id": "therapeutic-black",
   "metadata": {},
   "outputs": [
    {
     "data": {
      "text/plain": [
       "Text(0, 0.5, 'relative mass to earth')"
      ]
     },
     "execution_count": 162,
     "metadata": {},
     "output_type": "execute_result"
    },
    {
     "data": {
      "image/png": "[encoded data removed]",
      "text/plain": [
       "<Figure size 864x432 with 1 Axes>"
      ]
     },
     "metadata": {},
     "output_type": "display_data"
    }
   ],
   "source": [
    "# Plotting\n",
    "# Barplot für Massen nach Anzahl Planeten und Sterne geordnet\n",
    "system_config.unstack(level=0).plot(kind='bar',figsize=(12,6))\n",
    "plt.ylabel(\"relative mass to earth\")"
   ]
  },
  {
   "cell_type": "markdown",
   "id": "referenced-actor",
   "metadata": {},
   "source": [
    "### Aufgabe 3\n",
    "Wir möchten das Entdeckungsjahr (*disc_year*) als Datum setzten, um den Funktionsumfang von Pandas **datetime** nutzen zu können.\n",
    "\n",
    "#### 3.1 Entdeckungsjahr konvertieren\n",
    "Formatiere die <font color=\"green\">disc_year</font> Spalte als **datetime** mit dem Datentyp *datetime64[ns]*. Damit das Datum in der Spalte <font color=\"green\">disc_year</font> von der <font color=\"red\">to_datetime</font> Methode korrekt interpretiert wird, müssen wir einen zusätzlichen Formatparameter angeben: \n",
    "> format=\"%Y\"\n",
    "\n",
    "#### 3.2 Entdeckungen von Exoplaneten über die Zeit\n",
    "- Was ist das frühste Jahr in dem ein Exoplanet entdeckt wurde?\n",
    "- Wieviele Entdeckungen wurden jedes Jahr gemacht? Stelle dein Ergebnis als Barplot da. \\\n",
    "\n",
    "    **Hinweis:** Nutze hierfür die <font color=\"red\">groupby()</font> Methode in Kombination mit der <font color=\"red\">count()</font> Methode.\n",
    "\n",
    "#### extra:\n",
    "- Wieviele Entdeckungen wurden jedes Jahr jeweils mit der \"Radial Velocity\",\"Transit\" und \"Microlensing\" Methode gemacht? Erinnere dich an die logischen Filter und die <font color=\"red\">isin()</font> Methode aus der vorherigen Vorlesung.\n",
    "- Erstelle auch hierfür einen Barplot.\n",
    "\n",
    "#### 3.3 Datetime index\n",
    "- Setze das Entdeckungsjahr als neuen Index und sortiere ihr aufsteigend, von der ersten Entdeckung bis Heute.\n",
    "- Erstelle einen neuen **DataFrame** für die Distanzwerte (*distance*) der Exoplaneten die im Zeitraum von Anfang 1998 bis Ende 2010 entdeckt wurden."
   ]
  },
  {
   "cell_type": "code",
   "execution_count": 173,
   "id": "residential-legend",
   "metadata": {},
   "outputs": [
    {
     "name": "stdout",
     "output_type": "stream",
     "text": [
      "<class 'pandas.core.frame.DataFrame'>\n",
      "Int64Index: 4352 entries, 0 to 4351\n",
      "Data columns (total 21 columns):\n",
      " #   Column            Non-Null Count  Dtype         \n",
      "---  ------            --------------  -----         \n",
      " 0   pl_name           4352 non-null   object        \n",
      " 1   number_stars      4352 non-null   int64         \n",
      " 2   number_planets    4352 non-null   int64         \n",
      " 3   discoverymethod   4352 non-null   object        \n",
      " 4   disc_year         4352 non-null   datetime64[ns]\n",
      " 5   disc_facility     4352 non-null   object        \n",
      " 6   disc_pub_date     4352 non-null   object        \n",
      " 7   controversial     4352 non-null   int64         \n",
      " 8   orbital_period    4212 non-null   float64       \n",
      " 9   radius_earth      4338 non-null   float64       \n",
      " 10  radius_jupiter    4336 non-null   float64       \n",
      " 11  mass_earth        4330 non-null   float64       \n",
      " 12  mass_jupiter      4330 non-null   float64       \n",
      " 13  equi_temp         3242 non-null   float64       \n",
      " 14  ra                4352 non-null   float64       \n",
      " 15  dec               4352 non-null   float64       \n",
      " 16  distance          4347 non-null   float64       \n",
      " 17  stellar_spectype  1218 non-null   object        \n",
      " 18  st_radius_sun     4021 non-null   float64       \n",
      " 19  st_mass_sun       4331 non-null   float64       \n",
      " 20  stellar_age       3445 non-null   float64       \n",
      "dtypes: datetime64[ns](1), float64(12), int64(3), object(5)\n",
      "memory usage: 748.0+ KB\n"
     ]
    }
   ],
   "source": [
    "# Entdeckungsjahr in datetime konvertieren\n",
    "exoplanets.disc_year = pd.to_datetime(exoplanets.disc_year,format=\"%Y\")\n",
    "exoplanets.info()"
   ]
  },
  {
   "cell_type": "code",
   "execution_count": 66,
   "id": "generic-julian",
   "metadata": {},
   "outputs": [
    {
     "data": {
      "text/plain": [
       "(Timestamp('1989-01-01 00:00:00'), Timestamp('2021-01-01 00:00:00'))"
      ]
     },
     "execution_count": 66,
     "metadata": {},
     "output_type": "execute_result"
    }
   ],
   "source": [
    "exoplanets.disc_year.min()"
   ]
  },
  {
   "cell_type": "code",
   "execution_count": 176,
   "id": "bottom-pharmacology",
   "metadata": {},
   "outputs": [
    {
     "data": {
      "text/plain": [
       "disc_year\n",
       "1989       1\n",
       "1992       2\n",
       "1994       1\n",
       "1995       1\n",
       "1996       6\n",
       "1997       1\n",
       "1998       6\n",
       "1999      13\n",
       "2000      16\n",
       "2001      12\n",
       "2002      29\n",
       "2003      22\n",
       "2004      27\n",
       "2005      36\n",
       "2006      31\n",
       "2007      52\n",
       "2008      66\n",
       "2009      95\n",
       "2010      97\n",
       "2011     138\n",
       "2012     139\n",
       "2013     125\n",
       "2014     871\n",
       "2015     157\n",
       "2016    1505\n",
       "2017     153\n",
       "2018     315\n",
       "2019     199\n",
       "2020     222\n",
       "2021      14\n",
       "Name: disc_year, dtype: int64"
      ]
     },
     "execution_count": 176,
     "metadata": {},
     "output_type": "execute_result"
    }
   ],
   "source": [
    "# Wieviele Entdeckungen wurden jedes Jahr gemacht\n",
    "disc_by_year = exoplanets.groupby(by=exoplanets.disc_year.dt.year)[\"disc_year\"].count()\n",
    "disc_by_year.index = disc_by_year.index.astype(int)\n",
    "disc_by_year"
   ]
  },
  {
   "cell_type": "code",
   "execution_count": 182,
   "id": "desperate-orlando",
   "metadata": {},
   "outputs": [
    {
     "data": {
      "text/plain": [
       "<AxesSubplot:xlabel='disc_year'>"
      ]
     },
     "execution_count": 182,
     "metadata": {},
     "output_type": "execute_result"
    },
    {
     "data": {
      "image/png": "[encoded data removed]",
      "text/plain": [
       "<Figure size 864x432 with 1 Axes>"
      ]
     },
     "metadata": {},
     "output_type": "display_data"
    }
   ],
   "source": [
    "import matplotlib.pyplot as plt\n",
    "\n",
    "# Plotting Style\n",
    "plt.style.use('ggplot')\n",
    "\n",
    "# Plotting mit Pandas\n",
    "fig, ax = plt.subplots(figsize=(12, 6))\n",
    "disc_by_year.plot(kind='bar',ax=ax)"
   ]
  },
  {
   "cell_type": "code",
   "execution_count": 184,
   "id": "seven-passing",
   "metadata": {},
   "outputs": [
    {
     "data": {
      "text/plain": [
       "<BarContainer object of 30 artists>"
      ]
     },
     "execution_count": 184,
     "metadata": {},
     "output_type": "execute_result"
    },
    {
     "data": {
      "image/png": "[encoded data removed]",
      "text/plain": [
       "<Figure size 432x288 with 1 Axes>"
      ]
     },
     "metadata": {},
     "output_type": "display_data"
    }
   ],
   "source": [
    "# Alternative Plotting-Variante mit pyplot\n",
    "plt.bar(disc_by_year.index,disc_by_year)"
   ]
  },
  {
   "cell_type": "code",
   "execution_count": 116,
   "id": "devoted-mistake",
   "metadata": {},
   "outputs": [],
   "source": [
    "# Nur bestimmte Entdeckungsmethoden berücksichtigen\n",
    "mask = exoplanets[\"discoverymethod\"].isin([\"Radial Velocity\",\"Transit\",\"Microlensing\"])\n",
    "exoplanets = exoplanets.loc[mask,:]"
   ]
  },
  {
   "cell_type": "code",
   "execution_count": 117,
   "id": "close-needle",
   "metadata": {},
   "outputs": [
    {
     "data": {
      "text/plain": [
       "discoverymethod  disc_year\n",
       "Microlensing     2004           1\n",
       "                 2005           2\n",
       "                 2006           1\n",
       "                 2008           2\n",
       "                 2009           2\n",
       "                             ... \n",
       "Transit          2017          90\n",
       "                 2018         242\n",
       "                 2019         108\n",
       "                 2020         165\n",
       "                 2021          10\n",
       "Name: disc_pub_date, Length: 62, dtype: int64"
      ]
     },
     "execution_count": 117,
     "metadata": {},
     "output_type": "execute_result"
    }
   ],
   "source": [
    "# Wieviele Entdeckungen wurden jedes Jahr jeweils mit jeder Methode gemacht?\n",
    "disc_year_method = exoplanets.groupby(by=[exoplanets.discoverymethod,\n",
    "                                         exoplanets.disc_year.dt.year])[\"disc_pub_date\"].count()\n",
    "disc_year_method"
   ]
  },
  {
   "cell_type": "code",
   "execution_count": 127,
   "id": "suburban-calgary",
   "metadata": {},
   "outputs": [
    {
     "data": {
      "image/png": "[encoded data removed]",
      "text/plain": [
       "<Figure size 864x432 with 1 Axes>"
      ]
     },
     "metadata": {},
     "output_type": "display_data"
    }
   ],
   "source": [
    "# Plotting Style\n",
    "plt.style.use('ggplot')\n",
    "\n",
    "fig, ax = plt.subplots(figsize=(12, 6))\n",
    "# Plotting\n",
    "disc_year_method.unstack(level=0).plot(kind='bar',ax=ax)\n",
    "# log skalierte Y-Achse\n",
    "plt.yscale(\"log\")"
   ]
  },
  {
   "cell_type": "code",
   "execution_count": 119,
   "id": "hungry-vintage",
   "metadata": {},
   "outputs": [
    {
     "name": "stdout",
     "output_type": "stream",
     "text": [
      "<class 'pandas.core.frame.DataFrame'>\n",
      "DatetimeIndex: 4247 entries, 1989-01-01 to 2021-01-01\n",
      "Data columns (total 21 columns):\n",
      " #   Column            Non-Null Count  Dtype         \n",
      "---  ------            --------------  -----         \n",
      " 0   pl_name           4247 non-null   object        \n",
      " 1   number_stars      4247 non-null   int64         \n",
      " 2   number_planets    4247 non-null   int64         \n",
      " 3   discoverymethod   4247 non-null   object        \n",
      " 4   disc_facility     4247 non-null   object        \n",
      " 5   disc_pub_date     4245 non-null   datetime64[ns]\n",
      " 6   controversial     4247 non-null   int64         \n",
      " 7   orbital_period    4150 non-null   float64       \n",
      " 8   radius_earth      4242 non-null   float64       \n",
      " 9   radius_jupiter    4241 non-null   float64       \n",
      " 10  mass_earth        4230 non-null   float64       \n",
      " 11  mass_jupiter      4230 non-null   float64       \n",
      " 12  equi_temp         3192 non-null   float64       \n",
      " 13  ra                4247 non-null   float64       \n",
      " 14  dec               4247 non-null   float64       \n",
      " 15  distance          4244 non-null   float64       \n",
      " 16  stellar_spectype  1171 non-null   object        \n",
      " 17  st_radius_sun     3965 non-null   float64       \n",
      " 18  st_mass_sun       4240 non-null   float64       \n",
      " 19  stellar_age       3385 non-null   float64       \n",
      " 20  datetime          4245 non-null   datetime64[ns]\n",
      "dtypes: datetime64[ns](2), float64(12), int64(3), object(4)\n",
      "memory usage: 730.0+ KB\n"
     ]
    }
   ],
   "source": [
    "new = exoplanets.set_index(\"disc_year\").sort_index()\n",
    "new.info()"
   ]
  },
  {
   "cell_type": "code",
   "execution_count": 214,
   "id": "religious-hawaiian",
   "metadata": {},
   "outputs": [
    {
     "data": {
      "text/html": [
       "<div>\n",
       "<style scoped>\n",
       "    .dataframe tbody tr th:only-of-type {\n",
       "        vertical-align: middle;\n",
       "    }\n",
       "\n",
       "    .dataframe tbody tr th {\n",
       "        vertical-align: top;\n",
       "    }\n",
       "\n",
       "    .dataframe thead th {\n",
       "        text-align: right;\n",
       "    }\n",
       "</style>\n",
       "<table border=\"1\" class=\"dataframe\">\n",
       "  <thead>\n",
       "    <tr style=\"text-align: right;\">\n",
       "      <th></th>\n",
       "      <th>distance</th>\n",
       "    </tr>\n",
       "    <tr>\n",
       "      <th>disc_year</th>\n",
       "      <th></th>\n",
       "    </tr>\n",
       "  </thead>\n",
       "  <tbody>\n",
       "    <tr>\n",
       "      <th>1998-01-01</th>\n",
       "      <td>20.06</td>\n",
       "    </tr>\n",
       "    <tr>\n",
       "      <th>1998-01-01</th>\n",
       "      <td>45.95</td>\n",
       "    </tr>\n",
       "    <tr>\n",
       "      <th>1998-01-01</th>\n",
       "      <td>4.68</td>\n",
       "    </tr>\n",
       "    <tr>\n",
       "      <th>1998-01-01</th>\n",
       "      <td>37.67</td>\n",
       "    </tr>\n",
       "    <tr>\n",
       "      <th>1998-01-01</th>\n",
       "      <td>21.30</td>\n",
       "    </tr>\n",
       "    <tr>\n",
       "      <th>...</th>\n",
       "      <td>...</td>\n",
       "    </tr>\n",
       "    <tr>\n",
       "      <th>2010-01-01</th>\n",
       "      <td>161.40</td>\n",
       "    </tr>\n",
       "    <tr>\n",
       "      <th>2010-01-01</th>\n",
       "      <td>38.96</td>\n",
       "    </tr>\n",
       "    <tr>\n",
       "      <th>2010-01-01</th>\n",
       "      <td>38.96</td>\n",
       "    </tr>\n",
       "    <tr>\n",
       "      <th>2010-01-01</th>\n",
       "      <td>71.04</td>\n",
       "    </tr>\n",
       "    <tr>\n",
       "      <th>2010-01-01</th>\n",
       "      <td>38.96</td>\n",
       "    </tr>\n",
       "  </tbody>\n",
       "</table>\n",
       "<p>474 rows × 1 columns</p>\n",
       "</div>"
      ],
      "text/plain": [
       "            distance\n",
       "disc_year           \n",
       "1998-01-01     20.06\n",
       "1998-01-01     45.95\n",
       "1998-01-01      4.68\n",
       "1998-01-01     37.67\n",
       "1998-01-01     21.30\n",
       "...              ...\n",
       "2010-01-01    161.40\n",
       "2010-01-01     38.96\n",
       "2010-01-01     38.96\n",
       "2010-01-01     71.04\n",
       "2010-01-01     38.96\n",
       "\n",
       "[474 rows x 1 columns]"
      ]
     },
     "execution_count": 214,
     "metadata": {},
     "output_type": "execute_result"
    }
   ],
   "source": [
    "# DataFrame für die Distanzen von 1998-2010\n",
    "dist_1998_2010 = new.loc[\"1998-01-01\":\"2010-12-31\",[\"distance\"]]\n",
    "dist_1998_2010"
   ]
  }
 ],
 "metadata": {
  "kernelspec": {
   "display_name": "Python 3",
   "language": "python",
   "name": "python3"
  },
  "language_info": {
   "codemirror_mode": {
    "name": "ipython",
    "version": 3
   },
   "file_extension": ".py",
   "mimetype": "text/x-python",
   "name": "python",
   "nbconvert_exporter": "python",
   "pygments_lexer": "ipython3",
   "version": "3.7.10"
  }
 },
 "nbformat": 4,
 "nbformat_minor": 5
}
