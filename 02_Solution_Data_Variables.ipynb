{
 "cells": [
  {
   "cell_type": "markdown",
   "metadata": {},
   "source": [
    "# Geospatial Data Analysis I \n",
    "\n",
    "## Data and Variables - Solution"
   ]
  },
  {
   "cell_type": "markdown",
   "metadata": {},
   "source": [
    "### Exercise 1\n",
    "\n",
    "#### Assigning variables\n",
    "- Let's play a game of \"Stadt, Land, Fluss\" (German Categorie word game). Select an arbitrary letter and pick a city, country and river beginning with the corresponding letter. Assign each to specific variable, e.g.\n",
    "\n",
    "> city = \"Karlsruhe\"\n",
    "\n",
    "- add a comment to your code that state the chosen letter. And print an output message for each variable, e.g. \n",
    "\n",
    "> ' I was born in Karlsruhe.' \n"
   ]
  },
  {
   "cell_type": "code",
   "execution_count": 4,
   "metadata": {},
   "outputs": [
    {
     "name": "stdout",
     "output_type": "stream",
     "text": [
      "In Karlsruhe the sun in shining today.\n",
      "Korea is split into two states.\n",
      "The Kinzig flows into the river Rhine.\n"
     ]
    }
   ],
   "source": [
    "#[1]\n",
    "#I chose the letter 'K'\n",
    "city = \"Karlsruhe\"\n",
    "country = \"Korea\"\n",
    "river = \"Kinzig\"\n",
    "\n",
    "print(\"In\",city,\"the sun in shining today.\")\n",
    "print(country, \"is split into two states.\")\n",
    "print(\"The\",river,\"flows into the river Rhine.\")"
   ]
  },
  {
   "cell_type": "markdown",
   "metadata": {},
   "source": [
    "#### Creating lists and using indices\n",
    "- Create a list \"*game*\" from yout Stadt-Land-Fluss Variables.\n",
    "\n",
    "- Output the third element of this list using the corresponding index.\n",
    "\n",
    "- Output the length of yout list by using (\"*len()*\") with a suitable message. "
   ]
  },
  {
   "cell_type": "code",
   "execution_count": 6,
   "metadata": {},
   "outputs": [
    {
     "name": "stdout",
     "output_type": "stream",
     "text": [
      "Kinzig\n",
      "The number of elements in my list is: 3\n"
     ]
    }
   ],
   "source": [
    "# [2]\n",
    "# Creating a list\n",
    "game = [city,country,river]\n",
    "\n",
    "# Output by Index\n",
    "print(game[2])\n",
    "\n",
    "# Output the length\n",
    "print(\"The number of elements in my list is:\", len(game))"
   ]
  },
  {
   "cell_type": "markdown",
   "metadata": {},
   "source": [
    "### Exercise 2\n",
    "#### Modifying lists\n",
    "- In your previously created list, change (i.e. overwrite) the country using the corresponding list index.\n",
    "\n",
    "- Add three further entries to your list: one city and two additional countries of your choice. The city should be inserted as the second element, the countries should be added at the end of the list. To do so, use the functions: \n",
    "\n",
    "> insert()\n",
    "\n",
    "> append()\n",
    "\n",
    "- inspect the outcomes. "
   ]
  },
  {
   "cell_type": "code",
   "execution_count": 8,
   "metadata": {},
   "outputs": [
    {
     "name": "stdout",
     "output_type": "stream",
     "text": [
      "['Karlsruhe', 'France', 'France', 'Kinzig', 'Italy', 'Spain']\n",
      "['Karlsruhe', 'Berlin', 'France', 'France', 'Kinzig', 'Italy', 'Spain', 'Italy', 'Spain']\n"
     ]
    }
   ],
   "source": [
    "#[3]\n",
    "# new element at position 2\n",
    "game[1] = \"France\"\n",
    "print(game)\n",
    "\n",
    "# new entries at the end of the list \n",
    "game.append(\"Italy\")\n",
    "game.append(\"Spain\")\n",
    "game.insert(1,\"Berlin\")\n",
    "\n",
    "print(game)"
   ]
  },
  {
   "cell_type": "markdown",
   "metadata": {},
   "source": [
    "#### Copying lists\n",
    "\n",
    "Your list now contains two cities, three countries and one river. For this exercise we would like to have a new list *countries* containing all elements from the list *game* ( the list *game* should not be modified). \n",
    "\n",
    "- Create a copy of the *game* list under the name *countries* by using the function: \n",
    "\n",
    "> copy()"
   ]
  },
  {
   "cell_type": "code",
   "execution_count": null,
   "metadata": {},
   "outputs": [],
   "source": [
    "# [4]\n",
    "# Crteate a copy\n",
    "countries = game.copy()"
   ]
  },
  {
   "cell_type": "markdown",
   "metadata": {},
   "source": [
    "#### Deleting elements\n",
    "\n",
    "In your new list *countries*, we are primarily interested in the countries, as we would like to work with country-specific information later on. So, we will delete river and city elements from the *countries* list. \n",
    "\n",
    "- delete the river element from *countries* using its original value: \n",
    "\n",
    "> list.remove('river')\n",
    "\n",
    "The cities are going to be used later for another exercise so we are going to cut them from *countries* and put them in another list called *cities*. \n",
    "\n",
    "- create a new empty list *cities*\n",
    "\n",
    "- remove the cities one by one from *countries* and add them to *cities* \n",
    "\n",
    "> list.pop()\n",
    "\n",
    "##### advanced use: \n",
    "\n",
    "both functions can be combined in one command line: \n",
    "\n",
    "\n",
    "```list1.append(list2.pop())```"
   ]
  },
  {
   "cell_type": "code",
   "execution_count": null,
   "metadata": {},
   "outputs": [],
   "source": [
    "# [5]\n",
    "\n",
    "# copying the list\n",
    "countries = game.copy()\n",
    "\n",
    "# removing a specific element\n",
    "countries.remove(river)\n",
    "print(countries)\n",
    "\n",
    "# removing the city elements from the list and adding them to a new list \n",
    "cities = []\n",
    "cities.append(countries.pop(0))\n",
    "print(cities)\n",
    "\n",
    "# the index changes when elements are removed!\n",
    "cities.append(countries.pop(2))\n",
    "print(cities)\n",
    "print(countries)"
   ]
  },
  {
   "cell_type": "markdown",
   "metadata": {},
   "source": [
    "#### Creating lists from lists\n",
    "\n",
    "Look up the area and population of the countries in yout list *countries*, so you can store them as additional information (as data type 'float'). Assign the values to variables and give them meaningful names, e.g.: \n",
    "\n",
    "```\n",
    "#areas\n",
    "IT_area = \n",
    "...\n",
    "# population\n",
    "IT_pop =\n",
    "...\n",
    "```\n",
    "\n",
    "- add those variables to the corresponding country in your list *countries* so that you have three lists within the orginal list: \n",
    "\n",
    "```\n",
    "countries = [[\"Italy\",IT_area,IT_pop],[...],[...]]\n",
    "```\n",
    "\n",
    "- Check the data type for *countries*. \n",
    "\n",
    "\n",
    "- As you can see, this is still a list. This means you can still access individual elements by their index. However, every three elements in *countries* now have three sub-elements each. If you want to access the area (second sub-element) in the second country you can combine the indices. For example like this: \n",
    "\n",
    "> countries[1][1]\n",
    "\n",
    "- Use this indexing to create an output text message for each country in *countries*, which states the area and the population of the corresponding country. The message could be e.g.: \n",
    "\n",
    "> \"In Italy there are 60,026,546 people living in an overall area of 301.338 km<sup>2</sup>\\.\""
   ]
  },
  {
   "cell_type": "code",
   "execution_count": null,
   "metadata": {},
   "outputs": [],
   "source": [
    "# [6]\n",
    "\n",
    "# Flächen\n",
    "IT_area = 301338\n",
    "FR_area = 632733\n",
    "ES_area = 505970\n",
    "\n",
    "# Bevölkerung\n",
    "IT_pop = 60026546\n",
    "FR_pop = 67e6\n",
    "ES_pop = 47.1e6\n",
    "\n",
    "countries = [[\"Italy\",IT_area,IT_pop],\n",
    "             [\"France\",FR_area,FR_pop],\n",
    "             [\"Spain\",ES_area, ES_pop]]\n",
    "\n",
    "print(countries)\n",
    "print(type(countries))\n",
    "\n",
    "# Indexing von Listen in Listen\n",
    "print(countries[1][1])\n",
    "\n",
    "# Individuelle Nachrichten\n",
    "print(\"In\",countries[0][0],\"there are \",countries[0][2],\"people living in an overall area of\",countries[0][1], \"km²\")\n",
    "print(\"In\",countries[1][0],\"there are \", countries[1][2],\"people living in an overall area of\",countries[1][1], \"km²\")\n",
    "print(\"In\",countries[2][0],\"there are \",countries[2][2],\"people living in an overall area of\",countries[2][1],\"km²\")"
   ]
  },
  {
   "cell_type": "markdown",
   "metadata": {},
   "source": [
    "### Exercise 3\n",
    "#### for-loops\n",
    "\n",
    "In Exercise 3.3 you specified a separate output message for each *print()* function. Instead of identical repetetive operations, such tasks can be done more elegant with for-loops.  \n",
    "\n",
    "- print the same output message again for each country in *countries* using a for-loop: \n",
    "\n",
    "> for country in countries: \n",
    "       print(...)\n",
    "\n",
    "- Also, let's say we are interested in the population density. Add this calculation to the previous for-loop. \n",
    "\n",
    "> for country in countries: \n",
    "       print(...)\n",
    "       pop_density = ..."
   ]
  },
  {
   "cell_type": "code",
   "execution_count": null,
   "metadata": {},
   "outputs": [],
   "source": [
    "# [7]\n",
    "# for-loop\n",
    "for country in countries:\n",
    "    print(\"In \" + str(country[0]),\"there are \" +str(country[2]),\n",
    "          \"people living in an overall area of\",country[1], \"km²\")\n",
    "    pop_density = country[2]/country[1]\n",
    "    print(\"The population density in \" + country[0] + \" is:\",int(pop_density),\"people per km²\")"
   ]
  },
  {
   "cell_type": "markdown",
   "metadata": {},
   "source": [
    "### Excercise 4\n",
    "\n",
    "#### Lists with numeric values\n",
    "\n",
    "Use the *range()* function and according start, stop, step values to create the following lists of numeric values:\n",
    "\n",
    "- **Liste 1:** Whole numbers from 0 - 100\n",
    "\n",
    "- **Liste 2:** Even (dt. gerade) numbers between 0 - 100\n",
    "\n",
    "- **Liste 3:** Odd (dt. ungerade) numbers from 0 - 100"
   ]
  },
  {
   "cell_type": "code",
   "execution_count": 3,
   "metadata": {},
   "outputs": [
    {
     "name": "stdout",
     "output_type": "stream",
     "text": [
      "[0, 1, 2, 3, 4, 5, 6, 7, 8, 9, 10, 11, 12, 13, 14, 15, 16, 17, 18, 19, 20, 21, 22, 23, 24, 25, 26, 27, 28, 29, 30, 31, 32, 33, 34, 35, 36, 37, 38, 39, 40, 41, 42, 43, 44, 45, 46, 47, 48, 49, 50, 51, 52, 53, 54, 55, 56, 57, 58, 59, 60, 61, 62, 63, 64, 65, 66, 67, 68, 69, 70, 71, 72, 73, 74, 75, 76, 77, 78, 79, 80, 81, 82, 83, 84, 85, 86, 87, 88, 89, 90, 91, 92, 93, 94, 95, 96, 97, 98, 99]\n",
      "[0, 2, 4, 6, 8, 10, 12, 14, 16, 18, 20, 22, 24, 26, 28, 30, 32, 34, 36, 38, 40, 42, 44, 46, 48, 50, 52, 54, 56, 58, 60, 62, 64, 66, 68, 70, 72, 74, 76, 78, 80, 82, 84, 86, 88, 90, 92, 94, 96, 98]\n",
      "[1, 3, 5, 7, 9, 11, 13, 15, 17, 19, 21, 23, 25, 27, 29, 31, 33, 35, 37, 39, 41, 43, 45, 47, 49, 51, 53, 55, 57, 59, 61, 63, 65, 67, 69, 71, 73, 75, 77, 79, 81, 83, 85, 87, 89, 91, 93, 95, 97, 99]\n"
     ]
    }
   ],
   "source": [
    "#[8]\n",
    "\n",
    "list1 = list(range(0,100))\n",
    "list2 = list(range(0,100,2))\n",
    "list3 = list(range(1,100,2))\n",
    "\n",
    "print(list1)\n",
    "print(list2)\n",
    "print(list3)"
   ]
  },
  {
   "cell_type": "markdown",
   "metadata": {},
   "source": [
    "#### Slicing\n",
    "\n",
    "- Print the first 30 elements from list 1 from above.\n",
    "\n",
    "- Print the last 30 elements from list 1 (hint: use a negative index here).\n",
    "\n",
    "- Print the numbers 30 to 50 from list 1."
   ]
  },
  {
   "cell_type": "code",
   "execution_count": 6,
   "metadata": {},
   "outputs": [
    {
     "name": "stdout",
     "output_type": "stream",
     "text": [
      "[0, 1, 2, 3, 4, 5, 6, 7, 8, 9, 10, 11, 12, 13, 14, 15, 16, 17, 18, 19, 20, 21, 22, 23, 24, 25, 26, 27, 28, 29]\n",
      "[99, 98, 97, 96, 95, 94, 93, 92, 91, 90, 89, 88, 87, 86, 85, 84, 83, 82, 81, 80, 79, 78, 77, 76, 75, 74, 73, 72, 71, 70]\n",
      "[30, 31, 32, 33, 34, 35, 36, 37, 38, 39, 40, 41, 42, 43, 44, 45, 46, 47, 48, 49, 50]\n",
      "[81, 83, 85, 87, 89, 91, 93, 95, 97, 99]\n"
     ]
    }
   ],
   "source": [
    "#[9]\n",
    "# first 30 values\n",
    "print(list1[:30])\n",
    "\n",
    "# last 30 values\n",
    "print(list1[:-31:-1])\n",
    "\n",
    "# Werte 30 - 50\n",
    "print(list1[30:51])\n"
   ]
  },
  {
   "cell_type": "markdown",
   "metadata": {},
   "source": [
    "### Exercise 5\n",
    "\n",
    "#### Personal data\n",
    "\n",
    "- Create a dictionary with information about a friend... real or imaginary ;). Save his/her first name, last name and age. \n",
    "\n",
    "- Print the age of this person. \n",
    "\n",
    "- Add the city of residence as another key:value pair to your dictionary."
   ]
  },
  {
   "cell_type": "code",
   "execution_count": 1,
   "metadata": {},
   "outputs": [
    {
     "name": "stdout",
     "output_type": "stream",
     "text": [
      "Donald\n",
      "Duck\n",
      "42\n"
     ]
    },
    {
     "data": {
      "text/plain": [
       "{'name': 'Donald', 'surname': 'Duck', 'age': 42, 'residence': 'Entenhausen'}"
      ]
     },
     "execution_count": 1,
     "metadata": {},
     "output_type": "execute_result"
    }
   ],
   "source": [
    "# create a dictionary\n",
    "person = {\"name\": \"Donald\",\n",
    "          \"surname\": \"Duck\", \n",
    "          \"age\": 42}\n",
    "\n",
    "# output data\n",
    "print(person[\"name\"])\n",
    "print(person[\"surname\"])\n",
    "print(person[\"age\"])\n",
    "\n",
    "# add another key:value pair\n",
    "person[\"residence\"] = \"Entenhausen\"\n",
    "person"
   ]
  },
  {
   "cell_type": "markdown",
   "metadata": {},
   "source": [
    "## ENDE"
   ]
  }
 ],
 "metadata": {
  "kernelspec": {
   "display_name": "Python 3.8.8 ('base')",
   "language": "python",
   "name": "python3"
  },
  "language_info": {
   "codemirror_mode": {
    "name": "ipython",
    "version": 3
   },
   "file_extension": ".py",
   "mimetype": "text/x-python",
   "name": "python",
   "nbconvert_exporter": "python",
   "pygments_lexer": "ipython3",
   "version": "3.11.5"
  },
  "toc": {
   "base_numbering": 1,
   "nav_menu": {},
   "number_sections": true,
   "sideBar": true,
   "skip_h1_title": false,
   "title_cell": "Table of Contents",
   "title_sidebar": "Contents",
   "toc_cell": false,
   "toc_position": {},
   "toc_section_display": true,
   "toc_window_display": false
  },
  "vscode": {
   "interpreter": {
    "hash": "e4cce46d6be9934fbd27f9ca0432556941ea5bdf741d4f4d64c6cd7f8dfa8fba"
   }
  }
 },
 "nbformat": 4,
 "nbformat_minor": 4
}
