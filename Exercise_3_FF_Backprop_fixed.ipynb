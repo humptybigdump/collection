{
 "cells": [
  {
   "cell_type": "markdown",
   "metadata": {},
   "source": [
    "# Übung 06.12.2021 Rupert Polley\n",
    "## Note Lecture 6:"
   ]
  },
  {
   "cell_type": "markdown",
   "metadata": {},
   "source": [
    " <img src=\"imgs/SENet.jpg\" style=\"width:1800px;height:1000px;\">"
   ]
  },
  {
   "cell_type": "markdown",
   "metadata": {},
   "source": [
    "# Feedforward step and Backpropagation"
   ]
  },
  {
   "cell_type": "markdown",
   "metadata": {},
   "source": [
    " <img src=\"imgs/FF.jpg\" style=\"width:1800px;height:1000px;\">"
   ]
  },
  {
   "cell_type": "markdown",
   "metadata": {},
   "source": [
    "\n",
    "$$ \n",
    "\\text{Input vector:} \\\\\n",
    "\\vec{x} = \\begin{bmatrix}\n",
    "           3 \\\\\n",
    "           -2 \\\\\n",
    "           \\end{bmatrix} \n",
    "$$\n",
    "<br/><br/>\n",
    "$$ \n",
    "\\text{Neuron weights and bias :} \\\\\n",
    "\\vec{W} = \\begin{bmatrix}\n",
    "           \\frac{1}{6} \\\\\n",
    "           - \\frac{3}{4} \\\\\n",
    "           \\end{bmatrix} \n",
    "\\quad \\vec{b} = -\\frac{3}{2}\n",
    "$$\n",
    "<br/><br/>\n",
    "        \n",
    "               "
   ]
  },
  {
   "cell_type": "markdown",
   "metadata": {},
   "source": [
    "<center> <h1>Feed Forward Step</h1> </center>"
   ]
  },
  {
   "cell_type": "markdown",
   "metadata": {},
   "source": [
    "$$ \n",
    "\\vec{z}\\quad =\\quad  (\\vec{x}^1 * \\vec{W}^1) + (\\vec{x}^2 * \\vec{W}^2) + (\\vec{b})  \\quad=\\quad (3 * \\frac{1}{6}) + (-2 * -\\frac{3}{4}) + (-\\frac{3}{2}) \\quad = \\quad \\frac{1}{2} + \\frac{3}{2} -\\frac{3}{2} \\quad = \\quad \\frac{1}{2}$$\n",
    "\n",
    "$$\\vec{a} \\quad = \\quad Relu(\\vec{z}) \\quad = \\quad max(0, \\frac{1}{2}) \\quad = \\quad \\frac{1}{2}$$\n",
    "           \n"
   ]
  },
  {
   "cell_type": "markdown",
   "metadata": {},
   "source": [
    "<center> <h1>Backpropagation</h1> </center>"
   ]
  },
  {
   "cell_type": "markdown",
   "metadata": {},
   "source": [
    "$$\n",
    "\\text{We use a modified MSE loss function: } \\\\\n",
    "E = \\frac{1}{2} * (\\vec{y} - \\vec{a})^2 \\\\\n",
    "\\text{and the target: } y = \\frac{3}{4} \\\\\n",
    "$$\n",
    "\n",
    "<br/><br/>\n",
    "$$\n",
    "\\text{Remember the chain rule: } \\quad f(x) = g(h(x)) \\quad \\rightarrow \\quad f'(x) = g'(h(x)) * h'(x)\n",
    "$$\n",
    "<br/><br/>\n",
    "$$\n",
    "\\frac{∂E}{∂\\vec{W}_1} \\quad = \\quad \\frac{∂E}{∂\\vec{a}} * \\frac{∂\\vec{a}}{∂\\vec{z}} * \\frac{∂\\vec{z}}{∂\\vec{W}_1}\n",
    "$$\n",
    "\n"
   ]
  },
  {
   "cell_type": "markdown",
   "metadata": {},
   "source": [
    "\n",
    "$$\n",
    "\\text{Let's take a look at each component: }\\\\\n",
    "\\frac{∂E}{∂\\vec{a}} =   \\frac{1}{2} * 2 * (\\vec{y} - \\vec{a}) * (-1) = (\\vec{a} - \\vec{y})\n",
    "$$\n",
    "$$\n",
    " \\frac{∂\\vec{a}}{∂\\vec{z}} = 1 \\quad \\text{(Relu's derivation is either 1 or 0)}\n",
    "$$\n",
    "$$\n",
    "\\frac{∂\\vec{z}}{∂\\vec{W}_1} = \\vec{x}_1\n",
    "$$\n",
    "<br/><br/>\n",
    "$$\n",
    "\\frac{∂E}{∂\\vec{W}_1} \\quad = \\quad (\\vec{a} - \\vec{y}) * 1 * \\vec{x}_1 \\quad = \\quad (\\frac{1}{2} - \\frac{3}{4}) * 1 * 3 = - \\frac{3}{4}\n",
    "$$\n",
    "\n"
   ]
  },
  {
   "cell_type": "markdown",
   "metadata": {},
   "source": [
    "\n",
    "$$\n",
    "\\text{Update weights with learning rate } \\eta \\\\\n",
    "\\Delta \\vec{W} = - \\eta * \\frac{∂E}{∂\\vec{W}} \\\\\n",
    "\\vec{W}^{n+1} = \\vec{W}^{n} + \\Delta \\vec{W}\n",
    "$$"
   ]
  },
  {
   "cell_type": "markdown",
   "metadata": {},
   "source": [
    "$$\n",
    "\\text{All together with our values and } \\eta = \\frac{1}{15} \\\\\n",
    "\\vec{W}_1^{n+1} = \\frac{1}{6} + \\left(-\\frac{1}{15}* -\\frac{3}{4} \\right) = \\frac{13}{60}$$"
   ]
  },
  {
   "cell_type": "markdown",
   "metadata": {},
   "source": [
    "$$\n",
    "\\text{Update } \\vec{W}_2 \\\\\n",
    "\\frac{∂E}{∂\\vec{W}_2} \\quad = \\quad \\frac{∂E}{∂\\vec{a}} * \\frac{∂\\vec{a}}{∂\\vec{z}} * \\frac{∂\\vec{z}}{∂\\vec{W}_2} \\quad = \\quad (\\vec{a} - \\vec{y}) * 1 * \\vec{x}_2 \\quad = \\quad (\\frac{1}{2} - \\frac{3}{4}) * 1 * - 2 = \\frac{1}{2} \\\\\n",
    "\\\\\n",
    "\\vec{W}_2^{n+1} \\quad = \\quad \\vec{W}_2^{n} + \\left( - \\eta * \\frac{∂E}{∂\\vec{W}_2^n} \\right) \\quad = \\quad -\\frac{3}{4} + \\left(-\\frac{1}{15}* \\frac{1}{2} \\right) = - \\frac{47}{60} \\\\\n",
    "$$\n",
    "\n",
    "<br/><br/>\n",
    "\n",
    "$$\n",
    "\\text{Update } \\vec{b} \\\\\n",
    "\\frac{∂E}{∂\\vec{b}} \\quad = \\quad \\frac{∂E}{∂\\vec{a}} * \\frac{∂\\vec{a}}{∂\\vec{z}} * \\frac{∂\\vec{z}}{∂\\vec{b}} \\quad = \\quad (\\vec{a} - \\vec{y}) * 1 * 1 \\quad = \\quad (\\frac{1}{2} - \\frac{3}{4}) * 1 * 1 = -\\frac{1}{4} \\\\\n",
    "\\vec{b}_{n+1} = \\quad \\vec{b}_{n} + \\left( - \\eta * \\frac{∂E}{∂\\vec{b}_n} \\right) \\quad = \\quad -\\frac{3}{2} + \\left(-\\frac{1}{15}* -\\frac{1}{4} \\right) = - \\frac{89}{60}$$"
   ]
  },
  {
   "cell_type": "markdown",
   "metadata": {},
   "source": [
    "\n",
    "$$ \n",
    "\\text{New feedforward with new weights} \\\\\n",
    "\\vec{x} = \\begin{bmatrix}\n",
    "           3 \\\\\n",
    "           -2 \\\\\n",
    "           \\end{bmatrix} \n",
    "\\quad\n",
    "\\vec{W} = \\begin{bmatrix}\n",
    "           \\frac{13}{60} \\\\\n",
    "           - \\frac{47}{60} \\\\\n",
    "           \\end{bmatrix} \n",
    "\\quad \\vec{b} = -\\frac{89}{60} $$\n",
    "\n",
    "$$ \\vec{a}\\quad =\\quad Relu \\left( (\\vec{x}_1 * \\vec{W}_1) + (\\vec{x}_2 * \\vec{W}_2) + (\\vec{b}) \\right)  \\quad=\\quad Relu \\left( (3 * \\frac{13}{60}) + (-2 * -\\frac{47}{60}) + (-\\frac{89}{60}) \\right) \\quad = \\quad 0.733$$\n",
    "\n"
   ]
  },
  {
   "cell_type": "markdown",
   "metadata": {},
   "source": [
    "$$\n",
    "\\text{Multiple Layers?} \\\\\n",
    "\\frac{∂E}{∂\\vec{W}_1^0} \\quad = \\quad \\frac{∂E}{∂\\vec{a}^2} * \\frac{∂\\vec{a}^2}{∂\\vec{z}^2} * \\frac{∂\\vec{z}^2}{∂\\vec{a}^1} * \\frac{∂\\vec{a}^1}{∂\\vec{z}^1} * \\frac{∂\\vec{z}^1}{∂\\vec{a}^0} * \\frac{∂\\vec{a}^0}{∂\\vec{z}^0}  * \\frac{∂\\vec{z}^0}{∂\\vec{W}_1^0} \\\\\n",
    "\\text{Vanishing / Exploding Gradient Problem}\n",
    "$$\n",
    "\n"
   ]
  },
  {
   "cell_type": "code",
   "execution_count": null,
   "metadata": {},
   "outputs": [],
   "source": []
  }
 ],
 "metadata": {
  "interpreter": {
   "hash": "de3d8b9ee6c896e32a4170cf2ad4fd2388ca5812385a2fbd9e8fac272ab4ce1d"
  },
  "kernelspec": {
   "display_name": "Python 3 (ipykernel)",
   "language": "python",
   "name": "python3"
  },
  "language_info": {
   "codemirror_mode": {
    "name": "ipython",
    "version": 3
   },
   "file_extension": ".py",
   "mimetype": "text/x-python",
   "name": "python",
   "nbconvert_exporter": "python",
   "pygments_lexer": "ipython3",
   "version": "3.9.13"
  }
 },
 "nbformat": 4,
 "nbformat_minor": 2
}
