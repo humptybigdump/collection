{
 "cells": [
  {
   "cell_type": "markdown",
   "metadata": {},
   "source": [
    "# Geodatenanalyse 1\n",
    "\n",
    "## Termin 1 - Block 2"
   ]
  },
  {
   "cell_type": "markdown",
   "metadata": {},
   "source": [
    "### Aufgabe 1\n",
    "#### Einfache Rechenoperationen\n",
    "Schreibe jeweils ein Rechenbeispiel für eine Addition, Substraktion, Multiplikation und Division bei der die Zahl 9 heraus kommt.\n",
    "\n",
    "#### Hinweis\n",
    "Nutze die *print()* Funktion um alle deine Ergebnisse in dieser und den nachfolgenden Ausgabe zu sehen."
   ]
  },
  {
   "cell_type": "code",
   "execution_count": 1,
   "metadata": {},
   "outputs": [
    {
     "name": "stdout",
     "output_type": "stream",
     "text": [
      "9\n",
      "9\n",
      "9\n",
      "9.0\n"
     ]
    }
   ],
   "source": [
    "print(6+3)\n",
    "print(12-3)\n",
    "print(3*3)\n",
    "print(27/3)"
   ]
  },
  {
   "cell_type": "markdown",
   "metadata": {},
   "source": [
    "#### Zinsen\n",
    "- Wie hoch ist dein Endkapital bei einer Einlage von 10000 Euro, einem Zinsatz von 2 % p.a. und einer Laufzeit von 10 Jahren?\n",
    "> $$Einlage * Zinsatz^{Laufzeit}$$\n",
    "\n",
    "- Speichere dein Endkapital in einer Variablen. Welchen Datentype hat deine berechnete Einlage?\n",
    "- Schreibe eine Nachricht als Ausgabe, die dein Endkapital als ganze Zahl vom Type *integer* ausweist:\n",
    "> Mein Endkapital beträgt: 12189"
   ]
  },
  {
   "cell_type": "code",
   "execution_count": 2,
   "metadata": {},
   "outputs": [
    {
     "name": "stdout",
     "output_type": "stream",
     "text": [
      "12189.944199947573\n",
      "<class 'float'>\n",
      "Mein Endkapital beträgt 12189\n"
     ]
    }
   ],
   "source": [
    "# Berechnung\n",
    "print(10000*1.02**10)\n",
    "\n",
    "# Variable\n",
    "value = 10000*1.02**10\n",
    "\n",
    "# Datentype\n",
    "print(type(value))\n",
    "\n",
    "# Nachricht\n",
    "print(\"Mein Endkapital beträgt\", int(value))"
   ]
  },
  {
   "cell_type": "markdown",
   "metadata": {},
   "source": [
    "### Aufgabe 2\n",
    "\n",
    "#### Variablen zuweisen\n",
    "- Du spielst \"Stadt, Land, Fluss\". Wähle einen beliebigen Buchstaben des Alphabets und überlege dir eine Stadt, ein Land und den Namen eines Flusses mit dem entsprechenden Anfangsbuchstaben. Weise jedes deiner drei Ergebnisse einer entsprechenden Variablen zu, wie z.B.: \n",
    "> city = \"Karlsruhe\"\n",
    "\n",
    "- Füge deinem Code einen Kommentar hinzu, der einen Hinweis auf den von dir gewählten Buchstaben enthält.\n",
    "\n",
    "\n",
    "- Gebe für jede Variable eine einfache selbst gewählte und individuelle Nachricht aus. Eine Nachricht könnte zum Beispiel sein: \n",
    "> \"In Karlsruhe scheint heute die Sonne.\"\n"
   ]
  },
  {
   "cell_type": "code",
   "execution_count": 3,
   "metadata": {},
   "outputs": [
    {
     "name": "stdout",
     "output_type": "stream",
     "text": [
      "In Karlsruhe scheint heute die Sonne.\n",
      "Korea ist in zwei Staaten aufgeteilt.\n",
      "Die Kinzig fließt in den Rhein.\n"
     ]
    }
   ],
   "source": [
    "#Für mein Beispiel habe ich den Buchstaben \"K\" gewählt\n",
    "city = \"Karlsruhe\"\n",
    "country = \"Korea\"\n",
    "river = \"Kinzig\"\n",
    "\n",
    "print(\"In\",city,\"scheint heute die Sonne.\")\n",
    "print(country, \"ist in zwei Staaten aufgeteilt.\")\n",
    "print(\"Die\",river,\"fließt in den Rhein.\")"
   ]
  },
  {
   "cell_type": "markdown",
   "metadata": {},
   "source": [
    "#### Liste erstellen und indizieren\n",
    "- Erstelle eine Liste \"*game*\" aus den Stadt-Land-Fluss Variablen.\n",
    "\n",
    "\n",
    "- Gebe das dritte Element deiner Liste aus.\n",
    "\n",
    "\n",
    "- Mit drei Elementen ist unsere Liste noch verhältnismäßig kurz und wir können die Anzahl der Elemente ohne Probleme auf einen Blick bestimmen. Oft möchten wir die Listenlänge aber dynamisch als Variable verwenden können. Zum Beispiel um die aktuelle Anzahl Besucher einer Veranstaltung oder Einrichtung abzufragen, oder die Menge der Daten zu bestimmen, die wir in einer Visualisierung auswerten möchten. Spätestens bei sehr langen Listen benötigen wir also eine entsprechende Funktion. Schaue dir hierzu folgende Funktion an und gebe damit eine entsprechende Nachricht mit der Listenlänge aus:\n",
    ">len()\n"
   ]
  },
  {
   "cell_type": "code",
   "execution_count": 4,
   "metadata": {},
   "outputs": [
    {
     "name": "stdout",
     "output_type": "stream",
     "text": [
      "Kinzig\n",
      "Die Anzahl der Elemente in meiner 'game' Liste ist 3\n"
     ]
    }
   ],
   "source": [
    "# Erstellen\n",
    "game = [city,country,river]\n",
    "# Index\n",
    "print(game[2])\n",
    "# Länge\n",
    "print(\"Die Anzahl der Elemente in meiner 'game' Liste ist\", len(game))"
   ]
  },
  {
   "cell_type": "markdown",
   "metadata": {},
   "source": [
    "### Aufgabe 3\n",
    "#### Liste verändern\n",
    "- Verwende deine zuvor erstellte Liste aus A2.2 und ersetze dein Land mit Hilfe des Listenindex durch den Namen eines anderen Landes.\n",
    "\n",
    "\n",
    "- Füge deiner Liste drei weitere Einträge (Elemente) hinzu. Überlege dir hierfür einen weiteren beliebigen Stadt- und zwei weitere Ländernamen. Eines der drei neuen Elemente sollte dabei als zweites Element in deiner Liste zu finden sein."
   ]
  },
  {
   "cell_type": "code",
   "execution_count": 5,
   "metadata": {},
   "outputs": [
    {
     "name": "stdout",
     "output_type": "stream",
     "text": [
      "['Karlsruhe', 'Frankreich', 'Kinzig']\n",
      "['Karlsruhe', 'Italien', 'Frankreich', 'Kinzig', 'Dortmund', 'Spanien']\n"
     ]
    }
   ],
   "source": [
    "game[1] = \"Frankreich\"\n",
    "print(game)\n",
    "\n",
    "game.append(\"Dortmund\")\n",
    "game.append(\"Spanien\")\n",
    "game.insert(1,\"Italien\")\n",
    "print(game)"
   ]
  },
  {
   "cell_type": "markdown",
   "metadata": {},
   "source": [
    "#### Liste kopieren\n",
    "\n",
    "Unsere Liste enthält jetzt zwei Städte, drei Länder und einen Fluss. Für unseren nächsten Bearbeitungsschritte hätten wir gerne eine **neue** Liste *countries*, in der alle ursprünglichen Elemente unserer *game* Liste enthalten sind. Gleichzeitig soll die Liste *game* von zukünftigen Änderungen in *countries* nicht betroffen sein.\n",
    "\n",
    "- Kopiere zunächst die *game* Liste und erstelle die Liste *countries*. Schaue dir hierzu folgende Funktion an:\n",
    "> copy()"
   ]
  },
  {
   "cell_type": "markdown",
   "metadata": {},
   "source": [
    "#### Einträge löschen\n",
    "In unserer neuen *countries* Liste interessieren wir uns vor allem für die Ländereinträge, denn wir möchten diese später nutzen um weitere länderspezifische Informationen zu speichern und zu sammeln. Dazu müssen wir die *countries* Liste aber zunächst von den Fluss- und Städteeinträgen bereinigen.\n",
    "\n",
    "- Entferne den Flusseintrag, mit Hilfe der ursprünglichen *river* Variable aus A2.1, aus der neuen Liste.\n",
    "\n",
    "Für die Städtenamen haben wir eventuell später noch Verwendung. Deshalb entfernen wir sie aus *countries* und fügen sie einer neuen Liste *cities* hinzu.\n",
    "\n",
    "- Erstelle eine neue, leere Liste mit dem Namen *cities*\n",
    "\n",
    "- Entferne die Städte nacheinander aus deiner Liste. Aber stelle sicher, dass gleichzeitig die jeweiligen Städtenamen zur neuen Liste *cities* hinzugefügt werden.\n",
    "\n",
    "#### Hinweis\n",
    "\n",
    "Du kannst Funktionen auch kombinieren:\\\n",
    "```list1.append(list2.pop())```"
   ]
  },
  {
   "cell_type": "code",
   "execution_count": 6,
   "metadata": {},
   "outputs": [
    {
     "name": "stdout",
     "output_type": "stream",
     "text": [
      "['Karlsruhe', 'Italien', 'Frankreich', 'Dortmund', 'Spanien']\n",
      "['Karlsruhe']\n",
      "['Karlsruhe', 'Dortmund']\n",
      "['Italien', 'Frankreich', 'Spanien']\n"
     ]
    }
   ],
   "source": [
    "# Erstelle eine Kopie\n",
    "countries = game.copy()\n",
    "\n",
    "# Entferne bestimmten Eintrag\n",
    "countries.remove(river)\n",
    "print(countries)\n",
    "\n",
    "# Entfernen der Städte Einträge aus der Liste mit gleichzeitiger Speicherung der aussortierten Einträge\n",
    "cities = []\n",
    "cities.append(countries.pop(0))\n",
    "print(cities)\n",
    "# Achtung, Index verändert sich, da Element entnommen wurde\n",
    "cities.append(countries.pop(2))\n",
    "print(cities)\n",
    "print(countries)"
   ]
  },
  {
   "cell_type": "markdown",
   "metadata": {},
   "source": [
    "#### Liste aus Listen erstellen\n",
    "Recherchiere Fläche- und Einwohnerzahl der Länder in deiner Liste *countries*, damit wir diese als zusätzliche Information hinzufügen können.\n",
    "\n",
    "- Weise die Werte jeweils einer eigenen, sinnvollen Variablen zu. Zum Beispiel:\n",
    "\n",
    "```\n",
    "#Flächen\n",
    "IT_area = \n",
    "...\n",
    "# Bevölkerung\n",
    "IT_pop =\n",
    "...\n",
    "```\n",
    "\n",
    "- Füge die Variablen dann dem entsprechenden Ländereintrag in deiner Liste *countries* hinzu, so dass du drei Listen innerhalb deiner ursprünglichen Liste erhälst:\n",
    "\n",
    "```\n",
    "countries = [[\"Italien\",IT_area,IT_pop],[...],[...]]\n",
    "```\n",
    "\n",
    "- Schaue dir den Datentype von *countries* an. \n",
    "\n",
    "\n",
    "- Du siehst, wir befinden uns immer noch in einer Liste. Wir können also weiterhin indizieren, um gewünschte Elemente aus unserer Liste abfragen. Der einzige Unterschied ist, dass jedes unserer Elemente in *countries* jetzt drei Unterelemente in einer neuen Liste enthält.\n",
    "\n",
    "    Was also, wenn uns zum Beispiel nur die Fläche des zweiten Landes in unserer Liste interessiert? Probiere es aus:\n",
    "\n",
    "> countries[1][1]\n",
    "\n",
    "- Gebe mit Hilfe des Index für jedes Land in deiner *countries* Liste eine individuelle Nachricht mit dem gleichen Text aus. Weise dabei auf die jeweilige Fläche und Bevölkerungszahl hin. Deine Nachricht könnte zum Beispiel wie folgt aussehen:\n",
    "> \"In Italien leben laut aktueller Zählung 60.026.546 Menschen auf einer Fläche von 301.338 km<sup>2</sup>\\.\""
   ]
  },
  {
   "cell_type": "code",
   "execution_count": 7,
   "metadata": {},
   "outputs": [
    {
     "name": "stdout",
     "output_type": "stream",
     "text": [
      "[['Italien', 301338, 60026546], ['Frankreich', 632733, 67000000.0], ['Spanien', 505970, 47100000.0]]\n",
      "<class 'list'>\n",
      "632733\n",
      "In Italien leben laut aktueller Zählung 60026546 Menschen auf einer Fläche von 301338 km²\n",
      "In Frankreich leben laut aktueller Zählung  67000000.0 Menschen auf einer Fläche von 632733 km²\n",
      "In Spanien leben laut aktueller Zählung 47100000.0 Menschen auf einer Fläche von 505970 km²\n"
     ]
    }
   ],
   "source": [
    "# Flächen\n",
    "IT_area = 301338\n",
    "FR_area = 632733\n",
    "ES_area = 505970\n",
    "\n",
    "# Bevölkerung\n",
    "IT_pop = 60026546\n",
    "FR_pop = 67e6\n",
    "ES_pop = 47.1e6\n",
    "\n",
    "countries = [[\"Italien\",IT_area,IT_pop],\n",
    "             [\"Frankreich\",FR_area,FR_pop],\n",
    "             [\"Spanien\",ES_area, ES_pop]]\n",
    "\n",
    "print(countries)\n",
    "print(type(countries))\n",
    "\n",
    "# Indexing von Listen in Listen\n",
    "print(countries[1][1])\n",
    "\n",
    "# Individuelle Nachrichten\n",
    "print(\"In\",countries[0][0],\"leben laut aktueller Zählung\",countries[0][2],\"Menschen auf einer Fläche von\",countries[0][1],eval(r'\"km\" + \"\\u00b' + str(2) + '\"'))\n",
    "print(\"In\",countries[1][0],\"leben laut aktueller Zählung \", countries[1][2],\"Menschen auf einer Fläche von\",countries[1][1],eval(r'\"km\" + \"\\u00b' + str(2) + '\"'))\n",
    "print(\"In\",countries[2][0],\"leben laut aktueller Zählung\",countries[2][2],\"Menschen auf einer Fläche von\",countries[2][1],eval(r'\"km\" + \"\\u00b' + str(2) + '\"'))"
   ]
  },
  {
   "cell_type": "markdown",
   "metadata": {},
   "source": [
    "### Aufgabe 4\n",
    "#### Schleifen\n",
    "In Aufgabe 3.3 mussten wir für jede Nachricht eine gesonderte *print* Operation schreiben. Eleganter lässt sich dies mit einer Schleife lösen.\n",
    "\n",
    "- Gebe die gleiche individuelle Nachricht für jedes Land in deiner \"countries\" Liste noch einmal aus, aber verwende dieses Mal eine Schleife.\n",
    "> for country in countries: \n",
    "       ...\n",
    "\n",
    "- Uns interessiert außerdem die Bevölkerungsdichte in jedem Land. Rechne und gebe diese ebenfalls über die Schleife aus. Für die Ausgabe hätten wir gerne die Zahl ohne Kommastellen.\n"
   ]
  },
  {
   "cell_type": "code",
   "execution_count": 8,
   "metadata": {},
   "outputs": [
    {
     "name": "stdout",
     "output_type": "stream",
     "text": [
      "In Italien leben laut aktueller Zählung 60026546 Menschen auf einer Fläche von 301338 km²\n",
      "Die Bevölkerungsdichte in Italien beträgt: 199 Einwohner pro km²\n",
      "In Frankreich leben laut aktueller Zählung 67000000.0 Menschen auf einer Fläche von 632733 km²\n",
      "Die Bevölkerungsdichte in Frankreich beträgt: 105 Einwohner pro km²\n",
      "In Spanien leben laut aktueller Zählung 47100000.0 Menschen auf einer Fläche von 505970 km²\n",
      "Die Bevölkerungsdichte in Spanien beträgt: 93 Einwohner pro km²\n"
     ]
    }
   ],
   "source": [
    "# Schleife\n",
    "for country in countries:\n",
    "    print(\"In \" + str(country[0]),\"leben laut aktueller Zählung \" +str(country[2]),\n",
    "          \"Menschen auf einer Fläche von\",country[1],eval(r'\"km\" + \"\\u00b' + str(2) + '\"'))\n",
    "    pop_density = country[2]/country[1]\n",
    "    print(\"Die Bevölkerungsdichte in \" + country[0] + \" beträgt:\",int(pop_density),\"Einwohner pro\",eval(r'\"km\" + \"\\u00b' + str(2) + '\"'))"
   ]
  },
  {
   "cell_type": "markdown",
   "metadata": {},
   "source": [
    "### Aufgabe 5\n",
    "#### Numerische Listen\n",
    "Verwende die range() Funktion zum Erstellen numerischer Listen.\n",
    "\n",
    "- **Liste 1:** Ganze Zahlen von 0 - 100\n",
    "- **Liste 2:** Nur die geraden Zahlen von 0 - 100\n",
    "- **Liste 3:** Gerade Zahlen von 100 - 0"
   ]
  },
  {
   "cell_type": "code",
   "execution_count": 9,
   "metadata": {},
   "outputs": [
    {
     "name": "stdout",
     "output_type": "stream",
     "text": [
      "[0, 1, 2, 3, 4, 5, 6, 7, 8, 9, 10, 11, 12, 13, 14, 15, 16, 17, 18, 19, 20, 21, 22, 23, 24, 25, 26, 27, 28, 29, 30, 31, 32, 33, 34, 35, 36, 37, 38, 39, 40, 41, 42, 43, 44, 45, 46, 47, 48, 49, 50, 51, 52, 53, 54, 55, 56, 57, 58, 59, 60, 61, 62, 63, 64, 65, 66, 67, 68, 69, 70, 71, 72, 73, 74, 75, 76, 77, 78, 79, 80, 81, 82, 83, 84, 85, 86, 87, 88, 89, 90, 91, 92, 93, 94, 95, 96, 97, 98, 99]\n",
      "[0, 2, 4, 6, 8, 10, 12, 14, 16, 18, 20, 22, 24, 26, 28, 30, 32, 34, 36, 38, 40, 42, 44, 46, 48, 50, 52, 54, 56, 58, 60, 62, 64, 66, 68, 70, 72, 74, 76, 78, 80, 82, 84, 86, 88, 90, 92, 94, 96, 98]\n",
      "[98, 96, 94, 92, 90, 88, 86, 84, 82, 80, 78, 76, 74, 72, 70, 68, 66, 64, 62, 60, 58, 56, 54, 52, 50, 48, 46, 44, 42, 40, 38, 36, 34, 32, 30, 28, 26, 24, 22, 20, 18, 16, 14, 12, 10, 8, 6, 4, 2, 0]\n"
     ]
    }
   ],
   "source": [
    "list1 = list(range(0,100))\n",
    "list2 = list(range(0,100,2))\n",
    "list3 = list(range(0,100,2))[::-1]\n",
    "\n",
    "print(list1)\n",
    "print(list2)\n",
    "print(list3)"
   ]
  },
  {
   "cell_type": "markdown",
   "metadata": {},
   "source": [
    "#### Slicing\n",
    "- Gebe die ersten 30 Werte der Liste 1 aus.\n",
    "\n",
    "- Gebe die letzten 30 Werte der Liste 1 aus.\n",
    "\n",
    "- Gebe die Werte von 30 bis 50 der Liste 1 aus.\n",
    "\n",
    "- Gebe die kleinsten 10 Werte der Liste 3 aus."
   ]
  },
  {
   "cell_type": "code",
   "execution_count": 10,
   "metadata": {},
   "outputs": [
    {
     "name": "stdout",
     "output_type": "stream",
     "text": [
      "[0, 1, 2, 3, 4, 5, 6, 7, 8, 9, 10, 11, 12, 13, 14, 15, 16, 17, 18, 19, 20, 21, 22, 23, 24, 25, 26, 27, 28, 29] \n",
      "\n",
      "[99, 98, 97, 96, 95, 94, 93, 92, 91, 90, 89, 88, 87, 86, 85, 84, 83, 82, 81, 80, 79, 78, 77, 76, 75, 74, 73, 72, 71, 70] \n",
      "\n",
      "[30, 31, 32, 33, 34, 35, 36, 37, 38, 39, 40, 41, 42, 43, 44, 45, 46, 47, 48, 49, 50] \n",
      "\n",
      "[18, 16, 14, 12, 10, 8, 6, 4, 2, 0]\n"
     ]
    }
   ],
   "source": [
    "# ersten 30 Werte\n",
    "print(list1[:30],\"\\n\")\n",
    "# letzten 30 Werte\n",
    "print(list1[:-31:-1],\"\\n\")\n",
    "# Werte 30 - 50\n",
    "print(list1[30:51],\"\\n\")\n",
    "# Die kleinsten 10 Werte (befinden sich am Ende der Liste)\n",
    "print(list3[-10:])"
   ]
  },
  {
   "cell_type": "markdown",
   "metadata": {},
   "source": [
    "#### Hinweis\n",
    "Eine weitere Möglichkeit eine sogenannte *shallow copy* einer Liste wie bei der *copy()* Methode zu erzeugen, ist der *slicing* Syntax:\n",
    "> new_list = list[:]"
   ]
  },
  {
   "cell_type": "markdown",
   "metadata": {},
   "source": [
    "### Aufgabe 6\n",
    "#### Daten zu einer Person\n",
    "- Erstelle ein Dictionary mit Informationen über einen Freund oder Freundin. Speichere darin den Vornamen, Nachnamen und Alter der Person. Gebe jede dieser Informationen einzeln aus. \n",
    "- Füge den Wohnort als weitere Information hinzu."
   ]
  },
  {
   "cell_type": "code",
   "execution_count": 11,
   "metadata": {},
   "outputs": [
    {
     "name": "stdout",
     "output_type": "stream",
     "text": [
      "Donald\n",
      "Duck\n",
      "76\n"
     ]
    }
   ],
   "source": [
    "person = {\"Vorname\": \"Donald\",\n",
    "          \"Nachname\": \"Duck\", \n",
    "          \"Alter\": 76}\n",
    "\n",
    "print(person[\"Vorname\"])\n",
    "print(person[\"Nachname\"])\n",
    "print(person[\"Alter\"])"
   ]
  },
  {
   "cell_type": "code",
   "execution_count": 12,
   "metadata": {},
   "outputs": [
    {
     "data": {
      "text/plain": [
       "{'Vorname': 'Donald',\n",
       " 'Nachname': 'Duck',\n",
       " 'Alter': 76,\n",
       " 'Wohnort': 'Entenhausen'}"
      ]
     },
     "execution_count": 12,
     "metadata": {},
     "output_type": "execute_result"
    }
   ],
   "source": [
    "person[\"Wohnort\"] = \"Entenhausen\"\n",
    "person"
   ]
  },
  {
   "cell_type": "markdown",
   "metadata": {},
   "source": [
    "### Aufgabe 7\n",
    "#### Bedingte Tests und Anweisungen\n",
    "Schreibe mindestens 6 verschiedene bedingte Tests. Dabei sollten folgende Kriterien erfüllt werden:\n",
    "- mindestens 3 *True* und 3 *False* Bedingungen\n",
    "- mindestens eine Test der mehrere Bedingungen enthält\n",
    "- mindestens ein Test mithilfe einer Liste\n",
    "- mindestens ein Test dem eine Anweisung folgt (if-else)\n",
    "\n",
    "Die verschiedenen Kritieren können natürlich auch miteinander verknüpft werden."
   ]
  },
  {
   "cell_type": "code",
   "execution_count": 13,
   "metadata": {},
   "outputs": [],
   "source": [
    "# Siehe Vorlesung"
   ]
  },
  {
   "cell_type": "markdown",
   "metadata": {},
   "source": [
    "### Aufgabe 8\n",
    "#### Benutzereingabe\n",
    "- Schreibe ein kurzes Programm das den Benutzer nach seiner Lieblingsfarbe fragt. Entspricht die Antwort deiner eigenen Lieblingsfarbe, gebe eine entsprechende Nachricht aus. Andernfalls melde dem Benutzer seine Farbe zurück.\n",
    "- Frage den Benutzer nach einer Zahl. Melde dem Benutzer zurück, ob seine Zahl durch 2 teilbar ist.\n"
   ]
  },
  {
   "cell_type": "code",
   "execution_count": 14,
   "metadata": {},
   "outputs": [
    {
     "name": "stdout",
     "output_type": "stream",
     "text": [
      "Was ist deine Lieblingsfarbe? blau\n",
      "blau\n",
      "\n",
      "Deine Lieblingsfarbe ist also  blau\n"
     ]
    }
   ],
   "source": [
    "# Lieblingsfarbe\n",
    "color = input(\"Was ist deine Lieblingsfarbe? \")\n",
    "print(color)\n",
    "if color.lower() == \"grün\":\n",
    "    print(\"\\nWow, das ist auch meine Lieblingsfarbe!!\")\n",
    "else:\n",
    "    print(\"\\nDeine Lieblingsfarbe ist also \", color)"
   ]
  },
  {
   "cell_type": "code",
   "execution_count": 15,
   "metadata": {},
   "outputs": [
    {
     "name": "stdout",
     "output_type": "stream",
     "text": [
      "Nenne mir eine Zahl! 12\n",
      "Deine Zahl lässt sich durch 2 teilen!\n"
     ]
    }
   ],
   "source": [
    "# Durch zwei teilbar\n",
    "number = eval(input(\"Nenne mir eine Zahl! \"))\n",
    "if number % 2 == 0:\n",
    "    print(\"Deine Zahl lässt sich durch 2 teilen!\")\n",
    "else:\n",
    "    print(\"Deine Zahl lässt sich nicht durch 2 teilen!\")"
   ]
  },
  {
   "cell_type": "markdown",
   "metadata": {},
   "source": [
    "#### While Schleife\n",
    "Frage den Benutzer dieses Mal so lange nach einer neuen Zahl, bis dieser eine Zahl nennt die durch 3 teilbar ist. Passe dafür die Lösung aus der vorherigen Aufgabe an und nutze eine Schleife."
   ]
  },
  {
   "cell_type": "code",
   "execution_count": 16,
   "metadata": {},
   "outputs": [
    {
     "name": "stdout",
     "output_type": "stream",
     "text": [
      "Nenne mir eine Zahl! 15\n",
      "Deine Zahl lässt sich durch 3 teilen!\n"
     ]
    }
   ],
   "source": [
    "# Durch drei teilbar\n",
    "number = 1\n",
    "while number % 3 != 0:\n",
    "    number = eval(input(\"Nenne mir eine Zahl! \"))\n",
    "    if number %3 != 0:\n",
    "        print(\"Deine Zahl lässt sich nicht durch 3 teilen!\")\n",
    "\n",
    "print(\"Deine Zahl lässt sich durch 3 teilen!\")    "
   ]
  },
  {
   "cell_type": "markdown",
   "metadata": {},
   "source": [
    "### Aufgabe 9\n",
    "#### Deine eigene Funktion\n",
    "- Schreibe eine Funktion mit dem Namen *hiking()*, die Eingangsparameter für die <font color=\"green\">zurückgelegte Strecke</font>, die dafür <font color=\"green\">benötigte Zeit</font> und den <font color=\"green\">Ort der Wanderung</font> hat. \n",
    "\n",
    "    Die Funktion sollte eine Nachricht, mit dem durchschnittlichen Lauftempo und dem Ortsnamen ausgeben. Diese könnte zum Beispiel folgendermaßen lauten:\n",
    " > \" Bei unserer Wanderung in Zermatt hatten wir ein durchschnittliches Lauftempo von 3.5 km/h!\" \n",
    " \n",
    "\n",
    "- Bei einem Tempo von unter 2 km pro Stunde soll eine zusätzliche Nachricht ausgegeben werden, mit dem Hinweis, dass die Wanderung wohl besonders anstrengend oder steil war."
   ]
  },
  {
   "cell_type": "code",
   "execution_count": 17,
   "metadata": {},
   "outputs": [
    {
     "name": "stdout",
     "output_type": "stream",
     "text": [
      "Bei unserer Wanderung in Zermatt hatten wir ein durchschnittliches Lauftempo von 3.5 km/h!\n",
      "Bei unserer Wanderung in Bruchsal hatten wir ein durchschnittliches Lauftempo von 1.5 km/h!\n",
      "Die Wanderung muss besonders anstrengend gewesen sein!\n"
     ]
    }
   ],
   "source": [
    "# eigene Funktion erstellen\n",
    "def hiking(distance, time, location):\n",
    "    speed = distance / time\n",
    "    print(\"Bei unserer Wanderung in\",str(location), \n",
    "          \"hatten wir ein durchschnittliches Lauftempo von\",\n",
    "          speed,\"km/h!\")    \n",
    "    if speed < 2.0:\n",
    "        print(\"Die Wanderung muss besonders anstrengend gewesen sein!\")\n",
    "\n",
    "# Schnell unterwegs in Zermatt\n",
    "hiking(10.5,3,\"Zermatt\")\n",
    "\n",
    "# Was war da los in Bruchsal\n",
    "hiking(6,4,\"Bruchsal\")"
   ]
  },
  {
   "cell_type": "markdown",
   "metadata": {},
   "source": [
    "### Aufgabe 10\n",
    "#### Pizzabelag\n",
    "Wir haben vor einiger Zeit eine .txt Datei mit einer Zutatenliste für unsere Lieblingspizza angelegt.\n",
    "- Öffne und lese die Datei *Pizza.txt*.\n",
    "- Füge der Liste drei weitere Zutaten hinzu und schreibe diese Liste in eine neue .txt Datei mit dem Namen *Pizza_neu*.txt*.\n",
    "- Vergiss nicht, die Dateien wieder zu schließen."
   ]
  },
  {
   "cell_type": "code",
   "execution_count": 18,
   "metadata": {
    "scrolled": false
   },
   "outputs": [
    {
     "name": "stdout",
     "output_type": "stream",
     "text": [
      "Kaese\n",
      "Tomaten\n",
      "Ziebeln\n",
      "Schinken\n",
      "Ruccola\n"
     ]
    }
   ],
   "source": [
    "# Pizzabelag\n",
    "## Lesen\n",
    "path = \"Daten\\Pizza.txt\"\n",
    "# open mit \"read\" mode\n",
    "pizza_file = open(path,\"r\")\n",
    "# read\n",
    "toppings = pizza_file.read()\n",
    "print(toppings)\n",
    "\n",
    "## Erstelle eine neue Datei\n",
    "new_path = \"Daten\\Pizza_neu.txt\"\n",
    "# open mit \"write\" mode\n",
    "pizza_new_file = open(new_path,\"w\")\n",
    "\n",
    "# Titel, den wir unserer neuen Datei hinzufügen möchten\n",
    "new_toppings = [\"Gurken\",\"Selerie\",\"Knoblauch\"]\n",
    "\n",
    "# write\n",
    "pizza_new_file.write(toppings)\n",
    "for i in new_toppings:\n",
    "    pizza_new_file.write(\"\\n\"+i)\n",
    "    \n",
    "pizza_file.close()\n",
    "pizza_new_file.close()    "
   ]
  },
  {
   "cell_type": "markdown",
   "metadata": {},
   "source": [
    "## ENDE"
   ]
  }
 ],
 "metadata": {
  "kernelspec": {
   "display_name": "Python 3",
   "language": "python",
   "name": "python3"
  },
  "language_info": {
   "codemirror_mode": {
    "name": "ipython",
    "version": 3
   },
   "file_extension": ".py",
   "mimetype": "text/x-python",
   "name": "python",
   "nbconvert_exporter": "python",
   "pygments_lexer": "ipython3",
   "version": "3.7.10"
  },
  "toc": {
   "base_numbering": 1,
   "nav_menu": {},
   "number_sections": true,
   "sideBar": true,
   "skip_h1_title": false,
   "title_cell": "Table of Contents",
   "title_sidebar": "Contents",
   "toc_cell": false,
   "toc_position": {},
   "toc_section_display": true,
   "toc_window_display": false
  }
 },
 "nbformat": 4,
 "nbformat_minor": 4
}
