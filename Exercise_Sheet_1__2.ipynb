{
 "cells": [
  {
   "cell_type": "markdown",
   "metadata": {
    "cell_style": "center"
   },
   "source": [
    "# Exercise 1\n",
    "## Baseband and Band-Pass Signals\n",
    "### Problem 1\n",
    "Generate a baseband signal and mix it directly to a band-pass region, and back!\n",
    "Only use *real* operations for the mixing process."
   ]
  },
  {
   "cell_type": "markdown",
   "metadata": {},
   "source": [
    "This imports but a few common Python libraries"
   ]
  },
  {
   "cell_type": "code",
   "execution_count": null,
   "metadata": {},
   "outputs": [],
   "source": [
    "# import packages for scientific python and plotting\n",
    "import numpy as np\n",
    "import scipy.signal as sig\n",
    "import matplotlib.pyplot as plt\n",
    "%matplotlib inline\n",
    "YOUR_CODE_HERE = None  # placeholder"
   ]
  },
  {
   "cell_type": "markdown",
   "metadata": {},
   "source": [
    "#### a) Generate a circularly normal distributed (complex) baseband signals with parameters as given!"
   ]
  },
  {
   "cell_type": "code",
   "execution_count": null,
   "metadata": {},
   "outputs": [],
   "source": [
    "fs = 10000  # sampling rate (samples per second)\n",
    "signal_bandwidth = 1000  # two-sided bandwidth in Hz\n",
    "len_signal = 10000  # in samples\n",
    "mean_s = 0  # mean of the random signal\n",
    "var_s = 1  # variance of the random signal\n",
    "\n",
    "random_signal = YOUR_CODE_HERE  # generate white noise using numpy.random.randn\n",
    "cutoff_freq = YOUR_CODE_HERE  # define the cutoff frequency to limit the spectral content to the signal bandwidth\n",
    "#h_LP0 = sig.firwin(numtaps=51, cutoff=cutoff_freq, window='hamming', pass_zero=True, scale=True, nyq=0.5)\n",
    "s_BB = YOUR_CODE_HERE  # create the baseband signal by filtering the noise\n"
   ]
  },
  {
   "cell_type": "code",
   "execution_count": null,
   "metadata": {},
   "outputs": [],
   "source": [
    "# plot baseband spectrum\n",
    "f = np.arange(start=-fs/2, stop=fs/2, step=fs/len(s_BB))\n",
    "tx_bb_spectrum = np.abs(np.fft.fftshift(np.fft.fft(s_BB)))**2\n",
    "plt.semilogy(f, tx_bb_spectrum)\n",
    "plt.xlim(-fs/2, fs/2); plt.xlabel(\"f [Hz]\"); plt.ylabel('Power')\n",
    "plt.title(\"TX: baseband spectrum\");"
   ]
  },
  {
   "cell_type": "markdown",
   "metadata": {},
   "source": [
    "#### b) Implement the quadrature upconverter!"
   ]
  },
  {
   "cell_type": "code",
   "execution_count": null,
   "metadata": {},
   "outputs": [],
   "source": [
    "fc = 2000  # carrier frequency\n",
    "\n",
    "s_BP = YOUR_CODE_HERE\n"
   ]
  },
  {
   "cell_type": "code",
   "execution_count": null,
   "metadata": {},
   "outputs": [],
   "source": [
    "# plot bandpass spectrum\n",
    "f = np.arange(start=-fs/2, stop=fs/2, step=fs/len(s_BP))\n",
    "tx_bp_spectrum = np.abs(np.fft.fftshift(np.fft.fft(s_BP)))**2\n",
    "plt.semilogy(f, tx_bp_spectrum)\n",
    "plt.xlim(-fs/2, fs/2); plt.xlabel(\"f [Hz]\"); plt.ylabel('Power')\n",
    "plt.title(\"TX: bandpass spectrum\");"
   ]
  },
  {
   "cell_type": "markdown",
   "metadata": {},
   "source": [
    "#### c) Translate the real-valued band-pass signal back to baseband! Pay attention to the correct application of a low-pass filter."
   ]
  },
  {
   "cell_type": "code",
   "execution_count": null,
   "metadata": {},
   "outputs": [],
   "source": [
    "r_BP = s_BP  # noise-free, ideal channel\n",
    "h_LP1 = sig.firwin(numtaps=51, cutoff=signal_bandwidth/fs/2, window='hamming', pass_zero=True, scale=True, nyq=0.5)\n",
    "x = np.sqrt(2) * r_BP * cosine\n",
    "x = np.convolve(h_LP1, x, 'same')\n",
    "\n",
    "y = np.sqrt(2) * r_BP * -sine\n",
    "y = np.convolve(h_LP1, y, 'same')\n",
    "r_BB = x + 1j * y"
   ]
  },
  {
   "cell_type": "code",
   "execution_count": null,
   "metadata": {},
   "outputs": [],
   "source": [
    "# plot received baseband spectrum\n",
    "f = np.arange(start=-fs/2, stop=fs/2, step=fs/len(r_BB))\n",
    "rx_bb_spectrum = np.abs(np.fft.fftshift(np.fft.fft(r_BB)))**2\n",
    "plt.semilogy(f, rx_bb_spectrum)\n",
    "plt.xlim(-fs/2, fs/2); plt.xlabel(\"f [Hz]\"); plt.ylabel('Power')\n",
    "plt.title(\"RX: baseband spectrum\");"
   ]
  },
  {
   "cell_type": "markdown",
   "metadata": {},
   "source": [
    "### Comprehension\n",
    "\n",
    "Use `fs=10000` Hz and `fc=2000` Hz.\n",
    "\n",
    "1. What's the reason for the artifact at `f=-0.4*fs` and why isn't it at `f=0.4*fs`?\n",
    "2. If the receiver uses `sin(x)` instead of `-sin(x)` the artifact changes location. Explain!\n",
    "3. What to consider when choosing the cut-off frequency of the low-pass filter in the receiver in order to suppress distorting signal components?\n",
    "4. How to modify the simulation in order to allow for arbitrarily high carrier frequencies?\n",
    "5. How would a real-world mixer implement that?"
   ]
  }
 ],
 "metadata": {
  "anaconda-cloud": {},
  "kernelspec": {
   "display_name": "Python 3 (ipykernel)",
   "language": "python",
   "name": "python3"
  },
  "language_info": {
   "codemirror_mode": {
    "name": "ipython",
    "version": 3
   },
   "file_extension": ".py",
   "mimetype": "text/x-python",
   "name": "python",
   "nbconvert_exporter": "python",
   "pygments_lexer": "ipython3",
   "version": "3.10.4"
  }
 },
 "nbformat": 4,
 "nbformat_minor": 1
}
