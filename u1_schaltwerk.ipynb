{
 "cells": [
  {
   "cell_type": "markdown",
   "metadata": {
    "slideshow": {
     "slide_type": "slide"
    }
   },
   "source": [
    "# WT-Übung 1 - Aufgabe 4\n",
    "Ein elektronisches Schaltwerk besteht aus fünf Relais (1, ... , 5). Jedes Relais ist mit der Wahrscheinlichkeit 0,5 geschlossen. Mit welcher Wahrscheinlichkeit kann ein Strom vom Eingang E zum Ausgang A fließen?"
   ]
  },
  {
   "cell_type": "code",
   "execution_count": 1,
   "metadata": {
    "collapsed": false,
    "slideshow": {
     "slide_type": "-"
    }
   },
   "outputs": [
    {
     "name": "stdout",
     "output_type": "stream",
     "text": [
      "                  ┌─████─┐\n",
      "            E ──┬─┤      ├──────████─────┬── A\n",
      "                │ └─████─┘               │\n",
      "                └─────────████─────████──┘\n",
      "\n"
     ]
    }
   ],
   "source": [
    "from itertools import product\n",
    "\n",
    "NETWORK_FMT = \"\"\"\\\n",
    "{i}        ┌─{r[0]}─┐\n",
    "{s}  E ──┬─┤ {sepr} ├──────{r[2]}─────┬── A\n",
    "{i}      │ └─{r[1]}─┘  {sepr}         │\n",
    "{i}      └─────────{r[3]}─────{r[4]}──┘\n",
    "\"\"\"\n",
    "\n",
    "def format_network(relais, pre='', post='', lenr=2):\n",
    "    return NETWORK_FMT.format(s=pre, r=relais, \n",
    "                              i=' '*len(pre), sepr=' '*lenr)\n",
    "\n",
    "print(format_network(['████'] * 5, lenr=4, pre=' ' * 10))"
   ]
  },
  {
   "cell_type": "markdown",
   "metadata": {
    "slideshow": {
     "slide_type": "slide"
    }
   },
   "source": [
    "## Lösung\n",
    "Der Ergebnisraum besteht aus den 32 Zuständen der Schaltung"
   ]
  },
  {
   "cell_type": "code",
   "execution_count": 2,
   "metadata": {
    "collapsed": false,
    "slideshow": {
     "slide_type": "-"
    }
   },
   "outputs": [
    {
     "name": "stdout",
     "output_type": "stream",
     "text": [
      "            ┌─\u001b[1;31m┚┖\u001b[0m─┐\n",
      " 1    E ──┬─┤    ├──────\u001b[1;31m┚┖\u001b[0m─────┬── A\n",
      "          │ └─\u001b[1;31m┚┖\u001b[0m─┘             │\n",
      "          └─────────\u001b[1;31m┚┖\u001b[0m─────\u001b[1;31m┚┖\u001b[0m──┘\n",
      "\n",
      "            ┌─\u001b[1;31m┚┖\u001b[0m─┐\n",
      " 2    E ──┬─┤    ├──────\u001b[1;31m┚┖\u001b[0m─────┬── A\n",
      "          │ └─\u001b[1;31m┚┖\u001b[0m─┘             │\n",
      "          └─────────\u001b[1;31m┚┖\u001b[0m─────\u001b[1;32m━━\u001b[0m──┘\n",
      "\n",
      "            ┌─\u001b[1;31m┚┖\u001b[0m─┐\n",
      " 3    E ──┬─┤    ├──────\u001b[1;31m┚┖\u001b[0m─────┬── A\n",
      "          │ └─\u001b[1;31m┚┖\u001b[0m─┘             │\n",
      "          └─────────\u001b[1;32m━━\u001b[0m─────\u001b[1;31m┚┖\u001b[0m──┘\n",
      "\n",
      "            ┌─\u001b[1;31m┚┖\u001b[0m─┐\n",
      " 4    E ──┬─┤    ├──────\u001b[1;31m┚┖\u001b[0m─────┬── A\n",
      "          │ └─\u001b[1;31m┚┖\u001b[0m─┘             │\n",
      "          └─────────\u001b[1;32m━━\u001b[0m─────\u001b[1;32m━━\u001b[0m──┘\n",
      "\n",
      "            ┌─\u001b[1;31m┚┖\u001b[0m─┐\n",
      " 5    E ──┬─┤    ├──────\u001b[1;32m━━\u001b[0m─────┬── A\n",
      "          │ └─\u001b[1;31m┚┖\u001b[0m─┘             │\n",
      "          └─────────\u001b[1;31m┚┖\u001b[0m─────\u001b[1;31m┚┖\u001b[0m──┘\n",
      "\n",
      "            ┌─\u001b[1;31m┚┖\u001b[0m─┐\n",
      " 6    E ──┬─┤    ├──────\u001b[1;32m━━\u001b[0m─────┬── A\n",
      "          │ └─\u001b[1;31m┚┖\u001b[0m─┘             │\n",
      "          └─────────\u001b[1;31m┚┖\u001b[0m─────\u001b[1;32m━━\u001b[0m──┘\n",
      "\n",
      "            ┌─\u001b[1;31m┚┖\u001b[0m─┐\n",
      " 7    E ──┬─┤    ├──────\u001b[1;32m━━\u001b[0m─────┬── A\n",
      "          │ └─\u001b[1;31m┚┖\u001b[0m─┘             │\n",
      "          └─────────\u001b[1;32m━━\u001b[0m─────\u001b[1;31m┚┖\u001b[0m──┘\n",
      "\n",
      "            ┌─\u001b[1;31m┚┖\u001b[0m─┐\n",
      " 8    E ──┬─┤    ├──────\u001b[1;32m━━\u001b[0m─────┬── A\n",
      "          │ └─\u001b[1;31m┚┖\u001b[0m─┘             │\n",
      "          └─────────\u001b[1;32m━━\u001b[0m─────\u001b[1;32m━━\u001b[0m──┘\n",
      "\n",
      "            ┌─\u001b[1;31m┚┖\u001b[0m─┐\n",
      " 9    E ──┬─┤    ├──────\u001b[1;31m┚┖\u001b[0m─────┬── A\n",
      "          │ └─\u001b[1;32m━━\u001b[0m─┘             │\n",
      "          └─────────\u001b[1;31m┚┖\u001b[0m─────\u001b[1;31m┚┖\u001b[0m──┘\n",
      "\n",
      "            ┌─\u001b[1;31m┚┖\u001b[0m─┐\n",
      " 10   E ──┬─┤    ├──────\u001b[1;31m┚┖\u001b[0m─────┬── A\n",
      "          │ └─\u001b[1;32m━━\u001b[0m─┘             │\n",
      "          └─────────\u001b[1;31m┚┖\u001b[0m─────\u001b[1;32m━━\u001b[0m──┘\n",
      "\n",
      "            ┌─\u001b[1;31m┚┖\u001b[0m─┐\n",
      " 11   E ──┬─┤    ├──────\u001b[1;31m┚┖\u001b[0m─────┬── A\n",
      "          │ └─\u001b[1;32m━━\u001b[0m─┘             │\n",
      "          └─────────\u001b[1;32m━━\u001b[0m─────\u001b[1;31m┚┖\u001b[0m──┘\n",
      "\n",
      "            ┌─\u001b[1;31m┚┖\u001b[0m─┐\n",
      " 12   E ──┬─┤    ├──────\u001b[1;31m┚┖\u001b[0m─────┬── A\n",
      "          │ └─\u001b[1;32m━━\u001b[0m─┘             │\n",
      "          └─────────\u001b[1;32m━━\u001b[0m─────\u001b[1;32m━━\u001b[0m──┘\n",
      "\n",
      "            ┌─\u001b[1;31m┚┖\u001b[0m─┐\n",
      " 13   E ──┬─┤    ├──────\u001b[1;32m━━\u001b[0m─────┬── A\n",
      "          │ └─\u001b[1;32m━━\u001b[0m─┘             │\n",
      "          └─────────\u001b[1;31m┚┖\u001b[0m─────\u001b[1;31m┚┖\u001b[0m──┘\n",
      "\n",
      "            ┌─\u001b[1;31m┚┖\u001b[0m─┐\n",
      " 14   E ──┬─┤    ├──────\u001b[1;32m━━\u001b[0m─────┬── A\n",
      "          │ └─\u001b[1;32m━━\u001b[0m─┘             │\n",
      "          └─────────\u001b[1;31m┚┖\u001b[0m─────\u001b[1;32m━━\u001b[0m──┘\n",
      "\n",
      "            ┌─\u001b[1;31m┚┖\u001b[0m─┐\n",
      " 15   E ──┬─┤    ├──────\u001b[1;32m━━\u001b[0m─────┬── A\n",
      "          │ └─\u001b[1;32m━━\u001b[0m─┘             │\n",
      "          └─────────\u001b[1;32m━━\u001b[0m─────\u001b[1;31m┚┖\u001b[0m──┘\n",
      "\n",
      "            ┌─\u001b[1;31m┚┖\u001b[0m─┐\n",
      " 16   E ──┬─┤    ├──────\u001b[1;32m━━\u001b[0m─────┬── A\n",
      "          │ └─\u001b[1;32m━━\u001b[0m─┘             │\n",
      "          └─────────\u001b[1;32m━━\u001b[0m─────\u001b[1;32m━━\u001b[0m──┘\n",
      "\n",
      "            ┌─\u001b[1;32m━━\u001b[0m─┐\n",
      " 17   E ──┬─┤    ├──────\u001b[1;31m┚┖\u001b[0m─────┬── A\n",
      "          │ └─\u001b[1;31m┚┖\u001b[0m─┘             │\n",
      "          └─────────\u001b[1;31m┚┖\u001b[0m─────\u001b[1;31m┚┖\u001b[0m──┘\n",
      "\n",
      "            ┌─\u001b[1;32m━━\u001b[0m─┐\n",
      " 18   E ──┬─┤    ├──────\u001b[1;31m┚┖\u001b[0m─────┬── A\n",
      "          │ └─\u001b[1;31m┚┖\u001b[0m─┘             │\n",
      "          └─────────\u001b[1;31m┚┖\u001b[0m─────\u001b[1;32m━━\u001b[0m──┘\n",
      "\n",
      "            ┌─\u001b[1;32m━━\u001b[0m─┐\n",
      " 19   E ──┬─┤    ├──────\u001b[1;31m┚┖\u001b[0m─────┬── A\n",
      "          │ └─\u001b[1;31m┚┖\u001b[0m─┘             │\n",
      "          └─────────\u001b[1;32m━━\u001b[0m─────\u001b[1;31m┚┖\u001b[0m──┘\n",
      "\n",
      "            ┌─\u001b[1;32m━━\u001b[0m─┐\n",
      " 20   E ──┬─┤    ├──────\u001b[1;31m┚┖\u001b[0m─────┬── A\n",
      "          │ └─\u001b[1;31m┚┖\u001b[0m─┘             │\n",
      "          └─────────\u001b[1;32m━━\u001b[0m─────\u001b[1;32m━━\u001b[0m──┘\n",
      "\n",
      "            ┌─\u001b[1;32m━━\u001b[0m─┐\n",
      " 21   E ──┬─┤    ├──────\u001b[1;32m━━\u001b[0m─────┬── A\n",
      "          │ └─\u001b[1;31m┚┖\u001b[0m─┘             │\n",
      "          └─────────\u001b[1;31m┚┖\u001b[0m─────\u001b[1;31m┚┖\u001b[0m──┘\n",
      "\n",
      "            ┌─\u001b[1;32m━━\u001b[0m─┐\n",
      " 22   E ──┬─┤    ├──────\u001b[1;32m━━\u001b[0m─────┬── A\n",
      "          │ └─\u001b[1;31m┚┖\u001b[0m─┘             │\n",
      "          └─────────\u001b[1;31m┚┖\u001b[0m─────\u001b[1;32m━━\u001b[0m──┘\n",
      "\n",
      "            ┌─\u001b[1;32m━━\u001b[0m─┐\n",
      " 23   E ──┬─┤    ├──────\u001b[1;32m━━\u001b[0m─────┬── A\n",
      "          │ └─\u001b[1;31m┚┖\u001b[0m─┘             │\n",
      "          └─────────\u001b[1;32m━━\u001b[0m─────\u001b[1;31m┚┖\u001b[0m──┘\n",
      "\n",
      "            ┌─\u001b[1;32m━━\u001b[0m─┐\n",
      " 24   E ──┬─┤    ├──────\u001b[1;32m━━\u001b[0m─────┬── A\n",
      "          │ └─\u001b[1;31m┚┖\u001b[0m─┘             │\n",
      "          └─────────\u001b[1;32m━━\u001b[0m─────\u001b[1;32m━━\u001b[0m──┘\n",
      "\n",
      "            ┌─\u001b[1;32m━━\u001b[0m─┐\n",
      " 25   E ──┬─┤    ├──────\u001b[1;31m┚┖\u001b[0m─────┬── A\n",
      "          │ └─\u001b[1;32m━━\u001b[0m─┘             │\n",
      "          └─────────\u001b[1;31m┚┖\u001b[0m─────\u001b[1;31m┚┖\u001b[0m──┘\n",
      "\n",
      "            ┌─\u001b[1;32m━━\u001b[0m─┐\n",
      " 26   E ──┬─┤    ├──────\u001b[1;31m┚┖\u001b[0m─────┬── A\n",
      "          │ └─\u001b[1;32m━━\u001b[0m─┘             │\n",
      "          └─────────\u001b[1;31m┚┖\u001b[0m─────\u001b[1;32m━━\u001b[0m──┘\n",
      "\n",
      "            ┌─\u001b[1;32m━━\u001b[0m─┐\n",
      " 27   E ──┬─┤    ├──────\u001b[1;31m┚┖\u001b[0m─────┬── A\n",
      "          │ └─\u001b[1;32m━━\u001b[0m─┘             │\n",
      "          └─────────\u001b[1;32m━━\u001b[0m─────\u001b[1;31m┚┖\u001b[0m──┘\n",
      "\n",
      "            ┌─\u001b[1;32m━━\u001b[0m─┐\n",
      " 28   E ──┬─┤    ├──────\u001b[1;31m┚┖\u001b[0m─────┬── A\n",
      "          │ └─\u001b[1;32m━━\u001b[0m─┘             │\n",
      "          └─────────\u001b[1;32m━━\u001b[0m─────\u001b[1;32m━━\u001b[0m──┘\n",
      "\n",
      "            ┌─\u001b[1;32m━━\u001b[0m─┐\n",
      " 29   E ──┬─┤    ├──────\u001b[1;32m━━\u001b[0m─────┬── A\n",
      "          │ └─\u001b[1;32m━━\u001b[0m─┘             │\n",
      "          └─────────\u001b[1;31m┚┖\u001b[0m─────\u001b[1;31m┚┖\u001b[0m──┘\n",
      "\n",
      "            ┌─\u001b[1;32m━━\u001b[0m─┐\n",
      " 30   E ──┬─┤    ├──────\u001b[1;32m━━\u001b[0m─────┬── A\n",
      "          │ └─\u001b[1;32m━━\u001b[0m─┘             │\n",
      "          └─────────\u001b[1;31m┚┖\u001b[0m─────\u001b[1;32m━━\u001b[0m──┘\n",
      "\n",
      "            ┌─\u001b[1;32m━━\u001b[0m─┐\n",
      " 31   E ──┬─┤    ├──────\u001b[1;32m━━\u001b[0m─────┬── A\n",
      "          │ └─\u001b[1;32m━━\u001b[0m─┘             │\n",
      "          └─────────\u001b[1;32m━━\u001b[0m─────\u001b[1;31m┚┖\u001b[0m──┘\n",
      "\n",
      "            ┌─\u001b[1;32m━━\u001b[0m─┐\n",
      " 32   E ──┬─┤    ├──────\u001b[1;32m━━\u001b[0m─────┬── A\n",
      "          │ └─\u001b[1;32m━━\u001b[0m─┘             │\n",
      "          └─────────\u001b[1;32m━━\u001b[0m─────\u001b[1;32m━━\u001b[0m──┘\n",
      "\n"
     ]
    }
   ],
   "source": [
    "Ω = list(product([0, 1], repeat=5))\n",
    "\n",
    "state = ['\\033[1;31m┚┖\\033[0m', '\\033[1;32m━━\\033[0m']\n",
    "for n, r in enumerate(Ω):\n",
    "    print(format_network(relais=[state[ri] for ri in r],\n",
    "                         pre='{:^4d}'.format(1 + n)))"
   ]
  },
  {
   "cell_type": "markdown",
   "metadata": {
    "slideshow": {
     "slide_type": "subslide"
    }
   },
   "source": [
    "Gesucht ist die Wahrscheinlichkeit für das Ereignis S = {Strom fließt von A zu E}"
   ]
  },
  {
   "cell_type": "code",
   "execution_count": 3,
   "metadata": {
    "collapsed": true,
    "slideshow": {
     "slide_type": "-"
    }
   },
   "outputs": [],
   "source": [
    "def check_event_S(r):\n",
    "    return ((r[0] or r[1]) and r[2]) or (r[3] and r[4])"
   ]
  },
  {
   "cell_type": "markdown",
   "metadata": {
    "slideshow": {
     "slide_type": "-"
    }
   },
   "source": [
    "Nun wird für alle möglichen Ergebnisse überprüft, ob sie zu Ereignis S gehören"
   ]
  },
  {
   "cell_type": "code",
   "execution_count": 4,
   "metadata": {
    "collapsed": false,
    "slideshow": {
     "slide_type": "-"
    }
   },
   "outputs": [
    {
     "name": "stdout",
     "output_type": "stream",
     "text": [
      "|S| = 17\n"
     ]
    }
   ],
   "source": [
    "count_S = sum(check_event_S(r) for r in Ω)\n",
    "print('|S| = {}'.format(count_S))"
   ]
  },
  {
   "cell_type": "markdown",
   "metadata": {
    "slideshow": {
     "slide_type": "slide"
    }
   },
   "source": [
    "## Ergebnis\n",
    "Wahrscheinlichkeit nach LaPlace P(S) = |S|/|Ω|"
   ]
  },
  {
   "cell_type": "code",
   "execution_count": 5,
   "metadata": {
    "collapsed": false,
    "slideshow": {
     "slide_type": "-"
    }
   },
   "outputs": [
    {
     "name": "stdout",
     "output_type": "stream",
     "text": [
      "\n",
      "P(S) = 17/32 = 0.53125\n"
     ]
    }
   ],
   "source": [
    "print(\"\\nP(S) = {}/{} = {:.5}\".format(count_S, len(Ω), count_S / len(Ω)))"
   ]
  }
 ],
 "metadata": {
  "anaconda-cloud": {},
  "kernelspec": {
   "display_name": "Python [default]",
   "language": "python",
   "name": "python3"
  },
  "language_info": {
   "codemirror_mode": {
    "name": "ipython",
    "version": 3
   },
   "file_extension": ".py",
   "mimetype": "text/x-python",
   "name": "python",
   "nbconvert_exporter": "python",
   "pygments_lexer": "ipython3",
   "version": "3.5.2"
  }
 },
 "nbformat": 4,
 "nbformat_minor": 0
}
