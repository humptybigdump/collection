{
 "cells": [
  {
   "cell_type": "markdown",
   "metadata": {},
   "source": [
    "# Dynamic Systems via Vector Autoregressive Models "
   ]
  },
  {
   "cell_type": "markdown",
   "metadata": {},
   "source": [
    "A VARMA(p,q) model is simply a vectorized version of an ARMA(p,q) model. The additional degree of complexity is that different variables are allowed to co-move with each other. VARMA(p,q) models are heavily used in empirical macroeconomics, macro-finance and investment management. They allow a quick glance into how a dynamic system behaves."
   ]
  },
  {
   "cell_type": "markdown",
   "metadata": {},
   "source": [
    "$$\n",
    "\\\\\n",
    "$$\n",
    "\n",
    "VARMA(p,q) models are also useful for **tactical investment management**. They allow to answer questions like:\n",
    "\n",
    "$$\n",
    "\\\\\n",
    "$$\n",
    "\n",
    "- How are equity, bond and option markets responding if the central bank increases the policy rate by 0.25 basis points?\n",
    "\n",
    "$$\n",
    "\\\\\n",
    "$$\n",
    "\n",
    "- How does my portfolio risk change if inflation increases by 0.5\\% and unemployment drops by 0.2\\%?\n",
    "\n",
    "$$\n",
    "\\\\\n",
    "$$\n",
    "\n",
    "- How does the value of my multi-asset portfolio change if market risk increases by 1\\%?"
   ]
  },
  {
   "cell_type": "markdown",
   "metadata": {},
   "source": [
    "\n",
    "# A. VAR(1) Model"
   ]
  },
  {
   "cell_type": "markdown",
   "metadata": {},
   "source": [
    "\n",
    "Assume $x_t$ follows a demeaned VAR(1)\n",
    "\\begin{align*}\n",
    "x_t &= A \\times x_{t-1} + C\\, \\times w_{t}, \\quad w_t :\\sim i.i.d.(0,I).\n",
    "\\end{align*}"
   ]
  },
  {
   "cell_type": "markdown",
   "metadata": {},
   "source": [
    "**k-step ahead forecast, $E_t[x_{t+k}]$:**"
   ]
  },
  {
   "cell_type": "markdown",
   "metadata": {},
   "source": [
    "\n",
    "\\begin{align*}\n",
    "E_t[x_{t+k}] & \\overbrace{=}^{VAR(1)} \\, A^k \\, \\times\\, x_t.\n",
    "\\end{align*}"
   ]
  },
  {
   "cell_type": "markdown",
   "metadata": {},
   "source": [
    "\n",
    "**k-step ahead variance, $Var_t(x_{t+k})$**"
   ]
  },
  {
   "cell_type": "markdown",
   "metadata": {},
   "source": [
    "\n",
    "\\begin{align*}\n",
    "Var_t(x_{t+k}) &= \\sum_{j=0}^{k-1} \\, A^j \\,\\times CC' \\, \\times (A^j)'\n",
    "\\end{align*}"
   ]
  },
  {
   "cell_type": "markdown",
   "metadata": {},
   "source": [
    "**Efficient Recursive Scheme for $k \\geq 1$:**\n",
    "    \n",
    "\\begin{align*}\n",
    "E_t[x_{t+k}] &= A \\, \\times E_t[x_{t+k-1}] \\\\\\\\\n",
    "var_t(x_{t+k}) &= CC' \\, + \\, A \\, var_t(x_{t+k-1}) \\, A'.\n",
    "\\end{align*}   "
   ]
  },
  {
   "cell_type": "markdown",
   "metadata": {},
   "source": [
    "## A.1 Application"
   ]
  },
  {
   "cell_type": "markdown",
   "metadata": {},
   "source": [
    "**Forecasting a ARMA(2,1) Model**"
   ]
  },
  {
   "cell_type": "markdown",
   "metadata": {},
   "source": [
    "If a demeaned return $y$ follows an ARMA(2,1) model, you first determine its VAR(1) representation. Doing so would reveal,\n",
    "\n",
    "$$\n",
    "\\\\\n",
    "$$\n",
    "\n",
    "\\begin{align*}\n",
    "x_t &= A \\times x_{t-1} + C \\, w_t, \\; w_t \\sim i.i.d.(0,I),\\\\\\\\\n",
    "A &:= \\begin{bmatrix}\n",
    "  \\phi_1 & \\phi_2 & \\theta_1 \\\\\n",
    "  1 & 0  & 0 \\\\\n",
    "  0 & 0 &0\n",
    "\\end{bmatrix} \\\\\\\\\n",
    "C &:= \\begin{pmatrix}  \\sigma_{\\epsilon} & 0 & 0 \\\\ 0 & 0 & 0 \\\\ 0 & 0 & \\sigma_{\\epsilon} \\end{pmatrix} \\qquad \\text{with} \\qquad w^{(1)}_t \\equiv w^{(3)}_t\n",
    "\\end{align*}\n",
    "with $x_t \\equiv [y_t, \\, y_{t-1}, \\, \\epsilon_t]'$.\n",
    "\n",
    "$$\n",
    "\\\\\n",
    "$$\n",
    "\n",
    "Hence, the 2-step ahead forecast would be \n",
    "$$\n",
    "E_t[y_{t+2}] = [A^2 \\times x_t]_{[1,1]}.\n",
    "$$\n",
    "\n",
    "The uncertainty around the 2-step ahead forecast would be\n",
    "$$\n",
    "Var_t(y_{t+2}) = [\\sum_{j=0}^1 A^j CC' (A^j)']_{[1,1]}.\n",
    "$$"
   ]
  },
  {
   "cell_type": "markdown",
   "metadata": {},
   "source": [
    "# B. Impulse Response Analysis"
   ]
  },
  {
   "cell_type": "markdown",
   "metadata": {},
   "source": [
    "The **IRF** takes this simple form:\n",
    "\n",
    "$$\n",
    "\\\\\n",
    "$$\n",
    "\n",
    "\\begin{align*}\n",
    "\\underbrace{IRF(j)}_{K \\times K} & := \\underbrace{A^j}_{K \\times K} \\, \\times \\, \\underbrace{C}_{K \\times K}, \\quad j \\geq 0.\n",
    "\\end{align*}\n",
    "\n",
    "$$\n",
    "\\\\\n",
    "$$\n",
    "\n"
   ]
  },
  {
   "cell_type": "markdown",
   "metadata": {},
   "source": [
    "A recursive and hence **fast algorithm** for computing the term structure of IRFs is as follows:\n",
    "\n",
    "\\begin{align}\n",
    "IRF(j) = A \\, \\times \\, IRF(j-1), \\quad IRF(0) = C.\n",
    "\\end{align}\n",
    "$$\n",
    "\\\\\n",
    "$$"
   ]
  },
  {
   "cell_type": "markdown",
   "metadata": {},
   "source": [
    "**Notice**, \n",
    "\n",
    "$$\n",
    "\\\\\n",
    "$$\n",
    "\n",
    "- $IRF(j)$ aggregates information about the persistence of $x_t$, essentially via $A$, and about the volatility matrix $C$. The immediate impact, $j=0$, is only affected by the volatility matrix $C$. In contrast, the very long-term behavior of the system is mainly affected by $A$, namely the persistence matrix of the system. If $max(eig(A)) < 1$, IRF(j) reverts to zero for large $j$  which implies that the system is stationary. This says that shocks to the system have a transitory impact only.\n",
    "\n",
    "$$\n",
    "\\\\\n",
    "$$\n",
    "\n",
    "-  What you have to do in addition is to specify the shock that you would like to feed through the system. Let's call that shock $\\eta$. The classy way is to look at a one standard deviation shock at a time."
   ]
  },
  {
   "cell_type": "markdown",
   "metadata": {},
   "source": [
    "**Application:** You got a 2-dim system and want to understand how a 2 standard deviation event in the first variable, together with a 1 standard deviation shock in the second variable affects both variables of your $K=2$ VAR(1).\n",
    "\n",
    "$$\n",
    "\\\\\n",
    "$$\n",
    "\n",
    "**Solution:**\n",
    "\n",
    "$$\n",
    "IRF(j) \\times \\begin{pmatrix} 2 \\\\ 1 \\end{pmatrix}.\n",
    "$$"
   ]
  },
  {
   "cell_type": "markdown",
   "metadata": {},
   "source": [
    "**Notice:** IRFs are not necessarily unique. The reason is that $CC'$ does not reveal causation but only correlation. "
   ]
  },
  {
   "cell_type": "markdown",
   "metadata": {},
   "source": [
    "# C. Typical Way to Work with Impulse Response Functions"
   ]
  },
  {
   "cell_type": "markdown",
   "metadata": {},
   "source": [
    "**First**, estimate a  'reduced-form' VAR  by for example, least square methods:\n",
    "\n",
    "$$\n",
    "x_t = A x_{t-1} + \\epsilon_t, \\quad \\quad Cov(\\epsilon_t) = \\Sigma\n",
    "$$ \n",
    "\n",
    "$$\n",
    "\\\\ \n",
    "$$\n",
    "\n",
    "\n",
    "**Remark:**\n",
    "\n",
    "- This identifies $\\{\\hat{A}, \\{\\hat{\\epsilon}_t\\}_t, \\hat{\\Sigma}\\}$\n",
    "-  $\\{\\hat{\\epsilon}_t\\}_t$ is called 'statistical error'\n",
    "-  $\\hat{\\Sigma}$ is the estimate of the 'empirical' covariance matrix (which is the covariance matrix of statistical errors)\n",
    " "
   ]
  },
  {
   "cell_type": "markdown",
   "metadata": {},
   "source": [
    "**Second**, impose short-run restrictions  by e.g. Cholesky decomposing the covariance matrix of the statistical errors\n",
    "\n",
    "$$\n",
    "C := \\text{Chol}(\\Sigma) \\quad \\quad \\quad \\text{:lower triangular}\n",
    "$$\n",
    "\n",
    "$$\n",
    "\\\\ \n",
    "$$\n",
    "\n",
    "\n",
    "**Remark:**\n",
    "\n",
    "- $C$ has interpretation of 'volatility matrix'\n",
    "-  It holds $CC' = \\Sigma$\n",
    "-  As $C$ is lower triangular it imposes zero restrictions (which are absent in data itself, i.e. 'expert knowledge')\n",
    " "
   ]
  },
  {
   "cell_type": "markdown",
   "metadata": {},
   "source": [
    "**Third**, rewrite statistical errors in terms of fundamental (economic) errors $\\eta$\n",
    "\n",
    "$$\n",
    "C \\, \\eta_t \\, = \\, \\epsilon_t \n",
    "$$\n",
    "\n",
    "with $\\eta_t \\sim iid (0,I)$ and $\\epsilon_t \\sim iid (0,\\Sigma)$.\n",
    "\n",
    "$$\n",
    "\\\\\n",
    "$$\n",
    "\n",
    "\n",
    "**Remark:**\n",
    "\n",
    "- $\\eta_t$ is interpreted as a fundamental / economic shock\n",
    "- Assuming $C$ is lower-triangular implies that variables ordered first have an immediate effect on variables ordered last. Hence, variables ordered first are especially important for the system. We would usually order macro variables first, followed by financial variables. \n",
    "- It needs to be checked whether the IRF is robust to the ordering of variables.  "
   ]
  },
  {
   "cell_type": "markdown",
   "metadata": {},
   "source": [
    "# D. Estimation via Least Square Methods"
   ]
  },
  {
   "cell_type": "markdown",
   "metadata": {},
   "source": [
    "- Each components of the VAR system can be interpreted as a linear model.\n",
    "\n",
    "- Apply OLS (GLS, WLS etc) equation by equation\n",
    "\n",
    "- $\\hat{\\Sigma}$ coincides with the covariance matrix of the residuals"
   ]
  },
  {
   "cell_type": "markdown",
   "metadata": {},
   "source": [
    "# E. Estimation via Maximum Likelihood"
   ]
  },
  {
   "cell_type": "markdown",
   "metadata": {},
   "source": [
    "**Application:** We work with a two dimensional system"
   ]
  },
  {
   "cell_type": "markdown",
   "metadata": {},
   "source": [
    "\n",
    "$$\n",
    "\\underbrace{x_t}_{2 \\times 1} = \\mu + A x_{t-1} + \\epsilon_t, \\; \\epsilon_t \\sim  N(0,\\Sigma).\n",
    "$$"
   ]
  },
  {
   "cell_type": "markdown",
   "metadata": {},
   "source": [
    "**Probability:** \n",
    "    \n",
    "\\begin{align*}\n",
    "Prob(x_t|x_{t-1}) &= \\frac{dim(x_t)}{\\sqrt{2 \\pi det(\\Sigma)}} \\; \\times \\; \\exp\\left( -\\frac{1}{2} \\times \\epsilon_t'\\Sigma^{-1}\\epsilon_t \\right)\n",
    "\\end{align*}\n",
    "                                                                                      \n",
    "with \n",
    "                                                                                      \n",
    "$$\n",
    "\\epsilon_t \\equiv x_t - \\mu - A x_{t-1} \\; \\text{and} \\; dim(x_t) \\equiv 2. \n",
    "$$\n",
    "    "
   ]
  },
  {
   "cell_type": "markdown",
   "metadata": {},
   "source": [
    "**Joint Likelihood:**\n",
    "    \n",
    "\\begin{align*}\n",
    "\\mathcal{L} (\\mu,A,\\Sigma|\\{x_t\\}_t) &= \\prod_{t=2}^T \\; Prob(x_t|x_{t-1}).\n",
    "\\end{align*}    "
   ]
  },
  {
   "cell_type": "markdown",
   "metadata": {},
   "source": [
    "**Joint log-likelihood:** \n",
    "    \n",
    "\\begin{align*}\n",
    "\\ln \\mathcal{L} (\\mu,A,\\Sigma|\\{x_t\\}_t) &= (T-1) \\times \\left( \\ln(dim(x_t))  -\\frac{1}{2} \\ln (2\\pi) - \\frac{1}{2} \\ln (det(\\Sigma))\\right) \\\\\\\\\n",
    "&- \\frac{1}{2} \\sum_{t=2}^{T-1} \\epsilon'_t \\Sigma^{-1} \\epsilon_t, \\; \\text{with}\\; \\epsilon_t \\equiv x_t - \\mu - A x_{t-1}.\n",
    "\\end{align*}\n",
    "    "
   ]
  }
 ],
 "metadata": {
  "kernelspec": {
   "display_name": "Python 3",
   "language": "python",
   "name": "python3"
  },
  "language_info": {
   "codemirror_mode": {
    "name": "ipython",
    "version": 3
   },
   "file_extension": ".py",
   "mimetype": "text/x-python",
   "name": "python",
   "nbconvert_exporter": "python",
   "pygments_lexer": "ipython3",
   "version": "3.7.6"
  }
 },
 "nbformat": 4,
 "nbformat_minor": 4
}
