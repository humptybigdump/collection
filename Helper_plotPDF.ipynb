{
 "cells": [
  {
   "cell_type": "code",
   "execution_count": null,
   "metadata": {},
   "outputs": [],
   "source": [
    "import pandas as pd\n",
    "from scipy import stats\n",
    "import matplotlib.pylab as plt\n",
    "\n",
    "def print_pdf(r,b,p):\n",
    "    #input: b #of bins in histogram\n",
    "    #input: r return panel\n",
    "    #input: p sec for pause\n",
    "    \n",
    "    \n",
    "    InvOpp  =  r.agg(['mean', 'std']).T \n",
    "    tickers = InvOpp.index\n",
    "    mean    = InvOpp[\"mean\"] #to be used in future to plot a pdf on top of histogram\n",
    "    sigma   = InvOpp[\"std\"]\n",
    "   \n",
    "    \n",
    "    counter = 0\n",
    "    for i in tickers:\n",
    "        print(i)\n",
    "        #JB test\n",
    "        JB_test = stats.jarque_bera(r.iloc[:,counter]) #JB test\n",
    "        if JB_test[1] >0.1: #p-value of 10%, Generous for conclusing r can be modelled via N()\n",
    "            print('Gaussian Density, N()')\n",
    "        else:\n",
    "            print('Non-Gaussian Density')\n",
    "        #plot    \n",
    "        x = r.iloc[:,counter]\n",
    "        plt.hist(stats.zscore(x), bins=b, density=True )\n",
    "        plt.xlabel(\"z-score(Input)\")\n",
    "        plt.ylabel(\"prob(z-score(Input))\")\n",
    "        #plt.axis('tight')\n",
    "        plt.xlim(0,6)\n",
    "        plt.show()\n",
    "        plt.pause(p)\n",
    "        counter +=1"
   ]
  }
 ],
 "metadata": {
  "kernelspec": {
   "display_name": "Python 3",
   "language": "python",
   "name": "python3"
  },
  "language_info": {
   "codemirror_mode": {
    "name": "ipython",
    "version": 3
   },
   "file_extension": ".py",
   "mimetype": "text/x-python",
   "name": "python",
   "nbconvert_exporter": "python",
   "pygments_lexer": "ipython3",
   "version": "3.7.6"
  }
 },
 "nbformat": 4,
 "nbformat_minor": 4
}
