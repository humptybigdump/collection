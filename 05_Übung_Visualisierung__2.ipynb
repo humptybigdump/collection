{
 "cells": [
  {
   "cell_type": "markdown",
   "id": "faced-manner",
   "metadata": {},
   "source": [
    "# Geodatenanalyse 1\n",
    "\n",
    "## Übung 5: Visualisierung"
   ]
  },
  {
   "cell_type": "code",
   "execution_count": null,
   "id": "satisfied-organ",
   "metadata": {},
   "outputs": [],
   "source": [
    "import numpy as np\n",
    "from matplotlib import pyplot as plt"
   ]
  },
  {
   "cell_type": "markdown",
   "id": "racial-trailer",
   "metadata": {},
   "source": [
    "### Aufgabe 1\n",
    "\n",
    "Bilde folgende zwei Funktionen im Interval $[0, 100]$ mit Hilfe von Liniendiagrammen ab:\n",
    "- $f(x) = \\sqrt{x} - 4$\n",
    "- $f(x) = log_e(x)$\n",
    "\n",
    "Benutze dazu die numpy Funktion `np.linspace (*start*, *stop*, *number of elements*)` und `matplotlib.pylot.plot()`.\n",
    "\n",
    "Hinweis: `np.linspace()`funktioniert ähnlich wie `np.arange()`, allerdings wird nicht das Inkrement vorgegeben, sondern die Anzahl an gleichmäßig verteilten Elementen. Der Stopwert ist automatisch enthalten. "
   ]
  },
  {
   "cell_type": "code",
   "execution_count": null,
   "id": "empirical-administrator",
   "metadata": {},
   "outputs": [],
   "source": [
    "# [1]\n",
    "# mit Hilfe von np.linspace() die x-Werte definieren\n",
    "\n",
    "\n",
    "# die y-Werte für die erste Formel ausrechnen und plotten\n",
    "\n",
    "\n",
    "# die y-Werte für die zweite Formel ausrechnen und plotten\n",
    "\n",
    "\n",
    "# Achsenbeschriftungen\n",
    "\n",
    "\n",
    "# Legende \n"
   ]
  },
  {
   "cell_type": "markdown",
   "id": "handy-jones",
   "metadata": {},
   "source": [
    "### Aufgabe 2\n",
    "\n",
    "Erzeuge dir einen Vektor mit 200 normalverteilten Zufallszahlen mit Hilfe von `numpy.random.normal(mean, sigma, n)`. \n",
    "\n",
    "Dann stelle die Datenpunkte in einer Abbildung mit 2 Graphen dar: links ein Boxplot (`boxplot()`), rechts ein Histogramm (`hist()`).  \n",
    "\n",
    "Füge jeweils auch Achsenbeschriftungen und Abbildungstitel hinzu. "
   ]
  },
  {
   "cell_type": "code",
   "execution_count": null,
   "id": "funky-station",
   "metadata": {
    "scrolled": true
   },
   "outputs": [],
   "source": [
    "# [2]\n",
    "\n",
    "# Zufallszahlen \n",
    "\n",
    "\n",
    "# Abbildung mit Achsen und 2 subplots anlegen\n",
    "\n",
    "\n",
    "# Boxplot im 1. Achsenelement darstellen\n",
    "\n",
    "\n",
    "# Histogramm im 2. Achsenelement darstellen\n",
    "\n",
    "\n",
    "# Abbildung speichern \n"
   ]
  },
  {
   "cell_type": "markdown",
   "id": "09b61b94",
   "metadata": {},
   "source": [
    "### Aufgabe 3\n",
    "\n",
    "Die Europäische Umweltagentur (EEA) hat einen Datensatz zusammengestellt, durch welchen man den Zusammenhang zwischen Energienutzung, Wirtschaftsleistung und Einwohnerzahl gut darstellen kann. Diese Daten sind in der Datei *EEA_dataset.csv* zusammengestellt.\n",
    "\n",
    "1. Erstelle eine Punktwolke (`plt.scatter()`), mit der Wirtschaftsleistung auf der x-Achse und der Energienutzung auf der y-Achse. Bitte passe auch die Achsenlimits für eine bedeutungsvolle Darstellung an.\n",
    "\n",
    "2. Markiere den weltweiten Durchschnitt für beide Achsen mit einer horizontalen (`ax.axvline(x-Wert)`), bzw. vertikalen (`ax.axhline(y-Wert)`) Linie. \n",
    "\n",
    "3. Hebe den Datenpunkt für Deutschland farbig hervor.\n",
    "\n",
    "4. Stelle die Einwohnerzahl als Farbe der Punktwolke dar, und erstelle für die dritte Dimension eine passende Legende (`plt.colorbar()`).\n",
    "\n",
    "\n",
    "Datenquelle: [European Environment Agency](https://www.eea.europa.eu/data-and-maps/figures/correlation-of-per-capita-energy)"
   ]
  },
  {
   "cell_type": "code",
   "execution_count": null,
   "id": "41339b11",
   "metadata": {},
   "outputs": [],
   "source": [
    "# [3]\n",
    "\n"
   ]
  },
  {
   "cell_type": "markdown",
   "id": "norwegian-stomach",
   "metadata": {},
   "source": [
    "## ENDE"
   ]
  }
 ],
 "metadata": {
  "kernelspec": {
   "display_name": "Python 3.8.8 ('base')",
   "language": "python",
   "name": "python3"
  },
  "language_info": {
   "codemirror_mode": {
    "name": "ipython",
    "version": 3
   },
   "file_extension": ".py",
   "mimetype": "text/x-python",
   "name": "python",
   "nbconvert_exporter": "python",
   "pygments_lexer": "ipython3",
   "version": "3.8.8"
  },
  "vscode": {
   "interpreter": {
    "hash": "e4cce46d6be9934fbd27f9ca0432556941ea5bdf741d4f4d64c6cd7f8dfa8fba"
   }
  }
 },
 "nbformat": 4,
 "nbformat_minor": 5
}
