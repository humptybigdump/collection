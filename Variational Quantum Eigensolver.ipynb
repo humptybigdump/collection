{
 "cells": [
  {
   "cell_type": "markdown",
   "metadata": {},
   "source": [
    "# Variational Quantum Eigensolver (VQE)\n",
    "\n",
    "Original implementation and further explanations can be found [here](https://github.com/DavitKhach/quantum-algorithms-tutorials/blob/master/variational_quantum_eigensolver.ipynb\n",
    ")."
   ]
  },
  {
   "cell_type": "code",
   "execution_count": 1,
   "metadata": {},
   "outputs": [],
   "source": [
    "import numpy as np\n",
    "\n",
    "import matplotlib.pyplot as plt\n",
    "\n",
    "from qiskit import QuantumCircuit, QuantumRegister, ClassicalRegister, BasicAer, execute\n",
    "from qiskit.algorithms.optimizers import SPSA \n",
    "from qiskit.circuit import Parameter\n",
    "from qiskit.circuit.library.standard_gates import UGate\n",
    "from qiskit.opflow import PauliOp, I, X, Y, Z\n",
    "from qiskit.algorithms import NumPyEigensolver"
   ]
  },
  {
   "attachments": {},
   "cell_type": "markdown",
   "metadata": {},
   "source": [
    "The ground state energy is an important property of a physical system. Most applications are found in chemistry e.g. for calculating the ground state of molecules. However, this can be generalised to any optimization problem with the objective to find the eigenvector with the smallest eigenvalues of a so called hamiltonian $\\mathrm{H}$.\n",
    "\n",
    "As you might know, finding eigenvectors is a non-trivial problem which is why e.g. in chemistry, finding the ground state energy of certain molecules can be computationally very expensive.\n",
    "\n",
    "You can think of the hamiltonian as a more educated variant of the loss function as we've seen before in PQCs, or in classical optimization problems.\n",
    "\n",
    "To start with an example, let's consider a very simple hamiltonian using only $1$ qubit and $4$ weighted Pauli operators:\n",
    "\n",
    "$$\\mathrm{\\hat{H}} = a \\cdot I + b \\cdot Z + c \\cdot X + d \\cdot Y,$$\n",
    "\n",
    "where $a$, $b$ and $c$ are real valued coefficients and the Pauli operators $I$, $Z$, $X$, and $Y$ are defined as follows:\n",
    "\n",
    "$$\n",
    "I = \\begin{pmatrix}\n",
    "1 & 0\\\\\n",
    "0 & 1\n",
    "\\end{pmatrix},\n",
    "\\qquad\n",
    "Z = \\begin{pmatrix}\n",
    "1 & 0\\\\\n",
    "0 & -1\n",
    "\\end{pmatrix},\n",
    "\\qquad\n",
    "X = \\begin{pmatrix}\n",
    "0 & 1\\\\\n",
    "1 & 0\n",
    "\\end{pmatrix},\n",
    "\\qquad\n",
    "Y = \\begin{pmatrix}\n",
    "0 & -i\\\\\n",
    "i & 0\n",
    "\\end{pmatrix}.\n",
    "$$\n",
    "\n",
    "We can create such a hamiltonian using qiskits [Operator Flow](https://qiskit.org/documentation/tutorials/operators/01_operator_flow.html) API:"
   ]
  },
  {
   "cell_type": "code",
   "execution_count": 2,
   "metadata": {},
   "outputs": [],
   "source": [
    "def hamiltonian_operator(a, b, c, d):\n",
    "    \"\"\"\n",
    "    Creates a*I + b*Z + c*X + d*Y pauli sum \n",
    "    that will be our Hamiltonian operator.\n",
    "    \n",
    "    \"\"\"\n",
    "    return a*I + b*Z + c*X + d*Y"
   ]
  },
  {
   "attachments": {},
   "cell_type": "markdown",
   "metadata": {},
   "source": [
    "We can verify that this hamiltonian fits the form defined above:"
   ]
  },
  {
   "cell_type": "code",
   "execution_count": 3,
   "metadata": {},
   "outputs": [
    {
     "name": "stdout",
     "output_type": "stream",
     "text": [
      "2.2733602246716966 * I\n",
      "+ 3.1675833970975287 * Z\n",
      "+ 7.973654573327341 * X\n",
      "+ 6.762546707509745 * Y\n"
     ]
    }
   ],
   "source": [
    "rng = np.random.default_rng(12345)\n",
    "\n",
    "scale = 10\n",
    "a, b, c, d = (scale*rng.random(), scale*rng.random(), \n",
    "              scale*rng.random(), scale*rng.random())\n",
    "H = hamiltonian_operator(a, b, c, d)\n",
    "print(H)"
   ]
  },
  {
   "attachments": {},
   "cell_type": "markdown",
   "metadata": {},
   "source": [
    "After we defined the hamiltonian, we want to find the lowest eigenvalue a.k.a. ground state. For a given eigenvector $\\vert \\psi \\rangle$ we can measure the expectation value of the hamiltonian as\n",
    "\n",
    "$$\\left\\langle \\mathrm{\\hat{H}} \\right\\rangle = \\left\\langle \\psi \\right| \\mathrm{\\hat H} \\left| \\psi \\right\\rangle = a \\cdot \\left\\langle \\psi \\right| \\hat I \\left| \\psi \\right\\rangle + b \\cdot \\left\\langle \\psi \\right| \\hat Z \\left| \\psi \\right\\rangle + c \\cdot \\left\\langle \\psi \\right| \\hat X \\left| \\psi \\right\\rangle + d \\cdot \\left\\langle \\psi \\right| \\hat Y \\left| \\psi \\right\\rangle$$\n",
    "\n",
    "which gives us the eigenvalue.\n",
    "\n",
    "Using classical algorithms such as [qiskits NumPyEigensolver](https://qiskit.org/documentation/stable/0.28/stubs/qiskit.algorithms.NumPyEigensolver.html) we can obtain a reference value which we can later use to test the value obtained from our VQE."
   ]
  },
  {
   "cell_type": "code",
   "execution_count": 4,
   "metadata": {},
   "outputs": [
    {
     "name": "stdout",
     "output_type": "stream",
     "text": [
      "The exact ground state energy is: -8.65114387407635\n"
     ]
    }
   ],
   "source": [
    "es = NumPyEigensolver(2) #k=1 eigenvalues\n",
    "exact_result = es.compute_eigenvalues(H)\n",
    "reference_energy = min(np.real(exact_result.eigenvalues))\n",
    "print('The exact ground state energy is: {}'.format(reference_energy))"
   ]
  },
  {
   "attachments": {},
   "cell_type": "markdown",
   "metadata": {},
   "source": [
    "This approach works analytically. In case of the VQE we need to cover all possible wavefunctions $\\vert \\psi \\rangle$ that could minimize the hamiltonians expectation value.\n",
    "In the $1$-qubit case this is equivalent of being able to reach every point on the Bloch Sphere's surface using the parameters in our variational circuit.\n",
    "As only two parameters allow us to describe a general qubit state as\n",
    "$$\n",
    "\\left| \\psi \\right\\rangle = \\begin{pmatrix}\n",
    "\\cos{\\left( \\theta/2 \\right)}\\\\\n",
    "e^{i \\varphi} \\cdot \\sin{\\left( \\theta/2 \\right)}\n",
    "\\end{pmatrix},\n",
    "$$\n",
    "\n",
    "we only need two rotational gates in our circuit:\n",
    "\n",
    "$$\n",
    "R_x(t_1) = \\begin{pmatrix}\n",
    "cos(\\frac{t_1}{2}) & -i \\cdot sin(\\frac{t_1}{2})\\\\\n",
    "-i \\cdot sin(\\frac{t_1}{2}) & cos(\\frac{t_1}{2})\n",
    "\\end{pmatrix},\n",
    "\\qquad\n",
    "R_y(t_2) = \\begin{pmatrix}\n",
    "cos(\\frac{t_2}{2}) & -sin(\\frac{t_2}{2})\\\\\n",
    "sin(\\frac{t_2}{2}) & cos(\\frac{t_2}{2})\n",
    "\\end{pmatrix}.\n",
    "$$\n",
    "\n",
    "A proper circuit can be created using the following code:"
   ]
  },
  {
   "cell_type": "code",
   "execution_count": 5,
   "metadata": {},
   "outputs": [
    {
     "data": {
      "text/html": [
       "<pre style=\"word-wrap: normal;white-space: pre;background: #fff0;line-height: 1.1;font-family: &quot;Courier New&quot;,Courier,monospace\">    ┌────────┐┌────────┐\n",
       "q0: ┤ Rx(t1) ├┤ Ry(t2) ├\n",
       "    └────────┘└────────┘</pre>"
      ],
      "text/plain": [
       "    ┌────────┐┌────────┐\n",
       "q0: ┤ Rx(t1) ├┤ Ry(t2) ├\n",
       "    └────────┘└────────┘"
      ]
     },
     "execution_count": 5,
     "metadata": {},
     "output_type": "execute_result"
    }
   ],
   "source": [
    "def quantum_state_preparation(circuit, parameters):\n",
    "    q = circuit.qregs[0] # q is the quantum register where the info about qubits is stored\n",
    "    circuit.rx(parameters[0], q[0]) # q[0] is our one and only qubit XD\n",
    "    circuit.ry(parameters[1], q[0])\n",
    "    return circuit\n",
    "\n",
    "q = QuantumRegister(1)\n",
    "circuit = QuantumCircuit(q)\n",
    "\n",
    "# quantum state preparation\n",
    "circuit = quantum_state_preparation(circuit, [Parameter('t1'), Parameter('t2')])\n",
    "circuit.draw()"
   ]
  },
  {
   "attachments": {},
   "cell_type": "markdown",
   "metadata": {},
   "source": [
    "You might have noticed that the circuit is still lacking measurements. This is because our hamiltonian has different pauli operators, for which we need to find a corresponding measurement.\n",
    "In case of the identity, we obtain the expectation value $\\langle \\mathrm{\\hat H} \\rangle$ to $a \\cdot \\left\\langle \\psi \\right| I \\left| \\psi \\right\\rangle = a$.\n",
    "\n",
    "To measure the hamiltonian in the $z$, $x$ and $y$ basis respectively, it's important to recall that any quantum state can be represented in those basis.\n",
    "\n",
    "As you might already noticed, we can only take measurements in the $z$ basis using Qiskit. Therefore we need to rotate our state accordingly in case of the $x$ and $y$ basis measurements."
   ]
  },
  {
   "cell_type": "code",
   "execution_count": 6,
   "metadata": {},
   "outputs": [
    {
     "name": "stdout",
     "output_type": "stream",
     "text": [
      "H_gate:\n",
      "[[ 1.+0.j  1.-0.j]\n",
      " [ 1.+0.j -1.+0.j]]\n",
      "Y_gate:\n",
      "[[ 1.+0.j -0.-1.j]\n",
      " [ 1.+0.j  0.+1.j]]\n"
     ]
    }
   ],
   "source": [
    "H_gate = UGate(np.pi/2, 0, np.pi).to_matrix()\n",
    "print(\"H_gate:\")\n",
    "print((H_gate * np.sqrt(2)).round(5))\n",
    "\n",
    "Y_gate = UGate(np.pi/2, 0, np.pi/2).to_matrix()\n",
    "print(\"Y_gate:\")\n",
    "print((Y_gate * np.sqrt(2)).round(5))"
   ]
  },
  {
   "cell_type": "markdown",
   "metadata": {},
   "source": [
    "Using the circuit generator defined above, we now just add the case decisions for each type of measurement resulting in the overall definition of our VQE circuit:"
   ]
  },
  {
   "cell_type": "code",
   "execution_count": 7,
   "metadata": {},
   "outputs": [],
   "source": [
    "def vqe_circuit(parameters, measure):\n",
    "    \"\"\"\n",
    "    Creates a device ansatz circuit for optimization.\n",
    "    :param parameters_array: list of parameters for constructing ansatz state that should be optimized.\n",
    "    :param measure: measurement type. E.g. 'Z' stands for Z measurement.\n",
    "    :return: quantum circuit.\n",
    "    \"\"\"\n",
    "    q = QuantumRegister(1)\n",
    "    c = ClassicalRegister(1)\n",
    "    circuit = QuantumCircuit(q, c)\n",
    "\n",
    "    # quantum state preparation\n",
    "    circuit = quantum_state_preparation(circuit, parameters)\n",
    "\n",
    "    # measurement\n",
    "    if measure == 'Z':\n",
    "        circuit.measure(q[0], c[0])\n",
    "    elif measure == 'X':\n",
    "        circuit.u(np.pi/2, 0, np.pi, q[0]) # rotation around \n",
    "        circuit.measure(q[0], c[0])\n",
    "    elif measure == 'Y':\n",
    "        circuit.u(np.pi/2, 0, np.pi/2, q[0])\n",
    "        circuit.measure(q[0], c[0])\n",
    "    else:\n",
    "        raise ValueError('Not valid input for measurement: input should be \"X\" or \"Y\" or \"Z\"')\n",
    "\n",
    "    return circuit"
   ]
  },
  {
   "attachments": {},
   "cell_type": "markdown",
   "metadata": {},
   "source": [
    "Last but not least, we define a `quantum_module` that generates the VQE circuit, runs the simulation, and returns the expectation value."
   ]
  },
  {
   "cell_type": "code",
   "execution_count": 8,
   "metadata": {},
   "outputs": [],
   "source": [
    "def quantum_module(parameters, measure):\n",
    "    # measure\n",
    "    if measure == 'I':\n",
    "        return 1\n",
    "    elif measure == 'Z':\n",
    "        circuit = vqe_circuit(parameters, 'Z')\n",
    "    elif measure == 'X':\n",
    "        circuit = vqe_circuit(parameters, 'X')\n",
    "    elif measure == 'Y':\n",
    "        circuit = vqe_circuit(parameters, 'Y')\n",
    "    else:\n",
    "        raise ValueError('Not valid input for measurement: input should be \"I\" or \"X\" or \"Z\" or \"Y\"')\n",
    "    \n",
    "    shots = 8192\n",
    "    backend = BasicAer.get_backend('qasm_simulator')\n",
    "    job = execute(circuit, backend, shots=shots)\n",
    "    result = job.result()\n",
    "    counts = result.get_counts()\n",
    "    \n",
    "    # expectation value estimation from counts\n",
    "    expectation_value = 0\n",
    "    for measure_result in counts:\n",
    "        sign = +1\n",
    "        if measure_result == '1':\n",
    "            sign = -1\n",
    "        expectation_value += sign * counts[measure_result] / shots\n",
    "        \n",
    "    return expectation_value"
   ]
  },
  {
   "attachments": {},
   "cell_type": "markdown",
   "metadata": {},
   "source": [
    "For convenience we introduce a helper function that creates a pauli dictionary from Qiskits PauliOp object where the coefficients are stored and can be accessed using the Pauli operator as key."
   ]
  },
  {
   "cell_type": "code",
   "execution_count": 9,
   "metadata": {},
   "outputs": [],
   "source": [
    "def pauli_operator_to_dict(pauli_operator):\n",
    "    \"\"\"\n",
    "    from WeightedPauliOperator return a dict:\n",
    "    {I: a, X: b, Z: c, Y: d}.\n",
    "    :param pauli_operator: qiskit's PauliOp\n",
    "    :return: a dict in the desired form.\n",
    "    \"\"\"\n",
    "    paulis_dict = {}\n",
    "    #print(pauli_operator)\n",
    "    for x in pauli_operator:\n",
    "        label = str(x.primitive.paulis[0])\n",
    "        paulis_dict[label] = np.real(x.coeffs[0]) #real part of the coefficient\n",
    "\n",
    "    return paulis_dict\n",
    "pauli_dict = pauli_operator_to_dict(H)"
   ]
  },
  {
   "attachments": {},
   "cell_type": "markdown",
   "metadata": {},
   "source": [
    "To aggregate all the expectation values we introduce one final method that calls the VQE circuit for each of our Pauli operators using the current parameters, weights the resulting expecation values accordingly, and sums everything to a final value representing the ground state."
   ]
  },
  {
   "cell_type": "code",
   "execution_count": 10,
   "metadata": {},
   "outputs": [],
   "source": [
    "def vqe(parameters):\n",
    "        \n",
    "    # quantum_modules\n",
    "    quantum_module_I = pauli_dict['I'] * quantum_module(parameters, 'I')\n",
    "    quantum_module_Z = pauli_dict['Z'] * quantum_module(parameters, 'Z')\n",
    "    quantum_module_X = pauli_dict['X'] * quantum_module(parameters, 'X')\n",
    "    quantum_module_Y = pauli_dict['Y'] * quantum_module(parameters, 'Y')\n",
    "    \n",
    "    # summing the measurement results\n",
    "    classical_adder = quantum_module_I + quantum_module_Z + quantum_module_X + quantum_module_Y\n",
    "    \n",
    "    return classical_adder"
   ]
  },
  {
   "attachments": {},
   "cell_type": "markdown",
   "metadata": {},
   "source": [
    "This method is then called from the optimization routine, here `sklearn.optimize`, iteratively."
   ]
  },
  {
   "cell_type": "code",
   "execution_count": 11,
   "metadata": {},
   "outputs": [
    {
     "name": "stdout",
     "output_type": "stream",
     "text": [
      "The exact ground state energy is: -8.65114387407635\n",
      "The estimated ground state energy from VQE algorithm is: -8.640252795842816\n"
     ]
    },
    {
     "data": {
      "image/png": "[encoded data removed]",
      "text/plain": [
       "<Figure size 640x480 with 1 Axes>"
      ]
     },
     "metadata": {},
     "output_type": "display_data"
    }
   ],
   "source": [
    "parameters_array = np.array([np.pi, np.pi])\n",
    "tol = 1e-3 # tolerance for optimization precision.\n",
    "\n",
    "loss = []\n",
    "def callback(n_t, params_t, fun_t, *args, **kwargs):\n",
    "    loss.append(fun_t)\n",
    "\n",
    "#vqe_result = minimize(vqe, parameters_array, method=\"Powell\", tol=tol)\n",
    "spsa = SPSA(maxiter=80, callback=callback)\n",
    "vqe_result = spsa.minimize(fun=vqe, x0=parameters_array)\n",
    "\n",
    "print('The exact ground state energy is: {}'.format(reference_energy))\n",
    "print('The estimated ground state energy from VQE algorithm is: {}'.format(vqe_result.fun))\n",
    "\n",
    "\n",
    "plt.title(\"Objective function value against iteration\")\n",
    "plt.xlabel(\"Iteration\")\n",
    "plt.ylabel(\"Objective function value\")\n",
    "plt.plot(loss)\n",
    "plt.show()"
   ]
  }
 ],
 "metadata": {
  "kernelspec": {
   "display_name": "Python 3.10.9 ('.venv': poetry)",
   "language": "python",
   "name": "python3"
  },
  "language_info": {
   "codemirror_mode": {
    "name": "ipython",
    "version": 3
   },
   "file_extension": ".py",
   "mimetype": "text/x-python",
   "name": "python",
   "nbconvert_exporter": "python",
   "pygments_lexer": "ipython3",
   "version": "3.10.9"
  },
  "orig_nbformat": 4,
  "vscode": {
   "interpreter": {
    "hash": "797c5e2d33a017d7c0c89837fd9aafcf8b7f55fbf0955348dfa1906e3bf059ca"
   }
  }
 },
 "nbformat": 4,
 "nbformat_minor": 2
}
