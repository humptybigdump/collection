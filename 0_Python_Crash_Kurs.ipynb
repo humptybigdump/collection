{
  "cells": [
    {
      "cell_type": "markdown",
      "metadata": {
        "id": "ys4cpvPi4XFN"
      },
      "source": [
        "# Hallo!\n",
        "Liebe Studierende, vielen lieben Dank das Sie sich für die Vorlesung \"Maschinelles Lernen für die Chemie\" im SoSe 22 interessieren. Dieses kleine Tutorial soll Ihnen ein paar Grundzüge des programmierens in python in einer sogenannten interaktiven Umgebung zeigen. Hierzu ist Jupyter Lab bzw. ein Jupyter Notebook in blöcke unterteilt welche man einzeln ausführen kann."
      ]
    },
    {
      "cell_type": "markdown",
      "metadata": {
        "id": "vJDObaGj4XFQ"
      },
      "source": [
        "Klicken Sie z.B. in den nächsten block so, dass der Text aktiviert wird und führen sie dann die Tastenkombination \"Umschalt+Enter\" aus:"
      ]
    },
    {
      "cell_type": "code",
      "execution_count": null,
      "metadata": {
        "id": "lz3CAidv4XFR"
      },
      "outputs": [],
      "source": [
        "print(\"Hallo Welt\")"
      ]
    },
    {
      "cell_type": "markdown",
      "metadata": {
        "id": "OfvU1SE14XFS"
      },
      "source": [
        "Die zeile oben sollte nun exakt so aussehen wie die folgende:"
      ]
    },
    {
      "cell_type": "code",
      "execution_count": null,
      "metadata": {
        "id": "wl-2F5wU4XFS",
        "outputId": "10482498-8343-4897-b85c-9045244ca278"
      },
      "outputs": [
        {
          "name": "stdout",
          "output_type": "stream",
          "text": [
            "Hallo Welt\n"
          ]
        }
      ],
      "source": [
        "print(\"Hallo Welt\")"
      ]
    },
    {
      "cell_type": "markdown",
      "metadata": {
        "id": "bF6XcyZD4XFT"
      },
      "source": [
        "Sie haben damit das erste mal erfolgreich python Code ausgeführt und sind jetzt ein hax0r :-)\n",
        "Im Folgenden werden wir die Grundzüge von python kennenlernen. Python hat einen leichten Einstieg und kann u.U. uch sehr kompliziert aber auch sehr mächtig sein. Sie lernen hier also etwas fürs Leben."
      ]
    },
    {
      "cell_type": "markdown",
      "metadata": {
        "id": "tgO5eWAI4XFT"
      },
      "source": [
        "# Syntax\n",
        "\n",
        "Jede Programmiersprache hat eine syntax welche wir im Detail kennenlernen werden. Das wichtigste beim Programmieren sind die Kommentare! Einen Kommentar erstellt man in dem man einen Hastag setzt und somit ales in der Zeile ab dem Hastag als kommentar setzt:"
      ]
    },
    {
      "cell_type": "code",
      "execution_count": null,
      "metadata": {
        "id": "iNTXSgl04XFT"
      },
      "outputs": [],
      "source": [
        "#Ein blöder Kommentar!"
      ]
    },
    {
      "cell_type": "markdown",
      "metadata": {
        "id": "Bv4KL7zD4XFU"
      },
      "source": [
        "Es wird einfach alles ab dem # ignoriert ... praktisch! Python unterstützt technisch gesehen keine Mehrzeiligen Kommentare ... man kann aber ein wenig hacken mit drei Apostrophen am anfang und ende eines Kommentares. Das geht so:"
      ]
    },
    {
      "cell_type": "code",
      "execution_count": null,
      "metadata": {
        "id": "SqSj4W8z4XFU",
        "outputId": "c715f735-a453-4f1a-abcb-bfe9b571e3ec"
      },
      "outputs": [
        {
          "data": {
            "text/plain": [
              "'\\nIn Ulm\\num Ulm\\nund um Ulm herum.\\n'"
            ]
          },
          "execution_count": 4,
          "metadata": {},
          "output_type": "execute_result"
        }
      ],
      "source": [
        "'''\n",
        "In Ulm\n",
        "um Ulm\n",
        "und um Ulm herum.\n",
        "'''"
      ]
    },
    {
      "cell_type": "markdown",
      "metadata": {
        "id": "iNjPY9h94XFV"
      },
      "source": [
        "(für die Pedanten ... das ist eigentlich ein mehrzeiliger String)"
      ]
    },
    {
      "cell_type": "markdown",
      "metadata": {
        "id": "FbQ5y3E24XFV"
      },
      "source": [
        "Jede Programmiersprache arbeitet mit Variablen, also platzhaltern in denen Werte gespeicher werden können. Python ist eine dynamisch typisierte Programmiersprache d.h. das beim zuweisen eines Wertes der Typ der Variable entschieden wird. Unter der Haube ist python etwas komplexer aber hier die wichtigsten Typen von Variablen für diese Vorlesung. Variablen in python fangen immer mit einem Buchstaben oder Unterstrich an und sollten aussagekräftig sein."
      ]
    },
    {
      "cell_type": "code",
      "execution_count": null,
      "metadata": {
        "id": "A2juIx0P4XFV"
      },
      "outputs": [],
      "source": [
        "#Zahlen z.B. floats also Fliesskommazahlen\n",
        "masseC = 12.0107 #km\n",
        "#Strings also Zeichenreihenfolgen müssen von \" oder ' flankiert werden \n",
        "einheit = \"au\" #oder\n",
        "einheit = 'au'\n",
        "#Ganzzahlen gehen auch\n",
        "anzahlProtonen = 6"
      ]
    },
    {
      "cell_type": "markdown",
      "metadata": {
        "id": "PfzM1SLo4XFW"
      },
      "source": [
        "Python ist hier etwas besonders da man unterschiedliche Typen miteinander verwurschteln kann. So kann ich eine Ganzzal und eine Flieskommazahl addieren und ausgeben:"
      ]
    },
    {
      "cell_type": "code",
      "execution_count": null,
      "metadata": {
        "id": "YiGV6Jl74XFW",
        "outputId": "21674b55-63ee-4136-fe47-f30b36f05751"
      },
      "outputs": [
        {
          "name": "stdout",
          "output_type": "stream",
          "text": [
            "2.5872707608695653\n"
          ]
        }
      ],
      "source": [
        "protonen =  92#U\n",
        "masse = 238.02891 #au\n",
        "neutronenProProton = masse / protonen\n",
        "print(neutronenProProton) #durchschnittlich"
      ]
    },
    {
      "cell_type": "markdown",
      "metadata": {
        "id": "TYVEJxmF4XFW"
      },
      "source": [
        "Hier macht python \"unter der haube\" eine Etscheidung welcher Datentyp für c der richtige ist. Viele Sprchen nehmen uns diese arbeit sonst nicht ab. Interessant wird es wenn ich Zeichen und zahlen addieren möchte:"
      ]
    },
    {
      "cell_type": "code",
      "execution_count": null,
      "metadata": {
        "id": "JYiEksG44XFW"
      },
      "outputs": [],
      "source": [
        "text = \"abcdefg\"\n",
        "zahl = 3.141\n",
        "komischeSumme = text + zahl"
      ]
    },
    {
      "cell_type": "markdown",
      "metadata": {
        "id": "m9pYAKxt4XFW"
      },
      "source": [
        "Sie sollten einen rot eingefährbten Kasten erhalten haben welcher von einem TypeError spricht da man einen str nicht mit einem float addieren kann. Wenn wir dies trotzdem machen möchten müsstn wir dem Interreter etwas helfen und ihm sagen das wir am ende einen str erhalten möchten über:"
      ]
    },
    {
      "cell_type": "code",
      "execution_count": null,
      "metadata": {
        "id": "flISDR1H4XFX"
      },
      "outputs": [],
      "source": [
        "komischeSumme = text + str(zahl)\n",
        "print(komischeSumme)"
      ]
    },
    {
      "cell_type": "markdown",
      "metadata": {
        "id": "8wwvqoVt4XFX"
      },
      "source": [
        "was str(zahl) macht ist folgendes:\\\n",
        "Die (eingebaute) Funktion str wird aufgerufen mit dem Argument Zahl.\\\n",
        "Dann gibt uns str einen Rückgabewert welchen wir in komischeSumme speichern.\\\n",
        "Man nennt dies das EVA-Prinzip für Eingabe-Verarbeitung-Ausgabe"
      ]
    },
    {
      "cell_type": "markdown",
      "metadata": {
        "id": "0k1f8KcN4XFX"
      },
      "source": [
        "Ein sehr wichtiger Variablenyp ist die sogenannte liste welche man mit [] oder list erzeugt. Python hat viele \"Abkürzungen\" die einem das Leben einfacher und den Code lesbarer gestalten. Ein Beispiel:"
      ]
    },
    {
      "cell_type": "code",
      "execution_count": null,
      "metadata": {
        "id": "mOpdWVio4XFX"
      },
      "outputs": [],
      "source": [
        "elektronegativität = [1.008,4.0026,6.94,9.01,10.81,12.011,14.007,15.999,18.998]"
      ]
    },
    {
      "cell_type": "markdown",
      "metadata": {
        "id": "i9sp7Rjo4XFX"
      },
      "source": [
        "Möchte ich nun das erste Element der Liste haben dann bekomme ich dies über:"
      ]
    },
    {
      "cell_type": "code",
      "execution_count": null,
      "metadata": {
        "id": "YhhsbTo54XFX",
        "outputId": "eb8189ff-ee60-4d02-c9a5-19cb7e918a0e"
      },
      "outputs": [
        {
          "data": {
            "text/plain": [
              "1.008"
            ]
          },
          "execution_count": 19,
          "metadata": {},
          "output_type": "execute_result"
        }
      ],
      "source": [
        "elektronegativität[0]"
      ]
    },
    {
      "cell_type": "markdown",
      "metadata": {
        "id": "7iodwgxG4XFX"
      },
      "source": [
        "**Python zählt immer von 0 aus !**\\\n",
        "Das dritte Element meiner liste ist demnach:"
      ]
    },
    {
      "cell_type": "code",
      "execution_count": null,
      "metadata": {
        "id": "TD0pQeKM4XFY",
        "outputId": "73d79a99-84db-4224-f501-a0ca9cf8ada6"
      },
      "outputs": [
        {
          "data": {
            "text/plain": [
              "6.94"
            ]
          },
          "execution_count": 21,
          "metadata": {},
          "output_type": "execute_result"
        }
      ],
      "source": [
        "elektronegativität[2]"
      ]
    },
    {
      "cell_type": "markdown",
      "metadata": {
        "id": "T09apP-J4XFY"
      },
      "source": [
        "Das letzte Element meiner Liste erhalte ich über (und ja python zahl vorwärts von 0 und rückwärts von 1!):"
      ]
    },
    {
      "cell_type": "code",
      "execution_count": null,
      "metadata": {
        "id": "r7dYIz4y4XFY",
        "outputId": "81d70bde-67b8-4ecf-98ef-963178063312"
      },
      "outputs": [
        {
          "data": {
            "text/plain": [
              "18.998"
            ]
          },
          "execution_count": 22,
          "metadata": {},
          "output_type": "execute_result"
        }
      ],
      "source": [
        "elektronegativität[-1]"
      ]
    },
    {
      "cell_type": "markdown",
      "metadata": {
        "id": "YFb-NiPI4XFY"
      },
      "source": [
        "Ich kann auch Werte in der liste ändern und zwar so:"
      ]
    },
    {
      "cell_type": "code",
      "execution_count": null,
      "metadata": {
        "id": "SYb0ayeN4XFY",
        "outputId": "641f6247-1a79-4bd5-a958-3c88a960d8c7"
      },
      "outputs": [
        {
          "name": "stdout",
          "output_type": "stream",
          "text": [
            "1.008\n",
            "1.01\n"
          ]
        }
      ],
      "source": [
        "print(elektronegativität[0]) #zu genau\n",
        "elektronegativität[0] = 1.01 #gerundet\n",
        "print(elektronegativität[0])"
      ]
    },
    {
      "cell_type": "markdown",
      "metadata": {
        "id": "mM_A7xoS4XFY"
      },
      "source": [
        "Listen sind sogenannte geordnete Variablen da sie entlang einer Reihe zu sehen sind. Ein unsortierter Datentyp ist das dict welches man entweder über {key:value} bzw. {SchlüsselWort:Wert} erzeugt:"
      ]
    },
    {
      "cell_type": "code",
      "execution_count": null,
      "metadata": {
        "id": "iyuJo3mi4XFY"
      },
      "outputs": [],
      "source": [
        "Cr = {'Masse':51.996, 'Ordnungszah':24, 'Name':'Chrom', 'Radioaktiv': False, 0:'Fest'}"
      ]
    },
    {
      "cell_type": "markdown",
      "metadata": {
        "id": "2Y8qf8Mv4XFY"
      },
      "source": [
        "Möchte ich nun wissen of Cr radioaktiv ist gehe ich fast wie mit einer Liste vor:"
      ]
    },
    {
      "cell_type": "code",
      "execution_count": null,
      "metadata": {
        "id": "7nSYjuqZ4XFY",
        "outputId": "73859e9b-553a-45da-ba73-a7720fdf3804"
      },
      "outputs": [
        {
          "name": "stdout",
          "output_type": "stream",
          "text": [
            "False\n"
          ]
        }
      ],
      "source": [
        "print(Cr['Radioaktiv'])"
      ]
    },
    {
      "cell_type": "markdown",
      "metadata": {
        "id": "s8J3ux804XFY"
      },
      "source": [
        "Dieser Variablentyp ist übrigens ein bool der entweder True oder False ist"
      ]
    },
    {
      "cell_type": "markdown",
      "metadata": {
        "id": "KIOuzn6M4XFY"
      },
      "source": [
        "# Funktionen\n",
        "Oft möchte ich eine Operation sehr oft durch führen z.B. die Umrechnung von °C in Kelvin. Hierzu nutzt man funktionen. Diese werden durch ein keyword namens def eingeleitet und haben idr. ein oder mehrere Argmente. Ein rumpf einer funktion sieht dann so aus:"
      ]
    },
    {
      "cell_type": "code",
      "execution_count": null,
      "metadata": {
        "id": "tEQyhaGZ4XFZ"
      },
      "outputs": [],
      "source": [
        "def meineFunktion(argumentEins,argument2,optionalesArgumentDasStandartmässig2ist=2):\n",
        "    #hier passieren dinge. Achtung dies muss mit einem tab indentiert werden!\n",
        "    resultat = (argumentEins+argument2)/optionalesArgumentDasStandartmässig2ist\n",
        "    return resultat"
      ]
    },
    {
      "cell_type": "markdown",
      "metadata": {
        "id": "8BV21EHW4XFZ"
      },
      "source": [
        "Diese funktion gibt dann das resultat via return zurück. Ein kleiner Test:"
      ]
    },
    {
      "cell_type": "code",
      "execution_count": null,
      "metadata": {
        "id": "Cq7Tu6qW4XFZ"
      },
      "outputs": [],
      "source": [
        "meineFunktion(3,5)"
      ]
    },
    {
      "cell_type": "code",
      "execution_count": null,
      "metadata": {
        "id": "9RIddd6A4XFZ"
      },
      "outputs": [],
      "source": [
        "#Mit dem optionalen Argument:\n",
        "meineFunktion(3,5,4)"
      ]
    },
    {
      "cell_type": "markdown",
      "metadata": {
        "id": "OVxNFlY54XFZ"
      },
      "source": [
        "Das wunderbare an python ist das ich mich nicht an die reihenfolge der zwingend notwendigen Argumente halten muss. Allerdings müssen zuerst die zwingenden dann die optionelen argmunente gesetzt werden, in diesem fall muss ich auch alle argumente benennen"
      ]
    },
    {
      "cell_type": "code",
      "execution_count": null,
      "metadata": {
        "id": "VLZmsHuY4XFZ",
        "outputId": "dd6e586c-f457-42a5-f172-cd02c2fc59a8"
      },
      "outputs": [
        {
          "data": {
            "text/plain": [
              "2.0"
            ]
          },
          "execution_count": 34,
          "metadata": {},
          "output_type": "execute_result"
        }
      ],
      "source": [
        "meineFunktion(optionalesArgumentDasStandartmässig2ist=4,argument2=5,argumentEins=3)"
      ]
    },
    {
      "cell_type": "markdown",
      "metadata": {
        "id": "M3blyAaj4XFZ"
      },
      "source": [
        "Funktionen könne auch mehrere Variablen zurück geben. Hier ein etwas komplexeres Beispiel zum verstehen und testen:"
      ]
    },
    {
      "cell_type": "code",
      "execution_count": null,
      "metadata": {
        "id": "UMglndrR4XFZ"
      },
      "outputs": [],
      "source": [
        "def Celsius2Others(temp):\n",
        "    kelvin = temp+273.15\n",
        "    fahrenheit = (temp * 9/5) + 32 #WHY??\n",
        "    return {'K':kelvin,'F':fahrenheit}"
      ]
    },
    {
      "cell_type": "code",
      "execution_count": null,
      "metadata": {
        "id": "I0FFPyZK4XFZ",
        "outputId": "4650bc9d-7bb3-445c-912e-60368308ffc7"
      },
      "outputs": [
        {
          "data": {
            "text/plain": [
              "{'K': 273.15, 'F': 32.0}"
            ]
          },
          "execution_count": 38,
          "metadata": {},
          "output_type": "execute_result"
        }
      ],
      "source": [
        "Celsius2Others(0)"
      ]
    },
    {
      "cell_type": "markdown",
      "metadata": {
        "id": "MTOchWYA4XFZ"
      },
      "source": [
        "# Schleifen"
      ]
    },
    {
      "cell_type": "markdown",
      "metadata": {
        "id": "niyvw8T54XFZ"
      },
      "source": [
        "Manchmal möchte man eine Sache öfers tun zum Beispiel viele Temperaturen umrechnen das macht man in python über eine for Schleife. In einer Schleife wird der code in der Schleife mti einem sogenannten iterator über eine iteratable laufen gelassen. Der code sieht dann so aus:"
      ]
    },
    {
      "cell_type": "code",
      "execution_count": null,
      "metadata": {
        "id": "0jvwNdwA4XFZ"
      },
      "outputs": [],
      "source": [
        "for x in range(5):\n",
        "    print(x)"
      ]
    },
    {
      "cell_type": "markdown",
      "metadata": {
        "id": "V33T6y5-4XFa"
      },
      "source": [
        "In normaler Sprache wäre das: Für jeden iterator mit dem variablenname x in dem zu iterierendem etwas namens range(5) führe print(x) aus. Range(5) iteriert die zahlen 0,1,2,3,4. Ich kann dies auch über eine Liste machen ... dann wird es evtl. klarer:"
      ]
    },
    {
      "cell_type": "code",
      "execution_count": null,
      "metadata": {
        "id": "k0wssfgw4XFa",
        "outputId": "b026f0dc-b12f-4062-d74d-69e52c84552f"
      },
      "outputs": [
        {
          "name": "stdout",
          "output_type": "stream",
          "text": [
            "1.008\n",
            "4.0026\n",
            "6.94\n",
            "9.01\n",
            "10.81\n",
            "12.011\n",
            "14.007\n",
            "15.999\n",
            "18.998\n"
          ]
        }
      ],
      "source": [
        "elektronegativitäten = [1.008,4.0026,6.94,9.01,10.81,12.011,14.007,15.999,18.998]\n",
        "for elektronegativität in elektronegativitäten:\n",
        "    print(elektronegativität)"
      ]
    },
    {
      "cell_type": "markdown",
      "metadata": {
        "id": "0f1bseNk4XFa"
      },
      "source": [
        "Meistens macht man kleinere schleifen mit einer sogenannten comprehension d.h. man schreibt einen einzeiler. Wenn man z.B. die Quadrate von zahlen berechnen wollen würde könnte man folgendes tun in 3-leveln der \"professionalität\". Hierbei kann man die Lesbarkeit sehr stark erhöhen (alle level machen das exakt gleiche!):"
      ]
    },
    {
      "cell_type": "markdown",
      "metadata": {
        "id": "78BK0KD24XFa"
      },
      "source": [
        "## Level 1:"
      ]
    },
    {
      "cell_type": "code",
      "execution_count": null,
      "metadata": {
        "id": "EeG-rC2H4XFa"
      },
      "outputs": [],
      "source": [
        "meineZahlen = [1,2,3,4,5,6,7,8,9,10]\n",
        "meineQuadrate = [] #platzhalter für gleich. Man kann an listen anhängen -> append\n",
        "for zahl in meineZahlen:\n",
        "    meinQuadrat = zahl**2 #so macht man ^2 in python\n",
        "    meineQuadrate.append(meinQuadrat)"
      ]
    },
    {
      "cell_type": "code",
      "execution_count": null,
      "metadata": {
        "id": "kg0kYnG94XFa"
      },
      "outputs": [],
      "source": [
        "print(meineQuadrate)"
      ]
    },
    {
      "cell_type": "markdown",
      "metadata": {
        "id": "8mablI9q4XFa"
      },
      "source": [
        "## Level 2:"
      ]
    },
    {
      "cell_type": "code",
      "execution_count": null,
      "metadata": {
        "id": "_fwlctqu4XFa"
      },
      "outputs": [],
      "source": [
        "meineQuadrate = [] #platzhalter für gleich. Man kann an listen anhängen -> append\n",
        "for zahl in range(1,11): #range(1,11) läuft von 1 bis 10\n",
        "    meinQuadrat = zahl**2 #so macht man ^2 in python\n",
        "    meineQuadrate.append(meinQuadrat)"
      ]
    },
    {
      "cell_type": "code",
      "execution_count": null,
      "metadata": {
        "id": "_X8qTnb14XFa"
      },
      "outputs": [],
      "source": [
        "print(meineQuadrate)"
      ]
    },
    {
      "cell_type": "markdown",
      "metadata": {
        "id": "vyzDbJUW4XFa"
      },
      "source": [
        "## Level 3:"
      ]
    },
    {
      "cell_type": "code",
      "execution_count": null,
      "metadata": {
        "id": "CHnPZtPZ4XFa"
      },
      "outputs": [],
      "source": [
        "meineQuadrate = [zahl**2 for zahl in range(1,11)]"
      ]
    },
    {
      "cell_type": "code",
      "execution_count": null,
      "metadata": {
        "id": "0l9ezQz04XFa"
      },
      "outputs": [],
      "source": [
        "print(meineQuadrate)"
      ]
    },
    {
      "cell_type": "markdown",
      "metadata": {
        "id": "qgVSTCSA4XFa"
      },
      "source": [
        "Man kann eine Comprehension auch mit einem dict machen dann muss man allrdingt werte und schlüsselwörter iterieren:"
      ]
    },
    {
      "cell_type": "code",
      "execution_count": null,
      "metadata": {
        "id": "aH80Rtiu4XFa"
      },
      "outputs": [],
      "source": [
        "abc = 'abcdefghijklmnopqrstuvwxyz'\n",
        "meinDict = {key:value**2 for key,value in zip(abc,range(len(abc)))}\n",
        "print(meinDict)"
      ]
    },
    {
      "cell_type": "markdown",
      "metadata": {
        "id": "3MjbXKIS4XFa"
      },
      "source": [
        "Was macht der code in der obrigen zeile?\\\n",
        "man kann eine for schleife üer mehrere iteratoren **gleichzeitig** laufen lassen nur muss man diese zusammen\"zippen\" mit zip. der begriff len gibt mit die länge einer iste oder eines string zurück. Was dieser code also macht ist er erzeugt ein dict mit den schlüsselwörtern der buchstaben des alphabet in dem die quadrate derposition gespeichert werden."
      ]
    },
    {
      "cell_type": "markdown",
      "metadata": {
        "id": "fYBiTQ2E4XFb"
      },
      "source": [
        "# Wenn ... dann ..."
      ]
    },
    {
      "cell_type": "markdown",
      "metadata": {
        "id": "KcD3y7zh4XFb"
      },
      "source": [
        "Ab und zu muss man Entscheidungen treffen das geht mit if else in python:"
      ]
    },
    {
      "cell_type": "code",
      "execution_count": null,
      "metadata": {
        "id": "i9V1lMWr4XFb",
        "outputId": "f02c0de6-6e17-496a-e804-28e4f6982701"
      },
      "outputs": [
        {
          "name": "stdout",
          "output_type": "stream",
          "text": [
            "Die Temperatur ist 273.15 K\n"
          ]
        }
      ],
      "source": [
        "tempCelsius = 0 # °C\n",
        "tempKelvin = tempCelsius+273.15 #K\n",
        "if tempKelvin < 0:\n",
        "    print('Nicht physikalische Temperatur')\n",
        "else:\n",
        "    print('Die Temperatur ist {} K'.format(tempKelvin))  "
      ]
    },
    {
      "cell_type": "markdown",
      "metadata": {
        "id": "fow3Nnhl4XFb"
      },
      "source": [
        "Ändern Sie doch mal die Temperatur so, dass die Warnung ausgegeben wird.\\\n",
        "Die zweite print ausgabe nutzt .format um tempKelvin in die Nachricht einzubauen. Ein cheat sheet ist hier: https://pyformat.info"
      ]
    },
    {
      "cell_type": "markdown",
      "metadata": {
        "id": "4KGr7ngC4XFb"
      },
      "source": [
        "Ändern Sie doch mal die Funktion Celsius2Others so ab das sie warnungen ausgeben kann."
      ]
    },
    {
      "cell_type": "markdown",
      "metadata": {
        "id": "EnIb80cW4XFb"
      },
      "source": [
        "# Importe"
      ]
    },
    {
      "cell_type": "markdown",
      "metadata": {
        "id": "1qcQpdpC4XFb"
      },
      "source": [
        "Es gibt unzählige pakete für python welche die verschiedensten Aufgaben erledigen. ein paar der wichtigsten sind numpy, matplotlib und pickle wobei letzteres mit jeder pythoninstallation mitgeliefert wird."
      ]
    },
    {
      "cell_type": "markdown",
      "metadata": {
        "id": "TZ4nnR_d4XFb"
      },
      "source": [
        "Generell muss man diese pakete alerdings ersteinmal in das skript/programm importieren das macht man via\n",
        "```python\n",
        "import paket\n",
        "```\n"
      ]
    },
    {
      "cell_type": "markdown",
      "metadata": {
        "id": "YU4MmG-C4XFb"
      },
      "source": [
        "man kann dem paket aber auch einen lokalen \"Spitznamen\" geben was bei längeren paketnamen oft von vorteil ist:\n",
        "```python\n",
        "import numpy as np\n",
        "```\n",
        "ich kann dann auf die funktionen von numpy zugreifen indem ich \n",
        "```python\n",
        "np.funktionsName()\n",
        "```\n",
        "aufrufe. Ein Beispiel:"
      ]
    },
    {
      "cell_type": "code",
      "execution_count": null,
      "metadata": {
        "id": "ujN3WtLV4XFb",
        "outputId": "2bcad0c5-ddc5-4747-cb5b-36bb4277d0ae"
      },
      "outputs": [
        {
          "data": {
            "text/plain": [
              "1.2246467991473532e-16"
            ]
          },
          "execution_count": 59,
          "metadata": {},
          "output_type": "execute_result"
        }
      ],
      "source": [
        "import numpy as np\n",
        "np.sin(np.pi)"
      ]
    },
    {
      "cell_type": "markdown",
      "metadata": {
        "id": "srXlpt3v4XFb"
      },
      "source": [
        "Eine art numerisches 0 da sin(pi)=0 ist. Ein seeehr wichtiger Datentyp ist der numpy array welcher viele Eigenschaften einer Liste hat jedoch mehr funktionen hat wie z.B. slices. Nehmen wir z.B eine Matrix weche die Ordnungzahlen von Mn,Fe,Co / Tc, Ru, Rh / Re, Os, Ir hat. Als list sähe das so aus (... eine list of lists):"
      ]
    },
    {
      "cell_type": "code",
      "execution_count": null,
      "metadata": {
        "id": "5JLxKPjh4XFb"
      },
      "outputs": [],
      "source": [
        "matrixList = [[24,25,26],[42,43,44],[74,75,76]]\n",
        "matrixNumpy = np.array(matrixList)"
      ]
    },
    {
      "cell_type": "markdown",
      "metadata": {
        "id": "krx8m_da4XFb"
      },
      "source": [
        "Nun kann ich vertikale und horizontale schnitte durch meine matrix legen (geht nur bedingt mit der liste):"
      ]
    },
    {
      "cell_type": "code",
      "execution_count": null,
      "metadata": {
        "id": "q0N314FE4XFb",
        "outputId": "6fb6dd58-649e-4959-fcc2-064d12e28bfe"
      },
      "outputs": [
        {
          "name": "stdout",
          "output_type": "stream",
          "text": [
            "[25 43 75]\n"
          ]
        }
      ],
      "source": [
        "print(matrixNumpy[:,1])"
      ]
    },
    {
      "cell_type": "code",
      "execution_count": null,
      "metadata": {
        "id": "B1rx9Fwc4XFb",
        "outputId": "88d183ec-3ba5-4a26-8dff-a38e24046fcb"
      },
      "outputs": [
        {
          "ename": "TypeError",
          "evalue": "list indices must be integers or slices, not tuple",
          "output_type": "error",
          "traceback": [
            "\u001b[0;31m---------------------------------------------------------------------------\u001b[0m",
            "\u001b[0;31mTypeError\u001b[0m                                 Traceback (most recent call last)",
            "\u001b[0;32m<ipython-input-66-935cce95f27c>\u001b[0m in \u001b[0;36m<module>\u001b[0;34m\u001b[0m\n\u001b[1;32m      1\u001b[0m \u001b[0;31m#Das geht nicht\u001b[0m\u001b[0;34m\u001b[0m\u001b[0;34m\u001b[0m\u001b[0;34m\u001b[0m\u001b[0m\n\u001b[0;32m----> 2\u001b[0;31m \u001b[0mprint\u001b[0m\u001b[0;34m(\u001b[0m\u001b[0mmatrixList\u001b[0m\u001b[0;34m[\u001b[0m\u001b[0;34m:\u001b[0m\u001b[0;34m,\u001b[0m\u001b[0;36m1\u001b[0m\u001b[0;34m]\u001b[0m\u001b[0;34m)\u001b[0m\u001b[0;34m\u001b[0m\u001b[0;34m\u001b[0m\u001b[0m\n\u001b[0m",
            "\u001b[0;31mTypeError\u001b[0m: list indices must be integers or slices, not tuple"
          ]
        }
      ],
      "source": [
        "#Das geht nicht\n",
        "print(matrixList[:,1])"
      ]
    },
    {
      "cell_type": "code",
      "execution_count": null,
      "metadata": {
        "id": "4cViXYay4XFb",
        "outputId": "9728a30a-c729-4de6-8614-cff2b31601ea"
      },
      "outputs": [
        {
          "name": "stdout",
          "output_type": "stream",
          "text": [
            "[25, 43, 75]\n"
          ]
        }
      ],
      "source": [
        "#seeeehr umständlich und unleserlich\n",
        "print([matrixList[i][1] for i in range(3)])"
      ]
    },
    {
      "cell_type": "markdown",
      "metadata": {
        "id": "H6iNJutA4XFc"
      },
      "source": [
        "mit pickle kann ich übrigens meine daten speichern:"
      ]
    },
    {
      "cell_type": "code",
      "execution_count": null,
      "metadata": {
        "id": "Td98yk364XFc"
      },
      "outputs": [],
      "source": [
        "import pickle\n",
        "pickle.dump(open(\"/pfad/zu/meiner/datei.pck\",\"wb\"),matrixNumpy)#wb = write binary\n",
        "\n",
        "#laden geht so:\n",
        "geladeneMatrixNumpy = pickle.dump(open(\"/pfad/zu/meiner/datei.pck\",\"rb\"))#rb = read binary"
      ]
    },
    {
      "cell_type": "markdown",
      "metadata": {
        "id": "hZLRTZJz4XFc"
      },
      "source": [
        "# Plotten"
      ]
    },
    {
      "cell_type": "markdown",
      "metadata": {
        "id": "auPWPpHH4XFc"
      },
      "source": [
        "Python kann auch graphische Dinge ausgeben und mit etwas (viel) mühe sogar so das man das publizieren kann. Das paket hierzu ist matplotlib welches eigentlich (wie bereits der name sagt) eine bibliothek also mehrere pakete in einem ist. man kommt an das paket zum plotten mit python in matplotlib über:\n",
        "```python\n",
        "import matplotlib.pyplot as plt\n",
        "```\n",
        "oder aternativ (macht exakt as gliche ist aber lesbarer):\n",
        "```python\n",
        "from matplotlib import pyplot as plt\n",
        "```\n"
      ]
    },
    {
      "cell_type": "code",
      "execution_count": null,
      "metadata": {
        "id": "fiLhttT94XFc",
        "outputId": "5df8426c-8bb1-491e-d228-21d8a9ffed2a"
      },
      "outputs": [
        {
          "data": {
            "image/png": "[encoded data removed]",
            "text/plain": [
              "<Figure size 432x288 with 1 Axes>"
            ]
          },
          "metadata": {
            "needs_background": "light"
          },
          "output_type": "display_data"
        }
      ],
      "source": [
        "#und dann macht man einfach einen plot mit plt.plot :)\n",
        "from matplotlib import pyplot as plt\n",
        "x = [i for i in range(-50,51)] #na was macht range hier genau? von -50 bis 50 zählen!!\n",
        "y = [k**2 for k in x]\n",
        "plt.plot(x,y)#wir haben ja x und y\n",
        "plt.show()#nur dann wird auch was gezeigt"
      ]
    },
    {
      "cell_type": "code",
      "execution_count": null,
      "metadata": {
        "id": "xjTJRlo84XFc",
        "outputId": "a0aa9a95-3f85-4f3c-d786-4f9cdff67a38"
      },
      "outputs": [
        {
          "data": {
            "image/png": "[encoded data removed]",
            "text/plain": [
              "<Figure size 432x288 with 1 Axes>"
            ]
          },
          "metadata": {
            "needs_background": "light"
          },
          "output_type": "display_data"
        }
      ],
      "source": [
        "#wenn wir achsenbeschriftungen wollen müssen wir diese mit plt.xlabel usw hinzufügen\n",
        "plt.plot(x,y,label='le data')#wir haben ja x und y\n",
        "plt.xlabel('$\\\\alpha$-Achse [a.U.]')\n",
        "plt.ylabel('$\\\\beta$-Achse [a.U.]')\n",
        "plt.legend()\n",
        "plt.show()#nur dann wird auch was gezeigt"
      ]
    },
    {
      "cell_type": "markdown",
      "metadata": {
        "id": "O18mm2ny4XFc"
      },
      "source": [
        "Das geht auch als scatterplot mit farbscala und unterschiedlichen grössen wo wir jeden 5. punkt zeigen!"
      ]
    },
    {
      "cell_type": "code",
      "execution_count": null,
      "metadata": {
        "id": "h4u1-LNK4XFc",
        "outputId": "c28456cc-a0ee-44e1-8d76-ede157c37ae8"
      },
      "outputs": [
        {
          "data": {
            "image/png": "[encoded data removed]",
            "text/plain": [
              "<Figure size 432x288 with 2 Axes>"
            ]
          },
          "metadata": {
            "needs_background": "light"
          },
          "output_type": "display_data"
        }
      ],
      "source": [
        "plt.scatter(x[::5],y[::5],c=y[::5],s=y[::5],label='le data')#wir haben ja x und y\n",
        "plt.colorbar(label=\"eine Skala\")\n",
        "plt.xlabel('$\\\\alpha$-Achse [a.U.]')\n",
        "plt.ylabel('$\\\\beta$-Achse [a.U.]')\n",
        "plt.legend()\n",
        "plt.show()#nur dann wird auch was gezeigt"
      ]
    },
    {
      "cell_type": "code",
      "execution_count": null,
      "metadata": {
        "id": "o2G9HHRg4XFc",
        "outputId": "cccf442e-fc7b-455d-c678-9f0911dd0869"
      },
      "outputs": [
        {
          "data": {
            "text/plain": [
              "(1, 1)"
            ]
          },
          "execution_count": 70,
          "metadata": {},
          "output_type": "execute_result"
        }
      ],
      "source": [
        ""
      ]
    },
    {
      "cell_type": "code",
      "execution_count": null,
      "metadata": {
        "id": "1gvilIqK4XFc"
      },
      "outputs": [],
      "source": [
        ""
      ]
    }
  ],
  "metadata": {
    "kernelspec": {
      "display_name": "Python 3 (ipykernel)",
      "language": "python",
      "name": "python3"
    },
    "language_info": {
      "codemirror_mode": {
        "name": "ipython",
        "version": 3
      },
      "file_extension": ".py",
      "mimetype": "text/x-python",
      "name": "python",
      "nbconvert_exporter": "python",
      "pygments_lexer": "ipython3",
      "version": "3.7.11"
    },
    "colab": {
      "name": "0_Python Crash Kurs.ipynb",
      "provenance": []
    }
  },
  "nbformat": 4,
  "nbformat_minor": 0
}