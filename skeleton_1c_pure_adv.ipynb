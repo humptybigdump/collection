{
 "cells": [
  {
   "cell_type": "code",
   "execution_count": null,
   "metadata": {},
   "outputs": [],
   "source": [
    "import numpy as np\n",
    "import matplotlib.pyplot as plt\n",
    "from matplotlib.animation import FuncAnimation\n",
    "%matplotlib notebook"
   ]
  },
  {
   "cell_type": "markdown",
   "metadata": {},
   "source": [
    "## User settings"
   ]
  },
  {
   "cell_type": "code",
   "execution_count": null,
   "metadata": {},
   "outputs": [],
   "source": [
    "N = 200 # number of nodes\n",
    "L = 1 # domain length\n",
    "dt = 0.001 # time step\n",
    "t0 = 0 # initial time instant\n",
    "\n",
    "U = 1 # convection velocity\n",
    "\n",
    "theta = 0 # value of theta specifying method in time\n",
    "\n",
    "refresh_time = 1 # basically the inverse of the framerate, in MILLISECONDS"
   ]
  },
  {
   "cell_type": "markdown",
   "metadata": {},
   "source": [
    "## Actual code"
   ]
  },
  {
   "cell_type": "markdown",
   "metadata": {},
   "source": [
    "Mesh and stability check:"
   ]
  },
  {
   "cell_type": "code",
   "execution_count": null,
   "metadata": {},
   "outputs": [],
   "source": [
    "x = np.linspace(0, L, num=N)\n",
    "dx = L/(N-1) # grid resolution\n",
    "print() # new line\n",
    "print('CFL number: ', ??? ) # CFL umber (stab. of convection in time)\n",
    "print() # new line"
   ]
  },
  {
   "cell_type": "markdown",
   "metadata": {},
   "source": [
    "Calculation of matrix B for centered in space scheme:"
   ]
  },
  {
   "cell_type": "code",
   "execution_count": null,
   "metadata": {},
   "outputs": [],
   "source": [
    "# calcolate coefficients for centered\n",
    "BEC =      ???\n",
    "BWC =      ???\n",
    "BPC =      ???     \n",
    "\n",
    "# calculate matrix B for centered\n",
    "BC = ???\n",
    "\n",
    "# make B periodic: last row takes info from second point\n",
    "???\n"
   ]
  },
  {
   "cell_type": "markdown",
   "metadata": {},
   "source": [
    "Calculation of matrix B for upwind scheme:"
   ]
  },
  {
   "cell_type": "code",
   "execution_count": null,
   "metadata": {},
   "outputs": [],
   "source": [
    "# calculate coefficients for upwind\n",
    "BEU = ???\n",
    "BWU = ???\n",
    "BPU = ???\n",
    "\n",
    "# calculate matrix B for upwind\n",
    "BU = ???\n",
    "# make B periodic: last row takes info from first point\n",
    "???"
   ]
  },
  {
   "cell_type": "markdown",
   "metadata": {},
   "source": [
    "Function to apply boundary conditions:"
   ]
  },
  {
   "cell_type": "code",
   "execution_count": null,
   "metadata": {},
   "outputs": [],
   "source": [
    "def apply_bc(M,v):\n",
    "    # this takes a matrix and a vector and modifies first and last row\n",
    "    # in order to account for boundary conditions\n",
    "\n",
    "    # Modify M and v for periodic boundary conditions\n",
    "    M = ???\n",
    "    v = ???\n",
    "\n",
    "    return M,v"
   ]
  },
  {
   "cell_type": "markdown",
   "metadata": {},
   "source": [
    "Function that returns exact solution at given time:"
   ]
  },
  {
   "cell_type": "code",
   "execution_count": null,
   "metadata": {},
   "outputs": [],
   "source": [
    "def get_exact():\n",
    "    a = (x-U*t0)%L\n",
    "    return 16*((a**2)*(L-a)**2)/(L**4)"
   ]
  },
  {
   "cell_type": "markdown",
   "metadata": {},
   "source": [
    "Initial condition:"
   ]
  },
  {
   "cell_type": "code",
   "execution_count": null,
   "metadata": {},
   "outputs": [],
   "source": [
    "# initialise exact solution\n",
    "exact_sol = get_exact()\n",
    "\n",
    "# centered\n",
    "c_curr = get_exact() # initial condition\n",
    "c_new = np.zeros_like(x) # temperature at next time step\n",
    "b_c = np.zeros_like(x) # right hand side vector\n",
    "\n",
    "# upwind\n",
    "u_curr = get_exact() # initial condition\n",
    "u_new = np.zeros_like(x) # temperature at next time step\n",
    "b_u = np.zeros_like(x) # right hand side vector\n",
    "\n",
    "# plot it\n",
    "fig, ax = plt.subplots(figsize=(10,5))\n",
    "c_plot = ax.plot(x, c_curr) # update me!\n",
    "u_plot = ax.plot(x, u_curr) # update me!\n",
    "exact_plot = ax.plot(x, exact_sol) # update me!\n",
    "ax.set_title('t = '+str(round(t0, 3))) # update me!\n",
    "ax.legend(['centered', 'upwind', 'exact'])"
   ]
  },
  {
   "cell_type": "markdown",
   "metadata": {},
   "source": [
    "Matrices for time step:"
   ]
  },
  {
   "cell_type": "code",
   "execution_count": null,
   "metadata": {},
   "outputs": [],
   "source": [
    "# Matrix of coefficients (multiplies T_{n+1})\n",
    "AC = np.identity(N) - dt * theta * BC\n",
    "AU = np.identity(N) - dt * theta * BU\n",
    "\n",
    "\n",
    "# Matrix that returns know term\n",
    "EC = np.identity(N) + dt * (1-theta) * BC\n",
    "EU = np.identity(N) + dt * (1-theta) * BU\n",
    "\n",
    "# A * t_new = E * t_curr"
   ]
  },
  {
   "cell_type": "markdown",
   "metadata": {},
   "source": [
    "Time step function:"
   ]
  },
  {
   "cell_type": "code",
   "execution_count": null,
   "metadata": {},
   "outputs": [],
   "source": [
    "def time_step(ii):\n",
    "\n",
    "    global c_curr, c_new, u_curr, u_new, b_c, b_u, AC, AU, EC, EU, t0, exact_sol\n",
    "\n",
    "    # get known term and apply bc\n",
    "    b_c = ????   # b-vector for centered scheme\n",
    "    b_u[:] = ????   # b-vector for upwind scheme\n",
    "    AC,b_c = ????   # Apply periodic B.C. for A and b\n",
    "    AU,b_u = ????   # Apply periodic B.C. for A and b\n",
    "\n",
    "    # solve system\n",
    "    c_new[:] = np.linalg.solve(AC,b_c)\n",
    "    u_new[:] = np.linalg.solve(AU,b_u)\n",
    "\n",
    "    # update\n",
    "    t0 += dt\n",
    "    buffer_pointer = c_curr\n",
    "    c_curr = c_new\n",
    "    c_new = buffer_pointer\n",
    "    buffer_pointer = u_curr\n",
    "    u_curr = u_new\n",
    "    u_new = buffer_pointer\n",
    "    exact_sol[:] = get_exact()\n",
    "\n",
    "    # plot\n",
    "    c_plot[0].set_ydata(c_curr)\n",
    "    u_plot[0].set_ydata(u_curr)\n",
    "    exact_plot[0].set_ydata(exact_sol)\n",
    "    ax.set_title('t = '+str(round(t0, 3)))\n",
    "\n",
    "    return c_plot, u_plot, exact_plot"
   ]
  },
  {
   "cell_type": "markdown",
   "metadata": {},
   "source": [
    "Animation:"
   ]
  },
  {
   "cell_type": "code",
   "execution_count": null,
   "metadata": {},
   "outputs": [],
   "source": [
    "animation = FuncAnimation(fig, func=time_step, interval=refresh_time)\n",
    "plt.show()"
   ]
  },
  {
   "cell_type": "code",
   "execution_count": null,
   "metadata": {},
   "outputs": [],
   "source": []
  }
 ],
 "metadata": {
  "kernelspec": {
   "display_name": "Python 3",
   "language": "python",
   "name": "python3"
  },
  "language_info": {
   "codemirror_mode": {
    "name": "ipython",
    "version": 3
   },
   "file_extension": ".py",
   "mimetype": "text/x-python",
   "name": "python",
   "nbconvert_exporter": "python",
   "pygments_lexer": "ipython3",
   "version": "3.7.7"
  }
 },
 "nbformat": 4,
 "nbformat_minor": 4
}
