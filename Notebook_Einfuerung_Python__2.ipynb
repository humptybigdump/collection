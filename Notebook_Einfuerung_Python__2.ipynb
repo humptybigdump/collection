{
 "cells": [
  {
   "cell_type": "markdown",
   "metadata": {},
   "source": [
    "# Einführung in Python"
   ]
  },
  {
   "cell_type": "markdown",
   "metadata": {},
   "source": [
    "Dieses Jupyter-Notebook ist eine kurze Einführung in Python und in die Verwendung von Jupyter-Notebooks."
   ]
  },
  {
   "cell_type": "markdown",
   "metadata": {},
   "source": [
    "## Python "
   ]
  },
  {
   "cell_type": "markdown",
   "metadata": {},
   "source": [
    "Python ist eine höhere, interpretierte, allgemeine Programmiersprache, und sie ist Open Source! \n",
    "\n",
    "Wenn Sie mit einem Python-Skript beginnen, gibt es einige Routinen und Funktionen, die Sie sofort verwenden können, zum Beispiel den Befehl `print()`. Um den Code auszuführen, klicken Sie einfach auf die Zelle mit dem Python-Code und drücken Sie dann die Tastenkombination `Umschalt + Enter`:"
   ]
  },
  {
   "cell_type": "code",
   "execution_count": 5,
   "metadata": {},
   "outputs": [
    {
     "name": "stdout",
     "output_type": "stream",
     "text": [
      "Hello world\n"
     ]
    }
   ],
   "source": [
    "print(\"Hello world\")"
   ]
  },
  {
   "cell_type": "markdown",
   "metadata": {},
   "source": [
    "### Variables\n",
    "Im Gegensatz zu Low-Level-Sprachen wie `C` oder `C++` benötigt Python keine expliziten Typendeklarationen für Variablen."
   ]
  },
  {
   "cell_type": "code",
   "execution_count": 2,
   "metadata": {},
   "outputs": [],
   "source": [
    "a = 8\n",
    "b = 'three'\n",
    "c = 15.3"
   ]
  },
  {
   "cell_type": "markdown",
   "metadata": {},
   "source": [
    "Mit der Funktion `type()` können wir den Typ der Variablen überprüfen."
   ]
  },
  {
   "cell_type": "code",
   "execution_count": 3,
   "metadata": {},
   "outputs": [
    {
     "data": {
      "text/plain": [
       "int"
      ]
     },
     "execution_count": 3,
     "metadata": {},
     "output_type": "execute_result"
    }
   ],
   "source": [
    "type(a)"
   ]
  },
  {
   "cell_type": "code",
   "execution_count": 4,
   "metadata": {},
   "outputs": [
    {
     "data": {
      "text/plain": [
       "str"
      ]
     },
     "execution_count": 4,
     "metadata": {},
     "output_type": "execute_result"
    }
   ],
   "source": [
    "type(b)"
   ]
  },
  {
   "cell_type": "code",
   "execution_count": 5,
   "metadata": {},
   "outputs": [
    {
     "data": {
      "text/plain": [
       "float"
      ]
     },
     "execution_count": 5,
     "metadata": {},
     "output_type": "execute_result"
    }
   ],
   "source": [
    "type(c)"
   ]
  },
  {
   "cell_type": "markdown",
   "metadata": {},
   "source": [
    "### Arrays und nullbasierte Indizes"
   ]
  },
  {
   "cell_type": "markdown",
   "metadata": {},
   "source": [
    "Python bietet viele Möglichkeiten, Elemente in einer einzigen Variablen zu sammeln, zum Beispiel Listen:"
   ]
  },
  {
   "cell_type": "code",
   "execution_count": 8,
   "metadata": {},
   "outputs": [],
   "source": [
    "test_list = [1, 2, 3, 4, 5]"
   ]
  },
  {
   "cell_type": "markdown",
   "metadata": {},
   "source": [
    "Die Elemente der Liste sind (implizit) nummeriert; jedes Element entspricht einem Index. Um ein Element dieses Arrays zu erhalten, können wir die eckigen Klammern `[]` und den Index des Elements innerhalb des Arrays verwenden. Versuchen wir nun, auf das erste Element des Arrays zuzugreifen; intuitiv würde das so aussehen:"
   ]
  },
  {
   "cell_type": "code",
   "execution_count": 10,
   "metadata": {},
   "outputs": [
    {
     "data": {
      "text/plain": [
       "2"
      ]
     },
     "execution_count": 10,
     "metadata": {},
     "output_type": "execute_result"
    }
   ],
   "source": [
    "test_list[1]"
   ]
  },
  {
   "cell_type": "markdown",
   "metadata": {},
   "source": [
    "Aber halt! Warum erhalten wir das Element mit dem Wert 2? \n",
    "\n",
    "Nun, weil Python einen **nullbasierten Index** verwendet, was bedeutet, dass das erste Element den Index 0 hat:"
   ]
  },
  {
   "cell_type": "code",
   "execution_count": 11,
   "metadata": {},
   "outputs": [
    {
     "data": {
      "text/plain": [
       "1"
      ]
     },
     "execution_count": 11,
     "metadata": {},
     "output_type": "execute_result"
    }
   ],
   "source": [
    "test_list[0]"
   ]
  },
  {
   "cell_type": "markdown",
   "metadata": {},
   "source": [
    "Das ist ganz anders als z.B. in MATLAB, wo die Indizes eines Arrays mit `1` beginnen. Versuchen wir nun, auf das letzte Element von `test_list` zuzugreifen, das insgesamt `5` Einträge enthält; natürlich wird die folgende Zeile einen Out-of-Bounds-Fehler verursachen:"
   ]
  },
  {
   "cell_type": "code",
   "execution_count": 13,
   "metadata": {},
   "outputs": [
    {
     "ename": "IndexError",
     "evalue": "list index out of range",
     "output_type": "error",
     "traceback": [
      "\u001b[1;31m---------------------------------------------------------------------------\u001b[0m",
      "\u001b[1;31mIndexError\u001b[0m                                Traceback (most recent call last)",
      "\u001b[1;32m<ipython-input-13-116e5c0b62b0>\u001b[0m in \u001b[0;36m<module>\u001b[1;34m\u001b[0m\n\u001b[1;32m----> 1\u001b[1;33m \u001b[0mtest_list\u001b[0m\u001b[1;33m[\u001b[0m\u001b[1;36m5\u001b[0m\u001b[1;33m]\u001b[0m\u001b[1;33m\u001b[0m\u001b[1;33m\u001b[0m\u001b[0m\n\u001b[0m",
      "\u001b[1;31mIndexError\u001b[0m: list index out of range"
     ]
    }
   ],
   "source": [
    "test_list[5]"
   ]
  },
  {
   "cell_type": "markdown",
   "metadata": {},
   "source": [
    "da die Indizierung bei Null beginnt und das fünfte und letzte Element dasjenige mit dem Index `4` ist."
   ]
  },
  {
   "cell_type": "code",
   "execution_count": 15,
   "metadata": {
    "scrolled": false
   },
   "outputs": [
    {
     "data": {
      "text/plain": [
       "5"
      ]
     },
     "execution_count": 15,
     "metadata": {},
     "output_type": "execute_result"
    }
   ],
   "source": [
    "test_list[4]"
   ]
  },
  {
   "cell_type": "markdown",
   "metadata": {},
   "source": [
    "Ein praktischer Weg, um auf ein Array vom Ende her zuzugreifen, ist die Verwendung eines negativen Index; zum Beispiel entspricht `-1` dem letzten Element:"
   ]
  },
  {
   "cell_type": "code",
   "execution_count": 16,
   "metadata": {
    "scrolled": true
   },
   "outputs": [
    {
     "data": {
      "text/plain": [
       "5"
      ]
     },
     "execution_count": 16,
     "metadata": {},
     "output_type": "execute_result"
    }
   ],
   "source": [
    "test_list[-1]"
   ]
  },
  {
   "cell_type": "markdown",
   "metadata": {},
   "source": [
    "Im Allgemeinen bezieht sich `-1` auf das letzte Element, `-2` auf das vorletzte und so weiter."
   ]
  },
  {
   "cell_type": "markdown",
   "metadata": {},
   "source": [
    "### Auswahl von Teile einer Liste (Array Slicing)"
   ]
  },
  {
   "cell_type": "markdown",
   "metadata": {},
   "source": [
    "Manchmal möchte man nur einen bestimmten Teil oder Bereich aus einem Array herausholen; dafür braucht man die Slicing-Technik. Wenn Sie zum Beispiel die ersten drei Elemente aus unserem Array `test_list` haben wollen, dann geben Sie einfach"
   ]
  },
  {
   "cell_type": "code",
   "execution_count": 17,
   "metadata": {},
   "outputs": [
    {
     "data": {
      "text/plain": [
       "[1, 2, 3]"
      ]
     },
     "execution_count": 17,
     "metadata": {},
     "output_type": "execute_result"
    }
   ],
   "source": [
    "test_list[0:3]"
   ]
  },
  {
   "cell_type": "markdown",
   "metadata": {},
   "source": [
    "Wie Sie bemerkt haben, haben wir als Index des ersten Elements die `0` verwendet und den Index `3` für das Ende des Slicing-Befehls verwendet. Das Slicing hat jedoch nicht das Element mit dem Index `3` zurückgegeben, was `test_list[3] = 4` wäre. Das bedeutet, dass die Slicing-Operation am Ende des Bereichs **exklusiv** ist, während sie am Anfang des Indexbereichs **inklusiv** ist."
   ]
  },
  {
   "cell_type": "markdown",
   "metadata": {},
   "source": [
    "Die Anzahl der vom Slicing-Vorgang ausgewählten Elemente lässt sich leicht als `3-0=3` ermitteln. Im Allgemeinen wählt `a:b` also `b-a` Elemente aus, beginnend mit (und einschließlich) `a`."
   ]
  },
  {
   "cell_type": "markdown",
   "metadata": {},
   "source": [
    "### For-Schleife"
   ]
  },
  {
   "cell_type": "markdown",
   "metadata": {},
   "source": [
    "Wir werden sehr oft for-Schleifen verwenden, um über unsere Arrays zu iterieren, um Differentialgleichungen oder andere Aufgaben zu lösen. Um for-Schleifen in Python zu definieren, müssen wir nur schreiben:"
   ]
  },
  {
   "cell_type": "code",
   "execution_count": 18,
   "metadata": {
    "scrolled": false
   },
   "outputs": [
    {
     "name": "stdout",
     "output_type": "stream",
     "text": [
      "Hey this is i = 0\n",
      "Hey this is i = 1\n",
      "Hey this is i = 2\n",
      "Hey this is i = 3\n",
      "Hey this is i = 4\n"
     ]
    }
   ],
   "source": [
    "for i in range(5):\n",
    "    print(\"Hey this is i =\",i)"
   ]
  },
  {
   "cell_type": "markdown",
   "metadata": {},
   "source": [
    "Die Funktion `range()` erzeugt Indizes und kann auch mit zwei Argumenten aufgerufen werden, wie z.B. \"Bereich(a,b)\". Hier stehen `a` und `b` für die untere und obere Grenze; es gelten die gleichen Regeln für die Aufteilung, so dass `a` eingeschlossen und `b` ausgeschlossen wird. Beachten Sie, dass `range(b)` äquivalent zu `range(0,b)` ist.\n",
    "\n",
    "Beachten Sie, dass __Python Einrückungen und Leerzeichen verwendet, um zu unterscheiden, welche Anweisungen zur for-Schleife gehören und was außerhalb liegt__. Achten Sie auch darauf, die doppelten Punkte nach der for-Anweisung nicht zu vergessen, sonst bekommen Sie einen Fehler. \n",
    "\n",
    "Hier ist ein Beispiel für eine verschachtelte for-Schleife, an dem Sie sehen können, welche Auswirkungen die Einrückungen innerhalb von for-Schleifen haben:"
   ]
  },
  {
   "cell_type": "code",
   "execution_count": 19,
   "metadata": {
    "scrolled": false
   },
   "outputs": [
    {
     "name": "stdout",
     "output_type": "stream",
     "text": [
      "i,j = 0 0\n",
      "i,j = 0 1\n",
      "This is a call in the i-loop, but not in the j-loop\n",
      "i,j = 1 0\n",
      "i,j = 1 1\n",
      "This is a call in the i-loop, but not in the j-loop\n",
      "i,j = 2 0\n",
      "i,j = 2 1\n",
      "This is a call in the i-loop, but not in the j-loop\n"
     ]
    }
   ],
   "source": [
    "for i in range(3):\n",
    "    for j in range(2):\n",
    "        print('i,j =',i,j)\n",
    "    \n",
    "    print('This is a call in the i-loop, but not in the j-loop')"
   ]
  },
  {
   "cell_type": "markdown",
   "metadata": {},
   "source": [
    "Manchmal ist es nicht notwendig, einen Zähler (d.h. eine Variable wie `i` im obigen Beispiel) in Python-Schleifen zu haben. Viele Listen und Arrays sind iterierbar, d.h. sie erlauben eine bestimmte Syntax, die jetzt beschrieben wird. Betrachten Sie die Liste:"
   ]
  },
  {
   "cell_type": "code",
   "execution_count": 23,
   "metadata": {},
   "outputs": [],
   "source": [
    "ordnung_raubtiere = ['katze', 'tiger', 'löwe', 'luchse', 'karakal']"
   ]
  },
  {
   "cell_type": "markdown",
   "metadata": {},
   "source": [
    "Man kann jeden Punkt der Liste mit durchgehen:"
   ]
  },
  {
   "cell_type": "code",
   "execution_count": 24,
   "metadata": {},
   "outputs": [
    {
     "name": "stdout",
     "output_type": "stream",
     "text": [
      "katze\n",
      "tiger\n",
      "löwe\n",
      "luchse\n",
      "karakal\n"
     ]
    }
   ],
   "source": [
    "for familie in ordnung_raubtiere:\n",
    "    print(familie)"
   ]
  },
  {
   "cell_type": "markdown",
   "metadata": {},
   "source": [
    "Wenn ein Zähler tatsächlich benötigt wird, kann man sich den folgenden Ausdruck zunutze machen:"
   ]
  },
  {
   "cell_type": "code",
   "execution_count": 27,
   "metadata": {},
   "outputs": [
    {
     "name": "stdout",
     "output_type": "stream",
     "text": [
      "Nummer 0 ist ein/e katze\n",
      "Nummer 1 ist ein/e tiger\n",
      "Nummer 2 ist ein/e löwe\n",
      "Nummer 3 ist ein/e luchse\n",
      "Nummer 4 ist ein/e karakal\n"
     ]
    }
   ],
   "source": [
    "for counter, familie in enumerate(ordnung_raubtiere):\n",
    "    print('Nummer', counter, 'ist ein/e', familie)"
   ]
  },
  {
   "cell_type": "markdown",
   "metadata": {},
   "source": [
    "Oder manchmal muss man durch zwei gleich lange Listen iterieren:"
   ]
  },
  {
   "cell_type": "code",
   "execution_count": 29,
   "metadata": {
    "scrolled": true
   },
   "outputs": [
    {
     "name": "stdout",
     "output_type": "stream",
     "text": [
      "Ein/e katze ist ein kleines Raubtier.\n",
      "Ein/e tiger ist ein großes Raubtier.\n",
      "Ein/e löwe ist ein großes Raubtier.\n",
      "Ein/e luchse ist ein kleines Raubtier.\n",
      "Ein/e karakal ist ein kleines Raubtier.\n"
     ]
    }
   ],
   "source": [
    "klein_oder_gross = ['klein', 'groß', 'groß', 'klein', 'klein']\n",
    "\n",
    "for familie, groesse in zip(ordnung_raubtiere, klein_oder_gross):\n",
    "    print('Ein/e', familie, 'ist ein', groesse+'es', 'Raubtier.')"
   ]
  },
  {
   "cell_type": "markdown",
   "metadata": {},
   "source": [
    "### Bibliotheken laden und benutzen"
   ]
  },
  {
   "cell_type": "markdown",
   "metadata": {},
   "source": [
    "Um anspruchsvollere Operationen wie Matrixmanipulationen durchzuführen, müssen wir Pakete laden, bevor wir mit unserem Python-Programm beginnen. Eines der wichtigsten Pakete für unsere Zwecke sind `numpy` (Matrixmanipulation wie MATLAB) und `matplotlib` (Plotting-Bibliothek). Die Module werden geladen, indem man sie an den Anfang des Codes stellt:"
   ]
  },
  {
   "cell_type": "code",
   "execution_count": 32,
   "metadata": {},
   "outputs": [],
   "source": [
    "import numpy \n",
    "from matplotlib import pyplot"
   ]
  },
  {
   "cell_type": "markdown",
   "metadata": {},
   "source": [
    "Zuerst importieren wir also das Paket `numpy` und in der zweiten Zeile importieren wir das Modul `pyplot` aus dem Paket `matplotlib` (wir laden nicht alle Funktionen aus diesem Paket). Jetzt können wir Funktionen dieser beiden Pakete verwenden, indem wir zuerst den Paketnamen mit einem Punkt `.` und dann die Funktion, die wir verwenden wollen, schreiben: "
   ]
  },
  {
   "cell_type": "code",
   "execution_count": 33,
   "metadata": {},
   "outputs": [
    {
     "data": {
      "text/plain": [
       "array([0. , 0.5, 1. , 1.5, 2. , 2.5, 3. , 3.5, 4. , 4.5, 5. ])"
      ]
     },
     "execution_count": 33,
     "metadata": {},
     "output_type": "execute_result"
    }
   ],
   "source": [
    "myarray1 = numpy.linspace(0,5,11)\n",
    "myarray1"
   ]
  },
  {
   "cell_type": "markdown",
   "metadata": {},
   "source": [
    "Die Funktion `linspace` erzeugt also ein Array, das bei 0 beginnt und bei 5 endet und mit insgesamt 11 Elementen gleichmäßig verteilt ist. Beachten Sie, dass Numpy-Arrays andere Datentypen sind als Python-Listen:"
   ]
  },
  {
   "cell_type": "code",
   "execution_count": 34,
   "metadata": {},
   "outputs": [
    {
     "name": "stdout",
     "output_type": "stream",
     "text": [
      "<class 'list'>\n",
      "<class 'numpy.ndarray'>\n"
     ]
    }
   ],
   "source": [
    "test_list = [1, 2, 3]\n",
    "print(type(test_list))\n",
    "print(type(myarray1))"
   ]
  },
  {
   "cell_type": "markdown",
   "metadata": {},
   "source": [
    "__Man kann auf Numpy-Arrays mit Indexierung und Slicing genauso zugreifen wie auf Python-Listen__. Allerdings unterstützen Python-Listen keine Matrixoperationen (und viele andere nützliche Features), die von numpy unterstützt werden."
   ]
  },
  {
   "cell_type": "markdown",
   "metadata": {},
   "source": [
    "Häufig findet man Python-Codes, die Module und Pakete umbenennen. Zum Beispiel verwendet man häufig die Abkürzung `np` für das numpy-Paket, um Buchstaben und Zeit zu sparen. Um diese Abkürzungen zu verwenden, müssen wir dies beim Laden des Pakets angeben, also laden Sie Ihr Paket das nächste Mal wie folgt:"
   ]
  },
  {
   "cell_type": "code",
   "execution_count": 35,
   "metadata": {},
   "outputs": [
    {
     "data": {
      "text/plain": [
       "array([0. , 0.5, 1. , 1.5, 2. , 2.5, 3. , 3.5, 4. , 4.5, 5. ])"
      ]
     },
     "execution_count": 35,
     "metadata": {},
     "output_type": "execute_result"
    }
   ],
   "source": [
    "import numpy as np\n",
    "\n",
    "myarray2 = np.linspace(0,5,11)\n",
    "myarray2"
   ]
  },
  {
   "cell_type": "markdown",
   "metadata": {},
   "source": [
    "und für das `pyplot`-Modul wird oft die Abkürzung `plt` verwendet:"
   ]
  },
  {
   "cell_type": "code",
   "execution_count": 36,
   "metadata": {},
   "outputs": [],
   "source": [
    "from matplotlib import pyplot as plt"
   ]
  },
  {
   "cell_type": "markdown",
   "metadata": {},
   "source": [
    "Hier ist also ein kleines Beispiel, wie wir unsere beiden Arrays plotten, aber wir werden das zweite Array leicht verändern:"
   ]
  },
  {
   "cell_type": "code",
   "execution_count": 24,
   "metadata": {},
   "outputs": [
    {
     "data": {
      "image/png": "[encoded data removed]",
      "text/plain": [
       "<Figure size 432x288 with 1 Axes>"
      ]
     },
     "metadata": {
      "needs_background": "light"
     },
     "output_type": "display_data"
    }
   ],
   "source": [
    "a = 3.\n",
    "b = 2.\n",
    "\n",
    "myarray2 = b * myarray2 + a\n",
    "\n",
    "plt.figure()\n",
    "plt.plot(myarray1, myarray2, '-o')\n",
    "plt.title('My first plot')\n",
    "plt.xlabel('axis of myarray1')\n",
    "plt.ylabel('axis of myarray2')\n",
    "plt.show()"
   ]
  },
  {
   "cell_type": "markdown",
   "metadata": {},
   "source": [
    "### Zuweisung von Variablen"
   ]
  },
  {
   "cell_type": "markdown",
   "metadata": {},
   "source": [
    "Eine wichtiger Aspekt bei der Arbeit mit Python und Numpy betrifft die Zuweisung und das Kopieren von Arrays. Wir haben zum Beispiel das folgende 1D-Array:"
   ]
  },
  {
   "cell_type": "code",
   "execution_count": 37,
   "metadata": {},
   "outputs": [
    {
     "name": "stdout",
     "output_type": "stream",
     "text": [
      "[1 2 3 4 5]\n"
     ]
    }
   ],
   "source": [
    "a = np.array([1,2,3,4,5])\n",
    "print(a)"
   ]
  },
  {
   "cell_type": "markdown",
   "metadata": {},
   "source": [
    "Jetzt wollen wir eine Kopie des Arrays `a`. Wir könnten es wie folgt versuchen:"
   ]
  },
  {
   "cell_type": "code",
   "execution_count": 38,
   "metadata": {},
   "outputs": [
    {
     "name": "stdout",
     "output_type": "stream",
     "text": [
      "[1 2 3 4 5]\n"
     ]
    }
   ],
   "source": [
    "b = a\n",
    "print(b)"
   ]
  },
  {
   "cell_type": "markdown",
   "metadata": {},
   "source": [
    "Großartig! Das scheint zu funktionieren. Jetzt glauben wir, eine Kopie des Arrays `a` im Array `b` zu haben, so dass wir Werte des Arrays `a` ändern können, ohne uns über Verlust von Daten zu sorgen. "
   ]
  },
  {
   "cell_type": "code",
   "execution_count": 39,
   "metadata": {},
   "outputs": [
    {
     "name": "stdout",
     "output_type": "stream",
     "text": [
      "[ 1  2  3 13  5]\n"
     ]
    }
   ],
   "source": [
    "a[3] = 13\n",
    "print(a)"
   ]
  },
  {
   "cell_type": "markdown",
   "metadata": {},
   "source": [
    "Gut, also hat das 4. Element im Array `a`seinen Wert auf 13 geändert. Nun wollen wir den Wert von `b` überprüfen"
   ]
  },
  {
   "cell_type": "code",
   "execution_count": 40,
   "metadata": {},
   "outputs": [
    {
     "name": "stdout",
     "output_type": "stream",
     "text": [
      "[ 1  2  3 13  5]\n"
     ]
    }
   ],
   "source": [
    "print(b)"
   ]
  },
  {
   "cell_type": "markdown",
   "metadata": {},
   "source": [
    "Auch `b` hat seinen Wert geändert! Dies ist also ein wirklich wichtiger Aspekt, den man beachten muss. __Durch die Verwendung von `a = b` erstellt Python keine Kopie des Arrays `a`, sondern nur einen Alias (oder genauer gesagt einen Zeiger), der `b` heißt und auf `a` zeigt__. Also werden alle Änderungen in `a` auch von `b` gesehen. Wenn Sie eine echte Kopie von `a` erstellen wollen, müssen Sie Python dies explizit mitteilen. Dies geschieht durch"
   ]
  },
  {
   "cell_type": "code",
   "execution_count": 41,
   "metadata": {},
   "outputs": [],
   "source": [
    "c = a.copy()"
   ]
  },
  {
   "cell_type": "code",
   "execution_count": 42,
   "metadata": {},
   "outputs": [
    {
     "name": "stdout",
     "output_type": "stream",
     "text": [
      "[ 1  2 77 13  5]\n"
     ]
    }
   ],
   "source": [
    "a[2]=77\n",
    "print(a)"
   ]
  },
  {
   "cell_type": "code",
   "execution_count": 43,
   "metadata": {},
   "outputs": [
    {
     "name": "stdout",
     "output_type": "stream",
     "text": [
      "[ 1  2  3 13  5]\n"
     ]
    }
   ],
   "source": [
    "print(c)"
   ]
  },
  {
   "cell_type": "markdown",
   "metadata": {},
   "source": [
    "Vergewissern Sie sich, dass Sie die wichtigsten Punkte verstanden haben! Es wird Ihnen einige Zeit für Ihre zukünftige Programmierung mit Python sparen. "
   ]
  },
  {
   "cell_type": "markdown",
   "metadata": {},
   "source": [
    "## Mehr erfahren"
   ]
  },
  {
   "cell_type": "markdown",
   "metadata": {},
   "source": [
    "Es gibt viele Ressourcen im Internet, um mehr über Python und die Verwendung der Pakete `numpy` und `matplotlib` zu erfahren.\n",
    "Die Referenzhandbücher für `numpy` und `matplotlib` können hier gefunden werden\n",
    "\n",
    "* [Numpy-Referenz](https://docs.scipy.org/doc/numpy/reference/)\n",
    "* [Matplotlib](https://matplotlib.org/)\n",
    "\n",
    "Für weitere Informationen zur Verwendung von NumPy-Arrays können Sie das folgende Video von Prof.in Barba von der George Washington University aus ihrer Vorlesungsreihe \"[12 Steps to CFD](https://github.com/barbagroup/CFDPython)\" ansehen. "
   ]
  },
  {
   "cell_type": "code",
   "execution_count": 44,
   "metadata": {},
   "outputs": [
    {
     "data": {
      "image/jpeg": "[encoded data removed]",
      "text/html": [
       "\n",
       "        <iframe\n",
       "            width=\"400\"\n",
       "            height=\"300\"\n",
       "            src=\"https://www.youtube.com/embed/119bNu4E8R4\"\n",
       "            frameborder=\"0\"\n",
       "            allowfullscreen\n",
       "        ></iframe>\n",
       "        "
      ],
      "text/plain": [
       "<IPython.lib.display.YouTubeVideo at 0x12981cdfaf0>"
      ]
     },
     "execution_count": 44,
     "metadata": {},
     "output_type": "execute_result"
    }
   ],
   "source": [
    "from IPython.display import YouTubeVideo\n",
    "# a short video about using NumPy arrays, from Enthought\n",
    "YouTubeVideo('119bNu4E8R4')"
   ]
  },
  {
   "cell_type": "markdown",
   "metadata": {},
   "source": [
    "## Letzte Info"
   ]
  },
  {
   "cell_type": "markdown",
   "metadata": {},
   "source": [
    "Jupyter Notebook versteht auch Latex-Gelchungen, so dass Sie ganz bequem Gleichungen und Code-Schnipseln zusammen in einer einzigen Datei haben können, wie in dem Folgenden Beispiel!"
   ]
  },
  {
   "cell_type": "markdown",
   "metadata": {},
   "source": [
    "\\begin{equation}\n",
    "    f = \\int_a^b 3x^2 \\, \\mathrm{d}x \n",
    "\\end{equation}"
   ]
  },
  {
   "cell_type": "code",
   "execution_count": 57,
   "metadata": {},
   "outputs": [
    {
     "name": "stdout",
     "output_type": "stream",
     "text": [
      "The result is : 1.00005\n"
     ]
    }
   ],
   "source": [
    "a = 0\n",
    "b = 1\n",
    "n = 101\n",
    "x = np.linspace(a,b,n)\n",
    "phi = 3*x**2 \n",
    "f = np.trapz(x=x, y=phi)\n",
    "print('The result is :', f)"
   ]
  }
 ],
 "metadata": {
  "kernelspec": {
   "display_name": "Python 3",
   "language": "python",
   "name": "python3"
  },
  "language_info": {
   "codemirror_mode": {
    "name": "ipython",
    "version": 3
   },
   "file_extension": ".py",
   "mimetype": "text/x-python",
   "name": "python",
   "nbconvert_exporter": "python",
   "pygments_lexer": "ipython3",
   "version": "3.8.8"
  }
 },
 "nbformat": 4,
 "nbformat_minor": 4
}
