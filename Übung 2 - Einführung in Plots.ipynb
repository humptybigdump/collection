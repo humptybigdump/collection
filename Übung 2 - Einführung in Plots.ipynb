{
 "cells": [
  {
   "cell_type": "markdown",
   "metadata": {},
   "source": [
    "# Einführung in Python - Zeichnen von Funktionsgraphen (Plots)"
   ]
  },
  {
   "cell_type": "markdown",
   "metadata": {},
   "source": [
    "### Vektoren (Arrays) in Python\n",
    "\n",
    "Bisher haben wir die Datenstruktur *Liste* benutzt, um mehrere Werte (egal ob Zahlen, Strings, ...) in einer Variable zu speichern:"
   ]
  },
  {
   "cell_type": "code",
   "execution_count": 1,
   "metadata": {},
   "outputs": [],
   "source": [
    "L = [123,3.14,'Hallo',17]"
   ]
  },
  {
   "cell_type": "code",
   "execution_count": 2,
   "metadata": {},
   "outputs": [
    {
     "name": "stdout",
     "output_type": "stream",
     "text": [
      "15129\n",
      "Hallo\n",
      "<class 'list'>\n",
      "[123, 3.14, 'Hallo', 17]\n"
     ]
    }
   ],
   "source": [
    "print(L[0]**2)\n",
    "print(L[2])\n",
    "print(type(L))\n",
    "print(L)"
   ]
  },
  {
   "cell_type": "markdown",
   "metadata": {},
   "source": [
    "Für Listen, die nur Zahlen enthalten, gibt es einen speziellen Datentyp in Python, nämlich *arrays* (Vektoren). Arrays sind Teil des Pakets `numpy`. Man kann ein Array selbst erstellen, indem man wie zuvor mehrere Werte durch Kommas getrennt in eckige Klammern `[...]` schreibt, und das ganze zusätzlich in den Befehl `np.array(...)` eingibt:"
   ]
  },
  {
   "cell_type": "code",
   "execution_count": 3,
   "metadata": {},
   "outputs": [],
   "source": [
    "import numpy as np\n",
    "\n",
    "vec = np.array( [0,1,1.414,9] )"
   ]
  },
  {
   "cell_type": "code",
   "execution_count": 4,
   "metadata": {},
   "outputs": [
    {
     "name": "stdout",
     "output_type": "stream",
     "text": [
      "0.0\n",
      "<class 'numpy.ndarray'>\n",
      "[0.    1.    1.414 9.   ]\n"
     ]
    }
   ],
   "source": [
    "print(vec[0]**2)\n",
    "print( type(vec) )\n",
    "print(vec)"
   ]
  },
  {
   "cell_type": "markdown",
   "metadata": {},
   "source": [
    "**Vorteil von Vektoren gegenüber Listen:** Man kann mit ihnen rechnen! Alle Operationen werden dabei komponentenweise durchgeführt!"
   ]
  },
  {
   "cell_type": "code",
   "execution_count": 5,
   "metadata": {
    "scrolled": true
   },
   "outputs": [
    {
     "name": "stdout",
     "output_type": "stream",
     "text": [
      "[ 1.     2.     2.414 10.   ]\n",
      "[ 0.        1.        1.999396 81.      ]\n",
      "[ 0.        2.        3.413396 90.      ]\n",
      "[  1.           2.           2.66474965 512.        ]\n",
      "[1.00000000e+00 2.71828183e+00 4.11237204e+00 8.10308393e+03]\n"
     ]
    }
   ],
   "source": [
    "print( vec + 1 )\n",
    "print( vec**2 )\n",
    "print( vec + vec**2 )\n",
    "print( 2**vec )\n",
    "print( np.exp(vec) )"
   ]
  },
  {
   "cell_type": "markdown",
   "metadata": {},
   "source": [
    "Insbesondere kann man Vektoren auch in mathematische Funktionen einsetzen und somit viele Funktionswerte auf einmal ausrechnen. Betrachte dazu die Funktion \\\\(f\\\\) mit\n",
    "\n",
    "\\\\[f(x) = x \\cdot e^{cos(3x)} + \\frac{sin(x)}{x^2 + 1} \\\\] \n",
    "\n",
    "von vorher:"
   ]
  },
  {
   "cell_type": "code",
   "execution_count": 6,
   "metadata": {},
   "outputs": [],
   "source": [
    "def f(x):\n",
    "    return x*np.exp( np.cos(3*x) ) + np.sin(x)/(x**2 + 1)"
   ]
  },
  {
   "cell_type": "code",
   "execution_count": 7,
   "metadata": {},
   "outputs": [
    {
     "name": "stdout",
     "output_type": "stream",
     "text": [
      "[0.         0.79231497 1.22800648 6.7250098 ]\n"
     ]
    }
   ],
   "source": [
    "print( f(vec) )"
   ]
  },
  {
   "cell_type": "markdown",
   "metadata": {},
   "source": [
    "### Arrays erstellen mit `np.arange(a,b,h)`\n",
    "\n",
    "Um einen Vektor mit äqudistanten Werten zu erstellen, gibt es den Befehl `np.arange(a,b,h)`. Dabei ist `a` der kleinste Werte im Vektor, `h` der Abstand zwischen zwei Werten. Außerdem sind nur Werte im Vektor enthalten, die *echt kleiner* als `b` sind: "
   ]
  },
  {
   "cell_type": "code",
   "execution_count": 8,
   "metadata": {},
   "outputs": [
    {
     "name": "stdout",
     "output_type": "stream",
     "text": [
      "[0.  0.3 0.6 0.9]\n"
     ]
    }
   ],
   "source": [
    "print( np.arange(0,1,0.3) )"
   ]
  },
  {
   "cell_type": "code",
   "execution_count": 9,
   "metadata": {},
   "outputs": [
    {
     "name": "stdout",
     "output_type": "stream",
     "text": [
      "[0.  0.1 0.2 0.3 0.4 0.5 0.6 0.7 0.8 0.9]\n"
     ]
    }
   ],
   "source": [
    "print( np.arange(0,1,0.1) )"
   ]
  },
  {
   "cell_type": "markdown",
   "metadata": {},
   "source": [
    "### Funktionsgraphen zeichnen mit Python - Grundidee\n",
    "\n",
    "Funktionsgraphen zeichnet man in Python, indem man ganz viele Punkte des Funktionsgraphen berechnet und diese verbindet. \n",
    "\n",
    "Hat man die Funktionsvorschrift einer Funktion gegeben, so geht man also folgendermaßen vor:\n",
    "- Man erstellt einen Vektor aus ganz vielen \\\\(x\\\\)-Werten\n",
    "- Man berechnet zu all diesen \\\\(x\\\\)-Werten die Funktionswerte und speichert sie in einem zweiten Vektor\n",
    "- Man zeichnet all diese Punkte in ein Bild ein und verbindet diese\n",
    "\n",
    "Für den lezten Schritt, also zum Einzeichnen aller Punkte, brauchen wir das Paket `matplotbib.pyplot`, dass wir immer über `import matplotbib.pyplot as plt` einbinden werden. Dieses Paket beinhaltet den Befehl `plt.plot(x,y)`, der alle Punkte mit den \n",
    "\\\\(x\\\\)-Werten aus `x` und den \\\\(y\\\\)-Werten aus `y` in ein Bild einzeichnet und verbindet. Um das Bild dann auch tatsächlich anzuzeigen, muss zusätzlich der Befehl `plt.show()` ausgeführt werden.\n",
    "\n",
    "Wir schauen uns das ganze anhand der Funktion \\\\(f\\\\) mit\n",
    "\n",
    "\\\\[ f(x)=\\frac{1}{5} e^{sin(3x)} + \\frac{1}{3} \\ \\text{ für } \\ x\\in[-1,1] \\\\]\n",
    "\n",
    "an:"
   ]
  },
  {
   "cell_type": "code",
   "execution_count": 10,
   "metadata": {},
   "outputs": [],
   "source": [
    "import numpy as np\n",
    "import matplotlib.pyplot as plt\n",
    "\n",
    "def f(x):\n",
    "    return 1/5*np.exp(np.sin(3*x))+1/3"
   ]
  },
  {
   "cell_type": "code",
   "execution_count": 11,
   "metadata": {},
   "outputs": [
    {
     "data": {
      "image/png": "[encoded data removed]",
      "text/plain": [
       "<Figure size 432x288 with 1 Axes>"
      ]
     },
     "metadata": {
      "needs_background": "light"
     },
     "output_type": "display_data"
    }
   ],
   "source": [
    "h = 0.001\n",
    "x = np.arange(-1,1+h,h)\n",
    "y = f(x)\n",
    "plt.plot(x,y)\n",
    "plt.show()"
   ]
  },
  {
   "cell_type": "code",
   "execution_count": 12,
   "metadata": {},
   "outputs": [
    {
     "data": {
      "image/png": "[encoded data removed]",
      "text/plain": [
       "<Figure size 432x288 with 1 Axes>"
      ]
     },
     "metadata": {
      "needs_background": "light"
     },
     "output_type": "display_data"
    }
   ],
   "source": [
    "h = 0.5\n",
    "x = np.arange(-1,1+h,h)\n",
    "y = f(x)\n",
    "plt.plot(x,y)\n",
    "plt.show()"
   ]
  },
  {
   "cell_type": "markdown",
   "metadata": {},
   "source": [
    "### Darstellungsoptionen für Funktionsgraphen\n",
    "\n",
    "Zusätzlich gibt es zahlreiche Möglichkeiten, die Darstellung eines Graphen zu beeinfluss/zu verschönern. Im Laufe des Semesters werden Sie immer weitere Möglichkeiten kennen lernen."
   ]
  },
  {
   "cell_type": "code",
   "execution_count": 13,
   "metadata": {},
   "outputs": [
    {
     "data": {
      "image/png": "[encoded data removed]",
      "text/plain": [
       "<Figure size 432x288 with 1 Axes>"
      ]
     },
     "metadata": {
      "needs_background": "light"
     },
     "output_type": "display_data"
    }
   ],
   "source": [
    "h = 0.001\n",
    "x = np.arange(-1,1+h,h)\n",
    "y = f(x)\n",
    "plt.plot(x,y,'g--') # g = green, -- = gestrichelt\n",
    "\n",
    "h = 0.25\n",
    "x = np.arange(-1,1+h,h)\n",
    "y = f(x)\n",
    "plt.plot(x,y, 'ro' ) # r = red, o = Kreise\n",
    "\n",
    "plt.plot(x,x)\n",
    "\n",
    "plt.show()"
   ]
  },
  {
   "cell_type": "code",
   "execution_count": null,
   "metadata": {},
   "outputs": [],
   "source": []
  }
 ],
 "metadata": {
  "kernelspec": {
   "display_name": "Python 3",
   "language": "python",
   "name": "python3"
  },
  "language_info": {
   "codemirror_mode": {
    "name": "ipython",
    "version": 3
   },
   "file_extension": ".py",
   "mimetype": "text/x-python",
   "name": "python",
   "nbconvert_exporter": "python",
   "pygments_lexer": "ipython3",
   "version": "3.8.3"
  }
 },
 "nbformat": 4,
 "nbformat_minor": 1
}
