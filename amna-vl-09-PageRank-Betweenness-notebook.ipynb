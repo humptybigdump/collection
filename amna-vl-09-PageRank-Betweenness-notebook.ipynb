{
 "cells": [
  {
   "cell_type": "code",
   "execution_count": 13,
   "metadata": {},
   "outputs": [],
   "source": [
    "import networkit as nk"
   ]
  },
  {
   "cell_type": "code",
   "execution_count": 14,
   "metadata": {},
   "outputs": [],
   "source": [
    "G = nk.graph.Graph(19, directed=True)"
   ]
  },
  {
   "cell_type": "code",
   "execution_count": 15,
   "metadata": {},
   "outputs": [],
   "source": [
    "# Lower Triangle - nodes 0,1,2\n",
    "G.addEdge(0,1)\n",
    "G.addEdge(1,2)\n",
    "G.addEdge(2,0)\n",
    "# To central node - node 3\n",
    "G.addEdge(0,3)\n",
    "# Star - nodes 4 - 18\n",
    "for i in range(4,19):\n",
    "    G.addEdge(3,i)"
   ]
  },
  {
   "cell_type": "code",
   "execution_count": 16,
   "metadata": {},
   "outputs": [
    {
     "data": {
      "text/plain": [
       "<networkit.centrality.EigenvectorCentrality at 0x7f54ca65d6d8>"
      ]
     },
     "execution_count": 16,
     "metadata": {},
     "output_type": "execute_result"
    }
   ],
   "source": [
    "ec = nk.centrality.EigenvectorCentrality(G)\n",
    "ec.run()"
   ]
  },
  {
   "cell_type": "code",
   "execution_count": 17,
   "metadata": {},
   "outputs": [
    {
     "data": {
      "text/plain": [
       "[(0, 0.22941573387056177),\n",
       " (1, 0.22941573387056177),\n",
       " (2, 0.22941573387056177),\n",
       " (3, 0.22941573387056177),\n",
       " (4, 0.22941573387056177),\n",
       " (5, 0.22941573387056177),\n",
       " (6, 0.22941573387056177),\n",
       " (7, 0.22941573387056177),\n",
       " (8, 0.22941573387056177),\n",
       " (9, 0.22941573387056177),\n",
       " (10, 0.22941573387056177),\n",
       " (11, 0.22941573387056177),\n",
       " (12, 0.22941573387056177),\n",
       " (13, 0.22941573387056177),\n",
       " (14, 0.22941573387056177),\n",
       " (15, 0.22941573387056177),\n",
       " (16, 0.22941573387056177),\n",
       " (17, 0.22941573387056177),\n",
       " (18, 0.22941573387056177)]"
      ]
     },
     "execution_count": 17,
     "metadata": {},
     "output_type": "execute_result"
    }
   ],
   "source": [
    "ec.ranking()"
   ]
  },
  {
   "cell_type": "code",
   "execution_count": 19,
   "metadata": {},
   "outputs": [
    {
     "data": {
      "text/plain": [
       "[0.1269203026563866,\n",
       " 0.08812881990138315,\n",
       " 0.1090971898634915,\n",
       " 0.08812881990138315,\n",
       " 0.03918165784515703,\n",
       " 0.03918165784515703,\n",
       " 0.03918165784515703,\n",
       " 0.03918165784515703,\n",
       " 0.03918165784515703,\n",
       " 0.03918165784515703,\n",
       " 0.03918165784515703,\n",
       " 0.03918165784515703,\n",
       " 0.03918165784515703,\n",
       " 0.03918165784515703,\n",
       " 0.03918165784515703,\n",
       " 0.03918165784515703,\n",
       " 0.03918165784515703,\n",
       " 0.03918165784515703,\n",
       " 0.03918165784515703]"
      ]
     },
     "execution_count": 19,
     "metadata": {},
     "output_type": "execute_result"
    }
   ],
   "source": [
    "pr = nk.centrality.PageRank(G)\n",
    "pr.run()\n",
    "pr.scores()"
   ]
  },
  {
   "cell_type": "code",
   "execution_count": null,
   "metadata": {},
   "outputs": [],
   "source": []
  }
 ],
 "metadata": {
  "kernelspec": {
   "display_name": "Python 3",
   "language": "python",
   "name": "python3"
  },
  "language_info": {
   "codemirror_mode": {
    "name": "ipython",
    "version": 3
   },
   "file_extension": ".py",
   "mimetype": "text/x-python",
   "name": "python",
   "nbconvert_exporter": "python",
   "pygments_lexer": "ipython3",
   "version": "3.9.5"
  }
 },
 "nbformat": 4,
 "nbformat_minor": 4
}
