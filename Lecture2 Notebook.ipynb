{
 "cells": [
  {
   "cell_type": "markdown",
   "metadata": {},
   "source": [
    "# Lecture 4 \n",
    "\n",
    "## Types\n",
    "\n",
    "### Primitive types\n",
    "- str\n",
    "  - Technically no difference between double/single quotes: „string“ == ‚string‘\n",
    "  - Best Practice: use double if read by humans (e.g. comments), single otherwise\n",
    "- int\n",
    "- float\n",
    "- bool: True / False\n",
    "- None\n",
    "\n",
    "### Casting to other types\n",
    "- int(f)\n",
    "- float(s)\n",
    "- str(d)\n"
   ]
  },
  {
   "cell_type": "code",
   "execution_count": null,
   "metadata": {},
   "outputs": [],
   "source": [
    "hi = 2\n",
    "type(hi)\n",
    "hi=str(hi)\n",
    "type(hi)"
   ]
  },
  {
   "cell_type": "code",
   "execution_count": null,
   "metadata": {},
   "outputs": [],
   "source": [
    "foo = '20'\n",
    "ba = 20"
   ]
  },
  {
   "cell_type": "code",
   "execution_count": null,
   "metadata": {},
   "outputs": [],
   "source": [
    "foo + str(ba)"
   ]
  },
  {
   "cell_type": "code",
   "execution_count": null,
   "metadata": {},
   "outputs": [],
   "source": [
    "foo = True\n",
    "ba = False"
   ]
  },
  {
   "cell_type": "code",
   "execution_count": null,
   "metadata": {},
   "outputs": [],
   "source": [
    "foo + ba + 13"
   ]
  },
  {
   "cell_type": "markdown",
   "metadata": {},
   "source": [
    "### None Type\n",
    "- Can be set instead of a primitive (value) type\n",
    "\n",
    "- Can be set instead of a reference type\n",
    "\n",
    "- Is the default return parameter of functions\n",
    "\n",
    "- Check for None using is operator\n"
   ]
  },
  {
   "cell_type": "code",
   "execution_count": null,
   "metadata": {},
   "outputs": [],
   "source": [
    "variable = 2\n",
    "\n",
    "if variable == 2: \n",
    "    print(\"is two\")"
   ]
  },
  {
   "cell_type": "markdown",
   "metadata": {},
   "source": [
    "## Basic Operations\n",
    "\n",
    "### Boolean Operators\n",
    "- and \n",
    "- or\n",
    "- not\n",
    "\n",
    "### Non-obvious Operators\n",
    "- x%y  # modulo: rest of x / y division\n",
    "- x//y   # find out yourself\n",
    "- x**y  # x to the power of y\n",
    "\n",
    "## Math Operations\n",
    "- math.floor(x)\n",
    "- math.ceil(x)\n",
    "\n"
   ]
  },
  {
   "cell_type": "code",
   "execution_count": null,
   "metadata": {},
   "outputs": [],
   "source": [
    "2**3"
   ]
  },
  {
   "cell_type": "code",
   "execution_count": null,
   "metadata": {},
   "outputs": [],
   "source": [
    "foo = True\n",
    "ba = False\n",
    "\n",
    "#print(foo + ba)\n",
    "#print(foo or ba)\n",
    "\n",
    "#print(foo * ba)\n",
    "print(foo and ba)"
   ]
  },
  {
   "cell_type": "code",
   "execution_count": null,
   "metadata": {},
   "outputs": [],
   "source": [
    "# find out yourself\n",
    "(100//3)"
   ]
  },
  {
   "cell_type": "code",
   "execution_count": null,
   "metadata": {},
   "outputs": [],
   "source": [
    "for x in range(1,101):\n",
    "    # Train 100 models\n",
    "    \n",
    "    \n",
    "    # Notice me on Progess every 5th model\n",
    "    if (x%5) == 0:\n",
    "        print('Just trained Model ' + str(x) + ' everything is fine!')"
   ]
  },
  {
   "cell_type": "markdown",
   "metadata": {},
   "source": [
    "## Variables\n",
    "\n",
    "![alt text](https://imgs.xkcd.com/comics/python.png \"xkcd.com\")\n",
    "\n",
    "\n",
    "\n",
    "- Variables can be assigned any primitive type/reference at runtime\n",
    " - Variables are not statically typed (e.g, Java)\n",
    "\n",
    "```java\n",
    "/* Declaration */\n",
    "String beer;\n",
    "int number;\n",
    "\n",
    "/* Initialization */\n",
    "String beer = \"Hofstettner\";\n",
    "int number = 3;\n",
    "\n",
    "/* instantiation */\n",
    "String beer = new String(\"Freistädter\");\n",
    "\n",
    "``` \n",
    "\n",
    " \n",
    " - Are typed according to the type of the last assigned value (dynamic typing)\n",
    "\n",
    "- Can represent different types depending on evaluation during runtime\n",
    " - This behavior is known as „duck typing“\n",
    " - „If it has all properties of a duck, it must be a duck“\n"
   ]
  },
  {
   "cell_type": "code",
   "execution_count": null,
   "metadata": {},
   "outputs": [],
   "source": [
    "foo = 'iAmAstr'\n",
    "print(type(foo))\n",
    "\n",
    "foo = None\n",
    "print(type(foo))\n"
   ]
  },
  {
   "cell_type": "code",
   "execution_count": null,
   "metadata": {},
   "outputs": [],
   "source": [
    "my_string: str = \"My String Value\"\n",
    "print(type(my_string))    \n",
    "\n",
    "# Can still change this at runtime\n",
    "my_string = 3\n",
    "print(type(my_string))\n"
   ]
  },
  {
   "cell_type": "markdown",
   "metadata": {},
   "source": [
    "## String Formatting & Interpolation\n",
    "- Unformatted interpolation\n",
    "- Formatting is similar to bash\n",
    "- Checkout: https://pyformat.info/\n",
    "- [Checkout](https://pyformat.info/)\n"
   ]
  },
  {
   "cell_type": "code",
   "execution_count": null,
   "metadata": {},
   "outputs": [],
   "source": [
    "'{:06.1f}'.format(3.141592653589793)"
   ]
  },
  {
   "cell_type": "markdown",
   "metadata": {},
   "source": [
    "## Lists\n",
    "\n",
    "- List initialization\n"
   ]
  },
  {
   "cell_type": "code",
   "execution_count": null,
   "metadata": {},
   "outputs": [],
   "source": [
    "empty_list1 = list()\n",
    "empty_list2 = [ ]\n",
    "filled_list = ['a','b','c',1]"
   ]
  },
  {
   "cell_type": "markdown",
   "metadata": {},
   "source": [
    "### Indexing and slicing a List\n",
    "\n",
    "\n",
    "`L[start:end:step]`\n"
   ]
  },
  {
   "cell_type": "code",
   "execution_count": null,
   "metadata": {},
   "outputs": [],
   "source": [
    "# First Element\n",
    "e1 = filled_list[0]\n",
    "print(e1)\n",
    "# Start at 5th element:\n",
    "L = filled_list[4:]\n",
    "print(L)\n",
    "# Stop at 5th element:\n",
    "L = filled_list[2:4]\n",
    "# Deep copy a list:\n",
    "L = filled_list[:]\n",
    "# Last line is output by default (without print())\n",
    "L\n",
    "print(L)"
   ]
  },
  {
   "cell_type": "markdown",
   "metadata": {},
   "source": [
    "- Mutation methods of List"
   ]
  },
  {
   "cell_type": "code",
   "execution_count": null,
   "metadata": {},
   "outputs": [],
   "source": [
    "filled_list = []\n",
    "filled_list.append('e')\n",
    "print(filled_list)"
   ]
  },
  {
   "cell_type": "code",
   "execution_count": null,
   "metadata": {},
   "outputs": [],
   "source": [
    "# You can put lits into lists\n",
    "filled_list.append(['oh', 'yes'])\n",
    "print(filled_list)"
   ]
  },
  {
   "cell_type": "code",
   "execution_count": null,
   "metadata": {},
   "outputs": [],
   "source": [
    "# Can you put a list in a list?\n",
    "print(filled_list[1][1])"
   ]
  },
  {
   "cell_type": "markdown",
   "metadata": {},
   "source": [
    "![alt text](http://www.quickmeme.com/img/04/0411863fc0df872f20f61b9d1ea56fefeea4a11a950f3a0979e8484bdd7efa0c.jpg \"xkcd.com\")"
   ]
  },
  {
   "cell_type": "code",
   "execution_count": null,
   "metadata": {},
   "outputs": [],
   "source": [
    "last_element = filled_list.pop()\n",
    "print(last_element)"
   ]
  },
  {
   "cell_type": "code",
   "execution_count": null,
   "metadata": {},
   "outputs": [],
   "source": [
    "filled_list"
   ]
  },
  {
   "cell_type": "code",
   "execution_count": null,
   "metadata": {},
   "outputs": [],
   "source": [
    "filled_list.extend([2,3,3,1,0])\n",
    "print(filled_list)"
   ]
  },
  {
   "cell_type": "code",
   "execution_count": null,
   "metadata": {},
   "outputs": [],
   "source": [
    "filled_list.reverse()\n",
    "print(filled_list)"
   ]
  },
  {
   "cell_type": "code",
   "execution_count": null,
   "metadata": {},
   "outputs": [],
   "source": [
    "len(filled_list)"
   ]
  },
  {
   "cell_type": "code",
   "execution_count": null,
   "metadata": {},
   "outputs": [],
   "source": [
    "# Removes last element 'e'\n",
    "filled_list_numbers = filled_list[0:len(filled_list)-1]\n",
    "filled_list_numbers.sort()\n",
    "print(filled_list_numbers)"
   ]
  },
  {
   "cell_type": "markdown",
   "metadata": {},
   "source": [
    "## Operators on List"
   ]
  },
  {
   "cell_type": "code",
   "execution_count": null,
   "metadata": {},
   "outputs": [],
   "source": [
    "len(filled_list)"
   ]
  },
  {
   "cell_type": "code",
   "execution_count": null,
   "metadata": {},
   "outputs": [],
   "source": [
    "4 in filled_list"
   ]
  },
  {
   "cell_type": "markdown",
   "metadata": {},
   "source": [
    "## Tuples\n",
    "- Similar to lists, but immutable\n",
    "\n",
    "- Examples\n",
    "`my_tuple = (1, 2, 3)`\n",
    "`e0 = my_tuple[0]`\n",
    "\n",
    "- Advantages:\n",
    " - Faster than lists\n",
    " - Protects contained data\n",
    " - Can be used as dictionary key\n"
   ]
  },
  {
   "cell_type": "markdown",
   "metadata": {},
   "source": [
    "## Dictionaries\n",
    "\n",
    "- Are similar to (hash)maps in Java and other languages\n",
    "- Probably most important data structure next to List\n",
    "- Asssociates a __k__ey with a **v**alue\n",
    " - Keys can be strings or numbers, \n",
    " - Values can be arbitrary types or data structure (per entry)\n",
    "- Initialization examples"
   ]
  },
  {
   "cell_type": "code",
   "execution_count": null,
   "metadata": {},
   "outputs": [],
   "source": [
    "empty_dict = dict()\n",
    "empty_dict = {}\n",
    "\n",
    "d2 ={}\n",
    "\n",
    "d = {\n",
    "    'key1' : 42.5,\n",
    "    42 : d2,\n",
    "    'key3' : \"value3\"\n",
    "}\n",
    "# Note: different key and value types in the same dictionary"
   ]
  },
  {
   "cell_type": "markdown",
   "metadata": {},
   "source": [
    "- Methods of dict\n",
    "  - clear()\n",
    "  - copy()\n",
    "  - items()\n",
    "  - values()\n",
    "  - keys()\n",
    "  - d.update(d2) \n",
    "  - inserts d2 into d\n",
    "  - overwrites values of existing keys\n"
   ]
  },
  {
   "cell_type": "code",
   "execution_count": null,
   "metadata": {},
   "outputs": [],
   "source": [
    "#print(d.values())\n",
    "#print(d[\"key1\"])\n",
    "#print(d.get(\"key1\"))\n",
    "import pandas as pd"
   ]
  },
  {
   "cell_type": "code",
   "execution_count": null,
   "metadata": {},
   "outputs": [],
   "source": [
    "\n",
    "\n",
    "uglyRawData = [['Studenten','Krankenschwestern','Piloten','Student','Piloten']]\n",
    "\n",
    "\n",
    "mapping = {\n",
    "    'Studenten' : \"Studierende\",\n",
    "    'Krankenschwestern' : \"Krankenpflegende\",\n",
    "    'Piloten' : \"flugzeugführende Belegschaft\",\n",
    "}\n",
    "\n",
    "\n",
    "\n",
    "df = pd.DataFrame(uglyRawData).transpose()\n",
    "print(\"Old dataframe\")\n",
    "print(df)\n",
    "newDf = df.replace(mapping)\n",
    "print(\"New dataframe\")\n",
    "print(newDf)"
   ]
  },
  {
   "cell_type": "markdown",
   "metadata": {},
   "source": [
    "## Excursus: Handling errors/exceptions\n",
    "\n",
    "- Error during execution is called Exception\n",
    "- All Exception inherit from BaseException or Exception class\n",
    "- Common Errors/Exceptions\n",
    "  - NullValueException\n",
    "  - ValueError\n",
    "- Handling with try / except / finally\n"
   ]
  },
  {
   "cell_type": "code",
   "execution_count": null,
   "metadata": {},
   "outputs": [],
   "source": [
    "try:\n",
    "    # do something…\n",
    "    x = 6/1000000\n",
    "except:\n",
    "# You can introduce differend exceptions based an the error type \n",
    "    # handle error…\n",
    "    print('Warning: Division by 0')\n",
    "    x = 'Did not compute'\n",
    "finally:\n",
    "    # do something / cleanup\n",
    "    x = 'Very Big'\n",
    "    print('dies wird immer ausgeführt')\n",
    "    \n",
    "print(x)"
   ]
  },
  {
   "cell_type": "markdown",
   "metadata": {},
   "source": [
    "## Conditional Control\n",
    "\n",
    "- Note: The following values are interpreted as false:\n",
    "  - False, None, numeric zero of all types, and empty strings and containers (including strings, tuples, lists, dictionaries, sets and frozensets)\n",
    "\n"
   ]
  },
  {
   "cell_type": "code",
   "execution_count": null,
   "metadata": {},
   "outputs": [],
   "source": [
    "econdition = False\n",
    "condition = False\n",
    "\n",
    "if econdition:\n",
    "    # do something\n",
    "    print('econdition is ' + str(econdition))\n",
    "          \n",
    "elif condition:\n",
    "    # do other stuff\n",
    "    print('econdition is ' + str(econdition))\n",
    "    print('condition is ' + str(condition))\n",
    "\n",
    "else: \n",
    "   # if nothing fits\n",
    "    print('Both are False')"
   ]
  },
  {
   "cell_type": "code",
   "execution_count": null,
   "metadata": {},
   "outputs": [],
   "source": [
    "# Ternary\n",
    "econdition = False\n",
    "result = 1 if econdition else 2\n",
    "print(result)"
   ]
  },
  {
   "cell_type": "code",
   "execution_count": null,
   "metadata": {},
   "outputs": [],
   "source": [
    "print (2)"
   ]
  },
  {
   "cell_type": "markdown",
   "metadata": {},
   "source": [
    "## Code Formatting is Syntax\n",
    "\n",
    "- Code indentation\n",
    "  - Is part of Python‘s syntax: Wrong code formatting throws a syntax error\n",
    "  - Can lead to annoying errors\n",
    "  - Best Practice: use (4) spaces instead of a tab\n",
    "\n",
    "- Line breaks are ignored inside of [ ], { } and ( ) blocks.\n",
    "\n",
    "- Best Practice: use a linter\n",
    "  - Suggests formatting and (to some degree) naming\n",
    "  - Conventions (PEP9):https://www.python.org/dev/peps/pep-0008/\n",
    "  - Notebook Linter: https://github.com/kenkoooo/jupyter-autopep8\n",
    "\n",
    "\n",
    "\n",
    "![alt text](https://raw.githubusercontent.com/mlshapiro/jupyterlab-flake8/master/img/example.png \"xkcd.com\")"
   ]
  },
  {
   "cell_type": "markdown",
   "metadata": {},
   "source": [
    "## Functions\n",
    "\n",
    "- Can be defined outside of a class\n",
    "\n",
    "- Functions defined as part of a class are called methods\n",
    "\n",
    "- Are often used to logically gather code in Notebooks\n",
    "\n",
    "- Otherwise, they should be quite short (a few lines) and focused/specialized on a single task\n"
   ]
  },
  {
   "cell_type": "code",
   "execution_count": null,
   "metadata": {},
   "outputs": [],
   "source": [
    "# Store functions in modules\n",
    "# only do_one_thing_well_too\n",
    "from myNewModule.function import do_one_thing_well_too\n",
    "# all fuctions\n",
    "from myNewModule.function import *\n",
    "do_one_thing_well_too(12)"
   ]
  },
  {
   "cell_type": "code",
   "execution_count": null,
   "metadata": {},
   "outputs": [],
   "source": [
    "def function_name(arg1):\n",
    "      print(str(arg1) + \" plus 1 is: \")\n",
    "      return (arg1) + 1    # return is optional\n",
    "\n"
   ]
  },
  {
   "cell_type": "code",
   "execution_count": null,
   "metadata": {},
   "outputs": [],
   "source": [
    "function_name(2)"
   ]
  },
  {
   "cell_type": "markdown",
   "metadata": {},
   "source": [
    "- Functions cannot be overloaded\n",
    "\n",
    "- Review Overloading\n",
    "  - define multiple functions with the same name but different paramter sets (signature)\n",
    "  - same (overloaded) function can called with different sets of arguments\n"
   ]
  },
  {
   "cell_type": "code",
   "execution_count": null,
   "metadata": {},
   "outputs": [],
   "source": [
    "def do_one_thing_well(arg1, arg2 = 42):\n",
    "    print(arg1)\n",
    "    return arg2 + 1    # it is safe to use arg2 for int addition\n"
   ]
  },
  {
   "cell_type": "code",
   "execution_count": null,
   "metadata": {},
   "outputs": [],
   "source": [
    "#print(do_one_thing_well('argument1'))\n",
    "print(do_one_thing_well(1,2))"
   ]
  },
  {
   "cell_type": "markdown",
   "metadata": {},
   "source": [
    "## Best Practice: Naming Conventions\n",
    "- variable_names/field_names\n",
    "  - Underscore instead of camelCase for distinction between name parts\n",
    "  - Lower capitals for all parts of the name\n",
    "\n",
    "- ClassNames\n",
    "  - CamelCase\n",
    "  - Capital first letter\n",
    "\n",
    "- method_names\n",
    "  - lower case letters\n",
    "  - separated by underscores\n",
    "\n",
    "- In frameworks you might encounter fields/methods/functions names with leading/trailing underscores: \n",
    "  - Examples:\n",
    "```python\n",
    "_private_variable\n",
    "__special_feature\n",
    "__special_function__\n",
    "```\n",
    "\n",
    "- In Python, the concept of private fields/methods is not enforced\n",
    "- Leading underscore(s) in names\n",
    "  - Indicate a private or special variable/function\n",
    "  - Indicate: do not use/change them (unless you know are sure…)\n",
    "\n"
   ]
  },
  {
   "cell_type": "code",
   "execution_count": null,
   "metadata": {},
   "outputs": [],
   "source": [
    "this_is_a_nice_variable = 1\n",
    "\n",
    "def this_is_a_function(a_variable):\n",
    "    \"\"\"docstring that describes this function\"\"\"\n",
    "\n",
    "    print(a_variable)\n",
    "    return (a_variable)\n"
   ]
  },
  {
   "cell_type": "code",
   "execution_count": null,
   "metadata": {},
   "outputs": [],
   "source": [
    "help(this_is_a_function)"
   ]
  },
  {
   "cell_type": "code",
   "execution_count": null,
   "metadata": {},
   "outputs": [],
   "source": []
  },
  {
   "cell_type": "markdown",
   "metadata": {},
   "source": [
    "# Loops\n",
    "\n",
    "- In python it‘s ok to use loops! (in contrast to R)\n",
    "- You can iterate over everything that represents a sequence\n",
    "- Typical „iterables“: number ranges or elements of a data structure\n",
    "  - Sequential data structures are iterable\n",
    "  - Common iterables: List, Tuple, Dictionary\n",
    "  \n",
    "```python\n",
    "for i in range([start ,] stop [, step]):\n",
    "    print(i)\n",
    "```\n"
   ]
  },
  {
   "cell_type": "code",
   "execution_count": null,
   "metadata": {},
   "outputs": [],
   "source": [
    "for i in range(0, 11, 5):\n",
    "    print(i)\n"
   ]
  },
  {
   "cell_type": "code",
   "execution_count": null,
   "metadata": {},
   "outputs": [],
   "source": [
    "fruits = [\"apple\", \"orange\", \"banana\", \"cherry\"]\n",
    "\n",
    "for afruit in fruits:     # by item\n",
    "    print(afruit)"
   ]
  },
  {
   "cell_type": "code",
   "execution_count": null,
   "metadata": {},
   "outputs": [],
   "source": [
    "#Endless loop\n",
    "\n",
    "i = 0\n",
    "while True:\n",
    "    print(i)\n",
    "    if i == 8:\n",
    "        break\n",
    "    else:\n",
    "        i += 1"
   ]
  },
  {
   "cell_type": "markdown",
   "metadata": {},
   "source": [
    "## Unpacking\n",
    "\n",
    "- assigns multiple values \n",
    "- from a data structure \n",
    "- to multiple variables in a single line\n"
   ]
  },
  {
   "cell_type": "code",
   "execution_count": null,
   "metadata": {},
   "outputs": [],
   "source": [
    "a, b = 1, 2\n",
    "nums = [5, 2, 3, 4]\n",
    "a, b, c , d = nums\n",
    "\n",
    "print(a)"
   ]
  },
  {
   "cell_type": "code",
   "execution_count": null,
   "metadata": {},
   "outputs": [],
   "source": [
    "def some_fun(a,b,c,d):\n",
    "    print(\"a:{} b:{} c:{} d:{}\".format(a, b, c,d))\n",
    "\n",
    "some_fun(*nums)\n",
    "#print(*nums)"
   ]
  },
  {
   "cell_type": "markdown",
   "metadata": {},
   "source": [
    "## Task (5 Minutes): Iterating and Unpacking\n",
    "\n",
    "- Define a list of tuples that contain two strings\n",
    "\n",
    "- Iterate the list of tuples and unpack the two values of each tuple into two variables\n",
    "\n",
    "- Print the two variables in a formatted string\n"
   ]
  },
  {
   "cell_type": "code",
   "execution_count": null,
   "metadata": {},
   "outputs": [],
   "source": []
  },
  {
   "cell_type": "code",
   "execution_count": null,
   "metadata": {},
   "outputs": [],
   "source": [
    "my_tuple1 = (\"Hello\",  \"World\")\n",
    "my_tuple2 = (\"Hallo\",  \"Welt\")\n",
    "my_list = [my_tuple1, my_tuple2]\n",
    "\n",
    "for this_very_tuple in my_list:\n",
    "    \n",
    "    a, b = this_very_tuple\n",
    "    print(a)\n",
    "    print(b)\n",
    "    \n",
    "    print(\"This is: {} \".format(a) + \"This is: {}\".format(b))\n"
   ]
  },
  {
   "cell_type": "markdown",
   "metadata": {},
   "source": [
    "## Classes\n",
    "\n",
    "- Definition\n",
    "```python\n",
    "class(object)\n",
    "```\n",
    "\n",
    "- Initialization\n",
    "```python\n",
    "def __init__(self):\n",
    "```\n",
    "\n",
    "- Methods\n",
    "```python\n",
    "def (self[, param1…]):\n",
    "```\n",
    "\n",
    "- Fields \n",
    "  - declared in the class body \n",
    "  - or in the „constructor“ `function __init__`\n",
    "  - Without „self“, fields are available in every instance of that class!\n",
    "- A Note on „self“\n",
    "  - Functions have self as a fixed first parameter\n",
    "  - self is a reference to the object instance\n",
    "  - Used to bind methods/fields to the object (also at runtime)\n",
    "\n",
    "\n"
   ]
  },
  {
   "cell_type": "code",
   "execution_count": 1,
   "metadata": {},
   "outputs": [],
   "source": [
    "class Car(object):\n",
    "    wheels = [1,2,3,4]\n",
    "        \n",
    "    def __init__(self):\n",
    "        print(\"constructor\")\n",
    "\n",
    "    def drive(self):\n",
    "        print(\"moving…\")\n"
   ]
  },
  {
   "cell_type": "code",
   "execution_count": 4,
   "metadata": {},
   "outputs": [
    {
     "name": "stdout",
     "output_type": "stream",
     "text": [
      "constructor\n",
      "moving…\n"
     ]
    },
    {
     "data": {
      "text/plain": [
       "2"
      ]
     },
     "execution_count": 4,
     "metadata": {},
     "output_type": "execute_result"
    }
   ],
   "source": [
    "my_new_car = Car()\n",
    "\n",
    "my_new_car.drive()\n",
    "\n",
    "my_new_car.wheels[1]"
   ]
  },
  {
   "cell_type": "code",
   "execution_count": 5,
   "metadata": {},
   "outputs": [
    {
     "name": "stdout",
     "output_type": "stream",
     "text": [
      "constructor\n",
      "[1, 2, 3, 4]\n",
      "[5, 6, 7, 8]\n",
      "[1, 2, 3, 4]\n"
     ]
    }
   ],
   "source": [
    "my_new_car_2 = Car()\n",
    "print(my_new_car_2.wheels)\n",
    "\n",
    "my_new_car_2.wheels = [5,6,7,8]\n",
    "\n",
    "print(my_new_car_2.wheels)\n",
    "print(my_new_car.wheels)"
   ]
  },
  {
   "cell_type": "markdown",
   "metadata": {},
   "source": [
    "### Inheritance\n",
    "\n",
    "- Inherit from a single class\n",
    "```python\n",
    "class my_class(superclass):\n",
    "```\n",
    "\n",
    "- Multiple inheritance\n",
    "```python\n",
    "class my_multiclass(superclass1, superclass2)\n",
    "```\n",
    "\n"
   ]
  },
  {
   "cell_type": "code",
   "execution_count": 6,
   "metadata": {},
   "outputs": [],
   "source": [
    "class MercedesSClass(Car):\n",
    "    battery = True\n",
    "        \n",
    "    def __init__(self):\n",
    "        print(\"constructor\")\n",
    "\n",
    "    def charge(self):\n",
    "        print(\"charging…\")\n"
   ]
  },
  {
   "cell_type": "code",
   "execution_count": 7,
   "metadata": {},
   "outputs": [
    {
     "name": "stdout",
     "output_type": "stream",
     "text": [
      "constructor\n",
      "moving…\n",
      "charging…\n"
     ]
    },
    {
     "data": {
      "text/plain": [
       "2"
      ]
     },
     "execution_count": 7,
     "metadata": {},
     "output_type": "execute_result"
    }
   ],
   "source": [
    "my_new_bev = MercedesSClass()\n",
    "\n",
    "my_new_bev.drive()\n",
    "\n",
    "my_new_bev.charge()\n",
    "\n",
    "my_new_car.wheels[1]"
   ]
  },
  {
   "cell_type": "markdown",
   "metadata": {},
   "source": [
    "### Warning: Class manipulation at Runtime\n",
    "\n",
    "- Problem: Inadvertent changes of a class method/field during runtime!\n",
    "- Reason: class methods can be reassigned at runtime without notice\n"
   ]
  },
  {
   "cell_type": "code",
   "execution_count": 8,
   "metadata": {},
   "outputs": [
    {
     "name": "stdout",
     "output_type": "stream",
     "text": [
      "Empty DataFrame\n",
      "Columns: []\n",
      "Index: []\n",
      "läuft\n"
     ]
    }
   ],
   "source": [
    "import pandas as pd\n",
    "\n",
    "def omg(s=\"läuft\"):\n",
    "    return lambda: print(s)\n",
    "\n",
    "f = pd.DataFrame()\n",
    "print(f)\n",
    "\n",
    "pd.DataFrame = omg\n",
    "\n",
    "\n",
    "\n",
    "import pandas as pd\n",
    "\n",
    "f = pd.DataFrame()\n",
    "f()"
   ]
  },
  {
   "cell_type": "markdown",
   "metadata": {},
   "source": [
    "# 3 Useful Features\n",
    "\n",
    "## File handling\n",
    "\n",
    "- Files are handled with two basic functions\n",
    "```python\n",
    "file_variable = open(\"filename\")\n",
    "file_variable.close()\n",
    "```\n",
    "- Best Practice: with statement\n",
    "  - Ensures that file is closed\n",
    "  - Avoids trouble when same file is accessed multiple times\n"
   ]
  },
  {
   "cell_type": "code",
   "execution_count": null,
   "metadata": {},
   "outputs": [],
   "source": [
    "with open(file='../data/erzeugung.csv', mode='r') as file_var: # '../' navigates to parent directory\n",
    "    for line in file_var:\n",
    "        print(line.strip()[:20])    # strips whitespace and prints first 20 characters  \n",
    "        if line.strip()[:3] == '02.':\n",
    "            break\n",
    "    file_var.close()"
   ]
  },
  {
   "cell_type": "markdown",
   "metadata": {},
   "source": [
    "### List Comprehensions\n",
    "\n",
    "- Enable compact, powerful expressions \n",
    "- useful for generating and transforming lists\n",
    "- or more complex, nested data structures\n",
    "\n",
    "Iterate\n",
    "\n",
    "```python\n",
    "L = [1,2,3] \n",
    "L2 = [x for x in L]\n",
    "\n",
    "```\n",
    "\n",
    "Iterate and Transform / Filter\n",
    "\n",
    "```python\n",
    "L2 = [str(x) for x in L] \n",
    "[print(x) for x in L if x % 2 == 0]\n",
    "\n",
    "```\n"
   ]
  },
  {
   "cell_type": "code",
   "execution_count": 10,
   "metadata": {},
   "outputs": [
    {
     "name": "stdout",
     "output_type": "stream",
     "text": [
      "[1, 2, 3]\n"
     ]
    }
   ],
   "source": [
    "L = [1,2,3] \n",
    "L2 = [x for x in L]\n",
    "print(L2)"
   ]
  },
  {
   "cell_type": "code",
   "execution_count": 12,
   "metadata": {},
   "outputs": [
    {
     "name": "stdout",
     "output_type": "stream",
     "text": [
      "False\n"
     ]
    }
   ],
   "source": [
    "L2 = [str(x) for x in L] \n",
    "print(L2==L)"
   ]
  },
  {
   "cell_type": "code",
   "execution_count": 14,
   "metadata": {},
   "outputs": [
    {
     "name": "stdout",
     "output_type": "stream",
     "text": [
      "2\n"
     ]
    },
    {
     "data": {
      "text/plain": [
       "[None]"
      ]
     },
     "execution_count": 14,
     "metadata": {},
     "output_type": "execute_result"
    }
   ],
   "source": [
    "[print(x) for x in L if x % 2 == 0]"
   ]
  },
  {
   "cell_type": "markdown",
   "metadata": {},
   "source": [
    "## Useful builtin functions\n",
    "\n",
    "zip\n",
    "- The zip() function take iterables (can be zero or more), makes iterator that aggregates elements based on the iterables passed, and returns an iterator of tuples.\n",
    "\n",
    "enumerate\n",
    "- enumerate(thing), where thing is either an iterator or a sequence, returns a iterator that will return (0, thing[0]), (1, thing[1]), (2, thing[2]), and so forth."
   ]
  },
  {
   "cell_type": "code",
   "execution_count": null,
   "metadata": {},
   "outputs": [],
   "source": []
  },
  {
   "cell_type": "code",
   "execution_count": 15,
   "metadata": {},
   "outputs": [
    {
     "data": {
      "text/plain": [
       "260"
      ]
     },
     "execution_count": 15,
     "metadata": {},
     "output_type": "execute_result"
    }
   ],
   "source": [
    "xvec = [10, 20, 30]\n",
    "yvec = [7, 5, 3]\n",
    "sum(x*y for x, y in zip(xvec, yvec))    # dot product\n"
   ]
  },
  {
   "cell_type": "code",
   "execution_count": 16,
   "metadata": {},
   "outputs": [
    {
     "name": "stdout",
     "output_type": "stream",
     "text": [
      "260\n"
     ]
    }
   ],
   "source": [
    "sum = 0\n",
    "for i in range(len(xvec)):\n",
    "    sum = sum + xvec[i] * yvec[i]\n",
    "print(sum)"
   ]
  },
  {
   "cell_type": "code",
   "execution_count": 17,
   "metadata": {},
   "outputs": [
    {
     "name": "stdout",
     "output_type": "stream",
     "text": [
      "0 30\n",
      "1 40\n",
      "2 50\n"
     ]
    }
   ],
   "source": [
    "L = [30, 40, 50]\n",
    "for i, e in enumerate(L):    # list index and value\n",
    "    print(i, e)\n"
   ]
  },
  {
   "cell_type": "markdown",
   "metadata": {},
   "source": [
    "## Standard Library Collections\n",
    "\n",
    "defaultdict\n",
    "- Initializes a dictionary; returns initialized default value if a key is missing\n",
    "- Avoids errors on looking up a missing key"
   ]
  },
  {
   "cell_type": "code",
   "execution_count": 18,
   "metadata": {},
   "outputs": [
    {
     "ename": "KeyError",
     "evalue": "'key11'",
     "output_type": "error",
     "traceback": [
      "\u001b[1;31m---------------------------------------------------------------------------\u001b[0m",
      "\u001b[1;31mKeyError\u001b[0m                                  Traceback (most recent call last)",
      "\u001b[1;32m<ipython-input-18-7a42df678d5e>\u001b[0m in \u001b[0;36m<module>\u001b[1;34m\u001b[0m\n\u001b[0;32m      9\u001b[0m \u001b[1;33m\u001b[0m\u001b[0m\n\u001b[0;32m     10\u001b[0m \u001b[0md\u001b[0m\u001b[1;33m[\u001b[0m\u001b[1;34m'key1'\u001b[0m\u001b[1;33m]\u001b[0m\u001b[1;33m\u001b[0m\u001b[0m\n\u001b[1;32m---> 11\u001b[1;33m \u001b[0md\u001b[0m\u001b[1;33m[\u001b[0m\u001b[1;34m'key11'\u001b[0m\u001b[1;33m]\u001b[0m\u001b[1;33m\u001b[0m\u001b[0m\n\u001b[0m",
      "\u001b[1;31mKeyError\u001b[0m: 'key11'"
     ]
    }
   ],
   "source": [
    "from collections import Counter, defaultdict, deque\n",
    "dd = defaultdict(int)   \n",
    "\n",
    "d = {\n",
    "    'key1' : 42.5,\n",
    "    42 : 'd2',\n",
    "    'key3' : \"value3\"\n",
    "}\n",
    "\n",
    "d['key1']\n",
    "d['key11']\n"
   ]
  },
  {
   "cell_type": "code",
   "execution_count": 21,
   "metadata": {},
   "outputs": [
    {
     "name": "stdout",
     "output_type": "stream",
     "text": [
      "0\n",
      "0\n",
      "42.5\n"
     ]
    }
   ],
   "source": [
    "dd = defaultdict(int)  \n",
    "print(dd['key1'])\n",
    "\n",
    "dd.update(d)\n",
    "print(dd['key11'])\n",
    "print(dd['key1'])"
   ]
  },
  {
   "cell_type": "markdown",
   "metadata": {},
   "source": [
    "Counter\n",
    "- Similar to defaultdict, but\n",
    " - elements() \n",
    " - most_common(n)\n"
   ]
  },
  {
   "cell_type": "code",
   "execution_count": 22,
   "metadata": {},
   "outputs": [
    {
     "name": "stdout",
     "output_type": "stream",
     "text": [
      "Counter({'a': 4, 'b': 2, 'c': 0, 'd': -2})\n",
      "['a', 'a', 'a', 'a', 'b', 'b']\n",
      "[('a', 4), ('b', 2), ('c', 0), ('d', -2)]\n"
     ]
    }
   ],
   "source": [
    "c = Counter(a=4, b=2, c=0, d=-2)\n",
    "print(c)\n",
    "print(list(c.elements()))\n",
    "print(c.most_common())"
   ]
  },
  {
   "cell_type": "markdown",
   "metadata": {},
   "source": [
    "# Jupyter tools to increase productivity\n",
    "\n",
    "https://towardsdatascience.com/jupyter-tools-to-increase-productivity-7b3c6b90be09\n",
    "\n",
    "## Table of Contents \n",
    "![alt text](https://cdn-images-1.medium.com/max/800/1*ijytWCYz2jhUsZlmFLNEfA.png \"xkcd.com\")\n",
    "\n",
    "## ExecuteTime \n",
    "![alt text](https://cdn-images-1.medium.com/max/800/1*ol-ZB7CXzuai4TfwQkW-cA.png \"xkcd.com\")"
   ]
  },
  {
   "cell_type": "markdown",
   "metadata": {},
   "source": [
    "# GIT\n",
    "--> PPT"
   ]
  },
  {
   "cell_type": "code",
   "execution_count": null,
   "metadata": {},
   "outputs": [],
   "source": []
  }
 ],
 "metadata": {
  "kernelspec": {
   "display_name": "Python 3",
   "language": "python",
   "name": "python3"
  },
  "language_info": {
   "codemirror_mode": {
    "name": "ipython",
    "version": 3
   },
   "file_extension": ".py",
   "mimetype": "text/x-python",
   "name": "python",
   "nbconvert_exporter": "python",
   "pygments_lexer": "ipython3",
   "version": "3.6.4"
  }
 },
 "nbformat": 4,
 "nbformat_minor": 4
}
