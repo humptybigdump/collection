{
 "cells": [
  {
   "cell_type": "markdown",
   "id": "83f241d9",
   "metadata": {
    "nbgrader": {
     "grade": false,
     "grade_id": "cell-9a8d7a352449aaa7",
     "locked": true,
     "schema_version": 3,
     "solution": false,
     "task": false
    }
   },
   "source": [
    "# Übung 1\n",
    "\n",
    "---\n",
    "\n",
    "> 'Grundlagen der künstlichen Intelligenz' im Wintersemester 2024/2025\n",
    "> \n",
    "> - T.T.-Prof. Benjamin Schäfer, benjamin.schaefer@kit.edu\n",
    "> - Prof. Gerhard Neumann, gerhard.neumann@kit.edu\n",
    "\n",
    "---\n",
    "\n",
    "**Wichtig**: Dieses Übungsblatt wird nicht gewertet und soll euch helfen, euch mit Python, Jupyter, Pandas und Numpy vertraut zu machen. Außerdem bietet es euch\n",
    "die Möglichkeit, technische Probleme zu erkennen.\n",
    "\n",
    "- **Bitte ladet dieses Übungsblatt daher bei Ilias als Abgabe hoch, auch wenn ihr es nur teilweise (oder gar nicht) bearbeitet habt.**\n",
    "- **Auf diese Weise könnt ihr technische Probleme finden und wir können sie gemeinsam in der ersten Saalübung lösen.**\n",
    "- **Ab dem zweiten Übungsblatt erwarten wir, dass die technischen Probleme gelöst sind.**\n",
    "- **Nutzt daher bitte diese Möglichkeit!**\n",
    "\n",
    "### Übungsteam\n",
    "- Philipp Dahlinger, philipp.dahlinger@kit.edu\n",
    "- Nicolas Schreiber, nicolas.schreiber@kit.edu\n",
    "- Ulrich Oberhofer, ulrich.oberhofer@kit.edu\n",
    "- Sebastian Pütz, sebastian.puetz@kit.edu"
   ]
  },
  {
   "cell_type": "markdown",
   "id": "b99bd033",
   "metadata": {
    "nbgrader": {
     "grade": false,
     "grade_id": "cell-796cbc4bd71ec132",
     "locked": true,
     "schema_version": 3,
     "solution": false,
     "task": false
    }
   },
   "source": [
    "# Gruppenabgabe\n",
    "Die Übungsblätter können in Gruppen von bis zu **3 Studierenden** abgegeben werden. **Jede Person aus der Gruppe muss die finale Version der Abgabe über Ilias hochladen**, es genügt nicht, dass nur eine Person aus der Gruppe dies tut. Es ist prinzipiell möglich, im Laufe des Semesters sich einer neuen Gruppe anzuschließen, sollte sich die eigene Gruppe vorzeitig auflösen. Generell muss jede Gruppe muss ihre eigene Lösung hochladen, wir werden die Abgaben auf Duplikate überprüfen. \n",
    "\n",
    "Die Gruppen werden automatisch erfasst, **gebt deshalb die u-Kürzel eurer Gruppenmitglieder in die folgende Zelle ein.** Falls eure Gruppe nur aus 2 Studierenden besteht, oder ihr alleine abgibt, lasst die verbleibenden Felder frei. Hier ein Beispiel für eine Gruppe bestehend aus uabcd und uefgh:\n",
    "\n",
    "*U-Kürzel der Gruppenmitglieder:*\n",
    "\n",
    "*Mitglied 1: uabcd*\n",
    "\n",
    "*Mitglied 2: uefgh*\n",
    "\n",
    "*Mitglied 3:*"
   ]
  },
  {
   "cell_type": "markdown",
   "id": "1fc41dcd",
   "metadata": {},
   "source": [
    "U-Kürzel der Gruppenmitglieder:\n",
    "\n",
    "Mitglied 1: \n",
    "\n",
    "Mitglied 2: \n",
    "\n",
    "Mitglied 3: \n"
   ]
  },
  {
   "cell_type": "markdown",
   "id": "feeb46b9",
   "metadata": {
    "nbgrader": {
     "grade": false,
     "grade_id": "cell-7a83b59c56b8a5df",
     "locked": true,
     "schema_version": 3,
     "solution": false,
     "task": false
    }
   },
   "source": [
    "# Auto-grading\n",
    "\n",
    "Wir nutzen ein auto-grading System, welches eure abgegebenen Jupyter Notebooks automatisch analysiert und über\n",
    "hidden tests auf Richtigkeit prüft. Über diese Tests werden die Punkte bestimmt, die ihr für das Übungsblatt erhaltet.\n",
    "\n",
    "Damit das auto-grading reibungslos funktioniert bitte folgende Dinge beachten:\n",
    "\n",
    "- Vor dem Abgeben eines Notebooks bitte testen, dass alles von vorne bis hinten ohne Fehler durchläuft.\n",
    "- Zellen, welche mit \"### DO NOT CHANGE ###\" markiert sind dürfen weder gelöscht noch bearbeitet werden\n",
    "- Eure Lösung muss in die richtige Zelle (markiert mit \"# YOUR CODE HERE\") eingetragen werden.\n",
    "    - (dabei natürlich den NotImplementedError löschen!)\n",
    "- Es gibt potentiell scheinbar leere Zellen, die auch mit \"### DO NOT CHANGE ###\" markiert sind. Auch diese dürfen nicht bearbeitet oder gelöscht werden.\n",
    "    - Falls dies doch gemacht wird, dann wird das automatische Grading nicht funktionieren und ihr erhaltet keine Punkte.\n",
    "    - Wir werden hier strikt handeln und keine Ausnahmen machen, falls jemand doch Zellen verändert, die eindeutig als readonly markiert sind!\n",
    "- Die Jupyter Notebooks haben inline Tests (für euch sichtbar), welche euer Ergebnis auf grobe Richtigkeit überprüfen.\n",
    "    - Diese sind primär für euch, um Fehler zu erkennen und zu korrigieren.\n",
    "    - Die inline Tests, die ihr im Notebook sehen könnt, sind allerdings nicht die Tests welche für das Grading verwendet werden!\n",
    "    - Die inline Tests sind eine notwendige Bedingung, um beim Grading der Aufgabe Punkte zu erhalten!"
   ]
  },
  {
   "cell_type": "markdown",
   "id": "485f1147",
   "metadata": {
    "nbgrader": {
     "grade": false,
     "grade_id": "cell-1713fa78a1e0be9c",
     "locked": true,
     "schema_version": 3,
     "solution": false,
     "task": false
    }
   },
   "source": [
    "## Einleitung\n",
    "Wenn du mit Python nicht vertraut bist, empfehlen wir eines der folgenden Online-Tutorials:\n",
    "\n",
    "* https://learnxinyminutes.com/docs/python/\n",
    "* http://www.datacamp.com/community/tutorials/tutorial-jupyter-notebook\n",
    "* https://www.learnpython.org/\n",
    "* https://www.w3schools.com/python/\n",
    "* https://automatetheboringstuff.com/"
   ]
  },
  {
   "cell_type": "markdown",
   "id": "e99f514f",
   "metadata": {
    "nbgrader": {
     "grade": false,
     "grade_id": "cell-b79faaceef7a610f",
     "locked": true,
     "schema_version": 3,
     "solution": false,
     "task": false
    }
   },
   "source": [
    "## Coronapandemie (nicht bewertet)\n",
    "\n",
    "Um typische Datascience-Workflows in Python kennenzulernen analysieren wir hier kurz Falldaten zur Corona-Pandemie. Dazu laden wir zunächst einen historischen Datensatz über die Corona\n",
    "Infektionen weltweit vom Europäischen Zentrum für die Prävention und\n",
    "Kontrolle im Jahr 2020 ([link](https://www.ecdc.europa.eu/sites/default/files/documents/COVID-19-geographic-disbtribution-worldwide.xlsx)) herunter.\n",
    "Das können wir mit dem Python Package ``requests`` machen:"
   ]
  },
  {
   "cell_type": "code",
   "execution_count": 1,
   "id": "46d9a051",
   "metadata": {
    "nbgrader": {
     "grade": false,
     "grade_id": "cell-a4319554f0d337de",
     "locked": true,
     "schema_version": 3,
     "solution": false,
     "task": false
    }
   },
   "outputs": [],
   "source": [
    "import os\n",
    "from datetime import datetime\n",
    "import matplotlib.dates as mdates\n",
    "import matplotlib.pyplot as plt\n",
    "import numpy as np\n",
    "import pandas as pd\n",
    "import requests\n",
    "import scipy.optimize"
   ]
  },
  {
   "cell_type": "code",
   "execution_count": 2,
   "id": "92c4724a",
   "metadata": {
    "nbgrader": {
     "grade": false,
     "grade_id": "cell-a5446cfab0d6b2ab",
     "locked": true,
     "schema_version": 3,
     "solution": false,
     "task": false
    }
   },
   "outputs": [],
   "source": [
    "data_url = \"https://www.ecdc.europa.eu/sites/default/files/documents/COVID-19-geographic-disbtribution-worldwide.xlsx\"\n",
    "data_file = \"COVID-19-geographic-disbtribution-worldwide.xlsx\"\n",
    "if not os.path.exists(data_file):\n",
    "    print(\"Downloading dataset ...\")\n",
    "    with open(data_file, \"wb\") as f:\n",
    "        f.write(requests.get(data_url).content)\n",
    "    print(\"Downloading dataset done.\")"
   ]
  },
  {
   "cell_type": "markdown",
   "id": "a759eb9c",
   "metadata": {
    "nbgrader": {
     "grade": false,
     "grade_id": "cell-f1c9d13b36b95c85",
     "locked": true,
     "schema_version": 3,
     "solution": false,
     "task": false
    }
   },
   "source": [
    "Nun laden wir den Datensatz mit ``pandas``, welches ein ``DataFrame`` Objekt erstellt. Wir schauen uns die ersten 5 Zeilen an:"
   ]
  },
  {
   "cell_type": "code",
   "execution_count": 3,
   "id": "ed31a7a1",
   "metadata": {
    "nbgrader": {
     "grade": false,
     "grade_id": "cell-868b2450ef5b16bd",
     "locked": true,
     "schema_version": 3,
     "solution": false,
     "task": false
    }
   },
   "outputs": [],
   "source": [
    "corona_world = pd.read_excel(data_file)"
   ]
  },
  {
   "cell_type": "code",
   "execution_count": 4,
   "id": "cc4553cb",
   "metadata": {},
   "outputs": [
    {
     "data": {
      "text/html": [
       "<div>\n",
       "<style scoped>\n",
       "    .dataframe tbody tr th:only-of-type {\n",
       "        vertical-align: middle;\n",
       "    }\n",
       "\n",
       "    .dataframe tbody tr th {\n",
       "        vertical-align: top;\n",
       "    }\n",
       "\n",
       "    .dataframe thead th {\n",
       "        text-align: right;\n",
       "    }\n",
       "</style>\n",
       "<table border=\"1\" class=\"dataframe\">\n",
       "  <thead>\n",
       "    <tr style=\"text-align: right;\">\n",
       "      <th></th>\n",
       "      <th>dateRep</th>\n",
       "      <th>day</th>\n",
       "      <th>month</th>\n",
       "      <th>year</th>\n",
       "      <th>cases</th>\n",
       "      <th>deaths</th>\n",
       "      <th>countriesAndTerritories</th>\n",
       "      <th>geoId</th>\n",
       "      <th>countryterritoryCode</th>\n",
       "      <th>popData2019</th>\n",
       "      <th>continentExp</th>\n",
       "      <th>Cumulative_number_for_14_days_of_COVID-19_cases_per_100000</th>\n",
       "    </tr>\n",
       "  </thead>\n",
       "  <tbody>\n",
       "    <tr>\n",
       "      <th>0</th>\n",
       "      <td>2020-12-14</td>\n",
       "      <td>14</td>\n",
       "      <td>12</td>\n",
       "      <td>2020</td>\n",
       "      <td>746</td>\n",
       "      <td>6</td>\n",
       "      <td>Afghanistan</td>\n",
       "      <td>AF</td>\n",
       "      <td>AFG</td>\n",
       "      <td>38041757.0</td>\n",
       "      <td>Asia</td>\n",
       "      <td>9.013779</td>\n",
       "    </tr>\n",
       "    <tr>\n",
       "      <th>1</th>\n",
       "      <td>2020-12-13</td>\n",
       "      <td>13</td>\n",
       "      <td>12</td>\n",
       "      <td>2020</td>\n",
       "      <td>298</td>\n",
       "      <td>9</td>\n",
       "      <td>Afghanistan</td>\n",
       "      <td>AF</td>\n",
       "      <td>AFG</td>\n",
       "      <td>38041757.0</td>\n",
       "      <td>Asia</td>\n",
       "      <td>7.052776</td>\n",
       "    </tr>\n",
       "    <tr>\n",
       "      <th>2</th>\n",
       "      <td>2020-12-12</td>\n",
       "      <td>12</td>\n",
       "      <td>12</td>\n",
       "      <td>2020</td>\n",
       "      <td>113</td>\n",
       "      <td>11</td>\n",
       "      <td>Afghanistan</td>\n",
       "      <td>AF</td>\n",
       "      <td>AFG</td>\n",
       "      <td>38041757.0</td>\n",
       "      <td>Asia</td>\n",
       "      <td>6.868768</td>\n",
       "    </tr>\n",
       "    <tr>\n",
       "      <th>3</th>\n",
       "      <td>2020-12-11</td>\n",
       "      <td>11</td>\n",
       "      <td>12</td>\n",
       "      <td>2020</td>\n",
       "      <td>63</td>\n",
       "      <td>10</td>\n",
       "      <td>Afghanistan</td>\n",
       "      <td>AF</td>\n",
       "      <td>AFG</td>\n",
       "      <td>38041757.0</td>\n",
       "      <td>Asia</td>\n",
       "      <td>7.134266</td>\n",
       "    </tr>\n",
       "    <tr>\n",
       "      <th>4</th>\n",
       "      <td>2020-12-10</td>\n",
       "      <td>10</td>\n",
       "      <td>12</td>\n",
       "      <td>2020</td>\n",
       "      <td>202</td>\n",
       "      <td>16</td>\n",
       "      <td>Afghanistan</td>\n",
       "      <td>AF</td>\n",
       "      <td>AFG</td>\n",
       "      <td>38041757.0</td>\n",
       "      <td>Asia</td>\n",
       "      <td>6.968658</td>\n",
       "    </tr>\n",
       "  </tbody>\n",
       "</table>\n",
       "</div>"
      ],
      "text/plain": [
       "     dateRep  day  month  year  cases  deaths countriesAndTerritories geoId  \\\n",
       "0 2020-12-14   14     12  2020    746       6             Afghanistan    AF   \n",
       "1 2020-12-13   13     12  2020    298       9             Afghanistan    AF   \n",
       "2 2020-12-12   12     12  2020    113      11             Afghanistan    AF   \n",
       "3 2020-12-11   11     12  2020     63      10             Afghanistan    AF   \n",
       "4 2020-12-10   10     12  2020    202      16             Afghanistan    AF   \n",
       "\n",
       "  countryterritoryCode  popData2019 continentExp  \\\n",
       "0                  AFG   38041757.0         Asia   \n",
       "1                  AFG   38041757.0         Asia   \n",
       "2                  AFG   38041757.0         Asia   \n",
       "3                  AFG   38041757.0         Asia   \n",
       "4                  AFG   38041757.0         Asia   \n",
       "\n",
       "   Cumulative_number_for_14_days_of_COVID-19_cases_per_100000  \n",
       "0                                           9.013779           \n",
       "1                                           7.052776           \n",
       "2                                           6.868768           \n",
       "3                                           7.134266           \n",
       "4                                           6.968658           "
      ]
     },
     "execution_count": 4,
     "metadata": {},
     "output_type": "execute_result"
    }
   ],
   "source": [
    "corona_world.head()"
   ]
  },
  {
   "cell_type": "markdown",
   "id": "2a20b5b3",
   "metadata": {
    "nbgrader": {
     "grade": false,
     "grade_id": "cell-bc9a55059284688d",
     "locked": true,
     "schema_version": 3,
     "solution": false,
     "task": false
    }
   },
   "source": [
    "Das ``DataFrame`` Objekt erlaubt Zugriff auf die enthaltenen Daten über die Methoden .iloc (index-basierte Selektion) und .loc (name-basierte Selektion):"
   ]
  },
  {
   "cell_type": "code",
   "execution_count": 5,
   "id": "ed04f336",
   "metadata": {},
   "outputs": [
    {
     "name": "stdout",
     "output_type": "stream",
     "text": [
      "RangeIndex(start=0, stop=61900, step=1)\n",
      "Index(['dateRep', 'day', 'month', 'year', 'cases', 'deaths',\n",
      "       'countriesAndTerritories', 'geoId', 'countryterritoryCode',\n",
      "       'popData2019', 'continentExp',\n",
      "       'Cumulative_number_for_14_days_of_COVID-19_cases_per_100000'],\n",
      "      dtype='object')\n",
      "     dateRep  deaths\n",
      "0 2020-12-14       6\n",
      "1 2020-12-13       9\n",
      "2 2020-12-12      11\n",
      "3 2020-12-11      10\n",
      "4 2020-12-10      16\n",
      "   month\n",
      "0     12\n",
      "1     12\n",
      "2     12\n",
      "3     12\n",
      "4     12\n",
      "5     12\n"
     ]
    }
   ],
   "source": [
    "print(corona_world.index)\n",
    "print(corona_world.columns)\n",
    "\n",
    "print(corona_world.iloc[0:5,[0,5]])\n",
    "print(corona_world.loc[0:5,[\"month\"]])"
   ]
  },
  {
   "cell_type": "markdown",
   "id": "9b3d14f8",
   "metadata": {
    "nbgrader": {
     "grade": false,
     "grade_id": "cell-acda034da3f0f8b7",
     "locked": true,
     "schema_version": 3,
     "solution": false,
     "task": false
    }
   },
   "source": [
    "Nun selektieren wir nur die Einträge welche zu Deutschland gehören. Mit ``corona_countries==\"Germany\"`` erhalten wir eine boolean Mask, welche wir auf `corona_world` anwenden können. Weiterhin selektieren wir nur columns, welche für uns relevant sind. Außerdem flippen wir die finalen numpy arrays, sodass diese von der Vergangenheit forwärts laufen."
   ]
  },
  {
   "cell_type": "code",
   "execution_count": 6,
   "id": "9051f284",
   "metadata": {
    "nbgrader": {
     "grade": false,
     "grade_id": "cell-1ca46cccd2fc41bf",
     "locked": true,
     "schema_version": 3,
     "solution": false,
     "task": false
    }
   },
   "outputs": [
    {
     "name": "stdout",
     "output_type": "stream",
     "text": [
      "0        False\n",
      "1        False\n",
      "2        False\n",
      "3        False\n",
      "4        False\n",
      "         ...  \n",
      "61895    False\n",
      "61896    False\n",
      "61897    False\n",
      "61898    False\n",
      "61899    False\n",
      "Name: countriesAndTerritories, Length: 61900, dtype: bool\n"
     ]
    }
   ],
   "source": [
    "# Select data\n",
    "corona_countries = corona_world[\"countriesAndTerritories\"]\n",
    "print(corona_countries == \"Germany\")\n",
    "corona_germany = corona_world[corona_countries == \"Germany\"]\n",
    "corona_germany = corona_germany[[\n",
    "    \"dateRep\", \"cases\", \"deaths\",\n",
    "    \"Cumulative_number_for_14_days_of_COVID-19_cases_per_100000\"\n",
    "]]\n",
    "time_germany = corona_germany[\"dateRep\"].values\n",
    "cc_germany = corona_germany[\n",
    "    \"Cumulative_number_for_14_days_of_COVID-19_cases_per_100000\"\n",
    "].to_numpy()\n",
    "time_germany = np.flip(time_germany)\n",
    "cc_germany = np.flip(cc_germany)"
   ]
  },
  {
   "cell_type": "markdown",
   "id": "e3798568",
   "metadata": {
    "nbgrader": {
     "grade": false,
     "grade_id": "cell-6c8265d0e69eb0d6",
     "locked": true,
     "schema_version": 3,
     "solution": false,
     "task": false
    }
   },
   "source": [
    "Wir visualisieren nun die 14-Tage-Inzidenz für Deutschland (`Cumulative_number_for_14_days_of_COVID-19_cases_per_100000`). Hierfür nutzen wir das Package ``matplotlib.pyplot``, welches wir in zukünftigen Aufgabenblättern noch oft nutzen werden. [Hier](https://matplotlib.org/stable/tutorials/introductory/usage.html#sphx-glr-tutorials-introductory-usage-py) findet sich ein guter Guide zu diesem Package."
   ]
  },
  {
   "cell_type": "code",
   "execution_count": 7,
   "id": "f39cc87f",
   "metadata": {
    "nbgrader": {
     "grade": false,
     "grade_id": "cell-f25dfa94f373d747",
     "locked": true,
     "schema_version": 3,
     "solution": false,
     "task": false
    }
   },
   "outputs": [],
   "source": [
    "# Date functionality\n",
    "months = mdates.MonthLocator()  # every month"
   ]
  },
  {
   "cell_type": "code",
   "execution_count": 8,
   "id": "6f9fd741",
   "metadata": {},
   "outputs": [
    {
     "data": {
      "image/png": "[encoded data removed]",
      "text/plain": [
       "<Figure size 640x480 with 1 Axes>"
      ]
     },
     "metadata": {},
     "output_type": "display_data"
    }
   ],
   "source": [
    "fig, ax = plt.subplots()  # generate a new plot\n",
    "ax.plot(time_germany, cc_germany)  # plot data\n",
    "ax.xaxis.set_major_locator(months)  # modify axis\n",
    "fig.autofmt_xdate()\n",
    "plt.grid(True, \"both\")\n",
    "plt.title(\"Germany\")\n",
    "plt.ylabel(\"14 days cases per 100k\")\n",
    "plt.xlabel(\"Time [year-month]\")\n",
    "plt.show()"
   ]
  },
  {
   "cell_type": "markdown",
   "id": "e689f476",
   "metadata": {
    "nbgrader": {
     "grade": false,
     "grade_id": "cell-c96af88bd5d2524a",
     "locked": true,
     "schema_version": 3,
     "solution": false,
     "task": false
    }
   },
   "source": [
    "Nun folgen ein paar Aufgaben, die du selbst beantworten sollst.\n",
    "Hierfür kannst du entweder das pandas dataframe und seine Operationen direkt verwenden,\n",
    "oder die Daten konvertieren und mit `numpy` arbeiten. Versuche wenn möglich immer eingebaute\n",
    "Funktionalitäten von `numpy` oder `pandas` zu nutzen, da diese deutlich schneller sind \n",
    "als pures Python.\n",
    "\n",
    "Dokumentation findet sich hier: [numpy](https://numpy.org/doc/) und\n",
    "[pandas](https://pandas.pydata.org/docs/getting_started/index.html#getting-started)\n",
    "\n",
    "**1.** Liste die Zahl der Todesfälle in Verbindung mit Covid-19 relativ zur mittleren Bevölkerungszahl (gemittelt über alle Einträge für das jeweilige Land) für jedes Land in 2020. Welches Land hat die höchste Todesrate? Welches die niedrigste?\n",
    "\n",
    "Für diese Aufgabe bietet es sich an, die Ergebnisse in Dictionaries mit einem Key für jedes Land zu speichern. Du kannst dir weiterhin folgende möglicherweise hilfreichen Funktionen anschauen:\n",
    "\n",
    "[pandas](https://pandas.pydata.org/docs/getting_started/index.html#getting-started):\n",
    "``.unique``, ``.groupby``, ``.mean``, ``.sum``, ``.sort_values``, ``.get_group`` and ``.from_dict``:"
   ]
  },
  {
   "cell_type": "code",
   "execution_count": 9,
   "id": "1e743419",
   "metadata": {
    "nbgrader": {
     "grade": false,
     "grade_id": "exercise_1",
     "locked": false,
     "schema_version": 3,
     "solution": true,
     "task": false
    }
   },
   "outputs": [
    {
     "data": {
      "text/html": [
       "<div>\n",
       "<style scoped>\n",
       "    .dataframe tbody tr th:only-of-type {\n",
       "        vertical-align: middle;\n",
       "    }\n",
       "\n",
       "    .dataframe tbody tr th {\n",
       "        vertical-align: top;\n",
       "    }\n",
       "\n",
       "    .dataframe thead th {\n",
       "        text-align: right;\n",
       "    }\n",
       "</style>\n",
       "<table border=\"1\" class=\"dataframe\">\n",
       "  <thead>\n",
       "    <tr style=\"text-align: right;\">\n",
       "      <th></th>\n",
       "      <th>0</th>\n",
       "    </tr>\n",
       "  </thead>\n",
       "  <tbody>\n",
       "    <tr>\n",
       "      <th>Seychelles</th>\n",
       "      <td>0.000000</td>\n",
       "    </tr>\n",
       "    <tr>\n",
       "      <th>New_Caledonia</th>\n",
       "      <td>0.000000</td>\n",
       "    </tr>\n",
       "    <tr>\n",
       "      <th>Eritrea</th>\n",
       "      <td>0.000000</td>\n",
       "    </tr>\n",
       "    <tr>\n",
       "      <th>Faroe_Islands</th>\n",
       "      <td>0.000000</td>\n",
       "    </tr>\n",
       "    <tr>\n",
       "      <th>Dominica</th>\n",
       "      <td>0.000000</td>\n",
       "    </tr>\n",
       "    <tr>\n",
       "      <th>...</th>\n",
       "      <td>...</td>\n",
       "    </tr>\n",
       "    <tr>\n",
       "      <th>Peru</th>\n",
       "      <td>0.001128</td>\n",
       "    </tr>\n",
       "    <tr>\n",
       "      <th>San_Marino</th>\n",
       "      <td>0.001480</td>\n",
       "    </tr>\n",
       "    <tr>\n",
       "      <th>Belgium</th>\n",
       "      <td>0.001567</td>\n",
       "    </tr>\n",
       "    <tr>\n",
       "      <th>Cases_on_an_international_conveyance_Japan</th>\n",
       "      <td>NaN</td>\n",
       "    </tr>\n",
       "    <tr>\n",
       "      <th>Wallis_and_Futuna</th>\n",
       "      <td>NaN</td>\n",
       "    </tr>\n",
       "  </tbody>\n",
       "</table>\n",
       "<p>214 rows × 1 columns</p>\n",
       "</div>"
      ],
      "text/plain": [
       "                                                   0\n",
       "Seychelles                                  0.000000\n",
       "New_Caledonia                               0.000000\n",
       "Eritrea                                     0.000000\n",
       "Faroe_Islands                               0.000000\n",
       "Dominica                                    0.000000\n",
       "...                                              ...\n",
       "Peru                                        0.001128\n",
       "San_Marino                                  0.001480\n",
       "Belgium                                     0.001567\n",
       "Cases_on_an_international_conveyance_Japan       NaN\n",
       "Wallis_and_Futuna                                NaN\n",
       "\n",
       "[214 rows x 1 columns]"
      ]
     },
     "execution_count": 9,
     "metadata": {},
     "output_type": "execute_result"
    }
   ],
   "source": [
    "# Fülle die folgenden Objekte:\n",
    "\n",
    "countries = [] # Liste aller Länder (jedes Land nur ein Mal)\n",
    "population = {} # Durchschnitt der Bevölkerungszahl über alle Einträge für jedes Land\n",
    "deaths = {} # Summe aller Todesfälle für jedes Land\n",
    "rel_deaths = {} # Summe aller Todesfälle geteilt durch Bevölkerungszahl für jedes Land\n",
    "country_max_mortality = \"\" # Welches Land hatte die höchste relative Todesrate?\n",
    "\n",
    "### BEGIN SOLUTION\n",
    "countries = corona_world[\"countriesAndTerritories\"].unique()\n",
    "groups = corona_world.groupby(\"countriesAndTerritories\")\n",
    "population = {x: groups.get_group(x)[\"popData2019\"].mean() for x in countries}\n",
    "deaths = {x: groups.get_group(x)[\"deaths\"].sum() for x in countries}\n",
    "rel_deaths = {x: deaths[x] / population[x] for x in countries}\n",
    "sorted_countries = pd.DataFrame.from_dict(\n",
    "    rel_deaths, orient=\"index\"\n",
    ").sort_values(0)\n",
    "country_max_mortality = \"Belgium\"\n",
    "\n",
    "sorted_countries\n",
    "### END SOLUTION"
   ]
  },
  {
   "cell_type": "markdown",
   "id": "38a3a655",
   "metadata": {
    "nbgrader": {
     "grade": false,
     "grade_id": "cell-1663db010b7a0738",
     "locked": true,
     "schema_version": 3,
     "solution": false,
     "task": false
    }
   },
   "source": [
    "**2.** Nun möchten wir die kumulative Anzahl der Fälle (summierte Anzahl der Fälle bis zu einem Datum), die kumulative Anzahl der verstorbenen Fälle und die kumulative Anzahl der genesenen Fälle für Deutschland über der Zeit plotten.\n",
    "\n",
    "Stelle sicher, dass die Daten die richtige Reihenfolge für eine kumulative Summe haben.\n",
    "\n",
    "Tipp: Schau dir die Funktion ``np.cumsum`` an.\n",
    "\n",
    "Tipp zum Bestimmen der kumulative Anzahl der genesenen Fälle:\n",
    "Wir nehmen an, dass man nach 14 Tagen nach der Infektion / positivem Test entweder genesen oder verstorben ist.\n",
    "Daher berechnen wir die kumulative Anzahl der genesenen Fälle, indem wir die Anzahl der kumulativen Fälle vor vierzehn Tagen minus der aktuellen kumulativen Anzahl der Todesfälle rechnen."
   ]
  },
  {
   "cell_type": "code",
   "execution_count": 10,
   "id": "5772c4da",
   "metadata": {
    "nbgrader": {
     "grade": false,
     "grade_id": "exercise_2",
     "locked": false,
     "schema_version": 3,
     "solution": true,
     "task": false
    }
   },
   "outputs": [
    {
     "data": {
      "image/png": "[encoded data removed]",
      "text/plain": [
       "<Figure size 640x480 with 1 Axes>"
      ]
     },
     "metadata": {},
     "output_type": "display_data"
    }
   ],
   "source": [
    "cum_death = np.array([])\n",
    "cum_cases = np.array([])\n",
    "cum_recov = np.array([])\n",
    "\n",
    "### BEGIN SOLUTION\n",
    "total_germany = np.flip(corona_germany[\"cases\"].to_numpy())\n",
    "death_germany = np.flip(corona_germany[\"deaths\"].to_numpy())\n",
    "cum_death = np.cumsum(death_germany)\n",
    "cum_cases = np.cumsum(total_germany)\n",
    "\n",
    "cum_recov = np.zeros_like(cum_cases)\n",
    "cum_recov[14:] = cum_cases[0:-14] - cum_death[14:]\n",
    "\n",
    "fig, ax = plt.subplots()  # generate a new plot\n",
    "ax.plot(time_germany, cum_cases, label=\"Cumulative cases\")  # plot data\n",
    "ax.plot(time_germany, cum_death, label=\"Cumulative deaths\")  # plot data\n",
    "ax.plot(time_germany, cum_recov, label=\"Cumulative recovered\")  # plot data\n",
    "ax.xaxis.set_major_locator(months)  # modify axis\n",
    "fig.autofmt_xdate()\n",
    "plt.grid(True, \"both\")\n",
    "plt.title(\"Germany\")\n",
    "plt.ylabel(\"Total cases\")\n",
    "plt.xlabel(\"Time [year-month]\")\n",
    "plt.legend()\n",
    "plt.show()  # make plot\n",
    "### END SOLUTION"
   ]
  },
  {
   "cell_type": "markdown",
   "id": "7e874897",
   "metadata": {
    "nbgrader": {
     "grade": false,
     "grade_id": "cell-3a4d36adc049d86c",
     "locked": true,
     "schema_version": 3,
     "solution": false,
     "task": false
    }
   },
   "source": [
    "Wir wollen nun analysieren, wie gut man mit einfachen Modellen den Verlauf der \n",
    "Pandemie im Spätjahr 2020 (nach 01.10.2020) in Deutschland vorhersagen kann.\n",
    "\n",
    "**3.** Zunächst selektieren wir die Daten vom 01.08.2020 bis 01.10.2020 zum Fitten unserer Modelle. Beachte, dass wir hier numpy arrays vom Typ ``dtype=\"datetime64[ns]\"`` verwenden. \n",
    "\n",
    "Wir müssen die passende Zeitperiode selektieren und dann durch ``np.timedelta64(1,\"D\")``, was dem Zeitraum eines Tages entspricht, teilen. Dann erhalten wir ein array, welches die Tage vom 01.08.2020 aufwärts zählt.\n",
    "\n",
    "Als Testdaten selektieren wir alle Daten ab dem 01.08.2020, also auch über den 01.10.2020 hinaus."
   ]
  },
  {
   "cell_type": "code",
   "execution_count": 11,
   "id": "acee36db",
   "metadata": {
    "nbgrader": {
     "grade": false,
     "grade_id": "cell-8867a839c0797be6",
     "locked": true,
     "schema_version": 3,
     "solution": false,
     "task": false
    }
   },
   "outputs": [],
   "source": [
    "date_start = datetime(2020, 8, 1)\n",
    "date_stop = datetime(2020, 10, 1)\n",
    "selection = np.logical_and(time_germany >= np.datetime64(date_start),\n",
    "                           time_germany < np.datetime64(date_stop))\n",
    "\n",
    "# Selektiere Daten\n",
    "x_cases = np.array(time_germany[selection] - np.datetime64(date_start)) / np.timedelta64(1, \"D\")\n",
    "y_cases = np.array(cc_germany)[selection]\n",
    "x_test = time_germany[time_germany >= np.datetime64(date_start)]\n",
    "x_test_days = (x_test - np.datetime64(date_start)) / np.timedelta64(1, \"D\")"
   ]
  },
  {
   "cell_type": "markdown",
   "id": "86655350",
   "metadata": {
    "nbgrader": {
     "grade": false,
     "grade_id": "cell-6fc0457dec84034d",
     "locked": true,
     "schema_version": 3,
     "solution": false,
     "task": false
    }
   },
   "source": [
    "Nun versuchen wir ein paar analytische Funktionen an die Daten zu fitten, wofür wir ``scipy.optimize.curve_fit`` verwenden. Falls der Fit nicht auf Anhieb konvergiert, versuche die bounds und den initial guess von Hand zu ändern.\n",
    "\n",
    "Versuche die folgenden Ausdrücke. Implementiere diese zunächst mit der Hilfe von Funktionen wie ``np.square``, ``np.exp`` oder ``np.power`` etc.\n",
    "\n",
    "* $f_1(x)= ax+b$\n",
    "* $f_2(x)= c e^{a (x-b)}$\n",
    "* $f_3(x)= a x^2 + b x + c$\n",
    "* $f_4(x)= a x^3 + b x^2 + cx + d$\n",
    "* $\\dots$"
   ]
  },
  {
   "cell_type": "code",
   "execution_count": 12,
   "id": "a95d19cd",
   "metadata": {
    "lines_to_next_cell": 2,
    "nbgrader": {
     "grade": false,
     "grade_id": "exercise_3_functions",
     "locked": false,
     "schema_version": 3,
     "solution": true,
     "task": false
    }
   },
   "outputs": [],
   "source": [
    "# Funktionen, welche implementiert werden sollen:\n",
    "def fun_1(x, a, b):\n",
    "    return a * x + b\n",
    "\n",
    "\n",
    "def fun_2(x, a, b, c):\n",
    "    pass\n",
    "\n",
    "\n",
    "def fun_3(x, a, b, c):\n",
    "    pass\n",
    "\n",
    "\n",
    "def fun_4(x, a, b, c, d):\n",
    "    pass\n",
    "\n",
    "\n",
    "# Du kannst auch eigene zusätzliche Ideen implementieren...\n",
    "\n",
    "### BEGIN SOLUTION\n",
    "def fun_1(x, a, b):\n",
    "    return a * x + b\n",
    "\n",
    "\n",
    "def fun_2(x, a, b, c):\n",
    "    return c * np.exp(a * (x - b))\n",
    "\n",
    "\n",
    "def fun_3(x, a, b, c):\n",
    "    return np.square(x) * a + x * b + c\n",
    "\n",
    "\n",
    "def fun_4(x, a, b, c, d):\n",
    "    return a * np.power(x, 3) + np.power(x, 2) * b + c * x + d\n",
    "### END SOLUTION"
   ]
  },
  {
   "cell_type": "code",
   "execution_count": 13,
   "id": "0376bbe5",
   "metadata": {
    "nbgrader": {
     "grade": false,
     "grade_id": "exercise_3_fit",
     "locked": false,
     "schema_version": 3,
     "solution": true,
     "task": false
    }
   },
   "outputs": [
    {
     "data": {
      "image/png": "[encoded data removed]",
      "text/plain": [
       "<Figure size 640x480 with 1 Axes>"
      ]
     },
     "metadata": {},
     "output_type": "display_data"
    }
   ],
   "source": [
    "param_1, _ = scipy.optimize.curve_fit(fun_1, x_cases, y_cases)\n",
    "param_2, _ = None, None  # fit fun_2\n",
    "param_3, _ = None, None  # fit fun_3\n",
    "param_4, _ = None, None  # fit fun_4\n",
    "\n",
    "### BEGIN SOLUTION\n",
    "param_2, _ = scipy.optimize.curve_fit(fun_2, x_cases, y_cases, p0=(0.05, 0, 1))\n",
    "param_3, _ = scipy.optimize.curve_fit(fun_3, x_cases, y_cases)\n",
    "param_4, _ = scipy.optimize.curve_fit(fun_4, x_cases, y_cases)\n",
    "### END SOLUTION\n",
    "\n",
    "y_fit_1 = fun_1(x_test_days, *param_1)\n",
    "y_fit_2 = None  # evalute fit 2\n",
    "y_fit_3 = None  # evalute fit 3\n",
    "y_fit_4 = None  # evalute fit 4\n",
    "\n",
    "### BEGIN SOLUTION\n",
    "y_fit_2 = fun_2(x_test_days, *param_2)\n",
    "y_fit_3 = fun_3(x_test_days, *param_3)\n",
    "y_fit_4 = fun_4(x_test_days, *param_4)\n",
    "### END SOLUTION\n",
    "\n",
    "fig, ax = plt.subplots()  # generate a new plot\n",
    "ax.plot(time_germany, cc_germany)  # plot data\n",
    "ax.plot(x_test, y_fit_1, label=\"f1\")  # plot data\n",
    "\n",
    "### BEGIN SOLUTION\n",
    "ax.plot(x_test, y_fit_2, label=\"f2\")  # plot data\n",
    "ax.plot(x_test, y_fit_3, label=\"f3\")  # plot data\n",
    "ax.plot(x_test, y_fit_4, label=\"f4\")  # plot data\n",
    "### END SOLUTION\n",
    "\n",
    "ax.xaxis.set_major_locator(months)  # modify axis\n",
    "fig.autofmt_xdate()\n",
    "plt.grid(True, \"both\")\n",
    "plt.ylim([-20, 370])\n",
    "\n",
    "plt.legend()\n",
    "plt.title(\"Germany\")\n",
    "plt.ylabel(\"14 days cases per 100k\")\n",
    "plt.xlabel(\"Time [year-month]\")\n",
    "\n",
    "plt.show()  # make plot"
   ]
  },
  {
   "cell_type": "markdown",
   "id": "ff40afb5",
   "metadata": {
    "nbgrader": {
     "grade": false,
     "grade_id": "cell-7dc0f2f1e1ce451c",
     "locked": true,
     "schema_version": 3,
     "solution": false,
     "task": false
    }
   },
   "source": [
    "- (1) Welche Funktion extrapoliert am besten über den 01.10.2020 bis zum Ende des Jahres?\n",
    "- (2) Ändert sich das, wenn du nur an die letzten 14 Tage vom 17.09.2020 bis zum 01.10.2020 fittest?"
   ]
  },
  {
   "cell_type": "code",
   "execution_count": 14,
   "id": "4c140804",
   "metadata": {
    "nbgrader": {
     "grade": false,
     "grade_id": "exercise_3_best_function",
     "locked": false,
     "schema_version": 3,
     "solution": true,
     "task": false
    }
   },
   "outputs": [],
   "source": [
    "answer_best_fun = None  # Beste Funktion für die erste Frage (int)?\n",
    "answer_best_fun_14_days = None  # Welche Funktion ist im zweiten Fall (2) am besten? (int)\n",
    "\n",
    "### BEGIN SOLUTION\n",
    "answer_best_fun = 4\n",
    "answer_best_fun_14_days = 2\n",
    "### END SOLUTION"
   ]
  },
  {
   "cell_type": "markdown",
   "id": "466f9a9d",
   "metadata": {},
   "source": [
    "**Das war es auch schon für das erste Übungsblatt.**\n",
    "\n",
    "**Nun folgen noch ein paar Checks für dich, mit welchen du deine Ergebnis grob überprüfen kannst:**"
   ]
  },
  {
   "cell_type": "code",
   "execution_count": 15,
   "id": "04d81d31",
   "metadata": {
    "nbgrader": {
     "grade": true,
     "grade_id": "correct_exercise_1",
     "locked": true,
     "points": 6,
     "schema_version": 3,
     "solution": false,
     "task": false
    }
   },
   "outputs": [],
   "source": [
    "assert isinstance(countries, list) or isinstance(countries, np.ndarray)\n",
    "assert isinstance(rel_deaths, dict)\n",
    "assert isinstance(population, dict)\n",
    "assert isinstance(deaths, dict)\n",
    "assert isinstance(country_max_mortality, str)"
   ]
  },
  {
   "cell_type": "code",
   "execution_count": 16,
   "id": "01d1f2a4",
   "metadata": {
    "nbgrader": {
     "grade": true,
     "grade_id": "correct_exercise_2",
     "locked": true,
     "points": 6,
     "schema_version": 3,
     "solution": false,
     "task": false
    }
   },
   "outputs": [],
   "source": [
    "assert isinstance(cum_death, np.ndarray)\n",
    "assert isinstance(cum_cases, np.ndarray)"
   ]
  },
  {
   "cell_type": "code",
   "execution_count": 17,
   "id": "d45caeeb",
   "metadata": {
    "nbgrader": {
     "grade": true,
     "grade_id": "correct_exercise_3_functions",
     "locked": true,
     "points": 2,
     "schema_version": 3,
     "solution": false,
     "task": false
    }
   },
   "outputs": [],
   "source": [
    "assert fun_1(0, 0, 0) == 0\n",
    "assert fun_2(0, 0, 0, 0) == 0\n",
    "assert fun_3(0, 0, 0, 0) == 0\n",
    "assert fun_4(0, 0, 0, 0, 0) == 0"
   ]
  },
  {
   "cell_type": "code",
   "execution_count": 18,
   "id": "29696dd9",
   "metadata": {
    "nbgrader": {
     "grade": true,
     "grade_id": "correct_exercise_3_fits_and_answers",
     "locked": true,
     "points": 6,
     "schema_version": 3,
     "solution": false,
     "task": false
    }
   },
   "outputs": [],
   "source": [
    "assert param_1 is not None\n",
    "assert param_2 is not None\n",
    "assert param_3 is not None\n",
    "assert param_4 is not None\n",
    "assert isinstance(answer_best_fun, int)\n",
    "assert isinstance(answer_best_fun_14_days, int)"
   ]
  }
 ],
 "metadata": {
  "celltoolbar": "Create Assignment",
  "jupytext": {
   "formats": "ipynb,py:percent"
  },
  "kernelspec": {
   "display_name": "Python 3 (ipykernel)",
   "language": "python",
   "name": "python3"
  },
  "language_info": {
   "codemirror_mode": {
    "name": "ipython",
    "version": 3
   },
   "file_extension": ".py",
   "mimetype": "text/x-python",
   "name": "python",
   "nbconvert_exporter": "python",
   "pygments_lexer": "ipython3",
   "version": "3.10.12"
  }
 },
 "nbformat": 4,
 "nbformat_minor": 5
}
