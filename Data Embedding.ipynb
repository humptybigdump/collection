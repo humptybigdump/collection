{
 "cells": [
  {
   "cell_type": "markdown",
   "metadata": {},
   "source": [
    "*Disclaimer*: This notebook borrows from different sources including the IBMs tutorial on [data embeddings](https://learn.qiskit.org/course/machine-learning/data-encoding)."
   ]
  },
  {
   "cell_type": "markdown",
   "metadata": {},
   "source": [
    "# Data Embedding and Encoding"
   ]
  },
  {
   "cell_type": "markdown",
   "metadata": {},
   "source": [
    "## Basis Encoding\n",
    "\n",
    "Qiskit allows to create a valid basis encoding circuit by using the `initialize` function. In case we want to create a circuit that represents a dataset $X = \\{5, 7\\}$ that maps to the quantum state $|X\\rangle = \\frac{1}{\\sqrt{2}}(|101\\rangle + |111\\rangle)$ we can use the following:"
   ]
  },
  {
   "cell_type": "code",
   "execution_count": null,
   "metadata": {},
   "outputs": [],
   "source": [
    "import math\n",
    "from qiskit import QuantumCircuit\n",
    "\n",
    "desired_state = [\n",
    "    0,\n",
    "    0,\n",
    "    0,\n",
    "    0,\n",
    "    0,\n",
    "    1 / math.sqrt(2),\n",
    "    0,\n",
    "    1 / math.sqrt(2)\n",
    "]\n",
    "qc = QuantumCircuit(3)\n",
    "qc.initialize(desired_state, range(3))\n",
    "qc.decompose().decompose().decompose().decompose().decompose().draw(\"mpl\")\n",
    "# qc.draw(\"mpl\")"
   ]
  },
  {
   "cell_type": "markdown",
   "metadata": {},
   "source": [
    "## Ensuring normalization of quantum states\n",
    "\n",
    "Please remember that we always need to ensure that $|a|^2 = 1$. Please take care that you also need to account for complex numbers."
   ]
  },
  {
   "cell_type": "markdown",
   "metadata": {},
   "source": [
    "### Exercise\n",
    "\n",
    "Consider a dataset $X$ that contains the following data points: $\\{2, 3, 5, 5, -1\\}$ and encode it using *basis encoding*."
   ]
  },
  {
   "cell_type": "code",
   "execution_count": null,
   "metadata": {},
   "outputs": [],
   "source": [
    "# Enter your code here"
   ]
  },
  {
   "cell_type": "markdown",
   "metadata": {},
   "source": [
    "## Amplitude Encoding\n",
    "\n",
    "As an example we encode the dataset $X = \\{ x_1 = (1.5, 0), x_2=(-2, 3) \\}$ with amplitude encoding.\n",
    "\n",
    "While concatenating the 2 features of our 2 data points we get the following:\n",
    "\n",
    "$$\\alpha = \\frac{1}{\\sqrt(15.25)}(1.5, 0, -2, 3)$$\n",
    "\n",
    "and our resulting 2-qubit state is therefore\n",
    "\n",
    "$$|X\\rangle = \\frac{1}{\\sqrt{15.25}}(1.5|00\\rangle - 2|10\\rangle + 3|11\\rangle)$$\n",
    "\n",
    "As we already did in basis encoding, we can again use the initialize function to let qiskit create our desired state."
   ]
  },
  {
   "cell_type": "code",
   "execution_count": null,
   "metadata": {},
   "outputs": [],
   "source": [
    "from typing import List\n",
    "import numpy as np\n",
    "\n",
    "\n",
    "def a_norm(values: List[float]) -> float:\n",
    "    \"\"\"Calculates the constant `a_norm`\"\"\"\n",
    "    return 1 / math.sqrt(np.sum(np.abs(values)**2))"
   ]
  },
  {
   "cell_type": "code",
   "execution_count": null,
   "metadata": {},
   "outputs": [],
   "source": [
    "values = [1.5, 0, -2, 3]\n",
    "normalization = a_norm(values)"
   ]
  },
  {
   "cell_type": "code",
   "execution_count": null,
   "metadata": {},
   "outputs": [],
   "source": [
    "desired_state"
   ]
  },
  {
   "cell_type": "code",
   "execution_count": null,
   "metadata": {},
   "outputs": [],
   "source": [
    "\n",
    "desired_state = [normalization * value for value in values]\n",
    "qc = QuantumCircuit(2)\n",
    "qc.initialize(desired_state, range(2))\n",
    "qc.decompose().decompose().decompose().decompose().decompose().draw(\"mpl\")\n",
    "# qc.draw(\"mpl\")"
   ]
  },
  {
   "cell_type": "markdown",
   "metadata": {},
   "source": [
    "## Angle Encoding\n",
    "\n",
    "We now want to encode the data point $x = (0, \\frac{\\pi}{4}, \\frac{\\pi}{2})$ using angle encoding.\n",
    "Remembering that $U(x_j^i) = R_Y(2x_j^i)$ we can set up the following circuit:"
   ]
  },
  {
   "cell_type": "code",
   "execution_count": null,
   "metadata": {},
   "outputs": [],
   "source": [
    "values = [0, np.pi / 4, np.pi / 2]"
   ]
  },
  {
   "cell_type": "code",
   "execution_count": null,
   "metadata": {},
   "outputs": [],
   "source": [
    "qc = QuantumCircuit(3)\n",
    "for qubit, value in enumerate(values):\n",
    "    qc.ry(2 * value, qubit)\n",
    "qc.draw(\"mpl\")"
   ]
  },
  {
   "cell_type": "markdown",
   "metadata": {},
   "source": [
    "## Arbitrary Encoding\n",
    "\n",
    "In arbitrary encoding we use parameterised gates to encode up to $N$ features of one data point. To properly encode all features, we need at least $N$ parameterised gates but those can be distributed over $n$ qubits, where $n \\leq N$. As seen last week, qiskit provides several Ansätze with parameterised gates that we can also use for arbitrary encoding.\n",
    "\n",
    "For example the [`EfficientSU2`](https://qiskit.org/documentation/stubs/qiskit.circuit.library.EfficientSU2.html) circuit can encode up to $12$ features on $3$ qubits."
   ]
  },
  {
   "cell_type": "code",
   "execution_count": null,
   "metadata": {},
   "outputs": [],
   "source": [
    "from qiskit.circuit.library import EfficientSU2\n",
    "circuit = EfficientSU2(num_qubits=3, reps=1, insert_barriers=True)\n",
    "circuit.decompose().draw(\"mpl\")"
   ]
  },
  {
   "cell_type": "markdown",
   "metadata": {},
   "source": [
    "We can now bin a given data point to the just created circuit."
   ]
  },
  {
   "cell_type": "code",
   "execution_count": null,
   "metadata": {},
   "outputs": [],
   "source": [
    "x = [0.1, 0.2, 0.3, 0.4, 0.5, 0.6, 0.7, 0.8, 0.9, 1.0, 1.1, 1.2]\n",
    "encode = circuit.bind_parameters(x)\n",
    "encode.decompose().draw(\"mpl\")"
   ]
  },
  {
   "cell_type": "markdown",
   "metadata": {},
   "source": [
    "There are also Ansätze that support less parameters for binding than parameterised gates contained in the circuit. This may be the case when e.g. combinations of different features are encoded in addition to support higher order functions. In the following, we use the [`ZZFeatureMap`](https://qiskit.org/documentation/stubs/qiskit.circuit.library.ZZFeatureMap.html) on $3$ qubits. Although it contains $6$ parameterised gates, it only supports $3$ parameters."
   ]
  },
  {
   "cell_type": "code",
   "execution_count": null,
   "metadata": {},
   "outputs": [],
   "source": [
    "from qiskit.circuit.library import ZZFeatureMap\n",
    "circuit = ZZFeatureMap(3, reps=1, insert_barriers=True)\n",
    "circuit.decompose().draw(\"mpl\")"
   ]
  },
  {
   "cell_type": "code",
   "execution_count": null,
   "metadata": {},
   "outputs": [],
   "source": [
    "x = [0.1, 0.2, 0.3]\n",
    "encode = circuit.bind_parameters(x)\n",
    "encode.decompose().draw(\"mpl\")"
   ]
  },
  {
   "cell_type": "markdown",
   "metadata": {},
   "source": [
    "## Creating a QRAM\n",
    "\n",
    "A quantum random access memory (QRAM) is a data structure allowing to store a series of $n$-qubit states that are addressible via an index. Let us imagine we want to store eight different states. Each state is generated through an operator $A_i$. Our QRAM encodes the different states by generating the following state:\n",
    "\n",
    "$$ \\frac{1}{8} (|0\\rangle A_0 |0\\rangle^{\\otimes n} + |1\\rangle A_1 |0\\rangle^{\\otimes n} + \\dots + |7\\rangle A_7 |0\\rangle^{\\otimes n})$$\n",
    "\n",
    "In this case, we need to store eight elements in memory. Therefore, we need three qubits each for address and memory registers.\n",
    "\n",
    "The potential of QRAM lies in the fact that we can work with all data simultaneously as they are stored in superposition. This for example allows complex Grover searches or obtaining better performance in different QML algorithms.\n",
    "\n",
    "In the following, we want to store the values $X = \\{ 3, 6\\}$. As we only want to store $2$ values, $1$ address register is sufficient, while we may consider $3$ qubits for storing our values."
   ]
  },
  {
   "cell_type": "code",
   "execution_count": null,
   "metadata": {},
   "outputs": [],
   "source": [
    "from qiskit import QuantumRegister\n",
    "\n",
    "address = QuantumRegister(1, \"a\")\n",
    "memory = QuantumRegister(3, \"m\")\n",
    "qram = QuantumCircuit(address, memory)\n",
    "qram.h(address)\n",
    "qram.cx(address, memory[0])\n",
    "qram.cx(address, memory[2])\n",
    "qram.x(address)\n",
    "qram.cx(address, memory[0])\n",
    "qram.cx(address, memory[1])\n",
    "qram.x(address)\n",
    "qram.draw(\"mpl\")"
   ]
  },
  {
   "cell_type": "markdown",
   "metadata": {},
   "source": [
    "### Exercise\n",
    "\n",
    "The operator $A_i$ is the gate $R_Y(\\theta)$ and you want to store a list of $8$ elements of angles $\\theta_i$."
   ]
  },
  {
   "cell_type": "code",
   "execution_count": null,
   "metadata": {},
   "outputs": [],
   "source": [
    "# Add your code here"
   ]
  }
 ],
 "metadata": {
  "kernelspec": {
   "display_name": "Python 3.8.15 ('lecture3.8')",
   "language": "python",
   "name": "python3"
  },
  "language_info": {
   "codemirror_mode": {
    "name": "ipython",
    "version": 3
   },
   "file_extension": ".py",
   "mimetype": "text/x-python",
   "name": "python",
   "nbconvert_exporter": "python",
   "pygments_lexer": "ipython3",
   "version": "3.8.15"
  },
  "orig_nbformat": 4,
  "vscode": {
   "interpreter": {
    "hash": "8dc5d5bdbdf7113047e58213ff4dd76f18871061ce7c2250ed15efe3e9d22e94"
   }
  }
 },
 "nbformat": 4,
 "nbformat_minor": 2
}
