{
 "cells": [
  {
   "cell_type": "markdown",
   "metadata": {},
   "source": [
    "# Geodatenanalyse 1\n",
    "\n",
    "## Übung 5: Multivariate Statistik - Lösung"
   ]
  },
  {
   "cell_type": "markdown",
   "metadata": {},
   "source": [
    "In dieser Übung wollen wir uns mit der Analyse und Visualisierung von mehrdimensionalen Daten befassen. Dazu lesen wir zunächst den vollständigen Datensatz (Data_GW_KA.csv) mit den Grundwasserparametern aus Karlsruhe in Python ein. "
   ]
  },
  {
   "cell_type": "code",
   "execution_count": 64,
   "metadata": {},
   "outputs": [],
   "source": [
    "# [1]\n",
    "import pandas as pd  # pandas package einladen und mit der Abkürzung 'pd' versehen\n",
    "data = pd.read_csv('Data_GW_KA.csv', sep=';', encoding='cp1252') # \n",
    "\n",
    "# data = data.drop(columns=\"Pegel\") # bei Einlesen über pd.read_excel()  "
   ]
  },
  {
   "attachments": {},
   "cell_type": "markdown",
   "metadata": {},
   "source": [
    "### In 5 Schritten zur Hauptkomponentenanalyse\n",
    "\n",
    "#### 1. Standardisierung\n",
    "\n",
    "Da wir bereits gesehen haben, dass die Varianzen und Kovarianzen der Parameter in dem Datensatz unterschiedliche Größenordnungen haben, sollten die Werte sämtlicher Parameter vor der weiteren Analyse auf eine Standard-Normalvereilung transformiert werden. \n",
    "\n",
    "Dazu gibt es in dem Python Package `sklearn` die Funktion `sklearn.preprocessing.StandardScaler().fit_transform()`. Ladet diese Funktion zunächst in Euren Code ein. \n",
    "\n",
    "Für die Transformierung erzeugt Ihr als nächsts eine neue Variable (output) mit Hilfe dieser Funktion. Die erste Klammer der Funktion bleit bei der Anwendung hier leer, in die hintere fügt Ihr den Namen des zu transformierenden Datensatzes ein (input). \n",
    "\n",
    "Inspiziert anschließend den standardisierten Datensatz mit Hilfe des Befehls `print()`, und überprüft ob die Daten wie gewünscht vorwiegend zwischen -1 und +1 liegen. "
   ]
  },
  {
   "cell_type": "code",
   "execution_count": 65,
   "metadata": {},
   "outputs": [
    {
     "name": "stdout",
     "output_type": "stream",
     "text": [
      "9.109522253334618e-18\n"
     ]
    },
    {
     "data": {
      "text/plain": [
       "array([[ 4.82659722, -1.4886461 ,  0.41985703, -0.37391852, -0.94941391,\n",
       "        -0.30218424, -1.168094  ,  1.43894133,  1.45220903, -1.288304  ,\n",
       "        -0.50800051, -1.97180121, -0.63913771, -1.26059179, -1.04098467],\n",
       "       [-0.61921429, -1.31892957,  0.2275561 , -0.72458738, -0.86900752,\n",
       "        -0.38676691,  0.12011249,  0.19185884,  0.19390749, -0.54942377,\n",
       "        -0.50800051, -0.54772256, -0.61194037,  1.20619595, -1.04098467],\n",
       "       [ 0.46994801, -1.45328849, -0.49357239, -0.4853968 , -0.62778835,\n",
       "        -0.30218424, -1.168094  ,  1.43894133,  1.45220903,  0.18945647,\n",
       "        -0.50800051, -1.97180121, -0.63913771, -1.26059179, -1.04098467],\n",
       "       [-0.75066491, -1.37550175,  0.41985703,  0.19044028, -0.78860113,\n",
       "        -0.02024201, -1.168094  ,  1.43894133,  1.45220903,  0.92833671,\n",
       "        -0.50800051, -1.25976188, -0.63233838, -1.26059179,  1.48222242],\n",
       "       [-0.43142768, -0.41023895,  0.32370657,  1.2843209 , -0.62778835,\n",
       "         0.54364246,  0.19740488,  1.43894133,  1.45220903, -1.288304  ,\n",
       "        -0.50800051,  0.16431677, -0.59154235,  0.86084567, -0.68773568],\n",
       "       [ 0.13193213, -1.060819  , -0.34934669, -2.18314133,  0.29688513,\n",
       "         0.06434066, -0.62236289, -1.05522364, -1.06439404,  0.92833671,\n",
       "        -0.50800051, -0.54772256, -0.6187397 , -1.26059179,  1.48222242],\n",
       "       [-0.05585448, -1.13506999,  0.66023319,  0.74316352, -0.46697557,\n",
       "        -0.30218424,  0.51125883,  1.43894133,  1.45220903,  0.92833671,\n",
       "        -0.50800051, -1.25976188, -0.62553904, -1.26059179, -1.04098467],\n",
       "       [-0.2811984 , -0.54459788,  0.69388586, -1.07762516,  0.05566596,\n",
       "        -0.30218424,  0.51125883, -1.05522364, -1.06439404,  0.92833671,\n",
       "        -0.50800051,  0.16431677,  0.06119404, -1.26059179,  1.48222242],\n",
       "       [-0.71310759,  0.1130537 , -0.17146833,  0.45986934, -0.74839793,\n",
       "        -0.10482468,  0.74547819,  0.19185884,  0.19390749,  0.92833671,\n",
       "        -0.50800051, -0.54772256, -0.55074633, -1.26059179,  1.48222242],\n",
       "       [-0.90089419, -1.01485411, -0.65222065, -0.4482606 ,  0.21647874,\n",
       "         5.90054486,  0.35433186, -1.05522364, -1.06439404,  0.92833671,\n",
       "        -0.50800051,  0.87635609,  0.20398012,  0.98418506, -0.81389603],\n",
       "       [-0.80700089, -0.90524551, -0.42626706, -1.89510933,  0.01546277,\n",
       "        -0.24579579, -1.168094  , -1.05522364, -1.06439404, -0.54942377,\n",
       "        -0.50800051, -1.25976188,  1.07429531, -1.26059179,  1.48222242],\n",
       "       [-0.61921429, -0.61177734,  1.12656295, -2.30618548,  0.33708832,\n",
       "         0.12072911, -0.77694767,  0.19185884,  0.19390749, -0.54942377,\n",
       "        -0.50800051, -0.54772256, -0.59834169, -1.26059179,  1.48222242],\n",
       "       [-0.80700089, -0.53045483, -0.52722505,  0.49700555, -0.9896171 ,\n",
       "         0.3462829 ,  1.75964804,  0.19185884,  0.19390749,  0.92833671,\n",
       "        -0.50800051,  0.87635609, -0.61194037, -0.02719792,  0.22061888],\n",
       "       [-0.45020634,  0.19791196, -1.05605261, -0.99631569, -0.78860113,\n",
       "        -0.38676691,  1.29120931,  1.43894133,  1.45220903, -1.288304  ,\n",
       "        -0.50800051, -0.54772256, -0.40796024, -1.26059179,  1.48222242],\n",
       "       [-0.61921429, -0.2511297 , -1.02239995, -0.30424459, -0.62778835,\n",
       "        -0.02024201,  1.52542867, -1.05522364, -1.06439404, -1.288304  ,\n",
       "        -0.50800051,  0.87635609, -0.59834169,  1.20619595, -1.04098467],\n",
       "       [-0.80700089, -0.82745877, -0.34934669, -0.26473948, -1.11022668,\n",
       "        -0.02024201,  1.44813628,  0.19185884, -0.64915453, -0.54942377,\n",
       "        -0.50800051, -1.25976188, -0.60514103,  1.20619595, -1.04098467],\n",
       "       [-0.80700089, -1.20578521, -0.95990214, -0.45055984, -1.47205544,\n",
       "        -0.30218424,  0.43162425,  0.19185884, -0.22133201, -0.54942377,\n",
       "        -0.50800051, -0.54772256,  1.23068007,  1.18152808, -1.0157526 ],\n",
       "       [-0.43142768,  1.31521249,  0.309284  ,  0.68742438, -0.02474043,\n",
       "        -0.35857268, -1.168094  ,  0.19185884, -0.22133201, -1.288304  ,\n",
       "        -0.50800051, -1.25976188, -0.58474302, -1.26059179,  1.48222242],\n",
       "       [ 0.07559615, -0.11323502,  0.2900539 ,  0.72463026,  0.13607235,\n",
       "        -0.38676691,  0.58855122, -1.05522364, -1.06439404,  0.92833671,\n",
       "        -0.50800051,  0.87635609, -0.38076289,  1.00885294, -0.8391281 ],\n",
       "       [-0.24364108,  0.33227089,  0.67465576,  0.88488029,  0.4979011 ,\n",
       "        -0.35857268,  1.91657501,  0.19185884,  0.19390749,  0.92833671,\n",
       "        -0.50800051,  0.87635609, -0.46915428,  0.68817053, -0.51111118],\n",
       "       [-0.0934118 ,  1.08538801,  0.91503193, -0.07432064, -4.28627906,\n",
       "        -0.38676691,  1.91657501, -1.05522364, -1.06439404, -0.54942377,\n",
       "        -0.50800051,  0.87635609,  0.52354898, -0.93990938,  1.17943757],\n",
       "       [ 0.03803882, -0.1238423 ,  0.62658053, -0.51556561,  0.94013624,\n",
       "         0.91016736,  0.97969756, -1.05522364, -1.06439404,  0.92833671,\n",
       "        -0.50800051,  0.87635609, -0.48275295,  0.9348493 , -0.76343189],\n",
       "       [-0.05585448,  0.37470002,  1.66981308,  0.53651066,  0.45769791,\n",
       "        -0.24579579, -0.30850894,  1.43894133,  1.45220903,  0.92833671,\n",
       "        -0.50800051,  1.58839542, -0.12238807,  1.00885294, -0.8391281 ],\n",
       "       [ 0.07559615,  1.15610323,  1.23713598,  0.71069547,  1.06074583,\n",
       "        -0.02024201,  0.43162425, -1.05522364, -0.64915453,  0.92833671,\n",
       "        -0.50800051,  0.87635609, -0.564345  , -0.32321245,  0.5486358 ],\n",
       "       [-0.24364108,  0.59745297,  0.45350969,  0.55504393,  0.37729152,\n",
       "        -0.30218424, -0.62236289,  0.19185884, -0.22133201,  0.92833671,\n",
       "        -0.50800051,  0.87635609,  0.74792711,  1.20619595, -1.04098467],\n",
       "       [-0.82577955,  0.20144772, -0.07531786, -0.35998373,  0.41749471,\n",
       "        -0.30218424,  0.27703947,  1.43894133,  1.03696952,  0.92833671,\n",
       "        -0.50800051,  0.87635609,  0.01359867,  0.63883477, -0.46064704],\n",
       "       [-0.43142768, -0.64713495,  1.92461181, -0.23227143,  0.37729152,\n",
       "        -0.38676691, -1.05098432, -1.05522364, -1.06439404,  0.92833671,\n",
       "        -0.50800051, -1.25976188, -0.63233838, -1.26059179,  1.48222242],\n",
       "       [ 0.41361203,  0.44541524,  0.83811155,  0.12306559,  0.69891708,\n",
       "        -0.24579579,  0.35433186, -1.05522364, -1.06439404,  0.92833671,\n",
       "        -0.50800051,  0.16431677, -0.55074633,  0.63883477, -0.46064704],\n",
       "       [ 0.35727605,  1.2232827 ,  1.07848772,  1.19604404,  0.29688513,\n",
       "         0.03614644, -0.97369193,  0.19185884,  0.609147  ,  0.92833671,\n",
       "        -0.50800051,  0.87635609,  1.76102838, -0.76723424,  0.977581  ],\n",
       "       [ 0.35727605,  0.27216295,  1.82846134,  0.64102155,  0.4979011 ,\n",
       "        -0.30218424,  0.97969756,  0.19185884,  0.609147  , -1.288304  ,\n",
       "        -0.50800051,  0.16431677,  3.64444484,  0.34282025, -0.15786219],\n",
       "       [-0.60043563, -0.09909197,  1.27078865,  3.49528357,  0.29688513,\n",
       "         0.26170023,  0.90006297, -1.05522364, -1.06439404, -1.288304  ,\n",
       "        -0.50800051,  0.16431677,  0.24477615,  0.36748812, -0.18309426],\n",
       "       [ 0.30094007, -0.62238462, -1.35892657,  0.078962  ,  0.57830749,\n",
       "         0.03614644, -1.2079113 , -1.05522364, -1.06439404,  0.92833671,\n",
       "         1.96850197, -1.25976188, -0.53714765,  1.20619595, -1.04098467],\n",
       "       [ 0.31971873,  0.71413309, -1.26277611, -0.26244024,  1.10094902,\n",
       "        -0.35857268, -0.89405735,  1.43894133,  1.45220903, -1.288304  ,\n",
       "         1.96850197,  2.30043474,  2.80132701,  1.13219232, -0.96528846],\n",
       "       [ 0.31971873,  0.22266229, -1.37334914,  0.45053304,  0.65871388,\n",
       "        -0.44315535, -0.03681448, -1.05522364, -1.06439404, -1.288304  ,\n",
       "         1.96850197,  0.87635609, -0.57794368, -0.02719792,  0.22061888],\n",
       "       [ 2.57315797,  2.67648053, -1.344504  ,  0.80823897,  1.02054263,\n",
       "        -0.07663045, -0.69965528,  1.43894133,  1.45220903,  0.92833671,\n",
       "         1.96850197, -0.54772256, -0.42835826,  0.95951718, -0.78866396],\n",
       "       [ 0.41361203,  1.25156879, -1.46949961, -0.74785847,  0.65871388,\n",
       "        -0.44315535, -1.2079113 ,  0.19185884,  0.609147  , -1.288304  ,\n",
       "         1.96850197,  0.16431677,  1.79502507, -0.61922697,  0.82618858],\n",
       "       [ 0.31971873,  1.94811373, -1.29642877, -0.16719598,  1.14115222,\n",
       "        -0.44315535, -0.97369193,  0.19185884,  0.609147  , -1.288304  ,\n",
       "         1.96850197,  0.87635609, -0.02719735, -0.19987306,  0.39724337],\n",
       "       [ 0.28216141, -0.06373436, -1.35892657,  0.0719946 ,  1.06074583,\n",
       "        -0.44315535, -0.97369193, -1.05522364, -1.06439404, -1.288304  ,\n",
       "         1.96850197,  0.16431677, -0.53034832,  0.86084567, -0.68773568],\n",
       "       [ 0.31971873,  1.67586012, -1.44065447, -0.26940763,  1.18135541,\n",
       "        -0.02024201, -1.05098432, -1.05522364, -0.64915453,  0.92833671,\n",
       "         1.96850197,  0.16431677, -0.48275295,  0.392156  , -0.20832633]])"
      ]
     },
     "execution_count": 65,
     "metadata": {},
     "output_type": "execute_result"
    }
   ],
   "source": [
    "# [2] \n",
    "\n",
    "# gewünschtes Packages/gewünschte Funktion einladen\n",
    "from sklearn.preprocessing import StandardScaler \n",
    "import numpy as np\n",
    "\n",
    "# output = Funktion(input)\n",
    "data_std = StandardScaler().fit_transform(data)\n",
    "mean = np.mean(data_std)\n",
    "# print (output)\n",
    "print(mean)\n",
    "\n",
    "data_std"
   ]
  },
  {
   "cell_type": "markdown",
   "metadata": {},
   "source": [
    "#### 2. Eigenwerte und Eigenvektoren bestimmen\n",
    "\n",
    "Berechnet für die Bestimmung der Eigenwerte zuerst die Kovarianzmatrix der standardisierten Daten mit Hilfe von `numpy` und der Funktion `numpy.cov(data.T)`. Wichtig ist hier das `.T` hinter dem Datensatz, das die transponierte Matrix von dem Datensats bildet, das vereinfacht die weitere Handhabung der Matrizen. \n",
    "\n",
    "Anschließend könnt Ihr mit der Funktion `numpy.linalg.eig()` die Eigenwerte und Eigenvektoren der Kovarianzmatrix berechnen. Dafür müsst Ihr zwei Outputs definieren, und als Input die zuvor berechnete Kovarianzmatrix nehmen.   "
   ]
  },
  {
   "cell_type": "code",
   "execution_count": 66,
   "metadata": {},
   "outputs": [
    {
     "name": "stdout",
     "output_type": "stream",
     "text": [
      "[[ 1.02631579e+00  1.84719598e-01 -8.69440726e-02  4.46882576e-02\n",
      "   1.36302760e-01 -1.81242936e-01 -3.55866558e-01  2.42718455e-01\n",
      "   3.08165968e-01 -1.14381300e-01  3.15998223e-01 -2.08389560e-01\n",
      "  -8.87729018e-03 -9.26690686e-02 -2.53206116e-01]\n",
      " [ 1.84719598e-01  1.02631579e+00 -1.46588767e-01  3.07524955e-01\n",
      "   3.56611865e-01 -1.95991191e-01 -7.65247773e-02 -2.74827912e-02\n",
      "   6.29534190e-02 -3.51136760e-02  5.08510652e-01  4.88231121e-01\n",
      "   2.34985224e-01  1.37214750e-01  1.31849150e-01]\n",
      " [-8.69440726e-02 -1.46588767e-01  1.02631579e+00  2.71991339e-01\n",
      "  -1.29201119e-01 -6.14004168e-02  2.12383128e-01 -1.81439072e-02\n",
      "  -8.26261987e-03  2.62269580e-01 -7.10695292e-01  5.04463564e-03\n",
      "   5.51790182e-02 -2.24651631e-01  1.92273920e-01]\n",
      " [ 4.46882576e-02  3.07524955e-01  2.71991339e-01  1.02631579e+00\n",
      "   6.71009444e-02 -2.78239160e-02  2.36120321e-01  7.97279898e-02\n",
      "   9.64961674e-02  1.12890684e-02 -2.42265281e-03  2.39654626e-01\n",
      "   4.28721207e-02  2.98212466e-01 -2.96898003e-01]\n",
      " [ 1.36302760e-01  3.56611865e-01 -1.29201119e-01  6.71009444e-02\n",
      "   1.02631579e+00  5.17760705e-02 -4.44735569e-01 -1.28386489e-01\n",
      "  -4.43861350e-02  1.59591070e-01  4.82297578e-01  2.59548581e-01\n",
      "   8.89770802e-02  2.46406135e-01 -1.18449805e-01]\n",
      " [-1.81242936e-01 -1.95991191e-01 -6.14004168e-02 -2.78239160e-02\n",
      "   5.17760705e-02  1.02631579e+00  1.15332272e-01 -1.97724554e-01\n",
      "  -1.98264275e-01  2.10612799e-01 -1.42849884e-01  1.58205496e-01\n",
      "  -3.16913734e-02  2.03012696e-01 -1.47730904e-01]\n",
      " [-3.55866558e-01 -7.65247773e-02  2.12383128e-01  2.36120321e-01\n",
      "  -4.44735569e-01  1.15332272e-01  1.02631579e+00 -1.50326279e-01\n",
      "  -2.02527131e-01  3.52122335e-02 -4.59112139e-01  3.36726967e-01\n",
      "  -6.67419464e-02  2.50069458e-01 -1.33054096e-01]\n",
      " [ 2.42718455e-01 -2.74827912e-02 -1.81439072e-02  7.97279898e-02\n",
      "  -1.28386489e-01 -1.97724554e-01 -1.50326279e-01  1.02631579e+00\n",
      "   9.94603298e-01 -1.10051076e-01 -6.25182766e-02 -1.72561316e-01\n",
      "   8.45702053e-02 -9.74572952e-02 -1.88352961e-01]\n",
      " [ 3.08165968e-01  6.29534190e-02 -8.26261987e-03  9.64961674e-02\n",
      "  -4.43861350e-02 -1.98264275e-01 -2.02527131e-01  9.94603298e-01\n",
      "   1.02631579e+00 -1.10859190e-01  1.82723778e-02 -1.11450916e-01\n",
      "   1.50319933e-01 -1.57226816e-01 -1.29595807e-01]\n",
      " [-1.14381300e-01 -3.51136760e-02  2.62269580e-01  1.12890684e-02\n",
      "   1.59591070e-01  2.10612799e-01  3.52122335e-02 -1.10051076e-01\n",
      "  -1.10859190e-01  1.02631579e+00 -2.38298837e-01  5.11201735e-02\n",
      "  -2.91121554e-01  1.10441924e-02  2.76758791e-04]\n",
      " [ 3.15998223e-01  5.08510652e-01 -7.10695292e-01 -2.42265281e-03\n",
      "   4.82297578e-01 -1.42849884e-01 -4.59112139e-01 -6.25182766e-02\n",
      "   1.82723778e-02 -2.38298837e-01  1.02631579e+00  1.78478457e-01\n",
      "   1.31163644e-01  2.41433521e-01 -1.46436130e-01]\n",
      " [-2.08389560e-01  4.88231121e-01  5.04463564e-03  2.39654626e-01\n",
      "   2.59548581e-01  1.58205496e-01  3.36726967e-01 -1.72561316e-01\n",
      "  -1.11450916e-01  5.11201735e-02  1.78478457e-01  1.02631579e+00\n",
      "   3.48580484e-01  5.02863778e-01 -1.67696906e-01]\n",
      " [-8.87729018e-03  2.34985224e-01  5.51790182e-02  4.28721207e-02\n",
      "   8.89770802e-02 -3.16913734e-02 -6.67419464e-02  8.45702053e-02\n",
      "   1.50319933e-01 -2.91121554e-01  1.31163644e-01  3.48580484e-01\n",
      "   1.02631579e+00  1.14406256e-01  9.36363861e-03]\n",
      " [-9.26690686e-02  1.37214750e-01 -2.24651631e-01  2.98212466e-01\n",
      "   2.46406135e-01  2.03012696e-01  2.50069458e-01 -9.74572952e-02\n",
      "  -1.57226816e-01  1.10441924e-02  2.41433521e-01  5.02863778e-01\n",
      "   1.14406256e-01  1.02631579e+00 -7.99517386e-01]\n",
      " [-2.53206116e-01  1.31849150e-01  1.92273920e-01 -2.96898003e-01\n",
      "  -1.18449805e-01 -1.47730904e-01 -1.33054096e-01 -1.88352961e-01\n",
      "  -1.29595807e-01  2.76758791e-04 -1.46436130e-01 -1.67696906e-01\n",
      "   9.36363861e-03 -7.99517386e-01  1.02631579e+00]]\n"
     ]
    }
   ],
   "source": [
    "# [3] \n",
    "\n",
    "# benötigtes Packages/benötigte Funktion einladen\n",
    "import numpy\n",
    "\n",
    "# Kovarianzmatrix berechnen\n",
    "cov_std = np.cov(data_std.T)\n",
    "\n",
    "print(cov_std)\n",
    "\n",
    "# Eigenwerte und Eigenvektoren berechnen \n",
    "eig_vals, eig_vecs = numpy.linalg.eig(cov_std)"
   ]
  },
  {
   "attachments": {},
   "cell_type": "markdown",
   "metadata": {},
   "source": [
    "#### 3. Hauptkomponenten bestimmen\n",
    "\n",
    "Das Ziel der Hauptkomponentenanalyse ist es die Dimensionen des Datensatzes zu reduzieren, z.B. auf zwei für eine 2D-Visualisierung. Die Richtung dieser Achsen im Parameterraum entspricht den Eigenvektoren (mit Einheitslänge 1). Damit möglichst viel Information in Form der Varianz in den zwei Dimensionen erhalten bleibt, suchen wir nun jene Eigenvektoren mit den größter Eigenwerten. \n",
    "\n",
    "Definiert dafür einen Parameter vom Typ `list` ohne Inhalt als `name = [[]]*n`, mit `n` als Dimension entsprechend der Anzahl der Eigenwerte. Darin wollen wir in jeder Zeile jeweils die gepaarten Eigenwerte und Eigenvektoren abbilden.  \n",
    "\n",
    "Füllt dafür die Zeilen der Liste über eine `for` Schleife (mit der Länge entsprechend der Anzahl der Eigenwerte) mit den Absolutwerten der jeweiligen Eigenwerten und den Werten der Eigenvektoren. Die Absolutwerte eines Arrays könnt Ihr mit Hilfe von `numpy.abs(array)` berechnen. \n",
    "\n",
    "Achtung: in der Schleife erfolgt die Indizierung bei den Eigenwerten zeilenweise (also mit einem einfachem Index `[i]`), die Indizierung der Eigenvektoren spaltenweise (also `[:,i]`), da es sich bei diesem um eine 15x15 Matrix handelt!"
   ]
  },
  {
   "cell_type": "code",
   "execution_count": 67,
   "metadata": {},
   "outputs": [
    {
     "data": {
      "text/plain": [
       "[[(2.9836238237533426,\n",
       "   array([ 0.2148891 ,  0.36525401, -0.3106417 ,  0.14084981,  0.35038887,\n",
       "          -0.04576564, -0.18700741,  0.06595438,  0.10616576, -0.12772047,\n",
       "           0.48594361,  0.26271961,  0.18711692,  0.32114993, -0.26265975]))],\n",
       " [(2.6993292050779902,\n",
       "   array([ 0.30597167, -0.0361922 , -0.0774804 , -0.16143611, -0.04838644,\n",
       "          -0.2683428 , -0.35908707,  0.40609975,  0.4225409 , -0.16050311,\n",
       "           0.09428273, -0.3677747 , -0.00352115, -0.36541961,  0.15100853]))],\n",
       " [(2.112678315826859,\n",
       "   array([-0.0474351 ,  0.06298973, -0.23767105, -0.3621254 ,  0.2095852 ,\n",
       "           0.01563145, -0.30139367, -0.45432325, -0.42019243,  0.01395556,\n",
       "           0.27348796, -0.12003095, -0.10106322, -0.23134237,  0.36749044]))],\n",
       " [(1.6638379463351165,\n",
       "   array([ 0.11453328, -0.45640463, -0.34615694, -0.20206703, -0.03688456,\n",
       "           0.28181817, -0.0743677 ,  0.03392131, -0.04073742,  0.06942486,\n",
       "           0.05722007, -0.30319328, -0.3747602 ,  0.26553329, -0.46671755]))],\n",
       " [(1.399931928284101,\n",
       "   array([-0.20589664, -0.10458973, -0.35031843, -0.21651944, -0.42793628,\n",
       "          -0.09105961,  0.25727604, -0.01625671, -0.05390966, -0.64430143,\n",
       "           0.08513773,  0.05089881,  0.29524018,  0.05940282,  0.02494335]))],\n",
       " [(1.1114481143161603,\n",
       "   array([ 0.3151731 ,  0.1426799 ,  0.04005907,  0.38939251, -0.19759662,\n",
       "          -0.50900621,  0.18911527, -0.23105957, -0.25518749, -0.1720544 ,\n",
       "           0.09192964, -0.21819751, -0.42193578,  0.0114181 , -0.10415127]))],\n",
       " [(0.9099974191526584,\n",
       "   array([-0.34070474,  0.29638496, -0.40250703, -0.07041767, -0.14174355,\n",
       "          -0.05833214,  0.27182231,  0.2440255 ,  0.21802554,  0.29708362,\n",
       "           0.13632733,  0.16862589, -0.49476447, -0.056597  ,  0.2033894 ]))],\n",
       " [(0.7138897527203091,\n",
       "   array([ 0.41650824,  0.23287539, -0.09664161,  0.24870539, -0.2604347 ,\n",
       "           0.71443758,  0.10026801, -0.0525134 ,  0.01856611, -0.12561608,\n",
       "           0.04253762, -0.00130757, -0.04973056, -0.25998768,  0.14844315]))],\n",
       " [(0.6439881233998792,\n",
       "   array([ 0.54530896,  0.11990397,  0.03654587, -0.57806822, -0.22410876,\n",
       "          -0.16790029,  0.2408093 , -0.06488592, -0.03666708,  0.32565639,\n",
       "          -0.06806461,  0.26281886,  0.13536765,  0.02205362, -0.11060878]))],\n",
       " [(0.4373833344140538,\n",
       "   array([-0.12421966,  0.03522716, -0.21254353,  0.26955603, -0.46072352,\n",
       "          -0.07269772, -0.17404993, -0.05911819, -0.08787701,  0.52316204,\n",
       "           0.17792287, -0.30248008,  0.45388296,  0.03187042, -0.05056444]))],\n",
       " [(0.015573253533873987,\n",
       "   array([-0.02490408,  0.00421306, -0.05040021, -0.00593088, -0.03478329,\n",
       "          -0.02673964, -0.02791656, -0.6915737 ,  0.69734963, -0.00646019,\n",
       "          -0.09930369, -0.0541005 , -0.02819779,  0.12361564,  0.02461739]))],\n",
       " [(0.07559529094947649,\n",
       "   array([ 0.26387094, -0.23899608, -0.08530976,  0.10137257,  0.00630055,\n",
       "          -0.0194664 ,  0.00958818,  0.12286502, -0.01423147,  0.04151718,\n",
       "          -0.05329445, -0.02320505,  0.00077458,  0.61327849,  0.67725651]))],\n",
       " [(0.11742792408349244,\n",
       "   array([-0.09881101, -0.07622561,  0.542843  , -0.16304635, -0.09285706,\n",
       "           0.12572494,  0.24389365,  0.01256162,  0.12195872,  0.00806743,\n",
       "           0.71629534, -0.185437  , -0.04042202,  0.10877635,  0.05675525]))],\n",
       " [(0.2690126928961563,\n",
       "   array([ 0.11285436, -0.24672683, -0.26959342,  0.13036642,  0.47700022,\n",
       "          -0.05627676,  0.61870308, -0.02963598,  0.05487345,  0.12875347,\n",
       "           0.06778827, -0.22854531,  0.2624753 , -0.27394843,  0.04458579]))],\n",
       " [(0.24101971736180328,\n",
       "   array([-0.0894959 ,  0.58326316,  0.04265802, -0.23685271,  0.1400589 ,\n",
       "           0.10717142,  0.14962633,  0.07143261, -0.05107987, -0.077382  ,\n",
       "          -0.27228765, -0.60008017,  0.07872248,  0.29167563, -0.03430733]))]]"
      ]
     },
     "execution_count": 67,
     "metadata": {},
     "output_type": "execute_result"
    }
   ],
   "source": [
    "# [4]\n",
    "# neuen, leeren Parameter erzeugen\n",
    "eig_pairs = [[]]*(len(eig_vals))\n",
    "\n",
    "# for-Schleife definieren \n",
    "# for Schleife füllen: Zeile[i] = [(Absolutwert_Eigenwert, Werte_Eigenvektoren)]\n",
    "for i in range(len(eig_vals)):\n",
    "    eig_pairs[i] = [(numpy.abs(eig_vals[i]), eig_vecs[:,i])]\n",
    "\n",
    "eig_pairs\n"
   ]
  },
  {
   "cell_type": "markdown",
   "metadata": {},
   "source": [
    "Nun müssen wir noch die Zeilen mit den größten Eigenwerten identifizieren. Sortiert dafür die Liste mit den Eigenwerten- und Eigenvektoren-Paaren in absteigender Reihenfolge. \n",
    "\n",
    "Bei Listen könnt ihr den Befehl `Liste.sort()` benutzen um Euch die Werte in aufsteigende Reihenfolgen ausgeben zu lassen. Dabei wird der erste Wert jeder Zeile berücksichtigt (also hier der Eigenwert). \n",
    "\n",
    "Danach könnt Ihr mit `Liste.reverse()` davon die umgekehrte Reihenfolge bilden, sodass der größte Eigenwert oben steht. \n",
    "\n",
    "Überprüft dies mit Hilfe des `print()`-Befehls.  "
   ]
  },
  {
   "cell_type": "code",
   "execution_count": 68,
   "metadata": {},
   "outputs": [
    {
     "name": "stdout",
     "output_type": "stream",
     "text": [
      "[[(2.9836238237533426, array([ 0.2148891 ,  0.36525401, -0.3106417 ,  0.14084981,  0.35038887,\n",
      "       -0.04576564, -0.18700741,  0.06595438,  0.10616576, -0.12772047,\n",
      "        0.48594361,  0.26271961,  0.18711692,  0.32114993, -0.26265975]))], [(2.6993292050779902, array([ 0.30597167, -0.0361922 , -0.0774804 , -0.16143611, -0.04838644,\n",
      "       -0.2683428 , -0.35908707,  0.40609975,  0.4225409 , -0.16050311,\n",
      "        0.09428273, -0.3677747 , -0.00352115, -0.36541961,  0.15100853]))], [(2.112678315826859, array([-0.0474351 ,  0.06298973, -0.23767105, -0.3621254 ,  0.2095852 ,\n",
      "        0.01563145, -0.30139367, -0.45432325, -0.42019243,  0.01395556,\n",
      "        0.27348796, -0.12003095, -0.10106322, -0.23134237,  0.36749044]))], [(1.6638379463351165, array([ 0.11453328, -0.45640463, -0.34615694, -0.20206703, -0.03688456,\n",
      "        0.28181817, -0.0743677 ,  0.03392131, -0.04073742,  0.06942486,\n",
      "        0.05722007, -0.30319328, -0.3747602 ,  0.26553329, -0.46671755]))], [(1.399931928284101, array([-0.20589664, -0.10458973, -0.35031843, -0.21651944, -0.42793628,\n",
      "       -0.09105961,  0.25727604, -0.01625671, -0.05390966, -0.64430143,\n",
      "        0.08513773,  0.05089881,  0.29524018,  0.05940282,  0.02494335]))], [(1.1114481143161603, array([ 0.3151731 ,  0.1426799 ,  0.04005907,  0.38939251, -0.19759662,\n",
      "       -0.50900621,  0.18911527, -0.23105957, -0.25518749, -0.1720544 ,\n",
      "        0.09192964, -0.21819751, -0.42193578,  0.0114181 , -0.10415127]))], [(0.9099974191526584, array([-0.34070474,  0.29638496, -0.40250703, -0.07041767, -0.14174355,\n",
      "       -0.05833214,  0.27182231,  0.2440255 ,  0.21802554,  0.29708362,\n",
      "        0.13632733,  0.16862589, -0.49476447, -0.056597  ,  0.2033894 ]))], [(0.7138897527203091, array([ 0.41650824,  0.23287539, -0.09664161,  0.24870539, -0.2604347 ,\n",
      "        0.71443758,  0.10026801, -0.0525134 ,  0.01856611, -0.12561608,\n",
      "        0.04253762, -0.00130757, -0.04973056, -0.25998768,  0.14844315]))], [(0.6439881233998792, array([ 0.54530896,  0.11990397,  0.03654587, -0.57806822, -0.22410876,\n",
      "       -0.16790029,  0.2408093 , -0.06488592, -0.03666708,  0.32565639,\n",
      "       -0.06806461,  0.26281886,  0.13536765,  0.02205362, -0.11060878]))], [(0.4373833344140538, array([-0.12421966,  0.03522716, -0.21254353,  0.26955603, -0.46072352,\n",
      "       -0.07269772, -0.17404993, -0.05911819, -0.08787701,  0.52316204,\n",
      "        0.17792287, -0.30248008,  0.45388296,  0.03187042, -0.05056444]))], [(0.2690126928961563, array([ 0.11285436, -0.24672683, -0.26959342,  0.13036642,  0.47700022,\n",
      "       -0.05627676,  0.61870308, -0.02963598,  0.05487345,  0.12875347,\n",
      "        0.06778827, -0.22854531,  0.2624753 , -0.27394843,  0.04458579]))], [(0.24101971736180328, array([-0.0894959 ,  0.58326316,  0.04265802, -0.23685271,  0.1400589 ,\n",
      "        0.10717142,  0.14962633,  0.07143261, -0.05107987, -0.077382  ,\n",
      "       -0.27228765, -0.60008017,  0.07872248,  0.29167563, -0.03430733]))], [(0.11742792408349244, array([-0.09881101, -0.07622561,  0.542843  , -0.16304635, -0.09285706,\n",
      "        0.12572494,  0.24389365,  0.01256162,  0.12195872,  0.00806743,\n",
      "        0.71629534, -0.185437  , -0.04042202,  0.10877635,  0.05675525]))], [(0.07559529094947649, array([ 0.26387094, -0.23899608, -0.08530976,  0.10137257,  0.00630055,\n",
      "       -0.0194664 ,  0.00958818,  0.12286502, -0.01423147,  0.04151718,\n",
      "       -0.05329445, -0.02320505,  0.00077458,  0.61327849,  0.67725651]))], [(0.015573253533873987, array([-0.02490408,  0.00421306, -0.05040021, -0.00593088, -0.03478329,\n",
      "       -0.02673964, -0.02791656, -0.6915737 ,  0.69734963, -0.00646019,\n",
      "       -0.09930369, -0.0541005 , -0.02819779,  0.12361564,  0.02461739]))]]\n"
     ]
    }
   ],
   "source": [
    "# [5] \n",
    "\n",
    "# Wertepaare sortieren \n",
    "eig_pairs_sorted = sorted(eig_pairs, key=lambda x: x[0], reverse=True) # Befehle aus dem Text funktionieren in Python 3.11 nicht mehr \n",
    "\n",
    "# sortierte Wertepaare anzeigen lassen\n",
    "print(eig_pairs_sorted)"
   ]
  },
  {
   "attachments": {},
   "cell_type": "markdown",
   "metadata": {},
   "source": [
    "Die zwei obersten Zeileneinträge entsprechen den gesuchten Hauptkomponenten entlang der größten Varianzen. Speichert diese in separaten Variablen (ebenfalls vom Typ `list`) ab `name1 = name2[index]`. \n",
    "Benutzt den korrekten Index für Zeilen! \n",
    "\n",
    "Lasst Euch die beiden Variablen nochmal zur Kontrolle anzeigen."
   ]
  },
  {
   "cell_type": "code",
   "execution_count": 69,
   "metadata": {},
   "outputs": [
    {
     "name": "stdout",
     "output_type": "stream",
     "text": [
      "[(2.9836238237533426, array([ 0.2148891 ,  0.36525401, -0.3106417 ,  0.14084981,  0.35038887,\n",
      "       -0.04576564, -0.18700741,  0.06595438,  0.10616576, -0.12772047,\n",
      "        0.48594361,  0.26271961,  0.18711692,  0.32114993, -0.26265975]))] [(2.6993292050779902, array([ 0.30597167, -0.0361922 , -0.0774804 , -0.16143611, -0.04838644,\n",
      "       -0.2683428 , -0.35908707,  0.40609975,  0.4225409 , -0.16050311,\n",
      "        0.09428273, -0.3677747 , -0.00352115, -0.36541961,  0.15100853]))]\n"
     ]
    }
   ],
   "source": [
    "# [6]\n",
    "# Hauptkomponenten 1 und 2 basierend auf Wertepaaren definieren\n",
    "pc1 = eig_pairs[0]\n",
    "pc2 = eig_pairs[1]\n",
    "\n",
    "# Hauptkomponenten anzeigen lassen\n",
    "print(pc1, pc2)"
   ]
  },
  {
   "cell_type": "markdown",
   "metadata": {},
   "source": [
    "#### 4. Projektionsmatrix konstruieren\n",
    "\n",
    "Mit Hilfe der Projektionsmatrix wollen wir nun die ursprünglichen Daten auf die zwei eben identifizierten Achsen der Hauptkomponenten transformieren. Um 15 Parameter auf 2 Dimensionen zu reduzieren brauchen wir also eine (15 x 2) Matrix, deren Spalten den beiden Eigenvektoren mit den größten Eigenwerten entsprechen. \n",
    "\n",
    "Diese Eigenvektoren habt Ihr bereits im letzten Schritt (zusammen mit den Eigenwerten) als `list` gespeichtert. Fügt die beiden obersten Vektoren nun mit Hilfe von `numpy.stack((Vektor1, Vektor2))` und dem zusätzlichen Argument `axis=-1` für eine horiziontale Ausrichtung zu einer Matrix `W` zusammen. \n",
    "\n",
    "Als Erinnerung: Die Indizierung bei Listen funktioniert nach dem Prinzip `\"list[Zeile][Spalte]\"`. Schaut nochmal im letzten Ausgabefenster oben nach, in welcher Zelle der Hauptkomponenten sich die Eigenvektoren befinden.  \n",
    "\n",
    "Lasst Euch anschließend \"W\" anzeigen, um die Dimensionen zu überprüfen."
   ]
  },
  {
   "cell_type": "code",
   "execution_count": 70,
   "metadata": {},
   "outputs": [
    {
     "name": "stdout",
     "output_type": "stream",
     "text": [
      "[[ 0.2148891   0.30597167]\n",
      " [ 0.36525401 -0.0361922 ]\n",
      " [-0.3106417  -0.0774804 ]\n",
      " [ 0.14084981 -0.16143611]\n",
      " [ 0.35038887 -0.04838644]\n",
      " [-0.04576564 -0.2683428 ]\n",
      " [-0.18700741 -0.35908707]\n",
      " [ 0.06595438  0.40609975]\n",
      " [ 0.10616576  0.4225409 ]\n",
      " [-0.12772047 -0.16050311]\n",
      " [ 0.48594361  0.09428273]\n",
      " [ 0.26271961 -0.3677747 ]\n",
      " [ 0.18711692 -0.00352115]\n",
      " [ 0.32114993 -0.36541961]\n",
      " [-0.26265975  0.15100853]]\n"
     ]
    }
   ],
   "source": [
    "# [7]\n",
    "# W definieren\n",
    "matrix_W = numpy.stack((pc1[0][1], pc2[0][1]), axis=-1) # ggfs. Indizierung anpassen, falls pc.size() abweicht \n",
    "\n",
    "# W anzeigen lassen \n",
    "print (matrix_W)"
   ]
  },
  {
   "cell_type": "markdown",
   "metadata": {},
   "source": [
    "#### 5. Projektion auf neue Ebenen und Visualisierung\n",
    "\n",
    "Jetzt könnt Ihr über die Gleichung `Y = data x W ` die Transformation Eurer standardisierten Matrix von oben durchführen. Matrixmultiplikation in Python kann mit `matrix1.dot(matrix2)` durchgeführt werden. Die Output-Matrix Y sollte dann 39 x 2 (Datenpunkte x Hauptkomponenten) Dimensionen haben.  "
   ]
  },
  {
   "cell_type": "code",
   "execution_count": 71,
   "metadata": {},
   "outputs": [
    {
     "name": "stdout",
     "output_type": "stream",
     "text": [
      "78\n"
     ]
    }
   ],
   "source": [
    "# [8]\n",
    "# Matrixmultiplikation\n",
    "Y = data_std.dot(matrix_W)\n",
    "\n",
    "# Größe der Matrix anzeigen lassen\n",
    "print(numpy.size(Y))"
   ]
  },
  {
   "attachments": {},
   "cell_type": "markdown",
   "metadata": {},
   "source": [
    "Diese transformierte Matrix können wir nun mit Hilfe des Packages `pandas` in den Datentyp \"DataFrame\" umwandeln, das erleicntert das weitere Arbeiten damit. Gleichzeitig können wir in dem DataFrame eine Spalte mit dem Parameter \"Flaechennutzung\" ergänzen. \n",
    "\n",
    "Ergänzt nun in dem Skript unten mit Hilfe von `matplotlib` einen Scatterplot mit den beiden Hauptkomponenten als Achsen (Score Plot), und der Flaechennutzung als Farbe der Punkte. Was lässt sich anhand dieser Abbildung über die Parameterwerte in Bezug auf die Flaechennutzung sagen?  "
   ]
  },
  {
   "cell_type": "code",
   "execution_count": 72,
   "metadata": {},
   "outputs": [
    {
     "name": "stdout",
     "output_type": "stream",
     "text": [
      "(39, 2)\n",
      "    principal component 1  principal component 2  Flaechennutzung\n",
      "0               -0.392310               4.492717                1\n",
      "1               -0.837859              -0.133916                1\n",
      "2               -1.123591               2.994448                1\n",
      "3               -2.184060               2.370946                1\n",
      "4                0.112368               0.344115                1\n",
      "5               -1.942483               0.463036                1\n",
      "6               -1.468191               1.542993                1\n",
      "7               -1.976517              -0.502661                1\n",
      "8               -1.764048               0.364215                1\n",
      "9               -0.435029              -3.717836                1\n",
      "10              -1.686851               0.915478                1\n",
      "11              -1.966881               1.436134                1\n",
      "12              -1.108189              -1.257953                1\n",
      "13              -1.184446               2.020239                1\n",
      "14               0.059804              -2.201549                1\n",
      "15              -1.079665              -0.896639                1\n",
      "16              -0.416691              -0.422199                1\n",
      "17              -0.713091               1.495435                1\n",
      "18               0.097523              -2.117869                1\n",
      "19              -0.017961              -1.584137                1\n",
      "20              -2.403651              -1.144363                1\n",
      "21              -0.107143              -2.443391                1\n",
      "22               0.733479              -0.170084                1\n",
      "23              -0.181014              -1.449257                1\n",
      "24               1.020289              -1.070002                1\n",
      "25               0.375632              -0.034334                1\n",
      "26              -2.404687               0.317555                1\n",
      "27              -0.083325              -1.506137                1\n",
      "28               0.409965               0.351862                1\n",
      "29               0.575228              -0.168679                1\n",
      "30              -0.153775              -2.193272                1\n",
      "31               1.582203              -0.371236                2\n",
      "32               4.370110               0.751127                2\n",
      "33               1.892017              -0.539210                2\n",
      "34               3.932314               1.854351                2\n",
      "35               2.535775               1.848598                2\n",
      "36               3.016718               1.106594                2\n",
      "37               2.383234              -0.363352                2\n",
      "38               2.534799              -0.381766                2\n"
     ]
    },
    {
     "data": {
      "image/png": "[encoded data removed]",
      "text/plain": [
       "<Figure size 576x360 with 1 Axes>"
      ]
     },
     "metadata": {
      "needs_background": "light"
     },
     "output_type": "display_data"
    }
   ],
   "source": [
    "# [9]\n",
    "# aus ndarray einen DataFrame erzeugen \n",
    "principalDf = pd.DataFrame(data = Y , columns = ['principal component 1', 'principal component 2'])\n",
    "\n",
    "print(principalDf.shape)\n",
    "\n",
    "#print(principalDf)\n",
    "\n",
    "# eine dritte Spalte mit den Werten der Flächennutzung ergänzen\n",
    "Z = pd.DataFrame(data,columns = ['Flaechennutzung'])\n",
    "finalDf = pd.concat([principalDf, Z], axis = 1) \n",
    "\n",
    "print(finalDf)\n",
    "\n",
    "# hier Abbildung mit matplotlib erzeugen\n",
    "\n",
    "import matplotlib.pyplot as plt\n",
    "fig = plt.figure(1, figsize=(8, 5))\n",
    "ax = fig.add_subplot(1,1,1) \n",
    "ax.scatter(finalDf['principal component 1'], \n",
    "           finalDf['principal component 2'], \n",
    "           c = finalDf['Flaechennutzung']*30)\n",
    "ax.set_xlabel('principal component 1', fontsize = 15) \n",
    "ax.set_ylabel('principal component 2', fontsize = 15)\n",
    "ax.set_title('2 Component PCA manually', fontsize = 20) \n",
    "plt.show()\n",
    "\n"
   ]
  },
  {
   "attachments": {},
   "cell_type": "markdown",
   "metadata": {},
   "source": [
    "### Hauptkomponentenanalyse mit sklearn\n",
    "\n",
    "Das Python Package `sklearn` enthält viele nützliche Funtkionen für statistische Analysen und maschinelles Lernen. Darunter auch eine Funktion für Hauptkomponentenanalyse `sklearn.decomposition.PCA()`. Definiert dafür zuerst ein Objekt das die genaue Methode beschreibt (z. B. als \"model\") mit Hilfe der Funktion `sklearn.decomposition.PCA()`. Definiert als Input wie viele Hauptkomponenten (`n_components=2`) Ihr ausgegeben haben möchtet. \n",
    "\n",
    "Dann könnt Ihr den reduzierten Datensatz berechnen, indem Ihr auf diese Methode das Attribut `.fit_transform()` anwendet, mit dem ursprünglichen Datensatz als Input. \n"
   ]
  },
  {
   "cell_type": "code",
   "execution_count": 110,
   "metadata": {},
   "outputs": [],
   "source": [
    "# [10]\n",
    "# Package einladen\n",
    "from sklearn.decomposition import PCA\n",
    "# Model-Objekt erzeugen\n",
    "model = PCA(n_components=15)\n",
    "# Fit-Funktion auf Model-Objekt anwenden \n",
    "data_reduced = model.fit_transform(data_std)"
   ]
  },
  {
   "attachments": {},
   "cell_type": "markdown",
   "metadata": {},
   "source": [
    "Für die Bewertung der Aussagekraft einer Hauptkomponentenanalyse ist es wichtig zu wissen, wie viel der ursprünglich Varianz (und damit der Informationen) in dem neuen transformierten Datensatz enthalten ist. Für die einzelnen Komponenten könnt Ihr das ausrechnen, indem Ihr das Attribut `.explained_variance_ratio_` auf Euer PCA Objekt anwendet. \n",
    "\n",
    "Berechnet außerdem die Summe der Varianzen (z. B. mit der Funktion `sum()` ), und lasst Euch schließlich die Werte beider Variablen anzeigen. \n",
    "\n",
    "Wie würdet Ihr die Werte einordnen und die Aussagekraft bewerten?"
   ]
  },
  {
   "cell_type": "code",
   "execution_count": 111,
   "metadata": {},
   "outputs": [
    {
     "name": "stdout",
     "output_type": "stream",
     "text": [
      "[0.19380804 0.17534104 0.13723381 0.10807836 0.09093575 0.07219663\n",
      " 0.05911094 0.04637233 0.04183171 0.02841123 0.01747433 0.01565598\n",
      " 0.0076278  0.00491046 0.0010116 ]\n",
      "1.0000000000000002\n"
     ]
    }
   ],
   "source": [
    "# [11] \n",
    "# einzelne Varianzen berechnen \n",
    "var_exp = model.explained_variance_ratio_\n",
    "# Summe der Varianzen bilden\n",
    "var_tot = sum(model.explained_variance_ratio_)\n",
    "# beide Variablen ausgeben lassen\n",
    "print (var_exp)\n",
    "print(var_tot)"
   ]
  },
  {
   "cell_type": "markdown",
   "metadata": {},
   "source": [
    "Nun stellt auch die Ergebnisse der PCA mit `sklearn` analog zu oben Score Plot graphisch dar, und vergleicht die beiden Ergebnisse."
   ]
  },
  {
   "cell_type": "code",
   "execution_count": 143,
   "metadata": {},
   "outputs": [
    {
     "data": {
      "image/png": "[encoded data removed]",
      "text/plain": [
       "<Figure size 576x360 with 1 Axes>"
      ]
     },
     "metadata": {
      "needs_background": "light"
     },
     "output_type": "display_data"
    }
   ],
   "source": [
    "# [12] hier Code eingeben\n",
    "\n",
    "pcs = np.column_stack((data_reduced[:,0], data_reduced[:,1]))\n",
    "\n",
    "principalDf2 = pd.DataFrame(data = pcs, columns = ['principal component 1', 'principal component 2'])\n",
    "finalDf2 = pd.concat([principalDf2,pd.DataFrame(data,columns = ['Flaechennutzung'])], axis = 1) \n",
    "\n",
    "fig = plt.figure(1, figsize=(8, 5))\n",
    "ax = fig.add_subplot(1,1,1) \n",
    "ax.scatter(finalDf2['principal component 1'], \n",
    "           finalDf2['principal component 2'], \n",
    "           c = finalDf2['Flaechennutzung'])\n",
    "ax.set_xlabel('principal component 1', fontsize = 15) \n",
    "ax.set_ylabel('principal component 2', fontsize = 15)\n",
    "ax.set_title('2 Component PCA sklearn', fontsize = 20) \n",
    "plt.show()"
   ]
  },
  {
   "cell_type": "markdown",
   "metadata": {},
   "source": [
    "Wenn Ihr alles richtig gemacht habt, sollten die beiden Abbildung das gleiche Bild zeigen (u.U. gespiegelt oder rotiert, also mit einem Vorzeichenwechsel auf einer oder beiden Achsen). \n",
    "\n"
   ]
  },
  {
   "cell_type": "code",
   "execution_count": 123,
   "metadata": {},
   "outputs": [
    {
     "data": {
      "image/png": "[encoded data removed]",
      "text/plain": [
       "<Figure size 1440x360 with 2 Axes>"
      ]
     },
     "metadata": {
      "needs_background": "light"
     },
     "output_type": "display_data"
    }
   ],
   "source": [
    "# [13] Loading Plot\n",
    "\n",
    "fig = plt.figure(1, figsize=(20, 5))\n",
    "ax1 = plt.subplot(211)\n",
    "\n",
    "bars = ['Tiefe', 'Sauerstoff', 'Temperatur', 'Leitfähigkeit', 'pH', 'Phosphat', 'Nitrat', 'Detritus', 'Sediment', 'Geologie', 'Fläche', 'Arten', 'Individuen', 'Crustaceen', 'Oligochäten']\n",
    "\n",
    "ax1.bar(bars, model.components_[0], color='k')\n",
    "ax1.hlines(0, -1, 15, colors='k', lw=1)\n",
    "ax1.set_ylabel('PC1 loadings')\n",
    "ax1.set_xlim(-0.5, 14.5)\n",
    "\n",
    "ax2 = plt.subplot(212)\n",
    "ax2.bar(bars, model.components_[1], color='k')\n",
    "ax2.hlines(0, -1, 15, colors='k', lw=1)\n",
    "ax2.set_ylabel('PC2 loadings')\n",
    "ax2.set_xlim(-0.5, 14.5)\n",
    "\n",
    "\n",
    "plt.show()\n"
   ]
  },
  {
   "cell_type": "markdown",
   "metadata": {},
   "source": [
    "... Scree Plot mit relativen Varianzen, einzeln und kumulativ"
   ]
  },
  {
   "cell_type": "code",
   "execution_count": 125,
   "metadata": {},
   "outputs": [
    {
     "data": {
      "image/png": "[encoded data removed]",
      "text/plain": [
       "<Figure size 1080x360 with 1 Axes>"
      ]
     },
     "metadata": {
      "needs_background": "light"
     },
     "output_type": "display_data"
    }
   ],
   "source": [
    "# [14] Scree Plot\n",
    "\n",
    "fig = plt.figure(1, figsize=(15, 5))\n",
    "ax = plt.subplot(111)\n",
    "\n",
    "#plt.plot(np.arange(1,data_std.shape[1]+1), model.explained_variance_.cumsum(), \\\n",
    "#          marker='o', markersize=5, linestyle = 'dashed', color='k', label='Cumulative variance')\n",
    "#plt.plot(np.arange(1,data_std.shape[1]+1), model.explained_variance_, \\\n",
    "#          marker='o', markersize=5, color='k', label='Variance')\n",
    "#plt.xlabel('number of PCs')\n",
    "#plt.ylabel('variance explained')\n",
    "#plt.xticks(np.arange(1,data_std.shape[1]+1,1))\n",
    "#plt.legend()\n",
    "#plt.title('Scree plot: absolute variance')\n",
    "\n",
    "plt.plot(np.arange(1,data_std.shape[1]+1), model.explained_variance_ratio_.cumsum(), \\\n",
    "          marker='o', markersize=5, linestyle = 'dashed', color='k', label='Cumulative variance')\n",
    "plt.plot(np.arange(1,data_std.shape[1]+1), model.explained_variance_ratio_, \\\n",
    "          marker='o', markersize=5, color='k', label='Variance')\n",
    "plt.xlabel('number of PCs')\n",
    "plt.ylabel('proportion of variance explained')\n",
    "plt.xticks(np.arange(1,data_std.shape[1]+1,1))\n",
    "plt.ylim(0,1.1)\n",
    "plt.legend()\n",
    "plt.title('Scree plot: relative variance')\n",
    "\n",
    "\n",
    "\n",
    "plt.show()\n"
   ]
  },
  {
   "cell_type": "markdown",
   "metadata": {},
   "source": [
    "## Ende\n",
    "\n",
    "### Referenzen: \n",
    "\n",
    "Koch et al. (2020), Groundwater fauna in an urban area: natural or affected? https://hess.copernicus.org/preprints/hess-2020-151/hess-2020-151.pdf\n",
    "\n",
    "Lever et al. (2017) Principal component analysis, Nature Methods 14(7), 641-642\n",
    "\n",
    "https://towardsdatascience.com/a-complete-guide-to-principal-component-analysis-pca-in-machine-learning-664f34fc3e5a"
   ]
  }
 ],
 "metadata": {
  "kernelspec": {
   "display_name": "base",
   "language": "python",
   "name": "python3"
  },
  "language_info": {
   "codemirror_mode": {
    "name": "ipython",
    "version": 3
   },
   "file_extension": ".py",
   "mimetype": "text/x-python",
   "name": "python",
   "nbconvert_exporter": "python",
   "pygments_lexer": "ipython3",
   "version": "3.8.8"
  },
  "vscode": {
   "interpreter": {
    "hash": "e4cce46d6be9934fbd27f9ca0432556941ea5bdf741d4f4d64c6cd7f8dfa8fba"
   }
  }
 },
 "nbformat": 4,
 "nbformat_minor": 4
}
