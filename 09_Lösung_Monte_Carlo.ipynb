{
 "cells": [
  {
   "attachments": {},
   "cell_type": "markdown",
   "metadata": {},
   "source": [
    "# Geodatenanalyse 1\n",
    "\n",
    "## Übung 9: Monte Carlo Methoden - Lösung"
   ]
  },
  {
   "cell_type": "markdown",
   "metadata": {},
   "source": [
    "Die Aufgabenstellung für diese Übung ist die Quantifizierung der Unsicherheit bei der analytischen Berechnung der biologischen Abbaurate von O-Xylol in einem kontaminierten Aquifer. Verwendet dafür folgende in Würth et al. (2021) angegebene Formel 6: \n",
    "\n",
    "<a href=\"https://www.codecogs.com/eqnedit.php?latex=\\lambda&space;=&space;\\frac{\\Delta&space;\\delta&space;^{13}C&space;\\cdot&space;k_{f}&space;\\cdot&space;i}{\\epsilon&space;\\cdot&space;s&space;\\cdot&space;n_{e}}\" target=\"_blank\"><img src=\"https://latex.codecogs.com/gif.latex?\\lambda&space;=&space;\\frac{\\Delta&space;\\delta&space;^{13}C&space;\\cdot&space;k_{f}&space;\\cdot&space;i}{\\epsilon&space;\\cdot&space;s&space;\\cdot&space;n_{e}}\" title=\"\\lambda = \\frac{\\Delta \\delta ^{13}C \\cdot k_{f} \\cdot i}{\\epsilon \\cdot s \\cdot n_{e}}\" /></a>\n",
    "\n",
    "mit \n",
    "\n",
    "<a href=\"https://www.codecogs.com/eqnedit.php?latex=k_{f}&space;=&space;\\frac{s&space;\\cdot&space;n_{e}}{t&space;\\cdot&space;i}\" target=\"_blank\"><img src=\"https://latex.codecogs.com/gif.latex?k_{f}&space;=&space;\\frac{s&space;\\cdot&space;n_{e}}{t&space;\\cdot&space;i}\" title=\"k_{f} = \\frac{s \\cdot n_{e}}{t \\cdot i}\" /></a>\n",
    "\n",
    "\n",
    "Angaben zu den Parametern und den angenommenen Verteilungen der unbekannten Werte findet Ihr in Tabelle 3 der Studie (Literaturordner auf ILIAS). Übernehmt dabei die Werte für das Brunnenpaar G10m - G30u. Dabei steht *N* für Normal-, *U* für Uniform- und *W* für Weibull-Verteilung. Ersetzt dabei die Weibull-Verteilung für den hydraulischen Gradienten durch *U*(0.0013, 0.0016). Beachtet auch, dass einige Verteilungen begrenzt (\"truncated\") sind. \n",
    "\n",
    "Neben der Generierung von Zufallszahlen und der analytischen Berechnung der Abbaurate, sollte Euer Code auch eine Visualisierung der Ergebnisse beinhalten.   \n",
    "\n",
    "\n",
    "\n"
   ]
  },
  {
   "cell_type": "code",
   "execution_count": null,
   "metadata": {},
   "outputs": [],
   "source": [
    "# Monte-Carlo Simulation zur Bestimmung der Abbaurate von O-Xylol\n",
    "# benötigte Packages importieren\n",
    "\n",
    "import numpy as np\n",
    "from scipy.stats import truncnorm\n",
    "import matplotlib.pyplot as plt\n",
    "import seaborn as sns\n",
    "\n",
    "# Anzahl der MC Simulationen festlegen\n",
    "n = 5000 # number of MC simulations \n",
    "\n",
    "# Input Parameter erzeugen\n",
    "# isotope shift delta 13C [o/oo], truncated to (3.8, 4.8)\n",
    "a, b = (3.8 - 4.3) / 0.7, (4.8 - 4.3) / 0.7\n",
    "deltaC = truncnorm.rvs(a, b, 4.3, 0.7, size=n)\n",
    "\n",
    "# isotope enrichment factor epsilon [-]\n",
    "epsilon = np.random.uniform(-3.2, -1.1, n)\n",
    "\n",
    "# distance [m]\n",
    "s = np.random.uniform(415, 423, n)\n",
    "\n",
    "# effective porosity [-], trunctaed to (0.12, 0.30)\n",
    "a, b = (0.12 - 0.21) / 0.09, (0.3 - 0.21) / 0.09\n",
    "neff = truncnorm.rvs(a, b, 0.21, 0.09, size=n)\n",
    "\n",
    "# time, truncated to (3e8, 3.3e8)\n",
    "a, b = (3e8 - 3.15e8) / 1.6e6, (3.3e8 - 3.15e8) / 1.6e6\n",
    "t = truncnorm.rvs(a, b, 3.15e8, 1.6e6, size=n)\n",
    "\n",
    "# hydraulic gradient [-]\n",
    "grad = np.random.uniform(1.3e-3, 1.6e-3, n)\n",
    "\n",
    "# analytische Modellierung \n",
    "kf = (s*neff)/(t*grad)\n",
    "lambda_rate = -(deltaC*kf*grad)/(epsilon*s*neff)\n",
    "\n",
    "lambda_rate = lambda_rate*3600*24*365 # to get values as [1/a]\n",
    "\n",
    "# Mittelwerte für berechnete kf-Wert und Abbaurate ausgeben lassen\n",
    "print(kf.mean(), lambda_rate.mean())\n",
    "\n",
    "# Verteilungen der Werte der Abbaurate visualisieren\n",
    "fig = plt.figure(1, figsize=(8, 8))\n",
    "ax = fig.add_subplot(2,1,1)\n",
    "plt.hist(lambda_rate)\n",
    "plt.ylabel(\"Häufigkeit\")\n",
    "plt.xlabel(\"Abbaurate [1/a]\")\n",
    "\n",
    "ax1 = fig.add_subplot(2,1,2)\n",
    "plt.hist(lambda_rate)\n",
    "plt.ylabel(\"Häufigkeit\")\n",
    "plt.xlabel(\"Abbaurate [1/a]\")\n",
    "\n",
    "plt.show()\n",
    "\n"
   ]
  },
  {
   "cell_type": "markdown",
   "metadata": {},
   "source": [
    "Vergleicht Eure Ergebnisse mit denen in Abbildung 3 in dem Paper von Würth et al. (2021). Stimmen die Ergebnisse überein? \n",
    "\n",
    "## Ende\n",
    "\n",
    "### Referenzen: \n",
    "\n",
    "Würth et al. (2021): Quantifying biodegradation rate constants of o-xylene by combining compound-specific isotope analysis and groundwater dating. Journal of Contaminant Hydrology, 238, 103757"
   ]
  }
 ],
 "metadata": {
  "kernelspec": {
   "display_name": "base",
   "language": "python",
   "name": "python3"
  },
  "language_info": {
   "codemirror_mode": {
    "name": "ipython",
    "version": 3
   },
   "file_extension": ".py",
   "mimetype": "text/x-python",
   "name": "python",
   "nbconvert_exporter": "python",
   "pygments_lexer": "ipython3",
   "version": "3.8.8 (default, Apr 13 2021, 15:08:03) [MSC v.1916 64 bit (AMD64)]"
  },
  "vscode": {
   "interpreter": {
    "hash": "e4cce46d6be9934fbd27f9ca0432556941ea5bdf741d4f4d64c6cd7f8dfa8fba"
   }
  }
 },
 "nbformat": 4,
 "nbformat_minor": 4
}
