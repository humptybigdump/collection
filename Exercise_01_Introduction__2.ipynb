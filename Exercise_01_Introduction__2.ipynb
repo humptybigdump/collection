{
  "nbformat": 4,
  "nbformat_minor": 0,
  "metadata": {
    "colab": {
      "name": "Exercise_01_Introduction.ipynb",
      "provenance": [],
      "collapsed_sections": [
        "pTf8ly9PMzA4"
      ]
    },
    "kernelspec": {
      "display_name": "ml_env",
      "language": "python",
      "name": "ml_env"
    },
    "language_info": {
      "codemirror_mode": {
        "name": "ipython",
        "version": 3
      },
      "file_extension": ".py",
      "mimetype": "text/x-python",
      "name": "python",
      "nbconvert_exporter": "python",
      "pygments_lexer": "ipython3",
      "version": "3.6.9"
    }
  },
  "cells": [
    {
      "cell_type": "markdown",
      "metadata": {
        "id": "8KF2ULwRNet1",
        "colab_type": "text"
      },
      "source": [
        "### Running shell commands from inside the notebook\n",
        "To forward a command to the underlying shell of the computer prefix it with '!'."
      ]
    },
    {
      "cell_type": "code",
      "metadata": {
        "id": "kFqHPK6DNet2",
        "colab_type": "code",
        "colab": {}
      },
      "source": [
        "#Windows, Mac OS and Linux, Google Colab\n",
        "! echo Hello world"
      ],
      "execution_count": 0,
      "outputs": []
    },
    {
      "cell_type": "markdown",
      "metadata": {
        "id": "QRtSRtrQNet5",
        "colab_type": "text"
      },
      "source": [
        "In case that you are missing some packages they can easily be installed in the virtual environment you created from inside the notebook.  \n",
        "You just need to follow these steps.  \n",
        "1. source/activate the environment\n",
        "    * Windows: `C:\\Users\\<USER>\\ml_env\\Scripts\\activate`\n",
        "    * Mac/Linux: `. /home/<USER>/workspaces/ml_env/bin/activate`\n",
        "2. run your desired command e.g. `python -m pip install <PACKAGE_NAME>`\n",
        "    \n",
        "Let's try to upgrade pip - the Python package manager. Uncomment the respective line depending on your host system and run the command below."
      ]
    },
    {
      "cell_type": "code",
      "metadata": {
        "id": "2kmOFjE-Net6",
        "colab_type": "code",
        "colab": {}
      },
      "source": [
        "# Windows\n",
        "#! C:\\Users\\<USER>\\ml_env\\Scripts\\activate && python -m pip install --upgrade pip\n",
        "# Mac OS and Linux\n",
        "#! . /home/<USER>/workspaces/ml_env/bin/activate && python -m pip install --upgrade pip\n",
        "# Google Colab\n",
        "#! python -m pip install --upgrade pip"
      ],
      "execution_count": 0,
      "outputs": []
    },
    {
      "cell_type": "markdown",
      "metadata": {
        "colab_type": "text",
        "id": "p3d7NFyNRgh0"
      },
      "source": [
        "# TensorFlow (TF 2.x) Tutorial "
      ]
    },
    {
      "cell_type": "code",
      "metadata": {
        "colab_type": "code",
        "id": "F9YUsQtzRi8n",
        "colab": {}
      },
      "source": [
        "from IPython.display import clear_output, Image, HTML, display\n",
        "\n",
        "Image(url= \"https://i.imgur.com/4nk5b4c.jpg\", width=700) # from Google"
      ],
      "execution_count": 0,
      "outputs": []
    },
    {
      "cell_type": "markdown",
      "metadata": {
        "colab_type": "text",
        "id": "TAYt54IhRzXV"
      },
      "source": [
        "TensorFlow programs work by building a graph of tensor objects that details how tensors are related. Running different parts of the graph allow results to be generated.\n",
        "\n",
        "TensorFlow is a Library for:\n",
        "* Defining computation graphs\n",
        "* Calculating gradients\n",
        "\n",
        "\n",
        "\n",
        "In this Semseter we will use Tensorflow to implement different machine learning algorithms \n",
        "\n",
        "* **Feed Forward Neural Networks (FFNNs)** classification and regression based on features.\n",
        "* **Convolutional Neural Networks (CNNs)** image classification, object detection, video action recognition, etc.\n",
        "* **Generative Adversarial Networks (GANs)**  unsupervised generation of realistic images, etc.\n",
        "* **Deep Reinforcement Learning** game playing, robotics in simulation, self-play, neural architecture search, etc."
      ]
    },
    {
      "cell_type": "markdown",
      "metadata": {
        "colab_type": "text",
        "id": "adoGygpkRzig"
      },
      "source": [
        "## Installing TensorFlow\n",
        "To install TensorFlow on your local machine you can use pip - the python package manager.\n",
        "```console\n",
        "!python3 -m pip install tensorflow\n",
        "```"
      ]
    },
    {
      "cell_type": "markdown",
      "metadata": {
        "colab_type": "text",
        "id": "AezwWaY5SPoR"
      },
      "source": [
        "## Importing TensorFlow\n",
        "The first step is going to be to import TensorFlow."
      ]
    },
    {
      "cell_type": "code",
      "metadata": {
        "colab_type": "code",
        "id": "wW7hW6vISI99",
        "colab": {}
      },
      "source": [
        "import tensorflow as tf\n",
        "if(int(tf.__version__[0]) <= 1):\n",
        "    print('tensorflow {} detected; Please install tensorflow >= 2.0.0'.format(tf.__version__))\n",
        "else:\n",
        "    print('tensorflow {} detected'.format(tf.__version__))"
      ],
      "execution_count": 0,
      "outputs": []
    },
    {
      "cell_type": "markdown",
      "metadata": {
        "colab_type": "text",
        "id": "G66ZqlImWKNE"
      },
      "source": [
        "The next step is to import all required packages for this notebook."
      ]
    },
    {
      "cell_type": "code",
      "metadata": {
        "colab_type": "code",
        "id": "U79YvVagWSi-",
        "colab": {}
      },
      "source": [
        "import numpy as np\n",
        "import pathlib\n",
        "import shutil\n",
        "import tempfile\n",
        "from matplotlib import pyplot as plt"
      ],
      "execution_count": 0,
      "outputs": []
    },
    {
      "cell_type": "code",
      "metadata": {
        "colab_type": "code",
        "id": "hUpxRfnLYHVA",
        "colab": {}
      },
      "source": [
        "# Install some functions from tensorflow_docs - requires GIT to be installed\n",
        "# Windows\n",
        "#! C:\\Users\\<USER>\\ml_env\\Scripts\\activate && python -m pip install git+https://github.com/tensorflow/docs\n",
        "# Mac OS and Linux\n",
        "#! . /home/<USER>/workspaces/ml_env/bin/activate && python -m pip install git+https://github.com/tensorflow/docs\n",
        "# Google Colab\n",
        "#! python -m pip install git+https://github.com/tensorflow/docs"
      ],
      "execution_count": 0,
      "outputs": []
    },
    {
      "cell_type": "code",
      "metadata": {
        "id": "ic9t5u0INeuM",
        "colab_type": "code",
        "colab": {}
      },
      "source": [
        "import tensorflow_docs as tfdocs\n",
        "import tensorflow_docs.modeling\n",
        "import tensorflow_docs.plots"
      ],
      "execution_count": 0,
      "outputs": []
    },
    {
      "cell_type": "markdown",
      "metadata": {
        "colab_type": "text",
        "id": "Q2dpgLLZSrMp"
      },
      "source": [
        "\n",
        "## Tensors\n",
        "TensorFlow does have its own data structure for the purpose of performance and ease of use. Tensor is the data structure used in Tensorflow. You can think of a TensorFlow tensor as an n-dimensional array or list.\n",
        "\n",
        "**Example**: The shape of a tensor can be described with a vector $[ 10000, 256, 256, 3 ]$\n",
        "* 10,000 images\n",
        "* Each image has 256 rows\n",
        "* Each row has 256 pixels\n",
        "* Each pixel has 3 channels (RGB)\n",
        "\n",
        "Each tensor has a data type and a shape:  \n",
        "* **Data Types Include**: float32, int32, string and others.\n",
        "* **Shape**: Represents the dimension of data.\n",
        "\n",
        "Just like vectors and matrices tensors can have operations applied to them like addition, subtraction, dot product, cross product etc."
      ]
    },
    {
      "cell_type": "code",
      "metadata": {
        "colab_type": "code",
        "id": "2nfYApwPSrmQ",
        "colab": {}
      },
      "source": [
        "# Creating Tensors\n",
        "tensor1 = tf.Variable(300, tf.int16)\n",
        "tensor2 = tf.Variable(2.123, tf.float64)\n",
        "tensor3 = tf.Variable(\"Hello World\", tf.string)"
      ],
      "execution_count": 0,
      "outputs": []
    },
    {
      "cell_type": "markdown",
      "metadata": {
        "colab_type": "text",
        "id": "6yw-fNeYUqYs"
      },
      "source": [
        "### Rank and Shape of Tensors\n",
        "Rank means the number of dimensions involved in the tensor. "
      ]
    },
    {
      "cell_type": "code",
      "metadata": {
        "colab_type": "code",
        "id": "Q9F9vJ1hUr4B",
        "colab": {}
      },
      "source": [
        "rank_0_tensor = tf.constant(4)\n",
        "print(rank_0_tensor)"
      ],
      "execution_count": 0,
      "outputs": []
    },
    {
      "cell_type": "code",
      "metadata": {
        "colab_type": "code",
        "id": "NLdC3I-aUxxx",
        "colab": {}
      },
      "source": [
        "rank_1_tensor = tf.constant([2.0, 3.0, 4.0])\n",
        "print(rank_1_tensor)"
      ],
      "execution_count": 0,
      "outputs": []
    },
    {
      "cell_type": "code",
      "metadata": {
        "colab_type": "code",
        "id": "7vi_JDDxU0l6",
        "colab": {}
      },
      "source": [
        "rank_2_tensor = tf.constant([[2, 2],\n",
        "                             [3, 3],\n",
        "                             [4, 4]], dtype=tf.float16)\n",
        "print(rank_2_tensor)"
      ],
      "execution_count": 0,
      "outputs": []
    },
    {
      "cell_type": "markdown",
      "metadata": {
        "colab_type": "text",
        "id": "NrPntjIxVb-j"
      },
      "source": [
        "**To determine the rank** of a tensor we can call the following method."
      ]
    },
    {
      "cell_type": "code",
      "metadata": {
        "colab_type": "code",
        "id": "ixN48VUCVbh1",
        "colab": {}
      },
      "source": [
        "tf.rank(rank_2_tensor)"
      ],
      "execution_count": 0,
      "outputs": []
    },
    {
      "cell_type": "markdown",
      "metadata": {
        "colab_type": "text",
        "id": "xoxA30K8VwEk"
      },
      "source": [
        "The shape of a tensor is simply the number of elements that exist in each dimension."
      ]
    },
    {
      "cell_type": "code",
      "metadata": {
        "colab_type": "code",
        "id": "1v1GRaxxVtYj",
        "colab": {}
      },
      "source": [
        "rank_2_tensor.shape"
      ],
      "execution_count": 0,
      "outputs": []
    },
    {
      "cell_type": "markdown",
      "metadata": {
        "colab_type": "text",
        "id": "NaFesQaLMVeU"
      },
      "source": [
        "## Computaional Graph\n",
        "The backbone of any Tensorflow program is a Graph. Anything that happens in your model is represented by the computational graph.\n",
        "\n",
        "* The edges correspond to multidimensional arrays (Tensors).\n",
        "* The nodes create or manipulate these Tensors according to specific rules (Operations)\n",
        "  * Operations on tensors (like math operations)\n",
        "  * Generating tensors (like variables and constants)."
      ]
    },
    {
      "cell_type": "code",
      "metadata": {
        "colab_type": "code",
        "id": "UyKtHD2hMuRL",
        "colab": {}
      },
      "source": [
        "Image(url= \"https://i.imgur.com/2Ys4yTu.jpg\", width=650)"
      ],
      "execution_count": 0,
      "outputs": []
    },
    {
      "cell_type": "markdown",
      "metadata": {
        "colab_type": "text",
        "id": "Oy_DwYWlbnAx"
      },
      "source": [
        "## Machine Lerarning Model with TensorFlow\n",
        "The basic structure of training a machine learning model is as follows.\n",
        "\n",
        "1. Import the dataset.\n",
        "2. Select the type of model.\n",
        "3. Train the model.\n",
        "4. Evaluate the model's effectiveness.\n",
        "5. Use the trained model to make predictions.\n",
        "\n",
        "A regression model can be used to predict the output of a continuous value, like a stock price or a time series. In contrast to a classification model, where the prediction is a discrete label, e.g. whether a picture contains a dog or a cat."
      ]
    },
    {
      "cell_type": "markdown",
      "metadata": {
        "colab_type": "text",
        "id": "I9D3s8SXpioo"
      },
      "source": [
        "### Dataset\n",
        "We want to create a model that converts temperatures measured in degree Fahrenheit to degree Celsius.\n",
        "$$C = (F − 32) × 5/9$$"
      ]
    },
    {
      "cell_type": "code",
      "metadata": {
        "colab_type": "code",
        "id": "fdganNtVpo3S",
        "colab": {}
      },
      "source": [
        "fahrenheit=np.array([-140,-136,-124,-112,-105,-96,-88,-75,-63,-60,-58,-40,-20,-10,0,30,35,48,55,69,81,89,95,99,105,110,120,135,145,158,160],dtype=float)\n",
        "celsius=np.array([-95.55,-93.33,-86.66,-80,-76.11,-71.11,-66.66,-59.44,-52.77,-51.11,-50,-40,-28.88,-23.33,-17.77,-1.11,1.66,8.88,12,20,27.22,31.66,35,37.22,40.55,43.33,48.88,57.22,62.77,70,71.11],dtype=float)"
      ],
      "execution_count": 0,
      "outputs": []
    },
    {
      "cell_type": "markdown",
      "metadata": {
        "colab_type": "text",
        "id": "XQN0UlaDo5Am"
      },
      "source": [
        "### Create the Model\n",
        "Here, We’ve designed the simplest  Regression model where it is a series of connected layers of things called neurons. We’ll use a Sequential model with two densely connected hidden layers, and an output layer that returns a single, continuous value."
      ]
    },
    {
      "cell_type": "code",
      "metadata": {
        "colab_type": "code",
        "id": "qDbG77VLb_Bg",
        "colab": {}
      },
      "source": [
        "model = tf.keras.Sequential([\n",
        "    tf.keras.layers.Dense(64, activation=tf.nn.relu, input_shape=[1]),\n",
        "    tf.keras.layers.Dense(32, activation=tf.nn.relu),\n",
        "    tf.keras.layers.Dense(1)\n",
        "  ])"
      ],
      "execution_count": 0,
      "outputs": []
    },
    {
      "cell_type": "markdown",
      "metadata": {
        "colab_type": "text",
        "id": "eEKiP4NWor1N"
      },
      "source": [
        "### Compile Model\n",
        "A typical loss function for linear regression is the Mean Square Error (MSE). It gives an idea of how much error the system typically makes in its predictions, with a higher weight for larger errors."
      ]
    },
    {
      "cell_type": "code",
      "metadata": {
        "colab_type": "code",
        "id": "1Vkp5qfKof_H",
        "colab": {}
      },
      "source": [
        "learning_rate = 0.001\n",
        "\n",
        "optimizer = tf.keras.optimizers.RMSprop(learning_rate)\n",
        "\n",
        "model.compile(loss='mean_squared_error',\n",
        "              optimizer=optimizer,\n",
        "              metrics=['mean_absolute_error', 'mean_squared_error'])"
      ],
      "execution_count": 0,
      "outputs": []
    },
    {
      "cell_type": "markdown",
      "metadata": {
        "colab_type": "text",
        "id": "1SOgrMzKsnjh"
      },
      "source": [
        "### Model Summary"
      ]
    },
    {
      "cell_type": "code",
      "metadata": {
        "colab_type": "code",
        "id": "oSE7YS5ssnsI",
        "colab": {}
      },
      "source": [
        "model.summary()"
      ],
      "execution_count": 0,
      "outputs": []
    },
    {
      "cell_type": "markdown",
      "metadata": {
        "colab_type": "text",
        "id": "uvEjP2eVqI9_"
      },
      "source": [
        "### Train Model\n",
        "Now we are going to feed Fahrenheit and Celsius to train our model."
      ]
    },
    {
      "cell_type": "code",
      "metadata": {
        "colab_type": "code",
        "id": "Jzibf887ovU0",
        "scrolled": false,
        "colab": {}
      },
      "source": [
        "hist = {}\n",
        "hist[\"model\"] = model.fit(fahrenheit,celsius,epochs=150,validation_split=0.2)"
      ],
      "execution_count": 0,
      "outputs": []
    },
    {
      "cell_type": "markdown",
      "metadata": {
        "colab_type": "text",
        "id": "9yYjYqX5sM1m"
      },
      "source": [
        "### Plot the training and validation losses\n",
        "The solid lines show the training loss, and the dashed lines show the validation loss (remember: a lower validation loss indicates a better model).\n",
        "\n"
      ]
    },
    {
      "cell_type": "code",
      "metadata": {
        "colab_type": "code",
        "id": "bM9rRvWCs59d",
        "colab": {}
      },
      "source": [
        "plotter = tfdocs.plots.HistoryPlotter(metric = 'loss', smoothing_std=10)\n",
        "plotter.plot(hist)"
      ],
      "execution_count": 0,
      "outputs": []
    },
    {
      "cell_type": "markdown",
      "metadata": {
        "colab_type": "text",
        "id": "Mr6BhtgBq45N"
      },
      "source": [
        "### Make Prediction (Inference)"
      ]
    },
    {
      "cell_type": "code",
      "metadata": {
        "colab_type": "code",
        "id": "aqdHy6qFq8l6",
        "colab": {}
      },
      "source": [
        "model.predict([200])"
      ],
      "execution_count": 0,
      "outputs": []
    },
    {
      "cell_type": "markdown",
      "metadata": {
        "colab_type": "text",
        "id": "jIUlWvsSyKT7"
      },
      "source": [
        "## Overfit and underfit\n",
        "Learning how to deal with overfitting is important. Although it is often possible to achieve high accuracy on the training set, what we really want is to develop models that generalize well to a testing set (or data they haven't seen before).\n",
        "\n",
        "The opposite of overfitting is underfitting. **Underfitting** occurs when there is still room for improvement on the test data. This can happen for a number of reasons: \n",
        "* If the model is not powerful enough,\n",
        "* is over-regularized, or \n",
        "* has simply not been trained long enough. \n",
        "\n",
        "This means the model has not learned the relevant patterns in the training data.\n",
        "\n",
        "If you train for too long though, the model will start to overfit and learn patterns from the training data that don't generalize to the test data. We need to strike a balance. Understanding how to train for an appropriate number of epochs as we'll explore below is a useful skill.\n",
        "\n",
        "To prevent overfitting, the best solution is to use more complete training data. The dataset should cover the full range of inputs that the model is expected to handle. Additional data may only be useful if it covers new and interesting cases."
      ]
    },
    {
      "cell_type": "markdown",
      "metadata": {
        "colab_type": "text",
        "id": "0C7nPqjq04cj"
      },
      "source": [
        "## Dataset\n",
        "We will use for this example the Higgs dataset. It contains 11,000,000 examples, each with 28 features, and a binary class label. To keep this tutorial relatively short we use just the first 1,000 samples for validation, and the next 10,000 for training:"
      ]
    },
    {
      "cell_type": "code",
      "metadata": {
        "id": "XXaSdZ-5X1RA",
        "colab_type": "code",
        "colab": {}
      },
      "source": [
        "import pandas as pd\n",
        "df = pd.read_csv('HIGGS_small.csv')\n",
        "df.head()"
      ],
      "execution_count": 0,
      "outputs": []
    },
    {
      "cell_type": "code",
      "metadata": {
        "colab_type": "code",
        "id": "Xe0ndkJ1n5Z0",
        "colab": {}
      },
      "source": [
        "import tensorflow as tf\n",
        "# Applay to each row in the dataset this function is good part to \n",
        "# add some noise to the data or to make image processing\n",
        "def pack_row(*row):\n",
        "  label = row[0]\n",
        "  features = tf.stack(row[1:],1)\n",
        "  return features, label\n",
        "\n",
        "def load_train_validate_ds(N_TRAIN,N_VALIDATION,BATCH_SIZE):\n",
        "  # The Higgs dataset contains 11 000 000 examples, each with 28 features, and a binary class label\n",
        "  # To use the big data set then you can run the command:\n",
        "  #gz = tf.keras.utils.get_file('HIGGS.csv.gz', 'http://mlphysics.ics.uci.edu/data/higgs/HIGGS.csv.gz')\n",
        "  # To use a small record, you must upload it from the exercise folder\n",
        "  #gz = tf.keras.utils.get_file('HIGGS.csv.gz', 'HIGGS_small.csv.gz')\n",
        "  # The tf.data.experimental.CsvDataset class can be used to read csv records directly from a gzip \n",
        "  # file with no intermediate decompression step\n",
        "  FEATURES = 28\n",
        "  ds = tf.data.experimental.CsvDataset('HIGGS_small.csv',[float(),]*(FEATURES+1),header=False)\n",
        "  # So instead of repacking each row individually make a new Dataset that takes batches \n",
        "  # of 10000-examples, applies the pack_row function to each batch, and then splits the\n",
        "  # batches back up into individual records:\n",
        "  packed_ds = ds.batch(10000).map(pack_row).unbatch()  \n",
        "  BUFFER_SIZE = int(1e4)\n",
        "  STEPS_PER_EPOCH = N_TRAIN//BATCH_SIZE\n",
        "  validate_ds = packed_ds.take(N_VALIDATION).cache()\n",
        "  train_ds = packed_ds.skip(N_VALIDATION).take(N_TRAIN).cache()\n",
        "  # These datasets return individual examples. Use the .batch method to create batches of\n",
        "  # an appropriate size for training. Before batching also remember to .shuffle and \n",
        "  #.repeat the training set.\n",
        "  validate_ds = validate_ds.batch(BATCH_SIZE)\n",
        "  train_ds = train_ds.shuffle(BUFFER_SIZE).repeat().batch(BATCH_SIZE)\n",
        "  return train_ds, validate_ds"
      ],
      "execution_count": 0,
      "outputs": []
    },
    {
      "cell_type": "markdown",
      "metadata": {
        "colab_type": "text",
        "id": "PMiz8ZMrVQ-d"
      },
      "source": [
        "To see more information on this topic: Dataset with TensorFlow you can see the following videos:\n",
        "* https://www.youtube.com/watch?v=oFFbKogYdfc\n",
        "* https://www.youtube.com/watch?v=TOP2aLxcuu8\n"
      ]
    },
    {
      "cell_type": "code",
      "metadata": {
        "colab_type": "code",
        "id": "rBO_3F52MmAu",
        "colab": {}
      },
      "source": [
        "# To keep this tutorial relatively short use just the first 5000 samples for validation,\n",
        "# and the next 5 00 for training:\n",
        "n_train      = int(5000) # The number of samples in training data\n",
        "n_validation = int(500)\n",
        "batch_size   = 250\n",
        "train_ds, validate_ds =  load_train_validate_ds(n_train,n_validation,batch_size)"
      ],
      "execution_count": 0,
      "outputs": []
    },
    {
      "cell_type": "code",
      "metadata": {
        "colab_type": "code",
        "id": "tWtXkauyhfUl",
        "colab": {}
      },
      "source": [
        "for features,label in train_ds.take(1):\n",
        "  print(label)\n",
        "  print(features[0])"
      ],
      "execution_count": 0,
      "outputs": []
    },
    {
      "cell_type": "code",
      "metadata": {
        "colab_type": "code",
        "id": "1jgowfNFbYrJ",
        "colab": {}
      },
      "source": [
        "# Training Parameters\n",
        "FEATURES = 28\n",
        "STEPS_PER_EPOCH = n_train//batch_size\n",
        "print(\"The number of steps per epoch: \", STEPS_PER_EPOCH)"
      ],
      "execution_count": 0,
      "outputs": []
    },
    {
      "cell_type": "markdown",
      "metadata": {
        "colab_type": "text",
        "id": "pTf8ly9PMzA4"
      },
      "source": [
        "### Demonstrate overfitting\n",
        "The simplest way to prevent overfitting is to start with a small model: A model with a small number of learnable parameters (which is determined by the number of layers and the number of units per layer). In deep learning, the number of learnable parameters in a model is often referred to as the model's \"capacity\".\n",
        "\n",
        "Intuitively, a model with more parameters will have more \"memorization capacity\" and therefore will be able to easily learn a perfect dictionary-like mapping between training samples and their targets, a mapping without any generalization power, but this would be useless when making predictions on previously unseen data.\n",
        "\n",
        "Always keep this in mind: deep learning models tend to be good at fitting to the training data, but the real challenge is generalization, not fitting.\n",
        "\n",
        "On the other hand, if the network has limited memorization resources, it will not be able to learn the mapping as easily. To minimize its loss, it will have to learn compressed representations that have more predictive power. At the same time, if you make your model too small, it will have difficulty fitting to the training data. There is a balance between \"too much capacity\" and \"not enough capacity\".\n",
        "\n",
        "To find an appropriate model size, it's best to start with relatively few layers and parameters, then begin increasing the size of the layers or adding new layers until you see diminishing returns on the validation loss.\n",
        "\n",
        "Start with a simple model using only `layers.Dense` as a baseline, then create larger versions, and compare them.\n",
        "\n",
        "\n"
      ]
    },
    {
      "cell_type": "markdown",
      "metadata": {
        "colab_type": "text",
        "id": "Wb9xuHasOywx"
      },
      "source": [
        "## Training procedure\n",
        "Many models train better if you gradually reduce the learning rate during training. Use optimizers.schedules to reduce the learning rate over time:"
      ]
    },
    {
      "cell_type": "code",
      "metadata": {
        "colab_type": "code",
        "id": "yGVuWVvKPAKj",
        "colab": {}
      },
      "source": [
        "lr_schedule = tf.keras.optimizers.schedules.InverseTimeDecay(\n",
        "  0.001,\n",
        "  decay_steps=STEPS_PER_EPOCH*1000,\n",
        "  decay_rate=1,\n",
        "  staircase=False)"
      ],
      "execution_count": 0,
      "outputs": []
    },
    {
      "cell_type": "markdown",
      "metadata": {
        "colab_type": "text",
        "id": "QU1RBjYXfDbR"
      },
      "source": [
        "The code above sets a `schedules.InverseTimeDecay` to hyperbolically decrease the learning rate to 1/2 of the base rate at 1000 epochs, 1/3 at 2000 epochs and so on."
      ]
    },
    {
      "cell_type": "code",
      "metadata": {
        "colab_type": "code",
        "id": "mB4SDJUYRFDP",
        "colab": {}
      },
      "source": [
        "step = np.linspace(0,100000)\n",
        "lr = lr_schedule(step)\n",
        "plt.figure(figsize = (8,6))\n",
        "plt.plot(step/STEPS_PER_EPOCH, lr)\n",
        "plt.ylim([0,max(plt.ylim())])\n",
        "plt.xlabel('Epoch')\n",
        "_ = plt.ylabel('Learning Rate')"
      ],
      "execution_count": 0,
      "outputs": []
    },
    {
      "cell_type": "markdown",
      "metadata": {
        "colab_type": "text",
        "id": "k2JZm5jkgi2h"
      },
      "source": [
        "For this tutorial, choose the ADAM optimizer"
      ]
    },
    {
      "cell_type": "code",
      "metadata": {
        "colab_type": "code",
        "id": "U2Q5aBuMfdcX",
        "colab": {}
      },
      "source": [
        "# Define the Optimizer\n",
        "def get_optimizer():\n",
        "  return tf.keras.optimizers.Adam(lr_schedule)"
      ],
      "execution_count": 0,
      "outputs": []
    },
    {
      "cell_type": "markdown",
      "metadata": {
        "colab_type": "text",
        "id": "qkms3c7FfbAZ"
      },
      "source": [
        "The training for this tutorial runs for many short epochs. To reduce the logging noise use the `tfdocs.EpochDots` which simply prints a `.` for each epoch, and a full set of metrics every 100 epochs.\n",
        "\n",
        "Next include `callbacks.EarlyStopping` to avoid long and unnecessary training times. Note that this callback is set to monitor the `val_binary_crossentropy`, not the `val_loss`. This difference will be important later.\n",
        "\n",
        "Use `callbacks.TensorBoard` to generate TensorBoard logs for the training."
      ]
    },
    {
      "cell_type": "code",
      "metadata": {
        "colab_type": "code",
        "id": "4bLoEbVERN0_",
        "colab": {}
      },
      "source": [
        "def get_callbacks(name):\n",
        "  return [\n",
        "    tfdocs.modeling.EpochDots(),\n",
        "    tf.keras.callbacks.EarlyStopping(monitor='val_binary_crossentropy', patience=200),\n",
        "    tf.keras.callbacks.TensorBoard(logdir/name),\n",
        "  ]"
      ],
      "execution_count": 0,
      "outputs": []
    },
    {
      "cell_type": "code",
      "metadata": {
        "colab_type": "code",
        "id": "WHZxCKYn9yD3",
        "colab": {}
      },
      "source": [
        "logdir = pathlib.Path(tempfile.mkdtemp())/\"tensorboard_logs\"\n",
        "# delete all the contents of a directory \n",
        "shutil.rmtree(logdir, ignore_errors=True) "
      ],
      "execution_count": 0,
      "outputs": []
    },
    {
      "cell_type": "markdown",
      "metadata": {
        "colab_type": "text",
        "id": "V-wc8jBrRRn0"
      },
      "source": [
        "Similarly each model will use the same `Model.compile` and `Model.fit` settings. Choose the binary cross entropy loss function. To read more about this loss https://towardsdatascience.com/understanding-binary-cross-entropy-log-loss-a-visual-explanation-a3ac6025181a"
      ]
    },
    {
      "cell_type": "code",
      "metadata": {
        "colab_type": "code",
        "id": "ydfK02N-RPSp",
        "colab": {}
      },
      "source": [
        "def compile_and_fit(model, name, optimizer=None, max_epochs=10000):\n",
        "  if optimizer is None:\n",
        "    optimizer = get_optimizer()\n",
        "  model.compile(optimizer=optimizer,\n",
        "                loss=tf.keras.losses.BinaryCrossentropy(from_logits=True),\n",
        "                metrics=[\n",
        "                  tf.keras.losses.BinaryCrossentropy(\n",
        "                      from_logits=True, name='binary_crossentropy'),\n",
        "                  'accuracy'])\n",
        "\n",
        "  model.summary()\n",
        "\n",
        "  history = model.fit(\n",
        "    train_ds,\n",
        "    steps_per_epoch = STEPS_PER_EPOCH,\n",
        "    epochs=max_epochs,\n",
        "    validation_data=validate_ds,\n",
        "    callbacks=get_callbacks(name),\n",
        "    verbose=0)\n",
        "  return history"
      ],
      "execution_count": 0,
      "outputs": []
    },
    {
      "cell_type": "markdown",
      "metadata": {
        "colab_type": "text",
        "id": "LlSVVX52RbtJ"
      },
      "source": [
        "## Tiny model\n",
        "Start by training a model:"
      ]
    },
    {
      "cell_type": "code",
      "metadata": {
        "colab_type": "code",
        "id": "Tr8HY4ChRduF",
        "colab": {}
      },
      "source": [
        "tiny_model = tf.keras.Sequential([\n",
        "    tf.keras.layers.Dense(16, activation='elu', input_shape=(FEATURES,)),\n",
        "    tf.keras.layers.Dense(1)\n",
        "])"
      ],
      "execution_count": 0,
      "outputs": []
    },
    {
      "cell_type": "code",
      "metadata": {
        "colab_type": "code",
        "id": "2SON2bBeRubb",
        "colab": {}
      },
      "source": [
        "size_histories = {}"
      ],
      "execution_count": 0,
      "outputs": []
    },
    {
      "cell_type": "code",
      "metadata": {
        "colab_type": "code",
        "id": "DSBbPNdjRvon",
        "colab": {}
      },
      "source": [
        "size_histories['Tiny'] = compile_and_fit(tiny_model, 'sizes/Tiny', max_epochs= 400)"
      ],
      "execution_count": 0,
      "outputs": []
    },
    {
      "cell_type": "markdown",
      "metadata": {
        "colab_type": "text",
        "id": "tV09766X-DZv"
      },
      "source": [
        "Now check how the model did:"
      ]
    },
    {
      "cell_type": "code",
      "metadata": {
        "colab_type": "code",
        "id": "mFjip7y4-Dst",
        "colab": {}
      },
      "source": [
        "plotter = tfdocs.plots.HistoryPlotter(metric = 'binary_crossentropy', smoothing_std=10)\n",
        "plotter.plot(size_histories)\n",
        "plt.ylim([0.5, 0.7])"
      ],
      "execution_count": 0,
      "outputs": []
    },
    {
      "cell_type": "markdown",
      "metadata": {
        "colab_type": "text",
        "id": "EtJloqceVhmN"
      },
      "source": [
        "## Large model\n",
        "As an exercise, you can create an even larger model, and see how quickly it begins overfitting. Next, let's add to this benchmark a network that has much more capacity, far more than the problem would warrant:"
      ]
    },
    {
      "cell_type": "code",
      "metadata": {
        "colab_type": "code",
        "id": "LNpb4KQTVpUL",
        "colab": {}
      },
      "source": [
        "large_model = tf.keras.Sequential([\n",
        "    tf.keras.layers.Dense(256, activation='elu', input_shape=(FEATURES,)),\n",
        "    tf.keras.layers.Dense(256, activation='elu'),\n",
        "    tf.keras.layers.Dense(256, activation='elu'),\n",
        "    tf.keras.layers.Dense(1)\n",
        "])"
      ],
      "execution_count": 0,
      "outputs": []
    },
    {
      "cell_type": "code",
      "metadata": {
        "colab_type": "code",
        "id": "zmipltqIVvYL",
        "colab": {}
      },
      "source": [
        "size_histories['large'] = compile_and_fit(large_model, \"sizes/large\", max_epochs= 400)"
      ],
      "execution_count": 0,
      "outputs": []
    },
    {
      "cell_type": "markdown",
      "metadata": {
        "colab_type": "text",
        "id": "m-E_BylW-O24"
      },
      "source": [
        "### Plot the training and validation losses\n",
        "The solid lines show the training loss, and the dashed lines show the validation loss (remember: a lower validation loss indicates a better model).\n",
        "\n",
        "While building a larger model gives it more power, if this power is not constrained somehow it can easily overfit to the training set.\n",
        "\n",
        "In this example, typically, only the \"Tiny\" model manages to avoid overfitting altogether, and the \"large\" model overfits the data more quickly. This becomes so severe for the \"large\" model that you need to switch the plot to a log-scale to really see what's happening.\n",
        "\n",
        "This is apparent if you plot and compare the validation metrics to the training metrics.\n",
        "\n",
        "* It's normal for there to be a small difference.\n",
        "* If both metrics are moving in the same direction, everything is fine.\n",
        "* If the validation metric begins to stagnate while the training metric continues to improve, you are probably close to overfitting.\n",
        "* If the validation metric is going in the wrong direction, the model is clearly overfitting."
      ]
    },
    {
      "cell_type": "code",
      "metadata": {
        "colab_type": "code",
        "id": "iRzwZJRk_J26",
        "colab": {}
      },
      "source": [
        "plotter.plot(size_histories)\n",
        "a = plt.xscale('log')\n",
        "plt.xlim([5, max(plt.xlim())])\n",
        "plt.ylim([0.5, 0.7])\n",
        "plt.xlabel(\"Epochs [Log Scale]\")"
      ],
      "execution_count": 0,
      "outputs": []
    },
    {
      "cell_type": "markdown",
      "metadata": {
        "colab_type": "text",
        "id": "BMd27fzs_eNC"
      },
      "source": [
        "### View in TensorBoard\n",
        "\n",
        "These models all wrote TensorBoard logs during training.\n",
        "\n",
        "Open an embedded  TensorBoard viewer inside a notebook:"
      ]
    },
    {
      "cell_type": "code",
      "metadata": {
        "colab_type": "code",
        "id": "-2tUOhhLAHWe",
        "colab": {}
      },
      "source": [
        " %load_ext tensorboard"
      ],
      "execution_count": 0,
      "outputs": []
    },
    {
      "cell_type": "code",
      "metadata": {
        "colab_type": "code",
        "id": "VeB_2szu_dde",
        "colab": {}
      },
      "source": [
        "#docs_infra: no_execute\n",
        "%tensorboard --logdir {logdir}/sizes"
      ],
      "execution_count": 0,
      "outputs": []
    },
    {
      "cell_type": "markdown",
      "metadata": {
        "colab_type": "text",
        "id": "QF8eBd_IAi4y"
      },
      "source": [
        "## Strategies to prevent overfitting#\n",
        "Before getting into the content of this section copy the training logs from the \"Tiny\" model above, to use as a baseline for comparison."
      ]
    },
    {
      "cell_type": "code",
      "metadata": {
        "id": "pW_PqK_SNpzu",
        "colab_type": "code",
        "colab": {}
      },
      "source": [
        "shutil.rmtree(logdir/'regularizers/Tiny', ignore_errors=True)\n",
        "shutil.copytree(logdir/'sizes/Tiny', logdir/'regularizers/Tiny')"
      ],
      "execution_count": 0,
      "outputs": []
    },
    {
      "cell_type": "code",
      "metadata": {
        "id": "WOC1zpISN6pc",
        "colab_type": "code",
        "colab": {}
      },
      "source": [
        "regularizer_histories = {}\n",
        "regularizer_histories['Tiny'] = size_histories['Tiny']"
      ],
      "execution_count": 0,
      "outputs": []
    },
    {
      "cell_type": "markdown",
      "metadata": {
        "id": "DmQi-YNjOANI",
        "colab_type": "text"
      },
      "source": [
        "### Add weight regularization\n",
        "\n",
        "You may be familiar with Occam's Razor principle: given two explanations for something, the explanation most likely to be correct is the \"simplest\" one, the one that makes the least amount of assumptions. This also applies to the models learned by neural networks: given some training data and a network architecture, there are multiple sets of weights values (multiple models) that could explain the data, and simpler models are less likely to overfit than complex ones.\n",
        "\n",
        "A \"simple model\" in this context is a model where the distribution of parameter values has less entropy (or a model with fewer parameters altogether, as we saw in the section above). Thus a common way to mitigate overfitting is to put constraints on the complexity of a network by forcing its weights only to take small values, which makes the distribution of weight values more \"regular\". This is called \"weight regularization\", and it is done by adding to the loss function of the network a cost associated with having large weights. This cost comes in two flavors:\n",
        "\n",
        "* [L1 regularization](https://developers.google.com/machine-learning/glossary/#L1_regularization), where the cost added is proportional to the absolute value of the weights coefficients (i.e. to what is called the \"L1 norm\" of the weights).\n",
        "\n",
        "* [L2 regularization](https://developers.google.com/machine-learning/glossary/#L2_regularization), where the cost added is proportional to the square of the value of the weights coefficients (i.e. to what is called the squared \"L2 norm\" of the weights). L2 regularization is also called weight decay in the context of neural networks. Don't let the different name confuse you: weight decay is mathematically the exact same as L2 regularization.\n",
        "\n",
        "L1 regularization pushes weights towards exactly zero encouraging a sparse model. L2 regularization will penalize the weights parameters without making them sparse since the penalty goes to zero for small weights. one reason why L2 is more common.\n",
        "\n",
        "In `tf.keras`, weight regularization is added by passing weight regularizer instances to layers as keyword arguments. Let's add L2 weight regularization now."
      ]
    },
    {
      "cell_type": "code",
      "metadata": {
        "id": "gtzNx4CiOIDg",
        "colab_type": "code",
        "colab": {}
      },
      "source": [
        "from tensorflow.keras import regularizers"
      ],
      "execution_count": 0,
      "outputs": []
    },
    {
      "cell_type": "code",
      "metadata": {
        "id": "3vzPJZshN_j_",
        "colab_type": "code",
        "colab": {}
      },
      "source": [
        "l2_model = tf.keras.Sequential([\n",
        "    tf.keras.layers.Dense(256, activation='elu',\n",
        "                 kernel_regularizer=regularizers.l2(0.001),\n",
        "                 input_shape=(FEATURES,)),\n",
        "    tf.keras.layers.Dense(256, activation='elu',\n",
        "                 kernel_regularizer=regularizers.l2(0.001)),\n",
        "    tf.keras.layers.Dense(256, activation='elu',\n",
        "                 kernel_regularizer=regularizers.l2(0.001)),\n",
        "    tf.keras.layers.Dense(1)\n",
        "])\n",
        "\n",
        "regularizer_histories['l2'] = compile_and_fit(l2_model, \"regularizers/l2\", max_epochs= 400)"
      ],
      "execution_count": 0,
      "outputs": []
    },
    {
      "cell_type": "markdown",
      "metadata": {
        "id": "9Bv3thpsR2Hc",
        "colab_type": "text"
      },
      "source": [
        "### Add dropout\n",
        "Dropout is one of the most effective and most commonly used regularization techniques for neural networks, developed by Hinton and his students at the University of Toronto.\n",
        "\n",
        "The intuitive explanation for dropout is that because individual nodes in the network cannot rely on the output of the others, each node must output features that are useful on their own.\n",
        "\n",
        "Dropout, applied to a layer, consists of randomly \"dropping out\" (i.e. set to zero) a number of output features of the layer during training. Let's say a given layer would normally have returned a vector [0.2, 0.5, 1.3, 0.8, 1.1] for a given input sample during training; after applying dropout, this vector will have a few zero entries distributed at random, e.g. [0, 0.5, 1.3, 0, 1.1].\n",
        "\n",
        "The \"dropout rate\" is the fraction of the features that are being zeroed-out; it is usually set between 0.2 and 0.5. At test time, no units are dropped out, and instead the layer's output values are scaled down by a factor equal to the dropout rate, so as to balance for the fact that more units are active than at training time.\n",
        "\n",
        "In `tf.keras`,  you can introduce dropout in a network via the Dropout layer, which gets applied to the output of layer right before.\n",
        "\n",
        "Let's add two Dropout layers in our network to see how well they do at reducing overfitting:"
      ]
    },
    {
      "cell_type": "code",
      "metadata": {
        "id": "MwTNsFDNR1Uf",
        "colab_type": "code",
        "colab": {}
      },
      "source": [
        "dropout_model = tf.keras.Sequential([\n",
        "    tf.keras.layers.Dense(256, activation='elu', input_shape=(FEATURES,)),\n",
        "    tf.keras.layers.Dropout(0.5),\n",
        "    tf.keras.layers.Dense(256, activation='elu'),\n",
        "    tf.keras.layers.Dropout(0.5),\n",
        "    tf.keras.layers.Dense(256, activation='elu'),\n",
        "    tf.keras.layers.Dropout(0.5),\n",
        "    tf.keras.layers.Dense(1)\n",
        "])\n",
        "\n",
        "regularizer_histories['dropout'] = compile_and_fit(dropout_model, \"regularizers/dropout\", max_epochs= 400)"
      ],
      "execution_count": 0,
      "outputs": []
    },
    {
      "cell_type": "markdown",
      "metadata": {
        "id": "obLqNL2vzmRu",
        "colab_type": "text"
      },
      "source": [
        "Plot the results "
      ]
    },
    {
      "cell_type": "code",
      "metadata": {
        "id": "EYXbSu54zyCE",
        "colab_type": "code",
        "colab": {}
      },
      "source": [
        "plotter.plot(regularizer_histories)\n",
        "plt.ylim([0.5, 0.7])"
      ],
      "execution_count": 0,
      "outputs": []
    },
    {
      "cell_type": "code",
      "metadata": {
        "id": "4FPNOaXB1KSd",
        "colab_type": "code",
        "colab": {}
      },
      "source": [
        "%tensorboard --logdir {logdir}/regularizers"
      ],
      "execution_count": 0,
      "outputs": []
    },
    {
      "cell_type": "markdown",
      "metadata": {
        "colab_type": "text",
        "id": "GFmzTLzAKbKW"
      },
      "source": [
        "## References\n",
        "* https://androidkt.com/split-the-data-into-train-test-dev/\n",
        "* https://www.tensorflow.org/tutorials/keras/overfit_and_underfit\n",
        "* https://www.tensorflow.org/guide/tensor"
      ]
    }
  ]
}