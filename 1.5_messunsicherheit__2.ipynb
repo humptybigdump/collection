{
 "cells": [
  {
   "cell_type": "markdown",
   "metadata": {},
   "source": [
    "# Messunsicherheit\n",
    "Ein Wagen rollt eine schiefe Ebene aus Holz hinunter und passiert dabei zwei Lichtschranken im Abstand von einem Meter. Die Zeit, die der Wagen zum Durchlaufen der Strecke benötigt wird mit einer Stoppuhr gemessen, die Zeiten auf Tausendstelsekunden genau anzeigt. Die erste Lichtschranke startet die Stoppuhr, die zweiten hält sie wieder an.\n"
   ]
  },
  {
   "cell_type": "code",
   "execution_count": 1,
   "metadata": {},
   "outputs": [
    {
     "name": "stdout",
     "output_type": "stream",
     "text": [
      "Mittelwert:              2.574\n",
      "Standardabweichung:      0.075\n",
      "Unsicherheit Mittelwert: 0.024\n"
     ]
    },
    {
     "data": {
      "image/png": "[encoded data removed]",
      "text/plain": [
       "<Figure size 432x288 with 1 Axes>"
      ]
     },
     "metadata": {
      "needs_background": "light"
     },
     "output_type": "display_data"
    }
   ],
   "source": [
    "import matplotlib\n",
    "import numpy as np\n",
    "import matplotlib.pyplot as plt\n",
    "\n",
    "# Messwerte A. Schubert\n",
    "zeiten = np.array([ 2.732, 2.544, 2.541, 2.570, 2.680, 2.524, 2.515, 2.582, 2.494, 2.561 ], dtype=float )\n",
    "\n",
    "# Mittelwert und Stichproben-Standardabweichung\n",
    "mittel = zeiten.mean()          # arithmetisches Mittel\n",
    "std    = zeiten.std( ddof = 1 ) # im Nenner sqrt( N - ddof )\n",
    "sqrtn  = np.sqrt( len(zeiten ) ) # sqrt(N)\n",
    "\n",
    "print( \"Mittelwert:              %5.3f\" % mittel )\n",
    "print( \"Standardabweichung:      %5.3f\" % std )\n",
    "print( \"Unsicherheit Mittelwert: %5.3f\" % (std/sqrtn) )\n",
    "\n",
    "      \n",
    "# Plot\n",
    "fig,ax = plt.subplots()\n",
    "\n",
    "# Histogramm\n",
    "bingrenzen = np.arange( 2.4, 2.8, 0.05 )\n",
    "ax.hist( zeiten, bins=bingrenzen )\n",
    "\n",
    "# Verschönerung der Darstellung\n",
    "ax.set_xlabel( r'Zeit (s)' )\n",
    "ax.set_ylabel( r'Häufigkeit' )\n",
    "ax.grid( True )\n",
    "\n",
    "# Grafik abspeichern und zeigen\n",
    "plt.savefig( 'messunsicherheit.pdf' )\n",
    "plt.show()"
   ]
  },
  {
   "cell_type": "code",
   "execution_count": null,
   "metadata": {},
   "outputs": [],
   "source": []
  },
  {
   "cell_type": "code",
   "execution_count": null,
   "metadata": {},
   "outputs": [],
   "source": []
  }
 ],
 "metadata": {
  "kernelspec": {
   "display_name": "Python 3 (ipykernel)",
   "language": "python",
   "name": "python3"
  },
  "language_info": {
   "codemirror_mode": {
    "name": "ipython",
    "version": 3
   },
   "file_extension": ".py",
   "mimetype": "text/x-python",
   "name": "python",
   "nbconvert_exporter": "python",
   "pygments_lexer": "ipython3",
   "version": "3.9.6"
  }
 },
 "nbformat": 4,
 "nbformat_minor": 4
}
