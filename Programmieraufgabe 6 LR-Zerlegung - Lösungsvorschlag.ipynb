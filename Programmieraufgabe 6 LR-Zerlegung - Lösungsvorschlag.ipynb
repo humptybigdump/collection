{
 "cells": [
  {
   "cell_type": "markdown",
   "id": "94bc997b-db00-49a9-ae4b-061086e4f65b",
   "metadata": {},
   "source": [
    "# Notebook zur LR-Zerlegung"
   ]
  },
  {
   "cell_type": "markdown",
   "id": "97e36818-03f4-47bc-97c5-2131c0671ca7",
   "metadata": {},
   "source": [
    "**Abgabe in den Programmiertutorien am 6. und 7. Februar 2025. Falls Sie Unterstützung bei der Bearbeitung der Programmieraufgabe brauchen, wenden Sie sich frühzeitig an Ihren Tutor oder melden Sie sich im Forum.**"
   ]
  },
  {
   "cell_type": "markdown",
   "id": "67ec760a-7991-4ffd-9778-2b9690e890e4",
   "metadata": {},
   "source": [
    "Benötigte Module für dieses Notebook:"
   ]
  },
  {
   "cell_type": "code",
   "execution_count": 1,
   "id": "6f5d8855-c0d2-469d-8196-6e40249b131a",
   "metadata": {},
   "outputs": [],
   "source": [
    "import numpy as np"
   ]
  },
  {
   "cell_type": "markdown",
   "id": "46951db1-716e-4731-9830-961d5d46b2d1",
   "metadata": {},
   "source": [
    "Sei $A\\in\\mathbb{R}^{n\\times n}$ eine reguläre Matrix. Nach Satz 4.1 aus dem Skript können wir mit Hilfe des Gauß-Algorithmus eine LR-Zerlegung durchführen:\n",
    "\\begin{align*}\n",
    "        &PA = LR\n",
    "\\end{align*}\n",
    "mit einer Permutationsmatrix $P$ und\n",
    "\\begin{align*} \\\\\n",
    "        &L = \\begin{bmatrix}\n",
    "1 & 0      & 0      & \\cdots & 0 \\\\\n",
    "\\ell_{2,1} & 1 & 0      & \\cdots & 0 \\\\\n",
    "\\ell_{3,1} & \\ell_{3,2} & 1 & \\cdots & 0 \\\\\n",
    "\\vdots & \\vdots & \\vdots & \\ddots & 0 \\\\\n",
    "\\ell_{n,1} & \\ell_{n,2} & \\ell_{n,3} & \\cdots & 1\n",
    "\\end{bmatrix}, \\quad R = \\begin{bmatrix}\n",
    "r_{1,1} & r_{1,2} & r_{1,3} & \\cdots & r_{1,n} \\\\\n",
    "0      & r_{2,2} & r_{2,3} & \\cdots & r_{2,n} \\\\\n",
    "0      & 0      & r_{3,3} & \\cdots & r_{3,n} \\\\\n",
    "\\vdots & \\vdots & \\vdots & \\ddots & \\vdots \\\\\n",
    "0      & 0      & 0      & \\cdots & r_{n,n}\n",
    "\\end{bmatrix}, \\quad r_{i,i} \\neq 0 \\text{ für } i=1,...,n.\n",
    "\\end{align*}\n",
    "    Die Einträge von $ L $ sind die $ \\ell_{i,j} $ aus dem Gauß-Algorithmus.\n",
    "\n",
    "\n"
   ]
  },
  {
   "cell_type": "markdown",
   "id": "8423b7f1-8302-46d6-89fa-752cd18b6e82",
   "metadata": {},
   "source": [
    "### Teil 1: LR-Zerlegung ohne Pivotisierung"
   ]
  },
  {
   "cell_type": "markdown",
   "id": "e7d61651",
   "metadata": {},
   "source": [
    "Im ersten Teil der Programmieraufgabe betrachten wir die LR-Zerlegung ohne Pivotisierung:\n",
    "\\begin{align*}\n",
    "A=LR\n",
    "\\end{align*}\n",
    "mit den Matrizen $L$ und $R$ aus dem vorherigen Abschnitt."
   ]
  },
  {
   "cell_type": "markdown",
   "id": "f0ac83d6",
   "metadata": {},
   "source": [
    "**a) Schreiben Sie eine Prozedur `LR`, welche als Eingabe eine reguläre Matrix $A\\in\\mathbb{R}^{n\\times n}$ nimmt und die LR-Zerlegung für diese Matrix $A$ durchführt. Die Prozedur soll die Matrizen $L$ und $R$ ausgeben. Falls die Prozedur während der Iteration einen Nulleintrag auf der Diagonalen von der Matrix $R$ aufweisen sollte, dann brechen Sie den Prozess ab.**\n",
    "\n",
    "**Hinweis:** *Initialisieren Sie die Matrix $L$ mit einer Einheitsmatrix mit der gleichen Größe wie die Matrix $A$ und die Matrix $R$ mit einer Kopie von der Matrix $A$. Belegen Sie dann die Matrizen $L$ und $R$ entsprechend des Gauß-Algorithmus.*"
   ]
  },
  {
   "cell_type": "code",
   "execution_count": 2,
   "id": "74c4544b",
   "metadata": {},
   "outputs": [],
   "source": [
    "def LR(A):\n",
    "    n = A.shape[0]\n",
    "    R = A.copy()\n",
    "    L = np.eye(n)\n",
    "    for j in range(n-1):\n",
    "        for i in range(j+1,n):\n",
    "            if R[j,j] ==0:\n",
    "                print(\"Nullelement auf der Diagonalen\")\n",
    "                break\n",
    "            L[i,j] = R[i,j]/R[j,j]\n",
    "            for k in range(j,n):\n",
    "                R[i,k] = R[i,k] - L[i,j] * R[j,k]\n",
    "\n",
    "    return L, R"
   ]
  },
  {
   "cell_type": "markdown",
   "id": "d9fcd8ef",
   "metadata": {},
   "source": [
    "**Überprüfen Sie das Ergebnis ihrer Prozedur mit dem folgenden Codeausschnitt:**\n",
    "\n",
    "**Hinweis:** *Der numpy Befehl `np.allclose` gibt \"True\" zurück, falls die Matrizen elementenweise (innerhalb einer Toleranz) gleich sind, sonst gibt der Befehl \"False\" zurück.*"
   ]
  },
  {
   "cell_type": "code",
   "execution_count": 3,
   "id": "400ecb29",
   "metadata": {},
   "outputs": [
    {
     "name": "stdout",
     "output_type": "stream",
     "text": [
      "Untere Dreiecksmatrix L:\n",
      "[[ 1.   0.   0.   0. ]\n",
      " [ 4.   1.   0.   0. ]\n",
      " [-1.  -0.6  1.   0. ]\n",
      " [-1.  -0.6  0.5  1. ]]\n",
      "Obere Dreiecksmatrix R:\n",
      "[[  1.   2.   3.   4.]\n",
      " [  0.  -5. -10. -15.]\n",
      " [  0.   0.  -4.  -4.]\n",
      " [  0.   0.   0.  -4.]]\n",
      "LR:\n",
      "[[ 1.  2.  3.  4.]\n",
      " [ 4.  3.  2.  1.]\n",
      " [-1.  1. -1.  1.]\n",
      " [-1.  1.  1. -1.]]\n",
      "A:\n",
      "[[ 1.  2.  3.  4.]\n",
      " [ 4.  3.  2.  1.]\n",
      " [-1.  1. -1.  1.]\n",
      " [-1.  1.  1. -1.]]\n",
      "True\n"
     ]
    }
   ],
   "source": [
    "A = np.array([[1,2,3,4],[4,3,2,1],[-1,1,-1,1],[-1,1,1,-1]], dtype='float64' )   \n",
    "L, R = LR(A)\n",
    "print('Untere Dreiecksmatrix L:')\n",
    "print(L)\n",
    "print('Obere Dreiecksmatrix R:')\n",
    "print(R)\n",
    "print('LR:')\n",
    "print(L@R)\n",
    "print('A:')\n",
    "print(A)\n",
    "print(np.allclose(A,L@R))"
   ]
  },
  {
   "cell_type": "markdown",
   "id": "d4036776",
   "metadata": {},
   "source": [
    "### Teil 2: LR-Zerlegung mit Pivotisierung"
   ]
  },
  {
   "cell_type": "markdown",
   "id": "d3e206bc",
   "metadata": {},
   "source": [
    "Für die Wahl der Pivotelemente gehen wir nach Kapitel 4.2 im Skript vor und wählen im $(k+1)$-ten Schritt das Pivotelement\n",
    "\\begin{align*}\n",
    "    \\vert a_{j,k+1}^{(k)}\\vert = \\max_{i = k+1,...,n} \\vert a_{i,k+1}^{(k)}\\vert.\n",
    "\\end{align*}\n"
   ]
  },
  {
   "cell_type": "markdown",
   "id": "81d484f3",
   "metadata": {},
   "source": [
    "**b) Schreiben Sie eine Prozedur `LR_pivot`, welche als Eingabe eine reguläre Matrix $A\\in\\mathbb{R}^{n\\times n}$ nimmt und die LR-Zerlegung für diese Matrix $A$ mit Spaltenpivotsuche gemäß des obigen Kriteriums durchführt. Die Prozedur soll die Matrizen $L$, $R$ und $P$ ausgeben.**\n",
    "\n",
    "**Hinweis:** *Initialisieren Sie auch $P$ als Einheitsmatrix mit der selben Größe wie $A$. Falls das Diagonalelement nicht das Pivotelement ist, dann müssen Zeilen innerhalb der Matrizen $L$, $R$ und $P$ vertauscht werden. Achten Sie darauf, dass bei der Matrix $L$ nicht die komplette Zeile angepasst wird, da die Einsen auf der Diagonalen erhalten bleiben müssen.* "
   ]
  },
  {
   "cell_type": "code",
   "execution_count": 4,
   "id": "32b4ee46",
   "metadata": {},
   "outputs": [],
   "source": [
    "def LR_pivot(A):\n",
    "    n = A.shape[0]\n",
    "    R = A.copy()\n",
    "    L = np.eye(n)\n",
    "    P = np.eye(n)\n",
    "\n",
    "    for j in range(n - 1):\n",
    "        # Finde betragsmäßig größtes Element in der j-ten Spalte\n",
    "        index = j + np.argmax(np.abs(R[j:, j]))\n",
    "        \n",
    "        # Zeilentausch in den Matrizen L, R und P\n",
    "        if index != j:  # Tausche Zeile j und index nur dann, falls das betragsmäßig größte Element nicht an der j-Stelle ist\n",
    "            R[[j, index], :] = R[[index, j], :]\n",
    "            P[[j, index], :] = P[[index, j], :]\n",
    "            if j > 0:  # Tausche Zeile j und index, aber nur bis zum j-ten Spalteneintrag\n",
    "                L[[j, index], :j] = L[[index, j], :j]\n",
    "        \n",
    "        # L und R updaten\n",
    "        for i in range(j + 1, n):\n",
    "            L[i, j] = R[i, j] / R[j, j]\n",
    "            R[i, j:] -= L[i, j] * R[j, j:]\n",
    "\n",
    "    return L, R, P"
   ]
  },
  {
   "cell_type": "code",
   "execution_count": 5,
   "id": "be19696b-24fb-4346-976c-e9399f5c5d04",
   "metadata": {
    "scrolled": true
   },
   "outputs": [
    {
     "name": "stdout",
     "output_type": "stream",
     "text": [
      "[[ 1.  2.  3.  4.]\n",
      " [ 4.  3.  2.  1.]\n",
      " [-1.  1. -1.  1.]\n",
      " [-1.  1.  1. -1.]]\n",
      "Permutationsmatrix P:\n",
      "[[0. 1. 0. 0.]\n",
      " [0. 0. 1. 0.]\n",
      " [1. 0. 0. 0.]\n",
      " [0. 0. 0. 1.]]\n",
      "Untere Dreiecksmatrix L:\n",
      "[[ 1.          0.          0.          0.        ]\n",
      " [-0.25        1.          0.          0.        ]\n",
      " [ 0.25        0.71428571  1.          0.        ]\n",
      " [-0.25        1.          0.7         1.        ]]\n",
      "Obere Dreiecksmatrix R:\n",
      "[[ 4.          3.          2.          1.        ]\n",
      " [ 0.          1.75       -0.5         1.25      ]\n",
      " [ 0.          0.          2.85714286  2.85714286]\n",
      " [ 0.          0.          0.         -4.        ]]\n",
      "PA:\n",
      "[[ 4.  3.  2.  1.]\n",
      " [-1.  1. -1.  1.]\n",
      " [ 1.  2.  3.  4.]\n",
      " [-1.  1.  1. -1.]]\n",
      "LR:\n",
      "[[ 4.  3.  2.  1.]\n",
      " [-1.  1. -1.  1.]\n",
      " [ 1.  2.  3.  4.]\n",
      " [-1.  1.  1. -1.]]\n",
      "True\n"
     ]
    }
   ],
   "source": [
    "A = np.array([[1,2,3,4],[4,3,2,1],[-1,1,-1,1],[-1,1,1,-1]], dtype='float64' )   \n",
    "L, R, P = LR_pivot(A)\n",
    "print(A)\n",
    "print('Permutationsmatrix P:')\n",
    "print(P)\n",
    "print('Untere Dreiecksmatrix L:')\n",
    "print(L)\n",
    "print('Obere Dreiecksmatrix R:')\n",
    "print(R)\n",
    "print('PA:')\n",
    "print(P@A)\n",
    "print('LR:')\n",
    "print(L@R)\n",
    "print(np.allclose(P@A,L@R))"
   ]
  },
  {
   "cell_type": "markdown",
   "id": "0118dbe1-b7a6-4d9b-9240-28616b59f6e9",
   "metadata": {},
   "source": [
    "## Teil 3: LR-Zerlegungen im Vergleich"
   ]
  },
  {
   "cell_type": "markdown",
   "id": "b4ad2e7a",
   "metadata": {},
   "source": [
    "Wir betrachten nun die Matrix\n",
    "\\begin{align*}\n",
    "A= \\left( \\begin{array}{cc}\n",
    "\\delta & -1\\\\\n",
    "1&1\\\\\n",
    "   \\end{array} \\right)\n",
    "\\end{align*}\n",
    "für verschiedene $0 < \\delta \\ll 1$.  Die Matrix ist invertierbar und eine LR-Zerlegung ist auch ohne Zeilenvertauschungen möglich."
   ]
  },
  {
   "cell_type": "markdown",
   "id": "cecdf54f-e6fe-43ce-a09a-46f73858e1d0",
   "metadata": {},
   "source": [
    "**(d) Führen Sie beide Prozeduren `LR` und `LR_pivot` mit der Matrix $A$ und $\\delta=10^{-m}$ für $m=1,2,\\ldots$ durch und beobachten Sie, ob das Produkt der Matrizen $L$ und $R$ tatsächlich der Matrix $A$ bzw. $PA$ entspricht, indem Sie den betragsmäßig größten Fehler aller Einträge ausgeben. Ab welchem Wert von $m$ treten bei der LR-Zerlegung ohne Zeilenvertauschungen Fehler auf? Erklären Sie, wie dieser Wert von $m$ zustande kommt. Erklären Sie außerdem die Größe des Fehlers und warum beide Prozeduren verschiedene Fehler liefern.**\n",
    "\n",
    "**Hinweis:** *Nachdem Sie das $m$ bestimmt haben, ist es hilfreich die einzelnen Schritte der LR-Zerlegung mit und ohne Pivotisierung auf einem Blatt Papier aufzuschreiben, um das Ergebnis zu begründen. Überlegen Sie sich dabei, welche Zahlen für den Computer darstellbar sind.*"
   ]
  },
  {
   "cell_type": "markdown",
   "id": "19484b52-b5d8-4aab-bb35-ec0c740a03c6",
   "metadata": {},
   "source": [
    "**Lösung:** Für $m=16$ ist der Fehler zum ersten mal unterschiedlich. Die LR Zerlegung ohne Pivotisierung liefert den Fehler 1. \n",
    "\n",
    "Erklärung: Die exakte LR-Zerlegung ohne Pivotisierung ist\n",
    "$$ A = \\begin{pmatrix} 1 & 0 \\\\ \\frac{1}{\\delta} & 1 \\end{pmatrix} \\begin{pmatrix} \\delta & -1 \\\\ 0 & 1 + \\frac{1}{\\delta} \\end{pmatrix}. $$\n",
    "Die Zahl $\\delta$ selbst ist auch für große Wert von $m$ im PC ohne nennenswerte Rundungsfehler darstellbar, genauso die Zahl $\\frac{1}{\\delta} = 10^m$. Dies gilt allerdings nicht für die Zahl $1 + \\frac{1}{\\delta} = 1 + 10^m = (1+10^{-m}) \\cdot 10^m$. Ist $m$ zu groß, so stehen in der Mantisse nicht ausreichend Stellen zur Verfügung, um die Zahl $1+10^{-m}$ zu speichern. Stattdessen geht der Summand $10^{-m}$ einfach verloren. Nach Tutoriumsaufgabe 15/Hausaufgabe 17 ist die kleinste darstellbare Zahl $>1$ durch $1+2\\epsilon$ mit der Maschinengenauigkeit $\\epsilon$ gegeben. In IEEE 754 double precision gilt $\\epsilon \\approx 1.1 \\cdot 10^{-16}$. Für $\\delta < \\epsilon$ wird also $1+\\delta$ zur Zahl $1$ gerundet, also $1 + \\frac{1}{\\delta}$ zur Zahl $\\frac{1}{\\delta}$ gerundet. Der Algorithmus liefert also die fehlerhafte LR-Zerlegung\n",
    "$$ \\widetilde{L} = \\begin{pmatrix} 1 & 0 \\\\ \\frac{1}{\\delta} & 1 \\end{pmatrix}, \\qquad \n",
    "   \\widetilde{R}= \\begin{pmatrix} \\delta & -1 \\\\ 0 & \\frac{1}{\\delta} \\end{pmatrix}. $$\n",
    "Für das Produkt $\\widetilde{L}\\widetilde{R}$ gilt dann\n",
    "$$ \\widetilde{L}\\widetilde{R} = \\begin{pmatrix} \\delta & -1 \\\\ 1 & 0 \\end{pmatrix}.$$\n",
    "Im rechten unteren Eintrag ist der Fehler $1$."
   ]
  },
  {
   "cell_type": "markdown",
   "id": "29d2663c-88fd-48ac-8b70-1631116e1b65",
   "metadata": {},
   "source": [
    "Bei der LR-Zerlegung mit Spaltenpivotsuche werden zunächst die Zeilen von $A$ vertauscht. In exakter Arithmetik erhält man die Zerlegung\n",
    "$$ \\begin{pmatrix} 1 & 1 \\\\ \\delta & -1 \\end{pmatrix} = \\underbrace{ \\begin{pmatrix} 0 & 1 \\\\ 1 & 0 \\end{pmatrix} }_{=P} A = \\begin{pmatrix} 1 & 0 \\\\ \\delta & 1 \\end{pmatrix} \\begin{pmatrix} 1 & 1 \\\\ 0 & -1-\\delta \\end{pmatrix}.$$\n",
    "Auch hier wird $-1-\\delta$ für $m>16$  im PC nur als $1$ dargestellt, man erhält die fehlerhafte Zerlegung\n",
    "$$ \\widetilde{L} = \\begin{pmatrix} 1 & 0 \\\\ \\delta & 1 \\end{pmatrix}, \\qquad \n",
    "   \\widetilde{R}= \\begin{pmatrix} 1 & 1 \\\\ 0 & -1 \\end{pmatrix}. $$\n",
    "Für das Produkt $\\widetilde{L}\\widetilde{R}$ gilt dann\n",
    "$$ \\widetilde{L}\\widetilde{R} = \\begin{pmatrix} 1 & 1 \\\\ \\delta & -1+\\delta \\end{pmatrix}.$$"
   ]
  },
  {
   "cell_type": "markdown",
   "id": "a4f045c0-7e89-4a06-9151-d36166fdfe09",
   "metadata": {},
   "source": [
    "Man kann sich nun noch überlegen, was bei Rundung der Zahl $-1+\\delta = - (1-\\delta)$ ins Gleitkommasystem passiert. Die größtmögliche darstellbare Zahl $<1$ in einem Gleitkommasystem ist die Zahl $1-\\epsilon$ mit der Maschinengenauigkeit $\\epsilon$ (also hier ungefähr $1-1.1\\cdot 10^{-16}$). Achtung: Anders als bei der kleinstmöglichen darstellbaren Zahl $>1$, nämlich $1+2\\epsilon$, kommt der Faktor $2$ hier nicht vor!. Für $\\delta= 10^{-16}$ wird $-1+\\delta = - (1-\\delta)$ also auf $- (1-\\epsilon) = -1 + \\epsilon$ gerundet. Der Fehler im rechten unteren Eintrag gegenüber der Matrix $PA$ ist also genau die Maschinengenauigkeit $\\epsilon$, alle anderen Einträge stimmen mit denen von $PA$ überein."
   ]
  },
  {
   "cell_type": "code",
   "execution_count": 7,
   "id": "464f9993",
   "metadata": {},
   "outputs": [
    {
     "name": "stdout",
     "output_type": "stream",
     "text": [
      "Original matrix A:\n",
      "[[ 1.e-16 -1.e+00]\n",
      " [ 1.e+00  1.e+00]]\n",
      "\n",
      "LR Zerlegung ohne Pivotisierung (A - LR):\n",
      "1.0\n",
      "LR Zerlegung mit Pivotisierung (PA - LR):\n",
      "1.1102230246251565e-16\n"
     ]
    }
   ],
   "source": [
    "# Definiere schlecht konditionierte Matrix\n",
    "m = 16\n",
    "delta = 10**(-m)\n",
    "A = np.array([[delta,-1],[1 , 1]])\n",
    "\n",
    "print(\"Original matrix A:\")\n",
    "print(A)\n",
    "\n",
    "# LR ohne Pivotisierung\n",
    "L, R = LR(A)\n",
    "\n",
    "# LR mit Pivotisierung\n",
    "L_pivot, R_pivot, P_pivot= LR_pivot(A)\n",
    "\n",
    "# Check the factorization errors\n",
    "print(\"\\nLR Zerlegung ohne Pivotisierung (A - LR):\")\n",
    "print(np.max(np.abs(A - L @ R)))\n",
    "\n",
    "print(\"LR Zerlegung mit Pivotisierung (PA - LR):\")\n",
    "print(np.max(np.abs(P_pivot@A - L_pivot @ R_pivot)))"
   ]
  },
  {
   "cell_type": "code",
   "execution_count": null,
   "id": "7815f3a0-173a-47ee-8166-67c70d97b41e",
   "metadata": {},
   "outputs": [],
   "source": []
  }
 ],
 "metadata": {
  "kernelspec": {
   "display_name": "Python 3 (ipykernel)",
   "language": "python",
   "name": "python3"
  },
  "language_info": {
   "codemirror_mode": {
    "name": "ipython",
    "version": 3
   },
   "file_extension": ".py",
   "mimetype": "text/x-python",
   "name": "python",
   "nbconvert_exporter": "python",
   "pygments_lexer": "ipython3",
   "version": "3.12.3"
  }
 },
 "nbformat": 4,
 "nbformat_minor": 5
}
