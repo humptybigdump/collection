{
 "cells": [
  {
   "cell_type": "markdown",
   "metadata": {},
   "source": [
    "# Textverarbeitung (Teil 1) - Erstellung des Textkorpusses I\n",
    "\n",
    "In den folgenden Seminareinheiten orientieren wir uns am folgendem Szenario:\n",
    "\n",
    "<i>Immanuel möchte die philosophischen Texte der heutigen Zeit mit Hilfe von computergestützten Verfahren untersuchen und herausfinden, wie viele unterschiedliche Themen / Teilbereiche es gibt. Hierfür erstellt er zunächst einen Datensatz an unterschiedlichen Texten, bereitet die gewonnenen Daten auf und wendet anschließend ein automatisiertes Verfahren an, das die Texte unterschiedlichen Kategorien zuzuordnet.</i>\n",
    "\n",
    "Das Vorgehen lässt sich (sehr grob) in folgende Schritte unterteilen:\n",
    "\n",
    " <figure>\n",
    "  <img src=\"resources/img/schritte_datenverarbeitung.png\" alt=\"Schritte Datenverarbeitung\" style=\"width:50%\">\n",
    "  <br>\n",
    "  <figcaption></figcaption>\n",
    " </figure> \n",
    "\n",
    "Im ersten Schritt werden die Texte akquiriert. Die Gesamtheit der Texte wird als <b>Textkorpus</b> und die einzelnen Texte als <b>Dokumente</b> bezeichnet. Im zweiten Schritt werden die Dokumente aufbereitet (z.B. werden Stoppwörter entfernt und alle Wörter klein geschrieben). Im dritten Schritt dient der aufbereitete Textkorpus als Eingabe für ein <b>Topic-Modelling-Verfahren</b>, das mit Hilfe von statistischen Verfahren die Dokumente unterschiedlichen Kategorien zuordnet. Die wichtigsten Wörter der Kategorien werden dabei vom Verfahren bestimmt.\n",
    "\n",
    "## Exkurs: Client-Server-Modell und Webseiten\n",
    "\n",
    "Das <b>Internet</b> ist ein sehr großer, weltweiter Verbund von Rechnernetzwerken. Ist man durch ein Gerät mit diesem Netzwerk verbunden, können Daten empfangen oder an andere Rechner gesendet werden. Bestimmte Rechner nehmen dabei gewisse Rollen in diesem Netzwerk ein.\n",
    "\n",
    "Ein <b>Server</b> ist ein Computer, der bestimmte Dienste oder Ressourcen bereitstellt. Mailserver verarbeiten, speichern und übermitteln E-Mails. Datenbankserver speichern, verwalten und verarbeiten Daten in einer Datenbank. Webserver stellen Webseiten und andere webbasierte Inhalte über das HTTPS-Protokoll bereit. \n",
    "\n",
    "Wenn ein Rechner einen Dienst oder eine Ressource von einem anderen Rechner in Anspruch nimmt / nehmen möchte, wird er als <b>Client</b> bezeichnet. Er stellt dabei eine Anfrage (Request) an den Server und erhält eine Antwort (Response).\n",
    "\n",
    " <figure>\n",
    "  <img src=\"resources/img/client-server-model.png\" alt=\"Client-Server-Modell\" style=\"width:40%\">\n",
    "  <br>\n",
    "  <figcaption></figcaption>\n",
    " </figure>\n",
    " \n",
    "Ein Client ist im Internet (fast) nie „direkt“ mit dem Server verbunden. Die Anfrage vom Client und die Antwort vom Server werden über unterschiedliche Knoten im Netzwerk an das jeweilige Ziel geleitet.\n",
    "\n",
    "### Die wichtigsten Bausteine einer Webseite\n",
    "\n",
    "Das Grundgerüst von Webseiten bilden HTML-Dokumente. <b>HTML (Hypertext Markup Language)</b> ist eine Sprache zur Strukturierung von Texten, Bildern und anderen Inhalten. Die Strukturierung erfolgt dabei durch Auszeichnungen (Markups). Wenn in einem HTML-Dokument ein entsprechender Bezug zu einem <b>Cascading Style Sheet (CSS)</b> genommen wird, wird die Darstellung der Inhalte des HTML-Dokuments durch die CSS-Datei bestimmt. Vor allem die Programmiersprache <b>JavaScript</b> wird dafür verwenden, um die Strukturierung, Inhalte und das Design von Webseiten zu verändern, sodass die Webseite dynamischer wird.\n",
    "\n",
    "<figure>\n",
    "  <img src=\"resources/img/html_css_js.png\" alt=\"HTML, CSS und JavaSc\" style=\"width:40%\">\n",
    "  <br>\n",
    "  <figcaption></figcaption>\n",
    " </figure>\n",
    "\n",
    "Ein <b>Webbrowser</b> ist also ein Programm deren wichtigster Zweck es ist, die vom Server empfangenden Dateien zu der gewünschten Darstellung zusammenzusetzen. \n",
    "\n",
    "\n",
    "## HTML-Dokument anfordern\n",
    "\n",
    "Mit Hilfe der Standardbibliothek 'urllib' lässt sich das HTML-Dokument von einer Webseite als Zeichenkette speichern."
   ]
  },
  {
   "cell_type": "code",
   "execution_count": null,
   "metadata": {},
   "outputs": [],
   "source": [
    "import urllib.request\n",
    "\n",
    "fp = urllib.request.urlopen(\"https://plato.stanford.edu/entries/artificial-intelligence/\")\n",
    "mybytes = fp.read()\n",
    "\n",
    "html = mybytes.decode(\"utf8\")\n",
    "fp.close()\n",
    "\n",
    "print(html)"
   ]
  },
  {
   "cell_type": "markdown",
   "metadata": {},
   "source": [
    "In den meisten Fällen ist man nicht daran interessiert, das komplette HTML-Dokument zu speichern, sondern nur bestimmte Daten. Da es sich bei Zeichenketten um Objekte einer Klasse handelt, können die implementierten Funktion auf diesem Objekt abgerufen werden. \n",
    "\n",
    "## Nützliche Methoden\n",
    "\n",
    "Im Folgenden findest du eine Auswahl an nützlichen Methoden, die du auf einem String-Objekt aufrufen kannst."
   ]
  },
  {
   "cell_type": "code",
   "execution_count": null,
   "metadata": {},
   "outputs": [],
   "source": [
    "text = \"Der Mensch ist ein Seil, geknüpft zwischen Tier und Übermensch - ein Seil über einem Abgrund.\""
   ]
  },
  {
   "cell_type": "code",
   "execution_count": null,
   "metadata": {},
   "outputs": [],
   "source": [
    "# Alle Buchstaben im Text werden klein geschrieben. \n",
    "ergebnis = text.lower()\n",
    "print(ergebnis)\n",
    "\n",
    "# Beachte, dass der ursprüngliche Text durch den Funktionsaufruf nicht verändert wird.\n",
    "print(text)"
   ]
  },
  {
   "cell_type": "code",
   "execution_count": null,
   "metadata": {},
   "outputs": [],
   "source": [
    "# Teilt den Text an den Vorkommen der übergebenen Zeichenkette auf.\n",
    "# Das Ergebis ist eine Liste aus Zeichenketten.\n",
    "ergebnis = text.split(\"Seil\")\n",
    "print(ergebnis)"
   ]
  },
  {
   "cell_type": "code",
   "execution_count": null,
   "metadata": {},
   "outputs": [],
   "source": [
    "# Ersetzt alle Vorkommen der ersten Zeichenkette im Text durch die zweite. \n",
    "ergebnis = text.replace(\"Seil\", \"Brücke\")\n",
    "print(ergebnis)"
   ]
  },
  {
   "cell_type": "code",
   "execution_count": null,
   "metadata": {},
   "outputs": [],
   "source": [
    "# Zählt die Anzahl der Vorkommen der übergebenen Zeichenkette im Text. \n",
    "ergebnis = text.count(\"Seil\")\n",
    "print(ergebnis)"
   ]
  },
  {
   "cell_type": "code",
   "execution_count": null,
   "metadata": {},
   "outputs": [],
   "source": [
    "# Gibt den Index des ersten Vorkommen der übergebenen Zeichkette im Text zurück.\n",
    "ergebnis = text.find(\"Seil\")\n",
    "print(ergebnis)"
   ]
  },
  {
   "cell_type": "markdown",
   "metadata": {},
   "source": [
    "<img style=\"float: left;\" src=\"resources/img/laptop_icon.png\" width=50 height=50 /> <br><br>\n",
    "<i>Unten ist der HTML-Code einer Webseite als Zeichenkette gespeichert. Nutze die vorgestellten Methoden, um die Sprüche (ohne den Urheber) in einer Liste zu speichern.</i>"
   ]
  },
  {
   "cell_type": "code",
   "execution_count": null,
   "metadata": {},
   "outputs": [],
   "source": [
    "html = \"<!DOCTYPE html><html><head><meta charset=\\\"UTF-8\\\"><title>Schöne Sprüche</title></head><body> \\\n",
    "  <h1>Schöne Sprüche</h1> \\\n",
    "  <ul> \\\n",
    "    <li>„Man kann nicht zweimal in denselben Fluss steigen.“ - Heraklit</li> \\\n",
    "    <li>„Ich weiß, dass ich nicht weiß.“ - Sokrates</li> \\\n",
    "    <li>„Der Mensch ist ein politisches Tier.“ - Aristoteles</li> \\\n",
    "    <li>„Das schauerlichste Übel, der Tod, hat also keine Bedeutung für uns; denn für die einen ist er nicht da, die anderen sind für ihn nicht mehr da.“ - Epikur</li> \\\n",
    "    <li>„Ich denke, also bin ich“ - René Descartes</li> \\\n",
    "    <li>„Der Mensch ist frei geboren und überall liegt er in Ketten“ - Jean-Jacques Rousseau</li> \\\n",
    "    <li>„Wage es zu wissen!“ - Immanuel Kant</li> \\\n",
    "    <li>„Die Philosophen haben die Welt nur verschieden interpretiert, es kommt aber darauf an, sie zu verändern.“ - Karl Marx</li> \\\n",
    "    <li>„Die Existenz geht der Essenz voraus.“ - Jean-Paul Sartre</li> \\\n",
    "    <li>„Man kommt nicht als Frau zur Welt, man wird es.“ - Simone de Beauvoir</li> \\\n",
    "  </ul> \\\n",
    "  <p>Quelle: <a href=\\\"https://www.philomag.de/artikel/10-einflussreiche-zitate-kurz-erklaert\\\">Philosophie Magazin</a></p> \\\n",
    "</body> \\\n",
    "</html>\"\n",
    "\n",
    "sprueche = []\n",
    "aufzaehlung_anfang = html.find(\"„\")\n",
    "while aufzaehlung_anfang != -1:\n",
    "    aufzaehlung_ende = html.find(\"“\")\n",
    "    spruch = html[aufzaehlung_anfang + 1 : aufzaehlung_ende]\n",
    "    sprueche.append(spruch)\n",
    "    html = html[aufzaehlung_ende + 1 : ]\n",
    "    aufzaehlung_anfang = html.find(\"„\")\n",
    "\n",
    "for spruch in sprueche:\n",
    "    print(spruch)"
   ]
  },
  {
   "cell_type": "markdown",
   "metadata": {},
   "source": [
    "## Reguläre Ausdrücke\n",
    "\n",
    "Manchmal ist es notwendig zu prüfen, ob eine Zeichenkette eine gewisse Struktur aufweist. So darf der erste Teil einer E-Mail-Adresse nur aus alphanumerischen Zeichen (und einigen anderen Zeichen, die wir hier aber zur besseren Anschauung vernachlässigen) bestehen. Anschließend wird das @-Zeichen geschrieben, gefolgt von dem Domänenteil, der sich aus einem Hostname (z.B. „gmail“, „web“, „kit“, „adidas“), einem Punkt und einer Top-Level-Domain (z.B. „de“, „com“, „kit“) zusammensetzt.\n",
    "\n",
    "Um eine Zeichenkette auf eine Struktur zu überprüfen oder einen Text nach einer bestimmter Struktur zu durchsuchen, verwenden wir <b>reguläre Ausdrücke</b>. Ein regulärer Ausdruck ist ein Suchmuster für Zeichenketten.\n",
    "\n",
    "Folge den Erklärungen in den Feldern, um zu verstehen, wie du reguläre Ausdrücke einsetzen kannst.\n",
    "\n",
    "### Übereinstimmung - match, search, fullmatch"
   ]
  },
  {
   "cell_type": "code",
   "execution_count": null,
   "metadata": {},
   "outputs": [],
   "source": [
    "import re\n",
    "\n",
    "texte = [\"beispiel\", \"Beispiel\", \"das ist ein beispiel\",\"Das ist ein Beispielsatz.\"]\n",
    "\n",
    "# Reguläre Ausdrücke werden auf diese Weise definiert.\n",
    "# Dieser reguläre Ausdruck ist einfach nur ein Wort.\n",
    "reg_ausdruck = re.compile('beispiel')\n",
    "\n",
    "for text in texte:\n",
    "    print(f\"Text: '{text}'\")\n",
    "    \n",
    "    # So wird geprüft, ob der reguläre Ausdruck \n",
    "    # identisch mit den ERSTEN Zeichen des Texts ist. \n",
    "    match = re.match(reg_ausdruck, text)\n",
    "    print(\"Übereinstimmung mit den ersten Zeichen: \", bool(match))\n",
    "    \n",
    "    # So wird geprüft, ob der reguläre Ausdruck \n",
    "    # IRGENDWO im Text auftritt. \n",
    "    match = re.search(reg_ausdruck, text)\n",
    "    print(\"Übereinstimmung irgendwo im Text: \", bool(match))\n",
    "    \n",
    "    # So wird geprüft, ob der reguläre Ausdruck \n",
    "    # mit dem GESAMTEN Text identisch ist.\n",
    "    match = re.fullmatch(reg_ausdruck, text)\n",
    "    print(\"Übereinstimmung mit dem gesamten Text: \", bool(match), \"\\n\")"
   ]
  },
  {
   "cell_type": "code",
   "execution_count": null,
   "metadata": {},
   "outputs": [],
   "source": [
    "# Ist uns die Groß- und Kleinschreibung nicht wichtig, \n",
    "# können wir in unserem regulären Ausdruck als ersten \n",
    "# Buchstaben ein großes oder kleines B schreiben.\n",
    "\n",
    "# Ein Oder drücken wir in einem regulären Ausdruck\n",
    "# durch ein '|' aus.\n",
    "reg_ausdruck = re.compile('[B|b]eispiel')\n",
    "\n",
    "for text in texte:\n",
    "    print(f\"Text: '{text}'\")\n",
    "    \n",
    "    # So wird geprüft, ob der reguläre Ausdruck \n",
    "    # identisch mit den ERSTEN Zeichen des Texts ist. \n",
    "    match = re.match(reg_ausdruck, text)\n",
    "    print(\"Übereinstimmung mit den ersten Zeichen: \", bool(match))\n",
    "    \n",
    "    # So wird geprüft, ob der reguläre Ausdruck \n",
    "    # IRGENDWO im Text auftritt. \n",
    "    match = re.search(reg_ausdruck, text)\n",
    "    print(\"Übereinstimmung irgendwo im Text: \", bool(match))\n",
    "    \n",
    "    # So wird geprüft, ob der reguläre Ausdruck \n",
    "    # mit dem GESAMTEN Text identisch ist.\n",
    "    match = re.fullmatch(reg_ausdruck, text)\n",
    "    print(\"Übereinstimmung mit dem gesamten Text: \", bool(match), \"\\n\")"
   ]
  },
  {
   "cell_type": "markdown",
   "metadata": {},
   "source": [
    "### Suche - findall"
   ]
  },
  {
   "cell_type": "code",
   "execution_count": null,
   "metadata": {},
   "outputs": [],
   "source": [
    "# Möchten wir einen Text nach einer bestimmten Struktur durchsuchen, \n",
    "# gelingt das mit 're.findall'.\n",
    "\n",
    "texte = [\"Das ist doch schön.\", \"David ist ein Philosoph.\", \"Hallo Welt!\"]\n",
    "\n",
    "# Das Wort, das wir durch diesen regulären Ausdruck suchen, muss wie \n",
    "# folgt aufgebaut sein: Am Anfang steht ein kleines oder großes D. Anschließend\n",
    "# folgen beliebig viele Kleinbuchstabe (also auch gar kein Kleinbuchstab möglich).\n",
    "# Letzteres wird durch '*' ausgedrückt.\n",
    "reg_ausdruck = re.compile('[D|d][a-z]*')\n",
    "\n",
    "# Am Anfang steht ein kleines oder großes D. Anschließend\n",
    "# folgen beliebig viele, aber mindestens ein Kleinbuchstabe.\n",
    "# Letzteres wird durch '+' ausgedrückt.\n",
    "reg_ausdruck = re.compile('[D|d][a-z]+')\n",
    "\n",
    "for text in texte:\n",
    "    print(f\"Text: '{text}'\")\n",
    "\n",
    "    # Als Ergebnis wird eine Liste mit den passenden Ausdrücken ausgegeben.\n",
    "    ergebnis = re.findall(reg_ausdruck, text)\n",
    "    print(ergebnis)"
   ]
  },
  {
   "cell_type": "markdown",
   "metadata": {},
   "source": [
    "<img style=\"float: left;\" src=\"resources/img/laptop_icon.png\" width=50 height=50 /> <br><br>\n",
    "<i>Finde heraus, welche Wörter dem folgenden regulären Ausdruck entsprechen, indem du drei Beispiele angibst.</i>"
   ]
  },
  {
   "cell_type": "code",
   "execution_count": null,
   "metadata": {},
   "outputs": [],
   "source": [
    "# Hinweis 1: '[Zeichenmenge]{n}' bedeutet, dass genau n Zeichen aus der \n",
    "#             Zeichenmenge an dieser Stelle stehen müssen.\n",
    "# Hinweis 2: '[^!,:;]'' bedeutet, dass das Zeichen nicht ein Zeichen aus dieser Menge sein darf.\n",
    "reg_ausdruck = re.compile('[A-Z][a][fghjklprstvwxz]{3}[eioy][ ][a-z]+[^!,:;]')\n",
    "\n",
    "beispiel1 = \"Aafgho a \" # Füge deinen Code hier ein.\n",
    "match = re.fullmatch(reg_ausdruck, beispiel1)\n",
    "print(\"Übereinstimmung: \", bool(match))\n",
    "\n",
    "beispiel2 = \"Dafffy a\" # Füge deinen Code hier ein.\n",
    "match = re.fullmatch(reg_ausdruck, beispiel2)\n",
    "print(\"Übereinstimmung: \", bool(match))\n",
    "\n",
    "beispiel3 = \"\" # Füge deinen Code hier ein.\n",
    "match = re.fullmatch(reg_ausdruck, beispiel3)\n",
    "print(\"Übereinstimmung: \", bool(match))"
   ]
  },
  {
   "cell_type": "markdown",
   "metadata": {},
   "source": [
    "<img style=\"float: left;\" src=\"resources/img/laptop_icon.png\" width=50 height=50 /> <br><br>\n",
    "<i>Implementiere eine Funktion, die den Vor- und Nachnamen des Nutzers / der Nutzerin einlesen soll. Dabei soll die Groß- und Kleinschreibung beachtet werden und Doppelnamen und mehrere Vornamen berücksichtigen.</i>"
   ]
  },
  {
   "cell_type": "code",
   "execution_count": null,
   "metadata": {},
   "outputs": [],
   "source": [
    "# analog zur Aufgabe 3 des dritten Übungsblatts"
   ]
  },
  {
   "cell_type": "markdown",
   "metadata": {},
   "source": [
    "Wenn du noch Schwierigkeiten beim Umgang mit regulären Ausdrücken hast, kann dir folgende Erklärung behilflich sein:\n",
    "<br> \n",
    "https://www.youtube.com/watch?v=rAZkI5swi_o\n",
    "\n",
    "##  Daten visualisieren\n",
    "\n",
    "Um Daten zu visualisieren, verwenden wir das Modul Matplotlib."
   ]
  },
  {
   "cell_type": "code",
   "execution_count": null,
   "metadata": {},
   "outputs": [],
   "source": [
    "import matplotlib.pyplot as plt\n",
    "\n",
    "x = [1,2,3,4,5]\n",
    "y1 = [1,1,1,2,2]\n",
    "y2 = [2,2,1.2,3,1.5]\n",
    "y3 = [2.5,2.5,2.5,2.5,2.5]\n",
    "\n",
    "plt.plot(x, y1)\n",
    "plt.plot(x, y2, '-o')\n",
    "plt.plot(x, y3, 'x')\n",
    "\n",
    "plt.show()"
   ]
  },
  {
   "cell_type": "markdown",
   "metadata": {},
   "source": [
    "## Abbildungsverzeichnis\n",
    "\n",
    "[1] https://en.wikipedia.org/wiki/Client%E2%80%93server_model#/media/File:Client-server-model.svg"
   ]
  }
 ],
 "metadata": {
  "@webio": {
   "lastCommId": null,
   "lastKernelId": null
  },
  "interpreter": {
   "hash": "2d260b012bbf33bcb2887d0961c178b7e1cdbf98f02eb539d597fc41b3ad5997"
  },
  "kernelspec": {
   "display_name": "Python 3",
   "language": "python",
   "name": "python3"
  },
  "language_info": {
   "codemirror_mode": {
    "name": "ipython",
    "version": 3
   },
   "file_extension": ".py",
   "mimetype": "text/x-python",
   "name": "python",
   "nbconvert_exporter": "python",
   "pygments_lexer": "ipython3",
   "version": "3.6.12"
  }
 },
 "nbformat": 4,
 "nbformat_minor": 2
}
