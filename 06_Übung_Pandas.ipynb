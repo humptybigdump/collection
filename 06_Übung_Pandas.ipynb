{
 "cells": [
  {
   "cell_type": "markdown",
   "id": "favorite-appearance",
   "metadata": {},
   "source": [
    "# Geodatenanalyse 1\n",
    "\n",
    "## Übung 8: Datenverarbeitung mit Pandas"
   ]
  },
  {
   "cell_type": "markdown",
   "id": "narrow-ghana",
   "metadata": {},
   "source": [
    "### Aufgabe 1: DataFrames\n",
    "#### 1.1 Erstelle einen eigenen DataFrame\n",
    "- Erstelle einen **DataFrame** mit den <font color=\"green\">Namen</font> und <font color=\"green\">Durchmessern</font> der Planeten unseres Sonnensystems als Spalten. Lade dazu Pandas und nutze folgende Informationen:\n",
    "\n",
    "    - Merkur: 4879,4 km  \n",
    "    - Venus: 12103,6 km\n",
    "    - Erde: 12756,3 km\n",
    "    - Mars: 6792,4 km\n",
    "    - Jupiter: 142984 km\n",
    "    - Saturn: 120536 km\n",
    "    - Uranus: 51118 km\n",
    "\n",
    "- Gebe die Datentpyen der Spalten deines **DataFrame** aus."
   ]
  },
  {
   "cell_type": "code",
   "execution_count": null,
   "id": "technological-education",
   "metadata": {},
   "outputs": [],
   "source": [
    "#[1] \n",
    "\n",
    "# Importieren von Pandas\n",
    "\n",
    "\n",
    "# DataFrame\n",
    "\n",
    "\n",
    "# Datentyp von \"Name\" und \"Durchmesser\"\n"
   ]
  },
  {
   "cell_type": "markdown",
   "id": "useful-extent",
   "metadata": {},
   "source": [
    "#### 1.2 Spalten abfragen und hinzufügen \n",
    "- Speichere die <font color=\"green\">Durchmesser</font> der Planeten mit Hilfe der Funktionalität ``data.values`` als **NumPy-Array** in einer neuen Variablen **d**.\n",
    "\n",
    "- Füge deinem **DataFrame** eine Spalte für <font color=\"green\">Umfang</font> und <font color=\"green\">Oberfläche</font> hinzu. Weise dabei dem **DataFrame** direkt eine neue Spalte zu, und führe die folgenden Berechnungen für die <font color=\"red\"> Series </font> durch.\\\n",
    "``df[\"NeueSpalte\"] = Berechnung der Series``\n",
    "\n",
    "Wir treffen die vereinfachende Annahme, dass folgende Formeln gültig sind:\n",
    "\n",
    "> $$U = \\pi * d$$\n",
    "> $$O = \\pi * d^2$$\n",
    "\n",
    "**Hinweis:** Importiere NumPy um *Pi* mit ``np.pi`` zu erhalten."
   ]
  },
  {
   "cell_type": "code",
   "execution_count": null,
   "id": "solved-parking",
   "metadata": {},
   "outputs": [],
   "source": [
    "#[2]\n",
    "\n",
    "# Importieren von Numpy\n",
    "\n",
    "# Durchmesser als NumPy-Array\n",
    "\n",
    "# Zuweisung von Umfang und Oberfläche zum DataFrame\n"
   ]
  },
  {
   "cell_type": "markdown",
   "id": "military-camera",
   "metadata": {},
   "source": [
    "#### 1.3 DataFrame speichern\n",
    "Speichere deinen **DataFrame** mit Hilfe der Pandas <font color=\"red\">to_*</font> Methode als <font color=\"green\">.csv Datei</font> in deinem Übungsordner."
   ]
  },
  {
   "cell_type": "code",
   "execution_count": null,
   "id": "knowing-shipping",
   "metadata": {},
   "outputs": [],
   "source": [
    "#[3] DataFrame speichern \n"
   ]
  },
  {
   "cell_type": "markdown",
   "id": "stylish-diary",
   "metadata": {},
   "source": [
    "### Aufgabe 2: Indizieren\n",
    "Um uns mit den Funktionalitäten von Pandas vertraut zu machen, verwenden wir für im weiteren Verlauf einen Datensatz aus dem NASA Exoplanet Archive:\n",
    "\n",
    "https://exoplanetarchive.ipac.caltech.edu/\n",
    "\n",
    "Der Datensatz enthält Informationen zu den bisher entdeckten Exoplanten. Also Planeten außerhalb unseres Sonnensystems.\n",
    "\n",
    "#### 2.1 Eine Tabelle laden\n",
    "- Lade mit Hilfe der Pandas <font color=\"red\">read_*</font> Methode die tabellarischen Daten aus dem ersten Datenblatt (*Sheet*) der Excel-Datei: *NASA_exoplanets.xlsx*\n",
    "\n",
    "**Hinweis** Das erste Datenblatt einer Excel-Tabelle wird in Pandas automatisch ausgewählt und geladen. "
   ]
  },
  {
   "cell_type": "code",
   "execution_count": null,
   "id": "indonesian-infrastructure",
   "metadata": {},
   "outputs": [],
   "source": [
    "#[4] Laden des NASA Exoplanet Archive Datensatz\n"
   ]
  },
  {
   "cell_type": "markdown",
   "id": "differential-syndicate",
   "metadata": {},
   "source": [
    "#### 2.2 Tabelle inspizieren und einen Überblick verschaffen\n",
    "- Schaue dir Anfang und Ende des Datensatzes mit der ``head()`` und ``tail()`` Methode an.\n",
    "- Verwende die ``info()``, um dir einen besseren Überblick über die Daten zu verschaffen. \n",
    "- Welchen Datentypen hat die *disc_year* Spalte des **DataFrame**? \n",
    "- Was ist die Dimension (``shape``) des **DataFrame**?"
   ]
  },
  {
   "cell_type": "code",
   "execution_count": null,
   "id": "parallel-mineral",
   "metadata": {},
   "outputs": [],
   "source": [
    "#[5] Anfang des DataFrame\n"
   ]
  },
  {
   "cell_type": "code",
   "execution_count": null,
   "id": "urban-neighbor",
   "metadata": {},
   "outputs": [],
   "source": [
    "#[6] Ende des DataFrame\n"
   ]
  },
  {
   "cell_type": "code",
   "execution_count": null,
   "id": "smaller-poverty",
   "metadata": {},
   "outputs": [],
   "source": [
    "#[7] Überblick verschaffen\n"
   ]
  },
  {
   "cell_type": "code",
   "execution_count": null,
   "id": "superior-valuation",
   "metadata": {},
   "outputs": [],
   "source": [
    "#[8] Dimension des DataFrame\n"
   ]
  },
  {
   "cell_type": "markdown",
   "id": "corporate-aberdeen",
   "metadata": {},
   "source": [
    "#### 2.3 Indizieren und Selektieren\n",
    "- Nutze die Label-basierte Abfrage mit <font color=\"red\">.loc</font> um:\n",
    "    - die gesamte Spalte *pl_name* als **DataFrame** zurückzugeben.\n",
    "    - die ersten 100 Zeilen der Spalten *number_stars* und *number_planets* als **DataFrame** zurückzugeben.\n",
    "    - jede zweite Zeile der Spalte *pl_name* als **Series** zurückgeben."
   ]
  },
  {
   "cell_type": "markdown",
   "id": "1ad26670",
   "metadata": {},
   "source": [
    "- Nutze die Integer-basierte Abfrage mit <font color=\"red\">.iloc</font> um:\n",
    "    - die letzten 100 Zeilen aller Spalten als **DataFrame** zurückzugeben.\n",
    "    - Zeile 5,8 und 20 der beiden ersten Spalten als **DataFrame** zurückzugeben.\n",
    "    - das Entdeckungsjahr (*disc_year*) für den Index 250 zurückzugeben.\n",
    "    \n",
    "    \n",
    "**Achtung:** die Label-basierte Abfrage ist in Pandas **inklusiv**. Das heißt, der *Stopwert* wird beim indizieren ebenfalls mit ausgegeben.  "
   ]
  },
  {
   "cell_type": "code",
   "execution_count": null,
   "id": "infinite-smell",
   "metadata": {},
   "outputs": [],
   "source": [
    "#[9] die letzten 100 Zeilen aller Spalten als DataFrame\n"
   ]
  },
  {
   "cell_type": "code",
   "execution_count": null,
   "id": "successful-spare",
   "metadata": {},
   "outputs": [],
   "source": [
    "#[10] die drei ersten Zeilen und der beiden ersten Spalten als DataFrame\n"
   ]
  },
  {
   "cell_type": "code",
   "execution_count": null,
   "id": "australian-funeral",
   "metadata": {},
   "outputs": [],
   "source": [
    "#[11] das Entdeckungsjahr (*disc_year*) für den Index 250\n"
   ]
  },
  {
   "cell_type": "code",
   "execution_count": null,
   "id": "african-guatemala",
   "metadata": {},
   "outputs": [],
   "source": [
    "#[12] die gesamte Spalte pl_name als DataFrame\n"
   ]
  },
  {
   "cell_type": "code",
   "execution_count": null,
   "id": "adapted-gasoline",
   "metadata": {},
   "outputs": [],
   "source": [
    "#[13] die ersten 100 Zeilen der Spalten number_stars und number_planet als DataFrame\n"
   ]
  },
  {
   "cell_type": "code",
   "execution_count": null,
   "id": "internal-filling",
   "metadata": {
    "scrolled": true
   },
   "outputs": [],
   "source": [
    "#[14] jede zweite Zeile der Spalte pl_name als Series\n"
   ]
  },
  {
   "cell_type": "markdown",
   "id": "b14f0926",
   "metadata": {},
   "source": [
    "### Aufgabe 3: Daten zusammenführen\n",
    "Wir möchten uns den Datensatz des NASA Exoplanten Archives jetzt noch etwas genauer anschauen.\n",
    "\n",
    "Zusätzlich zu den allgemeinen Informationen zu Planetennamen, Anzahl der Sterne und Planeten im System sowie Entdeckungs-Methode, -Jahr und -Einrichtung, die uns bereits aus der .xlsx Datei (*NASA_exoplanets.xlsx*) bekannt sind, gibt es noch eine Vielzahl weiterer Parameter die erhoben wurden. Einige davon finden sich in mehreren .csv Dateien im Übungsordner:\n",
    "\n",
    "**Planeten Parameter**\n",
    "- planet_part1.csv\n",
    "- planet_part2.csv"
   ]
  },
  {
   "cell_type": "markdown",
   "id": "21482ffc",
   "metadata": {},
   "source": [
    "\n",
    "- Lade die zusätzlichen tabellarischen Daten aus den <font color=\"green\">csv. Dateien</font> jeweils in einen separaten Pandas **DataFrame**.\n",
    "- Untersuche die Datensätze mit Methoden wie ``.head()`` oder ``.info()``. Gibt es gemeinsame Kennungen (d.h. Spalten)?  \n"
   ]
  },
  {
   "cell_type": "code",
   "execution_count": null,
   "id": "a0b3526a",
   "metadata": {},
   "outputs": [],
   "source": [
    "#[15] \n",
    "\n",
    "# Laden der Datensätze\n",
    "\n",
    "\n",
    "# Daten untersuchen mit Methoden wie .head(), .tail(), .info(), .shape().\n",
    "\n"
   ]
  },
  {
   "cell_type": "markdown",
   "id": "73bb62be",
   "metadata": {},
   "source": [
    "- Verwende die ``concat()`` Methode um die beiden Planetendatensätze (*planet_part1.csv*, *planet_part2.csv*) in einen **DataFrame** zusammenzuführen. "
   ]
  },
  {
   "cell_type": "code",
   "execution_count": null,
   "id": "f4b9d000",
   "metadata": {},
   "outputs": [],
   "source": [
    "#[16] Hänge die beiden Planetendatensätze mit Hilfe von Concat aneinander\n"
   ]
  },
  {
   "cell_type": "markdown",
   "id": "eb979cbc",
   "metadata": {},
   "source": [
    "- Verwende anschließend die ``merge()`` Methode um den Exoplanetendatensatz von oben und die zusammengefassten von eben Planetendaten anhand einer gemeinsamen Kennung in einem **DataFrame** zusammenzuführen.\n",
    "- Wieviele Spalten und Zeilen hat der komplette **DataFrame**?"
   ]
  },
  {
   "cell_type": "code",
   "execution_count": null,
   "id": "da37c372",
   "metadata": {},
   "outputs": [],
   "source": [
    "#[17] Füge alle Daten anhand einer gemeinsamen Kennung zusammen\n"
   ]
  },
  {
   "cell_type": "markdown",
   "id": "english-module",
   "metadata": {},
   "source": [
    "## ENDE"
   ]
  }
 ],
 "metadata": {
  "kernelspec": {
   "display_name": "Python 3.8.8 ('base')",
   "language": "python",
   "name": "python3"
  },
  "language_info": {
   "codemirror_mode": {
    "name": "ipython",
    "version": 3
   },
   "file_extension": ".py",
   "mimetype": "text/x-python",
   "name": "python",
   "nbconvert_exporter": "python",
   "pygments_lexer": "ipython3",
   "version": "3.8.8 (default, Apr 13 2021, 15:08:03) [MSC v.1916 64 bit (AMD64)]"
  },
  "vscode": {
   "interpreter": {
    "hash": "e4cce46d6be9934fbd27f9ca0432556941ea5bdf741d4f4d64c6cd7f8dfa8fba"
   }
  }
 },
 "nbformat": 4,
 "nbformat_minor": 5
}
