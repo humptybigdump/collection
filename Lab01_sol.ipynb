{
 "cells": [
  {
   "cell_type": "markdown",
   "id": "0e42763e",
   "metadata": {},
   "source": [
    "# Stochastic Simulation\n",
    "\n",
    "*Winter Semester 2024/25*\n",
    "\n",
    "08.11.2024\n",
    "\n",
    "Prof. Sebastian Krumscheid<br>\n",
    "Assistants: Stjepan Salatovic, Louise Kluge"
   ]
  },
  {
   "cell_type": "markdown",
   "id": "5c5187ec",
   "metadata": {},
   "source": [
    "<h3 align=\"center\">\n",
    "Exercise sheet 01\n",
    "</h3>\n",
    "\n",
    "---\n",
    "\n",
    "<h1 align=\"center\">\n",
    "Random Number Generation\n",
    "</h1>"
   ]
  },
  {
   "cell_type": "code",
   "execution_count": 1,
   "id": "69b133ce",
   "metadata": {},
   "outputs": [],
   "source": [
    "import matplotlib.pylab as plt\n",
    "import numpy as np\n",
    "\n",
    "from scipy.stats import uniform\n",
    "from ipywidgets import interact"
   ]
  },
  {
   "cell_type": "markdown",
   "id": "5e6ec4b1",
   "metadata": {},
   "source": [
    "## Exercise 1\n",
    "\n",
    "Consider **SciPy's** default **uniform** random number generator\n",
    "(RNG) `uniform` within the Statistics module `scipy.stats` and use it to generate a sequence of numbers $U_1, U_2, \\dots, U_n$. Have a look at its [documentation](https://docs.scipy.org/doc/scipy/reference/generated/scipy.stats.uniform.html) and the [full list](https://docs.scipy.org/doc/scipy/reference/stats.html) of available distributions and other statistical functionalities in `scipy.stats`. Consider different values of $n$, for example $n=25,100,10^3,10^5$, and address the following points:"
   ]
  },
  {
   "cell_type": "markdown",
   "id": "4d3722a1",
   "metadata": {},
   "source": [
    "1. Plot the cumulative distribution function (CDF) of the theorized uniform distribution $\\mathcal{U}(0,1)$ together with the empirical CDF of the data. Furthermore, produce a Q-Q plot of the data. Use both plots to assess the quality of the sequence with respect to the theorized $\\mathcal{U}(0,1)$ distribution. Describe your observations.\n",
    "\n",
    "**Hint:** The function [`plt.step`](https://matplotlib.org/stable/api/_as_gen/matplotlib.pyplot.step.html) might come in handy."
   ]
  },
  {
   "cell_type": "code",
   "execution_count": 2,
   "id": "03c825fe",
   "metadata": {},
   "outputs": [],
   "source": [
    "def cdf(seq: np.array, x: np.array) -> np.array:\n",
    "    \"\"\"Computes the empirical CDF of `seq` and evaluates in `x`.\"\"\"\n",
    "    n = len(seq)\n",
    "    indices = np.searchsorted(np.sort(seq), x, side='right')\n",
    "    y = np.concatenate(([0], np.arange(1, n + 1) / n))\n",
    "    return y[indices]"
   ]
  },
  {
   "cell_type": "code",
   "execution_count": 3,
   "id": "f39ef66c",
   "metadata": {},
   "outputs": [],
   "source": [
    "def cdf_qq_plot(seq: np.array):\n",
    "    \"\"\"\n",
    "    Plots the empirical CDF and a QQ plot of the sample `seq`\n",
    "    and compares with theoretical uniform one.\n",
    "    \"\"\"\n",
    "    n = len(seq)\n",
    "    \n",
    "    x = np.linspace(0, 1, 1000)\n",
    "\n",
    "    fig, axs = plt.subplots(nrows=1, ncols=2, figsize=(10, 5))\n",
    "\n",
    "    axs[0].plot([0, 1], [0, 1], label=\"CDF\")\n",
    "    axs[0].step(x, cdf(seq, x), label=\"Empirical CDF\")\n",
    "    axs[0].set_title(\"CDF\")\n",
    "    axs[0].legend()\n",
    "\n",
    "    axs[1].step(np.arange(1, n + 1) / n, np.sort(seq), \"o\")\n",
    "    axs[1].plot([0, 1], [0, 1], \"k--\")\n",
    "    axs[1].set_title(\"QQ-Plot\");"
   ]
  },
  {
   "cell_type": "markdown",
   "id": "e4e12633",
   "metadata": {},
   "source": [
    "The following interactive plot illustrates the CDF comparisons and Q-Q plots for a rand sequence (seed is fixed for reproducibility; c.f. code). We see that increasing $n$ results in a better linear behavior in the Q-Q plots as well as a better fit of the empirical CDF and the theorized CDF."
   ]
  },
  {
   "cell_type": "code",
   "execution_count": 4,
   "id": "123f528b",
   "metadata": {},
   "outputs": [
    {
     "data": {
      "application/vnd.jupyter.widget-view+json": {
       "model_id": "ad5c98abdcd348f69fab7eac1c11c0c1",
       "version_major": 2,
       "version_minor": 0
      },
      "text/plain": [
       "interactive(children=(Dropdown(description='n', options=(25, 100, 1000, 100000), value=25), Output()), _dom_cl…"
      ]
     },
     "metadata": {},
     "output_type": "display_data"
    }
   ],
   "source": [
    "def uniform_rng_scipy_plots(n: int):\n",
    "    \"\"\"Interaction helper.\"\"\"\n",
    "    np.random.seed(999)\n",
    "\n",
    "    seq = uniform.rvs(size=n)\n",
    "    cdf_qq_plot(seq)\n",
    "\n",
    "interact(uniform_rng_scipy_plots, n=[25, 100, 10**3, 10 **5]);"
   ]
  },
  {
   "cell_type": "markdown",
   "id": "7b7c6cb9",
   "metadata": {},
   "source": [
    "2. Implement the Kolmogorov-Smirnov test to ascertain whether the empirical CDF of the sample $U_1, U_2, \\dots, U_n$ matches the theoretical CDF of the $\\mathcal{U}(0,1)$ distribution at level $\\alpha=0.1$. That is, we reject the null hypothesis $H_0$ at level $\\alpha>0$ that the sample $U_1,\\dots,U_n\\overset{\\text{iid}}{\\sim} \\mathcal{U}(0,1)$ if $\\sqrt{n}D_n>K_{\\alpha,n}$, where $D_n={\\sup}_{x\\in \\mathbb{R}}| \\hat F(x)- F(x)|,$ and $K_{\\alpha,n}$ is such that $\\mathbb{P}(\\sqrt{n}D_n>K_{\\alpha,n})<\\alpha$.\n",
    "\n",
    "**Note:** It is known that the appropriately scaled test statistic $D_n$ converges in distribution to a Kolmogorov random variable $K_{\\alpha, \\infty}$ independently of $F$, where\n",
    "$$\n",
    "\\mathbb{P}(K_{\\alpha, \\infty} \\le x) = 1+2\\sum_{j=1}^\\infty{(-1)}^je^{-2j^2x^2},\\quad x>0.\n",
    "$$\n",
    "This asymptotic result can then be used to compute the required $1-\\alpha$ quantiles of $K_{\\alpha, n}$ approximately by using $K_{\\alpha,n}\\simeq K_{\\alpha,\\infty}$ for $n \\gg 1$. It is however also possible to characterize the distribution of $D_n$ directly, which is useful for small values of $n$. The following table presents some of these pre-asymptotic $1 − \\alpha$ quantiles $K_{\\alpha, n}$.\n",
    "    \n",
    "| | $\\alpha$ | $0.20$ | $0.10$ | $0.05$ | $0.01$ |\n",
    "|---|---|---|---|---|---|\n",
    "|$n$||||||\n",
    "| 1 || 0\\.90 | 0\\.95 | 0\\.98 | 0\\.99 |\n",
    "| 2 || 0\\.96 | 1\\.10 | 1\\.19 | 1\\.32 |\n",
    "| 3 || 0\\.97 | 1\\.11 | 1\\.23 | 1\\.44 |\n",
    "| 4 || 0\\.98 | 1\\.12 | 1\\.24 | 1\\.46 |\n",
    "| 5 || 1\\.01 | 1\\.14 | 1\\.25 | 1\\.50 |\n",
    "| 6 || 1\\.00 | 1\\.15 | 1\\.27 | 1\\.52 |\n",
    "| 7 || 1\\.01 | 1\\.16 | 1\\.30 | 1\\.53 |\n",
    "| 8 || 1\\.02 | 1\\.16 | 1\\.30 | 1\\.53 |\n",
    "| 9 || 1\\.02 | 1\\.17 | 1\\.29 | 1\\.53 |\n",
    "| 10 || 1\\.01 | 1\\.17 | 1\\.30 | 1\\.55 |\n",
    "| 11 || 1\\.03 | 1\\.16 | 1\\.29 | 1\\.56 |\n",
    "| 12 || 1\\.04 | 1\\.18 | 1\\.32 | 1\\.56 |\n",
    "| 15 || 1\\.05 | 1\\.16 | 1\\.32 | 1\\.55 |\n",
    "| 20 || 1\\.03 | 1\\.16 | 1\\.30 | 1\\.57 |\n",
    "| 30 || 1\\.04 | 1\\.20 | 1\\.31 | 1\\.59 |\n",
    "| 35 || 1\\.06 | 1\\.24 | 1\\.36 | 1\\.60 |\n",
    "| 40 || 1\\.08 | 1\\.20 | 1\\.33 | 1\\.58 |\n",
    "| 45 || 1\\.07 | 1\\.21 | 1\\.34 | 1\\.61 |\n",
    "| $n>45$ || 1.07 | 1.22 | 1.36 | 1.63 |\n",
    "    \n",
    "**Tip:** Instead of the table, you can also use [`scipy.stats.kstwo`](https://docs.scipy.org/doc/scipy/reference/generated/scipy.stats.kstwo.html), which implements the distribution for the two-sided Kolmogorov-Smirnov test statistic $D_n$. For instance, to get the $(1 - \\alpha)$ - quantile of the test statistic $D_n$, use the command `kstwo(n).ppf(1 - alpha)`. Hereby, the function `ppf` is the percent point function (inverse of CDF) of a random variable in `SciPy`. For better results, distinguish between the pre-asymptotic case $n \\leq 45$, and use [`scipy.stats.kstwobign`](https://docs.scipy.org/doc/scipy/reference/generated/scipy.stats.kstwobign.html) for the case $n > 45$, the asymptotic distribution for the *scaled* distribution $\\sqrt{n} D_n$.\n",
    "\n",
    "**Note:** As [`scipy.stats.kstwo`](https://docs.scipy.org/doc/scipy/reference/generated/scipy.stats.kstwo.html) implements the *unscaled* test statistic $D_n$, remember to multiply the quantile by $\\sqrt{n}$ in the pre-asymptotic case $n \\leq 45$."
   ]
  },
  {
   "cell_type": "code",
   "execution_count": 5,
   "id": "c0aa504c",
   "metadata": {},
   "outputs": [],
   "source": [
    "from scipy.stats import kstwo, kstwobign"
   ]
  },
  {
   "cell_type": "code",
   "execution_count": 30,
   "id": "b556f551",
   "metadata": {},
   "outputs": [],
   "source": [
    "def kolmogorov_smirnov(seq: np.array, alpha: float=.1) -> bool:\n",
    "    \"\"\"\n",
    "    Kolmogorov Smirnov test for data `seq` and significance `alpha`.\n",
    "    Returns `True` if H0 cannot be rejected and `False` if rejected at level `alpha`.\n",
    "    \"\"\"\n",
    "    n = len(seq)\n",
    "\n",
    "    x = np.linspace(0, 1, 10000)\n",
    "    D_n = np.max(np.abs(x - cdf(seq, x)))\n",
    "    \n",
    "    if n <= 45:\n",
    "        if np.sqrt(n) * D_n > np.sqrt(n) * kstwo(n).ppf(1 - alpha):\n",
    "            return False\n",
    "    else:\n",
    "        if np.sqrt(n) * D_n > kstwobign().ppf(1 - alpha):\n",
    "            return False\n",
    "\n",
    "    return True"
   ]
  },
  {
   "cell_type": "markdown",
   "id": "72a643f1",
   "metadata": {},
   "source": [
    "The test outcomes $(\\alpha = 0.1)$ for the same sequences are shown in the following output, suggesting that `scipy.stats`’s default RNG produces a sequence with the desired uniform distribution indeed."
   ]
  },
  {
   "cell_type": "code",
   "execution_count": 31,
   "id": "5780a70a-dc11-4759-9e9f-1eea22af1e36",
   "metadata": {},
   "outputs": [],
   "source": [
    "from typing import Callable, Literal"
   ]
  },
  {
   "cell_type": "code",
   "execution_count": 32,
   "id": "b4fc1737",
   "metadata": {},
   "outputs": [],
   "source": [
    "def acc_test(\n",
    "    test: Callable,\n",
    "    rng: Literal={\"Scipy\", \"LCG\"},\n",
    "    alpha: float=.1,\n",
    "    reps: int=100,\n",
    "    ns: list=[25, 100, 10**3, 10**5]\n",
    "):\n",
    "    \"\"\"\n",
    "    Evaluates the quality of `test` by repeating a specific number (`reps`) of tests.\n",
    "    \"\"\"\n",
    "    test_2_name = {}\n",
    "\n",
    "    try: test_2_name[kolmogorov_smirnov] = \"Kolmogorov-Smirnov\"\n",
    "    except: pass\n",
    "    try: test_2_name[chi_squared] = \"Chi-squared\"\n",
    "    except: pass\n",
    "    try: test_2_name[serial_test] = \"Serial\"\n",
    "    except: pass\n",
    "    try: test_2_name[gap_test] = \"Gap\"\n",
    "    except: pass\n",
    "        \n",
    "    print(f\"Test: {test_2_name[test]}\")\n",
    "    print(f\"RNG: {rng}\\n***\")\n",
    "    print(f\"Results based on {reps} tests with alpha = {alpha}:\")\n",
    "    print(\"-\" * 48)\n",
    "\n",
    "    for n in ns:\n",
    "        results = []\n",
    "        for _ in range(reps):\n",
    "            if rng == \"Scipy\":\n",
    "                unif_seq = uniform.rvs(size=n)\n",
    "            elif rng == \"LCG\":\n",
    "                unif_seq = LCG(n=n)\n",
    "            else:\n",
    "                print(f\"RNG '{rng}' not implemented. Choose 'Scipy' or 'LCG'.\")\n",
    "            test_outcome = test(unif_seq, alpha=alpha)\n",
    "            results.append(test_outcome)\n",
    "        acc = np.sum(results) / reps\n",
    "        print(f\"n = {n:<8}: {acc * 100}% of tests cannot be rejected\")"
   ]
  },
  {
   "cell_type": "code",
   "execution_count": 39,
   "id": "dfffc070",
   "metadata": {},
   "outputs": [
    {
     "name": "stdout",
     "output_type": "stream",
     "text": [
      "Test: Kolmogorov-Smirnov\n",
      "RNG: Scipy\n",
      "***\n",
      "Results based on 100 tests with alpha = 0.1:\n",
      "------------------------------------------------\n",
      "n = 25      : 89.0% of tests cannot be rejected\n",
      "n = 100     : 88.0% of tests cannot be rejected\n",
      "n = 1000    : 91.0% of tests cannot be rejected\n",
      "n = 100000  : 90.0% of tests cannot be rejected\n"
     ]
    }
   ],
   "source": [
    "acc_test(kolmogorov_smirnov, rng=\"Scipy\")"
   ]
  },
  {
   "cell_type": "markdown",
   "id": "e7ded41a",
   "metadata": {},
   "source": [
    "3. Implement the $\\chi^2$ goodness of fit test to ascertain whether the sequence $U_1, U_2, \\dots, U_n$ is uniformly distributed. A description of such method can be found on section 8.7.4 of _Handbook of Monte Carlo Methods_ (see also Section 1.2.1 of the lecture notes). \n",
    "  \n",
    "    **Hint:** Again, you can use the `ppf` function of the `scipy.stats.chi2` class to compute quantiles of a $\\chi^2$ distribution."
   ]
  },
  {
   "cell_type": "code",
   "execution_count": 40,
   "id": "18043199",
   "metadata": {},
   "outputs": [],
   "source": [
    "from scipy.stats import chi2"
   ]
  },
  {
   "cell_type": "code",
   "execution_count": 41,
   "id": "f6fee7f5",
   "metadata": {},
   "outputs": [],
   "source": [
    "def chi_squared(seq: np.array, K: int=10, alpha: float=.1) -> bool:\n",
    "    \"\"\"\n",
    "    Chi-Squared test for data `seq` and significance `alpha`.\n",
    "    Returns `True` if H0 cannot be rejected and `False` if rejected at level `alpha`.\n",
    "    \"\"\"\n",
    "    n = len(seq)\n",
    "    N, _ = np.histogram(seq, bins=np.arange(K + 1) / K)\n",
    "    Q = np.sum((N - n / K) ** 2 / (n / K))\n",
    "    if Q > chi2.ppf(1 - alpha, K - 1):\n",
    "        return False\n",
    "    return True"
   ]
  },
  {
   "cell_type": "code",
   "execution_count": 47,
   "id": "d59e17c9",
   "metadata": {},
   "outputs": [
    {
     "name": "stdout",
     "output_type": "stream",
     "text": [
      "Test: Chi-squared\n",
      "RNG: Scipy\n",
      "***\n",
      "Results based on 100 tests with alpha = 0.1:\n",
      "------------------------------------------------\n",
      "n = 25      : 90.0% of tests cannot be rejected\n",
      "n = 100     : 91.0% of tests cannot be rejected\n",
      "n = 1000    : 91.0% of tests cannot be rejected\n",
      "n = 100000  : 94.0% of tests cannot be rejected\n"
     ]
    }
   ],
   "source": [
    "acc_test(chi_squared, rng=\"Scipy\")"
   ]
  },
  {
   "cell_type": "markdown",
   "id": "2218fcba",
   "metadata": {},
   "source": [
    "4.  Repeat the tests in points 2. and 3. for different values of $\\alpha$. What do you observe? Explain your findings."
   ]
  },
  {
   "cell_type": "markdown",
   "id": "a0db4196",
   "metadata": {},
   "source": [
    "The smaller the values of $\\alpha$, the higher the confidence with which we require the test to hold. To account for an increased level of confidence, the value of a test statistic has to be even bigger before a test rejects the null hypothesis. This can be observed in the output of the following cell."
   ]
  },
  {
   "cell_type": "code",
   "execution_count": 13,
   "id": "ad370747",
   "metadata": {},
   "outputs": [
    {
     "name": "stdout",
     "output_type": "stream",
     "text": [
      "Test: Kolmogorov-Smirnov\n",
      "RNG: Scipy\n",
      "***\n",
      "Results based on 100 tests with alpha = 0.1:\n",
      "------------------------------------------------\n",
      "n = 25      : 90.0% of tests cannot be rejected\n",
      "n = 100     : 95.0% of tests cannot be rejected\n",
      "n = 1000    : 85.0% of tests cannot be rejected\n",
      "n = 100000  : 88.0% of tests cannot be rejected\n",
      "\n",
      "\n",
      "Test: Kolmogorov-Smirnov\n",
      "RNG: Scipy\n",
      "***\n",
      "Results based on 100 tests with alpha = 0.05:\n",
      "------------------------------------------------\n",
      "n = 25      : 96.0% of tests cannot be rejected\n",
      "n = 100     : 98.0% of tests cannot be rejected\n",
      "n = 1000    : 92.0% of tests cannot be rejected\n",
      "n = 100000  : 99.0% of tests cannot be rejected\n",
      "\n",
      "\n",
      "Test: Kolmogorov-Smirnov\n",
      "RNG: Scipy\n",
      "***\n",
      "Results based on 100 tests with alpha = 0.01:\n",
      "------------------------------------------------\n",
      "n = 25      : 100.0% of tests cannot be rejected\n",
      "n = 100     : 98.0% of tests cannot be rejected\n",
      "n = 1000    : 99.0% of tests cannot be rejected\n",
      "n = 100000  : 100.0% of tests cannot be rejected\n",
      "\n",
      "\n"
     ]
    }
   ],
   "source": [
    "alphas = [.1, .05, .01]\n",
    "\n",
    "for alpha in alphas:\n",
    "    acc_test(kolmogorov_smirnov, rng=\"Scipy\", alpha=alpha)\n",
    "    print(\"\\n\")"
   ]
  },
  {
   "cell_type": "markdown",
   "id": "d26ceafa",
   "metadata": {},
   "source": [
    "## Exercise 2\n",
    "\n",
    "Implement the linear congruential generator (LCG) \n",
    "\\begin{equation*}\n",
    "  X_k = (aX_{k-1} + b) \\bmod m\\;,\\quad U_k := \\frac{X_k}{m}\\;,\n",
    "\\end{equation*}\n",
    "with $a=3$, $b=0$, and $m=31$."
   ]
  },
  {
   "cell_type": "code",
   "execution_count": 14,
   "id": "bc7f2cd4",
   "metadata": {},
   "outputs": [],
   "source": [
    "def LCG(x0: float=1, n: int=100, a: int=3, b: int=0, m: int=31) -> np.array:\n",
    "    \"\"\"\n",
    "    Generates `n` numbers using the linear congruential generator.\n",
    "    \"\"\"\n",
    "    x = np.zeros(n)\n",
    "    x[0] = x0\n",
    "    for i in range(1, n):\n",
    "        x[i] = (a * x[i-1] + b) % m\n",
    "\n",
    "    U = x / m\n",
    "    return U"
   ]
  },
  {
   "cell_type": "markdown",
   "id": "bb8ea5b3",
   "metadata": {},
   "source": [
    "1. Use your LCG procedure to generate a sequence $U_1, U_2, \\dots, U_n$ and repeat Exercise 1. Discuss your results."
   ]
  },
  {
   "cell_type": "code",
   "execution_count": 15,
   "id": "80b41299",
   "metadata": {},
   "outputs": [
    {
     "data": {
      "application/vnd.jupyter.widget-view+json": {
       "model_id": "72d6f4509e4c41378c6529a52e7cbb57",
       "version_major": 2,
       "version_minor": 0
      },
      "text/plain": [
       "interactive(children=(Dropdown(description='n', options=(25, 100, 1000, 100000), value=25), Output()), _dom_cl…"
      ]
     },
     "metadata": {},
     "output_type": "display_data"
    }
   ],
   "source": [
    "def lcg_plots(n: int):\n",
    "    \"\"\"Interaction helper.\"\"\"\n",
    "    seq = LCG(n=n)\n",
    "    cdf_qq_plot(seq)\n",
    "\n",
    "interact(lcg_plots, n=[25, 100, 10**3, 10 **5]);"
   ]
  },
  {
   "cell_type": "markdown",
   "id": "9f9a9efe",
   "metadata": {},
   "source": [
    "We see that the KS-test rejects the null hypothesis of a uniform\n",
    "distribution for large values of $n$. This is a consequence of the\n",
    "non-vanishing residual of $\\lvert \\hat{F}-F\\rvert$ due to the\n",
    "periodicity of the LCG sequence ($m=31$ is small).\n",
    "\n",
    "Notice that the $\\chi^2$-test with number of bins $K=10$ does not\n",
    "reject the null hypothesis even for large values of $n$. This is due\n",
    "to the fact that $K$ is small compared to the length of the sequence\n",
    "$n$. Increasing the value of $K$ (e.g., $K=20$) for large values of\n",
    "$n$ changes this (see also the discussion on the value of $r$\n",
    "below)."
   ]
  },
  {
   "cell_type": "code",
   "execution_count": 16,
   "id": "1a60e424",
   "metadata": {},
   "outputs": [
    {
     "name": "stdout",
     "output_type": "stream",
     "text": [
      "Test: Kolmogorov-Smirnov\n",
      "RNG: LCG\n",
      "***\n",
      "Results based on 100 tests with alpha = 0.1:\n",
      "------------------------------------------------\n",
      "n = 25      : 100.0% of tests cannot be rejected\n",
      "n = 100     : 100.0% of tests cannot be rejected\n",
      "n = 1000    : 100.0% of tests cannot be rejected\n",
      "n = 100000  : 0.0% of tests cannot be rejected\n",
      "\n",
      "\n",
      "Test: Chi-squared\n",
      "RNG: LCG\n",
      "***\n",
      "Results based on 100 tests with alpha = 0.1:\n",
      "------------------------------------------------\n",
      "n = 25      : 100.0% of tests cannot be rejected\n",
      "n = 100     : 100.0% of tests cannot be rejected\n",
      "n = 1000    : 100.0% of tests cannot be rejected\n",
      "n = 100000  : 100.0% of tests cannot be rejected\n",
      "\n",
      "\n",
      "Test: Kolmogorov-Smirnov\n",
      "RNG: LCG\n",
      "***\n",
      "Results based on 100 tests with alpha = 0.05:\n",
      "------------------------------------------------\n",
      "n = 25      : 100.0% of tests cannot be rejected\n",
      "n = 100     : 100.0% of tests cannot be rejected\n",
      "n = 1000    : 100.0% of tests cannot be rejected\n",
      "n = 100000  : 0.0% of tests cannot be rejected\n",
      "\n",
      "\n",
      "Test: Chi-squared\n",
      "RNG: LCG\n",
      "***\n",
      "Results based on 100 tests with alpha = 0.05:\n",
      "------------------------------------------------\n",
      "n = 25      : 100.0% of tests cannot be rejected\n",
      "n = 100     : 100.0% of tests cannot be rejected\n",
      "n = 1000    : 100.0% of tests cannot be rejected\n",
      "n = 100000  : 100.0% of tests cannot be rejected\n",
      "\n",
      "\n",
      "Test: Kolmogorov-Smirnov\n",
      "RNG: LCG\n",
      "***\n",
      "Results based on 100 tests with alpha = 0.01:\n",
      "------------------------------------------------\n",
      "n = 25      : 100.0% of tests cannot be rejected\n",
      "n = 100     : 100.0% of tests cannot be rejected\n",
      "n = 1000    : 100.0% of tests cannot be rejected\n",
      "n = 100000  : 0.0% of tests cannot be rejected\n",
      "\n",
      "\n",
      "Test: Chi-squared\n",
      "RNG: LCG\n",
      "***\n",
      "Results based on 100 tests with alpha = 0.01:\n",
      "------------------------------------------------\n",
      "n = 25      : 100.0% of tests cannot be rejected\n",
      "n = 100     : 100.0% of tests cannot be rejected\n",
      "n = 1000    : 100.0% of tests cannot be rejected\n",
      "n = 100000  : 100.0% of tests cannot be rejected\n",
      "\n",
      "\n"
     ]
    }
   ],
   "source": [
    "alphas = [.1, .05, .01]\n",
    "\n",
    "for alpha in alphas:\n",
    "    acc_test(kolmogorov_smirnov, rng=\"LCG\", alpha=alpha)\n",
    "    print(\"\\n\")\n",
    "    acc_test(chi_squared, rng=\"LCG\", alpha=alpha)\n",
    "    print(\"\\n\")"
   ]
  },
  {
   "cell_type": "markdown",
   "id": "0a4b570f",
   "metadata": {},
   "source": [
    "2. Explain why one would expect that the Serial test (with $d=2$, say) is an appropriate test to scrutinize the LCG. Support your explanation by applying the Serial test at level $\\alpha=0.1$ to sequences (for various values of $n$) from both the LCG and from the default `scipy.stats` RNG `uniform`."
   ]
  },
  {
   "cell_type": "code",
   "execution_count": 17,
   "id": "6943849c",
   "metadata": {},
   "outputs": [],
   "source": [
    "def serial_test(seq: np.array, d: int=2, alpha: float=.1) -> bool:\n",
    "    \"\"\"\n",
    "    Serial test for data `seq` and significance `alpha`.\n",
    "    Returns `True` if H0 cannot be rejected and `False` if rejected at level `alpha`.\n",
    "    \"\"\"\n",
    "    assert seq.shape[0] % d == 0, 'Random sample length should be divisible by `d`.'\n",
    "    nn = int(seq.shape[0] / d)\n",
    "    m = 10\n",
    "    K = m ** d\n",
    "    N = np.histogramdd(seq.reshape(d, -1).T, bins=m)[0].reshape(-1)\n",
    "    Q = np.sum((N - nn / K) ** 2 / (nn / K))\n",
    "    if Q > chi2.ppf(1 - alpha, K - 1):\n",
    "        return False\n",
    "    return True"
   ]
  },
  {
   "cell_type": "markdown",
   "id": "d4d2cfac-1d6b-4dd0-aced-4d5614a948cf",
   "metadata": {},
   "source": [
    "Note that we used `numpy.histogramdd` in the definition of `serial_test` to make life easier. If you would want to construct the variable `N` yourself, it could look like this:\n",
    "```python\n",
    "Y = seq.reshape(2, int(seq.shape[0]/2)).T\n",
    "N = np.zeros(K)\n",
    "p = np.ones(K) / float(K) # True probabilities (uniform partition)\n",
    "for k in range(K):\n",
    "    xl = (k % m) / float(m)\n",
    "    xu = xl + 1./m\n",
    "    yl = np.max([0., np.floor(k/float(m))]) / m\n",
    "    yu = yl + 1./m\n",
    "    N[k] = np.sum( ((xl< Y[:,0]) & (Y[:,0] <= xu)) * ( (yl<Y[:,1]) & (Y[:,1]<= yu)))\n",
    "```"
   ]
  },
  {
   "cell_type": "code",
   "execution_count": 18,
   "id": "5c825c7a-71a7-40da-b4a7-99d70c57c92a",
   "metadata": {},
   "outputs": [
    {
     "name": "stdout",
     "output_type": "stream",
     "text": [
      "Test: Serial\n",
      "RNG: Scipy\n",
      "***\n",
      "Results based on 100 tests with alpha = 0.1:\n",
      "------------------------------------------------\n",
      "n = 26      : 82.0% of tests cannot be rejected\n",
      "n = 100     : 91.0% of tests cannot be rejected\n",
      "n = 1000    : 92.0% of tests cannot be rejected\n",
      "n = 10000   : 83.0% of tests cannot be rejected\n",
      "\n",
      "\n",
      "Test: Serial\n",
      "RNG: LCG\n",
      "***\n",
      "Results based on 100 tests with alpha = 0.1:\n",
      "------------------------------------------------\n",
      "n = 26      : 100.0% of tests cannot be rejected\n",
      "n = 100     : 0.0% of tests cannot be rejected\n",
      "n = 1000    : 0.0% of tests cannot be rejected\n",
      "n = 10000   : 0.0% of tests cannot be rejected\n"
     ]
    }
   ],
   "source": [
    "acc_test(serial_test, rng=\"Scipy\", ns=[26, 10**2, 10**3, 10**4])\n",
    "print(\"\\n\")\n",
    "acc_test(serial_test, rng=\"LCG\", ns=[26, 10**2, 10**3, 10**4])"
   ]
  },
  {
   "cell_type": "markdown",
   "id": "0b8992a2",
   "metadata": {},
   "source": [
    "The reason why we expect the Serial test to perform very well in rejecting the LCG sequence is the LCG's periodicity. Specifically, the following figure shows plots of the tuple $(U_i,U_{i+1})$ for both a `scipy.uniform` sequence (blue) and a `LCG` (orange) sequence.\n",
    "\n",
    "While we cannot recognize any systematic pattern in the plot for\n",
    "the `scipy` generated numbers, the plot for the LCG shows a systematic\n",
    "pattern. As a consequence, the full state space is not explored by\n",
    "the sequence. The serial test is, however, exactly designed for\n",
    "ascertain a uniform coverage of the state space, which suggests\n",
    "that the test will reject the LCG sequences.\n",
    "The implementation of the Serial test is a simple extension of the\n",
    "$\\chi^2$-test used in the previous Exercise.\n",
    "\n",
    "Here the serial test is implemented with $m=10$ subdivisions along\n",
    "each dimension. The numerical tests confirm the motivation that\n",
    "this test is effective to identify the `LCG` sequence as not coming\n",
    "from a uniform random variable. In fact, the test rejects the null\n",
    "hypothesis at level $\\alpha=0.1$ already for $n\\ge 100$; see above cell.\n",
    "A rule-of-thumb in practice is to use $n$ and $m$ such that $n\\ge 5 m^d$.\n",
    "This is satisfied here for $n\\ge 1000$ ($m=10$ and $d=2$)."
   ]
  },
  {
   "cell_type": "code",
   "execution_count": 19,
   "id": "0cd5063e",
   "metadata": {},
   "outputs": [
    {
     "data": {
      "application/vnd.jupyter.widget-view+json": {
       "model_id": "cc3c9995dea945ea95d422375b7a9326",
       "version_major": 2,
       "version_minor": 0
      },
      "text/plain": [
       "interactive(children=(IntSlider(value=505, description='n', max=1000, min=10), Output()), _dom_classes=('widge…"
      ]
     },
     "metadata": {},
     "output_type": "display_data"
    }
   ],
   "source": [
    "def plot_scipy_vs_lcg_space(n: int):\n",
    "    \"\"\"Interaction helper.\"\"\"\n",
    "    x = uniform.rvs(size=n)\n",
    "    plt.plot(x[:-1], x[1:], lw=.5, label=\"scipy\")\n",
    "\n",
    "    x = LCG(n=n)\n",
    "    plt.plot(x[:-1], x[1:], lw=1, label=\"LCG\")\n",
    "    \n",
    "    plt.xlabel(r\"$U_i$\")\n",
    "    plt.xlabel(r\"$U_{i + 1}$\")\n",
    "    plt.axis(\"square\")\n",
    "    plt.legend(fontsize=15)\n",
    "\n",
    "interact(plot_scipy_vs_lcg_space, n=(10, 1000));"
   ]
  },
  {
   "cell_type": "markdown",
   "id": "f1a4931c",
   "metadata": {},
   "source": [
    "3. Implement the Gap test. Apply the test to both a sequence obtained from the default `scipy.stats` RNG `uniform` and to a sequence generated by the LCG. What do you observe?"
   ]
  },
  {
   "cell_type": "code",
   "execution_count": 20,
   "id": "ec042bf2",
   "metadata": {},
   "outputs": [],
   "source": [
    "def gap_test(seq: np.array, alpha: float=.1, a: float=0., b: float=.5, r: int=5) -> bool:\n",
    "    \"\"\"\n",
    "    Gap test for data `seq` and significance `alpha`.\n",
    "    Returns `True` if H0 cannot be rejected and `False` if rejected at level `alpha`.\n",
    "    \"\"\"\n",
    "    idx = np.where((a < seq) & (seq < b))[0]\n",
    "    idx = np.hstack([0, np.array(idx) + 1])\n",
    "    \n",
    "    Z = idx[1:] - idx[:-1] - 1\n",
    "    nZ = len(Z)\n",
    "\n",
    "    Nr = np.bincount(Z, minlength=r)\n",
    "    Nr = np.hstack((Nr[:r], Nr[r:].sum()))\n",
    "\n",
    "    prob = b - a\n",
    "    p = prob * (1 - prob) ** np.arange(r)\n",
    "    p = np.hstack([p, (1 - prob) ** r])\n",
    "\n",
    "    Q = np.sum((Nr - p * nZ) ** 2 / (p * nZ))\n",
    "\n",
    "    if Q > chi2.ppf(1 - alpha, r):\n",
    "        return False\n",
    "    return True"
   ]
  },
  {
   "cell_type": "code",
   "execution_count": 21,
   "id": "b618a017",
   "metadata": {},
   "outputs": [
    {
     "name": "stdout",
     "output_type": "stream",
     "text": [
      "Test: Gap\n",
      "RNG: Scipy\n",
      "***\n",
      "Results based on 100 tests with alpha = 0.1:\n",
      "------------------------------------------------\n",
      "n = 25      : 85.0% of tests cannot be rejected\n",
      "n = 100     : 96.0% of tests cannot be rejected\n",
      "n = 1000    : 88.0% of tests cannot be rejected\n",
      "n = 100000  : 89.0% of tests cannot be rejected\n",
      "\n",
      "\n",
      "Test: Gap\n",
      "RNG: LCG\n",
      "***\n",
      "Results based on 100 tests with alpha = 0.1:\n",
      "------------------------------------------------\n",
      "n = 25      : 100.0% of tests cannot be rejected\n",
      "n = 100     : 0.0% of tests cannot be rejected\n",
      "n = 1000    : 0.0% of tests cannot be rejected\n",
      "n = 100000  : 0.0% of tests cannot be rejected\n"
     ]
    }
   ],
   "source": [
    "acc_test(gap_test, rng=\"Scipy\")\n",
    "print(\"\\n\")\n",
    "acc_test(gap_test, rng=\"LCG\")"
   ]
  },
  {
   "cell_type": "markdown",
   "id": "d35a103d",
   "metadata": {},
   "source": [
    "Here the Gap-test is implemented with $r=5$ and the test outcomes are shown in the cell above. We observe that the Gap-test rejects the null hypothesis at the level $\\alpha=0.1$ for $n\\ge 100$\n",
    "of the LCG sequence, while the null hypothesis for the `uniform.rvs` sequence cannot be rejected most of the time. Notice however, that the smallest expected number per class is not bigger than $5$ (which is the\n",
    "recommended threshold in practice) for approximately $n<350$, so that the outcomes for smaller values of $n$ may not be reliable."
   ]
  },
  {
   "cell_type": "markdown",
   "id": "8026a0f4",
   "metadata": {},
   "source": [
    "**Comment on built-in functions**\n",
    "\n",
    "Many of the tasks that need to be implemented for this exercise sheet already exist as **Python** built-in functions. \n",
    "For example, the empirical CDF can be conveniently plotted using the `ECDF` function that is available in the [statsmodel](https://pypi.org/project/statsmodels/) package. The [Kolmogorv-Smirnov](https://docs.scipy.org/doc/scipy/reference/generated/scipy.stats.kstest.html) and [$\\chi^2$ test](https://docs.scipy.org/doc/scipy/reference/generated/scipy.stats.chisquare.html) are also available. \n",
    "There is, of course, very little reason to reinvent the wheel, and we strongly encourage you to use these built-in functions in future exercise sheets, if not stated otherwise. However, before naively relying on built-in functions, it is important to understand the underlying mathematical procedure."
   ]
  }
 ],
 "metadata": {
  "kernelspec": {
   "display_name": "Python 3 (ipykernel)",
   "language": "python",
   "name": "python3"
  },
  "language_info": {
   "codemirror_mode": {
    "name": "ipython",
    "version": 3
   },
   "file_extension": ".py",
   "mimetype": "text/x-python",
   "name": "python",
   "nbconvert_exporter": "python",
   "pygments_lexer": "ipython3",
   "version": "3.10.12"
  },
  "widgets": {
   "application/vnd.jupyter.widget-state+json": {
    "state": {
     "07c05b4d5f254220a915702d965da7ee": {
      "model_module": "@jupyter-widgets/base",
      "model_module_version": "2.0.0",
      "model_name": "LayoutModel",
      "state": {}
     },
     "2a51ab8dd334404dbcb5bd9d5f783564": {
      "model_module": "@jupyter-widgets/base",
      "model_module_version": "2.0.0",
      "model_name": "LayoutModel",
      "state": {}
     },
     "8f6be31b1aaf4e319b36ad8e98d9ade7": {
      "model_module": "@jupyter-widgets/base",
      "model_module_version": "2.0.0",
      "model_name": "LayoutModel",
      "state": {}
     },
     "a8c55a2015f644dca0fb3e085a345d43": {
      "model_module": "@jupyter-widgets/controls",
      "model_module_version": "2.0.0",
      "model_name": "DescriptionStyleModel",
      "state": {
       "description_width": ""
      }
     },
     "ad5c98abdcd348f69fab7eac1c11c0c1": {
      "model_module": "@jupyter-widgets/controls",
      "model_module_version": "2.0.0",
      "model_name": "VBoxModel",
      "state": {
       "_dom_classes": [
        "widget-interact"
       ],
       "children": [
        "IPY_MODEL_e8fd99f7c359491b8dcc4e011adb8e35",
        "IPY_MODEL_f919db1f248c4870a1943a4ed30e9f18"
       ],
       "layout": "IPY_MODEL_8f6be31b1aaf4e319b36ad8e98d9ade7"
      }
     },
     "e8fd99f7c359491b8dcc4e011adb8e35": {
      "model_module": "@jupyter-widgets/controls",
      "model_module_version": "2.0.0",
      "model_name": "DropdownModel",
      "state": {
       "_options_labels": [
        "25",
        "100",
        "1000",
        "100000"
       ],
       "description": "n",
       "index": 0,
       "layout": "IPY_MODEL_07c05b4d5f254220a915702d965da7ee",
       "style": "IPY_MODEL_a8c55a2015f644dca0fb3e085a345d43"
      }
     },
     "f919db1f248c4870a1943a4ed30e9f18": {
      "model_module": "@jupyter-widgets/output",
      "model_module_version": "1.0.0",
      "model_name": "OutputModel",
      "state": {
       "layout": "IPY_MODEL_2a51ab8dd334404dbcb5bd9d5f783564",
       "outputs": [
        {
         "data": {
          "image/png": "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",
          "text/plain": "<Figure size 1000x500 with 2 Axes>"
         },
         "metadata": {},
         "output_type": "display_data"
        }
       ]
      }
     }
    },
    "version_major": 2,
    "version_minor": 0
   }
  }
 },
 "nbformat": 4,
 "nbformat_minor": 5
}
