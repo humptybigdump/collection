{
 "cells": [
  {
   "cell_type": "code",
   "execution_count": null,
   "metadata": {},
   "outputs": [],
   "source": [
    "import matplotlib.pyplot as plt\n",
    "import numpy as np\n",
    "from IPython.display import clear_output\n",
    "from qiskit import QuantumCircuit\n",
    "from qiskit.algorithms.optimizers import COBYLA, L_BFGS_B, ADAM\n",
    "from qiskit.circuit import Parameter, ParameterVector\n",
    "from qiskit.circuit.library import RealAmplitudes, ZZFeatureMap\n",
    "from qiskit.utils import algorithm_globals\n",
    "from qiskit.quantum_info import SparsePauliOp\n",
    "\n",
    "from qiskit_machine_learning.algorithms.classifiers import NeuralNetworkClassifier, VQC\n",
    "from qiskit_machine_learning.algorithms.regressors import NeuralNetworkRegressor, VQR\n",
    "from qiskit_machine_learning.neural_networks import SamplerQNN, EstimatorQNN\n",
    "\n",
    "algorithm_globals.random_seed = 42"
   ]
  },
  {
   "attachments": {},
   "cell_type": "markdown",
   "metadata": {},
   "source": [
    "# Training a Variational Quantum Classifier\n",
    "\n",
    "We start with fixing some constants to create our data and circuit and consider `2` features and `2` qubits to solve a simple problem."
   ]
  },
  {
   "cell_type": "code",
   "execution_count": null,
   "metadata": {},
   "outputs": [],
   "source": [
    "feature_dimension = 2\n",
    "qubit_count = 2"
   ]
  },
  {
   "attachments": {},
   "cell_type": "markdown",
   "metadata": {},
   "source": [
    "## Data Generation"
   ]
  },
  {
   "cell_type": "markdown",
   "metadata": {},
   "source": [
    "We prepare a very simple dataset for our first classification task."
   ]
  },
  {
   "cell_type": "code",
   "execution_count": null,
   "metadata": {},
   "outputs": [],
   "source": [
    "num_samples = 20\n",
    "\n",
    "X = 2 * algorithm_globals.random.random([num_samples, feature_dimension]) - 1\n",
    "y01 = 1 * (np.sum(X, axis=1) >= 0)  # in { 0,  1}\n",
    "y = 2 * y01 - 1  # in {-1, +1}\n",
    "y_one_hot = np.zeros((num_samples, 2))\n",
    "for i in range(num_samples):\n",
    "    y_one_hot[i, y01[i]] = 1\n",
    "\n",
    "for x, y_target in zip(X, y):\n",
    "    if y_target == 1:\n",
    "        plt.plot(x[0], x[1], \"bo\")\n",
    "    else:\n",
    "        plt.plot(x[0], x[1], \"go\")\n",
    "plt.plot([-1, 1], [1, -1], \"--\", color=\"black\")\n",
    "plt.show()"
   ]
  },
  {
   "attachments": {},
   "cell_type": "markdown",
   "metadata": {},
   "source": [
    "## Classification\n",
    "\n",
    "In the following, we create a circuit that consists from a data encoding part as well as a variational part. The data encoding part creates a feature map.\n",
    "\n",
    "For our data encoding part we first want to consider *angle encoding*. So please take care to complete the following function. Ensure that all features are encoded. Note that the circuit might contain more qubits than features."
   ]
  },
  {
   "cell_type": "code",
   "execution_count": null,
   "metadata": {},
   "outputs": [],
   "source": [
    "def create_feature_map(feature_dimension=2, qubits=2):\n",
    "    assert feature_dimension <= qubits\n",
    "    data_parameter = ParameterVector(\"x\", length=feature_dimension)\n",
    "\n",
    "    feature_map = QuantumCircuit(qubits)\n",
    "    # insert code for angle encoding here\n",
    "    return feature_map"
   ]
  },
  {
   "cell_type": "code",
   "execution_count": null,
   "metadata": {},
   "outputs": [],
   "source": [
    "feature_map = create_feature_map(feature_dimension, qubit_count)\n",
    "ansatz = RealAmplitudes(qubit_count, reps=2).decompose(reps=2)"
   ]
  },
  {
   "cell_type": "code",
   "execution_count": null,
   "metadata": {},
   "outputs": [],
   "source": [
    "initial_params = params = algorithm_globals.random.random(ansatz.num_parameters)\n",
    "print(f\"Starting with initial params {initial_params}\")"
   ]
  },
  {
   "attachments": {},
   "cell_type": "markdown",
   "metadata": {},
   "source": [
    "We now compose our circuit from our two parts, the `feature_map` and our selected `ansatz`."
   ]
  },
  {
   "cell_type": "code",
   "execution_count": null,
   "metadata": {},
   "outputs": [],
   "source": [
    "# construct QNN\n",
    "qc = QuantumCircuit(qubit_count)\n",
    "qc.compose(feature_map, inplace=True)\n",
    "qc.barrier()\n",
    "qc.compose(ansatz, inplace=True)\n",
    "qc.draw(output=\"mpl\")"
   ]
  },
  {
   "attachments": {},
   "cell_type": "markdown",
   "metadata": {},
   "source": [
    "We now create a [quantum neural network](https://qiskit.org/documentation/machine-learning/stubs/qiskit_machine_learning.neural_networks.EstimatorQNN.html) based on the [`Estimator`](https://qiskit.org/documentation/stubs/qiskit.primitives.Estimator.html#qiskit.primitives.Estimator) primitive. Please note that this is doing exactly the same as we showed during our lecture. This is nothing else than our *variational classifier*."
   ]
  },
  {
   "cell_type": "code",
   "execution_count": null,
   "metadata": {},
   "outputs": [],
   "source": [
    "estimator_qnn = EstimatorQNN(\n",
    "    circuit=qc, \n",
    "    input_params=feature_map.parameters, \n",
    "    weight_params=ansatz.parameters,\n",
    "    observables=SparsePauliOp(\"ZI\")\n",
    ")"
   ]
  },
  {
   "attachments": {},
   "cell_type": "markdown",
   "metadata": {},
   "source": [
    "Trying out the forward step of our qnn..."
   ]
  },
  {
   "cell_type": "code",
   "execution_count": null,
   "metadata": {},
   "outputs": [],
   "source": [
    "# QNN maps inputs to [-1, +1]\n",
    "estimator_qnn.forward(X[0, :], algorithm_globals.random.random(estimator_qnn.num_weights))"
   ]
  },
  {
   "attachments": {},
   "cell_type": "markdown",
   "metadata": {},
   "source": [
    "... and our backward step."
   ]
  },
  {
   "cell_type": "code",
   "execution_count": null,
   "metadata": {},
   "outputs": [],
   "source": [
    "estimator_qnn.backward(X[0, :], params)"
   ]
  },
  {
   "attachments": {},
   "cell_type": "markdown",
   "metadata": {},
   "source": [
    "We now create a callback function. This is called for each iteration of the optimizer and will be passed two parameters: the current weights and the value of the objective function at those weights. We append the value of the objective function to an array so we can plot iteration versus objective function value and update the graph with each iteration."
   ]
  },
  {
   "cell_type": "code",
   "execution_count": null,
   "metadata": {},
   "outputs": [],
   "source": [
    "# callback function that draws a live plot when the .fit() method is called\n",
    "def callback_graph(weights, obj_func_eval):\n",
    "    clear_output(wait=True)\n",
    "    objective_func_vals.append(obj_func_eval)\n",
    "    plt.title(\"Objective function value against iteration\")\n",
    "    plt.xlabel(\"Iteration\")\n",
    "    plt.ylabel(\"Objective function value\")\n",
    "    plt.plot(range(len(objective_func_vals)), objective_func_vals)\n",
    "    plt.show()"
   ]
  },
  {
   "cell_type": "code",
   "execution_count": null,
   "metadata": {},
   "outputs": [],
   "source": [
    "# construct neural network classifier\n",
    "estimator_classifier = NeuralNetworkClassifier(\n",
    "    estimator_qnn, \n",
    "    optimizer=COBYLA(maxiter=60), \n",
    "    callback=callback_graph, \n",
    "    loss=\"squared_error\",\n",
    "    initial_point=initial_params\n",
    ")"
   ]
  },
  {
   "cell_type": "code",
   "execution_count": null,
   "metadata": {},
   "outputs": [],
   "source": [
    "# create empty array for callback to store evaluations of the objective function\n",
    "objective_func_vals = []\n",
    "plt.rcParams[\"figure.figsize\"] = (10, 4)\n",
    "\n",
    "# fit classifier to data\n",
    "estimator_classifier.fit(X, y)\n",
    "\n",
    "# return to default figsize\n",
    "plt.rcParams[\"figure.figsize\"] = (6, 4)\n",
    "\n",
    "# score classifier\n",
    "estimator_classifier.score(X, y)"
   ]
  },
  {
   "attachments": {},
   "cell_type": "markdown",
   "metadata": {},
   "source": [
    "The following is a helper function to mark the data that has not been classified correctly."
   ]
  },
  {
   "cell_type": "code",
   "execution_count": null,
   "metadata": {},
   "outputs": [],
   "source": [
    "def evaluate_estimator(estimator, data, labels):\n",
    "    # evaluate data points\n",
    "    y_predict = estimator.predict(data)\n",
    "\n",
    "    # plot results\n",
    "    # red == wrongly classified\n",
    "    for x, y_target, y_p in zip(data, labels, y_predict):\n",
    "        try:\n",
    "            y_target[1]\n",
    "            current = y_target[1]\n",
    "        except IndexError:\n",
    "            current = y_target\n",
    "        if current == 1:\n",
    "            plt.plot(x[0], x[1], \"bo\")\n",
    "        else:\n",
    "            plt.plot(x[0], x[1], \"go\")\n",
    "        if not np.all(y_target == y_p):\n",
    "            plt.scatter(x[0], x[1], s=200, facecolors=\"none\", edgecolors=\"r\", linewidths=2)\n",
    "    plt.plot([-1, 1], [1, -1], \"--\", color=\"black\")\n",
    "    plt.show()"
   ]
  },
  {
   "cell_type": "code",
   "execution_count": null,
   "metadata": {},
   "outputs": [],
   "source": [
    "# evaluate data points\n",
    "evaluate_estimator(estimator_classifier, X, y)"
   ]
  },
  {
   "cell_type": "code",
   "execution_count": null,
   "metadata": {},
   "outputs": [],
   "source": [
    "estimator_classifier.weights"
   ]
  },
  {
   "attachments": {},
   "cell_type": "markdown",
   "metadata": {},
   "source": [
    "# Explicit implementation of Qiskits Variational Quantum Classifier"
   ]
  },
  {
   "attachments": {},
   "cell_type": "markdown",
   "metadata": {},
   "source": [
    "Qiskit also offers a specific variant for *Variational Quantum Classifiers*. Although the abbreviation *VQC* is commonly used for *variational quantum circuit*, this is not ment here. This function nearly does the same as the method presented above but considers one hot encoded labels that are used during training."
   ]
  },
  {
   "cell_type": "code",
   "execution_count": null,
   "metadata": {},
   "outputs": [],
   "source": [
    "# construct variational quantum classifier\n",
    "vqc = VQC(\n",
    "    feature_map=feature_map,\n",
    "    ansatz=ansatz,\n",
    "    loss=\"squared_error\",  # \"cross_entropy\",\n",
    "    optimizer=COBYLA(maxiter=60),\n",
    "    callback=callback_graph, \n",
    "    initial_point=initial_params\n",
    ")"
   ]
  },
  {
   "cell_type": "code",
   "execution_count": null,
   "metadata": {},
   "outputs": [],
   "source": [
    "# create empty array for callback to store evaluations of the objective function\n",
    "objective_func_vals = []\n",
    "plt.rcParams[\"figure.figsize\"] = (10, 4)\n",
    "\n",
    "# fit classifier to data\n",
    "vqc.fit(X, y_one_hot)\n",
    "\n",
    "# return to default figsize\n",
    "plt.rcParams[\"figure.figsize\"] = (6, 4)\n",
    "\n",
    "# score classifier\n",
    "vqc.score(X, y_one_hot)"
   ]
  },
  {
   "cell_type": "code",
   "execution_count": null,
   "metadata": {},
   "outputs": [],
   "source": [
    "evaluate_estimator(vqc, X, y_one_hot)"
   ]
  },
  {
   "attachments": {},
   "cell_type": "markdown",
   "metadata": {},
   "source": [
    "# Exercises\n",
    "\n",
    "## Ansätze\n",
    "\n",
    "Try out different ansätze to check how well you are training.\n",
    "\n",
    "## Barren Plateaus\n",
    "\n",
    "Adapt the number of qubits for the given circuit and evaluate if and when you are facing a *barren plateau*.\n",
    "\n",
    "Take care that you also need to adapt the `observable` by attaching *Identity* as often as the number of qubits - 1 in case you still execute your classifier with a Z measurement."
   ]
  },
  {
   "attachments": {},
   "cell_type": "markdown",
   "metadata": {},
   "source": [
    "# Optional Homework Exercise\n",
    "\n",
    "Use the [`ad_hoc_data`](https://qiskit.org/documentation/machine-learning/stubs/qiskit_machine_learning.datasets.ad_hoc_data.html#qiskit_machine_learning.datasets.ad_hoc_data) method from `qiskit_machine_learning` and generate a toy dataset according to the procedure outlined in the paper by [Havlicek et al.](https://arxiv.org/pdf/1804.11326.pdf). This dataset can theoretically be fully separated by using the [`ZZFeatureMap`](https://qiskit.org/documentation/stable/0.24/stubs/qiskit.circuit.library.ZZFeatureMap.html?highlight=zzfeaturemap#qiskit.circuit.library.ZZFeatureMap).\n",
    "\n",
    "Build a circuit and implement a training to see which accuracy you are able to reach for the test dataset."
   ]
  }
 ],
 "metadata": {
  "kernelspec": {
   "display_name": "lecture3.8",
   "language": "python",
   "name": "python3"
  },
  "language_info": {
   "codemirror_mode": {
    "name": "ipython",
    "version": 3
   },
   "file_extension": ".py",
   "mimetype": "text/x-python",
   "name": "python",
   "nbconvert_exporter": "python",
   "pygments_lexer": "ipython3",
   "version": "3.8.15"
  },
  "orig_nbformat": 4,
  "vscode": {
   "interpreter": {
    "hash": "8dc5d5bdbdf7113047e58213ff4dd76f18871061ce7c2250ed15efe3e9d22e94"
   }
  }
 },
 "nbformat": 4,
 "nbformat_minor": 2
}
