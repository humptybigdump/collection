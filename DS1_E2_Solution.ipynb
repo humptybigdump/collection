{
 "cells": [
  {
   "cell_type": "markdown",
   "id": "1aba2e91",
   "metadata": {},
   "source": [
    "# Data Science 1, Winter Semester 2021/22\n",
    "---\n",
    "# Exercise Sheet 2: Classification"
   ]
  },
  {
   "cell_type": "markdown",
   "id": "18e88bba",
   "metadata": {},
   "source": [
    "Let's load the dataset and add the target `species` as a new column.\n",
    "This is the same procedure as for the first exercise sheet."
   ]
  },
  {
   "cell_type": "code",
   "execution_count": 1,
   "id": "c49a9c05",
   "metadata": {},
   "outputs": [
    {
     "data": {
      "text/html": [
       "<div>\n",
       "<style scoped>\n",
       "    .dataframe tbody tr th:only-of-type {\n",
       "        vertical-align: middle;\n",
       "    }\n",
       "\n",
       "    .dataframe tbody tr th {\n",
       "        vertical-align: top;\n",
       "    }\n",
       "\n",
       "    .dataframe thead th {\n",
       "        text-align: right;\n",
       "    }\n",
       "</style>\n",
       "<table border=\"1\" class=\"dataframe\">\n",
       "  <thead>\n",
       "    <tr style=\"text-align: right;\">\n",
       "      <th></th>\n",
       "      <th>sepal length (cm)</th>\n",
       "      <th>sepal width (cm)</th>\n",
       "      <th>petal length (cm)</th>\n",
       "      <th>petal width (cm)</th>\n",
       "      <th>species</th>\n",
       "    </tr>\n",
       "  </thead>\n",
       "  <tbody>\n",
       "    <tr>\n",
       "      <th>0</th>\n",
       "      <td>5.1</td>\n",
       "      <td>3.5</td>\n",
       "      <td>1.4</td>\n",
       "      <td>0.2</td>\n",
       "      <td>setosa</td>\n",
       "    </tr>\n",
       "    <tr>\n",
       "      <th>1</th>\n",
       "      <td>4.9</td>\n",
       "      <td>3.0</td>\n",
       "      <td>1.4</td>\n",
       "      <td>0.2</td>\n",
       "      <td>setosa</td>\n",
       "    </tr>\n",
       "    <tr>\n",
       "      <th>2</th>\n",
       "      <td>4.7</td>\n",
       "      <td>3.2</td>\n",
       "      <td>1.3</td>\n",
       "      <td>0.2</td>\n",
       "      <td>setosa</td>\n",
       "    </tr>\n",
       "    <tr>\n",
       "      <th>3</th>\n",
       "      <td>4.6</td>\n",
       "      <td>3.1</td>\n",
       "      <td>1.5</td>\n",
       "      <td>0.2</td>\n",
       "      <td>setosa</td>\n",
       "    </tr>\n",
       "    <tr>\n",
       "      <th>4</th>\n",
       "      <td>5.0</td>\n",
       "      <td>3.6</td>\n",
       "      <td>1.4</td>\n",
       "      <td>0.2</td>\n",
       "      <td>setosa</td>\n",
       "    </tr>\n",
       "  </tbody>\n",
       "</table>\n",
       "</div>"
      ],
      "text/plain": [
       "   sepal length (cm)  sepal width (cm)  petal length (cm)  petal width (cm)  \\\n",
       "0                5.1               3.5                1.4               0.2   \n",
       "1                4.9               3.0                1.4               0.2   \n",
       "2                4.7               3.2                1.3               0.2   \n",
       "3                4.6               3.1                1.5               0.2   \n",
       "4                5.0               3.6                1.4               0.2   \n",
       "\n",
       "  species  \n",
       "0  setosa  \n",
       "1  setosa  \n",
       "2  setosa  \n",
       "3  setosa  \n",
       "4  setosa  "
      ]
     },
     "execution_count": 1,
     "metadata": {},
     "output_type": "execute_result"
    }
   ],
   "source": [
    "import pandas as pd\n",
    "from sklearn.datasets import load_iris\n",
    "\n",
    "iris = load_iris()\n",
    "iris_df = pd.DataFrame(iris.data, columns=iris.feature_names)\n",
    "iris_df['species'] = pd.Series(iris.target, name='species').replace({i: name for i, name in enumerate(iris.target_names)})\n",
    "iris_df.head()"
   ]
  },
  {
   "cell_type": "markdown",
   "id": "163765d8",
   "metadata": {},
   "source": [
    "## a) Training"
   ]
  },
  {
   "cell_type": "markdown",
   "id": "ebeb87f0",
   "metadata": {},
   "source": [
    "Creating and training prediction models with `sklearn` is easy.\n",
    "\n",
    "First, we create an object for the prediction model.\n",
    "There is a separate class for each model type.\n",
    "During creation, we can set model-specific hyperparameters.\n",
    "Here, we leave the hyperparameters at their defaults, but set a random state.\n",
    "This guarantees that the trained tree always is the same if we execute this code block multiple times.\n",
    "(See `sklearn`'s documentation to find out how decision-tree training might be non-deterministic.)\n",
    "After creating the object, you can still use `set_params()` to modify its hyperparameters.\n",
    "\n",
    "Second, we call the `fit()` method, which exists for all model types.\n",
    "For supervised algorithms, it gets the feature values `X` and the target variable `y` as parameters.\n",
    "For unsupervised algorithms, it only gets `X`, as we will see when solving the fourth exercise sheet."
   ]
  },
  {
   "cell_type": "code",
   "execution_count": 2,
   "id": "8fe3cc42",
   "metadata": {},
   "outputs": [
    {
     "data": {
      "text/plain": [
       "DecisionTreeClassifier(random_state=25)"
      ]
     },
     "execution_count": 2,
     "metadata": {},
     "output_type": "execute_result"
    }
   ],
   "source": [
    "from sklearn.tree import DecisionTreeClassifier\n",
    "\n",
    "decision_tree = DecisionTreeClassifier(random_state=25)\n",
    "decision_tree.fit(X=iris_df.drop(columns='species'), y=iris_df['species'])\n",
    "decision_tree"
   ]
  },
  {
   "cell_type": "markdown",
   "id": "d637eb5d",
   "metadata": {},
   "source": [
    "Okay, printing the tree object does not really give us useful information about the trained model, but that's why we have the next subtask.\n",
    "We can see the values of all hyperparameters with method `get_params()`:"
   ]
  },
  {
   "cell_type": "code",
   "execution_count": 3,
   "id": "0593f7a7",
   "metadata": {},
   "outputs": [
    {
     "data": {
      "text/plain": [
       "{'ccp_alpha': 0.0,\n",
       " 'class_weight': None,\n",
       " 'criterion': 'gini',\n",
       " 'max_depth': None,\n",
       " 'max_features': None,\n",
       " 'max_leaf_nodes': None,\n",
       " 'min_impurity_decrease': 0.0,\n",
       " 'min_samples_leaf': 1,\n",
       " 'min_samples_split': 2,\n",
       " 'min_weight_fraction_leaf': 0.0,\n",
       " 'random_state': 25,\n",
       " 'splitter': 'best'}"
      ]
     },
     "execution_count": 3,
     "metadata": {},
     "output_type": "execute_result"
    }
   ],
   "source": [
    "decision_tree.get_params()"
   ]
  },
  {
   "cell_type": "markdown",
   "id": "1bab7aad",
   "metadata": {},
   "source": [
    "By default, these hyperparameters don't limit tree growth.\n",
    "For example, depth is unlimited and there might be only one sample in each leaf node.\n",
    "This makes the trained model prone to overfitting:\n",
    "The tree tries to create pure partitions of the data, no matter how small they are, to optimize training error.\n",
    "This partitioning might be very specific to the training data, in particular, if features allow identifying and separating individual data objects.\n",
    "\n",
    "Using more restrictive hyperparameters might (but need not) lead to a more generalizable model, i.e., with a lower test error.\n",
    "We will analyze this in subtask e).\n",
    "In general, training with the default hyperparameters is fine to get a first impression of model performance.\n",
    "\n",
    "Another disadvantage of this approach here is that we don't split off a test set to evaluate predictions.\n",
    "Training performance is particular misleading for models that are prone to overfitting.\n",
    "Thus, we will properly evaluate the model in subtask c)."
   ]
  },
  {
   "cell_type": "markdown",
   "id": "6ee83394",
   "metadata": {},
   "source": [
    "## b) Inspection"
   ]
  },
  {
   "cell_type": "markdown",
   "id": "3c61a845",
   "metadata": {},
   "source": [
    "`sklearn`'s [documentation](https://scikit-learn.org/stable/modules/generated/sklearn.tree.DecisionTreeClassifier.html) of the `DecisionTreeClassifier` mentions three methods to retrieve properties of the trained model:\n",
    "1. `get_depth()` to retrieve the tree depth\n",
    "2. `get_n_leaves()` to retrieve the number of leaves\n",
    "3. `get_params()` to retrieve the hyperparameters used for training (see the previous sub-task)\n",
    "\n",
    "By the way, Python's built-in function `dir()` lists you all attributes and methods of an object (you could call `dir(decision_tree)`)."
   ]
  },
  {
   "cell_type": "code",
   "execution_count": 4,
   "id": "3e85c29d",
   "metadata": {},
   "outputs": [
    {
     "data": {
      "text/plain": [
       "5"
      ]
     },
     "execution_count": 4,
     "metadata": {},
     "output_type": "execute_result"
    }
   ],
   "source": [
    "decision_tree.get_depth()"
   ]
  },
  {
   "cell_type": "code",
   "execution_count": 5,
   "id": "b5d5f6cb",
   "metadata": {},
   "outputs": [
    {
     "data": {
      "text/plain": [
       "9"
      ]
     },
     "execution_count": 5,
     "metadata": {},
     "output_type": "execute_result"
    }
   ],
   "source": [
    "decision_tree.get_n_leaves()"
   ]
  },
  {
   "cell_type": "markdown",
   "id": "d8cba573",
   "metadata": {},
   "source": [
    "Besides these methods, we can also access attributes of the tree object directly.\n",
    "Several attributes just describe the data we used for training and therefore are not interesting for us.\n",
    "An interesting attribute (which also is available in many other `sklearn` models) is `feature_importances_`:"
   ]
  },
  {
   "cell_type": "code",
   "execution_count": 6,
   "id": "8ae11303",
   "metadata": {},
   "outputs": [
    {
     "data": {
      "text/html": [
       "<div>\n",
       "<style scoped>\n",
       "    .dataframe tbody tr th:only-of-type {\n",
       "        vertical-align: middle;\n",
       "    }\n",
       "\n",
       "    .dataframe tbody tr th {\n",
       "        vertical-align: top;\n",
       "    }\n",
       "\n",
       "    .dataframe thead th {\n",
       "        text-align: right;\n",
       "    }\n",
       "</style>\n",
       "<table border=\"1\" class=\"dataframe\">\n",
       "  <thead>\n",
       "    <tr style=\"text-align: right;\">\n",
       "      <th></th>\n",
       "      <th>Feature</th>\n",
       "      <th>Importance</th>\n",
       "    </tr>\n",
       "  </thead>\n",
       "  <tbody>\n",
       "    <tr>\n",
       "      <th>3</th>\n",
       "      <td>petal width (cm)</td>\n",
       "      <td>0.922611</td>\n",
       "    </tr>\n",
       "    <tr>\n",
       "      <th>2</th>\n",
       "      <td>petal length (cm)</td>\n",
       "      <td>0.050723</td>\n",
       "    </tr>\n",
       "    <tr>\n",
       "      <th>0</th>\n",
       "      <td>sepal length (cm)</td>\n",
       "      <td>0.013333</td>\n",
       "    </tr>\n",
       "    <tr>\n",
       "      <th>1</th>\n",
       "      <td>sepal width (cm)</td>\n",
       "      <td>0.013333</td>\n",
       "    </tr>\n",
       "  </tbody>\n",
       "</table>\n",
       "</div>"
      ],
      "text/plain": [
       "             Feature  Importance\n",
       "3   petal width (cm)    0.922611\n",
       "2  petal length (cm)    0.050723\n",
       "0  sepal length (cm)    0.013333\n",
       "1   sepal width (cm)    0.013333"
      ]
     },
     "execution_count": 6,
     "metadata": {},
     "output_type": "execute_result"
    }
   ],
   "source": [
    "pd.DataFrame(data={'Feature': decision_tree.feature_names_in_,\n",
    "                   'Importance': decision_tree.feature_importances_}\n",
    "            ).sort_values(by='Importance', ascending=False)"
   ]
  },
  {
   "cell_type": "markdown",
   "id": "8d5ebc8f",
   "metadata": {},
   "source": [
    "Apparently, `petal width (cm)` is largely responsible for improvement of the tree's objective function during training.\n",
    "Looking back to exercise sheet 1, this also was the attribute with the highest $\\chi^2$ test statistic,\n",
    "i.e., the highest dependence to the target.\n",
    "`petal length (cm)` had a similar test statistic, so it would be good for splitting as well.\n",
    "However, the tree just needs to pick one attribute for each split, so feature importance in the tree might not be representative of a feature's individual usefulness."
   ]
  },
  {
   "cell_type": "markdown",
   "id": "4c4a25d8",
   "metadata": {},
   "source": [
    "To view the tree, we use the function `plot_tree()` from `sklearn.tree`:"
   ]
  },
  {
   "cell_type": "code",
   "execution_count": 7,
   "id": "f04710f6",
   "metadata": {},
   "outputs": [
    {
     "data": {
      "image/png": "[encoded data removed]",
      "text/plain": [
       "<Figure size 1080x1080 with 1 Axes>"
      ]
     },
     "metadata": {
      "needs_background": "light"
     },
     "output_type": "display_data"
    }
   ],
   "source": [
    "import matplotlib.pyplot as plt\n",
    "from sklearn.tree import plot_tree\n",
    "\n",
    "plt.figure(figsize=(15, 15))\n",
    "plot_tree(decision_tree, feature_names=decision_tree.feature_names_in_,\n",
    "          class_names=iris.target_names, filled=True)\n",
    "plt.show()"
   ]
  },
  {
   "cell_type": "markdown",
   "id": "e8fcfb72",
   "metadata": {},
   "source": [
    "The default splitting criterion is not entropy-based (as in the lecture), but uses the [Gini impurity](https://en.wikipedia.org/wiki/Decision_tree_learning#Gini_impurity), which you can also see in the plot.\n",
    "(You can try setting `criterion=\"entropy\"` when creating the tree object if you like.)\n",
    "In all leaf nodes, this impurity is reduced to zero, i.e., classes are separated perfectly.\n",
    "The `value` fields in the nodes tell us how many data objects belong to each of the three classes.\n",
    "\n",
    "If you compare the tree with the solution to sub-task e) of exercise sheet 1, the splits make sense.\n",
    "For example, the first split, `petal width (cm) <= 0.8` is in the middle between the maximum for `setosa` and the minimum of `versicolor`.\n",
    "The second split, `petal width (cm) <= 1.75` is roughly in the middle between `versicolor` and `virginica`.\n",
    "As the latter two distributions overlap slightly, further splits are necessary to create pure partitions.\n",
    "However, Gini impurity does not change much further down in the tree.\n",
    "You can use the hyperparameter `min_impurity_decrease` to stop splitting earlier.\n",
    "\n",
    "By the way, there also is a function to create a textual representation of the tree:"
   ]
  },
  {
   "cell_type": "code",
   "execution_count": 8,
   "id": "8c97dcdf",
   "metadata": {},
   "outputs": [
    {
     "name": "stdout",
     "output_type": "stream",
     "text": [
      "|--- petal width (cm) <= 0.80\n",
      "|   |--- class: setosa\n",
      "|--- petal width (cm) >  0.80\n",
      "|   |--- petal width (cm) <= 1.75\n",
      "|   |   |--- petal length (cm) <= 4.95\n",
      "|   |   |   |--- petal width (cm) <= 1.65\n",
      "|   |   |   |   |--- class: versicolor\n",
      "|   |   |   |--- petal width (cm) >  1.65\n",
      "|   |   |   |   |--- class: virginica\n",
      "|   |   |--- petal length (cm) >  4.95\n",
      "|   |   |   |--- petal width (cm) <= 1.55\n",
      "|   |   |   |   |--- class: virginica\n",
      "|   |   |   |--- petal width (cm) >  1.55\n",
      "|   |   |   |   |--- sepal length (cm) <= 6.95\n",
      "|   |   |   |   |   |--- class: versicolor\n",
      "|   |   |   |   |--- sepal length (cm) >  6.95\n",
      "|   |   |   |   |   |--- class: virginica\n",
      "|   |--- petal width (cm) >  1.75\n",
      "|   |   |--- petal length (cm) <= 4.85\n",
      "|   |   |   |--- sepal width (cm) <= 3.10\n",
      "|   |   |   |   |--- class: virginica\n",
      "|   |   |   |--- sepal width (cm) >  3.10\n",
      "|   |   |   |   |--- class: versicolor\n",
      "|   |   |--- petal length (cm) >  4.85\n",
      "|   |   |   |--- class: virginica\n",
      "\n"
     ]
    }
   ],
   "source": [
    "from sklearn.tree import export_text\n",
    "\n",
    "print(export_text(decision_tree, feature_names=list(decision_tree.feature_names_in_)))"
   ]
  },
  {
   "cell_type": "markdown",
   "id": "95bf9403",
   "metadata": {},
   "source": [
    "## c) Evaluation"
   ]
  },
  {
   "cell_type": "markdown",
   "id": "37ed21b6",
   "metadata": {},
   "source": [
    "For cross-validation, we need to write a few more lines of code than before, but it still is easy (and can be nicely re-used for other classification problems):"
   ]
  },
  {
   "cell_type": "code",
   "execution_count": 9,
   "id": "d90c2134",
   "metadata": {},
   "outputs": [],
   "source": [
    "from sklearn.metrics import accuracy_score\n",
    "from sklearn.model_selection import StratifiedKFold\n",
    "\n",
    "k = 10\n",
    "model = DecisionTreeClassifier(random_state=25)\n",
    "X = iris_df.drop(columns='species')\n",
    "y = iris_df['species']\n",
    "splitter = StratifiedKFold(n_splits=k, random_state=25, shuffle=True)\n",
    "train_performances = []\n",
    "test_performances = []\n",
    "for train_idx, test_idx in splitter.split(X=X, y=y):\n",
    "    X_train, X_test = X.iloc[train_idx], X.iloc[test_idx]\n",
    "    y_train, y_test = y.iloc[train_idx], y.iloc[test_idx]\n",
    "    model.fit(X=X_train, y=y_train)\n",
    "    y_train_pred = model.predict(X=X_train)\n",
    "    y_test_pred = model.predict(X=X_test)\n",
    "    train_performances.append(accuracy_score(y_true=y_train, y_pred=y_train_pred))\n",
    "    test_performances.append(accuracy_score(y_true=y_test, y_pred=y_test_pred))\n",
    "performances = pd.DataFrame(data={'Train': train_performances, 'Test': test_performances})"
   ]
  },
  {
   "cell_type": "markdown",
   "id": "d2f6e2ea",
   "metadata": {},
   "source": [
    "The `StratifiedKFold` object provides a splitting method, which returns indices to subset the data into training and test.\n",
    "(Formally, it does not return a list of pairs/tuples of train and test indices, but a [generator](https://www.programiz.com/python-programming/generator).\n",
    "However, that is not really relevant for us, we can just iterate over it like over a list.)\n",
    "\n",
    "We use a stratified split to make sure the class frequencies are the same in training and test.\n",
    "If the dataset is large enough and we sample randomly, training and test splits should naturally have very similar distributions.\n",
    "Note that we also use the `shuffle` option to avoid that the split just partitions the data objects according to their given order.\n",
    "Quite often, data are sorted in some manner, which would cause training and test splits to differ in their distributions.\n",
    "For example, the `iris` data are sorted by class (though we already fight that with stratification):"
   ]
  },
  {
   "cell_type": "code",
   "execution_count": 10,
   "id": "35caa2d5",
   "metadata": {},
   "outputs": [
    {
     "data": {
      "text/plain": [
       "array([0, 0, 0, 0, 0, 0, 0, 0, 0, 0, 0, 0, 0, 0, 0, 0, 0, 0, 0, 0, 0, 0,\n",
       "       0, 0, 0, 0, 0, 0, 0, 0, 0, 0, 0, 0, 0, 0, 0, 0, 0, 0, 0, 0, 0, 0,\n",
       "       0, 0, 0, 0, 0, 0, 1, 1, 1, 1, 1, 1, 1, 1, 1, 1, 1, 1, 1, 1, 1, 1,\n",
       "       1, 1, 1, 1, 1, 1, 1, 1, 1, 1, 1, 1, 1, 1, 1, 1, 1, 1, 1, 1, 1, 1,\n",
       "       1, 1, 1, 1, 1, 1, 1, 1, 1, 1, 1, 1, 2, 2, 2, 2, 2, 2, 2, 2, 2, 2,\n",
       "       2, 2, 2, 2, 2, 2, 2, 2, 2, 2, 2, 2, 2, 2, 2, 2, 2, 2, 2, 2, 2, 2,\n",
       "       2, 2, 2, 2, 2, 2, 2, 2, 2, 2, 2, 2, 2, 2, 2, 2, 2, 2])"
      ]
     },
     "execution_count": 10,
     "metadata": {},
     "output_type": "execute_result"
    }
   ],
   "source": [
    "iris.target"
   ]
  },
  {
   "cell_type": "markdown",
   "id": "22154dae",
   "metadata": {},
   "source": [
    "Okay, enough theory, let's have a look at the actual performances of our decision tree in cross-validation:"
   ]
  },
  {
   "cell_type": "code",
   "execution_count": 11,
   "id": "e24aa464",
   "metadata": {},
   "outputs": [
    {
     "data": {
      "image/png": "[encoded data removed]",
      "text/plain": [
       "<Figure size 432x288 with 1 Axes>"
      ]
     },
     "metadata": {
      "needs_background": "light"
     },
     "output_type": "display_data"
    },
    {
     "data": {
      "text/html": [
       "<div>\n",
       "<style scoped>\n",
       "    .dataframe tbody tr th:only-of-type {\n",
       "        vertical-align: middle;\n",
       "    }\n",
       "\n",
       "    .dataframe tbody tr th {\n",
       "        vertical-align: top;\n",
       "    }\n",
       "\n",
       "    .dataframe thead th {\n",
       "        text-align: right;\n",
       "    }\n",
       "</style>\n",
       "<table border=\"1\" class=\"dataframe\">\n",
       "  <thead>\n",
       "    <tr style=\"text-align: right;\">\n",
       "      <th></th>\n",
       "      <th>Train</th>\n",
       "      <th>Test</th>\n",
       "    </tr>\n",
       "  </thead>\n",
       "  <tbody>\n",
       "    <tr>\n",
       "      <th>count</th>\n",
       "      <td>10.0</td>\n",
       "      <td>10.00</td>\n",
       "    </tr>\n",
       "    <tr>\n",
       "      <th>mean</th>\n",
       "      <td>1.0</td>\n",
       "      <td>0.95</td>\n",
       "    </tr>\n",
       "    <tr>\n",
       "      <th>std</th>\n",
       "      <td>0.0</td>\n",
       "      <td>0.04</td>\n",
       "    </tr>\n",
       "    <tr>\n",
       "      <th>min</th>\n",
       "      <td>1.0</td>\n",
       "      <td>0.87</td>\n",
       "    </tr>\n",
       "    <tr>\n",
       "      <th>25%</th>\n",
       "      <td>1.0</td>\n",
       "      <td>0.93</td>\n",
       "    </tr>\n",
       "    <tr>\n",
       "      <th>50%</th>\n",
       "      <td>1.0</td>\n",
       "      <td>0.93</td>\n",
       "    </tr>\n",
       "    <tr>\n",
       "      <th>75%</th>\n",
       "      <td>1.0</td>\n",
       "      <td>1.00</td>\n",
       "    </tr>\n",
       "    <tr>\n",
       "      <th>max</th>\n",
       "      <td>1.0</td>\n",
       "      <td>1.00</td>\n",
       "    </tr>\n",
       "  </tbody>\n",
       "</table>\n",
       "</div>"
      ],
      "text/plain": [
       "       Train   Test\n",
       "count   10.0  10.00\n",
       "mean     1.0   0.95\n",
       "std      0.0   0.04\n",
       "min      1.0   0.87\n",
       "25%      1.0   0.93\n",
       "50%      1.0   0.93\n",
       "75%      1.0   1.00\n",
       "max      1.0   1.00"
      ]
     },
     "execution_count": 11,
     "metadata": {},
     "output_type": "execute_result"
    }
   ],
   "source": [
    "performances.plot.bar()\n",
    "plt.show()\n",
    "performances.describe().round(2)"
   ]
  },
  {
   "cell_type": "markdown",
   "id": "a1039e03",
   "metadata": {},
   "source": [
    "As mentioned above, decision trees trained without any restrictions are prone to overfitting.\n",
    "Here, the model reaches perfect training accuracy on each fold.\n",
    "Average test accuracy is not perfect, but very high as well.\n",
    "Given the easy separability of the classes, this is no surprise.\n",
    "Test accuracy shows some variance between folds.\n",
    "As the dataset only contains 150 data objects, test folds are quite small in 10-fold cross-validation:\n",
    "They only contain 15 data objects each.\n",
    "However, if we average over folds in the end anyway, this should not be a problem.\n",
    "In general, there is no best `k`.\n",
    "Runtime might play a role, because a higher `k` implies more computational effort.\n",
    "5 and 10 are typical values for `k`.\n",
    "[Here](https://stats.stackexchange.com/questions/154830/10-fold-cross-validation-vs-leave-one-out-cross-validation) and [here](https://stats.stackexchange.com/questions/61783/bias-and-variance-in-leave-one-out-vs-k-fold-cross-validation/244112) are two interesting StackExchange posts discussing the choice of `k`."
   ]
  },
  {
   "cell_type": "markdown",
   "id": "ca544593",
   "metadata": {},
   "source": [
    "## d) Baseline"
   ]
  },
  {
   "cell_type": "markdown",
   "id": "a41ecb8e",
   "metadata": {},
   "source": [
    "As you might remember from the first exercise sheet, all three classes in the `iris` dataset occur with equal frequency:"
   ]
  },
  {
   "cell_type": "code",
   "execution_count": 12,
   "id": "3798f9e5",
   "metadata": {},
   "outputs": [
    {
     "data": {
      "text/plain": [
       "setosa        50\n",
       "versicolor    50\n",
       "virginica     50\n",
       "Name: species, dtype: int64"
      ]
     },
     "execution_count": 12,
     "metadata": {},
     "output_type": "execute_result"
    }
   ],
   "source": [
    "y.value_counts()"
   ]
  },
  {
   "cell_type": "markdown",
   "id": "29aa37cf",
   "metadata": {},
   "source": [
    "This naturally yields a baseline accuracy of $\\frac{1}{3}$ for guessing the most common class.\n",
    "Let's implement and evaluate such a \"classifier\" manually.\n",
    "Note that we use the full dataset for training and evaluation here.\n",
    "If data splits are stratified regarding the class anyway, we don't really need cross-validation for this particular baseline."
   ]
  },
  {
   "cell_type": "code",
   "execution_count": 13,
   "id": "d127dc53",
   "metadata": {},
   "outputs": [
    {
     "name": "stdout",
     "output_type": "stream",
     "text": [
      "Accuracy: 0.33\n"
     ]
    }
   ],
   "source": [
    "guessed_class = y.mode()[0]\n",
    "prediction = pd.Series([guessed_class] * len(iris_df))\n",
    "print('Accuracy:', round((prediction == y).mean(), 2))"
   ]
  },
  {
   "cell_type": "markdown",
   "id": "bc6491c6",
   "metadata": {},
   "source": [
    "As there can be multiple most common classes (= modes) in case of ties, we just pick the first one.\n",
    "Next, we simply duplicate it to get a constant prediction.\n",
    "(Python allows you to multiply lists with integers to concatenate repetitions of the list.)\n",
    "\n",
    "So why did we compute this baseline performance?\n",
    "Well, any proper prediction model should beat this baseline consistently.\n",
    "If a prediction model is significantly worse, something might be wrong with its configuration (e.g., data format).\n",
    "If a prediction model performs similar to the baseline, it might also just guess the most common class, without learning anything useful from the features in `X`.\n",
    "\n",
    "Instead of doing the steps above manually, we can use a classifier from `sklearn`:"
   ]
  },
  {
   "cell_type": "code",
   "execution_count": 14,
   "id": "dc6ccc6e",
   "metadata": {},
   "outputs": [
    {
     "name": "stdout",
     "output_type": "stream",
     "text": [
      "Accuracy: 0.33\n"
     ]
    }
   ],
   "source": [
    "from sklearn.dummy import DummyClassifier\n",
    "\n",
    "dummy_clf = DummyClassifier(strategy='most_frequent')\n",
    "dummy_clf.fit(X=X, y=y)\n",
    "print('Accuracy:', round(dummy_clf.score(X=X, y=y), 2))"
   ]
  },
  {
   "cell_type": "markdown",
   "id": "7070a938",
   "metadata": {},
   "source": [
    "Note how we use the method `score()` this time, instead of manual computation as directly above and instead of `fit()` and `accuacy_score()` as in c)."
   ]
  },
  {
   "cell_type": "markdown",
   "id": "53ddf393",
   "metadata": {},
   "source": [
    "## e) Hyperparameter Tuning"
   ]
  },
  {
   "cell_type": "markdown",
   "id": "5933654a",
   "metadata": {},
   "source": [
    "To learn trees of different complexity, we control the tree depth.\n",
    "As in sub-task c), we use 10-fold cross-validation for evaluation."
   ]
  },
  {
   "cell_type": "code",
   "execution_count": 15,
   "id": "f6ec96b7",
   "metadata": {},
   "outputs": [],
   "source": [
    "k = 10\n",
    "splitter = StratifiedKFold(n_splits=k, random_state=25, shuffle=True)\n",
    "performances = []\n",
    "for fold_idx, (train_idx, test_idx) in enumerate(splitter.split(X=X, y=y)):\n",
    "    X_train, X_test = X.iloc[train_idx], X.iloc[test_idx]\n",
    "    y_train, y_test = y.iloc[train_idx], y.iloc[test_idx]\n",
    "    for max_depth in range(1, 11):\n",
    "        model = DecisionTreeClassifier(random_state=25, max_depth=max_depth)\n",
    "        model.fit(X=X_train, y=y_train)\n",
    "        y_train_pred = model.predict(X_train)\n",
    "        y_test_pred = model.predict(X_test)\n",
    "        train_performance = accuracy_score(y_true=y_train, y_pred=y_train_pred)\n",
    "        test_performance = accuracy_score(y_true=y_test, y_pred=y_test_pred)\n",
    "        performances.append({'Fold': fold_idx, 'max_depth': max_depth,\n",
    "                             'Train': train_performance, 'Test': test_performance})\n",
    "performances = pd.DataFrame(data=performances)"
   ]
  },
  {
   "cell_type": "markdown",
   "id": "05bda5a2",
   "metadata": {},
   "source": [
    "Let's plot summarize and plot the results:"
   ]
  },
  {
   "cell_type": "code",
   "execution_count": 16,
   "id": "f208dae3",
   "metadata": {},
   "outputs": [
    {
     "data": {
      "image/png": "[encoded data removed]",
      "text/plain": [
       "<Figure size 432x288 with 1 Axes>"
      ]
     },
     "metadata": {
      "needs_background": "light"
     },
     "output_type": "display_data"
    },
    {
     "data": {
      "text/html": [
       "<div>\n",
       "<style scoped>\n",
       "    .dataframe tbody tr th:only-of-type {\n",
       "        vertical-align: middle;\n",
       "    }\n",
       "\n",
       "    .dataframe tbody tr th {\n",
       "        vertical-align: top;\n",
       "    }\n",
       "\n",
       "    .dataframe thead th {\n",
       "        text-align: right;\n",
       "    }\n",
       "</style>\n",
       "<table border=\"1\" class=\"dataframe\">\n",
       "  <thead>\n",
       "    <tr style=\"text-align: right;\">\n",
       "      <th></th>\n",
       "      <th>Train</th>\n",
       "      <th>Test</th>\n",
       "    </tr>\n",
       "    <tr>\n",
       "      <th>max_depth</th>\n",
       "      <th></th>\n",
       "      <th></th>\n",
       "    </tr>\n",
       "  </thead>\n",
       "  <tbody>\n",
       "    <tr>\n",
       "      <th>1</th>\n",
       "      <td>0.67</td>\n",
       "      <td>0.67</td>\n",
       "    </tr>\n",
       "    <tr>\n",
       "      <th>2</th>\n",
       "      <td>0.96</td>\n",
       "      <td>0.95</td>\n",
       "    </tr>\n",
       "    <tr>\n",
       "      <th>3</th>\n",
       "      <td>0.98</td>\n",
       "      <td>0.95</td>\n",
       "    </tr>\n",
       "    <tr>\n",
       "      <th>4</th>\n",
       "      <td>0.99</td>\n",
       "      <td>0.95</td>\n",
       "    </tr>\n",
       "    <tr>\n",
       "      <th>5</th>\n",
       "      <td>1.00</td>\n",
       "      <td>0.95</td>\n",
       "    </tr>\n",
       "    <tr>\n",
       "      <th>6</th>\n",
       "      <td>1.00</td>\n",
       "      <td>0.95</td>\n",
       "    </tr>\n",
       "    <tr>\n",
       "      <th>7</th>\n",
       "      <td>1.00</td>\n",
       "      <td>0.95</td>\n",
       "    </tr>\n",
       "    <tr>\n",
       "      <th>8</th>\n",
       "      <td>1.00</td>\n",
       "      <td>0.95</td>\n",
       "    </tr>\n",
       "    <tr>\n",
       "      <th>9</th>\n",
       "      <td>1.00</td>\n",
       "      <td>0.95</td>\n",
       "    </tr>\n",
       "    <tr>\n",
       "      <th>10</th>\n",
       "      <td>1.00</td>\n",
       "      <td>0.95</td>\n",
       "    </tr>\n",
       "  </tbody>\n",
       "</table>\n",
       "</div>"
      ],
      "text/plain": [
       "           Train  Test\n",
       "max_depth             \n",
       "1           0.67  0.67\n",
       "2           0.96  0.95\n",
       "3           0.98  0.95\n",
       "4           0.99  0.95\n",
       "5           1.00  0.95\n",
       "6           1.00  0.95\n",
       "7           1.00  0.95\n",
       "8           1.00  0.95\n",
       "9           1.00  0.95\n",
       "10          1.00  0.95"
      ]
     },
     "execution_count": 16,
     "metadata": {},
     "output_type": "execute_result"
    }
   ],
   "source": [
    "plot_data = performances.groupby('max_depth').mean().drop(columns='Fold')  # aggregate over folds\n",
    "plot_data.plot.bar()\n",
    "plt.show()\n",
    "plot_data.round(2)"
   ]
  },
  {
   "cell_type": "markdown",
   "id": "fc0ed11a",
   "metadata": {},
   "source": [
    "As we already saw, one split is sufficient to separate one class from the other two.\n",
    "The second split separates the remaining two classes quite good.\n",
    "So, if your goal is to have a model which is easy to comprehend for humans and has a high accuracy, you can choose `max_depth=2` here.\n",
    "(By the way, [\"Explainable AI\" (XAI)](https://en.wikipedia.org/wiki/Explainable_artificial_intelligence) is a hot research topic at the moment.)\n",
    "If you don't mind a larger model and if you consider the fast training time on our small dataset, simply training a tree of unlimited depth is fine as well.\n",
    "In particular, overfitting does not hurt test-set performance here.\n",
    "As we found out above, actual tree depth does not go beyond five, since that depth is sufficient to create pure partitions.\n",
    "\n",
    "There are various algorithms for hyperparameter tuning.\n",
    "`sklearn` itself contains multiple approaches, e.g., random search (`sklearn.model_selection.GridSearchCV`) and grid search (`sklearn.model_selection.RandomizedSearchCV`).\n",
    "In grid search, one has a set of values for each hyperparameter and evaluates the cross-product of them.\n",
    "In that sense, we conducted a one-dimensional grid search here."
   ]
  }
 ],
 "metadata": {
  "kernelspec": {
   "display_name": "ds-2021-kernel",
   "language": "python",
   "name": "ds-2021-kernel"
  },
  "language_info": {
   "codemirror_mode": {
    "name": "ipython",
    "version": 3
   },
   "file_extension": ".py",
   "mimetype": "text/x-python",
   "name": "python",
   "nbconvert_exporter": "python",
   "pygments_lexer": "ipython3",
   "version": "3.8.10"
  }
 },
 "nbformat": 4,
 "nbformat_minor": 5
}
