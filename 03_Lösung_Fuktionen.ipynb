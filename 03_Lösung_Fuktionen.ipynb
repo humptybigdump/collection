{
 "cells": [
  {
   "cell_type": "markdown",
   "metadata": {},
   "source": [
    "# Geodatenanalyse 1\n",
    "\n",
    "## Kapitel 3: Funktionen und Berechnungen - Übung"
   ]
  },
  {
   "cell_type": "markdown",
   "metadata": {},
   "source": [
    "### Aufgabe 1\n",
    "#### Deine eigene Funktion\n",
    "- Schreibe eine Funktion mit dem Namen *hiking()*, die Eingangsparameter für die <font color=\"green\">zurückgelegte Strecke</font>, die dafür <font color=\"green\">benötigte Zeit</font> und den <font color=\"green\">Ort der Wanderung</font> hat. \n",
    "\n",
    "    Die Funktion sollte eine Nachricht, mit dem durchschnittlichen Lauftempo und dem Ortsnamen ausgeben. Diese könnte zum Beispiel folgendermaßen lauten:\n",
    " > \" Bei unserer Wanderung in Zermatt hatten wir ein durchschnittliches Lauftempo von 3.5 km/h!\" \n",
    " \n",
    "\n",
    "- Bei einem Tempo von unter 2 km pro Stunde soll eine zusätzliche Nachricht ausgegeben werden, mit dem Hinweis, dass die Wanderung wohl besonders anstrengend oder steil war. Nutze hierfür eine passende Wenn-Dann Bedingung. "
   ]
  },
  {
   "cell_type": "code",
   "execution_count": 1,
   "metadata": {},
   "outputs": [
    {
     "name": "stdout",
     "output_type": "stream",
     "text": [
      "Bei unserer Wanderung in Zermatt hatten wir ein durchschnittliches Lauftempo von 3.5 km/h!\n",
      "Bei unserer Wanderung in Bruchsal hatten wir ein durchschnittliches Lauftempo von 1.5 km/h!\n",
      "Die Wanderung muss besonders anstrengend gewesen sein!\n"
     ]
    }
   ],
   "source": [
    "# eigene Funktion erstellen\n",
    "def hiking(distance, time, location):\n",
    "    speed = distance / time\n",
    "    print(\"Bei unserer Wanderung in\",str(location), \n",
    "          \"hatten wir ein durchschnittliches Lauftempo von\",\n",
    "          speed,\"km/h!\")    \n",
    "    if speed < 2.0:\n",
    "        print(\"Die Wanderung muss besonders anstrengend gewesen sein!\")\n",
    "\n",
    "# Funktion aufrufen mit einer hohen Durschnittsgeschwindigkeit und einem beliebigen Ortsnamen\n",
    "hiking(10.5,3,\"Zermatt\")\n",
    "\n",
    "# Funktion aufrufen mit einer niedrigeren Durschnittsgeschwindigkeit und einem beliebigen Ortsnamen\n",
    "hiking(6,4,\"Bruchsal\")"
   ]
  },
  {
   "cell_type": "markdown",
   "metadata": {},
   "source": [
    "### Aufgabe 2\n",
    "#### Erstellung von NumPy Objekten\n",
    "\n",
    "- Erstelle eine regelmäßige Sequenz zwischen 0 und 100, mit einem Inkrement von 4."
   ]
  },
  {
   "cell_type": "code",
   "execution_count": 10,
   "metadata": {},
   "outputs": [
    {
     "name": "stdout",
     "output_type": "stream",
     "text": [
      "[ 0  4  8 12 16 20 24 28 32 36 40 44 48 52 56 60 64 68 72 76 80 84 88 92\n",
      " 96]\n"
     ]
    }
   ],
   "source": [
    "# Vergiss nicht zuerst Numpy zu laden ;)\n",
    "import numpy as np\n",
    "\n",
    "# Vektor mit regelmäßiger Sequenz\n",
    "sequence = np.arange(0, 100, 4)\n",
    "print(sequence)\n"
   ]
  },
  {
   "cell_type": "markdown",
   "metadata": {},
   "source": [
    "- Erstelle eine Matrix mit 10 x 20 Einträgen, welche einer regelmäßigen Sequenz beginnend bei 0 folgt."
   ]
  },
  {
   "cell_type": "code",
   "execution_count": 25,
   "metadata": {},
   "outputs": [
    {
     "name": "stdout",
     "output_type": "stream",
     "text": [
      "[[  0   1   2   3   4   5   6   7   8   9  10  11  12  13  14  15  16  17\n",
      "   18  19]\n",
      " [ 20  21  22  23  24  25  26  27  28  29  30  31  32  33  34  35  36  37\n",
      "   38  39]\n",
      " [ 40  41  42  43  44  45  46  47  48  49  50  51  52  53  54  55  56  57\n",
      "   58  59]\n",
      " [ 60  61  62  63  64  65  66  67  68  69  70  71  72  73  74  75  76  77\n",
      "   78  79]\n",
      " [ 80  81  82  83  84  85  86  87  88  89  90  91  92  93  94  95  96  97\n",
      "   98  99]\n",
      " [100 101 102 103 104 105 106 107 108 109 110 111 112 113 114 115 116 117\n",
      "  118 119]\n",
      " [120 121 122 123 124 125 126 127 128 129 130 131 132 133 134 135 136 137\n",
      "  138 139]\n",
      " [140 141 142 143 144 145 146 147 148 149 150 151 152 153 154 155 156 157\n",
      "  158 159]\n",
      " [160 161 162 163 164 165 166 167 168 169 170 171 172 173 174 175 176 177\n",
      "  178 179]\n",
      " [180 181 182 183 184 185 186 187 188 189 190 191 192 193 194 195 196 197\n",
      "  198 199]]\n"
     ]
    }
   ],
   "source": [
    "# Matrix mit regelmäßige Sequenz\n",
    "matrix = np.arange(0, 200).reshape(10, 20)\n",
    "print(matrix)\n"
   ]
  },
  {
   "cell_type": "markdown",
   "metadata": {},
   "source": [
    "- Lasse dir die Anzahl an Elementen (size), die Dimensionen (shape) und die Datentypen (type) beider Vektoren von oben ausgeben"
   ]
  },
  {
   "cell_type": "code",
   "execution_count": 33,
   "metadata": {},
   "outputs": [
    {
     "name": "stdout",
     "output_type": "stream",
     "text": [
      "200\n",
      "(10, 20)\n",
      "<class 'numpy.ndarray'>\n"
     ]
    }
   ],
   "source": [
    "# Ausgabe von size, shape und type\n",
    "print(matrix.size)\n",
    "print(matrix.shape)\n",
    "print(type(matrix))\n"
   ]
  },
  {
   "cell_type": "markdown",
   "metadata": {},
   "source": [
    "### Aufgabe 3\n",
    "#### Indizierung von NumPy Objekten\n",
    "\n",
    "- Erstelle einen Vektor mit 1000 zufälligen Werten. Erstelle einen zweiten Vektor, welcher jeden dritten Wert des ersten Vektors enthält."
   ]
  },
  {
   "cell_type": "code",
   "execution_count": 39,
   "metadata": {},
   "outputs": [
    {
     "name": "stdout",
     "output_type": "stream",
     "text": [
      "(1000,)\n",
      "(334,)\n"
     ]
    }
   ],
   "source": [
    "# Vektor mit 1000 zufälligen Werten\n",
    "a = np.random.rand(1000)\n",
    "print(a.shape)\n",
    "\n",
    "# zweiter Vektor \n",
    "b = a[::3]\n",
    "print(b.shape)"
   ]
  },
  {
   "cell_type": "markdown",
   "metadata": {},
   "source": [
    "- Forme mit Hilfe von *reshape()* den ersten Vektor von eben in eine Matrix mit 20 Zeilen und 50 Spalten um, und überprüfe die Dimensionen der erzeugten Matrix.  "
   ]
  },
  {
   "cell_type": "code",
   "execution_count": 48,
   "metadata": {},
   "outputs": [
    {
     "name": "stdout",
     "output_type": "stream",
     "text": [
      "(20, 50)\n"
     ]
    }
   ],
   "source": [
    "# Umformen eines Arrays\n",
    "c = a.reshape(20,50)\n",
    "print(c.shape)"
   ]
  },
  {
   "cell_type": "markdown",
   "metadata": {},
   "source": [
    "- Lass dir nun von diesem Vektor die Werte in Spalte 5 bis 8 der dritten Zeile ausgeben, speichere außerdem die kompletten Spalten 4 und 5 in einem neuen Vektor ab.  "
   ]
  },
  {
   "cell_type": "code",
   "execution_count": 65,
   "metadata": {},
   "outputs": [
    {
     "name": "stdout",
     "output_type": "stream",
     "text": [
      "[0.5649049  0.42533347 0.86277082]\n",
      "[[0.48485979]\n",
      " [0.80326067]\n",
      " [0.31313574]\n",
      " [0.89090019]\n",
      " [0.82343455]\n",
      " [0.36023873]\n",
      " [0.56719752]\n",
      " [0.07927027]\n",
      " [0.61170708]\n",
      " [0.1624545 ]\n",
      " [0.1230773 ]\n",
      " [0.13357249]\n",
      " [0.61076329]\n",
      " [0.91036407]\n",
      " [0.15367426]\n",
      " [0.25064625]\n",
      " [0.34323295]\n",
      " [0.93028659]\n",
      " [0.20693875]\n",
      " [0.55381931]]\n"
     ]
    }
   ],
   "source": [
    "# Indizierung von Zeilen und Spalten \n",
    "print(c[3,5:8])\n",
    "\n",
    "d = c[:,4:5]\n",
    "print(d)"
   ]
  },
  {
   "cell_type": "markdown",
   "metadata": {},
   "source": [
    "### Aufgabe 4\n",
    "#### Erweiterte Funktionalität von NumPy\n",
    "\n",
    "- Erstelle einen Vektor mit 1000 zufälligen ganzen Zahlen zwischen 0 und 100. "
   ]
  },
  {
   "cell_type": "code",
   "execution_count": 66,
   "metadata": {},
   "outputs": [
    {
     "name": "stdout",
     "output_type": "stream",
     "text": [
      "[28 15  4 53 48 89 49 27 23 70 84 27 33 96 26 96 72  8 92 36 39 18 95 95\n",
      " 34 74 54 38 78 45 96 85 15 21 37 61 92 79 48 98 90 77 63 41 55 49 95 99\n",
      " 41 63 67 19 13 50 93 36 47  2 99 47 23 85 34 95 77  8 43 92 59 10 25 14\n",
      " 67  6 49 73 69 76 35 59 86  1  1 46 96 84 95 10 70 58 61 41 85 37 66 59\n",
      " 24 13 42 95 61 50 31 98 90 16 84  6 57 11 13 13 46  5 58 80 18 43 48 27\n",
      " 12 51 13 14 97 25 11 52 83 62 68 89 21 71 34  5 82 19 98 61 82 84 69 52\n",
      " 55 70 56 78 88 61 22 62 84 25 15 90 54 72 53  3 55 66 74 40 45 90 90 54\n",
      " 44 40 59 83 74 30 88 99 51 35 74 86 90 32  0 17 66  8 35 60 65 52 41 41\n",
      " 27 85 40 12 89 44 88 30 31 95 82 42 17 74 67 74 51 56 93 49 71 43 57 19\n",
      " 67 89 39 68 98 51 69 21 47 62 96 47 17 77 23 87 69 53 37  2 27 48 66 44\n",
      " 12 79 11 70 23 56  7 16 19 14 48 11 17 88 98 95 54 53 15 42 73 99 19 77\n",
      " 29  0 56 41 97 53 30 75 64 29 68 38 16 30 73 79 52 36 31 46 52 58 40 94\n",
      " 52 61  5 42 42 29 48 74 78 64 35 49 39  2 10 15 75 53 77 60 29 76 18 76\n",
      " 27 59 24 90 28 59  1  0 65 64 90 97 64 52 76 41 83 20  1 75 77 78 34 76\n",
      " 39 32 12  4 69  2 51 60 31 88 56 28 60 47  7 97 56 95 30 35 55 23  3 30\n",
      " 32 17 80 89 46 22 75 50 78 79 78 95 20 92 40 82 18 52 54 57 27 31 69 14\n",
      " 89 52 74 70 35 12 93 80 17 85 70 21 18 80 97  6 88 67 21  6 80 43 24 10\n",
      " 37 54 15 42 99 88 57 16 49 77 89 97  7 11 47 33 98 60 12 62 49 93 91 93\n",
      " 15 59 29 17 59 24 96 58 70  3 39 99 25 97  2  7 70 73 86 17 93  7 22 88\n",
      " 94 82 76 78 62 22 52 46 16 74  9 70 99 72 51 61 35 72 77 28 73 48 68 96\n",
      " 49 80  6 29 28 83 36 40 89 90 98 39 97 91 76 78 42 33  4 16 85 78  1 64\n",
      " 65 19 76  2 51 33 52 45 19 35 22 28 30 83 60 30 25 64 77 90 75 87 44 24\n",
      " 89 10 37 43 54 22 54 70 39 13  6 86 42 85 94 44 50 72 16  1 24 88 83 57\n",
      " 56 73  7 75 84  1 16 12  7 78 56  0 66 57 65 31 70 51 36 93 78 46 43 79\n",
      " 32 50 14 28 90 91  2 45 60 36  3 12  7 32  4 25 33 35 65 52 19 72 25 13\n",
      "  2 52 58 56 65  8 39 98 12 28  3 83 84 33  6 64 43 76 25 41 22 47 51 39\n",
      " 23 32 41 13 47 98 36 16 60 13 80  0 49 96  8 55 54  0 28  5 97 41 60 38\n",
      " 29  9  3 50 13 91 59 53 36 35 68 89  2 91 18 85 12 68 37 66  7 97 93 73\n",
      " 86 61 50  8 10 93 57 30 35  3 24 72 56 43 12 57 52 73 64 84 72 42 13 88\n",
      " 11 84 84 47 48 22 25 51 56 16 64 42 46 68 85 93 12 22 35 37 53 96 63 58\n",
      " 86  3 28 76 76 45 11 71 47 35  3 80 77 94 97 68 53  7  5 71 70 60 82 94\n",
      " 32 23 67 34  4 24 65 28 93 43 41 47  3 86  3 42 21 14 25 97 87 58 37 35\n",
      " 67 35 83 18  2 79 50 34 12 26 54 83 55 12 19 89  5 53  7 39 71  6 33 73\n",
      " 33 42 64 33 49 28 31 66 37 90 85 68 75  1 91 70 69 86 91 48 83 50 61 93\n",
      " 65 34 37 54 98  0 94 36 53 55 69 53 41  6  4  5 43 49 88 75 89 69 65 89\n",
      " 19 78 59 85 34 14 67 81 64 72 50 43 68 23 86 12 61 56 68 67 56 49 39 16\n",
      " 20 86 16  3 72 39 75 14 33 19 29 24 69 96 43 65 32 91 83 17  1 49 33 68\n",
      " 38  2 94 84 21 96 76 32 96  1 83 66 34 80 27 75 45 71 20 83 28 98  1 81\n",
      " 25 25 60 56 90 22 92 23 28 76 81 52 87 26  3 71 76 75 47 74 45 67  1 21\n",
      "  1 47 30  0 46 97 98 41 52 30 90 65 39 61 91 30 33 79 20 81 67 14 42 61\n",
      " 26 75 39 62  9  0 53 73 89  7 65 43 30 60 16 97 80 36 32 98  5 27 83 73\n",
      " 42 68 27 83 73 55 19 53 72  1 63 61 45 30 36 10]\n"
     ]
    }
   ],
   "source": [
    "# Vektor mit 1000 zufälligen ganzen Zahlen \n",
    "a = np.random.randint(0, 100, 1000)\n",
    "print(a)"
   ]
  },
  {
   "cell_type": "markdown",
   "metadata": {},
   "source": [
    "- Speichere die 5 größten Werte aus dem Vektor von eben in einem neuen Array. \n",
    "\n",
    "Hinweis: Nutze dafür die *sort()* Funktion und die passende Indizierung.  "
   ]
  },
  {
   "cell_type": "code",
   "execution_count": 75,
   "metadata": {},
   "outputs": [
    {
     "name": "stdout",
     "output_type": "stream",
     "text": [
      "[99 99 99 99 99]\n"
     ]
    }
   ],
   "source": [
    "# 5 kleinste Werte\n",
    "b = np.sort(a)\n",
    "c = b[-5:]\n",
    "print(c)"
   ]
  },
  {
   "cell_type": "markdown",
   "metadata": {},
   "source": [
    "## ENDE"
   ]
  }
 ],
 "metadata": {
  "kernelspec": {
   "display_name": "Python 3.8.8 ('base')",
   "language": "python",
   "name": "python3"
  },
  "language_info": {
   "codemirror_mode": {
    "name": "ipython",
    "version": 3
   },
   "file_extension": ".py",
   "mimetype": "text/x-python",
   "name": "python",
   "nbconvert_exporter": "python",
   "pygments_lexer": "ipython3",
   "version": "3.8.8"
  },
  "vscode": {
   "interpreter": {
    "hash": "e4cce46d6be9934fbd27f9ca0432556941ea5bdf741d4f4d64c6cd7f8dfa8fba"
   }
  }
 },
 "nbformat": 4,
 "nbformat_minor": 4
}
