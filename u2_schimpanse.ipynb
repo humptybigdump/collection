{
 "cells": [
  {
   "cell_type": "markdown",
   "metadata": {
    "slideshow": {
     "slide_type": "slide"
    }
   },
   "source": [
    "# WT-Übung 2 - Aufgabe 7b\n",
    "\n",
    "Ein Schimpanse hat zwei Urnen vor sich: Urne 1 enthält drei weiße und zwei\n",
    "schwarze, Urne 2 eine weiße, zwei grüne und zwei rote Kugeln. Über das\n",
    "Verhalten des Schimpansen ist bekannt, dass er mit der Wahrscheinlichkeit 0,7\n",
    "in die erste und mit der Wahrscheinlichkeit 0,3 in die zweite Urne greift.\n",
    "\n",
    "Der Schimpanse darf nun solange Kugeln (ohne Zurucklegen) ziehen bis er eine\n",
    "rote Kugel wählt. Wie groß ist die Wahrscheinlichkeit, dass er maximal drei\n",
    "Kugeln zieht?"
   ]
  },
  {
   "cell_type": "markdown",
   "metadata": {
    "slideshow": {
     "slide_type": "slide"
    }
   },
   "source": [
    "## Parameter"
   ]
  },
  {
   "cell_type": "code",
   "execution_count": 1,
   "metadata": {
    "slideshow": {
     "slide_type": "-"
    }
   },
   "outputs": [],
   "source": [
    "%matplotlib inline\n",
    "import matplotlib.pyplot as plt\n",
    "from random import random, choice\n",
    "\n",
    "# Kugeln (Werte erstmal unwichtig)\n",
    "black, red, green, white = 0, 1, 2, 7\n",
    "\n",
    "# Urnen\n",
    "kugeln_urne1 = [white, white, white, black, black]\n",
    "kugeln_urne2 = [white, green, green,   red,   red]\n",
    "\n",
    "# Wkeiten\n",
    "p_urne1 = 0.7\n",
    "p_urne2 = 0.3  # 1 - p_urne1\n",
    "\n",
    "def color(s, c): return '\\033[1;3{}m{}\\033[0m'.format(c, s)"
   ]
  },
  {
   "cell_type": "markdown",
   "metadata": {
    "slideshow": {
     "slide_type": "slide"
    }
   },
   "source": [
    "## Simulation\n",
    "\n",
    "Es werden $N$ zufällige Spiele durchgeführt und ausgewertet. Dabei werden die absoluten Häufigkeiten der (Indikator-)Ereignisse\n",
    "\n",
    "$$\n",
    "    Z_k = \\{\\text{Spiel endet nach genau $k$ Zügen}\\},\\quad k \\leq 10\n",
    "$$\n",
    "\n",
    "bestimmt."
   ]
  },
  {
   "cell_type": "code",
   "execution_count": 2,
   "metadata": {
    "slideshow": {
     "slide_type": "-"
    }
   },
   "outputs": [],
   "source": [
    "N = 100000       # Anzahl der Spiele\n",
    "spiele = []      # Spielverläufe\n",
    "h_N = [0] * 11   # absolute Häufigkeiten der Ereignisse Z_k\n",
    "\n",
    "for _ in range(N):\n",
    "    urne1, urne2 = list(kugeln_urne1), list(kugeln_urne2)  # copy\n",
    "    spiel, kugel = [], None  \n",
    "    \n",
    "    while kugel != red:\n",
    "        # Urne auswählen (Urne 1 kann leer sein, dann Urne2)\n",
    "        urne = urne1 if random() < p_urne1 and urne1 else urne2\n",
    "        # zufällige Kugel aus der ausgewählten Urne nehmen und merken\n",
    "        kugel = choice(urne)\n",
    "        del urne[urne.index(kugel)]        \n",
    "        spiel.append(color('●' + '₁₂'[urne == urne2], kugel))\n",
    "        \n",
    "    h_N[len(spiel)] += 1\n",
    "    spiele.append(spiel)"
   ]
  },
  {
   "cell_type": "markdown",
   "metadata": {
    "slideshow": {
     "slide_type": "slide"
    }
   },
   "source": [
    "### Spielverläufe"
   ]
  },
  {
   "cell_type": "code",
   "execution_count": 3,
   "metadata": {
    "slideshow": {
     "slide_type": "-"
    }
   },
   "outputs": [
    {
     "name": "stdout",
     "output_type": "stream",
     "text": [
      " 1    \u001b[1;30m●₁\u001b[0m \u001b[1;37m●₁\u001b[0m \u001b[1;32m●₂\u001b[0m \u001b[1;37m●₁\u001b[0m \u001b[1;30m●₁\u001b[0m \u001b[1;37m●₁\u001b[0m \u001b[1;32m●₂\u001b[0m \u001b[1;31m●₂\u001b[0m\n",
      " 2    \u001b[1;37m●₁\u001b[0m \u001b[1;32m●₂\u001b[0m \u001b[1;37m●₁\u001b[0m \u001b[1;30m●₁\u001b[0m \u001b[1;37m●₁\u001b[0m \u001b[1;32m●₂\u001b[0m \u001b[1;30m●₁\u001b[0m \u001b[1;31m●₂\u001b[0m\n",
      " 3    \u001b[1;30m●₁\u001b[0m \u001b[1;37m●₂\u001b[0m \u001b[1;31m●₂\u001b[0m\n",
      " 4    \u001b[1;37m●₁\u001b[0m \u001b[1;37m●₁\u001b[0m \u001b[1;30m●₁\u001b[0m \u001b[1;37m●₁\u001b[0m \u001b[1;30m●₁\u001b[0m \u001b[1;37m●₂\u001b[0m \u001b[1;32m●₂\u001b[0m \u001b[1;32m●₂\u001b[0m \u001b[1;31m●₂\u001b[0m\n",
      " 5    \u001b[1;37m●₁\u001b[0m \u001b[1;30m●₁\u001b[0m \u001b[1;30m●₁\u001b[0m \u001b[1;37m●₁\u001b[0m \u001b[1;37m●₁\u001b[0m \u001b[1;31m●₂\u001b[0m\n",
      " 6    \u001b[1;37m●₂\u001b[0m \u001b[1;30m●₁\u001b[0m \u001b[1;37m●₁\u001b[0m \u001b[1;37m●₁\u001b[0m \u001b[1;30m●₁\u001b[0m \u001b[1;37m●₁\u001b[0m \u001b[1;31m●₂\u001b[0m\n",
      " 7    \u001b[1;30m●₁\u001b[0m \u001b[1;37m●₁\u001b[0m \u001b[1;32m●₂\u001b[0m \u001b[1;30m●₁\u001b[0m \u001b[1;37m●₁\u001b[0m \u001b[1;37m●₁\u001b[0m \u001b[1;31m●₂\u001b[0m\n",
      " 8    \u001b[1;37m●₁\u001b[0m \u001b[1;37m●₁\u001b[0m \u001b[1;31m●₂\u001b[0m\n",
      " 9    \u001b[1;37m●₁\u001b[0m \u001b[1;37m●₁\u001b[0m \u001b[1;30m●₁\u001b[0m \u001b[1;30m●₁\u001b[0m \u001b[1;37m●₂\u001b[0m \u001b[1;37m●₁\u001b[0m \u001b[1;32m●₂\u001b[0m \u001b[1;32m●₂\u001b[0m \u001b[1;31m●₂\u001b[0m\n",
      "10    \u001b[1;37m●₁\u001b[0m \u001b[1;37m●₂\u001b[0m \u001b[1;32m●₂\u001b[0m \u001b[1;32m●₂\u001b[0m \u001b[1;31m●₂\u001b[0m\n",
      "11    \u001b[1;37m●₁\u001b[0m \u001b[1;30m●₁\u001b[0m \u001b[1;37m●₁\u001b[0m \u001b[1;32m●₂\u001b[0m \u001b[1;31m●₂\u001b[0m\n",
      "12    \u001b[1;37m●₁\u001b[0m \u001b[1;37m●₁\u001b[0m \u001b[1;32m●₂\u001b[0m \u001b[1;37m●₂\u001b[0m \u001b[1;37m●₁\u001b[0m \u001b[1;30m●₁\u001b[0m \u001b[1;31m●₂\u001b[0m\n",
      "13    \u001b[1;37m●₁\u001b[0m \u001b[1;37m●₁\u001b[0m \u001b[1;37m●₁\u001b[0m \u001b[1;30m●₁\u001b[0m \u001b[1;30m●₁\u001b[0m \u001b[1;37m●₂\u001b[0m \u001b[1;31m●₂\u001b[0m\n",
      "14    \u001b[1;31m●₂\u001b[0m\n",
      "15    \u001b[1;37m●₁\u001b[0m \u001b[1;30m●₁\u001b[0m \u001b[1;37m●₁\u001b[0m \u001b[1;30m●₁\u001b[0m \u001b[1;37m●₁\u001b[0m \u001b[1;32m●₂\u001b[0m \u001b[1;32m●₂\u001b[0m \u001b[1;31m●₂\u001b[0m\n",
      "16    \u001b[1;32m●₂\u001b[0m \u001b[1;30m●₁\u001b[0m \u001b[1;37m●₁\u001b[0m \u001b[1;31m●₂\u001b[0m\n",
      "17    \u001b[1;31m●₂\u001b[0m\n",
      "18    \u001b[1;32m●₂\u001b[0m \u001b[1;37m●₁\u001b[0m \u001b[1;37m●₁\u001b[0m \u001b[1;30m●₁\u001b[0m \u001b[1;37m●₁\u001b[0m \u001b[1;31m●₂\u001b[0m\n",
      "19    \u001b[1;31m●₂\u001b[0m\n",
      "20    \u001b[1;32m●₂\u001b[0m \u001b[1;31m●₂\u001b[0m\n"
     ]
    }
   ],
   "source": [
    "for n, spiel in zip(range(20), spiele):\n",
    "    print(\"{:2}    {}\".format(n + 1, ' '.join(spiel)))"
   ]
  },
  {
   "cell_type": "markdown",
   "metadata": {
    "slideshow": {
     "slide_type": "slide"
    }
   },
   "source": [
    "## Ergebnisse\n",
    "\n",
    "Absolute Häufigkeiten der Anzahl gezogener Kugeln pro Spiel bei $N$ Durchläufen"
   ]
  },
  {
   "cell_type": "code",
   "execution_count": 4,
   "metadata": {
    "slideshow": {
     "slide_type": "-"
    }
   },
   "outputs": [
    {
     "data": {
      "image/png": "[encoded data removed]",
      "text/plain": [
       "<matplotlib.figure.Figure at 0x7f4df2306780>"
      ]
     },
     "metadata": {},
     "output_type": "display_data"
    }
   ],
   "source": [
    "plt.stem(h_N)\n",
    "plt.axvspan(0, 3.5, 0, 1, alpha=0.2)\n",
    "plt.xlabel('Anzahl Runden $k$')\n",
    "plt.ylabel('absolute Häufigkeit $h_N(Z_k)$');"
   ]
  },
  {
   "cell_type": "code",
   "execution_count": 5,
   "metadata": {
    "slideshow": {
     "slide_type": "fragment"
    }
   },
   "outputs": [
    {
     "name": "stdout",
     "output_type": "stream",
     "text": [
      "P(Z₁ + Z₂ + Z₃) ≅ 0.334\n"
     ]
    }
   ],
   "source": [
    "print(\"P(Z₁ + Z₂ + Z₃) ≅ {:.4}\".format(sum(h_N[:4]) / N))"
   ]
  }
 ],
 "metadata": {
  "anaconda-cloud": {},
  "celltoolbar": "Slideshow",
  "kernelspec": {
   "display_name": "Python 3 (Spyder)",
   "language": "python3",
   "name": "python3"
  },
  "language_info": {
   "codemirror_mode": {
    "name": "ipython",
    "version": 3
   },
   "file_extension": ".py",
   "mimetype": "text/x-python",
   "name": "python",
   "nbconvert_exporter": "python",
   "pygments_lexer": "ipython3",
   "version": "3.6.6"
  }
 },
 "nbformat": 4,
 "nbformat_minor": 1
}
