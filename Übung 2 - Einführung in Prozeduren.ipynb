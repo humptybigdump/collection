{
 "cells": [
  {
   "cell_type": "markdown",
   "metadata": {},
   "source": [
    "# Einführung in Python - Prozeduren"
   ]
  },
  {
   "cell_type": "markdown",
   "metadata": {},
   "source": [
    "### Beispiel 1: Nullstellenberechnung mit der Mitternachtsformel\n",
    "Das folgende Programm berechnet die Nullstelle einer quadratischen Funktion \\\\(f(x) = ax^2 + bx + c\\\\) (siehe Notebook *Übung 1 - Notebook Mitternachtsformel (Variablen & if-Abfragen)*) und speichert die Nullstellen als Liste mit dem Namen `zeros`. Die Variablen \\\\(a,b\\\\) und \\\\(c\\\\) werden zu Beginn des Programms eingegeben. Dabei gehen wir davon aus, dass \\\\(a\\neq0\\\\) gilt. Im Programm wird auch überprüft, ob die Diskriminante negativ bzw. Null ist."
   ]
  },
  {
   "cell_type": "code",
   "execution_count": 1,
   "metadata": {},
   "outputs": [],
   "source": [
    "import numpy as np"
   ]
  },
  {
   "cell_type": "code",
   "execution_count": 2,
   "metadata": {},
   "outputs": [
    {
     "name": "stdout",
     "output_type": "stream",
     "text": [
      "Nullstellen: [-1.0, -1.3333333333333333]\n"
     ]
    }
   ],
   "source": [
    "a = 3\n",
    "b = 7\n",
    "c = 4\n",
    "diskriminante = b**2 - 4*a*c\n",
    "if diskriminante > 0:\n",
    "    z1 = ( -b + np.sqrt(diskriminante) )/( 2*a )\n",
    "    z2 = ( -b - np.sqrt(diskriminante) )/( 2*a )\n",
    "    zeros = [z1,z2]\n",
    "elif diskriminante == 0:\n",
    "    z1 = ( -b + np.sqrt(diskriminante) )/( 2*a )\n",
    "    zeros = [z1]\n",
    "else:\n",
    "    zeros = []\n",
    "    \n",
    "print('Nullstellen:',zeros)"
   ]
  },
  {
   "cell_type": "markdown",
   "metadata": {},
   "source": [
    "Wenn wir nun die Nullstellen von den drei quadratischen Funktionen \\\\(f_1(x) = 3x^2 + 7x + 4\\\\), \\\\(f_2(x) = -2x^2 + 3x + 1\\\\) und \\\\(f_3(x) = x^3 + 3x + 2\\\\) vergleichen wollen (z.B. wissen wollen, welche der drei Funktionen die größte Nullstelle hat), dann müssen wir den obigen Code drei mal eingeben, die Nullstellen jeweils als Listen `zeros1`, `zeros2` und `zeros3` speichern, und dann vergleichen."
   ]
  },
  {
   "cell_type": "markdown",
   "metadata": {},
   "source": [
    "Das geht auch geschickter! Um solche wiederkehrenden Code-Abschnitte nicht immer komplett ausschreiben zu müssen, kann man sogenannte *Prozeduren* definieren. In einer Prozedur gibt man den entsprechenden Code-Abschnitt einmal ein, vergibt ihm einen *Prozedurname*, und kann dann über diesen Prozedurname den Code-Abschnitt an beliebiger Stelle in seinen Programmen aufrufen. Zusätzlich kann man der Prozedur *Eingabeparameter* (Variablen) übergeben, in Abhängigkeit derer der entsprechende Code-Abschnitt ausgeführt werden soll. Falls man gewisse Ergebnisse, die in dem Code-Abschnitt berechnet wurden, später weiter verwenden will, kann man diese über *Ausgabeparameter* an das Hauptprogramm zurückgeben.\n",
    "\n",
    "Die konkrete **Syntax zur Definition einer Prozedur** sieht folgendermaßen aus:\n",
    "\n",
    "    def PROZEDURNAME(EINGABEPARAMETER):\n",
    "        Anweisungs-Block\n",
    "        return AUSGABEVARIABLEN\n",
    "\n",
    "Falls mehrere Variablen eingegeben/ausgegeben werden sollen: Mit Komma trennen."
   ]
  },
  {
   "cell_type": "markdown",
   "metadata": {},
   "source": [
    "Für das obige Beispiel können wir also eine Prozedur mit den Namen `zeros_quad` definieren, die in Abhängigkeit der drei Eingabeparameter `a`, `b` und `c` die Nullstellen der quadratischen Funktion \\\\(f(x) = ax^2 + bx + c\\\\) berechnet und die Liste der Nullstellen `zeros` als Ausgabevariable zurück gibt."
   ]
  },
  {
   "cell_type": "code",
   "execution_count": 3,
   "metadata": {},
   "outputs": [],
   "source": [
    "import numpy as np\n",
    "\n",
    "def zeros_quad(a,b,c):\n",
    "    diskriminante = b**2 - 4*a*c\n",
    "    if diskriminante > 0:\n",
    "        z1 = ( -b + np.sqrt(diskriminante) )/( 2*a )\n",
    "        z2 = ( -b - np.sqrt(diskriminante) )/( 2*a )\n",
    "        zeros = [z1,z2]\n",
    "    elif diskriminante == 0:\n",
    "        z1 = ( -b + np.sqrt(diskriminante) )/( 2*a )\n",
    "        zeros = [z1]\n",
    "    else:\n",
    "        zeros = []\n",
    "        \n",
    "    return zeros"
   ]
  },
  {
   "cell_type": "code",
   "execution_count": 4,
   "metadata": {},
   "outputs": [
    {
     "name": "stdout",
     "output_type": "stream",
     "text": [
      "[-1.0, -1.3333333333333333]\n"
     ]
    }
   ],
   "source": [
    "print( zeros_quad(3,7,4) )"
   ]
  },
  {
   "cell_type": "code",
   "execution_count": 5,
   "metadata": {},
   "outputs": [
    {
     "name": "stdout",
     "output_type": "stream",
     "text": [
      "Nullstellen der ersten Funktion: [-1.0, -1.3333333333333333]\n",
      "Nullstellen der zweiten Funktion: [-0.28077640640441515, 1.7807764064044151]\n",
      "Nullstellen der dritten Funktion: [-1.0, -2.0]\n"
     ]
    }
   ],
   "source": [
    "zeros1 = zeros_quad(3,7,4)\n",
    "zeros2 = zeros_quad(-2,3,1)\n",
    "zeros3 = zeros_quad(1,3,2)\n",
    "print('Nullstellen der ersten Funktion:',zeros1)\n",
    "print('Nullstellen der zweiten Funktion:',zeros2)\n",
    "print('Nullstellen der dritten Funktion:',zeros3)"
   ]
  },
  {
   "cell_type": "markdown",
   "metadata": {},
   "source": [
    "**Beachte:** Nur die Variablen, die als Ausgabevariablen an das Hauptprogramm zurück gegeben wurden, können weiter verwendet werden. Alle anderen Variablen, die innerhalb der Prozedur definiert wurden (z.B. `diskriminante`, `z1`, ...), existieren nach Ende der Prozedur nicht mehr!"
   ]
  },
  {
   "cell_type": "markdown",
   "metadata": {},
   "source": [
    "### Beispiel 2: Summe der ersten \\\\(n\\\\) Quadratzahlen\n",
    "\n",
    "Schreiben Sie eine Prozedur, die die Summe der ersten `n` Quadratzahlen, also \\\\(1^2 + 2^2 + ... + n^2\\\\) berechnet undzurück gibt."
   ]
  },
  {
   "cell_type": "code",
   "execution_count": 6,
   "metadata": {},
   "outputs": [],
   "source": [
    "def sumquad(n):\n",
    "    s = 0\n",
    "    for k in range(1,n+1):\n",
    "        s = s + k**2\n",
    "    return s"
   ]
  },
  {
   "cell_type": "code",
   "execution_count": 7,
   "metadata": {},
   "outputs": [
    {
     "name": "stdout",
     "output_type": "stream",
     "text": [
      "14\n"
     ]
    }
   ],
   "source": [
    "print( sumquad(3) )"
   ]
  },
  {
   "cell_type": "code",
   "execution_count": 8,
   "metadata": {},
   "outputs": [
    {
     "name": "stdout",
     "output_type": "stream",
     "text": [
      "Geben Sie n ein: 12\n",
      "Die Summe der ersten 12 Quadratzahlen beträgt 650\n"
     ]
    }
   ],
   "source": [
    "n = int( input( 'Geben Sie n ein: ' ) )\n",
    "print( 'Die Summe der ersten', n, 'Quadratzahlen beträgt', sumquad(n) )"
   ]
  },
  {
   "cell_type": "markdown",
   "metadata": {},
   "source": [
    "### Beispiel 3: Fakultät einer Zahl \\\\(n\\\\)"
   ]
  },
  {
   "cell_type": "markdown",
   "metadata": {},
   "source": [
    "Schreiben Sie eine Prozedur, die die Fakultät \\\\(n! = 1 \\cdot 2 \\cdot \\ldots \\cdot (n-1) \\cdot n\\\\) einer natürlichen Zahl \\\\(n\\\\) berechnet und zurückgibt."
   ]
  },
  {
   "cell_type": "code",
   "execution_count": 9,
   "metadata": {},
   "outputs": [],
   "source": [
    "def fak(n):\n",
    "    res = 1\n",
    "    for k in range(2,n+1):\n",
    "        res = res*k\n",
    "    return res"
   ]
  },
  {
   "cell_type": "code",
   "execution_count": 10,
   "metadata": {},
   "outputs": [
    {
     "name": "stdout",
     "output_type": "stream",
     "text": [
      "6 24 120\n"
     ]
    }
   ],
   "source": [
    "print( fak(3), fak(4), fak(5) )"
   ]
  },
  {
   "cell_type": "code",
   "execution_count": 11,
   "metadata": {},
   "outputs": [
    {
     "name": "stdout",
     "output_type": "stream",
     "text": [
      "1\n"
     ]
    }
   ],
   "source": [
    "print( fak(0) )"
   ]
  },
  {
   "cell_type": "code",
   "execution_count": 12,
   "metadata": {},
   "outputs": [
    {
     "name": "stdout",
     "output_type": "stream",
     "text": [
      "1\n"
     ]
    }
   ],
   "source": [
    "print( fak(-2) )"
   ]
  },
  {
   "cell_type": "code",
   "execution_count": 13,
   "metadata": {
    "scrolled": true
   },
   "outputs": [
    {
     "ename": "TypeError",
     "evalue": "'float' object cannot be interpreted as an integer",
     "output_type": "error",
     "traceback": [
      "\u001b[1;31m---------------------------------------------------------------------------\u001b[0m",
      "\u001b[1;31mTypeError\u001b[0m                                 Traceback (most recent call last)",
      "\u001b[1;32m<ipython-input-13-6a5ecc5a2122>\u001b[0m in \u001b[0;36m<module>\u001b[1;34m\u001b[0m\n\u001b[1;32m----> 1\u001b[1;33m \u001b[0mprint\u001b[0m\u001b[1;33m(\u001b[0m \u001b[0mfak\u001b[0m\u001b[1;33m(\u001b[0m\u001b[1;36m3.14\u001b[0m\u001b[1;33m)\u001b[0m \u001b[1;33m)\u001b[0m\u001b[1;33m\u001b[0m\u001b[1;33m\u001b[0m\u001b[0m\n\u001b[0m",
      "\u001b[1;32m<ipython-input-9-9fef52ec9156>\u001b[0m in \u001b[0;36mfak\u001b[1;34m(n)\u001b[0m\n\u001b[0;32m      1\u001b[0m \u001b[1;32mdef\u001b[0m \u001b[0mfak\u001b[0m\u001b[1;33m(\u001b[0m\u001b[0mn\u001b[0m\u001b[1;33m)\u001b[0m\u001b[1;33m:\u001b[0m\u001b[1;33m\u001b[0m\u001b[1;33m\u001b[0m\u001b[0m\n\u001b[0;32m      2\u001b[0m     \u001b[0mres\u001b[0m \u001b[1;33m=\u001b[0m \u001b[1;36m1\u001b[0m\u001b[1;33m\u001b[0m\u001b[1;33m\u001b[0m\u001b[0m\n\u001b[1;32m----> 3\u001b[1;33m     \u001b[1;32mfor\u001b[0m \u001b[0mk\u001b[0m \u001b[1;32min\u001b[0m \u001b[0mrange\u001b[0m\u001b[1;33m(\u001b[0m\u001b[1;36m2\u001b[0m\u001b[1;33m,\u001b[0m\u001b[0mn\u001b[0m\u001b[1;33m+\u001b[0m\u001b[1;36m1\u001b[0m\u001b[1;33m)\u001b[0m\u001b[1;33m:\u001b[0m\u001b[1;33m\u001b[0m\u001b[1;33m\u001b[0m\u001b[0m\n\u001b[0m\u001b[0;32m      4\u001b[0m         \u001b[0mres\u001b[0m \u001b[1;33m=\u001b[0m \u001b[0mres\u001b[0m\u001b[1;33m*\u001b[0m\u001b[0mk\u001b[0m\u001b[1;33m\u001b[0m\u001b[1;33m\u001b[0m\u001b[0m\n\u001b[0;32m      5\u001b[0m     \u001b[1;32mreturn\u001b[0m \u001b[0mres\u001b[0m\u001b[1;33m\u001b[0m\u001b[1;33m\u001b[0m\u001b[0m\n",
      "\u001b[1;31mTypeError\u001b[0m: 'float' object cannot be interpreted as an integer"
     ]
    }
   ],
   "source": [
    "print( fak(3.14) )"
   ]
  },
  {
   "cell_type": "markdown",
   "metadata": {},
   "source": [
    "### Beispiel 4: Mathematische Funktion\n",
    "Schreiben Sie ein Programm, dass den Funktionswert der Funktion \\\\(f\\\\) mit Funktionsvorschrift\n",
    "\n",
    "\\\\[f(x) = x \\cdot e^{cos(3x)} + \\frac{sin(x)}{x^2 + 1} \\\\] \n",
    "\n",
    "berechnet"
   ]
  },
  {
   "cell_type": "code",
   "execution_count": 14,
   "metadata": {},
   "outputs": [],
   "source": [
    "import numpy as np\n",
    "def f(x):\n",
    "    return x*np.exp( np.cos(3*x) ) + np.sin(x)/(x**2 + 1)"
   ]
  },
  {
   "cell_type": "code",
   "execution_count": 15,
   "metadata": {},
   "outputs": [
    {
     "data": {
      "text/plain": [
       "1.1180112652890197"
      ]
     },
     "execution_count": 15,
     "metadata": {},
     "output_type": "execute_result"
    }
   ],
   "source": [
    "f(1.37)"
   ]
  },
  {
   "cell_type": "code",
   "execution_count": 16,
   "metadata": {},
   "outputs": [
    {
     "data": {
      "text/plain": [
       "0.0"
      ]
     },
     "execution_count": 16,
     "metadata": {},
     "output_type": "execute_result"
    }
   ],
   "source": [
    "f(0)"
   ]
  },
  {
   "cell_type": "code",
   "execution_count": 17,
   "metadata": {},
   "outputs": [
    {
     "data": {
      "text/plain": [
       "0.64755754810019"
      ]
     },
     "execution_count": 17,
     "metadata": {},
     "output_type": "execute_result"
    }
   ],
   "source": [
    "x = 0.2\n",
    "f(x)"
   ]
  },
  {
   "cell_type": "code",
   "execution_count": null,
   "metadata": {},
   "outputs": [],
   "source": []
  }
 ],
 "metadata": {
  "kernelspec": {
   "display_name": "Python 3",
   "language": "python",
   "name": "python3"
  },
  "language_info": {
   "codemirror_mode": {
    "name": "ipython",
    "version": 3
   },
   "file_extension": ".py",
   "mimetype": "text/x-python",
   "name": "python",
   "nbconvert_exporter": "python",
   "pygments_lexer": "ipython3",
   "version": "3.8.3"
  }
 },
 "nbformat": 4,
 "nbformat_minor": 1
}
