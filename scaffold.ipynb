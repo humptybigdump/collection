{
 "cells": [
  {
   "cell_type": "code",
   "execution_count": null,
   "metadata": {},
   "outputs": [],
   "source": [
    "#Uncomment the following lines and execute this cell just once.\n",
    "\n",
    "#!git clone https://github.com/PolyChord/PolyChordLite.git\n",
    "#!cd PolyChordLite && sed -i '18s/.*/MPI=0/' Makefile && make all && pip install . --user"
   ]
  },
  {
   "cell_type": "code",
   "execution_count": null,
   "metadata": {},
   "outputs": [],
   "source": [
    "import numpy as np\n",
    "import pypolychord"
   ]
  },
  {
   "cell_type": "code",
   "execution_count": null,
   "metadata": {},
   "outputs": [],
   "source": [
    "# Import data\n",
    "\n",
    "data = ..."
   ]
  },
  {
   "cell_type": "code",
   "execution_count": null,
   "metadata": {},
   "outputs": [],
   "source": [
    "# Globals\n",
    "\n",
    "Gamma_Zboson = 2.5 # GeV\n",
    "Mass_Zboson = 91.2 # GeV"
   ]
  },
  {
   "cell_type": "code",
   "execution_count": null,
   "metadata": {},
   "outputs": [],
   "source": [
    "# Implement your pdf and likelihoods here\n",
    "\n",
    "\n",
    "def pdf(b,M):\n",
    "    ... \n",
    "\n",
    "# Polychord needs the loglikelihood function to take a single input that is either a list or a scalar\n",
    "# Here theta = b\n",
    "def loglike_B(theta):\n",
    "    ...\n",
    "\n",
    "\n",
    "# Here theta = [b,M]\n",
    "def loglike_C(theta):\n",
    "    ...\n",
    "\n",
    "# Polychord needs prior transformation functions to take a single input that is either a list or a scalar\n",
    "# Here hypercube = b \n",
    "def prior_B(hypercube):\n",
    "    return pypolychord.priors.UniformPrior(0,1)(hypercube)\n",
    "\n",
    "\n",
    "# Polychord needs prior functions to take a single input that is either a list or a scalar\n",
    "# Here hypercube = [b,M] \n",
    "M_min = \n",
    "M_max = \n",
    "def prior_C(hypercube):\n",
    "    return [hypercube[0],M_min+(M_max-M_min)*hypercube[1]]"
   ]
  },
  {
   "cell_type": "code",
   "execution_count": null,
   "metadata": {},
   "outputs": [],
   "source": [
    "# Parameter labels and names for both models\n",
    "\n",
    "params_B = [(f'p{1}', f'b')] \n",
    "params_C = [(f'p{1}', f'b'),(f'p{2}', f'M')] "
   ]
  },
  {
   "cell_type": "code",
   "execution_count": null,
   "metadata": {},
   "outputs": [],
   "source": [
    "# Function to set up polychord inputs and run polychord\n",
    "\n",
    "def run_polychord(ndim, logLike_func, prior_trans_func,paramnames,results_dir='res'):    \n",
    "    \n",
    "    output = pypolychord.run(\n",
    "    logLike_func,\n",
    "    ndim,\n",
    "    nDerived=0,\n",
    "    prior=prior_trans_func,\n",
    "    file_root=results_dir,\n",
    "    nlive=200,\n",
    "    do_clustering=False,\n",
    "    read_resume=False,\n",
    "    paramnames=paramnames\n",
    "    )\n",
    "    return output\n",
    "\n",
    "# log Z = output.logZ\n",
    "# logZ_err = output.logZerr"
   ]
  }
 ],
 "metadata": {
  "kernelspec": {
   "display_name": "bs",
   "language": "python",
   "name": "python3"
  },
  "language_info": {
   "name": "python",
   "version": "3.11.10"
  }
 },
 "nbformat": 4,
 "nbformat_minor": 2
}
