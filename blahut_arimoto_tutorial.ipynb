{
  "metadata": {
    "kernelspec": {
      "name": "python",
      "display_name": "Python (Pyodide)",
      "language": "python"
    },
    "language_info": {
      "codemirror_mode": {
        "name": "python",
        "version": 3
      },
      "file_extension": ".py",
      "mimetype": "text/x-python",
      "name": "python",
      "nbconvert_exporter": "python",
      "pygments_lexer": "ipython3",
      "version": "3.8"
    }
  },
  "nbformat_minor": 4,
  "nbformat": 4,
  "cells": [
    {
      "cell_type": "markdown",
      "source": "# Content and Objective\n\n+ Show principle and realization of Blahut-Arimoto algorithm\n+ To this goal, channel transition probabilities are fixed, e.g., by randomly sampling them\n+ Note: Transition matrix is given as $P=P(j|i)=P(Y=j|X=i)_ji$, so column represents input going to rows representing the possible outputs",
      "metadata": {}
    },
    {
      "cell_type": "markdown",
      "source": "# Import",
      "metadata": {}
    },
    {
      "cell_type": "code",
      "source": "# importing\nimport numpy as np\n\nfrom scipy import optimize\n\nimport matplotlib.pyplot as plt\nimport matplotlib\n\nfrom time import time\n\n# showing figures inline\n%matplotlib inline",
      "metadata": {
        "trusted": true
      },
      "outputs": [],
      "execution_count": 3
    },
    {
      "cell_type": "code",
      "source": "# plotting options \nfont = {'size'   : 20}\nplt.rc('font', **font)\nplt.rc('text', usetex=True)\n\nmatplotlib.rc('figure', figsize=(18, 6) )",
      "metadata": {
        "trusted": true
      },
      "outputs": [],
      "execution_count": 4
    },
    {
      "cell_type": "markdown",
      "source": "# Here we go",
      "metadata": {}
    },
    {
      "cell_type": "markdown",
      "source": "## Sample channel matrix",
      "metadata": {}
    },
    {
      "cell_type": "code",
      "source": "# choose channel\n# currently: \n#       BSC\n#       random \nswitch = 'deterministic'  \n\nif switch == 'bsc':\n    X = np.arange( 2 ) \n    Y = np.arange( 2 )     \n    \n    delta = .2\n    P_yx = np.array( [ [ 1-delta, delta], [ delta, 1-delta ] ] )\n\nelif switch == 'bec':\n    X = np.arange( 2 ) \n    Y = np.arange( 3 )\n\n    delta = .2\n    P_yx = np.array( [ [ 1- delta, 0 ], [ delta, delta ], [ 0, 1-delta ] ])\n\nelif switch == 'Z':\n    X = np.arange( 2 ) \n    Y = np.arange( 2 )     \n    \n    delta = .2\n    P_yx = np.array( [ [ 1, delta], [ 0, 1-delta ] ] )\n\n\nelif switch == 'random':\n        # random channel\n    X = np.arange(0, 300)\n    Y = np.arange(0, 50)\n\n\n    P_yx = np.random.rand( Y.size, X.size)\n    for x in X:\n        P_yx[ :, x ] /= np.sum( P_yx[ :, x ] )\n\nelif switch == 'deterministic':\n    X = np.arange(3)\n    Y = np.arange(3)\n    P_yx = np.array( [ [ 0.7, 0.2, 0.1 ], [ 0.2, 0.1, 0.7 ], [ 0.1, 0.7, 0.2 ] ] )\n\n\nprint( P_yx )",
      "metadata": {
        "trusted": true
      },
      "outputs": [
        {
          "name": "stdout",
          "text": "[[0.7 0.2 0.1]\n [0.2 0.1 0.7]\n [0.1 0.7 0.2]]\n",
          "output_type": "stream"
        }
      ],
      "execution_count": 5
    },
    {
      "cell_type": "markdown",
      "source": "## Functions for determining mutual information, depending on P and p_X",
      "metadata": {}
    },
    {
      "cell_type": "code",
      "source": "# getting mutual information resulting from a given input distribution\ndef get_mutual_information( P, p_X ):\n    '''\n    Determining the mutual transinformation of a given channel and a given input distribution\n    \n    IN: P, channel transition matrix; cols are inputs, rows are outputs\n        p_X, input distribution\n        \n    OUT: I, value of mutual transinformation\n    '''\n    \n    # get matrix of \"pointwise entropy\" and determine  -(P pX)^T log2( (P pX) ) + 1^T ( P log2( P ) p_X )\n    Pp_info = get_P_info( P @ p_X )\n    I_1 = -np.sum( Pp_info )  \n\n    P_info = get_P_info( P )\n    I_2 =  np.sum( P_info @ p_X ) \n        \n    I = I_1 + I_2\n    \n    return I\n\n\n# determining information matrix\ndef get_P_info( P ):\n    '''\n    Determining information matrix/vector given by P log2( P ) when P equals input\n    \n    IN: P vector or matrix\n    \n    OUT: P_info: same shape and pointwise p log2( p )\n    \n    ''' \n    \n    # transform to array and get shape\n    P_array = np.array( P )\n    P_shape = np.shape( P )\n    \n    # flatten array and assign info values by list comprehension\n    P_flatten = P_array.flatten()\n     \n    P_info = np.array( [ p * np.log2( p ) if p > 0 else 0.0 for p in P_flatten ] )\n    \n    return P_info.reshape( P_shape )",
      "metadata": {
        "trusted": true
      },
      "outputs": [],
      "execution_count": 6
    },
    {
      "cell_type": "markdown",
      "source": "## Optimization with differential evolution for comparison",
      "metadata": {}
    },
    {
      "cell_type": "code",
      "source": "# define differential_evolution\ndef diff_evo( func, n, p_cross = 0.9, step_size = 0.8, pop_size = 100, n_trials = 100 ):\n    '''\n    performing differential evolution\n    description and standard values due to https://en.wikipedia.org/wiki/Differential_evolution\n    \n    IN: func: function to be minimized, \n        n: problem dimension n, \n        p_cross: cross-over probability, \n        step_size: step size , \n        pop_size: population size,\n        n_trials: number of trials for minimization\n        \n    OUT: min_val: minimum value\n        arg_min: argument of minimum\n    '''\n    \n    agents = np.random.rand( pop_size, n )\n    for _k in range( pop_size ):\n        agents[ _k, : ] /= np.sum( agents[ _k, : ] )\n    \n    for _n in range( n_trials ):\n        \n        for ind_agent in range( pop_size ):\n            \n            # get parent agent\n            x = agents[ ind_agent, : ]\n            \n            # select three other agents by first sampling three indices unequal to ind_agent and getting according values\n            abc_ind = np.random.choice( \n                np.concatenate( (np.arange( 1, ind_agent ), np.arange( ind_agent + 1, pop_size)) ), \n                size = 3, replace = False )\n            \n            a = agents[ abc_ind[ 0 ], : ]\n            b = agents[ abc_ind[ 1 ], : ]\n            c = agents[ abc_ind[ 2 ], : ]\n\n            # select dimension to be retained\n            R = np.random.randint( n )\n            \n            # check whether coefficient should be retained\n            retain = 1 * ( np.random.rand( n ) > p_cross )\n\n            # get new value of y by altering only indices as determined before\n            y = ( 1 - retain ) * ( a + step_size * ( b - c ) ) + retain * x\n            #y = np.array( [ a[_k] + step_size * ( b[_k] - c[_k] ) if retain[_k]==1 else x[_k] for _k in range(n) ] )\n            \n            # avoid negative values and values greater 1\n            if np.any( y<0 ) or np.any( y>1 ):\n                continue\n\n            y[ R ] = x[ R ]\n            y /= np.sum( y )\n            \n            # check y against x\n            if func( y ) <= func( x ):\n                agents[ ind_agent, : ] = y\n    \n    # get minimum value and return min_value and arg min\n    values = np.array( [ func( agents[ i, :] ) for i in range( pop_size ) ] )\n    min_value = np.min( values )\n    min_arg = agents[ np.argmin( values ), : ]\n    \n    return min_value, np.array( min_arg )",
      "metadata": {
        "trusted": true
      },
      "outputs": [],
      "execution_count": 7
    },
    {
      "cell_type": "markdown",
      "source": "## Optimize using scipy optimize",
      "metadata": {}
    },
    {
      "cell_type": "code",
      "source": "# solving optimization problem for getting optimizing input distribution\ndef solve_for_p_X_scipy( P ):\n    '''\n    Determining input distribution maximizing mutual information\n    \n    IN: P, transition matrix of channel\n    \n    OUT: p_X, vector of capacity achieving probabilities\n    '''\n    \n    N = np.shape(P)[1]\n    x_0 = np.random.rand(N)\n    x_0 /= np.sum(x_0)\n    \n    # getting channel capacity resulting from a given input distribution\n    def get_I( p ):    \n        \n        # get matrix of \"pointwise entropy\" and determine  -(P pX)^T log2( (P pX) ) + 1^T ( P log2( P ) p_X )\n        Pp_info = get_P_info( P @ p )\n        I_1 = -np.sum( Pp_info )  \n\n        P_info = get_P_info( P )\n        I_2 =  np.sum( P_info @ p ) \n\n        I = I_1 + I_2\n\n        return -I\n    \n    def sum_x_eq_1(p):\n        return np.sum(p) - 1.0\n    \n    cons = {'type':'eq', 'fun': sum_x_eq_1}\n    bds = optimize.Bounds( 0, 1, keep_feasible=1 )\n    \n    p_X = optimize.minimize( get_I, x_0, constraints=(cons), bounds = bds )\n\n    return p_X",
      "metadata": {
        "trusted": true
      },
      "outputs": [],
      "execution_count": 8
    },
    {
      "cell_type": "markdown",
      "source": "## Helper functions for Blahut-Arimoto",
      "metadata": {}
    },
    {
      "cell_type": "code",
      "source": "# getting Q given P and p_X\ndef get_Q_xy( P, p_X ):\n    '''\n        determines Q as provided by Blahut-Arimoto\n\n        IN: P, p_X\n        OUT: Q\n    '''\n    # init Q as |X| x |Y| matrix\n    Q = np.zeros( np.shape(P)[::-1] )\n\n    for x in X:\n        for y in Y:\n            Q_denom_y = (P @ p_X )[y]\n\n            Q[ x, y ] = p_X[ x ] * P_yx[ y, x ] / Q_denom_y\n\n    return Q\n\n# getting p_X given P and Q\ndef get_p_X( P, Q ):\n\n    # init p_X as |X| vector\n    p_X = np.ones( np.shape( P ) )[1]\n\n    # find denominator\n    denom = 0\n    for x in X:\n        prod = 1\n        for y in Y:\n            prod *= Q[ x, y ]**P[ y, x ]\n        denom += prod\n    \n    # get P(x)\n    for x in X:\n        prod = 1\n        for y in Y:\n            prod *= Q[ x, y ]**P[ y, x ]\n\n        p_X[ x ] = prod / denom\n    \n    return p_X\n\n    \n#Q = get_Q_xy( P_yx, np.ones(X.size)/X.size )\n#p_X = get_p_X( P_yx, Q)\n",
      "metadata": {
        "trusted": true
      },
      "outputs": [],
      "execution_count": 9
    },
    {
      "cell_type": "markdown",
      "source": "## Actual algorithm of Blahut-Arimoto",
      "metadata": {}
    },
    {
      "cell_type": "code",
      "source": "# define Blahut-Arimoto Algorithm\ndef Blahut_Arimoto( P, max_iterations = 1e2 ):\n    '''\n        performs alg. of Blahut-Arimoto\n\n        IN: P_yx\n        OUT: p_X_max, C\n    '''\n    # initial distribution\n    #p_X = np.empty( ( 1, X.size ) )\n    #p_X[ 0, : ] = np.ones( X.size) / X.size\n    # p_X = np.zeros( ( 1, X.size ) )\n    # p_X[ 0, 0 ] = 1\n    p_X = 0.1* np.ones( ( 1, X.size ) )\n    p_X[ 0, 0 ] = 1.0 - (X.size -1)* 0.1\n    \n    i = 0\n\n    # loop for a max. number of times (and stop if p has not changed)\n    while i < max_iterations:\n\n        # get Q\n        Q = get_Q_xy( P, p_X[ i ])\n\n        print(Q)\n\n        # get new p_X\n        p_X_new = get_p_X( P_yx, Q )\n\n        # append probabilities as row to p_X\n        p_X = np.vstack( [ p_X, p_X_new ] )\n        print(p_X[i])\n\n        # increase counter\n        i += 1\n\n    return p_X\n",
      "metadata": {
        "trusted": true
      },
      "outputs": [],
      "execution_count": 34
    },
    {
      "cell_type": "markdown",
      "source": "# Comparison of Blahut-Arimoto to differential evolution",
      "metadata": {}
    },
    {
      "cell_type": "code",
      "source": "# apply Blahut-Arimoto\np_X = Blahut_Arimoto( P_yx, 50 )\n\np_maximizer_BA = p_X[ -1, : ]\nC_BA = get_mutual_information( P_yx, p_maximizer_BA )",
      "metadata": {
        "trusted": true
      },
      "outputs": [
        {
          "name": "stdout",
          "text": "[[0.94915254 0.66666667 0.47058824]\n [0.03389831 0.04166667 0.41176471]\n [0.01694915 0.29166667 0.11764706]]\n[0.8 0.1 0.1]\n[[0.9086146  0.52704465 0.31936732]\n [0.0625748  0.06351923 0.53886045]\n [0.0288106  0.40943613 0.14177223]]\n[0.6835283  0.16475716 0.15171454]\n[[0.86239823 0.41599258 0.22778661]\n [0.09496844 0.0801669  0.61456205]\n [0.04263333 0.50384052 0.15765134]]\n[0.57754222 0.22259902 0.19985876]\n[[0.82006855 0.34037689 0.1767302 ]\n [0.12391619 0.09000695 0.6542666 ]\n [0.05601525 0.56961616 0.1690032 ]]\n[0.49825477 0.26351019 0.23823504]\n[[0.78611691 0.29174132 0.14781689]\n [0.14644766 0.09511112 0.67466074]\n [0.06743543 0.61314757 0.17752237]]\n[0.44395032 0.2894661  0.26658358]\n[[0.76074416 0.26065205 0.13071621]\n [0.16280848 0.09761973 0.68538393]\n [0.07644737 0.64172822 0.18389986]]\n[0.40775149 0.30542318 0.28682533]\n[[0.74245867 0.2405462  0.12017112]\n [0.17431507 0.09883237 0.69123995]\n [0.08322626 0.66062143 0.18858893]]\n[0.38367078 0.31527492 0.3010543 ]\n[[0.729527   0.22734821 0.113452  ]\n [0.18229725 0.09941876 0.69457153]\n [0.08817575 0.67323303 0.19197646]]\n[0.36755738 0.32146369 0.31097894]\n[[0.72047369 0.2185696  0.10906699]\n [0.18780465 0.09970479 0.69654247]\n [0.09172166 0.68172562 0.19439054]]\n[0.35669812 0.32542962 0.31787227]\n[[0.71417128 0.21266969 0.10615621]\n [0.19159782 0.09984627 0.69774974]\n [0.0942309  0.68748404 0.19609404]]\n[0.34933394 0.32801749 0.32264858]\n[[0.70979829 0.20867385 0.10420093]\n [0.19420958 0.09991755 0.69851123]\n [0.09599213 0.69140861 0.19728784]]\n[0.34431545 0.32973136 0.32595318]\n[[0.70677005 0.20595248 0.10287658]\n [0.19600834 0.0999543  0.69900298]\n [0.09722162 0.69409323 0.19812044]]\n[0.34088305 0.33087949 0.32823746]\n[[0.70467561 0.20409175 0.10197442]\n [0.19724764 0.09997377 0.69932639]\n [0.09807675 0.69593447 0.19869919]]\n[0.33852927 0.33165523 0.32981551]\n[[0.70322817 0.20281595 0.10135742]\n [0.19810181 0.09998442 0.69954201]\n [0.09867002 0.69719962 0.19910057]]\n[0.33691214 0.33218261 0.33090525]\n[[0.70222838 0.20193951 0.10093428]\n [0.19869071 0.09999045 0.69968722]\n [0.09908091 0.69807004 0.19937851]]\n[0.33579967 0.33254275 0.33165758]\n[[0.70153802 0.20133659 0.10064354]\n [0.19909681 0.09999398 0.69978572]\n [0.09936516 0.69866943 0.19957074]]\n[0.33503365 0.33278946 0.33217689]\n[[0.70106145 0.20092146 0.10044351]\n [0.19937691 0.09999612 0.69985288]\n [0.09956165 0.69908243 0.19970361]]\n[0.33450586 0.33295884 0.3325353 ]\n[[0.7007325  0.20063543 0.10030577]\n [0.19957012 0.09999745 0.69989883]\n [0.09969738 0.69936712 0.1997954 ]]\n[0.33414205 0.3330753  0.33278265]\n[[0.70050547 0.20043826 0.10021086]\n [0.19970341 0.0999983  0.69993036]\n [0.09979112 0.69956343 0.19985878]]\n[0.33389119 0.33315547 0.33295334]\n[[0.7003488  0.20030232 0.10014544]\n [0.19979536 0.09999886 0.69995203]\n [0.09985584 0.69969883 0.19990253]]\n[0.33371818 0.33321069 0.33307113]\n[[0.70024068 0.20020856 0.10010033]\n [0.19985881 0.09999923 0.69996694]\n [0.09990051 0.69979222 0.19993274]]\n[0.33359884 0.33324875 0.33315241]\n[[0.70016607 0.20014389 0.10006921]\n [0.19990258 0.09999947 0.6999772 ]\n [0.09993135 0.69985664 0.19995358]]\n[0.33351652 0.33327499 0.33320849]\n[[0.70011459 0.20009927 0.10004775]\n [0.19993278 0.09999964 0.69998428]\n [0.09995263 0.69990109 0.19996797]]\n[0.33345972 0.33329308 0.33324719]\n[[0.70007907 0.20006849 0.10003294]\n [0.19995362 0.09999975 0.69998916]\n [0.09996731 0.69993175 0.1999779 ]]\n[0.33342054 0.33330557 0.3332739 ]\n[[0.70005456 0.20004726 0.10002273]\n [0.199968   0.09999983 0.69999252]\n [0.09997744 0.69995291 0.19998475]]\n[0.3333935  0.33331418 0.33329232]\n[[0.70003765 0.20003261 0.10001568]\n [0.19997792 0.09999988 0.69999484]\n [0.09998444 0.69996751 0.19998948]]\n[0.33337485 0.33332012 0.33330504]\n[[0.70002598 0.2000225  0.10001082]\n [0.19998476 0.09999992 0.69999644]\n [0.09998926 0.69997758 0.19999274]]\n[0.33336198 0.33332421 0.33331381]\n[[0.70001792 0.20001552 0.10000747]\n [0.19998949 0.09999994 0.69999754]\n [0.09999259 0.69998453 0.19999499]]\n[0.3333531  0.33332704 0.33331986]\n[[0.70001237 0.20001071 0.10000515]\n [0.19999275 0.09999996 0.69999831]\n [0.09999489 0.69998933 0.19999654]]\n[0.33334697 0.33332899 0.33332404]\n[[0.70000853 0.20000739 0.10000355]\n [0.19999499 0.09999997 0.69999883]\n [0.09999647 0.69999264 0.19999761]]\n[0.33334274 0.33333034 0.33332692]\n[[0.70000589 0.2000051  0.10000245]\n [0.19999655 0.09999998 0.69999919]\n [0.09999757 0.69999492 0.19999835]]\n[0.33333983 0.33333127 0.33332891]\n[[0.70000406 0.20000352 0.10000169]\n [0.19999762 0.09999999 0.69999944]\n [0.09999832 0.69999649 0.19999886]]\n[0.33333781 0.33333191 0.33333028]\n[[0.7000028  0.20000243 0.10000117]\n [0.19999836 0.09999999 0.69999962]\n [0.09999884 0.69999758 0.19999922]]\n[0.33333642 0.33333235 0.33333123]\n[[0.70000193 0.20000168 0.10000081]\n [0.19999887 0.09999999 0.69999973]\n [0.0999992  0.69999833 0.19999946]]\n[0.33333547 0.33333265 0.33333188]\n[[0.70000133 0.20000116 0.10000056]\n [0.19999922 0.1        0.69999982]\n [0.09999945 0.69999885 0.19999963]]\n[0.33333481 0.33333286 0.33333233]\n[[0.70000092 0.2000008  0.10000038]\n [0.19999946 0.1        0.69999987]\n [0.09999962 0.69999921 0.19999974]]\n[0.33333435 0.33333301 0.33333264]\n[[0.70000064 0.20000055 0.10000026]\n [0.19999963 0.1        0.69999991]\n [0.09999974 0.69999945 0.19999982]]\n[0.33333403 0.33333311 0.33333286]\n[[0.70000044 0.20000038 0.10000018]\n [0.19999974 0.1        0.69999994]\n [0.09999982 0.69999962 0.19999988]]\n[0.33333382 0.33333318 0.333333  ]\n[[0.7000003  0.20000026 0.10000013]\n [0.19999982 0.1        0.69999996]\n [0.09999987 0.69999974 0.19999992]]\n[0.33333367 0.33333323 0.33333311]\n[[0.70000021 0.20000018 0.10000009]\n [0.19999988 0.1        0.69999997]\n [0.09999991 0.69999982 0.19999994]]\n[0.33333356 0.33333326 0.33333318]\n[[0.70000014 0.20000012 0.10000006]\n [0.19999992 0.1        0.69999998]\n [0.09999994 0.69999988 0.19999996]]\n[0.33333349 0.33333328 0.33333323]\n[[0.7000001  0.20000009 0.10000004]\n [0.19999994 0.1        0.69999999]\n [0.09999996 0.69999991 0.19999997]]\n[0.33333344 0.3333333  0.33333326]\n[[0.70000007 0.20000006 0.10000003]\n [0.19999996 0.1        0.69999999]\n [0.09999997 0.69999994 0.19999998]]\n[0.33333341 0.33333331 0.33333328]\n[[0.70000005 0.20000004 0.10000002]\n [0.19999997 0.1        0.69999999]\n [0.09999998 0.69999996 0.19999999]]\n[0.33333339 0.33333332 0.3333333 ]\n[[0.70000003 0.20000003 0.10000001]\n [0.19999998 0.1        0.7       ]\n [0.09999999 0.69999997 0.19999999]]\n[0.33333337 0.33333332 0.33333331]\n[[0.70000002 0.20000002 0.10000001]\n [0.19999999 0.1        0.7       ]\n [0.09999999 0.69999998 0.19999999]]\n[0.33333336 0.33333333 0.33333332]\n[[0.70000002 0.20000001 0.10000001]\n [0.19999999 0.1        0.7       ]\n [0.09999999 0.69999999 0.2       ]]\n[0.33333335 0.33333333 0.33333332]\n[[0.70000001 0.20000001 0.1       ]\n [0.19999999 0.1        0.7       ]\n [0.1        0.69999999 0.2       ]]\n[0.33333335 0.33333333 0.33333333]\n[[0.70000001 0.20000001 0.1       ]\n [0.2        0.1        0.7       ]\n [0.1        0.69999999 0.2       ]]\n[0.33333334 0.33333333 0.33333333]\n[[0.70000001 0.2        0.1       ]\n [0.2        0.1        0.7       ]\n [0.1        0.7        0.2       ]]\n[0.33333334 0.33333333 0.33333333]\n",
          "output_type": "stream"
        }
      ],
      "execution_count": 35
    },
    {
      "cell_type": "code",
      "source": "# apply differential evolution\np_cross = 0.9\nstep_size = 0.8\npop_size = 30\nn_trials = 100\n\n# helper function to fix P\ndef func( p ):\n    return - get_mutual_information( P_yx, p )\n    \nn = X.size\n\n[ mv, ma ] = diff_evo( func, n, p_cross, step_size, pop_size, n_trials )\n\np_maximizer_de = ma\nC_de = get_mutual_information( P_yx, p_maximizer_de )\n",
      "metadata": {
        "trusted": true
      },
      "outputs": [],
      "execution_count": 27
    },
    {
      "cell_type": "code",
      "source": "# apply scipy optimization\np_maximizer_sp = solve_for_p_X_scipy( P_yx  ).x.reshape(X.size)\n\nC_sp = get_mutual_information( P_yx, p_maximizer_sp )",
      "metadata": {
        "trusted": true
      },
      "outputs": [],
      "execution_count": 28
    },
    {
      "cell_type": "code",
      "source": "if switch == 'bsc':\n    val = 1 - ( - delta * np.log2( delta ) - ( 1-delta ) * np.log2( 1-delta ) )\n\n    print('Theory:')\n    print('-------------------------')\n    print( f'Capacity is \\t\\tC = { val }') \n    print( f'Capacity achieved by \\tp_X = { np.ones( X.size )/X.size }\\n\\n' )\n\nif switch == 'bec':\n    val = 1 - delta\n\n    print('Theory:')\n    print('-------------------------')\n    print( f'Capacity is \\t\\tC = { val }') \n    print( f'Capacity achieved by \\tp_X = { np.ones( X.size )/X.size }\\n\\n' )\n\n\nprint('Result of Blahut-Arimoto:')\nprint('-------------------------')\nprint( f'Capacity is \\t\\tC = { C_BA }') \n#print( f'Capacity achieved by \\tp_X = { p_maximizer_BA }' )\n\nprint('\\n\\nResult of differential evolution:')\nprint('-------------------------')\nprint( f'Capacity is \\t\\tC = { C_de }') \n#print( f'Capacity achieved by \\tp_X = { p_maximizer_de }' )\n\nprint('\\n\\nResult of scipy optimize:')\nprint('-------------------------')\nprint( f'Capacity is \\t\\tC = { C_sp }') \n#print( f'Capacity achieved by \\tp_X = { p_maximizer_sp }' )\n\np_uni = np.ones_like( p_maximizer_de ) / len( p_maximizer_de )\nC_uni = get_mutual_information( P_yx, p_uni )\n\nprint('\\n\\nResult when assuming uniform distribution:')\nprint('-------------------------')\nprint( f'Mutual information is \\t\\tC = { C_uni }') \n#print( f'Mutual information achieved by \\tp_X = { p_uni }' )\n\n",
      "metadata": {
        "trusted": true
      },
      "outputs": [
        {
          "name": "stdout",
          "text": "Result of Blahut-Arimoto:\n-------------------------\nCapacity is \t\tC = 0.4281828512741166\n\n\nResult of differential evolution:\n-------------------------\nCapacity is \t\tC = 0.42818285127411726\n\n\nResult of scipy optimize:\n-------------------------\nCapacity is \t\tC = 0.4281825830138868\n\n\nResult when assuming uniform distribution:\n-------------------------\nMutual information is \t\tC = 0.4281828512741166\n",
          "output_type": "stream"
        }
      ],
      "execution_count": 29
    },
    {
      "cell_type": "code",
      "source": "",
      "metadata": {
        "trusted": true
      },
      "outputs": [],
      "execution_count": null
    },
    {
      "cell_type": "code",
      "source": "",
      "metadata": {
        "trusted": true
      },
      "outputs": [],
      "execution_count": null
    },
    {
      "cell_type": "code",
      "source": "",
      "metadata": {
        "trusted": true
      },
      "outputs": [],
      "execution_count": null
    },
    {
      "cell_type": "code",
      "source": "",
      "metadata": {
        "trusted": true
      },
      "outputs": [],
      "execution_count": null
    }
  ]
}
