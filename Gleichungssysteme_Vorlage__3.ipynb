{
 "cells": [
  {
   "cell_type": "markdown",
   "metadata": {},
   "source": [
    "# Numerische Verifizierung der iterativen Lösung von linearen, algebraischen Gleichungssystemen"
   ]
  },
  {
   "cell_type": "code",
   "execution_count": null,
   "metadata": {},
   "outputs": [],
   "source": [
    "# wie immer, lass uns einige wichtige Module importieren\n",
    "import numpy as np\n",
    "from matplotlib import pyplot as plt\n",
    "import scipy.linalg as lin           "
   ]
  },
  {
   "cell_type": "markdown",
   "metadata": {},
   "source": [
    "---"
   ]
  },
  {
   "cell_type": "markdown",
   "metadata": {},
   "source": [
    "## Aufgabe 10.1"
   ]
  },
  {
   "cell_type": "markdown",
   "metadata": {},
   "source": [
    "In der vorliegenden Übung konzentrieren wir uns auf die zweidimensionale Poisson-Gleichung \n",
    "\n",
    "\\begin{equation}\n",
    "    \\phi_{/xx} + \\phi_{/yy} = f(x,y)  \\, \\qquad \\qquad (1)\n",
    "    \\label{eq:poisson}\n",
    "\\end{equation}\n",
    "\n",
    "so wie sie in der Druckkorrekturgleichung während der Lösung der Navier--Stokes Gleichungen vorkommen kann. Die Gleichung ist definiert im Raum $(x,y) \\in [0,L_x] \\times [0,L_y]$. Der Einfachheit halber benutzen wir die Dirichlet-Randbedingung $\\left. \\phi \\right|_{\\text{Rand}} = 0$ entlang des gesamten Randes im Gegensatz zur Druckkorrekturgleichung, für die die besondere Randbedingung diskutiert in Vorlesung 10 gilt. \n",
    "\n",
    "Nachdem Sie die Gleichung (1) diskretisiert haben und in ein Gleichungsystem der Form $\\mathsf{A}\\mathbf{u} = \\mathbf{b}$ überführt haben, implementieren Sie eine Funktion, welche die Systemmatrix $\\mathsf{A}$ des vorliegenden Gleichungssystem für gegebene Werte von $L_x$, $L_y$ und $N_x$, $N_y$ herstellt. Rufen Sie die Funktion mit $L_x=L_y=1$ und $N_x=N_y=10$. Stellen Sie die Struktur der Matrix $\\mathsf{A}$ dar. Entspricht sie Ihrer Erwartung aus Teilaufgabe b)?"
   ]
  },
  {
   "cell_type": "code",
   "execution_count": null,
   "metadata": {},
   "outputs": [],
   "source": [
    "# Funktion zur Herstellung der Matrix A \n",
    "# für gegebene Größe (Lx,Ly) des Rechengebiets\n",
    "# und Anzahl von Punkten (Nx, Ny) \n",
    "# in den jeweiligen Raumrichtungen\n",
    "\n",
    "        # Gitterweite\n",
    "\n",
    "        # Größe der Matrix A\n",
    "\n",
    "        # Koeffizienten in der Matrix A\n",
    "        \n",
    "        # Wir können jetzt z.B. mit diag-Befehle\n",
    "        # die Matrix A definieren\n",
    "  \n",
    "        \n",
    "        # Wir müssen jetzt die Matrix A\n",
    "        # entsprechend der Randbedingungen ändern\n",
    "\n",
    "    \n",
    "# Let's use the function to generate one instance\n",
    "# of the matrix A with some randomaly-chosen parameters\n"
   ]
  },
  {
   "cell_type": "markdown",
   "metadata": {},
   "source": [
    "Stellen Sie die Struktur der Matrix $\\mathsf{A}$ dar. Entspricht sie Ihrer Erwartung aus Teilaufgabe b)?"
   ]
  },
  {
   "cell_type": "code",
   "execution_count": null,
   "metadata": {},
   "outputs": [],
   "source": [
    "# Wir öffnen eine neue Abbildung\n",
    "\n",
    "# Wir geben der Abbildung einen Titel\n",
    "\n",
    "# Wir stellen die Struktur dar\n",
    "\n",
    "# Wir beschriften die Achsen\n"
   ]
  },
  {
   "cell_type": "markdown",
   "metadata": {},
   "source": [
    "Nun können wir den Spektralradius und die Konvergenzrate für die Jacobi- und Gauß-Seidel-Methoden berechnen. \n",
    "\n",
    "Ein allgemeines iteratives Verfahren ist definiert als \n",
    "\n",
    "$$\\mathsf{N}\\mathbf{u}^{(k)}=\\mathsf{P}\\mathbf{u}^{(k-1)} + \\mathbf{b}$$\n",
    "\n",
    "wobei $\\mathsf{P}=\\mathsf{N}-\\mathsf{A}$, und $\\mathsf{N}$ je nach der betrachteten Methode unterschiedlich gewählt wird. Insbesondere\n",
    "\n",
    "* $\\mathsf{N}=\\mathsf{I}$ für die Jacobi-Methode\n",
    "* $\\mathsf{N}=\\mathsf{L}$, wobei $\\mathsf{L}$ die untere Dreieckmatrix von $\\mathsf{A}$ für die Gauß-Seidel-Methode ist\n",
    "\n",
    "Die Stabilität des Verfahrens wird durch die Eigenwerte der Verstärkungsmatrix $\\mathsf{G=N^{-1}P}$ bestimmt. Insbesondere muss der Spektralradius $\\rho(\\mathsf{G})$ kleiner als eins sein ($\\rho(\\mathsf{G})<1$), damit das Verfahren konvergiert, wobei $\\rho(\\mathsf{G})$ der absolute Wert des größten Eigenwerts von $\\rho(\\mathsf{G})$ ist, d.h. \n",
    "\n",
    "$$ \\rho(\\mathsf{G}) = \\max_i \\left| \\lambda_i(\\mathsf{G})\\right|$$\n",
    "\n",
    "Sobald $\\rho(\\mathsf{G})$ bestimmt ist, ist die Konvergenzrate\n",
    "\n",
    "$$ R = -\\log_{10} [\\rho(\\mathsf{G})]$$ \n",
    "\n",
    "kann ebenfalls leicht bestimmt werden."
   ]
  },
  {
   "cell_type": "code",
   "execution_count": null,
   "metadata": {},
   "outputs": [],
   "source": [
    "# Jacobi Methode: Spektralradius \n",
    "\n",
    "# Wir schreiben den Spektralradius am Bildschirm\n"
   ]
  },
  {
   "cell_type": "code",
   "execution_count": null,
   "metadata": {},
   "outputs": [],
   "source": [
    "# Gauss-Seidel Methode: Spektralradius \n",
    "\n",
    "# Wir schreiben den Spektralradius am Bildschirm\n"
   ]
  },
  {
   "cell_type": "markdown",
   "metadata": {},
   "source": [
    "Berechnen Sie die Konvergenzrate $R = - \\log_{10}(\\rho)$ der Jacobi und Gauss-Seidel Methoden für eine zunehmende Anzahl an Gitterpunkten $N_x = N_y = \\{5,10,15,20,25,30,35,40,50,60,70\\}$. Wie ändert sich die Konvergenzrate als Funktion von $N=N_x=N_y$? "
   ]
  },
  {
   "cell_type": "code",
   "execution_count": null,
   "metadata": {},
   "outputs": [],
   "source": [
    "# Wir definieren den Vektor der N=Nx=Ny-Werte\n",
    "\n",
    "# Wir definieren Listen, um die Spektralradii zu speichern\n",
    "              # für Jacobi\n",
    "              # für Gauss-Seidel\n",
    "# For-Schleife über alle N-Werte\n",
    "\n",
    "    # Jacobi\n",
    "\n",
    "    # Gauss-Seidel \n"
   ]
  },
  {
   "cell_type": "markdown",
   "metadata": {},
   "source": [
    "Stellen Sie die Konvergenzrate als Funktion von $N$ graphisch dar. Wie stehen die Konvergenzrate von Jacobi und Gauss-Seidel im Verhältnis? Entspricht Ihr Ergebnis Ihrem Wissen aus der Vorlesung 13?"
   ]
  },
  {
   "cell_type": "code",
   "execution_count": null,
   "metadata": {},
   "outputs": [],
   "source": [
    "# Wir öffnen eine Abbildung\n",
    "\n",
    "# Wir geben der Abbildung einen Titel\n",
    "\n",
    "# Wir plotten auf logarithmische Skala die Konvergenzrate des Jacobi-Verfarhens\n",
    "\n",
    "# Wir plotten auf logarithmische Skala die Konvergenzrate des Gauss-Seidel-Verfarhens\n",
    "\n",
    "# Zum Vergleichen plotten wir auch das zweifache von der Jacobi-Konvergenzrate (gestrichelt)\n",
    "\n",
    "# Zum Vergleichen plotten wir auch das Gesetz N^-2\n",
    "\n",
    "# Wir beschriften die Achsen\n",
    "\n",
    "# und zeigen eine Legende\n"
   ]
  },
  {
   "cell_type": "markdown",
   "metadata": {},
   "source": [
    "### Aufgabe 10.2\n",
    "\n",
    "Die voll-entwickelte, laminare Strömung in einem Rohr beliebiges aber entlang der Rohachse konstanten Querschnitts ist von der folgenden zweidimensionalen Laplace-Gleichung beschrieben:\n",
    "\n",
    "\\begin{equation}\n",
    "    \\nu(u_{/yy} + u_{/zz}) = \\Pi_x \\, ,   \\qquad \\qquad (1)\n",
    "\\end{equation}\n",
    "\n",
    "wobei $\\Pi_x$ einen räumlich und zeitlich konstanten Druckgradienten ist, während $u$ die Geschwindigkeitskomponente entlang der Rohrachse ($x$-Richtung) und $\\nu$ die kinematische Viskosität ist. Wir betrachten eine Luftströmung ($\\nu=1.5 \\cdot 10^{-5}\\,\\,\\mathrm{m^2/s}$, $\\rho=1 \\,\\,\\mathrm{Kg/m^3}$), welche von einem Druckgradienten von $\\Pi_x = 10^{-2}\\,\\,\\mathrm{Pa/m}$ getrieben wird. \n",
    "\n",
    "Nachdem Sie die Gleichung (1) mit zentralen finiten Differenzen zweiter Ordnung \\'a $N_x=N_y$ Punkten in den jeweiligen Raumrichtungen diskretisiert haben, überführen Sie numerisch die diskretisierte Gleichung in ein lineares, algebraisches Gleichungssystem der Form $\\mathsf{A}\\mathbf{u} = \\mathbf{b}$ für das vorliegende Rohr mit dem ringförmigen, viereckigen Querschnitt (siehe Übungsblatt). Achten Sie darauf, dass die Strömung in dem zentralen Teil des Rohres nicht strömen kann. An allen Wänden herrscht die Haftbedingung. Die Ma\\ss e des Rohes sind $L_x = L_y = 1 \\,\\,\\mathrm{m}$. Stellen Sie die Struktur der Matrix $\\mathsf{A}$ dar."
   ]
  },
  {
   "cell_type": "code",
   "execution_count": null,
   "metadata": {},
   "outputs": [],
   "source": [
    "# EINGABEN\n",
    "# -----------------------------\n",
    "        # Anzahl von Punkten \"n\"\n",
    "        # Anzahl von Punkten \"m\"\n",
    "        # Länge des Gebiets in z-Richtung   [m]\n",
    "        # Länge des Gebiets in y-Richtung   [m]\n",
    "        # Druckgradienten in x-Richtung     [Pa/m]\n",
    "        # kinematische Viskosität           [m^2/s]\n",
    "        # Dichte                            [kg/m^3]\n",
    "\n",
    "# BERECHNETE GRÖßEN\n",
    "# -----------------------------\n",
    "                             # Anzahl von Punkten in z-Richtung\n",
    "                             # Anzahl von Punkten in y-Richtung\n",
    "                             # Vektor der z-Koordinate und z-Gitterweite\n",
    "                             # Vektor der y-Koordinate und y-Gitterweite\n",
    "                             # Gesmte Größe der Systemmatrix\n",
    "                             # Systemmatrix A\n",
    "                             # Vektor der rechten Seite b\n",
    "# Koeffizienten für die Matrix A\n",
    "\n",
    "\n",
    "# Dieses Mal definiere ich die Matrix A \n",
    "# durch eine for-Schleife \n",
    "for iz in range(?):\n",
    "    for iy in range(?):\n",
    "        # Ich berechne die richtige Zeile und Spalte,\n",
    "        # wo die Koeffezienten für die werte phi(i,j)\n",
    "        # phi(i+1,j), phi(i-1,j), phi(i,j-1), phi(i,j+1)\n",
    "        # sich befinden\n",
    "\n",
    "        \n",
    "        # Wenn wir am Rand sind, dann Haftbedingung\n",
    "        if \n",
    "        \n",
    "        # Ansonsten ganz normale Koeffizienten\n",
    "        else:\n",
    "\n",
    "            "
   ]
  },
  {
   "cell_type": "markdown",
   "metadata": {},
   "source": [
    "Stellen Sie die Struktur der Matrix $\\mathsf{A}$ dar."
   ]
  },
  {
   "cell_type": "code",
   "execution_count": null,
   "metadata": {},
   "outputs": [],
   "source": [
    "# Wir öffnen eine neue Abbildung\n",
    "\n",
    "# Wir geben der Abbildung einen Titel\n",
    "\n",
    "# Wir stellen die Struktur dar\n",
    "\n",
    "# Wir beschriften die Achsen\n"
   ]
  },
  {
   "cell_type": "markdown",
   "metadata": {},
   "source": [
    "Lösen Sie das Gleichungssystem mit der Jacobi-Methode bis die $L_2$-Norm des Lösungsinkrements  $|| \\mathbf{u}^{(k+1)} - \\mathbf{u}^{(k)}||$ kleiner als die Toleranz $10^{-4}$ ist. Berechnen Sie auch die ``exakte'' Lösung durch die direkte Lösung des Gleichungssystems mit \\path{numpy.linalg.solve}. Berechnen Sie die $L_2$-Norm des Fehlers $E^{(k)}$ mit der exakten Lösung und drücken Sie diese als Prozent der $L_2$-Norm des exakten Lösungsvektors aus. "
   ]
  },
  {
   "cell_type": "code",
   "execution_count": null,
   "metadata": {},
   "outputs": [],
   "source": [
    "# Wir definieren die Toleranz\n",
    "\n",
    "# Damit wir die while-Schleife \n",
    "# für die Iteration starten können, \n",
    "# initialisieren wir den Fehler zu\n",
    "# einem sehr großen Wert\n",
    "\n",
    "# Wir definieren den Lösungsvektor\n",
    "\n",
    "# Wir berechnen die Matrix P=N-A für Jacobi\n",
    "\n",
    "\n",
    "# while-Schlafe solange der \"Fehler\"\n",
    "# größer als die Toleranz ist\n",
    "\n",
    "    # die neue Lösung ist die alte Lösung\n",
    "\n",
    "    # wir aktualisieren die Lösung\n",
    "\n",
    "    # und berechnen das Inkrement \n",
    "    # zur Übreprüfung der Toleranz\n",
    "\n",
    "    \n",
    "# Wir berechnen die \"exakten\" Lösung \n",
    "\n",
    "# und den prozentuellen Fehler \n"
   ]
  },
  {
   "cell_type": "markdown",
   "metadata": {},
   "source": [
    "Jetzt können wir endlich die Lösung graphisch darstellen!"
   ]
  },
  {
   "cell_type": "code",
   "execution_count": null,
   "metadata": {
    "scrolled": false
   },
   "outputs": [],
   "source": [
    "# Wir öfnnen eine Abbildung\n",
    "\n",
    "# mit der Funktion plt.contourf stellen wir \n",
    "# das Ergebnis dar. Achten Sie darauf, dass\n",
    "# der Lösungsvektor w\n",
    "\n"
   ]
  }
 ],
 "metadata": {
  "kernelspec": {
   "display_name": "Python 3",
   "language": "python",
   "name": "python3"
  },
  "language_info": {
   "codemirror_mode": {
    "name": "ipython",
    "version": 3
   },
   "file_extension": ".py",
   "mimetype": "text/x-python",
   "name": "python",
   "nbconvert_exporter": "python",
   "pygments_lexer": "ipython3",
   "version": "3.8.5"
  }
 },
 "nbformat": 4,
 "nbformat_minor": 4
}
