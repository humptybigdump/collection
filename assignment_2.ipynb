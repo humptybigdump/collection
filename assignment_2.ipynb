{
 "cells": [
  {
   "cell_type": "markdown",
   "metadata": {
    "pycharm": {
     "name": "#%% md\n"
    }
   },
   "source": [
    "# Machine Vision 2024/25 - Assignment 2: Edge Detection and Hough Transform"
   ]
  },
  {
   "cell_type": "code",
   "execution_count": null,
   "metadata": {
    "pycharm": {
     "name": "#%%\n"
    }
   },
   "outputs": [],
   "source": [
    "import numpy as np\n",
    "import skimage.io\n",
    "import copy\n",
    "import matplotlib\n",
    "import matplotlib.pyplot as plt\n",
    "from scipy.signal import convolve2d"
   ]
  },
  {
   "cell_type": "markdown",
   "metadata": {
    "pycharm": {
     "name": "#%% md\n"
    }
   },
   "source": [
    "#### Part 1: Edge Detection using Canny Filter\n",
    "\n",
    "In this exercise, we want to identify which pixels belong to an edge. A common approach is the canny edge detection.\n",
    "Therefore, you will partially implement the canny edge detection."
   ]
  },
  {
   "cell_type": "markdown",
   "metadata": {
    "pycharm": {
     "name": "#%% md\n"
    }
   },
   "source": [
    "##### Preparation\n",
    "\n",
    "First, load and display the test image which is stored in the resource directory `res/postit2g.png`.\n",
    "Note: This is a gray-scale image, therefore, it has only one channel resulting in the shape `[v,u]`."
   ]
  },
  {
   "cell_type": "code",
   "execution_count": null,
   "metadata": {
    "pycharm": {
     "name": "#%%\n"
    }
   },
   "outputs": [],
   "source": [
    "# @student: load and display the image.\n",
    "# Note that plt.imshow(...) expects three channels (R,G,B).\n",
    "# Hence, to correctly display gray-scale images the cmap argument should be set to \"gray\".\n",
    "# (https://matplotlib.org/stable/api/_as_gen/matplotlib.pyplot.imshow.html)\n",
    "gray_img = ...\n",
    "\n",
    "# @student: print the dimension of both u and v axis\n",
    "\n",
    "# ensure image is float type\n",
    "gray_img = gray_img.astype(float)"
   ]
  },
  {
   "cell_type": "markdown",
   "metadata": {
    "pycharm": {
     "name": "#%% md\n"
    }
   },
   "source": [
    "Calculating the image gradient is an essential step in canny edge detection. It can be calculated using the convolution of the image with a special kernel.\n",
    "For example the sobel kernel $K_s = \\begin{bmatrix}-1 & 0 & 1 \\\\ -2 & 0 & 2 \\\\ -1 & 0 & 1\\end{bmatrix}$.\n",
    "\n",
    "##### Calculation\n",
    "\n",
    "Your task is to calculate the gradient in u (`var: d_u`) and v (`var: d_v`) direction by specifying the correct kernel. Additionally, calculate the magnitude (`var: d_mag`) and the angle (`var: d_angle`) of the gradient.\n",
    "\n",
    "For this, you need to implement the convolution operation. While calculating the convolution, the kernel slides over the image. Each multiplication/sum results in one new pixel.\n",
    "However, if we want to maintain the image dimensions, a padding has to be inserted.\n",
    "\n",
    "If we would not include a padding, the image dimensions would change.\n",
    "In the Figure below this behavior is visualized for the calculation of pixel u=0, v=0.\n",
    "\n",
    "<br></br>\n",
    "<img src=\"./res/conv.jpeg\" width=\"500\" height=\"500\">"
   ]
  },
  {
   "cell_type": "code",
   "execution_count": null,
   "metadata": {
    "pycharm": {
     "name": "#%%\n"
    }
   },
   "outputs": [],
   "source": [
    "# @student: implement convolution2d function\n",
    "def convolution2d(*, img, kernel) -> np.ndarray:\n",
    "    assert img.dtype == float, \"Image must be in float\"\n",
    "    assert kernel.dtype == float, \"Kernel must be in float\"\n",
    "    assert kernel.shape[0] == kernel.shape[1], \"Kernel must be a square\"\n",
    "    assert kernel.shape[0] % 2 == 1, \"Kernel size must be uneven\"\n",
    "\n",
    "    # @student: calculate the size of the padding required based on the kernel size:\n",
    "    num_pad_pixels = ...\n",
    "\n",
    "    img_padded = copy.deepcopy(img)\n",
    "    img_padded = np.pad(img_padded, num_pad_pixels)\n",
    "\n",
    "    img_result = np.zeros_like(img)\n",
    "    # @student: range over v dimension\n",
    "    for v in range(...):\n",
    "        # @student: range over u dimension\n",
    "        for u in range(...):\n",
    "            # @student: extract the image patch based an u,v\n",
    "            patch = img_padded[\n",
    "                ...,\n",
    "                ...\n",
    "            ]\n",
    "\n",
    "            # @student: perform convolution between image patch and kernel and store the\n",
    "            img_result[...] = ...\n",
    "    return img_result\n",
    "\n",
    "# @student: define the sobel kernel\n",
    "sobel_kernel = np.array([\n",
    "    ...\n",
    "], dtype=float)\n",
    "\n",
    "# This tests if your implementation is correct by comparing it against the implementation of scipy\n",
    "result_own = convolution2d(img=gray_img, kernel=sobel_kernel)\n",
    "result_scipy = convolve2d(gray_img, sobel_kernel, mode=\"same\", fillvalue=0)\n",
    "assert np.allclose(result_own, result_scipy), \"Incorrect implementation of convolution2d()\""
   ]
  },
  {
   "cell_type": "markdown",
   "metadata": {
    "pycharm": {
     "name": "#%% md\n"
    }
   },
   "source": [
    "After you correctly implemented the convolution operation, you can calculate `d_u`, `d_v`, `d_mag`, and `d_angle`."
   ]
  },
  {
   "cell_type": "code",
   "execution_count": null,
   "metadata": {
    "pycharm": {
     "name": "#%%\n"
    }
   },
   "outputs": [],
   "source": [
    "from typing import Tuple\n",
    "\n",
    "def calculate_gradients(*, gray_img: np.ndarray, kernel_u: np.ndarray, kernel_v: np.ndarray) -> Tuple[np.ndarray, np.ndarray, np.ndarray, np.ndarray]:\n",
    "    # @student: calculate d_u\n",
    "    d_u = ...\n",
    "    # @student: calculate d_v\n",
    "    d_v = ...\n",
    "    # @student: calculate d_mag\n",
    "    d_mag = ...\n",
    "    # @student: calculate the angle of the gradient\n",
    "    d_angle = ...\n",
    "\n",
    "    return d_u, d_v, d_mag, d_angle\n",
    "\n",
    "d_u, d_v, d_mag, d_angle = calculate_gradients(gray_img=gray_img, kernel_u=sobel_kernel, kernel_v=sobel_kernel.transpose())\n",
    "_, (ax1, ax2, ax3, ax4) = plt.subplots(1, 4)\n",
    "figure_size = plt.gcf().get_size_inches()\n",
    "plt.gcf().set_size_inches(3 * figure_size)\n",
    "ax1.imshow(d_u, cmap=\"gray\")\n",
    "ax2.imshow(d_v, cmap=\"gray\")\n",
    "ax3.imshow(d_mag, cmap=\"gray\")\n",
    "ax4.imshow(d_angle, cmap=\"hsv\")\n",
    "plt.show()"
   ]
  },
  {
   "cell_type": "markdown",
   "metadata": {
    "pycharm": {
     "name": "#%% md\n"
    }
   },
   "source": [
    "#### Part 2: Hough Transform\n",
    "\n",
    "In this exercise, you will be given an implementation of the hough transform."
   ]
  },
  {
   "cell_type": "code",
   "execution_count": null,
   "metadata": {
    "pycharm": {
     "name": "#%%\n"
    }
   },
   "outputs": [],
   "source": [
    "def hough_transform_tc(*, edge_image: np.ndarray, ps: np.ndarray, e=0.5) -> np.ndarray:\n",
    "    t = ps[0]\n",
    "    cos_t = np.cos(t)\n",
    "    sin_t = np.sin(t)\n",
    "    c = ps[1]\n",
    "\n",
    "    acc = np.zeros_like(t)\n",
    "\n",
    "    edge_pixel_idx = np.where(edge_image > 0)\n",
    "    for idx in range(len(edge_pixel_idx[0])):\n",
    "        x = edge_pixel_idx[1][idx]\n",
    "        y = edge_pixel_idx[0][idx]\n",
    "\n",
    "        res = x * cos_t + y * sin_t + c\n",
    "        lines_on_point_idx = np.where(np.logical_and(res > -e, res < e))\n",
    "        acc[lines_on_point_idx] += 1\n",
    "\n",
    "    return acc"
   ]
  },
  {
   "cell_type": "markdown",
   "metadata": {
    "pycharm": {
     "name": "#%% md\n"
    }
   },
   "source": [
    "The image below shows a triangle that consists of three edges in total.\n",
    "For simplicity, the image is already preprocessed and solely contains edge pixels."
   ]
  },
  {
   "cell_type": "code",
   "execution_count": null,
   "metadata": {
    "pycharm": {
     "name": "#%%\n"
    }
   },
   "outputs": [],
   "source": [
    "gray_img = skimage.io.imread(\"res/triangle.png\")\n",
    "plt.imshow(gray_img, cmap=\"gray\")"
   ]
  },
  {
   "cell_type": "markdown",
   "metadata": {
    "pycharm": {
     "name": "#%% md\n"
    }
   },
   "source": [
    "The `hough_transform_tc` function implements the hough transform and expects two inputs:\n",
    "\n",
    "- An image containing only edge pixels\n",
    "- A parameter space containing all possible combinations of theta and c\n",
    "\n",
    "The result of the function is an accumulator array which contains how many edge pixels each combination intersects with."
   ]
  },
  {
   "cell_type": "code",
   "execution_count": null,
   "metadata": {
    "pycharm": {
     "name": "#%%\n"
    }
   },
   "outputs": [],
   "source": [
    "def span_tc_parameter_space(*, c_max: float, shape=(200,200)) -> np.ndarray:\n",
    "    # @student: span values of theta over the desired range (-90.0 -> 90.0 degree in rad)\n",
    "    theta = ...\n",
    "    # @student: span vales of c over the desired range\n",
    "    c = ...\n",
    "\n",
    "    return np.meshgrid(theta, c)\n",
    "\n",
    "# span parameter space and calculate accumulator\n",
    "t_c = span_tc_parameter_space(c_max=100, shape=(200,200))\n",
    "acc_tc = hough_transform_tc(edge_image=gray_img, ps=t_c)\n",
    "\n",
    "# visualize\n",
    "fig, ax = plt.subplots()\n",
    "ax.imshow(acc_tc, cmap=\"gray\")\n",
    "ax.set_yticks(np.linspace(0, acc_tc.shape[1]-1, 5))\n",
    "ax.set_yticklabels([-100,-50,0,50,100])\n",
    "ax.set_ylabel(\"c\")\n",
    "ax.set_xticks(np.linspace(0, acc_tc.shape[1], 5))\n",
    "ax.set_xticklabels(np.round(np.deg2rad([-90,-45,0,45,90]), 2))\n",
    "ax.set_xlabel(\"t\")\n",
    "plt.show()"
   ]
  },
  {
   "cell_type": "markdown",
   "metadata": {
    "pycharm": {
     "name": "#%% md\n"
    }
   },
   "source": [
    "The accumulator contains how many edge pixels a given line intersects. Therefore, the parameters that intersect the most pixels\n",
    "in a local region are the best parametric representation for an edge. Hence, a local maxima in the accumulator represent the best approximations for the line parameters of edges.\n",
    "\n",
    "Your task is to find these maxima within the accumulator array."
   ]
  },
  {
   "cell_type": "code",
   "execution_count": null,
   "metadata": {
    "pycharm": {
     "name": "#%%\n"
    }
   },
   "outputs": [],
   "source": [
    "def local_peaks(*, acc, min_distance, num_peaks=3):\n",
    "    # @student: implement some algorithm to find local maxima within the accumulator array\n",
    "    #           depending on your implementation you are free to change the functions arguments\n",
    "    ...\n",
    "\n",
    "\n",
    "def convert_acc_to_lines(*, acc, ps, num_peaks=3):\n",
    "    peaks = local_peaks(acc=acc, min_distance=10, num_peaks=num_peaks)\n",
    "\n",
    "    lines = []\n",
    "    # @student: transform peaks into a list of parameter tuples [(t,c), (t,c), ...]\n",
    "    ...\n",
    "\n",
    "    return lines\n",
    "\n",
    "\n",
    "def plot_lines(*, original_img, lines):\n",
    "    fig = plt.figure()\n",
    "    plt.imshow(original_img, cmap=\"gray\")\n",
    "    xmin, xmax = fig.gca().get_xbound()\n",
    "\n",
    "    for t,c in lines:\n",
    "        # @student: based on the line parameters and xmin and xmax\n",
    "        #           calculate the ymin and ymax value of the line visualization\n",
    "        ymin = ...\n",
    "        ymax = ...\n",
    "\n",
    "        l = matplotlib.lines.Line2D([xmin, xmax], [ymin, ymax])\n",
    "        plt.gca().add_line(l)\n",
    "\n",
    "    plt.show()\n",
    "    return\n",
    "\n",
    "edges = convert_acc_to_lines(acc=acc_tc, ps=t_c, num_peaks=3)\n",
    "plot_lines(original_img=gray_img, lines=edges)"
   ]
  }
 ],
 "metadata": {
  "kernelspec": {
   "display_name": "machine_vision",
   "language": "python",
   "name": "python3"
  },
  "language_info": {
   "codemirror_mode": {
    "name": "ipython",
    "version": 3
   },
   "file_extension": ".py",
   "mimetype": "text/x-python",
   "name": "python",
   "nbconvert_exporter": "python",
   "pygments_lexer": "ipython3",
   "version": "3.11.9"
  }
 },
 "nbformat": 4,
 "nbformat_minor": 1
}
