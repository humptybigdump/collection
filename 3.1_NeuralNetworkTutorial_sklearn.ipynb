
 "cells": [
  {
   "cell_type": "markdown",
   "metadata": {},
   "source": [
    "# Neuronal Networks Tutorial\n",
    "\n",
    "### The Iris dataset(again)\n",
    "\n",
    "This is a clickthrough to create a neural network for a classification problem. When addresssing supervised learning, we will go with sklearn's MLP (Multi-layer Perceptron) algorithm. \n",
    "\n",
    "In general, we can split our procedure into these steps:\n",
    "1. Formulate the problem\n",
    "2. Describe the data\n",
    "3. Preprocess the data\n",
    "4. Choose and build the model\n",
    "5. Train the model\n",
    "6. Test the model and evaluate its performance"
   ]
  },
  {
   "cell_type": "markdown",
   "metadata": {},
   "source": [
    "### Step 1 - The Problem\n",
    "\n",
    "You already know the famous Iris dataset. The flowers have two sorts of leaves (petal and sepal) and length and width of both was measured leading to 4 features. We want to classify the three flowers setosa, virginica and versicolor (see 2.1_LogisticRegressionTutorial).\n",
    "\n",
    "Here, we want to approach the classification task with a neural network. "
   ]
  },
  {
   "cell_type": "markdown",
   "metadata": {},
   "source": [
    "### Step 2 - The Data\n",
    "\n",
    "Let's import the dataset and inspect it a little bit."
   ]
  },
  {
   "cell_type": "code",
   "execution_count": 69,
   "metadata": {},
   "outputs": [
    {
     "name": "stdout",
     "output_type": "stream",
     "text": [
      "Type: <class 'pandas.core.frame.DataFrame'>\n",
      "\n",
      "Size: (150, 5)\n",
      "\n",
      "Whole data: \n",
      "     sepal_length  sepal_width  petal_length  petal_width    species\n",
      "0             5.1          3.5           1.4          0.2     setosa\n",
      "1             4.9          3.0           1.4          0.2     setosa\n",
      "2             4.7          3.2           1.3          0.2     setosa\n",
      "3             4.6          3.1           1.5          0.2     setosa\n",
      "4             5.0          3.6           1.4          0.2     setosa\n",
      "..            ...          ...           ...          ...        ...\n",
      "145           6.7          3.0           5.2          2.3  virginica\n",
      "146           6.3          2.5           5.0          1.9  virginica\n",
      "147           6.5          3.0           5.2          2.0  virginica\n",
      "148           6.2          3.4           5.4          2.3  virginica\n",
      "149           5.9          3.0           5.1          1.8  virginica\n",
      "\n",
      "[150 rows x 5 columns]\n",
      "\n",
      "Descriptive overview:\n",
      "               count      mean       std  min  25%   50%  75%  max\n",
      "sepal_length  150.0  5.843333  0.828066  4.3  5.1  5.80  6.4  7.9\n",
      "sepal_width   150.0  3.057333  0.435866  2.0  2.8  3.00  3.3  4.4\n",
      "petal_length  150.0  3.758000  1.765298  1.0  1.6  4.35  5.1  6.9\n",
      "petal_width   150.0  1.199333  0.762238  0.1  0.3  1.30  1.8  2.5\n",
      "\n",
      "How the flowers are distributed: \n",
      "setosa        50\n",
      "versicolor    50\n",
      "virginica     50\n",
      "Name: species, dtype: int64\n",
      "\n",
      "--> Data consists of 150 datapoints, 50 for each flower\n"
     ]
    }
   ],
   "source": [
    "import pandas as pd\n",
    "import seaborn as sns\n",
    "iris = sns.load_dataset(\"iris\")\n",
    "print(F\"Type: {type(iris)}\\n\")\n",
    "print(F\"Size: {iris.shape}\\n\")\n",
    "print(F\"Whole data: \\n{iris}\\n\")\n",
    "print(F\"Descriptive overview:\\n {iris.describe().transpose()}\\n\")\n",
    "print(F\"How the flowers are distributed: \\n{iris['species'].value_counts()}\\n\")\n",
    "print(\"--> Data consists of 150 datapoints, 50 for each flower\")\n",
    "# you can play around with the dataframe. Try out print(iris.columns), print(iris[\"species\"]) etc."
   ]
  },
  {
   "cell_type": "markdown",
   "metadata": {},
   "source": [
    "As done in the last Tutorials: Get an overview of the data by plotting.\n"
   ]
  },
  {
   "cell_type": "code",
   "execution_count": null,
   "metadata": {},
   "outputs": [],
   "source": [
    "sns.pairplot(iris, hue=\"species\")"
   ]
  },
  {
   "cell_type": "markdown",
   "metadata": {},
   "source": [
    "### Step 3 - Preprocessing\n",
    "\n",
    "This step is crucial within all machine learning algorithms and you may already be familiar with these 3 steps needed here:\n",
    "\n",
    "3a We must rename the targets\n",
    "\n",
    "3b We must split the data into training and test sets\n",
    "\n",
    "3c We must scale the data"
   ]
  },
  {
   "cell_type": "markdown",
   "metadata": {},
   "source": [
    "3a - Renaming\n",
    "\n",
    "Our neural network will be powerful. But not that powerful that it could be capable of predicting a word like \"setosa\".\n",
    "Thus, we will change the words [setosa, versicolor, virginica] into scalar values 0 1 2. \n",
    "\n",
    "Note that it can be necessary sometimes to use vectors (1,0,0), (0,1,0) and (0,0,1) instead of the scalars 0 1 2 to prevent the output from being ordered (1>0 so \"setosa\" has less value than \"versicolor\" which doesn\"t make sense)."
   ]
  },
  {
   "cell_type": "code",
   "execution_count": 70,
   "metadata": {},
   "outputs": [
    {
     "name": "stdout",
     "output_type": "stream",
     "text": [
      "Before renaming: \n",
      "setosa        50\n",
      "versicolor    50\n",
      "virginica     50\n",
      "Name: species, dtype: int64\n",
      "...renaming...\n",
      "After renaming: \n",
      "0    50\n",
      "1    50\n",
      "2    50\n",
      "Name: species, dtype: int64\n"
     ]
    }
   ],
   "source": [
    "print(F\"Before renaming: \\n{iris['species'].value_counts()}\")\n",
    "print(\"...renaming...\")\n",
    "# renaming: Panda\"s function \"replace\" takes a dictionary as argument\n",
    "iris[\"species\"] = iris[\"species\"].replace({\"setosa\": 0, \"versicolor\": 1, \"virginica\": 2})\n",
    "print(F\"After renaming: \\n{iris['species'].value_counts()}\")"
   ]
  },
  {
   "cell_type": "markdown",
   "metadata": {},
   "source": [
    "3b - Splitting\n",
    "\n",
    "First we define X (features) and Y (targets). Sklearn's function \"train_test_split\" was shown in previous exercises. It shuffles the datapoints and splits it - here into 80% for training and 20% for testing.\n"
   ]
  },
  {
   "cell_type": "code",
   "execution_count": 71,
   "metadata": {},
   "outputs": [
    {
     "name": "stdout",
     "output_type": "stream",
     "text": [
      "Shape of traindata: (120, 4) \n",
      "Shape of testdata: (30, 4)\n"
     ]
    }
   ],
   "source": [
    "X = iris[[\"sepal_length\", \"sepal_width\", \"petal_length\", \"petal_width\"]]\n",
    "y = iris[\"species\"]\n",
    "\n",
    "# Splitting\n",
    "from sklearn.model_selection import train_test_split\n",
    "X_train, X_test, y_train, y_test = train_test_split(X, y, test_size = 0.2)\n",
    "print(F\"Shape of traindata: {X_train.shape} \\nShape of testdata: {X_test.shape}\")"
   ]
  },
  {
   "cell_type": "markdown",
   "metadata": {},
   "source": [
    "3c - Scaling\n",
    "\n",
    "We want to have the dataset's pure information and no bias coming from unities (1m or 100cm or 1000000µm). The MLP is especially sensitive to un-normalised features. So lets get a distribution with mean=0 and standard_deviation=1"
   ]
  },
  {
   "cell_type": "code",
   "execution_count": 72,
   "metadata": {},
   "outputs": [],
   "source": [
    "from sklearn.preprocessing import StandardScaler\n",
    "# create a scaler object\n",
    "sc = StandardScaler()\n",
    "# fit the scaler object to the data distribution of X_train. Then transform X_train into X_train_array\n",
    "X_train_array = sc.fit_transform(X_train.values)\n",
    "# Convert the resulting numpy array back into a dataframe\n",
    "X_train_scaled = pd.DataFrame(X_train_array, index=X_train.index, columns=X_train.columns)\n",
    "\n",
    "# This aspect is crucial: Do not fit the scaler on the testdata. \n",
    "# Use the fitting-parameters obtained from traindata to transform the testdata\n",
    "X_test_array = sc.transform(X_test.values) # the function \"transform\" implies sc-objet being already fitted\n",
    "X_test_scaled = pd.DataFrame(X_test_array, index=X_test.index, columns=X_test.columns)\n"
   ]
  },
  {
   "cell_type": "markdown",
   "metadata": {},
   "source": [
    "Let's visualize the effect of Scaling."
   ]
  },
  {
   "cell_type": "code",
   "execution_count": 73,
   "metadata": {},
   "outputs": [
    {
     "data": {
      "image/png": "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",
      "text/plain": [
       "<Figure size 432x288 with 2 Axes>"
      ]
     },
     "metadata": {
      "needs_background": "light"
     },
     "output_type": "display_data"
    }
   ],
   "source": [
    "import matplotlib.pyplot as plt\n",
    "fig, (ax1, ax2) = plt.subplots(ncols=2) # create the figure with two axes \n",
    "ax1.set_title(\"Before Scaling\")\n",
    "ax1.set_xlabel(\"length in cm\")\n",
    "sns.kdeplot(X_train[\"sepal_length\"], ax=ax1, label=\"sep_len\") # kdeplot plots density distribution\n",
    "sns.kdeplot(X_train[\"sepal_width\"], ax=ax1, label=\"sep_wid\")\n",
    "sns.kdeplot(X_train[\"petal_length\"], ax=ax1, label=\"pet_len\")\n",
    "sns.kdeplot(X_train[\"petal_width\"], ax=ax1, label=\"pet_wid\")\n",
    "ax1.legend(loc=\"upper right\")\n",
    "\n",
    "ax2.set_title(\"After Scaling\")\n",
    "ax2.set_xlabel(\"scaled length\")\n",
    "sns.kdeplot(X_train_scaled[\"sepal_length\"], ax=ax2, label=\"sep_len\")\n",
    "sns.kdeplot(X_train_scaled[\"sepal_width\"], ax=ax2, label=\"sep_wid\")\n",
    "sns.kdeplot(X_train_scaled[\"petal_length\"], ax=ax2, label=\"pet_len\")\n",
    "sns.kdeplot(X_train_scaled[\"petal_width\"], ax=ax2, label=\"pet_wid\")\n",
    "ax2.legend(loc=\"lower right\")\n",
    "plt.show()"
   ]
  },
  {
   "cell_type": "markdown",
   "metadata": {},
   "source": [
    "### Step 4 - The Model\n",
    "\n",
    "We choose the multilayer perceptron model and we want to do a classification.\n",
    "\n",
    "For sure: Input layer = 4 and output layer = 3.\n",
    "\n",
    "Not sure: Neurons in hidden layer. Rule of thumb: Mean of input and output layers. Let's say 4.\n",
    "\n",
    "Amount of hidden layers. Here we have only 150 datapoints, we stick to a simple model with only one hidden layer."
   ]
  },
  {
   "cell_type": "code",
   "execution_count": 74,
   "metadata": {},
   "outputs": [],
   "source": [
    "from sklearn.neural_network import MLPClassifier\n",
    "mlp4 = MLPClassifier(hidden_layer_sizes=4, solver='sgd',learning_rate_init= 0.01, max_iter=500)"
   ]
  },
  {
   "cell_type": "markdown",
   "metadata": {},
   "source": [
    "Here, we created the classifier with 4 hyperparameters. \n",
    "1. Number of neurons in the hidden layer as discussed above.\n",
    "2. Solver = Stochastic Gradient Descent: The gradient of the loss function is built. Then the weights are updated following this gradient to minimize the loss function (gradient). Meaning it follows the loss-curve to reach a minimum (descending). The algorithm will update the weights every n-th (default=200) observations (stochastic).\n",
    "3. learning_rate_init = 0.01: This number controls how strongly the weights shall be updated. A high number will go a large step in the direction of the gradient. This leads to fast learning but may fail to converge whereas a value which is low leads to an accurate but very slow convergence. A value which is too low can lead to the optimizer being trapped in a local minimum.\n",
    "4. max_iter = 500: One epoch is one run using all datapoints. Here the training stops, if either convergence is reached, or the limit of 500 epoches is reached.\n",
    "\n",
    "How does the solver actually optimizes the weights? \n",
    "Our classifyer uses the log-loss function. We will analyze it in more detail after model training.\n"
   ]
  },
  {
   "cell_type": "markdown",
   "metadata": {},
   "source": [
    "### Step 5 - Training\n",
    "\n",
    "This line starts the whole training procedure which can take seconds to days, depending on the task. Here it should converge quick.\n",
    "As the maximum of epoches is large, a warning may pop up saying that after 500 iterations the model still didn't converge. For our tutorial, this is fine."
   ]
  },
  {
   "cell_type": "code",
   "execution_count": 75,
   "metadata": {},
   "outputs": [
    {
     "data": {
      "text/plain": [
       "MLPClassifier(hidden_layer_sizes=4, learning_rate_init=0.01, max_iter=500,\n",
       "              solver='sgd')"
      ]
     },
     "execution_count": 75,
     "metadata": {},
     "output_type": "execute_result"
    }
   ],
   "source": [
    "mlp4.fit(X_train_scaled, y_train)"
   ]
  },
  {
   "cell_type": "markdown",
   "metadata": {},
   "source": [
    "### Step 6 - Testing\n",
    "\n",
    "As the weight and biases were fitted, we can use the mlp to predict other data. \n"
   ]
  },
  {
   "cell_type": "code",
   "execution_count": 76,
   "metadata": {},
   "outputs": [
    {
     "name": "stdout",
     "output_type": "stream",
     "text": [
      "First 3 entries of the testset: \n",
      "[0 1 2]\n",
      "Prediction of first 3 entries: \n",
      "[0 1 2]\n"
     ]
    }
   ],
   "source": [
    "pred_first_three = mlp4.predict(X_test_scaled.iloc[0:3])\n",
    "print(F\"First 3 entries of the testset: \\n{y_test.iloc[0:3].values}\")\n",
    "print(F\"Prediction of first 3 entries: \\n{pred_first_three}\")\n"
   ]
  },
  {
   "cell_type": "markdown",
   "metadata": {},
   "source": [
    "We could predict the whole testset and compare the predictions with the target values. \n",
    "Sklearn's built-in function 'score' saves us from hardcoding. It returns the mean accuracy of all predictions made."
   ]
  },
  {
   "cell_type": "code",
   "execution_count": 77,
   "metadata": {},
   "outputs": [
    {
     "name": "stderr",
     "output_type": "stream",
     "text": [
      "/home/david/programme/anaconda3/envs/ml4chem/lib/python3.9/site-packages/sklearn/neural_network/_multilayer_perceptron.py:692: ConvergenceWarning: Stochastic Optimizer: Maximum iterations (500) reached and the optimization hasn't converged yet.\n",
      "  warnings.warn(\n"
     ]
    },
    {
     "name": "stdout",
     "output_type": "stream",
     "text": [
      "scaled: 0.9333333333333333\n",
      "unscaled: 0.9333333333333333\n"
     ]
    }
   ],
   "source": [
    "# check the difference when we use unscaled values\n",
    "mlp4.fit(X_train, y_train)\n",
    "print(F\"unscaled: {mlp4.score(X_test, y_test)}\")\n",
    "mlp4.fit(X_train_scaled, y_train)\n",
    "print(F\"scaled: {mlp4.score(X_test_scaled, y_test)}\")\n"
   ]
  },
  {
   "cell_type": "markdown",
   "metadata": {},
   "source": [
    "Run the lines above a few times to get an impression on how strongly the results can differ from each other. This is due to the random initialization of weights and biases in the very first step. With scaled values, we should get a descent accuracy around 95%, whereas unscaled values lead to strong fluctuations between 10% and 100%."
   ]
  },
  {
   "cell_type": "markdown",
   "metadata": {},
   "source": [
    "### Inspecting the network\n",
    "\n",
    "In the last section, we want to inspect our neural net. How does the architecture look like? Can we explain it to someone else or even copy it?\n",
    "\n",
    "At first we want to explore the learning performance in more detail. Which loss-function was used and how did it develop during the learning process?\n"
   ]
  },
  {
   "cell_type": "code",
   "execution_count": null,
   "metadata": {},
   "outputs": [],
   "source": [
    "# what is the loss function?\n",
    "print(F\"Loss function of mlp4 classifier: {mlp4.loss}\")"
   ]
  },
  {
   "cell_type": "markdown",
   "metadata": {},
   "source": [
    "The log-loss function was used. For a binary classifyer for one datapoint it is calculated as:\n",
    "$$ logloss = - [ y * ln(p) + (1-y) * ln(1-p) ] $$\n",
    "with y being the true class (zero or one) and the propability p being the computed prediction propability of the model. Note that one term in the formula is always zero (either y=0 or 1-y=0).\n",
    "\n",
    "Let's take the first entry of our test dataset and examine the predicted propaility (=output of the output neurons).\n"
   ]
  },
  {
   "cell_type": "code",
   "execution_count": null,
   "metadata": {},
   "outputs": [],
   "source": [
    "firstentry = X_test_scaled.iloc[0:1]\n",
    "print(F\"First entry: \\n{firstentry}\")\n",
    "firstentry_true = y_test.iloc[0]\n",
    "print(F\"True value: {firstentry_true}\")\n",
    "print(F\"Prediction of the model: {mlp4.predict(firstentry)}\")\n",
    "print(F\"Predicted Propabilities for each of the 3 classes: \\n{mlp4.predict_proba(firstentry)}\")\n"
   ]
  },
  {
   "cell_type": "markdown",
   "metadata": {},
   "source": [
    "Here we have 3 classes. The log-loss value is calculated only for the true class (as above, the other terms are considered as being zero). For many datapoints an average over all N datapoints is built:\n",
    "$$ logloss = 1/N * \\sum_i (logloss_i) $$\n",
    "This means for one datapoint, the loss is zero only if the prediction propability is 1.0 for the correct class. If the predicted propability for the respective class is low, e.g. 0.1, the loss for this datapoint will be -ln(0.1)=2.3\n",
    "\n",
    "So the model tries to minimize the loss function. Let's visualize its progression during learning."
   ]
  },
  {
   "cell_type": "code",
   "execution_count": null,
   "metadata": {},
   "outputs": [],
   "source": [
    "print(F\"Amount of epoches needed for training: {mlp4.n_iter_}\")\n",
    "# Create a plot\n",
    "fig, ax = plt.subplots()\n",
    "ax.plot(range(1, mlp4.n_iter_ + 1), mlp4.loss_curve_)\n",
    "ax.set_xlabel(\"Epoche\")\n",
    "ax.set_ylabel(\"Loss\")\n",
    "plt.show()"
   ]
  },
  {
   "cell_type": "markdown",
   "metadata": {},
   "source": [
    "As like as in previous classification tasks, we will plot the confusion matrix to see the performance of the model."
   ]
  },
  {
   "cell_type": "code",
   "execution_count": null,
   "metadata": {},
   "outputs": [],
   "source": [
    "from sklearn.metrics import plot_confusion_matrix\n",
    "plot_confusion_matrix(mlp4, X_test_scaled, y_test)\n",
    "plt.show()"
   ]
  },
  {
   "cell_type": "markdown",
   "metadata": {},
   "source": [
    "Finally, we may want to send the model to someone else. For this, we need the architecture (number of hidden layers, number of neurons) as well as the biases and coefficients."
   ]
  },
  {
   "cell_type": "code",
   "execution_count": 79,
   "metadata": {},
   "outputs": [
    {
     "name": "stdout",
     "output_type": "stream",
     "text": [
      "Parameters from get_params:\n",
      "{'activation': 'relu', 'alpha': 0.0001, 'batch_size': 'auto', 'beta_1': 0.9, 'beta_2': 0.999, 'early_stopping': False, 'epsilon': 1e-08, 'hidden_layer_sizes': 4, 'learning_rate': 'constant', 'learning_rate_init': 0.01, 'max_fun': 15000, 'max_iter': 500, 'momentum': 0.9, 'n_iter_no_change': 10, 'nesterovs_momentum': True, 'power_t': 0.5, 'random_state': None, 'shuffle': True, 'solver': 'sgd', 'tol': 0.0001, 'validation_fraction': 0.1, 'verbose': False, 'warm_start': False}\n",
      "\n",
      "Weight marix of the output layer containing 3 neurons and getting a 4-dimensional vector from the hidden layer.\n",
      "Therefore, the weight matrix for the output layer has dimension 4x3.\n",
      "[[ 2.05637131  1.35061545 -1.50891095]\n",
      " [-0.876675   -0.44889929  0.87972371]\n",
      " [-0.8596623   0.32498453 -0.65876839]\n",
      " [-1.75847999 -0.16128966  0.92127316]]\n",
      "\n",
      "Biases: The hidden layer has 4 neurons, the output layer has 3 neurons. Biases are scalars here.\n",
      "[array([ 1.18755596,  0.81644942,  0.17484863, -0.92897393]), array([0.67444294, 0.75915067, 0.28926155])]\n",
      "[[ True  True  True  True]\n",
      " [ True  True  True  True]\n",
      " [ True  True  True  True]\n",
      " [ True  True  True  True]]\n"
     ]
    }
   ],
   "source": [
    "# 1. Get parameters that can be defined within model creation\n",
    "print(\"Parameters from get_params:\")\n",
    "print(mlp4.get_params())\n",
    "\n",
    "# 2. Get Biases and Coefficient for each neuron\n",
    "print(\"\\nWeight marix of the output layer containing 3 neurons and getting a 4-dimensional vector from the hidden layer.\")\n",
    "print(\"Therefore, the weight matrix for the output layer has dimension 4x3.\")\n",
    "print(mlp4.coefs_[1]) # coefs_[0] is for the hidden layer, coefs_[1] for the next (here also the last) layer\n",
    "print(\"\\nBiases: The hidden layer has 4 neurons, the output layer has 3 neurons. Biases are scalars here.\")\n",
    "print(mlp4.intercepts_)"
   ]
  },
  {
   "cell_type": "markdown",
   "metadata": {},
   "source": [
    "So we have all informations needed to construct the same model again. We could create another mlp-object and set the parameters manually, or we save and load the whole model to a file. "
   ]
  },
  {
   "cell_type": "code",
   "execution_count": null,
   "metadata": {},
   "outputs": [],
   "source": [
    "# Save the model\n",
    "import pickle\n",
    "# Please comment out the following lines only after setting your filename and making sure that no file with the same name exists.\n",
    "#filename = \"my_neural_net.sav\" # propably sth like /home/USER/Desktop/filename.sav\n",
    "#pickle.dump(mlp4, open(filename, 'wb'))\n",
    "#mlp_loaded = pickle.load(open(filename, 'rb'))\n",
    "#print(\"Is the loaded model the same\")\n",
    "#print(mlp_loaded.coefs_[0]==mlp4.coefs_[0])\n"
   ]
  },
  {
   "cell_type": "markdown",
   "metadata": {},
   "source": [
    "With this, the Tutorial ends. You can play around with different hyperparameters (use 10 instead of 4 neurons and check the accuracy and time required for training, try out another solver, change the learning rate and epoches...)"
   ]
  }
 ],
 "metadata": {
  "interpreter": {
   "hash": "e97c6a5724fcf81fa84ff928e71a4d8bdde17de8a70feb821a2f9bc6aa71be1a"
  },
  "kernelspec": {
   "display_name": "Python 3 (ipykernel)",
   "language": "python",
   "name": "python3"
  },
  "language_info": {
   "codemirror_mode": {
    "name": "ipython",
    "version": 3
   },
   "file_extension": ".py",
   "mimetype": "text/x-python",
   "name": "python",
   "nbconvert_exporter": "python",
   "pygments_lexer": "ipython3",
   "version": "3.9.12"
  }
 },
 "nbformat": 4,
 "nbformat_minor": 2
}
