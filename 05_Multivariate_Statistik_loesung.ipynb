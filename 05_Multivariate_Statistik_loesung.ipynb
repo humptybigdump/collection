{
 "cells": [
  {
   "cell_type": "markdown",
   "metadata": {},
   "source": [
    "# Geodatenanalyse 1\n",
    "\n",
    "## Übung 5: Multivariate Statistik - Lösung"
   ]
  },
  {
   "cell_type": "markdown",
   "metadata": {},
   "source": [
    "In dieser Übung wollen wir uns mit der Analyse und Visualisierung von mehrdimensionalen Daten befassen. Dazu lesen wir zunächst den vollständigen Datensatz (Data_GW_KA.csv) mit den Grundwasserparametern aus Karlsruhe in Python ein. "
   ]
  },
  {
   "cell_type": "code",
   "execution_count": 1,
   "metadata": {},
   "outputs": [],
   "source": [
    "import pandas as pd  # pandas package einladen und mit der Abkürzung 'pd' versehen\n",
    "data = pd.read_csv('Data_GW_KA.csv', sep=';', encoding='cp1252') # "
   ]
  },
  {
   "cell_type": "markdown",
   "metadata": {},
   "source": [
    "### In 5 Schritten zur Hauptkomponentenanalyse\n",
    "\n",
    "#### 1. Standardisierung\n",
    "\n",
    "Da wir in der letzten Übung gesehen haben, dass die Varianzen und Kovarianzen der Parameter in dem Datensatz unterschiedliche Größenordnungen haben, sollten die Werte sämtlicher Parameter vor der weiteren Analyse auf eine Standard-Normalvereilung transformiert werden. \n",
    "\n",
    "Dazu gibt es in dem Python Package `sklearn` die Funktion `sklearn.preprocessing.StandardScaler().fit_transform()`. Ladet diese Funktion zunächst in Euren Code ein. \n",
    "\n",
    "Für die Transformierung erzeugt Ihr als nächsts eine neue Variable (output) mit Hilfe dieser Funktion. Die erste Klammer der Funktion bleit bei der Anwendung hier leer, in die hintere fügt Ihr den Namen des zu transformierenden Datensatzes ein (input). \n",
    "\n",
    "Inspiziert anschließend den standardisierten Datensatz mit Hilfe des Befehls `print()`, und überprüft visuell ob die Daten wie gewünscht vorwiegend zwischen -1 und +1 liegen. "
   ]
  },
  {
   "cell_type": "code",
   "execution_count": 2,
   "metadata": {},
   "outputs": [
    {
     "name": "stdout",
     "output_type": "stream",
     "text": [
      "9.109522253334618e-18\n"
     ]
    }
   ],
   "source": [
    "# [1] \n",
    "\n",
    "# gewünschtes Packages/gewünschte Funktion einladen\n",
    "from sklearn.preprocessing import StandardScaler \n",
    "import numpy as np\n",
    "\n",
    "# output = Funktion(input)\n",
    "data_std = StandardScaler().fit_transform(data)\n",
    "mean = np.mean(data_std)\n",
    "# print (output)\n",
    "print(mean)"
   ]
  },
  {
   "cell_type": "markdown",
   "metadata": {},
   "source": [
    "#### 2. Eigenwerte und Eigenvektoren bestimmen\n",
    "\n",
    "Berechnet für die Bestimmung der Eigenwerte zuerst die Kovarianzmatrix der standardisierten Daten mit Hilfe von `numpy` und der Funktion `numpy.cov(data.T)`. Wichtig ist hier das `.T` hinter dem Datensatz, das die transponierte Matrix von dem Datensats bildet, das vereinfacht die weitere Handhabung der Matrizen. \n",
    "\n",
    "Anschließend könnt Ihr mit der Funktion `numpy.linalg.eig()` die Eigenwerte und Eigenvektoren der Kovarianzmatrix berechnen. Dafür müsst Ihr zwei Outputs definieren, und als Input die zuvor berechnete Kovarianzmatrix nehmen.   "
   ]
  },
  {
   "cell_type": "code",
   "execution_count": 3,
   "metadata": {},
   "outputs": [],
   "source": [
    "# [2] \n",
    "\n",
    "# benötigtes Packages/benötigte Funktion einladen\n",
    "import numpy\n",
    "\n",
    "# Kovarianzmatrix berechnen\n",
    "cov_std = numpy.cov(data_std.T)\n",
    "\n",
    "# Eigenwerte und Eigenvektoren berechnen \n",
    "eig_vals, eig_vecs = numpy.linalg.eig(cov_std)"
   ]
  },
  {
   "cell_type": "markdown",
   "metadata": {},
   "source": [
    "#### 3. Hauptkomponenten bestimmen\n",
    "\n",
    "Das Ziel der Hauptkomponentenanalyse ist es die Dimensionen des Datensatzes zu reduzieren, z.B. auf zwei für eine 2D-Visualisierung. Die Richtung dieser Achsen im Parameterraum entspricht den Eigenvektoren (mit Einheitslänge 1). Damit möglichst viel Information in Form der Varianz in den zwei Dimensionen erhalten bleibt, suchen wir nun jene Eigenvektoren mit den größter Eigenwerten. \n",
    "\n",
    "Definiert dafür einen Parameter vom Typ `list` ohne Inhalt als `name = [[]]*n` (vgl. Termin 1, Block 2), mit `n` als Dimension entsprechend der Anzahl der Eigenwerte. Darin wollen wir in jeder Zeile jeweils die gepaarten Eigenwerte und Eigenvektoren abbilden.  \n",
    "\n",
    "Füllt dafür die Zeilen der Liste über eine `for` Schleife (mit der Länge entsprechend der Anzahl der Eigenwerte) mit den Absolutwerten der jeweiligen Eigenwerten und den Werten der Eigenvektoren. Die Absolutwerte eines Arrays könnt Ihr mit Hilfe von `numpy.abs(array)` berechnen. \n",
    "\n",
    "Achtung: in der Schleife erfolgt die Indizierung bei den Eigenwerten zeilenweise (also mit einem einfachem Index [i]), die Indizierung der Eigenvektoren spaltenweise (also [:,i]), da es sich bei diesem um eine 15x15 Matrix handelt!"
   ]
  },
  {
   "cell_type": "code",
   "execution_count": 4,
   "metadata": {},
   "outputs": [],
   "source": [
    "# [3]\n",
    "# neuen, leeren Parameter erzeugen\n",
    "eig_pairs = [[]]*(len(eig_vals))\n",
    "\n",
    "# for-Schleife definieren \n",
    "# for Schleife füllen: Zeile[i] = [(Absolutwert_Eigenwert, Werte_Eigenvektoren)]\n",
    "for i in range(len(eig_vals)):\n",
    "    eig_pairs[i] = [(numpy.abs(eig_vals[i]), eig_vecs[:,i])]\n"
   ]
  },
  {
   "cell_type": "markdown",
   "metadata": {},
   "source": [
    "Nun müssen wir noch die Zeilen mit den größten Eigenwerten identifizieren. Sortiert dafür die Liste mit den Eigenwerten- und Eigenvektoren-Paaren in absteigender Reihenfolge. \n",
    "\n",
    "Bei Listen könnt ihr den Befehl `Liste.sort()` benutzen um Euch die Werte in aufsteigende Reihenfolgen ausgeben zu lassen. Dabei wird der erste Wert jeder Zeile berücksichtigt (also hier der Eigenwert). \n",
    "\n",
    "Danach könnt Ihr mit `Liste.reverse()` davon die umgekehrte Reihenfolge bilden, sodass der größte Eigenwert oben steht. \n",
    "\n",
    "Überprüft dies mit Hilfe des `print()`-Befehls.  "
   ]
  },
  {
   "cell_type": "code",
   "execution_count": 5,
   "metadata": {},
   "outputs": [
    {
     "name": "stdout",
     "output_type": "stream",
     "text": [
      "[[(2.9836238237533403, array([-0.2148891 , -0.36525401,  0.3106417 , -0.14084981, -0.35038887,\n",
      "        0.04576564,  0.18700741, -0.06595438, -0.10616576,  0.12772047,\n",
      "       -0.48594361, -0.26271961, -0.18711692, -0.32114993,  0.26265975]))], [(2.6993292050779933, array([-0.30597167,  0.0361922 ,  0.0774804 ,  0.16143611,  0.04838644,\n",
      "        0.2683428 ,  0.35908707, -0.40609975, -0.4225409 ,  0.16050311,\n",
      "       -0.09428273,  0.3677747 ,  0.00352115,  0.36541961, -0.15100853]))], [(2.1126783158268627, array([ 0.0474351 , -0.06298973,  0.23767105,  0.3621254 , -0.2095852 ,\n",
      "       -0.01563145,  0.30139367,  0.45432325,  0.42019243, -0.01395556,\n",
      "       -0.27348796,  0.12003095,  0.10106322,  0.23134237, -0.36749044]))], [(1.663837946335111, array([-0.11453328,  0.45640463,  0.34615694,  0.20206703,  0.03688456,\n",
      "       -0.28181817,  0.0743677 , -0.03392131,  0.04073742, -0.06942486,\n",
      "       -0.05722007,  0.30319328,  0.3747602 , -0.26553329,  0.46671755]))], [(1.3999319282841043, array([ 0.20589664,  0.10458973,  0.35031843,  0.21651944,  0.42793628,\n",
      "        0.09105961, -0.25727604,  0.01625671,  0.05390966,  0.64430143,\n",
      "       -0.08513773, -0.05089881, -0.29524018, -0.05940282, -0.02494335]))], [(1.1114481143161585, array([-0.3151731 , -0.1426799 , -0.04005907, -0.38939251,  0.19759662,\n",
      "        0.50900621, -0.18911527,  0.23105957,  0.25518749,  0.1720544 ,\n",
      "       -0.09192964,  0.21819751,  0.42193578, -0.0114181 ,  0.10415127]))], [(0.909997419152657, array([ 0.34070474, -0.29638496,  0.40250703,  0.07041767,  0.14174355,\n",
      "        0.05833214, -0.27182231, -0.2440255 , -0.21802554, -0.29708362,\n",
      "       -0.13632733, -0.16862589,  0.49476447,  0.056597  , -0.2033894 ]))], [(0.71388975272031, array([-0.41650824, -0.23287539,  0.09664161, -0.24870539,  0.2604347 ,\n",
      "       -0.71443758, -0.10026801,  0.0525134 , -0.01856611,  0.12561608,\n",
      "       -0.04253762,  0.00130757,  0.04973056,  0.25998768, -0.14844315]))], [(0.6439881233998791, array([-0.54530896, -0.11990397, -0.03654587,  0.57806822,  0.22410876,\n",
      "        0.16790029, -0.2408093 ,  0.06488592,  0.03666708, -0.32565639,\n",
      "        0.06806461, -0.26281886, -0.13536765, -0.02205362,  0.11060878]))], [(0.43738333441405375, array([ 0.12421966, -0.03522716,  0.21254353, -0.26955603,  0.46072352,\n",
      "        0.07269772,  0.17404993,  0.05911819,  0.08787701, -0.52316204,\n",
      "       -0.17792287,  0.30248008, -0.45388296, -0.03187042,  0.05056444]))], [(0.2690126928961566, array([-0.11285436,  0.24672683,  0.26959342, -0.13036642, -0.47700022,\n",
      "        0.05627676, -0.61870308,  0.02963598, -0.05487345, -0.12875347,\n",
      "       -0.06778827,  0.22854531, -0.2624753 ,  0.27394843, -0.04458579]))], [(0.2410197173618034, array([-0.0894959 ,  0.58326316,  0.04265802, -0.23685271,  0.1400589 ,\n",
      "        0.10717142,  0.14962633,  0.07143261, -0.05107987, -0.077382  ,\n",
      "       -0.27228765, -0.60008017,  0.07872248,  0.29167563, -0.03430733]))], [(0.11742792408349237, array([ 0.09881101,  0.07622561, -0.542843  ,  0.16304635,  0.09285706,\n",
      "       -0.12572494, -0.24389365, -0.01256162, -0.12195872, -0.00806743,\n",
      "       -0.71629534,  0.185437  ,  0.04042202, -0.10877635, -0.05675525]))], [(0.07559529094947608, array([-0.26387094,  0.23899608,  0.08530976, -0.10137257, -0.00630055,\n",
      "        0.0194664 , -0.00958818, -0.12286502,  0.01423147, -0.04151718,\n",
      "        0.05329445,  0.02320505, -0.00077458, -0.61327849, -0.67725651]))], [(0.015573253533873947, array([ 0.02490408, -0.00421306,  0.05040021,  0.00593088,  0.03478329,\n",
      "        0.02673964,  0.02791656,  0.6915737 , -0.69734963,  0.00646019,\n",
      "        0.09930369,  0.0541005 ,  0.02819779, -0.12361564, -0.02461739]))]]\n"
     ]
    }
   ],
   "source": [
    "# [4] \n",
    "\n",
    "# Wertepaare aufsteigend sortieren \n",
    "eig_pairs.sort()\n",
    "\n",
    "# Reihenfolge umkehren\n",
    "eig_pairs.reverse()\n",
    "\n",
    "# sortierte Wertepaare anzeigen lassen\n",
    "print(eig_pairs)"
   ]
  },
  {
   "cell_type": "markdown",
   "metadata": {},
   "source": [
    "Die zwei obersten Zeileneinträge entsprechen den gesuchten Hauptkomponenten entlang der größten Varianzen. Speichert diese in separaten Variablen (ebenfalls vom Typ `list`) ab `name1=name2[index]`. \n",
    "Benutzt den korrekten Index für Zeilen! \n",
    "\n",
    "Lasst Euch die beiden Variablen nochmal zur Kontrolle anzeigen."
   ]
  },
  {
   "cell_type": "code",
   "execution_count": 6,
   "metadata": {},
   "outputs": [
    {
     "name": "stdout",
     "output_type": "stream",
     "text": [
      "[(2.9836238237533403, array([-0.2148891 , -0.36525401,  0.3106417 , -0.14084981, -0.35038887,\n",
      "        0.04576564,  0.18700741, -0.06595438, -0.10616576,  0.12772047,\n",
      "       -0.48594361, -0.26271961, -0.18711692, -0.32114993,  0.26265975]))] [(2.6993292050779933, array([-0.30597167,  0.0361922 ,  0.0774804 ,  0.16143611,  0.04838644,\n",
      "        0.2683428 ,  0.35908707, -0.40609975, -0.4225409 ,  0.16050311,\n",
      "       -0.09428273,  0.3677747 ,  0.00352115,  0.36541961, -0.15100853]))]\n"
     ]
    }
   ],
   "source": [
    "# [5]\n",
    "# Hauptkomponenten 1 und 2 basierend auf Wertepaaren definieren\n",
    "pc1 = eig_pairs[0]\n",
    "pc2 = eig_pairs[1]\n",
    "\n",
    "# Hauptkomponenten anzeigen lassen\n",
    "print(pc1, pc2)"
   ]
  },
  {
   "cell_type": "markdown",
   "metadata": {},
   "source": [
    "#### 4. Projektionsmatrix konstruieren\n",
    "\n",
    "Mit Hilfe der Projektionsmatrix wollen wir nun die ursprünglichen Daten auf die zwei eben identifizierten Achsen der Hauptkomponenten transformieren. Um 15 Parameter auf 2 Dimensionen zu reduzieren brauchen wir also eine (15 x 2) Matrix, deren Spalten den beiden Eigenvektoren mit den größten Eigenwerten entsprechen. \n",
    "\n",
    "Diese Eigenvektoren habt Ihr bereits im letzten Schritt (zusammen mit den Eigenwerten) als `list` gespeichtert. Fügt die beiden obersten Vektoren nun mit Hilfe von `numpy.stack((Vektor1, Vektor2))` und dem zusätzlichen Argument `axis=-1` für eine horiziontale Ausrichtung zu einer Matrix `W` zusammen. \n",
    "\n",
    "Als Erinnerung: Die Indizierung bei Listen funktioniert nach dem Prinzip `\"list[Zeile][Spalte]\"`. Schaut nochmal im letzten Ausgabefenster oben nach, in welcher Zelle der Hauptkomponenten sich die Eigenvektoren befinden.  \n",
    "\n",
    "Lasst Euch anschließend \"W\" anzeigen, um die Dimensionen zu überprüfen."
   ]
  },
  {
   "cell_type": "code",
   "execution_count": 7,
   "metadata": {},
   "outputs": [
    {
     "name": "stdout",
     "output_type": "stream",
     "text": [
      "[[-0.2148891  -0.30597167]\n",
      " [-0.36525401  0.0361922 ]\n",
      " [ 0.3106417   0.0774804 ]\n",
      " [-0.14084981  0.16143611]\n",
      " [-0.35038887  0.04838644]\n",
      " [ 0.04576564  0.2683428 ]\n",
      " [ 0.18700741  0.35908707]\n",
      " [-0.06595438 -0.40609975]\n",
      " [-0.10616576 -0.4225409 ]\n",
      " [ 0.12772047  0.16050311]\n",
      " [-0.48594361 -0.09428273]\n",
      " [-0.26271961  0.3677747 ]\n",
      " [-0.18711692  0.00352115]\n",
      " [-0.32114993  0.36541961]\n",
      " [ 0.26265975 -0.15100853]]\n"
     ]
    }
   ],
   "source": [
    "# [6]\n",
    "# W definieren\n",
    "matrix_W = numpy.stack((pc1[0][1], pc2[0][1]), axis=-1)\n",
    "\n",
    "# W anzeigen lassen \n",
    "print (matrix_W)"
   ]
  },
  {
   "cell_type": "markdown",
   "metadata": {},
   "source": [
    "#### 5. Projektion auf neue Ebenen und Visualisierung\n",
    "\n",
    "Jetzt könnt Ihr über die Gleichung `Y = data x W ` die Transformation Eurer standardisierten Matrix von oben durchführen. Matrixmultiplikation in Python kann mit `matrix1.dot(matrix2)` durchgeführt werden. Die Output-Matrix Y sollte dann 39 x 2 (Datenpunkte x Hauptkomponenten) Dimensionen haben.  "
   ]
  },
  {
   "cell_type": "code",
   "execution_count": 8,
   "metadata": {},
   "outputs": [
    {
     "name": "stdout",
     "output_type": "stream",
     "text": [
      "78\n"
     ]
    }
   ],
   "source": [
    "# [7]\n",
    "# Matrixmultiplikation\n",
    "Y = data_std.dot(matrix_W)\n",
    "\n",
    "# Größe der Matrix anzeigen lassen\n",
    "print(numpy.size(Y))"
   ]
  },
  {
   "cell_type": "markdown",
   "metadata": {},
   "source": [
    "Diese transformierte Matrix können wir nun mit Hilfe des Packages `pandas` (mehr dazu nächste Woche) in den Datentyp \"DataFrame\" umwandeln, das erleicntert das weitere Arbeiten damit. Gleichzeitig können wir in dem DataFrame eine Spalte mit dem Parameter \"Flaechennutzung\" ergänzen. \n",
    "\n",
    "Ergänzt nun in dem Skript unten mit Hilfe von `matplotlib` einen Scatterplot mit den beiden Hauptkomponenten als Achsen, und der Flaechennutzung als Farbe der Punkte. Was lässt sich anhand dieser Abbildung über die Parameterwerte in Bezug auf die Flaechennutzung sagen?  "
   ]
  },
  {
   "cell_type": "code",
   "execution_count": 9,
   "metadata": {},
   "outputs": [
    {
     "data": {
      "image/png": "[encoded data removed]",
      "text/plain": [
       "<Figure size 576x360 with 1 Axes>"
      ]
     },
     "metadata": {
      "needs_background": "light"
     },
     "output_type": "display_data"
    }
   ],
   "source": [
    "# [8]\n",
    "# aus ndarray einen DataFrame erzeugen \n",
    "principalDf = pd.DataFrame(data = Y , columns = ['principal component 1', 'principal component 2'])\n",
    "# eine dritte Spalte mit den Werten der Flächennutzung ergänzen\n",
    "finalDf = pd.concat([principalDf,pd.DataFrame(data,columns = ['Flaechennutzung'])], axis = 1) \n",
    "\n",
    "# hier Abbildung mit matplotlib erzeugen\n",
    "\n",
    "import matplotlib.pyplot as plt\n",
    "fig = plt.figure(1, figsize=(8, 5))\n",
    "ax = fig.add_subplot(1,1,1) \n",
    "ax.scatter(finalDf['principal component 1'], \n",
    "           finalDf['principal component 2'], \n",
    "           c = finalDf['Flaechennutzung']*30)\n",
    "ax.set_xlabel('principal component 1', fontsize = 15) \n",
    "ax.set_ylabel('principal component 2', fontsize = 15)\n",
    "ax.set_title('2 Component PCA manually', fontsize = 20) \n",
    "plt.show()\n",
    "\n"
   ]
  },
  {
   "cell_type": "markdown",
   "metadata": {},
   "source": [
    "### Hauptkomponentenanalyse mit sklearn\n",
    "\n",
    "Das Python Package `sklearn` enthält viele nützliche Funtkionen für statistische Analysen und maschinelles Lernen. Darunter auch eine Funktion für Hauptkomponentenanalyse `sklearn.decomposition.PCA()`. Definiert dafür zuerst ein Objekt das die genaue Methode beschreibt (z.B. als \"model\") mit Hilfe der Funktion `sklearn.decomposition.PCA()`. Definiert als Input wie viele Hauptkomponenten (\"n_components=2\") Ihr ausgegeben haben möchtet. \n",
    "\n",
    "Dann könnt Ihr den reduzierten Datensatz berechnen, indem Ihr auf diese Methode das Attribut `.fit_transform()` anwendet, mit dem ursprünglichen Datensatz als Input. \n"
   ]
  },
  {
   "cell_type": "code",
   "execution_count": 10,
   "metadata": {},
   "outputs": [],
   "source": [
    "# [9]\n",
    "# Package einladen\n",
    "from sklearn.decomposition import PCA\n",
    "# Model-Objekt erzeugen\n",
    "model = PCA(n_components=2)\n",
    "# Fit-Funktion auf Model-Objekt anwenden \n",
    "data_reduced = model.fit_transform(data_std)"
   ]
  },
  {
   "cell_type": "markdown",
   "metadata": {},
   "source": [
    "Für die Bewertung der Aussagekraft einer Hauptkomponentenanalyse ist es wichtig zu wissen, wie viel der ursprünglich Varianz (und damit der Informationen) in dem neuen transformierten Datensatz enthalten ist. Für die einzelnen Komponenten könnt Ihr das ausrechnen, indem Ihr das Attribut `.explained_variance_ratio_` auf Euer PCA Objekt anwendet. \n",
    "\n",
    "Berechnet außerdem die Summe der Varianzen (z.B. mit der Funktion `sum()` ), und lasst Euch schließlich die Werte beider Variablen anzeigen. \n",
    "\n",
    "Wie würdet Ihr die Werte einordnen und die Aussagekraft bewerten?"
   ]
  },
  {
   "cell_type": "code",
   "execution_count": 11,
   "metadata": {},
   "outputs": [
    {
     "name": "stdout",
     "output_type": "stream",
     "text": [
      "[0.19380804 0.17534104]\n",
      "0.36914908563348825\n"
     ]
    }
   ],
   "source": [
    "# [10] \n",
    "# einzelne Varianzen berechnen \n",
    "var_exp = model.explained_variance_ratio_\n",
    "# Summe der Varianzen bilden\n",
    "var_tot = sum(model.explained_variance_ratio_)\n",
    "# beide Variablen ausgeben lassen\n",
    "print (var_exp)\n",
    "print(var_tot)"
   ]
  },
  {
   "cell_type": "markdown",
   "metadata": {},
   "source": [
    "Nun stellt auch die Ergebnisse der PCA mit `sklearn` analog zu oben graphisch dar, und vergleicht die beiden Ergebnisse."
   ]
  },
  {
   "cell_type": "code",
   "execution_count": 12,
   "metadata": {},
   "outputs": [
    {
     "data": {
      "image/png": "[encoded data removed]",
      "text/plain": [
       "<Figure size 576x360 with 1 Axes>"
      ]
     },
     "metadata": {
      "needs_background": "light"
     },
     "output_type": "display_data"
    }
   ],
   "source": [
    "# [10] hier Code eingeben\n",
    "principalDf2 = pd.DataFrame(data = data_reduced, columns = ['principal component 1', 'principal component 2'])\n",
    "finalDf2 = pd.concat([principalDf2,pd.DataFrame(data,columns = ['Flaechennutzung'])], axis = 1) \n",
    "\n",
    "fig = plt.figure(1, figsize=(8, 5))\n",
    "ax = fig.add_subplot(1,1,1) \n",
    "ax.scatter(finalDf2['principal component 1'], \n",
    "           finalDf2['principal component 2'], \n",
    "           c = finalDf2['Flaechennutzung']*30)\n",
    "ax.set_xlabel('principal component 1', fontsize = 15) \n",
    "ax.set_ylabel('principal component 2', fontsize = 15)\n",
    "ax.set_title('2 Component PCA sklearn', fontsize = 20) \n",
    "plt.show()"
   ]
  },
  {
   "cell_type": "markdown",
   "metadata": {},
   "source": [
    "Wenn Ihr alles richtig gemacht habt, sollten die beiden Abbildung das gleiche Bild zeigen (u.U. gespiegelt oder rotiert, also mit einem Vorzeichenwechsel auf einer oder beiden Achsen). \n",
    "\n",
    "## Ende\n",
    "\n",
    "### Referenzen: \n",
    "\n",
    "Koch et al. (2020), Groundwater fauna in an urban area: natural or affected? https://hess.copernicus.org/preprints/hess-2020-151/hess-2020-151.pdf\n",
    "\n",
    "Lever et al. (2017) Principal component analysis, Nature Methods 14(7), 641-642\n",
    "\n",
    "https://towardsdatascience.com/a-complete-guide-to-principal-component-analysis-pca-in-machine-learning-664f34fc3e5a"
   ]
  }
 ],
 "metadata": {
  "kernelspec": {
   "display_name": "Python 3",
   "language": "python",
   "name": "python3"
  },
  "language_info": {
   "codemirror_mode": {
    "name": "ipython",
    "version": 3
   },
   "file_extension": ".py",
   "mimetype": "text/x-python",
   "name": "python",
   "nbconvert_exporter": "python",
   "pygments_lexer": "ipython3",
   "version": "3.7.10"
  }
 },
 "nbformat": 4,
 "nbformat_minor": 4
}
