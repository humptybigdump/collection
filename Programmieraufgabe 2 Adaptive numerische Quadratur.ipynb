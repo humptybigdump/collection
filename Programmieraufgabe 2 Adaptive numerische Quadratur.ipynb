{
 "cells": [
  {
   "cell_type": "markdown",
   "metadata": {},
   "source": [
    "# Notebook zur adaptiven Quadratur\n",
    "\n",
    "**Abgabe in den Programmiertutorien am 28. und 29. November 2024. Falls Sie Unterstützung bei der Bearbeitung der Programmieraufgabe brauchen, wenden Sie sich frühzeitig an Ihren Tutor oder melden Sie sich im Forum.**"
   ]
  },
  {
   "cell_type": "markdown",
   "metadata": {},
   "source": [
    "Benötigte Module für dieses Notebook."
   ]
  },
  {
   "cell_type": "code",
   "execution_count": null,
   "metadata": {},
   "outputs": [],
   "source": [
    "import numpy as np\n",
    "import matplotlib.pyplot as plt"
   ]
  },
  {
   "cell_type": "markdown",
   "metadata": {},
   "source": [
    "# Programmieraufgabe 2 (Adaptive Quadratur)"
   ]
  },
  {
   "cell_type": "markdown",
   "metadata": {},
   "source": [
    "Wir betrachten wieder eine einfache Beispielfunktion $f$ auf einem Intervall $[a,b]$, auf welche wir eine __adaptive__ Simpsonsumme mit eingebetteter Trapezregel anwenden wollen.\n",
    "\n",
    "Ziel ist es, eine Approximation $Q(f)$ des Integrals\n",
    "$$ I(f) = \\int_a^b f(x)\\mathrm{d} x $$\n",
    "zu berechnen, sodass \n",
    "$$|I(f) - Q(f)| \\le \\text{tol} \\cdot \\int_a^b |f(x)|\\mathrm{d} x $$\n",
    "für eine gegebene Toleranz $\\text{tol} > 0$ gilt."
   ]
  },
  {
   "cell_type": "markdown",
   "metadata": {},
   "source": [
    "**(a) Implementieren Sie eine Prozedur mit dem Namen `quad_single_inveral`, die die Simpson- und Trapezregel zu einer Funktion $f$ und die Simpsonregel zu $\\vert f\\vert$ für das Intervall $[a,b]$ berechnet und alle drei Ergebnisse ausgibt. Testen Sie Ihre Implementierung mit der Funktion \n",
    "$$\n",
    "f(x)=x^2,\n",
    "$$\n",
    "$a=0$ und $b=1$.**"
   ]
  },
  {
   "cell_type": "code",
   "execution_count": null,
   "metadata": {},
   "outputs": [],
   "source": []
  },
  {
   "cell_type": "code",
   "execution_count": null,
   "metadata": {},
   "outputs": [],
   "source": []
  },
  {
   "cell_type": "code",
   "execution_count": null,
   "metadata": {},
   "outputs": [],
   "source": []
  },
  {
   "cell_type": "markdown",
   "metadata": {},
   "source": [
    "Für den Rest der Programmieraufgabe betrachten wir die Funktion\n",
    "$$f_\\mu(x)=\\frac{\\mu}{\\mu^2+x^2}$$\n",
    "für verschiedene Parameter $\\mu\\in\\mathbb{R}\\setminus \\{0\\}$: "
   ]
  },
  {
   "cell_type": "code",
   "execution_count": null,
   "metadata": {},
   "outputs": [],
   "source": [
    "def f(x, mu):\n",
    "    return mu/(mu**2+x**2)"
   ]
  },
  {
   "cell_type": "code",
   "execution_count": null,
   "metadata": {},
   "outputs": [],
   "source": [
    "print(f(1,2))\n",
    "print(f(1,3))"
   ]
  },
  {
   "cell_type": "markdown",
   "metadata": {},
   "source": [
    "Für einen festen Wert von $\\mu$ erlaubt die Python-Funktion `lambda`, die Funktion $f_\\mu$ als Fuktion nur in der Variable $x$ zu interpretieren und auszuwerten:"
   ]
  },
  {
   "cell_type": "code",
   "execution_count": null,
   "metadata": {},
   "outputs": [],
   "source": [
    "f_mu = lambda x: f(x, mu)\n",
    "\n",
    "mu = 2\n",
    "print(f_mu(1))\n",
    "mu = 3\n",
    "print(f_mu(1))"
   ]
  },
  {
   "cell_type": "markdown",
   "metadata": {},
   "source": [
    "**b) Benutzen Sie die Prozedur `quad_single_interval` aus a) und implementieren Sie eine Prozedur `quad_42` zur Berechnung des adaptiven Integrals einer Funktion $f$ mit der Simpsonregel mit eingebetteter Trapezregel auf dem Intervall $[a,b]$. Benutzen Sie den Fehlerschätzer $\\varepsilon_n\\approx \\frac{1}{h_n}\\delta^2_n$ mit der adaptiven Wahl der Zerlegung des Intervalls und den Abbruchkriterien aus Kapitel 1.8 im Skript. Übergeben Sie die kleinste zulässige Intervallbreite $h_{\\text{crit}}$ und die Toleranz $\\text{tol}$ als Parameter der Prozedur. Am Ende soll die Prozedur `quad_42` das Gitter (Stützstellen) nach der adaptiven Zerlegung und die adaptive Simpsonsumme ausgeben.**\n",
    "\n",
    "_Hinweis:_ Definieren Sie in Ihrer Prozedur einen Vektor `mesh`, der alle Stützstellen enthält, sowie zwei Vektoren `res` und `error`, welche die Approximation der Simpsonregel für $f$ sowie die geschätzten Fehler auf den einzelnen Teilintervallen enthalten. Updaten Sie alle drei Vektoren bei Hinzunahme weiterer Daten. Die Befehle `np.argmax` und `np.hstack` könnten hilfreich sein.\n",
    "\n",
    "**Testen Sie die Prozedur mit $f_1$, $a=-2$, $b=2$, $\\text{tol}=10^{-5}$ und $h_{\\text{crit}}=10^{-2}$.** \n",
    "\n",
    "_Hinweis:_ Es gilt $\\int_{-2}^2 f_1(x) \\, \\mathrm{d} x \\approx 2.2143$."
   ]
  },
  {
   "cell_type": "code",
   "execution_count": null,
   "metadata": {},
   "outputs": [],
   "source": []
  },
  {
   "cell_type": "code",
   "execution_count": null,
   "metadata": {},
   "outputs": [],
   "source": []
  },
  {
   "cell_type": "markdown",
   "metadata": {},
   "source": [
    "**c) Geben Sie für jedes $\\mu\\in\\{0.01;0.1;1\\}$ den relativen Fehler \n",
    "$$ \\frac{ |I(f)-Q(f)| }{ \\int_a^b |f(x)| \\, \\mathrm{d} x } $$\n",
    "der adaptiven Simpsonregel mit eingebetteter Trapezregel mit $\\text{tol}=10^{-4}$ und $h_{\\text{crit}}=10^{-2}$ angewandt auf die Funktionen $f_\\mu$ auf dem Intervall $(a,b)=(-2,2)$ an. Erklären Sie die Ergebnisse. Wie verändert sich der Fehler für $\\mu=1$ und verschiedene Toleranzen $\\text{tol}\\in\\{10^{-1};10^{-4};10^{-8};10^{-12}\\}$?** \n",
    "\n",
    "_Hinweis:_ Verwenden Sie für die Fehlerberechnung die Stammfunktion von $f_\\mu(x)$: \n",
    "$$F_\\mu(x)=\\arctan\\left(\\frac{x}{\\mu}\\right).$$"
   ]
  },
  {
   "cell_type": "code",
   "execution_count": null,
   "metadata": {},
   "outputs": [],
   "source": []
  },
  {
   "cell_type": "code",
   "execution_count": null,
   "metadata": {},
   "outputs": [],
   "source": []
  },
  {
   "cell_type": "code",
   "execution_count": null,
   "metadata": {},
   "outputs": [],
   "source": []
  },
  {
   "cell_type": "markdown",
   "metadata": {},
   "source": [
    "**d) Wir wählen nun $\\text{tol}=10^{-4}$, $h_{\\text{crit}}=10^{-2}$ und $\\mu = 0.1$. Zeichnen sie die Funktion $f_\\mu$ im Intervall $[-2,2]$ und visualisieren Sie die von der Prozedur `quad_42` verwendeten Stützstellen auf dem Funktionsgraphen.**"
   ]
  },
  {
   "cell_type": "code",
   "execution_count": null,
   "metadata": {},
   "outputs": [],
   "source": []
  },
  {
   "cell_type": "code",
   "execution_count": null,
   "metadata": {},
   "outputs": [],
   "source": []
  },
  {
   "cell_type": "markdown",
   "metadata": {},
   "source": [
    "**OPTIONAL: e) Visualisieren Sie zusätzlich zur Aufgabe d) die im adaptiven Verfahren verwendeten Teilintervallbreiten $h_n$  über dem Intervall $[-2,2]$.** "
   ]
  },
  {
   "cell_type": "code",
   "execution_count": null,
   "metadata": {},
   "outputs": [],
   "source": []
  },
  {
   "cell_type": "code",
   "execution_count": null,
   "metadata": {},
   "outputs": [],
   "source": []
  }
 ],
 "metadata": {
  "kernelspec": {
   "display_name": "Python 3 (ipykernel)",
   "language": "python",
   "name": "python3"
  },
  "language_info": {
   "codemirror_mode": {
    "name": "ipython",
    "version": 3
   },
   "file_extension": ".py",
   "mimetype": "text/x-python",
   "name": "python",
   "nbconvert_exporter": "python",
   "pygments_lexer": "ipython3",
   "version": "3.12.7"
  }
 },
 "nbformat": 4,
 "nbformat_minor": 4
}
