{
 "cells": [
  {
   "cell_type": "markdown",
   "metadata": {},
   "source": [
    "### Part 2: Obspy"
   ]
  },
  {
   "cell_type": "markdown",
   "metadata": {},
   "source": [
    "In Python thousands of functions are available, so you don't have to program everything from scratch! Beside some standard functions, they are organized in different modules which you have to load before you can use them. <br>\n",
    "One of such modules is the 'obspy'-module, which is very helpful for seismological analysis.\n",
    "see more details in https://docs.obspy.org/ and https://seismo-live.github.io/tree/index.html"
   ]
  },
  {
   "cell_type": "code",
   "execution_count": 2,
   "metadata": {
    "collapsed": true,
    "jupyter": {
     "outputs_hidden": true
    }
   },
   "outputs": [],
   "source": [
    "import obspy"
   ]
  },
  {
   "cell_type": "markdown",
   "metadata": {},
   "source": [
    "The obspy package provides a function to read seismic data (mseed, sac,...) easily. We also have to import this function to use it:"
   ]
  },
  {
   "cell_type": "code",
   "execution_count": 3,
   "metadata": {
    "collapsed": true,
    "jupyter": {
     "outputs_hidden": true
    }
   },
   "outputs": [],
   "source": [
    "from obspy import read"
   ]
  },
  {
   "cell_type": "markdown",
   "metadata": {},
   "source": [
    "After importing the function we can read the data with the command <code>read(\"path to filename\")</code> and assign it to a variable. In the following example we read the mseed-file, which is located in the folder \"Files\". Check the data type of the variable with <code>print(type(variable))</code>. What kind of object is it?"
   ]
  },
  {
   "cell_type": "code",
   "execution_count": 6,
   "metadata": {
    "collapsed": true,
    "jupyter": {
     "outputs_hidden": true
    }
   },
   "outputs": [],
   "source": [
    "st=read('Files/GR.BFO..BH?.D.2019.308')\n",
    "#print datatype with print(type(...))\n"
   ]
  },
  {
   "cell_type": "markdown",
   "metadata": {},
   "source": [
    "You realized that the obspy object, which is returned by the function <code>read</code> is not one of the \"common\" python data types. The data in obspy is structured in streams and traces.\n",
    "<img src=\"Files/obspy_stream.png\" alt=\"drawing\" width=\"550\"> <br>\n",
    "A trace contains the seismic data and the meta data of one single channel (e.g. 1 component of a specific station). A stream is something like a container for one or multiple traces. To check how many traces are contained in the stream <code>st</code>, we us a command which you already know from determining the lenght of strings and lists: <code>len()</code> <br>\n",
    "If a stream contains multiple traces, than each trace has an index corresponding to its position (e.g. first trace is <code>st[0]</code>). <br> \n",
    "How many traces does the stream contain, which we read in the cell above? Assign the first trace to a new variable <code>tr</code>."
   ]
  },
  {
   "cell_type": "code",
   "execution_count": 5,
   "metadata": {
    "collapsed": true,
    "jupyter": {
     "outputs_hidden": true
    }
   },
   "outputs": [],
   "source": [
    "#How many traces does the stream st contain? Use: print(len())\n",
    "\n",
    "#assign the first trace to the variable tr\n",
    "tr="
   ]
  },
  {
   "cell_type": "markdown",
   "metadata": {},
   "source": [
    "A trace does not only contain the seismic data, but also additional information about the station, component, and the recording time.\n",
    "<img src=\"Files/obspy_trace_props.png\" alt=\"drawing\" width=\"550\"> <br>\n",
    "As illustrated in the Figure, the trace contains two different objects, which are some kind of container. In the container \"data\" the seismic data is located as a 1D-array of floats. The other container \"stats\" consists out of multiple more objects, e.g. station (string with station name) or sampling_rate (float defining the sampling rate of the recording). <br>\n",
    "To get the relevant information, first the trace has to be specified and then the container in which the information is located:<br>\n",
    "E.g. <code>st[0].stats.channel</code> returns the channel (component) of the first trace in the stream <code>st</code> or\n",
    "<code>st[0].data</code> returns the seismic data.<br>\n",
    "<br>\n",
    "Print the station, channel and starttime of the first trace in <code>st</code>! Try to print the first data point of the seismic data in the first trace as well. Then, check the remaining traces (station, component,...)."
   ]
  },
  {
   "cell_type": "code",
   "execution_count": 4,
   "metadata": {
    "collapsed": true,
    "jupyter": {
     "outputs_hidden": true
    }
   },
   "outputs": [],
   "source": [
    "#print station\n",
    "print(tr.stats.station)\n",
    "#print channel\n",
    "\n",
    "#print starttime\n",
    "\n",
    "#print first data point"
   ]
  },
  {
   "cell_type": "markdown",
   "metadata": {},
   "source": [
    "Obspy provides a simple fuction to plot the data, which is contained in traces and streams: <br>\n",
    "<code>stream.plot()</code> <br>\n",
    "<br>\n",
    "Use this function to plot the data of the whole stream! "
   ]
  },
  {
   "cell_type": "code",
   "execution_count": 7,
   "metadata": {
    "collapsed": true,
    "jupyter": {
     "outputs_hidden": true
    }
   },
   "outputs": [],
   "source": [
    "# plot the data of the stream!\n"
   ]
  },
  {
   "cell_type": "markdown",
   "metadata": {},
   "source": [
    "Often you are only intersted in a specific part of the data and therefore we want to cut the trace. Again, there is a predefined function we can use:<br>\n",
    "<code>stream/trace.trim('starttime', 'endtime')</code> <br>\n",
    "This function works for streams as well as for traces and requires two arguments: the start- and the endtime of the slice you want to cut.\n",
    "\n"
   ]
  },
  {
   "cell_type": "markdown",
   "metadata": {},
   "source": [
    "In order to define the two time parameters, we have to import a further obspy package: <code>UTCDateTime</code>"
   ]
  },
  {
   "cell_type": "code",
   "execution_count": 12,
   "metadata": {
    "collapsed": true,
    "jupyter": {
     "outputs_hidden": true
    }
   },
   "outputs": [],
   "source": [
    "from obspy import UTCDateTime"
   ]
  },
  {
   "cell_type": "markdown",
   "metadata": {},
   "source": [
    "The following example shows, how a specific date and time is defined. <br>\n",
    "For a detailed explanation about different posibilities to use this package, have a look at: <br>\n",
    "https://docs.obspy.org/packages/autogen/obspy.core.utcdatetime.UTCDateTime.html"
   ]
  },
  {
   "cell_type": "code",
   "execution_count": 26,
   "metadata": {},
   "outputs": [
    {
     "name": "stdout",
     "output_type": "stream",
     "text": [
      "2019-11-04T00:58:00.000000Z\n"
     ]
    }
   ],
   "source": [
    "t1=UTCDateTime(2019,11,4,0,58,0) #in the brackets are defined: year, month, day, hour, minute, second\n",
    "print(t1)"
   ]
  },
  {
   "cell_type": "markdown",
   "metadata": {},
   "source": [
    "Now, cut a slice with a duration of 1h and plot the result!\n"
   ]
  },
  {
   "cell_type": "code",
   "execution_count": null,
   "metadata": {
    "collapsed": true,
    "jupyter": {
     "outputs_hidden": true
    }
   },
   "outputs": [],
   "source": [
    "#define start\n",
    "\n",
    "#define end\n",
    "\n",
    "#use trim() to cut the stream st \n",
    "\n",
    "#plot the stream\n"
   ]
  },
  {
   "cell_type": "markdown",
   "metadata": {},
   "source": [
    "Try to cut a new time window of a different hour of the day and plot it. Does it work? If not, what could be the reason? <br>\n",
    "Hint: Print the starttime and endtime of the trace and compare it with the start and end of the slice you want to cut."
   ]
  },
  {
   "cell_type": "code",
   "execution_count": null,
   "metadata": {
    "collapsed": true,
    "jupyter": {
     "outputs_hidden": true
    }
   },
   "outputs": [],
   "source": [
    "\n",
    "\n"
   ]
  },
  {
   "cell_type": "markdown",
   "metadata": {},
   "source": [
    "You might have realized that ```trim()``` deletes all data outside of the slice! So if we want to cut a new time window, we have to read the data again. <br>\n",
    "Check the data in the time window between 00:58 - 01:02 on then 4.11.2019. What kind of signal do you see?"
   ]
  },
  {
   "cell_type": "code",
   "execution_count": null,
   "metadata": {
    "collapsed": true,
    "jupyter": {
     "outputs_hidden": true
    }
   },
   "outputs": [],
   "source": [
    "#read data to a obspy stream (you can copy it from above)\n",
    "\n",
    "#define start and end time\n",
    "\n",
    "#trim the stream\n",
    "\n",
    "#plot the new slice\n",
    "\n"
   ]
  }
 ],
 "metadata": {
  "kernelspec": {
   "display_name": "Python 3 (ipykernel)",
   "language": "python",
   "name": "python3"
  },
  "language_info": {
   "codemirror_mode": {
    "name": "ipython",
    "version": 3
   },
   "file_extension": ".py",
   "mimetype": "text/x-python",
   "name": "python",
   "nbconvert_exporter": "python",
   "pygments_lexer": "ipython3",
   "version": "3.10.14"
  }
 },
 "nbformat": 4,
 "nbformat_minor": 4
}
