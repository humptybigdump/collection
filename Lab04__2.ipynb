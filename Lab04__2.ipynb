{
 "cells": [
  {
   "cell_type": "markdown",
   "id": "0e42763e",
   "metadata": {},
   "source": [
    "# Stochastic Simulation\n",
    "\n",
    "*Winter Semester 2023/24*\n",
    "\n",
    "24.11.2023\n",
    "\n",
    "Prof. Sebastian Krumscheid<br>\n",
    "Asstistant: Stjepan Salatovic"
   ]
  },
  {
   "cell_type": "markdown",
   "id": "5c5187ec",
   "metadata": {},
   "source": [
    "<h3 align=\"center\">\n",
    "Exercise sheet 04\n",
    "</h3>\n",
    "\n",
    "---\n",
    "\n",
    "<h1 align=\"center\">\n",
    "Stochastic process generation\n",
    "</h1>"
   ]
  },
  {
   "cell_type": "code",
   "execution_count": 1,
   "id": "f636d6f9",
   "metadata": {},
   "outputs": [],
   "source": [
    "import matplotlib.pylab as plt\n",
    "import numpy as np\n",
    "\n",
    "from ipywidgets import interact\n",
    "from scipy.fft import fft, ifft\n",
    "from scipy.stats import uniform, norm, expon"
   ]
  },
  {
   "cell_type": "code",
   "execution_count": 2,
   "id": "cc556f51-f693-4b9d-89dd-dfdac32825dc",
   "metadata": {},
   "outputs": [],
   "source": [
    "plt.rc('axes', labelsize=14)     # fontsize of the x and y labels\n",
    "plt.rc('xtick', labelsize=12)    # fontsize of the tick labels\n",
    "plt.rc('ytick', labelsize=12)    # fontsize of the tick labels\n",
    "plt.rc('legend', fontsize=14)    # legend fontsize"
   ]
  },
  {
   "cell_type": "markdown",
   "id": "5e6ec4b1",
   "metadata": {},
   "source": [
    "## Exercise 1\n",
    "\n",
    "Consider a fractional Brownian motion (fBM) $\\{B^H(t), t\\in[0,1]\\}$,  which is a centred Gaussian process with $B^H(0)=0$ and covariance function \n",
    "\n",
    "$$\n",
    "\\mathrm{Cov}(t,s) = \\frac{1}{2}(|t|^{2H} + |s|^{2H} - |t-s|^{2H}),\n",
    "$$\n",
    "\n",
    "where $H\\in (0,1)$ is the so-called _Hurst index_. "
   ]
  },
  {
   "cell_type": "markdown",
   "id": "c09db19c",
   "metadata": {},
   "source": [
    "1. To sample such a process let us consider, for a fixed $h>0$, the increment process $\\delta B_h(t) = B^H(t+h)-B^H(t)$. Show that $\\delta B_h(t)$ is a centered stationary Gaussian process."
   ]
  },
  {
   "cell_type": "markdown",
   "id": "9a705f04",
   "metadata": {},
   "source": [
    "2. If one is able to sample exactly the process $\\delta B_h(t)$ on a\n",
    "\tuniform grid $t_j=jh$, then one can construct an exact sample of the\n",
    "\tfractional Brownian motion on the same grid points as $B^H(t_k) =\n",
    "\t\\sum_{j=0}^{k-1}\\delta B_h(t_j)$. Sample a fractional Brownian motion using FFT and circular embedding. Implement your experiment for different values of $H<1/2$ and $H>1/2$.\n",
    "\n",
    "    **Hint:** Have a look at Scipy's FFT module [`scipy.fft`](https://docs.scipy.org/doc/scipy/tutorial/fft.html)."
   ]
  },
  {
   "cell_type": "code",
   "execution_count": 4,
   "id": "c97bc3ed",
   "metadata": {},
   "outputs": [],
   "source": [
    "def cov(t, s, h: float, H: float):\n",
    "    \"\"\"\n",
    "    Covariance function of the fractional Gaussian noise with Hurst index `H`.\n",
    "    \"\"\"\n",
    "    # TODO\n",
    "    return"
   ]
  },
  {
   "cell_type": "code",
   "execution_count": 5,
   "id": "c2c57921-5dd8-4485-8335-21c7160f7683",
   "metadata": {},
   "outputs": [],
   "source": [
    "def fractional_Brownian_motion(n: int, H: float) -> np.array:\n",
    "    \"\"\"\n",
    "    Samples one realization of a fractional Brownian motion on a\n",
    "    uniform grid in [0, 1] with `n` points and Hurst index `H`.\n",
    "    \"\"\"\n",
    "    # TODO\n",
    "    return"
   ]
  },
  {
   "cell_type": "markdown",
   "id": "9696751f-2eca-43ea-aac9-46deb5ccd21b",
   "metadata": {},
   "source": [
    "## Exercise 2"
   ]
  },
  {
   "cell_type": "markdown",
   "id": "7eead44b-26a9-49c2-a01b-196727d5a9fa",
   "metadata": {},
   "source": [
    "1. Generate a random walk $\\{X_n\\in\\mathbb{Z},\\,n\\in\\mathbb{N}_0,\\,X_0=0\\}$\n",
    "  with transition probabilities\n",
    "  \\begin{equation*}\n",
    "    \\mathbb{P}(X_{n+1} = j \\vert X_n = j-1) = \\mathbb{P}(X_{n+1} = j \\vert X_n = j+1) = a\\;,\\quad\n",
    "    \\mathbb{P}(X_{n+1} = j \\vert X_n = j) = 1-2a\\;,\n",
    "  \\end{equation*}\n",
    "  for some $0<a\\le 1/2$. "
   ]
  },
  {
   "cell_type": "code",
   "execution_count": 6,
   "id": "a554bcbe-4f12-4b23-bef4-a7321d518b6f",
   "metadata": {},
   "outputs": [],
   "source": [
    "def random_walk(n: int, a: float=.5) -> np.array:\n",
    "    \"\"\"\n",
    "    Generates a random walk with `n` steps and transition probabilities specified by `a`.\n",
    "    \"\"\"\n",
    "    # TODO\n",
    "    return"
   ]
  },
  {
   "cell_type": "markdown",
   "id": "c9a35d56-1ed6-4edc-912e-d8560ba96039",
   "metadata": {},
   "source": [
    "2. Consider the rescaled process $Y_{t_i} := \\sqrt{\\Delta t/(2a)}X_i$\n",
    "  for $i=0,\\dots, n$ with $t_i = i\\Delta t$. Compare this process with\n",
    "  the process $W_{t_i}$, $i=0,\\dots, n$, where $W_t$ denotes a Wiener\n",
    "  process with $W_0 = 0$. That is, show that both processes \"look\n",
    "  similar\" in the limit as $\\Delta t\\to 0$ by plotting multiple\n",
    "  realizations of both processes for $n = \\lceil 1/\\Delta t \\rceil$."
   ]
  },
  {
   "cell_type": "code",
   "execution_count": 7,
   "id": "4a519600-2e92-4e27-9325-37322035ccdd",
   "metadata": {},
   "outputs": [],
   "source": [
    "def rescale_random_walk(x: np.array, a: float=.5) -> np.array:\n",
    "    \"\"\"\n",
    "    Rescales the random walk `x` onto [0, 1] using transition probabilities specified by `a`.\n",
    "    \"\"\"\n",
    "    # TODO\n",
    "    return"
   ]
  },
  {
   "cell_type": "code",
   "execution_count": 8,
   "id": "bf270ccc-0505-4e9e-bdbc-29bbfc244bb1",
   "metadata": {},
   "outputs": [],
   "source": [
    "def wiener_process(n: int) -> np.array:\n",
    "    \"\"\"Generates a Wiener process wih `n` points.\"\"\"\n",
    "    # TODO\n",
    "    return"
   ]
  },
  {
   "cell_type": "markdown",
   "id": "979b3243-0ae4-4c57-a45a-2c170066d1f4",
   "metadata": {},
   "source": [
    "3. **(Optional):** More theoretical analysis of the observed phenomenon:\n",
    "\n",
    "    1. Consider the spatial mesh $x_m = m\\Delta x = m \\sqrt{\\Delta t/(2a)}$ for\n",
    "    $m \\in \\mathbb{Z}$ and the following notation for the rescaled\n",
    "    process' probability mass function at time $t_i$:\n",
    "    \n",
    "    $$\n",
    "      \\bar u(t_i,x_m) := \\mathbb{P}(Y_{t_i} = x_m|Y_{0} = 0), \\quad m \\in \\mathbb{Z}, i =0,1,\\ldots\n",
    "    $$\n",
    "    \n",
    "    Use the discrete Chapman-Kolmogorov formula\n",
    "    \n",
    "    $$\n",
    "       \\tag{1}\n",
    "      \\mathbb{P}(Y_{t_{i+1}} = x_m|Y_{0} = 0) = \\sum_{k} \\mathbb{P}(Y_{t_{i+1}} = x_m|Y_{t_i} = x_k)\\mathbb{P}(Y_{t_{i}} = x_k|Y_{0} = 0)\n",
    "    $$\n",
    "    \n",
    "    to derive a difference equation for $\\bar u(t_{i+1},x_m)$ in terms of\n",
    "    $\\bar u(t_{i},\\cdot)$.\n",
    "\n",
    "   2. Show that the difference equation obtained in $(1)$ corresponds to a finite difference approximation of the one dimensional heat equation\n",
    "   \n",
    "    $$\n",
    "    u_t(t,x) = \\frac{u_{xx}(t,x)}{2}, \\quad x \\in \\mathbb{R}, t > 0,\n",
    "    $$\n",
    "       on a uniform grid $x_i = i \\Delta x$ and $t_j = j \\Delta t$ with $\\Delta t = 2 a x^2$, using a second order centered finite difference stencil in space and a first order forward Euler scheme in time.\n",
    "\n",
    "   3. For the standard Wiener process with $\\mathbb{P}(W_0 =0)=1$,\n",
    "    we denote the probability density function at time $t>0$ by\n",
    "    $$\n",
    "      u(t,x) := \\frac{e^{-x^2/(2t)}}{\\sqrt{2\\pi t}}, \\qquad x \\in \\mathbb{R}.\n",
    "    $$\n",
    "    For all $t> 0$ and $x \\in \\mathbb{R}$, show that the density satisfies the same heat equation introduced in point B."
   ]
  },
  {
   "cell_type": "markdown",
   "id": "7072cf54-b8cc-4810-8ad4-c83fc7356a34",
   "metadata": {},
   "source": [
    "## Exercise 3\n",
    "\n",
    "**Note:** Refer to Section **4.3** of the lecture notes.\n",
    "\n",
    "Consider the chemical reactions between three species $S_1$, $S_2$,\n",
    "$S_3$, which are determined by the following four reaction channels:\n",
    "\\begin{equation*}\n",
    "  \\begin{aligned}\n",
    "    S_1 &\\overset{c_1}{\\to} \\emptyset\\;,\\\\\n",
    "    S_1 + S_1  &\\overset{c_2}{\\to} S_2\\;,\\\\\n",
    "    S_2 &\\overset{c_3}{\\to} S_1 + S_1\\;,\\\\\n",
    "    S_2 &\\overset{c_4}{\\to} S_3\\;.\n",
    "  \\end{aligned}\n",
    "\\end{equation*}\n",
    "To simulate this system, consider the process\n",
    "$\\boldsymbol{N}_t = (N_t^1,N_t^2,N_t^3)\\in\\mathbb{N}_0^3$, where\n",
    "$N_t^i$ denotes the number of molecules of species $S_i$ at time\n",
    "$t\\ge 0$. In fact, this process is a time-continuous Markov chain with\n",
    "transition probabilities given by\n",
    "\\begin{equation*}\n",
    "  \\begin{aligned}\n",
    "    \\mathbb{P}\\bigl(\\boldsymbol{N}_{t+h} = \\boldsymbol{N}_{t,1} = (N^1-1,N^2,N^3)\\bigl\\vert\\bigr. \\boldsymbol{N}_{t} &= (N^1,N^2,N^3)\\bigr) = a_1(\\boldsymbol{N}_{t})h + o(h)\\;,\\\\\n",
    "    \\mathbb{P}\\bigl(\\boldsymbol{N}_{t+h}= \\boldsymbol{N}_{t,2} = (N^1-2,N^2+1,N^3)\\bigl\\vert\\bigr. \\boldsymbol{N}_{t} &= (N^1,N^2,N^3)\\bigr) = a_2(\\boldsymbol{N}_{t})h + o(h)\\;,\\\\\n",
    "    \\mathbb{P}\\bigl(\\boldsymbol{N}_{t+h} = \\boldsymbol{N}_{t,3}= (N^1+2,N^2-1,N^3)\\bigl\\vert\\bigr. \\boldsymbol{N}_{t} &= (N^1,N^2,N^3)\\bigr) = a_3(\\boldsymbol{N}_{t})h + o(h)\\;,\\\\\n",
    "    \\mathbb{P}\\bigl(\\boldsymbol{N}_{t+h} = \\boldsymbol{N}_{t,4} =(N^1,N^2-1,N^3+1)\\bigl\\vert\\bigr. \\boldsymbol{N}_{t} &= (N^1,N^2,N^3)\\bigr) =  a_4(\\boldsymbol{N}_{t})h + o(h)\\;,\\\\\n",
    "    \\mathbb{P}\\bigl(\\boldsymbol{N}_{t+h} = \\boldsymbol{N}_{t,5}= (N^1,N^2,N^3)\\bigl\\vert\\bigr. \\boldsymbol{N}_{t}  &= (N^1,N^2,N^3)\\bigr) = 1 - h\\sum_{j=1}^4a_j(\\boldsymbol{N}_{t})+ o(h)\\;,\\\\\n",
    "  \\end{aligned}\n",
    "\\end{equation*}\n",
    "for $h$ sufficiently small, where $\\boldsymbol{N}_{t,k}, k \\in \\{1,...,5\\}$ indexes the possible transitions. \n",
    "Here, the so-called propensity functions are\n",
    "\\begin{equation*}\n",
    "  a_1(\\boldsymbol{N}) = c_1 N^1\\;,\\quad a_2(\\boldsymbol{N}) = c_2 \\frac{N^1(N^1-1)}{2}\\;,\\quad a_3(\\boldsymbol{N}) = c_3 N^2\\;,\\quad \\quad a_4(\\boldsymbol{N}) = c_4N^2\\;,\n",
    "\\end{equation*}\n",
    "with $\\boldsymbol{N} = (N^1,N^2,N^3)$.\n"
   ]
  },
  {
   "cell_type": "markdown",
   "id": "1ce7a2ab-4b0b-4fd4-b7a3-eb1f22ced96e",
   "metadata": {},
   "source": [
    "1. Try to construct the transition matrix corresponding to the above transition\n",
    "  probabilities and note the challenges. Is it possible to simulate the chemical reaction without the explicit $Q$ matrix?\n",
    "\n",
    "    **Hint:** Think back to how you simulated the process in Exercise 2.1."
   ]
  },
  {
   "cell_type": "markdown",
   "id": "3d935286-24ee-47dd-bd4f-4002acfd289e",
   "metadata": {},
   "source": [
    "2. Utilise the following algorithm to simulate the chemical reaction\n",
    "  system. Plot a time series for each species' number of molecules for\n",
    "  $t\\in[0, T]$, $T=0.2$, for the reaction rates\n",
    "  \\begin{equation*}\n",
    "    c_1 = 1\\;,\\quad c_2 = 5\\;,\\quad c_3 = 15\\;,\\quad c_4 = \\frac{3}{4}\\;,\n",
    "  \\end{equation*}\n",
    "  using $\\boldsymbol{N}_0 = (400,800,0)$ as initial number of\n",
    "  molecules. Repeat the simulation for the same reaction rates\n",
    "  $c_1,\\dots, c_4$ also for $T=5$.\n",
    "\n",
    "    **Algorithm 1:** Reaction simulation\n",
    "    \n",
    "    - Set $\\boldsymbol{N}_0 = (N^1_0,N^2_0,N^3_0)$, $J_0=0$\n",
    "    - **for** $n=1, 2, \\ldots$ **do**\n",
    "        - Compute $\\lambda = \\sum_{j=1}^4 a_j(\\boldsymbol{N}_{J_{n-1}})$\n",
    "        - Generate $S_n\\sim \\text{Exp}\\left(\\lambda\\right)$ and set $J_n=J_{n-1}+S_n$\n",
    "        - Generate $I \\in \\{1,2,3,4\\}$ with probability mass function\n",
    "          $$\\mathbb{P}(I=j) = \\frac{a_j(\\boldsymbol{N}_{J_{n-1}})}{\\sum_{l=1}^4 a_l(\\boldsymbol{N}_{J_{n-1}})},\n",
    "          $$\n",
    "          which is the probability that the $j^{th}$ reaction happens.\n",
    "        - Set $\\boldsymbol{N}_t = \\boldsymbol{N}_{J_{n-1}} \\forall t \\in [J_{n-1},J_n)$ and $\\boldsymbol{N}_{J_n} = \\boldsymbol{N}_{t,I}$\n",
    "    - **end for**\n"
   ]
  },
  {
   "cell_type": "code",
   "execution_count": 9,
   "id": "f42a0786-0d04-42b2-a953-696230eb945e",
   "metadata": {},
   "outputs": [],
   "source": [
    "def reaction_simulation(N0: np.array, c: np.array, T: float) -> np.array:\n",
    "    \"\"\"\n",
    "    Reaction simulation for intial values `N0`, reaction rates `c` and time horizon `T`.\n",
    "    Returns jump times as well as the process itself.\n",
    "    \"\"\"\n",
    "    # TODO\n",
    "    return"
   ]
  },
  {
   "cell_type": "markdown",
   "id": "f941c7a1-635e-47e2-acb5-815b26a55061",
   "metadata": {},
   "source": [
    "## Exercise 4\n",
    "\n",
    "Let $\\{N_t\\in\\mathbb{N}_0\\colon t\\ge 0,\\, N_0=0\\}$ be a Poisson process\n",
    "with rate $\\lambda$."
   ]
  },
  {
   "cell_type": "markdown",
   "id": "402ef0be-6c86-4d01-841b-e3dd42d6516b",
   "metadata": {},
   "source": [
    "1. Show that, conditional on the event $\\{N_T = n\\}$, the jump\n",
    "  times $J_1,\\dots, J_n$ have joint density function\n",
    "  \\begin{equation*}\n",
    "   f_{J_1,\\dots,J_n}(j_1,\\dots,j_n) =  n! \\, T^{-n} \\, \\mathbb{I}(0\\le j_1\\le \\dots\\le j_n\\le T)\\;.\n",
    " \\end{equation*}\n",
    " In other words, show that conditional on $\\{N_T = n\\}$, the jump\n",
    " times $J_1,\\dots, J_n$ have the same distribution as an ordered sample of size $n$ from the uniform distribution on $[0, T]$.\n",
    "\n",
    "    **Hints:** Use the joint distribution of the holding times\n",
    "       $S_1,\\dots,S_{n+1}$ to first derive the joint distribution of the\n",
    "       jump times, where $S_{i+1} = J_{i+1}-J_i$. Then compute the conditional distribution of the jump\n",
    "       times given that $N_T = n$, using the fact that\n",
    "       $\\{N_T = n\\} = \\{J_n\\le T < J_{n+1}\\}$ a.s.} "
   ]
  },
  {
   "cell_type": "markdown",
   "id": "ee9170b4-9d85-4406-84d0-0b1993426a7c",
   "metadata": {},
   "source": [
    "2. Use the property above to propose an algorithm to generate the\n",
    "  process $N_t$, $t\\in (t_1,t_2)$, conditional upon $N_{t_1} = n_1$\n",
    "  and $N_{t_2} = n_2>n_1$. Such a process is called _Poisson bridge_."
   ]
  },
  {
   "cell_type": "code",
   "execution_count": 10,
   "id": "787d873d-3c34-436f-a3bb-014939630080",
   "metadata": {},
   "outputs": [],
   "source": [
    "def poisson_bridge(t1: float, t2: float, n1: int, n2: int) -> np.array:\n",
    "    \"\"\"Generates a Poisson bridge between (`t1`, `n1`) and (`t2`, `n2`).\"\"\"\n",
    "    # TODO\n",
    "    return"
   ]
  }
 ],
 "metadata": {
  "kernelspec": {
   "display_name": "Python 3 (ipykernel)",
   "language": "python",
   "name": "python3"
  },
  "language_info": {
   "codemirror_mode": {
    "name": "ipython",
    "version": 3
   },
   "file_extension": ".py",
   "mimetype": "text/x-python",
   "name": "python",
   "nbconvert_exporter": "python",
   "pygments_lexer": "ipython3",
   "version": "3.10.12"
  },
  "widgets": {
   "application/vnd.jupyter.widget-state+json": {
    "state": {},
    "version_major": 2,
    "version_minor": 0
   }
  }
 },
 "nbformat": 4,
 "nbformat_minor": 5
}
