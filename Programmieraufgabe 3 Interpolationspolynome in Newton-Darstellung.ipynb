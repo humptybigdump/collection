{
 "cells": [
  {
   "cell_type": "markdown",
   "metadata": {},
   "source": [
    "# Programmieraufgabe 3: Interpolationspolynom in Newton-Darstellung"
   ]
  },
  {
   "cell_type": "markdown",
   "metadata": {},
   "source": [
    "**Abgabe in den Programmiertutorien am 12. und 13. Dezember 2024. Falls Sie Unterstützung bei der Bearbeitung der Programmieraufgabe brauchen, wenden Sie sich frühzeitig an Ihren Tutor oder melden Sie sich im Forum.**"
   ]
  },
  {
   "cell_type": "markdown",
   "metadata": {},
   "source": [
    "Benötigte Module für dieses Notebook:"
   ]
  },
  {
   "cell_type": "code",
   "execution_count": null,
   "metadata": {},
   "outputs": [],
   "source": [
    "import numpy as np\n",
    "import matplotlib.pyplot as plt"
   ]
  },
  {
   "cell_type": "markdown",
   "metadata": {},
   "source": [
    "# 1. Das Horner-Schema"
   ]
  },
  {
   "cell_type": "markdown",
   "metadata": {},
   "source": [
    "**(a) Zur Auswertung eines Polynoms $p(x)$ in Monomdarstellung $p(x)=c_nx^n+c_{N-1}x^{N-1}+\\dots+c_1x+c_0$ kann das Horner-Schema genutzt werden, welches durch geschicktes Ausklammern von $x$ den Aufwand der Auswertung reduziert. Schreiben Sie eine Prozedur `horner_monom`, die für gegebene Koeffizienzen $c_0,\\dots,c_n$ sowie eine Stelle $x$ den Wert $p(x)$ über das Horner-Schema berechnet und zurückgibt. Die Koeffizienten $c_0,\\cdots,c_n$ seien dabei in einem Vektor `c` gespeichert.**"
   ]
  },
  {
   "cell_type": "code",
   "execution_count": null,
   "metadata": {},
   "outputs": [],
   "source": []
  },
  {
   "cell_type": "markdown",
   "metadata": {},
   "source": [
    "**(b) Eine weitere Polynom-Darstellung, die z.B. zur Aufstellung des Interpolationspolynoms mit Hilfe des Newton-Schemas verwendet wird, ist die _Newton-Basis-Darstellung_ $p(x)=d_n(x-x_0)\\cdots(x-x_{n-1})+d_{n-1}(x-x_0)\\cdots(x-x_{n-2})+\\dots+d_1(x-x_0)+d_0$ mit Koeffizienten $d_0,\\ldots,d_n$ und Knoten $x_0,\\ldots,x_n$. Modifizieren Sie das Horner-Schema dahingehend, dass auch Polynome, die in dieser Darstellung gegeben sind, effizient ausgewertet werden können. Hier wird also nicht nur eine Stelle $x$ und ein Vektor `d` der Koeffizienten übergeben, sondern zusätzlich ein Vektor `knots` welcher die Knoten $x_0,\\ldots,x_n$ enthält.**"
   ]
  },
  {
   "cell_type": "code",
   "execution_count": null,
   "metadata": {},
   "outputs": [],
   "source": []
  },
  {
   "cell_type": "markdown",
   "metadata": {},
   "source": [
    "**(c) Um die Prozeduren aus Teil (a) und (b) zu testen, betrachten wir das Polynom\n",
    "$$p(x) = 3x^3 + 2x^2 + 2 = 1 + 1\\cdot(x+1) + 2\\cdot(x+1)(x-0) + 3\\cdot(x+1)(x-0)(x-1).$$\n",
    "Ergänzen Sie den Code unten an den mit `###` markierten Stellen so, dass das Polynom zwei mal geplottet wird, wobei die Funktionswerte von $p$ einmal über das Horner-Schema aus Teil (a) und einmal über das modifizierte Horner-Schema aus Teil (b) berechnet werden.**\n",
    "\n",
    "_Hinweis_: Achten Sie auf die richtige Reihenfolge der Koeffizienten in den Vektoren `c`, `d` und `knots`."
   ]
  },
  {
   "cell_type": "code",
   "execution_count": null,
   "metadata": {},
   "outputs": [],
   "source": [
    "x = np.linspace(-1, 1, 1000)\n",
    "\n",
    "# Polynom p ausgewertet über die Monom-Darstellung:\n",
    "fig, axs = plt.subplots(1, 2)\n",
    "###\n",
    "axs[0].plot(x, ### )\n",
    "axs[0].set_title('Monom-Darstellung')\n",
    "\n",
    "# Polynom p ausgewertet über die Newton-Basis-Darstellung:\n",
    "###\n",
    "###\n",
    "axs[1].plot(x, ### ) \n",
    "axs[1].set_title('Newton-Basis-Darstellung')\n",
    "\n",
    "plt.show()"
   ]
  },
  {
   "cell_type": "markdown",
   "metadata": {},
   "source": [
    "# 2. Dividierte Differenzen"
   ]
  },
  {
   "cell_type": "markdown",
   "metadata": {},
   "source": [
    "**Schreiben Sie eine Prozedur, welche die dividierten Differenzen aus Definition 2.1 für gegebene Punkte $(x_0,y_0), \\ldots (x_n,y_n)$ berechnet und zurück gibt. Übergeben Sie die Knoten $x_0,\\ldots,x_n$ über einen Vektor `knots` und die Werte $y_0,\\ldots,y_n$ über einen Vektor `vals`.**\n",
    "\n",
    "_Hinweis:_ Gehen Sie wie in dem rekursiven Schema aus Definition 2.1 vor. Definieren Sie dazu in Ihrer Prozdur eine Matrix `Delta` passender Größe und speichern Sie alle Werte des Schemas in der linken unteren Hälfte dieser Matrix. Sie können Ihre Prozedur zum Beispiel mit den Daten aus Beispiel 2.4 aus der Vorlesung/dem Skript testen."
   ]
  },
  {
   "cell_type": "code",
   "execution_count": null,
   "metadata": {
    "scrolled": true
   },
   "outputs": [],
   "source": []
  },
  {
   "cell_type": "code",
   "execution_count": null,
   "metadata": {},
   "outputs": [],
   "source": []
  },
  {
   "cell_type": "markdown",
   "metadata": {},
   "source": [
    "# 3. Interpolationspolynom in Newton-Darstellung"
   ]
  },
  {
   "cell_type": "markdown",
   "metadata": {},
   "source": [
    "**(a) Schreiben Sie eine Prozedur, die zu einer gegebenen Funktion $f$, einem gegebenen Intervall $[a,b]$ und gegebenen Knoten $x_0,\\ldots,x_n$ die Koeffizienten des Interpolationspolynoms zu den Punkten $(x_0,f(x_0)), \\ldots, (x_n,f(x_n))$ in Newton-Darstellung berechnet und anschließend die Funktion $f$ und das Interpolationspolynom in einem gemeinsamen Plot visualisiert. In dem Plot sollen zusätzlich die verwendeten Interpolationspunkte markiert werden.**\n",
    "\n",
    "_Hinweis:_ In Ihrer Prozedur sollen Sie die Prozeduren aus Teil 1. und 2. geeignet verwenden."
   ]
  },
  {
   "cell_type": "code",
   "execution_count": null,
   "metadata": {},
   "outputs": [],
   "source": []
  },
  {
   "cell_type": "markdown",
   "metadata": {},
   "source": [
    "**(b) Testen Sie die Prozedur aus Teil (a) mit der Funktion $f:[0,3\\pi]\\to\\mathbb{R}, x \\mapsto x\\sin(x)$ unter Verwendung von 6 äquidistanten Stützstellen im Intervall $[0,3\\pi]$. Was passiert wenn Sie die Anzahl an Stützstellen erhöhen, z.B. auf 8, 20 oder 50? Erklären Sie die Unterschiede.**"
   ]
  },
  {
   "cell_type": "code",
   "execution_count": null,
   "metadata": {},
   "outputs": [],
   "source": []
  },
  {
   "cell_type": "markdown",
   "metadata": {},
   "source": [
    "**(c) Wenden Sie die Prozedur aus Teil (a) auf die Funktion $f:[-1,1] \\to \\mathbf{R}, x\\mapsto \\frac{1}{1+(5x)^2}$ an und beobachten Sie erneut, wie sich das Ergebnis in Abhängigkeit der Anzahl an Stützstellen verändert. Haben Sie eine Vermutung, was der Grund für dieses Verhalten sein könnte?**"
   ]
  },
  {
   "cell_type": "code",
   "execution_count": null,
   "metadata": {},
   "outputs": [],
   "source": []
  },
  {
   "cell_type": "code",
   "execution_count": null,
   "metadata": {},
   "outputs": [],
   "source": []
  }
 ],
 "metadata": {
  "kernelspec": {
   "display_name": "Python 3 (ipykernel)",
   "language": "python",
   "name": "python3"
  },
  "language_info": {
   "codemirror_mode": {
    "name": "ipython",
    "version": 3
   },
   "file_extension": ".py",
   "mimetype": "text/x-python",
   "name": "python",
   "nbconvert_exporter": "python",
   "pygments_lexer": "ipython3",
   "version": "3.12.7"
  }
 },
 "nbformat": 4,
 "nbformat_minor": 4
}
