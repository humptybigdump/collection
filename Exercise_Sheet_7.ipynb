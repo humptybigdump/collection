{
 "cells": [
  {
   "cell_type": "markdown",
   "metadata": {},
   "source": [
    "# Tutorial 7\n",
    "\n",
    "## Frequency and time synchronisation"
   ]
  },
  {
   "cell_type": "code",
   "execution_count": null,
   "metadata": {},
   "outputs": [],
   "source": [
    "import numpy as np  # make the numpy package available and use 'np' as alias\n",
    "import scipy.linalg as lin\n",
    "import matplotlib.pyplot as plt  # plotting library\n",
    "%matplotlib inline\n",
    "YOUR_CODE_HERE = None  # placeholder"
   ]
  },
  {
   "cell_type": "markdown",
   "metadata": {},
   "source": [
    "### Exercise 1\n",
    "Carry out a data-based frequency synchronization of a PSK transmission!\n",
    "\n",
    "*Note*: The time synchronization has already been carried out, the optimally samples received symbols are available."
   ]
  },
  {
   "cell_type": "markdown",
   "metadata": {},
   "source": [
    "#### a) Generate `N` equiprobable `M`-PSK symbols to be used as a reference sequence.\n",
    "\n",
    "*Note*: First create the constellation diagram and then use `np.random.choice` to select symbols that are equally likely."
   ]
  },
  {
   "cell_type": "code",
   "execution_count": null,
   "metadata": {},
   "outputs": [],
   "source": [
    "M = 4  # constellation order\n",
    "N = 100  # lenght of reference sequence\n",
    "\n",
    "symbol_mapping = YOUR_CODE_HERE\n",
    "ref_symbols = YOUR_CODE_HERE"
   ]
  },
  {
   "cell_type": "code",
   "execution_count": null,
   "metadata": {},
   "outputs": [],
   "source": [
    "plt.scatter(ref_symbols.real, ref_symbols.imag)\n",
    "plt.xlabel('I'); plt.ylabel('Q')\n",
    "plt.title('Reference sequence symbols');"
   ]
  },
  {
   "cell_type": "markdown",
   "metadata": {},
   "source": [
    "#### b) Simulate the interference by applying a frequency offset of 0.1 Hz and a random phase to the symbol stream.\n",
    "*Note*: To do this, multiply `ref_seq` by a suitable complex exponential term."
   ]
  },
  {
   "cell_type": "code",
   "execution_count": null,
   "metadata": {},
   "outputs": [],
   "source": [
    "T = 1  # symbol duration in seconds\n",
    "f_off = YOUR_CODE_HERE\n",
    "phi_off = YOUR_CODE_HERE\n",
    "symbols_with_offset = YOUR_CODE_HERE"
   ]
  },
  {
   "cell_type": "markdown",
   "metadata": {},
   "source": [
    "#### c) Apart from the influences from b), the channel is an AWGN channel with an SNR of 20 dB. Create a suitable noise realization `noise` and apply it to the receive symbols` recv_symbols`.\n",
    "*Note*: Think about how you can generate a complex normal distribution with `np.random.randn` and how it has to be scaled. Don't forget to convert the logarithmic representation of the SNR to linear! You can use `np.mean` and` np.var` to check the mean and variance."
   ]
  },
  {
   "cell_type": "code",
   "execution_count": null,
   "metadata": {},
   "outputs": [],
   "source": [
    "SNR_dB = 20\n",
    "noise_variance_linear = YOUR_CODE_HERE\n",
    "noise = YOUR_CODE_HERE\n",
    "recv_symbols = YOUR_CODE_HERE"
   ]
  },
  {
   "cell_type": "code",
   "execution_count": null,
   "metadata": {},
   "outputs": [],
   "source": [
    "plt.scatter(recv_symbols.real, recv_symbols.imag)\n",
    "plt.xlabel('I'); plt.ylabel('Q')\n",
    "plt.title('Received reference sequence symbols');"
   ]
  },
  {
   "cell_type": "markdown",
   "metadata": {},
   "source": [
    "#### d)Estimate the frequency offset from the noisy received sequence! In the first step, multiply the received sequence point by point with the complex conjugate reference sequence before you determine the frequency offset from the phase.\n",
    "\n",
    "*1. Note* : What happens to the phase of the data symbols during multiplication?\n",
    "\n",
    "*2. Note* : Make sure you understand how frequency and phase are related!"
   ]
  },
  {
   "cell_type": "code",
   "execution_count": null,
   "metadata": {},
   "outputs": [],
   "source": [
    "y = YOUR_CODE_HERE  # multiply the received signal with the complex conjugated reference sequence\n",
    "estimated_f_off = YOUR_CODE_HERE"
   ]
  },
  {
   "cell_type": "code",
   "execution_count": null,
   "metadata": {},
   "outputs": [],
   "source": [
    "print(\"Estimated frequency offset:\", estimated_f_off, \"Hz\")\n",
    "print(\"Estimation error:\", abs(f_off - estimated_f_off) / f_off * 100, \"%\")"
   ]
  },
  {
   "cell_type": "markdown",
   "metadata": {},
   "source": [
    "### e) Theory questions\n",
    "1. Which parameter determines the range of correctable frequency offsets? \n",
    "2. Give the equation for the range of correctable frequency offsets! \n",
    "3. Why does a static phase offset in the received signal have no influence on the frequency estimation?\n",
    "4. What is the disadvantage of using only one symbol for the duration of the entire sequence? "
   ]
  },
  {
   "cell_type": "markdown",
   "metadata": {},
   "source": [
    "### Exercise 2\n",
    "Implement a feedback system with a Gardner detector for the synchronization of the sampling time!\n",
    "\n",
    "*Note*: The frequency synchronization has already been carried out successfully."
   ]
  },
  {
   "cell_type": "markdown",
   "metadata": {},
   "source": [
    "#### a) Generate a random sequence of BPSK symbols of length `N` with an average power of 1!"
   ]
  },
  {
   "cell_type": "code",
   "execution_count": null,
   "metadata": {},
   "outputs": [],
   "source": [
    "N = 1000\n",
    "symbols = YOUR_CODE_HERE"
   ]
  },
  {
   "cell_type": "code",
   "execution_count": null,
   "metadata": {},
   "outputs": [],
   "source": [
    "plt.stem(symbols)\n",
    "plt.title(\"Random BPSK symbols\");\n",
    "plt.margins(0.1)"
   ]
  },
  {
   "cell_type": "markdown",
   "metadata": {},
   "source": [
    "#### b) Use the given RRC pulse for pulse shaping! Create both transmitter and receiver filters!\n",
    "*Note*: Neglect (by removing) the settling time in the end result in order to suppress edge effects!"
   ]
  },
  {
   "cell_type": "code",
   "execution_count": null,
   "metadata": {},
   "outputs": [],
   "source": [
    "import rrc  # requires rrc.py to be accessible (e.g., in the same directory)\n",
    "sps = 16  # samples per symbol\n",
    "K = 8  # length of the impulse response in symbols\n",
    "rho = 1  # RRC rolloff factor\n",
    "g = rrc.get_rrc_ir(K * sps + 1, sps, 1, rho)  # RRC impulse response\n",
    "g /= lin.norm(g)  # normalize the filter such that the sampled receive symbols have the same mean power"
   ]
  },
  {
   "cell_type": "code",
   "execution_count": null,
   "metadata": {},
   "outputs": [],
   "source": [
    "rx_signal = YOUR_CODE_HERE  # baseband receive signal"
   ]
  },
  {
   "cell_type": "code",
   "execution_count": null,
   "metadata": {},
   "outputs": [],
   "source": [
    "plt.plot(rx_signal)\n",
    "plt.title(\"Received baseband signal\")\n",
    "plt.xlabel(\"Index\"); plt.ylabel(\"Amplitude\")\n",
    "plt.margins(x=0, y=0.1)"
   ]
  },
  {
   "cell_type": "markdown",
   "metadata": {},
   "source": [
    "#### c) Simulate a time shift by removing the first `n_off` samples."
   ]
  },
  {
   "cell_type": "code",
   "execution_count": null,
   "metadata": {},
   "outputs": [],
   "source": [
    "n_off = 5\n",
    "r = YOUR_CODE_HERE"
   ]
  },
  {
   "cell_type": "markdown",
   "metadata": {},
   "source": [
    "#### d) Complete the implementation of the timing algorithm by implementing the functions `TED` and` loop_filter`!\n",
    "*Note 1*: The implementation closely follows the lecture (chapter synchronization, slides 42-55).\n",
    "\n",
    "*Note 2*: Use the `rint` function where necessary to convert the float values of `tau` into integer values."
   ]
  },
  {
   "cell_type": "code",
   "execution_count": null,
   "metadata": {},
   "outputs": [],
   "source": [
    "def rint(x):\n",
    "    return np.int(np.round(x))\n",
    "\n",
    "class gardner_timing_recovery:\n",
    "    e = [0]\n",
    "    gamma = 1e-1\n",
    "    tau = [0, 0]\n",
    "    output_symbols = []\n",
    "    \n",
    "    def run(self, y):\n",
    "        for k in range(y.size//sps - 1):\n",
    "            self.output_symbols.append(y[k*sps + rint(self.tau[k])])\n",
    "            if k > 0:\n",
    "                self.e.append(self.TED(y, k))  # update error signal\n",
    "                self.tau.append(self.loop_filter(k))\n",
    "    \n",
    "    def TED(self, y, k):\n",
    "        return YOUR_CODE_HERE\n",
    "    \n",
    "    def loop_filter(self, k):\n",
    "        return YOUR_CODE_HERE\n",
    "    \n",
    "    def rint(self, x):\n",
    "        return int(round(x))\n",
    "    \n",
    "timing_sync = gardner_timing_recovery()\n",
    "timing_sync.run(r)\n",
    "r_sync = timing_sync.output_symbols"
   ]
  },
  {
   "cell_type": "code",
   "execution_count": null,
   "metadata": {},
   "outputs": [],
   "source": [
    "plt.plot(timing_sync.e); plt.title(\"Error signal e\"); plt.show();\n",
    "plt.plot([rint(tau) for tau in timing_sync.tau]); plt.title(\"Estimated timing offset tau\"); plt.ylim([-sps//2-1, sps//2+1]); plt.show();\n",
    "plt.stem(r[::sps]); plt.title(\"Unsynchronized receive symbols\"); plt.show();\n",
    "plt.stem(r_sync); plt.title(\"Synchronized receive symbols\"); plt.show();"
   ]
  },
  {
   "cell_type": "markdown",
   "metadata": {},
   "source": [
    "#### e)  Theory questions\n",
    "1. What is the meaning of the parameter `gamma`? What is the trade-off in his choice?\n",
    "2. Can you also use this algorithm to correct time offsets that change over time?\n",
    "3. The procedure fails if `n_off = sps // 2`. Explain why! Is this a realistic case? Which other influences were neglected in this simulation? "
   ]
  }
 ],
 "metadata": {
  "kernelspec": {
   "display_name": "Python 3 (ipykernel)",
   "language": "python",
   "name": "python3"
  },
  "language_info": {
   "codemirror_mode": {
    "name": "ipython",
    "version": 3
   },
   "file_extension": ".py",
   "mimetype": "text/x-python",
   "name": "python",
   "nbconvert_exporter": "python",
   "pygments_lexer": "ipython3",
   "version": "3.10.5"
  }
 },
 "nbformat": 4,
 "nbformat_minor": 1
}
