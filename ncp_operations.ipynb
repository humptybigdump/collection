{
 "cells": [
  {
   "cell_type": "code",
   "execution_count": 14,
   "id": "c98cc5a2-bdf5-4110-86c5-d5857c125bac",
   "metadata": {},
   "outputs": [],
   "source": [
    "from IPython.display import display, Math, Latex"
   ]
  },
  {
   "cell_type": "code",
   "execution_count": 11,
   "id": "eded362c-d5c5-497e-b2dc-275c14583420",
   "metadata": {},
   "outputs": [],
   "source": [
    "from sympy import *\n",
    "x = IndexedBase('x')\n",
    "j,k,k = symbols('j k l', cls=Idx)\n",
    "init_printing(use_latex=True)"
   ]
  },
  {
   "cell_type": "markdown",
   "id": "9e1f6ee0-57fb-4e56-b22d-f9bbb6c9adba",
   "metadata": {},
   "source": [
    "## **Remark**\n",
    "Indices should be defined with care as Python in a standard way starts indices with a 0 while we use 1 in the lecture. Use, e.g., \n",
    "\n",
    "xv = Matrix([x[i] for i in range(1,3)])\n",
    "\n",
    "to generate the state vector $[x_1,x_2]$."
   ]
  },
  {
   "cell_type": "markdown",
   "id": "4b98100a-9f58-4b1f-b866-3ef2b8fd755e",
   "metadata": {},
   "source": [
    "# Example for Lie bracket computation "
   ]
  },
  {
   "cell_type": "code",
   "execution_count": 36,
   "id": "d6cf4dc0-370f-4ade-8828-87b3c4c95d94",
   "metadata": {},
   "outputs": [
    {
     "data": {
      "image/png": "[encoded data removed]",
      "text/latex": [
       "$\\displaystyle \\left[\\begin{matrix}- 2 {x}_{2}\\\\0\\end{matrix}\\right]$"
      ],
      "text/plain": [
       "⎡-2⋅x[2]⎤\n",
       "⎢       ⎥\n",
       "⎣   0   ⎦"
      ]
     },
     "metadata": {},
     "output_type": "display_data"
    }
   ],
   "source": [
    "fv = Matrix([x[2]**2,0])\n",
    "gv = Matrix([0,1])\n",
    "xv = Matrix([x[i] for i in range(1,3)])\n",
    "liebrack = gv.jacobian(xv)*fv-fv.jacobian(xv)*gv\n",
    "display(liebrack)"
   ]
  },
  {
   "cell_type": "markdown",
   "id": "dd0d3bb3-3111-4366-8310-262364eb22ce",
   "metadata": {},
   "source": [
    "# Build functions"
   ]
  },
  {
   "cell_type": "code",
   "execution_count": 37,
   "id": "620f14da-8ca2-4e08-83a7-1569f71a02e4",
   "metadata": {},
   "outputs": [],
   "source": [
    "def LieBracket(f,g,x):\n",
    "    return g.jacobian(x)*f-f.jacobian(x)*g\n",
    "\n",
    "def LieDerv(h,f,x):\n",
    "    return (h.jacobian(x)*f)[0]"
   ]
  },
  {
   "cell_type": "markdown",
   "id": "cc428d3f-e606-4382-b1b5-bfd521d3203c",
   "metadata": {},
   "source": [
    "# Validation"
   ]
  },
  {
   "cell_type": "markdown",
   "id": "3f4d7b61-c9a7-44d0-9a80-fd48380fdd2c",
   "metadata": {},
   "source": [
    "## Lie bracket"
   ]
  },
  {
   "cell_type": "code",
   "execution_count": 38,
   "id": "6fdac1b1-9d69-4e62-9006-d0450e5ed1d6",
   "metadata": {},
   "outputs": [
    {
     "data": {
      "image/png": "[encoded data removed]",
      "text/latex": [
       "$\\displaystyle \\left[\\begin{matrix}- 2 {x}_{2}\\\\0\\end{matrix}\\right]$"
      ],
      "text/plain": [
       "⎡-2⋅x[2]⎤\n",
       "⎢       ⎥\n",
       "⎣   0   ⎦"
      ]
     },
     "metadata": {},
     "output_type": "display_data"
    }
   ],
   "source": [
    "lb_fg = LieBracket(fv,gv,xv)\n",
    "display(lb_fg)"
   ]
  },
  {
   "cell_type": "markdown",
   "id": "d1a9509d-1ea3-4291-9c5c-82e5c17e673f",
   "metadata": {},
   "source": [
    "## Lie derivative"
   ]
  },
  {
   "cell_type": "code",
   "execution_count": 40,
   "id": "9480c709-9902-48c1-8adf-733c4e07633e",
   "metadata": {},
   "outputs": [
    {
     "data": {
      "image/png": "[encoded data removed]",
      "text/latex": [
       "$\\displaystyle e^{- {x}_{2}} \\cos{\\left(e^{- {x}_{2}} {x}_{1} \\right)} {x}_{2}^{2}$"
      ],
      "text/plain": [
       " -x[2]    ⎛ -x[2]     ⎞     2\n",
       "ℯ     ⋅cos⎝ℯ     ⋅x[1]⎠⋅x[2] "
      ]
     },
     "metadata": {},
     "output_type": "display_data"
    }
   ],
   "source": [
    "h = Matrix([sin(x[1]*exp(-x[2]))]) #use Matrix to make attribute jacobian available\n",
    "ld_hf = LieDerv(h,fv,xv)\n",
    "display(ld_hf)"
   ]
  },
  {
   "cell_type": "markdown",
   "id": "877f643c-fe84-437b-b00e-82bc09a5347e",
   "metadata": {},
   "source": [
    "## **Remark**\n",
    "You might want to also check the class **diffgeom** of sympy."
   ]
  },
  {
   "cell_type": "markdown",
   "id": "6ead7f4c-ed81-4f58-a36e-77bf9ef6f1b3",
   "metadata": {},
   "source": [
    "# Working with Lie brackets and distributions\n",
    "## 1. Set up a distribution and check for involutivity"
   ]
  },
  {
   "cell_type": "code",
   "execution_count": 41,
   "id": "258e2c2f-9f0a-4ca6-9406-1b475e51a540",
   "metadata": {},
   "outputs": [],
   "source": [
    "f1 = Matrix([1,0,-x[2],0,x[2]**2])\n",
    "f2 = Matrix([0,1,x[1],x[1]**2,0])\n",
    "xv = Matrix([x[i] for i in range(1,6)])"
   ]
  },
  {
   "cell_type": "code",
   "execution_count": 21,
   "id": "4ed49023-34dc-400b-9d7c-18dddd09e597",
   "metadata": {},
   "outputs": [
    {
     "data": {
      "image/png": "[encoded data removed]",
      "text/latex": [
       "$\\displaystyle \\left[\\begin{matrix}1 & 0\\\\0 & 1\\\\- {x}_{2} & {x}_{1}\\\\0 & {x}_{1}^{2}\\\\{x}_{2}^{2} & 0\\end{matrix}\\right]$"
      ],
      "text/plain": [
       "⎡  1      0  ⎤\n",
       "⎢            ⎥\n",
       "⎢  0      1  ⎥\n",
       "⎢            ⎥\n",
       "⎢-x[2]  x[1] ⎥\n",
       "⎢            ⎥\n",
       "⎢           2⎥\n",
       "⎢  0    x[1] ⎥\n",
       "⎢            ⎥\n",
       "⎢    2       ⎥\n",
       "⎣x[2]     0  ⎦"
      ]
     },
     "metadata": {},
     "output_type": "display_data"
    },
    {
     "data": {
      "image/png": "[encoded data removed]",
      "text/latex": [
       "$\\displaystyle 2$"
      ],
      "text/plain": [
       "2"
      ]
     },
     "execution_count": 21,
     "metadata": {},
     "output_type": "execute_result"
    }
   ],
   "source": [
    "Dist1 = Matrix([f1.T,f2.T]).T\n",
    "display(Dist1)\n",
    "Dist1.rank()"
   ]
  },
  {
   "cell_type": "markdown",
   "id": "31d9b8cb-fcc7-4ca1-9904-b023453f9a5e",
   "metadata": {},
   "source": [
    "### Append Lie bracket between f1 and f2"
   ]
  },
  {
   "cell_type": "code",
   "execution_count": 43,
   "id": "50950b0e-b7c6-4613-bc56-3b483724d0d8",
   "metadata": {},
   "outputs": [
    {
     "data": {
      "image/png": "[encoded data removed]",
      "text/latex": [
       "$\\displaystyle \\left[\\begin{matrix}1 & 0 & 0\\\\0 & 1 & 0\\\\- {x}_{2} & {x}_{1} & 2\\\\0 & {x}_{1}^{2} & 2 {x}_{1}\\\\{x}_{2}^{2} & 0 & - 2 {x}_{2}\\end{matrix}\\right]$"
      ],
      "text/plain": [
       "⎡  1      0       0   ⎤\n",
       "⎢                     ⎥\n",
       "⎢  0      1       0   ⎥\n",
       "⎢                     ⎥\n",
       "⎢-x[2]  x[1]      2   ⎥\n",
       "⎢                     ⎥\n",
       "⎢           2         ⎥\n",
       "⎢  0    x[1]   2⋅x[1] ⎥\n",
       "⎢                     ⎥\n",
       "⎢    2                ⎥\n",
       "⎣x[2]     0    -2⋅x[2]⎦"
      ]
     },
     "metadata": {},
     "output_type": "display_data"
    },
    {
     "data": {
      "image/png": "[encoded data removed]",
      "text/latex": [
       "$\\displaystyle 3$"
      ],
      "text/plain": [
       "3"
      ]
     },
     "execution_count": 43,
     "metadata": {},
     "output_type": "execute_result"
    }
   ],
   "source": [
    "Dist2 = Dist1.col_insert(3,LieBracket(f1,f2,xv))\n",
    "display(Dist2)\n",
    "Dist2.rank()"
   ]
  },
  {
   "cell_type": "markdown",
   "id": "ca968b3a-b81f-4245-89ed-10934c422cf9",
   "metadata": {},
   "source": [
    "Obviously the distribution is **not involutive** as appending the Lie bracket between f1 and f2 increases the dimension. "
   ]
  },
  {
   "cell_type": "markdown",
   "id": "81667cd4-0045-4dc6-96eb-17d08ee3362d",
   "metadata": {},
   "source": [
    "## 2. Analyse controllability assuming that f1 and f2 refer to the input vector fields of a nonlinear system without drift vector field (see Example 3.2 of the lecture notes)"
   ]
  },
  {
   "cell_type": "markdown",
   "id": "413ba2ed-8e3d-49a1-808e-68c0056b7823",
   "metadata": {},
   "source": [
    "### Set up controllability distribution (manually)"
   ]
  },
  {
   "cell_type": "code",
   "execution_count": 44,
   "id": "fc8b284d-fafd-46c9-baf0-c0ba761b15f0",
   "metadata": {},
   "outputs": [],
   "source": [
    "lb12 = LieBracket(f1,f2,xv)\n",
    "lb112 = LieBracket(f1,lb12,xv)\n",
    "lb212 = LieBracket(f2,lb12,xv)"
   ]
  },
  {
   "cell_type": "code",
   "execution_count": 45,
   "id": "666a3f50-7cb4-4469-8705-6d6268356bdd",
   "metadata": {},
   "outputs": [
    {
     "data": {
      "image/png": "[encoded data removed]",
      "text/latex": [
       "$\\displaystyle \\left[\\begin{matrix}1 & 0 & 0 & 0 & 0\\\\0 & 1 & 0 & 0 & 0\\\\- {x}_{2} & {x}_{1} & 2 & 0 & 0\\\\0 & {x}_{1}^{2} & 2 {x}_{1} & 2 & 0\\\\{x}_{2}^{2} & 0 & - 2 {x}_{2} & 0 & -2\\end{matrix}\\right]$"
      ],
      "text/plain": [
       "⎡  1      0       0     0  0 ⎤\n",
       "⎢                            ⎥\n",
       "⎢  0      1       0     0  0 ⎥\n",
       "⎢                            ⎥\n",
       "⎢-x[2]  x[1]      2     0  0 ⎥\n",
       "⎢                            ⎥\n",
       "⎢           2                ⎥\n",
       "⎢  0    x[1]   2⋅x[1]   2  0 ⎥\n",
       "⎢                            ⎥\n",
       "⎢    2                       ⎥\n",
       "⎣x[2]     0    -2⋅x[2]  0  -2⎦"
      ]
     },
     "metadata": {},
     "output_type": "display_data"
    }
   ],
   "source": [
    "DistContr = (BlockMatrix([f1,f2,lb12,lb112,lb212])).as_explicit()\n",
    "display(DistContr)"
   ]
  },
  {
   "cell_type": "code",
   "execution_count": 46,
   "id": "ae4c0680-56fc-44cf-8ea7-7137e5c670b3",
   "metadata": {},
   "outputs": [
    {
     "data": {
      "image/png": "[encoded data removed]",
      "text/latex": [
       "$\\displaystyle 5$"
      ],
      "text/plain": [
       "5"
      ]
     },
     "execution_count": 46,
     "metadata": {},
     "output_type": "execute_result"
    }
   ],
   "source": [
    "DistContr.rank()"
   ]
  },
  {
   "cell_type": "markdown",
   "id": "089d69ce-2d40-4dce-9977-799d3af118a3",
   "metadata": {},
   "source": [
    "According to Theorem 3.1 the system $\\dot{\\mathbf{x}}=\\mathbf{f}_1u_1+\\mathbf{f}_2 u_2$ is locally controllable. "
   ]
  }
 ],
 "metadata": {
  "kernelspec": {
   "display_name": "Python 3 (ipykernel)",
   "language": "python",
   "name": "python3"
  },
  "language_info": {
   "codemirror_mode": {
    "name": "ipython",
    "version": 3
   },
   "file_extension": ".py",
   "mimetype": "text/x-python",
   "name": "python",
   "nbconvert_exporter": "python",
   "pygments_lexer": "ipython3",
   "version": "3.11.6"
  }
 },
 "nbformat": 4,
 "nbformat_minor": 5
}
