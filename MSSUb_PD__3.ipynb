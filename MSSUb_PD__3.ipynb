{
  "cells": [
    {
      "cell_type": "markdown",
      "metadata": {},
      "source": [
        "<div style=\"text-align:center\">Marco Seiz, Andreas Prahs, Anastasia August<br>\n",
        "KIT, Institut f\u00fcr Angewandte Materialien (IAM)<br>\n",
        "Mikrostrukturmodellierung und Simulation (MMS)\n",
        "</div>\n",
        "<h1>Mikrostruktursimulation <br/>Rechner\u00fcbung Berechnung von Phasendiagrammen WS 22/23</h1>"
      ]
    },
    {
      "cell_type": "code",
      "execution_count": null,
      "metadata": {},
      "outputs": [],
      "source": [
        "%matplotlib notebook\n",
        "import matplotlib.pyplot as plt\n",
        "import matplotlib as mpl\n",
        "import math\n",
        "import numpy as np\n",
        "from sympy import *\n",
        "import time\n",
        "from scipy.optimize import fsolve\n",
        "from ipywidgets import interact, interactive, fixed, interact_manual\n",
        "import ipywidgets as widgets\n",
        "init_printing()\n",
        "mpl.rcParams.update({'font.size': 16})\n",
        "mpl.rcParams['figure.figsize'] = (9,6)\n",
        "mpl.rcParams['axes.grid'] = True\n",
        "import warnings\n",
        "from matplotlib import MatplotlibDeprecationWarning\n",
        "warnings.filterwarnings('ignore', category=MatplotlibDeprecationWarning)\n"
      ]
    },
    {
      "cell_type": "code",
      "execution_count": null,
      "metadata": {},
      "outputs": [],
      "source": [
        "R_val = 8.314 # universelle Gaskonstante\n",
        "T_M_A_alpha_val = .8\n",
        "T_M_B_alpha_val = 1.25\n",
        "T_M_A_beta_val = 1.2\n",
        "T_M_B_beta_val = .75\n",
        "L_A_alpha_val = 60\n",
        "L_B_alpha_val = 60\n",
        "L_A_beta_val = 80\n",
        "L_B_beta_val = 25\n",
        "T_low_val = .6\n",
        "T_high_val = 1.4\n",
        "\n",
        "R = symbols('R', real=True)\n",
        "T_M_A_alpha = symbols('T_{MA\\\\alpha}', real=True, positive=True)\n",
        "T_M_B_alpha = symbols('T_{MB\\\\alpha}', real=True, positive=True)\n",
        "T_M_A_beta = symbols('T_{MA\\\\beta}', real=True, positive=True)\n",
        "T_M_B_beta = symbols('T_{MB\\\\beta}', real=True, positive=True)\n",
        "L_A_alpha = symbols('L_{A\\\\alpha}', real=True, positive=True)\n",
        "L_B_alpha = symbols('L_{B\\\\alpha}', real=True, positive=True)\n",
        "L_A_beta = symbols('L_{A\\\\beta}', real=True, positive=True)\n",
        "L_B_beta = symbols('L_{B\\\\beta}', real=True, positive=True)\n",
        "T_low = symbols('T_{\\\\text{low}}', real=True, positive=True)\n",
        "T_high = symbols('T_{\\\\text{high}}', real=True, positive=True)\n",
        "x = symbols('x', real=True, positive=True)\n",
        "T = symbols('T', real=True, positive=True)\n",
        "xlab = \"$x_A$ bzw. $1-x_B$\"\n",
        "\n",
        "def subs_constants(expr):\n",
        "    return (expr.subs(R, R_val)\n",
        "                .subs(T_M_A_alpha,T_M_A_alpha_val)\n",
        "                .subs(T_M_B_alpha,T_M_B_alpha_val)\n",
        "                .subs(T_M_A_beta, T_M_A_beta_val)\n",
        "                .subs(T_M_B_beta, T_M_B_beta_val)\n",
        "                .subs(L_A_alpha, L_A_alpha_val)\n",
        "                .subs(L_B_alpha, L_B_alpha_val)\n",
        "                .subs(L_A_beta, L_A_beta_val)\n",
        "                .subs(L_B_beta, L_B_beta_val)\n",
        "                .subs(T_low, T_low_val)\n",
        "                .subs(T_high, T_high_val))"
      ]
    },
    {
      "cell_type": "markdown",
      "metadata": {},
      "source": [
        "<h3>Aufgabe 1a)<br/>\n",
        "Gibbsenergiegleichungen\n",
        "</h3>"
      ]
    },
    {
      "cell_type": "markdown",
      "metadata": {},
      "source": [
        "Es liegt ein Gemisch aus den Komponenten A und B vor, bei dem die drei Phasen $L$, $\\alpha$, und $\\beta$  beobachtet werden.\n",
        "Weiterhin sind die Gibbsenergiekurven der drei Phasen als Funktion des Stoffmengenanteils $x_A = x$ und der Temperatur $T$ bekannt. Visualisieren Sie die Gibbsenergien f\u00fcr verschiedene Temperaturen und stellen Sie eine Hypothese auf, wie das Phasendiagramm aussehen wird.\n",
        "\n"
      ]
    },
    {
      "cell_type": "code",
      "execution_count": null,
      "metadata": {},
      "outputs": [],
      "source": [
        "# Gibbs-Energie der fl\u00fcssigen Phase\n",
        "G_L = R*T*(x*ln(x)+(1-x)*ln(1-x))\n",
        "G_L_f = lambdify([x, T], subs_constants(G_L))\n",
        "display(G_L)"
      ]
    },
    {
      "cell_type": "code",
      "execution_count": null,
      "metadata": {},
      "outputs": [],
      "source": [
        "# Gibbs-Energie der Phasen alpha, beta\n",
        "G_alpha = R*T*(x*ln(x)+(1-x)*ln(1-x))-x*L_A_alpha*(T_M_A_alpha-T)/T_M_A_alpha-(1-x)*L_B_alpha*(T_M_B_alpha-T)/T_M_B_alpha\n",
        "G_alpha_f = lambdify([x, T], subs_constants(G_alpha))\n",
        "display(G_alpha)"
      ]
    },
    {
      "cell_type": "code",
      "execution_count": null,
      "metadata": {},
      "outputs": [],
      "source": [
        "G_beta = R*T*(x*ln(x)+(1-x)*ln(1-x))-x*L_A_beta*(T_M_A_beta-T)/T_M_A_beta-(1-x)*L_B_beta*(T_M_B_beta-T)/T_M_B_beta\n",
        "G_beta_f = lambdify([x, T], subs_constants(G_beta))\n",
        "display(G_beta)"
      ]
    },
    {
      "cell_type": "code",
      "execution_count": null,
      "metadata": {
        "scrolled": false
      },
      "outputs": [],
      "source": [
        "xx = np.arange(.001,.999,.005)\n",
        "Galpha = [subs_constants(G_alpha).subs(T,1.2).subs(x,xi) for xi in xx]\n",
        "Gbeta = [subs_constants(G_beta).subs(T,1.2).subs(x,xi) for xi in xx]\n",
        "GL = [subs_constants(G_L).subs(T,1.2).subs(x,xi) for xi in xx]\n",
        "fig_Diff, ax_Diff = plt.subplots()\n",
        "lineGa, = ax_Diff.plot(xx, Galpha, label=r\"$G_\\alpha$\")\n",
        "lineGb, = ax_Diff.plot(xx, Gbeta, label=r\"$G_\\beta$\")\n",
        "lineGL, = ax_Diff.plot(xx, GL, label=\"$G_L$\")\n",
        "ax_Diff.set_xlabel(xlab)\n",
        "ax_Diff.set_ylabel(\"$G$\")\n",
        "ax_Diff.legend()\n",
        "fig_Diff.canvas.draw()\n",
        "\n",
        "def gibbsplot(T_val):\n",
        "    Galpha = [G_alpha_f(xi, T_val) for xi in xx]\n",
        "    Gbeta = [G_beta_f(xi, T_val)  for xi in xx]\n",
        "    GL = [G_L_f(xi, T_val)  for xi in xx]\n",
        "    lineGa.set_ydata(Galpha)\n",
        "    lineGb.set_ydata(Gbeta)\n",
        "    lineGL.set_ydata(GL)\n",
        "    ymax = max(np.max(Galpha), np.max(Gbeta), np.max(GL))*1.05\n",
        "    ymin = min(np.min(Galpha), np.min(Gbeta), np.min(GL))*1.05\n",
        "    ax_Diff.set_ylim([ymin, ymax])\n",
        "    ax_Diff.legend()\n",
        "    fig_Diff.canvas.draw()"
      ]
    },
    {
      "cell_type": "code",
      "execution_count": null,
      "metadata": {},
      "outputs": [],
      "source": [
        "interact(gibbsplot, T_val=widgets.BoundedFloatText(min=T_low_val, max=T_high_val, step=.05, value=1.2))"
      ]
    },
    {
      "cell_type": "markdown",
      "metadata": {},
      "source": [
        "<h3>Aufgabe 1b)<br/>\n",
        "Gleichgewichtsberechnung f\u00fcr ein Dreiphasengleichgewicht\n",
        "</h3>"
      ]
    },
    {
      "cell_type": "markdown",
      "metadata": {},
      "source": [
        "\u00dcberpr\u00fcfen Sie, ob f\u00fcr das System eine eutektische Reaktion  vorliegt.  Diese ist in bin\u00e4ren Systemen dadurch definiert, dass bei der eutektischen Temperatur die Fl\u00fcssigphase mit beiden Festphasen im Gleichgewicht vorliegt und darunter in diese beiden Phasen zerf\u00e4llt, oder in kurz: $L \\to \\alpha + \\beta$\n",
        "\n",
        "Gehen Sie hierzu wie folgt vor: Definieren Sie zun\u00e4chst die vier n\u00f6tigen Gleichgewichtsbedingungen zwischen den drei Phasen. L\u00f6sen Sie diese danach mit dem nsolve-Befehl. Sch\u00e4tzen Sie die Startwerte (initialvalues) f\u00fcr die eutektischte Temperatur und den Konzentrationen in den einzelnen Phasen mit Hilfe des Gibbsenergiediagramms ab.\n",
        "\n",
        "\n",
        "Hinweis: Alle verwendeten Konstanten k\u00f6nnen in einen Ausdruck mit Hilfe von subs_constants(Ausdruck) eingesetzt werden."
      ]
    },
    {
      "cell_type": "code",
      "execution_count": null,
      "metadata": {},
      "outputs": [],
      "source": [
        "# Chemisches Potential der Phasen. Ableitungen der Gibbs Energien nach der Konzentration\n",
        "dG_L_dx = diff(G_L,x)\n",
        "display(dG_L_dx)\n",
        "dG_alpha_dx = diff(G_alpha,x)\n",
        "display(dG_alpha_dx)\n",
        "dG_beta_dx = diff(G_beta,x)\n",
        "display(dG_beta_dx)"
      ]
    },
    {
      "cell_type": "code",
      "execution_count": null,
      "metadata": {},
      "outputs": [],
      "source": [
        "# Aufstellen der Gleichgewichte bei der eutektische Temperatur T_E\n",
        "x_L = symbols('x_L', real=True, positive=True)\n",
        "x_alpha = symbols(r'x_\\alpha', real=True, positive=True)\n",
        "x_beta = symbols(r'x_\\beta', real=True, positive=True)\n",
        "T_E = symbols('T_E', real=True, positive=True)\n",
        "#die Reihenfolge der Gleichungen spielt keine Rolle, es m\u00fcssen nur zwei Doppeltangenten vorliegen \n",
        "Gleichung1 = \n",
        "display(Gleichung1)\n",
        "Gleichung2 = \n",
        "display(Gleichung2)\n",
        "Gleichung3 = \n",
        "display(Gleichung3)\n",
        "Gleichung4 = \n",
        "display(Gleichung4)\n"
      ]
    },
    {
      "cell_type": "code",
      "execution_count": null,
      "metadata": {},
      "outputs": [],
      "source": [
        "eqs = [Gleichung1, Gleichung2, Gleichung3, Gleichung4 ]\n",
        "subs_eqs = [subs_constants(x) for x in eqs]\n",
        "unknowns = [T_E, x_L, x_alpha, x_beta] # die Reihenfolge hier gibt die Reihenfolge f\u00fcr die Startwerte vor!\n",
        "# also: zuerst eutektische Temperatur, dann jeweils die Konzentration in der Schmelze, alpha und beta\n",
        "# initivalues ist ebenso eine Liste, also [sch\u00e4tzung f\u00fcr T_e, sch\u00e4tzung f\u00fcr x_L, ...]\n",
        "initialvalues = \n",
        "\n"
      ]
    },
    {
      "cell_type": "code",
      "execution_count": null,
      "metadata": {},
      "outputs": [],
      "source": [
        "subs_eqs # hier sollten nur noch die Unbekannten aus unknowns vorkommen"
      ]
    },
    {
      "cell_type": "code",
      "execution_count": null,
      "metadata": {},
      "outputs": [],
      "source": [
        "sol = nsolve(subs_eqs,unknowns,initialvalues)\n",
        "display(sol)"
      ]
    },
    {
      "cell_type": "code",
      "execution_count": null,
      "metadata": {},
      "outputs": [],
      "source": [
        "Te = sol[0]\n",
        "xle = sol[1]\n",
        "xae = sol[2]\n",
        "xbe = sol[3]\n",
        "Te_val = float(Te)"
      ]
    },
    {
      "cell_type": "markdown",
      "metadata": {},
      "source": [
        "<h3>Aufgabe 1c)<br/>\n",
        "Tangentengleichung\n",
        "</h3>"
      ]
    },
    {
      "cell_type": "markdown",
      "metadata": {},
      "source": [
        "Stellen Sie nun die Tangente, die aus dem obigen Gleichgewicht folgt, graphisch dar. \n",
        "Nutzen Sie hierzu eine Gibbsenergiefunktion Ihrer Wahl sowie deren Ableitung und setzen Sie die Informationen des Dreiphasengleichgewichts via .subs() ein.\n",
        "\n",
        "Welche Bedeutung hat der Schnittpunkt der Tangente mit den schwarzen Linien bei x=0 und x=1? Warum ist es unerheblich welche Phase zur Berechnung der Tangente genutzt wird?\n",
        "\n"
      ]
    },
    {
      "cell_type": "code",
      "execution_count": null,
      "metadata": {},
      "outputs": [],
      "source": [
        "Tangente = \n",
        "display(Tangente) "
      ]
    },
    {
      "cell_type": "code",
      "execution_count": null,
      "metadata": {},
      "outputs": [],
      "source": [
        "fig_GTE, ax_GTE = plt.subplots()\n",
        "ax_GTE.set_xlabel(xlab)\n",
        "ax_GTE.set_ylabel(\"G\")\n",
        "\n",
        "xx = np.arange(.001,.999,.005)\n",
        "G_alpha_plot = [subs_constants(G_alpha).subs(T,Te).subs(x,xi) for xi in xx]\n",
        "ax_GTE.plot(xx,G_alpha_plot, label='$G_\\\\alpha$')\n",
        "G_beta_plot = [subs_constants(G_beta).subs(T,Te).subs(x,xi) for xi in xx]\n",
        "ax_GTE.plot(xx,G_beta_plot, label='$G_\\\\beta$')\n",
        "G_L_plot = [subs_constants(G_L).subs(T,Te).subs(x,xi) for xi in xx]\n",
        "ax_GTE.plot(xx,G_L_plot, label='$G_L$')\n",
        "Tangente_plot = [Tangente.subs(x,xi) for xi in xx]\n",
        "ax_GTE.plot(xx,Tangente_plot, label='Tangente')\n",
        "ax_GTE.plot(xae, subs_constants(G_alpha).subs(x,xae).subs(T,Te),'x', label='$x_\\\\alpha$  bei $T_E$')\n",
        "ax_GTE.plot(xbe, subs_constants(G_beta).subs(x,xbe).subs(T,Te),'x', label='$x_\\\\beta$ bei $T_E$')\n",
        "ax_GTE.plot(xle, subs_constants(G_L).subs(x,xle).subs(T,Te),'x', label='$x_L$ bei $T_E$')\n",
        "ax_GTE.axvline(0, color='black')\n",
        "ax_GTE.axvline(1, color='black')\n",
        "ax_GTE.legend(ncol=2)"
      ]
    },
    {
      "cell_type": "markdown",
      "metadata": {},
      "source": [
        "<h3>Aufgabe 1d)<br/>\n",
        "Gleichgewichtsberechnung f\u00fcr die Fest-Fl\u00fcssig Phasenpaare\n",
        "</h3>"
      ]
    },
    {
      "cell_type": "markdown",
      "metadata": {},
      "source": [
        "Es soll nun das komplette Phasendiagramm berechnet werden. Berechnen Sie zun\u00e4chst die Gleichgewichtspunkte aller Phasenpaare, in denen die fl\u00fcssige Phase existiert. Beschriften Sie auch die Phasenbereiche in der Darstellung der einzelnen Phasenpaare.\n",
        "\n",
        "Die Funktion calc_eq berechnet die Gleichgewichtskonzentrationen bei der gegebenen Temperatur f\u00fcr die Gibbsenergiefunktionen der Phasen."
      ]
    },
    {
      "cell_type": "code",
      "execution_count": null,
      "metadata": {},
      "outputs": [],
      "source": [
        "Num_Temp=25"
      ]
    },
    {
      "cell_type": "code",
      "execution_count": null,
      "metadata": {},
      "outputs": [],
      "source": [
        "def calc_eq(Tval, G1expr, G2expr, mu1expr, mu2expr, x1sym, x2sym, x1ini, x2ini):\n",
        "    Rsol = []\n",
        "    if x1ini not in [0, 1.0] and x2ini not in [0, 1.0]:\n",
        "        gleichung1 = subs_constants(simplify((mu1expr.subs(x,x1sym) - mu2expr.subs(x,x2sym)).subs(T,Tval)))\n",
        "        gleichung2 = subs_constants(simplify(((G1expr+mu1expr*(x2sym-x1sym)).subs(x,x1sym) - G2expr.subs(x,x2sym))).subs(T,Tval))\n",
        "        sol = nsolve([gleichung1, gleichung2], [x1sym, x2sym], [x1ini, x2ini])\n",
        "\n",
        "        for solx in sol:\n",
        "            if im(solx) != 0:\n",
        "                Rsol.append(min(max(re(solx), 0), 1.0))\n",
        "            else: Rsol.append(solx)\n",
        "    else:\n",
        "        Rsol.append(x1ini)\n",
        "        Rsol.append(x2ini)\n",
        "    return Rsol[0], Rsol[1]"
      ]
    },
    {
      "cell_type": "code",
      "execution_count": null,
      "metadata": {},
      "outputs": [],
      "source": [
        "# Beispielaufruf: Bei der Temperatur 1.24 sollen die Gleichgewichte xla (Liquidus) und xal (Solidus)\n",
        "# zwischen der Schmelze L und der Festphase alpha berechnet werden. Da 1.24 nah am Schmelzpunkt von reinem A liegt,\n",
        "# werden die Startwerte f\u00fcr das numerische Verfahren am linken Rand des Phasendiagramms gew\u00e4hlt.\n",
        "xla = symbols(r'x_{L\\alpha}',real=True, positive=True)\n",
        "xal = symbols(r'x_{\\alpha\\ L}', real=True, positive=True)\n",
        "calc_eq(1.24, G_L, G_alpha, dG_L_dx, dG_alpha_dx, xla, xal, 0.2, 0.01)"
      ]
    },
    {
      "cell_type": "code",
      "execution_count": null,
      "metadata": {},
      "outputs": [],
      "source": [
        "# Gleichgewicht alpha-liquid\n",
        "xla = symbols('x_{L\\\\alpha}',real=True, positive=True)\n",
        "xal = symbols('x_{\\\\alpha\\ L}', real=True, positive=True)\n",
        "\n",
        "#x_aL_val, x_L1_val = calc_xaL_xL1(1.2)\n",
        "#print(\"x_aL=\",x_aL_val,\" x_L1=\",x_L1_val)\n",
        "Solidus_aL=[]\n",
        "Solidus_aT=[]\n",
        "Liquidus_La=[]\n",
        "Liquidus_Ta=[]\n",
        "\n",
        "xla_val = 0.9\n",
        "xal_val = 0.8\n",
        "Tlow = min(T_M_A_alpha_val, T_M_B_alpha_val)\n",
        "Thigh =  max(T_M_A_alpha_val, T_M_B_alpha_val)\n",
        "for Ti in range(1,Num_Temp):\n",
        "    T_val = Tlow-(Tlow-Thigh)*Ti/(Num_Temp+1)\n",
        "    xla_val, xal_val = calc_eq(\n",
        "        T_val, G_L, G_alpha, dG_L_dx, dG_alpha_dx,\n",
        "        xla, xal, xla_val, xal_val) \n",
        "    print(\"T=%f\"%T_val,\"x_aL=\",xal_val,\" x_L1=\",xla_val)\n",
        "    Solidus_aL.append(xal_val)\n",
        "    Solidus_aT.append(T_val)\n",
        "    Liquidus_La.append(xla_val)\n",
        "    Liquidus_Ta.append(T_val)\n",
        "    \n",
        "Solidus_aL=np.array(Solidus_aL)\n",
        "Solidus_aT=np.array(Solidus_aT)\n",
        "Liquidus_La=np.array(Liquidus_La)\n",
        "Liquidus_Ta=np.array(Liquidus_Ta)\n",
        "    \n"
      ]
    },
    {
      "cell_type": "code",
      "execution_count": null,
      "metadata": {},
      "outputs": [],
      "source": [
        "fig_SL1, ax_SL1 = plt.subplots()\n",
        "ax_SL1.set_xlabel(xlab)\n",
        "ax_SL1.set_ylabel(\"T\")\n",
        "ax_SL1.plot(Solidus_aL, Solidus_aT, '-xb', label=r'Solidus $\\alpha$L')\n",
        "ax_SL1.plot(Liquidus_La, Liquidus_Ta, '-xr', label=r'Liquidus L$\\alpha$')\n",
        "ax_SL1.legend()\n",
        "#ax_SL1.text(0.5, 0.95 ,r\"Beispiel $\\gamma^2$\",fontsize=25) # x, y wie im Koordinatensystem, gefolgt vom Text\n"
      ]
    },
    {
      "cell_type": "code",
      "execution_count": null,
      "metadata": {},
      "outputs": [],
      "source": [
        "xbl = symbols(r'x_{\\beta\\ L}',real=True, positive=True)\n",
        "xlb = symbols(r'x_{L\\beta}', real=True, positive=True)\n",
        "Solidus_bL=[]\n",
        "Solidus_bT=[]\n",
        "Liquidus_Lb=[]\n",
        "Liquidus_Tb=[]\n",
        "\n",
        "xlb_val = 0.01\n",
        "xbl_val = 0.1\n",
        "Tlow = min(T_M_A_beta_val, T_M_B_beta_val) \n",
        "Thigh =  max(T_M_A_beta_val, T_M_B_beta_val) \n",
        "for Ti in range(1,Num_Temp):\n",
        "    T_val = Tlow-(Tlow-Thigh)*Ti/(Num_Temp+1)\n",
        "    xlb_val, xbl_val = calc_eq(\n",
        "        T_val, G_L, G_beta, dG_L_dx, dG_beta_dx,\n",
        "        xlb, xbl, xlb_val, xbl_val) \n",
        "    print(\"T=%f\"%T_val,\"x_bL=\",xbl_val,\" x_Lb=\",xlb_val)\n",
        "    Solidus_bL.append(xbl_val)\n",
        "    Solidus_bT.append(T_val)\n",
        "    Liquidus_Lb.append(xlb_val)\n",
        "    Liquidus_Tb.append(T_val)\n",
        "    \n",
        "    \n",
        "Solidus_bL=np.array(Solidus_bL)\n",
        "Solidus_bT=np.array(Solidus_bT)\n",
        "Liquidus_Lb=np.array(Liquidus_Lb)\n",
        "Liquidus_Tb=np.array(Liquidus_Tb)"
      ]
    },
    {
      "cell_type": "code",
      "execution_count": null,
      "metadata": {},
      "outputs": [],
      "source": [
        "fig_SL2, ax_SL2 = plt.subplots()\n",
        "ax_SL2.set_xlabel(\"$x_A$ bzw. 1-$x_B$\")\n",
        "ax_SL2.set_ylabel(\"T\")\n",
        "ax_SL2.plot(Solidus_bL, Solidus_bT, '-xk', label=r'Solidus $\\beta$L')\n",
        "ax_SL2.plot(Liquidus_Lb, Liquidus_Tb, '-xm', label=r'Liquidus $L\\beta$')\n",
        "ax_SL2.legend()\n",
        "#ax_SL2.text(0.4, 1.06 ,r\"Beispiel $\\gamma^2$\",fontsize=25) # x, y wie im Koordinatensystem, gefolgt vom Text\n"
      ]
    },
    {
      "cell_type": "code",
      "execution_count": null,
      "metadata": {},
      "outputs": [],
      "source": [
        "fig_SL12, ax_SL12 = plt.subplots()\n",
        "ax_SL12.set_xlabel(xlab)\n",
        "ax_SL12.set_ylabel(\"T\")\n",
        "ax_SL12.plot(Solidus_aL, Solidus_aT, '-xb', label=r'Solidus $\\alpha$L')\n",
        "ax_SL12.plot(Liquidus_La, Liquidus_Ta, '-xr', label=r'Liquidus $L\\alpha$')\n",
        "ax_SL12.plot(Solidus_bL, Solidus_bT, '-ok', label=r'Solidus $\\beta$L')\n",
        "ax_SL12.plot(Liquidus_Lb, Liquidus_Tb, '-om', label=r'Liquidus $L\\beta$')\n",
        "ax_SL12.axvline(0, color='black')\n",
        "ax_SL12.axvline(1, color='black')\n",
        "ax_SL12.legend(ncol=2)"
      ]
    },
    {
      "cell_type": "markdown",
      "metadata": {},
      "source": [
        "Was impliziert der Schnittpunkt der Liquiduskurven? Warum kann dieselbe Argumentation nicht f\u00fcr den Schnittpunkt der Soliduskurven angewandt werden?\n",
        "\n",
        "\n"
      ]
    },
    {
      "cell_type": "markdown",
      "metadata": {},
      "source": [
        "<h3>Aufgabe 1e)<br/>\n",
        "Gleichgewichtsberechnung f\u00fcr die Fest-Fest Phasenpaare\n",
        "</h3>"
      ]
    },
    {
      "cell_type": "code",
      "execution_count": null,
      "metadata": {},
      "outputs": [],
      "source": [
        "xab = symbols(r'x_{\\alpha\\ \\beta}',real=True, positive=True)\n",
        "xba = symbols(r'x_{\\beta\\ \\alpha}', real=True, positive=True)\n",
        "    \n",
        "Solvus_ab=[]\n",
        "Solvus_ba=[]\n",
        "Solvus_abT=[]\n",
        "Solvus_baT=[]\n",
        "Num_Temp2 = Num_Temp\n",
        "Num_Temp = 15\n",
        "\n",
        "# A ist links, B ist rechts\n",
        "xab_val = 0.1\n",
        "xba_val = 0.9\n",
        "Thigh = Te + 0.05\n",
        "Tlow = Te-0.05\n",
        "for Ti in range(1,Num_Temp):\n",
        "    T_val = Tlow-(Tlow-Thigh)*Ti/(Num_Temp+1)\n",
        "    xab_val, xba_val = calc_eq(\n",
        "        T_val, G_alpha, G_beta, dG_alpha_dx, dG_beta_dx,\n",
        "        xab, xba, xab_val, xba_val) \n",
        "    print(\"T=%f\"%T_val,\"x_ab=\",xab_val,\" x_ba=\",xba_val)\n",
        "    Solvus_ab.append(xab_val)\n",
        "    Solvus_abT.append(T_val)\n",
        "    Solvus_ba.append(xba_val)\n",
        "    Solvus_baT.append(T_val)\n",
        "    \n",
        "Solvus_ab=np.array(Solvus_ab)\n",
        "Solvus_ba=np.array(Solvus_ba)\n",
        "Solvus_abT=np.array(Solvus_abT)\n",
        "Solvus_baT=np.array(Solvus_baT)\n",
        "Num_Temp = Num_Temp2\n"
      ]
    },
    {
      "cell_type": "code",
      "execution_count": null,
      "metadata": {},
      "outputs": [],
      "source": [
        "fig_Sol, ax_Sol = plt.subplots()\n",
        "ax_Sol.set_xlabel(\"$x_A$ bzw. 1-$x_B$\")\n",
        "ax_Sol.set_ylabel(\"T\")\n",
        "ax_Sol.plot(Solvus_ab, Solvus_abT, 'vc', label=r'Solvus $\\alpha \\to \\alpha+\\beta$')\n",
        "ax_Sol.plot(Solvus_ba, Solvus_baT, '^c', label=r'Solvus $\\beta \\to \\alpha+\\beta$')\n",
        "ax_Sol.legend()"
      ]
    },
    {
      "cell_type": "code",
      "execution_count": null,
      "metadata": {},
      "outputs": [],
      "source": [
        "fig_all, ax_all = plt.subplots(figsize=(10,9))\n",
        "ax_all.set_xlabel(xlab)\n",
        "ax_all.set_ylabel(\"T\")\n",
        "ax_all.plot(Solidus_aL, Solidus_aT, '-xb', label=r'Solidus $\\alpha$L')\n",
        "ax_all.plot(Liquidus_La, Liquidus_Ta, '-xr', label=r'Liquidus $L\\alpha$')\n",
        "ax_all.plot(Solidus_bL, Solidus_bT, '-ok', label=r'Solidus $\\beta$L')\n",
        "ax_all.plot(Liquidus_Lb, Liquidus_Tb, '-om', label=r'Liquidus $L\\beta$')\n",
        "ax_all.plot(Solvus_ab, Solvus_abT, '-vc', label=r'Solvus $\\alpha \\to \\alpha+\\beta$')\n",
        "ax_all.plot(Solvus_ba, Solvus_baT, '-^c', label=r'Solvus $\\beta \\to \\alpha+\\beta$')\n",
        "ax_all.legend(loc='lower left', bbox_to_anchor= (0.0, 1.01), ncol=3)\n",
        "ax_all.axvline(0, color='black')\n",
        "ax_all.axvline(1, color='black')"
      ]
    },
    {
      "cell_type": "markdown",
      "metadata": {},
      "source": [
        "<h3>Aufgabe 1f)<br/>\n",
        "Stabiles Phasendiagramm\n",
        "</h3>"
      ]
    },
    {
      "cell_type": "markdown",
      "metadata": {},
      "source": [
        "Bestimmen Sie nun aufgrund der vorhergehenden Aufgaben das stabile Phasendiagramm und stellen Sie dieses dar.\n",
        "\n",
        "Sie k\u00f6nnen die Ergebnisse filtern, indem sie eine Bedingung als Index verwenden. Als Bedingung k\u00f6nnen sie direkt einen Vergleich zwischen einem Array und einer Zahl benutzen, die Zahl wird dann gegen jedes Element des Arrays verglichen. Im folgenden Beispiel werden nur die Elemente von Solidus_bL ausgegeben, bei denen an der selben Stelle die Solidustemperatur Solidus_bT gr\u00f6\u00dfer oder gleich 1.1 ist.\n",
        "\n",
        "Hinweis: Die eutektische Temperatur ist in der Variablen Te_val verf\u00fcgbar."
      ]
    },
    {
      "cell_type": "code",
      "execution_count": null,
      "metadata": {},
      "outputs": [],
      "source": [
        "Solidus_bL[Solidus_bT >= 1.1]"
      ]
    },
    {
      "cell_type": "code",
      "execution_count": null,
      "metadata": {},
      "outputs": [],
      "source": [
        "Solidus_stab_bL = Solidus_bL[\n",
        "Solidus_stab_bT = Solidus_bT[\n",
        "Solidus_stab_aL = Solidus_aL[\n",
        "Solidus_stab_aT = Solidus_aT[\n",
        "\n",
        "Liquidus_stab_Lb = Liquidus_Lb[\n",
        "Liquidus_stab_Tb = Liquidus_Tb[\n",
        "Liquidus_stab_La = Liquidus_La[\n",
        "Liquidus_stab_Ta = Liquidus_Ta[\n",
        "\n",
        "Solvus_stab_ab = Solvus_ab[\n",
        "Solvus_stab_ba = Solvus_ba[\n",
        "Solvus_stab_abT = Solvus_abT[\n",
        "Solvus_stab_baT = Solvus_baT[\n",
        "\n"
      ]
    },
    {
      "cell_type": "code",
      "execution_count": null,
      "metadata": {},
      "outputs": [],
      "source": [
        "fig_all, ax_all = plt.subplots(figsize=(10,10))\n",
        "ax_all.set_xlabel(xlab)\n",
        "ax_all.set_ylabel(\"T\")\n",
        "ax_all.plot(Solidus_stab_aL, Solidus_stab_aT, '-ob',  label=r'Solidus $\\alpha$L')\n",
        "ax_all.plot(Liquidus_stab_La, Liquidus_stab_Ta, '-or', label=r'Liquidus $L\\alpha$')\n",
        "ax_all.plot(Solidus_stab_bL, Solidus_stab_bT, '-xk', label=r'Solidus $\\beta$L')\n",
        "ax_all.plot(Liquidus_stab_Lb, Liquidus_stab_Tb, '-xm', label=r'Liquidus $L\\beta$')\n",
        "\n",
        "ax_all.plot(Solvus_stab_ab, Solvus_stab_abT, '-vc', label=r'Solvus $\\alpha \\to \\alpha+\\beta$')\n",
        "ax_all.plot(Solvus_stab_ba, Solvus_stab_baT, '-^c', label=r'Solvus $\\beta \\to \\alpha+\\beta$')\n",
        "ax_all.hlines(float(Te), float(xae), float(xbe), label=\"Eutektikale\", color=\"black\") \n",
        "ax_all.legend(loc='lower left', bbox_to_anchor= (0.0, 1.01), ncol=3)\n",
        "fig_all.tight_layout()\n",
        "ax_all.axvline(0, color='black')\n",
        "ax_all.axvline(1, color='black')\n",
        "fig_all.savefig(\"phasendiagramm.pdf\")"
      ]
    },
    {
      "cell_type": "markdown",
      "metadata": {},
      "source": [
        "Das Phasendiagramm ist im Moment etwas ung\u00fcnstig und grob gerastert.\n",
        "Erh\u00f6hen Sie die Variable Num_Temp bei 1d) auf 50 und \u00e4ndern Sie die Variable Tlow in den Zellen von 1d) auf Te-0.01.\n",
        "Berechnen Sie danach das Phasendiagramm erneut, indem Sie im Reiter oben auf \"Kernel\" und dann \"Restart & Run All\" klicken. \n",
        "\n",
        "W\u00e4hrend der Berechnung k\u00f6nnen Sie mit der n\u00e4chsten Aufgabe fortfahren, das vorl\u00e4ufige Phasendiagramm liegt im Ordner als \"phasendiagramm.pdf\" gespeichert vor."
      ]
    },
    {
      "cell_type": "markdown",
      "metadata": {},
      "source": [
        "<h3>Aufgabe 1g)<br/>\n",
        "Mikrostrukturentwicklung\n",
        "</h3>"
      ]
    },
    {
      "cell_type": "markdown",
      "metadata": {},
      "source": [
        "Wie sieht die Mikrostruktur einer Legierung der Zusammensetzung $x_A=0.4$ aus, wenn langsam aus der Schmelze bis $T=1.1$ abgek\u00fchlt wird? Was passiert mit einer Legierung von eutektischer Zusammensetzung? Gehen Sie dabei auf die Morphologie sowie die Massenanteile der Phasen und des Eutektikums ein.\n",
        "\n",
        "\n",
        "\n",
        "\n",
        "Was passiert, wenn man diese Mikrostrukturen wieder \u00fcber die Liquidustemperatur aufheizt?\n",
        "\n",
        "\n"
      ]
    },
    {
      "cell_type": "code",
      "execution_count": null,
      "metadata": {},
      "outputs": [],
      "source": []
    }
  ],
  "metadata": {
    "kernelspec": {
      "display_name": "Python 3",
      "language": "python",
      "name": "python3"
    },
    "language_info": {
      "codemirror_mode": {
        "name": "ipython",
        "version": 3
      },
      "file_extension": ".py",
      "mimetype": "text/x-python",
      "name": "python",
      "nbconvert_exporter": "python",
      "pygments_lexer": "ipython3",
      "version": "3.7.3"
    }
  },
  "nbformat": 4,
  "nbformat_minor": 2
}