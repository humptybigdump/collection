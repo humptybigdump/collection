{
 "cells": [
  {
   "cell_type": "markdown",
   "metadata": {},
   "source": [
    "# Introduction to Python"
   ]
  },
  {
   "cell_type": "markdown",
   "metadata": {},
   "source": [
    "This jupyter notebook is a quick introduction to python and how to use jupyter notebooks. First of all to get started you need to install python, for which we recommend to install [Anaconda](https://www.anaconda.com/distribution/). \n",
    "\n",
    "To modify jupyter notebook files and do the python exercises, you can decide to either use \n",
    "\n",
    "1. [Jupyter Notebook](https://jupyter.org/install.html) or\n",
    "\n",
    "2. [JupyterLab](https://jupyter.org/install.html)\n",
    "\n",
    "After you open Jupyter Notebook or JupyterLab you have to navigate to the folder that contains the .ipynb files. "
   ]
  },
  {
   "cell_type": "markdown",
   "metadata": {},
   "source": [
    "## Python "
   ]
  },
  {
   "cell_type": "markdown",
   "metadata": {},
   "source": [
    "Python is a high-level, general-purpose scripting language and it is open source! \n",
    "\n",
    "When you start with a python script there are some routines and function you can immediatelly use, for example the `print() ` comand. In order to execute the code just click on the cell with the python code and then press `Shift + Enter`:"
   ]
  },
  {
   "cell_type": "code",
   "execution_count": 1,
   "metadata": {},
   "outputs": [
    {
     "name": "stdout",
     "output_type": "stream",
     "text": [
      "Hello world\n"
     ]
    }
   ],
   "source": [
    "print(\"Hello world\")"
   ]
  },
  {
   "cell_type": "markdown",
   "metadata": {},
   "source": [
    "### Variables\n",
    "In contrast to low-level languages like `C` or `C++`, python doesn't need explicit type declarations for variables."
   ]
  },
  {
   "cell_type": "code",
   "execution_count": 43,
   "metadata": {},
   "outputs": [],
   "source": [
    "a = 8\n",
    "b = 'three'\n",
    "c = 15.3"
   ]
  },
  {
   "cell_type": "markdown",
   "metadata": {},
   "source": [
    "With the routine `type()` we can check the variable type."
   ]
  },
  {
   "cell_type": "code",
   "execution_count": 44,
   "metadata": {},
   "outputs": [
    {
     "data": {
      "text/plain": [
       "int"
      ]
     },
     "execution_count": 44,
     "metadata": {},
     "output_type": "execute_result"
    }
   ],
   "source": [
    "type(a)"
   ]
  },
  {
   "cell_type": "code",
   "execution_count": 45,
   "metadata": {},
   "outputs": [
    {
     "data": {
      "text/plain": [
       "str"
      ]
     },
     "execution_count": 45,
     "metadata": {},
     "output_type": "execute_result"
    }
   ],
   "source": [
    "type(b)"
   ]
  },
  {
   "cell_type": "code",
   "execution_count": 46,
   "metadata": {},
   "outputs": [
    {
     "data": {
      "text/plain": [
       "float"
      ]
     },
     "execution_count": 46,
     "metadata": {},
     "output_type": "execute_result"
    }
   ],
   "source": [
    "type(c)"
   ]
  },
  {
   "cell_type": "markdown",
   "metadata": {
    "tags": []
   },
   "source": [
    "### For-loops"
   ]
  },
  {
   "cell_type": "markdown",
   "metadata": {},
   "source": [
    "A for loop iterates over a list:"
   ]
  },
  {
   "cell_type": "code",
   "execution_count": 50,
   "metadata": {},
   "outputs": [
    {
     "name": "stdout",
     "output_type": "stream",
     "text": [
      "This is the first string\n",
      "Second string here\n",
      "Hi, this is the third string\n"
     ]
    }
   ],
   "source": [
    "list_of_strings = ['This is the first string', 'Second string here', 'Hi, this is the third string']\n",
    "for string in list_of_strings:\n",
    "    print(string)"
   ]
  },
  {
   "cell_type": "markdown",
   "metadata": {},
   "source": [
    "In this loop, unlike some other languages, we had no counter variable. To retreive one, one can use the `enumerate` command:"
   ]
  },
  {
   "cell_type": "code",
   "execution_count": 51,
   "metadata": {},
   "outputs": [
    {
     "name": "stdout",
     "output_type": "stream",
     "text": [
      "Index = 0 says:  This is the first string\n",
      "Index = 1 says:  Second string here\n",
      "Index = 2 says:  Hi, this is the third string\n"
     ]
    }
   ],
   "source": [
    "for i, string in enumerate(list_of_strings):\n",
    "    print('Index =', i, 'says: ', string)"
   ]
  },
  {
   "cell_type": "markdown",
   "metadata": {},
   "source": [
    "We will use very often for-loops to iterate over our arrays to solve differential equation or anything else. To use for-loops in python we just need to write:"
   ]
  },
  {
   "cell_type": "code",
   "execution_count": 6,
   "metadata": {},
   "outputs": [
    {
     "name": "stdout",
     "output_type": "stream",
     "text": [
      "Hey this is i = 0\n",
      "Hey this is i = 1\n",
      "Hey this is i = 2\n",
      "Hey this is i = 3\n",
      "Hey this is i = 4\n"
     ]
    }
   ],
   "source": [
    "for i in range(5):\n",
    "    print(\"Hey this is i =\",i)"
   ]
  },
  {
   "cell_type": "markdown",
   "metadata": {},
   "source": [
    "Note that python uses indents and whitespace to make clear what statesments belong to the for-loop and what else is outside. Also take care to not forget the double points after the for-statement, otherwise you will run into an error. \n",
    "\n",
    "Here is an example of a nested for-loops, where you can see, what effect the indents have within for-loops:"
   ]
  },
  {
   "cell_type": "code",
   "execution_count": 7,
   "metadata": {},
   "outputs": [
    {
     "name": "stdout",
     "output_type": "stream",
     "text": [
      "i,j = 0 0\n",
      "i,j = 0 1\n",
      "This is a call in the i-loop, but not in the j-loop\n",
      "i,j = 1 0\n",
      "i,j = 1 1\n",
      "This is a call in the i-loop, but not in the j-loop\n",
      "i,j = 2 0\n",
      "i,j = 2 1\n",
      "This is a call in the i-loop, but not in the j-loop\n"
     ]
    }
   ],
   "source": [
    "for i in range(3):\n",
    "    for j in range(2):\n",
    "        print('i,j =',i,j)\n",
    "    \n",
    "    print('This is a call in the i-loop, but not in the j-loop')"
   ]
  },
  {
   "cell_type": "markdown",
   "metadata": {},
   "source": [
    "### Conditional statements"
   ]
  },
  {
   "cell_type": "markdown",
   "metadata": {},
   "source": [
    "An if statement in python looks like this:"
   ]
  },
  {
   "cell_type": "code",
   "execution_count": 10,
   "metadata": {},
   "outputs": [
    {
     "name": "stdout",
     "output_type": "stream",
     "text": [
      "This code is executed conditionally\n"
     ]
    }
   ],
   "source": [
    "a = 3\n",
    "b = 3\n",
    "if a == b:\n",
    "    print('This code is executed conditionally')"
   ]
  },
  {
   "cell_type": "markdown",
   "metadata": {},
   "source": [
    "The statement `a==b` is a logical statement, that either evaluates to `True` or `False`. However, _every variable_ can be truth-evaluated in Python, meaning that every variable can be associated to `True` or `False`. As a general rule, variables (almost) always evaluate to `True`; they evaluates to `False` if:\n",
    "- they are `None` or `False`\n",
    "- they are a zero of any numeric type: `0`, `0.0`, ...\n",
    "- they are an empty list, string, array or iterator: `''`, `[]`, `range(0)`, ..."
   ]
  },
  {
   "cell_type": "code",
   "execution_count": 11,
   "metadata": {},
   "outputs": [
    {
     "name": "stdout",
     "output_type": "stream",
     "text": [
      "A not-empty string evaluates to True\n"
     ]
    }
   ],
   "source": [
    "a_string = 'A not-empty string evaluates to True'\n",
    "if a_string:\n",
    "    print(a_string)"
   ]
  },
  {
   "cell_type": "code",
   "execution_count": 52,
   "metadata": {},
   "outputs": [],
   "source": [
    "empty_string = ''\n",
    "if empty_string:\n",
    "    print(empty_string, 'Something else') # this code will not be executed, since empty_strings evaluates to False"
   ]
  },
  {
   "cell_type": "markdown",
   "metadata": {},
   "source": [
    "### Loading Libraries"
   ]
  },
  {
   "cell_type": "markdown",
   "metadata": {},
   "source": [
    "To do more sophisticated operations like matrix manipulations, we need to load packages before starting with our python program. One of the most important packages for our purposes are `numpy` (matrix manipulation like MATLAB) and `matplotlib` (plotting results). The modules are loaded by placing them at the beginning of your code:"
   ]
  },
  {
   "cell_type": "code",
   "execution_count": 13,
   "metadata": {},
   "outputs": [],
   "source": [
    "import numpy \n",
    "from matplotlib import pyplot"
   ]
  },
  {
   "cell_type": "markdown",
   "metadata": {},
   "source": [
    "So first we are importing the `numpy` package and in the second line we are importing the module `pyplot` from the package `matplotlib` (we are not loading all features from this package). Now we can use functions of those two packages by first writing the package name with a dot `.` and then the function we want to use: "
   ]
  },
  {
   "cell_type": "code",
   "execution_count": 14,
   "metadata": {},
   "outputs": [
    {
     "data": {
      "text/plain": [
       "array([0. , 0.5, 1. , 1.5, 2. , 2.5, 3. , 3.5, 4. , 4.5, 5. ])"
      ]
     },
     "execution_count": 14,
     "metadata": {},
     "output_type": "execute_result"
    }
   ],
   "source": [
    "myarray1 = numpy.linspace(0,5,11)\n",
    "myarray1"
   ]
  },
  {
   "cell_type": "markdown",
   "metadata": {},
   "source": [
    "So the function `linspace` generates an array which starts at 0 and ends at 5 and is equally distributed with in total 11 elements.\n",
    "\n",
    "Quite often you will find python codes, that are using some other names in front of the function names. Usually, one uses the abbreviation `np` for the numpy package, to save letters and time. To use this abbreviations we have to state this, when loading the package, so next time load your package like this:"
   ]
  },
  {
   "cell_type": "code",
   "execution_count": 15,
   "metadata": {},
   "outputs": [
    {
     "data": {
      "text/plain": [
       "array([0. , 0.5, 1. , 1.5, 2. , 2.5, 3. , 3.5, 4. , 4.5, 5. ])"
      ]
     },
     "execution_count": 15,
     "metadata": {},
     "output_type": "execute_result"
    }
   ],
   "source": [
    "import numpy as np\n",
    "\n",
    "myarray2 = np.linspace(0,5,11)\n",
    "myarray2"
   ]
  },
  {
   "cell_type": "markdown",
   "metadata": {},
   "source": [
    "And for the `pyplot` module we use `plt` as the abbreviations.\n",
    "\n",
    "So here is an little example how to plot our to arrays, but the second array we will slightly modify:"
   ]
  },
  {
   "cell_type": "code",
   "execution_count": 16,
   "metadata": {},
   "outputs": [
    {
     "data": {
      "image/png": "[encoded data removed]",
      "text/plain": [
       "<Figure size 432x288 with 1 Axes>"
      ]
     },
     "metadata": {
      "needs_background": "light"
     },
     "output_type": "display_data"
    }
   ],
   "source": [
    "from matplotlib import pyplot as plt\n",
    "\n",
    "a = 3.\n",
    "b = 2.\n",
    "\n",
    "myarray2 = b * myarray2 + a\n",
    "\n",
    "plt.figure()\n",
    "plt.plot(myarray1, myarray2, '-o')\n",
    "plt.title('My first plot')\n",
    "plt.xlabel('axis of myarray1')\n",
    "plt.ylabel('axis of myarray2')\n",
    "plt.show()"
   ]
  },
  {
   "cell_type": "markdown",
   "metadata": {},
   "source": [
    "### Numpy - important features"
   ]
  },
  {
   "cell_type": "markdown",
   "metadata": {},
   "source": [
    "We use `numpy` to generate an array with five elements and then look at some parts of the array. "
   ]
  },
  {
   "cell_type": "code",
   "execution_count": 17,
   "metadata": {},
   "outputs": [
    {
     "data": {
      "text/plain": [
       "array([1, 2, 3, 4, 5])"
      ]
     },
     "execution_count": 17,
     "metadata": {},
     "output_type": "execute_result"
    }
   ],
   "source": [
    "myarray3 = np.array([1,2,3,4,5])\n",
    "myarray3"
   ]
  },
  {
   "cell_type": "markdown",
   "metadata": {},
   "source": [
    "To get only one element of this array, we can use the square brackets `[]` and the index of the element within the array:"
   ]
  },
  {
   "cell_type": "code",
   "execution_count": 18,
   "metadata": {},
   "outputs": [
    {
     "data": {
      "text/plain": [
       "2"
      ]
     },
     "execution_count": 18,
     "metadata": {},
     "output_type": "execute_result"
    }
   ],
   "source": [
    "myarray3[1]"
   ]
  },
  {
   "cell_type": "markdown",
   "metadata": {},
   "source": [
    "But wait! Why do we get the element with the value 2? \n",
    "\n",
    "Well, this is because python uses a **zero-based index**. Meaning that the first element starts with index 0. "
   ]
  },
  {
   "cell_type": "markdown",
   "metadata": {},
   "source": [
    "myarray3[0]"
   ]
  },
  {
   "cell_type": "markdown",
   "metadata": {},
   "source": [
    "This is important to note for students used to work with MATLAB, where the index of an array starts with 1. So the last element, we do not get with"
   ]
  },
  {
   "cell_type": "code",
   "execution_count": 19,
   "metadata": {},
   "outputs": [
    {
     "ename": "IndexError",
     "evalue": "index 5 is out of bounds for axis 0 with size 5",
     "output_type": "error",
     "traceback": [
      "\u001b[0;31m---------------------------------------------------------------------------\u001b[0m",
      "\u001b[0;31mIndexError\u001b[0m                                Traceback (most recent call last)",
      "\u001b[0;32m<ipython-input-19-3f8b5a390651>\u001b[0m in \u001b[0;36m<module>\u001b[0;34m\u001b[0m\n\u001b[0;32m----> 1\u001b[0;31m \u001b[0mmyarray3\u001b[0m\u001b[0;34m[\u001b[0m\u001b[0;36m5\u001b[0m\u001b[0;34m]\u001b[0m\u001b[0;34m\u001b[0m\u001b[0;34m\u001b[0m\u001b[0m\n\u001b[0m",
      "\u001b[0;31mIndexError\u001b[0m: index 5 is out of bounds for axis 0 with size 5"
     ]
    }
   ],
   "source": [
    "myarray3[5]"
   ]
  },
  {
   "cell_type": "markdown",
   "metadata": {},
   "source": [
    "there comes an error message. But we get it by writing"
   ]
  },
  {
   "cell_type": "code",
   "execution_count": 20,
   "metadata": {},
   "outputs": [
    {
     "data": {
      "text/plain": [
       "5"
      ]
     },
     "execution_count": 20,
     "metadata": {},
     "output_type": "execute_result"
    }
   ],
   "source": [
    "myarray3[4]"
   ]
  },
  {
   "cell_type": "markdown",
   "metadata": {},
   "source": [
    "### Slicing Arrays"
   ]
  },
  {
   "cell_type": "markdown",
   "metadata": {},
   "source": [
    "Sometimes you want to get only a specific part or range out of an array. For this you need the slicing technique. For instance, you want the first three elements out of our array `myarray3`, then just type"
   ]
  },
  {
   "cell_type": "code",
   "execution_count": 21,
   "metadata": {},
   "outputs": [
    {
     "data": {
      "text/plain": [
       "array([1, 2, 3])"
      ]
     },
     "execution_count": 21,
     "metadata": {},
     "output_type": "execute_result"
    }
   ],
   "source": [
    "myarray3[0:3]"
   ]
  },
  {
   "cell_type": "markdown",
   "metadata": {},
   "source": [
    "As you noted, we used the index of the first element, which is `0`, and we used the index `3` for the end of the slicing command. However, the slicing didn't give back the element with the index `3`, which would be `myarray3[3] = 4`. So this means, that the slicing operation is **exclusive** on the back of your range, while it is **inclusive** on the front of your slicing index range."
   ]
  },
  {
   "cell_type": "markdown",
   "metadata": {},
   "source": [
    "### Assignment of variables"
   ]
  },
  {
   "cell_type": "markdown",
   "metadata": {},
   "source": [
    "Some important thing when working with python concerns the assignment and copying of arrays. For example we have the following 1D-array "
   ]
  },
  {
   "cell_type": "code",
   "execution_count": 22,
   "metadata": {},
   "outputs": [
    {
     "name": "stdout",
     "output_type": "stream",
     "text": [
      "[1 2 3 4 5]\n"
     ]
    }
   ],
   "source": [
    "a = np.array([1,2,3,4,5])\n",
    "print(a)"
   ]
  },
  {
   "cell_type": "markdown",
   "metadata": {},
   "source": [
    "Next, we want to make a copy of the array `a` and we try it with"
   ]
  },
  {
   "cell_type": "code",
   "execution_count": 23,
   "metadata": {},
   "outputs": [
    {
     "name": "stdout",
     "output_type": "stream",
     "text": [
      "[1 2 3 4 5]\n"
     ]
    }
   ],
   "source": [
    "b = a\n",
    "print(b)"
   ]
  },
  {
   "cell_type": "markdown",
   "metadata": {},
   "source": [
    "Great! This seems to work. So now that I have a copy of array `a` in array `b`, I can change the values of `a` without worrying about the loss of data."
   ]
  },
  {
   "cell_type": "code",
   "execution_count": 24,
   "metadata": {},
   "outputs": [
    {
     "name": "stdout",
     "output_type": "stream",
     "text": [
      "[ 1  2  3 13  5]\n"
     ]
    }
   ],
   "source": [
    "a[3] = 13\n",
    "print(a)"
   ]
  },
  {
   "cell_type": "markdown",
   "metadata": {},
   "source": [
    "Good, so the 4th element has changed its value to 13. Now, let's check the value of `b`"
   ]
  },
  {
   "cell_type": "code",
   "execution_count": 25,
   "metadata": {},
   "outputs": [
    {
     "name": "stdout",
     "output_type": "stream",
     "text": [
      "[ 1  2  3 13  5]\n"
     ]
    }
   ],
   "source": [
    "print(b)"
   ]
  },
  {
   "cell_type": "markdown",
   "metadata": {},
   "source": [
    "Also `b` has changed its value! So, this is a really important thing to note. By just using `a = b` python does not do a copy of the array `a`, it just creates an alias (or more specific a pointer), which is called `b` and is pointing to `a`. So any changes in `a` will also be seen by `b`. If you want to make a true copy of `a`, then you have to tell python this explicitly. This is done by"
   ]
  },
  {
   "cell_type": "code",
   "execution_count": 26,
   "metadata": {},
   "outputs": [],
   "source": [
    "c = a.copy()"
   ]
  },
  {
   "cell_type": "code",
   "execution_count": 27,
   "metadata": {},
   "outputs": [
    {
     "name": "stdout",
     "output_type": "stream",
     "text": [
      "[ 1  2 77 13  5]\n"
     ]
    }
   ],
   "source": [
    "a[2]=77\n",
    "print(a)"
   ]
  },
  {
   "cell_type": "code",
   "execution_count": 28,
   "metadata": {},
   "outputs": [
    {
     "name": "stdout",
     "output_type": "stream",
     "text": [
      "[ 1  2  3 13  5]\n"
     ]
    }
   ],
   "source": [
    "print(c)"
   ]
  },
  {
   "cell_type": "markdown",
   "metadata": {},
   "source": [
    "Make sure, you've got the main point out of this! It will save you some time for your future programming with python. "
   ]
  },
  {
   "cell_type": "markdown",
   "metadata": {},
   "source": [
    "### A quick exercise...\n",
    "\n",
    "What is the outcome of the following code? Discuss it."
   ]
  },
  {
   "cell_type": "code",
   "execution_count": 53,
   "metadata": {},
   "outputs": [
    {
     "name": "stdout",
     "output_type": "stream",
     "text": [
      "The value of x is: 2\n",
      "The value of y is: 1\n"
     ]
    }
   ],
   "source": [
    "x = 1\n",
    "y = x\n",
    "x = 2\n",
    "print('The value of x is:', x)\n",
    "print('The value of y is:', y)"
   ]
  },
  {
   "cell_type": "markdown",
   "metadata": {},
   "source": [
    "## Learn More"
   ]
  },
  {
   "cell_type": "markdown",
   "metadata": {},
   "source": [
    "There are many resources online to learn more about python and how to use the packages `numpy` and `matplotlib`.\n",
    "The reference guides for `numpy` and `matplotlib` can be found here\n",
    "\n",
    "* [Numpy reference](https://docs.scipy.org/doc/numpy/reference/)\n",
    "* [Matplotlib](https://matplotlib.org/)\n",
    "\n",
    "For more informations on how to use NumPy arrays you can check the following video of Prof. Barba from the George Washington University, who inspired us with their lectures series \"[12 Steps to CFD](https://github.com/barbagroup/CFDPython)\", for this python course!"
   ]
  },
  {
   "cell_type": "code",
   "execution_count": null,
   "metadata": {},
   "outputs": [],
   "source": [
    "from IPython.display import YouTubeVideo\n",
    "# a short video about using NumPy arrays, from Enthought\n",
    "YouTubeVideo('119bNu4E8R4')"
   ]
  },
  {
   "cell_type": "code",
   "execution_count": null,
   "metadata": {},
   "outputs": [],
   "source": []
  }
 ],
 "metadata": {
  "kernelspec": {
   "display_name": "Python 3",
   "language": "python",
   "name": "python3"
  },
  "language_info": {
   "codemirror_mode": {
    "name": "ipython",
    "version": 3
   },
   "file_extension": ".py",
   "mimetype": "text/x-python",
   "name": "python",
   "nbconvert_exporter": "python",
   "pygments_lexer": "ipython3",
   "version": "3.7.11"
  }
 },
 "nbformat": 4,
 "nbformat_minor": 4
}
