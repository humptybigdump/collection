{
 "cells": [
  {
   "cell_type": "markdown",
   "id": "0e42763e",
   "metadata": {},
   "source": [
    "# Stochastic Simulation\n",
    "\n",
    "*Winter Semester 2024/25*\n",
    "\n",
    "06.12.2024\n",
    "\n",
    "Prof. Sebastian Krumscheid<br>\n",
    "Assistants: Stjepan Salatovic, Louise Kluge"
   ]
  },
  {
   "cell_type": "markdown",
   "id": "5c5187ec",
   "metadata": {},
   "source": [
    "<h3 align=\"center\">\n",
    "Exercise sheet 05\n",
    "</h3>\n",
    "\n",
    "---\n",
    "\n",
    "<h1 align=\"center\">\n",
    "The Monte Carlo method\n",
    "</h1>"
   ]
  },
  {
   "cell_type": "code",
   "execution_count": 1,
   "id": "f636d6f9",
   "metadata": {},
   "outputs": [],
   "source": [
    "import matplotlib.pylab as plt\n",
    "import numpy as np\n",
    "\n",
    "from ipywidgets import interact\n",
    "from scipy.special import factorial\n",
    "from scipy.stats import uniform, norm, pareto, lognorm, rv_continuous\n",
    "from scipy.optimize import newton\n",
    "from typing import Callable, Tuple\n",
    "from tqdm.notebook import tqdm"
   ]
  },
  {
   "cell_type": "code",
   "execution_count": 2,
   "id": "1c5fd94c-4d77-4686-9c09-73cf01551096",
   "metadata": {},
   "outputs": [],
   "source": [
    "plt.rc('axes', labelsize=14)     # fontsize of the x and y labels\n",
    "plt.rc('xtick', labelsize=12)    # fontsize of the tick labels\n",
    "plt.rc('ytick', labelsize=12)    # fontsize of the tick labels\n",
    "plt.rc('legend', fontsize=14)    # legend fontsize"
   ]
  },
  {
   "cell_type": "markdown",
   "id": "5e6ec4b1",
   "metadata": {},
   "source": [
    "## Exercise 1\n",
    "\n",
    "Let $X = [X_1, X_2, ..., X_n] \\overset{\\text{i.i.d}}{\\sim} \\mathcal{U}([-1,1]^n)$ be a random vector uniformly distributed over the $n$-dimensional square $\\Gamma=[-1,1]^n$, and define the random variable $Z=\\mathbb{1}_{\\|X\\|_{l^2}<1}.$ Observe that\n",
    "\n",
    "\\begin{align*}\n",
    "I=\\mathbb{E}[Z]=\\int_\\Gamma \\mathbb{1}_{\\|x\\|_{l^2}<1}p(x)\\mathrm{d}x=\\frac{1}{|\\Gamma|}\\left|B(0,1)\\right|,\n",
    "\\end{align*}\n",
    "\n",
    "where $p(x)$ is the PDF of $\\mathcal{U}([-1,1]^n),$ and $\\left|B(0,1)\\right|$ is the volume of the $n$-dimensional sphere with center $0$ and radius $1$. "
   ]
  },
  {
   "cell_type": "markdown",
   "id": "914b3d0f-3d72-4ff1-80fc-cb59df756e82",
   "metadata": {},
   "source": [
    "1. Let $n=2$. Use Monte Carlo to approximate the value of $I$:\n",
    "$$\n",
    "\\overline{I}_N := \\frac{1}{N} \\sum_{k=1}^N Z_k\n",
    "$$\n",
    "For $N=10,100,1000,10000,$ compute $\\overline{I}_N$ as well as an approximate confidence interval and compare with the exact value $I$. In addition, plot the relative error $\\frac{|\\overline I_N -I|}{I}$ versus $N$ in logarithmic scale and verify the convergence rate. "
   ]
  },
  {
   "cell_type": "code",
   "execution_count": 3,
   "id": "2b3dfe96-1d1a-4084-9948-d38e0eef42e5",
   "metadata": {},
   "outputs": [],
   "source": [
    "def get_sample(N: int, n: int=2) -> np.array:\n",
    "    \"\"\"\n",
    "    Generates a uniform sample of size `N` in the hypercube `[-1, 1]^n`.\n",
    "    \"\"\"\n",
    "    x = np.random.uniform(-1, 1, size=(N, n))\n",
    "    return x"
   ]
  },
  {
   "cell_type": "code",
   "execution_count": 4,
   "id": "ab1fee24-cae5-43f6-a4d5-6e87301298ac",
   "metadata": {},
   "outputs": [],
   "source": [
    "def I(N: int, n: int=2) -> float:\n",
    "    \"\"\"\n",
    "    Estimates `I` using `N` Monte Carlo samples in the hypercube `[-1, 1]^n`.\n",
    "    \"\"\"\n",
    "    x = get_sample(N, n)\n",
    "    z = np.linalg.norm(x, axis=1) < 1\n",
    "    I = z.mean()\n",
    "    return I"
   ]
  },
  {
   "cell_type": "code",
   "execution_count": 5,
   "id": "baaa6d92-4002-4d41-8bfd-8ea9b9123821",
   "metadata": {},
   "outputs": [],
   "source": [
    "def plot_monte_carlo(N: int):\n",
    "    \"\"\"Interaction helper.\"\"\"\n",
    "    np.random.seed(999)\n",
    "    \n",
    "    x = get_sample(N, 2)\n",
    "    z = np.linalg.norm(x, axis=1) < 1\n",
    "\n",
    "    true_I = np.pi / 4\n",
    "\n",
    "    fig, axs = plt.subplots(nrows=1, ncols=2, figsize=(14, 4))\n",
    "\n",
    "    circle = plt.Circle((0, 0), 1, color='black', fill=False)\n",
    "    axs[0].add_patch(circle)\n",
    "    axs[0].scatter(*x[z].T, s=1)\n",
    "    axs[0].scatter(*x[~z].T, s=1)\n",
    "    axs[0].axis(\"square\")\n",
    "    axs[0].set_title(rf\"$N = {N}$\")\n",
    "\n",
    "    N_ = np.arange(1, N + 1)\n",
    "    z_cum = z.cumsum()\n",
    "    z_means = z_cum / N_\n",
    "    z_vars = (np.cumsum(z ** 2) - z_cum ** 2 / N_) / N_\n",
    "    axs[1].axhline(true_I, color=\"k\", linestyle=\"--\", label=r\"$I$\")\n",
    "    axs[1].semilogx(N_, z_means, label=r\"$\\overline{I}_N$\")\n",
    "    axs[1].semilogx(N_, z_means + norm.ppf(0.975) * np.sqrt(z_vars / N_), \"r--\", label=\"95% confidence interval\")\n",
    "    axs[1].semilogx(N_, z_means - norm.ppf(0.975) * np.sqrt(z_vars / N_), \"r--\")\n",
    "    axs[1].set_xlabel(r\"$N$\", size=14)\n",
    "    axs[1].set_xlim(10, N + 1)\n",
    "    plt.legend(fontsize=12)"
   ]
  },
  {
   "cell_type": "code",
   "execution_count": 7,
   "id": "dc7d2f91-b377-476c-884d-0a9f065f91ed",
   "metadata": {},
   "outputs": [
    {
     "data": {
      "application/vnd.jupyter.widget-view+json": {
       "model_id": "9978beea1d7640c395d032dceffdef5b",
       "version_major": 2,
       "version_minor": 0
      },
      "text/plain": [
       "interactive(children=(IntSlider(value=5005, description='N', max=10000, min=10), Output()), _dom_classes=('wid…"
      ]
     },
     "metadata": {},
     "output_type": "display_data"
    }
   ],
   "source": [
    "interact(plot_monte_carlo, N=(10, 10 ** 4));"
   ]
  },
  {
   "cell_type": "code",
   "execution_count": 8,
   "id": "b149b37f-b0b5-4ed2-9997-7714be31d5ab",
   "metadata": {},
   "outputs": [
    {
     "data": {
      "image/png": "[encoded data removed]",
      "text/plain": [
       "<Figure size 640x480 with 1 Axes>"
      ]
     },
     "metadata": {},
     "output_type": "display_data"
    }
   ],
   "source": [
    "N = 10 ** 4\n",
    "N_ = np.arange(1, N + 1)\n",
    "\n",
    "x = get_sample(N, 2)\n",
    "z = np.linalg.norm(x, axis=1) < 1\n",
    "\n",
    "true_I = np.pi / 4\n",
    "\n",
    "errs = np.abs(true_I - z.cumsum() / N_) / true_I\n",
    "\n",
    "plt.loglog(N_, errs)\n",
    "plt.loglog(N_, N_ ** -0.5, \"k--\", label=r\"$N^{-1/2}$\")\n",
    "plt.xlim(10, N)\n",
    "plt.xlabel(r\"$N$\", size=12)\n",
    "plt.ylabel(r\"$|I - I_N| \\,/\\, I$\", size=12)\n",
    "plt.grid()\n",
    "plt.legend(fontsize=12)\n",
    "plt.title(\"Convergence rate\");"
   ]
  },
  {
   "cell_type": "markdown",
   "id": "e8a300a8-2ecc-4443-9846-b74f85eb5788",
   "metadata": {},
   "source": [
    "2. **(On the choice of $N$):** By _a priori_ analysis (knowing that $Z\\sim \\text{Bernoulli}(p)$ with $p=\\pi/4$), determine three lower bounds for $N = N(\\alpha, \\epsilon)$ with $\\epsilon =10^{-2}$ and $\\alpha = 10^{-4}$ for ensuring that\n",
    "$$\n",
    "\\mathbb{P}\\left(\\left| \\overline{I}_N - \\pi/4 \\right| > \\epsilon \\right) < \\alpha\n",
    "$$\n",
    "using Chebycheff's inequality (rigorous), the Berry-Esseen Theorem\n",
    "(rigorous) and the leap of faith\n",
    "$$\n",
    "\\frac{ \\overline{I}_N - \\pi/4}{\\sqrt{\\mathrm{Var}(Z)/N}} \\sim N(0,1).\n",
    "$$\n",
    "\n",
    "    Discuss the advantages and disadvantages of using each bound."
   ]
  },
  {
   "cell_type": "markdown",
   "id": "f36c455b-8f0d-4824-bf27-d04b5d5e10fe",
   "metadata": {},
   "source": [
    "For determining the respective lower bounds for $N(\\alpha, \\epsilon)$,\n",
    "note first that since $Z\\sim \\text{Bernoulli}(p = \\pi/4)$,\n",
    "we have \n",
    "\n",
    "$$\n",
    "\\mathrm{Var}(Z) = \\sigma^2 = \\mathbb{E}{( Z - p )^2} = p (1-p),\n",
    "$$\n",
    "\n",
    "and\n",
    "\n",
    "$$\n",
    "\\mathbb{E}{ \\left |Z-p\\right|^3 } = \\gamma^3 = (1-p)^3p + p^3(1-p) = p(1-p)\\left[(1-p)^2+p^2\\right].\n",
    "$$\n",
    "\n",
    "When using the **central limit theorem** relation (called \"leap of faith\" as we are in the non-asymptotic setting), we may bound the probability of failure by\n",
    "\n",
    "$$\n",
    "\\begin{split}\n",
    "\\mathbb{P}\\left(\\left |\\overline I_N - I\\right| \\ge \\epsilon\\right) &= \n",
    "\\mathbb{P}\\left(\\sqrt{N} \\frac{\\left |\\overline I_N - I\\right|}{\\sigma} >\n",
    "\t\\frac{\\sqrt{N}\\epsilon}{\\sigma}\\right)\n",
    "= 2\\left (1-\\Phi\\left (\\frac{\\sqrt{N}\\epsilon}{\\sigma}\\right)\\right).\n",
    "\\end{split}\n",
    "$$\n",
    "\n",
    "To ensure that \n",
    "\n",
    "$$\n",
    "2\\left (1-\\Phi\\left (\\frac{\\sqrt{N}\\epsilon}{\\sigma}\\right)\\right) < \\alpha,\n",
    "$$\n",
    "one must use at least \n",
    "\n",
    "$$\n",
    "N_{CLT} (\\alpha, \\epsilon) =  \\left\\lceil \\left ( \\frac{\\sigma\n",
    "\t\tc_{1-\\alpha/2}}{\\epsilon} \\right)^2\\right \\rceil,\n",
    "$$\n",
    "\n",
    "samples, where $\\lceil x \\rceil := \\min\\{z \\in \\mathbb{Z} \\mid z \\ge x\\}$ and $c_{1-\\alpha/2}$ is the $1-\\alpha/2$ quantile of the standard normal distribution, i.e., $\\Phi(c_{1-\\alpha/2})=1-\\alpha/2$.\n",
    "\n",
    "When using the **Chebycheff bound**,\n",
    "\n",
    "$$\n",
    "\\begin{split}\n",
    "\\mathbb{P}\\left(\\left |\\overline I_N - I\\right| > \\epsilon\\right) \\le   \\frac{\\sigma^2}{N \\epsilon^2},\n",
    "\\end{split}\n",
    "$$\n",
    "\n",
    "to ensure that $\\sigma^2/N\\epsilon^2 < \\alpha$, we have that\n",
    "\n",
    "$$\n",
    "N_{CHEB}(\\alpha, \\epsilon) = \\left\\lceil \\frac{\\sigma^2}{ \\alpha \\epsilon^{2} } \\right\\rceil , \n",
    "$$\n",
    "\n",
    "ensures that the probability of failure is bounded by $\\alpha$.\n",
    "\n",
    "When relying on the **Berry-Esseen theorem**,\n",
    "the probability of failure is controlled by\n",
    "\n",
    "$$\n",
    "\\begin{split}\n",
    "\\mathbb{P}\\left(\\left |\\overline I_N - I\\right| > \\epsilon \\right) & =\n",
    "\\mathbb{P}\\left( \\sqrt{N}\\frac{\\left |\\overline I_N - I\\right|}{\\sigma} >\n",
    "\t\\frac{\\sqrt{N} \\epsilon}{\\sigma}\\right)\\\\\n",
    "& \\le 2\\left (1-\\Phi\\left (\\frac{\\sqrt{N} \\epsilon}{\\sigma} \\right) \\right) +\n",
    "\\frac{2}{\\sqrt{N}}\\beta K,\n",
    "\\end{split}\n",
    "$$\n",
    "\n",
    "where $K\\approx 0.4748$ is the constant in the Berry-Essen inequality, and $\\beta = \\gamma^3/\\sigma^3$.\n",
    "\n",
    "The lower bound solution can then be viewed as the smallest integer which is larger or equal to\n",
    "the zero of the equation\n",
    "\n",
    "$$\n",
    "f(x) := 1-\\Phi\\left (\\frac{\\sqrt{x} \\epsilon}{\\sigma} \\right) +\n",
    "\\frac{ \\beta K}{\\sqrt{x}} - \\frac{\\alpha}{2}.\n",
    "$$\n",
    "\n",
    "Since $f'<0$ for all $x>0$, the zero is unique. We determine the value of $N_{BE}$ using the Newton method `scipy.optimize.newton`.\n",
    "\n",
    "For the considered problem setting, we report the obtained numbers below and conclude that\n",
    "\n",
    "$$\n",
    "N_{CLT} = 25513 \\le N_{CHEB} = 16854789 \\le N_{BE} = 235103811.\n",
    "$$"
   ]
  },
  {
   "cell_type": "code",
   "execution_count": 9,
   "id": "9b7b92c2-a032-4d9d-8466-0d457e68dc94",
   "metadata": {},
   "outputs": [],
   "source": [
    "p = np.pi / 4\n",
    "var = p * (1 - p)\n",
    "gamma = p * (1 - p) * ((1 - p) ** 2 + p ** 2)\n",
    "\n",
    "K = 0.4748   # Berry-Essen constant"
   ]
  },
  {
   "cell_type": "code",
   "execution_count": 10,
   "id": "bf97234c-d973-42cc-b87e-f3efaf352521",
   "metadata": {},
   "outputs": [],
   "source": [
    "def central_limit_bound(alpha: float, eps: float) -> int:\n",
    "    \"\"\"\n",
    "    Calculates the minimum sample size for estimating `π / 4` based on the CLT.\n",
    "    \"\"\"\n",
    "    N = int(np.ceil((np.sqrt(var) * norm.ppf(1 - alpha / 2) / eps) ** 2))\n",
    "    return N"
   ]
  },
  {
   "cell_type": "code",
   "execution_count": 11,
   "id": "311e25fc-bb7a-42d0-a1cb-8c7a1ca06039",
   "metadata": {},
   "outputs": [],
   "source": [
    "def chebycheff_bound(alpha: float, eps: float) -> int:\n",
    "    \"\"\"\n",
    "    Calculates the minimum sample size for estimating `π / 4` based on the Chebycheff bound.\n",
    "    \"\"\"\n",
    "    N = int(np.ceil(var / alpha / eps ** 2))\n",
    "    return N"
   ]
  },
  {
   "cell_type": "code",
   "execution_count": 12,
   "id": "a2b3a8a6-27b9-421c-8954-c89962045166",
   "metadata": {},
   "outputs": [],
   "source": [
    "def berry_essen_bound(alpha: float, eps: float) -> int:\n",
    "    \"\"\"\n",
    "    Calculates the minimum sample size for estimating `π / 4` based on the Berry-Essen theorem.\n",
    "    \"\"\"\n",
    "    helper = lambda x: (\n",
    "        1 - norm().cdf(np.sqrt(x) * eps / np.sqrt(var)) + K * gamma / np.sqrt(var) ** 3 / np.sqrt(x) - alpha / 2\n",
    "    )\n",
    "    x0 = chebycheff_bound(alpha, eps)\n",
    "    N = int(np.ceil(newton(helper, x0=x0, maxiter=100)))\n",
    "    return N"
   ]
  },
  {
   "cell_type": "code",
   "execution_count": 13,
   "id": "6c0372e1-3b1f-4f32-9aa5-5fca0461dc69",
   "metadata": {},
   "outputs": [],
   "source": [
    "alpha = 1e-4\n",
    "eps = 1e-2"
   ]
  },
  {
   "cell_type": "code",
   "execution_count": 14,
   "id": "306c6329-b3df-4492-b0da-fa2065c3b422",
   "metadata": {},
   "outputs": [
    {
     "name": "stdout",
     "output_type": "stream",
     "text": [
      "Central limit bound: N = 25513\n",
      "Chebycheff bound:    N = 16854789\n",
      "Berry-Esseen bound:  N = 235103811\n"
     ]
    }
   ],
   "source": [
    "N_CLT = central_limit_bound(alpha, eps)\n",
    "N_CB = chebycheff_bound(alpha, eps)\n",
    "N_BE = berry_essen_bound(alpha, eps)\n",
    "\n",
    "print(f\"Central limit bound: N = {N_CLT}\")\n",
    "print(f\"Chebycheff bound: {'':<2} N = {N_CB}\")\n",
    "print(f\"Berry-Esseen bound: {'':<0} N = {N_BE}\")"
   ]
  },
  {
   "cell_type": "markdown",
   "id": "41081780-6a7a-41e8-b1e2-37a8ee9a11f6",
   "metadata": {},
   "source": [
    "3. An important property of the MC method is that, under\n",
    "very weak regularity assumptions, an $O(N^{-1/2})$\n",
    "convergence rate holds independently of the dimensionality of the\n",
    "underlying problem.  To illustrate this, consider approximating $\\mathbb{E}[Z]$ as in the first point, for $n=6.$"
   ]
  },
  {
   "cell_type": "code",
   "execution_count": 15,
   "id": "a83cb127-43c0-428e-bcbe-5f3d24447d66",
   "metadata": {},
   "outputs": [
    {
     "data": {
      "image/png": "[encoded data removed]",
      "text/plain": [
       "<Figure size 640x480 with 1 Axes>"
      ]
     },
     "metadata": {},
     "output_type": "display_data"
    }
   ],
   "source": [
    "N = 10 ** 4\n",
    "N_ = np.arange(1, N + 1)\n",
    "\n",
    "n = 6\n",
    "\n",
    "x = get_sample(N, n=n)\n",
    "z = np.linalg.norm(x, axis=1) < 1\n",
    "\n",
    "vol_sphere = np.pi ** (n / 2) / factorial(n / 2)\n",
    "vol_gamma = 2 ** n\n",
    "\n",
    "true_I = vol_sphere / vol_gamma\n",
    "\n",
    "errs = np.abs(true_I - z.cumsum() / N_) / true_I\n",
    "\n",
    "plt.loglog(N_, errs)\n",
    "plt.loglog(N_, N_ ** -0.5, \"k--\", label=r\"$N^{-1/2}$\")\n",
    "plt.xlim(10, N)\n",
    "plt.xlabel(r\"$N$\", size=12)\n",
    "plt.ylabel(r\"$|I - I_N| \\,/\\, I$\", size=12)\n",
    "plt.grid()\n",
    "plt.legend(fontsize=12)\n",
    "plt.title(f\"Convergence rate for n = {n}\");"
   ]
  },
  {
   "cell_type": "markdown",
   "id": "894026e6-225a-44ab-9990-822c5d51b002",
   "metadata": {},
   "source": [
    "## Exercise 2\n",
    "\n",
    "A simulator would like to produce an unbiased estimate of\n",
    "$\\mathbb{E}(XY)$, where the two independent random variables $X$ and\n",
    "$Y$ have bounded first moments and can be generated by a stochastic\n",
    "simulation. To this end, she simulates $R\\in\\mathbb{N}$ replications\n",
    "$X_1,\\dots, X_R$ of $X$ and, independently of this, $R$ replications\n",
    "$Y_1,\\dots, Y_R$ of $Y$. She thus has the following two natural\n",
    "estimators for $\\mathbb{E}(XY)$ at her disposal:\n",
    "\n",
    "\\begin{equation*}\n",
    "  \\text{Est}_1 := \\Biggl(\\frac{1}{R}\\sum_{r=1}^RX_r \\Biggr) \\Biggl(\\frac{1}{R}\\sum_{r=1}^RY_r \\Biggr)\\quad\\text{and}\\quad \\text{Est}_2 := \\frac{1}{R}\\sum_{r=1}^RX_rY_r\\;.\n",
    "\\end{equation*}"
   ]
  },
  {
   "cell_type": "markdown",
   "id": "11e3e980-e7ef-4c4a-8878-b008fa6fe4e3",
   "metadata": {},
   "source": [
    "1. Verify that both estimators $\\text{Est}_1$ and $\\text{Est}_2$ are unbiased."
   ]
  },
  {
   "cell_type": "markdown",
   "id": "a3f0c636-952c-4a11-bdbc-fddad2cefc3a",
   "metadata": {},
   "source": [
    "Introducing the notation $\\bar X_R = \\frac{1}{R} \\sum_{i=1}^R X_i$ and $\\bar Y_R = \\frac{1}{R} \\sum_{r=1}^R Y_j$, it holds by the independence of the random variables $X_i$ and $Y_j$, and the identical distribution of elements in the sequence $X_1,X_2, \\ldots, X_R$ and ditto for elements in the sequence $Y_1,Y_2, \\ldots, Y_R$, that for any $ 1\\le i,j \\le R$,\n",
    "  $$\n",
    "  \\mathbb{E}\\left[X_i Y_j \\right] = \\mathbb{E}\\left[X_i\\right] \\mathbb{E}\\left[Y_j\\right] = \\mathbb{E}\\left[X\\right] \\mathbb{E}\\left[Y\\right] = \\mathbb{E}\\left[XY\\right].\n",
    "  $$\n",
    "  Consequently,\n",
    "  $$\n",
    "  \\mathbb{E}\\left[ \\bar X_R \\bar Y_R \\right] = \\frac{1}{R^2} \\sum_{i,j =1}^R \\mathbb{E}\\left[X_i Y_j \\right]\n",
    "  =  \\frac{1}{R^2} \\sum_{i,j =1}^R \\mathbb{E}\\left[X Y\\right] = \\mathbb{E}\\left[XY\\right],\n",
    "  $$\n",
    "  and\n",
    "  $$\n",
    "  \\mathbb{E}\\left[ \\frac{1}{R} \\sum_{r=1}^R X_rY_r \\right] = \\frac{1}{R} \\sum_{r=1}^R \\mathbb{E}\\left[X Y\\right]  = \\mathbb{E}\\left[XY\\right].\n",
    "  $$"
   ]
  },
  {
   "cell_type": "markdown",
   "id": "366f2f07-7cd1-4fac-b472-0fb407261503",
   "metadata": {},
   "source": [
    "2. Show that $\\mathrm{Var}(\\text{Est}_1)<\\mathrm{Var}(\\text{Est}_2)$."
   ]
  },
  {
   "cell_type": "markdown",
   "id": "51286f43-553f-4e51-b2ad-810e5052be57",
   "metadata": {},
   "source": [
    "Let us recall first that since the sequence $X_1,X_2,\\ldots$ is iid,\n",
    "  $$\n",
    "  \\mathrm{Var}(\\bar X_R) = \\text{Cov}(\\bar X_R,\\bar X_R) = \\frac{1}{R} \\mathrm{Var}(X), \n",
    "  $$\n",
    "  and\n",
    "  $$\n",
    "  \\mathbb{E}\\left[\\bar X_R\\right] = \\mathbb{E}\\left[X\\right].\n",
    "  $$\n",
    "  (And, similarly, $ \\mathrm{Var}(\\bar Y_R) = \\frac{1}{R}\\mathrm{Var}(Y), \\quad \\mathbb{E}\\left[\\bar Y_R\\right] = \\mathbb{E}\\left[Y\\right].)$\n",
    "\n",
    "  Using that $\\bar X_R$ and $\\bar Y_R$ are independent, \n",
    "  $$\n",
    "  \\begin{split}\n",
    "    \\mathrm{Var}(\\text{Est}_1) &= \\mathbb{E}\\left[\\bar X_R^2 \\bar Y_R^2\\right] - \\left[\\mathbb{E}{\\bar X_R \\bar Y_R}\\right]^2\\\\\n",
    "    &=\\mathbb{E}\\left[\\bar X_R^2\\right] \\mathbb{E}\\left[\\bar Y_R^2\\right] - \\left( \\mathbb{E}\\left[\\bar X_R\\bar Y_R\\right]\\right)^2\\\\\n",
    "      & = \\left(\\mathrm{Var}(\\bar X_R) + \\mathbb{E}\\left[\\bar X_R\\right]^2 \\right)\n",
    "      \\left(\\mathrm{Var}(\\bar Y_R) + \\mathbb{E}\\left[\\bar Y_R\\right]^2 \\right) - \\mathbb{E}\\left[\\bar X_R \\bar Y_R\\right]^2\\\\\n",
    "      & = \\mathrm{Var}(\\bar X_R)\\mathrm{Var}(\\bar Y_R) + \\mathrm{Var}(\\bar X_R)\\mathbb{E}\\left[\\bar Y_R\\right]^2\n",
    "      + \\mathrm{Var}(\\bar Y_R)\\mathbb{E}\\left[\\bar X_R\\right]^2\\\\\n",
    "      & = \\frac{1}{R^2}\\mathrm{Var}(X)\\mathrm{Var}(Y) + \\frac{1}{R}\\mathrm{Var}(X) \\mathbb{E}\\left[Y\\right]^2 +\n",
    "      \\frac{1}{R}\\mathrm{Var}(Y)\\mathbb{E}\\left[X\\right]^2. \n",
    "      \\end{split}\n",
    "  $$\n",
    "  And for the second estimator we use that since the sequence $X_1Y_1,X_2Y_2,\\ldots$\n",
    "  is i.i.d, we may argue as above to derive that \n",
    "  $$\n",
    "  \\mathrm{Var}(\\text{Est}_2) = \\frac{1}{R} \\mathrm{Var}(XY)\n",
    "  = \\frac{1}{R} \\mathrm{Var}(X)\\mathrm{Var}(Y) + \\mathrm{Var}(X) \\mathbb{E}\\left[Y\\right]^2 + \\mathrm{Var}(Y)\\mathbb{E}\\left[X\\right]^2.\n",
    "  $$\n",
    "  So whenever $\\mathrm{Var}(X)\\mathrm{Var}(Y)>0$,\n",
    "  $$\n",
    "  \\mathrm{Var}(\\text{Est}_2) -\\mathrm{Var}(\\text{Est}_1) = \\mathrm{Var}(X)\\mathrm{Var}(Y)\\frac{R-1}{R^2} > 0.\n",
    "  $$"
   ]
  },
  {
   "cell_type": "markdown",
   "id": "5931057e-0a4a-41e4-a82a-478de1535451",
   "metadata": {},
   "source": [
    "3. Use the delta method to show that $\\sqrt{R}(\\text{Est}_1-\\mu_x\\mu_y)\\overset{d}{\\rightarrow}N(0,\\tau^2)$. Find $\\tau^2$ explicitly and derive a $1-\\alpha$ asymptotic confidence interval. "
   ]
  },
  {
   "cell_type": "markdown",
   "id": "91b86a68-4048-4a09-8e57-22d45bdf0a24",
   "metadata": {},
   "source": [
    "We have that, \n",
    "   \\begin{equation*}\n",
    "   \\sqrt{R} \\left(\\left[\\begin{array}{c} \\bar{X}_R \\\\ \\bar{Y}_R\\end{array}\\right] - \\left[\\begin{array}{c} \\mu_x \\\\ \\mu_y  \\end{array}\\right]\\right) \\to N(0, \\Sigma),\n",
    "   \\end{equation*}\n",
    "   where $\\Sigma = \\left[\\begin{array}{cc} \\textrm{var}(X) & 0 \\\\ 0 & \\textrm{var}(Y)\\end{array}\\right]$. Then for $h(x, y) = xy$, and after applying the delta method, we get that \n",
    "   \\begin{equation*}\n",
    "   \\sqrt{R} \\left(h(\\bar{X}, \\bar{Y}) - \\mu_x\\mu_y\\right) \\to N(0, \\tau^2)\n",
    "   \\end{equation*}\n",
    "   with $\\tau^2 = [\\mu_y, \\mu_x] \\Sigma \\left[\\begin{array}{c}\\mu_y \\\\ \\mu_x\\end{array}\\right] = \\textrm{Var}(X)\\mathbb{E}[Y]^2 + \\textrm{Var}(Y)\\mathbb{E}[X]^2$. The confidence interval then follows easily."
   ]
  },
  {
   "cell_type": "markdown",
   "id": "c1f00533-dda2-49cc-bdd2-eaabe8e9a609",
   "metadata": {},
   "source": [
    "## Exercise 3\n",
    "\n",
    "Algorithm 1 proposes a sequential Monte Carlo method to compute the expectation $\\mathbb{E}[X]$ of a random variable $X$, where the sample size is doubled at each iteration until the estimated $1-\\alpha$ confidence interval based on a central limit theorem approximation is smaller than a prescribed tolerance $\\epsilon$. The algorithm then outputs the final sample size $N(\\epsilon,\\alpha)$, as well as the estimated value $\\bar X_N$.\n",
    "\n",
    "---\n",
    "**Algorithm 1** Sample Variance Based SMC\n",
    "\n",
    "- **Input:** $N_0$, distribution $\\lambda$, accuracy $\\epsilon>0$, confidence $1-\\alpha>0$.\n",
    "- **Output:** $\\overline X_{\\epsilon,\\alpha} $ (i.e., approximation of $\\mathbb E [ X]$ with $X\\sim\\lambda$), $N$.\n",
    "\n",
    "- Set $k=0$, generate $N_k$ i.i.d. replicas $\\{X_i\\}_{i=1}^{N_k}$ of $X\\sim\\lambda$ and \n",
    "\t\\begin{equation}\\tag{1}\n",
    "\t\\bar{X}_{N_k}=\\frac{1}{N_k}\\sum_{i=1}^{N_k}X_i,\n",
    "\t\\end{equation}\n",
    "\t\n",
    "    \\begin{equation}\\tag{2}\n",
    "    \\overline \\sigma^2_{N_k} := \\frac{1}{N_k-1} \\sum_{i=1}^{N_k} (X_i -\\overline X_{N_k})^2.\n",
    "    \\end{equation}\n",
    "\n",
    "- **while** $\\bar{\\sigma}_{N_k}C_{1-\\alpha/2}/\\sqrt{N_k} > \\epsilon$ **do**\n",
    "    - Set $k =k+1$ and $N_{k}=2N_{k-1}$.\n",
    "    - Generate a new batch of $N_k$ i.i.d. replicas $\\{X_i\\}_{i=1}^{N_k}$ of $X\\sim \\lambda$.\n",
    "    - Compute the sample variance $\\overline \\sigma^2_{N_k}$ by (2).\n",
    "- **end while**\n",
    "\n",
    "- Set $N =N_k$, generate i.i.d. samples $\\{X_i\\}_{i=1}^{N}$ of $\\lambda$ and compute the output sample mean $\\overline X_{\\epsilon,\\alpha}$.\n",
    "\n",
    "---\n",
    "\n",
    "Algorithm 1 can be particularly sensitive to the choice of initial sample size $N_0$, and as such, we would like to assess the robustness of such an algorithm in estimating $\\mathbb{E}[ X]$ for different distributions of $X$. For some values of $N_0$ ranging between $10$ and $50$,  consider $\\alpha = 10^{-1.5}$ and $\\epsilon =1/10$, and the following random variables:\n",
    "\n",
    "1. $X \\sim \\text{Pareto}(x_m=1,\\gamma=3.1)$ (i.e. with PDF $p(y) = \\mathbb{1}_{y>x_m} x_m^\\gamma \\gamma y^{-(\\gamma+1)}$), $\\,\\mathbb{E}[X]=\\frac{\\gamma x_m}{\\gamma-1}.$\n",
    "2. $X \\sim \\text{Lognormal}(\\mu=0,\\sigma=1)$,  $\\,\\mathbb{E}[X]=\\exp\\left(\\mu+\\frac{\\sigma^2}{2}\\right).$\n",
    "3. $X \\sim U([-1,1]),$ $\\,\\mathbb{E}[X]=0$.\n",
    "\n",
    "Repeat the simulation $K=20\\alpha^{-1}$ times and record the sample sizes $\\{N^{(i)}\\}_{i=1}^K$ as well as the computed sample means $\\{\\bar{X}_{\\epsilon,\\alpha}^{(i)}\\}_{i=1}^K$ returned by the algorithm for each run $i=1,...,K$. Estimate the probability of failure $\\overline p$ of the algorithm:\n",
    "\n",
    "$$\n",
    "\\large\n",
    "\\overline p_K(N_0,\\epsilon,\\alpha)=\\frac{1}{K}\\sum_{i=1}^{K}\\mathbb{1}_{|\\bar{X}^{(i)}_{\\epsilon, \\alpha}-\\mathbb{E}[X]|>\\epsilon}.\n",
    "$$\n",
    "\n",
    "Then check whether  $\\overline p_K(N_0,\\epsilon,\\alpha) \\le \\alpha$ holds. Repeat your experiment for different values of $\\epsilon$ and $\\alpha$. Discuss your results. \n",
    "\n",
    "**Hint 1:** You may generate Pareto$(x_m,\\alpha)$ r.v. by inversion or have a look at [`scipy.stats.pareto`](https://docs.scipy.org/doc/scipy/reference/generated/scipy.stats.pareto.html).\n",
    "\n",
    "**Hint 2:** The specified type hint [`rv_continuous`](https://docs.scipy.org/doc/scipy/reference/generated/scipy.stats.rv_continuous.html) for the `dist` argument within the `algorithm_1` function down below indicates that you have the flexibility to use any of [SciPy's continous distributions](https://docs.scipy.org/doc/scipy/tutorial/stats/continuous.html). For instance, you can pass `dist=pareto(b=3.1)` or `dist=lognorm(s=1)`. Of course, while this is only one of many possible solutions, it allows a modular code implementation."
   ]
  },
  {
   "cell_type": "markdown",
   "id": "86a66712-a1c7-4a64-aaba-0305f929e842",
   "metadata": {},
   "source": [
    "Notice that since $\\mathbb{E}[\\bar{p}_N]\\sim \\alpha$, $\\mathrm{Var}[\\bar p_N]\\sim \\alpha(1-\\alpha)/N\\sim \\alpha/N$, the choice $N=20\\alpha^{-1}$ gives a 95\\% confidence interval $\\alpha\\pm \\frac{\\sqrt{\\alpha}}{\\sqrt{N}}C_{1-\\alpha/2}\\sim \\alpha\\left(1\\pm \\frac{C_{1-\\alpha/2}}{\\sqrt{20}}\\right)$. The results of the numerical tests are plotted in the following Figures.\n",
    "\n",
    "For the estimate of $\\overline p_N$ \n",
    "we have included errorbars\n",
    "of magnitude $\\sigma_N := 2\\sqrt{\\overline p_N(1-\\overline p_N)/N}$\n",
    "for all three distributions.\n",
    "Random variables from the Pareto distribution can be sampled using inversion sampling with $F^{-1}(x) = (1-x)^{-1/3.1}$.\n",
    "For Algorithm 1, we observe that only the heavy-tailed Pareto($x_m=1,\\alpha=3.1$) distribution fails to approximate its mean with the sought confidence as $p_N-2 \\sigma_N > \\delta$ for all $N_0$-values (and the failure is more pronounced for lower $N_0$-values), while for the other two distributions, one always has $p_N + 2\\sigma_N < \\delta$."
   ]
  },
  {
   "cell_type": "code",
   "execution_count": 16,
   "id": "4cd28ebf-9bb9-433b-bc53-8e46c61887b7",
   "metadata": {},
   "outputs": [],
   "source": [
    "def algorithm_1(n: int, dist: rv_continuous, alpha: float, eps: float) -> Tuple[float, int]:\n",
    "    \"\"\"\n",
    "    Estimates the mean of a random variable with distribution `dist` using the SMC Algorithm 1.\n",
    "    Returns the estimated mean and the final sample size.\n",
    "    \"\"\"\n",
    "    x = dist.rvs(n)\n",
    "    sigma = np.std(x, ddof=1)\n",
    "\n",
    "    while sigma * norm.ppf(1 - alpha / 2) / np.sqrt(n) > eps:\n",
    "        n *= 2\n",
    "        x = dist.rvs(size=n)\n",
    "        sigma = np.std(x, ddof=1)\n",
    "\n",
    "    mean = x.mean()\n",
    "\n",
    "    return mean, n"
   ]
  },
  {
   "cell_type": "code",
   "execution_count": 17,
   "id": "6b38143a-68ca-49ca-b7c1-0994ec3c988f",
   "metadata": {},
   "outputs": [],
   "source": [
    "def prob_of_failure(algo: Callable, n: int, dist: rv_continuous, alpha: float, eps: float) -> float:\n",
    "    \"\"\"\n",
    "    Estimates the probability of failure for a given algorithm.\n",
    "    \"\"\"\n",
    "    K = int(20 * alpha ** -1)\n",
    "\n",
    "    sample_means = np.zeros(K)\n",
    "    sample_sizes = np.zeros(K)\n",
    "    for i in tqdm(range(K)):\n",
    "        mean, size = algo(n, dist, alpha, eps)\n",
    "        sample_means[i] = mean\n",
    "        sample_sizes[i] = size\n",
    "\n",
    "    true_mean = dist.expect()\n",
    "    p = (np.abs(sample_means - true_mean) > eps).mean()\n",
    "\n",
    "    return p"
   ]
  },
  {
   "cell_type": "code",
   "execution_count": 18,
   "id": "9206453d-9dbc-4c02-81c8-8f78b51713be",
   "metadata": {},
   "outputs": [],
   "source": [
    "def plot_probs_of_failure(probs: np.array, alpha: float):\n",
    "    \"\"\"Plots estimated oribabilities of failure with errorbars.\"\"\"\n",
    "    K = int(20 * alpha ** -1)\n",
    "    err_bars = 2 * np.sqrt(probs * (1 - probs) / K)\n",
    "\n",
    "    labels = [\"Pareto\", \"Lognormal\", \"Uniform\"]\n",
    "    for i in range(len(dists)):\n",
    "        plt.errorbar(ns, probs[:, i], yerr=err_bars[:, i], label=labels[i])\n",
    "    \n",
    "    plt.plot(ns, len(ns) * [alpha], \"k--\", label=r\"$\\alpha$\")\n",
    "    plt.xlabel(r\"$N_0$\")\n",
    "    plt.ylabel(r\"$\\bar{p}_N$\")\n",
    "    plt.legend()"
   ]
  },
  {
   "cell_type": "code",
   "execution_count": 19,
   "id": "90e19ad0-a496-4742-a6bd-c3d295bab1fd",
   "metadata": {},
   "outputs": [],
   "source": [
    "alpha = 10 ** (-1.5)\n",
    "eps = 1e-1\n",
    "\n",
    "dists = [\n",
    "    pareto(b=3.1),\n",
    "    lognorm(s=1),\n",
    "    uniform(loc=-1, scale=2),\n",
    "]\n",
    "\n",
    "ns = np.arange(10, 50 + 1, 10)"
   ]
  },
  {
   "cell_type": "code",
   "execution_count": 20,
   "id": "374e4fa4-1723-4728-ac31-8ac16aaeb50e",
   "metadata": {},
   "outputs": [
    {
     "data": {
      "application/vnd.jupyter.widget-view+json": {
       "model_id": "fa662a194f004544a91408606485edde",
       "version_major": 2,
       "version_minor": 0
      },
      "text/plain": [
       "  0%|          | 0/632 [00:00<?, ?it/s]"
      ]
     },
     "metadata": {},
     "output_type": "display_data"
    },
    {
     "data": {
      "application/vnd.jupyter.widget-view+json": {
       "model_id": "91113d5af18a481e929059a37f8ec97e",
       "version_major": 2,
       "version_minor": 0
      },
      "text/plain": [
       "  0%|          | 0/632 [00:00<?, ?it/s]"
      ]
     },
     "metadata": {},
     "output_type": "display_data"
    },
    {
     "data": {
      "application/vnd.jupyter.widget-view+json": {
       "model_id": "eaf9d9f83c634b6f83f2a6be349f37ec",
       "version_major": 2,
       "version_minor": 0
      },
      "text/plain": [
       "  0%|          | 0/632 [00:00<?, ?it/s]"
      ]
     },
     "metadata": {},
     "output_type": "display_data"
    },
    {
     "data": {
      "application/vnd.jupyter.widget-view+json": {
       "model_id": "2d8e55d2df7542ddbd438a97d29faf01",
       "version_major": 2,
       "version_minor": 0
      },
      "text/plain": [
       "  0%|          | 0/632 [00:00<?, ?it/s]"
      ]
     },
     "metadata": {},
     "output_type": "display_data"
    },
    {
     "data": {
      "application/vnd.jupyter.widget-view+json": {
       "model_id": "12e2ebe2346f4dc68a282a1239684d35",
       "version_major": 2,
       "version_minor": 0
      },
      "text/plain": [
       "  0%|          | 0/632 [00:00<?, ?it/s]"
      ]
     },
     "metadata": {},
     "output_type": "display_data"
    },
    {
     "data": {
      "application/vnd.jupyter.widget-view+json": {
       "model_id": "1f9097698a334bb38d7dc2ec493a3c57",
       "version_major": 2,
       "version_minor": 0
      },
      "text/plain": [
       "  0%|          | 0/632 [00:00<?, ?it/s]"
      ]
     },
     "metadata": {},
     "output_type": "display_data"
    },
    {
     "data": {
      "application/vnd.jupyter.widget-view+json": {
       "model_id": "3b2e08a310d849499c6946ba2d886ada",
       "version_major": 2,
       "version_minor": 0
      },
      "text/plain": [
       "  0%|          | 0/632 [00:00<?, ?it/s]"
      ]
     },
     "metadata": {},
     "output_type": "display_data"
    },
    {
     "data": {
      "application/vnd.jupyter.widget-view+json": {
       "model_id": "802766d336104343b0d93368ff2b3d7b",
       "version_major": 2,
       "version_minor": 0
      },
      "text/plain": [
       "  0%|          | 0/632 [00:00<?, ?it/s]"
      ]
     },
     "metadata": {},
     "output_type": "display_data"
    },
    {
     "data": {
      "application/vnd.jupyter.widget-view+json": {
       "model_id": "a7f429b9ab20492889144acaec7535e2",
       "version_major": 2,
       "version_minor": 0
      },
      "text/plain": [
       "  0%|          | 0/632 [00:00<?, ?it/s]"
      ]
     },
     "metadata": {},
     "output_type": "display_data"
    },
    {
     "data": {
      "application/vnd.jupyter.widget-view+json": {
       "model_id": "da752298fa4448a696bd298f21a37dc9",
       "version_major": 2,
       "version_minor": 0
      },
      "text/plain": [
       "  0%|          | 0/632 [00:00<?, ?it/s]"
      ]
     },
     "metadata": {},
     "output_type": "display_data"
    },
    {
     "data": {
      "application/vnd.jupyter.widget-view+json": {
       "model_id": "a4dbb40590f347cdb317d653d88d5da3",
       "version_major": 2,
       "version_minor": 0
      },
      "text/plain": [
       "  0%|          | 0/632 [00:00<?, ?it/s]"
      ]
     },
     "metadata": {},
     "output_type": "display_data"
    },
    {
     "data": {
      "application/vnd.jupyter.widget-view+json": {
       "model_id": "46d75435bf634679b97beb3d742b7f69",
       "version_major": 2,
       "version_minor": 0
      },
      "text/plain": [
       "  0%|          | 0/632 [00:00<?, ?it/s]"
      ]
     },
     "metadata": {},
     "output_type": "display_data"
    },
    {
     "data": {
      "application/vnd.jupyter.widget-view+json": {
       "model_id": "7623214d1b5841b68464916182fafcb7",
       "version_major": 2,
       "version_minor": 0
      },
      "text/plain": [
       "  0%|          | 0/632 [00:00<?, ?it/s]"
      ]
     },
     "metadata": {},
     "output_type": "display_data"
    },
    {
     "data": {
      "application/vnd.jupyter.widget-view+json": {
       "model_id": "50f6e8147c974d7e974ac92fc084712f",
       "version_major": 2,
       "version_minor": 0
      },
      "text/plain": [
       "  0%|          | 0/632 [00:00<?, ?it/s]"
      ]
     },
     "metadata": {},
     "output_type": "display_data"
    },
    {
     "data": {
      "application/vnd.jupyter.widget-view+json": {
       "model_id": "8e06e940d44748fbbf95a6a5fac00f00",
       "version_major": 2,
       "version_minor": 0
      },
      "text/plain": [
       "  0%|          | 0/632 [00:00<?, ?it/s]"
      ]
     },
     "metadata": {},
     "output_type": "display_data"
    }
   ],
   "source": [
    "probs_alg_1 = np.zeros((len(ns), len(dists)))\n",
    "for i, dist in enumerate(dists):\n",
    "    for j, n in enumerate(ns):\n",
    "        probs_alg_1[j, i] = prob_of_failure(algorithm_1, n, dist, alpha, eps)"
   ]
  },
  {
   "cell_type": "code",
   "execution_count": 21,
   "id": "526bc888-12cf-49b8-bbe5-16a687f59acd",
   "metadata": {},
   "outputs": [
    {
     "data": {
      "image/png": "[encoded data removed]",
      "text/plain": [
       "<Figure size 640x480 with 1 Axes>"
      ]
     },
     "metadata": {},
     "output_type": "display_data"
    }
   ],
   "source": [
    "plot_probs_of_failure(probs_alg_1, alpha)\n",
    "plt.title(\"Probability of failure for Algorithm 1\");"
   ]
  },
  {
   "cell_type": "markdown",
   "id": "9e64d51d-e0ec-4c51-a02a-6358ae5e043c",
   "metadata": {},
   "source": [
    "## Exercise 4\n",
    "\n",
    "Compare Algorithm 1 with the sequential Monte Carlo method in Algorithm 2, where one realization is added at a time. \n",
    "\n",
    "---\n",
    "**Algorithm 2** One-at-a-time Sample Variance Based SMC\n",
    "\n",
    "- **Input:** $N_0$, distribution $\\lambda$, accuracy $\\epsilon>0$, confidence $1-\\alpha>0$.\n",
    "- **Output:** $\\overline X_{\\epsilon,\\alpha} $ (i.e, approximation of $\\mathbb E [ X]$ with $X\\sim\\lambda$), $N$.\n",
    "\n",
    "- Set $k=0$, generate $N_k$ i.i.d. samples $\\{X_i\\}_{i=1}^{N_k}$ of $\\lambda$ and compute the sample variance \n",
    "    $$\n",
    "    \\overline \\sigma^2_{N_k} := \\frac{1}{N_k-1} \\sum_{i=1}^{N_k} (X_i -\\overline{X}_{N_k})^2.\n",
    "    $$\n",
    "\n",
    "- **while** $\\bar{\\sigma}_{N_k}C_{1-\\alpha/2}/\\sqrt{N_k} > \\epsilon$ **do**\n",
    "    - Set $k =k+1$ and $N_{k}=N_{k-1} + 1$.\n",
    "    - Generate a new  i.i.d. sample $X^{(N_k+1)}$ of $\\lambda$.\n",
    "    - Compute\\begin{align}\n",
    "\\bar{\\mu}_{N_k+1}&=\\frac{N_k}{N_k+1}\\bar{\\mu} +\\frac{1}{N_k+1}X^{(N_k+1)}\\\\\n",
    "\\bar\\sigma^2_{N_k+1}&=\\frac{N_k-1}{N_k}\\sigma^2_{N_k}+\n",
    "\\frac{1}{N_k+1}(X^{(N_k+1)}-\\bar\\mu_{N_k})^2\n",
    "\t\t\\end{align}\n",
    "- **end while**\n",
    "\n",
    "- Set $N =N_k$, generate i.i.d. samples $\\{X_i\\}_{i=1}^{N}$ of $\\lambda$ and compute the output sample mean $\\overline X_{\\epsilon,\\alpha}$.\n",
    "\n",
    "---\n"
   ]
  },
  {
   "cell_type": "code",
   "execution_count": 22,
   "id": "c9b2a286-b213-4a62-afa7-b5524df99221",
   "metadata": {},
   "outputs": [],
   "source": [
    "def algorithm_2(n: int, dist: rv_continuous, alpha: float, eps: float) -> Tuple[float, int]:\n",
    "    \"\"\"\n",
    "    Estimate the mean of a random variable with distirbution `dist` using the SMC Algorithm 2.\n",
    "    Returns the estimated mean and the final sample size.\n",
    "    \"\"\"\n",
    "    x = dist.rvs(n)\n",
    "    mean = np.mean(x)\n",
    "    sigma = np.var(x, ddof=1)\n",
    "\n",
    "    while np.sqrt(sigma) * norm.ppf(1 - alpha / 2) / np.sqrt(n) > eps:\n",
    "        n += 1\n",
    "        x = dist.rvs(size=1)[0]\n",
    "        mean = (n * mean + x) / (n + 1)       \n",
    "        sigma = (n - 1) / n * sigma + (x - mean) ** 2 / (n + 1)\n",
    "\n",
    "    return mean, n"
   ]
  },
  {
   "cell_type": "markdown",
   "id": "c1f0d685-1890-48fe-aabe-b80de2bb90af",
   "metadata": {},
   "source": [
    "When using Algorithm 2, the Pareto distribution once again fails to approximate the mean for all $N_0$ but the failure rate of the algorithm is higher for a given $N_0$ than Algorithm 1. \n",
    "We also observe that the algorithm fails to approximate the mean for all $N_0$ for the other distributions as well. \n",
    "\n",
    "**Note:** Due to adding one sample at a time in Algorithm 2, the following cell needs a bit longer to compute (approx. 8 min)."
   ]
  },
  {
   "cell_type": "code",
   "execution_count": 23,
   "id": "6dba82f9-1db1-47b6-865b-e5e822915fa2",
   "metadata": {},
   "outputs": [
    {
     "data": {
      "application/vnd.jupyter.widget-view+json": {
       "model_id": "0fb248dea97d49288b7251eb8bb358c9",
       "version_major": 2,
       "version_minor": 0
      },
      "text/plain": [
       "  0%|          | 0/632 [00:00<?, ?it/s]"
      ]
     },
     "metadata": {},
     "output_type": "display_data"
    },
    {
     "data": {
      "application/vnd.jupyter.widget-view+json": {
       "model_id": "041b9ce330a34ae8ad84a5969c067120",
       "version_major": 2,
       "version_minor": 0
      },
      "text/plain": [
       "  0%|          | 0/632 [00:00<?, ?it/s]"
      ]
     },
     "metadata": {},
     "output_type": "display_data"
    },
    {
     "data": {
      "application/vnd.jupyter.widget-view+json": {
       "model_id": "da3fe76ffd924fb5976358933e6c61c0",
       "version_major": 2,
       "version_minor": 0
      },
      "text/plain": [
       "  0%|          | 0/632 [00:00<?, ?it/s]"
      ]
     },
     "metadata": {},
     "output_type": "display_data"
    },
    {
     "data": {
      "application/vnd.jupyter.widget-view+json": {
       "model_id": "646fdb5aa8674d34a1d42a0c87df360a",
       "version_major": 2,
       "version_minor": 0
      },
      "text/plain": [
       "  0%|          | 0/632 [00:00<?, ?it/s]"
      ]
     },
     "metadata": {},
     "output_type": "display_data"
    },
    {
     "data": {
      "application/vnd.jupyter.widget-view+json": {
       "model_id": "92d14198b5304d24a40b6206cca7f79d",
       "version_major": 2,
       "version_minor": 0
      },
      "text/plain": [
       "  0%|          | 0/632 [00:00<?, ?it/s]"
      ]
     },
     "metadata": {},
     "output_type": "display_data"
    },
    {
     "data": {
      "application/vnd.jupyter.widget-view+json": {
       "model_id": "d49f6654249c4dc8b2dc26d374614314",
       "version_major": 2,
       "version_minor": 0
      },
      "text/plain": [
       "  0%|          | 0/632 [00:00<?, ?it/s]"
      ]
     },
     "metadata": {},
     "output_type": "display_data"
    },
    {
     "data": {
      "application/vnd.jupyter.widget-view+json": {
       "model_id": "38cc537da2bd4daea2feb1bce1ac3ab5",
       "version_major": 2,
       "version_minor": 0
      },
      "text/plain": [
       "  0%|          | 0/632 [00:00<?, ?it/s]"
      ]
     },
     "metadata": {},
     "output_type": "display_data"
    },
    {
     "data": {
      "application/vnd.jupyter.widget-view+json": {
       "model_id": "dd4af3cbb60349dc8d5e66245a1c77b6",
       "version_major": 2,
       "version_minor": 0
      },
      "text/plain": [
       "  0%|          | 0/632 [00:00<?, ?it/s]"
      ]
     },
     "metadata": {},
     "output_type": "display_data"
    },
    {
     "data": {
      "application/vnd.jupyter.widget-view+json": {
       "model_id": "c0b44d4673b34ddfb8c4629a59e6e238",
       "version_major": 2,
       "version_minor": 0
      },
      "text/plain": [
       "  0%|          | 0/632 [00:00<?, ?it/s]"
      ]
     },
     "metadata": {},
     "output_type": "display_data"
    },
    {
     "data": {
      "application/vnd.jupyter.widget-view+json": {
       "model_id": "2cde468574174d50a4b2724eda203121",
       "version_major": 2,
       "version_minor": 0
      },
      "text/plain": [
       "  0%|          | 0/632 [00:00<?, ?it/s]"
      ]
     },
     "metadata": {},
     "output_type": "display_data"
    },
    {
     "data": {
      "application/vnd.jupyter.widget-view+json": {
       "model_id": "fdfc40d363c14aebbac83fcf2bf5f6e1",
       "version_major": 2,
       "version_minor": 0
      },
      "text/plain": [
       "  0%|          | 0/632 [00:00<?, ?it/s]"
      ]
     },
     "metadata": {},
     "output_type": "display_data"
    },
    {
     "data": {
      "application/vnd.jupyter.widget-view+json": {
       "model_id": "277461dfdfa24dec83b114d77791d467",
       "version_major": 2,
       "version_minor": 0
      },
      "text/plain": [
       "  0%|          | 0/632 [00:00<?, ?it/s]"
      ]
     },
     "metadata": {},
     "output_type": "display_data"
    },
    {
     "data": {
      "application/vnd.jupyter.widget-view+json": {
       "model_id": "88172f2ba86a46f8aee3575490464e17",
       "version_major": 2,
       "version_minor": 0
      },
      "text/plain": [
       "  0%|          | 0/632 [00:00<?, ?it/s]"
      ]
     },
     "metadata": {},
     "output_type": "display_data"
    },
    {
     "data": {
      "application/vnd.jupyter.widget-view+json": {
       "model_id": "da5b90bc81e34c868ddb74fdbe628a9f",
       "version_major": 2,
       "version_minor": 0
      },
      "text/plain": [
       "  0%|          | 0/632 [00:00<?, ?it/s]"
      ]
     },
     "metadata": {},
     "output_type": "display_data"
    },
    {
     "data": {
      "application/vnd.jupyter.widget-view+json": {
       "model_id": "05d7b76b0f3b45cea6dbcc4c6107240a",
       "version_major": 2,
       "version_minor": 0
      },
      "text/plain": [
       "  0%|          | 0/632 [00:00<?, ?it/s]"
      ]
     },
     "metadata": {},
     "output_type": "display_data"
    }
   ],
   "source": [
    "probs_alg_2 = np.zeros((len(ns), len(dists)))\n",
    "for i, dist in enumerate(dists):\n",
    "    for j, n in enumerate(ns):\n",
    "        probs_alg_2[j, i] = prob_of_failure(algorithm_2, n, dist, alpha, eps)"
   ]
  },
  {
   "cell_type": "code",
   "execution_count": 23,
   "id": "644902a6-b007-474a-b801-cc3d856e3d91",
   "metadata": {},
   "outputs": [
    {
     "data": {
      "image/png": "[encoded data removed]",
      "text/plain": [
       "<Figure size 640x480 with 1 Axes>"
      ]
     },
     "metadata": {},
     "output_type": "display_data"
    }
   ],
   "source": [
    "plot_probs_of_failure(probs_alg_2, alpha)\n",
    "plt.title(\"Probability of failure for Algorithm 2\");"
   ]
  }
 ],
 "metadata": {
  "kernelspec": {
   "display_name": "Python 3 (ipykernel)",
   "language": "python",
   "name": "python3"
  },
  "language_info": {
   "codemirror_mode": {
    "name": "ipython",
    "version": 3
   },
   "file_extension": ".py",
   "mimetype": "text/x-python",
   "name": "python",
   "nbconvert_exporter": "python",
   "pygments_lexer": "ipython3",
   "version": "3.10.12"
  },
  "widgets": {
   "application/vnd.jupyter.widget-state+json": {
    "state": {
     "0029c98fe3aa42249efaaf1eea66496b": {
      "model_module": "@jupyter-widgets/controls",
      "model_module_version": "2.0.0",
      "model_name": "HTMLStyleModel",
      "state": {
       "description_width": "",
       "font_size": null,
       "text_color": null
      }
     },
     "034f651505ce49acbfe9105af8cbe893": {
      "model_module": "@jupyter-widgets/controls",
      "model_module_version": "2.0.0",
      "model_name": "HTMLModel",
      "state": {
       "layout": "IPY_MODEL_ea76e55c84124aed99d7aa9b56d03cde",
       "style": "IPY_MODEL_a9a39dac4c794c18b7c1bae579d18c8a",
       "value": " 632/632 [00:00&lt;00:00, 1346.61it/s]"
      }
     },
     "03b7ad9e44e64f21ba0785f9c698b97e": {
      "model_module": "@jupyter-widgets/base",
      "model_module_version": "2.0.0",
      "model_name": "LayoutModel",
      "state": {}
     },
     "041b9ce330a34ae8ad84a5969c067120": {
      "model_module": "@jupyter-widgets/controls",
      "model_module_version": "2.0.0",
      "model_name": "HBoxModel",
      "state": {
       "children": [
        "IPY_MODEL_f051d8f116a14253a915a922330b1c47",
        "IPY_MODEL_4b052183e26d4275bdd83bc634cf4389",
        "IPY_MODEL_2145f62d41d649fb9bc7f9b6d5645871"
       ],
       "layout": "IPY_MODEL_bf6e31fdb3c1437cb04d89462fd4234a"
      }
     },
     "05a58c77dc3647638e171fdf49147703": {
      "model_module": "@jupyter-widgets/controls",
      "model_module_version": "2.0.0",
      "model_name": "HTMLModel",
      "state": {
       "layout": "IPY_MODEL_2902bbf6565a4413929004dc74842519",
       "style": "IPY_MODEL_ab17f055f70f427ab430552706d8df14",
       "value": "100%"
      }
     },
     "05d7b76b0f3b45cea6dbcc4c6107240a": {
      "model_module": "@jupyter-widgets/controls",
      "model_module_version": "2.0.0",
      "model_name": "HBoxModel",
      "state": {
       "children": [
        "IPY_MODEL_d28e0e2c8c994ad0850e6eca2e253de1",
        "IPY_MODEL_c42b2617ceec44fb8793713f1a7b70be",
        "IPY_MODEL_f04db7aec4744732892e4ad50eaa94b9"
       ],
       "layout": "IPY_MODEL_784d243d3d1648e888df5b3b2e9321a1"
      }
     },
     "083890d2d9f24ff7ae050dfd63242c71": {
      "model_module": "@jupyter-widgets/base",
      "model_module_version": "2.0.0",
      "model_name": "LayoutModel",
      "state": {}
     },
     "08ab7c41ecab4d5d9229f70c9b52f68f": {
      "model_module": "@jupyter-widgets/controls",
      "model_module_version": "2.0.0",
      "model_name": "HTMLModel",
      "state": {
       "layout": "IPY_MODEL_33eca39db0434a408da21be47fddb930",
       "style": "IPY_MODEL_e0b57a1b10794910ba22cf0d415476a3",
       "value": " 632/632 [00:08&lt;00:00, 65.69it/s]"
      }
     },
     "093d0679085e4550b0e582f771719ff5": {
      "model_module": "@jupyter-widgets/controls",
      "model_module_version": "2.0.0",
      "model_name": "HTMLModel",
      "state": {
       "layout": "IPY_MODEL_85cd643c9f0f4c0a8218cd0e1a2711eb",
       "style": "IPY_MODEL_422a89a4bfe14f908fd2c9a0452b22f3",
       "value": "100%"
      }
     },
     "0a13fb09e4b84d73b13f02932024e249": {
      "model_module": "@jupyter-widgets/controls",
      "model_module_version": "2.0.0",
      "model_name": "HTMLModel",
      "state": {
       "layout": "IPY_MODEL_989c52ef5a474559ad465c5acddc6ae1",
       "style": "IPY_MODEL_99acc5cb5b444fcd983cf8731b046a50",
       "value": " 632/632 [00:00&lt;00:00, 2193.20it/s]"
      }
     },
     "0ba85c3d876040469c48365cacc7e1fd": {
      "model_module": "@jupyter-widgets/base",
      "model_module_version": "2.0.0",
      "model_name": "LayoutModel",
      "state": {}
     },
     "0c50704e0e174959a85890e5444fc093": {
      "model_module": "@jupyter-widgets/controls",
      "model_module_version": "2.0.0",
      "model_name": "HTMLModel",
      "state": {
       "layout": "IPY_MODEL_feee06e927ce48dfbdd09267d3aab3ad",
       "style": "IPY_MODEL_c6a01a57d5f44df3b6337b524b1851ad",
       "value": "100%"
      }
     },
     "0f2424fded4f4718869878755ed9204a": {
      "model_module": "@jupyter-widgets/base",
      "model_module_version": "2.0.0",
      "model_name": "LayoutModel",
      "state": {}
     },
     "0f99de821acd41b19b4bde5092c01ed5": {
      "model_module": "@jupyter-widgets/controls",
      "model_module_version": "2.0.0",
      "model_name": "HTMLModel",
      "state": {
       "layout": "IPY_MODEL_f2954f63b5c24c38a0df07109d2e7cf7",
       "style": "IPY_MODEL_327a3c9c22954c0a99c683f051915f08",
       "value": " 632/632 [01:43&lt;00:00,  4.74it/s]"
      }
     },
     "0f9bb7e6bd934b2d82546c5763f12dbf": {
      "model_module": "@jupyter-widgets/controls",
      "model_module_version": "2.0.0",
      "model_name": "HTMLModel",
      "state": {
       "layout": "IPY_MODEL_91706f0ec34a47a7a8f61252a17f19e6",
       "style": "IPY_MODEL_2921a44d50e54e44bbaa126dca0d5193",
       "value": " 632/632 [00:00&lt;00:00, 1394.78it/s]"
      }
     },
     "0fb248dea97d49288b7251eb8bb358c9": {
      "model_module": "@jupyter-widgets/controls",
      "model_module_version": "2.0.0",
      "model_name": "HBoxModel",
      "state": {
       "children": [
        "IPY_MODEL_b66bcf7785854ff9b96328741366a148",
        "IPY_MODEL_c31929732bc34b6b8cf93971fcfa4f83",
        "IPY_MODEL_08ab7c41ecab4d5d9229f70c9b52f68f"
       ],
       "layout": "IPY_MODEL_5f50969c88734cfca9de0e0127c8942a"
      }
     },
     "0fb779db3d1a4da1a713e2e1721ff280": {
      "model_module": "@jupyter-widgets/base",
      "model_module_version": "2.0.0",
      "model_name": "LayoutModel",
      "state": {}
     },
     "10a04e22c4de4e5987c68cb322ac1212": {
      "model_module": "@jupyter-widgets/controls",
      "model_module_version": "2.0.0",
      "model_name": "HTMLModel",
      "state": {
       "layout": "IPY_MODEL_85f123cda1b042a2be065cbcdc5ba635",
       "style": "IPY_MODEL_cbd86617762d469ba243c72ccdf7c1f1",
       "value": " 632/632 [00:00&lt;00:00, 1431.07it/s]"
      }
     },
     "114d36f3e6b2414aa14328ec8e5f73be": {
      "model_module": "@jupyter-widgets/controls",
      "model_module_version": "2.0.0",
      "model_name": "HTMLModel",
      "state": {
       "layout": "IPY_MODEL_f998f978de4b4705bd01848499dc1d31",
       "style": "IPY_MODEL_811458727a624b6bae9f18f6b0360acc",
       "value": "100%"
      }
     },
     "121ddf25be164019946569d28c133648": {
      "model_module": "@jupyter-widgets/base",
      "model_module_version": "2.0.0",
      "model_name": "LayoutModel",
      "state": {}
     },
     "12e2ebe2346f4dc68a282a1239684d35": {
      "model_module": "@jupyter-widgets/controls",
      "model_module_version": "2.0.0",
      "model_name": "HBoxModel",
      "state": {
       "children": [
        "IPY_MODEL_602c577b36ee4afd9c06b0f95605bc63",
        "IPY_MODEL_5f1efa7a996d45a99964fb5fd05037ff",
        "IPY_MODEL_88e6d51ff8b54437a90b5e891ffbfb50"
       ],
       "layout": "IPY_MODEL_1f6afae937d44f79b695d6483edf8ba3"
      }
     },
     "13a73b14823e45fc856a87a7030a0f41": {
      "model_module": "@jupyter-widgets/controls",
      "model_module_version": "2.0.0",
      "model_name": "ProgressStyleModel",
      "state": {
       "description_width": ""
      }
     },
     "142fd4d74e3c48068b612ae250bae899": {
      "model_module": "@jupyter-widgets/controls",
      "model_module_version": "2.0.0",
      "model_name": "ProgressStyleModel",
      "state": {
       "description_width": ""
      }
     },
     "17cc0865e7044eb2a43d608c4f24e5f2": {
      "model_module": "@jupyter-widgets/base",
      "model_module_version": "2.0.0",
      "model_name": "LayoutModel",
      "state": {}
     },
     "19b1778d966341cabe50cea9a09f9cfe": {
      "model_module": "@jupyter-widgets/base",
      "model_module_version": "2.0.0",
      "model_name": "LayoutModel",
      "state": {}
     },
     "1aa59c54b5494a1aab51a48dc27041cb": {
      "model_module": "@jupyter-widgets/controls",
      "model_module_version": "2.0.0",
      "model_name": "ProgressStyleModel",
      "state": {
       "description_width": ""
      }
     },
     "1b4993bd17cc48aaa5962a417f6b6eb1": {
      "model_module": "@jupyter-widgets/base",
      "model_module_version": "2.0.0",
      "model_name": "LayoutModel",
      "state": {}
     },
     "1caceb7a30124331a9ebea086411707c": {
      "model_module": "@jupyter-widgets/controls",
      "model_module_version": "2.0.0",
      "model_name": "ProgressStyleModel",
      "state": {
       "description_width": ""
      }
     },
     "1e16ed15bec94139a1a7663fac6b8584": {
      "model_module": "@jupyter-widgets/controls",
      "model_module_version": "2.0.0",
      "model_name": "HTMLModel",
      "state": {
       "layout": "IPY_MODEL_8fded2d03f034e7c941f41c4ca440d3f",
       "style": "IPY_MODEL_61eabfd51a0241d79738ca147aa29ae6",
       "value": "100%"
      }
     },
     "1edc018b032041e0bb4968a3b3956834": {
      "model_module": "@jupyter-widgets/controls",
      "model_module_version": "2.0.0",
      "model_name": "FloatProgressModel",
      "state": {
       "bar_style": "success",
       "layout": "IPY_MODEL_a6afb859793845f5a086dba609e38cf7",
       "max": 632,
       "style": "IPY_MODEL_db0a65995620414f9d06b6818c2ec9a8",
       "value": 632
      }
     },
     "1f4ef09d81fc4f2d8c1d795f2d84d55b": {
      "model_module": "@jupyter-widgets/controls",
      "model_module_version": "2.0.0",
      "model_name": "ProgressStyleModel",
      "state": {
       "description_width": ""
      }
     },
     "1f6afae937d44f79b695d6483edf8ba3": {
      "model_module": "@jupyter-widgets/base",
      "model_module_version": "2.0.0",
      "model_name": "LayoutModel",
      "state": {}
     },
     "1f9097698a334bb38d7dc2ec493a3c57": {
      "model_module": "@jupyter-widgets/controls",
      "model_module_version": "2.0.0",
      "model_name": "HBoxModel",
      "state": {
       "children": [
        "IPY_MODEL_1e16ed15bec94139a1a7663fac6b8584",
        "IPY_MODEL_d4ccf34dc3ff44e9bf344a35ff6ec8b1",
        "IPY_MODEL_a59928caabc744b2b87beb77c128a35c"
       ],
       "layout": "IPY_MODEL_7a32e2b47c13444a80462fbfbfd4f3f4"
      }
     },
     "1fc1023f44ed4a3e86083fef22111650": {
      "model_module": "@jupyter-widgets/controls",
      "model_module_version": "2.0.0",
      "model_name": "ProgressStyleModel",
      "state": {
       "description_width": ""
      }
     },
     "2074b62d9f5e4ef1b278aa4d76b70389": {
      "model_module": "@jupyter-widgets/controls",
      "model_module_version": "2.0.0",
      "model_name": "FloatProgressModel",
      "state": {
       "bar_style": "success",
       "layout": "IPY_MODEL_121ddf25be164019946569d28c133648",
       "max": 632,
       "style": "IPY_MODEL_bd9fad9caefd40479e008aad91037347",
       "value": 632
      }
     },
     "2145f62d41d649fb9bc7f9b6d5645871": {
      "model_module": "@jupyter-widgets/controls",
      "model_module_version": "2.0.0",
      "model_name": "HTMLModel",
      "state": {
       "layout": "IPY_MODEL_390fc42938694d7f918efbb081bc6d63",
       "style": "IPY_MODEL_9612dc1cfb094ebf9224fe12fb215a9c",
       "value": " 632/632 [00:11&lt;00:00, 76.99it/s]"
      }
     },
     "218ec62d032f485da0a639677fba1cc3": {
      "model_module": "@jupyter-widgets/base",
      "model_module_version": "2.0.0",
      "model_name": "LayoutModel",
      "state": {}
     },
     "2281f75d285647899814faeda392d127": {
      "model_module": "@jupyter-widgets/controls",
      "model_module_version": "2.0.0",
      "model_name": "FloatProgressModel",
      "state": {
       "bar_style": "success",
       "layout": "IPY_MODEL_d109c6cd58df4d799f2f6282d8e3a1d5",
       "max": 632,
       "style": "IPY_MODEL_1fc1023f44ed4a3e86083fef22111650",
       "value": 632
      }
     },
     "228248759b02498db89ba77d99245d8f": {
      "model_module": "@jupyter-widgets/controls",
      "model_module_version": "2.0.0",
      "model_name": "HTMLModel",
      "state": {
       "layout": "IPY_MODEL_218ec62d032f485da0a639677fba1cc3",
       "style": "IPY_MODEL_de0c6ff01c634c13a5c15bec2416f7c0",
       "value": " 632/632 [00:00&lt;00:00, 2692.56it/s]"
      }
     },
     "22f752726c65449086393c3fb55e3adf": {
      "model_module": "@jupyter-widgets/base",
      "model_module_version": "2.0.0",
      "model_name": "LayoutModel",
      "state": {}
     },
     "240bb441d9724151b38ae617272944af": {
      "model_module": "@jupyter-widgets/controls",
      "model_module_version": "2.0.0",
      "model_name": "HTMLModel",
      "state": {
       "layout": "IPY_MODEL_26f7e5d3adf04ec0806d9a8ca3b05535",
       "style": "IPY_MODEL_e551ab5f360449b5854a6741e40257ed",
       "value": " 632/632 [00:00&lt;00:00, 2503.11it/s]"
      }
     },
     "24b826c3fa1f44ad8022419ba911c253": {
      "model_module": "@jupyter-widgets/controls",
      "model_module_version": "2.0.0",
      "model_name": "HTMLStyleModel",
      "state": {
       "description_width": "",
       "font_size": null,
       "text_color": null
      }
     },
     "25961d96456845cb9cccbecd19313c31": {
      "model_module": "@jupyter-widgets/controls",
      "model_module_version": "2.0.0",
      "model_name": "HTMLStyleModel",
      "state": {
       "description_width": "",
       "font_size": null,
       "text_color": null
      }
     },
     "25b60a83762b488bbb4529424fafc5da": {
      "model_module": "@jupyter-widgets/controls",
      "model_module_version": "2.0.0",
      "model_name": "FloatProgressModel",
      "state": {
       "bar_style": "success",
       "layout": "IPY_MODEL_31ddb484f5414f0396657b40c176e693",
       "max": 632,
       "style": "IPY_MODEL_867c27ef7bee4169b3661bc0e4a51982",
       "value": 632
      }
     },
     "26c77d6ad1a140b7813dd0009d879e4f": {
      "model_module": "@jupyter-widgets/controls",
      "model_module_version": "2.0.0",
      "model_name": "HTMLStyleModel",
      "state": {
       "description_width": "",
       "font_size": null,
       "text_color": null
      }
     },
     "26f7e5d3adf04ec0806d9a8ca3b05535": {
      "model_module": "@jupyter-widgets/base",
      "model_module_version": "2.0.0",
      "model_name": "LayoutModel",
      "state": {}
     },
     "277461dfdfa24dec83b114d77791d467": {
      "model_module": "@jupyter-widgets/controls",
      "model_module_version": "2.0.0",
      "model_name": "HBoxModel",
      "state": {
       "children": [
        "IPY_MODEL_e2579c7aa92d46f0a188a357945ad0d8",
        "IPY_MODEL_a60206ce1c8446918c5a4356f809c5dc",
        "IPY_MODEL_eb569680ea6e4990ad9fde0761239313"
       ],
       "layout": "IPY_MODEL_a3a44806196944b9bf29298b2c0c77b1"
      }
     },
     "284c6b1a0fca4283a458600ff5ee2842": {
      "model_module": "@jupyter-widgets/base",
      "model_module_version": "2.0.0",
      "model_name": "LayoutModel",
      "state": {}
     },
     "286af7e8bcee47a985697372b95ebc45": {
      "model_module": "@jupyter-widgets/base",
      "model_module_version": "2.0.0",
      "model_name": "LayoutModel",
      "state": {}
     },
     "28e240779d1c4a3196d9101d75416e3e": {
      "model_module": "@jupyter-widgets/controls",
      "model_module_version": "2.0.0",
      "model_name": "ProgressStyleModel",
      "state": {
       "description_width": ""
      }
     },
     "2902bbf6565a4413929004dc74842519": {
      "model_module": "@jupyter-widgets/base",
      "model_module_version": "2.0.0",
      "model_name": "LayoutModel",
      "state": {}
     },
     "2921a44d50e54e44bbaa126dca0d5193": {
      "model_module": "@jupyter-widgets/controls",
      "model_module_version": "2.0.0",
      "model_name": "HTMLStyleModel",
      "state": {
       "description_width": "",
       "font_size": null,
       "text_color": null
      }
     },
     "2a93355211d943dcbc299ff8e6cfa423": {
      "model_module": "@jupyter-widgets/controls",
      "model_module_version": "2.0.0",
      "model_name": "HTMLModel",
      "state": {
       "layout": "IPY_MODEL_5c04765abdde4a53931892771d01d8f9",
       "style": "IPY_MODEL_b726fae4892d435a87285ea497985a5a",
       "value": "100%"
      }
     },
     "2b419fb0487e49e7b0bfc6ac89ffb6fc": {
      "model_module": "@jupyter-widgets/base",
      "model_module_version": "2.0.0",
      "model_name": "LayoutModel",
      "state": {}
     },
     "2b5cbd4062f4464b92016b020ef85690": {
      "model_module": "@jupyter-widgets/controls",
      "model_module_version": "2.0.0",
      "model_name": "HTMLStyleModel",
      "state": {
       "description_width": "",
       "font_size": null,
       "text_color": null
      }
     },
     "2cde468574174d50a4b2724eda203121": {
      "model_module": "@jupyter-widgets/controls",
      "model_module_version": "2.0.0",
      "model_name": "HBoxModel",
      "state": {
       "children": [
        "IPY_MODEL_f3d04e160e554b2f8a3ffd6b94d31f25",
        "IPY_MODEL_e65b7beff1fc478e8fccfaf10aac5de7",
        "IPY_MODEL_0f99de821acd41b19b4bde5092c01ed5"
       ],
       "layout": "IPY_MODEL_7a57efd6744e471c955f066c3ff7c64a"
      }
     },
     "2d2de5bd51384c80b11dd7bcfec66335": {
      "model_module": "@jupyter-widgets/base",
      "model_module_version": "2.0.0",
      "model_name": "LayoutModel",
      "state": {}
     },
     "2d8e55d2df7542ddbd438a97d29faf01": {
      "model_module": "@jupyter-widgets/controls",
      "model_module_version": "2.0.0",
      "model_name": "HBoxModel",
      "state": {
       "children": [
        "IPY_MODEL_3f7e2e7e34af46df9f9669ee220331a4",
        "IPY_MODEL_8310a06bcd8a4f8cab981c246a0cf935",
        "IPY_MODEL_d14aef88265d4637af428f2b6c7c787c"
       ],
       "layout": "IPY_MODEL_e9e484c47e8447ddac5bfbfeab1729c2"
      }
     },
     "2da585ff21594c63a5d1bbffa0d8eba4": {
      "model_module": "@jupyter-widgets/controls",
      "model_module_version": "2.0.0",
      "model_name": "FloatProgressModel",
      "state": {
       "bar_style": "success",
       "layout": "IPY_MODEL_5615d40dfc9841f7a14d764385266990",
       "max": 632,
       "style": "IPY_MODEL_13a73b14823e45fc856a87a7030a0f41",
       "value": 632
      }
     },
     "2f0807524659418fb20a842b0ebf5b01": {
      "model_module": "@jupyter-widgets/controls",
      "model_module_version": "2.0.0",
      "model_name": "HTMLStyleModel",
      "state": {
       "description_width": "",
       "font_size": null,
       "text_color": null
      }
     },
     "310cd94e9c0e43d58437b02d0b02eef8": {
      "model_module": "@jupyter-widgets/base",
      "model_module_version": "2.0.0",
      "model_name": "LayoutModel",
      "state": {}
     },
     "31ddb484f5414f0396657b40c176e693": {
      "model_module": "@jupyter-widgets/base",
      "model_module_version": "2.0.0",
      "model_name": "LayoutModel",
      "state": {}
     },
     "327a3c9c22954c0a99c683f051915f08": {
      "model_module": "@jupyter-widgets/controls",
      "model_module_version": "2.0.0",
      "model_name": "HTMLStyleModel",
      "state": {
       "description_width": "",
       "font_size": null,
       "text_color": null
      }
     },
     "33b6dcf10d7d4619a7be0545b9a7cbb3": {
      "model_module": "@jupyter-widgets/base",
      "model_module_version": "2.0.0",
      "model_name": "LayoutModel",
      "state": {}
     },
     "33c75ec7b52f466b993391542fb4fdba": {
      "model_module": "@jupyter-widgets/controls",
      "model_module_version": "2.0.0",
      "model_name": "FloatProgressModel",
      "state": {
       "bar_style": "success",
       "layout": "IPY_MODEL_659e2fcf60484c2db76ec5a3c93bc553",
       "max": 632,
       "style": "IPY_MODEL_1f4ef09d81fc4f2d8c1d795f2d84d55b",
       "value": 632
      }
     },
     "33eca39db0434a408da21be47fddb930": {
      "model_module": "@jupyter-widgets/base",
      "model_module_version": "2.0.0",
      "model_name": "LayoutModel",
      "state": {}
     },
     "34ad4445a6e84baca58ffabc153f0f03": {
      "model_module": "@jupyter-widgets/base",
      "model_module_version": "2.0.0",
      "model_name": "LayoutModel",
      "state": {}
     },
     "36a5f5cfc4554188a521241ea78805dc": {
      "model_module": "@jupyter-widgets/base",
      "model_module_version": "2.0.0",
      "model_name": "LayoutModel",
      "state": {}
     },
     "3771bca0c7db4d0ba853d0891e19de3e": {
      "model_module": "@jupyter-widgets/base",
      "model_module_version": "2.0.0",
      "model_name": "LayoutModel",
      "state": {}
     },
     "37eb43d000e6482cb83e47f2887950d6": {
      "model_module": "@jupyter-widgets/controls",
      "model_module_version": "2.0.0",
      "model_name": "HTMLStyleModel",
      "state": {
       "description_width": "",
       "font_size": null,
       "text_color": null
      }
     },
     "388f5b81a5e8455c9ba1d75ae06f0d65": {
      "model_module": "@jupyter-widgets/controls",
      "model_module_version": "2.0.0",
      "model_name": "HTMLModel",
      "state": {
       "layout": "IPY_MODEL_aec98b9be54e4fffb1884438f2ea217b",
       "style": "IPY_MODEL_c47fa665b3594a2398ef5b199fc909be",
       "value": " 632/632 [00:08&lt;00:00, 56.82it/s]"
      }
     },
     "38cc537da2bd4daea2feb1bce1ac3ab5": {
      "model_module": "@jupyter-widgets/controls",
      "model_module_version": "2.0.0",
      "model_name": "HBoxModel",
      "state": {
       "children": [
        "IPY_MODEL_a007b8c6c8f9479fa5edfb86b3a5311c",
        "IPY_MODEL_f9f06956a5ee429881e32d79905ae94b",
        "IPY_MODEL_c2fc24e7d88d4925a041a2edfd714189"
       ],
       "layout": "IPY_MODEL_901d93fdf2d34bf994c46091bf419f46"
      }
     },
     "390fc42938694d7f918efbb081bc6d63": {
      "model_module": "@jupyter-widgets/base",
      "model_module_version": "2.0.0",
      "model_name": "LayoutModel",
      "state": {}
     },
     "39714c2ba3ba4f09ac049a0d2def5d0c": {
      "model_module": "@jupyter-widgets/base",
      "model_module_version": "2.0.0",
      "model_name": "LayoutModel",
      "state": {}
     },
     "39950fafdc6340c68599b3e819759928": {
      "model_module": "@jupyter-widgets/controls",
      "model_module_version": "2.0.0",
      "model_name": "ProgressStyleModel",
      "state": {
       "description_width": ""
      }
     },
     "3b2e08a310d849499c6946ba2d886ada": {
      "model_module": "@jupyter-widgets/controls",
      "model_module_version": "2.0.0",
      "model_name": "HBoxModel",
      "state": {
       "children": [
        "IPY_MODEL_8601e9b89e334ab09f7fb07c2fc4364e",
        "IPY_MODEL_6cfcc80fb0e24d0eb9b6c9e482a00f66",
        "IPY_MODEL_9d7a0995777244d893c7fd0b463680e6"
       ],
       "layout": "IPY_MODEL_9bbbf319694248bea16a0ab4700e75bf"
      }
     },
     "3be571f47d9f43349048c6a85a1e1e81": {
      "model_module": "@jupyter-widgets/controls",
      "model_module_version": "2.0.0",
      "model_name": "HTMLStyleModel",
      "state": {
       "description_width": "",
       "font_size": null,
       "text_color": null
      }
     },
     "3d056799b10c4040ad82d0365082d13e": {
      "model_module": "@jupyter-widgets/base",
      "model_module_version": "2.0.0",
      "model_name": "LayoutModel",
      "state": {}
     },
     "3ea470b849f744be87705c43b60a55a6": {
      "model_module": "@jupyter-widgets/base",
      "model_module_version": "2.0.0",
      "model_name": "LayoutModel",
      "state": {}
     },
     "3eff711d5cec4be9895bd5d493b959ae": {
      "model_module": "@jupyter-widgets/controls",
      "model_module_version": "2.0.0",
      "model_name": "HTMLModel",
      "state": {
       "layout": "IPY_MODEL_c56d21539f0f4e8bb573995f6075bdba",
       "style": "IPY_MODEL_f9aaff321ae44f0d9bddeaf724fc304e",
       "value": "100%"
      }
     },
     "3f7e2e7e34af46df9f9669ee220331a4": {
      "model_module": "@jupyter-widgets/controls",
      "model_module_version": "2.0.0",
      "model_name": "HTMLModel",
      "state": {
       "layout": "IPY_MODEL_2d2de5bd51384c80b11dd7bcfec66335",
       "style": "IPY_MODEL_a530729c6c0c48a6bcea208a87bb0398",
       "value": "100%"
      }
     },
     "411fecf799754d8ca2eec6e1ff559954": {
      "model_module": "@jupyter-widgets/controls",
      "model_module_version": "2.0.0",
      "model_name": "HTMLStyleModel",
      "state": {
       "description_width": "",
       "font_size": null,
       "text_color": null
      }
     },
     "422a89a4bfe14f908fd2c9a0452b22f3": {
      "model_module": "@jupyter-widgets/controls",
      "model_module_version": "2.0.0",
      "model_name": "HTMLStyleModel",
      "state": {
       "description_width": "",
       "font_size": null,
       "text_color": null
      }
     },
     "451110524361416ea1284d4e9066974a": {
      "model_module": "@jupyter-widgets/controls",
      "model_module_version": "2.0.0",
      "model_name": "ProgressStyleModel",
      "state": {
       "description_width": ""
      }
     },
     "45a397c0fc3f4787bc4b79e2617af337": {
      "model_module": "@jupyter-widgets/controls",
      "model_module_version": "2.0.0",
      "model_name": "HTMLStyleModel",
      "state": {
       "description_width": "",
       "font_size": null,
       "text_color": null
      }
     },
     "46b5ae0e546640d5bf0ec723a49256f3": {
      "model_module": "@jupyter-widgets/controls",
      "model_module_version": "2.0.0",
      "model_name": "HTMLStyleModel",
      "state": {
       "description_width": "",
       "font_size": null,
       "text_color": null
      }
     },
     "46d75435bf634679b97beb3d742b7f69": {
      "model_module": "@jupyter-widgets/controls",
      "model_module_version": "2.0.0",
      "model_name": "HBoxModel",
      "state": {
       "children": [
        "IPY_MODEL_9670b15d4a644527b199487be801dffd",
        "IPY_MODEL_81c7dac2aa6e4898b436b4dc85b16c5f",
        "IPY_MODEL_228248759b02498db89ba77d99245d8f"
       ],
       "layout": "IPY_MODEL_72966654605c4ff6917e00fb8f5b0a22"
      }
     },
     "46de47d9fb684b90acd9dd634fc36975": {
      "model_module": "@jupyter-widgets/base",
      "model_module_version": "2.0.0",
      "model_name": "LayoutModel",
      "state": {}
     },
     "4772833ff3844432a21304a928d1c16e": {
      "model_module": "@jupyter-widgets/controls",
      "model_module_version": "2.0.0",
      "model_name": "HTMLStyleModel",
      "state": {
       "description_width": "",
       "font_size": null,
       "text_color": null
      }
     },
     "47d3314747234aae9a886e46d3d13c7b": {
      "model_module": "@jupyter-widgets/base",
      "model_module_version": "2.0.0",
      "model_name": "LayoutModel",
      "state": {}
     },
     "4b052183e26d4275bdd83bc634cf4389": {
      "model_module": "@jupyter-widgets/controls",
      "model_module_version": "2.0.0",
      "model_name": "FloatProgressModel",
      "state": {
       "bar_style": "success",
       "layout": "IPY_MODEL_bcbdb0b8f3374e539bb229f7fba3e74d",
       "max": 632,
       "style": "IPY_MODEL_998637f21daa425d87ff048c1da51305",
       "value": 632
      }
     },
     "4b179e8bdf434b019b6a29ff683eb832": {
      "model_module": "@jupyter-widgets/base",
      "model_module_version": "2.0.0",
      "model_name": "LayoutModel",
      "state": {}
     },
     "4c260c9ae1cd41499beb085a4394894b": {
      "model_module": "@jupyter-widgets/controls",
      "model_module_version": "2.0.0",
      "model_name": "VBoxModel",
      "state": {
       "_dom_classes": [
        "widget-interact"
       ],
       "children": [
        "IPY_MODEL_842fd33c4ec5477ca10fc44019aabd50",
        "IPY_MODEL_53006646845b4c66adf5ebf2770f51b8"
       ],
       "layout": "IPY_MODEL_d523b18b3db34cd1a7446f3961049d93"
      }
     },
     "4cee84fb8d174f109cc8b23f0aaf80f6": {
      "model_module": "@jupyter-widgets/base",
      "model_module_version": "2.0.0",
      "model_name": "LayoutModel",
      "state": {}
     },
     "4e9b3e5305884e31a77bec0f0eab7640": {
      "model_module": "@jupyter-widgets/base",
      "model_module_version": "2.0.0",
      "model_name": "LayoutModel",
      "state": {}
     },
     "4fd48b46bbba49babd4076158fa6c424": {
      "model_module": "@jupyter-widgets/base",
      "model_module_version": "2.0.0",
      "model_name": "LayoutModel",
      "state": {}
     },
     "50f6e8147c974d7e974ac92fc084712f": {
      "model_module": "@jupyter-widgets/controls",
      "model_module_version": "2.0.0",
      "model_name": "HBoxModel",
      "state": {
       "children": [
        "IPY_MODEL_71eb30d686984da9bd80b665288f4f66",
        "IPY_MODEL_aebbad5e54a94e9da54067642d9c9951",
        "IPY_MODEL_d42858a0477d4b4abecd957902541b8d"
       ],
       "layout": "IPY_MODEL_648c0c97db144e63b34bcabaf78dec20"
      }
     },
     "52fb8f27d2714dd4981334d752211b00": {
      "model_module": "@jupyter-widgets/controls",
      "model_module_version": "2.0.0",
      "model_name": "HTMLStyleModel",
      "state": {
       "description_width": "",
       "font_size": null,
       "text_color": null
      }
     },
     "53006646845b4c66adf5ebf2770f51b8": {
      "model_module": "@jupyter-widgets/output",
      "model_module_version": "1.0.0",
      "model_name": "OutputModel",
      "state": {
       "layout": "IPY_MODEL_4cee84fb8d174f109cc8b23f0aaf80f6",
       "outputs": [
        {
         "data": {
          "image/png": "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",
          "text/plain": "<Figure size 1400x400 with 2 Axes>"
         },
         "metadata": {},
         "output_type": "display_data"
        }
       ]
      }
     },
     "538cd50fc4c64e67aa5e347089c4ff88": {
      "model_module": "@jupyter-widgets/controls",
      "model_module_version": "2.0.0",
      "model_name": "FloatProgressModel",
      "state": {
       "bar_style": "success",
       "layout": "IPY_MODEL_5d361400b3034a2c893d85b88d8fd2b2",
       "max": 632,
       "style": "IPY_MODEL_66bdc4da7eac44869a4363a9f54cd911",
       "value": 632
      }
     },
     "5615d40dfc9841f7a14d764385266990": {
      "model_module": "@jupyter-widgets/base",
      "model_module_version": "2.0.0",
      "model_name": "LayoutModel",
      "state": {}
     },
     "566d6e59ddf3415a9b6be475ccd1887d": {
      "model_module": "@jupyter-widgets/controls",
      "model_module_version": "2.0.0",
      "model_name": "HTMLModel",
      "state": {
       "layout": "IPY_MODEL_9df764fae2844f0a8da9c9d89e69287f",
       "style": "IPY_MODEL_411fecf799754d8ca2eec6e1ff559954",
       "value": "100%"
      }
     },
     "56bb307f72784348864317a1fa927a97": {
      "model_module": "@jupyter-widgets/controls",
      "model_module_version": "2.0.0",
      "model_name": "ProgressStyleModel",
      "state": {
       "description_width": ""
      }
     },
     "5733d2b7d479419ab263bffcadc529b0": {
      "model_module": "@jupyter-widgets/controls",
      "model_module_version": "2.0.0",
      "model_name": "HTMLModel",
      "state": {
       "layout": "IPY_MODEL_78d331552480452c997780e7c3cd7104",
       "style": "IPY_MODEL_d5d86d01a0a84437935fbed433eabba5",
       "value": "100%"
      }
     },
     "574c3b1b47124702bfe051c983d2d312": {
      "model_module": "@jupyter-widgets/controls",
      "model_module_version": "2.0.0",
      "model_name": "HTMLStyleModel",
      "state": {
       "description_width": "",
       "font_size": null,
       "text_color": null
      }
     },
     "58eba54d748c43bbba6ec3d39b045594": {
      "model_module": "@jupyter-widgets/controls",
      "model_module_version": "2.0.0",
      "model_name": "HTMLStyleModel",
      "state": {
       "description_width": "",
       "font_size": null,
       "text_color": null
      }
     },
     "5966c79525b04106bd97e73ab1408804": {
      "model_module": "@jupyter-widgets/base",
      "model_module_version": "2.0.0",
      "model_name": "LayoutModel",
      "state": {}
     },
     "59d24313dde74d93a12a84b191b5f174": {
      "model_module": "@jupyter-widgets/controls",
      "model_module_version": "2.0.0",
      "model_name": "HTMLStyleModel",
      "state": {
       "description_width": "",
       "font_size": null,
       "text_color": null
      }
     },
     "59fa5495180a4a35a026fd35535f06e2": {
      "model_module": "@jupyter-widgets/base",
      "model_module_version": "2.0.0",
      "model_name": "LayoutModel",
      "state": {}
     },
     "5a59a4dfd7c24e05b7717f19962ef94d": {
      "model_module": "@jupyter-widgets/controls",
      "model_module_version": "2.0.0",
      "model_name": "FloatProgressModel",
      "state": {
       "bar_style": "success",
       "layout": "IPY_MODEL_e1b86335e4b34686b97f87d89cd37b78",
       "max": 632,
       "style": "IPY_MODEL_451110524361416ea1284d4e9066974a",
       "value": 632
      }
     },
     "5a7ae943dd6448e5b94e2becfb845849": {
      "model_module": "@jupyter-widgets/base",
      "model_module_version": "2.0.0",
      "model_name": "LayoutModel",
      "state": {}
     },
     "5c04765abdde4a53931892771d01d8f9": {
      "model_module": "@jupyter-widgets/base",
      "model_module_version": "2.0.0",
      "model_name": "LayoutModel",
      "state": {}
     },
     "5d361400b3034a2c893d85b88d8fd2b2": {
      "model_module": "@jupyter-widgets/base",
      "model_module_version": "2.0.0",
      "model_name": "LayoutModel",
      "state": {}
     },
     "5d7c092bace34e3089d76859cfa5e5a5": {
      "model_module": "@jupyter-widgets/base",
      "model_module_version": "2.0.0",
      "model_name": "LayoutModel",
      "state": {}
     },
     "5ddc65d798d546a4a2b95ef1f7b78b86": {
      "model_module": "@jupyter-widgets/controls",
      "model_module_version": "2.0.0",
      "model_name": "HTMLModel",
      "state": {
       "layout": "IPY_MODEL_f21f1d1bc3204cf6a074263243d59abc",
       "style": "IPY_MODEL_f3393f78fec24f359b6b715b9d2ee621",
       "value": " 632/632 [00:06&lt;00:00, 99.77it/s]"
      }
     },
     "5f1efa7a996d45a99964fb5fd05037ff": {
      "model_module": "@jupyter-widgets/controls",
      "model_module_version": "2.0.0",
      "model_name": "FloatProgressModel",
      "state": {
       "bar_style": "success",
       "layout": "IPY_MODEL_67a853490b6143b2a99fe9fdc4a877c2",
       "max": 632,
       "style": "IPY_MODEL_9878d4b94c2e4406a7cf37cd9d7e56c6",
       "value": 632
      }
     },
     "5f50969c88734cfca9de0e0127c8942a": {
      "model_module": "@jupyter-widgets/base",
      "model_module_version": "2.0.0",
      "model_name": "LayoutModel",
      "state": {}
     },
     "602c577b36ee4afd9c06b0f95605bc63": {
      "model_module": "@jupyter-widgets/controls",
      "model_module_version": "2.0.0",
      "model_name": "HTMLModel",
      "state": {
       "layout": "IPY_MODEL_900c75be3c1c42e796a94fb40adadc25",
       "style": "IPY_MODEL_574c3b1b47124702bfe051c983d2d312",
       "value": "100%"
      }
     },
     "6095156253e0464cb0abeb7185dbe0b0": {
      "model_module": "@jupyter-widgets/controls",
      "model_module_version": "2.0.0",
      "model_name": "ProgressStyleModel",
      "state": {
       "description_width": ""
      }
     },
     "61eabfd51a0241d79738ca147aa29ae6": {
      "model_module": "@jupyter-widgets/controls",
      "model_module_version": "2.0.0",
      "model_name": "HTMLStyleModel",
      "state": {
       "description_width": "",
       "font_size": null,
       "text_color": null
      }
     },
     "629edf29328e49949d4398aef10e6c51": {
      "model_module": "@jupyter-widgets/controls",
      "model_module_version": "2.0.0",
      "model_name": "ProgressStyleModel",
      "state": {
       "description_width": ""
      }
     },
     "635195c6fd3f415da7e47cabd4e46380": {
      "model_module": "@jupyter-widgets/controls",
      "model_module_version": "2.0.0",
      "model_name": "HTMLModel",
      "state": {
       "layout": "IPY_MODEL_3771bca0c7db4d0ba853d0891e19de3e",
       "style": "IPY_MODEL_2f0807524659418fb20a842b0ebf5b01",
       "value": "100%"
      }
     },
     "646fdb5aa8674d34a1d42a0c87df360a": {
      "model_module": "@jupyter-widgets/controls",
      "model_module_version": "2.0.0",
      "model_name": "HBoxModel",
      "state": {
       "children": [
        "IPY_MODEL_96dac8b6082b4ad295a697f1932c2f43",
        "IPY_MODEL_c05ac0565fd948d9b2afe3e5c5812430",
        "IPY_MODEL_388f5b81a5e8455c9ba1d75ae06f0d65"
       ],
       "layout": "IPY_MODEL_4b179e8bdf434b019b6a29ff683eb832"
      }
     },
     "648c0c97db144e63b34bcabaf78dec20": {
      "model_module": "@jupyter-widgets/base",
      "model_module_version": "2.0.0",
      "model_name": "LayoutModel",
      "state": {}
     },
     "659e2fcf60484c2db76ec5a3c93bc553": {
      "model_module": "@jupyter-widgets/base",
      "model_module_version": "2.0.0",
      "model_name": "LayoutModel",
      "state": {}
     },
     "66bdc4da7eac44869a4363a9f54cd911": {
      "model_module": "@jupyter-widgets/controls",
      "model_module_version": "2.0.0",
      "model_name": "ProgressStyleModel",
      "state": {
       "description_width": ""
      }
     },
     "67a853490b6143b2a99fe9fdc4a877c2": {
      "model_module": "@jupyter-widgets/base",
      "model_module_version": "2.0.0",
      "model_name": "LayoutModel",
      "state": {}
     },
     "681aebc9d33147ccba3182572cca6068": {
      "model_module": "@jupyter-widgets/controls",
      "model_module_version": "2.0.0",
      "model_name": "HTMLModel",
      "state": {
       "layout": "IPY_MODEL_17cc0865e7044eb2a43d608c4f24e5f2",
       "style": "IPY_MODEL_3be571f47d9f43349048c6a85a1e1e81",
       "value": " 632/632 [00:05&lt;00:00, 120.23it/s]"
      }
     },
     "68893f62cf8e4341b41f6c3cf63c89f1": {
      "model_module": "@jupyter-widgets/controls",
      "model_module_version": "2.0.0",
      "model_name": "HTMLModel",
      "state": {
       "layout": "IPY_MODEL_59fa5495180a4a35a026fd35535f06e2",
       "style": "IPY_MODEL_e11e324e2cf542f796fb4badc3706a6a",
       "value": "100%"
      }
     },
     "6c8da1c8f89041b8bca1be05d9015e2b": {
      "model_module": "@jupyter-widgets/base",
      "model_module_version": "2.0.0",
      "model_name": "LayoutModel",
      "state": {}
     },
     "6cfcc80fb0e24d0eb9b6c9e482a00f66": {
      "model_module": "@jupyter-widgets/controls",
      "model_module_version": "2.0.0",
      "model_name": "FloatProgressModel",
      "state": {
       "bar_style": "success",
       "layout": "IPY_MODEL_809a48756c7f433a88401c17262975fa",
       "max": 632,
       "style": "IPY_MODEL_ec4e1182858c4f459314d771c7f6b080",
       "value": 632
      }
     },
     "6d0459db36da4edebf5e8560d39235c4": {
      "model_module": "@jupyter-widgets/controls",
      "model_module_version": "2.0.0",
      "model_name": "HTMLModel",
      "state": {
       "layout": "IPY_MODEL_c02978de268845628ead411a4542f6af",
       "style": "IPY_MODEL_b455c0a180db4ca1aa04ff6d269d46b3",
       "value": "100%"
      }
     },
     "6fdcdbef7c1c4d659b3384cb35693970": {
      "model_module": "@jupyter-widgets/base",
      "model_module_version": "2.0.0",
      "model_name": "LayoutModel",
      "state": {}
     },
     "71ac09217cf54f3fafa46fdc04c2ea8d": {
      "model_module": "@jupyter-widgets/controls",
      "model_module_version": "2.0.0",
      "model_name": "SliderStyleModel",
      "state": {
       "description_width": ""
      }
     },
     "71ada11a2cc7401f9d3d7ae7448243ea": {
      "model_module": "@jupyter-widgets/controls",
      "model_module_version": "2.0.0",
      "model_name": "IntSliderModel",
      "state": {
       "behavior": "drag-tap",
       "description": "N",
       "layout": "IPY_MODEL_4fd48b46bbba49babd4076158fa6c424",
       "max": 10000,
       "min": 10,
       "style": "IPY_MODEL_71ac09217cf54f3fafa46fdc04c2ea8d",
       "value": 5005
      }
     },
     "71b4f9e4042d4f01b1c5c1a4f6636d4e": {
      "model_module": "@jupyter-widgets/base",
      "model_module_version": "2.0.0",
      "model_name": "LayoutModel",
      "state": {}
     },
     "71eb30d686984da9bd80b665288f4f66": {
      "model_module": "@jupyter-widgets/controls",
      "model_module_version": "2.0.0",
      "model_name": "HTMLModel",
      "state": {
       "layout": "IPY_MODEL_e651b8f2af0a427c81a742988ea15c8f",
       "style": "IPY_MODEL_9e26bf2b2ef8404d803d1afa296708f4",
       "value": "100%"
      }
     },
     "72966654605c4ff6917e00fb8f5b0a22": {
      "model_module": "@jupyter-widgets/base",
      "model_module_version": "2.0.0",
      "model_name": "LayoutModel",
      "state": {}
     },
     "7351477973a2460d84dc504b7a737f28": {
      "model_module": "@jupyter-widgets/controls",
      "model_module_version": "2.0.0",
      "model_name": "ProgressStyleModel",
      "state": {
       "description_width": ""
      }
     },
     "73e74936f4b847b1a8efac7967330c41": {
      "model_module": "@jupyter-widgets/controls",
      "model_module_version": "2.0.0",
      "model_name": "HTMLModel",
      "state": {
       "layout": "IPY_MODEL_d29a587f720042a6b0b18e7f8234c9a3",
       "style": "IPY_MODEL_d5c62c645aa6438ab92eb9c3b666b596",
       "value": " 632/632 [00:00&lt;00:00, 2914.91it/s]"
      }
     },
     "7522a6b91991489b8d57afa747afdd49": {
      "model_module": "@jupyter-widgets/controls",
      "model_module_version": "2.0.0",
      "model_name": "HTMLStyleModel",
      "state": {
       "description_width": "",
       "font_size": null,
       "text_color": null
      }
     },
     "75cc7e44219d438f9c3227e1cbe53ef4": {
      "model_module": "@jupyter-widgets/base",
      "model_module_version": "2.0.0",
      "model_name": "LayoutModel",
      "state": {}
     },
     "75dd6be8626b4c8ebca214d68cd57a97": {
      "model_module": "@jupyter-widgets/base",
      "model_module_version": "2.0.0",
      "model_name": "LayoutModel",
      "state": {}
     },
     "7623214d1b5841b68464916182fafcb7": {
      "model_module": "@jupyter-widgets/controls",
      "model_module_version": "2.0.0",
      "model_name": "HBoxModel",
      "state": {
       "children": [
        "IPY_MODEL_566d6e59ddf3415a9b6be475ccd1887d",
        "IPY_MODEL_a441d858d3a34088a39308dca7415225",
        "IPY_MODEL_73e74936f4b847b1a8efac7967330c41"
       ],
       "layout": "IPY_MODEL_861b2b9059f646cd9c7fa69edc5f7880"
      }
     },
     "76365331b65d4ce192ec10155c58111a": {
      "model_module": "@jupyter-widgets/base",
      "model_module_version": "2.0.0",
      "model_name": "LayoutModel",
      "state": {}
     },
     "76929096eebe4451aa258e29b6f4a734": {
      "model_module": "@jupyter-widgets/base",
      "model_module_version": "2.0.0",
      "model_name": "LayoutModel",
      "state": {}
     },
     "778e643c3c484121a301c12c2d92a2ac": {
      "model_module": "@jupyter-widgets/controls",
      "model_module_version": "2.0.0",
      "model_name": "ProgressStyleModel",
      "state": {
       "description_width": ""
      }
     },
     "77f5ac4cbca24c229eee71f924cbb5ad": {
      "model_module": "@jupyter-widgets/base",
      "model_module_version": "2.0.0",
      "model_name": "LayoutModel",
      "state": {}
     },
     "78230d928f864328ba878bc5669c4866": {
      "model_module": "@jupyter-widgets/base",
      "model_module_version": "2.0.0",
      "model_name": "LayoutModel",
      "state": {}
     },
     "784d243d3d1648e888df5b3b2e9321a1": {
      "model_module": "@jupyter-widgets/base",
      "model_module_version": "2.0.0",
      "model_name": "LayoutModel",
      "state": {}
     },
     "78d331552480452c997780e7c3cd7104": {
      "model_module": "@jupyter-widgets/base",
      "model_module_version": "2.0.0",
      "model_name": "LayoutModel",
      "state": {}
     },
     "7a32e2b47c13444a80462fbfbfd4f3f4": {
      "model_module": "@jupyter-widgets/base",
      "model_module_version": "2.0.0",
      "model_name": "LayoutModel",
      "state": {}
     },
     "7a57efd6744e471c955f066c3ff7c64a": {
      "model_module": "@jupyter-widgets/base",
      "model_module_version": "2.0.0",
      "model_name": "LayoutModel",
      "state": {}
     },
     "7aaae3bb02a3481abaadf3729512ba39": {
      "model_module": "@jupyter-widgets/controls",
      "model_module_version": "2.0.0",
      "model_name": "HTMLStyleModel",
      "state": {
       "description_width": "",
       "font_size": null,
       "text_color": null
      }
     },
     "7cab33c6d9f2427b93e8e9baeca456f6": {
      "model_module": "@jupyter-widgets/controls",
      "model_module_version": "2.0.0",
      "model_name": "HTMLStyleModel",
      "state": {
       "description_width": "",
       "font_size": null,
       "text_color": null
      }
     },
     "7df2eeccb15c4bfaa14cdb20fe7aa5d4": {
      "model_module": "@jupyter-widgets/controls",
      "model_module_version": "2.0.0",
      "model_name": "HTMLStyleModel",
      "state": {
       "description_width": "",
       "font_size": null,
       "text_color": null
      }
     },
     "802766d336104343b0d93368ff2b3d7b": {
      "model_module": "@jupyter-widgets/controls",
      "model_module_version": "2.0.0",
      "model_name": "HBoxModel",
      "state": {
       "children": [
        "IPY_MODEL_2a93355211d943dcbc299ff8e6cfa423",
        "IPY_MODEL_25b60a83762b488bbb4529424fafc5da",
        "IPY_MODEL_034f651505ce49acbfe9105af8cbe893"
       ],
       "layout": "IPY_MODEL_cc7687cd7c1049578cb4449f3b19702f"
      }
     },
     "809a48756c7f433a88401c17262975fa": {
      "model_module": "@jupyter-widgets/base",
      "model_module_version": "2.0.0",
      "model_name": "LayoutModel",
      "state": {}
     },
     "80cf48e0f61e4a16a97700f66c0e0450": {
      "model_module": "@jupyter-widgets/controls",
      "model_module_version": "2.0.0",
      "model_name": "HTMLStyleModel",
      "state": {
       "description_width": "",
       "font_size": null,
       "text_color": null
      }
     },
     "811458727a624b6bae9f18f6b0360acc": {
      "model_module": "@jupyter-widgets/controls",
      "model_module_version": "2.0.0",
      "model_name": "HTMLStyleModel",
      "state": {
       "description_width": "",
       "font_size": null,
       "text_color": null
      }
     },
     "8123817239f24229bbe7cc270c78e445": {
      "model_module": "@jupyter-widgets/controls",
      "model_module_version": "2.0.0",
      "model_name": "ProgressStyleModel",
      "state": {
       "description_width": ""
      }
     },
     "81c7dac2aa6e4898b436b4dc85b16c5f": {
      "model_module": "@jupyter-widgets/controls",
      "model_module_version": "2.0.0",
      "model_name": "FloatProgressModel",
      "state": {
       "bar_style": "success",
       "layout": "IPY_MODEL_cfc9c6ed5989413c8a7aa0a87ba90956",
       "max": 632,
       "style": "IPY_MODEL_1caceb7a30124331a9ebea086411707c",
       "value": 632
      }
     },
     "82b4e00fcb644951a51e452b2146a369": {
      "model_module": "@jupyter-widgets/base",
      "model_module_version": "2.0.0",
      "model_name": "LayoutModel",
      "state": {}
     },
     "8310a06bcd8a4f8cab981c246a0cf935": {
      "model_module": "@jupyter-widgets/controls",
      "model_module_version": "2.0.0",
      "model_name": "FloatProgressModel",
      "state": {
       "bar_style": "success",
       "layout": "IPY_MODEL_75dd6be8626b4c8ebca214d68cd57a97",
       "max": 632,
       "style": "IPY_MODEL_8123817239f24229bbe7cc270c78e445",
       "value": 632
      }
     },
     "842fd33c4ec5477ca10fc44019aabd50": {
      "model_module": "@jupyter-widgets/controls",
      "model_module_version": "2.0.0",
      "model_name": "IntSliderModel",
      "state": {
       "behavior": "drag-tap",
       "description": "N",
       "layout": "IPY_MODEL_a2f2a6b0254e421e9f0ab7bbdeb30091",
       "max": 10000,
       "min": 10,
       "style": "IPY_MODEL_936c3d4c23bb4e89aba9588f11333704",
       "value": 10000
      }
     },
     "844425fd2653449ca57378a0f6c7f9ad": {
      "model_module": "@jupyter-widgets/controls",
      "model_module_version": "2.0.0",
      "model_name": "HTMLStyleModel",
      "state": {
       "description_width": "",
       "font_size": null,
       "text_color": null
      }
     },
     "85cd643c9f0f4c0a8218cd0e1a2711eb": {
      "model_module": "@jupyter-widgets/base",
      "model_module_version": "2.0.0",
      "model_name": "LayoutModel",
      "state": {}
     },
     "85f123cda1b042a2be065cbcdc5ba635": {
      "model_module": "@jupyter-widgets/base",
      "model_module_version": "2.0.0",
      "model_name": "LayoutModel",
      "state": {}
     },
     "8601e9b89e334ab09f7fb07c2fc4364e": {
      "model_module": "@jupyter-widgets/controls",
      "model_module_version": "2.0.0",
      "model_name": "HTMLModel",
      "state": {
       "layout": "IPY_MODEL_a13a2067a2154bb6bfe5eb1f02a70f3f",
       "style": "IPY_MODEL_46b5ae0e546640d5bf0ec723a49256f3",
       "value": "100%"
      }
     },
     "861b2b9059f646cd9c7fa69edc5f7880": {
      "model_module": "@jupyter-widgets/base",
      "model_module_version": "2.0.0",
      "model_name": "LayoutModel",
      "state": {}
     },
     "867c27ef7bee4169b3661bc0e4a51982": {
      "model_module": "@jupyter-widgets/controls",
      "model_module_version": "2.0.0",
      "model_name": "ProgressStyleModel",
      "state": {
       "description_width": ""
      }
     },
     "87775767790743e3af47a979685813c9": {
      "model_module": "@jupyter-widgets/controls",
      "model_module_version": "2.0.0",
      "model_name": "ProgressStyleModel",
      "state": {
       "description_width": ""
      }
     },
     "88172f2ba86a46f8aee3575490464e17": {
      "model_module": "@jupyter-widgets/controls",
      "model_module_version": "2.0.0",
      "model_name": "HBoxModel",
      "state": {
       "children": [
        "IPY_MODEL_eb7bbbd79cb944b0ae0d085ab694a364",
        "IPY_MODEL_33c75ec7b52f466b993391542fb4fdba",
        "IPY_MODEL_c5454829f39a46099813129e2b9bc764"
       ],
       "layout": "IPY_MODEL_0fb779db3d1a4da1a713e2e1721ff280"
      }
     },
     "88e6d51ff8b54437a90b5e891ffbfb50": {
      "model_module": "@jupyter-widgets/controls",
      "model_module_version": "2.0.0",
      "model_name": "HTMLModel",
      "state": {
       "layout": "IPY_MODEL_e66a61b1c6a242ca83216cf8c37ef365",
       "style": "IPY_MODEL_80cf48e0f61e4a16a97700f66c0e0450",
       "value": " 632/632 [00:00&lt;00:00, 3186.75it/s]"
      }
     },
     "8b09798dacd7401199fc231167607d2b": {
      "model_module": "@jupyter-widgets/controls",
      "model_module_version": "2.0.0",
      "model_name": "HTMLStyleModel",
      "state": {
       "description_width": "",
       "font_size": null,
       "text_color": null
      }
     },
     "8be307d0b5c249998a8f013b89f2d875": {
      "model_module": "@jupyter-widgets/controls",
      "model_module_version": "2.0.0",
      "model_name": "HTMLModel",
      "state": {
       "layout": "IPY_MODEL_a93e2ce298b6454aabb565271c5ab681",
       "style": "IPY_MODEL_52fb8f27d2714dd4981334d752211b00",
       "value": " 632/632 [00:00&lt;00:00, 2020.43it/s]"
      }
     },
     "8d748fe2592845f1925dc00bb16f19a4": {
      "model_module": "@jupyter-widgets/base",
      "model_module_version": "2.0.0",
      "model_name": "LayoutModel",
      "state": {}
     },
     "8e06e940d44748fbbf95a6a5fac00f00": {
      "model_module": "@jupyter-widgets/controls",
      "model_module_version": "2.0.0",
      "model_name": "HBoxModel",
      "state": {
       "children": [
        "IPY_MODEL_6d0459db36da4edebf5e8560d39235c4",
        "IPY_MODEL_96fde5e448a243ceb48810ba70bef00e",
        "IPY_MODEL_b81ca0bb12d8418793eb5fc561d0f391"
       ],
       "layout": "IPY_MODEL_8d748fe2592845f1925dc00bb16f19a4"
      }
     },
     "8eb75b0f91254dd6967be899d58ce30d": {
      "model_module": "@jupyter-widgets/controls",
      "model_module_version": "2.0.0",
      "model_name": "HTMLStyleModel",
      "state": {
       "description_width": "",
       "font_size": null,
       "text_color": null
      }
     },
     "8f7afcad9ee5486bbf6db4445e440d76": {
      "model_module": "@jupyter-widgets/controls",
      "model_module_version": "2.0.0",
      "model_name": "ProgressStyleModel",
      "state": {
       "description_width": ""
      }
     },
     "8fded2d03f034e7c941f41c4ca440d3f": {
      "model_module": "@jupyter-widgets/base",
      "model_module_version": "2.0.0",
      "model_name": "LayoutModel",
      "state": {}
     },
     "900c75be3c1c42e796a94fb40adadc25": {
      "model_module": "@jupyter-widgets/base",
      "model_module_version": "2.0.0",
      "model_name": "LayoutModel",
      "state": {}
     },
     "901d93fdf2d34bf994c46091bf419f46": {
      "model_module": "@jupyter-widgets/base",
      "model_module_version": "2.0.0",
      "model_name": "LayoutModel",
      "state": {}
     },
     "91113d5af18a481e929059a37f8ec97e": {
      "model_module": "@jupyter-widgets/controls",
      "model_module_version": "2.0.0",
      "model_name": "HBoxModel",
      "state": {
       "children": [
        "IPY_MODEL_114d36f3e6b2414aa14328ec8e5f73be",
        "IPY_MODEL_d21ee379f08d44b6816af2a97adeb1ad",
        "IPY_MODEL_ac662912c7164611a35eb7e134774680"
       ],
       "layout": "IPY_MODEL_310cd94e9c0e43d58437b02d0b02eef8"
      }
     },
     "91706f0ec34a47a7a8f61252a17f19e6": {
      "model_module": "@jupyter-widgets/base",
      "model_module_version": "2.0.0",
      "model_name": "LayoutModel",
      "state": {}
     },
     "91c8b37e96fb41ae88a0cc5c370f26af": {
      "model_module": "@jupyter-widgets/controls",
      "model_module_version": "2.0.0",
      "model_name": "HTMLModel",
      "state": {
       "layout": "IPY_MODEL_f63e1b5d6b164f7eb25222fed8437b62",
       "style": "IPY_MODEL_963089c5efb646eebf4a6ccf4e67fb82",
       "value": "100%"
      }
     },
     "92d14198b5304d24a40b6206cca7f79d": {
      "model_module": "@jupyter-widgets/controls",
      "model_module_version": "2.0.0",
      "model_name": "HBoxModel",
      "state": {
       "children": [
        "IPY_MODEL_d526772deb0e43b0a911dbde3d293c12",
        "IPY_MODEL_fcac9ad36da0497ba0cb8ab1d10ba5ac",
        "IPY_MODEL_a7e79539712244f68b41eefde0fefe45"
       ],
       "layout": "IPY_MODEL_71b4f9e4042d4f01b1c5c1a4f6636d4e"
      }
     },
     "936c3d4c23bb4e89aba9588f11333704": {
      "model_module": "@jupyter-widgets/controls",
      "model_module_version": "2.0.0",
      "model_name": "SliderStyleModel",
      "state": {
       "description_width": ""
      }
     },
     "94cbc967355040cb94d0503825a16aea": {
      "model_module": "@jupyter-widgets/base",
      "model_module_version": "2.0.0",
      "model_name": "LayoutModel",
      "state": {}
     },
     "9612dc1cfb094ebf9224fe12fb215a9c": {
      "model_module": "@jupyter-widgets/controls",
      "model_module_version": "2.0.0",
      "model_name": "HTMLStyleModel",
      "state": {
       "description_width": "",
       "font_size": null,
       "text_color": null
      }
     },
     "963089c5efb646eebf4a6ccf4e67fb82": {
      "model_module": "@jupyter-widgets/controls",
      "model_module_version": "2.0.0",
      "model_name": "HTMLStyleModel",
      "state": {
       "description_width": "",
       "font_size": null,
       "text_color": null
      }
     },
     "9670b15d4a644527b199487be801dffd": {
      "model_module": "@jupyter-widgets/controls",
      "model_module_version": "2.0.0",
      "model_name": "HTMLModel",
      "state": {
       "layout": "IPY_MODEL_47d3314747234aae9a886e46d3d13c7b",
       "style": "IPY_MODEL_26c77d6ad1a140b7813dd0009d879e4f",
       "value": "100%"
      }
     },
     "9692e78934e94282bd5a858b05717025": {
      "model_module": "@jupyter-widgets/controls",
      "model_module_version": "2.0.0",
      "model_name": "FloatProgressModel",
      "state": {
       "bar_style": "success",
       "layout": "IPY_MODEL_6fdcdbef7c1c4d659b3384cb35693970",
       "max": 632,
       "style": "IPY_MODEL_778e643c3c484121a301c12c2d92a2ac",
       "value": 632
      }
     },
     "96dac8b6082b4ad295a697f1932c2f43": {
      "model_module": "@jupyter-widgets/controls",
      "model_module_version": "2.0.0",
      "model_name": "HTMLModel",
      "state": {
       "layout": "IPY_MODEL_19b1778d966341cabe50cea9a09f9cfe",
       "style": "IPY_MODEL_7522a6b91991489b8d57afa747afdd49",
       "value": "100%"
      }
     },
     "96fde5e448a243ceb48810ba70bef00e": {
      "model_module": "@jupyter-widgets/controls",
      "model_module_version": "2.0.0",
      "model_name": "FloatProgressModel",
      "state": {
       "bar_style": "success",
       "layout": "IPY_MODEL_f76b557cc9934c35a3876502924082f7",
       "max": 632,
       "style": "IPY_MODEL_eded880a22bc46039fc2dcca7b1998aa",
       "value": 632
      }
     },
     "9878d4b94c2e4406a7cf37cd9d7e56c6": {
      "model_module": "@jupyter-widgets/controls",
      "model_module_version": "2.0.0",
      "model_name": "ProgressStyleModel",
      "state": {
       "description_width": ""
      }
     },
     "989c52ef5a474559ad465c5acddc6ae1": {
      "model_module": "@jupyter-widgets/base",
      "model_module_version": "2.0.0",
      "model_name": "LayoutModel",
      "state": {}
     },
     "9978beea1d7640c395d032dceffdef5b": {
      "model_module": "@jupyter-widgets/controls",
      "model_module_version": "2.0.0",
      "model_name": "VBoxModel",
      "state": {
       "_dom_classes": [
        "widget-interact"
       ],
       "children": [
        "IPY_MODEL_71ada11a2cc7401f9d3d7ae7448243ea",
        "IPY_MODEL_ef652068670246b1874fc474653f1409"
       ],
       "layout": "IPY_MODEL_bdc4e8b657ed4b18a3e7d6f13eccbc9f"
      }
     },
     "998637f21daa425d87ff048c1da51305": {
      "model_module": "@jupyter-widgets/controls",
      "model_module_version": "2.0.0",
      "model_name": "ProgressStyleModel",
      "state": {
       "description_width": ""
      }
     },
     "99acc5cb5b444fcd983cf8731b046a50": {
      "model_module": "@jupyter-widgets/controls",
      "model_module_version": "2.0.0",
      "model_name": "HTMLStyleModel",
      "state": {
       "description_width": "",
       "font_size": null,
       "text_color": null
      }
     },
     "9bbbf319694248bea16a0ab4700e75bf": {
      "model_module": "@jupyter-widgets/base",
      "model_module_version": "2.0.0",
      "model_name": "LayoutModel",
      "state": {}
     },
     "9bdda517f82448ce95e1f0c14e2c1aee": {
      "model_module": "@jupyter-widgets/base",
      "model_module_version": "2.0.0",
      "model_name": "LayoutModel",
      "state": {}
     },
     "9c7ee8b56d7743d7a210c5400d3dcdba": {
      "model_module": "@jupyter-widgets/base",
      "model_module_version": "2.0.0",
      "model_name": "LayoutModel",
      "state": {}
     },
     "9d7a0995777244d893c7fd0b463680e6": {
      "model_module": "@jupyter-widgets/controls",
      "model_module_version": "2.0.0",
      "model_name": "HTMLModel",
      "state": {
       "layout": "IPY_MODEL_0ba85c3d876040469c48365cacc7e1fd",
       "style": "IPY_MODEL_4772833ff3844432a21304a928d1c16e",
       "value": " 632/632 [00:00&lt;00:00, 1310.62it/s]"
      }
     },
     "9d7f61a56f494b589fe131409c48383d": {
      "model_module": "@jupyter-widgets/base",
      "model_module_version": "2.0.0",
      "model_name": "LayoutModel",
      "state": {}
     },
     "9df764fae2844f0a8da9c9d89e69287f": {
      "model_module": "@jupyter-widgets/base",
      "model_module_version": "2.0.0",
      "model_name": "LayoutModel",
      "state": {}
     },
     "9e26bf2b2ef8404d803d1afa296708f4": {
      "model_module": "@jupyter-widgets/controls",
      "model_module_version": "2.0.0",
      "model_name": "HTMLStyleModel",
      "state": {
       "description_width": "",
       "font_size": null,
       "text_color": null
      }
     },
     "9e324700f4774605b4251d48ee7340f4": {
      "model_module": "@jupyter-widgets/base",
      "model_module_version": "2.0.0",
      "model_name": "LayoutModel",
      "state": {}
     },
     "a007b8c6c8f9479fa5edfb86b3a5311c": {
      "model_module": "@jupyter-widgets/controls",
      "model_module_version": "2.0.0",
      "model_name": "HTMLModel",
      "state": {
       "layout": "IPY_MODEL_a3f05cbf56bf4bdd8a15a1820b8b74e6",
       "style": "IPY_MODEL_a372bf164e5242f2b613fe34989e97f6",
       "value": "100%"
      }
     },
     "a103a15417674ef39ca2f97be5cb5936": {
      "model_module": "@jupyter-widgets/controls",
      "model_module_version": "2.0.0",
      "model_name": "HTMLModel",
      "state": {
       "layout": "IPY_MODEL_286af7e8bcee47a985697372b95ebc45",
       "style": "IPY_MODEL_fb21ccd2f790419b83b2ab50cf50ef41",
       "value": " 632/632 [01:44&lt;00:00,  5.87it/s]"
      }
     },
     "a13a2067a2154bb6bfe5eb1f02a70f3f": {
      "model_module": "@jupyter-widgets/base",
      "model_module_version": "2.0.0",
      "model_name": "LayoutModel",
      "state": {}
     },
     "a158d950c49e4d35996303efe806acd6": {
      "model_module": "@jupyter-widgets/controls",
      "model_module_version": "2.0.0",
      "model_name": "HTMLModel",
      "state": {
       "layout": "IPY_MODEL_ab730c7c71af4e0eb5b59bb3fa4eb8e0",
       "style": "IPY_MODEL_37eb43d000e6482cb83e47f2887950d6",
       "value": " 632/632 [01:50&lt;00:00,  5.92it/s]"
      }
     },
     "a2f2a6b0254e421e9f0ab7bbdeb30091": {
      "model_module": "@jupyter-widgets/base",
      "model_module_version": "2.0.0",
      "model_name": "LayoutModel",
      "state": {}
     },
     "a372bf164e5242f2b613fe34989e97f6": {
      "model_module": "@jupyter-widgets/controls",
      "model_module_version": "2.0.0",
      "model_name": "HTMLStyleModel",
      "state": {
       "description_width": "",
       "font_size": null,
       "text_color": null
      }
     },
     "a3a44806196944b9bf29298b2c0c77b1": {
      "model_module": "@jupyter-widgets/base",
      "model_module_version": "2.0.0",
      "model_name": "LayoutModel",
      "state": {}
     },
     "a3f05cbf56bf4bdd8a15a1820b8b74e6": {
      "model_module": "@jupyter-widgets/base",
      "model_module_version": "2.0.0",
      "model_name": "LayoutModel",
      "state": {}
     },
     "a441d858d3a34088a39308dca7415225": {
      "model_module": "@jupyter-widgets/controls",
      "model_module_version": "2.0.0",
      "model_name": "FloatProgressModel",
      "state": {
       "bar_style": "success",
       "layout": "IPY_MODEL_3d056799b10c4040ad82d0365082d13e",
       "max": 632,
       "style": "IPY_MODEL_87775767790743e3af47a979685813c9",
       "value": 632
      }
     },
     "a4dbb40590f347cdb317d653d88d5da3": {
      "model_module": "@jupyter-widgets/controls",
      "model_module_version": "2.0.0",
      "model_name": "HBoxModel",
      "state": {
       "children": [
        "IPY_MODEL_0c50704e0e174959a85890e5444fc093",
        "IPY_MODEL_d5fecc2b11a245a39ab509045c77abe4",
        "IPY_MODEL_0a13fb09e4b84d73b13f02932024e249"
       ],
       "layout": "IPY_MODEL_ded84ccb1e0e403facd2791cf482dbc4"
      }
     },
     "a530729c6c0c48a6bcea208a87bb0398": {
      "model_module": "@jupyter-widgets/controls",
      "model_module_version": "2.0.0",
      "model_name": "HTMLStyleModel",
      "state": {
       "description_width": "",
       "font_size": null,
       "text_color": null
      }
     },
     "a59928caabc744b2b87beb77c128a35c": {
      "model_module": "@jupyter-widgets/controls",
      "model_module_version": "2.0.0",
      "model_name": "HTMLModel",
      "state": {
       "layout": "IPY_MODEL_fb016ddcb40e48b5b38b61a66ee6e6ab",
       "style": "IPY_MODEL_e48f4f2391684c8fa27ca3d51f3a0f0c",
       "value": " 632/632 [00:00&lt;00:00, 1191.54it/s]"
      }
     },
     "a60206ce1c8446918c5a4356f809c5dc": {
      "model_module": "@jupyter-widgets/controls",
      "model_module_version": "2.0.0",
      "model_name": "FloatProgressModel",
      "state": {
       "bar_style": "success",
       "layout": "IPY_MODEL_78230d928f864328ba878bc5669c4866",
       "max": 632,
       "style": "IPY_MODEL_142fd4d74e3c48068b612ae250bae899",
       "value": 632
      }
     },
     "a6597a5748304ce197f96f58b8f319ad": {
      "model_module": "@jupyter-widgets/base",
      "model_module_version": "2.0.0",
      "model_name": "LayoutModel",
      "state": {}
     },
     "a667bce7b3744f1cad0fad45dfd7cc13": {
      "model_module": "@jupyter-widgets/controls",
      "model_module_version": "2.0.0",
      "model_name": "ProgressStyleModel",
      "state": {
       "description_width": ""
      }
     },
     "a66808933c4f40f8a0d98cc6e4c52eb1": {
      "model_module": "@jupyter-widgets/base",
      "model_module_version": "2.0.0",
      "model_name": "LayoutModel",
      "state": {}
     },
     "a6afb859793845f5a086dba609e38cf7": {
      "model_module": "@jupyter-widgets/base",
      "model_module_version": "2.0.0",
      "model_name": "LayoutModel",
      "state": {}
     },
     "a7e79539712244f68b41eefde0fefe45": {
      "model_module": "@jupyter-widgets/controls",
      "model_module_version": "2.0.0",
      "model_name": "HTMLModel",
      "state": {
       "layout": "IPY_MODEL_a85ce82d6fe04b25b2c9bf411e9384b5",
       "style": "IPY_MODEL_ad10c259359242ab95adeb5d7aabcb84",
       "value": " 632/632 [00:08&lt;00:00, 65.87it/s]"
      }
     },
     "a7f429b9ab20492889144acaec7535e2": {
      "model_module": "@jupyter-widgets/controls",
      "model_module_version": "2.0.0",
      "model_name": "HBoxModel",
      "state": {
       "children": [
        "IPY_MODEL_635195c6fd3f415da7e47cabd4e46380",
        "IPY_MODEL_d04a8ce4f9124705b28a2a3e13f11d8a",
        "IPY_MODEL_0f9bb7e6bd934b2d82546c5763f12dbf"
       ],
       "layout": "IPY_MODEL_03b7ad9e44e64f21ba0785f9c698b97e"
      }
     },
     "a85ce82d6fe04b25b2c9bf411e9384b5": {
      "model_module": "@jupyter-widgets/base",
      "model_module_version": "2.0.0",
      "model_name": "LayoutModel",
      "state": {}
     },
     "a89eb34e3907463985ca9517d20e7a89": {
      "model_module": "@jupyter-widgets/base",
      "model_module_version": "2.0.0",
      "model_name": "LayoutModel",
      "state": {}
     },
     "a8b27a7e8864455ab00a4dcb2b48f380": {
      "model_module": "@jupyter-widgets/controls",
      "model_module_version": "2.0.0",
      "model_name": "HTMLStyleModel",
      "state": {
       "description_width": "",
       "font_size": null,
       "text_color": null
      }
     },
     "a93e2ce298b6454aabb565271c5ab681": {
      "model_module": "@jupyter-widgets/base",
      "model_module_version": "2.0.0",
      "model_name": "LayoutModel",
      "state": {}
     },
     "a9a39dac4c794c18b7c1bae579d18c8a": {
      "model_module": "@jupyter-widgets/controls",
      "model_module_version": "2.0.0",
      "model_name": "HTMLStyleModel",
      "state": {
       "description_width": "",
       "font_size": null,
       "text_color": null
      }
     },
     "aa6df423c92341a7855a1d1279621395": {
      "model_module": "@jupyter-widgets/controls",
      "model_module_version": "2.0.0",
      "model_name": "HTMLStyleModel",
      "state": {
       "description_width": "",
       "font_size": null,
       "text_color": null
      }
     },
     "ab17f055f70f427ab430552706d8df14": {
      "model_module": "@jupyter-widgets/controls",
      "model_module_version": "2.0.0",
      "model_name": "HTMLStyleModel",
      "state": {
       "description_width": "",
       "font_size": null,
       "text_color": null
      }
     },
     "ab730c7c71af4e0eb5b59bb3fa4eb8e0": {
      "model_module": "@jupyter-widgets/base",
      "model_module_version": "2.0.0",
      "model_name": "LayoutModel",
      "state": {}
     },
     "abbde4a320ae4af98a90bb1a9a4a2da1": {
      "model_module": "@jupyter-widgets/controls",
      "model_module_version": "2.0.0",
      "model_name": "HTMLStyleModel",
      "state": {
       "description_width": "",
       "font_size": null,
       "text_color": null
      }
     },
     "ac662912c7164611a35eb7e134774680": {
      "model_module": "@jupyter-widgets/controls",
      "model_module_version": "2.0.0",
      "model_name": "HTMLModel",
      "state": {
       "layout": "IPY_MODEL_39714c2ba3ba4f09ac049a0d2def5d0c",
       "style": "IPY_MODEL_0029c98fe3aa42249efaaf1eea66496b",
       "value": " 632/632 [00:00&lt;00:00, 2417.34it/s]"
      }
     },
     "ad10c259359242ab95adeb5d7aabcb84": {
      "model_module": "@jupyter-widgets/controls",
      "model_module_version": "2.0.0",
      "model_name": "HTMLStyleModel",
      "state": {
       "description_width": "",
       "font_size": null,
       "text_color": null
      }
     },
     "aebbad5e54a94e9da54067642d9c9951": {
      "model_module": "@jupyter-widgets/controls",
      "model_module_version": "2.0.0",
      "model_name": "FloatProgressModel",
      "state": {
       "bar_style": "success",
       "layout": "IPY_MODEL_34ad4445a6e84baca58ffabc153f0f03",
       "max": 632,
       "style": "IPY_MODEL_6095156253e0464cb0abeb7185dbe0b0",
       "value": 632
      }
     },
     "aec98b9be54e4fffb1884438f2ea217b": {
      "model_module": "@jupyter-widgets/base",
      "model_module_version": "2.0.0",
      "model_name": "LayoutModel",
      "state": {}
     },
     "b1dbb89509f148658f8ddb20602b452f": {
      "model_module": "@jupyter-widgets/controls",
      "model_module_version": "2.0.0",
      "model_name": "FloatProgressModel",
      "state": {
       "bar_style": "success",
       "layout": "IPY_MODEL_33b6dcf10d7d4619a7be0545b9a7cbb3",
       "max": 632,
       "style": "IPY_MODEL_39950fafdc6340c68599b3e819759928",
       "value": 632
      }
     },
     "b455c0a180db4ca1aa04ff6d269d46b3": {
      "model_module": "@jupyter-widgets/controls",
      "model_module_version": "2.0.0",
      "model_name": "HTMLStyleModel",
      "state": {
       "description_width": "",
       "font_size": null,
       "text_color": null
      }
     },
     "b4d0fe2ebd464ab48eef99a4d98f37de": {
      "model_module": "@jupyter-widgets/base",
      "model_module_version": "2.0.0",
      "model_name": "LayoutModel",
      "state": {}
     },
     "b516c0011998426d9f3b64f3bf3f7e1a": {
      "model_module": "@jupyter-widgets/controls",
      "model_module_version": "2.0.0",
      "model_name": "HTMLStyleModel",
      "state": {
       "description_width": "",
       "font_size": null,
       "text_color": null
      }
     },
     "b66bcf7785854ff9b96328741366a148": {
      "model_module": "@jupyter-widgets/controls",
      "model_module_version": "2.0.0",
      "model_name": "HTMLModel",
      "state": {
       "layout": "IPY_MODEL_c0ecb4b6ad6c4492b59dddf46485dba3",
       "style": "IPY_MODEL_7cab33c6d9f2427b93e8e9baeca456f6",
       "value": "100%"
      }
     },
     "b726fae4892d435a87285ea497985a5a": {
      "model_module": "@jupyter-widgets/controls",
      "model_module_version": "2.0.0",
      "model_name": "HTMLStyleModel",
      "state": {
       "description_width": "",
       "font_size": null,
       "text_color": null
      }
     },
     "b81ca0bb12d8418793eb5fc561d0f391": {
      "model_module": "@jupyter-widgets/controls",
      "model_module_version": "2.0.0",
      "model_name": "HTMLModel",
      "state": {
       "layout": "IPY_MODEL_9c7ee8b56d7743d7a210c5400d3dcdba",
       "style": "IPY_MODEL_b516c0011998426d9f3b64f3bf3f7e1a",
       "value": " 632/632 [00:00&lt;00:00, 3768.13it/s]"
      }
     },
     "b8c87882f5ca487b98cc38e3be94385f": {
      "model_module": "@jupyter-widgets/base",
      "model_module_version": "2.0.0",
      "model_name": "LayoutModel",
      "state": {}
     },
     "bb582f34e1294b7eb885c8680e6f830e": {
      "model_module": "@jupyter-widgets/base",
      "model_module_version": "2.0.0",
      "model_name": "LayoutModel",
      "state": {}
     },
     "bba31543c757413eaddbee5d2026bf04": {
      "model_module": "@jupyter-widgets/controls",
      "model_module_version": "2.0.0",
      "model_name": "HTMLModel",
      "state": {
       "layout": "IPY_MODEL_bfd593ca822a4105813821660cf8a917",
       "style": "IPY_MODEL_aa6df423c92341a7855a1d1279621395",
       "value": "100%"
      }
     },
     "bcbdb0b8f3374e539bb229f7fba3e74d": {
      "model_module": "@jupyter-widgets/base",
      "model_module_version": "2.0.0",
      "model_name": "LayoutModel",
      "state": {}
     },
     "bd9fad9caefd40479e008aad91037347": {
      "model_module": "@jupyter-widgets/controls",
      "model_module_version": "2.0.0",
      "model_name": "ProgressStyleModel",
      "state": {
       "description_width": ""
      }
     },
     "bdc4e8b657ed4b18a3e7d6f13eccbc9f": {
      "model_module": "@jupyter-widgets/base",
      "model_module_version": "2.0.0",
      "model_name": "LayoutModel",
      "state": {}
     },
     "bf6e31fdb3c1437cb04d89462fd4234a": {
      "model_module": "@jupyter-widgets/base",
      "model_module_version": "2.0.0",
      "model_name": "LayoutModel",
      "state": {}
     },
     "bfd593ca822a4105813821660cf8a917": {
      "model_module": "@jupyter-widgets/base",
      "model_module_version": "2.0.0",
      "model_name": "LayoutModel",
      "state": {}
     },
     "c02978de268845628ead411a4542f6af": {
      "model_module": "@jupyter-widgets/base",
      "model_module_version": "2.0.0",
      "model_name": "LayoutModel",
      "state": {}
     },
     "c05ac0565fd948d9b2afe3e5c5812430": {
      "model_module": "@jupyter-widgets/controls",
      "model_module_version": "2.0.0",
      "model_name": "FloatProgressModel",
      "state": {
       "bar_style": "success",
       "layout": "IPY_MODEL_5966c79525b04106bd97e73ab1408804",
       "max": 632,
       "style": "IPY_MODEL_7351477973a2460d84dc504b7a737f28",
       "value": 632
      }
     },
     "c0b44d4673b34ddfb8c4629a59e6e238": {
      "model_module": "@jupyter-widgets/controls",
      "model_module_version": "2.0.0",
      "model_name": "HBoxModel",
      "state": {
       "children": [
        "IPY_MODEL_ef8bc6fa5dd3446ab74efb989a679428",
        "IPY_MODEL_5a59a4dfd7c24e05b7717f19962ef94d",
        "IPY_MODEL_f35cf009d649426fb0d9d864266e9893"
       ],
       "layout": "IPY_MODEL_284c6b1a0fca4283a458600ff5ee2842"
      }
     },
     "c0ecb4b6ad6c4492b59dddf46485dba3": {
      "model_module": "@jupyter-widgets/base",
      "model_module_version": "2.0.0",
      "model_name": "LayoutModel",
      "state": {}
     },
     "c10e088b530d4b158a902ad40b38aaa2": {
      "model_module": "@jupyter-widgets/controls",
      "model_module_version": "2.0.0",
      "model_name": "HTMLStyleModel",
      "state": {
       "description_width": "",
       "font_size": null,
       "text_color": null
      }
     },
     "c2fc24e7d88d4925a041a2edfd714189": {
      "model_module": "@jupyter-widgets/controls",
      "model_module_version": "2.0.0",
      "model_name": "HTMLModel",
      "state": {
       "layout": "IPY_MODEL_c6a7f9b0925044ca8192f31e106dfde3",
       "style": "IPY_MODEL_2b5cbd4062f4464b92016b020ef85690",
       "value": " 632/632 [01:55&lt;00:00,  5.67it/s]"
      }
     },
     "c31929732bc34b6b8cf93971fcfa4f83": {
      "model_module": "@jupyter-widgets/controls",
      "model_module_version": "2.0.0",
      "model_name": "FloatProgressModel",
      "state": {
       "bar_style": "success",
       "layout": "IPY_MODEL_2b419fb0487e49e7b0bfc6ac89ffb6fc",
       "max": 632,
       "style": "IPY_MODEL_28e240779d1c4a3196d9101d75416e3e",
       "value": 632
      }
     },
     "c42b2617ceec44fb8793713f1a7b70be": {
      "model_module": "@jupyter-widgets/controls",
      "model_module_version": "2.0.0",
      "model_name": "FloatProgressModel",
      "state": {
       "bar_style": "success",
       "layout": "IPY_MODEL_76365331b65d4ce192ec10155c58111a",
       "max": 632,
       "style": "IPY_MODEL_8f7afcad9ee5486bbf6db4445e440d76",
       "value": 632
      }
     },
     "c47fa665b3594a2398ef5b199fc909be": {
      "model_module": "@jupyter-widgets/controls",
      "model_module_version": "2.0.0",
      "model_name": "HTMLStyleModel",
      "state": {
       "description_width": "",
       "font_size": null,
       "text_color": null
      }
     },
     "c5454829f39a46099813129e2b9bc764": {
      "model_module": "@jupyter-widgets/controls",
      "model_module_version": "2.0.0",
      "model_name": "HTMLModel",
      "state": {
       "layout": "IPY_MODEL_b4d0fe2ebd464ab48eef99a4d98f37de",
       "style": "IPY_MODEL_c10e088b530d4b158a902ad40b38aaa2",
       "value": " 632/632 [00:05&lt;00:00, 100.98it/s]"
      }
     },
     "c56d21539f0f4e8bb573995f6075bdba": {
      "model_module": "@jupyter-widgets/base",
      "model_module_version": "2.0.0",
      "model_name": "LayoutModel",
      "state": {}
     },
     "c5b0768708804ee1a1208c931300438b": {
      "model_module": "@jupyter-widgets/base",
      "model_module_version": "2.0.0",
      "model_name": "LayoutModel",
      "state": {}
     },
     "c6a01a57d5f44df3b6337b524b1851ad": {
      "model_module": "@jupyter-widgets/controls",
      "model_module_version": "2.0.0",
      "model_name": "HTMLStyleModel",
      "state": {
       "description_width": "",
       "font_size": null,
       "text_color": null
      }
     },
     "c6a7f9b0925044ca8192f31e106dfde3": {
      "model_module": "@jupyter-widgets/base",
      "model_module_version": "2.0.0",
      "model_name": "LayoutModel",
      "state": {}
     },
     "c815cd72e22e45f084d4e784b974c936": {
      "model_module": "@jupyter-widgets/base",
      "model_module_version": "2.0.0",
      "model_name": "LayoutModel",
      "state": {}
     },
     "cbd86617762d469ba243c72ccdf7c1f1": {
      "model_module": "@jupyter-widgets/controls",
      "model_module_version": "2.0.0",
      "model_name": "HTMLStyleModel",
      "state": {
       "description_width": "",
       "font_size": null,
       "text_color": null
      }
     },
     "cc7687cd7c1049578cb4449f3b19702f": {
      "model_module": "@jupyter-widgets/base",
      "model_module_version": "2.0.0",
      "model_name": "LayoutModel",
      "state": {}
     },
     "cfc9c6ed5989413c8a7aa0a87ba90956": {
      "model_module": "@jupyter-widgets/base",
      "model_module_version": "2.0.0",
      "model_name": "LayoutModel",
      "state": {}
     },
     "d04a8ce4f9124705b28a2a3e13f11d8a": {
      "model_module": "@jupyter-widgets/controls",
      "model_module_version": "2.0.0",
      "model_name": "FloatProgressModel",
      "state": {
       "bar_style": "success",
       "layout": "IPY_MODEL_5d7c092bace34e3089d76859cfa5e5a5",
       "max": 632,
       "style": "IPY_MODEL_56bb307f72784348864317a1fa927a97",
       "value": 632
      }
     },
     "d109c6cd58df4d799f2f6282d8e3a1d5": {
      "model_module": "@jupyter-widgets/base",
      "model_module_version": "2.0.0",
      "model_name": "LayoutModel",
      "state": {}
     },
     "d14aef88265d4637af428f2b6c7c787c": {
      "model_module": "@jupyter-widgets/controls",
      "model_module_version": "2.0.0",
      "model_name": "HTMLModel",
      "state": {
       "layout": "IPY_MODEL_6c8da1c8f89041b8bca1be05d9015e2b",
       "style": "IPY_MODEL_24b826c3fa1f44ad8022419ba911c253",
       "value": " 632/632 [00:00&lt;00:00, 3050.56it/s]"
      }
     },
     "d21ee379f08d44b6816af2a97adeb1ad": {
      "model_module": "@jupyter-widgets/controls",
      "model_module_version": "2.0.0",
      "model_name": "FloatProgressModel",
      "state": {
       "bar_style": "success",
       "layout": "IPY_MODEL_77f5ac4cbca24c229eee71f924cbb5ad",
       "max": 632,
       "style": "IPY_MODEL_e561f37d5c8b40fcb957c03d4e40fb32",
       "value": 632
      }
     },
     "d28e0e2c8c994ad0850e6eca2e253de1": {
      "model_module": "@jupyter-widgets/controls",
      "model_module_version": "2.0.0",
      "model_name": "HTMLModel",
      "state": {
       "layout": "IPY_MODEL_9d7f61a56f494b589fe131409c48383d",
       "style": "IPY_MODEL_25961d96456845cb9cccbecd19313c31",
       "value": "100%"
      }
     },
     "d29a587f720042a6b0b18e7f8234c9a3": {
      "model_module": "@jupyter-widgets/base",
      "model_module_version": "2.0.0",
      "model_name": "LayoutModel",
      "state": {}
     },
     "d42858a0477d4b4abecd957902541b8d": {
      "model_module": "@jupyter-widgets/controls",
      "model_module_version": "2.0.0",
      "model_name": "HTMLModel",
      "state": {
       "layout": "IPY_MODEL_a66808933c4f40f8a0d98cc6e4c52eb1",
       "style": "IPY_MODEL_a8b27a7e8864455ab00a4dcb2b48f380",
       "value": " 632/632 [00:00&lt;00:00, 3495.42it/s]"
      }
     },
     "d49f6654249c4dc8b2dc26d374614314": {
      "model_module": "@jupyter-widgets/controls",
      "model_module_version": "2.0.0",
      "model_name": "HBoxModel",
      "state": {
       "children": [
        "IPY_MODEL_91c8b37e96fb41ae88a0cc5c370f26af",
        "IPY_MODEL_dd2d93ec20444026bcf6fb427b9b97ee",
        "IPY_MODEL_a158d950c49e4d35996303efe806acd6"
       ],
       "layout": "IPY_MODEL_0f2424fded4f4718869878755ed9204a"
      }
     },
     "d4ccf34dc3ff44e9bf344a35ff6ec8b1": {
      "model_module": "@jupyter-widgets/controls",
      "model_module_version": "2.0.0",
      "model_name": "FloatProgressModel",
      "state": {
       "bar_style": "success",
       "layout": "IPY_MODEL_9bdda517f82448ce95e1f0c14e2c1aee",
       "max": 632,
       "style": "IPY_MODEL_1aa59c54b5494a1aab51a48dc27041cb",
       "value": 632
      }
     },
     "d523b18b3db34cd1a7446f3961049d93": {
      "model_module": "@jupyter-widgets/base",
      "model_module_version": "2.0.0",
      "model_name": "LayoutModel",
      "state": {}
     },
     "d526772deb0e43b0a911dbde3d293c12": {
      "model_module": "@jupyter-widgets/controls",
      "model_module_version": "2.0.0",
      "model_name": "HTMLModel",
      "state": {
       "layout": "IPY_MODEL_9e324700f4774605b4251d48ee7340f4",
       "style": "IPY_MODEL_8b09798dacd7401199fc231167607d2b",
       "value": "100%"
      }
     },
     "d5c62c645aa6438ab92eb9c3b666b596": {
      "model_module": "@jupyter-widgets/controls",
      "model_module_version": "2.0.0",
      "model_name": "HTMLStyleModel",
      "state": {
       "description_width": "",
       "font_size": null,
       "text_color": null
      }
     },
     "d5d86d01a0a84437935fbed433eabba5": {
      "model_module": "@jupyter-widgets/controls",
      "model_module_version": "2.0.0",
      "model_name": "HTMLStyleModel",
      "state": {
       "description_width": "",
       "font_size": null,
       "text_color": null
      }
     },
     "d5fecc2b11a245a39ab509045c77abe4": {
      "model_module": "@jupyter-widgets/controls",
      "model_module_version": "2.0.0",
      "model_name": "FloatProgressModel",
      "state": {
       "bar_style": "success",
       "layout": "IPY_MODEL_82b4e00fcb644951a51e452b2146a369",
       "max": 632,
       "style": "IPY_MODEL_f94a085ca8fe472aab5cc3803aeed31d",
       "value": 632
      }
     },
     "da3fe76ffd924fb5976358933e6c61c0": {
      "model_module": "@jupyter-widgets/controls",
      "model_module_version": "2.0.0",
      "model_name": "HBoxModel",
      "state": {
       "children": [
        "IPY_MODEL_05a58c77dc3647638e171fdf49147703",
        "IPY_MODEL_b1dbb89509f148658f8ddb20602b452f",
        "IPY_MODEL_dd549952d45748989c14604635b05813"
       ],
       "layout": "IPY_MODEL_5a7ae943dd6448e5b94e2becfb845849"
      }
     },
     "da5b90bc81e34c868ddb74fdbe628a9f": {
      "model_module": "@jupyter-widgets/controls",
      "model_module_version": "2.0.0",
      "model_name": "HBoxModel",
      "state": {
       "children": [
        "IPY_MODEL_bba31543c757413eaddbee5d2026bf04",
        "IPY_MODEL_538cd50fc4c64e67aa5e347089c4ff88",
        "IPY_MODEL_681aebc9d33147ccba3182572cca6068"
       ],
       "layout": "IPY_MODEL_c5b0768708804ee1a1208c931300438b"
      }
     },
     "da752298fa4448a696bd298f21a37dc9": {
      "model_module": "@jupyter-widgets/controls",
      "model_module_version": "2.0.0",
      "model_name": "HBoxModel",
      "state": {
       "children": [
        "IPY_MODEL_68893f62cf8e4341b41f6c3cf63c89f1",
        "IPY_MODEL_9692e78934e94282bd5a858b05717025",
        "IPY_MODEL_10a04e22c4de4e5987c68cb322ac1212"
       ],
       "layout": "IPY_MODEL_083890d2d9f24ff7ae050dfd63242c71"
      }
     },
     "db0a65995620414f9d06b6818c2ec9a8": {
      "model_module": "@jupyter-widgets/controls",
      "model_module_version": "2.0.0",
      "model_name": "ProgressStyleModel",
      "state": {
       "description_width": ""
      }
     },
     "dd23259a10ba42bfae8e808ef54922ac": {
      "model_module": "@jupyter-widgets/controls",
      "model_module_version": "2.0.0",
      "model_name": "HTMLStyleModel",
      "state": {
       "description_width": "",
       "font_size": null,
       "text_color": null
      }
     },
     "dd2d93ec20444026bcf6fb427b9b97ee": {
      "model_module": "@jupyter-widgets/controls",
      "model_module_version": "2.0.0",
      "model_name": "FloatProgressModel",
      "state": {
       "bar_style": "success",
       "layout": "IPY_MODEL_a89eb34e3907463985ca9517d20e7a89",
       "max": 632,
       "style": "IPY_MODEL_629edf29328e49949d4398aef10e6c51",
       "value": 632
      }
     },
     "dd4af3cbb60349dc8d5e66245a1c77b6": {
      "model_module": "@jupyter-widgets/controls",
      "model_module_version": "2.0.0",
      "model_name": "HBoxModel",
      "state": {
       "children": [
        "IPY_MODEL_093d0679085e4550b0e582f771719ff5",
        "IPY_MODEL_2da585ff21594c63a5d1bbffa0d8eba4",
        "IPY_MODEL_a103a15417674ef39ca2f97be5cb5936"
       ],
       "layout": "IPY_MODEL_22f752726c65449086393c3fb55e3adf"
      }
     },
     "dd549952d45748989c14604635b05813": {
      "model_module": "@jupyter-widgets/controls",
      "model_module_version": "2.0.0",
      "model_name": "HTMLModel",
      "state": {
       "layout": "IPY_MODEL_76929096eebe4451aa258e29b6f4a734",
       "style": "IPY_MODEL_7aaae3bb02a3481abaadf3729512ba39",
       "value": " 632/632 [00:09&lt;00:00, 71.43it/s]"
      }
     },
     "de0c6ff01c634c13a5c15bec2416f7c0": {
      "model_module": "@jupyter-widgets/controls",
      "model_module_version": "2.0.0",
      "model_name": "HTMLStyleModel",
      "state": {
       "description_width": "",
       "font_size": null,
       "text_color": null
      }
     },
     "de50274773d347858914bcbcaf278af6": {
      "model_module": "@jupyter-widgets/base",
      "model_module_version": "2.0.0",
      "model_name": "LayoutModel",
      "state": {}
     },
     "ded84ccb1e0e403facd2791cf482dbc4": {
      "model_module": "@jupyter-widgets/base",
      "model_module_version": "2.0.0",
      "model_name": "LayoutModel",
      "state": {}
     },
     "df6bd0d595e64bbfb5354732214f65a3": {
      "model_module": "@jupyter-widgets/controls",
      "model_module_version": "2.0.0",
      "model_name": "ProgressStyleModel",
      "state": {
       "description_width": ""
      }
     },
     "dfd8b70e2a284c79bbab6524dcdeb147": {
      "model_module": "@jupyter-widgets/base",
      "model_module_version": "2.0.0",
      "model_name": "LayoutModel",
      "state": {}
     },
     "e0b57a1b10794910ba22cf0d415476a3": {
      "model_module": "@jupyter-widgets/controls",
      "model_module_version": "2.0.0",
      "model_name": "HTMLStyleModel",
      "state": {
       "description_width": "",
       "font_size": null,
       "text_color": null
      }
     },
     "e11e324e2cf542f796fb4badc3706a6a": {
      "model_module": "@jupyter-widgets/controls",
      "model_module_version": "2.0.0",
      "model_name": "HTMLStyleModel",
      "state": {
       "description_width": "",
       "font_size": null,
       "text_color": null
      }
     },
     "e1b86335e4b34686b97f87d89cd37b78": {
      "model_module": "@jupyter-widgets/base",
      "model_module_version": "2.0.0",
      "model_name": "LayoutModel",
      "state": {}
     },
     "e2579c7aa92d46f0a188a357945ad0d8": {
      "model_module": "@jupyter-widgets/controls",
      "model_module_version": "2.0.0",
      "model_name": "HTMLModel",
      "state": {
       "layout": "IPY_MODEL_de50274773d347858914bcbcaf278af6",
       "style": "IPY_MODEL_dd23259a10ba42bfae8e808ef54922ac",
       "value": "100%"
      }
     },
     "e48f4f2391684c8fa27ca3d51f3a0f0c": {
      "model_module": "@jupyter-widgets/controls",
      "model_module_version": "2.0.0",
      "model_name": "HTMLStyleModel",
      "state": {
       "description_width": "",
       "font_size": null,
       "text_color": null
      }
     },
     "e551ab5f360449b5854a6741e40257ed": {
      "model_module": "@jupyter-widgets/controls",
      "model_module_version": "2.0.0",
      "model_name": "HTMLStyleModel",
      "state": {
       "description_width": "",
       "font_size": null,
       "text_color": null
      }
     },
     "e561f37d5c8b40fcb957c03d4e40fb32": {
      "model_module": "@jupyter-widgets/controls",
      "model_module_version": "2.0.0",
      "model_name": "ProgressStyleModel",
      "state": {
       "description_width": ""
      }
     },
     "e651b8f2af0a427c81a742988ea15c8f": {
      "model_module": "@jupyter-widgets/base",
      "model_module_version": "2.0.0",
      "model_name": "LayoutModel",
      "state": {}
     },
     "e65b7beff1fc478e8fccfaf10aac5de7": {
      "model_module": "@jupyter-widgets/controls",
      "model_module_version": "2.0.0",
      "model_name": "FloatProgressModel",
      "state": {
       "bar_style": "success",
       "layout": "IPY_MODEL_36a5f5cfc4554188a521241ea78805dc",
       "max": 632,
       "style": "IPY_MODEL_f4fb96507ce94844a4db727e6faeaf23",
       "value": 632
      }
     },
     "e66a61b1c6a242ca83216cf8c37ef365": {
      "model_module": "@jupyter-widgets/base",
      "model_module_version": "2.0.0",
      "model_name": "LayoutModel",
      "state": {}
     },
     "e9e484c47e8447ddac5bfbfeab1729c2": {
      "model_module": "@jupyter-widgets/base",
      "model_module_version": "2.0.0",
      "model_name": "LayoutModel",
      "state": {}
     },
     "ea76e55c84124aed99d7aa9b56d03cde": {
      "model_module": "@jupyter-widgets/base",
      "model_module_version": "2.0.0",
      "model_name": "LayoutModel",
      "state": {}
     },
     "eaf9d9f83c634b6f83f2a6be349f37ec": {
      "model_module": "@jupyter-widgets/controls",
      "model_module_version": "2.0.0",
      "model_name": "HBoxModel",
      "state": {
       "children": [
        "IPY_MODEL_ff6455d3460642d39c7f84c7b9675a29",
        "IPY_MODEL_1edc018b032041e0bb4968a3b3956834",
        "IPY_MODEL_240bb441d9724151b38ae617272944af"
       ],
       "layout": "IPY_MODEL_dfd8b70e2a284c79bbab6524dcdeb147"
      }
     },
     "eb569680ea6e4990ad9fde0761239313": {
      "model_module": "@jupyter-widgets/controls",
      "model_module_version": "2.0.0",
      "model_name": "HTMLModel",
      "state": {
       "layout": "IPY_MODEL_3ea470b849f744be87705c43b60a55a6",
       "style": "IPY_MODEL_59d24313dde74d93a12a84b191b5f174",
       "value": " 632/632 [00:06&lt;00:00, 101.41it/s]"
      }
     },
     "eb7bbbd79cb944b0ae0d085ab694a364": {
      "model_module": "@jupyter-widgets/controls",
      "model_module_version": "2.0.0",
      "model_name": "HTMLModel",
      "state": {
       "layout": "IPY_MODEL_bb582f34e1294b7eb885c8680e6f830e",
       "style": "IPY_MODEL_8eb75b0f91254dd6967be899d58ce30d",
       "value": "100%"
      }
     },
     "ebd37f0cd79940528d4fd8175f678ede": {
      "model_module": "@jupyter-widgets/base",
      "model_module_version": "2.0.0",
      "model_name": "LayoutModel",
      "state": {}
     },
     "ec4e1182858c4f459314d771c7f6b080": {
      "model_module": "@jupyter-widgets/controls",
      "model_module_version": "2.0.0",
      "model_name": "ProgressStyleModel",
      "state": {
       "description_width": ""
      }
     },
     "ec7e279b5f504ce089befd51b07ada52": {
      "model_module": "@jupyter-widgets/controls",
      "model_module_version": "2.0.0",
      "model_name": "HTMLStyleModel",
      "state": {
       "description_width": "",
       "font_size": null,
       "text_color": null
      }
     },
     "eded880a22bc46039fc2dcca7b1998aa": {
      "model_module": "@jupyter-widgets/controls",
      "model_module_version": "2.0.0",
      "model_name": "ProgressStyleModel",
      "state": {
       "description_width": ""
      }
     },
     "ef652068670246b1874fc474653f1409": {
      "model_module": "@jupyter-widgets/output",
      "model_module_version": "1.0.0",
      "model_name": "OutputModel",
      "state": {
       "layout": "IPY_MODEL_f30ef212998b43ac9741061bac549e50",
       "outputs": [
        {
         "data": {
          "image/png": "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",
          "text/plain": "<Figure size 1400x400 with 2 Axes>"
         },
         "metadata": {},
         "output_type": "display_data"
        }
       ]
      }
     },
     "ef8bc6fa5dd3446ab74efb989a679428": {
      "model_module": "@jupyter-widgets/controls",
      "model_module_version": "2.0.0",
      "model_name": "HTMLModel",
      "state": {
       "layout": "IPY_MODEL_46de47d9fb684b90acd9dd634fc36975",
       "style": "IPY_MODEL_58eba54d748c43bbba6ec3d39b045594",
       "value": "100%"
      }
     },
     "f04db7aec4744732892e4ad50eaa94b9": {
      "model_module": "@jupyter-widgets/controls",
      "model_module_version": "2.0.0",
      "model_name": "HTMLModel",
      "state": {
       "layout": "IPY_MODEL_1b4993bd17cc48aaa5962a417f6b6eb1",
       "style": "IPY_MODEL_abbde4a320ae4af98a90bb1a9a4a2da1",
       "value": " 632/632 [00:04&lt;00:00, 136.85it/s]"
      }
     },
     "f051d8f116a14253a915a922330b1c47": {
      "model_module": "@jupyter-widgets/controls",
      "model_module_version": "2.0.0",
      "model_name": "HTMLModel",
      "state": {
       "layout": "IPY_MODEL_75cc7e44219d438f9c3227e1cbe53ef4",
       "style": "IPY_MODEL_45a397c0fc3f4787bc4b79e2617af337",
       "value": "100%"
      }
     },
     "f21f1d1bc3204cf6a074263243d59abc": {
      "model_module": "@jupyter-widgets/base",
      "model_module_version": "2.0.0",
      "model_name": "LayoutModel",
      "state": {}
     },
     "f2954f63b5c24c38a0df07109d2e7cf7": {
      "model_module": "@jupyter-widgets/base",
      "model_module_version": "2.0.0",
      "model_name": "LayoutModel",
      "state": {}
     },
     "f30ef212998b43ac9741061bac549e50": {
      "model_module": "@jupyter-widgets/base",
      "model_module_version": "2.0.0",
      "model_name": "LayoutModel",
      "state": {}
     },
     "f3393f78fec24f359b6b715b9d2ee621": {
      "model_module": "@jupyter-widgets/controls",
      "model_module_version": "2.0.0",
      "model_name": "HTMLStyleModel",
      "state": {
       "description_width": "",
       "font_size": null,
       "text_color": null
      }
     },
     "f35cf009d649426fb0d9d864266e9893": {
      "model_module": "@jupyter-widgets/controls",
      "model_module_version": "2.0.0",
      "model_name": "HTMLModel",
      "state": {
       "layout": "IPY_MODEL_b8c87882f5ca487b98cc38e3be94385f",
       "style": "IPY_MODEL_844425fd2653449ca57378a0f6c7f9ad",
       "value": " 632/632 [01:34&lt;00:00,  6.05it/s]"
      }
     },
     "f3d04e160e554b2f8a3ffd6b94d31f25": {
      "model_module": "@jupyter-widgets/controls",
      "model_module_version": "2.0.0",
      "model_name": "HTMLModel",
      "state": {
       "layout": "IPY_MODEL_a6597a5748304ce197f96f58b8f319ad",
       "style": "IPY_MODEL_ec7e279b5f504ce089befd51b07ada52",
       "value": "100%"
      }
     },
     "f4fb96507ce94844a4db727e6faeaf23": {
      "model_module": "@jupyter-widgets/controls",
      "model_module_version": "2.0.0",
      "model_name": "ProgressStyleModel",
      "state": {
       "description_width": ""
      }
     },
     "f63e1b5d6b164f7eb25222fed8437b62": {
      "model_module": "@jupyter-widgets/base",
      "model_module_version": "2.0.0",
      "model_name": "LayoutModel",
      "state": {}
     },
     "f76b557cc9934c35a3876502924082f7": {
      "model_module": "@jupyter-widgets/base",
      "model_module_version": "2.0.0",
      "model_name": "LayoutModel",
      "state": {}
     },
     "f94a085ca8fe472aab5cc3803aeed31d": {
      "model_module": "@jupyter-widgets/controls",
      "model_module_version": "2.0.0",
      "model_name": "ProgressStyleModel",
      "state": {
       "description_width": ""
      }
     },
     "f998f978de4b4705bd01848499dc1d31": {
      "model_module": "@jupyter-widgets/base",
      "model_module_version": "2.0.0",
      "model_name": "LayoutModel",
      "state": {}
     },
     "f9a2701ea14d455fa36660651319c218": {
      "model_module": "@jupyter-widgets/base",
      "model_module_version": "2.0.0",
      "model_name": "LayoutModel",
      "state": {}
     },
     "f9aaff321ae44f0d9bddeaf724fc304e": {
      "model_module": "@jupyter-widgets/controls",
      "model_module_version": "2.0.0",
      "model_name": "HTMLStyleModel",
      "state": {
       "description_width": "",
       "font_size": null,
       "text_color": null
      }
     },
     "f9f06956a5ee429881e32d79905ae94b": {
      "model_module": "@jupyter-widgets/controls",
      "model_module_version": "2.0.0",
      "model_name": "FloatProgressModel",
      "state": {
       "bar_style": "success",
       "layout": "IPY_MODEL_c815cd72e22e45f084d4e784b974c936",
       "max": 632,
       "style": "IPY_MODEL_a667bce7b3744f1cad0fad45dfd7cc13",
       "value": 632
      }
     },
     "fa662a194f004544a91408606485edde": {
      "model_module": "@jupyter-widgets/controls",
      "model_module_version": "2.0.0",
      "model_name": "HBoxModel",
      "state": {
       "children": [
        "IPY_MODEL_3eff711d5cec4be9895bd5d493b959ae",
        "IPY_MODEL_2074b62d9f5e4ef1b278aa4d76b70389",
        "IPY_MODEL_8be307d0b5c249998a8f013b89f2d875"
       ],
       "layout": "IPY_MODEL_ebd37f0cd79940528d4fd8175f678ede"
      }
     },
     "fb016ddcb40e48b5b38b61a66ee6e6ab": {
      "model_module": "@jupyter-widgets/base",
      "model_module_version": "2.0.0",
      "model_name": "LayoutModel",
      "state": {}
     },
     "fb21ccd2f790419b83b2ab50cf50ef41": {
      "model_module": "@jupyter-widgets/controls",
      "model_module_version": "2.0.0",
      "model_name": "HTMLStyleModel",
      "state": {
       "description_width": "",
       "font_size": null,
       "text_color": null
      }
     },
     "fcac9ad36da0497ba0cb8ab1d10ba5ac": {
      "model_module": "@jupyter-widgets/controls",
      "model_module_version": "2.0.0",
      "model_name": "FloatProgressModel",
      "state": {
       "bar_style": "success",
       "layout": "IPY_MODEL_4e9b3e5305884e31a77bec0f0eab7640",
       "max": 632,
       "style": "IPY_MODEL_df6bd0d595e64bbfb5354732214f65a3",
       "value": 632
      }
     },
     "fdfc40d363c14aebbac83fcf2bf5f6e1": {
      "model_module": "@jupyter-widgets/controls",
      "model_module_version": "2.0.0",
      "model_name": "HBoxModel",
      "state": {
       "children": [
        "IPY_MODEL_5733d2b7d479419ab263bffcadc529b0",
        "IPY_MODEL_2281f75d285647899814faeda392d127",
        "IPY_MODEL_5ddc65d798d546a4a2b95ef1f7b78b86"
       ],
       "layout": "IPY_MODEL_94cbc967355040cb94d0503825a16aea"
      }
     },
     "feee06e927ce48dfbdd09267d3aab3ad": {
      "model_module": "@jupyter-widgets/base",
      "model_module_version": "2.0.0",
      "model_name": "LayoutModel",
      "state": {}
     },
     "ff6455d3460642d39c7f84c7b9675a29": {
      "model_module": "@jupyter-widgets/controls",
      "model_module_version": "2.0.0",
      "model_name": "HTMLModel",
      "state": {
       "layout": "IPY_MODEL_f9a2701ea14d455fa36660651319c218",
       "style": "IPY_MODEL_7df2eeccb15c4bfaa14cdb20fe7aa5d4",
       "value": "100%"
      }
     }
    },
    "version_major": 2,
    "version_minor": 0
   }
  }
 },
 "nbformat": 4,
 "nbformat_minor": 5
}
