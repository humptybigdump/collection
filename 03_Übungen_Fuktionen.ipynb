{
 "cells": [
  {
   "cell_type": "markdown",
   "metadata": {},
   "source": [
    "# Geodatenanalyse 1\n",
    "\n",
    "## Kapitel 3: Funktionen und Berechnungen - Übung"
   ]
  },
  {
   "cell_type": "markdown",
   "metadata": {},
   "source": [
    "### Aufgabe 1\n",
    "#### Deine eigene Funktion\n",
    "- Schreibe eine Funktion mit dem Namen *hiking()*, die Eingangsparameter für die <font color=\"green\">zurückgelegte Strecke</font>, die dafür <font color=\"green\">benötigte Zeit</font> und den <font color=\"green\">Ort der Wanderung</font> hat. \n",
    "\n",
    "    Die Funktion sollte eine Nachricht, mit dem durchschnittlichen Lauftempo und dem Ortsnamen ausgeben. Diese könnte zum Beispiel folgendermaßen lauten:\n",
    " > \" Bei unserer Wanderung in Zermatt hatten wir ein durchschnittliches Lauftempo von 3.5 km/h!\" \n",
    " \n",
    "\n",
    "- Bei einem Tempo von unter 2 km pro Stunde soll eine zusätzliche Nachricht ausgegeben werden, mit dem Hinweis, dass die Wanderung wohl besonders anstrengend oder steil war. Nutze hierfür eine passende Wenn-Dann Bedingung. "
   ]
  },
  {
   "cell_type": "code",
   "execution_count": null,
   "metadata": {},
   "outputs": [],
   "source": [
    "# eigene Funktion erstellen\n",
    "\n",
    "\n",
    "# Funktion aufrufen mit einer hohen Durschnittsgeschwindigkeit und einem beliebigen Ortsnamen\n",
    "\n",
    "\n",
    "# Funktion aufrufen mit einer niedrigeren Durschnittsgeschwindigkeit und einem beliebigen Ortsnamen\n"
   ]
  },
  {
   "cell_type": "markdown",
   "metadata": {},
   "source": [
    "### Aufgabe 2\n",
    "#### Erstellung von NumPy Objekten\n",
    "\n",
    "- Erstelle eine regelmäßige Sequenz zwischen 0 und 100, mit einem Inkrement von 4."
   ]
  },
  {
   "cell_type": "code",
   "execution_count": null,
   "metadata": {},
   "outputs": [],
   "source": [
    "# Vergiss nicht zuerst Numpy zu laden ;)\n",
    "\n",
    "\n",
    "# Vektor mit regelmäßiger Sequenz\n",
    "\n"
   ]
  },
  {
   "cell_type": "markdown",
   "metadata": {},
   "source": [
    "- Erstelle eine Matrix mit 10 x 20 Einträgen, welche einer regelmäßigen Sequenz beginnend bei 0 folgt."
   ]
  },
  {
   "cell_type": "code",
   "execution_count": null,
   "metadata": {},
   "outputs": [],
   "source": [
    "# Matrix mit regelmäßige Sequenz\n",
    "\n"
   ]
  },
  {
   "cell_type": "markdown",
   "metadata": {},
   "source": [
    "- Lasse dir die Anzahl an Elementen (size), die Dimensionen (shape) und die Datentypen (type) beider Vektoren von oben ausgeben"
   ]
  },
  {
   "cell_type": "code",
   "execution_count": null,
   "metadata": {},
   "outputs": [],
   "source": [
    "# Ausgabe von size, shape und type\n",
    "\n"
   ]
  },
  {
   "cell_type": "markdown",
   "metadata": {},
   "source": [
    "### Aufgabe 3\n",
    "#### Indizierung von NumPy Objekten\n",
    "\n",
    "- Erstelle einen Vektor mit 1000 zufälligen Werten. Erstelle einen zweiten Vektor, welcher jeden dritten Wert des ersten Vektors enthält."
   ]
  },
  {
   "cell_type": "code",
   "execution_count": null,
   "metadata": {},
   "outputs": [],
   "source": [
    "# Vektor mit 1000 zufälligen Werten\n",
    "\n",
    "# zweiter Vektor \n"
   ]
  },
  {
   "cell_type": "markdown",
   "metadata": {},
   "source": [
    "- Forme mit Hilfe von *reshape()* den ersten Vektor von eben in eine Matrix mit 20 Zeilen und 50 Spalten um, und überprüfe die Dimensionen der erzeugten Matrix.  "
   ]
  },
  {
   "cell_type": "code",
   "execution_count": null,
   "metadata": {},
   "outputs": [],
   "source": [
    "# Umformen eines Arrays\n"
   ]
  },
  {
   "cell_type": "markdown",
   "metadata": {},
   "source": [
    "- Lass dir nun von diesem Vektor die Werte in Spalte 5 bis 8 der dritten Zeile ausgeben, speichere außerdem die kompletten Spalten 4 und 5 in einem neuen Vektor ab.  "
   ]
  },
  {
   "cell_type": "code",
   "execution_count": null,
   "metadata": {},
   "outputs": [],
   "source": [
    "# Indizierung von Zeilen und Spalten \n"
   ]
  },
  {
   "cell_type": "markdown",
   "metadata": {},
   "source": [
    "### Aufgabe 4\n",
    "#### Erweiterte Funktionalität von NumPy\n",
    "\n",
    "- Erstelle einen Vektor mit 1000 zufälligen ganzen Zahlen zwischen 0 und 100. "
   ]
  },
  {
   "cell_type": "code",
   "execution_count": null,
   "metadata": {},
   "outputs": [],
   "source": [
    "# Vektor mit 1000 zufälligen ganzen Zahlen \n"
   ]
  },
  {
   "cell_type": "markdown",
   "metadata": {},
   "source": [
    "- Speichere die 5 größten Werte aus dem Vektor von eben in einem neuen Array. \n",
    "\n",
    "Hinweis: Nutze dafür die *sort()* Funktion und die passende Indizierung.  "
   ]
  },
  {
   "cell_type": "code",
   "execution_count": null,
   "metadata": {},
   "outputs": [],
   "source": [
    "# 5 kleinste Werte\n"
   ]
  },
  {
   "cell_type": "markdown",
   "metadata": {},
   "source": [
    "## ENDE"
   ]
  }
 ],
 "metadata": {
  "kernelspec": {
   "display_name": "Python 3.8.8 ('base')",
   "language": "python",
   "name": "python3"
  },
  "language_info": {
   "codemirror_mode": {
    "name": "ipython",
    "version": 3
   },
   "file_extension": ".py",
   "mimetype": "text/x-python",
   "name": "python",
   "nbconvert_exporter": "python",
   "pygments_lexer": "ipython3",
   "version": "3.8.8"
  },
  "vscode": {
   "interpreter": {
    "hash": "e4cce46d6be9934fbd27f9ca0432556941ea5bdf741d4f4d64c6cd7f8dfa8fba"
   }
  }
 },
 "nbformat": 4,
 "nbformat_minor": 4
}
