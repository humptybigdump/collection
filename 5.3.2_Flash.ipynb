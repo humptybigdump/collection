{
 "cells": [
  {
   "cell_type": "markdown",
   "id": "779fd231-1874-4877-a195-5d6e6b5ec01f",
   "metadata": {
    "tags": []
   },
   "source": [
    "# Kap. 5.3.2 Nicht lineare Prozessmodelle\n",
    "## Bsp. Flash"
   ]
  },
  {
   "cell_type": "code",
   "execution_count": 1,
   "id": "5d204253-2b67-4f22-80f5-0acd08a02002",
   "metadata": {},
   "outputs": [],
   "source": [
    "from scipy.optimize import fsolve\n",
    "import numpy as np"
   ]
  },
  {
   "cell_type": "markdown",
   "id": "55d4bc69-74c3-4ad0-81fd-41dd1b4a90d4",
   "metadata": {
    "tags": []
   },
   "source": [
    "# Definition der Funktion(en)"
   ]
  },
  {
   "cell_type": "code",
   "execution_count": 2,
   "id": "e6df438a-cde7-40b6-94c9-894594cc664e",
   "metadata": {},
   "outputs": [],
   "source": [
    "# System aus MODELLGLEICHUNGEN\n",
    "\n",
    "def F(X_var, X_para):\n",
    "     \n",
    "    # (Rück-)Benennung aller verwendeten Prozessgrößen\n",
    "    [F, z_MeOH, z_H2O, h_F, h_MeOH_L, h_H2O_L, \n",
    "     h_MeOH_G, h_H2O_G, p_MeOH_sat, p_H2O_sat, p] = X_para\n",
    "    [G, L, y_MeOH, y_H2O, x_MeOH, x_H2O, h_G, h_L, Q] = X_var   \n",
    "    \n",
    "    # Stoffmengenbilanzgleichungen (Typ BILANZ)\n",
    "    res1 = F*z_MeOH - G*y_MeOH - L*x_MeOH           \n",
    "    res2 = F*z_H2O - G*y_H2O - L*x_H2O        \n",
    "    \n",
    "    # Energiebilanz (Typ BILANZ)\n",
    "    res3 = F*h_F - G*h_G - L*h_L + Q    \n",
    "    \n",
    "    # Definitionen der Gemischenthalpien (Typ KONST)\n",
    "    res4 = h_G - y_MeOH*h_MeOH_G - y_H2O*h_H2O_G\n",
    "    res5 = h_L - x_MeOH*h_MeOH_L - x_H2O*h_H2O_L\n",
    "    \n",
    "    # Definitionen des VLE (Typ KONST)\n",
    "    res6 = p*y_MeOH - x_MeOH*p_MeOH_sat             \n",
    "    res7 = p*y_H2O - x_H2O*p_H2O_sat \n",
    "    \n",
    "    # Schließbedingungen (Typ ZWANG)\n",
    "    res8 = 1 - (x_MeOH + x_H2O)    \n",
    "    res9 = 1 - (y_MeOH + y_H2O) \n",
    "\n",
    "    # zu minimierender Residuumsvektor\n",
    "    Res = [res1, res2, res3, res4, res5, res6, res7, res8, res9]\n",
    "    \n",
    "    return Res"
   ]
  },
  {
   "cell_type": "markdown",
   "id": "db728301-488c-4be9-b1f8-d949e7a5301e",
   "metadata": {},
   "source": [
    "# Eingabe der Werte"
   ]
  },
  {
   "cell_type": "code",
   "execution_count": 3,
   "id": "40288d85-1fe9-42c2-a2f4-710f1af40b56",
   "metadata": {},
   "outputs": [],
   "source": [
    "# Vorgabe (direkter und abhängiger) PARAMETER (Typ ZWANG)\n",
    "# Die ausgerechneten Größen sind streng genommen Variablen. \n",
    "# Deren Gleichungen könnten ebenso in das Gleichungssystem \n",
    "# übernommen und die Größen als VARs behandelt werden.\n",
    "\n",
    "# Charakterisierung Feed \n",
    "Feed = 25                   # Stoffmengenstrom [mol/s]\n",
    "z_MeOH = 0.13               # Molanteil Methanol [-] \n",
    "z_H2O = 0.87                # \" Wasser [-]\n",
    "\n",
    "# # Bestimmung spez. Feed-Enthalpie [J/mol]\n",
    "cp_MeOH = 81.08               # spez. Wärmekapazität Methanol [J/molK] \n",
    "cp_H2O = 75.29                # \" Wasser [J/molK]\n",
    "T_F = 35                      # Temperatur [°C]\n",
    "h_F = z_MeOH*cp_MeOH*T_F + z_H2O*cp_H2O*T_F  \n",
    "\n",
    "# # Charakterisierung des Flashs \n",
    "p = 0.15                    # Druck [bar] \n",
    "T = 50                      # Temperatur [°C]\n",
    "\n",
    "# Verdampfungsenthalpien \n",
    "delta_h_MeOH = 35000        # [J/mol] \n",
    "delta_h_H2O = 43000         # [J/mol] \n",
    "\n",
    "# Berechnung spezifischer Reinstoffenthalpie der austretenden Ströme; [J/mol] \n",
    "h_MeOH_L = cp_MeOH*T                                     \n",
    "h_H2O_L = cp_H2O*T                                      \n",
    "h_MeOH_G = cp_MeOH*T + delta_h_MeOH                      \n",
    "h_H2O_G = cp_H2O*T + delta_h_H2O                         \n",
    "\n",
    "# Berechnung Sättigungsdampfdrücke [bar]\n",
    "p_MeOH_sat = 1.013/760*10**(7.76879 - 1408.360/(T+223.600)) \n",
    "p_H2O_sat = 1.013/760*10**(8.07131 - 1730.630/(T+233.426))\n",
    "\n",
    "X_para = [Feed, z_MeOH, z_H2O, h_F, h_MeOH_L, h_H2O_L, \n",
    "          h_MeOH_G, h_H2O_G, p_MeOH_sat, p_H2O_sat, p]\n",
    "\n",
    "# Schaetzwerte VARIABLEN [mol/s, mol/s, - , - , - , - , J/mol, J/mol, W]\n",
    "X_var_names = ['G','L','y_MeOH','y_H2O','x_MeOH','x_H2O','h_G','h_L','Q'] \n",
    "X_var_0 = [Feed*0.5, Feed*0.5, 0.5, 0.5, 0.5, 0.5, 45000, 3700, 4000000]"
   ]
  },
  {
   "cell_type": "markdown",
   "id": "7f721147-7dce-4aed-9ff2-5fd2e4fff5e7",
   "metadata": {},
   "source": [
    "# Lösung durch Aufruf der Funktion(en)"
   ]
  },
  {
   "cell_type": "code",
   "execution_count": 4,
   "id": "b824799c-bcea-4216-ae69-3f020971b16d",
   "metadata": {},
   "outputs": [],
   "source": [
    "# solver approximiert: res->0 für MODELLGLEICHUNGEN(X_var), Startwert X_var_0\n",
    "X_var_final = fsolve( lambda X_var: F(X_var, X_para), X_var_0 )\n",
    "\n",
    "# Residuumsvektor durch Einsetzen des gefundenen Lösungsvektors\n",
    "Res = F(X_var_final, X_para)\n",
    "# runden\n",
    "Res = np.round(Res, 10)"
   ]
  },
  {
   "cell_type": "markdown",
   "id": "90785246-0d17-41d5-b33e-9b974b82d868",
   "metadata": {},
   "source": [
    "# Untersuchung der Ergebnisse"
   ]
  },
  {
   "cell_type": "code",
   "execution_count": 8,
   "id": "11e7c219-7d79-4827-832a-36f69620a0ec",
   "metadata": {
    "tags": []
   },
   "outputs": [
    {
     "name": "stdout",
     "output_type": "stream",
     "text": [
      "Variablen: 9\n",
      "\n",
      "X_var\tWert\n",
      "G\t10.062\n",
      "L\t14.938\n",
      "y_MeOH\t0.231\n",
      "y_H2O\t0.769\n",
      "x_MeOH\t0.062\n",
      "x_H2O\t0.938\n",
      "h_G\t44985.13\n",
      "h_L\t3782.483\n",
      "Q\t442624.972\n",
      "\n",
      "Res = [ 0. -0.  0.  0.  0.  0.  0.  0.  0.]\n"
     ]
    }
   ],
   "source": [
    "# sauberes print out der Ergebnisse\n",
    "\n",
    "print(\"Variablen: \" + str(len(X_var_final)))\n",
    "print(\"\\n\" + \"X_var\" + \"\\t\" + \"Wert\")\n",
    "\n",
    "for i,x in enumerate(X_var_final):\n",
    "    name = X_var_names[i]\n",
    "    wert = np.round(x, 3)\n",
    "    print(name + \"\\t\" + str(wert))\n",
    "    \n",
    "print (\"\\nRes = \" + str (Res))"
   ]
  },
  {
   "cell_type": "code",
   "execution_count": null,
   "id": "6768d0e7-ead9-4b66-8d2e-aae30a3c61d0",
   "metadata": {},
   "outputs": [],
   "source": []
  }
 ],
 "metadata": {
  "kernelspec": {
   "display_name": "Python 3 (ipykernel)",
   "language": "python",
   "name": "python3"
  },
  "language_info": {
   "codemirror_mode": {
    "name": "ipython",
    "version": 3
   },
   "file_extension": ".py",
   "mimetype": "text/x-python",
   "name": "python",
   "nbconvert_exporter": "python",
   "pygments_lexer": "ipython3",
   "version": "3.8.12"
  }
 },
 "nbformat": 4,
 "nbformat_minor": 5
}
