{
 "cells": [
  {
   "cell_type": "markdown",
   "id": "475706dc",
   "metadata": {},
   "source": [
    "# Bayes and Naive Bayes from Scratch"
   ]
  },
  {
   "cell_type": "markdown",
   "id": "5bb0fa35",
   "metadata": {},
   "source": [
    "Let us first import the necessary libraries and define the dataframe shuffle utility"
   ]
  },
  {
   "cell_type": "code",
   "execution_count": 1,
   "id": "e6116c11",
   "metadata": {},
   "outputs": [],
   "source": [
    "from typing import List\n",
    "\n",
    "import numpy as np\n",
    "import pandas as pd\n",
    "from sklearn.neighbors import KernelDensity\n",
    "from openml.datasets import get_dataset\n",
    "from sklearn.preprocessing import LabelEncoder\n",
    "import matplotlib.pyplot as plt\n",
    "import seaborn as sns\n",
    "sns.set()\n",
    "\n",
    "\n",
    "def shuffle_df(df: pd.DataFrame):\n",
    "    return df.sample(frac=1, random_state=0).reset_index(drop=True)"
   ]
  },
  {
   "cell_type": "markdown",
   "id": "6174263b",
   "metadata": {},
   "source": [
    "We use Kernel Density Estimation to approximate the required PDFs\n",
    "- we will work with continuous data in this example\n",
    "- `fit_kde` fits and returns scikit-learn's `KernelDensity` class\n",
    "- see `https://mathisonian.github.io/kde/` for a nice visualization"
   ]
  },
  {
   "cell_type": "code",
   "execution_count": 2,
   "id": "fa914264",
   "metadata": {},
   "outputs": [],
   "source": [
    "def fit_kde(data: pd.DataFrame):\n",
    "    density_estimator = KernelDensity()\n",
    "    density_estimator.fit(data)\n",
    "    return density_estimator"
   ]
  },
  {
   "cell_type": "markdown",
   "id": "ce57a240",
   "metadata": {},
   "source": [
    "- `get_prior_probs` computes prior probabilities for each class in the provided data"
   ]
  },
  {
   "cell_type": "code",
   "execution_count": 3,
   "id": "d56cf0dd",
   "metadata": {},
   "outputs": [],
   "source": [
    "def get_prior_probs(data: pd.DataFrame):\n",
    "    data.sort_values(by=\"class\")\n",
    "    probs = [\n",
    "        len(grouped_df) / len(data) \n",
    "        for c_j, grouped_df in data.groupby(\"class\")\n",
    "    ]\n",
    "    return np.array(probs)"
   ]
  },
  {
   "cell_type": "markdown",
   "id": "631fd475",
   "metadata": {},
   "source": [
    "## Bayes Estimator\n",
    "1. compute prior probabilites from training data\n",
    "2. fit kernel density estimators to aproximate p(o|c_j) \n",
    "    - one estimator for each class\n",
    "3. compute p(o|c_j)p(c_j) and select the maximum"
   ]
  },
  {
   "cell_type": "code",
   "execution_count": 4,
   "id": "c61afc95",
   "metadata": {},
   "outputs": [],
   "source": [
    "class Bayes:\n",
    "    def __init__(self):\n",
    "        self.KDEs: List[KernelDensity] = None  # List of Kernel density estimators, one for each class\n",
    "        self.prior_probs: np.ndarray = None\n",
    "\n",
    "    def fit(self, data: pd.DataFrame):\n",
    "        data.sort_values(by=\"class\")\n",
    "        self.KDEs = [fit_kde(class_data.drop(\"class\", axis=1))  # fit one estimator for each class\n",
    "                     for _, class_data in data.groupby(\"class\")]  # group data by class and iterate over those groups\n",
    "        self.prior_probs = get_prior_probs(data)\n",
    "\n",
    "    def predict(self, samples: pd.DataFrame):\n",
    "        proba = self.predict_proba(samples)\n",
    "        return np.argmax(proba, axis=0)\n",
    "    \n",
    "    def predict_proba(self, samples: pd.DataFrame):\n",
    "        if \"class\" in samples.columns:  # remove class column from samples if necessary\n",
    "            samples = samples.drop(\"class\", axis=1)  \n",
    "        likelihoods = self._compute_likelihoods(samples)\n",
    "        # self.prior_probs has shape (n_classes) so we need to add an extra dimension to get shape (n_classes, 1)\n",
    "        # numpy can then broadcast the result to the shape of `likelihoods` (which should be (n_classes, n_samples))\n",
    "        proba = np.expand_dims(self.prior_probs, axis=-1) * likelihoods\n",
    "        return proba\n",
    "\n",
    "    def _compute_likelihoods(self, samples: pd.DataFrame):\n",
    "        log_likelihoods = [kde.score_samples(samples) for kde in self.KDEs]\n",
    "        return np.exp(log_likelihoods)"
   ]
  },
  {
   "cell_type": "markdown",
   "id": "b06dd6be",
   "metadata": {},
   "source": [
    "## Naive Bayes\n",
    "\n",
    "Similar to before, but we will have one Kernel Density Estimator for each dimension of the data.\n",
    "- to get the joint probability we can then just take the product of their estimates (independence assumption)"
   ]
  },
  {
   "cell_type": "markdown",
   "id": "c6a6db3d",
   "metadata": {},
   "source": [
    "Let us define two utility functions for evaluating the kernel density estimators\n",
    "- `get_naive_marginal_density_estimators` gives us a list of KDEs, one for each row in the data\n",
    "- `evaluate_kde_rowwise` computes the probability densities for each estimator in each row\n",
    "    - the result has shape (n_samples, n_dimensions)"
   ]
  },
  {
   "cell_type": "code",
   "execution_count": 5,
   "id": "3334eea3",
   "metadata": {},
   "outputs": [],
   "source": [
    "def get_naive_marginal_density_estimators(data: pd.DataFrame):\n",
    "    kde_estimators = []\n",
    "    for col in data:\n",
    "        data_in_col = data[col].to_numpy()\n",
    "        data_in_col = np.expand_dims(data_in_col, axis=-1)\n",
    "        estimator = KernelDensity().fit(data_in_col)\n",
    "        kde_estimators.append(estimator)\n",
    "    return kde_estimators\n",
    "\n",
    "\n",
    "def evaluate_kde_rowwise(samples: pd.DataFrame, estimators: List[KernelDensity]):\n",
    "    assert len(samples.columns) == len(estimators)\n",
    "    likelihoods = []\n",
    "    for col_index, col in enumerate(samples.columns):\n",
    "        data_in_col = samples[col].to_numpy()\n",
    "        data_in_col = np.expand_dims(data_in_col, axis=-1)\n",
    "        log_likelihood = estimators[col_index].score_samples(data_in_col)\n",
    "        likelihood = np.exp(log_likelihood)\n",
    "        likelihoods.append(likelihood)\n",
    "    return np.array(likelihoods).T"
   ]
  },
  {
   "cell_type": "markdown",
   "id": "8f41886e",
   "metadata": {},
   "source": [
    "We can now adapt Bayes to be \"naive\":"
   ]
  },
  {
   "cell_type": "code",
   "execution_count": 6,
   "id": "a7f4fb55",
   "metadata": {},
   "outputs": [],
   "source": [
    "class NaiveBayes:\n",
    "    def __init__(self, additive_smooting=0.0):\n",
    "        self.KDEs: List[List[KernelDensity]] = None  # class -> dimension -> estimator\n",
    "        self.prior_probs: np.ndarray = None\n",
    "        self.additive_smoothing = additive_smooting  # the constant we add to avoid zero probabilities\n",
    "\n",
    "    def fit(self, data: pd.DataFrame):\n",
    "        data.sort_values(by=\"class\")\n",
    "        self.KDEs = [get_naive_marginal_density_estimators(class_data.drop(\"class\", axis=1))  # one estimator per dimension\n",
    "                     for _, class_data in data.groupby(\"class\")]\n",
    "        self.prior_probs = get_prior_probs(data)\n",
    "\n",
    "    def predict(self, samples: pd.DataFrame):\n",
    "        proba = self.predict_proba(samples)\n",
    "        return np.argmax(proba, axis=0)\n",
    "    \n",
    "    def predict_proba(self, samples: pd.DataFrame):\n",
    "        if \"class\" in samples.columns:\n",
    "            samples = samples.drop(\"class\", axis=1)\n",
    "        likelihoods = self._compute_likelihoods(samples)\n",
    "        products = np.expand_dims(self.prior_probs, axis=-1) * likelihoods\n",
    "        return products\n",
    "\n",
    "    def _compute_likelihoods(self, samples: pd.DataFrame):\n",
    "        likelihoods = [\n",
    "            evaluate_kde_rowwise(samples, class_kde_estimators)\n",
    "            for class_kde_estimators in self.KDEs\n",
    "        ]\n",
    "        likelihoods = np.array(likelihoods)\n",
    "        likelihoods += self.additive_smoothing  # Laplace smoothing\n",
    "        likelihoods = np.prod(likelihoods, axis=-1)  # here we apply the \"naive\" independence assumption\n",
    "        return likelihoods"
   ]
  },
  {
   "cell_type": "markdown",
   "id": "6edeeae6",
   "metadata": {},
   "source": [
    "## Evaluation (binary classification)\n",
    "\n",
    "We will use the Wisconsin Breast Cancer Dataset (https://www.openml.org/search?type=data&status=active&id=43611). Our goal is to classify if an observation indicates cancer or not. The dataset has the following features:\n",
    "- Clump Thickness: 1 - 10\n",
    "- Uniformity of Cell Size: 1 - 10 \n",
    "- Uniformity of Cell Shape: 1 - 10 \n",
    "- Marginal Adhesion: 1 - 10 \n",
    "- Single Epithelial Cell Size: 1 - 10 \n",
    "- Bare Nuclei: 1 - 10 \n",
    "- Bland Chromatin: 1 - 10 \n",
    "- Normal Nucleoli: 1 - 10 \n",
    "- Mitoses: 1 - 10\n",
    "- Class: benign or malignant\n",
    "\n",
    "Data loading and preprocessing:"
   ]
  },
  {
   "cell_type": "code",
   "execution_count": 7,
   "id": "3d8c020a",
   "metadata": {},
   "outputs": [
    {
     "name": "stderr",
     "output_type": "stream",
     "text": [
      "Could not download file from http://openml1.win.tue.nl/dataset43611/dataset_43611.pq: Bucket does not exist or is private.\n"
     ]
    }
   ],
   "source": [
    "BREAST_CANCER = 43611\n",
    "data = get_dataset(BREAST_CANCER).get_data()[0]\n",
    "data.dropna(axis=0, inplace=True)\n",
    "if \"id\" in data.columns:\n",
    "    data = data.drop(\"id\", axis=1)\n",
    "data = shuffle_df(data)\n",
    "data.rename({\"Class\": \"class\"}, axis=1, inplace=True)\n",
    "data[\"class\"] = LabelEncoder().fit_transform(data[\"class\"])"
   ]
  },
  {
   "cell_type": "markdown",
   "id": "bd404dec",
   "metadata": {},
   "source": [
    "Let's see if the data is balanced or imbalanced:"
   ]
  },
  {
   "cell_type": "code",
   "execution_count": 8,
   "id": "49601393",
   "metadata": {},
   "outputs": [
    {
     "data": {
      "text/plain": [
       "array([0.65007321, 0.34992679])"
      ]
     },
     "execution_count": 8,
     "metadata": {},
     "output_type": "execute_result"
    }
   ],
   "source": [
    "get_prior_probs(data) "
   ]
  },
  {
   "cell_type": "markdown",
   "id": "cea677bc",
   "metadata": {},
   "source": [
    "Split into test and train"
   ]
  },
  {
   "cell_type": "code",
   "execution_count": 9,
   "id": "a812492f",
   "metadata": {},
   "outputs": [],
   "source": [
    "num_train = int(0.7 * len(data))\n",
    "train, test = data.loc[:num_train], data.loc[num_train:]"
   ]
  },
  {
   "cell_type": "markdown",
   "id": "9ed941b8",
   "metadata": {},
   "source": [
    "Create the algorithms we want to compare"
   ]
  },
  {
   "cell_type": "code",
   "execution_count": 10,
   "id": "75424def",
   "metadata": {},
   "outputs": [],
   "source": [
    "bayes = Bayes()\n",
    "naive_bayes = NaiveBayes()\n",
    "naive_bayes_with_smoothing = NaiveBayes(additive_smooting=0.01)\n",
    "algorithms = {\"Bayes\": bayes, \"Naive Bayes\": naive_bayes, \"Naive Bayes (smoothed)\": naive_bayes_with_smoothing}"
   ]
  },
  {
   "cell_type": "markdown",
   "id": "b3037bf5",
   "metadata": {},
   "source": [
    "Fit each algorithm"
   ]
  },
  {
   "cell_type": "code",
   "execution_count": 11,
   "id": "a30b952d",
   "metadata": {},
   "outputs": [],
   "source": [
    "for algorithm in algorithms.values():\n",
    "    algorithm.fit(train)"
   ]
  },
  {
   "cell_type": "markdown",
   "id": "ff3f7516",
   "metadata": {},
   "source": [
    "Evaluate each algorithm on train and test data"
   ]
  },
  {
   "cell_type": "code",
   "execution_count": 12,
   "id": "49c2e012",
   "metadata": {},
   "outputs": [],
   "source": [
    "eval_datasets = {\"Training data\": train, \"Test data\": test}\n",
    "result_df = []\n",
    "for ds_name, eval_data in eval_datasets.items():\n",
    "    for alg_name, alg in algorithms.items():\n",
    "        majority_vote_agreement = np.sum(test[\"class\"])\n",
    "        if majority_vote_agreement < 0.5 * len(eval_data):\n",
    "            majority_vote_agreement = len(eval_data) - majority_vote_agreement\n",
    "        predictions = alg.predict(samples=eval_data)\n",
    "        correct_predictions = predictions == eval_data[\"class\"]\n",
    "        num_correct = np.sum(correct_predictions)\n",
    "        accuracy = num_correct / len(eval_data)\n",
    "        cohen_kappa_majority = (num_correct - majority_vote_agreement) / (len(eval_data) - majority_vote_agreement)\n",
    "        result_df.append([ds_name, alg_name, accuracy, cohen_kappa_majority])"
   ]
  },
  {
   "cell_type": "markdown",
   "id": "f1e9fb72",
   "metadata": {},
   "source": [
    "Print results"
   ]
  },
  {
   "cell_type": "code",
   "execution_count": 13,
   "id": "809c71c4",
   "metadata": {},
   "outputs": [
    {
     "data": {
      "text/html": [
       "<div>\n",
       "<style scoped>\n",
       "    .dataframe tbody tr th:only-of-type {\n",
       "        vertical-align: middle;\n",
       "    }\n",
       "\n",
       "    .dataframe tbody tr th {\n",
       "        vertical-align: top;\n",
       "    }\n",
       "\n",
       "    .dataframe thead th {\n",
       "        text-align: right;\n",
       "    }\n",
       "</style>\n",
       "<table border=\"1\" class=\"dataframe\">\n",
       "  <thead>\n",
       "    <tr style=\"text-align: right;\">\n",
       "      <th></th>\n",
       "      <th>Dataset</th>\n",
       "      <th>Algorithm</th>\n",
       "      <th>Accuracy</th>\n",
       "      <th>Kappa</th>\n",
       "    </tr>\n",
       "  </thead>\n",
       "  <tbody>\n",
       "    <tr>\n",
       "      <th>0</th>\n",
       "      <td>Training data</td>\n",
       "      <td>Bayes</td>\n",
       "      <td>1.000000</td>\n",
       "      <td>1.000000</td>\n",
       "    </tr>\n",
       "    <tr>\n",
       "      <th>1</th>\n",
       "      <td>Training data</td>\n",
       "      <td>Naive Bayes</td>\n",
       "      <td>0.972860</td>\n",
       "      <td>0.833333</td>\n",
       "    </tr>\n",
       "    <tr>\n",
       "      <th>2</th>\n",
       "      <td>Training data</td>\n",
       "      <td>Naive Bayes (smoothed)</td>\n",
       "      <td>0.970772</td>\n",
       "      <td>0.820513</td>\n",
       "    </tr>\n",
       "    <tr>\n",
       "      <th>3</th>\n",
       "      <td>Test data</td>\n",
       "      <td>Bayes</td>\n",
       "      <td>0.951220</td>\n",
       "      <td>0.871795</td>\n",
       "    </tr>\n",
       "    <tr>\n",
       "      <th>4</th>\n",
       "      <td>Test data</td>\n",
       "      <td>Naive Bayes</td>\n",
       "      <td>0.970732</td>\n",
       "      <td>0.923077</td>\n",
       "    </tr>\n",
       "    <tr>\n",
       "      <th>5</th>\n",
       "      <td>Test data</td>\n",
       "      <td>Naive Bayes (smoothed)</td>\n",
       "      <td>0.965854</td>\n",
       "      <td>0.910256</td>\n",
       "    </tr>\n",
       "  </tbody>\n",
       "</table>\n",
       "</div>"
      ],
      "text/plain": [
       "         Dataset               Algorithm  Accuracy     Kappa\n",
       "0  Training data                   Bayes  1.000000  1.000000\n",
       "1  Training data             Naive Bayes  0.972860  0.833333\n",
       "2  Training data  Naive Bayes (smoothed)  0.970772  0.820513\n",
       "3      Test data                   Bayes  0.951220  0.871795\n",
       "4      Test data             Naive Bayes  0.970732  0.923077\n",
       "5      Test data  Naive Bayes (smoothed)  0.965854  0.910256"
      ]
     },
     "metadata": {},
     "output_type": "display_data"
    },
    {
     "data": {
      "image/png": "[encoded data removed]",
      "text/plain": [
       "<Figure size 432x288 with 1 Axes>"
      ]
     },
     "metadata": {},
     "output_type": "display_data"
    }
   ],
   "source": [
    "result_df = pd.DataFrame(result_df, columns=[\"Dataset\", \"Algorithm\", \"Accuracy\", \"Kappa\"])\n",
    "display(result_df)\n",
    "sns.barplot(data=result_df, x=\"Dataset\", y=\"Accuracy\", hue=\"Algorithm\")\n",
    "plt.ylim((np.min(result_df[\"Accuracy\"]) - 0.01, 1.0))\n",
    "plt.title(\"Comparison of decision tree and random forests\")\n",
    "plt.legend(loc=\"lower left\")\n",
    "plt.tight_layout(pad=.5)\n",
    "plt.show()"
   ]
  },
  {
   "cell_type": "markdown",
   "id": "d1e51c30",
   "metadata": {},
   "source": [
    "## Interpretation\n",
    "\n",
    "- Bayes seem to overfit to training data (probably an artifact of the KDE)\n",
    "- Results are not significant, we would have to repeat the experiment with cross validation and different random_states (--> different train and test sets)\n",
    "\n",
    "## Possible Extensions\n",
    "\n",
    "\n",
    "- implement cross validation\n",
    "- optimize hyperparameters (kernel bandwidth, additive_smoothing)\n",
    "- investigate cost sensitive classification on this data set"
   ]
  },
  {
   "cell_type": "code",
   "execution_count": null,
   "id": "88073c4c",
   "metadata": {},
   "outputs": [],
   "source": []
  }
 ],
 "metadata": {
  "kernelspec": {
   "display_name": "E2_kernel",
   "language": "python",
   "name": "e2_kernel"
  },
  "language_info": {
   "codemirror_mode": {
    "name": "ipython",
    "version": 3
   },
   "file_extension": ".py",
   "mimetype": "text/x-python",
   "name": "python",
   "nbconvert_exporter": "python",
   "pygments_lexer": "ipython3",
   "version": "3.8.10"
  }
 },
 "nbformat": 4,
 "nbformat_minor": 5
}
