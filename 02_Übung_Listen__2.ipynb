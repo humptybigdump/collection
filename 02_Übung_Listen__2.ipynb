{
 "cells": [
  {
   "cell_type": "markdown",
   "metadata": {},
   "source": [
    "# Geodatenanalyse 1\n",
    "\n",
    "## Listen - Übung"
   ]
  },
  {
   "cell_type": "markdown",
   "metadata": {},
   "source": [
    "### Aufgabe 1\n",
    "\n",
    "#### Variablen zuweisen\n",
    "- Du spielst \"Stadt, Land, Fluss\". Wähle einen beliebigen Buchstaben des Alphabets und überlege dir eine Stadt, ein Land und den Namen eines Flusses mit dem entsprechenden Anfangsbuchstaben. Weise jedes deiner drei Ergebnisse einer entsprechenden Variablen zu, wie z.B.: \n",
    "> city = \"Karlsruhe\"\n",
    "\n",
    "- Füge deinem Code einen Kommentar hinzu, der einen Hinweis auf den von dir gewählten Buchstaben enthält."
   ]
  },
  {
   "cell_type": "code",
   "execution_count": null,
   "metadata": {},
   "outputs": [],
   "source": []
  },
  {
   "cell_type": "markdown",
   "metadata": {},
   "source": [
    "#### Liste erstellen und indizieren\n",
    "- Erstelle eine Liste \"*game*\" aus den Stadt-Land-Fluss Variablen.\n",
    "\n",
    "- Gebe das dritte Element deiner Liste aus.\n",
    "\n",
    "- Lass dir die Länge der Liste anzeigen (\"*len()*\")"
   ]
  },
  {
   "cell_type": "code",
   "execution_count": null,
   "metadata": {},
   "outputs": [],
   "source": []
  },
  {
   "cell_type": "markdown",
   "metadata": {},
   "source": [
    "### Aufgabe 2\n",
    "#### Liste verändern\n",
    "- Verwende deine zuvor erstellte Liste und ersetze dein Land mit Hilfe des Listenindex durch den Namen eines anderen Landes.\n",
    "\n",
    "\n",
    "- Füge deiner Liste drei weitere Einträge (Elemente) hinzu. Überlege dir hierfür einen weiteren beliebigen Stadt- und zwei weitere Ländernamen. Eines der drei neuen Elemente sollte dabei als zweites Element in deiner Liste zu finden sein."
   ]
  },
  {
   "cell_type": "code",
   "execution_count": null,
   "metadata": {},
   "outputs": [],
   "source": []
  },
  {
   "cell_type": "markdown",
   "metadata": {},
   "source": [
    "#### Liste kopieren\n",
    "\n",
    "Unsere Liste enthält jetzt zwei Städte, drei Länder und einen Fluss. Für unseren nächsten Bearbeitungsschritte hätten wir gerne eine **neue** Liste *countries*, in der alle ursprünglichen Elemente unserer *game* Liste enthalten sind. Gleichzeitig soll die Liste *game* von zukünftigen Änderungen in *countries* nicht betroffen sein.\n",
    "\n",
    "- Kopiere zunächst die *game* Liste und erstelle die Liste *countries*. Schaue dir hierzu folgende Funktion an:\n",
    "> copy()"
   ]
  },
  {
   "cell_type": "markdown",
   "metadata": {},
   "source": [
    "#### Einträge löschen\n",
    "In unserer neuen *countries* Liste interessieren wir uns vor allem für die Ländereinträge, denn wir möchten diese später nutzen um weitere länderspezifische Informationen zu speichern und zu sammeln. Dazu müssen wir die *countries* Liste aber zunächst von den Fluss- und Städteeinträgen bereinigen.\n",
    "\n",
    "- Entferne den Flusseintrag, mit Hilfe der ursprünglichen *river* Variable aus der neuen Liste.\n",
    "\n",
    "Für die Städtenamen haben wir eventuell später noch Verwendung. Deshalb entfernen wir sie aus *countries* und fügen sie einer neuen Liste *cities* hinzu.\n",
    "\n",
    "- Erstelle eine neue, leere Liste mit dem Namen *cities*\n",
    "\n",
    "- Entferne die Städte nacheinander aus deiner Liste. Aber stelle sicher, dass gleichzeitig die jeweiligen Städtenamen zur neuen Liste *cities* hinzugefügt werden.\n",
    "\n",
    "#### Hinweis\n",
    "\n",
    "Du kannst Funktionen auch kombinieren:\\\n",
    "```list1.append(list2.pop())```"
   ]
  },
  {
   "cell_type": "code",
   "execution_count": null,
   "metadata": {},
   "outputs": [],
   "source": []
  },
  {
   "cell_type": "markdown",
   "metadata": {},
   "source": [
    "#### Liste aus Listen erstellen\n",
    "Recherchiere Fläche- und Einwohnerzahl der Länder in deiner Liste *countries*, damit wir diese als zusätzliche Information hinzufügen können.\n",
    "\n",
    "- Weise die Werte jeweils einer eigenen, sinnvollen Variablen zu. Zum Beispiel:\n",
    "\n",
    "```\n",
    "#Flächen\n",
    "IT_area = \n",
    "...\n",
    "# Bevölkerung\n",
    "IT_pop =\n",
    "...\n",
    "```\n",
    "\n",
    "- Füge die Variablen dann dem entsprechenden Ländereintrag in deiner Liste *countries* hinzu, so dass du drei Listen innerhalb deiner ursprünglichen Liste erhälst:\n",
    "\n",
    "```\n",
    "countries = [[\"Italien\",IT_area,IT_pop],[...],[...]]\n",
    "```\n",
    "\n",
    "- Schaue dir den Datentype von *countries* an. \n",
    "\n",
    "\n",
    "- Du siehst, wir befinden uns immer noch in einer Liste. Wir können also weiterhin indizieren, um gewünschte Elemente aus unserer Liste abfragen. Der einzige Unterschied ist, dass jedes unserer Elemente in *countries* jetzt drei Unterelemente in einer neuen Liste enthält.\n",
    "\n",
    "    Was also, wenn uns zum Beispiel nur die Fläche des zweiten Landes in unserer Liste interessiert? Probiere es aus:\n",
    "\n",
    "> countries[1][1]\n",
    "\n",
    "- Gebe mit Hilfe des Index für jedes Land in deiner *countries* Liste eine individuelle Nachricht mit dem gleichen Text aus. Weise dabei auf die jeweilige Fläche und Bevölkerungszahl hin. Deine Nachricht könnte zum Beispiel wie folgt aussehen:\n",
    "> \"In Italien leben laut aktueller Zählung 60.026.546 Menschen auf einer Fläche von 301.338 km<sup>2</sup>\\.\""
   ]
  },
  {
   "cell_type": "code",
   "execution_count": null,
   "metadata": {},
   "outputs": [],
   "source": []
  },
  {
   "cell_type": "markdown",
   "metadata": {},
   "source": [
    "### Aufgabe 3\n",
    "#### Schleifen\n",
    "In Aufgabe 3.3 mussten wir für jede Nachricht eine gesonderte *print* Operation schreiben. Eleganter lässt sich dies mit einer Schleife lösen.\n",
    "\n",
    "- Gebe die gleiche individuelle Nachricht für jedes Land in deiner \"countries\" Liste noch einmal aus, aber verwende dieses Mal eine Schleife.\n",
    "> for country in countries: \n",
    "       ...\n",
    "\n",
    "- Uns interessiert außerdem die Bevölkerungsdichte in jedem Land. Rechne und gebe diese ebenfalls über die Schleife aus.\n"
   ]
  },
  {
   "cell_type": "code",
   "execution_count": null,
   "metadata": {},
   "outputs": [],
   "source": []
  },
  {
   "cell_type": "markdown",
   "metadata": {},
   "source": [
    "### Aufgabe 4\n",
    "#### Numerische Listen\n",
    "Verwende die range() Funktion zum Erstellen numerischer Listen.\n",
    "\n",
    "- **Liste 1:** Ganze Zahlen von 0 - 100\n",
    "- **Liste 2:** Nur die geraden Zahlen von 0 - 100\n",
    "- **Liste 3:** Gerade Zahlen von 100 - 0"
   ]
  },
  {
   "cell_type": "code",
   "execution_count": null,
   "metadata": {},
   "outputs": [],
   "source": []
  },
  {
   "cell_type": "markdown",
   "metadata": {},
   "source": [
    "#### Slicing\n",
    "- Gebe die ersten 30 Werte der Liste 1 aus.\n",
    "\n",
    "- Gebe die letzten 30 Werte der Liste 1 aus.\n",
    "\n",
    "- Gebe die Werte von 30 bis 50 der Liste 1 aus.\n",
    "\n",
    "- Gebe die kleinsten 10 Werte der Liste 3 aus."
   ]
  },
  {
   "cell_type": "code",
   "execution_count": null,
   "metadata": {},
   "outputs": [],
   "source": []
  },
  {
   "cell_type": "markdown",
   "metadata": {},
   "source": [
    "#### Hinweis\n",
    "Eine weitere Möglichkeit eine sogenannte *shallow copy* einer Liste wie bei der *copy()* Methode zu erzeugen, ist der *slicing* Syntax:\n",
    "> new_list = list[:]"
   ]
  },
  {
   "cell_type": "markdown",
   "metadata": {},
   "source": [
    "### Aufgabe 5\n",
    "#### Daten zu einer Person\n",
    "- Erstelle ein Dictionary mit Informationen über einen Freund oder Freundin. Speichere darin den Vornamen, Nachnamen und Alter der Person. Gebe jede dieser Informationen einzeln aus. \n",
    "- Füge den Wohnort als weitere Information hinzu."
   ]
  },
  {
   "cell_type": "code",
   "execution_count": null,
   "metadata": {},
   "outputs": [],
   "source": []
  },
  {
   "cell_type": "code",
   "execution_count": null,
   "metadata": {},
   "outputs": [],
   "source": []
  },
  {
   "cell_type": "markdown",
   "metadata": {},
   "source": [
    "## ENDE"
   ]
  }
 ],
 "metadata": {
  "kernelspec": {
   "display_name": "Python 3.8.8 ('base')",
   "language": "python",
   "name": "python3"
  },
  "language_info": {
   "codemirror_mode": {
    "name": "ipython",
    "version": 3
   },
   "file_extension": ".py",
   "mimetype": "text/x-python",
   "name": "python",
   "nbconvert_exporter": "python",
   "pygments_lexer": "ipython3",
   "version": "3.8.8"
  },
  "toc": {
   "base_numbering": 1,
   "nav_menu": {},
   "number_sections": true,
   "sideBar": true,
   "skip_h1_title": false,
   "title_cell": "Table of Contents",
   "title_sidebar": "Contents",
   "toc_cell": false,
   "toc_position": {},
   "toc_section_display": true,
   "toc_window_display": false
  },
  "vscode": {
   "interpreter": {
    "hash": "e4cce46d6be9934fbd27f9ca0432556941ea5bdf741d4f4d64c6cd7f8dfa8fba"
   }
  }
 },
 "nbformat": 4,
 "nbformat_minor": 4
}
