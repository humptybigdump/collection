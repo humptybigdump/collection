{
 "cells": [
  {
   "cell_type": "markdown",
   "metadata": {},
   "source": [
    "<img src=\"kit_logo.jpg\" width=\"200\" height=\"200\" align=\"right\"/>\n",
    "\n",
    "##### Lehrstuhl für Analytics and Statistics (IOR)\n",
    "##### Prof. Dr. Oliver Grothe\n",
    "##### SS 2020"
   ]
  },
  {
   "cell_type": "markdown",
   "metadata": {},
   "source": [
    "# Multivariate Verfahren\n",
    "## Übung 5"
   ]
  },
  {
   "cell_type": "markdown",
   "metadata": {},
   "source": [
    "### Aufgabe 5"
   ]
  },
  {
   "cell_type": "markdown",
   "metadata": {},
   "source": [
    "Laden Sie aus Ilias den Datensatz *`staedte.csv`* Dieser enthält die Daten Ihres Rankings.\n",
    "Führen Sie eine nicht-metrische Multidimensionale Skalierung durch."
   ]
  },
  {
   "cell_type": "markdown",
   "metadata": {},
   "source": [
    "#### Datenvorbereitung"
   ]
  },
  {
   "cell_type": "markdown",
   "metadata": {},
   "source": [
    "- Daten einlesen:"
   ]
  },
  {
   "cell_type": "code",
   "execution_count": 1,
   "metadata": {},
   "outputs": [
    {
     "data": {
      "text/plain": [
       "array([[ 0, 45, 17, 44, 42, 32, 31, 27, 25, 11],\n",
       "       [45,  0, 34, 14, 12, 21, 35, 37, 25, 39],\n",
       "       [17, 34,  0, 30, 18,  5,  4, 22,  9,  7],\n",
       "       [44, 14, 30,  0,  1, 15, 24, 43, 38, 41],\n",
       "       [42, 12, 18,  1,  0,  2, 13, 40, 28, 33],\n",
       "       [32, 21,  5, 15,  2,  0, 10, 29, 16, 19],\n",
       "       [31, 35,  4, 24, 13, 10,  0, 36, 23, 20],\n",
       "       [27, 37, 22, 43, 40, 29, 36,  0,  3,  8],\n",
       "       [25, 25,  9, 38, 28, 16, 23,  3,  0,  6],\n",
       "       [11, 39,  7, 41, 33, 19, 20,  8,  6,  0]], dtype=int64)"
      ]
     },
     "execution_count": 1,
     "metadata": {},
     "output_type": "execute_result"
    }
   ],
   "source": [
    "import numpy as np\n",
    "import pandas as pd\n",
    "import matplotlib.pyplot as plt\n",
    "df = pd.read_csv(\"./staedte.csv\",sep=',',header=None)\n",
    "U = pd.DataFrame.to_numpy(df)\n",
    "U # n-by-n dissimilarity matrix U"
   ]
  },
  {
   "cell_type": "markdown",
   "metadata": {},
   "source": [
    "*U : Unähnlichkeitsdaten*\n",
    "\n",
    "*$u_{ij}=1$ für ähnlichstes Paar $(i,j)$*,\n",
    "\n",
    "*$u_{ij}=45$ für unähnlichstes Paar $(i,j)$*."
   ]
  },
  {
   "cell_type": "markdown",
   "metadata": {},
   "source": [
    "#### Nicht-Metrische Multidimensionale Skalierung"
   ]
  },
  {
   "cell_type": "markdown",
   "metadata": {},
   "source": [
    "- Define a function *cmdscale* for classical MDS to get Startconfiguration for non-metrical MDS"
   ]
  },
  {
   "cell_type": "code",
   "execution_count": 2,
   "metadata": {},
   "outputs": [],
   "source": [
    "def cmdscale(D):\n",
    "    \"\"\"                                                                                       \n",
    "    Classical multidimensional scaling (MDS)                                                  \n",
    "                                                                                               \n",
    "    Parameters                                                                                \n",
    "    ----------                                                                                \n",
    "    D : (n, n) array                                                                          \n",
    "        Symmetric distance matrix.                                                            \n",
    "                                                                                               \n",
    "    Returns                                                                                   \n",
    "    -------                                                                                   \n",
    "    Y : (n, p) array                                                                          \n",
    "        Configuration matrix. Each column represents a dimension. Only the                    \n",
    "        p dimensions corresponding to positive eigenvalues of B are returned.                 \n",
    "        Note that each dimension is only determined up to an overall sign,                    \n",
    "        corresponding to a reflection.                                                        \n",
    "                                                                                               \n",
    "    e : (n,) array                                                                            \n",
    "        Eigenvalues of B.                                                                     \n",
    "                                                                                               \n",
    "    \"\"\"\n",
    "    # Number of points                                                                        \n",
    "    n = len(D)\n",
    " \n",
    "    # Centering matrix                                                                        \n",
    "    H = np.eye(n) - np.ones((n, n))/n\n",
    " \n",
    "    # YY^T                                                                                    \n",
    "    B = -H.dot(D**2).dot(H)/2\n",
    " \n",
    "    # Decomposition                                                                             \n",
    "    evals, evecs = np.linalg.eigh(B)\n",
    " \n",
    "    # Sort by eigenvalue in descending order                                                  \n",
    "    idx   = np.argsort(evals)[::-1]\n",
    "    evals = evals[idx]\n",
    "    evecs = evecs[:,idx]\n",
    " \n",
    "    # Compute the coordinates using positive-eigenvalued components only                      \n",
    "    w, = np.where(evals > 0)\n",
    "    L  = np.diag(np.sqrt(evals[w]))\n",
    "    V  = evecs[:,w]\n",
    "    Y  = V.dot(L)\n",
    " \n",
    "    return Y, evals"
   ]
  },
  {
   "cell_type": "markdown",
   "metadata": {},
   "source": [
    "- Berechnung der Konfiguration $Y_0$ als Ausgangskonfiguration für non-classical MDS "
   ]
  },
  {
   "cell_type": "code",
   "execution_count": 3,
   "metadata": {},
   "outputs": [
    {
     "data": {
      "text/plain": [
       "array([[-20.50336672,   6.61718153],\n",
       "       [ 18.87044902, -15.67610058],\n",
       "       [ -6.16203912,   7.711578  ],\n",
       "       [ 23.49977549,   1.80337848],\n",
       "       [ 18.61759952,   3.48589364],\n",
       "       [  6.74067193,   2.52497343],\n",
       "       [  3.40726491,  14.87406087],\n",
       "       [-17.67561534, -14.03755061],\n",
       "       [ -9.52744842,  -9.07018123],\n",
       "       [-17.26729128,   1.76676646]])"
      ]
     },
     "execution_count": 3,
     "metadata": {},
     "output_type": "execute_result"
    }
   ],
   "source": [
    "init_D,_ = cmdscale(U)\n",
    "Y_0 = init_D[:,:2]\n",
    "Y_0"
   ]
  },
  {
   "cell_type": "markdown",
   "metadata": {},
   "source": [
    "- Non-metric MDS Model festlegen und anpassen"
   ]
  },
  {
   "cell_type": "code",
   "execution_count": 4,
   "metadata": {},
   "outputs": [
    {
     "name": "stderr",
     "output_type": "stream",
     "text": [
      "C:\\Users\\Zhu\\AppData\\Roaming\\Python\\Python37\\site-packages\\sklearn\\manifold\\mds.py:243: UserWarning: Explicit initial positions passed: performing only one init of the MDS instead of 4\n",
      "  % n_init)\n"
     ]
    },
    {
     "data": {
      "text/plain": [
       "MDS(dissimilarity='precomputed', eps=0.001, max_iter=300, metric=False,\n",
       "  n_components=2, n_init=4, n_jobs=None, random_state=None, verbose=0)"
      ]
     },
     "execution_count": 4,
     "metadata": {},
     "output_type": "execute_result"
    }
   ],
   "source": [
    "# non-metric Multidimensional scaling with Pre-computed dissimilarities U and the Initialized configuration of points Y_0\n",
    "from sklearn.manifold import MDS\n",
    "nmds = MDS(n_components=2, metric=False,dissimilarity ='precomputed')\n",
    "#nmds.fit(U)\n",
    "nmds.fit(U,init=Y_0)"
   ]
  },
  {
   "cell_type": "markdown",
   "metadata": {},
   "source": [
    "- Ausgabe Rohstress "
   ]
  },
  {
   "cell_type": "code",
   "execution_count": 5,
   "metadata": {},
   "outputs": [
    {
     "data": {
      "text/plain": [
       "0.010452887904892658"
      ]
     },
     "execution_count": 5,
     "metadata": {},
     "output_type": "execute_result"
    }
   ],
   "source": [
    "raw_stress=nmds.stress_\n",
    "raw_stress"
   ]
  },
  {
   "cell_type": "markdown",
   "metadata": {},
   "source": [
    "- Ausgabe Konfiguration $Y$ \n",
    "\n",
    "*Konfiguration: Die Menge der Objekte und ihrer relativen Positionen zueinander*"
   ]
  },
  {
   "cell_type": "code",
   "execution_count": 6,
   "metadata": {},
   "outputs": [
    {
     "name": "stdout",
     "output_type": "stream",
     "text": [
      "Konfiguration Y:  \n",
      " [[-0.62607974  0.27076095]\n",
      " [ 0.46735367 -0.40773996]\n",
      " [-0.11648451  0.14763533]\n",
      " [ 0.64124042  0.0412294 ]\n",
      " [ 0.44783739  0.07829862]\n",
      " [ 0.1759683   0.04294124]\n",
      " [ 0.08539866  0.35026765]\n",
      " [-0.44287095 -0.33690715]\n",
      " [-0.22628339 -0.23002588]\n",
      " [-0.42113826  0.04280033]]\n"
     ]
    }
   ],
   "source": [
    "Y=nmds.embedding_ # Y:  a configuration of n points (rows) in 2 dimensions (columns)\n",
    "print('Konfiguration Y: ','\\n', Y)"
   ]
  },
  {
   "cell_type": "markdown",
   "metadata": {},
   "source": [
    "- Plot der Konfiguration im Wahrnehmungsraum"
   ]
  },
  {
   "cell_type": "code",
   "execution_count": 7,
   "metadata": {},
   "outputs": [
    {
     "data": {
      "image/png": "[encoded data removed]",
      "text/plain": [
       "<Figure size 864x864 with 1 Axes>"
      ]
     },
     "metadata": {
      "needs_background": "light"
     },
     "output_type": "display_data"
    }
   ],
   "source": [
    "cities = ['Basel','Berlin','Frankfurt','Hamburg','Hannover','Kassel','Köln','München','Nürnberg','Stuttgart']\n",
    "coords = nmds.embedding_\n",
    "\n",
    "fig = plt.figure(figsize=(12,12))\n",
    "\n",
    "plt.subplots_adjust(bottom = 0.1)\n",
    "plt.scatter(coords[:, 0], coords[:, 1])\n",
    "\n",
    "for label, x, y in zip(cities, coords[:, 0], coords[:, 1]):\n",
    "    plt.annotate(\n",
    "        label,\n",
    "        xy = (x, y), \n",
    "        xytext = (-20, 20),\n",
    "        textcoords = 'offset points'\n",
    "    )\n",
    "plt.show()"
   ]
  },
  {
   "cell_type": "markdown",
   "metadata": {},
   "source": [
    "### Exkurs (customized Class MDSNew)\n",
    "####  mit Disparitäten und $STRESS_1$ für quantitativen Unähnlichkeiten"
   ]
  },
  {
   "cell_type": "code",
   "execution_count": 8,
   "metadata": {},
   "outputs": [],
   "source": [
    "def _smacof_single(dissimilarities, metric=True, n_components=2, init=None,\n",
    "                   max_iter=300, verbose=0, eps=1e-3, random_state=None,\n",
    "                   normalize=False):\n",
    "    \"\"\"Computes multidimensional scaling using SMACOF algorithm\n",
    "    Parameters\n",
    "    ----------\n",
    "    dissimilarities : ndarray, shape (n_samples, n_samples)\n",
    "        Pairwise dissimilarities between the points. Must be symmetric.\n",
    "    metric : boolean, optional, default: True\n",
    "        Compute metric or nonmetric SMACOF algorithm.\n",
    "    n_components : int, optional, default: 2\n",
    "        Number of dimensions in which to immerse the dissimilarities. If an\n",
    "        ``init`` array is provided, this option is overridden and the shape of\n",
    "        ``init`` is used to determine the dimensionality of the embedding\n",
    "        space.\n",
    "    init : ndarray, shape (n_samples, n_components), optional, default: None\n",
    "        Starting configuration of the embedding to initialize the algorithm. By\n",
    "        default, the algorithm is initialized with a randomly chosen array.\n",
    "    max_iter : int, optional, default: 300\n",
    "        Maximum number of iterations of the SMACOF algorithm for a single run.\n",
    "    verbose : int, optional, default: 0\n",
    "        Level of verbosity.\n",
    "    eps : float, optional, default: 1e-3\n",
    "        Relative tolerance with respect to stress at which to declare\n",
    "        convergence.\n",
    "    random_state : int, RandomState instance or None, optional, default: None\n",
    "        The generator used to initialize the centers.  If int, random_state is\n",
    "        the seed used by the random number generator; If RandomState instance,\n",
    "        random_state is the random number generator; If None, the random number\n",
    "        generator is the RandomState instance used by `np.random`.\n",
    "    normalize : boolean, optional, default: False\n",
    "        Whether use and return normed stress value (Stress_1) instead of raw\n",
    "        stress calculated by default.\n",
    "    Returns\n",
    "    -------\n",
    "    X : ndarray, shape (n_samples, n_components)\n",
    "        Coordinates of the points in a ``n_components``-space.\n",
    "    stress : float\n",
    "        The value of the stress. By default, sum of squared distance\n",
    "        of the disparities and the distances for all constrained points.\n",
    "        If normalize is set to True, returns Stress-1 (according to\n",
    "        Kruskal (1964, p. 3) value 0 indicates \"perfect\" fit, 0.025\n",
    "        excellent, 0.05 good, 0.1 fair, and 0.2 poor).\n",
    "    disp : array-like, shape (n_samples,n_samples)\n",
    "        The current values of the disparities.\n",
    "    distance : array-like, shape (n_samples*n_samples)\n",
    "        The current values of the euclidean distances.\n",
    "    it : int\n",
    "        The current number of iterations corresponding to the stress.\n",
    "    \"\"\"\n",
    "    dissimilarities = check_symmetric(dissimilarities, raise_exception=True)\n",
    "\n",
    "    n_samples = dissimilarities.shape[0]\n",
    "    random_state = check_random_state(random_state)\n",
    "\n",
    "    sim_flat = ((1 - np.tri(n_samples)) * dissimilarities).ravel()\n",
    "    sim_flat_w = sim_flat[sim_flat != 0]\n",
    "    #sigsq = np.mean(dissimilarities**2)/(2*n_components)\n",
    "    #np.sqrt(sigsq)\n",
    "    if init is None:\n",
    "        # Randomly choose initial configuration\n",
    "        X = random_state.rand(n_samples , n_components)\n",
    "        X = X.reshape((n_samples, n_components))\n",
    "        \n",
    "    else:\n",
    "        # overrides the parameter p\n",
    "        n_components = init.shape[1]\n",
    "        if n_samples != init.shape[0]:\n",
    "            raise ValueError(\"init matrix should be of shape (%d, %d)\" %\n",
    "                             (n_samples, n_components))\n",
    "        X = init\n",
    "\n",
    "    old_stress = None\n",
    "    ir = IsotonicRegression()\n",
    "    for it in range(max_iter):\n",
    "        # Compute distance and monotonic regression\n",
    "        dis = euclidean_distances(X)\n",
    "\n",
    "        if metric:\n",
    "            disparities = dissimilarities\n",
    "        else:\n",
    "            dis_flat = dis.ravel()\n",
    "            # dissimilarities with 0 are considered as missing values\n",
    "            dis_flat_w = dis_flat[sim_flat != 0]\n",
    "\n",
    "            # Compute the disparities using a monotonic regression\n",
    "            disparities_flat = ir.fit_transform(sim_flat_w, dis_flat_w)\n",
    "            disparities = dis_flat.copy()\n",
    "            \n",
    "            disparities[sim_flat != 0] = disparities_flat\n",
    "            disparities = disparities.reshape((n_samples, n_samples))\n",
    "            disparities *= np.sqrt((n_samples * (n_samples - 1) / 2) /\n",
    "                                   (disparities ** 2).sum())\n",
    "        # Deliver the actual disparities\n",
    "        disp=disparities.ravel()\n",
    "            \n",
    "        # Compute Raw-Stress\n",
    "        stress = ((dis.ravel() - disparities.ravel()) ** 2).sum() / 2\n",
    "        \n",
    "        # Deliver distance matrix for Stress_1    \n",
    "        distance = dis.ravel()\n",
    "        \n",
    "        # Update X using the Guttman transform\n",
    "        dis[dis == 0] = 1e-5\n",
    "        ratio = disparities / dis\n",
    "        B = - ratio\n",
    "        B[np.arange(len(B)), np.arange(len(B))] += ratio.sum(axis=1)\n",
    "        X = 1. / n_samples * np.dot(B, X)\n",
    "\n",
    "        dis = np.sqrt((X ** 2).sum(axis=1)).sum()\n",
    "        if verbose >= 2:\n",
    "            print('it: %d, stress %s' % (it, stress))\n",
    "        if old_stress is not None:\n",
    "            if(old_stress - stress / dis) < eps:\n",
    "                if verbose:\n",
    "                    print('breaking at iteration %d with stress %s' % (it,\n",
    "                                                                       stress))\n",
    "                break\n",
    "        old_stress = stress / dis\n",
    "\n",
    "    return X, stress, disp, distance, it + 1"
   ]
  },
  {
   "cell_type": "code",
   "execution_count": 9,
   "metadata": {},
   "outputs": [],
   "source": [
    "def smacof(dissimilarities, metric=True, n_components=2, init=None, n_init=8,\n",
    "           n_jobs=1, max_iter=300, verbose=0, eps=1e-3, random_state=None,\n",
    "           return_n_iter=False, normalize=False):\n",
    "    \"\"\"Computes multidimensional scaling using the SMACOF algorithm.\n",
    "    The SMACOF (Scaling by MAjorizing a COmplicated Function) algorithm is a\n",
    "    multidimensional scaling algorithm which minimizes an objective function\n",
    "    (the *stress*) using a majorization technique. Stress majorization, also\n",
    "    known as the Guttman Transform, guarantees a monotone convergence of\n",
    "    stress, and is more powerful than traditional techniques such as gradient\n",
    "    descent.\n",
    "    The SMACOF algorithm for metric MDS can summarized by the following steps:\n",
    "    1. Set an initial start configuration, randomly or not.\n",
    "    2. Compute the stress\n",
    "    3. Compute the Guttman Transform\n",
    "    4. Iterate 2 and 3 until convergence.\n",
    "    The nonmetric algorithm adds a monotonic regression step before computing\n",
    "    the stress.\n",
    "    Parameters\n",
    "    ----------\n",
    "    dissimilarities : ndarray, shape (n_samples, n_samples)\n",
    "        Pairwise dissimilarities between the points. Must be symmetric.\n",
    "    metric : boolean, optional, default: True\n",
    "        Compute metric or nonmetric SMACOF algorithm.\n",
    "    n_components : int, optional, default: 2\n",
    "        Number of dimensions in which to immerse the dissimilarities. If an\n",
    "        ``init`` array is provided, this option is overridden and the shape of\n",
    "        ``init`` is used to determine the dimensionality of the embedding\n",
    "        space.\n",
    "    init : ndarray, shape (n_samples, n_components), optional, default: None\n",
    "        Starting configuration of the embedding to initialize the algorithm. By\n",
    "        default, the algorithm is initialized with a randomly chosen array.\n",
    "    n_init : int, optional, default: 8\n",
    "        Number of times the SMACOF algorithm will be run with different\n",
    "        initializations. The final results will be the best output of the runs,\n",
    "        determined by the run with the smallest final stress. If ``init`` is\n",
    "        provided, this option is overridden and a single run is performed.\n",
    "    n_jobs : int, optional, default: 1\n",
    "        The number of jobs to use for the computation. If multiple\n",
    "        initializations are used (``n_init``), each run of the algorithm is\n",
    "        computed in parallel.\n",
    "        If -1 all CPUs are used. If 1 is given, no parallel computing code is\n",
    "        used at all, which is useful for debugging. For ``n_jobs`` below -1,\n",
    "        (``n_cpus + 1 + n_jobs``) are used. Thus for ``n_jobs = -2``, all CPUs\n",
    "        but one are used.\n",
    "    max_iter : int, optional, default: 300\n",
    "        Maximum number of iterations of the SMACOF algorithm for a single run.\n",
    "    verbose : int, optional, default: 0\n",
    "        Level of verbosity.\n",
    "    eps : float, optional, default: 1e-3\n",
    "        Relative tolerance with respect to stress at which to declare\n",
    "        convergence.\n",
    "    random_state : int, RandomState instance or None, optional, default: None\n",
    "        The generator used to initialize the centers.  If int, random_state is\n",
    "        the seed used by the random number generator; If RandomState instance,\n",
    "        random_state is the random number generator; If None, the random number\n",
    "        generator is the RandomState instance used by `np.random`.\n",
    "    return_n_iter : bool, optional, default: False\n",
    "        Whether or not to return the number of iterations.\n",
    "    normalize : boolean, optional, default: False\n",
    "        Whether use and return normed stress value (Stress-1) instead of raw\n",
    "        stress calculated by default.\n",
    "    Returns\n",
    "    -------\n",
    "    best_pos : ndarray, shape (n_samples, n_components)\n",
    "        Coordinates of the points in a ``n_components``-space.\n",
    "    best_stress : float\n",
    "        The final value of the stress. By default, sum of squared distance\n",
    "        of the disparities and the distances for all constrained points.\n",
    "        If normalize is set to True, returns Stress_1 (according to\n",
    "        Kruskal (1964, p. 3) value 0 indicates \"perfect\" fit, 0.025\n",
    "        excellent, 0.05 good, 0.1 fair, and 0.2 poor).\n",
    "    best_disp : array-like, shape (n_samples,n_samples)\n",
    "        The final values of the disparities.\n",
    "    best_dism : array-like, shape (n_samples,n_samples)\n",
    "        The final values of the euclidean distances.\n",
    "    n_iter : int\n",
    "        The number of iterations corresponding to the best stress. Returned\n",
    "        only if ``return_n_iter`` is set to ``True``.\n",
    "    Notes\n",
    "    -----\n",
    "    \"Modern Multidimensional Scaling - Theory and Applications\" Borg, I.;\n",
    "    Groenen P. Springer Series in Statistics (1997)\n",
    "    \"Nonmetric multidimensional scaling: a numerical method\" Kruskal, J.\n",
    "    Psychometrika, 29 (1964)\n",
    "    \"Multidimensional scaling by optimizing goodness of fit to a nonmetric\n",
    "    hypothesis\" Kruskal, J. Psychometrika, 29, (1964)\n",
    "    \"\"\"\n",
    "\n",
    "    dissimilarities = check_array(dissimilarities)\n",
    "    n_samples = dissimilarities.shape[0]\n",
    "    random_state = check_random_state(random_state)\n",
    "\n",
    "    if hasattr(init, '__array__'):\n",
    "        init = np.asarray(init).copy()\n",
    "        if not n_init == 1:\n",
    "            warnings.warn(\n",
    "                'Explicit initial positions passed: '\n",
    "                'performing only one init of the MDS instead of %d'\n",
    "                % n_init)\n",
    "            n_init = 1\n",
    "\n",
    "    best_pos, best_stress = None, None\n",
    "\n",
    "    if n_jobs == 1:\n",
    "        for it in range(n_init):\n",
    "            pos, stress, disparities,dis,n_iter_ = _smacof_single(\n",
    "                dissimilarities, metric=metric,\n",
    "                n_components=n_components, init=init,\n",
    "                max_iter=max_iter, verbose=verbose,\n",
    "                eps=eps, random_state=random_state,\n",
    "                normalize=normalize)\n",
    "            if best_stress is None or stress < best_stress:\n",
    "                best_stress = stress\n",
    "                best_disp=disparities.reshape((n_samples, n_samples))\n",
    "                best_pos = pos.copy()\n",
    "                best_iter = n_iter_\n",
    "                best_dis=dis\n",
    "\n",
    "    else:\n",
    "        seeds = random_state.randint(np.iinfo(np.int32).max, size=n_init)\n",
    "        results = Parallel(n_jobs=n_jobs, verbose=max(verbose - 1, 0))(\n",
    "            delayed(_smacof_single)(\n",
    "                dissimilarities, metric=metric, n_components=n_components,\n",
    "                init=init, max_iter=max_iter, verbose=verbose, eps=eps,\n",
    "                random_state=seed, normalize=normalize)\n",
    "            for seed in seeds)\n",
    "        positions, stress,disparities,dis, n_iters = zip(*results)\n",
    "        best = np.argmin(stress)\n",
    "        best_stress = stress[best]\n",
    "        best_pos = positions[best]\n",
    "        best_iter = n_iters[best]\n",
    "        best_disp=disparities[best].reshape((n_samples, n_samples))\n",
    "        best_dis=dis[best]\n",
    "    \n",
    "    best_dism=best_dis.reshape((n_samples, n_samples))\n",
    "    \n",
    "    # Use Stress-1\n",
    "    if normalize:\n",
    "        best_stress = np.sqrt(best_stress / ((best_dis ** 2).sum() ))\n",
    "    if return_n_iter:\n",
    "        return best_pos, best_stress,best_disp,best_dism,best_iter\n",
    "    else:\n",
    "        return best_pos, best_stress,best_disp,best_dism"
   ]
  },
  {
   "cell_type": "code",
   "execution_count": 10,
   "metadata": {},
   "outputs": [],
   "source": [
    "import numpy as np\n",
    "\n",
    "import warnings\n",
    "\n",
    "from sklearn.base import BaseEstimator\n",
    "from sklearn.metrics import euclidean_distances\n",
    "from sklearn.utils import check_random_state, check_array, check_symmetric\n",
    "from sklearn.externals.joblib import Parallel\n",
    "from sklearn.externals.joblib import delayed\n",
    "from sklearn.isotonic import IsotonicRegression\n"
   ]
  },
  {
   "cell_type": "code",
   "execution_count": 11,
   "metadata": {},
   "outputs": [],
   "source": [
    "class MDSNew(MDS):   \n",
    "    \"\"\"custom Multidimensional scaling which return Stress_1 and disparities \n",
    "    as well. Read more in the :ref:`User Guide <multidimensional_scaling>`.\n",
    "    Parameters\n",
    "    ----------\n",
    "    n_components : int, optional, default: 2\n",
    "        Number of dimensions in which to immerse the dissimilarities.\n",
    "    metric : boolean, optional, default: True\n",
    "        If ``True``, perform metric MDS; otherwise, perform nonmetric MDS.\n",
    "    n_init : int, optional, default: 4\n",
    "        Number of times the SMACOF algorithm will be run with different\n",
    "        initializations. The final results will be the best output of the runs,\n",
    "        determined by the run with the smallest final stress.\n",
    "    max_iter : int, optional, default: 300\n",
    "        Maximum number of iterations of the SMACOF algorithm for a single run.\n",
    "    verbose : int, optional, default: 0\n",
    "        Level of verbosity.\n",
    "    eps : float, optional, default: 1e-3\n",
    "        Relative tolerance with respect to stress at which to declare\n",
    "        convergence.\n",
    "    n_jobs : int, optional, default: 1\n",
    "        The number of jobs to use for the computation. If multiple\n",
    "        initializations are used (``n_init``), each run of the algorithm is\n",
    "        computed in parallel.\n",
    "        If -1 all CPUs are used. If 1 is given, no parallel computing code is\n",
    "        used at all, which is useful for debugging. For ``n_jobs`` below -1,\n",
    "        (``n_cpus + 1 + n_jobs``) are used. Thus for ``n_jobs = -2``, all CPUs\n",
    "        but one are used.\n",
    "    random_state : int, RandomState instance or None, optional, default: None\n",
    "        The generator used to initialize the centers.  If int, random_state is\n",
    "        the seed used by the random number generator; If RandomState instance,\n",
    "        random_state is the random number generator; If None, the random number\n",
    "        generator is the RandomState instance used by `np.random`.\n",
    "    dissimilarity : 'euclidean' | 'precomputed', optional, default: 'euclidean'\n",
    "        Dissimilarity measure to use:\n",
    "        - 'euclidean':\n",
    "            Pairwise Euclidean distances between points in the dataset.\n",
    "        - 'precomputed':\n",
    "            Pre-computed dissimilarities are passed directly to ``fit`` and\n",
    "            ``fit_transform``.\n",
    "    normalize : boolean, optional, default: False\n",
    "        Whether return normed stress value (Stress_1) as an alternative to raw\n",
    "        stress calculated by default.\n",
    "    Attributes\n",
    "    ----------\n",
    "    embedding_ : array-like, shape (n_components, n_samples)\n",
    "        Stores the position of the dataset in the embedding space.\n",
    "    stress_ : float\n",
    "        The final value of the stress. By default, sum of squared distance\n",
    "        of the disparities and the distances for all constrained points.\n",
    "        If normalize is set to True, returns Stress_1 (according to\n",
    "        Kruskal (1964, p. 3) value 0 indicates \"perfect\" fit, 0.025\n",
    "        excellent, 0.05 good, 0.1 fair, and 0.2 poor).\n",
    "    disparities_ : array-like, shape (n_samples,n_samples)\n",
    "        The final values of the disparities.\n",
    "    distances_ : array-like, shape (n_samples,n_samples)\n",
    "        The final values of the euclidean distances.\n",
    "    n_iter_ : int\n",
    "        The number of iterations corresponding to the best stress. \n",
    "    References\n",
    "    ----------\n",
    "    \"Modern Multidimensional Scaling - Theory and Applications\" Borg, I.;\n",
    "    Groenen P. Springer Series in Statistics (1997)\n",
    "    \"Nonmetric multidimensional scaling: a numerical method\" Kruskal, J.\n",
    "    Psychometrika, 29 (1964)\n",
    "    \"Multidimensional scaling by optimizing goodness of fit to a nonmetric\n",
    "    hypothesis\" Kruskal, J. Psychometrika, 29, (1964)\n",
    "    \"\"\"\n",
    "    def __init__(self, n_components=2, metric=True, n_init=4,\n",
    "                 max_iter=300, verbose=0, eps=1e-3, n_jobs=1,\n",
    "                 random_state=None, normalize=False,dissimilarity=\"euclidean\"):\n",
    "        self.n_components = n_components\n",
    "        self.dissimilarity = dissimilarity\n",
    "        self.metric = metric\n",
    "        self.n_init = n_init\n",
    "        self.max_iter = max_iter\n",
    "        self.eps = eps\n",
    "        self.verbose = verbose\n",
    "        self.n_jobs = n_jobs\n",
    "        self.random_state = random_state \n",
    "        self.normalize =normalize\n",
    "\n",
    "    def fit_transform(self, X, y=None, init=None):\n",
    "        \"\"\"\n",
    "        Fit the data from X, and returns the embedded coordinates\n",
    "        Parameters\n",
    "        ----------\n",
    "        X : array, shape (n_samples, n_features) or (n_samples, n_samples)\n",
    "            Input data. If ``dissimilarity=='precomputed'``, the input should\n",
    "            be the dissimilarity matrix.\n",
    "        y: Ignored\n",
    "        init : ndarray, shape (n_samples,), optional, default: None\n",
    "            Starting configuration of the embedding to initialize the SMACOF\n",
    "            algorithm. By default, the algorithm is initialized with a randomly\n",
    "            chosen array.\n",
    "        \"\"\"\n",
    "        X = check_array(X)\n",
    "        if X.shape[0] == X.shape[1] and self.dissimilarity != \"precomputed\":\n",
    "            warnings.warn(\"The MDS API has changed. ``fit`` now constructs an\"\n",
    "                          \" dissimilarity matrix from data. To use a custom \"\n",
    "                          \"dissimilarity matrix, set \"\n",
    "                          \"``dissimilarity='precomputed'``.\")\n",
    "\n",
    "        if self.dissimilarity == \"precomputed\":\n",
    "            self.dissimilarity_matrix_ = X\n",
    "        elif self.dissimilarity == \"euclidean\":\n",
    "            self.dissimilarity_matrix_ = euclidean_distances(X)\n",
    "        else:\n",
    "            raise ValueError(\"Proximity must be 'precomputed' or 'euclidean'.\"\n",
    "                             \" Got %s instead\" % str(self.dissimilarity))\n",
    "\n",
    "        self.embedding_, self.stress_, self.disparities_, self.distances_, self.n_iter_ = smacof(\n",
    "            self.dissimilarity_matrix_, metric=self.metric,\n",
    "            n_components=self.n_components, init=init, n_init=self.n_init,\n",
    "            n_jobs=self.n_jobs, max_iter=self.max_iter, verbose=self.verbose,\n",
    "            eps=self.eps, random_state=self.random_state,\n",
    "            return_n_iter=True,normalize=self.normalize)\n",
    "\n",
    "        return self.embedding_\n",
    "    "
   ]
  },
  {
   "cell_type": "markdown",
   "metadata": {},
   "source": [
    "- Non-metric customized MDSNew Model festlegn und anpassen"
   ]
  },
  {
   "cell_type": "code",
   "execution_count": 12,
   "metadata": {},
   "outputs": [
    {
     "name": "stderr",
     "output_type": "stream",
     "text": [
      "c:\\users\\zhu\\anaconda3\\envs\\mvpython\\lib\\site-packages\\ipykernel_launcher.py:99: UserWarning: Explicit initial positions passed: performing only one init of the MDS instead of 4\n"
     ]
    },
    {
     "data": {
      "text/plain": [
       "MDSNew(dissimilarity='precomputed', eps=0.001, max_iter=300, metric=False,\n",
       "    n_components=2, n_init=4, n_jobs=1, normalize=True, random_state=None,\n",
       "    verbose=0)"
      ]
     },
     "execution_count": 12,
     "metadata": {},
     "output_type": "execute_result"
    }
   ],
   "source": [
    "newmds = MDSNew(n_components=2, metric=False,normalize=True,dissimilarity ='precomputed')\n",
    "newmds.fit(U,init=Y_0)"
   ]
  },
  {
   "cell_type": "markdown",
   "metadata": {},
   "source": [
    "- Ausgabe $STRESS_1$ "
   ]
  },
  {
   "cell_type": "code",
   "execution_count": 13,
   "metadata": {},
   "outputs": [
    {
     "name": "stdout",
     "output_type": "stream",
     "text": [
      "STRESS_1 :  0.01520029127039639\n"
     ]
    }
   ],
   "source": [
    "stress_1=newmds.stress_\n",
    "print('STRESS_1 : ', stress_1)"
   ]
  },
  {
   "cell_type": "markdown",
   "metadata": {},
   "source": [
    "- Ausgabe Disparitäten $\\hat{D}$ : the monotonic transformation of the dissimilarities $U$."
   ]
  },
  {
   "cell_type": "code",
   "execution_count": 14,
   "metadata": {},
   "outputs": [
    {
     "name": "stdout",
     "output_type": "stream",
     "text": [
      "Disparities :  \n",
      " [[0.         1.27543252 0.51037047 1.27497746 1.08425974 0.82255586\n",
      "  0.73796106 0.65746926 0.65746926 0.3486125 ]\n",
      " [1.27543252 0.         0.8424371  0.47078772 0.47071622 0.57718916\n",
      "  0.84948462 0.90989659 0.65746926 0.99204152]\n",
      " [0.51037047 0.81115583 0.         0.73796106 0.57495569 0.31390413\n",
      "  0.28725333 0.58855135 0.3486125  0.32893036]\n",
      " [1.27497746 0.4792378  0.76537149 0.         0.19079629 0.47078772\n",
      "  0.64736487 1.14559059 0.90989659 1.05993645]\n",
      " [1.08425974 0.48645912 0.57495569 0.19079629 0.         0.25950204\n",
      "  0.47071622 0.99204152 0.73663759 0.8424371 ]\n",
      " [0.82255586 0.53828529 0.31390413 0.46233763 0.27747747 0.\n",
      "  0.3486125  0.73663759 0.48782884 0.57718916]\n",
      " [0.71055062 0.84948462 0.28725333 0.63265391 0.45497331 0.31984522\n",
      "  0.         0.87114258 0.64736487 0.57718916]\n",
      " [0.6264497  0.91321133 0.58855135 1.14559059 0.98674353 0.7279238\n",
      "  0.87114258 0.         0.25950204 0.3486125 ]\n",
      " [0.6288876  0.71707048 0.39788906 0.90658185 0.74535139 0.48782884\n",
      "  0.66207583 0.2415266  0.         0.32893036]\n",
      " [0.29386028 0.99733952 0.32189196 1.05993645 0.87371836 0.59761589\n",
      "  0.5956663  0.38285543 0.33596876 0.        ]]\n"
     ]
    }
   ],
   "source": [
    "disp=newmds.disparities_\n",
    "print( 'Disparities : ','\\n', disp)"
   ]
  },
  {
   "cell_type": "markdown",
   "metadata": {},
   "source": [
    "- Ausgabe eucklidische Distanzen $D$ : the monotonic transformation of the dissimilarities $U$."
   ]
  },
  {
   "cell_type": "code",
   "execution_count": 15,
   "metadata": {},
   "outputs": [
    {
     "name": "stdout",
     "output_type": "stream",
     "text": [
      "Stress normalized with :  45.24102886484244\n",
      "Distances :  \n",
      " [[1.00000000e-05 1.27855199e+00 5.11618740e-01 1.27809581e+00\n",
      "  1.08691163e+00 8.24567681e-01 7.12288498e-01 6.27981883e-01\n",
      "  6.30425743e-01 2.94579008e-01]\n",
      " [1.27855199e+00 1.00000000e-05 8.13139765e-01 4.80409923e-01\n",
      "  4.87648906e-01 5.39601837e-01 8.51562303e-01 9.15444878e-01\n",
      "  7.18824302e-01 9.99778821e-01]\n",
      " [5.11618740e-01 8.13139765e-01 1.00000000e-05 7.67243450e-01\n",
      "  5.76361923e-01 3.14671884e-01 2.87955898e-01 5.89990831e-01\n",
      "  3.98862219e-01 3.22679246e-01]\n",
      " [1.27809581e+00 4.80409923e-01 7.67243450e-01 1.00000000e-05\n",
      "  1.91262943e-01 4.63468425e-01 6.34201262e-01 1.14839249e+00\n",
      "  9.08799175e-01 1.06252885e+00]\n",
      " [1.08691163e+00 4.87648906e-01 5.76361923e-01 1.91262943e-01\n",
      "  1.00000000e-05 2.78156128e-01 4.56086093e-01 9.89156921e-01\n",
      "  7.47174376e-01 8.75855313e-01]\n",
      " [8.24567681e-01 5.39601837e-01 3.14671884e-01 4.63468425e-01\n",
      "  2.78156128e-01 1.00000000e-05 3.20627505e-01 7.29704163e-01\n",
      "  4.89021979e-01 5.99077542e-01]\n",
      " [7.12288498e-01 8.51562303e-01 2.87955898e-01 6.34201262e-01\n",
      "  4.56086093e-01 3.20627505e-01 1.00000000e-05 8.73273235e-01\n",
      "  6.63695144e-01 5.97123186e-01]\n",
      " [6.27981883e-01 9.15444878e-01 5.89990831e-01 1.14839249e+00\n",
      "  9.89156921e-01 7.29704163e-01 8.73273235e-01 1.00000000e-05\n",
      "  2.42117328e-01 3.83791826e-01]\n",
      " [6.30425743e-01 7.18824302e-01 3.98862219e-01 9.08799175e-01\n",
      "  7.47174376e-01 4.89021979e-01 6.63695144e-01 2.42117328e-01\n",
      "  1.00000000e-05 3.36790473e-01]\n",
      " [2.94579008e-01 9.99778821e-01 3.22679246e-01 1.06252885e+00\n",
      "  8.75855313e-01 5.99077542e-01 5.97123186e-01 3.83791826e-01\n",
      "  3.36790473e-01 1.00000000e-05]]\n"
     ]
    }
   ],
   "source": [
    "distances=newmds.distances_\n",
    "print('Stress normalized with : ',(distances ** 2).sum())\n",
    "print( 'Distances : ','\\n', distances)"
   ]
  },
  {
   "cell_type": "markdown",
   "metadata": {},
   "source": [
    "- Ausgabe Konfiguration $Y$"
   ]
  },
  {
   "cell_type": "code",
   "execution_count": 16,
   "metadata": {},
   "outputs": [
    {
     "name": "stdout",
     "output_type": "stream",
     "text": [
      "Konfiguration Y:  \n",
      " [[-0.62607974  0.27076095]\n",
      " [ 0.46735367 -0.40773996]\n",
      " [-0.11648451  0.14763533]\n",
      " [ 0.64124042  0.0412294 ]\n",
      " [ 0.44783739  0.07829862]\n",
      " [ 0.1759683   0.04294124]\n",
      " [ 0.08539866  0.35026765]\n",
      " [-0.44287095 -0.33690715]\n",
      " [-0.22628339 -0.23002588]\n",
      " [-0.42113826  0.04280033]]\n"
     ]
    }
   ],
   "source": [
    "Y=newmds.embedding_ # Y:  a configuration of n points (rows) in 2 dimensions (columns)\n",
    "print('Konfiguration Y: ','\\n', Y)"
   ]
  },
  {
   "cell_type": "markdown",
   "metadata": {},
   "source": [
    "- Plot der Konfiguration im Wahrnehmungsraum"
   ]
  },
  {
   "cell_type": "code",
   "execution_count": 17,
   "metadata": {},
   "outputs": [
    {
     "data": {
      "image/png": "[encoded data removed]",
      "text/plain": [
       "<Figure size 864x864 with 1 Axes>"
      ]
     },
     "metadata": {
      "needs_background": "light"
     },
     "output_type": "display_data"
    }
   ],
   "source": [
    "cities = ['Basel','Berlin','Frankfurt','Hamburg','Hannover','Kassel','Köln','München','Nürnberg','Stuttgart']\n",
    "coords = newmds.embedding_\n",
    "\n",
    "fig = plt.figure(figsize=(12,12))\n",
    "\n",
    "plt.subplots_adjust(bottom = 0.1)\n",
    "plt.scatter(coords[:, 0], coords[:, 1])\n",
    "\n",
    "for label, x, y in zip(cities, coords[:, 0], coords[:, 1]):\n",
    "    plt.annotate(\n",
    "        label,\n",
    "        xy = (x, y), \n",
    "        xytext = (-20, 20),\n",
    "        textcoords = 'offset points'\n",
    "    )\n",
    "plt.show()"
   ]
  },
  {
   "cell_type": "code",
   "execution_count": null,
   "metadata": {},
   "outputs": [],
   "source": []
  }
 ],
 "metadata": {
  "kernelspec": {
   "display_name": "Python 3",
   "language": "python",
   "name": "python3"
  },
  "language_info": {
   "codemirror_mode": {
    "name": "ipython",
    "version": 3
   },
   "file_extension": ".py",
   "mimetype": "text/x-python",
   "name": "python",
   "nbconvert_exporter": "python",
   "pygments_lexer": "ipython3",
   "version": "3.9.4"
  }
 },
 "nbformat": 4,
 "nbformat_minor": 4
}
