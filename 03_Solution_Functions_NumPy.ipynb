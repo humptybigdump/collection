{
 "cells": [
  {
   "cell_type": "markdown",
   "metadata": {},
   "source": [
    "# Geospatial Data Analysis I \n",
    "\n",
    "## Data and Variables - Solution"
   ]
  },
  {
   "cell_type": "markdown",
   "metadata": {},
   "source": [
    "### Exercise 1\n",
    "\n",
    "#### Loops and if-else conditions\n",
    "\n",
    "- Create two lists with 5 elements each. The first should contain names of rocks, the second minerals contained in the former. Make sure all three classes of rock (magmatic, metamorphic and sedimentary) are represented. \n",
    "\n",
    "> rocks = [\"granite\", \"basalt\", ...]\n",
    "\n",
    "> minerals = [\"feldspar\", \"olivine\", ...]\n",
    "\n",
    "- then use a for-loop to create output messages for each rock-mineral pair. For example: \n",
    "\n",
    "> \"Granite contains feldspar.\" and so on. \n",
    "\n",
    "- hint: to set up the enumerator you can use the functions *range()* and the *len()* command. "
   ]
  },
  {
   "cell_type": "code",
   "execution_count": 1,
   "metadata": {},
   "outputs": [
    {
     "name": "stdout",
     "output_type": "stream",
     "text": [
      "granite contains feldspar.\n",
      "basalt contains olivine.\n",
      "eklogit contains granat.\n",
      "sandstone contains quartz.\n",
      "marble contains calcite.\n"
     ]
    }
   ],
   "source": [
    "# [1]\n",
    "# create the lists\n",
    "rocks = [\"granite\", \"basalt\", \"eklogit\", \"sandstone\", \"marble\"]\n",
    "minerals = [\"feldspar\", \"olivine\", \"granat\", \"quartz\", \"calcite\"]\n",
    "\n",
    "# for-loop in general form with [i] and sequence from range()\n",
    "for i in range(len(rocks)): \n",
    "    print (rocks[i] + \" contains \"+ minerals[i]+ \".\")\n",
    "\n",
    "# for-loop option 2 with form \"item in list\" --> can only take one item, here as we have two items: minerals and rocks\n",
    "# for rocks, mineral in rocks, mineral: \n",
    "#    print(rock + \" contains \"+ mineral + \".\")"
   ]
  },
  {
   "cell_type": "markdown",
   "metadata": {},
   "source": [
    "- now extend the for-loop from above with an if-else statement regarding the class of rock, and adapt the output message accordingly. \n",
    "\n",
    "- in case you are unsure about the required structure of the code, make some notes in \"pseudocode\" first. That is a sequence of functionalities, but without using exact Python syntax from the beginning, e.g:   \n",
    "\n",
    "> if rock == granite or basalt, \n",
    "\n",
    "> then message == \"rock X contains mineral X and is an magmatic rock.\"\n",
    "\n",
    "> if rock == ... "
   ]
  },
  {
   "cell_type": "code",
   "execution_count": 3,
   "metadata": {},
   "outputs": [
    {
     "name": "stdout",
     "output_type": "stream",
     "text": [
      "granite contains feldspar and is a magmatic rock.\n",
      "basalt contains olivine and is a magmatic rock.\n",
      "eklogit contains granat and is an metamorphic rock.\n",
      "sandstone contains quartz and is an sedimentary rock.\n",
      "marble contains calcite and is an metamorphic rock.\n"
     ]
    }
   ],
   "source": [
    "[2]\n",
    "# for-loop with if-else statement \n",
    "for i in range(len(rocks)): \n",
    "\n",
    "    if rocks[i] == 'granite' or rocks [i] == 'basalt': # first tpye of rock, IMPORTANT: index [i] of rocks so that each spcific element is tested within the loop. \n",
    "        print (rocks[i] + \" contains \"+ minerals[i]+ \" and is a magmatic rock.\")\n",
    "\n",
    "    elif rocks[i] == 'eklogit' or rocks[i] == 'marble': # second type of rock\n",
    "        print (rocks[i] + \" contains \"+ minerals[i]+ \" and is an metamorphic rock.\")\n",
    "\n",
    "    elif rocks[i] == 'sandstone': # third type of rock \n",
    "        print (rocks[i] + \" contains \"+ minerals[i]+ \" and is an sedimentary rock.\")\n",
    "    \n",
    "    else: \n",
    "        print ('I do not know this rock') # as final option in case something unforseen happens. \n"
   ]
  },
  {
   "cell_type": "markdown",
   "metadata": {},
   "source": [
    "### Exercise 2\n",
    "\n",
    "#### Creating NumPy Objects\n",
    "\n",
    "- use *np.arange()* to create a continuous sequence of numbers from 0 to 100, with an increment of 4."
   ]
  },
  {
   "cell_type": "code",
   "execution_count": 4,
   "metadata": {},
   "outputs": [
    {
     "name": "stdout",
     "output_type": "stream",
     "text": [
      "[ 0  4  8 12 16 20 24 28 32 36 40 44 48 52 56 60 64 68 72 76 80 84 88 92\n",
      " 96]\n"
     ]
    }
   ],
   "source": [
    "# [3]\n",
    "# don't forget to import numpy first  ;)\n",
    "import numpy as np\n",
    "\n",
    "# create an array\n",
    "sequence = np.arange(0, 100, 4)\n",
    "print(sequence)\n"
   ]
  },
  {
   "cell_type": "markdown",
   "metadata": {},
   "source": [
    "- create a matrix with 10 by 20 entries, which follow a continuous sequence starting with 0, by combining *np.arange()* and *np.reshape()*"
   ]
  },
  {
   "cell_type": "code",
   "execution_count": 18,
   "metadata": {},
   "outputs": [
    {
     "name": "stdout",
     "output_type": "stream",
     "text": [
      "[[  0   1   2   3   4   5   6   7   8   9  10  11  12  13  14  15  16  17\n",
      "   18  19]\n",
      " [ 20  21  22  23  24  25  26  27  28  29  30  31  32  33  34  35  36  37\n",
      "   38  39]\n",
      " [ 40  41  42  43  44  45  46  47  48  49  50  51  52  53  54  55  56  57\n",
      "   58  59]\n",
      " [ 60  61  62  63  64  65  66  67  68  69  70  71  72  73  74  75  76  77\n",
      "   78  79]\n",
      " [ 80  81  82  83  84  85  86  87  88  89  90  91  92  93  94  95  96  97\n",
      "   98  99]\n",
      " [100 101 102 103 104 105 106 107 108 109 110 111 112 113 114 115 116 117\n",
      "  118 119]\n",
      " [120 121 122 123 124 125 126 127 128 129 130 131 132 133 134 135 136 137\n",
      "  138 139]\n",
      " [140 141 142 143 144 145 146 147 148 149 150 151 152 153 154 155 156 157\n",
      "  158 159]\n",
      " [160 161 162 163 164 165 166 167 168 169 170 171 172 173 174 175 176 177\n",
      "  178 179]\n",
      " [180 181 182 183 184 185 186 187 188 189 190 191 192 193 194 195 196 197\n",
      "  198 199]]\n"
     ]
    }
   ],
   "source": [
    "# [4]\n",
    "# matrix with a continuous sequence\n",
    "matrix = np.arange(0, 200).reshape(10, 20)\n",
    "print(matrix)"
   ]
  },
  {
   "cell_type": "markdown",
   "metadata": {},
   "source": [
    "- check the number of elements (size), dimensions (shape) and data type (type) of both variables from above"
   ]
  },
  {
   "cell_type": "code",
   "execution_count": null,
   "metadata": {},
   "outputs": [],
   "source": [
    "# [5]\n",
    "# print size, shape and type\n",
    "print(matrix.size)\n",
    "print(matrix.shape)\n",
    "print(type(matrix))\n"
   ]
  },
  {
   "cell_type": "markdown",
   "metadata": {},
   "source": [
    "### Exercise 3\n",
    "\n",
    "#### Indices of NumPy objects\n",
    "\n",
    "- create a vector with 1000 random numbers with the help of *np.random.rand()*. In addition, create a second vector that contains every third value of the first vector. "
   ]
  },
  {
   "cell_type": "code",
   "execution_count": 5,
   "metadata": {},
   "outputs": [
    {
     "name": "stdout",
     "output_type": "stream",
     "text": [
      "(1000,)\n",
      "(334,)\n"
     ]
    }
   ],
   "source": [
    "# [6]\n",
    "# array with 1000 random values\n",
    "a = np.random.rand(1000)\n",
    "print(a.shape)\n",
    "\n",
    "# second array \n",
    "b = a[::3]\n",
    "print(b.shape)"
   ]
  },
  {
   "cell_type": "markdown",
   "metadata": {},
   "source": [
    "- convert the first vector from above into a matrix with 20 lines and 50 columns using *reshape()*, and check the dimensions (*shape*) of the newly created matrix.   "
   ]
  },
  {
   "cell_type": "code",
   "execution_count": 6,
   "metadata": {},
   "outputs": [
    {
     "name": "stdout",
     "output_type": "stream",
     "text": [
      "(20, 50)\n"
     ]
    }
   ],
   "source": [
    "# [7]\n",
    "# conversion of an array\n",
    "c = a.reshape(20,50)\n",
    "print(c.shape)\n"
   ]
  },
  {
   "cell_type": "markdown",
   "metadata": {},
   "source": [
    "- from this vector print the values in columns 5 to 8 of the third line, and save the entire columns 4 and 5 into a new vector. "
   ]
  },
  {
   "cell_type": "code",
   "execution_count": 7,
   "metadata": {},
   "outputs": [
    {
     "name": "stdout",
     "output_type": "stream",
     "text": [
      "[0.19792748 0.35986665 0.3328982 ]\n",
      "[[0.76031464]\n",
      " [0.45948645]\n",
      " [0.19714139]\n",
      " [0.77268517]\n",
      " [0.39597705]\n",
      " [0.9081396 ]\n",
      " [0.98408607]\n",
      " [0.90645128]\n",
      " [0.09499586]\n",
      " [0.63137816]\n",
      " [0.40168748]\n",
      " [0.18834332]\n",
      " [0.37382322]\n",
      " [0.58484768]\n",
      " [0.48636593]\n",
      " [0.46030716]\n",
      " [0.01389424]\n",
      " [0.98865066]\n",
      " [0.37060333]\n",
      " [0.53747241]]\n"
     ]
    }
   ],
   "source": [
    "# [8]\n",
    "# indices of lines and rows \n",
    "print(c[3,5:8])\n",
    "\n",
    "d = c[:,4:5]\n",
    "print(d)\n"
   ]
  },
  {
   "cell_type": "markdown",
   "metadata": {},
   "source": [
    "### Exercise 4\n",
    "\n",
    "#### Other functionalities in NumPy\n",
    "\n",
    "- create an array with 1000 random integer numbers between 0 and 100. Look for a purpose-built function in the NumPy documentation to do so: https://numpy.org/doc/stable/reference/random/legacy.html "
   ]
  },
  {
   "cell_type": "code",
   "execution_count": 8,
   "metadata": {},
   "outputs": [
    {
     "name": "stdout",
     "output_type": "stream",
     "text": [
      "[94 53 36 13 49 11 84 63 91 62  1 53 87 57 81 69 96 79 80 63 26 20 57 80\n",
      " 12 18 31 27 96 72 84 82 34 97 67 48 71 90  1 13 88 86 54 22 83  1  4 28\n",
      "  2 94 50 48 85 64 88 13 42 59 22 32 79 22 96 26 10 55 63 36 17 67 85 88\n",
      " 20 50 74 48 45 15 85 93  2 70 95 47 38 17 46 67 30 14 44 66 98 68 93 37\n",
      " 46 65 98 18 80 55 41 57 75 56  4  4 88  1 20 86 23 99 56 59 36  8 61 71\n",
      " 17 65 71 42 37 11 82 59 41 33 92  5 23 42 40 91 15 48 82 67 87 32 31 99\n",
      " 40 17  4 70 27 24 63 87 89 93 31 60  5 13 80 36 94  9  4 93 40 17 88 49\n",
      " 42 57 80 64 82 50 32 59 82 63 80 74 48 12 26 66 32 53 72 95 38 44 44 98\n",
      " 23 70 58 68  4 71 96 90 84 85 72 50 21 34 10 35 32  5 54 82  5 72  8 65\n",
      " 72 89 27  0 65 63 71  2 97 94 87 68 46 94 75 70 12 11 40 12 58 62 62 38\n",
      " 20 48 67 67 71 58 69 11 63 44 82 56 36 91 70 23 78 91 71 99 84 86 25 50\n",
      " 84 77 77 54 41  0  9 54  3 95 85 69 20 19 23 89  3 25 86 23  0 96 81 79\n",
      " 38 39 26  6 59 18 63 15 52 23  4 91 47 26 76 78 29 12 48 69 40 80 71 49\n",
      " 85 92 70 80 53 13 11 82 81 58 64 82 37 16 35 34 40 87 14  2 54 64 84 75\n",
      " 24 50  5 71 66 94  0 10 35 95  1 11 16  8 31 71 40 10 90 95 56 91 53 99\n",
      " 40 46 67 64 90 11 66 92 41 81 49 39 20 14 40 56 87 56 61 60 86 29 80 51\n",
      " 45 48 21 34 30 65 42 63 64  8 74 91 10 43 67 62 33  8  1 75 58 36 57 18\n",
      " 44 12 78  3 10 72 62 23 73  8 11 63 54 56 20 34 35 50 76 85 86 97 22 42\n",
      " 51 48 84 57 33 46 15 22  2 69 27 75 84 19 61 88 74 68 61 24 81 55 62 49\n",
      " 45 49 83 57  6 12 21  4 67 17 15 23 42 87 27 82 90 34 95 95 32 49  5 77\n",
      " 71 11 72  4 63  8 84 22 95 97 68 17 24 37 78 45 82 57 86 47 26 78 64 94\n",
      " 53 42 70 14 78 36 17 30 67 12 30 98 48 59 42 43 37 15 53 97 12 48 42 74\n",
      " 14 78 51 54 23 62 74 91 96 43 64  4 25 38  5 77 12 34 63 75 29 59 28 91\n",
      "  7 81 76 60 98 12 87 49 57 10  2 45 77 94 23 16 93 64 11 81 97 56 16 77\n",
      " 69 60  4  1 96 47 87 40 40 61 55 52 69 85 91 28 58 74 55  7 35  6 58 86\n",
      " 39  8 60 30 33 40 87 39 88 73 22 77 57 41 69 67 64 63  0 11 29 89 98 51\n",
      " 98 13 23 87 67 35 51 25 66 33 72 70  6 59 83 84 51 99 15  1 16 64 47 82\n",
      " 74 28 79 66 69 34 91 91 56 39 86 10 22 20 88 32 24  5 64 55 17 12 33 58\n",
      "  2 83 71 60 65 52 58 32  0 72 54 22 53 20 47 57  1 25 45  6 66 15 65  8\n",
      " 32 63 83 69 54 96 34 69 56 64 37 46 93 80 33 37 71 16 11 55 16 23 63 21\n",
      " 80 42 41 71 80 67 37  4 97 24  1 56 60 72  3 87 73 82 40  9 27 35 94  4\n",
      " 54 38 51 86  6 31 96 56 22 40  0 54 76 37 54 35 32 99  0 23 35 58 28 23\n",
      " 91 32 79 43 49 50 78 86 67 75 79 23 46  9  1 63 63 13 90 42 89 92 83 80\n",
      " 30 69 60 38 93 76 36 66 40 88 18 60 71 24 23  1 22 41 22 80 11 38 28 13\n",
      " 41 83 54 70 55 24 23 50 91 59  6 12 15 44 29 45  8 32 27 20 56 33 12 89\n",
      "  4 96 47 37 70 82 84 64 32 83 76 42 50 48 27  4  9 15 91 67  5  9 77 88\n",
      " 82 26 54 94 20 71 10 92 75 78  7 52 67 20 66 92 42 98 89 46 40 39 98 79\n",
      " 80 66 25  3 12 13  9 47 72 52 11 85 79 27 77 18 35 51 47 45 88 29 15 33\n",
      " 49  8 67 51 51 92 59 28 54 28 12 36 12 62 41 73 73  2 15 94 32 39 57 27\n",
      " 77 13 87 90 28 85 83 56 74 16 80 62 60 98 22 55 15 27 12 54  5 64 59 28\n",
      "  8 61 71 67 83 21 46 43 67 66 56 51 89 28 77 32 84 56 27 30 38 44 82 54\n",
      " 31 96 87  6 28 61 79 50 69 45 57 46 37 10  8 89]\n"
     ]
    }
   ],
   "source": [
    "#[9]\n",
    "# array with random integer values \n",
    "a = np.random.randint(0, 100, 1000)\n",
    "print(a)\n"
   ]
  },
  {
   "cell_type": "markdown",
   "metadata": {},
   "source": [
    "- save the 5 highest numbers from this array into a new array. Use the *sort()* function and appropriate indices. "
   ]
  },
  {
   "cell_type": "code",
   "execution_count": 23,
   "metadata": {},
   "outputs": [
    {
     "name": "stdout",
     "output_type": "stream",
     "text": [
      "[99 99 99 99 99]\n"
     ]
    }
   ],
   "source": [
    "#[10]\n",
    "# 5 highest numbers\n",
    "b = np.sort(a)\n",
    "c = b[-5:]\n",
    "print(c)"
   ]
  },
  {
   "cell_type": "markdown",
   "metadata": {},
   "source": [
    "### Exercise 5\n",
    "#### Your own function\n",
    "- Write a function with the name *hiking()*, with input parameters for the <font color=\"green\">covered distance</font>, the <font color=\"green\">time spent</font> and the <font color=\"green\">location of the hike</font>. \n",
    "\n",
    "    The function is supposed to print a message with the average speed and the location. For example:\n",
    " > \" For our hike in Zermatt we had an average speed of 3.5 km/h!\" \n",
    " \n",
    "\n",
    "- If the speed is lower than 2 km/h there should be an additional message, with a note that the hike was apparently quite exhausting or the route quite steep. Use an if-else statement to implement this. "
   ]
  },
  {
   "cell_type": "code",
   "execution_count": 24,
   "metadata": {},
   "outputs": [
    {
     "name": "stdout",
     "output_type": "stream",
     "text": [
      "Bei unserer Wanderung in Zermatt hatten wir ein durchschnittliches Lauftempo von 3.5 km/h!\n",
      "Bei unserer Wanderung in Bruchsal hatten wir ein durchschnittliches Lauftempo von 1.5 km/h!\n",
      "Die Wanderung muss besonders anstrengend gewesen sein!\n"
     ]
    }
   ],
   "source": [
    "#[11]\n",
    "# your own function \n",
    "def hiking(distance, time, location):\n",
    "    speed = distance / time\n",
    "    print(\"For our hike in\",str(location), \n",
    "          \"we had an average speed of\",\n",
    "          speed,\"km/h!\")    \n",
    "    if speed < 2.0:\n",
    "        print(\"This must have been exhausting!\")\n",
    "\n",
    "# call the function with a high average speed and chose a location \n",
    "hiking(10.5,3,\"Zermatt\")\n",
    "\n",
    "# call the function with a low average speed and chose a location\n",
    "hiking(6,4,\"Bruchsal\") "
   ]
  },
  {
   "cell_type": "markdown",
   "metadata": {},
   "source": [
    "## END"
   ]
  }
 ],
 "metadata": {
  "kernelspec": {
   "display_name": "GDA1",
   "language": "python",
   "name": "python3"
  },
  "language_info": {
   "codemirror_mode": {
    "name": "ipython",
    "version": 3
   },
   "file_extension": ".py",
   "mimetype": "text/x-python",
   "name": "python",
   "nbconvert_exporter": "python",
   "pygments_lexer": "ipython3",
   "version": "3.11.5"
  }
 },
 "nbformat": 4,
 "nbformat_minor": 4
}
