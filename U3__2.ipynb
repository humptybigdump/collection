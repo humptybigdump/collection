{
 "cells": [
  {
   "cell_type": "markdown",
   "id": "d2ddac80",
   "metadata": {},
   "source": [
    "<img src=\"KITlogo_1c_deutsch.eps\" width=\"200\" height=\"200\" align=\"right\"/>\n",
    "\n",
    "##### Lehrstuhl für Analytics and Statistics (IOR)\n",
    "##### Prof. Dr. Oliver Grothe\n",
    "##### WS 2021"
   ]
  },
  {
   "cell_type": "markdown",
   "id": "3de59e10",
   "metadata": {},
   "source": [
    "# Analyse multivariater Daten\n",
    "## Übung 3"
   ]
  },
  {
   "cell_type": "markdown",
   "id": "a2149042",
   "metadata": {},
   "source": [
    "Laden Sie den Datensatz $\\textit{statstud}$ aus Ilias herunter.\n",
    "Berechnen Sie den Mittelwertvektor, die empirische Kovarianzmatrix und die empirische\n",
    "Korrelationsmatrix."
   ]
  },
  {
   "cell_type": "code",
   "execution_count": 6,
   "id": "39e337ee",
   "metadata": {},
   "outputs": [],
   "source": [
    "import pandas as pd\n",
    "import numpy as np\n",
    "data=np.array(pd.read_csv('statstud.csv', sep=';',header=None))"
   ]
  },
  {
   "cell_type": "markdown",
   "id": "8c09fd02",
   "metadata": {},
   "source": [
    "Mittelwert berechnen:"
   ]
  },
  {
   "cell_type": "code",
   "execution_count": 9,
   "id": "737fa6d6",
   "metadata": {},
   "outputs": [
    {
     "data": {
      "text/plain": [
       "array([1.76943662e+02, 4.15141844e+01, 6.94347826e+01, 1.52816901e+00,\n",
       "       6.17605634e+00, 8.63732394e+01, 2.58769231e+00, 2.24184397e+00,\n",
       "       3.23943662e-01, 2.53521127e-01, 3.54609929e-02, 5.70422535e-01,\n",
       "       4.39007092e+00])"
      ]
     },
     "execution_count": 9,
     "metadata": {},
     "output_type": "execute_result"
    }
   ],
   "source": [
    "meanvec=np.nanmean(data,axis=0)"
   ]
  },
  {
   "cell_type": "markdown",
   "id": "48622cb7",
   "metadata": {},
   "source": [
    "Empirische Kovarianz:"
   ]
  },
  {
   "cell_type": "code",
   "execution_count": 14,
   "id": "30f20a8b",
   "metadata": {},
   "outputs": [
    {
     "name": "stdout",
     "output_type": "stream",
     "text": [
      "[[80.53203729418763 -- -- 3.1917278317794096 -1.3492362626462993\n",
      "  0.07736560206308211 -- -- -0.3690735965086294 -0.13360444356278514 --\n",
      "  0.8983336639555644 --]\n",
      " [-- -- -- -- -- -- -- -- -- -- -- -- --]\n",
      " [-- -- -- -- -- -- -- -- -- -- -- -- --]\n",
      " [3.1917278317794096 -- -- 0.24920650664550703 -0.06481848839515937\n",
      "  -0.26755604046816145 -- -- -0.009125173576671282 -9.918666931164451e-05\n",
      "  -- 0.015621900416584027 --]\n",
      " [-1.3492362626462993 -- -- -0.06481848839515937 10.835201348938712\n",
      "  -1.9248660979964303 -- -- -0.0077365602063082135 -0.03054949414798651\n",
      "  -- 0.07562983535012888 --]\n",
      " [0.07736560206308211 -- -- -0.26755604046816145 -1.9248660979964303\n",
      "  13.304354294782772 -- -- -0.19837333862328901 -0.37631422336837905 --\n",
      "  0.30118032136480866 --]\n",
      " [-- -- -- -- -- -- -- -- -- -- -- -- --]\n",
      " [-- -- -- -- -- -- -- -- -- -- -- -- --]\n",
      " [-0.3690735965086294 -- -- -0.009125173576671282 -0.0077365602063082135\n",
      "  -0.19837333862328901 -- -- 0.21900416584011126 0.009422733584606217 --\n",
      "  0.02648284070620911 --]\n",
      " [-0.13360444356278514 -- -- -9.918666931164451e-05 -0.03054949414798651\n",
      "  -0.37631422336837905 -- -- 0.009422733584606217 0.18924816504661793 --\n",
      "  -0.03193810751834962 --]\n",
      " [-- -- -- -- -- -- -- -- -- -- -- -- --]\n",
      " [0.8983336639555644 -- -- 0.015621900416584027 0.07562983535012888\n",
      "  0.30118032136480866 -- -- 0.02648284070620911 -0.03193810751834962 --\n",
      "  0.2450406665344174 --]\n",
      " [-- -- -- -- -- -- -- -- -- -- -- -- --]]\n"
     ]
    },
    {
     "data": {
      "text/plain": [
       "80.53203729418766"
      ]
     },
     "execution_count": 14,
     "metadata": {},
     "output_type": "execute_result"
    }
   ],
   "source": [
    "cov_emp=np.ma.cov(data,bias=True,rowvar=False) # see https://numpy.org/doc/stable/reference/generated/numpy.ma.cov.html \n",
    "print(cov_emp)\n"
   ]
  },
  {
   "cell_type": "markdown",
   "id": "0516503f",
   "metadata": {},
   "source": [
    "Empirische Korrelationsmatrix:\n",
    "    "
   ]
  },
  {
   "cell_type": "code",
   "execution_count": 17,
   "id": "e6ba3f4a",
   "metadata": {},
   "outputs": [
    {
     "data": {
      "text/plain": [
       "masked_array(\n",
       "  data=[[1.0, --, --, 0.7124621858960757, -0.045675695483527436,\n",
       "         0.0023635601864075637, --, --, -0.0878825087252259,\n",
       "         -0.034223208329190555, --, 0.2022247229434482, --],\n",
       "        [--, --, --, --, --, --, --, --, --, --, --, --, --],\n",
       "        [--, --, --, --, --, --, --, --, --, --, --, --, --],\n",
       "        [0.7124621858960757, --, --, 1.0, -0.03944579533708413,\n",
       "         -0.14693936908525354, --, --, -0.03906027149530444,\n",
       "         -0.00045672814983942244, --, 0.06321717635021742, --],\n",
       "        [-0.045675695483527436, --, --, -0.03944579533708413, 1.0,\n",
       "         -0.1603190495939867, --, --, -0.005022306677342814,\n",
       "         -0.021333872325367757, --, 0.04641470336924246, --],\n",
       "        [0.0023635601864075637, --, --, -0.14693936908525354,\n",
       "         -0.1603190495939867, 1.0, --, --, -0.11621447209710772,\n",
       "         -0.2371580626944478, --, 0.16680559320048213, --],\n",
       "        [--, --, --, --, --, --, --, --, --, --, --, --, --],\n",
       "        [--, --, --, --, --, --, --, --, --, --, --, --, --],\n",
       "        [-0.0878825087252259, --, --, -0.03906027149530444,\n",
       "         -0.005022306677342814, -0.11621447209710772, --, --, 1.0,\n",
       "         0.04628442636396863, --, 0.11431923187728413, --],\n",
       "        [-0.034223208329190555, --, --, -0.00045672814983942244,\n",
       "         -0.021333872325367757, -0.2371580626944478, --, --,\n",
       "         0.04628442636396863, 1.0, --, -0.1483113053748462, --],\n",
       "        [--, --, --, --, --, --, --, --, --, --, --, --, --],\n",
       "        [0.2022247229434482, --, --, 0.06321717635021742,\n",
       "         0.04641470336924246, 0.16680559320048213, --, --,\n",
       "         0.11431923187728413, -0.1483113053748462, --, 1.0, --],\n",
       "        [--, --, --, --, --, --, --, --, --, --, --, --, --]],\n",
       "  mask=[[False,  True,  True, False, False, False,  True,  True, False,\n",
       "         False,  True, False,  True],\n",
       "        [ True,  True,  True,  True,  True,  True,  True,  True,  True,\n",
       "          True,  True,  True,  True],\n",
       "        [ True,  True,  True,  True,  True,  True,  True,  True,  True,\n",
       "          True,  True,  True,  True],\n",
       "        [False,  True,  True, False, False, False,  True,  True, False,\n",
       "         False,  True, False,  True],\n",
       "        [False,  True,  True, False, False, False,  True,  True, False,\n",
       "         False,  True, False,  True],\n",
       "        [False,  True,  True, False, False, False,  True,  True, False,\n",
       "         False,  True, False,  True],\n",
       "        [ True,  True,  True,  True,  True,  True,  True,  True,  True,\n",
       "          True,  True,  True,  True],\n",
       "        [ True,  True,  True,  True,  True,  True,  True,  True,  True,\n",
       "          True,  True,  True,  True],\n",
       "        [False,  True,  True, False, False, False,  True,  True, False,\n",
       "         False,  True, False,  True],\n",
       "        [False,  True,  True, False, False, False,  True,  True, False,\n",
       "         False,  True, False,  True],\n",
       "        [ True,  True,  True,  True,  True,  True,  True,  True,  True,\n",
       "          True,  True,  True,  True],\n",
       "        [False,  True,  True, False, False, False,  True,  True, False,\n",
       "         False,  True, False,  True],\n",
       "        [ True,  True,  True,  True,  True,  True,  True,  True,  True,\n",
       "          True,  True,  True,  True]],\n",
       "  fill_value=1e+20)"
      ]
     },
     "execution_count": 17,
     "metadata": {},
     "output_type": "execute_result"
    }
   ],
   "source": [
    "np.ma.corrcoef(data,rowvar=False)"
   ]
  },
  {
   "cell_type": "code",
   "execution_count": null,
   "id": "56b821f0",
   "metadata": {},
   "outputs": [],
   "source": []
  },
  {
   "cell_type": "code",
   "execution_count": null,
   "id": "77dad6f3",
   "metadata": {},
   "outputs": [],
   "source": []
  }
 ],
 "metadata": {
  "kernelspec": {
   "display_name": "Python 3",
   "language": "python",
   "name": "python3"
  },
  "language_info": {
   "codemirror_mode": {
    "name": "ipython",
    "version": 3
   },
   "file_extension": ".py",
   "mimetype": "text/x-python",
   "name": "python",
   "nbconvert_exporter": "python",
   "pygments_lexer": "ipython3",
   "version": "3.9.4"
  }
 },
 "nbformat": 4,
 "nbformat_minor": 5
}
