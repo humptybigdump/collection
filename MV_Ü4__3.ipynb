{
 "cells": [
  {
   "cell_type": "markdown",
   "metadata": {},
   "source": [
    "<img src=\"kit_logo.jpg\" width=\"200\" height=\"200\" align=\"right\"/>\n",
    "\n",
    "##### Lehrstuhl für Analytics and Statistics (IOR)\n",
    "##### Prof. Dr. Oliver Grothe\n",
    "##### SS 2020"
   ]
  },
  {
   "cell_type": "markdown",
   "metadata": {},
   "source": [
    "# Multivariate Verfahren\n",
    "## Übung 4\n"
   ]
  },
  {
   "cell_type": "markdown",
   "metadata": {},
   "source": [
    "### Aufgabe 5\n",
    "Laden Sie den Datensatz *`umfrage_auto.csv`* aus Ilias herunter. Dieser enthält die Rohdaten der Umfrage. Führen Sie eine Korrespondenzanalyse durch und vergleichen Sie Ihr Ergebnis mit der Abbildung aus Aufgabe 4. \n",
    "\n",
    "Hinweis: Verwenden sie die symmetrische Normalisierung.\n"
   ]
  },
  {
   "cell_type": "markdown",
   "metadata": {},
   "source": [
    "#### Datenvorbereitung"
   ]
  },
  {
   "cell_type": "markdown",
   "metadata": {},
   "source": [
    "- Daten einlesen:"
   ]
  },
  {
   "cell_type": "code",
   "execution_count": 2,
   "metadata": {},
   "outputs": [
    {
     "data": {
      "text/html": [
       "<div>\n",
       "<style scoped>\n",
       "    .dataframe tbody tr th:only-of-type {\n",
       "        vertical-align: middle;\n",
       "    }\n",
       "\n",
       "    .dataframe tbody tr th {\n",
       "        vertical-align: top;\n",
       "    }\n",
       "\n",
       "    .dataframe thead th {\n",
       "        text-align: right;\n",
       "    }\n",
       "</style>\n",
       "<table border=\"1\" class=\"dataframe\">\n",
       "  <thead>\n",
       "    <tr style=\"text-align: right;\">\n",
       "      <th></th>\n",
       "      <th>Sicherheit</th>\n",
       "      <th>Sportlichkeit</th>\n",
       "      <th>Komfort</th>\n",
       "      <th>Ausstattung</th>\n",
       "    </tr>\n",
       "  </thead>\n",
       "  <tbody>\n",
       "    <tr>\n",
       "      <td>Mercedes</td>\n",
       "      <td>9</td>\n",
       "      <td>3</td>\n",
       "      <td>6</td>\n",
       "      <td>5</td>\n",
       "    </tr>\n",
       "    <tr>\n",
       "      <td>BMW</td>\n",
       "      <td>3</td>\n",
       "      <td>6</td>\n",
       "      <td>3</td>\n",
       "      <td>1</td>\n",
       "    </tr>\n",
       "    <tr>\n",
       "      <td>Opel</td>\n",
       "      <td>1</td>\n",
       "      <td>1</td>\n",
       "      <td>2</td>\n",
       "      <td>8</td>\n",
       "    </tr>\n",
       "    <tr>\n",
       "      <td>Audi</td>\n",
       "      <td>2</td>\n",
       "      <td>5</td>\n",
       "      <td>4</td>\n",
       "      <td>4</td>\n",
       "    </tr>\n",
       "    <tr>\n",
       "      <td>VW</td>\n",
       "      <td>3</td>\n",
       "      <td>3</td>\n",
       "      <td>5</td>\n",
       "      <td>5</td>\n",
       "    </tr>\n",
       "  </tbody>\n",
       "</table>\n",
       "</div>"
      ],
      "text/plain": [
       "          Sicherheit  Sportlichkeit  Komfort  Ausstattung\n",
       "Mercedes           9              3        6            5\n",
       "BMW                3              6        3            1\n",
       "Opel               1              1        2            8\n",
       "Audi               2              5        4            4\n",
       "VW                 3              3        5            5"
      ]
     },
     "execution_count": 2,
     "metadata": {},
     "output_type": "execute_result"
    }
   ],
   "source": [
    "import numpy as np\n",
    "import pandas as pd\n",
    "import matplotlib.pyplot as plt\n",
    "df = pd.read_csv(\"./umfrage_auto.csv\",sep=',',header=None)\n",
    "df.columns = ['Sicherheit','Sportlichkeit','Komfort','Ausstattung']\n",
    "df.index= ['Mercedes','BMW', 'Opel','Audi','VW']\n",
    "df"
   ]
  },
  {
   "cell_type": "code",
   "execution_count": 3,
   "metadata": {},
   "outputs": [
    {
     "data": {
      "text/plain": [
       "array([[9, 3, 6, 5],\n",
       "       [3, 6, 3, 1],\n",
       "       [1, 1, 2, 8],\n",
       "       [2, 5, 4, 4],\n",
       "       [3, 3, 5, 5]], dtype=int64)"
      ]
     },
     "execution_count": 3,
     "metadata": {},
     "output_type": "execute_result"
    }
   ],
   "source": [
    "D = pd.DataFrame.to_numpy(df)\n",
    "D"
   ]
  },
  {
   "cell_type": "markdown",
   "metadata": {},
   "source": [
    "- Erstellen der Kontingenztabellen mit absoluten Häufigkeiten:"
   ]
  },
  {
   "cell_type": "code",
   "execution_count": 4,
   "metadata": {},
   "outputs": [
    {
     "data": {
      "text/html": [
       "<div>\n",
       "<style scoped>\n",
       "    .dataframe tbody tr th:only-of-type {\n",
       "        vertical-align: middle;\n",
       "    }\n",
       "\n",
       "    .dataframe tbody tr th {\n",
       "        vertical-align: top;\n",
       "    }\n",
       "\n",
       "    .dataframe thead th {\n",
       "        text-align: right;\n",
       "    }\n",
       "</style>\n",
       "<table border=\"1\" class=\"dataframe\">\n",
       "  <thead>\n",
       "    <tr style=\"text-align: right;\">\n",
       "      <th></th>\n",
       "      <th>Sicherheit</th>\n",
       "      <th>Sportlichkeit</th>\n",
       "      <th>Komfort</th>\n",
       "      <th>Ausstattung</th>\n",
       "      <th>Total</th>\n",
       "    </tr>\n",
       "  </thead>\n",
       "  <tbody>\n",
       "    <tr>\n",
       "      <td>Mercedes</td>\n",
       "      <td>9</td>\n",
       "      <td>3</td>\n",
       "      <td>6</td>\n",
       "      <td>5</td>\n",
       "      <td>23</td>\n",
       "    </tr>\n",
       "    <tr>\n",
       "      <td>BMW</td>\n",
       "      <td>3</td>\n",
       "      <td>6</td>\n",
       "      <td>3</td>\n",
       "      <td>1</td>\n",
       "      <td>13</td>\n",
       "    </tr>\n",
       "    <tr>\n",
       "      <td>Opel</td>\n",
       "      <td>1</td>\n",
       "      <td>1</td>\n",
       "      <td>2</td>\n",
       "      <td>8</td>\n",
       "      <td>12</td>\n",
       "    </tr>\n",
       "    <tr>\n",
       "      <td>Audi</td>\n",
       "      <td>2</td>\n",
       "      <td>5</td>\n",
       "      <td>4</td>\n",
       "      <td>4</td>\n",
       "      <td>15</td>\n",
       "    </tr>\n",
       "    <tr>\n",
       "      <td>VW</td>\n",
       "      <td>3</td>\n",
       "      <td>3</td>\n",
       "      <td>5</td>\n",
       "      <td>5</td>\n",
       "      <td>16</td>\n",
       "    </tr>\n",
       "    <tr>\n",
       "      <td>Total</td>\n",
       "      <td>18</td>\n",
       "      <td>18</td>\n",
       "      <td>20</td>\n",
       "      <td>23</td>\n",
       "      <td>79</td>\n",
       "    </tr>\n",
       "  </tbody>\n",
       "</table>\n",
       "</div>"
      ],
      "text/plain": [
       "          Sicherheit  Sportlichkeit  Komfort  Ausstattung  Total\n",
       "Mercedes           9              3        6            5     23\n",
       "BMW                3              6        3            1     13\n",
       "Opel               1              1        2            8     12\n",
       "Audi               2              5        4            4     15\n",
       "VW                 3              3        5            5     16\n",
       "Total             18             18       20           23     79"
      ]
     },
     "execution_count": 4,
     "metadata": {},
     "output_type": "execute_result"
    }
   ],
   "source": [
    "df.loc['Total'] = pd.Series(df.sum(axis=0))\n",
    "df['Total'] = pd.Series(df.sum(axis=1))\n",
    "df"
   ]
  },
  {
   "cell_type": "markdown",
   "metadata": {},
   "source": [
    "- Erstellen der relativen Häufigkeitstabelle"
   ]
  },
  {
   "cell_type": "code",
   "execution_count": 4,
   "metadata": {},
   "outputs": [
    {
     "data": {
      "text/plain": [
       "79"
      ]
     },
     "execution_count": 4,
     "metadata": {},
     "output_type": "execute_result"
    }
   ],
   "source": [
    "np.sum(D) # die Fallzahl der Kontingenztabelle (Gesamthäufigkeit)"
   ]
  },
  {
   "cell_type": "code",
   "execution_count": 6,
   "metadata": {},
   "outputs": [
    {
     "data": {
      "text/html": [
       "<div>\n",
       "<style scoped>\n",
       "    .dataframe tbody tr th:only-of-type {\n",
       "        vertical-align: middle;\n",
       "    }\n",
       "\n",
       "    .dataframe tbody tr th {\n",
       "        vertical-align: top;\n",
       "    }\n",
       "\n",
       "    .dataframe thead th {\n",
       "        text-align: right;\n",
       "    }\n",
       "</style>\n",
       "<table border=\"1\" class=\"dataframe\">\n",
       "  <thead>\n",
       "    <tr style=\"text-align: right;\">\n",
       "      <th></th>\n",
       "      <th>Sicherheit</th>\n",
       "      <th>Sportlichkeit</th>\n",
       "      <th>Komfort</th>\n",
       "      <th>Ausstattung</th>\n",
       "      <th>Total</th>\n",
       "    </tr>\n",
       "  </thead>\n",
       "  <tbody>\n",
       "    <tr>\n",
       "      <td>Mercedes</td>\n",
       "      <td>0.113924</td>\n",
       "      <td>0.037975</td>\n",
       "      <td>0.075949</td>\n",
       "      <td>0.063291</td>\n",
       "      <td>0.291139</td>\n",
       "    </tr>\n",
       "    <tr>\n",
       "      <td>BMW</td>\n",
       "      <td>0.037975</td>\n",
       "      <td>0.075949</td>\n",
       "      <td>0.037975</td>\n",
       "      <td>0.012658</td>\n",
       "      <td>0.164557</td>\n",
       "    </tr>\n",
       "    <tr>\n",
       "      <td>Opel</td>\n",
       "      <td>0.012658</td>\n",
       "      <td>0.012658</td>\n",
       "      <td>0.025316</td>\n",
       "      <td>0.101266</td>\n",
       "      <td>0.151899</td>\n",
       "    </tr>\n",
       "    <tr>\n",
       "      <td>Audi</td>\n",
       "      <td>0.025316</td>\n",
       "      <td>0.063291</td>\n",
       "      <td>0.050633</td>\n",
       "      <td>0.050633</td>\n",
       "      <td>0.189873</td>\n",
       "    </tr>\n",
       "    <tr>\n",
       "      <td>VW</td>\n",
       "      <td>0.037975</td>\n",
       "      <td>0.037975</td>\n",
       "      <td>0.063291</td>\n",
       "      <td>0.063291</td>\n",
       "      <td>0.202532</td>\n",
       "    </tr>\n",
       "    <tr>\n",
       "      <td>Total</td>\n",
       "      <td>0.227848</td>\n",
       "      <td>0.227848</td>\n",
       "      <td>0.253165</td>\n",
       "      <td>0.291139</td>\n",
       "      <td>1.000000</td>\n",
       "    </tr>\n",
       "  </tbody>\n",
       "</table>\n",
       "</div>"
      ],
      "text/plain": [
       "          Sicherheit  Sportlichkeit   Komfort  Ausstattung     Total\n",
       "Mercedes    0.113924       0.037975  0.075949     0.063291  0.291139\n",
       "BMW         0.037975       0.075949  0.037975     0.012658  0.164557\n",
       "Opel        0.012658       0.012658  0.025316     0.101266  0.151899\n",
       "Audi        0.025316       0.063291  0.050633     0.050633  0.189873\n",
       "VW          0.037975       0.037975  0.063291     0.063291  0.202532\n",
       "Total       0.227848       0.227848  0.253165     0.291139  1.000000"
      ]
     },
     "execution_count": 6,
     "metadata": {},
     "output_type": "execute_result"
    }
   ],
   "source": [
    "std_df=df/np.sum(D)\n",
    "std_df"
   ]
  },
  {
   "cell_type": "markdown",
   "metadata": {},
   "source": [
    "*In einer Kontingenztabelle werden die gemeinsamen Häufigkeiten der Merkmalsausprägungen von zwei kategorialen Variablen zusammengestellt.*\n",
    "\n",
    "*Die gemeinsamen Häufigkeiten in den Zellen einer Kontingenztabelle sind ein Ausdruck des Zusammenhangs(Korrespondenz) der betreffenden Kombination von Marke und Merkmal.*\n"
   ]
  },
  {
   "cell_type": "markdown",
   "metadata": {},
   "source": [
    "#### Korrespondenzanalyse"
   ]
  },
  {
   "cell_type": "markdown",
   "metadata": {},
   "source": [
    "- Standardisierung der Daten"
   ]
  },
  {
   "cell_type": "markdown",
   "metadata": {},
   "source": [
    "*Die Randverteilungen (marginalen Häufigkeiten) der relativen Kontigenztabelle $p_{i\\cdot}=\\{\\frac{n_{i\\cdot}}{n}\\} , i=1, \\dots, I $ ; $p_{\\cdot j}=\\{\\frac{n_{\\cdot j}}{n}\\} , j=1, \\dots, J$ :*"
   ]
  },
  {
   "cell_type": "code",
   "execution_count": 7,
   "metadata": {},
   "outputs": [],
   "source": [
    "# relative feature frequency\n",
    "pi=np.array(std_df.iloc[:5, 4])\n",
    "pj=np.array(std_df.iloc[5, :4])\n"
   ]
  },
  {
   "cell_type": "markdown",
   "metadata": {},
   "source": [
    "*Die erwarteten relativen Häufigkeiten $\\widehat{e}_{ij}=p_{i\\cdot}\\cdot p_{\\cdot j}$ :*"
   ]
  },
  {
   "cell_type": "code",
   "execution_count": 8,
   "metadata": {},
   "outputs": [
    {
     "data": {
      "text/plain": [
       "array([[0.06633552, 0.06633552, 0.07370614, 0.08476206],\n",
       "       [0.03749399, 0.03749399, 0.04165999, 0.04790899],\n",
       "       [0.03460984, 0.03460984, 0.03845538, 0.04422368],\n",
       "       [0.0432623 , 0.0432623 , 0.04806922, 0.0552796 ],\n",
       "       [0.04614645, 0.04614645, 0.05127383, 0.05896491]])"
      ]
     },
     "execution_count": 8,
     "metadata": {},
     "output_type": "execute_result"
    }
   ],
   "source": [
    "# relative expected frequency\n",
    "e_rel=np.tensordot(pi,pj,axes=0)\n",
    "e_rel"
   ]
  },
  {
   "cell_type": "markdown",
   "metadata": {},
   "source": [
    "*Die erwarteten Häufigkeiten geben an, welche Werte theoretisch bei Unabhängigkeit zwischen Zeilen- und Spaltenmerkmalen zu erwarten wären.*\n"
   ]
  },
  {
   "cell_type": "markdown",
   "metadata": {},
   "source": [
    "*In der Korrespondenzanalyse werden die relativen Häufigkeiten unter Verwendung der erwarteten relativen Häufigkeiten wie folgt standardisiert :*\n",
    "\n",
    "$z_{ij}=\\frac{p_{ij}-\\widehat{e}_{ij}}{\\sqrt{\\widehat{e}_{ij}}}$"
   ]
  },
  {
   "cell_type": "code",
   "execution_count": 9,
   "metadata": {},
   "outputs": [
    {
     "data": {
      "text/html": [
       "<div>\n",
       "<style scoped>\n",
       "    .dataframe tbody tr th:only-of-type {\n",
       "        vertical-align: middle;\n",
       "    }\n",
       "\n",
       "    .dataframe tbody tr th {\n",
       "        vertical-align: top;\n",
       "    }\n",
       "\n",
       "    .dataframe thead th {\n",
       "        text-align: right;\n",
       "    }\n",
       "</style>\n",
       "<table border=\"1\" class=\"dataframe\">\n",
       "  <thead>\n",
       "    <tr style=\"text-align: right;\">\n",
       "      <th></th>\n",
       "      <th>Sicherheit</th>\n",
       "      <th>Sportlichkeit</th>\n",
       "      <th>Komfort</th>\n",
       "      <th>Ausstattung</th>\n",
       "    </tr>\n",
       "  </thead>\n",
       "  <tbody>\n",
       "    <tr>\n",
       "      <td>Mercedes</td>\n",
       "      <td>0.184769</td>\n",
       "      <td>-0.110115</td>\n",
       "      <td>0.008263</td>\n",
       "      <td>-0.073748</td>\n",
       "    </tr>\n",
       "    <tr>\n",
       "      <td>BMW</td>\n",
       "      <td>0.002482</td>\n",
       "      <td>0.198599</td>\n",
       "      <td>-0.018056</td>\n",
       "      <td>-0.161050</td>\n",
       "    </tr>\n",
       "    <tr>\n",
       "      <td>Opel</td>\n",
       "      <td>-0.117996</td>\n",
       "      <td>-0.117996</td>\n",
       "      <td>-0.067001</td>\n",
       "      <td>0.271249</td>\n",
       "    </tr>\n",
       "    <tr>\n",
       "      <td>Audi</td>\n",
       "      <td>-0.086280</td>\n",
       "      <td>0.096294</td>\n",
       "      <td>0.011693</td>\n",
       "      <td>-0.019763</td>\n",
       "    </tr>\n",
       "    <tr>\n",
       "      <td>VW</td>\n",
       "      <td>-0.038041</td>\n",
       "      <td>-0.038041</td>\n",
       "      <td>0.053071</td>\n",
       "      <td>0.017816</td>\n",
       "    </tr>\n",
       "  </tbody>\n",
       "</table>\n",
       "</div>"
      ],
      "text/plain": [
       "          Sicherheit  Sportlichkeit   Komfort  Ausstattung\n",
       "Mercedes    0.184769      -0.110115  0.008263    -0.073748\n",
       "BMW         0.002482       0.198599 -0.018056    -0.161050\n",
       "Opel       -0.117996      -0.117996 -0.067001     0.271249\n",
       "Audi       -0.086280       0.096294  0.011693    -0.019763\n",
       "VW         -0.038041      -0.038041  0.053071     0.017816"
      ]
     },
     "execution_count": 9,
     "metadata": {},
     "output_type": "execute_result"
    }
   ],
   "source": [
    "# relative frequency table\n",
    "z=(std_df.iloc[:5,:4]-e_rel)/np.sqrt(e_rel)\n",
    "z"
   ]
  },
  {
   "cell_type": "markdown",
   "metadata": {},
   "source": [
    "- Extraktion der Dimensionen mit Singulärwertzerlegung"
   ]
  },
  {
   "cell_type": "markdown",
   "metadata": {},
   "source": [
    "*Die standardisiert ($I\\times J$) -Häufigkeitsmatrix $\\mathbf{Z}$ mit Rang $K$ kann gemäß der Singulärwertzerlegung*\n",
    "\n",
    "$\\mathbf{Z}=\\mathbf{U}\\mathbf{D_{\\alpha}}\\mathbf{V}$\n",
    "\n",
    "*dargestellt werden, wobei die Matrix $\\mathbf{D_{\\alpha}}$ eine Diagonalmatrix mit den Singulärwerten $\\alpha_1\\geq \\alpha_2\\geq \\dots \\geq \\alpha_K >0$ ist. Die Matrizen $\\mathbf{U}$ und $\\mathbf{V}$ bestehen aus orthonormalen Vektoren $u_k , k=1 \\dots K$ und $v_k , k=1 \\dots K$*"
   ]
  },
  {
   "cell_type": "code",
   "execution_count": 9,
   "metadata": {},
   "outputs": [
    {
     "data": {
      "text/plain": [
       "array([[-0.14260291,  0.7882021 , -0.18127624, -0.40616749],\n",
       "       [-0.57255134, -0.38333365, -0.43383314, -0.54542495],\n",
       "       [ 0.79472063, -0.19116712, -0.4095449 , -0.39925141],\n",
       "       [-0.10286896, -0.44182602,  0.21978706, -0.0701393 ],\n",
       "       [ 0.09841988, -0.00613706,  0.75026286, -0.61091602]])"
      ]
     },
     "execution_count": 9,
     "metadata": {},
     "output_type": "execute_result"
    }
   ],
   "source": [
    "# Singular Value Decomposition\n",
    "u, d, v = np.linalg.svd(z, full_matrices=False)\n",
    "u # u,v Unitary arrays"
   ]
  },
  {
   "cell_type": "code",
   "execution_count": 10,
   "metadata": {},
   "outputs": [
    {
     "data": {
      "text/plain": [
       "array([[-0.29004091, -0.51182558, -0.09982733,  0.80246205],\n",
       "       [ 0.7378481 , -0.6556009 ,  0.07446989, -0.14220366],\n",
       "       [-0.37895692, -0.28350297,  0.85517494, -0.21140845],\n",
       "       [-0.47733437, -0.47733437, -0.50315461, -0.5395732 ]])"
      ]
     },
     "execution_count": 10,
     "metadata": {},
     "output_type": "execute_result"
    }
   ],
   "source": [
    "v"
   ]
  },
  {
   "cell_type": "code",
   "execution_count": 11,
   "metadata": {},
   "outputs": [
    {
     "data": {
      "text/plain": [
       "array([4.01364388e-01, 2.78641026e-01, 8.90608610e-02, 5.48241531e-17])"
      ]
     },
     "execution_count": 11,
     "metadata": {},
     "output_type": "execute_result"
    }
   ],
   "source": [
    "d # Vector with the singular values"
   ]
  },
  {
   "cell_type": "markdown",
   "metadata": {},
   "source": [
    "*Anteil der Total Inertia (Trägheit): $\\frac{\\alpha_k^2}{T}$, mit $T=\\sum_{k=1}^{K}\\alpha_k^2= {Spur}(\\mathbf{D^2_{\\alpha}})$.*"
   ]
  },
  {
   "cell_type": "code",
   "execution_count": 12,
   "metadata": {},
   "outputs": [
    {
     "data": {
      "text/plain": [
       "array([[6.53082922e-01, 0.00000000e+00, 0.00000000e+00, 0.00000000e+00],\n",
       "       [0.00000000e+00, 3.14760899e-01, 0.00000000e+00, 0.00000000e+00],\n",
       "       [0.00000000e+00, 0.00000000e+00, 3.21561787e-02, 0.00000000e+00],\n",
       "       [0.00000000e+00, 0.00000000e+00, 0.00000000e+00, 1.21852521e-32]])"
      ]
     },
     "execution_count": 12,
     "metadata": {},
     "output_type": "execute_result"
    }
   ],
   "source": [
    "# share of total inertia\n",
    "np.diag(d)*np.diag(d)/np.trace(np.diag(d)*np.diag(d))"
   ]
  },
  {
   "cell_type": "markdown",
   "metadata": {},
   "source": [
    "- Symmetrische Normalisierung der Koordinaten "
   ]
  },
  {
   "cell_type": "raw",
   "metadata": {},
   "source": []
  },
  {
   "cell_type": "markdown",
   "metadata": {},
   "source": [
    "*Die Koordinaten für die Zeilenelemente (Marken): $r_{ik}=u_{ik}\\frac{\\sqrt{\\alpha_k}}{\\sqrt{p_{i\\cdot}}}$.*\n",
    "\n",
    "*Die Koordinaten für die Spaltenelemente (Merkmale): $c_{jk}=v_{jk}\\frac{\\sqrt{\\alpha_k}}{\\sqrt{p_{\\cdot j}}}$*\n"
   ]
  },
  {
   "cell_type": "markdown",
   "metadata": {},
   "source": [
    "Zeilenprofile:"
   ]
  },
  {
   "cell_type": "code",
   "execution_count": 13,
   "metadata": {},
   "outputs": [
    {
     "data": {
      "text/plain": [
       "array([[-1.67435462e-01,  7.71098302e-01, -1.00261442e-01,\n",
       "        -5.57366359e-09],\n",
       "       [-8.94181590e-01, -4.98817110e-01, -3.19159692e-01,\n",
       "        -9.95549450e-09],\n",
       "       [ 1.29183434e+00, -2.58915855e-01, -3.13594104e-01,\n",
       "        -7.58499581e-09],\n",
       "       [-1.49562141e-01, -5.35231587e-01,  1.50526681e-01,\n",
       "        -1.19183267e-09],\n",
       "       [ 1.38549768e-01, -7.19840286e-03,  4.97519888e-01,\n",
       "        -1.00512722e-08]])"
      ]
     },
     "execution_count": 13,
     "metadata": {},
     "output_type": "execute_result"
    }
   ],
   "source": [
    "row_profiles=np.multiply(u*np.sqrt(d),(np.ones((4,1))*(1/np.sqrt(pi))).transpose())\n",
    "row_profiles"
   ]
  },
  {
   "cell_type": "markdown",
   "metadata": {},
   "source": [
    "Spaltenprofile:"
   ]
  },
  {
   "cell_type": "code",
   "execution_count": 14,
   "metadata": {},
   "outputs": [
    {
     "data": {
      "text/plain": [
       "array([[-3.84951465e-01,  8.15956087e-01, -2.36924833e-01,\n",
       "        -7.40433340e-09],\n",
       "       [-6.79311082e-01, -7.25002264e-01, -1.77246781e-01,\n",
       "        -7.40433340e-09],\n",
       "       [-1.25694831e-01,  7.81271181e-02,  5.07220689e-01,\n",
       "        -7.40433340e-09],\n",
       "       [ 9.42200977e-01, -1.39117877e-01, -1.16927162e-01,\n",
       "        -7.40433340e-09]])"
      ]
     },
     "execution_count": 14,
     "metadata": {},
     "output_type": "execute_result"
    }
   ],
   "source": [
    "column_profiles=np.multiply(v.T*np.sqrt(d),(np.ones((4,1))*(1/np.sqrt(pj))).transpose())\n",
    "column_profiles"
   ]
  },
  {
   "cell_type": "markdown",
   "metadata": {},
   "source": [
    "#### Visualisierung der Ergebnisse in zwei Dimensionen"
   ]
  },
  {
   "cell_type": "code",
   "execution_count": 15,
   "metadata": {},
   "outputs": [
    {
     "data": {
      "image/png": "[encoded data removed]",
      "text/plain": [
       "<Figure size 720x720 with 1 Axes>"
      ]
     },
     "metadata": {
      "needs_background": "light"
     },
     "output_type": "display_data"
    }
   ],
   "source": [
    "# plot correspondence analysis outcome\n",
    "fig = plt.figure(figsize=(10,10))\n",
    "ax = plt.subplot(111)\n",
    "plt.xlim((-1.5, 1.5)) \n",
    "plt.ylim((-1.5, 1.5)) \n",
    "rowlabel=['Mercedes','BMW', 'Opel','Audi','VW']\n",
    "columnlabel=['Sicherheit','Sportlichkeit','Komfort','Ausstattung']\n",
    "plt.subplots_adjust(bottom = 0.1)\n",
    "ax.scatter(row_profiles[:, 0], row_profiles[:, 1],marker='x')\n",
    "ax.scatter(column_profiles[:, 0], column_profiles[:, 1],marker='x', c='red')\n",
    "for label, x, y in zip(rowlabel, row_profiles[:, 0], row_profiles[:, 1]):\n",
    "    ax.annotate(\n",
    "        label,\n",
    "        xy = (x, y), \n",
    "        xytext = (-10, 10),\n",
    "        textcoords = 'offset points'\n",
    "    )\n",
    "for label, x, y in zip(columnlabel, column_profiles[:, 0], column_profiles[:, 1]):\n",
    "    ax.annotate(\n",
    "        label,\n",
    "        xy = (x, y), \n",
    "        xytext = (-10, 10),\n",
    "        textcoords = 'offset points'\n",
    "    )\n",
    "hline=plt.axhline(0, linestyle='-', color='k')\n",
    "ax.text(0.9,0.05,'Achse 65.3% Inertia',color='g')\n",
    "plt.axvline(0, linestyle='-', color='k')\n",
    "ax.text(0.05,1.35,'Achse 31.5% Inertia',color='g')\n",
    "ax.text(1.08,-1.4,'Skala 0.2',color='k')\n",
    "ax.plot([1.1,1.3],[-1.3 ,-1.3],'k')\n",
    "ax.plot([1.1, 1.1],[-1.33,-1.27],'-k')\n",
    "ax.plot([1.3, 1.3],[-1.33,-1.27],'-k')\n",
    "X=ax.get_xticks()\n",
    "for i in X:\n",
    "    ax.plot([i, i],[0, 0.02],'-k')\n",
    "Y=ax.get_yticks()\n",
    "for j in Y:\n",
    "    ax.plot([0, 0.02],[j, j],'-k')\n",
    "ax.xaxis.set_ticks_position('bottom')\n",
    "ax.yaxis.set_ticks_position('left')\n",
    "ax.grid(True, which='both')\n",
    "plt.title('Correspondence Analysis', y=1.02, fontsize=20)\n",
    "plt.show()"
   ]
  }
 ],
 "metadata": {
  "kernelspec": {
   "display_name": "Python 3",
   "language": "python",
   "name": "python3"
  },
  "language_info": {
   "codemirror_mode": {
    "name": "ipython",
    "version": 3
   },
   "file_extension": ".py",
   "mimetype": "text/x-python",
   "name": "python",
   "nbconvert_exporter": "python",
   "pygments_lexer": "ipython3",
   "version": "3.7.4"
  }
 },
 "nbformat": 4,
 "nbformat_minor": 4
}
