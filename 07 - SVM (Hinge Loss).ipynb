{
 "cells": [
  {
   "cell_type": "markdown",
   "id": "de66a1bd",
   "metadata": {},
   "source": [
    "# Feature-Based Support Vector Machine using Hinge Loss\n",
    "Here, we will train a feature-based SVM on the two moons dataset using the hinge loss. We will use the L-BFGS-B algorithm, provided by `scipy.optimize` for the optimization. All you need to know about this optimizer is that it is gradient-based. Otherwise, you can treat it as a black box. Yet, it's also worth a closer look if you are interested. \n",
    "\n",
    "We start by loading the data."
   ]
  },
  {
   "cell_type": "code",
   "execution_count": 1,
   "id": "0ed3e703",
   "metadata": {},
   "outputs": [],
   "source": [
    "%matplotlib inline\n",
    "import numpy as np\n",
    "import matplotlib.pyplot as plt\n",
    "import scipy.optimize as opt\n",
    "\n",
    "## load data\n",
    "train_data = dict(np.load(\"two_moons.npz\", allow_pickle=True))\n",
    "train_samples = train_data[\"samples\"]\n",
    "train_labels = train_data[\"labels\"]\n",
    "\n",
    "test_data = dict(np.load(\"two_moons_test.npz\", allow_pickle=True))\n",
    "test_samples = test_data[\"samples\"]\n",
    "test_labels = test_data[\"labels\"]"
   ]
  },
  {
   "cell_type": "markdown",
   "id": "473f6b0c",
   "metadata": {},
   "source": [
    "Opposed to logistic regression, an SVMs work with labels $-1$ and $1$, not $0$ and $1$. So let's change the label of the $0$-class."
   ]
  },
  {
   "cell_type": "code",
   "execution_count": 2,
   "id": "e3868af7",
   "metadata": {},
   "outputs": [],
   "source": [
    "# we need to change the labels for class 0 to -1 to account for the different labels used by an SVM \n",
    "train_labels_svm = train_labels.copy()\n",
    "train_labels_svm[train_labels_svm == 0] = -1 \n",
    "# we need to change the labels for class 0 to -1 to account for the different labels used by an SVM \n",
    "test_labels_svm = test_labels.copy()\n",
    "test_labels_svm[test_labels_svm == 0] = -1"
   ]
  },
  {
   "cell_type": "markdown",
   "id": "64dcd644",
   "metadata": {},
   "source": [
    "Let's also visualize the data once more. "
   ]
  },
  {
   "cell_type": "code",
   "execution_count": 3,
   "id": "36056491",
   "metadata": {},
   "outputs": [
    {
     "data": {
      "text/plain": [
       "<matplotlib.legend.Legend at 0x7f8e35da9910>"
      ]
     },
     "execution_count": 3,
     "metadata": {},
     "output_type": "execute_result"
    },
    {
     "data": {
      "image/png": "[encoded data removed]",
      "text/plain": [
       "<Figure size 864x360 with 2 Axes>"
      ]
     },
     "metadata": {
      "needs_background": "light"
     },
     "output_type": "display_data"
    }
   ],
   "source": [
    "\n",
    "## plot data\n",
    "plt.figure(figsize = (12, 5))\n",
    "plt.subplot(1, 2, 1)\n",
    "plt.grid(\"on\")\n",
    "plt.xlim(-1.5, 2.5)\n",
    "plt.ylim(-1, 1.5)\n",
    "plt.title(\"Train Data\")\n",
    "plt.scatter(x=train_samples[train_labels_svm == -1, 0], \n",
    "            y=train_samples[train_labels_svm == -1, 1], label=\"c=-1\", c=\"blue\")\n",
    "plt.scatter(x=train_samples[train_labels_svm == 1, 0], \n",
    "            y=train_samples[train_labels_svm == 1, 1], label=\"c=1\", c=\"orange\")\n",
    "\n",
    "plt.legend()\n",
    "plt.subplot(1, 2, 2)\n",
    "plt.grid(\"on\")\n",
    "plt.xlim(-1.5, 2.5)\n",
    "plt.ylim(-1, 1.5)\n",
    "plt.title(\"Test Data\")\n",
    "plt.scatter(x=test_samples[test_labels_svm == -1, 0], \n",
    "            y=test_samples[test_labels_svm == -1, 1], label=\"c=-1\", c=\"blue\")\n",
    "plt.scatter(x=test_samples[test_labels_svm == 1, 0],\n",
    "            y=test_samples[test_labels_svm == 1, 1], label=\"c=1\", c=\"orange\")\n",
    "\n",
    "plt.legend()"
   ]
  },
  {
   "cell_type": "markdown",
   "id": "ec56694e",
   "metadata": {},
   "source": [
    "We use cubic features $\\phi(\\boldsymbol x)$, as we previously saw that they work quite well or the two moons data. Let us define a function to compute those features."
   ]
  },
  {
   "cell_type": "code",
   "execution_count": 4,
   "id": "c31e2fe3",
   "metadata": {},
   "outputs": [],
   "source": [
    "def cubic_feature_fn(samples: np.ndarray) -> np.ndarray:\n",
    "    \"\"\"\n",
    "    :param x: Batch of 2D data vectors [x, y] [N x dim]\n",
    "    :return cubic features: [x**3, y**3, x**2 * y, x * y**2, x**2, y**2, x*y, x, y, 1]\n",
    "    \"\"\"\n",
    "    x = samples[..., 0]\n",
    "    y = samples[..., 1]\n",
    "    return np.stack([x**3, y**3, x**2 * y, x * y**2, x**2, y**2, x*y, x, y, np.ones(x.shape[0])], axis=-1)"
   ]
  },
  {
   "cell_type": "markdown",
   "id": "3b8d0a13",
   "metadata": {},
   "source": [
    "## Hinge Loss Objective\n",
    "\n",
    "First, we need to implement the hinge loss objective. Its given by \n",
    " $$\\mathcal{L}_{\\boldsymbol{X}, \\boldsymbol{y}}(\\boldsymbol w) = \\parallel \\boldsymbol{w} \\parallel^2 + C \\sum_i^N  \\max \\left( 0, 1 - y_i \\boldsymbol{w}^T \\phi(\\boldsymbol{x}_i) \\right),$$\n",
    " where $\\boldsymbol{w}$ are our model parameters, $\\phi(\\boldsymbol{x})$ are our cubic features and the $y_i \\in \\lbrace{-1, 1\\rbrace}$ are the class labels. \n",
    " "
   ]
  },
  {
   "cell_type": "code",
   "execution_count": 5,
   "id": "819a1f5c",
   "metadata": {},
   "outputs": [],
   "source": [
    "def objective_svm(weights: np.ndarray, \n",
    "                  features: np.ndarray,\n",
    "                  labels: np.ndarray, \n",
    "                  slack_regularizer: float) -> float:\n",
    "    \"\"\"\n",
    "    objective for svm training with hinge loss\n",
    "    :param weights: current weights to evaluate (shape: [feature_dim])\n",
    "    :param features: features of training samples (shape:[N x feature_dim])\n",
    "    :param labels: class labels corresponding to train samples (shape: [N])\n",
    "    :param slack_regularizer: factor to weigh the violation of margin with (C in slides)\n",
    "    :returns svm (hinge) objective (shape: scalar)\n",
    "    \"\"\"\n",
    "    predictions = features @ weights\n",
    "    hinge_loss = np.sum(np.maximum(0, 1 - labels * predictions))\n",
    "    reg_loss = np.dot(weights, weights) \n",
    "    return reg_loss + slack_regularizer * hinge_loss"
   ]
  },
  {
   "cell_type": "markdown",
   "id": "3cb0eac9",
   "metadata": {},
   "source": [
    "##  Hinge Loss Gradient\n",
    "\n",
    "As we want to use gradient based optimization, we clearly also need the gradient of the hinge loss w.r.t. the parameters $\\boldsymbol{w}$. This gradient is given by \n",
    "\n",
    "$$\\dfrac{\\partial \\mathcal{L}_{\\boldsymbol{X},  \\boldsymbol{y}}(\\boldsymbol{w})}{\\partial\\boldsymbol{w}} = 2\\boldsymbol{w} + C \\sum_i^N d_{\\mathrm{hinge}, i} $$ \n",
    " with $$d_{\\mathrm{hinge}, i} = - y_i \\phi(\\boldsymbol{x}_i) \\quad \\text{if} \\quad y_i \\boldsymbol{w}^T \\phi(\\boldsymbol{x}_i) < 1  \\quad \\text{else} \\quad 0 $$\n",
    " \n",
    "**Note:** we set the subgradient at the non-differentiable point to 0. You can also replace $<$ in the last line by $\\leq$, i.e., choose the subgradient to be $- y_i \\phi(\\boldsymbol{x}_i)$ at the non-differentiable point. Anything in between would also be a valid subgradient, but only unnecessarily complicate things as the chance of ending up at exactly that point is zero anyway)."
   ]
  },
  {
   "cell_type": "code",
   "execution_count": 6,
   "id": "395ea132",
   "metadata": {},
   "outputs": [],
   "source": [
    "def d_objective_svm(weights: np.ndarray, features: np.ndarray, labels: np.ndarray, slack_regularizer: float) -> np.ndarray:\n",
    "    \"\"\"\n",
    "    gradient of objective for svm training with hinge loss\n",
    "    :param weights: current weights to evaluate (shape: [feature_dim])\n",
    "    :param features: features of training samples (shape: [N x feature_dim])\n",
    "    :param labels: class labels corresponding to train samples (shape: [N])\n",
    "    :param slack_regularizer: factor to weigh the violation of margin with (C in slides)\n",
    "    :returns gradient of svm objective (shape: [feature_dim])\n",
    "    \"\"\"\n",
    "    l = np.expand_dims(labels * (features @ weights), 1)\n",
    "    d_hinge = np.sum(np.where(l < 1, - np.expand_dims(labels, 1) * features, 0), axis=0)\n",
    "    return 2 * weights + slack_regularizer * d_hinge"
   ]
  },
  {
   "cell_type": "markdown",
   "id": "ad97f758",
   "metadata": {},
   "source": [
    "## Logistic Regression Loss and Gradient (for later comparision)\n",
    "\n",
    "This is copied from the first exercise. The only change is a ridge term, which was introduced to make the optimization stable "
   ]
  },
  {
   "cell_type": "code",
   "execution_count": 7,
   "id": "9b22c63c",
   "metadata": {},
   "outputs": [],
   "source": [
    "def sigmoid(x: np.ndarray) -> np.ndarray:\n",
    "    \"\"\"\n",
    "    the sigmoid function\n",
    "    :param x: inputs \n",
    "    :return sigma(x)\n",
    "    \"\"\"\n",
    "    return 1 / (1 + np.exp(-x))\n",
    "\n",
    "def bernoulli_nll(predictions: np.ndarray, labels: np.ndarray, epsilon: float = 1e-12) -> np.ndarray:\n",
    "    \"\"\"\n",
    "    :param predictions: output of the classifier, shape: [N]\n",
    "    :param labels: true labels of the samples, shape: [N]\n",
    "    :param epsilon: small offset to avoid numerical instabilities (i.e log(0))\n",
    "    :return negative log-likelihood of the labels given the predictions\n",
    "    \"\"\"\n",
    "    return - (labels * np.log(predictions + epsilon) + (1 - labels) * np.log(1 - predictions + epsilon))\n",
    "\n",
    "def objective_bern(weights: np.ndarray, \n",
    "                   features: np.ndarray,\n",
    "                   labels: np.ndarray,\n",
    "                   ridge_factor: float) -> float:\n",
    "    \"\"\"\n",
    "    bernoulli log-likelihood objective \n",
    "    :param weights: current weights to evaluate, shape: [feature_dim]\n",
    "    :param features: train samples, shape: [N x feature_dim]\n",
    "    :param labels: class labels corresponding to train samples, shape: [N]\n",
    "    :return average negative log-likelihood \n",
    "    \"\"\"\n",
    "    predictions = sigmoid(features @ weights)\n",
    "    return np.mean(bernoulli_nll(predictions, labels)) + ridge_factor * np.dot(weights, weights)\n",
    "\n",
    "def d_objective_bern(weights: np.ndarray, \n",
    "                     features: np.ndarray,\n",
    "                     labels: np.ndarray,\n",
    "                     ridge_factor: float) -> np.ndarray:\n",
    "    \"\"\"\n",
    "    gradient of the bernoulli log-likelihood objective\n",
    "    :param weights: current weights to evaluate, shape: [feature_dim]\n",
    "    :param features: train samples, shape: [N x feature_dim]\n",
    "    :param labels: class labels corresponding to train samples, shape [N]\n",
    "    \"\"\"\n",
    "    res = np.expand_dims(sigmoid(features @ weights) - labels, -1)\n",
    "    grad = features.T @ res / res.shape[0] \n",
    "    return np.squeeze(grad) + 2 * ridge_factor * weights"
   ]
  },
  {
   "cell_type": "markdown",
   "id": "035cbf2f",
   "metadata": {},
   "source": [
    "## Fitting the SVM\n",
    "\n",
    "Lets start by computing the features from the samples"
   ]
  },
  {
   "cell_type": "code",
   "execution_count": 8,
   "id": "571477b6",
   "metadata": {},
   "outputs": [],
   "source": [
    "train_features = cubic_feature_fn(train_samples)\n"
   ]
  },
  {
   "cell_type": "markdown",
   "id": "b8d5775c",
   "metadata": {},
   "source": [
    "We can now tie everything together and use the l-bfgs-b optimizer to train our SVM"
   ]
  },
  {
   "cell_type": "code",
   "execution_count": 9,
   "id": "0f8d5e27",
   "metadata": {},
   "outputs": [
    {
     "name": "stdout",
     "output_type": "stream",
     "text": [
      "============== SVM Optimization ==============\n",
      "      fun: 138.94762839879172\n",
      " hess_inv: <10x10 LbfgsInvHessProduct with dtype=float64>\n",
      "      jac: array([  9.88758733,  -6.67403411,  -8.13826761,   8.95280199,\n",
      "       -14.59256399,   1.05047901,   0.24072588,  -3.9179521 ,\n",
      "        -3.05001914,   5.32371973])\n",
      "  message: 'CONVERGENCE: REL_REDUCTION_OF_F_<=_FACTR*EPSMCH'\n",
      "     nfev: 467\n",
      "      nit: 66\n",
      "     njev: 467\n",
      "   status: 0\n",
      "  success: True\n",
      "        x: array([ 4.94379366, -3.33701706, -4.0691338 ,  4.476401  , -7.29628199,\n",
      "        0.52523951,  0.12036294, -1.95897605, -1.52500957,  2.66185986])\n"
     ]
    }
   ],
   "source": [
    "C = 1000.0\n",
    "## optimization (for details cf. https://docs.scipy.org/doc/scipy/reference/optimize.minimize-lbfgsb.html)\n",
    "print (\"============== SVM Optimization ==============\")\n",
    "res_svm = opt.minimize(\n",
    "    # pass objective\n",
    "    fun=lambda w: objective_svm(w, train_features, train_labels_svm, C),\n",
    "    # pass initial point              \n",
    "    x0=np.ones(train_features.shape[-1]),\n",
    "    # pass function to evaluate gradient (in scipy.opt \"jac\" for jacobian)\n",
    "    jac=lambda w: d_objective_svm(w, train_features, train_labels_svm, C),\n",
    "    # specify method to use\n",
    "    method=\"l-bfgs-b\"\n",
    ")\n",
    "print(res_svm)\n",
    "w_svm = res_svm.x"
   ]
  },
  {
   "cell_type": "markdown",
   "id": "6347bcd1",
   "metadata": {},
   "source": [
    "We also use l-bfgs-b to implement fit a classifier using logistic regression in order to compare the two "
   ]
  },
  {
   "cell_type": "code",
   "execution_count": 10,
   "id": "be00388a",
   "metadata": {},
   "outputs": [
    {
     "name": "stdout",
     "output_type": "stream",
     "text": [
      "============== Logistic Regression Optimization ==============\n",
      "      fun: 1.3701884465047168e-02\n",
      " hess_inv: <10x10 LbfgsInvHessProduct with dtype=float64>\n",
      "      jac: array([-1.16954300e-06,  6.14618030e-06,  2.29506806e-06,  4.38151039e-06,\n",
      "       -1.36733525e-06,  3.08310941e-07,  5.87691367e-06,  1.48996270e-07,\n",
      "       -1.71739882e-06,  3.21452970e-06])\n",
      "  message: 'CONVERGENCE: NORM_OF_PROJECTED_GRADIENT_<=_PGTOL'\n",
      "     nfev: 45\n",
      "      nit: 40\n",
      "     njev: 45\n",
      "   status: 0\n",
      "  success: True\n",
      "        x: array([ 11.77295312, -10.22962283,  -8.37308184,  10.84879294,\n",
      "       -15.7630531 ,   1.44413897,  -0.23433277,  -7.37537741,\n",
      "        -5.59098737,   7.85406193])\n"
     ]
    }
   ],
   "source": [
    "print (\"============== Logistic Regression Optimization ==============\")\n",
    "res_logistic_regression = opt.minimize(\n",
    "    # pass objective\n",
    "    fun=lambda w: objective_bern(w, train_features, train_labels, 1e-5),\n",
    "    # pass initial point              \n",
    "    x0=np.ones(train_features.shape[-1]),\n",
    "    # pass function to evaluate gradient (in scipy.opt \"jac\" for jacobian)\n",
    "    jac=lambda w: d_objective_bern(w, train_features, train_labels, 1e-5),\n",
    "    # specify method to use\n",
    "    method=\"l-bfgs-b\"\n",
    ")\n",
    "print(res_logistic_regression)\n",
    "w_lr = res_logistic_regression.x\n"
   ]
  },
  {
   "cell_type": "markdown",
   "id": "8de2d28b",
   "metadata": {},
   "source": [
    "### Evaluation "
   ]
  },
  {
   "cell_type": "code",
   "execution_count": 11,
   "id": "258a6b99",
   "metadata": {},
   "outputs": [
    {
     "name": "stdout",
     "output_type": "stream",
     "text": [
      "============== SVM Results ==============\n",
      "Train Accuracy:  1.0\n",
      "Test Accuracy:  0.98\n"
     ]
    }
   ],
   "source": [
    "## evaluation \n",
    "print (\"============== SVM Results ==============\")\n",
    "\n",
    "train_predictions_svm = cubic_feature_fn(train_samples) @ w_svm\n",
    "predicted_train_labels_svm = np.ones(train_predictions_svm.shape)\n",
    "predicted_train_labels_svm[train_predictions_svm < 0] = -1\n",
    "print(\"Train Accuracy: \", np.count_nonzero(predicted_train_labels_svm == train_labels_svm) / len(train_labels_svm))\n",
    "\n",
    "test_predictions_svm = cubic_feature_fn(test_samples) @ w_svm\n",
    "predicted_test_labels_svm = np.ones(test_predictions_svm.shape)\n",
    "predicted_test_labels_svm[test_predictions_svm < 0] = -1\n",
    "print(\"Test Accuracy: \", np.count_nonzero(predicted_test_labels_svm == test_labels_svm) / len(test_labels_svm))"
   ]
  },
  {
   "cell_type": "code",
   "execution_count": 12,
   "id": "bb0e3650",
   "metadata": {},
   "outputs": [
    {
     "name": "stdout",
     "output_type": "stream",
     "text": [
      "============== Logistic Regression Results ==============\n",
      "Train Accuracy:  1.0\n",
      "Test Accuracy:  1.0\n"
     ]
    }
   ],
   "source": [
    "## evaluation \n",
    "print (\"============== Logistic Regression Results ==============\")\n",
    "train_predictions_lr = sigmoid(cubic_feature_fn(train_samples) @ w_lr)\n",
    "predicted_train_labels_lr = np.ones(train_predictions_lr.shape)\n",
    "predicted_train_labels_lr[train_predictions_lr < 0.5] = 0\n",
    "print(\"Train Accuracy: \", np.count_nonzero(predicted_train_labels_lr == train_labels) / len(train_labels))\n",
    "\n",
    "test_predictions_lr = sigmoid(cubic_feature_fn(test_samples) @ w_lr)\n",
    "predicted_test_labels_lr = np.ones(test_predictions_lr.shape)\n",
    "predicted_test_labels_lr[test_predictions_lr < 0.5] = 0\n",
    "print(\"Test Accuracy: \", np.count_nonzero(predicted_test_labels_lr == test_labels) / len(test_labels))"
   ]
  },
  {
   "cell_type": "markdown",
   "id": "eb26fe0e",
   "metadata": {},
   "source": [
    "### Plotting "
   ]
  },
  {
   "cell_type": "code",
   "execution_count": 13,
   "id": "475679d7",
   "metadata": {},
   "outputs": [
    {
     "data": {
      "image/png": "[encoded data removed]",
      "text/plain": [
       "<Figure size 720x360 with 4 Axes>"
      ]
     },
     "metadata": {
      "needs_background": "light"
     },
     "output_type": "display_data"
    }
   ],
   "source": [
    "\n",
    "## plot train, contour, decision boundary and margins \n",
    "\n",
    "x_plt_range = np.arange(-1.5, 2.5, 0.01)\n",
    "y_plt_range = np.arange(-1, 1.5, 0.01)\n",
    "plt_grid = np.stack(np.meshgrid(x_plt_range, y_plt_range), axis=-1)\n",
    "flat_plt_grid = np.reshape(plt_grid, [-1, 2])\n",
    "plt_grid_shape = plt_grid.shape[:2]\n",
    "\n",
    "plt.figure(figsize=(10, 5))\n",
    "############### Plot SVM Result ###################\n",
    "\n",
    "plt.subplot(1, 2, 1)\n",
    "plt.title(\"Max Margin Solution (Predictions clipped at(-5, 5))\")\n",
    "\n",
    "pred_grid_svm = np.reshape(cubic_feature_fn(flat_plt_grid) @ w_svm, plt_grid_shape)\n",
    "pred_grid_svm = np.clip(pred_grid_svm, -5, 5)\n",
    "plt.contour(plt_grid[..., 0], plt_grid[..., 1], pred_grid_svm,\n",
    "            levels=[-1, 0, 1], colors=('blue', 'black', 'orange'), linestyles=('-',), linewidths=(2,))\n",
    "plt.contourf(plt_grid[..., 0], plt_grid[..., 1], pred_grid_svm, levels=10)\n",
    "\n",
    "plt.colorbar()\n",
    "\n",
    "s0 =plt.scatter(x=train_samples[train_labels_svm == -1, 0],\n",
    "                y=train_samples[train_labels_svm == -1, 1], label=\"c=-1\", c=\"blue\")\n",
    "s1 =plt.scatter(x=train_samples[train_labels_svm == 1, 0], \n",
    "                y=train_samples[train_labels_svm == 1, 1], label=\"c=1\", c=\"orange\")\n",
    "plt.legend()\n",
    "\n",
    "plt.xlim(-1.5, 2.5)\n",
    "plt.ylim(-1, 1.5)\n",
    "\n",
    "############### Plot Logistic Regression Result ###################\n",
    "plt.subplot(1, 2, 2)\n",
    "plt.title(\"Logistic Regression Solution\")\n",
    "\n",
    "pred_grid_lr = np.reshape(sigmoid(cubic_feature_fn(flat_plt_grid) @ w_lr), plt_grid_shape)\n",
    "plt.contour(plt_grid[..., 0], plt_grid[..., 1], pred_grid_lr,\n",
    "            levels=[0, 0.5, 1], colors=('blue', 'black', 'orange'), linestyles=('-',), linewidths=(2,))\n",
    "plt.contourf(plt_grid[..., 0], plt_grid[..., 1], pred_grid_lr, levels=10)\n",
    "\n",
    "plt.colorbar()\n",
    "\n",
    "s0 =plt.scatter(x=train_samples[train_labels == 0, 0],\n",
    "                y=train_samples[train_labels == 0, 1], label=\"c=0\", c=\"blue\")\n",
    "s1 =plt.scatter(x=train_samples[train_labels == 1, 0], \n",
    "                y=train_samples[train_labels == 1, 1], label=\"c=1\", c=\"orange\")\n",
    "plt.legend()\n",
    "\n",
    "plt.xlim(-1.5, 2.5)\n",
    "plt.ylim(-1, 1.5)\n",
    "\n",
    "plt.show()"
   ]
  },
  {
   "cell_type": "code",
   "execution_count": null,
   "id": "f1e96a9b",
   "metadata": {},
   "outputs": [],
   "source": []
  }
 ],
 "metadata": {
  "kernelspec": {
   "display_name": "Python 3 (ipykernel)",
   "language": "python",
   "name": "python3"
  },
  "language_info": {
   "codemirror_mode": {
    "name": "ipython",
    "version": 3
   },
   "file_extension": ".py",
   "mimetype": "text/x-python",
   "name": "python",
   "nbconvert_exporter": "python",
   "pygments_lexer": "ipython3",
   "version": "3.9.7"
  }
 },
 "nbformat": 4,
 "nbformat_minor": 5
}
