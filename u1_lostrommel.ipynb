{
 "cells": [
  {
   "cell_type": "markdown",
   "metadata": {
    "slideshow": {
     "slide_type": "slide"
    }
   },
   "source": [
    "# WT-Übung 1 - Aufgabe 5\n",
    "100 Lose, davon 20 Gewinne, davon ein Hauptgewinn. Es werden vier Lose gezogen.\n",
    "\n",
    "- A = {Hauptgewinn wird gezogen}\n",
    "- B = {mindestens ein Gewinn}\n",
    "- C = {höchstens ein Gewinn}\n",
    "- D = {genau ein Nebengewinn}"
   ]
  },
  {
   "cell_type": "code",
   "execution_count": 44,
   "metadata": {
    "slideshow": {
     "slide_type": "-"
    }
   },
   "outputs": [],
   "source": [
    "niete, nebengewinn, hauptgewinn = 'N', 'G', 'H'\n",
    "lostrommel = [hauptgewinn] + 19 * [nebengewinn] + 80 * [niete]\n",
    "assert len(lostrommel) == 100"
   ]
  },
  {
   "cell_type": "markdown",
   "metadata": {
    "slideshow": {
     "slide_type": "slide"
    }
   },
   "source": [
    "## Lösung\n",
    "Gesucht ist die Wahrscheinlichkeit für die Ereignisse A, B, C und D. Hier wird die relative Häufigkeit als Schätzer verwendet (siehe Satz 7.8-2)."
   ]
  },
  {
   "cell_type": "code",
   "execution_count": 49,
   "metadata": {
    "collapsed": true,
    "slideshow": {
     "slide_type": "-"
    }
   },
   "outputs": [],
   "source": [
    "# Indikatorfunktionen für Ereignisse\n",
    "event_checks = dict(\n",
    "    A = lambda: hauptgewinn in draw,\n",
    "    B = lambda: draw != 4 * [niete],\n",
    "    C = lambda: sum(los != niete for los in draw) <= 1,\n",
    "    D = lambda: sorted(draw) == [nebengewinn, niete, niete, niete]\n",
    ")\n",
    "\n",
    "# Anzahl der Versuche\n",
    "N = 100000\n",
    "# Zähler für absolute Häufigkeiten der Ereignisse bei N Versuchen\n",
    "\n",
    "# Ausgabe\n",
    "def show_events():\n",
    "    return ' '.join(event if event in events else '_' \n",
    "                    for event in sorted(event_checks))"
   ]
  },
  {
   "cell_type": "markdown",
   "metadata": {
    "slideshow": {
     "slide_type": "slide"
    }
   },
   "source": [
    "Nun wird für N zufällige Ziehungen gezählt, wie häufig die jeweiligen Ergnissen eintreten."
   ]
  },
  {
   "cell_type": "code",
   "execution_count": 50,
   "metadata": {
    "scrolled": true,
    "slideshow": {
     "slide_type": "-"
    }
   },
   "outputs": [
    {
     "name": "stdout",
     "output_type": "stream",
     "text": [
      " n     Lose     Ereignisse\n",
      "───────────────────────────\n",
      " 0    N N N N    _ _ C _ \n",
      " 1    G G N N    _ B _ _ \n",
      " 2    N N G N    _ B C D \n",
      " 3    N N G N    _ B C D \n",
      " 4    N N G N    _ B C D \n",
      " 5    N N G N    _ B C D \n",
      " 6    N N N N    _ _ C _ \n",
      " 7    N N G N    _ B C D \n",
      " 8    G N N G    _ B _ _ \n",
      " 9    N N N N    _ _ C _ \n",
      " ...\n"
     ]
    }
   ],
   "source": [
    "from collections import defaultdict\n",
    "from itertools import product\n",
    "from random import sample\n",
    "\n",
    "print(\" n     Lose     Ereignisse\\n───────────────────────────\")\n",
    "event_counters = defaultdict(int)\n",
    "for n in range(N):  # Versuch n = 0 ... (N-1)\n",
    "    # zufällige Auswahl von 4 Losen\n",
    "    draw = sample(lostrommel, 4)\n",
    "    # prüfe ob Ereignis A, B, C, D eintritt\n",
    "    events = [name for name, check in event_checks.items() if check()]\n",
    "    # Zähler für eingetretene Ereignisse inkrementieren\n",
    "    for name in events: event_counters[name] += 1\n",
    "    # Ausgabe\n",
    "    if n < 10:\n",
    "        print(\"{:^3d} {:^11} {:^9}\".format(n, ' '.join(draw), show_events()))\n",
    "    elif n == 10:\n",
    "        print(\" ...\")"
   ]
  },
  {
   "cell_type": "markdown",
   "metadata": {
    "slideshow": {
     "slide_type": "slide"
    }
   },
   "source": [
    "## Ergebnis\n",
    "Aus den so bestimmten absoluten Häufigkeiten werden schließlich die zugehötigen relativen Häufigkeiten gebildet"
   ]
  },
  {
   "cell_type": "code",
   "execution_count": 47,
   "metadata": {
    "slideshow": {
     "slide_type": "-"
    }
   },
   "outputs": [
    {
     "name": "stdout",
     "output_type": "stream",
     "text": [
      "H(A) =  4035/100000 = 0.040\n",
      "H(B) = 59612/100000 = 0.596\n",
      "H(C) = 82096/100000 = 0.821\n",
      "H(D) = 39572/100000 = 0.396\n"
     ]
    }
   ],
   "source": [
    "for name, count in sorted(event_counters.items()):\n",
    "    print(\"H({}) = {:5d}/{} = {:.03f}\".format(name, count, N, count / N))"
   ]
  }
 ],
 "metadata": {
  "kernelspec": {
   "display_name": "Python 3 (Spyder)",
   "language": "python3",
   "name": "python3"
  },
  "language_info": {
   "codemirror_mode": {
    "name": "ipython",
    "version": 3
   },
   "file_extension": ".py",
   "mimetype": "text/x-python",
   "name": "python",
   "nbconvert_exporter": "python",
   "pygments_lexer": "ipython3",
   "version": "3.6.6"
  }
 },
 "nbformat": 4,
 "nbformat_minor": 1
}
