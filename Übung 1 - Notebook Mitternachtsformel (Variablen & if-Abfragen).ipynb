{
 "cells": [
  {
   "cell_type": "markdown",
   "metadata": {},
   "source": [
    "# Berechnung von Nullstellen quadratischer Funktionen\n",
    "\n",
    "Die Nullstellen der quadratischen Funktion \\\\( f(x) = 2x^2 + 7x + 4 \\\\) sind nach der Mitternachtsformel gegeben durch\n",
    "\n",
    "\\\\[ x_1 = \\frac{-7 + \\sqrt{7^2 - 4\\cdot2\\cdot4}}{2\\cdot2} \\qquad und \\qquad x_2 = \\frac{-7 - \\sqrt{7^2 - 4\\cdot2\\cdot4}}{2\\cdot2.} \\\\]\n",
    "\n",
    "Berechnen Sie die Werte (Dezimaldarstellung) der beiden Nullstellen mit Python."
   ]
  },
  {
   "cell_type": "markdown",
   "metadata": {},
   "source": [
    "**Hinweis:** \n",
    "- Das Quadrat einer Zahl x erhält man in Python durch `x**2`.\n",
    "- Für die Wurzelfunktion braucht man das Python-Paket `numpy`, das wir immer über `import numpy as np` einbinden. Die Wurzel erhält man dann durch `np.sqrt(...)`."
   ]
  },
  {
   "cell_type": "code",
   "execution_count": 25,
   "metadata": {},
   "outputs": [],
   "source": [
    "import numpy as np"
   ]
  },
  {
   "cell_type": "code",
   "execution_count": 26,
   "metadata": {},
   "outputs": [
    {
     "name": "stdout",
     "output_type": "stream",
     "text": [
      "-0.7192235935955849\n",
      "-2.7807764064044154\n"
     ]
    }
   ],
   "source": [
    "print( ( -7 + np.sqrt(7**2 - 4*2*4) )/( 2*2 ) )\n",
    "print( ( -7 - np.sqrt(7**2 - 4*2*4) )/( 2*2 ) )"
   ]
  },
  {
   "cell_type": "markdown",
   "metadata": {},
   "source": [
    "Was, wenn wir nun die Nullstellen der Funktion \\\\( f(x) = x^2 + 7x + 4 \\\\) berechnen wollen, also den Koeffizient vor \\\\(x^2\\\\) ändern? Dann müssen wir in der obigen Gleichung suchen, an welchen Stellen dieser Koeffizient eingeflossen ist und dort den Wert ändern.\n",
    "\n",
    "Doch das geht auch deutlich geschickter mit der Verwendung von Variablen! Alle Werte, die man irgendwann in Zukunft womöglich einmal ändern könnte, definiert man zu Beginn des Programms als Variablen, und verwendet dann in den Berechnungen diese Variablen anstelle derer konkreten Werte.\n",
    "\n",
    "Die Funktion  \\\\( f(x) = x^2 + 7x + 4 \\\\) kann man zum Beispiel als allgemeine quadratische Funktion  \\\\( f(x) = ax^2 + bx + c \\\\) mit den Werten \\\\( a=1, b=7, c=4 \\\\) auffassen. Für eine allgemeine quadratische Funktion sind die Nullstellen nach der Mitternachtsformel durch\n",
    "\n",
    "\\\\[ x_1 = \\frac{-b + \\sqrt{b^2 - 4ac}}{2a} \\qquad und \\qquad x_2 = \\frac{-b - \\sqrt{b^2 - 4ac}}{2a} \\\\]\n",
    "\n",
    "gegeben."
   ]
  },
  {
   "cell_type": "code",
   "execution_count": 38,
   "metadata": {
    "scrolled": true
   },
   "outputs": [
    {
     "name": "stdout",
     "output_type": "stream",
     "text": [
      "-0.7192235935955849\n",
      "-2.7807764064044154\n"
     ]
    }
   ],
   "source": [
    "a = 2\n",
    "b = 7\n",
    "c = 4\n",
    "print( ( -b + np.sqrt(b**2 - 4*a*c) )/( 2*a ) )\n",
    "print( ( -b - np.sqrt(b**2 - 4*a*c) )/( 2*a ) )"
   ]
  },
  {
   "cell_type": "markdown",
   "metadata": {},
   "source": [
    "Wenn wir jetzt die Koeffizienten der quadratischen Funktion noch einmal ändern möchten, können wir das ganz einfach zu Beginn des Programms tun."
   ]
  },
  {
   "cell_type": "markdown",
   "metadata": {},
   "source": [
    "Für \\\\(a=4, b=7, c=4\\\\) erhalten wir eine Fehlermeldung, weil ein negativer Wert in der Wurzel steht. Für \\\\(a=4, b=8, c=4\\\\) erhalten wir zwei mal die Lösung \\\\(-1\\\\), weil unter der Wurzel der Wert \\\\(0\\\\) steht. Um auch in solchen Fällen eine brauchbare Ausgabe zu erhalten, können wir mit einer zusätzlichen 'if' Abfrage überprüfen, ob die Diskriminante \\\\( b^2 - 4ac \\\\) positiv, null oder negativ ist."
   ]
  },
  {
   "cell_type": "code",
   "execution_count": 46,
   "metadata": {},
   "outputs": [
    {
     "name": "stdout",
     "output_type": "stream",
     "text": [
      "Zwei Nullstellen:\n",
      "-0.7192235935955849\n",
      "-2.7807764064044154\n"
     ]
    }
   ],
   "source": [
    "a = 2\n",
    "b = 7\n",
    "c = 4\n",
    "diskriminante = b**2 - 4*a*c\n",
    "if diskriminante > 0:\n",
    "    print('Zwei Nullstellen:')\n",
    "    print( ( -b + np.sqrt(diskriminante) )/( 2*a ) )\n",
    "    print( ( -b - np.sqrt(diskriminante) )/( 2*a ) )\n",
    "elif diskriminante == 0:\n",
    "    print('Eine Nullstelle:')\n",
    "    print( ( -b + np.sqrt(diskriminante) )/( 2*a ) )\n",
    "else:\n",
    "    print('Keine Nullstellen')"
   ]
  },
  {
   "cell_type": "markdown",
   "metadata": {},
   "source": [
    "Für \\\\(a = 0\\\\) erhalten wir weiterhin eine Fehlermeldung, da wir dann in der Mitternachtsformel durch Null teilen würden. Im Fall \\\\(a = 0\\\\) (Gerade anstatt quadratischer Funktion) reduziert sich die Nullstellensuche stattdessen auf die Gleichung \\\\(bx+c=0\\\\), deren Lösung für \\\\(b\\neq0\\\\) durch \\\\(-\\frac{c}{b} \\\\) gegeben ist. Für \\\\(a=0\\\\) und \\\\(b=0\\\\) (Konstante Funktion statt beliebiger Gerade) reduziert sich die Gleichung weiter auf \\\\(c=0\\\\). Auch diese Fälle können wir durch zusätzliche `if`Abfragen abfangen.\n",
    "\n",
    "**Hinweis:** Gleichheit zweier Zahlen \\\\(a\\\\) und \\\\(b\\\\) prüft man in Python durch `a == b`, Ungleichheit durch `a != b`."
   ]
  },
  {
   "cell_type": "code",
   "execution_count": 45,
   "metadata": {},
   "outputs": [
    {
     "name": "stdout",
     "output_type": "stream",
     "text": [
      "Zwei Nullstellen:\n",
      "-0.7192235935955849\n",
      "-2.7807764064044154\n"
     ]
    }
   ],
   "source": [
    "a = 2\n",
    "b = 7\n",
    "c = 4\n",
    "if a == 0:\n",
    "    if b==0:\n",
    "        if c==0:\n",
    "            print('Funktion ist überall 0')\n",
    "        else:\n",
    "            print('Funktion ist konstant, aber nicht 0')\n",
    "    else:\n",
    "        print('Gerade mit einer Nullstelle:')\n",
    "        print( -c/b )\n",
    "else:\n",
    "    diskriminante = b**2 - 4*a*c\n",
    "    if diskriminante > 0:\n",
    "        print('Zwei Nullstellen:')\n",
    "        print( ( -b + np.sqrt(diskriminante) )/( 2*a ) )\n",
    "        print( ( -b - np.sqrt(diskriminante) )/( 2*a ) )\n",
    "    elif diskriminante == 0:\n",
    "        print('Eine Nullstelle:')\n",
    "        print( ( -b + np.sqrt(diskriminante) )/( 2*a ) )\n",
    "    else:\n",
    "        print('Keine Nullstellen')"
   ]
  },
  {
   "cell_type": "code",
   "execution_count": null,
   "metadata": {},
   "outputs": [],
   "source": []
  }
 ],
 "metadata": {
  "kernelspec": {
   "display_name": "Python 3",
   "language": "python",
   "name": "python3"
  },
  "language_info": {
   "codemirror_mode": {
    "name": "ipython",
    "version": 3
   },
   "file_extension": ".py",
   "mimetype": "text/x-python",
   "name": "python",
   "nbconvert_exporter": "python",
   "pygments_lexer": "ipython3",
   "version": "3.8.3"
  }
 },
 "nbformat": 4,
 "nbformat_minor": 4
}
