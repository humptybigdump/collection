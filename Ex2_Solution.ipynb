{
 "cells": [
  {
   "cell_type": "markdown",
   "id": "0ad80d5c",
   "metadata": {},
   "source": [
    "First, let try leveinstehn distance without backtracking. At this time, we use the transcript \"Ich esse am liebsten Schokolade mit Reis\" and the reference \"Ich esse am liebsten Schokoladeneis\". The below function <code>levenshtein </code> get two string as the input and return the table of levenshtein distance. \n",
    "<p><img src=\"leveinshtein.png\" alt=\"leveinshtein\" title=\"leveinshtein\" />"
   ]
  },
  {
   "cell_type": "code",
   "execution_count": 26,
   "id": "888af003",
   "metadata": {},
   "outputs": [],
   "source": [
    "import numpy as np\n",
    "transcript = [\"Ich\", \"esse\", \"am\", \"liebsten\", \"Schokolade\", \"mit\" ,\"Reis\"]\n",
    "reference = [\"Ich\",\"esse\",\"am\",\"liebsten\",\"Schokoladeneis\"]\n",
    "def levenshtein(s1,s2):\n",
    "     \n",
    "    distances = np.zeros((len(s1) + 1, len(s2) + 1))\n",
    "    #TODO\n",
    "    for t1 in range(len(s1) + 1):\n",
    "        distances[t1][0] = t1\n",
    "\n",
    "    for t2 in range(len(s2) + 1):\n",
    "        distances[0][t2] = t2\n",
    "        \n",
    "    for t1 in range(1, len(s1) + 1):\n",
    "        for t2 in range(1, len(s2) + 1):\n",
    "            if (s1[t1-1] == s2[t2-1]):\n",
    "                distances[t1][t2] = distances[t1 - 1][t2 - 1]\n",
    "            else:\n",
    "                a = distances[t1][t2 - 1]\n",
    "                b = distances[t1 - 1][t2]\n",
    "                c = distances[t1 - 1][t2 - 1]\n",
    "                \n",
    "                if (a <= b and a <= c):\n",
    "                    distances[t1][t2] = a + 1\n",
    "                elif (b <= a and b <= c):\n",
    "                    distances[t1][t2] = b + 1\n",
    "                else:\n",
    "                    distances[t1][t2] = c + 1\n",
    "        \n",
    "    ###\n",
    "    return distances"
   ]
  },
  {
   "cell_type": "code",
   "execution_count": 29,
   "id": "fdbe3420",
   "metadata": {},
   "outputs": [
    {
     "data": {
      "text/plain": [
       "array([[0., 1., 2., 3., 4., 5., 6., 7.],\n",
       "       [1., 0., 1., 2., 3., 4., 5., 6.],\n",
       "       [2., 1., 0., 1., 2., 3., 4., 5.],\n",
       "       [3., 2., 1., 0., 1., 2., 3., 4.],\n",
       "       [4., 3., 2., 1., 0., 1., 2., 3.],\n",
       "       [5., 4., 3., 2., 1., 1., 2., 3.]])"
      ]
     },
     "execution_count": 29,
     "metadata": {},
     "output_type": "execute_result"
    }
   ],
   "source": [
    "levenshtein(reference, transcript)"
   ]
  },
  {
   "attachments": {},
   "cell_type": "markdown",
   "id": "f864926f",
   "metadata": {},
   "source": [
    "the result should be:\n",
    "\n",
    "([[0., 1., 2., 3., 4., 5., 6., 7.], <br/>\n",
    " [1., 0., 1., 2., 3., 4., 5., 6.], <br/>\n",
    " [2., 1., 0., 1., 2., 3., 4., 5.], <br/>\n",
    " [3., 2., 1., 0., 1., 2., 3., 4.], <br/>\n",
    " [4., 3., 2., 1., 0., 1., 2., 3.], <br/>\n",
    " [5., 4., 3., 2., 1., 1., 2., 3.]]) <br/>"
   ]
  },
  {
   "cell_type": "markdown",
   "id": "d049ed70",
   "metadata": {},
   "source": [
    "But with this table, we don't know how to align the transcript. The below function  <code> levenshtein_with_backtracking </code> returns both distance table and alignment table. In the alignment table, \"C\",\"D\",\"S\",\"I\" stands for \"Correct\", \"Delete\", \"Subtitute\", \"Insert\" respectively"
   ]
  },
  {
   "cell_type": "code",
   "execution_count": 87,
   "id": "416fe50b",
   "metadata": {},
   "outputs": [],
   "source": [
    "def levenshtein_with_backtracking(s1,s2):\n",
    "     \n",
    "    distances = np.zeros((len(s1) + 1, len(s2) + 1))\n",
    "    align = np.chararray((len(s1) + 1, len(s2) + 1))\n",
    "  \n",
    "    for t1 in range(len(s1) + 1):\n",
    "        distances[t1][0] = t1\n",
    "        align[t1][0] = \"I\"\n",
    "    for t2 in range(len(s2) + 1):\n",
    "        distances[0][t2] = t2\n",
    "        align[0][t2] = \"D\"\n",
    "    align[0][0] = \"C\"\n",
    "    \n",
    "    #TODO\n",
    "  \n",
    "    for t1 in range(1, len(s1) + 1):\n",
    "        path = []\n",
    "        for t2 in range(1, len(s2) + 1):\n",
    "            if (s1[t1-1] == s2[t2-1]):\n",
    "                distances[t1][t2] = distances[t1 - 1][t2 - 1]\n",
    "                align[t1][t2] = \"C\"\n",
    "            else:\n",
    "                a = distances[t1][t2 - 1]\n",
    "                b = distances[t1 - 1][t2]\n",
    "                c = distances[t1 - 1][t2 - 1]\n",
    "                \n",
    "                if (a <= b and a <= c):\n",
    "                    distances[t1][t2] = a + 1\n",
    "                    align[t1][t2] = \"D\"\n",
    "                elif (b <= a and b <= c):\n",
    "                    distances[t1][t2] = b + 1\n",
    "                    align[t1][t2] = \"I\" \n",
    "                else:\n",
    "                    distances[t1][t2] = c + 1\n",
    "                    align[t1][t2] = \"S\"\n",
    "        \n",
    "    ###\n",
    "    return distances, align"
   ]
  },
  {
   "cell_type": "code",
   "execution_count": 88,
   "id": "ee864626",
   "metadata": {},
   "outputs": [
    {
     "data": {
      "text/plain": [
       "chararray([[b'C', b'D', b'D', b'D', b'D', b'D', b'D', b'D'],\n",
       "           [b'I', b'C', b'D', b'D', b'D', b'D', b'D', b'D'],\n",
       "           [b'I', b'I', b'C', b'D', b'D', b'D', b'D', b'D'],\n",
       "           [b'I', b'I', b'I', b'C', b'D', b'D', b'D', b'D'],\n",
       "           [b'I', b'I', b'I', b'I', b'C', b'D', b'D', b'D'],\n",
       "           [b'I', b'I', b'I', b'I', b'I', b'S', b'D', b'D']], dtype='|S1')"
      ]
     },
     "execution_count": 88,
     "metadata": {},
     "output_type": "execute_result"
    }
   ],
   "source": [
    "\n",
    "## Get the alignment table\n",
    "align = levenshtein_with_backtraking(reference, transcript)[1]\n",
    "align"
   ]
  },
  {
   "cell_type": "markdown",
   "id": "abcf9d5a",
   "metadata": {},
   "source": [
    "The result should be:"
   ]
  },
  {
   "cell_type": "markdown",
   "id": "82a0bbe4",
   "metadata": {},
   "source": [
    "chararray([[b'C', b'D', b'D', b'D', b'D', b'D', b'D', b'D'], <br/>\n",
    "           [b'I', b'C', b'D', b'D', b'D', b'D', b'D', b'D'], <br/>\n",
    "           [b'I', b'I', b'C', b'D', b'D', b'D', b'D', b'D'], <br/>\n",
    "           [b'I', b'I', b'I', b'C', b'D', b'D', b'D', b'D'], <br/>\n",
    "           [b'I', b'I', b'I', b'I', b'C', b'D', b'D', b'D'], <br/>\n",
    "           [b'I', b'I', b'I', b'I', b'I', b'S', b'D', b'D']] <br/>"
   ]
  },
  {
   "cell_type": "markdown",
   "id": "5b1762cc",
   "metadata": {},
   "source": [
    "After we get the alignment table, we have to track the path from the last entry of table to the first entry of table"
   ]
  },
  {
   "cell_type": "code",
   "execution_count": 92,
   "id": "2a3ed06b",
   "metadata": {},
   "outputs": [
    {
     "name": "stdout",
     "output_type": "stream",
     "text": [
      "[b'C', b'C', b'C', b'C', b'S', b'D', b'D']\n"
     ]
    }
   ],
   "source": [
    "steps = []\n",
    "current_index = len(reference) , len(transcript)\n",
    "current_step = align[current_index[0], current_index[1]] # start with the last entry of table\n",
    "steps.append(current_step)\n",
    "\n",
    "while(True):\n",
    "    ### TODO\n",
    "    if current_step == b'D':\n",
    "        current_index = current_index[0], current_index[1] -1\n",
    "    elif current_step == b'S' or  current_step == b'C' :\n",
    "        current_index = current_index[0] - 1, current_index[1] -1\n",
    "    elif current_step == b'I':\n",
    "        current_index = current_index[0] - 1, current_index[1]\n",
    "        \n",
    "    if current_index[0] == 0 and current_index[1] == 0:\n",
    "        break\n",
    "   \n",
    "    current_step = align[current_index[0], current_index[1]]\n",
    "    steps.append(current_step)\n",
    "    ###\n",
    "print(steps[::-1]) ## Reverse steps to get the"
   ]
  },
  {
   "cell_type": "markdown",
   "id": "0f9bd15a",
   "metadata": {},
   "source": [
    "The result should be\n",
    "[b'C', b'C', b'C', b'C', b'S', b'D', b'D']"
   ]
  },
  {
   "cell_type": "markdown",
   "id": "817a9246",
   "metadata": {},
   "source": [
    "Finally, we got the aligment between transcript and reference Ich (Correct) esse(Correct) am (Correct) liebsten (Correct) Schokolade (Subtitute) mit (Delete) Reis (Delete)"
   ]
  },
  {
   "cell_type": "code",
   "execution_count": null,
   "id": "30ea8a7a",
   "metadata": {},
   "outputs": [],
   "source": []
  },
  {
   "cell_type": "code",
   "execution_count": null,
   "id": "b53a4111",
   "metadata": {},
   "outputs": [],
   "source": []
  }
 ],
 "metadata": {
  "kernelspec": {
   "display_name": "Python 3",
   "language": "python",
   "name": "python3"
  },
  "language_info": {
   "codemirror_mode": {
    "name": "ipython",
    "version": 3
   },
   "file_extension": ".py",
   "mimetype": "text/x-python",
   "name": "python",
   "nbconvert_exporter": "python",
   "pygments_lexer": "ipython3",
   "version": "3.8.8"
  }
 },
 "nbformat": 4,
 "nbformat_minor": 5
}
