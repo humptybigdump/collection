{
 "cells": [
  {
   "cell_type": "markdown",
   "id": "bd5c9fb5-7036-4850-848a-168d60a8706a",
   "metadata": {},
   "source": [
    "# Quantitative methods - part 1"
   ]
  },
  {
   "cell_type": "markdown",
   "id": "a0b18b28-f9f7-4e52-b9fc-e6ca7814aabf",
   "metadata": {},
   "source": [
    "Today we are going to perform basic statistical analysis of scrapped data and visualize their distributions."
   ]
  },
  {
   "cell_type": "markdown",
   "id": "d1e89f35-925c-4dd4-b04d-c9e7bb623d97",
   "metadata": {},
   "source": [
    "## Terms"
   ]
  },
  {
   "cell_type": "markdown",
   "id": "ea226073-9139-4e8c-b0d1-9d94646a21b8",
   "metadata": {},
   "source": [
    "For better understanging the topic, firstly let's introduce some terminology used when talking about statistical analysis."
   ]
  },
  {
   "cell_type": "markdown",
   "id": "46010926-e9c1-4e36-b3f8-7643126fb87b",
   "metadata": {
    "tags": []
   },
   "source": [
    "### Population"
   ]
  },
  {
   "cell_type": "markdown",
   "id": "805e476b-130c-4ea1-8e8b-2dc8a491d90c",
   "metadata": {},
   "source": [
    "A population is a set of similar items or events which is of interest for some question or experiment. It is the entire group you want to draw conclusions about.\n",
    "\n",
    "The number of elements, which belong to population, is usually denoted with $N$.\n",
    "\n",
    "Examples:\n",
    "\n",
    "* the number of citizens living in California represents a population of the state\n",
    "* all the chess players who have FIDE rating represents the population of the chess fraternity of the world\n",
    "* the number of planets in the entire universe represents the planet population of the entire universe\n"
   ]
  },
  {
   "cell_type": "markdown",
   "id": "3fad4294-6da5-4a7c-9199-38024c3436d7",
   "metadata": {},
   "source": [
    "### Sample"
   ]
  },
  {
   "cell_type": "markdown",
   "id": "2f2ffeec-bc32-4655-b432-595322ff8f2f",
   "metadata": {},
   "source": [
    "A sample is a subset of individuals from within a statistical population to estimate characteristics of the whole population. \n",
    "\n",
    "Examples:\n",
    "\n",
    " * 1000 people met randomly on streets of California cities is a sample of California population\n",
    " * 100 chess players randomly selected from FIDE rating list is a sample of chess players\n",
    " * planets from the Solar system is a sample of planets in the universe\n",
    "\n",
    "Process of selecting samples from population is called sampling. The main problem, statisticians struggle, is to collect samples that are representative for the entire population. For instance planets from the Solar system are not quite representative for all planets in the universe."
   ]
  },
  {
   "cell_type": "markdown",
   "id": "118f0754-f071-41cd-bb9b-34a84a8d2ad6",
   "metadata": {},
   "source": [
    "### Distribution"
   ]
  },
  {
   "cell_type": "markdown",
   "id": "4d662c2f-c081-4d4b-9e22-06d71e9ca855",
   "metadata": {},
   "source": [
    "A distribution in statistics is a function that shows the possible values for a variable and how often they occur.\n",
    "A variable can be:\n",
    "\n",
    "* discrete - adopt values of a given numerical set, that is, it only acquires values from a set, not just any value (e.g. number of apples in the box)\n",
    "* continuous - acquire any value in an interval, there are always existing intermediate values between two observable value (e.g mass of apples in the box)\n",
    "\n",
    "A histogram is a way to approximately represent the distribution of numerical data."
   ]
  },
  {
   "cell_type": "markdown",
   "id": "83f6356b-c864-4132-bb0a-871a197906af",
   "metadata": {},
   "source": [
    "## Basic statistical analysis"
   ]
  },
  {
   "cell_type": "markdown",
   "id": "0f327c62-dedb-46c8-9af2-8ca1fd66a599",
   "metadata": {},
   "source": [
    "### Input - loading data"
   ]
  },
  {
   "cell_type": "markdown",
   "id": "297bdf46-0253-4bdf-ae89-c2cd5c05a427",
   "metadata": {},
   "source": [
    "During the classes we will work on the numerical data obtained from YouTube and Twitter. The first step is to load the previously scraped data. I recommend to put working files in subdirectory `data_scraped` and read them as follows:"
   ]
  },
  {
   "cell_type": "code",
   "execution_count": 1,
   "id": "5bef7fb4-8934-4b28-a33e-627b907c181f",
   "metadata": {},
   "outputs": [],
   "source": [
    "# importing pandas to get access for its methods\n",
    "import pandas as pd\n",
    "\n",
    "# reading json files\n",
    "youtube_data_civilis = pd.read_json('data_scraped/historia_civilis_metadata.json')\n",
    "youtube_data_buffs = pd.read_json('data_scraped/history_buffs_london_metadata.json')"
   ]
  },
  {
   "cell_type": "markdown",
   "id": "c3821ee3-d3db-4851-8cfb-d7c8f780bf3b",
   "metadata": {},
   "source": [
    "Here we used library Pandas, which has many builtin utilities for reading files and storing the content in Pandas Data Frames (similar to tables in Excel). Data is stored in objects with descriptive names (e.g. `youtube_data_civilis`). After loading data it is always a good idea to check a size of the table and a few rows to inspect the format of data. You can achieve this using the following code:"
   ]
  },
  {
   "cell_type": "code",
   "execution_count": 2,
   "id": "c9df1e7c-623e-4913-bcfe-fb088964b757",
   "metadata": {
    "tags": []
   },
   "outputs": [
    {
     "data": {
      "text/plain": [
       "(81, 11)"
      ]
     },
     "execution_count": 2,
     "metadata": {},
     "output_type": "execute_result"
    }
   ],
   "source": [
    "youtube_data_civilis.shape  # shows number of rows and columns in table"
   ]
  },
  {
   "cell_type": "code",
   "execution_count": 3,
   "id": "2ecc928a-0d20-443f-8622-5fea2c35de4b",
   "metadata": {
    "collapsed": true,
    "jupyter": {
     "outputs_hidden": true
    },
    "tags": []
   },
   "outputs": [
    {
     "data": {
      "text/html": [
       "<div>\n",
       "<style scoped>\n",
       "    .dataframe tbody tr th:only-of-type {\n",
       "        vertical-align: middle;\n",
       "    }\n",
       "\n",
       "    .dataframe tbody tr th {\n",
       "        vertical-align: top;\n",
       "    }\n",
       "\n",
       "    .dataframe thead th {\n",
       "        text-align: right;\n",
       "    }\n",
       "</style>\n",
       "<table border=\"1\" class=\"dataframe\">\n",
       "  <thead>\n",
       "    <tr style=\"text-align: right;\">\n",
       "      <th></th>\n",
       "      <th>id</th>\n",
       "      <th>title</th>\n",
       "      <th>author</th>\n",
       "      <th>description</th>\n",
       "      <th>keywords</th>\n",
       "      <th>thumbnail</th>\n",
       "      <th>published_at</th>\n",
       "      <th>channel_id</th>\n",
       "      <th>duration</th>\n",
       "      <th>view_count</th>\n",
       "      <th>like_count</th>\n",
       "    </tr>\n",
       "  </thead>\n",
       "  <tbody>\n",
       "    <tr>\n",
       "      <th>0</th>\n",
       "      <td>OGJHE6O7Mhk</td>\n",
       "      <td>The Congress of Vienna (Part 2) (1814 to 1815)</td>\n",
       "      <td>Historia Civilis</td>\n",
       "      <td>Patreon | http://historiacivilis.com/patreon\\n...</td>\n",
       "      <td>[Historia Civilis, History, The Congress of Vi...</td>\n",
       "      <td>https://i.ytimg.com/vi/OGJHE6O7Mhk/hqdefault.j...</td>\n",
       "      <td>2022-04-02</td>\n",
       "      <td>UCv_vLHiWVBh_FR9vbeuiY-A</td>\n",
       "      <td>3072</td>\n",
       "      <td>618838</td>\n",
       "      <td>29819</td>\n",
       "    </tr>\n",
       "    <tr>\n",
       "      <th>1</th>\n",
       "      <td>QtOXq9SwarQ</td>\n",
       "      <td>The Congress of Vienna (Part 1) (1814)</td>\n",
       "      <td>Historia Civilis</td>\n",
       "      <td>Patreon | http://historiacivilis.com/patreon\\n...</td>\n",
       "      <td>[Historia Civilis, History, Metternich, Castle...</td>\n",
       "      <td>https://i.ytimg.com/vi/QtOXq9SwarQ/maxresdefau...</td>\n",
       "      <td>2022-01-29</td>\n",
       "      <td>UCv_vLHiWVBh_FR9vbeuiY-A</td>\n",
       "      <td>2806</td>\n",
       "      <td>1247060</td>\n",
       "      <td>42165</td>\n",
       "    </tr>\n",
       "    <tr>\n",
       "      <th>2</th>\n",
       "      <td>CH1oYhTigyA</td>\n",
       "      <td>Peace...? (1814)</td>\n",
       "      <td>Historia Civilis</td>\n",
       "      <td>Patreon | http://historiacivilis.com/patreon\\n...</td>\n",
       "      <td>[Historia Civilis]</td>\n",
       "      <td>https://i.ytimg.com/vi/CH1oYhTigyA/maxresdefau...</td>\n",
       "      <td>2021-07-18</td>\n",
       "      <td>UCv_vLHiWVBh_FR9vbeuiY-A</td>\n",
       "      <td>1159</td>\n",
       "      <td>651466</td>\n",
       "      <td>37789</td>\n",
       "    </tr>\n",
       "    <tr>\n",
       "      <th>3</th>\n",
       "      <td>POHNhn3WcCc</td>\n",
       "      <td>Antony's Invasion of Parthia (42 to 33 B.C.E.)</td>\n",
       "      <td>Historia Civilis</td>\n",
       "      <td>Patreon | http://historiacivilis.com/patreon\\n...</td>\n",
       "      <td>[]</td>\n",
       "      <td>https://i.ytimg.com/vi/POHNhn3WcCc/maxresdefau...</td>\n",
       "      <td>2021-04-24</td>\n",
       "      <td>UCv_vLHiWVBh_FR9vbeuiY-A</td>\n",
       "      <td>1824</td>\n",
       "      <td>962848</td>\n",
       "      <td>34896</td>\n",
       "    </tr>\n",
       "    <tr>\n",
       "      <th>4</th>\n",
       "      <td>8rt67AqrR74</td>\n",
       "      <td>Sextus Pompeius and the Sicilian War (42 to 36...</td>\n",
       "      <td>Historia Civilis</td>\n",
       "      <td>Patreon | http://historiacivilis.com/patreon\\n...</td>\n",
       "      <td>[Historia Civilis, Ancient Rome, Octavian, Aug...</td>\n",
       "      <td>https://i.ytimg.com/vi/8rt67AqrR74/maxresdefau...</td>\n",
       "      <td>2021-01-16</td>\n",
       "      <td>UCv_vLHiWVBh_FR9vbeuiY-A</td>\n",
       "      <td>2291</td>\n",
       "      <td>1216442</td>\n",
       "      <td>39687</td>\n",
       "    </tr>\n",
       "  </tbody>\n",
       "</table>\n",
       "</div>"
      ],
      "text/plain": [
       "            id                                              title  \\\n",
       "0  OGJHE6O7Mhk     The Congress of Vienna (Part 2) (1814 to 1815)   \n",
       "1  QtOXq9SwarQ             The Congress of Vienna (Part 1) (1814)   \n",
       "2  CH1oYhTigyA                                   Peace...? (1814)   \n",
       "3  POHNhn3WcCc     Antony's Invasion of Parthia (42 to 33 B.C.E.)   \n",
       "4  8rt67AqrR74  Sextus Pompeius and the Sicilian War (42 to 36...   \n",
       "\n",
       "             author                                        description  \\\n",
       "0  Historia Civilis  Patreon | http://historiacivilis.com/patreon\\n...   \n",
       "1  Historia Civilis  Patreon | http://historiacivilis.com/patreon\\n...   \n",
       "2  Historia Civilis  Patreon | http://historiacivilis.com/patreon\\n...   \n",
       "3  Historia Civilis  Patreon | http://historiacivilis.com/patreon\\n...   \n",
       "4  Historia Civilis  Patreon | http://historiacivilis.com/patreon\\n...   \n",
       "\n",
       "                                            keywords  \\\n",
       "0  [Historia Civilis, History, The Congress of Vi...   \n",
       "1  [Historia Civilis, History, Metternich, Castle...   \n",
       "2                                 [Historia Civilis]   \n",
       "3                                                 []   \n",
       "4  [Historia Civilis, Ancient Rome, Octavian, Aug...   \n",
       "\n",
       "                                           thumbnail published_at  \\\n",
       "0  https://i.ytimg.com/vi/OGJHE6O7Mhk/hqdefault.j...   2022-04-02   \n",
       "1  https://i.ytimg.com/vi/QtOXq9SwarQ/maxresdefau...   2022-01-29   \n",
       "2  https://i.ytimg.com/vi/CH1oYhTigyA/maxresdefau...   2021-07-18   \n",
       "3  https://i.ytimg.com/vi/POHNhn3WcCc/maxresdefau...   2021-04-24   \n",
       "4  https://i.ytimg.com/vi/8rt67AqrR74/maxresdefau...   2021-01-16   \n",
       "\n",
       "                 channel_id  duration  view_count  like_count  \n",
       "0  UCv_vLHiWVBh_FR9vbeuiY-A      3072      618838       29819  \n",
       "1  UCv_vLHiWVBh_FR9vbeuiY-A      2806     1247060       42165  \n",
       "2  UCv_vLHiWVBh_FR9vbeuiY-A      1159      651466       37789  \n",
       "3  UCv_vLHiWVBh_FR9vbeuiY-A      1824      962848       34896  \n",
       "4  UCv_vLHiWVBh_FR9vbeuiY-A      2291     1216442       39687  "
      ]
     },
     "execution_count": 3,
     "metadata": {},
     "output_type": "execute_result"
    }
   ],
   "source": [
    "youtube_data_civilis[0:5]  # shows first five rows"
   ]
  },
  {
   "cell_type": "markdown",
   "id": "56444acd-4483-4b06-98a5-cc59be46df88",
   "metadata": {},
   "source": [
    "You can also check the whole Data Frame, which usually is very long (so it is not really convienient):"
   ]
  },
  {
   "cell_type": "code",
   "execution_count": null,
   "id": "dcfc12a4-d5cd-42fc-9b23-c2d336969ca1",
   "metadata": {
    "collapsed": true,
    "jupyter": {
     "outputs_hidden": true
    },
    "tags": []
   },
   "outputs": [
    {
     "data": {
      "text/html": [
       "<div>\n",
       "<style scoped>\n",
       "    .dataframe tbody tr th:only-of-type {\n",
       "        vertical-align: middle;\n",
       "    }\n",
       "\n",
       "    .dataframe tbody tr th {\n",
       "        vertical-align: top;\n",
       "    }\n",
       "\n",
       "    .dataframe thead th {\n",
       "        text-align: right;\n",
       "    }\n",
       "</style>\n",
       "<table border=\"1\" class=\"dataframe\">\n",
       "  <thead>\n",
       "    <tr style=\"text-align: right;\">\n",
       "      <th></th>\n",
       "      <th>id</th>\n",
       "      <th>title</th>\n",
       "      <th>author</th>\n",
       "      <th>description</th>\n",
       "      <th>keywords</th>\n",
       "      <th>thumbnail</th>\n",
       "      <th>published_at</th>\n",
       "      <th>channel_id</th>\n",
       "      <th>duration</th>\n",
       "      <th>view_count</th>\n",
       "      <th>like_count</th>\n",
       "    </tr>\n",
       "  </thead>\n",
       "  <tbody>\n",
       "    <tr>\n",
       "      <th>0</th>\n",
       "      <td>ONpEHXEtTPc</td>\n",
       "      <td>History Buffs: Narcos Season One - Part Two</td>\n",
       "      <td>History Buffs</td>\n",
       "      <td>You can join Nebula today and get Curiosity St...</td>\n",
       "      <td>[pablo escobar, wagner moura, nick hodges, his...</td>\n",
       "      <td>https://i.ytimg.com/vi/ONpEHXEtTPc/hqdefault.j...</td>\n",
       "      <td>2022-04-17</td>\n",
       "      <td>UCggHoXaj8BQHIiPmOxezeWA</td>\n",
       "      <td>2183</td>\n",
       "      <td>607037</td>\n",
       "      <td>29358</td>\n",
       "    </tr>\n",
       "    <tr>\n",
       "      <th>1</th>\n",
       "      <td>9gPBVdNhfCI</td>\n",
       "      <td>History Buffs: Narcos Season One - Part One</td>\n",
       "      <td>History Buffs</td>\n",
       "      <td>You can join Nebula today and get Curiosity St...</td>\n",
       "      <td>[pablo escobar, wagner moura, history buffs, p...</td>\n",
       "      <td>https://i.ytimg.com/vi_webp/9gPBVdNhfCI/maxres...</td>\n",
       "      <td>2022-04-10</td>\n",
       "      <td>UCggHoXaj8BQHIiPmOxezeWA</td>\n",
       "      <td>2424</td>\n",
       "      <td>919260</td>\n",
       "      <td>37777</td>\n",
       "    </tr>\n",
       "    <tr>\n",
       "      <th>2</th>\n",
       "      <td>ATF5ju0rpE4</td>\n",
       "      <td>History Buffs: The Last of the Mohicans</td>\n",
       "      <td>History Buffs</td>\n",
       "      <td>Hey guys, hope everyone is doing well. For thi...</td>\n",
       "      <td>[History Buffs, Nick Hodges, The Last of the M...</td>\n",
       "      <td>https://i.ytimg.com/vi/ATF5ju0rpE4/maxresdefau...</td>\n",
       "      <td>2021-11-06</td>\n",
       "      <td>UCggHoXaj8BQHIiPmOxezeWA</td>\n",
       "      <td>3136</td>\n",
       "      <td>1259957</td>\n",
       "      <td>42604</td>\n",
       "    </tr>\n",
       "    <tr>\n",
       "      <th>3</th>\n",
       "      <td>uZGGn2ZfGZo</td>\n",
       "      <td>History Buffs: Midway Part Two</td>\n",
       "      <td>History Buffs</td>\n",
       "      <td>As promised here is Part Two of my Midway revi...</td>\n",
       "      <td>[History Buffs, Nick Hodges, Midway, Midway Pa...</td>\n",
       "      <td>https://i.ytimg.com/vi/uZGGn2ZfGZo/maxresdefau...</td>\n",
       "      <td>2021-05-28</td>\n",
       "      <td>UCggHoXaj8BQHIiPmOxezeWA</td>\n",
       "      <td>2124</td>\n",
       "      <td>2026634</td>\n",
       "      <td>60026</td>\n",
       "    </tr>\n",
       "    <tr>\n",
       "      <th>4</th>\n",
       "      <td>4qQim09n6mY</td>\n",
       "      <td>History Buffs: Midway Part One</td>\n",
       "      <td>History Buffs</td>\n",
       "      <td>Thank you guys so much for your patience. Quar...</td>\n",
       "      <td>[History Buffs, Nick Hodges, Midway, Pearl Har...</td>\n",
       "      <td>https://i.ytimg.com/vi/4qQim09n6mY/maxresdefau...</td>\n",
       "      <td>2021-05-21</td>\n",
       "      <td>UCggHoXaj8BQHIiPmOxezeWA</td>\n",
       "      <td>1863</td>\n",
       "      <td>2405777</td>\n",
       "      <td>63462</td>\n",
       "    </tr>\n",
       "    <tr>\n",
       "      <th>...</th>\n",
       "      <td>...</td>\n",
       "      <td>...</td>\n",
       "      <td>...</td>\n",
       "      <td>...</td>\n",
       "      <td>...</td>\n",
       "      <td>...</td>\n",
       "      <td>...</td>\n",
       "      <td>...</td>\n",
       "      <td>...</td>\n",
       "      <td>...</td>\n",
       "      <td>...</td>\n",
       "    </tr>\n",
       "    <tr>\n",
       "      <th>81</th>\n",
       "      <td>6ABJVrRfr2Q</td>\n",
       "      <td>History Buffs: We Were Soldiers</td>\n",
       "      <td>History Buffs</td>\n",
       "      <td>https://www.facebook.com/HistoryBuffsLondon\\nh...</td>\n",
       "      <td>[History (TV Genre), History Buffs, We Were So...</td>\n",
       "      <td>https://i.ytimg.com/vi_webp/6ABJVrRfr2Q/maxres...</td>\n",
       "      <td>2015-08-01</td>\n",
       "      <td>UCggHoXaj8BQHIiPmOxezeWA</td>\n",
       "      <td>1519</td>\n",
       "      <td>4668980</td>\n",
       "      <td>65311</td>\n",
       "    </tr>\n",
       "    <tr>\n",
       "      <th>82</th>\n",
       "      <td>HC4o_pT9de8</td>\n",
       "      <td>What bothers me in Historical Movies</td>\n",
       "      <td>History Buffs</td>\n",
       "      <td>Next episode of History Buffs will be uploaded...</td>\n",
       "      <td>[History Buffs, History Buffs Podcast]</td>\n",
       "      <td>https://i.ytimg.com/vi_webp/HC4o_pT9de8/maxres...</td>\n",
       "      <td>2015-07-27</td>\n",
       "      <td>UCggHoXaj8BQHIiPmOxezeWA</td>\n",
       "      <td>593</td>\n",
       "      <td>123699</td>\n",
       "      <td>3669</td>\n",
       "    </tr>\n",
       "    <tr>\n",
       "      <th>83</th>\n",
       "      <td>OALs9xWvhlo</td>\n",
       "      <td>Hb Update 21st July 2015</td>\n",
       "      <td>History Buffs</td>\n",
       "      <td>https://www.facebook.com/HistoryBuffsLondon</td>\n",
       "      <td>[History Buffs]</td>\n",
       "      <td>https://i.ytimg.com/vi_webp/OALs9xWvhlo/maxres...</td>\n",
       "      <td>2015-07-21</td>\n",
       "      <td>UCggHoXaj8BQHIiPmOxezeWA</td>\n",
       "      <td>446</td>\n",
       "      <td>11108</td>\n",
       "      <td>374</td>\n",
       "    </tr>\n",
       "    <tr>\n",
       "      <th>84</th>\n",
       "      <td>DVAxzf1HdH4</td>\n",
       "      <td>History Buffs: Gladiator</td>\n",
       "      <td>History Buffs</td>\n",
       "      <td>https://www.facebook.com/HistoryBuffsLondon\\nh...</td>\n",
       "      <td>[Gladiator (Profession), film review, movie re...</td>\n",
       "      <td>https://i.ytimg.com/vi_webp/DVAxzf1HdH4/maxres...</td>\n",
       "      <td>2015-07-18</td>\n",
       "      <td>UCggHoXaj8BQHIiPmOxezeWA</td>\n",
       "      <td>1329</td>\n",
       "      <td>4393772</td>\n",
       "      <td>70170</td>\n",
       "    </tr>\n",
       "    <tr>\n",
       "      <th>85</th>\n",
       "      <td>VygWpmwBO8M</td>\n",
       "      <td>History Buffs: Zulu</td>\n",
       "      <td>History Buffs</td>\n",
       "      <td>First ever episode of History Buffs. A film re...</td>\n",
       "      <td>[History (TV Genre), Historical Film Review, Z...</td>\n",
       "      <td>https://i.ytimg.com/vi_webp/VygWpmwBO8M/maxres...</td>\n",
       "      <td>2015-07-04</td>\n",
       "      <td>UCggHoXaj8BQHIiPmOxezeWA</td>\n",
       "      <td>1107</td>\n",
       "      <td>4424161</td>\n",
       "      <td>82562</td>\n",
       "    </tr>\n",
       "  </tbody>\n",
       "</table>\n",
       "<p>86 rows × 11 columns</p>\n",
       "</div>"
      ],
      "text/plain": [
       "             id                                        title         author  \\\n",
       "0   ONpEHXEtTPc  History Buffs: Narcos Season One - Part Two  History Buffs   \n",
       "1   9gPBVdNhfCI  History Buffs: Narcos Season One - Part One  History Buffs   \n",
       "2   ATF5ju0rpE4      History Buffs: The Last of the Mohicans  History Buffs   \n",
       "3   uZGGn2ZfGZo               History Buffs: Midway Part Two  History Buffs   \n",
       "4   4qQim09n6mY               History Buffs: Midway Part One  History Buffs   \n",
       "..          ...                                          ...            ...   \n",
       "81  6ABJVrRfr2Q              History Buffs: We Were Soldiers  History Buffs   \n",
       "82  HC4o_pT9de8         What bothers me in Historical Movies  History Buffs   \n",
       "83  OALs9xWvhlo                     Hb Update 21st July 2015  History Buffs   \n",
       "84  DVAxzf1HdH4                     History Buffs: Gladiator  History Buffs   \n",
       "85  VygWpmwBO8M                          History Buffs: Zulu  History Buffs   \n",
       "\n",
       "                                          description  \\\n",
       "0   You can join Nebula today and get Curiosity St...   \n",
       "1   You can join Nebula today and get Curiosity St...   \n",
       "2   Hey guys, hope everyone is doing well. For thi...   \n",
       "3   As promised here is Part Two of my Midway revi...   \n",
       "4   Thank you guys so much for your patience. Quar...   \n",
       "..                                                ...   \n",
       "81  https://www.facebook.com/HistoryBuffsLondon\\nh...   \n",
       "82  Next episode of History Buffs will be uploaded...   \n",
       "83        https://www.facebook.com/HistoryBuffsLondon   \n",
       "84  https://www.facebook.com/HistoryBuffsLondon\\nh...   \n",
       "85  First ever episode of History Buffs. A film re...   \n",
       "\n",
       "                                             keywords  \\\n",
       "0   [pablo escobar, wagner moura, nick hodges, his...   \n",
       "1   [pablo escobar, wagner moura, history buffs, p...   \n",
       "2   [History Buffs, Nick Hodges, The Last of the M...   \n",
       "3   [History Buffs, Nick Hodges, Midway, Midway Pa...   \n",
       "4   [History Buffs, Nick Hodges, Midway, Pearl Har...   \n",
       "..                                                ...   \n",
       "81  [History (TV Genre), History Buffs, We Were So...   \n",
       "82             [History Buffs, History Buffs Podcast]   \n",
       "83                                    [History Buffs]   \n",
       "84  [Gladiator (Profession), film review, movie re...   \n",
       "85  [History (TV Genre), Historical Film Review, Z...   \n",
       "\n",
       "                                            thumbnail published_at  \\\n",
       "0   https://i.ytimg.com/vi/ONpEHXEtTPc/hqdefault.j...   2022-04-17   \n",
       "1   https://i.ytimg.com/vi_webp/9gPBVdNhfCI/maxres...   2022-04-10   \n",
       "2   https://i.ytimg.com/vi/ATF5ju0rpE4/maxresdefau...   2021-11-06   \n",
       "3   https://i.ytimg.com/vi/uZGGn2ZfGZo/maxresdefau...   2021-05-28   \n",
       "4   https://i.ytimg.com/vi/4qQim09n6mY/maxresdefau...   2021-05-21   \n",
       "..                                                ...          ...   \n",
       "81  https://i.ytimg.com/vi_webp/6ABJVrRfr2Q/maxres...   2015-08-01   \n",
       "82  https://i.ytimg.com/vi_webp/HC4o_pT9de8/maxres...   2015-07-27   \n",
       "83  https://i.ytimg.com/vi_webp/OALs9xWvhlo/maxres...   2015-07-21   \n",
       "84  https://i.ytimg.com/vi_webp/DVAxzf1HdH4/maxres...   2015-07-18   \n",
       "85  https://i.ytimg.com/vi_webp/VygWpmwBO8M/maxres...   2015-07-04   \n",
       "\n",
       "                  channel_id  duration  view_count  like_count  \n",
       "0   UCggHoXaj8BQHIiPmOxezeWA      2183      607037       29358  \n",
       "1   UCggHoXaj8BQHIiPmOxezeWA      2424      919260       37777  \n",
       "2   UCggHoXaj8BQHIiPmOxezeWA      3136     1259957       42604  \n",
       "3   UCggHoXaj8BQHIiPmOxezeWA      2124     2026634       60026  \n",
       "4   UCggHoXaj8BQHIiPmOxezeWA      1863     2405777       63462  \n",
       "..                       ...       ...         ...         ...  \n",
       "81  UCggHoXaj8BQHIiPmOxezeWA      1519     4668980       65311  \n",
       "82  UCggHoXaj8BQHIiPmOxezeWA       593      123699        3669  \n",
       "83  UCggHoXaj8BQHIiPmOxezeWA       446       11108         374  \n",
       "84  UCggHoXaj8BQHIiPmOxezeWA      1329     4393772       70170  \n",
       "85  UCggHoXaj8BQHIiPmOxezeWA      1107     4424161       82562  \n",
       "\n",
       "[86 rows x 11 columns]"
      ]
     },
     "execution_count": 101,
     "metadata": {},
     "output_type": "execute_result"
    }
   ],
   "source": [
    "youtube_data_buffs"
   ]
  },
  {
   "cell_type": "markdown",
   "id": "f4d6c184-e677-481d-ad72-bc346a9a871c",
   "metadata": {},
   "source": [
    "To extract a particular column from the table, you can use dot notation and name of the column:"
   ]
  },
  {
   "cell_type": "code",
   "execution_count": 4,
   "id": "4b5809bb-1681-4ac5-92e9-17c5e4fa67b2",
   "metadata": {
    "collapsed": true,
    "jupyter": {
     "outputs_hidden": true
    },
    "tags": []
   },
   "outputs": [
    {
     "data": {
      "text/plain": [
       "0     History Buffs: Narcos Season One - Part Two\n",
       "1     History Buffs: Narcos Season One - Part One\n",
       "2         History Buffs: The Last of the Mohicans\n",
       "3                  History Buffs: Midway Part Two\n",
       "4                  History Buffs: Midway Part One\n",
       "                         ...                     \n",
       "81                History Buffs: We Were Soldiers\n",
       "82           What bothers me in Historical Movies\n",
       "83                       Hb Update 21st July 2015\n",
       "84                       History Buffs: Gladiator\n",
       "85                            History Buffs: Zulu\n",
       "Name: title, Length: 86, dtype: object"
      ]
     },
     "execution_count": 4,
     "metadata": {},
     "output_type": "execute_result"
    }
   ],
   "source": [
    "youtube_data_buffs.title"
   ]
  },
  {
   "cell_type": "markdown",
   "id": "7bf86baf-dd11-4543-b233-1b680df21709",
   "metadata": {},
   "source": [
    "### Data visualization"
   ]
  },
  {
   "cell_type": "markdown",
   "id": "8600a57b-fb36-4e4a-bb80-ef7fb4bf9d2a",
   "metadata": {},
   "source": [
    "#### Histogram"
   ]
  },
  {
   "cell_type": "markdown",
   "id": "ef76fa7e-17b9-44ef-af7d-4ec4bff0aba4",
   "metadata": {},
   "source": [
    "To construct a histogram, the first step is to \"bin\" the range of values, that is, divide the entire range of values into a series of intervals and then count how many values fall into each interval. The bins are usually specified as consecutive, non-overlapping intervals of a variable. The bins (intervals) must be adjacent and are often (but not required to be) of equal size. If the bins are of equal size, a rectangle is erected over the bin with height proportional to the frequency—the number of cases in each bin. A histogram may also be normalized to display \"relative\" frequencies. It then shows the proportion of cases that fall into each of several categories, with the sum of the heights equaling 1. \n",
    "\n",
    "Choice of number of bins is arbitrary and different bin sizes can reveal different features of the data. The often used rule of thumb is to choose number of bins equal to square root on number of samples, rounded to the next integer (e.g. for $N=70$ samples, number of bins is $k=\\lceil \\sqrt{70} \\rceil=\\lceil8.3666...\\rceil=9$)\n",
    "\n",
    "Pandas library has builtin methods for plotting histogram of data in columns. As an example let's consider duration of the videos from two channels:"
   ]
  },
  {
   "cell_type": "code",
   "execution_count": 5,
   "id": "9a423780-0082-4a89-9fa9-fa47d88a162b",
   "metadata": {
    "collapsed": true,
    "jupyter": {
     "outputs_hidden": true
    },
    "tags": []
   },
   "outputs": [
    {
     "data": {
      "text/plain": [
       "<AxesSubplot:>"
      ]
     },
     "execution_count": 5,
     "metadata": {},
     "output_type": "execute_result"
    },
    {
     "data": {
      "image/png": "[encoded data removed]",
      "text/plain": [
       "<Figure size 432x288 with 1 Axes>"
      ]
     },
     "metadata": {
      "needs_background": "light"
     },
     "output_type": "display_data"
    }
   ],
   "source": [
    "youtube_data_civilis.duration.hist(bins=10)  # number of bins passed to parameter `bins`"
   ]
  },
  {
   "cell_type": "code",
   "execution_count": 6,
   "id": "81d6ff98-b68b-464f-aeb9-03abe3bf785f",
   "metadata": {
    "collapsed": true,
    "jupyter": {
     "outputs_hidden": true
    },
    "tags": []
   },
   "outputs": [
    {
     "data": {
      "text/plain": [
       "<AxesSubplot:>"
      ]
     },
     "execution_count": 6,
     "metadata": {},
     "output_type": "execute_result"
    },
    {
     "data": {
      "image/png": "[encoded data removed]",
      "text/plain": [
       "<Figure size 432x288 with 1 Axes>"
      ]
     },
     "metadata": {
      "needs_background": "light"
     },
     "output_type": "display_data"
    }
   ],
   "source": [
    "youtube_data_buffs.duration.hist(bins=[0, 500, 1000, 1500, 2000, 2500, 3000, 3500, 4000])  # bin ranges passed to parameter bins"
   ]
  },
  {
   "cell_type": "markdown",
   "id": "0e70bf9e-00de-4753-8fdc-10198b59b8a3",
   "metadata": {},
   "source": [
    "In the second case, methods `min` and `max` are useful to determine proper range of bins - range of bins should be at least the same or broader than range of actual data:"
   ]
  },
  {
   "cell_type": "code",
   "execution_count": 7,
   "id": "861c5574-6668-4b0c-9c3a-7652b65ec5a3",
   "metadata": {
    "collapsed": true,
    "jupyter": {
     "outputs_hidden": true
    },
    "tags": []
   },
   "outputs": [
    {
     "data": {
      "text/plain": [
       "89"
      ]
     },
     "execution_count": 7,
     "metadata": {},
     "output_type": "execute_result"
    }
   ],
   "source": [
    "youtube_data_buffs.duration.min()  # minimal value from column"
   ]
  },
  {
   "cell_type": "code",
   "execution_count": 8,
   "id": "9cc4d0c8-e91d-4437-941e-e7a8b7fc2b42",
   "metadata": {
    "collapsed": true,
    "jupyter": {
     "outputs_hidden": true
    },
    "tags": []
   },
   "outputs": [
    {
     "data": {
      "text/plain": [
       "3884"
      ]
     },
     "execution_count": 8,
     "metadata": {},
     "output_type": "execute_result"
    }
   ],
   "source": [
    "youtube_data_buffs.duration.max()  # maximal value from column"
   ]
  },
  {
   "cell_type": "markdown",
   "id": "053c6854-ad04-43f8-9614-81fc1f90199f",
   "metadata": {},
   "source": [
    "For comparing two or more distributions it is convienient to use the same bin ranges, and plot histograms on the same figure:"
   ]
  },
  {
   "cell_type": "code",
   "execution_count": 9,
   "id": "ed16885b-6b5b-4675-aff7-e9bc8dae53e3",
   "metadata": {
    "collapsed": true,
    "jupyter": {
     "outputs_hidden": true
    },
    "tags": []
   },
   "outputs": [
    {
     "data": {
      "text/plain": [
       "Text(0.5, 1.0, 'duration')"
      ]
     },
     "execution_count": 9,
     "metadata": {},
     "output_type": "execute_result"
    },
    {
     "data": {
      "image/png": "[encoded data removed]",
      "text/plain": [
       "<Figure size 432x288 with 1 Axes>"
      ]
     },
     "metadata": {
      "needs_background": "light"
     },
     "output_type": "display_data"
    }
   ],
   "source": [
    "# importing numpy to get access to its methods\n",
    "import numpy as np\n",
    "# importing pyplot for more options with plots\n",
    "import matplotlib.pyplot as plt\n",
    "\n",
    "\n",
    "# make 8 bins of width 500 from 0 to 4000\n",
    "bin_ranges = np.linspace(0, 4000, 9)  # shorthand for [   0.,  500., 1000., 1500., 2000., 2500., 3000., 3500., 4000.]\n",
    "transparency = 0.5\n",
    "\n",
    "# plot with the same bin ranges and with transparency and labels\n",
    "youtube_data_civilis.duration.hist(bins=bin_ranges, alpha=transparency, label=\"civilis\")\n",
    "youtube_data_buffs.duration.hist(bins=bin_ranges, alpha=transparency, label=\"buffs\")\n",
    "\n",
    "# plotting legend\n",
    "plt.legend()\n",
    "\n",
    "# adding title\n",
    "plt.title(\"duration\")"
   ]
  },
  {
   "cell_type": "code",
   "execution_count": 10,
   "id": "615863de-6412-4372-8906-bd216d73f67d",
   "metadata": {
    "collapsed": true,
    "jupyter": {
     "outputs_hidden": true
    },
    "tags": []
   },
   "outputs": [
    {
     "data": {
      "text/plain": [
       "Text(0.5, 1.0, 'view_count')"
      ]
     },
     "execution_count": 10,
     "metadata": {},
     "output_type": "execute_result"
    },
    {
     "data": {
      "image/png": "[encoded data removed]",
      "text/plain": [
       "<Figure size 432x288 with 1 Axes>"
      ]
     },
     "metadata": {
      "needs_background": "light"
     },
     "output_type": "display_data"
    }
   ],
   "source": [
    "bin_ranges = np.linspace(0, 9000000, 13)\n",
    "transparency = 0.5\n",
    "\n",
    "youtube_data_civilis.view_count.hist(bins=bin_ranges, alpha=transparency, label=\"civilis\")\n",
    "youtube_data_buffs.view_count.hist(bins=bin_ranges, alpha=transparency, label=\"buffs\")\n",
    "\n",
    "plt.legend()\n",
    "plt.title(\"view_count\")"
   ]
  },
  {
   "cell_type": "code",
   "execution_count": 11,
   "id": "1a16047b-feca-46b2-bea9-a47c612d8412",
   "metadata": {
    "collapsed": true,
    "jupyter": {
     "outputs_hidden": true
    },
    "tags": []
   },
   "outputs": [
    {
     "data": {
      "text/plain": [
       "Text(0.5, 1.0, 'like_count')"
      ]
     },
     "execution_count": 11,
     "metadata": {},
     "output_type": "execute_result"
    },
    {
     "data": {
      "image/png": "[encoded data removed]",
      "text/plain": [
       "<Figure size 432x288 with 1 Axes>"
      ]
     },
     "metadata": {
      "needs_background": "light"
     },
     "output_type": "display_data"
    }
   ],
   "source": [
    "bin_ranges = np.linspace(0, 160000, 13)\n",
    "transparency = 0.5\n",
    "\n",
    "youtube_data_civilis.like_count.hist(bins=bin_ranges, alpha=transparency, label=\"civilis\")\n",
    "youtube_data_buffs.like_count.hist(bins=bin_ranges, alpha=transparency, label=\"buffs\")\n",
    "\n",
    "plt.legend()\n",
    "plt.title(\"like_count\")"
   ]
  },
  {
   "cell_type": "markdown",
   "id": "58bde266-36c7-4312-84e5-d73856931bee",
   "metadata": {},
   "source": [
    "The visual reprezentation of distributions is very useful for getting some first general information. However to draw any conclusions we need more strict metrics."
   ]
  },
  {
   "cell_type": "markdown",
   "id": "3c447249-aabb-4620-bcb2-b7caac1901b7",
   "metadata": {},
   "source": [
    "### Center"
   ]
  },
  {
   "cell_type": "markdown",
   "id": "bd96ec53-28e7-4f00-a944-6a86a1d73f22",
   "metadata": {},
   "source": [
    "A central tendency is a central or typical value for a distribution. Occasionally authors use central tendency to denote \"the tendency of quantitative data to cluster around some central value.\""
   ]
  },
  {
   "cell_type": "markdown",
   "id": "2f80e46b-0535-4028-8004-9703a8a80079",
   "metadata": {},
   "source": [
    "#### Mean"
   ]
  },
  {
   "cell_type": "markdown",
   "id": "054e6920-0c06-4c4b-8528-f42413382332",
   "metadata": {},
   "source": [
    "An arithmetic mean is the sum of a collection of numbers divided by the count of numbers in the collection. While the arithmetic mean is often used to report central tendencies, it is not a robust statistic, meaning that it is greatly influenced by outliers (values that are very much larger or smaller than most of the values). To compute mean value of column, the method `mean` is used:"
   ]
  },
  {
   "cell_type": "code",
   "execution_count": 12,
   "id": "3564fa7c-894f-4782-aa5c-0856b0ecdb5e",
   "metadata": {
    "collapsed": true,
    "jupyter": {
     "outputs_hidden": true
    },
    "tags": []
   },
   "outputs": [
    {
     "name": "stdout",
     "output_type": "stream",
     "text": [
      "duration:\n",
      "  civilis: 927.6\n",
      "  buffs: 1296.9\n",
      "view_count:\n",
      "  civilis: 1247198.5\n",
      "  buffs: 1925367.7\n",
      "like_count:\n",
      "  civilis: 27573.2\n",
      "  buffs: 37459.7\n"
     ]
    }
   ],
   "source": [
    "# here print statements and f-strings are used for pretties formating of output\n",
    "print(\"duration:\")\n",
    "print(f\"  civilis: {youtube_data_civilis.duration.mean():.1f}\")\n",
    "print(f\"  buffs: {youtube_data_buffs.duration.mean():.1f}\")\n",
    "print(\"view_count:\")\n",
    "print(f\"  civilis: {youtube_data_civilis.view_count.mean():.1f}\")\n",
    "print(f\"  buffs: {youtube_data_buffs.view_count.mean():.1f}\")\n",
    "print(\"like_count:\")\n",
    "print(f\"  civilis: {youtube_data_civilis.like_count.mean():.1f}\")\n",
    "print(f\"  buffs: {youtube_data_buffs.like_count.mean():.1f}\")"
   ]
  },
  {
   "cell_type": "markdown",
   "id": "6034ee13-7e32-4acd-9e81-0e6e66b50916",
   "metadata": {},
   "source": [
    "We can see that *on average* videos from \"buffs\" are longer, more viewed and more liked than \"civilis\"."
   ]
  },
  {
   "cell_type": "markdown",
   "id": "11f95552-dc0e-4214-a437-e0cb13f184c9",
   "metadata": {},
   "source": [
    "#### Median"
   ]
  },
  {
   "cell_type": "markdown",
   "id": "d5d4ea7c-6b8c-4ce6-90b4-109dfc2afd3a",
   "metadata": {},
   "source": [
    "A median is the value separating the higher half from the lower half of a data sample, a population, or a probability distribution. For a data set, it may be thought of as \"the middle\" value. The basic feature of the median in describing data compared to the mean is that it is not skewed by a small proportion of extremely large or small values, and therefore provides a better representation of a \"typical\" value. To compute median value of column, the method `median` is used:"
   ]
  },
  {
   "cell_type": "code",
   "execution_count": 13,
   "id": "4814cc9e-2509-442f-be93-2ecef718a89b",
   "metadata": {
    "collapsed": true,
    "jupyter": {
     "outputs_hidden": true
    },
    "tags": []
   },
   "outputs": [
    {
     "name": "stdout",
     "output_type": "stream",
     "text": [
      "duration:\n",
      "  civilis: 738.0\n",
      "  buffs: 1307.5\n",
      "view_count:\n",
      "  civilis: 1162022.0\n",
      "  buffs: 1205124.5\n",
      "like_count:\n",
      "  civilis: 25121.0\n",
      "  buffs: 31373.0\n"
     ]
    }
   ],
   "source": [
    "print(\"duration:\")\n",
    "print(f\"  civilis: {youtube_data_civilis.duration.median():.1f}\")\n",
    "print(f\"  buffs: {youtube_data_buffs.duration.median():.1f}\")\n",
    "print(\"view_count:\")\n",
    "print(f\"  civilis: {youtube_data_civilis.view_count.median():.1f}\")\n",
    "print(f\"  buffs: {youtube_data_buffs.view_count.median():.1f}\")\n",
    "print(\"like_count:\")\n",
    "print(f\"  civilis: {youtube_data_civilis.like_count.median():.1f}\")\n",
    "print(f\"  buffs: {youtube_data_buffs.like_count.median():.1f}\")"
   ]
  },
  {
   "cell_type": "markdown",
   "id": "4a5dc7cd-d06f-4338-a932-87195650a454",
   "metadata": {},
   "source": [
    "We can see that *the middle* values of video length and number of likes are larger for \"buffs\" than \"civilis\", although *typical* value of number of views is almost the same in both cases (it means that there are probably a few highly viewed videos in case of \"buffs\" which boosts value of mean)."
   ]
  },
  {
   "cell_type": "markdown",
   "id": "5f578aaf-4475-43bf-9cc3-3761229b80a6",
   "metadata": {},
   "source": [
    "#### Mode"
   ]
  },
  {
   "cell_type": "markdown",
   "id": "056032c1-1bb3-4a0f-a73f-f6ee1b6d50b9",
   "metadata": {},
   "source": [
    "A mode is the value that appears most often in a set of data values. Unlike mean and median, the concept of mode also makes sense for \"nominal data\" (i.e., not consisting of numerical values in the case of mean, or even of ordered values in the case of median). Sometimes there are more than one mode values (for *multimodal* distributions). To compute median value of column, the method `mode` is used. As an example let's compute the most frequent keywords of the channels:"
   ]
  },
  {
   "cell_type": "code",
   "execution_count": 14,
   "id": "4ea88a1d-c5a4-4f94-bf97-39d9de58a62b",
   "metadata": {
    "collapsed": true,
    "jupyter": {
     "outputs_hidden": true
    },
    "tags": []
   },
   "outputs": [
    {
     "name": "stdout",
     "output_type": "stream",
     "text": [
      "the most frequent keywords:\n",
      "\n",
      "  civilis: \n",
      "0    Historia Civilis\n",
      "dtype: object\n",
      "\n",
      "  buffs: \n",
      "0    History Buffs\n",
      "dtype: object\n"
     ]
    }
   ],
   "source": [
    "print(\"the most frequent keywords:\")\n",
    "# we need to combine lists of keywords of each video to one huge list of all keywords of every video from given channel\n",
    "all_keywords_civilis = []\n",
    "for keywords_list in youtube_data_civilis.keywords:\n",
    "    all_keywords_civilis.extend(keywords_list)\n",
    "# displaying result\n",
    "print(\"\\n  civilis: \")\n",
    "print(pd.Series(all_keywords_civilis).mode())\n",
    "# the same for the other channel\n",
    "all_keywords_buffs = []\n",
    "for keywords_list in youtube_data_buffs.keywords:\n",
    "    all_keywords_buffs.extend(keywords_list)\n",
    "print(\"\\n  buffs: \")\n",
    "print(pd.Series(all_keywords_buffs).mode())"
   ]
  },
  {
   "cell_type": "markdown",
   "id": "d390ef8d-7208-4784-a5a1-ee7725bcfbbe",
   "metadata": {},
   "source": [
    "### Dispersion"
   ]
  },
  {
   "cell_type": "markdown",
   "id": "53ff0a19-083e-4d77-a09a-e2c4cc130bbc",
   "metadata": {},
   "source": [
    "Dispersion (also called variability, scatter, or spread) is the extent to which a distribution is stretched or squeezed. Dispersion is contrasted with location or central tendency, and together they are the most used properties of distributions. A measure of statistical dispersion is a nonnegative real number that is zero if all the data are the same and increases as the data become more diverse."
   ]
  },
  {
   "cell_type": "markdown",
   "id": "e06cf1e2-d743-4203-a0e3-a76b51753b36",
   "metadata": {},
   "source": [
    "#### Variance"
   ]
  },
  {
   "cell_type": "markdown",
   "id": "02986e0a-7d11-479e-8347-87bb5dc1862e",
   "metadata": {},
   "source": [
    "Variance is the expectation of the squared deviation of a random variable from its population mean or sample mean. To compute mean value of column, the method `var` is used:"
   ]
  },
  {
   "cell_type": "code",
   "execution_count": 15,
   "id": "53d21d24-2d37-4194-b78b-ca2b37945e82",
   "metadata": {
    "collapsed": true,
    "jupyter": {
     "outputs_hidden": true
    },
    "tags": []
   },
   "outputs": [
    {
     "name": "stdout",
     "output_type": "stream",
     "text": [
      "duration:\n",
      "  civilis: 352080.2\n",
      "  buffs: 710113.4\n",
      "view_count:\n",
      "  civilis: 665982737055.3\n",
      "  buffs: 4545051569228.2\n",
      "like_count:\n",
      "  civilis: 322887006.4\n",
      "  buffs: 1259582155.3\n"
     ]
    }
   ],
   "source": [
    "print(\"duration:\")\n",
    "print(f\"  civilis: {youtube_data_civilis.duration.var():.1f}\")\n",
    "print(f\"  buffs: {youtube_data_buffs.duration.var():.1f}\")\n",
    "print(\"view_count:\")\n",
    "print(f\"  civilis: {youtube_data_civilis.view_count.var():.1f}\")\n",
    "print(f\"  buffs: {youtube_data_buffs.view_count.var():.1f}\")\n",
    "print(\"like_count:\")\n",
    "print(f\"  civilis: {youtube_data_civilis.like_count.var():.1f}\")\n",
    "print(f\"  buffs: {youtube_data_buffs.like_count.var():.1f}\")"
   ]
  },
  {
   "cell_type": "markdown",
   "id": "7f4fe160-a2e4-47a9-bd23-4e3b241ec7f0",
   "metadata": {},
   "source": [
    "#### Standard deviation"
   ]
  },
  {
   "cell_type": "markdown",
   "id": "32bd91b8-590f-42d9-90f5-c06295f3e04e",
   "metadata": {},
   "source": [
    "The standard deviation of a distribution is the square root of its variance. A useful property of the standard deviation is that, unlike the variance, it is expressed in the same unit as the data. To compute mean value of column, the method `stdev` is used:"
   ]
  },
  {
   "cell_type": "code",
   "execution_count": 16,
   "id": "93c834a5-c286-46b7-8667-c170dde4fc32",
   "metadata": {
    "collapsed": true,
    "jupyter": {
     "outputs_hidden": true
    },
    "tags": []
   },
   "outputs": [
    {
     "name": "stdout",
     "output_type": "stream",
     "text": [
      "duration:\n",
      "  civilis: 593.4\n",
      "  buffs: 842.7\n",
      "view_count:\n",
      "  civilis: 816077.7\n",
      "  buffs: 2131912.7\n",
      "like_count:\n",
      "  civilis: 17969.1\n",
      "  buffs: 35490.6\n"
     ]
    }
   ],
   "source": [
    "print(\"duration:\")\n",
    "print(f\"  civilis: {youtube_data_civilis.duration.std():.1f}\")\n",
    "print(f\"  buffs: {youtube_data_buffs.duration.std():.1f}\")\n",
    "print(\"view_count:\")\n",
    "print(f\"  civilis: {youtube_data_civilis.view_count.std():.1f}\")\n",
    "print(f\"  buffs: {youtube_data_buffs.view_count.std():.1f}\")\n",
    "print(\"like_count:\")\n",
    "print(f\"  civilis: {youtube_data_civilis.like_count.std():.1f}\")\n",
    "print(f\"  buffs: {youtube_data_buffs.like_count.std():.1f}\")"
   ]
  },
  {
   "cell_type": "markdown",
   "id": "fbf25c65-abdd-451a-9002-1d3541114af5",
   "metadata": {},
   "source": [
    "We can see taht all three variables (columns) are more diverse for \"buffs\" than for \"civilis\"."
   ]
  },
  {
   "cell_type": "markdown",
   "id": "37fddfb0-d06f-41fc-8fab-4884d770752f",
   "metadata": {},
   "source": [
    "#### Percentile"
   ]
  },
  {
   "cell_type": "markdown",
   "id": "f0a763a5-aecc-4c2e-b188-52f375bead0a",
   "metadata": {},
   "source": [
    "A $k$-th percentile (percentile score or centile) is a score below which a given percentage $k$ of scores in its distribution falls. For example, the 10th percentile is the score below which 10% of the scores in the distribution may be found. Percentiles are expressed in the same unit of measurement as the input scores. The 25th percentile is also known as the first quartile (Q1), the 50th percentile as the median or second quartile (Q2), and the 75th percentile as the third quartile (Q3). \n",
    "\n",
    "In Pandas the method `quantile` is used to compute percentile (the argument of method is the percentage written as floating point number). For example:"
   ]
  },
  {
   "cell_type": "code",
   "execution_count": 17,
   "id": "b5f0827f-c142-4362-b297-7d35fcdb0398",
   "metadata": {
    "collapsed": true,
    "jupyter": {
     "outputs_hidden": true
    },
    "tags": []
   },
   "outputs": [
    {
     "name": "stdout",
     "output_type": "stream",
     "text": [
      "10-th percentile of view count: \n",
      "  civilis: 428062.0\n",
      "  buffs: 42170.5\n",
      "90-th percentile of view count: \n",
      "  civilis: 2249870.0\n",
      "  buffs: 4843234.5\n"
     ]
    }
   ],
   "source": [
    "print(\"10-th percentile of view count: \")\n",
    "print(f\"  civilis: {youtube_data_civilis.view_count.quantile(0.10)}\")\n",
    "print(f\"  buffs: {youtube_data_buffs.view_count.quantile(0.10)}\")\n",
    "print(\"90-th percentile of view count: \")\n",
    "print(f\"  civilis: {youtube_data_civilis.view_count.quantile(0.90)}\")\n",
    "print(f\"  buffs: {youtube_data_buffs.view_count.quantile(0.90)}\")"
   ]
  },
  {
   "cell_type": "markdown",
   "id": "543f3245-4a26-4b2d-b9af-18f7a785631a",
   "metadata": {},
   "source": [
    "We can see that 10% of the most viewed videos have more than 2 mln views each in case of \"civilis\" and more than 4 mln views each for \"buffs\". On the other hand, 10% of the least viewed videos have less than 400k views each in case of \"civilis\" and less than 40k views each in case of \"buffs\". Again - distribution of views is more broad for \"buffs\" than for \"civilis\"."
   ]
  },
  {
   "cell_type": "markdown",
   "id": "18e0fc17-1b93-48cf-a13e-315c036ba6bc",
   "metadata": {},
   "source": [
    "### Shape"
   ]
  },
  {
   "cell_type": "markdown",
   "id": "1cf8f689-9eda-4718-a5cb-e5f915c545a1",
   "metadata": {},
   "source": [
    "The concept of the shape of a probability distribution arises in questions of finding an appropriate distribution to use to model the statistical properties of a population, given a sample from that population."
   ]
  },
  {
   "cell_type": "markdown",
   "id": "59c2454f-36b1-47a9-8996-b677e95cd586",
   "metadata": {},
   "source": [
    "#### Skewness"
   ]
  },
  {
   "cell_type": "markdown",
   "id": "98cdc2aa-133e-4edc-81c7-9e4762980890",
   "metadata": {},
   "source": [
    "Skewness is a measure of the asymmetry of the probability distribution of a real-valued random variable about its mean. The skewness value can be positive, zero, negative, or undefined:\n",
    "\n",
    "* negative skew: the left tail is longer; the mass of the distribution is concentrated on the right of the figure\n",
    "* positive skew: the right tail is longer; the mass of the distribution is concentrated on the left of the figure.\n",
    "\n",
    "In Pandas the method `skew` is used to compute this property:"
   ]
  },
  {
   "cell_type": "code",
   "execution_count": 18,
   "id": "80dd3861-ffe7-49c9-87e4-fca5d447a4e1",
   "metadata": {
    "collapsed": true,
    "jupyter": {
     "outputs_hidden": true
    },
    "tags": []
   },
   "outputs": [
    {
     "name": "stdout",
     "output_type": "stream",
     "text": [
      "duration:\n",
      "  civilis: 1.2\n",
      "  buffs: 0.6\n",
      "view_count:\n",
      "  civilis: 2.0\n",
      "  buffs: 1.2\n",
      "like_count:\n",
      "  civilis: 1.9\n",
      "  buffs: 0.8\n"
     ]
    }
   ],
   "source": [
    "print(\"duration:\")\n",
    "print(f\"  civilis: {youtube_data_civilis.duration.skew():.1f}\")\n",
    "print(f\"  buffs: {youtube_data_buffs.duration.skew():.1f}\")\n",
    "print(\"view_count:\")\n",
    "print(f\"  civilis: {youtube_data_civilis.view_count.skew():.1f}\")\n",
    "print(f\"  buffs: {youtube_data_buffs.view_count.skew():.1f}\")\n",
    "print(\"like_count:\")\n",
    "print(f\"  civilis: {youtube_data_civilis.like_count.skew():.1f}\")\n",
    "print(f\"  buffs: {youtube_data_buffs.like_count.skew():.1f}\")"
   ]
  },
  {
   "cell_type": "markdown",
   "id": "e9ba11ab-3f31-40d6-ac40-73c5a3856982",
   "metadata": {},
   "source": [
    "All values are positive, which indicates positive skew: right tail (larger values) is longer, there are more small values than large values in the distributions."
   ]
  },
  {
   "cell_type": "markdown",
   "id": "71abf4d0-e06b-4ca9-b56f-c3698c53c9ce",
   "metadata": {},
   "source": [
    "#### Kurtosis"
   ]
  },
  {
   "cell_type": "markdown",
   "id": "0e3558a0-0157-4cbf-8b21-1ef795c7599b",
   "metadata": {},
   "source": [
    "Kurtosis is a measure of the \"tailedness\" of the probability distribution. This number is related to the tails of the distribution, not its peak; hence, the sometimes-seen characterization of kurtosis as \"peakedness\" is incorrect. For this measure, higher kurtosis corresponds to greater extremity of deviations (or outliers), and not the configuration of data near the mean. "
   ]
  },
  {
   "cell_type": "code",
   "execution_count": 19,
   "id": "10e31abf-15fb-4449-b086-dcebe5819589",
   "metadata": {
    "collapsed": true,
    "jupyter": {
     "outputs_hidden": true
    },
    "tags": []
   },
   "outputs": [
    {
     "name": "stdout",
     "output_type": "stream",
     "text": [
      "duration:\n",
      "  civilis: 1.9\n",
      "  buffs: 0.2\n",
      "view_count:\n",
      "  civilis: 7.7\n",
      "  buffs: 0.8\n",
      "like_count:\n",
      "  civilis: 7.9\n",
      "  buffs: 0.0\n"
     ]
    }
   ],
   "source": [
    "print(\"duration:\")\n",
    "print(f\"  civilis: {youtube_data_civilis.duration.kurtosis():.1f}\")\n",
    "print(f\"  buffs: {youtube_data_buffs.duration.kurtosis():.1f}\")\n",
    "print(\"view_count:\")\n",
    "print(f\"  civilis: {youtube_data_civilis.view_count.kurtosis():.1f}\")\n",
    "print(f\"  buffs: {youtube_data_buffs.view_count.kurtosis():.1f}\")\n",
    "print(\"like_count:\")\n",
    "print(f\"  civilis: {youtube_data_civilis.like_count.kurtosis():.1f}\")\n",
    "print(f\"  buffs: {youtube_data_buffs.like_count.kurtosis():.1f}\")"
   ]
  },
  {
   "cell_type": "markdown",
   "id": "0604ba87-67f4-4da4-bf37-43b50eb94753",
   "metadata": {},
   "source": [
    "## Exercises"
   ]
  },
  {
   "cell_type": "markdown",
   "id": "37b3f142-3788-4d49-8f98-f11da8bfb969",
   "metadata": {},
   "source": [
    "Try to repeat all the analyses for the other two channels."
   ]
  }
 ],
 "metadata": {
  "kernelspec": {
   "display_name": "Python 3 (ipykernel)",
   "language": "python",
   "name": "python3"
  },
  "language_info": {
   "codemirror_mode": {
    "name": "ipython",
    "version": 3
   },
   "file_extension": ".py",
   "mimetype": "text/x-python",
   "name": "python",
   "nbconvert_exporter": "python",
   "pygments_lexer": "ipython3",
   "version": "3.9.12"
  }
 },
 "nbformat": 4,
 "nbformat_minor": 5
}
