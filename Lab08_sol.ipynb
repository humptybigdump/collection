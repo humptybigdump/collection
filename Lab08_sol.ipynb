{
 "cells": [
  {
   "cell_type": "markdown",
   "id": "0e42763e",
   "metadata": {},
   "source": [
    "# Stochastic Simulation\n",
    "\n",
    "*Winter Semester 2024/25*\n",
    "\n",
    "10.01.2025\n",
    "\n",
    "Prof. Sebastian Krumscheid<br>\n",
    "Assistants: Stjepan Salatovic, Louise Kluge"
   ]
  },
  {
   "cell_type": "markdown",
   "id": "5c5187ec",
   "metadata": {},
   "source": [
    "<h3 align=\"center\">\n",
    "Exercise sheet 08\n",
    "</h3>\n",
    "\n",
    "---\n",
    "\n",
    "<h1 align=\"center\">\n",
    "Control Variates and Stratification\n",
    "</h1>"
   ]
  },
  {
   "cell_type": "code",
   "execution_count": 1,
   "id": "f636d6f9",
   "metadata": {},
   "outputs": [],
   "source": [
    "import matplotlib.pyplot as plt\n",
    "import numpy as np\n",
    "\n",
    "from ipywidgets import interact\n",
    "from scipy.stats import norm\n",
    "from tqdm.notebook import tqdm\n",
    "from typing import Tuple, List"
   ]
  },
  {
   "cell_type": "code",
   "execution_count": 2,
   "id": "a82b0a91-6d0f-436d-bc1e-bfc75cc60fd5",
   "metadata": {},
   "outputs": [],
   "source": [
    "plt.rc('axes', labelsize=14)     # fontsize of the x and y labels\n",
    "plt.rc('xtick', labelsize=12)    # fontsize of the tick labels\n",
    "plt.rc('ytick', labelsize=12)    # fontsize of the tick labels\n",
    "plt.rc('legend', fontsize=14)    # legend fontsize"
   ]
  },
  {
   "cell_type": "markdown",
   "id": "4d0d84ff-b2fb-4e5d-adb1-9fca7ff97936",
   "metadata": {},
   "source": [
    "## Exercise 1\n",
    "\n",
    "Suppose we wish to construct a Brownian motion path\n",
    "$\\{B_t\\colon B_0=0,\\, 0\\le t\\le T\\}$ that finishes at $T= 1$ in $S$\n",
    "distinct strata. To stratify standard Brownian motion on its endpoint,\n",
    "one first generates the $S$ values at $T=1$ and then samples the\n",
    "Brownian paths on the interval $[0,T]$ conditional upon these\n",
    "stratified terminal values."
   ]
  },
  {
   "cell_type": "markdown",
   "id": "41fbb360-4b49-4967-b511-74a6172e4100",
   "metadata": {},
   "source": [
    "1. Implement an algorithm that generates\n",
    "\tstratified standard Brownian motion using $S$ equiprobable\n",
    "\tstrata. Specifically, for each stratum $\\Omega_j$, $j=1,\\dots,S$,\n",
    "\tyour algorithm should produce $N_j$ stratified Brownian samples\n",
    "\tpaths $B_{t_m}^{(i,j)}$, $i=1,\\dots,N_j$, evaluated in the discrete\n",
    "\ttimes $t_m = m/M$ with $m=1,\\dots, M\\in\\mathbb{N}$. Test your\n",
    "\timplementation for $S=12$, $M=1000$, and $N_j=2$ by plotting the\n",
    "\tstratified samples paths.\n",
    "\n",
    "    **Hint:** Brownian bridge sampling."
   ]
  },
  {
   "cell_type": "code",
   "execution_count": 3,
   "id": "01b72e91-f167-43fe-9fd3-b9a1382c6984",
   "metadata": {},
   "outputs": [],
   "source": [
    "def brownian_bridges(terminal_values: np.array, M: int) -> np.array:\n",
    "    \"\"\"\n",
    "    Generates Brownian bridges using `M` sample points that\n",
    "    start in 0 and end in given `terminal_values`.\n",
    "    \"\"\"\n",
    "    t = np.linspace(0, 1, M)\n",
    "    dt = t[1] - t[0]\n",
    "\n",
    "    N = len(terminal_values)    \n",
    "    W = np.zeros((N, M))\n",
    "    W[:, 1:] = np.sqrt(dt) * np.random.randn(N, M - 1).cumsum(axis=1)\n",
    "    \n",
    "    B = W + t * (terminal_values - W[:, -1]).reshape(-1, 1)\n",
    "\n",
    "    return B"
   ]
  },
  {
   "cell_type": "code",
   "execution_count": 4,
   "id": "1b1652fa-1700-49f7-969b-133675ba9c2b",
   "metadata": {},
   "outputs": [],
   "source": [
    "def stratified_brownian_motions(S: int, N: np.array, M: int, T: float=1) -> np.array:\n",
    "    \"\"\"\n",
    "    Generates stratified Brownian motions with `S` strata and `M` sample points.\n",
    "    The array of sample sizes in each stratum is given by `N`.\n",
    "    \"\"\"\n",
    "    U = []\n",
    "    for j in range(S):\n",
    "        low = j / S\n",
    "        high = (j + 1) / S\n",
    "        U.append(np.random.uniform(low, high, size=N[j]))\n",
    "    U = np.hstack(U)\n",
    "    \n",
    "    terminal_values = norm.ppf(U, loc=0, scale=np.sqrt(T))\n",
    "    paths = brownian_bridges(terminal_values, M)\n",
    "\n",
    "    return paths"
   ]
  },
  {
   "cell_type": "code",
   "execution_count": 5,
   "id": "1b1407fe-8c90-4ee5-affb-86dad001f248",
   "metadata": {},
   "outputs": [
    {
     "data": {
      "application/vnd.jupyter.widget-view+json": {
       "model_id": "134f2f7d8e574e709f50b3419ee25529",
       "version_major": 2,
       "version_minor": 0
      },
      "text/plain": [
       "interactive(children=(Dropdown(description='S', options=(3, 4, 5, 6, 7, 8, 9, 10, 11, 12), value=3), Dropdown(…"
      ]
     },
     "metadata": {},
     "output_type": "display_data"
    }
   ],
   "source": [
    "def plot_strat_brownian_motions(S: int, N: int):\n",
    "    \"\"\"Interaction helper.\"\"\"\n",
    "    N = N * np.ones(S).astype(int)\n",
    "    M = 1000\n",
    "    T = 1\n",
    "    x = stratified_brownian_motions(S, N, M, T)\n",
    "\n",
    "    t = np.linspace(0, T, M)\n",
    "\n",
    "    s = 0\n",
    "    e = 0\n",
    "    for j, Nj in enumerate(N):\n",
    "        e += Nj\n",
    "        plt.plot(t, x[s:e].T, \"C\" + str(j))\n",
    "        s = e\n",
    "\n",
    "    plt.xlabel(\"$t$\")\n",
    "    plt.ylabel(\"$B_t^{(i, j)}$\")\n",
    "    plt.title(\"Stratified Brownian motions\")\n",
    "\n",
    "interact(plot_strat_brownian_motions, S=np.arange(3, 13), N=np.arange(2, 11));"
   ]
  },
  {
   "cell_type": "markdown",
   "id": "3fa0bd5f-8298-4d42-8353-dc16e6ebdfb4",
   "metadata": {},
   "source": [
    "2. Consider the geometric Brownian motion process $X_t$ that solves\n",
    "\t\\begin{equation*}\n",
    "\tdX= rX\\,dt + \\sigma X\\,dW\\;,\\quad X(0) = X_0\\;,\n",
    "\t\\end{equation*}\n",
    "\tand which is given by $X_t = X_0e^{Y_t}$, where\n",
    "\t$Y_t = (r-\\sigma^2/2)t + \\sigma W_t$ with $W$ being a standard\n",
    "\tWiener process. For $M\\in\\mathbb{N}$, let\n",
    "\t\\begin{equation*}\n",
    "\t\\Psi\\bigl(X_{t_0},\\dots , X_{t_M}\\bigr) = \\max_{0\\le m\\le M}X_{t_m} - \\min_{0\\le m\\le M}X_{t_m}\\;,\n",
    "\t\\end{equation*}\n",
    "\twhere $t_m=m/M$ as before.  We want to estimate\n",
    "\t$\\mu = \\mathbb{E}\\bigl[\\Psi\\bigl(X_{t_0},\\dots , X_{t_M}\\bigr)\\bigr]$ for\n",
    "\t$X_0=6$, $r=0.05$, $\\sigma = 0.3$, and $M=100$. Use your procedure\n",
    "\tdeveloped in point 1 to estimate $\\mu$ using\n",
    "\tstratified sampling with $S=10$ strata. Moreover, compute the total\n",
    "\tnumber of samples $N$ such that the asymptotic $99\\%$ confidence\n",
    "\tinterval is smaller than $2\\, tol$ for $tol = 10^{-2},\n",
    "\t10^{-3}$. Investigate both proportional and optimal sampling\n",
    "\tallocation in each strata and compare it to a crude Monte Carlo approach.\n",
    "\t\n",
    "\t**Remark:** The function $\\Psi$ is related to the value of a\n",
    "\tlook-back option whose payoff is equivalent to buying at the minimum\n",
    "\tand selling at the maximum price on the time interval $[0, T=1]$. As\n",
    "\tgiven here, $\\Psi$ omits the (constant) discount factor $e^{-rT}$\n",
    "\tthat compensates for waiting until time $T$ to collect the payoff.\n",
    "\n",
    "    **Remark:** At first glance, it may seem unusual that the `crude_Monte_carlo` and `stratification` function headers include an optional sample size `N` as an argument. This is because these functions are designed to automatically determine the sample size. However, the inclusion of `N` provides flexibility, allowing for a specific sample size to be set if needed. This will be particularly useful in the third part of the exercise."
   ]
  },
  {
   "cell_type": "code",
   "execution_count": 6,
   "id": "ce37eed3-c14c-412d-a7e7-040d85710fa8",
   "metadata": {},
   "outputs": [],
   "source": [
    "X0 = 6\n",
    "r = 0.05\n",
    "sigma = 0.3\n",
    "S = 10\n",
    "M = 100\n",
    "T = 1\n",
    "t = np.linspace(0, T, M)"
   ]
  },
  {
   "cell_type": "code",
   "execution_count": 7,
   "id": "bdce4add-24f7-45a8-8e2f-85b05c2ecfa4",
   "metadata": {},
   "outputs": [],
   "source": [
    "alpha = 0.01\n",
    "cval = norm.ppf(1 - alpha / 2)"
   ]
  },
  {
   "cell_type": "code",
   "execution_count": 8,
   "id": "745af0f2-20dc-45fc-a28f-a0f4dc249cbc",
   "metadata": {},
   "outputs": [],
   "source": [
    "N_pilot = 100"
   ]
  },
  {
   "cell_type": "code",
   "execution_count": 9,
   "id": "1fbba3b1-6d46-4e01-ae0f-846b71044be7",
   "metadata": {},
   "outputs": [],
   "source": [
    "gBm = lambda W: X0 * np.exp((r - sigma ** 2 / 2) * t + sigma * W)"
   ]
  },
  {
   "cell_type": "code",
   "execution_count": 10,
   "id": "581875ab-7507-49e9-afb8-8b168b34528b",
   "metadata": {},
   "outputs": [],
   "source": [
    "def crude_Monte_Carlo(tol: float, N: float=None) -> Tuple[float, float, int]:\n",
    "    \"\"\"\n",
    "    Performs a crude Monte Carlo estimation based on a specified tolerance level, `tol`.\n",
    "    Returns the estimated mean, variance, as well as the sample size used.\n",
    "    \"\"\"\n",
    "    def generate_samples(n: int) -> np.array:\n",
    "        dt = t[1] - t[0]\n",
    "        w = np.zeros((n, M))\n",
    "        w[:, 1:] = np.sqrt(dt) * np.random.randn(n, M - 1).cumsum(axis=1)\n",
    "        x = gBm(w)\n",
    "        psi = x.max(axis=1) - x.min(axis=1)\n",
    "        return psi\n",
    "\n",
    "    # Pilot run to estimate variance\n",
    "    psi_pilot = generate_samples(N_pilot)\n",
    "    var_pilot = np.var(psi_pilot, ddof=1)\n",
    "\n",
    "    # Calculate required sample size based on pilot variance\n",
    "    if N is None:\n",
    "        N = int(np.ceil((cval * np.sqrt(var_pilot) / tol) ** 2))\n",
    "\n",
    "    # Main run with calculated sample size\n",
    "    psi_main = generate_samples(N)\n",
    "\n",
    "    mc_mean = np.mean(psi_main)\n",
    "    mc_var = np.var(psi_main, ddof=1)\n",
    "\n",
    "    return mc_mean, mc_var, N"
   ]
  },
  {
   "cell_type": "code",
   "execution_count": 11,
   "id": "a98b13f4-ca16-4425-b83b-3d3d4fa85385",
   "metadata": {},
   "outputs": [],
   "source": [
    "def pilot_run(S: int, N_pilot: int) -> np.array:\n",
    "    \"\"\"\n",
    "    Performs a pilot run for a stratified Monte Carlo simulation with `S` strata and `N_pilot` samples per stratum.\n",
    "    Returns the variance of each stratum.\n",
    "    \"\"\"\n",
    "    Nj = N_pilot * np.ones(S).astype(int)\n",
    "\n",
    "    w = stratified_brownian_motions(S, Nj, M, T)\n",
    "    x = gBm(w)\n",
    "    psi = x.max(axis=1) - x.min(axis=1)\n",
    "    \n",
    "    strata = np.split(psi, Nj.cumsum()[:-1])\n",
    "    vars = np.array([np.var(stratum, ddof=1) for stratum in strata])\n",
    "    \n",
    "    return vars"
   ]
  },
  {
   "cell_type": "code",
   "execution_count": 12,
   "id": "02343532-e611-4c4a-9cd8-c386093644b9",
   "metadata": {},
   "outputs": [],
   "source": [
    "def stratification(S: int, M: int, tol: float, alloc: str, N: int=None) -> Tuple[float, float, np.array]:\n",
    "    \"\"\"\n",
    "    Performs a stratified Monte Carlo simulation with `S` strata, based on a specified tolerance level, `tol`.\n",
    "    The allocation of samples to strata is determined by the `alloc` parameter, which can be either \"proportional\" or \"optimal\".\n",
    "    Returns the mean, variance, and number of samples in each stratum.\n",
    "    \"\"\"\n",
    "    vars = pilot_run(S, N_pilot)\n",
    "    p = 1 / S\n",
    "\n",
    "    if alloc == \"proportional\":\n",
    "        var = p * vars.sum()\n",
    "        if N is None:\n",
    "            N = int(np.ceil((cval * np.sqrt(var) / tol) ** 2))\n",
    "        Nj = (p * N * np.ones(S)).astype(int)\n",
    "\n",
    "    elif alloc == \"optimal\":\n",
    "        var = (p * np.sqrt(vars).sum()) ** 2\n",
    "        if N is None:\n",
    "            N = int(np.ceil((cval * np.sqrt(var) / tol) ** 2))\n",
    "        Nj = np.ceil(N * vars / vars.sum()).astype(int)\n",
    "    \n",
    "    w = stratified_brownian_motions(S, Nj, M, T)\n",
    "    x = gBm(w)\n",
    "    psi = x.max(axis=1) - x.min(axis=1)\n",
    "    \n",
    "    strata = np.split(psi, Nj.cumsum()[:-1])\n",
    "    vars = np.array([np.var(stratum, ddof=1) for stratum in strata])\n",
    "    means = np.array([np.mean(stratum) for stratum in strata])\n",
    "\n",
    "    mean = p * means.sum()\n",
    "    var = p * vars.sum() if alloc == \"proportional\" else (p * np.sqrt(vars).sum()) ** 2\n",
    "\n",
    "    return mean, var, Nj    "
   ]
  },
  {
   "cell_type": "markdown",
   "id": "965238d8-6713-44f9-b2cc-dc1c97de8fdc",
   "metadata": {},
   "source": [
    "Since the geometric Brownian motion is given as an explicit\n",
    "function of Brownian motion, realizations of stratified geometric\n",
    "Brownian motion can be easily generated using the procedure of point 1.\n",
    "In fact, let $B_{t_m}^{(i,j)}$ denote the $i$-th realization,\n",
    "$i=1,\\dots,N_j$, of the Brownian motion stratified to the stratum\n",
    "$\\Omega_j$, $j=1,\\dots,S$, evaluated in the discrete times\n",
    "$t_m = m/M$. Then the discrete time realizations of the stratified\n",
    "geometric Brownian motion are simply obtained by\n",
    "\\begin{equation*}\n",
    "X_{t_m}^{(i,j)} = X_0\\exp \\biggl[\\biggl(r-\\frac{\\sigma^2}{2}\\biggr)t_m + \\sigma B_{t_m}^{(i,j)}\\biggr]\\;.\n",
    "\\end{equation*}\n",
    "Compared to Monte Carlo, stratification yields a significant\n",
    "variance reduction. For example, for $tol=10^{-2}$, the\n",
    "stratification estimator with optimal sample allocation requires\n",
    "$N_{\\text{str}} \\approx 30000$ for an $99\\%$ confidence interval, while\n",
    "the Monte Carlo method needs $N_{\\text{mc}} \\approx 90000$. The mean and the variance can be seen in the output of the cell down below. "
   ]
  },
  {
   "cell_type": "code",
   "execution_count": 13,
   "id": "c5731466-5298-412e-9162-6694b31fe1d4",
   "metadata": {},
   "outputs": [
    {
     "name": "stdout",
     "output_type": "stream",
     "text": [
      "S = 10, tol = 1.000e-02, alpha = 0.01\n",
      "----------------------------------------\n",
      "Crude Monte Carlo       | est = 2.754, var = 1.337, N = 79567\n",
      "Proportional allocation | est = 2.755, var = 0.530, N = 43250\n",
      "Optimal allocation      | est = 2.753, var = 0.445, N = 30703\n"
     ]
    }
   ],
   "source": [
    "tol = 0.01\n",
    "\n",
    "mean_mc, var_mc, N_mc = crude_Monte_Carlo(tol)\n",
    "mean_prop, var_prop, Nj_prop = stratification(S, M, tol, \"proportional\")\n",
    "mean_opt, var_opt, Nj_opt = stratification(S, M, tol, \"optimal\")\n",
    "\n",
    "print(f\"S = {S}, tol = {tol:.3e}, alpha = {alpha}\")\n",
    "print(\"-\" * 40)\n",
    "print(f\"Crude Monte Carlo {'':<6}| est = {mean_mc:.3f}, var = {var_mc:.3f}, N = {N_mc}\")\n",
    "print(f\"Proportional allocation {'':<0}| est = {mean_prop:.3f}, var = {var_prop:.3f}, N = {Nj_prop.sum()}\")\n",
    "print(f\"Optimal allocation {'':<5}| est = {mean_opt:.3f}, var = {var_opt:.3f}, N = {Nj_opt.sum()}\")"
   ]
  },
  {
   "cell_type": "markdown",
   "id": "5da30480-9962-4570-8b9f-d2082e3b7d64",
   "metadata": {},
   "source": [
    "3. Repeat the previous point, but now consider only $N_j=2$ samples\n",
    "\tper stratum $\\Omega_j$, $j=1,\\dots, S$, and investigate the\n",
    "\testimator's variance decay as a function of $S$."
   ]
  },
  {
   "cell_type": "markdown",
   "id": "022bca82-04ce-4e5c-accc-616d00f78ff4",
   "metadata": {},
   "source": [
    "If we keep $N_j=2$ fixed and increase $S$, effectively, we are increasing the sample size $N=2S$. The following Figure shows the variance of the estimator as a function of $S$. We see that it dereases as $S^{-1}\\sim N^{-1},$ as expected for a Monte Carlo estimator."
   ]
  },
  {
   "cell_type": "code",
   "execution_count": 14,
   "id": "bfa96854-5d9a-40e9-aaeb-670ce0f3d3c1",
   "metadata": {},
   "outputs": [
    {
     "data": {
      "application/vnd.jupyter.widget-view+json": {
       "model_id": "7213ab8435bd4878aa009719afe3aa40",
       "version_major": 2,
       "version_minor": 0
      },
      "text/plain": [
       "0it [00:00, ?it/s]"
      ]
     },
     "metadata": {},
     "output_type": "display_data"
    }
   ],
   "source": [
    "S_arr = np.logspace(1, 4, 10).astype(int)\n",
    "\n",
    "vars_mc = np.zeros(len(S_arr))\n",
    "vars_strat = np.zeros(len(S_arr))\n",
    "for i, S in tqdm(enumerate(S_arr)):\n",
    "    N = 2 * S\n",
    "\n",
    "    _, var_mc, _ = crude_Monte_Carlo(tol, N=N)\n",
    "    _, var_strat, _ = stratification(S, M, tol, \"proportional\", N=N)\n",
    "\n",
    "    vars_mc[i] = var_mc / N\n",
    "    vars_strat[i] = var_strat / N"
   ]
  },
  {
   "cell_type": "code",
   "execution_count": 15,
   "id": "f101de26-e0c3-4ae8-9609-02baab02e3a5",
   "metadata": {},
   "outputs": [
    {
     "data": {
      "image/png": "[encoded data removed]",
      "text/plain": [
       "<Figure size 640x480 with 1 Axes>"
      ]
     },
     "metadata": {},
     "output_type": "display_data"
    }
   ],
   "source": [
    "plt.loglog(2 * S_arr, vars_mc, \"o-\", label=\"Crude Monte Carlo\")\n",
    "plt.loglog(2 * S_arr, vars_strat, \"o-\", label=\"Stratification\")\n",
    "plt.loglog(2 * S_arr, (2 * S_arr) ** -1.0, \"k--\", label=\"$N^{-1}$\")\n",
    "plt.grid()\n",
    "plt.xlabel(\"$N = 2S$\")\n",
    "plt.ylabel(\"Variance\")\n",
    "plt.legend();"
   ]
  },
  {
   "cell_type": "markdown",
   "id": "6148b94d-8a5a-4fbf-9f66-2505abbd4561",
   "metadata": {},
   "source": [
    "## Exercise 2\n",
    "\n",
    "Consider the problem of estimating $\\mu = \\mathbb{E}(Z)$ for $Z=\\psi(X)$ and\n",
    "$X\\sim U(0,1)$."
   ]
  },
  {
   "cell_type": "markdown",
   "id": "7c9d0a41-ba28-4880-8dac-e9cb9a9f90b0",
   "metadata": {},
   "source": [
    "1. Show that the _randomized midpoint quadrature_ estimator\n",
    "\t\\begin{equation*}\n",
    "\t\\hat\\mu_S := \\frac{1}{S}\\sum_{j=1}^{S}\\psi\\biggl(\\frac{j-1+U_j}{S}\\biggr)\\;,\n",
    "\t\\end{equation*}\n",
    "\twith $U_1,\\dots,U_S$ i.i.d. $U(0,1)$, corresponds to a stratified\n",
    "\tsampling estimator of $\\mu$.\n",
    "\n",
    "    **Hint:** Consider uniform strata.\n",
    "   \n",
    "    **Optional:** Explain why $\\hat\\mu_S $ is called _randomized\n",
    "\t\tmidpoint quadrature_ estimator."
   ]
  },
  {
   "cell_type": "markdown",
   "id": "d2d5701e-1642-487d-8224-360c3e6ec261",
   "metadata": {},
   "source": [
    "The estimator $\\hat\\mu_S$ is a stratified sampling estimator with\n",
    "  \\begin{equation*}\n",
    "    \\Omega_j = \\biggl(\\frac{j-1}{S},\\frac{j}{S}\\biggr)\\;,\\quad\\text{and}\\quad\n",
    "  N_j = 1\\;,\n",
    "\\end{equation*}\n",
    "for $j=1,\\dots, S$.\n",
    "\n",
    "The name is motivated by the close similarity to the midpoint\n",
    "quadrature. That is, consider approximating $\\int_0^1 \\psi(x)\\,dx$ by\n",
    "the midpoint rule using the partition $\\Omega_j$:\n",
    "\\begin{equation*}\n",
    "  \\int_0^1 \\psi(x)\\,dx = \\sum_{j=1}^S \\int_{\\frac{j-1}{S}}^{\\frac{j}{S}} \\psi(x)\\,dx\n",
    "  \\approx  \\sum_{j=1}^S\\psi\\biggl(\\frac{j-1}{S} + \\frac{1}{2S}\\biggr)\\;.\n",
    "\\end{equation*}\n",
    "Since $\\mathbb{E}(U_j) = 1/2$, $\\hat\\mu_S$ can be viewed as a randomized\n",
    "midpoint rule."
   ]
  },
  {
   "cell_type": "markdown",
   "id": "42e97b06-b15c-4057-9349-379072ab4727",
   "metadata": {},
   "source": [
    "2. Suppose that $\\psi\\in C^1\\bigl([0,1]\\bigr)$. Show that the\n",
    "\testimator $\\hat\\mu_S$, which is a Monte Carlo type\n",
    "\testimator, converges with _super-canonical rate_ (i.e. faster\n",
    "\tthan $S^{-1/2}$). Specifically, show that\n",
    "\t$$\\sqrt{\\mathbb{E}[{(\\mu-\\hat\\mu_S)}^2]} \\le c S^{-3/2}\\;,$$\n",
    "\tfor an appropriate positive constant $c<\\infty$ independent of\n",
    "\t$S$. Determine also the constant $c$."
   ]
  },
  {
   "cell_type": "markdown",
   "id": "d1bb6778-b685-4058-92e3-822acb21e936",
   "metadata": {},
   "source": [
    "We compute the mean squared error of the stratified sampling\n",
    "  estimator as\n",
    "  \\begin{equation*}\n",
    "    \\mathbb{E}\\bigl({(\\mu-\\hat\\mu_S)}^2\\bigr) = \\mathbb{V}\\textrm{ar}(\\hat\\mu_S) = S^{-2}\\sum_{j=1}^S\\mathbb{V}\\textrm{ar}\\biggl[\\psi\\biggl(\\frac{j-1}{S} + \\frac{U_j}{S}\\biggr)\\biggr]\\;.\n",
    "  \\end{equation*}\n",
    "  To quantify the variance term, we linearize the function $\\psi$\n",
    "  around  the point $(j-1)/S$, which yields\n",
    "  \\begin{equation*}\n",
    "    \\mathbb{V}\\textrm{ar}\\biggl[\\psi\\biggl(\\frac{j-1}{S} + \\frac{U_j}{S}\\biggr)\\biggr] =\n",
    "    \\mathbb{V}\\textrm{ar}\\biggl[\\psi\\biggl(\\frac{j-1}{S}\\biggr) + \\psi'(\\xi_j)\\frac{U_j}{S}\\biggr]\n",
    "    = S^{-2}\\mathbb{V}\\textrm{ar}\\bigl[ \\psi'(\\xi_j)U_j\\bigr]\\;,\n",
    "  \\end{equation*}\n",
    "  for some $\\xi_j$ between $(j-1)/S$ and $(j-1+U_j)/S$. From the\n",
    "  hypothesis, it follows that\n",
    "  $\\mathbb{V}\\textrm{ar}\\bigl[ \\psi'(\\xi_j)U_j\\bigr] \\le C^2/3$ for all $j=1,\\dots, S$,\n",
    "  where $C = \\sup_{x\\in [0,1]}\\lvert\\psi'(x) \\rvert$. Consequently, we\n",
    "  find that\n",
    "  \\begin{equation*}\n",
    "    \\mathbb{E}\\bigl({(\\mu-\\hat\\mu_S)}^2\\bigr) \\le \\frac{C^2}{3} S^{-3}\\;,\n",
    "  \\end{equation*}\n",
    "  as required.   "
   ]
  },
  {
   "cell_type": "markdown",
   "id": "a906154a-1976-4bbc-a37d-395c128c698e",
   "metadata": {},
   "source": [
    "## Exercise 3\n",
    "\n",
    "1. Consider the random variable $Z = 4\\, \\mathbb{I}_{\\{U_1^2 + U_2^2\\le 1\\}}$ with $U_1,U_2 \\overset{\\text{i.i.d.}}{\\sim} \\mathcal{U}(0,1)$, so that $\\mathbb{E}(Z) = \\pi$. Consider the control variates $\\tilde{Z}_{\\alpha,i} = Z - \\alpha(Y_i-\\mathbb{E}(Y_i))$ where the controls $Y_i$ are given by:\n",
    "$$\n",
    "Y_1 := \\mathbb{I}_{\\{U_1 + U_2\\le 1\\}}\\;,\\quad Y_2 := \\mathbb{I}_{\\{U_1 + U_2\\ge \\sqrt{2}\\}}\\;,\\quad\\text{and}\\quad Y_3 := (U_1+U_2-1)\\mathbb{I}_{\\{1<U_1 + U_2\\le \\sqrt{2}\\}}\\;.\n",
    "$$\n",
    "Estimate their respective expected variance reduction $\\mathbb{V}\\text{ar}(\\tilde{Z}_{\\alpha, i})/\\mathbb{V}\\text{ar}(Z)$ using $N= 10^6$ simulations.\n",
    "\n",
    "    **Hint:** The expectations for the control variates are given by\n",
    "    - $\\mathbb{E}(Y_1) = 1/2$\n",
    "    - $\\mathbb{E}(Y_2) = 3 - 2\\sqrt{2}$\n",
    "    - $\\mathbb{E}(Y_3) = -\\frac{8\\sqrt{2}}{3} +\\frac{23}{6}$"
   ]
  },
  {
   "cell_type": "markdown",
   "id": "c5fbeaed-692e-426f-8eb8-94cf5c21f9c9",
   "metadata": {},
   "source": [
    "A possible implementation of this problem is shown below. The predicted variance reductions\n",
    "are compared to the variance of the control variates $\\tilde{Z}_{\\alpha}$ computed using the optimal choice\n",
    "of control parameter $\\alpha$ for each combination of controls. The console output is shown below.\n",
    "As can be seen from the console output, the best performing case is when all three control\n",
    "variates are used."
   ]
  },
  {
   "cell_type": "code",
   "execution_count": 16,
   "id": "b7503240-0485-4f5e-af55-5ed1ddb46c73",
   "metadata": {
    "scrolled": true
   },
   "outputs": [],
   "source": [
    "def control_variate_estimator(Z: np.array, Y: np.array, mean_Y: float) -> np.array:\n",
    "    \"\"\"\n",
    "    Control variate estimation using original (`Z`) and control variate realizations (`Y`),\n",
    "    as well as the expected value for Y (`mean_Y`).\n",
    "    Returns the control variate estimator array.\n",
    "    \"\"\"\n",
    "    var_Y = np.var(Y, ddof=1)\n",
    "    cov_ZY = np.cov(Z, Y, ddof=1)[0, 1]\n",
    "    alpha = cov_ZY / var_Y\n",
    "    Z_cv = Z - alpha * (Y - mean_Y)\n",
    "    return Z_cv"
   ]
  },
  {
   "cell_type": "code",
   "execution_count": 17,
   "id": "ba993d57-52a5-4f11-a250-c2c45ae86d22",
   "metadata": {},
   "outputs": [],
   "source": [
    "N = 10 ** 6\n",
    "\n",
    "U = np.random.rand(N, 2)"
   ]
  },
  {
   "cell_type": "code",
   "execution_count": 18,
   "id": "c59bcbeb-06a9-4afa-a117-1ab468ae200d",
   "metadata": {},
   "outputs": [],
   "source": [
    "Z = 4 * (np.linalg.norm(U, axis=1) <= 1)"
   ]
  },
  {
   "cell_type": "code",
   "execution_count": 19,
   "id": "842ad746-6988-491b-9792-e24ea27ccbaf",
   "metadata": {},
   "outputs": [],
   "source": [
    "Y1 = np.sum(U, axis=1) <= 1\n",
    "Y2 = np.sum(U, axis=1) >= np.sqrt(2)\n",
    "Y3 = (np.sum(U, axis=1) - 1) * (1 < np.sum(U, axis=1)) * (np.sum(U, axis=1) <= np.sqrt(2))"
   ]
  },
  {
   "cell_type": "code",
   "execution_count": 20,
   "id": "a74b5f10-40c6-4bb6-84db-d1a1bd7243df",
   "metadata": {},
   "outputs": [],
   "source": [
    "mean_Y1 = 1 / 2\n",
    "mean_Y2 = 3 - 2 * np.sqrt(2)\n",
    "mean_Y3 = - 8 * np.sqrt(2) / 3 + 23 / 6"
   ]
  },
  {
   "cell_type": "code",
   "execution_count": 21,
   "id": "99ccc826-dc32-4301-b6f1-9c6008dcb7e4",
   "metadata": {},
   "outputs": [],
   "source": [
    "Z1 = control_variate_estimator(Z, Y1, mean_Y1)\n",
    "Z2 = control_variate_estimator(Z, Y2, mean_Y2)\n",
    "Z3 = control_variate_estimator(Z, Y3, mean_Y3)"
   ]
  },
  {
   "cell_type": "code",
   "execution_count": 22,
   "id": "7e0cf9bf-e89a-42a9-9756-859820a73084",
   "metadata": {},
   "outputs": [],
   "source": [
    "var_red_Z1 = np.var(Z1, ddof=1) / np.var(Z, ddof=1)\n",
    "var_red_Z2 = np.var(Z2, ddof=1) / np.var(Z, ddof=1)\n",
    "var_red_Z3 = np.var(Z3, ddof=1) / np.var(Z, ddof=1)"
   ]
  },
  {
   "cell_type": "code",
   "execution_count": 23,
   "id": "3537178e-15d4-476c-8d34-9e0ceb84c76a",
   "metadata": {},
   "outputs": [
    {
     "name": "stdout",
     "output_type": "stream",
     "text": [
      "Variance reduction using Z1: 0.7267\n",
      "Variance reduction using Z2: 0.2412\n",
      "Variance reduction using Z3: 0.9997\n"
     ]
    }
   ],
   "source": [
    "print(f\"Variance reduction using Z1: {var_red_Z1:.4f}\")\n",
    "print(f\"Variance reduction using Z2: {var_red_Z2:.4f}\")\n",
    "print(f\"Variance reduction using Z3: {var_red_Z3:.4f}\")"
   ]
  },
  {
   "cell_type": "markdown",
   "id": "89b433d7-3011-4d6f-9c65-886a54fd7af4",
   "metadata": {},
   "source": [
    "2. Consider again the random variable  $Z= 4\\, \\mathbb{I}_{\\{U_1^2 + U_2^2\\le 1\\}}$ as in point 1.\n",
    "We now wish to use multiple control variates and compare their variance reduction to the single control variate case.\n",
    "Consider the control variate $\\tilde{Z}_{\\boldsymbol{\\alpha}} = Z - \\boldsymbol{\\alpha} \\cdot (\\mathbf{Y} - \\mathbb{E}(\\mathbf{Y}))$ where $\\boldsymbol{\\alpha} \\in \\mathbb{R}^d$ and $\\mathbf{Y}$ is a $d$-dimensional control vector.\n",
    "Perform simulations and report the expected variance reduction $\\mathbb{V}\\text{ar}(\\tilde{Z}_{\\boldsymbol{\\alpha}}) / \\mathbb{V}\\text{ar}(Z)$ for each of the following control vectors:\n",
    "    \\begin{equation*}\n",
    "      \\boldsymbol{Y}^1 := (Y_1,Y_2)^T\\;,  \\quad \\boldsymbol{Y}^2 := (Y_1,Y_3)^T\\;,  \\quad\n",
    "      \\boldsymbol{Y}^3 := (Y_2,Y_3)^T\\;,  \\quad\\text{and}\\quad\n",
    "      \\boldsymbol{Y}^4 := (Y_1,Y_2,Y_3)^T\\;.\n",
    "    \\end{equation*}\n",
    "Here, the random variables $Y_i$, $i=1,2,3$ are as described in point 1."
   ]
  },
  {
   "cell_type": "code",
   "execution_count": 24,
   "id": "b8d014c8-291e-4b83-8649-73c08944d69b",
   "metadata": {},
   "outputs": [],
   "source": [
    "def multiple_control_variate_estimator(Z: np.array, Y: List[np.array], mean_Y: List[float]) -> np.array:\n",
    "    \"\"\"\n",
    "    Control variate estimation using original (`Z`) and control variates realizations (`Y`),\n",
    "    as well as the expected values for Y (`mean_Y`).\n",
    "    Returns the control variate estimator array.\n",
    "    \"\"\"\n",
    "    cov_YY = np.cov(Y, ddof=1)\n",
    "    cov_ZY = np.cov(Z, Y, ddof=1)[0, 1:]\n",
    "    alpha = np.linalg.solve(cov_YY, cov_ZY)\n",
    "    Z_cv = Z - np.dot(alpha, np.stack([y - mean_y for y, mean_y in zip(Y, mean_Y)]))\n",
    "    return Z_cv"
   ]
  },
  {
   "cell_type": "code",
   "execution_count": 25,
   "id": "ce6db185-9295-4f0b-9392-08eb7b1861c5",
   "metadata": {},
   "outputs": [],
   "source": [
    "Z1 = multiple_control_variate_estimator(Z, [Y1, Y2], [mean_Y1, mean_Y2])\n",
    "Z2 = multiple_control_variate_estimator(Z, [Y1, Y3], [mean_Y1, mean_Y3])\n",
    "Z3 = multiple_control_variate_estimator(Z, [Y2, Y3], [mean_Y2, mean_Y3])\n",
    "Z4 = multiple_control_variate_estimator(Z, [Y1, Y2, Y3], [mean_Y1, mean_Y2, mean_Y3])"
   ]
  },
  {
   "cell_type": "code",
   "execution_count": 26,
   "id": "16d5957c-1aba-4739-8f21-a01a01109d5d",
   "metadata": {},
   "outputs": [],
   "source": [
    "var_red_Z1 = np.var(Z1, ddof=1) / np.var(Z, ddof=1)\n",
    "var_red_Z2 = np.var(Z2, ddof=1) / np.var(Z, ddof=1)\n",
    "var_red_Z3 = np.var(Z3, ddof=1) / np.var(Z, ddof=1)\n",
    "var_red_Z4 = np.var(Z4, ddof=1) / np.var(Z, ddof=1)"
   ]
  },
  {
   "cell_type": "code",
   "execution_count": 27,
   "id": "9f555d84-ccbb-468f-b757-eb12891deafd",
   "metadata": {},
   "outputs": [
    {
     "name": "stdout",
     "output_type": "stream",
     "text": [
      "Variance reduction using Z1: 0.2212\n",
      "Variance reduction using Z2: 0.6189\n",
      "Variance reduction using Z3: 0.1808\n",
      "Variance reduction using Z4: 0.1745\n"
     ]
    }
   ],
   "source": [
    "print(f\"Variance reduction using Z1: {var_red_Z1:.4f}\")\n",
    "print(f\"Variance reduction using Z2: {var_red_Z2:.4f}\")\n",
    "print(f\"Variance reduction using Z3: {var_red_Z3:.4f}\")\n",
    "print(f\"Variance reduction using Z4: {var_red_Z4:.4f}\")"
   ]
  },
  {
   "cell_type": "markdown",
   "id": "d207dc44-6b1e-4e5f-a930-a36e78764961",
   "metadata": {},
   "source": [
    "3. Implement a one-shot control variate algorithm for the control vector with the best variance reduction."
   ]
  },
  {
   "cell_type": "code",
   "execution_count": 28,
   "id": "aac4e3f2-7139-4561-8804-fa37d2e02d8d",
   "metadata": {},
   "outputs": [],
   "source": [
    "def one_shot_best_variance(N: int, alpha: float=0.05) -> Tuple[float, float]:\n",
    "    \"\"\"\n",
    "    Performs a one-shot Monte Carlo simulation with `N` samples using\n",
    "    control variate estimation to calculate the mean and confidence interval.\n",
    "    \"\"\"\n",
    "    U = np.random.rand(N, 2)\n",
    "\n",
    "    Z = 4 * (np.linalg.norm(U, axis=1) <= 1)\n",
    "\n",
    "    Y1 = np.sum(U, axis=1) <= 1\n",
    "    Y2 = np.sum(U, axis=1) >= np.sqrt(2)\n",
    "    Y3 = (np.sum(U, axis=1) - 1) * (1 < np.sum(U, axis=1)) * (np.sum(U, axis=1) <= np.sqrt(2))\n",
    "    \n",
    "    Z_cv = multiple_control_variate_estimator(Z, [Y1, Y2, Y3], [mean_Y1, mean_Y2, mean_Y3])\n",
    "\n",
    "    mean = Z_cv.mean()\n",
    "    var = Z_cv.var(ddof=1)\n",
    "\n",
    "    cval = norm.ppf(1 - alpha / 2)\n",
    "    ci = cval * var / np.sqrt(N)\n",
    "\n",
    "    return mean, ci"
   ]
  },
  {
   "cell_type": "code",
   "execution_count": 29,
   "id": "0d325388-8f96-4835-aab8-165912791c23",
   "metadata": {},
   "outputs": [
    {
     "name": "stdout",
     "output_type": "stream",
     "text": [
      "Control variate estimation: 3.148 ± 8.804e-03\n"
     ]
    }
   ],
   "source": [
    "N = 10 ** 4\n",
    "\n",
    "mean, ci = one_shot_best_variance(N)\n",
    "print(f\"Control variate estimation: {mean:.3f} ± {ci:.3e}\")"
   ]
  },
  {
   "cell_type": "markdown",
   "id": "39983de6-a989-4d85-beed-232181a68220",
   "metadata": {},
   "source": [
    "4. **Optional:** Show that the expectations of the control variates\n",
    "$$\n",
    "Y_1 := \\mathbb{I}_{\\{U_1 + U_2\\le 1\\}}\\;,\\quad Y_2 := \\mathbb{I}_{\\{U_1 + U_2\\ge \\sqrt{2}\\}}\\;,\\quad\\text{and}\\quad Y_3 := (U_1+U_2-1)\\mathbb{I}_{\\{1<U_1 + U_2\\le \\sqrt{2}\\}}\n",
    "$$\n",
    "are indeed given by\n",
    "    - $\\mathbb{E}(Y_1) = 1/2$\n",
    "    - $\\mathbb{E}(Y_2) = 3 - 2\\sqrt{2}$\n",
    "    - $\\mathbb{E}(Y_3) = -\\frac{8\\sqrt{2}}{3} +\\frac{23}{6}$.\n",
    "\n",
    "\n",
    "   **Hint:** Keep in mind that the probability density function for the sum of two independent random variables can be determined by performing the convolution of their individual density functions."
   ]
  },
  {
   "cell_type": "markdown",
   "id": "859b6615-83d6-4e68-acdd-530f2a1db860",
   "metadata": {},
   "source": [
    "Given two independent and identically distributed random variables $U_1, U_2 \\sim \\mathcal{U}(0,1)$ with probability density functions $ f_{U_1} $ and $ f_{U_2} $ respectively, the density of $ U := U_1 + U_2 $ is obtained by the convolution of $ f_{U_1} $ and $ f_{U_2} $:\n",
    "\n",
    "$$\n",
    "f_{U}(t) = (f_{U_1} * f_{U_2})(t) = \\int_{-\\infty}^{\\infty} f_{U_1}(t - z) f_{U_2}(z) dz.\n",
    "$$\n",
    "\n",
    "Since $ U_1 $ and $ U_2 $ are uniformly distributed, the convolution simplifies to\n",
    "\n",
    "$$\n",
    "\\begin{align}\n",
    "f_{U}(t) &= \\int_{-\\infty}^{\\infty} \\mathbb{I}_{\\{0 \\leq t - z \\leq 1\\}} \\cdot \\mathbb{I}_{\\{0 \\leq z \\leq 1\\}} dz \\\\\n",
    "         &= \\int_{-\\infty}^{\\infty} \\mathbb{I}_{\\{\\max{(0, \\, t-1)} \\leq \\,z\\, \\leq \\min{(1, \\,t)}\\}} dz \\\\\n",
    "         &= \\min{(1, \\,t)} - \\max{(0, \\,t-1)}.\n",
    "\\end{align}\n",
    "$$\n",
    "\n",
    "Integrating the density function $f_{U}$ yields the cumulative distribution function (CDF)\n",
    "\n",
    "$$\n",
    "F_{U}(t) = \\begin{cases} \n",
    "\\frac{1}{2}t^2 & \\text{if } 0 \\leq t < 1, \\\\\n",
    "-\\frac{1}{2}t^2 + 2t - 1 & \\text{if } 1 \\leq t < 2.\n",
    "\\end{cases}\n",
    "$$\n",
    "\n",
    "The expected values $ \\mathbb{E}(Y_1) $ and $ \\mathbb{E}(Y_2) $ can be directly computed using the CDF \n",
    "\n",
    "$$\n",
    "\\mathbb{E}(Y_1) = F_U(1) = \\frac{1}{2},\n",
    "$$\n",
    "\n",
    "$$\n",
    "\\mathbb{E}(Y_2) = 1 - F_U(\\sqrt{2}) = 3 - 2\\sqrt{2}.\n",
    "$$\n",
    "\n",
    "For $ Y_3 $, the expected value is given by:\n",
    "\n",
    "$$\n",
    "\\begin{align}\n",
    "\\mathbb{E}(Y_3) &= \\int_{-\\infty}^\\infty (u - 1) \\cdot \\mathbb{I}_{\\{1 < u \\leq \\sqrt{2}\\}} \\cdot f_U(u) du \\\\\n",
    "                &= \\int_1^{\\sqrt{2}} (u - 1) (2 - u) du \\\\\n",
    "                &= -\\frac{8\\sqrt{2}}{3} + \\frac{23}{6}.\n",
    "\\end{align}\n",
    "$$"
   ]
  },
  {
   "cell_type": "markdown",
   "id": "c31f986b-4d71-427a-8a78-a47fdc4fd805",
   "metadata": {},
   "source": [
    "## Exercise 4 (optional, no solution)\n",
    "\n",
    "Let $Z$ be a random variable of which we would like to estimate the mean value and let $Y$ be a suitable control variate. It the mean of $Y$ is known, we can build a Control Variate Monte Carlo estimator as $$\\tag{1}\\hat\\mu_{CV} = \\frac{1}{N}\\sum_i ( Z^{(i)}-\\alpha (Y^{(i)}-E[Y]) ) ,\\text{ with } (Z^{(i)},Y^{(i)}) \\sim \\text{i.i.d $(Z,Y)$}.$$\n",
    "\n",
    "Consider now that case in which $\\mathbb{E}[Y]$ is not known and we need to estimate it via sampling."
   ]
  },
  {
   "cell_type": "markdown",
   "id": "c1208d4d-3476-4857-918d-9b6b0586797b",
   "metadata": {},
   "source": [
    "1. A first idea is to estimate $\\mathbb{E}[Y]$ by the sample average estimator $\\hat{\\mu}_Y = \\frac{1}{N} \\sum_j Y^{(j)}$ using the same sample as in Eq. (1). Show that the resulting estimator is unbiased but its variance is not smaller than (actually equal to) the one of a crude Monte Carlo estimator on $Z$."
   ]
  },
  {
   "cell_type": "markdown",
   "id": "d63d5859-785c-4f9b-9ac5-24fa87ac696a",
   "metadata": {},
   "source": [
    "2. A second idea is to estimate $\\mathbb{E}[Y]$ with an independent Monte Carlo estimator using a sample size $N_Y$.\n",
    "Let us denote by $C_Z$ the cost of generating $Z^{(i)}$ and by $C_Y$ the cost of generating $Y^{(i)}$, which we assume smaller than $C_Z$, and rename the sample size $N$ used in Eq.(1) as $N_Z$. For a given total budget $C=N_Z(C_Z+C_Y) + N_YC_Y$ for this control variate estimator, determine the optimal choice of $N_Z$ and $N_Y$ and the minimal variance achievable by the above strategy."
   ]
  },
  {
   "cell_type": "markdown",
   "id": "77ff0a7f-cee7-4bd8-a122-2e5ed7cca2b3",
   "metadata": {},
   "source": [
    "3. Compare then the variance obtained with that of a crude Monte Carlo estimator that uses a sample size $N$ the exhausts the same total budget $C=N C_Z$."
   ]
  }
 ],
 "metadata": {
  "kernelspec": {
   "display_name": "Python 3 (ipykernel)",
   "language": "python",
   "name": "python3"
  },
  "language_info": {
   "codemirror_mode": {
    "name": "ipython",
    "version": 3
   },
   "file_extension": ".py",
   "mimetype": "text/x-python",
   "name": "python",
   "nbconvert_exporter": "python",
   "pygments_lexer": "ipython3",
   "version": "3.10.12"
  },
  "widgets": {
   "application/vnd.jupyter.widget-state+json": {
    "state": {
     "0de26f2eb1c842c49286b52ec82f98e8": {
      "model_module": "@jupyter-widgets/controls",
      "model_module_version": "2.0.0",
      "model_name": "ProgressStyleModel",
      "state": {
       "description_width": ""
      }
     },
     "11c6d852a23c48179cb09395a8a170a9": {
      "model_module": "@jupyter-widgets/base",
      "model_module_version": "2.0.0",
      "model_name": "LayoutModel",
      "state": {}
     },
     "134f2f7d8e574e709f50b3419ee25529": {
      "model_module": "@jupyter-widgets/controls",
      "model_module_version": "2.0.0",
      "model_name": "VBoxModel",
      "state": {
       "_dom_classes": [
        "widget-interact"
       ],
       "children": [
        "IPY_MODEL_947c0df3912448ada2cfa90f49a95a1e",
        "IPY_MODEL_45784b8720d24bdfa17d7e188b5fa664",
        "IPY_MODEL_3afa2e33b89c40a4ac3642361f309351"
       ],
       "layout": "IPY_MODEL_46b8281168f049cb8ccf99ab99dcf6b6"
      }
     },
     "138cc1d1e5584bf2aa18bd9764ca1bb8": {
      "model_module": "@jupyter-widgets/controls",
      "model_module_version": "2.0.0",
      "model_name": "HTMLModel",
      "state": {
       "layout": "IPY_MODEL_44c9533d4f364c1ea5b6a163640a22f8",
       "style": "IPY_MODEL_918c377482a9413ca1b6d5a057244e5d",
       "value": " 10/? [00:06&lt;00:00,  1.42it/s]"
      }
     },
     "3afa2e33b89c40a4ac3642361f309351": {
      "model_module": "@jupyter-widgets/output",
      "model_module_version": "1.0.0",
      "model_name": "OutputModel",
      "state": {
       "layout": "IPY_MODEL_9a00e48d573f4675b4ebf0595450201b",
       "outputs": [
        {
         "data": {
          "image/png": "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",
          "text/plain": "<Figure size 640x480 with 1 Axes>"
         },
         "metadata": {},
         "output_type": "display_data"
        }
       ]
      }
     },
     "3ba96df76bc340d09f4491e2777c5cad": {
      "model_module": "@jupyter-widgets/controls",
      "model_module_version": "2.0.0",
      "model_name": "DescriptionStyleModel",
      "state": {
       "description_width": ""
      }
     },
     "44c9533d4f364c1ea5b6a163640a22f8": {
      "model_module": "@jupyter-widgets/base",
      "model_module_version": "2.0.0",
      "model_name": "LayoutModel",
      "state": {}
     },
     "45784b8720d24bdfa17d7e188b5fa664": {
      "model_module": "@jupyter-widgets/controls",
      "model_module_version": "2.0.0",
      "model_name": "DropdownModel",
      "state": {
       "_options_labels": [
        "2",
        "3",
        "4",
        "5",
        "6",
        "7",
        "8",
        "9",
        "10"
       ],
       "description": "N",
       "index": 0,
       "layout": "IPY_MODEL_b37e38ae259545ef97a7f155f03e37b5",
       "style": "IPY_MODEL_3ba96df76bc340d09f4491e2777c5cad"
      }
     },
     "46b8281168f049cb8ccf99ab99dcf6b6": {
      "model_module": "@jupyter-widgets/base",
      "model_module_version": "2.0.0",
      "model_name": "LayoutModel",
      "state": {}
     },
     "4a3f13c3070c47c2b89c7c08062bcc7c": {
      "model_module": "@jupyter-widgets/controls",
      "model_module_version": "2.0.0",
      "model_name": "FloatProgressModel",
      "state": {
       "bar_style": "success",
       "layout": "IPY_MODEL_5b1ca13abca945f78384972538647bf4",
       "max": 1,
       "style": "IPY_MODEL_0de26f2eb1c842c49286b52ec82f98e8",
       "value": 1
      }
     },
     "53d6ac7a612e470286e21bff968f799d": {
      "model_module": "@jupyter-widgets/base",
      "model_module_version": "2.0.0",
      "model_name": "LayoutModel",
      "state": {}
     },
     "5b1ca13abca945f78384972538647bf4": {
      "model_module": "@jupyter-widgets/base",
      "model_module_version": "2.0.0",
      "model_name": "LayoutModel",
      "state": {
       "width": "20px"
      }
     },
     "7213ab8435bd4878aa009719afe3aa40": {
      "model_module": "@jupyter-widgets/controls",
      "model_module_version": "2.0.0",
      "model_name": "HBoxModel",
      "state": {
       "children": [
        "IPY_MODEL_d3e1d9722a5f4da9ab14719323b8d005",
        "IPY_MODEL_4a3f13c3070c47c2b89c7c08062bcc7c",
        "IPY_MODEL_138cc1d1e5584bf2aa18bd9764ca1bb8"
       ],
       "layout": "IPY_MODEL_11c6d852a23c48179cb09395a8a170a9"
      }
     },
     "8f6e2badf161425da049b8fc51d14ac9": {
      "model_module": "@jupyter-widgets/controls",
      "model_module_version": "2.0.0",
      "model_name": "DescriptionStyleModel",
      "state": {
       "description_width": ""
      }
     },
     "918c377482a9413ca1b6d5a057244e5d": {
      "model_module": "@jupyter-widgets/controls",
      "model_module_version": "2.0.0",
      "model_name": "HTMLStyleModel",
      "state": {
       "description_width": "",
       "font_size": null,
       "text_color": null
      }
     },
     "947c0df3912448ada2cfa90f49a95a1e": {
      "model_module": "@jupyter-widgets/controls",
      "model_module_version": "2.0.0",
      "model_name": "DropdownModel",
      "state": {
       "_options_labels": [
        "3",
        "4",
        "5",
        "6",
        "7",
        "8",
        "9",
        "10",
        "11",
        "12"
       ],
       "description": "S",
       "index": 0,
       "layout": "IPY_MODEL_e8ae0551b66b44869bdf1354889472b7",
       "style": "IPY_MODEL_8f6e2badf161425da049b8fc51d14ac9"
      }
     },
     "9a00e48d573f4675b4ebf0595450201b": {
      "model_module": "@jupyter-widgets/base",
      "model_module_version": "2.0.0",
      "model_name": "LayoutModel",
      "state": {}
     },
     "b37e38ae259545ef97a7f155f03e37b5": {
      "model_module": "@jupyter-widgets/base",
      "model_module_version": "2.0.0",
      "model_name": "LayoutModel",
      "state": {}
     },
     "d3e1d9722a5f4da9ab14719323b8d005": {
      "model_module": "@jupyter-widgets/controls",
      "model_module_version": "2.0.0",
      "model_name": "HTMLModel",
      "state": {
       "layout": "IPY_MODEL_53d6ac7a612e470286e21bff968f799d",
       "style": "IPY_MODEL_defac8d8b5ec427b97a5dd48ed70c8f7"
      }
     },
     "defac8d8b5ec427b97a5dd48ed70c8f7": {
      "model_module": "@jupyter-widgets/controls",
      "model_module_version": "2.0.0",
      "model_name": "HTMLStyleModel",
      "state": {
       "description_width": "",
       "font_size": null,
       "text_color": null
      }
     },
     "e8ae0551b66b44869bdf1354889472b7": {
      "model_module": "@jupyter-widgets/base",
      "model_module_version": "2.0.0",
      "model_name": "LayoutModel",
      "state": {}
     }
    },
    "version_major": 2,
    "version_minor": 0
   }
  }
 },
 "nbformat": 4,
 "nbformat_minor": 5
}
