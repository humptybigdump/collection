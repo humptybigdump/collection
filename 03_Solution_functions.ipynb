{
 "cells": [
  {
   "cell_type": "markdown",
   "metadata": {},
   "source": [
    "#  Geospatial Data Analysis I\n",
    "\n",
    "## Chapter 3: Functions and calculations - exercises"
   ]
  },
  {
   "cell_type": "markdown",
   "metadata": {},
   "source": [
    "### Exercise 1\n",
    "#### for-loop and if-else statements\n",
    "\n",
    "- create two lists with 5 elements each. One should contain names of specific rocks, the other names of minerals to be found in the corresponding rocks. Make that you have covered all three different typs of rocks (i.e. igneous, metamorphic and sedimentary rocks). \n",
    "\n",
    "> rocks = [\"granite\", \"basalt\", ...]\n",
    "\n",
    "> minerals = [\"feldspar\", \"olivine\", ...]\n",
    "\n",
    "- then use a for-loop to create output messages for each rock-mineral pair. For example: \n",
    "\n",
    "> \"Granite contains feldspar.\" and so on. \n",
    "\n",
    "- hint: to set up the identifier you can e.g. use the functions *range()* and the *len()* command. "
   ]
  },
  {
   "cell_type": "code",
   "execution_count": 11,
   "metadata": {},
   "outputs": [
    {
     "name": "stdout",
     "output_type": "stream",
     "text": [
      "granite contains feldspar.\n",
      "basalt contains olivine.\n",
      "eklogit contains granat.\n",
      "sandstone contains quartz.\n",
      "marble contains calcite.\n"
     ]
    }
   ],
   "source": [
    "# create lists\n",
    "rocks = [\"granite\", \"basalt\", \"eklogit\", \"sandstone\", \"marble\"]\n",
    "minerals = [\"feldspar\", \"olivine\", \"granat\", \"quartz\", \"calcite\"]\n",
    "\n",
    "# for-loop in general form with [i] and sequence\n",
    "for i in range(len(rocks)): \n",
    "    print (rocks[i] + \" contains \"+ minerals[i]+ \".\")\n",
    "\n",
    "# for-loop option 2 with form \"item in list\" --> can only take one item, here as we have two items: minerals and rocks\n",
    "# for rocks, mineral in rocks, mineral: \n",
    "#    print(rock + \" contains \"+ mineral + \".\")"
   ]
  },
  {
   "cell_type": "markdown",
   "metadata": {},
   "source": [
    "- extend the for-loop from above with an if-else statement regarding the type of rock, and adapt the output message accordingly. \n",
    "\n",
    "- in case you are unsure about the required structure of the code, make some notes in \"pseudocode\" first. That is a sequence of functionalities, but without using exact Python syntax from the beginning, e.g:   \n",
    "\n",
    "> if rock == granite or basalt, \n",
    "\n",
    "> then message == \"rock X contains mineral X and is an igneous rock.\"\n",
    "\n",
    "> if rock == ... "
   ]
  },
  {
   "cell_type": "code",
   "execution_count": 12,
   "metadata": {},
   "outputs": [
    {
     "name": "stdout",
     "output_type": "stream",
     "text": [
      "granite contains feldspar and is an igneous rock.\n",
      "basalt contains olivine and is an igneous rock.\n",
      "eklogit contains granat and is an metamorphic rock.\n",
      "sandstone contains quartz and is an sedimentary rock.\n",
      "marble contains calcite and is an metamorphic rock.\n"
     ]
    }
   ],
   "source": [
    "# for-loop with if-else statement \n",
    "for i in range(len(rocks)): \n",
    "\n",
    "    if rocks[i] == 'granite' or rocks [i] == 'basalt': # first tpye of rock, IMPORTANT: index [i] of rocks so that each spcific element os tested within the loop. \n",
    "        print (rocks[i] + \" contains \"+ minerals[i]+ \" and is an igneous rock.\")\n",
    "\n",
    "    elif rocks[i] == 'eklogit' or rocks[i] == 'marble': # second type of rock\n",
    "        print (rocks[i] + \" contains \"+ minerals[i]+ \" and is an metamorphic rock.\")\n",
    "\n",
    "    elif rocks[i] == 'sandstone': # third type of rock \n",
    "        print (rocks[i] + \" contains \"+ minerals[i]+ \" and is an sedimentary rock.\")\n",
    "    \n",
    "    else: \n",
    "        print ('I do not know this rock') # as final option in case something unforseen happens. \n"
   ]
  },
  {
   "cell_type": "markdown",
   "metadata": {},
   "source": [
    "### Exercise 2\n",
    "#### Creating NumPy Objects\n",
    "\n",
    "- use *np.arange()* to create a continuous sequence of numbers from 0 to 100, with an increment of 4."
   ]
  },
  {
   "cell_type": "code",
   "execution_count": 13,
   "metadata": {},
   "outputs": [
    {
     "name": "stdout",
     "output_type": "stream",
     "text": [
      "[ 0  4  8 12 16 20 24 28 32 36 40 44 48 52 56 60 64 68 72 76 80 84 88 92\n",
      " 96]\n"
     ]
    }
   ],
   "source": [
    "# don't forget to import numpy first  ;)\n",
    "import numpy as np\n",
    "\n",
    "# create an array\n",
    "sequence = np.arange(0, 100, 4)\n",
    "print(sequence)"
   ]
  },
  {
   "cell_type": "markdown",
   "metadata": {},
   "source": [
    "- create a matrix with 10 by 20 entries, which follow a continuous sequence starting with 0."
   ]
  },
  {
   "cell_type": "code",
   "execution_count": 14,
   "metadata": {},
   "outputs": [
    {
     "name": "stdout",
     "output_type": "stream",
     "text": [
      "[[  0   1   2   3   4   5   6   7   8   9  10  11  12  13  14  15  16  17\n",
      "   18  19]\n",
      " [ 20  21  22  23  24  25  26  27  28  29  30  31  32  33  34  35  36  37\n",
      "   38  39]\n",
      " [ 40  41  42  43  44  45  46  47  48  49  50  51  52  53  54  55  56  57\n",
      "   58  59]\n",
      " [ 60  61  62  63  64  65  66  67  68  69  70  71  72  73  74  75  76  77\n",
      "   78  79]\n",
      " [ 80  81  82  83  84  85  86  87  88  89  90  91  92  93  94  95  96  97\n",
      "   98  99]\n",
      " [100 101 102 103 104 105 106 107 108 109 110 111 112 113 114 115 116 117\n",
      "  118 119]\n",
      " [120 121 122 123 124 125 126 127 128 129 130 131 132 133 134 135 136 137\n",
      "  138 139]\n",
      " [140 141 142 143 144 145 146 147 148 149 150 151 152 153 154 155 156 157\n",
      "  158 159]\n",
      " [160 161 162 163 164 165 166 167 168 169 170 171 172 173 174 175 176 177\n",
      "  178 179]\n",
      " [180 181 182 183 184 185 186 187 188 189 190 191 192 193 194 195 196 197\n",
      "  198 199]]\n"
     ]
    }
   ],
   "source": [
    "# matrix with a continuous sequence\n",
    "matrix = np.arange(0, 200).reshape(10, 20)\n",
    "print(matrix)\n"
   ]
  },
  {
   "cell_type": "markdown",
   "metadata": {},
   "source": [
    "- check the number of elements (size), dimensions (shape) and data type (type) of both variables from above"
   ]
  },
  {
   "cell_type": "code",
   "execution_count": 15,
   "metadata": {},
   "outputs": [
    {
     "name": "stdout",
     "output_type": "stream",
     "text": [
      "200\n",
      "(10, 20)\n",
      "<class 'numpy.ndarray'>\n"
     ]
    }
   ],
   "source": [
    "# print size, shape and type\n",
    "print(matrix.size)\n",
    "print(matrix.shape)\n",
    "print(type(matrix))\n"
   ]
  },
  {
   "cell_type": "markdown",
   "metadata": {},
   "source": [
    "### Exercise 3\n",
    "#### Indices of NumPy objects\n",
    "\n",
    "- create a vector with 1000 random numbers with the help of *np.random.rand()*. In addition, create a second vector that contains every third value of the first vector. "
   ]
  },
  {
   "cell_type": "code",
   "execution_count": 16,
   "metadata": {},
   "outputs": [
    {
     "name": "stdout",
     "output_type": "stream",
     "text": [
      "(1000,)\n",
      "(334,)\n"
     ]
    }
   ],
   "source": [
    "# array with 1000 random values\n",
    "a = np.random.rand(1000)\n",
    "print(a.shape)\n",
    "\n",
    "# second array \n",
    "b = a[::3]\n",
    "print(b.shape)"
   ]
  },
  {
   "cell_type": "markdown",
   "metadata": {},
   "source": [
    "- convert the first vector from above into a matrix with 20 lines and 50 columns using *reshape()*, and check the dimensions of the newly created matrix.  "
   ]
  },
  {
   "cell_type": "code",
   "execution_count": 17,
   "metadata": {},
   "outputs": [
    {
     "name": "stdout",
     "output_type": "stream",
     "text": [
      "(20, 50)\n"
     ]
    }
   ],
   "source": [
    "# conversion of an array\n",
    "c = a.reshape(20,50)\n",
    "print(c.shape)"
   ]
  },
  {
   "cell_type": "markdown",
   "metadata": {},
   "source": [
    "- from this vector display the values in columns 5 to 8 of the third line, and save the entire columns 4 and 5 into a new vector.   "
   ]
  },
  {
   "cell_type": "code",
   "execution_count": 18,
   "metadata": {},
   "outputs": [
    {
     "name": "stdout",
     "output_type": "stream",
     "text": [
      "[0.74645311 0.4377456  0.42827352]\n",
      "[[0.12807191]\n",
      " [0.07990641]\n",
      " [0.70021525]\n",
      " [0.31167087]\n",
      " [0.98744221]\n",
      " [0.5882549 ]\n",
      " [0.83528034]\n",
      " [0.6055579 ]\n",
      " [0.56244571]\n",
      " [0.66564992]\n",
      " [0.1811566 ]\n",
      " [0.62831195]\n",
      " [0.3798108 ]\n",
      " [0.36520985]\n",
      " [0.41375259]\n",
      " [0.42715319]\n",
      " [0.99405589]\n",
      " [0.43948697]\n",
      " [0.7269229 ]\n",
      " [0.33460316]]\n"
     ]
    }
   ],
   "source": [
    "# indices of lines and rows \n",
    "print(c[3,5:8])\n",
    "\n",
    "d = c[:,4:5]\n",
    "print(d)"
   ]
  },
  {
   "cell_type": "markdown",
   "metadata": {},
   "source": [
    "### Exercise 4\n",
    "#### Other functionalities in NumPy\n",
    "\n",
    "- creat an array with 1000 random integer numbers between 0 and 100. Look for a purpose-built function in the NumPy documentation: https://numpy.org/doc/stable/reference/random/legacy.html "
   ]
  },
  {
   "cell_type": "code",
   "execution_count": 19,
   "metadata": {},
   "outputs": [
    {
     "name": "stdout",
     "output_type": "stream",
     "text": [
      "[74 41 89 77 65 48 31 92 34 72 67 66 13 74 45  4  7 30 96 69 40 59 16 39\n",
      " 27 63 21 58 58 29 34 25 30 80 34 31 36 78 96 86 12 83 94 81 80 35 66 12\n",
      " 77 94 78 60 77 41 70 63 63 78 82 75 23 50 64 38 78 43 52 43 42 39 76 30\n",
      " 60  2 44 17 26 14 79 78 40 89 44 20 65 93 47 89 41 83 80 96 63  6 63 52\n",
      " 35  3 33 28 43  7 16 44 22 36 59 89 47 87 87 33 41 67  8 35 88 88  2 70\n",
      " 68 14 64 43 72 74 52 83 75 92 18 47 64 78 80 33 92 99  4 47 92 48 60 20\n",
      " 57 24 22  0 28 50 40 84 58 28 64 95 30 62 88 98 99 24 87  9 83 11 71 67\n",
      " 56 47 36  2 82 97 85 11 12  2 27 46 25 35 11 54  1 40 51 80 69 59 55  3\n",
      " 41 99 19  2 12 67  4 43 19 59 64 71 56 19 80 53 82 59 40 25 49 89 33 36\n",
      " 83 88 58 92 98 86 17 21 81 45 48 58 85 98  7  7 87 54 47 61 56 30 19  0\n",
      " 69 22 27 27 88  8 70 87 33 35 60 37 51 33 54 86 19 25 89 39 52 15 54 67\n",
      " 33 10 62 67 50 26 36 64 35 70 52 65  5 56 44 37 49 39 85 68 56 74 18 62\n",
      "  0 53 65 46 34  2 19 65 58 53 72 32 24 39 39 78 76 90 23 43 16 37 97 11\n",
      " 57 14 69 86 25 63 47 56 28 32  9 62 62 59 31 84 93 13 84 50 71 59 14  5\n",
      " 89 88  0 79 49  4  3 49 27 17 30 49 17 51  4 46 25 17 37 49  9 98 52 83\n",
      " 29 61 40 25 25 25 59 83 26 83 96  5 77  0 66 43  0 39 50  6 49 71 93 71\n",
      " 55 35 89  8 85 79  8 33 43 85 54 90 11 35 66 84 75  7 66 42 43  3 17 50\n",
      " 70  3 94 65 49 71 55 44 91 53 56 40 81 82 50  9 28 30 58 85 72 36 61 59\n",
      " 17 57 21 98 36 56 94 60  3 96 63 79 80 94 92 41 85 71 40 62 97 97 90 92\n",
      " 14 17 81 15  7 17 63 22 76 58 31 63 45 45  7 25 89 27 53 52 35 46 59 11\n",
      " 62 64 27 70 45 30 31 47 14 58 39 39 59 65 48  1 98 10  2 80 40 22 45 46\n",
      " 67 47 34 91 97  3 96 89 54 33 25 96 87 33 15  1 89 82 87 44 16 28 63 39\n",
      " 91  0 51 45 65 73 95 88 96 50  2 62 12 60  2 41 95 70 34 91 73 55 58 11\n",
      " 93 59 11 87 74 78 48 49 84 44  2 73 88 84 62  7 38 40 85 14 48 19 30 99\n",
      "  3 85 93 34  8 95 31 60 91  4 27 18 51 45 71 39 49 99 60 74 92 89 75 72\n",
      " 10 15 24 95 78 60 71 56  0 97 91 14  0 46 56 26 81 89 97 49  6 63 66 98\n",
      " 10 97 47 86  0  3  6 13 84 83 48  4 18 90 61 29 93 59 31 38 42 42  9 95\n",
      " 70 45 60 73 29 94 96 15 66 55 92 49 10 79 52 14 67 88  5 59 20 32 56  8\n",
      " 23 96  8 52 87 21 31 81 85 28  4 70 67 34 79 95 38 45 66 26 62 27 48 17\n",
      " 95 36 27 26 43 75 84 94 10 50 98  6 13 54 15 58 41 14 16 78 82 15 13 43\n",
      " 29 53 34 59 35 63 34 94 80 87 68 48  3 10  3 27 51 34 67 22 36 58  5 23\n",
      " 53 45 30 10 56 61 34 37 42 79 25 47 69 21 80 96 18 11 46 67  3 59 95 83\n",
      " 32 66  4 70 73 26 61 25 96 21 71 25  8 67 47 87 32 83 21 97 80 10 37 76\n",
      " 19 17 62 98 56 87 72 55 18 62 50 30 79 44 28 97 12 83 84 66  3 84 65  5\n",
      " 88 39 50 50 46 20 12 64 48 15 55 36  9 24 96 69  3 28 65 42 90 46 42 60\n",
      " 32 37 95 82 63 64 48 91 87 39 63 41  2 30 73 93  7 21 62 14 17 86 16  1\n",
      " 85 59  4 41 46 34 17 72 23 33 76 65 81 12  7 72 64 82 72  2 90 35  4 50\n",
      " 16 60 42 54 51  3 97 92 64 42 52 98  9 25 36 32 25 98 74 94 89 78 99 85\n",
      " 36 66 23 64 53 84 77 14 90 14  3 12  6 57 86 66 72 80 40 89 85 12  2 25\n",
      "  7 33 38 64 61 22  0 78 69 67 47 16 50 65 13 86 49 56 60 65 39 25  0 33\n",
      " 57 68 56 70 83 62 94 35 49 62 53 47  8 36 53 73 76 66 76  3 12 88 22 37\n",
      " 77 55  7 42 33 59 30 47 78 63 19  0  0 95 47 80]\n"
     ]
    }
   ],
   "source": [
    "# array with random integer values \n",
    "a = np.random.randint(0, 100, 1000)\n",
    "print(a)"
   ]
  },
  {
   "cell_type": "markdown",
   "metadata": {},
   "source": [
    "- save the 5 highest numbers from this array into a new array. \n",
    "\n",
    "Hint: Use the *sort()* function and appropriate indices."
   ]
  },
  {
   "cell_type": "code",
   "execution_count": 20,
   "metadata": {},
   "outputs": [
    {
     "name": "stdout",
     "output_type": "stream",
     "text": [
      "[99 99 99 99 99]\n"
     ]
    }
   ],
   "source": [
    "# 5 highest numbers\n",
    "b = np.sort(a)\n",
    "c = b[-5:]\n",
    "print(c)"
   ]
  },
  {
   "cell_type": "markdown",
   "metadata": {},
   "source": [
    "### Exercise 5\n",
    "#### Your own function\n",
    "- Write a function with the name *hiking()*, with input parameters for the <font color=\"green\">covered distance</font>, the <font color=\"green\">time spent</font> and the <font color=\"green\">location of the hike</font>. \n",
    "\n",
    "    The function is supposed to print a message with the average speed and the location. For example:\n",
    " > \" For our hike in Zermatt we had an average speed of 3.5 km/h!\" \n",
    " \n",
    "\n",
    "- If the speed is lower than 2 km/h there should be an additional message, with a note that the hike was apparently quite exhausting or the route quite steep. Use an if-else statement to implement this. \n"
   ]
  },
  {
   "cell_type": "code",
   "execution_count": 21,
   "metadata": {},
   "outputs": [
    {
     "name": "stdout",
     "output_type": "stream",
     "text": [
      "For our hike in Zermatt we had an average speed of 3.5 km/h!\n",
      "For our hike in Bruchsal we had an average speed of 1.5 km/h!\n",
      "This must have been exhausting!\n"
     ]
    }
   ],
   "source": [
    "# your own function \n",
    "def hiking(distance, time, location):\n",
    "    speed = distance / time\n",
    "    print(\"For our hike in\",str(location), \n",
    "          \"we had an average speed of\",\n",
    "          speed,\"km/h!\")    \n",
    "    if speed < 2.0:\n",
    "        print(\"This must have been exhausting!\")\n",
    "\n",
    "# call the function with a high average speed and chose a location \n",
    "hiking(10.5,3,\"Zermatt\")\n",
    "\n",
    "# call the function with a low average speed and chose a location\n",
    "hiking(6,4,\"Bruchsal\") "
   ]
  },
  {
   "cell_type": "markdown",
   "metadata": {},
   "source": [
    "## END"
   ]
  }
 ],
 "metadata": {
  "kernelspec": {
   "display_name": "Python 3.8.8 ('base')",
   "language": "python",
   "name": "python3"
  },
  "language_info": {
   "codemirror_mode": {
    "name": "ipython",
    "version": 3
   },
   "file_extension": ".py",
   "mimetype": "text/x-python",
   "name": "python",
   "nbconvert_exporter": "python",
   "pygments_lexer": "ipython3",
   "version": "3.8.8"
  },
  "vscode": {
   "interpreter": {
    "hash": "e4cce46d6be9934fbd27f9ca0432556941ea5bdf741d4f4d64c6cd7f8dfa8fba"
   }
  }
 },
 "nbformat": 4,
 "nbformat_minor": 4
}
