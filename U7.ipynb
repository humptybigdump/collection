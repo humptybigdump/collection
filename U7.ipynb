{
 "cells": [
  {
   "cell_type": "markdown",
   "id": "cdd425aa",
   "metadata": {},
   "source": [
    "<img src=\"KITlogo_1c_deutsch.eps\" width=\"200\" height=\"200\" align=\"right\"/>\n",
    "\n",
    "##### Lehrstuhl für Analytics and Statistics (IOR)\n",
    "##### Prof. Dr. Oliver Grothe\n",
    "##### SoSe 24"
   ]
  },
  {
   "cell_type": "markdown",
   "id": "6e9f8571",
   "metadata": {},
   "source": [
    "# Analyse multivariater Daten\n",
    "## Übung 6"
   ]
  },
  {
   "cell_type": "markdown",
   "id": "4695c9e2",
   "metadata": {},
   "source": [
    "Betrachten Sie wieder den StatStud Datensatz (Ilias), betrachten Sie jedoch\n",
    "ausschließlich männliche Studenten."
   ]
  },
  {
   "cell_type": "code",
   "execution_count": 7,
   "id": "6409f94b",
   "metadata": {},
   "outputs": [
    {
     "data": {
      "text/html": [
       "<div>\n",
       "<style scoped>\n",
       "    .dataframe tbody tr th:only-of-type {\n",
       "        vertical-align: middle;\n",
       "    }\n",
       "\n",
       "    .dataframe tbody tr th {\n",
       "        vertical-align: top;\n",
       "    }\n",
       "\n",
       "    .dataframe thead th {\n",
       "        text-align: right;\n",
       "    }\n",
       "</style>\n",
       "<table border=\"1\" class=\"dataframe\">\n",
       "  <thead>\n",
       "    <tr style=\"text-align: right;\">\n",
       "      <th></th>\n",
       "      <th>0</th>\n",
       "      <th>1</th>\n",
       "      <th>2</th>\n",
       "      <th>3</th>\n",
       "      <th>4</th>\n",
       "      <th>5</th>\n",
       "      <th>6</th>\n",
       "      <th>7</th>\n",
       "      <th>8</th>\n",
       "      <th>9</th>\n",
       "      <th>10</th>\n",
       "      <th>11</th>\n",
       "      <th>12</th>\n",
       "    </tr>\n",
       "  </thead>\n",
       "  <tbody>\n",
       "    <tr>\n",
       "      <th>1</th>\n",
       "      <td>190</td>\n",
       "      <td>45.0</td>\n",
       "      <td>87.0</td>\n",
       "      <td>2</td>\n",
       "      <td>6</td>\n",
       "      <td>83</td>\n",
       "      <td>4.0</td>\n",
       "      <td>3.7</td>\n",
       "      <td>0</td>\n",
       "      <td>1</td>\n",
       "      <td>0.0</td>\n",
       "      <td>1</td>\n",
       "      <td>5.0</td>\n",
       "    </tr>\n",
       "    <tr>\n",
       "      <th>3</th>\n",
       "      <td>179</td>\n",
       "      <td>42.5</td>\n",
       "      <td>80.0</td>\n",
       "      <td>2</td>\n",
       "      <td>6</td>\n",
       "      <td>85</td>\n",
       "      <td>3.0</td>\n",
       "      <td>2.0</td>\n",
       "      <td>1</td>\n",
       "      <td>1</td>\n",
       "      <td>0.0</td>\n",
       "      <td>1</td>\n",
       "      <td>5.0</td>\n",
       "    </tr>\n",
       "    <tr>\n",
       "      <th>5</th>\n",
       "      <td>186</td>\n",
       "      <td>44.0</td>\n",
       "      <td>76.0</td>\n",
       "      <td>2</td>\n",
       "      <td>2</td>\n",
       "      <td>89</td>\n",
       "      <td>2.7</td>\n",
       "      <td>1.7</td>\n",
       "      <td>1</td>\n",
       "      <td>0</td>\n",
       "      <td>0.0</td>\n",
       "      <td>0</td>\n",
       "      <td>5.0</td>\n",
       "    </tr>\n",
       "    <tr>\n",
       "      <th>6</th>\n",
       "      <td>187</td>\n",
       "      <td>46.0</td>\n",
       "      <td>70.0</td>\n",
       "      <td>2</td>\n",
       "      <td>6</td>\n",
       "      <td>88</td>\n",
       "      <td>2.0</td>\n",
       "      <td>2.6</td>\n",
       "      <td>0</td>\n",
       "      <td>0</td>\n",
       "      <td>0.0</td>\n",
       "      <td>0</td>\n",
       "      <td>3.0</td>\n",
       "    </tr>\n",
       "    <tr>\n",
       "      <th>11</th>\n",
       "      <td>180</td>\n",
       "      <td>44.0</td>\n",
       "      <td>73.0</td>\n",
       "      <td>2</td>\n",
       "      <td>9</td>\n",
       "      <td>87</td>\n",
       "      <td>1.7</td>\n",
       "      <td>2.0</td>\n",
       "      <td>0</td>\n",
       "      <td>0</td>\n",
       "      <td>0.0</td>\n",
       "      <td>1</td>\n",
       "      <td>8.0</td>\n",
       "    </tr>\n",
       "  </tbody>\n",
       "</table>\n",
       "</div>"
      ],
      "text/plain": [
       "     0     1     2   3   4   5    6    7   8   9    10  11   12\n",
       "1   190  45.0  87.0   2   6  83  4.0  3.7   0   1  0.0   1  5.0\n",
       "3   179  42.5  80.0   2   6  85  3.0  2.0   1   1  0.0   1  5.0\n",
       "5   186  44.0  76.0   2   2  89  2.7  1.7   1   0  0.0   0  5.0\n",
       "6   187  46.0  70.0   2   6  88  2.0  2.6   0   0  0.0   0  3.0\n",
       "11  180  44.0  73.0   2   9  87  1.7  2.0   0   0  0.0   1  8.0"
      ]
     },
     "execution_count": 7,
     "metadata": {},
     "output_type": "execute_result"
    }
   ],
   "source": [
    "import pandas as pd\n",
    "import numpy as np\n",
    "from scipy.stats import t\n",
    "import seaborn as sns\n",
    "import matplotlib.pyplot as plt\n",
    "data=pd.read_csv('statstud.csv', sep=';',header=None)\n",
    "data_m=data.loc[data.iloc[:,3]==2]\n",
    "data_m.head()"
   ]
  },
  {
   "cell_type": "markdown",
   "id": "bd44d5c1",
   "metadata": {},
   "source": [
    "Bilden Sie die emprische Korrelationsmatrix der Merkmale Größe, Schuhgröße und\n",
    "Gewicht."
   ]
  },
  {
   "cell_type": "code",
   "execution_count": 8,
   "id": "9018779c",
   "metadata": {},
   "outputs": [
    {
     "data": {
      "text/html": [
       "<div>\n",
       "<style scoped>\n",
       "    .dataframe tbody tr th:only-of-type {\n",
       "        vertical-align: middle;\n",
       "    }\n",
       "\n",
       "    .dataframe tbody tr th {\n",
       "        vertical-align: top;\n",
       "    }\n",
       "\n",
       "    .dataframe thead th {\n",
       "        text-align: right;\n",
       "    }\n",
       "</style>\n",
       "<table border=\"1\" class=\"dataframe\">\n",
       "  <thead>\n",
       "    <tr style=\"text-align: right;\">\n",
       "      <th></th>\n",
       "      <th>0</th>\n",
       "      <th>1</th>\n",
       "      <th>2</th>\n",
       "    </tr>\n",
       "  </thead>\n",
       "  <tbody>\n",
       "    <tr>\n",
       "      <th>0</th>\n",
       "      <td>1.000000</td>\n",
       "      <td>0.644661</td>\n",
       "      <td>0.482863</td>\n",
       "    </tr>\n",
       "    <tr>\n",
       "      <th>1</th>\n",
       "      <td>0.644661</td>\n",
       "      <td>1.000000</td>\n",
       "      <td>0.370977</td>\n",
       "    </tr>\n",
       "    <tr>\n",
       "      <th>2</th>\n",
       "      <td>0.482863</td>\n",
       "      <td>0.370977</td>\n",
       "      <td>1.000000</td>\n",
       "    </tr>\n",
       "  </tbody>\n",
       "</table>\n",
       "</div>"
      ],
      "text/plain": [
       "          0         1         2\n",
       "0  1.000000  0.644661  0.482863\n",
       "1  0.644661  1.000000  0.370977\n",
       "2  0.482863  0.370977  1.000000"
      ]
     },
     "execution_count": 8,
     "metadata": {},
     "output_type": "execute_result"
    }
   ],
   "source": [
    "\n",
    "corr=data_m.loc[:,:2].corr()\n",
    "corr"
   ]
  },
  {
   "cell_type": "markdown",
   "id": "7202225d",
   "metadata": {},
   "source": [
    "Testen Sie die Merkmale Gewicht und Schuhgröße zum 5%-Niveau auf Unkorreliertheit."
   ]
  },
  {
   "cell_type": "markdown",
   "id": "4ea06a56",
   "metadata": {},
   "source": [
    "H0 : ρ = 0 und H1 : ρ != 0"
   ]
  },
  {
   "cell_type": "code",
   "execution_count": 9,
   "id": "e41518a7",
   "metadata": {},
   "outputs": [
    {
     "data": {
      "text/plain": [
       "3.413189141822429"
      ]
     },
     "execution_count": 9,
     "metadata": {},
     "output_type": "execute_result"
    }
   ],
   "source": [
    "t_stat=(corr.loc[1,2]*np.sqrt(np.size(data_m,axis=0)-2))/(np.sqrt(1-corr.loc[1,2]**2))\n",
    "t_stat\n"
   ]
  },
  {
   "cell_type": "code",
   "execution_count": 10,
   "id": "880eef6c",
   "metadata": {},
   "outputs": [
    {
     "name": "stdout",
     "output_type": "stream",
     "text": [
      "0.0005254101353989737\n"
     ]
    }
   ],
   "source": [
    "p_value=1-t.cdf(t_stat,df=np.size(data_m,axis=0)-2)\n",
    "print(p_value)"
   ]
  },
  {
   "cell_type": "code",
   "execution_count": 11,
   "id": "468a603f",
   "metadata": {},
   "outputs": [
    {
     "data": {
      "text/plain": [
       "[-1.9929971255321668, 1.9929971255321663]"
      ]
     },
     "execution_count": 11,
     "metadata": {},
     "output_type": "execute_result"
    }
   ],
   "source": [
    "krit=[t.ppf(0.025,df=np.size(data_m,axis=0)-2),t.ppf(0.975,df=np.size(data_m,axis=0)-2)]\n",
    "krit"
   ]
  },
  {
   "cell_type": "code",
   "execution_count": 12,
   "id": "9261cad6",
   "metadata": {},
   "outputs": [
    {
     "name": "stdout",
     "output_type": "stream",
     "text": [
      "H0 wird abgelehnt!\n"
     ]
    }
   ],
   "source": [
    "if t_stat> krit[1] or  t_stat< krit[0]:\n",
    "    print('H0 wird abgelehnt!')"
   ]
  },
  {
   "cell_type": "markdown",
   "id": "98607807",
   "metadata": {},
   "source": [
    "Ermitteln sie einen Sch¨atzer fur die partielle Korrelation von  Gewicht und Schuhgröße\n",
    "unter der Partialisierung von Größe und interpretieren Sie Ihr Ergebnis.\n"
   ]
  },
  {
   "cell_type": "code",
   "execution_count": 13,
   "id": "af6554d4",
   "metadata": {},
   "outputs": [
    {
     "name": "stdout",
     "output_type": "stream",
     "text": [
      "0.08917017435746946\n"
     ]
    }
   ],
   "source": [
    "p_part=(corr.loc[1,2]-corr.loc[0,1]*corr.loc[0,2])/np.sqrt((1-corr.loc[0,1]**2)*(1-corr.loc[0,2]**2))\n",
    "print(p_part)"
   ]
  }
 ],
 "metadata": {
  "kernelspec": {
   "display_name": "Python 3 (ipykernel)",
   "language": "python",
   "name": "python3"
  },
  "language_info": {
   "codemirror_mode": {
    "name": "ipython",
    "version": 3
   },
   "file_extension": ".py",
   "mimetype": "text/x-python",
   "name": "python",
   "nbconvert_exporter": "python",
   "pygments_lexer": "ipython3",
   "version": "3.11.7"
  }
 },
 "nbformat": 4,
 "nbformat_minor": 5
}
