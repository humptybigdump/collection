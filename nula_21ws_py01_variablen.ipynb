{
 "cells": [
  {
   "cell_type": "markdown",
   "metadata": {},
   "source": [
    "# Einführung in Python: 1. Variablen, Vektoren, Matrizen"
   ]
  },
  {
   "cell_type": "markdown",
   "metadata": {},
   "source": [
    "- Mit `help(Befehl)` können Sie sich Informationen zu `Befehl` anzeigen lassen.\n",
    "- In den Zellen, die mit \"`In [ ]:`\" beginnen, können Sie Python-Code eingeben und mit STRG+Enter ausführen."
   ]
  },
  {
   "cell_type": "markdown",
   "metadata": {},
   "source": [
    "## Datenspeicherung auf Computern\n",
    "- Digitaler Computer: speichert Datum als Bitfolge 0/1 in Speicherzellen\n",
    "- Bitfolge repräsentiert Zahl, Text, Bild, ...\n",
    "- Zugriff mit Variable (\"Referenz\" = sichtbarer Name = unsichtbarer Zeiger auf Speicherzelle) auf Wert (\"Instanz\")\n",
    "- In Python besitzt jede Instanz neben dem Wert auch einen Datentyp (int, float, str, ...) und eine ID-Nr. (Nr. einer Speicherzelle)\n",
    "- Der Datentyp bestimmt die zulässigen Operationen für die Variable"
   ]
  },
  {
   "cell_type": "code",
   "execution_count": null,
   "metadata": {},
   "outputs": [],
   "source": [
    "a = 3; b = 3.; x = '3'; y = '45'\n",
    "print( type(a), type(b) )\n",
    "print( type(x) )\n",
    "print( a, b, a/2, b/2 )\n",
    "print( a+b, x+y )\n",
    "print( x/2 )"
   ]
  },
  {
   "cell_type": "markdown",
   "metadata": {},
   "source": [
    "## Listen\n",
    "- Listen können beliebige Elemente enthalten\n",
    "- Zugriff auf k-te Komponente der Liste L mit L[k]\n",
    "- Nummerierung beginnt bei Null"
   ]
  },
  {
   "cell_type": "code",
   "execution_count": null,
   "metadata": {},
   "outputs": [],
   "source": [
    "L = [ 1, 2, a, b, x ]\n",
    "print( type(L), L )\n",
    "print( L[0], L[3] )\n",
    "print( L[5] )"
   ]
  },
  {
   "cell_type": "markdown",
   "metadata": {},
   "source": [
    "## Numerische Berechnungen\n",
    "- Python kennt die üblichen Standardfunktionen. Allerdings müssen diese vor der Benutzung eingebunden werden\n",
    "- Für numerische Berechnungen verwendet man die Bibliothek numpy\n",
    "- Konvention: Einbinden von numpy as np"
   ]
  },
  {
   "cell_type": "code",
   "execution_count": null,
   "metadata": {},
   "outputs": [],
   "source": [
    "a = sin(1.5)"
   ]
  },
  {
   "cell_type": "code",
   "execution_count": null,
   "metadata": {},
   "outputs": [],
   "source": [
    "import numpy as np \n",
    "a = np.sin(1.5)\n",
    "print( 'sin(1.5) =', a )\n",
    "b = sin(1.5)"
   ]
  },
  {
   "cell_type": "markdown",
   "metadata": {},
   "source": [
    "## Vektoren und Matrizen\n",
    "- Vektoren und Matrizen werden im Datentyp ndarray gespeichert. \n",
    "- Für diesen Datentyp stehen effiziente Funktionen für Rechenoperationen mit Vektoren und Matrizen zur Verfügung. "
   ]
  },
  {
   "cell_type": "code",
   "execution_count": null,
   "metadata": {},
   "outputs": [],
   "source": [
    "x = [1,2,3]\n",
    "y = np.array( [1,2,3] )\n",
    "print( 'x =', x, ',  type(x) =', type(x) )\n",
    "print( 'y =', y, ',  type(y) =', type(y) )"
   ]
  },
  {
   "cell_type": "code",
   "execution_count": null,
   "metadata": {},
   "outputs": [],
   "source": [
    "A = np.array( [ [1,0,-1], [1,-2,1], [1,2,-3] ] )\n",
    "print( 'A =', A, ',  type(A) =', type(A) )"
   ]
  },
  {
   "cell_type": "markdown",
   "metadata": {},
   "source": [
    "### Benutzerkomfort\n",
    "- Das Rechnen mit Vektoren und Matrizen kann gewöhnungsbedürftig sein.\n",
    "- Manchmal widersprechen die von Python ausgeführten Rechenoperationen den Erwartungen."
   ]
  },
  {
   "cell_type": "code",
   "execution_count": null,
   "metadata": {},
   "outputs": [],
   "source": [
    "print( 'y*y =', y*y )\n",
    "print( 'A*y =', A*y )"
   ]
  },
  {
   "cell_type": "markdown",
   "metadata": {},
   "source": [
    "### Der Multiplikationsoperator heißt @"
   ]
  },
  {
   "cell_type": "code",
   "execution_count": null,
   "metadata": {},
   "outputs": [],
   "source": [
    "A@y"
   ]
  },
  {
   "cell_type": "markdown",
   "metadata": {},
   "source": [
    "### *Ausführliche Beschreibung von Vektoren und Matrizen: Später!*"
   ]
  },
  {
   "cell_type": "code",
   "execution_count": null,
   "metadata": {},
   "outputs": [],
   "source": []
  }
 ],
 "metadata": {
  "kernelspec": {
   "display_name": "Python 3",
   "language": "python",
   "name": "python3"
  },
  "language_info": {
   "codemirror_mode": {
    "name": "ipython",
    "version": 3
   },
   "file_extension": ".py",
   "mimetype": "text/x-python",
   "name": "python",
   "nbconvert_exporter": "python",
   "pygments_lexer": "ipython3",
   "version": "3.7.4"
  }
 },
 "nbformat": 4,
 "nbformat_minor": 1
}
