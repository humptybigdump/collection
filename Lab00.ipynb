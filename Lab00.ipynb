{
 "cells": [
  {
   "cell_type": "markdown",
   "id": "0e42763e",
   "metadata": {},
   "source": [
    "# Stochastic Simulation\n",
    "\n",
    "*Winter Semester 2024/25*\n",
    "\n",
    "25.10.2024\n",
    "\n",
    "Prof. Sebastian Krumscheid<br>\n",
    "Assistants: Stjepan Salatovic, Louise Kluge"
   ]
  },
  {
   "cell_type": "markdown",
   "id": "5c5187ec",
   "metadata": {},
   "source": [
    "<h3 align=\"center\">\n",
    "Exercise sheet 00\n",
    "</h3>\n",
    "\n",
    "---\n",
    "\n",
    "<h1 align=\"center\">\n",
    "Test Notebook\n",
    "</h1>"
   ]
  },
  {
   "cell_type": "markdown",
   "id": "d0060252-cf60-494b-8cc1-6c9d046e3984",
   "metadata": {},
   "source": [
    "This initial test notebook is designed to verify the correct installation and import of the Python packages necessary for Stochastic Simulation. If no error messages appear upon executing the next cell, all packages have been successfully imported."
   ]
  },
  {
   "cell_type": "code",
   "execution_count": null,
   "id": "69b133ce",
   "metadata": {},
   "outputs": [],
   "source": [
    "try:\n",
    "    import ipywidgets\n",
    "    import matplotlib\n",
    "    import notebook\n",
    "    import numpy\n",
    "    import scipy\n",
    "    import tqdm\n",
    "    print(\"Packages imported successfully.\")\n",
    "except ImportError as e:\n",
    "    print(f\"An import error occurred: {e}\")"
   ]
  }
 ],
 "metadata": {
  "kernelspec": {
   "display_name": "Python 3 (ipykernel)",
   "language": "python",
   "name": "python3"
  },
  "language_info": {
   "codemirror_mode": {
    "name": "ipython",
    "version": 3
   },
   "file_extension": ".py",
   "mimetype": "text/x-python",
   "name": "python",
   "nbconvert_exporter": "python",
   "pygments_lexer": "ipython3",
   "version": "3.10.12"
  },
  "widgets": {
   "application/vnd.jupyter.widget-state+json": {
    "state": {},
    "version_major": 2,
    "version_minor": 0
   }
  }
 },
 "nbformat": 4,
 "nbformat_minor": 5
}
