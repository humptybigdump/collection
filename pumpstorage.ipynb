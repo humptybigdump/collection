{
 "cells": [
  {
   "cell_type": "code",
   "execution_count": 23,
   "metadata": {},
   "outputs": [],
   "source": [
    "from gurobipy import GRB, Model\n",
    "import matplotlib.pyplot as plt\n",
    "import pandas as pd\n",
    "import seaborn as sns"
   ]
  },
  {
   "cell_type": "code",
   "execution_count": 24,
   "metadata": {},
   "outputs": [],
   "source": [
    "price_time_series = []\n",
    "\n",
    "with open('elspot-prices_2019_hourly_eur.csv') as f:\n",
    "    next(f)\n",
    "    for r in f:\n",
    "        r = r.strip()\n",
    "        date, hour, price = r.split(';')\n",
    "        hour = hour[:2]\n",
    "        price = price.replace(',', '.')\n",
    "        price_time_series.append((date, hour, price))\n",
    "        \n",
    "prices = [float(x[2]) for x in price_time_series if x[2]  != '']"
   ]
  },
  {
   "cell_type": "code",
   "execution_count": 26,
   "metadata": {},
   "outputs": [
    {
     "data": {
      "image/png": "[encoded data removed]",
      "text/plain": [
       "<Figure size 432x288 with 1 Axes>"
      ]
     },
     "metadata": {
      "needs_background": "light"
     },
     "output_type": "display_data"
    }
   ],
   "source": [
    "plt.plot(prices)\n",
    "plt.savefig('Prices')"
   ]
  },
  {
   "cell_type": "code",
   "execution_count": 27,
   "metadata": {},
   "outputs": [],
   "source": [
    "hours = range(len(prices))"
   ]
  },
  {
   "cell_type": "code",
   "execution_count": 29,
   "metadata": {},
   "outputs": [],
   "source": [
    "pump_max = 70\n",
    "turb_max = 90\n",
    "effic = 0.75\n",
    "# It is possible to run the turbine 7 hours non-stop if the storage is full\n",
    "storage_capacity = 7 * 90"
   ]
  },
  {
   "cell_type": "code",
   "execution_count": 30,
   "metadata": {},
   "outputs": [],
   "source": [
    "m = Model('pump storage')"
   ]
  },
  {
   "cell_type": "code",
   "execution_count": 31,
   "metadata": {},
   "outputs": [],
   "source": [
    "pump = m.addVars(hours, vtype=GRB.BINARY, name='pump_var')"
   ]
  },
  {
   "cell_type": "code",
   "execution_count": 32,
   "metadata": {},
   "outputs": [],
   "source": [
    "turb = m.addVars(hours, vtype=GRB.CONTINUOUS, lb=0, ub = turb_max)"
   ]
  },
  {
   "cell_type": "code",
   "execution_count": 33,
   "metadata": {},
   "outputs": [],
   "source": [
    "storage_level = m.addVars(hours, vtype=GRB.CONTINUOUS, lb=0, ub=storage_capacity)"
   ]
  },
  {
   "cell_type": "code",
   "execution_count": 34,
   "metadata": {},
   "outputs": [],
   "source": [
    "# Initial storage level\n",
    "m.addConstr(storage_level[0] == 300)\n",
    "# Final storage level\n",
    "m.addConstr(storage_level[max(hours)] == 300)\n",
    "m.update()"
   ]
  },
  {
   "cell_type": "code",
   "execution_count": 35,
   "metadata": {},
   "outputs": [],
   "source": [
    "m.addConstrs(\n",
    "    storage_level[t+1] == storage_level[t] + pump[t] * pump_max * effic - turb[t] for t in hours if t != max(hours)\n",
    ")\n",
    "m.update()"
   ]
  },
  {
   "cell_type": "code",
   "execution_count": 36,
   "metadata": {},
   "outputs": [],
   "source": [
    "# Turbine and pump cannot run at the same time\n",
    "m.addConstrs(\n",
    "    (1-pump[t]) * turb_max >= turb[t] for t in hours\n",
    ")\n",
    "m.update()"
   ]
  },
  {
   "cell_type": "code",
   "execution_count": 37,
   "metadata": {},
   "outputs": [],
   "source": [
    "m.setObjective(\n",
    "    quicksum(\n",
    "        (turb[t] - pump[t] * pump_max) * prices[t] for t in hours\n",
    "    ), sense=GRB.MAXIMIZE\n",
    ")"
   ]
  },
  {
   "cell_type": "code",
   "execution_count": 38,
   "metadata": {},
   "outputs": [
    {
     "name": "stdout",
     "output_type": "stream",
     "text": [
      "Changed value of parameter TimeLimit to 120.0\n",
      "   Prev: inf  Min: 0.0  Max: inf  Default: inf\n",
      "Gurobi Optimizer version 9.0.3 build v9.0.3rc0 (win64)\n",
      "Optimize a model with 15649 rows, 23472 columns and 46942 nonzeros\n",
      "Model fingerprint: 0x072daf43\n",
      "Variable types: 15648 continuous, 7824 integer (7824 binary)\n",
      "Coefficient statistics:\n",
      "  Matrix range     [1e+00, 9e+01]\n",
      "  Objective range  [1e-02, 8e+03]\n",
      "  Bounds range     [1e+00, 6e+02]\n",
      "  RHS range        [9e+01, 3e+02]\n",
      "Presolve removed 9 rows and 10 columns\n",
      "Presolve time: 0.05s\n",
      "Presolved: 15640 rows, 23462 columns, 46924 nonzeros\n",
      "Variable types: 15639 continuous, 7823 integer (7823 binary)\n",
      "\n",
      "Root relaxation: objective 1.630961e+06, 566 iterations, 0.62 seconds\n",
      "\n",
      "    Nodes    |    Current Node    |     Objective Bounds      |     Work\n",
      " Expl Unexpl |  Obj  Depth IntInf | Incumbent    BestBd   Gap | It/Node Time\n",
      "\n",
      "     0     0 1630961.00    0   87          - 1630961.00      -     -    0s\n",
      "H    0     0                    1627651.2250 1630961.00  0.20%     -    0s\n",
      "H    0     0                    1629162.4000 1630961.00  0.11%     -    0s\n",
      "H    0     0                    1629286.1750 1630961.00  0.10%     -    0s\n",
      "     0     0 1629971.85    0    9 1629286.18 1629971.85  0.04%     -    0s\n",
      "H    0     0                    1629807.2500 1629971.85  0.01%     -    0s\n",
      "     0     0 1629901.88    0    3 1629807.25 1629901.88  0.01%     -    1s\n",
      "\n",
      "Cutting planes:\n",
      "  Gomory: 95\n",
      "  Implied bound: 2\n",
      "  MIR: 5\n",
      "  Network: 1\n",
      "\n",
      "Explored 1 nodes (690 simplex iterations) in 1.11 seconds\n",
      "Thread count was 16 (of 16 available processors)\n",
      "\n",
      "Solution count 4: 1.62981e+06 1.62929e+06 1.62916e+06 1.62765e+06 \n",
      "\n",
      "Optimal solution found (tolerance 1.00e-04)\n",
      "Best objective 1.629807250000e+06, best bound 1.629901881598e+06, gap 0.0058%\n"
     ]
    }
   ],
   "source": [
    "m.Params.TimeLimit = 120\n",
    "m.optimize()"
   ]
  },
  {
   "cell_type": "code",
   "execution_count": 39,
   "metadata": {},
   "outputs": [],
   "source": [
    "pump_prices = [prices[t] for t in hours if pump[t].X > 0.1]"
   ]
  },
  {
   "cell_type": "code",
   "execution_count": 40,
   "metadata": {},
   "outputs": [],
   "source": [
    "turb_prices = [prices[t] for t in hours if turb[t].X > 0.1]"
   ]
  },
  {
   "cell_type": "code",
   "execution_count": 41,
   "metadata": {},
   "outputs": [
    {
     "name": "stderr",
     "output_type": "stream",
     "text": [
      "c:\\users\\sudermn\\anaconda3\\envs\\dfrp\\lib\\site-packages\\seaborn\\distributions.py:2551: FutureWarning: `distplot` is a deprecated function and will be removed in a future version. Please adapt your code to use either `displot` (a figure-level function with similar flexibility) or `histplot` (an axes-level function for histograms).\n",
      "  warnings.warn(msg, FutureWarning)\n",
      "c:\\users\\sudermn\\anaconda3\\envs\\dfrp\\lib\\site-packages\\seaborn\\distributions.py:2551: FutureWarning: `distplot` is a deprecated function and will be removed in a future version. Please adapt your code to use either `displot` (a figure-level function with similar flexibility) or `histplot` (an axes-level function for histograms).\n",
      "  warnings.warn(msg, FutureWarning)\n"
     ]
    },
    {
     "data": {
      "text/plain": [
       "<AxesSubplot:ylabel='Density'>"
      ]
     },
     "execution_count": 41,
     "metadata": {},
     "output_type": "execute_result"
    },
    {
     "data": {
      "image/png": "[encoded data removed]",
      "text/plain": [
       "<Figure size 432x288 with 1 Axes>"
      ]
     },
     "metadata": {
      "needs_background": "light"
     },
     "output_type": "display_data"
    }
   ],
   "source": [
    "sns.distplot(turb_prices, color='green')\n",
    "sns.distplot(pump_prices, color='orange')"
   ]
  },
  {
   "cell_type": "code",
   "execution_count": null,
   "metadata": {},
   "outputs": [],
   "source": []
  }
 ],
 "metadata": {
  "kernelspec": {
   "display_name": "Python 3",
   "language": "python",
   "name": "python3"
  },
  "language_info": {
   "codemirror_mode": {
    "name": "ipython",
    "version": 3
   },
   "file_extension": ".py",
   "mimetype": "text/x-python",
   "name": "python",
   "nbconvert_exporter": "python",
   "pygments_lexer": "ipython3",
   "version": "3.7.8"
  }
 },
 "nbformat": 4,
 "nbformat_minor": 4
}
