{
 "cells": [
  {
   "cell_type": "markdown",
   "metadata": {
    "pycharm": {
     "name": "#%% md\n"
    }
   },
   "source": [
    "# Machine Vision 2024/25 - Assignment 4: Colors and Segmentation"
   ]
  },
  {
   "cell_type": "code",
   "execution_count": null,
   "metadata": {
    "pycharm": {
     "is_executing": true,
     "name": "#%%\n"
    }
   },
   "outputs": [],
   "source": [
    "import copy\n",
    "import matplotlib.pyplot as plt\n",
    "import numpy as np\n",
    "import skimage.io\n",
    "import skimage.color"
   ]
  },
  {
   "cell_type": "markdown",
   "metadata": {
    "pycharm": {
     "name": "#%% md\n"
    }
   },
   "source": [
    "#### Part 1: Color Spaces\n",
    "\n",
    "In this exercise, we want to understand different color spaces."
   ]
  },
  {
   "cell_type": "code",
   "execution_count": null,
   "metadata": {
    "pycharm": {
     "name": "#%%\n"
    }
   },
   "outputs": [],
   "source": [
    "# @student: load the image stored under \"res/flower.png\"\n",
    "input_img = ...\n",
    "\n",
    "# @student: convert the image into float representation (from 0-255 to 0.0-1.0)\n",
    "input_img = ...\n",
    "assert input_img.dtype == float, \"incorrect conversion to float\"\n",
    "assert np.min(input_img) >= 0.0, \"incorrect conversion to float\"\n",
    "assert np.max(input_img) <= 1.0, \"incorrect conversion to float\""
   ]
  },
  {
   "cell_type": "markdown",
   "metadata": {
    "pycharm": {
     "name": "#%% md\n"
    }
   },
   "source": [
    "To achieve a better understanding of the different color spaces, we want to understand their individual channels.\n",
    "For this purpose, we will plot the channels individually.\n",
    "\n",
    "You are free to change the `input_img` variable to a different image provided in the `res` directory."
   ]
  },
  {
   "cell_type": "markdown",
   "metadata": {
    "pycharm": {
     "name": "#%% md\n"
    }
   },
   "source": [
    "##### RGB Color Space\n",
    "The RGB color space has three additive channels, where each channel represents one color.\n",
    "\n",
    "<br>\n",
    "<img src=\"res/rgb.png\" width=\"350\">\n",
    "\n",
    "This figure visualizes the `RGB` color space.\n",
    " - `R` (channel 0) represents the color red.\n",
    " - `G` (channel 1) represents the color blue.\n",
    " - `B` (channel 2) represents the color green."
   ]
  },
  {
   "cell_type": "code",
   "execution_count": null,
   "metadata": {
    "pycharm": {
     "name": "#%%\n"
    }
   },
   "outputs": [],
   "source": [
    "def extract_rgb_dim(*, img_rgb: np.ndarray, channel: int) -> np.ndarray:\n",
    "    img_rgb_channel = copy.deepcopy(img_rgb)\n",
    "\n",
    "    # @student: mask all values in the image that are not in the desired channel with 0\n",
    "    #           hint: image shape is [v, u, c]\n",
    "    ...\n",
    "\n",
    "    return img_rgb_channel\n",
    "\n",
    "input_img_r = extract_rgb_dim(img_rgb=input_img, channel=0)\n",
    "input_img_g = extract_rgb_dim(img_rgb=input_img, channel=1)\n",
    "input_img_b = extract_rgb_dim(img_rgb=input_img, channel=2)\n",
    "\n",
    "_, (ax1, ax2, ax3, ax4) = plt.subplots(1, 4)\n",
    "figure_size = plt.gcf().get_size_inches()\n",
    "plt.gcf().set_size_inches(3 * figure_size)\n",
    "ax1.imshow(input_img)\n",
    "ax1.set_xlabel(\"RGB\")\n",
    "ax2.imshow(input_img_r)\n",
    "ax2.set_xlabel(\"Red\")\n",
    "ax3.imshow(input_img_g)\n",
    "ax3.set_xlabel(\"Green\")\n",
    "ax4.imshow(input_img_b)\n",
    "ax4.set_xlabel(\"Blue\")\n",
    "plt.show()"
   ]
  },
  {
   "cell_type": "markdown",
   "metadata": {
    "pycharm": {
     "name": "#%% md\n"
    }
   },
   "source": [
    "##### HSV Color Space\n",
    "\n",
    "The HSV color space contains three channels.\n",
    "\n",
    "<br>\n",
    "<img src=\"res/hsv.png\" width=\"350\">\n",
    "\n",
    "This figure visualizes the `HSV` color space.\n",
    " - `H` (channel 0) represents the hue of the color.\n",
    " - `S` (channel 1) represents the saturation. The higher the saturation, the \"stronger\" the color.\n",
    " - `V` (channel 2) represents the luminance.\n"
   ]
  },
  {
   "cell_type": "code",
   "execution_count": null,
   "metadata": {
    "pycharm": {
     "name": "#%%\n"
    }
   },
   "outputs": [],
   "source": [
    "# @student: convert the image color space from rgb to hsv\n",
    "#           hint: the skimage package (skimage.color) has different functions to convert between color spaces\n",
    "flower_img_hsv = ...\n",
    "\n",
    "def extract_hsv_dim(img_hsv: np.ndarray, channel: int) -> np.ndarray:\n",
    "    return img_hsv[:,:,channel]\n",
    "\n",
    "flower_img_h = extract_hsv_dim(img_hsv=flower_img_hsv, channel=0)\n",
    "flower_img_s = extract_hsv_dim(img_hsv=flower_img_hsv, channel=1)\n",
    "flower_img_v = extract_hsv_dim(img_hsv=flower_img_hsv, channel=2)\n",
    "\n",
    "_, (ax1, ax2, ax3, ax4) = plt.subplots(1, 4)\n",
    "figure_size = plt.gcf().get_size_inches()\n",
    "plt.gcf().set_size_inches(3 * figure_size)\n",
    "ax1.imshow(input_img)\n",
    "ax2.imshow(flower_img_h, cmap=\"gray\")\n",
    "ax2.set_xlabel(\"Hue\")\n",
    "ax3.imshow(flower_img_s, cmap=\"gray\")\n",
    "ax3.set_xlabel(\"Saturation\")\n",
    "ax4.imshow(flower_img_v, cmap=\"gray\")\n",
    "ax4.set_xlabel(\"Value (Luminance)\")\n",
    "plt.show()"
   ]
  },
  {
   "cell_type": "markdown",
   "metadata": {
    "pycharm": {
     "name": "#%% md\n"
    }
   },
   "source": [
    "##### LAB Color Space\n",
    "\n",
    "The LAB color space contains three channels.\n",
    "\n",
    "<br>\n",
    "<img src=\"res/lab.png\" width=\"350\">\n",
    "\n",
    "(Von Holger Everding - Eigenes Werk, CC BY-SA 4.0, https://commons.wikimedia.org/w/index.php?curid=38422442)\n",
    "\n",
    "This figure visualizes the `HSV` color space.\n",
    " - `L` (channel 0) represents the luminance.\n",
    " - `a` (channel 1) represents the color from green to red.\n",
    " - `b` (channel 2) represents the color from blue to yellow."
   ]
  },
  {
   "cell_type": "code",
   "execution_count": null,
   "metadata": {
    "pycharm": {
     "name": "#%%\n"
    }
   },
   "outputs": [],
   "source": [
    "# @student: convert the image color space from rgb to lab\n",
    "#           hint: the skimage package (skimage.color) has different functions to convert between color spaces\n",
    "input_img_lab = ...\n",
    "\n",
    "def extract_lab_dim(img_lab: np.ndarray, channel: int) -> np.ndarray:\n",
    "    img_lab_channel = copy.deepcopy(img_lab)\n",
    "\n",
    "    # @student: always keep the luminance channel but hide other channels depending on the\n",
    "    #           channel argument\n",
    "    ...\n",
    "\n",
    "    # Channel \"a\" ranges from green to red, while Channel b ranges from blue to yellow.\n",
    "    # Therefore, we cannot display the channels using a gray scale image and have to convert the channel\n",
    "    # back to an RGB image\n",
    "    #\n",
    "    # @student: convert to the lab image back to rgb color space\n",
    "    #           hint: the skimage package has different functions to convert between color spaces\n",
    "    return ...\n",
    "\n",
    "input_img_l = extract_lab_dim(img_lab=input_img_lab, channel=0)\n",
    "input_img_a = extract_lab_dim(img_lab=input_img_lab, channel=1)\n",
    "input_img_b = extract_lab_dim(img_lab=input_img_lab, channel=2)\n",
    "\n",
    "_, (ax1, ax2, ax3, ax4) = plt.subplots(1, 4)\n",
    "figure_size = plt.gcf().get_size_inches()\n",
    "plt.gcf().set_size_inches(3 * figure_size)\n",
    "ax1.imshow(input_img)\n",
    "ax1.set_xlabel(\"RGB\")\n",
    "ax2.imshow(input_img_l)\n",
    "ax2.set_xlabel(\"L: Luminance\")\n",
    "ax3.imshow(input_img_a)\n",
    "ax3.set_xlabel(\"A: Green to Red\")\n",
    "ax4.imshow(input_img_b)\n",
    "ax4.set_xlabel(\"B: Blue to Yellow\")\n",
    "plt.show()"
   ]
  },
  {
   "cell_type": "markdown",
   "metadata": {
    "pycharm": {
     "name": "#%% md\n"
    }
   },
   "source": [
    "#### Part 2: Segmentation using CCL\n",
    "\n",
    "Implement the CCL algorithm for segmenting an image.\n",
    "Use the euclidean distance in RGB color space as similarity measure."
   ]
  },
  {
   "cell_type": "code",
   "execution_count": null,
   "metadata": {
    "pycharm": {
     "name": "#%%\n"
    }
   },
   "outputs": [],
   "source": [
    "def similarity_measure(*, p1: np.ndarray, p2: np.ndarray) -> float:\n",
    "    # @student: calculate the euclidean distance between p1 and p2\n",
    "\n",
    "    ...\n",
    "\n",
    "    return ...\n",
    "\n",
    "def get_pixel(*, image: np.ndarray, u: int, v: int) -> np.ndarray:\n",
    "    if v < 0:\n",
    "        return None\n",
    "\n",
    "    if u < 0:\n",
    "        return None\n",
    "\n",
    "    return image[v, u]\n",
    "\n",
    "def ccl_segmentation(*, image: np.ndarray, threshold: float) -> np.ndarray:\n",
    "    segmented_image = np.zeros_like(image)\n",
    "\n",
    "    for v in range(image.shape[0]):\n",
    "        for u in range(image.shape[1]):\n",
    "            pixel = get_pixel(image=image, u=u, v=v)\n",
    "            pixel_left = get_pixel(image=image, u=u-1, v=v)\n",
    "            pixel_top = get_pixel(image=image, u=u, v=v-1)\n",
    "\n",
    "            left_same = False\n",
    "            if pixel_left is not None:\n",
    "                left_same = similarity_measure(p1=pixel, p2=pixel_left) < threshold\n",
    "            top_same = False\n",
    "            if pixel_top is not None:\n",
    "                top_same = similarity_measure(p1=pixel, p2=pixel_top) < threshold\n",
    "\n",
    "\n",
    "            # Case 1: Left: similar color, Top: different color\n",
    "            ...\n",
    "\n",
    "            # Case 2: Left: different color, Top: similar color\n",
    "            ...\n",
    "\n",
    "            # Case 3: Left: different color, Top: different color\n",
    "            ...\n",
    "\n",
    "            # Case 4 + 5: Left: similar color, Top: similar color\n",
    "            segment_left = ...\n",
    "            segment_top = ...\n",
    "            if left_same and top_same and np.array_equal(segment_left, segment_top):\n",
    "                # Case 4: Same Segments\n",
    "                ...\n",
    "            else:\n",
    "                # Case 5: Different Segments\n",
    "                ...\n",
    "\n",
    "    return segmented_image\n",
    "\n",
    "# @student: first load the boat image and convert the image into float representation (from 0-255 to 0.0-1.0)\n",
    "img_boat_rgb = ...\n",
    "img_boat_rgb = ...\n",
    "plt.imshow(img_boat_rgb)\n",
    "plt.show()\n",
    "\n",
    "# @student: apply the ccl algorithm to the image and visualize the results\n",
    "#           test different values for the threshold hyperparameter\n",
    "..."
   ]
  },
  {
   "cell_type": "code",
   "execution_count": null,
   "metadata": {
    "pycharm": {
     "is_executing": true,
     "name": "#%%\n"
    }
   },
   "outputs": [],
   "source": [
    "# @student: apply the ccl algorithm to the remaining images in the \"res\" directory\n",
    "#           test different thresholds to obtain good results\n",
    "\n",
    "..."
   ]
  },
  {
   "cell_type": "markdown",
   "metadata": {
    "pycharm": {
     "name": "#%% md\n"
    }
   },
   "source": [
    "#### Part 3: Segmentation using K-Means\n",
    "\n",
    "Implement the K-means algorithm for segmenting an image."
   ]
  },
  {
   "cell_type": "code",
   "execution_count": null,
   "metadata": {
    "pycharm": {
     "is_executing": true,
     "name": "#%%\n"
    }
   },
   "outputs": [],
   "source": [
    "def calculate_random_centroids(*, image: np.ndarray, k: int) -> np.ndarray:\n",
    "    # @student: create k centroids based on random pixels within the image\n",
    "\n",
    "    return ...\n",
    "\n",
    "\n",
    "def calculate_distance(*, image: np.ndarray, centroids: np.ndarray) -> np.ndarray:\n",
    "    # @student: for each pixel calculate the distance to each centroid\n",
    "    # hint: the result should have the shape [v, u, k], where v and u are the pixel\n",
    "    #       coordinates and k is the centroid\n",
    "    #\n",
    "    #       you can use the euclidean_distance as distance measure\n",
    "    ...\n",
    "\n",
    "    return ...\n",
    "\n",
    "\n",
    "def calculate_new_centroids(*, image: np.ndarray, centroids: np.ndarray, pixel_centroid_matching: np.ndarray) -> np.ndarray:\n",
    "    new_centroids = np.zeros_like(centroids)\n",
    "\n",
    "    ...\n",
    "\n",
    "    return new_centroids\n",
    "\n",
    "\n",
    "def k_means_image_segmentation(*, image: np.ndarray, k: int) -> np.ndarray:\n",
    "    centroids = calculate_random_centroids(image=image, k=k)\n",
    "\n",
    "    centroids_changed = True\n",
    "    while centroids_changed:\n",
    "        centroid_distances = calculate_distance(image=image, centroids=centroids)\n",
    "\n",
    "        # @student: Extract the new centroid based on the closest distance per pixel\n",
    "        pixel_centroid_matching = np.argmin(...)\n",
    "\n",
    "        new_centroids = calculate_new_centroids(\n",
    "            image=image,\n",
    "            centroids=centroids,\n",
    "            pixel_centroid_matching=pixel_centroid_matching\n",
    "        )\n",
    "\n",
    "        # Check if the centroids have changed\n",
    "        centroids_same = np.all(np.all(centroids == new_centroids, axis=-1))\n",
    "        centroids_changed = not centroids_same\n",
    "        # change centroids to new centroids and continue iteration until the centroids converged\n",
    "        centroids = new_centroids\n",
    "\n",
    "\n",
    "    segmented_img = np.ndarray(shape=image.shape)\n",
    "    # @student: create a new image that contains the segmented colors\n",
    "    ...\n",
    "\n",
    "    return segmented_img"
   ]
  },
  {
   "cell_type": "markdown",
   "metadata": {
    "pycharm": {
     "name": "#%% md\n"
    }
   },
   "source": [
    "Apply the k-means algorithm in different color spaces to different images.\n",
    "Start by using the `res/boat.png` image. Try to choose a good value for the hyperparameter `k`\n",
    "\n",
    "Do you notice a difference between the color spaces?"
   ]
  },
  {
   "cell_type": "code",
   "execution_count": null,
   "metadata": {
    "pycharm": {
     "is_executing": true,
     "name": "#%%\n"
    }
   },
   "outputs": [],
   "source": [
    "# @student: load the boat image and convert the image into float representation (from 0-255 to 0.0-1.0)\n",
    "...\n",
    "\n",
    "# @student: try different values for the hyperparameter k\n",
    "k = ...\n",
    "\n",
    "# @student: apply k-means in rgb (variable name: segmented_img_kmeans_rgb)\n",
    "...\n",
    "\n",
    "# @student: apply k-means in hsv (variable name: segmented_img_kmeans_hsv)\n",
    "...\n",
    "segmented_img_kmeans_hsv_rgb = skimage.color.hsv2rgb(segmented_img_kmeans_hsv)\n",
    "\n",
    "# @student: apply k-means in lab (variable name: segmented_img_kmeans_lab)\n",
    "...\n",
    "segmented_img_kmeans_lab_rgb = skimage.color.lab2rgb(segmented_img_kmeans_lab)\n",
    "\n",
    "_, (ax1, ax2, ax3, ax4) = plt.subplots(1, 4)\n",
    "figure_size = plt.gcf().get_size_inches()\n",
    "plt.gcf().set_size_inches(3 * figure_size)\n",
    "ax1.imshow(img_boat_rgb)\n",
    "ax1.set_xlabel(\"RGB\")\n",
    "ax2.imshow(segmented_img_kmeans_rgb)\n",
    "ax2.set_xlabel(\"Segmented RGB\")\n",
    "ax3.imshow(segmented_img_kmeans_hsv_rgb)\n",
    "ax3.set_xlabel(\"Segmented HSV\")\n",
    "ax4.imshow(segmented_img_kmeans_lab_rgb)\n",
    "ax4.set_xlabel(\"Segmented LAB\")\n",
    "plt.show()"
   ]
  }
 ],
 "metadata": {
  "kernelspec": {
   "display_name": "Python 3 (ipykernel)",
   "language": "python",
   "name": "python3"
  },
  "language_info": {
   "codemirror_mode": {
    "name": "ipython",
    "version": 3
   },
   "file_extension": ".py",
   "mimetype": "text/x-python",
   "name": "python",
   "nbconvert_exporter": "python",
   "pygments_lexer": "ipython3",
   "version": "3.10.4"
  }
 },
 "nbformat": 4,
 "nbformat_minor": 1
}
