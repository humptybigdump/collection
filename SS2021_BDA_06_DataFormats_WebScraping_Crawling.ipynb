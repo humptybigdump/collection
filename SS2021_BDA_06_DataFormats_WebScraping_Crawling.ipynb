{
 "cells": [
  {
   "cell_type": "markdown",
   "metadata": {
    "slideshow": {
     "slide_type": "slide"
    }
   },
   "source": [
    "# Business Data Analytics: Application and Tools\n",
    "## Lecture 6: Data Formats, Web Scraping/Crawling"
   ]
  },
  {
   "cell_type": "code",
   "execution_count": 13,
   "metadata": {
    "slideshow": {
     "slide_type": "subslide"
    }
   },
   "outputs": [],
   "source": [
    "%matplotlib notebook\n",
    "import requests # http requests\n",
    "from lxml import html # html code --> xml tree\n",
    "from collections import Counter\n",
    "import matplotlib.pyplot as plt # data plots\n",
    "plt.style.use('ggplot') #plot output style\n",
    "import numpy as np # arrays"
   ]
  },
  {
   "cell_type": "code",
   "execution_count": 14,
   "metadata": {
    "slideshow": {
     "slide_type": "fragment"
    }
   },
   "outputs": [
    {
     "name": "stdout",
     "output_type": "stream",
     "text": [
      "b'<!DOCTYPE HTML PUBLIC \"-//W3C//DTD HTML 4.01 Transitional//EN\" \"http://www.w3.org/TR/html4/loose.dtd\">\\n<html lang=\"de-de\">\\n\\n    <head><!-- PageID 137 -->        <meta http-equiv=\"X-UA-Compatible\" content=\"IE=edge\" />\\n        \\n        <meta http-equiv=\"Content-Type\" content=\"text/html; charset=utf-8\" />\\n<meta name=\"format-detection\" content=\"telephone=no\">\\n<link rel=\"alternate\" href=\"/news.php\" hreflang=\"de-DE\">\\n<link rel=\"alternate\" href=\"/english/news.php\" hreflang=\"en-US\">\\n<link rel=\"stylesheet\" href=\"https://static.scc.kit.edu/fancybox/dist/jquery.fancybox.min.css\" />\\n<link rel=\"stylesheet\" href=\"https://static.scc.kit.edu/font-awesome/css/font-awesome.min.css\">\\n<meta name=\"author\" content=\"Herrmann, Jadon (IISM)\" />\\n<meta name=\"DC.Creator\" content=\"Herrmann, Jadon (IISM)\" />\\n<meta name=\"DC.Date\" content=\"06.10.2014 12:06\" />\\n<meta name=\"DC.Publisher\" content=\"Herrmann, Jadon (IISM)\" />\\n<meta name=\"DC.Contributor\" content=\"Herrmann, Jadon (IISM)\" />\\n<meta name=\"DC.Identifier\" content=\"\" />\\n<meta name=\"DC.Language\" content=\"de-de\" scheme=\"DCTERMS.RFC3066\" />\\n<meta name=\"DC.Relation\" content=\"\" />\\n<meta name=\"DC.Type\" content=\"Text\" />\\n<meta name=\"DC.Format\" content=\"text/html\" />\\n<meta name=\"DC.Coverage\" content=\"KIT\" />\\n<meta name=\"DC.Rights\" content=\"Alle Rechte liegen beim Autor siehe Impressum\" />\\n<meta name=\"Description\" content=\"\" />\\n<meta name=\"Keywords\" content=\"\" />\\n<meta name=\"viewport\" content=\"width=device-width, initial-scale=1.0\" />\\n<meta http-equiv=\"cleartype\" content=\"on\" />\\n\\n<meta name=\"KIT.visibility\" content=\"external\" />\\n<link rel=\"shortcut icon\" type=\"image/x-icon\" href=\"/img/intern/favicon.ico\" />\\n\\n        \\n        <link rel=\"stylesheet\" type=\"text/css\" href=\"/31.php\" />\\n        <link rel=\"stylesheet\" type=\"text/css\" href=\"/7.php_content_schriftgroesse_1em.css\" />\\n                    \\n        \\n                        <script type=\"text/javascript\" src=\"/jquery.min.js\"></script>\\n                        <script src=\"https://static.scc.kit.edu/fancybox/dist/jquery.fancybox.min.js\"></script>\\n                    \\n\\n        <script type=\"text/javascript\" src=\"/img/intern/jquery.wipetouch.min.js\"></script>\\n        <SCRIPT src=\"/6.js\" language=\"javascript\" type=\"text/javascript\"></SCRIPT>\\n        <script type=\"text/javascript\" src=\"/38.js\"></script>\\n\\n        <base target=\"_top\" />\\n\\n\\n\\n \\n \\n \\n \\n        <meta name=\"projguid\" content=\"2FBF1119301B44E487F938754DF8741F\" />\\n        <meta name=\"pageguid\" content=\"3FDA636BE2D844C985D632120B2D1029\" />\\n        <meta name=\"is_public\" content=\"true\" />\\n                <meta name=\"DC.Title\" content=\"KIT - IISM - IM - News\" />\\n        <title>KIT - IISM - IM - News</title>\\n\\n    </head>\\n    <body>\\n\\n\\n    <!-- Wrapper: start -->\\n        <div id=\"wrapper\">\\n            <!-- Metanavigation: start -->\\n            <div id=\"metanavigation\"><a accesskey=\"1\" href=\"/index.php\">Home</a>&nbsp;|&nbsp;<a href=\"/english/news.php\">english</a> &nbsp;|&nbsp;<a accesskey=\"8\" href=\"/impressum.php\">Impressum</a>&nbsp;|&nbsp;<a href=\"/datenschutz.php\">Datenschutz</a>&nbsp;|&nbsp;<a accesskey=\"3\" href=\"/sitemap.php\">Sitemap</a>&nbsp;|&nbsp;<a href=\"http://www.kit.edu\">KIT</a></div>\\n            <!-- Metanavigation: end -->\\n            <!-- Head: start -->\\n\\n\\n\\n\\n\\n            <div id=\"head\">\\n                <div id=\"logo\"><a href=\"http://www.kit.edu\" title=\"KIT-Logo - Link zur KIT-Startseite\"><img src=\"/img/intern/kit_logo_V2_de.svg\" alt=\"KIT-Logo - Link zur KIT-Startseite\" style=\"background-image:url(/img/intern/kit_logo_canvas.png); height:64px; width:175px; padding:31px 19px 13px 10px\"></a></div>\\n                <div id=\"head-image\" copyright_alt=\"\" copyright=\"\"  style=\"background-image:url(\\'/img/01_V2.jpg\\')\">\\n<div id=\"key-visual\"><a href=\"/index.php\"><img copyright=\"\" src=\"/img/iism_logo_2.png\" alt=\"Logo Institut f\\xc3\\xbcr Wirtschaftsinformatik und Marketing (IISM)&lt;br&gt;Information &amp; Market Engineering - Prof. Dr. Christof Weinhardt\"></a></div>\\n<div id=\"head-text\"><a href=\"/index.php\">Institut f\\xc3\\xbcr Wirtschaftsinformatik und Marketing (IISM)<br>Information & Market Engineering - Prof. Dr. Christof Weinhardt</a></div><div id=\"head-text-corner\">&nbsp;</div>                </div>\\n            </div>\\n            <!-- Head: end -->\\n\\n            <!-- Spacer: start -->\\n            <div class=\"spacer\"><!-- --></div>\\n            <!-- Spacer: end -->\\n\\n            <!-- Container: start -->\\n            <div id=\"container\">\\n\\n                <!-- Linke Spalte: start -->\\n                <div id=\"left-row\">\\n<!-- NAVIGATION-AREA START -->\\n\\n                    <div id=\"menu-box\">\\n\\n<ul><!--\\n\\t--><li class=\"li_level_1_not_selected\"><a class=\"level_1_not_selected has_no_children\" href=\"/home.php\">Home</a></li><!--\\n\\t--><li class=\"li_level_1_not_selected\"><a class=\"level_1_not_selected has_children_closed\" href=\"/team.php\">Team</a></li><!--\\n\\t--><li class=\"li_level_1_not_selected\"><a class=\"level_1_not_selected has_children_closed\" href=\"/lehre.php\">Lehre</a></li><!--\\n\\t--><li class=\"li_level_1_not_selected\"><a class=\"level_1_not_selected has_children_closed\" href=\"/abschlussarbeiten.php\">Abschlussarbeiten</a></li><!--\\n\\t--><li class=\"li_level_1_not_selected\"><a class=\"level_1_not_selected has_no_children\" href=\"/1092.php\">Forschungsthemen</a></li><!--\\n\\t--><li class=\"li_level_1_not_selected\"><a class=\"level_1_not_selected has_children_closed\" href=\"/1090.php\">Forschungsgruppen</a></li><!--\\n\\t--><li class=\"li_level_1_not_selected\"><a class=\"level_1_not_selected has_children_closed\" href=\"/1093.php\">Forschungsprojekte</a></li><!--\\n\\t--><li class=\"li_level_1_not_selected\"><a class=\"level_1_not_selected has_no_children\" href=\"/1676.php\">Publikationen</a></li><!--\\n\\t--><li class=\"li_level_1_not_selected\"><a class=\"level_1_not_selected has_children_closed\" href=\"/kooperationspartner.php\">Kooperationspartner</a></li><!--\\n\\t--><li class=\"li_level_1_not_selected\"><a class=\"level_1_not_selected has_children_closed\" href=\"/jobs.php\">Jobs</a></li><!--\\n\\t--><li class=\"li_level_1_selected_no_children\"><a class=\"level_1_selected has_no_children\" href=\"/news.php\">News</a></li><!--\\n\\t--><li class=\"li_level_1_not_selected\"><a target=\"_blank\" class=\"level_1_not_selected has_no_children\" href=\"https://im.iism.kit.edu/wiki/\">IISM-Wiki</a></li><!--\\n\\t--><li class=\"li_level_1_not_selected\"><a class=\"level_1_not_selected has_no_children\" href=\"/kontakt.php\">Kontakt</a></li><!--\\n--></ul><br/>            \\n                    </div>\\n<!-- NAVIGATION-AREA END -->\\n\\n                    \\n                </div>\\n                <!-- Linke Spalte: end -->\\n                <!-- Rechte Spalte: start -->\\n                <div id=\"right-row\">\\n<!-- INFO-AREA START -->\\n\\n\\n<!-- INFO-AREA END -->\\n                </div>\\n                <!-- Rechte Spalte: end -->\\n\\n<style type=\"text/css\">\\n    div#wrapper {\\n        background-image:url(/img/intern/bg_wrapper2_V2.png);\\n    }\\n    * html div#wrapper {\\n        background-image:url(/img/intern/bg_wrapper2_V2.gif);\\n    }\\n    #right-row{\\n        display:none\\n    }\\n    #middle-row, .tabelle3, .ptabelle, .ptabelleblank, .datentabelle {\\n        width:760px !important; /* 760 */\\n    }\\n    div.box-right{\\n        width:558px; /* 570 */\\n    }\\n    .tabborder div.box-right {\\n        width:534px;\\n    }\\n</style>                <!-- Mittlere Spalte: start -->\\n                <div id=\"middle-row\">\\n                    <div id=\"content\">\\n                        <a name=\"top\" id=\"top\"></a>\\n<!-- CONTENT-AREA START -->\\n\\n<!-- Artikel-Liste: start -->\\r\\n\\r\\n<a id=\"block139\" name=\"block139\"><!-- Sprungmarke --></a>\\r\\n<a name=\"block139\"><!-- Sprungmarke --></a>\\r\\n\\r\\n\\r\\n\\r\\n\\r\\n<table cellspacing=\"0\" cellpadding=\"0\" class=\"tabelle3\" style=\"table-layout:fixed\">\\n    <caption align=\"top\">\\r\\n\\r\\n\\r\\nNews</caption>\\n    <tr>\\n        <th scope=\"col\" style=\"width:87%\" class=\"sort\" onmouseover=\"this.firstChild.lastChild.style.display=\\'inline\\';\" onmouseout=\"this.firstChild.lastChild.style.display=\\'none\\';\"><a class=\"sort\" href=\"/news.php?sort_table=139&sort_field=titel&sort_order=SORT_ASC#block139\">Titel<img src=\"/img/intern/updown.png\" alt=\"\" style=\"margin-left:5px; display:none; position:absolute\"></a></th>\\n        <th scope=\"col\" style=\"width:13%\" class=\"sort\" onmouseover=\"this.firstChild.lastChild.style.display=\\'inline\\';\" onmouseout=\"this.firstChild.lastChild.style.display=\\'none\\';\"><a href=\"/news.php?sort_table=139&sort_field=datum&sort_order=SORT_ASC#block139\">Datum<img src=\"/img/intern/updown.png\" alt=\"\" style=\"margin-left:5px; display:none; position:absolute\"></a></th>\\n    </tr>\\n        <tr>\\n        <td class=\"link\"><a href=\"/news_2758.php\">\\xe2\\x80\\x9cPaper of the Year\\xe2\\x80\\x9d \\xe2\\x80\\x93 Award 2019</a></td>\\n        <td class=\"normal\" onclick=\"location.href=\\'/news_2758.php\\'\">27.05.2020</td>\\n    </tr>\\n    <tr class=\"grey\">\\n        <td class=\"link\"><a href=\"/news_2756.php\">Two open PhD Scholarship positions in the \\xe2\\x80\\x9cKarlsruhe Citizen Experimentation\\xe2\\x80\\x9c initiative</a></td>\\n        <td class=\"normal\" onclick=\"location.href=\\'/news_2756.php\\'\">27.05.2020</td>\\n    </tr>\\n        <tr>\\n        <td class=\"link\"><a href=\"/news_2752.php\">Participation at ECIS 2020</a></td>\\n        <td class=\"normal\" onclick=\"location.href=\\'/news_2752.php\\'\">14.05.2020</td>\\n    </tr>\\n    <tr class=\"grey\">\\n        <td class=\"link\"><a href=\"/news_2733.php\">4. ForDigital Blockchain Workshop am 02.03.2019 und 03.03.2019</a></td>\\n        <td class=\"normal\" onclick=\"location.href=\\'/news_2733.php\\'\">28.02.2020</td>\\n    </tr>\\n        <tr>\\n        <td class=\"link\"><a href=\"/news_2697.php\"> Presentations and KD2Lab Visit @ Nacht der Wissenschaft</a></td>\\n        <td class=\"normal\" onclick=\"location.href=\\'/news_2697.php\\'\">15.01.2020</td>\\n    </tr>\\n    <tr class=\"grey\">\\n        <td class=\"link\"><a href=\"/news_2695.php\">Ausgezeichnete Lehre</a></td>\\n        <td class=\"normal\" onclick=\"location.href=\\'/news_2695.php\\'\">07.01.2020</td>\\n    </tr>\\n        <tr>\\n        <td class=\"link\"><a href=\"/news_2690.php\">Merry Christmas and Happy New Year</a></td>\\n        <td class=\"normal\" onclick=\"location.href=\\'/news_2690.php\\'\">18.12.2019</td>\\n    </tr>\\n    <tr class=\"grey\">\\n        <td class=\"link\"><a href=\"/news_2682.php\"> Presence at Wirtschaftsinformatik Conference WI-2020</a></td>\\n        <td class=\"normal\" onclick=\"location.href=\\'/news_2682.php\\'\">10.12.2019</td>\\n    </tr>\\n        <tr>\\n        <td class=\"link\"><a href=\"/news_2449.php\">Studentische Hilfskraft</a></td>\\n        <td class=\"normal\" onclick=\"location.href=\\'/news_2449.php\\'\">28.10.2019</td>\\n    </tr>\\n    <tr class=\"grey\">\\n        <td class=\"link\"><a href=\"/news_2669.php\">New online course DORIS available</a></td>\\n        <td class=\"normal\" onclick=\"location.href=\\'/news_2669.php\\'\">28.10.2019</td>\\n    </tr>\\n        <tr>\\n        <td class=\"link\"><a href=\"/news_2662.php\">Participation at ICIS 2019</a></td>\\n        <td class=\"normal\" onclick=\"location.href=\\'/news_2662.php\\'\">10.10.2019</td>\\n    </tr>\\n    <tr class=\"grey\">\\n        <td class=\"link\"><a href=\"/news_2653.php\">Student Assistant Public Relations \\xe2\\x80\\x9cStudiengang Wirtschaftsinformatik\\xe2\\x80\\x9c</a></td>\\n        <td class=\"normal\" onclick=\"location.href=\\'/news_2653.php\\'\">02.10.2019</td>\\n    </tr>\\n        <tr>\\n        <td class=\"link\"><a href=\"/news_2650.php\">Collaboration with Politecnico di Milano \\xe2\\x80\\x93 looking for thesis candidates!</a></td>\\n        <td class=\"normal\" onclick=\"location.href=\\'/news_2650.php\\'\">26.09.2019</td>\\n    </tr>\\n    <tr class=\"grey\">\\n        <td class=\"link\"><a href=\"/news_2614.php\">Move to \\xe2\\x80\\x9cKollegiengeb\\xc3\\xa4ude am Kronenplatz\\xe2\\x80\\x9c (Geb. 05.20)</a></td>\\n        <td class=\"normal\" onclick=\"location.href=\\'/news_2614.php\\'\">22.08.2019</td>\\n    </tr>\\n        <tr>\\n        <td class=\"link\"><a href=\"/news_2590.php\">Participation at ECIS 2019</a></td>\\n        <td class=\"normal\" onclick=\"location.href=\\'/news_2590.php\\'\">07.06.2019</td>\\n    </tr>\\n    <tr class=\"grey\">\\n        <td class=\"link\"><a href=\"/news_2585.php\">Research Talk Series on Digitalization</a></td>\\n        <td class=\"normal\" onclick=\"location.href=\\'/news_2585.php\\'\">24.05.2019</td>\\n    </tr>\\n        <tr>\\n        <td class=\"link\"><a href=\"/news_2548.php\">Studying B.Sc./M.Sc. Information Systems at KIT</a></td>\\n        <td class=\"normal\" onclick=\"location.href=\\'/news_2548.php\\'\">15.04.2019</td>\\n    </tr>\\n    <tr class=\"grey\">\\n        <td class=\"link\"><a href=\"/news_2518.php\">Studentische Hilfskraft</a></td>\\n        <td class=\"normal\" onclick=\"location.href=\\'/news_2518.php\\'\">02.04.2019</td>\\n    </tr>\\n        <tr>\\n        <td class=\"link\"><a href=\"/news_2500.php\">Research Group at 14th International Tagung Wirtschaftsinformatik (WI-2019)</a></td>\\n        <td class=\"normal\" onclick=\"location.href=\\'/news_2500.php\\'\">19.02.2019</td>\\n    </tr>\\n    <tr class=\"grey\">\\n        <td class=\"link\"><a href=\"/news_2495.php\">Open Postdoc Position: \"Financial Market Innovation\\xe2\\x80\\x9c in cooperation with Boerse Stuttgart</a></td>\\n        <td class=\"normal\" onclick=\"location.href=\\'/news_2495.php\\'\">07.02.2019</td>\\n    </tr>\\n        <tr>\\n        <td class=\"link\"><a href=\"/news_2484.php\">Das LAMP Projekt w\\xc3\\xa4chst weiter</a></td>\\n        <td class=\"normal\" onclick=\"location.href=\\'/news_2484.php\\'\">29.01.2019</td>\\n    </tr>\\n    <tr class=\"grey\">\\n        <td class=\"link\"><a href=\"/news_2472.php\">KPMG Ideation Challenge 2019 \\xe2\\x80\\x93\\xe2\\x80\\x9cArtificial Intelligence\\xe2\\x80\\x9c</a></td>\\n        <td class=\"normal\" onclick=\"location.href=\\'/news_2472.php\\'\">17.01.2019</td>\\n    </tr>\\n        <tr>\\n        <td class=\"link\"><a href=\"/news_2467.php\">IISM Publikation ausgezeichnet als Top 50 Influential Papers on Blockchain of 2018</a></td>\\n        <td class=\"normal\" onclick=\"location.href=\\'/news_2467.php\\'\">12.01.2019</td>\\n    </tr>\\n    <tr class=\"grey\">\\n        <td class=\"link\"><a href=\"/news_2454.php\">LAMP ist nominiert f\\xc3\\xbcr den NEO2018-Preis</a></td>\\n        <td class=\"normal\" onclick=\"location.href=\\'/news_2454.php\\'\">11.12.2018</td>\\n    </tr>\\n        <tr>\\n        <td class=\"link\"><a href=\"/news_2451.php\">Christof Weinhardt bei den Science Notes \\xe2\\x80\\x9cBlockchain\\xe2\\x80\\x9d in Heidelberg</a></td>\\n        <td class=\"normal\" onclick=\"location.href=\\'/news_2451.php\\'\">11.12.2018</td>\\n    </tr>\\n    <tr class=\"grey\">\\n        <td class=\"link\"><a href=\"/news_2442.php\">Regionalkonferenz Energie und Umwelt 2018</a></td>\\n        <td class=\"normal\" onclick=\"location.href=\\'/news_2442.php\\'\">03.12.2018</td>\\n    </tr>\\n        <tr>\\n        <td class=\"link\"><a href=\"/news_2438.php\">Auszeichnung f\\xc3\\xbcr Masterarbeit zu Verteilungseffekten von Stromtarifen</a></td>\\n        <td class=\"normal\" onclick=\"location.href=\\'/news_2438.php\\'\">30.11.2018</td>\\n    </tr>\\n    <tr class=\"grey\">\\n        <td class=\"link\"><a href=\"/news_2429.php\">Wirtschaftsinformatik @ KIT: Presentation at the KIT \\xe2\\x80\\x9cUniversity for Beginners\\xe2\\x80\\x9c Day</a></td>\\n        <td class=\"normal\" onclick=\"location.href=\\'/news_2429.php\\'\">21.11.2018</td>\\n    </tr>\\n        <tr>\\n        <td class=\"link\"><a href=\"/news_2427.php\">Nacht der Wissenschaft im KD2Lab</a></td>\\n        <td class=\"normal\" onclick=\"location.href=\\'/news_2427.php\\'\">20.11.2018</td>\\n    </tr>\\n    <tr class=\"grey\">\\n        <td class=\"link\"><a href=\"/news_2423.php\">Interview im Deutschlandfunk von Prof. Dr. Christof Weinhardt zum Thema Sharewashing</a></td>\\n        <td class=\"normal\" onclick=\"location.href=\\'/news_2423.php\\'\">14.11.2018</td>\\n    </tr>\\n        <tr>\\n        <td class=\"link\"><a href=\"/news_2420.php\">Interview im SWR2 von Prof. Dr. Christof Weinhardt zum K\\xc3\\xbcnstliche Intelligenz</a></td>\\n        <td class=\"normal\" onclick=\"location.href=\\'/news_2420.php\\'\">14.11.2018</td>\\n    </tr>\\n    <tr class=\"grey\">\\n        <td class=\"link\"><a href=\"/news_2415.php\">Auszeichnung f\\xc3\\xbcr Forschungstransfer mit Nudges</a></td>\\n        <td class=\"normal\" onclick=\"location.href=\\'/news_2415.php\\'\">09.11.2018</td>\\n    </tr>\\n        <tr>\\n        <td class=\"link\"><a href=\"/news_2413.php\">DX Award Ceremony @ World Usability Day Karlsruhe</a></td>\\n        <td class=\"normal\" onclick=\"location.href=\\'/news_2413.php\\'\">09.11.2018</td>\\n    </tr>\\n    <tr class=\"grey\">\\n        <td class=\"link\"><a href=\"/news_2402.php\">Participation at ICIS 2018</a></td>\\n        <td class=\"normal\" onclick=\"location.href=\\'/news_2402.php\\'\">16.10.2018</td>\\n    </tr>\\n        <tr>\\n        <td class=\"link\"><a href=\"/news_2392.php\">Betriebsausflug 2018: Tour de Vogel</a></td>\\n        <td class=\"normal\" onclick=\"location.href=\\'/news_2392.php\\'\">20.09.2018</td>\\n    </tr>\\n    <tr class=\"grey\">\\n        <td class=\"link\"><a href=\"/news_2390.php\">Fertigstellung Debattenband \"Big Data, Smart Data, next?\"</a></td>\\n        <td class=\"normal\" onclick=\"location.href=\\'/news_2390.php\\'\">25.09.2018</td>\\n    </tr>\\n        <tr>\\n        <td class=\"link\"><a href=\"/news_2383.php\">Call for Papers: 5th European Retail Investment Conference (ERIC) und Doctoral Consortium</a></td>\\n        <td class=\"normal\" onclick=\"location.href=\\'/news_2383.php\\'\">10.09.2018</td>\\n    </tr>\\n    <tr class=\"grey\">\\n        <td class=\"link\"><a href=\"/news_2354.php\">Gamification auf der Kinderuni</a></td>\\n        <td class=\"normal\" onclick=\"location.href=\\'/news_2354.php\\'\">24.08.2018</td>\\n    </tr>\\n        <tr>\\n        <td class=\"link\"><a href=\"/news_2347.php\">Place 3 for IISM Team at Human Football Tournament</a></td>\\n        <td class=\"normal\" onclick=\"location.href=\\'/news_2347.php\\'\">30.07.2018</td>\\n    </tr>\\n    <tr class=\"grey\">\\n        <td class=\"link\"><a href=\"/news_2338.php\">DX Network is organizing the first UX-JamCamp</a></td>\\n        <td class=\"normal\" onclick=\"location.href=\\'/news_2338.php\\'\">21.06.2018</td>\\n    </tr>\\n        <tr>\\n        <td class=\"link\"><a href=\"/news_2323.php\">Participation at ACM eEnergy 2018</a></td>\\n        <td class=\"normal\" onclick=\"location.href=\\'/news_2323.php\\'\">18.05.2018</td>\\n    </tr>\\n    <tr class=\"grey\">\\n        <td class=\"link\"><a href=\"/news_2319.php\">Hiwi gesucht: Implementation blockchain-basierter Energiem\\xc3\\xa4rkte - Projektunterst\\xc3\\xbctzung im Landau Microgrid Projekt</a></td>\\n        <td class=\"normal\" onclick=\"location.href=\\'/news_2319.php\\'\">17.05.2018</td>\\n    </tr>\\n        <tr>\\n        <td class=\"link\"><a href=\"/news_2316.php\">Partizipation auf Plattformen gestalten</a></td>\\n        <td class=\"normal\" onclick=\"location.href=\\'/news_2316.php\\'\">14.05.2018</td>\\n    </tr>\\n    <tr class=\"grey\">\\n        <td class=\"link\"><a href=\"/news_2313.php\">Participation at ECIS 2018</a></td>\\n        <td class=\"normal\" onclick=\"location.href=\\'/news_2313.php\\'\">07.05.2018</td>\\n    </tr>\\n        <tr>\\n        <td class=\"link\"><a href=\"/news_2308.php\">Participation at DESRIST 2018</a></td>\\n        <td class=\"normal\" onclick=\"location.href=\\'/news_2308.php\\'\">25.04.2018</td>\\n    </tr>\\n    <tr class=\"grey\">\\n        <td class=\"link\"><a href=\"/news_2306.php\">Prof. Dr. Christof Weinhardt zum Vorsitzenden des wissenschaftlichen Beirats des DIID gew\\xc3\\xa4hlt.</a></td>\\n        <td class=\"normal\" onclick=\"location.href=\\'/news_2306.php\\'\">24.04.2018</td>\\n    </tr>\\n        <tr>\\n        <td class=\"link\"><a href=\"/news_2301.php\">Open Position: Full Professor Consumer & User Behavior (W3)</a></td>\\n        <td class=\"normal\" onclick=\"location.href=\\'/news_2301.php\\'\">19.04.2018</td>\\n    </tr>\\n    <tr class=\"grey\">\\n        <td class=\"link\"><a href=\"/news_2282.php\">Ernennung zum Professor</a></td>\\n        <td class=\"normal\" onclick=\"location.href=\\'/news_2282.php\\'\">05.04.2018</td>\\n    </tr>\\n        <tr>\\n        <td class=\"link\"><a href=\"/news_2272.php\">Industriepreis 2018 \\xe2\\x80\\x93 LAMP ist ausgezeichnet</a></td>\\n        <td class=\"normal\" onclick=\"location.href=\\'/news_2272.php\\'\">23.03.2018</td>\\n    </tr>\\n    <tr class=\"grey\">\\n        <td class=\"link\"><a href=\"/news_2270.php\">New Publication</a></td>\\n        <td class=\"normal\" onclick=\"location.href=\\'/news_2270.php\\'\">23.03.2018</td>\\n    </tr>\\n        <tr>\\n        <td class=\"link\"><a href=\"/news_2267.php\">Prof. Dr. Christof Weinhardt elected as new Editor-in-Chief for BISE</a></td>\\n        <td class=\"normal\" onclick=\"location.href=\\'/news_2267.php\\'\">12.03.2018</td>\\n    </tr>\\n    <tr class=\"grey\">\\n        <td class=\"link\"><a href=\"/news_2288.php\">2. ForDigital Blockchain Workshop</a></td>\\n        <td class=\"normal\" onclick=\"location.href=\\'/news_2288.php\\'\">02.03.2018</td>\\n    </tr>\\n        <tr>\\n        <td class=\"link\"><a href=\"/news_2265.php\">Symposium: Partizipation auf digitalen Plattformen gestalten</a></td>\\n        <td class=\"normal\" onclick=\"location.href=\\'/news_2265.php\\'\">28.02.2018</td>\\n    </tr>\\n    <tr class=\"grey\">\\n        <td class=\"link\"><a href=\"/news_2260.php\">Ausgezeichnete Bachelorarbeit</a></td>\\n        <td class=\"normal\" onclick=\"location.href=\\'/news_2260.php\\'\">27.02.2018</td>\\n    </tr>\\n        <tr>\\n        <td class=\"link\"><a href=\"/news_2258.php\">Prof. Weinhardt tr\\xc3\\xa4gt bei den Smart Grids Gespr\\xc3\\xa4chen zu \\xe2\\x80\\x9eBlockchain in der Energiewirtschaft\\xe2\\x80\\x9c vor</a></td>\\n        <td class=\"normal\" onclick=\"location.href=\\'/news_2258.php\\'\">21.02.2018</td>\\n    </tr>\\n    <tr class=\"grey\">\\n        <td class=\"link\"><a href=\"/news_2256.php\">Austausch \\xc3\\xbcber das LAMP Projekt</a></td>\\n        <td class=\"normal\" onclick=\"location.href=\\'/news_2256.php\\'\">21.02.2018</td>\\n    </tr>\\n        <tr>\\n        <td class=\"link\"><a href=\"/news_2254.php\">Paper at ACM CHI 2018 Conference on Human Factors in Computing Systems accepted</a></td>\\n        <td class=\"normal\" onclick=\"location.href=\\'/news_2254.php\\'\">20.02.2018</td>\\n    </tr>\\n    <tr class=\"grey\">\\n        <td class=\"link\"><a href=\"/news_2225.php\">IISM erh\\xc3\\xa4lt Besuch aus Pretoria</a></td>\\n        <td class=\"normal\" onclick=\"location.href=\\'/news_2225.php\\'\">12.02.2018</td>\\n    </tr>\\n        <tr>\\n        <td class=\"link\"><a href=\"/news_2220.php\">Neue Publikation</a></td>\\n        <td class=\"normal\" onclick=\"location.href=\\'/news_2220.php\\'\">05.02.2018</td>\\n    </tr>\\n    <tr class=\"grey\">\\n        <td class=\"link\"><a href=\"/news_2217.php\">Neue Publikation</a></td>\\n        <td class=\"normal\" onclick=\"location.href=\\'/news_2217.php\\'\">05.02.2018</td>\\n    </tr>\\n        <tr>\\n        <td class=\"link\"><a href=\"/news_2200.php\">SMU Global Summer Programme (GSP) 2018 </a></td>\\n        <td class=\"normal\" onclick=\"location.href=\\'/news_2200.php\\'\">29.01.2018</td>\\n    </tr>\\n    <tr class=\"grey\">\\n        <td class=\"link\"><a href=\"/news_2197.php\">KPMG Ideation Challenge \\xe2\\x80\\x9cAugmented Reality\\xe2\\x80\\x9c</a></td>\\n        <td class=\"normal\" onclick=\"location.href=\\'/news_2197.php\\'\">29.01.2018</td>\\n    </tr>\\n        <tr>\\n        <td class=\"link\"><a href=\"/news_2173.php\">Ausgezeichnete Lehre </a></td>\\n        <td class=\"normal\" onclick=\"location.href=\\'/news_2173.php\\'\">18.12.2017</td>\\n    </tr>\\n    <tr class=\"grey\">\\n        <td class=\"link\"><a href=\"/news_2167.php\">Der Presserummel um LAMP steigt an</a></td>\\n        <td class=\"normal\" onclick=\"location.href=\\'/news_2167.php\\'\">29.11.2017</td>\\n    </tr>\\n        <tr>\\n        <td class=\"link\"><a href=\"/news_2144.php\">Gast am IISM</a></td>\\n        <td class=\"normal\" onclick=\"location.href=\\'/news_2144.php\\'\">13.11.2017</td>\\n    </tr>\\n    <tr class=\"grey\">\\n        <td class=\"link\"><a href=\"/news_2137.php\">Event f\\xc3\\xbcr DX Network-Mitglieder am 2. November 2017</a></td>\\n        <td class=\"normal\" onclick=\"location.href=\\'/news_2137.php\\'\">08.11.2017</td>\\n    </tr>\\n        <tr>\\n        <td class=\"link\"><a href=\"/news_2129.php\">Neue Publikation zur Prognoseeffizienz von Mensch-Maschine Forecasts vorgestellt</a></td>\\n        <td class=\"normal\" onclick=\"location.href=\\'/news_2129.php\\'\">08.11.2017</td>\\n    </tr>\\n    <tr class=\"grey\">\\n        <td class=\"link\"><a href=\"/news_2119.php\">Mittelstand 4.0: Ein Mikroprojekt des IISM im Fokus</a></td>\\n        <td class=\"normal\" onclick=\"location.href=\\'/news_2119.php\\'\">03.11.2017</td>\\n    </tr>\\n        <tr>\\n        <td class=\"link\"><a href=\"/news_2113.php\">Die Prognoseb\\xc3\\xb6rse des IISM im KIT-Dialog</a></td>\\n        <td class=\"normal\" onclick=\"location.href=\\'/news_2113.php\\'\">26.10.2017</td>\\n    </tr>\\n    <tr class=\"grey\">\\n        <td class=\"link\"><a href=\"/news_2109.php\">Prof. Weinhardt h\\xc3\\xa4lt Keynote zum Thema \\xe2\\x80\\x9eK\\xc3\\xbcnstliche Intelligenz\\xe2\\x80\\x9c im Wirtschaftsberaterkreis des Ministerpr\\xc3\\xa4sidenten</a></td>\\n        <td class=\"normal\" onclick=\"location.href=\\'/news_2109.php\\'\">24.10.2017</td>\\n    </tr>\\n        <tr>\\n        <td class=\"link\"><a href=\"/news_2106.php\">Neuer Mitarbeiter in der Gruppe Smart Grids & Energy Markets</a></td>\\n        <td class=\"normal\" onclick=\"location.href=\\'/news_2106.php\\'\">23.10.2017</td>\\n    </tr>\\n    <tr class=\"grey\">\\n        <td class=\"link\"><a href=\"/news_2103.php\">Prof. Weinhardt erkl\\xc3\\xa4rt den Einsatz von Blockchains in lokalen Energiem\\xc3\\xa4rkten</a></td>\\n        <td class=\"normal\" onclick=\"location.href=\\'/news_2103.php\\'\">23.10.2017</td>\\n    </tr>\\n        <tr>\\n        <td class=\"link\"><a href=\"/news_2100.php\">Die Prognoseb\\xc3\\xb6rse des IISM bei den genausten Prognosen der Bundestagswahl 2017</a></td>\\n        <td class=\"normal\" onclick=\"location.href=\\'/news_2100.php\\'\">23.10.2017</td>\\n    </tr>\\n    <tr class=\"grey\">\\n        <td class=\"link\"><a href=\"/news_2098.php\">Implementierung von lokalen Energiem\\xc3\\xa4rkten: Landau Microgrid Project (LAMP) startet im Oktober 2017</a></td>\\n        <td class=\"normal\" onclick=\"location.href=\\'/news_2098.php\\'\">23.10.2017</td>\\n    </tr>\\n        <tr>\\n        <td class=\"link\"><a href=\"/news_2096.php\">Best Paper Award auf der 6. D-A-CH+ Energieinformatik Konferenz</a></td>\\n        <td class=\"normal\" onclick=\"location.href=\\'/news_2096.php\\'\">23.10.2017</td>\\n    </tr>\\n    <tr class=\"grey\">\\n        <td class=\"link\"><a href=\"/news_2094.php\">PHD Course: Eye tracking in Desktop, Natural and Virtual Environments (13 \\xe2\\x80\\x93 15 February 2018 | Monash University, Melbourne, Australia)</a></td>\\n        <td class=\"normal\" onclick=\"location.href=\\'/news_2094.php\\'\">20.10.2017</td>\\n    </tr>\\n        <tr>\\n        <td class=\"link\"><a href=\"/news_2092.php\">Spin IT Off \\xe2\\x80\\x93 Event for Doctoral Students in IT</a></td>\\n        <td class=\"normal\" onclick=\"location.href=\\'/news_2092.php\\'\">17.10.2017</td>\\n    </tr>\\n    <tr class=\"grey\">\\n        <td class=\"link\"><a href=\"/news_2083.php\">Neues\\xc2\\xa0 IISM-Projekt im WIRED Magazin</a></td>\\n        <td class=\"normal\" onclick=\"location.href=\\'/news_2083.php\\'\">10.10.2017</td>\\n    </tr>\\n        <tr>\\n        <td class=\"link\"><a href=\"/news_2060.php\">Wer gewinnt die Bundestagswahl 2017?</a></td>\\n        <td class=\"normal\" onclick=\"location.href=\\'/news_2060.php\\'\">20.09.2017</td>\\n    </tr>\\n    <tr class=\"grey\">\\n        <td class=\"link\"><a href=\"/news_2045.php\">Auszubildenden-Tag am KIT</a></td>\\n        <td class=\"normal\" onclick=\"location.href=\\'/news_2045.php\\'\">08.09.2017</td>\\n    </tr>\\n        <tr>\\n        <td class=\"link\"><a href=\"/news_2041.php\">Neue Publikation</a></td>\\n        <td class=\"normal\" onclick=\"location.href=\\'/news_2041.php\\'\">05.09.2017</td>\\n    </tr>\\n    <tr class=\"grey\">\\n        <td class=\"link\"><a href=\"/news_2039.php\">3, 2, 1, meins: Kaufentscheidungen im Labor\\xc2\\xa0erforscht</a></td>\\n        <td class=\"normal\" onclick=\"location.href=\\'/news_2039.php\\'\">05.09.2017</td>\\n    </tr>\\n        <tr>\\n        <td class=\"link\"><a href=\"/news_2035.php\">Research Group at GDN</a></td>\\n        <td class=\"normal\" onclick=\"location.href=\\'/news_2035.php\\'\">23.08.2017</td>\\n    </tr>\\n    <tr class=\"grey\">\\n        <td class=\"link\"><a href=\"/news_2027.php\">Abschlusspr\\xc3\\xa4sentation \\xe2\\x80\\x9ePractical Seminar in Digital Experience\"</a></td>\\n        <td class=\"normal\" onclick=\"location.href=\\'/news_2027.php\\'\">15.08.2017</td>\\n    </tr>\\n        <tr>\\n        <td class=\"link\"><a href=\"/news_2024.php\">AMCIS</a></td>\\n        <td class=\"normal\" onclick=\"location.href=\\'/news_2024.php\\'\">14.08.2017</td>\\n    </tr>\\n    <tr class=\"grey\">\\n        <td class=\"link\"><a href=\"/news_2013.php\">Neuer Mitarbeiter</a></td>\\n        <td class=\"normal\" onclick=\"location.href=\\'/news_2013.php\\'\">08.08.2017</td>\\n    </tr>\\n        <tr>\\n        <td class=\"link\"><a href=\"/news_2007.php\">Project Kick-off Meeting in Landau</a></td>\\n        <td class=\"normal\" onclick=\"location.href=\\'/news_2007.php\\'\">25.07.2017</td>\\n    </tr>\\n    <tr class=\"grey\">\\n        <td class=\"link\"><a href=\"/news_2005.php\">Tagung Plattformen \\xe2\\x80\\x93 Gesch\\xc3\\xa4ftsmodelle und Vertr\\xc3\\xa4ge</a></td>\\n        <td class=\"normal\" onclick=\"location.href=\\'/news_2005.php\\'\">24.07.2017</td>\\n    </tr>\\n        <tr>\\n        <td class=\"link\"><a href=\"/news_2003.php\">12. Wirtschaftspolitischer Dialog: Sch\\xc3\\xb6ne neue Stromwelt: Erfordert die Digitalisierung eine neue Regulierung?</a></td>\\n        <td class=\"normal\" onclick=\"location.href=\\'/news_2003.php\\'\">24.07.2017</td>\\n    </tr>\\n    <tr class=\"grey\">\\n        <td class=\"link\"><a href=\"/news_2001.php\">Abschlusspr\\xc3\\xa4sentation Internet Business Models & Online Marketing</a></td>\\n        <td class=\"normal\" onclick=\"location.href=\\'/news_2001.php\\'\">21.07.2017</td>\\n    </tr>\\n        <tr>\\n        <td class=\"link\"><a href=\"/news_1995.php\">Prof. Weinhardt hielt Keynote auf der BIS2017</a></td>\\n        <td class=\"normal\" onclick=\"location.href=\\'/news_1995.php\\'\">10.07.2017</td>\\n    </tr>\\n    <tr class=\"grey\">\\n        <td class=\"link\"><a href=\"/news_1993.php\">1. Platz f\\xc3\\xbcr Dominik Jung (IISM) beim Duell der klugen K\\xc3\\xb6pfe!</a></td>\\n        <td class=\"normal\" onclick=\"location.href=\\'/news_1993.php\\'\">03.07.2017</td>\\n    </tr>\\n        <tr>\\n        <td class=\"link\"><a href=\"/news_1984.php\">Designing blockchain-based microgrid energy markets</a></td>\\n        <td class=\"normal\" onclick=\"location.href=\\'/news_1984.php\\'\">28.06.2017</td>\\n    </tr>\\n    <tr class=\"grey\">\\n        <td class=\"link\"><a href=\"/news_1963.php\">IISM beim 9. Gmunden Retreat on NeuroIS</a></td>\\n        <td class=\"normal\" onclick=\"location.href=\\'/news_1963.php\\'\">23.06.2017</td>\\n    </tr>\\n        <tr>\\n        <td class=\"link\"><a href=\"/news_1958.php\">Guest Lecture by Prof. Harmen Oppewal about eye tracking</a></td>\\n        <td class=\"normal\" onclick=\"location.href=\\'/news_1958.php\\'\">21.06.2017</td>\\n    </tr>\\n    <tr class=\"grey\">\\n        <td class=\"link\"><a href=\"/news_1956.php\">IISM bei der Collective Intelligence 2017 </a></td>\\n        <td class=\"normal\" onclick=\"location.href=\\'/news_1956.php\\'\">21.06.2017</td>\\n    </tr>\\n        <tr>\\n        <td class=\"link\"><a href=\"/news_1953.php\">IISM auf dem International Workshop on the Sharing Economy</a></td>\\n        <td class=\"normal\" onclick=\"location.href=\\'/news_1953.php\\'\">21.06.2017</td>\\n    </tr>\\n    <tr class=\"grey\">\\n        <td class=\"link\"><a href=\"/news_1945.php\">IISM bei der 14th International Conference on the European Energy Market</a></td>\\n        <td class=\"normal\" onclick=\"location.href=\\'/news_1945.php\\'\">07.06.2017</td>\\n    </tr>\\n        <tr>\\n        <td class=\"link\"><a href=\"/news_1940.php\">Best Prototype Award</a></td>\\n        <td class=\"normal\" onclick=\"location.href=\\'/news_1940.php\\'\">02.06.2017</td>\\n    </tr>\\n    <tr class=\"grey\">\\n        <td class=\"link\"><a href=\"/news_1934.php\">Experte des Monats: Smart Data</a></td>\\n        <td class=\"normal\" onclick=\"location.href=\\'/news_1934.php\\'\">26.05.2017</td>\\n    </tr>\\n        <tr>\\n        <td class=\"link\"><a href=\"/news_1930.php\">Digitale M\\xc3\\xa4rkte: Vertrauen ist Geld wert</a></td>\\n        <td class=\"normal\" onclick=\"location.href=\\'/news_1930.php\\'\">24.05.2017</td>\\n    </tr>\\n    <tr class=\"grey\">\\n        <td class=\"link\"><a href=\"/news_1926.php\">Research Group at ECIS 2017</a></td>\\n        <td class=\"normal\" onclick=\"location.href=\\'/news_1926.php\\'\">23.05.2017 </td>\\n    </tr>\\n        <tr>\\n        <td class=\"link\"><a href=\"/news_1924.php\">1st KIT-ZEW Workshop \\xe2\\x80\\x9eBlockchain in the Energy Context\\xe2\\x80\\x9c</a></td>\\n        <td class=\"normal\" onclick=\"location.href=\\'/news_1924.php\\'\">23.05.2017</td>\\n    </tr>\\n    <tr class=\"grey\">\\n        <td class=\"link\"><a href=\"/news_1921.php\">Deutsche Bank becomes member of Digital Experience Network</a></td>\\n        <td class=\"normal\" onclick=\"location.href=\\'/news_1921.php\\'\">05.05.2017</td>\\n    </tr>\\n        <tr>\\n        <td class=\"link\"><a href=\"/news_1920.php\">Keynote von Prof. Weinhardt beim Blockchain Summit des Management Circle</a></td>\\n        <td class=\"normal\" onclick=\"location.href=\\'/news_1920.php\\'\">04.05.2017</td>\\n    </tr>\\n    <tr class=\"grey\">\\n        <td class=\"link\"><a href=\"/news_1741.php\">Digital Experience Network launched</a></td>\\n        <td class=\"normal\" onclick=\"location.href=\\'/news_1741.php\\'\">15.03.2017</td>\\n    </tr>\\n        <tr>\\n        <td class=\"link\"><a href=\"/news_1736.php\">Ausschreibung eines neuen Seminars: \\xe2\\x80\\x9cThe Economics of Blockchain in Finance and Energy\\xe2\\x80\\x9d</a></td>\\n        <td class=\"normal\" onclick=\"location.href=\\'/news_1736.php\\'\">06.03.2017</td>\\n    </tr>\\n    <tr class=\"grey\">\\n        <td class=\"link\"><a href=\"/news_1731.php\">Cooperation agreement with Staatliche Hochschule f\\xc3\\xbcr Gestaltung (HfG) signed </a></td>\\n        <td class=\"normal\" onclick=\"location.href=\\'/news_1731.php\\'\">21.02.2017</td>\\n    </tr>\\n        <tr>\\n        <td class=\"link\"><a href=\"/news_1728.php\">Best Student Paper Award</a></td>\\n        <td class=\"normal\" onclick=\"location.href=\\'/news_1728.php\\'\">17.02.2017</td>\\n    </tr>\\n    <tr class=\"grey\">\\n        <td class=\"link\"><a href=\"/news_PHD-Course-EyeTracking.php\">PhD course: Eye tracking in Desktop, Natural and Virtual Environments (26 \\xe2\\x80\\x93 30 June 2017 | Karlsruhe Institute of Technology, Germany)</a></td>\\n        <td class=\"normal\" onclick=\"location.href=\\'/news_PHD-Course-EyeTracking.php\\'\">15.12.2016</td>\\n    </tr>\\n        <tr>\\n        <td class=\"link\"><a href=\"/news_1697.php\">Verleihung der Lohrmann Medaille</a></td>\\n        <td class=\"normal\" onclick=\"location.href=\\'/news_1697.php\\'\">14.12.2016</td>\\n    </tr>\\n    <tr class=\"grey\">\\n        <td class=\"link\"><a href=\"/news_1684.php\">IISM erh\\xc3\\xa4lt Besuch aus Santiago</a></td>\\n        <td class=\"normal\" onclick=\"location.href=\\'/news_1684.php\\'\">25.11.2016</td>\\n    </tr>\\n        <tr>\\n        <td class=\"link\"><a href=\"/news_1672.php\">Herzratenmessung mittels Video</a></td>\\n        <td class=\"normal\" onclick=\"location.href=\\'/news_1672.php\\'\">27.10.2016</td>\\n    </tr>\\n    <tr class=\"grey\">\\n        <td class=\"link\"><a href=\"/news_1669.php\">Call for Papers: 4th European Retail Investment Conference (ERIC) und Doctoral Consortium</a></td>\\n        <td class=\"normal\" onclick=\"location.href=\\'/news_1669.php\\'\">26.10.2016</td>\\n    </tr>\\n        <tr>\\n        <td class=\"link\"><a href=\"/news_1664.php\">Studentische Hilfskraft  im Bereich Emotionserkennung gesucht</a></td>\\n        <td class=\"normal\" onclick=\"location.href=\\'/news_1664.php\\'\">24.10.2016</td>\\n    </tr>\\n    <tr class=\"grey\">\\n        <td class=\"link\"><a href=\"/news_1659.php\">L03 Energy am IISM</a></td>\\n        <td class=\"normal\" onclick=\"location.href=\\'/news_1659.php\\'\">21.10.2016</td>\\n    </tr>\\n        <tr>\\n        <td class=\"link\"><a href=\"/news_1654.php\">Studentische Hilfskraft gesucht</a></td>\\n        <td class=\"normal\" onclick=\"location.href=\\'/news_1654.php\\'\">14.10.2016</td>\\n    </tr>\\n    <tr class=\"grey\">\\n        <td class=\"link\"><a href=\"/news_1651.php\">Data Science@IISM</a></td>\\n        <td class=\"normal\" onclick=\"location.href=\\'/news_1651.php\\'\">14.10.2016</td>\\n    </tr>\\n        <tr>\\n        <td class=\"link\"><a href=\"/news_1648.php\">Neuer Mitarbeiter</a></td>\\n        <td class=\"normal\" onclick=\"location.href=\\'/news_1648.php\\'\">14.10.2016</td>\\n    </tr>\\n    <tr class=\"grey\">\\n        <td class=\"link\"><a href=\"/news_1638.php\">Hiwis gesucht</a></td>\\n        <td class=\"normal\" onclick=\"location.href=\\'/news_1638.php\\'\">10.10.2016</td>\\n    </tr>\\n        <tr>\\n        <td class=\"link\"><a href=\"/news_1633.php\">Prof. Weinhardt zu Blockchain bei der Deutschen Bank in New York</a></td>\\n        <td class=\"normal\" onclick=\"location.href=\\'/news_1633.php\\'\">30.09.2016</td>\\n    </tr>\\n    <tr class=\"grey\">\\n        <td class=\"link\"><a href=\"/news_1631.php\">Nordic Blockchain Summit</a></td>\\n        <td class=\"normal\" onclick=\"location.href=\\'/news_1631.php\\'\">30.09.2016</td>\\n    </tr>\\n        <tr>\\n        <td class=\"link\"><a href=\"/news_1609.php\">TEDx Talk von Prof. Dr. Weinhardt und Ass.-Prof. Dr. Hall</a></td>\\n        <td class=\"normal\" onclick=\"location.href=\\'/news_1609.php\\'\">22.07.2016</td>\\n    </tr>\\n    <tr class=\"grey\">\\n        <td class=\"link\"><a href=\"/news_1512.php\">Umstellung von ORSEE auf hroot</a></td>\\n        <td class=\"normal\" onclick=\"location.href=\\'/news_1512.php\\'\">16.05.2016</td>\\n    </tr>\\n        <tr>\\n        <td class=\"link\"><a href=\"/news_1493.php\">Prof. Dr. Weinhardt - Forschungsgipfel 2016</a></td>\\n        <td class=\"normal\" onclick=\"location.href=\\'/news_1493.php\\'\">15.04.2016</td>\\n    </tr>\\n    <tr class=\"grey\">\\n        <td class=\"link\"><a href=\"/news_1453.php\">Textbook Fundamentals of Service Systems</a></td>\\n        <td class=\"normal\" onclick=\"location.href=\\'/news_1453.php\\'\">03.02.2016</td>\\n    </tr>\\n        <tr>\\n        <td class=\"link\"><a href=\"/news_1185.php\">Abschlussarbeit \"P2P-Online-Market Design\" zu vergeben</a></td>\\n        <td class=\"normal\" onclick=\"location.href=\\'/news_1185.php\\'\">05.05.2015</td>\\n    </tr>\\n    <tr class=\"grey\">\\n        <td class=\"link\"><a href=\"/news_1182.php\">Abschlussarbeit \"Implications for product configurator design of experimental behavioural (economics) research\" zu vergeben</a></td>\\n        <td class=\"normal\" onclick=\"location.href=\\'/news_1182.php\\'\">05.05.2015</td>\\n    </tr>\\n</table>\\n<br>\\r\\n<br>\\r\\n<!-- Artikel-Liste: end -->\\r\\n \\r\\n \\r\\n \\n<!-- CONTENT-AREA END -->\\n                        <a name=\"bottom\" id=\"bottom\"></a>\\n                    </div>\\n                </div>\\n                <!-- Mittlere Spalte: end -->\\n                <div class=\"clear\"><!-- --></div>\\n                <!-- Footer: start -->\\n                <div id=\"footer-container\">\\n                    <div class=\"spacer\"><!-- --></div>\\n                    <div id=\"footer\">\\n                        <div id=\"footer-corner\"><!-- --></div>\\n                        <div id=\"footer-text\">\\n                            <div id=\"footer-content\">\\n<!--                                <a href=\"#\" class=\"footer-left\">Weiterempfehlen</a> -->\\n\\n<!-- Infobox-Skript [start] -->\\r\\n\\r\\n\\r\\n\\r\\n<!-- <div class=\"infobox\">\\r\\n    <div class=\"infobox-inner\"> -->\\r\\n    \\r\\n    \\r\\n        \\r\\n    \\r\\n         \\r\\n<!-- Piwik --><script type=\"text/javascript\">var _paq = _paq || [];_paq.push([\\'trackPageView\\']);_paq.push([\\'enableLinkTracking\\']);(function() {var u=((\"https:\" == document.location.protocol) ? \"https\" : \"http\") + \"://piwik.iism.kit.edu/\";_paq.push([\\'setTrackerUrl\\', u+\\'piwik.php\\']);_paq.push([\\'setSiteId\\', 2]);var d=document, g=d.createElement(\\'script\\'), s=d.getElementsByTagName(\\'script\\')[0]; g.type=\\'text/javascript\\';g.defer=true; g.async=true; g.src=u+\\'piwik.js\\'; s.parentNode.insertBefore(g,s);})();</script><noscript><p><img src=\"http://piwik.iism.kit.edu/piwik.php?idsite=2\" style=\"border:0;\" alt=\"\" /></p></noscript><!-- End Piwik Code --> \\r\\n\\r\\n                    \\r\\n<!--    </div>\\r\\n</div> -->\\r\\n    \\r\\n<!-- Infobox-Skript [end] -->\\r\\n \\n\\n<!--                                 -->\\n                                <a href=\"#top\" class=\"footer-right\"><img src=\"/img/intern/totop.png\" style=\"margin-top:6px\" title=\"Nach oben\" alt=\"Nach oben\" /></a>\\n                            </div>\\n                        </div>\\n                    </div>\\n                    <!-- Owner: start true -->\\n                    <div id=\"owner\">                            <span id=\"owner-text\" style=\"float:right; margin-right:31px\">letzte \\xc3\\x84nderung:\\n                            06.10.2014                            </span>\\n                    <span id=\"owner-text\">KIT \\xe2\\x80\\x93 Die Forschungsuniversit\\xc3\\xa4t in der Helmholtz-Gemeinschaft</span></div>\\n                    <!-- Owner: end -->\\n                </div>\\n                <!-- Footer: end -->\\n            </div>\\n            <!-- Container: end -->\\n        </div>\\n        <!-- Wrapper: end -->\\n<script type=\"text/javascript\">\\n    noSpam();\\n    window.onresize = resize_window;\\n    remove_liststyle();\\n    if (typeof(disable_faq) != \\'boolean\\') {\\n        collapseFAQ();\\n    }\\n\\n</script>\\n\\n    </body>\\n</html>\\n '\n"
     ]
    }
   ],
   "source": [
    "url = \"https://im.iism.kit.edu/news.php\" # place URL here\n",
    "\n",
    "# HTTP request\n",
    "request = requests.get(url)\n",
    "html_code = request.content\n",
    "\n",
    "print(html_code)"
   ]
  },
  {
   "cell_type": "code",
   "execution_count": 16,
   "metadata": {
    "slideshow": {
     "slide_type": "fragment"
    }
   },
   "outputs": [
    {
     "data": {
      "text/plain": [
       "'05.05.2015'"
      ]
     },
     "execution_count": 16,
     "metadata": {},
     "output_type": "execute_result"
    }
   ],
   "source": [
    "# parse to XML Tree\n",
    "tree = html.fromstring(html_code)\n",
    "\n",
    "# get all dates as list of element\n",
    "dates = tree.xpath(\"//*[@id=\\\"content\\\"]/table/tr/td[2]/text()\")\n",
    "\n",
    "#len(dates)\n",
    "dates[-1]"
   ]
  },
  {
   "cell_type": "code",
   "execution_count": 19,
   "metadata": {
    "slideshow": {
     "slide_type": "subslide"
    }
   },
   "outputs": [
    {
     "data": {
      "text/plain": [
       "'14.05.2020'"
      ]
     },
     "execution_count": 19,
     "metadata": {},
     "output_type": "execute_result"
    }
   ],
   "source": [
    "# group dates together\n",
    "labels, values = zip(*Counter(dates).items())\n",
    "indexes = np.arange(len(labels))\n",
    "labels[1]"
   ]
  },
  {
   "cell_type": "code",
   "execution_count": 20,
   "metadata": {
    "slideshow": {
     "slide_type": "fragment"
    }
   },
   "outputs": [
    {
     "data": {
      "application/javascript": [
       "/* Put everything inside the global mpl namespace */\n",
       "window.mpl = {};\n",
       "\n",
       "\n",
       "mpl.get_websocket_type = function() {\n",
       "    if (typeof(WebSocket) !== 'undefined') {\n",
       "        return WebSocket;\n",
       "    } else if (typeof(MozWebSocket) !== 'undefined') {\n",
       "        return MozWebSocket;\n",
       "    } else {\n",
       "        alert('Your browser does not have WebSocket support. ' +\n",
       "              'Please try Chrome, Safari or Firefox ≥ 6. ' +\n",
       "              'Firefox 4 and 5 are also supported but you ' +\n",
       "              'have to enable WebSockets in about:config.');\n",
       "    };\n",
       "}\n",
       "\n",
       "mpl.figure = function(figure_id, websocket, ondownload, parent_element) {\n",
       "    this.id = figure_id;\n",
       "\n",
       "    this.ws = websocket;\n",
       "\n",
       "    this.supports_binary = (this.ws.binaryType != undefined);\n",
       "\n",
       "    if (!this.supports_binary) {\n",
       "        var warnings = document.getElementById(\"mpl-warnings\");\n",
       "        if (warnings) {\n",
       "            warnings.style.display = 'block';\n",
       "            warnings.textContent = (\n",
       "                \"This browser does not support binary websocket messages. \" +\n",
       "                    \"Performance may be slow.\");\n",
       "        }\n",
       "    }\n",
       "\n",
       "    this.imageObj = new Image();\n",
       "\n",
       "    this.context = undefined;\n",
       "    this.message = undefined;\n",
       "    this.canvas = undefined;\n",
       "    this.rubberband_canvas = undefined;\n",
       "    this.rubberband_context = undefined;\n",
       "    this.format_dropdown = undefined;\n",
       "\n",
       "    this.image_mode = 'full';\n",
       "\n",
       "    this.root = $('<div/>');\n",
       "    this._root_extra_style(this.root)\n",
       "    this.root.attr('style', 'display: inline-block');\n",
       "\n",
       "    $(parent_element).append(this.root);\n",
       "\n",
       "    this._init_header(this);\n",
       "    this._init_canvas(this);\n",
       "    this._init_toolbar(this);\n",
       "\n",
       "    var fig = this;\n",
       "\n",
       "    this.waiting = false;\n",
       "\n",
       "    this.ws.onopen =  function () {\n",
       "            fig.send_message(\"supports_binary\", {value: fig.supports_binary});\n",
       "            fig.send_message(\"send_image_mode\", {});\n",
       "            if (mpl.ratio != 1) {\n",
       "                fig.send_message(\"set_dpi_ratio\", {'dpi_ratio': mpl.ratio});\n",
       "            }\n",
       "            fig.send_message(\"refresh\", {});\n",
       "        }\n",
       "\n",
       "    this.imageObj.onload = function() {\n",
       "            if (fig.image_mode == 'full') {\n",
       "                // Full images could contain transparency (where diff images\n",
       "                // almost always do), so we need to clear the canvas so that\n",
       "                // there is no ghosting.\n",
       "                fig.context.clearRect(0, 0, fig.canvas.width, fig.canvas.height);\n",
       "            }\n",
       "            fig.context.drawImage(fig.imageObj, 0, 0);\n",
       "        };\n",
       "\n",
       "    this.imageObj.onunload = function() {\n",
       "        fig.ws.close();\n",
       "    }\n",
       "\n",
       "    this.ws.onmessage = this._make_on_message_function(this);\n",
       "\n",
       "    this.ondownload = ondownload;\n",
       "}\n",
       "\n",
       "mpl.figure.prototype._init_header = function() {\n",
       "    var titlebar = $(\n",
       "        '<div class=\"ui-dialog-titlebar ui-widget-header ui-corner-all ' +\n",
       "        'ui-helper-clearfix\"/>');\n",
       "    var titletext = $(\n",
       "        '<div class=\"ui-dialog-title\" style=\"width: 100%; ' +\n",
       "        'text-align: center; padding: 3px;\"/>');\n",
       "    titlebar.append(titletext)\n",
       "    this.root.append(titlebar);\n",
       "    this.header = titletext[0];\n",
       "}\n",
       "\n",
       "\n",
       "\n",
       "mpl.figure.prototype._canvas_extra_style = function(canvas_div) {\n",
       "\n",
       "}\n",
       "\n",
       "\n",
       "mpl.figure.prototype._root_extra_style = function(canvas_div) {\n",
       "\n",
       "}\n",
       "\n",
       "mpl.figure.prototype._init_canvas = function() {\n",
       "    var fig = this;\n",
       "\n",
       "    var canvas_div = $('<div/>');\n",
       "\n",
       "    canvas_div.attr('style', 'position: relative; clear: both; outline: 0');\n",
       "\n",
       "    function canvas_keyboard_event(event) {\n",
       "        return fig.key_event(event, event['data']);\n",
       "    }\n",
       "\n",
       "    canvas_div.keydown('key_press', canvas_keyboard_event);\n",
       "    canvas_div.keyup('key_release', canvas_keyboard_event);\n",
       "    this.canvas_div = canvas_div\n",
       "    this._canvas_extra_style(canvas_div)\n",
       "    this.root.append(canvas_div);\n",
       "\n",
       "    var canvas = $('<canvas/>');\n",
       "    canvas.addClass('mpl-canvas');\n",
       "    canvas.attr('style', \"left: 0; top: 0; z-index: 0; outline: 0\")\n",
       "\n",
       "    this.canvas = canvas[0];\n",
       "    this.context = canvas[0].getContext(\"2d\");\n",
       "\n",
       "    var backingStore = this.context.backingStorePixelRatio ||\n",
       "\tthis.context.webkitBackingStorePixelRatio ||\n",
       "\tthis.context.mozBackingStorePixelRatio ||\n",
       "\tthis.context.msBackingStorePixelRatio ||\n",
       "\tthis.context.oBackingStorePixelRatio ||\n",
       "\tthis.context.backingStorePixelRatio || 1;\n",
       "\n",
       "    mpl.ratio = (window.devicePixelRatio || 1) / backingStore;\n",
       "\n",
       "    var rubberband = $('<canvas/>');\n",
       "    rubberband.attr('style', \"position: absolute; left: 0; top: 0; z-index: 1;\")\n",
       "\n",
       "    var pass_mouse_events = true;\n",
       "\n",
       "    canvas_div.resizable({\n",
       "        start: function(event, ui) {\n",
       "            pass_mouse_events = false;\n",
       "        },\n",
       "        resize: function(event, ui) {\n",
       "            fig.request_resize(ui.size.width, ui.size.height);\n",
       "        },\n",
       "        stop: function(event, ui) {\n",
       "            pass_mouse_events = true;\n",
       "            fig.request_resize(ui.size.width, ui.size.height);\n",
       "        },\n",
       "    });\n",
       "\n",
       "    function mouse_event_fn(event) {\n",
       "        if (pass_mouse_events)\n",
       "            return fig.mouse_event(event, event['data']);\n",
       "    }\n",
       "\n",
       "    rubberband.mousedown('button_press', mouse_event_fn);\n",
       "    rubberband.mouseup('button_release', mouse_event_fn);\n",
       "    // Throttle sequential mouse events to 1 every 20ms.\n",
       "    rubberband.mousemove('motion_notify', mouse_event_fn);\n",
       "\n",
       "    rubberband.mouseenter('figure_enter', mouse_event_fn);\n",
       "    rubberband.mouseleave('figure_leave', mouse_event_fn);\n",
       "\n",
       "    canvas_div.on(\"wheel\", function (event) {\n",
       "        event = event.originalEvent;\n",
       "        event['data'] = 'scroll'\n",
       "        if (event.deltaY < 0) {\n",
       "            event.step = 1;\n",
       "        } else {\n",
       "            event.step = -1;\n",
       "        }\n",
       "        mouse_event_fn(event);\n",
       "    });\n",
       "\n",
       "    canvas_div.append(canvas);\n",
       "    canvas_div.append(rubberband);\n",
       "\n",
       "    this.rubberband = rubberband;\n",
       "    this.rubberband_canvas = rubberband[0];\n",
       "    this.rubberband_context = rubberband[0].getContext(\"2d\");\n",
       "    this.rubberband_context.strokeStyle = \"#000000\";\n",
       "\n",
       "    this._resize_canvas = function(width, height) {\n",
       "        // Keep the size of the canvas, canvas container, and rubber band\n",
       "        // canvas in synch.\n",
       "        canvas_div.css('width', width)\n",
       "        canvas_div.css('height', height)\n",
       "\n",
       "        canvas.attr('width', width * mpl.ratio);\n",
       "        canvas.attr('height', height * mpl.ratio);\n",
       "        canvas.attr('style', 'width: ' + width + 'px; height: ' + height + 'px;');\n",
       "\n",
       "        rubberband.attr('width', width);\n",
       "        rubberband.attr('height', height);\n",
       "    }\n",
       "\n",
       "    // Set the figure to an initial 600x600px, this will subsequently be updated\n",
       "    // upon first draw.\n",
       "    this._resize_canvas(600, 600);\n",
       "\n",
       "    // Disable right mouse context menu.\n",
       "    $(this.rubberband_canvas).bind(\"contextmenu\",function(e){\n",
       "        return false;\n",
       "    });\n",
       "\n",
       "    function set_focus () {\n",
       "        canvas.focus();\n",
       "        canvas_div.focus();\n",
       "    }\n",
       "\n",
       "    window.setTimeout(set_focus, 100);\n",
       "}\n",
       "\n",
       "mpl.figure.prototype._init_toolbar = function() {\n",
       "    var fig = this;\n",
       "\n",
       "    var nav_element = $('<div/>');\n",
       "    nav_element.attr('style', 'width: 100%');\n",
       "    this.root.append(nav_element);\n",
       "\n",
       "    // Define a callback function for later on.\n",
       "    function toolbar_event(event) {\n",
       "        return fig.toolbar_button_onclick(event['data']);\n",
       "    }\n",
       "    function toolbar_mouse_event(event) {\n",
       "        return fig.toolbar_button_onmouseover(event['data']);\n",
       "    }\n",
       "\n",
       "    for(var toolbar_ind in mpl.toolbar_items) {\n",
       "        var name = mpl.toolbar_items[toolbar_ind][0];\n",
       "        var tooltip = mpl.toolbar_items[toolbar_ind][1];\n",
       "        var image = mpl.toolbar_items[toolbar_ind][2];\n",
       "        var method_name = mpl.toolbar_items[toolbar_ind][3];\n",
       "\n",
       "        if (!name) {\n",
       "            // put a spacer in here.\n",
       "            continue;\n",
       "        }\n",
       "        var button = $('<button/>');\n",
       "        button.addClass('ui-button ui-widget ui-state-default ui-corner-all ' +\n",
       "                        'ui-button-icon-only');\n",
       "        button.attr('role', 'button');\n",
       "        button.attr('aria-disabled', 'false');\n",
       "        button.click(method_name, toolbar_event);\n",
       "        button.mouseover(tooltip, toolbar_mouse_event);\n",
       "\n",
       "        var icon_img = $('<span/>');\n",
       "        icon_img.addClass('ui-button-icon-primary ui-icon');\n",
       "        icon_img.addClass(image);\n",
       "        icon_img.addClass('ui-corner-all');\n",
       "\n",
       "        var tooltip_span = $('<span/>');\n",
       "        tooltip_span.addClass('ui-button-text');\n",
       "        tooltip_span.html(tooltip);\n",
       "\n",
       "        button.append(icon_img);\n",
       "        button.append(tooltip_span);\n",
       "\n",
       "        nav_element.append(button);\n",
       "    }\n",
       "\n",
       "    var fmt_picker_span = $('<span/>');\n",
       "\n",
       "    var fmt_picker = $('<select/>');\n",
       "    fmt_picker.addClass('mpl-toolbar-option ui-widget ui-widget-content');\n",
       "    fmt_picker_span.append(fmt_picker);\n",
       "    nav_element.append(fmt_picker_span);\n",
       "    this.format_dropdown = fmt_picker[0];\n",
       "\n",
       "    for (var ind in mpl.extensions) {\n",
       "        var fmt = mpl.extensions[ind];\n",
       "        var option = $(\n",
       "            '<option/>', {selected: fmt === mpl.default_extension}).html(fmt);\n",
       "        fmt_picker.append(option);\n",
       "    }\n",
       "\n",
       "    // Add hover states to the ui-buttons\n",
       "    $( \".ui-button\" ).hover(\n",
       "        function() { $(this).addClass(\"ui-state-hover\");},\n",
       "        function() { $(this).removeClass(\"ui-state-hover\");}\n",
       "    );\n",
       "\n",
       "    var status_bar = $('<span class=\"mpl-message\"/>');\n",
       "    nav_element.append(status_bar);\n",
       "    this.message = status_bar[0];\n",
       "}\n",
       "\n",
       "mpl.figure.prototype.request_resize = function(x_pixels, y_pixels) {\n",
       "    // Request matplotlib to resize the figure. Matplotlib will then trigger a resize in the client,\n",
       "    // which will in turn request a refresh of the image.\n",
       "    this.send_message('resize', {'width': x_pixels, 'height': y_pixels});\n",
       "}\n",
       "\n",
       "mpl.figure.prototype.send_message = function(type, properties) {\n",
       "    properties['type'] = type;\n",
       "    properties['figure_id'] = this.id;\n",
       "    this.ws.send(JSON.stringify(properties));\n",
       "}\n",
       "\n",
       "mpl.figure.prototype.send_draw_message = function() {\n",
       "    if (!this.waiting) {\n",
       "        this.waiting = true;\n",
       "        this.ws.send(JSON.stringify({type: \"draw\", figure_id: this.id}));\n",
       "    }\n",
       "}\n",
       "\n",
       "\n",
       "mpl.figure.prototype.handle_save = function(fig, msg) {\n",
       "    var format_dropdown = fig.format_dropdown;\n",
       "    var format = format_dropdown.options[format_dropdown.selectedIndex].value;\n",
       "    fig.ondownload(fig, format);\n",
       "}\n",
       "\n",
       "\n",
       "mpl.figure.prototype.handle_resize = function(fig, msg) {\n",
       "    var size = msg['size'];\n",
       "    if (size[0] != fig.canvas.width || size[1] != fig.canvas.height) {\n",
       "        fig._resize_canvas(size[0], size[1]);\n",
       "        fig.send_message(\"refresh\", {});\n",
       "    };\n",
       "}\n",
       "\n",
       "mpl.figure.prototype.handle_rubberband = function(fig, msg) {\n",
       "    var x0 = msg['x0'] / mpl.ratio;\n",
       "    var y0 = (fig.canvas.height - msg['y0']) / mpl.ratio;\n",
       "    var x1 = msg['x1'] / mpl.ratio;\n",
       "    var y1 = (fig.canvas.height - msg['y1']) / mpl.ratio;\n",
       "    x0 = Math.floor(x0) + 0.5;\n",
       "    y0 = Math.floor(y0) + 0.5;\n",
       "    x1 = Math.floor(x1) + 0.5;\n",
       "    y1 = Math.floor(y1) + 0.5;\n",
       "    var min_x = Math.min(x0, x1);\n",
       "    var min_y = Math.min(y0, y1);\n",
       "    var width = Math.abs(x1 - x0);\n",
       "    var height = Math.abs(y1 - y0);\n",
       "\n",
       "    fig.rubberband_context.clearRect(\n",
       "        0, 0, fig.canvas.width / mpl.ratio, fig.canvas.height / mpl.ratio);\n",
       "\n",
       "    fig.rubberband_context.strokeRect(min_x, min_y, width, height);\n",
       "}\n",
       "\n",
       "mpl.figure.prototype.handle_figure_label = function(fig, msg) {\n",
       "    // Updates the figure title.\n",
       "    fig.header.textContent = msg['label'];\n",
       "}\n",
       "\n",
       "mpl.figure.prototype.handle_cursor = function(fig, msg) {\n",
       "    var cursor = msg['cursor'];\n",
       "    switch(cursor)\n",
       "    {\n",
       "    case 0:\n",
       "        cursor = 'pointer';\n",
       "        break;\n",
       "    case 1:\n",
       "        cursor = 'default';\n",
       "        break;\n",
       "    case 2:\n",
       "        cursor = 'crosshair';\n",
       "        break;\n",
       "    case 3:\n",
       "        cursor = 'move';\n",
       "        break;\n",
       "    }\n",
       "    fig.rubberband_canvas.style.cursor = cursor;\n",
       "}\n",
       "\n",
       "mpl.figure.prototype.handle_message = function(fig, msg) {\n",
       "    fig.message.textContent = msg['message'];\n",
       "}\n",
       "\n",
       "mpl.figure.prototype.handle_draw = function(fig, msg) {\n",
       "    // Request the server to send over a new figure.\n",
       "    fig.send_draw_message();\n",
       "}\n",
       "\n",
       "mpl.figure.prototype.handle_image_mode = function(fig, msg) {\n",
       "    fig.image_mode = msg['mode'];\n",
       "}\n",
       "\n",
       "mpl.figure.prototype.updated_canvas_event = function() {\n",
       "    // Called whenever the canvas gets updated.\n",
       "    this.send_message(\"ack\", {});\n",
       "}\n",
       "\n",
       "// A function to construct a web socket function for onmessage handling.\n",
       "// Called in the figure constructor.\n",
       "mpl.figure.prototype._make_on_message_function = function(fig) {\n",
       "    return function socket_on_message(evt) {\n",
       "        if (evt.data instanceof Blob) {\n",
       "            /* FIXME: We get \"Resource interpreted as Image but\n",
       "             * transferred with MIME type text/plain:\" errors on\n",
       "             * Chrome.  But how to set the MIME type?  It doesn't seem\n",
       "             * to be part of the websocket stream */\n",
       "            evt.data.type = \"image/png\";\n",
       "\n",
       "            /* Free the memory for the previous frames */\n",
       "            if (fig.imageObj.src) {\n",
       "                (window.URL || window.webkitURL).revokeObjectURL(\n",
       "                    fig.imageObj.src);\n",
       "            }\n",
       "\n",
       "            fig.imageObj.src = (window.URL || window.webkitURL).createObjectURL(\n",
       "                evt.data);\n",
       "            fig.updated_canvas_event();\n",
       "            fig.waiting = false;\n",
       "            return;\n",
       "        }\n",
       "        else if (typeof evt.data === 'string' && evt.data.slice(0, 21) == \"data:image/png;base64\") {\n",
       "            fig.imageObj.src = evt.data;\n",
       "            fig.updated_canvas_event();\n",
       "            fig.waiting = false;\n",
       "            return;\n",
       "        }\n",
       "\n",
       "        var msg = JSON.parse(evt.data);\n",
       "        var msg_type = msg['type'];\n",
       "\n",
       "        // Call the  \"handle_{type}\" callback, which takes\n",
       "        // the figure and JSON message as its only arguments.\n",
       "        try {\n",
       "            var callback = fig[\"handle_\" + msg_type];\n",
       "        } catch (e) {\n",
       "            console.log(\"No handler for the '\" + msg_type + \"' message type: \", msg);\n",
       "            return;\n",
       "        }\n",
       "\n",
       "        if (callback) {\n",
       "            try {\n",
       "                // console.log(\"Handling '\" + msg_type + \"' message: \", msg);\n",
       "                callback(fig, msg);\n",
       "            } catch (e) {\n",
       "                console.log(\"Exception inside the 'handler_\" + msg_type + \"' callback:\", e, e.stack, msg);\n",
       "            }\n",
       "        }\n",
       "    };\n",
       "}\n",
       "\n",
       "// from http://stackoverflow.com/questions/1114465/getting-mouse-location-in-canvas\n",
       "mpl.findpos = function(e) {\n",
       "    //this section is from http://www.quirksmode.org/js/events_properties.html\n",
       "    var targ;\n",
       "    if (!e)\n",
       "        e = window.event;\n",
       "    if (e.target)\n",
       "        targ = e.target;\n",
       "    else if (e.srcElement)\n",
       "        targ = e.srcElement;\n",
       "    if (targ.nodeType == 3) // defeat Safari bug\n",
       "        targ = targ.parentNode;\n",
       "\n",
       "    // jQuery normalizes the pageX and pageY\n",
       "    // pageX,Y are the mouse positions relative to the document\n",
       "    // offset() returns the position of the element relative to the document\n",
       "    var x = e.pageX - $(targ).offset().left;\n",
       "    var y = e.pageY - $(targ).offset().top;\n",
       "\n",
       "    return {\"x\": x, \"y\": y};\n",
       "};\n",
       "\n",
       "/*\n",
       " * return a copy of an object with only non-object keys\n",
       " * we need this to avoid circular references\n",
       " * http://stackoverflow.com/a/24161582/3208463\n",
       " */\n",
       "function simpleKeys (original) {\n",
       "  return Object.keys(original).reduce(function (obj, key) {\n",
       "    if (typeof original[key] !== 'object')\n",
       "        obj[key] = original[key]\n",
       "    return obj;\n",
       "  }, {});\n",
       "}\n",
       "\n",
       "mpl.figure.prototype.mouse_event = function(event, name) {\n",
       "    var canvas_pos = mpl.findpos(event)\n",
       "\n",
       "    if (name === 'button_press')\n",
       "    {\n",
       "        this.canvas.focus();\n",
       "        this.canvas_div.focus();\n",
       "    }\n",
       "\n",
       "    var x = canvas_pos.x * mpl.ratio;\n",
       "    var y = canvas_pos.y * mpl.ratio;\n",
       "\n",
       "    this.send_message(name, {x: x, y: y, button: event.button,\n",
       "                             step: event.step,\n",
       "                             guiEvent: simpleKeys(event)});\n",
       "\n",
       "    /* This prevents the web browser from automatically changing to\n",
       "     * the text insertion cursor when the button is pressed.  We want\n",
       "     * to control all of the cursor setting manually through the\n",
       "     * 'cursor' event from matplotlib */\n",
       "    event.preventDefault();\n",
       "    return false;\n",
       "}\n",
       "\n",
       "mpl.figure.prototype._key_event_extra = function(event, name) {\n",
       "    // Handle any extra behaviour associated with a key event\n",
       "}\n",
       "\n",
       "mpl.figure.prototype.key_event = function(event, name) {\n",
       "\n",
       "    // Prevent repeat events\n",
       "    if (name == 'key_press')\n",
       "    {\n",
       "        if (event.which === this._key)\n",
       "            return;\n",
       "        else\n",
       "            this._key = event.which;\n",
       "    }\n",
       "    if (name == 'key_release')\n",
       "        this._key = null;\n",
       "\n",
       "    var value = '';\n",
       "    if (event.ctrlKey && event.which != 17)\n",
       "        value += \"ctrl+\";\n",
       "    if (event.altKey && event.which != 18)\n",
       "        value += \"alt+\";\n",
       "    if (event.shiftKey && event.which != 16)\n",
       "        value += \"shift+\";\n",
       "\n",
       "    value += 'k';\n",
       "    value += event.which.toString();\n",
       "\n",
       "    this._key_event_extra(event, name);\n",
       "\n",
       "    this.send_message(name, {key: value,\n",
       "                             guiEvent: simpleKeys(event)});\n",
       "    return false;\n",
       "}\n",
       "\n",
       "mpl.figure.prototype.toolbar_button_onclick = function(name) {\n",
       "    if (name == 'download') {\n",
       "        this.handle_save(this, null);\n",
       "    } else {\n",
       "        this.send_message(\"toolbar_button\", {name: name});\n",
       "    }\n",
       "};\n",
       "\n",
       "mpl.figure.prototype.toolbar_button_onmouseover = function(tooltip) {\n",
       "    this.message.textContent = tooltip;\n",
       "};\n",
       "mpl.toolbar_items = [[\"Home\", \"Reset original view\", \"fa fa-home icon-home\", \"home\"], [\"Back\", \"Back to previous view\", \"fa fa-arrow-left icon-arrow-left\", \"back\"], [\"Forward\", \"Forward to next view\", \"fa fa-arrow-right icon-arrow-right\", \"forward\"], [\"\", \"\", \"\", \"\"], [\"Pan\", \"Pan axes with left mouse, zoom with right\", \"fa fa-arrows icon-move\", \"pan\"], [\"Zoom\", \"Zoom to rectangle\", \"fa fa-square-o icon-check-empty\", \"zoom\"], [\"\", \"\", \"\", \"\"], [\"Download\", \"Download plot\", \"fa fa-floppy-o icon-save\", \"download\"]];\n",
       "\n",
       "mpl.extensions = [\"eps\", \"jpeg\", \"pdf\", \"png\", \"ps\", \"raw\", \"svg\", \"tif\"];\n",
       "\n",
       "mpl.default_extension = \"png\";var comm_websocket_adapter = function(comm) {\n",
       "    // Create a \"websocket\"-like object which calls the given IPython comm\n",
       "    // object with the appropriate methods. Currently this is a non binary\n",
       "    // socket, so there is still some room for performance tuning.\n",
       "    var ws = {};\n",
       "\n",
       "    ws.close = function() {\n",
       "        comm.close()\n",
       "    };\n",
       "    ws.send = function(m) {\n",
       "        //console.log('sending', m);\n",
       "        comm.send(m);\n",
       "    };\n",
       "    // Register the callback with on_msg.\n",
       "    comm.on_msg(function(msg) {\n",
       "        //console.log('receiving', msg['content']['data'], msg);\n",
       "        // Pass the mpl event to the overridden (by mpl) onmessage function.\n",
       "        ws.onmessage(msg['content']['data'])\n",
       "    });\n",
       "    return ws;\n",
       "}\n",
       "\n",
       "mpl.mpl_figure_comm = function(comm, msg) {\n",
       "    // This is the function which gets called when the mpl process\n",
       "    // starts-up an IPython Comm through the \"matplotlib\" channel.\n",
       "\n",
       "    var id = msg.content.data.id;\n",
       "    // Get hold of the div created by the display call when the Comm\n",
       "    // socket was opened in Python.\n",
       "    var element = $(\"#\" + id);\n",
       "    var ws_proxy = comm_websocket_adapter(comm)\n",
       "\n",
       "    function ondownload(figure, format) {\n",
       "        window.open(figure.imageObj.src);\n",
       "    }\n",
       "\n",
       "    var fig = new mpl.figure(id, ws_proxy,\n",
       "                           ondownload,\n",
       "                           element.get(0));\n",
       "\n",
       "    // Call onopen now - mpl needs it, as it is assuming we've passed it a real\n",
       "    // web socket which is closed, not our websocket->open comm proxy.\n",
       "    ws_proxy.onopen();\n",
       "\n",
       "    fig.parent_element = element.get(0);\n",
       "    fig.cell_info = mpl.find_output_cell(\"<div id='\" + id + \"'></div>\");\n",
       "    if (!fig.cell_info) {\n",
       "        console.error(\"Failed to find cell for figure\", id, fig);\n",
       "        return;\n",
       "    }\n",
       "\n",
       "    var output_index = fig.cell_info[2]\n",
       "    var cell = fig.cell_info[0];\n",
       "\n",
       "};\n",
       "\n",
       "mpl.figure.prototype.handle_close = function(fig, msg) {\n",
       "    var width = fig.canvas.width/mpl.ratio\n",
       "    fig.root.unbind('remove')\n",
       "\n",
       "    // Update the output cell to use the data from the current canvas.\n",
       "    fig.push_to_output();\n",
       "    var dataURL = fig.canvas.toDataURL();\n",
       "    // Re-enable the keyboard manager in IPython - without this line, in FF,\n",
       "    // the notebook keyboard shortcuts fail.\n",
       "    IPython.keyboard_manager.enable()\n",
       "    $(fig.parent_element).html('<img src=\"' + dataURL + '\" width=\"' + width + '\">');\n",
       "    fig.close_ws(fig, msg);\n",
       "}\n",
       "\n",
       "mpl.figure.prototype.close_ws = function(fig, msg){\n",
       "    fig.send_message('closing', msg);\n",
       "    // fig.ws.close()\n",
       "}\n",
       "\n",
       "mpl.figure.prototype.push_to_output = function(remove_interactive) {\n",
       "    // Turn the data on the canvas into data in the output cell.\n",
       "    var width = this.canvas.width/mpl.ratio\n",
       "    var dataURL = this.canvas.toDataURL();\n",
       "    this.cell_info[1]['text/html'] = '<img src=\"' + dataURL + '\" width=\"' + width + '\">';\n",
       "}\n",
       "\n",
       "mpl.figure.prototype.updated_canvas_event = function() {\n",
       "    // Tell IPython that the notebook contents must change.\n",
       "    IPython.notebook.set_dirty(true);\n",
       "    this.send_message(\"ack\", {});\n",
       "    var fig = this;\n",
       "    // Wait a second, then push the new image to the DOM so\n",
       "    // that it is saved nicely (might be nice to debounce this).\n",
       "    setTimeout(function () { fig.push_to_output() }, 1000);\n",
       "}\n",
       "\n",
       "mpl.figure.prototype._init_toolbar = function() {\n",
       "    var fig = this;\n",
       "\n",
       "    var nav_element = $('<div/>');\n",
       "    nav_element.attr('style', 'width: 100%');\n",
       "    this.root.append(nav_element);\n",
       "\n",
       "    // Define a callback function for later on.\n",
       "    function toolbar_event(event) {\n",
       "        return fig.toolbar_button_onclick(event['data']);\n",
       "    }\n",
       "    function toolbar_mouse_event(event) {\n",
       "        return fig.toolbar_button_onmouseover(event['data']);\n",
       "    }\n",
       "\n",
       "    for(var toolbar_ind in mpl.toolbar_items){\n",
       "        var name = mpl.toolbar_items[toolbar_ind][0];\n",
       "        var tooltip = mpl.toolbar_items[toolbar_ind][1];\n",
       "        var image = mpl.toolbar_items[toolbar_ind][2];\n",
       "        var method_name = mpl.toolbar_items[toolbar_ind][3];\n",
       "\n",
       "        if (!name) { continue; };\n",
       "\n",
       "        var button = $('<button class=\"btn btn-default\" href=\"#\" title=\"' + name + '\"><i class=\"fa ' + image + ' fa-lg\"></i></button>');\n",
       "        button.click(method_name, toolbar_event);\n",
       "        button.mouseover(tooltip, toolbar_mouse_event);\n",
       "        nav_element.append(button);\n",
       "    }\n",
       "\n",
       "    // Add the status bar.\n",
       "    var status_bar = $('<span class=\"mpl-message\" style=\"text-align:right; float: right;\"/>');\n",
       "    nav_element.append(status_bar);\n",
       "    this.message = status_bar[0];\n",
       "\n",
       "    // Add the close button to the window.\n",
       "    var buttongrp = $('<div class=\"btn-group inline pull-right\"></div>');\n",
       "    var button = $('<button class=\"btn btn-mini btn-primary\" href=\"#\" title=\"Stop Interaction\"><i class=\"fa fa-power-off icon-remove icon-large\"></i></button>');\n",
       "    button.click(function (evt) { fig.handle_close(fig, {}); } );\n",
       "    button.mouseover('Stop Interaction', toolbar_mouse_event);\n",
       "    buttongrp.append(button);\n",
       "    var titlebar = this.root.find($('.ui-dialog-titlebar'));\n",
       "    titlebar.prepend(buttongrp);\n",
       "}\n",
       "\n",
       "mpl.figure.prototype._root_extra_style = function(el){\n",
       "    var fig = this\n",
       "    el.on(\"remove\", function(){\n",
       "\tfig.close_ws(fig, {});\n",
       "    });\n",
       "}\n",
       "\n",
       "mpl.figure.prototype._canvas_extra_style = function(el){\n",
       "    // this is important to make the div 'focusable\n",
       "    el.attr('tabindex', 0)\n",
       "    // reach out to IPython and tell the keyboard manager to turn it's self\n",
       "    // off when our div gets focus\n",
       "\n",
       "    // location in version 3\n",
       "    if (IPython.notebook.keyboard_manager) {\n",
       "        IPython.notebook.keyboard_manager.register_events(el);\n",
       "    }\n",
       "    else {\n",
       "        // location in version 2\n",
       "        IPython.keyboard_manager.register_events(el);\n",
       "    }\n",
       "\n",
       "}\n",
       "\n",
       "mpl.figure.prototype._key_event_extra = function(event, name) {\n",
       "    var manager = IPython.notebook.keyboard_manager;\n",
       "    if (!manager)\n",
       "        manager = IPython.keyboard_manager;\n",
       "\n",
       "    // Check for shift+enter\n",
       "    if (event.shiftKey && event.which == 13) {\n",
       "        this.canvas_div.blur();\n",
       "        // select the cell after this one\n",
       "        var index = IPython.notebook.find_cell_index(this.cell_info[0]);\n",
       "        IPython.notebook.select(index + 1);\n",
       "    }\n",
       "}\n",
       "\n",
       "mpl.figure.prototype.handle_save = function(fig, msg) {\n",
       "    fig.ondownload(fig, null);\n",
       "}\n",
       "\n",
       "\n",
       "mpl.find_output_cell = function(html_output) {\n",
       "    // Return the cell and output element which can be found *uniquely* in the notebook.\n",
       "    // Note - this is a bit hacky, but it is done because the \"notebook_saving.Notebook\"\n",
       "    // IPython event is triggered only after the cells have been serialised, which for\n",
       "    // our purposes (turning an active figure into a static one), is too late.\n",
       "    var cells = IPython.notebook.get_cells();\n",
       "    var ncells = cells.length;\n",
       "    for (var i=0; i<ncells; i++) {\n",
       "        var cell = cells[i];\n",
       "        if (cell.cell_type === 'code'){\n",
       "            for (var j=0; j<cell.output_area.outputs.length; j++) {\n",
       "                var data = cell.output_area.outputs[j];\n",
       "                if (data.data) {\n",
       "                    // IPython >= 3 moved mimebundle to data attribute of output\n",
       "                    data = data.data;\n",
       "                }\n",
       "                if (data['text/html'] == html_output) {\n",
       "                    return [cell, data, j];\n",
       "                }\n",
       "            }\n",
       "        }\n",
       "    }\n",
       "}\n",
       "\n",
       "// Register the function which deals with the matplotlib target/channel.\n",
       "// The kernel may be null if the page has been refreshed.\n",
       "if (IPython.notebook.kernel != null) {\n",
       "    IPython.notebook.kernel.comm_manager.register_target('matplotlib', mpl.mpl_figure_comm);\n",
       "}\n"
      ],
      "text/plain": [
       "<IPython.core.display.Javascript object>"
      ]
     },
     "metadata": {},
     "output_type": "display_data"
    },
    {
     "data": {
      "text/html": [
       "<img src=\"data:image/png;base64,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\" width=\"640\">"
      ],
      "text/plain": [
       "<IPython.core.display.HTML object>"
      ]
     },
     "metadata": {},
     "output_type": "display_data"
    }
   ],
   "source": [
    "# plot line chart\n",
    "plt.plot(indexes, values)\n",
    "plt.xticks(indexes, labels)\n",
    "plt.show()"
   ]
  },
  {
   "cell_type": "markdown",
   "metadata": {
    "slideshow": {
     "slide_type": "slide"
    }
   },
   "source": [
    "# Flixbus"
   ]
  },
  {
   "cell_type": "markdown",
   "metadata": {
    "slideshow": {
     "slide_type": "fragment"
    }
   },
   "source": [
    "Erstellen Sie eine Matrix mit den Durchschnittspreisen für die Städte-Verbindungen von Karlsruhe, Augsburg, Chemnitz, Aachen und Würzburg."
   ]
  },
  {
   "cell_type": "code",
   "execution_count": null,
   "metadata": {
    "slideshow": {
     "slide_type": "subslide"
    }
   },
   "outputs": [],
   "source": [
    "url = \" https://shop.flixbus.de/search?adults=1&children=0&bikes=0&departureStation=&arrivalStation=&departureCity=109&arrivalCity=111&rideDate=17.11.2017&backRide=&backRideDate=19.11.2017&adults=&children=&bikes=&_locale=de&form_build_id=form-c3C1aGY0eI5YNNPUIlJTPZABC0QGlZG-rxOwhQdHCPM&form_id=fb_search_form_main&_ga=2.198169839.1190481064.1510601639-770278177.1508774859\" # place URL here\n",
    "\n",
    "# HTTP request\n",
    "request = requests.get(url)\n",
    "html_code = request.content\n",
    "\n",
    "print(html_code)"
   ]
  },
  {
   "cell_type": "code",
   "execution_count": null,
   "metadata": {
    "slideshow": {
     "slide_type": "subslide"
    }
   },
   "outputs": [],
   "source": [
    "# save html code to disk\n",
    "with open('flixbus.html', 'wb') as outputfile:\n",
    "    outputfile.write(html_code)\n",
    "    outputfile.close()"
   ]
  },
  {
   "cell_type": "markdown",
   "metadata": {
    "slideshow": {
     "slide_type": "subslide"
    }
   },
   "source": [
    "# Problem\n",
    "* Dynamic content (e. g., JavaScript) will not be executed\n",
    "* --> Incomplete website content"
   ]
  },
  {
   "cell_type": "markdown",
   "metadata": {
    "slideshow": {
     "slide_type": "subslide"
    }
   },
   "source": [
    "## Selenium\n",
    "[http://www.seleniumhq.org/](http://www.seleniumhq.org/)"
   ]
  },
  {
   "cell_type": "markdown",
   "metadata": {
    "slideshow": {
     "slide_type": "fragment"
    }
   },
   "source": [
    "## Selenium Browser Automation\n",
    "* Automated application testing\n",
    "* Web-based administration tasks\n",
    "* \"Browse websites like a human\""
   ]
  },
  {
   "cell_type": "code",
   "execution_count": 2,
   "metadata": {
    "slideshow": {
     "slide_type": "slide"
    }
   },
   "outputs": [],
   "source": [
    "from lxml import html # html code --> xml tree\n",
    "from selenium import webdriver # Selenium\n",
    "from selenium.webdriver.common.keys import Keys # keyboard inputs\n",
    "import time # functions using time"
   ]
  },
  {
   "cell_type": "markdown",
   "metadata": {
    "slideshow": {
     "slide_type": "slide"
    }
   },
   "source": [
    "## Dynamic Website Scraping"
   ]
  },
  {
   "cell_type": "markdown",
   "metadata": {
    "slideshow": {
     "slide_type": "fragment"
    }
   },
   "source": [
    "### Flixbus\n",
    "\n",
    "**Aufgabe:** Erstellen Sie eine Matrix mit den Durchschnittspreisen für die Städte-Verbindungen von Karlsruhe, Augsburg, Chemnitz, Aachen und Würzburg."
   ]
  },
  {
   "cell_type": "code",
   "execution_count": 4,
   "metadata": {
    "slideshow": {
     "slide_type": "subslide"
    }
   },
   "outputs": [],
   "source": [
    "import requests # http requests\n",
    "from lxml import html # html code --> xml tree\n",
    "from collections import Counter # helper functions\n",
    "import itertools # helper functions"
   ]
  },
  {
   "cell_type": "code",
   "execution_count": null,
   "metadata": {
    "slideshow": {
     "slide_type": "subslide"
    }
   },
   "outputs": [],
   "source": [
    "from selenium import webdriver # Selenium\n",
    "import pandas as pd # data frames"
   ]
  },
  {
   "cell_type": "code",
   "execution_count": 23,
   "metadata": {
    "slideshow": {
     "slide_type": "subslide"
    }
   },
   "outputs": [],
   "source": [
    "cities_dict = {\n",
    "    \"Karlsruhe\":109, # place ID here\n",
    "    \"Augsburg\":137,\n",
    "    \"Chemnitz\":170,\n",
    "    \"Aachen\":243,\n",
    "    \"Würzburg\":111 # place ID here\n",
    "}\n",
    "\n",
    "rideDate =\"17.08.2020\" # place Date here\n",
    "backRideDate = \"18.08.2020\" # place Date here\n",
    "\n",
    "url_raw = \"https://shop.flixbus.de/search?adults=1&children=0&bikes=0&departureStation=&arrivalStation=&\"\\\n",
    "\"departureCity={0}&arrivalCity={1}&rideDate={2}&backRide=&backRideDate={3}&adults=&children=\"\\\n",
    "\"&bikes=&_locale=de&form_build_id=form-IR0yXk_DvVa6h8ug4Ap-s_p4LAWzsfw-64uw1h3j84I&form_id=fb_search_form_main\"\\\n",
    "\"&_ga=2.77021590.266612087.1508774859-770278177.1508774859\" # place URL here"
   ]
  },
  {
   "cell_type": "code",
   "execution_count": 25,
   "metadata": {
    "slideshow": {
     "slide_type": "subslide"
    }
   },
   "outputs": [],
   "source": [
    "import pandas as pd\n",
    "# data frame for results\n",
    "results = pd.DataFrame(index=cities_dict.keys(), columns=cities_dict.keys())"
   ]
  },
  {
   "cell_type": "code",
   "execution_count": 26,
   "metadata": {
    "slideshow": {
     "slide_type": "fragment"
    }
   },
   "outputs": [
    {
     "data": {
      "text/html": [
       "<div>\n",
       "<style scoped>\n",
       "    .dataframe tbody tr th:only-of-type {\n",
       "        vertical-align: middle;\n",
       "    }\n",
       "\n",
       "    .dataframe tbody tr th {\n",
       "        vertical-align: top;\n",
       "    }\n",
       "\n",
       "    .dataframe thead th {\n",
       "        text-align: right;\n",
       "    }\n",
       "</style>\n",
       "<table border=\"1\" class=\"dataframe\">\n",
       "  <thead>\n",
       "    <tr style=\"text-align: right;\">\n",
       "      <th></th>\n",
       "      <th>Karlsruhe</th>\n",
       "      <th>Augsburg</th>\n",
       "      <th>Chemnitz</th>\n",
       "      <th>Aachen</th>\n",
       "      <th>Würzburg</th>\n",
       "    </tr>\n",
       "  </thead>\n",
       "  <tbody>\n",
       "    <tr>\n",
       "      <th>Karlsruhe</th>\n",
       "      <td>NaN</td>\n",
       "      <td>NaN</td>\n",
       "      <td>NaN</td>\n",
       "      <td>NaN</td>\n",
       "      <td>NaN</td>\n",
       "    </tr>\n",
       "    <tr>\n",
       "      <th>Augsburg</th>\n",
       "      <td>NaN</td>\n",
       "      <td>NaN</td>\n",
       "      <td>NaN</td>\n",
       "      <td>NaN</td>\n",
       "      <td>NaN</td>\n",
       "    </tr>\n",
       "    <tr>\n",
       "      <th>Chemnitz</th>\n",
       "      <td>NaN</td>\n",
       "      <td>NaN</td>\n",
       "      <td>NaN</td>\n",
       "      <td>NaN</td>\n",
       "      <td>NaN</td>\n",
       "    </tr>\n",
       "    <tr>\n",
       "      <th>Aachen</th>\n",
       "      <td>NaN</td>\n",
       "      <td>NaN</td>\n",
       "      <td>NaN</td>\n",
       "      <td>NaN</td>\n",
       "      <td>NaN</td>\n",
       "    </tr>\n",
       "    <tr>\n",
       "      <th>Würzburg</th>\n",
       "      <td>NaN</td>\n",
       "      <td>NaN</td>\n",
       "      <td>NaN</td>\n",
       "      <td>NaN</td>\n",
       "      <td>NaN</td>\n",
       "    </tr>\n",
       "  </tbody>\n",
       "</table>\n",
       "</div>"
      ],
      "text/plain": [
       "          Karlsruhe Augsburg Chemnitz Aachen Würzburg\n",
       "Karlsruhe       NaN      NaN      NaN    NaN      NaN\n",
       "Augsburg        NaN      NaN      NaN    NaN      NaN\n",
       "Chemnitz        NaN      NaN      NaN    NaN      NaN\n",
       "Aachen          NaN      NaN      NaN    NaN      NaN\n",
       "Würzburg        NaN      NaN      NaN    NaN      NaN"
      ]
     },
     "execution_count": 26,
     "metadata": {},
     "output_type": "execute_result"
    }
   ],
   "source": [
    "results"
   ]
  },
  {
   "cell_type": "code",
   "execution_count": 27,
   "metadata": {
    "slideshow": {
     "slide_type": "subslide"
    }
   },
   "outputs": [],
   "source": [
    "# get all combinations\n",
    "combinations = list(itertools.combinations(cities_dict.keys(),2))"
   ]
  },
  {
   "cell_type": "code",
   "execution_count": 28,
   "metadata": {
    "slideshow": {
     "slide_type": "fragment"
    }
   },
   "outputs": [
    {
     "data": {
      "text/plain": [
       "[('Karlsruhe', 'Augsburg'),\n",
       " ('Karlsruhe', 'Chemnitz'),\n",
       " ('Karlsruhe', 'Aachen'),\n",
       " ('Karlsruhe', 'Würzburg'),\n",
       " ('Augsburg', 'Chemnitz'),\n",
       " ('Augsburg', 'Aachen'),\n",
       " ('Augsburg', 'Würzburg'),\n",
       " ('Chemnitz', 'Aachen'),\n",
       " ('Chemnitz', 'Würzburg'),\n",
       " ('Aachen', 'Würzburg')]"
      ]
     },
     "execution_count": 28,
     "metadata": {},
     "output_type": "execute_result"
    }
   ],
   "source": [
    "combinations"
   ]
  },
  {
   "cell_type": "code",
   "execution_count": null,
   "metadata": {
    "slideshow": {
     "slide_type": "subslide"
    }
   },
   "outputs": [],
   "source": [
    "browser = webdriver.Chrome() # Use Google Chrome Browser\n",
    "\n",
    "for combination in combinations:\n",
    "    city1_id = cities_dict[combination[0]]\n",
    "    city2_id = cities_dict[combination[1]]\n",
    "    \n",
    "    #insert current values in URL\n",
    "    url = url_raw.format(city1_id, city2_id, rideDate, backRideDate)\n",
    "    \n",
    "    \n",
    "    #request website code\n",
    "    browser.get(url)\n",
    "    html_code = browser.page_source\n",
    "    \n",
    "    #parse to XML Tree\n",
    "    tree = html.fromstring(html_code)\n",
    "    \n",
    "    prices = tree.xpath(\"//span[@class=\\\"num\\\"]/text()\") #insert xpath here (//span[@class=\\\"num\\\"]/text())\n",
    "\n",
    "    \n",
    "    #replace non-breaking space\n",
    "    for idx, price_string in enumerate(prices):\n",
    "        prices[idx] = float(price_string.replace(\"\\xa0€\",\"\").replace(\",\",\".\"))\n",
    "        \n",
    "    \n",
    "    #calculate average price\n",
    "    avg = sum(prices)/len(prices)\n",
    "        \n",
    "    #save average prices to \"results\" dataframe\n",
    "    results[combination[0]][combination[1]] = avg\n",
    "    results[combination[1]][combination[0]] = avg\n",
    "    \n",
    "browser.close()"
   ]
  },
  {
   "cell_type": "code",
   "execution_count": null,
   "metadata": {
    "slideshow": {
     "slide_type": "subslide"
    }
   },
   "outputs": [],
   "source": [
    "results"
   ]
  },
  {
   "cell_type": "code",
   "execution_count": 33,
   "metadata": {
    "slideshow": {
     "slide_type": "subslide"
    }
   },
   "outputs": [],
   "source": [
    "url = \"https://www.flixbus.de/\""
   ]
  },
  {
   "cell_type": "code",
   "execution_count": 35,
   "metadata": {
    "slideshow": {
     "slide_type": "subslide"
    }
   },
   "outputs": [],
   "source": [
    "browser = webdriver.Chrome() # Use Google Chrome Browser"
   ]
  },
  {
   "cell_type": "code",
   "execution_count": 36,
   "metadata": {
    "slideshow": {
     "slide_type": "subslide"
    }
   },
   "outputs": [],
   "source": [
    "browser.get(url)"
   ]
  },
  {
   "cell_type": "code",
   "execution_count": 39,
   "metadata": {
    "slideshow": {
     "slide_type": "subslide"
    }
   },
   "outputs": [],
   "source": [
    "from selenium.webdriver.common.by import By\n",
    "\n",
    "browser.find_element(By.XPATH, '//*[@id=\"gatsby-focus-wrapper\"]/div[3]/div/div[3]/div/div[2]/a').click()"
   ]
  },
  {
   "cell_type": "markdown",
   "metadata": {
    "slideshow": {
     "slide_type": "subslide"
    }
   },
   "source": [
    "# OMDb API"
   ]
  },
  {
   "cell_type": "markdown",
   "metadata": {},
   "source": [
    "## Get your own API-Key\n",
    "1. Create API-Key on website\n",
    "1. Receive E-Mail vom OMDb\n",
    "1. Click activation link\n",
    "1. Save API-key to txt file\n",
    "1. Ignore this API file in your repository (via .gitignore file)!"
   ]
  },
  {
   "cell_type": "code",
   "execution_count": 6,
   "metadata": {},
   "outputs": [],
   "source": [
    "import requests # http requests"
   ]
  },
  {
   "cell_type": "code",
   "execution_count": 44,
   "metadata": {},
   "outputs": [],
   "source": [
    "API_KEY = open(\"api_key.txt\", \"r\").read()"
   ]
  },
  {
   "cell_type": "code",
   "execution_count": 45,
   "metadata": {},
   "outputs": [],
   "source": [
    "omdb_url = f\"http://www.omdbapi.com/?apikey={API_KEY}&r=xml&i=\""
   ]
  },
  {
   "cell_type": "code",
   "execution_count": 46,
   "metadata": {},
   "outputs": [],
   "source": [
    "movie_0 = \"tt0371724\" # The Hitchhiker's Guide to the Galaxy\n",
    "movie_1 = \"tt0109830\" # Forrest Gump"
   ]
  },
  {
   "cell_type": "code",
   "execution_count": 47,
   "metadata": {},
   "outputs": [],
   "source": [
    "request_url = omdb_url+movie_0"
   ]
  },
  {
   "cell_type": "code",
   "execution_count": 48,
   "metadata": {},
   "outputs": [],
   "source": [
    "response = requests.get(request_url)"
   ]
  },
  {
   "cell_type": "code",
   "execution_count": 49,
   "metadata": {},
   "outputs": [
    {
     "data": {
      "text/plain": [
       "'<?xml version=\"1.0\" encoding=\"UTF-8\"?><root response=\"True\"><movie title=\"The Hitchhiker\\'s Guide to the Galaxy\" year=\"2005\" rated=\"PG\" released=\"29 Apr 2005\" runtime=\"109 min\" genre=\"Adventure, Comedy, Sci-Fi\" director=\"Garth Jennings\" writer=\"Douglas Adams (book), Douglas Adams (screenplay), Karey Kirkpatrick (screenplay)\" actors=\"Bill Bailey, Anna Chancellor, Warwick Davis, Yasiin Bey\" plot=\"Mere seconds before the Earth is to be demolished by an alien construction crew, journeyman Arthur Dent is swept off the planet by his friend Ford Prefect, a researcher penning a new edition of &amp;quot;The Hitchhiker\\'s Guide to the Galaxy.&amp;quot;\" language=\"English\" country=\"UK, USA\" awards=\"1 win &amp; 10 nominations.\" poster=\"https://m.media-amazon.com/images/M/MV5BZmU5MGU4MjctNjA2OC00N2FhLWFhNWQtMzQyMGI2ZmQ0Y2YyL2ltYWdlXkEyXkFqcGdeQXVyNTAyODkwOQ@@._V1_SX300.jpg\" metascore=\"63\" imdbRating=\"6.8\" imdbVotes=\"182,275\" imdbID=\"tt0371724\" type=\"movie\"/></root>'"
      ]
     },
     "execution_count": 49,
     "metadata": {},
     "output_type": "execute_result"
    }
   ],
   "source": [
    "response.text"
   ]
  },
  {
   "cell_type": "code",
   "execution_count": 52,
   "metadata": {},
   "outputs": [],
   "source": [
    "response_xml = response.text"
   ]
  },
  {
   "cell_type": "code",
   "execution_count": 53,
   "metadata": {},
   "outputs": [],
   "source": [
    "import xmltodict"
   ]
  },
  {
   "cell_type": "code",
   "execution_count": 54,
   "metadata": {},
   "outputs": [],
   "source": [
    "response_dict = xmltodict.parse(response_xml)"
   ]
  },
  {
   "cell_type": "code",
   "execution_count": 55,
   "metadata": {},
   "outputs": [
    {
     "data": {
      "text/plain": [
       "OrderedDict([('root',\n",
       "              OrderedDict([('@response', 'True'),\n",
       "                           ('movie',\n",
       "                            OrderedDict([('@title',\n",
       "                                          \"The Hitchhiker's Guide to the Galaxy\"),\n",
       "                                         ('@year', '2005'),\n",
       "                                         ('@rated', 'PG'),\n",
       "                                         ('@released', '29 Apr 2005'),\n",
       "                                         ('@runtime', '109 min'),\n",
       "                                         ('@genre',\n",
       "                                          'Adventure, Comedy, Sci-Fi'),\n",
       "                                         ('@director', 'Garth Jennings'),\n",
       "                                         ('@writer',\n",
       "                                          'Douglas Adams (book), Douglas Adams (screenplay), Karey Kirkpatrick (screenplay)'),\n",
       "                                         ('@actors',\n",
       "                                          'Bill Bailey, Anna Chancellor, Warwick Davis, Yasiin Bey'),\n",
       "                                         ('@plot',\n",
       "                                          \"Mere seconds before the Earth is to be demolished by an alien construction crew, journeyman Arthur Dent is swept off the planet by his friend Ford Prefect, a researcher penning a new edition of &quot;The Hitchhiker's Guide to the Galaxy.&quot;\"),\n",
       "                                         ('@language', 'English'),\n",
       "                                         ('@country', 'UK, USA'),\n",
       "                                         ('@awards',\n",
       "                                          '1 win & 10 nominations.'),\n",
       "                                         ('@poster',\n",
       "                                          'https://m.media-amazon.com/images/M/MV5BZmU5MGU4MjctNjA2OC00N2FhLWFhNWQtMzQyMGI2ZmQ0Y2YyL2ltYWdlXkEyXkFqcGdeQXVyNTAyODkwOQ@@._V1_SX300.jpg'),\n",
       "                                         ('@metascore', '63'),\n",
       "                                         ('@imdbRating', '6.8'),\n",
       "                                         ('@imdbVotes', '182,275'),\n",
       "                                         ('@imdbID', 'tt0371724'),\n",
       "                                         ('@type', 'movie')]))]))])"
      ]
     },
     "execution_count": 55,
     "metadata": {},
     "output_type": "execute_result"
    }
   ],
   "source": [
    "response_dict"
   ]
  },
  {
   "cell_type": "code",
   "execution_count": 59,
   "metadata": {},
   "outputs": [],
   "source": [
    "title = response_dict[\"root\"][\"movie\"][\"@title\"]"
   ]
  },
  {
   "cell_type": "code",
   "execution_count": null,
   "metadata": {},
   "outputs": [],
   "source": []
  },
  {
   "cell_type": "markdown",
   "metadata": {},
   "source": [
    "# Your Turn!\n",
    "\n",
    "**Aufgabe:** Gründen Sie das nächste Multi-Millionen-$ Startup mithilfe Ihrer Scraping-Skills!"
   ]
  },
  {
   "cell_type": "markdown",
   "metadata": {},
   "source": [
    "… oder nutzen Sie sie für eine Abschluss-/Seminararbeit"
   ]
  },
  {
   "cell_type": "markdown",
   "metadata": {},
   "source": [
    "Die Daten sind schon da\n",
    "* LinkedIn \n",
    "* Immobilienscout24\n",
    "* Bloomberg\n",
    "* Facebook/Twitter/Instagram\n",
    "* …"
   ]
  },
  {
   "cell_type": "markdown",
   "metadata": {},
   "source": [
    "## Empfehlung\n",
    "Spiegel Mining\n",
    "https://www.youtube.com/watch?v=-YpwsdRKt8Q"
   ]
  },
  {
   "cell_type": "markdown",
   "metadata": {},
   "source": [
    "# Questions?\n",
    "\n",
    "--> david.dann@kit.edu"
   ]
  }
 ],
 "metadata": {
  "celltoolbar": "Slideshow",
  "kernelspec": {
   "display_name": "Python 3",
   "language": "python",
   "name": "python3"
  },
  "language_info": {
   "codemirror_mode": {
    "name": "ipython",
    "version": 3
   },
   "file_extension": ".py",
   "mimetype": "text/x-python",
   "name": "python",
   "nbconvert_exporter": "python",
   "pygments_lexer": "ipython3",
   "version": "3.8.3"
  },
  "varInspector": {
   "cols": {
    "lenName": 16,
    "lenType": 16,
    "lenVar": 40
   },
   "kernels_config": {
    "python": {
     "delete_cmd_postfix": "",
     "delete_cmd_prefix": "del ",
     "library": "var_list.py",
     "varRefreshCmd": "print(var_dic_list())"
    },
    "r": {
     "delete_cmd_postfix": ") ",
     "delete_cmd_prefix": "rm(",
     "library": "var_list.r",
     "varRefreshCmd": "cat(var_dic_list()) "
    }
   },
   "position": {
    "height": "229px",
    "left": "764px",
    "right": "20px",
    "top": "161px",
    "width": "613px"
   },
   "types_to_exclude": [
    "module",
    "function",
    "builtin_function_or_method",
    "instance",
    "_Feature"
   ],
   "window_display": false
  }
 },
 "nbformat": 4,
 "nbformat_minor": 4
}
