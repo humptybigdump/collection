{
 "cells": [
  {
   "cell_type": "markdown",
   "metadata": {},
   "source": [
    "# Geodatenanalyse 1\n",
    "\n",
    "## Übung 6: Statistisches Testen - Lösung"
   ]
  },
  {
   "cell_type": "markdown",
   "metadata": {},
   "source": [
    "Nun wollen wir einige Hypothesen mit Hilfe von verschiedenen statistischen Tests an den Grundwasserdaten aus Karlsruhe testen. Lest dafür erneut den Datensatz \"Data_GW_KA.csv\" aus Übung 4 unter Verwendung eines geeigneten Variablennamen in Euer Jupyter Notebook ein. \n",
    "\n",
    "Entfernt dann mit Hilfe von `numpy.delete(array, column number, 0)` die Spalte mit den Eisenwerten, da diese NaN Werte enthält. "
   ]
  },
  {
   "cell_type": "code",
   "execution_count": 1,
   "metadata": {},
   "outputs": [
    {
     "name": "stdout",
     "output_type": "stream",
     "text": [
      "[[3.90000e+01 9.70000e-01 1.44000e+01 6.08000e+02 6.98000e+00 1.00000e-01\n",
      "  1.50000e+00 3.00000e+00 3.00000e+00 1.00000e+00 1.00000e+00 0.00000e+00\n",
      "  0.00000e+00 0.00000e+00 0.00000e+00]\n",
      " [1.00000e+01 1.45000e+00 1.40000e+01 5.57670e+02 7.00000e+00 7.00000e-02\n",
      "  7.00000e+00 2.00000e+00 2.00000e+00 2.00000e+00 1.00000e+00 2.00000e+00\n",
      "  4.00000e+00 1.00000e+02 0.00000e+00]\n",
      " [1.58000e+01 1.07000e+00 1.25000e+01 5.92000e+02 7.06000e+00 1.00000e-01\n",
      "  1.50000e+00 3.00000e+00 3.00000e+00 3.00000e+00 1.00000e+00 0.00000e+00\n",
      "  0.00000e+00 0.00000e+00 0.00000e+00]\n",
      " [9.30000e+00 1.29000e+00 1.44000e+01 6.89000e+02 7.02000e+00 2.00000e-01\n",
      "  1.50000e+00 3.00000e+00 3.00000e+00 4.00000e+00 1.00000e+00 1.00000e+00\n",
      "  1.00000e+00 0.00000e+00 1.00000e+02]\n",
      " [1.10000e+01 4.02000e+00 1.42000e+01 8.46000e+02 7.06000e+00 4.00000e-01\n",
      "  7.33000e+00 3.00000e+00 3.00000e+00 1.00000e+00 1.00000e+00 3.00000e+00\n",
      "  7.00000e+00 8.60000e+01 1.40000e+01]\n",
      " [1.40000e+01 2.18000e+00 1.28000e+01 3.48330e+02 7.29000e+00 2.30000e-01\n",
      "  3.83000e+00 1.00000e+00 1.00000e+00 4.00000e+00 1.00000e+00 2.00000e+00\n",
      "  3.00000e+00 0.00000e+00 1.00000e+02]\n",
      " [1.30000e+01 1.97000e+00 1.49000e+01 7.68330e+02 7.10000e+00 1.00000e-01\n",
      "  8.67000e+00 3.00000e+00 3.00000e+00 4.00000e+00 1.00000e+00 1.00000e+00\n",
      "  2.00000e+00 0.00000e+00 0.00000e+00]\n",
      " [9.50000e+00 5.50000e+00 1.31700e+01 7.27670e+02 7.03000e+00 1.70000e-01\n",
      "  9.67000e+00 2.00000e+00 2.00000e+00 4.00000e+00 1.00000e+00 2.00000e+00\n",
      "  1.30000e+01 0.00000e+00 1.00000e+02]\n",
      " [8.50000e+00 2.31000e+00 1.21700e+01 5.97330e+02 7.27000e+00 2.30000e+00\n",
      "  8.00000e+00 1.00000e+00 1.00000e+00 4.00000e+00 1.00000e+00 4.00000e+00\n",
      "  1.24000e+02 9.10000e+01 9.00000e+00]\n",
      " [9.00000e+00 2.62000e+00 1.26400e+01 3.89670e+02 7.22000e+00 1.20000e-01\n",
      "  1.50000e+00 1.00000e+00 1.00000e+00 2.00000e+00 1.00000e+00 1.00000e+00\n",
      "  2.52000e+02 0.00000e+00 1.00000e+02]\n",
      " [1.00000e+01 3.45000e+00 1.58700e+01 3.30670e+02 7.30000e+00 2.50000e-01\n",
      "  3.17000e+00 2.00000e+00 2.00000e+00 2.00000e+00 1.00000e+00 2.00000e+00\n",
      "  6.00000e+00 0.00000e+00 1.00000e+02]\n",
      " [9.00000e+00 3.68000e+00 1.24300e+01 7.33000e+02 6.97000e+00 3.30000e-01\n",
      "  1.40000e+01 2.00000e+00 2.00000e+00 4.00000e+00 1.00000e+00 4.00000e+00\n",
      "  4.00000e+00 5.00000e+01 5.00000e+01]\n",
      " [1.09000e+01 5.74000e+00 1.13300e+01 5.18670e+02 7.02000e+00 7.00000e-02\n",
      "  1.20000e+01 3.00000e+00 3.00000e+00 1.00000e+00 1.00000e+00 2.00000e+00\n",
      "  3.40000e+01 0.00000e+00 1.00000e+02]\n",
      " [1.00000e+01 4.47000e+00 1.14000e+01 6.18000e+02 7.06000e+00 2.00000e-01\n",
      "  1.30000e+01 1.00000e+00 1.00000e+00 1.00000e+00 1.00000e+00 4.00000e+00\n",
      "  6.00000e+00 1.00000e+02 0.00000e+00]\n",
      " [9.00000e+00 2.84000e+00 1.28000e+01 6.23670e+02 6.94000e+00 2.00000e-01\n",
      "  1.26700e+01 2.00000e+00 1.33000e+00 2.00000e+00 1.00000e+00 1.00000e+00\n",
      "  5.00000e+00 1.00000e+02 0.00000e+00]\n",
      " [9.00000e+00 1.77000e+00 1.15300e+01 5.97000e+02 6.85000e+00 1.00000e-01\n",
      "  8.33000e+00 2.00000e+00 1.67000e+00 2.00000e+00 1.00000e+00 2.00000e+00\n",
      "  2.75000e+02 9.90000e+01 1.00000e+00]\n",
      " [1.10000e+01 8.90000e+00 1.41700e+01 7.60330e+02 7.21000e+00 8.00000e-02\n",
      "  1.50000e+00 2.00000e+00 1.67000e+00 1.00000e+00 1.00000e+00 1.00000e+00\n",
      "  8.00000e+00 0.00000e+00 1.00000e+02]\n",
      " [1.37000e+01 4.86000e+00 1.41300e+01 7.65670e+02 7.25000e+00 7.00000e-02\n",
      "  9.00000e+00 1.00000e+00 1.00000e+00 4.00000e+00 1.00000e+00 4.00000e+00\n",
      "  3.80000e+01 9.20000e+01 8.00000e+00]\n",
      " [1.20000e+01 6.12000e+00 1.49300e+01 7.88670e+02 7.34000e+00 8.00000e-02\n",
      "  1.46700e+01 2.00000e+00 2.00000e+00 4.00000e+00 1.00000e+00 4.00000e+00\n",
      "  2.50000e+01 7.90000e+01 2.10000e+01]\n",
      " [1.28000e+01 8.25000e+00 1.54300e+01 6.51000e+02 6.15000e+00 7.00000e-02\n",
      "  1.46700e+01 1.00000e+00 1.00000e+00 2.00000e+00 1.00000e+00 4.00000e+00\n",
      "  1.71000e+02 1.30000e+01 8.80000e+01]\n",
      " [1.35000e+01 4.83000e+00 1.48300e+01 5.87670e+02 7.45000e+00 5.30000e-01\n",
      "  1.06700e+01 1.00000e+00 1.00000e+00 4.00000e+00 1.00000e+00 4.00000e+00\n",
      "  2.30000e+01 8.90000e+01 1.10000e+01]\n",
      " [1.30000e+01 6.24000e+00 1.70000e+01 7.38670e+02 7.33000e+00 1.20000e-01\n",
      "  5.17000e+00 3.00000e+00 3.00000e+00 4.00000e+00 1.00000e+00 5.00000e+00\n",
      "  7.60000e+01 9.20000e+01 8.00000e+00]\n",
      " [1.37000e+01 8.45000e+00 1.61000e+01 7.63670e+02 7.48000e+00 2.00000e-01\n",
      "  8.33000e+00 1.00000e+00 1.33000e+00 4.00000e+00 1.00000e+00 4.00000e+00\n",
      "  1.10000e+01 3.80000e+01 6.30000e+01]\n",
      " [1.20000e+01 6.87000e+00 1.44700e+01 7.41330e+02 7.31000e+00 1.00000e-01\n",
      "  3.83000e+00 2.00000e+00 1.67000e+00 4.00000e+00 1.00000e+00 4.00000e+00\n",
      "  2.04000e+02 1.00000e+02 0.00000e+00]\n",
      " [8.90000e+00 5.75000e+00 1.33700e+01 6.10000e+02 7.32000e+00 1.00000e-01\n",
      "  7.67000e+00 3.00000e+00 2.67000e+00 4.00000e+00 1.00000e+00 4.00000e+00\n",
      "  9.60000e+01 7.70000e+01 2.30000e+01]\n",
      " [1.10000e+01 3.35000e+00 1.75300e+01 6.28330e+02 7.31000e+00 7.00000e-02\n",
      "  2.00000e+00 1.00000e+00 1.00000e+00 4.00000e+00 1.00000e+00 1.00000e+00\n",
      "  1.00000e+00 0.00000e+00 1.00000e+02]\n",
      " [1.55000e+01 6.44000e+00 1.52700e+01 6.79330e+02 7.39000e+00 1.20000e-01\n",
      "  8.00000e+00 1.00000e+00 1.00000e+00 4.00000e+00 1.00000e+00 3.00000e+00\n",
      "  1.30000e+01 7.70000e+01 2.30000e+01]\n",
      " [1.52000e+01 8.64000e+00 1.57700e+01 8.33330e+02 7.29000e+00 2.20000e-01\n",
      "  2.33000e+00 2.00000e+00 2.33000e+00 4.00000e+00 1.00000e+00 4.00000e+00\n",
      "  3.53000e+02 2.00000e+01 8.00000e+01]\n",
      " [1.52000e+01 5.95000e+00 1.73300e+01 7.53670e+02 7.34000e+00 1.00000e-01\n",
      "  1.06700e+01 2.00000e+00 2.33000e+00 1.00000e+00 1.00000e+00 3.00000e+00\n",
      "  6.30000e+02 6.50000e+01 3.50000e+01]\n",
      " [1.01000e+01 4.90000e+00 1.61700e+01 1.16333e+03 7.29000e+00 3.00000e-01\n",
      "  1.03300e+01 1.00000e+00 1.00000e+00 1.00000e+00 1.00000e+00 3.00000e+00\n",
      "  1.30000e+02 6.60000e+01 3.40000e+01]\n",
      " [1.49000e+01 3.42000e+00 1.07000e+01 6.73000e+02 7.36000e+00 2.20000e-01\n",
      "  1.33000e+00 1.00000e+00 1.00000e+00 4.00000e+00 2.00000e+00 1.00000e+00\n",
      "  1.50000e+01 1.00000e+02 0.00000e+00]\n",
      " [1.50000e+01 7.20000e+00 1.09000e+01 6.24000e+02 7.49000e+00 8.00000e-02\n",
      "  2.67000e+00 3.00000e+00 3.00000e+00 1.00000e+00 2.00000e+00 6.00000e+00\n",
      "  5.06000e+02 9.70000e+01 3.00000e+00]\n",
      " [1.50000e+01 5.81000e+00 1.06700e+01 7.26330e+02 7.38000e+00 5.00000e-02\n",
      "  6.33000e+00 1.00000e+00 1.00000e+00 1.00000e+00 2.00000e+00 4.00000e+00\n",
      "  9.00000e+00 5.00000e+01 5.00000e+01]\n",
      " [2.70000e+01 1.27500e+01 1.07300e+01 7.77670e+02 7.47000e+00 1.80000e-01\n",
      "  3.50000e+00 3.00000e+00 3.00000e+00 4.00000e+00 2.00000e+00 2.00000e+00\n",
      "  3.10000e+01 9.00000e+01 1.00000e+01]\n",
      " [1.55000e+01 8.72000e+00 1.04700e+01 5.54330e+02 7.38000e+00 5.00000e-02\n",
      "  1.33000e+00 2.00000e+00 2.33000e+00 1.00000e+00 2.00000e+00 3.00000e+00\n",
      "  3.58000e+02 2.60000e+01 7.40000e+01]\n",
      " [1.50000e+01 1.06900e+01 1.08300e+01 6.37670e+02 7.50000e+00 5.00000e-02\n",
      "  2.33000e+00 2.00000e+00 2.33000e+00 1.00000e+00 2.00000e+00 4.00000e+00\n",
      "  9.00000e+01 4.30000e+01 5.70000e+01]\n",
      " [1.48000e+01 5.00000e+00 1.07000e+01 6.72000e+02 7.48000e+00 5.00000e-02\n",
      "  2.33000e+00 1.00000e+00 1.00000e+00 1.00000e+00 2.00000e+00 3.00000e+00\n",
      "  1.60000e+01 8.60000e+01 1.40000e+01]\n",
      " [1.50000e+01 9.92000e+00 1.05300e+01 6.23000e+02 7.51000e+00 2.00000e-01\n",
      "  2.00000e+00 1.00000e+00 1.33000e+00 4.00000e+00 2.00000e+00 3.00000e+00\n",
      "  2.30000e+01 6.70000e+01 3.30000e+01]]\n"
     ]
    }
   ],
   "source": [
    "# [1]\n",
    "import numpy as np\n",
    "data = np.genfromtxt(open(\"Data_GW_KA.csv\", \"rb\"), delimiter=\";\", skip_header=1)\n",
    "\n",
    "data = np.delete(data, 7, 0)\n",
    "print(data)"
   ]
  },
  {
   "cell_type": "markdown",
   "metadata": {},
   "source": [
    "Wir wollen in den Tests unter anderem die Daten im Hardtwald mit denen im Stadtgebiet vergleichen. Daher ist es sinnvoll den Datensatz aufzuspalten in einen Array mit den Werten aus dem Wald, und einen Array mit den Daten aus der Stadt. Schaut in der xlsx Datei nach der Spalte 'Flächennutzung' (1 = Stadt, 2 = Wald), und verwendet die richtigen Indices um die beiden Arrays zu erzeugen.  \n"
   ]
  },
  {
   "cell_type": "code",
   "execution_count": 2,
   "metadata": {},
   "outputs": [],
   "source": [
    "# [2]\n",
    "data_urban = data[0:30]\n",
    "data_forest = data[31:39]"
   ]
  },
  {
   "cell_type": "markdown",
   "metadata": {},
   "source": [
    "### Hypothese 1: \"Die durchschnittliche Grundwassertemperatur im Wald beträgt 11°C\" \n",
    "\n",
    "Zum Testen dieser Hypothese eignet sich ein zwei-seitiger t-Test. Die Nullhypothese H<sub>0</sub> haben wir bereits definiert, die alternative Hypothese lautet folglich \"Die durchschnittliche Temperatur im Wald beträgt nicht 11°C\". \n",
    "\n",
    "Der t-Test ist ein parametrischer Test, d.h. für einen gültigen Test müssen die Stichproben normal verteilt sein. Testet daher zuerst ob die Messwerte der Grundwassertemperatur diese Bedingung erfüllen. In `scipy.stats` gibt es die Funktion `shapiro()`, die einen Shapiro-Wilk-Test auf Normalität durchführt. Diese Funktion hat einen Input, den zu testenden Datensatz, und zwei Outputs, die Test-Statistik und den p-Wert. \n",
    "\n",
    "Führt den Shapiro-Wilk-Test für die Grundwassertemperatur durch und lasst euch den p-Wert anzeigen. Würdet Ihr für ein Signifikanzniveau von $\\alpha$=0.01 annehmen, dass die Werte normalverteilt sind? \n"
   ]
  },
  {
   "cell_type": "code",
   "execution_count": 3,
   "metadata": {},
   "outputs": [
    {
     "name": "stdout",
     "output_type": "stream",
     "text": [
      "0.8608435988426208\n"
     ]
    }
   ],
   "source": [
    "# [3]\n",
    "from scipy.stats import shapiro\n",
    "stat, p = shapiro(data_forest[:,2])\n",
    "print(p)"
   ]
  },
  {
   "cell_type": "markdown",
   "metadata": {},
   "source": [
    "Da der p-Wert deutlich größer ist als das Signifikanzniveau ($\\alpha$=0.01), können wir die Nullhypothese, dass die Werte normalverteilt sind, annehmen. Also könnt Ihr mit dem t-test für eine Stichprobe fortfahren. \n",
    "\n",
    "In `scipy.stats` gibt es dafür die Funktion `ttest_1samp()`. Als Inputs benötigt diese Funktion den zu testenden Datensatz und den hypothetischen Mittelwert. Formuliert das Skript mit Hilfe einer `if else` Bedingung so, dass es Euch (zusätzlich zum p-Wert) bei einem resultierenden p-Wert von >0.01 \"H0 annehmen\", und ansonsten \"H0 nicht annehmen\" ausgibt. \n"
   ]
  },
  {
   "cell_type": "code",
   "execution_count": 4,
   "metadata": {},
   "outputs": [
    {
     "name": "stdout",
     "output_type": "stream",
     "text": [
      "stat=23.2279, p=0.0000\n",
      "H0 nicht annehmen\n"
     ]
    }
   ],
   "source": [
    "# [4]\n",
    "from scipy import stats\n",
    "stat, p = stats.ttest_1samp(data_forest[:,3], 11)\n",
    "print('stat=%.4f, p=%.4f' % (stat, p))\n",
    "if p > 0.01:\n",
    "\tprint('H0 annehmen')\n",
    "else:\n",
    "\tprint('H0 nicht annehmen')\n",
    "\n",
    "\n"
   ]
  },
  {
   "cell_type": "markdown",
   "metadata": {},
   "source": [
    "Wie habt Ihr Euch in Bezug auf die Nullhypothese von oben entschieden? Interessant ist natürlich auch zu sehen, wo der Mittelwerte der Probe eigentlich liegt. Berechnet diesen,und vergleicht ihn mit dem hypothetischen Wert. Was fällt auf? Woran könnte das liegen? \n",
    "\n",
    "Hinweis: Bestimmt neben dem Mittelwert auch die Anzahl an Messwerten in Eurem Datensatz. "
   ]
  },
  {
   "cell_type": "code",
   "execution_count": 5,
   "metadata": {},
   "outputs": [
    {
     "name": "stdout",
     "output_type": "stream",
     "text": [
      "659.2857142857143 7\n"
     ]
    }
   ],
   "source": [
    "# [5]\n",
    "import statistics\n",
    "mean_GWT = statistics.mean(data_forest[:,3])\n",
    "n = len(data_forest)\n",
    "print(mean_GWT, n)"
   ]
  },
  {
   "cell_type": "markdown",
   "metadata": {},
   "source": [
    "### Hypothese 2: \"Brunnen in der Stadt haben eine niedrigere Sauerstoffsättigung als Brunnen im Hardtwald\" \n",
    "\n",
    "Auch diese Nullhypothese können wir mit einem t-Test überprüfen. Da es sich um den Vergleich von zwei Datensätzen handelt, benötigen wir eine Funktion für einen two-sample t-Test. Muss dieser hier ein- oder zwei-seitig sein? \n",
    "\n",
    "Für einen gültigen two-sample t-Test müssen beiden Datensätze normalverteilt sein, und zusätzlich die gleiche Varianz haben. Testet zuerst die Hypothesen ob die Sauerstoffsättigung im Wald, sowie in der Stadt normalverteilt sind. "
   ]
  },
  {
   "cell_type": "code",
   "execution_count": 6,
   "metadata": {},
   "outputs": [
    {
     "name": "stdout",
     "output_type": "stream",
     "text": [
      "0.9151561856269836\n",
      "0.1811668872833252\n"
     ]
    }
   ],
   "source": [
    "# [6]\n",
    "stat_f, p_f = shapiro(data_forest[:,1])\n",
    "print(p_f)\n",
    "stat_u, p_u = shapiro(data_urban[:,1])\n",
    "print(p_u)"
   ]
  },
  {
   "cell_type": "markdown",
   "metadata": {},
   "source": [
    "Zum Testen der Varianzen zweier Datensätze nimmt man häufig den F-Test. Dabei lautet die Null-Hypothese, dass die Varianzen gleich sind, und die alternative Hypothese, dass die Varianzen verschieden sind. \n",
    "\n",
    "Die Formel für die F-Statistik lautet: \n",
    "\n",
    "<img src=\"https://latex.codecogs.com/gif.latex?\\hat{F}&space;=&space;\\frac{s_{a}^{2}}{s_{b}^{2}}\" title=\"\\hat{F} = \\frac{s_{a}^{2}}{s_{b}^{2}}\" />\n",
    "\n",
    "wobei die Datensätze *a* und *b* so gewählt werden müssen, das gilt: s<sub>a</sub><sup>2</sup> > s<sub>b</sub><sup>2</sup>. \n",
    "\n",
    "Berechnet zuerst die Varianzen der beiden Sauerstoff-Datensätze. Stellt für die Berechnung der F-Statistik (\"F-Wert\") sicher, dass das Skript die Größe der Varianzen korrekt berücksichtigt. "
   ]
  },
  {
   "cell_type": "code",
   "execution_count": 7,
   "metadata": {},
   "outputs": [
    {
     "name": "stdout",
     "output_type": "stream",
     "text": [
      "128.99770114942518\n"
     ]
    }
   ],
   "source": [
    "# [7]\n",
    "import statistics\n",
    "var_urban = statistics.variance(data_urban[:,2])\n",
    "var_forest = statistics.variance(data_forest[:,2])\n",
    "if var_urban > var_forest:\n",
    "    sa = var_urban\n",
    "    sb = var_forest\n",
    "else:\n",
    "    sa = var_forest\n",
    "    sb = var_urban\n",
    "F = sa/sb\n",
    "print (F)"
   ]
  },
  {
   "cell_type": "markdown",
   "metadata": {},
   "source": [
    "Für das Testen der Hypothese wird dieser berechnete F-Wert nun mit dem kritischen F-Wert der Fisher-Verteilung verglichen, und der dazugehörige p-Wert berechnet. Dieser kann über `1 - scipy.stats.f.cdf()` berechnet werden. Die Funktion `scipy.stats.f.cdf()` benötigt als Inputs den F-Wert, und jeweils die Anzahl der Freiheitsgrade in beiden Datensätzen *a* und *b*. Da die Varianzen anhand der einzelnen Datenpunkte berechnet werden, entspricht die Anzahl an Freiheitsgraden jeweils `n-1`.\n",
    "\n",
    "Lasst Euch den p-Wert anzeigen und vergleicht ihn mit dem Signifikanzniveau von 0.01. Würdet Ihr die Nullhypothese (\"Beide Varianzen sind gleich\") annehmen?\n"
   ]
  },
  {
   "cell_type": "code",
   "execution_count": 8,
   "metadata": {},
   "outputs": [
    {
     "name": "stdout",
     "output_type": "stream",
     "text": [
      "1.1102230246251565e-16\n"
     ]
    }
   ],
   "source": [
    "# [8]\n",
    "import scipy\n",
    "dfn = data_forest[:,2].size-1\n",
    "dfd = data_urban[:,2].size-1\n",
    "p = 1-scipy.stats.f.cdf(F, dfn, dfd)\n",
    "print(p)"
   ]
  },
  {
   "cell_type": "markdown",
   "metadata": {},
   "source": [
    "Da nun beide Voraussetzungen für den t-Test überprüft sind, könnt Ihr diesen nun anwenden. Eine Option dazu ist die Funktion `scipy.stats.ttest_ind()`. Als Input werden hier die beiden Mittelwerte der Datensätze *a* und *b*  benötigt, wobei mean(*a*) > mean(*b*). Als Output liefert die Funktion den T-Wert und den p-Wert. \n",
    "\n",
    "Rechnet die beiden Mittelwerte aus, stellt sicher, dass die Größenverhältnisse stimmen, und lasst Euch den T-Wert und den p-Wert ausgeben. Achtung: da die Hypothese einen ein-seitigen t-Test verlangt, müsst Ihr den resultierenden p-Wert noch durch 2 teilen. Sollte man die Nullhypothese hier annehmen?"
   ]
  },
  {
   "cell_type": "code",
   "execution_count": 9,
   "metadata": {},
   "outputs": [
    {
     "name": "stdout",
     "output_type": "stream",
     "text": [
      "-5.34690250434321 2.8050214065297875e-06\n"
     ]
    }
   ],
   "source": [
    "# [9]\n",
    "mean_oxy_forest = data_forest[:,2].mean()\n",
    "mean_oxy_urban = data_urban[:,2].mean()\n",
    "\n",
    "t_value, p = stats.ttest_ind(data_forest[:,2],data_urban[:,2])\n",
    "\n",
    "p = p*0.5\n",
    "print (t_value, p)"
   ]
  },
  {
   "cell_type": "markdown",
   "metadata": {},
   "source": [
    "Ähnlich wie für den F-Test gibt es auch beim t-Test die Möglichkeit den kritischen T-Wert zu berechnen und darüber den p-Wert zu bestimmen. Die Funktion dazu lautet `scipy.stats.t.ppf()`, und benötigt als Input den Wert \"1-Signifikanzniveau/2\" sowie die Summe der Freiheitsgrade. "
   ]
  },
  {
   "cell_type": "code",
   "execution_count": 10,
   "metadata": {},
   "outputs": [
    {
     "name": "stdout",
     "output_type": "stream",
     "text": [
      "2.0301079282503425\n"
     ]
    }
   ],
   "source": [
    "# [10]\n",
    "df = dfn + dfd \n",
    "t_crit = scipy.stats.t.ppf(1-0.05/2, df)\n",
    "print(t_crit)"
   ]
  },
  {
   "cell_type": "markdown",
   "metadata": {},
   "source": [
    "Wenn der berechnete T-Wert größer als der kritische T-Wert ist, sollte die Nullhypothese abgelehnt werden. Stimmt das Ergebnis hier mit dem oben überein? "
   ]
  },
  {
   "cell_type": "markdown",
   "metadata": {},
   "source": [
    "### Was tun wenn keine Normalverteilung der Werte vorliegt?\n",
    "\n",
    "Viele reale Datensätze sind nicht normalverteilt. Das nicht-parametrische Äquivalent zum t-Test ist der Mann-Whitney U-Test. Die Nullhypothese zu diesem Test lautet, dass die beiden Datensätze die gleiche Verteilung haben. Die alternative Hypothese lautet, dass die Verteilungen nicht gleich sind. \n",
    "\n",
    "Die passende Funktion dafür ist `scipy.stats.mannwhitneyu()`, und benötigt als Input die beiden zu vergleichenden Datensätze. \n",
    "\n",
    "Identifiziert über eine `for-Schleife` in dem Datensatz nicht-normalverteilte Parameter, testet diese (`1. if-Bedingung`) auf eine gleiche Verteilung in Wald und Stadtbereich, und lasst euch diejenigen (`2. if-Bedingung`) anzeigen die eine gleiche Verteilung haben (also bei denen die Null-Hypothese angenommen werden kann, p-Wert > Signifikanzniveau). \n",
    "\n",
    "Tipp: Baut Euren Code Schritt für Schritt auf und testet zwischendurch immer wieder die Funktionalität. Erst die Schleife mit dem Shapiro-Test, dann die erste If-Bedingung, dann die zweite usw.  "
   ]
  },
  {
   "cell_type": "code",
   "execution_count": 11,
   "metadata": {},
   "outputs": [
    {
     "name": "stdout",
     "output_type": "stream",
     "text": [
      "5 44.0 0.01817155252427934\n",
      "7 101.5 0.9014913145646711\n",
      "8 116.0 0.6757058487030954\n",
      "9 61.5 0.07002732167396186\n",
      "11 136.0 0.2223315167433646\n",
      "12 142.5 0.15119907218973086\n",
      "13 126.0 0.4201182840484752\n"
     ]
    },
    {
     "name": "stderr",
     "output_type": "stream",
     "text": [
      "c:\\Anaconda3\\lib\\site-packages\\scipy\\stats\\morestats.py:1757: UserWarning: Input data for shapiro has range zero. The results may not be accurate.\n",
      "  warnings.warn(\"Input data for shapiro has range zero. The results \"\n"
     ]
    }
   ],
   "source": [
    "# [11]\n",
    "\n",
    "non_normal = []\n",
    "\n",
    "for item in range(0, data.shape[1]-1): \n",
    "    #print(data[0, item])\n",
    "    stat1, p1 = shapiro(data_forest[:,item])\n",
    "    stat2, p2 = shapiro(data_urban[:,item])\n",
    "\n",
    "    if p1 and p2 < 0.01:\n",
    "        non_normal += [item]\n",
    "        U_value, p_value = scipy.stats.mannwhitneyu(data_forest[:,item], data_urban[:,item])\n",
    "\n",
    "        if p_value > 0.01:\n",
    "            print (item, U_value, p_value)\n",
    "        "
   ]
  },
  {
   "cell_type": "markdown",
   "metadata": {},
   "source": [
    "Falls Ihr nun noch Zeit habt, könnt Ihr Euch zum Üben beispielsweise weitere Hypothesen zu anderen Parametern überlegen und die testen. \n",
    "\n",
    "## Ende"
   ]
  }
 ],
 "metadata": {
  "kernelspec": {
   "display_name": "Python 3.8.8 ('base')",
   "language": "python",
   "name": "python3"
  },
  "language_info": {
   "codemirror_mode": {
    "name": "ipython",
    "version": 3
   },
   "file_extension": ".py",
   "mimetype": "text/x-python",
   "name": "python",
   "nbconvert_exporter": "python",
   "pygments_lexer": "ipython3",
   "version": "3.8.8"
  },
  "vscode": {
   "interpreter": {
    "hash": "e4cce46d6be9934fbd27f9ca0432556941ea5bdf741d4f4d64c6cd7f8dfa8fba"
   }
  }
 },
 "nbformat": 4,
 "nbformat_minor": 4
}
