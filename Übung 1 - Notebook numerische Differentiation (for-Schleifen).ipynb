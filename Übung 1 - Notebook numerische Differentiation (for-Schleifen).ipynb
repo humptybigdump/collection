{
 "cells": [
  {
   "cell_type": "markdown",
   "metadata": {},
   "source": [
    "# Numerische Differentiation\n",
    "\n",
    "Die Ableitung einer Funktion \\\\(f:\\mathbb{R} \\rightarrow \\mathbb{R}\\\\) an einer Stelle \\\\(x_0\\\\) ist definiert über den Grenzwert\n",
    "\n",
    "\\\\[ f'(x_0) = \\lim_{h\\rightarrow0} \\frac{f(x_0+h) - f(x_0)}{h}. \\\\]\n",
    "\n",
    "Falls man weder über Ableitungsregeln noch über obigen Grenzwert die Ableitung analytisch berechnen kann, kann man die Ableitung numerisch approximieren, indem man den Differenzenquotient für einen festen (kleinen) Wert von \\\\(h\\\\) auswertet, anstatt den Grenzwert \\\\(h\\rightarrow0\\\\) zu bilden."
   ]
  },
  {
   "cell_type": "markdown",
   "metadata": {},
   "source": [
    "Wir wollend diese Approximation anhand der Funktion \\\\(f(x) = \\frac12 e^{x^2}\\\\) und der Stelle \\\\(x_0=1\\\\) testen. Diese Funktion kann man natürlich auch einfach von Hand ableiten als \\\\(f'(x) = xe^{x^2} \\\\), sodass wir für diese Funktion unsere Approximationen mit der exakten Ableitung vergleichen können.\n",
    "\n",
    "Zunächst verwenden wir den Wert \\\\(h=10^{-6}\\\\) und vergleichen die Approximation mit der exakten Ableitung \\\\(f'(1) = e\\\\)."
   ]
  },
  {
   "cell_type": "code",
   "execution_count": 1,
   "metadata": {},
   "outputs": [],
   "source": [
    "import numpy as np"
   ]
  },
  {
   "cell_type": "code",
   "execution_count": 13,
   "metadata": {},
   "outputs": [
    {
     "name": "stdout",
     "output_type": "stream",
     "text": [
      "Approximation: 2.7182859059227127\n",
      "Approximationsfehler: 4.077463667595538e-06\n"
     ]
    }
   ],
   "source": [
    "x_0 = 1\n",
    "h = 10**(-6)\n",
    "\n",
    "approx = 1/h*( 0.5*np.exp((x_0+h)**2) - 0.5*np.exp(x_0**2) )\n",
    "print('Approximation:', approx)\n",
    "print('Approximationsfehler:', abs(approx - x_0 * np.exp(x_0**2)) )"
   ]
  },
  {
   "cell_type": "markdown",
   "metadata": {},
   "source": [
    "Nun wollen wir beobachten, wie sich der Approximationsfehler für verschiedene Werte von \\\\(h\\\\) entwickelt. Dazu betrachten wir die Werte \\\\( h = 10^{-j}, j = 1,2,...,20 \\\\) und geben für jeden Wert von \\\\(h\\\\) den Approximationsfehler aus, verwenden also eine `for`-Schleife!"
   ]
  },
  {
   "cell_type": "code",
   "execution_count": 35,
   "metadata": {},
   "outputs": [
    {
     "name": "stdout",
     "output_type": "stream",
     "text": [
      "h =  0.1 --> Approximationsfehler: 0.45773229199085197\n",
      "h =  0.01 --> Approximationsfehler: 0.04123161394521491\n",
      "h =  0.001 --> Approximationsfehler: 0.004081957519520341\n",
      "h =  0.0001 --> Approximationsfehler: 0.000407787582335839\n",
      "h =  1e-05 --> Approximationsfehler: 4.0774708909729895e-05\n",
      "h =  1e-06 --> Approximationsfehler: 4.077463667595538e-06\n",
      "h =  1e-07 --> Approximationsfehler: 4.108411064684958e-07\n",
      "h =  1e-08 --> Approximationsfehler: 1.560170970194008e-08\n",
      "h =  1e-09 --> Approximationsfehler: 2.1544185369037905e-07\n",
      "h =  1e-10 --> Approximationsfehler: 1.5477094836846561e-06\n",
      "h =  1e-11 --> Approximationsfehler: 1.0429493680685908e-05\n",
      "h =  1e-12 --> Approximationsfehler: 0.00021026963811321409\n",
      "h =  1e-13 --> Approximationsfehler: 0.00045586417666187984\n",
      "h =  1e-14 --> Approximationsfehler: 0.012866812118839999\n",
      "h =  1e-15 --> Approximationsfehler: 0.3903426404913928\n",
      "h =  1e-16 --> Approximationsfehler: 2.718281828459045\n",
      "h =  1e-17 --> Approximationsfehler: 2.718281828459045\n",
      "h =  1e-18 --> Approximationsfehler: 2.718281828459045\n",
      "h =  1e-19 --> Approximationsfehler: 2.718281828459045\n",
      "h =  1e-20 --> Approximationsfehler: 2.718281828459045\n"
     ]
    }
   ],
   "source": [
    "x_0 = 1\n",
    "\n",
    "# oder: for j in [1,2,3,4,5,6,78,9,10,11,12,13,14,15,16,17,18,19,20]:\n",
    "for j in range(1,21):\n",
    "    h = 10**(-j)\n",
    "    approx = 1/h*( 0.5*np.exp((x_0+h)**2) - 0.5*np.exp(x_0**2) )\n",
    "    print('h = ',h,'--> Approximationsfehler:', abs( approx - x_0 * np.exp(x_0**2)) )"
   ]
  },
  {
   "cell_type": "markdown",
   "metadata": {},
   "source": [
    "Beobachtung: Der Approximationsfehler wird zunächst immer kleiner, geht bis auf die Größenordnung \\\\(10^{-8}\\\\) runter, steigt dann aber wieder und stagniert letztendlich bei \\\\( 2.718281828459045 \\approx e \\\\).\n",
    "\n",
    "Warum?"
   ]
  },
  {
   "cell_type": "code",
   "execution_count": null,
   "metadata": {},
   "outputs": [],
   "source": []
  }
 ],
 "metadata": {
  "kernelspec": {
   "display_name": "Python 3",
   "language": "python",
   "name": "python3"
  },
  "language_info": {
   "codemirror_mode": {
    "name": "ipython",
    "version": 3
   },
   "file_extension": ".py",
   "mimetype": "text/x-python",
   "name": "python",
   "nbconvert_exporter": "python",
   "pygments_lexer": "ipython3",
   "version": "3.8.3"
  }
 },
 "nbformat": 4,
 "nbformat_minor": 4
}
