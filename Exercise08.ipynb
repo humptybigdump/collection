{
 "cells": [
  {
   "cell_type": "code",
   "execution_count": null,
   "id": "373165c4-186b-4d25-b6d7-15605ddec5f3",
   "metadata": {},
   "outputs": [],
   "source": [
    "import numpy as np\n",
    "import matplotlib.pyplot as plt\n",
    "from scipy.stats import gaussian_kde\n",
    "import statsmodels.api as sm\n",
    "from statsmodels.graphics.tsaplots import plot_acf\n",
    "from scipy.stats import expon, norm, pareto"
   ]
  },
  {
   "cell_type": "markdown",
   "id": "d9a658cd-4005-44cf-adbe-1a257435b1cc",
   "metadata": {},
   "source": [
    "# Exercise 2: inversion method - generate Exp($\\lambda$)\n",
    "\n",
    "Cumulative Distribution Function (CDF): $F(x) = 1 - e^{-\\lambda x}$\n",
    "\n",
    "Quantile Function (solving for x): $F^{-1}(u) = \\frac{-1}{\\lambda} \\ln(1 - u)$"
   ]
  },
  {
   "cell_type": "code",
   "execution_count": null,
   "id": "f218b8ce-2ccc-4bc4-adc5-43c6d3776cc2",
   "metadata": {},
   "outputs": [],
   "source": [
    "# Parameters\n",
    "n = 100  # Number of samples\n",
    "lambda_ = 3  # Parameter of the exponential distribution\n",
    "\n",
    "# Simulate n random numbers from a U(0,1) distribution\n",
    "U = np.random.rand(n)\n",
    "\n",
    "# Transform U(0,1) random numbers using the quantile function of X\n",
    "X = -np.log(1 - U) / lambda_\n",
    "\n",
    "# Kernel density estimation\n",
    "kde = gaussian_kde(X, bw_method='scott')   # Scott's rule for bandwidth\n",
    "x_vals = np.linspace(0, max(X), 1000)  # Support range for the density\n",
    "y_vals = kde(x_vals)\n",
    "\n",
    "# Plot\n",
    "plt.figure(figsize=(8, 6))\n",
    "plt.hist(X, bins=20, density=True, alpha=0.7, edgecolor='black', label='Histogram')\n",
    "plt.plot(x_vals, y_vals, color='red', lw=2, label='Kernel Density Estimation')\n",
    "plt.title('Histogram and Kernel Density Estimation for X')\n",
    "plt.xlabel('x')\n",
    "plt.ylabel('Density')\n",
    "# plt.xlim(0, max(x_inv))\n",
    "# plt.ylim(0, max(y_vals) + 0.1)\n",
    "plt.legend()  \n",
    "plt.show()\n"
   ]
  },
  {
   "cell_type": "markdown",
   "id": "38412067-ad31-489a-bac9-d20ea4c65976",
   "metadata": {},
   "source": [
    "# Exercise 3: Rejection Sampling"
   ]
  },
  {
   "cell_type": "code",
   "execution_count": null,
   "id": "5063f329-3430-468c-89b8-a301ab843b7e",
   "metadata": {},
   "outputs": [],
   "source": [
    "# Define the function f(x1, x2, x3)\n",
    "def f(x1, x2, x3):\n",
    "    return (1 - np.cos(x1) * np.cos(x2) * np.cos(x3)) / (8 * np.pi**3)\n",
    "\n",
    "# Sample size\n",
    "sample_n = 10000"
   ]
  },
  {
   "cell_type": "markdown",
   "id": "df11c7b0-5f3d-4494-b584-e70101d41140",
   "metadata": {},
   "source": [
    "### part a):"
   ]
  },
  {
   "cell_type": "code",
   "execution_count": null,
   "id": "731f3d26-9b58-4409-873c-163d37a6c1c6",
   "metadata": {},
   "outputs": [],
   "source": [
    "# Parameters for rejection sampling\n",
    "k_a = 1/(2*np.pi**2)\n",
    "\n",
    "attempts = 0\n",
    "successes = 0\n",
    "X_sample = []\n",
    "\n",
    "# Loop-based rejection sampling\n",
    "while successes < sample_n:\n",
    "    attempts += 1\n",
    "    V = np.random.uniform(0, 2 * np.pi)  # Proposal from G=U(0, 2pi)\n",
    "    if np.random.uniform(0, 1) < 2*np.pi*f(V,0,0) / k_a:\n",
    "        X_sample.append(V)\n",
    "        successes += 1\n",
    "\n",
    "# Summary\n",
    "print(f\"For a sample size of n={successes}, {attempts} attempts were necessary.\")\n",
    "print(f\"Acceptance ratio: {successes / attempts:.4f}\")"
   ]
  },
  {
   "cell_type": "code",
   "execution_count": null,
   "id": "b39ba49d-0919-4b47-8f1a-f2591363e5b1",
   "metadata": {},
   "outputs": [],
   "source": [
    "# Efficient matrix-based rejection sampling\n",
    "V_sample_matrix = np.random.uniform(0, 2 * np.pi, int(sample_n * 2.1))\n",
    "U = np.random.uniform(0, 1, int(sample_n * 2.1))\n",
    "mask = 2*np.pi*f(V_sample_matrix, 0, 0) / k_a >= U\n",
    "X_sample_matrix = V_sample_matrix[mask][:sample_n]"
   ]
  },
  {
   "cell_type": "code",
   "execution_count": null,
   "id": "355cad3e-14c3-4827-bcc5-53d6ddb80b16",
   "metadata": {},
   "outputs": [],
   "source": [
    "# Kernel density estimation\n",
    "plt.figure(figsize=(10, 6))\n",
    "kde_loop = gaussian_kde(X_sample)\n",
    "x_vals = np.linspace(0, max(X_sample), 1000)  \n",
    "y_vals = kde_loop(x_vals)\n",
    "plt.plot(x_vals, y_vals, lw=2, label=\"Loop-based\")\n",
    "\n",
    "kde_matrix = gaussian_kde(X_sample_matrix)\n",
    "x_vals = np.linspace(0, max(X_sample), 1000) \n",
    "y_vals = kde_matrix(x_vals)\n",
    "plt.plot(x_vals, y_vals, color='red', lw=2, label=\"Matrix-based\")\n",
    "\n",
    "plt.title(\"Kernel Density Estimation (Part a)\")\n",
    "plt.xlabel(\"x\")\n",
    "plt.ylabel(\"Density\")\n",
    "plt.legend()\n",
    "plt.show()"
   ]
  },
  {
   "cell_type": "markdown",
   "id": "2c303643-22fd-4c10-8756-5ffcee1697c1",
   "metadata": {},
   "source": [
    "### Part b):"
   ]
  },
  {
   "cell_type": "code",
   "execution_count": null,
   "id": "c0d427d7-f92c-4fb0-880e-5b13c8c54c9c",
   "metadata": {},
   "outputs": [],
   "source": [
    "k_b = 1/np.pi\n",
    "V_sample_2d = np.random.uniform(0, 2 * np.pi, (int(sample_n * 5), 2))\n",
    "U = np.random.uniform(0, 1, int(sample_n * 5))\n",
    "mask = 4 * np.pi**2 * f(V_sample_2d[:, 0], V_sample_2d[:, 1], 0) / k_b >= U\n",
    "X_sample_2d = V_sample_2d[mask][:sample_n]"
   ]
  },
  {
   "cell_type": "code",
   "execution_count": null,
   "id": "a7292a23-3510-4c7c-8e7e-13946650fa2c",
   "metadata": {},
   "outputs": [],
   "source": [
    "# Scatter plot for 2D samples\n",
    "plt.figure(figsize=(6, 6))\n",
    "plt.scatter(X_sample_2d[:, 0], X_sample_2d[:, 1], alpha=0.5, s=10, marker='.')\n",
    "plt.title(\"Scatterplot of Samples (Part b)\")\n",
    "plt.xlabel(\"x1\")\n",
    "plt.ylabel(\"x2\")\n",
    "plt.xlim([0, 2 * np.pi])\n",
    "plt.ylim([0, 2 * np.pi])\n",
    "plt.gca().set_aspect('equal', adjustable='box')\n",
    "plt.show()"
   ]
  },
  {
   "cell_type": "code",
   "execution_count": null,
   "id": "c726bccd-a49d-4eb3-a474-fcf89ab96ef2",
   "metadata": {},
   "outputs": [],
   "source": []
  },
  {
   "cell_type": "markdown",
   "id": "2e41a9e8-34fa-4d41-aaa3-d4c1dce34dbf",
   "metadata": {},
   "source": [
    "# Exercise 4: Gibbs Sampling\n",
    "\n",
    "### part b):"
   ]
  },
  {
   "cell_type": "code",
   "execution_count": null,
   "id": "1a7cad46-1a68-4dea-9947-e1a236a03fa1",
   "metadata": {},
   "outputs": [],
   "source": [
    "# Define functions for conditional distributions\n",
    "mu = 0\n",
    "s = 1\n",
    "corr = 0.7\n",
    "\n",
    "# generate samples from the conditional normal distributions\n",
    "def f2_given_1(x_1):\n",
    "    mean = mu + corr * (x_1 - mu)\n",
    "    std_dev = np.sqrt(s**2 * (1 - corr**2))\n",
    "    return np.random.normal(mean, std_dev)\n",
    "\n",
    "def f1_given_2(x_2):\n",
    "    mean = mu + corr * (x_2 - mu)\n",
    "    std_dev = np.sqrt(s**2 * (1 - corr**2))\n",
    "    return np.random.normal(mean, std_dev)\n",
    "\n",
    "# Generate Markov chain\n",
    "length = 1100\n",
    "chain = np.zeros((length, 2)) # use to store the generated samples\n",
    "\n",
    "# Initialize the chain with outliers to simulate a longer burn-in period\n",
    "chain[0, :] = [10, 10]\n",
    "\n",
    "for i in range(1, length):\n",
    "    chain[i, 0] = f1_given_2(chain[i - 1, 1])  # Update X1 based on the previous X2\n",
    "    chain[i, 1] = f2_given_1(chain[i, 0])     # Update X2 based on the current X1"
   ]
  },
  {
   "cell_type": "markdown",
   "id": "b0614711-5aa0-4199-8812-5d08ad3b9282",
   "metadata": {},
   "source": [
    "### part c): Plotting\n",
    "\n",
    "i) Sequential plot of the two coordinates"
   ]
  },
  {
   "cell_type": "code",
   "execution_count": null,
   "id": "fa0b4abe-9c85-4677-9da0-8a805142e0c8",
   "metadata": {},
   "outputs": [],
   "source": [
    "plt.figure(figsize=(10, 6))\n",
    "\n",
    "# First coordinate\n",
    "plt.subplot(2, 1, 1)\n",
    "plt.plot(chain[:, 0], '.-')\n",
    "plt.title('First Coordinate')\n",
    "plt.xlabel('Iteration')\n",
    "plt.ylabel('Realization')\n",
    "\n",
    "# Second coordinate\n",
    "plt.subplot(2, 1, 2)\n",
    "plt.plot(chain[:, 1], '.-')\n",
    "plt.title('Second Coordinate')\n",
    "plt.xlabel('Iteration')\n",
    "plt.ylabel('Realization')\n",
    "\n",
    "plt.tight_layout()\n",
    "plt.show()"
   ]
  },
  {
   "cell_type": "markdown",
   "id": "c7ab6d38-f3ff-43f4-b359-1ae636733e33",
   "metadata": {},
   "source": [
    "ii) Remove the burn-in phase by discarding the first 50 samples of the chain, compare the distribution of x1 and x2 to standard normal distribution using histograms, Q-Q plots, or kernel density estimates"
   ]
  },
  {
   "cell_type": "code",
   "execution_count": null,
   "id": "942ee3e6-3a74-4495-a1ea-774cfb53d718",
   "metadata": {},
   "outputs": [],
   "source": [
    "# Remove burn-in phase\n",
    "chain = chain[100:, :]\n",
    "\n",
    "# histogram and kernel density estimates\n",
    "fig_density, axes = plt.subplots(1, 2, figsize=(12, 4))\n",
    "for i in range(2):\n",
    "    ith_data = chain[:, i]\n",
    "    \n",
    "    axes[i].hist(ith_data, bins=20, density=True, alpha=0.7, edgecolor='black', label='Histogram')\n",
    "    \n",
    "    # Kernel density estimation\n",
    "    kde = gaussian_kde(ith_data, bw_method='scott')   # Scott's rule for bandwidth\n",
    "    # x_vals = np.linspace(min(ith_data), max(ith_data), 1000)  # Support range for the density\n",
    "    x_vals = np.linspace(-4, 4, 1000)\n",
    "    y_vals = kde(x_vals)\n",
    "    axes[i].plot(x_vals, y_vals, color='orange', lw=2, label='Kernel Density Estimation')\n",
    "\n",
    "    # standard normal density\n",
    "    x_vals = np.linspace(-4, 4, 1000)\n",
    "    gaussian_density = norm.pdf(x_vals, loc=0, scale=1)\n",
    "    axes[i].plot(x_vals, gaussian_density,  linestyle='--', color='red', label='N(0, 1)')\n",
    "    \n",
    "    axes[i].set_title(f'Histogram and Kernel Density Estimation for $X_{i + 1}$')\n",
    "    axes[i].set_xlabel('x')\n",
    "    axes[i].set_ylabel('Density')\n",
    "    axes[i].set_xlim(-4, 4)\n",
    "    axes[i].legend(loc='upper right', fontsize='small')\n",
    "plt.tight_layout()\n",
    "plt.show()"
   ]
  },
  {
   "cell_type": "code",
   "execution_count": null,
   "id": "ec575277-e2fb-4e1d-b18f-69c8f14b4562",
   "metadata": {},
   "outputs": [],
   "source": [
    "# Q-Q plot\n",
    "fig_density, axes = plt.subplots(1, 2, figsize=(10, 4))\n",
    "for i in range(2):\n",
    "    ith_data = chain[:, i]\n",
    "    sm.qqplot(ith_data, line='45', ax=axes[i])\n",
    "    axes[i].set_title(f'Q-Q plot for $X_{i + 1}$')\n",
    "    \n",
    "plt.tight_layout()\n",
    "plt.show()"
   ]
  },
  {
   "cell_type": "markdown",
   "id": "eb1b0c6e-46d4-4f68-bd54-1a4d3938b132",
   "metadata": {},
   "source": [
    "iii) Autocorrelation function"
   ]
  },
  {
   "cell_type": "code",
   "execution_count": null,
   "id": "bc56720d-2c3c-4af3-a9e4-5a4a0d788e9c",
   "metadata": {},
   "outputs": [],
   "source": [
    "fig_acf, axes_acf = plt.subplots(2, 1, figsize=(8, 6))\n",
    "for i in range(2):\n",
    "    plot_acf(chain[:, i], lags=60, ax=axes_acf[i])\n",
    "    axes_acf[i].set_title(f'Autocorrelation Function of Coordinate {i + 1}')\n",
    "\n",
    "plt.tight_layout()\n",
    "plt.show()"
   ]
  },
  {
   "cell_type": "markdown",
   "id": "f8a74b69-ac63-415f-bd8d-71b2b3acc9ba",
   "metadata": {},
   "source": [
    "### part d) Compute covariance matrix"
   ]
  },
  {
   "cell_type": "code",
   "execution_count": null,
   "id": "a5f0dcbd-2f77-4eb5-bdbe-8e94b1416a57",
   "metadata": {},
   "outputs": [],
   "source": [
    "cov_matrix = np.cov(chain, rowvar=False)\n",
    "print(\"Covariance Matrix:\")\n",
    "print(cov_matrix)"
   ]
  },
  {
   "cell_type": "code",
   "execution_count": null,
   "id": "bbc210b2-c060-4f63-88f0-92bcf8aeba79",
   "metadata": {},
   "outputs": [],
   "source": []
  },
  {
   "cell_type": "markdown",
   "id": "9724dfad-5a77-47f1-8ccc-bc0385080931",
   "metadata": {},
   "source": [
    "# Exercise 5: Metropolis-Hastings algorithm"
   ]
  },
  {
   "cell_type": "code",
   "execution_count": null,
   "id": "39108568-15f5-44cf-a6b1-f324fdfa71ad",
   "metadata": {},
   "outputs": [],
   "source": [
    "# Transition density (here Gaussian)\n",
    "sigma = 1\n",
    "def draw_transition(x_prev): # g(x|x_i-1)\n",
    "    return norm.rvs(loc=x_prev, scale=sigma)\n",
    "\n",
    "# Target \"density\" (only proportional to a density)\n",
    "def target_density(x):\n",
    "    return (x > 2) * expon.pdf(x, scale=1)\n",
    "\n",
    "# Number of samples to generate (including burn-in phase)\n",
    "length = 21000\n",
    "chain = np.zeros(length) # used to store the generated samples\n",
    "\n",
    "# Initialize with an arbitrary value\n",
    "chain[0] = 50\n",
    "\n",
    "acceptance = np.zeros(length)  # Counter for accepted samples\n",
    "\n",
    "for index in range(1, length):\n",
    "    proposal = draw_transition(chain[index - 1])\n",
    "    # Symmetric kernel: consider only the ratio p(proposal) / p(current)\n",
    "    if np.random.rand() < target_density(proposal) / target_density(chain[index - 1]):\n",
    "        chain[index] = proposal  # Accept proposal\n",
    "        acceptance[index] = 1\n",
    "    else:\n",
    "        chain[index] = chain[index - 1]  # Retain the previous value"
   ]
  },
  {
   "cell_type": "markdown",
   "id": "e4dab9da-abe1-4cb5-80a9-b74323835899",
   "metadata": {},
   "source": [
    "### part i): Identify a burn-in period graphically"
   ]
  },
  {
   "cell_type": "code",
   "execution_count": null,
   "id": "0182ef9f-fbfd-49df-910c-9c87353cbf4f",
   "metadata": {},
   "outputs": [],
   "source": [
    "plt.figure(figsize=(10,6))\n",
    "plt.plot(chain, '.-')\n",
    "plt.title('Generated Realizations')\n",
    "plt.xlabel('Iteration')\n",
    "plt.ylabel('Realization')"
   ]
  },
  {
   "cell_type": "code",
   "execution_count": null,
   "id": "9f21d176-c9ec-4164-a8e1-e364ada9d7e8",
   "metadata": {},
   "outputs": [],
   "source": [
    "burn_in = 1000\n",
    "acceptance_ratio = np.sum(acceptance[burn_in:]) / (length - burn_in)\n",
    "print(f\"Acceptance Ratio: {acceptance_ratio}\")\n",
    "\n",
    "# Remove burn-in phase\n",
    "chain = chain[burn_in:]"
   ]
  },
  {
   "cell_type": "markdown",
   "id": "30d720e9-981a-43db-9464-01e97a39e526",
   "metadata": {},
   "source": [
    "### part ii): plot the autocorrelation of the samples:"
   ]
  },
  {
   "cell_type": "code",
   "execution_count": null,
   "id": "94f0ff4c-eb0e-4dea-ad71-a76647b1fd1c",
   "metadata": {},
   "outputs": [],
   "source": [
    "plt.figure(figsize = (18,6))\n",
    "plot_acf(chain, lags=150)\n",
    "plt.title('Autocorrelation Function')"
   ]
  },
  {
   "cell_type": "markdown",
   "id": "c9b9c875-cdd2-46f7-85c7-91f8c177de84",
   "metadata": {},
   "source": [
    "### iii) Kernel density estimation"
   ]
  },
  {
   "cell_type": "code",
   "execution_count": null,
   "id": "8f452481-74d8-4609-8e78-5412c2cfb036",
   "metadata": {},
   "outputs": [],
   "source": [
    "plt.figure()\n",
    "\n",
    "# Kernel density estimate of the chain\n",
    "density = gaussian_kde(chain)\n",
    "x_vals = np.linspace(0, 6, 1000)\n",
    "y_vals = density(x_vals)\n",
    "\n",
    "plt.plot(x_vals, y_vals, label='Kernel Density')\n",
    "plt.xlim(0, 6)\n",
    "\n",
    "# Theoretical density\n",
    "constant = 1 - expon.cdf(2, scale=1)\n",
    "theoretical_density = target_density(x_vals) / constant\n",
    "plt.plot(x_vals, theoretical_density, 'k--', label='True')\n",
    "\n",
    "plt.title('Kernel Density Estimation')\n",
    "plt.legend(loc='upper right')\n",
    "plt.show()"
   ]
  },
  {
   "cell_type": "code",
   "execution_count": null,
   "id": "3afc89c1-a841-4f09-8035-03909096ab3c",
   "metadata": {},
   "outputs": [],
   "source": []
  }
 ],
 "metadata": {
  "kernelspec": {
   "display_name": "Python 3 (ipykernel)",
   "language": "python",
   "name": "python3"
  },
  "language_info": {
   "codemirror_mode": {
    "name": "ipython",
    "version": 3
   },
   "file_extension": ".py",
   "mimetype": "text/x-python",
   "name": "python",
   "nbconvert_exporter": "python",
   "pygments_lexer": "ipython3",
   "version": "3.11.8"
  }
 },
 "nbformat": 4,
 "nbformat_minor": 5
}
