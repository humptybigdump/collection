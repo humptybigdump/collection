{
 "cells": [
  {
   "cell_type": "markdown",
   "metadata": {},
   "source": [
    "# Linear Kalman Filter"
   ]
  },
  {
   "cell_type": "markdown",
   "metadata": {},
   "source": [
    "# Literature and/or Audio"
   ]
  },
  {
   "cell_type": "markdown",
   "metadata": {},
   "source": [
    "https://www.youtube.com/playlist?list=PLyQSjcv8LwAGvIw2KNX6IelIIJ5SQDYZZ"
   ]
  },
  {
   "cell_type": "markdown",
   "metadata": {},
   "source": [
    "# A. Historical Context"
   ]
  },
  {
   "cell_type": "markdown",
   "metadata": {},
   "source": [
    "\n",
    "**How to infer from an incoming message the original outgoing message**\n"
   ]
  },
  {
   "cell_type": "markdown",
   "metadata": {},
   "source": [
    "\n",
    "**Apollo moon landing mission on July 20th, 1969**\n"
   ]
  },
  {
   "cell_type": "markdown",
   "metadata": {},
   "source": [
    "**MU: Alternatively: how to infer from an incoming Probability Density Function the Original Outgoing Probability Density Function**"
   ]
  },
  {
   "cell_type": "markdown",
   "metadata": {},
   "source": [
    "# B. Simplest Finance Example"
   ]
  },
  {
   "cell_type": "markdown",
   "metadata": {},
   "source": [
    "Return model coincides with  \n",
    "$$\n",
    "\\\\\n",
    "$$\n",
    "\n",
    "$\\forall t\\in\\{1,...,T\\}$\n",
    "\\begin{align*}\n",
    "\\tilde{r}_{M,t} &= \\theta_0 + \\epsilon_t; \\quad \\theta_0 \\in \\mathcal{R}^+; \\; \\epsilon_t \\sim N(0,\\sigma^2)\n",
    "\\end{align*}"
   ]
  },
  {
   "cell_type": "markdown",
   "metadata": {},
   "source": [
    "**Goal of KF:**\n",
    "    \n",
    "- Learn $\\theta_0$ based on observing $\\tilde{r}_{M,t}$"
   ]
  },
  {
   "cell_type": "markdown",
   "metadata": {},
   "source": [
    "## B.1 Case 1: $\\sigma^2 = 0$"
   ]
  },
  {
   "cell_type": "markdown",
   "metadata": {},
   "source": [
    "\n",
    "**One measurement of $\\tilde{r}_{M,t}$ suffices to perfectly infer $\\theta_0$**"
   ]
  },
  {
   "cell_type": "markdown",
   "metadata": {},
   "source": [
    "## B.2 Case 2: $\\sigma^2 > 0$"
   ]
  },
  {
   "cell_type": "markdown",
   "metadata": {},
   "source": [
    "\n",
    "**Inifinite number of $\\tilde{r}_{M,t}$ measurements necessary to perfectly infer $\\theta_0$**\n"
   ]
  },
  {
   "cell_type": "markdown",
   "metadata": {},
   "source": [
    "Law of Large Numbers: \n",
    "$$\n",
    "\\\\\n",
    "$$\n",
    "\n",
    "\\begin{align*}  \n",
    "& \\lim_{T \\rightarrow \\infty} \\; \\frac{1}{T} \\, \\sum_{t=1}^T \\, \\tilde{r}_{M,t}  \\, = \\, \\theta_0.\n",
    "\\end{align*}"
   ]
  },
  {
   "cell_type": "markdown",
   "metadata": {},
   "source": [
    "Finite $T$:\n",
    "    \n",
    "$$\n",
    "\\\\\n",
    "$$\n",
    "\n",
    "$$\n",
    "\\hat{\\theta}_0 \\equiv  \\frac{1}{T} \\, \\sum_{t=1}^T \\, \\tilde{r}_{M,t} \\sim N(\\theta_0, \\frac{\\sigma^2}{T}).\n",
    "$$"
   ]
  },
  {
   "cell_type": "markdown",
   "metadata": {},
   "source": [
    "**Observation:**\n",
    "\n",
    "$$\n",
    "\\\\\n",
    "$$\n",
    "- MLE and OLS solution for $\\theta_0$ coincides with KF solution\n",
    "\n",
    "$$\n",
    "\\\\\n",
    "$$\n",
    "- Ergo, KF solution is MVLUE (Minimum Variance Linear Unbiased Estimator)"
   ]
  },
  {
   "cell_type": "markdown",
   "metadata": {},
   "source": [
    "# C. Second Simplest Finance Example"
   ]
  },
  {
   "cell_type": "markdown",
   "metadata": {},
   "source": [
    "\\begin{align*}\n",
    "&\\text{Measurement}: \\quad \\tilde{r}_{t} := \\tilde{\\mu}_{t} +  \\epsilon_{t}, \\; \\epsilon_{t} \\sim N(0,\\sigma^2), \\quad t \\in \\{1,..,T\\} \\\\\\\\\n",
    "&\\text{Hidden State:} \\quad \\tilde{\\mu}_{t} := \\tilde{\\mu}_{t-1} + \\epsilon_{\\mu,t}, \\; \\epsilon_{\\mu,t} \\sim N(0,\\sigma^2_{\\mu}), \\quad t\\in \\{1,...,T\\}. \n",
    "\\end{align*}"
   ]
  },
  {
   "cell_type": "markdown",
   "metadata": {},
   "source": [
    "**Investor knows (!) $\\{ \\{\\tilde{r}_t\\}_t, \\sigma^2, \\sigma^2_{\\mu},  \\}$**"
   ]
  },
  {
   "cell_type": "markdown",
   "metadata": {},
   "source": [
    "**Investor does not know $\\{ \\tilde{\\mu}_t, \\epsilon_t, \\epsilon_{\\mu,t} \\}_t$**"
   ]
  },
  {
   "cell_type": "markdown",
   "metadata": {},
   "source": [
    "## C.1 Numerical Example with simple Numbers"
   ]
  },
  {
   "cell_type": "markdown",
   "metadata": {},
   "source": [
    "... is provided in the YT videos"
   ]
  },
  {
   "cell_type": "markdown",
   "metadata": {},
   "source": [
    "... some insights: for $\\sigma=0.2$ and $\\sigma_{\\mu}=0.02$"
   ]
  },
  {
   "cell_type": "markdown",
   "metadata": {},
   "source": [
    "If \n",
    "\n",
    "$$\n",
    "\\mu_{1}|\\mathcal{F}_0 \\; \\sim \\; N(5\\%, \\, e^{12}).\n",
    "$$ "
   ]
  },
  {
   "cell_type": "markdown",
   "metadata": {},
   "source": [
    "And, \n",
    "\n",
    "$$\n",
    "\\tilde{r}_1  = 20\\%.\n",
    "$$"
   ]
  },
  {
   "cell_type": "markdown",
   "metadata": {},
   "source": [
    "Then, \n",
    "\n",
    "$$\n",
    " \\tilde{\\mu}_1|\\mathcal{F}_1  \\sim N(20\\%, 0.04)\n",
    "$$"
   ]
  },
  {
   "cell_type": "markdown",
   "metadata": {},
   "source": [
    "And,\n",
    "\n",
    "$$\n",
    " \\tilde{\\mu}_2|\\mathcal{F}_1  \\sim N(20\\%, 0.0404)\n",
    "$$"
   ]
  },
  {
   "cell_type": "markdown",
   "metadata": {},
   "source": [
    "# D. Proof of MVLUE: Examplified for Local Level Model"
   ]
  },
  {
   "cell_type": "markdown",
   "metadata": {},
   "source": [
    "$$\n",
    "ME: \\quad y_t := \\alpha_t + \\epsilon_t, \\quad \\epsilon_t \\sim iid(0,\\sigma^2)\n",
    "$$"
   ]
  },
  {
   "cell_type": "markdown",
   "metadata": {},
   "source": [
    "$$\n",
    "SE: \\quad   \\alpha_{t+1} :=\\alpha_t + \\eta_{+1}, \\quad \\eta_{t+1} \\sim iid(0,\\sigma^2_{\\eta}).\n",
    "$$ "
   ]
  },
  {
   "cell_type": "markdown",
   "metadata": {},
   "source": [
    "**The Kalman Filter solution for the most likely value of the realized, yet unobserved, value of the state variable is MVLUE, meaning it is the most precise estimate among any other linear unbiased estimators.**"
   ]
  },
  {
   "cell_type": "markdown",
   "metadata": {},
   "source": [
    "## D.1 Sketch Notes"
   ]
  },
  {
   "cell_type": "markdown",
   "metadata": {},
   "source": [
    "A linear $\\mathcal{F}_t$ estimator for $\\alpha_t$ is:\n",
    "    \n",
    "\\begin{align} \\label{lin}\n",
    "\\bar{\\alpha}_t := \\beta + \\gamma \\, \\times \\, y_t, \\quad [\\beta, \\gamma] \\in \\ \\mathcal{F}_{t-1}.\n",
    "\\end{align}"
   ]
  },
  {
   "cell_type": "markdown",
   "metadata": {},
   "source": [
    "We want  $\\bar{\\alpha}_t$ to be unbiased, hence\n",
    "\n",
    "$$\n",
    "E\\left[ \\bar{\\alpha}_t - \\alpha_t | Y_{t-1}\\right] \\overbrace{=}^{!} 0\n",
    "$$"
   ]
  },
  {
   "cell_type": "markdown",
   "metadata": {},
   "source": [
    "which identifies the first parameter\n",
    "\n",
    "$$\n",
    "\\beta \\overbrace{=}^{!} (1-\\gamma) \\times E[\\alpha_t|Y_{t-1}].\n",
    "$$\n",
    "\n"
   ]
  },
  {
   "cell_type": "markdown",
   "metadata": {},
   "source": [
    "Ergo, KF mean estimate is a linear combination of the prior mean and the most current observation (!), i.e.\n",
    "\n",
    "$$\n",
    "\\bar{\\alpha}_t := (1-\\gamma) \\times E[\\alpha_t|Y_{t-1}] + \\gamma \\, \\times \\, y_t.\n",
    "$$"
   ]
  },
  {
   "cell_type": "markdown",
   "metadata": {},
   "source": [
    "Next, write down the parametric expression for \n",
    "\n",
    "$$\n",
    "Var\\left( \\bar{\\alpha}_t - \\alpha_t |Y_{t-1}\\right)\n",
    "$$\n",
    "\n",
    "and find $\\gamma$ such that this variance expression is minimal."
   ]
  },
  {
   "cell_type": "markdown",
   "metadata": {},
   "source": [
    "Ergo, \n",
    "\n",
    "\\begin{equation*}\n",
    "\\gamma \\overbrace{=}^{!} \\frac{Var(\\alpha_t|Y_{t-1})}{Var(\\alpha_t|Y_{t-1}) + \\sigma^2} \\equiv  K\n",
    "\\end{equation*}"
   ]
  },
  {
   "cell_type": "markdown",
   "metadata": {},
   "source": [
    "which coincides with **Kalman's Optimal Learning Rate $K$ (i.e. Signal-to-Noise-Ratio)**"
   ]
  },
  {
   "cell_type": "markdown",
   "metadata": {},
   "source": [
    "Hence, an MVLUE estimator of an unobserved state variable is (i.e. mean of the posterior density of $\\alpha$)\n",
    "\n",
    "$$\n",
    "\\\\\n",
    "$$\n",
    " \n",
    "$$\n",
    "\\bar{\\alpha}_t = (1-K_t) \\times E[\\alpha_t|Y_{t-1}] + K_t \\, \\times \\, y_t; \\quad \\text{with} \\; K_t \\in [0,1].\n",
    "$$\n",
    " "
   ]
  },
  {
   "cell_type": "code",
   "execution_count": null,
   "metadata": {},
   "outputs": [],
   "source": [
    " "
   ]
  }
 ],
 "metadata": {
  "kernelspec": {
   "display_name": "Python 3",
   "language": "python",
   "name": "python3"
  },
  "language_info": {
   "codemirror_mode": {
    "name": "ipython",
    "version": 3
   },
   "file_extension": ".py",
   "mimetype": "text/x-python",
   "name": "python",
   "nbconvert_exporter": "python",
   "pygments_lexer": "ipython3",
   "version": "3.7.6"
  }
 },
 "nbformat": 4,
 "nbformat_minor": 4
}
