{
 "cells": [
  {
   "cell_type": "code",
   "execution_count": 1,
   "id": "10251b06",
   "metadata": {},
   "outputs": [
    {
     "name": "stdout",
     "output_type": "stream",
     "text": [
      "Accuracy: 0.9723829072588169\n"
     ]
    }
   ],
   "source": [
    "from gbd_tool.gbd_api import GBD\n",
    "import pandas as pd\n",
    "import numpy as np\n",
    "from sklearn import ensemble\n",
    "from sklearn.model_selection import train_test_split\n",
    "from sklearn.metrics import accuracy_score\n",
    "\n",
    "dir = \"/home/iser/git/gbd-data/\"\n",
    "dbs = [\"meta.db\", \"base.db\"]\n",
    "with GBD([dir + db for db in dbs]) as gbd:\n",
    "    features = gbd.get_features(dbname=\"base_db\") + [\"family\"]\n",
    "    df = gbd.query_search2(\"family != unknown\", resolve=features)\n",
    "    df.drop([\"hash\"], axis=1, inplace=True)\n",
    "    y = df.pop(\"family\").astype(\"category\").cat.codes.to_numpy()\n",
    "    x = np.nan_to_num(df.to_numpy().astype(np.float32))\n",
    "    xtrain, xtest, ytrain, ytest = train_test_split(x, y, test_size=0.2)\n",
    "    model = ensemble.RandomForestClassifier()\n",
    "    model.fit(xtrain, ytrain)\n",
    "    acc = accuracy_score(ytest, model.predict(xtest))\n",
    "    print(\"Accuracy: {}\".format(acc))\n",
    "    "
   ]
  },
  {
   "cell_type": "code",
   "execution_count": 14,
   "id": "93ce8125",
   "metadata": {},
   "outputs": [
    {
     "name": "stdout",
     "output_type": "stream",
     "text": [
      "Accuracy: 0.775\n"
     ]
    }
   ],
   "source": [
    "from gbd_tool.gbd_api import GBD\n",
    "import pandas as pd\n",
    "import numpy as np\n",
    "from sklearn import ensemble\n",
    "from sklearn.model_selection import train_test_split\n",
    "from sklearn.metrics import accuracy_score\n",
    "\n",
    "dir = \"/home/iser/git/gbd-data/\"\n",
    "dbs = [\"meta.db\", \"base.db\", \"gate.db\", \"sc2020.db\"]\n",
    "with GBD([dir + db for db in dbs]) as gbd:\n",
    "    solvers = [\"kissat_unsat\", \"relaxed_newtech\"]\n",
    "    features = gbd.get_features(dbname=\"base_db\") + gbd.get_features(dbname=\"gate_db\")\n",
    "    df = gbd.query_search2(\"track = main_2020\", resolve=features+solvers, replace=[(\"timeout\", np.inf), (\"memout\", np.inf), (\"empty\", np.nan), (\"failed\", np.inf)]).copy()\n",
    "    # create solver column\n",
    "    df[\"solver\"] = \"empty\"\n",
    "    for s in solvers:\n",
    "        for idx, row in df.iterrows():\n",
    "            if float(row[s]) == min(row[solvers].astype(float)):\n",
    "                row[\"solver\"] = s\n",
    "    df.drop(solvers, axis=1, inplace=True)\n",
    "    df.drop([\"hash\"], axis=1, inplace=True)\n",
    "    \n",
    "    y = df.pop(\"solver\").astype(\"category\").cat.codes.to_numpy()\n",
    "    x = np.nan_to_num(df.to_numpy().astype(np.float32), nan=-1)\n",
    "    xtrain, xtest, ytrain, ytest = train_test_split(x, y, test_size=0.2)\n",
    "    model = ensemble.RandomForestClassifier()\n",
    "    model.fit(xtrain, ytrain)\n",
    "    acc = accuracy_score(ytest, model.predict(xtest))\n",
    "    print(\"Accuracy: {}\".format(acc))\n",
    "    \n",
    "        "
   ]
  },
  {
   "cell_type": "code",
   "execution_count": 3,
   "id": "6de2ad03",
   "metadata": {},
   "outputs": [
    {
     "name": "stdout",
     "output_type": "stream",
     "text": [
      "Accuracy: 0.9099462365591398\n"
     ]
    }
   ],
   "source": [
    "from gbd_tool.gbd_api import GBD\n",
    "import pandas as pd\n",
    "import numpy as np\n",
    "from sklearn import ensemble\n",
    "from sklearn.model_selection import train_test_split\n",
    "from sklearn.metrics import accuracy_score\n",
    "\n",
    "dir = \"/home/iser/git/gbd-data/\"\n",
    "dbs = [\"meta.db\", \"base.db\", \"gate.db\"]\n",
    "with GBD([dir + db for db in dbs]) as gbd:\n",
    "    features = gbd.get_features(dbname=\"base_db\") + gbd.get_features(dbname=\"gate_db\") + [\"result\"]\n",
    "    df = gbd.query_search2(\"result != unknown\", resolve=features, replace=[(\"timeout\", np.inf), (\"memout\", np.inf), (\"empty\", np.nan), (\"failed\", np.inf)]).copy()\n",
    "    df.drop([\"hash\"], axis=1, inplace=True)\n",
    "    y = df.pop(\"result\").astype(\"category\").cat.codes.to_numpy()\n",
    "    x = np.nan_to_num(df.to_numpy().astype(np.float32))\n",
    "    xtrain, xtest, ytrain, ytest = train_test_split(x, y, test_size=0.2)\n",
    "    model = ensemble.RandomForestClassifier()\n",
    "    model.fit(xtrain, ytrain)\n",
    "    acc = accuracy_score(ytest, model.predict(xtest))\n",
    "    print(\"Accuracy: {}\".format(acc))"
   ]
  }
 ],
 "metadata": {
  "kernelspec": {
   "display_name": "Python 3",
   "language": "python",
   "name": "python3"
  },
  "language_info": {
   "codemirror_mode": {
    "name": "ipython",
    "version": 3
   },
   "file_extension": ".py",
   "mimetype": "text/x-python",
   "name": "python",
   "nbconvert_exporter": "python",
   "pygments_lexer": "ipython3",
   "version": "3.8.10"
  }
 },
 "nbformat": 4,
 "nbformat_minor": 5
}
