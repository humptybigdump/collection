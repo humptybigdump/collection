{
 "cells": [
  {
   "cell_type": "markdown",
   "id": "63694f53",
   "metadata": {},
   "source": [
    "## Ableiten mit den finiten Differenzen"
   ]
  },
  {
   "cell_type": "code",
   "execution_count": 1,
   "id": "f82e0099",
   "metadata": {},
   "outputs": [],
   "source": [
    "# Wie immer, lass uns zuerst die üblichen Module importieren\n",
    "import numpy as np\n",
    "import matplotlib.pyplot as plt"
   ]
  },
  {
   "cell_type": "markdown",
   "id": "91bc7780",
   "metadata": {},
   "source": [
    "Definieren Sie den Spaltenvektor der diskreten Raumkoordinaten $$\\mathbf{x} = \\begin{pmatrix}\n",
    "        x_1 \\\\\n",
    "        x_2 \\\\\n",
    "        ... \\\\\n",
    "        x_{i-1} \\\\\n",
    "        x_{i} \\\\\n",
    "        x_{i+1} \\\\\n",
    "        ... \\\\\n",
    "        x_{n}\n",
    "        \\end{pmatrix} \\, ,$$\n",
    "    wählen Sie hierfür $L=1$ als Größe des Rechengebiets. "
   ]
  },
  {
   "cell_type": "code",
   "execution_count": 16,
   "id": "ca4b7880",
   "metadata": {},
   "outputs": [],
   "source": [
    "            # Dimension des Rechengebietes \n",
    "            # Anzahl von Punkten\n",
    "            # Vektor x der Koordinaten\n",
    "            # Gitterweite"
   ]
  },
  {
   "cell_type": "markdown",
   "id": "266a681a",
   "metadata": {},
   "source": [
    "Um Ihre finite Differenzen zu testen, betrachten Sie die unendlich differenzierbare Funktion\n",
    "    \\begin{equation}\n",
    "        f(x) = \\sin (\\pi x) e^{-x/2}\n",
    "    \\end{equation}\n",
    "    und evaluieren Sie diese an den diskreten Punkten $x_i$. Speichern Sie das Ergebnis in dem Spaltenvektor $\\mathbf{f}$. Hinweis: verwenden Sie hierfür die Funktionen `np.sin` und `np.exp` aus dem Modul Numpy und wenden Sie diese am Koordinatenarray $\\mathbf{x}$ an, um $\\mathbf{f}$ zu erhalten."
   ]
  },
  {
   "cell_type": "code",
   "execution_count": 17,
   "id": "4cc7ded1",
   "metadata": {},
   "outputs": [],
   "source": [
    "            # Define function "
   ]
  },
  {
   "cell_type": "markdown",
   "id": "18c7e3a3",
   "metadata": {},
   "source": [
    "Wir können die Funktion darstellen"
   ]
  },
  {
   "cell_type": "code",
   "execution_count": null,
   "id": "3667b8f4",
   "metadata": {},
   "outputs": [],
   "source": []
  },
  {
   "cell_type": "markdown",
   "id": "a5f8d847",
   "metadata": {},
   "source": [
    "Definieren Sie im Notebook die Matrix $\\mathsf{D_1}$ der Koeffizienten von den finiten Differenzen so wie wir diese in Aufgabe 4.1 d) definiert haben. Hinweise: Um die Matrix $\\mathsf{D_1}$ zu füllen können zwei Strategien folgen. Sie können eine Null-Matrix der geeigneten Größe mit `np.zeros` definieren und diese dann durch For-Schleifen wie gewünscht mit Zahlen füllen. Alternativ können Sie die Bandmatrix $\\mathsf{D_1}$ dank ihrer Struktur durch eine Summe von mehreren `np.diag` Befehle direkt füllen. "
   ]
  },
  {
   "cell_type": "code",
   "execution_count": 1,
   "id": "971f8a76",
   "metadata": {},
   "outputs": [],
   "source": [
    "# Koeffizienten der finiten Differenzen\n",
    "                                         # Koeffizienten linker Rand\n",
    "                                         # Koeffizienten rechter Rand\n",
    "                                         # Koeffizienten Mitte\n",
    "\n",
    "# Definiere Matrix D1 mit for-Schleife\n",
    "\n",
    "                                         # Matrix of size (n,n)\n",
    "# Mitte der Matrix\n",
    "\n",
    "\n",
    "# Erste Zeile (linker Rand)\n",
    "\n",
    "# Letzte Zeile (rechter Rand)\n",
    "\n",
    "# Plot Struktur der Matrix\n"
   ]
  },
  {
   "cell_type": "code",
   "execution_count": 3,
   "id": "08ba5a77",
   "metadata": {
    "scrolled": true
   },
   "outputs": [],
   "source": [
    "# Definiere Matrix D1 mit np.diag-Befehl\n",
    "\n",
    "# Erste obere und untere Diagonale mit den Koeffizienten für die Mitte definieren\n",
    "\n",
    "# Erste und letzte Zeile mit den Koeffizienten für den Rand anpassen\n",
    "\n",
    "# Alles nach 2*dx teilen\n",
    "\n",
    "\n",
    "\n",
    "# Plot Struktur der Matrix\n"
   ]
  },
  {
   "cell_type": "markdown",
   "id": "360dae6a",
   "metadata": {},
   "source": [
    "Berechnen Sie die diskrete erste Ableitung $(\\mathbf{f}_{/x})_\\Delta \\simeq  \\mathsf{D_1}  \\mathbf{f}$. Vergleichen Sie die diskrete Ableitung mit dem exakten analytischen Ausdruck in einem Diagramm. Hinweis: Um den Produkt $\\mathsf{D_1}  \\mathbf{f}$ zu berechnen, können Sie den Operator `@` verwenden (z.B. $\\mathsf{D_1}$@$\\mathbf{f}$). "
   ]
  },
  {
   "cell_type": "code",
   "execution_count": 4,
   "id": "b9c485ad",
   "metadata": {},
   "outputs": [],
   "source": [
    "# numerische Ableitung berechnen\n",
    "\n",
    "# analytische Ableitung berechnen (Produktregel)\n",
    "\n",
    "# Ableitung darstellen\n"
   ]
  },
  {
   "cell_type": "markdown",
   "id": "7ba410a5",
   "metadata": {},
   "source": [
    "Berechnen Sie die diskrete Ableitung $(\\mathbf{f}_{/x})_\\Delta$ für  unterschiedliche Gitterweiten $\\Delta x$ (also für unterschiedliche $n$) und speichern Sie das Ergebnis. Berechnen Sie den maximalen Fehler zwischen der diskreten und exakten Ableitung \n",
    "    \\begin{equation}\n",
    "        E_{\\mathrm{max}} = \\max_{i=1}^n \\left( \\left| (f_{/x})_\\Delta - f_{/x} \\right| \\right)\n",
    "    \\end{equation}\n",
    "    und den mittleren quadratischen Fehler \n",
    "    \\begin{equation}\n",
    "        E_{\\mathrm{rms}} = \\sqrt{ \\frac{\\sum_{i=1}^n \\left( (f_{/x})_\\Delta - f_{/x} \\right)^2 }{n}  } \\, .\n",
    "    \\end{equation}"
   ]
  },
  {
   "cell_type": "code",
   "execution_count": 24,
   "id": "7e039c65",
   "metadata": {},
   "outputs": [],
   "source": [
    "# Definiere einen Vektor mit unterschiedlichen Anzahl von Punkten\n",
    "\n",
    "# For-Schleife \n",
    "\n",
    "   \n",
    "    # Gitter\n",
    "    # --------------------------------------\n",
    "                  # Vektor x der Koordinaten\n",
    "                  # Gitterweite\n",
    "    \n",
    "    # Definiere Matrix D1 mit np.diag-Befehl\n",
    "    # --------------------------------------\n",
    "    # Erste obere und untere Diagonale mit den Koeffizienten für die Mitte definieren\n",
    "    \n",
    "    # Erste und letzte Zeile mit den Koeffizienten für den Rand anpassen\n",
    "    \n",
    "    # Alles nach 2*dx teilen\n",
    "    \n",
    "    \n",
    "    # Ableitung Berechnen \n",
    "    # --------------------------------------\n",
    "    # zu Ableitende Funktion definieren \n",
    "    \n",
    "    \n",
    "    # Finite Differenzen berechnen \n",
    "    \n",
    "    \n",
    "    # exakte Ableirung definieren \n",
    "    \n",
    "    \n",
    "    # Fehler berechnen\n",
    "    # --------------------------------------\n",
    "    \n",
    "    \n",
    "    "
   ]
  },
  {
   "cell_type": "markdown",
   "id": "dbdc43e3",
   "metadata": {},
   "source": [
    "Stellen Sie $E_{\\mathrm{max}}$ und $E_{\\mathrm{rms}}$ als Funktion der Gitterweite $\\Delta x$ in einem doppellogaritmischen Diagramm dar. Was beobachten Sie? Stimmt das numerische Ergebnis mit ihrer Berechnung der Konvergenzordnung überein? "
   ]
  },
  {
   "cell_type": "code",
   "execution_count": null,
   "id": "21e4298a",
   "metadata": {},
   "outputs": [],
   "source": []
  },
  {
   "cell_type": "markdown",
   "id": "c0d16c52",
   "metadata": {},
   "source": [
    "Können Sie die Berechnung der Koeffizienten der finiten Differenzen automatisieren?"
   ]
  },
  {
   "cell_type": "code",
   "execution_count": 5,
   "id": "f4cec2d1",
   "metadata": {},
   "outputs": [],
   "source": [
    "# Wir brauchen p Gleichungen (Zeilen) \n",
    "# und p Koeffizienten (Spalten)\n",
    "       # Anzahl von Punkten\n",
    "       # zu berechnende Ableitung\n",
    "\n",
    "                        # Gleichungen: eine pro Ordnung der Taylor-Reihe\n",
    "                                # Funktionswerte \n",
    "\n",
    "\n"
   ]
  },
  {
   "cell_type": "code",
   "execution_count": null,
   "id": "88d2808f",
   "metadata": {},
   "outputs": [],
   "source": []
  }
 ],
 "metadata": {
  "kernelspec": {
   "display_name": "Python 3",
   "language": "python",
   "name": "python3"
  },
  "language_info": {
   "codemirror_mode": {
    "name": "ipython",
    "version": 3
   },
   "file_extension": ".py",
   "mimetype": "text/x-python",
   "name": "python",
   "nbconvert_exporter": "python",
   "pygments_lexer": "ipython3",
   "version": "3.8.8"
  }
 },
 "nbformat": 4,
 "nbformat_minor": 5
}
