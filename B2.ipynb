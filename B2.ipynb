{
 "cells": [
  {
   "cell_type": "markdown",
   "metadata": {},
   "source": [
    "## Aufgabe 3"
   ]
  },
  {
   "cell_type": "code",
   "execution_count": null,
   "metadata": {},
   "outputs": [],
   "source": [
    "import numpy as np"
   ]
  },
  {
   "cell_type": "markdown",
   "metadata": {},
   "source": [
    "## (a)\n",
    "Implementieren Sie die Funktion $h$, ihren Gradienten $\\nabla h$ und Hessematrix $D^2h$."
   ]
  },
  {
   "cell_type": "code",
   "execution_count": null,
   "metadata": {},
   "outputs": [],
   "source": [
    "def himmel(x):\n",
    "    ...\n",
    "\n",
    "def himmel_grad(x):\n",
    "    ...\n",
    "\n",
    "def himmel_hess(x):\n",
    "    ..."
   ]
  },
  {
   "cell_type": "markdown",
   "metadata": {},
   "source": [
    "## (b) \n",
    "### Plot der Himmelblau-Funktion\n",
    "Fertigen Sie einen 3D \"surface\"- Plot der Funktion auf dem Wertebereich $[-5, 5] \\times [-5,5]$ an."
   ]
  },
  {
   "cell_type": "code",
   "execution_count": null,
   "metadata": {},
   "outputs": [],
   "source": [
    "from matplotlib import pyplot as plt\n",
    "from mpl_toolkits.mplot3d import axes3d\n",
    "%matplotlib notebook\n",
    "\n",
    "..."
   ]
  },
  {
   "cell_type": "markdown",
   "metadata": {},
   "source": [
    "## (c)+(d)\n",
    "### Newtonverfahren\n",
    "\n",
    "Implementieren Sie das ungedämpfte Newtonverfahren, wie in Algorithmus 1 auf dem Übungsblatt definiert. Beachten Sie die vorgegebene Aufrufstruktur: \n",
    "\n",
    "Input: Die zu minimierende Zielfunktion `obj_func`, deren Gradient `grad_func` und Hessematrix `hess_func`, ein Startpunkt `x_0` und eine Abbruchtoleranz `epsilon`.\n",
    "\n",
    "Output: Neben der Approximation `x_crit` soll der Zielfunktionswert `f_crit` an der Approximation und die Anzahl an Iterationen `k` zurückgegeben werden."
   ]
  },
  {
   "cell_type": "code",
   "execution_count": null,
   "metadata": {},
   "outputs": [],
   "source": [
    "def newtons_method(obj_func, grad_func, hess_func, x_0, epsilon):\n",
    "    \n",
    "    ...\n",
    "\n",
    "    return x_crit, f_crit, k"
   ]
  },
  {
   "cell_type": "markdown",
   "metadata": {},
   "source": [
    "### Levenberg-Marquardt-Verfahren\n",
    "\n",
    "Implementieren Sie Algorithmus 2 vom Abgabeblatt. Bestimmen Sie in jeder Iteration einen möglichst kleinen Parameter $\\sigma^k$, der gleichzeitig $\\lambda_{\\min}(D^2f(x^k)+\\sigma^k E)\\geq 10^{-3}$ garantiert. Beachten Sie hier ebenfalls die vorgegebene Aufrufstruktur (siehe oben)."
   ]
  },
  {
   "cell_type": "code",
   "execution_count": null,
   "metadata": {},
   "outputs": [],
   "source": [
    "def levenb_marquardt_method(obj_func, grad_func, hess_func, x_0, epsilon):\n",
    "        \n",
    "    ... \n",
    "\n",
    "    return x_crit, f_crit, k"
   ]
  },
  {
   "cell_type": "markdown",
   "metadata": {},
   "source": [
    "### Test der Verfahren \n",
    "Durch die Vorgabe des \"seed\"-Wertes können wir sicherstellen, dass alle Abgaben dieselben pseudo-zufälligen Startpunkte verwenden, die wir unten in einem Pandas-Dataframe anzeigen lassen."
   ]
  },
  {
   "cell_type": "code",
   "execution_count": null,
   "metadata": {},
   "outputs": [],
   "source": [
    "import pandas as pd\n",
    "\n",
    "np.random.seed(246)\n",
    "\n",
    "starting_points = [(np.random.rand(2)-0.5)*10 for i in range(5)]\n",
    "\n",
    "df_sol = pd.DataFrame()\n",
    "df_sol['x_0'] = starting_points\n",
    "df_sol"
   ]
  },
  {
   "cell_type": "markdown",
   "metadata": {},
   "source": [
    "Führen Sie für beide Testfunktionen das Newtonverfahren und das Levenberg-Marquardt-Verfahren mit jedem Startpunkt mit der Toleranz $\\varepsilon = 10^{-4}$ aus. Bitte füllen Sie die Spalten der unten erstellten Dataframes mit den Ergebnissen aus den Optimierungsverfahren füllen."
   ]
  },
  {
   "cell_type": "code",
   "execution_count": null,
   "metadata": {},
   "outputs": [],
   "source": [
    "df_sol['x_crit'] = None\n",
    "df_sol['f_crit'] = None\n",
    "df_sol['Iterations'] = None\n",
    "\n",
    "df_sol_newton_hb = df_sol.copy() # Hier sollen die Ergebnisse des Newtonverfahrens reingeschrieben werden\n",
    "df_sol_levenb_hb = df_sol.copy() # Hier sollen die Ergebnisse des Levenberg-Marquardt-Ansatzes reingeschrieben werden"
   ]
  },
  {
   "cell_type": "code",
   "execution_count": null,
   "metadata": {
    "scrolled": true
   },
   "outputs": [],
   "source": [
    "epsilon = 1e-4\n",
    "\n",
    "..."
   ]
  }
 ],
 "metadata": {
  "kernelspec": {
   "display_name": "Python 3",
   "language": "python",
   "name": "python3"
  },
  "language_info": {
   "codemirror_mode": {
    "name": "ipython",
    "version": 3
   },
   "file_extension": ".py",
   "mimetype": "text/x-python",
   "name": "python",
   "nbconvert_exporter": "python",
   "pygments_lexer": "ipython3",
   "version": "3.8.5"
  }
 },
 "nbformat": 4,
 "nbformat_minor": 4
}
