{
 "cells": [
  {
   "cell_type": "markdown",
   "id": "639e5821",
   "metadata": {},
   "source": [
    "<img src=\"kit_logo.jpg\" width=\"200\" height=\"200\" align=\"right\"/>\n",
    "\n",
    "##### Lehrstuhl für Analytics and Statistics (IOR)\n",
    "##### Prof. Dr. Oliver Grothe\n",
    "##### WS 2021"
   ]
  },
  {
   "cell_type": "markdown",
   "id": "11163976",
   "metadata": {},
   "source": [
    "# Analyse multivariater Daten\n",
    "## Übung 2"
   ]
  },
  {
   "cell_type": "markdown",
   "id": "1cefc9f1",
   "metadata": {},
   "source": [
    "#### Rechnerubung: \n",
    "Laden Sie die beiden Matrizen A und B aus Ilias herunter.\n",
    "    Berechnen Sie:     $A^2$, $A^{10}$, $A · B$, $(A · B)^{−1}$, $spur(A)$, $det(A)$"
   ]
  },
  {
   "cell_type": "markdown",
   "id": "0702325b",
   "metadata": {},
   "source": [
    "Load $A$ and $B$"
   ]
  },
  {
   "cell_type": "code",
   "execution_count": 1,
   "id": "17b8000d",
   "metadata": {},
   "outputs": [
    {
     "name": "stdout",
     "output_type": "stream",
     "text": [
      "Shape of A:  (1000, 1000)\n",
      "Shape of B:  (1000, 1000)\n"
     ]
    }
   ],
   "source": [
    "import pandas as pd\n",
    "import numpy as np\n",
    "A=np.array(pd.read_csv('A.csv', sep=';',header=None))\n",
    "B=np.array(pd.read_csv('B.csv', sep=';',header=None))\n",
    "print('Shape of A: ',A.shape)\n",
    "print('Shape of B: ',B.shape)"
   ]
  },
  {
   "cell_type": "markdown",
   "id": "e64f8217",
   "metadata": {},
   "source": [
    "Calculate $A^2$\n"
   ]
  },
  {
   "cell_type": "code",
   "execution_count": 4,
   "id": "396eabd4",
   "metadata": {},
   "outputs": [
    {
     "data": {
      "text/plain": [
       "array([[2551550, 2581594, 2649540, ..., 2638139, 2556014, 2517071],\n",
       "       [2516667, 2661555, 2665765, ..., 2630269, 2629727, 2636524],\n",
       "       [2488295, 2567986, 2576173, ..., 2604318, 2541903, 2568293],\n",
       "       ...,\n",
       "       [2539198, 2617183, 2626908, ..., 2659816, 2656003, 2590506],\n",
       "       [2567293, 2687857, 2674182, ..., 2695988, 2650615, 2567575],\n",
       "       [2484168, 2550034, 2571237, ..., 2560346, 2550382, 2508835]],\n",
       "      dtype=int64)"
      ]
     },
     "execution_count": 4,
     "metadata": {},
     "output_type": "execute_result"
    }
   ],
   "source": [
    "# Elementweise: \n",
    "#A_2=A*A\n",
    "#A_2\n",
    "#'Matrixmultiplikation'\n",
    "A_2=np.dot(A,A)\n",
    "A_2"
   ]
  },
  {
   "cell_type": "markdown",
   "id": "044e8dba",
   "metadata": {},
   "source": [
    "Calculate $A^{10}$"
   ]
  },
  {
   "cell_type": "code",
   "execution_count": 16,
   "id": "bbf55900",
   "metadata": {},
   "outputs": [
    {
     "data": {
      "text/plain": [
       "array([[-3217934679397191671,    39502435647437911, -1845890943948993953,\n",
       "        ...,  5361655430007329588, -5175522843994758972,\n",
       "        -1189568380649105445],\n",
       "       [ 1775742296015718345,  4619258476781510797, -7192022787231966400,\n",
       "        ..., -5440291100557217238,  -999204664930835185,\n",
       "         7953187465045441565],\n",
       "       [ 3831009398021769021, -2324146115957668751, -4121230203714238290,\n",
       "        ..., -3949525212110823546, -7629642854375689322,\n",
       "          753242152589399803],\n",
       "       ...,\n",
       "       [-3515658889769646984, -8896070117809915354, -8416495727443977825,\n",
       "        ...,  2402027721995730783, -3496599086736348648,\n",
       "        -8545537457781032756],\n",
       "       [-1547116487059143444, -5640855832830312937,  3927539588894879072,\n",
       "        ..., -8523279653311344304,   324602177110034036,\n",
       "         6185695849293574663],\n",
       "       [-6880697318010437640,  7301900279990194082,  6183489416441471549,\n",
       "        ..., -4807375086383978646, -5994800311882934826,\n",
       "        -6656638004291657914]], dtype=int64)"
      ]
     },
     "execution_count": 16,
     "metadata": {},
     "output_type": "execute_result"
    }
   ],
   "source": [
    "# Elementweise: \n",
    "#A_10=np.power(A,10)\n",
    "\n",
    "#'Matrixmultiplikation'\n",
    "A_10=np.linalg.matrix_power(A,10)\n",
    "A_10"
   ]
  },
  {
   "cell_type": "markdown",
   "id": "136d832d",
   "metadata": {},
   "source": [
    "Calculate $A · B$"
   ]
  },
  {
   "cell_type": "code",
   "execution_count": 18,
   "id": "02161651",
   "metadata": {},
   "outputs": [
    {
     "data": {
      "text/plain": [
       "array([[2055161, 2050951, 1972436, ..., 2065014, 2060982, 1984139],\n",
       "       [2118281, 2049247, 2015676, ..., 2102381, 2100491, 1979135],\n",
       "       [2031533, 2001334, 1993409, ..., 2044321, 2073806, 1957136],\n",
       "       ...,\n",
       "       [2078378, 2059793, 2034957, ..., 2136328, 2143351, 2005255],\n",
       "       [2062547, 2092637, 2062358, ..., 2177131, 2175299, 2057610],\n",
       "       [2007712, 1995773, 1928060, ..., 2021839, 2074237, 1925888]],\n",
       "      dtype=int64)"
      ]
     },
     "execution_count": 18,
     "metadata": {},
     "output_type": "execute_result"
    }
   ],
   "source": [
    "AB=np.dot(A,B)\n",
    "AB"
   ]
  },
  {
   "cell_type": "markdown",
   "id": "665a511c",
   "metadata": {},
   "source": [
    "Calculate $(A · B)^{−1}$"
   ]
  },
  {
   "cell_type": "code",
   "execution_count": 28,
   "id": "f94ea63b",
   "metadata": {},
   "outputs": [
    {
     "data": {
      "text/plain": [
       "array([[-2.87109429e-03, -6.79477695e-03, -7.83252398e-05, ...,\n",
       "        -1.70589216e-03, -2.06970616e-03,  3.08607246e-03],\n",
       "       [-4.05978041e-03, -9.95608738e-03, -3.33974770e-04, ...,\n",
       "        -2.08090261e-03, -3.03200344e-03,  3.98875684e-03],\n",
       "       [-4.02364942e-03, -9.61042590e-03, -7.46264908e-05, ...,\n",
       "        -2.42851135e-03, -2.91861559e-03,  4.37844195e-03],\n",
       "       ...,\n",
       "       [ 4.26308821e-03,  9.95661667e-03, -1.45778751e-04, ...,\n",
       "         2.90716327e-03,  3.01438428e-03, -5.08509007e-03],\n",
       "       [-3.07662180e-03, -7.12031513e-03,  2.49325787e-05, ...,\n",
       "        -2.01968711e-03, -2.15228353e-03,  3.50529790e-03],\n",
       "       [-8.07553135e-05, -1.08822806e-04,  3.29101122e-05, ...,\n",
       "        -1.24153352e-04, -2.88291012e-05,  1.69406401e-04]])"
      ]
     },
     "execution_count": 28,
     "metadata": {},
     "output_type": "execute_result"
    }
   ],
   "source": [
    "AB_inv=np.linalg.inv(np.dot(A,B))\n",
    "AB_inv"
   ]
  },
  {
   "cell_type": "markdown",
   "id": "8c36758f",
   "metadata": {},
   "source": [
    "Calculate $spur(A)$"
   ]
  },
  {
   "cell_type": "code",
   "execution_count": 31,
   "id": "b1dc3ab7",
   "metadata": {},
   "outputs": [
    {
     "name": "stdout",
     "output_type": "stream",
     "text": [
      "51155\n",
      "51155\n",
      "51155\n"
     ]
    }
   ],
   "source": [
    "#numpy command\n",
    "spur=np.trace(A)\n",
    "print(spur)\n",
    "\n",
    "\n",
    "#manual with matrix diagonal\n",
    "print(np.sum(A.diagonal()))\n",
    "#manual with for loop\n",
    "spur_manual=0\n",
    "for i in range(0,A.shape[0]):\n",
    "    spur_manual+=A[i,i]\n",
    "print(spur_manual)"
   ]
  },
  {
   "cell_type": "markdown",
   "id": "2580a801",
   "metadata": {},
   "source": [
    "Calculate $det(A)$"
   ]
  },
  {
   "cell_type": "code",
   "execution_count": 5,
   "id": "8c39e72b",
   "metadata": {},
   "outputs": [
    {
     "name": "stderr",
     "output_type": "stream",
     "text": [
      "C:\\Users\\Fabian\\anaconda3\\envs\\Uebung\\lib\\site-packages\\numpy\\linalg\\linalg.py:2159: RuntimeWarning: overflow encountered in det\n",
      "  r = _umath_linalg.det(a, signature=signature)\n"
     ]
    },
    {
     "name": "stdout",
     "output_type": "stream",
     "text": [
      "-inf\n",
      "(-1.0, 6319.805367928768)\n"
     ]
    },
    {
     "ename": "OverflowError",
     "evalue": "math range error",
     "output_type": "error",
     "traceback": [
      "\u001b[1;31m---------------------------------------------------------------------------\u001b[0m",
      "\u001b[1;31mOverflowError\u001b[0m                             Traceback (most recent call last)",
      "\u001b[1;32m<ipython-input-5-15c5e4380e0f>\u001b[0m in \u001b[0;36m<module>\u001b[1;34m\u001b[0m\n\u001b[0;32m      5\u001b[0m \u001b[1;31m#use slogdet function instead\u001b[0m\u001b[1;33m\u001b[0m\u001b[1;33m\u001b[0m\u001b[1;33m\u001b[0m\u001b[0m\n\u001b[0;32m      6\u001b[0m \u001b[0mprint\u001b[0m\u001b[1;33m(\u001b[0m\u001b[0mnp\u001b[0m\u001b[1;33m.\u001b[0m\u001b[0mlinalg\u001b[0m\u001b[1;33m.\u001b[0m\u001b[0mslogdet\u001b[0m\u001b[1;33m(\u001b[0m\u001b[0mA\u001b[0m\u001b[1;33m)\u001b[0m\u001b[1;33m)\u001b[0m\u001b[1;33m\u001b[0m\u001b[1;33m\u001b[0m\u001b[0m\n\u001b[1;32m----> 7\u001b[1;33m \u001b[0mmath\u001b[0m\u001b[1;33m.\u001b[0m\u001b[0mexp\u001b[0m\u001b[1;33m(\u001b[0m\u001b[1;36m6319\u001b[0m\u001b[1;33m)\u001b[0m\u001b[1;33m\u001b[0m\u001b[1;33m\u001b[0m\u001b[0m\n\u001b[0m",
      "\u001b[1;31mOverflowError\u001b[0m: math range error"
     ]
    }
   ],
   "source": [
    "import math\n",
    "print(np.linalg.det(A))\n",
    "#--> obviously a problem occours. Read numpy documentation\n",
    "\n",
    "#use slogdet function instead\n",
    "print(np.linalg.slogdet(A))\n",
    "math.exp(6319)"
   ]
  }
 ],
 "metadata": {
  "kernelspec": {
   "display_name": "Python 3",
   "language": "python",
   "name": "python3"
  },
  "language_info": {
   "codemirror_mode": {
    "name": "ipython",
    "version": 3
   },
   "file_extension": ".py",
   "mimetype": "text/x-python",
   "name": "python",
   "nbconvert_exporter": "python",
   "pygments_lexer": "ipython3",
   "version": "3.9.4"
  }
 },
 "nbformat": 4,
 "nbformat_minor": 5
}
