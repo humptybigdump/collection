{
 "cells": [
  {
   "cell_type": "markdown",
   "metadata": {
    "pycharm": {
     "name": "#%% md\n"
    }
   },
   "source": [
    "# Machine Vision 2024/25 - Assignment 5: Camera Calibration\n",
    "\n",
    "In this assignment we will calibrate a camera using Tsai's camera calibration."
   ]
  },
  {
   "cell_type": "code",
   "execution_count": null,
   "metadata": {
    "pycharm": {
     "name": "#%%\n"
    }
   },
   "outputs": [],
   "source": [
    "import copy\n",
    "import math\n",
    "import matplotlib.pyplot as plt\n",
    "import numpy as np\n",
    "from skimage.io import imread"
   ]
  },
  {
   "cell_type": "markdown",
   "metadata": {
    "pycharm": {
     "name": "#%% md\n"
    }
   },
   "source": [
    "#### Tsai's Camera Calibration\n",
    "\n",
    "The file `res/tsai/calibration.png` contains an image that shows a calibration scene with 16 calibration markers.\n",
    "The position of the markers in world coordinates is stored in the array `var: (world_coordinates)`, while the positions of the image coordinates are stored in the array `var: (image_coordinates)`."
   ]
  },
  {
   "cell_type": "code",
   "execution_count": null,
   "metadata": {
    "pycharm": {
     "name": "#%%\n"
    }
   },
   "outputs": [],
   "source": [
    "image = imread(\"res/tsai/calibration.png\")\n",
    "\n",
    "# Dimensions: [X, Y, Z] (xi, eta, zeta)\n",
    "world_coordinates = np.array([\n",
    "    [0.155, 0.301, 0],\n",
    "    [0.720, 0.171, 0],\n",
    "    [1.283, 0.171, 0],\n",
    "    [1.934, 0.171, 0],\n",
    "    [0.156, 1.194, 0],\n",
    "    [0.156, 1.879, 0],\n",
    "    [0.156, 2.552, 0],\n",
    "    [1.110, 2.028, 0],\n",
    "    [1.833, 1.258, 0],\n",
    "    [0.192, 2.952, 0.602],\n",
    "    [1.177, 2.952, 0.604],\n",
    "    [1.979, 2.703, 0.615],\n",
    "    [1.979, 1.817, 0.615],\n",
    "    [1.979, 1.419, 0.615],\n",
    "    [1.979, 0.433, 0.617],\n",
    "    [0.899, 0.920, 0],\n",
    "])\n",
    "\n",
    "# Dimensions: [v, u]\n",
    "image_coordinates = np.array([\n",
    "    [418, 135],\n",
    "    [398, 307],\n",
    "    [355, 436],\n",
    "    [314, 552],\n",
    "    [282, 81],\n",
    "    [215, 56],\n",
    "    [168, 39],\n",
    "    [178, 216],\n",
    "    [214, 393],\n",
    "    [54, 29],\n",
    "    [54, 178],\n",
    "    [42, 300],\n",
    "    [74, 370],\n",
    "    [93, 411],\n",
    "    [151, 530],\n",
    "    [280, 262],\n",
    "])"
   ]
  },
  {
   "cell_type": "markdown",
   "metadata": {
    "pycharm": {
     "name": "#%% md\n"
    }
   },
   "source": [
    "##### Preparation\n",
    "\n",
    "Visualize the image and the image coordinate of each marker."
   ]
  },
  {
   "cell_type": "code",
   "execution_count": null,
   "metadata": {
    "pycharm": {
     "name": "#%%\n"
    }
   },
   "outputs": [],
   "source": [
    "def plot_coordinates(*, image, image_coordinates, color):\n",
    "    # @student: visualize the images and highlight the image coordinates in red\n",
    "    #           the function should also return the marked image, as we will use it again later on\n",
    "    image_marked = copy.deepcopy(image)\n",
    "\n",
    "    ...\n",
    "\n",
    "    return image_marked\n",
    "\n",
    "image_marked = plot_coordinates(image=image, image_coordinates=image_coordinates, color=[255,0,0])"
   ]
  },
  {
   "cell_type": "markdown",
   "metadata": {
    "pycharm": {
     "name": "#%% md\n"
    }
   },
   "source": [
    "##### Calculation"
   ]
  },
  {
   "cell_type": "code",
   "execution_count": null,
   "metadata": {
    "pycharm": {
     "name": "#%%\n"
    }
   },
   "outputs": [],
   "source": [
    "# This function calculates the eigenvector belonging to the smallest eigenvalue\n",
    "def calculate_smallest_eigenvec(*, M):\n",
    "    evals, evecs = np.linalg.eig(M)\n",
    "    eigen_sorted = np.argsort(evals)\n",
    "    eval = evals[eigen_sorted[0]]\n",
    "    evec = evecs[:, eigen_sorted[0]]\n",
    "\n",
    "    return evec, eval"
   ]
  },
  {
   "cell_type": "code",
   "execution_count": null,
   "metadata": {
    "pycharm": {
     "name": "#%%\n"
    }
   },
   "outputs": [],
   "source": [
    "def tsai(*, world_coordinates, image_coordinates):\n",
    "    assert world_coordinates.shape[0] == image_coordinates.shape[0], \"Each world coordinate must have a related image coordinate\"\n",
    "    num_matches = world_coordinates.shape[0]\n",
    "\n",
    "    W = np.ones(shape=[num_matches, 4])\n",
    "    W[:,:3] = world_coordinates\n",
    "\n",
    "    # @student: build overdetermined coordinate system C based on (S, Su, Sv, Suv)\n",
    "    S = ...\n",
    "    Su = ...\n",
    "    Sv = ...\n",
    "    Suv = ...\n",
    "\n",
    "    # For each match calculate S, Su, Sv and Suv\n",
    "    for i in range(num_matches):\n",
    "        s = ...\n",
    "        S += ...\n",
    "        Su += ...\n",
    "        Sv += ...\n",
    "        Suv += ...\n",
    "\n",
    "    C = np.zeros(shape=[12,12])\n",
    "    C[0:4, 0:4] = S\n",
    "    C[4:8, 4:8] = S\n",
    "    C[0:4, 8:12] = -Su\n",
    "    C[8:12, 0:4] = -Su\n",
    "    C[4:8, 8:12] = -Sv\n",
    "    C[8:12, 4:8] = -Sv\n",
    "    C[8:12, 8:12] = Suv\n",
    "\n",
    "    # find the eigenvector corresponding to the smallest eigenvalue\n",
    "    evec, eval = calculate_smallest_eigenvec(M=C)\n",
    "\n",
    "\n",
    "    # Scale the eigenvector based on the fact that M[3,0:3] is equal to one row of the rotation matrix\n",
    "    # Therefore, its euclidean length must be 1\n",
    "    # However, there are still two possibilities either -evec / ... or + evec/...\n",
    "    # We can choose the correct one by checking the determinant of the rotation matrix\n",
    "    # @student: Scale +/-eigenvector\n",
    "    evec_pos = ...\n",
    "    evec_neg = ...\n",
    "\n",
    "    found = False\n",
    "    # evaluate +/- eigenvector\n",
    "    for evec in [evec_pos, evec_neg]:\n",
    "        # @student: reshape eigenvector to M[3, 4]\n",
    "        M = ...\n",
    "\n",
    "        #  @student: define output matrices, A, R, t\n",
    "        A = ...\n",
    "        R = ...\n",
    "        t = ...\n",
    "\n",
    "        # @student: determine A,R, t parameter from M\n",
    "        R[2,:] = ...\n",
    "        t[0, 2] = ...\n",
    "        v0 = ...\n",
    "        u0 = ...\n",
    "\n",
    "        beta_pp = ...\n",
    "        t[0,1] = ...\n",
    "        R[1,:] = ...\n",
    "        gamma_pp = ...\n",
    "\n",
    "        alpha_pp = ...\n",
    "        R[0, :] = ...\n",
    "        t[0,0] = ...\n",
    "\n",
    "        A[0,0] = ...\n",
    "        A[0,1] = ...\n",
    "        A[1,1] = ...\n",
    "        A[0,2] = ...\n",
    "        A[1,2] = ...\n",
    "        A[2,2] = ...\n",
    "\n",
    "        if math.isclose(1, np.linalg.det(R), abs_tol=0.001):\n",
    "            found = True\n",
    "            break\n",
    "\n",
    "    assert found == True, \"Either the positive nor negative rotation matrix must have a determinant of 1\"\n",
    "    return A, R, t\n",
    "\n",
    "A, R, t = tsai(world_coordinates=world_coordinates, image_coordinates=image_coordinates)"
   ]
  },
  {
   "cell_type": "markdown",
   "metadata": {
    "pycharm": {
     "name": "#%% md\n"
    }
   },
   "source": [
    "##### Evaluation\n",
    "\n",
    "In order to evaluate the calibration, we can project our known world points into the image and calculate the reprojection error.\n",
    "\n",
    "First we need to transform our coordinated and parameters to homogeneous form."
   ]
  },
  {
   "cell_type": "code",
   "execution_count": null,
   "metadata": {
    "pycharm": {
     "name": "#%%\n"
    }
   },
   "outputs": [],
   "source": [
    "# @student: turn A, R, t into homogeneous form (var: A_h, Rt_h) and transform world coordinates into homogeneous form (var: WC_h)\n",
    "Rt_h = np.zeros(shape=[4,4])\n",
    "Rt_h[...] = ...\n",
    "\n",
    "A_h = np.zeros(shape=[4,4])\n",
    "A_h[...] = ...\n",
    "\n",
    "WC_h = np.zeros(shape=[16, 4])\n",
    "WC_h[...] = ..."
   ]
  },
  {
   "cell_type": "markdown",
   "metadata": {
    "pycharm": {
     "name": "#%% md\n"
    }
   },
   "source": [
    "then we can project the world coordinated to image space.\n",
    "\n",
    "\n",
    "$\n",
    "z * \\begin{bmatrix}u' \\\\ v' \\\\ 1\\end{bmatrix} = A_h * Rt_h * \\begin{bmatrix} \\xi \\\\ \\eta \\\\ \\zeta \\\\ 1\\end{bmatrix},\n",
    "$ where $A_h$ and $Rt_h$ are $A$ and $Rt$ in homogeneous form."
   ]
  },
  {
   "cell_type": "code",
   "execution_count": null,
   "metadata": {
    "pycharm": {
     "name": "#%%\n"
    }
   },
   "outputs": [],
   "source": [
    "# @student: Calculate 2D projection using A_h, Rt_h and WC_h\n",
    "projection = ...\n",
    "\n",
    "# hint: the projection returns u -> 0 and v -> 1\n",
    "# possible way to fix this:\n",
    "# projection = np.fliplr(projection.transpose())"
   ]
  },
  {
   "cell_type": "code",
   "execution_count": null,
   "metadata": {
    "pycharm": {
     "name": "#%%\n"
    }
   },
   "outputs": [],
   "source": [
    "image_marked = plot_coordinates(image=image_marked, image_coordinates=projection.astype(np.int32), color=[0,255,0])"
   ]
  },
  {
   "cell_type": "markdown",
   "metadata": {
    "pycharm": {
     "name": "#%% md\n"
    }
   },
   "source": [
    "image_marked = plot_coordinates(image=image_marked, image_coordinates=projection.astype(np.int32), color=[0,255,0])\n",
    "Once the projected pixel $p'$ ($u'$, $v'$) is calculated based on the calibration parameters it can be compared with the known pixel $p$ ($u$, $v$).\n",
    "\n",
    "The resulting error is called reprojection error $e_r$, which can be calculated using the equation:\n",
    "\n",
    "$e_r = \\frac{1}{N} * \\sum{|p - p'|_2}$, where N is the number of pixels and ||_2 is the L2-Norm."
   ]
  },
  {
   "cell_type": "code",
   "execution_count": null,
   "metadata": {
    "pycharm": {
     "name": "#%%\n"
    }
   },
   "outputs": [],
   "source": [
    "def calculate_reprojection_error(*, p, p_pred) -> float:\n",
    "    # @student: calculate the reprojection error\n",
    "    return ...\n",
    "\n",
    "calculate_reprojection_error(p=image_coordinates, p_pred=projection)"
   ]
  },
  {
   "cell_type": "code",
   "execution_count": null,
   "metadata": {
    "pycharm": {
     "name": "#%%\n"
    }
   },
   "outputs": [],
   "source": []
  }
 ],
 "metadata": {
  "kernelspec": {
   "display_name": "Python 3 (ipykernel)",
   "language": "python",
   "name": "python3"
  },
  "language_info": {
   "codemirror_mode": {
    "name": "ipython",
    "version": 3
   },
   "file_extension": ".py",
   "mimetype": "text/x-python",
   "name": "python",
   "nbconvert_exporter": "python",
   "pygments_lexer": "ipython3",
   "version": "3.10.4"
  }
 },
 "nbformat": 4,
 "nbformat_minor": 1
}
