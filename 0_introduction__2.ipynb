{
 "cells": [
  {
   "cell_type": "markdown",
   "metadata": {},
   "source": [
    "# Organization\n",
    "\n",
    "\n",
    "## Register as a Group in Ilias\n",
    "For submission please form a group of three students. You have to assign to a group in Ilias.\n",
    "You can use the \"[Looking for a group](https://ilias.studium.kit.edu/ilias.php?ref_id=1948869&cmd=render&cmdClass=ilrepositorygui&cmdNode=x1&baseClass=ilRepositoryGUI)\" forum to team up.\n",
    "As for submitting the homeworks, please make sure that you mention all your group mates for the group submission.\n",
    "\n",
    "## Submission guidelines\n",
    "\n",
    "**The exercises should be solved and submitted as a group of three students.**\n",
    "\n",
    "For the submission of the exercise please follow these steps:\n",
    "\n",
    "1. Make sure that every cell is executed and that your plots are properly displayed and saved.\n",
    "2. Create a .zip file of your filled-in notebook, a potential pen & paper solution\n",
    "(for some exercises only), and the folder containing your saved plots.\n",
    "By default, the plot folder will be in your Google Drive in *drl_ws21/exercise_i/date* for the i-th exercise\n",
    "3. Rename your zip file with the following naming convention: group_y_uxxxx_uxxxx_uxxxx\n",
    "where y is your group number, uxxxx is the kit user from each group member/\n",
    "4. Upload the zip file to Ilias.\n",
    "\n",
    "For this exercise, please try to fill in the code where stated.\n",
    "It demonstrates some basic operations we will need for this course.\n",
    "Then, submit this exercise following the instructions above.\n",
    "This submission is only for getting familiar with the submission procedure.\n",
    "It will not be graded.\n",
    "\n",
    "\n",
    "## Google Colab and JuPyter Notebook\n",
    "\n",
    "### Google Colab\n",
    "We use Google Colab for all exercise of this lecture, and will use it to directly save\n",
    "logs and recordings to a designated folder in your Google Drive.\n",
    "\n",
    "### JuPyter notebooks\n",
    "Usually, each coding exercise will provide you with a JuPyter notebook.\n",
    " These notebooks contain markdown/text cells (such as this one)\n",
    " and python code cells (like the ones further below).\n",
    " Each cell can be run separately to present the text properly or to execute the code.\n",
    "It is also possible to use $\\LaTeX$ equations inside the markdown environment.\n",
    "You can freely edit the code in the code-cells, and then compile a cell by\n",
    "clicking on the arrow next to it.\n",
    "Code that has been compiled in one cell (such as functions, classes or imports) is available in other cells.\n",
    "\n",
    "For the exercises, you will be provided with an incomplete algorithm and\n",
    "required to fill in missing methods and functions.\n",
    "These incomplete segments are marked with **TODO** statements, and often contain hints on\n",
    "what exactly needs to be done.\n",
    "* You may want to use an IDE on your pc instead, and only deploy experiments on the cluster.\n",
    "  For this, we recommend using either [PyCharm](https://www.jetbrains.com/pycharm/) or [Visual Studio Code](https://code.visualstudio.com/).\n",
    "  As a student, you can get educational licenses for both from the [KIT Software Shop](https://www.scc.kit.edu/dienste/4800.php)\n",
    "\n"
   ]
  },
  {
   "cell_type": "markdown",
   "metadata": {},
   "source": [
    "# Preliminaries\n",
    "This section introduces the tools that we will be working with in this course.\n",
    "You will find the actual exercise in the Section \"Exercise 0\" below.\n",
    "\n",
    "## Python, Numpy and PyTorch\n",
    "Deep Reinforcement Learning algorithms often require carefully designed and complex training routines. Practitioners usually use a range of tools to deal with this complexity.\n",
    "We list the ones that we will focus on during the lecture below, and strongly encourage you to familiarize yourself with them if you have not heard of them before.\n",
    "\n",
    "### Python\n",
    "All programming exercises for this course are based on [Python](https://www.python.org/downloads/).\n",
    "Python is a programming language focused around easy syntax and quick development.\n",
    "It has a lot of infrastructure for Deep Reinforcement Learning and more generally Machine Learning applications.\n",
    "\n",
    "### Numpy\n",
    "[NumPy](https://numpy.org/) is a library for scientific computing in Python. It is structured around the *ndarray*, which is a multidimensional container that allows for easy and efficient operations on high-dimensional arrays.\n",
    "* An introduction to NumPy can be found [here](https://numpy.org/doc/stable/user/quickstart.html).\n",
    "\n",
    "### PyTorch\n",
    "[PyTorch](https://pytorch.org/) is an automatic differentiation framework that builds on NumPy. It offers a wide range of tools and pre-build blocks for different machine learning approaches. We will mainly use PyTorch for the *deep* part of Deep Reinforcement Learning, i.e., to build and train deep neural networks.\n",
    "* To get started with PyTorch, we recommend [this tutorial](https://pytorch.org/tutorials/beginner/deep_learning_60min_blitz.html)."
   ]
  },
  {
   "cell_type": "markdown",
   "metadata": {},
   "source": [
    "# Exercise 0\n",
    "\n",
    "Google Colab provides you with a temporary environment for python programming.\n",
    "While this conveniently works on any platform and internally handles dependency issues\n",
    "and the likes, it also requires you to set up the environment from scratch every time.\n",
    "The \"Setup\" section below will be part of **every** exercise and contains utility\n",
    " that is needed before getting started.\n",
    "\n",
    "## Setup"
   ]
  },
  {
   "cell_type": "code",
   "execution_count": null,
   "metadata": {},
   "outputs": [],
   "source": [
    "# Your work will be stored in a folder called `drl_ws21` by default to prevent Colab \n",
    "# instance timeouts from deleting your edits.\n",
    "# We do this by mounting your google drive on the virtual machine created in this colab \n",
    "# session. For this, you will likely need to sign in to your Google account and copy a \n",
    "# passcode into a field below\n",
    "\n",
    "import os\n",
    "from google.colab import drive\n",
    "drive.mount('/content/gdrive')"
   ]
  },
  {
   "cell_type": "code",
   "execution_count": null,
   "metadata": {},
   "outputs": [],
   "source": [
    "# Create paths in your google drive\n",
    "\n",
    "DRIVE_PATH = '/content/gdrive/My\\ Drive/drl_ws21'\n",
    "DRIVE_PYTHON_PATH = DRIVE_PATH.replace('\\\\', '')\n",
    "if not os.path.exists(DRIVE_PYTHON_PATH):\n",
    "  %mkdir $DRIVE_PATH\n",
    "\n",
    "# the space in `My Drive` causes some issues,\n",
    "# make a symlink to avoid this\n",
    "SYM_PATH = '/content/drl_ws21'\n",
    "if not os.path.exists(SYM_PATH):\n",
    "  !ln -s $DRIVE_PATH $SYM_PATH\n",
    "%cd $SYM_PATH"
   ]
  },
  {
   "cell_type": "code",
   "execution_count": null,
   "metadata": {},
   "outputs": [],
   "source": [
    "# Install **python** packages\n",
    "\n",
    "%pip install matplotlib numpy torch tqdm\n",
    "\n"
   ]
  },
  {
   "cell_type": "markdown",
   "metadata": {},
   "source": [
    "## Editing Code\n",
    "\n",
    "All homeworks are self-contained. They can be completed in their respective notebooks.\n",
    "To edit and re-run code, you can therefore simply edit and restart the code cells below.\n",
    "There is a timeout of about ~12 hours with Colab while it is active (and less if you close your browser window).\n",
    "This file should automatically be synced with your Google Drive. We also save all recordings and logs in it by default so that you won't lose your work in the event of an instance timeout.\n",
    " However, you will need to re-mount your Google Drive and re-install packages with every new instance."
   ]
  },
  {
   "cell_type": "markdown",
   "metadata": {},
   "source": [
    "## Actual code\n",
    " This section specifies the actual exercise. For exercise 0, it just contains some\n",
    "  self-contained code cells for you to play around with. Later exercises will deal with\n",
    "  more complex algorithms and follow a common structure to do so.\n",
    "\n",
    "We start by importing necessary packages and creating a progress bar."
   ]
  },
  {
   "cell_type": "code",
   "execution_count": null,
   "metadata": {},
   "outputs": [],
   "source": [
    "# Imports and utility\n",
    "import torch\n",
    "from torch.nn import MSELoss\n",
    "from torch.optim import SGD\n",
    "import numpy as np\n",
    "import matplotlib.pyplot as plt\n",
    "import tqdm\n",
    "from typing import Union, List\n",
    "import time\n",
    "\n",
    "np.random.seed(0)\n",
    "torch.manual_seed(0)\n",
    "\n",
    "class ProgressBar:\n",
    "    def __init__(self, num_iterations: int, verbose: bool = True):\n",
    "        if verbose:  # create a nice little progress bar\n",
    "            self.scalar_tracker = tqdm.tqdm(total=num_iterations, desc=\"Scalars\", bar_format=\"{desc}\",\n",
    "                                            position=0, leave=True)\n",
    "            progress_bar_format = '{desc} {n_fmt:' + str(\n",
    "                len(str(num_iterations))) + '}/{total_fmt}|{bar}|{elapsed}<{remaining}'\n",
    "            self.progress_bar = tqdm.tqdm(total=num_iterations, desc='Iteration', bar_format=progress_bar_format,\n",
    "                                          position=1, leave=True)\n",
    "        else:\n",
    "            self.scalar_tracker = None\n",
    "            self.progress_bar = None\n",
    "\n",
    "    def __call__(self, **kwargs):\n",
    "        if self.progress_bar is not None:\n",
    "            formatted_scalars = {key: \"{:.3e}\".format(value[-1] if isinstance(value, list) else value)\n",
    "                                 for key, value in kwargs.items()}\n",
    "            description = (\"Scalars: \" + \"\".join([str(key) + \"=\" + value + \", \"\n",
    "                                                  for key, value in formatted_scalars.items()]))[:-2]\n",
    "            self.scalar_tracker.set_description(description)\n",
    "            self.progress_bar.update(1)\n",
    "\n",
    "# specify the path to save the recordings of this run to.\n",
    "data_path = '/content/drl_ws21/exercise_0'\n",
    "data_path = os.path.join(data_path, time.strftime(\"%d-%m-%Y_%H-%M\"))\n",
    "if not (os.path.exists(data_path)):\n",
    "    os.makedirs(data_path)\n",
    "\n",
    "# this function will automatically save your figure into your google drive folder (if correctly mounted!)\n",
    "def save_figure(save_name: str) -> None:\n",
    "    assert save_name is not None, \"Need to provide a filename to save to\"\n",
    "    plt.savefig(os.path.join(data_path, save_name + \".png\"))\n"
   ]
  },
  {
   "cell_type": "markdown",
   "metadata": {},
   "source": [
    "### 0.1: Matrices and Vectors in Python\n",
    "As mentioned, we will use Python for the coding exercise.\n",
    "Additionally, for this and all following exercise we will use NumPy, one of the most fundamental python libraries,\n",
    "designed to efficiently create and operate on multi-dimensional arrays (vectors, matrices and higher order tensors).\n",
    "\n",
    "\n",
    "#### Create Matrices and Vectors in Python\n",
    "We first create a matrix <br>\n",
    "\\begin{align*}A =\n",
    "\\begin{pmatrix}\n",
    "    1 & 2 & 3 \\\\\n",
    "    4 & 2 & 6 \\\\\n",
    "    7 & 3 & 8\n",
    "\\end{pmatrix}\n",
    "\\end{align*}\n",
    "and two vectors <br>\n",
    "\n",
    "\\begin{align*} v =\n",
    "\\begin{pmatrix}\n",
    "    3  \\\\\n",
    "    1  \\\\\n",
    "    2\n",
    "\\end{pmatrix}, ~w =\n",
    "\\begin{pmatrix}\n",
    "    1  \\\\\n",
    "    1  \\\\\n",
    "    2\n",
    "\\end{pmatrix}\n",
    "\\end{align*}\n",
    "\n"
   ]
  },
  {
   "cell_type": "code",
   "execution_count": null,
   "metadata": {},
   "outputs": [],
   "source": [
    "# Let us create a matrix A and vectors v and w:\n",
    "A = np.array([[1, 2, 3],\n",
    "              [4 ,2, 6],\n",
    "              [7, 3, 8]])\n",
    "v = np.array([3, 1, 2])\n",
    "w = np.array([1, 1, 2])\n",
    "print(\"Matrix A:\")\n",
    "print(A)\n",
    "print(\"Vector v:\")\n",
    "print(v)\n",
    "print(\"Vector w:\")\n",
    "print(w)\n",
    "\n"
   ]
  },
  {
   "cell_type": "markdown",
   "metadata": {},
   "source": [
    "#### Basic Operations with Vectors and Matrices\n",
    "\n",
    "Implement the  v + w and 2 $\\cdot$ A. Print out your results and verify that they are correct."
   ]
  },
  {
   "cell_type": "code",
   "execution_count": null,
   "metadata": {},
   "outputs": [],
   "source": [
    "# We can perform general element-wise operations:\n",
    "\n",
    "## TODO ##\n",
    "elem_wise_sum = # do the element-wise sum v+w here\n",
    "print(elem_wise_sum)\n",
    "print(\"----------\")\n",
    "\n",
    "## TODO ##\n",
    "elem_wise_mult = # do the element-wise multiblication 2*A here\n",
    "print(elem_wise_mult)"
   ]
  },
  {
   "cell_type": "markdown",
   "metadata": {},
   "source": [
    "Do the matrix vector product A $\\cdot$ v. Print out your result and verify that the result is correct. <br> <br>"
   ]
  },
  {
   "cell_type": "code",
   "execution_count": null,
   "metadata": {},
   "outputs": [],
   "source": [
    "# To perform a matrix multiplication, use either np.dot or just the \"@\" symbol:\n",
    "\n",
    "## TODO ##\n",
    "matrix_vector_prod = # do the matrix vector product A*v here\n",
    "print(matrix_vector_prod)"
   ]
  },
  {
   "cell_type": "markdown",
   "metadata": {},
   "source": [
    "Do the matrix matrix product A $\\cdot$ A. Print out your result and verify that the result is correct.\n"
   ]
  },
  {
   "cell_type": "code",
   "execution_count": null,
   "metadata": {},
   "outputs": [],
   "source": [
    "# Two matrices can be multiplied in the same fashion:\n",
    "\n",
    "## TODO ##\n",
    "matrix_matrix_prod = # do the matrix matrix product A*A here\n",
    "print(matrix_matrix_prod)"
   ]
  },
  {
   "cell_type": "markdown",
   "metadata": {},
   "source": [
    "### 0.2: Sampling from a Gaussian\n",
    "Sample 1000 samples from a Gaussian distribution with mean $\\mu = -2$ and standard deviation $\\sigma=0.5$. <br>\n",
    "\n",
    "We also visualize the samples. For this we use matplotlib, a python package for plotting"
   ]
  },
  {
   "cell_type": "code",
   "execution_count": null,
   "metadata": {},
   "outputs": [],
   "source": [
    "# In Machine Learning, it is often necessary to sample from a probability distribution.\n",
    "# To sample from a Gaussian distribution (https://en.wikipedia.org/wiki/Normal_distribution):\n",
    "\n",
    "mu, sigma = -2, 0.5 # mean and standard deviation\n",
    "\n",
    "## TODO ##\n",
    "samples = # do the sampling from the normal distribution here\n",
    "\n",
    "# plot the histogram of the samples\n",
    "count, bins, ignored = plt.hist(samples, 40, density=True)\n",
    "\n",
    "# plot the density function\n",
    "plt.plot(bins, 1/(sigma * np.sqrt(2 * np.pi)) * np.exp( - (bins - mu)**2 / (2 * sigma**2) ),  linewidth=2, color='r')\n",
    "\n",
    "# show the plot\n",
    "plt.show()\n"
   ]
  },
  {
   "cell_type": "markdown",
   "metadata": {},
   "source": [
    "### 0.3: Solving a Linear Equation\n",
    "\n",
    "You are given the linear equation <br>\n",
    "\\begin{align*}\n",
    "Ax=v.\n",
    "\\end{align*} <br>\n",
    "We want to find the vector x. Assume that the matrix A and the vector v are given as in Exercise 1.1.\n",
    "Find the solution for x. Hint: Use the function 'linalg.solve' from numpy."
   ]
  },
  {
   "cell_type": "code",
   "execution_count": null,
   "metadata": {},
   "outputs": [],
   "source": [
    "# To solve the linear equation system A x = v, you may use the np.linalg.solve function. \n",
    "#In other words we can use np.linalg.solve for inverting any matrix which does not stand \n",
    "# alone.\n",
    "\n",
    "## TODO ##\n",
    "x = # solve for x here\n",
    "\n",
    "print(\"Solution: x =\", x)\n",
    "print(\"Test: A@x = {A@x} is the same as v = {v}\")"
   ]
  },
  {
   "cell_type": "markdown",
   "metadata": {},
   "source": [
    "### 0.4: PyTorch\n",
    "\n",
    "PyTorch is strikingly similar to Numpy in terms of its API.\n",
    "While there are small differences (such as using *dim* instead of *axis* to specify a\n",
    "certain dimension), most numpy code can straightforwardly be converted into PyTorch one.\n",
    "\n",
    "The main point of PyTorch is that it allows for automatic differentiation. Whenever\n",
    "you perform some differentiable operation on its *Tensor* objects, the gradient of\n",
    "this operation is automatically tracked. This can be used for (and is at the core of)\n",
    "modern Deep and Reinforcement Learning.\n",
    "\n",
    "Below you find a simple example"
   ]
  },
  {
   "cell_type": "code",
   "execution_count": null,
   "metadata": {},
   "outputs": [],
   "source": [
    "a = torch.tensor([2., 3.], requires_grad=True)\n",
    "b = torch.tensor([6., 4.], requires_grad=True)\n",
    "c = 3*a**3 - b**2\n",
    "objective = c.sum()\n",
    "\n",
    "## TODO ##\n",
    "# perform a backward pass on the objective here. This can be done using the backward() \n",
    "# function\n",
    "# the backward pass will automatically compute the gradients for everything that went\n",
    "# into the objective, such as a, b and c\n",
    "\n",
    "print(f\"Gradient of a: {a.grad}\")\n",
    "print(f\"Gradient of b: {b.grad}\")\n",
    "print(f\"Gradient of c: {c.grad}\")\n"
   ]
  },
  {
   "cell_type": "markdown",
   "metadata": {},
   "source": [
    "### 0.5: PyTorch\n",
    "\n",
    "Now that you are familiar with the way that PyTorch tracks gradients through operations,\n",
    "it is time to fit your first model.\n",
    "For this, we create a torch *module* that represents the quadratic function\n",
    "\\begin{align*}\n",
    "f(x)=w_1x^2+w_2x+w_3\\text{,}\n",
    "\\end{align*}\n",
    "\n",
    "and fit it to a training function\n",
    "\\begin{align*}\n",
    "f(x)=3x^2-2x+5\n",
    "\\end{align*} <br>\n",
    "\n",
    "using Stochastic Gradient Descent and a Mean Squared Error loss."
   ]
  },
  {
   "cell_type": "code",
   "execution_count": null,
   "metadata": {},
   "outputs": [],
   "source": [
    "class QuadraticFunction(torch.nn.Module):\n",
    "    def __init__(self):\n",
    "        super(QuadraticFunction, self).__init__()\n",
    "        self.weights = torch.nn.Parameter(torch.zeros(3))\n",
    "\n",
    "        self.optimizer = SGD(self.parameters(), lr=0.05)\n",
    "        self.loss = MSELoss()  # mean squared error\n",
    "\n",
    "    def forward(self, x: torch.Tensor) -> torch.Tensor:\n",
    "        \"\"\"\n",
    "        Learn a function of the form w1*x**2 + w2*x + w3\n",
    "        \"\"\"\n",
    "        ## TODO ##\n",
    "        # use the weights of the network to represent a quadratic function of the input x.\n",
    "        # you can access the weights with self.weights[0], self.weights[1] and self.weights[2]\n",
    "        prediction =\n",
    "        return prediction\n",
    "\n",
    "    def train_step(self, x: torch.Tensor, target: torch.Tensor):\n",
    "        \"\"\"\n",
    "        Calculate a forward pass using the current parameters, compute the gradients of the loss for these parameters\n",
    "        and make a small update step for each one.\n",
    "        \"\"\"\n",
    "        prediction = self(x)\n",
    "\n",
    "        loss = self.loss(prediction, target)\n",
    "\n",
    "        self.optimizer.zero_grad()\n",
    "        ## TODO ##\n",
    "        # perform a backward step on the loss to compute its gradients\n",
    "        self.optimizer.step()\n",
    "        return loss.item()\n",
    "\n",
    "\n",
    "def target_function(positions: Union[np.ndarray, torch.Tensor]):\n",
    "    targets = 3 * positions ** 2 - 2 * positions + 5\n",
    "    return targets"
   ]
  },
  {
   "cell_type": "code",
   "execution_count": null,
   "metadata": {},
   "outputs": [],
   "source": [
    "def fit_function(quadratic_model: QuadraticFunction) -> List[float]:\n",
    "    data_size = 1000\n",
    "    num_epochs = 10\n",
    "\n",
    "    progress_bar = ProgressBar(num_iterations=num_epochs)\n",
    "\n",
    "    epoch_losses = []\n",
    "    for epoch in range(num_epochs):\n",
    "        # draw data\n",
    "        positions = torch.Tensor(np.random.random(data_size))\n",
    "        targets = target_function(positions)\n",
    "\n",
    "        epoch_loss = 0  # reset loss for logging purposes\n",
    "\n",
    "        for position, target in zip(positions, targets):\n",
    "            loss = quadratic_model.train_step(position, target)\n",
    "            epoch_loss += loss\n",
    "        epoch_loss = epoch_loss / data_size\n",
    "        epoch_losses.append(epoch_loss)\n",
    "        progress_bar(loss=epoch_loss,\n",
    "                     w1=quadratic_model.weights[0].item(),\n",
    "                     w2=quadratic_model.weights[1].item(),\n",
    "                     w3=quadratic_model.weights[2].item())\n",
    "    return epoch_losses\n"
   ]
  },
  {
   "cell_type": "markdown",
   "metadata": {},
   "source": [
    "If you implemented things correctly, you should now be able to fit the model to the ground truth\n",
    "function using the cell below. The cells below that measure the training loss and show a plot\n",
    "of your function next to the ground truth respectively."
   ]
  },
  {
   "cell_type": "code",
   "execution_count": null,
   "metadata": {},
   "outputs": [],
   "source": [
    "quadratic_model = QuadraticFunction()\n",
    "loss_history = fit_function(quadratic_model=quadratic_model)"
   ]
  },
  {
   "cell_type": "code",
   "execution_count": null,
   "metadata": {},
   "outputs": [],
   "source": [
    "def plot_loss(loss_history: List[float]):\n",
    "    plt.plot(range(len(loss_history)), loss_history)\n",
    "    plt.xlabel(\"Epoch\")\n",
    "    plt.yscale(\"log\")\n",
    "    plt.ylabel(\"Loss\")\n",
    "    save_figure(\"loss\")\n",
    "    plt.show()\n",
    "    plt.clf()\n",
    "\n",
    "plot_loss(loss_history=loss_history)"
   ]
  },
  {
   "cell_type": "code",
   "execution_count": null,
   "metadata": {},
   "outputs": [],
   "source": [
    "def plot_fit(quadratic_model: QuadraticFunction):\n",
    "    test_positions = np.linspace(0, 1, 200)\n",
    "    test_targets = target_function(test_positions)\n",
    "    with torch.no_grad():  # perform a forward pass without a computation graph\n",
    "        test_predictions = quadratic_model(torch.Tensor(test_positions)).numpy()\n",
    "\n",
    "    func_eval_fig = plt.figure()\n",
    "    plt.figure(func_eval_fig.number)\n",
    "    plt.plot(test_positions, test_targets, 'r', label='Ground truth')\n",
    "    plt.plot(test_positions, test_predictions, 'b', label='Model prediction')\n",
    "    plt.xlabel(\"x\")\n",
    "    plt.ylabel(\"f(x)\")\n",
    "    plt.legend()\n",
    "    save_figure(\"fit\")\n",
    "    plt.show()\n",
    "    plt.clf()\n",
    "\n",
    "plot_fit(quadratic_model=quadratic_model)"
   ]
  }
 ],
 "metadata": {
  "kernelspec": {
   "display_name": "Python 3",
   "language": "python",
   "name": "python3"
  },
  "language_info": {
   "codemirror_mode": {
    "name": "ipython",
    "version": 3
   },
   "file_extension": ".py",
   "mimetype": "text/x-python",
   "name": "python",
   "nbconvert_exporter": "python",
   "pygments_lexer": "ipython3",
   "version": "3.6.9"
  }
 },
 "nbformat": 4,
 "nbformat_minor": 1
}
