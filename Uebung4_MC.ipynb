{
 "cells": [
  {
   "cell_type": "code",
   "execution_count": null,
   "id": "397ab840",
   "metadata": {
    "pycharm": {
     "name": "#%%\n"
    }
   },
   "outputs": [],
   "source": [
    "import matplotlib.pyplot as plt\n",
    "import numpy as np\n",
    "from ipywidgets import interact_manual, widgets\n",
    "\n",
    "%matplotlib widget"
   ]
  },
  {
   "cell_type": "code",
   "execution_count": null,
   "id": "f2f9a695",
   "metadata": {
    "pycharm": {
     "name": "#%%\n"
    }
   },
   "outputs": [],
   "source": [
    "def f_mean_root(x):\n",
    "    return 1 / np.sqrt(x.shape[1]) * np.sum(x, axis = 1)\n",
    "def f_mean(x):\n",
    "    return 1 / x.shape[1] * np.sum(x, axis = 1)\n",
    "def f(x):\n",
    "    return np.sum(x, axis = 1)\n",
    "def f_sum_cube(x):\n",
    "    return np.sum(x ** 3, axis = 1)\n",
    "def f_cube(x):\n",
    "    return np.prod(x ** 3, axis = 1)\n",
    "\n",
    "\n",
    "f_dict = {\n",
    "    'f with root mean': f_mean_root,\n",
    "    'f with mean': f_mean,\n",
    "    'f': f,\n",
    "    'f_sum_cube': f_sum_cube,\n",
    "    'f_cube': f_cube,\n",
    "}"
   ]
  },
  {
   "cell_type": "code",
   "execution_count": null,
   "id": "4e8d6a75",
   "metadata": {
    "pycharm": {
     "name": "#%%\n"
    }
   },
   "outputs": [],
   "source": [
    "from Uebung4_MonteCarlo import wrapper_monte_carlo_integration\n",
    "\n",
    "fig, ax = plt.subplots()\n",
    "\n",
    "@interact_manual\n",
    "def plot(dim_bounds = widgets.IntRangeSlider(value=[1, 3], min=1, max=50),\n",
    "        func = f_dict.keys()):\n",
    "    ax.clear()\n",
    "    dim_range = np.arange(dim_bounds[0], dim_bounds[1] + 1)\n",
    "    sample_sizes = wrapper_monte_carlo_integration(dim_range, f_dict[func])\n",
    "    ax.plot(dim_range, sample_sizes)"
   ]
  },
  {
   "cell_type": "code",
   "execution_count": null,
   "id": "636bc09e",
   "metadata": {
    "pycharm": {
     "name": "#%%\n"
    }
   },
   "outputs": [],
   "source": []
  }
 ],
 "metadata": {
  "kernelspec": {
   "display_name": "Python 3 (ipykernel)",
   "language": "python",
   "name": "python3"
  },
  "language_info": {
   "codemirror_mode": {
    "name": "ipython",
    "version": 3
   },
   "file_extension": ".py",
   "mimetype": "text/x-python",
   "name": "python",
   "nbconvert_exporter": "python",
   "pygments_lexer": "ipython3",
   "version": "3.10.11"
  },
  "latex_envs": {
   "LaTeX_envs_menu_present": true,
   "autoclose": false,
   "autocomplete": true,
   "bibliofile": "biblio.bib",
   "cite_by": "apalike",
   "current_citInitial": 1,
   "eqLabelWithNumbers": true,
   "eqNumInitial": 1,
   "hotkeys": {
    "equation": "Ctrl-E",
    "itemize": "Ctrl-I"
   },
   "labels_anchors": false,
   "latex_user_defs": false,
   "report_style_numbering": false,
   "user_envs_cfg": false
  },
  "toc": {
   "base_numbering": 1,
   "nav_menu": {},
   "number_sections": true,
   "sideBar": true,
   "skip_h1_title": false,
   "title_cell": "Table of Contents",
   "title_sidebar": "Contents",
   "toc_cell": false,
   "toc_position": {},
   "toc_section_display": true,
   "toc_window_display": false
  },
  "varInspector": {
   "cols": {
    "lenName": 16,
    "lenType": 16,
    "lenVar": 40
   },
   "kernels_config": {
    "python": {
     "delete_cmd_postfix": "",
     "delete_cmd_prefix": "del ",
     "library": "var_list.py",
     "varRefreshCmd": "print(var_dic_list())"
    },
    "r": {
     "delete_cmd_postfix": ") ",
     "delete_cmd_prefix": "rm(",
     "library": "var_list.r",
     "varRefreshCmd": "cat(var_dic_list()) "
    }
   },
   "types_to_exclude": [
    "module",
    "function",
    "builtin_function_or_method",
    "instance",
    "_Feature"
   ],
   "window_display": false
  }
 },
 "nbformat": 4,
 "nbformat_minor": 5
}
