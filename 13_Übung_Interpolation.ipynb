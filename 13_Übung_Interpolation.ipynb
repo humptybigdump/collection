{
 "cells": [
  {
   "attachments": {},
   "cell_type": "markdown",
   "metadata": {},
   "source": [
    "# Geodatenanalyse 1\n",
    "\n",
    "## Übung 13: Interpolationsverfahren - Übung"
   ]
  },
  {
   "attachments": {},
   "cell_type": "markdown",
   "metadata": {},
   "source": [
    "### Übung 1: Deterministische Interpolationsverfahren\n",
    "\n",
    "Folgende Python Packages, bzw. Libraries enthalten verschiedene, nützliche Funktionen für die Interpolation von räumlichen Daten: \n",
    "\n",
    "- scipy.interpolate: Univariate & Multivariate Interpolation, Funktionen für lineare, Spline, Nearest Neighbour und Radiale Basisfunktion Interpolation\n",
    "\n",
    "- scipy.spatial: Delauney Tesselation, Voronoi Diagramme und plotting Funktionen\n",
    "\n",
    "- Inverse Distance Weighting: z.B. über PyGeM (https://mathlab.github.io/PyGeM/index.html), oder andere Funktionen (https://github.com/paulbrodersen/inverse_distance_weighting)\n",
    "\n",
    "In dieser Übung werden wir uns die Funktionen in `scipy` näher anschauen. Als Beispieldatensatz dienen gemessene Grundwasserparameter (Temperatur und Höhe) in Karlsruhe (Menberg et al., 2013). "
   ]
  },
  {
   "attachments": {},
   "cell_type": "markdown",
   "metadata": {},
   "source": [
    "#### Aufgabe 1: scipy.spatial und scipy.interpolate.griddata\n",
    "\n",
    "Ladet zunächst mit Hilfe von pandas die Daten aus der csv-Datei (\"interp_data.csv) als pandas DataFrame ein. \n",
    "\n",
    "Dann wollen wir ein regelmäßiges Grid von Datenpunkten erzeugen, das die Ausgabepunkte der Interpolation darstellt. Definiert dafür zuerst die Ausdehnung des Bereichs mit Hilfe von vier Variablen (z. B. xmin, max, ymin, ymax).\n",
    "\n",
    "Wendet dafür die Funktionen `.min` und `.max` auf die Spalten mit den Rechts- und Hochwerten in dem DataFrame an. Der so definierte Bereich sollte den durch die Messpunkte abgedeckten Bereich umschließen, zuzüglich eines kleinen Puffers an den Rändern. Dies könnt ihr erreichen, indem ihr auf die Maximum- und Minimumwerte einen zusätzlichen kleine Werte dazu addiert, bzw. abzieht.  \n",
    "\n",
    "Fasst die vier Variablen anschließend zu einem Array zusammen (`array = [Wert1, Wert2, Wert3, Wert4]`). Dieser wird für die graphische Darstellung benötigt.  \n",
    "\n",
    "Erstellt dann zwei Arrays für die x- und y-Koordinaten der Gridpunkte. Benutzt dafür die Funktion `np.mgrid[xmin:xmax:xstep, ymin:ymax:ystep]`, und definiert zwei Outputs.  \n",
    "\n",
    "Stellt anschließend die Grid-Punkte mit Hilfe eines Scatteplots graphisch dar, um die räumliche Verteilung zu inspizieren. "
   ]
  },
  {
   "cell_type": "code",
   "execution_count": null,
   "metadata": {},
   "outputs": [],
   "source": [
    "# [1]\n",
    "# benötigte Packages laden\n",
    "\n",
    "# Daten aus csv Datei einlesen \n",
    "\n",
    "\n",
    "# Ausdehnung des Bereichs inklusive Puffer definieren und zusammenfassen\n",
    "\n",
    "\n",
    "# grid erzeugen\n",
    "\n",
    "\n",
    "# scatterplot erzeugen\n"
   ]
  },
  {
   "attachments": {},
   "cell_type": "markdown",
   "metadata": {},
   "source": [
    "Als nächstes wollen wir die Temperaturdaten mit Hilfe der Funktion `scipy.interpolate.griddata()` interpolieren. \n",
    "\n",
    "Als Inputs werden dafür zum Einen die Koordinaten der ursprünglichen Messpunkte als sog. Tuple benötigt. Schreibt dafür die jeweils zusammengehörigen x- und y-Koordinaten in einen gemeinsamen Array (Index [[]]). Um die reinen Zahlenwerte aus einem DataFrame zu extrahieren kann man die Funktion `.values` benutzen, also als `data[[Wert1, Wert2]].values`. \n",
    "\n",
    "Die Interpolationsfunktion `scipy.interpolate.griddata()` benötigt neben diesen Tupeln noch die zu interpolierenden Werte (`data.Parameter.values`) und das Grid (d.h. die beiden outputs von oben), auf dem interpoliert werden soll, als Inputs. \n",
    "\n",
    "`scipy.interpolate.griddata()` unterstützt verschiedene Interpolationsfunktionen, die über den Input \"method=...\" spezifizert werden können: \"nearest\" für Nearest Neighbour, \"linear\" für eine einfache lineare Interpolation, und \"cubic\" für eine kubische Spline-Interpolation.  \n",
    "\n",
    "Definiert drei mit diesen Methoden interpolierte Datensätze und plottet die Ergebnisse zum Vergleich nebeneinander. Zum Plotten von Rasterdaten eignet sich die Funktion `matplotlib.pyplot.imshow()`, die als Inputs das darzustellende Raster (mit `raster.T` transponiert), den Ausgangspunkt (`origin='lower'`) und die Randkoordinaten des Rasters (`extent=area`) benötigt. Als Randkoordinaten könnt ihr hier die im vorherigen Schritt als Koordinaten für die Ausdehnung des Bereichs definierte Variable nutzen. \n",
    "\n",
    "Wie gefallen Euch die Ergebnisse der Interpolation?\n"
   ]
  },
  {
   "cell_type": "code",
   "execution_count": null,
   "metadata": {},
   "outputs": [],
   "source": [
    "# [2]\n",
    "# benötigte Packages laden\n",
    "\n",
    "\n",
    "# ursprüngliche Koordinaten in Array mit Tupeln umwandeln\n",
    "\n",
    "\n",
    "# mit griddata drei interpolierte Datensätze erzeugen\n",
    "\n",
    "\n",
    "#  Abbildung mit 3 subplots definieren\n"
   ]
  },
  {
   "attachments": {},
   "cell_type": "markdown",
   "metadata": {},
   "source": [
    "#### Aufgabe 2: scipy.interpolate.rbf\n",
    "\n",
    "Neben den Interpolationsmethoden oben, gibt es in `scipy` auch verschiedenen Möglichkeiten zur Interpolation mit Radialen Basisfunktionen (RBFs). Die default-Einstellung von `scipy.interpolate.Rbf()` ist dabei eine Multi-quadratische Funktion, die exakt durch die Stützpunkte geht (exakte Interpolation). \n",
    "\n",
    "Definiert nun in dem nächsten Skript zuerst ein Interpolationsobjekt mit Hilfe von `scipy.interpolate.Rdf()`, mit den x- und y-Koordinaten Eurer Messpunkte, sowie den Messwerten als Inputs (`(x-Werte, y-Werte, Messwerte)`). \n",
    "\n",
    "Wendet dieses Interpolationsobjekt dann auf die x- und y-Koordinaten des Grids von oben an (`object(x-grid, y-grid)`), und visualisiert anschließend die Ergebnisse. \n",
    "\n",
    "Zum visuellen Vergleich der gemessenen und interpolierten Werte könnt ihr euch in der gleichen Abbildung auch die Messwerte darstellen lassen (als Scatterplot mit den Messwerten als Farbe der Punkte,`c=data.Messwerte`). "
   ]
  },
  {
   "cell_type": "code",
   "execution_count": null,
   "metadata": {},
   "outputs": [],
   "source": [
    "# [3]\n",
    "# benötigte Packages laden\n",
    "\n",
    "\n",
    "# Interpolationsobjekt erstellen\n",
    "\n",
    "\n",
    "# Interpolationsobjekt anwenden \n",
    "\n",
    "\n",
    "# Abbildung mit imshow und scatter erstellen \n",
    "\n"
   ]
  },
  {
   "cell_type": "markdown",
   "metadata": {},
   "source": [
    "Da die gemessenen Grundwassertemperaturen sicherlich mit gewissen Messfehlern behaftet sind, ist eine exakte Interpolation der Werte nicht unbedingt sinvoll. Mit der Angabe des Arguments `smooth=...` und einem beliebigen Werten > 0 in der Funktion `scipy.interpolate.Rbf()` geht die Interpolation nicht mehr exakt durch die Messpunkte. Damit könnt Ihr das erzeugte Bild der Grundwassertemperaturen etwas glätten.\n",
    "\n",
    "Ergänzt eurer Skript von von oben mit dem entsprechenden Argument, und probiert verschiedenene Werte für `smooth=...` aus. "
   ]
  },
  {
   "cell_type": "code",
   "execution_count": null,
   "metadata": {},
   "outputs": [],
   "source": [
    "# [4] \n",
    "# wie [3] mit ergänztem Attribut in Interpolation\n",
    "\n",
    "\n"
   ]
  },
  {
   "attachments": {},
   "cell_type": "markdown",
   "metadata": {},
   "source": [
    "### Übung 2: Stochastische Interpolationsverfahren - Kriging\n",
    "\n",
    " Folgende Python Packages, bzw. Libraries enthalten verschiedene, nützliche Funktionen für die Interpolation von räumlichen Daten mit Hilfe von Kriging: \n",
    " \n",
    " - SciKit GStat: bietet detaillierte Möglichkeiten zur Analyse der Variogramme mit verschiedenen Modellen, allerdings nur für Ordinary Kriging (d. h. Daten ohne Trend oder drift) https://scikit-gstat.readthedocs.io/en/latest/install.html#conda-forge\n",
    " \n",
    " - PyKrige: beinhaltete eine Implementierung von Ordinary und Universal Kriging (für Daten mit Trend/Drift), dafür aber weniger Funktionalität für eine detaillierte Variogrammanalyse https://geostat-framework.readthedocs.io/projects/pykrige/en/stable/index.html\n",
    "\n",
    " \n",
    "In dieser Übung schauen wir uns die Funktionen in SciKit GStat genauer an. Installiert dafür das Package in Euer GDA Environment über den Befehl: `conda install -c conda-forge scikit-gstat`"
   ]
  },
  {
   "attachments": {},
   "cell_type": "markdown",
   "metadata": {},
   "source": [
    "Erstellt zunächst mit `skgstat.Variogram()` eine Visualisierung der Semivarianz. \n",
    "\n",
    "Erzeugt dafür ein Variogram-Objekt mit der Funktion `skgstat.Variogram()`. Als Inputs werden die Koordinaten der Daten als Array mit der Dimension (m, n), sowie die Messwerte benötigt. Hinweis: mit `DataFrame[...].values` und den entsprechenden Indizes in der eckigen Klammer könnt Ihr die Werte als Arrays aus dem Datensatz extrahieren. \n",
    "\n",
    "Die graphische Darstellung erfolgt mit `VariogramObjekt.plot()` (Hinweis: setzt an das Ende dieser Zeile ein \";\"). \n",
    "\n",
    "Je nach Rechenleistung Eures PCs kann die Ausführung einen Augenblick dauern. "
   ]
  },
  {
   "cell_type": "code",
   "execution_count": null,
   "metadata": {},
   "outputs": [],
   "source": [
    "# [5]\n",
    "# benötigte Packages einladen\n",
    "\n",
    "# Variogrammobjekt erzeugen\n",
    "\n",
    "\n",
    "# Variogrammobjekt plotten\n"
   ]
  },
  {
   "attachments": {},
   "cell_type": "markdown",
   "metadata": {},
   "source": [
    "Am Histogram ist nun zu erkennen, dass Werte im Bereich von Lags über 8.000 nicht gut durch die Daten unterstützt werden. Daher sollten wir die Größe der berücksichtigten Lags entsprechend reduzieren: `V-Objekt.maxlag = 8000`. \n",
    "\n",
    "Da wir über 90 Messwerte haben können wir außerdem die Anzahl der Lag-Klassen etwas erhöhen: `V-Objekt.n_lags=15`. \n",
    "\n",
    "Lasst Euch anschließend das veränderte Variogram anzeigen und vergleicht es mit dem von oben. "
   ]
  },
  {
   "cell_type": "code",
   "execution_count": null,
   "metadata": {},
   "outputs": [],
   "source": [
    "# [6]\n",
    "# maxlag und nlag des Variogrammobjekts anpassen\n",
    "\n",
    "\n",
    "# Variogrammobjekt plotten\n"
   ]
  },
  {
   "attachments": {},
   "cell_type": "markdown",
   "metadata": {},
   "source": [
    "Diese Anpassung sieht nun allerdings besonders im Bereich der kurzen Distanzen (niedriege Lags) visuell nicht sehr überzeugend aus. Gerade dieser Bereich ist jedoch wichtig für die Bestimmung der Gewichte für das Kriging. \n",
    "\n",
    "Wenn nicht anders definiert nimmt `skgstat.Variogram()` ein sphärisches Varianzmodell an. Erstellt neben diesem noch zwei weitere Variogrammobjekte mit anderen Modellen (\"exponential\" und \"gaussian\") über die Angabe von `V-Objekt.model ='name'` (die anderen Angaben zu den Modellen von oben bleiben davon unbeeinflusst). \n",
    "\n",
    "Die Variogram-Klasse hat außerdem eine eingebaute Funktionalität um den RMSE (`rmse`) der Anpassung zu berechnen: `V-Objekt.rmse`. Lasst Euch damit die Fehler der Anpassungen ausgeben.\n",
    "\n",
    "Plottet die verschiedenen Anpassungen zum Vergleich nebeneinander (`matplotlib.subplots()`) und vergleicht den visuellen Eindruck der Anpassung mit den berechneten RMSE-Werten. "
   ]
  },
  {
   "cell_type": "code",
   "execution_count": null,
   "metadata": {},
   "outputs": [],
   "source": [
    "# [7]\n",
    "# Figure mit subplots erzeugen\n",
    "\n"
   ]
  },
  {
   "attachments": {},
   "cell_type": "markdown",
   "metadata": {},
   "source": [
    "Wählt nun das passenste Variogramm-Modell aus und führt ein Ordinary Kriging (`skgstat.OrdinaryKriging()`) durch. Dafür sind folgende Schritte nötig: \n",
    "\n",
    "- für das Variogramm-Objekt von oben das gewünschte Modell angeben (`V-Objekt.model ='name'`). \n",
    "\n",
    "- Interpolationsobjekt definieren: `OrdinaryKriging(Variogramm, min_points=2, max_points=8)`. Die Auswahl der minimal und maximal berücksichtigten Anzahl an Nachbarpunkten orientiert sich an Anzahl und Abstand zwischen den Messpunkten (eine Art Optimierungsparameter)\n",
    "\n",
    "- gleichmäßiges Grid mit den zu interpolierenden Koordinaten erstellen (siehe letzte Übung)\n",
    "\n",
    "- Die `.transform()` Funktion auf das Interpolationsobjekt anwenden: Die x- und y-Koordinaten werden dabei als einzelne 1D Numpy Arrays benötigt. Erzeugen könnt Ihr diese z.B. über `array.flatten()` \n",
    "\n",
    "- Ergebnis mit `plt.imshow()` visualisieren. Dafür müsst Ihr den eben erzeugten 1-DArray mit den interpolierten Werten wieder umstruktieren, d.h. in seine ursprüngliche Form bringen, z.B. mit `array.reshape(dimensions)`\n",
    "\n",
    "- plottet auch die Lage der Messpunkte zu dem interpolierten Raster (siehe letzte Übung)."
   ]
  },
  {
   "cell_type": "code",
   "execution_count": null,
   "metadata": {},
   "outputs": [],
   "source": [
    "# [8]\n",
    "# benötigte Packages einladen\n",
    "\n",
    "\n",
    "# Variogramm-Model für das Variogrammobjekt von oben angeben\n",
    "\n",
    "\n",
    "# Interpolationsobjekt erzeugen\n",
    "\n",
    "\n",
    "# Grid für die Interpolation erstellen\n",
    "\n",
    "\n",
    "# 1D Arrays daraus erzeugen und transform anwenden\n",
    "\n",
    "\n",
    "# die mit transform erzeugte Variable auf 2D umstrukturieren \n",
    "\n",
    "\n",
    "# Abbildung mit imshow erstellen\n"
   ]
  },
  {
   "attachments": {},
   "cell_type": "markdown",
   "metadata": {},
   "source": [
    "## Ende\n",
    "\n",
    "### Referenzen\n",
    "\n",
    "Menberg et al. (2013): Long-term evolution of anthropogenic heat fluxes into a subsurface urban heat island, Environ. Sci. Technol. 47(17) (2013) 9747-9755\n",
    "\n",
    "https://colab.research.google.com/github/agile-geoscience/xlines/blob/master/notebooks/11_Gridding_map_data.ipynb\n",
    "\n",
    "https://mmaelicke.github.io/scikit-gstat/tutorials/01_getting_started.html"
   ]
  }
 ],
 "metadata": {
  "kernelspec": {
   "display_name": "GDA1",
   "language": "python",
   "name": "python3"
  },
  "language_info": {
   "codemirror_mode": {
    "name": "ipython",
    "version": 3
   },
   "file_extension": ".py",
   "mimetype": "text/x-python",
   "name": "python",
   "nbconvert_exporter": "python",
   "pygments_lexer": "ipython3",
   "version": "3.8.8 (default, Apr 13 2021, 15:08:03) [MSC v.1916 64 bit (AMD64)]"
  },
  "vscode": {
   "interpreter": {
    "hash": "348daff44e8d26393a409574f2e4514257a97c14ec71abb995e14a187e3537bb"
   }
  }
 },
 "nbformat": 4,
 "nbformat_minor": 4
}
