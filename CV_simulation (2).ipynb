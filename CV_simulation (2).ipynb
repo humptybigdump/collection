{
  "nbformat": 4,
  "nbformat_minor": 0,
  "metadata": {
    "colab": {
      "name": "CV_simulation.ipynb",
      "provenance": []
    },
    "kernelspec": {
      "name": "python3",
      "display_name": "Python 3"
    }
  },
  "cells": [
    {
      "cell_type": "markdown",
      "metadata": {
        "id": "qunXjNNcp0Se"
      },
      "source": [
        "# Simulation einer CV Messung\n",
        "Ihr müsst eine \"Zelle\" ausführen. Hierzu einfach den kleinen play button drücken oder Umschalt+Enter wen ihr in einen Block klickt unten könnt Ihr dann Werte einsetzen\n",
        "\n",
        "# Lizenz\n",
        "This code is translated from Matlab code by Peter M. Attia see https://petermattia.com/cyclic_voltammetry_simulation/code.html\n",
        "\n",
        "MIT License\n",
        "\n",
        "Copyright (c) 2020 Helge S. Stein\n",
        "\n",
        "Permission is hereby granted, free of charge, to any person obtaining a copy\n",
        "of this software and associated documentation files (the \"Software\"), to deal\n",
        "in the Software without restriction, including without limitation the rights\n",
        "to use, copy, modify, merge, publish, distribute, sublicense, and/or sell\n",
        "copies of the Software, and to permit persons to whom the Software is\n",
        "furnished to do so, subject to the following conditions:\n",
        "\n",
        "The above copyright notice and this permission notice shall be included in all\n",
        "copies or substantial portions of the Software.\n",
        "\n",
        "THE SOFTWARE IS PROVIDED \"AS IS\", WITHOUT WARRANTY OF ANY KIND, EXPRESS OR\n",
        "IMPLIED, INCLUDING BUT NOT LIMITED TO THE WARRANTIES OF MERCHANTABILITY,\n",
        "FITNESS FOR A PARTICULAR PURPOSE AND NONINFRINGEMENT. IN NO EVENT SHALL THE\n",
        "AUTHORS OR COPYRIGHT HOLDERS BE LIABLE FOR ANY CLAIM, DAMAGES OR OTHER\n",
        "LIABILITY, WHETHER IN AN ACTION OF CONTRACT, TORT OR OTHERWISE, ARISING FROM,\n",
        "OUT OF OR IN CONNECTION WITH THE SOFTWARE OR THE USE OR OTHER DEALINGS IN THE\n",
        "SOFTWARE.\n"
      ]
    },
    {
      "cell_type": "code",
      "metadata": {
        "id": "rVctIe4OnWWo"
      },
      "source": [
        "import matplotlib.pyplot as plt\n",
        "import numpy as np\n",
        "\n",
        "def sim_cv(conf, L=1000, DM=0.45):\n",
        "    F = 96485  # C/mol, Faraday Konstante\n",
        "    R = 8.3145  # J/mol-K, Gas Konstante\n",
        "\n",
        "    # L number of iterations per t_k (pg 790). Default = 500\n",
        "    # DM model diffusion coefficient (pg 788). Default = 0.45\n",
        "\n",
        "    # normalized faraday constant\n",
        "    f = F / (R * conf['T'])  # 1/V, Normalisierte Faraday Konstante\n",
        "\n",
        "    # derived constants\n",
        "    tk = 2 * (conf['etai'] - conf['etaf']) / conf['v']  # charakteristische Zeitskala siehe Bard Faulkner Buch\n",
        "    # totle Zeit\n",
        "    Dt = tk / L  # Eqn B.1.10, pg 790\n",
        "    Dx = np.sqrt(conf['D'] * Dt / DM)  # cm, delta x Eqn B.1.13, pg 791\n",
        "    j = np.ceil(4.2 * L ** 0.5) + 5  # number of boxes pg 792-793. If L~200, j=65\n",
        "\n",
        "    # reversibility parameters\n",
        "    ktk = conf['kc'] * tk  # dimensionless kinetic parameter (Eqn B.3.7, pg 797)\n",
        "    km = ktk / L  # normalized dimensionless kinetic parameter (see bottom of pg 797)\n",
        "    Lambda = conf['k0'] / (\n",
        "            conf['D'] * f * conf['v']) ** 0.5  # dimensionless reversibility parameter (Eqn 6.4.4, pg. 236-239)\n",
        "\n",
        "    # chem reversibility warning\n",
        "    if km > 0.1:\n",
        "        print('k_c*t_k/l equals {} which exceeds the upper limit of 0.1 (see B&F, pg 797)'.format(km))\n",
        "\n",
        "    # pre initialization\n",
        "    k = np.array([i for i in range(L)])  # time index vector\n",
        "    t = Dt * k  # time vector\n",
        "    eta1 = conf['etai'] - conf['v'] * t  # overpotential vector, negative scan\n",
        "    eta2 = conf['etaf'] + conf['v'] * t  # overpotential vector, positive scan\n",
        "    eta = np.append(eta1[eta1 > conf['etaf']], eta2[eta2 <= conf['etai']])  # overpotential scan, both directions\n",
        "\n",
        "    O = conf['C'] * np.ones([L + 1, int(j)])  # mol/cm^3, concentration of O\n",
        "    R = np.zeros([L + 1, int(j)])  # mol/cm^3, concentration of R\n",
        "    JO = np.zeros(L + 1)  # mol/cm^2-s, flux of O at the surface\n",
        "\n",
        "    Enorm = eta * f  # normalized overpotential\n",
        "    kf = conf['k0'] * np.exp(-conf['alpha'] * conf['n'] * Enorm)  # cm/s, fwd rate constant (pg 799)\n",
        "    kb = conf['k0'] * np.exp((1 - conf['alpha']) * conf['n'] * Enorm)  # cm/s, rev rate constant (pg 799)\n",
        "\n",
        "    # START SIMULATION %%\n",
        "    # i1 = time index. i2 = distance index\n",
        "    for i1 in range(L):  # !1:l\n",
        "        # Update bulk concentrations of O and R\n",
        "        for i2 in range(int(j) - 1):  # !i2  2:j-1\n",
        "            O[i1 + 1, i2] = O[i1, i2] + DM * (O[i1, i2 + 1] + O[i1, i2 - 1] - 2 * O[i1, i2])  #\n",
        "            R[i1 + 1, i2] = R[i1, i2] + DM * (R[i1, i2 + 1] + R[i1, i2 - 1] - 2 * R[i1, i2]) - km * R[i1, i2]\n",
        "        # Update flux\n",
        "        JO[i1 + 1] = (kf[i1 + 1] * O[i1 + 1, 2] - kb[i1 + 1] * R[i1 + 1, 2]) / (\n",
        "                1 + Dx / conf['D'] * (kf[i1 + 1] + kb[i1 + 1]))  #\n",
        "        # Update surface concentrations\n",
        "        O[i1 + 1, 1] = O[i1 + 1, 2] - JO[i1 + 1] * (Dx / conf['D'])  #\n",
        "        R[i1 + 1, 1] = R[i1 + 1, 2] + JO[i1 + 1] * (Dx / conf['D']) - km * R[i1 + 1, 1]  #\n",
        "\n",
        "    # Calculate current density, Z, from flux of O\n",
        "    Z = -conf['n'] * F * JO / 10.  # A/m^2 -> mA/cm^2, current density\n",
        "    return eta, Z, t"
      ],
      "execution_count": 1,
      "outputs": []
    },
    {
      "cell_type": "code",
      "metadata": {
        "id": "hJmF3bMJnuee",
        "outputId": "eea6251b-cf37-4ae9-b998-94b67f0442f6",
        "colab": {
          "base_uri": "https://localhost:8080/",
          "height": 283
        }
      },
      "source": [
        "#This is some example curve that you can simulate\n",
        "\n",
        "configuration = {'C': 2.0,  # mol/cm^3, initial concentration of O. Default = 1.0\n",
        "        'D': 1E-5,  # cm^2/s, O & R diffusion coefficient. Default = 1E-5\n",
        "        'etai': +0.2,  # V, initial overpotential (relative to redox potential). Default = +0.2\n",
        "        'etaf': -0.2,  # V, final overpotential (relative to redox potential). Default = -0.2\n",
        "        'v': 0.1,  # V/s, sweep rate. Default = 1E-3\n",
        "        'n': 1.0,  # number of electrons transfered. Default = 1\n",
        "        'alpha': 0.5,  # dimensionless charge-transfer coefficient. Default = 0.5\n",
        "        'k0': 1,  # cm/s, electrochemical rate constant. Default = 1E-2\n",
        "        'kc': 1E-9,  # 1/s, chemical rate constant. Default = 1E-3\n",
        "        'T': 298.15,  # K, temperature. Default = 298.15\n",
        "        'offset': 0.01\n",
        "        }\n",
        "\n",
        "\n",
        "#this simultes one CV sweep\n",
        "potential,current,time = sim_cv(configuration)\n",
        "plt.plot(potential,current)\n",
        "\n",
        "#This is some example curve that you can simulate\n",
        "\n",
        "configuration = {'C': 2.0,  # mol/cm^3, initial concentration of O. Default = 1.0\n",
        "        'D': 1E-5,  # cm^2/s, O & R diffusion coefficient. Default = 1E-5\n",
        "        'etai': +0.2,  # V, initial overpotential (relative to redox potential). Default = +0.2\n",
        "        'etaf': -0.2,  # V, final overpotential (relative to redox potential). Default = -0.2\n",
        "        'v': 0.01,  # V/s, sweep rate. Default = 1E-3\n",
        "        'n': 1.0,  # number of electrons transfered. Default = 1\n",
        "        'alpha': 0.5,  # dimensionless charge-transfer coefficient. Default = 0.5\n",
        "        'k0': 1,  # cm/s, electrochemical rate constant. Default = 1E-2\n",
        "        'kc': 1E-9,  # 1/s, chemical rate constant. Default = 1E-3\n",
        "        'T': 298.15,  # K, temperature. Default = 298.15\n",
        "        'offset': 0.01\n",
        "        }\n",
        "\n",
        "\n",
        "#this simultes one CV sweep\n",
        "potential,current,time = sim_cv(configuration)\n",
        "plt.plot(potential,current)\n",
        "\n",
        "configuration = {'C': 2.0,  # mol/cm^3, initial concentration of O. Default = 1.0\n",
        "        'D': 1E-5,  # cm^2/s, O & R diffusion coefficient. Default = 1E-5\n",
        "        'etai': +0.2,  # V, initial overpotential (relative to redox potential). Default = +0.2\n",
        "        'etaf': -0.2,  # V, final overpotential (relative to redox potential). Default = -0.2\n",
        "        'v': 0.001,  # V/s, sweep rate. Default = 1E-3\n",
        "        'n': 1.0,  # number of electrons transfered. Default = 1\n",
        "        'alpha': 0.5,  # dimensionless charge-transfer coefficient. Default = 0.5\n",
        "        'k0': 1,  # cm/s, electrochemical rate constant. Default = 1E-2\n",
        "        'kc': 1E-9,  # 1/s, chemical rate constant. Default = 1E-3\n",
        "        'T': 298.15,  # K, temperature. Default = 298.15\n",
        "        'offset': 0.01\n",
        "        }\n",
        "\n",
        "\n",
        "#this simultes one CV sweep\n",
        "potential,current,time = sim_cv(configuration)\n",
        "\n",
        "plt.plot(potential,current)\n",
        "_ = plt.xlabel('Potential $[V vs. Redox]$')\n",
        "_ = plt.ylabel('Current Densitiy $[mA/cm^2]$')"
      ],
      "execution_count": 2,
      "outputs": [
        {
          "output_type": "display_data",
          "data": {
            "image/png": "[encoded data removed]",
            "text/plain": [
              "<Figure size 432x288 with 1 Axes>"
            ]
          },
          "metadata": {
            "tags": [],
            "needs_background": "light"
          }
        }
      ]
    },
    {
      "cell_type": "code",
      "metadata": {
        "id": "HVKTI0Y3orTC"
      },
      "source": [
        ""
      ],
      "execution_count": null,
      "outputs": []
    }
  ]
}