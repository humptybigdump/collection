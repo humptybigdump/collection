{
 "cells": [
  {
   "cell_type": "markdown",
   "id": "c9fb469b",
   "metadata": {},
   "source": [
    "<img src=\"KITlogo_1c_deutsch-eps-converted-to.pdf\" width=\"200\" height=\"200\" align=\"right\"/>\n",
    "\n",
    "##### Lehrstuhl für Analytics and Statistics (IOR)\n",
    "##### Prof. Dr. Oliver Grothe\n",
    "##### WS 2021"
   ]
  },
  {
   "cell_type": "markdown",
   "id": "bcf795f3",
   "metadata": {},
   "source": [
    "# Analyse multivariater Daten\n",
    "## Übung 12\n"
   ]
  },
  {
   "cell_type": "code",
   "execution_count": 10,
   "id": "8da1fb2b",
   "metadata": {},
   "outputs": [],
   "source": [
    "# imports\n",
    "import pandas as pd # data structures\n",
    "import numpy as np # large, multi-dimensional arrays and matrices\n",
    "import matplotlib.pyplot as plt # plotting library\n",
    "from mpl_toolkits.mplot3d import Axes3D # 3d plots\n",
    "\n",
    "import statsmodels.api as sm \n",
    "import statsmodels.formula.api as smf\n",
    "import seaborn as sns\n",
    "\n",
    "from sklearn.linear_model import LinearRegression\n",
    "\n",
    "\n",
    "%matplotlib notebook"
   ]
  },
  {
   "cell_type": "code",
   "execution_count": null,
   "id": "67423fc9",
   "metadata": {},
   "outputs": [],
   "source": []
  },
  {
   "cell_type": "markdown",
   "id": "3709ad28",
   "metadata": {},
   "source": [
    " Daten aus Skript"
   ]
  },
  {
   "cell_type": "code",
   "execution_count": 56,
   "id": "1d695307",
   "metadata": {},
   "outputs": [
    {
     "data": {
      "text/plain": [
       "array([[   3, 2400,    1,    0],\n",
       "       [   2, 2750,    1,    1],\n",
       "       [   3, 2100,    0,    1],\n",
       "       [   5, 2510,    0,    1],\n",
       "       [   7, 2820,    1,    0],\n",
       "       [   1, 2450,    1,    0],\n",
       "       [   4, 2600,    1,    1],\n",
       "       [   4, 2500,    1,    0],\n",
       "       [   5, 2500,    1,    1],\n",
       "       [   4, 2640,    0,    1],\n",
       "       [   8, 2250,    0,    1],\n",
       "       [   2, 2900,    1,    1],\n",
       "       [   6, 2800,    0,    0],\n",
       "       [   1, 2000,    1,    1],\n",
       "       [   1, 3000,    1,    0],\n",
       "       [   4, 1800,    0,    0],\n",
       "       [   3, 2380,    1,    1],\n",
       "       [   4, 2345,    1,    1],\n",
       "       [  11, 1970,    0,    0],\n",
       "       [   3, 2190,    0,    0]])"
      ]
     },
     "execution_count": 56,
     "metadata": {},
     "output_type": "execute_result"
    }
   ],
   "source": [
    "A=np.array([[3,2400,1,0],[2, 2750, 1, 1 ],[3, 2100, 0, 1],[5, 2510, 0, 1 ],[7, 2820, 1, 0 ],[1, 2450, 1, 0 ],[4, 2600, 1, 1 ],[4, 2500, 1, 0 ],[5, 2500, 1, 1 ],[4, 2640, 0, 1 ],[8, 2250, 0, 1 ],[2, 2900, 1, 1 ],[6, 2800, 0, 0 ],[1 ,2000, 1, 1 ],[1, 3000, 1, 0 ],[4, 1800, 0, 0 ],[3, 2380, 1, 1 ],[4, 2345, 1, 1],[11, 1970, 0, 0 ],[3, 2190, 0, 0 ]])\n",
    "A\n",
    "c=np.array([1,1,1,0,0,1,1,1,1,1,0,1,0,1,1,0,1,1,0,1])\n",
    "A"
   ]
  },
  {
   "cell_type": "code",
   "execution_count": 57,
   "id": "bdd9a1f6",
   "metadata": {},
   "outputs": [
    {
     "data": {
      "text/plain": [
       "array([[   5, 2510,    0,    1],\n",
       "       [   7, 2820,    1,    0],\n",
       "       [   8, 2250,    0,    1],\n",
       "       [   6, 2800,    0,    0],\n",
       "       [   4, 1800,    0,    0],\n",
       "       [  11, 1970,    0,    0]])"
      ]
     },
     "execution_count": 57,
     "metadata": {},
     "output_type": "execute_result"
    }
   ],
   "source": [
    "select=np.where(c==1,True,False)\n",
    "group1=A[select]\n",
    "group1\n",
    "select1=np.where(c==0,True,False)\n",
    "group2=A[select1]\n",
    "group2\n"
   ]
  },
  {
   "cell_type": "code",
   "execution_count": 58,
   "id": "0ee12341",
   "metadata": {},
   "outputs": [],
   "source": [
    "S_1=np.cov(group1,rowvar=False)\n",
    "S_2=np.cov(group2,rowvar=False)\n",
    "n_1=group1.shape[0]\n",
    "n_2=group2.shape[0]"
   ]
  },
  {
   "cell_type": "code",
   "execution_count": 59,
   "id": "0036e00b",
   "metadata": {},
   "outputs": [],
   "source": [
    "W=n_1*S_1+n_2*S_2"
   ]
  },
  {
   "cell_type": "code",
   "execution_count": 60,
   "id": "a2155907",
   "metadata": {},
   "outputs": [
    {
     "data": {
      "text/plain": [
       "array([6.83333333e+00, 2.35833333e+03, 1.66666667e-01, 3.33333333e-01])"
      ]
     },
     "execution_count": 60,
     "metadata": {},
     "output_type": "execute_result"
    }
   ],
   "source": [
    "x_queer1=np.mean(group1,axis=0)\n",
    "x_queer2=np.mean(group2,axis=0)\n",
    "x_queer2"
   ]
  },
  {
   "cell_type": "code",
   "execution_count": 61,
   "id": "85a662d0",
   "metadata": {},
   "outputs": [
    {
     "data": {
      "text/plain": [
       "array([ 6.62149813e-02,  7.61181791e-05, -1.87183985e-01, -9.92428384e-02])"
      ]
     },
     "execution_count": 61,
     "metadata": {},
     "output_type": "execute_result"
    }
   ],
   "source": [
    "d=np.dot(np.linalg.inv(W),x_queer2-x_queer1)\n",
    "d"
   ]
  },
  {
   "cell_type": "code",
   "execution_count": null,
   "id": "65295c18",
   "metadata": {},
   "outputs": [],
   "source": []
  }
 ],
 "metadata": {
  "kernelspec": {
   "display_name": "Python 3",
   "language": "python",
   "name": "python3"
  },
  "language_info": {
   "codemirror_mode": {
    "name": "ipython",
    "version": 3
   },
   "file_extension": ".py",
   "mimetype": "text/x-python",
   "name": "python",
   "nbconvert_exporter": "python",
   "pygments_lexer": "ipython3",
   "version": "3.9.4"
  }
 },
 "nbformat": 4,
 "nbformat_minor": 5
}
