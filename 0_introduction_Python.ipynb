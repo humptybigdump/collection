{
 "cells": [
  {
   "cell_type": "markdown",
   "metadata": {},
   "source": [
    "# Introduction to Python"
   ]
  },
  {
   "cell_type": "markdown",
   "metadata": {},
   "source": [
    "This jupyter notebook is a quick introduction to Python and how to use jupyter notebooks. First of all, you need to install Python, for which we recommend to install [Anaconda](https://www.anaconda.com/distribution/). \n",
    "\n",
    "To modify jupyter notebook files and do the Python exercises, you can decide to either use \n",
    "\n",
    "1. [Jupyter Notebook](https://jupyter.org/install.html) or\n",
    "\n",
    "2. [JupyterLab](https://jupyter.org/install.html)\n",
    "\n",
    "After you open Jupyter Notebook or JupyterLab you have to navigate to the folder that contains the .ipynb files. "
   ]
  },
  {
   "cell_type": "markdown",
   "metadata": {},
   "source": [
    "## Python "
   ]
  },
  {
   "cell_type": "markdown",
   "metadata": {},
   "source": [
    "Python is a high-level, general-purpose programming language and it is open source! \n",
    "\n",
    "When you start with a Python script there are some routines and functions you can immediatelly use, for example the `print() ` comand. In order to execute the code just click on the cell with the Python code and then press `Shift + Enter`:"
   ]
  },
  {
   "cell_type": "code",
   "execution_count": 1,
   "metadata": {},
   "outputs": [
    {
     "name": "stdout",
     "output_type": "stream",
     "text": [
      "Hello world\n"
     ]
    }
   ],
   "source": [
    "print(\"Hello world\")"
   ]
  },
  {
   "cell_type": "markdown",
   "metadata": {},
   "source": [
    "### Variables\n",
    "In contrast to low-level languages like `C` or `C++`, Python doesn't need explicit type declarations for variables."
   ]
  },
  {
   "cell_type": "code",
   "execution_count": 2,
   "metadata": {},
   "outputs": [],
   "source": [
    "a = 8\n",
    "b = 'three'\n",
    "c = 15.3"
   ]
  },
  {
   "cell_type": "markdown",
   "metadata": {},
   "source": [
    "With the routine `type()` we can check the variable type."
   ]
  },
  {
   "cell_type": "code",
   "execution_count": 3,
   "metadata": {},
   "outputs": [
    {
     "data": {
      "text/plain": [
       "int"
      ]
     },
     "execution_count": 3,
     "metadata": {},
     "output_type": "execute_result"
    }
   ],
   "source": [
    "type(a)"
   ]
  },
  {
   "cell_type": "code",
   "execution_count": 4,
   "metadata": {},
   "outputs": [
    {
     "data": {
      "text/plain": [
       "str"
      ]
     },
     "execution_count": 4,
     "metadata": {},
     "output_type": "execute_result"
    }
   ],
   "source": [
    "type(b)"
   ]
  },
  {
   "cell_type": "code",
   "execution_count": 5,
   "metadata": {},
   "outputs": [
    {
     "data": {
      "text/plain": [
       "float"
      ]
     },
     "execution_count": 5,
     "metadata": {},
     "output_type": "execute_result"
    }
   ],
   "source": [
    "type(c)"
   ]
  },
  {
   "cell_type": "markdown",
   "metadata": {},
   "source": [
    "### Arrays, and zero-indexing"
   ]
  },
  {
   "cell_type": "markdown",
   "metadata": {},
   "source": [
    "Python offers many ways of collecting, for instance arrays:"
   ]
  },
  {
   "cell_type": "code",
   "execution_count": 6,
   "metadata": {},
   "outputs": [],
   "source": [
    "test_array = [1, 2, 3, 4, 5]"
   ]
  },
  {
   "cell_type": "markdown",
   "metadata": {},
   "source": [
    "The elements of the array are (implicitly) numbered; each element corresponds to an index. To get one element of this array, we can use the square brackets `[]` and the index of the element within the array. Let's now try to access the first element of the array; intuitively, this would be:"
   ]
  },
  {
   "cell_type": "code",
   "execution_count": 7,
   "metadata": {},
   "outputs": [
    {
     "data": {
      "text/plain": [
       "2"
      ]
     },
     "execution_count": 7,
     "metadata": {},
     "output_type": "execute_result"
    }
   ],
   "source": [
    "test_array[1]"
   ]
  },
  {
   "cell_type": "markdown",
   "metadata": {},
   "source": [
    "But wait! Why do we get the element with the value 2? \n",
    "\n",
    "Well, because Python uses a **zero-based index**, meaning that the first element has index 0:"
   ]
  },
  {
   "cell_type": "code",
   "execution_count": 8,
   "metadata": {},
   "outputs": [
    {
     "data": {
      "text/plain": [
       "1"
      ]
     },
     "execution_count": 8,
     "metadata": {},
     "output_type": "execute_result"
    }
   ],
   "source": [
    "test_array[0]"
   ]
  },
  {
   "cell_type": "markdown",
   "metadata": {},
   "source": [
    "This is quite different - say - from MATLAB, where indices of an array start with 1. Let's now try to access the last element of `test_array`, which contains 5 entries in total; of course, the following will cause an out-of-bounds error:"
   ]
  },
  {
   "cell_type": "code",
   "execution_count": 9,
   "metadata": {},
   "outputs": [
    {
     "ename": "IndexError",
     "evalue": "list index out of range",
     "output_type": "error",
     "traceback": [
      "\u001b[1;31m---------------------------------------------------------------------------\u001b[0m",
      "\u001b[1;31mIndexError\u001b[0m                                Traceback (most recent call last)",
      "\u001b[1;32m<ipython-input-9-575b0f6a692e>\u001b[0m in \u001b[0;36m<module>\u001b[1;34m\u001b[0m\n\u001b[1;32m----> 1\u001b[1;33m \u001b[0mtest_array\u001b[0m\u001b[1;33m[\u001b[0m\u001b[1;36m5\u001b[0m\u001b[1;33m]\u001b[0m\u001b[1;33m\u001b[0m\u001b[1;33m\u001b[0m\u001b[0m\n\u001b[0m",
      "\u001b[1;31mIndexError\u001b[0m: list index out of range"
     ]
    }
   ],
   "source": [
    "test_array[5]"
   ]
  },
  {
   "cell_type": "markdown",
   "metadata": {},
   "source": [
    "since, as the indexing starts from zero, the fifth and last element is the one with index `4`."
   ]
  },
  {
   "cell_type": "code",
   "execution_count": null,
   "metadata": {
    "scrolled": false
   },
   "outputs": [],
   "source": [
    "test_array[4]"
   ]
  },
  {
   "cell_type": "markdown",
   "metadata": {},
   "source": [
    "One handy way of accessing an array starting from the end is using a negative index; for instance, `-1` corresponds to the last element:"
   ]
  },
  {
   "cell_type": "code",
   "execution_count": null,
   "metadata": {
    "scrolled": true
   },
   "outputs": [],
   "source": [
    "test_array[-1]"
   ]
  },
  {
   "cell_type": "markdown",
   "metadata": {},
   "source": [
    "In general, `-1` refers to the last element, `-2` to the one before the last one, and so on."
   ]
  },
  {
   "cell_type": "markdown",
   "metadata": {},
   "source": [
    "### Slicing Arrays"
   ]
  },
  {
   "cell_type": "markdown",
   "metadata": {},
   "source": [
    "Sometimes you only want to get a specific part or range out of an array; for this you need the slicing technique. For instance, you want the first three elements out of our array `myarray3`, then just type"
   ]
  },
  {
   "cell_type": "code",
   "execution_count": null,
   "metadata": {},
   "outputs": [],
   "source": [
    "test_array[0:3]"
   ]
  },
  {
   "cell_type": "markdown",
   "metadata": {},
   "source": [
    "As you noted, we used the index of the first element, which is `0`, and we used the index `3` for the end of the slicing command. However, the slicing didn't give back the element with the index `3`, which would be `myarray3[3] = 4`. So this means, that the slicing operation is **exclusive** on the end of your range, while it is **inclusive** on the front of your slicing index range."
   ]
  },
  {
   "cell_type": "markdown",
   "metadata": {},
   "source": [
    "The number of items picked by the slicing operation is easily found as `3-0=3`. So, in general, `a:b` selects `b-a` items starting from (and including) `a`."
   ]
  },
  {
   "cell_type": "markdown",
   "metadata": {},
   "source": [
    "### For-loops"
   ]
  },
  {
   "cell_type": "markdown",
   "metadata": {},
   "source": [
    "We will use very often for-loops to iterate over our arrays to solve differential equation or anything else. To use for-loops in Python we just need to write:"
   ]
  },
  {
   "cell_type": "code",
   "execution_count": null,
   "metadata": {
    "scrolled": false
   },
   "outputs": [],
   "source": [
    "for i in range(5):\n",
    "    print(\"Hey this is i =\",i)"
   ]
  },
  {
   "cell_type": "markdown",
   "metadata": {},
   "source": [
    "The `range()` function generates indices and can also be called with two argoments, as in `range(a,b)`. Here a and b represents the lower and upper bounds; the same rules for slicing apply, so that a is inclusive and b is exclusive. Notice that `range(b)` is equivalent to `range(0,b)`.\n",
    "\n",
    "Note that __Python uses indents and whitespace to make clear what statements belong to the for-loop and what else is outside__. Also take care not to forget the double points after the for-statement, otherwise you will run into an error. \n",
    "\n",
    "Here is an example of a nested for-loops, where you can see, what effect the indents have within for-loops:"
   ]
  },
  {
   "cell_type": "code",
   "execution_count": null,
   "metadata": {
    "scrolled": false
   },
   "outputs": [],
   "source": [
    "for i in range(3):\n",
    "    for j in range(2):\n",
    "        print('i,j =',i,j)\n",
    "    \n",
    "    print('This is a call in the i-loop, but not in the j-loop')"
   ]
  },
  {
   "cell_type": "markdown",
   "metadata": {},
   "source": [
    "Sometimes, it is not necessary to have a counter (which is, a variable like `i` in the above example) in Python loops. Many lists and arrays are iterable, meaning that they allow for a particular syntax that will now be described. Consider the list:"
   ]
  },
  {
   "cell_type": "code",
   "execution_count": null,
   "metadata": {},
   "outputs": [],
   "source": [
    "felidae_family = ['cat', 'tiger', 'lion', 'lynx', 'caracal']"
   ]
  },
  {
   "cell_type": "markdown",
   "metadata": {},
   "source": [
    "One can go through every item of the list with:"
   ]
  },
  {
   "cell_type": "code",
   "execution_count": null,
   "metadata": {},
   "outputs": [],
   "source": [
    "for species in felidae_family:\n",
    "    print(species)"
   ]
  },
  {
   "cell_type": "markdown",
   "metadata": {},
   "source": [
    "When a counter is actually needed, one can take advantage of the following:"
   ]
  },
  {
   "cell_type": "code",
   "execution_count": null,
   "metadata": {},
   "outputs": [],
   "source": [
    "for counter, species in enumerate(felidae_family):\n",
    "    print('Number', counter, 'is a', species)"
   ]
  },
  {
   "cell_type": "markdown",
   "metadata": {},
   "source": [
    "Or sometimes one needs to iterate through two lists of the same length:"
   ]
  },
  {
   "cell_type": "code",
   "execution_count": null,
   "metadata": {
    "scrolled": true
   },
   "outputs": [],
   "source": [
    "big_or_small = ['small', 'big', 'big', 'small', 'small']\n",
    "\n",
    "for species, size in zip(felidae_family, big_or_small):\n",
    "    print('A', species, 'is a', size, 'felid.')"
   ]
  },
  {
   "cell_type": "markdown",
   "metadata": {},
   "source": [
    "### Loading Libraries"
   ]
  },
  {
   "cell_type": "markdown",
   "metadata": {},
   "source": [
    "To do more sophisticated operations like matrix manipulations, we need to load packages before starting with our Python program. One of the most important packages for our purposes are `numpy` (matrix manipulation like MATLAB) and `matplotlib` (plotting results). The modules are loaded by placing them at the beginning of your code:"
   ]
  },
  {
   "cell_type": "code",
   "execution_count": null,
   "metadata": {},
   "outputs": [],
   "source": [
    "import numpy \n",
    "from matplotlib import pyplot"
   ]
  },
  {
   "cell_type": "markdown",
   "metadata": {},
   "source": [
    "So first we are importing the `numpy` package and in the second line we are importing the module `pyplot` from the package `matplotlib` (we are not loading all features from this package). Now we can use functions of those two packages by first writing the package name with a dot `.` and then the function we want to use: "
   ]
  },
  {
   "cell_type": "code",
   "execution_count": null,
   "metadata": {},
   "outputs": [],
   "source": [
    "myarray1 = numpy.linspace(0,5,11)\n",
    "myarray1"
   ]
  },
  {
   "cell_type": "markdown",
   "metadata": {},
   "source": [
    "So the function `linspace` generates an array which starts at 0 and ends at 5 and is equally distributed with in total 11 elements. Notice that numpy arrays are different datatypes with respect to regular arrays:"
   ]
  },
  {
   "cell_type": "code",
   "execution_count": null,
   "metadata": {},
   "outputs": [],
   "source": [
    "regular_array = [1, 2, 3]\n",
    "print(type(regular_array))\n",
    "print(type(myarray1))"
   ]
  },
  {
   "cell_type": "markdown",
   "metadata": {},
   "source": [
    "Nevertheless, __one can access numpy array with indexing and slicing just as with regular ones__. However, regular arrays do not support matrix operations (and many other useful things) which are indeed supported by numpy."
   ]
  },
  {
   "cell_type": "markdown",
   "metadata": {},
   "source": [
    "Quite often you will find Python codes, that are using some other names in front of the function names. Usually, one uses the abbreviation `np` for the numpy package, to save letters and time. To use this abbreviations we have to state this, when loading the package, so next time load your package like this:"
   ]
  },
  {
   "cell_type": "code",
   "execution_count": null,
   "metadata": {},
   "outputs": [],
   "source": [
    "import numpy as np\n",
    "\n",
    "myarray2 = np.linspace(0,5,11)\n",
    "myarray2"
   ]
  },
  {
   "cell_type": "markdown",
   "metadata": {},
   "source": [
    "And for the `pyplot` module we use `plt` as an abbreviation."
   ]
  },
  {
   "cell_type": "code",
   "execution_count": null,
   "metadata": {},
   "outputs": [],
   "source": [
    "from matplotlib import pyplot as plt"
   ]
  },
  {
   "cell_type": "markdown",
   "metadata": {},
   "source": [
    "So here is an little example how to plot our to arrays, but we will slightly change the second array:"
   ]
  },
  {
   "cell_type": "code",
   "execution_count": null,
   "metadata": {},
   "outputs": [],
   "source": [
    "a = 3.\n",
    "b = 2.\n",
    "\n",
    "myarray2 = b * myarray2 + a\n",
    "\n",
    "plt.figure()\n",
    "plt.plot(myarray1, myarray2, '-o')\n",
    "plt.title('My first plot')\n",
    "plt.xlabel('axis of myarray1')\n",
    "plt.ylabel('axis of myarray2')\n",
    "plt.show()"
   ]
  },
  {
   "cell_type": "markdown",
   "metadata": {},
   "source": [
    "### Assignment of variables"
   ]
  },
  {
   "cell_type": "markdown",
   "metadata": {},
   "source": [
    "Some important thing when working with Python concerns the assignment and copying of arrays. For example we have the following 1D-array:"
   ]
  },
  {
   "cell_type": "code",
   "execution_count": null,
   "metadata": {},
   "outputs": [],
   "source": [
    "a = np.array([1,2,3,4,5])\n",
    "print(a)"
   ]
  },
  {
   "cell_type": "markdown",
   "metadata": {},
   "source": [
    "Next, we want to make a copy of the array `a` and we try it with"
   ]
  },
  {
   "cell_type": "code",
   "execution_count": null,
   "metadata": {},
   "outputs": [],
   "source": [
    "b = a\n",
    "print(b)"
   ]
  },
  {
   "cell_type": "markdown",
   "metadata": {},
   "source": [
    "Great! This seems to work. So now that I have a copy of array `a` in array `b`, I can change the values of `a` without worrying about the loss of data."
   ]
  },
  {
   "cell_type": "code",
   "execution_count": null,
   "metadata": {},
   "outputs": [],
   "source": [
    "a[3] = 13\n",
    "print(a)"
   ]
  },
  {
   "cell_type": "markdown",
   "metadata": {},
   "source": [
    "Good, so the 4th element has changed its value to 13. Now, let's check the value of `b`"
   ]
  },
  {
   "cell_type": "code",
   "execution_count": null,
   "metadata": {},
   "outputs": [],
   "source": [
    "print(b)"
   ]
  },
  {
   "cell_type": "markdown",
   "metadata": {},
   "source": [
    "Also `b` has changed its value! So, this is a really important thing to note. __By just using `a = b` Python does not make a copy of the array `a`, it just creates an alias (or more specifically a pointer), which is called `b` and is pointing to `a`__. So any changes in `a` will also be seen by `b`. If you want to make a true copy of `a`, then you have to tell Python this explicitly. This is done by"
   ]
  },
  {
   "cell_type": "code",
   "execution_count": null,
   "metadata": {},
   "outputs": [],
   "source": [
    "c = a.copy()"
   ]
  },
  {
   "cell_type": "code",
   "execution_count": null,
   "metadata": {},
   "outputs": [],
   "source": [
    "a[2]=77\n",
    "print(a)"
   ]
  },
  {
   "cell_type": "code",
   "execution_count": null,
   "metadata": {},
   "outputs": [],
   "source": [
    "print(c)"
   ]
  },
  {
   "cell_type": "markdown",
   "metadata": {},
   "source": [
    "Make sure that you've got the main point out of this! It will save you some time for your future programming with Python. "
   ]
  },
  {
   "cell_type": "markdown",
   "metadata": {},
   "source": [
    "## Learn More"
   ]
  },
  {
   "cell_type": "markdown",
   "metadata": {},
   "source": [
    "There are many resources online to learn more about Python and how to use the packages `numpy` and `matplotlib`.\n",
    "The reference guides for `numpy` and `matplotlib` can be found here\n",
    "\n",
    "* [Numpy reference](https://docs.scipy.org/doc/numpy/reference/)\n",
    "* [Matplotlib](https://matplotlib.org/)\n",
    "\n",
    "For more informations on how to use NumPy arrays you can check the following video of Prof. Barba from the George Washington University, who inspired us with their lectures series \"[12 Steps to CFD](https://github.com/barbagroup/CFDPython)\", for this Python course!"
   ]
  },
  {
   "cell_type": "code",
   "execution_count": null,
   "metadata": {},
   "outputs": [],
   "source": [
    "from IPython.display import YouTubeVideo\n",
    "# a short video about using NumPy arrays, from Enthought\n",
    "YouTubeVideo('119bNu4E8R4')"
   ]
  },
  {
   "cell_type": "code",
   "execution_count": null,
   "metadata": {},
   "outputs": [],
   "source": []
  }
 ],
 "metadata": {
  "kernelspec": {
   "display_name": "Python 3",
   "language": "python",
   "name": "python3"
  },
  "language_info": {
   "codemirror_mode": {
    "name": "ipython",
    "version": 3
   },
   "file_extension": ".py",
   "mimetype": "text/x-python",
   "name": "python",
   "nbconvert_exporter": "python",
   "pygments_lexer": "ipython3",
   "version": "3.8.8"
  }
 },
 "nbformat": 4,
 "nbformat_minor": 4
}
