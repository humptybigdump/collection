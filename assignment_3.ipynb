{
 "cells": [
  {
   "cell_type": "markdown",
   "metadata": {
    "pycharm": {
     "name": "#%% md\n"
    }
   },
   "source": [
    "# Machine Vision 2024/25 - Assignment 3: Line Fitting\n",
    "\n",
    "Consider the image `res/postit2g.png` from the previous assignment. Where we already identified edge pixels\n",
    "using canny edge detection and parametric lines using the hough transform.\n",
    "\n",
    "In this assignment we will continue fitting parametric lines using different approaches."
   ]
  },
  {
   "cell_type": "code",
   "execution_count": null,
   "metadata": {
    "pycharm": {
     "name": "#%%\n"
    }
   },
   "outputs": [],
   "source": [
    "import copy\n",
    "import matplotlib.pyplot as plt\n",
    "import numpy as np\n",
    "import skimage.io\n",
    "import skimage.color"
   ]
  },
  {
   "cell_type": "markdown",
   "metadata": {
    "pycharm": {
     "name": "#%% md\n"
    }
   },
   "source": [
    "#### Part 1: Line Fitting using Total Least Squares"
   ]
  },
  {
   "cell_type": "markdown",
   "metadata": {
    "pycharm": {
     "name": "#%% md\n"
    }
   },
   "source": [
    "##### Preparation\n",
    "\n",
    "First, visualize the image and understand its shape"
   ]
  },
  {
   "cell_type": "code",
   "execution_count": null,
   "metadata": {
    "pycharm": {
     "name": "#%%\n"
    }
   },
   "outputs": [],
   "source": [
    "# @student: visualize image and print its shape\n",
    "gray_img = ...\n",
    "print(f\"gray_img shape [v,u]: {...}\")\n",
    "..."
   ]
  },
  {
   "cell_type": "markdown",
   "metadata": {
    "pycharm": {
     "name": "#%% md\n"
    }
   },
   "source": [
    "The image is a grayscale image, hence it has only one color dimension/channel.\n",
    "However, we want to visualize the found lines in red.\n",
    "Therefore, we need to convert it to RGB color space"
   ]
  },
  {
   "cell_type": "code",
   "execution_count": null,
   "metadata": {
    "pycharm": {
     "name": "#%%\n"
    }
   },
   "outputs": [],
   "source": [
    "color_img = skimage.color.gray2rgb(gray_img)\n",
    "print(f\"color_img shape [v,u,c]: {color_img.shape}\")\n",
    "plt.imshow(color_img)\n",
    "plt.show()"
   ]
  },
  {
   "cell_type": "markdown",
   "metadata": {
    "pycharm": {
     "name": "#%% md\n"
    }
   },
   "source": [
    "The file `res/edge_pixels.npy` contains 19 lists, where each list represents a dominant edge."
   ]
  },
  {
   "cell_type": "code",
   "execution_count": null,
   "metadata": {
    "pycharm": {
     "name": "#%%\n"
    }
   },
   "outputs": [],
   "source": [
    "lists_of_edgepixels = np.load(\"res/edge_pixels.npy\", allow_pickle=True)\n",
    "\n",
    "# Each list contains of a different amount of pixels, where each pixel consists of an u and v coordinate\n",
    "print(f\"pixels in first list: {lists_of_edgepixels[0].shape}\")\n",
    "print(f\"pixels in second list: {lists_of_edgepixels[1].shape}\")\n",
    "\n",
    "# @student: List the u pixels and the v pixels of the third list of edge pixels\n",
    "# In this list the index of u coordinate is 0 and the index of the coordinate v=1\n",
    "u3 = ...\n",
    "v3 = ...\n",
    "\n",
    "# copy color_img and change the color of edge pixels to red\n",
    "# it is important to use copy.deepcopy to copy the contents of the array (image)\n",
    "color_img_edge3 = copy.deepcopy(color_img)\n",
    "\n",
    "# @student: change the color of u0 and v0 to red\n",
    "color_img_edge3[...] = ...\n",
    "plt.imshow(color_img_edge3)\n",
    "plt.show()"
   ]
  },
  {
   "cell_type": "markdown",
   "metadata": {
    "pycharm": {
     "name": "#%% md\n"
    }
   },
   "source": [
    "##### Calculation\n",
    "\n",
    "Using a list of edgepixels we can fit a line through these using the total least squares aproach."
   ]
  },
  {
   "cell_type": "code",
   "execution_count": null,
   "metadata": {
    "pycharm": {
     "name": "#%%\n"
    }
   },
   "outputs": [],
   "source": [
    "def fit_line_total_least_squares(edgepixels):\n",
    "    # @student: Calculate alpha, beta, gamma\n",
    "    u = ...\n",
    "    N = ...\n",
    "\n",
    "    u_sum = ...\n",
    "    v_sum = ...\n",
    "    u_sum_2 = ...\n",
    "    v_sum_2 = ...\n",
    "    uv_sum = ...\n",
    "    alpha = ...\n",
    "    beta = ...\n",
    "    gamma = ...\n",
    "\n",
    "    # Build up matrix M and calculate its smallest eigenvector (var: evec)\n",
    "    M = np.ndarray(shape=(2,2))\n",
    "    M[0,0] = alpha\n",
    "    M[0,1] = beta\n",
    "    M[1,0] = beta\n",
    "    M[1,1] = gamma\n",
    "    evals, evecs = np.linalg.eig(M) # calculate eigenvalues / eigenvectors\n",
    "    eigen_sorted = np.argsort(evals) # sort eigenvalues\n",
    "    evec = evecs[:, eigen_sorted[0]] # get eigenvector with the smallest eigenvalue\n",
    "\n",
    "    # @student: Calculate c\n",
    "    c = ...\n",
    "\n",
    "    return evec, c"
   ]
  },
  {
   "cell_type": "code",
   "execution_count": null,
   "metadata": {
    "pycharm": {
     "name": "#%%\n"
    }
   },
   "outputs": [],
   "source": [
    "# for each list of edge pixels we create an array containing the line parameters\n",
    "# Therefore, each entry consists of (0: n0, 1: n1, 2: c)\n",
    "lines = np.ndarray(shape=(len(lists_of_edgepixels), 3))\n",
    "print(f\"lines shape: {lines.shape}\")\n",
    "for idx, edgepixels in enumerate(lists_of_edgepixels):\n",
    "    n, c = fit_line_total_least_squares(edgepixels)\n",
    "    lines[idx] = [n[0], n[1], c]"
   ]
  },
  {
   "cell_type": "markdown",
   "metadata": {
    "pycharm": {
     "name": "#%% md\n"
    }
   },
   "source": [
    "In order to visualize the line we create an array with values ranging from `0` to `max(u)`\n",
    "Afterwards, we apply the line equation for each u in this range"
   ]
  },
  {
   "cell_type": "code",
   "execution_count": null,
   "metadata": {
    "pycharm": {
     "name": "#%%\n"
    }
   },
   "outputs": [],
   "source": [
    "# @student: create span for u\n",
    "u = ...\n",
    "for line in lines:\n",
    "    # @student: apply line equation to calculate v based on the line parameters and u\n",
    "    v = ...\n",
    "\n",
    "    random_color = np.random.rand(3,)\n",
    "    plt.plot(u, v, c=random_color)\n",
    "\n",
    "plt.imshow(color_img)\n",
    "plt.xlim(0, color_img.shape[1]) # limit u axis to image dimension\n",
    "plt.ylim(color_img.shape[0], 0) # limit v axis to image dimension\n",
    "plt.show()"
   ]
  },
  {
   "cell_type": "markdown",
   "metadata": {
    "pycharm": {
     "name": "#%% md\n"
    }
   },
   "source": [
    "We successfully applied total least squares in order to estimate line parameters from a list of pixels.\n",
    "However, we don't know the start and end of the line within the image yet.\n",
    "In order to do so, we project each edge pixel to the computed line and take the first and last projected point as start and end."
   ]
  },
  {
   "cell_type": "code",
   "execution_count": null,
   "metadata": {
    "pycharm": {
     "name": "#%%\n"
    }
   },
   "outputs": [],
   "source": [
    "def calculate_start_end(*, line, edgepixels):\n",
    "    # @student: project edgepixels to the line\n",
    "    d = ...\n",
    "    projection = ...\n",
    "\n",
    "    min_idx, _ = np.argmin(projection, axis=1)\n",
    "    max_idx, _ = np.argmax(projection, axis=1)\n",
    "    return [projection[0,min_idx], projection[0,max_idx]], [projection[1,min_idx], projection[1,max_idx]]\n",
    "\n",
    "for idx, edgepixels in enumerate(lists_of_edgepixels):\n",
    "    line = lines[idx]\n",
    "    line_start_u, line_end_v = calculate_start_end(line=line, edgepixels=edgepixels)\n",
    "    random_color = np.random.rand(3,)\n",
    "    plt.plot(line_start_u, line_end_v, c=random_color, marker=\"o\", mfc='none')\n",
    "plt.imshow(color_img)\n",
    "plt.show()"
   ]
  },
  {
   "cell_type": "markdown",
   "metadata": {
    "pycharm": {
     "name": "#%% md\n"
    }
   },
   "source": [
    "#### Part 2: Line Fitting using RANSAC\n",
    "\n",
    "In comparison to total least squares, RANSAC is robust against outliers. In this exercise you will implement RANSAC and compare it to total least squares."
   ]
  },
  {
   "cell_type": "code",
   "execution_count": null,
   "metadata": {
    "pycharm": {
     "name": "#%%\n"
    }
   },
   "outputs": [],
   "source": [
    "def find_two_random_pixels(*, edgepixels):\n",
    "    # @student: find two different random pixels within the edgepixels array\n",
    "\n",
    "    return ..."
   ]
  },
  {
   "cell_type": "code",
   "execution_count": null,
   "metadata": {
    "pycharm": {
     "name": "#%%\n"
    }
   },
   "outputs": [],
   "source": [
    "def calculate_nc(*, p1, p2):\n",
    "    # @student: based on two pixels p1 and p2 calculate the parameters n,c (line in normal form) between p1 and p2\n",
    "    ...\n",
    "    n = ...\n",
    "    c = ...\n",
    "\n",
    "    return n, c"
   ]
  },
  {
   "cell_type": "code",
   "execution_count": null,
   "metadata": {
    "pycharm": {
     "name": "#%%\n"
    }
   },
   "outputs": [],
   "source": [
    "def calculate_num_inliers(*, edgepixels, n, c, threshold):\n",
    "    # @student: Calculate the number on inliers\n",
    "    return ..."
   ]
  },
  {
   "cell_type": "code",
   "execution_count": null,
   "metadata": {
    "pycharm": {
     "name": "#%%\n"
    }
   },
   "outputs": [],
   "source": [
    "def fit_line_ransac(*, edgepixels, k, threshold):\n",
    "    best_num_inliers = 0\n",
    "    best_n = None\n",
    "    best_c = None\n",
    "    best_p1 = None\n",
    "    best_p2 = None\n",
    "\n",
    "    # iterate k times\n",
    "    for _ in range(k):\n",
    "        # Generate two random pixels from the edgepixels\n",
    "        p1, p2 = find_two_random_pixels(edgepixels=edgepixels)\n",
    "\n",
    "        # Calculate n , c\n",
    "        n, c = calculate_nc(p1=p1, p2=p2)\n",
    "\n",
    "        # Calculate how many points are inliers within the threshold t based on the distance to the line\n",
    "        num_inliers = calculate_num_inliers(edgepixels=edgepixels, n=n, c=c, threshold=threshold)\n",
    "\n",
    "        # If the line has more inliers, it is considered as \"better\" solution\n",
    "        if num_inliers > best_num_inliers:\n",
    "            best_num_inliers = num_inliers\n",
    "            best_n = n\n",
    "            best_c = c\n",
    "            best_p1 = p1\n",
    "            best_p2 = p2\n",
    "\n",
    "    return best_n, best_c, best_p1, best_p2"
   ]
  },
  {
   "cell_type": "code",
   "execution_count": null,
   "metadata": {
    "pycharm": {
     "name": "#%%\n"
    }
   },
   "outputs": [],
   "source": [
    "u = np.arange(0, color_img.shape[1], 1)\n",
    "for idx, edgepixels in enumerate(lists_of_edgepixels):\n",
    "    n, c, p1, p2 = fit_line_ransac(edgepixels=edgepixels, k=100, threshold=1)\n",
    "\n",
    "    # @student: apply line equation to calculate v based on parameters and u\n",
    "    v = ...\n",
    "\n",
    "    random_color = np.random.rand(3,)\n",
    "    plt.imshow(color_img)\n",
    "    plt.plot(u, v, c=random_color)\n",
    "    plt.scatter([p1[0], p2[0]],[p1[1], p2[1]], edgecolors=random_color, marker=\"o\", facecolors=\"none\")\n",
    "plt.xlim(0, color_img.shape[1])\n",
    "plt.ylim(color_img.shape[0], 0)\n",
    "plt.show()"
   ]
  },
  {
   "cell_type": "markdown",
   "metadata": {
    "pycharm": {
     "name": "#%% md\n"
    }
   },
   "source": [
    "Take the union of the pixels belonging to the first and second pixellist. Apply both, the least-sum-of-squares estimator\n",
    "and the ransac algorithm to the joint list. In which way do the results differ?"
   ]
  },
  {
   "cell_type": "code",
   "execution_count": null,
   "metadata": {
    "collapsed": false,
    "pycharm": {
     "name": "#%%\n"
    }
   },
   "outputs": [],
   "source": [
    "# @student: concatenate the first two lists\n",
    "u12 = ...\n",
    "v12 = ...\n",
    "composed_edgepixels = ...\n",
    "\n",
    "# @student: copy a new color img and display edge 1 and 2 in red\n",
    "..."
   ]
  },
  {
   "cell_type": "code",
   "execution_count": null,
   "metadata": {
    "collapsed": false,
    "pycharm": {
     "name": "#%%\n"
    }
   },
   "outputs": [],
   "source": [
    "# @student: apply total least squares and visualize the result\n",
    "..."
   ]
  },
  {
   "cell_type": "code",
   "execution_count": null,
   "metadata": {
    "collapsed": false,
    "pycharm": {
     "name": "#%%\n"
    }
   },
   "outputs": [],
   "source": [
    "# @student: apply the ransac algorithm and visualize the result\n",
    "..."
   ]
  },
  {
   "cell_type": "markdown",
   "metadata": {
    "pycharm": {
     "name": "#%% md\n"
    }
   },
   "source": []
  }
 ],
 "metadata": {
  "kernelspec": {
   "display_name": "Python 3 (ipykernel)",
   "language": "python",
   "name": "python3"
  },
  "language_info": {
   "codemirror_mode": {
    "name": "ipython",
    "version": 3
   },
   "file_extension": ".py",
   "mimetype": "text/x-python",
   "name": "python",
   "nbconvert_exporter": "python",
   "pygments_lexer": "ipython3",
   "version": "3.10.4"
  }
 },
 "nbformat": 4,
 "nbformat_minor": 1
}
