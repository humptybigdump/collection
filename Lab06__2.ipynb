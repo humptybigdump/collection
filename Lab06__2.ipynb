{
 "cells": [
  {
   "cell_type": "markdown",
   "id": "0e42763e",
   "metadata": {},
   "source": [
    "# Stochastic Simulation\n",
    "\n",
    "*Winter Semester 2023/24*\n",
    "\n",
    "15.12.2023\n",
    "\n",
    "Prof. Sebastian Krumscheid<br>\n",
    "Asstistant: Stjepan Salatovic"
   ]
  },
  {
   "cell_type": "markdown",
   "id": "5c5187ec",
   "metadata": {},
   "source": [
    "<h3 align=\"center\">\n",
    "Exercise sheet 06\n",
    "</h3>\n",
    "\n",
    "---\n",
    "\n",
    "<h1 align=\"center\">\n",
    "Variance Reduction Techniques\n",
    "</h1>"
   ]
  },
  {
   "cell_type": "code",
   "execution_count": 1,
   "id": "f636d6f9",
   "metadata": {},
   "outputs": [],
   "source": [
    "import matplotlib.pyplot as plt\n",
    "import matplotlib.patches as patches\n",
    "import numpy as np\n",
    "\n",
    "from ipywidgets import interact\n",
    "from scipy.stats import norm, multivariate_normal\n",
    "from scipy.integrate import nquad\n",
    "from typing import Tuple\n",
    "from tqdm.notebook import tqdm"
   ]
  },
  {
   "cell_type": "code",
   "execution_count": 2,
   "id": "a82b0a91-6d0f-436d-bc1e-bfc75cc60fd5",
   "metadata": {},
   "outputs": [],
   "source": [
    "plt.rc('axes', labelsize=14)     # fontsize of the x and y labels\n",
    "plt.rc('xtick', labelsize=12)    # fontsize of the tick labels\n",
    "plt.rc('ytick', labelsize=12)    # fontsize of the tick labels\n",
    "plt.rc('legend', fontsize=14)    # legend fontsize"
   ]
  },
  {
   "cell_type": "markdown",
   "id": "5e6ec4b1",
   "metadata": {},
   "source": [
    "## Exercise 1\n",
    "\n",
    "Suppose that we want to compute $p=\\mathbb{P}(\\boldsymbol{X}\\in A)$, where\n",
    "$\\boldsymbol{X}$ is a $d$-dimensional Gaussian random vector with mean\n",
    "$\\boldsymbol{\\mu} = \\boldsymbol{0}$ and covariance matrix $\\Sigma$. If\n",
    "the (Borel) set $A\\subseteq\\mathbb{R}^d$ contains the mean $\\boldsymbol{\\mu}$,\n",
    "then the event $\\boldsymbol{X}\\in A$ is typically not rare, and the\n",
    "use of importance sampling is generally unnecessary. If, on the other\n",
    "hand, $\\boldsymbol{\\mu}\\not\\in A$ and $p$ is small, then one may wish\n",
    "to consider the use of importance sampling. Let $\\mathbb{P}^\\ast$ denote the\n",
    "optimal (yet impractical) sampling measure with density $g^\\ast$, that\n",
    "is\n",
    "\\begin{equation*}\n",
    "  d\\mathbb{P}^\\ast = g^\\ast\\,d\\boldsymbol{x} = \\frac{1}{\\mathbb{P}(\\boldsymbol{X}\\in A)} \\mathbb{I}_A \\phi_{\\Sigma}\\,d\\boldsymbol{x}\\;,\n",
    "\\end{equation*}\n",
    "where $\\phi_{\\Sigma}$ is the density of the\n",
    "$\\mathcal{N}(\\boldsymbol{0},\\Sigma)$ distribution. Given the rapid\n",
    "decay of $\\phi_{\\Sigma}(\\boldsymbol{x})$ as\n",
    "${\\Vert\\boldsymbol{x} \\Vert}_2\\to \\infty$, most of the mass of\n",
    "$\\mathbb{P}^\\ast$ is typically located at the maximizer $\\boldsymbol{x}^\\ast$\n",
    "of $\\phi_{\\Sigma}$ over $A$ (which we assume to exist uniquely). This\n",
    "suggests using an importance sampling distribution $\\tilde{\\mathbb{P}}$ with\n",
    "density $g$ that concentrates most of its mass near\n",
    "$\\boldsymbol{x}^\\ast$, that makes $g$ easily computable, and from\n",
    "which realizations can efficiently be generated. "
   ]
  },
  {
   "cell_type": "markdown",
   "id": "100bf030-3ceb-4fa2-9893-0fbcc41d4896",
   "metadata": {},
   "source": [
    "1. One such importance sampling distribution is the Gaussian\n",
    "  distribution centered in $\\boldsymbol{x}^\\ast$ with covariance\n",
    "  matrix $\\Sigma$. Describe the importance sampling algorithm to\n",
    "  estimate $p$."
   ]
  },
  {
   "cell_type": "markdown",
   "id": "4649d90c-2299-4e4a-a178-b1540638a348",
   "metadata": {},
   "source": [
    "2. Implement your algorithm for $d=2$. Take  $A=\\bigl\\{\\boldsymbol{x}=(x_1,x_2)\\in\\mathbb{R}^2\\colon x_i\\ge\n",
    "  a,\\,i=1,2\\bigr\\}$ and\n",
    "  \\begin{equation*}\n",
    "    \\Sigma = \\begin{pmatrix} 4 & -1\\\\ -1 & 4 \\end{pmatrix}\\;.\n",
    "  \\end{equation*}\n",
    "  Then carry out the following points for $a=1,3,10$:\n",
    "   1. First, try to provide simulation estimates of $p= \\mathbb{P}(\\boldsymbol{X}\\in A)$ and the associated $95\\%$ confidence interval using the (naive) crude Monte Carlo method.\n",
    "    2. Next, find the point $\\boldsymbol{x}^\\ast$ that maximizes the $\\mathcal{N}(\\boldsymbol{0},\\Sigma)$ density over $A$ and repeat point A., with the crude Monte Carlo method replaced by importance sampling, where the importance distribution is $\\mathcal{N}(\\boldsymbol{x}^\\ast,\\Sigma)$.\n",
    "    3. In point B., experiment with importance distributions of the form $\\mathcal{N}(\\boldsymbol{x}^\\ast,\\delta \\Sigma)$ for different $\\delta>0$.\n",
    "\n",
    "**Hint:** You can use [`scipy.integrate.nquad`](https://docs.scipy.org/doc/scipy/reference/generated/scipy.integrate.nquad.html) for approximating the \"true\" value of $p$."
   ]
  },
  {
   "cell_type": "code",
   "execution_count": 5,
   "id": "5bfa13a5-aff8-450d-b2a2-9f11556c0141",
   "metadata": {},
   "outputs": [],
   "source": [
    "def crude_Monte_Carlo(N: int, a: float) -> float:\n",
    "    \"\"\"\n",
    "    Estimates the probability of both components of a random variable X being greater\n",
    "    than or equal to `a`, using a crude Monte Carlo simulation.\n",
    "    Returns estimates for mean as well as variance.\n",
    "    \"\"\"\n",
    "    # TODO\n",
    "    return"
   ]
  },
  {
   "cell_type": "code",
   "execution_count": 6,
   "id": "a5d8d7ee-a328-4b6e-b8cd-8d5162110cf0",
   "metadata": {},
   "outputs": [],
   "source": [
    "def importance_sampling(N: int, a: float, delta: float=1.0, fix_seed: bool=False) -> float:\n",
    "    \"\"\"\n",
    "    Estimates the probability of both components of a random variable X being greater\n",
    "    than or equal to `a`, using importance sampling with a Gaussian distribution.\n",
    "    Returns estimates for mean as well as variance.\n",
    "    \"\"\"\n",
    "    # TODO\n",
    "    return"
   ]
  },
  {
   "cell_type": "markdown",
   "id": "f5c16a5c-5d71-4b62-81aa-ebee86845d53",
   "metadata": {},
   "source": [
    "## Exercise 2\n",
    "\n",
    "Consider the problem of pricing a Barrier option with maturity $T>0$\n",
    "based on the stock price $S$, which is given as the solution to the\n",
    "stochastic differential equation\n",
    "\\begin{equation*}\n",
    "  dS = rS\\,dt + \\sigma S\\,dW\\;,\\quad S(0) = S_0\\;,\n",
    "\\end{equation*}\n",
    "where $W$ denotes a standard one-dimensional Wiener process. One can\n",
    "show that $S_t = S_0e^{X_t}$, where\n",
    "$X_t = (r-\\sigma^2/2)t + \\sigma W_t$ with $W$ being a standard Wiener\n",
    "process. It follows that $S_t$ has a log-normal distribution for any\n",
    "$t>0$. For $m\\in\\mathbb{N}$, let $t_i = i\\Delta t$ with\n",
    "$\\Delta t = T/m$ denote the discrete observation times of the stock\n",
    "price $S$ (e.g. daily at market closure). The payoff of a call\n",
    "option subject to a lower barrier is then given by\n",
    "\\begin{equation*}\n",
    "  \\Psi(S_{t_0},S_{t_1},\\dots, S_{T}) = {(S_T-K)}_{+}\\mathbb{I}_{\\bigl\\{B\\le \\min_{i=0,\\ldots,m}(S_{t_i})\\bigr\\}}\\;,\n",
    "\\end{equation*}\n",
    "where $B<S_0$ denotes the Barrier and $K\\le S_0$ the strike\n",
    "price. Here, $z_{+} = (\\lvert z\\rvert + z)/2$ denotes the positive\n",
    "part of $z$. Estimate the expected payoff\n",
    "$\\mathbb{E}\\bigl(\\Psi(S_{t_0},S_{t_1},\\dots, S_{T})\\bigr)$ with antithetic\n",
    "variables, using the process parameters $m=1000$, $r = 0.5$,\n",
    "$\\sigma = 0.3$, $T=2$, $S_0=5$, and $K=10$. Specifically, investigate\n",
    "the variance reduction effect for different barrier values $B$."
   ]
  },
  {
   "cell_type": "code",
   "execution_count": 9,
   "id": "3d754df2-780e-4713-b7d0-11afb55dca77",
   "metadata": {},
   "outputs": [],
   "source": [
    "def price_barrier_option(\n",
    "    N: int,\n",
    "    B: float,\n",
    "    m: int,\n",
    "    r: float,\n",
    "    sigma: float,\n",
    "    T: float,\n",
    "    S0: float,\n",
    "    K: float,\n",
    "    antithetic: bool=False,\n",
    "    fix_seed: bool=False,\n",
    ") -> float:\n",
    "    \"\"\"\n",
    "    Price a barrier option using crude (or antithetic) Monte Carlo\n",
    "    estimation with `N` or (`N/2`) samples.\n",
    "    Returns the mean as well as the variance of the estimator.\n",
    "    \"\"\"\n",
    "    # TODO\n",
    "    return"
   ]
  },
  {
   "cell_type": "markdown",
   "id": "90715168-f68b-48d9-bad3-aefc1e7f9357",
   "metadata": {},
   "source": [
    "## Exercise 3\n",
    "\n",
    "Consider the discrete time random walk\n",
    "$\\{X_n\\in\\mathbb{Z}\\colon X_0=0, n\\in\\mathbb{N}\\}$ with transition\n",
    "probabilities:\n",
    "\\begin{align*}\n",
    "p_{i,i+1} &\\equiv\\mathbb{P}(X_{n+1}=i+1\\vert X_{n}=i) = a,\\\\\n",
    "p_{i,i-1} &\\equiv\\mathbb{P}(X_{n+1}=i-1\\vert X_{n}=i) =1-a,\\quad n\\ge 0,\\,i\\in\\mathbb{Z},\\ a\\in(0,1),\n",
    "\\end{align*}\n",
    "and define the stopping time $\\tau_K := \\inf\\{n\\colon X_n = K\\}$ for a\n",
    "given constant $K\\in \\mathbb{N}$. We aim at estimating $\\mathbb{P}(\\tau_K<T)$, for some given $T\\in \\mathbb{N}$."
   ]
  },
  {
   "cell_type": "markdown",
   "id": "34891e89-da4d-45db-86e7-b48967343e2a",
   "metadata": {},
   "source": [
    "1. Set $K=4$, $a=1/3$, $T=10$. Compute a Monte Carlo estimate of  $\\mathbb{P}(\\tau_K<T)$."
   ]
  },
  {
   "cell_type": "code",
   "execution_count": 15,
   "id": "e513e506-1043-4b0a-b082-761fb8d3faee",
   "metadata": {},
   "outputs": [],
   "source": [
    "def estimate_prob(N: int, a: float, K: int, T: int, antithetic: bool=False) -> Tuple[float, float]:\n",
    "    \"\"\"\n",
    "    Estimates the probability of a random walk reaching `K` within a given\n",
    "    time horizon `T` based on `N` Monte Carlo samples.\n",
    "    Returns the mean as well as the variance of the estimator.\n",
    "    \"\"\"\n",
    "    # TODO\n",
    "    return"
   ]
  },
  {
   "cell_type": "markdown",
   "id": "f4718ec8-1853-4013-be0a-a5793d27283d",
   "metadata": {},
   "source": [
    "2. For the same values as in the previous point, estimate $\\mathbb{P}(\\tau_K<T)$  using the antithetic variate variance reduction technique and compare your results to those in point 1. "
   ]
  }
 ],
 "metadata": {
  "kernelspec": {
   "display_name": "Python 3 (ipykernel)",
   "language": "python",
   "name": "python3"
  },
  "language_info": {
   "codemirror_mode": {
    "name": "ipython",
    "version": 3
   },
   "file_extension": ".py",
   "mimetype": "text/x-python",
   "name": "python",
   "nbconvert_exporter": "python",
   "pygments_lexer": "ipython3",
   "version": "3.10.12"
  },
  "widgets": {
   "application/vnd.jupyter.widget-state+json": {
    "state": {},
    "version_major": 2,
    "version_minor": 0
   }
  }
 },
 "nbformat": 4,
 "nbformat_minor": 5
}
