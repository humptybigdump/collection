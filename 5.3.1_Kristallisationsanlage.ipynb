{
 "cells": [
  {
   "cell_type": "markdown",
   "id": "f24f3131-1de7-4bc5-8561-cdd862664bfe",
   "metadata": {
    "tags": []
   },
   "source": [
    "# Kap. 5.3.1 Nicht-lineare Prozessmodelle\n",
    "## Bsp. Kristallisationsanlage aus Kap. 4.2.2"
   ]
  },
  {
   "cell_type": "code",
   "execution_count": 1,
   "id": "3dd4fd13-4064-4de2-8b27-b45c981ca624",
   "metadata": {},
   "outputs": [],
   "source": [
    "# Import der benötigten Module\n",
    "from scipy.optimize import fsolve\n",
    "import numpy as np"
   ]
  },
  {
   "cell_type": "markdown",
   "id": "d7a0307c-3d72-4b82-8556-d2b348dbc5f0",
   "metadata": {
    "tags": []
   },
   "source": [
    "# Definition der Funktionen"
   ]
  },
  {
   "cell_type": "code",
   "execution_count": 4,
   "id": "d2152edd-cd7c-4412-9710-8c72c88102f5",
   "metadata": {},
   "outputs": [],
   "source": [
    "# System aus MODELLGLEICHUNGEN \n",
    "\n",
    "def F(X_var, X_para):\n",
    "     \n",
    "    #Rückbenennung aller verwendeten Prozessgrößen\n",
    "    [M1, x1s, x1w, x1v, M2, \n",
    "     x2w, x2v, M5, x5w, M3, \n",
    "     x3s, M6, x6w, x6v, M4, \n",
    "     x4s, x4w, x4v, M7, x7s, \n",
    "     x7w, x7v] = X_var \n",
    "    \n",
    "    [M0, x0s, x0w, x0v, x2s, x5s, x5v, x3w, x3v, x6s, alpha] = X_para\n",
    "     \n",
    "    # Massenbilanzgleichungen (Typ BILANZ)\n",
    "    res0 = M0*x0s + M7*x7s - M1*x1s\n",
    "    res1 = M0*x0w + M7*x7w - M1*x1w\n",
    "    res2 = M0*x0v + M7*x7v - M1*x1v\n",
    "    res3 = M1*x1s - M2*x2s - M5*x5s\n",
    "    res4 = M1*x1w - M2*x2w - M5*x5w\n",
    "    res5 = M1*x1v - M2*x2v - M5*x5v\n",
    "    res6 = M2*x2s - M3*x3s - M6*x6s\n",
    "    res7 = M2*x2w - M3*x3w - M6*x6w\n",
    "    res8 = M2*x2v - M3*x3v - M6*x6v\n",
    "    res9 = M6*x6s - M4*x4s - M7*x7s\n",
    "    res10 = M6*x6w - M4*x4w - M7*x7w\n",
    "    res11 = M6*x6v - M4*x4v - M7*x7v\n",
    "    \n",
    "    # Definition alpha (Typ KONST.)\n",
    "    res12 = alpha*M6 - M4\n",
    "    \n",
    "    # Schließbedingungen (Typ ZWANG)\n",
    "    res13 = 1 - (x1s + x1w + x1v)\n",
    "    res14 = 1 - (x2s + x2w + x2v)\n",
    "    res15 = 1 - (x3s + x3w + x3v)\n",
    "    res16 = 1 - (x4s + x4w + x4v)\n",
    "    res17 = 1 - (x5s + x5w + x5v)\n",
    "    res18 = 1 - (x6s + x6w + x6v)\n",
    "    res19 = 1 - (x7s + x7w + x7v)\n",
    "    \n",
    "    # Split (Typ ZWANG)\n",
    "    res20 = x7s - x4s\n",
    "    res21 = x7w - x4w\n",
    "    \n",
    "    # zu minimierender Residuumsvektor\n",
    "    Res = [res0, res1, res2, res3, res4, res5, \n",
    "           res6, res7, res8, res9, res10, res11, \n",
    "           res12, res13, res14, res15, res16, res17,\n",
    "           res18, res19, res20, res21]\n",
    "    \n",
    "    return Res"
   ]
  },
  {
   "cell_type": "markdown",
   "id": "62e88882-2667-4381-915f-512f9f764e70",
   "metadata": {
    "tags": []
   },
   "source": [
    "# Eingabe der Werte"
   ]
  },
  {
   "cell_type": "code",
   "execution_count": 5,
   "id": "f5d8c7d7-327e-4bc0-ac72-a1304e93e0b8",
   "metadata": {},
   "outputs": [],
   "source": [
    "'''\n",
    "alle Größen: \n",
    "M = Massenstrom [kg/h]\n",
    "x = Massenanteil in Strom [-]\n",
    "alpha = Splitfaktor [-]\n",
    "\n",
    "einige Indizes: (Indizierung siehe Modellgleichungen im Skript)\n",
    "_w = Wasser\n",
    "_s = Salz\n",
    "_v = Verunreinigung\n",
    "'''\n",
    "\n",
    "# Vorgabe PARAMETER (Typ ZWANG)\n",
    "M0 = 1000.0\n",
    "x0s = 0.5 \n",
    "x0w = 0.49 \n",
    "x0v = 0.01 \n",
    "x2s = 0.7 \n",
    "x5s = 0.0\n",
    "x5v = 0.0\n",
    "x3w = 0.0\n",
    "x3v = 0.0\n",
    "x6s = 0.5 \n",
    "alpha = 0.1 \n",
    "X_para = [M0, x0s, x0w, x0v, x2s, x5s, x5v, x3w, x3v, x6s, alpha]\n",
    "\n",
    "# VARIABLEN\n",
    "variablen_namen = [\"M1\", \"x1s\", \"x1w\" ,\"x1v\" ,\"M2\" ,\n",
    "                   \"x2w\" ,\"x2v\" ,\"M5\" ,\"x5w\" ,\"M3\" ,\n",
    "                   \"x3s\" ,\"M6\" ,\"x6w\" ,\"x6v\" ,\"M4\" ,\n",
    "                   \"x4s\", \"x4w\",\"x4v\" ,\"M7\" ,\"x7s\" ,\n",
    "                   \"x7w\", \"x7v\"]\n",
    "\n",
    "# SCHAETZWERTE VARIABLEN\n",
    "X_var_0 = [2000, 0.33, 0.33, 0.33, 1500, \n",
    "           0.15, 0.15, 500,  0.5,  500,\n",
    "           0.5,  1000, 0.25, 0.25, 100, \n",
    "           0.33, 0.33, 0.33, 900,  0.33,\n",
    "           0.33, 0.33]"
   ]
  },
  {
   "cell_type": "markdown",
   "id": "4cb23c73-436d-49d1-8f38-30c63d57b20e",
   "metadata": {},
   "source": [
    "# Lösung durch Aufruf der Funtion(en)"
   ]
  },
  {
   "cell_type": "code",
   "execution_count": 18,
   "id": "03ea4bf9-8ac3-416a-9ef9-89caecc49a24",
   "metadata": {},
   "outputs": [
    {
     "name": "stdout",
     "output_type": "stream",
     "text": [
      "[1.62790698e+03 5.00000000e-01 4.38571429e-01 6.14285714e-02\n",
      " 1.16279070e+03 2.14000000e-01 8.60000000e-02 4.65116279e+02\n",
      " 1.00000000e+00 4.65116279e+02 1.00000000e+00 6.97674419e+02\n",
      " 3.56666667e-01 1.43333333e-01 6.97674419e+01 5.00000000e-01\n",
      " 3.56666667e-01 1.43333333e-01 6.27906977e+02 5.00000000e-01\n",
      " 3.56666667e-01 1.43333333e-01]\n"
     ]
    }
   ],
   "source": [
    "# solver approximiert: res->0 für MODELLGLEICHUNGEN(X_var), Startwert X_var_0\n",
    "X_var = fsolve( lambda X_var: F(X_var, X_para), X_var_0 )\n",
    "\n",
    "# Residuumsvektor durch Einsetzen des gefundenen Lösungsvektors\n",
    "res = F(X_var, X_para)\n",
    "# Runden\n",
    "res = np.round(res, 7)"
   ]
  },
  {
   "cell_type": "markdown",
   "id": "9af770ef-d89a-42c8-8bd3-2b3033916ac5",
   "metadata": {},
   "source": [
    "# Untersuchung der Ergebnisse"
   ]
  },
  {
   "cell_type": "code",
   "execution_count": 21,
   "id": "eb635122-240f-4ac2-a02b-7eeb743a1bb6",
   "metadata": {
    "scrolled": true,
    "tags": []
   },
   "outputs": [
    {
     "name": "stdout",
     "output_type": "stream",
     "text": [
      "\n",
      "Variablen: 22\n",
      "\n",
      "This is Test_Text\n",
      "X_var      Wert         \n",
      "\n",
      "M1         1627.907     \n",
      "x1s        0.5          \n",
      "x1w        0.439        \n",
      "x1v        0.061        \n",
      "M2         1162.791     \n",
      "x2w        0.214        \n",
      "x2v        0.086        \n",
      "M5         465.116      \n",
      "x5w        1.0          \n",
      "M3         465.116      \n",
      "x3s        1.0          \n",
      "M6         697.674      \n",
      "x6w        0.357        \n",
      "x6v        0.143        \n",
      "M4         69.767       \n",
      "x4s        0.5          \n",
      "x4w        0.357        \n",
      "x4v        0.143        \n",
      "M7         627.907      \n",
      "x7s        0.5          \n",
      "x7w        0.357        \n",
      "x7v        0.143        \n",
      "\n",
      "res = \n",
      "[-0.  0.  0. -0. -0. -0.  0. -0.  0.  0. -0. -0. -0.  0.  0.  0.  0.  0.\n",
      "  0.  0.  0.  0.]\n"
     ]
    }
   ],
   "source": [
    "# print out der Ergebnisse\n",
    "print(\"\\nVariablen: \" + str(len(X_var)))\n",
    "\n",
    "'''In the following, a formatted string is printed using the string.format() method.\n",
    "   The curled brackets will be filled-in by the argument(s) of the method.\n",
    "   The format of the filled-in arguments are defined within the curled brackets.'''\n",
    "print(\"\\nThis is Test_Text\\n{:<10} {:<13}\".format('X_var','Wert')+'\\n')\n",
    "\n",
    "'''In the following for-loop \"enumerate()\" creates i[0] and i[1].\n",
    "   i[0] is the current index of the for-loop\n",
    "   i[1] is the current value of the argument of \"enumerate()'''\n",
    "for i in enumerate(X_var):\n",
    "    label = variablen_namen[i[0]]\n",
    "    wert = np.round(i[1], 3)\n",
    "    print(\"{:<10} {:<13}\".format(label, wert))\n",
    "        \n",
    "print (\"\\nres = \\n\" + str (res))"
   ]
  },
  {
   "cell_type": "code",
   "execution_count": null,
   "id": "15f59fba-cc35-4fbb-bd54-9579a353419d",
   "metadata": {},
   "outputs": [],
   "source": []
  }
 ],
 "metadata": {
  "kernelspec": {
   "display_name": "Python 3 (ipykernel)",
   "language": "python",
   "name": "python3"
  },
  "language_info": {
   "codemirror_mode": {
    "name": "ipython",
    "version": 3
   },
   "file_extension": ".py",
   "mimetype": "text/x-python",
   "name": "python",
   "nbconvert_exporter": "python",
   "pygments_lexer": "ipython3",
   "version": "3.8.12"
  }
 },
 "nbformat": 4,
 "nbformat_minor": 5
}
