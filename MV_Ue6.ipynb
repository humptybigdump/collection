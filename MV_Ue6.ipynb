{
 "cells": [
  {
   "cell_type": "markdown",
   "metadata": {},
   "source": [
    "<img src=\"kit_logo.jpg\" width=\"272\" height=\"125\" align=\"right\"/>\n",
    "\n",
    "##### Lehrstuhl für Analytics and Statistics (IOR)\n",
    "##### Prof. Dr. Oliver Grothe\n",
    "##### SS 2022"
   ]
  },
  {
   "cell_type": "markdown",
   "metadata": {},
   "source": [
    "# Multivariate Verfahren\n",
    "## Übung 6"
   ]
  },
  {
   "cell_type": "markdown",
   "metadata": {},
   "source": [
    "### Aufgabe 5"
   ]
  },
  {
   "cell_type": "markdown",
   "metadata": {},
   "source": [
    "Betrachten Sie den Datensatz *`pisa.csv`* aus Ilias. Dieser enthält die Werte für\n",
    ",,Lesekompetenz”, ,,Mathematische Grundbildung” und ,,Naturwissenschaftliche Grundbildung”\n",
    "der Teilnehmerstaaten der PISA-Studie. \n",
    "\n",
    "Führen Sie eine Hauptkomponentenanalyse durch:\n",
    "\n",
    " a. Soll eine Hauptkomponentenanalyse eher mit der empirischen Kovarianzmatrix oder\n",
    "mit der empirischen Korrelationsmatrix durchgeführt werden?\n",
    "\n",
    " b. Finden Sie die Hauptkomponenten des Modells und interpretieren Sie sie soweit möglich.\n",
    "\n",
    " c. Wie viele Komponenten benötigen Sie?"
   ]
  },
  {
   "cell_type": "markdown",
   "metadata": {},
   "source": [
    "#### Datenvorbereitung"
   ]
  },
  {
   "cell_type": "markdown",
   "metadata": {},
   "source": [
    "- Daten einlesen:"
   ]
  },
  {
   "cell_type": "code",
   "execution_count": null,
   "metadata": {},
   "outputs": [],
   "source": [
    "import numpy as np\n",
    "import pandas as pd\n",
    "df = pd.read_csv(\"./pisa.csv\", sep=',', header=None)\n",
    "df = pd.DataFrame.to_numpy(df)\n",
    "df[:10]\n"
   ]
  },
  {
   "cell_type": "markdown",
   "metadata": {},
   "source": [
    "-  Plot der orginale Daten"
   ]
  },
  {
   "cell_type": "code",
   "execution_count": null,
   "metadata": {},
   "outputs": [],
   "source": [
    "import matplotlib.pyplot as plt\n",
    "from matplotlib import cm\n",
    "from mpl_toolkits.mplot3d import Axes3D\n",
    "%matplotlib widget\n",
    "\n",
    "fig = plt.figure(figsize=(7, 5), dpi=80, facecolor='w', edgecolor='k')\n",
    "ax = fig.add_subplot(111, projection='3d')\n",
    "\n",
    "x1 = df[:, 0]\n",
    "x2 = df[:, 1]\n",
    "x3 = df[:, 2]\n",
    "ax3d = ax.scatter3D(x1, x2, x3, c='r')\n",
    "ax_vi = ax.view_init(None, 300)\n"
   ]
  },
  {
   "cell_type": "markdown",
   "metadata": {},
   "source": [
    "- Berechnung der empirischen Kovarianzmatrix"
   ]
  },
  {
   "cell_type": "code",
   "execution_count": null,
   "metadata": {},
   "outputs": [],
   "source": [
    "covar = np.cov(np.transpose(df))\n",
    "covar\n"
   ]
  },
  {
   "cell_type": "code",
   "execution_count": null,
   "metadata": {},
   "outputs": [],
   "source": [
    "from numpy import linalg as LA\n",
    "w, v = LA.eig(covar)\n",
    "\n",
    "print('Eigenvalues of covariance matrix: ', w)\n",
    "print('Normalized eigenvectors of covariance matrix: ', '\\n', v)\n",
    "# sanity check sum of eigenvalues\n",
    "print('Sum of eigenvalues: ', np.sum(w))\n",
    "print('Trace of covariance matrix: ', np.trace(covar))\n"
   ]
  },
  {
   "cell_type": "markdown",
   "metadata": {},
   "source": [
    "- Berechnung der empirischen Korrelationsmatrix"
   ]
  },
  {
   "cell_type": "code",
   "execution_count": null,
   "metadata": {},
   "outputs": [],
   "source": [
    "# correlation coefficient matrix\n",
    "cor = np.corrcoef(df.T)\n",
    "cor\n"
   ]
  },
  {
   "cell_type": "code",
   "execution_count": null,
   "metadata": {},
   "outputs": [],
   "source": [
    "eig_vals, eig_vecs = np.linalg.eig(cor)\n",
    "\n",
    "print('Eigenvalues of correlation coefficient matrix: ', eig_vals)\n",
    "print('Normalized eigenvectors of correlation coefficient matrix: ', '\\n', eig_vecs)\n",
    "# sanity check sum of eigenvalues\n",
    "print('Sum of eigenvalues: ', np.sum(eig_vals))\n",
    "print('Trace of correlation coefficient matrix: ', np.trace(cor))\n"
   ]
  },
  {
   "cell_type": "markdown",
   "metadata": {},
   "source": [
    "#### Hauptkomponentenanalyse"
   ]
  },
  {
   "cell_type": "markdown",
   "metadata": {},
   "source": [
    "- Berechnung der zentrierten Daten"
   ]
  },
  {
   "cell_type": "code",
   "execution_count": null,
   "metadata": {},
   "outputs": [],
   "source": [
    "import numpy.matlib\n",
    "df_mean = np.matlib.repmat(np.mean(df, axis=0), 31, 1)\n",
    "df2 = df-df_mean  # centered data\n",
    "df2[:10]\n"
   ]
  },
  {
   "cell_type": "markdown",
   "metadata": {},
   "source": [
    "- Model festlegen und anpassen"
   ]
  },
  {
   "cell_type": "code",
   "execution_count": null,
   "metadata": {},
   "outputs": [],
   "source": [
    "# pca\n",
    "from sklearn.decomposition import PCA\n",
    "pca = PCA()\n",
    "pca.fit(df)\n",
    "coeff = pca.components_.T\n",
    "score = pca.fit_transform(df)\n",
    "latent = pca.explained_variance_\n",
    "print('coeff: ', coeff)\n",
    "print('score: ', score)\n",
    "print('latent: ', latent)\n"
   ]
  },
  {
   "cell_type": "markdown",
   "metadata": {},
   "source": [
    "- Plot der neue Koordinaten in gleichem euklidischem Raum"
   ]
  },
  {
   "cell_type": "code",
   "execution_count": null,
   "metadata": {},
   "outputs": [],
   "source": [
    "fig = plt.figure(figsize=(7, 5), dpi=80, facecolor='w', edgecolor='k')\n",
    "ax = fig.add_subplot(111, projection='3d')\n",
    "x1 = score[:, 0]\n",
    "x2 = score[:, 1]\n",
    "x3 = score[:, 2]\n",
    "ax.scatter3D(x1, x2, x3, c='b', label='new coordinates from PCA')\n",
    "y1 = df2[:, 0]\n",
    "y2 = df2[:, 1]\n",
    "y3 = df2[:, 2]\n",
    "ax.scatter3D(y1, y2, y3, c='k', label='coordinates in euclidean space')\n",
    "ax.view_init(None, 300)\n",
    "ax.legend(loc='upper right')\n",
    "plt.show()\n"
   ]
  },
  {
   "cell_type": "markdown",
   "metadata": {},
   "source": [
    "- manuelle Berechnung der neue Koordinaten (Scores)"
   ]
  },
  {
   "cell_type": "code",
   "execution_count": null,
   "metadata": {},
   "outputs": [],
   "source": [
    "score_manual = np.matmul(df2, coeff)\n",
    "score_manual"
   ]
  },
  {
   "cell_type": "markdown",
   "metadata": {},
   "source": [
    "# Exkurs"
   ]
  },
  {
   "cell_type": "markdown",
   "metadata": {},
   "source": [
    "- Plot der Eigenvektoren (Loadings) "
   ]
  },
  {
   "cell_type": "code",
   "execution_count": null,
   "metadata": {},
   "outputs": [],
   "source": [
    "from matplotlib.patches import FancyArrowPatch\n",
    "from mpl_toolkits.mplot3d import proj3d\n",
    "\n",
    "\n",
    "class Arrow3D(FancyArrowPatch):\n",
    "    def __init__(self, xs, ys, zs, *args, **kwargs):\n",
    "        FancyArrowPatch.__init__(self, (0, 0), (0, 0), *args, **kwargs)\n",
    "        self._verts3d = xs, ys, zs\n",
    "\n",
    "    def draw(self, renderer):\n",
    "        xs3d, ys3d, zs3d = self._verts3d\n",
    "        xs, ys, zs = proj3d.proj_transform(xs3d, ys3d, zs3d, renderer.M)\n",
    "        self.set_positions((xs[0], ys[0]), (xs[1], ys[1]))\n",
    "        FancyArrowPatch.draw(self, renderer)\n"
   ]
  },
  {
   "cell_type": "code",
   "execution_count": null,
   "metadata": {},
   "outputs": [],
   "source": [
    "fig = plt.figure(figsize=(7, 5), dpi=80, facecolor='w', edgecolor='k')\n",
    "ax = fig.add_subplot(111, projection='3d')\n",
    "\n",
    "y1 = df[:, 0]\n",
    "y2 = df[:, 1]\n",
    "y3 = df[:, 2]\n",
    "ax.scatter3D(y1, y2, y3, c='k', label='coordinates in euclidean space')\n",
    "for v in coeff.T:\n",
    "    a = Arrow3D([np.mean(df, axis=0)[0], np.mean(df, axis=0)[0]+100*v[0]], [np.mean(df, axis=0)[1], np.mean(df, axis=0)[1]+100*v[1]],\n",
    "                [np.mean(df, axis=0)[2], np.mean(df, axis=0)[2]+100*v[2]], mutation_scale=20,\n",
    "                lw=1, arrowstyle=\"-|>\", color=\"r\")\n",
    "    ax.add_artist(a)\n",
    "ax.view_init(None, 300)\n",
    "ax.legend(loc='upper right')\n",
    "plt.draw()\n",
    "plt.show()\n"
   ]
  },
  {
   "cell_type": "markdown",
   "metadata": {},
   "source": [
    "-  Rekonstruierte Daten aus 2 Hauptkomponenten"
   ]
  },
  {
   "cell_type": "code",
   "execution_count": null,
   "metadata": {},
   "outputs": [],
   "source": [
    "x_2 = np.matmul(score[:, :2], coeff[:, :2].T)\n"
   ]
  },
  {
   "cell_type": "markdown",
   "metadata": {},
   "source": [
    "- Berechnung des Anteils der erklärten Varianz an der Gesamtvarianz "
   ]
  },
  {
   "cell_type": "code",
   "execution_count": null,
   "metadata": {},
   "outputs": [],
   "source": [
    "explained_variances = latent[:2].sum()\n",
    "explained_variances_share = explained_variances/latent.sum()\n",
    "print('explained variances of the frist 2 components: ', explained_variances_share)\n"
   ]
  },
  {
   "cell_type": "markdown",
   "metadata": {},
   "source": [
    "* Prüfen, ob Abweichung zwischen Originaldaten und Rekonstruktion (mit  allen Komponenten!) in allen Zeilen in jeder (ursprünglichen) Dimension kleiner 0.01 ist"
   ]
  },
  {
   "cell_type": "code",
   "execution_count": null,
   "metadata": {},
   "outputs": [],
   "source": [
    "x_rep = np.matmul(score, coeff.T)\n",
    "(np.abs(df2-x_rep) < 0.0001).all()\n"
   ]
  },
  {
   "cell_type": "markdown",
   "metadata": {},
   "source": [
    "- Plot der rekonstruierten Daten (2-dim) und Vergleich mit dem originalen Daten"
   ]
  },
  {
   "cell_type": "code",
   "execution_count": null,
   "metadata": {},
   "outputs": [],
   "source": [
    "fig = plt.figure(figsize=(7, 5), dpi=80, facecolor='w', edgecolor='k')\n",
    "ax = fig.add_subplot(111, projection='3d')\n",
    "\n",
    "x1 = x_2[:, 0]\n",
    "x2 = x_2[:, 1]\n",
    "x3 = x_2[:, 2]\n",
    "ax.scatter3D(x1, x2, x3, c='b', label='reconstructed centered data')\n",
    "\n",
    "y1 = df2[:, 0]\n",
    "y2 = df2[:, 1]\n",
    "y3 = df2[:, 2]\n",
    "ax.scatter3D(y1, y2, y3, c='r', label='original centered data')\n",
    "ax.view_init(None, 300)\n",
    "ax.legend(loc='upper right')\n",
    "plt.show()\n"
   ]
  },
  {
   "cell_type": "code",
   "execution_count": null,
   "metadata": {},
   "outputs": [],
   "source": []
  }
 ],
 "metadata": {
  "kernelspec": {
   "display_name": "Python 3.10.4 ('venv': venv)",
   "language": "python",
   "name": "python3"
  },
  "language_info": {
   "codemirror_mode": {
    "name": "ipython",
    "version": 3
   },
   "file_extension": ".py",
   "mimetype": "text/x-python",
   "name": "python",
   "nbconvert_exporter": "python",
   "pygments_lexer": "ipython3",
   "version": "3.10.4"
  },
  "vscode": {
   "interpreter": {
    "hash": "744f1ca0fa93ee713ec396edee2ca2d83f08d337b4804b3d81e4d628628502ad"
   }
  }
 },
 "nbformat": 4,
 "nbformat_minor": 4
}
