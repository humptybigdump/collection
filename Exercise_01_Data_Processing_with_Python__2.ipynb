{
 "cells": [
  {
   "cell_type": "markdown",
   "metadata": {
    "colab_type": "text",
    "id": "zK29wqgvDfA4"
   },
   "source": [
    "# Exercise 01 - Data Processing with Python"
   ]
  },
  {
   "cell_type": "markdown",
   "metadata": {
    "colab_type": "text",
    "id": "OPqZi6Cip93p"
   },
   "source": [
    "##  Introduction\n",
    "\n",
    "Machine learning is the science of programming computers to learn from data. In order to build sophisticated machine learning models, it is important to prepare the data to learn from beforehand. This Notebook gives an introduction to the required data processing steps applied to the Titanic Survival dataset.\n",
    "\n",
    "This dataset contains demographics and passenger information from 891 of the 2224 passengers and crew on board the RMS Titanic. \n",
    "\n",
    "![RMS Titanic departing Southampton on April 10, 1912.](https://upload.wikimedia.org/wikipedia/commons/thumb/f/fd/RMS_Titanic_3.jpg/640px-RMS_Titanic_3.jpg)\n",
    "\n",
    "\n",
    "\n",
    "\n",
    "\n"
   ]
  },
  {
   "cell_type": "markdown",
   "metadata": {
    "colab_type": "text",
    "id": "OIMpw4YC9fia"
   },
   "source": [
    "## Objectives\n",
    "After this exercise you should be familiar with the following operations, which are needed when you work with data.\n",
    " * Data loading\n",
    " * Data viewing\n",
    " * Data cleaning\n",
    " * Data slicing\n",
    " * Data mapping\n",
    "\n",
    "In this exercise we'll be using mainly *pandas*  and *numpy* for data processing, *scikit-learn* for data analysis and *seaborn/matplotlib* for visualization respectively."
   ]
  },
  {
   "cell_type": "markdown",
   "metadata": {
    "colab_type": "text",
    "id": "UXvWz9Ihk88x"
   },
   "source": [
    "## Why do we use Python?\n",
    "\n",
    "![Python vs R](https://i.redd.it/6u6ko8vts2h81.jpg)\n",
    "* Since 2021, Python is the most popular programming language\n",
    "* Every important Deep Learing Library uses Python\n",
    "* Nearly all ML-research is done in Python\n",
    "\n",
    "* A lot of  libraries make Python applicable to every step of the data science process like\n",
    "    * data management,\n",
    "    * analytical processing, and \n",
    "    * visualization libraries.\n",
    "* View of ML-Team. Currently, there is no alternative to Python\n",
    "\n",
    "     \n",
    " * **Java**\n",
    " ```java\n",
    " public class HelloWorld {\n",
    "         public static void main(String[] args) {\n",
    "             System.out.println(\"Hello World\");\n",
    "         }\n",
    " }\n",
    " ```\n",
    " \n",
    " * **Python**\n",
    " ```python\n",
    " print('Hello World')\n",
    " ```\n",
    " * **C**\n",
    " ```\n",
    " #include \"stdio.h\"\n",
    " int main() {\n",
    " int x = 3\n",
    " int y = 4\n",
    " printf(\"%s\"\\n,x+y);\n",
    " }\n",
    " ```    \n",
    " * **Python**\n",
    " ```python\n",
    " x = 3\n",
    " y = 4\n",
    " print(x+y)\n",
    "  ```"
   ]
  },
  {
   "cell_type": "markdown",
   "metadata": {
    "colab_type": "text",
    "id": "_8blBjOpw4XX"
   },
   "source": [
    "## Getting Started with the Dataset\n",
    "\n",
    "For this exercise we'll be using the Titanic data set.\n",
    "It contains the passenger data from the RMS Titanic, including whether a passenger survived the sinking of the ship or not.\n",
    "The dataset can be downloaded from [Kaggle](https://www.kaggle.com/c/3136/download-all).\n",
    "\n",
    "**Our goal is to create a model to predict whether a passenger survived or not based on the given attributes.**"
   ]
  },
  {
   "cell_type": "code",
   "execution_count": 1,
   "metadata": {
    "colab": {},
    "colab_type": "code",
    "id": "Qk9FDv1RXeL_"
   },
   "outputs": [],
   "source": [
    "# Import required Packages\n",
    "import pandas as pd # \"Excel\" in python\n",
    "import numpy as np # fast mathematical operations\n",
    "import seaborn as sns # visualization tool\n",
    "from collections import Counter #\n",
    "import matplotlib.pyplot as plt # visualization tool\n",
    "import sklearn # machine learning library containing nearly all ML-algorithms (not suitable for deep learning with neural nets)"
   ]
  },
  {
   "cell_type": "markdown",
   "metadata": {
    "colab_type": "text",
    "id": "DqZatG0ArZVS"
   },
   "source": [
    "*If you are using Google Colab, press on the left the folder symbol and  upload train.csv and test.csv*\n"
   ]
  },
  {
   "cell_type": "markdown",
   "metadata": {
    "colab_type": "text",
    "id": "tJDg1bP9rUpU"
   },
   "source": [
    "Now we can use the dataset and start analyzing it.\n"
   ]
  },
  {
   "cell_type": "code",
   "execution_count": 2,
   "metadata": {
    "colab": {
     "base_uri": "https://localhost:8080/",
     "height": 206
    },
    "colab_type": "code",
    "id": "wnlLcan3rUZ1",
    "outputId": "f3130b02-70d8-4bf8-b08b-ab07327b91aa"
   },
   "outputs": [
    {
     "data": {
      "text/html": [
       "<div>\n",
       "<style scoped>\n",
       "    .dataframe tbody tr th:only-of-type {\n",
       "        vertical-align: middle;\n",
       "    }\n",
       "\n",
       "    .dataframe tbody tr th {\n",
       "        vertical-align: top;\n",
       "    }\n",
       "\n",
       "    .dataframe thead th {\n",
       "        text-align: right;\n",
       "    }\n",
       "</style>\n",
       "<table border=\"1\" class=\"dataframe\">\n",
       "  <thead>\n",
       "    <tr style=\"text-align: right;\">\n",
       "      <th></th>\n",
       "      <th>PassengerId</th>\n",
       "      <th>Survived</th>\n",
       "      <th>Pclass</th>\n",
       "      <th>Name</th>\n",
       "      <th>Sex</th>\n",
       "      <th>Age</th>\n",
       "      <th>SibSp</th>\n",
       "      <th>Parch</th>\n",
       "      <th>Ticket</th>\n",
       "      <th>Fare</th>\n",
       "      <th>Cabin</th>\n",
       "      <th>Embarked</th>\n",
       "    </tr>\n",
       "  </thead>\n",
       "  <tbody>\n",
       "    <tr>\n",
       "      <th>0</th>\n",
       "      <td>1</td>\n",
       "      <td>0</td>\n",
       "      <td>3</td>\n",
       "      <td>Braund, Mr. Owen Harris</td>\n",
       "      <td>male</td>\n",
       "      <td>22.0</td>\n",
       "      <td>1</td>\n",
       "      <td>0</td>\n",
       "      <td>A/5 21171</td>\n",
       "      <td>7.2500</td>\n",
       "      <td>NaN</td>\n",
       "      <td>S</td>\n",
       "    </tr>\n",
       "    <tr>\n",
       "      <th>1</th>\n",
       "      <td>2</td>\n",
       "      <td>1</td>\n",
       "      <td>1</td>\n",
       "      <td>Cumings, Mrs. John Bradley (Florence Briggs Th...</td>\n",
       "      <td>female</td>\n",
       "      <td>38.0</td>\n",
       "      <td>1</td>\n",
       "      <td>0</td>\n",
       "      <td>PC 17599</td>\n",
       "      <td>71.2833</td>\n",
       "      <td>C85</td>\n",
       "      <td>C</td>\n",
       "    </tr>\n",
       "    <tr>\n",
       "      <th>2</th>\n",
       "      <td>3</td>\n",
       "      <td>1</td>\n",
       "      <td>3</td>\n",
       "      <td>Heikkinen, Miss. Laina</td>\n",
       "      <td>female</td>\n",
       "      <td>26.0</td>\n",
       "      <td>0</td>\n",
       "      <td>0</td>\n",
       "      <td>STON/O2. 3101282</td>\n",
       "      <td>7.9250</td>\n",
       "      <td>NaN</td>\n",
       "      <td>S</td>\n",
       "    </tr>\n",
       "    <tr>\n",
       "      <th>3</th>\n",
       "      <td>4</td>\n",
       "      <td>1</td>\n",
       "      <td>1</td>\n",
       "      <td>Futrelle, Mrs. Jacques Heath (Lily May Peel)</td>\n",
       "      <td>female</td>\n",
       "      <td>35.0</td>\n",
       "      <td>1</td>\n",
       "      <td>0</td>\n",
       "      <td>113803</td>\n",
       "      <td>53.1000</td>\n",
       "      <td>C123</td>\n",
       "      <td>S</td>\n",
       "    </tr>\n",
       "    <tr>\n",
       "      <th>4</th>\n",
       "      <td>5</td>\n",
       "      <td>0</td>\n",
       "      <td>3</td>\n",
       "      <td>Allen, Mr. William Henry</td>\n",
       "      <td>male</td>\n",
       "      <td>35.0</td>\n",
       "      <td>0</td>\n",
       "      <td>0</td>\n",
       "      <td>373450</td>\n",
       "      <td>8.0500</td>\n",
       "      <td>NaN</td>\n",
       "      <td>S</td>\n",
       "    </tr>\n",
       "  </tbody>\n",
       "</table>\n",
       "</div>"
      ],
      "text/plain": [
       "   PassengerId  Survived  Pclass  \\\n",
       "0            1         0       3   \n",
       "1            2         1       1   \n",
       "2            3         1       3   \n",
       "3            4         1       1   \n",
       "4            5         0       3   \n",
       "\n",
       "                                                Name     Sex   Age  SibSp  \\\n",
       "0                            Braund, Mr. Owen Harris    male  22.0      1   \n",
       "1  Cumings, Mrs. John Bradley (Florence Briggs Th...  female  38.0      1   \n",
       "2                             Heikkinen, Miss. Laina  female  26.0      0   \n",
       "3       Futrelle, Mrs. Jacques Heath (Lily May Peel)  female  35.0      1   \n",
       "4                           Allen, Mr. William Henry    male  35.0      0   \n",
       "\n",
       "   Parch            Ticket     Fare Cabin Embarked  \n",
       "0      0         A/5 21171   7.2500   NaN        S  \n",
       "1      0          PC 17599  71.2833   C85        C  \n",
       "2      0  STON/O2. 3101282   7.9250   NaN        S  \n",
       "3      0            113803  53.1000  C123        S  \n",
       "4      0            373450   8.0500   NaN        S  "
      ]
     },
     "execution_count": 2,
     "metadata": {},
     "output_type": "execute_result"
    }
   ],
   "source": [
    "# Load the train and test datasets from the CSV files\n",
    "train = pd.read_csv('train.csv')\n",
    "test = pd.read_csv('test.csv')\n",
    "\n",
    "# Combine the datasets for training and testing to one full data set\n",
    "full_data = [train, test]\n",
    "\n",
    "# Display the first 5 rows of the train data set\n",
    "train.head(5)"
   ]
  },
  {
   "cell_type": "code",
   "execution_count": 3,
   "metadata": {
    "colab": {
     "base_uri": "https://localhost:8080/",
     "height": 53
    },
    "colab_type": "code",
    "id": "o6-WdtKMEG1g",
    "outputId": "a1bbf470-da26-4abc-d2b0-0ee7b71effe6"
   },
   "outputs": [
    {
     "data": {
      "text/plain": [
       "array(['PassengerId', 'Survived', 'Pclass', 'Name', 'Sex', 'Age', 'SibSp',\n",
       "       'Parch', 'Ticket', 'Fare', 'Cabin', 'Embarked'], dtype=object)"
      ]
     },
     "execution_count": 3,
     "metadata": {},
     "output_type": "execute_result"
    }
   ],
   "source": [
    "# Print the columns of the data frame\n",
    "train.columns.values"
   ]
  },
  {
   "cell_type": "markdown",
   "metadata": {
    "colab_type": "text",
    "id": "iaXUuHabtWCq"
   },
   "source": [
    " *  **Survived**: Outcome of survival (int: 0 = No; 1 = Yes) \n",
    " *  **Pclass**: Socio-economic class (int: 1 = Upper class; 2 = Middle class; 3 = Lower class)\n",
    " * **Name**: Name of passenger (string)\n",
    " * **Sex**: Sex of the passenger (string)\n",
    " * **Age**: Age of the passenger (float: Some entries contain NaN)\n",
    " * **SibSp**: Number of siblings and spouses of the passenger aboard (int)\n",
    " * **Parch**: Number of parents and children of the passenger aboard (int)\n",
    " * **Ticket**: Ticket number of the passenger (string)\n",
    " * **Fare**: Fare paid by the passenger (float)\n",
    " * **Cabin** Cabin number of the passenger (string: Some entries contain NaN)\n",
    " * **Embarked**: Port of embarkation of the passenger (string: C = Cherbourg; Q = Queenstown; S = Southampton)\n"
   ]
  },
  {
   "cell_type": "markdown",
   "metadata": {},
   "source": [
    "Inspect the data, *info* can be used to show how complete or incomplete the dataset is"
   ]
  },
  {
   "cell_type": "code",
   "execution_count": 4,
   "metadata": {
    "colab": {
     "base_uri": "https://localhost:8080/",
     "height": 319
    },
    "colab_type": "code",
    "id": "DylW5_AK7wlh",
    "outputId": "8c236a10-c7b0-42db-bff0-f27b64a3195e"
   },
   "outputs": [
    {
     "name": "stdout",
     "output_type": "stream",
     "text": [
      "<class 'pandas.core.frame.DataFrame'>\n",
      "RangeIndex: 891 entries, 0 to 890\n",
      "Data columns (total 12 columns):\n",
      " #   Column       Non-Null Count  Dtype  \n",
      "---  ------       --------------  -----  \n",
      " 0   PassengerId  891 non-null    int64  \n",
      " 1   Survived     891 non-null    int64  \n",
      " 2   Pclass       891 non-null    int64  \n",
      " 3   Name         891 non-null    object \n",
      " 4   Sex          891 non-null    object \n",
      " 5   Age          714 non-null    float64\n",
      " 6   SibSp        891 non-null    int64  \n",
      " 7   Parch        891 non-null    int64  \n",
      " 8   Ticket       891 non-null    object \n",
      " 9   Fare         891 non-null    float64\n",
      " 10  Cabin        204 non-null    object \n",
      " 11  Embarked     889 non-null    object \n",
      "dtypes: float64(2), int64(5), object(5)\n",
      "memory usage: 83.7+ KB\n"
     ]
    }
   ],
   "source": [
    "train.info()"
   ]
  },
  {
   "cell_type": "markdown",
   "metadata": {
    "colab_type": "text",
    "id": "eGitn_m7HDkv"
   },
   "source": [
    "To display information about a specific passenger, we can select a row with the following command:"
   ]
  },
  {
   "cell_type": "code",
   "execution_count": 5,
   "metadata": {
    "colab": {
     "base_uri": "https://localhost:8080/",
     "height": 248
    },
    "colab_type": "code",
    "id": "J_az9Iv5Hhka",
    "outputId": "63a84cf7-c1c4-420a-8628-c9d53ddb39a4"
   },
   "outputs": [
    {
     "data": {
      "text/plain": [
       "PassengerId                                  16\n",
       "Survived                                      1\n",
       "Pclass                                        2\n",
       "Name           Hewlett, Mrs. (Mary D Kingcome) \n",
       "Sex                                      female\n",
       "Age                                        55.0\n",
       "SibSp                                         0\n",
       "Parch                                         0\n",
       "Ticket                                   248706\n",
       "Fare                                       16.0\n",
       "Cabin                                       NaN\n",
       "Embarked                                      S\n",
       "Name: 15, dtype: object"
      ]
     },
     "execution_count": 5,
     "metadata": {},
     "output_type": "execute_result"
    }
   ],
   "source": [
    "# iloc: index location\n",
    "train.iloc[15]"
   ]
  },
  {
   "cell_type": "code",
   "execution_count": 6,
   "metadata": {
    "colab": {
     "base_uri": "https://localhost:8080/",
     "height": 206
    },
    "colab_type": "code",
    "id": "HxzMR70EqVkt",
    "outputId": "ea9ded2d-fbd7-4736-beaa-23a950d2304b"
   },
   "outputs": [
    {
     "data": {
      "text/html": [
       "<div>\n",
       "<style scoped>\n",
       "    .dataframe tbody tr th:only-of-type {\n",
       "        vertical-align: middle;\n",
       "    }\n",
       "\n",
       "    .dataframe tbody tr th {\n",
       "        vertical-align: top;\n",
       "    }\n",
       "\n",
       "    .dataframe thead th {\n",
       "        text-align: right;\n",
       "    }\n",
       "</style>\n",
       "<table border=\"1\" class=\"dataframe\">\n",
       "  <thead>\n",
       "    <tr style=\"text-align: right;\">\n",
       "      <th></th>\n",
       "      <th>PassengerId</th>\n",
       "      <th>Survived</th>\n",
       "      <th>Pclass</th>\n",
       "      <th>Name</th>\n",
       "      <th>Sex</th>\n",
       "      <th>Age</th>\n",
       "      <th>SibSp</th>\n",
       "      <th>Parch</th>\n",
       "      <th>Ticket</th>\n",
       "      <th>Fare</th>\n",
       "      <th>Cabin</th>\n",
       "      <th>Embarked</th>\n",
       "    </tr>\n",
       "  </thead>\n",
       "  <tbody>\n",
       "    <tr>\n",
       "      <th>128</th>\n",
       "      <td>129</td>\n",
       "      <td>1</td>\n",
       "      <td>3</td>\n",
       "      <td>Peter, Miss. Anna</td>\n",
       "      <td>female</td>\n",
       "      <td>NaN</td>\n",
       "      <td>1</td>\n",
       "      <td>1</td>\n",
       "      <td>2668</td>\n",
       "      <td>22.3583</td>\n",
       "      <td>F E69</td>\n",
       "      <td>C</td>\n",
       "    </tr>\n",
       "    <tr>\n",
       "      <th>170</th>\n",
       "      <td>171</td>\n",
       "      <td>0</td>\n",
       "      <td>1</td>\n",
       "      <td>Van der hoef, Mr. Wyckoff</td>\n",
       "      <td>male</td>\n",
       "      <td>61.0</td>\n",
       "      <td>0</td>\n",
       "      <td>0</td>\n",
       "      <td>111240</td>\n",
       "      <td>33.5000</td>\n",
       "      <td>B19</td>\n",
       "      <td>S</td>\n",
       "    </tr>\n",
       "    <tr>\n",
       "      <th>287</th>\n",
       "      <td>288</td>\n",
       "      <td>0</td>\n",
       "      <td>3</td>\n",
       "      <td>Naidenoff, Mr. Penko</td>\n",
       "      <td>male</td>\n",
       "      <td>22.0</td>\n",
       "      <td>0</td>\n",
       "      <td>0</td>\n",
       "      <td>349206</td>\n",
       "      <td>7.8958</td>\n",
       "      <td>NaN</td>\n",
       "      <td>S</td>\n",
       "    </tr>\n",
       "    <tr>\n",
       "      <th>869</th>\n",
       "      <td>870</td>\n",
       "      <td>1</td>\n",
       "      <td>3</td>\n",
       "      <td>Johnson, Master. Harold Theodor</td>\n",
       "      <td>male</td>\n",
       "      <td>4.0</td>\n",
       "      <td>1</td>\n",
       "      <td>1</td>\n",
       "      <td>347742</td>\n",
       "      <td>11.1333</td>\n",
       "      <td>NaN</td>\n",
       "      <td>S</td>\n",
       "    </tr>\n",
       "    <tr>\n",
       "      <th>495</th>\n",
       "      <td>496</td>\n",
       "      <td>0</td>\n",
       "      <td>3</td>\n",
       "      <td>Yousseff, Mr. Gerious</td>\n",
       "      <td>male</td>\n",
       "      <td>NaN</td>\n",
       "      <td>0</td>\n",
       "      <td>0</td>\n",
       "      <td>2627</td>\n",
       "      <td>14.4583</td>\n",
       "      <td>NaN</td>\n",
       "      <td>C</td>\n",
       "    </tr>\n",
       "  </tbody>\n",
       "</table>\n",
       "</div>"
      ],
      "text/plain": [
       "     PassengerId  Survived  Pclass                             Name     Sex  \\\n",
       "128          129         1       3                Peter, Miss. Anna  female   \n",
       "170          171         0       1        Van der hoef, Mr. Wyckoff    male   \n",
       "287          288         0       3             Naidenoff, Mr. Penko    male   \n",
       "869          870         1       3  Johnson, Master. Harold Theodor    male   \n",
       "495          496         0       3            Yousseff, Mr. Gerious    male   \n",
       "\n",
       "      Age  SibSp  Parch  Ticket     Fare  Cabin Embarked  \n",
       "128   NaN      1      1    2668  22.3583  F E69        C  \n",
       "170  61.0      0      0  111240  33.5000    B19        S  \n",
       "287  22.0      0      0  349206   7.8958    NaN        S  \n",
       "869   4.0      1      1  347742  11.1333    NaN        S  \n",
       "495   NaN      0      0    2627  14.4583    NaN        C  "
      ]
     },
     "execution_count": 6,
     "metadata": {},
     "output_type": "execute_result"
    }
   ],
   "source": [
    "# Retrieve n number of samples from the data set\n",
    "train.sample(5)"
   ]
  },
  {
   "cell_type": "code",
   "execution_count": 7,
   "metadata": {
    "colab": {
     "base_uri": "https://localhost:8080/",
     "height": 300
    },
    "colab_type": "code",
    "id": "jWuN8vc-sYWI",
    "outputId": "f17de49f-31b4-4bbe-b41e-f11bd260234a",
    "scrolled": true
   },
   "outputs": [
    {
     "data": {
      "text/html": [
       "<div>\n",
       "<style scoped>\n",
       "    .dataframe tbody tr th:only-of-type {\n",
       "        vertical-align: middle;\n",
       "    }\n",
       "\n",
       "    .dataframe tbody tr th {\n",
       "        vertical-align: top;\n",
       "    }\n",
       "\n",
       "    .dataframe thead th {\n",
       "        text-align: right;\n",
       "    }\n",
       "</style>\n",
       "<table border=\"1\" class=\"dataframe\">\n",
       "  <thead>\n",
       "    <tr style=\"text-align: right;\">\n",
       "      <th></th>\n",
       "      <th>PassengerId</th>\n",
       "      <th>Survived</th>\n",
       "      <th>Pclass</th>\n",
       "      <th>Age</th>\n",
       "      <th>SibSp</th>\n",
       "      <th>Parch</th>\n",
       "      <th>Fare</th>\n",
       "    </tr>\n",
       "  </thead>\n",
       "  <tbody>\n",
       "    <tr>\n",
       "      <th>count</th>\n",
       "      <td>891.000000</td>\n",
       "      <td>891.000000</td>\n",
       "      <td>891.000000</td>\n",
       "      <td>714.000000</td>\n",
       "      <td>891.000000</td>\n",
       "      <td>891.000000</td>\n",
       "      <td>891.000000</td>\n",
       "    </tr>\n",
       "    <tr>\n",
       "      <th>mean</th>\n",
       "      <td>446.000000</td>\n",
       "      <td>0.383838</td>\n",
       "      <td>2.308642</td>\n",
       "      <td>29.699118</td>\n",
       "      <td>0.523008</td>\n",
       "      <td>0.381594</td>\n",
       "      <td>32.204208</td>\n",
       "    </tr>\n",
       "    <tr>\n",
       "      <th>std</th>\n",
       "      <td>257.353842</td>\n",
       "      <td>0.486592</td>\n",
       "      <td>0.836071</td>\n",
       "      <td>14.526497</td>\n",
       "      <td>1.102743</td>\n",
       "      <td>0.806057</td>\n",
       "      <td>49.693429</td>\n",
       "    </tr>\n",
       "    <tr>\n",
       "      <th>min</th>\n",
       "      <td>1.000000</td>\n",
       "      <td>0.000000</td>\n",
       "      <td>1.000000</td>\n",
       "      <td>0.420000</td>\n",
       "      <td>0.000000</td>\n",
       "      <td>0.000000</td>\n",
       "      <td>0.000000</td>\n",
       "    </tr>\n",
       "    <tr>\n",
       "      <th>25%</th>\n",
       "      <td>223.500000</td>\n",
       "      <td>0.000000</td>\n",
       "      <td>2.000000</td>\n",
       "      <td>20.125000</td>\n",
       "      <td>0.000000</td>\n",
       "      <td>0.000000</td>\n",
       "      <td>7.910400</td>\n",
       "    </tr>\n",
       "    <tr>\n",
       "      <th>50%</th>\n",
       "      <td>446.000000</td>\n",
       "      <td>0.000000</td>\n",
       "      <td>3.000000</td>\n",
       "      <td>28.000000</td>\n",
       "      <td>0.000000</td>\n",
       "      <td>0.000000</td>\n",
       "      <td>14.454200</td>\n",
       "    </tr>\n",
       "    <tr>\n",
       "      <th>75%</th>\n",
       "      <td>668.500000</td>\n",
       "      <td>1.000000</td>\n",
       "      <td>3.000000</td>\n",
       "      <td>38.000000</td>\n",
       "      <td>1.000000</td>\n",
       "      <td>0.000000</td>\n",
       "      <td>31.000000</td>\n",
       "    </tr>\n",
       "    <tr>\n",
       "      <th>max</th>\n",
       "      <td>891.000000</td>\n",
       "      <td>1.000000</td>\n",
       "      <td>3.000000</td>\n",
       "      <td>80.000000</td>\n",
       "      <td>8.000000</td>\n",
       "      <td>6.000000</td>\n",
       "      <td>512.329200</td>\n",
       "    </tr>\n",
       "  </tbody>\n",
       "</table>\n",
       "</div>"
      ],
      "text/plain": [
       "       PassengerId    Survived      Pclass         Age       SibSp  \\\n",
       "count   891.000000  891.000000  891.000000  714.000000  891.000000   \n",
       "mean    446.000000    0.383838    2.308642   29.699118    0.523008   \n",
       "std     257.353842    0.486592    0.836071   14.526497    1.102743   \n",
       "min       1.000000    0.000000    1.000000    0.420000    0.000000   \n",
       "25%     223.500000    0.000000    2.000000   20.125000    0.000000   \n",
       "50%     446.000000    0.000000    3.000000   28.000000    0.000000   \n",
       "75%     668.500000    1.000000    3.000000   38.000000    1.000000   \n",
       "max     891.000000    1.000000    3.000000   80.000000    8.000000   \n",
       "\n",
       "            Parch        Fare  \n",
       "count  891.000000  891.000000  \n",
       "mean     0.381594   32.204208  \n",
       "std      0.806057   49.693429  \n",
       "min      0.000000    0.000000  \n",
       "25%      0.000000    7.910400  \n",
       "50%      0.000000   14.454200  \n",
       "75%      0.000000   31.000000  \n",
       "max      6.000000  512.329200  "
      ]
     },
     "execution_count": 7,
     "metadata": {},
     "output_type": "execute_result"
    }
   ],
   "source": [
    "# Retrieve a statistical description of the data set\n",
    "train.describe()"
   ]
  },
  {
   "cell_type": "markdown",
   "metadata": {
    "colab_type": "text",
    "id": "YuJfd4rzDgf5"
   },
   "source": [
    "Above we can see that 38% out of the training-set survived the sinking of the RMS Titanic. We can also see that the passenger ages range from 0.4 years to 80 years.\n"
   ]
  },
  {
   "cell_type": "markdown",
   "metadata": {
    "colab_type": "text",
    "id": "vYAMq-gZDrI_"
   },
   "source": [
    "From the tables above, we can note a few things:\n",
    "1. We need to convert a lot of features into numeric ones\n",
    "2. We can see that the features have widely different ranges\n",
    "3. We can detect some features, that contain missing values"
   ]
  },
  {
   "cell_type": "markdown",
   "metadata": {
    "colab_type": "text",
    "id": "Y14A5NPWwcXh"
   },
   "source": [
    "## Visualizing the Data\n",
    "\n",
    "After a look at the tables and the description of our datasets we can't say a lot about the data yet. We are unaware of the distribution and correlation of the variables regarding the chances of survival for any given passenger.\n",
    "To get a better understanding about the dataset and its variables, it is helpful to visualize it.\n",
    "\n",
    "A good tool to visualize data using Python is the library *matplotlib*. It is well [documented](https://matplotlib.org/) and allows for extensive customizability.\n",
    "\n",
    "Additionally we will introduce [*seaborn*](https://seaborn.pydata.org/), a wrapper which uses matplotlib, but offers a higher-level interface for visualizing data.\n",
    "\n",
    "*Note: other visualization libraries for python exist, that are equally suitable (e.g. https://plotly.com/python/)*"
   ]
  },
  {
   "cell_type": "code",
   "execution_count": 8,
   "metadata": {
    "colab": {
     "base_uri": "https://localhost:8080/",
     "height": 336
    },
    "colab_type": "code",
    "id": "nEiIu-zHzp9r",
    "outputId": "3855b8f5-f952-46eb-9450-201f70734c7b"
   },
   "outputs": [
    {
     "data": {
      "image/png": "[encoded data removed]",
      "text/plain": [
       "<Figure size 1440x360 with 3 Axes>"
      ]
     },
     "metadata": {
      "needs_background": "light"
     },
     "output_type": "display_data"
    }
   ],
   "source": [
    "# First we start off with matplotlib and setup the figures and plots\n",
    "f,ax = plt.subplots(1,3,figsize=(20,5))\n",
    "colors = [\"r\", \"g\", \"b\"]\n",
    "\n",
    "# Now we look at some general distributions of the data.\n",
    "\n",
    "# Survived Class\n",
    "x_survived = [0,1]\n",
    "y_survived = [np.where(train[\"Survived\"] == (i))[0].size for i in x_survived]\n",
    "\n",
    "# equivalent to\n",
    "# y_survived = [0,0]\n",
    "# for i in train[\"Survived\"]:\n",
    "#    y_survived[i] +=1\n",
    "\n",
    "ax[0].bar(x_survived, y_survived, color=colors)\n",
    "ax[0].set_xticks(x_survived)\n",
    "ax[0].set_title('Survived')\n",
    "\n",
    "# Passenger Class\n",
    "x_pclass = [1, 2, 3]\n",
    "y_pclass = [np.where(train[\"Pclass\"] == (i))[0].size for i in x_pclass]\n",
    "ax[1].bar(x_pclass, y_pclass, color=colors)\n",
    "ax[1].set_xticks(x_pclass)\n",
    "ax[1].set_title('Passengers by Class')\n",
    "\n",
    "# Age\n",
    "x_age = np.arange(0, 80)\n",
    "y_age = [np.where(train[\"Age\"] == (i))[0].size for i in x_age]\n",
    "ax[2].bar(x_age, y_age, color=\"green\")\n",
    "ax[2].set_xticks(np.arange(0, 81, 10))\n",
    "ax[2].set_title('Passengers by Age')\n",
    "\n",
    "# Display the graphs\n",
    "plt.show()"
   ]
  },
  {
   "cell_type": "code",
   "execution_count": 9,
   "metadata": {
    "colab": {
     "base_uri": "https://localhost:8080/",
     "height": 368
    },
    "colab_type": "code",
    "id": "j-MqnfqNKAQO",
    "outputId": "d300085e-b774-4e54-a21d-735ce997abcd"
   },
   "outputs": [
    {
     "data": {
      "image/png": "[encoded data removed]",
      "text/plain": [
       "<Figure size 1440x360 with 3 Axes>"
      ]
     },
     "metadata": {
      "needs_background": "light"
     },
     "output_type": "display_data"
    }
   ],
   "source": [
    "# The categorical histograms we created with matplotlib can be created with the\n",
    "# \"countplot\" command in seaborn. The setup is very similar, but easier.\n",
    "\n",
    "f,ax = plt.subplots(1,3,figsize=(20,5))\n",
    "\n",
    "sns.countplot(x='Survived',data=train,ax=ax[0])\n",
    "ax[0].set_title('Survived')\n",
    "\n",
    "sns.countplot(x='Pclass',data=train,ax=ax[1])\n",
    "ax[1].set_title('Passengers by Class')\n",
    "\n",
    "sns.histplot(train['Age'].dropna(),ax=ax[2],bins=80)\n",
    "ax[2].set_title('Passengers by Age');"
   ]
  },
  {
   "cell_type": "code",
   "execution_count": 10,
   "metadata": {
    "colab": {
     "base_uri": "https://localhost:8080/",
     "height": 368
    },
    "colab_type": "code",
    "id": "skTdJokPL0MY",
    "outputId": "ee9fdb3e-0170-4882-9771-88406b2a0308"
   },
   "outputs": [
    {
     "data": {
      "image/png": "[encoded data removed]",
      "text/plain": [
       "<Figure size 1440x360 with 3 Axes>"
      ]
     },
     "metadata": {
      "needs_background": "light"
     },
     "output_type": "display_data"
    }
   ],
   "source": [
    "# Now we are going to use various plot options of seaborn to \n",
    "# look at survival rates based on other attributes:\n",
    "f,ax = plt.subplots(1,3,figsize=(20,5))\n",
    "\n",
    "sns.countplot(x='Pclass',hue='Survived',data=train,ax=ax[0])\n",
    "ax[0].set_title('Survival by Class')\n",
    "\n",
    "sns.countplot(x='Sex',hue='Survived',data=train,ax=ax[1])\n",
    "ax[1].set_title('Survival by Sex')\n",
    "\n",
    "sns.countplot(x='Embarked',hue='Survived',data=train,ax=ax[2])\n",
    "ax[2].set_title('Survival by Embarked\\n  C = Cherbourg; Q = Queenstown; S = Southampton');"
   ]
  },
  {
   "cell_type": "markdown",
   "metadata": {},
   "source": [
    "But careful. The input data is correlated"
   ]
  },
  {
   "cell_type": "code",
   "execution_count": 11,
   "metadata": {},
   "outputs": [
    {
     "data": {
      "text/plain": [
       "<AxesSubplot:xlabel='Sex', ylabel='count'>"
      ]
     },
     "execution_count": 11,
     "metadata": {},
     "output_type": "execute_result"
    },
    {
     "data": {
      "image/png": "[encoded data removed]",
      "text/plain": [
       "<Figure size 432x288 with 1 Axes>"
      ]
     },
     "metadata": {
      "needs_background": "light"
     },
     "output_type": "display_data"
    }
   ],
   "source": [
    "sns.countplot(x=\"Sex\", hue=\"Pclass\", data=train)"
   ]
  },
  {
   "cell_type": "code",
   "execution_count": 12,
   "metadata": {
    "colab": {
     "base_uri": "https://localhost:8080/",
     "height": 368
    },
    "colab_type": "code",
    "id": "iWeax6Buxlf6",
    "outputId": "3d9fd2cd-d29c-4e02-aa1e-47e1361052a3"
   },
   "outputs": [
    {
     "data": {
      "image/png": "[encoded data removed]",
      "text/plain": [
       "<Figure size 1440x360 with 3 Axes>"
      ]
     },
     "metadata": {
      "needs_background": "light"
     },
     "output_type": "display_data"
    }
   ],
   "source": [
    "f,ax = plt.subplots(1,3,figsize=(20,5))\n",
    "\n",
    "sns.countplot(x='SibSp',hue='Survived',data=train,ax=ax[0])\n",
    "ax[0].set_title('Survival by SibSp')\n",
    "\n",
    "sns.countplot(x='Parch',hue='Survived',data=train,ax=ax[1])\n",
    "ax[1].set_title('Survival by Parch')\n",
    "\n",
    "sns.histplot(x='Fare',hue='Survived',data=train,ax=ax[2],kde=False,bins=30)\n",
    "ax[2].set_title('Survival by Fare');"
   ]
  },
  {
   "cell_type": "markdown",
   "metadata": {
    "colab_type": "text",
    "id": "3zoUW2hR06kk"
   },
   "source": [
    "This was only a quick overview of the relationship between features before we start a more detailed analysis in the following sections."
   ]
  },
  {
   "cell_type": "markdown",
   "metadata": {
    "colab_type": "text",
    "id": "giXF24ryxChi"
   },
   "source": [
    "## Cleaning the Data\n",
    "Data from the real world is messy. Normally there are missing values, outliers and invalid data (e.g. negative values for age) in a data set. We can solve problems with data quality by replacing these values, trying to close the gap by interpolation or by dropping the respective entries. \n"
   ]
  },
  {
   "cell_type": "markdown",
   "metadata": {
    "colab_type": "text",
    "id": "u8BFJS3h3hWS"
   },
   "source": [
    "### Detecting and Filtering Outliers\n",
    "\n",
    "Outliers that are either very large or small skew the overall view of the data. One way of detecting outliers could be the use of the standard deviation. If we assume that the data is normally distributed, then 95 percent of the data is within 1.96 standard deviations of the mean. So we can drop the values either above or below that range."
   ]
  },
  {
   "cell_type": "code",
   "execution_count": 13,
   "metadata": {
    "colab": {
     "base_uri": "https://localhost:8080/",
     "height": 350
    },
    "colab_type": "code",
    "id": "BsizpojeSCy-",
    "outputId": "06cd6d32-12d8-40f9-fd13-8ee37571dd43"
   },
   "outputs": [
    {
     "data": {
      "image/png": "[encoded data removed]",
      "text/plain": [
       "<Figure size 936x360 with 2 Axes>"
      ]
     },
     "metadata": {
      "needs_background": "light"
     },
     "output_type": "display_data"
    }
   ],
   "source": [
    "f,ax = plt.subplots(1,2,figsize=(13,5))\n",
    "\n",
    "# The outliers in Fare (Fare paid by the passenger)\n",
    "sns.scatterplot(x=\"PassengerId\",y=\"Fare\",data=train,ax=ax[0])\n",
    "\n",
    "# The outliers in SibSp(Number of siblings and spouses of the passenger aboard)\n",
    "sns.scatterplot(x=\"PassengerId\",y=\"SibSp\",data=train, ax=ax[1])\n",
    "ax[0].set_title('Passengers by Fare')\n",
    "ax[1].set_title('Passengers by Number of Siblings and Spouses');"
   ]
  },
  {
   "cell_type": "markdown",
   "metadata": {},
   "source": [
    "Assume a normal distribution. Everything outside of 95% is an outlier\n",
    "![95%](https://upload.wikimedia.org/wikipedia/commons/b/bf/NormalDist1.96.png)"
   ]
  },
  {
   "cell_type": "code",
   "execution_count": 14,
   "metadata": {
    "colab": {},
    "colab_type": "code",
    "id": "ivIh8wNH5ZS-"
   },
   "outputs": [],
   "source": [
    "# Outlier detection Method 1 using Standard Deviation\n",
    "# If we assume a normal distribution, 95% of the area lies in 1.96*std (close two double the standard deviation)\n",
    "def detect_outliers_sd(df,n,features):\n",
    "    outlier_indices = []\n",
    "    # iterate over features(columns)\n",
    "    for col in features:\n",
    "        # mean\n",
    "        mean = df[col].mean()\n",
    "        # standard deviation\n",
    "        std = df[col].std()\n",
    "        # the upper bound\n",
    "        top = mean + std * 1.96\n",
    "        #  the lower bound \n",
    "        bot = mean - std * 1.96\n",
    "        # Determine a list of indices of outliers for feature col\n",
    "        outlier_list_col = df[(df[col] < bot) | (df[col] > top)].index       \n",
    "        # append the found outlier indices for col to the list of outlier indices \n",
    "        outlier_indices.extend(outlier_list_col)\n",
    "    # select observations containing more than 2 outliers\n",
    "    outlier_indices = Counter(outlier_indices)        \n",
    "    multiple_outliers = list( k for k, v in outlier_indices.items() if v > n )\n",
    "    return multiple_outliers"
   ]
  },
  {
   "cell_type": "markdown",
   "metadata": {},
   "source": [
    "Use Interquartile range 1.5*IQR\n",
    "\n",
    "![iqr](https://miro.medium.com/max/1100/1*ofWRZjCVfJbK0zyt_6LcEA.png)"
   ]
  },
  {
   "cell_type": "code",
   "execution_count": 15,
   "metadata": {
    "colab": {},
    "colab_type": "code",
    "id": "U_4-MN9wkQ0i"
   },
   "outputs": [],
   "source": [
    "# Outlier detection Method 2 using Interquartile Ranges \n",
    "def detect_outliers_iqr(df, n ,features):\n",
    "    outlier_indices = []\n",
    "    # iterate over features(columns)\n",
    "    for col in features:\n",
    "        # 1st quartile (25%)\n",
    "        Q1 = np.percentile(df[col], 25)\n",
    "        # 3rd quartile (75%)\n",
    "        Q3 = np.percentile(df[col] ,75)\n",
    "        # Interquartile range (IQR)\n",
    "        IQR = Q3 - Q1\n",
    "        # outlier step\n",
    "        outlier_step = 1.5 * IQR\n",
    "        # Determine a list of indices of outliers for feature col\n",
    "        outlier_list_col = df[(df[col] < Q1 - outlier_step) | (df[col] > Q3 + outlier_step )].index\n",
    "        # append the found outlier indices for col to the list of outlier indices\n",
    "        outlier_indices.extend(outlier_list_col)\n",
    "    # select observations containing more than 2 outliers\n",
    "    outlier_indices = Counter(outlier_indices)\n",
    "    multiple_outliers = list( k for k, v in outlier_indices.items() if v > n )\n",
    "    return multiple_outliers"
   ]
  },
  {
   "cell_type": "markdown",
   "metadata": {
    "colab_type": "text",
    "id": "F_ias0WFXDLe"
   },
   "source": [
    "Detect outliers ..."
   ]
  },
  {
   "cell_type": "code",
   "execution_count": 16,
   "metadata": {
    "colab": {
     "base_uri": "https://localhost:8080/",
     "height": 398
    },
    "colab_type": "code",
    "id": "0wEro4QuXGcC",
    "outputId": "29242551-1704-451a-f555-37a059321b20"
   },
   "outputs": [
    {
     "data": {
      "text/html": [
       "<div>\n",
       "<style scoped>\n",
       "    .dataframe tbody tr th:only-of-type {\n",
       "        vertical-align: middle;\n",
       "    }\n",
       "\n",
       "    .dataframe tbody tr th {\n",
       "        vertical-align: top;\n",
       "    }\n",
       "\n",
       "    .dataframe thead th {\n",
       "        text-align: right;\n",
       "    }\n",
       "</style>\n",
       "<table border=\"1\" class=\"dataframe\">\n",
       "  <thead>\n",
       "    <tr style=\"text-align: right;\">\n",
       "      <th></th>\n",
       "      <th>PassengerId</th>\n",
       "      <th>Survived</th>\n",
       "      <th>Pclass</th>\n",
       "      <th>Name</th>\n",
       "      <th>Sex</th>\n",
       "      <th>Age</th>\n",
       "      <th>SibSp</th>\n",
       "      <th>Parch</th>\n",
       "      <th>Ticket</th>\n",
       "      <th>Fare</th>\n",
       "      <th>Cabin</th>\n",
       "      <th>Embarked</th>\n",
       "    </tr>\n",
       "  </thead>\n",
       "  <tbody>\n",
       "    <tr>\n",
       "      <th>27</th>\n",
       "      <td>28</td>\n",
       "      <td>0</td>\n",
       "      <td>1</td>\n",
       "      <td>Fortune, Mr. Charles Alexander</td>\n",
       "      <td>male</td>\n",
       "      <td>19.0</td>\n",
       "      <td>3</td>\n",
       "      <td>2</td>\n",
       "      <td>19950</td>\n",
       "      <td>263.00</td>\n",
       "      <td>C23 C25 C27</td>\n",
       "      <td>S</td>\n",
       "    </tr>\n",
       "    <tr>\n",
       "      <th>88</th>\n",
       "      <td>89</td>\n",
       "      <td>1</td>\n",
       "      <td>1</td>\n",
       "      <td>Fortune, Miss. Mabel Helen</td>\n",
       "      <td>female</td>\n",
       "      <td>23.0</td>\n",
       "      <td>3</td>\n",
       "      <td>2</td>\n",
       "      <td>19950</td>\n",
       "      <td>263.00</td>\n",
       "      <td>C23 C25 C27</td>\n",
       "      <td>S</td>\n",
       "    </tr>\n",
       "    <tr>\n",
       "      <th>159</th>\n",
       "      <td>160</td>\n",
       "      <td>0</td>\n",
       "      <td>3</td>\n",
       "      <td>Sage, Master. Thomas Henry</td>\n",
       "      <td>male</td>\n",
       "      <td>NaN</td>\n",
       "      <td>8</td>\n",
       "      <td>2</td>\n",
       "      <td>CA. 2343</td>\n",
       "      <td>69.55</td>\n",
       "      <td>NaN</td>\n",
       "      <td>S</td>\n",
       "    </tr>\n",
       "    <tr>\n",
       "      <th>180</th>\n",
       "      <td>181</td>\n",
       "      <td>0</td>\n",
       "      <td>3</td>\n",
       "      <td>Sage, Miss. Constance Gladys</td>\n",
       "      <td>female</td>\n",
       "      <td>NaN</td>\n",
       "      <td>8</td>\n",
       "      <td>2</td>\n",
       "      <td>CA. 2343</td>\n",
       "      <td>69.55</td>\n",
       "      <td>NaN</td>\n",
       "      <td>S</td>\n",
       "    </tr>\n",
       "    <tr>\n",
       "      <th>201</th>\n",
       "      <td>202</td>\n",
       "      <td>0</td>\n",
       "      <td>3</td>\n",
       "      <td>Sage, Mr. Frederick</td>\n",
       "      <td>male</td>\n",
       "      <td>NaN</td>\n",
       "      <td>8</td>\n",
       "      <td>2</td>\n",
       "      <td>CA. 2343</td>\n",
       "      <td>69.55</td>\n",
       "      <td>NaN</td>\n",
       "      <td>S</td>\n",
       "    </tr>\n",
       "    <tr>\n",
       "      <th>324</th>\n",
       "      <td>325</td>\n",
       "      <td>0</td>\n",
       "      <td>3</td>\n",
       "      <td>Sage, Mr. George John Jr</td>\n",
       "      <td>male</td>\n",
       "      <td>NaN</td>\n",
       "      <td>8</td>\n",
       "      <td>2</td>\n",
       "      <td>CA. 2343</td>\n",
       "      <td>69.55</td>\n",
       "      <td>NaN</td>\n",
       "      <td>S</td>\n",
       "    </tr>\n",
       "    <tr>\n",
       "      <th>341</th>\n",
       "      <td>342</td>\n",
       "      <td>1</td>\n",
       "      <td>1</td>\n",
       "      <td>Fortune, Miss. Alice Elizabeth</td>\n",
       "      <td>female</td>\n",
       "      <td>24.0</td>\n",
       "      <td>3</td>\n",
       "      <td>2</td>\n",
       "      <td>19950</td>\n",
       "      <td>263.00</td>\n",
       "      <td>C23 C25 C27</td>\n",
       "      <td>S</td>\n",
       "    </tr>\n",
       "    <tr>\n",
       "      <th>792</th>\n",
       "      <td>793</td>\n",
       "      <td>0</td>\n",
       "      <td>3</td>\n",
       "      <td>Sage, Miss. Stella Anna</td>\n",
       "      <td>female</td>\n",
       "      <td>NaN</td>\n",
       "      <td>8</td>\n",
       "      <td>2</td>\n",
       "      <td>CA. 2343</td>\n",
       "      <td>69.55</td>\n",
       "      <td>NaN</td>\n",
       "      <td>S</td>\n",
       "    </tr>\n",
       "    <tr>\n",
       "      <th>846</th>\n",
       "      <td>847</td>\n",
       "      <td>0</td>\n",
       "      <td>3</td>\n",
       "      <td>Sage, Mr. Douglas Bullen</td>\n",
       "      <td>male</td>\n",
       "      <td>NaN</td>\n",
       "      <td>8</td>\n",
       "      <td>2</td>\n",
       "      <td>CA. 2343</td>\n",
       "      <td>69.55</td>\n",
       "      <td>NaN</td>\n",
       "      <td>S</td>\n",
       "    </tr>\n",
       "    <tr>\n",
       "      <th>863</th>\n",
       "      <td>864</td>\n",
       "      <td>0</td>\n",
       "      <td>3</td>\n",
       "      <td>Sage, Miss. Dorothy Edith \"Dolly\"</td>\n",
       "      <td>female</td>\n",
       "      <td>NaN</td>\n",
       "      <td>8</td>\n",
       "      <td>2</td>\n",
       "      <td>CA. 2343</td>\n",
       "      <td>69.55</td>\n",
       "      <td>NaN</td>\n",
       "      <td>S</td>\n",
       "    </tr>\n",
       "  </tbody>\n",
       "</table>\n",
       "</div>"
      ],
      "text/plain": [
       "     PassengerId  Survived  Pclass                               Name     Sex  \\\n",
       "27            28         0       1     Fortune, Mr. Charles Alexander    male   \n",
       "88            89         1       1         Fortune, Miss. Mabel Helen  female   \n",
       "159          160         0       3         Sage, Master. Thomas Henry    male   \n",
       "180          181         0       3       Sage, Miss. Constance Gladys  female   \n",
       "201          202         0       3                Sage, Mr. Frederick    male   \n",
       "324          325         0       3           Sage, Mr. George John Jr    male   \n",
       "341          342         1       1     Fortune, Miss. Alice Elizabeth  female   \n",
       "792          793         0       3            Sage, Miss. Stella Anna  female   \n",
       "846          847         0       3           Sage, Mr. Douglas Bullen    male   \n",
       "863          864         0       3  Sage, Miss. Dorothy Edith \"Dolly\"  female   \n",
       "\n",
       "      Age  SibSp  Parch    Ticket    Fare        Cabin Embarked  \n",
       "27   19.0      3      2     19950  263.00  C23 C25 C27        S  \n",
       "88   23.0      3      2     19950  263.00  C23 C25 C27        S  \n",
       "159   NaN      8      2  CA. 2343   69.55          NaN        S  \n",
       "180   NaN      8      2  CA. 2343   69.55          NaN        S  \n",
       "201   NaN      8      2  CA. 2343   69.55          NaN        S  \n",
       "324   NaN      8      2  CA. 2343   69.55          NaN        S  \n",
       "341  24.0      3      2     19950  263.00  C23 C25 C27        S  \n",
       "792   NaN      8      2  CA. 2343   69.55          NaN        S  \n",
       "846   NaN      8      2  CA. 2343   69.55          NaN        S  \n",
       "863   NaN      8      2  CA. 2343   69.55          NaN        S  "
      ]
     },
     "execution_count": 16,
     "metadata": {},
     "output_type": "execute_result"
    }
   ],
   "source": [
    "# detect outliers from Age, SibSp, Parch and Fare. Display all, that are outliers in 2 or more columns\n",
    "outliers_to_drop = detect_outliers_iqr(train,2,[\"Age\",\"SibSp\",\"Parch\",\"Fare\"])\n",
    "train.loc[outliers_to_drop] # Show the outliers rows"
   ]
  },
  {
   "cell_type": "markdown",
   "metadata": {
    "colab_type": "text",
    "id": "mz8vBJj7DeI_"
   },
   "source": [
    "... and remove them"
   ]
  },
  {
   "cell_type": "code",
   "execution_count": 17,
   "metadata": {
    "colab": {},
    "colab_type": "code",
    "id": "_2-FKODKDgFU"
   },
   "outputs": [],
   "source": [
    "# Drop the outliers\n",
    "train = train.drop(outliers_to_drop, axis = 0).reset_index(drop=True)"
   ]
  },
  {
   "cell_type": "markdown",
   "metadata": {
    "colab_type": "text",
    "id": "wpH-T3bJgniP"
   },
   "source": [
    "### Complementary functions\n",
    "\n",
    "Most\tMachine\tLearning\talgorithms\tcannot\twork\twith missing values,\tso\tlet’s\tcreate a few\tfunctions\tto take\tcare\tof\tthe missing values."
   ]
  },
  {
   "cell_type": "code",
   "execution_count": 18,
   "metadata": {
    "colab": {
     "base_uri": "https://localhost:8080/",
     "height": 479
    },
    "colab_type": "code",
    "id": "SfBr9uVKGFPT",
    "outputId": "ceaee033-b724-4708-80f5-e32dbdd7cf14"
   },
   "outputs": [
    {
     "name": "stdout",
     "output_type": "stream",
     "text": [
      "PassengerId      0\n",
      "Survived         0\n",
      "Pclass           0\n",
      "Name             0\n",
      "Sex              0\n",
      "Age            170\n",
      "SibSp            0\n",
      "Parch            0\n",
      "Ticket           0\n",
      "Fare             0\n",
      "Cabin          680\n",
      "Embarked         2\n",
      "dtype: int64\n",
      "------------------------------\n",
      "PassengerId      0\n",
      "Pclass           0\n",
      "Name             0\n",
      "Sex              0\n",
      "Age             86\n",
      "SibSp            0\n",
      "Parch            0\n",
      "Ticket           0\n",
      "Fare             1\n",
      "Cabin          327\n",
      "Embarked         0\n",
      "dtype: int64\n"
     ]
    }
   ],
   "source": [
    "# The .info function shows how complete or incomplete the datasets are. \n",
    "print(train.isnull().sum())\n",
    "print('-'*30)\n",
    "print(test.isnull().sum())"
   ]
  },
  {
   "cell_type": "markdown",
   "metadata": {
    "colab_type": "text",
    "id": "UitahntAhiHd"
   },
   "source": [
    "We can complete missing data by calculating:\n",
    "* mean, \n",
    "* median, or \n",
    "* mean + randomized standard deviation.  \n",
    "\n",
    "Before we can complete the missing data, we should decide which method is best based on the description of the data."
   ]
  },
  {
   "cell_type": "code",
   "execution_count": 19,
   "metadata": {
    "colab": {
     "base_uri": "https://localhost:8080/",
     "height": 295
    },
    "colab_type": "code",
    "id": "LNzeuht1ieHx",
    "outputId": "4a3184f5-8bff-46bb-ebf4-d69cc06aae5e"
   },
   "outputs": [
    {
     "data": {
      "image/png": "[encoded data removed]",
      "text/plain": [
       "<Figure size 432x288 with 1 Axes>"
      ]
     },
     "metadata": {
      "needs_background": "light"
     },
     "output_type": "display_data"
    }
   ],
   "source": [
    "# The outliers in Age \n",
    "sns.scatterplot(x=train[\"PassengerId\"], y=train[\"Age\"])\n",
    "plt.title('Age by Passenger');"
   ]
  },
  {
   "cell_type": "markdown",
   "metadata": {
    "colab_type": "text",
    "id": "MzeUJIKAieqC"
   },
   "source": [
    "To complete the missing data of *Age*, we use the mean + randomized standard deviation, where the standard deviation describes the spread of the data."
   ]
  },
  {
   "cell_type": "code",
   "execution_count": 20,
   "metadata": {
    "colab": {},
    "colab_type": "code",
    "id": "KXtcknVdvR1S"
   },
   "outputs": [
    {
     "name": "stdout",
     "output_type": "stream",
     "text": [
      "mean age is =  29.69911764705882\n",
      "standard deviation is =  14.526497332334042\n",
      "randomly generated ages are =  [15 41 17 24 42 35 17 26 26 43]\n",
      "mean age is =  30.272590361445783\n",
      "standard deviation is =  14.181209235624422\n",
      "randomly generated ages are =  [20 37 41 42 41 38 28 40 26 16]\n"
     ]
    }
   ],
   "source": [
    "# Fill the missing data in Age using mean + randomized standard deviation. \n",
    "for dataset in full_data:\n",
    "    age_avg = dataset['Age'].mean()\n",
    "    print(\"mean age is = \", age_avg)\n",
    "    age_std = dataset['Age'].std()\n",
    "    print(\"standard deviation is = \", age_std)\n",
    "    age_null_count = dataset['Age'].isnull().sum()\n",
    "    age_null_random_list = np.random.randint(age_avg - age_std, age_avg + age_std, size=age_null_count)  \n",
    "    print(\"randomly generated ages are = \", age_null_random_list[0:10])\n",
    "    df_age = dataset['Age'].copy()\n",
    "    df_age[np.isnan(df_age)] = [age_null_random_list]\n",
    "    dataset['Age'] = df_age.astype(int)"
   ]
  },
  {
   "cell_type": "markdown",
   "metadata": {
    "colab_type": "text",
    "id": "KzGCyBiTgBju"
   },
   "source": [
    "Information of the Fare attribute"
   ]
  },
  {
   "cell_type": "code",
   "execution_count": 21,
   "metadata": {
    "colab": {
     "base_uri": "https://localhost:8080/",
     "height": 195
    },
    "colab_type": "code",
    "id": "Qw0C1tf1hFFl",
    "outputId": "58c02259-fba9-4cd1-ed0e-ccf0740d6d82"
   },
   "outputs": [
    {
     "name": "stdout",
     "output_type": "stream",
     "text": [
      "median 14.4542\n"
     ]
    },
    {
     "data": {
      "text/plain": [
       "count    881.000000\n",
       "mean      31.121566\n",
       "std       47.996249\n",
       "min        0.000000\n",
       "25%        7.895800\n",
       "50%       14.454200\n",
       "75%       30.500000\n",
       "max      512.329200\n",
       "Name: Fare, dtype: float64"
      ]
     },
     "execution_count": 21,
     "metadata": {},
     "output_type": "execute_result"
    }
   ],
   "source": [
    "# The Description of Fare\n",
    "print (\"median {}\".format(train['Fare'].median()))\n",
    "train['Fare'].describe()"
   ]
  },
  {
   "cell_type": "code",
   "execution_count": 22,
   "metadata": {
    "colab": {},
    "colab_type": "code",
    "id": "miVPP18CoXeb"
   },
   "outputs": [],
   "source": [
    "# Fill the missing data in Fare using median standard deviation.\n",
    "for dataset in full_data:\n",
    "    dataset['Fare'] = dataset['Fare'].fillna(train['Fare'].median())"
   ]
  },
  {
   "cell_type": "markdown",
   "metadata": {
    "colab_type": "text",
    "id": "QWfpBgx-uu2O"
   },
   "source": [
    "Before we fill the missing data in the Embarked, we will visualize it to decide which option is best to use"
   ]
  },
  {
   "cell_type": "code",
   "execution_count": 23,
   "metadata": {
    "colab": {
     "base_uri": "https://localhost:8080/",
     "height": 369
    },
    "colab_type": "code",
    "id": "F5BiIfhHkTVs",
    "outputId": "4d118757-2251-4b58-fba0-35d51737f4f8"
   },
   "outputs": [
    {
     "data": {
      "image/png": "[encoded data removed]",
      "text/plain": [
       "<Figure size 432x288 with 1 Axes>"
      ]
     },
     "metadata": {
      "needs_background": "light"
     },
     "output_type": "display_data"
    }
   ],
   "source": [
    "sns.countplot(x='Embarked',data=train);"
   ]
  },
  {
   "cell_type": "code",
   "execution_count": 24,
   "metadata": {
    "colab": {},
    "colab_type": "code",
    "id": "2C49tw7lkM-J"
   },
   "outputs": [],
   "source": [
    "for dataset in full_data:\n",
    "    dataset['Embarked'] = dataset['Embarked'].fillna('S')"
   ]
  },
  {
   "cell_type": "markdown",
   "metadata": {
    "colab_type": "text",
    "id": "col3zTi-8GPl"
   },
   "source": [
    "Let us check again if there are any missing values"
   ]
  },
  {
   "cell_type": "code",
   "execution_count": 25,
   "metadata": {
    "colab": {
     "base_uri": "https://localhost:8080/",
     "height": 479
    },
    "colab_type": "code",
    "id": "hWrXD-jplyxw",
    "outputId": "9b1395c3-912b-4e35-a278-ca5443bc150b"
   },
   "outputs": [
    {
     "name": "stdout",
     "output_type": "stream",
     "text": [
      "PassengerId    False\n",
      "Survived       False\n",
      "Pclass         False\n",
      "Name           False\n",
      "Sex            False\n",
      "Age            False\n",
      "SibSp          False\n",
      "Parch          False\n",
      "Ticket         False\n",
      "Fare           False\n",
      "Cabin           True\n",
      "Embarked       False\n",
      "dtype: bool\n",
      "------------------------------\n",
      "PassengerId    False\n",
      "Pclass         False\n",
      "Name           False\n",
      "Sex            False\n",
      "Age            False\n",
      "SibSp          False\n",
      "Parch          False\n",
      "Ticket         False\n",
      "Fare           False\n",
      "Cabin           True\n",
      "Embarked       False\n",
      "dtype: bool\n"
     ]
    }
   ],
   "source": [
    "# update the dataframes\n",
    "train = full_data[0]\n",
    "test = full_data[1]\n",
    "# any: detects if a cell matches a condition\n",
    "print(train.isnull().any())\n",
    "print('-'*30)\n",
    "print(test.isnull().any())"
   ]
  },
  {
   "cell_type": "markdown",
   "metadata": {
    "colab_type": "text",
    "id": "bYVF47Bq8kGg"
   },
   "source": [
    "Great! Nothing (important) is missing, and we did not have to remove any rows."
   ]
  },
  {
   "cell_type": "markdown",
   "metadata": {
    "colab_type": "text",
    "id": "DdEJv3_FsnS8"
   },
   "source": [
    "## Feature Engineering\n",
    "Qualitative data is often nominal (e.g. names) or categorical (e.g. sex). Those can't be ordered and are difficult to evaluate. Therefore we want to convert all our categorial data to quantitiative data, i.e. numerical or ordinal values.\n",
    "\n",
    "We can convert the names to an attribute based on their length:"
   ]
  },
  {
   "cell_type": "code",
   "execution_count": 26,
   "metadata": {
    "colab": {
     "base_uri": "https://localhost:8080/",
     "height": 124
    },
    "colab_type": "code",
    "id": "kp_h3nQpv6GK",
    "outputId": "495d8c56-8597-48e2-dbd4-d6117ca602f3"
   },
   "outputs": [
    {
     "data": {
      "text/plain": [
       "0    23\n",
       "1    51\n",
       "2    22\n",
       "3    44\n",
       "4    24\n",
       "Name: Name_length, dtype: int64"
      ]
     },
     "execution_count": 26,
     "metadata": {},
     "output_type": "execute_result"
    }
   ],
   "source": [
    "for dataset in full_data:\n",
    "    try:\n",
    "        dataset['Name_length'] = dataset['Name'].apply(len)\n",
    "    except:\n",
    "        print(\"Name_length feature is located in the data frame\")\n",
    "        \n",
    "train['Name_length'].head()"
   ]
  },
  {
   "cell_type": "code",
   "execution_count": 27,
   "metadata": {
    "colab": {
     "base_uri": "https://localhost:8080/",
     "height": 622
    },
    "colab_type": "code",
    "id": "1pjrAdvP2vpt",
    "outputId": "be665fa0-9ea5-42b2-aac4-b519eecae59f"
   },
   "outputs": [
    {
     "data": {
      "image/png": "[encoded data removed]",
      "text/plain": [
       "<Figure size 1440x720 with 2 Axes>"
      ]
     },
     "metadata": {
      "needs_background": "light"
     },
     "output_type": "display_data"
    }
   ],
   "source": [
    "fig, ax = plt.subplots(2,1,figsize=(20,10))\n",
    "\n",
    "# The amount of survived people by Name length.\n",
    "sum_survived_by_name = train[[\"Name_length\", \"Survived\"]].groupby(['Name_length'],as_index=False).sum()\n",
    "sns.barplot(x='Name_length', y='Survived', data=sum_survived_by_name, ax = ax[0])\n",
    "ax[0].set_title('Survivors by Name length')\n",
    "\n",
    "# The amount of survived people by Name length.\n",
    "avg_survived_by_name = train[[\"Name_length\", \"Survived\"]].groupby(['Name_length'],as_index=False).mean()\n",
    "sns.barplot(x='Name_length', y='Survived', data=avg_survived_by_name, ax = ax[1])\n",
    "ax[1].set_title('Survival Rates by Name length');"
   ]
  },
  {
   "cell_type": "markdown",
   "metadata": {
    "colab_type": "text",
    "id": "UVsl4n6Mwve6"
   },
   "source": [
    "From the graphics above we can see that passengers with longer names were more likely to survive, perhaps the cause is that rich families tend to have longer names.\n",
    "\n",
    "It can also be helpful to create meaningful \"bins\" for attributes. Therefore we will divide the Name_length feature into small classes. Each of these classes has a similar rate to survive."
   ]
  },
  {
   "cell_type": "code",
   "execution_count": 28,
   "metadata": {
    "colab": {
     "base_uri": "https://localhost:8080/",
     "height": 106
    },
    "colab_type": "code",
    "id": "XApLwZoFd5Kw",
    "outputId": "68992d9b-e8cf-4909-a254-2633ecd0522f"
   },
   "outputs": [
    {
     "data": {
      "text/plain": [
       "0    360\n",
       "1    240\n",
       "2    201\n",
       "3     90\n",
       "Name: Name_length, dtype: int64"
      ]
     },
     "execution_count": 28,
     "metadata": {},
     "output_type": "execute_result"
    }
   ],
   "source": [
    "for dataset in full_data:\n",
    "    dataset.loc[dataset['Name_length'] <= 23, 'Name_length']= 0\n",
    "    dataset.loc[(dataset['Name_length'] > 23) & (dataset['Name_length'] <= 28), 'Name_length']= 1\n",
    "    dataset.loc[(dataset['Name_length'] > 28) & (dataset['Name_length'] <= 40), 'Name_length']= 2\n",
    "    dataset.loc[dataset['Name_length'] > 40, 'Name_length'] = 3\n",
    "train['Name_length'].value_counts()"
   ]
  },
  {
   "cell_type": "markdown",
   "metadata": {
    "colab_type": "text",
    "id": "IrEuhSrr17Wn"
   },
   "source": [
    "As a next step we can map categorical attributes to a numerical discrete value:\n",
    "\n"
   ]
  },
  {
   "cell_type": "code",
   "execution_count": 29,
   "metadata": {
    "colab": {
     "base_uri": "https://localhost:8080/",
     "height": 124
    },
    "colab_type": "code",
    "id": "oU2asfKFsdFV",
    "outputId": "f8663a23-9940-475c-dc4d-288b0676bf4e"
   },
   "outputs": [
    {
     "data": {
      "text/plain": [
       "0    0\n",
       "1    1\n",
       "2    1\n",
       "3    1\n",
       "4    0\n",
       "Name: Sex, dtype: int32"
      ]
     },
     "execution_count": 29,
     "metadata": {},
     "output_type": "execute_result"
    }
   ],
   "source": [
    "# Mapping Gender\n",
    "for dataset in full_data:\n",
    "    # np.where takes as input a list of Booleans, a new value and a backup value\n",
    "    try:\n",
    "        dataset['Sex'] = np.where(dataset['Sex']=='female', 1, 0)\n",
    "    except:\n",
    "        print('The value is already converted ')\n",
    "train['Sex'].head()"
   ]
  },
  {
   "cell_type": "markdown",
   "metadata": {
    "colab_type": "text",
    "id": "g2XE-01iQnuJ"
   },
   "source": [
    "For example we can look at the *Age* attribute:\n"
   ]
  },
  {
   "cell_type": "code",
   "execution_count": 30,
   "metadata": {
    "colab": {
     "base_uri": "https://localhost:8080/",
     "height": 243
    },
    "colab_type": "code",
    "id": "Eqtb9XMGRXBC",
    "outputId": "9b30bbd3-0fd5-46e2-aa97-e5a219368263"
   },
   "outputs": [
    {
     "data": {
      "image/png": "[encoded data removed]",
      "text/plain": [
       "<Figure size 1131.88x216 with 1 Axes>"
      ]
     },
     "metadata": {
      "needs_background": "light"
     },
     "output_type": "display_data"
    }
   ],
   "source": [
    "#plot distributions of passengers who survived or died by age\n",
    "a = sns.FacetGrid(data=train, hue='Survived', aspect=5)\n",
    "a.map(sns.kdeplot, 'Age', shade=True)\n",
    "a.set(xlim=(0, train['Age'].max()))\n",
    "a.add_legend();"
   ]
  },
  {
   "cell_type": "markdown",
   "metadata": {
    "colab_type": "text",
    "id": "-87Je5HFRjCW"
   },
   "source": [
    "We can see that until the age of 14 the chance of survival is higher than the chance to die.\n",
    "In reverse the chance for dying is higher between the age of 14 and 30. This changes a couple of times between various ages.\n",
    "\n",
    "Therefore the best categories for age are:\n",
    "* 0: less than 14\n",
    "* 1: 14 to 30\n",
    "* 2: 30 to 40\n",
    "* 3: 40 to 50\n",
    "* 4: 50 to 60\n",
    "* 5: 60 and more"
   ]
  },
  {
   "cell_type": "code",
   "execution_count": 31,
   "metadata": {
    "colab": {
     "base_uri": "https://localhost:8080/",
     "height": 141
    },
    "colab_type": "code",
    "id": "x6E4P9AiS6kK",
    "outputId": "f2c54e05-a148-4ff7-def6-0ca913467972"
   },
   "outputs": [
    {
     "data": {
      "text/plain": [
       "1.0    435\n",
       "2.0    204\n",
       "3.0    110\n",
       "0.0     78\n",
       "4.0     42\n",
       "5.0     22\n",
       "Name: Age_bin, dtype: int64"
      ]
     },
     "execution_count": 31,
     "metadata": {},
     "output_type": "execute_result"
    }
   ],
   "source": [
    "for dataset in full_data:\n",
    "    dataset.loc[ dataset['Age'] <= 14, 'Age_bin'] = 0\n",
    "    dataset.loc[(dataset['Age'] > 14) & (dataset['Age'] <= 30), 'Age_bin'] = 1\n",
    "    dataset.loc[(dataset['Age'] > 30) & (dataset['Age'] <= 40), 'Age_bin'] = 2\n",
    "    dataset.loc[(dataset['Age'] > 40) & (dataset['Age'] <= 50), 'Age_bin'] = 3\n",
    "    dataset.loc[(dataset['Age'] > 50) & (dataset['Age'] <= 60), 'Age_bin'] = 4\n",
    "    dataset.loc[ dataset['Age'] > 60, 'Age_bin'] = 5\n",
    "train['Age_bin'].value_counts()"
   ]
  },
  {
   "cell_type": "markdown",
   "metadata": {
    "colab_type": "text",
    "id": "fVYLOXySz2w8"
   },
   "source": [
    "The next step is to map the Embarked feature: "
   ]
  },
  {
   "cell_type": "code",
   "execution_count": 32,
   "metadata": {
    "colab": {
     "base_uri": "https://localhost:8080/",
     "height": 124
    },
    "colab_type": "code",
    "id": "iZvReH5r1hBJ",
    "outputId": "f8932a39-fc1b-4ea5-8a87-0047aca7c1e6"
   },
   "outputs": [
    {
     "data": {
      "text/plain": [
       "0    0\n",
       "1    1\n",
       "2    0\n",
       "3    0\n",
       "4    0\n",
       "Name: Embarked, dtype: int64"
      ]
     },
     "execution_count": 32,
     "metadata": {},
     "output_type": "execute_result"
    }
   ],
   "source": [
    "# Mapping Embarked\n",
    "for dataset in full_data:\n",
    "  try:\n",
    "      dataset.Embarked.replace(('S','C','Q'), (0,1,2), inplace = True)\n",
    "  except:\n",
    "      print('The value is already converted ')\n",
    "train['Embarked'].head()"
   ]
  },
  {
   "cell_type": "markdown",
   "metadata": {
    "colab_type": "text",
    "id": "zHvkbWfoOWxd"
   },
   "source": [
    "Additionally data might be skewed. For example, if we look at the *Fare* attribute, we can see it is heavily skewed to the left:"
   ]
  },
  {
   "cell_type": "code",
   "execution_count": 33,
   "metadata": {},
   "outputs": [
    {
     "data": {
      "image/png": "[encoded data removed]",
      "text/plain": [
       "<Figure size 1296x360 with 1 Axes>"
      ]
     },
     "metadata": {
      "needs_background": "light"
     },
     "output_type": "display_data"
    }
   ],
   "source": [
    "fig, ax = plt.subplots(figsize=(18,5))\n",
    "sns.histplot(x=train['Fare'],hue='Survived',data=train,kde=True);"
   ]
  },
  {
   "cell_type": "markdown",
   "metadata": {
    "colab_type": "text",
    "id": "3g7xPY-hOst-"
   },
   "source": [
    "To reduce the skewness of this attribute, we can transform it with the log function. This redistributes the data:"
   ]
  },
  {
   "cell_type": "code",
   "execution_count": 34,
   "metadata": {
    "colab": {
     "base_uri": "https://localhost:8080/",
     "height": 356
    },
    "colab_type": "code",
    "id": "rrj7LT3hOsfr",
    "outputId": "27448969-d919-40a6-c268-3e98958a60dc",
    "scrolled": false
   },
   "outputs": [
    {
     "data": {
      "image/png": "[encoded data removed]",
      "text/plain": [
       "<Figure size 1296x360 with 1 Axes>"
      ]
     },
     "metadata": {
      "needs_background": "light"
     },
     "output_type": "display_data"
    }
   ],
   "source": [
    "# Apply log to Fare to reduce skewness distribution\n",
    "for dataset in full_data:\n",
    "    dataset[\"Fare_log\"] = dataset[\"Fare\"].map(lambda i: np.log(i) if i > 1 else 0)\n",
    "    \n",
    "fig, ax = plt.subplots(figsize=(18,5))\n",
    "sns.histplot(x=train['Fare_log'],hue='Survived',data=train,kde=True);"
   ]
  },
  {
   "cell_type": "markdown",
   "metadata": {
    "colab_type": "text",
    "id": "Kd3UyTHcQcX7"
   },
   "source": [
    "Now we can define bins more easily:\n",
    "The survival rate is lower for a *Fare_log* value of less than 3.8 and higher for values greater than 3.8."
   ]
  },
  {
   "cell_type": "code",
   "execution_count": 35,
   "metadata": {
    "colab": {
     "base_uri": "https://localhost:8080/",
     "height": 70
    },
    "colab_type": "code",
    "id": "bifjkPp3Q3tc",
    "outputId": "e1a79833-aa3f-48e6-f20a-009800b8431f"
   },
   "outputs": [
    {
     "data": {
      "text/plain": [
       "0    720\n",
       "1    171\n",
       "Name: Fare_bin, dtype: int64"
      ]
     },
     "execution_count": 35,
     "metadata": {},
     "output_type": "execute_result"
    }
   ],
   "source": [
    "for dataset in full_data:\n",
    "    dataset.loc[ dataset['Fare_log'] <= 3.8, 'Fare_bin'] = 0\n",
    "    dataset.loc[ dataset['Fare_log'] > 3.8, 'Fare_bin'] = 1\n",
    "    dataset['Fare_bin'] = dataset['Fare_bin'].astype(int)\n",
    "train['Fare_bin'].value_counts()"
   ]
  },
  {
   "cell_type": "code",
   "execution_count": 36,
   "metadata": {
    "colab": {
     "base_uri": "https://localhost:8080/",
     "height": 206
    },
    "colab_type": "code",
    "id": "rdU0Nmb_XecL",
    "outputId": "10555259-19fd-4881-ca10-3965d054762e"
   },
   "outputs": [
    {
     "data": {
      "text/html": [
       "<div>\n",
       "<style scoped>\n",
       "    .dataframe tbody tr th:only-of-type {\n",
       "        vertical-align: middle;\n",
       "    }\n",
       "\n",
       "    .dataframe tbody tr th {\n",
       "        vertical-align: top;\n",
       "    }\n",
       "\n",
       "    .dataframe thead th {\n",
       "        text-align: right;\n",
       "    }\n",
       "</style>\n",
       "<table border=\"1\" class=\"dataframe\">\n",
       "  <thead>\n",
       "    <tr style=\"text-align: right;\">\n",
       "      <th></th>\n",
       "      <th>PassengerId</th>\n",
       "      <th>Survived</th>\n",
       "      <th>Pclass</th>\n",
       "      <th>Name</th>\n",
       "      <th>Sex</th>\n",
       "      <th>Age</th>\n",
       "      <th>SibSp</th>\n",
       "      <th>Parch</th>\n",
       "      <th>Ticket</th>\n",
       "      <th>Fare</th>\n",
       "      <th>Cabin</th>\n",
       "      <th>Embarked</th>\n",
       "      <th>Name_length</th>\n",
       "      <th>Age_bin</th>\n",
       "      <th>Fare_log</th>\n",
       "      <th>Fare_bin</th>\n",
       "    </tr>\n",
       "  </thead>\n",
       "  <tbody>\n",
       "    <tr>\n",
       "      <th>0</th>\n",
       "      <td>1</td>\n",
       "      <td>0</td>\n",
       "      <td>3</td>\n",
       "      <td>Braund, Mr. Owen Harris</td>\n",
       "      <td>0</td>\n",
       "      <td>22</td>\n",
       "      <td>1</td>\n",
       "      <td>0</td>\n",
       "      <td>A/5 21171</td>\n",
       "      <td>7.2500</td>\n",
       "      <td>NaN</td>\n",
       "      <td>0</td>\n",
       "      <td>0</td>\n",
       "      <td>1.0</td>\n",
       "      <td>1.981001</td>\n",
       "      <td>0</td>\n",
       "    </tr>\n",
       "    <tr>\n",
       "      <th>1</th>\n",
       "      <td>2</td>\n",
       "      <td>1</td>\n",
       "      <td>1</td>\n",
       "      <td>Cumings, Mrs. John Bradley (Florence Briggs Th...</td>\n",
       "      <td>1</td>\n",
       "      <td>38</td>\n",
       "      <td>1</td>\n",
       "      <td>0</td>\n",
       "      <td>PC 17599</td>\n",
       "      <td>71.2833</td>\n",
       "      <td>C85</td>\n",
       "      <td>1</td>\n",
       "      <td>3</td>\n",
       "      <td>2.0</td>\n",
       "      <td>4.266662</td>\n",
       "      <td>1</td>\n",
       "    </tr>\n",
       "    <tr>\n",
       "      <th>2</th>\n",
       "      <td>3</td>\n",
       "      <td>1</td>\n",
       "      <td>3</td>\n",
       "      <td>Heikkinen, Miss. Laina</td>\n",
       "      <td>1</td>\n",
       "      <td>26</td>\n",
       "      <td>0</td>\n",
       "      <td>0</td>\n",
       "      <td>STON/O2. 3101282</td>\n",
       "      <td>7.9250</td>\n",
       "      <td>NaN</td>\n",
       "      <td>0</td>\n",
       "      <td>0</td>\n",
       "      <td>1.0</td>\n",
       "      <td>2.070022</td>\n",
       "      <td>0</td>\n",
       "    </tr>\n",
       "    <tr>\n",
       "      <th>3</th>\n",
       "      <td>4</td>\n",
       "      <td>1</td>\n",
       "      <td>1</td>\n",
       "      <td>Futrelle, Mrs. Jacques Heath (Lily May Peel)</td>\n",
       "      <td>1</td>\n",
       "      <td>35</td>\n",
       "      <td>1</td>\n",
       "      <td>0</td>\n",
       "      <td>113803</td>\n",
       "      <td>53.1000</td>\n",
       "      <td>C123</td>\n",
       "      <td>0</td>\n",
       "      <td>3</td>\n",
       "      <td>2.0</td>\n",
       "      <td>3.972177</td>\n",
       "      <td>1</td>\n",
       "    </tr>\n",
       "    <tr>\n",
       "      <th>4</th>\n",
       "      <td>5</td>\n",
       "      <td>0</td>\n",
       "      <td>3</td>\n",
       "      <td>Allen, Mr. William Henry</td>\n",
       "      <td>0</td>\n",
       "      <td>35</td>\n",
       "      <td>0</td>\n",
       "      <td>0</td>\n",
       "      <td>373450</td>\n",
       "      <td>8.0500</td>\n",
       "      <td>NaN</td>\n",
       "      <td>0</td>\n",
       "      <td>1</td>\n",
       "      <td>2.0</td>\n",
       "      <td>2.085672</td>\n",
       "      <td>0</td>\n",
       "    </tr>\n",
       "  </tbody>\n",
       "</table>\n",
       "</div>"
      ],
      "text/plain": [
       "   PassengerId  Survived  Pclass  \\\n",
       "0            1         0       3   \n",
       "1            2         1       1   \n",
       "2            3         1       3   \n",
       "3            4         1       1   \n",
       "4            5         0       3   \n",
       "\n",
       "                                                Name  Sex  Age  SibSp  Parch  \\\n",
       "0                            Braund, Mr. Owen Harris    0   22      1      0   \n",
       "1  Cumings, Mrs. John Bradley (Florence Briggs Th...    1   38      1      0   \n",
       "2                             Heikkinen, Miss. Laina    1   26      0      0   \n",
       "3       Futrelle, Mrs. Jacques Heath (Lily May Peel)    1   35      1      0   \n",
       "4                           Allen, Mr. William Henry    0   35      0      0   \n",
       "\n",
       "             Ticket     Fare Cabin  Embarked  Name_length  Age_bin  Fare_log  \\\n",
       "0         A/5 21171   7.2500   NaN         0            0      1.0  1.981001   \n",
       "1          PC 17599  71.2833   C85         1            3      2.0  4.266662   \n",
       "2  STON/O2. 3101282   7.9250   NaN         0            0      1.0  2.070022   \n",
       "3            113803  53.1000  C123         0            3      2.0  3.972177   \n",
       "4            373450   8.0500   NaN         0            1      2.0  2.085672   \n",
       "\n",
       "   Fare_bin  \n",
       "0         0  \n",
       "1         1  \n",
       "2         0  \n",
       "3         1  \n",
       "4         0  "
      ]
     },
     "execution_count": 36,
     "metadata": {},
     "output_type": "execute_result"
    }
   ],
   "source": [
    "# Print the first 5 rows of the updated dataset\n",
    "train.head()"
   ]
  },
  {
   "cell_type": "markdown",
   "metadata": {
    "colab_type": "text",
    "id": "lG5vl9f1xaNA"
   },
   "source": [
    "## Feature Selection\n",
    "\n",
    "Feature selection methods can be used to identify and remove unneeded, irrelevant and redundant attributes from data that do not contribute to the accuracy of a predictive model or may in fact decrease the accuracy of the model.\n",
    "\n",
    "Fewer attributes are desirable because it reduces the complexity of the model, and a simpler model is simpler to understand and explain.\n",
    "\n",
    "*Which features within the dataset contribute significantly to our goal?* \n"
   ]
  },
  {
   "cell_type": "markdown",
   "metadata": {
    "colab_type": "text",
    "id": "QfHkXaYW0klN"
   },
   "source": [
    "To calculate the covariance matrix, we should first remove all remaining string attributes:\n",
    "\n"
   ]
  },
  {
   "cell_type": "code",
   "execution_count": 37,
   "metadata": {
    "colab": {
     "base_uri": "https://localhost:8080/",
     "height": 337
    },
    "colab_type": "code",
    "id": "iLzH9w5DhD21",
    "outputId": "a61e37bb-2e48-4559-f5bd-9588c5170ce9"
   },
   "outputs": [
    {
     "name": "stdout",
     "output_type": "stream",
     "text": [
      "<class 'pandas.core.frame.DataFrame'>\n",
      "RangeIndex: 891 entries, 0 to 890\n",
      "Data columns (total 16 columns):\n",
      " #   Column       Non-Null Count  Dtype  \n",
      "---  ------       --------------  -----  \n",
      " 0   PassengerId  891 non-null    int64  \n",
      " 1   Survived     891 non-null    int64  \n",
      " 2   Pclass       891 non-null    int64  \n",
      " 3   Name         891 non-null    object \n",
      " 4   Sex          891 non-null    int32  \n",
      " 5   Age          891 non-null    int32  \n",
      " 6   SibSp        891 non-null    int64  \n",
      " 7   Parch        891 non-null    int64  \n",
      " 8   Ticket       891 non-null    object \n",
      " 9   Fare         891 non-null    float64\n",
      " 10  Cabin        204 non-null    object \n",
      " 11  Embarked     891 non-null    int64  \n",
      " 12  Name_length  891 non-null    int64  \n",
      " 13  Age_bin      891 non-null    float64\n",
      " 14  Fare_log     891 non-null    float64\n",
      " 15  Fare_bin     891 non-null    int32  \n",
      "dtypes: float64(3), int32(3), int64(7), object(3)\n",
      "memory usage: 101.1+ KB\n"
     ]
    }
   ],
   "source": [
    "train.info()"
   ]
  },
  {
   "cell_type": "markdown",
   "metadata": {
    "colab_type": "text",
    "id": "BurEf1fw0p7N"
   },
   "source": [
    "we will drop the following features:\n",
    "* Name\n",
    "* Ticket\n",
    "* Cabin"
   ]
  },
  {
   "cell_type": "code",
   "execution_count": 38,
   "metadata": {
    "colab": {
     "base_uri": "https://localhost:8080/",
     "height": 35
    },
    "colab_type": "code",
    "id": "YUyLQJbP2Ax_",
    "outputId": "b7de6a82-d4f0-4174-abdd-1fcbbf4bf5f7"
   },
   "outputs": [],
   "source": [
    "# Feature selection\n",
    "drop_elements = [ 'Name', 'Ticket', 'Cabin']\n",
    "try: \n",
    "  train = train.drop(drop_elements, axis = 1)\n",
    "  test  = test.drop(drop_elements, axis = 1)\n",
    "except:\n",
    "  print(\"The features are already removed.\")"
   ]
  },
  {
   "cell_type": "markdown",
   "metadata": {
    "colab_type": "text",
    "id": "MNVM37lk1tTI"
   },
   "source": [
    "We can examine the data after removing the features."
   ]
  },
  {
   "cell_type": "code",
   "execution_count": 39,
   "metadata": {
    "colab": {
     "base_uri": "https://localhost:8080/",
     "height": 206
    },
    "colab_type": "code",
    "id": "Q3548CX02Cv7",
    "outputId": "dd0a665c-9ddb-432d-9ce7-9ccbef8eaca2"
   },
   "outputs": [
    {
     "data": {
      "text/html": [
       "<div>\n",
       "<style scoped>\n",
       "    .dataframe tbody tr th:only-of-type {\n",
       "        vertical-align: middle;\n",
       "    }\n",
       "\n",
       "    .dataframe tbody tr th {\n",
       "        vertical-align: top;\n",
       "    }\n",
       "\n",
       "    .dataframe thead th {\n",
       "        text-align: right;\n",
       "    }\n",
       "</style>\n",
       "<table border=\"1\" class=\"dataframe\">\n",
       "  <thead>\n",
       "    <tr style=\"text-align: right;\">\n",
       "      <th></th>\n",
       "      <th>PassengerId</th>\n",
       "      <th>Survived</th>\n",
       "      <th>Pclass</th>\n",
       "      <th>Sex</th>\n",
       "      <th>Age</th>\n",
       "      <th>SibSp</th>\n",
       "      <th>Parch</th>\n",
       "      <th>Fare</th>\n",
       "      <th>Embarked</th>\n",
       "      <th>Name_length</th>\n",
       "      <th>Age_bin</th>\n",
       "      <th>Fare_log</th>\n",
       "      <th>Fare_bin</th>\n",
       "    </tr>\n",
       "  </thead>\n",
       "  <tbody>\n",
       "    <tr>\n",
       "      <th>0</th>\n",
       "      <td>1</td>\n",
       "      <td>0</td>\n",
       "      <td>3</td>\n",
       "      <td>0</td>\n",
       "      <td>22</td>\n",
       "      <td>1</td>\n",
       "      <td>0</td>\n",
       "      <td>7.2500</td>\n",
       "      <td>0</td>\n",
       "      <td>0</td>\n",
       "      <td>1.0</td>\n",
       "      <td>1.981001</td>\n",
       "      <td>0</td>\n",
       "    </tr>\n",
       "    <tr>\n",
       "      <th>1</th>\n",
       "      <td>2</td>\n",
       "      <td>1</td>\n",
       "      <td>1</td>\n",
       "      <td>1</td>\n",
       "      <td>38</td>\n",
       "      <td>1</td>\n",
       "      <td>0</td>\n",
       "      <td>71.2833</td>\n",
       "      <td>1</td>\n",
       "      <td>3</td>\n",
       "      <td>2.0</td>\n",
       "      <td>4.266662</td>\n",
       "      <td>1</td>\n",
       "    </tr>\n",
       "    <tr>\n",
       "      <th>2</th>\n",
       "      <td>3</td>\n",
       "      <td>1</td>\n",
       "      <td>3</td>\n",
       "      <td>1</td>\n",
       "      <td>26</td>\n",
       "      <td>0</td>\n",
       "      <td>0</td>\n",
       "      <td>7.9250</td>\n",
       "      <td>0</td>\n",
       "      <td>0</td>\n",
       "      <td>1.0</td>\n",
       "      <td>2.070022</td>\n",
       "      <td>0</td>\n",
       "    </tr>\n",
       "    <tr>\n",
       "      <th>3</th>\n",
       "      <td>4</td>\n",
       "      <td>1</td>\n",
       "      <td>1</td>\n",
       "      <td>1</td>\n",
       "      <td>35</td>\n",
       "      <td>1</td>\n",
       "      <td>0</td>\n",
       "      <td>53.1000</td>\n",
       "      <td>0</td>\n",
       "      <td>3</td>\n",
       "      <td>2.0</td>\n",
       "      <td>3.972177</td>\n",
       "      <td>1</td>\n",
       "    </tr>\n",
       "    <tr>\n",
       "      <th>4</th>\n",
       "      <td>5</td>\n",
       "      <td>0</td>\n",
       "      <td>3</td>\n",
       "      <td>0</td>\n",
       "      <td>35</td>\n",
       "      <td>0</td>\n",
       "      <td>0</td>\n",
       "      <td>8.0500</td>\n",
       "      <td>0</td>\n",
       "      <td>1</td>\n",
       "      <td>2.0</td>\n",
       "      <td>2.085672</td>\n",
       "      <td>0</td>\n",
       "    </tr>\n",
       "  </tbody>\n",
       "</table>\n",
       "</div>"
      ],
      "text/plain": [
       "   PassengerId  Survived  Pclass  Sex  Age  SibSp  Parch     Fare  Embarked  \\\n",
       "0            1         0       3    0   22      1      0   7.2500         0   \n",
       "1            2         1       1    1   38      1      0  71.2833         1   \n",
       "2            3         1       3    1   26      0      0   7.9250         0   \n",
       "3            4         1       1    1   35      1      0  53.1000         0   \n",
       "4            5         0       3    0   35      0      0   8.0500         0   \n",
       "\n",
       "   Name_length  Age_bin  Fare_log  Fare_bin  \n",
       "0            0      1.0  1.981001         0  \n",
       "1            3      2.0  4.266662         1  \n",
       "2            0      1.0  2.070022         0  \n",
       "3            3      2.0  3.972177         1  \n",
       "4            1      2.0  2.085672         0  "
      ]
     },
     "execution_count": 39,
     "metadata": {},
     "output_type": "execute_result"
    }
   ],
   "source": [
    "train.head()"
   ]
  },
  {
   "cell_type": "markdown",
   "metadata": {
    "colab_type": "text",
    "id": "5WiNx0HR-tAm"
   },
   "source": [
    "### Correlation analysis - Multi-variate analysis\n",
    "* Basically, correlation measures how closely two variables move in the same direction. Therefore we try to find whether there is a correlation between a feature and a label. In other words as the feature values change does the label change as well, and vice-versa?\n",
    "\n",
    "* The data may contain a lot of information redundancy distributed among multiple variables, which is a problem called multivariate correllation."
   ]
  },
  {
   "cell_type": "markdown",
   "metadata": {
    "colab_type": "text",
    "id": "sqH8oCnim09-"
   },
   "source": [
    "#### Heatmap for the correlation matrix"
   ]
  },
  {
   "cell_type": "code",
   "execution_count": 40,
   "metadata": {
    "colab": {
     "base_uri": "https://localhost:8080/",
     "height": 778
    },
    "colab_type": "code",
    "id": "2ke6Hm3cU17M",
    "outputId": "b6ebafcf-f7db-4bd3-ab2d-bccdf47ac195"
   },
   "outputs": [
    {
     "data": {
      "image/png": "[encoded data removed]",
      "text/plain": [
       "<Figure size 864x864 with 2 Axes>"
      ]
     },
     "metadata": {
      "needs_background": "light"
     },
     "output_type": "display_data"
    }
   ],
   "source": [
    "colormap = plt.cm.RdBu\n",
    "plt.figure(figsize=(12,12))\n",
    "plt.title('Pearson Correlation of Features', y=1.05, size=15)\n",
    "sns.heatmap(train.astype(float).corr(),linewidths=0.1,vmax=1.0, square=True, cmap=colormap, linecolor='white', annot=True)\n",
    "plt.show()"
   ]
  },
  {
   "cell_type": "markdown",
   "metadata": {
    "colab_type": "text",
    "id": "i4_YrzES5Dat"
   },
   "source": [
    "We can see from the survived column, that it has strong relation with sex and potential relation with class (or fare)."
   ]
  },
  {
   "cell_type": "markdown",
   "metadata": {
    "colab_type": "text",
    "id": "CZ4EFFaMqQN2"
   },
   "source": [
    "### Features Selection\n",
    "We will drop the features that are not correlated with our dataset."
   ]
  },
  {
   "cell_type": "code",
   "execution_count": 41,
   "metadata": {
    "colab": {},
    "colab_type": "code",
    "id": "_XkxIqBh2kEY"
   },
   "outputs": [],
   "source": [
    "# Feature selection\n",
    "\n",
    "original_train = train.copy(deep=True)\n",
    "original_test = test.copy(deep=True)\n",
    "drop_elements = ['PassengerId', 'SibSp', 'Parch', 'Age', 'Age_bin','Embarked']\n",
    "try: \n",
    "  train = train.drop(drop_elements, axis = 1)\n",
    "  test  = test.drop(drop_elements, axis = 1)\n",
    "except:\n",
    "  print(\"The features are already removed.\")"
   ]
  },
  {
   "cell_type": "markdown",
   "metadata": {
    "colab_type": "text",
    "id": "Y5KuVzL67Be8"
   },
   "source": [
    "Exploring the dataset after removing features"
   ]
  },
  {
   "cell_type": "code",
   "execution_count": 42,
   "metadata": {
    "colab": {
     "base_uri": "https://localhost:8080/",
     "height": 206
    },
    "colab_type": "code",
    "id": "5r4IKqad2jaX",
    "outputId": "01cf9d90-1c72-4fcd-b931-cd4c61d516e2"
   },
   "outputs": [
    {
     "data": {
      "text/html": [
       "<div>\n",
       "<style scoped>\n",
       "    .dataframe tbody tr th:only-of-type {\n",
       "        vertical-align: middle;\n",
       "    }\n",
       "\n",
       "    .dataframe tbody tr th {\n",
       "        vertical-align: top;\n",
       "    }\n",
       "\n",
       "    .dataframe thead th {\n",
       "        text-align: right;\n",
       "    }\n",
       "</style>\n",
       "<table border=\"1\" class=\"dataframe\">\n",
       "  <thead>\n",
       "    <tr style=\"text-align: right;\">\n",
       "      <th></th>\n",
       "      <th>Pclass</th>\n",
       "      <th>Sex</th>\n",
       "      <th>Fare</th>\n",
       "      <th>Name_length</th>\n",
       "      <th>Fare_log</th>\n",
       "      <th>Fare_bin</th>\n",
       "    </tr>\n",
       "  </thead>\n",
       "  <tbody>\n",
       "    <tr>\n",
       "      <th>341</th>\n",
       "      <td>3</td>\n",
       "      <td>0</td>\n",
       "      <td>7.5792</td>\n",
       "      <td>1</td>\n",
       "      <td>2.025408</td>\n",
       "      <td>0</td>\n",
       "    </tr>\n",
       "    <tr>\n",
       "      <th>375</th>\n",
       "      <td>1</td>\n",
       "      <td>1</td>\n",
       "      <td>262.3750</td>\n",
       "      <td>1</td>\n",
       "      <td>5.569775</td>\n",
       "      <td>1</td>\n",
       "    </tr>\n",
       "    <tr>\n",
       "      <th>213</th>\n",
       "      <td>2</td>\n",
       "      <td>1</td>\n",
       "      <td>26.0000</td>\n",
       "      <td>3</td>\n",
       "      <td>3.258097</td>\n",
       "      <td>0</td>\n",
       "    </tr>\n",
       "    <tr>\n",
       "      <th>205</th>\n",
       "      <td>1</td>\n",
       "      <td>0</td>\n",
       "      <td>25.7417</td>\n",
       "      <td>1</td>\n",
       "      <td>3.248112</td>\n",
       "      <td>0</td>\n",
       "    </tr>\n",
       "    <tr>\n",
       "      <th>197</th>\n",
       "      <td>3</td>\n",
       "      <td>1</td>\n",
       "      <td>7.7750</td>\n",
       "      <td>1</td>\n",
       "      <td>2.050913</td>\n",
       "      <td>0</td>\n",
       "    </tr>\n",
       "  </tbody>\n",
       "</table>\n",
       "</div>"
      ],
      "text/plain": [
       "     Pclass  Sex      Fare  Name_length  Fare_log  Fare_bin\n",
       "341       3    0    7.5792            1  2.025408         0\n",
       "375       1    1  262.3750            1  5.569775         1\n",
       "213       2    1   26.0000            3  3.258097         0\n",
       "205       1    0   25.7417            1  3.248112         0\n",
       "197       3    1    7.7750            1  2.050913         0"
      ]
     },
     "execution_count": 42,
     "metadata": {},
     "output_type": "execute_result"
    }
   ],
   "source": [
    "test.sample(5)"
   ]
  },
  {
   "cell_type": "markdown",
   "metadata": {
    "colab_type": "text",
    "id": "aZzRzDSV1sIV"
   },
   "source": [
    "## Predictive Modelling"
   ]
  },
  {
   "cell_type": "code",
   "execution_count": 43,
   "metadata": {
    "colab": {},
    "colab_type": "code",
    "id": "BJFKuMh3OvHx"
   },
   "outputs": [],
   "source": [
    "import sklearn # Collection of machine learning algorithms\n",
    "from sklearn.linear_model import LogisticRegression, Perceptron\n",
    "from sklearn.tree import DecisionTreeClassifier\n",
    "from sklearn.svm import SVC"
   ]
  },
  {
   "cell_type": "markdown",
   "metadata": {
    "colab_type": "text",
    "id": "-cwc2VjG7gLL"
   },
   "source": [
    "\n",
    "### Implementation: Shuffle and Split Data\n",
    "\n",
    "The next step requires that we take the train dataset and split the data into training and validation subsets. We should do this because we want to test how well our model generalizes to unseen data.\n",
    "\n",
    "Use `train_test_split` from `sklearn.cross_validation` to shuffle and split the data into training and validation sets.\n",
    "\n",
    "Careful there are 3 Datasets, training, validation and testing. Eventhough the method is called train_test_split we will split into train and validation\n",
    "* Split the data into 70% training and 30% validation.\n",
    "* Set the *random_state* for train_test_split to 101. This ensures results are consistent over multiple runs.\n",
    "\n"
   ]
  },
  {
   "cell_type": "code",
   "execution_count": 44,
   "metadata": {
    "colab": {},
    "colab_type": "code",
    "id": "m8lwRPVajSqe"
   },
   "outputs": [],
   "source": [
    "from sklearn.model_selection import train_test_split\n",
    "\n",
    "def create_dataset_split(dataset):\n",
    "    X = dataset.drop(\"Survived\", axis=1)\n",
    "    y = dataset[\"Survived\"]\n",
    "    X_train, X_val, y_train, y_val = train_test_split(X, y, test_size=0.3, random_state=101)\n",
    "    return X_train, X_val, y_train, y_val"
   ]
  },
  {
   "cell_type": "markdown",
   "metadata": {
    "colab_type": "text",
    "id": "x7FdSgBD3lXs"
   },
   "source": [
    "* Accuracy Function\n",
    "* Logistic Regression\n",
    "* SVM\n",
    "* Decision Tree / Random Forest\n",
    "* Perceptron"
   ]
  },
  {
   "cell_type": "markdown",
   "metadata": {
    "colab_type": "text",
    "id": "UO9MTEi2Edrd"
   },
   "source": [
    "###  Logistic Regression\n",
    "\n",
    "Logistic regression is machine learning classification algorithm that is used to predict the probability of a categorical dependent variable. In logistic regression, the dependent variable is a binary variable that contains data coded as 1 (survived) or 0 (not survived). In other words, the logistic regression model predicts P(Y=1) as a function of X (Features). This makes it a  binary classifier."
   ]
  },
  {
   "cell_type": "code",
   "execution_count": 45,
   "metadata": {
    "colab": {
     "base_uri": "https://localhost:8080/",
     "height": 35
    },
    "colab_type": "code",
    "id": "IdVXnFdp3kYI",
    "outputId": "cd718a89-1653-46c4-9c6c-007a9e4e3822"
   },
   "outputs": [
    {
     "name": "stdout",
     "output_type": "stream",
     "text": [
      "The accuracy on our training dataset if we use  original_data  is 81.38%\n",
      "The accuracy on our validation dataset if we use  original_data  is 76.49% \n",
      "\n",
      "The accuracy on our training dataset if we use  feature_selection  is 79.94%\n",
      "The accuracy on our validation dataset if we use  feature_selection  is 77.61% \n",
      "\n"
     ]
    }
   ],
   "source": [
    "for i in [\"original_data\", \"feature_selection\"]:\n",
    "    dataset = train if i == \"feature_selection\" else original_train\n",
    "    X_train, X_val, y_train, y_val = create_dataset_split(dataset)\n",
    "    \n",
    "    logreg = LogisticRegression(solver=\"newton-cg\")\n",
    "    logreg.fit(X_train, y_train)\n",
    "    \n",
    "    print(\"The accuracy on our training dataset if we use \", i, \" is {}%\".format(round(logreg.score(X_train, y_train) * 100, 2)))\n",
    "    print(\"The accuracy on our validation dataset if we use \",i,\" is {}% \\n\".format(round(logreg.score(X_val, y_val) * 100, 2)))"
   ]
  },
  {
   "cell_type": "markdown",
   "metadata": {
    "colab_type": "text",
    "id": "eXTT_7pMPOim"
   },
   "source": [
    "### Decision Tree\n",
    "Decision tree classifiers are attractive models if we care about interpretability. As\n",
    "the name decision tree suggests, we can think of this model as breaking down our\n",
    "data by making decisions based on asking a series of questions."
   ]
  },
  {
   "cell_type": "code",
   "execution_count": 46,
   "metadata": {
    "colab": {
     "base_uri": "https://localhost:8080/",
     "height": 35
    },
    "colab_type": "code",
    "id": "VcxDvyz3PQO1",
    "outputId": "7ead182f-7d3c-4b0b-aec4-7ac84b533196"
   },
   "outputs": [
    {
     "name": "stdout",
     "output_type": "stream",
     "text": [
      "The accuracy on our training dataset if we use  original_data  is 100.0%\n",
      "The accuracy on our validation dataset if we use  original_data  is 75.0% \n",
      "\n",
      "The accuracy on our training dataset if we use  feature_selection  is 93.74%\n",
      "The accuracy on our validation dataset if we use  feature_selection  is 74.63% \n",
      "\n"
     ]
    }
   ],
   "source": [
    "for i in [\"original_data\", \"feature_selection\"]:\n",
    "    dataset = train if i == \"feature_selection\" else original_train\n",
    "    X_train, X_val, y_train, y_val = create_dataset_split(dataset)\n",
    "    \n",
    "    decision_tree = DecisionTreeClassifier()\n",
    "    decision_tree.fit(X_train, y_train)\n",
    "    \n",
    "    print(\"The accuracy on our training dataset if we use \", i, \" is {}%\".format(round(decision_tree.score(X_train, y_train) * 100, 2)))\n",
    "    print(\"The accuracy on our validation dataset if we use \", i, \" is {}% \\n\".format(round(decision_tree.score(X_val, y_val) * 100, 2)))    "
   ]
  },
  {
   "cell_type": "markdown",
   "metadata": {},
   "source": [
    "### Random Forest\n",
    "Multiple Decision Trees --> See lecture"
   ]
  },
  {
   "cell_type": "code",
   "execution_count": 47,
   "metadata": {},
   "outputs": [
    {
     "name": "stdout",
     "output_type": "stream",
     "text": [
      "The accuracy on our training dataset if we use  original_data  is 88.28%\n",
      "The accuracy on our validation dataset if we use  original_data  is 75.75% \n",
      "\n",
      "The accuracy on our training dataset if we use  feature_selection  is 85.07%\n",
      "The accuracy on our validation dataset if we use  feature_selection  is 81.34% \n",
      "\n"
     ]
    }
   ],
   "source": [
    "from sklearn.ensemble import RandomForestClassifier\n",
    "\n",
    "for i in [\"original_data\", \"feature_selection\"]:\n",
    "    dataset = train if i == \"feature_selection\" else original_train\n",
    "    X_train, X_val, y_train, y_val = create_dataset_split(dataset)\n",
    "\n",
    "    random_forest = RandomForestClassifier(bootstrap=True, class_weight=None, criterion='entropy',\n",
    "                        max_depth=15, max_features='sqrt', max_leaf_nodes=None,\n",
    "                        min_impurity_decrease=0.0,\n",
    "                        min_samples_leaf=5, min_samples_split=2,\n",
    "                        min_weight_fraction_leaf=0.0, n_estimators=6,\n",
    "                        n_jobs=None, oob_score=False, random_state=6,\n",
    "                        verbose=0, warm_start=False)\n",
    "    random_forest.fit(X_train, y_train)\n",
    "    print(\"The accuracy on our training dataset if we use \", i, \" is {}%\".format(round(random_forest.score(X_train, y_train) * 100, 2)))\n",
    "    print(\"The accuracy on our validation dataset if we use \", i ,\" is {}% \\n\".format(round(random_forest.score(X_val, y_val) * 100, 2)))"
   ]
  },
  {
   "cell_type": "markdown",
   "metadata": {
    "colab_type": "text",
    "id": "6iafhmkIQBpP"
   },
   "source": [
    "### Perceptron\n",
    "The perceptron is a supervised binary classifier (single-layer neural network)."
   ]
  },
  {
   "cell_type": "code",
   "execution_count": 48,
   "metadata": {
    "colab": {
     "base_uri": "https://localhost:8080/",
     "height": 90
    },
    "colab_type": "code",
    "id": "1Ri312l1QSnr",
    "outputId": "94cf6b6c-93e2-4108-e195-e23566286cbe"
   },
   "outputs": [
    {
     "name": "stdout",
     "output_type": "stream",
     "text": [
      "The accuracy on our training dataset if we use  original_data  is 64.21%\n",
      "The accuracy on our validation dataset if we use  original_data  is 57.84% \n",
      "\n",
      "The accuracy on our training dataset if we use  feature_selection  is 74.48%\n",
      "The accuracy on our validation dataset if we use  feature_selection  is 69.4% \n",
      "\n"
     ]
    }
   ],
   "source": [
    "for i in [\"original_data\", \"feature_selection\"]:\n",
    "    dataset = train if i == \"feature_selection\" else original_train\n",
    "    X_train, X_val, y_train, y_val = create_dataset_split(dataset)\n",
    "    \n",
    "    perceptron = Perceptron()\n",
    "    perceptron.fit(X_train, y_train)\n",
    "    \n",
    "    print(\"The accuracy on our training dataset if we use \", i, \" is {}%\".format(round(perceptron.score(X_train, y_train) * 100, 2)))\n",
    "    print(\"The accuracy on our validation dataset if we use \", i ,\" is {}% \\n\".format(round(perceptron.score(X_val, y_val) * 100, 2)))"
   ]
  },
  {
   "cell_type": "markdown",
   "metadata": {
    "colab_type": "text",
    "id": "dDXM0aksO_3y"
   },
   "source": [
    "### Support Vector Machines \n",
    "Support Vector Machines (SVM) are kernel based methods that require only a user-specified kernel function $K$ i.e., a similarity function over pairs of data points into a kernel (dual) space on which the learning algorithms operate linearly."
   ]
  },
  {
   "cell_type": "code",
   "execution_count": 49,
   "metadata": {
    "colab": {
     "base_uri": "https://localhost:8080/",
     "height": 35
    },
    "colab_type": "code",
    "id": "LCfytQrZO4qV",
    "outputId": "75398664-f0ca-41da-b486-4a034b9e88de"
   },
   "outputs": [
    {
     "name": "stdout",
     "output_type": "stream",
     "text": [
      "The accuracy on our training dataset if we use  original_data  is 99.52%\n",
      "The accuracy on our validation dataset if we use  original_data  is 57.09% \n",
      "\n",
      "The accuracy on our training dataset if we use  feature_selection  is 84.11%\n",
      "The accuracy on our validation dataset if we use  feature_selection  is 75.75% \n",
      "\n"
     ]
    }
   ],
   "source": [
    "for i in [\"original_data\", \"feature_selection\"]:\n",
    "    dataset = train if i == \"feature_selection\" else original_train\n",
    "    X_train, X_val, y_train, y_val = create_dataset_split(dataset)\n",
    "    \n",
    "    svc=SVC(gamma=\"auto\",probability=True)\n",
    "    svc.fit(X_train, y_train)\n",
    "    \n",
    "    print(\"The accuracy on our training dataset if we use \", i, \" is {}%\".format(round(svc.score(X_train, y_train) * 100, 2)))\n",
    "    print(\"The accuracy on our validation dataset if we use \", i ,\" is {}% \\n\".format(round(svc.score(X_val, y_val) * 100, 2)))    "
   ]
  },
  {
   "cell_type": "markdown",
   "metadata": {},
   "source": [
    "## Inference on Test Dataset\n",
    "\n",
    "We used the validation dataset to find out the best machine learning model. Use this model to predict survival status for the test dataset (and upload the prediction to [kaggle](https://www.kaggle.com/competitions/titanic/leaderboard))"
   ]
  },
  {
   "cell_type": "code",
   "execution_count": 50,
   "metadata": {},
   "outputs": [
    {
     "data": {
      "text/plain": [
       "array([0, 1, 0, 0, 1, 0, 1, 0, 1, 0, 0, 0, 1, 0, 1, 1, 0, 0, 1, 1, 0, 0,\n",
       "       1, 0, 1, 0, 1, 0, 0, 0, 0, 0, 1, 1, 0, 0, 1, 0, 0, 0, 0, 0, 0, 1,\n",
       "       1, 0, 0, 0, 1, 1, 0, 0, 1, 1, 1, 0, 0, 0, 0, 1, 0, 0, 0, 1, 0, 1,\n",
       "       1, 1, 1, 1, 1, 0, 1, 1, 1, 0, 0, 1, 0, 1, 0, 0, 0, 0, 0, 0, 1, 1,\n",
       "       1, 0, 1, 0, 1, 0, 0, 0, 1, 0, 1, 0, 1, 0, 0, 0, 1, 0, 0, 0, 0, 0,\n",
       "       0, 1, 1, 1, 1, 0, 0, 1, 0, 1, 1, 0, 1, 0, 0, 0, 0, 0, 0, 0, 0, 0,\n",
       "       0, 0, 0, 0, 0, 0, 1, 0, 0, 1, 0, 0, 1, 0, 0, 0, 0, 0, 1, 0, 0, 1,\n",
       "       0, 0, 1, 1, 0, 0, 1, 0, 1, 0, 0, 1, 0, 0, 1, 0, 0, 0, 0, 0, 1, 1,\n",
       "       1, 1, 1, 1, 0, 1, 1, 0, 1, 0, 1, 0, 0, 0, 0, 0, 0, 0, 0, 0, 1, 1,\n",
       "       0, 1, 0, 0, 0, 1, 0, 0, 1, 0, 1, 0, 0, 0, 0, 1, 1, 0, 1, 0, 1, 0,\n",
       "       1, 0, 1, 0, 1, 1, 0, 1, 0, 0, 0, 1, 0, 0, 0, 0, 0, 0, 1, 1, 1, 1,\n",
       "       0, 0, 1, 0, 1, 0, 1, 1, 1, 0, 0, 0, 0, 0, 0, 0, 1, 0, 0, 0, 1, 1,\n",
       "       0, 0, 0, 0, 1, 0, 0, 0, 1, 0, 0, 1, 0, 0, 0, 0, 0, 0, 1, 0, 1, 0,\n",
       "       0, 0, 0, 0, 1, 1, 0, 0, 0, 0, 1, 0, 0, 0, 0, 0, 0, 0, 1, 1, 1, 0,\n",
       "       0, 1, 0, 0, 0, 1, 1, 1, 1, 0, 0, 0, 0, 0, 0, 0, 1, 0, 1, 1, 0, 0,\n",
       "       1, 0, 0, 1, 0, 0, 0, 0, 0, 0, 0, 0, 0, 1, 0, 1, 0, 1, 0, 1, 1, 0,\n",
       "       0, 0, 1, 0, 1, 0, 0, 1, 0, 1, 1, 0, 1, 0, 0, 0, 1, 0, 0, 1, 0, 0,\n",
       "       1, 1, 0, 0, 0, 0, 0, 0, 0, 0, 0, 1, 0, 0, 0, 0, 0, 1, 0, 0, 0, 1,\n",
       "       0, 1, 0, 0, 1, 0, 1, 0, 0, 0, 0, 0, 1, 0, 1, 1, 1, 0, 1, 0, 0, 0],\n",
       "      dtype=int64)"
      ]
     },
     "execution_count": 50,
     "metadata": {},
     "output_type": "execute_result"
    }
   ],
   "source": [
    "random_forest.predict(test)"
   ]
  },
  {
   "cell_type": "markdown",
   "metadata": {},
   "source": [
    "# Let's predict the fates of Leonardo di Caprio and Kate Winslet"
   ]
  },
  {
   "cell_type": "markdown",
   "metadata": {},
   "source": [
    "### di Caprios features\n",
    "- Name: Dawson, Mr. Jack\n",
    "- Pclass: 3\n",
    "- Sex: 0\n",
    "- Fare: ???\n",
    "- Name_length: 0\n",
    "- Fare_log: ???\n",
    "- Fare_bin: ??? "
   ]
  },
  {
   "cell_type": "code",
   "execution_count": 51,
   "metadata": {},
   "outputs": [
    {
     "data": {
      "text/html": [
       "<div>\n",
       "<style scoped>\n",
       "    .dataframe tbody tr th:only-of-type {\n",
       "        vertical-align: middle;\n",
       "    }\n",
       "\n",
       "    .dataframe tbody tr th {\n",
       "        vertical-align: top;\n",
       "    }\n",
       "\n",
       "    .dataframe thead th {\n",
       "        text-align: right;\n",
       "    }\n",
       "</style>\n",
       "<table border=\"1\" class=\"dataframe\">\n",
       "  <thead>\n",
       "    <tr style=\"text-align: right;\">\n",
       "      <th></th>\n",
       "      <th>Pclass</th>\n",
       "      <th>Sex</th>\n",
       "      <th>Fare</th>\n",
       "      <th>Name_length</th>\n",
       "      <th>Fare_log</th>\n",
       "      <th>Fare_bin</th>\n",
       "    </tr>\n",
       "  </thead>\n",
       "  <tbody>\n",
       "    <tr>\n",
       "      <th>0</th>\n",
       "      <td>3</td>\n",
       "      <td>0</td>\n",
       "      <td>13.67555</td>\n",
       "      <td>0</td>\n",
       "      <td>2.61561</td>\n",
       "      <td>0</td>\n",
       "    </tr>\n",
       "  </tbody>\n",
       "</table>\n",
       "</div>"
      ],
      "text/plain": [
       "   Pclass  Sex      Fare  Name_length  Fare_log  Fare_bin\n",
       "0       3    0  13.67555            0   2.61561         0"
      ]
     },
     "execution_count": 51,
     "metadata": {},
     "output_type": "execute_result"
    }
   ],
   "source": [
    "jacks_name = len(\"Dawson, Mr. Jack\")\n",
    "jacks_name_length = 0\n",
    "    \n",
    "def get_average_fares(pclass):\n",
    "    # Who is traveling in the given class\n",
    "    people_in_this_class = np.where(train[\"Pclass\"] == pclass)[0]\n",
    "    # Calculate their average fare\n",
    "    avg_fare = np.take(train[\"Fare\"],people_in_this_class).mean()\n",
    "    avg_log_fare = np.log(avg_fare)\n",
    "    avg_fare_bin = 0 if avg_log_fare <= 3.8 else 1\n",
    "    return avg_fare, avg_log_fare, avg_fare_bin\n",
    "\n",
    "# get average fares for third class\n",
    "jacks_fare, jacks_log_fare, jacks_fare_bin = get_average_fares(3)\n",
    "\n",
    "## diCaprios features\n",
    "jacks_input = [3, 0, jacks_fare, jacks_name_length, jacks_log_fare, jacks_fare_bin]\n",
    "\n",
    "\n",
    "# Create new DataFrame with the same column names but our new input\n",
    "input_columns = [x for x in X_train.columns]\n",
    "jacks_dataframe = pd.DataFrame([jacks_input], columns=input_columns)\n",
    "jacks_dataframe"
   ]
  },
  {
   "cell_type": "markdown",
   "metadata": {},
   "source": [
    "# Kate Winslet\n",
    "- Name: Bukater, Miss. Rose DeWitt \n",
    "- Pclass: 1\n",
    "- Sex: 1\n",
    "- Fare: ???\n",
    "- Name_length: 1\n",
    "- Fare_log: ???\n",
    "- Fare_bin: ??? "
   ]
  },
  {
   "cell_type": "code",
   "execution_count": 52,
   "metadata": {},
   "outputs": [
    {
     "data": {
      "text/html": [
       "<div>\n",
       "<style scoped>\n",
       "    .dataframe tbody tr th:only-of-type {\n",
       "        vertical-align: middle;\n",
       "    }\n",
       "\n",
       "    .dataframe tbody tr th {\n",
       "        vertical-align: top;\n",
       "    }\n",
       "\n",
       "    .dataframe thead th {\n",
       "        text-align: right;\n",
       "    }\n",
       "</style>\n",
       "<table border=\"1\" class=\"dataframe\">\n",
       "  <thead>\n",
       "    <tr style=\"text-align: right;\">\n",
       "      <th></th>\n",
       "      <th>Pclass</th>\n",
       "      <th>Sex</th>\n",
       "      <th>Fare</th>\n",
       "      <th>Name_length</th>\n",
       "      <th>Fare_log</th>\n",
       "      <th>Fare_bin</th>\n",
       "    </tr>\n",
       "  </thead>\n",
       "  <tbody>\n",
       "    <tr>\n",
       "      <th>0</th>\n",
       "      <td>1</td>\n",
       "      <td>1</td>\n",
       "      <td>84.154687</td>\n",
       "      <td>1</td>\n",
       "      <td>4.432657</td>\n",
       "      <td>1</td>\n",
       "    </tr>\n",
       "  </tbody>\n",
       "</table>\n",
       "</div>"
      ],
      "text/plain": [
       "   Pclass  Sex       Fare  Name_length  Fare_log  Fare_bin\n",
       "0       1    1  84.154687            1  4.432657         1"
      ]
     },
     "execution_count": 52,
     "metadata": {},
     "output_type": "execute_result"
    }
   ],
   "source": [
    "roses_name = (\"Bukater, Miss. Rose DeWitt\")\n",
    "roses_name_length = 1\n",
    "\n",
    "# get average fars for first class\n",
    "roses_fare, roses_log_fare, roses_fare_bin = get_average_fares(1)\n",
    "roses_input = [1, 1, roses_fare, roses_name_length, roses_log_fare, roses_fare_bin]\n",
    "\n",
    "# Create new DataFrame with those column names and our new input\n",
    "input_columns = [x for x in X_train.columns]\n",
    "roses_dataframe = pd.DataFrame([roses_input], columns=input_columns)\n",
    "roses_dataframe"
   ]
  },
  {
   "cell_type": "code",
   "execution_count": 53,
   "metadata": {},
   "outputs": [
    {
     "name": "stdout",
     "output_type": "stream",
     "text": [
      "let's calculate Jack's chance of survival\n",
      "\t lr predicts chance of survival =  7.74 %\n",
      "\t decision tree predicts:  deceased\n",
      "\t random forest predicts:  deceased\n",
      "\t perceptron predicts:  deceased\n",
      "\t svm predicts chance of survival =  15.33 %\n"
     ]
    }
   ],
   "source": [
    "def survival_predictions(input_dataframe):\n",
    "    print(\"\\t lr predicts chance of survival = \", round(logreg.predict_proba(input_dataframe)[0,1]*100,2),\"%\")\n",
    "    print(\"\\t decision tree predicts: \", \"deceased\" if decision_tree.predict(input_dataframe) == 0 else \"survived\")\n",
    "    print(\"\\t random forest predicts: \", \"deceased\" if random_forest.predict(input_dataframe) == 0 else \"survived\")\n",
    "    print(\"\\t perceptron predicts: \", \"deceased\" if perceptron.predict(input_dataframe) == 0 else \"survived\")\n",
    "    print(\"\\t svm predicts chance of survival = \",  round(svc.predict_proba(input_dataframe)[0,1]*100,2),\"%\")\n",
    "\n",
    "print(\"let's calculate Jack's chance of survival\")\n",
    "survival_predictions(jacks_dataframe)"
   ]
  },
  {
   "cell_type": "code",
   "execution_count": 54,
   "metadata": {},
   "outputs": [
    {
     "name": "stdout",
     "output_type": "stream",
     "text": [
      "lets calculate Rose's chance of survival\n",
      "\t lr predicts chance of survival =  88.85 %\n",
      "\t decision tree predicts:  survived\n",
      "\t random forest predicts:  survived\n",
      "\t perceptron predicts:  survived\n",
      "\t svm predicts chance of survival =  73.73 %\n"
     ]
    }
   ],
   "source": [
    "print(\"lets calculate Rose's chance of survival\")\n",
    "survival_predictions(roses_dataframe)"
   ]
  },
  {
   "cell_type": "markdown",
   "metadata": {
    "colab_type": "text",
    "id": "JvX9vSIkCitD"
   },
   "source": [
    "# Conclusion\n",
    "*  Machine Learning is about algorithms that are capable to learn from data, instead of having to explicitly code rules.\n",
    "* In an ML project you gather data in a training set, and you feed the training set to a learning algorithm.\n",
    "* The system will not perform well if your training set is too small, or if the data is not representative, noisy, or polluted with irrelevant features (garbage in, garbage out). \n",
    "* Lastly, your model needs to be neither too simple (in which case it will underfit) nor too complex (in which case it will overfit)."
   ]
  }
 ],
 "metadata": {
  "colab": {
   "collapsed_sections": [],
   "name": "Exercise 01 - Data Processing with Python",
   "provenance": [],
   "version": "0.3.2"
  },
  "kernelspec": {
   "display_name": "ml_env",
   "language": "python",
   "name": "ml_env"
  },
  "language_info": {
   "codemirror_mode": {
    "name": "ipython",
    "version": 3
   },
   "file_extension": ".py",
   "mimetype": "text/x-python",
   "name": "python",
   "nbconvert_exporter": "python",
   "pygments_lexer": "ipython3",
   "version": "3.9.13"
  }
 },
 "nbformat": 4,
 "nbformat_minor": 1
}
