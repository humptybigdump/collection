{
 "cells": [
  {
   "cell_type": "markdown",
   "metadata": {},
   "source": [
    "# Notebook zur Numerischen Quadratur\n",
    "\n",
    "**Abgabe in den Programmiertutorien am 14. und 15. November 2024.**"
   ]
  },
  {
   "cell_type": "markdown",
   "metadata": {},
   "source": [
    "Benötigte Module für dieses Notebook."
   ]
  },
  {
   "cell_type": "code",
   "execution_count": null,
   "metadata": {},
   "outputs": [],
   "source": [
    "import numpy as np\n",
    "import matplotlib.pyplot as plt"
   ]
  },
  {
   "cell_type": "markdown",
   "metadata": {},
   "source": [
    "# Programmieraufgabe 1 (Zusammengesetzte Quadraturformeln)\n",
    "\n",
    "Das folgende Notebook benutzt viele der Tools, die Sie im Notebook \"Erste Schritte\" kennengelernt haben. Wir empfehlen daher, Letzteres zur Hand zu nehmen zur Bearbeitung der hier gestellten Aufgaben."
   ]
  },
  {
   "cell_type": "markdown",
   "metadata": {},
   "source": [
    "### Beispielintegral\n",
    "Wir wählen die einfache Beispielfunktion $f(x)=x + \\sin(x)$, um verschiedene Quadraturformeln an dieser zu testen und den Fehler der Approximationen zu bestimmen."
   ]
  },
  {
   "cell_type": "code",
   "execution_count": null,
   "metadata": {},
   "outputs": [],
   "source": [
    "def f(x):\n",
    "    return x + np.sin(x)"
   ]
  },
  {
   "cell_type": "markdown",
   "metadata": {},
   "source": [
    "Wir berechnen zunächst den exakten Wert des Integrals über einem Intervall $[a,b]$: \n",
    "$$ \\int_a^b x + \\sin(x) \\, \\mathrm dx = \\left[ \\frac12 x^2 - \\cos(x) \\right]_a^b = \\frac12 \\left(b^2-a^2\\right) + \\cos(a) - \\cos(b). $$\n",
    "Von nun an wählen wir konkret $[a,b]=[0,2]$ und berechnen für dieses Intervall den obigen Wert:"
   ]
  },
  {
   "cell_type": "code",
   "execution_count": null,
   "metadata": {},
   "outputs": [],
   "source": [
    "a = 0\n",
    "b = 2\n",
    "exact = 0.5*(b**2-a**2) + np.cos(a) - np.cos(b)\n",
    "print(exact)"
   ]
  },
  {
   "cell_type": "markdown",
   "metadata": {},
   "source": [
    "_Bemerkung:_ Läge der exakte Wert des Integrals zu einer Beispielfunktion nicht vor, so könnte ein \"exakter Wert\" durch eine sehr feine Zerlegung berechnet und eine Fehleranalyse trotzdem durchgeführt werden."
   ]
  },
  {
   "cell_type": "markdown",
   "metadata": {},
   "source": [
    "### Zusammengesetzte Quadraturformeln für eine äquidistante Zerlegung des Intervalls $[a,b]$"
   ]
  },
  {
   "cell_type": "markdown",
   "metadata": {},
   "source": [
    "Wir verwenden eine äquidistante Zerlegung des Intervalls $[a,b]$ in $N\\in\\mathbb{N}$ Teilintervalle, d.h.\n",
    "$$ h = \\frac{b-a}{N} \\quad \\text{und} \\quad x_n = a + nh, \\quad n = 0,...,N.$$"
   ]
  },
  {
   "cell_type": "markdown",
   "metadata": {},
   "source": [
    "Damit zerlegen wir das Integral wie üblich über\n",
    "$$ \\int_a^b f(x) \\, \\mathrm{d}x = \\sum_{n=1}^N \\int_{x_{n-1}}^{x_n} f(x) \\, \\mathrm{d}x = \\sum_{n=1}^N h \\int_0^1 f(x_{n-1} + t h) \\, \\mathrm{d}t $$\n",
    "und approximieren die verbleibenden Integrale über dem Intervall $[0,1]$ mit einer Quadraturformel (z.B. Rechtecksregel/Mittelpunktsregel/...)."
   ]
  },
  {
   "cell_type": "markdown",
   "metadata": {},
   "source": [
    "**(a) Implementieren Sie eine Prozedur mit dem Namen `rechteckZusammen`, die die zusammengesetzte Rechteckregel für eine Funktion $f$ zu einer äquidistanten Zerlegung des Intervalls $[a,b]$ in $N$ Teilintervalle anwendet und das Ergebnis zurückgibt. Die Funktion $f$ sowie die Zahlen $a$, $b$ und $N$ sollen der Prozedur als Argumente übergeben werden. Testen Sie Ihre Prozedur, indem Sie diese auf das obige Integral unter Verwendung von $N=100$ Teilintervallen anwenden und dann überprüfen, ob das Ergebnis ungefähr mit dem exakten Wert des Integrals übereinstimmt.**"
   ]
  },
  {
   "cell_type": "code",
   "execution_count": null,
   "metadata": {},
   "outputs": [],
   "source": []
  },
  {
   "cell_type": "code",
   "execution_count": null,
   "metadata": {},
   "outputs": [],
   "source": []
  },
  {
   "cell_type": "markdown",
   "metadata": {},
   "source": [
    "**(b) Schreiben Sie analog zu Teil (a) drei Prozeduren `mittelpunktZusammen`, `trapezZusammen` und `simpsonZusammen`, in denen jeweils das Ergebnis der zusammengesetzten Mittelpunktsregel, Trapezregel und Simpsonregel berechnet wird.**"
   ]
  },
  {
   "cell_type": "code",
   "execution_count": null,
   "metadata": {},
   "outputs": [],
   "source": []
  },
  {
   "cell_type": "code",
   "execution_count": null,
   "metadata": {},
   "outputs": [],
   "source": []
  },
  {
   "cell_type": "code",
   "execution_count": null,
   "metadata": {},
   "outputs": [],
   "source": []
  },
  {
   "cell_type": "code",
   "execution_count": null,
   "metadata": {},
   "outputs": [],
   "source": []
  },
  {
   "cell_type": "code",
   "execution_count": null,
   "metadata": {},
   "outputs": [],
   "source": []
  },
  {
   "cell_type": "code",
   "execution_count": null,
   "metadata": {},
   "outputs": [],
   "source": []
  },
  {
   "cell_type": "markdown",
   "metadata": {},
   "source": [
    "### Numerische Fehleranalyse\n",
    "\n",
    "Nun wollen wir den Fehler der verschiedenen zusammengesetzten Quadraturformeln in Abhängigkeit des Stützstellenabstands $h$, also für verschiedene Anzahlen an Teilintervallen $N$, beobachten. Gehen Sie dazu folgendermaßen vor:\n"
   ]
  },
  {
   "cell_type": "markdown",
   "metadata": {},
   "source": [
    "**(c) Schreiben Sie ein Programm, dass die zusammengesetzte Rechteckregel für die gegebene Funktion $f$ und das gegebene Intervall $[a,b]$ für $N=2^k$, $k=1,...,8$ auswertet, dann jeweils den Fehler zum in `exact` gespeicherten exakten Wert des Integrals berechnet, und die Fehler für die verschiedenen Werte von $N$ in einem Vektor `errors_re` speichert. Speichern Sie außerdem alle Werte von $N$ in einem Vektor `N_vec`.**\n",
    "\n",
    "**Ergänzen Sie Ihr Programm anschließend so, dass es drei weitere Vektoren `errors_tr`, `errors_mp` und `errors_si` berechnet, die die Fehler der zusammengesetzten Mittelpunktsregel, Trapezregel und Simpsonregel für die verschiedenen Werte von $N$ enthält.**"
   ]
  },
  {
   "cell_type": "code",
   "execution_count": null,
   "metadata": {},
   "outputs": [],
   "source": []
  },
  {
   "cell_type": "markdown",
   "metadata": {},
   "source": [
    "Sei $e(h)$ der Fehler einer zusammengesetzten Quadraturformel in Abhängigkeit der Intervallbreite $h$. Aus der Vorlesung wiss wir, dass $e(h) \\leq Ch^p$ für ein $p\\in\\mathbb{N}$ und eine Konstante $C$ gilt. Anwenden des Logarithmus auf beiden Seiten liefert dann\n",
    "$$ log(𝑒(ℎ)) \\leq log(𝐶)+𝑝 \\cdot log(ℎ). $$\n",
    "Wenn wir also den Logarithmus des Fehlers $log(𝑒(ℎ))$ über den Logarithmus der Intervallbreite $log(ℎ)$ darstellen, dann entspricht die rechte Seite einer Geraden mit Steigung $p$. Der Fehler sollte also durch eine Gerade beschränkt sein, an deren Steigung wir die Konvergenzordnung $p$ ablesen können. \n",
    "\n",
    "Genau dazu ist der Befehl `plt.loglog` da, der wie der `plt.plot` Befehl funktioniert, aber die Werte entlang der $x$- und $y$-Achse logarithmisch aufträgt. Zum Ablesen der Steigungen eignen sich Referenzgeraden, die dementsprechend z.B. folgendermaßen erzeugt werden können:"
   ]
  },
  {
   "cell_type": "code",
   "execution_count": null,
   "metadata": {},
   "outputs": [],
   "source": [
    "p = 3\n",
    "C = 1\n",
    "h_vec = (b-a)/N_vec\n",
    "plt.loglog(h_vec, C*h_vec**p, \"ks-\")\n",
    "plt.show()"
   ]
  },
  {
   "cell_type": "markdown",
   "metadata": {},
   "source": [
    "Die Konstante $C$ bestimmt den $y$-Achsenabschnitt der Gerade. Über den Wert von $C$ lassen sich die Referenzgeraden dementsprechend nach oben oder nach unten verschieben, sodass sie gut mit den Fehlerlinien vergleichbar sind."
   ]
  },
  {
   "cell_type": "markdown",
   "metadata": {},
   "source": [
    "**(d) Ergänzen Sie das folgende Programm so, dass der Fehler der zusammengesetzten Rechteckregel in Abhängigkeit der Schrittweite $h$ in logarithmischen Achsen zusammen mit Referenzgeraden mit verschiedenen Steigungen geplottet wird. Ergänzen Sie anschließend auch die anderen Quadraturformeln und passen Sie die Referenzgeraden so an, dass sich Aussagen über die beobachteten Fehler formulieren lassen. Erklären Sie das Bild.**"
   ]
  },
  {
   "cell_type": "code",
   "execution_count": null,
   "metadata": {},
   "outputs": [],
   "source": [
    "# Plot einer \"Referenzgeraden\" mit Steigung 1, 2 und 4\n",
    "h_vec = (b-a)/N_vec\n",
    "plt.loglog( ...... , ...... , \"r\", label=\"Referenzgerade Steigung 1\")\n",
    "plt.loglog( ...... , ...... , \"r--\", label=\"Referenzgerade Steigung 2\")\n",
    "plt.loglog( ...... , ...... , \"r:\", label=\"Referenzgerade Steigung 4\")\n",
    "\n",
    "# Plot der Fehler der zusammengesetzten Quadraturformeln \n",
    "plt.loglog( ...... , ...... , \"-s\", label=\"Fehler Rechtecksumme\")\n",
    "\n",
    "plt.legend()\n",
    "plt.xlabel(\"Schrittweite h\")\n",
    "plt.ylabel(\"Fehler\")\n",
    "plt.show()"
   ]
  },
  {
   "cell_type": "code",
   "execution_count": null,
   "metadata": {},
   "outputs": [],
   "source": []
  }
 ],
 "metadata": {
  "kernelspec": {
   "display_name": "Python 3 (ipykernel)",
   "language": "python",
   "name": "python3"
  },
  "language_info": {
   "codemirror_mode": {
    "name": "ipython",
    "version": 3
   },
   "file_extension": ".py",
   "mimetype": "text/x-python",
   "name": "python",
   "nbconvert_exporter": "python",
   "pygments_lexer": "ipython3",
   "version": "3.9.13"
  }
 },
 "nbformat": 4,
 "nbformat_minor": 2
}
