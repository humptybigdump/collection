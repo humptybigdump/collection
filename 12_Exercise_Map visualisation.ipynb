{
 "cells": [
  {
   "attachments": {},
   "cell_type": "markdown",
   "metadata": {},
   "source": [
    "# Geospatial Data Analysis I \n",
    "\n",
    "## Map visualisation in Python - Exercise "
   ]
  },
  {
   "attachments": {},
   "cell_type": "markdown",
   "metadata": {},
   "source": [
    "### Exercise 1: Simple maps with *Cartopy*\n",
    "\n",
    "We start with a simple map of Germany that shows the countries boundaries. \n",
    "\n",
    "- First, create an Axes object (e.g. \"ax\") using `plt.axes()`, and define its projection as Universal Transverse Mercator Zone 32 using cartopy.crs `projection=cartopy.crs.UTM(zone=32)`. \n",
    "\n",
    "- Then, add cartopy features for coastlines (`add_feature(cartopy.feature.COASTLINE`) and boundaries (`add_feature(cartopy.feature.BORDERS`) to the axes object. Also, set the spatial extent of the map to something fitting (`ax.set_extent([xmin, xmax, ymin, ymax])`), and add a title to your map. "
   ]
  },
  {
   "cell_type": "code",
   "execution_count": null,
   "metadata": {},
   "outputs": [],
   "source": [
    "# [1] \n"
   ]
  },
  {
   "attachments": {},
   "cell_type": "markdown",
   "metadata": {},
   "source": [
    "### Exercise 2: Place of Birth\n",
    "\n",
    "Now, we would like to create a simple map (as above) that shows your place of birth as a red marker. \n",
    "\n",
    "- Likewise to the exercise above, create an Axes object using a projection, and add coastlines and borders. \n",
    "\n",
    "- Then, use the \"Nominatim\" functionality from \"Geopy.geocoders\" to get the location of your place of birth (i.e. the city), by defining the geolocator (`geolocator = Nominatim(user_agent=\"Example\")`) and then extracting the coordinates (`location = geolocator.geocode(\"city, country\")`). \n",
    "\n",
    "- To plot yout place of birth you need to transform the coordinates as they come from the geolocator (WGS84 projection) to the specfic projection of your axes / map (UTM32). Use `ax.plot()` to add a marker to the map, and add `transform=ccrs.Geodetic()` as an additional argument besides the location (use the correct index!) and marker properties. \n",
    "\n",
    "- If needed, adapt the map extent to show the marker. "
   ]
  },
  {
   "cell_type": "code",
   "execution_count": null,
   "metadata": {},
   "outputs": [],
   "source": [
    "# [2]\n"
   ]
  },
  {
   "attachments": {},
   "cell_type": "markdown",
   "metadata": {},
   "source": [
    "### Exercise 3: Geopandas and Basemaps \n",
    "\n",
    "Here, we want to plot a map showing the location of measurement wells in the area of Karlsruhe. The coordinates of the wells are given in an Excel file as \"Rechtswerte\" and \"Hochwerte\" in the coordinate reference system DHDN (3-degree Gauss-Kruger Zone 3, EPSG:31467). \n",
    "\n",
    "- Read the data file 'Messstellen_Karlsruhe.xlsx' as a pandas DataFrame. It contains columns with Rechts- and Hochwerten as simple numeric values. \n",
    "\n",
    "- In order to put those numeric values into a spatial context we have to assign geometries (points in this case) to the indivual entries. First, create Point geometries in a separate variable from the numeric values using `shapely.geometry.Point(Rechtswert, Hochwert)` for each row in the DataFrame (e.g. by using by for-loop). \n",
    "\n",
    "- Then, create a GeoDataFrame, based on the DataFrame, the geometry variable and by setting a coordinate reference system: `geopandas.GeoDataFrame(df, crs=\"EPSG:31467\", geometry=geometry)`\n",
    "\n",
    "- Last, transform the coordinates of the measurement locations from Gauss-Kruger to WGS84 (`GeoDataFrame.to_crs('epsg:4326')`) and save the GeoDataFrame as a shape file. \n"
   ]
  },
  {
   "cell_type": "code",
   "execution_count": null,
   "metadata": {},
   "outputs": [],
   "source": [
    "# [3] \n"
   ]
  },
  {
   "attachments": {},
   "cell_type": "markdown",
   "metadata": {},
   "source": [
    "Now plot a map showing the locations of the measurement wells and a basemap of the area of Karlsruhe, e.g. with Contextily. \n",
    "\n",
    "- Create a Figure and Axes object, and read to shapefile from above. You can plot the wells easily by `well.plot(ax=ax, markerproperties...)`\n",
    "\n",
    "- Add a basemap using the Contextily functionality `contextily.add_basemap(ax, crs=monitoring.crs.to_string(), source=source)`. You need to specify the Axes you want to add the basemap to, the coordinate system to be used (you can extract this from the plotted data), and the type of basemap (*source*), e.g. `ctx.providers.OpenStreetMap.Mapnik` or `ctx.providers.OpenTopoMap`. You can find more map options here: https://contextily.readthedocs.io/en/latest/providers_deepdive.html\n",
    "\n",
    "- Also, don't forget to label the axes of your plot, add a legend and a title. "
   ]
  },
  {
   "cell_type": "code",
   "execution_count": null,
   "metadata": {},
   "outputs": [],
   "source": [
    "# [4] \n"
   ]
  },
  {
   "attachments": {},
   "cell_type": "markdown",
   "metadata": {},
   "source": [
    "## END"
   ]
  }
 ],
 "metadata": {
  "kernelspec": {
   "display_name": "GDA1",
   "language": "python",
   "name": "python3"
  },
  "language_info": {
   "codemirror_mode": {
    "name": "ipython",
    "version": 3
   },
   "file_extension": ".py",
   "mimetype": "text/x-python",
   "name": "python",
   "nbconvert_exporter": "python",
   "pygments_lexer": "ipython3",
   "version": "3.11.7"
  }
 },
 "nbformat": 4,
 "nbformat_minor": 4
}
