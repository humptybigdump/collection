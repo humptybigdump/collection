{
 "cells": [
  {
   "cell_type": "markdown",
   "metadata": {},
   "source": [
    "# Übung 4 - Vektoren & Matrizen in Python"
   ]
  },
  {
   "cell_type": "markdown",
   "metadata": {},
   "source": [
    "Bisher: Können mehrere Elemente **verschiedenen Typs** in **Listen** zusammenfassen (durch eckige Klammern). Auf die einzelnen Listenelemente kann man anschließend zugreifen und mit ihnen arbeiten."
   ]
  },
  {
   "cell_type": "code",
   "execution_count": null,
   "metadata": {},
   "outputs": [],
   "source": [
    "L = [3.14, 7, '3.14', 'Hallo',True]\n",
    "\n",
    "print(L[1]*5)\n",
    "\n",
    "for i in range(0,len(L)):\n",
    "    print('Typ des ',i,'-ten Elements in L:',type( L[i] ))\n",
    "    \n",
    "print('Typ von L:',type(L))"
   ]
  },
  {
   "cell_type": "markdown",
   "metadata": {},
   "source": [
    "Jetzt: **Numpy-Arrays** (`ndarray`): Menge von Elementen, die **alle Zahlen** sind. Dann kann man nicht nur mit den einzelnen Array-Elementen arbeiten, sondern kann **mit den kompletten Arrays rechnen**! Das Array kann dabei eindimensional (Vektor), zweidimensional (Matrix) oder höherdimensional (Tensor) stukturiert sein.\n",
    "\n",
    "Arrays sind eine spezielle Datenstruktur aus dem Paket Numpy. Daher muss dieses zuerst eingebunden werden."
   ]
  },
  {
   "cell_type": "code",
   "execution_count": null,
   "metadata": {},
   "outputs": [],
   "source": [
    "import numpy as np"
   ]
  },
  {
   "cell_type": "markdown",
   "metadata": {},
   "source": [
    "## Eindimensionale Arrays = Vektoren"
   ]
  },
  {
   "cell_type": "markdown",
   "metadata": {},
   "source": [
    "Erstellen von eindimensionalen Arrays: Mit dem Befehl `np.array()`:"
   ]
  },
  {
   "cell_type": "code",
   "execution_count": null,
   "metadata": {},
   "outputs": [],
   "source": [
    "a = np.array( [1,7,4] )"
   ]
  },
  {
   "cell_type": "code",
   "execution_count": null,
   "metadata": {
    "scrolled": true
   },
   "outputs": [],
   "source": [
    "print(a)"
   ]
  },
  {
   "cell_type": "code",
   "execution_count": null,
   "metadata": {},
   "outputs": [],
   "source": [
    "print(type(a))"
   ]
  },
  {
   "cell_type": "markdown",
   "metadata": {},
   "source": [
    "Zugriff auf Elemente wie bei Listen mit eckigen Klammern (Indizierung beginnt wie gewohnt bei 0):"
   ]
  },
  {
   "cell_type": "code",
   "execution_count": null,
   "metadata": {},
   "outputs": [],
   "source": [
    "print(a[1])"
   ]
  },
  {
   "cell_type": "markdown",
   "metadata": {},
   "source": [
    "Genauso kann man einzelne Elemente des Arrays ändern:"
   ]
  },
  {
   "cell_type": "code",
   "execution_count": null,
   "metadata": {},
   "outputs": [],
   "source": [
    "a[1]=17\n",
    "print(a)"
   ]
  },
  {
   "cell_type": "markdown",
   "metadata": {},
   "source": [
    "## Zweidimensionale Arrays = Matrizen\n",
    "\n",
    "Matrizen werden in Numpy **zeilenweise** aufgebaut. Eine Matrix besteht dementsprechend aus einer Auflistung mehrerer Zeilen, wobei jede Zeile selbst eine Liste von Zahlen ist."
   ]
  },
  {
   "cell_type": "code",
   "execution_count": null,
   "metadata": {},
   "outputs": [],
   "source": [
    "A = np.array( [ [1,2,3],[4,5,6] ])"
   ]
  },
  {
   "cell_type": "code",
   "execution_count": null,
   "metadata": {},
   "outputs": [],
   "source": [
    "print(A)"
   ]
  },
  {
   "cell_type": "markdown",
   "metadata": {},
   "source": [
    "Zugriff auf einzelne Elemente mit zwei Zahlen in eckigen Klammern. Wie gewohnt: Erste Zahl für die Zeile, zweite Zahl für die Spalte (Achtung: Indizierung beginnt wie üblich bei Null). "
   ]
  },
  {
   "cell_type": "code",
   "execution_count": null,
   "metadata": {},
   "outputs": [],
   "source": [
    "print(A[1,2])\n",
    "print(A[0,0])"
   ]
  },
  {
   "cell_type": "markdown",
   "metadata": {},
   "source": [
    "Erneut kann man so auch einzelne Einträge des Arrays ändern:"
   ]
  },
  {
   "cell_type": "code",
   "execution_count": null,
   "metadata": {},
   "outputs": [],
   "source": [
    "A[1,2]=17\n",
    "print(A)"
   ]
  },
  {
   "cell_type": "markdown",
   "metadata": {},
   "source": [
    "## Größe von Arrays"
   ]
  },
  {
   "cell_type": "markdown",
   "metadata": {},
   "source": [
    "### Länge von Vektoren\n",
    "\n",
    "Funktion `len(ARRAY-NAME)`"
   ]
  },
  {
   "cell_type": "code",
   "execution_count": null,
   "metadata": {},
   "outputs": [],
   "source": [
    "a = np.array( [4,5,6] )\n",
    "print(len(a))"
   ]
  },
  {
   "cell_type": "markdown",
   "metadata": {},
   "source": [
    "### Größe von Matrizen\n",
    "Funktion `np.shape(ARRAY-NAME)` oder `ARRAY-NAME.shape` liefert die Größe einer Matrix als Tupel (Anzahl Zeilen, Anzahl Spalten)"
   ]
  },
  {
   "cell_type": "code",
   "execution_count": null,
   "metadata": {},
   "outputs": [],
   "source": [
    "A= np.array( [ [1,2,3],[4,5,6] ])\n",
    "print(A)\n",
    "print('Größe von A:', A.shape)"
   ]
  },
  {
   "cell_type": "markdown",
   "metadata": {},
   "source": [
    "Will man nur die Anzahl Zeilen bzw. Anzahl Spalten der Matrix, so liest man aus diesem Tupel den entsprechenden Eintrag aus:"
   ]
  },
  {
   "cell_type": "code",
   "execution_count": null,
   "metadata": {},
   "outputs": [],
   "source": [
    "print('Anzahl Zeilen von A:', A.shape[0] )\n",
    "print('Anzahl Spalten von A:', A.shape[1] )\n",
    "print('Anzahl Spalten von A:', np.shape(A)[1] )"
   ]
  },
  {
   "cell_type": "markdown",
   "metadata": {},
   "source": [
    "## Beispiel 1\n",
    "\n",
    "Schreiben Sie eine Prozedur, die für eine Matrix \\\\(A\\\\) beliebiger Größe die Anzahl an positiven Einträgen zählt und zurückgibt:"
   ]
  },
  {
   "cell_type": "code",
   "execution_count": null,
   "metadata": {},
   "outputs": [],
   "source": [
    "def myfun(A):\n",
    "    k = 0 # Zähler für die positiven Einträge\n",
    "    for i in range(0,A.shape[0]): # gehe alle Zeilen duch\n",
    "        for j in range(0,A.shape[1]): # gehe alle Spalten durch\n",
    "            if A[i,j]>0: # überprüfe, ob der ij-te Eintrag positiv ist\n",
    "                k=k+1\n",
    "    return k"
   ]
  },
  {
   "cell_type": "code",
   "execution_count": null,
   "metadata": {},
   "outputs": [],
   "source": [
    "mat = np.array([ [-1,0],[3,-2],[1,2],[0.1,-0.1] ])\n",
    "print(mat)"
   ]
  },
  {
   "cell_type": "code",
   "execution_count": null,
   "metadata": {
    "scrolled": false
   },
   "outputs": [],
   "source": [
    "print(myfun(mat))"
   ]
  },
  {
   "cell_type": "markdown",
   "metadata": {},
   "source": [
    "## Beispiel 2\n",
    "\n",
    "Was überprüft die folgende Prozedur für eine quadratische Matrix A? Welche Ausgabe liefern die Befehle `print(myfun2(mat1))` und `print(myfun2(mat2))`?\n",
    "\n",
    "**Hinweis:** Der Operator `!=` überprüft, ob zwei Zahlen **nicht** identisch sind."
   ]
  },
  {
   "cell_type": "code",
   "execution_count": null,
   "metadata": {},
   "outputs": [],
   "source": [
    "def myfun2(A):\n",
    "    res = 1\n",
    "    for i in range(0,A.shape[0]-1):\n",
    "        for j in range(i+1,A.shape[1]):\n",
    "            if A[i,j] != A[j,i]:\n",
    "                res=0\n",
    "                return res\n",
    "    return res"
   ]
  },
  {
   "cell_type": "code",
   "execution_count": null,
   "metadata": {},
   "outputs": [],
   "source": [
    "mat1 = np.array([ [-1,0,7],[3,-2,1],[1,2,1] ])\n",
    "print(mat1)\n",
    "print()\n",
    "mat2 = np.array([ [-1,0,7],[0,-2,1],[7,1,1] ])\n",
    "print(mat2)"
   ]
  },
  {
   "cell_type": "code",
   "execution_count": null,
   "metadata": {},
   "outputs": [],
   "source": [
    "print(myfun2(mat1))\n",
    "print(myfun2(mat2))"
   ]
  },
  {
   "cell_type": "markdown",
   "metadata": {},
   "source": [
    "Lösung: Die Prozedur prüft, ob die eingegebene Matrix symmetrisch ist (`res = 1`) oder nicht (`res = 0`)."
   ]
  },
  {
   "cell_type": "markdown",
   "metadata": {},
   "source": [
    "## Rechnen mit Arrays"
   ]
  },
  {
   "cell_type": "markdown",
   "metadata": {},
   "source": [
    "### Komponentenweise Operationen"
   ]
  },
  {
   "cell_type": "markdown",
   "metadata": {},
   "source": [
    "Im Gegensatz zu Listen kann man mit Arrays in Python rechnen. Dabei werden die **klassischen Operationen `+ - * /` komponentenweise** ausgeführt. Auch viele weitere Funktionen wie `exp`, `sin`, `cos`, `abs`,`sqrt`, der Potenzoperator `**` usw. werden **auf jede Komponente eines Arrays** angewandt"
   ]
  },
  {
   "cell_type": "markdown",
   "metadata": {},
   "source": [
    "**Beispiele mit Vektoren**"
   ]
  },
  {
   "cell_type": "code",
   "execution_count": null,
   "metadata": {},
   "outputs": [],
   "source": [
    "a=np.array([7,2,4,3])\n",
    "b=np.array([1,2,3,4])\n",
    "print('a =',a)\n",
    "print('b =',b)"
   ]
  },
  {
   "cell_type": "code",
   "execution_count": null,
   "metadata": {},
   "outputs": [],
   "source": [
    "print(a+b)"
   ]
  },
  {
   "cell_type": "code",
   "execution_count": null,
   "metadata": {},
   "outputs": [],
   "source": [
    "print(a*b)"
   ]
  },
  {
   "cell_type": "code",
   "execution_count": null,
   "metadata": {},
   "outputs": [],
   "source": [
    "print(a/b)"
   ]
  },
  {
   "cell_type": "code",
   "execution_count": null,
   "metadata": {},
   "outputs": [],
   "source": [
    "print(a**3)"
   ]
  },
  {
   "cell_type": "markdown",
   "metadata": {},
   "source": [
    "**Beispiele mit Matrizen**"
   ]
  },
  {
   "cell_type": "code",
   "execution_count": null,
   "metadata": {},
   "outputs": [],
   "source": [
    "E = np.array([ [1,0,0],[0,1,0],[0,0,1] ])\n",
    "print(E)"
   ]
  },
  {
   "cell_type": "code",
   "execution_count": null,
   "metadata": {},
   "outputs": [],
   "source": [
    "print(np.exp(E))"
   ]
  },
  {
   "cell_type": "code",
   "execution_count": null,
   "metadata": {},
   "outputs": [],
   "source": [
    "A = np.array([ [1,2],[3,4] ])\n",
    "print(A)"
   ]
  },
  {
   "cell_type": "code",
   "execution_count": null,
   "metadata": {
    "scrolled": true
   },
   "outputs": [],
   "source": [
    "B = np.array( [ [1,0],[0,1] ] )\n",
    "print(B)"
   ]
  },
  {
   "cell_type": "code",
   "execution_count": null,
   "metadata": {},
   "outputs": [],
   "source": [
    "print(A*B)"
   ]
  },
  {
   "cell_type": "markdown",
   "metadata": {},
   "source": [
    "### Matrizenmultiplikation\n",
    "\n",
    "Das klassiche Matrizenprodukt zweier Matrizen bzw. einer Matrix mit einem Vektor erhält man, indem man das Zeichen `@` als Multiplikationszeichen benutzt:"
   ]
  },
  {
   "cell_type": "code",
   "execution_count": null,
   "metadata": {},
   "outputs": [],
   "source": [
    "A = np.array([ [1,2],[3,4] ])\n",
    "B = np.array( [ [1,0],[0,1] ] )\n",
    "print(A)\n",
    "print()\n",
    "print(B)"
   ]
  },
  {
   "cell_type": "code",
   "execution_count": null,
   "metadata": {},
   "outputs": [],
   "source": [
    "print(A@B)"
   ]
  },
  {
   "cell_type": "code",
   "execution_count": null,
   "metadata": {},
   "outputs": [],
   "source": [
    "v = np.array( [3,4] )\n",
    "print(v)\n",
    "print(A@v)\n",
    "print()\n",
    "print(v@A)"
   ]
  },
  {
   "cell_type": "markdown",
   "metadata": {},
   "source": [
    "**Beachte:** Numpy unterscheidet nicht zwischen Zeilen- und Spaltenvektoren! Die Vektoren werden so interpretiert, dass die Matrizenmultiplikation durchführbar ist!"
   ]
  },
  {
   "cell_type": "markdown",
   "metadata": {},
   "source": [
    "**Achtung:** Auch `A*v` kann Python berechnen, das ist aber nicht das Matrix-Vektor-Produkt! Fehlerquelle!"
   ]
  },
  {
   "cell_type": "code",
   "execution_count": null,
   "metadata": {},
   "outputs": [],
   "source": [
    "print(A*v)"
   ]
  },
  {
   "cell_type": "markdown",
   "metadata": {},
   "source": [
    "## Spezielle Vektoren und Matrizen"
   ]
  },
  {
   "cell_type": "markdown",
   "metadata": {},
   "source": [
    "__Vektoren mit aufsteigenden, äquidistanten Zahlen (Abstand vorgegeben):__ `np.arange(start,stop)` mit zwei Zahlen `start` und `stop` bzw. `np.arange(start,stop,step)` wenn der Abstand zwischend den Zahlen `step` statt 1 sein soll.\n",
    "\n",
    "**Beachte:** Die Zahl `stop` selbst **ist nicht** im Array enthalten."
   ]
  },
  {
   "cell_type": "code",
   "execution_count": null,
   "metadata": {},
   "outputs": [],
   "source": [
    "a = np.arange(1,5)\n",
    "print(a)\n",
    "b = np.arange(1,5,0.4)\n",
    "print(b)"
   ]
  },
  {
   "cell_type": "markdown",
   "metadata": {},
   "source": [
    "**Einheitsmatrix**: `eye(n)` wobei n die gewünschte Größe ist:"
   ]
  },
  {
   "cell_type": "code",
   "execution_count": null,
   "metadata": {},
   "outputs": [],
   "source": [
    "a=np.eye(5)\n",
    "print(a)"
   ]
  },
  {
   "cell_type": "markdown",
   "metadata": {},
   "source": [
    "**Vektor/Matrix nur aus Einsen**: `ones(n)` oder `ones([n,m])`, wobei n die Anzahl an Zeilen, m die Anzahl an Spalten ist"
   ]
  },
  {
   "cell_type": "code",
   "execution_count": null,
   "metadata": {},
   "outputs": [],
   "source": [
    "a = np.ones(4)\n",
    "b = np.ones([3,2])\n",
    "print(a)\n",
    "print()\n",
    "print(b)"
   ]
  },
  {
   "cell_type": "markdown",
   "metadata": {},
   "source": [
    "**Vektor/Matrix nur aus Nullen:** `zeros(n)` oder `zeros([n,m])`, wobei n die Anzahl an Zeilen, m die Anzahl an Spalten ist"
   ]
  },
  {
   "cell_type": "code",
   "execution_count": null,
   "metadata": {},
   "outputs": [],
   "source": [
    "a = np.zeros(4)\n",
    "b = np.zeros([3,2])\n",
    "print(a)\n",
    "print()\n",
    "print(b)"
   ]
  },
  {
   "cell_type": "markdown",
   "metadata": {},
   "source": [
    "Nullmatrizen sind dann nützlich, wenn man eine Matrix nach und nach mit Einträgen füllen will."
   ]
  },
  {
   "cell_type": "markdown",
   "metadata": {},
   "source": [
    "# Die wichtigsten Punkte zusammengefasst:\n",
    "\n",
    "- Vektor erstellen durch `np.array([ ZAHLEN ])`\n",
    "- Matrix erstellen durch `np.array([ [Zeile 1],[Zeile 2],... ])`\n",
    "- Zugriff auf/Bearbeitung von Elementen durch Index/Indizes in eckigen Klammern. Indizierung startet bei 0.\n",
    "- Länge von Vektoren durch `len(...)`\n",
    "- Größe von Matrizen als Tupel durch `np.shape(...)`, ggf. Zusatz `[0]` für Zeilen oder `[1]` für Spalten\n",
    "- Die gewöhnlichen Operationen werden komponentenweise durchgeführt.\n",
    "- Matrizenmultiplikation durch `@`\n",
    "- Spezielle Vektoren/Matrizen:\n",
    "    - Äquidistante Zahlen mit `np.arange(start,stop,step)`\n",
    "    - Einheitsmatrix `np.eye(n)`\n",
    "    - Nullmatrix/-Vektor durch `np.zeros(n,m)` bzw. `np.zeros(n)`, Einsmatrix durch `np.ones(n,m)` bzw. `np.ones(n)`\n",
    "   "
   ]
  }
 ],
 "metadata": {
  "kernelspec": {
   "display_name": "Python 3",
   "language": "python",
   "name": "python3"
  },
  "language_info": {
   "codemirror_mode": {
    "name": "ipython",
    "version": 3
   },
   "file_extension": ".py",
   "mimetype": "text/x-python",
   "name": "python",
   "nbconvert_exporter": "python",
   "pygments_lexer": "ipython3",
   "version": "3.8.3"
  }
 },
 "nbformat": 4,
 "nbformat_minor": 4
}
