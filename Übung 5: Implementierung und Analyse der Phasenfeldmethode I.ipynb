{
 "cells": [
  {
   "cell_type": "markdown",
   "metadata": {},
   "source": [
    "<div style=\"text-align:center\">Marco Seiz, Andreas Prahs, Anastasia August<br>\n",
    "KIT, Institut für Angewandte Materialien (IAM)<br>\n",
    "Mikrostrukturmodellierung und Simulation (MMS)\n",
    "</div>\n",
    "<h1>Mikrostruktursimulation <br/>Rechnerübung Implementierung der Phasenfeldmethode WS 22/23</h1>\n",
    "\n",
    "Im ersten Teil dieser Übung wird eine einfache Formulierung der eindimensionalen Phasenfeldgleichung mit Hilfe von finiten Differenzen implementiert. Aufbauend auf der Implementierung wird der Einfluss der Parameter untersucht.\n",
    "\n",
    "Im zweiten Teil ist die zweidimensionale Implementierung schon gegeben und es soll der Einfluss der Parameter bestimmt werden und mit den Ergebnissen aus einer Dimension verglichen werden. Weiterhin wird überprüft, ob der theoretisch bestimmbare kritische Keimradius mit der Phasenfeldmethode korrekt bestimmt werden kann. Zuletzt wird die Phasenfeldmethode noch zur Untersuchung von Kornwachstum in einer stark vereinfachten Geometrie benutzt."
   ]
  },
  {
   "cell_type": "code",
   "execution_count": null,
   "metadata": {},
   "outputs": [],
   "source": [
    "%matplotlib notebook\n",
    "import matplotlib.pyplot as plt\n",
    "import matplotlib as mpl\n",
    "import math\n",
    "from math import ceil, floor\n",
    "import sympy as sp\n",
    "import numpy as np\n",
    "mpl.rcParams.update({'font.size': 14})\n",
    "mpl.rcParams['figure.figsize'] = (7,4)\n",
    "mpl.rcParams['axes.grid'] = True\n",
    "import time\n",
    "from numba import jit\n",
    "import warnings\n",
    "warnings.filterwarnings('ignore')\n",
    "from ipywidgets import interact, interactive, fixed, interact_manual\n",
    "import ipywidgets as widgets"
   ]
  },
  {
   "cell_type": "code",
   "execution_count": null,
   "metadata": {},
   "outputs": [],
   "source": [
    "testfield = np.linspace(0, 1, 10)**3\n",
    "correct_laplace = np.array([0.        , 0.00823045, 0.01646091, 0.02469136, 0.03292181,\n",
    "       0.04115226, 0.04938272, 0.05761317, 0.06584362, 0.        ])\n",
    "correct_a = np.array([0.        , 0.08230453, 0.16460905, 0.24691358, 0.32921811,\n",
    "       0.41152263, 0.49382716, 0.57613169, 0.65843621, 0.        ])\n",
    "correct_w = np.array([ 0.        ,  0.00491797,  0.03821507,  0.11888432,  0.23768184,\n",
    "        0.33604882,  0.30580704,  0.05290172, -0.30455913,  0.        ])\n",
    "correct_f = np.array([0.        , 0.00032877, 0.00260484, 0.00855967, 0.0192202 ,\n",
    "       0.03409598, 0.05004115, 0.05979125, 0.05017483, 0.        ])\n",
    "\n",
    "\n",
    "def tester(testfunc, testfield, correct):\n",
    "    fncname = testfunc.__name__\n",
    "    if fncname == \"f\":\n",
    "        vals = testfunc(testfield, 0.98)\n",
    "    else:\n",
    "        vals = testfunc(testfield)\n",
    "    diff = np.sum(np.abs(vals - correct))\n",
    "    if diff < 1e-6:\n",
    "        print(fncname + \" works\")\n",
    "        return True\n",
    "    else:\n",
    "        print(fncname + \" doesn't work\")\n",
    "        return False\n",
    "# Randbedingungen\n",
    "def neumannzero(field):\n",
    "    field[0] = field[1]\n",
    "    field[-1] = field[-2]\n",
    "    \n",
    "def periodic(field):\n",
    "    field[0] = field[-2]\n",
    "    field[-1] = field[1]"
   ]
  },
  {
   "cell_type": "markdown",
   "metadata": {},
   "source": [
    "## Aufgabe 1: 1D-Phasenfeldgleichung ##"
   ]
  },
  {
   "cell_type": "markdown",
   "metadata": {},
   "source": [
    "In dieser Aufgabe soll die 1D-Phasenfeldgleichung\n",
    "\n",
    "$\n",
    "\\begin{align}\n",
    "\\tau \\epsilon \\frac{\\partial \\phi}{\\partial t} &= a(\\phi) - w(\\phi) + f(\\phi, T)\\\\\n",
    "a(\\phi) &= 2\\sigma\\epsilon \\frac{\\partial^2\\phi}{\\partial x^2}\\\\\n",
    "w(\\phi) &= \\frac{18\\sigma}{\\epsilon}(2\\phi^3 - 3\\phi^2 + \\phi)\\\\\n",
    "f(\\phi,T) &= 6L_\\alpha \\frac{T_m - T}{T_m}(\\phi-\\phi^2)\n",
    "\\end{align}\n",
    "$\n",
    "\n",
    "implementiert werden. Es wird angenommen, dass die Temperatur $T$ im Gebiet konstant ist. Die Simulationsparameter sind in der nächsten Zelle definiert."
   ]
  },
  {
   "cell_type": "code",
   "execution_count": null,
   "metadata": {},
   "outputs": [],
   "source": [
    "deltax = 1\n",
    "T = 1.0\n",
    "sigma = 1.0\n",
    "tau = 5.0\n",
    "epsilon = 5 * deltax\n",
    "T_m = 1.0\n",
    "L_a = 2\n",
    "deltat = 0.5 * sigma / tau * (1 / deltax)**2 \n",
    "physlen = 1 * 80\n",
    "numx=int(physlen / deltax)\n"
   ]
  },
  {
   "cell_type": "markdown",
   "metadata": {},
   "source": [
    "### 1a) Evolutionsterme  ###\n",
    "Implementieren Sie die Terme $a$, $w$ und $f$ aus der Phasenfeldgleichung. Für die Berechnung von $a$ wird die zweite Ableitung (Laplace) des Ordnungsparameterfelds $\\phi$ benötigt; nutzen Sie zentrale finite Differenzen zweiter Ordnung für die Berechnung dessen.\n",
    "\n",
    "Das $\\phi$-Argument für a, w, f entspricht einem ganzen Feld (Array) und diese geben auch ganze Felder wieder zurück. Sie können dies über das sog. broadcasting von numpy bequem lösen, indem Sie mit dem ganzen Feld auf einmal rechnen, siehe die nächste Zelle für ein Beispiel.\n",
    "\n",
    "Der Laplace soll jedoch mit einer Schleife über das Feld berechnet werden.\n",
    "\n",
    "**Hinweis**: Sie können einzelne Funktionsimplementierungen mit\n",
    "\n",
    "tester(functionname, testfield, correct_functionname)\n",
    "\n",
    "z.B.\n",
    "\n",
    "tester(f, testfield, correct_f)\n",
    "\n",
    "auf Korrektheit überprüfen."
   ]
  },
  {
   "cell_type": "code",
   "execution_count": null,
   "metadata": {},
   "outputs": [],
   "source": [
    "bsp = np.linspace(1, 10, 10) # 1 bis 10 inklusive\n",
    "print(bsp) # wie gehabt\n",
    "print(bsp**2) # hier wird die Operation mit jedem Element durchgeführt!"
   ]
  },
  {
   "cell_type": "code",
   "execution_count": null,
   "metadata": {},
   "outputs": [],
   "source": [
    "@jit\n",
    "def laplace(field):\n",
    "    lapl = np.zeros_like(field)\n",
    "    length = field.shape[0]\n",
    "    # Schleife über alle inneren Elemente von field\n",
    "    for i in range(1, length-1, 1):\n",
    "        lapl[i] = \n",
    "    return lapl \n",
    "\n",
    "@jit\n",
    "def a(phi):\n",
    "    laplacephi = laplace(phi)\n",
    "    return \n",
    "\n",
    "@jit\n",
    "def w(phi):\n",
    "    return \n",
    "\n",
    "@jit\n",
    "def f(phi, T=1.0):\n",
    "    return \n",
    "\n"
   ]
  },
  {
   "cell_type": "code",
   "execution_count": null,
   "metadata": {},
   "outputs": [],
   "source": [
    "# für die initial definierten Parameter!\n",
    "tester(laplace, testfield, correct_laplace)\n",
    "tester(a, testfield, correct_a)\n",
    "tester(w, testfield, correct_w)\n",
    "tester(f, testfield, correct_f)"
   ]
  },
  {
   "cell_type": "markdown",
   "metadata": {},
   "source": [
    "### 1b) Zeitintegration ###\n",
    "Implementieren Sie die Zeitintegration mit dem expliziten Eulerverfahren für die Phasenfeldgleichung."
   ]
  },
  {
   "cell_type": "code",
   "execution_count": null,
   "metadata": {},
   "outputs": [],
   "source": [
    "@jit\n",
    "def explEuler(phiold, phinew):\n",
    "    length = phiold.shape[0]\n",
    "    aa = a(phiold)\n",
    "    ww = w(phiold)\n",
    "    ff = f(phiold, T)\n",
    "    for i in range(1, length-1, 1):\n",
    "        phinew[i] = \n",
    "        \n"
   ]
  },
  {
   "cell_type": "markdown",
   "metadata": {},
   "source": [
    "### Anfangsbedingungen ###"
   ]
  },
  {
   "cell_type": "code",
   "execution_count": null,
   "metadata": {},
   "outputs": [],
   "source": [
    "def ini(field):\n",
    "    length = field.shape[0]\n",
    "    field[:int(length/2)] = 1 # von Anfang bis zur Mitte 1 = fest\n",
    "    field[int(length/2):] = 0 # und dahinter 0 = flüssig"
   ]
  },
  {
   "cell_type": "markdown",
   "metadata": {},
   "source": [
    "### 1c) Simulation ###\n",
    "Führen Sie nun die Simulation aus und beobachten Sie das Phasenfeldprofil für verschiedene Zeiten. Beschreiben Sie die Evolution des Phasenfelds.\n",
    "\n",
    "\n",
    "Weiter unten unter \"Visualisierung\" ist der Plotbefehl für das Gleichgewichtsprofil auskommentiert. Aktivieren Sie diesen und vergleichen Sie die numerische und analytische Lösung. Beachten Sie dabei, dass das Erreichen des Gleichgewichts ein zeitabhängiger Prozess ist und damit die Variable `goaltime` angepasst werden kann.\n",
    "\n",
    "\n",
    "Wie könnte die analytische Lösung im Gleichgewicht besser getroffen werden?\n",
    "\n"
   ]
  },
  {
   "cell_type": "code",
   "execution_count": null,
   "metadata": {},
   "outputs": [],
   "source": [
    "# Parameter zur Variation. \n",
    "tau = 1\n",
    "epsilon = 5\n",
    "sigma = 0.5\n",
    "T = 1\n",
    "\n",
    "numx = 42 # deltax wird über die Zahl der Zellen numx gesteuert\n",
    "physlen = 80\n",
    "deltax= physlen/(numx-2)\n",
    "deltat = 0.05 * 1 / (2*1)  * (deltax**2)\n",
    "\n",
    "# Initialisierung der Felder\n",
    "phiold = np.zeros(numx)\n",
    "phinew = np.zeros(numx)\n",
    "ini(phiold)\n",
    "framelist = []\n",
    "times = []\n",
    "t=0\n",
    "# Über <funktion>.recompile werden die Änderungen an T/tau/epsilon den Funktionen sichtbar gemacht.\n",
    "laplace.recompile()\n",
    "a.recompile()\n",
    "w.recompile()\n",
    "f.recompile()\n",
    "explEuler.recompile()"
   ]
  },
  {
   "cell_type": "code",
   "execution_count": null,
   "metadata": {},
   "outputs": [],
   "source": [
    "goaltime = 10\n",
    "timesteps= int(goaltime / deltat)\n",
    "writefreq= int(timesteps / 20)\n",
    "\n",
    "neumannzero(phiold)\n",
    "start = time.time()\n",
    "for i in range(timesteps):\n",
    "    if i%writefreq == 0:\n",
    "        framelist.append(phiold.copy())\n",
    "        times.append(t)\n",
    "        \n",
    "    explEuler(phiold, phinew)\n",
    "    neumannzero(phinew)\n",
    "    # swap new and old field\n",
    "    phiold, phinew = phinew, phiold\n",
    "    t+=deltat\n",
    "framelist.append(phiold.copy())\n",
    "times.append(t)\n",
    "end = time.time()\n",
    "print(\"Laufzeit: %f Sekunden\" % (end-start))\n",
    "framecount = len(framelist)"
   ]
  },
  {
   "cell_type": "code",
   "execution_count": null,
   "metadata": {},
   "outputs": [],
   "source": [
    "# Physikalische Koordinaten\n",
    "p1 = -deltax * 0.5\n",
    "p2 = p1 + physlen + deltax\n",
    "xx = np.linspace(p1, p2, numx)\n",
    "# und die analytische Lösung im Gleichgewicht (GGW), verschoben zur Gebietsmitte\n",
    "phi_eq = 0.5 * (1 - np.tanh(1.5 * (xx-(physlen)/2) / epsilon))"
   ]
  },
  {
   "cell_type": "code",
   "execution_count": null,
   "metadata": {},
   "outputs": [],
   "source": [
    "# L^2-Norm für die Abweichung der analytischen zur numerischen Lösung: kleiner = besser\n",
    "np.sqrt(np.sum( (phi_eq - framelist[-1])**2)*deltax)"
   ]
  },
  {
   "cell_type": "markdown",
   "metadata": {},
   "source": [
    "# Visualisierung"
   ]
  },
  {
   "cell_type": "code",
   "execution_count": null,
   "metadata": {},
   "outputs": [],
   "source": [
    "\n",
    "fig, ax = plt.subplots()\n",
    "\n",
    "linephi, = ax.plot(xx, framelist[0], label=r\"$\\phi_\\alpha$, t=0\", )\n",
    "#ax.plot(xx, phi_eq, label=\"GGW-Lösung (T=T_m)\") # Das # am Anfang löschen, um das GGW-Profil darzustellen.\n",
    "\n",
    "\n",
    "ax.set_xlabel(\"x-Koordinate / -\")\n",
    "ax.set_ylabel(\"Phasenfeldwert / -\")\n",
    "ax.legend(loc='upper right')\n",
    "fig.canvas.draw()\n",
    "fig.tight_layout()\n",
    "\n",
    "\n",
    "def plotter(frame):\n",
    "    frame = frame -1\n",
    "    linephi.set_ydata(framelist[int(frame)])\n",
    "    linephi.set_label(r\"$\\phi_\\alpha$, t=%.1f\" % (times[int(frame)]))\n",
    "    fig.canvas.draw()\n",
    "    ax.legend(loc='upper right')"
   ]
  },
  {
   "cell_type": "code",
   "execution_count": null,
   "metadata": {},
   "outputs": [],
   "source": [
    "interact(plotter, frame=widgets.IntSlider(min=1, max=framecount, step=1, value=1))"
   ]
  },
  {
   "cell_type": "markdown",
   "metadata": {},
   "source": [
    "### 1d) Parametervariation ###\n",
    "Wie verändert sich das Simulationsergebnis, wenn Sie die Parameter $\\epsilon$, $\\sigma$ und $\\tau$ variieren? Ändern Sie hierzu die vorgegeben Parameter in der Zelle mit \"Parameter zur Variation.\" und führen Sie diese Zellen und die nachfolgenden bis zur Visualisierung aus.\n",
    "\n",
    "Beispiele: $\\epsilon=10$, $\\sigma=1.0$, $\\tau=10.0$\n",
    "\n",
    "\n"
   ]
  },
  {
   "cell_type": "markdown",
   "metadata": {},
   "source": [
    "### 1e) Treibende Kraft\n",
    "Bisher lag keine treibende Kraft für die Phasenumwandlung vor, da die Temperatur $T$ der Schmelztemperatur $T_m$ entsprach. Ändern Sie diese wie $\\epsilon$ und $\\tau$ und beschreiben Sie, wie sich das Simulationsergebnis ändert.\n",
    "\n",
    "Beispiele: $T=0.5$, $T=1.5$\n",
    "\n"
   ]
  },
  {
   "cell_type": "markdown",
   "metadata": {},
   "source": [
    "## Aufgabe 2: 2D-Phasenfeldgleichung ##\n",
    "In dieser Aufgabe ist die 2D-Phasenfeldgleichung schon implementiert. "
   ]
  },
  {
   "cell_type": "markdown",
   "metadata": {},
   "source": [
    "### 2a) Parametervariation ###\n",
    "Untersuchen Sie den Einfluss der Parameter ($\\tau$, $\\epsilon$, $\\sigma$), indem Sie die Werte in der folgenden Zelle ändern und die Simulation starten. Beschreiben und erklären Sie die Evolution des Phasenfeldes. Gehen Sie insbesondere auf die Zeit bis zum Verschwinden des Keims ein und wie sich die Einflüsse von $\\tau$ und $\\sigma$ unterscheiden.\n",
    "\n",
    "**Hinweis:** Die Zeit bis zum Verschwinden des Keims wird direkt nach der Berechnung ausgegeben.\n",
    "\n"
   ]
  },
  {
   "cell_type": "code",
   "execution_count": null,
   "metadata": {},
   "outputs": [],
   "source": [
    "deltaX=1\n",
    "deltaY=1\n",
    "T_m=1\n",
    "#T=0.75\n",
    "\n",
    "\n",
    "L_a=0.5\n",
    "NumX=101 \n",
    "NumY=101\n"
   ]
  },
  {
   "cell_type": "code",
   "execution_count": null,
   "metadata": {},
   "outputs": [],
   "source": [
    "@jit\n",
    "def ini_rectangle(field, ulc_x, ulc_y, w, h):\n",
    "    # Setzen des Anfangsfillings: Rechteck mit Angabe des oberen linken Eckes + Breite, Höhe\n",
    "    for i in range(ulc_x, ulc_x + w):\n",
    "        for j in range(ulc_y, ulc_y + h):\n",
    "            field[i][j]= 1\n",
    "\n",
    "@jit            \n",
    "def ini_circle(field, cx, cy, r):\n",
    "    # Setzen des Anfangsfillings: Kreis\n",
    "    nx2 = int(cx) \n",
    "    ny2 = int(cy) \n",
    "    for i in range(nx2 - r, nx2 + r + 1):\n",
    "        for j in range(ny2 - r, ny2 + r + 1):\n",
    "            if (i-nx2)**2 + (j-ny2)**2 <= r**2:\n",
    "                field[i][j]= 1            \n",
    "\n",
    "\n",
    "@jit\n",
    "def bcs(field):\n",
    "    #Randbedingungen (Neumann-Null-Rand)\n",
    "    for i in range(0, NumX):\n",
    "        field[i][0]=field[i][1]\n",
    "        field[i][NumY-1]=field[i][NumY-2]\n",
    "     \n",
    "    for i in range(0, NumY):\n",
    "        field[0][i]=field[1][i]\n",
    "        field[NumX-1][i]=field[NumX-2][i]\n",
    "    \n",
    "@jit\n",
    "def calc_phi(phi_old, phi_new):\n",
    "    phisum = 0\n",
    "    for i in range(1, NumX-1):\n",
    "        for j in range(1, NumY-1):\n",
    "\n",
    "            a_x=2*sigma*(phi_old[i+1][j]-2*phi_old[i][j]+phi_old[i-1][j])/(deltaX**2)\n",
    "            a_y=2*sigma*(phi_old[i][j+1]-2*phi_old[i][j]+phi_old[i][j-1])/(deltaY**2)\n",
    "            w=-18/(epsilon**2)*sigma*(2*phi_old[i][j]**3-3*phi_old[i][j]**2+phi_old[i][j])\n",
    "            L=L_a*(T_m-T)/T_m\n",
    "            f=L/epsilon*6*(phi_old[i][j]-phi_old[i][j]**2)\n",
    "\n",
    "            phi_new[i][j]=phi_old[i][j]+ deltat/tau *(a_x+a_y+w+f)\n",
    "            phisum += phi_new[i][j]\n",
    "    return phisum"
   ]
  },
  {
   "cell_type": "code",
   "execution_count": null,
   "metadata": {},
   "outputs": [],
   "source": [
    "# Parametervariation\n",
    "T=T_m-0.0 # Unterkühlung von 0.01\n",
    "sigma=1\n",
    "tau=4\n",
    "epsilon=4\n",
    "deltat=min(deltaX, deltaY)**2 * tau / (8 * 2 * sigma)\n",
    "calc_phi.recompile()\n",
    "print(deltat)"
   ]
  },
  {
   "cell_type": "code",
   "execution_count": null,
   "metadata": {},
   "outputs": [],
   "source": [
    "# Anlegen des Gebietes (aktueller und neuer Zeitschritt)\n",
    "phi_new  = np.zeros((NumX,NumY))\n",
    "phi_old  = np.zeros((NumX,NumY))\n",
    "radius=20\n",
    "# Geometrie 1: Nur ein fester Keim in der Mitte des Gebiets\n",
    "ini_circle(phi_old, NumX/2, NumY/2, radius)\n",
    "# Geometrie 2: Die obere Hälfte des Gebiets ist fest, die untere flüssig; ini_circle darüber auskommentieren\n",
    "#ini_rectangle(phi_old, 0,0, int(NumX/2), NumY)\n",
    "# Geometrie 3: Beide Geometrien zusammen aufstellen.\n",
    "framelist2d=[]\n",
    "phisums=[]\n",
    "times2d=[]\n",
    "t2d=0\n",
    "time2vanish = np.nan"
   ]
  },
  {
   "cell_type": "code",
   "execution_count": null,
   "metadata": {},
   "outputs": [],
   "source": [
    "timesteps=5000\n",
    "writefreq=250\n",
    "bcs(phi_old)\n",
    "start = time.time()\n",
    "phisum = np.sum(phi_old)\n",
    "for i in range(timesteps):\n",
    "    if i%writefreq == 0:\n",
    "        framelist2d.append(phi_old.copy())\n",
    "        times2d.append(t2d)\n",
    "        phisums.append(phisum)\n",
    "    phisum = calc_phi(phi_old, phi_new)\n",
    "    bcs(phi_new)\n",
    "    phi_old, phi_new = phi_new, phi_old\n",
    "    t2d += deltat\n",
    "    if (phisum < 1e-5*NumX*NumY and np.isnan(time2vanish)):\n",
    "        time2vanish = t2d\n",
    "\n",
    "framelist2d.append(phi_old.copy())\n",
    "times2d.append(t2d)\n",
    "phisums.append(phisum)\n",
    "\n",
    "end = time.time()\n",
    "print(\"Laufzeit: %f Sekunden\" % (end-start))\n",
    "framecount2d = len(framelist2d) - 1 \n",
    "if not np.isnan(time2vanish):\n",
    "    print(\"Zeit bis zum Verschwinden: %f\" % ( time2vanish))\n",
    "else:\n",
    "    print(\"Keim noch nicht verschwunden.\")"
   ]
  },
  {
   "cell_type": "code",
   "execution_count": null,
   "metadata": {},
   "outputs": [],
   "source": [
    "fig2d, ax2d = plt.subplots()\n",
    "im = ax2d.imshow(framelist2d[0], vmin=0, vmax=1)\n",
    "fig2d.colorbar(im)\n",
    "fig2d.canvas.draw()\n",
    "ax2d.set_title(\"t=%.2f\" % times2d[0])\n",
    "ax2d.grid(False)\n",
    "fig2d.tight_layout()\n",
    "\n",
    "def plotter2d(frame):\n",
    "    frame = frame -1\n",
    "    ax2d.clear()\n",
    "    im = ax2d.imshow(framelist2d[int(frame)], vmin=0, vmax=1)\n",
    "    ax2d.set_title(\"t=%.2f\" % times2d[int(frame)])\n",
    "    ax2d.grid(False)\n",
    "    fig2d.canvas.draw()\n",
    "\n",
    "    \n",
    "#interact(plotter2d, frame=widgets.BoundedFloatText(min=0, max=framecount2d, step=1, value=0))"
   ]
  },
  {
   "cell_type": "code",
   "execution_count": null,
   "metadata": {},
   "outputs": [],
   "source": [
    "interact(plotter2d, frame=widgets.BoundedIntText(min=1, max=framecount2d, step=1, value=1))"
   ]
  },
  {
   "cell_type": "code",
   "execution_count": null,
   "metadata": {
    "scrolled": false
   },
   "outputs": [],
   "source": [
    "rs = np.sqrt(np.array(phisums) / np.pi)\n",
    "times2dd = np.array(times2d)\n",
    "fig, ax = plt.subplots()\n",
    "ax.plot(times2dd, rs)\n",
    "ax.set_xlabel(\"Simulationszeit / -\")\n",
    "ax.set_ylabel(\"Keimradius / -\")\n",
    "fig.tight_layout()"
   ]
  },
  {
   "cell_type": "markdown",
   "metadata": {},
   "source": [
    "### 2b) Einfluss der Kapillarität\n",
    "Im Gegensatz zum 1D-Fall gibt es in höheren Dimensionen eine treibende Kraft durch Oberflächenspannung. Wie groß muss die Unterkühlung $\\Delta T = T_m - T$ sein, dass diese die Kapillarkraft ausgleicht und damit der Keim stabil bleibt?\n",
    "\n",
    "**Hinweis**: Stellen Sie die Gesamtenergie des 2D-Systems bestehend aus dem Beitrag für Phasenumwandlung ($G_A = L_\\alpha \\frac{\\Delta T}{T_m}$) und dem der Kapillarität ($G_U = \\sigma$) auf. Beide Beiträge werden von der Geometrie über den Radius $r$ beeinflusst. Die Lösung davon lässt sich von Hand wie auch mit sympy symbolisch bestimmen.\n",
    "\n"
   ]
  },
  {
   "cell_type": "code",
   "execution_count": null,
   "metadata": {},
   "outputs": [],
   "source": [
    "import sympy as sp\n",
    "sp.init_printing()"
   ]
  },
  {
   "cell_type": "code",
   "execution_count": null,
   "metadata": {},
   "outputs": [],
   "source": [
    "dT = sp.symbols(\"dT\")\n",
    "Tm = sp.symbols(\"T_m\")\n",
    "r = sp.symbols(\"r\")\n",
    "sigmasym = sp.symbols(\"sigma\")\n",
    "La = sp.symbols(\"L_\\\\alpha\")"
   ]
  },
  {
   "cell_type": "code",
   "execution_count": null,
   "metadata": {},
   "outputs": [],
   "source": [
    "G_A = La * dT/Tm\n",
    "G_U = sigmasym\n"
   ]
  },
  {
   "cell_type": "code",
   "execution_count": null,
   "metadata": {},
   "outputs": [],
   "source": []
  },
  {
   "cell_type": "code",
   "execution_count": null,
   "metadata": {},
   "outputs": [],
   "source": []
  },
  {
   "cell_type": "code",
   "execution_count": null,
   "metadata": {},
   "outputs": [],
   "source": []
  },
  {
   "cell_type": "code",
   "execution_count": null,
   "metadata": {},
   "outputs": [],
   "source": []
  },
  {
   "cell_type": "code",
   "execution_count": null,
   "metadata": {},
   "outputs": [],
   "source": []
  },
  {
   "cell_type": "markdown",
   "metadata": {},
   "source": [
    "### 2c) Geometrievariation\n",
    "Bei 2a) unter \"Anlegen des Gebietes (aktueller und neuer Zeitschritt)\" sind drei verschiedene Geometrien definiert, von denen Sie soweit die Geometrie 1 untersucht haben. Setzen Sie die entsprechenden Geometrien und diskutieren Sie die Ergebnisse in Hinblick auf die Unterschiede zwischen Simulationen in einer und mehreren Dimensionen.\n",
    "\n",
    "\n"
   ]
  },
  {
   "cell_type": "markdown",
   "metadata": {},
   "source": [
    "### 2d) Kornwachstum\n",
    "Das aktuelle Modell kann für $T=T_m$ auch zur Modellierung von Kornwachstum genutzt werden, da damit die treibenden Kräfte bis auf die Kapillarität verschwinden. Ein einfaches Modell für die Evolution einer gekrümmten Fläche lässt sich als\n",
    "\n",
    "$\n",
    "\\begin{align}\n",
    "v = \\frac{dr}{dt} &= MF \\\\\n",
    "F = -\\gamma\\kappa &= -\\frac{\\gamma}{r}\\\\\n",
    "\\frac{dr}{dt}  &= -\\frac{M\\gamma}{r}\\\\\n",
    "\\end{align}\n",
    "$\n",
    "\n",
    "schreiben, mit der Geschwindigkeit der Grenzfläche $v$, der Mobilität $M$, der treibenden Kraft $F$ durch Kapillarität, der Oberflächenenergie $\\gamma$ und der Krümmung $\\kappa$, welches sich für einen Kreis als das Inverse des Radius' $r$ berechnen lässt. \n",
    "\n",
    "Lösen Sie zunächst die Differentialgleichung mit Separation der Variablen oder sympy (`sp.dsolve`), um auf einen expliziten Ausdruck für den Kornradius $r(t)$ zu gelangen. Vergleichen Sie anschließend den Ausdruck mit den Daten aus der Simulation, indem Sie für $M = \\frac{2}{\\tau}$ und $\\gamma = \\sigma$ annehmen. In der folgenden Zellen sind schon Plotkommandos vorbereitet, in denen Sie nur die Ausdrücke korrekt einsetzen müssen.\n",
    "\n",
    "Stimmen Simulation und das einfache Modell überein? Kann hiermit Kornwachstum bei beliebiger Korngröße modelliert bzw. simuliert werden?\n",
    "\n",
    "\n",
    "\n",
    "\n",
    "\n",
    "\n",
    "\n"
   ]
  },
  {
   "cell_type": "code",
   "execution_count": null,
   "metadata": {},
   "outputs": [],
   "source": [
    "## Lösung mit sympy; die Lösung auch kann von Hand über Separation der Variablen gefunden werden\n",
    "## es muss nur eine von beiden Varianten umgesetzt werden und in der nächsten Zelle eingefügt werden.\n",
    "t, M, gamma, F = sp.symbols(\"t M gamma F\")\n",
    "R0 = sp.symbols(\"R_0\")\n",
    "r = sp.Function(\"r\")\n",
    "ode = sp.diff(r(t), t)+M*gamma/r(t)\n",
    "sol = 0+\n",
    "try:\n",
    "    # aus dsolve kommt ein Gleichung heraus => rechte Seite mit dsolve().rhs nehmen!\n",
    "    sp.printing.pprint(sol)\n",
    "    solfunc = sp.lambdify((M, gamma, R0, t), sol)\n",
    "except Exception as e:\n",
    "    print(e)"
   ]
  },
  {
   "cell_type": "code",
   "execution_count": null,
   "metadata": {},
   "outputs": [],
   "source": [
    "fig, ax = plt.subplots()\n",
    "filt = rs > 1 # Filter um den Endbereich abzutrennen\n",
    "# Benutzen Sie rs0 und t0 als Eingabedaten!\n",
    "rs0 = rs[filt]\n",
    "t0 = times2dd[filt]\n",
    "xdata = t0\n",
    "ydata_sim = rs0 \n",
    "Mgamma = 2*sigma/tau\n",
    "\n",
    "ax.plot(xdata, ydata_sim, label=\"Simulation\")\n",
    "try:\n",
    "    # falls Sie die Lösung von Hand bestimmt haben, schreiben Sie diese in ydata_model\n",
    "    ydata_model = \n",
    "    ax.plot(xdata, ydata_model, label = \"Modell\")\n",
    "except Exception as e:\n",
    "    print(e, \"model missing\")\n",
    "try:\n",
    "    ydata_sympy = solfunc(2/tau, sigma, rs0[0], xdata)\n",
    "    ax.plot(xdata, ydata_sympy, label=\"Modell via sympy\")\n",
    "except Exception as e:\n",
    "    print(e, \"sympy missing\")\n",
    "\n",
    "\n",
    "ax.set_xlabel(\"Zeit / -\")\n",
    "ax.set_ylabel(\"Kornradius / Zellen\")\n",
    "ax.legend()\n",
    "fig.tight_layout()"
   ]
  }
 ],
 "metadata": {
  "kernelspec": {
   "display_name": "Python 3",
   "language": "python",
   "name": "python3"
  },
  "language_info": {
   "codemirror_mode": {
    "name": "ipython",
    "version": 3
   },
   "file_extension": ".py",
   "mimetype": "text/x-python",
   "name": "python",
   "nbconvert_exporter": "python",
   "pygments_lexer": "ipython3",
   "version": "3.7.3"
  }
 },
 "nbformat": 4,
 "nbformat_minor": 2
}
