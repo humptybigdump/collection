{
 "cells": [
  {
   "cell_type": "markdown",
   "metadata": {},
   "source": [
    "# Geodatenanalyse 1\n",
    "\n",
    "## Tag 4 / Block 2 / Übung 10: Deterministische Interpolationsverfahren"
   ]
  },
  {
   "cell_type": "markdown",
   "metadata": {},
   "source": [
    "Folgende Python Packages, bzw. Libraries enthalten verschiedene, nützliche Funktionen für die Interpolation von räumlichen Daten: \n",
    "\n",
    "- scipy.interpolate: Univariate & Multivariate Interpolation, Funktionen für lineare, Spline, Nearest Neighbour und Radiale Basisfunktion Interpolation\n",
    "\n",
    "- scipy.spatial: Delauney Tesselation, Voronoi Diagramme und plotting Funktionen\n",
    "\n",
    "- Inverse Distance Weighting: z.B. über PyGeM (https://mathlab.github.io/PyGeM/index.html), oder andere Funktionen (https://github.com/paulbrodersen/inverse_distance_weighting)\n",
    "\n",
    "In dieser Übung werden wir uns die Funktionen in `scipy` näher anschauen. Als Beispieldatensatz dienen gemessene Grundwasserparameter (Temperatur und Höhe) in Karlsruhe (Menberg et al., 2013). "
   ]
  },
  {
   "source": [
    "### 1. Explorative Datenanalyse\n",
    "\n",
    "Ladet diese Daten aus \"interp_data.csv\" zunächst ein, und benutzt `DataFrame.describe()`, um einen ersten Überblick über die Daten und deren Werte zu bekommen. "
   ],
   "cell_type": "markdown",
   "metadata": {}
  },
  {
   "cell_type": "code",
   "execution_count": null,
   "metadata": {},
   "outputs": [],
   "source": [
    "import pandas as pd\n",
    "data = pd.read_csv('interp_data.csv', sep=';', encoding='cp1252')\n",
    "\n",
    "data.describe()"
   ]
  },
  {
   "source": [
    "Um einen ersten Eindruck von der räumlichen Verteilung der Datenpunkte und ihrer Werte zu erhalten, erzeugt einen Scatterplot mit den Rechts- und Hochwerten, und der Grundwassertemperatur als Farbe der Punkte. \n",
    "\n",
    "Wählt dafür eine geeignete Farbskala (\"cmap=...\") in `matplotlib`. Eine Übersicht über die verfügbaren Farbskalen gibt es hier: https://matplotlib.org/3.1.0/tutorials/colors/colormaps.html"
   ],
   "cell_type": "markdown",
   "metadata": {}
  },
  {
   "cell_type": "code",
   "execution_count": null,
   "metadata": {},
   "outputs": [],
   "source": [
    "import matplotlib.pyplot as plt\n",
    "\n",
    "fig = plt.figure(1, figsize=(8, 6))\n",
    "ax = fig.add_subplot(1,1,1)\n",
    "\n",
    "plt.scatter(data.Rechtswert, data.Hochwert, c=data.GWT, cmap='RdYlGn_r')\n",
    "plt.xlabel('Rechtswert [m]')\n",
    "plt.ylabel('Hochwert [m]')\n",
    "plt.title('Grundwassertemperatur [°C]')\n",
    "plt.grid(c='k', alpha=0.2)\n",
    "plt.show()"
   ]
  },
  {
   "source": [
    "### 2. scipy.spatial und scipy.interpolate.griddata\n",
    "\n",
    "Für Funktionen in diesen Libraries benötigt Ihr die Koordinaten der Datenpunkte in Form eines Numpy Arrays mit zwei Spalten. Nach der Umwandlung könnt Ihr über `scipy.spatial.Delaunay()` ein Objekt mit einer Delaunay-Triangulation erzeugen. \n",
    "\n",
    "Plottet im Anschluss die Delaunay-Triangulation und die Lage der Datenpunkte. Benutzt für die Delaunay-Dreiecke `matplotlib.pyplot.triplot()`, mit den Koordinaten der Punkte als Inputs. Wenn kein Triangulations-Objekt als Input angegeben wird automatisch eine Delaunay-Triangulation dargestellt."
   ],
   "cell_type": "markdown",
   "metadata": {}
  },
  {
   "cell_type": "code",
   "execution_count": null,
   "metadata": {},
   "outputs": [],
   "source": [
    "from scipy.spatial import Delaunay\n",
    "\n",
    "points = data[['Rechtswert', 'Hochwert']].values\n",
    "tri = Delaunay(points)\n",
    "\n",
    "plt.figure(5, figsize=(10,6))\n",
    "plt.triplot(data.Rechtswert, data.Hochwert)\n",
    "plt.plot(data.Rechtswert, data.Hochwert, \"or\")\n",
    "plt.grid()\n",
    "plt.xlabel('Rechtswert [m]')\n",
    "plt.ylabel('Hochwert [m]')\n",
    "plt.show()"
   ]
  },
  {
   "source": [
    "Als nächtest wollen wir ein regelmäßiges Grid von Datenpunkten erzeugen, das die Ausgabepunkte der Interpolation darstellt. \n",
    "\n",
    "Definiert zuerst die Ausdehnung des Bereichs (xmin, max, ymin, ymax). Der Bereich sollte dabei den durch die Messpunkte abgedeckten Bereich umschließen, zuzüglich eines kleinen Puffers an den Ränern. Erstellt dann zwei Arrays für die x- und y-Koordinaten der Gridpunkte. Benutzt dafür die Funktion `np.mgrid[xmin:xmax:xstep, ymin:ymax:ystep]`. \n",
    "\n",
    "Plottet anschließend die Grid-Punkte, um die räumliche Verteilung zu inspizieren. "
   ],
   "cell_type": "markdown",
   "metadata": {}
  },
  {
   "cell_type": "code",
   "execution_count": null,
   "metadata": {},
   "outputs": [],
   "source": [
    "import numpy as np\n",
    "extent = x_min, x_max, y_min, y_max = [data.Rechtswert.min()-1000, data.Rechtswert.max()+1000,\n",
    "                                       data.Hochwert.min()-1000, data.Hochwert.max()+1000]\n",
    "grid_x, grid_y = np.mgrid[x_min:x_max:400, y_min:y_max:400]\n",
    "\n",
    "plt.figure(2, figsize=(8,6))\n",
    "plt.scatter(grid_x, grid_y, s=10)\n",
    "plt.xlabel('Rechtswert [m]')\n",
    "plt.ylabel('Hochwert [m]')\n",
    "plt.show()"
   ]
  },
  {
   "source": [
    "Nun werden wir die Temperaturdaten mit scipy.interpolate.griddata() interpolieren. Als Inputs werden dafür die Koordinaten (als Numpy Array) und die zu interpolierenden Werte, sowie das Grid benötigt. scipy.interpolate.griddata() unterstützt verschiedene Interpolationsfunktionen, die über den Input method=... spezifizert werden können: \"nearest\" für Nearest Neighbour, \"linear\" für eine einfache lineare Interpolation, und \"cubic\" für eine kubische Spline-Interpolation.\n",
    "\n",
    "Testet alle drei Methoden mit Hilfe des oben erzeugten Grids, und plottet sie zum Vergleich nebeneinander. Zum Plotten von Rasterdaten eignet sich matplotlib.pyplot.imshow(), das als Inputs das darzustellende Raster (mit .T transponiert), den Ausgangspunkt (origin='lower') und die Randkoordinaten des Rasters benötigt.\n",
    "\n",
    "Wie gefallen Euch die Ergebnisse der Interpolation?"
   ],
   "cell_type": "markdown",
   "metadata": {}
  },
  {
   "cell_type": "code",
   "execution_count": null,
   "metadata": {},
   "outputs": [],
   "source": [
    "from scipy.interpolate import griddata\n",
    "\n",
    "grid_z0 = griddata(points, data.GWT.values, (grid_x, grid_y), method='nearest')\n",
    "grid_z1 = griddata(points, data.GWT.values, (grid_x, grid_y), method='linear')\n",
    "grid_z2 = griddata(points, data.GWT.values, (grid_x, grid_y), method='cubic')\n",
    "\n",
    "fig, axs = plt.subplots(ncols=3, figsize=(15, 5))\n",
    "\n",
    "ax = axs[0]\n",
    "ax.imshow(grid_z0.T, origin='lower', extent=extent, cmap='RdYlGn_r')\n",
    "ax.scatter(data.Rechtswert, data.Hochwert, s=2, c='w')\n",
    "ax.set_title('Nearest Neighbour')\n",
    "\n",
    "ax = axs[1]\n",
    "ax.imshow(grid_z1.T, origin='lower', extent=extent, cmap='RdYlGn_r')\n",
    "ax.scatter(data.Rechtswert, data.Hochwert, s=2, c='w')\n",
    "ax.set_title('Lineare Interpolation')\n",
    "\n",
    "ax = axs[2]\n",
    "ax.imshow(grid_z2.T, origin='lower', extent=extent, cmap='RdYlGn_r')\n",
    "ax.scatter(data.Rechtswert, data.Hochwert, s=2, c='w')\n",
    "ax.set_title('Kubischer Spline')\n",
    "\n",
    "plt.show()"
   ]
  },
  {
   "source": [
    "### 3. scipy.interpolate.Rbf\n",
    "\n",
    "Neben den Interpolationsmethoden oben, gibt es in scipy auch verschiedenen Möglichkeiten zur Interpolation mit Radialen Basisfunktionen (RBFs). Die default-Einstellung von `scipy.interpolate.Rbf()` ist dabei eine Multi-quadratische Funktion, die exakt durch die Stützpunkte geht (exakte Interpolation). \n",
    "\n",
    "Definiert nun in dem nächsten Skript zuerst ein Interpolationsobjekt mit Hilfe von `scipy.interpolate.Rbf()`, und den x- und y-Koordinaten Eurer Messpunkte, sowie den Messwerten als Inputs (beide in array-like Formaten). Wendet diese Interpolation dann auf die x- und y-Koordinaten des Grids von oben an, und visualisiert anschließend die Ergebnisse. Stellt zur visuellen Kontrolle ebenfalls die Messwerte als Scatterplot in derselben Abbildung dar. "
   ],
   "cell_type": "markdown",
   "metadata": {}
  },
  {
   "cell_type": "code",
   "execution_count": null,
   "metadata": {},
   "outputs": [],
   "source": [
    "from scipy.interpolate import Rbf\n",
    "\n",
    "rbfi = Rbf(data.Rechtswert, data.Hochwert, data.GWT, function='multiquadric')\n",
    "di = rbfi(grid_x, grid_y)\n",
    "\n",
    "plt.figure(3, figsize=(8,6))\n",
    "c1 = plt.imshow(di.T, origin=\"lower\", extent=extent, cmap = 'RdYlGn_r')\n",
    "c2 = plt.scatter(data.Rechtswert, data.Hochwert, s=60, c=data.GWT, edgecolor='k',  cmap = 'RdYlGn_r')\n",
    "\n",
    "plt.colorbar(c1, shrink=0.67)\n",
    "plt.xlabel('Rechtswert [m]')\n",
    "plt.ylabel('Hochwert [m]')\n",
    "plt.show()"
   ]
  },
  {
   "source": [
    "Da die gemessenen Grundwassertemperaturen mit gewissen Messfehlern behaftet sind, ist eine exakte Interpolation nicht unbedingt sinvoll. Mit der Angabe des Arguments \"smooth=...\" und Werten > 0 geht die Interpolation nicht mehr exakt durch die Messpunkte. Damit könnt Ihr das erzeugte Bild der Grundwassertemperaturen etwas glätten."
   ],
   "cell_type": "markdown",
   "metadata": {}
  },
  {
   "cell_type": "code",
   "execution_count": null,
   "metadata": {},
   "outputs": [],
   "source": [
    "rbfi = Rbf(data.Rechtswert, data.Hochwert, data.GWT, smooth=0.2)\n",
    "di = rbfi(grid_x, grid_y)\n",
    "\n",
    "plt.figure(4, figsize=(10,6))\n",
    "plt.imshow(di.T, origin=\"lower\", extent=extent, cmap = 'RdYlGn_r')\n",
    "plt.scatter(data.Rechtswert, data.Hochwert, s=2, c='k')\n",
    "plt.colorbar(c1, shrink=0.67)\n",
    "plt.xlabel('Rechtswert [m]')\n",
    "plt.ylabel('Hochwert [m]')\n",
    "plt.show()"
   ]
  },
  {
   "cell_type": "markdown",
   "metadata": {},
   "source": [
    "Vergleicht nun zum Abschluss die oben erzeugten Interpolationen. Welche erzeugt für euch das sinnvollste Bild der Grundwassertemperaturen?\n",
    "\n",
    "Als zusätzliche Übung könnt Ihr z.B.:\n",
    "\n",
    "- veschiedene Funktionen für die Interpolation mit der Radialen Basisfunktion ausprobieren, und die Unterschiede vergleichen. Die verschiedenen Möglichkeiten findet Ihr hier: https://docs.scipy.org/doc/scipy/reference/generated/scipy.interpolate.Rbf.html\n",
    "\n",
    "- auch die Grundwasserhöhen in dem Datensatz interpolieren.\n",
    "\n",
    "## Ende\n",
    "\n",
    "### Referenzen\n",
    "\n",
    "Menberg et al. (2013): Long-term evolution of anthropogenic heat fluxes into a subsurface urban heat island, Environ. Sci. Technol. 47(17) (2013) 9747-9755\n",
    "\n",
    "https://colab.research.google.com/github/agile-geoscience/xlines/blob/master/notebooks/11_Gridding_map_data.ipynb"
   ]
  }
 ],
 "metadata": {
  "kernelspec": {
   "display_name": "Python 3",
   "language": "python",
   "name": "python3"
  },
  "language_info": {
   "codemirror_mode": {
    "name": "ipython",
    "version": 3
   },
   "file_extension": ".py",
   "mimetype": "text/x-python",
   "name": "python",
   "nbconvert_exporter": "python",
   "pygments_lexer": "ipython3",
   "version": "3.8.5-final"
  }
 },
 "nbformat": 4,
 "nbformat_minor": 4
}