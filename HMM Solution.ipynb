{
 "cells": [
  {
   "cell_type": "code",
   "execution_count": 1,
   "metadata": {},
   "outputs": [
    {
     "name": "stdout",
     "output_type": "stream",
     "text": [
      "Train data 1 loaded: (10000, 50)\n",
      "Train data 2 loaded: (10000, 50)\n",
      "Train data 3 loaded: (10000, 50)\n",
      "Train data 4 loaded: (10000, 50)\n",
      "Train data 5 loaded: (10000, 50)\n",
      "Development data loaded: 500\n",
      "\n",
      "Starting initial probabilities:\n",
      "[ 0.2  0.1  0.2  0.2  0.2  0.1]\n",
      "initial[i] is the probability of starting in state i\n",
      "\n",
      "Starting transition probabilities:\n",
      "[[ 0.3  0.3  0.1  0.1  0.1  0.1]\n",
      " [ 0.1  0.3  0.3  0.1  0.1  0.1]\n",
      " [ 0.1  0.1  0.3  0.3  0.1  0.1]\n",
      " [ 0.1  0.1  0.1  0.3  0.3  0.1]\n",
      " [ 0.1  0.1  0.1  0.1  0.3  0.3]\n",
      " [ 0.3  0.1  0.1  0.1  0.1  0.3]]\n",
      "transition[i,j] is the probability of transitioning from state i to state j\n",
      "\n",
      "Starting emission probabilities\n",
      "[[ 0.2  0.2  0.1  0.1  0.1  0.1]\n",
      " [ 0.2  0.2  0.2  0.2  0.1  0.1]\n",
      " [ 0.2  0.2  0.2  0.2  0.2  0.2]\n",
      " [ 0.2  0.2  0.2  0.2  0.2  0.2]\n",
      " [ 0.1  0.1  0.2  0.2  0.2  0.2]\n",
      " [ 0.1  0.1  0.1  0.1  0.2  0.2]]\n",
      "emission[v,i] is the probability of emitting v in state i\n"
     ]
    }
   ],
   "source": [
    "import numpy as np\n",
    "\n",
    "# Load data\n",
    "\n",
    "with open(\"data/model_init.txt\") as model_init:\n",
    "    model_init.readline() # \"initial: 6\"\n",
    "    initial = np.array([float(x) for x in model_init.readline().split()])\n",
    "    model_init.readline()\n",
    "    model_init.readline() # \"transition: 6\"\n",
    "    transition = np.array([[float(x) for x in model_init.readline().split()]\n",
    "                           for _ in range(6)])\n",
    "    model_init.readline()\n",
    "    model_init.readline() # \"emission: 6\"\n",
    "    emission = np.array([[float(x) for x in model_init.readline().split()]\n",
    "                          for _ in range(6)])\n",
    "\n",
    "vocabulary = \"ABCDEF\"\n",
    "lookup = {letter: index for index, letter in enumerate(vocabulary)}\n",
    "train_data = []\n",
    "for i in range(1, 6):\n",
    "    train_data_i = []\n",
    "    with open(f\"data/seq_model_0{i}.txt\") as data:\n",
    "        for line in data:\n",
    "            train_data_i.append(np.array([lookup[letter] for letter in line.rstrip()]))\n",
    "    train_data.append(np.array(train_data_i))\n",
    "    print(f\"Train data {i} loaded: {train_data[i-1].shape}\")\n",
    "\n",
    "with open(f\"data/dev_data.txt\") as data:\n",
    "    dev_data = []\n",
    "    for line in data:\n",
    "        sequence, label = line.split(\"\\t\")\n",
    "        sequence = np.array([lookup[letter] for letter in sequence])\n",
    "        label = int(label) - 1\n",
    "        dev_data.append((sequence, label))\n",
    "print(f\"Development data loaded: {len(dev_data)}\")\n",
    "\n",
    "print()\n",
    "print(\"Starting initial probabilities:\")\n",
    "print(initial)\n",
    "print(\"initial[i] is the probability of starting in state i\")\n",
    "print()\n",
    "print(\"Starting transition probabilities:\")\n",
    "print(transition)\n",
    "print(\"transition[i,j] is the probability of transitioning from state i to state j\")\n",
    "print()\n",
    "print(\"Starting emission probabilities\")\n",
    "print(emission)\n",
    "print(\"emission[v,i] is the probability of emitting v in state i\")"
   ]
  },
  {
   "cell_type": "code",
   "execution_count": 2,
   "metadata": {},
   "outputs": [],
   "source": [
    "class HMM:\n",
    "    def __init__(self, initial, transition, emission):\n",
    "        self.initial = initial.copy()\n",
    "        self.transition = transition.copy()\n",
    "        self.emission = emission.copy()\n",
    "        self.num_emissions, self.num_states = emission.shape\n",
    "    \n",
    "    def save(self, filename):\n",
    "        with open(filename, \"wb\") as out_file:\n",
    "            np.savez(out_file, initial=self.initial, transition=self.transition, emission=self.emission)\n",
    "    \n",
    "    @classmethod\n",
    "    def load(cls, filename):\n",
    "        with open(filename, \"rb\") as in_file:\n",
    "            arrays = np.load(in_file)\n",
    "            hmm = cls(arrays[\"initial\"], arrays[\"transition\"], arrays[\"emission\"])\n",
    "            arrays.close()\n",
    "        return hmm\n",
    "    \n",
    "    def forward(self, observation):\n",
    "        # Input: int array of size (length,). observation[t] is the observation at time t\n",
    "        # Output: forward trellis - double array of size (length, self.num_states)\n",
    "        # raise NotImplementedError\n",
    "        length = len(observation)\n",
    "        alpha = np.zeros((length, self.num_states), dtype=np.double)\n",
    "        alpha[0] = self.initial * self.emission[observation[0]]\n",
    "        for t in range(1, length):\n",
    "            alpha[t] = np.matmul(alpha[t-1], self.transition) * self.emission[observation[t]]\n",
    "        return alpha\n",
    "    \n",
    "    def forward_batch(self, observations):\n",
    "        # observations : (length, num_observations)\n",
    "        length, num_observations = observations.shape\n",
    "        alpha = np.zeros((length, num_observations, self.num_states), dtype=np.double)\n",
    "        alpha[0] = self.initial * self.emission[observations[0]]\n",
    "        for t in range(1, length):\n",
    "            alpha[t] = np.matmul(alpha[t-1], self.transition) * self.emission[observations[t]]\n",
    "        return alpha\n",
    "        \n",
    "    def backward(self, observation):\n",
    "        # Input: int array of size (length,). observation[t] is the observation at time t\n",
    "        # Output: backward trellis - double array of size (length, self.num_states)\n",
    "        # raise NotImplementedError\n",
    "        length = len(observation)\n",
    "        beta = np.zeros((length, self.num_states), dtype=np.double)\n",
    "        beta[length-1] = 1\n",
    "        for t in reversed(range(length-1)):\n",
    "            beta[t] = np.matmul(self.emission[observation[t+1]] * beta[t+1], self.transition.T)\n",
    "        return beta\n",
    "    \n",
    "    def backward_batch(self, observations):\n",
    "        length, num_observations = observations.shape\n",
    "        beta = np.zeros((length, num_observations, self.num_states), dtype=np.double)\n",
    "        beta[length-1] = 1\n",
    "        for t in reversed(range(length-1)):\n",
    "            beta[t] = np.matmul(self.emission[observations[t+1]] * beta[t+1], self.transition.T)\n",
    "        return beta\n",
    "    \n",
    "    def viterbi(self, observation):\n",
    "        # Input: int array of size (length,). observation[t] is the observation at time t\n",
    "        # Output: tuple with (viterbi_path, likelihood)\n",
    "        # viterbi_path is an int array of size (length,). viterbi_path[t] is state at time t in the most likely state sequence.\n",
    "        # likelihood: double scalar. The probability of the most likely path given the observation\n",
    "        # raise NotImplementedError\n",
    "        length = len(observation)\n",
    "        delta = np.zeros((length, self.num_states), dtype=np.double)\n",
    "        psi = np.zeros((length-1, self.num_states), dtype=np.int)\n",
    "        delta[0] = self.initial * self.emission[observation[0]]\n",
    "        \n",
    "        for t in range(1, length):\n",
    "            inner = delta[t-1, :, None] * self.transition\n",
    "            delta[t] = np.max(inner, 0) * self.emission[observation[t]]\n",
    "            psi[t-1] = np.argmax(inner, 0)\n",
    "        \n",
    "        best_path = np.empty((length,), dtype=np.int)\n",
    "        probability = np.max(delta[length-1])\n",
    "        best_path[length-1] = np.argmax(delta[length-1])\n",
    "        for t in reversed(range(length-1)):\n",
    "            best_path[t] = psi[t, best_path[t+1]]\n",
    "        return best_path, probability\n",
    "    \n",
    "    def baum_welch(self, observations):\n",
    "        # Input: int array of size (num_observations, length). Each observations[i] is an independent observation sequence. observations[i, t] is the observation in sample i at time t\n",
    "        # Output: likelihoods: double array of size (num_observations,). likelihoods[i] is the probability of observing the sequence observations[i] given the (old) model parameters\n",
    "        # Side Effect: Update self.initial, self.transition and self.emission according to the Baum-Welch reestimation rule for multiple observation sequences.\n",
    "        # raise NotImplementedError\n",
    "        num_observations, length = observations.shape\n",
    "        #alpha = np.stack([self.forward(observation) for observation in observations], 1)\n",
    "        #beta = np.stack([self.backward(observation) for observation in observations], 1)\n",
    "        observations = np.ascontiguousarray(observations.T)\n",
    "        alpha = self.forward_batch(observations)\n",
    "        beta = self.backward_batch(observations)\n",
    "        \n",
    "        assert alpha.shape == beta.shape == (length, num_observations, self.num_states)\n",
    "        \n",
    "        observation_probability = alpha[-1].sum(1)\n",
    "        gamma = alpha * beta / observation_probability[np.newaxis, :, np.newaxis]\n",
    "        xi = alpha[:length-1, :, :, np.newaxis] * self.transition * (beta * self.emission[observations])[1:,:, np.newaxis,:]\n",
    "        xi /= observation_probability[np.newaxis, :, np.newaxis, np.newaxis]\n",
    "        \n",
    "        assert gamma.shape == (length, num_observations, self.num_states)\n",
    "        assert xi.shape == (length-1, num_observations, self.num_states, self.num_states)\n",
    "        \n",
    "        self.initial[:] = gamma[0].mean(0)\n",
    "        self.transition[:] = xi.sum(axis=(0, 1)) / gamma[:length-1].sum(axis=(0,1))\n",
    "        sum_gamma = gamma.sum(axis=(0, 1))\n",
    "        for vk in range(self.num_emissions):\n",
    "            self.emission[vk] = gamma[observations == vk].sum(0) / sum_gamma\n",
    "        return observation_probability\n",
    "        "
   ]
  },
  {
   "cell_type": "code",
   "execution_count": 3,
   "metadata": {},
   "outputs": [
    {
     "data": {
      "application/vnd.jupyter.widget-view+json": {
       "model_id": "831dd26c05014f22b81d59071e2f5c80",
       "version_major": 2,
       "version_minor": 0
      },
      "text/plain": [
       "HBox(children=(FloatProgress(value=0.0, layout=Layout(flex='2'), max=10000.0), HTML(value='')), layout=Layout(…"
      ]
     },
     "metadata": {},
     "output_type": "display_data"
    },
    {
     "name": "stdout",
     "output_type": "stream",
     "text": [
      "\n"
     ]
    },
    {
     "data": {
      "application/vnd.jupyter.widget-view+json": {
       "model_id": "0d683e42092643aaa1d28f8dfd1a5513",
       "version_major": 2,
       "version_minor": 0
      },
      "text/plain": [
       "HBox(children=(FloatProgress(value=0.0, layout=Layout(flex='2'), max=10000.0), HTML(value='')), layout=Layout(…"
      ]
     },
     "metadata": {},
     "output_type": "display_data"
    },
    {
     "name": "stdout",
     "output_type": "stream",
     "text": [
      "\n"
     ]
    },
    {
     "data": {
      "application/vnd.jupyter.widget-view+json": {
       "model_id": "848b880f9020412e934cce5e751e6dd5",
       "version_major": 2,
       "version_minor": 0
      },
      "text/plain": [
       "HBox(children=(FloatProgress(value=0.0, layout=Layout(flex='2'), max=10000.0), HTML(value='')), layout=Layout(…"
      ]
     },
     "metadata": {},
     "output_type": "display_data"
    },
    {
     "name": "stdout",
     "output_type": "stream",
     "text": [
      "\n"
     ]
    },
    {
     "data": {
      "application/vnd.jupyter.widget-view+json": {
       "model_id": "4549dd5d47eb4d63931cd7eea9d567c2",
       "version_major": 2,
       "version_minor": 0
      },
      "text/plain": [
       "HBox(children=(FloatProgress(value=0.0, layout=Layout(flex='2'), max=10000.0), HTML(value='')), layout=Layout(…"
      ]
     },
     "metadata": {},
     "output_type": "display_data"
    },
    {
     "name": "stdout",
     "output_type": "stream",
     "text": [
      "\n"
     ]
    },
    {
     "data": {
      "application/vnd.jupyter.widget-view+json": {
       "model_id": "43974977136b4b41a93529210942157b",
       "version_major": 2,
       "version_minor": 0
      },
      "text/plain": [
       "HBox(children=(FloatProgress(value=0.0, layout=Layout(flex='2'), max=10000.0), HTML(value='')), layout=Layout(…"
      ]
     },
     "metadata": {},
     "output_type": "display_data"
    },
    {
     "name": "stdout",
     "output_type": "stream",
     "text": [
      "\n"
     ]
    }
   ],
   "source": [
    "import os\n",
    "from tqdm.notebook import tqdm\n",
    "hmms = [HMM(initial, transition, emission) for i in range(5)]\n",
    "batch_size = 50\n",
    "\n",
    "os.makedirs(\"models\", exist_ok=True)\n",
    "\n",
    "for n,(dataset, hmm) in enumerate(zip(train_data, hmms)):\n",
    "    pbar = tqdm(total=len(dataset), ncols=\"100%\")\n",
    "    for i in range(0, len(dataset), batch_size):\n",
    "        likelihood = hmm.baum_welch(dataset[i:i+batch_size])\n",
    "        pbar.set_description(f\"log-likelihood: {np.mean(np.log(likelihood)):.2f}\")\n",
    "        pbar.update(batch_size)\n",
    "    pbar.close()\n",
    "    hmm.save(os.path.join(\"models\", f\"model_{n+1}\"))\n"
   ]
  },
  {
   "cell_type": "code",
   "execution_count": 4,
   "metadata": {
    "scrolled": true
   },
   "outputs": [
    {
     "data": {
      "application/vnd.jupyter.widget-view+json": {
       "model_id": "daf63584de9f43aea7a3eb702198ef51",
       "version_major": 2,
       "version_minor": 0
      },
      "text/plain": [
       "HBox(children=(FloatProgress(value=0.0, max=500.0), HTML(value='')))"
      ]
     },
     "metadata": {},
     "output_type": "display_data"
    },
    {
     "name": "stdout",
     "output_type": "stream",
     "text": [
      "\n",
      "Accuracy: 82.6%\n"
     ]
    }
   ],
   "source": [
    "correct = 0\n",
    "pbar = tqdm(total=len(dev_data))\n",
    "for sample, label in dev_data:\n",
    "    decision = np.argmax([hmm.viterbi(sample)[1] for hmm in hmms])\n",
    "    correct += (decision == label)\n",
    "    pbar.update()\n",
    "pbar.close()\n",
    "print(f\"Accuracy: {correct / len(dev_data):.1%}\")"
   ]
  },
  {
   "cell_type": "code",
   "execution_count": null,
   "metadata": {},
   "outputs": [],
   "source": []
  }
 ],
 "metadata": {
  "kernelspec": {
   "display_name": "Python 3",
   "language": "python",
   "name": "python3"
  },
  "language_info": {
   "codemirror_mode": {
    "name": "ipython",
    "version": 3
   },
   "file_extension": ".py",
   "mimetype": "text/x-python",
   "name": "python",
   "nbconvert_exporter": "python",
   "pygments_lexer": "ipython3",
   "version": "3.7.4"
  }
 },
 "nbformat": 4,
 "nbformat_minor": 4
}
