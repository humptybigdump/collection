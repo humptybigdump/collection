{
 "cells": [
  {
   "cell_type": "markdown",
   "metadata": {},
   "source": [
    "# Exercise 6 - Unsupervised Learning & Sum Product Networks\n",
    "\n",
    "## Overview\n",
    "- Clustering \n",
    "    - K-Means\n",
    "        - Overview and first examples\n",
    "        - How to choose the parameter $K$\n",
    "        - Why features matter\n",
    "        - Why normalization and scaling matters\n",
    "    - DBSCAN\n",
    "        - Overview \n",
    "        - Examples "
   ]
  },
  {
   "cell_type": "markdown",
   "metadata": {},
   "source": [
    "### Installation of required packages"
   ]
  },
  {
   "cell_type": "code",
   "execution_count": null,
   "metadata": {},
   "outputs": [],
   "source": [
    "!pip install numpy -q\n",
    "!pip install matplotlib -q \n",
    "!pip install sklearn -q"
   ]
  },
  {
   "cell_type": "code",
   "execution_count": null,
   "metadata": {},
   "outputs": [],
   "source": [
    "# Check all required packages\n",
    "import matplotlib.pyplot as plt\n",
    "import numpy as np\n",
    "import sklearn \n",
    "import sklearn.datasets\n",
    "from sklearn.cluster import KMeans, DBSCAN\n",
    "\n",
    "from utils import * "
   ]
  },
  {
   "cell_type": "markdown",
   "metadata": {},
   "source": [
    "# $K$-Means Clustering\n",
    "$K$-Means is a simple clustering algorithm that has a single hyperparameter: the number of possible clusters $K$.\n",
    "The objective of the algorithm is to find a clustering that minimizes the squared distances to eahc cluster's center point (the mean of all datapoints in the cluster):\n",
    "\n",
    "\\begin{equation}\n",
    "J = \\sum _ { i = 1 } ^ { K } \\sum _ { \\mathbf { x } _ { j } \\in S _ { i } } \\left\\| \\mathbf { x } _ { j } - \\boldsymbol { c_i } \\right\\| ^ { 2 }\n",
    "\\end{equation}\n",
    "\n",
    "Given a fixed number $K$ of clusters, the algorithm starts with $K$ center points $c_i$ and iteratively repeats the following procedure:\n",
    "\n",
    "1. Reassign all clusters to the cluster they have the minimum distance to (distance to the current center of the cluster)    \n",
    "2. Recompute the centers of all clusters by computing the mean of all datapoints within each cluster\n",
    "\n",
    "### Problems of Clustering Algorithms and $K$-Means\n",
    "1. The algorithm generally suffers from the \"curse of dimensionality\", meaning that in high dimensional spaces the general idea of the algorithm might break: Semantic clusters are not necessarily neighbors in a metric sense and thus arbitrary clusterings can be the result of $K$-Means. \n",
    "\n",
    "2. Also choosing a decent start configuration for the center points $c_i$ is not always easy to obtain. Generally randomized starting points lead to usable results. Even multiple runs with different randomly chosen starting points might be an option.\n",
    "\n",
    "3. A third difficulty is to chose a promising value $K$ for the possible clusters. This problem can be overcome by running $K$-Means with increasing numbers of $K$, stopping when the derivation of the naturally defined error (loss value) of $K$-Means vanishes.      \n",
    "\n",
    "We start by generating random data to test the K-Means algorithm. Therefore the sklearn python package provides some data generators to understand the basic principles of clustering algorithms. If you want to easily test some algorithms on your own, you might have a look into these generator functions here:\n",
    "\n",
    "https://scikit-learn.org/stable/modules/classes.html#module-sklearn.datasets"
   ]
  },
  {
   "cell_type": "code",
   "execution_count": null,
   "metadata": {},
   "outputs": [],
   "source": [
    "# Seed for a pseudo random number generator (Linear Congruence Generator (LCG), Mersenne Twister, ...) within sklearn.\n",
    "# With a fixed seed, you will always get the same random numbers when the generators are called. \n",
    "# Thus the generated datapoints look the same, even when the notebook is called multiple times. \n",
    "SEED=10\n",
    "\n",
    "# Generate the first dataset (4 clusters, blob-like, mostly convex clusters)\n",
    "data, labels = sklearn.datasets.make_blobs(n_samples=200, n_features=2, centers=4, cluster_std=1.2, random_state=SEED)"
   ]
  },
  {
   "cell_type": "markdown",
   "metadata": {},
   "source": [
    "The first dataset mainly consists of convex \"blob\"-like structures that are dense within the clusters, but have a certain distance to other clusters.  \n",
    "\n",
    "Let's have a look what $K$-Means does with the first dataset!"
   ]
  },
  {
   "cell_type": "code",
   "execution_count": null,
   "metadata": {},
   "outputs": [],
   "source": [
    "fig = plt.figure(figsize=(6, 6))\n",
    "drawScatter(data, labels)"
   ]
  },
  {
   "cell_type": "markdown",
   "metadata": {},
   "source": [
    "This figure shows the ground truth data (colored by labels). Of course an unsupervised learning algorithms does not receive any labels during training, this means the algorithm gets the following as input data and has to assign labels itself."
   ]
  },
  {
   "cell_type": "code",
   "execution_count": null,
   "metadata": {},
   "outputs": [],
   "source": [
    "fig = plt.figure(figsize=(6, 6))\n",
    "drawScatter(data, [])"
   ]
  },
  {
   "cell_type": "code",
   "execution_count": null,
   "metadata": {},
   "outputs": [],
   "source": [
    "# Number of clusters K\n",
    "kmeans = KMeans(n_clusters=2)\n",
    "\n",
    "# Fitting the input data\n",
    "kmeans = kmeans.fit(data)\n",
    "\n",
    "# Getting the cluster labels\n",
    "kmeans_predicted_labels = kmeans.predict(data)\n",
    "\n",
    "# Centroid values\n",
    "kmeans_final_centroids = kmeans.cluster_centers_"
   ]
  },
  {
   "cell_type": "code",
   "execution_count": null,
   "metadata": {},
   "outputs": [],
   "source": [
    "fig = plt.figure(figsize=(6, 6))\n",
    "drawScatterAndCentroids(data, kmeans_predicteds_labels, kmeans_final_centroids)"
   ]
  },
  {
   "cell_type": "markdown",
   "metadata": {},
   "source": [
    "So the first clustering shows what we expected. $K$-Means makes a hard assignment of each given data point to a single cluster. Since we specified $K=2$ as target clusters, the result matches our intuition: the objection function of $K$-Means gets high, if within clusters there occur high distances to the cluster's center point. Since the four data-blobs are more far apart on the y-Axis than on the x-Axis, the objection of $K$-Means gets smaller when the two data-blobs on top are assigned to one cluster and the two blobs on the bottom are assigned to the second cluster.   "
   ]
  },
  {
   "cell_type": "markdown",
   "metadata": {},
   "source": [
    "## Choosing the right value $K$\n",
    "\n",
    "As we have seen, it is crucial to chose the right value for $K$, since it directly influences the quality of the clustering. Let's find a way to automate this!"
   ]
  },
  {
   "cell_type": "markdown",
   "metadata": {},
   "source": [
    "### Exercise 1:\n",
    "Clearly this clustering is not perfect. What value for $K$ leads to a good clustering in this  data? Play with different values for $K$ and show the results."
   ]
  },
  {
   "cell_type": "markdown",
   "metadata": {},
   "source": [
    "### Exercise 2\n",
    "Think of a way to automatically chose a good value for the number of clusters $K$. Which quantity helps on this task?"
   ]
  },
  {
   "cell_type": "markdown",
   "metadata": {},
   "source": [
    "As we see, there is major progress on the objection function when we increase the parameter $K$, but then when the optimal number of clusters is reached, the overall value does not improve dramatically anymore. This property can be used to automatically detect the correct number of clusters. To do so, we need a criterion when to stop the search for new clusters. A natural measure is the gradient of the error from the last step (or as you may call it the progress that has been made by increasing the parameter $K$ since the previous $K$). If this progress/gradient gets too small (smaller than our new parameter MINIMUM_PROGRESS), we stop the search for a good value of $K$. Let's try this out!"
   ]
  },
  {
   "cell_type": "code",
   "execution_count": null,
   "metadata": {
    "scrolled": true
   },
   "outputs": [],
   "source": [
    "MINIMUM_PROGRESS = 100.0\n",
    "\n",
    "# Choose len(data) as the maximum number of clusters to search for. \n",
    "# In such a clustering, every datapoint has its own cluster. \n",
    "k_values = range(1, len(data))\n",
    "\n",
    "# Add a variable to keep track of the last objection value.\n",
    "last_objection_value = np.inf\n",
    "\n",
    "# Add a variable to store the optimal cluster model \n",
    "optimal_model = None\n",
    "\n",
    "# Try increasing values for the hyper-parameter K.\n",
    "for K in k_values:\n",
    "    \n",
    "    # Number of clusters K, full is the EM-style K-Means algorithm\n",
    "    kmeans = KMeans(n_clusters=K, algorithm='full')\n",
    "    \n",
    "    # Fitting the input data\n",
    "    kmeans = kmeans.fit(data)\n",
    "\n",
    "    # Getting the cluster labels\n",
    "    kmeans_predicted_labels = kmeans.predict(data)\n",
    "\n",
    "    # Centroid values\n",
    "    kmeans_final_centroids = kmeans.cluster_centers_\n",
    "\n",
    "    # Compute the clustering's objection value.\n",
    "    objection_value = clusterObjectionKMeans(data, kmeans_predicted_labels, kmeans_final_centroids)\n",
    "    \n",
    "    # Compute the progress value as the different between the current objective and the last one.  \n",
    "    progress = last_objection_value - objection_value\n",
    "    if progress < MINIMUM_PROGRESS:\n",
    "        print(\"Found optimal clustering with K = \" + str(K - 1))\n",
    "        break\n",
    "    \n",
    "    # If the termination criterion is not reached, \n",
    "    # save the current objection value for the next iteration\n",
    "    last_objection_value = objection_value\n",
    "    \n",
    "    # Save the current model as the optimal model so far for the next iteration.\n",
    "    optimal_model = kmeans\n",
    "    \n",
    "# Visualize the clustering of the optimal model:\n",
    "# Getting the cluster labels\n",
    "kmeans_predicted_labels = optimal_model.predict(data)\n",
    "\n",
    "# Centroid values\n",
    "kmeans_final_centroids = optimal_model.cluster_centers_\n",
    "\n",
    "# Draw the clustering!\n",
    "fig = plt.figure(figsize=(6, 6))\n",
    "drawScatterAndCentroids(data, kmeans_predicted_labels, kmeans_final_centroids)"
   ]
  },
  {
   "cell_type": "markdown",
   "metadata": {},
   "source": [
    "### Chosing the right feature space for clustering\n",
    "So far we have seen that K-Means performs well on datasets that contain convex, \"blob\"-like clusters. The correct hyperparameter can be chosen in an automated fashion with a simple greedy search. Let's try our new algorithm on a second dataset. But before, let's put it in a python function to use it more conveniently: "
   ]
  },
  {
   "cell_type": "code",
   "execution_count": null,
   "metadata": {},
   "outputs": [],
   "source": [
    "def greedyKMeansClustering(data, MINIMUM_PROGRESS = 100.0):\n",
    "    ''' Returns the optimal model, the objection values and the progress values from \n",
    "        a greedy search for good parameters K in a K-Means Clustering Algorithm.  \n",
    "    '''\n",
    "    \n",
    "    # Choose len(data) as the maximum number of clusters to search for. \n",
    "    # In such a clustering, every datapoint has its own cluster. \n",
    "    k_values = range(1, len(data))\n",
    "\n",
    "    # Add a variable to keep track of the last objection value.\n",
    "    last_objection_value = np.inf\n",
    "\n",
    "    # Add a variable to store the optimal cluster model \n",
    "    optimal_model = None\n",
    "    \n",
    "    # store the objection values and progress values in lists that get returned from the \n",
    "    # function with the optimal model \n",
    "    objection_values = []\n",
    "    progress_values = []\n",
    "\n",
    "    # Try increasing values for the hyper-parameter K.\n",
    "    for K in k_values:\n",
    "        # Number of clusters K, full is the EM-style K-Means algorithm\n",
    "        kmeans = KMeans(n_clusters=K, algorithm='full')\n",
    "\n",
    "        # Fitting the input data\n",
    "        kmeans = kmeans.fit(data)\n",
    "\n",
    "        # Getting the cluster labels\n",
    "        kmeans_predicted_labels = kmeans.predict(data)\n",
    "\n",
    "        # Centroid values\n",
    "        kmeans_final_centroids = kmeans.cluster_centers_\n",
    "\n",
    "        # Compute the clustering's objection value.\n",
    "        objection_value = clusterObjectionKMeans(data, kmeans_predicted_labels, kmeans_final_centroids)\n",
    "        \n",
    "        # Compute the progress value as the different between the current objective and the last one.  \n",
    "        progress = last_objection_value - objection_value\n",
    "        \n",
    "        # store the progress values and the objection values for later plotting.\n",
    "        progress_values.append(progress)\n",
    "        objection_values.append(objection_value)\n",
    "        \n",
    "        # Stoping criterium\n",
    "        if progress < MINIMUM_PROGRESS:\n",
    "            #Instead of printing success, return a tuple of the optimal model, \n",
    "            # the objections during trainign and the progress during training.!\n",
    "            return (optimal_model, objection_values, progress_values)\n",
    "\n",
    "        # If the termination criterion is not reached, \n",
    "        # save the current objection value for the next iteration\n",
    "        last_objection_value = objection_value\n",
    "\n",
    "        # Save the current model as the optimal model so far for the next iteration.\n",
    "        optimal_model = kmeans"
   ]
  },
  {
   "cell_type": "markdown",
   "metadata": {},
   "source": [
    "The second dataset is inherently different from the first one. The ground truth data contain two rings (with some gaussian noise) that lie within each other. Let's see what happens, when we apply $K$-Means to it."
   ]
  },
  {
   "cell_type": "code",
   "execution_count": null,
   "metadata": {},
   "outputs": [],
   "source": [
    "# Generate the second dataset (2 clusters, circular data)\n",
    "data2, labels2 = sklearn.datasets.make_circles(n_samples=200, shuffle=True, noise=0.1, factor=0.5, random_state=SEED)\n",
    "fig = plt.figure(figsize=(5, 5))\n",
    "drawScatter(data2, labels2)"
   ]
  },
  {
   "cell_type": "code",
   "execution_count": null,
   "metadata": {},
   "outputs": [],
   "source": [
    "# Call the cluster procedure.\n",
    "opt_model, errors, progress = greedyKMeansClustering(data2, MINIMUM_PROGRESS=40.0)\n",
    "\n",
    "kmeans_predicted_labels = opt_model.predict(data2)\n",
    "kmeans_final_centroids = opt_model.cluster_centers_\n",
    "\n",
    "# Plot the clustering result, the error and progress\n",
    "fig, ax = plt.subplots(1, 2)\n",
    "fig.set_figheight(5)\n",
    "fig.set_figwidth(10)\n",
    "plt.sca(ax[0])\n",
    "drawScatterAndCentroids(data2, kmeans_predicted_labels, kmeans_final_centroids)\n",
    "plt.sca(ax[1])\n",
    "plt.plot(range(0, len(errors)), errors)\n",
    "plt.plot(range(0, len(progress)), progress)"
   ]
  },
  {
   "cell_type": "markdown",
   "metadata": {},
   "source": [
    "### Exercise 3\n",
    "We see that our greedy search produces a clustering with $K=2$. Nevertheless it does not lead to a clustering that is very intuitive. What happens when we allow more clusters by tweeking MINIMUM_PROGRESS? Why is none of the gained clusterings good? What can we do to perform better?  "
   ]
  },
  {
   "cell_type": "code",
   "execution_count": null,
   "metadata": {},
   "outputs": [],
   "source": [
    "feature_data = np.array([ np.sqrt((x_i ** 2 + y_i ** 2)) for (x_i, y_i) in data2 ]).reshape(-1, 1)"
   ]
  },
  {
   "cell_type": "code",
   "execution_count": null,
   "metadata": {},
   "outputs": [],
   "source": [
    "fig = plt.figure(figsize=(6, 6))\n",
    "plt.scatter(feature_data.reshape(-1,), [0] * feature_data.shape[0], c=labels2)"
   ]
  },
  {
   "cell_type": "markdown",
   "metadata": {},
   "source": [
    "As we see, the data got transformed to features that are again \"blob\"-like. Thus $K$-Means should be able to find the correct clustering. Let's try it! "
   ]
  },
  {
   "cell_type": "code",
   "execution_count": null,
   "metadata": {},
   "outputs": [],
   "source": [
    "(labels, centroids) = clusterKMeans(feature_data, 2)\n",
    "\n",
    "# Note that we plot the kmeans_predicted labels instead of the ground truth labels!\n",
    "fig = plt.figure(figsize=(6, 6))\n",
    "plt.scatter(feature_data, [0] * len(feature_data), c=labels)"
   ]
  },
  {
   "cell_type": "markdown",
   "metadata": {},
   "source": [
    "This has worked properly! Now we just need to map the clustering result to the original data. "
   ]
  },
  {
   "cell_type": "code",
   "execution_count": null,
   "metadata": {},
   "outputs": [],
   "source": [
    "fig = plt.figure(figsize=(6, 6))\n",
    "drawScatter(data2, labels)"
   ]
  },
  {
   "cell_type": "markdown",
   "metadata": {},
   "source": [
    "### Why scaling and normalization is important "
   ]
  },
  {
   "cell_type": "markdown",
   "metadata": {},
   "source": [
    "Now let's look at a small variation of our previous dataset and apply a $K$-Means clustering with $K=4$"
   ]
  },
  {
   "cell_type": "code",
   "execution_count": null,
   "metadata": {},
   "outputs": [],
   "source": [
    "data3, labels3 = genData3()"
   ]
  },
  {
   "cell_type": "code",
   "execution_count": null,
   "metadata": {},
   "outputs": [],
   "source": [
    "fig = plt.figure(figsize=(6, 6))\n",
    "drawScatter(data3, [])"
   ]
  },
  {
   "cell_type": "code",
   "execution_count": null,
   "metadata": {},
   "outputs": [],
   "source": [
    "clusterKMeansAndPlot(data3, 4)"
   ]
  },
  {
   "cell_type": "markdown",
   "metadata": {},
   "source": [
    "### Exercise 4 \n",
    "What happened? The data seems very similar to the previous data, but the clustering algorithm got fooled completely. What is the reason for this? How can we solve this problem?"
   ]
  },
  {
   "cell_type": "code",
   "execution_count": null,
   "metadata": {},
   "outputs": [],
   "source": [
    "fig = plt.figure(figsize=(10, 10))\n",
    "plt.gca().set_aspect('equal')\n",
    "drawScatter(data3, [])"
   ]
  },
  {
   "cell_type": "markdown",
   "metadata": {},
   "source": [
    "This shows, why the clustering doesn't work very well. Since the X-Axis has a huge influence on the objective function, it is nearly irrelevant if the second axis gets clustered correctly. This means we have to ensure that all axes have approximately the same scope of values. We might use the standard deviations (on X-Values and on Y-Values) to scale the data."
   ]
  },
  {
   "cell_type": "code",
   "execution_count": null,
   "metadata": {},
   "outputs": [],
   "source": [
    "x_stdev = np.std(data3[:,0])\n",
    "y_stdev = np.std(data3[:,1])\n",
    "print(x_stdev, y_stdev)"
   ]
  },
  {
   "cell_type": "markdown",
   "metadata": {},
   "source": [
    "While the standard deviation on the x-axis is rather small, the y-axis is stretched, which leads to a malfunctioning clustring algorithm. To overcome the problem, we have to scale all axis accordingly, so that each axis has approximately the same value scope. An easy way to do so, is to scale each axis by its standard deviation, which we already computed for our analysis."
   ]
  },
  {
   "cell_type": "code",
   "execution_count": null,
   "metadata": {},
   "outputs": [],
   "source": [
    "# Rescale all values on x and y axis by the referring standard deviation of the data.\n",
    "# This leads to nice, \"circle-like\" structures in the data that can be clustered well.\n",
    "data3_scaled = np.empty(data3.shape)\n",
    "data3_scaled[:,0] = data3[:,0] / x_stdev\n",
    "data3_scaled[:,1] = data3[:,1] / y_stdev"
   ]
  },
  {
   "cell_type": "code",
   "execution_count": null,
   "metadata": {},
   "outputs": [],
   "source": [
    "(labels, centroids_scaled) = clusterKMeans(data3_scaled, 4)\n",
    "\n",
    "fig = plt.figure(figsize=(6, 6))\n",
    "drawScatter(data3, labels)"
   ]
  },
  {
   "cell_type": "markdown",
   "metadata": {},
   "source": [
    "Again, the centroids are meaningless, since the clustering happened in the scaled space. If we want to plot the centroids, we have to scale them as well (which is not necessary, but nice for visualization purposes):"
   ]
  },
  {
   "cell_type": "code",
   "execution_count": null,
   "metadata": {},
   "outputs": [],
   "source": [
    "centroids = np.empty(centroids_scaled.shape)\n",
    "centroids[:,0] = centroids_scaled[:,0] * x_stdev\n",
    "centroids[:,1] = centroids_scaled[:,1] * y_stdev\n",
    "\n",
    "fig = plt.figure(figsize=(6, 6))\n",
    "drawScatterAndCentroids(data3, labels, centroids)"
   ]
  },
  {
   "attachments": {
    "grafik.png": {
     "image/png": "[encoded data removed]"
    }
   },
   "cell_type": "markdown",
   "metadata": {},
   "source": [
    "## DBSCAN - Density-Based Spatial Clustering of Applications with Noise\n",
    "\n",
    "DBSCAN is a different clustering algorithm that is based on the concept of density and density reachability. DBSCAN separates between three types of points/objects:\n",
    "\n",
    "#### core points \n",
    "a datapoint p is called a core point, if at least $\\mathcal{minpts}$ points are within distance $\\epsilon$ of p \n",
    "\n",
    "#### (density-)reachable points \n",
    "a point that is in the neighborhood of a core point, but might have less than $\\mathcal{minpts}$ points in its neighborhood $\\epsilon$.\n",
    "\n",
    "#### outliers \n",
    "All points that are not (density-)reachable are outliers.\n",
    "\n",
    "#### Example [WIKI](https://en.wikipedia.org/wiki/DBSCAN)\n",
    "The following example shows the clustering for $\\mathcal{minpts}=4$\n",
    "![grafik.png](attachment:grafik.png)\n",
    "\n",
    "\n",
    "Thus, DBSCAN has two hyperparameters that can be tweaked:\n",
    "\n",
    "1. **$\\epsilon$**, the neighborhood radius of points.\n",
    "2. **$\\mathcal{minPts}$**, the number of points the neighborhood of point p must contain (inclusive p itself) that p is a core point.\n",
    "\n",
    "Additionally the distance function that is used in DBSCAN can be chosen.\n",
    "\n",
    "### Algorithm\n",
    "\n",
    "1. Find all points in the $\\epsilon$ neighborhood for each point, and identify the core points (all points with more than minPts neighbors in their $\\epsilon$ neighborhood).\n",
    "\n",
    "2. Find the connected components of core points on the neighbor graph (edges correspond to a core-neighboring relationship), ignoring all non-core points. \n",
    "\n",
    "3. Assign each non-core point a cluster that is an $\\epsilon$ neighbor (they might be mutliple, choose one) If there is no such neighbor, assign the cluster to \"noise\"\n",
    "\n",
    "### Properties and advatanges over $K$-Means\n",
    "1. Arbitrary number of clusters possible, has not to be known a priori\n",
    "2. Clusters of arbitrary shapes can be found\n",
    "3. Robust to outliers\n",
    "4. ''Interpretable'' hyperparameters $\\epsilon$ and $\\mathcal{minpts}$  "
   ]
  },
  {
   "cell_type": "markdown",
   "metadata": {},
   "source": [
    "Let's examine how DBSCAN behaves on our previous datasets:"
   ]
  },
  {
   "cell_type": "code",
   "execution_count": null,
   "metadata": {},
   "outputs": [],
   "source": [
    "fig = plt.figure(figsize=(6, 6))\n",
    "clusterDBSCANAndPlot(data, epsilon=2.0, minpts=10)"
   ]
  },
  {
   "cell_type": "code",
   "execution_count": null,
   "metadata": {},
   "outputs": [],
   "source": [
    "fig = plt.figure(figsize=(6, 6))\n",
    "clusterDBSCANAndPlot(data2, epsilon=0.2, minpts=3)"
   ]
  },
  {
   "cell_type": "code",
   "execution_count": null,
   "metadata": {},
   "outputs": [],
   "source": [
    "fig = plt.figure(figsize=(6, 6))\n",
    "clusterDBSCANAndPlot(data3, epsilon=5.0, minpts=10.0)"
   ]
  },
  {
   "cell_type": "markdown",
   "metadata": {},
   "source": [
    "### Exercise 5\n",
    "Run DBScan on our previous datasets (data, data2, data3) and try different configurations of $\\epsilon$ and $\\mathcal{minpts}$."
   ]
  }
 ],
 "metadata": {
  "kernelspec": {
   "display_name": "venv_ml",
   "language": "python",
   "name": "venv_ml"
  },
  "language_info": {
   "codemirror_mode": {
    "name": "ipython",
    "version": 3
   },
   "file_extension": ".py",
   "mimetype": "text/x-python",
   "name": "python",
   "nbconvert_exporter": "python",
   "pygments_lexer": "ipython3",
   "version": "3.8.2"
  }
 },
 "nbformat": 4,
 "nbformat_minor": 2
}
