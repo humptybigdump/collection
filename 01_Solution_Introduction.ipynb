{
 "cells": [
  {
   "cell_type": "markdown",
   "metadata": {},
   "source": [
    "# Geospatial Data Analysis I \n",
    "\n",
    "## Introduction to programming with Python - Solution"
   ]
  },
  {
   "cell_type": "markdown",
   "metadata": {},
   "source": [
    "### Exercise 1\n",
    "#### Simple mathematical calculations \n",
    "\n",
    "Write one example for a mathematical calculation that outputs the number 9 for an addition, subtraction, multiplication and division each. \n",
    "\n",
    "Use the *print()* function to see the results from your calculation."
   ]
  },
  {
   "cell_type": "code",
   "execution_count": 2,
   "metadata": {},
   "outputs": [
    {
     "name": "stdout",
     "output_type": "stream",
     "text": [
      "9\n",
      "9\n",
      "9\n",
      "9.0\n"
     ]
    }
   ],
   "source": [
    "print(6+3)\n",
    "print(11-2)\n",
    "print(3*3)\n",
    "print(36/4)"
   ]
  },
  {
   "cell_type": "markdown",
   "metadata": {},
   "source": [
    "#### Interest rates\n",
    "- What is your prinicpal sum with a starting capital of 10,000 Euros, an interest rate of 2 % p.a. and a duration of 10 years? \n",
    "\n",
    "> $$capital * interest^{duration}$$\n",
    "\n",
    "- Save your prinical sum as a variable. Which data type has your prinical sum?\n",
    "\n",
    "- Write an output message, which showns your prinical sum as a whole number (data type *integer*) by rounding the number (function *round()*)\n",
    "\n",
    "> My principal sum is: 12189"
   ]
  },
  {
   "cell_type": "code",
   "execution_count": 1,
   "metadata": {},
   "outputs": [
    {
     "name": "stdout",
     "output_type": "stream",
     "text": [
      "<class 'float'>\n",
      "My prinicipal sum is: 12190\n"
     ]
    }
   ],
   "source": [
    "principal = 10000*1.02**10\n",
    "\n",
    "print(type(principal))\n",
    "\n",
    "#message = \"My prinicipal sum is: \" + str(principal)\n",
    "#print(message)\n",
    "\n",
    "#print(\"My prinicipal sum is:\", principal)\n",
    "\n",
    "print('My prinicipal sum is:', round(principal))\n"
   ]
  },
  {
   "cell_type": "markdown",
   "metadata": {},
   "source": [
    "### Exercise 2\n",
    "\n",
    "#### Assigning values to variables\n",
    "\n",
    "-  Pick a course from this winter term, and assign a variable for the title, weekday and the lecturer of this course, e.g.:\n",
    "\n",
    "> title = \"hydrogeology\"\n",
    "\n",
    "- Add a comment (*#...*) to your code containing a note on the picked course\n",
    "\n",
    "- For each variable add an invidual text message output, e.g.: \n",
    "\n",
    "> \"For hydrogeology I have a to learn a lot.\"\n"
   ]
  },
  {
   "cell_type": "code",
   "execution_count": 6,
   "metadata": {},
   "outputs": [
    {
     "name": "stdout",
     "output_type": "stream",
     "text": [
      "Hydrogeology is fun.\n",
      "Tuesday is a busy day.\n",
      "Prof. Goldscheider likes going to the field.\n"
     ]
    }
   ],
   "source": [
    "# Course \"Introduction to Hydrogeology\"\n",
    "title = \"Hydrogeology\"\n",
    "weekday = \"Tuesday\"\n",
    "lecturer = \"Goldscheider\"\n",
    "\n",
    "# output text messages \n",
    "print(title, \"is fun.\")\n",
    "print(weekday, \"is a busy day.\")\n",
    "print(\"Prof.\", lecturer, \"likes going to the field.\")"
   ]
  },
  {
   "cell_type": "markdown",
   "metadata": {},
   "source": [
    "#### Creating and indicating lists\n",
    "- Create a list \"course\" containing the variables from the previous exercise.\n",
    "\n",
    "- Output the third element of your list. \n",
    "\n",
    "- With only three elements this list is quite short, and you can easily assess how many elements it has got. Once the lists get longer, it is better to use the command *len()* to get number of elements. Use it here to output the length of your list. \n",
    ">len()\n"
   ]
  },
  {
   "cell_type": "code",
   "execution_count": 7,
   "metadata": {},
   "outputs": [
    {
     "name": "stdout",
     "output_type": "stream",
     "text": [
      "Goldscheider\n"
     ]
    },
    {
     "data": {
      "text/plain": [
       "3"
      ]
     },
     "execution_count": 7,
     "metadata": {},
     "output_type": "execute_result"
    }
   ],
   "source": [
    "# create a list\n",
    "course = [title, weekday, lecturer]\n",
    "\n",
    "print(course[2]) # Index 2 for third element\n",
    "\n",
    "len(course)"
   ]
  },
  {
   "cell_type": "markdown",
   "metadata": {},
   "source": [
    "### Exercise 3\n",
    "\n",
    "#### Adapting lists\n",
    "\n",
    "- Exchange the lecturer (i.e. overwrite the name) in your previously created list by accessing the list element via its index.   "
   ]
  },
  {
   "cell_type": "code",
   "execution_count": 8,
   "metadata": {},
   "outputs": [
    {
     "name": "stdout",
     "output_type": "stream",
     "text": [
      "['Hydrogeology', 'Tuesday', 'Blum']\n"
     ]
    }
   ],
   "source": [
    "# exchanging an element\n",
    "course[2] = \"Blum\"\n",
    "\n",
    "print (course)"
   ]
  },
  {
   "cell_type": "markdown",
   "metadata": {},
   "source": [
    "## END"
   ]
  }
 ],
 "metadata": {
  "kernelspec": {
   "display_name": "Python 3.8.8 ('base')",
   "language": "python",
   "name": "python3"
  },
  "language_info": {
   "codemirror_mode": {
    "name": "ipython",
    "version": 3
   },
   "file_extension": ".py",
   "mimetype": "text/x-python",
   "name": "python",
   "nbconvert_exporter": "python",
   "pygments_lexer": "ipython3",
   "version": "3.11.5"
  },
  "toc": {
   "base_numbering": 1,
   "nav_menu": {},
   "number_sections": true,
   "sideBar": true,
   "skip_h1_title": false,
   "title_cell": "Table of Contents",
   "title_sidebar": "Contents",
   "toc_cell": false,
   "toc_position": {},
   "toc_section_display": true,
   "toc_window_display": false
  },
  "vscode": {
   "interpreter": {
    "hash": "e4cce46d6be9934fbd27f9ca0432556941ea5bdf741d4f4d64c6cd7f8dfa8fba"
   }
  }
 },
 "nbformat": 4,
 "nbformat_minor": 4
}
