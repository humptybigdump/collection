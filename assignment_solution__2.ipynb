{
 "cells": [
  {
   "cell_type": "markdown",
   "metadata": {
    "pycharm": {
     "name": "#%% md\n"
    }
   },
   "source": [
    "# Machine Vision 2022/23 - Assignment 6: Cross-Validation & SVM\n",
    "\n",
    "These exercises are made to become familiar with classification techniques of machine learning like support\n",
    "vector machines and cross-validation.\n",
    "\n",
    "Your task is to develop a method to classify images of smileys into the two categories, happy smileys and sad smileys.\n",
    "In the file smileys `res/images_train.npy` you will find a set of training images, while the corresponding labels are stored in `res/labels_train.npy`.\n",
    "\n",
    "The class label `+1` refers to happy smileys and `−1` to sad smileys."
   ]
  },
  {
   "cell_type": "code",
   "execution_count": null,
   "metadata": {
    "pycharm": {
     "name": "#%%\n",
     "is_executing": true
    }
   },
   "outputs": [],
   "source": [
    "import math\n",
    "import matplotlib.pyplot as plt\n",
    "import numpy as np\n",
    "from sklearn.metrics import confusion_matrix, ConfusionMatrixDisplay\n",
    "from sklearn.svm import SVC"
   ]
  },
  {
   "cell_type": "markdown",
   "metadata": {
    "pycharm": {
     "name": "#%% md\n"
    }
   },
   "source": [
    "#### Part 1: Cross-Validation\n",
    "\n",
    "##### Preparation"
   ]
  },
  {
   "cell_type": "code",
   "execution_count": 45,
   "metadata": {
    "pycharm": {
     "name": "#%%sio.loadmat(\"res\")\n"
    }
   },
   "outputs": [
    {
     "name": "stdout",
     "output_type": "stream",
     "text": [
      "(400, 20, 20)\n",
      "(111, 20, 20)\n"
     ]
    },
    {
     "data": {
      "text/plain": "<Figure size 432x288 with 1 Axes>",
      "image/png": "[encoded data removed]"
     },
     "metadata": {
      "needs_background": "light"
     },
     "output_type": "display_data"
    },
    {
     "name": "stdout",
     "output_type": "stream",
     "text": [
      "(20, 20)\n"
     ]
    }
   ],
   "source": [
    "# @student: load the train/test images and labels\n",
    "X_train, y_train = np.load(\"res/images_train.npy\"), np.load(\"res/labels_train.npy\")\n",
    "X_test, y_test = np.load(\"res/images_test.npy\"), np.load(\"res/labels_test.npy\")\n",
    "\n",
    "# @student: Print the shape of the training and test set. How many training images are in the set, how many test images?\n",
    "print(X_train.shape)\n",
    "print(X_test.shape)\n",
    "\n",
    "# @student: visualize one smiley and print its shape\n",
    "plt.imshow(X_train[0], cmap=\"gray\")\n",
    "plt.show()\n",
    "print(X_train[0].shape)"
   ]
  },
  {
   "cell_type": "markdown",
   "metadata": {
    "pycharm": {
     "name": "#%% md\n"
    }
   },
   "source": [
    "##### Input Feature Space\n",
    "\n",
    "In Machine Learning a common task is to engineer the feature space. In our case, the feature space is the full image.\n",
    "However, not every feature (pixel) may contribute equally while classifying. Hence, your task is to find a feature space that is more suited than the whole picture.\n",
    "\n",
    "Hint: If you look at the face, which pixels are you looking at in order to classify if the face is happy or sad?\n",
    "\n",
    "<br></br>\n",
    "**IMPORTANT: Do not work on this task until you finished this assignment**"
   ]
  },
  {
   "cell_type": "code",
   "execution_count": 46,
   "metadata": {
    "pycharm": {
     "name": "#%%\n"
    }
   },
   "outputs": [
    {
     "data": {
      "text/plain": "<Figure size 432x288 with 1 Axes>",
      "image/png": "[encoded data removed]"
     },
     "metadata": {
      "needs_background": "light"
     },
     "output_type": "display_data"
    },
    {
     "name": "stdout",
     "output_type": "stream",
     "text": [
      "(6, 20)\n"
     ]
    }
   ],
   "source": [
    "# IMPORTANT: Do not work on this task until you finished this assignment\n",
    "\n",
    "def transform_feature_space(*, X):\n",
    "    # @student: transform input feature space\n",
    "    X = X[:, 10:16, :]\n",
    "\n",
    "    return X\n",
    "\n",
    "X_train = transform_feature_space(X=X_train)\n",
    "X_test = transform_feature_space(X=X_test)\n",
    "\n",
    "# @student: visualize one image in the transformed feature space and print its shape\n",
    "plt.imshow(X_train[0], cmap=\"gray\")\n",
    "plt.show()\n",
    "print(X_train[0].shape)"
   ]
  },
  {
   "cell_type": "markdown",
   "metadata": {
    "pycharm": {
     "name": "#%% md\n"
    }
   },
   "source": [
    "##### Input Data Permutation\n",
    "\n",
    "Depending on the machine learning algorithm/optimization the order in which the training samples are learned influences the result.\n",
    "Therefore, it is a good practice to randomly permutate the training data and its labels.\n",
    "\n",
    "However, you have to make sure to shuffle both data and labels in the same way."
   ]
  },
  {
   "cell_type": "code",
   "execution_count": 47,
   "metadata": {
    "pycharm": {
     "name": "#%%\n"
    }
   },
   "outputs": [],
   "source": [
    "def random_permutation(*, X, y) -> (np.ndarray, np.ndarray):\n",
    "    assert X.shape[0] == y.shape[0]\n",
    "\n",
    "    # @student: randomly permutate X, y in the same way\n",
    "    permutation = np.random.permutation(X.shape[0])\n",
    "    return X[permutation], y[permutation]"
   ]
  },
  {
   "cell_type": "markdown",
   "metadata": {
    "pycharm": {
     "name": "#%% md\n"
    }
   },
   "source": [
    "##### K-Folds\n",
    "\n",
    "In order to use k-fold cross validation, the dataset has to be split into k folds."
   ]
  },
  {
   "cell_type": "code",
   "execution_count": 48,
   "metadata": {
    "pycharm": {
     "name": "#%%\n"
    }
   },
   "outputs": [],
   "source": [
    "def split_k_folds(*, X, y, k) -> (np.ndarray, np.ndarray):\n",
    "    assert X.shape[0] == y.shape[0], f\"X has a different amount of images than labels exist in y (X: {X.shape[0]}, y: {y.shape[0]})\"\n",
    "    assert (X.shape[0] / k).is_integer(), f\"The number of images is not evenly divisible by k (X: {X.shape[0]}, k: {k}, X/k = {X.shape[0]/k})\"\n",
    "\n",
    "    # @student: Split X, y in k even folds\n",
    "    X = np.reshape(X, (k, int(X.shape[0]/k), X.shape[1], X.shape[2]))\n",
    "    y = np.reshape(y, (k, int(y.shape[0]/k)))\n",
    "\n",
    "    # Hint: shapes should be: X = [k, num_images/k, u pixels, v pixels], y = [k, num_labels/k]\n",
    "    return X, y"
   ]
  },
  {
   "cell_type": "markdown",
   "metadata": {
    "pycharm": {
     "name": "#%% md\n"
    }
   },
   "source": [
    "Depending on the index `i` of the SVM, the train and validation split is determined."
   ]
  },
  {
   "cell_type": "code",
   "execution_count": 49,
   "metadata": {
    "pycharm": {
     "name": "#%%\n"
    }
   },
   "outputs": [],
   "source": [
    "def get_train_and_val_data_for_i(*, X, y, k, i) -> (np.ndarray, np.ndarray, np.ndarray, np.ndarray):\n",
    "    # @student get the train and validation data of the k-folds for the i-th SVM\n",
    "\n",
    "    # Training Data\n",
    "    X_train = np.ndarray(shape=[0, X[0].shape[1], X[0].shape[2]])\n",
    "    y_train = np.ndarray(shape=[0])\n",
    "    for j in range(k):\n",
    "        if j == i:\n",
    "            continue\n",
    "        X_train = np.concatenate((X_train, X[j]))\n",
    "        y_train = np.concatenate((y_train, y[j]))\n",
    "\n",
    "    # Validation Data\n",
    "    X_val = X[i]\n",
    "    y_val = y[i]\n",
    "\n",
    "    return X_train, y_train, X_val, y_val"
   ]
  },
  {
   "cell_type": "markdown",
   "metadata": {
    "pycharm": {
     "name": "#%% md\n"
    }
   },
   "source": [
    "##### Metrics\n",
    "\n",
    "In order to decide which SVM performs best, different metrics can be used.\n",
    "For this task we will use the F1-Score, which is the harmonic mean of precision and recall.\n",
    "\n",
    "<br></br>\n",
    "$P = \\frac{TP}{TP+FP}$\n",
    "<br></br>\n",
    "$R = \\frac{TP}{TP+FN}$\n",
    "<br></br>\n",
    "$F1 = 2\\frac{P*R}{P+R}$"
   ]
  },
  {
   "cell_type": "code",
   "execution_count": 50,
   "metadata": {
    "pycharm": {
     "name": "#%%\n"
    }
   },
   "outputs": [],
   "source": [
    "def calculate_f1_score(*, y, y_pred):\n",
    "    # @student: calculate f1-score\n",
    "    # hint: the function np.logical_and() may help you\n",
    "\n",
    "    TP = np.sum(np.logical_and(y_pred==1, y==1))\n",
    "    FP = np.sum(np.logical_and(y_pred==1, y==-1))\n",
    "    FN = np.sum(np.logical_and(y_pred==-1, y==1))\n",
    "\n",
    "    if math.isclose(TP + FP, 0.0):\n",
    "        P = 0\n",
    "    else:\n",
    "        P = TP / (TP + FP)\n",
    "\n",
    "    if math.isclose(TP + FN, 0.0):\n",
    "        R = 0\n",
    "    else:\n",
    "        R = TP / (TP + FN)\n",
    "\n",
    "    if math.isclose(P + R, 0.0):\n",
    "        return 0\n",
    "\n",
    "    return 2 * (P * R) / (P + R)"
   ]
  },
  {
   "cell_type": "markdown",
   "metadata": {
    "pycharm": {
     "name": "#%% md\n"
    }
   },
   "source": [
    "##### Input Feature Space\n",
    "\n",
    "The SVM input is a linear input. Therefore, two-dimensional images have to be transformed into a one dimensional list of pixels"
   ]
  },
  {
   "cell_type": "code",
   "execution_count": 51,
   "metadata": {
    "pycharm": {
     "name": "#%%\n"
    }
   },
   "outputs": [],
   "source": [
    "def flatten(*, X, y):\n",
    "    # @student: reshape the image into a one-dimensional array\n",
    "    return X.reshape([X.shape[0], -1]), y.flatten()"
   ]
  },
  {
   "cell_type": "markdown",
   "metadata": {
    "pycharm": {
     "name": "#%% md\n"
    }
   },
   "source": [
    "##### K-Fold Cross Validation"
   ]
  },
  {
   "cell_type": "code",
   "execution_count": 52,
   "metadata": {
    "pycharm": {
     "name": "#%%\n"
    }
   },
   "outputs": [],
   "source": [
    "def k_fold_cross_validation(*, X, y, C, sigma, k=4):\n",
    "    assert X.shape[0] == y.shape[0]\n",
    "\n",
    "    X, y = random_permutation(X=X, y=y)\n",
    "    X_split, y_split = split_k_folds(X=X, y=y, k=k)\n",
    "\n",
    "    # Create k SVM's\n",
    "    svms = [SVC(C=C, gamma=sigma) for _ in range(k)]\n",
    "\n",
    "    # Accumulate F1-Score over k-folds\n",
    "    f1_acc = 0\n",
    "    # Train and validate on k-folds\n",
    "    for i in range(k):\n",
    "        X_train, y_train, X_val, y_val = get_train_and_val_data_for_i(X=X_split, y=y_split, k=k, i=i)\n",
    "\n",
    "        # Train and Evaluate\n",
    "        X_train, y_train = flatten(X=X_train, y=y_train)\n",
    "        X_val, y_val = flatten(X=X_val, y=y_val)\n",
    "        svms[i].fit(X_train, y_train)\n",
    "        y_pred = svms[i].predict(X_val)\n",
    "\n",
    "        f1_acc += calculate_f1_score(y=y_val, y_pred=y_pred)\n",
    "\n",
    "    # @student: return final f1 score\n",
    "    return f1_acc / k"
   ]
  },
  {
   "cell_type": "markdown",
   "metadata": {
    "pycharm": {
     "name": "#%% md\n"
    }
   },
   "source": [
    "##### Execution\n",
    "\n",
    "An SVM using the RBF kernel has two different hyperparameters: `C` and `sigma`.\n",
    "You want to optimize these hyperparameters to obtain the highest F1-Score.\n",
    "\n",
    "To achieve this, different methods exist. You could perform a brute-force grid search, in which\n",
    "you train and evaluate an SVM with all possible combinations of C and sigma."
   ]
  },
  {
   "cell_type": "code",
   "execution_count": 53,
   "metadata": {
    "pycharm": {
     "name": "#%%\n"
    }
   },
   "outputs": [
    {
     "name": "stdout",
     "output_type": "stream",
     "text": [
      "F1: 0.8266860113558268 with C = 4.166666666666666, sigma = 0.1\n"
     ]
    }
   ],
   "source": [
    "# @student: create space over possible C values\n",
    "C = np.linspace(1, 5, 25)\n",
    "# @student: create span over possible sigma values\n",
    "sigma = gamma_range = np.logspace(-9, 3, 13)\n",
    "\n",
    "f1_kfolds = np.ndarray(shape=[len(C), len(sigma)])\n",
    "\n",
    "# @student: Execute k-fold cross validation grid search and store f1-scores in f1_kfolds\n",
    "for i in range(len(C)):\n",
    "    for j in range(len(sigma)):\n",
    "        f1_kfolds[i,j] = k_fold_cross_validation(X=X_train, y=y_train, C=C[i], sigma=sigma[j], k=4)\n",
    "\n",
    "# get index of the best f1-score\n",
    "best_parameters = np.unravel_index(np.argmax(f1_kfolds, axis=None), f1_kfolds.shape)\n",
    "best_f1 = np.max(f1_kfolds)\n",
    "best_c = C[best_parameters[0]]\n",
    "best_sigma = sigma[best_parameters[1]]\n",
    "print(f\"F1: {best_f1} with C = {best_c}, sigma = {best_sigma}\")"
   ]
  },
  {
   "cell_type": "markdown",
   "metadata": {
    "pycharm": {
     "name": "#%% md\n"
    }
   },
   "source": [
    "\n",
    "##### Final Training\n",
    "\n",
    "Using k-fold cross-validation we determined the optimal hyperparameters. Next, we want to train the SVM on the full training dataset and evaluate on the test dataset."
   ]
  },
  {
   "cell_type": "code",
   "execution_count": 54,
   "metadata": {
    "pycharm": {
     "name": "#%%\n"
    }
   },
   "outputs": [
    {
     "data": {
      "text/plain": "SVC(C=4.166666666666666, gamma=0.1)",
      "text/html": "<style>#sk-container-id-3 {color: black;background-color: white;}#sk-container-id-3 pre{padding: 0;}#sk-container-id-3 div.sk-toggleable {background-color: white;}#sk-container-id-3 label.sk-toggleable__label {cursor: pointer;display: block;width: 100%;margin-bottom: 0;padding: 0.3em;box-sizing: border-box;text-align: center;}#sk-container-id-3 label.sk-toggleable__label-arrow:before {content: \"▸\";float: left;margin-right: 0.25em;color: #696969;}#sk-container-id-3 label.sk-toggleable__label-arrow:hover:before {color: black;}#sk-container-id-3 div.sk-estimator:hover label.sk-toggleable__label-arrow:before {color: black;}#sk-container-id-3 div.sk-toggleable__content {max-height: 0;max-width: 0;overflow: hidden;text-align: left;background-color: #f0f8ff;}#sk-container-id-3 div.sk-toggleable__content pre {margin: 0.2em;color: black;border-radius: 0.25em;background-color: #f0f8ff;}#sk-container-id-3 input.sk-toggleable__control:checked~div.sk-toggleable__content {max-height: 200px;max-width: 100%;overflow: auto;}#sk-container-id-3 input.sk-toggleable__control:checked~label.sk-toggleable__label-arrow:before {content: \"▾\";}#sk-container-id-3 div.sk-estimator input.sk-toggleable__control:checked~label.sk-toggleable__label {background-color: #d4ebff;}#sk-container-id-3 div.sk-label input.sk-toggleable__control:checked~label.sk-toggleable__label {background-color: #d4ebff;}#sk-container-id-3 input.sk-hidden--visually {border: 0;clip: rect(1px 1px 1px 1px);clip: rect(1px, 1px, 1px, 1px);height: 1px;margin: -1px;overflow: hidden;padding: 0;position: absolute;width: 1px;}#sk-container-id-3 div.sk-estimator {font-family: monospace;background-color: #f0f8ff;border: 1px dotted black;border-radius: 0.25em;box-sizing: border-box;margin-bottom: 0.5em;}#sk-container-id-3 div.sk-estimator:hover {background-color: #d4ebff;}#sk-container-id-3 div.sk-parallel-item::after {content: \"\";width: 100%;border-bottom: 1px solid gray;flex-grow: 1;}#sk-container-id-3 div.sk-label:hover label.sk-toggleable__label {background-color: #d4ebff;}#sk-container-id-3 div.sk-serial::before {content: \"\";position: absolute;border-left: 1px solid gray;box-sizing: border-box;top: 0;bottom: 0;left: 50%;z-index: 0;}#sk-container-id-3 div.sk-serial {display: flex;flex-direction: column;align-items: center;background-color: white;padding-right: 0.2em;padding-left: 0.2em;position: relative;}#sk-container-id-3 div.sk-item {position: relative;z-index: 1;}#sk-container-id-3 div.sk-parallel {display: flex;align-items: stretch;justify-content: center;background-color: white;position: relative;}#sk-container-id-3 div.sk-item::before, #sk-container-id-3 div.sk-parallel-item::before {content: \"\";position: absolute;border-left: 1px solid gray;box-sizing: border-box;top: 0;bottom: 0;left: 50%;z-index: -1;}#sk-container-id-3 div.sk-parallel-item {display: flex;flex-direction: column;z-index: 1;position: relative;background-color: white;}#sk-container-id-3 div.sk-parallel-item:first-child::after {align-self: flex-end;width: 50%;}#sk-container-id-3 div.sk-parallel-item:last-child::after {align-self: flex-start;width: 50%;}#sk-container-id-3 div.sk-parallel-item:only-child::after {width: 0;}#sk-container-id-3 div.sk-dashed-wrapped {border: 1px dashed gray;margin: 0 0.4em 0.5em 0.4em;box-sizing: border-box;padding-bottom: 0.4em;background-color: white;}#sk-container-id-3 div.sk-label label {font-family: monospace;font-weight: bold;display: inline-block;line-height: 1.2em;}#sk-container-id-3 div.sk-label-container {text-align: center;}#sk-container-id-3 div.sk-container {/* jupyter's `normalize.less` sets `[hidden] { display: none; }` but bootstrap.min.css set `[hidden] { display: none !important; }` so we also need the `!important` here to be able to override the default hidden behavior on the sphinx rendered scikit-learn.org. See: https://github.com/scikit-learn/scikit-learn/issues/21755 */display: inline-block !important;position: relative;}#sk-container-id-3 div.sk-text-repr-fallback {display: none;}</style><div id=\"sk-container-id-3\" class=\"sk-top-container\"><div class=\"sk-text-repr-fallback\"><pre>SVC(C=4.166666666666666, gamma=0.1)</pre><b>In a Jupyter environment, please rerun this cell to show the HTML representation or trust the notebook. <br />On GitHub, the HTML representation is unable to render, please try loading this page with nbviewer.org.</b></div><div class=\"sk-container\" hidden><div class=\"sk-item\"><div class=\"sk-estimator sk-toggleable\"><input class=\"sk-toggleable__control sk-hidden--visually\" id=\"sk-estimator-id-3\" type=\"checkbox\" checked><label for=\"sk-estimator-id-3\" class=\"sk-toggleable__label sk-toggleable__label-arrow\">SVC</label><div class=\"sk-toggleable__content\"><pre>SVC(C=4.166666666666666, gamma=0.1)</pre></div></div></div></div></div>"
     },
     "execution_count": 54,
     "metadata": {},
     "output_type": "execute_result"
    }
   ],
   "source": [
    "# @student: train on the full train dataset using the optimal c and sigma\n",
    "X_train, y_train = flatten(X=X_train, y=y_train)\n",
    "svm = SVC(C=best_c, gamma=best_sigma)\n",
    "svm.fit(X_train, y_train)"
   ]
  },
  {
   "cell_type": "markdown",
   "metadata": {
    "pycharm": {
     "name": "#%% md\n"
    }
   },
   "source": [
    "##### Evaluation"
   ]
  },
  {
   "cell_type": "code",
   "execution_count": 55,
   "metadata": {
    "pycharm": {
     "name": "#%%\n"
    }
   },
   "outputs": [
    {
     "name": "stdout",
     "output_type": "stream",
     "text": [
      "F1-Score on test: 0.8717948717948718\n"
     ]
    }
   ],
   "source": [
    "# @student: calculate the F1-score on the full test dataset\n",
    "X_test, y_test = flatten(X=X_test, y=y_test)\n",
    "y_pred = svm.predict(X_test)\n",
    "f1_test = calculate_f1_score(y=y_test, y_pred=y_pred)\n",
    "print(f\"F1-Score on test: {f1_test}\")"
   ]
  },
  {
   "cell_type": "markdown",
   "metadata": {
    "pycharm": {
     "name": "#%% md\n"
    }
   },
   "source": [
    "To gain a detailed understanding of the prediction, we will use a confusion matrix."
   ]
  },
  {
   "cell_type": "code",
   "execution_count": 57,
   "metadata": {
    "pycharm": {
     "name": "#%%\n"
    }
   },
   "outputs": [
    {
     "data": {
      "text/plain": "<Figure size 432x288 with 2 Axes>",
      "image/png": "[encoded data removed]"
     },
     "metadata": {
      "needs_background": "light"
     },
     "output_type": "display_data"
    }
   ],
   "source": [
    "def calculate_confusion_matrix(*, y, y_pred) -> np.ndarray:\n",
    "    # @student: calculate the confusion matrix\n",
    "    # hint: you can use np.logical_and()\n",
    "\n",
    "    TP = np.sum(np.logical_and(y_pred==1, y==1))\n",
    "    FP = np.sum(np.logical_and(y_pred==-1, y==1))\n",
    "    TN = np.sum(np.logical_and(y_pred==1, y==-1))\n",
    "    FN = np.sum(np.logical_and(y_pred==-1, y==-1))\n",
    "\n",
    "    return np.array([[TP, TN], [FP, FN]])\n",
    "\n",
    "\n",
    "cm = calculate_confusion_matrix(y=y_test, y_pred=y_pred)\n",
    "disp = ConfusionMatrixDisplay(cm, display_labels=[\"1\", \"-1\"])\n",
    "disp.plot()\n",
    "plt.show()"
   ]
  },
  {
   "cell_type": "code",
   "execution_count": null,
   "metadata": {
    "pycharm": {
     "name": "#%%\n"
    }
   },
   "outputs": [],
   "source": []
  }
 ],
 "metadata": {
  "kernelspec": {
   "display_name": "Python 3 (ipykernel)",
   "language": "python",
   "name": "python3"
  },
  "language_info": {
   "codemirror_mode": {
    "name": "ipython",
    "version": 3
   },
   "file_extension": ".py",
   "mimetype": "text/x-python",
   "name": "python",
   "nbconvert_exporter": "python",
   "pygments_lexer": "ipython3",
   "version": "3.10.4"
  }
 },
 "nbformat": 4,
 "nbformat_minor": 1
}