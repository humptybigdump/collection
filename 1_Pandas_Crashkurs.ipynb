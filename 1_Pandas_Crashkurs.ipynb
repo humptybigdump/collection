{
 "cells": [
  {
   "cell_type": "markdown",
   "metadata": {},
   "source": [
    "**Willkommen zum Tutorial für Pandas. Nach diesem Tutorial werdet ihr sicherer im Umgang mit Daten in Python sein, sämtliche Machine Learning Algorithmen einfacher anwenden können und kaum noch Excel Tabellen benötigen.**\n",
    "\n",
    "Das Tutorial ist wie folgt gegliedert:\n",
    "    \n",
    "    1. Allgemeines zum Objekt pd.DataFrame\n",
    "    2. Allgemeines zum Objekt pd.Series\n",
    "    3. Verbindung zwischen Series und DataFrames\n",
    "    4. Cooles Zeug"
   ]
  },
  {
   "cell_type": "markdown",
   "metadata": {},
   "source": [
    "**Allgemeines über DataFrames** \n",
    "  \n",
    "Ein DataFrame ist ein Objekt mit Zeilen und Spalten und enthält Daten. Im Gegensatz zum zweiten häufig verwendeten Datentyp, dem Numpy-Array, kann die Tabelle in Pandas eher als Excel-Tabelle anstatt als Matrix angesehen werden. Viele Dinge gehen äquivalent mit np.arrays und mit pd.DataFrames, einige Dinge haben Vor- und Nachteile. Die beiden Datentypen lassen sich einfach ineinander umwandeln. Hier liegt der Fokus alleine auf den DataFrames.\n",
    "Wir erstellen ein Dataframe aus 3 Listen mit je 3 Datenpunkten:"
   ]
  },
  {
   "cell_type": "code",
   "execution_count": 31,
   "metadata": {},
   "outputs": [
    {
     "name": "stdout",
     "output_type": "stream",
     "text": [
      "   0  1  2\n",
      "0  1  2  3\n",
      "1  4  5  6\n",
      "2  7  8  9\n"
     ]
    }
   ],
   "source": [
    "import pandas as pd # Konvention: Immer als \"pd\" importieren\n",
    "df = pd.DataFrame([ [1, 2, 3], [4, 5, 6], [7, 8, 9] ]) # die Funktion DataFrame erwartet als erstes die 'data',\n",
    "# und anschließend Informationen zu den Indizes und Spaltennamen. Die 3 Listen müssen daher in einer Liste stehen,\n",
    "# ansonsten würde [4, 5, 6] als Indizes interpretiert werden (siehe Hilfe: help(pd.DataFrame))\n",
    "# print(help(pd.DataFrame))\n",
    "\n",
    "print(df) # im default werden Datenlisten als Zeilenvektoren interpretiert"
   ]
  },
  {
   "cell_type": "markdown",
   "metadata": {},
   "source": [
    "**Daten als Dict einlesen**\n",
    "\n",
    "Eine Möglichkeit, die Datenlisten spaltenweise zu interpretieren, ist via Dictionary. Dabei werden auch direkt die Spaltennamen definiert."
   ]
  },
  {
   "cell_type": "code",
   "execution_count": 32,
   "metadata": {},
   "outputs": [
    {
     "name": "stdout",
     "output_type": "stream",
     "text": [
      "      Ware  Preis\n",
      "0    Apfel    1.0\n",
      "1    Birne    1.5\n",
      "2   Melone    2.0\n",
      "3  Zitrone    3.0\n"
     ]
    }
   ],
   "source": [
    "df = pd.DataFrame({ \n",
    "    \"Ware\": [\"Apfel\", \"Birne\", \"Melone\", \"Zitrone\"],\n",
    "    \"Preis\": [1, 1.5, 2, 3]\n",
    "})\n",
    "print(df) "
   ]
  },
  {
   "cell_type": "markdown",
   "metadata": {},
   "source": [
    "*Anmerkung: Die Integers 1, 2 und 3 werden in Gleitkommazahlen (floats) umgewandelt, weil 1.5 ein float ist und somit der Datentyp der ganzen Spalte zum float gewandelt wird*\n",
    "\n",
    "Das gleiche kann erreicht werden durch das Übergeben von Listen als Zeilenvektoren und das Spezifieren der Spaltennamen."
   ]
  },
  {
   "cell_type": "code",
   "execution_count": 33,
   "metadata": {},
   "outputs": [
    {
     "name": "stdout",
     "output_type": "stream",
     "text": [
      "      Ware  Preis\n",
      "0    Apfel    1.0\n",
      "1    Birne    1.5\n",
      "2   Melone    2.0\n",
      "3  Zitrone    3.0\n"
     ]
    }
   ],
   "source": [
    "df_alternat = pd.DataFrame(\n",
    "    data = [[\"Apfel\", 1.0], [\"Birne\", 1.5], [\"Melone\", 2.0], [\"Zitrone\", 3.0]],\n",
    "    columns = [\"Ware\", \"Preis\"]\n",
    ")\n",
    "print(df_alternat)"
   ]
  },
  {
   "cell_type": "markdown",
   "metadata": {},
   "source": [
    "**Indizes**\n",
    "\n",
    "Die Indizes sowie auch die Spaltennamen können, müssen aber nicht gesetzt werden. Wird nichts gesetzt, dann zählt Python von 0 beginndend durch (s. In[1]). \n",
    "Wichtig: Indizes und Spaltennamen zählen nicht zu den Daten. Der erste Eintrag links oben (0,0) ist \"Apfel\"."
   ]
  },
  {
   "cell_type": "code",
   "execution_count": 34,
   "metadata": {},
   "outputs": [
    {
     "name": "stdout",
     "output_type": "stream",
     "text": [
      "           Ware  Preis\n",
      "erste     Apfel    1.0\n",
      "zweite    Birne    1.5\n",
      "dritte   Melone    2.0\n",
      "vierte  Zitrone    3.0\n"
     ]
    }
   ],
   "source": [
    "df = pd.DataFrame({ \n",
    "    \"Ware\": [\"Apfel\", \"Birne\", \"Melone\", \"Zitrone\"],\n",
    "    \"Preis\": [1, 1.5, 2, 3]\n",
    "    },\n",
    "    index=[\"erste\", \"zweite\", \"dritte\", \"vierte\"]\n",
    ")\n",
    "print(df)"
   ]
  },
  {
   "cell_type": "markdown",
   "metadata": {},
   "source": [
    "**Spalten und Indizes mit .rename() ändern**\n",
    "\n",
    "Spaltennamen und Indizes können jederzeit mit der Funktion 'rename' verändert werden. Dabei fällt ein grundlegendes Prinzip auf: \n",
    "Veränderungen am Dataframe werden nur in den Output geleitet. Das Dataframe selbst bleibt unverändert. \n",
    "Im folgenden wird (1) das originale datenframe geprintet, (2) das veränderte, (3) das nicht veränderte.\n",
    "Um Änderungen wirksam zu machen, muss eine neue Variable definiert werden oder die alte überschrieben werden (4) oder das Keyword-Argument ```inplace=True``` gesetzt werden, falls die Methode dies zulässt."
   ]
  },
  {
   "cell_type": "code",
   "execution_count": 35,
   "metadata": {},
   "outputs": [
    {
     "name": "stdout",
     "output_type": "stream",
     "text": [
      "1. Original\n",
      "           Ware  Preis\n",
      "erste     Apfel    1.0\n",
      "zweite    Birne    1.5\n",
      "dritte   Melone    2.0\n",
      "vierte  Zitrone    3.0\n",
      "\n",
      "2. Verändert\n",
      "           Ware  Preis in Euro\n",
      "erste     Apfel            1.0\n",
      "b         Birne            1.5\n",
      "c        Melone            2.0\n",
      "vierte  Zitrone            3.0\n",
      "\n",
      "3. Das funktioniert nicht:\n",
      "           Ware  Preis\n",
      "erste     Apfel    1.0\n",
      "zweite    Birne    1.5\n",
      "dritte   Melone    2.0\n",
      "vierte  Zitrone    3.0\n",
      "\n",
      "4. Neue Variable setzen oder alte überschreiben\n",
      "df2:\n",
      "            Ware  Preis in Euro\n",
      "erste     Apfel            1.0\n",
      "b         Birne            1.5\n",
      "c        Melone            2.0\n",
      "vierte  Zitrone            3.0\n",
      "\n",
      "df:\n",
      "            Ware  Preis in Euro\n",
      "erste     Apfel            1.0\n",
      "b         Birne            1.5\n",
      "c        Melone            2.0\n",
      "vierte  Zitrone            3.0\n"
     ]
    }
   ],
   "source": [
    "df = pd.DataFrame({ \n",
    "    \"Ware\": [\"Apfel\", \"Birne\", \"Melone\", \"Zitrone\"],\n",
    "    \"Preis\": [1, 1.5, 2, 3]\n",
    "    },\n",
    "    index=[\"erste\", \"zweite\", \"dritte\", \"vierte\"]\n",
    ")\n",
    "\n",
    "print(\"1. Original\")\n",
    "print(df)\n",
    "\n",
    "print(\"\\n2. Verändert\") # in Python strings steht \\n für new line (Zeilenumbruch), \\t für Tabulator etc.\n",
    "print(df.rename(index={\"zweite\": \"b\", \"dritte\": \"c\"}, # dict mit key=Originaler Name , value=Geänderter Name\n",
    "                columns={\"Preis\": \"Preis in Euro\"}))\n",
    "\n",
    "print(\"\\n3. Das funktioniert nicht:\")\n",
    "df.rename(index={\"zweite\": \"b\", \"dritte\": \"c\"}, \n",
    "        columns={\"Preis\": \"Preis in Euro\"})\n",
    "print(df) # df ist nicht verändert worden\n",
    "\n",
    "print(\"\\n4. Neue Variable setzen oder alte überschreiben\")\n",
    "df2 = df.rename(index={\"zweite\": \"b\", \"dritte\": \"c\"},\n",
    "                columns={\"Preis\": \"Preis in Euro\"})\n",
    "df = df.rename(index={\"zweite\": \"b\", \"dritte\": \"c\"},\n",
    "                columns={\"Preis\": \"Preis in Euro\"})\n",
    "print(\"df2:\\n\", df2)    \n",
    "print(\"\\ndf:\\n\", df\n",
    ")"
   ]
  },
  {
   "cell_type": "markdown",
   "metadata": {},
   "source": [
    "Diese Erkenntnis ist wichtig: Die allermeisten Operationen wie df+10, df*5, df.rename, df.reshape, df.transpose etc. \n",
    "lassen das DataFrame unverändert und geben lediglich die veränderte Version zurück. Wenn diese Zurückgabe nirgends \n",
    "weiterverarbeitet oder gespeichert wird, so geht sie verloren. Soll das df_bsp dauerhaft verändert werden, so muss man \n",
    "df_bsp = df_bsp + 10 ; df_bsp = df_bsp.transpose() ; etc. \n",
    "schreiben"
   ]
  },
  {
   "cell_type": "markdown",
   "metadata": {},
   "source": [
    "**Zugriffe auf einzelne oder mehrere Elemente**\n",
    "\n",
    "Es gibt im Wesentlichen 2 Möglichkeiten, um auf die Daten zuzugreifen: Über die Namen der Zeilen und Spalten ,\n",
    "oder über die Integers via .iloc[] (integer location).\n",
    "\n",
    "*Remember: Zugriffe bei Listen durch integers, z.B.* \n",
    "```python \n",
    "list1 = [1,2,3,4]\n",
    "list1[0] # gibt 1\n",
    "list1[1:3] # gibt [2,3]\n",
    "list1[0:3] # [1,2,3] und ist gleich wie list1[:3]\n",
    "list1[:] # gibt ganze list1, Python zählt hier von 0 bis 3.\n",
    "```\n",
    "* und range(1,10) in Python exkludiert die 10, läuft also von 1 bis 9.*"
   ]
  },
  {
   "cell_type": "code",
   "execution_count": 36,
   "metadata": {},
   "outputs": [
    {
     "name": "stdout",
     "output_type": "stream",
     "text": [
      "--ganze Spalte--\n",
      "erste     1.0\n",
      "b         1.5\n",
      "c         2.0\n",
      "vierte    3.0\n",
      "Name: Preis in Euro, dtype: float64\n",
      "\n",
      "--ein Element--\n",
      "1.0\n",
      "\n",
      "--ein Element mit iloc--\n",
      "1.0\n",
      "\n",
      "--ganze erste Zeile mit iloc--\n",
      "Ware             Apfel\n",
      "Preis in Euro        1\n",
      "Name: erste, dtype: object\n",
      "\n",
      "--zweite Spalte mit iloc--\n",
      "erste     1.0\n",
      "b         1.5\n",
      "c         2.0\n",
      "vierte    3.0\n",
      "Name: Preis in Euro, dtype: float64\n",
      "\n",
      "--Auswahl mit iloc--\n",
      "         Ware  Preis in Euro\n",
      "erste   Apfel            1.0\n",
      "c      Melone            2.0\n"
     ]
    }
   ],
   "source": [
    "print(\"--ganze Spalte--\")\n",
    "print(df[\"Preis in Euro\"]) # Zugriff auf die Spalten via Spaltenname\n",
    "print(\"\\n--ein Element--\")\n",
    "print(df[\"Preis in Euro\"][\"erste\"]) # Zugriff auf ein Element via Spalten- und Indexname\n",
    "print(\"\\n--ein Element mit iloc--\")\n",
    "print(df.iloc[0,1]) # Es gilt immer df.iloc['Zeilen', 'Spalten']\n",
    "print(\"\\n--ganze erste Zeile mit iloc--\")\n",
    "print(df.iloc[0]) \n",
    "print(\"\\n--zweite Spalte mit iloc--\")\n",
    "print(df.iloc[:,1]) # Hier [:,1] also [:] für alle Zeilen [1] für 2. Spalte\n",
    "print(\"\\n--Auswahl mit iloc--\")\n",
    "print(df.iloc[[0,2], :]) # gibt in den Spalten 1 und 3 (extra Klammer) jeweils alle Zeilen [:]. \n",
    "# print(df.iloc[:, :]) ist das gleiche wie print(df)"
   ]
  },
  {
   "cell_type": "markdown",
   "metadata": {},
   "source": [
    "**Pandas Series (1/3)**\n",
    "\n",
    "Es fällt auf, dass manchmal unter den Daten so etwas wie \"Name: Preis in Euro, dtype: float64\" steht. \n",
    "Das liegt daran, dass ein anderer Datentyp geprinted wurde. Wie überall, werden die Klammern von innen nach außen ausgeführt.\n",
    "Oben im zweiten Beispiel (für ein Element) wird bei print(df[\"Preis in Euro\"][\"erste\"]) zuerst das Element im df gefunden und dann \n",
    "dieses an die print-Funktion übergeben. Daher steht im Output einfach nur \"1.0\" und der Datentyp ist float64.\n",
    "Der zweite (von zwei) wichtige Datentyp in Pandas ist die Serie. Diese ist ein DataFrame mit nur einer Spalte.\n",
    "Wird ein solches geprintet, so wird automatisch sein Name und der enthaltene Datentyp mit ausgegeben."
   ]
  },
  {
   "cell_type": "code",
   "execution_count": 37,
   "metadata": {},
   "outputs": [
    {
     "name": "stdout",
     "output_type": "stream",
     "text": [
      "type(df):\n",
      "  <class 'pandas.core.frame.DataFrame'>\n",
      "type(Serie):\n",
      "  <class 'pandas.core.series.Series'>\n",
      "Ganze Serie:\n",
      " erste     1.0\n",
      "b         1.5\n",
      "c         2.0\n",
      "vierte    3.0\n",
      "Name: Preis in Euro, dtype: float64\n"
     ]
    }
   ],
   "source": [
    "print(\"type(df):\\n \", type(df))\n",
    "preise = df[\"Preis in Euro\"]\n",
    "print(\"type(Serie):\\n \", type(preise))\n",
    "print(\"Ganze Serie:\\n\", preise)"
   ]
  },
  {
   "cell_type": "markdown",
   "metadata": {},
   "source": [
    "**Pandas Series (2/3)**\n",
    "\n",
    "Während ein Dataframe als Eigenschaften die Zeilen- und Spaltennamen hat, hat die Serie nur einen einzigen Namen: Den Namen ihrer Spalte. Die Indizes sind die gleichen.\n",
    "\n",
    "*Anmerkung: Nicht verwirren lassen vom Wort 'Index' in der Ausgabe. Dies liegt daran, dass die columns bzw. index keine Liste, sondern ein Pandas-index-objekt ist. Immerhin zeigt es auf eine ganze Zeile bzw. Spalte und trägt damit mehr Informationen, als nur eine Liste* "
   ]
  },
  {
   "cell_type": "code",
   "execution_count": 38,
   "metadata": {},
   "outputs": [
    {
     "name": "stdout",
     "output_type": "stream",
     "text": [
      "Dataframe:\n",
      " Columns: Index(['Ware', 'Preis in Euro'], dtype='object') \n",
      " Indizes: Index(['erste', 'b', 'c', 'vierte'], dtype='object')\n",
      "Serie:\n",
      " Name: Preis in Euro \n",
      " Indizes: Index(['erste', 'b', 'c', 'vierte'], dtype='object')\n",
      "Serie komplett:\n",
      " erste     1.0\n",
      "b         1.5\n",
      "c         2.0\n",
      "vierte    3.0\n",
      "Name: Preis in Euro, dtype: float64\n"
     ]
    }
   ],
   "source": [
    "print(\"Dataframe:\\n Columns:\", df.columns, \"\\n Indizes:\", df.index)\n",
    "print(\"Serie:\\n Name:\", preise.name, \"\\n Indizes:\", preise.index)\n",
    "print(\"Serie komplett:\\n\", preise)"
   ]
  },
  {
   "cell_type": "markdown",
   "metadata": {},
   "source": [
    "**Pandas Series (3/3)**\n",
    "\n",
    "Wie oben gesehen erhält man eine Serie durch das Extrahieren einer Spalte aus dem DataFrame.\n",
    "Man kann Serien auch direkt definieren (das wird vielleicht sogar häufiger gemacht als der Weg über das df)"
   ]
  },
  {
   "cell_type": "code",
   "execution_count": 39,
   "metadata": {},
   "outputs": [
    {
     "name": "stdout",
     "output_type": "stream",
     "text": [
      "10 Sekunden      1\n",
      "1 Minute         5\n",
      "3 Stunden       10\n",
      "1 Tag          120\n",
      "Name: Messpunkte, dtype: int64\n"
     ]
    }
   ],
   "source": [
    "serie = pd.Series(\n",
    "    data=[1, 5, 10, 120], \n",
    "    index=[\"10 Sekunden\", \"1 Minute\", \"3 Stunden\", \"1 Tag\"],\n",
    "    name=\"Messpunkte\")\n",
    "print(serie)"
   ]
  },
  {
   "cell_type": "markdown",
   "metadata": {},
   "source": [
    "**Serien vs. DataFrames**\n",
    "\n",
    "Wie wir aus dem df eine Serie bekommen, haben wir gesehen. Nun wollen wir die Messpunkte zum Frame hinzufügen.\n",
    "Man kann jederzeit eine neue Spalte im DataFrame erzeugen. Dabei muss die Länge der Liste mit den Zeilen im df übereinstimmen."
   ]
  },
  {
   "cell_type": "code",
   "execution_count": 40,
   "metadata": {},
   "outputs": [
    {
     "name": "stdout",
     "output_type": "stream",
     "text": [
      "           Ware  Preis in Euro  neue Spalte\n",
      "erste     Apfel            1.0           10\n",
      "b         Birne            1.5           11\n",
      "c        Melone            2.0           12\n",
      "vierte  Zitrone            3.0           13\n"
     ]
    }
   ],
   "source": [
    "df[\"neue Spalte\"] = [10, 11, 12, 13]\n",
    "print(df)\n",
    "# df[\"neue Spalte\"] = [10, 11, 12, 13, 14, 15, 16] gäbe einen Fehler"
   ]
  },
  {
   "cell_type": "markdown",
   "metadata": {},
   "source": [
    "Möchte man das gleiche mit der Serie machen, so erhält man NAN für 'Not a number'. Dieser Wert wird eingetragen, wenn Python \n",
    "keinen vernünftigen Wert erhalten kann. Z.B. beim Teilen durch 0, bei Dingen wie \"abc\"+10, oder wie hier beim Nichtüberinstimmen von Indizes. Wir können NANs mit der Methode .dropna() entfernen, das argument ```axis``` gibt dabei an, ob Reihen(axis=0) oder Spalten(axis=1) mit NANs entfernt werden sollen."
   ]
  },
  {
   "cell_type": "code",
   "execution_count": 41,
   "metadata": {},
   "outputs": [
    {
     "name": "stdout",
     "output_type": "stream",
     "text": [
      "           Ware  Preis in Euro  neue Spalte\n",
      "erste     Apfel            1.0          NaN\n",
      "b         Birne            1.5          NaN\n",
      "c        Melone            2.0          NaN\n",
      "vierte  Zitrone            3.0          NaN\n",
      "\n",
      "Empty DataFrame\n",
      "Columns: [Ware, Preis in Euro, neue Spalte]\n",
      "Index: []\n",
      "\n",
      "           Ware  Preis in Euro\n",
      "erste     Apfel            1.0\n",
      "b         Birne            1.5\n",
      "c        Melone            2.0\n",
      "vierte  Zitrone            3.0\n"
     ]
    }
   ],
   "source": [
    "df[\"neue Spalte\"] = serie\n",
    "print(df, end=\"\\n\\n\")\n",
    "\n",
    "df_ohne_nan_reihen = df.dropna(axis=0)\n",
    "print(df_ohne_nan_reihen, end=\"\\n\\n\") # Leerer Dataframe denn jede Reihe enthielt eine NAN\n",
    "\n",
    "df_ohne_nan_spalten = df.dropna(axis=1)\n",
    "print(df_ohne_nan_spalten)\n"
   ]
  },
  {
   "cell_type": "markdown",
   "metadata": {},
   "source": [
    "Eine Möglichkeit ist das Ausgeben der Werte mittels serie.values. Es gibt ein numpy array mit den Werten zurück. \n",
    "Dieses können wir verwenden, um die neue Spalte zu füllen. \n",
    "\n",
    "Allgemein funktionieren 1-dimensionale np.arrays wie Listen und allgemein vertragen sich np.arrays und Pandas-Datentypen sehr gut miteinander."
   ]
  },
  {
   "cell_type": "code",
   "execution_count": 42,
   "metadata": {},
   "outputs": [
    {
     "name": "stdout",
     "output_type": "stream",
     "text": [
      "<class 'numpy.ndarray'>\n",
      "           Ware  Preis in Euro  neue Spalte\n",
      "erste     Apfel            1.0            1\n",
      "b         Birne            1.5            5\n",
      "c        Melone            2.0           10\n",
      "vierte  Zitrone            3.0          120\n",
      "           Ware  Preis in Euro  neue Spalte\n",
      "erste     Apfel            1.0            1\n",
      "b         Birne            1.5            5\n",
      "c        Melone            2.0           10\n",
      "vierte  Zitrone            3.0          120\n"
     ]
    }
   ],
   "source": [
    "arr = serie.values \n",
    "print(type(arr))\n",
    "df[\"neue Spalte\"] = arr \n",
    "print(df)\n",
    "# oder kürzer:\n",
    "df[\"neue Spalte\"] = serie.values \n",
    "print(df)"
   ]
  },
  {
   "cell_type": "markdown",
   "metadata": {},
   "source": [
    "Nun haben wir die nötigen Basics, um mit den DataFrames zu arbeiten. Bedenkt bitte, dass es gerade in Python viele Wege zum Ziel gibt. Wenn ihr etwas lest wie \"df.loc[df.index[2],df.columns[0:2]]\" dann ist das nicht richtiger oder falscher. Nehmt das, was für euch am besten ist. Hier wurde aus Zeitgründen nur eine Möglichkeite vorgestellt.\n",
    "\n",
    "Um endlich mit den Daten zu arbeiten, wird das df noch einmal neu erzeugt."
   ]
  },
  {
   "cell_type": "code",
   "execution_count": 43,
   "metadata": {},
   "outputs": [
    {
     "name": "stdout",
     "output_type": "stream",
     "text": [
      "           Ware  Preis\n",
      "erste     Apfel    1.0\n",
      "zweite    Birne    1.5\n",
      "dritte   Melone    2.0\n",
      "vierte  Zitrone    3.0\n"
     ]
    }
   ],
   "source": [
    "df = pd.DataFrame({ \n",
    "    \"Ware\": [\"Apfel\", \"Birne\", \"Melone\", \"Zitrone\"],\n",
    "    \"Preis\": [1, 1.5, 2, 3]\n",
    "    },\n",
    "    index=[\"erste\", \"zweite\", \"dritte\", \"vierte\"]\n",
    ")\n",
    "print(df)"
   ]
  },
  {
   "cell_type": "markdown",
   "metadata": {},
   "source": [
    "**Cooles Zeug**\n",
    "\n",
    "Es gäbe eine Steuer auf Obst in höhe von 5%. "
   ]
  },
  {
   "cell_type": "code",
   "execution_count": 44,
   "metadata": {},
   "outputs": [
    {
     "name": "stdout",
     "output_type": "stream",
     "text": [
      "           Ware  Preis\n",
      "erste     Apfel  1.050\n",
      "zweite    Birne  1.575\n",
      "dritte   Melone  2.100\n",
      "vierte  Zitrone  3.150\n"
     ]
    }
   ],
   "source": [
    "df[\"Preis\"] = df[\"Preis\"]*1.05 # df[\"Preis\"] muss überschrieben werden. Ansonsten ist die Änderung unwirksam\n",
    "print(df)"
   ]
  },
  {
   "cell_type": "markdown",
   "metadata": {},
   "source": [
    "Uns interessiert die Summe aller Preise, der Mittelwert, die Standardabweichung und die Varianz.\n",
    "\n",
    "*Remember: df[\"Preis\"] ist eine pd.series, daher kann es alles, was eine Serie kann.*"
   ]
  },
  {
   "cell_type": "code",
   "execution_count": 45,
   "metadata": {},
   "outputs": [
    {
     "name": "stdout",
     "output_type": "stream",
     "text": [
      "Summe:  7.875\n",
      "Mittel:  1.96875\n",
      "Std:  0.8966081920214649\n",
      "Var:  0.804\n"
     ]
    }
   ],
   "source": [
    "print(\"Summe: \", df[\"Preis\"].sum()) # hier wird nicht df[\"Preis\"] = df[\"Preis\"].sum() gemacht\n",
    "print(\"Mittel: \", df[\"Preis\"].mean()) # Die Änderung 'lebt' also nur innerhalb der Klammern von print\n",
    "print(\"Std: \", df[\"Preis\"].std())\n",
    "print(\"Var: \", round(df[\"Preis\"].var(), 3)) # rundet das Ergebnis auf 3 Nachkommastellen"
   ]
  },
  {
   "cell_type": "markdown",
   "metadata": {},
   "source": [
    "Wir möchten gerne wissen, welche Waren teurer als 2 Euro sind\n"
   ]
  },
  {
   "cell_type": "code",
   "execution_count": 46,
   "metadata": {},
   "outputs": [
    {
     "name": "stdout",
     "output_type": "stream",
     "text": [
      "erste     False\n",
      "zweite    False\n",
      "dritte     True\n",
      "vierte     True\n",
      "Name: Preis, dtype: bool\n"
     ]
    }
   ],
   "source": [
    "print( df[\"Preis\"] > 2 )"
   ]
  },
  {
   "cell_type": "markdown",
   "metadata": {},
   "source": [
    "Das ist unbefriedigend, da sich diese Tabelle nur schwer interpretieren lässt. Jedoch können wir den Output [False, False, True, True] nutzen, um genau diejenigen Einträge anzeigen zu lassen, die 'True' sind. Wie man am Name und dtype sehen kann, ist der Output der Abfrage (df[\"Preis\"] > 2) wieder eine pd.Serie , die den Datentyp 'bool' (Wahrheitswert) trägt. Die Indizes sind die gleichen wie im DF. Daher zeigt die folgende Abfrage alle Zeilen an, bei denen der jeweilige Index 'True' ist."
   ]
  },
  {
   "cell_type": "code",
   "execution_count": 47,
   "metadata": {},
   "outputs": [
    {
     "name": "stdout",
     "output_type": "stream",
     "text": [
      "Typ:\n",
      " <class 'pandas.core.series.Series'>\n",
      "\n",
      "Abfrage:\n",
      "            Ware  Preis\n",
      "dritte   Melone   2.10\n",
      "vierte  Zitrone   3.15\n"
     ]
    }
   ],
   "source": [
    "print(\"Typ:\\n\", type(df[\"Preis\"] > 2))\n",
    "print(\"\\nAbfrage:\\n\", df[df[\"Preis\"] > 2]) # quasi im Prinzip: df[\"erste\":False, ..., \"vierte\":True]"
   ]
  },
  {
   "cell_type": "markdown",
   "metadata": {},
   "source": [
    "Das gleiche geht auch mit Strings (Datentypen, verschachtelten Wahrheitstest, ...) um alle Waren, die den\n",
    "Substring \"one\" enthalten, anzuzeigen."
   ]
  },
  {
   "cell_type": "code",
   "execution_count": 48,
   "metadata": {},
   "outputs": [
    {
     "name": "stdout",
     "output_type": "stream",
     "text": [
      "           Ware  Preis\n",
      "dritte   Melone   2.10\n",
      "vierte  Zitrone   3.15\n"
     ]
    }
   ],
   "source": [
    "print(df[df[\"Ware\"].str.contains(\"one\")])"
   ]
  },
  {
   "cell_type": "markdown",
   "metadata": {},
   "source": [
    "Zwei nützliche interne-Pythonkommandos sind hier 'any' und 'all'. Sie geben 'True' oder 'False' wenn in einem gesamtem Datentyp irgeneines bzw. alle der enthaltenen Datenpunkte der Abfrage entspricht."
   ]
  },
  {
   "cell_type": "code",
   "execution_count": 49,
   "metadata": {},
   "outputs": [
    {
     "name": "stdout",
     "output_type": "stream",
     "text": [
      "Die Abfrage ergibt eine boolean-Serie:\n",
      " erste     False\n",
      "zweite    False\n",
      "dritte     True\n",
      "vierte     True\n",
      "Name: Ware, dtype: bool\n",
      "\n",
      "Sind alle wahr?:\n",
      " False\n",
      "\n",
      "Ist mindestens einer wahr?:\n",
      " True\n"
     ]
    }
   ],
   "source": [
    "abfrage = df[\"Ware\"].str.contains(\"one\")\n",
    "print(\"Die Abfrage ergibt eine boolean-Serie:\\n\", abfrage)\n",
    "print(\"\\nSind alle wahr?:\\n\", all(abfrage))\n",
    "print(\"\\nIst mindestens einer wahr?:\\n\", any(abfrage))\n"
   ]
  },
  {
   "cell_type": "markdown",
   "metadata": {},
   "source": [
    "Sollen die Werte einer Spalte von einen Wert zu einem anderen transformiert werden, abhängig davon was der aktuelle Wert ist, dann lässt sich das mit der 'map'-Methode bewerkstelligen."
   ]
  },
  {
   "cell_type": "code",
   "execution_count": 56,
   "metadata": {},
   "outputs": [
    {
     "name": "stdout",
     "output_type": "stream",
     "text": [
      "erste     Ohne Einsen\n",
      "zweite    Ohne Einsen\n",
      "dritte     Mit Einsen\n",
      "vierte     Mit Einsen\n",
      "Name: Ware, dtype: object\n"
     ]
    }
   ],
   "source": [
    "print(abfrage.map({False: \"Ohne Einsen\", True: \"Mit Einsen\"}))"
   ]
  },
  {
   "cell_type": "markdown",
   "metadata": {},
   "source": [
    "**Plotten**\n",
    "\n",
    "Wir nutzen aus, dass \n",
    "a) df[Spaltenname] eine Serie ergibt und diese von Python bei Bedarf automatisch in ein 1D-Array umgewandelt wird"
   ]
  },
  {
   "cell_type": "code",
   "execution_count": 50,
   "metadata": {},
   "outputs": [
    {
     "data": {
      "text/plain": [
       "[<matplotlib.lines.Line2D at 0x25f4d9d0288>]"
      ]
     },
     "execution_count": 50,
     "metadata": {},
     "output_type": "execute_result"
    },
    {
     "data": {
      "image/png": "[encoded data removed]",
      "text/plain": [
       "<Figure size 432x288 with 1 Axes>"
      ]
     },
     "metadata": {
      "needs_background": "light"
     },
     "output_type": "display_data"
    }
   ],
   "source": [
    "import matplotlib.pyplot as plt\n",
    "\n",
    "fig, ax = plt.subplots() # eine von mehreren Möglichkeiten Matplolib zu verwenden: Erstelle Figur und Subplot\n",
    "ax.set_xlabel(\"Obst\") # setze x-Labels\n",
    "ax.set_ylabel(\"Preis in Euro\") # setze y-Labels\n",
    "ax.plot(df[\"Ware\"], df[\"Preis\"]) # plotte x, y"
   ]
  },
  {
   "cell_type": "markdown",
   "metadata": {},
   "source": [
    "**Plotten (2)**\n",
    "\n",
    "Wir nutzen weiterhin aus, dass \n",
    "b) df[Spaltenname]*100 nur temporär alle Einträge der Spalte mit 100 multipliziert. Das originale DataFrame bleibt unverändert"
   ]
  },
  {
   "cell_type": "code",
   "execution_count": 51,
   "metadata": {},
   "outputs": [
    {
     "data": {
      "text/plain": [
       "[<matplotlib.lines.Line2D at 0x25f4da2e508>]"
      ]
     },
     "execution_count": 51,
     "metadata": {},
     "output_type": "execute_result"
    },
    {
     "data": {
      "image/png": "[encoded data removed]",
      "text/plain": [
       "<Figure size 432x288 with 1 Axes>"
      ]
     },
     "metadata": {
      "needs_background": "light"
     },
     "output_type": "display_data"
    }
   ],
   "source": [
    "umrechnung = 135.93 # 1 Euro sind 135.93 Japanische Yen\n",
    "fig, ax = plt.subplots()\n",
    "ax.set_xlabel(\"Obst\")\n",
    "ax.set_ylabel(\"Preis in Yen\")\n",
    "ax.plot(df[\"Ware\"], df[\"Preis\"]*umrechnung)"
   ]
  },
  {
   "cell_type": "markdown",
   "metadata": {},
   "source": [
    "Das gleiche geht auch mit auf 1 normierten Preisen"
   ]
  },
  {
   "cell_type": "code",
   "execution_count": 52,
   "metadata": {},
   "outputs": [
    {
     "name": "stdout",
     "output_type": "stream",
     "text": [
      "Mittelwert der normierten Preise:  1.0\n"
     ]
    },
    {
     "data": {
      "image/png": "[encoded data removed]",
      "text/plain": [
       "<Figure size 432x288 with 1 Axes>"
      ]
     },
     "metadata": {
      "needs_background": "light"
     },
     "output_type": "display_data"
    }
   ],
   "source": [
    "fig, ax = plt.subplots()\n",
    "ax.set_xlabel(\"Obst\")\n",
    "ax.set_ylabel(\"Relative Preise\")\n",
    "ax.plot(df[\"Ware\"], df[\"Preis\"]/df[\"Preis\"].mean())\n",
    "\n",
    "# zur Kontrolle: Der Mittelwert der normierten Preise ist 1\n",
    "print(\n",
    "    \"Mittelwert der normierten Preise: \",\n",
    "    (df[\"Preis\"]/df[\"Preis\"].mean()).mean()\n",
    ")"
   ]
  },
  {
   "cell_type": "markdown",
   "metadata": {},
   "source": [
    "Als letztes soll der Dataframe gespeichert werden. Dies kann u.a. als Text, als csv oder als Excel-Tabelle geschehen."
   ]
  },
  {
   "cell_type": "code",
   "execution_count": 53,
   "metadata": {},
   "outputs": [
    {
     "name": "stdout",
     "output_type": "stream",
     "text": [
      "           Ware  Preis\n",
      "erste     Apfel  1.050\n",
      "zweite    Birne  1.575\n",
      "dritte   Melone  2.100\n",
      "vierte  Zitrone  3.150\n",
      "\n",
      " Schlecht:\n",
      "                          ;Ware;Preis\n",
      "0                   erste;Apfel;1.05\n",
      "1    zweite;Birne;1.5750000000000002\n",
      "2                  dritte;Melone;2.1\n",
      "3  vierte;Zitrone;3.1500000000000004\n"
     ]
    }
   ],
   "source": [
    "#pfad = \"test_tabelle.csv\" # Achtung! Nur Unkommentieren und Zelle ausführen, wenn ihr keine wichtigen Daten mit dem Namen in pfad besitzt\n",
    "df.to_csv(pfad, sep=\";\") # sep trennt die Einträge mit Semikolons\n",
    "# Laden\n",
    "df_geladen = pd.read_csv(pfad, sep=\";\", index_col=0) # sep spezifiziert, wie die Einträge getrennt werden und\n",
    "# index_col gibt die Spaltennummer derjenigen Spalte an, die als Index und nicht als Einträge angeshen werden sollen\n",
    "print(df_geladen)\n",
    "df_schlechtgeladen = pd.read_csv(pfad, sep=\" \") # erwartet Leerzeichentrennung. Indizes gehen default auf [0,1,..] \n",
    "print(\"\\n Schlecht:\\n\", df_schlechtgeladen)\n",
    "\n",
    "# Lösche die Tabelle wieder\n",
    "import os\n",
    "os.remove(pfad)"
   ]
  },
  {
   "cell_type": "markdown",
   "metadata": {},
   "source": [
    "\n",
    "\n",
    "Damit ist der Panda Crash-Curs beendet. Es gibt unzählige weitere Funtionen, die vor allem in Kombination mit den np.arrays\n",
    "komplizierte Datentransformationen in nur wenigen Zeilen ermöglichen. Ist eine Exceltabelle einmal als df eingelesen, so lässt sich schnell deskriptive Statistik damit machen. Mit den Abfragen und matplotlib lässt sich schnell eine Auswahl plotten.\n",
    "\n",
    "Das schöne hierbei ist: Wenn das Pythonscript einmal steht (Achsenbeschriftungen, Schriftgrößen, Abfragen vom df etc.), dann werden neue Daten aus bspw. weiteren Messungen nach Wünschen behandelt. Lediglich der Pfad zur neuen Exceltabelle muss geändert werden. So werden verglichen mit Word und Excel schönere Plots schneller mit weniger Frustration erhalten. "
   ]
  }
 ],
 "metadata": {
  "interpreter": {
   "hash": "09479eb26e9c2dfedc5b750a5f4404419e7e88fc081728cd256fd3e13a96b5b1"
  },
  "kernelspec": {
   "display_name": "Python 3.7.6 ('base')",
   "language": "python",
   "name": "python3"
  },
  "language_info": {
   "codemirror_mode": {
    "name": "ipython",
    "version": 3
   },
   "file_extension": ".py",
   "mimetype": "text/x-python",
   "name": "python",
   "nbconvert_exporter": "python",
   "pygments_lexer": "ipython3",
   "version": "3.7.6"
  },
  "orig_nbformat": 4
 },
 "nbformat": 4,
 "nbformat_minor": 2
}
