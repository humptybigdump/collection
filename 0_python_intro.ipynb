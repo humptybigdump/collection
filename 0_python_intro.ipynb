{
 "cells": [
  {
   "cell_type": "markdown",
   "metadata": {},
   "source": [
    "# Data Analysis in Geoscience Remote Sensing Projects: Exercises - 0\n",
    "## Introduction to python: basic functionality, packages and visualizations\n",
    "Hendrik Andersen, contact: hendrik.andersen@kit.edu "
   ]
  },
  {
   "cell_type": "markdown",
   "metadata": {},
   "source": [
    "### Defining variables\n",
    "In python, it is easy to define variables, with which you can then continue to work.\n",
    "To comment your script, you can use the '#' symbol "
   ]
  },
  {
   "cell_type": "code",
   "execution_count": 1,
   "metadata": {},
   "outputs": [
    {
     "data": {
      "text/plain": [
       "11"
      ]
     },
     "execution_count": 1,
     "metadata": {},
     "output_type": "execute_result"
    }
   ],
   "source": [
    "x = 11 # define x to be an integer \n",
    "x"
   ]
  },
  {
   "cell_type": "code",
   "execution_count": 2,
   "metadata": {},
   "outputs": [
    {
     "data": {
      "text/plain": [
       "int"
      ]
     },
     "execution_count": 2,
     "metadata": {},
     "output_type": "execute_result"
    }
   ],
   "source": [
    "type(x)"
   ]
  },
  {
   "cell_type": "code",
   "execution_count": 3,
   "metadata": {},
   "outputs": [
    {
     "data": {
      "text/plain": [
       "22.21"
      ]
     },
     "execution_count": 3,
     "metadata": {},
     "output_type": "execute_result"
    }
   ],
   "source": [
    "y = 22.21  # define y to be a float \n",
    "y"
   ]
  },
  {
   "cell_type": "code",
   "execution_count": 4,
   "metadata": {},
   "outputs": [
    {
     "data": {
      "text/plain": [
       "float"
      ]
     },
     "execution_count": 4,
     "metadata": {},
     "output_type": "execute_result"
    }
   ],
   "source": [
    "type(y)"
   ]
  },
  {
   "cell_type": "code",
   "execution_count": 5,
   "metadata": {},
   "outputs": [
    {
     "data": {
      "text/plain": [
       "'hello12'"
      ]
     },
     "execution_count": 5,
     "metadata": {},
     "output_type": "execute_result"
    }
   ],
   "source": [
    "f = \"hello12\" # define f to be a string; strings can be defined with \"hello\", 'hello', or str('hello')\n",
    "f"
   ]
  },
  {
   "cell_type": "code",
   "execution_count": 6,
   "metadata": {},
   "outputs": [
    {
     "data": {
      "text/plain": [
       "str"
      ]
     },
     "execution_count": 6,
     "metadata": {},
     "output_type": "execute_result"
    }
   ],
   "source": [
    "type(f)"
   ]
  },
  {
   "cell_type": "code",
   "execution_count": 7,
   "metadata": {},
   "outputs": [
    {
     "data": {
      "text/plain": [
       "'l'"
      ]
     },
     "execution_count": 7,
     "metadata": {},
     "output_type": "execute_result"
    }
   ],
   "source": [
    "f[2] # indexing (selecting a specific position in a string/list/array) with square brackets '[]'\n",
    "     # --> here, the 3rd value in the string f is printed (counting begins at 0 in python)"
   ]
  },
  {
   "cell_type": "code",
   "execution_count": 8,
   "metadata": {},
   "outputs": [
    {
     "data": {
      "text/plain": [
       "True"
      ]
     },
     "execution_count": 8,
     "metadata": {},
     "output_type": "execute_result"
    }
   ],
   "source": [
    "2 == 2"
   ]
  },
  {
   "cell_type": "markdown",
   "metadata": {},
   "source": [
    "### Packages, modules and functions\n",
    "In python, a wealth of pre-built functions exist that make working with scientific data very easy. Typically, functions are contained in modules. To call a function that is contained in a module, one needs to import the module first. Then, the syntax to call a function within a module is: \n",
    "\n",
    "module.function(arguments)\n",
    "\n",
    "where the arguments are additional information to specify the call of the function. Some functions in python are built-in, and do not need to be imported via a module. For example, the built-in function print() prints out the numbers/text given as an argument. "
   ]
  },
  {
   "cell_type": "code",
   "execution_count": 9,
   "metadata": {},
   "outputs": [
    {
     "name": "stdout",
     "output_type": "stream",
     "text": [
      "244.31\n"
     ]
    }
   ],
   "source": [
    "# do some calculations ...\n",
    "z = x*y\n",
    "print(z)"
   ]
  },
  {
   "cell_type": "markdown",
   "metadata": {},
   "source": [
    "### Lists\n",
    "In python, you can store numbers, text, or other objects as sequences conveniently in lists. To do this, place all the elements inside square brackets [], separated by commas. Lists are very flexible, so you can store different data types together in one list (e.g. string, integer, float). Lists are always 1-dimensional (alle values in a sequence)"
   ]
  },
  {
   "cell_type": "code",
   "execution_count": 10,
   "metadata": {},
   "outputs": [
    {
     "data": {
      "text/plain": [
       "[3, 6, 5, 17, 9, 2, 8]"
      ]
     },
     "execution_count": 10,
     "metadata": {},
     "output_type": "execute_result"
    }
   ],
   "source": [
    "l_1 = [3,6,5,17,9,2,8]  \n",
    "l_1"
   ]
  },
  {
   "cell_type": "code",
   "execution_count": 11,
   "metadata": {},
   "outputs": [
    {
     "data": {
      "text/plain": [
       "list"
      ]
     },
     "execution_count": 11,
     "metadata": {},
     "output_type": "execute_result"
    }
   ],
   "source": [
    "type(l_1)"
   ]
  },
  {
   "cell_type": "code",
   "execution_count": 12,
   "metadata": {},
   "outputs": [
    {
     "data": {
      "text/plain": [
       "[11, 22.21, 'hello12', 244.31, 4.5102]"
      ]
     },
     "execution_count": 12,
     "metadata": {},
     "output_type": "execute_result"
    }
   ],
   "source": [
    "l_2 = [x,y,f,z,4.5102] # Lists can handle different data types\n",
    "l_2"
   ]
  },
  {
   "cell_type": "code",
   "execution_count": 13,
   "metadata": {},
   "outputs": [
    {
     "data": {
      "text/plain": [
       "[[3, 6, 5, 17, 9, 2, 8], [11, 22.21, 'hello12', 244.31, 4.5102], 4.5102]"
      ]
     },
     "execution_count": 13,
     "metadata": {},
     "output_type": "execute_result"
    }
   ],
   "source": [
    "l_3 = [l_1,l_2,l_2[4]] # Lists can also contain further lists\n",
    "l_3"
   ]
  },
  {
   "cell_type": "code",
   "execution_count": 14,
   "metadata": {},
   "outputs": [
    {
     "data": {
      "text/plain": [
       "4.5102"
      ]
     },
     "execution_count": 14,
     "metadata": {},
     "output_type": "execute_result"
    }
   ],
   "source": [
    "l_3[-1] # select the last element of the list with [-1]"
   ]
  },
  {
   "cell_type": "markdown",
   "metadata": {},
   "source": [
    "### Numpy and Arrays\n",
    "In programming, an array is a collection of elements of the same type. This makes them less flexible than a list, however, arrays are designed to be multidimensional, making them a powerful way to store geoscientific data (e.g. can represent temporal and spatial axes).\n",
    "The package 'numpy' is a very popular toolset for efficient scientific processing. It contains basic functions to work with arrays, but also contains complex modules designed to do very specific things (see below).\n",
    "\n",
    "For additional resources on numpy, there are excellent tutorials on the official webpage (https://numpy.org/doc/stable/user/absolute_beginners.html), on youtube (https://www.youtube.com/results?search_query=introduction+numpy) and many other places on the internet. If you have a specific question on a function check out the official help, but often, stackoverflow is a valuable resource as well."
   ]
  },
  {
   "cell_type": "code",
   "execution_count": 15,
   "metadata": {},
   "outputs": [
    {
     "data": {
      "text/plain": [
       "array([0., 0., 0., 0., 0., 0., 0., 0., 0., 0.])"
      ]
     },
     "execution_count": 15,
     "metadata": {},
     "output_type": "execute_result"
    }
   ],
   "source": [
    "import numpy as np # import the package numpy as np so that you can call it with np.function\n",
    "a_0 = np.zeros(10) # create numpy array with 10 elements, all zeros\n",
    "a_0"
   ]
  },
  {
   "cell_type": "code",
   "execution_count": 16,
   "metadata": {},
   "outputs": [
    {
     "data": {
      "text/plain": [
       "numpy.float64"
      ]
     },
     "execution_count": 16,
     "metadata": {},
     "output_type": "execute_result"
    }
   ],
   "source": [
    "type(a_0[0])"
   ]
  },
  {
   "cell_type": "code",
   "execution_count": 17,
   "metadata": {},
   "outputs": [
    {
     "data": {
      "text/plain": [
       "numpy.int64"
      ]
     },
     "execution_count": 17,
     "metadata": {},
     "output_type": "execute_result"
    }
   ],
   "source": [
    "a_1 = np.array([4,5,6,7,8]) # create a numpy array with a list of integers\n",
    "type(a_1[0])"
   ]
  },
  {
   "cell_type": "code",
   "execution_count": 18,
   "metadata": {},
   "outputs": [
    {
     "data": {
      "text/plain": [
       "array([0.97304512, 0.4503871 , 0.47863661, 0.41835059, 0.17141134,\n",
       "       0.23317128])"
      ]
     },
     "execution_count": 18,
     "metadata": {},
     "output_type": "execute_result"
    }
   ],
   "source": [
    "a_2 = np.random.rand(6) # create an array with random numbers. This uses the function rand(), contained in the module random.\n",
    "a_2"
   ]
  },
  {
   "cell_type": "code",
   "execution_count": 19,
   "metadata": {},
   "outputs": [
    {
     "name": "stdout",
     "output_type": "stream",
     "text": [
      "a_2:  (3, 2)\n",
      "a_3:  (5, 3)\n"
     ]
    }
   ],
   "source": [
    "a_2 = a_2.reshape(3,2)\n",
    "a_3 = np.random.rand(5,3) # create a two dimensional array (5 rows x 3 columns)\n",
    "print(\"a_2: \", a_2.shape)\n",
    "print(\"a_3: \" ,a_3.shape)\n"
   ]
  },
  {
   "cell_type": "markdown",
   "metadata": {},
   "source": [
    "__Task 1__\n",
    "1. Create an array named 'arr_1d' that is a vector (1D) and consists of 1000 random numbers.\n",
    "2. Reshape 'arr_1d' so that it has the shape (100,10) and save it in an array named 'arr_2d'\n",
    "3. Reshape 'arr_1d' so that it has the shape (10,10,10) and save it in an array named 'arr_3d'"
   ]
  },
  {
   "cell_type": "markdown",
   "metadata": {},
   "source": [
    "### Finding help\n",
    "It is recommended to check out the official help to learn more about functions etc. There are many ways to do this. An easy way is of course to search for a function (e.g. numpy.random.rand()) online. This will get you immediately to the official documentation of the function in numpy (https://numpy.org/doc/stable/reference/random/generated/numpy.random.rand.html). In Jupyter-lab, however, you can access this documentation more conveniently by inline commands as shown below, or by using the 'Help' in the menu bar at the top of the Jupyter-lab interface."
   ]
  },
  {
   "cell_type": "code",
   "execution_count": 20,
   "metadata": {},
   "outputs": [
    {
     "name": "stdout",
     "output_type": "stream",
     "text": [
      "Help on built-in function rand:\n",
      "\n",
      "rand(...) method of numpy.random.mtrand.RandomState instance\n",
      "    rand(d0, d1, ..., dn)\n",
      "    \n",
      "    Random values in a given shape.\n",
      "    \n",
      "    .. note::\n",
      "        This is a convenience function for users porting code from Matlab,\n",
      "        and wraps `random_sample`. That function takes a\n",
      "        tuple to specify the size of the output, which is consistent with\n",
      "        other NumPy functions like `numpy.zeros` and `numpy.ones`.\n",
      "    \n",
      "    Create an array of the given shape and populate it with\n",
      "    random samples from a uniform distribution\n",
      "    over ``[0, 1)``.\n",
      "    \n",
      "    Parameters\n",
      "    ----------\n",
      "    d0, d1, ..., dn : int, optional\n",
      "        The dimensions of the returned array, must be non-negative.\n",
      "        If no argument is given a single Python float is returned.\n",
      "    \n",
      "    Returns\n",
      "    -------\n",
      "    out : ndarray, shape ``(d0, d1, ..., dn)``\n",
      "        Random values.\n",
      "    \n",
      "    See Also\n",
      "    --------\n",
      "    random\n",
      "    \n",
      "    Examples\n",
      "    --------\n",
      "    >>> np.random.rand(3,2)\n",
      "    array([[ 0.14022471,  0.96360618],  #random\n",
      "           [ 0.37601032,  0.25528411],  #random\n",
      "           [ 0.49313049,  0.94909878]]) #random\n",
      "\n"
     ]
    }
   ],
   "source": [
    "help(np.random.rand)"
   ]
  },
  {
   "cell_type": "markdown",
   "metadata": {},
   "source": [
    "### Reading and writing data\n",
    "Data can of course be stored and loaded. In numpy, but also in other modules/packages there are many functions to do this. "
   ]
  },
  {
   "cell_type": "code",
   "execution_count": 21,
   "metadata": {},
   "outputs": [
    {
     "data": {
      "text/plain": [
       "array([[0.10962306, 0.28394801, 0.23065641],\n",
       "       [0.53663599, 0.19964353, 0.06836389],\n",
       "       [0.70564041, 0.16395551, 0.03009485],\n",
       "       [0.87811689, 0.34014233, 0.05065973],\n",
       "       [0.12989095, 0.58502791, 0.29046624]])"
      ]
     },
     "execution_count": 21,
     "metadata": {},
     "output_type": "execute_result"
    }
   ],
   "source": [
    "np.savetxt(fname = 'normal.csv', X=a_3) # store the array a_3 to a file called normal.csv\n",
    "a_4 = np.loadtxt(fname = 'normal.csv') # np.genfromtxt() also works here\n",
    "a_4"
   ]
  },
  {
   "cell_type": "markdown",
   "metadata": {},
   "source": [
    "### Plotting data\n",
    "The module matplotlib.pyplot contains a wealth of funktions to create publication-quality plots from your data.\n",
    "Options are e.g. line plots, scatter plots, histograms, bar plots, 2D plots, 3D plots, maps, ...\n",
    "Get some inspiration from examples in the matplotlib gallery: https://matplotlib.org/3.1.1/gallery/index.html"
   ]
  },
  {
   "cell_type": "code",
   "execution_count": 22,
   "metadata": {},
   "outputs": [
    {
     "data": {
      "image/png": "[encoded data removed]",
      "text/plain": [
       "<Figure size 640x480 with 1 Axes>"
      ]
     },
     "metadata": {},
     "output_type": "display_data"
    }
   ],
   "source": [
    "import matplotlib.pyplot as plt\n",
    "# activate inline plotting within jupyterlab\n",
    "%matplotlib inline\n",
    "\n",
    "plt.plot(l_1) # call the function plot of the module matplotlib.pyplot to plot the list l_1\n",
    "plt.show()"
   ]
  },
  {
   "cell_type": "code",
   "execution_count": 23,
   "metadata": {},
   "outputs": [
    {
     "data": {
      "image/png": "[encoded data removed]",
      "text/plain": [
       "<Figure size 640x480 with 1 Axes>"
      ]
     },
     "metadata": {},
     "output_type": "display_data"
    }
   ],
   "source": [
    "x = np.arange(0, 10, 0.1) # check out the help to understand what happens here with np.arange() \n",
    "y = np.sin(x) # check out the help to understand what np.sin() does\n",
    "plt.plot(x, y) # here, the x-axis values are defined by x, instead of using the index of y (as with lists earlier)\n",
    "plt.show()"
   ]
  },
  {
   "cell_type": "code",
   "execution_count": 24,
   "metadata": {},
   "outputs": [
    {
     "data": {
      "image/png": "[encoded data removed]",
      "text/plain": [
       "<Figure size 640x480 with 1 Axes>"
      ]
     },
     "metadata": {},
     "output_type": "display_data"
    }
   ],
   "source": [
    "plt.plot(a_3) # plot multiple lines along the columns of the 2D array a_3\n",
    "plt.show()"
   ]
  },
  {
   "cell_type": "code",
   "execution_count": 25,
   "metadata": {},
   "outputs": [
    {
     "data": {
      "image/png": "[encoded data removed]",
      "text/plain": [
       "<Figure size 640x480 with 2 Axes>"
      ]
     },
     "metadata": {},
     "output_type": "display_data"
    }
   ],
   "source": [
    "plt.imshow(a_3) # you can also plot this array as a two dimensional plot with a color representing the values\n",
    "plt.colorbar(label='values [unitless]')\n",
    "plt.show()"
   ]
  },
  {
   "cell_type": "code",
   "execution_count": 26,
   "metadata": {},
   "outputs": [
    {
     "data": {
      "image/png": "[encoded data removed]",
      "text/plain": [
       "<Figure size 640x480 with 1 Axes>"
      ]
     },
     "metadata": {},
     "output_type": "display_data"
    }
   ],
   "source": [
    "a_4 = np.random.rand(10000) # create an array with 10000 randomly drawn numbers\n",
    "plt.hist(a_4)  # ... and plot a histogram\n",
    "plt.show()"
   ]
  },
  {
   "cell_type": "code",
   "execution_count": 27,
   "metadata": {},
   "outputs": [
    {
     "data": {
      "image/png": "[encoded data removed]",
      "text/plain": [
       "<Figure size 640x480 with 1 Axes>"
      ]
     },
     "metadata": {},
     "output_type": "display_data"
    }
   ],
   "source": [
    "a_5 = np.random.randn(10000) # create another array with 10000 randomly drawn numbers \n",
    "plt.hist(a_5) # ... and plot another histogram\n",
    "plt.show()"
   ]
  },
  {
   "cell_type": "markdown",
   "metadata": {},
   "source": [
    "__Task 2__ \\\n",
    "4. Find out using the help of np.random: What kind of distribution underlies arrays a_4 and a_5?\\\n",
    "5. Find out using the help of np.random: What is the correct function to generate random data of a “discrete uniform” distribution?\\\n",
    "6. Generate a scatter plot of a_4 and a_5. Check out the help and try to find a way that visually accounts for the overlapping of points (there are multiple ways to do this).\\\n",
    "\n",
    "Change the look of the plots (search the official help of the function or search online for help):\\\n",
    "7. Use a different colormap for the imshow figure and set its colorbar range to 0.2-0.8.\\\n",
    "8. Change the color, linewidth and linestyle of a line plot.\\\n",
    "9. Create a title and label the x and y axes of one figure.\\"
   ]
  },
  {
   "cell_type": "markdown",
   "metadata": {},
   "source": [
    "### Pandas\n",
    "Pandas is another extremely useful package for geoscientific data analyses. It has a slightly different concept than numpy, as it works with 'dataframes' that have an integrated functionality to conveniently work with time series.\n",
    "\n",
    "As with numpy, there are many valuable online resources that make it easy to learn more about Pandas. Look for yourself! "
   ]
  },
  {
   "cell_type": "code",
   "execution_count": 28,
   "metadata": {},
   "outputs": [
    {
     "name": "stderr",
     "output_type": "stream",
     "text": [
      "/var/folders/t6/5_9wb5l977x88ky4d3sq3tnc0000gn/T/ipykernel_3016/241308991.py:10: UserWarning: Could not infer format, so each element will be parsed individually, falling back to `dateutil`. To ensure parsing is consistent and as-expected, please specify a format.\n",
      "  df = pd.read_csv('Fremont.csv', index_col='Date', parse_dates=True) # Can you see the difference in the two data loading routines?\n"
     ]
    },
    {
     "data": {
      "text/html": [
       "<div>\n",
       "<style scoped>\n",
       "    .dataframe tbody tr th:only-of-type {\n",
       "        vertical-align: middle;\n",
       "    }\n",
       "\n",
       "    .dataframe tbody tr th {\n",
       "        vertical-align: top;\n",
       "    }\n",
       "\n",
       "    .dataframe thead th {\n",
       "        text-align: right;\n",
       "    }\n",
       "</style>\n",
       "<table border=\"1\" class=\"dataframe\">\n",
       "  <thead>\n",
       "    <tr style=\"text-align: right;\">\n",
       "      <th></th>\n",
       "      <th>Fremont Bridge Sidewalks, south of N 34th St</th>\n",
       "      <th>Fremont Bridge Sidewalks, south of N 34th St Cyclist West Sidewalk</th>\n",
       "      <th>Fremont Bridge Sidewalks, south of N 34th St Cyclist East Sidewalk</th>\n",
       "    </tr>\n",
       "    <tr>\n",
       "      <th>Date</th>\n",
       "      <th></th>\n",
       "      <th></th>\n",
       "      <th></th>\n",
       "    </tr>\n",
       "  </thead>\n",
       "  <tbody>\n",
       "    <tr>\n",
       "      <th>2012-10-02 13:00:00</th>\n",
       "      <td>55.0</td>\n",
       "      <td>7.0</td>\n",
       "      <td>48.0</td>\n",
       "    </tr>\n",
       "    <tr>\n",
       "      <th>2012-10-02 14:00:00</th>\n",
       "      <td>130.0</td>\n",
       "      <td>55.0</td>\n",
       "      <td>75.0</td>\n",
       "    </tr>\n",
       "    <tr>\n",
       "      <th>2012-10-02 15:00:00</th>\n",
       "      <td>152.0</td>\n",
       "      <td>81.0</td>\n",
       "      <td>71.0</td>\n",
       "    </tr>\n",
       "    <tr>\n",
       "      <th>2012-10-02 16:00:00</th>\n",
       "      <td>278.0</td>\n",
       "      <td>167.0</td>\n",
       "      <td>111.0</td>\n",
       "    </tr>\n",
       "    <tr>\n",
       "      <th>2012-10-02 17:00:00</th>\n",
       "      <td>563.0</td>\n",
       "      <td>393.0</td>\n",
       "      <td>170.0</td>\n",
       "    </tr>\n",
       "  </tbody>\n",
       "</table>\n",
       "</div>"
      ],
      "text/plain": [
       "                     Fremont Bridge Sidewalks, south of N 34th St  \\\n",
       "Date                                                                \n",
       "2012-10-02 13:00:00                                          55.0   \n",
       "2012-10-02 14:00:00                                         130.0   \n",
       "2012-10-02 15:00:00                                         152.0   \n",
       "2012-10-02 16:00:00                                         278.0   \n",
       "2012-10-02 17:00:00                                         563.0   \n",
       "\n",
       "                     Fremont Bridge Sidewalks, south of N 34th St Cyclist West Sidewalk  \\\n",
       "Date                                                                                      \n",
       "2012-10-02 13:00:00                                                7.0                    \n",
       "2012-10-02 14:00:00                                               55.0                    \n",
       "2012-10-02 15:00:00                                               81.0                    \n",
       "2012-10-02 16:00:00                                              167.0                    \n",
       "2012-10-02 17:00:00                                              393.0                    \n",
       "\n",
       "                     Fremont Bridge Sidewalks, south of N 34th St Cyclist East Sidewalk  \n",
       "Date                                                                                     \n",
       "2012-10-02 13:00:00                                               48.0                   \n",
       "2012-10-02 14:00:00                                               75.0                   \n",
       "2012-10-02 15:00:00                                               71.0                   \n",
       "2012-10-02 16:00:00                                              111.0                   \n",
       "2012-10-02 17:00:00                                              170.0                   "
      ]
     },
     "execution_count": 28,
     "metadata": {},
     "output_type": "execute_result"
    }
   ],
   "source": [
    "# You can easily download files with python as well, here we download an exemplary time series data set  \n",
    "URL = 'https://data.seattle.gov/api/views/65db-xm6k/rows.csv?accessType=DOWNLOAD'\n",
    "from urllib.request import urlretrieve\n",
    "urlretrieve(URL, 'Fremont.csv') \n",
    "\n",
    "# Read in data as pandas dataframe\n",
    "import pandas as pd \n",
    "df = pd.read_csv('Fremont.csv')\n",
    "# you can print the index column with 'df.index', and the column names with 'df.columns'\n",
    "df = pd.read_csv('Fremont.csv', index_col='Date', parse_dates=True) # Can you see the difference in the two data loading routines?\n",
    "df.head()# head() only shows the first 5 rows"
   ]
  },
  {
   "cell_type": "code",
   "execution_count": 40,
   "metadata": {},
   "outputs": [
    {
     "data": {
      "text/plain": [
       "Index(['total', 'west', 'east'], dtype='object')"
      ]
     },
     "execution_count": 40,
     "metadata": {},
     "output_type": "execute_result"
    }
   ],
   "source": [
    "df = df.rename(columns={\"Fremont Bridge Sidewalks, south of N 34th St\": \"total\", \n",
    "                        \"Fremont Bridge Sidewalks, south of N 34th St Cyclist East Sidewalk\": \"east\",\n",
    "                        \"Fremont Bridge Sidewalks, south of N 34th St Cyclist West Sidewalk\": \"west\"}) \n",
    "# for a clearer code, splitting it up in multiple lines can be very helpful\n",
    "df.columns # Now column names have been renamed for clarity"
   ]
  },
  {
   "cell_type": "markdown",
   "metadata": {},
   "source": [
    "### Different ways of indexing with Pandas"
   ]
  },
  {
   "cell_type": "code",
   "execution_count": 30,
   "metadata": {},
   "outputs": [
    {
     "data": {
      "text/plain": [
       "Timestamp('2012-10-02 17:00:00')"
      ]
     },
     "execution_count": 30,
     "metadata": {},
     "output_type": "execute_result"
    }
   ],
   "source": [
    "df.index[4]"
   ]
  },
  {
   "cell_type": "code",
   "execution_count": 32,
   "metadata": {},
   "outputs": [
    {
     "data": {
      "text/plain": [
       "Fremont Bridge Sidewalks, south of N 34th St                          130.0\n",
       "Fremont Bridge Sidewalks, south of N 34th St Cyclist West Sidewalk     55.0\n",
       "Fremont Bridge Sidewalks, south of N 34th St Cyclist East Sidewalk     75.0\n",
       "Name: 2012-10-02 14:00:00, dtype: float64"
      ]
     },
     "execution_count": 32,
     "metadata": {},
     "output_type": "execute_result"
    }
   ],
   "source": [
    "df.iloc[1] # iloc: indexing with the index (integer)"
   ]
  },
  {
   "cell_type": "code",
   "execution_count": 33,
   "metadata": {},
   "outputs": [
    {
     "data": {
      "text/plain": [
       "Fremont Bridge Sidewalks, south of N 34th St                          10.0\n",
       "Fremont Bridge Sidewalks, south of N 34th St Cyclist West Sidewalk     6.0\n",
       "Fremont Bridge Sidewalks, south of N 34th St Cyclist East Sidewalk     4.0\n",
       "Name: 2012-10-03 01:00:00, dtype: float64"
      ]
     },
     "execution_count": 33,
     "metadata": {},
     "output_type": "execute_result"
    }
   ],
   "source": [
    "df.loc['2012-10-03 01:00:00'] # loc: indexing with labels (here: a specific time) "
   ]
  },
  {
   "cell_type": "code",
   "execution_count": 34,
   "metadata": {},
   "outputs": [
    {
     "data": {
      "text/html": [
       "<div>\n",
       "<style scoped>\n",
       "    .dataframe tbody tr th:only-of-type {\n",
       "        vertical-align: middle;\n",
       "    }\n",
       "\n",
       "    .dataframe tbody tr th {\n",
       "        vertical-align: top;\n",
       "    }\n",
       "\n",
       "    .dataframe thead th {\n",
       "        text-align: right;\n",
       "    }\n",
       "</style>\n",
       "<table border=\"1\" class=\"dataframe\">\n",
       "  <thead>\n",
       "    <tr style=\"text-align: right;\">\n",
       "      <th></th>\n",
       "      <th>Fremont Bridge Sidewalks, south of N 34th St</th>\n",
       "      <th>Fremont Bridge Sidewalks, south of N 34th St Cyclist West Sidewalk</th>\n",
       "      <th>Fremont Bridge Sidewalks, south of N 34th St Cyclist East Sidewalk</th>\n",
       "    </tr>\n",
       "    <tr>\n",
       "      <th>Date</th>\n",
       "      <th></th>\n",
       "      <th></th>\n",
       "      <th></th>\n",
       "    </tr>\n",
       "  </thead>\n",
       "  <tbody>\n",
       "    <tr>\n",
       "      <th>2012-10-03 01:00:00</th>\n",
       "      <td>10.0</td>\n",
       "      <td>6.0</td>\n",
       "      <td>4.0</td>\n",
       "    </tr>\n",
       "    <tr>\n",
       "      <th>2012-10-03 02:00:00</th>\n",
       "      <td>2.0</td>\n",
       "      <td>1.0</td>\n",
       "      <td>1.0</td>\n",
       "    </tr>\n",
       "    <tr>\n",
       "      <th>2012-10-03 03:00:00</th>\n",
       "      <td>5.0</td>\n",
       "      <td>3.0</td>\n",
       "      <td>2.0</td>\n",
       "    </tr>\n",
       "    <tr>\n",
       "      <th>2012-10-03 04:00:00</th>\n",
       "      <td>7.0</td>\n",
       "      <td>1.0</td>\n",
       "      <td>6.0</td>\n",
       "    </tr>\n",
       "    <tr>\n",
       "      <th>2012-10-03 05:00:00</th>\n",
       "      <td>31.0</td>\n",
       "      <td>10.0</td>\n",
       "      <td>21.0</td>\n",
       "    </tr>\n",
       "    <tr>\n",
       "      <th>2012-10-03 06:00:00</th>\n",
       "      <td>155.0</td>\n",
       "      <td>50.0</td>\n",
       "      <td>105.0</td>\n",
       "    </tr>\n",
       "    <tr>\n",
       "      <th>2012-10-03 07:00:00</th>\n",
       "      <td>352.0</td>\n",
       "      <td>95.0</td>\n",
       "      <td>257.0</td>\n",
       "    </tr>\n",
       "    <tr>\n",
       "      <th>2012-10-03 08:00:00</th>\n",
       "      <td>437.0</td>\n",
       "      <td>146.0</td>\n",
       "      <td>291.0</td>\n",
       "    </tr>\n",
       "    <tr>\n",
       "      <th>2012-10-03 09:00:00</th>\n",
       "      <td>276.0</td>\n",
       "      <td>104.0</td>\n",
       "      <td>172.0</td>\n",
       "    </tr>\n",
       "    <tr>\n",
       "      <th>2012-10-03 10:00:00</th>\n",
       "      <td>118.0</td>\n",
       "      <td>46.0</td>\n",
       "      <td>72.0</td>\n",
       "    </tr>\n",
       "    <tr>\n",
       "      <th>2012-10-03 11:00:00</th>\n",
       "      <td>42.0</td>\n",
       "      <td>32.0</td>\n",
       "      <td>10.0</td>\n",
       "    </tr>\n",
       "    <tr>\n",
       "      <th>2012-10-03 12:00:00</th>\n",
       "      <td>76.0</td>\n",
       "      <td>41.0</td>\n",
       "      <td>35.0</td>\n",
       "    </tr>\n",
       "    <tr>\n",
       "      <th>2012-10-03 13:00:00</th>\n",
       "      <td>90.0</td>\n",
       "      <td>48.0</td>\n",
       "      <td>42.0</td>\n",
       "    </tr>\n",
       "    <tr>\n",
       "      <th>2012-10-03 14:00:00</th>\n",
       "      <td>128.0</td>\n",
       "      <td>51.0</td>\n",
       "      <td>77.0</td>\n",
       "    </tr>\n",
       "    <tr>\n",
       "      <th>2012-10-03 15:00:00</th>\n",
       "      <td>164.0</td>\n",
       "      <td>92.0</td>\n",
       "      <td>72.0</td>\n",
       "    </tr>\n",
       "    <tr>\n",
       "      <th>2012-10-03 16:00:00</th>\n",
       "      <td>315.0</td>\n",
       "      <td>182.0</td>\n",
       "      <td>133.0</td>\n",
       "    </tr>\n",
       "    <tr>\n",
       "      <th>2012-10-03 17:00:00</th>\n",
       "      <td>583.0</td>\n",
       "      <td>391.0</td>\n",
       "      <td>192.0</td>\n",
       "    </tr>\n",
       "    <tr>\n",
       "      <th>2012-10-03 18:00:00</th>\n",
       "      <td>380.0</td>\n",
       "      <td>258.0</td>\n",
       "      <td>122.0</td>\n",
       "    </tr>\n",
       "    <tr>\n",
       "      <th>2012-10-03 19:00:00</th>\n",
       "      <td>128.0</td>\n",
       "      <td>69.0</td>\n",
       "      <td>59.0</td>\n",
       "    </tr>\n",
       "    <tr>\n",
       "      <th>2012-10-03 20:00:00</th>\n",
       "      <td>80.0</td>\n",
       "      <td>51.0</td>\n",
       "      <td>29.0</td>\n",
       "    </tr>\n",
       "    <tr>\n",
       "      <th>2012-10-03 21:00:00</th>\n",
       "      <td>63.0</td>\n",
       "      <td>38.0</td>\n",
       "      <td>25.0</td>\n",
       "    </tr>\n",
       "    <tr>\n",
       "      <th>2012-10-03 22:00:00</th>\n",
       "      <td>49.0</td>\n",
       "      <td>25.0</td>\n",
       "      <td>24.0</td>\n",
       "    </tr>\n",
       "    <tr>\n",
       "      <th>2012-10-03 23:00:00</th>\n",
       "      <td>17.0</td>\n",
       "      <td>12.0</td>\n",
       "      <td>5.0</td>\n",
       "    </tr>\n",
       "    <tr>\n",
       "      <th>2012-10-04 00:00:00</th>\n",
       "      <td>18.0</td>\n",
       "      <td>11.0</td>\n",
       "      <td>7.0</td>\n",
       "    </tr>\n",
       "    <tr>\n",
       "      <th>2012-10-04 01:00:00</th>\n",
       "      <td>3.0</td>\n",
       "      <td>0.0</td>\n",
       "      <td>3.0</td>\n",
       "    </tr>\n",
       "  </tbody>\n",
       "</table>\n",
       "</div>"
      ],
      "text/plain": [
       "                     Fremont Bridge Sidewalks, south of N 34th St  \\\n",
       "Date                                                                \n",
       "2012-10-03 01:00:00                                          10.0   \n",
       "2012-10-03 02:00:00                                           2.0   \n",
       "2012-10-03 03:00:00                                           5.0   \n",
       "2012-10-03 04:00:00                                           7.0   \n",
       "2012-10-03 05:00:00                                          31.0   \n",
       "2012-10-03 06:00:00                                         155.0   \n",
       "2012-10-03 07:00:00                                         352.0   \n",
       "2012-10-03 08:00:00                                         437.0   \n",
       "2012-10-03 09:00:00                                         276.0   \n",
       "2012-10-03 10:00:00                                         118.0   \n",
       "2012-10-03 11:00:00                                          42.0   \n",
       "2012-10-03 12:00:00                                          76.0   \n",
       "2012-10-03 13:00:00                                          90.0   \n",
       "2012-10-03 14:00:00                                         128.0   \n",
       "2012-10-03 15:00:00                                         164.0   \n",
       "2012-10-03 16:00:00                                         315.0   \n",
       "2012-10-03 17:00:00                                         583.0   \n",
       "2012-10-03 18:00:00                                         380.0   \n",
       "2012-10-03 19:00:00                                         128.0   \n",
       "2012-10-03 20:00:00                                          80.0   \n",
       "2012-10-03 21:00:00                                          63.0   \n",
       "2012-10-03 22:00:00                                          49.0   \n",
       "2012-10-03 23:00:00                                          17.0   \n",
       "2012-10-04 00:00:00                                          18.0   \n",
       "2012-10-04 01:00:00                                           3.0   \n",
       "\n",
       "                     Fremont Bridge Sidewalks, south of N 34th St Cyclist West Sidewalk  \\\n",
       "Date                                                                                      \n",
       "2012-10-03 01:00:00                                                6.0                    \n",
       "2012-10-03 02:00:00                                                1.0                    \n",
       "2012-10-03 03:00:00                                                3.0                    \n",
       "2012-10-03 04:00:00                                                1.0                    \n",
       "2012-10-03 05:00:00                                               10.0                    \n",
       "2012-10-03 06:00:00                                               50.0                    \n",
       "2012-10-03 07:00:00                                               95.0                    \n",
       "2012-10-03 08:00:00                                              146.0                    \n",
       "2012-10-03 09:00:00                                              104.0                    \n",
       "2012-10-03 10:00:00                                               46.0                    \n",
       "2012-10-03 11:00:00                                               32.0                    \n",
       "2012-10-03 12:00:00                                               41.0                    \n",
       "2012-10-03 13:00:00                                               48.0                    \n",
       "2012-10-03 14:00:00                                               51.0                    \n",
       "2012-10-03 15:00:00                                               92.0                    \n",
       "2012-10-03 16:00:00                                              182.0                    \n",
       "2012-10-03 17:00:00                                              391.0                    \n",
       "2012-10-03 18:00:00                                              258.0                    \n",
       "2012-10-03 19:00:00                                               69.0                    \n",
       "2012-10-03 20:00:00                                               51.0                    \n",
       "2012-10-03 21:00:00                                               38.0                    \n",
       "2012-10-03 22:00:00                                               25.0                    \n",
       "2012-10-03 23:00:00                                               12.0                    \n",
       "2012-10-04 00:00:00                                               11.0                    \n",
       "2012-10-04 01:00:00                                                0.0                    \n",
       "\n",
       "                     Fremont Bridge Sidewalks, south of N 34th St Cyclist East Sidewalk  \n",
       "Date                                                                                     \n",
       "2012-10-03 01:00:00                                                4.0                   \n",
       "2012-10-03 02:00:00                                                1.0                   \n",
       "2012-10-03 03:00:00                                                2.0                   \n",
       "2012-10-03 04:00:00                                                6.0                   \n",
       "2012-10-03 05:00:00                                               21.0                   \n",
       "2012-10-03 06:00:00                                              105.0                   \n",
       "2012-10-03 07:00:00                                              257.0                   \n",
       "2012-10-03 08:00:00                                              291.0                   \n",
       "2012-10-03 09:00:00                                              172.0                   \n",
       "2012-10-03 10:00:00                                               72.0                   \n",
       "2012-10-03 11:00:00                                               10.0                   \n",
       "2012-10-03 12:00:00                                               35.0                   \n",
       "2012-10-03 13:00:00                                               42.0                   \n",
       "2012-10-03 14:00:00                                               77.0                   \n",
       "2012-10-03 15:00:00                                               72.0                   \n",
       "2012-10-03 16:00:00                                              133.0                   \n",
       "2012-10-03 17:00:00                                              192.0                   \n",
       "2012-10-03 18:00:00                                              122.0                   \n",
       "2012-10-03 19:00:00                                               59.0                   \n",
       "2012-10-03 20:00:00                                               29.0                   \n",
       "2012-10-03 21:00:00                                               25.0                   \n",
       "2012-10-03 22:00:00                                               24.0                   \n",
       "2012-10-03 23:00:00                                                5.0                   \n",
       "2012-10-04 00:00:00                                                7.0                   \n",
       "2012-10-04 01:00:00                                                3.0                   "
      ]
     },
     "execution_count": 34,
     "metadata": {},
     "output_type": "execute_result"
    }
   ],
   "source": [
    "df.loc['2012-10-03 01:00:00':'2012-10-04 01:00:00'] # loc: indexing with labels (here: a specific temporal range) "
   ]
  },
  {
   "cell_type": "code",
   "execution_count": 35,
   "metadata": {},
   "outputs": [
    {
     "data": {
      "text/html": [
       "<div>\n",
       "<style scoped>\n",
       "    .dataframe tbody tr th:only-of-type {\n",
       "        vertical-align: middle;\n",
       "    }\n",
       "\n",
       "    .dataframe tbody tr th {\n",
       "        vertical-align: top;\n",
       "    }\n",
       "\n",
       "    .dataframe thead th {\n",
       "        text-align: right;\n",
       "    }\n",
       "</style>\n",
       "<table border=\"1\" class=\"dataframe\">\n",
       "  <thead>\n",
       "    <tr style=\"text-align: right;\">\n",
       "      <th></th>\n",
       "      <th>Fremont Bridge Sidewalks, south of N 34th St</th>\n",
       "      <th>Fremont Bridge Sidewalks, south of N 34th St Cyclist West Sidewalk</th>\n",
       "      <th>Fremont Bridge Sidewalks, south of N 34th St Cyclist East Sidewalk</th>\n",
       "    </tr>\n",
       "    <tr>\n",
       "      <th>Date</th>\n",
       "      <th></th>\n",
       "      <th></th>\n",
       "      <th></th>\n",
       "    </tr>\n",
       "  </thead>\n",
       "  <tbody>\n",
       "    <tr>\n",
       "      <th>2012-10-03 01:00:00</th>\n",
       "      <td>10.0</td>\n",
       "      <td>6.0</td>\n",
       "      <td>4.0</td>\n",
       "    </tr>\n",
       "    <tr>\n",
       "      <th>2012-10-03 02:00:00</th>\n",
       "      <td>2.0</td>\n",
       "      <td>1.0</td>\n",
       "      <td>1.0</td>\n",
       "    </tr>\n",
       "    <tr>\n",
       "      <th>2012-10-03 03:00:00</th>\n",
       "      <td>5.0</td>\n",
       "      <td>3.0</td>\n",
       "      <td>2.0</td>\n",
       "    </tr>\n",
       "    <tr>\n",
       "      <th>2012-10-04 01:00:00</th>\n",
       "      <td>3.0</td>\n",
       "      <td>0.0</td>\n",
       "      <td>3.0</td>\n",
       "    </tr>\n",
       "    <tr>\n",
       "      <th>2012-10-04 02:00:00</th>\n",
       "      <td>9.0</td>\n",
       "      <td>6.0</td>\n",
       "      <td>3.0</td>\n",
       "    </tr>\n",
       "  </tbody>\n",
       "</table>\n",
       "</div>"
      ],
      "text/plain": [
       "                     Fremont Bridge Sidewalks, south of N 34th St  \\\n",
       "Date                                                                \n",
       "2012-10-03 01:00:00                                          10.0   \n",
       "2012-10-03 02:00:00                                           2.0   \n",
       "2012-10-03 03:00:00                                           5.0   \n",
       "2012-10-04 01:00:00                                           3.0   \n",
       "2012-10-04 02:00:00                                           9.0   \n",
       "\n",
       "                     Fremont Bridge Sidewalks, south of N 34th St Cyclist West Sidewalk  \\\n",
       "Date                                                                                      \n",
       "2012-10-03 01:00:00                                                6.0                    \n",
       "2012-10-03 02:00:00                                                1.0                    \n",
       "2012-10-03 03:00:00                                                3.0                    \n",
       "2012-10-04 01:00:00                                                0.0                    \n",
       "2012-10-04 02:00:00                                                6.0                    \n",
       "\n",
       "                     Fremont Bridge Sidewalks, south of N 34th St Cyclist East Sidewalk  \n",
       "Date                                                                                     \n",
       "2012-10-03 01:00:00                                                4.0                   \n",
       "2012-10-03 02:00:00                                                1.0                   \n",
       "2012-10-03 03:00:00                                                2.0                   \n",
       "2012-10-04 01:00:00                                                3.0                   \n",
       "2012-10-04 02:00:00                                                3.0                   "
      ]
     },
     "execution_count": 35,
     "metadata": {},
     "output_type": "execute_result"
    }
   ],
   "source": [
    "df.between_time('01:00', '03:00').head() # all data between 1am and 3am"
   ]
  },
  {
   "cell_type": "markdown",
   "metadata": {},
   "source": [
    "### Dataframe operations\n",
    "Within a pandas dataframe, you can directly use functionalities from other packages:\n",
    "1. Plotting with matplotlib \n",
    "2. Calculations with numpy\n",
    "3. and more..."
   ]
  },
  {
   "cell_type": "code",
   "execution_count": 41,
   "metadata": {},
   "outputs": [
    {
     "data": {
      "text/plain": [
       "<Axes: xlabel='Date'>"
      ]
     },
     "execution_count": 41,
     "metadata": {},
     "output_type": "execute_result"
    },
    {
     "data": {
      "image/png": "[encoded data removed]",
      "text/plain": [
       "<Figure size 640x480 with 1 Axes>"
      ]
     },
     "metadata": {},
     "output_type": "display_data"
    }
   ],
   "source": [
    "df['total'].plot()"
   ]
  },
  {
   "cell_type": "code",
   "execution_count": null,
   "metadata": {},
   "outputs": [],
   "source": []
  }
 ],
 "metadata": {
  "kernelspec": {
   "display_name": "Python 3 (ipykernel)",
   "language": "python",
   "name": "python3"
  },
  "language_info": {
   "codemirror_mode": {
    "name": "ipython",
    "version": 3
   },
   "file_extension": ".py",
   "mimetype": "text/x-python",
   "name": "python",
   "nbconvert_exporter": "python",
   "pygments_lexer": "ipython3",
   "version": "3.11.7"
  }
 },
 "nbformat": 4,
 "nbformat_minor": 4
}
