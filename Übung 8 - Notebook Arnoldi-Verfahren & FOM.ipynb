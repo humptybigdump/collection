{
 "cells": [
  {
   "cell_type": "markdown",
   "metadata": {},
   "source": [
    "# Übung 7 - Arnoldi-Verfahren"
   ]
  },
  {
   "cell_type": "code",
   "execution_count": 1,
   "metadata": {},
   "outputs": [],
   "source": [
    "import numpy as np"
   ]
  },
  {
   "cell_type": "markdown",
   "metadata": {},
   "source": [
    "### Prozedur zur Berechnung von Skalarprodukten"
   ]
  },
  {
   "cell_type": "code",
   "execution_count": 2,
   "metadata": {},
   "outputs": [],
   "source": [
    "def skp(u,v):\n",
    "    n = len(u)\n",
    "    res = 0\n",
    "    for j in range(n):\n",
    "        res = res + u[j]*v[j]\n",
    "        \n",
    "    return res"
   ]
  },
  {
   "cell_type": "markdown",
   "metadata": {},
   "source": [
    "### Arnoldi-Verfahren\n",
    "\n",
    "**Hinweise:**\n",
    "- Wir speichern den Vektor \\\\(\\tilde{v}^{m+1}\\\\), der sukzessive zum nächsten Vektor der ONB verändert wird, jeweils in dem numpy-array `v_new` und den Wert \\\\(h_{m+1,m} = \\lVert \\tilde{v}^{m+1} \\rVert\\\\) in der Variable `h_new`.\n",
    "- Wir führen das Arnoldi-Verfahren bis zum Erreichen des Invarianzindex durch. Dementsprechend wissen wir nicht vorab, wie viele Schleifendurchläufe wir berechnen müssen, verwenden also eine `while`-Schleife. Wir erkennen das Erreichen des Invarianzindex daran, dass \\\\(h_{m+1,m}=0\\\\) gilt und nutzen dies als Abbruchkriterium. Da wir aufgrund von Rundungsfehlern nie exakt den Wert Null für \\\\(h_{m+1,m}\\\\) erhalten, überprüfen wir stattdessen, ob \\\\(\\lvert h_{m+1,m} \\rvert < 10^{-10} \\\\) gilt.\n",
    "- Wir speichern die Matrizen \\\\(V_m\\\\) und \\\\(H_m\\\\), \\\\(m=1,2,...\\\\) in jeweils einem numpy-array `V` bzw. `H`, das wir sukzessive vergrößern. Dazu eignet sich der `pad` Befehl. Für eine Matirx `S` ergänzt der Befehl `np.pad(S, ((z1,z2),(s1,s2)) )` die Matrix `S` um `z1` Zeilen vor der ersten Zeile, `z2` Zeilen nach der letzten Zeile, `s1` Spalten vor der ersten Spalte und `s1` Spalten nach der letzten Spalte. \n",
    "- Damit der `pad` Befehl von Anfang an funktioniert, müssen wir auch \\\\(H_1\\\\) und \\\\(V_1\\\\) explizit als \\\\( (1\\times1) \\\\)- bzw. \\\\( (n\\times1) \\\\)-**Matrix** initialisieren."
   ]
  },
  {
   "cell_type": "code",
   "execution_count": 36,
   "metadata": {},
   "outputs": [],
   "source": [
    "def arnoldi(A,b):\n",
    "    beta = np.sqrt(skp(b,b))\n",
    "    # Erstellung von V_1\n",
    "    V = np.zeros([len(b),1])\n",
    "    V[:,0] = b/beta\n",
    "    \n",
    "    # Ersten Schleifendurchgang bis zur Berechnung von h_new = Norm von v_new durchmachen:\n",
    "    m = 1\n",
    "    # Erster zu orthogonalisierender Vektor:\n",
    "    v_new = A@V[:,0]\n",
    "    # H als (1 x 1)-Matrix initialsieren, Vektor v_new orthogonalisieren\n",
    "    H = np.zeros([1,1])\n",
    "    H[0,0] = skp(V[:,0],v_new) \n",
    "    v_new = v_new - H[0,0] * V[:,0]\n",
    "    # h_new = Norm des Vektors v_new\n",
    "    h_new = np.sqrt( skp(v_new,v_new) )\n",
    "    \n",
    "    while abs(h_new) > 1e-10:\n",
    "        # Aktueller Stand: \n",
    "        # - In V und H stecken die schon berechneten Matrizen V_m (n x m) und H_m (m x m).\n",
    "        # - v_new enthält den (noch nicht normierten) Basisvektor v_{m+1}\n",
    "        # - h_new enthält die Norm von v_new. h_new ist nicht Null \n",
    "        #   --> kein Abbruch, normiertere Variante von v_new ist tatsächlich ein neuer Basisvektor\n",
    "        # ToDo in einem Schleifendurchlauf:\n",
    "        # 1.) Ergänze V = V_m um die zusätzliche Spalte v_new/h_new --> V wird zu V_{m+1} (n x m+1)\n",
    "        # 2.) Setze m = m + 1 --> In V und H stecken jetzt V_m (n x m) und H_{m-1} (m-1 x m-1)\n",
    "        # 3.) Bereite H_{m} (m x m) vor: \n",
    "        #     a) Ergänze H = H_{m-1} um zusätzliche Spalte und Zeile --> H wird zu H_m (m x m)\n",
    "        #     b) Trage den Wert h_new in die letzte Zeile, vorletzte Spalte ein \n",
    "        # 4.) Berechne neuen Vektor im Krylov-Raum A v_m, orthogonalisiere ihn --> v_new = Kandidat für v_{m+1}.\n",
    "        #     Trage dabei die Skalaprodukte in die letzte Spalte von H_m ein \n",
    "        # 5.) Berchne h_new = Norm von v_new\n",
    "        \n",
    "        # Schritt 1: neuer Vektor der ONB\n",
    "        v_new = v_new/h_new\n",
    "        V = np.pad(V, ((0,0),(0,1)) )\n",
    "        V[:,m] = v_new\n",
    "        # Schritt 2: m erhöhen\n",
    "        m = m + 1\n",
    "        # Schritt 3: H_m vorbereiten\n",
    "        H = np.pad(H, ((0,1),(0,1)) )\n",
    "        H[m-1,m-2] = h_new\n",
    "        # Schritt 4: Neuen Basis-Vektor berechnen, orthogonalisieren, H_m befüllen\n",
    "        v_new = A@V[:,m-1]\n",
    "        for i in range(m):\n",
    "            H[i,m-1] = skp( V[:,i] , v_new)\n",
    "            v_new = v_new - H[i,m-1] * V[:,i]\n",
    "        # Schritt 5: Norm von v_new\n",
    "        h_new = np.sqrt( skp(v_new,v_new) )\n",
    "    \n",
    "    return V,H\n",
    "    "
   ]
  },
  {
   "cell_type": "markdown",
   "metadata": {},
   "source": [
    "Probe: Wir verwenden zur Überprüfung die Matrix \\\\(A\\\\) und den Vektor \\\\(b\\\\) aus Beispiel 3.44 im Skript:"
   ]
  },
  {
   "cell_type": "code",
   "execution_count": 45,
   "metadata": {},
   "outputs": [],
   "source": [
    "A = np.array([ [2,-1,0],[1,1,1],[3,0,-1] ])\n",
    "b = np.array( [0,6,0] )"
   ]
  },
  {
   "cell_type": "code",
   "execution_count": 46,
   "metadata": {},
   "outputs": [
    {
     "name": "stdout",
     "output_type": "stream",
     "text": [
      "V:\n",
      "[[ 0. -1.  0.]\n",
      " [ 1.  0.  0.]\n",
      " [ 0.  0. -1.]]\n",
      "H:\n",
      "[[ 1. -1. -1.]\n",
      " [ 1.  2.  0.]\n",
      " [ 0.  3. -1.]]\n"
     ]
    }
   ],
   "source": [
    "V,H = arnoldi(A,b)\n",
    "print('V:')\n",
    "print(V)\n",
    "print('H:')\n",
    "print(H)"
   ]
  },
  {
   "cell_type": "markdown",
   "metadata": {},
   "source": [
    "Wir können auch 'von Hand' überprüfen, ob alle Anforderungen erfüllt sind, d.h.:\n",
    "- Gilt die Arnoldi-Relation (in der Variante für den erreichten Invarianzindex) \\\\(AV_m = V_mH_m\\\\)?\n",
    "- Hat `V` orthogonale Spalten?\n",
    "- Hat `H` Hessenberg-Gestalt? --> Direkt erkennbar."
   ]
  },
  {
   "cell_type": "code",
   "execution_count": 18,
   "metadata": {},
   "outputs": [
    {
     "name": "stdout",
     "output_type": "stream",
     "text": [
      "AV-VH = \n",
      "[[0. 0. 0.]\n",
      " [0. 0. 0.]\n",
      " [0. 0. 0.]]\n",
      "V^TV - I_m = \n",
      "[[0. 0. 0.]\n",
      " [0. 0. 0.]\n",
      " [0. 0. 0.]]\n"
     ]
    }
   ],
   "source": [
    "print('AV-VH = ')\n",
    "print(A@V-V@H)\n",
    "print('V^TV - I_m = ')\n",
    "print(V.T@V - np.eye(V.shape[1]))"
   ]
  },
  {
   "cell_type": "markdown",
   "metadata": {},
   "source": [
    "Zu Demonstrationszwecken: Wir probieren unser Arnoldi-Verfahren mit einem Eigenvektor von \\\\(A\\\\) als Vektor \\\\(b\\\\) aus: "
   ]
  },
  {
   "cell_type": "code",
   "execution_count": 56,
   "metadata": {},
   "outputs": [
    {
     "name": "stdout",
     "output_type": "stream",
     "text": [
      "V:\n",
      "[[-0.10546951]\n",
      " [-0.35229461]\n",
      " [ 0.92992725]]\n",
      "H:\n",
      "[[-1.34025083]]\n"
     ]
    }
   ],
   "source": [
    "b = np.array([-0.11341694337636568,-0.3788410392636101,1])\n",
    "V,H = arnoldi(A,b)\n",
    "print('V:')\n",
    "print(V)\n",
    "print('H:')\n",
    "print(H)"
   ]
  },
  {
   "cell_type": "markdown",
   "metadata": {},
   "source": [
    "Wie zu erwarten bricht unser Verfahren nach einem Schritt ab, da der Invarianzindex \\\\(\\ell\\\\) von \\\\(\\mathcal{K}_m(A,b)\\\\) gleich \\\\(1\\\\) ist falls \\\\(b\\\\) ein Eigenvektor von \\\\(A\\\\) ist."
   ]
  },
  {
   "cell_type": "markdown",
   "metadata": {},
   "source": [
    "### Erweiterung zum FOM-Verfahren\n",
    "\n",
    "Für das FOM-Verfahren müssen wir die obige Prozedur lediglich um die Berechnung der aktuellen Iterierten \\\\(x^{(m)}\\\\) aus `V` und `H` ergänzen.\n",
    "\n",
    "Zur Erinnerung die nötigen Schritte im FOM-Verfahren:\n",
    "- Löse LGS \\\\(H_m y^{(m)} = \\beta e^1\\\\) (\\\\(e^1\\\\) erster Einheitsvektor in \\\\(\\mathbb{R}^m\\\\))\n",
    "- Setze \\\\(x^{(m)} = V_m y^{(m)}\\\\).\n",
    "Zur Lösung des LGS nutzen wir einfachheitshalber die numpy-Routine `np.linalg.solve`."
   ]
  },
  {
   "cell_type": "code",
   "execution_count": 11,
   "metadata": {},
   "outputs": [],
   "source": [
    "def FOM(A,b):\n",
    "    beta = np.sqrt(skp(b,b))\n",
    "    # Erstellung von V_1\n",
    "    V = np.zeros([len(b),1])\n",
    "    V[:,0] = b/beta\n",
    "    \n",
    "    # Ersten Schleifendurchgang bis zur Berechnung von h_new = Norm von v_new durchmachen:\n",
    "    m = 1\n",
    "    # Erster zu orthogonalisierender Vektor:\n",
    "    v_new = A@V[:,0]\n",
    "    # H als (1 x 1)-Matrix initialsieren, Vektor v_new orthogonalisieren\n",
    "    H = np.zeros([1,1])\n",
    "    H[0,0] = skp(V[:,0],v_new) \n",
    "    v_new = v_new - H[0,0] * V[:,0]\n",
    "    # h_new = Norm des Vektors v_new\n",
    "    h_new = np.sqrt( skp(v_new,v_new) )\n",
    "    \n",
    "    m=1\n",
    "    \n",
    "    # Erste Approximation berechnen\n",
    "    # Ersten Einheitsvektor in R^m erstellen:\n",
    "    vec = np.zeros(m)\n",
    "    vec[0] = 1\n",
    "    # LGS Hy = beta*e^1 lösen\n",
    "    y = np.linalg.solve(H,beta*vec)\n",
    "    # x = Vy bestimmen\n",
    "    x = V@y\n",
    "    # Aktuelle Iterierte ausgeben\n",
    "    print('m =',m,'--> Approximation',x)\n",
    "    \n",
    "    while abs(h_new) > 1e-10:\n",
    "        # Aktueller Stand: \n",
    "        # - In V und H stecken die schon berechneten Matrizen V_m (n x m) und H_m (m x m).\n",
    "        # - v_new enthält den (noch nicht normierten) Basisvektor v_{m+1}\n",
    "        # - h_new enthält die Norm von v_new. h_new ist nicht Null \n",
    "        #   --> kein Abbruch, normiertere Variante von v_new ist tatsächlich ein neuer Basisvektor\n",
    "        # ToDo in einem Schleifendurchlauf:\n",
    "        # 1.) Ergänze V = V_m um die zusätzliche Spalte v_new/h_new --> V wird zu V_{m+1}\n",
    "        # 2.) Setze m = m + 1 --> In V und H stecken jetzt V_m (n x m) und H_{m-1} (m-1 x m-1)\n",
    "        # 3.) Bereite H_{m} (m x m) vor: \n",
    "        #     a) Ergänze H = H_{m-1} um zusätzliche Spalte und Zeile --> H wird zu H_m (m x m)\n",
    "        #     b) Trage den Wert h_new in die letzte Zeile, vorletzte Spalte ein \n",
    "        # 4.) Berechne neuen Vektor im Krylov-Raum A v_m, orthogonalisiere ihn --> v_new = Kandidat für v_{m+1}.\n",
    "        #     Trage dabei die Skalaprodukte in die letzte Spalte von H_m ein \n",
    "        # 5.) Berchne h_new = Norm von v_new\n",
    "        # 6.) FÜr FOM: Berechne neue Iterierte\n",
    "        \n",
    "        # Schritt 1: neuer Vektor der ONB\n",
    "        v_new = v_new/h_new\n",
    "        V = np.pad(V, ((0,0),(0,1)) )\n",
    "        V[:,m] = v_new\n",
    "        # Schritt 2: m erhöhen\n",
    "        m = m + 1\n",
    "        # Schritt 3: H_m vorbereiten\n",
    "        H = np.pad(H, ((0,1),(0,1)) )\n",
    "        H[m-1,m-2] = h_new\n",
    "        # Schritt 4: Neuen Basis-Vektor berechnen, orthogonalisieren, H_m befüllen\n",
    "        v_new = A@V[:,m-1]\n",
    "        for i in range(m):\n",
    "            H[i,m-1] = skp( V[:,i] , v_new)\n",
    "            v_new = v_new - H[i,m-1] * V[:,i]\n",
    "        # Schritt 5: Norm von v_new\n",
    "        h_new = np.sqrt( skp(v_new,v_new) )\n",
    "        \n",
    "        # Schritt 6\n",
    "        # Ersten Einheitsvektor in R^m erstellen:\n",
    "        vec = np.zeros(m)\n",
    "        vec[0] = 1\n",
    "        # LGS Hy = beta*e^1 lösen\n",
    "        y = np.linalg.solve(H,beta*vec)\n",
    "        # x = Vy bestimmen\n",
    "        x = V@y\n",
    "        # Aktuelle Iterierte ausgeben\n",
    "        print('m =',m,'--> Approximation',x)\n",
    "        \n",
    "    return x\n",
    "    "
   ]
  },
  {
   "cell_type": "markdown",
   "metadata": {},
   "source": [
    "Probe: Erneut verwenden wir zur Überprüfung die Matrix \\\\(A\\\\) und den Vektor \\\\(b\\\\) aus Beispiel 3.44 im Skript:"
   ]
  },
  {
   "cell_type": "code",
   "execution_count": 19,
   "metadata": {},
   "outputs": [
    {
     "name": "stdout",
     "output_type": "stream",
     "text": [
      "m = 1 --> Approximation [0. 6. 0.]\n",
      "m = 2 --> Approximation [2. 4. 0.]\n",
      "m = 3 --> Approximation [1. 2. 3.]\n"
     ]
    }
   ],
   "source": [
    "A = np.array([ [2,-1,0],[1,1,1],[3,0,-1] ])\n",
    "b = np.array( [0,6,0] )\n",
    "x = FOM(A,b)"
   ]
  },
  {
   "cell_type": "markdown",
   "metadata": {},
   "source": [
    "Zusätzlich können wir überprüfen, ob die letzte Approximation tatsächlich eine Lösung des LGS \\\\(Ax=b\\\\) ist:"
   ]
  },
  {
   "cell_type": "code",
   "execution_count": 20,
   "metadata": {},
   "outputs": [
    {
     "name": "stdout",
     "output_type": "stream",
     "text": [
      "Probe: b-Ax =  [0. 0. 0.]\n"
     ]
    }
   ],
   "source": [
    "print('Probe: b-Ax = ',b-A@x)"
   ]
  },
  {
   "cell_type": "code",
   "execution_count": null,
   "metadata": {},
   "outputs": [],
   "source": []
  }
 ],
 "metadata": {
  "kernelspec": {
   "display_name": "Python 3",
   "language": "python",
   "name": "python3"
  },
  "language_info": {
   "codemirror_mode": {
    "name": "ipython",
    "version": 3
   },
   "file_extension": ".py",
   "mimetype": "text/x-python",
   "name": "python",
   "nbconvert_exporter": "python",
   "pygments_lexer": "ipython3",
   "version": "3.8.3"
  }
 },
 "nbformat": 4,
 "nbformat_minor": 4
}
