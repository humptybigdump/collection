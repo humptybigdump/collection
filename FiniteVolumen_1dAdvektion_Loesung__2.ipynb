{
 "cells": [
  {
   "cell_type": "markdown",
   "metadata": {},
   "source": [
    "# Finite Volumina zur Lösung der linearen, eindimensionalen Advektionsgleichung"
   ]
  },
  {
   "cell_type": "code",
   "execution_count": 7,
   "metadata": {},
   "outputs": [],
   "source": [
    "# wie immer, lass uns einige wichtige Module importieren\n",
    "import numpy as np\n",
    "from matplotlib import pyplot as plt\n",
    "from matplotlib import ticker as mtick"
   ]
  },
  {
   "cell_type": "markdown",
   "metadata": {},
   "source": [
    "---"
   ]
  },
  {
   "cell_type": "markdown",
   "metadata": {},
   "source": [
    "## Aufgabe 6.2\n",
    "Die eindimensionale Transportgleichung einer Größe $\\phi(x,t)$ in einem mit konstantem Geschwindigkeit $U$ strömenden Fluid ist wie folgt gegeben:\n",
    "\n",
    "\\begin{equation}\n",
    "    \\phi_{/t} + U\\phi_{/x} = 0 \\qquad \\qquad (1)\n",
    "    \\label{eq:advekt}\n",
    "\\end{equation}\n",
    "\n",
    "Die Gleichung (1) kann beispielsweise die Verteilung einer Tinte in einem Fluid darstellen. Diskretisieren und Lösen Sie Gleichung (1) mit Hilfe der finiten Volumen Methode und mit periodischen Randbedingungen. "
   ]
  },
  {
   "cell_type": "markdown",
   "metadata": {},
   "source": [
    "a) Definieren Sie die Parameter des Gitters und der Gleichung. Wählen Sie $U=1$ und $L_x=1$ aus, wobei $L_x$ die Länge des Lösungsgebiet $x \\in (0,L_X)$ ist. Ein weiterer Parameter ist die Anzahl von Zeitschritten $N_t = \\{ 10, 20, 100 \\}$. Wählen Sie eine beliebige Anzahl $N_x$ von Volumina, mit den Sie das Lösungsgebiet diskretisieren wollen. Definieren Sie auch den dimensionslosen Parameter $\\sigma = U / (\\Delta x / \\Delta t) = \\{ 1.5, 0.8, 0.5, 0.1 \\}$, mit dem Sie den Zeitschritt auswählen werden. "
   ]
  },
  {
   "cell_type": "code",
   "execution_count": 8,
   "metadata": {},
   "outputs": [],
   "source": [
    "##########\n",
    "# INPUTS #\n",
    "##########\n",
    "\n",
    "L = 1.0   # [m] Länge des Gebiets\n",
    "U = 1.0   # [m/s] Advektionsgeschwindigkeit\n",
    "Nt = 20   # Anzahl der zu berechnende Zeitschritte\n",
    "Nx = 50   # Anzahl von Zellen / Kontrollvolumina (KV)\n",
    "sigma = 0.5   # dimensionsloser Parameter U/(dx/dt) = U dt / dx = sigma"
   ]
  },
  {
   "cell_type": "markdown",
   "metadata": {},
   "source": [
    "b) Definieren Sie die Vektoren $\\mathbf{x}$ der Koordinaten von den Mittelpunkten der Kontrollvolumina (KV), $\\mathbf{\\phi}$ der unbekannten Lösungsvariable, $\\mathbf{F}$ der Flüsse an den KV Grenzflächen. Nachdem Sie in dem oberen Block $N_x$ und $\\sigma$ definiert haben, können Sie jetzt die Breite $\\Delta x$ des Kontrollvolumens und die Zeitschrittweite $\\Delta t$ auch definieren."
   ]
  },
  {
   "cell_type": "code",
   "execution_count": 10,
   "metadata": {},
   "outputs": [],
   "source": [
    "dx = L/Nx              # [m] Auflösung\n",
    "dt = sigma*(dx/U)              # [s] Zeitschritt\n",
    "\n",
    "x = (np.arange(Nx)+1/2)*dx     # Gitter (Vektor der Koordinate von den KV Mittelpunkten)\n",
    "phi = np.zeros(Nx)     # Vektor der im KV gemittelten phi-Werte\n",
    "F = np.zeros(Nx+1)     # Vektor der Flüsse an den KV Grenzflächen"
   ]
  },
  {
   "cell_type": "markdown",
   "metadata": {},
   "source": [
    "c) Deklarieren Sie die Anfangsbedingung $\\phi(x_i,t=0)$ so wie in Aufgabe 6.1f) eingeführt, d.h. \n",
    "\n",
    "   \\begin{equation}\n",
    "        \\phi(x,t=0) = \\left\\{\n",
    "        \\begin{array}{ll}\n",
    "        4\\left(x/L_x - 0.25 \\right)        & 0.25 \\leq x/L \\leq 0.5 \\\\\n",
    "        4\\left(0.75 - x/L_x \\right) &  0.5 < x/L \\leq 0.75 \\\\\n",
    "        0        & \\text{ansonsten}\n",
    "        \\end{array}\n",
    "        \\right. \n",
    "    \\end{equation}"
   ]
  },
  {
   "cell_type": "code",
   "execution_count": 16,
   "metadata": {
    "scrolled": false
   },
   "outputs": [],
   "source": [
    "# Zuerst definieren wir einen Vektor der richtigen Größe\n",
    "phi0 = np.zeros(Nx)\n",
    "\n",
    "# Wir gehen durch die Einträge von phi0 mit einer For-Schleife\n",
    "for i in range(Nx):\n",
    "    # und machen eine Fallunterscheidung, so wie die \n",
    "    # Definition der Anfangsbedingung es fordert\n",
    "    if (x[i]/L)>=0.25 and (x[i]/L<=0.5):\n",
    "        phi0[i] = 4.0*(x[i]/L-0.25)\n",
    "    elif (x[i]/L>=0.5 and x[i]/L<=0.75):\n",
    "        phi0[i] = 4.0*(0.75-x[i]/L)\n",
    "    else:\n",
    "        phi0[i] = 0"
   ]
  },
  {
   "cell_type": "markdown",
   "metadata": {},
   "source": [
    "Wir stellen die Anfangsbedingung dar, um sicher zu stellen, dass wir keine Fehler gemacht haben. "
   ]
  },
  {
   "cell_type": "code",
   "execution_count": 17,
   "metadata": {},
   "outputs": [
    {
     "data": {
      "image/png": "[encoded data removed]",
      "text/plain": [
       "<Figure size 640x480 with 1 Axes>"
      ]
     },
     "metadata": {},
     "output_type": "display_data"
    }
   ],
   "source": [
    "plt.figure()\n",
    "plt.plot(x,phi0)\n",
    "plt.xlabel('x')\n",
    "plt.ylabel('phi')\n",
    "plt.show()"
   ]
  },
  {
   "cell_type": "markdown",
   "metadata": {},
   "source": [
    "d) Iterieren Sie über $N_t$ Zeitschritte mit dem Index $0 \\leq n \\leq N_t$.\n",
    "* Iterieren Sie über alle KV Grenzflächen und berechnen Sie alle Flüsse $F_{i+1/2}^n$ und speichern Sie in den Vektor $\\mathbf{F}$.\n",
    "* Iterieren Sie über alle Volumina und berechnen Sie die Bilanz der Flüsse für jedes Volumen. Aktualisieren Sie die Lösung $\\mathbf{\\phi}$.\n",
    "    \n",
    "Hinweis: Für die Berechnung der Flüsse an den Grenzflächen am Rand des Lösungsgebietes (also $F_{1/2}$ und $F_{Nx+1/2}$) können Sie die Fähigkeit von Python ausnutzen, den letzten Index eines Arrays duch dem Index `-1` aufzurufen, sowie die Modulo-Funktion `a % b`, welche den Rest der Division zwischen `a` und `b` ergibt."
   ]
  },
  {
   "cell_type": "code",
   "execution_count": 20,
   "metadata": {
    "scrolled": true
   },
   "outputs": [],
   "source": [
    "# Zuerst definieren wir die Zeit\n",
    "# vor der Integration sind wir beim Zeitpunkt null\n",
    "t = 0\n",
    "# Wir kopieren unsere anfangsbedingung in den \n",
    "# Lösungsvektor\n",
    "phi = phi0.copy()\n",
    "# Wir starten die zeitliche Integration\n",
    "# als For-Schleife für Nt Zeitschritte\n",
    "for n in range(Nt):\n",
    "    # Wir aktualisieren die Zeit\n",
    "    t = t + dt\n",
    "    # Wir berechnen die Flüsse mit linearer Interpolation\n",
    "    for iF in range(Nx+1):\n",
    "        F[iF] = 0.5*U*(phi[iF-1]+phi[iF%Nx])\n",
    "    # Wir aktualisieren die Lösung\n",
    "    for i in range(Nx):\n",
    "        phi[i] += (dt/dx)*(F[i]-F[i+1])\n",
    "\n",
    "    \n"
   ]
  },
  {
   "cell_type": "markdown",
   "metadata": {},
   "source": [
    "Bevor wir die Lösung darstellen, ist es sinnvoll, die analytische exakte Lösung des Problems herzuleiten. "
   ]
  },
  {
   "cell_type": "code",
   "execution_count": 21,
   "metadata": {},
   "outputs": [],
   "source": [
    "# Wir definieren den Vektor der exakten Lösung\n",
    "phi_exakt = np.zeros(Nx)\n",
    "\n",
    "# Sowie mit der Anfangsbedingung, gehen wir \n",
    "# durch die Einträge von phi_exakt mit einer For-Schleife\n",
    "for i in range(Nx):\n",
    "    # Jetzt müssen wir die Koordinate sinnvoll definieren, \n",
    "    # so dass wir die periodische Randbedingung berücksichtigen\n",
    "    xx = (x[i]-U*t)/L\n",
    "    xx -= np.floor(xx)\n",
    "    \n",
    "    # und machen eine Fallunterscheidung, so wie die \n",
    "    # im Falle der Anfangsbedingung\n",
    "    if (xx/L)>=0.25 and (xx/L)<=0.5:\n",
    "        phi_exakt[i] = 4.0*(xx/L-0.25)\n",
    "    elif (xx/L>=0.5 and xx/L<=0.75):\n",
    "        phi_exakt[i] = 4.0*(0.75-xx/L)\n",
    "    else:\n",
    "        phi_exakt[i] = 0\n",
    "    "
   ]
  },
  {
   "cell_type": "markdown",
   "metadata": {},
   "source": [
    "e) Stellen Sie das Ergebnis dar und überprüfen Sie diese, in dem Sie es mit dem erwarteten Ergebnis vergleichen. Probieren Sie die unterschiedlichen vorgeschlagenen Parameter aus. Was beobachten Sie?"
   ]
  },
  {
   "cell_type": "code",
   "execution_count": 23,
   "metadata": {
    "scrolled": true
   },
   "outputs": [
    {
     "data": {
      "image/png": "[encoded data removed]",
      "text/plain": [
       "<Figure size 640x480 with 1 Axes>"
      ]
     },
     "metadata": {},
     "output_type": "display_data"
    }
   ],
   "source": [
    "# Wir öffnen eine neue Abbildung\n",
    "plt.figure()\n",
    "\n",
    "# wir stellen die exakte und numerische Lösung dar\n",
    "plt.plot(x,phi,label='numerisch')\n",
    "plt.plot(x,phi_exakt, label='exakt')\n",
    "# wir setzen Grenzen für die x- und y-Achse:\n",
    "# Wir sehen gleich wozu wir das brauchen\n",
    "plt.ylim([0,1])\n",
    "plt.xlim([0,1])\n",
    "# wir zeigen die Legende an\n",
    "plt.legend()\n",
    "# und beschriften die Achsen\n",
    "plt.xlabel('x')\n",
    "plt.ylabel('phi')\n",
    "plt.show()"
   ]
  },
  {
   "cell_type": "markdown",
   "metadata": {},
   "source": [
    "---"
   ]
  },
  {
   "cell_type": "markdown",
   "metadata": {},
   "source": [
    "## Aufgabe 6.3\n",
    "\n",
    "Irgendetwas stimmt offensichtlich nicht (das haben Sie sicher schon bemerkt) in dem Ergebnis aus Aufgabe 6.2. Um das Problem zu beheben, berechnen Sie den Fluss an der KV Grenzfläche mit der folgenden einseitigen Formel in Abhängigkeit vom Wert der Advektionsgeschwindigkeit $U$ (``Aufwind'') berechnet:\n",
    "\n",
    "\\begin{equation}\n",
    "    F_{i+1/2} = \\left\\{\n",
    "        \\begin{array}{ll}\n",
    "        F_i & U \\geq 0 \\\\\n",
    "        F_{i+1} & U < 0 \\\\\n",
    "        \\end{array}\n",
    "        \\right. \n",
    "\\end{equation}\n",
    "\n",
    "Führen Sie Ihren Code mit denselben Parameterwerten wie in Teilaufgabe 6.2f) aus. Was beobachten Sie jetzt?"
   ]
  },
  {
   "cell_type": "code",
   "execution_count": null,
   "metadata": {},
   "outputs": [],
   "source": [
    "# Wir setzen die Zeit auf null zurück\n",
    "\n",
    "# Wir kopieren erneut unsere anfangsbedingung  \n",
    "# in den Lösungsvektor\n",
    "\n",
    "# Wir starten die zeitliche Integration\n",
    "# als For-Schleife für Nt Zeitschritte\n",
    "\n",
    "    # Wir aktualisieren die Zeit\n",
    "\n",
    "    # wir berechnen die Flüsse durch Aufwind Interpolation\n",
    "\n",
    "    # und aktualisieren die Lösung\n",
    "\n"
   ]
  },
  {
   "cell_type": "markdown",
   "metadata": {},
   "source": [
    "Wir stellen erneut das Ergebnis dar: was beobachten Sie?"
   ]
  },
  {
   "cell_type": "code",
   "execution_count": null,
   "metadata": {},
   "outputs": [],
   "source": [
    "# Wir öffnen eine neue Abbildung\n",
    "\n",
    "# wir stellen die exakte und numerische Lösung dar\n",
    "\n",
    "# wir setzen Grenzen für die x- und y-Achse\n",
    "\n",
    "# wir zeigen die Legende an\n",
    "\n",
    "# und beschriften die Achsen\n"
   ]
  }
 ],
 "metadata": {
  "kernelspec": {
   "display_name": "Python 3 (ipykernel)",
   "language": "python",
   "name": "python3"
  },
  "language_info": {
   "codemirror_mode": {
    "name": "ipython",
    "version": 3
   },
   "file_extension": ".py",
   "mimetype": "text/x-python",
   "name": "python",
   "nbconvert_exporter": "python",
   "pygments_lexer": "ipython3",
   "version": "3.11.5"
  }
 },
 "nbformat": 4,
 "nbformat_minor": 4
}
