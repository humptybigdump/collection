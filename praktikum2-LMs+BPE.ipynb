{
 "cells": [
  {
   "cell_type": "code",
   "execution_count": 1,
   "metadata": {},
   "outputs": [],
   "source": [
    "export LC_ALL=C.UTF-8"
   ]
  },
  {
   "cell_type": "markdown",
   "metadata": {},
   "source": [
    "Task 1: Statistical Language Model\n",
    "==========================\n",
    "\n",
    "In the following we will use n-gram language modeling to look at domain,\n",
    "an important consideration when training NMT models.  \n",
    "All of the data are provided at `/data/lmdom/`.  \n",
    "To train an order-n language model use\n",
    "```bash\n",
    "lmplz -o {order} < {training_data} > {lm_name.arpa}\n",
    "```"
   ]
  },
  {
   "cell_type": "code",
   "execution_count": 2,
   "metadata": {
    "scrolled": true
   },
   "outputs": [
    {
     "name": "stdout",
     "output_type": "stream",
     "text": [
      "=== 1/5 Counting and sorting n-grams ===\n",
      "Reading /data/lmdom/wiki.en.txt\n",
      "----5---10---15---20---25---30---35---40---45---50---55---60---65---70---75---80---85---90---95--100\n",
      "****************************************************************************************************\n",
      "Unigram tokens 42681165 types 1114998\n",
      "=== 2/5 Calculating and sorting adjusted counts ===\n",
      "Chain sizes: 1:13379976 2:216187191296\n",
      "Statistics:\n",
      "1 1114998 D1=0.731948 D2=1.03082 D3+=1.2829\n",
      "2 9551015 D1=0.754579 D2=1.0721 D3+=1.31276\n",
      "Memory estimate for binary LM:\n",
      "type     MB\n",
      "probing 191 assuming -p 1.5\n",
      "probing 195 assuming -r models -p 1.5\n",
      "trie     84 without quantization\n",
      "trie     58 assuming -q 8 -b 8 quantization \n",
      "trie     84 assuming -a 22 array pointer compression\n",
      "trie     58 assuming -a 22 -q 8 -b 8 array pointer compression and quantization\n",
      "=== 3/5 Calculating and sorting initial probabilities ===\n",
      "Chain sizes: 1:13379976 2:152816240\n",
      "----5---10---15---20---25---30---35---40---45---50---55---60---65---70---75---80---85---90---95--100\n",
      "####################################################################################################\n",
      "=== 4/5 Calculating and writing order-interpolated probabilities ===\n",
      "Chain sizes: 1:13379976 2:152816240\n",
      "----5---10---15---20---25---30---35---40---45---50---55---60---65---70---75---80---85---90---95--100\n",
      "####################################################################################################\n",
      "=== 5/5 Writing ARPA model ===\n",
      "----5---10---15---20---25---30---35---40---45---50---55---60---65---70---75---80---85---90---95--100\n",
      "****************************************************************************************************\n",
      "Name:lmplz\tVmPeak:211297880 kB\tVmRSS:35212 kB\tRSSMax:57753240 kB\tuser:26.2385\tsys:31.1835\tCPU:57.422\treal:58.3634\n"
     ]
    }
   ],
   "source": [
    "lmplz -o 2 < /data/lmdom/wiki.en.txt > /tmp/wiki.arpa"
   ]
  },
  {
   "cell_type": "markdown",
   "metadata": {},
   "source": [
    "To get the perplexity of a dataset using an arpa file use\n",
    "```bash\n",
    "perp.py {lm_name.arpa} {text_data}\n",
    "```"
   ]
  },
  {
   "cell_type": "code",
   "execution_count": 3,
   "metadata": {},
   "outputs": [
    {
     "name": "stdout",
     "output_type": "stream",
     "text": [
      "Loading the LM will be faster if you build a binary file.\n",
      "Reading /tmp/wiki.arpa\n",
      "----5---10---15---20---25---30---35---40---45---50---55---60---65---70---75---80---85---90---95--100\n",
      "****************************************************************************************************\n",
      "212.9959476604841\n",
      "Loading the LM will be faster if you build a binary file.\n",
      "Reading /tmp/wiki.arpa\n",
      "----5---10---15---20---25---30---35---40---45---50---55---60---65---70---75---80---85---90---95--100\n",
      "****************************************************************************************************\n",
      "353676.242629899\n"
     ]
    }
   ],
   "source": [
    "perp.py /tmp/wiki.arpa /data/lmdom/wiki.en.txt\n",
    "perp.py /tmp/wiki.arpa /tmp/wiki.arpa"
   ]
  },
  {
   "cell_type": "markdown",
   "metadata": {},
   "source": [
    "-   First, train a bigram ($n=2$) LM on the English UDHR. Use this model\n",
    "    on `dev` data. What is the perplexity?   "
   ]
  },
  {
   "cell_type": "code",
   "execution_count": 4,
   "metadata": {
    "scrolled": true
   },
   "outputs": [
    {
     "name": "stdout",
     "output_type": "stream",
     "text": [
      "=== 1/5 Counting and sorting n-grams ===\n",
      "Reading /data/lmdom/english.udhr\n",
      "----5---10---15---20---25---30---35---40---45---50---55---60---65---70---75---80---85---90---95--100\n",
      "****************************************************************************************************\n",
      "Unigram tokens 1778 types 627\n",
      "=== 2/5 Calculating and sorting adjusted counts ===\n",
      "Chain sizes: 1:7524 2:216200567193\n",
      "Statistics:\n",
      "1 627 D1=0.786408 D2=1.03486 D3+=1.95146\n",
      "2 1341 D1=0.8418 D2=1.35127 D3+=1.19614\n",
      "Memory estimate for binary LM:\n",
      "type    kB\n",
      "probing 39 assuming -p 1.5\n",
      "probing 41 assuming -r models -p 1.5\n",
      "trie    21 without quantization\n",
      "trie    18 assuming -q 8 -b 8 quantization \n",
      "trie    21 assuming -a 22 array pointer compression\n",
      "trie    18 assuming -a 22 -q 8 -b 8 array pointer compression and quantization\n",
      "=== 3/5 Calculating and sorting initial probabilities ===\n",
      "Chain sizes: 1:7524 2:21456\n",
      "----5---10---15---20---25---30---35---40---45---50---55---60---65---70---75---80---85---90---95--100\n",
      "####################################################################################################\n",
      "=== 4/5 Calculating and writing order-interpolated probabilities ===\n",
      "Chain sizes: 1:7524 2:21456\n",
      "----5---10---15---20---25---30---35---40---45---50---55---60---65---70---75---80---85---90---95--100\n",
      "####################################################################################################\n",
      "=== 5/5 Writing ARPA model ===\n",
      "----5---10---15---20---25---30---35---40---45---50---55---60---65---70---75---80---85---90---95--100\n",
      "****************************************************************************************************\n",
      "Name:lmplz\tVmPeak:211296864 kB\tVmRSS:5848 kB\tRSSMax:57604468 kB\tuser:5.70292\tsys:26.563\tCPU:32.266\treal:32.272\n"
     ]
    }
   ],
   "source": [
    "lmplz -o 2 < /data/lmdom/english.udhr > /tmp/udhr.arpa"
   ]
  },
  {
   "cell_type": "code",
   "execution_count": 5,
   "metadata": {},
   "outputs": [
    {
     "name": "stdout",
     "output_type": "stream",
     "text": [
      "Universal Declaration of Human Rights\n",
      "Preamble\n",
      "Whereas recognition of the inherent dignity and of the equal and inalienable rights of all members of the human family is the foundation of freedom, justice and peace in the world,\n",
      "Whereas disregard and contempt for human rights have resulted in barbarous acts which have outraged the conscience of mankind, and the advent of a world in which human beings shall enjoy freedom of speech and belief and freedom from fear and want has been proclaimed as the highest aspiration of the common people,\n",
      "Whereas it is essential, if man is not to be compelled to have recourse, as a last resort, to rebellion against tyranny and oppression, that human rights should be protected by the rule of law,\n",
      "Whereas it is essential to promote the development of friendly relations between nations,\n",
      "Whereas the peoples of the United Nations have in the Charter reaffirmed their faith in fundamental human rights, in the dignity and worth of the human person and in the equal rights of men and women and have determined to promote social progress and better standards of life in larger freedom,\n",
      "Whereas Member States have pledged themselves to achieve, in cooperation with the United Nations, the promotion of universal respect for and observance of human rights and fundamental freedoms,\n",
      "Whereas a common understanding of these rights and freedoms is of the greatest importance for the full realization of this pledge,\n",
      "Now, therefore,\n"
     ]
    }
   ],
   "source": [
    "head /data/lmdom/english.udhr"
   ]
  },
  {
   "cell_type": "code",
   "execution_count": 6,
   "metadata": {},
   "outputs": [
    {
     "name": "stdout",
     "output_type": "stream",
     "text": [
      "Loading the LM will be faster if you build a binary file.\n",
      "Reading /tmp/udhr.arpa\n",
      "----5---10---15---20---25---30---35---40---45---50---55---60---65---70---75---80---85---90---95--100\n",
      "****************************************************************************************************\n",
      "613.303224701251\n"
     ]
    }
   ],
   "source": [
    "perp.py /tmp/udhr.arpa /data/lmdom/dev"
   ]
  },
  {
   "cell_type": "markdown",
   "metadata": {},
   "source": [
    "-   Now, train a bigram LM on the wikipedia data. Use this model to\n",
    "    calculate the perplexity of the `dev` data. What is the perplexity?"
   ]
  },
  {
   "cell_type": "code",
   "execution_count": 7,
   "metadata": {},
   "outputs": [
    {
     "name": "stdout",
     "output_type": "stream",
     "text": [
      "Loading the LM will be faster if you build a binary file.\n",
      "Reading /tmp/wiki.arpa\n",
      "----5---10---15---20---25---30---35---40---45---50---55---60---65---70---75---80---85---90---95--100\n",
      "****************************************************************************************************\n",
      "2455.2919557159653\n"
     ]
    }
   ],
   "source": [
    "perp.py /tmp/wiki.arpa /data/lmdom/dev"
   ]
  },
  {
   "cell_type": "markdown",
   "metadata": {},
   "source": [
    "-   Finally, train a bigram LM on the novel chapter. Use this model to\n",
    "    calculate the perplexity of the `dev` data. What is the perplexity?    "
   ]
  },
  {
   "cell_type": "code",
   "execution_count": 8,
   "metadata": {
    "scrolled": true
   },
   "outputs": [
    {
     "name": "stdout",
     "output_type": "stream",
     "text": [
      "Mr. and Mrs. Dursley , of number four , Privet Drive , were proud to say that they were perfectly normal , thank you very much . They were the last people you &apos;d expect to be involved in anything strange or mysterious , because they just didn &apos;t hold with such nonsense .\n",
      "\n",
      "Mr. Dursley was the director of a firm called Grunnings , which made drills . He was a big , beefy man with hardly any neck , although he did have a very large mustache . Mrs. Dursley was thin and blonde and had nearly twice the usual amount of neck , which came in very useful as she spent so much of her time craning over garden fences , spying on the neighbors . The Dursleys had a small son called Dudley and in their opinion there was no finer boy anywhere .\n",
      "\n",
      "The Dursleys had everything they wanted , but they also had a secret , and their greatest fear was that somebody would discover it . They didn &apos;t think they could bear it if anyone found out about the Potters . Mrs. Potter was Mrs. Dursley &apos;s sister , but they hadn &apos;t met for several years ; in fact , Mrs. Dursley pretended she didn &apos;t have a sister , because her sister and her good-for-nothing husband were as unDursleyish as it was possible to be . The Dursleys shuddered to think what the neighbors would say if the Potters arrived in the street . The Dursleys knew that the Potters had a small son , too , but they had never even seen him . This boy was another good reason for keeping the Potters away ; they didn &apos;t want Dudley mixing with a child like that .\n",
      "\n",
      "When Mr. and Mrs. Dursley woke up on the dull , gray Tuesday our story starts , there was nothing about the cloudy sky outside to suggest that strange and mysterious things would soon be happening all over the country . Mr. Dursley hummed as he picked out his most boring tie for work , and Mrs. Dursley gossiped away happily as she wrestled a screaming Dudley into his high chair .\n",
      "\n",
      "None of them noticed a large , tawny owl flutter past the window .\n",
      "\n"
     ]
    }
   ],
   "source": [
    "head /data/lmdom/hpchapter1.txt"
   ]
  },
  {
   "cell_type": "code",
   "execution_count": 9,
   "metadata": {
    "scrolled": true
   },
   "outputs": [
    {
     "name": "stdout",
     "output_type": "stream",
     "text": [
      "=== 1/5 Counting and sorting n-grams ===\n",
      "Reading /data/lmdom/hpchapter1.txt\n",
      "----5---10---15---20---25---30---35---40---45---50---55---60---65---70---75---80---85---90---95--100\n",
      "****************************************************************************************************\n",
      "Unigram tokens 5722 types 1251\n",
      "=== 2/5 Calculating and sorting adjusted counts ===\n",
      "Chain sizes: 1:15012 2:216200544256\n",
      "Statistics:\n",
      "1 1251 D1=0.637427 D2=1.27739 D3+=1.75624\n",
      "2 4003 D1=0.808964 D2=1.09147 D3+=1.53722\n",
      "Memory estimate for binary LM:\n",
      "type     kB\n",
      "probing 102 assuming -p 1.5\n",
      "probing 107 assuming -r models -p 1.5\n",
      "trie     49 without quantization\n",
      "trie     39 assuming -q 8 -b 8 quantization \n",
      "trie     49 assuming -a 22 array pointer compression\n",
      "trie     39 assuming -a 22 -q 8 -b 8 array pointer compression and quantization\n",
      "=== 3/5 Calculating and sorting initial probabilities ===\n",
      "Chain sizes: 1:15012 2:64048\n",
      "----5---10---15---20---25---30---35---40---45---50---55---60---65---70---75---80---85---90---95--100\n",
      "####################################################################################################\n",
      "=== 4/5 Calculating and writing order-interpolated probabilities ===\n",
      "Chain sizes: 1:15012 2:64048\n",
      "----5---10---15---20---25---30---35---40---45---50---55---60---65---70---75---80---85---90---95--100\n",
      "####################################################################################################\n",
      "=== 5/5 Writing ARPA model ===\n",
      "----5---10---15---20---25---30---35---40---45---50---55---60---65---70---75---80---85---90---95--100\n",
      "****************************************************************************************************\n",
      "Name:lmplz\tVmPeak:211288688 kB\tVmRSS:6036 kB\tRSSMax:57591160 kB\tuser:6.12353\tsys:23.7502\tCPU:29.8738\treal:29.8728\n"
     ]
    }
   ],
   "source": [
    "lmplz -o 2 < /data/lmdom/hpchapter1.txt > /tmp/hpchapter1.arpa"
   ]
  },
  {
   "cell_type": "code",
   "execution_count": 10,
   "metadata": {},
   "outputs": [
    {
     "name": "stdout",
     "output_type": "stream",
     "text": [
      "Loading the LM will be faster if you build a binary file.\n",
      "Reading /tmp/hpchapter1.arpa\n",
      "----5---10---15---20---25---30---35---40---45---50---55---60---65---70---75---80---85---90---95--100\n",
      "****************************************************************************************************\n",
      "516.76552634914\n"
     ]
    }
   ],
   "source": [
    "perp.py /tmp/hpchapter1.arpa /data/lmdom/dev"
   ]
  },
  {
   "cell_type": "markdown",
   "metadata": {},
   "source": [
    "-   How was the perplexity different with each of the models? Look at\n",
    "    the first few lines of each training dataset, and the `dev` data.\n",
    "    Why might this be?"
   ]
  },
  {
   "cell_type": "code",
   "execution_count": 11,
   "metadata": {},
   "outputs": [
    {
     "name": "stdout",
     "output_type": "stream",
     "text": [
      "A Long-Expected Party\n",
      "When Mr. Bilbo Baggins of Bag End announced that he would shortly be\n",
      "celebrating his eleventy-first birthday with a party of special\n",
      "magnificence , there was much talk and excitement in Hobbiton .\n",
      "Bilbo was very rich and very peculiar , and had been the\n",
      "wonder of the Shire for sixty years , ever since his remarkable\n",
      "disappearance and unexpected return . The riches he had brought back\n",
      "from his travels had now become a local legend , and it was popularly\n",
      "believed , whatever the old folk might say , that the Hill at Bag End\n",
      "was full of tunnels stuffed with treasure . And if that was not enough\n",
      "for fame , there was also his prolonged vigour to marvel at . Time wore\n",
      "on , but it seemed to have little effect on Mr. Baggins . At ninety he\n",
      "was much the same as at fifty . At ninety-nine they began to call him\n",
      "well-preserved ; but unchanged would have been nearer the mark . There\n",
      "were some that shook their heads and thought this was too much of a\n",
      "good thing ; it seemed unfair that anyone should possess ( apparently )\n",
      "perpetual youth as well as ( reputedly ) inexhaustible wealth .\n",
      "&quot; It will have to be paid for , &quot; they said . &quot; It isn &quot; t natural ,\n",
      "and trouble will come of it ! &quot;\n",
      "\n",
      "But so far trouble had not come ; and as Mr. Baggins was\n",
      "generous with his money , most people were willing to forgive him his\n",
      "oddities and his good fortune . He remained on visiting terms with his\n",
      "relatives ( except , of course , the Sackville-Bagginses ) , and he had\n",
      "many devoted admirers among the hobbits of poor and unimportant\n",
      "families . But he had no close friends , until some of his younger\n",
      "cousins began to grow up .\n",
      "The eldest of these , and Bilbo &quot; s favourite , was young Frodo\n",
      "Baggins . When Bilbo was ninety-nine he adopted Frodo as his heir , and\n",
      "brought him to live at Bag End ; and the hopes of the Sackville-\n",
      "Bagginses were finally dashed . Bilbo and Frodo happened to have the\n",
      "same birthday , September 22nd . &quot; You had better come and live here ,\n",
      "Frodo my lad , &quot; said Bilbo one day ; &quot; and then we can celebrate our\n",
      "birthday-parties comfortably together . &quot; At that time Frodo was still\n",
      "in his tweens , as the hobbits called the irresponsible twenties\n",
      "between childhood and coming of age at thirty-three .\n",
      "Twelve more years passed . Each year the Bagginses had given\n",
      "very lively combined birthday-parties at Bag End ; but now it was\n",
      "understood that something quite exceptional was being planned for\n",
      "that autumn . Bilbo was going to be eleventy-one , 111 , a rather\n",
      "curious number , and a very respectable age for a hobbit ( the Old Took\n",
      "himself had only reached 130 ) ; and Frodo was going to be thirty-\n",
      "three , 33 , an important number : the date of his &quot; coming of age &quot; .\n",
      "Tongues began to wag in Hobbiton and Bywater ; and rumour of\n",
      "the coming event travelled all over the Shire . The history and\n",
      "character of Mr. Bilbo Baggins became once again the chief topic of\n",
      "conversation ; and the older folk suddenly found their reminiscences\n",
      "in welcome demand .\n",
      "No one had a more attentive audience than old Ham Gamgee ,\n",
      "commonly known as the Gaffer . He held forth at The Ivy Bush , a small\n",
      "inn on the Bywater road ; and he spoke with some authority , for he had\n",
      "tended the garden at Bag End for forty years , and had helped old\n",
      "Holman in the same job before that . Now that he was himself growing\n",
      "old and stiff in the joints , the job was mainly carried on by his\n",
      "youngest son , Sam Gamgee . Both father and son were on very friendly\n",
      "terms with Bilbo and Frodo . They lived on the Hill itself , in Number\n",
      "3 Bagshot Row just below Bag End .\n",
      "&quot; A very nice well-spoken gentlehobbit is Mr. Bilbo , as I &quot; ve\n",
      "always said , &quot; the Gaffer declared . With perfect truth : for Bilbo was\n",
      "very polite to him , calling him &quot; Master Hamfast &quot; , and consulting him\n",
      "constantly upon the growing of vegetables — in the matter of &quot; roots &quot; ,\n",
      "especially potatoes , the Gaffer was recognized as the leading\n",
      "authority by all in the neighbourhood ( including himself ) .\n",
      "&quot; But what about this Frodo that lives with him ? &quot; asked Old\n",
      "Noakes of Bywater . &quot; Baggins is his name , but he &quot; s more than half a\n",
      "Brandybuck , they say . It beats me why any Baggins of Hobbiton should\n",
      "go looking for a wife away there in Buckland , where folks are so\n",
      "queer . &quot;\n",
      "&quot; And no wonder they &quot; re queer , &quot; put in Daddy Twofoot ( the\n",
      "Gaffer &quot; s next-door neighbour ) , &quot; if they live on the wrong side of the\n",
      "Brandywine River , and right agin the Old Forest . That &quot; s a dark bad\n",
      "place , if half the tales be true . &quot;\n",
      "&quot; You &quot; re right , Dad ! &quot; said the Gaffer . &quot; Not that the\n",
      "Brandybucks of Buckland live in the Old Forest ; but they &quot; re a queer\n",
      "breed , seemingly . They fool about with boats on that big river — and\n",
      "that isn &quot; t natural . Small wonder that trouble came of it , I say . But\n",
      "be that as it may , Mr. Frodo is as nice a young hobbit as you could\n",
      "wish to meet . Very much like Mr. Bilbo , and in more than looks . After\n",
      "all his father was a Baggins . A decent respectable hobbit was Mr.\n",
      "Drogo Baggins ; there was never much to tell of him , till he was\n",
      "drownded . &quot;\n",
      "&quot; Drownded ? &quot; said several voices . They had heard this and\n",
      "other darker rumours before , of course ; but hobbits have a passion\n",
      "for family history , and they were ready to hear it again .\n",
      "&quot; Well , so they say , &quot; said the Gaffer . &quot; You see : Mr. Drogo , he\n",
      "married poor Miss Primula Brandybuck . She was our Mr. Bilbo &quot; s first\n",
      "cousin on the mother &quot; s side ( her mother being the youngest of the Old\n",
      "Took &quot; s daughters ) ; and Mr. Drogo was his second cousin . So Mr. Frodo\n",
      "is his first and second cousin , once removed either way , as the\n",
      "saying is , if you follow me . And Mr. Drogo was staying at Brandy Hall\n",
      "with his father-in-law , old Master Gorbadoc , as he often did after\n",
      "his marriage ( him being partial to his vittles , and old Gorbadoc\n",
      "keeping a mighty generous table ) ; and he went out boating on the\n",
      "Brandywine River ; and he and his wife were drownded , and poor Mr.\n",
      "Frodo only a child and all . &quot;\n",
      "&quot; I &quot; ve heard they went on the water after dinner in the\n",
      "moonlight , &quot; said Old Noakes ; &quot; and it was Drogo &quot; s weight as sunk the\n",
      "boat . &quot;\n",
      "&quot; And I heard she pushed him in , and he pulled her in after\n",
      "him , &quot; said Sandyman , the Hobbiton miller .\n",
      "&quot; You shouldn &quot; t listen to all you hear , Sandyman , &quot; said the\n",
      "Gaffer , who did not much like the miller . &quot; There isn &quot; t no call to go\n",
      "talking of pushing and pulling . Boats are quite tricky enough for\n",
      "those that sit still without looking further for the cause of\n",
      "trouble . Anyway : there was this Mr. Frodo left an orphan and\n",
      "stranded , as you might say , among those queer Bucklanders , being\n",
      "brought up anyhow in Brandy Hall . A regular warren , by all accounts .\n",
      "Old Master Gorbadoc never had fewer than a couple of hundred\n",
      "relations in the place . Mr. Bilbo never did a kinder deed than when\n",
      "he brought the lad back to live among decent folk .\n",
      "&quot; But I reckon it was a nasty shock for those Sackville-\n",
      "Bagginses . They thought they were going to get Bag End , that time\n",
      "when he went off and was thought to be dead . And then he comes back\n",
      "and orders them off ; and he goes on living and living , and never\n",
      "looking a day older , bless him ! And suddenly he produces an heir , and\n",
      "has all the papers made out proper . The Sackville-Bagginses won &quot; t\n",
      "never see the inside of Bag End now , or it is to be hoped not . &quot;\n",
      "&quot; There &quot; s a tidy bit of money tucked away up there , I hear\n",
      "tell , &quot; said a stranger , a visitor on business from Michel Delving in\n",
      "the Westfarthing . &quot; All the top of your hill is full of tunnels packed\n",
      "with chests of gold and silver , and jools , by what I &quot; ve heard . &quot;\n",
      "&quot; Then you &quot; ve heard more than I can speak to , &quot; answered the\n",
      "Gaffer . I know nothing about jools . Mr. Bilbo is free with his money ,\n",
      "and there seems no lack of it ; but I know of no tunnel-making . I saw\n",
      "Mr. Bilbo when he came back , a matter of sixty years ago , when I was\n",
      "a lad . I &quot; d not long come prentice to old Holman ( him being my dad &quot; s\n",
      "cousin ) , but he had me up at Bag End helping him to keep folks from\n",
      "trampling and trapessing all over the garden while the sale was on .\n"
     ]
    }
   ],
   "source": [
    "head -n128 /data/lmdom/dev"
   ]
  },
  {
   "cell_type": "markdown",
   "metadata": {},
   "source": [
    "-   How do you think this would change if you used a larger order\n",
    "    (e.g. 5) LM?   \n",
    "    N-grams can be good models, but only if the test corpus looks like\n",
    "    the training corpus. In reality, it often does not. We need to come\n",
    "    up with adaptation and smoothing methods to account for this!"
   ]
  },
  {
   "cell_type": "code",
   "execution_count": 12,
   "metadata": {
    "scrolled": true
   },
   "outputs": [
    {
     "name": "stdout",
     "output_type": "stream",
     "text": [
      "=== 1/5 Counting and sorting n-grams ===\n",
      "Reading /data/lmdom/hpchapter1.txt\n",
      "----5---10---15---20---25---30---35---40---45---50---55---60---65---70---75---80---85---90---95--100\n",
      "****************************************************************************************************\n",
      "Unigram tokens 5722 types 1251\n",
      "=== 2/5 Calculating and sorting adjusted counts ===\n",
      "Chain sizes: 1:15012 2:36800090112 3:69000175616 4:110400274432\n",
      "Statistics:\n",
      "1 1251 D1=0.637427 D2=1.27739 D3+=1.75624\n",
      "2 4003 D1=0.82817 D2=1.23715 D3+=1.60199\n",
      "3 5247 D1=0.934414 D2=1.50625 D3+=1.67374\n",
      "4 5494 D1=0.976564 D2=1.54928 D3+=2.60937\n",
      "Memory estimate for binary LM:\n",
      "type     kB\n",
      "probing 345 assuming -p 1.5\n",
      "probing 404 assuming -r models -p 1.5\n",
      "trie    155 without quantization\n",
      "trie     92 assuming -q 8 -b 8 quantization \n",
      "trie    149 assuming -a 22 array pointer compression\n",
      "trie     85 assuming -a 22 -q 8 -b 8 array pointer compression and quantization\n",
      "=== 3/5 Calculating and sorting initial probabilities ===\n",
      "Chain sizes: 1:15012 2:64048 3:104940 4:131856\n",
      "----5---10---15---20---25---30---35---40---45---50---55---60---65---70---75---80---85---90---95--100\n",
      "####################################################################################################\n",
      "=== 4/5 Calculating and writing order-interpolated probabilities ===\n",
      "Chain sizes: 1:15012 2:64048 3:104940 4:131856\n",
      "----5---10---15---20---25---30---35---40---45---50---55---60---65---70---75---80---85---90---95--100\n",
      "####################################################################################################\n",
      "=== 5/5 Writing ARPA model ===\n",
      "----5---10---15---20---25---30---35---40---45---50---55---60---65---70---75---80---85---90---95--100\n",
      "****************************************************************************************************\n",
      "Name:lmplz\tVmPeak:211288668 kB\tVmRSS:6208 kB\tRSSMax:42251228 kB\tuser:4.17318\tsys:19.7816\tCPU:23.9548\treal:23.9325\n",
      "Loading the LM will be faster if you build a binary file.\n",
      "Reading /tmp/hp_o4.arpa\n",
      "----5---10---15---20---25---30---35---40---45---50---55---60---65---70---75---80---85---90---95--100\n",
      "****************************************************************************************************\n",
      "503.7123702342283\n"
     ]
    }
   ],
   "source": [
    "lmplz -o 4 < /data/lmdom/hpchapter1.txt > /tmp/hp_o4.arpa\n",
    "perp.py /tmp/hp_o4.arpa /data/lmdom/dev"
   ]
  },
  {
   "cell_type": "code",
   "execution_count": 13,
   "metadata": {
    "scrolled": true
   },
   "outputs": [
    {
     "name": "stdout",
     "output_type": "stream",
     "text": [
      "=== 1/5 Counting and sorting n-grams ===\n",
      "Reading /data/lmdom/english.udhr\n",
      "----5---10---15---20---25---30---35---40---45---50---55---60---65---70---75---80---85---90---95--100\n",
      "****************************************************************************************************\n",
      "Unigram tokens 1778 types 627\n",
      "=== 2/5 Calculating and sorting adjusted counts ===\n",
      "Chain sizes: 1:7524 2:36800094208 3:69000175616 4:110400282624\n",
      "Statistics:\n",
      "1 627 D1=0.786408 D2=1.03486 D3+=1.95146\n",
      "2 1341 D1=0.872832 D2=1.43464 D3+=1.52997\n",
      "3 1551 D1=0.956688 D2=1.4091 D3+=0.813285\n",
      "4 1543 D1=0.950096 D2=1.41533 D3+=0.62476\n",
      "Memory estimate for binary LM:\n",
      "type     kB\n",
      "probing 110 assuming -p 1.5\n",
      "probing 130 assuming -r models -p 1.5\n",
      "trie     52 without quantization\n",
      "trie     36 assuming -q 8 -b 8 quantization \n",
      "trie     50 assuming -a 22 array pointer compression\n",
      "trie     34 assuming -a 22 -q 8 -b 8 array pointer compression and quantization\n",
      "=== 3/5 Calculating and sorting initial probabilities ===\n",
      "Chain sizes: 1:7524 2:21456 3:31020 4:37032\n",
      "----5---10---15---20---25---30---35---40---45---50---55---60---65---70---75---80---85---90---95--100\n",
      "####################################################################################################\n",
      "=== 4/5 Calculating and writing order-interpolated probabilities ===\n",
      "Chain sizes: 1:7524 2:21456 3:31020 4:37032\n",
      "----5---10---15---20---25---30---35---40---45---50---55---60---65---70---75---80---85---90---95--100\n",
      "####################################################################################################\n",
      "=== 5/5 Writing ARPA model ===\n",
      "----5---10---15---20---25---30---35---40---45---50---55---60---65---70---75---80---85---90---95--100\n",
      "****************************************************************************************************\n",
      "Name:lmplz\tVmPeak:211288680 kB\tVmRSS:6144 kB\tRSSMax:42251212 kB\tuser:4.21836\tsys:16.5493\tCPU:20.7677\treal:20.7524\n"
     ]
    }
   ],
   "source": [
    "lmplz -o 4 < /data/lmdom/english.udhr > /tmp/udhr_o4.arpa"
   ]
  },
  {
   "cell_type": "code",
   "execution_count": 14,
   "metadata": {},
   "outputs": [
    {
     "name": "stdout",
     "output_type": "stream",
     "text": [
      "Traceback (most recent call last):\n",
      "  File \"kenlm.pyx\", line 139, in kenlm.Model.__init__\n",
      "RuntimeError: util/file.cc:76 in int util::OpenReadOrThrow(const char*) threw ErrnoException because `-1 == (ret = open(name, 00))'.\n",
      "No such file or directory while opening /tmp/udhr_o3.arpa\n",
      "\n",
      "The above exception was the direct cause of the following exception:\n",
      "\n",
      "Traceback (most recent call last):\n",
      "  File \"/usr/local/bin/perp.py\", line 9, in <module>\n",
      "    model=kenlm.Model(arpafile)\n",
      "  File \"kenlm.pyx\", line 142, in kenlm.Model.__init__\n",
      "OSError: Cannot read model '/tmp/udhr_o3.arpa' (util/file.cc:76 in int util::OpenReadOrThrow(const char*) threw ErrnoException because `-1 == (ret = open(name, 00))'. No such file or directory while opening /tmp/udhr_o3.arpa)\n",
      "Loading the LM will be faster if you build a binary file.\n",
      "Reading /tmp/udhr_o4.arpa\n",
      "----5---10---15---20---25---30---35---40---45---50---55---60---65---70---75---80---85---90---95--100\n",
      "****************************************************************************************************\n",
      "591.2512898622641\n"
     ]
    }
   ],
   "source": [
    "perp.py /tmp/udhr_o3.arpa /data/lmdom/dev\n",
    "perp.py /tmp/udhr_o4.arpa /data/lmdom/dev"
   ]
  },
  {
   "cell_type": "markdown",
   "metadata": {},
   "source": [
    "-   Perplexity is often used as intrinsic evaluation for language\n",
    "    models. Let's think about what these values mean more closely.\n",
    "    Suppose a 'sentence' consists of random digits. What is the\n",
    "    perplexity of this sentence, if our model assigns probability\n",
    "    $p=1/10$ to each digit?   "
   ]
  },
  {
   "cell_type": "markdown",
   "metadata": {},
   "source": [
    "-   Consider now a natural language sentence. What is the maximum\n",
    "    perplexity of a sentence with 10 tokens? With 100 tokens?   "
   ]
  },
  {
   "cell_type": "markdown",
   "metadata": {},
   "source": [
    "-   Let's return to our language models. Pick one of the three datasets,\n",
    "    and train trigram and 4-gram LMs as well. Evaluate the perplexity of\n",
    "    the `dev` data. How is it different between the bigram, trigram, and\n",
    "    4-gram models? Why might this be?   "
   ]
  },
  {
   "cell_type": "markdown",
   "metadata": {},
   "source": [
    "-   One major problem with models is generalization. If we have a bigram\n",
    "    we have never seen before in `dev`, our model will produce a\n",
    "    probability of 0 for the sentence and we can't compute the\n",
    "    perplexity (can't divide by 0!). Not good  \n",
    "    In order to do something about this, people typically use smoothing\n",
    "    methods. The simplest is called add-one or Laplace smoothing. This\n",
    "    is as simple as it sounds: we increment the counts of all seen word\n",
    "    types (unique) by 1, and the vocabulary by the same amount (size of\n",
    "    the vocabulary, number of unique words)  \n",
    "    Now, there is a small probability allocated for unknown words:\n",
    "    unseen n-grams have $\\frac{1}{N+V}$ instead of 0!\n",
    "    $$\\mathcal{P}_{Laplace}(w_i) = \\frac{count_i + 1}{N + V}$$\n",
    "\n",
    "    A basic bigram language model has been coded for you in python,\n",
    "    `bigram_lm.py`. Use this script to train a bigram LM on\n",
    "    hpchapter1.txt. It will print the model entropy.   \n",
    "    In this last exercise, modify this script to use add-one smoothing.\n",
    "    Now train a bigram LM. How has the entropy changed?   "
   ]
  },
  {
   "cell_type": "code",
   "execution_count": 15,
   "metadata": {},
   "outputs": [
    {
     "name": "stdout",
     "output_type": "stream",
     "text": [
      "The entropy of the bigram model for this file is: 3.052 bits.\n"
     ]
    }
   ],
   "source": [
    "bigram_lm.py /data/lmdom/hpchapter1.txt"
   ]
  },
  {
   "cell_type": "code",
   "execution_count": 16,
   "metadata": {},
   "outputs": [
    {
     "name": "stdout",
     "output_type": "stream",
     "text": [
      "patching file bigram_lm.py\n"
     ]
    }
   ],
   "source": [
    "cp /usr/local/bin/bigram_lm.py bigram_lm.py\n",
    "patch bigram_lm.py <<EOF\n",
    "--- /usr/local/bin/bigram_lm.py\t2021-07-05 12:54:44.000000000 +0000\n",
    "+++ bigram_lm.py\t2022-06-20 12:38:37.247364696 +0000\n",
    "@@ -39,8 +39,8 @@\n",
    "         bigramsplit = k.split(\"_\")\n",
    "         hist = bigramsplit[0]\n",
    "         if hist==j:\n",
    "-            numer = bigramfreqs[k]\n",
    "-            denom = bigramhcs[j]\n",
    "+            numer = bigramfreqs[k]+1\n",
    "+            denom = bigramhcs[j]+bigramnum\n",
    "             frac = numer/denom\n",
    "             y = math.log(frac,2)\n",
    "             z = numer*y\n",
    "EOF"
   ]
  },
  {
   "cell_type": "code",
   "execution_count": 17,
   "metadata": {},
   "outputs": [
    {
     "name": "stdout",
     "output_type": "stream",
     "text": [
      "The entropy of the bigram model for this file is: 18.98 bits.\n"
     ]
    }
   ],
   "source": [
    "./bigram_lm.py /data/lmdom/hpchapter1.txt"
   ]
  },
  {
   "cell_type": "markdown",
   "metadata": {},
   "source": [
    "# MT Praktikum - Text processing and Language Models\n",
    "\n",
    "In the directory `/data/nc19/` you will find the raw text files from\n",
    "the News-Commentary corpus which we will use today for our\n",
    "preprocessing, as well as the language model. The corresponding source\n",
    "data you can find in  \n",
    "`/data/wmt10-xlats/ref/wmt10-newssyscombtest2010-src.de.sgm`"
   ]
  },
  {
   "cell_type": "markdown",
   "metadata": {},
   "source": [
    "Task 2: Word Embeddings\n",
    "===============\n",
    "\n",
    "For this exercise we are going to use pre-trained word embeddings. You\n",
    "can find two different word embeddings models in\n",
    "\n",
    "`/models/vec/Wemb.en.filtered.lowered`  \n",
    "`/models/vec/GoogleNews-vectors-negative300.bin`"
   ]
  },
  {
   "cell_type": "markdown",
   "metadata": {},
   "source": [
    "1)  In the appendix of this document you can find a visualization of\n",
    "    some word embeddings extracted from a English and French machine\n",
    "    translation model. Words are filtered under the topic \"Research\"."
   ]
  },
  {
   "cell_type": "markdown",
   "metadata": {},
   "source": [
    "a)  Find at least three groups where you can see the similarity in\n",
    "    meanings and mark them on the visualization. You can also check\n",
    "    an English-French dictionary: <https://enfr.dict.cc/>."
   ]
  },
  {
   "cell_type": "markdown",
   "metadata": {},
   "source": [
    "2)  You are provided with 2 word vector files. The\n",
    "    *Wemb.en.filtered.lowered* is a set of pre-trained 200-dimensional\n",
    "    vectors for 10K English vocabulary, that we will mostly use for\n",
    "    small experiments. The other file,\n",
    "    *GoogleNews-vectors-negative300.bin* contains 3 million words. You\n",
    "    can use it with the exercise if you want.\n",
    "\n",
    "Word vectors represent semantic and syntactic relationships between\n",
    "words. For example, *lady* should be closely related with *woman*."
   ]
  },
  {
   "cell_type": "markdown",
   "metadata": {},
   "source": [
    "a)  Examine the format of the embedding model file for the 10K\n",
    "    English vocabulary."
   ]
  },
  {
   "cell_type": "code",
   "execution_count": 18,
   "metadata": {
    "scrolled": false
   },
   "outputs": [
    {
     "name": "stdout",
     "output_type": "stream",
     "text": [
      "11752 200 \n",
      "writing -0.05845778 -0.09190530 -0.02589424 -0.02522317 0.05366451 -0.03952653 -0.00876886 0.03060736 0.04896607 0.01564831 -0.02506016 0.07100761 -0.03507993 0.09870563 -0.03387290 0.03568781 0.07425486 -0.00165893 -0.01051492 -0.04607708 -0.09915169 -0.06194144 0.10198937 -0.05530214 0.06205470 0.04726395 -0.13273497 -0.07304158 -0.02790424 -0.02933407 -0.00978333 -0.00992418 0.08244192 0.00541691 -0.18403657 -0.00214179 0.04029832 -0.05896970 0.09990364 0.08532872 0.10725495 -0.04863238 -0.00867876 -0.02769790 0.00943092 0.01916903 -0.06149632 0.01232205 0.12028475 0.10385244 0.04235590 -0.03068192 0.07865627 0.13650553 0.00017261 -0.04942393 -0.08356978 -0.01325239 -0.04904098 -0.08419368 -0.00181666 -0.07562856 0.04355730 0.03737382 0.11111275 -0.01255314 -0.01916555 -0.05127316 -0.05650723 -0.12051325 -0.10272507 0.03867260 -0.04309317 0.05779719 0.04092875 0.04870337 -0.07637551 -0.04755736 0.09026353 0.05602673 -0.11934358 -0.01848558 -0.00194088 0.06600038 0.04738871 -0.04229930 0.00350426 -0.03405575 0.00629837 -0.01883667 -0.00007218 0.03843971 -0.09021617 0.10642952 -0.09668349 -0.01392369 -0.02323193 0.00420173 0.00427427 -0.03643165 -0.00909957 -0.01480601 0.00323420 -0.00733258 0.05983223 -0.06635170 -0.07060497 0.04874127 0.03670791 0.00649006 -0.04886395 0.03254521 -0.01312437 -0.04993891 -0.01517300 -0.06167913 0.04122012 -0.05183022 -0.01691628 0.04353683 -0.00978131 -0.10125303 -0.07582325 -0.03144168 0.05249588 0.12070547 -0.01017514 0.02139845 -0.09966899 -0.03924453 0.05874350 -0.11592630 -0.01993907 -0.02629381 -0.04517753 -0.02408567 0.08471586 -0.12519538 -0.01331900 -0.03816612 0.04171122 -0.02296272 0.02377682 -0.11686437 -0.00065561 -0.03715055 -0.00823098 -0.07992391 0.02402835 0.03788212 -0.06114378 0.02954673 -0.00809099 0.02891815 -0.02784953 -0.01799603 0.05641683 -0.02748945 -0.01803649 -0.00925105 0.08803280 -0.05189903 0.03058800 -0.01679699 -0.05266012 -0.00144627 -0.04950710 0.03235935 0.06217435 -0.07047921 -0.00269479 0.03864631 0.03990540 0.06978928 0.00325415 -0.06402609 -0.04522993 0.13891327 -0.13289519 -0.05839638 -0.06197442 -0.00369166 0.00752031 -0.04525576 -0.02713190 0.02452571 0.02352591 0.05749903 -0.07876576 0.00429504 -0.01440797 -0.08527365 -0.08247820 0.01227578 -0.10279117 -0.05679628 -0.00510331 0.08481327 0.02154537 -0.00936084\n",
      "\n",
      "Number of \"words\" per line: \n",
      "201\n",
      "Total number of lines: \n",
      "11753\n"
     ]
    }
   ],
   "source": [
    "embeddingmodel=/models/vec/Wemb.en.filtered.lowered\n",
    "\n",
    "head -2 $embeddingmodel\n",
    "\n",
    "echo\n",
    "echo -n 'Number of \"words\" per line: '\n",
    "cat $embeddingmodel |\n",
    "    grep lady | wc -w\n",
    "\n",
    "echo -n 'Total number of lines: '\n",
    "cat $embeddingmodel | wc -l"
   ]
  },
  {
   "cell_type": "markdown",
   "metadata": {},
   "source": [
    "b)  Check vector values of the word *lady* and *woman*."
   ]
  },
  {
   "cell_type": "code",
   "execution_count": 19,
   "metadata": {},
   "outputs": [
    {
     "name": "stdout",
     "output_type": "stream",
     "text": [
      "lady   0.01361018  0.04732877  -0.00540839  -0.09349286  0.01137791  -0.03702742  -0.02019745\n",
      "woman  0.07737311  0.04137088  -0.01775537  -0.13916844  0.07794968  -0.01941912  0.01003982\n"
     ]
    }
   ],
   "source": [
    "# we'll just look at the first few values, since the output is pretty hard to look at otherwise\n",
    "cat $embeddingmodel |\n",
    "    grep -e lady -e woman |\n",
    "    cut -d' ' -f1-8 | column -t"
   ]
  },
  {
   "cell_type": "markdown",
   "metadata": {},
   "source": [
    "c) Write out the first 4 and the last values of the vectors in the table."
   ]
  },
  {
   "cell_type": "code",
   "execution_count": 20,
   "metadata": {},
   "outputs": [
    {
     "name": "stdout",
     "output_type": "stream",
     "text": [
      "lady 0.01361018 0.04732877 -0.00540839 -0.09349286 0.01850754\n",
      "woman 0.07737311 0.04137088 -0.01775537 -0.13916844 -0.02679169\n"
     ]
    }
   ],
   "source": [
    "cat $embeddingmodel |\n",
    "    grep -e lady -e woman |\n",
    "    cut -d' ' -f1-5,201"
   ]
  },
  {
   "cell_type": "markdown",
   "metadata": {},
   "source": [
    "| word   |$v_0$ | $v_1$ | $v_2$ | $v_3$ | \\... | $v_{199}$ |\n",
    "|-------|-------|-------|-------|-------|------|-----------|\n",
    "|lady   | 0.013 | 0.047 |-0.005 |-0.093 | \\... |  0.019    |\n",
    "|woman  | 0.077 | 0.041 |-0.017 |-0.139 | \\... | -0.027    |\n",
    "\n",
    "\n",
    "As you can see, it is hard for us to understand the vector\n",
    "representation as it is. Therefore, we are going to calculate their\n",
    "distance."
   ]
  },
  {
   "cell_type": "markdown",
   "metadata": {},
   "source": [
    "3)  We can check the similarity of the words by loading the vectors and\n",
    "    calculating the distance between them, using\n",
    "\n",
    "`$ vector.py {model}`  "
   ]
  },
  {
   "cell_type": "markdown",
   "metadata": {},
   "source": [
    "a) What is the most similar word to the word *lady*? What is their similarity?"
   ]
  },
  {
   "cell_type": "code",
   "execution_count": 21,
   "metadata": {},
   "outputs": [
    {
     "name": "stdout",
     "output_type": "stream",
     "text": [
      "lady is most similar to.... [('woman', 0.63404780626297)]\n"
     ]
    }
   ],
   "source": [
    "echo -e '1\\nlady' |\n",
    "    vector.py $embeddingmodel |&\n",
    "    grep 'most similar to'"
   ]
  },
  {
   "cell_type": "markdown",
   "metadata": {},
   "source": [
    "b) Find the most similar word for following words and fill the table."
   ]
  },
  {
   "cell_type": "code",
   "execution_count": 22,
   "metadata": {},
   "outputs": [
    {
     "name": "stdout",
     "output_type": "stream",
     "text": [
      "|  lady    |  woman     |  0.63404780626297     |\n",
      "|  book    |  magazine  |  0.6000742316246033   |\n",
      "|  mother  |  mum       |  0.5940439701080322   |\n",
      "|  school  |  college   |  0.5997563004493713   |\n",
      "|  great   |  good      |  0.48894891142845154  |\n",
      "|  tree    |  forest    |  0.5588597059249878   |\n"
     ]
    }
   ],
   "source": [
    "query=\n",
    "for word in lady book mother school great tree\n",
    "do\n",
    "    query=\"${query}1\\n$word\\n\"\n",
    "done\n",
    "\n",
    "# sometimes I feel like all I do is write RegExes all day, every day... it's awful\n",
    "echo -en \"$query\" |\n",
    "    vector.py $embeddingmodel |&\n",
    "    perl -lne '/(\\w+) is most similar to\\.+ \\[\\(\\W(.*)\\W, (.*)\\)\\]/ && print \"| $1 | $2 | $3 |\"' |\n",
    "    column -t"
   ]
  },
  {
   "cell_type": "markdown",
   "metadata": {},
   "source": [
    "|Input word  |Most similar word  |Similarity  |\n",
    "|------------|-------------------|------------|\n",
    "|  lady    |  woman     |  0.63404780626297    |\n",
    "|  book    |  magazine  |  0.600074291229248   |\n",
    "|  mother  |  mum       |  0.594044029712677   |\n",
    "|  school  |  college   |  0.5997563004493713  |\n",
    "|  great   |  good      |  0.4889489412307739  |\n",
    "|  tree    |  forest    |  0.5588597059249878  |"
   ]
  },
  {
   "cell_type": "markdown",
   "metadata": {},
   "source": [
    "c)  Find the similarity score of following words and fill the table. When is the similarity score high?"
   ]
  },
  {
   "cell_type": "code",
   "execution_count": 23,
   "metadata": {},
   "outputs": [
    {
     "name": "stdout",
     "output_type": "stream",
     "text": [
      "|  father  |  dad       |  0.5393388    |\n",
      "|  human   |  animal    |  0.2608136    |\n",
      "|  apple   |  big       |  0.059935514  |\n",
      "|  soccer  |  football  |  0.63188386   |\n"
     ]
    }
   ],
   "source": [
    "query=\n",
    "for word in \"father dad\" \"human animal\" \"apple big\" \"soccer football\"\n",
    "do\n",
    "    query=\"${query}2\\n$word\\n\"\n",
    "done\n",
    "\n",
    "echo -en \"$query\" |\n",
    "    vector.py $embeddingmodel |&\n",
    "    perl -lne '/similarity between +(\\w+) and (\\w+) is\\.+ (\\S+)/ && print \"| $1 | $2 | $3 |\"' |\n",
    "    column -t"
   ]
  },
  {
   "cell_type": "markdown",
   "metadata": {},
   "source": [
    "|word A  | word B   |similarity  |\n",
    "|--------|----------|------------|\n",
    "|  father  |  dad       |  0.5393388    |\n",
    "|  human   |  animal    |  0.2608136    |\n",
    "|  apple   |  big       |  0.059935518  |\n",
    "|  soccer  |  football  |  0.63188386   |"
   ]
  },
  {
   "cell_type": "markdown",
   "metadata": {},
   "source": [
    "d) Find the word which fits in the semantic relationship."
   ]
  },
  {
   "cell_type": "code",
   "execution_count": 24,
   "metadata": {},
   "outputs": [
    {
     "name": "stdout",
     "output_type": "stream",
     "text": [
      "|  man    |  husband  |  woman  |  wife   |\n",
      "|  grass  |  green    |  sky    |  blue   |\n",
      "|  tree   |  forest   |  water  |  ocean  |\n"
     ]
    }
   ],
   "source": [
    "query=\n",
    "for word in \"man, husband, woman\" \"grass, green, sky\" \"tree, forest, water\"\n",
    "do\n",
    "    query=\"${query}3\\n$word\\n\"\n",
    "done\n",
    "\n",
    "echo -en \"$query\" |\n",
    "    vector.py $embeddingmodel |&\n",
    "    perl -lne '/(\\w+) : (\\w+) = (\\w+) : \\[\\(\\S(\\w+)\\S, \\S+\\)\\]/ && print \"| $1 | $2 | $3 | $4 |\"' |\n",
    "    column -t"
   ]
  },
  {
   "cell_type": "markdown",
   "metadata": {},
   "source": [
    "------- --- --------- --- ------- --- --\n",
    "  man    :   husband   =   woman   :  wife  \n",
    " grass   :    green    =    sky    :  blue  \n",
    " tree    :   forest    =   water   :  ocean   \n",
    "------- --- --------- --- ------- --- --"
   ]
  },
  {
   "cell_type": "markdown",
   "metadata": {},
   "source": [
    "Task 3: Neural Language Model\n",
    "=====================\n",
    "\n",
    "## 1.  Model Training\n",
    "\n",
    "Since training a neural language model will take quite a while and\n",
    "extensive computational resources, we will in the following provide\n",
    "you with readily trained models, as well as the output of the\n",
    "training scripts when they were trained.  \n",
    "In the directory `/models/lm/penn/saves.ptb` you will find a\n",
    "couple of log files, which each save the logged output during the\n",
    "training of a language model. The relevant log files are:\n",
    "\n",
    "-   `small.log`: A small model without any regularization method.\n",
    "\n",
    "-   `nodrop.log`: A big model without regularization.\n",
    "\n",
    "-   `best.log`: A big model with dropout and dropconnect (two\n",
    "    methods for regularization).\n",
    "\n",
    "Look at the three `.log` files and answer the following questions:\n",
    "\n",
    "a)  How is the perplexity of the training data changing across the\n",
    "    training process?"
   ]
  },
  {
   "cell_type": "code",
   "execution_count": 25,
   "metadata": {},
   "outputs": [
    {
     "name": "stdout",
     "output_type": "stream",
     "text": [
      "1170.42\n",
      "824.30\n",
      "658.72\n",
      "325.18\n",
      "304.76\n",
      "286.99\n",
      "228.43\n",
      "221.66\n",
      "214.12\n",
      "187.13\n",
      "184.63\n",
      "180.18\n",
      "165.46\n",
      "163.10\n",
      "159.65\n",
      "147.79\n",
      "145.90\n",
      "143.85\n",
      "134.04\n",
      "133.38\n",
      "131.88\n",
      "125.74\n",
      "124.50\n",
      "122.94\n",
      "117.54\n",
      "116.33\n",
      "115.17\n",
      "111.95\n",
      "110.66\n",
      "109.55\n",
      "105.78\n",
      "105.37\n",
      "104.86\n",
      "102.99\n",
      "101.82\n",
      "101.21\n",
      "98.46\n",
      "97.57\n",
      "97.20\n",
      "95.52\n",
      "94.75\n",
      "94.33\n",
      "92.96\n",
      "91.49\n",
      "91.52\n",
      "90.23\n",
      "90.14\n",
      "89.38\n",
      "88.99\n",
      "87.97\n",
      "87.73\n",
      "87.28\n",
      "85.62\n",
      "85.54\n",
      "84.15\n",
      "83.97\n",
      "83.61\n",
      "83.15\n",
      "82.32\n",
      "82.15\n",
      "81.14\n",
      "80.98\n",
      "81.05\n",
      "79.73\n",
      "79.39\n",
      "79.30\n",
      "78.13\n",
      "78.09\n",
      "77.94\n",
      "77.75\n",
      "77.41\n",
      "77.22\n",
      "76.34\n",
      "76.20\n",
      "76.08\n",
      "75.49\n",
      "74.58\n",
      "74.53\n",
      "74.79\n",
      "74.51\n",
      "74.23\n",
      "73.66\n",
      "73.32\n",
      "73.20\n",
      "73.26\n",
      "72.76\n",
      "72.37\n",
      "72.10\n",
      "71.91\n",
      "71.75\n",
      "70.52\n",
      "70.86\n",
      "70.84\n",
      "70.15\n",
      "70.18\n",
      "70.22\n",
      "69.84\n",
      "69.25\n",
      "69.42\n",
      "69.20\n",
      "68.93\n",
      "68.99\n",
      "68.13\n",
      "67.90\n",
      "67.93\n",
      "68.12\n",
      "68.02\n",
      "67.97\n",
      "67.97\n",
      "67.53\n",
      "67.41\n",
      "66.66\n",
      "66.27\n",
      "66.46\n",
      "65.97\n",
      "65.84\n",
      "65.91\n",
      "66.04\n",
      "65.93\n",
      "65.93\n",
      "65.14\n",
      "65.31\n",
      "65.22\n",
      "65.00\n",
      "64.76\n",
      "64.80\n",
      "64.29\n",
      "63.79\n",
      "64.00\n",
      "63.59\n",
      "63.59\n",
      "63.78\n",
      "64.00\n",
      "63.92\n",
      "63.56\n",
      "63.33\n",
      "62.85\n",
      "62.70\n",
      "63.00\n",
      "62.58\n",
      "62.48\n",
      "62.33\n",
      "62.07\n",
      "62.16\n",
      "62.09\n",
      "61.55\n",
      "61.69\n",
      "61.78\n",
      "61.36\n",
      "61.39\n",
      "60.89\n",
      "60.88\n",
      "61.10\n",
      "60.76\n",
      "60.58\n",
      "60.78\n",
      "60.20\n",
      "60.17\n",
      "60.40\n",
      "61.03\n",
      "60.35\n",
      "60.42\n",
      "60.61\n",
      "60.02\n",
      "60.06\n",
      "60.13\n",
      "59.80\n",
      "60.14\n",
      "59.46\n",
      "59.25\n",
      "59.50\n",
      "59.55\n",
      "59.32\n",
      "59.31\n",
      "58.90\n",
      "58.62\n",
      "58.93\n",
      "58.88\n",
      "58.68\n",
      "58.88\n",
      "59.19\n",
      "58.70\n",
      "58.69\n",
      "58.66\n",
      "58.19\n",
      "58.29\n",
      "58.30\n",
      "57.77\n",
      "58.16\n",
      "57.84\n",
      "57.53\n",
      "57.83\n",
      "58.10\n",
      "57.55\n",
      "57.65\n",
      "57.73\n",
      "57.27\n",
      "57.38\n",
      "57.22\n",
      "57.01\n",
      "57.25\n",
      "57.32\n",
      "57.20\n",
      "57.23\n",
      "56.46\n",
      "56.19\n",
      "56.53\n",
      "56.54\n",
      "56.34\n",
      "56.45\n",
      "56.51\n",
      "56.13\n",
      "56.31\n",
      "55.90\n",
      "55.64\n",
      "55.83\n",
      "55.92\n",
      "55.66\n",
      "55.72\n",
      "55.46\n",
      "55.40\n",
      "55.61\n",
      "55.77\n",
      "55.36\n",
      "55.47\n",
      "54.84\n",
      "55.02\n",
      "55.13\n",
      "55.14\n",
      "54.62\n",
      "54.98\n",
      "54.20\n",
      "54.13\n",
      "54.33\n",
      "54.47\n",
      "54.29\n",
      "54.65\n",
      "54.84\n",
      "54.42\n",
      "54.55\n",
      "54.16\n",
      "53.94\n",
      "54.34\n",
      "54.31\n",
      "54.03\n",
      "54.18\n",
      "53.85\n",
      "53.85\n",
      "54.02\n",
      "53.80\n",
      "53.85\n",
      "53.88\n",
      "53.69\n",
      "53.69\n",
      "53.91\n",
      "53.70\n",
      "53.46\n",
      "53.54\n",
      "53.42\n",
      "53.25\n",
      "53.39\n",
      "53.71\n",
      "53.16\n",
      "53.36\n",
      "52.81\n",
      "52.84\n",
      "53.08\n",
      "53.16\n",
      "52.79\n",
      "52.86\n",
      "52.95\n",
      "52.58\n",
      "52.76\n",
      "53.07\n",
      "52.36\n",
      "52.62\n",
      "51.98\n",
      "52.03\n",
      "52.20\n",
      "52.36\n",
      "52.26\n",
      "52.27\n",
      "51.51\n",
      "51.58\n",
      "51.90\n",
      "52.28\n",
      "52.04\n",
      "52.15\n",
      "52.31\n",
      "51.90\n",
      "52.20\n",
      "51.99\n",
      "51.77\n",
      "51.96\n",
      "51.53\n",
      "51.52\n",
      "51.61\n",
      "51.44\n",
      "51.56\n",
      "51.92\n",
      "51.23\n",
      "51.28\n",
      "51.71\n",
      "51.73\n",
      "51.48\n",
      "51.55\n",
      "51.58\n",
      "51.30\n",
      "51.36\n",
      "50.65\n",
      "50.80\n",
      "51.05\n",
      "50.63\n",
      "50.82\n",
      "50.99\n",
      "50.75\n",
      "50.73\n",
      "50.71\n",
      "50.95\n",
      "50.50\n",
      "50.77\n",
      "50.90\n",
      "50.78\n",
      "50.83\n",
      "50.35\n",
      "50.42\n",
      "50.83\n",
      "50.46\n",
      "50.14\n",
      "50.35\n",
      "50.24\n",
      "50.09\n",
      "50.37\n",
      "50.43\n",
      "50.51\n",
      "50.60\n",
      "50.35\n",
      "50.08\n",
      "50.42\n",
      "49.93\n",
      "49.74\n",
      "50.08\n",
      "50.07\n",
      "49.79\n",
      "50.00\n",
      "49.87\n",
      "49.64\n",
      "49.96\n",
      "49.56\n",
      "49.43\n",
      "49.80\n",
      "49.51\n",
      "49.38\n",
      "49.65\n",
      "49.69\n",
      "49.61\n",
      "49.69\n",
      "49.96\n",
      "49.56\n",
      "49.62\n",
      "49.66\n",
      "49.18\n",
      "49.46\n",
      "48.99\n",
      "48.82\n",
      "48.99\n",
      "49.09\n",
      "49.12\n",
      "49.21\n",
      "49.32\n",
      "49.08\n",
      "49.27\n",
      "49.03\n",
      "48.66\n",
      "48.99\n",
      "49.24\n",
      "48.83\n",
      "49.02\n",
      "48.95\n",
      "48.77\n",
      "49.02\n",
      "48.56\n",
      "48.42\n",
      "48.83\n",
      "48.89\n",
      "48.70\n",
      "48.99\n",
      "49.03\n",
      "48.72\n",
      "48.83\n",
      "47.92\n",
      "48.44\n",
      "48.59\n",
      "48.83\n",
      "48.42\n",
      "48.73\n",
      "48.23\n",
      "48.07\n",
      "48.23\n",
      "47.95\n",
      "47.89\n",
      "48.32\n",
      "48.25\n",
      "48.15\n",
      "48.35\n",
      "48.18\n",
      "48.14\n",
      "48.46\n",
      "47.91\n",
      "48.07\n",
      "48.47\n",
      "48.03\n",
      "47.94\n",
      "48.27\n",
      "48.42\n",
      "47.98\n",
      "48.26\n",
      "48.12\n",
      "47.65\n",
      "47.99\n",
      "47.68\n",
      "47.62\n",
      "47.83\n",
      "47.80\n",
      "47.53\n",
      "48.03\n",
      "47.86\n",
      "47.61\n",
      "47.75\n",
      "47.75\n",
      "47.56\n",
      "47.78\n",
      "47.68\n",
      "47.67\n",
      "47.79\n",
      "47.08\n",
      "47.06\n",
      "47.41\n",
      "47.49\n",
      "47.27\n",
      "47.45\n",
      "47.15\n",
      "47.21\n",
      "47.52\n",
      "46.97\n",
      "47.11\n",
      "47.41\n",
      "47.09\n",
      "47.26\n",
      "47.36\n",
      "47.48\n",
      "47.35\n",
      "47.52\n",
      "46.94\n",
      "47.14\n",
      "47.46\n",
      "47.18\n",
      "46.78\n",
      "46.93\n",
      "47.20\n",
      "46.86\n",
      "47.14\n",
      "46.74\n",
      "46.65\n",
      "47.08\n",
      "46.80\n",
      "46.72\n",
      "46.98\n",
      "47.05\n",
      "46.84\n",
      "46.94\n",
      "46.26\n",
      "46.64\n",
      "46.88\n",
      "47.21\n",
      "46.72\n",
      "46.82\n",
      "46.26\n",
      "46.35\n",
      "46.69\n",
      "47.02\n",
      "46.78\n",
      "46.91\n",
      "46.96\n",
      "46.75\n",
      "46.95\n",
      "46.28\n",
      "46.28\n",
      "46.44\n",
      "46.32\n",
      "45.99\n",
      "46.24\n",
      "46.66\n",
      "46.57\n",
      "46.60\n",
      "46.26\n",
      "46.35\n",
      "46.49\n",
      "46.70\n",
      "46.36\n",
      "46.50\n",
      "46.01\n",
      "45.86\n",
      "46.25\n",
      "46.08\n",
      "45.92\n",
      "46.30\n",
      "46.22\n",
      "46.12\n",
      "46.28\n",
      "46.05\n",
      "45.76\n",
      "46.02\n",
      "46.07\n",
      "45.74\n",
      "46.03\n",
      "46.39\n",
      "46.15\n",
      "46.22\n",
      "46.01\n",
      "45.70\n",
      "46.00\n",
      "46.25\n",
      "45.84\n",
      "46.00\n",
      "46.00\n",
      "45.58\n",
      "45.70\n",
      "45.02\n",
      "45.20\n",
      "45.60\n",
      "45.75\n",
      "45.61\n",
      "45.82\n",
      "46.06\n",
      "45.69\n",
      "45.85\n",
      "45.50\n",
      "45.59\n",
      "45.77\n",
      "45.58\n",
      "45.31\n",
      "45.47\n",
      "45.50\n",
      "45.22\n",
      "45.40\n",
      "45.65\n",
      "45.32\n",
      "45.38\n",
      "45.78\n",
      "45.24\n",
      "45.58\n",
      "45.92\n",
      "45.37\n",
      "45.25\n",
      "45.54\n",
      "45.35\n",
      "45.50\n",
      "45.39\n",
      "45.15\n",
      "45.33\n",
      "45.48\n",
      "45.10\n"
     ]
    }
   ],
   "source": [
    "cat /models/lm/penn/saves.ptb/best.log |\n",
    "    perl -lne '/valid ppl/ && next; /ppl +(\\S+) / && print $1'\n",
    "\n",
    "# for logfile in /models/lm/penn/saves.ptb/*.log\n",
    "# do\n",
    "#     logname=$(basename $logfile)\n",
    "#     logname=${logname%%.log}\n",
    "#     perl -ne '/valid ppl/ && next; /ppl +(\\S+) / && print $1, \" \"' < $logfile > /tmp/training-ppls-${logname}.txt\n",
    "# done"
   ]
  },
  {
   "cell_type": "markdown",
   "metadata": {},
   "source": [
    "b)  Compare the training speeds between `small.log` and\n",
    "    `nodrop.log`."
   ]
  },
  {
   "cell_type": "code",
   "execution_count": 26,
   "metadata": {},
   "outputs": [
    {
     "data": {
      "image/png": "[encoded data removed]"
     },
     "metadata": {},
     "output_type": "display_data"
    }
   ],
   "source": [
    "logdir=/models/lm/penn/saves.ptb\n",
    "\n",
    "get_training_ppls() {\n",
    "    cat $logdir/$1.log |\n",
    "        perl -ne '/valid ppl/ && next; /ppl +([0-9.]+) / && print $1, \",\"' # < $1\n",
    "}\n",
    "\n",
    "# here we have some Perl nested in a Bash function, nested in inline Python, nested in Bash...\n",
    "# I wonder whether there's some code injection vulnerability somewhere in there\n",
    "python3 << EOF | display\n",
    "from matplotlib import pyplot as plt\n",
    "import sys\n",
    "\n",
    "yvals = [$(get_training_ppls small)]\n",
    "xvals = [x/3 for x in range(len(yvals))]\n",
    "handle_small, = plt.plot(xvals, yvals, label=\"small\")\n",
    "yvals = [$(get_training_ppls nodrop)]\n",
    "xvals = [x/3 for x in range(len(yvals))]\n",
    "handle_nodrop, = plt.plot(xvals, yvals, label=\"nodrop\")\n",
    "plt.legend(handles=[handle_small, handle_nodrop])\n",
    "plt.xlim(0,100)\n",
    "plt.ylim(0,320)\n",
    "plt.xlabel('epoch')\n",
    "plt.ylabel('training perplexity')\n",
    "plt.savefig(sys.stdout)\n",
    "EOF"
   ]
  },
  {
   "cell_type": "markdown",
   "metadata": {},
   "source": [
    "c)  Look at the validation perplexities. How are they changing\n",
    "    across files?"
   ]
  },
  {
   "cell_type": "code",
   "execution_count": 27,
   "metadata": {},
   "outputs": [
    {
     "name": "stdout",
     "output_type": "stream",
     "text": [
      "329.10\n",
      "210.05\n",
      "192.61\n",
      "145.94\n",
      "134.84\n",
      "119.21\n",
      "112.46\n",
      "105.92\n",
      "101.31\n",
      "97.24\n",
      "95.24\n",
      "92.40\n",
      "90.59\n",
      "88.13\n",
      "86.52\n",
      "87.30\n",
      "83.64\n",
      "83.79\n",
      "82.02\n",
      "81.85\n",
      "80.99\n",
      "80.34\n",
      "79.49\n",
      "78.81\n",
      "78.03\n",
      "77.29\n",
      "77.23\n",
      "77.43\n",
      "76.64\n",
      "76.02\n",
      "76.05\n",
      "75.13\n",
      "75.78\n",
      "74.95\n",
      "74.90\n",
      "74.42\n",
      "73.96\n",
      "73.41\n",
      "73.51\n",
      "72.72\n",
      "72.93\n",
      "72.54\n",
      "72.71\n",
      "72.46\n",
      "72.71\n",
      "71.93\n",
      "71.51\n",
      "71.61\n",
      "71.35\n",
      "71.41\n",
      "73.82\n",
      "67.48\n",
      "67.16\n",
      "66.93\n",
      "66.67\n",
      "66.51\n",
      "66.37\n",
      "66.26\n",
      "66.15\n",
      "66.06\n",
      "65.98\n",
      "65.91\n",
      "65.84\n",
      "65.77\n",
      "65.69\n",
      "65.62\n",
      "65.55\n",
      "65.50\n",
      "65.44\n",
      "65.38\n",
      "65.32\n",
      "65.27\n",
      "65.22\n",
      "65.16\n",
      "65.12\n",
      "65.06\n",
      "65.02\n",
      "64.97\n",
      "64.93\n",
      "64.88\n",
      "64.84\n",
      "64.79\n",
      "64.75\n",
      "64.70\n",
      "64.66\n",
      "64.61\n",
      "64.57\n",
      "64.53\n",
      "64.50\n",
      "64.46\n",
      "64.42\n",
      "64.39\n",
      "64.35\n",
      "64.32\n",
      "64.29\n",
      "64.26\n",
      "64.23\n",
      "64.20\n",
      "64.17\n",
      "64.14\n",
      "64.11\n",
      "64.07\n",
      "64.04\n",
      "64.01\n",
      "63.98\n",
      "63.95\n",
      "63.93\n",
      "63.90\n",
      "63.87\n",
      "63.84\n",
      "63.81\n",
      "63.78\n",
      "63.75\n",
      "63.73\n",
      "63.70\n",
      "63.67\n",
      "63.65\n",
      "63.62\n",
      "63.60\n",
      "63.57\n",
      "63.55\n",
      "63.53\n",
      "63.51\n",
      "63.48\n",
      "63.46\n",
      "63.44\n",
      "63.41\n",
      "63.39\n",
      "63.37\n",
      "63.34\n",
      "63.32\n",
      "63.30\n",
      "63.28\n",
      "63.26\n",
      "63.23\n",
      "63.21\n",
      "63.19\n",
      "63.17\n",
      "63.15\n",
      "63.13\n",
      "63.11\n",
      "63.09\n",
      "63.08\n",
      "63.06\n",
      "63.04\n",
      "63.02\n",
      "63.00\n",
      "62.99\n",
      "62.97\n",
      "62.95\n",
      "62.94\n",
      "62.92\n",
      "62.91\n",
      "62.89\n",
      "62.87\n",
      "62.86\n",
      "62.84\n",
      "62.83\n",
      "62.81\n",
      "62.80\n",
      "62.78\n",
      "62.77\n",
      "62.75\n",
      "62.74\n",
      "62.72\n",
      "62.71\n",
      "62.70\n",
      "62.68\n",
      "62.67\n",
      "62.66\n",
      "62.64\n",
      "62.63\n",
      "62.62\n",
      "62.60\n",
      "62.59\n",
      "62.58\n",
      "62.57\n",
      "62.56\n",
      "62.54\n",
      "62.53\n",
      "62.52\n",
      "62.51\n",
      "62.49\n",
      "62.48\n",
      "62.47\n",
      "62.46\n",
      "62.45\n"
     ]
    }
   ],
   "source": [
    "cat /models/lm/penn/saves.ptb/best.log |\n",
    "    perl -lne '/valid ppl +(\\S+) / && print $1'\n",
    "\n",
    "# for logfile in /models/lm/penn/saves.ptb/*.log\n",
    "# do\n",
    "#     logname=$(basename $logfile)\n",
    "#     logname=${logname%%.log}\n",
    "#     perl -ne '/valid ppl +(\\S+) / && print $1, \" \"' < $logfile > /tmp/valid-ppls-${logname}.txt\n",
    "# done"
   ]
  },
  {
   "cell_type": "code",
   "execution_count": 28,
   "metadata": {
    "scrolled": false
   },
   "outputs": [
    {
     "data": {
      "image/png": "[encoded data removed]"
     },
     "metadata": {},
     "output_type": "display_data"
    }
   ],
   "source": [
    "get_valid_ppls() {\n",
    "    cat $logdir/$1.log |\n",
    "        perl -ne '/valid ppl +([0-9.]+) / && print $1, \",\"' # < $1\n",
    "}\n",
    "\n",
    "python3 << EOF | display\n",
    "from matplotlib import pyplot as plt\n",
    "import sys\n",
    "\n",
    "yvals = [$(get_valid_ppls small)]\n",
    "xvals = [x for x in range(len(yvals))]\n",
    "handle_small, = plt.plot(xvals, yvals, label=\"small\")\n",
    "yvals = [$(get_valid_ppls nodrop)]\n",
    "xvals = [x for x in range(len(yvals))]\n",
    "handle_nodrop, = plt.plot(xvals, yvals, label=\"nodrop\")\n",
    "yvals = [$(get_valid_ppls best)]\n",
    "xvals = [x for x in range(len(yvals))]\n",
    "handle_best, = plt.plot(xvals, yvals, label=\"best\")\n",
    "plt.legend(handles=[handle_small, handle_nodrop, handle_best])\n",
    "plt.xlim(0,128)\n",
    "plt.ylim(0,320)\n",
    "plt.xlabel('epoch')\n",
    "plt.ylabel('validation perplexity')\n",
    "plt.savefig(sys.stdout)\n",
    "EOF"
   ]
  },
  {
   "cell_type": "markdown",
   "metadata": {},
   "source": [
    "d)  Same for the training perplexities."
   ]
  },
  {
   "cell_type": "code",
   "execution_count": 29,
   "metadata": {},
   "outputs": [
    {
     "data": {
      "image/png": "[encoded data removed]"
     },
     "metadata": {},
     "output_type": "display_data"
    }
   ],
   "source": [
    "python3 << EOF | display\n",
    "from matplotlib import pyplot as plt\n",
    "import sys\n",
    "\n",
    "yvals = [$(get_training_ppls small)]\n",
    "xvals = [x/3 for x in range(len(yvals))]\n",
    "handle_small, = plt.plot(xvals, yvals, label=\"small\")\n",
    "yvals = [$(get_training_ppls nodrop)]\n",
    "xvals = [x/3 for x in range(len(yvals))]\n",
    "handle_nodrop, = plt.plot(xvals, yvals, label=\"nodrop\")\n",
    "yvals = [$(get_training_ppls best)]\n",
    "xvals = [x/3 for x in range(len(yvals))]\n",
    "handle_best, = plt.plot(xvals, yvals, label=\"best\")\n",
    "plt.legend(handles=[handle_small, handle_nodrop, handle_best])\n",
    "plt.xlim(0,128)\n",
    "plt.ylim(0,320)\n",
    "plt.xlabel('epoch')\n",
    "plt.ylabel('training perplexity')\n",
    "plt.savefig(sys.stdout)\n",
    "EOF"
   ]
  },
  {
   "cell_type": "markdown",
   "metadata": {},
   "source": [
    "## 2.  Computing Perplexity of Unseen Data\n",
    "\n",
    "You can then try to compute the perplexity of the test data located\n",
    "at `/data/lm/penn/test.txt`.  \n",
    "`perplexity.py --help` will give you the required options to\n",
    "proceed.  \n",
    "\n",
    "a)  Provided the three different pre-trained models, can you compute\n",
    "    the test perplexity of each of them?\n",
    "\n",
    "*Note*: There will be a bunch of `SourceChangeWarning`s which you\n",
    "can safely ignore"
   ]
  },
  {
   "cell_type": "code",
   "execution_count": 30,
   "metadata": {},
   "outputs": [
    {
     "name": "stdout",
     "output_type": "stream",
     "text": [
      "usage: perplexity.py [-h] [--train TRAIN] [--test TEST] [--model MODEL]\n",
      "                     [--checkpoint CHECKPOINT] [--seed SEED] [--cuda]\n",
      "                     [--batch_size BATCH_SIZE] [--output_file OUTPUT_FILE]\n",
      "                     [--log-interval LOG_INTERVAL] [--reset_sentence]\n",
      "\n",
      "PyTorch PTB Language Model\n",
      "\n",
      "optional arguments:\n",
      "  -h, --help            show this help message and exit\n",
      "  --train TRAIN         location of the data corpus\n",
      "  --test TEST           location of the data corpus\n",
      "  --model MODEL         type of recurrent net (LSTM, QRNN)\n",
      "  --checkpoint CHECKPOINT\n",
      "                        model checkpoint to use\n",
      "  --seed SEED           random seed\n",
      "  --cuda                use CUDA\n",
      "  --batch_size BATCH_SIZE\n",
      "                        batch size to use\n",
      "  --output_file OUTPUT_FILE\n",
      "                        location of output file for each sentence\n",
      "  --log-interval LOG_INTERVAL\n",
      "                        reporting interval\n",
      "  --reset_sentence      reset hidden state after each sentence\n"
     ]
    }
   ],
   "source": [
    "/opt/lstm-lm/perplexity.py --help"
   ]
  },
  {
   "cell_type": "code",
   "execution_count": 31,
   "metadata": {},
   "outputs": [
    {
     "name": "stdout",
     "output_type": "stream",
     "text": [
      "/usr/local/lib/python3.7/site-packages/torch/serialization.py:435: SourceChangeWarning: source code of class 'torch.nn.modules.dropout.Dropout' has changed. you can retrieve the original source code by accessing the object's source attribute or set `torch.nn.Module.dump_patches = True` and use the patch tool to revert the changes.\n",
      "  warnings.warn(msg, SourceChangeWarning)\n",
      "/usr/local/lib/python3.7/site-packages/torch/serialization.py:435: SourceChangeWarning: source code of class 'torch.nn.modules.sparse.Embedding' has changed. you can retrieve the original source code by accessing the object's source attribute or set `torch.nn.Module.dump_patches = True` and use the patch tool to revert the changes.\n",
      "  warnings.warn(msg, SourceChangeWarning)\n",
      "/usr/local/lib/python3.7/site-packages/torch/serialization.py:435: SourceChangeWarning: source code of class 'torch.nn.modules.container.ModuleList' has changed. you can retrieve the original source code by accessing the object's source attribute or set `torch.nn.Module.dump_patches = True` and use the patch tool to revert the changes.\n",
      "  warnings.warn(msg, SourceChangeWarning)\n",
      "/usr/local/lib/python3.7/site-packages/torch/serialization.py:435: SourceChangeWarning: source code of class 'torch.nn.modules.rnn.LSTM' has changed. you can retrieve the original source code by accessing the object's source attribute or set `torch.nn.Module.dump_patches = True` and use the patch tool to revert the changes.\n",
      "  warnings.warn(msg, SourceChangeWarning)\n",
      "/usr/local/lib/python3.7/site-packages/torch/serialization.py:435: SourceChangeWarning: source code of class 'torch.nn.modules.linear.Linear' has changed. you can retrieve the original source code by accessing the object's source attribute or set `torch.nn.Module.dump_patches = True` and use the patch tool to revert the changes.\n",
      "  warnings.warn(msg, SourceChangeWarning)\n",
      "/usr/local/lib/python3.7/site-packages/torch/serialization.py:435: SourceChangeWarning: source code of class 'torch.nn.modules.loss.CrossEntropyLoss' has changed. you can retrieve the original source code by accessing the object's source attribute or set `torch.nn.Module.dump_patches = True` and use the patch tool to revert the changes.\n",
      "  warnings.warn(msg, SourceChangeWarning)\n",
      "RNNModel(\n",
      "  (lockdrop): LockedDropout()\n",
      "  (idrop): Dropout(p=0.4)\n",
      "  (hdrop): Dropout(p=0.25)\n",
      "  (drop): Dropout(p=0.4)\n",
      "  (encoder): Embedding(10000, 400)\n",
      "  (rnns): ModuleList(\n",
      "    (0): WeightDrop(\n",
      "      (module): LSTM(400, 1150)\n",
      "    )\n",
      "    (1): WeightDrop(\n",
      "      (module): LSTM(1150, 1150)\n",
      "    )\n",
      "    (2): WeightDrop(\n",
      "      (module): LSTM(1150, 400)\n",
      "    )\n",
      "  )\n",
      "  (decoder): Linear(in_features=1150, out_features=10000, bias=True)\n",
      ")\n",
      "Starting evaluation\n",
      "Number of words in the test data: 82430\n",
      "Evaluated 10000 words\n",
      "Evaluated 20000 words\n",
      "Evaluated 30000 words\n",
      "Evaluated 40000 words\n",
      "Evaluated 50000 words\n",
      "Evaluated 60000 words\n",
      "Evaluated 70000 words\n",
      "Evaluated 80000 words\n",
      "=========================================================================================\n",
      "| Test loss  4.08 | test ppl    59.31 | test bpc    5.890\n",
      "=========================================================================================\n"
     ]
    }
   ],
   "source": [
    "/opt/lstm-lm/perplexity.py \\\n",
    "    --checkpoint /models/lm/penn/saves.ptb/PTB.pt \\\n",
    "    --train /data/lm/penn/train.txt \\\n",
    "    --test /data/lm/penn/test.txt"
   ]
  },
  {
   "cell_type": "markdown",
   "metadata": {},
   "source": [
    "## 3.  Generating new Data from the Model\n",
    "\n",
    "A nice thing about the neural language model is that it can easily\n",
    "be used as a generational model, e. g. it can generate new data.  \n",
    "`generate.py` will help you generate new sentences from a model that\n",
    "we trained on 1 million words of Wikipedia text. After you start the\n",
    "program you can give it a prefix, and it will generate a\n",
    "continuation, e. g. supplying *\"the meaning of life is\"* as input\n",
    "will generate a sentence starting with this input.\n",
    "\n",
    "Take a look at the output generated by the model. Can you assess the\n",
    "quality of the generated sentences?\n",
    "\n",
    "a)  Are they grammatically correct?"
   ]
  },
  {
   "cell_type": "code",
   "execution_count": 32,
   "metadata": {
    "scrolled": true
   },
   "outputs": [
    {
     "name": "stdout",
     "output_type": "stream",
     "text": [
      "Enter your input (lower-cased :)):the meaning of life is selected in the N have purchased the year in one centuries and $ N in automobile stunning losses\n",
      "this\n",
      "was one of the N institutions that discover that future owners faced a inserted personal operating commitment as the home\n",
      "opposing the control of three cosmetics boards sold opted for smokers\n",
      "he added that most examples that the stable\n",
      "will be negotiation\n",
      "promises of money will be extremely costly he said compared with outperform taxi buyers chevrolet is\n",
      "thought other than the federal\n",
      "the stock market 's plunge third-largest sums under government considers a ferranti set for\n",
      "its nose toward major interest-rate purchases in the european market analysts said\n",
      "combined their surplus at N billion marks\n",
      "a year and their figures expressed early in the past of describing what it means for companies to find the\n",
      "first public critical said michael l. republics an industry adviser in new york\n",
      "the firms say that that as\n",
      "of the end of this year food shipments reduced the interest-rate flows of this year\n",
      "the new group has\n",
      "a friendly mail-order group the highest for two years said mr. glenn in the small businesses in the company 's\n",
      "various competitor\n",
      "looking into mental and learning products with market tool suddenly seemingly play a grim magnetic sense if\n",
      "the whole increasingly desirable presence of the advisers now depends on his alleged toy rates the board covers the consumer\n",
      "electronics product which has today extended its in congressional aid\n",
      "it 's a high level of shelters built along\n",
      "in them has plummeted plunging N in the first year from it is cereal manufacturing\n",
      "but the atlantic amendment\n",
      "been a stark problem monday which is n't precise to the ivory coast\n",
      "yesterday the department provided four monopoly\n",
      "about the plumbing and safety can put in english far and other of them to be more modest\n",
      "but\n",
      "the move packaged-goods companies are in a severe position in industry and studio owners try to open off a friendly\n",
      "challenge to the press\n",
      "to make them less difficult to alter what is serious about making donations and corporate\n",
      "executives said they hope the humana effort will simply lead to the poverty of alleged theories that the tax which\n",
      "allows us to exercise technology to potential businesses\n",
      "not a supply how will the international enabled to trim <eos>\n",
      "business has been restricted in two days and bans on its fine name gives delivery to sports\n",
      "protected by\n",
      "the assassination program is likely to be a situations that has shows the takeover offerings shift\n",
      "but such difficulties\n",
      "are no doubt their positions are moving the tank commissioner added\n",
      "in raising expense of a test if the\n",
      "kind of program machine is further exceeded by its experience\n",
      "computer managers contend that adopt the vax and abuse\n",
      "of so-called skills as the federal city a unit of the chamber of commerce is pushing in interstate transportation resolution\n",
      "for a number of elevators\n",
      "the properties have publicly invested rid of holdings since N\n",
      "still dean witter\n",
      "could sell the entire company for that cost of the dig cost\n",
      "there 's now not the right to\n",
      "provide without very sensitive sense says john g. smith the buyer of a 's new york board\n",
      "wilbur h.\n",
      "hahn president of the minneapolis airline of engineers and financial services was named president and chief operating officer\n",
      "banks\n",
      "and the u.s. have the credit throughout two years of as much as N N of the assets\n",
      "the\n",
      "hong kong measure might be a market commitment to the poor values of wall street\n",
      "markey d. b.a.t is\n",
      "a much more aggressive task as an fake said marc burton a market strategist at kleinwort benson international predicted that\n",
      "changes in the chairman and utility company should be made in market moves\n",
      "but he said the paper mr.\n",
      "ferguson 'm not signing into the seattle consortium jonathan famous about the change\n",
      "mr. craven 's first board had\n",
      "promised reducing his expected garbage subsidies to N N of the total level and he said named a vice president\n",
      "<eos> it 's a major week such practice rules such as legal optimistic\n",
      "it 's just a sweet job\n",
      "that does n't involve protest\n",
      "had the privilege\n",
      "almost all the company does n't provide willing plans for\n",
      "the vax\n",
      "indeed in and out of the stock market at least professional companies company bought an additional $\n",
      "N million frame\n",
      "the national airline with a pretax charge of $ N million the petition prof. roderick said\n",
      "<eos> and costs of procedural operations were reduced by the sale of the company riskier than the u.s. retailing company\n",
      "<eos> scott e. allen in securities analyst with edward r. chung said in addition that the move was n't adequate\n",
      "that the company still has a free new control market\n",
      "he noted that the company would n't return to\n",
      "any new them\n",
      "while there are a few associated workers at the company 's new headquarters few hospital facilities\n",
      "are the most likely the means\n",
      "mr. azoff was head of the rumored exploration concern and those the resignations\n",
      "slumped in late may while chief of price-earnings complicated showing hinted that about N N of the unit 's revenue\n",
      "would be improperly paid\n",
      "during the past three years when the correction sustained some of the prepared reports mr.\n",
      "steinhardt writes a slew of recent detailed approaches to he said he would depend on how to pull provigo holding\n",
      "company to mr. mark just that it had no plans to get up in throughout but he disclosed it required\n",
      "to make\n",
      "the operating mattel organization group developed new countries said did bad to engage in a new ceiling\n",
      "practices decreased substantially\n",
      "this time mr. christie said that pressure from the group will be hurt by the failure\n"
     ]
    }
   ],
   "source": [
    "echo \"the meaning of life is\" |\n",
    "    /opt/lstm-lm/generate.py \\\n",
    "    --checkpoint /models/lm/penn/saves.ptb/PTB.pt \\\n",
    "    --data /data/lm/penn 2>/dev/null |\n",
    "    sed 's/ <eos> /\\n/g'"
   ]
  },
  {
   "cell_type": "markdown",
   "metadata": {},
   "source": [
    "b)  Can you find any semantic connection between sentences/phrases\n",
    "    being generated?\n",
    "  - Very little coherence, the model doesn't stick to any topic for more than a couple of words. The LSTM model doesn't seem consider context/history more than a few words in the past."
   ]
  },
  {
   "cell_type": "markdown",
   "metadata": {},
   "source": [
    "Task 4: Preprocessing\n",
    "=============\n",
    "\n",
    "Tokenization\n",
    "------------\n",
    "\n",
    "Tokenization, in brief terms, is the task of breaking down the text\n",
    "stream into discrete units, called *tokens*. Before looking at\n",
    "tokenization, let's first take a look at the data itself:\n"
   ]
  },
  {
   "cell_type": "code",
   "execution_count": 33,
   "metadata": {},
   "outputs": [
    {
     "name": "stdout",
     "output_type": "stream",
     "text": [
      "Resumption of the session\n",
      "I declare resumed the session of the European Parliament adjourned on Friday, 15 December 2000.\n",
      "Statements by the President\n",
      "Ladies and gentlemen, on Saturday, as you know, an earthquake struck Central America once again, with tragic consequences.\n",
      "This is an area which has already been seriously affected on a number of occasions since the beginning of the twentieth century.\n",
      "The latest, provisional, figures for victims in El Salvador are already very high.\n",
      "There are 350 people dead, 1 200 people missing, the area is completely devastated and thousands of homes have been destroyed throughout the country.\n",
      "The European Union has already shown its solidarity by sending a rescue team to the area, whilst financial assistance from the Union and Member States has been, or is in the process of being, released and I am able to inform you that some groups in the European Parliament have requested that this issue be included in the debate on topical and urgent subjects of major importance on Thursday.\n",
      "However, I should like to inform you that I have, of course, on behalf of the European Union, expressed our sincere condolences and deepest sympathy to the President of El Salvador in the tragedy which has struck his country.\n",
      "I would ask you, as a mark of respect for the victims and for the immense suffering of their families, to observe a minute' s silence.\n"
     ]
    }
   ],
   "source": [
    "head /data/nc19/europarl-v9.en"
   ]
  },
  {
   "cell_type": "markdown",
   "metadata": {},
   "source": [
    "First, let's manually try to extract the unique words in this corpus.\n",
    "The following command will extract a (sorted and de-duplicated) list of\n",
    "tokens, as well as an occurrence count for each of them, from the text\n",
    "file:"
   ]
  },
  {
   "cell_type": "code",
   "execution_count": 34,
   "metadata": {},
   "outputs": [],
   "source": [
    "cat /data/nc19/europarl-v9.en | tr ' ' '\\n' | sort | uniq -c > /tmp/europarl.hist"
   ]
  },
  {
   "cell_type": "markdown",
   "metadata": {},
   "source": [
    "Then read the file *europarl.hist*. Try to answer the following\n",
    "questions:\n",
    "\n",
    "-   How many items (words separated by space) are there in the original\n",
    "    europarl-v9.en data?"
   ]
  },
  {
   "cell_type": "code",
   "execution_count": 35,
   "metadata": {},
   "outputs": [
    {
     "name": "stdout",
     "output_type": "stream",
     "text": [
      "329276\n"
     ]
    }
   ],
   "source": [
    "wc -l < /tmp/europarl.hist"
   ]
  },
  {
   "cell_type": "markdown",
   "metadata": {},
   "source": [
    "-   Is each one of the items totally unique, or can you spot some\n",
    "    obvious redundancies?"
   ]
  },
  {
   "cell_type": "code",
   "execution_count": 36,
   "metadata": {},
   "outputs": [
    {
     "name": "stdout",
     "output_type": "stream",
     "text": [
      "      2 Example\n",
      "    162 Examples\n",
      "      1 Examples,\n",
      "  11829 example\n",
      "     12 example!\n",
      "      4 example'\n",
      "      1 example',\n",
      "      1 example'.\n",
      "     23 example)\n",
      "     20 example),\n",
      "     11 example).\n",
      "      1 example)?\n",
      "  16499 example,\n",
      "   2328 example.\n",
      "      1 example.4.If\n",
      "      1 example.I\n",
      "    379 example:\n",
      "     46 example;\n",
      "     91 example?\n",
      "      1 example?!\n",
      "   2263 examples\n",
      "      2 examples)\n",
      "      2 examples),\n",
      "      3 examples).\n",
      "    254 examples,\n",
      "    438 examples.\n",
      "    144 examples:\n",
      "      9 examples;\n",
      "      6 examples?\n",
      "      1 examplesas\n",
      "      1 example…\n"
     ]
    }
   ],
   "source": [
    "cat /tmp/europarl.hist | grep -i ' *[0-9]*  *example'"
   ]
  },
  {
   "cell_type": "markdown",
   "metadata": {},
   "source": [
    "-   Does the phenomenon in question affect statistical models (such as\n",
    "    $n$-gram models) or probabilistic models such as neural language\n",
    "    models?\n",
    "  - Yes, it affects both. With more vocabulary words and less samples per word the maximum-likelihood estimation for the word embeddings, as well as the $n$-gram probabilities will yield worse estimations"
   ]
  },
  {
   "cell_type": "markdown",
   "metadata": {},
   "source": [
    "Tokenization aims at solving the problems that we observed. For\n",
    "languages such as English and German, the tools are often implemented\n",
    "with rule-based approaches. A standard tool for such tokenization is\n",
    "`tokenizer.perl` from the `Moses` SMT project:"
   ]
  },
  {
   "cell_type": "code",
   "execution_count": 37,
   "metadata": {},
   "outputs": [
    {
     "name": "stdout",
     "output_type": "stream",
     "text": [
      "This is an example , ( it shows how &quot; tokenziation &quot; works ) .\n"
     ]
    }
   ],
   "source": [
    "echo 'This is an example, (it shows how \"tokenziation\" works).' |\n",
    "    sacremoses tokenize 2>/dev/null"
   ]
  },
  {
   "cell_type": "markdown",
   "metadata": {},
   "source": [
    "You can run the tool to tokenize your input file:"
   ]
  },
  {
   "cell_type": "code",
   "execution_count": 38,
   "metadata": {},
   "outputs": [],
   "source": [
    "sacremoses tokenize < /data/nc19/europarl-v9.en > /tmp/europarl-v9.tok.en"
   ]
  },
  {
   "cell_type": "markdown",
   "metadata": {},
   "source": [
    "Note: The file name is a typical convention in the Natural Language\n",
    "Processing (NLP) community. The 'tok' suffix is just a naming\n",
    "convention, telling that tokenization is applied on top of the input\n",
    "file.\n",
    "\n",
    "Now you can try to extract to vocab again."
   ]
  },
  {
   "cell_type": "code",
   "execution_count": 39,
   "metadata": {},
   "outputs": [],
   "source": [
    "cat /tmp/europarl-v9.tok.en | tr ' ' '\\n' | sort | uniq -c > /tmp/europarl.tok.hist"
   ]
  },
  {
   "cell_type": "markdown",
   "metadata": {},
   "source": [
    "The tokenized text file is always longer than the original one. By using\n",
    "the `wc` command you can verify if your command ran correctly or not.\n",
    "How many words do you now have in this vocabulary?"
   ]
  },
  {
   "cell_type": "code",
   "execution_count": 40,
   "metadata": {},
   "outputs": [
    {
     "name": "stdout",
     "output_type": "stream",
     "text": [
      "140483\n"
     ]
    }
   ],
   "source": [
    "wc -l < /tmp/europarl.tok.hist"
   ]
  },
  {
   "cell_type": "markdown",
   "metadata": {},
   "source": [
    "True-Casing\n",
    "-----------\n",
    "\n",
    "When you look at the vocabulary file, you will probably find there to\n",
    "still be some duplicate words, once in upper-case form and once in\n",
    "lower-case form: "
   ]
  },
  {
   "cell_type": "code",
   "execution_count": 41,
   "metadata": {},
   "outputs": [
    {
     "name": "stdout",
     "output_type": "stream",
     "text": [
      "      2 Example\n",
      "  31252 example\n"
     ]
    }
   ],
   "source": [
    "cat /tmp/europarl.tok.hist | grep -i ' *[0-9]*  *example$'"
   ]
  },
  {
   "cell_type": "markdown",
   "metadata": {},
   "source": [
    "The more we can\n",
    "reduce the number of duplication the better, so after tokenization we\n",
    "will use a true-casing tool to strip even more redundancy.  \n",
    "We apply the true-casing in a 2 step procedure:\n",
    "\n",
    "1.  train a true-casing model to get the \"true\" case of each vocabulary\n",
    "    word using  \n",
    "    `$ sacremoses train-truecase -m /tmp/truecase-model.en < /tmp/europarl-v9.tok.en`\n",
    "\n",
    "2.  apply the model to the data to convert upper-cased words at the the\n",
    "    beginning of the sentence to their respective \"true\" case:  \n",
    "    `$ sacremoses truecase -m /tmp/truecase-model.en < /tmp/europarl-v9.tok.en > /tmp/europarl-v9.true.en`  \n",
    "    (it may take a few minutes to complete)"
   ]
  },
  {
   "cell_type": "code",
   "execution_count": 42,
   "metadata": {},
   "outputs": [],
   "source": [
    "# sorry, `sacremoses train-truecase` seems to be buggy\n",
    "sacremoses tokenize < /tmp/europarl-v9.tok.en |\n",
    "    python3 -c 'import sys; from sacremoses import MosesTruecaser; mtr = MosesTruecaser(); mtr.train([line.split(\" \") for line in sys.stdin], save_to=\"/tmp/truecase-model.en\")'\n",
    "grep / /tmp/truecase-model.en | grep -v '^ *(' > /tmp/truecase-model.new.en"
   ]
  },
  {
   "cell_type": "code",
   "execution_count": 56,
   "metadata": {
    "scrolled": true
   },
   "outputs": [],
   "source": [
    "#sacremoses train-truecase -m /tmp/truecase-model.en < /tmp/europarl-v9.tok.en\n",
    "sacremoses truecase -m /tmp/truecase-model.new.en < /tmp/europarl-v9.tok.en > /tmp/europarl-v9.true.en"
   ]
  },
  {
   "cell_type": "markdown",
   "metadata": {},
   "source": [
    "Note that we need the tokenized text file to train the model (Why? What\n",
    "would happen if we use the original file?).  \n",
    "\n",
    "If you check the model file\n",
    "contents, you will see it simply contains statistics about upper-case\n",
    "and lower-case occurrences for each word."
   ]
  },
  {
   "cell_type": "code",
   "execution_count": 54,
   "metadata": {},
   "outputs": [
    {
     "name": "stdout",
     "output_type": "stream",
     "text": [
      "of (2040182/2040314) OF (73) Of (59)\n",
      "the (3980832/3988538) The (7706)\n",
      "declare (1672/1672)\n",
      "resumed (1382/1382)\n",
      "session (3046/3144) Session (98)\n",
      "European (337403/337412) european (7) EUROPEAN (2)\n",
      "Parliament (130521/133069) parliament (2548)\n",
      "adjourned (598/598)\n",
      "on (552645/552953) On (308)\n",
      "Friday (1172/1172)\n",
      "December (7753/7753)\n",
      "by (290781/290833) By (52)\n",
      "and (1621667/1621744) And (54) AND (23)\n",
      "gentlemen (30866/30922) Gentlemen (56)\n",
      "Saturday (379/379)\n",
      "as (358767/359422) As (655)\n",
      "you (129728/129945) You (217)\n",
      "know (36502/36504) Know (2)\n",
      "an (189431/189556) An (124) AN (1)\n",
      "earthquake (833/838) Earthquake (5)\n",
      "struck (1192/1192)\n",
      "Central (6880/12782) central (5902)\n",
      "America (4665/4665)\n",
      "once (17248/17278) Once (29) ONCE (1)\n",
      "again (26169/26171) AGAIN (1) Again (1)\n",
      "with (355486/355683) With (197)\n",
      "tragic (2337/2337)\n",
      "consequences (9592/9593) Consequences (1)\n",
      "is (932988/933049) Is (59) IS (2)\n",
      "area (35723/36774) Area (1051)\n",
      "which (335299/335308) Which (9)\n",
      "has (254931/254947) Has (16)\n",
      "already (39201/39201)\n",
      "been (147309/147309)\n",
      "seriously (6092/6092)\n",
      "affected (7167/7167)\n",
      "a (923676/924711) A (1035)\n",
      "number (32451/32470) Number (19)\n",
      "occasions (3135/3135)\n",
      "since (26049/26161) Since (112)\n",
      "beginning (6314/6318) Beginning (4)\n",
      "twentieth (170/175) Twentieth (5)\n",
      "century (3247/3333) Century (86)\n",
      "latest (2938/2939) Latest (1)\n",
      "provisional (578/603) Provisional (25)\n",
      "figures (4503/4508) Figures (5)\n",
      "for (642122/642320) For (198)\n",
      "victims (8139/8188) Victims (49)\n",
      "in (1220003/1221433) In (1424) IN (6)\n",
      "EL (421/842) El (392) el (29)\n",
      "Salvador (147/147)\n",
      "are (414352/414528) ARE (143) Are (33)\n",
      "very (108507/108531) Very (24)\n",
      "high (15560/18774) High (3214)\n",
      "people (84134/89015) People (4881)\n",
      "dead (1309/1314) Dead (5)\n",
      "missing (1462/1506) Missing (44)\n",
      "completely (7632/7632)\n",
      "devastated (344/344)\n",
      "thousands (4449/4451) Thousands (2)\n",
      "homes (1203/1203)\n",
      "have (391604/391624) Have (20)\n",
      "destroyed (1414/1414)\n",
      "throughout (9017/9021) Throughout (4)\n",
      "country (44476/44736) Country (260)\n",
      "Union (142284/147611) union (5324) UNION (3)\n",
      "shown (6766/6766)\n",
      "its (122716/122861) ITS (142) Its (2) ITs (1)\n",
      "solidarity (11279/12803) Solidarity (1524)\n",
      "sending (1672/1672)\n",
      "rescue (857/866) Rescue (9)\n",
      "team (1657/1683) Team (18) TEAM (8)\n",
      "to (1873981/1874101) To (119) TO (1)\n",
      "whilst (3573/3627) Whilst (54)\n",
      "financial (43797/46727) Financial (2930)\n",
      "assistance (10439/10798) Assistance (359)\n",
      "from (168851/168893) From (42)\n",
      "Member (126526/132015) member (5489)\n",
      "States (124720/138413) states (13692) STATES (1)\n",
      "or (121325/121339) Or (8) OR (6)\n",
      "process (33090/33978) Process (888)\n",
      "being (58428/58441) Being (13)\n",
      "released (1283/1283)\n",
      "I (358496/359208) i (712)\n",
      "am (70943/70963) Am (11) AM (9)\n",
      "able (34373/34373)\n",
      "inform (3433/3433)\n",
      "that (968502/968635) That (133)\n",
      "some (58995/59032) Some (37)\n",
      "groups (13957/14271) Groups (314)\n",
      "requested (2997/2997)\n",
      "this (497461/498566) This (1105)\n",
      "issue (45145/45145)\n",
      "be (493752/493772) Be (18) BE (2)\n",
      "included (8030/8030)\n",
      "debate (48779/48816) Debate (37)\n",
      "topical (930/931) Topical (1)\n",
      "urgent (6008/6034) URGENT (20) Urgent (6)\n",
      "subjects (1932/1934) Subjects (2)\n",
      "major (17656/17726) Major (70)\n",
      "importance (20595/20595)\n",
      "Thursday (2372/2373) thursday (1)\n",
      "should (175753/175762) Should (9)\n",
      "like (111038/111088) Like (50)\n",
      "course (34339/34349) Course (9) COURSE (1)\n",
      "behalf (25761/25761)\n",
      "expressed (8091/8091)\n",
      "our (160496/160607) Our (111)\n",
      "sincere (1332/1332)\n",
      "condolences (538/538)\n",
      "deepest (270/270)\n",
      "sympathy (1216/1216)\n",
      "President (153059/154365) president (1306)\n",
      "tragedy (2166/2167) Tragedy (1)\n",
      "his (32662/32764) His (102)\n",
      "would (183076/183095) Would (19)\n",
      "ask (21608/21631) Ask (23)\n",
      "mark (1847/1934) Mark (86) MARK (1)\n",
      "respect (28479/28496) Respect (17)\n",
      "immense (763/763)\n",
      "suffering (3978/3978)\n",
      "their (118390/118424) Their (34)\n",
      "families (4427/4507) Families (79) FAMILIES (1)\n",
      "observe (1449/1449)\n",
      "minute (1679/1686) Minute (7)\n",
      "&amp; (288856/288856)\n",
      "apos (285043/285043)\n",
      "s (190314/190817) S (503)\n"
     ]
    }
   ],
   "source": [
    "head -n128 /tmp/truecase-model.new.en"
   ]
  },
  {
   "cell_type": "code",
   "execution_count": 55,
   "metadata": {},
   "outputs": [
    {
     "name": "stdout",
     "output_type": "stream",
     "text": [
      "listen potato Word Peter Germany USA\n",
      "\n",
      "word (4988/4996) Word (7) WORD (1)\n",
      "Germany (6190/6190)\n",
      "listen (2362/2369) Listen (7)\n",
      "USA (3041/3041)\n",
      "potato (245/245)\n",
      "Peter (243/250) peter (7)\n"
     ]
    }
   ],
   "source": [
    "echo 'Listen Potato Word Peter Germany USA' |\n",
    "    sacremoses truecase -m /tmp/truecase-model.new.en\n",
    "echo\n",
    "grep -E -i '^(Listen|Potato|Word|Peter|Germany|USA) ' /tmp/truecase-model.en"
   ]
  },
  {
   "cell_type": "markdown",
   "metadata": {},
   "source": [
    "With the true-cased text you can now try to extract to vocab again."
   ]
  },
  {
   "cell_type": "code",
   "execution_count": 57,
   "metadata": {},
   "outputs": [],
   "source": [
    "cat /tmp/europarl-v9.true.en | tr ' ' '\\n' | sort | uniq -c > /tmp/europarl.true.hist"
   ]
  },
  {
   "cell_type": "markdown",
   "metadata": {},
   "source": [
    "If we did everything correctly the vocabulary size should have further\n",
    "decreased.  \n",
    "What is the vocabulary size at the moment?"
   ]
  },
  {
   "cell_type": "code",
   "execution_count": 58,
   "metadata": {},
   "outputs": [
    {
     "name": "stdout",
     "output_type": "stream",
     "text": [
      "134582\n"
     ]
    }
   ],
   "source": [
    "wc -l < /tmp/europarl.true.hist"
   ]
  },
  {
   "cell_type": "markdown",
   "metadata": {},
   "source": [
    "Try to look at the histogram file a little bit more.  \n",
    "Notice that many words share the same root and differ in suffixes or prefixes. "
   ]
  },
  {
   "cell_type": "code",
   "execution_count": 59,
   "metadata": {},
   "outputs": [
    {
     "name": "stdout",
     "output_type": "stream",
     "text": [
      "      5 Listen\n",
      "      2 Listening\n",
      "   2403 listen\n",
      "   1718 listened\n",
      "     10 listener\n",
      "     29 listeners\n",
      "   1438 listening\n",
      "     92 listens\n"
     ]
    }
   ],
   "source": [
    "cat /tmp/europarl.true.hist | grep -i ' *[0-9]*  *listen'"
   ]
  },
  {
   "cell_type": "markdown",
   "metadata": {},
   "source": [
    "Also most of the items in the vocabulary appear only once in the data (especially\n",
    "numbers)."
   ]
  },
  {
   "cell_type": "code",
   "execution_count": 60,
   "metadata": {},
   "outputs": [
    {
     "name": "stdout",
     "output_type": "stream",
     "text": [
      "58757\n",
      "1334\n"
     ]
    }
   ],
   "source": [
    "cat /tmp/europarl.true.hist | grep ' *1 ' | wc -l\n",
    "cat /tmp/europarl.true.hist | grep ' *1 [0-9][0-9]*$' | wc -l"
   ]
  },
  {
   "cell_type": "markdown",
   "metadata": {},
   "source": [
    "What could be the problem for algorithms that learn embeddings or\n",
    "statistical/probabilistic models in general? (This is an open question,\n",
    "and there are several problems that I can remember, but in general it\n",
    "comes from the curse of dimensionality)."
   ]
  },
  {
   "cell_type": "markdown",
   "metadata": {},
   "source": [
    "Byte-Pair Encoding\n",
    "------------------\n",
    "\n",
    "Byte-Pair Encoding (BPE) is an algorithm that helps us automatically\n",
    "split words into smaller components. Since BPE is also a statistical\n",
    "algorithm, first we need to extract the statistics from our data:"
   ]
  },
  {
   "cell_type": "code",
   "execution_count": 61,
   "metadata": {},
   "outputs": [
    {
     "name": "stdout",
     "output_type": "stream",
     "text": [
      "100%|####################################| 32000/32000 [01:03<00:00, 504.80it/s]\n"
     ]
    }
   ],
   "source": [
    "subword-nmt learn-bpe -s 32000 < /tmp/europarl-v9.true.en > /tmp/code.en"
   ]
  },
  {
   "cell_type": "code",
   "execution_count": 62,
   "metadata": {},
   "outputs": [
    {
     "name": "stdout",
     "output_type": "stream",
     "text": [
      "32001 /tmp/code.en\n"
     ]
    }
   ],
   "source": [
    "wc -l /tmp/code.en"
   ]
  },
  {
   "cell_type": "markdown",
   "metadata": {},
   "source": [
    "Similar to true-casing, after training the BPE codes we have to apply it\n",
    "to the data:"
   ]
  },
  {
   "cell_type": "code",
   "execution_count": 63,
   "metadata": {},
   "outputs": [],
   "source": [
    "subword-nmt apply-bpe -c /tmp/code.en < /tmp/europarl-v9.true.en > /tmp/europarl-v9.bpe.en"
   ]
  },
  {
   "cell_type": "markdown",
   "metadata": {},
   "source": [
    "Now you can check the vocabulary size once more:"
   ]
  },
  {
   "cell_type": "code",
   "execution_count": 64,
   "metadata": {},
   "outputs": [],
   "source": [
    "cat /tmp/europarl-v9.bpe.en | tr ' ' '\\n' | sort | uniq -c > /tmp/europarl.bpe.hist"
   ]
  },
  {
   "cell_type": "code",
   "execution_count": 65,
   "metadata": {},
   "outputs": [
    {
     "name": "stdout",
     "output_type": "stream",
     "text": [
      "31523\n",
      "\n",
      "   2403 listen\n",
      "     39 listen@@\n",
      "   1719 listened\n",
      "   1438 listening\n",
      "     92 listens\n",
      "\n",
      "listen@@ ers an@@ da@@ very@@ long@@ word\n"
     ]
    }
   ],
   "source": [
    "wc -l < /tmp/europarl.bpe.hist\n",
    "echo\n",
    "cat /tmp/europarl.bpe.hist | grep -i ' *[0-9]*  *listen'\n",
    "echo\n",
    "echo 'listeners andaverylongword' | subword-nmt apply-bpe -c /tmp/code.en"
   ]
  }
 ],
 "metadata": {
  "kernelspec": {
   "display_name": "Bash",
   "language": "bash",
   "name": "bash"
  },
  "language_info": {
   "codemirror_mode": "shell",
   "file_extension": ".sh",
   "mimetype": "text/x-sh",
   "name": "bash"
  }
 },
 "nbformat": 4,
 "nbformat_minor": 2
}
