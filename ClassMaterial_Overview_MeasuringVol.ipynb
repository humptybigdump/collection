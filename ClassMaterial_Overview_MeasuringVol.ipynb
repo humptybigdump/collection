{
 "cells": [
  {
   "cell_type": "markdown",
   "metadata": {},
   "source": [
    "# Teaser from an Option Data Scientist\n",
    "$$\n",
    "\\\\\n",
    "$$\n",
    "\n",
    "1. Why did 8 out of 10 returns stay in the 1-stdev bound while 'theoretically' it should have been 7 out of 10? See chart at around 5:25min of that video:\n",
    "\n",
    "https://www.tastytrade.com/tt/shows/the-skinny-on-options-data-science\n",
    "\n",
    "\n",
    "2. 7:03min. Why do returns follow the 'theoretical' cone when options are in low IV rank, while they fall outside the 'theoretical' for high IV rank options?\n",
    "\n",
    "https://www.tastytrade.com/tt/shows/the-skinny-on-options-data-science\n"
   ]
  },
  {
   "cell_type": "code",
   "execution_count": null,
   "metadata": {},
   "outputs": [],
   "source": []
  },
  {
   "cell_type": "markdown",
   "metadata": {},
   "source": [
    "# What's Going on in this ipynb?\n",
    "\n",
    "$$\n",
    "\\\\\n",
    "$$\n",
    "\n",
    "## Get to Know Daily Return VOLATILITY of European Blue Chips\n",
    "\n",
    "$$\n",
    "\\\\\n",
    "$$\n",
    "\n",
    "- Is Volatility Unambiuously Measureable?\n",
    "\n",
    "$$\n",
    "\\\\\n",
    "$$\n",
    "\n",
    "- Are Volatility Estimates always backward loolking? \n",
    "\n",
    "$$\n",
    "\\\\\n",
    "$$ \n",
    "\n",
    "- Is volatility stationary?\n",
    "\n",
    "$$\n",
    "\\\\\n",
    "$$\n",
    "\n",
    "- Is Volatility Gaussian distributed?\n",
    "\n",
    "$$\n",
    "\\\\\n",
    "$$\n",
    "\n",
    "- How do Higher Moments of Volatility look like?\n",
    "\n",
    "$$\n",
    "\\\\\n",
    "$$\n",
    "\n",
    "\n",
    "- Factor Structure in Vol\n",
    "$$\n",
    "\\\\\n",
    "$$\n",
    "\n",
    "- What is the best model for volatility?\n",
    "$$\n",
    "\\\\\n",
    "$$"
   ]
  },
  {
   "cell_type": "code",
   "execution_count": null,
   "metadata": {},
   "outputs": [],
   "source": []
  },
  {
   "cell_type": "markdown",
   "metadata": {},
   "source": [
    "# Learning Points: Data Science Perspective\n",
    "\n",
    "$$\n",
    "\\\\\n",
    "$$\n",
    "\n",
    "- Get to Know Daily Return VOLATILITY of European Blue Chips\n",
    "\n",
    "$$\n",
    "\\\\\n",
    "$$\n",
    "\n",
    "- Making an unobserved measure such as 'Volatility' observable\n",
    "\n",
    "$$\n",
    "\\\\\n",
    "$$\n",
    "\n",
    "- Are Volatility Estimates always backward loolking? \n",
    "\n",
    "$$\n",
    "\\\\\n",
    "$$ \n",
    "\n",
    "- Is volatility stationary?\n",
    "\n",
    "$$\n",
    "\\\\\n",
    "$$\n",
    "\n",
    "- Is Volatility Gaussian distributed?\n",
    "\n",
    "$$\n",
    "\\\\\n",
    "$$\n",
    "\n",
    "**Machine Learning Techniques:**\n",
    "$$\n",
    "\\\\\n",
    "$$\n",
    "\n",
    "- Linear Principal Component Analysis (PCA) on cross-sectional volatiltiy \n",
    "$$\n",
    "\\\\\n",
    "$$\n",
    "\n",
    "- Trick to filter a 2nd moment state variable using a linear Kalman Filter \n",
    "$$\n",
    "\\\\\n",
    "$$\n",
    "\n",
    "- Maximum Likelihood to estimate parameters of parametric volatility models\n",
    "$$\n",
    "\\\\\n",
    "$$\n",
    "\n",
    "- Learning unobserved state variables by means of Filtering\n",
    "$$\n",
    "\\\\\n",
    "$$\n",
    "\n",
    "- Expectation Maximization"
   ]
  },
  {
   "cell_type": "code",
   "execution_count": null,
   "metadata": {},
   "outputs": [],
   "source": []
  },
  {
   "cell_type": "markdown",
   "metadata": {},
   "source": [
    "# Learning Points: Finance Perspective\n",
    "$$\n",
    "\\\\\n",
    "$$\n",
    "\n",
    "- Extracting return volatility using parametric and non-parametric approaches\n",
    "$$\n",
    "\\\\\n",
    "$$\n",
    "\n",
    "- Factor model for cross-sectional P-volatility\n",
    "$$\n",
    "\\\\\n",
    "$$\n",
    "\n",
    "- Best model for modeling volatility "
   ]
  },
  {
   "cell_type": "code",
   "execution_count": null,
   "metadata": {},
   "outputs": [],
   "source": []
  },
  {
   "cell_type": "markdown",
   "metadata": {},
   "source": [
    "# Quick Measures to Extract Daily Volatility\n",
    "\n",
    "$$\n",
    "\\\\\n",
    "$$\n",
    "\n",
    "1. **squared daily returns**. Reason: constrained ARCH model\n",
    "$$\n",
    "\\\\\n",
    "$$\n",
    "\n",
    "2. GARCH. Requires optimization\n",
    "$$\n",
    "\\\\\n",
    "$$\n",
    "\n",
    "3. SV model. Requires optimization and Filtering (Expectation Maximization algorithm)\n",
    "$$\n",
    "\\\\\n",
    "$$\n",
    "\n",
    "4. Options. Requires access to option data and understanding of financial valuation (P vs Q pricing)\n",
    "$$\n",
    "\\\\\n",
    "$$\n",
    "\n"
   ]
  },
  {
   "cell_type": "code",
   "execution_count": null,
   "metadata": {},
   "outputs": [],
   "source": []
  },
  {
   "cell_type": "markdown",
   "metadata": {},
   "source": [
    "# Text-book Like Audio Books on Concepts we Rely Upon  "
   ]
  },
  {
   "cell_type": "markdown",
   "metadata": {},
   "source": [
    "$$\n",
    "\\\\\n",
    "$$\n",
    "\n",
    "- Basics of Vol Forecasting: https://www.youtube.com/playlist?list=PLyQSjcv8LwAHkFsjY7Tr_V2IBUdRKbHSi\n",
    "\n",
    "$$\n",
    "\\\\\n",
    "$$\n",
    "\n",
    "- ARCH-GARCH: https://www.youtube.com/playlist?list=PLyQSjcv8LwAE6Wmf4RWY4AuG_kGq1TNyZ\n",
    "\n",
    "$$\n",
    "\\\\\n",
    "$$\n",
    "\n",
    "- Stochastic Vol Model: https://www.youtube.com/playlist?list=PLyQSjcv8LwAHzH3Q5j8uh3RbBjNzquy-7\n",
    "        \n",
    "$$\n",
    "\\\\\n",
    "$$\n",
    "\n",
    "- Model-Free P and Q variance Forecasts: https://www.youtube.com/playlist?list=PLyQSjcv8LwAFhb0f_WwXs9mDioKHKDbeE"
   ]
  },
  {
   "cell_type": "code",
   "execution_count": null,
   "metadata": {},
   "outputs": [],
   "source": []
  },
  {
   "cell_type": "markdown",
   "metadata": {},
   "source": [
    "# Punchline Summary of above mentioned Text-book Like Audio Books\n",
    "\n",
    "**Basic decomposition** of realized returns:  into expected and unexpected innovations\n",
    "$$\n",
    "\\\\\n",
    "$$\n",
    "\n",
    "\\begin{align*}\n",
    "r_{t}& \\equiv \\mu_{t-1}+ \\epsilon_{t}, \\qquad \\mu_{t-1}:= E_{t-1}[r_t] \\in \\mathcal{F}_{t-1} \\quad \\text{and} \\quad \\epsilon_t := r_t - E_{t-1}[r_t] \\in \\mathcal{F}_t\n",
    "\\end{align*}\n",
    "\n",
    "\n"
   ]
  },
  {
   "cell_type": "markdown",
   "metadata": {},
   "source": [
    "# A. Basic Idea"
   ]
  },
  {
   "cell_type": "markdown",
   "metadata": {},
   "source": [
    "\n",
    "We think of unexpected return innovations $\\epsilon_t$ to be the product of two components, volatility $\\sigma_{t-1} \\in \\mathcal{F}_{t-1}$, and fundamental return shock $\\eta_t \\in \\mathcal{F}_t$\n"
   ]
  },
  {
   "cell_type": "markdown",
   "metadata": {},
   "source": [
    "$$\n",
    "\\epsilon_t \\equiv \\sigma_{t-1} \\; \\times \\; \\eta_t \\qquad \\eta_t \\sim iid (0,1)\n",
    "$$"
   ]
  },
  {
   "cell_type": "markdown",
   "metadata": {},
   "source": [
    "**Note:** My notation differs from the standard, as I want to highlight when each variable is observed."
   ]
  },
  {
   "cell_type": "markdown",
   "metadata": {},
   "source": [
    "**$\\{\\sigma_t\\}_t$ is inherently unobserved !!!!**"
   ]
  },
  {
   "cell_type": "code",
   "execution_count": null,
   "metadata": {},
   "outputs": [],
   "source": []
  },
  {
   "cell_type": "markdown",
   "metadata": {},
   "source": [
    "# B. Basic Modeling Insight"
   ]
  },
  {
   "cell_type": "markdown",
   "metadata": {},
   "source": [
    "**Basic decomposition** of realized returns into expected and unexpected innovations\n",
    "$$\n",
    "\\\\\n",
    "$$\n",
    "\n",
    "\\begin{align*}\n",
    "r_{t}& \\equiv \\mu_{t-1}+ \\epsilon_{t}.\n",
    "\\end{align*}\n"
   ]
  },
  {
   "cell_type": "markdown",
   "metadata": {},
   "source": [
    "with **mean equation**\n",
    "\n",
    "\\begin{align*}\n",
    "\\mu_{t-1} &:=\\phi_{0}+\\underbrace{\\sum_{i=1}^{p}\\phi_{i}r_{t-i}+\\sum_{i=1}^{q}\\theta_{i} \\epsilon_{t-i}}_{\\text{ARMA(p,q)}} + \\underbrace{\\sum_{i=1}^{k} \\beta_i x_{it-1}}_{\\text{k factor risk premiums}}.  \\quad \\quad \\quad \\text{:'Mean Equation'}\n",
    "\\end{align*}"
   ]
  },
  {
   "cell_type": "markdown",
   "metadata": {},
   "source": [
    "different parametric and non-parametric approaches exist to capture  \n",
    "\n",
    "$$\n",
    "\\sigma^2_{t-1} = .... \\quad \\quad \\text{: Variance Equation}\n",
    "$$"
   ]
  },
  {
   "cell_type": "code",
   "execution_count": null,
   "metadata": {},
   "outputs": [],
   "source": []
  },
  {
   "cell_type": "markdown",
   "metadata": {},
   "source": [
    "# C. Testing for Heteroscedasticity via Portmanteau Test"
   ]
  },
  {
   "cell_type": "markdown",
   "metadata": {},
   "source": [
    "**Compute Empirical Auto-Correlation of Squared Residuals up to lag length $i\\in [1,...,m]$**"
   ]
  },
  {
   "cell_type": "markdown",
   "metadata": {},
   "source": [
    "\n",
    "$$\n",
    "\\hat{\\rho}_i = \\frac{\\sum_{t=i+1}^{T} (\\epsilon^2_t - \\bar{\\epsilon}^2)(\\epsilon^2_{t-i} - \\bar{\\epsilon}^2)}{\\sum_{t=1}^T (\\epsilon^2_t - \\bar{\\epsilon}^2)^2}, \\quad 0 \\leq i < T-1\n",
    "$$\n",
    "\n",
    "$$\n",
    "\\\\\n",
    "$$\n",
    "\n",
    "where $\\bar{\\epsilon}^2$ is the sample mean of $\\{\\epsilon^2_t\\}_t$."
   ]
  },
  {
   "cell_type": "markdown",
   "metadata": {},
   "source": [
    "\n",
    "**$H_0$ Hypothesis:**\n",
    "    \n",
    "    "
   ]
  },
  {
   "cell_type": "markdown",
   "metadata": {},
   "source": [
    "$$\n",
    "H_0: \\rho_1 = ... = \\rho_m = 0.\n",
    "$$"
   ]
  },
  {
   "cell_type": "markdown",
   "metadata": {},
   "source": [
    "**$H_a$ Hypothesis**"
   ]
  },
  {
   "cell_type": "markdown",
   "metadata": {},
   "source": [
    "\n",
    "$$\n",
    "H_{a}: \\rho_i \\neq 0\\; \\text{for some} \\; i \\in \\{1,...,m\\}.\n",
    "$$\n"
   ]
  },
  {
   "cell_type": "markdown",
   "metadata": {},
   "source": [
    "**Test Statistic**"
   ]
  },
  {
   "cell_type": "markdown",
   "metadata": {},
   "source": [
    "\n",
    "$$\n",
    "Q(m) = T(T+2) \\sum_{l=1}^{m} \\frac{\\hat{\\rho}^2_l}{T-l}.\n",
    "$$\n"
   ]
  },
  {
   "cell_type": "markdown",
   "metadata": {},
   "source": [
    "**Note:** if $H_0$ was correct, then $Q(m)$ would follow a chi-square distribution with m-degrees of freedom. Such a distribution is denoted as $\\chi^2(m)$. "
   ]
  },
  {
   "cell_type": "markdown",
   "metadata": {},
   "source": [
    "**Rejection:**\n",
    "    \n",
    "We **reject $H_0$** at the $100(1-\\alpha)$ confidence level if\n",
    "\n",
    "$$\n",
    "Q(m) > \\chi^2_{100(1-\\alpha)}(m),\n",
    "$$ \n",
    "\n",
    "otherwise you fail to reject $H_0$.    "
   ]
  },
  {
   "cell_type": "markdown",
   "metadata": {},
   "source": [
    "**Rejection:**"
   ]
  },
  {
   "cell_type": "markdown",
   "metadata": {},
   "source": [
    "Alternatively, **reject $H_0$** if the \n",
    "\n",
    "$$\n",
    "p < \\alpha.\n",
    "$$\n"
   ]
  },
  {
   "cell_type": "code",
   "execution_count": null,
   "metadata": {},
   "outputs": [],
   "source": []
  },
  {
   "cell_type": "markdown",
   "metadata": {},
   "source": [
    "# D. ARCH(1) Parametrization"
   ]
  },
  {
   "cell_type": "markdown",
   "metadata": {},
   "source": [
    "\n",
    "\\begin{align*}\n",
    "\\sigma^2_{t-1}&:=\\alpha_{0}+\\alpha_{1} \\, \\times \\, \\epsilon_{t-1}^{2},\n",
    "\\end{align*}\n",
    "\n",
    "with $\\alpha_{0}>0$ and $\\alpha_{1}\\geq 0$."
   ]
  },
  {
   "cell_type": "markdown",
   "metadata": {},
   "source": [
    "**Mean:**\n",
    "    \n",
    "$$\n",
    "E[\\epsilon_t] \\overbrace{=}^{ARCH(1)} 0.\n",
    "$$\n"
   ]
  },
  {
   "cell_type": "markdown",
   "metadata": {},
   "source": [
    "**Variance:**\n",
    "    \n",
    "$$\n",
    "Var(\\epsilon_t) = \\frac{\\alpha_0}{1-\\alpha_1} \\quad \\text{for} \\quad 0 \\leq \\alpha_1 < 1.\n",
    "$$    \n",
    "\n"
   ]
  },
  {
   "cell_type": "markdown",
   "metadata": {},
   "source": [
    "**Kurtosis:**\n",
    "    \n",
    "$$\n",
    "Kurt(\\epsilon_t) = \\frac{1-\\alpha^2_1}{1-3 \\alpha^2_1} \\, \\times \\, 3. \n",
    "$$    \n",
    "\n",
    "$$\n",
    "\\\\\n",
    "$$\n",
    "\n",
    "Note: Kurtosis of larger than 3, if \n",
    "$$\n",
    "0 \\leq \\alpha^2_1 < 1/3\n",
    "$$"
   ]
  },
  {
   "cell_type": "markdown",
   "metadata": {},
   "source": [
    "**Note:** Here, we do not go through the algebra to derive these conditions"
   ]
  },
  {
   "cell_type": "code",
   "execution_count": null,
   "metadata": {},
   "outputs": [],
   "source": []
  },
  {
   "cell_type": "markdown",
   "metadata": {},
   "source": [
    "## D.1 Estimating ARCH(1) Parametrization\n",
    "\n",
    "$$\n",
    "\\\\\n",
    "$$\n",
    "\n",
    "**Application: AR(0)-ARCH(1)**\n",
    "\n",
    "\\begin{align*}\n",
    "r^M_t &:= \\mu + \\epsilon_t, \\quad \\epsilon_t \\sim i.i.d. N(0,\\sigma^2_{t-1})\\\\\n",
    "\\sigma^2_{t-1} & := \\alpha_0 + \\alpha_1 \\, \\times \\, \\epsilon^2_{t-1}. \n",
    "\\end{align*}"
   ]
  },
  {
   "cell_type": "markdown",
   "metadata": {},
   "source": [
    "**Joint Likelihood:**\n",
    "    \n",
    "\\begin{align*}\n",
    "& prob \\left( \\{r^M_t\\}_{t \\in Tr}| \\; \\mu, \\alpha_0, \\alpha_1 \\right) = \\prod_{t=2}^u \\, \\frac{1}{\\sqrt{2 \\pi \\, \\times \\, (\\alpha_0 + \\alpha_1 \\epsilon^2_{t-1})}} \\, \\times \\, e^{-\\frac{1}{2} \\frac{(r^M_t - \\mu)^2}{\\alpha_0 + \\alpha_1 \\epsilon^2_{t-1}}} \\\\\\\\\n",
    "& =: \\, L_u(\\mu, \\alpha_0, \\alpha_1).\n",
    "\\end{align*}    "
   ]
  },
  {
   "cell_type": "markdown",
   "metadata": {},
   "source": [
    "**Joint Log-Likelihood:**\n",
    "    \n",
    "\\begin{align*}\n",
    "G(\\mu,\\alpha_0, \\alpha_1) & := \\ln L_u(\\mu, \\alpha_0, \\alpha_1) \\\\\\\\\n",
    "&= \\sum_{t=2}^u \\left( -\\frac{1}{2} \\ln (2\\pi) - \\frac{1}{2} \\ln \\left( \\alpha_0 + \\alpha_1 [r^M_{t-1} - \\mu]^2 \\right) - \\frac{1}{2} \\frac{(r^M_t - \\mu)^2}{\\alpha_0 + \\alpha_1 \\cdot (r^M_{t-1} - \\mu)^2} \\right).\n",
    "\\end{align*}   "
   ]
  },
  {
   "cell_type": "markdown",
   "metadata": {},
   "source": [
    "**MLE Estimates:**\n",
    "    \n",
    "\\begin{align*}\n",
    "\\{\\hat{\\mu}, \\hat{\\alpha}_0, \\hat{\\alpha}_1\\} := \\text{argmax} \\; G(\\mu, \\alpha_0, \\alpha_1).\n",
    "\\end{align*}"
   ]
  },
  {
   "cell_type": "markdown",
   "metadata": {},
   "source": [
    "**1-Step Ahead Variance Forecast from $u$ to $u+1$:**\n",
    "\n",
    "$$\n",
    "\\hat{Var}_u(r^M_{u+1}) = \\hat{\\alpha}_0 + \\hat{\\alpha}_1 \\, \\times \\, (r^M_u - \\hat{\\mu})^2 \\, \\equiv \\, \\hat{\\sigma}^2_u.\n",
    "$$"
   ]
  },
  {
   "cell_type": "code",
   "execution_count": null,
   "metadata": {},
   "outputs": [],
   "source": []
  },
  {
   "cell_type": "markdown",
   "metadata": {},
   "source": [
    "# E. Generalization: ARMA(p,q)-GARCH(m,s) Parametrization "
   ]
  },
  {
   "cell_type": "markdown",
   "metadata": {},
   "source": [
    "**DGP:**\n",
    "    \n",
    "\\begin{align*}\n",
    "r^M_t &= \\phi_0 + \\phi_1 r^M_{t-1} + ... + \\phi_M r^M_{t-p} + \\theta_1 \\epsilon_{t-1} + ...+\\theta_q\\epsilon_{t-q} \\; + \\; \\epsilon_t; \\; \\text{with} \\; \\epsilon_t|F_{t-1} \\sim N (0,\\sigma^2_{t-1}) \\; \\text{and} \\\\\\\\\n",
    "\\sigma^2_{t-1} &= \\alpha_0 + \\sum_{i=1}^m \\alpha_i \\epsilon^2_{t-i} \\, + \\, \\sum_{j=1}^s \\beta_j \\sigma^2_{t-1-j}.\n",
    "\\end{align*}    "
   ]
  },
  {
   "cell_type": "markdown",
   "metadata": {},
   "source": [
    "**Joint Log-Likelihood:**\n",
    "    \n",
    "\\begin{align*}\n",
    "& \\sum_{t=1+max(p,q,m,s)}^T -\\frac{1}{2} \\ln (2\\pi) - \\frac{1}{2} \\ln ( \\sigma^2_{t-1} ) - \\frac{1}{2} \\, \\frac{\\epsilon^2_t}{ \\sigma^2_{t-1}  } \\quad \\text{with} \\; \\\\\\\\\n",
    "\\epsilon_t & \\equiv r^M_t - \\phi_0 - \\phi_1 r^M_{t-1} - ... - \\phi_p r^M_{t-p} - \\theta_1 \\epsilon_{t-1} - ... - \\theta_q \\epsilon_{t-q}, \\quad \\text{and} \\\\ \\\\\n",
    "\\sigma^2_{t-1} & \\equiv  \\alpha_0 + \\sum_{i=1}^m \\alpha_i \\, \\times \\, \\epsilon^2_{t-i} \\, + \\, \\sum_{j=1}^s \\beta_j \\, \\times \\, \\sigma^2_{t-1-j} \\quad \\text{for} \\, t>1  \\\\ \\\\\n",
    "& \\text{and} \\; \\sigma^2_{0} \\equiv \\frac{\\alpha_0}{ 1 -  \\sum_{i=1}^m \\alpha_i -  \\sum_{j=1}^s \\beta_j}.\n",
    "\\end{align*}    "
   ]
  },
  {
   "cell_type": "markdown",
   "metadata": {},
   "source": [
    "**Industry Standard:** GARCH(1,1)"
   ]
  },
  {
   "cell_type": "code",
   "execution_count": null,
   "metadata": {},
   "outputs": [],
   "source": []
  },
  {
   "cell_type": "markdown",
   "metadata": {},
   "source": [
    "# F. Capturing Skewness in GARCH with Non-linear GARCH Parametrizations"
   ]
  },
  {
   "cell_type": "markdown",
   "metadata": {},
   "source": [
    "**T-GARCH(1,1):**\n",
    "    \n",
    "\\begin{align*}\n",
    "\\sigma^2_{t-1} & =\\alpha_0 + ( \\alpha_{1} + \\theta_{1}\\, \\times \\, I_{\\epsilon_{t-1}<0)}) \\, \\times \\, \\epsilon_{t-1}^{2} + \\beta_{1} \\, \\times \\, \\sigma^2_{t-2}.\n",
    "\\end{align*}    "
   ]
  },
  {
   "cell_type": "markdown",
   "metadata": {},
   "source": [
    "**E-GARCH(1,1):**\n",
    "    \n",
    "\\begin{align*}\n",
    "\\ln  (\\sigma^2_{t-1}) &:= \\alpha_0 + g(\\eta_{t-1}) + \\beta_{1} \\times \\ln(\\sigma^2_{t-2}), \\\\ \\\\\n",
    "g(\\eta_{t-1}) & :=    (\\alpha_1 + \\theta_1) \\times I_{\\eta_{t-1} > 0} \\, \\times \\, \\eta_{t-1} \\, + \\, (\\alpha_1 - \\theta_1) \\times I_{\\eta_{t-1} < 0} \\, \\times \\, \\eta_{t-1} \\, - \\, \\theta_1 \\times E[|\\eta_{t-1}|].\n",
    "\\end{align*}    "
   ]
  },
  {
   "cell_type": "code",
   "execution_count": null,
   "metadata": {},
   "outputs": [],
   "source": []
  },
  {
   "cell_type": "markdown",
   "metadata": {},
   "source": [
    "# G. Stochastic Volatility Model for Demeand Returns"
   ]
  },
  {
   "cell_type": "markdown",
   "metadata": {},
   "source": [
    "\\begin{align*}\n",
    "r_t  &:=  \\sigma_t \\, \\times  \\, \\xi_t; \\quad \\xi_t \\, \\sim \\,  N (0,1)  \\\\\\\\\n",
    "\\sigma_{t} &:=  \\bar{\\sigma} \\, \\times \\, e^{\\frac{1}{2} \\, h_t} \\\\\\\\\n",
    "h_{t}&=\\phi h_{t-1}+\\eta_{t}, \\quad \\eta_{t}\\sim N (0,\\, \\sigma_{\\eta}^{2}), \\quad h_{0}\\sim N(0,\\ \\sigma_{\\eta}^{2}/(1-\\phi^{2}))\n",
    "\\end{align*}"
   ]
  },
  {
   "cell_type": "markdown",
   "metadata": {},
   "source": [
    "**Estimation:** \n",
    "    \n",
    "- Several methods exist. All of them are more complex than MLE for GARCH type models\n",
    "\n",
    "$$\n",
    "\\\\\n",
    "$$\n",
    "\n",
    "- Simplest method is to apply the linear Kalman Filter to the Harvey et al () transform (i.e. $\\ln r^2_t$)\n",
    "\n"
   ]
  },
  {
   "cell_type": "markdown",
   "metadata": {},
   "source": [
    "**Advantage over GARCH**\n",
    "\n",
    "$$\n",
    "\\\\\n",
    "$$\n",
    "\n",
    "- Empirical research finds that volatility shocks are not a linear function of shocks to the underlying\n",
    "\n",
    "$$\n",
    "\\\\\n",
    "$$\n",
    "\n",
    "- GARCH models assume Vol innovations are a function of shocks to the underlying\n",
    "\n",
    "$$\n",
    "\\\\\n",
    "$$\n",
    "\n",
    "- SVM allows 2nd moment shocks to be independent of 1st moment shocks\n",
    "\n",
    "$$\n",
    "\\\\\n",
    "$$\n",
    "\n",
    "- Beneficial for explaining returns on underlying and options"
   ]
  },
  {
   "cell_type": "code",
   "execution_count": null,
   "metadata": {},
   "outputs": [],
   "source": []
  },
  {
   "cell_type": "markdown",
   "metadata": {},
   "source": [
    "# H. Semiparametric Approach as in Corsi (2009)"
   ]
  },
  {
   "cell_type": "markdown",
   "metadata": {},
   "source": [
    "**Industry Standard:** Andersen et al. (2003, Econometrica) find that time-series models of Realized Variance show superior out-of-sample forecasting ability relative to GARCH and Stochastic Volatility Models\n",
    "    "
   ]
  },
  {
   "cell_type": "markdown",
   "metadata": {},
   "source": [
    "**Motivation:** Realized Variance as the integrated daily variance within a trading day can be shown to coincide with an asset return's daily variance.\n",
    "\n"
   ]
  },
  {
   "cell_type": "markdown",
   "metadata": {},
   "source": [
    "**Implementation:** Corsi (2009) shows the following HAR-RV model (constrained VAR model) yields good results\n",
    "\n",
    "$$\n",
    "\\\\\n",
    "$$\n",
    "\n",
    "$$\n",
    "RV^d_{t+1d} = c + \\beta_d \\times RV^d_t + \\beta_w \\times RV^w_t + \\beta_m \\times RV^m_t + \\epsilon_{t+1d}; \\qquad \\epsilon_{t+1d} \\sim iid(0,\\sigma^2)\n",
    "$$\n",
    " \n",
    "$$\n",
    "\\\\\n",
    "$$\n",
    "\n",
    "where $RV$ stands for realized variance and indices $d, w, m$ stand for daily, weekly and monthly realized variances. \n"
   ]
  },
  {
   "cell_type": "markdown",
   "metadata": {},
   "source": [
    "**Strength:**\n",
    "    \n",
    "- In my view the standard for 'model-free' predictions of future variance\n",
    "\n",
    "$$\n",
    "\\\\\n",
    "$$\n",
    "\n",
    "- Using information in high-frequency data is always a good idea\n",
    "\n",
    "$$\n",
    "\\\\\n",
    "$$\n",
    "\n",
    "- Only regression techniques and high-frequency data necessary"
   ]
  },
  {
   "cell_type": "markdown",
   "metadata": {},
   "source": [
    "**Weakness:**\n",
    "    \n",
    "- Corsi (2009) does not capture jumps in volatility\n",
    "\n",
    "$$\n",
    "\\\\\n",
    "$$\n",
    "\n",
    "- Extensions exist in the literature that account for left and right tail jumps of volatility. These are very charming as they include model-free measures of left and right tail jump intensities into a VAR model to forecast $RV^d$. See Andersen and Todorov (..)\n"
   ]
  },
  {
   "cell_type": "code",
   "execution_count": null,
   "metadata": {},
   "outputs": [],
   "source": []
  },
  {
   "cell_type": "markdown",
   "metadata": {},
   "source": [
    "# I. Model-free Approach: Option-Implied Variance"
   ]
  },
  {
   "cell_type": "markdown",
   "metadata": {},
   "source": [
    "**Idea:**\n",
    "    \n",
    "One can show that\n",
    "\n",
    "$$\n",
    "\\tilde{V}_0(T) \\equiv E^Q\\left[ \\int_0^T \\; \\sigma^2_t \\; dt \\right] = \n",
    "  E\\left[ \\int_0^T \\; \\sigma^2_t \\times SDF_{t} \\; dt \\right].\n",
    "$$\n",
    "\n",
    "COINCIDES with  \n",
    "\n",
    "$$\n",
    "\\left( VIX_0(T) \\right)^2\n",
    "$$\n"
   ]
  },
  {
   "cell_type": "markdown",
   "metadata": {},
   "source": [
    "**Advantage:**\n",
    "\n",
    "$$\n",
    "\\\\\n",
    "$$\n",
    "\n",
    "Cross-Section of option prices (across strike) can be used in any point in time to extract $\\tilde{V}_0(T)$:\n",
    "    \n",
    "$$\n",
    "\\\\\n",
    "$$\n",
    "\n",
    "$$\n",
    "E^Q\\left[ \\int_0^T \\; \\sigma^2_t \\; dt \\right] = 2e^{rT} \\; \\left( \\int_{0}^{F_{0,T}} \\frac{1}{K^2}\\times p_{0,T}(K) \\times dK +  \\int_{F_{0,T}}^{\\infty} \\frac{1}{K^2}\\times c_{0,T}(K) \\times dK \\right)\n",
    "$$\n",
    "\n",
    "$$\n",
    "\\\\\n",
    "$$\n",
    "\n",
    "where $p_{0,T}(K)$ is the time $t=0$ value of a put option, written on $S$, that has maturity $T$ and strike $K$. Similarly, $c_{0,T}(K) $ is the time $t=0$ value of a call option, written on $S$, that has maturity $T$ and strike $K$. "
   ]
  },
  {
   "cell_type": "markdown",
   "metadata": {},
   "source": [
    "**Mathematical Mechanics:**\n",
    "    \n",
    "$$\n",
    "\\\\\n",
    "$$\n",
    "\n",
    "- If the underlying's return follows a **diffusion** (i.e. no jumps), then one can show that that the expected integrated variance (under Q) coincides with the last formula."
   ]
  },
  {
   "cell_type": "markdown",
   "metadata": {},
   "source": [
    "**Disadvantage:**\n",
    "\n",
    "- Risk premia which are part of the SDF (stochastic discount factor) make\n",
    "$$\n",
    "\\\\\n",
    "$$\n",
    "\n",
    "$$\n",
    "E^Q\\left[ \\int_0^T \\; \\sigma^2_t \\; dt \\right] \\neq E^P\\left[ \\int_0^T \\; \\sigma^2_t \\; dt \\right]\n",
    "$$\n",
    "\n",
    "$$\n",
    "\\\\\n",
    "$$\n",
    "\n",
    "- Yet, this market price measure is hard to beat, available at a tick-by-tick basis (after some additional research)\n",
    "\n",
    "$$\n",
    "\\\\\n",
    "$$\n",
    "\n",
    "- The above mentioned bias is informative about the risk premium that one earns when selling options(!)"
   ]
  }
 ],
 "metadata": {
  "kernelspec": {
   "display_name": "Python 3",
   "language": "python",
   "name": "python3"
  },
  "language_info": {
   "codemirror_mode": {
    "name": "ipython",
    "version": 3
   },
   "file_extension": ".py",
   "mimetype": "text/x-python",
   "name": "python",
   "nbconvert_exporter": "python",
   "pygments_lexer": "ipython3",
   "version": "3.7.6"
  }
 },
 "nbformat": 4,
 "nbformat_minor": 4
}
