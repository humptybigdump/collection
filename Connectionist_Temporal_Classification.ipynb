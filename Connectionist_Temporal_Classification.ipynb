{
  "nbformat": 4,
  "nbformat_minor": 0,
  "metadata": {
    "colab": {
      "provenance": [],
      "toc_visible": true
    },
    "kernelspec": {
      "name": "python3",
      "display_name": "Python 3"
    },
    "language_info": {
      "name": "python"
    },
    "widgets": {
      "application/vnd.jupyter.widget-state+json": {
        "64e3ecfd72c1451987a0005f64045c98": {
          "model_module": "@jupyter-widgets/controls",
          "model_name": "HBoxModel",
          "model_module_version": "1.5.0",
          "state": {
            "_dom_classes": [],
            "_model_module": "@jupyter-widgets/controls",
            "_model_module_version": "1.5.0",
            "_model_name": "HBoxModel",
            "_view_count": null,
            "_view_module": "@jupyter-widgets/controls",
            "_view_module_version": "1.5.0",
            "_view_name": "HBoxView",
            "box_style": "",
            "children": [
              "IPY_MODEL_8594a5f4c59c4fcf9b713367a899ce6f",
              "IPY_MODEL_3d1a65b2b30c4a43a59f3eb672335b04",
              "IPY_MODEL_5124c4e0024d4ac491fd474c1919c6f0"
            ],
            "layout": "IPY_MODEL_fe14757c09254a01af9c7c846e7ad04e"
          }
        },
        "8594a5f4c59c4fcf9b713367a899ce6f": {
          "model_module": "@jupyter-widgets/controls",
          "model_name": "HTMLModel",
          "model_module_version": "1.5.0",
          "state": {
            "_dom_classes": [],
            "_model_module": "@jupyter-widgets/controls",
            "_model_module_version": "1.5.0",
            "_model_name": "HTMLModel",
            "_view_count": null,
            "_view_module": "@jupyter-widgets/controls",
            "_view_module_version": "1.5.0",
            "_view_name": "HTMLView",
            "description": "",
            "description_tooltip": null,
            "layout": "IPY_MODEL_adf96f49bb3645beb55ea05383ee5153",
            "placeholder": "​",
            "style": "IPY_MODEL_8ed781414e664a139ad0568a11e75a0d",
            "value": "100%"
          }
        },
        "3d1a65b2b30c4a43a59f3eb672335b04": {
          "model_module": "@jupyter-widgets/controls",
          "model_name": "FloatProgressModel",
          "model_module_version": "1.5.0",
          "state": {
            "_dom_classes": [],
            "_model_module": "@jupyter-widgets/controls",
            "_model_module_version": "1.5.0",
            "_model_name": "FloatProgressModel",
            "_view_count": null,
            "_view_module": "@jupyter-widgets/controls",
            "_view_module_version": "1.5.0",
            "_view_name": "ProgressView",
            "bar_style": "success",
            "description": "",
            "description_tooltip": null,
            "layout": "IPY_MODEL_9a6ce8760f3b4657a411907273ca6799",
            "max": 377664473,
            "min": 0,
            "orientation": "horizontal",
            "style": "IPY_MODEL_f31322b1fb98473da8b74d8900686040",
            "value": 377664473
          }
        },
        "5124c4e0024d4ac491fd474c1919c6f0": {
          "model_module": "@jupyter-widgets/controls",
          "model_name": "HTMLModel",
          "model_module_version": "1.5.0",
          "state": {
            "_dom_classes": [],
            "_model_module": "@jupyter-widgets/controls",
            "_model_module_version": "1.5.0",
            "_model_name": "HTMLModel",
            "_view_count": null,
            "_view_module": "@jupyter-widgets/controls",
            "_view_module_version": "1.5.0",
            "_view_name": "HTMLView",
            "description": "",
            "description_tooltip": null,
            "layout": "IPY_MODEL_7e2977c5fd6b437390848da69171df00",
            "placeholder": "​",
            "style": "IPY_MODEL_155abded564147adb9dd3979eb1bbaa9",
            "value": " 360M/360M [00:06&lt;00:00, 53.5MB/s]"
          }
        },
        "fe14757c09254a01af9c7c846e7ad04e": {
          "model_module": "@jupyter-widgets/base",
          "model_name": "LayoutModel",
          "model_module_version": "1.2.0",
          "state": {
            "_model_module": "@jupyter-widgets/base",
            "_model_module_version": "1.2.0",
            "_model_name": "LayoutModel",
            "_view_count": null,
            "_view_module": "@jupyter-widgets/base",
            "_view_module_version": "1.2.0",
            "_view_name": "LayoutView",
            "align_content": null,
            "align_items": null,
            "align_self": null,
            "border": null,
            "bottom": null,
            "display": null,
            "flex": null,
            "flex_flow": null,
            "grid_area": null,
            "grid_auto_columns": null,
            "grid_auto_flow": null,
            "grid_auto_rows": null,
            "grid_column": null,
            "grid_gap": null,
            "grid_row": null,
            "grid_template_areas": null,
            "grid_template_columns": null,
            "grid_template_rows": null,
            "height": null,
            "justify_content": null,
            "justify_items": null,
            "left": null,
            "margin": null,
            "max_height": null,
            "max_width": null,
            "min_height": null,
            "min_width": null,
            "object_fit": null,
            "object_position": null,
            "order": null,
            "overflow": null,
            "overflow_x": null,
            "overflow_y": null,
            "padding": null,
            "right": null,
            "top": null,
            "visibility": null,
            "width": null
          }
        },
        "adf96f49bb3645beb55ea05383ee5153": {
          "model_module": "@jupyter-widgets/base",
          "model_name": "LayoutModel",
          "model_module_version": "1.2.0",
          "state": {
            "_model_module": "@jupyter-widgets/base",
            "_model_module_version": "1.2.0",
            "_model_name": "LayoutModel",
            "_view_count": null,
            "_view_module": "@jupyter-widgets/base",
            "_view_module_version": "1.2.0",
            "_view_name": "LayoutView",
            "align_content": null,
            "align_items": null,
            "align_self": null,
            "border": null,
            "bottom": null,
            "display": null,
            "flex": null,
            "flex_flow": null,
            "grid_area": null,
            "grid_auto_columns": null,
            "grid_auto_flow": null,
            "grid_auto_rows": null,
            "grid_column": null,
            "grid_gap": null,
            "grid_row": null,
            "grid_template_areas": null,
            "grid_template_columns": null,
            "grid_template_rows": null,
            "height": null,
            "justify_content": null,
            "justify_items": null,
            "left": null,
            "margin": null,
            "max_height": null,
            "max_width": null,
            "min_height": null,
            "min_width": null,
            "object_fit": null,
            "object_position": null,
            "order": null,
            "overflow": null,
            "overflow_x": null,
            "overflow_y": null,
            "padding": null,
            "right": null,
            "top": null,
            "visibility": null,
            "width": null
          }
        },
        "8ed781414e664a139ad0568a11e75a0d": {
          "model_module": "@jupyter-widgets/controls",
          "model_name": "DescriptionStyleModel",
          "model_module_version": "1.5.0",
          "state": {
            "_model_module": "@jupyter-widgets/controls",
            "_model_module_version": "1.5.0",
            "_model_name": "DescriptionStyleModel",
            "_view_count": null,
            "_view_module": "@jupyter-widgets/base",
            "_view_module_version": "1.2.0",
            "_view_name": "StyleView",
            "description_width": ""
          }
        },
        "9a6ce8760f3b4657a411907273ca6799": {
          "model_module": "@jupyter-widgets/base",
          "model_name": "LayoutModel",
          "model_module_version": "1.2.0",
          "state": {
            "_model_module": "@jupyter-widgets/base",
            "_model_module_version": "1.2.0",
            "_model_name": "LayoutModel",
            "_view_count": null,
            "_view_module": "@jupyter-widgets/base",
            "_view_module_version": "1.2.0",
            "_view_name": "LayoutView",
            "align_content": null,
            "align_items": null,
            "align_self": null,
            "border": null,
            "bottom": null,
            "display": null,
            "flex": null,
            "flex_flow": null,
            "grid_area": null,
            "grid_auto_columns": null,
            "grid_auto_flow": null,
            "grid_auto_rows": null,
            "grid_column": null,
            "grid_gap": null,
            "grid_row": null,
            "grid_template_areas": null,
            "grid_template_columns": null,
            "grid_template_rows": null,
            "height": null,
            "justify_content": null,
            "justify_items": null,
            "left": null,
            "margin": null,
            "max_height": null,
            "max_width": null,
            "min_height": null,
            "min_width": null,
            "object_fit": null,
            "object_position": null,
            "order": null,
            "overflow": null,
            "overflow_x": null,
            "overflow_y": null,
            "padding": null,
            "right": null,
            "top": null,
            "visibility": null,
            "width": null
          }
        },
        "f31322b1fb98473da8b74d8900686040": {
          "model_module": "@jupyter-widgets/controls",
          "model_name": "ProgressStyleModel",
          "model_module_version": "1.5.0",
          "state": {
            "_model_module": "@jupyter-widgets/controls",
            "_model_module_version": "1.5.0",
            "_model_name": "ProgressStyleModel",
            "_view_count": null,
            "_view_module": "@jupyter-widgets/base",
            "_view_module_version": "1.2.0",
            "_view_name": "StyleView",
            "bar_color": null,
            "description_width": ""
          }
        },
        "7e2977c5fd6b437390848da69171df00": {
          "model_module": "@jupyter-widgets/base",
          "model_name": "LayoutModel",
          "model_module_version": "1.2.0",
          "state": {
            "_model_module": "@jupyter-widgets/base",
            "_model_module_version": "1.2.0",
            "_model_name": "LayoutModel",
            "_view_count": null,
            "_view_module": "@jupyter-widgets/base",
            "_view_module_version": "1.2.0",
            "_view_name": "LayoutView",
            "align_content": null,
            "align_items": null,
            "align_self": null,
            "border": null,
            "bottom": null,
            "display": null,
            "flex": null,
            "flex_flow": null,
            "grid_area": null,
            "grid_auto_columns": null,
            "grid_auto_flow": null,
            "grid_auto_rows": null,
            "grid_column": null,
            "grid_gap": null,
            "grid_row": null,
            "grid_template_areas": null,
            "grid_template_columns": null,
            "grid_template_rows": null,
            "height": null,
            "justify_content": null,
            "justify_items": null,
            "left": null,
            "margin": null,
            "max_height": null,
            "max_width": null,
            "min_height": null,
            "min_width": null,
            "object_fit": null,
            "object_position": null,
            "order": null,
            "overflow": null,
            "overflow_x": null,
            "overflow_y": null,
            "padding": null,
            "right": null,
            "top": null,
            "visibility": null,
            "width": null
          }
        },
        "155abded564147adb9dd3979eb1bbaa9": {
          "model_module": "@jupyter-widgets/controls",
          "model_name": "DescriptionStyleModel",
          "model_module_version": "1.5.0",
          "state": {
            "_model_module": "@jupyter-widgets/controls",
            "_model_module_version": "1.5.0",
            "_model_name": "DescriptionStyleModel",
            "_view_count": null,
            "_view_module": "@jupyter-widgets/base",
            "_view_module_version": "1.2.0",
            "_view_name": "StyleView",
            "description_width": ""
          }
        }
      }
    }
  },
  "cells": [
    {
      "cell_type": "markdown",
      "source": [
        "# CTC Loss tutorial"
      ],
      "metadata": {
        "id": "FdQuBadkxcEi"
      }
    },
    {
      "cell_type": "markdown",
      "source": [
        "#### Load some audio"
      ],
      "metadata": {
        "id": "ENPY6EgAxkPd"
      }
    },
    {
      "cell_type": "code",
      "source": [
        "!wget 'https://github.com/nguyenvulebinh/kit-asr-praktikum/raw/main/resources/hello.wav'\n",
        "!wget 'https://github.com/nguyenvulebinh/kit-asr-praktikum/raw/main/resources/world.wav'\n",
        "!wget 'https://github.com/nguyenvulebinh/kit-asr-praktikum/raw/main/resources/door.wav'"
      ],
      "metadata": {
        "id": "bmgh-f4Xxg1n",
        "colab": {
          "base_uri": "https://localhost:8080/"
        },
        "outputId": "6fcb0642-3b33-4162-d9c0-c40f662d39ab"
      },
      "execution_count": null,
      "outputs": [
        {
          "output_type": "stream",
          "name": "stdout",
          "text": [
            "--2022-12-20 20:28:08--  https://github.com/nguyenvulebinh/kit-asr-praktikum/raw/main/resources/hello.wav\n",
            "Resolving github.com (github.com)... 140.82.112.4\n",
            "Connecting to github.com (github.com)|140.82.112.4|:443... connected.\n",
            "HTTP request sent, awaiting response... 302 Found\n",
            "Location: https://raw.githubusercontent.com/nguyenvulebinh/kit-asr-praktikum/main/resources/hello.wav [following]\n",
            "--2022-12-20 20:28:09--  https://raw.githubusercontent.com/nguyenvulebinh/kit-asr-praktikum/main/resources/hello.wav\n",
            "Resolving raw.githubusercontent.com (raw.githubusercontent.com)... 185.199.108.133, 185.199.109.133, 185.199.110.133, ...\n",
            "Connecting to raw.githubusercontent.com (raw.githubusercontent.com)|185.199.108.133|:443... connected.\n",
            "HTTP request sent, awaiting response... 200 OK\n",
            "Length: 17438 (17K) [audio/wav]\n",
            "Saving to: ‘hello.wav.1’\n",
            "\n",
            "\rhello.wav.1           0%[                    ]       0  --.-KB/s               \rhello.wav.1         100%[===================>]  17.03K  --.-KB/s    in 0s      \n",
            "\n",
            "2022-12-20 20:28:09 (106 MB/s) - ‘hello.wav.1’ saved [17438/17438]\n",
            "\n",
            "--2022-12-20 20:28:09--  https://github.com/nguyenvulebinh/kit-asr-praktikum/raw/main/resources/world.wav\n",
            "Resolving github.com (github.com)... 140.82.112.4\n",
            "Connecting to github.com (github.com)|140.82.112.4|:443... connected.\n",
            "HTTP request sent, awaiting response... 302 Found\n",
            "Location: https://raw.githubusercontent.com/nguyenvulebinh/kit-asr-praktikum/main/resources/world.wav [following]\n",
            "--2022-12-20 20:28:09--  https://raw.githubusercontent.com/nguyenvulebinh/kit-asr-praktikum/main/resources/world.wav\n",
            "Resolving raw.githubusercontent.com (raw.githubusercontent.com)... 185.199.108.133, 185.199.109.133, 185.199.110.133, ...\n",
            "Connecting to raw.githubusercontent.com (raw.githubusercontent.com)|185.199.108.133|:443... connected.\n",
            "HTTP request sent, awaiting response... 200 OK\n",
            "Length: 31252 (31K) [audio/wav]\n",
            "Saving to: ‘world.wav.1’\n",
            "\n",
            "world.wav.1         100%[===================>]  30.52K  --.-KB/s    in 0s      \n",
            "\n",
            "2022-12-20 20:28:09 (113 MB/s) - ‘world.wav.1’ saved [31252/31252]\n",
            "\n",
            "--2022-12-20 20:28:09--  https://github.com/nguyenvulebinh/kit-asr-praktikum/raw/main/resources/door.wav\n",
            "Resolving github.com (github.com)... 140.82.113.3\n",
            "Connecting to github.com (github.com)|140.82.113.3|:443... connected.\n",
            "HTTP request sent, awaiting response... 302 Found\n",
            "Location: https://raw.githubusercontent.com/nguyenvulebinh/kit-asr-praktikum/main/resources/door.wav [following]\n",
            "--2022-12-20 20:28:09--  https://raw.githubusercontent.com/nguyenvulebinh/kit-asr-praktikum/main/resources/door.wav\n",
            "Resolving raw.githubusercontent.com (raw.githubusercontent.com)... 185.199.108.133, 185.199.109.133, 185.199.110.133, ...\n",
            "Connecting to raw.githubusercontent.com (raw.githubusercontent.com)|185.199.108.133|:443... connected.\n",
            "HTTP request sent, awaiting response... 200 OK\n",
            "Length: 14502 (14K) [audio/wav]\n",
            "Saving to: ‘door.wav.1’\n",
            "\n",
            "door.wav.1          100%[===================>]  14.16K  --.-KB/s    in 0s      \n",
            "\n",
            "2022-12-20 20:28:09 (69.5 MB/s) - ‘door.wav.1’ saved [14502/14502]\n",
            "\n"
          ]
        }
      ]
    },
    {
      "cell_type": "markdown",
      "source": [
        "#### Some of util funtions to visualize data"
      ],
      "metadata": {
        "id": "mcngOaHyx0kq"
      }
    },
    {
      "cell_type": "code",
      "execution_count": null,
      "metadata": {
        "id": "G_O1cYbBwSD8"
      },
      "outputs": [],
      "source": [
        "import IPython\n",
        "import matplotlib\n",
        "import matplotlib.pyplot as plt \n",
        "import numpy as np\n",
        "from mpl_toolkits.axes_grid1 import make_axes_locatable\n",
        "\n",
        "def draw_plot(emission, labels):\n",
        "  matplotlib.rcParams[\"figure.figsize\"] = [16, 16]\n",
        "  fig, ax = plt.subplots()\n",
        "  \n",
        "  divider = make_axes_locatable(ax)\n",
        "  cax = divider.append_axes('right', size='5%', pad=0.05)\n",
        "  img = ax.matshow(emission.T, cmap='summer')\n",
        "  fig.colorbar(img, cax=cax, orientation='vertical')\n",
        "\n",
        "  for (i, j), z in np.ndenumerate(emission.T):\n",
        "    ax.text(j, i, labels[i], ha='center', va='center', color='black', fontsize='x-large')\n",
        "  \n",
        "  ax.set_xlabel('Time steps', fontsize='x-large',)    \n",
        "  ax.xaxis.set_label_position('top') \n",
        "\n",
        "  ax.set_ylabel('Vocabulary', fontsize='x-large',)    \n",
        "  ax.yaxis.set_label_position('left') \n",
        "  \n",
        "  plt.show()"
      ]
    },
    {
      "cell_type": "markdown",
      "source": [
        "#### Load a neural network (Wav2vec)\n",
        "\n",
        "This network used to extract the vocabulary distribution corresponding to a fix-size slice from the audio input "
      ],
      "metadata": {
        "id": "awA75O0OyPqY"
      }
    },
    {
      "cell_type": "markdown",
      "source": [
        "![](https://github.com/nguyenvulebinh/kit-asr-praktikum/blob/main/resources/wav2vec_ctc.png?raw=true)"
      ],
      "metadata": {
        "id": "V3rl1mXk1K5q"
      }
    },
    {
      "cell_type": "code",
      "source": [
        "import torch\n",
        "import torchaudio\n",
        "\n",
        "torch.random.manual_seed(0)\n",
        "device = torch.device(\"cuda\" if torch.cuda.is_available() else \"cpu\")"
      ],
      "metadata": {
        "id": "AwTERDPSwjkQ"
      },
      "execution_count": null,
      "outputs": []
    },
    {
      "cell_type": "code",
      "source": [
        "# Load model (wav2vec2 model)\n",
        "bundle = torchaudio.pipelines.WAV2VEC2_ASR_BASE_960H\n",
        "model = bundle.get_model().eval().to(device)\n",
        "labels = bundle.get_labels()"
      ],
      "metadata": {
        "id": "zSGNIs4lw8SA",
        "colab": {
          "base_uri": "https://localhost:8080/",
          "height": 87,
          "referenced_widgets": [
            "64e3ecfd72c1451987a0005f64045c98",
            "8594a5f4c59c4fcf9b713367a899ce6f",
            "3d1a65b2b30c4a43a59f3eb672335b04",
            "5124c4e0024d4ac491fd474c1919c6f0",
            "fe14757c09254a01af9c7c846e7ad04e",
            "adf96f49bb3645beb55ea05383ee5153",
            "8ed781414e664a139ad0568a11e75a0d",
            "9a6ce8760f3b4657a411907273ca6799",
            "f31322b1fb98473da8b74d8900686040",
            "7e2977c5fd6b437390848da69171df00",
            "155abded564147adb9dd3979eb1bbaa9"
          ]
        },
        "outputId": "21125c9c-c332-49e1-c73b-7feaa1c500d1"
      },
      "execution_count": null,
      "outputs": [
        {
          "output_type": "stream",
          "name": "stderr",
          "text": [
            "Downloading: \"https://download.pytorch.org/torchaudio/models/wav2vec2_fairseq_base_ls960_asr_ls960.pth\" to /root/.cache/torch/hub/checkpoints/wav2vec2_fairseq_base_ls960_asr_ls960.pth\n"
          ]
        },
        {
          "output_type": "display_data",
          "data": {
            "text/plain": [
              "  0%|          | 0.00/360M [00:00<?, ?B/s]"
            ],
            "application/vnd.jupyter.widget-view+json": {
              "version_major": 2,
              "version_minor": 0,
              "model_id": "64e3ecfd72c1451987a0005f64045c98"
            }
          },
          "metadata": {}
        }
      ]
    },
    {
      "cell_type": "code",
      "source": [
        "# Model architecture\n",
        "model"
      ],
      "metadata": {
        "id": "cpwHM2bA9Jhh"
      },
      "execution_count": null,
      "outputs": []
    },
    {
      "cell_type": "code",
      "source": [
        "# Number of token in the vocabulary\n",
        "len(labels)"
      ],
      "metadata": {
        "colab": {
          "base_uri": "https://localhost:8080/"
        },
        "id": "iOXtT6--9ToS",
        "outputId": "c1512349-3861-44de-8019-a49b268d298a"
      },
      "execution_count": null,
      "outputs": [
        {
          "output_type": "execute_result",
          "data": {
            "text/plain": [
              "29"
            ]
          },
          "metadata": {},
          "execution_count": 6
        }
      ]
    },
    {
      "cell_type": "markdown",
      "source": [
        "#### Load an audio"
      ],
      "metadata": {
        "id": "EF1vf21wzafX"
      }
    },
    {
      "cell_type": "code",
      "source": [
        "# A sample of the audio input\n",
        "SPEECH_FILE = 'door.wav'\n",
        "ground_truth = 'DOOR'\n",
        "IPython.display.Audio(SPEECH_FILE)"
      ],
      "metadata": {
        "colab": {
          "base_uri": "https://localhost:8080/",
          "height": 75
        },
        "id": "cyGvmYBfBjTm",
        "outputId": "888e6ee9-96ca-4e79-dd4d-a473729df631"
      },
      "execution_count": null,
      "outputs": [
        {
          "output_type": "execute_result",
          "data": {
            "text/plain": [
              "<IPython.lib.display.Audio object>"
            ],
            "text/html": [
              "\n",
              "                <audio  controls=\"controls\" >\n",
              "                    <source src=\"data:audio/x-wav;base64,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\" type=\"audio/x-wav\" />\n",
              "                    Your browser does not support the audio element.\n",
              "                </audio>\n",
              "              "
            ]
          },
          "metadata": {},
          "execution_count": 7
        }
      ]
    },
    {
      "cell_type": "code",
      "source": [
        "# Load audio\n",
        "## TODO"
      ],
      "metadata": {
        "id": "XARAzINaziO5"
      },
      "execution_count": null,
      "outputs": []
    },
    {
      "cell_type": "markdown",
      "source": [
        "#### Calculate the vocabulary distribution\n",
        "\n",
        "Calculate the vocabulary distribution corresponding to the time step"
      ],
      "metadata": {
        "id": "isiQjM4ozubY"
      }
    },
    {
      "cell_type": "code",
      "source": [
        "# Model forward\n",
        "\n",
        "## TODO\n",
        "\n",
        "# Format the output to the probability distribution\n",
        "\n",
        "## TODO\n",
        "# emission = "
      ],
      "metadata": {
        "id": "bSoZWoWs7Ds7"
      },
      "execution_count": null,
      "outputs": []
    },
    {
      "cell_type": "code",
      "source": [
        "# The emission contains two dimensions. The first dimension is the number of time steps; the second is the number of tokens in the vocabulary.\n",
        "emission.shape"
      ],
      "metadata": {
        "colab": {
          "base_uri": "https://localhost:8080/"
        },
        "id": "CfyNXZ1S7TWc",
        "outputId": "4f607166-cc08-4aab-b0a8-087daf0ae536"
      },
      "execution_count": null,
      "outputs": [
        {
          "output_type": "execute_result",
          "data": {
            "text/plain": [
              "torch.Size([22, 29])"
            ]
          },
          "metadata": {},
          "execution_count": 10
        }
      ]
    },
    {
      "cell_type": "markdown",
      "source": [
        "#### Visualize the model output"
      ],
      "metadata": {
        "id": "uCfrfRQc2WcQ"
      }
    },
    {
      "cell_type": "code",
      "source": [
        "draw_plot(emission, labels)"
      ],
      "metadata": {
        "colab": {
          "base_uri": "https://localhost:8080/",
          "height": 939
        },
        "id": "_aIUvsAvxy6W",
        "outputId": "a4258e95-5140-42af-f308-7ca6037ebc71"
      },
      "execution_count": null,
      "outputs": [
        {
          "output_type": "display_data",
          "data": {
            "text/plain": [
              "<Figure size 1152x1152 with 2 Axes>"
            ],
            "image/png": "[encoded data removed]"
          },
          "metadata": {
            "needs_background": "light"
          }
        }
      ]
    },
    {
      "cell_type": "markdown",
      "source": [
        "#### [Pytorch CTC loss](https://pytorch.org/docs/stable/generated/torch.nn.CTCLoss.html)"
      ],
      "metadata": {
        "id": "Ij05L-5N5yGc"
      }
    },
    {
      "cell_type": "code",
      "source": [
        "from torch.nn import CTCLoss"
      ],
      "metadata": {
        "id": "YmJNTrJ05-mQ"
      },
      "execution_count": null,
      "outputs": []
    },
    {
      "cell_type": "code",
      "source": [
        "# Init ctc loss object\n",
        "pytorch_ctc_loss = CTCLoss(blank=0, reduction='sum')"
      ],
      "metadata": {
        "id": "F_nsNU1z6BU1"
      },
      "execution_count": null,
      "outputs": []
    },
    {
      "cell_type": "code",
      "source": [
        "# Input sequence length\n",
        "## TODO\n",
        "# input_length = \n",
        "\n",
        "# Target label by id\n",
        "## TODO\n",
        "# target_ids = \n",
        "\n",
        "# Target sequence length\n",
        "## TODO\n",
        "# target_length = "
      ],
      "metadata": {
        "id": "QlUF5v-d6qZ7"
      },
      "execution_count": null,
      "outputs": []
    },
    {
      "cell_type": "code",
      "source": [
        "pytorch_ctc_loss_value = pytorch_ctc_loss(\n",
        "    log_probs = torch.log(emission), \n",
        "    targets = torch.tensor(target_ids), \n",
        "    input_lengths = torch.tensor(input_length), \n",
        "    target_lengths = torch.tensor(target_length)\n",
        ")"
      ],
      "metadata": {
        "id": "oeR8q6CP6qXS"
      },
      "execution_count": null,
      "outputs": []
    },
    {
      "cell_type": "code",
      "source": [
        "pytorch_ctc_loss_value"
      ],
      "metadata": {
        "colab": {
          "base_uri": "https://localhost:8080/"
        },
        "id": "3fiXbLwwYuHA",
        "outputId": "d7ba3fe0-d8d8-4996-cd99-f789a51904c2"
      },
      "execution_count": null,
      "outputs": [
        {
          "output_type": "execute_result",
          "data": {
            "text/plain": [
              "tensor(10.4938)"
            ]
          },
          "metadata": {},
          "execution_count": 48
        }
      ]
    },
    {
      "cell_type": "markdown",
      "source": [
        "### CTC loss from scratch\n",
        "\n",
        "Our target is defind a function that can output a value equal with the output value of Pytorch CTC loss."
      ],
      "metadata": {
        "id": "4n0-N_7i7cMY"
      }
    },
    {
      "cell_type": "markdown",
      "source": [
        "#### Defind the CTC target alignment"
      ],
      "metadata": {
        "id": "0n5u591w7iGd"
      }
    },
    {
      "cell_type": "code",
      "source": [
        "# Token ϵ can be place before or after any token in the ground truth label. \n",
        "# CTC label = [ϵ, y1, ϵ, y2, ϵ, …, , ϵ, yU, ϵ]\n",
        "\n",
        "## TODO\n",
        "# ctc_gt = \n",
        "# ctc_gt_id = "
      ],
      "metadata": {
        "id": "fQbGgUHI6qUn"
      },
      "execution_count": null,
      "outputs": []
    },
    {
      "cell_type": "code",
      "source": [
        "ctc_gt"
      ],
      "metadata": {
        "colab": {
          "base_uri": "https://localhost:8080/"
        },
        "id": "ksDqDSQI6qSJ",
        "outputId": "79e0add2-67e1-463c-a291-5c1285b12c93"
      },
      "execution_count": null,
      "outputs": [
        {
          "output_type": "execute_result",
          "data": {
            "text/plain": [
              "['-', 'D', '-', 'O', '-', 'O', '-', 'R', '-']"
            ]
          },
          "metadata": {},
          "execution_count": 17
        }
      ]
    },
    {
      "cell_type": "markdown",
      "source": [
        "#### Reconstruct the probability matrix\n",
        "\n",
        "We only care about the target label, so we can ignore the token that not exist in the label. Example here we only care about 4 tokens: **-**, **D**, **O**, **R**\n",
        "\n",
        "![](https://github.com/nguyenvulebinh/kit-asr-praktikum/blob/main/resources/sample_ctc_prob_reconstruct.png?raw=true)"
      ],
      "metadata": {
        "id": "06v7Ih2H8kFh"
      }
    },
    {
      "cell_type": "code",
      "source": [
        "# Collect token distribution over steps\n",
        "## TODO\n",
        "# target_distibution = "
      ],
      "metadata": {
        "id": "NWltt3qSG5EZ"
      },
      "execution_count": null,
      "outputs": []
    },
    {
      "cell_type": "code",
      "source": [
        "# The tensor contains two dimensions. The first dimension is target token; the second is the number of time steps.\n",
        "target_distibution.shape"
      ],
      "metadata": {
        "colab": {
          "base_uri": "https://localhost:8080/"
        },
        "id": "oCtDh0rm-QZs",
        "outputId": "9e4f1158-003e-42b9-a19f-1631d75ac571"
      },
      "execution_count": null,
      "outputs": [
        {
          "output_type": "execute_result",
          "data": {
            "text/plain": [
              "torch.Size([9, 22])"
            ]
          },
          "metadata": {},
          "execution_count": 19
        }
      ]
    },
    {
      "cell_type": "markdown",
      "source": [
        "#### Visualize the target distibution"
      ],
      "metadata": {
        "id": "mDwJpZFA_8J_"
      }
    },
    {
      "cell_type": "code",
      "source": [
        "draw_plot(target_distibution.T, ctc_gt)"
      ],
      "metadata": {
        "colab": {
          "base_uri": "https://localhost:8080/",
          "height": 413
        },
        "id": "IiPmpm_j_ws_",
        "outputId": "701b59df-2446-440d-9f53-08714b3a5fb2"
      },
      "execution_count": null,
      "outputs": [
        {
          "output_type": "display_data",
          "data": {
            "text/plain": [
              "<Figure size 1152x1152 with 2 Axes>"
            ],
            "image/png": "[encoded data removed]"
          },
          "metadata": {
            "needs_background": "light"
          }
        }
      ]
    },
    {
      "cell_type": "markdown",
      "source": [
        "#### Initialize the alpha table\n",
        "\n",
        "![](https://github.com/nguyenvulebinh/kit-asr-praktikum/blob/main/resources/init_alpha_matrix.png?raw=true)"
      ],
      "metadata": {
        "id": "i04OGTF2NHKi"
      }
    },
    {
      "cell_type": "code",
      "source": [
        "## TODO\n",
        "# ctc_gt_label_length = \n",
        "# num_time_steps = \n",
        "\n",
        "# Init the Alpha table have the same shape with the probability matrix. All value init value is zero\n",
        "## TODO\n",
        "# alpha_table = \n",
        "\n",
        "# Init first two token at the first time step in alpha matrix with the same value as in the probability table.\n",
        "## TODO"
      ],
      "metadata": {
        "id": "m3tg14BRPIOT"
      },
      "execution_count": null,
      "outputs": []
    },
    {
      "cell_type": "markdown",
      "source": [
        "#### Loop over alpha tabel position\n",
        "\n",
        "**Case 1:**  When the token at current position is the same token in the previous two token.\n",
        "\n",
        "![](https://github.com/nguyenvulebinh/kit-asr-praktikum/blob/main/resources/ctc_loss_case_1.png?raw=true)\n",
        "\n",
        "**Case 2:**  When the token at current position is different from the token in the previous two token.\n",
        "\n",
        "![](https://github.com/nguyenvulebinh/kit-asr-praktikum/blob/main/resources/ctc_loss_case_2.png?raw=true)"
      ],
      "metadata": {
        "id": "rvA5KrOjRngx"
      }
    },
    {
      "cell_type": "code",
      "source": [
        "for t in range(1, num_time_steps):\n",
        "  for s in range(0, ctc_gt_label_length):\n",
        "    # edge case\n",
        "    if s == 0:\n",
        "      ## TODO\n",
        "      pass\n",
        "      # alpha_previous = \n",
        "    elif s == 1:\n",
        "      ## TODO\n",
        "      pass\n",
        "      # alpha_previous = \n",
        "    \n",
        "    # Case 1\n",
        "    elif ctc_gt[s] == ctc_gt[s-2]:\n",
        "      ## TODO\n",
        "      pass\n",
        "      # alpha_previous = \n",
        "\n",
        "    # Case 2\n",
        "    else:\n",
        "      ## TODO\n",
        "      pass\n",
        "      # alpha_previous = \n",
        "\n",
        "    ## TODO\n",
        "    # alpha_table[s][t] = "
      ],
      "metadata": {
        "id": "OWFTRW7qRnIw"
      },
      "execution_count": null,
      "outputs": []
    },
    {
      "cell_type": "markdown",
      "source": [
        "#### Final CTC score\n",
        "\n",
        "- Although CTC score calculate given for all nodes, we only care about the two final nodes in the bottom right\n",
        "- The total probability is the sum of the two last nodes.\n",
        "- The top above (black arrow) doesn't have any connection to the two final node\n",
        "- The bottom (black arrow) all have the value is zero\n",
        "\n",
        "![](https://github.com/nguyenvulebinh/kit-asr-praktikum/blob/main/resources/final_ctc_score.png?raw=true)"
      ],
      "metadata": {
        "id": "y8N6ZJDdWxsy"
      }
    },
    {
      "cell_type": "code",
      "source": [
        "## TODO\n",
        "# final_probability = "
      ],
      "metadata": {
        "id": "6tWh3A7fRnGA"
      },
      "execution_count": null,
      "outputs": []
    },
    {
      "cell_type": "code",
      "source": [
        "final_probability"
      ],
      "metadata": {
        "colab": {
          "base_uri": "https://localhost:8080/"
        },
        "id": "KSYKbWJLYYOU",
        "outputId": "ab5d8e4b-6d1c-4586-ebd7-87737ac53e6d"
      },
      "execution_count": null,
      "outputs": [
        {
          "output_type": "execute_result",
          "data": {
            "text/plain": [
              "2.7707848396722745e-05"
            ]
          },
          "metadata": {},
          "execution_count": 43
        }
      ]
    },
    {
      "cell_type": "markdown",
      "source": [
        "#### CTC loss value\n",
        "\n",
        "The model’s parameters are tuned to minimize the negative log-likelihood"
      ],
      "metadata": {
        "id": "N1R11hSvYIo3"
      }
    },
    {
      "cell_type": "code",
      "source": [
        "## TODO\n",
        "# ctc_loss_value = "
      ],
      "metadata": {
        "id": "d4atbgs3RnDS"
      },
      "execution_count": null,
      "outputs": []
    },
    {
      "cell_type": "code",
      "source": [
        "ctc_loss_value"
      ],
      "metadata": {
        "colab": {
          "base_uri": "https://localhost:8080/"
        },
        "id": "npxsDSlhY22g",
        "outputId": "88e86b71-1f62-419c-c84d-4c34cc90cc67"
      },
      "execution_count": null,
      "outputs": [
        {
          "output_type": "execute_result",
          "data": {
            "text/plain": [
              "tensor(10.4938)"
            ]
          },
          "metadata": {},
          "execution_count": 55
        }
      ]
    }
  ]
}