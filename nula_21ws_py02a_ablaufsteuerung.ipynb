{
 "cells": [
  {
   "cell_type": "markdown",
   "metadata": {},
   "source": [
    "# Einführung in Python: 2. Schleifen und Verzweigungen"
   ]
  },
  {
   "cell_type": "markdown",
   "metadata": {},
   "source": [
    "- Mit `help(Befehl)` können Sie sich Informationen zu `Befehl` anzeigen lassen.\n",
    "- In den Zellen, die mit \"`In [ ]:`\" beginnen, können Sie Python-Code eingeben und mit STRG+Enter ausführen."
   ]
  },
  {
   "cell_type": "markdown",
   "metadata": {},
   "source": [
    "## Schleifen\n",
    "- Wiederholung derselben Rechenoperationen mit unterschiedlichen Daten \n",
    "- Steuerung durch Schleifenzähler (for-Schleife) oder Abbruch-Bedingung (while-Schleife)\n",
    "\n",
    "### Beispiel 1: Ausgabe der ersten 5 Quadratzahlen"
   ]
  },
  {
   "cell_type": "code",
   "execution_count": null,
   "metadata": {},
   "outputs": [],
   "source": [
    "for k in (1,2,3,4,5):\n",
    "    print( k,'^2 = ', k^2 )"
   ]
  },
  {
   "cell_type": "code",
   "execution_count": null,
   "metadata": {},
   "outputs": [],
   "source": [
    "for k in (1,2,3,4,5):\n",
    "    print( k,'^2 = ', k**2 )"
   ]
  },
  {
   "cell_type": "markdown",
   "metadata": {},
   "source": [
    "### Alternative Syntax: Mit Iterator"
   ]
  },
  {
   "cell_type": "code",
   "execution_count": null,
   "metadata": {},
   "outputs": [],
   "source": [
    "for k in range(1,5):\n",
    "    print( k,'^2 = ', k**2 )"
   ]
  },
  {
   "cell_type": "markdown",
   "metadata": {},
   "source": [
    "**Merke:** range(m,n) = (m,m+1,...,n-1)"
   ]
  },
  {
   "cell_type": "code",
   "execution_count": null,
   "metadata": {},
   "outputs": [],
   "source": [
    "for k in range(1,6):\n",
    "    print( k,'^2 = ', k**2 )\n",
    "for k in range(6):\n",
    "    print( k,'^2 = ', k**2 )    "
   ]
  },
  {
   "cell_type": "markdown",
   "metadata": {},
   "source": [
    "**Merke:** \n",
    "* range(n) = (0,1,...,n-1)\n",
    "* range(m,n,k) = (m,m+k,m+2k,...) ___ (bis maximal n-1)"
   ]
  },
  {
   "cell_type": "code",
   "execution_count": null,
   "metadata": {},
   "outputs": [],
   "source": [
    "for k in range(3,13,5):\n",
    "    print( k,'^2 = ', k**2 )\n",
    "print()    \n",
    "for k in range(3,14,5):\n",
    "    print( k,'^2 = ', k**2 )      "
   ]
  },
  {
   "cell_type": "markdown",
   "metadata": {},
   "source": [
    "### Beispiel 2: Quadrate der ersten 5 Primzahlen\n",
    "\n",
    "**Listen** sind als Schleifenzähler noch flexibler als Iteratoren"
   ]
  },
  {
   "cell_type": "code",
   "execution_count": null,
   "metadata": {},
   "outputs": [],
   "source": [
    "for k in [2,3,5,7,11]:\n",
    "    print( k,'^2 = ', k**2 )"
   ]
  },
  {
   "cell_type": "markdown",
   "metadata": {},
   "source": [
    "### Beispiel 3: Summe von 5 Zahlen"
   ]
  },
  {
   "cell_type": "code",
   "execution_count": null,
   "metadata": {},
   "outputs": [],
   "source": [
    "a = [ -1, 3, 4, -5, 2 ]\n",
    "s = a[0]\n",
    "for k in range( 1, 5 ):\n",
    "    s = s + a[k]\n",
    "print( 'Summe = ', s )"
   ]
  },
  {
   "cell_type": "markdown",
   "metadata": {},
   "source": [
    "### Anmerkung: Für Summen der Einträge einer Liste oder eines Vektors gibt es einen eigenen Python-Befehl"
   ]
  },
  {
   "cell_type": "code",
   "execution_count": null,
   "metadata": {},
   "outputs": [],
   "source": [
    "sum( a )"
   ]
  },
  {
   "cell_type": "markdown",
   "metadata": {},
   "source": [
    "## Verzweigungen\n",
    "\n",
    "* Algorithmus soll manchmal je nach gegebenen Bedingungen unterschiedlich fortgesetzt werden.\n",
    "* Auswahlanweisung mit `if` und `else` (sowie `elif`)\n",
    "* Schachtelung ist möglich\n",
    "* Beliebige Kombination mit Schleifen"
   ]
  },
  {
   "cell_type": "markdown",
   "metadata": {},
   "source": [
    "### Beispiel 4a: Prüfung, ob eine Zahl positiv ist"
   ]
  },
  {
   "cell_type": "code",
   "execution_count": null,
   "metadata": {},
   "outputs": [],
   "source": [
    "x = float( input( 'Geben Sie x ein: ' ) )\n",
    "if x > 0: \n",
    "    print( 'x =', x, ' ist positiv.' )"
   ]
  },
  {
   "cell_type": "markdown",
   "metadata": {},
   "source": [
    "### Der Befehl `input` \n",
    "\n",
    "* Syntax: `Variable = input( Text )`\n",
    "* Der Text wird ausgegeben, der Benutzer gibt einen String als Wert der Variable ein\n",
    "* Datentyp der Variable ist `str` = Textstring\n",
    "* Konversion des Datentyps mit `int( input( Text ) )`, `float( input( Text ) )`, etc."
   ]
  },
  {
   "cell_type": "markdown",
   "metadata": {},
   "source": [
    "### Beispiel 4b:  Ausgabe auch bei negativem Text"
   ]
  },
  {
   "cell_type": "code",
   "execution_count": null,
   "metadata": {},
   "outputs": [],
   "source": [
    "x = float( input( 'Geben Sie x ein: ' ) )\n",
    "if x > 0: \n",
    "    print( 'x =', x, ' ist positiv.' )\n",
    "else:    \n",
    "    print( 'x =', x, ' ist negativ.' )"
   ]
  },
  {
   "cell_type": "markdown",
   "metadata": {},
   "source": [
    "### Beispiel 4c: Ergänzung für Sonderfall 0"
   ]
  },
  {
   "cell_type": "code",
   "execution_count": null,
   "metadata": {},
   "outputs": [],
   "source": [
    "x = float( input( 'Geben Sie x ein: ' ) )\n",
    "if x > 0: \n",
    "    print( 'x =', x, ' ist positiv.' )\n",
    "else:\n",
    "    if x < 0:\n",
    "        print( 'x =', x, ' ist negativ.' )\n",
    "    else:\n",
    "        print( 'x ist 0.')"
   ]
  },
  {
   "cell_type": "markdown",
   "metadata": {},
   "source": [
    "### Beispiel 4d: Kurzform mit `elif`"
   ]
  },
  {
   "cell_type": "code",
   "execution_count": null,
   "metadata": {},
   "outputs": [],
   "source": [
    "x = float( input( 'Geben Sie x ein: ' ) )\n",
    "if x > 0: \n",
    "    print( 'x =', x, ' ist positiv.' )\n",
    "elif x < 0:\n",
    "    print( 'x =', x, ' ist negativ.' )\n",
    "else:\n",
    "    print( 'x ist 0.')"
   ]
  },
  {
   "cell_type": "markdown",
   "metadata": {},
   "source": [
    "### Beispiel 4e: Mehrfache Durchführung des Test in einer for-Schleife"
   ]
  },
  {
   "cell_type": "code",
   "execution_count": null,
   "metadata": {},
   "outputs": [],
   "source": [
    "for k in range(4):\n",
    "    x = float( input( 'Geben Sie x ein: ' ) )\n",
    "    if x > 0: \n",
    "        print( 'x =', x, ' ist positiv.' )\n",
    "    elif x < 0:\n",
    "        print( 'x =', x, ' ist negativ.' )\n",
    "    else:\n",
    "        print( 'x ist 0.')"
   ]
  },
  {
   "cell_type": "markdown",
   "metadata": {},
   "source": [
    "### Beispiel 4f: Mehrfache Durchführung des Test in einer for-Schleife mit Abbruchbedingung\n",
    "* Durchführung des Test in einer Schleife, bis der Benutzer den Wert 1.2345 eingibt\n",
    "* Abbruch der Schleife mit `break`\n",
    "* Maximal 10 Durchläufe"
   ]
  },
  {
   "cell_type": "code",
   "execution_count": null,
   "metadata": {},
   "outputs": [],
   "source": [
    "for k in range(10):\n",
    "    x = float( input( 'Geben Sie x ein (1.2345 für Abbruch): ' ) )\n",
    "    if x == 1.2345:\n",
    "        print( 'Abbruch durch Benutzer')\n",
    "        break\n",
    "    if x > 0: \n",
    "        print( 'x =', x, ' ist positiv.' )\n",
    "    elif x < 0:\n",
    "        print( 'x =', x, ' ist negativ.' )\n",
    "    else:\n",
    "        print( 'x ist 0.')"
   ]
  },
  {
   "cell_type": "markdown",
   "metadata": {},
   "source": [
    "### Beispiel 4g: Mehrfache Durchführung des Test in einer while-Schleife"
   ]
  },
  {
   "cell_type": "code",
   "execution_count": null,
   "metadata": {},
   "outputs": [],
   "source": [
    "x = 1.0 # Initialisierung \n",
    "while x != 1.2345:\n",
    "    x = float( input( 'Geben Sie x ein (1.2345 für Abbruch): ' ) )\n",
    "    if x > 0: \n",
    "        print( 'x =', x, ' ist positiv.' )\n",
    "    elif x < 0:\n",
    "        print( 'x =', x, ' ist negativ.' )\n",
    "    else:\n",
    "        print( 'x ist 0.')\n",
    "print( 'Abbruch durch Benutzer')\n"
   ]
  },
  {
   "cell_type": "code",
   "execution_count": null,
   "metadata": {},
   "outputs": [],
   "source": []
  }
 ],
 "metadata": {
  "kernelspec": {
   "display_name": "Python 3",
   "language": "python",
   "name": "python3"
  },
  "language_info": {
   "codemirror_mode": {
    "name": "ipython",
    "version": 3
   },
   "file_extension": ".py",
   "mimetype": "text/x-python",
   "name": "python",
   "nbconvert_exporter": "python",
   "pygments_lexer": "ipython3",
   "version": "3.7.4"
  }
 },
 "nbformat": 4,
 "nbformat_minor": 1
}
