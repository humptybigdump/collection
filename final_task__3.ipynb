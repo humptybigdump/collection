{
 "cells": [
  {
   "cell_type": "markdown",
   "metadata": {},
   "source": [
    "# Data Analysis in Geoscience Remote Sensing Projects: Exercises\n",
    "## Final task handed in by: YOURNAME, on DATE\n",
    "Hendrik Andersen, contact: hendrik.andersen@kit.edu\n",
    "\n",
    "## Part one: Regression and sensitivity estimation with remote sensing data\n",
    "\n",
    "For this part you are provided with a data set contained in the file 'data_final_task.csv'. The data contains information on regional averages of low-cloud occurrence and meteorological factors in the Southeast Atlantic (10°S-20°S, 0°E-10°E - this means that the study area is about 1000 km x 1000 km large). The DataFrame contains the following variables:\n",
    "- sst: sea surface temperature\n",
    "- eis: estimated inversion strength\n",
    "- t_adv: temperature advection\n",
    "- w700: vertical pressure velocity at 700 hPa (this is the vertical wind speed, given in Pa/s: positive numbers mean subsiding air masses)\n",
    "- rhft: relative humidity in the free troposphere (free troposphere is above the cloud layer)\n",
    "- clf: Liquid water cloud fraction\n",
    "\n",
    "The data on clouds are from a satellite data set from the MODIS sensor on board NASA's Terra satellite. The product name is MOD08_M3, downloaded from https://ladsweb.modaps.eosdis.nasa.gov/ for more information check out https://ladsweb.modaps.eosdis.nasa.gov/missions-and-measurements/products/MOD08_M3/#overview\n",
    "\n",
    "The meteorological data are ERA5 reanalysis data on meteorological factors thought to be important for low cloud cover. The data is downloaded from https://cds.climate.copernicus.eu/cdsapp#!/dataset/reanalysis-era5-single-levels?tab=overview\n",
    "\n",
    "For more information on how reanalysis data are generated, check out the 2-minute video from Copernicus ECMWF here: https://www.youtube.com/watch?v=FAGobvUGl24\n",
    "\n",
    "Your task is to analyze the data to\n",
    "1. quantitatively and visually describe the data \n",
    "2. analyze relationships between cloud fraction and the cloud-controlling factors using\n",
    "    - regression analysis\n",
    "    - a machine learning model (e.g. feature importance, SHAP)\n",
    "3. describe the results of your analyses in the provided markdown cells. Are your results in agreement with the described relationships in the following study?: Klein et al. (2017): Low-Cloud Feedbacks from Cloud-Controlling Factors: A Review, Surveys in Geophysics, doi: 10.1007/s10712-017-9433-3\n",
    "\n",
    "## Part two: Classification in a remote sensing retrieval setting\n",
    "\n",
    "For the second part of the exercise, you are tasked to develop a machine learning method to detect fog and low clouds for a location in the Namib Desert on the basis of observations from a geostationary satellite platform. You are provided a data set of night-time satellite observations at different wave lengths over a meteorological measurement station. The geostationary satellite (Spinning Enhanced Visible and Infrared Imager; SEVIRI) makes a scan every 15 minutes at a spatial resolution of 3km x 3km. For the exact time steps of the satellite observations made available here, a boolean (True/False) data set on the presence of fog and low clouds from the measurement station is provided, which should be used as the labeled target data.\n",
    "- IR_016: Measurements at the 1.6 µm channel\n",
    "- IR_039: Measurements at the 3.9 µm channel\n",
    "- IR_087: Measurements at the 8.7 µm channel\n",
    "- IR_097: Measurements at the 9.7 µm channel\n",
    "- IR_108: Measurements at the 10.8 µm channel\n",
    "- IR_120: Measurements at the 12.0 µm channel\n",
    "- IR_134: Measurements at the 13.4 µm channel\n",
    "- station_fls: A boolean (True/False) information if fog or low clouds are present at the given time\n",
    "\n",
    "Your task is to analyze the data to\n",
    "1. Train and optimize a machine learning classifier (e.g. GradientBoostingClassifier) to detect fog and low clouds and analyze the results using a confusion matrix and using performance metrics\n",
    "2. Compare the results to a logistic regression approach, and discuss  in the provided markdown cell which method is better at classifying fog and low cloud presence/absence\n",
    "3. Compare the results to a dedicated detection approach developed for the region in Andersen and Cermak (2018): First fully diurnal fog and low cloud satellite detection reveals life cycle in the Namib, Atmospheric Measurement Techniques, doi: 10.5194/amt-11-5461-2018. Use the provided markdown cell for the discussion.\n",
    "\n",
    "You can find more specific tasks in the cells below\n"
   ]
  },
  {
   "cell_type": "markdown",
   "metadata": {},
   "source": [
    "## Part one: Regression and sensitivity estimation with remote sensing data\n",
    "__Task__: \n",
    "In a typical scientific workflow, the first step is to get an overview of the data. Typically, visualizations and descriptive statistics are very useful to achieve this.  \n",
    "1. Use pandas to load the dataset, use the time column as the index column\n",
    "2. Calculate the mean and standard deviation of cloud fraction and plot the distribution of cloud fraction in a histogram.\n",
    "3. Plot the CLF time series and describe seasonal patterns."
   ]
  },
  {
   "cell_type": "code",
   "execution_count": 12,
   "metadata": {},
   "outputs": [
    {
     "data": {
      "text/html": [
       "<div>\n",
       "<style scoped>\n",
       "    .dataframe tbody tr th:only-of-type {\n",
       "        vertical-align: middle;\n",
       "    }\n",
       "\n",
       "    .dataframe tbody tr th {\n",
       "        vertical-align: top;\n",
       "    }\n",
       "\n",
       "    .dataframe thead th {\n",
       "        text-align: right;\n",
       "    }\n",
       "</style>\n",
       "<table border=\"1\" class=\"dataframe\">\n",
       "  <thead>\n",
       "    <tr style=\"text-align: right;\">\n",
       "      <th></th>\n",
       "      <th>sst</th>\n",
       "      <th>eis</th>\n",
       "      <th>t_adv</th>\n",
       "      <th>w700</th>\n",
       "      <th>rhft</th>\n",
       "      <th>clf</th>\n",
       "    </tr>\n",
       "    <tr>\n",
       "      <th>time</th>\n",
       "      <th></th>\n",
       "      <th></th>\n",
       "      <th></th>\n",
       "      <th></th>\n",
       "      <th></th>\n",
       "      <th></th>\n",
       "    </tr>\n",
       "  </thead>\n",
       "  <tbody>\n",
       "    <tr>\n",
       "      <th>2001-01-01</th>\n",
       "      <td>296.16850</td>\n",
       "      <td>4.824931</td>\n",
       "      <td>-1.682254</td>\n",
       "      <td>0.022467</td>\n",
       "      <td>35.642094</td>\n",
       "      <td>0.663396</td>\n",
       "    </tr>\n",
       "    <tr>\n",
       "      <th>2001-02-01</th>\n",
       "      <td>297.11526</td>\n",
       "      <td>3.476827</td>\n",
       "      <td>-1.932790</td>\n",
       "      <td>0.026573</td>\n",
       "      <td>37.940147</td>\n",
       "      <td>0.605880</td>\n",
       "    </tr>\n",
       "    <tr>\n",
       "      <th>2001-03-01</th>\n",
       "      <td>298.15900</td>\n",
       "      <td>2.265783</td>\n",
       "      <td>-2.199120</td>\n",
       "      <td>0.031560</td>\n",
       "      <td>33.834457</td>\n",
       "      <td>0.529290</td>\n",
       "    </tr>\n",
       "    <tr>\n",
       "      <th>2001-04-01</th>\n",
       "      <td>298.17062</td>\n",
       "      <td>2.402812</td>\n",
       "      <td>-2.532412</td>\n",
       "      <td>0.039651</td>\n",
       "      <td>21.565330</td>\n",
       "      <td>0.464151</td>\n",
       "    </tr>\n",
       "    <tr>\n",
       "      <th>2001-05-01</th>\n",
       "      <td>297.06927</td>\n",
       "      <td>3.534788</td>\n",
       "      <td>-2.962148</td>\n",
       "      <td>0.037318</td>\n",
       "      <td>7.997189</td>\n",
       "      <td>0.318764</td>\n",
       "    </tr>\n",
       "  </tbody>\n",
       "</table>\n",
       "</div>"
      ],
      "text/plain": [
       "                  sst       eis     t_adv      w700       rhft       clf\n",
       "time                                                                    \n",
       "2001-01-01  296.16850  4.824931 -1.682254  0.022467  35.642094  0.663396\n",
       "2001-02-01  297.11526  3.476827 -1.932790  0.026573  37.940147  0.605880\n",
       "2001-03-01  298.15900  2.265783 -2.199120  0.031560  33.834457  0.529290\n",
       "2001-04-01  298.17062  2.402812 -2.532412  0.039651  21.565330  0.464151\n",
       "2001-05-01  297.06927  3.534788 -2.962148  0.037318   7.997189  0.318764"
      ]
     },
     "execution_count": 12,
     "metadata": {},
     "output_type": "execute_result"
    }
   ],
   "source": [
    "# use this cell for your code, make sure to comment your code to make it understandable\n",
    "# just to get you started:\n",
    "import pandas as pd\n",
    "\n",
    "data_df = pd.read_csv(\"data_final_task_regression.csv\", index_col='time', parse_dates=True)\n",
    "data_df.head()"
   ]
  },
  {
   "cell_type": "markdown",
   "metadata": {},
   "source": [
    "Describe the results here"
   ]
  },
  {
   "cell_type": "markdown",
   "metadata": {},
   "source": [
    "__Task__: \n",
    "1. Compute a regression analysis of clf with each meteorological predictor\n",
    "2. Describe the sensitivities of CLF to the meteorological predictors:\n",
    "    - How sensitive are low clouds to changes in meteorological predictors (in individual simple regression models, and in a multiple regression framework)?\n",
    "    - Are the relationships significant?\n",
    "    - Are there strong correlations between the different predictors that could influence the sensitivity estimates?"
   ]
  },
  {
   "cell_type": "code",
   "execution_count": 38,
   "metadata": {},
   "outputs": [],
   "source": [
    "# use this cell for your code, make sure to comment your code to make it understandable"
   ]
  },
  {
   "cell_type": "markdown",
   "metadata": {},
   "source": [
    "Describe the results here"
   ]
  },
  {
   "cell_type": "markdown",
   "metadata": {},
   "source": [
    "__Task__:\n",
    "Use a machine learning model to \n",
    "1. Predict CLF as accurately as possible [low validation error (e.g. MSE or RMSE) and high explained variance (R²), tuning of hyperparameters]\n",
    "2. Plot a scatter plot of observed CLF vs. model predicted CLF for the both training and test data sets to visualize model performance and check for overfitting. Do the same for a multiple linear regression model, is the machine learning model better than the multiple regression?\n",
    "3. Which predictors are most important for the model to predict CLF? [feature importance]\n",
    "3. Analyze the two most important meteorological features in more detail: How do they influence the prediction of CLF? [partial dependency, SHAP] "
   ]
  },
  {
   "cell_type": "code",
   "execution_count": 11,
   "metadata": {},
   "outputs": [
    {
     "data": {
      "text/html": [
       "<style>#sk-container-id-1 {color: black;background-color: white;}#sk-container-id-1 pre{padding: 0;}#sk-container-id-1 div.sk-toggleable {background-color: white;}#sk-container-id-1 label.sk-toggleable__label {cursor: pointer;display: block;width: 100%;margin-bottom: 0;padding: 0.3em;box-sizing: border-box;text-align: center;}#sk-container-id-1 label.sk-toggleable__label-arrow:before {content: \"▸\";float: left;margin-right: 0.25em;color: #696969;}#sk-container-id-1 label.sk-toggleable__label-arrow:hover:before {color: black;}#sk-container-id-1 div.sk-estimator:hover label.sk-toggleable__label-arrow:before {color: black;}#sk-container-id-1 div.sk-toggleable__content {max-height: 0;max-width: 0;overflow: hidden;text-align: left;background-color: #f0f8ff;}#sk-container-id-1 div.sk-toggleable__content pre {margin: 0.2em;color: black;border-radius: 0.25em;background-color: #f0f8ff;}#sk-container-id-1 input.sk-toggleable__control:checked~div.sk-toggleable__content {max-height: 200px;max-width: 100%;overflow: auto;}#sk-container-id-1 input.sk-toggleable__control:checked~label.sk-toggleable__label-arrow:before {content: \"▾\";}#sk-container-id-1 div.sk-estimator input.sk-toggleable__control:checked~label.sk-toggleable__label {background-color: #d4ebff;}#sk-container-id-1 div.sk-label input.sk-toggleable__control:checked~label.sk-toggleable__label {background-color: #d4ebff;}#sk-container-id-1 input.sk-hidden--visually {border: 0;clip: rect(1px 1px 1px 1px);clip: rect(1px, 1px, 1px, 1px);height: 1px;margin: -1px;overflow: hidden;padding: 0;position: absolute;width: 1px;}#sk-container-id-1 div.sk-estimator {font-family: monospace;background-color: #f0f8ff;border: 1px dotted black;border-radius: 0.25em;box-sizing: border-box;margin-bottom: 0.5em;}#sk-container-id-1 div.sk-estimator:hover {background-color: #d4ebff;}#sk-container-id-1 div.sk-parallel-item::after {content: \"\";width: 100%;border-bottom: 1px solid gray;flex-grow: 1;}#sk-container-id-1 div.sk-label:hover label.sk-toggleable__label {background-color: #d4ebff;}#sk-container-id-1 div.sk-serial::before {content: \"\";position: absolute;border-left: 1px solid gray;box-sizing: border-box;top: 0;bottom: 0;left: 50%;z-index: 0;}#sk-container-id-1 div.sk-serial {display: flex;flex-direction: column;align-items: center;background-color: white;padding-right: 0.2em;padding-left: 0.2em;position: relative;}#sk-container-id-1 div.sk-item {position: relative;z-index: 1;}#sk-container-id-1 div.sk-parallel {display: flex;align-items: stretch;justify-content: center;background-color: white;position: relative;}#sk-container-id-1 div.sk-item::before, #sk-container-id-1 div.sk-parallel-item::before {content: \"\";position: absolute;border-left: 1px solid gray;box-sizing: border-box;top: 0;bottom: 0;left: 50%;z-index: -1;}#sk-container-id-1 div.sk-parallel-item {display: flex;flex-direction: column;z-index: 1;position: relative;background-color: white;}#sk-container-id-1 div.sk-parallel-item:first-child::after {align-self: flex-end;width: 50%;}#sk-container-id-1 div.sk-parallel-item:last-child::after {align-self: flex-start;width: 50%;}#sk-container-id-1 div.sk-parallel-item:only-child::after {width: 0;}#sk-container-id-1 div.sk-dashed-wrapped {border: 1px dashed gray;margin: 0 0.4em 0.5em 0.4em;box-sizing: border-box;padding-bottom: 0.4em;background-color: white;}#sk-container-id-1 div.sk-label label {font-family: monospace;font-weight: bold;display: inline-block;line-height: 1.2em;}#sk-container-id-1 div.sk-label-container {text-align: center;}#sk-container-id-1 div.sk-container {/* jupyter's `normalize.less` sets `[hidden] { display: none; }` but bootstrap.min.css set `[hidden] { display: none !important; }` so we also need the `!important` here to be able to override the default hidden behavior on the sphinx rendered scikit-learn.org. See: https://github.com/scikit-learn/scikit-learn/issues/21755 */display: inline-block !important;position: relative;}#sk-container-id-1 div.sk-text-repr-fallback {display: none;}</style><div id=\"sk-container-id-1\" class=\"sk-top-container\"><div class=\"sk-text-repr-fallback\"><pre>LinearRegression()</pre><b>In a Jupyter environment, please rerun this cell to show the HTML representation or trust the notebook. <br />On GitHub, the HTML representation is unable to render, please try loading this page with nbviewer.org.</b></div><div class=\"sk-container\" hidden><div class=\"sk-item\"><div class=\"sk-estimator sk-toggleable\"><input class=\"sk-toggleable__control sk-hidden--visually\" id=\"sk-estimator-id-1\" type=\"checkbox\" checked><label for=\"sk-estimator-id-1\" class=\"sk-toggleable__label sk-toggleable__label-arrow\">LinearRegression</label><div class=\"sk-toggleable__content\"><pre>LinearRegression()</pre></div></div></div></div></div>"
      ],
      "text/plain": [
       "LinearRegression()"
      ]
     },
     "execution_count": 11,
     "metadata": {},
     "output_type": "execute_result"
    }
   ],
   "source": [
    "# use this cell for your code, make sure to comment your code to make it understandable\n",
    "# some code to help you get started:\n",
    "X = data_df.drop(['clf'],axis=1)\n",
    "y = data_df.drop(['sst','eis','w700','rhft','t_adv'],axis=1)\n",
    "\n",
    "# you can start here by separating training and test data sets\n"
   ]
  },
  {
   "cell_type": "markdown",
   "metadata": {},
   "source": [
    "Describe the results here and compare your findings with Klein et al. (2017), specifically Table 1 of that paper."
   ]
  },
  {
   "cell_type": "markdown",
   "metadata": {},
   "source": [
    "## Part two: Classification in a remote sensing retrieval setting\n",
    "\n",
    "__Task__\n",
    "1. Divide data into test and training data sets\n",
    "2. Train and optimize (hyperparameter tuning) a machine learning model \n",
    "3. Train a logistic regression model\n",
    "4. Analyze both classifiers with a confusion matrix and perfomance metrics"
   ]
  },
  {
   "cell_type": "code",
   "execution_count": 14,
   "metadata": {},
   "outputs": [
    {
     "data": {
      "text/html": [
       "<div>\n",
       "<style scoped>\n",
       "    .dataframe tbody tr th:only-of-type {\n",
       "        vertical-align: middle;\n",
       "    }\n",
       "\n",
       "    .dataframe tbody tr th {\n",
       "        vertical-align: top;\n",
       "    }\n",
       "\n",
       "    .dataframe thead th {\n",
       "        text-align: right;\n",
       "    }\n",
       "</style>\n",
       "<table border=\"1\" class=\"dataframe\">\n",
       "  <thead>\n",
       "    <tr style=\"text-align: right;\">\n",
       "      <th></th>\n",
       "      <th>IR_016</th>\n",
       "      <th>IR_039</th>\n",
       "      <th>IR_087</th>\n",
       "      <th>IR_097</th>\n",
       "      <th>IR_108</th>\n",
       "      <th>IR_120</th>\n",
       "      <th>IR_134</th>\n",
       "      <th>hour</th>\n",
       "    </tr>\n",
       "    <tr>\n",
       "      <th>time</th>\n",
       "      <th></th>\n",
       "      <th></th>\n",
       "      <th></th>\n",
       "      <th></th>\n",
       "      <th></th>\n",
       "      <th></th>\n",
       "      <th></th>\n",
       "      <th></th>\n",
       "    </tr>\n",
       "  </thead>\n",
       "  <tbody>\n",
       "    <tr>\n",
       "      <th>2017-01-01 02:15:00</th>\n",
       "      <td>0.0</td>\n",
       "      <td>278.879608</td>\n",
       "      <td>280.685059</td>\n",
       "      <td>263.359650</td>\n",
       "      <td>282.301025</td>\n",
       "      <td>280.013031</td>\n",
       "      <td>263.040985</td>\n",
       "      <td>2</td>\n",
       "    </tr>\n",
       "    <tr>\n",
       "      <th>2017-01-01 02:45:00</th>\n",
       "      <td>0.0</td>\n",
       "      <td>278.679932</td>\n",
       "      <td>278.369781</td>\n",
       "      <td>261.783905</td>\n",
       "      <td>280.127319</td>\n",
       "      <td>277.147034</td>\n",
       "      <td>261.020630</td>\n",
       "      <td>2</td>\n",
       "    </tr>\n",
       "    <tr>\n",
       "      <th>2017-01-01 03:00:00</th>\n",
       "      <td>0.0</td>\n",
       "      <td>267.121002</td>\n",
       "      <td>267.075897</td>\n",
       "      <td>253.793442</td>\n",
       "      <td>267.948608</td>\n",
       "      <td>266.059509</td>\n",
       "      <td>255.240616</td>\n",
       "      <td>3</td>\n",
       "    </tr>\n",
       "    <tr>\n",
       "      <th>2017-01-01 03:15:00</th>\n",
       "      <td>0.0</td>\n",
       "      <td>259.046082</td>\n",
       "      <td>261.236359</td>\n",
       "      <td>249.466690</td>\n",
       "      <td>262.608582</td>\n",
       "      <td>262.083160</td>\n",
       "      <td>252.943909</td>\n",
       "      <td>3</td>\n",
       "    </tr>\n",
       "    <tr>\n",
       "      <th>2017-01-01 03:30:00</th>\n",
       "      <td>0.0</td>\n",
       "      <td>257.104797</td>\n",
       "      <td>258.599182</td>\n",
       "      <td>247.912064</td>\n",
       "      <td>259.713806</td>\n",
       "      <td>259.399933</td>\n",
       "      <td>251.122620</td>\n",
       "      <td>3</td>\n",
       "    </tr>\n",
       "  </tbody>\n",
       "</table>\n",
       "</div>"
      ],
      "text/plain": [
       "                     IR_016      IR_039      IR_087      IR_097      IR_108  \\\n",
       "time                                                                          \n",
       "2017-01-01 02:15:00     0.0  278.879608  280.685059  263.359650  282.301025   \n",
       "2017-01-01 02:45:00     0.0  278.679932  278.369781  261.783905  280.127319   \n",
       "2017-01-01 03:00:00     0.0  267.121002  267.075897  253.793442  267.948608   \n",
       "2017-01-01 03:15:00     0.0  259.046082  261.236359  249.466690  262.608582   \n",
       "2017-01-01 03:30:00     0.0  257.104797  258.599182  247.912064  259.713806   \n",
       "\n",
       "                         IR_120      IR_134  hour  \n",
       "time                                               \n",
       "2017-01-01 02:15:00  280.013031  263.040985     2  \n",
       "2017-01-01 02:45:00  277.147034  261.020630     2  \n",
       "2017-01-01 03:00:00  266.059509  255.240616     3  \n",
       "2017-01-01 03:15:00  262.083160  252.943909     3  \n",
       "2017-01-01 03:30:00  259.399933  251.122620     3  "
      ]
     },
     "execution_count": 14,
     "metadata": {},
     "output_type": "execute_result"
    }
   ],
   "source": [
    "import xarray as xr\n",
    "\n",
    "data = xr.open_dataset('data_final_task_classification.nc') # load the data set\n",
    "X = data[['IR_016','IR_039','IR_087','IR_097','IR_108','IR_120','IR_134']] # define X to be the satellite observations from different channels\n",
    "X['hour'] = data.time['time.hour'] # use the hour of the observation as an additional predictor\n",
    "X = X.to_dataframe() # convert to a pandas data frame\n",
    "\n",
    "y = data.station_fls # define y to be the True/False labels from the meteorological station\n",
    "\n",
    "# continue your code here\n"
   ]
  },
  {
   "cell_type": "markdown",
   "metadata": {},
   "source": [
    "Use this cell to descibe and compare the classification results of the machine learning and logistic regression approaches."
   ]
  },
  {
   "cell_type": "markdown",
   "metadata": {},
   "source": [
    "Use this cell to compare your results to the results in Andersen et al. (2018)"
   ]
  }
 ],
 "metadata": {
  "kernelspec": {
   "display_name": "Python 3 (ipykernel)",
   "language": "python",
   "name": "python3"
  },
  "language_info": {
   "codemirror_mode": {
    "name": "ipython",
    "version": 3
   },
   "file_extension": ".py",
   "mimetype": "text/x-python",
   "name": "python",
   "nbconvert_exporter": "python",
   "pygments_lexer": "ipython3",
   "version": "3.10.4"
  }
 },
 "nbformat": 4,
 "nbformat_minor": 4
}
