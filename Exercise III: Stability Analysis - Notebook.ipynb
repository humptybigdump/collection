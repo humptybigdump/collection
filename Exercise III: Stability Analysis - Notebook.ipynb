{
 "cells": [
  {
   "cell_type": "markdown",
   "metadata": {},
   "source": [
    "**Data Science and AI for Energy Systems** \n",
    "\n",
    "Karlsruhe Institute of Technology\n",
    "\n",
    "Institute of Automation and Applied Informatics\n",
    "\n",
    "Summer Term 2024\n",
    "\n",
    "---"
   ]
  },
  {
   "cell_type": "markdown",
   "metadata": {},
   "source": [
    "# Exercise III: Stability analysis"
   ]
  },
  {
   "cell_type": "markdown",
   "metadata": {},
   "source": [
    "**Imports**"
   ]
  },
  {
   "cell_type": "code",
   "execution_count": 1,
   "metadata": {},
   "outputs": [],
   "source": [
    "# Imports\n",
    "import numpy as np\n",
    "import scipy as sc\n",
    "import matplotlib.pyplot as plt\n",
    "from scipy.integrate import solve_ivp , odeint"
   ]
  },
  {
   "cell_type": "markdown",
   "metadata": {},
   "source": [
    "## Problem III.2 (Analysis and Programming) -- Stability analysis"
   ]
  },
  {
   "cell_type": "markdown",
   "metadata": {},
   "source": [
    "#### In this exercise we want to derive a deeper understanding of the concepts of stability applied on power grid systems. Therefore we look into dynamics of nonlinear and linear systems, calculate Lyapunov exponents of a dynamical system, perform a bifurcation analysis, and finally also consider a higher-dimensional dynamical system."
   ]
  },
  {
   "cell_type": "markdown",
   "metadata": {},
   "source": [
    "***\n",
    "**(a) We consider a 1-node-infinite bus system \n",
    "\\begin{align}\\nonumber\n",
    "    \\frac{d\\theta}{dt}&=\\omega\\\\ \\nonumber\n",
    "    \\frac{d\\omega}{dt}&=P-c\\omega - K\\sin (\\theta) \n",
    "\\end{align}\n",
    "with power feed in P, damping c and coupling K. <br>\n",
    "Use the numerical ODE solver *scipy.integrate.odeint* to simulate data, given the $P=0.9$, $K=1$ and $c=1$, initial conditions $(\\theta_0,\\omega_0)$ = $(0.0,0.1)$, and for a time span $t=[0,20]$ with time steps of $0.1$.<br>\n",
    "Plot the results in the $(\\theta,\\omega)$-plane, as well as in the $(t,\\theta)-$ and the $(t,\\omega)-$ plane.**"
   ]
  },
  {
   "cell_type": "markdown",
   "metadata": {},
   "source": [
    "Solve the ODE numerically"
   ]
  },
  {
   "cell_type": "code",
   "execution_count": null,
   "metadata": {},
   "outputs": [],
   "source": []
  },
  {
   "cell_type": "markdown",
   "metadata": {},
   "source": [
    "Plot the results in the $(\\theta,\\omega)$-plane, as well as in the $(t,\\theta)-$ and the $(t,\\omega)-$ plane:"
   ]
  },
  {
   "cell_type": "code",
   "execution_count": null,
   "metadata": {},
   "outputs": [],
   "source": []
  },
  {
   "cell_type": "markdown",
   "metadata": {},
   "source": [
    "***\n",
    "**(b) Compare the result from (a) to the results of the linearization: Consider the system \n",
    "\\begin{align*}\n",
    "    \\begin{pmatrix}\n",
    "        \\theta\\\\\\omega\n",
    "    \\end{pmatrix}'&=\\text{J} \\begin{pmatrix}\n",
    "        \\theta\\\\\\omega\n",
    "    \\end{pmatrix},\n",
    "\\end{align*}\n",
    "where $J$ is the Jacobian at the stable fixed point of (1).\n",
    "Solve the equation for the same choice of parameters as in (a), and use the same method for solving the equation. <br>\n",
    "Plot the results as in (a), in order to compare the results from the original system and its linearization.**"
   ]
  },
  {
   "cell_type": "markdown",
   "metadata": {},
   "source": [
    "Calculate the Jacobian matrix and solve the linearized ODE numerically"
   ]
  },
  {
   "cell_type": "code",
   "execution_count": null,
   "metadata": {},
   "outputs": [],
   "source": []
  },
  {
   "cell_type": "markdown",
   "metadata": {},
   "source": [
    "Plot the results, together with the results from (a), in the $(\\theta,\\omega)$-plane, as well as in the $(t,\\theta)-$ and the $(t,\\omega)-$ plane:"
   ]
  },
  {
   "cell_type": "code",
   "execution_count": null,
   "metadata": {},
   "outputs": [],
   "source": []
  },
  {
   "cell_type": "markdown",
   "metadata": {},
   "source": [
    "# ___ Optional (content was not part of the lecture) ___<br>\n",
    "**(c) Estimate the largest Lyapunov exponent using the Rosenstein  method (use *nolds.lyap\\_r*): We consider as in (a) a 1-node-infinite bus system, here we set $P = 0.2, c = 3$ and $K = 1$, initial conditions $(\\theta_0,\\omega_0) = (0.0,0.1)$, and a time span $t=[0,100]$ with time steps of $0.1$. <br>\n",
    "Consider we observe the solution of $\\frac{d\\omega}{dt}$ and want to use this observation to calculate the largest Lyapunov exponent. Solve the differential equation analogously to (a) and use the solution for omega as input for the function *nolds.lyap\\_r* which gives the largest Lyapunov exponent. Then compare the value with the largest eigenvalue of the Jacobian at the stable fixed point, what do you notice?**\n",
    "___"
   ]
  },
  {
   "cell_type": "code",
   "execution_count": null,
   "metadata": {},
   "outputs": [],
   "source": []
  },
  {
   "cell_type": "markdown",
   "metadata": {},
   "source": [
    "***\n",
    "**(d) Bifurcation analysis: We consider fixed $K=1$ and $c=5$, and regard the dynamics of the equilibria of the one-node-infinite bus system depending on the power feed in $P$. Assume $P$ as variable, with values ranging from $0$ to $2$ with steps of $0.0001$.<br>\n",
    "Use the linearization of the system: For which $P$ do real-values fixed points exist, and which fixed points are stable? Herefore, plot a bifurcation diagram, with the values of $P$ on the x-axis and the $\\theta-$ values of fixed points on the y-axis.<br>\n",
    "*Hint:* You should obtain a saddle-node bifurcation.**"
   ]
  },
  {
   "cell_type": "markdown",
   "metadata": {},
   "source": [
    "Compute the fixed points for each parameter choice, i.e. for the different $P$. Attention: Not for every choice of $P$ there are real-valued fixed points."
   ]
  },
  {
   "cell_type": "code",
   "execution_count": null,
   "metadata": {},
   "outputs": [],
   "source": []
  },
  {
   "cell_type": "markdown",
   "metadata": {},
   "source": [
    "Plot the fixed points in a bifurcation diagram, with the values of $P$ on the x-axis and the $\\theta-$ values of fixed points on the y-axis."
   ]
  },
  {
   "cell_type": "code",
   "execution_count": null,
   "metadata": {},
   "outputs": [],
   "source": []
  },
  {
   "cell_type": "markdown",
   "metadata": {},
   "source": [
    "***\n",
    "**(e) As we now analyzed the stability of a one-node-infinite-bus system, we also want to take a look into n-node systems. The equations for the voltage angles resp. the frequency deviations are given as\n",
    "\\begin{align*}\\nonumber\n",
    "    \\frac{d\\theta_i}{dt}&=\\omega_i\\\\ \\nonumber\n",
    "    \\frac{d\\omega_i}{dt}&=P_i-c_i\\omega_i - \\sum_{j=1}^{n}K_{i,j}\\sin (\\theta_i - \\theta_j) \n",
    "\\end{align*}\n",
    "for $i=1,\\ldots,n$.<br>\n",
    "Derive analogously to the 1-node case a function depending on the prameters and the initial values, that can solve the ODE system (2) numerically. Test your function for $n=3$ with some self-chosen parameters and initial values for the $\\theta_i$'s and $\\omega_i$'s and plot the resulting solutions.**"
   ]
  },
  {
   "cell_type": "markdown",
   "metadata": {},
   "source": [
    "Set up a function for a n-node system."
   ]
  },
  {
   "cell_type": "code",
   "execution_count": null,
   "metadata": {},
   "outputs": [],
   "source": []
  },
  {
   "cell_type": "markdown",
   "metadata": {},
   "source": [
    "Choose some parameters and initial values to test your function and plot the results, analogously to (a):"
   ]
  },
  {
   "cell_type": "code",
   "execution_count": null,
   "metadata": {},
   "outputs": [],
   "source": []
  }
 ],
 "metadata": {
  "kernelspec": {
   "display_name": "tf213_loc",
   "language": "python",
   "name": "python3"
  },
  "language_info": {
   "codemirror_mode": {
    "name": "ipython",
    "version": 3
   },
   "file_extension": ".py",
   "mimetype": "text/x-python",
   "name": "python",
   "nbconvert_exporter": "python",
   "pygments_lexer": "ipython3",
   "version": "3.9.18"
  }
 },
 "nbformat": 4,
 "nbformat_minor": 2
}
