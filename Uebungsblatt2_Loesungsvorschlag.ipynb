{
 "cells": [
  {
   "cell_type": "markdown",
   "metadata": {},
   "source": [
    "# Übungsblatt 2\n",
    "\n",
    "Das vorliegende Jupyter Notebook ist das zweite Übungsblatt, das im Rahmen der Studienleistung des Seminars <i>Programmieren für GeisteswissenschaftlerInnen</i> bearbeitet werden soll. Bitte lies vor der Bearbeitung den folgenden Abschnitt genau durch.\n",
    "\n",
    "VIEL ERFOLG!\n",
    "\n",
    "## Wichtige Hinweise\n",
    "\n",
    "Das Übungsblatt kann bis zum <b>12.06.2023 um 8.00 Uhr</b> bearbeitet und auf Ilias hochgeladen werden. Verspätete Abgaben werden nicht mehr gewertet.\n",
    "\n",
    "Die Punktzahl, die in diesem Übungsblatt maximal erreicht werden kann, beträgt 30 Punkte (+1 Bonuspunkt). \n",
    "\n",
    "Jeder Teilnehmer und jede Teilnehmerin muss eine eigene Lösung abgeben, d.h. es ist zwar zulässig, sich über die Aufgaben auszutauschen, der Code muss allerdings eigenständig geschrieben werden. Das Abschreiben von Code resultiert beim ersten Mal in einer Bewertung des aktuellen Übungsblatts mit null Punkten und bei einer Wiederholung im Nichtbestehen der Studienleistung. Auch die Erstellung von Lösungen durch ChatGPT o.Ä. ist nicht gestattet ;) \n",
    "\n",
    "Treten bei der Bearbeitung Unklarheiten auf, können diese im Ilias-Forum kommuniziert werden. Inhaltliche Hinweise / Lösungen dürfen natürlich nicht veröffentlicht werden.\n",
    "\n",
    "Bitte als Lösung den gesamten Ordner als zip-Datei mit folgender Bennenung hochladen: Nachname_Vorname_UB2.zip\n",
    "\n",
    "In den Aufgaben dürfen die vorgegebenen Funktionen (also die Anzahl der Parameter) nicht verändert werden!\n",
    "\n",
    "\n",
    "## Aufgabe 1 (3 Punkte)\n",
    "\n",
    "<img style=\"float: left;\" src=\"resources/img/laptop_icon.png\" width=50 height=50 /> <br><br>\n",
    "<i>Eine Funktion ist ein sehr wichtiges Konzept der Programmierung. Mit etwas Phantasie können auch Sachverhalte im Alltag als Funktionen bezeichnet werden. So kann der Besuch beim Bäcker als Funktion gesehen werden. Die „Parameter“ dieser Funktion wären die Bestellung (als Zeichenkette) und der erforderliche Geldbetrag. Als Rückgabewert erhält man die aufgegebene Bestellung z.B. zwei Brötchen, oder die Rückmeldung, dass das Geld nicht ausreicht oder die geforderte Backware nicht mehr erhältlich ist. Beschreibe drei weitere „Funktionen“ aus dem Alltag, in dem du die Situation in einem Satz skizzierst und die Parameter und Rückgabewerte beschreibst, falls diese vorhanden sind. Achte darauf, dass die Fälle sich unterscheiden (z.B. würde ein Besuch beim Metzger nicht zählen). (3 Punkte)</i>"
   ]
  },
  {
   "cell_type": "code",
   "execution_count": null,
   "metadata": {},
   "outputs": [],
   "source": [
    "# Beispiel 1\n",
    "# Bewerbung an einer Universität\n",
    "# @param: Antrag, Zeugnisse, sonstige Dokumente\n",
    "# @return: Zulassungs-, Ablehnungsbescheid"
   ]
  },
  {
   "cell_type": "code",
   "execution_count": null,
   "metadata": {},
   "outputs": [],
   "source": [
    "# Beispiel 2\n",
    "# Besuch der Mensa (Credits an @Patrick)\n",
    "# @param: Linie\n",
    "# @return: Essen der entsprechenden Linie; \n",
    "# alter Guthabenstand, sowie neuer nach erfolgter Abbuchung oder Ablehnung, \n",
    "# wenn zu niedrig; in Abhängigkeit des Guthabenstands die Nachfrage, ob ich es wieder aufladen möchte"
   ]
  },
  {
   "cell_type": "code",
   "execution_count": 1,
   "metadata": {},
   "outputs": [],
   "source": [
    "# Beispiel 3\n",
    "# Schifffahrtsschleuse (Credits an @Vincent) \n",
    "# @param kapazitaet: Kapazität/freie Plätze in der Schleuse\n",
    "# @param stellung: Schleusenstellung (Unterwasser, Oberwasser)\n",
    "# @return: Einfahrt für ein Schiff möglich oder nicht"
   ]
  },
  {
   "cell_type": "code",
   "execution_count": null,
   "metadata": {},
   "outputs": [],
   "source": [
    "# Beispiel 4\n",
    "# Situation: Zugfahrt buchen (Credits an @Susanne)\n",
    "# @param einstieg: Einstiegsbahnhof\n",
    "# @param ziel: Zielbahnhof\n",
    "# @param datum: Datum der Abreise\n",
    "# @return: Fahrtdauer und Fahrtpreis oder Rückmeldung (Zeichenkette), dass Zug ausgebucht ist"
   ]
  },
  {
   "cell_type": "markdown",
   "metadata": {},
   "source": [
    "## Aufgabe 2 (2 Punkte)\n",
    "\n",
    "<img style=\"float: left;\" src=\"resources/img/laptop_icon.png\" width=50 height=50 /> <br><br>\n",
    "<i>Implementiere eine Funktion, die einen Countdown in der Ausgabe ausgibt. (2 Punkte)</i>"
   ]
  },
  {
   "cell_type": "code",
   "execution_count": 4,
   "metadata": {},
   "outputs": [
    {
     "name": "stdout",
     "output_type": "stream",
     "text": [
      "3\n",
      "2\n",
      "1\n",
      "Fertig!\n"
     ]
    }
   ],
   "source": [
    "import time\n",
    "\n",
    "def countdown(n):\n",
    "    '''\n",
    "    Countdown\n",
    "    @param n: Zahl von der runtergezählt wird\n",
    "    '''\n",
    "    for i in range(n):\n",
    "        print(n-i)\n",
    "        time.sleep(1)\n",
    "    print(\"Fertig!\")\n",
    "    \n",
    "countdown(3)"
   ]
  },
  {
   "cell_type": "markdown",
   "metadata": {},
   "source": [
    "## Aufgabe 3 (3 Punkte)\n",
    "\n",
    "<img style=\"float: left;\" src=\"resources/img/laptop_icon.png\" width=50 height=50 /> <br><br>\n",
    "<i>Implementiere eine Funktion, die prüft, ob eine übergebene Zeichenkette ein Wortpalindrom ist. Ein Wortpalindrom ist ein Wort, das rückwärts gelesen dasselbe Wort ergibt. Dokumentiere die Funktion - kurze Beschreibung und Dokumentation der Parameter und des Rückgabewerts (falls vorhanden) - analog zu der zweiten Aufgabe. (3 Punkte)</i>"
   ]
  },
  {
   "cell_type": "code",
   "execution_count": 15,
   "metadata": {},
   "outputs": [
    {
     "data": {
      "text/plain": [
       "True"
      ]
     },
     "execution_count": 15,
     "metadata": {},
     "output_type": "execute_result"
    }
   ],
   "source": [
    "def palindrom(wort):\n",
    "    '''\n",
    "    Prüft, ob Wort ein Palindrom ist.\n",
    "    @param wort: Wort, das darauf geprüft werden soll, ob es ein Palindrom ist. \n",
    "    @return: True, wenn Palindrom, sonst False\n",
    "    '''\n",
    "    # Alle Buchstaben werden klein geschrieben.\n",
    "    wort = wort.lower()\n",
    "    for i in range(len(wort)):\n",
    "        if wort[i] != wort[-i-1]:\n",
    "            return False\n",
    "    return True\n",
    "\n",
    "palindrom(\"Lagerregal\")"
   ]
  },
  {
   "cell_type": "markdown",
   "metadata": {},
   "source": [
    "## Aufgabe 4 (2 Punkte)\n",
    "\n",
    "<img style=\"float: left;\" src=\"resources/img/laptop_icon.png\" width=50 height=50 /> <br><br>\n",
    "<i>Implementiere eine Funktion, die für ein Wort alle Präfixe als Liste zurückgibt (z.B. praefix('Ananas') -> ['A', 'An', 'Ana', 'Anan', 'Anana', 'Ananas']. (2 Punkte)</i>"
   ]
  },
  {
   "cell_type": "code",
   "execution_count": 16,
   "metadata": {},
   "outputs": [
    {
     "data": {
      "text/plain": [
       "['A', 'An', 'Ana', 'Anan', 'Anana', 'Ananas']"
      ]
     },
     "execution_count": 16,
     "metadata": {},
     "output_type": "execute_result"
    }
   ],
   "source": [
    "def praefixe(wort):\n",
    "    ergebnis = []\n",
    "    for i in range(1,len(wort)+1):\n",
    "        ergebnis.append(wort[:i])\n",
    "    return ergebnis\n",
    "\n",
    "praefixe(\"Ananas\")"
   ]
  },
  {
   "cell_type": "markdown",
   "metadata": {},
   "source": [
    "## Aufgabe 5 (3 Punkte)\n",
    "\n",
    "<img style=\"float: left;\" src=\"resources/img/laptop_icon.png\" width=50 height=50 /> <br><br>\n",
    "<i>Lege einen Ordner im selben Verzeichnis an, wie dieses Jupyter Notebook. Erstelle eine Python-Datei und kopiere in diese Datei die Lösung der Funktion 'primzahlen' aus der Sitzung am 15.5. Lege außerdem eine leere Datei mit dem Namen \\_\\_init\\_\\_.py in diesem Ordner an. Importiere anschließend die besagte Funktion in das folgende Codefeld. <b>Nutze</b> die importierte Funktion, um eine Funktion zu implementieren, die für eine Zahl alle Primteiler (Primteiler = Teiler einer Zahl, der eine Primzahl ist) als Liste zurückgibt, z.B. primteiler(10) -> [2,5], primteiler(21) -> [3,7], primteiler(30) -> [2,3,5].    (3 Punkte)</i>"
   ]
  },
  {
   "cell_type": "code",
   "execution_count": 49,
   "metadata": {},
   "outputs": [
    {
     "name": "stdout",
     "output_type": "stream",
     "text": [
      "[2, 3, 5]\n",
      "Der Rest von '8 geteilt durch 2' ist 0\n",
      "Der Rest von '8 geteilt durch 3' ist 2\n"
     ]
    }
   ],
   "source": [
    "def primteiler(n):\n",
    "    '''\n",
    "    Gibt alle Primteiler für die Zahl n als Liste zurück.\n",
    "    @param n: Zahl deren Primteiler bestimmt werden\n",
    "    @return: Alle Primteiler als Zahlenliste.\n",
    "    '''\n",
    "    from aufgabe5.primteiler import primzahlen\n",
    "    \n",
    "    ergebnis = []\n",
    "    for zahl in primzahlen(n):\n",
    "        if n % zahl == 0:\n",
    "            ergebnis.append(zahl)\n",
    "    return ergebnis\n",
    "\n",
    "print(primteiler(30))\n",
    "\n",
    "# Hinweis: Die Modulo-Operation '%' gibt den Rest der ganzzahligen Division an.\n",
    "print(\"Der Rest von '8 geteilt durch 2' ist\", 8 % 2) \n",
    "print(\"Der Rest von '8 geteilt durch 3' ist\", 8 % 3) "
   ]
  },
  {
   "cell_type": "markdown",
   "metadata": {},
   "source": [
    "## Aufgabe 6 (3 + 1 Punkte)\n",
    "\n",
    "<img style=\"float: left;\" src=\"resources/img/laptop_icon.png\" width=50 height=50 /> <br><br>\n",
    "<i>Implementiere eine Funktion, die für einen Zeichenkette die Anzahl der Vorkommen aller Buchstaben von A bis Z ausgibt. Du kannst dir sehr viel Arbeit sparen, wenn du folgende Bausteine benutzt. Einen Bonuspunkt gibt es für elegante Lösungen. (3 + 1 Punkte)</i>"
   ]
  },
  {
   "cell_type": "code",
   "execution_count": 22,
   "metadata": {},
   "outputs": [
    {
     "name": "stdout",
     "output_type": "stream",
     "text": [
      "65\n",
      "A\n"
     ]
    }
   ],
   "source": [
    "# Liste mit 26 Nullen erstellen\n",
    "nullen = 26 * [0]\n",
    "\n",
    "print(ord('A'))\n",
    "print(chr(65))"
   ]
  },
  {
   "cell_type": "code",
   "execution_count": 55,
   "metadata": {},
   "outputs": [
    {
     "name": "stdout",
     "output_type": "stream",
     "text": [
      "A: 1 B: 1 C: 0 D: 4 E: 11 F: 0 G: 1 H: 1 I: 3 J: 1 K: 1 L: 1 M: 0 N: 3 O: 1 P: 0 Q: 0 R: 6 S: 2 T: 3 U: 2 V: 1 W: 1 X: 0 Y: 0 Z: 0 "
     ]
    }
   ],
   "source": [
    "def buchstaben_haeufigkeit(zeichenkette):\n",
    "    '''\n",
    "    Gibt die Anzahl der Vorkommen aller Buchstaben von A bis Z \n",
    "    in der übergebenen Zeichenkette an.\n",
    "    @param zeichenkette: Zeichenkette\n",
    "    '''\n",
    "    anzahl = 26 * [0]\n",
    "    for zeichen in zeichenkette:\n",
    "        res = ord(zeichen) - 65\n",
    "        if 0 <= res < 26:\n",
    "            anzahl[res] += 1\n",
    "            \n",
    "        res = ord(zeichen) - 97\n",
    "        if 0 <= res < 26:\n",
    "            anzahl[res] += 1\n",
    "            \n",
    "    for i in range(26):\n",
    "        print(f\"{chr(i + 65)}: {anzahl[i]} \", end=\"\")\n",
    "        \n",
    "buchstaben_haeufigkeit(\"Jeder kehre vor der eigenen Tür und die Welt ist sauber.\")"
   ]
  },
  {
   "cell_type": "markdown",
   "metadata": {},
   "source": [
    "## Aufgabe 7 (2 Punkte)\n",
    "\n",
    "<img style=\"float: left;\" src=\"resources/img/laptop_icon.png\" width=50 height=50 /> <br><br>\n",
    "<i>Implementiere eine Funktion, die die Binärdarstellung einer Zahl als Zeichenkette in eine Dezimalzahl umwandelt (z.B. dezimal('101') -> 5). Es ist nicht erlaubt auf andere Funktionen zuzugreifen. (2 Punkte)</i>"
   ]
  },
  {
   "cell_type": "code",
   "execution_count": 35,
   "metadata": {},
   "outputs": [
    {
     "data": {
      "text/plain": [
       "5"
      ]
     },
     "execution_count": 35,
     "metadata": {},
     "output_type": "execute_result"
    }
   ],
   "source": [
    "def dezimal(binaer):\n",
    "    '''\n",
    "    Konvertiert die Zeichenkette 'binaer', die eine Binärzahl\n",
    "    repräsentiert, in eine Dezimalzahl.\n",
    "    @param binaer: Binärzahl als Zeichenkette\n",
    "    @return: Zeichenkette, die die Binärdarstellung der Zahl repräsentiert\n",
    "    '''\n",
    "    ergebnis = 0\n",
    "    for i in range(1, len(binaer)+1):\n",
    "        if binaer[-i] == '1':\n",
    "            ergebnis += 2 ** (i-1)\n",
    "            \n",
    "    return ergebnis\n",
    "\n",
    "dezimal('101')"
   ]
  },
  {
   "cell_type": "markdown",
   "metadata": {},
   "source": [
    "## Aufgabe 8 (2 Punkte)\n",
    "\n",
    "<img style=\"float: left;\" src=\"resources/img/laptop_icon.png\" width=50 height=50 /> <br><br>\n",
    "<i>Implementiere eine Funktion, die eine Dezimalzahl in deren Binärdarstellung als Zeichenkette umwandelt (z.B. dezimal(5) -> '101'). Es ist nicht erlaubt auf andere Funktionen zuzugreifen. (2 Punkte)</i>"
   ]
  },
  {
   "cell_type": "code",
   "execution_count": 53,
   "metadata": {},
   "outputs": [
    {
     "data": {
      "text/plain": [
       "'100001'"
      ]
     },
     "execution_count": 53,
     "metadata": {},
     "output_type": "execute_result"
    }
   ],
   "source": [
    "def binaer(dezimal):\n",
    "    '''\n",
    "    Konvertiert eine Dezimalzahl 'dezimal' in eine Binärzahl\n",
    "    als Zeichenkette.\n",
    "    @param dezimal: Dezimalzahl, die in eine Binärzahl umgewandelt werden soll\n",
    "    @return: Binärzahl als Zeichenkette  \n",
    "    '''\n",
    "    binaercode = \"\"\n",
    "    while dezimal != 0:\n",
    "        binaercode = str(dezimal % 2) + binaercode  \n",
    "        dezimal=int(dezimal/2)\n",
    "        \n",
    "    return binaercode\n",
    "\n",
    "binaer(33)"
   ]
  },
  {
   "cell_type": "markdown",
   "metadata": {},
   "source": [
    "## Aufgabe 9 (4 Punkte)\n",
    "\n",
    "<img style=\"float: left;\" src=\"resources/img/laptop_icon.png\" width=50 height=50 /> <br><br>\n",
    "<i>Implementiere eine Funktion, die die Darstellung einer Dezimalzahl zu einer beliebigen Basis $1 \\leq b \\leq 16$ berechnet. (4 Punkte)</i>"
   ]
  },
  {
   "cell_type": "code",
   "execution_count": 64,
   "metadata": {},
   "outputs": [
    {
     "data": {
      "text/plain": [
       "'A0'"
      ]
     },
     "execution_count": 64,
     "metadata": {},
     "output_type": "execute_result"
    }
   ],
   "source": [
    "def beliebige_basis(dezimal, b):\n",
    "    '''\n",
    "    Berechnet die Darstellung einer Dezimalzahl zu einer beliebigen\n",
    "    Basis b.\n",
    "    @param dezimal: Dezimalzahl\n",
    "    @param b: Basis\n",
    "    @return: Darstellung der Dezimalzahl zur Basis b als Zeichenkette.\n",
    "    '''\n",
    "    alphabet = ['0', '1', '2', '3', '4', '5', '6', '7', '8', '9', \n",
    "                'A', 'B', 'C', 'D', 'E', 'F']\n",
    "    \n",
    "    binaercode = \"\"\n",
    "    while dezimal != 0:\n",
    "        binaercode = str(alphabet[dezimal % b]) + binaercode  \n",
    "        dezimal=int(dezimal/b)\n",
    "        \n",
    "    return binaercode\n",
    "   \n",
    "beliebige_basis(160, 16)"
   ]
  },
  {
   "cell_type": "markdown",
   "metadata": {},
   "source": [
    "## Aufgabe 10 (3 Punkte)\n",
    "\n",
    "<img style=\"float: left;\" src=\"resources/img/laptop_icon.png\" width=50 height=50 /> <br><br>\n",
    "<i>Implementiere eine Funktion, die ein Schere-Stein-Papier-Match zwischen zwei „Computern“ austrägt. In jedem Zug treffen die Computer ihre Entscheidung zufällig. (3 Punkte)</i>"
   ]
  },
  {
   "cell_type": "code",
   "execution_count": 43,
   "metadata": {},
   "outputs": [
    {
     "name": "stdout",
     "output_type": "stream",
     "text": [
      "Siege Computer 1: 3, Siege Computer 2: 5, Unentschieden: 2\n"
     ]
    }
   ],
   "source": [
    "def schere_stein_papier(anzahl_runden):\n",
    "    '''\n",
    "    Trägt ein Schere-Stein-Papier-Match zwischen zwei Computern über\n",
    "    eine bestimmte Anzahl Runden aus und gibt das Ergebnis aus.\n",
    "    @param anzahl_runden: Anzahl Schere-Stein-Papier-Runden\n",
    "    '''\n",
    "    import random\n",
    "    sieg_computer1 = 0\n",
    "    sieg_computer2 = 0\n",
    "    unentschieden = 0\n",
    "    for runde in range(anzahl_runden):\n",
    "        # 1 = Schere, 2 = Stein, 3 = Papier\n",
    "        auswahl1 = random.randint(1,3)\n",
    "        auswahl2 = random.randint(1,3)\n",
    "        \n",
    "        if ((auswahl1 == 1 and auswahl2 == 3) or (auswahl1 == 2 and auswahl2 == 1) \n",
    "            or (auswahl1 == 3 and auswahl2 == 2)):\n",
    "                sieg_computer1 += 1\n",
    "                \n",
    "        elif ((auswahl1 == 3 and auswahl2 == 1) or (auswahl1 == 1 and auswahl2 == 2)\n",
    "             or (auswahl1 == 2 and auswahl2 == 3)):\n",
    "                sieg_computer2 += 1\n",
    "                \n",
    "        else:\n",
    "            unentschieden += 1\n",
    "            \n",
    "    print(f\"Siege Computer 1: {sieg_computer1}, Siege Computer 2: {sieg_computer2}, Unentschieden: {unentschieden}\")\n",
    "\n",
    "schere_stein_papier(10)"
   ]
  },
  {
   "cell_type": "markdown",
   "metadata": {},
   "source": [
    "## Aufgabe 11 (3 Punkte)\n",
    "\n",
    "<img style=\"float: left;\" src=\"resources/img/laptop_icon.png\" width=50 height=50 /> <br><br>\n",
    "<i>Schreibe eine Funktion, die einen Klammerausdruck überprüft. Ein Klammerausdruck besteht ausschließlich aus den Zeichen '(' und ')'. Ein solcher Ausdruck gilt als korrekt, wenn jede öffnende Klammer '(' eine entsprechende schließende Klammer ')' hat und keine schließende Klammer ')' vor der dazugehörigen öffnenden Klammer '(' auftritt. (3 Punkte)</i>"
   ]
  },
  {
   "cell_type": "code",
   "execution_count": 30,
   "metadata": {},
   "outputs": [
    {
     "name": "stdout",
     "output_type": "stream",
     "text": [
      "'((()))()' --> True\n",
      "'(()()())(' --> False\n"
     ]
    }
   ],
   "source": [
    "ausdruck_richtig = '((()))()'\n",
    "ausdruck_falsch = '(()()())('\n",
    "\n",
    "def klammerausdruck(klammern):\n",
    "    anzahl_offener_klammern = 0\n",
    "    for klammer in klammern:\n",
    "        if klammer == '(':\n",
    "            anzahl_offener_klammern += 1\n",
    "        elif klammer == ')':\n",
    "            anzahl_offener_klammern -= 1\n",
    "            \n",
    "        if anzahl_offener_klammern < 0:\n",
    "            return False\n",
    "        \n",
    "    if anzahl_offener_klammern > 0:\n",
    "        return False\n",
    "    \n",
    "    return True\n",
    "\n",
    "print(f\"'{ausdruck_richtig}' --> {klammerausdruck(ausdruck_richtig)}\")\n",
    "print(f\"'{ausdruck_falsch}' --> {klammerausdruck(ausdruck_falsch)}\")"
   ]
  }
 ],
 "metadata": {
  "kernelspec": {
   "display_name": "Python 3",
   "language": "python",
   "name": "python3"
  },
  "language_info": {
   "codemirror_mode": {
    "name": "ipython",
    "version": 3
   },
   "file_extension": ".py",
   "mimetype": "text/x-python",
   "name": "python",
   "nbconvert_exporter": "python",
   "pygments_lexer": "ipython3",
   "version": "3.6.12"
  }
 },
 "nbformat": 4,
 "nbformat_minor": 2
}
