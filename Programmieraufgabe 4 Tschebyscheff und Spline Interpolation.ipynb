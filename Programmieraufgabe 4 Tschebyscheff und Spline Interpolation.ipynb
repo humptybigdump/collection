{
 "cells": [
  {
   "cell_type": "markdown",
   "metadata": {},
   "source": [
    "# Notebook zu Tschebyscheff-Stützstellen und Spline-Interpolation"
   ]
  },
  {
   "cell_type": "markdown",
   "metadata": {},
   "source": [
    "**Abgabe in den Programmiertutorien am 9. und 10. Januar 2025. Falls Sie Unterstützung bei der Bearbeitung der Programmieraufgabe brauchen, wenden Sie sich frühzeitig an Ihren Tutor oder melden Sie sich im Forum.**"
   ]
  },
  {
   "cell_type": "markdown",
   "metadata": {},
   "source": [
    "Benötigte Module für dieses Notebook:"
   ]
  },
  {
   "cell_type": "code",
   "execution_count": null,
   "metadata": {},
   "outputs": [],
   "source": [
    "import numpy as np\n",
    "import matplotlib.pyplot as plt"
   ]
  },
  {
   "cell_type": "markdown",
   "metadata": {},
   "source": [
    "# 1. Tschebyscheff-Interpolation"
   ]
  },
  {
   "cell_type": "markdown",
   "metadata": {},
   "source": [
    "Zu $n\\in\\mathbb{N}$ sind die skalierten Tschebyscheff-Stützstellen $x_0,\\ldots,x_n$ im Intervall $[a,b]$ nach der Vorlesung gegeben durch\n",
    "$$ x_k = \\frac{a+b}{2}+\\frac{b-a}{2}\\cos\\left(\\frac{(2k+1)\\pi}{2n+2}\\right), \\qquad k=0,\\dots,n. $$\n",
    "\n",
    "**(a) Schreiben Sie eine Prozedur `tscheb_knots(a,b,n)`, die zu gegebenem `a, b, n` die skalierten Tschebyscheff-Stützstellen als Vektor zurückgibt.**"
   ]
  },
  {
   "cell_type": "code",
   "execution_count": null,
   "metadata": {},
   "outputs": [],
   "source": []
  },
  {
   "cell_type": "markdown",
   "metadata": {},
   "source": [
    "Zur Überprüfung: Die drei Tschebyscheff-Stützstellen im Intervall $[0,3]$ sind gegeben durch $x_0 \\approx 0.20096189, \\ x_1 = 1.5, \\ x_2 \\approx 2.79903811$."
   ]
  },
  {
   "cell_type": "code",
   "execution_count": null,
   "metadata": {},
   "outputs": [],
   "source": []
  },
  {
   "cell_type": "markdown",
   "metadata": {},
   "source": [
    "**Zusatz: Wenn Ihre Prozedur `tscheb_knots` funktioniert, demonstriert Ihnen das folgende Programm, wie die Tschebyscheff-Stützstellen in einem Intervall $[a,b]$ für verschiedene Werte von $n$ verteilt sind.**"
   ]
  },
  {
   "cell_type": "code",
   "execution_count": null,
   "metadata": {},
   "outputs": [],
   "source": [
    "N = 16\n",
    "a = -10\n",
    "b = 10\n",
    "for n in range(1,N+1):     \n",
    "    knots = tscheb_knots(a,b,n-1)\n",
    "    plt.plot(knots, n*np.ones(n), \"o\", markersize=5)\n",
    "\n",
    "plt.xlabel('Lage der Stützstellen im Intervall [a,b]')\n",
    "plt.ylabel('Anzahl Stützstellen')\n",
    "plt.show()"
   ]
  },
  {
   "cell_type": "markdown",
   "metadata": {},
   "source": [
    "**(b) Benutzen Sie die Prozedur `plot_IP` aus der Programmieraufgabe 3 (dafür benötigen Sie zusätzlich die Prozeduren `div_diff` und `horner_newton` aus dem entsprechenden Notebook), um das Interpolationspolynom unter Verwendung von Tschebyscheff-Stützstellen zu visualisieren. Benutzen Sie hierfür wieder die Funktion $f:[-1,1] \\to \\mathbb{R}, x\\mapsto \\frac{1}{1+(5x)^2}$ und testen Sie die Stützstellenzahlen $10, 20$ und $40$. Vergleichen Sie das Ergebnis mit dem IP unter Verwendung von der selben Anzahl an äquidistanten Stützstellen. Was beobachten Sie und wie können Sie das Verhalten begründen?**"
   ]
  },
  {
   "cell_type": "markdown",
   "metadata": {},
   "source": [
    "_Hinweis:_ Ein Lösungsvorschlag zur Programmieraufgabe 3 steht ab Freitag, dem 13.12.24, im Ilias zur Verfügung."
   ]
  },
  {
   "cell_type": "code",
   "execution_count": null,
   "metadata": {},
   "outputs": [],
   "source": []
  },
  {
   "cell_type": "code",
   "execution_count": null,
   "metadata": {},
   "outputs": [],
   "source": []
  },
  {
   "cell_type": "markdown",
   "metadata": {},
   "source": [
    "# 2. Spline-Interpolation"
   ]
  },
  {
   "cell_type": "markdown",
   "metadata": {},
   "source": [
    "In dieser Aufgabe implementieren wir den eingespannten, kubischen interpolierenden Spline. Dabei nehmen wir an, dass die Stützstellen $x_0,\\ldots,x_n$ äquidistant sind, also $x_i-x_{i-1}=\\frac{b-a}n =:h$ für $i=1,\\ldots,n$ gilt. \n",
    "\n",
    "Zunächst bestimmen wir die noch unbekannte Ableitungswerte $v_i = s_i'(x_{i})$ durch Lösung des LGS aus Beispiel 2.28.\n",
    "\n",
    "**(a) Programmieren Sie eine Prozedur `derivative_val`, welches zu gegebenen Intervallgrenzen $a,b\\in\\mathbb{R}$ mit $a<b$, Funktionswerten $y_i = s(x_i), i=0,\\ldots,n$ und Randableitungen $v_0=s'(a)$, $v_n = s'(b)$ das Lineare Gleichungssystem in Beispiel 2.28 durch Elimination löst und den Vektor $v=(v_0,\\ldots,v_n)$ aller Ableitungswerte ausgibt.**"
   ]
  },
  {
   "cell_type": "code",
   "execution_count": null,
   "metadata": {},
   "outputs": [],
   "source": []
  },
  {
   "cell_type": "markdown",
   "metadata": {},
   "source": [
    "**(b) Überprüfe Sie das Ergebnis aus ihrer Prozedur `derivative_val`, indem Sie überprüfen, ob der Ergebnisvektor `v` tatsächlich eine Lösung des Gleichungssystems $hA (v_1,\\ldots,v_{n-1})^T = hb$ ist. Stellen Sie dazu die Matrix $hA$ und den Vektor $hb$ auf und überprüfen Sie, ob das Produkt $hA (v_1,\\ldots,v_{n-1})^T$ tatsächlich dem Vektor $hb$ entspricht. Beachten Sie, dass der Ergebnisvektor `v` der Prozedur `derivative_val` zusätzlich die Einträge $v_0$ und $v_n$ enthält. Verwenden Sie die unten angebenenen (willkürlichen) Daten für $a,b,n,y,v_0$ und $v_n$.**\n",
    "\n",
    "_Hinweis:_ Um die Matrix $hA$ aufzustellen kann der Befehl `np.diag` hilfreich sein, um die Nebendiagonalen geschickt zu erzeugen."
   ]
  },
  {
   "cell_type": "code",
   "execution_count": null,
   "metadata": {},
   "outputs": [],
   "source": [
    "a = 0; b = 5\n",
    "n = 10\n",
    "y = np.arange(0,n+1)**2\n",
    "v_0 = 1\n",
    "v_n = 2\n",
    "\n"
   ]
  },
  {
   "cell_type": "markdown",
   "metadata": {},
   "source": [
    "**(c) Implementieren Sie eine Prozedur `s_i(x0,x1,y0,y1,v0,v1,x)`, die das kubische Teilpolynom zu Stützstellen $x_0$ und $x_1$, Funktionswerten $y_0$ und $y_1$ sowie Ableitungswerten $v_0$ und $v_1$ an einer Stelle $x$ auswertet. Verwenden sie dazu die Darstellung aus dem Abschnitt \"Konstruktion von kubischen interpolierenden Splines\" des Skripts, welche Sie mit der Prozedur `horner_newton` aus Programmieraufgabe 3 einfach auswerten können.** "
   ]
  },
  {
   "cell_type": "markdown",
   "metadata": {},
   "source": [
    "_Hinweis:_ Das kubische Polynom $p$ zu den Daten $p(0) = 1, \\ p(1) =2, \\ p'(0)=3, \\ p'(1) = 4$ ist gegeben durch $p(x) = 5x^3 - 7x^2 + 3x + 1$ und es gilt $p(0.5) = 1.375$. Überprüfen Sie, ob Ihre Prozedur das selbe Ergebnis liefert."
   ]
  },
  {
   "cell_type": "code",
   "execution_count": null,
   "metadata": {},
   "outputs": [],
   "source": []
  },
  {
   "cell_type": "code",
   "execution_count": null,
   "metadata": {},
   "outputs": [],
   "source": []
  },
  {
   "cell_type": "markdown",
   "metadata": {},
   "source": [
    "**(d) Schreiben Sie eine Prozedur `plot_spline`, die zu einer gegebenen Funktion $f$, einem Intervall $[a,b]$, einer Stützstellenzahl $n_{knots}$ sowie Randableitungen $v_a$ und $v_b$ den eingespannten, kubischen interpolierenden Spline zu äquidistanten Stützstellen und mit den exkaten Funktionswerten $y_i = f(x_i)$ plottet. Berechnen Sie dazu zunächst alle Ableitungswerte $v_i$ mit der Prozedur `derivative_val` aus Teil (a) und plotten Sie anschließend ein Teilpolynom $s_i$ nach dem anderen mithilfe der Prozedur `s_i` aus Teil (c). Ergänzen Sie auch ein Bild der Funktion $f$ selbst.**\n",
    "\n",
    "**Wenden Sie Ihre Prozedur dann auf die Funktion $f:[-1,1] \\to \\mathbb{R}, x\\mapsto \\frac{1}{1+(5x)^2}$ aus Aufgabe 1 (b) an. Verwenden Sie zunächst 7 Stützstellen und die exakten Ableitungswerte $f'(-1) = \\frac{25}{338}$ und $f'(1) = -\\frac{25}{338}$. Erhöhen Sie dann die Anzahl an Stützstellen auf \n",
    "$9$, $11$ und $21$. Was beobachten Sie? Vergleichen Sie auch die Qualität des Splines mit dem Tschebyscheff-Interpolationspolynom mit den selben Stützstellenzahlen.**"
   ]
  },
  {
   "cell_type": "code",
   "execution_count": null,
   "metadata": {},
   "outputs": [],
   "source": []
  },
  {
   "cell_type": "code",
   "execution_count": null,
   "metadata": {},
   "outputs": [],
   "source": []
  },
  {
   "cell_type": "markdown",
   "metadata": {},
   "source": [
    "**(e) Was passiert, wenn Sie die Randableitungen in Teil (d) durch die _falschen_ Werte $v_a = 2$ und $v_b=2$ ersetzen?**"
   ]
  }
 ],
 "metadata": {
  "kernelspec": {
   "display_name": "Python 3 (ipykernel)",
   "language": "python",
   "name": "python3"
  },
  "language_info": {
   "codemirror_mode": {
    "name": "ipython",
    "version": 3
   },
   "file_extension": ".py",
   "mimetype": "text/x-python",
   "name": "python",
   "nbconvert_exporter": "python",
   "pygments_lexer": "ipython3",
   "version": "3.12.7"
  }
 },
 "nbformat": 4,
 "nbformat_minor": 4
}
