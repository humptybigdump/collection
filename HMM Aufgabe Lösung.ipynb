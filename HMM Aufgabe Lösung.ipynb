{
 "cells": [
  {
   "cell_type": "markdown",
   "metadata": {},
   "source": [
    "# Aufgabe 4: POS Tagging und Language Modelling mit HMMs\n",
    "\n",
    "In dieser Aufgabe werden wir HMMs benutzen, um Wörter aus einem Text mit ihren *part of speech tags* (POS-tags) zu versehen. Auf Deutsch heißt part of speech Wortart. Wir weisen also jedem Wort seine Wortart (Substantiv, Adjektiv, Verb etc.) zu.\n",
    "\n",
    "Das erscheint erstmal einfach, aber gerade auf Englisch ist es das nicht: Das Wort \"house\" kann ein Gebäude sein, also ein Substantiv (POS-Tag \"NN\") oder \"Wohnraum breitstellen\", also ein Verb (POS-Tag \"VB\"). Es gibt also Ambiguitäten und wir hoffen, diese mit HMMs auflösen zu können.\n",
    "\n",
    "POS Tagging ist eine grundlegende Aufgabe in der Sprachverarbeitung und ist oft ein erster Schritt vor weiteren Verarbeitungsschritten.\n",
    "\n",
    "Wie immer laden wir zuerst Daten:"
   ]
  },
  {
   "cell_type": "code",
   "execution_count": 1,
   "metadata": {},
   "outputs": [
    {
     "name": "stdout",
     "output_type": "stream",
     "text": [
      "21928 Sätze geladen\n"
     ]
    }
   ],
   "source": [
    "with open(\"data.txt\", encoding=\"utf-8\") as corpus_file:\n",
    "    raw_data = [line.lower().strip().split() for line in corpus_file]\n",
    "full_corpus = raw_data[::2]\n",
    "full_tagged_corpus = raw_data[1::2]\n",
    "del raw_data\n",
    "\n",
    "assert len(full_corpus) == len(full_tagged_corpus)\n",
    "\n",
    "print(f\"{len(full_corpus)} Sätze geladen\")"
   ]
  },
  {
   "cell_type": "markdown",
   "metadata": {},
   "source": [
    "Wir trennen einen zufälligen Teil der Daten zum Testen ab. In einer echten Anwendung würden wir die Trennung und das Training N mal mit unterschiedlichen Seeds wiederholen, um auszuschließen, dass wir einen besonders einfachen Split bekommen haben. Wir nennen das [n-fold cross-validation](https://en.wikipedia.org/wiki/Cross-validation_(statistics)). Hier verzichten wir darauf."
   ]
  },
  {
   "cell_type": "code",
   "execution_count": 2,
   "metadata": {},
   "outputs": [],
   "source": [
    "import random\n",
    "random.seed(1232)\n",
    "shuffled_indices = random.sample(range(len(full_corpus)), len(full_corpus))\n",
    "corpus = [full_corpus[i] for i in shuffled_indices]\n",
    "tagged_corpus = [full_tagged_corpus[i] for i in shuffled_indices]\n",
    "\n",
    "test_corpus, corpus = corpus[:2000], corpus[2000:]\n",
    "test_tagged_corpus, tagged_corpus = tagged_corpus[:2000], tagged_corpus[2000:]"
   ]
  },
  {
   "cell_type": "markdown",
   "metadata": {},
   "source": [
    "Hier ein Beispiel aus den Daten. Es handelt sich um den Penn-Treebank Corpus, ein oft verwendetes Benchmark für POS Tagging. Er besteht aus Texten aus der Financial Times. Eine Liste der Tags und ihre Bedeutung finden Sie [hier](https://www.ling.upenn.edu/courses/Fall_2003/ling001/penn_treebank_pos.html) (bei uns gibt es noch ein paar mehr weil alle Satzzeichen ihre eigene Klasse haben)"
   ]
  },
  {
   "cell_type": "code",
   "execution_count": 3,
   "metadata": {},
   "outputs": [
    {
     "name": "stdout",
     "output_type": "stream",
     "text": [
      "['discount', 'rate', ':', '7', '%', '.', 'the', 'charge', 'on', 'loans', 'to', 'depository', 'institutions', 'by', 'the', 'new', 'york', 'federal', 'reserve', 'bank', '.']\n",
      "[('discount', 'nn'), ('rate', 'nn'), (':', ':'), ('7', 'cd'), ('%', 'nn'), ('.', '.'), ('the', 'dt'), ('charge', 'nn'), ('on', 'in'), ('loans', 'nns'), ('to', 'to'), ('depository', 'nn'), ('institutions', 'nns'), ('by', 'in'), ('the', 'dt'), ('new', 'nnp'), ('york', 'nnp'), ('federal', 'nnp'), ('reserve', 'nnp'), ('bank', 'nnp'), ('.', '.')]\n"
     ]
    }
   ],
   "source": [
    "print(corpus[0])\n",
    "print(list(zip(corpus[0], tagged_corpus[0])))"
   ]
  },
  {
   "cell_type": "markdown",
   "metadata": {},
   "source": [
    "Wenn wir mit Textdaten arbeiten, ist es üblich, die Wörter in Indizes umzuwandeln, um nicht überall strings verwenden zu müssen. Dafür müssen wir erstmal feststellen, welche Wörter im Text vorkommen:"
   ]
  },
  {
   "cell_type": "code",
   "execution_count": 4,
   "metadata": {},
   "outputs": [
    {
     "name": "stdout",
     "output_type": "stream",
     "text": [
      "Im Text kommen 41464 unterschiedliche Wörter und 45 unterschiedliche tags vor.\n",
      "Die 10 häufigsten Wörter sind:\n",
      "[(',', 53567), ('the', 53148), ('.', 42888), ('of', 25225), ('to', 24567), ('a', 22034), ('in', 18669), ('and', 18116), (\"'s\", 10269), ('that', 9383)]\n"
     ]
    }
   ],
   "source": [
    "from collections import Counter\n",
    "\n",
    "vocabulary = Counter()\n",
    "for sentence in corpus:\n",
    "    vocabulary.update(sentence)\n",
    "\n",
    "tag_vocabulary = Counter()\n",
    "for sentence in tagged_corpus:\n",
    "    tag_vocabulary.update(sentence)\n",
    "\n",
    "print(f\"Im Text kommen {len(vocabulary)} unterschiedliche Wörter und {len(tag_vocabulary)} unterschiedliche tags vor.\")\n",
    "print(\"Die 10 häufigsten Wörter sind:\")\n",
    "print(vocabulary.most_common(10))"
   ]
  },
  {
   "cell_type": "code",
   "execution_count": 6,
   "metadata": {},
   "outputs": [
    {
     "data": {
      "image/png": "[encoded data removed]",
      "text/plain": [
       "<Figure size 432x288 with 1 Axes>"
      ]
     },
     "metadata": {
      "needs_background": "light"
     },
     "output_type": "display_data"
    }
   ],
   "source": [
    "import matplotlib.pyplot as plt\n",
    "import numpy as np\n",
    "counts = np.array([count for _, count in vocabulary.most_common()])\n",
    "\n",
    "plt.figure()\n",
    "plt.yscale(\"log\")\n",
    "plt.plot(counts)\n",
    "plt.show()"
   ]
  },
  {
   "cell_type": "markdown",
   "metadata": {},
   "source": [
    "Für diese Aufgabe behandeln wir Satzzeichen auch als Wörter. Wir beobachten hier ein Problem, dass sehr typisch für die Sprachverarbeitung ist: Viele der Wörter sind sehr selten. Diese Wörter treiben unseren Speicherverbrauch in die Höhe und weil sie nur ein- oder zweimal vorkommen, können wir auch nichts sinnvolles über sie lernen. Wir verlieren also wenig, wenn wir diese Wörter alle zusammen unter \"unknown\" zusammenfassen:"
   ]
  },
  {
   "cell_type": "code",
   "execution_count": 7,
   "metadata": {},
   "outputs": [
    {
     "name": "stdout",
     "output_type": "stream",
     "text": [
      "18635 Wörter kommen nur einmal vor\n",
      "10808 unterschiedliche Wörter decken 95% des Corpus ab\n"
     ]
    }
   ],
   "source": [
    "cumulative = np.cumsum(counts)\n",
    "cumulative = cumulative / cumulative[-1]\n",
    "percentile_index = np.searchsorted(cumulative, 0.95)\n",
    "print(f\"{len(np.where(counts == 1)[0])} Wörter kommen nur einmal vor\")\n",
    "print(f\"{percentile_index+1} unterschiedliche Wörter decken 95% des Corpus ab\")"
   ]
  },
  {
   "cell_type": "markdown",
   "metadata": {},
   "source": [
    "Wir fügen dem Vokabular noch zwei Sonderzeichen hinzu: Das schon erwähnte unknown word und ein Sonderzeichen für das Satzende."
   ]
  },
  {
   "cell_type": "code",
   "execution_count": 8,
   "metadata": {},
   "outputs": [],
   "source": [
    "vocabulary = [\"</s>\", \"<unk>\"] + [word for word, count in vocabulary.most_common(percentile_index+1)]\n",
    "tag_vocabulary = [\"EOS\"] + [tag for tag, count in tag_vocabulary.most_common()]"
   ]
  },
  {
   "cell_type": "code",
   "execution_count": 9,
   "metadata": {},
   "outputs": [],
   "source": [
    "vocabulary_lookup = {word: i for i, word in enumerate(vocabulary)}\n",
    "tags_lookup = {tag: i for i, tag in enumerate(tag_vocabulary)}"
   ]
  },
  {
   "cell_type": "markdown",
   "metadata": {},
   "source": [
    "Jetzt schätzen wir die Wahrscheinlichkeiten aus den Daten. Dazu zählen wir\n",
    "* `start_counts` Wie häufig eine Sequenz mit einem gegebenen Tag anfängt\n",
    "* `bigram_counts` Wie häufig ein Tag auf ein anderes Tag folgt\n",
    "* `label_counts` Wie häufig ein Wort ein bestimmtes Tag hat\n",
    "\n",
    "Für später sammeln wir außerdem\n",
    "* `word_start_counts` Wie häufig ein Satz mit einem gegeben Wort anfängt\n",
    "* `word_bigram_counts` Wie häufig ein Wort auf ein anderes folgt"
   ]
  },
  {
   "cell_type": "code",
   "execution_count": 10,
   "metadata": {},
   "outputs": [],
   "source": [
    "word_start_counts = np.zeros((len(vocabulary),), dtype=int)\n",
    "word_bigram_counts = np.zeros((len(vocabulary), len(vocabulary)), dtype=int)\n",
    "tag_start_counts = np.zeros((len(tag_vocabulary),), dtype=int)\n",
    "tag_bigram_counts = np.zeros((len(tag_vocabulary), len(tag_vocabulary)), dtype=int)\n",
    "label_counts = np.zeros((len(vocabulary), len(tag_vocabulary)), dtype=int)\n",
    "\n",
    "for sentence, tagged in zip(corpus, tagged_corpus):\n",
    "    words = [vocabulary_lookup.get(word, 1) for word in sentence] + [0]\n",
    "    tags = [tags_lookup[tag] for tag in tagged] + [0]\n",
    "    \n",
    "    if len(words) == 0:\n",
    "        continue\n",
    "\n",
    "    word_start_counts[words[0]] += 1\n",
    "    tag_start_counts[tags[0]] += 1\n",
    "    \n",
    "    word_pairs = zip(words[:-1], words[1:])\n",
    "    for first, second in word_pairs:\n",
    "        word_bigram_counts[first, second] += 1\n",
    "\n",
    "    tag_pairs = zip(tags[:-1], tags[1:])\n",
    "    for first, second in tag_pairs:\n",
    "        tag_bigram_counts[first, second] += 1    \n",
    "    \n",
    "    for word, tag in zip(words, tags):\n",
    "        label_counts[word, tag] += 1\n"
   ]
  },
  {
   "cell_type": "markdown",
   "metadata": {},
   "source": [
    "Jetzt schätzen wir Wahrscheinlichkeiten aus den Zählungen. Dabei sehen wir ein zweites häufiges Problem der Sprachverarbeitung: Data sparsity. Obwohl manche Bigramme in der Realität vorkommen könnten, waren sie nicht in den Daten und ihre Wahrscheinlichkeit würde auf 0 geschätzt. Das wird unseren Modellen schaden, deshalb verwenden wir eine smoothing Technik: Wir addieren 1 zu jedem Zähler, als ob jedes Bigramm einmal im Text gesehen worden wäre."
   ]
  },
  {
   "cell_type": "code",
   "execution_count": 23,
   "metadata": {},
   "outputs": [],
   "source": [
    "word_start_counts[1:] += 1\n",
    "word_bigram_counts[1:] += 1\n",
    "tag_start_counts[1:] += 1\n",
    "tag_bigram_counts[1:] += 1\n",
    "label_counts[1:,1:] += 1\n",
    "\n",
    "word_unigram_counts = label_counts.sum(1)\n",
    "tag_unigram_counts = label_counts.sum(0)\n",
    "\n",
    "word_start_probs = word_start_counts / word_start_counts.sum()\n",
    "word_bigram_probs = word_bigram_counts / word_unigram_counts[:, np.newaxis]\n",
    "word_label_probs = label_counts / word_unigram_counts[:, np.newaxis]\n",
    "\n",
    "tag_start_probs = tag_start_counts / tag_start_counts.sum()\n",
    "tag_bigram_probs = tag_bigram_counts / tag_unigram_counts[:, np.newaxis]\n",
    "tag_label_probs = label_counts / tag_unigram_counts"
   ]
  },
  {
   "cell_type": "code",
   "execution_count": 12,
   "metadata": {},
   "outputs": [],
   "source": [
    "class POSTagger:\n",
    "    # Abstract base class\n",
    "    def classify(self, sentence):\n",
    "        # sentence: 1D np.array von Wortindizes\n",
    "        # return: Gleich langes 1D array mit Tagindizes\n",
    "        raise NotImplementedError\n",
    "        \n",
    "def evaluate(tagger):\n",
    "    total, correct = 0, 0\n",
    "\n",
    "    for sentence, tagged in zip(test_corpus, test_tagged_corpus):\n",
    "        words = np.array([vocabulary_lookup.get(word, 1) for word in sentence] + [0])\n",
    "        labels = np.array([tags_lookup[tag] for tag in tagged])\n",
    "\n",
    "        prediction = tagger.classify(words)\n",
    "\n",
    "        total += len(labels)\n",
    "        correct += np.sum(prediction[:-1] == labels)\n",
    "\n",
    "    print(f\"Accuracy: {correct / total:.1%}\")"
   ]
  },
  {
   "cell_type": "markdown",
   "metadata": {},
   "source": [
    "Wir wollen zuerst eine einfache Methode testen (wir nennen das eine Baseline): Wir weisen einfach jedem Wort das am häufigsten gesehene Tag zu."
   ]
  },
  {
   "cell_type": "code",
   "execution_count": 13,
   "metadata": {},
   "outputs": [
    {
     "name": "stdout",
     "output_type": "stream",
     "text": [
      "Accuracy: 88.6%\n"
     ]
    }
   ],
   "source": [
    "class SimpleTagger(POSTagger):\n",
    "    def __init__(self, assignment_probs):\n",
    "        self.assignments = assignment_probs.argmax(1)\n",
    "    \n",
    "    def classify(self, sentence):\n",
    "        sequence = self.assignments[sentence]\n",
    "        return sequence\n",
    "\n",
    "evaluate(SimpleTagger(word_label_probs))"
   ]
  },
  {
   "cell_type": "markdown",
   "metadata": {},
   "source": [
    "Die Baseline ist schon relativ stark. Hoffentlich kann das HMM noch etwas besser sein. Wir modellieren das Problem wie folgt:\n",
    "\n",
    "Die Wörter sind die Ausgaben des HMM, die wir beobachten können. Die POS tags sind die versteckten Zustände. Wir benutzen den *Viterbi-Algorithmus*, um die wahrscheinlichste Zustandsfolge (Tag-Folge) für eine Beobachtung (Wortfolge) zu bestimmen.\n",
    "\n",
    "Wir werden den EOS Zustand (Zustand 0) als den Start- und Endzustand benutzen. Dafür kopieren wir die Verteilung der Start-Tags als die Übergangswahrscheinlichkeiten dieses Startzustands."
   ]
  },
  {
   "cell_type": "code",
   "execution_count": 14,
   "metadata": {},
   "outputs": [],
   "source": [
    "transition_probs = np.copy(tag_bigram_probs)\n",
    "transition_probs[0] = tag_start_probs\n",
    "\n",
    "emission_probs = tag_label_probs"
   ]
  },
  {
   "cell_type": "markdown",
   "metadata": {},
   "source": [
    "Um den Algorithmus in der Praxis verwenden zu können, müssen wir aber eine Beobachtung machen: $v_t$ ist eine Multiplikation von Wahrschinlichkeiten und wird schon nach ca. 20 Schritten kleiner werden als die Präzision eines `double`. Deswegen benutzen wir *log-Wahrscheinlichkeiten*, wir berechnen also $\\log v_t$ statt $v_t$. Machen Sie sich klar, wie sich dabei die Formeln verändern.\n",
    "\n",
    "### Aufgabe a) (20 Punkte)\n",
    "Implementieren Sie den Viterbi Algorithmus. Wichtig: Verwenden Sie dabei die Log-Wahrschinlichkeiten!"
   ]
  },
  {
   "cell_type": "code",
   "execution_count": 16,
   "metadata": {},
   "outputs": [],
   "source": [
    "class HMM(POSTagger):\n",
    "    def __init__(self, transition, emission):\n",
    "        self.transition = transition\n",
    "        self.emission = emission\n",
    "        self.num_emissions, self.num_states = emission.shape\n",
    "        assert self.transition.shape == (self.num_states, self.num_states)\n",
    "        assert self.emission.shape == (self.num_emissions, self.num_states)\n",
    "        self.log_transition = np.log2(transition)\n",
    "        self.log_emission = np.log2(emission)\n",
    "\n",
    "    def classify(self, observation):\n",
    "        length = len(observation)\n",
    "        psi = np.zeros((length, self.num_states), dtype=np.int)\n",
    "        delta = np.full((self.num_states,), float(\"-inf\"))\n",
    "        delta[0] = 0\n",
    "        \n",
    "        for t in range(length):\n",
    "            inner = delta[:, np.newaxis] + self.log_transition\n",
    "            delta = np.max(inner, 0) + self.log_emission[observation[t]]\n",
    "            psi[t] = np.argmax(inner, 0)\n",
    "        \n",
    "        best_path = np.empty((length,), dtype=np.int)\n",
    "        best_path[length-1] = np.argmax(delta)\n",
    "        for t in reversed(range(1, length)):\n",
    "            best_path[t-1] = psi[t, best_path[t]]\n",
    "        return best_path\n",
    "    \n",
    "    def score(self, observation):\n",
    "        length = len(observation)\n",
    "        alpha = np.zeros((self.num_states,))\n",
    "        alpha[0] = 1\n",
    "        c = np.zeros((length,))\n",
    "        for t in range(length):\n",
    "            alpha = np.dot(alpha, self.transition) * self.emission[observation[t]]\n",
    "            c[t] = alpha.sum()\n",
    "            alpha /= c[t]\n",
    "        return np.log2(c).sum() + np.log2(alpha[0])\n",
    "    \n",
    "    def _score(self, observation):\n",
    "        length = len(observation)\n",
    "        alpha = np.zeros((self.num_states,))\n",
    "        alpha[0] = 1\n",
    "        for t in range(length):\n",
    "            alpha = np.dot(alpha, self.transition) * self.emission[observation[t]]\n",
    "        return np.log2(alpha.sum())"
   ]
  },
  {
   "cell_type": "code",
   "execution_count": 17,
   "metadata": {},
   "outputs": [],
   "source": [
    "# Wir haben Nullwahrscheinlichkeiten, die beim Logarithmus Warnungen produzieren\n",
    "import warnings\n",
    "warnings.filterwarnings(\"ignore\", \"divide by zero\") \n",
    "\n",
    "hmm = HMM(transition_probs,\n",
    "          emission_probs)"
   ]
  },
  {
   "cell_type": "markdown",
   "metadata": {},
   "source": [
    "Sie können Ihre Implementierung an diesem Beispiel testen:"
   ]
  },
  {
   "cell_type": "code",
   "execution_count": 18,
   "metadata": {},
   "outputs": [],
   "source": [
    "words = np.array([vocabulary_lookup.get(word, 1) for word in corpus[1000]] + [0])\n",
    "\n",
    "np.testing.assert_equal(hmm.classify(words),\n",
    "                           np.array([ 3,  3,  7,  9,  6,  5,  7, 11,  5,  1,  2,  4,  1,  2,  6, 13,  5,\n",
    "                                      6,  2,  9, 14,  9,  8, 17, 20, 12,  2,  4,  1,  8,  0]))\n",
    "# Log-Wahrscheinlichkeit des Viterbi-Pfads ist -246.277"
   ]
  },
  {
   "cell_type": "code",
   "execution_count": 19,
   "metadata": {},
   "outputs": [
    {
     "name": "stdout",
     "output_type": "stream",
     "text": [
      "Accuracy: 91.7%\n"
     ]
    }
   ],
   "source": [
    "evaluate(hmm)"
   ]
  },
  {
   "cell_type": "markdown",
   "metadata": {},
   "source": [
    "Wenn Ihre Implementierung stimmt, sollte das HMM eine höhere Accuracy als die Baseline erreicht haben.\n",
    "\n",
    "### Language Modeling\n",
    "\n",
    "Ein Sprachmodell bestimmt $P(w)$, also die Wahrscheinlichkeit, dass eine bestimmte Wortfolge auftritt. Wir können tatsächlich das gleiche HMM für die Sprachmodellierung einsetzen. Zuerst definieren wir wieder eine abstrakte Klasse und die Evaluation:"
   ]
  },
  {
   "cell_type": "code",
   "execution_count": 20,
   "metadata": {},
   "outputs": [],
   "source": [
    "class LanguageModel:\n",
    "    def score(self, sentence):\n",
    "        # sentence: 1D np.array von Wortindizes\n",
    "        # return: Skalar. log-Wahrscheinlichkeit dieses Satzes\n",
    "        raise NotImplementedError\n",
    "\n",
    "def evaluate_lm(lm):\n",
    "    entropy, total = 0, 0\n",
    "    \n",
    "    for sentence in test_corpus:\n",
    "        words = np.array([vocabulary_lookup.get(word, 1) for word in sentence] + [0])\n",
    "\n",
    "        lprob = lm.score(words)\n",
    "        if lprob == float(\"-inf\"):\n",
    "            print(words)\n",
    "\n",
    "        total += len(words)\n",
    "        entropy -= lprob\n",
    "\n",
    "    print(f\"Perplexity: {2 ** (entropy / total):.1f}\")"
   ]
  },
  {
   "cell_type": "markdown",
   "metadata": {},
   "source": [
    "Wir wollen diesmal zwei Baselines vergleichen: Ein Unigram- und ein Bigramm-Sprachmodell. Das Unigramm-Modell hat weniger Parameter als das HMM (es hat genau $V$ Parameter, das HMM hat $T+T^2+V\\cdot T$) und das Bigramm-Modell hat mehr ($V^2$)."
   ]
  },
  {
   "cell_type": "code",
   "execution_count": 21,
   "metadata": {},
   "outputs": [
    {
     "name": "stdout",
     "output_type": "stream",
     "text": [
      "Perplexity: 731.2\n"
     ]
    }
   ],
   "source": [
    "class UnigramLanguageModel(LanguageModel):\n",
    "    def __init__(self, unigram_probs):\n",
    "        self.unigram_probs = np.log2(unigram_probs)\n",
    "    \n",
    "    def score(self, sentence):\n",
    "        return self.unigram_probs[sentence].sum()\n",
    "\n",
    "evaluate_lm(\n",
    "    UnigramLanguageModel(\n",
    "        word_unigram_counts / word_unigram_counts.sum())\n",
    ")"
   ]
  },
  {
   "cell_type": "code",
   "execution_count": 24,
   "metadata": {},
   "outputs": [
    {
     "name": "stdout",
     "output_type": "stream",
     "text": [
      "Perplexity: 78.0\n"
     ]
    }
   ],
   "source": [
    "class BigramLanguageModel(LanguageModel):\n",
    "    def __init__(self, start_probs, bigram_probs):\n",
    "        self.start_probs = np.log2(start_probs)\n",
    "        self.bigram_probs = np.log2(bigram_probs)\n",
    "    \n",
    "    def score(self, sentence):\n",
    "        lprob = self.start_probs[sentence[0]]\n",
    "        lprob += self.bigram_probs[sentence[:-1], sentence[1:]].sum()\n",
    "        return lprob\n",
    "\n",
    "evaluate_lm(\n",
    "    BigramLanguageModel(\n",
    "        word_start_probs,\n",
    "        word_bigram_probs)\n",
    ")"
   ]
  },
  {
   "cell_type": "markdown",
   "metadata": {},
   "source": [
    "### Aufgabe b1) Zusammen mit b2 20 Punkte\n",
    "\n",
    "Erweitern Sie Ihre HMM Implementierung so, dass Sie ein Sprachmodell implementiert. Verwenden Sie dafür den *Forward-Algorithmus*. Machen Sie sich klar, warum Sie hier keine log-Wahrscheinlichkeiten benutzen können."
   ]
  },
  {
   "cell_type": "code",
   "execution_count": 25,
   "metadata": {},
   "outputs": [
    {
     "name": "stdout",
     "output_type": "stream",
     "text": [
      "Perplexity: 522.4\n"
     ]
    }
   ],
   "source": [
    "evaluate_lm(hmm)"
   ]
  },
  {
   "cell_type": "markdown",
   "metadata": {},
   "source": [
    "Wahrscheinlich hat die Evaluation eine Warnung und eine Perplexität von unendlich erzeugt. Das liegt an dem Problem, das wir oben beim Viterbi Algorithmus beschrieben hatten: Die $\\alpha_t$ werden zu klein, um von `double`s dargestellt zu werden.\n",
    "\n",
    "Da wir beim Forward-Algorithmus keine log-Wahrscheinlichkeiten verwenden können, müssen wir eine andere Technik einführen: Skalierung.\n",
    "\n",
    "Wir erweitern den Forward Algorithmus wie folgt:\n",
    "1. Für ein gegebenes $t$, berechne die $\\alpha_t$.\n",
    "2. Berechne $c_t = \\sum_j \\alpha_t(j)$.\n",
    "3. Normalisiere die $\\alpha_t$ zu $\\hat{\\alpha}_t$ mit $\\hat{\\alpha}_t(j) = \\frac{\\alpha_t(j)}{c_t}$\n",
    "4. Verwende für die Berechnung der $\\alpha_{t+1}$ die $\\hat{\\alpha}_t$ statt $\\alpha_t$.\n",
    "\n",
    "Um $P(O|\\lambda)$ zu bestimmen, können wir jetzt nicht mehr $\\hat{\\alpha}_T(0)$ nehmen, da es bereits skaliert ist. Genauso können wir nicht einfach ent-skalieren, denn den echten Wert können wir wieder numerisch nicht ausdrücken. Wir können aber durch Induktion zeigen, dass $\\hat{\\alpha}_t(j)=\\left(\\prod_{\\tau=1}^t \\frac{1}{c_\\tau}\\right)\\alpha_t(j)$. Daher:\n",
    "\n",
    "$$P(O|\\lambda) = \\alpha_T(0) = \\hat{\\alpha}_T(0) \\prod_{\\tau=1}^T c_\\tau$$\n",
    "\n",
    "Also\n",
    "\n",
    "$$\\log P(O|\\lambda) = \\log \\hat{\\alpha}_T(0) + \\sum_{\\tau=1}^T \\log c_\\tau$$\n",
    "\n",
    "Wir können also die Log-Wahrscheinlichkeit bestimmen, die für die Sprachmodellierung ausreicht.\n",
    "\n",
    "### Aufgabe b2)\n",
    "Implementieren Sie den Forward-Algorithmus mit Skalierung. Hinweis: Für die korrekte Berechnung der Perplexität, verwenden Sie den Logarithmus zur Basis 2 (`np.log2`). Wenn Ihre Implementierung korrekt ist, sollte die Perplexität des HMM-Sprachmodells zwischen der des Unigramm- und der des Bigramm-Sprachmodells liegen.\n",
    "\n",
    "Sie können Ihre Implementierung an diesem Beispiel testen:"
   ]
  },
  {
   "cell_type": "code",
   "execution_count": 26,
   "metadata": {},
   "outputs": [],
   "source": [
    "words = np.array([vocabulary_lookup.get(word, 1) for word in corpus[1000]] + [0])\n",
    "\n",
    "score = hmm.score(words)\n",
    "assert abs(score + 243.095) < 1e-3, score"
   ]
  },
  {
   "cell_type": "code",
   "execution_count": null,
   "metadata": {},
   "outputs": [],
   "source": []
  }
 ],
 "metadata": {
  "kernelspec": {
   "display_name": "Python 3",
   "language": "python",
   "name": "python3"
  },
  "language_info": {
   "codemirror_mode": {
    "name": "ipython",
    "version": 3
   },
   "file_extension": ".py",
   "mimetype": "text/x-python",
   "name": "python",
   "nbconvert_exporter": "python",
   "pygments_lexer": "ipython3",
   "version": "3.7.4"
  }
 },
 "nbformat": 4,
 "nbformat_minor": 4
}
