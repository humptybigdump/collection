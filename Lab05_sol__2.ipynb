{
 "cells": [
  {
   "cell_type": "markdown",
   "id": "0e42763e",
   "metadata": {},
   "source": [
    "# Stochastic Simulation\n",
    "\n",
    "*Winter Semester 2023/24*\n",
    "\n",
    "08.12.2023\n",
    "\n",
    "Prof. Sebastian Krumscheid<br>\n",
    "Asstistant: Stjepan Salatovic"
   ]
  },
  {
   "cell_type": "markdown",
   "id": "5c5187ec",
   "metadata": {},
   "source": [
    "<h3 align=\"center\">\n",
    "Exercise sheet 05\n",
    "</h3>\n",
    "\n",
    "---\n",
    "\n",
    "<h1 align=\"center\">\n",
    "The Monte Carlo method\n",
    "</h1>"
   ]
  },
  {
   "cell_type": "code",
   "execution_count": 1,
   "id": "f636d6f9",
   "metadata": {},
   "outputs": [],
   "source": [
    "import matplotlib.pylab as plt\n",
    "import numpy as np\n",
    "\n",
    "from ipywidgets import interact\n",
    "from scipy.special import factorial\n",
    "from scipy.stats import uniform, norm, pareto, lognorm, rv_continuous\n",
    "from scipy.optimize import newton\n",
    "from typing import Callable, Tuple\n",
    "from tqdm.notebook import tqdm"
   ]
  },
  {
   "cell_type": "code",
   "execution_count": 2,
   "id": "1c5fd94c-4d77-4686-9c09-73cf01551096",
   "metadata": {},
   "outputs": [],
   "source": [
    "plt.rc('axes', labelsize=14)     # fontsize of the x and y labels\n",
    "plt.rc('xtick', labelsize=12)    # fontsize of the tick labels\n",
    "plt.rc('ytick', labelsize=12)    # fontsize of the tick labels\n",
    "plt.rc('legend', fontsize=14)    # legend fontsize"
   ]
  },
  {
   "cell_type": "markdown",
   "id": "5e6ec4b1",
   "metadata": {},
   "source": [
    "## Exercise 1\n",
    "\n",
    "Let $X = [X_1, X_2, ..., X_n] \\overset{\\text{i.i.d}}{\\sim} \\mathcal{U}([-1,1]^n)$ be a random vector uniformly distributed over the $n$-dimensional square $\\Gamma=[-1,1]^n$, and define the random variable $Z=\\mathbb{1}_{\\|X\\|_{l^2}<1}.$ Observe that\n",
    "\n",
    "\\begin{align*}\n",
    "I=\\mathbb{E}[Z]=\\int_\\Gamma \\mathbb{1}_{\\|x\\|_{l^2}<1}p(x)\\mathrm{d}x=\\frac{1}{|\\Gamma|}\\left|B(0,1)\\right|,\n",
    "\\end{align*}\n",
    "\n",
    "where $p(x)$ is the PDF of $\\mathcal{U}([-1,1]^n),$ and $\\left|B(0,1)\\right|$ is the volume of the $n$-dimensional sphere with center $0$ and radius $1$. "
   ]
  },
  {
   "cell_type": "markdown",
   "id": "914b3d0f-3d72-4ff1-80fc-cb59df756e82",
   "metadata": {},
   "source": [
    "1. Let $n=2$. Use Monte Carlo to approximate the value of $I$:\n",
    "$$\n",
    "\\overline{I}_N := \\frac{1}{N} \\sum_{k=1}^N Z_k\n",
    "$$\n",
    "For $N=10,100,1000,10000,$ compute $\\overline{I}_N$ as well as an approximate confidence interval and compare with the exact value $I$. In addition, plot the relative error $\\frac{|\\overline I_N -I|}{I}$ versus $N$ in logarithmic scale and verify the convergence rate. "
   ]
  },
  {
   "cell_type": "code",
   "execution_count": 3,
   "id": "2b3dfe96-1d1a-4084-9948-d38e0eef42e5",
   "metadata": {},
   "outputs": [],
   "source": [
    "def get_sample(N: int, n: int=2) -> np.array:\n",
    "    \"\"\"\n",
    "    Generates a uniform sample of size `N` in the hypercube `[-1, 1]^n`.\n",
    "    \"\"\"\n",
    "    x = np.random.uniform(-1, 1, size=(N, n))\n",
    "    return x"
   ]
  },
  {
   "cell_type": "code",
   "execution_count": 4,
   "id": "ab1fee24-cae5-43f6-a4d5-6e87301298ac",
   "metadata": {},
   "outputs": [],
   "source": [
    "def I(N: int, n: int=2) -> float:\n",
    "    \"\"\"\n",
    "    Estimates `I` using `N` Monte Carlo samples in the hypercube `[-1, 1]^n`.\n",
    "    \"\"\"\n",
    "    x = get_sample(N, n)\n",
    "    z = np.linalg.norm(x, axis=1) < 1\n",
    "    I = z.mean()\n",
    "    return I"
   ]
  },
  {
   "cell_type": "code",
   "execution_count": 5,
   "id": "baaa6d92-4002-4d41-8bfd-8ea9b9123821",
   "metadata": {},
   "outputs": [],
   "source": [
    "def plot_monte_carlo(N: int):\n",
    "    \"\"\"Interaction helper.\"\"\"\n",
    "    np.random.seed(999)\n",
    "    \n",
    "    x = get_sample(N, 2)\n",
    "    z = np.linalg.norm(x, axis=1) < 1\n",
    "\n",
    "    true_I = np.pi / 4\n",
    "\n",
    "    fig, axs = plt.subplots(nrows=1, ncols=2, figsize=(14, 4))\n",
    "\n",
    "    circle = plt.Circle((0, 0), 1, color='black', fill=False)\n",
    "    axs[0].add_patch(circle)\n",
    "    axs[0].scatter(*x[z].T, s=1)\n",
    "    axs[0].scatter(*x[~z].T, s=1)\n",
    "    axs[0].axis(\"square\")\n",
    "    axs[0].set_title(rf\"$N = {N}$\")\n",
    "\n",
    "    N_ = np.arange(1, N + 1)\n",
    "    z_cum = z.cumsum()\n",
    "    z_means = z_cum / N_\n",
    "    z_vars = (np.cumsum(z ** 2) - z_cum ** 2 / N_) / N_\n",
    "    axs[1].axhline(true_I, color=\"k\", linestyle=\"--\", label=r\"$I$\")\n",
    "    axs[1].semilogx(N_, z_means, label=r\"$\\overline{I}_N$\")\n",
    "    axs[1].semilogx(N_, z_means + norm.ppf(0.975) * np.sqrt(z_vars / N_), \"r--\", label=\"95% confidence interval\")\n",
    "    axs[1].semilogx(N_, z_means - norm.ppf(0.975) * np.sqrt(z_vars / N_), \"r--\")\n",
    "    axs[1].set_xlabel(r\"$N$\", size=14)\n",
    "    axs[1].set_xlim(10, N + 1)\n",
    "    plt.legend(fontsize=12)"
   ]
  },
  {
   "cell_type": "code",
   "execution_count": 6,
   "id": "dc7d2f91-b377-476c-884d-0a9f065f91ed",
   "metadata": {},
   "outputs": [
    {
     "data": {
      "application/vnd.jupyter.widget-view+json": {
       "model_id": "cdb9cbff9781400d9c428b47c32d0155",
       "version_major": 2,
       "version_minor": 0
      },
      "text/plain": [
       "interactive(children=(IntSlider(value=5005, description='N', max=10000, min=10), Output()), _dom_classes=('wid…"
      ]
     },
     "metadata": {},
     "output_type": "display_data"
    }
   ],
   "source": [
    "interact(plot_monte_carlo, N=(10, 10 ** 4));"
   ]
  },
  {
   "cell_type": "code",
   "execution_count": 7,
   "id": "b149b37f-b0b5-4ed2-9997-7714be31d5ab",
   "metadata": {},
   "outputs": [
    {
     "data": {
      "image/png": "[encoded data removed]",
      "text/plain": [
       "<Figure size 640x480 with 1 Axes>"
      ]
     },
     "metadata": {},
     "output_type": "display_data"
    }
   ],
   "source": [
    "N = 10 ** 4\n",
    "N_ = np.arange(1, N + 1)\n",
    "\n",
    "x = get_sample(N, 2)\n",
    "z = np.linalg.norm(x, axis=1) < 1\n",
    "\n",
    "true_I = np.pi / 4\n",
    "\n",
    "errs = np.abs(true_I - z.cumsum() / N_) / true_I\n",
    "\n",
    "plt.loglog(N_, errs)\n",
    "plt.loglog(N_, N_ ** -0.5, \"k--\", label=r\"$N^{-1/2}$\")\n",
    "plt.xlim(10, N)\n",
    "plt.xlabel(r\"$N$\", size=12)\n",
    "plt.ylabel(r\"$|I - I_N| \\,/\\, I$\", size=12)\n",
    "plt.grid()\n",
    "plt.legend(fontsize=12)\n",
    "plt.title(\"Convergence rate\");"
   ]
  },
  {
   "cell_type": "markdown",
   "id": "e8a300a8-2ecc-4443-9846-b74f85eb5788",
   "metadata": {},
   "source": [
    "2. **(On the choice of $N$):** By _a priori_ analysis (knowing that $Z\\sim \\text{Bernoulli}(p)$ with $p=\\pi/4$), determine three lower bounds for $N = N(\\alpha, \\epsilon)$ with $\\epsilon =10^{-2}$ and $\\alpha = 10^{-4}$ for ensuring that\n",
    "$$\n",
    "\\mathbb{P}\\left(\\left| \\overline{I}_N - \\pi/4 \\right| > \\epsilon \\right) < \\alpha\n",
    "$$\n",
    "using Chebycheff's inequality (rigorous), the Berry-Esseen Theorem\n",
    "(rigorous) and the leap of faith\n",
    "$$\n",
    "\\frac{ \\overline{I}_N - \\pi/4}{\\sqrt{\\mathrm{Var}(Z)/N}} \\sim N(0,1).\n",
    "$$\n",
    "\n",
    "    Discuss the advantages and disadvantages of using each bound."
   ]
  },
  {
   "cell_type": "markdown",
   "id": "f36c455b-8f0d-4824-bf27-d04b5d5e10fe",
   "metadata": {},
   "source": [
    "For determining the respective lower bounds for $N(\\alpha, \\epsilon)$,\n",
    "note first that since $Z\\sim \\text{Bernoulli}(p = \\pi/4)$,\n",
    "we have \n",
    "\n",
    "$$\n",
    "\\mathrm{Var}(Z) = \\sigma^2 = \\mathbb{E}{( Z - p )^2} = p (1-p),\n",
    "$$\n",
    "\n",
    "and\n",
    "\n",
    "$$\n",
    "\\mathbb{E}{ \\left |Z-p\\right|^3 } = \\gamma^3 = (1-p)^3p + p^3(1-p) = p(1-p)\\left[(1-p)^2+p^2\\right].\n",
    "$$\n",
    "\n",
    "When using the **central limit theorem** relation (called \"leap of faith\" as we are in the non-asymptotic setting), we may bound the probability of failure by\n",
    "\n",
    "$$\n",
    "\\begin{split}\n",
    "\\mathbb{P}\\left(\\left |\\overline I_N - I\\right| \\ge \\epsilon\\right) &= \n",
    "\\mathbb{P}\\left(\\sqrt{N} \\frac{\\left |\\overline I_N - I\\right|}{\\sigma} >\n",
    "\t\\frac{\\sqrt{N}\\epsilon}{\\sigma}\\right)\n",
    "= 2\\left (1-\\Phi\\left (\\frac{\\sqrt{N}\\epsilon}{\\sigma}\\right)\\right).\n",
    "\\end{split}\n",
    "$$\n",
    "\n",
    "To ensure that \n",
    "\n",
    "$$\n",
    "2\\left (1-\\Phi\\left (\\frac{\\sqrt{N}\\epsilon}{\\sigma}\\right)\\right) < \\alpha,\n",
    "$$\n",
    "one must use at least \n",
    "\n",
    "$$\n",
    "N_{CLT} (\\alpha, \\epsilon) =  \\left\\lceil \\left ( \\frac{\\sigma\n",
    "\t\tc_{1-\\alpha/2}}{\\epsilon} \\right)^2\\right \\rceil,\n",
    "$$\n",
    "\n",
    "samples, where $\\lceil x \\rceil := \\min\\{z \\in \\mathbb{Z} \\mid z \\ge x\\}$ and $c_{1-\\alpha/2}$ is the $1-\\alpha/2$ quantile of the standard normal distribution, i.e., $\\Phi(c_{1-\\alpha/2})=1-\\alpha/2$.\n",
    "\n",
    "When using the **Chebycheff bound**,\n",
    "\n",
    "$$\n",
    "\\begin{split}\n",
    "\\mathbb{P}\\left(\\left |\\overline I_N - I\\right| > \\epsilon\\right) \\le   \\frac{\\sigma^2}{N \\epsilon^2},\n",
    "\\end{split}\n",
    "$$\n",
    "\n",
    "to ensure that $\\sigma^2/N\\epsilon^2 < \\alpha$, we have that\n",
    "\n",
    "$$\n",
    "N_{CHEB}(\\alpha, \\epsilon) = \\left\\lceil \\frac{\\sigma^2}{ \\alpha \\epsilon^{2} } \\right\\rceil , \n",
    "$$\n",
    "\n",
    "ensures that the probability of failure is bounded by $\\alpha$.\n",
    "\n",
    "When relying on the **Berry-Esseen theorem**,\n",
    "the probability of failure is controlled by\n",
    "\n",
    "$$\n",
    "\\begin{split}\n",
    "\\mathbb{P}\\left(\\left |\\overline I_N - I\\right| > \\epsilon \\right) & =\n",
    "\\mathbb{P}\\left( \\sqrt{N}\\frac{\\left |\\overline I_N - I\\right|}{\\sigma} >\n",
    "\t\\frac{\\sqrt{N} \\epsilon}{\\sigma}\\right)\\\\\n",
    "& \\le 2\\left (1-\\Phi\\left (\\frac{\\sqrt{N} \\epsilon}{\\sigma} \\right) \\right) +\n",
    "\\frac{2}{\\sqrt{N}}\\beta K,\n",
    "\\end{split}\n",
    "$$\n",
    "\n",
    "where $K\\approx 0.4748$ is the constant in the Berry-Essen inequality, and $\\beta = \\gamma^3/\\sigma^3$.\n",
    "\n",
    "The lower bound solution can then be viewed as the smallest integer which is larger or equal to\n",
    "the zero of the equation\n",
    "\n",
    "$$\n",
    "f(x) := 1-\\Phi\\left (\\frac{\\sqrt{x} \\epsilon}{\\sigma} \\right) +\n",
    "\\frac{ \\beta K}{\\sqrt{x}} - \\frac{\\alpha}{2}.\n",
    "$$\n",
    "\n",
    "Since $f'<0$ for all $x>0$, the zero is unique. We determine the value of $N_{BE}$ using the Newton method `scipy.optimize.newton`.\n",
    "\n",
    "For the considered problem setting, we report the obtained numbers below and conclude that\n",
    "\n",
    "$$\n",
    "N_{CLT} = 25513 \\le N_{CHEB} = 16854789 \\le N_{BE} = 235103811.\n",
    "$$"
   ]
  },
  {
   "cell_type": "code",
   "execution_count": 8,
   "id": "9b7b92c2-a032-4d9d-8466-0d457e68dc94",
   "metadata": {},
   "outputs": [],
   "source": [
    "p = np.pi / 4\n",
    "var = p * (1 - p)\n",
    "gamma = p * (1 - p) * ((1 - p) ** 2 + p ** 2)\n",
    "\n",
    "K = 0.4748   # Berry-Essen constant"
   ]
  },
  {
   "cell_type": "code",
   "execution_count": 9,
   "id": "bf97234c-d973-42cc-b87e-f3efaf352521",
   "metadata": {},
   "outputs": [],
   "source": [
    "def central_limit_bound(alpha: float, eps: float) -> int:\n",
    "    \"\"\"\n",
    "    Calculates the minimum sample size for estimating `π / 4` based on the CLT.\n",
    "    \"\"\"\n",
    "    N = int(np.ceil((np.sqrt(var) * norm.ppf(1 - alpha / 2) / eps) ** 2))\n",
    "    return N"
   ]
  },
  {
   "cell_type": "code",
   "execution_count": 10,
   "id": "311e25fc-bb7a-42d0-a1cb-8c7a1ca06039",
   "metadata": {},
   "outputs": [],
   "source": [
    "def chebycheff_bound(alpha: float, eps: float) -> int:\n",
    "    \"\"\"\n",
    "    Calculates the minimum sample size for estimating `π / 4` based on the Chebycheff bound.\n",
    "    \"\"\"\n",
    "    N = int(np.ceil(var / alpha / eps ** 2))\n",
    "    return N"
   ]
  },
  {
   "cell_type": "code",
   "execution_count": 11,
   "id": "a2b3a8a6-27b9-421c-8954-c89962045166",
   "metadata": {},
   "outputs": [],
   "source": [
    "def berry_essen_bound(alpha: float, eps: float) -> int:\n",
    "    \"\"\"\n",
    "    Calculates the minimum sample size for estimating `π / 4` based on the Berry-Essen theorem.\n",
    "    \"\"\"\n",
    "    helper = lambda x: (\n",
    "        1 - norm().cdf(np.sqrt(x) * eps / np.sqrt(var)) + K * gamma / np.sqrt(var) ** 3 / np.sqrt(x) - alpha / 2\n",
    "    )\n",
    "    x0 = chebycheff_bound(alpha, eps)\n",
    "    N = int(np.ceil(newton(helper, x0=x0, maxiter=100)))\n",
    "    return N"
   ]
  },
  {
   "cell_type": "code",
   "execution_count": 12,
   "id": "6c0372e1-3b1f-4f32-9aa5-5fca0461dc69",
   "metadata": {},
   "outputs": [],
   "source": [
    "alpha = 1e-4\n",
    "eps = 1e-2"
   ]
  },
  {
   "cell_type": "code",
   "execution_count": 13,
   "id": "306c6329-b3df-4492-b0da-fa2065c3b422",
   "metadata": {},
   "outputs": [
    {
     "name": "stdout",
     "output_type": "stream",
     "text": [
      "Central limit bound: N = 25513\n",
      "Chebycheff bound:    N = 16854789\n",
      "Berry-Esseen bound:  N = 235103811\n"
     ]
    }
   ],
   "source": [
    "N_CLT = central_limit_bound(alpha, eps)\n",
    "N_CB = chebycheff_bound(alpha, eps)\n",
    "N_BE = berry_essen_bound(alpha, eps)\n",
    "\n",
    "print(f\"Central limit bound: N = {N_CLT}\")\n",
    "print(f\"Chebycheff bound: {'':<2} N = {N_CB}\")\n",
    "print(f\"Berry-Esseen bound: {'':<0} N = {N_BE}\")"
   ]
  },
  {
   "cell_type": "markdown",
   "id": "41081780-6a7a-41e8-b1e2-37a8ee9a11f6",
   "metadata": {},
   "source": [
    "3. An important property of the MC method is that, under\n",
    "very weak regularity assumptions, an $O(N^{-1/2})$\n",
    "convergence rate holds independently of the dimensionality of the\n",
    "underlying problem.  To illustrate this, consider approximating $\\mathbb{E}[Z]$ as in the first point, for $n=6.$"
   ]
  },
  {
   "cell_type": "code",
   "execution_count": 14,
   "id": "a83cb127-43c0-428e-bcbe-5f3d24447d66",
   "metadata": {},
   "outputs": [
    {
     "data": {
      "image/png": "[encoded data removed]",
      "text/plain": [
       "<Figure size 640x480 with 1 Axes>"
      ]
     },
     "metadata": {},
     "output_type": "display_data"
    }
   ],
   "source": [
    "N = 10 ** 4\n",
    "N_ = np.arange(1, N + 1)\n",
    "\n",
    "n = 6\n",
    "\n",
    "x = get_sample(N, n=n)\n",
    "z = np.linalg.norm(x, axis=1) < 1\n",
    "\n",
    "vol_sphere = np.pi ** (n / 2) / factorial(n / 2)\n",
    "vol_gamma = 2 ** n\n",
    "\n",
    "true_I = vol_sphere / vol_gamma\n",
    "\n",
    "errs = np.abs(true_I - z.cumsum() / N_) / true_I\n",
    "\n",
    "plt.loglog(N_, errs)\n",
    "plt.loglog(N_, N_ ** -0.5, \"k--\", label=r\"$N^{-1/2}$\")\n",
    "plt.xlim(10, N)\n",
    "plt.xlabel(r\"$N$\", size=12)\n",
    "plt.ylabel(r\"$|I - I_N| \\,/\\, I$\", size=12)\n",
    "plt.grid()\n",
    "plt.legend(fontsize=12)\n",
    "plt.title(f\"Convergence rate for n = {n}\");"
   ]
  },
  {
   "cell_type": "markdown",
   "id": "894026e6-225a-44ab-9990-822c5d51b002",
   "metadata": {},
   "source": [
    "## Exercise 2\n",
    "\n",
    "A simulator would like to produce an unbiased estimate of\n",
    "$\\mathbb{E}(XY)$, where the two independent random variables $X$ and\n",
    "$Y$ have bounded first moments and can be generated by a stochastic\n",
    "simulation. To this end, she simulates $R\\in\\mathbb{N}$ replications\n",
    "$X_1,\\dots, X_R$ of $X$ and, independently of this, $R$ replications\n",
    "$Y_1,\\dots, Y_R$ of $Y$. She thus has the following two natural\n",
    "estimators for $\\mathbb{E}(XY)$ at her disposal:\n",
    "\n",
    "\\begin{equation*}\n",
    "  \\text{Est}_1 := \\Biggl(\\frac{1}{R}\\sum_{r=1}^RX_r \\Biggr) \\Biggl(\\frac{1}{R}\\sum_{r=1}^RY_r \\Biggr)\\quad\\text{and}\\quad \\text{Est}_2 := \\frac{1}{R}\\sum_{r=1}^RX_rY_r\\;.\n",
    "\\end{equation*}"
   ]
  },
  {
   "cell_type": "markdown",
   "id": "11e3e980-e7ef-4c4a-8878-b008fa6fe4e3",
   "metadata": {},
   "source": [
    "1. Verify that both estimators $\\text{Est}_1$ and $\\text{Est}_2$ are unbiased."
   ]
  },
  {
   "cell_type": "markdown",
   "id": "a3f0c636-952c-4a11-bdbc-fddad2cefc3a",
   "metadata": {},
   "source": [
    "Introducing the notation $\\bar X_R = \\frac{1}{R} \\sum_{i=1}^R X_i$ and $\\bar Y_R = \\frac{1}{R} \\sum_{r=1}^R Y_j$, it holds by the independence of the random variables $X_i$ and $Y_j$, and the identical distribution of elements in the sequence $X_1,X_2, \\ldots, X_R$ and ditto for elements in the sequence $Y_1,Y_2, \\ldots, Y_R$, that for any $ 1\\le i,j \\le R$,\n",
    "  $$\n",
    "  \\mathbb{E}\\left[X_i Y_j \\right] = \\mathbb{E}\\left[X_i\\right] \\mathbb{E}\\left[Y_j\\right] = \\mathbb{E}\\left[X\\right] \\mathbb{E}\\left[Y\\right] = \\mathbb{E}\\left[XY\\right].\n",
    "  $$\n",
    "  Consequently,\n",
    "  $$\n",
    "  \\mathbb{E}\\left[ \\bar X_R \\bar Y_R \\right] = \\frac{1}{R^2} \\sum_{i,j =1}^R \\mathbb{E}\\left[X_i Y_j \\right]\n",
    "  =  \\frac{1}{R^2} \\sum_{i,j =1}^R \\mathbb{E}\\left[X Y\\right] = \\mathbb{E}\\left[XY\\right],\n",
    "  $$\n",
    "  and\n",
    "  $$\n",
    "  \\mathbb{E}\\left[ \\frac{1}{R} \\sum_{r=1}^R X_rY_r \\right] = \\frac{1}{R} \\sum_{r=1}^R \\mathbb{E}\\left[X Y\\right]  = \\mathbb{E}\\left[XY\\right].\n",
    "  $$"
   ]
  },
  {
   "cell_type": "markdown",
   "id": "366f2f07-7cd1-4fac-b472-0fb407261503",
   "metadata": {},
   "source": [
    "2. Show that $\\mathrm{Var}(\\text{Est}_1)<\\mathrm{Var}(\\text{Est}_2)$."
   ]
  },
  {
   "cell_type": "markdown",
   "id": "51286f43-553f-4e51-b2ad-810e5052be57",
   "metadata": {},
   "source": [
    "Let us recall first that since the sequence $X_1,X_2,\\ldots$ is iid,\n",
    "  $$\n",
    "  \\mathrm{Var}(\\bar X_R) = \\text{Cov}(\\bar X_R,\\bar X_R) = \\frac{1}{R} \\mathrm{Var}(X), \n",
    "  $$\n",
    "  and\n",
    "  $$\n",
    "  \\mathbb{E}\\left[\\bar X_R\\right] = \\mathbb{E}\\left[X\\right].\n",
    "  $$\n",
    "  (And, similarly, $ \\mathrm{Var}(\\bar Y_R) = \\frac{1}{R}\\mathrm{Var}(Y), \\quad \\mathbb{E}\\left[\\bar Y_R\\right] = \\mathbb{E}\\left[Y\\right].)$\n",
    "\n",
    "  Using that $\\bar X_R$ and $\\bar Y_R$ are independent, \n",
    "  $$\n",
    "  \\begin{split}\n",
    "    \\mathrm{Var}(\\text{Est}_1) &= \\mathbb{E}\\left[\\bar X_R^2 \\bar Y_R^2\\right] - \\left[\\mathbb{E}{\\bar X_R \\bar Y_R}\\right]^2\\\\\n",
    "    &=\\mathbb{E}\\left[\\bar X_R^2\\right] \\mathbb{E}\\left[\\bar Y_R^2\\right] - \\left( \\mathbb{E}\\left[\\bar X_R\\bar Y_R\\right]\\right)^2\\\\\n",
    "      & = \\left(\\mathrm{Var}(\\bar X_R) + \\mathbb{E}\\left[\\bar X_R\\right]^2 \\right)\n",
    "      \\left(\\mathrm{Var}(\\bar Y_R) + \\mathbb{E}\\left[\\bar Y_R\\right]^2 \\right) - \\mathbb{E}\\left[\\bar X_R \\bar Y_R\\right]^2\\\\\n",
    "      & = \\mathrm{Var}(\\bar X_R)\\mathrm{Var}(\\bar Y_R) + \\mathrm{Var}(\\bar X_R)\\mathbb{E}\\left[\\bar Y_R\\right]^2\n",
    "      + \\mathrm{Var}(\\bar Y_R)\\mathbb{E}\\left[\\bar X_R\\right]^2\\\\\n",
    "      & = \\frac{1}{R^2}\\mathrm{Var}(X)\\mathrm{Var}(Y) + \\frac{1}{R}\\mathrm{Var}(X) \\mathbb{E}\\left[Y\\right]^2 +\n",
    "      \\frac{1}{R}\\mathrm{Var}(Y)\\mathbb{E}\\left[X\\right]^2. \n",
    "      \\end{split}\n",
    "  $$\n",
    "  And for the second estimator we use that since the sequence $X_1Y_1,X_2Y_2,\\ldots$\n",
    "  is i.i.d, we may argue as above to derive that \n",
    "  $$\n",
    "  \\mathrm{Var}(\\text{Est}_2) = \\frac{1}{R} \\mathrm{Var}(XY)\n",
    "  = \\frac{1}{R} \\mathrm{Var}(X)\\mathrm{Var}(Y) + \\mathrm{Var}(X) \\mathbb{E}\\left[Y\\right]^2 + \\mathrm{Var}(Y)\\mathbb{E}\\left[X\\right]^2.\n",
    "  $$\n",
    "  So whenever $\\mathrm{Var}(X)\\mathrm{Var}(Y)>0$,\n",
    "  $$\n",
    "  \\mathrm{Var}(\\text{Est}_2) -\\mathrm{Var}(\\text{Est}_1) = \\mathrm{Var}(X)\\mathrm{Var}(Y)\\frac{R-1}{R^2} > 0.\n",
    "  $$"
   ]
  },
  {
   "cell_type": "markdown",
   "id": "5931057e-0a4a-41e4-a82a-478de1535451",
   "metadata": {},
   "source": [
    "3. Use the delta method to show that $\\sqrt{R}(\\text{Est}_1-\\mu_x\\mu_y)\\overset{d}{\\rightarrow}N(0,\\tau^2)$. Find $\\tau^2$ explicitly and derive a $1-\\alpha$ asymptotic confidence interval. "
   ]
  },
  {
   "cell_type": "markdown",
   "id": "91b86a68-4048-4a09-8e57-22d45bdf0a24",
   "metadata": {},
   "source": [
    "We have that, \n",
    "   \\begin{equation*}\n",
    "   \\sqrt{R} \\left(\\left[\\begin{array}{c} \\bar{X}_R \\\\ \\bar{Y}_R\\end{array}\\right] - \\left[\\begin{array}{c} \\mu_x \\\\ \\mu_y  \\end{array}\\right]\\right) \\to N(0, \\Sigma),\n",
    "   \\end{equation*}\n",
    "   where $\\Sigma = \\left[\\begin{array}{cc} \\textrm{var}(X) & 0 \\\\ 0 & \\textrm{var}(Y)\\end{array}\\right]$. Then for $h(x, y) = xy$, and after applying the delta method, we get that \n",
    "   \\begin{equation*}\n",
    "   \\sqrt{R} \\left(h(\\bar{X}, \\bar{Y}) - \\mu_x\\mu_y\\right) \\to N(0, \\tau^2)\n",
    "   \\end{equation*}\n",
    "   with $\\tau^2 = [\\mu_y, \\mu_x] \\Sigma \\left[\\begin{array}{c}\\mu_y \\\\ \\mu_x\\end{array}\\right] = \\textrm{Var}(X)\\mathbb{E}[Y]^2 + \\textrm{Var}(Y)\\mathbb{E}[X]^2$. The confidence interval then follows easily."
   ]
  },
  {
   "cell_type": "markdown",
   "id": "c1f00533-dda2-49cc-bdd2-eaabe8e9a609",
   "metadata": {},
   "source": [
    "## Exercise 3\n",
    "\n",
    "Algorithm 1 proposes a sequential Monte Carlo method to compute the expectation $\\mathbb{E}[X]$ of a random variable $X$, where the sample size is doubled at each iteration until the estimated $1-\\alpha$ confidence interval based on a central limit theorem approximation is smaller than a prescribed tolerance $\\epsilon$. The algorithm then outputs the final sample size $N(\\epsilon,\\alpha)$, as well as the estimated value $\\bar X_N$.\n",
    "\n",
    "---\n",
    "**Algorithm 1** Sample Variance Based SMC\n",
    "\n",
    "- **Input:** $N_0$, distribution $\\lambda$, accuracy $\\epsilon>0$, confidence $1-\\alpha>0$.\n",
    "- **Output:** $\\overline X_{\\epsilon,\\alpha} $ (i.e., approximation of $\\mathbb E [ X]$ with $X\\sim\\lambda$), $N$.\n",
    "\n",
    "- Set $k=0$, generate $N_k$ i.i.d. replicas $\\{X_i\\}_{i=1}^{N_k}$ of $X\\sim\\lambda$ and \n",
    "\t\\begin{equation}\\tag{1}\n",
    "\t\\bar{X}_{N_k}=\\frac{1}{N_k}\\sum_{i=1}^{N_k}X_i,\n",
    "\t\\end{equation}\n",
    "\t\n",
    "    \\begin{equation}\\tag{2}\n",
    "    \\overline \\sigma^2_{N_k} := \\frac{1}{N_k-1} \\sum_{i=1}^{N_k} (X_i -\\overline X_{N_k})^2.\n",
    "    \\end{equation}\n",
    "\n",
    "- **while** $\\bar{\\sigma}_{N_k}C_{1-\\alpha/2}/\\sqrt{N_k} > \\epsilon$ **do**\n",
    "    - Set $k =k+1$ and $N_{k}=2N_{k-1}$.\n",
    "    - Generate a new batch of $N_k$ i.i.d. replicas $\\{X_i\\}_{i=1}^{N_k}$ of $X\\sim \\lambda$.\n",
    "    - Compute the sample variance $\\overline \\sigma^2_{N_k}$ by (2).\n",
    "- **end while**\n",
    "\n",
    "- Set $N =N_k$, generate i.i.d. samples $\\{X_i\\}_{i=1}^{N}$ of $\\lambda$ and compute the output sample mean $\\overline X_{\\epsilon,\\alpha}$.\n",
    "\n",
    "---\n",
    "\n",
    "Algorithm 1 can be particularly sensitive to the choice of initial sample size $N_0$, and as such, we would like to assess the robustness of such an algorithm in estimating $\\mathbb{E}[ X]$ for different distributions of $X$. For some values of $N_0$ ranging between $10$ and $50$,  consider $\\alpha = 10^{-1.5}$ and $\\epsilon =1/10$, and the following random variables:\n",
    "\n",
    "1. $X \\sim \\text{Pareto}(x_m=1,\\gamma=3.1)$ (i.e. with PDF $p(y) = \\mathbb{1}_{y>x_m} x_m^\\gamma \\gamma y^{-(\\gamma+1)}$), $\\,\\mathbb{E}[X]=\\frac{\\gamma x_m}{\\gamma-1}.$\n",
    "2. $X \\sim \\text{Lognormal}(\\mu=0,\\sigma=1)$,  $\\,\\mathbb{E}[X]=\\exp\\left(\\mu+\\frac{\\sigma^2}{2}\\right).$\n",
    "3. $X \\sim U([-1,1]),$ $\\,\\mathbb{E}[X]=0$.\n",
    "\n",
    "Repeat the simulation $K=20\\alpha^{-1}$ times and record the sample sizes $\\{N^{(i)}\\}_{i=1}^K$ as well as the computed sample means $\\{\\bar{X}_{\\epsilon,\\alpha}^{(i)}\\}_{i=1}^K$ returned by the algorithm for each run $i=1,...,K$. Estimate the probability of failure $\\overline p$ of the algorithm:\n",
    "\n",
    "$$\n",
    "\\large\n",
    "\\overline p_K(N_0,\\epsilon,\\alpha)=\\frac{1}{K}\\sum_{i=1}^{K}\\mathbb{1}_{|\\bar{X}^{(i)}_{\\epsilon, \\alpha}-\\mathbb{E}[X]|>\\epsilon}.\n",
    "$$\n",
    "\n",
    "Then check whether  $\\overline p_K(N_0,\\epsilon,\\alpha) \\le \\alpha$ holds. Repeat your experiment for different values of $\\epsilon$ and $\\alpha$. Discuss your results. \n",
    "\n",
    "**Hint 1:** You may generate Pareto$(x_m,\\alpha)$ r.v. by inversion or have a look at [`scipy.stats.pareto`](https://docs.scipy.org/doc/scipy/reference/generated/scipy.stats.pareto.html).\n",
    "\n",
    "**Hint 2:** The specified type hint [`rv_continuous`](https://docs.scipy.org/doc/scipy/reference/generated/scipy.stats.rv_continuous.html) for the `dist` argument within the `algorithm_1` function down below indicates that you have the flexibility to use any of [SciPy's continous distributions](https://docs.scipy.org/doc/scipy/tutorial/stats/continuous.html). For instance, you can pass `dist=pareto(b=3.1)` or `dist=lognorm(s=1)`. Of course, while this is only one of many possible solutions, it allows a modular code implementation."
   ]
  },
  {
   "cell_type": "markdown",
   "id": "86a66712-a1c7-4a64-aaba-0305f929e842",
   "metadata": {},
   "source": [
    "Notice that since $\\mathbb{E}[\\bar{p}_N]\\sim \\alpha$, $\\mathrm{Var}[\\bar p_N]\\sim \\alpha(1-\\alpha)/N\\sim \\alpha/N$, the choice $N=20\\alpha^{-1}$ gives a 95\\% confidence interval $\\alpha\\pm \\frac{\\sqrt{\\alpha}}{\\sqrt{N}}C_{1-\\alpha/2}\\sim \\alpha\\left(1\\pm \\frac{C_{1-\\alpha/2}}{\\sqrt{20}}\\right)$. The results of the numerical tests are plotted in the following Figures.\n",
    "\n",
    "For the estimate of $\\overline p_N$ \n",
    "we have included errorbars\n",
    "of magnitude $\\sigma_N := 2\\sqrt{\\overline p_N(1-\\overline p_N)/N}$\n",
    "for all three distributions.\n",
    "Random variables from the Pareto distribution can be sampled using inversion sampling with $F^{-1}(x) = (1-x)^{-1/3.1}$.\n",
    "For Algorithm 1, we observe that only the heavy-tailed Pareto($x_m=1,\\alpha=3.1$) distribution fails to approximate its mean with the sought confidence as $p_N-2 \\sigma_N > \\delta$ for all $N_0$-values (and the failure is more pronounced for lower $N_0$-values), while for the other two distributions, one always has $p_N + 2\\sigma_N < \\delta$."
   ]
  },
  {
   "cell_type": "code",
   "execution_count": 15,
   "id": "4cd28ebf-9bb9-433b-bc53-8e46c61887b7",
   "metadata": {},
   "outputs": [],
   "source": [
    "def algorithm_1(n: int, dist: rv_continuous, alpha: float, eps: float) -> Tuple[float, int]:\n",
    "    \"\"\"\n",
    "    Estimates the mean of a random variable with distribution `dist` using the SMC Algorithm 1.\n",
    "    Returns the estimated mean and the final sample size.\n",
    "    \"\"\"\n",
    "    x = dist.rvs(n)\n",
    "    sigma = np.std(x, ddof=1)\n",
    "\n",
    "    while sigma * norm.ppf(1 - alpha / 2) / np.sqrt(n) > eps:\n",
    "        n *= 2\n",
    "        x = dist.rvs(size=n)\n",
    "        sigma = np.std(x, ddof=1)\n",
    "\n",
    "    mean = x.mean()\n",
    "\n",
    "    return mean, n"
   ]
  },
  {
   "cell_type": "code",
   "execution_count": 16,
   "id": "6b38143a-68ca-49ca-b7c1-0994ec3c988f",
   "metadata": {},
   "outputs": [],
   "source": [
    "def prob_of_failure(algo: Callable, n: int, dist: rv_continuous, alpha: float, eps: float) -> float:\n",
    "    \"\"\"\n",
    "    Estimates the probability of failure for a given algorithm.\n",
    "    \"\"\"\n",
    "    K = int(20 * alpha ** -1)\n",
    "\n",
    "    sample_means = np.zeros(K)\n",
    "    sample_sizes = np.zeros(K)\n",
    "    for i in tqdm(range(K)):\n",
    "        mean, size = algo(n, dist, alpha, eps)\n",
    "        sample_means[i] = mean\n",
    "        sample_sizes[i] = size\n",
    "\n",
    "    true_mean = dist.expect()\n",
    "    p = (np.abs(sample_means - true_mean) > eps).mean()\n",
    "\n",
    "    return p"
   ]
  },
  {
   "cell_type": "code",
   "execution_count": 17,
   "id": "9206453d-9dbc-4c02-81c8-8f78b51713be",
   "metadata": {},
   "outputs": [],
   "source": [
    "def plot_probs_of_failure(probs: np.array, alpha: float):\n",
    "    \"\"\"Plots estimated oribabilities of failure with errorbars.\"\"\"\n",
    "    K = int(20 * alpha ** -1)\n",
    "    err_bars = 2 * np.sqrt(probs * (1 - probs) / K)\n",
    "\n",
    "    labels = [\"Pareto\", \"Lognormal\", \"Uniform\"]\n",
    "    for i in range(len(dists)):\n",
    "        plt.errorbar(ns, probs[:, i], yerr=err_bars[:, i], label=labels[i])\n",
    "    \n",
    "    plt.plot(ns, len(ns) * [alpha], \"k--\", label=r\"$\\alpha$\")\n",
    "    plt.xlabel(r\"$N_0$\")\n",
    "    plt.ylabel(r\"$\\bar{p}_N$\")\n",
    "    plt.legend()"
   ]
  },
  {
   "cell_type": "code",
   "execution_count": 18,
   "id": "90e19ad0-a496-4742-a6bd-c3d295bab1fd",
   "metadata": {},
   "outputs": [],
   "source": [
    "alpha = 10 ** (-1.5)\n",
    "eps = 1e-1\n",
    "\n",
    "dists = [\n",
    "    pareto(b=3.1),\n",
    "    lognorm(s=1),\n",
    "    uniform(loc=-1, scale=2),\n",
    "]\n",
    "\n",
    "ns = np.arange(10, 50 + 1, 10)"
   ]
  },
  {
   "cell_type": "code",
   "execution_count": 19,
   "id": "374e4fa4-1723-4728-ac31-8ac16aaeb50e",
   "metadata": {},
   "outputs": [
    {
     "data": {
      "application/vnd.jupyter.widget-view+json": {
       "model_id": "af4065ca988d4da8a8ff2f20b91e3738",
       "version_major": 2,
       "version_minor": 0
      },
      "text/plain": [
       "  0%|          | 0/632 [00:00<?, ?it/s]"
      ]
     },
     "metadata": {},
     "output_type": "display_data"
    },
    {
     "data": {
      "application/vnd.jupyter.widget-view+json": {
       "model_id": "eee581d7007248dd870ceae7babcd55a",
       "version_major": 2,
       "version_minor": 0
      },
      "text/plain": [
       "  0%|          | 0/632 [00:00<?, ?it/s]"
      ]
     },
     "metadata": {},
     "output_type": "display_data"
    },
    {
     "data": {
      "application/vnd.jupyter.widget-view+json": {
       "model_id": "e3d5abd5fa7147988bf5ce99260c5356",
       "version_major": 2,
       "version_minor": 0
      },
      "text/plain": [
       "  0%|          | 0/632 [00:00<?, ?it/s]"
      ]
     },
     "metadata": {},
     "output_type": "display_data"
    },
    {
     "data": {
      "application/vnd.jupyter.widget-view+json": {
       "model_id": "1bf3c7e4fe6240edbf25073328697acd",
       "version_major": 2,
       "version_minor": 0
      },
      "text/plain": [
       "  0%|          | 0/632 [00:00<?, ?it/s]"
      ]
     },
     "metadata": {},
     "output_type": "display_data"
    },
    {
     "data": {
      "application/vnd.jupyter.widget-view+json": {
       "model_id": "351ad0b15c2e448a917924003a454adf",
       "version_major": 2,
       "version_minor": 0
      },
      "text/plain": [
       "  0%|          | 0/632 [00:00<?, ?it/s]"
      ]
     },
     "metadata": {},
     "output_type": "display_data"
    },
    {
     "data": {
      "application/vnd.jupyter.widget-view+json": {
       "model_id": "fcbfaeb5ed0a424cab5c85c34050da2f",
       "version_major": 2,
       "version_minor": 0
      },
      "text/plain": [
       "  0%|          | 0/632 [00:00<?, ?it/s]"
      ]
     },
     "metadata": {},
     "output_type": "display_data"
    },
    {
     "data": {
      "application/vnd.jupyter.widget-view+json": {
       "model_id": "cdf4400674a6409bb6545e9b5b732d1a",
       "version_major": 2,
       "version_minor": 0
      },
      "text/plain": [
       "  0%|          | 0/632 [00:00<?, ?it/s]"
      ]
     },
     "metadata": {},
     "output_type": "display_data"
    },
    {
     "data": {
      "application/vnd.jupyter.widget-view+json": {
       "model_id": "96f3b9a4ddeb49e3b8d17758e84b455d",
       "version_major": 2,
       "version_minor": 0
      },
      "text/plain": [
       "  0%|          | 0/632 [00:00<?, ?it/s]"
      ]
     },
     "metadata": {},
     "output_type": "display_data"
    },
    {
     "data": {
      "application/vnd.jupyter.widget-view+json": {
       "model_id": "648f247e4e154754b5c824c7a8254802",
       "version_major": 2,
       "version_minor": 0
      },
      "text/plain": [
       "  0%|          | 0/632 [00:00<?, ?it/s]"
      ]
     },
     "metadata": {},
     "output_type": "display_data"
    },
    {
     "data": {
      "application/vnd.jupyter.widget-view+json": {
       "model_id": "5692474d8afa47b59264cbfca6ced475",
       "version_major": 2,
       "version_minor": 0
      },
      "text/plain": [
       "  0%|          | 0/632 [00:00<?, ?it/s]"
      ]
     },
     "metadata": {},
     "output_type": "display_data"
    },
    {
     "data": {
      "application/vnd.jupyter.widget-view+json": {
       "model_id": "e791f66935424fa381bfeaf51c7a251f",
       "version_major": 2,
       "version_minor": 0
      },
      "text/plain": [
       "  0%|          | 0/632 [00:00<?, ?it/s]"
      ]
     },
     "metadata": {},
     "output_type": "display_data"
    },
    {
     "data": {
      "application/vnd.jupyter.widget-view+json": {
       "model_id": "bd2d7a6a628e4ffd86e6c263520d4118",
       "version_major": 2,
       "version_minor": 0
      },
      "text/plain": [
       "  0%|          | 0/632 [00:00<?, ?it/s]"
      ]
     },
     "metadata": {},
     "output_type": "display_data"
    },
    {
     "data": {
      "application/vnd.jupyter.widget-view+json": {
       "model_id": "ec4ce29c734c46abb564d4c1a09c33df",
       "version_major": 2,
       "version_minor": 0
      },
      "text/plain": [
       "  0%|          | 0/632 [00:00<?, ?it/s]"
      ]
     },
     "metadata": {},
     "output_type": "display_data"
    },
    {
     "data": {
      "application/vnd.jupyter.widget-view+json": {
       "model_id": "ec60c0e691f34b7da5bfcad05b303009",
       "version_major": 2,
       "version_minor": 0
      },
      "text/plain": [
       "  0%|          | 0/632 [00:00<?, ?it/s]"
      ]
     },
     "metadata": {},
     "output_type": "display_data"
    },
    {
     "data": {
      "application/vnd.jupyter.widget-view+json": {
       "model_id": "c6179dc2d7214fb9bc2147e15ec30020",
       "version_major": 2,
       "version_minor": 0
      },
      "text/plain": [
       "  0%|          | 0/632 [00:00<?, ?it/s]"
      ]
     },
     "metadata": {},
     "output_type": "display_data"
    }
   ],
   "source": [
    "probs_alg_1 = np.zeros((len(ns), len(dists)))\n",
    "for i, dist in enumerate(dists):\n",
    "    for j, n in enumerate(ns):\n",
    "        probs_alg_1[j, i] = prob_of_failure(algorithm_1, n, dist, alpha, eps)"
   ]
  },
  {
   "cell_type": "code",
   "execution_count": 20,
   "id": "526bc888-12cf-49b8-bbe5-16a687f59acd",
   "metadata": {},
   "outputs": [
    {
     "data": {
      "image/png": "[encoded data removed]",
      "text/plain": [
       "<Figure size 640x480 with 1 Axes>"
      ]
     },
     "metadata": {},
     "output_type": "display_data"
    }
   ],
   "source": [
    "plot_probs_of_failure(probs_alg_1, alpha)\n",
    "plt.title(\"Probability of failure for Algorithm 1\");"
   ]
  },
  {
   "cell_type": "markdown",
   "id": "9e64d51d-e0ec-4c51-a02a-6358ae5e043c",
   "metadata": {},
   "source": [
    "## Exercise 4\n",
    "\n",
    "Compare Algorithm 1 with the sequential Monte Carlo method in Algorithm 2, where one realization is added at a time. \n",
    "\n",
    "---\n",
    "**Algorithm 2** One-at-a-time Sample Variance Based SMC\n",
    "\n",
    "- **Input:** $N_0$, distribution $\\lambda$, accuracy $\\epsilon>0$, confidence $1-\\alpha>0$.\n",
    "- **Output:** $\\overline X_{\\epsilon,\\alpha} $ (i.e, approximation of $\\mathbb E [ X]$ with $X\\sim\\lambda$), $N$.\n",
    "\n",
    "- Set $k=0$, generate $N_k$ i.i.d. samples $\\{X_i\\}_{i=1}^{N_k}$ of $\\lambda$ and compute the sample variance \n",
    "    $$\n",
    "    \\overline \\sigma^2_{N_k} := \\frac{1}{N_k-1} \\sum_{i=1}^{N_k} (X_i -\\overline{X}_{N_k})^2.\n",
    "    $$\n",
    "\n",
    "- **while** $\\bar{\\sigma}_{N_k}C_{1-\\alpha/2}/\\sqrt{N_k} > \\epsilon$ **do**\n",
    "    - Set $k =k+1$ and $N_{k}=N_{k-1} + 1$.\n",
    "    - Generate a new  i.i.d. sample $X^{(N_k+1)}$ of $\\lambda$.\n",
    "    - Compute\\begin{align}\n",
    "\\bar{\\mu}_{N_k+1}&=\\frac{N_k}{N_k+1}\\bar{\\mu} +\\frac{1}{N_k+1}X^{(N_k+1)}\\\\\n",
    "\\bar\\sigma^2_{N_k+1}&=\\frac{N_k-1}{N_k}\\sigma^2_{N_k}+\n",
    "\\frac{1}{N_k+1}(X^{(N_k+1)}-\\bar\\mu_{N_k})^2\n",
    "\t\t\\end{align}\n",
    "- **end while**\n",
    "\n",
    "- Set $N =N_k$, generate i.i.d. samples $\\{X_i\\}_{i=1}^{N}$ of $\\lambda$ and compute the output sample mean $\\overline X_{\\epsilon,\\alpha}$.\n",
    "\n",
    "---\n"
   ]
  },
  {
   "cell_type": "code",
   "execution_count": 21,
   "id": "c9b2a286-b213-4a62-afa7-b5524df99221",
   "metadata": {},
   "outputs": [],
   "source": [
    "def algorithm_2(n: int, dist: rv_continuous, alpha: float, eps: float) -> Tuple[float, int]:\n",
    "    \"\"\"\n",
    "    Estimate the mean of a random variable with distirbution `dist` using the SMC Algorithm 2.\n",
    "    Returns the estimated mean and the final sample size.\n",
    "    \"\"\"\n",
    "    x = dist.rvs(n)\n",
    "    mean = np.mean(x)\n",
    "    sigma = np.var(x, ddof=1)\n",
    "\n",
    "    while np.sqrt(sigma) * norm.ppf(1 - alpha / 2) / np.sqrt(n) > eps:\n",
    "        n += 1\n",
    "        x = dist.rvs(size=1)[0]\n",
    "        mean = (n * mean + x) / (n + 1)       \n",
    "        sigma = (n - 1) / n * sigma + (x - mean) ** 2 / (n + 1)\n",
    "\n",
    "    return mean, n"
   ]
  },
  {
   "cell_type": "markdown",
   "id": "c1f0d685-1890-48fe-aabe-b80de2bb90af",
   "metadata": {},
   "source": [
    "When using Algorithm 2, the Pareto distribution once again fails to approximate the mean for all $N_0$ but the failure rate of the algorithm is higher for a given $N_0$ than Algorithm 1. \n",
    "We also observe that the algorithm fails to approximate the mean for all $N_0$ for the other distributions as well. \n",
    "\n",
    "**Note:** Due to adding one sample at a time in Algorithm 2, the following cell needs a bit longer to compute (approx. 8 min)."
   ]
  },
  {
   "cell_type": "code",
   "execution_count": 22,
   "id": "6dba82f9-1db1-47b6-865b-e5e822915fa2",
   "metadata": {},
   "outputs": [
    {
     "data": {
      "application/vnd.jupyter.widget-view+json": {
       "model_id": "28caae7697d24744bdd541e11c169620",
       "version_major": 2,
       "version_minor": 0
      },
      "text/plain": [
       "  0%|          | 0/632 [00:00<?, ?it/s]"
      ]
     },
     "metadata": {},
     "output_type": "display_data"
    },
    {
     "data": {
      "application/vnd.jupyter.widget-view+json": {
       "model_id": "66919fa8e95348c3944c1fa20be18b3c",
       "version_major": 2,
       "version_minor": 0
      },
      "text/plain": [
       "  0%|          | 0/632 [00:00<?, ?it/s]"
      ]
     },
     "metadata": {},
     "output_type": "display_data"
    },
    {
     "data": {
      "application/vnd.jupyter.widget-view+json": {
       "model_id": "2d2d09bf58fc48aabd86cb35a8ad091b",
       "version_major": 2,
       "version_minor": 0
      },
      "text/plain": [
       "  0%|          | 0/632 [00:00<?, ?it/s]"
      ]
     },
     "metadata": {},
     "output_type": "display_data"
    },
    {
     "data": {
      "application/vnd.jupyter.widget-view+json": {
       "model_id": "6ad1bc585b4b40f99991fcac3d48e8ed",
       "version_major": 2,
       "version_minor": 0
      },
      "text/plain": [
       "  0%|          | 0/632 [00:00<?, ?it/s]"
      ]
     },
     "metadata": {},
     "output_type": "display_data"
    },
    {
     "data": {
      "application/vnd.jupyter.widget-view+json": {
       "model_id": "fdabc215958a4c41baa34fb13c4d6641",
       "version_major": 2,
       "version_minor": 0
      },
      "text/plain": [
       "  0%|          | 0/632 [00:00<?, ?it/s]"
      ]
     },
     "metadata": {},
     "output_type": "display_data"
    },
    {
     "data": {
      "application/vnd.jupyter.widget-view+json": {
       "model_id": "35300f1a7c6b4cdda8823744bae737be",
       "version_major": 2,
       "version_minor": 0
      },
      "text/plain": [
       "  0%|          | 0/632 [00:00<?, ?it/s]"
      ]
     },
     "metadata": {},
     "output_type": "display_data"
    },
    {
     "data": {
      "application/vnd.jupyter.widget-view+json": {
       "model_id": "863360b7098f42449966355f1319d059",
       "version_major": 2,
       "version_minor": 0
      },
      "text/plain": [
       "  0%|          | 0/632 [00:00<?, ?it/s]"
      ]
     },
     "metadata": {},
     "output_type": "display_data"
    },
    {
     "data": {
      "application/vnd.jupyter.widget-view+json": {
       "model_id": "db74410d6d344505a13f0bd2bdb768ea",
       "version_major": 2,
       "version_minor": 0
      },
      "text/plain": [
       "  0%|          | 0/632 [00:00<?, ?it/s]"
      ]
     },
     "metadata": {},
     "output_type": "display_data"
    },
    {
     "data": {
      "application/vnd.jupyter.widget-view+json": {
       "model_id": "b6dfbf661abf423f86276f1cfde4999a",
       "version_major": 2,
       "version_minor": 0
      },
      "text/plain": [
       "  0%|          | 0/632 [00:00<?, ?it/s]"
      ]
     },
     "metadata": {},
     "output_type": "display_data"
    },
    {
     "data": {
      "application/vnd.jupyter.widget-view+json": {
       "model_id": "adedc096be8c41d089ec69dadb2b3959",
       "version_major": 2,
       "version_minor": 0
      },
      "text/plain": [
       "  0%|          | 0/632 [00:00<?, ?it/s]"
      ]
     },
     "metadata": {},
     "output_type": "display_data"
    },
    {
     "data": {
      "application/vnd.jupyter.widget-view+json": {
       "model_id": "636056e808fe42ae8277382461830790",
       "version_major": 2,
       "version_minor": 0
      },
      "text/plain": [
       "  0%|          | 0/632 [00:00<?, ?it/s]"
      ]
     },
     "metadata": {},
     "output_type": "display_data"
    },
    {
     "data": {
      "application/vnd.jupyter.widget-view+json": {
       "model_id": "5fc6dcddcf794c61af498b9914889f66",
       "version_major": 2,
       "version_minor": 0
      },
      "text/plain": [
       "  0%|          | 0/632 [00:00<?, ?it/s]"
      ]
     },
     "metadata": {},
     "output_type": "display_data"
    },
    {
     "data": {
      "application/vnd.jupyter.widget-view+json": {
       "model_id": "07aad1305a0d40a29e26df31193a0863",
       "version_major": 2,
       "version_minor": 0
      },
      "text/plain": [
       "  0%|          | 0/632 [00:00<?, ?it/s]"
      ]
     },
     "metadata": {},
     "output_type": "display_data"
    },
    {
     "data": {
      "application/vnd.jupyter.widget-view+json": {
       "model_id": "02b6be8952c641738a844893b484c4ad",
       "version_major": 2,
       "version_minor": 0
      },
      "text/plain": [
       "  0%|          | 0/632 [00:00<?, ?it/s]"
      ]
     },
     "metadata": {},
     "output_type": "display_data"
    },
    {
     "data": {
      "application/vnd.jupyter.widget-view+json": {
       "model_id": "6556bb23752c40f5a0d76a251855cfd5",
       "version_major": 2,
       "version_minor": 0
      },
      "text/plain": [
       "  0%|          | 0/632 [00:00<?, ?it/s]"
      ]
     },
     "metadata": {},
     "output_type": "display_data"
    }
   ],
   "source": [
    "probs_alg_2 = np.zeros((len(ns), len(dists)))\n",
    "for i, dist in enumerate(dists):\n",
    "    for j, n in enumerate(ns):\n",
    "        probs_alg_2[j, i] = prob_of_failure(algorithm_2, n, dist, alpha, eps)"
   ]
  },
  {
   "cell_type": "code",
   "execution_count": 23,
   "id": "644902a6-b007-474a-b801-cc3d856e3d91",
   "metadata": {},
   "outputs": [
    {
     "data": {
      "image/png": "[encoded data removed]",
      "text/plain": [
       "<Figure size 640x480 with 1 Axes>"
      ]
     },
     "metadata": {},
     "output_type": "display_data"
    }
   ],
   "source": [
    "plot_probs_of_failure(probs_alg_2, alpha)\n",
    "plt.title(\"Probability of failure for Algorithm 2\");"
   ]
  }
 ],
 "metadata": {
  "kernelspec": {
   "display_name": "Python 3 (ipykernel)",
   "language": "python",
   "name": "python3"
  },
  "language_info": {
   "codemirror_mode": {
    "name": "ipython",
    "version": 3
   },
   "file_extension": ".py",
   "mimetype": "text/x-python",
   "name": "python",
   "nbconvert_exporter": "python",
   "pygments_lexer": "ipython3",
   "version": "3.10.12"
  },
  "widgets": {
   "application/vnd.jupyter.widget-state+json": {
    "state": {
     "0055d95c73ba439fbf83fa09b7f29e58": {
      "model_module": "@jupyter-widgets/base",
      "model_module_version": "2.0.0",
      "model_name": "LayoutModel",
      "state": {}
     },
     "00e6e3b1ce20486a97bd8d09f57c5696": {
      "model_module": "@jupyter-widgets/base",
      "model_module_version": "2.0.0",
      "model_name": "LayoutModel",
      "state": {}
     },
     "010f4bf1006946f3b902cca4ca7ce307": {
      "model_module": "@jupyter-widgets/controls",
      "model_module_version": "2.0.0",
      "model_name": "HTMLModel",
      "state": {
       "layout": "IPY_MODEL_1ab4430abe96448d9220246fd5395685",
       "style": "IPY_MODEL_733cf6766c364787bd4199b6a9613b63",
       "value": "100%"
      }
     },
     "029ddedfd02845e6b9e9609e9f76e5d4": {
      "model_module": "@jupyter-widgets/base",
      "model_module_version": "2.0.0",
      "model_name": "LayoutModel",
      "state": {}
     },
     "02b6be8952c641738a844893b484c4ad": {
      "model_module": "@jupyter-widgets/controls",
      "model_module_version": "2.0.0",
      "model_name": "HBoxModel",
      "state": {
       "children": [
        "IPY_MODEL_9918d3aa5ca84d1495a5838b9846efdd",
        "IPY_MODEL_6c28ef79a2794733ac704f81f07b48ea",
        "IPY_MODEL_9f9e2f3cc47f4170b4dae563980e138c"
       ],
       "layout": "IPY_MODEL_d7421b3942e54d2f8187b146307a5fbc"
      }
     },
     "02e6ffb279ce433284f1bdc15d6726da": {
      "model_module": "@jupyter-widgets/base",
      "model_module_version": "2.0.0",
      "model_name": "LayoutModel",
      "state": {}
     },
     "05229886f1574f50836c17807e2f17ae": {
      "model_module": "@jupyter-widgets/controls",
      "model_module_version": "2.0.0",
      "model_name": "ProgressStyleModel",
      "state": {
       "description_width": ""
      }
     },
     "0561b27d575a499992172ee12a04c87d": {
      "model_module": "@jupyter-widgets/base",
      "model_module_version": "2.0.0",
      "model_name": "LayoutModel",
      "state": {}
     },
     "0578767dffeb49ab90b5e554fd2ecd0a": {
      "model_module": "@jupyter-widgets/base",
      "model_module_version": "2.0.0",
      "model_name": "LayoutModel",
      "state": {}
     },
     "062102b050ae4d5ab6d5a00d526334d3": {
      "model_module": "@jupyter-widgets/base",
      "model_module_version": "2.0.0",
      "model_name": "LayoutModel",
      "state": {}
     },
     "064777800e0f488694c98bbfaeb33d47": {
      "model_module": "@jupyter-widgets/base",
      "model_module_version": "2.0.0",
      "model_name": "LayoutModel",
      "state": {}
     },
     "076523dddee74c68805a90622084325e": {
      "model_module": "@jupyter-widgets/base",
      "model_module_version": "2.0.0",
      "model_name": "LayoutModel",
      "state": {}
     },
     "07aad1305a0d40a29e26df31193a0863": {
      "model_module": "@jupyter-widgets/controls",
      "model_module_version": "2.0.0",
      "model_name": "HBoxModel",
      "state": {
       "children": [
        "IPY_MODEL_3d4324cca2ca4741b4eb497ed82b6d03",
        "IPY_MODEL_f4231a1ca2a241e7af7e0a2be322799e",
        "IPY_MODEL_16e6fa3d12b64c1f95864de2c1f414a9"
       ],
       "layout": "IPY_MODEL_ba71b1231e1b4232a2ff74ade2f00aa3"
      }
     },
     "07eec52cead5483189082bad1849fc46": {
      "model_module": "@jupyter-widgets/base",
      "model_module_version": "2.0.0",
      "model_name": "LayoutModel",
      "state": {}
     },
     "083c5451ffae463bb6c6d5b57afe1420": {
      "model_module": "@jupyter-widgets/base",
      "model_module_version": "2.0.0",
      "model_name": "LayoutModel",
      "state": {}
     },
     "08ea16402d80437989b092ba39f12890": {
      "model_module": "@jupyter-widgets/controls",
      "model_module_version": "2.0.0",
      "model_name": "ProgressStyleModel",
      "state": {
       "description_width": ""
      }
     },
     "094be6e8a5fd44f8b61d41d2d06afe5d": {
      "model_module": "@jupyter-widgets/base",
      "model_module_version": "2.0.0",
      "model_name": "LayoutModel",
      "state": {}
     },
     "0c77e057812e4c5887dff841fd87f3d0": {
      "model_module": "@jupyter-widgets/base",
      "model_module_version": "2.0.0",
      "model_name": "LayoutModel",
      "state": {}
     },
     "0c8e07557876469ebc9bd91085a02be2": {
      "model_module": "@jupyter-widgets/controls",
      "model_module_version": "2.0.0",
      "model_name": "HTMLStyleModel",
      "state": {
       "description_width": "",
       "font_size": null,
       "text_color": null
      }
     },
     "0d27e60c7678446f979fc57721b47f25": {
      "model_module": "@jupyter-widgets/controls",
      "model_module_version": "2.0.0",
      "model_name": "HTMLModel",
      "state": {
       "layout": "IPY_MODEL_67f66a13f76e4caead9fe6fee28c628d",
       "style": "IPY_MODEL_6fce4e5a9259455aa4d9f97915922664",
       "value": "100%"
      }
     },
     "0ebc5e54e7524cbdb036d8c1c8225d0e": {
      "model_module": "@jupyter-widgets/controls",
      "model_module_version": "2.0.0",
      "model_name": "ProgressStyleModel",
      "state": {
       "description_width": ""
      }
     },
     "0f3f8ed58c634f4a9901e1f0d5b703ff": {
      "model_module": "@jupyter-widgets/controls",
      "model_module_version": "2.0.0",
      "model_name": "HTMLModel",
      "state": {
       "layout": "IPY_MODEL_7ac5e7bdf1954248a85af919d876efe3",
       "style": "IPY_MODEL_91d1147df97e4f0090f1693be8ca74bf",
       "value": " 632/632 [00:00&lt;00:00, 4049.14it/s]"
      }
     },
     "119585105c264529b7d3527a1731e820": {
      "model_module": "@jupyter-widgets/base",
      "model_module_version": "2.0.0",
      "model_name": "LayoutModel",
      "state": {}
     },
     "11cb1609feb14881a9270e53e380bd2d": {
      "model_module": "@jupyter-widgets/base",
      "model_module_version": "2.0.0",
      "model_name": "LayoutModel",
      "state": {}
     },
     "1201b603e62d4df0ab8d88c607296c6a": {
      "model_module": "@jupyter-widgets/base",
      "model_module_version": "2.0.0",
      "model_name": "LayoutModel",
      "state": {}
     },
     "133d85c1e4ad4e1e8553c381300825c6": {
      "model_module": "@jupyter-widgets/controls",
      "model_module_version": "2.0.0",
      "model_name": "HTMLModel",
      "state": {
       "layout": "IPY_MODEL_9ad1bf6eed9f4a0ba5aca43240fc94f0",
       "style": "IPY_MODEL_ac95b9b192494cfb970b60a8b0b967f4",
       "value": "100%"
      }
     },
     "13eb762bdf0842d085fc941d7f9f51a9": {
      "model_module": "@jupyter-widgets/base",
      "model_module_version": "2.0.0",
      "model_name": "LayoutModel",
      "state": {}
     },
     "15fbdd4d1c274fa794c808661e143e5f": {
      "model_module": "@jupyter-widgets/base",
      "model_module_version": "2.0.0",
      "model_name": "LayoutModel",
      "state": {}
     },
     "16d5a4157a274110aa89c1a5a86101fc": {
      "model_module": "@jupyter-widgets/base",
      "model_module_version": "2.0.0",
      "model_name": "LayoutModel",
      "state": {}
     },
     "16e6fa3d12b64c1f95864de2c1f414a9": {
      "model_module": "@jupyter-widgets/controls",
      "model_module_version": "2.0.0",
      "model_name": "HTMLModel",
      "state": {
       "layout": "IPY_MODEL_47737d214c9341c9a53efc0df6e5ced2",
       "style": "IPY_MODEL_87584f28975e4255b3781fd8190a8e80",
       "value": " 632/632 [00:05&lt;00:00, 125.91it/s]"
      }
     },
     "19396ef90d59412bbafad98e16a0f871": {
      "model_module": "@jupyter-widgets/base",
      "model_module_version": "2.0.0",
      "model_name": "LayoutModel",
      "state": {}
     },
     "1a962a5996a54ed09a2c7c217f2fc14f": {
      "model_module": "@jupyter-widgets/controls",
      "model_module_version": "2.0.0",
      "model_name": "HTMLModel",
      "state": {
       "layout": "IPY_MODEL_b8ff7193d2c74862b9beaac89e10e5ff",
       "style": "IPY_MODEL_d9350e5e4b8e4eac9ed6a8754d2ba0c2",
       "value": " 632/632 [00:00&lt;00:00, 1973.27it/s]"
      }
     },
     "1ab4430abe96448d9220246fd5395685": {
      "model_module": "@jupyter-widgets/base",
      "model_module_version": "2.0.0",
      "model_name": "LayoutModel",
      "state": {}
     },
     "1b222a21bdc04e2c86c75fe0effde7cb": {
      "model_module": "@jupyter-widgets/base",
      "model_module_version": "2.0.0",
      "model_name": "LayoutModel",
      "state": {}
     },
     "1bf3c7e4fe6240edbf25073328697acd": {
      "model_module": "@jupyter-widgets/controls",
      "model_module_version": "2.0.0",
      "model_name": "HBoxModel",
      "state": {
       "children": [
        "IPY_MODEL_779162c3a1d04f8ba94e673c6a0852ec",
        "IPY_MODEL_afcd53a145b94300a35e3b3203335c5d",
        "IPY_MODEL_2840d77495cf4a5b93a956575a85f496"
       ],
       "layout": "IPY_MODEL_eedd8558fcd7497eb4a0e81c60dee0da"
      }
     },
     "1c9869274eee4c2094de1fd5faa1bbad": {
      "model_module": "@jupyter-widgets/base",
      "model_module_version": "2.0.0",
      "model_name": "LayoutModel",
      "state": {}
     },
     "1ca32157ead24d65ad3a63fbf187d20d": {
      "model_module": "@jupyter-widgets/controls",
      "model_module_version": "2.0.0",
      "model_name": "HTMLModel",
      "state": {
       "layout": "IPY_MODEL_f1f597ee46be4e6599dd661724be61aa",
       "style": "IPY_MODEL_39b905623e0a4c5f8cdb4180be856eba",
       "value": " 632/632 [00:07&lt;00:00, 70.56it/s]"
      }
     },
     "1f20210612844ff18dc0b50689e4d09f": {
      "model_module": "@jupyter-widgets/controls",
      "model_module_version": "2.0.0",
      "model_name": "ProgressStyleModel",
      "state": {
       "description_width": ""
      }
     },
     "1f80ebfde20c41f9aece917aaf424a8d": {
      "model_module": "@jupyter-widgets/base",
      "model_module_version": "2.0.0",
      "model_name": "LayoutModel",
      "state": {}
     },
     "1f9fc66ace6741c089477b3b64516d45": {
      "model_module": "@jupyter-widgets/base",
      "model_module_version": "2.0.0",
      "model_name": "LayoutModel",
      "state": {}
     },
     "21a2240a62ea4d8c8aac30f6f4e57df0": {
      "model_module": "@jupyter-widgets/controls",
      "model_module_version": "2.0.0",
      "model_name": "HTMLModel",
      "state": {
       "layout": "IPY_MODEL_5e66beb320254ffbba590f6528ff0642",
       "style": "IPY_MODEL_7650a785df2e4996b8fc636ea9b9f6f2",
       "value": " 632/632 [01:30&lt;00:00,  7.26it/s]"
      }
     },
     "22cd8ff4072247499c4616197be8dd9e": {
      "model_module": "@jupyter-widgets/base",
      "model_module_version": "2.0.0",
      "model_name": "LayoutModel",
      "state": {}
     },
     "2343719b760047bb9c9e193a57923ddc": {
      "model_module": "@jupyter-widgets/base",
      "model_module_version": "2.0.0",
      "model_name": "LayoutModel",
      "state": {}
     },
     "23ea06f53c9748bb8fe09abca77ae2da": {
      "model_module": "@jupyter-widgets/base",
      "model_module_version": "2.0.0",
      "model_name": "LayoutModel",
      "state": {}
     },
     "246e1d8a671e46a587f706cbf19bf0f3": {
      "model_module": "@jupyter-widgets/controls",
      "model_module_version": "2.0.0",
      "model_name": "HTMLStyleModel",
      "state": {
       "description_width": "",
       "font_size": null,
       "text_color": null
      }
     },
     "248aa9992e3d4803b5bbe713fbf3403b": {
      "model_module": "@jupyter-widgets/controls",
      "model_module_version": "2.0.0",
      "model_name": "HTMLStyleModel",
      "state": {
       "description_width": "",
       "font_size": null,
       "text_color": null
      }
     },
     "25faa92664964a469304d0d358e37a59": {
      "model_module": "@jupyter-widgets/controls",
      "model_module_version": "2.0.0",
      "model_name": "HTMLModel",
      "state": {
       "layout": "IPY_MODEL_4e3cfd1be97144a18eaa0a5b06c2d806",
       "style": "IPY_MODEL_c6dec54e5c4a4175b39e4e2af843aaa0",
       "value": "100%"
      }
     },
     "2840d77495cf4a5b93a956575a85f496": {
      "model_module": "@jupyter-widgets/controls",
      "model_module_version": "2.0.0",
      "model_name": "HTMLModel",
      "state": {
       "layout": "IPY_MODEL_b94101c935144db2997654aecc4fdfe7",
       "style": "IPY_MODEL_51ccd29f64334877b0d71f5734f638fb",
       "value": " 632/632 [00:00&lt;00:00, 3098.17it/s]"
      }
     },
     "28caae7697d24744bdd541e11c169620": {
      "model_module": "@jupyter-widgets/controls",
      "model_module_version": "2.0.0",
      "model_name": "HBoxModel",
      "state": {
       "children": [
        "IPY_MODEL_133d85c1e4ad4e1e8553c381300825c6",
        "IPY_MODEL_9db6f316151942178a12855e6f21ea27",
        "IPY_MODEL_3e4c74f17bdf4e88ad36ec15584788f2"
       ],
       "layout": "IPY_MODEL_a635697c6eee455586267a3ea2ac1358"
      }
     },
     "2930032dc12547bdb33dc9d311e0e3ea": {
      "model_module": "@jupyter-widgets/base",
      "model_module_version": "2.0.0",
      "model_name": "LayoutModel",
      "state": {}
     },
     "2b1888bdba074852b85c2a8611bcd4e6": {
      "model_module": "@jupyter-widgets/controls",
      "model_module_version": "2.0.0",
      "model_name": "HTMLStyleModel",
      "state": {
       "description_width": "",
       "font_size": null,
       "text_color": null
      }
     },
     "2bd40dddfd484ea59e07c27489c35947": {
      "model_module": "@jupyter-widgets/controls",
      "model_module_version": "2.0.0",
      "model_name": "HTMLModel",
      "state": {
       "layout": "IPY_MODEL_676924a76dc54f3b96f6aac7e4aebb19",
       "style": "IPY_MODEL_cdabf39fd67b4f90ac2eee272556956b",
       "value": "100%"
      }
     },
     "2ca2bedb3236427c9b8412e92a62e8d2": {
      "model_module": "@jupyter-widgets/controls",
      "model_module_version": "2.0.0",
      "model_name": "HTMLStyleModel",
      "state": {
       "description_width": "",
       "font_size": null,
       "text_color": null
      }
     },
     "2d2d09bf58fc48aabd86cb35a8ad091b": {
      "model_module": "@jupyter-widgets/controls",
      "model_module_version": "2.0.0",
      "model_name": "HBoxModel",
      "state": {
       "children": [
        "IPY_MODEL_713c20c7e19b4e38a0ac8effb4079e6e",
        "IPY_MODEL_5d39df4804e34d508c2c50bfe3f0502c",
        "IPY_MODEL_4d223ceb81d14519be2102f5e40b9074"
       ],
       "layout": "IPY_MODEL_0c77e057812e4c5887dff841fd87f3d0"
      }
     },
     "2d4a4baab0bf4eef9f7381f8905ee73c": {
      "model_module": "@jupyter-widgets/base",
      "model_module_version": "2.0.0",
      "model_name": "LayoutModel",
      "state": {}
     },
     "2d6a4737212a4b5d931bdab7e7633773": {
      "model_module": "@jupyter-widgets/controls",
      "model_module_version": "2.0.0",
      "model_name": "FloatProgressModel",
      "state": {
       "bar_style": "success",
       "layout": "IPY_MODEL_f85995b1c60f403fbc7bd52a24d36644",
       "max": 632,
       "style": "IPY_MODEL_3c03687e71cd4c3aa64c45cca942e5a7",
       "value": 632
      }
     },
     "2dcc05031339486d8515856b6ed14331": {
      "model_module": "@jupyter-widgets/controls",
      "model_module_version": "2.0.0",
      "model_name": "ProgressStyleModel",
      "state": {
       "description_width": ""
      }
     },
     "2ec9a122eb1f43bdb997949bceea9344": {
      "model_module": "@jupyter-widgets/base",
      "model_module_version": "2.0.0",
      "model_name": "LayoutModel",
      "state": {}
     },
     "3041a033d0ba4645a45dc57152c6f991": {
      "model_module": "@jupyter-widgets/base",
      "model_module_version": "2.0.0",
      "model_name": "LayoutModel",
      "state": {}
     },
     "325938e8eca845d8aa1a3a0cfc9846ca": {
      "model_module": "@jupyter-widgets/controls",
      "model_module_version": "2.0.0",
      "model_name": "HTMLModel",
      "state": {
       "layout": "IPY_MODEL_473c00823c8b4d2f961eb02c25603e62",
       "style": "IPY_MODEL_7649124c777a43429d930348386de837",
       "value": "100%"
      }
     },
     "3265a0d12b4c4f369ce9eb62f40e4d99": {
      "model_module": "@jupyter-widgets/controls",
      "model_module_version": "2.0.0",
      "model_name": "FloatProgressModel",
      "state": {
       "bar_style": "success",
       "layout": "IPY_MODEL_86bfe40788884f36a03764368df2da29",
       "max": 632,
       "style": "IPY_MODEL_52d3ab4a476048cf9b9fd31ef2c83d6c",
       "value": 632
      }
     },
     "32dc43739084495facddd13f6e5e2baa": {
      "model_module": "@jupyter-widgets/base",
      "model_module_version": "2.0.0",
      "model_name": "LayoutModel",
      "state": {}
     },
     "351ad0b15c2e448a917924003a454adf": {
      "model_module": "@jupyter-widgets/controls",
      "model_module_version": "2.0.0",
      "model_name": "HBoxModel",
      "state": {
       "children": [
        "IPY_MODEL_5074f138533041639adb1108a9d02942",
        "IPY_MODEL_bd4c0b41dcb64ca18eb06f760ec97a28",
        "IPY_MODEL_d1e51e11c0e14f3c878a9f44b9fbf3e7"
       ],
       "layout": "IPY_MODEL_f3824232f13942d383dd73b16aa7240e"
      }
     },
     "35300f1a7c6b4cdda8823744bae737be": {
      "model_module": "@jupyter-widgets/controls",
      "model_module_version": "2.0.0",
      "model_name": "HBoxModel",
      "state": {
       "children": [
        "IPY_MODEL_8486a721371e4815ae4a9b6c606eb23b",
        "IPY_MODEL_e95e316da0344545a85970abd49378d6",
        "IPY_MODEL_c521730c67db46c2b06d48e86b2c2e64"
       ],
       "layout": "IPY_MODEL_c6ccccf3875a4830afa676581b1a2fdb"
      }
     },
     "3538ffe655eb48f4b0f5ec1d9da748ee": {
      "model_module": "@jupyter-widgets/controls",
      "model_module_version": "2.0.0",
      "model_name": "HTMLModel",
      "state": {
       "layout": "IPY_MODEL_982e05c697464df1951ae08c24a73b81",
       "style": "IPY_MODEL_e55fddeb0d4f40fb9ee7867a69e3b8fa",
       "value": "100%"
      }
     },
     "357c4ffc1a9e42ac8306d2a57c2969df": {
      "model_module": "@jupyter-widgets/controls",
      "model_module_version": "2.0.0",
      "model_name": "HTMLStyleModel",
      "state": {
       "description_width": "",
       "font_size": null,
       "text_color": null
      }
     },
     "35cd543dde124d68a75131fa76722cb8": {
      "model_module": "@jupyter-widgets/controls",
      "model_module_version": "2.0.0",
      "model_name": "FloatProgressModel",
      "state": {
       "bar_style": "success",
       "layout": "IPY_MODEL_93b358a4ac814fcbb0affb0a95cebce3",
       "max": 632,
       "style": "IPY_MODEL_7aff1f0ef9f24073bb4f1a7eaa243592",
       "value": 632
      }
     },
     "370b9cb6a0dd435787ce95e2b2390ae0": {
      "model_module": "@jupyter-widgets/base",
      "model_module_version": "2.0.0",
      "model_name": "LayoutModel",
      "state": {}
     },
     "37587f40682742c285c893faf3e94a0b": {
      "model_module": "@jupyter-widgets/controls",
      "model_module_version": "2.0.0",
      "model_name": "ProgressStyleModel",
      "state": {
       "description_width": ""
      }
     },
     "38d8afeb36424eb397b140071159f205": {
      "model_module": "@jupyter-widgets/controls",
      "model_module_version": "2.0.0",
      "model_name": "HTMLStyleModel",
      "state": {
       "description_width": "",
       "font_size": null,
       "text_color": null
      }
     },
     "39b905623e0a4c5f8cdb4180be856eba": {
      "model_module": "@jupyter-widgets/controls",
      "model_module_version": "2.0.0",
      "model_name": "HTMLStyleModel",
      "state": {
       "description_width": "",
       "font_size": null,
       "text_color": null
      }
     },
     "3b92d985990144b3b1dad0bb259819af": {
      "model_module": "@jupyter-widgets/controls",
      "model_module_version": "2.0.0",
      "model_name": "HTMLModel",
      "state": {
       "layout": "IPY_MODEL_c3c02506b714434a8352e7550e3bed3d",
       "style": "IPY_MODEL_e78c72fe7ec5437d80dc0150733eba81",
       "value": "100%"
      }
     },
     "3c03687e71cd4c3aa64c45cca942e5a7": {
      "model_module": "@jupyter-widgets/controls",
      "model_module_version": "2.0.0",
      "model_name": "ProgressStyleModel",
      "state": {
       "description_width": ""
      }
     },
     "3c82f7e0142d49c59dc94c23d6885ebe": {
      "model_module": "@jupyter-widgets/controls",
      "model_module_version": "2.0.0",
      "model_name": "HTMLStyleModel",
      "state": {
       "description_width": "",
       "font_size": null,
       "text_color": null
      }
     },
     "3ca30148cd71474f9d72000812cc34ee": {
      "model_module": "@jupyter-widgets/base",
      "model_module_version": "2.0.0",
      "model_name": "LayoutModel",
      "state": {}
     },
     "3cae729a2f5a4bbb8211edba9d69124f": {
      "model_module": "@jupyter-widgets/controls",
      "model_module_version": "2.0.0",
      "model_name": "HTMLStyleModel",
      "state": {
       "description_width": "",
       "font_size": null,
       "text_color": null
      }
     },
     "3d4324cca2ca4741b4eb497ed82b6d03": {
      "model_module": "@jupyter-widgets/controls",
      "model_module_version": "2.0.0",
      "model_name": "HTMLModel",
      "state": {
       "layout": "IPY_MODEL_22cd8ff4072247499c4616197be8dd9e",
       "style": "IPY_MODEL_3c82f7e0142d49c59dc94c23d6885ebe",
       "value": "100%"
      }
     },
     "3e4c74f17bdf4e88ad36ec15584788f2": {
      "model_module": "@jupyter-widgets/controls",
      "model_module_version": "2.0.0",
      "model_name": "HTMLModel",
      "state": {
       "layout": "IPY_MODEL_68372e4fe6194316b1ba0abd9ad76841",
       "style": "IPY_MODEL_cbc14045c7b04180ae7f7d96a8aa0f95",
       "value": " 632/632 [00:07&lt;00:00, 81.93it/s]"
      }
     },
     "3f00cfad60394ad0bc6f5788d5fe8ce4": {
      "model_module": "@jupyter-widgets/base",
      "model_module_version": "2.0.0",
      "model_name": "LayoutModel",
      "state": {}
     },
     "3fe0285e11b4494195fcb20a6783ff5a": {
      "model_module": "@jupyter-widgets/controls",
      "model_module_version": "2.0.0",
      "model_name": "HTMLStyleModel",
      "state": {
       "description_width": "",
       "font_size": null,
       "text_color": null
      }
     },
     "408f5acdea7042a094ff0bc80f650b37": {
      "model_module": "@jupyter-widgets/base",
      "model_module_version": "2.0.0",
      "model_name": "LayoutModel",
      "state": {}
     },
     "42880577c85244bc9b04c84318736612": {
      "model_module": "@jupyter-widgets/base",
      "model_module_version": "2.0.0",
      "model_name": "LayoutModel",
      "state": {}
     },
     "45b2c8580e86415896581abbcea17203": {
      "model_module": "@jupyter-widgets/controls",
      "model_module_version": "2.0.0",
      "model_name": "HTMLStyleModel",
      "state": {
       "description_width": "",
       "font_size": null,
       "text_color": null
      }
     },
     "467860dc38c841e885558cae858f0f13": {
      "model_module": "@jupyter-widgets/controls",
      "model_module_version": "2.0.0",
      "model_name": "ProgressStyleModel",
      "state": {
       "description_width": ""
      }
     },
     "4695a5f6607a475a84ecd410ba69f156": {
      "model_module": "@jupyter-widgets/base",
      "model_module_version": "2.0.0",
      "model_name": "LayoutModel",
      "state": {}
     },
     "46b16a9bb47943c0a80180d04b3cd555": {
      "model_module": "@jupyter-widgets/base",
      "model_module_version": "2.0.0",
      "model_name": "LayoutModel",
      "state": {}
     },
     "46cc3c4b9573493bacfda19791d2c010": {
      "model_module": "@jupyter-widgets/controls",
      "model_module_version": "2.0.0",
      "model_name": "HTMLStyleModel",
      "state": {
       "description_width": "",
       "font_size": null,
       "text_color": null
      }
     },
     "473c00823c8b4d2f961eb02c25603e62": {
      "model_module": "@jupyter-widgets/base",
      "model_module_version": "2.0.0",
      "model_name": "LayoutModel",
      "state": {}
     },
     "47737d214c9341c9a53efc0df6e5ced2": {
      "model_module": "@jupyter-widgets/base",
      "model_module_version": "2.0.0",
      "model_name": "LayoutModel",
      "state": {}
     },
     "478c950e54a046eabf674e5dc45f9a8f": {
      "model_module": "@jupyter-widgets/base",
      "model_module_version": "2.0.0",
      "model_name": "LayoutModel",
      "state": {}
     },
     "48017304a0e3411f851f079e856aecd7": {
      "model_module": "@jupyter-widgets/controls",
      "model_module_version": "2.0.0",
      "model_name": "HTMLModel",
      "state": {
       "layout": "IPY_MODEL_99c2a8dfb03042778a338f4f52897e85",
       "style": "IPY_MODEL_a217ddfdf4404a0faaeb14198d49e75e",
       "value": "100%"
      }
     },
     "482d979e4a53422c90ad85b9034c682c": {
      "model_module": "@jupyter-widgets/controls",
      "model_module_version": "2.0.0",
      "model_name": "HTMLStyleModel",
      "state": {
       "description_width": "",
       "font_size": null,
       "text_color": null
      }
     },
     "49752e5e9faf4f8ea391d0f444683004": {
      "model_module": "@jupyter-widgets/controls",
      "model_module_version": "2.0.0",
      "model_name": "HTMLStyleModel",
      "state": {
       "description_width": "",
       "font_size": null,
       "text_color": null
      }
     },
     "4b2f0c534acb45299c9e5a705af4a4c5": {
      "model_module": "@jupyter-widgets/controls",
      "model_module_version": "2.0.0",
      "model_name": "HTMLModel",
      "state": {
       "layout": "IPY_MODEL_d9091e80e8b14d069ae6ad9ded3bcde6",
       "style": "IPY_MODEL_3cae729a2f5a4bbb8211edba9d69124f",
       "value": " 632/632 [00:05&lt;00:00, 118.71it/s]"
      }
     },
     "4c8dd93c3e8042ef844d633f065462b0": {
      "model_module": "@jupyter-widgets/controls",
      "model_module_version": "2.0.0",
      "model_name": "HTMLStyleModel",
      "state": {
       "description_width": "",
       "font_size": null,
       "text_color": null
      }
     },
     "4cb05e6d52fd40aa965fa25ab2279151": {
      "model_module": "@jupyter-widgets/controls",
      "model_module_version": "2.0.0",
      "model_name": "HTMLModel",
      "state": {
       "layout": "IPY_MODEL_15fbdd4d1c274fa794c808661e143e5f",
       "style": "IPY_MODEL_84441ec0bd234453b0bc3c00d44901ca",
       "value": "100%"
      }
     },
     "4d223ceb81d14519be2102f5e40b9074": {
      "model_module": "@jupyter-widgets/controls",
      "model_module_version": "2.0.0",
      "model_name": "HTMLModel",
      "state": {
       "layout": "IPY_MODEL_89dedeb70b3e4e009d54dfb041e06ab2",
       "style": "IPY_MODEL_565bf03d89984bbdb8c4ea058bb6d610",
       "value": " 632/632 [00:07&lt;00:00, 82.71it/s]"
      }
     },
     "4de7cea225b24f92b3a6a688b6057796": {
      "model_module": "@jupyter-widgets/base",
      "model_module_version": "2.0.0",
      "model_name": "LayoutModel",
      "state": {}
     },
     "4e3cfd1be97144a18eaa0a5b06c2d806": {
      "model_module": "@jupyter-widgets/base",
      "model_module_version": "2.0.0",
      "model_name": "LayoutModel",
      "state": {}
     },
     "506a7491b2404fb587f6c26a6a8f04a6": {
      "model_module": "@jupyter-widgets/base",
      "model_module_version": "2.0.0",
      "model_name": "LayoutModel",
      "state": {}
     },
     "5074f138533041639adb1108a9d02942": {
      "model_module": "@jupyter-widgets/controls",
      "model_module_version": "2.0.0",
      "model_name": "HTMLModel",
      "state": {
       "layout": "IPY_MODEL_1c9869274eee4c2094de1fd5faa1bbad",
       "style": "IPY_MODEL_7e79f65f0e5e4e5998150a7b4c8b8fc3",
       "value": "100%"
      }
     },
     "51409859c4794900b620bbdc1098c26b": {
      "model_module": "@jupyter-widgets/controls",
      "model_module_version": "2.0.0",
      "model_name": "HTMLModel",
      "state": {
       "layout": "IPY_MODEL_07eec52cead5483189082bad1849fc46",
       "style": "IPY_MODEL_634aa8bf02f44800813f49dbcf54e515",
       "value": "100%"
      }
     },
     "51a59def29e043f39a470a8f8297f3db": {
      "model_module": "@jupyter-widgets/controls",
      "model_module_version": "2.0.0",
      "model_name": "ProgressStyleModel",
      "state": {
       "description_width": ""
      }
     },
     "51ccd29f64334877b0d71f5734f638fb": {
      "model_module": "@jupyter-widgets/controls",
      "model_module_version": "2.0.0",
      "model_name": "HTMLStyleModel",
      "state": {
       "description_width": "",
       "font_size": null,
       "text_color": null
      }
     },
     "52d3ab4a476048cf9b9fd31ef2c83d6c": {
      "model_module": "@jupyter-widgets/controls",
      "model_module_version": "2.0.0",
      "model_name": "ProgressStyleModel",
      "state": {
       "description_width": ""
      }
     },
     "55e798c815274db2a688e47428d3a8ba": {
      "model_module": "@jupyter-widgets/base",
      "model_module_version": "2.0.0",
      "model_name": "LayoutModel",
      "state": {}
     },
     "565bf03d89984bbdb8c4ea058bb6d610": {
      "model_module": "@jupyter-widgets/controls",
      "model_module_version": "2.0.0",
      "model_name": "HTMLStyleModel",
      "state": {
       "description_width": "",
       "font_size": null,
       "text_color": null
      }
     },
     "5692474d8afa47b59264cbfca6ced475": {
      "model_module": "@jupyter-widgets/controls",
      "model_module_version": "2.0.0",
      "model_name": "HBoxModel",
      "state": {
       "children": [
        "IPY_MODEL_5ffcd334e40d4308a20facfc0920746f",
        "IPY_MODEL_809f7cbfc5f04290b7d5b24b1da5a61a",
        "IPY_MODEL_e336d4a57e2045aca698e13d626af9f2"
       ],
       "layout": "IPY_MODEL_3f00cfad60394ad0bc6f5788d5fe8ce4"
      }
     },
     "56bfc2ad7596485f89b400af89559b49": {
      "model_module": "@jupyter-widgets/base",
      "model_module_version": "2.0.0",
      "model_name": "LayoutModel",
      "state": {}
     },
     "59e7af3f62a94ed8b150ea1c0c368ed1": {
      "model_module": "@jupyter-widgets/base",
      "model_module_version": "2.0.0",
      "model_name": "LayoutModel",
      "state": {}
     },
     "5ab288f6c49549ae961c3253d5f870a3": {
      "model_module": "@jupyter-widgets/base",
      "model_module_version": "2.0.0",
      "model_name": "LayoutModel",
      "state": {}
     },
     "5c958c5ba22f41f1918ae3d3dc70374a": {
      "model_module": "@jupyter-widgets/controls",
      "model_module_version": "2.0.0",
      "model_name": "HTMLModel",
      "state": {
       "layout": "IPY_MODEL_c2801af2e09d45aca6556698dd5f3a26",
       "style": "IPY_MODEL_d9624709d8a642219714aa11b4a1d4c4",
       "value": " 632/632 [00:08&lt;00:00, 95.68it/s]"
      }
     },
     "5d39df4804e34d508c2c50bfe3f0502c": {
      "model_module": "@jupyter-widgets/controls",
      "model_module_version": "2.0.0",
      "model_name": "FloatProgressModel",
      "state": {
       "bar_style": "success",
       "layout": "IPY_MODEL_d560fb83072e4be493ad8bd62cfdcea0",
       "max": 632,
       "style": "IPY_MODEL_fd144d316d3f48e7912cd4df05d3305a",
       "value": 632
      }
     },
     "5e66beb320254ffbba590f6528ff0642": {
      "model_module": "@jupyter-widgets/base",
      "model_module_version": "2.0.0",
      "model_name": "LayoutModel",
      "state": {}
     },
     "5f76c50c4bd1434d9026f0525d9382b0": {
      "model_module": "@jupyter-widgets/base",
      "model_module_version": "2.0.0",
      "model_name": "LayoutModel",
      "state": {}
     },
     "5fc3d9593e0c40f3bc7217ec97930c5f": {
      "model_module": "@jupyter-widgets/base",
      "model_module_version": "2.0.0",
      "model_name": "LayoutModel",
      "state": {}
     },
     "5fc6dcddcf794c61af498b9914889f66": {
      "model_module": "@jupyter-widgets/controls",
      "model_module_version": "2.0.0",
      "model_name": "HBoxModel",
      "state": {
       "children": [
        "IPY_MODEL_48017304a0e3411f851f079e856aecd7",
        "IPY_MODEL_667d6512275c4a1986c258becb9a9f25",
        "IPY_MODEL_4b2f0c534acb45299c9e5a705af4a4c5"
       ],
       "layout": "IPY_MODEL_3ca30148cd71474f9d72000812cc34ee"
      }
     },
     "5fd1641c267449d9bd7db96a2eb68c2e": {
      "model_module": "@jupyter-widgets/controls",
      "model_module_version": "2.0.0",
      "model_name": "ProgressStyleModel",
      "state": {
       "description_width": ""
      }
     },
     "5ffcd334e40d4308a20facfc0920746f": {
      "model_module": "@jupyter-widgets/controls",
      "model_module_version": "2.0.0",
      "model_name": "HTMLModel",
      "state": {
       "layout": "IPY_MODEL_fd197cd507fb4a75b9aad5c153e317ef",
       "style": "IPY_MODEL_7f8e18bb9206464a81b6b1e74c5955da",
       "value": "100%"
      }
     },
     "601a0aaefa054b3983e6a67142c70dd7": {
      "model_module": "@jupyter-widgets/controls",
      "model_module_version": "2.0.0",
      "model_name": "FloatProgressModel",
      "state": {
       "bar_style": "success",
       "layout": "IPY_MODEL_878c79ca5b624f6ab25c217b512c46de",
       "max": 632,
       "style": "IPY_MODEL_d47727410c28476db30a6730d421c2c6",
       "value": 632
      }
     },
     "60b0e5e6dc374feea96aace7e41204fb": {
      "model_module": "@jupyter-widgets/controls",
      "model_module_version": "2.0.0",
      "model_name": "HTMLModel",
      "state": {
       "layout": "IPY_MODEL_119585105c264529b7d3527a1731e820",
       "style": "IPY_MODEL_e29ed675c3df4ba79e7af08110f3d7bf",
       "value": "100%"
      }
     },
     "60da0c7f08604f36975a310ce83b7b71": {
      "model_module": "@jupyter-widgets/controls",
      "model_module_version": "2.0.0",
      "model_name": "HTMLStyleModel",
      "state": {
       "description_width": "",
       "font_size": null,
       "text_color": null
      }
     },
     "612038db6db24553aca1eeb48d2b3778": {
      "model_module": "@jupyter-widgets/controls",
      "model_module_version": "2.0.0",
      "model_name": "HTMLModel",
      "state": {
       "layout": "IPY_MODEL_59e7af3f62a94ed8b150ea1c0c368ed1",
       "style": "IPY_MODEL_d7b3c84e8def464ab0822a250a8502b5",
       "value": " 632/632 [01:30&lt;00:00,  7.27it/s]"
      }
     },
     "61e8303b224f42ee98f1640b23636605": {
      "model_module": "@jupyter-widgets/controls",
      "model_module_version": "2.0.0",
      "model_name": "FloatProgressModel",
      "state": {
       "bar_style": "success",
       "layout": "IPY_MODEL_c389186781114a9f9a366fe724667239",
       "max": 632,
       "style": "IPY_MODEL_b971d02ebcb14a48a096bd4555af632f",
       "value": 632
      }
     },
     "62647c0906bb4dbea145e1a31f82edb6": {
      "model_module": "@jupyter-widgets/base",
      "model_module_version": "2.0.0",
      "model_name": "LayoutModel",
      "state": {}
     },
     "627b6a988c9c49e2ab32b5f02b67620b": {
      "model_module": "@jupyter-widgets/controls",
      "model_module_version": "2.0.0",
      "model_name": "ProgressStyleModel",
      "state": {
       "description_width": ""
      }
     },
     "629ddeb47ce24643afcf7ea411239aca": {
      "model_module": "@jupyter-widgets/base",
      "model_module_version": "2.0.0",
      "model_name": "LayoutModel",
      "state": {}
     },
     "634aa8bf02f44800813f49dbcf54e515": {
      "model_module": "@jupyter-widgets/controls",
      "model_module_version": "2.0.0",
      "model_name": "HTMLStyleModel",
      "state": {
       "description_width": "",
       "font_size": null,
       "text_color": null
      }
     },
     "636056e808fe42ae8277382461830790": {
      "model_module": "@jupyter-widgets/controls",
      "model_module_version": "2.0.0",
      "model_name": "HBoxModel",
      "state": {
       "children": [
        "IPY_MODEL_3b92d985990144b3b1dad0bb259819af",
        "IPY_MODEL_7b1799ab54bf4622835a760e118f4f4b",
        "IPY_MODEL_7e1aba344acf418ea1c87b1de71663cf"
       ],
       "layout": "IPY_MODEL_7078d42efcea4c6f9b8fba9a7540a747"
      }
     },
     "648f247e4e154754b5c824c7a8254802": {
      "model_module": "@jupyter-widgets/controls",
      "model_module_version": "2.0.0",
      "model_name": "HBoxModel",
      "state": {
       "children": [
        "IPY_MODEL_325938e8eca845d8aa1a3a0cfc9846ca",
        "IPY_MODEL_35cd543dde124d68a75131fa76722cb8",
        "IPY_MODEL_d159f7686ce044bcb0fb34236b7d6e49"
       ],
       "layout": "IPY_MODEL_9b06959290f14c81b8e6b1cc9f959b79"
      }
     },
     "6556bb23752c40f5a0d76a251855cfd5": {
      "model_module": "@jupyter-widgets/controls",
      "model_module_version": "2.0.0",
      "model_name": "HBoxModel",
      "state": {
       "children": [
        "IPY_MODEL_4cb05e6d52fd40aa965fa25ab2279151",
        "IPY_MODEL_89379055692349feabdf3a9be3896992",
        "IPY_MODEL_b1299392bc88482998ba5b56a1d3cd02"
       ],
       "layout": "IPY_MODEL_408f5acdea7042a094ff0bc80f650b37"
      }
     },
     "667d6512275c4a1986c258becb9a9f25": {
      "model_module": "@jupyter-widgets/controls",
      "model_module_version": "2.0.0",
      "model_name": "FloatProgressModel",
      "state": {
       "bar_style": "success",
       "layout": "IPY_MODEL_064777800e0f488694c98bbfaeb33d47",
       "max": 632,
       "style": "IPY_MODEL_05229886f1574f50836c17807e2f17ae",
       "value": 632
      }
     },
     "66919fa8e95348c3944c1fa20be18b3c": {
      "model_module": "@jupyter-widgets/controls",
      "model_module_version": "2.0.0",
      "model_name": "HBoxModel",
      "state": {
       "children": [
        "IPY_MODEL_716eccd19f254cfaaddb27c4256e5a8a",
        "IPY_MODEL_c822cfcff5954c8988c8365eb8dcc9ee",
        "IPY_MODEL_5c958c5ba22f41f1918ae3d3dc70374a"
       ],
       "layout": "IPY_MODEL_3041a033d0ba4645a45dc57152c6f991"
      }
     },
     "66fd21c07f0a47f9a65578f15081bfe4": {
      "model_module": "@jupyter-widgets/controls",
      "model_module_version": "2.0.0",
      "model_name": "HTMLModel",
      "state": {
       "layout": "IPY_MODEL_1201b603e62d4df0ab8d88c607296c6a",
       "style": "IPY_MODEL_45b2c8580e86415896581abbcea17203",
       "value": "100%"
      }
     },
     "676924a76dc54f3b96f6aac7e4aebb19": {
      "model_module": "@jupyter-widgets/base",
      "model_module_version": "2.0.0",
      "model_name": "LayoutModel",
      "state": {}
     },
     "67f66a13f76e4caead9fe6fee28c628d": {
      "model_module": "@jupyter-widgets/base",
      "model_module_version": "2.0.0",
      "model_name": "LayoutModel",
      "state": {}
     },
     "68372e4fe6194316b1ba0abd9ad76841": {
      "model_module": "@jupyter-widgets/base",
      "model_module_version": "2.0.0",
      "model_name": "LayoutModel",
      "state": {}
     },
     "68a298d6bec34440aba143487dee8ac7": {
      "model_module": "@jupyter-widgets/controls",
      "model_module_version": "2.0.0",
      "model_name": "ProgressStyleModel",
      "state": {
       "description_width": ""
      }
     },
     "69b670de4037484494fbe13f98926acf": {
      "model_module": "@jupyter-widgets/base",
      "model_module_version": "2.0.0",
      "model_name": "LayoutModel",
      "state": {}
     },
     "6ad1bc585b4b40f99991fcac3d48e8ed": {
      "model_module": "@jupyter-widgets/controls",
      "model_module_version": "2.0.0",
      "model_name": "HBoxModel",
      "state": {
       "children": [
        "IPY_MODEL_25faa92664964a469304d0d358e37a59",
        "IPY_MODEL_61e8303b224f42ee98f1640b23636605",
        "IPY_MODEL_1ca32157ead24d65ad3a63fbf187d20d"
       ],
       "layout": "IPY_MODEL_1f9fc66ace6741c089477b3b64516d45"
      }
     },
     "6c16eb2271e7402b99b51117e1e30a6d": {
      "model_module": "@jupyter-widgets/controls",
      "model_module_version": "2.0.0",
      "model_name": "HTMLModel",
      "state": {
       "layout": "IPY_MODEL_f44aec32c40d458a8ac4aaeb78e55b46",
       "style": "IPY_MODEL_ad72e138f07d4cf39f8abdc93f3d63c5",
       "value": "100%"
      }
     },
     "6c28ef79a2794733ac704f81f07b48ea": {
      "model_module": "@jupyter-widgets/controls",
      "model_module_version": "2.0.0",
      "model_name": "FloatProgressModel",
      "state": {
       "bar_style": "success",
       "layout": "IPY_MODEL_7b261677d0bb4b3f9feb1e371996f007",
       "max": 632,
       "style": "IPY_MODEL_dd8626e3e9fe44b8b9d0cfa62c1e3df8",
       "value": 632
      }
     },
     "6f16605d050a4ee79729d39632411086": {
      "model_module": "@jupyter-widgets/controls",
      "model_module_version": "2.0.0",
      "model_name": "ProgressStyleModel",
      "state": {
       "description_width": ""
      }
     },
     "6fce4e5a9259455aa4d9f97915922664": {
      "model_module": "@jupyter-widgets/controls",
      "model_module_version": "2.0.0",
      "model_name": "HTMLStyleModel",
      "state": {
       "description_width": "",
       "font_size": null,
       "text_color": null
      }
     },
     "7078d42efcea4c6f9b8fba9a7540a747": {
      "model_module": "@jupyter-widgets/base",
      "model_module_version": "2.0.0",
      "model_name": "LayoutModel",
      "state": {}
     },
     "70ebbfd7c2f44ad09b5b327dac22cf0e": {
      "model_module": "@jupyter-widgets/base",
      "model_module_version": "2.0.0",
      "model_name": "LayoutModel",
      "state": {}
     },
     "713c20c7e19b4e38a0ac8effb4079e6e": {
      "model_module": "@jupyter-widgets/controls",
      "model_module_version": "2.0.0",
      "model_name": "HTMLModel",
      "state": {
       "layout": "IPY_MODEL_629ddeb47ce24643afcf7ea411239aca",
       "style": "IPY_MODEL_91ad24e8853346e6a305a4915fabdd02",
       "value": "100%"
      }
     },
     "716eccd19f254cfaaddb27c4256e5a8a": {
      "model_module": "@jupyter-widgets/controls",
      "model_module_version": "2.0.0",
      "model_name": "HTMLModel",
      "state": {
       "layout": "IPY_MODEL_2ec9a122eb1f43bdb997949bceea9344",
       "style": "IPY_MODEL_4c8dd93c3e8042ef844d633f065462b0",
       "value": "100%"
      }
     },
     "72d29c1f1d9940f4b2d1dd411d4686de": {
      "model_module": "@jupyter-widgets/controls",
      "model_module_version": "2.0.0",
      "model_name": "ProgressStyleModel",
      "state": {
       "description_width": ""
      }
     },
     "733cf6766c364787bd4199b6a9613b63": {
      "model_module": "@jupyter-widgets/controls",
      "model_module_version": "2.0.0",
      "model_name": "HTMLStyleModel",
      "state": {
       "description_width": "",
       "font_size": null,
       "text_color": null
      }
     },
     "7350fbcf9b1044689f7e36aa2a3cae3a": {
      "model_module": "@jupyter-widgets/base",
      "model_module_version": "2.0.0",
      "model_name": "LayoutModel",
      "state": {}
     },
     "73aba88ee1f648f7b15c81094bacafbe": {
      "model_module": "@jupyter-widgets/base",
      "model_module_version": "2.0.0",
      "model_name": "LayoutModel",
      "state": {}
     },
     "7649124c777a43429d930348386de837": {
      "model_module": "@jupyter-widgets/controls",
      "model_module_version": "2.0.0",
      "model_name": "HTMLStyleModel",
      "state": {
       "description_width": "",
       "font_size": null,
       "text_color": null
      }
     },
     "7650a785df2e4996b8fc636ea9b9f6f2": {
      "model_module": "@jupyter-widgets/controls",
      "model_module_version": "2.0.0",
      "model_name": "HTMLStyleModel",
      "state": {
       "description_width": "",
       "font_size": null,
       "text_color": null
      }
     },
     "779162c3a1d04f8ba94e673c6a0852ec": {
      "model_module": "@jupyter-widgets/controls",
      "model_module_version": "2.0.0",
      "model_name": "HTMLModel",
      "state": {
       "layout": "IPY_MODEL_85d683483d6f4778bc92320220e4178a",
       "style": "IPY_MODEL_8f89f0bdd42d42acb6d09afea5a564b5",
       "value": "100%"
      }
     },
     "7898c7e97b354a36b49e1aa3e6b1f5e3": {
      "model_module": "@jupyter-widgets/base",
      "model_module_version": "2.0.0",
      "model_name": "LayoutModel",
      "state": {}
     },
     "78a4fddf03b04c86a80315929a59ea98": {
      "model_module": "@jupyter-widgets/base",
      "model_module_version": "2.0.0",
      "model_name": "LayoutModel",
      "state": {}
     },
     "79b77bb05644497286584ca7b0abb49f": {
      "model_module": "@jupyter-widgets/controls",
      "model_module_version": "2.0.0",
      "model_name": "HTMLStyleModel",
      "state": {
       "description_width": "",
       "font_size": null,
       "text_color": null
      }
     },
     "79de06766728427985cb95029533890a": {
      "model_module": "@jupyter-widgets/base",
      "model_module_version": "2.0.0",
      "model_name": "LayoutModel",
      "state": {}
     },
     "7a098cd1b10e4b95a443a2e70e90a501": {
      "model_module": "@jupyter-widgets/controls",
      "model_module_version": "2.0.0",
      "model_name": "HTMLStyleModel",
      "state": {
       "description_width": "",
       "font_size": null,
       "text_color": null
      }
     },
     "7ac5e7bdf1954248a85af919d876efe3": {
      "model_module": "@jupyter-widgets/base",
      "model_module_version": "2.0.0",
      "model_name": "LayoutModel",
      "state": {}
     },
     "7aff1f0ef9f24073bb4f1a7eaa243592": {
      "model_module": "@jupyter-widgets/controls",
      "model_module_version": "2.0.0",
      "model_name": "ProgressStyleModel",
      "state": {
       "description_width": ""
      }
     },
     "7b1799ab54bf4622835a760e118f4f4b": {
      "model_module": "@jupyter-widgets/controls",
      "model_module_version": "2.0.0",
      "model_name": "FloatProgressModel",
      "state": {
       "bar_style": "success",
       "layout": "IPY_MODEL_af97b862fae5499581926afb0494ef76",
       "max": 632,
       "style": "IPY_MODEL_1f20210612844ff18dc0b50689e4d09f",
       "value": 632
      }
     },
     "7b2465aea7e84d21b48bcf723370798d": {
      "model_module": "@jupyter-widgets/base",
      "model_module_version": "2.0.0",
      "model_name": "LayoutModel",
      "state": {}
     },
     "7b261677d0bb4b3f9feb1e371996f007": {
      "model_module": "@jupyter-widgets/base",
      "model_module_version": "2.0.0",
      "model_name": "LayoutModel",
      "state": {}
     },
     "7b8527a74ad447298abd45ca5bc2fc4e": {
      "model_module": "@jupyter-widgets/controls",
      "model_module_version": "2.0.0",
      "model_name": "HTMLStyleModel",
      "state": {
       "description_width": "",
       "font_size": null,
       "text_color": null
      }
     },
     "7be894c49d5048be821b20edaffb27ea": {
      "model_module": "@jupyter-widgets/base",
      "model_module_version": "2.0.0",
      "model_name": "LayoutModel",
      "state": {}
     },
     "7bef15df63044e2ca7b8341b798a156c": {
      "model_module": "@jupyter-widgets/controls",
      "model_module_version": "2.0.0",
      "model_name": "HTMLModel",
      "state": {
       "layout": "IPY_MODEL_1f80ebfde20c41f9aece917aaf424a8d",
       "style": "IPY_MODEL_7b8527a74ad447298abd45ca5bc2fc4e",
       "value": " 632/632 [00:00&lt;00:00, 1321.05it/s]"
      }
     },
     "7cd22e1540374434bd43dc16f48f5917": {
      "model_module": "@jupyter-widgets/controls",
      "model_module_version": "2.0.0",
      "model_name": "HTMLModel",
      "state": {
       "layout": "IPY_MODEL_e36530f3a270470a913018aa7041f940",
       "style": "IPY_MODEL_2ca2bedb3236427c9b8412e92a62e8d2",
       "value": "100%"
      }
     },
     "7de01f28a6844a50a0d2d12fa649f428": {
      "model_module": "@jupyter-widgets/controls",
      "model_module_version": "2.0.0",
      "model_name": "HTMLModel",
      "state": {
       "layout": "IPY_MODEL_be5b4246c8ea43aabaff6a50a42c30ed",
       "style": "IPY_MODEL_85b3b2007600463db7f7fa0c271ecbf1",
       "value": "100%"
      }
     },
     "7e1aba344acf418ea1c87b1de71663cf": {
      "model_module": "@jupyter-widgets/controls",
      "model_module_version": "2.0.0",
      "model_name": "HTMLModel",
      "state": {
       "layout": "IPY_MODEL_0578767dffeb49ab90b5e554fd2ecd0a",
       "style": "IPY_MODEL_bbfb9bfdaf564a5c860808396ca9d752",
       "value": " 632/632 [00:05&lt;00:00, 108.28it/s]"
      }
     },
     "7e79f65f0e5e4e5998150a7b4c8b8fc3": {
      "model_module": "@jupyter-widgets/controls",
      "model_module_version": "2.0.0",
      "model_name": "HTMLStyleModel",
      "state": {
       "description_width": "",
       "font_size": null,
       "text_color": null
      }
     },
     "7f8e18bb9206464a81b6b1e74c5955da": {
      "model_module": "@jupyter-widgets/controls",
      "model_module_version": "2.0.0",
      "model_name": "HTMLStyleModel",
      "state": {
       "description_width": "",
       "font_size": null,
       "text_color": null
      }
     },
     "809f7cbfc5f04290b7d5b24b1da5a61a": {
      "model_module": "@jupyter-widgets/controls",
      "model_module_version": "2.0.0",
      "model_name": "FloatProgressModel",
      "state": {
       "bar_style": "success",
       "layout": "IPY_MODEL_7898c7e97b354a36b49e1aa3e6b1f5e3",
       "max": 632,
       "style": "IPY_MODEL_72d29c1f1d9940f4b2d1dd411d4686de",
       "value": 632
      }
     },
     "80ae7b39187c4d98aded5a75481d965e": {
      "model_module": "@jupyter-widgets/controls",
      "model_module_version": "2.0.0",
      "model_name": "FloatProgressModel",
      "state": {
       "bar_style": "success",
       "layout": "IPY_MODEL_19396ef90d59412bbafad98e16a0f871",
       "max": 632,
       "style": "IPY_MODEL_825d5a55dc024bf0b7233bf01256e2d2",
       "value": 632
      }
     },
     "81124568b1c345558f0c5b62fc0a40a2": {
      "model_module": "@jupyter-widgets/controls",
      "model_module_version": "2.0.0",
      "model_name": "HTMLModel",
      "state": {
       "layout": "IPY_MODEL_2343719b760047bb9c9e193a57923ddc",
       "style": "IPY_MODEL_d540b3379e654a7a9fe14e6947968105",
       "value": " 632/632 [00:00&lt;00:00, 2521.86it/s]"
      }
     },
     "825d5a55dc024bf0b7233bf01256e2d2": {
      "model_module": "@jupyter-widgets/controls",
      "model_module_version": "2.0.0",
      "model_name": "ProgressStyleModel",
      "state": {
       "description_width": ""
      }
     },
     "84441ec0bd234453b0bc3c00d44901ca": {
      "model_module": "@jupyter-widgets/controls",
      "model_module_version": "2.0.0",
      "model_name": "HTMLStyleModel",
      "state": {
       "description_width": "",
       "font_size": null,
       "text_color": null
      }
     },
     "8486a721371e4815ae4a9b6c606eb23b": {
      "model_module": "@jupyter-widgets/controls",
      "model_module_version": "2.0.0",
      "model_name": "HTMLModel",
      "state": {
       "layout": "IPY_MODEL_5fc3d9593e0c40f3bc7217ec97930c5f",
       "style": "IPY_MODEL_38d8afeb36424eb397b140071159f205",
       "value": "100%"
      }
     },
     "85b3b2007600463db7f7fa0c271ecbf1": {
      "model_module": "@jupyter-widgets/controls",
      "model_module_version": "2.0.0",
      "model_name": "HTMLStyleModel",
      "state": {
       "description_width": "",
       "font_size": null,
       "text_color": null
      }
     },
     "85d683483d6f4778bc92320220e4178a": {
      "model_module": "@jupyter-widgets/base",
      "model_module_version": "2.0.0",
      "model_name": "LayoutModel",
      "state": {}
     },
     "863360b7098f42449966355f1319d059": {
      "model_module": "@jupyter-widgets/controls",
      "model_module_version": "2.0.0",
      "model_name": "HBoxModel",
      "state": {
       "children": [
        "IPY_MODEL_cad82b158df1421c816cf40794c6ce7c",
        "IPY_MODEL_ab04955376a249528f9c0ad2bab67a27",
        "IPY_MODEL_21a2240a62ea4d8c8aac30f6f4e57df0"
       ],
       "layout": "IPY_MODEL_7be894c49d5048be821b20edaffb27ea"
      }
     },
     "86bfe40788884f36a03764368df2da29": {
      "model_module": "@jupyter-widgets/base",
      "model_module_version": "2.0.0",
      "model_name": "LayoutModel",
      "state": {}
     },
     "87584f28975e4255b3781fd8190a8e80": {
      "model_module": "@jupyter-widgets/controls",
      "model_module_version": "2.0.0",
      "model_name": "HTMLStyleModel",
      "state": {
       "description_width": "",
       "font_size": null,
       "text_color": null
      }
     },
     "878c79ca5b624f6ab25c217b512c46de": {
      "model_module": "@jupyter-widgets/base",
      "model_module_version": "2.0.0",
      "model_name": "LayoutModel",
      "state": {}
     },
     "88559ff78a76405287d99c932307b112": {
      "model_module": "@jupyter-widgets/controls",
      "model_module_version": "2.0.0",
      "model_name": "FloatProgressModel",
      "state": {
       "bar_style": "success",
       "layout": "IPY_MODEL_e4827de91d204ebda258532bdbf52066",
       "max": 632,
       "style": "IPY_MODEL_5fd1641c267449d9bd7db96a2eb68c2e",
       "value": 632
      }
     },
     "88a5935d2248407bbfea223e5b9f4cc2": {
      "model_module": "@jupyter-widgets/controls",
      "model_module_version": "2.0.0",
      "model_name": "HTMLModel",
      "state": {
       "layout": "IPY_MODEL_506a7491b2404fb587f6c26a6a8f04a6",
       "style": "IPY_MODEL_60da0c7f08604f36975a310ce83b7b71",
       "value": " 632/632 [00:00&lt;00:00, 3494.70it/s]"
      }
     },
     "89379055692349feabdf3a9be3896992": {
      "model_module": "@jupyter-widgets/controls",
      "model_module_version": "2.0.0",
      "model_name": "FloatProgressModel",
      "state": {
       "bar_style": "success",
       "layout": "IPY_MODEL_c3c55b61efb7451486b8b6b1e4b75f5d",
       "max": 632,
       "style": "IPY_MODEL_467860dc38c841e885558cae858f0f13",
       "value": 632
      }
     },
     "89b909aadcbd4377b960f1fbac5d3cf8": {
      "model_module": "@jupyter-widgets/controls",
      "model_module_version": "2.0.0",
      "model_name": "HTMLModel",
      "state": {
       "layout": "IPY_MODEL_98b7f32e4c88497194c5702e5c9cfb60",
       "style": "IPY_MODEL_937952825d85452bb4edabcaef3c8cb6",
       "value": " 632/632 [00:00&lt;00:00, 2138.78it/s]"
      }
     },
     "89dedeb70b3e4e009d54dfb041e06ab2": {
      "model_module": "@jupyter-widgets/base",
      "model_module_version": "2.0.0",
      "model_name": "LayoutModel",
      "state": {}
     },
     "8a886e86efb0438d89d8b629ee1c3a2f": {
      "model_module": "@jupyter-widgets/base",
      "model_module_version": "2.0.0",
      "model_name": "LayoutModel",
      "state": {}
     },
     "8f89f0bdd42d42acb6d09afea5a564b5": {
      "model_module": "@jupyter-widgets/controls",
      "model_module_version": "2.0.0",
      "model_name": "HTMLStyleModel",
      "state": {
       "description_width": "",
       "font_size": null,
       "text_color": null
      }
     },
     "91ad24e8853346e6a305a4915fabdd02": {
      "model_module": "@jupyter-widgets/controls",
      "model_module_version": "2.0.0",
      "model_name": "HTMLStyleModel",
      "state": {
       "description_width": "",
       "font_size": null,
       "text_color": null
      }
     },
     "91d1147df97e4f0090f1693be8ca74bf": {
      "model_module": "@jupyter-widgets/controls",
      "model_module_version": "2.0.0",
      "model_name": "HTMLStyleModel",
      "state": {
       "description_width": "",
       "font_size": null,
       "text_color": null
      }
     },
     "922ef33fc96a436dbc08fa0dad7b9450": {
      "model_module": "@jupyter-widgets/controls",
      "model_module_version": "2.0.0",
      "model_name": "FloatProgressModel",
      "state": {
       "bar_style": "success",
       "layout": "IPY_MODEL_b69de1ac87e84b3a8676950b6315cdba",
       "max": 632,
       "style": "IPY_MODEL_defbfec0c07549198b2072ec008d8c56",
       "value": 632
      }
     },
     "92b2b5cc14d744e8a2c809d88586e6ad": {
      "model_module": "@jupyter-widgets/controls",
      "model_module_version": "2.0.0",
      "model_name": "ProgressStyleModel",
      "state": {
       "description_width": ""
      }
     },
     "937952825d85452bb4edabcaef3c8cb6": {
      "model_module": "@jupyter-widgets/controls",
      "model_module_version": "2.0.0",
      "model_name": "HTMLStyleModel",
      "state": {
       "description_width": "",
       "font_size": null,
       "text_color": null
      }
     },
     "93b358a4ac814fcbb0affb0a95cebce3": {
      "model_module": "@jupyter-widgets/base",
      "model_module_version": "2.0.0",
      "model_name": "LayoutModel",
      "state": {}
     },
     "95b2c4ba6b354969b7c4a04b2b380e72": {
      "model_module": "@jupyter-widgets/controls",
      "model_module_version": "2.0.0",
      "model_name": "HTMLStyleModel",
      "state": {
       "description_width": "",
       "font_size": null,
       "text_color": null
      }
     },
     "96ecd12db1f645b392da2bd17985d530": {
      "model_module": "@jupyter-widgets/controls",
      "model_module_version": "2.0.0",
      "model_name": "HTMLStyleModel",
      "state": {
       "description_width": "",
       "font_size": null,
       "text_color": null
      }
     },
     "96f3b9a4ddeb49e3b8d17758e84b455d": {
      "model_module": "@jupyter-widgets/controls",
      "model_module_version": "2.0.0",
      "model_name": "HBoxModel",
      "state": {
       "children": [
        "IPY_MODEL_66fd21c07f0a47f9a65578f15081bfe4",
        "IPY_MODEL_80ae7b39187c4d98aded5a75481d965e",
        "IPY_MODEL_7bef15df63044e2ca7b8341b798a156c"
       ],
       "layout": "IPY_MODEL_e9ab9cd37df04a8daaf5271052426654"
      }
     },
     "982e05c697464df1951ae08c24a73b81": {
      "model_module": "@jupyter-widgets/base",
      "model_module_version": "2.0.0",
      "model_name": "LayoutModel",
      "state": {}
     },
     "98b7f32e4c88497194c5702e5c9cfb60": {
      "model_module": "@jupyter-widgets/base",
      "model_module_version": "2.0.0",
      "model_name": "LayoutModel",
      "state": {}
     },
     "9918d3aa5ca84d1495a5838b9846efdd": {
      "model_module": "@jupyter-widgets/controls",
      "model_module_version": "2.0.0",
      "model_name": "HTMLModel",
      "state": {
       "layout": "IPY_MODEL_02e6ffb279ce433284f1bdc15d6726da",
       "style": "IPY_MODEL_7a098cd1b10e4b95a443a2e70e90a501",
       "value": "100%"
      }
     },
     "99b05f8b6151482c9251cb0a741cb274": {
      "model_module": "@jupyter-widgets/controls",
      "model_module_version": "2.0.0",
      "model_name": "HTMLModel",
      "state": {
       "layout": "IPY_MODEL_d5dfa1b528bf4849b0739ad23cd783ad",
       "style": "IPY_MODEL_246e1d8a671e46a587f706cbf19bf0f3",
       "value": " 632/632 [00:00&lt;00:00, 2337.35it/s]"
      }
     },
     "99c2a8dfb03042778a338f4f52897e85": {
      "model_module": "@jupyter-widgets/base",
      "model_module_version": "2.0.0",
      "model_name": "LayoutModel",
      "state": {}
     },
     "99f4d55c088b4657b37752764ca78e76": {
      "model_module": "@jupyter-widgets/controls",
      "model_module_version": "2.0.0",
      "model_name": "ProgressStyleModel",
      "state": {
       "description_width": ""
      }
     },
     "9aa6734cec704e9c8841ea18f6191e49": {
      "model_module": "@jupyter-widgets/base",
      "model_module_version": "2.0.0",
      "model_name": "LayoutModel",
      "state": {}
     },
     "9ad1bf6eed9f4a0ba5aca43240fc94f0": {
      "model_module": "@jupyter-widgets/base",
      "model_module_version": "2.0.0",
      "model_name": "LayoutModel",
      "state": {}
     },
     "9b06959290f14c81b8e6b1cc9f959b79": {
      "model_module": "@jupyter-widgets/base",
      "model_module_version": "2.0.0",
      "model_name": "LayoutModel",
      "state": {}
     },
     "9d191362e68f40139de9fad9f499fd48": {
      "model_module": "@jupyter-widgets/controls",
      "model_module_version": "2.0.0",
      "model_name": "FloatProgressModel",
      "state": {
       "bar_style": "success",
       "layout": "IPY_MODEL_b0af1f82f8384f3f9f3e86a4489fd471",
       "max": 632,
       "style": "IPY_MODEL_99f4d55c088b4657b37752764ca78e76",
       "value": 632
      }
     },
     "9d99b7c4a037476a86ab5b4ca4996baf": {
      "model_module": "@jupyter-widgets/controls",
      "model_module_version": "2.0.0",
      "model_name": "HTMLModel",
      "state": {
       "layout": "IPY_MODEL_ccf9ffbe58ad4f0f8b1e34f9faddf53e",
       "style": "IPY_MODEL_fc1270d7c34d4319bc5b1f8765eafd4a",
       "value": " 632/632 [00:00&lt;00:00, 1231.85it/s]"
      }
     },
     "9db6f316151942178a12855e6f21ea27": {
      "model_module": "@jupyter-widgets/controls",
      "model_module_version": "2.0.0",
      "model_name": "FloatProgressModel",
      "state": {
       "bar_style": "success",
       "layout": "IPY_MODEL_b44c9656460a490881ab370bcadda24b",
       "max": 632,
       "style": "IPY_MODEL_37587f40682742c285c893faf3e94a0b",
       "value": 632
      }
     },
     "9f9e2f3cc47f4170b4dae563980e138c": {
      "model_module": "@jupyter-widgets/controls",
      "model_module_version": "2.0.0",
      "model_name": "HTMLModel",
      "state": {
       "layout": "IPY_MODEL_42880577c85244bc9b04c84318736612",
       "style": "IPY_MODEL_2b1888bdba074852b85c2a8611bcd4e6",
       "value": " 632/632 [00:04&lt;00:00, 136.62it/s]"
      }
     },
     "a217ddfdf4404a0faaeb14198d49e75e": {
      "model_module": "@jupyter-widgets/controls",
      "model_module_version": "2.0.0",
      "model_name": "HTMLStyleModel",
      "state": {
       "description_width": "",
       "font_size": null,
       "text_color": null
      }
     },
     "a303e03697a54ea19939e42e7827761d": {
      "model_module": "@jupyter-widgets/base",
      "model_module_version": "2.0.0",
      "model_name": "LayoutModel",
      "state": {}
     },
     "a381430dac144d67bbd1de8a533df1b3": {
      "model_module": "@jupyter-widgets/controls",
      "model_module_version": "2.0.0",
      "model_name": "ProgressStyleModel",
      "state": {
       "description_width": ""
      }
     },
     "a635697c6eee455586267a3ea2ac1358": {
      "model_module": "@jupyter-widgets/base",
      "model_module_version": "2.0.0",
      "model_name": "LayoutModel",
      "state": {}
     },
     "ab04955376a249528f9c0ad2bab67a27": {
      "model_module": "@jupyter-widgets/controls",
      "model_module_version": "2.0.0",
      "model_name": "FloatProgressModel",
      "state": {
       "bar_style": "success",
       "layout": "IPY_MODEL_c4b9e6e0ad274d0384ca5c8766b85b0f",
       "max": 632,
       "style": "IPY_MODEL_6f16605d050a4ee79729d39632411086",
       "value": 632
      }
     },
     "ac95b9b192494cfb970b60a8b0b967f4": {
      "model_module": "@jupyter-widgets/controls",
      "model_module_version": "2.0.0",
      "model_name": "HTMLStyleModel",
      "state": {
       "description_width": "",
       "font_size": null,
       "text_color": null
      }
     },
     "ad72e138f07d4cf39f8abdc93f3d63c5": {
      "model_module": "@jupyter-widgets/controls",
      "model_module_version": "2.0.0",
      "model_name": "HTMLStyleModel",
      "state": {
       "description_width": "",
       "font_size": null,
       "text_color": null
      }
     },
     "ade5fc32110a44f7a1449b46668a63a7": {
      "model_module": "@jupyter-widgets/controls",
      "model_module_version": "2.0.0",
      "model_name": "ProgressStyleModel",
      "state": {
       "description_width": ""
      }
     },
     "ade787a225c9414687227dbdabc9a195": {
      "model_module": "@jupyter-widgets/controls",
      "model_module_version": "2.0.0",
      "model_name": "ProgressStyleModel",
      "state": {
       "description_width": ""
      }
     },
     "adedc096be8c41d089ec69dadb2b3959": {
      "model_module": "@jupyter-widgets/controls",
      "model_module_version": "2.0.0",
      "model_name": "HBoxModel",
      "state": {
       "children": [
        "IPY_MODEL_7cd22e1540374434bd43dc16f48f5917",
        "IPY_MODEL_da8d9918431a4665a57e18d0a0a4f5bd",
        "IPY_MODEL_bdb076619fdb4c4cb07735d19b06d585"
       ],
       "layout": "IPY_MODEL_9aa6734cec704e9c8841ea18f6191e49"
      }
     },
     "af4065ca988d4da8a8ff2f20b91e3738": {
      "model_module": "@jupyter-widgets/controls",
      "model_module_version": "2.0.0",
      "model_name": "HBoxModel",
      "state": {
       "children": [
        "IPY_MODEL_c6fd20ffa4da44f78bc5b774cc41ddd5",
        "IPY_MODEL_ca2af5cdf2934f35b1c0800fdfcd3ecb",
        "IPY_MODEL_1a962a5996a54ed09a2c7c217f2fc14f"
       ],
       "layout": "IPY_MODEL_e62c473524b84fdeac962793af638317"
      }
     },
     "af97b862fae5499581926afb0494ef76": {
      "model_module": "@jupyter-widgets/base",
      "model_module_version": "2.0.0",
      "model_name": "LayoutModel",
      "state": {}
     },
     "afcd53a145b94300a35e3b3203335c5d": {
      "model_module": "@jupyter-widgets/controls",
      "model_module_version": "2.0.0",
      "model_name": "FloatProgressModel",
      "state": {
       "bar_style": "success",
       "layout": "IPY_MODEL_370b9cb6a0dd435787ce95e2b2390ae0",
       "max": 632,
       "style": "IPY_MODEL_92b2b5cc14d744e8a2c809d88586e6ad",
       "value": 632
      }
     },
     "b0af1f82f8384f3f9f3e86a4489fd471": {
      "model_module": "@jupyter-widgets/base",
      "model_module_version": "2.0.0",
      "model_name": "LayoutModel",
      "state": {}
     },
     "b1299392bc88482998ba5b56a1d3cd02": {
      "model_module": "@jupyter-widgets/controls",
      "model_module_version": "2.0.0",
      "model_name": "HTMLModel",
      "state": {
       "layout": "IPY_MODEL_bd8cf4a9664547a0a8d948395689c228",
       "style": "IPY_MODEL_0c8e07557876469ebc9bd91085a02be2",
       "value": " 632/632 [00:04&lt;00:00, 150.84it/s]"
      }
     },
     "b2bac092497343fba74d451cf9705f45": {
      "model_module": "@jupyter-widgets/controls",
      "model_module_version": "2.0.0",
      "model_name": "HTMLModel",
      "state": {
       "layout": "IPY_MODEL_56bfc2ad7596485f89b400af89559b49",
       "style": "IPY_MODEL_248aa9992e3d4803b5bbe713fbf3403b",
       "value": " 632/632 [01:28&lt;00:00,  6.04it/s]"
      }
     },
     "b2f0fd23459547c5b458b321de4d38f6": {
      "model_module": "@jupyter-widgets/controls",
      "model_module_version": "2.0.0",
      "model_name": "ProgressStyleModel",
      "state": {
       "description_width": ""
      }
     },
     "b44c9656460a490881ab370bcadda24b": {
      "model_module": "@jupyter-widgets/base",
      "model_module_version": "2.0.0",
      "model_name": "LayoutModel",
      "state": {}
     },
     "b4c22c8b2b9d45c49cd6de09de168764": {
      "model_module": "@jupyter-widgets/controls",
      "model_module_version": "2.0.0",
      "model_name": "HTMLModel",
      "state": {
       "layout": "IPY_MODEL_70ebbfd7c2f44ad09b5b327dac22cf0e",
       "style": "IPY_MODEL_96ecd12db1f645b392da2bd17985d530",
       "value": "100%"
      }
     },
     "b5d9f496b14a422ebeaf7f78ad153807": {
      "model_module": "@jupyter-widgets/base",
      "model_module_version": "2.0.0",
      "model_name": "LayoutModel",
      "state": {}
     },
     "b69de1ac87e84b3a8676950b6315cdba": {
      "model_module": "@jupyter-widgets/base",
      "model_module_version": "2.0.0",
      "model_name": "LayoutModel",
      "state": {}
     },
     "b6dfbf661abf423f86276f1cfde4999a": {
      "model_module": "@jupyter-widgets/controls",
      "model_module_version": "2.0.0",
      "model_name": "HBoxModel",
      "state": {
       "children": [
        "IPY_MODEL_010f4bf1006946f3b902cca4ca7ce307",
        "IPY_MODEL_f4b9ed5e58cb4715955389a20edbad43",
        "IPY_MODEL_612038db6db24553aca1eeb48d2b3778"
       ],
       "layout": "IPY_MODEL_0561b27d575a499992172ee12a04c87d"
      }
     },
     "b8ff7193d2c74862b9beaac89e10e5ff": {
      "model_module": "@jupyter-widgets/base",
      "model_module_version": "2.0.0",
      "model_name": "LayoutModel",
      "state": {}
     },
     "b94101c935144db2997654aecc4fdfe7": {
      "model_module": "@jupyter-widgets/base",
      "model_module_version": "2.0.0",
      "model_name": "LayoutModel",
      "state": {}
     },
     "b97106deb6a14c84bbbbd9b172477faa": {
      "model_module": "@jupyter-widgets/controls",
      "model_module_version": "2.0.0",
      "model_name": "HTMLModel",
      "state": {
       "layout": "IPY_MODEL_f9e7a0b40248492091f43d2f0b7d19c5",
       "style": "IPY_MODEL_ee1d58dce4b840fa9e7270b730a9ab30",
       "value": " 632/632 [00:00&lt;00:00, 2925.39it/s]"
      }
     },
     "b971d02ebcb14a48a096bd4555af632f": {
      "model_module": "@jupyter-widgets/controls",
      "model_module_version": "2.0.0",
      "model_name": "ProgressStyleModel",
      "state": {
       "description_width": ""
      }
     },
     "ba71b1231e1b4232a2ff74ade2f00aa3": {
      "model_module": "@jupyter-widgets/base",
      "model_module_version": "2.0.0",
      "model_name": "LayoutModel",
      "state": {}
     },
     "bbc20165fa2349dd920a343aec45f440": {
      "model_module": "@jupyter-widgets/controls",
      "model_module_version": "2.0.0",
      "model_name": "HTMLStyleModel",
      "state": {
       "description_width": "",
       "font_size": null,
       "text_color": null
      }
     },
     "bbfb9bfdaf564a5c860808396ca9d752": {
      "model_module": "@jupyter-widgets/controls",
      "model_module_version": "2.0.0",
      "model_name": "HTMLStyleModel",
      "state": {
       "description_width": "",
       "font_size": null,
       "text_color": null
      }
     },
     "bd127f0ae8d1407d8f57b1a5a14e421e": {
      "model_module": "@jupyter-widgets/base",
      "model_module_version": "2.0.0",
      "model_name": "LayoutModel",
      "state": {}
     },
     "bd2d7a6a628e4ffd86e6c263520d4118": {
      "model_module": "@jupyter-widgets/controls",
      "model_module_version": "2.0.0",
      "model_name": "HBoxModel",
      "state": {
       "children": [
        "IPY_MODEL_0d27e60c7678446f979fc57721b47f25",
        "IPY_MODEL_fdc209a32dae47eeba6c75a49d660382",
        "IPY_MODEL_c6076de3744e45579d933c108b11896f"
       ],
       "layout": "IPY_MODEL_2930032dc12547bdb33dc9d311e0e3ea"
      }
     },
     "bd341f8286cb40699303af002afb4141": {
      "model_module": "@jupyter-widgets/controls",
      "model_module_version": "2.0.0",
      "model_name": "HTMLModel",
      "state": {
       "layout": "IPY_MODEL_5f76c50c4bd1434d9026f0525d9382b0",
       "style": "IPY_MODEL_49752e5e9faf4f8ea391d0f444683004",
       "value": " 632/632 [00:07&lt;00:00, 95.38it/s]"
      }
     },
     "bd4c0b41dcb64ca18eb06f760ec97a28": {
      "model_module": "@jupyter-widgets/controls",
      "model_module_version": "2.0.0",
      "model_name": "FloatProgressModel",
      "state": {
       "bar_style": "success",
       "layout": "IPY_MODEL_f06a37915aab458286bdd26699151fb3",
       "max": 632,
       "style": "IPY_MODEL_ade5fc32110a44f7a1449b46668a63a7",
       "value": 632
      }
     },
     "bd8cf4a9664547a0a8d948395689c228": {
      "model_module": "@jupyter-widgets/base",
      "model_module_version": "2.0.0",
      "model_name": "LayoutModel",
      "state": {}
     },
     "bdb076619fdb4c4cb07735d19b06d585": {
      "model_module": "@jupyter-widgets/controls",
      "model_module_version": "2.0.0",
      "model_name": "HTMLModel",
      "state": {
       "layout": "IPY_MODEL_62647c0906bb4dbea145e1a31f82edb6",
       "style": "IPY_MODEL_46cc3c4b9573493bacfda19791d2c010",
       "value": " 632/632 [01:31&lt;00:00,  7.09it/s]"
      }
     },
     "be5b4246c8ea43aabaff6a50a42c30ed": {
      "model_module": "@jupyter-widgets/base",
      "model_module_version": "2.0.0",
      "model_name": "LayoutModel",
      "state": {}
     },
     "bfa379f9d34c4614b2c1ade293f898bc": {
      "model_module": "@jupyter-widgets/base",
      "model_module_version": "2.0.0",
      "model_name": "LayoutModel",
      "state": {}
     },
     "c0499b10416c473ab6e6d615045c3809": {
      "model_module": "@jupyter-widgets/controls",
      "model_module_version": "2.0.0",
      "model_name": "FloatProgressModel",
      "state": {
       "bar_style": "success",
       "layout": "IPY_MODEL_076523dddee74c68805a90622084325e",
       "max": 632,
       "style": "IPY_MODEL_627b6a988c9c49e2ab32b5f02b67620b",
       "value": 632
      }
     },
     "c2801af2e09d45aca6556698dd5f3a26": {
      "model_module": "@jupyter-widgets/base",
      "model_module_version": "2.0.0",
      "model_name": "LayoutModel",
      "state": {}
     },
     "c389186781114a9f9a366fe724667239": {
      "model_module": "@jupyter-widgets/base",
      "model_module_version": "2.0.0",
      "model_name": "LayoutModel",
      "state": {}
     },
     "c3c02506b714434a8352e7550e3bed3d": {
      "model_module": "@jupyter-widgets/base",
      "model_module_version": "2.0.0",
      "model_name": "LayoutModel",
      "state": {}
     },
     "c3c55b61efb7451486b8b6b1e4b75f5d": {
      "model_module": "@jupyter-widgets/base",
      "model_module_version": "2.0.0",
      "model_name": "LayoutModel",
      "state": {}
     },
     "c41dda8724f54e57a5e267cbce3fc9b5": {
      "model_module": "@jupyter-widgets/controls",
      "model_module_version": "2.0.0",
      "model_name": "HTMLStyleModel",
      "state": {
       "description_width": "",
       "font_size": null,
       "text_color": null
      }
     },
     "c4b9e6e0ad274d0384ca5c8766b85b0f": {
      "model_module": "@jupyter-widgets/base",
      "model_module_version": "2.0.0",
      "model_name": "LayoutModel",
      "state": {}
     },
     "c521730c67db46c2b06d48e86b2c2e64": {
      "model_module": "@jupyter-widgets/controls",
      "model_module_version": "2.0.0",
      "model_name": "HTMLModel",
      "state": {
       "layout": "IPY_MODEL_13eb762bdf0842d085fc941d7f9f51a9",
       "style": "IPY_MODEL_c545077d29564584b3b80374d94ee33a",
       "value": " 632/632 [01:30&lt;00:00,  6.91it/s]"
      }
     },
     "c545077d29564584b3b80374d94ee33a": {
      "model_module": "@jupyter-widgets/controls",
      "model_module_version": "2.0.0",
      "model_name": "HTMLStyleModel",
      "state": {
       "description_width": "",
       "font_size": null,
       "text_color": null
      }
     },
     "c5d707f549a14209921840f3bb4f4b39": {
      "model_module": "@jupyter-widgets/controls",
      "model_module_version": "2.0.0",
      "model_name": "HTMLModel",
      "state": {
       "layout": "IPY_MODEL_5ab288f6c49549ae961c3253d5f870a3",
       "style": "IPY_MODEL_f390b112a201498ab1fc477d9c8a83f1",
       "value": "100%"
      }
     },
     "c6076de3744e45579d933c108b11896f": {
      "model_module": "@jupyter-widgets/controls",
      "model_module_version": "2.0.0",
      "model_name": "HTMLModel",
      "state": {
       "layout": "IPY_MODEL_478c950e54a046eabf674e5dc45f9a8f",
       "style": "IPY_MODEL_357c4ffc1a9e42ac8306d2a57c2969df",
       "value": " 632/632 [00:00&lt;00:00, 2787.30it/s]"
      }
     },
     "c6179dc2d7214fb9bc2147e15ec30020": {
      "model_module": "@jupyter-widgets/controls",
      "model_module_version": "2.0.0",
      "model_name": "HBoxModel",
      "state": {
       "children": [
        "IPY_MODEL_60b0e5e6dc374feea96aace7e41204fb",
        "IPY_MODEL_ec94b73538e345069879aff57d9860ff",
        "IPY_MODEL_0f3f8ed58c634f4a9901e1f0d5b703ff"
       ],
       "layout": "IPY_MODEL_0055d95c73ba439fbf83fa09b7f29e58"
      }
     },
     "c6449f41f38e4fd7a4ec39e133f4e251": {
      "model_module": "@jupyter-widgets/controls",
      "model_module_version": "2.0.0",
      "model_name": "ProgressStyleModel",
      "state": {
       "description_width": ""
      }
     },
     "c6ccccf3875a4830afa676581b1a2fdb": {
      "model_module": "@jupyter-widgets/base",
      "model_module_version": "2.0.0",
      "model_name": "LayoutModel",
      "state": {}
     },
     "c6dec54e5c4a4175b39e4e2af843aaa0": {
      "model_module": "@jupyter-widgets/controls",
      "model_module_version": "2.0.0",
      "model_name": "HTMLStyleModel",
      "state": {
       "description_width": "",
       "font_size": null,
       "text_color": null
      }
     },
     "c6fd20ffa4da44f78bc5b774cc41ddd5": {
      "model_module": "@jupyter-widgets/controls",
      "model_module_version": "2.0.0",
      "model_name": "HTMLModel",
      "state": {
       "layout": "IPY_MODEL_73aba88ee1f648f7b15c81094bacafbe",
       "style": "IPY_MODEL_95b2c4ba6b354969b7c4a04b2b380e72",
       "value": "100%"
      }
     },
     "c7dd6f508cda4e168a3952556c9fb965": {
      "model_module": "@jupyter-widgets/controls",
      "model_module_version": "2.0.0",
      "model_name": "FloatProgressModel",
      "state": {
       "bar_style": "success",
       "layout": "IPY_MODEL_4695a5f6607a475a84ecd410ba69f156",
       "max": 632,
       "style": "IPY_MODEL_51a59def29e043f39a470a8f8297f3db",
       "value": 632
      }
     },
     "c822cfcff5954c8988c8365eb8dcc9ee": {
      "model_module": "@jupyter-widgets/controls",
      "model_module_version": "2.0.0",
      "model_name": "FloatProgressModel",
      "state": {
       "bar_style": "success",
       "layout": "IPY_MODEL_a303e03697a54ea19939e42e7827761d",
       "max": 632,
       "style": "IPY_MODEL_0ebc5e54e7524cbdb036d8c1c8225d0e",
       "value": 632
      }
     },
     "ca2af5cdf2934f35b1c0800fdfcd3ecb": {
      "model_module": "@jupyter-widgets/controls",
      "model_module_version": "2.0.0",
      "model_name": "FloatProgressModel",
      "state": {
       "bar_style": "success",
       "layout": "IPY_MODEL_083c5451ffae463bb6c6d5b57afe1420",
       "max": 632,
       "style": "IPY_MODEL_c6449f41f38e4fd7a4ec39e133f4e251",
       "value": 632
      }
     },
     "cad82b158df1421c816cf40794c6ce7c": {
      "model_module": "@jupyter-widgets/controls",
      "model_module_version": "2.0.0",
      "model_name": "HTMLModel",
      "state": {
       "layout": "IPY_MODEL_69b670de4037484494fbe13f98926acf",
       "style": "IPY_MODEL_482d979e4a53422c90ad85b9034c682c",
       "value": "100%"
      }
     },
     "cbc14045c7b04180ae7f7d96a8aa0f95": {
      "model_module": "@jupyter-widgets/controls",
      "model_module_version": "2.0.0",
      "model_name": "HTMLStyleModel",
      "state": {
       "description_width": "",
       "font_size": null,
       "text_color": null
      }
     },
     "cc21e34055ba4b9ca6e4ad11d9d5dd2c": {
      "model_module": "@jupyter-widgets/controls",
      "model_module_version": "2.0.0",
      "model_name": "FloatProgressModel",
      "state": {
       "bar_style": "success",
       "layout": "IPY_MODEL_8a886e86efb0438d89d8b629ee1c3a2f",
       "max": 632,
       "style": "IPY_MODEL_ade787a225c9414687227dbdabc9a195",
       "value": 632
      }
     },
     "ccf9ffbe58ad4f0f8b1e34f9faddf53e": {
      "model_module": "@jupyter-widgets/base",
      "model_module_version": "2.0.0",
      "model_name": "LayoutModel",
      "state": {}
     },
     "cdabf39fd67b4f90ac2eee272556956b": {
      "model_module": "@jupyter-widgets/controls",
      "model_module_version": "2.0.0",
      "model_name": "HTMLStyleModel",
      "state": {
       "description_width": "",
       "font_size": null,
       "text_color": null
      }
     },
     "cdb9cbff9781400d9c428b47c32d0155": {
      "model_module": "@jupyter-widgets/controls",
      "model_module_version": "2.0.0",
      "model_name": "VBoxModel",
      "state": {
       "_dom_classes": [
        "widget-interact"
       ],
       "children": [
        "IPY_MODEL_ddfb809902a74f8491529565c866e4d4",
        "IPY_MODEL_da828a3578ed48eba610dc762a77bc85"
       ],
       "layout": "IPY_MODEL_16d5a4157a274110aa89c1a5a86101fc"
      }
     },
     "cdf4400674a6409bb6545e9b5b732d1a": {
      "model_module": "@jupyter-widgets/controls",
      "model_module_version": "2.0.0",
      "model_name": "HBoxModel",
      "state": {
       "children": [
        "IPY_MODEL_d6bd5b1877474e37a7f53963652efb89",
        "IPY_MODEL_601a0aaefa054b3983e6a67142c70dd7",
        "IPY_MODEL_9d99b7c4a037476a86ab5b4ca4996baf"
       ],
       "layout": "IPY_MODEL_55e798c815274db2a688e47428d3a8ba"
      }
     },
     "d159f7686ce044bcb0fb34236b7d6e49": {
      "model_module": "@jupyter-widgets/controls",
      "model_module_version": "2.0.0",
      "model_name": "HTMLModel",
      "state": {
       "layout": "IPY_MODEL_4de7cea225b24f92b3a6a688b6057796",
       "style": "IPY_MODEL_3fe0285e11b4494195fcb20a6783ff5a",
       "value": " 632/632 [00:00&lt;00:00, 1476.86it/s]"
      }
     },
     "d1e51e11c0e14f3c878a9f44b9fbf3e7": {
      "model_module": "@jupyter-widgets/controls",
      "model_module_version": "2.0.0",
      "model_name": "HTMLModel",
      "state": {
       "layout": "IPY_MODEL_7350fbcf9b1044689f7e36aa2a3cae3a",
       "style": "IPY_MODEL_d56da4e474cd417882e87a1628907a02",
       "value": " 632/632 [00:00&lt;00:00, 3051.59it/s]"
      }
     },
     "d275cd2bad21405189921c804b678482": {
      "model_module": "@jupyter-widgets/controls",
      "model_module_version": "2.0.0",
      "model_name": "ProgressStyleModel",
      "state": {
       "description_width": ""
      }
     },
     "d47727410c28476db30a6730d421c2c6": {
      "model_module": "@jupyter-widgets/controls",
      "model_module_version": "2.0.0",
      "model_name": "ProgressStyleModel",
      "state": {
       "description_width": ""
      }
     },
     "d540b3379e654a7a9fe14e6947968105": {
      "model_module": "@jupyter-widgets/controls",
      "model_module_version": "2.0.0",
      "model_name": "HTMLStyleModel",
      "state": {
       "description_width": "",
       "font_size": null,
       "text_color": null
      }
     },
     "d560fb83072e4be493ad8bd62cfdcea0": {
      "model_module": "@jupyter-widgets/base",
      "model_module_version": "2.0.0",
      "model_name": "LayoutModel",
      "state": {}
     },
     "d56da4e474cd417882e87a1628907a02": {
      "model_module": "@jupyter-widgets/controls",
      "model_module_version": "2.0.0",
      "model_name": "HTMLStyleModel",
      "state": {
       "description_width": "",
       "font_size": null,
       "text_color": null
      }
     },
     "d5dfa1b528bf4849b0739ad23cd783ad": {
      "model_module": "@jupyter-widgets/base",
      "model_module_version": "2.0.0",
      "model_name": "LayoutModel",
      "state": {}
     },
     "d6bd5b1877474e37a7f53963652efb89": {
      "model_module": "@jupyter-widgets/controls",
      "model_module_version": "2.0.0",
      "model_name": "HTMLModel",
      "state": {
       "layout": "IPY_MODEL_b5d9f496b14a422ebeaf7f78ad153807",
       "style": "IPY_MODEL_bbc20165fa2349dd920a343aec45f440",
       "value": "100%"
      }
     },
     "d7421b3942e54d2f8187b146307a5fbc": {
      "model_module": "@jupyter-widgets/base",
      "model_module_version": "2.0.0",
      "model_name": "LayoutModel",
      "state": {}
     },
     "d7b3c84e8def464ab0822a250a8502b5": {
      "model_module": "@jupyter-widgets/controls",
      "model_module_version": "2.0.0",
      "model_name": "HTMLStyleModel",
      "state": {
       "description_width": "",
       "font_size": null,
       "text_color": null
      }
     },
     "d9091e80e8b14d069ae6ad9ded3bcde6": {
      "model_module": "@jupyter-widgets/base",
      "model_module_version": "2.0.0",
      "model_name": "LayoutModel",
      "state": {}
     },
     "d9350e5e4b8e4eac9ed6a8754d2ba0c2": {
      "model_module": "@jupyter-widgets/controls",
      "model_module_version": "2.0.0",
      "model_name": "HTMLStyleModel",
      "state": {
       "description_width": "",
       "font_size": null,
       "text_color": null
      }
     },
     "d9624709d8a642219714aa11b4a1d4c4": {
      "model_module": "@jupyter-widgets/controls",
      "model_module_version": "2.0.0",
      "model_name": "HTMLStyleModel",
      "state": {
       "description_width": "",
       "font_size": null,
       "text_color": null
      }
     },
     "da37b42111e64e68acb975a08e5185c5": {
      "model_module": "@jupyter-widgets/base",
      "model_module_version": "2.0.0",
      "model_name": "LayoutModel",
      "state": {}
     },
     "da828a3578ed48eba610dc762a77bc85": {
      "model_module": "@jupyter-widgets/output",
      "model_module_version": "1.0.0",
      "model_name": "OutputModel",
      "state": {
       "layout": "IPY_MODEL_bd127f0ae8d1407d8f57b1a5a14e421e",
       "outputs": [
        {
         "data": {
          "image/png": "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",
          "text/plain": "<Figure size 1400x400 with 2 Axes>"
         },
         "metadata": {},
         "output_type": "display_data"
        }
       ]
      }
     },
     "da8d9918431a4665a57e18d0a0a4f5bd": {
      "model_module": "@jupyter-widgets/controls",
      "model_module_version": "2.0.0",
      "model_name": "FloatProgressModel",
      "state": {
       "bar_style": "success",
       "layout": "IPY_MODEL_2d4a4baab0bf4eef9f7381f8905ee73c",
       "max": 632,
       "style": "IPY_MODEL_d275cd2bad21405189921c804b678482",
       "value": 632
      }
     },
     "db74410d6d344505a13f0bd2bdb768ea": {
      "model_module": "@jupyter-widgets/controls",
      "model_module_version": "2.0.0",
      "model_name": "HBoxModel",
      "state": {
       "children": [
        "IPY_MODEL_f61f8f219e854b0191824c5fe1fe0e7c",
        "IPY_MODEL_c7dd6f508cda4e168a3952556c9fb965",
        "IPY_MODEL_b2bac092497343fba74d451cf9705f45"
       ],
       "layout": "IPY_MODEL_da37b42111e64e68acb975a08e5185c5"
      }
     },
     "dbb5fda1ae774e4aaec230c5aa82158e": {
      "model_module": "@jupyter-widgets/base",
      "model_module_version": "2.0.0",
      "model_name": "LayoutModel",
      "state": {}
     },
     "dd8626e3e9fe44b8b9d0cfa62c1e3df8": {
      "model_module": "@jupyter-widgets/controls",
      "model_module_version": "2.0.0",
      "model_name": "ProgressStyleModel",
      "state": {
       "description_width": ""
      }
     },
     "ddfb809902a74f8491529565c866e4d4": {
      "model_module": "@jupyter-widgets/controls",
      "model_module_version": "2.0.0",
      "model_name": "IntSliderModel",
      "state": {
       "behavior": "drag-tap",
       "description": "N",
       "layout": "IPY_MODEL_e7f99e6c05784c209790ffc6867b03c0",
       "max": 10000,
       "min": 10,
       "style": "IPY_MODEL_fcf90ade214348b5853af7dc8e8b11a0",
       "value": 5005
      }
     },
     "defbfec0c07549198b2072ec008d8c56": {
      "model_module": "@jupyter-widgets/controls",
      "model_module_version": "2.0.0",
      "model_name": "ProgressStyleModel",
      "state": {
       "description_width": ""
      }
     },
     "e29ed675c3df4ba79e7af08110f3d7bf": {
      "model_module": "@jupyter-widgets/controls",
      "model_module_version": "2.0.0",
      "model_name": "HTMLStyleModel",
      "state": {
       "description_width": "",
       "font_size": null,
       "text_color": null
      }
     },
     "e336d4a57e2045aca698e13d626af9f2": {
      "model_module": "@jupyter-widgets/controls",
      "model_module_version": "2.0.0",
      "model_name": "HTMLModel",
      "state": {
       "layout": "IPY_MODEL_bfa379f9d34c4614b2c1ade293f898bc",
       "style": "IPY_MODEL_f82b65c33e1649c0bf73e1b079dfb2b2",
       "value": " 632/632 [00:00&lt;00:00, 1403.67it/s]"
      }
     },
     "e36530f3a270470a913018aa7041f940": {
      "model_module": "@jupyter-widgets/base",
      "model_module_version": "2.0.0",
      "model_name": "LayoutModel",
      "state": {}
     },
     "e3d5abd5fa7147988bf5ce99260c5356": {
      "model_module": "@jupyter-widgets/controls",
      "model_module_version": "2.0.0",
      "model_name": "HBoxModel",
      "state": {
       "children": [
        "IPY_MODEL_b4c22c8b2b9d45c49cd6de09de168764",
        "IPY_MODEL_9d191362e68f40139de9fad9f499fd48",
        "IPY_MODEL_81124568b1c345558f0c5b62fc0a40a2"
       ],
       "layout": "IPY_MODEL_1b222a21bdc04e2c86c75fe0effde7cb"
      }
     },
     "e4827de91d204ebda258532bdbf52066": {
      "model_module": "@jupyter-widgets/base",
      "model_module_version": "2.0.0",
      "model_name": "LayoutModel",
      "state": {}
     },
     "e55fddeb0d4f40fb9ee7867a69e3b8fa": {
      "model_module": "@jupyter-widgets/controls",
      "model_module_version": "2.0.0",
      "model_name": "HTMLStyleModel",
      "state": {
       "description_width": "",
       "font_size": null,
       "text_color": null
      }
     },
     "e5949bdf3f034b02b7d44b2cab7f95ea": {
      "model_module": "@jupyter-widgets/controls",
      "model_module_version": "2.0.0",
      "model_name": "HTMLModel",
      "state": {
       "layout": "IPY_MODEL_029ddedfd02845e6b9e9609e9f76e5d4",
       "style": "IPY_MODEL_c41dda8724f54e57a5e267cbce3fc9b5",
       "value": " 632/632 [00:00&lt;00:00, 1168.88it/s]"
      }
     },
     "e62c473524b84fdeac962793af638317": {
      "model_module": "@jupyter-widgets/base",
      "model_module_version": "2.0.0",
      "model_name": "LayoutModel",
      "state": {}
     },
     "e78c72fe7ec5437d80dc0150733eba81": {
      "model_module": "@jupyter-widgets/controls",
      "model_module_version": "2.0.0",
      "model_name": "HTMLStyleModel",
      "state": {
       "description_width": "",
       "font_size": null,
       "text_color": null
      }
     },
     "e791f66935424fa381bfeaf51c7a251f": {
      "model_module": "@jupyter-widgets/controls",
      "model_module_version": "2.0.0",
      "model_name": "HBoxModel",
      "state": {
       "children": [
        "IPY_MODEL_7de01f28a6844a50a0d2d12fa649f428",
        "IPY_MODEL_922ef33fc96a436dbc08fa0dad7b9450",
        "IPY_MODEL_89b909aadcbd4377b960f1fbac5d3cf8"
       ],
       "layout": "IPY_MODEL_23ea06f53c9748bb8fe09abca77ae2da"
      }
     },
     "e7f99e6c05784c209790ffc6867b03c0": {
      "model_module": "@jupyter-widgets/base",
      "model_module_version": "2.0.0",
      "model_name": "LayoutModel",
      "state": {}
     },
     "e95e316da0344545a85970abd49378d6": {
      "model_module": "@jupyter-widgets/controls",
      "model_module_version": "2.0.0",
      "model_name": "FloatProgressModel",
      "state": {
       "bar_style": "success",
       "layout": "IPY_MODEL_46b16a9bb47943c0a80180d04b3cd555",
       "max": 632,
       "style": "IPY_MODEL_b2f0fd23459547c5b458b321de4d38f6",
       "value": 632
      }
     },
     "e9ab9cd37df04a8daaf5271052426654": {
      "model_module": "@jupyter-widgets/base",
      "model_module_version": "2.0.0",
      "model_name": "LayoutModel",
      "state": {}
     },
     "ec4ce29c734c46abb564d4c1a09c33df": {
      "model_module": "@jupyter-widgets/controls",
      "model_module_version": "2.0.0",
      "model_name": "HBoxModel",
      "state": {
       "children": [
        "IPY_MODEL_2bd40dddfd484ea59e07c27489c35947",
        "IPY_MODEL_cc21e34055ba4b9ca6e4ad11d9d5dd2c",
        "IPY_MODEL_b97106deb6a14c84bbbbd9b172477faa"
       ],
       "layout": "IPY_MODEL_7b2465aea7e84d21b48bcf723370798d"
      }
     },
     "ec60c0e691f34b7da5bfcad05b303009": {
      "model_module": "@jupyter-widgets/controls",
      "model_module_version": "2.0.0",
      "model_name": "HBoxModel",
      "state": {
       "children": [
        "IPY_MODEL_3538ffe655eb48f4b0f5ec1d9da748ee",
        "IPY_MODEL_88559ff78a76405287d99c932307b112",
        "IPY_MODEL_88a5935d2248407bbfea223e5b9f4cc2"
       ],
       "layout": "IPY_MODEL_062102b050ae4d5ab6d5a00d526334d3"
      }
     },
     "ec94b73538e345069879aff57d9860ff": {
      "model_module": "@jupyter-widgets/controls",
      "model_module_version": "2.0.0",
      "model_name": "FloatProgressModel",
      "state": {
       "bar_style": "success",
       "layout": "IPY_MODEL_094be6e8a5fd44f8b61d41d2d06afe5d",
       "max": 632,
       "style": "IPY_MODEL_68a298d6bec34440aba143487dee8ac7",
       "value": 632
      }
     },
     "ee1d58dce4b840fa9e7270b730a9ab30": {
      "model_module": "@jupyter-widgets/controls",
      "model_module_version": "2.0.0",
      "model_name": "HTMLStyleModel",
      "state": {
       "description_width": "",
       "font_size": null,
       "text_color": null
      }
     },
     "eedd8558fcd7497eb4a0e81c60dee0da": {
      "model_module": "@jupyter-widgets/base",
      "model_module_version": "2.0.0",
      "model_name": "LayoutModel",
      "state": {}
     },
     "eee581d7007248dd870ceae7babcd55a": {
      "model_module": "@jupyter-widgets/controls",
      "model_module_version": "2.0.0",
      "model_name": "HBoxModel",
      "state": {
       "children": [
        "IPY_MODEL_6c16eb2271e7402b99b51117e1e30a6d",
        "IPY_MODEL_c0499b10416c473ab6e6d615045c3809",
        "IPY_MODEL_99b05f8b6151482c9251cb0a741cb274"
       ],
       "layout": "IPY_MODEL_11cb1609feb14881a9270e53e380bd2d"
      }
     },
     "f06a37915aab458286bdd26699151fb3": {
      "model_module": "@jupyter-widgets/base",
      "model_module_version": "2.0.0",
      "model_name": "LayoutModel",
      "state": {}
     },
     "f1f597ee46be4e6599dd661724be61aa": {
      "model_module": "@jupyter-widgets/base",
      "model_module_version": "2.0.0",
      "model_name": "LayoutModel",
      "state": {}
     },
     "f3824232f13942d383dd73b16aa7240e": {
      "model_module": "@jupyter-widgets/base",
      "model_module_version": "2.0.0",
      "model_name": "LayoutModel",
      "state": {}
     },
     "f390b112a201498ab1fc477d9c8a83f1": {
      "model_module": "@jupyter-widgets/controls",
      "model_module_version": "2.0.0",
      "model_name": "HTMLStyleModel",
      "state": {
       "description_width": "",
       "font_size": null,
       "text_color": null
      }
     },
     "f4231a1ca2a241e7af7e0a2be322799e": {
      "model_module": "@jupyter-widgets/controls",
      "model_module_version": "2.0.0",
      "model_name": "FloatProgressModel",
      "state": {
       "bar_style": "success",
       "layout": "IPY_MODEL_78a4fddf03b04c86a80315929a59ea98",
       "max": 632,
       "style": "IPY_MODEL_2dcc05031339486d8515856b6ed14331",
       "value": 632
      }
     },
     "f44aec32c40d458a8ac4aaeb78e55b46": {
      "model_module": "@jupyter-widgets/base",
      "model_module_version": "2.0.0",
      "model_name": "LayoutModel",
      "state": {}
     },
     "f4b9ed5e58cb4715955389a20edbad43": {
      "model_module": "@jupyter-widgets/controls",
      "model_module_version": "2.0.0",
      "model_name": "FloatProgressModel",
      "state": {
       "bar_style": "success",
       "layout": "IPY_MODEL_fc7bd1543f3b4b25a27362dfbcaa8962",
       "max": 632,
       "style": "IPY_MODEL_08ea16402d80437989b092ba39f12890",
       "value": 632
      }
     },
     "f61f8f219e854b0191824c5fe1fe0e7c": {
      "model_module": "@jupyter-widgets/controls",
      "model_module_version": "2.0.0",
      "model_name": "HTMLModel",
      "state": {
       "layout": "IPY_MODEL_dbb5fda1ae774e4aaec230c5aa82158e",
       "style": "IPY_MODEL_79b77bb05644497286584ca7b0abb49f",
       "value": "100%"
      }
     },
     "f82b65c33e1649c0bf73e1b079dfb2b2": {
      "model_module": "@jupyter-widgets/controls",
      "model_module_version": "2.0.0",
      "model_name": "HTMLStyleModel",
      "state": {
       "description_width": "",
       "font_size": null,
       "text_color": null
      }
     },
     "f85995b1c60f403fbc7bd52a24d36644": {
      "model_module": "@jupyter-widgets/base",
      "model_module_version": "2.0.0",
      "model_name": "LayoutModel",
      "state": {}
     },
     "f9e7a0b40248492091f43d2f0b7d19c5": {
      "model_module": "@jupyter-widgets/base",
      "model_module_version": "2.0.0",
      "model_name": "LayoutModel",
      "state": {}
     },
     "fc1270d7c34d4319bc5b1f8765eafd4a": {
      "model_module": "@jupyter-widgets/controls",
      "model_module_version": "2.0.0",
      "model_name": "HTMLStyleModel",
      "state": {
       "description_width": "",
       "font_size": null,
       "text_color": null
      }
     },
     "fc7bd1543f3b4b25a27362dfbcaa8962": {
      "model_module": "@jupyter-widgets/base",
      "model_module_version": "2.0.0",
      "model_name": "LayoutModel",
      "state": {}
     },
     "fcbfaeb5ed0a424cab5c85c34050da2f": {
      "model_module": "@jupyter-widgets/controls",
      "model_module_version": "2.0.0",
      "model_name": "HBoxModel",
      "state": {
       "children": [
        "IPY_MODEL_c5d707f549a14209921840f3bb4f4b39",
        "IPY_MODEL_2d6a4737212a4b5d931bdab7e7633773",
        "IPY_MODEL_e5949bdf3f034b02b7d44b2cab7f95ea"
       ],
       "layout": "IPY_MODEL_00e6e3b1ce20486a97bd8d09f57c5696"
      }
     },
     "fcf90ade214348b5853af7dc8e8b11a0": {
      "model_module": "@jupyter-widgets/controls",
      "model_module_version": "2.0.0",
      "model_name": "SliderStyleModel",
      "state": {
       "description_width": ""
      }
     },
     "fd144d316d3f48e7912cd4df05d3305a": {
      "model_module": "@jupyter-widgets/controls",
      "model_module_version": "2.0.0",
      "model_name": "ProgressStyleModel",
      "state": {
       "description_width": ""
      }
     },
     "fd197cd507fb4a75b9aad5c153e317ef": {
      "model_module": "@jupyter-widgets/base",
      "model_module_version": "2.0.0",
      "model_name": "LayoutModel",
      "state": {}
     },
     "fdabc215958a4c41baa34fb13c4d6641": {
      "model_module": "@jupyter-widgets/controls",
      "model_module_version": "2.0.0",
      "model_name": "HBoxModel",
      "state": {
       "children": [
        "IPY_MODEL_51409859c4794900b620bbdc1098c26b",
        "IPY_MODEL_3265a0d12b4c4f369ce9eb62f40e4d99",
        "IPY_MODEL_bd341f8286cb40699303af002afb4141"
       ],
       "layout": "IPY_MODEL_32dc43739084495facddd13f6e5e2baa"
      }
     },
     "fdc209a32dae47eeba6c75a49d660382": {
      "model_module": "@jupyter-widgets/controls",
      "model_module_version": "2.0.0",
      "model_name": "FloatProgressModel",
      "state": {
       "bar_style": "success",
       "layout": "IPY_MODEL_79de06766728427985cb95029533890a",
       "max": 632,
       "style": "IPY_MODEL_a381430dac144d67bbd1de8a533df1b3",
       "value": 632
      }
     }
    },
    "version_major": 2,
    "version_minor": 0
   }
  }
 },
 "nbformat": 4,
 "nbformat_minor": 5
}
