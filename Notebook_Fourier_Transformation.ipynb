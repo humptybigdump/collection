{
 "cells": [
  {
   "cell_type": "markdown",
   "id": "f2dbca56",
   "metadata": {},
   "source": [
    "## Beispiel einer Fourier-Darstellung von einer Funktion"
   ]
  },
  {
   "cell_type": "code",
   "execution_count": 1,
   "id": "d754b954",
   "metadata": {},
   "outputs": [],
   "source": [
    "# Bevor wir anfangen, lass und ein Paar Module importieren\n",
    "import numpy as np\n",
    "import matplotlib.pyplot as plt"
   ]
  },
  {
   "cell_type": "markdown",
   "id": "a8c31a18",
   "metadata": {},
   "source": [
    "Wir diskretisieren den eindimensionalen Raum $x = [0, L)$ mit $n$ diskreten Koordinaten $x_i = i  \\frac{L}{n}$, wobei $i=0, \\cdots ,n-1$, welche wir in den Vektor $\\mathbf{x} = \\{ x_0, x_1, \\cdots, x_{n-1} \\}$ speichern. Wir wählen $n$ als eine ungerade ganze Zahl. "
   ]
  },
  {
   "cell_type": "code",
   "execution_count": 2,
   "id": "c30b8697",
   "metadata": {},
   "outputs": [],
   "source": [
    "# ein Array von Raumkoordinate wird definiert \n",
    "n = 11                         # Anzahl von Punkten (bitte ungerade ganze Zahl)\n",
    "L = 1                          # Länge des Gebietes\n",
    "x = L*np.arange(0,n)/n         # Vektor der Koordinaten \n"
   ]
  },
  {
   "cell_type": "markdown",
   "id": "0cc615c8",
   "metadata": {},
   "source": [
    "Wir definieren im Gebiet $x = [0, L)$ eine periodische Funktion. Wir wählen die Sinuswelle \n",
    "\n",
    "$$ f = A \\sin (k x) \\,\\, ,$$ \n",
    "\n",
    "wobei $A$ die Amplitude und $k=2\\pi / \\lambda$ die Wellenzahl und $\\lambda$ die Wellenlänge ist. Wir setzten beispielsweise die Amplitude der Welle als $A=1$ und die Wellenlänge als $\\lambda=L$, so dass die Wellenlänge gerade der gesamten Länge des Gebiets entspricht. Es ergibt sich eine Wellenzahl $k=2\\pi / L$. \n",
    "\n",
    "Natürlich wird die Funktion $f$ als diskrete Funktionswerte $f_i$ an den Stellen $x_i$ in den Vektor $\\mathbf{f} = \\{ f_0, f_1, \\cdots, f_{n-1} \\}$ gespeichert. "
   ]
  },
  {
   "cell_type": "code",
   "execution_count": 3,
   "id": "549431d9",
   "metadata": {},
   "outputs": [],
   "source": [
    "# ein Array von Funktionswerte wird definiert\n",
    "k = 2 * np.pi / L\n",
    "f = np.sin(k*x)"
   ]
  },
  {
   "cell_type": "markdown",
   "id": "7be2327a",
   "metadata": {},
   "source": [
    "Wir nehmen jetzt die diskrete Fourier-Transformation der diskreten Funktion $f_i$. Indem wir es tun, drücken wir die diskrete Funktion $f_i$ als Summe einzelner Fourier-Wellen wie folgt aus:\n",
    "\n",
    "\\begin{equation}\n",
    "     f_i = \\sum_{j=-n/2}^{n/2} \\hat{f_j} \\, e^{I j k x_i } \\,\\,\\,, \\qquad \\qquad (\\mathrm{P}\\,2.1)\n",
    "     \\label{eq:1}\n",
    "\\end{equation}\n",
    "\n",
    "wobei $I=\\sqrt{-1}$ die imaginäre Einheit ist und  $e^{I j k x }$ sich durch die Euler'sche Formel auch als $e^{I j k x } = \\cos(j k x)  + I \\sin(j k x) $  ausdrücken lässt. Der Index $j$ entspricht der $j$-te Welle dar. Die $j$-te Welle hat eine Wellenzahl $k_j= j k$, also eine Wellenlänge $ \\lambda_j = \\frac{2 \\pi}{j k} = L/j $. Die $n$ Fourier-Koeffizienten $\\hat{f_j}$ sind das Resultat der diskreten Fourier-Transformation und werden in dem Vektor $\\mathbf{F}$ gespeichert. Die Fourier-Koeffizienten drücken die Amplitude und Phasenlage jeder Welle aus. "
   ]
  },
  {
   "cell_type": "code",
   "execution_count": 4,
   "id": "af3262d0",
   "metadata": {},
   "outputs": [],
   "source": [
    "# die fuktion f wird Fourier-transformiert\n",
    "F = np.fft.fft(f,norm='forward')\n",
    "# weger numrischer Optimierung gibt die Funktion fft \n",
    "# eine Reihenfolge der Fourier-Koeffizienten zurück,\n",
    "# welche Gleichung P2.1 nicht entspricht. \n",
    "# Um die richtige Reihenfolge zu erhalten, benutzten wir\n",
    "# die Funktion fftshift\n",
    "F = np.fft.fftshift(F)\n",
    "\n",
    "# wir stellen einen Vektor der Wellenzahlen k_j her\n",
    "k_j = np.arange(-n//2+1,n//2+1)*k\n",
    "# und einen Vektor der Indizes j\n",
    "j = np.arange(-n//2+1,n//2+1)\n",
    "# wir brauchen diese gleich zum Plotten"
   ]
  },
  {
   "cell_type": "markdown",
   "id": "7e8ee11e",
   "metadata": {},
   "source": [
    "Jetzt können wir den reellen und imaginären Anteil der Fourier-Koeffizienten in einem Diagramm darstellen"
   ]
  },
  {
   "cell_type": "code",
   "execution_count": 5,
   "id": "f3b0952a",
   "metadata": {},
   "outputs": [
    {
     "data": {
      "image/png": "[encoded data removed]",
      "text/plain": [
       "<Figure size 432x288 with 1 Axes>"
      ]
     },
     "metadata": {
      "needs_background": "light"
     },
     "output_type": "display_data"
    }
   ],
   "source": [
    "plt.figure()\n",
    "plt.title('Fourier Koeffizienten der j-te Welle')\n",
    "plt.plot(j,np.real(F),'x',label=r'$\\mathcal{Re}\\,(F)$')\n",
    "plt.plot(j,np.imag(F),'.',label=r'$\\mathcal{Im}\\,(F)$')\n",
    "plt.gca().set_xticks(j) # This will show one tick for on the x-axis for each j\n",
    "plt.xlabel('j')\n",
    "plt.legend()\n",
    "plt.show()"
   ]
  }
 ],
 "metadata": {
  "kernelspec": {
   "display_name": "Python 3 (ipykernel)",
   "language": "python",
   "name": "python3"
  },
  "language_info": {
   "codemirror_mode": {
    "name": "ipython",
    "version": 3
   },
   "file_extension": ".py",
   "mimetype": "text/x-python",
   "name": "python",
   "nbconvert_exporter": "python",
   "pygments_lexer": "ipython3",
   "version": "3.9.13"
  }
 },
 "nbformat": 4,
 "nbformat_minor": 5
}
