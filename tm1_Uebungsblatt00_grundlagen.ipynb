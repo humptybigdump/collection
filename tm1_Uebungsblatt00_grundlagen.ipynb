{
 "cells": [
  {
   "cell_type": "markdown",
   "metadata": {
    "jp-MarkdownHeadingCollapsed": true
   },
   "source": [
    "# Python Basics"
   ]
  },
  {
   "cell_type": "markdown",
   "metadata": {
    "jp-MarkdownHeadingCollapsed": true
   },
   "source": [
    "## Grundlegende Datentypen und Operatoren"
   ]
  },
  {
   "cell_type": "code",
   "execution_count": 1,
   "metadata": {},
   "outputs": [
    {
     "name": "stdout",
     "output_type": "stream",
     "text": [
      "1\n",
      "<class 'int'>\n"
     ]
    }
   ],
   "source": [
    "# Integer\n",
    "a = 1\n",
    "print(a)\n",
    "print(type(a))"
   ]
  },
  {
   "cell_type": "code",
   "execution_count": 2,
   "metadata": {},
   "outputs": [
    {
     "name": "stdout",
     "output_type": "stream",
     "text": [
      "1.0\n",
      "<class 'float'>\n"
     ]
    }
   ],
   "source": [
    "# Double\n",
    "b = 1.\n",
    "print(b)\n",
    "print(type(b))"
   ]
  },
  {
   "cell_type": "code",
   "execution_count": 3,
   "metadata": {},
   "outputs": [
    {
     "name": "stdout",
     "output_type": "stream",
     "text": [
      "Hello World Hello World\n",
      "Hello WorldHello World\n"
     ]
    }
   ],
   "source": [
    "# String\n",
    "string1 = 'Hello World'\n",
    "string2 = \"Hello World\"\n",
    "print(string1,string2)\n",
    "print(string1 + string2)"
   ]
  },
  {
   "cell_type": "code",
   "execution_count": 4,
   "metadata": {},
   "outputs": [
    {
     "name": "stdout",
     "output_type": "stream",
     "text": [
      "<class 'int'>\n",
      "<class 'float'>\n",
      "<class 'str'>\n"
     ]
    }
   ],
   "source": [
    "# Python erlaubt die dynamische Zuweisung von Datentypen (vs. statische Zuweisung + Kompilieren, wie z.B in Fortran).\n",
    "# Der Datentyp einer Variable muss also nicht explizit im Voraus gesetzt werden.\n",
    "# Python schließt bei Ausführung des Codes automatisch auf den korrekten Datentyp, dieser kann sich im Code auch ändern.\n",
    "\n",
    "q = 1\n",
    "print(type(q))\n",
    "q = 3.14\n",
    "print(type(q))\n",
    "q = \"Ich bin ein String\"\n",
    "print(type(q))\n",
    "\n",
    "# Vorteil: Besser lesbarer, weniger verboser Code - Beschränkung auf die eigentliche \"Logik\" des Programms\n",
    "# Nachteil: Geschwindigkeit, gewisse Fehleranfälligkeit \n",
    "# (Bei größeren Anwendungungen bei denen der Datentyp relevant ist, sind ggf. manuelle typechecks angebracht)"
   ]
  },
  {
   "cell_type": "code",
   "execution_count": 5,
   "metadata": {},
   "outputs": [
    {
     "name": "stdout",
     "output_type": "stream",
     "text": [
      "3\n",
      "<class 'int'>\n",
      "3.5\n",
      "<class 'float'>\n"
     ]
    }
   ],
   "source": [
    "# Addition\n",
    "a = 1\n",
    "b = 2\n",
    "\n",
    "c = a + b\n",
    "print(c)\n",
    "print(type(c))\n",
    "\n",
    "# Anmerkung: Bei gemischter Nutzung schließt Python (sofern möglich) auf den resultierenden Datentyp\n",
    "# Beispiel: double + int -> Konvertierung zu double\n",
    "\n",
    "a = 1\n",
    "b = 2.5\n",
    "\n",
    "c = a + b\n",
    "print(c)\n",
    "print(type(c))"
   ]
  },
  {
   "cell_type": "code",
   "execution_count": 6,
   "metadata": {},
   "outputs": [
    {
     "name": "stdout",
     "output_type": "stream",
     "text": [
      "0.2857142857142857\n"
     ]
    }
   ],
   "source": [
    "# Multiplikation und Division\n",
    "d = (c - b) / c * a\n",
    "print(d)"
   ]
  },
  {
   "cell_type": "code",
   "execution_count": 7,
   "metadata": {},
   "outputs": [
    {
     "name": "stdout",
     "output_type": "stream",
     "text": [
      "12.25\n"
     ]
    }
   ],
   "source": [
    "# Potenzen\n",
    "e = c ** 2\n",
    "print(e)"
   ]
  },
  {
   "cell_type": "code",
   "execution_count": 8,
   "metadata": {},
   "outputs": [
    {
     "name": "stdout",
     "output_type": "stream",
     "text": [
      "3\n"
     ]
    }
   ],
   "source": [
    "# Modulo Operator\n",
    "f = 24 % 7\n",
    "print(f)"
   ]
  },
  {
   "cell_type": "markdown",
   "metadata": {
    "jp-MarkdownHeadingCollapsed": true
   },
   "source": [
    "## Listen, Tupel und Dictionaries"
   ]
  },
  {
   "cell_type": "code",
   "execution_count": 9,
   "metadata": {},
   "outputs": [
    {
     "name": "stdout",
     "output_type": "stream",
     "text": [
      "[1, 2, 3.0, 4, 'String']\n"
     ]
    }
   ],
   "source": [
    "# Listen  \n",
    "\n",
    "liste_1 = [1,2,3.,4,'String']\n",
    "print(liste_1)"
   ]
  },
  {
   "cell_type": "code",
   "execution_count": 10,
   "metadata": {},
   "outputs": [
    {
     "name": "stdout",
     "output_type": "stream",
     "text": [
      "(1, 2, 3.0, 4, 'String')\n"
     ]
    }
   ],
   "source": [
    "# Tupel \n",
    "\n",
    "tupel_1 = (1,2,3.,4,'String')\n",
    "print(tupel_1)"
   ]
  },
  {
   "cell_type": "code",
   "execution_count": 11,
   "metadata": {},
   "outputs": [
    {
     "name": "stdout",
     "output_type": "stream",
     "text": [
      "String\n",
      "3.0\n"
     ]
    }
   ],
   "source": [
    "# Auf Elemente zugreifen - WICHTIG: Indizierung beginnt bei 0!\n",
    "\n",
    "print(liste_1[4])\n",
    "print(tupel_1[2])"
   ]
  },
  {
   "cell_type": "code",
   "execution_count": 12,
   "metadata": {},
   "outputs": [
    {
     "name": "stdout",
     "output_type": "stream",
     "text": [
      "[3.0, 4, 'String']\n",
      "(2, 3.0)\n"
     ]
    }
   ],
   "source": [
    "# Slicing - man kann einfach auf mehrere Elemente einer Liste/eines Tupels zugreifen.\n",
    "\n",
    "# Achtung: Die Syntax [i:j] ruft die Elemente i, i+1 , ... , j-1 (!) auf.\n",
    "# Das kann zunächst etwas ungewohnt sein, hat aber den Vorteil, dass sich\n",
    "# aus \"j-i\" leicht die Anzahl der Elemente ablesen lässt\n",
    "# Beispiel: [2:5] -> ab Index 2 werden 3 Elemente aufgerufen\n",
    "\n",
    "print(liste_1[2:5])\n",
    "print(tupel_1[1:3])"
   ]
  },
  {
   "cell_type": "code",
   "execution_count": 13,
   "metadata": {},
   "outputs": [
    {
     "name": "stdout",
     "output_type": "stream",
     "text": [
      "[10, 2, 3, 4]\n",
      "[10, 2, 22, 33]\n",
      "Da ging etwas schief! Error Message: 'tuple' object does not support item assignment\n"
     ]
    }
   ],
   "source": [
    "# Liste: veränderbar, Tupel: unveränderbar\n",
    "\n",
    "neue_Liste = [1,2,3,4]\n",
    "neues_Tupel = (1,2,3,4)\n",
    "\n",
    "neue_Liste[0] = 10\n",
    "print(neue_Liste)\n",
    "neue_Liste[2:4] = [22, 33]\n",
    "print(neue_Liste)\n",
    "\n",
    "# Versucht man ein Tupel zu ändern gibt es einen Error\n",
    "try:\n",
    "    neues_Tupel[0] = 10\n",
    "except Exception as e:\n",
    "    print(\"Da ging etwas schief! Error Message:\" ,e)"
   ]
  },
  {
   "cell_type": "code",
   "execution_count": 14,
   "metadata": {},
   "outputs": [
    {
     "name": "stdout",
     "output_type": "stream",
     "text": [
      "[1, 2, 3.0, 4, 'String', 3.5]\n",
      "[1, 2, 3.0, 4, 3.5]\n",
      "[1, 2, 3.0, 3.5, 4]\n",
      "[1, 2, 3.0, 3.5, 4, 77, 88, 99]\n"
     ]
    }
   ],
   "source": [
    "# Es existieren noch viele weitere Möglichkeiten zur Manipulation von Listen\n",
    "\n",
    "# Beispiel: Ein Element an eine Liste anhängen\n",
    "liste_1.append(3.5) \n",
    "print(liste_1)\n",
    "\n",
    "# Beispiel: Ein Element aus einer Liste entfernen\n",
    "liste_1.remove('String')\n",
    "print(liste_1)\n",
    "\n",
    "# Beispiel: Liste sortieren\n",
    "liste_1.sort()\n",
    "print(liste_1)\n",
    "\n",
    "# Beispiel: Listen addieren\n",
    "print(liste_1 + [77, 88, 99])\n",
    "\n",
    "# Für mehr Methoden und Beispiele: https://docs.python.org/3/tutorial/datastructures.html#more-on-lists"
   ]
  },
  {
   "cell_type": "code",
   "execution_count": 15,
   "metadata": {},
   "outputs": [
    {
     "name": "stdout",
     "output_type": "stream",
     "text": [
      "22\n"
     ]
    }
   ],
   "source": [
    "# Dictionaries - Listen und Tupel sind geordnete Datenobjekte (die Einträge lassen sich über den Index sortieren)\n",
    "# Dictionaries sind ungeordnet, die Einträge haben keine \"natürliche\" Reihenfolge sondern werden jeweils Tags zugeordnet\n",
    "\n",
    "Studenten = {\n",
    "    \"Anne\" : 25,\n",
    "    \"Daniel\" : 29,\n",
    "    \"Jürgen\" : 22\n",
    "    }\n",
    "\n",
    "print(Studenten[\"Jürgen\"])\n",
    "\n",
    "# Eine Übersicht zur Syntax und Methoden von Dictionaries: https://www.programiz.com/python-programming/dictionary"
   ]
  },
  {
   "cell_type": "markdown",
   "metadata": {
    "jp-MarkdownHeadingCollapsed": true
   },
   "source": [
    "## Loops"
   ]
  },
  {
   "cell_type": "code",
   "execution_count": 16,
   "metadata": {},
   "outputs": [
    {
     "name": "stdout",
     "output_type": "stream",
     "text": [
      "0\n",
      "1\n",
      "2\n",
      "3\n",
      "4\n",
      "5\n",
      "6\n",
      "7\n",
      "8\n",
      "9\n"
     ]
    }
   ],
   "source": [
    "# for-loop\n",
    "# In Python gibt es keine Klammern, wie in C++ und kein end, wie in Matlab. Stattdessen wird mit Tab eingerückt:\n",
    "for i in range(10):\n",
    "    print(i)\n",
    "    \n",
    "# Achtung: Die Einrückungen sind in diesem Falle nicht nur für die Optik sondern tatsächlich syntaxrelevant!"
   ]
  },
  {
   "cell_type": "code",
   "execution_count": 17,
   "metadata": {},
   "outputs": [
    {
     "name": "stdout",
     "output_type": "stream",
     "text": [
      "0\n",
      "1\n",
      "2\n",
      "3\n",
      "4\n",
      "5\n",
      "6\n",
      "7\n",
      "8\n",
      "9\n"
     ]
    }
   ],
   "source": [
    "# while-loop\n",
    "\n",
    "i = 0\n",
    "while i < 10:\n",
    "    print(i)\n",
    "    i += 1"
   ]
  },
  {
   "cell_type": "markdown",
   "metadata": {
    "jp-MarkdownHeadingCollapsed": true
   },
   "source": [
    "## Bool'sche Operationen"
   ]
  },
  {
   "cell_type": "code",
   "execution_count": 18,
   "metadata": {},
   "outputs": [
    {
     "name": "stdout",
     "output_type": "stream",
     "text": [
      "tic\n",
      "tic\n",
      "toc\n",
      "toc\n"
     ]
    }
   ],
   "source": [
    "# If Abfrage\n",
    "# In Python gibt es die üblichen Vergleichsoperatoren: <, <=, >, >=, !=, ==\n",
    "\n",
    "for i in range(4):\n",
    "    if i < 2:\n",
    "        print('tic')\n",
    "    else:\n",
    "        print('toc')\n"
   ]
  },
  {
   "cell_type": "code",
   "execution_count": 19,
   "metadata": {},
   "outputs": [
    {
     "name": "stdout",
     "output_type": "stream",
     "text": [
      "True\n",
      "False\n",
      "True\n"
     ]
    }
   ],
   "source": [
    "# Verknüpfung/Negation von Bedingungen über die Logische Operatoren: and, or und not\n",
    "\n",
    "print(not 5 < 4)\n",
    "print(5 < 4 and 2 > 1)\n",
    "print(5 < 4 or 2 > 1)"
   ]
  },
  {
   "cell_type": "markdown",
   "metadata": {
    "jp-MarkdownHeadingCollapsed": true
   },
   "source": [
    "## List Comprehension"
   ]
  },
  {
   "cell_type": "code",
   "execution_count": 20,
   "metadata": {},
   "outputs": [
    {
     "name": "stdout",
     "output_type": "stream",
     "text": [
      "1\n",
      "4\n",
      "9.0\n",
      "12.25\n",
      "16\n",
      "\n",
      "1\n",
      "4\n",
      "9.0\n",
      "12.25\n",
      "16\n"
     ]
    }
   ],
   "source": [
    "# Über for loops kann man in Python elegant über die Elemente einer Liste (oder anderer iterierbarer Objekte) iterieren\n",
    "\n",
    "# klassisch:\n",
    "for i in range(len(liste_1)):\n",
    "    print(liste_1[i] ** 2)\n",
    "\n",
    "print(\"\")\n",
    "# python:\n",
    "for element in liste_1:\n",
    "    print(element ** 2)"
   ]
  },
  {
   "cell_type": "code",
   "execution_count": 21,
   "metadata": {},
   "outputs": [
    {
     "name": "stdout",
     "output_type": "stream",
     "text": [
      "[0, 1, 2, 3, 4, 5, 6, 7, 8, 9]\n",
      "[0, 1, 2, 3, 4, 5, 6, 7, 8, 9]\n"
     ]
    }
   ],
   "source": [
    "# Für das Füllen/Erstellen von Listen existiert ebenfalls eine einfache/gut lesbare Syntax\n",
    "\n",
    "# klassisch:\n",
    "liste_2 = []\n",
    "for i in range(10):\n",
    "    liste_2.append(i)\n",
    "print(liste_2)\n",
    "\n",
    "# python:\n",
    "liste_3 = [i for i in range(10)]\n",
    "print(liste_3)"
   ]
  },
  {
   "cell_type": "code",
   "execution_count": 22,
   "metadata": {},
   "outputs": [
    {
     "name": "stdout",
     "output_type": "stream",
     "text": [
      "[4, 5, 6, 7, 8, 9]\n"
     ]
    }
   ],
   "source": [
    "# Das kann auch mit if Bedingungen verknüpft werden\n",
    "\n",
    "liste_4 = [element for element in liste_3 if element > 3]\n",
    "print(liste_4)"
   ]
  },
  {
   "cell_type": "markdown",
   "metadata": {
    "jp-MarkdownHeadingCollapsed": true
   },
   "source": [
    "## Funktionen"
   ]
  },
  {
   "cell_type": "code",
   "execution_count": 23,
   "metadata": {},
   "outputs": [],
   "source": [
    "# Funktionenblöcke werden über das Keyword \"def\" eingeleitet\n",
    "\n",
    "def exponentiate(base,exponent):\n",
    "    return base ** exponent"
   ]
  },
  {
   "cell_type": "code",
   "execution_count": 24,
   "metadata": {},
   "outputs": [
    {
     "name": "stdout",
     "output_type": "stream",
     "text": [
      "49\n"
     ]
    }
   ],
   "source": [
    "# Funktionsaufruf\n",
    "# \"base\" und \"exponent\" werden über die Position der eingegebenen Argumente bestimmt\n",
    "a = exponentiate(7,2)\n",
    "print(a)"
   ]
  },
  {
   "cell_type": "code",
   "execution_count": 25,
   "metadata": {},
   "outputs": [
    {
     "name": "stdout",
     "output_type": "stream",
     "text": [
      "49\n",
      "49\n",
      "49\n"
     ]
    }
   ],
   "source": [
    "# Alternativ kann die Eingabe auch über die Keywords erfolgen\n",
    "# Dies kann bei komplexen Funktionen (mit vielen Argumenten) für eine bessere Lesbarkeit sorgen\n",
    "\n",
    "a = exponentiate(base = 7, exponent = 2)\n",
    "print(a)\n",
    "\n",
    "# Hierbei ist die Reihenfolge egal\n",
    "a = exponentiate(exponent = 2, base = 7)\n",
    "print(a)\n",
    "\n",
    "# Kann auch gemischt verwendet werden (hierbei stehen die Keywordarguments immer hinten)\n",
    "a = exponentiate(7, exponent = 2)\n",
    "print(a)"
   ]
  },
  {
   "cell_type": "markdown",
   "metadata": {
    "jp-MarkdownHeadingCollapsed": true
   },
   "source": [
    "## Programmierstil"
   ]
  },
  {
   "cell_type": "code",
   "execution_count": 26,
   "metadata": {},
   "outputs": [],
   "source": [
    "# Oft ergibt es Sinn, sich bei variablen Benennung und Formatierung an Konventionen zu halten\n",
    "# Während stilistische Änderungen die Funktionalität des Programms nicht direkt verändern, ist es für die Lesbarkeit hilfrich\n",
    "# Ein in Python weitverbreiteter Standard ist dabei PEP 8 \n",
    "# Einige Beispiele dieses Style-Guides werden im Folgenden demonstriert, viele weitere lassen sich hier finden: https://peps.python.org/pep-0008/\n",
    "\n",
    "# Zwischen Operatoren wird im Allgemeinen ein Leerzeichen gelassen: \n",
    "\n",
    "not_pep8 = 2*2+3**4/4 \n",
    "pep8 = 2 * 2 + 3 ** 4 / 4 \n",
    "\n",
    "# Variablen sollten im Dokument einer einheitlichen Konvention folgen, z.B. Kleinbuchstaben getrennt von \"_\"\n",
    "# An dem Variablen Namen sollte der Zweck der Variable erkennbar sein\n",
    "\n",
    "x = 80000                     # Für jemanden der den code noch nicht kennt schwierig nachvollziehbar\n",
    "meaning_of_variable = 80000   # Sinn der Variable schnell erkennbar \n",
    "\n",
    "# In der TM gibt es natürlich eigene Konventionen, da die Blätter insbesondere von Studenten der TM geschrieben und gelesen werden,\n",
    "# haben diese Konventionen Vorrang und verschlechtern die Verständlichkeit des Codes nicht\n",
    "# Z.B. das E-Modul als großes \"E\" einführen. PEP8 würde etwas wie: \"youngs_modulus\" vorschlagen\n",
    "# Sobald ein Code geschrieben wird, der von einer Vielzahl von Leuten gelesen wird, wäre „Youngs_Modulus“ eventuell verständlicher  "
   ]
  },
  {
   "cell_type": "markdown",
   "metadata": {
    "jp-MarkdownHeadingCollapsed": true
   },
   "source": [
    "# Sympy Basics"
   ]
  },
  {
   "cell_type": "code",
   "execution_count": 27,
   "metadata": {},
   "outputs": [],
   "source": [
    "# In der Vorlesung \"Technische Mechanik II\" wird zur Lösung von mechanischen Problemen in Python die Library \"Sympy\" verwendet\n",
    "# Sympy ermöglicht umfangreiche symbolische Berechnungen und ist somit gut geeignet für den Einsatz in der TM \n",
    "# Im Folgenden werden die grundlegenden Befehle und Eigenschaften von Sympy erklärt \n",
    "# Es gibt jedoch auch unzählige Ressourcen für Sympy online, insbesondere natürlich die offizielle Dokumentation: https://www.sympy.org/en/index.html\n",
    "\n",
    "import sympy as sympy "
   ]
  },
  {
   "cell_type": "markdown",
   "metadata": {
    "jp-MarkdownHeadingCollapsed": true
   },
   "source": [
    "## Display  "
   ]
  },
  {
   "cell_type": "code",
   "execution_count": 28,
   "metadata": {},
   "outputs": [
    {
     "name": "stdout",
     "output_type": "stream",
     "text": [
      "1/2\n"
     ]
    },
    {
     "data": {
      "text/latex": [
       "$\\displaystyle \\frac{1}{2}$"
      ],
      "text/plain": [
       "1/2"
      ]
     },
     "metadata": {},
     "output_type": "display_data"
    }
   ],
   "source": [
    "# In Kombination mit Sympy ist der Befehl \"display()\" aus der Library IPython nützlich. Dieser kann ähnlich wie \"print()\"alle möglichen Datentypen ausgeben \n",
    "# display() stellt mathematische Ausdrücke deutlich schöner dar als \"print()\"\n",
    "\n",
    "from IPython.display import display \n",
    "\n",
    "print(sympy.Integer(1) / 2)  # Der Befehl Integer() wird später noch genauer eingeführt und dient hier lediglich zur Demonstration \n",
    "\n",
    "display(sympy.Integer(1) / 2)"
   ]
  },
  {
   "cell_type": "markdown",
   "metadata": {
    "jp-MarkdownHeadingCollapsed": true
   },
   "source": [
    "## Was sind Symbole"
   ]
  },
  {
   "cell_type": "code",
   "execution_count": 29,
   "metadata": {},
   "outputs": [
    {
     "data": {
      "text/latex": [
       "$\\displaystyle F_{x}$"
      ],
      "text/plain": [
       "F_x"
      ]
     },
     "metadata": {},
     "output_type": "display_data"
    },
    {
     "data": {
      "text/latex": [
       "$\\displaystyle x$"
      ],
      "text/plain": [
       "x"
      ]
     },
     "metadata": {},
     "output_type": "display_data"
    },
    {
     "data": {
      "text/latex": [
       "$\\displaystyle y_{1}$"
      ],
      "text/plain": [
       "y1"
      ]
     },
     "metadata": {},
     "output_type": "display_data"
    }
   ],
   "source": [
    "# Symbole sind essentiell, um den vollen Funktionsumfang von Sympy zu verwenden\n",
    "# Im Gegensatz zu klassischen Python Variablen haben Symbole keinen konkreten Wert und können somit z.B allgemeine Parameter repräsentieren\n",
    "# Symbole können genutzt werden, um Terme zu erstellen, in denen einige Variablen noch unbekannt sind \n",
    "\n",
    "F_x = sympy.Symbol('F_x')\n",
    "x = sympy.Symbol('x')\n",
    "l = sympy.Symbol('l')\n",
    "\n",
    "# Es können auch mehrere Symbole auf einmal eingeführt werden\n",
    "\n",
    "y1, y2, y3 = sympy.symbols('y1 y2 y3')\n",
    "\n",
    "display(F_x, x, y1)"
   ]
  },
  {
   "cell_type": "code",
   "execution_count": 30,
   "metadata": {},
   "outputs": [
    {
     "data": {
      "text/latex": [
       "$\\displaystyle F_{x} l$"
      ],
      "text/plain": [
       "F_x*l"
      ]
     },
     "metadata": {},
     "output_type": "display_data"
    },
    {
     "data": {
      "text/latex": [
       "$\\displaystyle 2 x$"
      ],
      "text/plain": [
       "2*x"
      ]
     },
     "metadata": {},
     "output_type": "display_data"
    },
    {
     "data": {
      "text/latex": [
       "$\\displaystyle 2 x$"
      ],
      "text/plain": [
       "2*x"
      ]
     },
     "metadata": {},
     "output_type": "display_data"
    }
   ],
   "source": [
    "# Symbole können in mathematischen Ausdrücken verwendet werden\n",
    "\n",
    "Q = F_x * x \n",
    "\n",
    "# Mit \"subs()\" können Symbole durch Zahlen oder andere Ausdrücke/Symbole ersetzt werden \n",
    "\n",
    "Q_l = Q.subs(x,l)\n",
    "display(Q_l) \n",
    "\n",
    "# \"subs()\" kann als Input eine Liste oder einen Tupel erhalten\n",
    "\n",
    "list_subs =  [(l, 2), (F_x, 2)]\n",
    "tupel_subs = ((l, 2), (F_x, 2))\n",
    "\n",
    "display(Q.subs(list_subs), Q.subs(tupel_subs))"
   ]
  },
  {
   "cell_type": "code",
   "execution_count": 31,
   "metadata": {},
   "outputs": [
    {
     "data": {
      "text/latex": [
       "$\\displaystyle x y z + x y$"
      ],
      "text/plain": [
       "x*y*z + x*y"
      ]
     },
     "metadata": {},
     "output_type": "display_data"
    },
    {
     "data": {
      "text/latex": [
       "$\\displaystyle 40 y z + 40 z$"
      ],
      "text/plain": [
       "40*y*z + 40*z"
      ]
     },
     "metadata": {},
     "output_type": "display_data"
    },
    {
     "data": {
      "text/latex": [
       "$\\displaystyle 1800$"
      ],
      "text/plain": [
       "1800"
      ]
     },
     "metadata": {},
     "output_type": "display_data"
    }
   ],
   "source": [
    "# Der Befehl subs([(x, 1), (y, 4), (z, 9)]) wird dabei ausgeführt als subs(x, 1).subs(y, 4).subs(z, 9) \n",
    "# Das heißt, x darf von z und y abhängig sein und y von z: \n",
    "\n",
    "x, y, z = sympy.symbols('x y z')\n",
    "x_subs = z * y + z\n",
    "y_subs = 2*z + 5 \n",
    "\n",
    "expression = y * z * x + x * y\n",
    "\n",
    "display(expression)\n",
    "\n",
    "# Falsch, denn das y wird substituiert, aber anschließend kommt durch die Substitution mit x ein weiteres \n",
    "display(expression.subs([(z, 9), (y, 4), (x, x_subs)]))\n",
    "\n",
    "# Richtig\n",
    "display(expression.subs([(x, x_subs), (y, 4), (z, 9)]))"
   ]
  },
  {
   "cell_type": "markdown",
   "metadata": {
    "jp-MarkdownHeadingCollapsed": true
   },
   "source": [
    "## Algebraisches Rechnen mit Sympy"
   ]
  },
  {
   "cell_type": "code",
   "execution_count": 32,
   "metadata": {},
   "outputs": [
    {
     "data": {
      "text/latex": [
       "$\\displaystyle \\frac{1}{9}$"
      ],
      "text/plain": [
       "1/9"
      ]
     },
     "metadata": {},
     "output_type": "display_data"
    },
    {
     "data": {
      "text/plain": [
       "0.1111111111111111"
      ]
     },
     "metadata": {},
     "output_type": "display_data"
    }
   ],
   "source": [
    "# Sympy ermöglicht algebraisches Rechnen: \n",
    "# Numerisch: sqrt(2) = 1.1414... , sqrt(2) ** 2 = 2.0000004\n",
    "# Algebraisch: sqrt(2) = sqrt(2)  , sqrt(2) ** 2 = 2\n",
    "\n",
    "# Numerisch: 1/3 = 0.3333\n",
    "# Algebraisch 1/3 = 1/3 \n",
    "\n",
    "# Um diese algebraische Berechnung durchzuführen, muss die Zahl als \"sympy Zahl\" eingeführt werden, z.B als \"Integer()\" \n",
    "algebraic = sympy.Integer(1) / 9\n",
    "numeric = 1 / 9\n",
    "\n",
    "display(algebraic, numeric)"
   ]
  },
  {
   "cell_type": "code",
   "execution_count": 33,
   "metadata": {},
   "outputs": [
    {
     "data": {
      "text/plain": [
       "sympy.core.numbers.Rational"
      ]
     },
     "metadata": {},
     "output_type": "display_data"
    },
    {
     "data": {
      "text/plain": [
       "float"
      ]
     },
     "metadata": {},
     "output_type": "display_data"
    }
   ],
   "source": [
    "# Das Beispiel oben demonstriert, dass es reicht, wenn eine Zahl eines Ausdrucks eine \"Sympy Zahl\" ist, damit alle anderen Zahlen ebenfalls wie \n",
    "# „Sympy Zahlen\" behandelt werden\n",
    "\n",
    "# Mit type() lässt sich dies schnell überprüfen: \n",
    "\n",
    "display(type(sympy.Integer(1) / 2 * 3 / 5), type(1 / 2 * 3 / 5)) "
   ]
  },
  {
   "cell_type": "code",
   "execution_count": 34,
   "metadata": {},
   "outputs": [
    {
     "data": {
      "text/latex": [
       "$\\displaystyle \\frac{7}{8}$"
      ],
      "text/plain": [
       "7/8"
      ]
     },
     "metadata": {},
     "output_type": "display_data"
    },
    {
     "data": {
      "text/latex": [
       "$\\displaystyle \\frac{7}{8}$"
      ],
      "text/plain": [
       "7/8"
      ]
     },
     "metadata": {},
     "output_type": "display_data"
    }
   ],
   "source": [
    "# Ein Bruch lässt sich alternativ auch mit \"Rational()\" darstellen\n",
    "\n",
    "display(sympy.Rational(7 / 8), sympy.Integer(7) / 8)"
   ]
  },
  {
   "cell_type": "code",
   "execution_count": 35,
   "metadata": {},
   "outputs": [
    {
     "data": {
      "text/latex": [
       "$\\displaystyle \\frac{2}{x}$"
      ],
      "text/plain": [
       "2/x"
      ]
     },
     "metadata": {},
     "output_type": "display_data"
    },
    {
     "data": {
      "text/latex": [
       "$\\displaystyle - \\frac{2}{x^{2}}$"
      ],
      "text/plain": [
       "-2/x**2"
      ]
     },
     "metadata": {},
     "output_type": "display_data"
    },
    {
     "data": {
      "text/latex": [
       "$\\displaystyle 2 \\log{\\left(x \\right)}$"
      ],
      "text/plain": [
       "2*log(x)"
      ]
     },
     "metadata": {},
     "output_type": "display_data"
    },
    {
     "data": {
      "text/latex": [
       "$\\displaystyle - 2 \\log{\\left(5 \\right)} + 2 \\log{\\left(6 \\right)}$"
      ],
      "text/plain": [
       "-2*log(5) + 2*log(6)"
      ]
     },
     "metadata": {},
     "output_type": "display_data"
    }
   ],
   "source": [
    "# Im Folgenden einige mathematische Befehle und ihre Funktionalität\n",
    "x = sympy.Symbol('x') \n",
    "\n",
    "# sqrt\n",
    "expression_1 = sympy.sqrt(2 / x) ** 2\n",
    "\n",
    "# diff() \n",
    "differential = sympy.diff(expression_1, x)\n",
    "\n",
    "# integrate() (unbestimmt)\n",
    "\n",
    "integration = sympy.integrate(expression_1, x)\n",
    "\n",
    "# Bestimmtes Integral in den Grenzen 5 und 6 \n",
    "\n",
    "integration_definite = sympy.integrate(expression_1, (x, 5, 6))\n",
    "\n",
    "display(expression_1, differential, integration, integration_definite)"
   ]
  },
  {
   "cell_type": "code",
   "execution_count": 36,
   "metadata": {},
   "outputs": [
    {
     "data": {
      "text/latex": [
       "$\\displaystyle \\sin{\\left(2 \\right)}$"
      ],
      "text/plain": [
       "sin(2)"
      ]
     },
     "metadata": {},
     "output_type": "display_data"
    },
    {
     "data": {
      "text/latex": [
       "$\\displaystyle e^{2}$"
      ],
      "text/plain": [
       "exp(2)"
      ]
     },
     "metadata": {},
     "output_type": "display_data"
    }
   ],
   "source": [
    "# Viele weitere bekannte mathematische Funktionen können algebraisch in Sympy verwendet werden\n",
    "\n",
    "sin_2 = sympy.sin(2) \n",
    "exp_2 = sympy.exp(2)\n",
    "\n",
    "display(sin_2, exp_2)"
   ]
  },
  {
   "cell_type": "code",
   "execution_count": 37,
   "metadata": {},
   "outputs": [
    {
     "data": {
      "text/latex": [
       "$\\displaystyle 0.909297426825682$"
      ],
      "text/plain": [
       "0.909297426825682"
      ]
     },
     "execution_count": 37,
     "metadata": {},
     "output_type": "execute_result"
    }
   ],
   "source": [
    "# Mit der Methode \"evalf()\" kann ein algebraischer Ausdruck numerisch ausgewertet werden\n",
    "\n",
    "sin_2.evalf()"
   ]
  },
  {
   "cell_type": "markdown",
   "metadata": {
    "jp-MarkdownHeadingCollapsed": true
   },
   "source": [
    "## Matrizen (und Vektoren) in Sympy"
   ]
  },
  {
   "cell_type": "code",
   "execution_count": 38,
   "metadata": {},
   "outputs": [
    {
     "data": {
      "text/latex": [
       "$\\displaystyle \\left[\\begin{matrix}1 & 1 & 1\\\\2 & 2 & 2\\\\3 & 3 & 3\\end{matrix}\\right]$"
      ],
      "text/plain": [
       "Matrix([\n",
       "[1, 1, 1],\n",
       "[2, 2, 2],\n",
       "[3, 3, 3]])"
      ]
     },
     "metadata": {},
     "output_type": "display_data"
    },
    {
     "data": {
      "text/latex": [
       "$\\displaystyle \\left[\\begin{matrix}1\\\\2\\\\3\\end{matrix}\\right]$"
      ],
      "text/plain": [
       "Matrix([\n",
       "[1],\n",
       "[2],\n",
       "[3]])"
      ]
     },
     "metadata": {},
     "output_type": "display_data"
    }
   ],
   "source": [
    "# Matrizen \n",
    "\n",
    "matrix = sympy.Matrix([[1, 1, 1],\n",
    "                       [2, 2, 2],\n",
    "                       [3, 3, 3]])\n",
    "\n",
    "# Ein Vektor entspricht einer Matrix der Dimension nx1 (oder 1xn)\n",
    "\n",
    "vector = sympy.Matrix([1, 2, 3])\n",
    "\n",
    "display(matrix, vector)"
   ]
  },
  {
   "cell_type": "markdown",
   "metadata": {
    "jp-MarkdownHeadingCollapsed": true
   },
   "source": [
    "## Ausdrücke vereinfachen"
   ]
  },
  {
   "cell_type": "code",
   "execution_count": 39,
   "metadata": {},
   "outputs": [
    {
     "data": {
      "text/latex": [
       "$\\displaystyle \\left(x - 1\\right)^{2}$"
      ],
      "text/plain": [
       "(x - 1)**2"
      ]
     },
     "metadata": {},
     "output_type": "display_data"
    },
    {
     "data": {
      "text/latex": [
       "$\\displaystyle x^{3} + 15 x^{2} + 75 x + 125$"
      ],
      "text/plain": [
       "x**3 + 15*x**2 + 75*x + 125"
      ]
     },
     "metadata": {},
     "output_type": "display_data"
    },
    {
     "data": {
      "text/latex": [
       "$\\displaystyle 1$"
      ],
      "text/plain": [
       "1"
      ]
     },
     "metadata": {},
     "output_type": "display_data"
    }
   ],
   "source": [
    "# Mathematische Ausdrücke lassen sich in sympy beliebig umformen\n",
    "x = sympy.Symbol('x')\n",
    "\n",
    "# Mit \"factor()\" kann ein Ausdruck faktorisiert werden\n",
    "display(sympy.factor(x ** 2 - 2 * x + 1))\n",
    "\n",
    "# Im Gegensatz dazu multipliziert \"expand()\" einen Ausdruck aus \n",
    "display(sympy.expand((x + 5) ** 3))\n",
    "\n",
    "# \"simplify()\" versucht allgemein einen Term weiter zu vereinfachen\n",
    "display(sympy.simplify(sympy.cos(x) ** 2 + sympy.sin(x) ** 2)) "
   ]
  },
  {
   "cell_type": "markdown",
   "metadata": {
    "jp-MarkdownHeadingCollapsed": true
   },
   "source": [
    "## Gleichungen und Differentialgleichungen lösen"
   ]
  },
  {
   "cell_type": "code",
   "execution_count": 40,
   "metadata": {},
   "outputs": [
    {
     "data": {
      "text/latex": [
       "$\\displaystyle x + y + 3 = 0$"
      ],
      "text/plain": [
       "Eq(x + y + 3, 0)"
      ]
     },
     "metadata": {},
     "output_type": "display_data"
    },
    {
     "data": {
      "text/latex": [
       "$\\displaystyle x - y + 1 = 0$"
      ],
      "text/plain": [
       "Eq(x - y + 1, 0)"
      ]
     },
     "metadata": {},
     "output_type": "display_data"
    },
    {
     "data": {
      "text/plain": [
       "{x: -2, y: -1}"
      ]
     },
     "metadata": {},
     "output_type": "display_data"
    },
    {
     "data": {
      "text/latex": [
       "$\\displaystyle -2$"
      ],
      "text/plain": [
       "-2"
      ]
     },
     "metadata": {},
     "output_type": "display_data"
    }
   ],
   "source": [
    "# In sympy können Gleichungssysteme gelöst werden \n",
    "# Im ersten Schritt können Gleichungen mit \"sympy.Eq(lhs, rhs)\" definiert werden, die rechte und linke Seite werden mit einem \",\" getrennt\n",
    "x = sympy.Symbol('x')\n",
    "y = sympy.Symbol('y')\n",
    "\n",
    "equation_1 = sympy.Eq(3 + x + y, 0)\n",
    "equation_2 = sympy.Eq(1 - y + x, 0)\n",
    "display(equation_1, equation_2)\n",
    "\n",
    "# Mit dem Befehl \"solve([equations], [vars])\" wird das Gleichungssystem aufgelöst\n",
    "\n",
    "solutions = sympy.solve([equation_1, equation_2], [x,y])\n",
    "\n",
    "# \"solve()\" liefert dabei alle Lösungen. Solutions kann entweder ein dictionary, eine Liste oder ein Tupel sein \n",
    "# In diesem Fall ist die Lösung ein Dictionary und die Lösungen können wie folgt ausgewertet werden\n",
    "\n",
    "solution_x = solutions[x]\n",
    "solution_y = solutions[y]\n",
    "\n",
    "\n",
    "display(solutions, solution_x)"
   ]
  },
  {
   "cell_type": "code",
   "execution_count": 41,
   "metadata": {},
   "outputs": [
    {
     "data": {
      "text/latex": [
       "$\\displaystyle \\frac{d}{d x} N{\\left(x \\right)} = x^{2} + 2 x$"
      ],
      "text/plain": [
       "Eq(Derivative(N(x), x), x**2 + 2*x)"
      ]
     },
     "metadata": {},
     "output_type": "display_data"
    },
    {
     "data": {
      "text/latex": [
       "$\\displaystyle N{\\left(x \\right)} = \\frac{x^{3}}{3} + x^{2}$"
      ],
      "text/plain": [
       "Eq(N(x), x**3/3 + x**2)"
      ]
     },
     "metadata": {},
     "output_type": "display_data"
    },
    {
     "data": {
      "text/latex": [
       "$\\displaystyle \\frac{x^{3}}{3} + x^{2}$"
      ],
      "text/plain": [
       "x**3/3 + x**2"
      ]
     },
     "metadata": {},
     "output_type": "display_data"
    }
   ],
   "source": [
    "# Um eine Differentialgleichung zu lösen muss zuerst die gesuchte Funktion initialisert werden \n",
    "# Mit \"Function('name')(var)\" lässt sich eine noch unbekannte Funktion allgmein definieren \n",
    "\n",
    "N = sympy.Function('N')(x)\n",
    "\n",
    "# Mit den bekannten Befehlen \"Eq()\" und \"diff()\" kann eine Differentialgleichung aufgestellt werden\n",
    "\n",
    "differential_equation_N = sympy.Eq(sympy.diff(N), x ** 2 + 2 * x)\n",
    "\n",
    "# Der Befehl zum Lösen von Differentialgleichungen lautet \"dsolve([equations], [functions], ics = initial conditions)\"\n",
    "# Die entstehenden Integrationskonstanten können entweder händisch bestimmt und substituiert werden oder mit \"ics\" also Anfangsbedingungen gelöst werden\n",
    "# ics nimmt als Input ein Dictionary der Form {function.subs(var, point): value(point)}\n",
    "\n",
    "N = sympy.dsolve(differential_equation_N, N, ics = {N.subs(x,0): 0})\n",
    "\n",
    "# Die Lösung hierfür ist eine Gleichung, um zur Weiterverwendung den Ausdruck der rechten Seite abzuspeichern, kann \".rhs\" verwendet werden \n",
    "\n",
    "N_expression = N.rhs\n",
    "\n",
    "display(differential_equation_N, N, N_expression)"
   ]
  },
  {
   "cell_type": "markdown",
   "metadata": {
    "jp-MarkdownHeadingCollapsed": true
   },
   "source": [
    "## Plots mit sympy erstellen"
   ]
  },
  {
   "cell_type": "code",
   "execution_count": 42,
   "metadata": {},
   "outputs": [],
   "source": [
    "# Mit Hilfe von sympy.plotting können schnell und einfach Graphen geplottet werden\n",
    "# Importieren von sympy.plotting \n",
    "\n",
    "from sympy.plotting import plot"
   ]
  },
  {
   "cell_type": "code",
   "execution_count": 43,
   "metadata": {},
   "outputs": [
    {
     "data": {
      "image/png": "[encoded data removed]",
      "text/plain": [
       "<Figure size 640x480 with 1 Axes>"
      ]
     },
     "metadata": {},
     "output_type": "display_data"
    },
    {
     "data": {
      "text/plain": [
       "<sympy.plotting.plot.Plot at 0x153245dd9d0>"
      ]
     },
     "execution_count": 43,
     "metadata": {},
     "output_type": "execute_result"
    }
   ],
   "source": [
    "# Mit dem Befehl \"plot()\" kann ein Ausdruck mit einer Variable graphisch dargestellt werden\n",
    "\n",
    "x = sympy.Symbol('x')\n",
    "function = x ** 2\n",
    "\n",
    "plot(function)"
   ]
  },
  {
   "cell_type": "code",
   "execution_count": 44,
   "metadata": {},
   "outputs": [
    {
     "data": {
      "image/png": "[encoded data removed]",
      "text/plain": [
       "<Figure size 640x480 with 1 Axes>"
      ]
     },
     "metadata": {},
     "output_type": "display_data"
    },
    {
     "data": {
      "text/plain": [
       "<sympy.plotting.plot.Plot at 0x153249c0a90>"
      ]
     },
     "execution_count": 44,
     "metadata": {},
     "output_type": "execute_result"
    }
   ],
   "source": [
    "# Mit weiteren Parametern kann man den Plot verschönern und anpassen\n",
    "# Das zweite Argument von plot (x, -20, 20) stellt ein, in welcher Umgebung die Funktion geplottet werden soll\n",
    "# Der Ausschnitt der y-Achse kann mit ylim = [0, 2] eingestellt werden\n",
    "# Weitere Parameter sind \"title\", \"xlabel\" und \"ylable\" um dem Graphen eine Überschrift zu geben und die Achsen zu beschriften\n",
    "\n",
    "plot(function, (x, -20, 20), ylim = [0, 100],title='Titel des Graphen!' ,xlabel='Achsenbeschriftung x-Achse', ylabel='Achsenbeschriftung y-Achse')"
   ]
  },
  {
   "cell_type": "code",
   "execution_count": 45,
   "metadata": {},
   "outputs": [
    {
     "data": {
      "image/png": "[encoded data removed]",
      "text/plain": [
       "<Figure size 640x480 with 1 Axes>"
      ]
     },
     "metadata": {},
     "output_type": "display_data"
    },
    {
     "data": {
      "text/plain": [
       "<sympy.plotting.plot.Plot at 0x153276864d0>"
      ]
     },
     "execution_count": 45,
     "metadata": {},
     "output_type": "execute_result"
    }
   ],
   "source": [
    "# In sympy können auch stückweise stetige Funktionen definiert und geplottet werden\n",
    "# Dafür wird der Befehl \"Piecewise((function_1, (condition_1)), (function_2, (condidtion_2))...  )\" verwendet \n",
    "\n",
    "x = sympy.Symbol('x')\n",
    "piecewise_function = sympy.Piecewise((x, (x < 1)), (x ** 2, (x < 2)), (6 - x, (x < 4))) \n",
    "plot(piecewise_function, (x, 0, 4), title='Titel des Graphen!' ,xlabel='Achsenbeschriftung x-Achse', ylabel='Achsenbeschriftung y-Achse')"
   ]
  },
  {
   "cell_type": "markdown",
   "metadata": {
    "jp-MarkdownHeadingCollapsed": true
   },
   "source": [
    "# Befehle für Übungsblatt 2 "
   ]
  },
  {
   "cell_type": "code",
   "execution_count": 46,
   "metadata": {},
   "outputs": [],
   "source": [
    "# Importieren von Sympy \n",
    "import sympy as sympy\n",
    "\n",
    "# Importieren von \"display()\" - Display() kann genutzt werden, um mathematische Ausdrücke schön auszugeben  \n",
    "from IPython.display import display "
   ]
  },
  {
   "cell_type": "code",
   "execution_count": 47,
   "metadata": {},
   "outputs": [
    {
     "data": {
      "text/latex": [
       "$\\displaystyle r$"
      ],
      "text/plain": [
       "r"
      ]
     },
     "metadata": {},
     "output_type": "display_data"
    },
    {
     "data": {
      "text/latex": [
       "$\\displaystyle z$"
      ],
      "text/plain": [
       "z"
      ]
     },
     "metadata": {},
     "output_type": "display_data"
    },
    {
     "data": {
      "text/latex": [
       "$\\displaystyle \\phi$"
      ],
      "text/plain": [
       "phi"
      ]
     },
     "metadata": {},
     "output_type": "display_data"
    }
   ],
   "source": [
    "# Um mathematische Ausdrücke mit Unbekannten aufzustellen, müssen diese zuerst als Symbole definiert werden\n",
    "\n",
    "phi = sympy.Symbol('phi')\n",
    "r, z = sympy.symbols('r z')\n",
    "\n",
    "display(r, z, phi)"
   ]
  },
  {
   "cell_type": "code",
   "execution_count": 48,
   "metadata": {},
   "outputs": [
    {
     "data": {
      "text/latex": [
       "$\\displaystyle 1$"
      ],
      "text/plain": [
       "1"
      ]
     },
     "execution_count": 48,
     "metadata": {},
     "output_type": "execute_result"
    }
   ],
   "source": [
    "# Sympy stellt viele mathematische Funktionen bereit, die einfach genutzt werden können: \n",
    "\n",
    "function_cos = sympy.cos(z) \n",
    "\n",
    "# Funktionen können mit dem Befehl „subs()\" (Substitution) an einer bestimmten Stelle ausgewertet werden\n",
    "\n",
    "function_cos.subs(z, 2 * sympy.pi)"
   ]
  },
  {
   "cell_type": "code",
   "execution_count": 49,
   "metadata": {},
   "outputs": [
    {
     "data": {
      "text/latex": [
       "$\\displaystyle \\left[\\begin{matrix}r \\cos{\\left(\\theta \\right)}\\\\r \\sin{\\left(\\theta \\right)}\\\\z\\end{matrix}\\right]$"
      ],
      "text/plain": [
       "Matrix([\n",
       "[r*cos(theta)],\n",
       "[r*sin(theta)],\n",
       "[           z]])"
      ]
     },
     "metadata": {},
     "output_type": "display_data"
    }
   ],
   "source": [
    "# Vektoren werden mit sympy.Matrix definiert (Eine 3x1 Matrix ist ein Spaltenvektor, eine 1x3 Matrix ein Zeilenvektor)\n",
    "\n",
    "theta = sympy.Symbol('theta')\n",
    "vector = sympy.Matrix([r * sympy.cos(theta), r * sympy.sin(theta), z])\n",
    "display(vector)"
   ]
  },
  {
   "cell_type": "code",
   "execution_count": 50,
   "metadata": {},
   "outputs": [
    {
     "data": {
      "text/latex": [
       "$\\displaystyle \\left[\\begin{matrix}4\\\\-1\\\\-2\\end{matrix}\\right]$"
      ],
      "text/plain": [
       "Matrix([\n",
       "[ 4],\n",
       "[-1],\n",
       "[-2]])"
      ]
     },
     "metadata": {},
     "output_type": "display_data"
    },
    {
     "data": {
      "text/latex": [
       "$\\displaystyle 3$"
      ],
      "text/plain": [
       "3"
      ]
     },
     "metadata": {},
     "output_type": "display_data"
    }
   ],
   "source": [
    "# In Sympy gibt es die Methoden \"cross()\" und \"dot()\" um das Kreuz- und Skalarprodukt zu berechnen\n",
    "\n",
    "vector_1 = sympy.Matrix([1, 2, 1])\n",
    "vector_2 = sympy.Matrix([1, 0, 2])\n",
    "\n",
    "cross_product = vector_1.cross(vector_2)\n",
    "dot_product = vector_1.dot(vector_2)\n",
    "\n",
    "display(cross_product, dot_product)"
   ]
  },
  {
   "cell_type": "code",
   "execution_count": 51,
   "metadata": {},
   "outputs": [
    {
     "data": {
      "text/latex": [
       "$\\displaystyle x + y + 3 = 0$"
      ],
      "text/plain": [
       "Eq(x + y + 3, 0)"
      ]
     },
     "metadata": {},
     "output_type": "display_data"
    },
    {
     "data": {
      "text/latex": [
       "$\\displaystyle x - y + 1 = 0$"
      ],
      "text/plain": [
       "Eq(x - y + 1, 0)"
      ]
     },
     "metadata": {},
     "output_type": "display_data"
    },
    {
     "data": {
      "text/plain": [
       "{x: -2, y: -1}"
      ]
     },
     "metadata": {},
     "output_type": "display_data"
    },
    {
     "data": {
      "text/latex": [
       "$\\displaystyle -2$"
      ],
      "text/plain": [
       "-2"
      ]
     },
     "metadata": {},
     "output_type": "display_data"
    }
   ],
   "source": [
    "# In Sympy können Gleichungssysteme gelöst werden \n",
    "# Im ersten Schritt können Gleichungen mit \"sympy.Eq(lhs, rhs)\" definiert werden. Die rechte und linke Seite werden mit einem \",\" getrennt\n",
    "\n",
    "x = sympy.Symbol('x')\n",
    "y = sympy.Symbol('y')\n",
    "\n",
    "equation_1 = sympy.Eq(3 + x + y, 0)\n",
    "equation_2 = sympy.Eq(1 - y + x, 0)\n",
    "display(equation_1, equation_2)\n",
    "\n",
    "# Mit dem Befehl \"solve([equations], [vars])\" wird das Gleichungssystem aufgelöst\n",
    "\n",
    "solutions_1 = sympy.solve([equation_1, equation_2], [x,y])\n",
    "\n",
    "# \"solve()\" liefert dabei alle Lösungen. Die Lösung kann entweder ein Dictionary, eine Liste oder ein Tupel sein \n",
    "# In diesem Fall ist die Lösung ein Dictionary und die Lösungen können wie folgt ausgewertet werden\n",
    "\n",
    "solution_x = solutions_1[x]\n",
    "solution_y = solutions_1[y]\n",
    "\n",
    "\n",
    "display(solutions_1, solution_x)"
   ]
  },
  {
   "cell_type": "code",
   "execution_count": 52,
   "metadata": {},
   "outputs": [
    {
     "data": {
      "text/latex": [
       "$\\displaystyle -1 + \\sqrt{5}$"
      ],
      "text/plain": [
       "-1 + sqrt(5)"
      ]
     },
     "metadata": {},
     "output_type": "display_data"
    },
    {
     "data": {
      "text/latex": [
       "$\\displaystyle - \\sqrt{5} - 1$"
      ],
      "text/plain": [
       "-sqrt(5) - 1"
      ]
     },
     "metadata": {},
     "output_type": "display_data"
    },
    {
     "data": {
      "text/plain": [
       "dict"
      ]
     },
     "metadata": {},
     "output_type": "display_data"
    },
    {
     "data": {
      "text/plain": [
       "list"
      ]
     },
     "metadata": {},
     "output_type": "display_data"
    }
   ],
   "source": [
    "# In diesem Fall einer quadratischen Gleichung ist die Lösung eine Liste: \n",
    "\n",
    "x = sympy.Symbol('x')\n",
    "equation_3 = sympy.Eq(x ** 2 + 2 * x - 4, 0)\n",
    "solutions_2  = sympy.solve(equation_3, x)\n",
    "\n",
    "display(solutions_2[0], solutions_2[1])\n",
    "\n",
    "# Um den Typ der Lösung zu identifizieren, kann \"type()\" benutzt werden \n",
    "\n",
    "display(type(solutions_1), type(solutions_2))"
   ]
  },
  {
   "cell_type": "markdown",
   "metadata": {
    "jp-MarkdownHeadingCollapsed": true
   },
   "source": [
    "# Befehle für Übungsblatt 5\n"
   ]
  },
  {
   "cell_type": "code",
   "execution_count": 53,
   "metadata": {},
   "outputs": [],
   "source": [
    "# Sympy importieren \n",
    "import sympy as sympy \n",
    "\n",
    "# Importieren von \"display()\" - Display() kann genutzt werden, um mathematische Ausdrücke schön auszugeben  \n",
    "from IPython.display import display "
   ]
  },
  {
   "cell_type": "code",
   "execution_count": 54,
   "metadata": {},
   "outputs": [],
   "source": [
    "# Wiederholung: Definieren von Symbolen\n",
    "\n",
    "phi = sympy.Symbol('phi')\n",
    "x, y = sympy.symbols('x y')"
   ]
  },
  {
   "cell_type": "code",
   "execution_count": 55,
   "metadata": {},
   "outputs": [
    {
     "data": {
      "text/latex": [
       "$\\displaystyle 1$"
      ],
      "text/plain": [
       "1"
      ]
     },
     "execution_count": 55,
     "metadata": {},
     "output_type": "execute_result"
    }
   ],
   "source": [
    "# Verwenden von mathematischen Funktionen in Sympy \n",
    "\n",
    "exponential = sympy.exp(x)\n",
    "\n",
    "# Auswerten von Funktionen durch Substitution\n",
    "\n",
    "exponential.subs(x, sympy.euler)"
   ]
  },
  {
   "cell_type": "code",
   "execution_count": 56,
   "metadata": {},
   "outputs": [
    {
     "data": {
      "text/latex": [
       "$\\displaystyle \\left[\\begin{matrix}x\\\\y\\\\x \\cos{\\left(\\phi \\right)}\\end{matrix}\\right]$"
      ],
      "text/plain": [
       "Matrix([\n",
       "[         x],\n",
       "[         y],\n",
       "[x*cos(phi)]])"
      ]
     },
     "execution_count": 56,
     "metadata": {},
     "output_type": "execute_result"
    }
   ],
   "source": [
    "# Aufstellen von Vektoren (Erinnerung: Eine 3x1 Matrix entspricht einem Spaltenvektor)\n",
    "\n",
    "vector = sympy.Matrix([x, y, x * sympy.cos(phi)])\n",
    "vector"
   ]
  },
  {
   "cell_type": "code",
   "execution_count": 57,
   "metadata": {},
   "outputs": [
    {
     "data": {
      "text/latex": [
       "$\\displaystyle x + y + 3 = 0$"
      ],
      "text/plain": [
       "Eq(x + y + 3, 0)"
      ]
     },
     "metadata": {},
     "output_type": "display_data"
    },
    {
     "data": {
      "text/latex": [
       "$\\displaystyle x - y + 1 = 0$"
      ],
      "text/plain": [
       "Eq(x - y + 1, 0)"
      ]
     },
     "metadata": {},
     "output_type": "display_data"
    },
    {
     "data": {
      "text/plain": [
       "{x: -2, y: -1}"
      ]
     },
     "metadata": {},
     "output_type": "display_data"
    },
    {
     "data": {
      "text/latex": [
       "$\\displaystyle -2$"
      ],
      "text/plain": [
       "-2"
      ]
     },
     "metadata": {},
     "output_type": "display_data"
    }
   ],
   "source": [
    "# In Sympy können Gleichungssysteme gelöst werden \n",
    "# Im ersten Schritt können Gleichungen mit \"sympy.Eq(lhs, rhs)\" definiert werden. Die rechte und linke Seite werden mit einem \",\" getrennt\n",
    "\n",
    "x = sympy.Symbol('x')\n",
    "y = sympy.Symbol('y')\n",
    "\n",
    "equation_1 = sympy.Eq(3 + x + y, 0)\n",
    "equation_2 = sympy.Eq(1 - y + x, 0)\n",
    "display(equation_1, equation_2)\n",
    "\n",
    "# Mit dem Befehl \"solve([equations], [vars])\" wird das Gleichungssystem aufgelöst\n",
    "# Die Gleichungen müssen als Liste übergeben werden, es gibt also verschiedene Möglichkeiten: \n",
    "\n",
    "set_of_equations = [equation_1, equation_2] \n",
    "solutions_1 = sympy.solve(set_of_equations, [x,y])\n",
    "\n",
    "solutions_1 = sympy.solve([equation_1, equation_2], [x,y])\n",
    "\n",
    "# \"solve()\" liefert dabei alle Lösungen. Die Lösung kann entweder ein dictionary, eine Liste oder ein Tupel sein \n",
    "# In diesem Fall ist die Lösung ein Dictionary und die Lösungen können wie folgt ausgewertet werden\n",
    "\n",
    "solution_x = solutions_1[x]\n",
    "solution_y = solutions_1[y]\n",
    "\n",
    "\n",
    "display(solutions_1, solution_x)"
   ]
  },
  {
   "cell_type": "markdown",
   "metadata": {
    "jp-MarkdownHeadingCollapsed": true
   },
   "source": [
    "# Befehle für Übungsblatt 6"
   ]
  },
  {
   "cell_type": "code",
   "execution_count": 58,
   "metadata": {},
   "outputs": [],
   "source": [
    "import sympy as sympy\n",
    "from IPython.display import display \n",
    "from sympy.plotting import plot\n",
    "\n",
    "# Mit hilfe von sympy.plotting können schnell und einfach Graphen geplottet werden\n",
    "# Importieren von sympy.plotting "
   ]
  },
  {
   "cell_type": "code",
   "execution_count": 59,
   "metadata": {},
   "outputs": [
    {
     "data": {
      "image/png": "[encoded data removed]",
      "text/plain": [
       "<Figure size 640x480 with 1 Axes>"
      ]
     },
     "metadata": {},
     "output_type": "display_data"
    },
    {
     "data": {
      "text/plain": [
       "<sympy.plotting.plot.Plot at 0x15327737ad0>"
      ]
     },
     "execution_count": 59,
     "metadata": {},
     "output_type": "execute_result"
    }
   ],
   "source": [
    "# Der \"plot()\" Befehl ist eine einfache, aber effektive Möglichkeit, einen Graphen zu erstellen \n",
    "# Das erste Argument ist die Funktion, die geplottet wird. Anschließend wird mit (x, 0, 2) der Darstellungsbereich der x-Achse definiert\n",
    "# Der Ausschnitt der y-Achse kann mit ylim = [0, 2] eingestellt werden\n",
    "# Weitere Argumente wie \"title\", \"xlabel\" und \"ylabel\" ermöglichen es, einen Titel und Achsenbeschriftungen hinzuzufügen  \n",
    "\n",
    "x = sympy.Symbol('x')\n",
    "function = sympy.sqrt(x)\n",
    "plot(function, (x, 0, 5), ylim = [0, 2],title='Titel des Graphen!' ,xlabel='Achsenbeschriftung x-Achse', ylabel='Achsenbeschriftung y-Achse')"
   ]
  },
  {
   "cell_type": "code",
   "execution_count": 60,
   "metadata": {},
   "outputs": [
    {
     "data": {
      "image/png": "[encoded data removed]",
      "text/plain": [
       "<Figure size 640x480 with 1 Axes>"
      ]
     },
     "metadata": {},
     "output_type": "display_data"
    },
    {
     "data": {
      "text/plain": [
       "<sympy.plotting.plot.Plot at 0x15322e502d0>"
      ]
     },
     "execution_count": 60,
     "metadata": {},
     "output_type": "execute_result"
    }
   ],
   "source": [
    "# In Sympy können auch stückweise stetige Funktionen definiert und geplottet werden\n",
    "# Dafür wird der Befehl \"Piecewise((function_1, (condition_1)), (function_2, (condidtion_2))...  )\" verwendet  \n",
    "\n",
    "x = sympy.Symbol('x')\n",
    "piecewise_function = sympy.Piecewise((x, (x < 1)), (x ** 2, (x < 2)), (6 - x, (x < 4))) \n",
    "plot(piecewise_function, (x, 0, 4), title='Titel des Graphen!' ,xlabel='Achsenbeschriftung x-Achse', ylabel='Achsenbeschriftung y-Achse')"
   ]
  },
  {
   "cell_type": "code",
   "execution_count": 61,
   "metadata": {},
   "outputs": [
    {
     "data": {
      "text/latex": [
       "$\\displaystyle 2 x$"
      ],
      "text/plain": [
       "2*x"
      ]
     },
     "metadata": {},
     "output_type": "display_data"
    },
    {
     "data": {
      "text/latex": [
       "$\\displaystyle \\frac{8}{3}$"
      ],
      "text/plain": [
       "8/3"
      ]
     },
     "metadata": {},
     "output_type": "display_data"
    }
   ],
   "source": [
    "# Mit \"diff(expr, variable)\" und \"integrate(expr, (var, grenze, grenze))\" können Ableitungen und Integrale gebildet werden\n",
    "\n",
    "function = x ** 2\n",
    "\n",
    "display(sympy.diff(function, x), sympy.integrate(function, (x, 0, 2)))"
   ]
  },
  {
   "cell_type": "code",
   "execution_count": 62,
   "metadata": {},
   "outputs": [
    {
     "data": {
      "text/latex": [
       "$\\displaystyle N{\\left(x \\right)} = C_{1} + \\frac{x^{3}}{3} + x^{2}$"
      ],
      "text/plain": [
       "Eq(N(x), C1 + x**3/3 + x**2)"
      ]
     },
     "metadata": {},
     "output_type": "display_data"
    },
    {
     "data": {
      "text/latex": [
       "$\\displaystyle N{\\left(x \\right)} = \\frac{x^{3}}{3} + x^{2} - \\frac{4}{3}$"
      ],
      "text/plain": [
       "Eq(N(x), x**3/3 + x**2 - 4/3)"
      ]
     },
     "execution_count": 62,
     "metadata": {},
     "output_type": "execute_result"
    }
   ],
   "source": [
    "# Um eine Differentialgleichung zu lösen, muss zuerst die gesuchte Funktion initialisiert werden \n",
    "# Mit \"Function('name')(var)\" lässt sich eine noch unbekannte Funktion allgemein definieren  \n",
    "\n",
    "N = sympy.Function('N')(x)\n",
    "\n",
    "# Mit den bekannten Befehlen \"Eq()\" und \"diff()\" kann eine Differentialgleichung aufgestellt werden\n",
    "\n",
    "differential_equation_N = sympy.Eq(sympy.diff(N), x ** 2 + 2 * x)\n",
    "\n",
    "# Differentialgleichungen lassen sich in Sympy mit oder ohne Anfangsbedingungen lösen\n",
    "# In der Einführung in Sympy finden Sie ein Beispiel, in dem eine DGL mit Anfangsbedingungen gelöst wird\n",
    "# Die Differentialgleichung in Übungsblatt 6 soll erst ohne Anfangsbedingungen gelöst werden und die Konstanten manuell berechnet werden\n",
    "\n",
    "solution = sympy.dsolve(differential_equation_N, N)\n",
    "display(solution)\n",
    "\n",
    "# Definieren der Integrationskonstante als Symbol und Aufstellen der Anfangsbedingung N(1) = 0 \n",
    "\n",
    "C1 = sympy.Symbol('C1')\n",
    "boundary_condition = sympy.Eq(solution.rhs.subs(x, 1), 0)\n",
    "\n",
    "# Bestimmen von C1 durch Auflösen der Anfangsbedingung  \n",
    "\n",
    "C1_solution = sympy.solve(boundary_condition, C1)[0]\n",
    "\n",
    "# Substituieren der Integrationskonstante, um die Lösung der DGL mit Anfangsbedingung zu erhalten\n",
    "\n",
    "solution_value = solution.subs(C1, C1_solution)\n",
    "solution_value"
   ]
  },
  {
   "cell_type": "markdown",
   "metadata": {
    "jp-MarkdownHeadingCollapsed": true
   },
   "source": [
    "# Befehle für Übungsblatt 8"
   ]
  },
  {
   "cell_type": "code",
   "execution_count": 63,
   "metadata": {},
   "outputs": [
    {
     "data": {
      "text/latex": [
       "$\\displaystyle \\frac{x^{2} y}{2} + x z$"
      ],
      "text/plain": [
       "x**2*y/2 + x*z"
      ]
     },
     "metadata": {},
     "output_type": "display_data"
    },
    {
     "data": {
      "text/latex": [
       "$\\displaystyle 2 y + 2 z$"
      ],
      "text/plain": [
       "2*y + 2*z"
      ]
     },
     "metadata": {},
     "output_type": "display_data"
    }
   ],
   "source": [
    "import sympy as sympy\n",
    "\n",
    "# In Übungsblatt 8 werden dreifach Integrale benötigt\n",
    "# Zunächst eine Wiederholung von einfach Integralen\n",
    "\n",
    "x, y, z = sympy.symbols('x y z')\n",
    "function = x * y + z\n",
    "\n",
    "# Unbestimmtes Integral\n",
    "\n",
    "indefinate_integral = sympy.integrate(function, x)\n",
    "\n",
    "# Bestimmtes Integral\n",
    "\n",
    "definite_integral = sympy.integrate(function, (x, 0, 2))\n",
    "\n",
    "display(indefinate_integral, definite_integral)"
   ]
  },
  {
   "cell_type": "code",
   "execution_count": 64,
   "metadata": {},
   "outputs": [
    {
     "data": {
      "text/latex": [
       "$\\displaystyle \\frac{x^{2} y^{2} z}{4} + \\frac{x y z^{2}}{2}$"
      ],
      "text/plain": [
       "x**2*y**2*z/4 + x*y*z**2/2"
      ]
     },
     "metadata": {},
     "output_type": "display_data"
    },
    {
     "data": {
      "text/latex": [
       "$\\displaystyle 8$"
      ],
      "text/plain": [
       "8"
      ]
     },
     "metadata": {},
     "output_type": "display_data"
    }
   ],
   "source": [
    "# Ein mehrfach Integral kann Analog berechnet werden\n",
    "\n",
    "# Unbestimmtes dreifach Integral\n",
    "\n",
    "indefinate_triple_integral = sympy.integrate(function, x, y, z)  \n",
    "\n",
    "# Bestimmtes dreifach Integral\n",
    "\n",
    "definate_triple_integral = sympy.integrate(function, (x, 0, 2), (y, -1, 1), (z, 0, 2))\n",
    "\n",
    "display(indefinate_triple_integral, definate_triple_integral)"
   ]
  },
  {
   "cell_type": "code",
   "execution_count": 65,
   "metadata": {},
   "outputs": [
    {
     "data": {
      "text/latex": [
       "$\\displaystyle x y + z$"
      ],
      "text/plain": [
       "x*y + z"
      ]
     },
     "metadata": {},
     "output_type": "display_data"
    },
    {
     "data": {
      "text/latex": [
       "$\\displaystyle z + 12$"
      ],
      "text/plain": [
       "z + 12"
      ]
     },
     "execution_count": 65,
     "metadata": {},
     "output_type": "execute_result"
    }
   ],
   "source": [
    "# Um variablen in einer Funktion mit Werten zu ersetzen wird der Befehl \"subs()\" verwendet\n",
    "\n",
    "display(function)\n",
    "function.subs([(x, 4), (y, 3)])"
   ]
  },
  {
   "cell_type": "markdown",
   "metadata": {
    "jp-MarkdownHeadingCollapsed": true
   },
   "source": [
    "# Befehle für Übungsblatt 9"
   ]
  },
  {
   "cell_type": "code",
   "execution_count": 66,
   "metadata": {},
   "outputs": [
    {
     "data": {
      "text/latex": [
       "$\\displaystyle \\frac{x^{2} y}{2} + x z$"
      ],
      "text/plain": [
       "x**2*y/2 + x*z"
      ]
     },
     "metadata": {},
     "output_type": "display_data"
    },
    {
     "data": {
      "text/latex": [
       "$\\displaystyle 2 y + 2 z$"
      ],
      "text/plain": [
       "2*y + 2*z"
      ]
     },
     "metadata": {},
     "output_type": "display_data"
    }
   ],
   "source": [
    "import sympy as sympy\n",
    "\n",
    "# In Übungsblatt 8 werden dreifach Integrale benötigt\n",
    "# Zunächst eine Wiederholung von einfach Integralen\n",
    "\n",
    "x, y, z = sympy.symbols('x y z')\n",
    "function = x * y + z\n",
    "\n",
    "# Unbestimmtes Integral\n",
    "\n",
    "indefinate_integral = sympy.integrate(function, x)\n",
    "\n",
    "# Bestimmtes Integral\n",
    "\n",
    "definite_integral = sympy.integrate(function, (x, 0, 2))\n",
    "\n",
    "display(indefinate_integral, definite_integral)"
   ]
  },
  {
   "cell_type": "code",
   "execution_count": 67,
   "metadata": {},
   "outputs": [
    {
     "data": {
      "text/latex": [
       "$\\displaystyle \\frac{x^{2} y^{2} z}{4} + \\frac{x y z^{2}}{2}$"
      ],
      "text/plain": [
       "x**2*y**2*z/4 + x*y*z**2/2"
      ]
     },
     "metadata": {},
     "output_type": "display_data"
    },
    {
     "data": {
      "text/latex": [
       "$\\displaystyle 8$"
      ],
      "text/plain": [
       "8"
      ]
     },
     "metadata": {},
     "output_type": "display_data"
    }
   ],
   "source": [
    "# Ein mehrfach Integral kann Analog berechnet werden\n",
    "\n",
    "# Unbestimmtes dreifach Integral\n",
    "\n",
    "indefinate_triple_integral = sympy.integrate(function, x, y, z)  \n",
    "\n",
    "# Bestimmtes dreifach Integral\n",
    "\n",
    "definate_triple_integral = sympy.integrate(function, (x, 0, 2), (y, -1, 1), (z, 0, 2))\n",
    "\n",
    "display(indefinate_triple_integral, definate_triple_integral)"
   ]
  },
  {
   "cell_type": "code",
   "execution_count": 68,
   "metadata": {},
   "outputs": [
    {
     "data": {
      "text/latex": [
       "$\\displaystyle x y + z$"
      ],
      "text/plain": [
       "x*y + z"
      ]
     },
     "metadata": {},
     "output_type": "display_data"
    },
    {
     "data": {
      "text/latex": [
       "$\\displaystyle z + 12$"
      ],
      "text/plain": [
       "z + 12"
      ]
     },
     "execution_count": 68,
     "metadata": {},
     "output_type": "execute_result"
    }
   ],
   "source": [
    "# Um variablen in einer Funktion mit Werten zu ersetzen wird der Befehl \"subs()\" verwendet\n",
    "\n",
    "display(function)\n",
    "function.subs([(x, 4), (y, 3)])"
   ]
  },
  {
   "cell_type": "markdown",
   "metadata": {
    "jp-MarkdownHeadingCollapsed": true
   },
   "source": [
    "# Befehle für Übungsblatt 11"
   ]
  },
  {
   "cell_type": "code",
   "execution_count": 69,
   "metadata": {},
   "outputs": [
    {
     "data": {
      "text/latex": [
       "$\\displaystyle \\left(x - 1\\right)^{2}$"
      ],
      "text/plain": [
       "(x - 1)**2"
      ]
     },
     "metadata": {},
     "output_type": "display_data"
    }
   ],
   "source": [
    "# Oft kann es helfen die erhaltenen Ergebnisse zu vereinfachen damit sie besser lesbar sind\n",
    "# Mit \"factor()\" kann ein Ausdruck faktorisiert werden:\n",
    "import sympy as sympy\n",
    "x = sympy.Symbol('x')\n",
    "\n",
    "display(sympy.factor(x ** 2 - 2 * x + 1))"
   ]
  },
  {
   "cell_type": "code",
   "execution_count": 70,
   "metadata": {},
   "outputs": [
    {
     "data": {
      "text/latex": [
       "$\\displaystyle \\frac{d}{d x} N{\\left(x \\right)} = x^{2} + 2 x$"
      ],
      "text/plain": [
       "Eq(Derivative(N(x), x), x**2 + 2*x)"
      ]
     },
     "metadata": {},
     "output_type": "display_data"
    },
    {
     "data": {
      "text/latex": [
       "$\\displaystyle N{\\left(x \\right)} = \\frac{x^{3}}{3} + x^{2}$"
      ],
      "text/plain": [
       "Eq(N(x), x**3/3 + x**2)"
      ]
     },
     "metadata": {},
     "output_type": "display_data"
    },
    {
     "data": {
      "text/latex": [
       "$\\displaystyle \\frac{x^{3}}{3} + x^{2}$"
      ],
      "text/plain": [
       "x**3/3 + x**2"
      ]
     },
     "metadata": {},
     "output_type": "display_data"
    }
   ],
   "source": [
    "# In sympy können Differentialgleichungen in einem Schritt mit Hilfe von Randbedingungen gelöst werden\n",
    "# Um eine Differentialgleichung zu lösen muss zuerst die gesuchte Funktion initialisert werden \n",
    "# Mit \"Function('name')(var)\" lässt sich eine noch unbekannte Funktion allgemein definieren \n",
    "\n",
    "N = sympy.Function('N')(x)\n",
    "\n",
    "# Mit den bekannten Befehlen \"Eq()\" und \"diff()\" kann eine Differentialgleichung aufgestellt werden\n",
    "\n",
    "differential_equation_N = sympy.Eq(sympy.diff(N), x ** 2 + 2 * x)\n",
    "\n",
    "# Der Befehl zum Lösen von Differentialgleichungen lautet \"dsolve([equations], [functions], ics = initial conditions)\"\n",
    "# Die entstehenden Integrationskonstanten können entweder händisch bestimmt und substituiert werden oder mit \"ics\" also Anfangsbedingungen gelöst werden\n",
    "# ics nimmt als Input ein Dictionary der Form {function.subs(var, point): value(point)}\n",
    "\n",
    "N = sympy.dsolve(differential_equation_N, N, ics = {N.subs(x,0): 0})\n",
    "\n",
    "# Die Lösung hierfür ist eine Gleichung, um zur Weiterverwendung den Ausdruck der rechten Seite abzuspeichern, kann \".rhs\" verwendet werden \n",
    "\n",
    "N_expression = N.rhs\n",
    "\n",
    "display(differential_equation_N, N, N_expression)"
   ]
  },
  {
   "cell_type": "code",
   "execution_count": 71,
   "metadata": {},
   "outputs": [
    {
     "data": {
      "text/latex": [
       "$\\displaystyle u_{2}{\\left(x \\right)} = \\frac{x^{3}}{3} - \\frac{2}{3}$"
      ],
      "text/plain": [
       "Eq(u_2(x), x**3/3 - 2/3)"
      ]
     },
     "metadata": {},
     "output_type": "display_data"
    }
   ],
   "source": [
    "# Ergänzung: Übergangsbedingungen können in Symyp verwendet werden wie Anfangsbedingungen \n",
    "\n",
    "x = sympy.Symbol('x')\n",
    "u_1 = sympy.Function('u_1')(x)\n",
    "u_2 = sympy.Function('u_2')(x)\n",
    "\n",
    "initial_condition = {u_1.subs(x, 0): 0}\n",
    "differential_equation_1 = sympy.Eq(x, sympy.diff(u_1)) \n",
    "\n",
    "u_1_solution = sympy.dsolve(differential_equation_1, u_1, ics=initial_condition)\n",
    "\n",
    "# Um die Übergangsbedingung zu formulieren, muss die Lösung der ersten Differentialgleichung verwendet werden\n",
    "# \"rhs\" muss verwendet werden, um auf die rechte Seite der Lösung zuzugreifen\n",
    "\n",
    "transition_condition = {u_2.subs(x, 2): u_1_solution.rhs.subs(x, 2)}\n",
    "differeitnal_equaiton_2 = sympy.Eq(x ** 2, sympy.diff(u_2))\n",
    "\n",
    "u_2_solution = sympy.dsolve(differeitnal_equaiton_2, u_2, ics=transition_condition)\n",
    "\n",
    "display(u_2_solution)"
   ]
  },
  {
   "cell_type": "markdown",
   "metadata": {
    "jp-MarkdownHeadingCollapsed": true
   },
   "source": [
    "# Befehle für Übungsblatt 12"
   ]
  },
  {
   "cell_type": "code",
   "execution_count": 72,
   "metadata": {},
   "outputs": [
    {
     "data": {
      "image/png": "[encoded data removed]",
      "text/plain": [
       "<Figure size 640x480 with 1 Axes>"
      ]
     },
     "metadata": {},
     "output_type": "display_data"
    },
    {
     "data": {
      "text/plain": [
       "<sympy.plotting.plot.Plot at 0x153278bcfd0>"
      ]
     },
     "execution_count": 72,
     "metadata": {},
     "output_type": "execute_result"
    }
   ],
   "source": [
    "# In Übungsblatt 12 müssen stückweise stetige Funktionen verwendet und graphisch dargestellt\n",
    "# Hierfür gibt es in Sympy den Befehl \"Piecewise()\"\n",
    "# Zunächst muss der Befehl \"plot()\" importiert werden\n",
    "\n",
    "import sympy as sympy\n",
    "from sympy.plotting import plot\n",
    "\n",
    "x = sympy.Symbol('x')\n",
    "piecewise_function = sympy.Piecewise((x, (x < 1)), (x ** 2, (x < 2)), (6 - x, (x < 4))) \n",
    "plot(piecewise_function, (x, 0, 4), title='Titel des Graphen!' ,xlabel='Achsenbeschriftung x-Achse', ylabel='Achsenbeschriftung y-Achse')"
   ]
  }
 ],
 "metadata": {
  "kernelspec": {
   "display_name": "Python 3 (ipykernel)",
   "language": "python",
   "name": "python3"
  },
  "language_info": {
   "codemirror_mode": {
    "name": "ipython",
    "version": 3
   },
   "file_extension": ".py",
   "mimetype": "text/x-python",
   "name": "python",
   "nbconvert_exporter": "python",
   "pygments_lexer": "ipython3",
   "version": "3.11.7"
  }
 },
 "nbformat": 4,
 "nbformat_minor": 4
}
