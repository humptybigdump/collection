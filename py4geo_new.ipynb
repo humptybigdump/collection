{
 "cells": [
  {
   "cell_type": "code",
   "execution_count": null,
   "metadata": {},
   "outputs": [],
   "source": [
    "# -*- coding: utf-8 -*-\n",
    "\"\"\"\n",
    "Statistische Analyse mit Python: Grundlegende Funktionen\n",
    "Hendrik Andersen, 2020\n",
    "hendrik.andersen@kit.edu\n",
    "\"\"\"\n",
    "#%% \n",
    "\"\"\"\n",
    "In Spyder lassen sich mit '#%%' separate Zellen anlegen.\n",
    "Zellen lassen sich isoliert ausführen (strg + enter).\n",
    "einzelne Zeilen lassen sich mit F9 ausführen.\n",
    "Das Gesamte Script kann über F5 ausgeführt werden.\n",
    "Alternativ gibt es in der oberen Bedienungsleiste entsprechende Buttons.\n",
    "\"\"\"\n",
    "#####################\n",
    "# Grundlegendes:\n",
    "# Module, Variablen\n",
    "#####################\n",
    "\"\"\"\n",
    "Pakete/Module enthalten Funktionen, die nach dem Import ausgeführt werden können.\n",
    "Pakete sind Sammlungen von Modulen.\n",
    "Syntax: paket.modul.funktion(Argumente)\n",
    "Die Funktion getcwd (getcwd -> get current working directory) gibt das \n",
    "aktuelle Arbeitsverzeichnis an.\n",
    "In der Hilfe (oberes rechtes Panel) sind Pakete, Module und Funktionen \n",
    "detailliert beschrieben\n",
    "\"\"\""
   ]
  },
  {
   "cell_type": "markdown",
   "metadata": {},
   "source": [
    "Module/Pakete importieren funktioniert über import modulName"
   ]
  },
  {
   "cell_type": "code",
   "execution_count": 1,
   "metadata": {},
   "outputs": [
    {
     "data": {
      "text/plain": [
       "'/Users/hendrikandersen/edu/KIT/oekologische_klimafolgen/ws_23_24/python'"
      ]
     },
     "execution_count": 1,
     "metadata": {},
     "output_type": "execute_result"
    }
   ],
   "source": [
    "import os\n",
    "os.getcwd()"
   ]
  },
  {
   "cell_type": "markdown",
   "metadata": {},
   "source": [
    "Arbeitsverzeichnis definieren (chdir -> change directory)<br>\n",
    "Hier bitte den korrekten Pfad zur Datei einfügen<br>\n",
    "Empfohlen: Ordner für den Kurs errichten, Datei rein, Pfad entsprechend angeben.<br>\n",
    "Unter Windows müssen die Backslashes in Slashes umgewandelt werden."
   ]
  },
  {
   "cell_type": "code",
   "execution_count": null,
   "metadata": {},
   "outputs": [],
   "source": [
    "os.chdir('/Users/hendrikandersen/edu/KIT/oekologische_klimafolgen/ws_23_24/python/') "
   ]
  },
  {
   "cell_type": "markdown",
   "metadata": {},
   "source": [
    "Variablen definieren - Alles nach einem #-Zeichen ist ein Kommentar"
   ]
  },
  {
   "cell_type": "code",
   "execution_count": null,
   "metadata": {},
   "outputs": [],
   "source": [
    "x = 11 # Ganze Zahlen: integer\n",
    "y=22.21  # Kommazahl: float; Leerstellen (bspw. vor/nach \"=\" oder \",\") sind egal \n",
    "f = \"hello\" # Zeichen zwischen \"\" oder '' nennt man strings (Textinformation)"
   ]
  },
  {
   "cell_type": "markdown",
   "metadata": {},
   "source": [
    "Berechnungen ausfuehren"
   ]
  },
  {
   "cell_type": "code",
   "execution_count": null,
   "metadata": {},
   "outputs": [],
   "source": [
    "z = x*y\n",
    "print(z)"
   ]
  },
  {
   "cell_type": "markdown",
   "metadata": {},
   "source": [
    "% <br>\n",
    "###################<br>\n",
    "Listen<br>\n",
    "###################"
   ]
  },
  {
   "cell_type": "markdown",
   "metadata": {},
   "source": [
    "\n",
    "<br>\n",
    "In Listen können Daten verschiedener Datentypen (string, integer, float) <br>\n",
    "gespeichert werden. Listen sind immer 1-Dimensional (alle Werte stehen hintereinander)<br>\n"
   ]
  },
  {
   "cell_type": "code",
   "execution_count": null,
   "metadata": {},
   "outputs": [],
   "source": [
    "l_1 = [3,6,5,17,9,2,8]   # Listen in eckige Klammern\n",
    "l_1[2] # den dritten Wert in der Liste anzeigen (Zaehlung beginnt bei 0)\n",
    "l_2 = [x,y,f,z,4.5102] # Listen können unterschiedliche Datentypen abspeichern\n",
    "l_2[2]\n",
    "l_3 = [l_1,l_2,l_2[4]] # Listen können auch Listen enthalten\n",
    "f[2] # Indizierung funktioniert auch bei strings"
   ]
  },
  {
   "cell_type": "markdown",
   "metadata": {},
   "source": [
    "\n",
    "<br>\n",
    "Aufgabe:<br>\n",
    "    Schauen Sie sich im Variablenmanager die definierten Variablen an.<br>\n",
    "<br>\n",
    "%<br>\n",
    "######################<br>\n",
    "Arrays<br>\n",
    "Künstl. Daten erzeugen<br>\n",
    "######################"
   ]
  },
  {
   "cell_type": "markdown",
   "metadata": {},
   "source": [
    "\n",
    "<br>\n",
    "Arrays können mehrdimensional sein, sind aber weniger flexibel als Listen <br>\n",
    "Arrays enthalten immer nur einen Datentyp (bspw. float)<br>\n",
    "Das Paket numpy ist sehr beliebt für wissenschaftliche Analysen mit <br>\n",
    "mehrdimensionalen Arrays<br>\n"
   ]
  },
  {
   "cell_type": "code",
   "execution_count": null,
   "metadata": {},
   "outputs": [],
   "source": [
    "import numpy as np # man kann Pakete mit einer Abkürzung benannt importieren um sich etwas Schreibarbeit zu sparen...\n",
    "a_1 = np.array([4,5,6,7,8])\n",
    "a_2 = np.random.rand(5)\n",
    "print(a_2)\n",
    "a_3 = np.random.rand(5,3)\n",
    "print(a_3.shape)\n",
    "print(a_3)"
   ]
  },
  {
   "cell_type": "markdown",
   "metadata": {},
   "source": [
    "%<br>\n",
    "##############<br>\n",
    "Daten Plotten<br>\n",
    "##############"
   ]
  },
  {
   "cell_type": "markdown",
   "metadata": {},
   "source": [
    "\n",
    "<br>\n",
    "Das Modul matplotlib.pyplot enthält viele Funktionen zum Plotten von Daten.<br>\n",
    "Möglich sind Linienplots, Scatterplots, Histogramme, Barplots, 2D plots, 3D...<br>\n",
    "Lassen Sie sich in der Gallerie inspirieren: https://matplotlib.org/3.1.1/gallery/index.html<br>\n"
   ]
  },
  {
   "cell_type": "code",
   "execution_count": null,
   "metadata": {},
   "outputs": [],
   "source": [
    "import matplotlib.pyplot as plt"
   ]
  },
  {
   "cell_type": "code",
   "execution_count": null,
   "metadata": {},
   "outputs": [],
   "source": [
    "plt.plot(np.arange(10))\n",
    "plt.show()"
   ]
  },
  {
   "cell_type": "code",
   "execution_count": null,
   "metadata": {},
   "outputs": [],
   "source": [
    "plt.plot(np.arange(10), marker='+')\n",
    "plt.show()"
   ]
  },
  {
   "cell_type": "code",
   "execution_count": null,
   "metadata": {},
   "outputs": [],
   "source": [
    "plt.plot(np.sin(np.arange(10)))\n",
    "plt.show()"
   ]
  },
  {
   "cell_type": "code",
   "execution_count": null,
   "metadata": {},
   "outputs": [],
   "source": [
    "plt.plot(l_1) \n",
    "plt.show()"
   ]
  },
  {
   "cell_type": "code",
   "execution_count": null,
   "metadata": {},
   "outputs": [],
   "source": [
    "plt.plot(l_2) # Diese Darstellung funktioniert zwar, ist aber wohl wenig sinnvoll...\n",
    "plt.show()"
   ]
  },
  {
   "cell_type": "code",
   "execution_count": null,
   "metadata": {},
   "outputs": [],
   "source": [
    "x = np.arange(0, 10, 0.1) # Schau in der Hilfe nach um zu verstehen, was np.arange() macht\n",
    "y = np.sin(x) # Schau in der Hilfe nach um zu verstehen, was np.sin() macht\n",
    "plt.plot(x, y)\n",
    "plt.show()"
   ]
  },
  {
   "cell_type": "code",
   "execution_count": null,
   "metadata": {},
   "outputs": [],
   "source": [
    "plt.plot(a_3) # Verschiedene Linien können direkt auf einmal dargestellt werden\n",
    "plt.show()"
   ]
  },
  {
   "cell_type": "code",
   "execution_count": null,
   "metadata": {},
   "outputs": [],
   "source": [
    "plt.imshow(a_3) # Dieser 2D Array kann natürlich auch zweidimensional dargestellt werden.\n",
    "plt.colorbar(label='values [unitless]')\n",
    "plt.show()"
   ]
  },
  {
   "cell_type": "code",
   "execution_count": null,
   "metadata": {},
   "outputs": [],
   "source": [
    "a_4 = np.random.rand(10000) \n",
    "plt.hist(a_4) \n",
    "plt.show()"
   ]
  },
  {
   "cell_type": "code",
   "execution_count": null,
   "metadata": {},
   "outputs": [],
   "source": [
    "a_5 = np.random.randn(10000) \n",
    "plt.hist(a_5) \n",
    "plt.show()"
   ]
  },
  {
   "cell_type": "code",
   "execution_count": null,
   "metadata": {},
   "outputs": [],
   "source": [
    "ax = plt.subplot()\n",
    "ax.plot(a_5, c='black', label='data')\n",
    "ax.set_xlabel('index')\n",
    "ax.set_ylabel('value')\n",
    "plt.legend(loc='upper right')\n",
    "plt.title('Titel')\n",
    "plt.show()"
   ]
  },
  {
   "cell_type": "markdown",
   "metadata": {},
   "source": [
    "\n",
    "<br>\n",
    "Aufgaben:<br>\n",
    "    1) Lesen Sie in der Hilfe von np.random nach: Was ist die Korrekte Funktion<br>\n",
    "    um zufällige gleichverteilte Ganzzahlen (Integer) zu generieren?<br>\n",
    "    2) Erzeugen sie einen Scatterplot mit a_4 und a_5. Schauen sie in der Hilfe <br>\n",
    "    nach und versuchen Sie einen Weg zu finden, in dem Plot das Überlappen der <br>\n",
    "    einzelnen Punkte zu berücksichtigen (hier gibt es verschiedene Lösungen).<br>\n"
   ]
  },
  {
   "cell_type": "markdown",
   "metadata": {},
   "source": [
    "%<br>\n",
    "############################<br>\n",
    "Daten einlesen und speichern<br>\n",
    "Daten Indizieren<br>\n",
    "############################"
   ]
  },
  {
   "cell_type": "markdown",
   "metadata": {},
   "source": [
    "\n",
    "<br>\n",
    "Daten können natürlich gespeichert oder eingelesen werden, dafür stehen in numpy,<br>\n",
    "aber auch in zahlreichen anderen Modulen/Paketen Funktionen zur Verfügung.<br>\n",
    "Besonders interessant ist das Paket Pandas, das im Gegensatz zu Numpy mit <br>\n",
    "'Dataframes' arbeitet, und integrierte Funktionalität für Zeitserien beinhaltet.<br>\n"
   ]
  },
  {
   "cell_type": "code",
   "execution_count": null,
   "metadata": {},
   "outputs": [],
   "source": [
    "np.savetxt(fname = 'normal.csv', X=a_5)\n",
    "a_6 = np.loadtxt(fname = 'normal.csv') # np.genfromtxt() funktioniert auch"
   ]
  },
  {
   "cell_type": "markdown",
   "metadata": {},
   "source": [
    "Daten von einer URL herunterladen"
   ]
  },
  {
   "cell_type": "code",
   "execution_count": null,
   "metadata": {},
   "outputs": [],
   "source": [
    "URL = 'https://data.seattle.gov/api/views/65db-xm6k/rows.csv?accessType=DOWNLOAD'\n",
    "from urllib.request import urlretrieve\n",
    "urlretrieve(URL, 'Fremont.csv') "
   ]
  },
  {
   "cell_type": "markdown",
   "metadata": {},
   "source": [
    "Daten als Pandas Dataframe einlesen"
   ]
  },
  {
   "cell_type": "code",
   "execution_count": null,
   "metadata": {},
   "outputs": [],
   "source": [
    "import pandas as pd \n",
    "df = pd.read_csv('Fremont.csv')\n",
    "df\n",
    "df.index # Indexspalte ausgeben\n",
    "df.columns # Spaltennamen ausgeben\n",
    "df = pd.read_csv('Fremont.csv', index_col='Date', parse_dates=True)\n",
    "df.head()# head() zeigt nur die ersten 5 Zeilen\n",
    "df.index\n",
    "# Können Sie den Unterschied der beiden Einleseroutinen erkennen?"
   ]
  },
  {
   "cell_type": "markdown",
   "metadata": {},
   "source": [
    "Befehle lassen sich auch übersichtlich auf mehere Zeilen verteilen. Beim<br>\n",
    "Ausführen per F9 müssen dann alle Zeilen markiert sein.<br>\n",
    "Umbennen der Spalten für einfachere Bedienung"
   ]
  },
  {
   "cell_type": "code",
   "execution_count": null,
   "metadata": {},
   "outputs": [],
   "source": [
    "df = df.rename(columns={\"Fremont Bridge Sidewalks, south of N 34th St\": \"total\", \n",
    "                        \"Fremont Bridge Sidewalks, south of N 34th St Cyclist East Sidewalk\": \"east\",\n",
    "                        \"Fremont Bridge Sidewalks, south of N 34th St Cyclist West Sidewalk\": \"west\"}) \n",
    "df.columns # Spaltennamen ausgeben"
   ]
  },
  {
   "cell_type": "markdown",
   "metadata": {},
   "source": [
    "Verschiedene Arten des Indizierens in Pandas"
   ]
  },
  {
   "cell_type": "code",
   "execution_count": null,
   "metadata": {},
   "outputs": [],
   "source": [
    "df.index[4]\n",
    "df['total'][df.index[4]]\n",
    "df.iloc[1] # iloc: indizieren über Index (integer)\n",
    "df.loc['2012-10-03 01:00:00'] # loc indizieren über Labels \n",
    "df['total']['2012-10-03'] # spezifischer Tag\n",
    "df['2013-10':'2013-12'] # Oktober, November, Dezember 2012\n",
    "df.between_time('01:00', '03:00') # alle Daten zwischen 1 und 3 Uhr (nachts)"
   ]
  },
  {
   "cell_type": "markdown",
   "metadata": {},
   "source": [
    "%<br>\n",
    "####################<br>\n",
    "Dataframe operations<br>\n",
    "####################"
   ]
  },
  {
   "cell_type": "markdown",
   "metadata": {},
   "source": [
    "\n",
    "<br>\n",
    "Mit einem Pandas Dataframe können direkt Funktionalitäten angesprochen werden:<br>\n",
    "    1) Plotting aus matplotlib <br>\n",
    "    2) Berechnungen aus numpy<br>\n",
    "    3) und mehr...<br>\n"
   ]
  },
  {
   "cell_type": "code",
   "execution_count": null,
   "metadata": {},
   "outputs": [],
   "source": [
    "df.plot() # Pandas verwendet automatisch die Labels aus dem Dataframe \n",
    "df.resample('w').mean().plot() # Beim Resamplen kann die (hier zeitl.) Auflösung verändert werden\n",
    "df.resample('m').mean().rolling(12).mean().plot()"
   ]
  },
  {
   "cell_type": "code",
   "execution_count": null,
   "metadata": {},
   "outputs": [],
   "source": [
    "df.groupby(df.index.weekday).mean().plot()"
   ]
  },
  {
   "cell_type": "code",
   "execution_count": null,
   "metadata": {},
   "outputs": [],
   "source": [
    "X = df['east'].resample('m').mean()\n",
    "y = df['west'].resample('m').mean()\n",
    "z = df['total'].resample('m').mean()"
   ]
  },
  {
   "cell_type": "markdown",
   "metadata": {},
   "source": [
    "\n",
    "<br>\n",
    "Aufgaben:<br>\n",
    "    1) Plotten sie die mittlere Anzahl an Radfahrenden im Wochenverlauf (Mo, Di, ...)<br>\n",
    "    Tipp: benutzen Sie groupby <br>\n",
    "    2) Plotten sie ein 12-monatiges rollendes Monatsmittel <br>\n",
    "    3) Wie viele Radfahrer (insgesamt) sind im Januar 2015 über die Brücke gefahren?<br>\n",
    "<br>\n",
    "%<br>\n",
    "####################<br>\n",
    "Korrelationen<br>\n",
    "Trendanalyse<br>\n",
    "####################"
   ]
  },
  {
   "cell_type": "markdown",
   "metadata": {},
   "source": [
    "\n",
    "<br>\n",
    "Für statistische Analysen gibt es verschiedene Pakete: Numpy, Scipy, Sklearn...<br>\n",
    "<br>\n",
    "Korrelation berechnen"
   ]
  },
  {
   "cell_type": "code",
   "execution_count": null,
   "metadata": {},
   "outputs": [],
   "source": [
    "from scipy import stats # Das Modul stats im Paket scipy enthält viele nützliche Funktionen\n",
    "r, p = stats.pearsonr(X, y)\n",
    "# np.corrcoef berechnet \n",
    "corr_matrix = np.corrcoef([X,y,z,np.random.rand(z.size)]) \n",
    "plt.imshow(corr_matrix, cmap = plt.cm.RdBu_r, vmin = -1, vmax = 1)\n",
    "plt.colorbar(label = 'Pearson r'); plt.show()  # Semikolon bedeutet neue Zeile"
   ]
  },
  {
   "cell_type": "markdown",
   "metadata": {},
   "source": [
    "scatterplots können Zusammenhänge darstellen"
   ]
  },
  {
   "cell_type": "code",
   "execution_count": null,
   "metadata": {},
   "outputs": [],
   "source": [
    "plt.scatter(X, y)\n",
    "plt.show()"
   ]
  },
  {
   "cell_type": "markdown",
   "metadata": {},
   "source": [
    "Regressionsanalyse"
   ]
  },
  {
   "cell_type": "code",
   "execution_count": null,
   "metadata": {},
   "outputs": [],
   "source": [
    "slope, intercept, r, p, std_err = stats.linregress(X, y)  # perform linear regression"
   ]
  },
  {
   "cell_type": "code",
   "execution_count": null,
   "metadata": {},
   "outputs": [],
   "source": [
    "ax = plt.subplot(111)\n",
    "ax.scatter(X, y)\n",
    "ax.set_xlabel('east'); ax.set_ylabel('west')\n",
    "ax.plot(X, intercept + slope*X, 'r')\n",
    "plt.show()"
   ]
  },
  {
   "cell_type": "markdown",
   "metadata": {},
   "source": [
    "\n",
    "<br>\n",
    "Ein weiteres sehr mächtiges Paket für Statistik und maschinelles Lernen ist Sklearn (Scientific-Kit für Machine Learning).<br>\n",
    "Wir können hier die Funktion LinearRegression nutzen, die im Grunde das gleiche macht <br>\n",
    "wie scipy.stats.linregress, aber etwas unterschiedlich anzusprechen ist. Der zentrale <br>\n",
    "Unterschied ist, dass in sklearn alles auf multivariate Statistik/ML ausgerichtet ist,<br>\n",
    "und somit die Funktionen in sklearn erwarten, dass \"X\" aus mehreren Prädiktoren besteht (und somit <br>\n",
    "die dimensionalität (shape) von n x m hat (shape von (n,m)), wobei n die einzelnen Datenpunkte<br>\n",
    "sind und m die Prädiktoren. Dies wird selbst dann erwartet, wenn nur ein Prädiktor existiert.)).<br>\n"
   ]
  },
  {
   "cell_type": "code",
   "execution_count": null,
   "metadata": {},
   "outputs": [],
   "source": [
    "from sklearn.linear_model import LinearRegression\n",
    "regr = LinearRegression()"
   ]
  },
  {
   "cell_type": "markdown",
   "metadata": {},
   "source": [
    "Hier erzeugen wir eine zusätzliche Dimension damit die Funktion LinearRegression() funktioniert"
   ]
  },
  {
   "cell_type": "code",
   "execution_count": null,
   "metadata": {},
   "outputs": [],
   "source": [
    "X_ = np.expand_dims(X, axis = 1)\n",
    "print(X.shape, X_.shape)"
   ]
  },
  {
   "cell_type": "markdown",
   "metadata": {},
   "source": [
    "die Regression fitten"
   ]
  },
  {
   "cell_type": "code",
   "execution_count": null,
   "metadata": {},
   "outputs": [],
   "source": [
    "regr.fit(X_,y)\n",
    "# Mit dem gefitteten Modell können wir vorhersagen machen\n",
    "y_pred = regr.predict(X_)"
   ]
  },
  {
   "cell_type": "code",
   "execution_count": null,
   "metadata": {},
   "outputs": [],
   "source": [
    "fig, ax = plt.subplots()\n",
    "ax.scatter(X, y, label='original data')\n",
    "# Die Regressionlinie können wir zeichnen indem wir X vs. die vorhergesagten Werte als Linie plotten\n",
    "ax.plot(X, y_pred, color='r', label='fitted line')\n",
    "ax.set_ylabel('y')\n",
    "ax.set_xlabel('X')\n",
    "plt.show()"
   ]
  },
  {
   "cell_type": "markdown",
   "metadata": {},
   "source": [
    "Wie ihr festellen könnt, sind die Modellkoeffizienten (Bspw. die Steigung der Regressionsgerade)<br>\n",
    "nicht identisch (nur fast), da sie mit unterschiedlicher Genauigkeit abgespeichert werden.<br>\n",
    "Die Funktion isclose() aus dem Paket math bestätigt, dass sie quasi identisch sind."
   ]
  },
  {
   "cell_type": "code",
   "execution_count": null,
   "metadata": {},
   "outputs": [],
   "source": [
    "print(slope)\n",
    "print(regr.coef_)\n",
    "print(slope==regr.coef_)"
   ]
  },
  {
   "cell_type": "code",
   "execution_count": null,
   "metadata": {},
   "outputs": [],
   "source": [
    "import math\n",
    "print(math.isclose(slope,regr.coef_))"
   ]
  },
  {
   "cell_type": "markdown",
   "metadata": {},
   "source": [
    "\n",
    "<br>\n",
    "Der Vorteil der Funktionen von Sklearn ist, dass alle Funktionen die gleiche Formatierung<br>\n",
    "von X und y erwarten und die gleiche Syntax (.fit(), .predict(), .score(), ...) hat.<br>\n",
    "So können sehr einfach andere Methoden auf die Datensätze angewendet werden.<br>\n",
    "Bei Regressionsanalysen wollen wir natürlich wissen, wie \"gut das Modell funktioniert\",<br>\n",
    "also die Vorhersagekraft quantifizieren. Das können wir zum Beispiel, indem wir <br>\n",
    "Metriken wie R² (erklärte Varianz), RSS (residual sum of squares) and RSE <br>\n",
    "(residual standard error), oder root mean square error (RMSE) oder ähnliches berechnen.<br>\n"
   ]
  },
  {
   "cell_type": "code",
   "execution_count": null,
   "metadata": {},
   "outputs": [],
   "source": [
    "fig, ax = plt.subplots()\n",
    "ax.scatter(X, y, label='original data')\n",
    "ax.plot(X, y_pred, color='r', label='fitted line')\n",
    "ax.set_ylabel('y')\n",
    "ax.set_xlabel('X')\n",
    "ax.vlines(X_,y_pred,y_pred+(y-y_pred), linestyle=':', label='residuals')\n",
    "ax.legend()\n",
    "ax.set_xticks(())\n",
    "ax.set_yticks(())\n",
    "plt.show()"
   ]
  },
  {
   "cell_type": "markdown",
   "metadata": {},
   "source": [
    "Datengruppen darstellen und Unterschiede auf Signifikanz prüfen"
   ]
  },
  {
   "cell_type": "code",
   "execution_count": null,
   "metadata": {},
   "outputs": [],
   "source": [
    "plt.boxplot([X,y],labels=['east','west'])\n",
    "plt.show()\n",
    "# Die Anzahl der Radfahrenden in westliche und östliche Richtung ist unterschiedlich -\n",
    "# aber ist der Unterschied signifikant?"
   ]
  },
  {
   "cell_type": "code",
   "execution_count": null,
   "metadata": {},
   "outputs": [],
   "source": [
    "t,p = stats.ttest_ind(X, y) # t ist die T-Statistik, p ist der beidseitige Signifikanzwert\n",
    "p < 0.01 # Dies ist eine logische Abfrage. Die Antwort darauf kann True oder False sein. (boolean)"
   ]
  },
  {
   "cell_type": "markdown",
   "metadata": {},
   "source": [
    "\n",
    "<br>\n",
    "Aufgaben:<br>\n",
    "    1) Berechnen sie Korrelationen und die Regressionsanalyse in unterschiedlichen<br>\n",
    "    zeitlichen Auflösungen (täglich, wöchentlich, monatlich).<br>\n",
    "    2) Welche Vorhersage für 'west' trifft das Regressionsmodell wenn 'east'=45<br>\n",
    "    (tägliche Auflösung)<br>\n",
    "    3) Schau in der Hilfe von ttest_ind nach: Was besagt der Test genau, und <br>\n",
    "    sind die Unterschiede zwischen X und y auf dem 0.05 Level signifikant?<br>\n",
    "<br>\n",
    "%<br>\n",
    "###############<br>\n",
    "räumliche Daten<br>\n",
    "###############"
   ]
  },
  {
   "cell_type": "markdown",
   "metadata": {},
   "source": [
    "\n",
    "<br>\n",
    "Wie für alles im Leben führen hier viele Wege zum Ziel. <br>\n",
    "Das Paket xarray ist eine neue Entwicklung, in der die Pandas Funktionalität <br>\n",
    "für mehrdimensionale (räumliche) Daten erweitert wurde, was sehr effizientes <br>\n",
    "Arbeiten mit räumlichen Daten ermöglicht.<br>\n"
   ]
  },
  {
   "cell_type": "code",
   "execution_count": null,
   "metadata": {},
   "outputs": [],
   "source": [
    "import xarray as xr"
   ]
  },
  {
   "cell_type": "markdown",
   "metadata": {},
   "source": [
    "Beispieldatensatz laden"
   ]
  },
  {
   "cell_type": "code",
   "execution_count": null,
   "metadata": {},
   "outputs": [],
   "source": [
    "airtemps = xr.tutorial.open_dataset('air_temperature')\n",
    "# Die Daten anschauen\n",
    "airtemps\n",
    "\"\"\"\n",
    "Kurze Erkläuterung:\n",
    "    In xarray werden Daten typischerweise in Datensätzen (xarray.Dataset) gespeichert.\n",
    "    Diese Datensätze können einen oder mehrere Variablen enthalten, die in xarray.DataArrays\n",
    "    gespeichert sind. In diesem Beispiel enthält airtemps eine Variable (air):\n",
    "        airtemps.air\n",
    "        <xarray.DataArray 'air' (time: 2920, lat: 25, lon: 53)>\n",
    "        Dieser DataArray enthält also 2920 Zeitschritte, entlang 25 Breitengeraden usw. \n",
    "    Mit diesen DataArrays kann wie in Pandas gearbeitet werden (Berechnungen und Plots)\n",
    "    So erzeugt der Befehl\n",
    "    airtemps.air.mean(dim='time').plot()    \n",
    "    Eine räumliche Darstellung der mittleren Temperatur (Die Berechnung des \n",
    "    Mittelwert passiert nur entlang der definierten Dimension).\n",
    "    Eigentlich steckt hinter einem Dataarray ein numpy.array, der über den Befehl \n",
    "    'values' bearbeitet werden kann.\n",
    "    airtemps.air.values\n",
    "    So kann man, wenn man möchte, auch mit der Standard Numpy Syntax arbeiten.\n",
    "\"\"\""
   ]
  },
  {
   "cell_type": "markdown",
   "metadata": {},
   "source": [
    "Daten können ebenfalls mit xarray abgespeichert werden, bevorzugter Datentyp<br>\n",
    "ist netcdf (.nc), welches in den Erdsystemwissenschaften sehr populär ist."
   ]
  },
  {
   "cell_type": "code",
   "execution_count": null,
   "metadata": {},
   "outputs": [],
   "source": [
    "airtemps.to_netcdf('airtemps.nc') # abspeichern\n",
    "airtemps = xr.open_dataset('airtemps.nc') # erneut öffnen"
   ]
  },
  {
   "cell_type": "markdown",
   "metadata": {},
   "source": [
    "Im Gegensatz zu Pandas wird in xarray über sel/isel indiziert (loc/iloc in Pandas)"
   ]
  },
  {
   "cell_type": "code",
   "execution_count": null,
   "metadata": {},
   "outputs": [],
   "source": [
    "airtemps.air.isel(time=0).plot(); plt.show() # 0ten Zeitschritt selektieren\n",
    "airtemps.air.sel(time='2013-01-01T00').plot(); plt.show() # spezifischen Zeitschritt über String\n",
    "airtemps.air.sel(time='2013-01-01T00').plot.hist(); plt.show()"
   ]
  },
  {
   "cell_type": "code",
   "execution_count": null,
   "metadata": {},
   "outputs": [],
   "source": [
    "airtemps.air.sel(lon=260,lat=50).plot(); plt.show() # Selektion eines spezifischen Pixels\n",
    "airtemps.air.sel(lon=260,lat=50).resample(time='1m').max().plot(); plt.show() # jeden Monat Maximaltemperatur\n",
    "airtemps.air.sel(lon=360-122.335167,lat=47.608013,method='nearest').mean() # nächsten Pixel an Seattle wählen"
   ]
  },
  {
   "cell_type": "code",
   "execution_count": null,
   "metadata": {},
   "outputs": [],
   "source": [
    "avg_t_seattle = airtemps.air.sel(lon=360-122.335167,lat=47.608013,method='nearest').resample(time='d').mean()\n",
    "bikers = df['total'].resample('d').sum()[\"2013-01-01\":\"2014-12-31\"] # Selektion des Zeitraums der Reanalysedaten\n",
    "r,p = stats.pearsonr(avg_t_seattle, bikers)"
   ]
  },
  {
   "cell_type": "code",
   "execution_count": null,
   "metadata": {},
   "outputs": [],
   "source": [
    "airtemps.air.mean(dim=['lon','lat']).plot(); plt.show() # mitteln entlang zweier Achsen (hier der gesamte geogr. Raum)\n",
    "airtemps.air.mean(dim='time').plot(); plt.show() # Mittel über die gesamte Zeit"
   ]
  },
  {
   "cell_type": "markdown",
   "metadata": {},
   "source": [
    "Was passiert hier?"
   ]
  },
  {
   "cell_type": "code",
   "execution_count": null,
   "metadata": {},
   "outputs": [],
   "source": [
    "airtemps.air.groupby('time.hour').mean(dim='time').plot.imshow(col='hour', col_wrap = 2)\n",
    "plt.show()"
   ]
  },
  {
   "cell_type": "markdown",
   "metadata": {},
   "source": [
    "Besteht ein Zusammenhang zwischen der Anzahl von Radfahrenden und der Temperatur?"
   ]
  },
  {
   "cell_type": "code",
   "execution_count": null,
   "metadata": {},
   "outputs": [],
   "source": [
    "dailyMeanT_seattle = airtemps.air.sel(lon=-122.335167,lat=47.608013,method='nearest'\n",
    "                                      ).resample(time='d').mean(dim='time')\n",
    "dailySumB_seattle = df['total'].resample('d').sum()\n",
    "dailySumB_seattle_select = dailySumB_seattle[dailyMeanT_seattle.time[0]:dailyMeanT_seattle.time[-1]]"
   ]
  },
  {
   "cell_type": "code",
   "execution_count": null,
   "metadata": {},
   "outputs": [],
   "source": [
    "plt.scatter(dailyMeanT_seattle,dailySumB_seattle_select)"
   ]
  },
  {
   "cell_type": "markdown",
   "metadata": {},
   "source": [
    "\n",
    "<br>\n",
    "Aufgaben:<br>\n",
    "    1) Plotten Sie den Jahresverlauf Temperatur (Monatsmittel) für New York<br>\n",
    "    2) Versuchen Sie, die mittlere Temperatur für jede Uhrzeit mit einem Befehl<br>\n",
    "    als separate Karten darzustellen<br>\n",
    "    3) Wie ist die Korrelation zwischen Tagesmitteltemperatur in Seattle<br>\n",
    "    und der Summe der Radfahrenden auf Fremont Bridge?<br>\n"
   ]
  },
  {
   "cell_type": "markdown",
   "metadata": {},
   "source": [
    "%<br>\n",
    "#####################<br>\n",
    "Kartendarstellungen #<br>\n",
    "#####################"
   ]
  },
  {
   "cell_type": "markdown",
   "metadata": {},
   "source": [
    "\n",
    "<br>\n",
    "In python stehen verschiedene Pakete zum Plotten von Daten auf Karten zur <br>\n",
    "Verfügung (Bspw. cartopy oder basemap). Hierbei müssen neben den Daten die<br>\n",
    "Projektion sowie Koordinaten definiert, oder als Argumente übergeben werden.<br>\n",
    "Cartopy kann hierbei intelligent die Koordinaten aus einem xarray Datensatz <br>\n",
    "interpretieren.<br>\n",
    "Weitere Beispiele wie dies mit Basemap funktioniert: <br>\n",
    "https://matplotlib.org/basemap/users/examples.html <br>\n",
    "<br>\n",
    "In eine Karte plotten"
   ]
  },
  {
   "cell_type": "code",
   "execution_count": null,
   "metadata": {},
   "outputs": [],
   "source": [
    "import cartopy.crs as ccrs\n",
    "ax = plt.axes(projection=ccrs.Orthographic())\n",
    "airtemps.air.isel(time=0).plot.contourf(ax=ax, transform=ccrs.PlateCarree());\n",
    "ax.set_global(); ax.coastlines(); plt.show()"
   ]
  },
  {
   "cell_type": "markdown",
   "metadata": {},
   "source": [
    "Karte auf den richtigen Ausschnitt zentrieren"
   ]
  },
  {
   "cell_type": "code",
   "execution_count": null,
   "metadata": {},
   "outputs": [],
   "source": [
    "ax = plt.axes(projection=ccrs.Orthographic(-80, 35)) # Zentrum definieren \n",
    "airtemps.air.isel(time=0).plot.contourf(ax=ax, transform=ccrs.PlateCarree());\n",
    "ax.set_global(); ax.coastlines(); plt.show()"
   ]
  },
  {
   "cell_type": "markdown",
   "metadata": {},
   "source": [
    "Ein anderes plotting Tool (pcolormesh vs. contourf)"
   ]
  },
  {
   "cell_type": "code",
   "execution_count": null,
   "metadata": {},
   "outputs": [],
   "source": [
    "ax = plt.axes(projection=ccrs.Orthographic(-80, 35))\n",
    "airtemps.air.isel(time=0).plot.pcolormesh(ax=ax, transform=ccrs.PlateCarree());\n",
    "ax.set_global(); ax.coastlines(); plt.show()"
   ]
  },
  {
   "cell_type": "markdown",
   "metadata": {},
   "source": [
    "Eine andere Projektion wählen"
   ]
  },
  {
   "cell_type": "code",
   "execution_count": null,
   "metadata": {},
   "outputs": [],
   "source": [
    "ax = plt.axes(projection=ccrs.LambertConformal(-80, 35))\n",
    "(airtemps.air.isel(time=0)-airtemps.air.isel(time=1)).plot.pcolormesh(ax=ax, transform=ccrs.PlateCarree());\n",
    "ax.coastlines(); plt.show()"
   ]
  },
  {
   "cell_type": "markdown",
   "metadata": {},
   "source": [
    "%<br>\n",
    "############################<br>\n",
    "eigene Funktionen <br>\n",
    "Schleifen<br>\n",
    "############################"
   ]
  },
  {
   "cell_type": "markdown",
   "metadata": {},
   "source": [
    "\n",
    "<br>\n",
    "In Python können Sie eigene Funktionen entwickeln, die Sie anschließend genau<br>\n",
    "wie Funktionen über funktionsName(Argumente) ansprechen können.<br>\n",
    "In Schleifen lassen sich Funktionen oder Operationen wiederholt ausführen. Es<br>\n",
    "gibt verschiedene Arten von Schleifen (hier gezeigt: for-Schleife)<br>\n"
   ]
  },
  {
   "cell_type": "code",
   "execution_count": null,
   "metadata": {},
   "outputs": [],
   "source": [
    "def einsDazu(val):\n",
    "    \"\"\"\n",
    "    Addiere 1 zu val\n",
    "    \"\"\"\n",
    "    val += 1 # ist das gleiche wie val = val+1\n",
    "    return val # return übergibt am Ende der Funktion das Ergebnis"
   ]
  },
  {
   "cell_type": "code",
   "execution_count": null,
   "metadata": {},
   "outputs": [],
   "source": [
    "einsDazu(2) # wir übergeben der Funktion den Wert 2"
   ]
  },
  {
   "cell_type": "markdown",
   "metadata": {},
   "source": [
    "Diese for Schleife iteriert über die definierten Schritte und führt die <br>\n",
    "Funktion über den pro Schritt definierten Wert (i, hier: 0,1,2...9) aus."
   ]
  },
  {
   "cell_type": "code",
   "execution_count": null,
   "metadata": {},
   "outputs": [],
   "source": [
    "for i in range(10):\n",
    "    print(einsDazu(i))"
   ]
  },
  {
   "cell_type": "markdown",
   "metadata": {},
   "source": [
    "Schleifen lassen sich verschachteln<br>\n",
    "Versuchen sie, die entstehende Zahlenreihenfolge aufzuschreiben, bevor sie <br>\n",
    "die Funktion ausführen. Denken Sie daran, dass python bei 0 anfängt."
   ]
  },
  {
   "cell_type": "code",
   "execution_count": null,
   "metadata": {},
   "outputs": [],
   "source": [
    "for i in range(5):\n",
    "    for j in range(2):\n",
    "        print(einsDazu(i)*j)"
   ]
  },
  {
   "cell_type": "markdown",
   "metadata": {},
   "source": [
    "Beispiel: in einer Schleife über Längen und Breitengrad die Korrelation eines<br>\n",
    "Pixels mit den umliegenden Pixeln zu berechnen"
   ]
  },
  {
   "cell_type": "code",
   "execution_count": null,
   "metadata": {},
   "outputs": [],
   "source": [
    "for i in range(5):\n",
    "    for j in range(5):\n",
    "        print(stats.pearsonr(airtemps.air.sel(lon=260,lat=50),airtemps.air.sel(lon=260+i,lat=50+j,method='nearest')))"
   ]
  },
  {
   "cell_type": "markdown",
   "metadata": {},
   "source": [
    "Beispiel: in einer Schleife über Längen und Breitengrad die Korrelation eines<br>\n",
    "Pixels mit den umliegenden Pixeln zu berechnen<br>\n",
    "Zunächst erzeugen wir einen Array mit dem richtigen shape, in dass die <br>\n",
    "Ergebnisse abgespeichert werden. "
   ]
  },
  {
   "cell_type": "code",
   "execution_count": null,
   "metadata": {},
   "outputs": [],
   "source": [
    "air_resampled = airtemps.air.resample(time='1m').mean(dim='time')\n",
    "   \n",
    "cor = np.zeros([airtemps.lat.size,airtemps.lon.size])\n",
    "for i in range(airtemps.lat.size):\n",
    "    for j in range(airtemps.lon.size):\n",
    "        print(i,j)\n",
    "        cor[i,j] = stats.pearsonr(air_resampled.sel(lon=260,lat=50),air_resampled.isel(lon=j,lat=i))[0]"
   ]
  },
  {
   "cell_type": "code",
   "execution_count": null,
   "metadata": {},
   "outputs": [],
   "source": [
    "plt.imshow(cor)\n",
    "plt.colorbar(label='Pearson Korrelation')\n",
    "plt.title('Korrelation jedes Pixels mit lon=260 und lat=50')\n",
    "plt.show()"
   ]
  },
  {
   "cell_type": "markdown",
   "metadata": {},
   "source": [
    "\n",
    "<br>\n",
    "Aufgaben:<br>\n",
    "    1) Wie hoch ist die Korrelation im Mittel? <br>\n",
    "    2) Resamplen sie die Daten in eine andere zeitliche Auflösung<br>\n",
    "    3) Wie verändert sich die mittlere Korrelation beim Resampling?<br>\n",
    "    Zum Nachdenken: müssen alle Rechnungen innerhalb der Schleife stattfinden?     <br>\n"
   ]
  }
 ],
 "metadata": {
  "kernelspec": {
   "display_name": "Python 3 (ipykernel)",
   "language": "python",
   "name": "python3"
  },
  "language_info": {
   "codemirror_mode": {
    "name": "ipython",
    "version": 3
   },
   "file_extension": ".py",
   "mimetype": "text/x-python",
   "name": "python",
   "nbconvert_exporter": "python",
   "pygments_lexer": "ipython3",
   "version": "3.11.5"
  }
 },
 "nbformat": 4,
 "nbformat_minor": 4
}
