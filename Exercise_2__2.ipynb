{
 "cells": [
  {
   "cell_type": "markdown",
   "id": "3550ce83",
   "metadata": {},
   "source": [
    "# Example: Persistent homology for S1vS1"
   ]
  },
  {
   "cell_type": "code",
   "execution_count": null,
   "id": "c9303836",
   "metadata": {},
   "outputs": [],
   "source": [
    "# Load packages\n",
    "import numpy as np\n",
    "import random as rd\n",
    "from matplotlib import pyplot as plt\n",
    "from ripser import ripser\n",
    "from persim import plot_diagrams"
   ]
  },
  {
   "cell_type": "code",
   "execution_count": null,
   "id": "87a81a28",
   "metadata": {},
   "outputs": [],
   "source": [
    "# How does \"random\" work?\n",
    "l = []\n",
    "for i in range(100):\n",
    "    l.append(rd.random())\n",
    "    \n",
    "plt.scatter(list(range(100)),l)"
   ]
  },
  {
   "cell_type": "code",
   "execution_count": null,
   "id": "7c8fc196",
   "metadata": {},
   "outputs": [],
   "source": [
    "# Sample 2*n random points on S_1vS_1 with error eps\n",
    "n = 1000\n",
    "eps = 1\n",
    "\n",
    "S = []\n",
    "for i in range(n):\n",
    "    phi_1 = rd.random()*2*np.pi\n",
    "    eps_1 = (rd.random()-0.5)*2*eps\n",
    "    phi_2 = rd.random()*2*np.pi\n",
    "    eps_2 = (rd.random()-0.5)*2*eps\n",
    "    \n",
    "    x_1 = np.cos(phi_1)*(1+eps_1)-1\n",
    "    y_1 = np.sin(phi_1)*(1+eps_1)\n",
    "    x_2 = np.cos(phi_2)*(1+eps_2)+1\n",
    "    y_2 = np.sin(phi_2)*(1+eps_2)\n",
    "    \n",
    "    S.append((x_1,y_1))\n",
    "    S.append((x_2,y_2))"
   ]
  },
  {
   "cell_type": "code",
   "execution_count": null,
   "id": "0e792c47",
   "metadata": {},
   "outputs": [],
   "source": [
    "# Scatter Plot of Data S\n",
    "plt.scatter([point[0] for point in S],[point[1] for point in S])"
   ]
  },
  {
   "cell_type": "code",
   "execution_count": null,
   "id": "51a73f9f",
   "metadata": {},
   "outputs": [],
   "source": [
    "# Save figure in pdf file\n",
    "plt.savefig('figure_S1vS1.png')"
   ]
  },
  {
   "cell_type": "code",
   "execution_count": null,
   "id": "3fcbee2d",
   "metadata": {},
   "outputs": [],
   "source": [
    "# Define distance function (euclidean distance)\n",
    "def dist(x, y):\n",
    "    \n",
    "    d = np.sqrt((x[0]-y[0])**2 + (x[1]-y[1])**2)\n",
    "    \n",
    "    return d"
   ]
  },
  {
   "cell_type": "code",
   "execution_count": null,
   "id": "43e9a933",
   "metadata": {},
   "outputs": [],
   "source": [
    "# Compute distance matrix\n",
    "D = np.zeros((2*n,2*n))\n",
    "for i in range(2*n):\n",
    "    for j in range(2*n):\n",
    "        D[i,j] = dist(S[i],S[j])"
   ]
  },
  {
   "cell_type": "code",
   "execution_count": null,
   "id": "a48ba69a",
   "metadata": {},
   "outputs": [],
   "source": [
    "# Write distance matrix to .csv file\n",
    "np.savetxt(\"distance_matrix_S1vS1\", D, delimiter=\",\")"
   ]
  },
  {
   "cell_type": "code",
   "execution_count": null,
   "id": "8a3dd287",
   "metadata": {},
   "outputs": [],
   "source": [
    "# Apply Ripser to data S\n",
    "ph = ripser(D, distance_matrix=True, maxdim=2)"
   ]
  },
  {
   "cell_type": "code",
   "execution_count": null,
   "id": "cf718317",
   "metadata": {},
   "outputs": [],
   "source": [
    "# What type is Ripser output?\n",
    "type(ph)"
   ]
  },
  {
   "cell_type": "code",
   "execution_count": null,
   "id": "cfbf4629",
   "metadata": {},
   "outputs": [],
   "source": [
    "ph"
   ]
  },
  {
   "cell_type": "code",
   "execution_count": null,
   "id": "38450c44",
   "metadata": {},
   "outputs": [],
   "source": [
    "# What type is the value of the 'dgms' key in the disctionary?\n",
    "type(ph['dgms'])"
   ]
  },
  {
   "cell_type": "code",
   "execution_count": null,
   "id": "3a5a047f",
   "metadata": {},
   "outputs": [],
   "source": [
    "len(ph['dgms'])"
   ]
  },
  {
   "cell_type": "code",
   "execution_count": null,
   "id": "2f8e8b4d",
   "metadata": {},
   "outputs": [],
   "source": [
    "# Persistence Intervals\n",
    "pi = ph['dgms']"
   ]
  },
  {
   "cell_type": "code",
   "execution_count": null,
   "id": "8d4e7d00",
   "metadata": {},
   "outputs": [],
   "source": [
    "pi[0]"
   ]
  },
  {
   "cell_type": "code",
   "execution_count": null,
   "id": "b1856acf",
   "metadata": {},
   "outputs": [],
   "source": [
    "pi[1]"
   ]
  },
  {
   "cell_type": "code",
   "execution_count": null,
   "id": "a8366ae3",
   "metadata": {},
   "outputs": [],
   "source": [
    "# How does \"plot_diagrams\" work?)\n",
    "help(plot_diagrams)"
   ]
  },
  {
   "cell_type": "code",
   "execution_count": null,
   "id": "3f12aa9d",
   "metadata": {},
   "outputs": [],
   "source": [
    "plot_diagrams(pi)"
   ]
  },
  {
   "cell_type": "code",
   "execution_count": null,
   "id": "731708d6",
   "metadata": {},
   "outputs": [],
   "source": []
  },
  {
   "cell_type": "code",
   "execution_count": null,
   "id": "a796aa3a",
   "metadata": {},
   "outputs": [],
   "source": []
  }
 ],
 "metadata": {
  "kernelspec": {
   "display_name": "Python 3",
   "language": "python",
   "name": "python3"
  },
  "language_info": {
   "codemirror_mode": {
    "name": "ipython",
    "version": 3
   },
   "file_extension": ".py",
   "mimetype": "text/x-python",
   "name": "python",
   "nbconvert_exporter": "python",
   "pygments_lexer": "ipython3",
   "version": "3.8.8"
  }
 },
 "nbformat": 4,
 "nbformat_minor": 5
}
