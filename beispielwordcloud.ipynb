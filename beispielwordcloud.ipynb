{
 "cells": [
  {
   "cell_type": "markdown",
   "metadata": {},
   "source": [
    "# Word Cloud Beispiel\n",
    "\n",
    "Dies ist ein einfaches Beispiel zur Visualisierung von textuellen Daten als Word Cloud. Word Clouds ordnen die in den Reden benutzten Worte in einer Wortwolke an, so dass oft verwendete Worte groß erscheinen und weniger oft verwendete Wort kleiner.\n",
    "\n",
    "Zunächst das, was wir brauchen werden. Die Libraries für API access haben wir ja schon. Für die Word Clouds sind zusätzliche Libraries nötig, die ggf. installiert werden müssen (http://amueller.github.io/word_cloud/index.html)."
   ]
  },
  {
   "cell_type": "code",
   "execution_count": null,
   "metadata": {},
   "outputs": [],
   "source": [
    "# for API access\n",
    "import requests\n",
    "import json\n",
    "\n",
    "# for WordClouds \n",
    "import matplotlib.pyplot as plt\n",
    "from wordcloud import WordCloud"
   ]
  },
  {
   "cell_type": "markdown",
   "metadata": {},
   "source": [
    "### Laden der Daten\n",
    "\n",
    "Wie gehabt. Für dieses Beispiel lade ich aber nicht alle Daten, sondern nur einen Teil. (Hier funktioniert die Parameterübergabe an die API noch nicht und ich weiß noch nicht genau warum.)"
   ]
  },
  {
   "cell_type": "code",
   "execution_count": null,
   "metadata": {},
   "outputs": [],
   "source": [
    "# Funktion zum Laden aller Reden in einem Zeitraum\n",
    "def laden():\n",
    "    # Aufruf der Parliament Dataset API aus Penelope\n",
    "    params = {'search_query': \"%20\", \n",
    "            'dataset_name':'deu', \n",
    "            'start_date':'2020-01-03', \n",
    "            'end_date':'2020-31-05'}\n",
    "    #print(params)\n",
    "    #result = requests.get('https://penelope.vub.be/parliament-data/get-speeches/',params=params)\n",
    "    result = requests.get('https://penelope.vub.be/parliament-data/get-speeches/deu/2020-03-01/2020-04-01/%20/1000000000000')\n",
    "    print(result)\n",
    "    # Hier packen wir alles in eine Liste ...\n",
    "    all_speeches = []\n",
    "    for speech in result.json()[\"speeches\"]:\n",
    "        all_speeches.append(speech)\n",
    "    # ... die wir hier bezüglich des Datums sortieren. \n",
    "    all_speeches.sort(key = lambda x:x['date'])\n",
    "\n",
    "    return all_speeches\n",
    "\n",
    "# Hier wird die Funktion aufgerufen.\n",
    "alleReden = laden()"
   ]
  },
  {
   "cell_type": "code",
   "execution_count": null,
   "metadata": {},
   "outputs": [],
   "source": [
    "len(alleReden)"
   ]
  },
  {
   "cell_type": "markdown",
   "metadata": {},
   "source": [
    "### Wir wählen eine Reden aus und generieren eine Word Cloud"
   ]
  },
  {
   "cell_type": "code",
   "execution_count": null,
   "metadata": {},
   "outputs": [],
   "source": [
    "Rede=alleReden[0]"
   ]
  },
  {
   "cell_type": "code",
   "execution_count": null,
   "metadata": {},
   "outputs": [],
   "source": [
    "stopwords = []\n",
    "#stopwords = ['die','und','der','in','zu']\n",
    "wordcloud = WordCloud(width = 600, height = 600,\n",
    "                background_color ='white',\n",
    "                stopwords = stopwords,\n",
    "                min_font_size = 10).generate(Rede['text'])\n",
    " \n",
    "# plot the WordCloud image                      \n",
    "plt.figure(figsize = (6, 6), facecolor = None)\n",
    "plt.imshow(wordcloud)\n",
    "plt.axis(\"off\")\n",
    "plt.tight_layout(pad = 0)\n",
    " \n",
    "plt.show()"
   ]
  },
  {
   "cell_type": "code",
   "execution_count": null,
   "metadata": {},
   "outputs": [],
   "source": []
  },
  {
   "cell_type": "code",
   "execution_count": null,
   "metadata": {},
   "outputs": [],
   "source": []
  },
  {
   "cell_type": "code",
   "execution_count": null,
   "metadata": {},
   "outputs": [],
   "source": []
  }
 ],
 "metadata": {
  "kernelspec": {
   "display_name": "Python 3",
   "language": "python",
   "name": "python3"
  },
  "language_info": {
   "codemirror_mode": {
    "name": "ipython",
    "version": 3
   },
   "file_extension": ".py",
   "mimetype": "text/x-python",
   "name": "python",
   "nbconvert_exporter": "python",
   "pygments_lexer": "ipython3",
   "version": "3.7.3"
  }
 },
 "nbformat": 4,
 "nbformat_minor": 4
}
