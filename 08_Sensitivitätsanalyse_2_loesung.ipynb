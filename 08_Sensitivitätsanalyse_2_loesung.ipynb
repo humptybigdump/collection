{
 "cells": [
  {
   "cell_type": "markdown",
   "metadata": {},
   "source": [
    "# Geodatenanalyse 1\n",
    "\n",
    "## Übung 8: Fortgeschrittene Sensitivitätsanalyse - Lösung\n",
    "\n",
    "\n",
    "Für fortgeschrittene Sensitivitätsanalysen gibt es in Python das Package `SALib` (https://salib.readthedocs.io/en/latest/index.html), in dem viele gängige Methoden (z.B. Morris Method, Sobol Indices) und die benötigten Sampling-Strategien implementiert sind. "
   ]
  },
  {
   "cell_type": "markdown",
   "metadata": {},
   "source": [
    "### Sobol Indizes\n",
    "\n",
    "Zur Bestimmung der Sobol Indizes werden zwei Algorithmen aus SALib benötigt: Mit `SALib.sample.saltelli.sample()` erfolgt das Generieren der Input-Wertematrix, danach werden mit diesen Inputs die Modelloutputs erzeugt, und mit `SALib.analyze.sobol.analyze()` erfolgt schließlich die Bestimmung der Sobol-Indizes. \n",
    "\n",
    "`SALib.sample.saltelli.sample()` benötigt als Input-Argument ein Python Dictionary mit der folgenden Angaben: \n",
    "\n",
    "'{'num_vars': Anzahl_unsichere_Parameter, 'names': [Name1, Name2, ...], 'bounds':[[min1, max1], [min2, max2], ...]}'\n",
    "\n",
    "Definiert nun zuerst ein Python Dictionary mit den entsprechenden Angaben zu dem analytischen Abbaumodell aus den letzten Übungen, und erzeugt Euch dann mit `SALib.sample.saltelli.sample()` einen Inputdatensatz für das analytische Modell. \n",
    "\n",
    "Inspiziert anschließend den generierten Inputdatensatz um die  Sampling Strategie nachzuvollziehen.  "
   ]
  },
  {
   "cell_type": "code",
   "execution_count": 1,
   "metadata": {},
   "outputs": [
    {
     "name": "stdout",
     "output_type": "stream",
     "text": [
      "[[ 4.01972656e+00 -2.99697266e+00  4.19148438e+02  2.41816406e-01\n",
      "   3.08408203e+08  1.57216797e-03]\n",
      " [ 3.84589844e+00 -2.99697266e+00  4.19148438e+02  2.41816406e-01\n",
      "   3.08408203e+08  1.57216797e-03]\n",
      " [ 4.01972656e+00 -1.31123047e+00  4.19148438e+02  2.41816406e-01\n",
      "   3.08408203e+08  1.57216797e-03]\n",
      " ...\n",
      " [ 4.15205078e+00 -2.18178711e+00  4.18441406e+02  1.80556641e-01\n",
      "   3.24067383e+08  1.44838867e-03]\n",
      " [ 4.15205078e+00 -2.18178711e+00  4.18441406e+02  1.80556641e-01\n",
      "   3.00424805e+08  1.52075195e-03]\n",
      " [ 4.15205078e+00 -2.18178711e+00  4.18441406e+02  1.80556641e-01\n",
      "   3.00424805e+08  1.44838867e-03]]\n"
     ]
    }
   ],
   "source": [
    "# [1] \n",
    "# benötigtes Package importieren\n",
    "from SALib.sample.saltelli import sample\n",
    "\n",
    "# Dictionary erzeugen\n",
    "problem = {\n",
    "    'num_vars': 6,\n",
    "    'names': ['deltaC', 'epsilon', 's', 'neff', 't', 'grad'],\n",
    "    'bounds': [[3.8, 4.8],\n",
    "               [-3.2, -1.1],\n",
    "               [415, 423],\n",
    "               [0.12, 0.3],\n",
    "               [3e8, 3.3e8],\n",
    "               [1.3e-3, 1.6e-3]]\n",
    "}\n",
    "\n",
    "# Inputmatrix erzeugen\n",
    "X = sample(problem, 1000)\n",
    "\n",
    "# Datensatz inspizieren\n",
    "print(X)"
   ]
  },
  {
   "cell_type": "markdown",
   "metadata": {},
   "source": [
    "Venwendet nun die eben erzeugten Modell-Inputs, um mit einer `for` Schleife und dem analytischen Modell der letzten Übungen die entsprechenden Outputs (hydraulische Leitfähigkeit und biologische Abbaurate) zu berechnen (siehe Übung 8 Monte Carlo Methoden). "
   ]
  },
  {
   "cell_type": "code",
   "execution_count": 2,
   "metadata": {},
   "outputs": [],
   "source": [
    "# [2]\n",
    "# Packages laden\n",
    "from SALib.analyze.sobol import analyze\n",
    "import numpy as np\n",
    "\n",
    "# Anzahl der Modelldurchläufe sowie leere Arrays für Outputs definieren \n",
    "n = len(X)\n",
    "kf =np.zeros(n)\n",
    "lambda_rate = np.zeros(n)\n",
    "\n",
    "# mit for-Schleife und analytischem Modell Outputs erzeugen\n",
    "for i in range(n):\n",
    "    kf[i] = (X[i, 2]*X[i, 3])/(X[i, 4]*X[i, 5])\n",
    "    lambda_rate[i] = -(X[i, 0]*kf[i]*X[i, 5])/(X[i, 1]*X[i, 2]*X[i, 3])\n",
    "\n",
    "Y = lambda_rate*3600*24*365 # to get values as [1/a]"
   ]
  },
  {
   "cell_type": "markdown",
   "metadata": {},
   "source": [
    "Als Inputs für `SALib.analyze.sobol.analyze()` sind das Eingangs-Dictionary, sowie die Modell-Ouputs erforderlich. Mit der zusätzlichen Angabe von \"print_to_console=True\" könnt Ihr Euch die Indizes direkt ausgeben lassen. \n",
    "\n",
    "Schaut Euch die Werte an, und vergleicht sie mit den Ergebnissen der Morris Method und Contribution-to-Variance Analyse. "
   ]
  },
  {
   "cell_type": "code",
   "execution_count": 3,
   "metadata": {},
   "outputs": [
    {
     "name": "stdout",
     "output_type": "stream",
     "text": [
      "Parameter S1 S1_conf ST ST_conf\n",
      "deltaC 0.043346 0.017920 0.047434 0.004627\n",
      "epsilon 0.974278 0.088561 0.972001 0.065351\n",
      "s 0.000000 0.000000 0.000000 0.000000\n",
      "neff -0.000000 0.000000 0.000000 0.000000\n",
      "t 0.006188 0.009114 0.007926 0.000765\n",
      "grad -0.000000 0.000000 0.000000 0.000000\n",
      "\n",
      "Parameter_1 Parameter_2 S2 S2_conf\n",
      "deltaC epsilon 0.002295 0.039668\n",
      "deltaC s 0.004978 0.024317\n",
      "deltaC neff 0.004978 0.024317\n",
      "deltaC t 0.005016 0.023872\n",
      "deltaC grad 0.004978 0.024317\n",
      "epsilon s -0.008404 0.114446\n",
      "epsilon neff -0.008404 0.114446\n",
      "epsilon t -0.007518 0.114524\n",
      "epsilon grad -0.008404 0.114446\n",
      "s neff -0.000000 0.000000\n",
      "s t -0.000000 0.000000\n",
      "s grad -0.000000 0.000000\n",
      "neff t 0.000000 0.000000\n",
      "neff grad 0.000000 0.000000\n",
      "t grad 0.001201 0.012954\n"
     ]
    }
   ],
   "source": [
    "#[3]\n",
    "# Packages laden\n",
    "from SALib.analyze.sobol import analyze\n",
    "\n",
    "# Sobol Indizes berechnen\n",
    "Sobol = analyze(problem, Y, print_to_console=True)"
   ]
  },
  {
   "cell_type": "markdown",
   "metadata": {},
   "source": [
    "Um die Effekte Erster Ordnung und Totalen Effekte zu vergleichen, visualisiert diese abschließend in einer Graphik. Vergleicht dabei die verschiedenen Effekte in Bezug auf die einzelnen Parameter und interpretiert diese. "
   ]
  },
  {
   "cell_type": "code",
   "execution_count": 4,
   "metadata": {},
   "outputs": [
    {
     "data": {
      "image/png": "[encoded data removed]",
      "text/plain": [
       "<Figure size 648x360 with 2 Axes>"
      ]
     },
     "metadata": {
      "needs_background": "light"
     },
     "output_type": "display_data"
    }
   ],
   "source": [
    "#[4]\n",
    "import matplotlib.pyplot as plt\n",
    "\n",
    "labels = ['deltaC', 'epsilon', 's', 'neff', 't', 'grad']\n",
    "\n",
    "fig = plt.figure(1, figsize=(9, 5))\n",
    "\n",
    "ax = fig.add_subplot(1,2,1)\n",
    "plt.barh(labels, width=Sobol['S1'])\n",
    "plt.xlabel('Effekte Erster Ordnung')\n",
    "plt.title ('Effekte Erster Ordnung')\n",
    "\n",
    "ax1 = fig.add_subplot(1,2,2)\n",
    "plt.barh(labels, width=Sobol['ST'])\n",
    "plt.xlabel('Totale Effekte')\n",
    "plt.title ('Totale Effekte')\n",
    "plt.show()"
   ]
  },
  {
   "cell_type": "markdown",
   "metadata": {},
   "source": [
    "## Ende\n",
    "\n",
    "### Referenzen: \n",
    "\n",
    "Würth et al. (2021): Quantifying biodegradation rate constants of o-xylene by combining compound-specific isotope analysis and groundwater dating. Journal of Contaminant Hydrology, 238, 103757"
   ]
  }
 ],
 "metadata": {
  "kernelspec": {
   "display_name": "Python 3",
   "language": "python",
   "name": "python3"
  },
  "language_info": {
   "codemirror_mode": {
    "name": "ipython",
    "version": 3
   },
   "file_extension": ".py",
   "mimetype": "text/x-python",
   "name": "python",
   "nbconvert_exporter": "python",
   "pygments_lexer": "ipython3",
   "version": "3.7.10"
  }
 },
 "nbformat": 4,
 "nbformat_minor": 4
}
