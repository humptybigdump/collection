{
 "cells": [
  {
   "cell_type": "markdown",
   "metadata": {},
   "source": [
    "**Data Science and AI for Energy Systems** \n",
    "\n",
    "Karlsruhe Institute of Technology\n",
    "\n",
    "Institute of Automation and Applied Informatics\n",
    "\n",
    "Summer Term 2024\n",
    "\n",
    "---"
   ]
  },
  {
   "cell_type": "markdown",
   "metadata": {},
   "source": [
    "# Exercise VI: Stochastic Differential Equations"
   ]
  },
  {
   "cell_type": "markdown",
   "metadata": {},
   "source": [
    "**Imports**"
   ]
  },
  {
   "cell_type": "code",
   "execution_count": 335,
   "metadata": {},
   "outputs": [],
   "source": [
    "# Imports\n",
    "import numpy as np\n",
    "import matplotlib.pyplot as plt\n",
    "import scipy as sc\n",
    "import pandas as pd\n",
    "from kramersmoyal import km\n",
    "from scipy.ndimage import gaussian_filter1d"
   ]
  },
  {
   "cell_type": "markdown",
   "metadata": {},
   "source": [
    "## Problem VI.2 (programming) -- Euler-Maruyama Simulation"
   ]
  },
  {
   "cell_type": "markdown",
   "metadata": {},
   "source": [
    "**Consider the stochastic differential equation**\n",
    "\\begin{align*}\n",
    "\\dot{\\omega} &= -c_1 \\omega + \\epsilon \\xi,\n",
    "\\end{align*}\n",
    "**using the Euler-Maruyama method, we can discretize the equations as follows:**\n",
    "\\begin{align} \\tag{3}\n",
    "\\omega_{n+1} &= \\omega_n - \\delta c_1 \\omega_n + \\epsilon \\Delta W_n,\n",
    "\\end{align}\n",
    "**where $ \\omega_n $ represents the value of $\\omega$ at time step $n$ ,$\\delta$ is the step size, and $\\epsilon$ is a positive constant representing the intensity of the noise $\\xi$. <br> Further, $ \\omega_n $ is the value of $ \\omega $ at time step $ n $, and $\\Delta W_n $ represents the increments of a Wiener process at time step $ n $, $\\Delta W_n$ is normally distributed with mean $0$ and standard deviation $\\sqrt{\\delta}$.**"
   ]
  },
  {
   "cell_type": "markdown",
   "metadata": {},
   "source": [
    "Note that the SDE can also be written as $d\\omega = -c_1 \\omega dt + \\epsilon d W(t)$"
   ]
  },
  {
   "cell_type": "markdown",
   "metadata": {},
   "source": [
    "***\n",
    "**(a) Simulate a stochastic time series described by (3),  using the Euler-Maruyama method with $c_1 = 0.05$, $\\delta = 0.1$, $\\epsilon=0.01$, initial condition $\\omega_0$ = $0.1$, and a time span $t=[0,100]$.**"
   ]
  },
  {
   "cell_type": "code",
   "execution_count": null,
   "metadata": {},
   "outputs": [],
   "source": []
  },
  {
   "cell_type": "markdown",
   "metadata": {},
   "source": [
    "***\n",
    "**(b) The library *sdeint* is constructed for simulating and analyzing stochastic differential equations. Use *sdeint.itoint* as an alternative for the self-constructed Euler-Maruyama method in (a), using the same parameters.**"
   ]
  },
  {
   "cell_type": "code",
   "execution_count": 343,
   "metadata": {},
   "outputs": [
    {
     "data": {
      "text/plain": [
       "'For using sdeint.itoint, you can use the following example as a guide (see [https://pypi.org/project/sdeint/](https://pypi.org/project/sdeint/)):\\n\\nIntegrate the one-dimensional Ito equation   dx = -(a + x*b**2)*(1 - x**2)dt + b*(1 - x**2)dW\\nwith initial condition x0 = 0.1:\\n\\na = 1.0\\nb = 0.8\\ntspan = np.linspace(0.0, 5.0, 5001)\\nx0 = 0.1\\n\\ndef f(x, t):\\n    return -(a + x*b**2)*(1 - x**2)\\n\\ndef g(x, t):\\n    return b*(1 - x**2)\\n\\nresult = sdeint.itoint(f, g, x0, tspan)\\n'"
      ]
     },
     "execution_count": 343,
     "metadata": {},
     "output_type": "execute_result"
    }
   ],
   "source": [
    "'''For using sdeint.itoint, you can use the following example as a guide (see [https://pypi.org/project/sdeint/](https://pypi.org/project/sdeint/)):\n",
    "\n",
    "Integrate the one-dimensional Ito equation   dx = -(a + x*b**2)*(1 - x**2)dt + b*(1 - x**2)dW\n",
    "with initial condition x0 = 0.1:\n",
    "\n",
    "a = 1.0\n",
    "b = 0.8\n",
    "tspan = np.linspace(0.0, 5.0, 5001)\n",
    "x0 = 0.1\n",
    "\n",
    "def f(x, t):\n",
    "    return -(a + x*b**2)*(1 - x**2)\n",
    "\n",
    "def g(x, t):\n",
    "    return b*(1 - x**2)\n",
    "\n",
    "result = sdeint.itoint(f, g, x0, tspan)\n",
    "'''"
   ]
  },
  {
   "cell_type": "code",
   "execution_count": 344,
   "metadata": {},
   "outputs": [],
   "source": [
    "# Now apply the method to our example:\n"
   ]
  },
  {
   "cell_type": "markdown",
   "metadata": {},
   "source": [
    "***\n",
    "**(c) Plot the results from (a) and (b) in the $(t,\\omega)$-  plane.**"
   ]
  },
  {
   "cell_type": "code",
   "execution_count": null,
   "metadata": {},
   "outputs": [],
   "source": []
  },
  {
   "cell_type": "markdown",
   "metadata": {},
   "source": [
    "***\n",
    "**(d) Use the Euler-Maruyama algorithm from (a) to experiment with different parameter values of $c_1$, such as $c_1 \\in \\{-0.1,0.1, 0.3,0.5\\}$. Observe how changing these parameters affects the trajectories of $\\omega$.**"
   ]
  },
  {
   "cell_type": "code",
   "execution_count": null,
   "metadata": {},
   "outputs": [],
   "source": []
  },
  {
   "cell_type": "markdown",
   "metadata": {},
   "source": [
    "***\n",
    "**(e) As in (d), experiment with different parameter values for $\\epsilon$ such as $\\epsilon \\in \\{0.001,0.01,0.1,0.5\\}$. Observe how changing these parameters affects the trajectories of $\\omega$.**"
   ]
  },
  {
   "cell_type": "code",
   "execution_count": null,
   "metadata": {},
   "outputs": [],
   "source": []
  },
  {
   "cell_type": "markdown",
   "metadata": {},
   "source": [
    "## Problem VI.3 (programming) -- Estimation of Kramers-Moyal coefficients (drift and diffusion)"
   ]
  },
  {
   "cell_type": "markdown",
   "metadata": {},
   "source": [
    "**Consider the Ornstein-Uhlenbeck process:**\n",
    "\\begin{align}\\tag{4}\n",
    "d\\omega(t) = -c_1 \\omega(t) dt + \\epsilon dW(t).    \n",
    "\\end{align}"
   ]
  },
  {
   "cell_type": "markdown",
   "metadata": {},
   "source": [
    "***\n",
    "**(a) Generate a trajectory of the Ornstein-Uhlenbeck process with the Euler–Maruyama integration method as in Exercise 2, with $c_1 = 0.3$, $\\epsilon = 0.1$, initial condition $\\omega(0)=0.1$ and time step of numerical integration $\\delta= 0.001$, and time span $t=[0,2000]$.**"
   ]
  },
  {
   "cell_type": "code",
   "execution_count": null,
   "metadata": {},
   "outputs": [],
   "source": []
  },
  {
   "cell_type": "markdown",
   "metadata": {},
   "source": [
    "***\n",
    "**(b) Plot the trajectory over time.**"
   ]
  },
  {
   "cell_type": "code",
   "execution_count": null,
   "metadata": {},
   "outputs": [],
   "source": []
  },
  {
   "cell_type": "markdown",
   "metadata": {},
   "source": [
    "***\n",
    "**(c) The stochastic differential equation (4) is connected to a Fokker-planck equation** \n",
    "\\begin{align} \\tag{5}\n",
    "\\frac{\\partial }{\\partial t}p(\\omega,t)=-\\frac{\\partial}{\\partial \\omega}[D_1(\\omega,t)p(,t)]+ \\frac{\\partial^2}{\\partial \\omega^2}[D_2(\\omega,t)p(\\omega,t)],\n",
    "\\end{align}\n",
    " **where $D_1(\\omega,t)$ denotes the first Kramers-Moyal (KM) coefficient (also drift), and $D_2(\\omega,t)$ is the second Kramers-Moyal coefficient (also diffusion). See also slide 22 in lecture 6.<br>\n",
    " What are the first and second KM coefficients for the Ornstein-Uhlenbeck process, given the parameters from (a)?**"
   ]
  },
  {
   "cell_type": "markdown",
   "metadata": {},
   "source": [
    "Use the formulas from slide 22"
   ]
  },
  {
   "cell_type": "code",
   "execution_count": null,
   "metadata": {},
   "outputs": [],
   "source": []
  },
  {
   "cell_type": "markdown",
   "metadata": {},
   "source": [
    "***\n",
    "**(d) Use the library *kramersmoyal* to estimate the first two Kramers-Moyal coefficients from the data, you can use *kramersmoyal.km(data, powers = 2, bw = 0.05)* to perform the calculation.**"
   ]
  },
  {
   "cell_type": "markdown",
   "metadata": {},
   "source": [
    "For details see also [https://github.com/LRydin/KramersMoyal](https://github.com/LRydin/KramersMoyal)."
   ]
  },
  {
   "cell_type": "code",
   "execution_count": 4,
   "metadata": {},
   "outputs": [],
   "source": [
    "# Use kmc, x_axis = kramersmoyal.km(data, powers = 2, bw = 0.05)\n",
    "# The i-th KM coefficient is given by kmc[i]'''\n"
   ]
  },
  {
   "cell_type": "markdown",
   "metadata": {},
   "source": [
    "***\n",
    "**(e) Visualise the estimated first and second Kramers-Moyal coefficients from (d). What kind of curve do you notice?**"
   ]
  },
  {
   "cell_type": "markdown",
   "metadata": {},
   "source": [
    "Plot not necessarily the entire x_axis, but for example use x_axis[500:-500]"
   ]
  },
  {
   "cell_type": "code",
   "execution_count": 347,
   "metadata": {},
   "outputs": [],
   "source": []
  },
  {
   "cell_type": "markdown",
   "metadata": {},
   "source": [
    "***\n",
    "**(f) Repeat the plot from (e), this time divide the estimated Kramers-Moyal coefficients by $\\delta$ (as the time step of the time series is $\\delta$). Add the theoretical values of the KM coefficients from (c) to the plots. What can you observe?**"
   ]
  },
  {
   "cell_type": "markdown",
   "metadata": {},
   "source": [
    "Plot again not necessarily the entire x_axis, but for example use x_axis[500:-500]"
   ]
  },
  {
   "cell_type": "code",
   "execution_count": null,
   "metadata": {},
   "outputs": [],
   "source": []
  },
  {
   "cell_type": "markdown",
   "metadata": {},
   "source": [
    "## Problem VI.4 (programming) -- Estimating Kramers-Moyal coefficients (drift and diffusion) from an empirical frequency time series"
   ]
  },
  {
   "cell_type": "markdown",
   "metadata": {},
   "source": [
    "**We consider an empirical dataset of power grid frequency data with a 1-second time resolution, the dataset *frequency\\_sample\\_2015\\_ex6.csv* can be found in [https://bwsyncandshare.kit.edu/s/QPySS7eZCWjSjYP](https://bwsyncandshare.kit.edu/s/QPySS7eZCWjSjYP). Note that this is the same dataset as used in Exercise V.3.**"
   ]
  },
  {
   "cell_type": "markdown",
   "metadata": {},
   "source": [
    "***\n",
    "**(a) Plot the stochastic trajectory over time.**"
   ]
  },
  {
   "cell_type": "code",
   "execution_count": null,
   "metadata": {},
   "outputs": [],
   "source": []
  },
  {
   "cell_type": "markdown",
   "metadata": {},
   "source": [
    "***\n",
    "**(b) Apply a Gaussian filter in order to detrend the data, i.e. separate the data into trend and stochastic dynamics. Use *scipy.ndimage.gaussian\\_filter1d*, using as standard deviation for the Gaussian kernel *sigma=*$60$ (seconds). Then plot the time series together with the trend, and in a separate figure the detrended stochastic dynamics (detrended data  = data - trend).**"
   ]
  },
  {
   "cell_type": "code",
   "execution_count": 350,
   "metadata": {},
   "outputs": [],
   "source": [
    "# The trend is estimated by the filtering, i.e. we  consider the output of the Gaussian filtering function as trend\n"
   ]
  },
  {
   "cell_type": "markdown",
   "metadata": {},
   "source": [
    "***\n",
    "**(c) As in Exercise 3, use the Kramers-Moyal package to estimate the first two Kramers-Moyal coefficients from the detrended data, you can use *kramersmoyal.km(data, powers = 2, bw = 0.05)* to perform the calculation.**"
   ]
  },
  {
   "cell_type": "code",
   "execution_count": null,
   "metadata": {},
   "outputs": [],
   "source": []
  },
  {
   "cell_type": "markdown",
   "metadata": {},
   "source": [
    "***\n",
    "**(d) Visualise the estimated first and second Kramers-Moyal coefficients from (c). What can you observe?**"
   ]
  },
  {
   "cell_type": "code",
   "execution_count": null,
   "metadata": {},
   "outputs": [],
   "source": []
  }
 ],
 "metadata": {
  "kernelspec": {
   "display_name": "tf213_loc",
   "language": "python",
   "name": "python3"
  },
  "language_info": {
   "codemirror_mode": {
    "name": "ipython",
    "version": 3
   },
   "file_extension": ".py",
   "mimetype": "text/x-python",
   "name": "python",
   "nbconvert_exporter": "python",
   "pygments_lexer": "ipython3",
   "version": "3.9.18"
  }
 },
 "nbformat": 4,
 "nbformat_minor": 2
}
