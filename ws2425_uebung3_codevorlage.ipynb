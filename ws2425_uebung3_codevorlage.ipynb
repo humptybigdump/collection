{
 "cells": [
  {
   "cell_type": "code",
   "execution_count": null,
   "id": "5c53c8be",
   "metadata": {},
   "outputs": [],
   "source": [
    "import numpy as np\n",
    "from matplotlib import pyplot as plt"
   ]
  },
  {
   "cell_type": "code",
   "execution_count": null,
   "id": "c592791f",
   "metadata": {},
   "outputs": [],
   "source": [
    "# Funktionen u und utilde\n",
    "def u(lam, y):\n",
    "    return \n",
    "\n",
    "def utilde(x):\n",
    "    return "
   ]
  },
  {
   "cell_type": "code",
   "execution_count": null,
   "id": "4ad44517",
   "metadata": {},
   "outputs": [],
   "source": [
    "# Datenpunkte (Fahrräder)\n",
    "\n",
    "f1 = np.array([450, 900, 1300, 1250, 1600, 1750, 2000]) # preis\n",
    "f2 = np.array([14, 13, 15, 10.5, 7, 12, 7]) # gewicht\n",
    "\n",
    "# lambda\n",
    "lam = np.array([0.5,0.5])\n",
    "\n",
    "# antiidealpunkt\n",
    "omega = "
   ]
  },
  {
   "cell_type": "markdown",
   "id": "93f64d58",
   "metadata": {},
   "source": [
    "Teilaufgabe a) / b) \n"
   ]
  },
  {
   "cell_type": "code",
   "execution_count": null,
   "id": "1059b23f",
   "metadata": {},
   "outputs": [],
   "source": [
    "# Plotdaten, als Gitter\n",
    "y1 = np.arange(0,omega[0],0.1)\n",
    "y2 = np.arange(0,omega[1],0.1)\n",
    "y1, y2 = np.meshgrid(y1,y2)\n",
    "\n",
    "# Funktionswerte\n",
    "z = "
   ]
  },
  {
   "cell_type": "code",
   "execution_count": null,
   "id": "da57bed0",
   "metadata": {},
   "outputs": [],
   "source": [
    "# Plot: \n",
    "\n",
    "# Zuerst müssen die Levels festgelegt werden für den contour Plot: diese sollen durch unsere Datenpunkte gehen\n",
    "# Doku: https://matplotlib.org/stable/api/_as_gen/matplotlib.pyplot.contour.html\n",
    "\n",
    "# TODO gesuchten Levels bestimmen ....\n",
    "levels = # np.array([])\n",
    "\n",
    "\n",
    "    \n",
    "# plot\n",
    "cs = plt.contour(...) # Höhenlinien\n",
    "plt.colorbar(cs)\n",
    "plt.scatter(..., marker='x') # Datenpunkte\n",
    "\n",
    "# Damit die Datenpunkte nett bezeichnet sind..\n",
    "for i in range(7):\n",
    "    plt.text(f1[i]+.2, f2[i]+.2, '$f(x^'+str(i)+')$', fontsize=9)\n",
    "\n",
    "# Ränder\n",
    "plt.plot(np.linspace(0,omega[0],7),np.ones(7)*omega[1], color = 'black', linestyle='--')\n",
    "plt.plot(np.ones(7)*omega[0], np.linspace(0,omega[1],7), color = 'black', linestyle='--')\n",
    "\n",
    "plt.title('$u_{CD}$, $\\\\lambda =$'+str(list(lam))) #, $\\lambda='+str(list(lam))+\n",
    "plt.xlim([300,2100])\n",
    "plt.ylim([5, 16])\n",
    "plt.show()"
   ]
  },
  {
   "cell_type": "markdown",
   "id": "4af14784",
   "metadata": {},
   "source": [
    "c) "
   ]
  },
  {
   "cell_type": "code",
   "execution_count": null,
   "id": "24348f03",
   "metadata": {},
   "outputs": [],
   "source": [
    "# Code von a)/b) kopieren und entsprechend anpassen\n",
    "\n"
   ]
  },
  {
   "cell_type": "code",
   "execution_count": null,
   "id": "bc1b78f7",
   "metadata": {},
   "outputs": [],
   "source": []
  }
 ],
 "metadata": {
  "kernelspec": {
   "display_name": "Python 3 (ipykernel)",
   "language": "python",
   "name": "python3"
  },
  "language_info": {
   "codemirror_mode": {
    "name": "ipython",
    "version": 3
   },
   "file_extension": ".py",
   "mimetype": "text/x-python",
   "name": "python",
   "nbconvert_exporter": "python",
   "pygments_lexer": "ipython3",
   "version": "3.12.4"
  }
 },
 "nbformat": 4,
 "nbformat_minor": 5
}
