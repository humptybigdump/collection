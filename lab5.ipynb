{
 "cells": [
  {
   "cell_type": "markdown",
   "id": "e867a4ae-3dfc-459e-ac7a-a94642675597",
   "metadata": {},
   "source": [
    "# Quantitative methods p. 3 - basic information theory measures"
   ]
  },
  {
   "cell_type": "markdown",
   "id": "f22a3716-f444-4a1d-9246-3d035e01f933",
   "metadata": {},
   "source": [
    "Today we are going to present some basic information theory concepts and their use in social media analyzes."
   ]
  },
  {
   "cell_type": "markdown",
   "id": "0d1f2806-7175-4084-aaee-c51b7ac7a21a",
   "metadata": {},
   "source": [
    "## Entropy"
   ]
  },
  {
   "cell_type": "markdown",
   "id": "f20e170e-8817-434a-9b5e-32f530f098c2",
   "metadata": {},
   "source": [
    "The concept of information entropy was introduced by Claude Shannon in 1948. The entropy is basically the measure of \"uncertainty\" or \"surprise\". For a random variable $X$ the entropy is defined as:\n",
    "\n",
    "$$\n",
    "H(X) = -\\sum_x p(x)\\log(p(x))\n",
    "$$\n",
    "\n",
    "where the summation is over the variable's possible values. The choice of logarithmic base in the following formulae determines the unit of information entropy that is used. A common unit of information is the bit, based on the binary logarithm. Other units include the nat, which is based on the natural logarithm, and the decimal digit, which is based on the common logarithm. "
   ]
  },
  {
   "cell_type": "markdown",
   "id": "58efafa7-deb3-4cd4-ba2b-8a222ee92dff",
   "metadata": {},
   "source": [
    "For better understanding let's consider a few examples. Let's consider tosses of two coins: honest (probabilities of head and tail are equal) and cheated (probability of head is 0.75 and of tail 0.25). In the first case, before toss, we **cannot** expect that occuring of any side is prefered, although in the latter, we **can** expect that the result will be head (the probability is higher). Therefore our \"surprise\" about the result of toss is higher in the first case - action of tossing delivers us more information than in the latter case. We can say that the random variable related to the first coin has higher entropy than the second. Indeed:\n",
    "\n",
    "$$\n",
    "H(X_{honest}) = - \\frac{1}{2} \\log \\frac{1}{2} - \\frac{1}{2} \\log \\frac{1}{2} = 1\n",
    "$$\n",
    "\n",
    "$$\n",
    "H(X_{cheated}) = - \\frac{1}{4} \\log \\frac{1}{4} - \\frac{3}{4} \\log \\frac{3}{4} \\approx 0.811278\n",
    "$$\n",
    "\n",
    "Now let's consider third coin with head on both sides. Then the result of coint toss is certain. There is no surprise about the result. In this case the entropy is equal to 0."
   ]
  },
  {
   "cell_type": "markdown",
   "id": "378a10ed-3963-4b32-a794-81d0153076fe",
   "metadata": {},
   "source": [
    "From this example we see some of properties of the information entropy. Its value is minimal (equal to 0 - entropy cannot be negatiwe) for certain events and maximal (equal to $N$ - number of all events) for uniform distribution."
   ]
  },
  {
   "cell_type": "markdown",
   "id": "ab63bc42-4020-44dc-9645-9c6d48495970",
   "metadata": {},
   "source": [
    "In terms of NLP we can consider an entropy of language which can measure information content of each token (letter/word). "
   ]
  },
  {
   "cell_type": "code",
   "execution_count": 136,
   "id": "4b24d641-a78c-4c0a-af07-8a6348fedeba",
   "metadata": {},
   "outputs": [],
   "source": [
    "import pandas as pd\n",
    "import numpy as np\n",
    "\n",
    "wiki_files = [\"angela_merkel\", \"cicero\", \"thermopylae\", \"waterloo\"]\n",
    "tweet_files = [\"BorisJohnson\", \"elonmusk\", \"Pontifex\", \"vonderleyen\"]"
   ]
  },
  {
   "cell_type": "code",
   "execution_count": 137,
   "id": "139369cf-3c63-48bd-8463-f9ed619aa09e",
   "metadata": {},
   "outputs": [],
   "source": [
    "wiki_data = {}\n",
    "for name in wiki_files:\n",
    "    with open(f\"data_scraped/{name}_text-clean.txt\") as file:\n",
    "        wiki_data[name] = file.read()"
   ]
  },
  {
   "cell_type": "code",
   "execution_count": 138,
   "id": "87498a74-56af-486e-b123-b77483308ac6",
   "metadata": {},
   "outputs": [],
   "source": [
    "from nltk.tokenize import sent_tokenize\n",
    "import string\n",
    "import re\n",
    "\n",
    "wiki_sentences = {}\n",
    "for name in wiki_files:\n",
    "    wiki_sentences[name] = []\n",
    "    tokens = sent_tokenize(wiki_data[name].replace('.', ' . '))\n",
    "    for token in tokens:\n",
    "        token = token.replace(\"\\n\", '')\n",
    "        token = re.sub(re.compile('|\\\\'.join(list(string.punctuation))), '', token)\n",
    "        wiki_sentences[name].append(token.lower()) "
   ]
  },
  {
   "cell_type": "code",
   "execution_count": 139,
   "id": "625a8fc3-b470-4edb-b45c-f5b45f6f7ab7",
   "metadata": {},
   "outputs": [],
   "source": [
    "max_length = np.max([len(s.split()) for name in wiki_files for s in wiki_sentences[name]])\n",
    "wiki_position_words = {}\n",
    "for i in range(1, max_length + 1):\n",
    "    wiki_position_words[i] = []\n",
    "    for name in wiki_files:\n",
    "        for sentence in wiki_sentences[name]:\n",
    "            try:\n",
    "                wiki_position_words[i].append(sentence.split()[i-1])\n",
    "            except IndexError:\n",
    "                pass"
   ]
  },
  {
   "cell_type": "code",
   "execution_count": 143,
   "id": "4219822d-0dfc-4192-89e3-f959ef15d92f",
   "metadata": {},
   "outputs": [],
   "source": [
    "def compute_distribution(words):\n",
    "    _, counts = np.unique(words, return_counts=True)\n",
    "    return counts / counts.sum()\n",
    "\n",
    "def compute_entropy(distribution):\n",
    "    return - np.sum(distribution * np.log2(distribution, where=distribution!=0))"
   ]
  },
  {
   "cell_type": "code",
   "execution_count": 144,
   "id": "3e32f475-9f8b-43ec-ab84-0ddb58c1d448",
   "metadata": {},
   "outputs": [],
   "source": [
    "wiki_entropy = []\n",
    "max_length = np.max([len(s.split()) for name in wiki_files for s in wiki_sentences[name]])\n",
    "for i in range(1, max_length + 1):\n",
    "    wiki_entropy.append(compute_entropy(compute_distribution(wiki_position_words[i])))"
   ]
  },
  {
   "cell_type": "code",
   "execution_count": 77,
   "id": "c96371e9-bf07-4bc3-83f0-d5647e2b9709",
   "metadata": {},
   "outputs": [],
   "source": [
    "tweet_data = {}\n",
    "for name in tweet_files:\n",
    "    tweet_data[name] = pd.read_csv(f\"data_scraped/{name}_2022-04-01_2022-04-30.csv\")"
   ]
  },
  {
   "cell_type": "code",
   "execution_count": 184,
   "id": "b168b380-fcf3-43cf-a38d-6230d99950a5",
   "metadata": {},
   "outputs": [],
   "source": [
    "tweet_sentences = {}\n",
    "for name in tweet_files:\n",
    "    tweet_sentences[name] = []\n",
    "    tweets = list(tweet_data[name].Embedded_text.map(lambda x: x.split(\"\\n\")[:-3]))\n",
    "    for tweet in [' '.join(tweet) for tweet in tweets]:\n",
    "        sentences = sent_tokenize(tweet)\n",
    "        for sentence in sentences:\n",
    "            if len(sentence.split(' ')) > 1:\n",
    "                sentence = sentence.replace(\"\\n\", '')\n",
    "                sentence = sentence.replace(\"\\r\", '')\n",
    "                sentence = re.sub(re.compile('|\\\\'.join(list(string.punctuation))), '', sentence)\n",
    "                tweet_sentences[name].append(sentence)"
   ]
  },
  {
   "cell_type": "code",
   "execution_count": 187,
   "id": "e8107905-fb88-469a-85c7-75b5ec503c0a",
   "metadata": {},
   "outputs": [],
   "source": [
    "max_length = np.max([len(s.split()) for name in tweet_files for s in tweet_sentences[name]])\n",
    "tweet_position_words = {}\n",
    "for i in range(1, max_length + 1):\n",
    "    tweet_position_words[i] = []\n",
    "    for name in tweet_files:\n",
    "        for sentence in tweet_sentences[name]:\n",
    "            try:\n",
    "                tweet_position_words[i].append(sentence.split()[i-1])\n",
    "            except IndexError:\n",
    "                pass"
   ]
  },
  {
   "cell_type": "code",
   "execution_count": 189,
   "id": "090ee5f5-8613-4acc-837e-8833a56709c2",
   "metadata": {},
   "outputs": [],
   "source": [
    "tweet_entropy = []\n",
    "max_length = np.max([len(s.split()) for name in tweet_files for s in tweet_sentences[name]])\n",
    "for i in range(1, max_length + 1):\n",
    "    tweet_entropy.append(compute_entropy(compute_distribution(tweet_position_words[i])))"
   ]
  },
  {
   "cell_type": "code",
   "execution_count": 196,
   "id": "da9cd534-9511-44be-8953-0b0f3ef0ce73",
   "metadata": {},
   "outputs": [
    {
     "data": {
      "text/plain": [
       "[<matplotlib.lines.Line2D at 0x7f6be9ce4640>]"
      ]
     },
     "execution_count": 196,
     "metadata": {},
     "output_type": "execute_result"
    },
    {
     "data": {
      "image/png": "[encoded data removed]",
      "text/plain": [
       "<Figure size 432x288 with 1 Axes>"
      ]
     },
     "metadata": {
      "needs_background": "light"
     },
     "output_type": "display_data"
    }
   ],
   "source": [
    "plt.plot(wiki_entropy)\n",
    "plt.plot(tweet_entropy)"
   ]
  },
  {
   "cell_type": "markdown",
   "id": "91a21641-d16c-4403-afea-a3d65444839e",
   "metadata": {},
   "source": [
    "## Mutual information"
   ]
  },
  {
   "cell_type": "markdown",
   "id": "ab57ddc2-d577-480f-8fa8-e077132a0789",
   "metadata": {},
   "source": [
    "The mutual information (MI) of two random variables is a measure of the mutual dependence between the two variables. More specifically, it quantifies the \"amount of information\" obtained about one random variable by observing the other random variable. The quantity was defined and analyzed by Claude Shannon in his landmark paper \"A Mathematical Theory of Communication\", although he did not call it \"mutual information\". Mutual Information is also known as information gain. The relation between entropy and mutual information can be represented graphically on Venn diagram:\n",
    "![](https://upload.wikimedia.org/wikipedia/commons/d/d4/Entropy-mutual-information-relative-entropy-relation-diagram.svg)"
   ]
  },
  {
   "cell_type": "code",
   "execution_count": null,
   "id": "68dbfa33-41a8-44ad-b409-0ef3b959f811",
   "metadata": {},
   "outputs": [],
   "source": []
  }
 ],
 "metadata": {
  "kernelspec": {
   "display_name": "Python 3 (ipykernel)",
   "language": "python",
   "name": "python3"
  },
  "language_info": {
   "codemirror_mode": {
    "name": "ipython",
    "version": 3
   },
   "file_extension": ".py",
   "mimetype": "text/x-python",
   "name": "python",
   "nbconvert_exporter": "python",
   "pygments_lexer": "ipython3",
   "version": "3.10.4"
  }
 },
 "nbformat": 4,
 "nbformat_minor": 5
}
