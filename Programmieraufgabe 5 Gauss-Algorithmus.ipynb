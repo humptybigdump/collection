{
 "cells": [
  {
   "cell_type": "markdown",
   "id": "94bc997b-db00-49a9-ae4b-061086e4f65b",
   "metadata": {},
   "source": [
    "# Notebook zum Lösen linearer Gleichungssysteme mit Hilfe des Gauß-Algorithmus"
   ]
  },
  {
   "cell_type": "markdown",
   "id": "97e36818-03f4-47bc-97c5-2131c0671ca7",
   "metadata": {},
   "source": [
    "**Abgabe in den Programmiertutorien am 23. und 24. Januar 2025. Falls Sie Unterstützung bei der Bearbeitung der Programmieraufgabe brauchen, wenden Sie sich frühzeitig an Ihren Tutor oder melden Sie sich im Forum.**"
   ]
  },
  {
   "cell_type": "markdown",
   "id": "67ec760a-7991-4ffd-9778-2b9690e890e4",
   "metadata": {},
   "source": [
    "Benötigte Module für dieses Notebook:"
   ]
  },
  {
   "cell_type": "code",
   "execution_count": null,
   "id": "6f5d8855-c0d2-469d-8196-6e40249b131a",
   "metadata": {},
   "outputs": [],
   "source": [
    "import numpy as np"
   ]
  },
  {
   "cell_type": "markdown",
   "id": "71bd9eac-4085-471c-8d40-f057b27c27c9",
   "metadata": {},
   "source": [
    "In der Schule bzw. in der linearen Algebra haben Sie gelernt, wie man beliebige lineare Gleichungssysteme $Ax=b$ mit einer invertierbaren Matrix $A = (a_{i,j})_{i,j=1,\\ldots,n} \\in \\mathbb{R}^{n\\times n}$ und einer rechten Seite $b\\in\\mathbb{R}^n$ lösen kann. Dazu bringt man zunächst das Gleichunssystem mit dem Gauß-Algorithmus in Dreiecksgestalt:\n",
    "$$ \\left( \\begin{array}{cccc|c}\n",
    "    a_{1,1} & \\cdots & \\cdots & a_{1,n} & b_1 \\\\\n",
    "    \\vdots & \\ddots &        & \\vdots  & \\vdots \\\\           \n",
    "    \\vdots &        & \\ddots & \\vdots  & \\vdots \\\\\n",
    "    a_{n,1} & \\cdots & \\cdots & a_{n,n}  & b_n\n",
    "\\end{array} \\right)\n",
    "\\qquad \\overset{Gauß}{\\rightsquigarrow} \\qquad\n",
    "\\left( \\begin{array}{cccc|c}\n",
    "    \\widetilde{a}_{1,1} & \\cdots & \\cdots & \\widetilde{a}_{1,n} & \\widetilde{b}_1 \\\\\n",
    "    0                  & \\ddots &        & \\vdots              & \\vdots \\\\           \n",
    "    \\vdots             & \\ddots & \\ddots & \\vdots              & \\vdots \\\\\n",
    "    0                  & \\cdots & 0      & \\widetilde{a}_{n,n}  & \\widetilde{b}_{n}\n",
    "\\end{array} \\right). $$\n",
    "Das resultierende LGS $\\widetilde{A} x = \\widetilde{b}$ kann dann problemlos von unten nach oben gelöst werden (Rückwärtselimination).\n",
    "\n",
    "Dieses Vorgehen soll in diesem Notebook implementiert werden, wobei wir mit der Rückwärtselimination starten werden."
   ]
  },
  {
   "cell_type": "markdown",
   "id": "a59ba881-9486-4749-a7ff-a45aa054b4fa",
   "metadata": {},
   "source": [
    "### Teil 1: Rückwärtselimination"
   ]
  },
  {
   "cell_type": "markdown",
   "id": "92611fbc-7501-428c-903c-59a5f4ed4a8d",
   "metadata": {},
   "source": [
    "Die Lösung des LGS \n",
    "$$ \\underbrace{\\begin{pmatrix}\n",
    "    r_{1,1} & \\cdots & \\cdots & r_{1,n} \\\\\n",
    "    0      & \\ddots &        & \\vdots \\\\           \n",
    "    \\vdots & \\ddots & \\ddots & \\vdots \\\\\n",
    "    0      & \\cdots & 0      & r_{n,n}\n",
    "\\end{pmatrix}}_{=R} \\begin{pmatrix} \n",
    "    x_1 \\\\ \\vdots \\\\ \\vdots \\\\ x_n\n",
    "\\end{pmatrix} = \\underbrace{\\begin{pmatrix} \n",
    "    c_1 \\\\ \\vdots \\\\ \\vdots \\\\ c_n\n",
    "\\end{pmatrix}}_{=c}$$\n",
    "mit rechter obererer Dreickecksmatrix $R\\in\\mathbb{R}^{n\\times n}$ und Vektor $c\\in\\mathbb{R}^{n}$ ist gegeben durch\n",
    "$$ x_n = c_n/r_{n,n}, \\qquad x_i = \\frac{1}{r_{i,i}} \\left( c_i - \\sum_{j=i+1}^{n} r_{i,j} x_j \\right), \\qquad i = n-1,\\ldots,1.$$"
   ]
  },
  {
   "cell_type": "markdown",
   "id": "e0d11390-22e6-4f34-8def-4236672f43d9",
   "metadata": {},
   "source": [
    "**(a) Schreiben Sie eine Prozedur `backward_subst`, die zu gegebener rechter obereren Dreiecksmatrix $R$ und Vektor $c$ passender Länge die Lösung des LGS $Rx=b$ berechnet und zurückgibt.**\n",
    "\n",
    "Testen Sie die Funktionalität Ihrer Prozedur, indem Sie sie auf die Daten\n",
    "$$ R = \\begin{pmatrix} 1 & 2 & 3 & 4 \\\\ 0 & 5 & 6 & 7 \\\\ 0 & 0 & 8 & 9 \\\\ 0 & 0 & 0 & 10 \\end{pmatrix}, \\qquad \n",
    "c = \\begin{pmatrix} 2 \\\\ -4 \\\\ 8 \\\\ 0 \\end{pmatrix}$$\n",
    "anwenden und anschließend überprüfen, ob das Produkt der Matrix $R$ mit dem Ergebnisvektor tatsächlich der rechten Seite $b$ entspricht."
   ]
  },
  {
   "cell_type": "code",
   "execution_count": null,
   "id": "795bb9c7-1676-4f4f-afa1-e6bf63475fd5",
   "metadata": {},
   "outputs": [],
   "source": []
  },
  {
   "cell_type": "code",
   "execution_count": null,
   "id": "b9083e5e-e3af-4fee-9dee-710552ed3ad8",
   "metadata": {},
   "outputs": [],
   "source": [
    "R = np.array( [[1,2,3,4],[0,5,6,7],[0,0,8,9],[0,0,0,10]] )\n",
    "c = np.array( [2,-4,8,0] )\n",
    "\n"
   ]
  },
  {
   "cell_type": "markdown",
   "id": "8423b7f1-8302-46d6-89fa-752cd18b6e82",
   "metadata": {},
   "source": [
    "### Teil 2: Gauß-Algorithmus"
   ]
  },
  {
   "cell_type": "markdown",
   "id": "46951db1-716e-4731-9830-961d5d46b2d1",
   "metadata": {},
   "source": [
    "Nun kümmern wir uns um das Überführen eines LGS $Ax=b$ in Dreiecksgestalt mit dem Gauß-Algorithmus. Dazu wird eine Spalte von $A$ nach der anderen behandelt. In jeder Spalte wiederrum werden dann sukzessive alle Einträge unterhalb der Diagonalen durch Zeilenoperationen zu null gemacht. Um die nötigen Zeilenoperationen nachzuvollziehen, betrachten wir folgendes Beispiel: Bei einer Matrix $A$ (mit angehängtem Vektor $b$) seien die Einträge unterhalb der Diagonalen in den ersten $j-1$-Spalten bereits eliminiert. In der $j$-ten Spalte seien zusätzlich bereits die Einträge in den Zeilen $j+1,...,i-1$ eliminiert. Das LGS hat also noch folgende Struktur:\n",
    "$$ \\left(\\begin{array}{ccccccc|c}\n",
    "        a_{1,1} & \\cdots & a_{1,j-1}   & a_{1,j} & a_{1,j+1} & \\cdots & a_{1,n} & b_1\\\\\n",
    "        0       & \\ddots & \\vdots      & \\vdots  & \\vdots    &        & \\vdots  & \\vdots \\\\\n",
    "        \\vdots  & \\ddots & a_{j-1,j-1} & \\vdots  & \\vdots    &        & \\vdots  &        \\\\[1ex]\n",
    "                &        & 0           & a_{j,j} & a_{j,j+1} & \\cdots & a_{j,n} & b_j    \\\\ \n",
    "                &        & \\vdots      & 0       & \\vdots    &        & \\vdots  & \\vdots \\\\\n",
    "        \\vdots  &        &             & \\vdots  &           &        &         &        \\\\\n",
    "                &        & \\vdots      & 0       & \\vdots    &        & \\vdots  & \\vdots \\\\\n",
    "                &        &             & a_{i,j} & a_{i,j+1} & \\cdots & a_{i,n} & b_i    \\\\\n",
    "        \\vdots  &        & \\vdots      & \\vdots  & \\vdots    &        & \\vdots  & \\vdots \\\\\n",
    "        0       & \\cdots & 0           & a_{n,j} & a_{n,j+1} & \\cdots & a_{n,n} & b_n\n",
    "\\end{array}\\right)$$"
   ]
  },
  {
   "cell_type": "markdown",
   "id": "38fc94a9-432e-41d4-a127-9359557a52dc",
   "metadata": {},
   "source": [
    "Um nun den Eintrag $a_{i,j}$ mittels Zeileneliminationen zu elimnieren, muss das $\\dfrac{a_{i,j}}{a_{j,j}}$-fache der $j$-ten Zeile der Matrix von der die $i$-ten Zeile subtrahiert werden. Dementsprechend muss auch das $\\dfrac{a_{i,j}}{a_{j,j}}$-fache des $j$-ten Eintrags von $b$ von dem $i$-ten Eintrag abgezogen werden, damit die Lösung des LGS unverändert bleibt. \n",
    "\n",
    "Dieses Vorgehen wird für jeden Eintrag unterhalb der Diagonalen in der $j$-ten Spalte wiederholt, also für $i=j+1,\\ldots,n$."
   ]
  },
  {
   "cell_type": "markdown",
   "id": "a199200d-59da-4599-8e73-c6237b14c773",
   "metadata": {},
   "source": [
    "**(b) Schreiben Sie eine Prozedur `gauss(A,b)`, die das LGS zu einer invertierbaren Matrix $A$ und einer rechten Seite $b$ durch oben beschriebenes Vorgehen in Dreiecksgestalt bringt. In der Prozedur können Sie dabei in jedem Schritt die Einträge der Matrix $A$ und des Vektors $b$ überschreiben und müssen keine neue Matrizen oder Vektoren definieren. Am Ende soll die resultierende Dreiecksmatrix sowie die dazu passende rechte Seite zurückgegeben werden.**"
   ]
  },
  {
   "cell_type": "code",
   "execution_count": null,
   "id": "d983bf54-ed5e-495c-bfb3-2bebd59038bc",
   "metadata": {},
   "outputs": [],
   "source": [
    "\n",
    "    "
   ]
  },
  {
   "cell_type": "markdown",
   "id": "e73b9c46-c66e-4411-adc4-403ca680ed0d",
   "metadata": {},
   "source": [
    "Testen Sie Ihre Prozedur mit den unten angegebenen Daten. Als Ergebnis sollten Sie gerade die Matrix $R$ sowie den Vektor $c$ aus Teil (a) erhalten. Beachten Sie, dass die Erstellung einer Kopie von $A$ und $b$ nötig ist, weil bei Veränderung von Matrizen und Vektoren innerhalb einer Prozedur auch die originalen Daten außerhalb der Prozedur verändert werden. Mit dem `copy()` Befehl hingegen wird eine unabhänige Kopie der Daten erstellt."
   ]
  },
  {
   "cell_type": "code",
   "execution_count": null,
   "id": "be19696b-24fb-4346-976c-e9399f5c5d04",
   "metadata": {},
   "outputs": [],
   "source": [
    "A = np.array( [[1,2,3,4],[0,5,6,7],[-2,1,8,8],[1,2,-5,5]], dtype='float64' )\n",
    "b = np.array([2,-4,0,-6], dtype='float64' )\n",
    "A_new = A.copy()\n",
    "b_new = b.copy()\n",
    "A_new,b_new = gauss(A_new,b_new)\n",
    "print('Dreiecksmatrix A:')\n",
    "print(A_new)\n",
    "print('Zugehöriger Vektor b:')\n",
    "print(b_new)"
   ]
  },
  {
   "cell_type": "markdown",
   "id": "d3b91a8f-8a59-4d8e-9185-77852b2e72c5",
   "metadata": {},
   "source": [
    "**Hinweis:** _Bei der Matrix $A$ und dem Vektor $b$ wurde explizit der Datentyp `float64` (64 Bit Gleitkommazahlen) angegeben, obwohl beide eigentlich nur ganze Zahlen (Integer) als Einträge enthalten. Im Rahmen der Zeilenoperationen jedoch werden die Einträge von $A$ und $b$ verändert, wobei auch nicht-ganzahlige Werte auftreten können. Wäre die Matrix $A$ eine Integer-Matrix, dann würden Änderungen der Einträge auf Gleitkommazahlen lediglich den vor dem Komma abgeschnitten Wert übernehmen._\n",
    "\n",
    "_Wenn **einer** der Einträge von $A$ nicht-ganzzahlig wäre, dann würde Python für die Matrix automatisch Gleitkommazahlen als Datentyp für **alle** Einträge auswählen, sodass die explizite Angabe des Datentyps nicht mehr nötig wäre. Je nach System kämen jedoch 32- oder 64-Bit-Gleitkommazahlen zur Anwendung._\n",
    "\n",
    "_Falls doch alle Einträge $A$ ganzzahlig sind, kann man den Datentyp der Matrix alternativ auch zu Gleitkommazahlen machen, indem man z.B. die Zahl $1$ nicht als `1` in die Matrix einträgt, sondern als `1.0`:_"
   ]
  },
  {
   "cell_type": "code",
   "execution_count": null,
   "id": "2e1be0b1-9f1a-4f83-90fb-717e9cfcf9c4",
   "metadata": {},
   "outputs": [],
   "source": [
    "A = np.array( [[1,2],[3,4]] )\n",
    "print(type(A[1,0]))"
   ]
  },
  {
   "cell_type": "code",
   "execution_count": null,
   "id": "391d5e03-5dd7-4af9-a16a-24e1ea432e5c",
   "metadata": {},
   "outputs": [],
   "source": [
    "A = np.array( [[1.0,2],[3,4]] )\n",
    "print(type(A[1,0]))"
   ]
  },
  {
   "cell_type": "markdown",
   "id": "0118dbe1-b7a6-4d9b-9240-28616b59f6e9",
   "metadata": {},
   "source": [
    "## Teil 3: Lösen linearer Gleichungssysteme"
   ]
  },
  {
   "cell_type": "markdown",
   "id": "08c65a5a-e076-4d10-976e-6ff061f2e13e",
   "metadata": {},
   "source": [
    "**(c) Bestimmen Sie mit den Prozeduren aus den Teilen (a) und (b) den Lösungsvektor $x$ des LGS $Ax=b$ zu den unten angegebenen Daten und überprüfen Sie durch Vergleich des Produktes $Ax$ mit dem Vektor $b$, dass der Vektor $x$ das gegebene LGS tatsächlich löst.**\n",
    "\n",
    "**Hinweis:** *Nutzen Sie wieder den `copy()` Befehl wo nötig.*\n"
   ]
  },
  {
   "cell_type": "code",
   "execution_count": null,
   "id": "703a54f3-d3c7-4d03-84ca-5fb9104248f4",
   "metadata": {
    "scrolled": true
   },
   "outputs": [],
   "source": [
    "A = np.array( [[1,2,3,4],[4,3,2,1],[-1,1,-1,1],[-1,1,1,-1]], dtype='float64' )\n",
    "b = np.array( [5,0,-1,7], dtype='float64' )\n",
    "\n"
   ]
  },
  {
   "cell_type": "markdown",
   "id": "cecdf54f-e6fe-43ce-a09a-46f73858e1d0",
   "metadata": {},
   "source": [
    "**(d) Können Sie mit ihren Prozeduren auch die LGS\n",
    "$$ \\begin{pmatrix} 0 & 1 & 1 \\\\ 1 & -1 & 1 \\\\ 1 & 1 & 1 \\end{pmatrix} x =  \\begin{pmatrix} 1 \\\\ 2 \\\\ 3 \\end{pmatrix}, \\qquad\n",
    "   \\begin{pmatrix} 0 & 1 & 1 \\\\ 0 & -1 & 1 \\\\ 1 & 1 & 1 \\end{pmatrix} x =  \\begin{pmatrix} 1 \\\\ 2 \\\\ 3 \\end{pmatrix},\n",
    "   \\qquad \\text{und} \\qquad\n",
    "   \\begin{pmatrix} 1 & 1 & 0 & 0 \\\\ 1 & 1 & 1 & 0 \\\\ 1 & 1 & 0 & 1 \\\\ 1 & 2 & 0 & 0 \\end{pmatrix} x =  \\begin{pmatrix} 1 \\\\ 2 \\\\ 3 \\\\ 4 \\end{pmatrix}\n",
    "   $$\n",
    "lösen? Falls nein: Warum nicht? Alle drei Matrizen sind invertierbar, die LGS somit eindeutig lösbar. Passen Sie Ihre Prozeduren so an, dass auch diese LGS gelöst werden können.**\n",
    "\n",
    "**Hinweis:** *Je nach Implementierung kann wieder der `copy()` Befehl nötig sein.*"
   ]
  },
  {
   "cell_type": "code",
   "execution_count": null,
   "id": "4872e9c2-5382-4b66-873b-5be5e6d24831",
   "metadata": {},
   "outputs": [],
   "source": [
    "A = np.array( [[0,1,1],[1,-1,1],[1,1,1]], dtype='float64' )\n",
    "b = np.array( [1,2,3], dtype='float64' )"
   ]
  },
  {
   "cell_type": "code",
   "execution_count": null,
   "id": "3e4f4974-923a-421f-b49d-c3c2f4f2fac3",
   "metadata": {},
   "outputs": [],
   "source": [
    "A = np.array( [[0,1,1],[0,-1,1],[1,1,1]], dtype='float64' )\n",
    "b = np.array( [1,2,3], dtype='float64' )"
   ]
  },
  {
   "cell_type": "code",
   "execution_count": null,
   "id": "a3f4c97b-4ae0-4868-af9a-3c12edaa4101",
   "metadata": {},
   "outputs": [],
   "source": [
    "A = np.array( [[1,1,0,0],[1,1,1,0],[1,1,0,1],[1,2,0,0]] , dtype='float64' )\n",
    "b = np.array( [1,2,3,4] , dtype='float64' )"
   ]
  },
  {
   "cell_type": "code",
   "execution_count": null,
   "id": "c4c0002c-6e0a-4c49-bc39-47c6e8a69cfc",
   "metadata": {},
   "outputs": [],
   "source": []
  },
  {
   "cell_type": "code",
   "execution_count": null,
   "id": "304744ee-113f-42e7-a3c1-95fcbc52b2df",
   "metadata": {},
   "outputs": [],
   "source": []
  }
 ],
 "metadata": {
  "kernelspec": {
   "display_name": "Python 3 (ipykernel)",
   "language": "python",
   "name": "python3"
  },
  "language_info": {
   "codemirror_mode": {
    "name": "ipython",
    "version": 3
   },
   "file_extension": ".py",
   "mimetype": "text/x-python",
   "name": "python",
   "nbconvert_exporter": "python",
   "pygments_lexer": "ipython3",
   "version": "3.12.7"
  }
 },
 "nbformat": 4,
 "nbformat_minor": 5
}
