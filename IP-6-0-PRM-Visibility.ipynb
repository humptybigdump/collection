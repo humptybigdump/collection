{
 "cells": [
  {
   "cell_type": "markdown",
   "metadata": {
    "tags": []
   },
   "source": [
    "PRM - planning methods\n",
    "======================\n",
    "\n",
    "This code is part of the course \"Introduction to robot path planning\" (Author: Bjoern Hein).\n",
    "\n",
    "\n",
    "License is based on Creative Commons: Attribution-NonCommercial 4.0 International (CC BY-NC 4.0) (pls. check: http://creativecommons.org/licenses/by-nc/4.0/)\n",
    "\n",
    "**Attention**: This worksheet has external dependencies \n",
    "\n",
    "* to the files \"InnoKonz2dEnv.py\" or \"InnoKonzShapelyEnv.py\". These files contain simple 2D environments based on numpy arrays or the shapely library with an interface for the use as collision checking in the algorithms.\n",
    "* to the file \"PlanerBasics.py\", which contains the BaseClass for all planning algorithms \n",
    "\n",
    "Important links are:\n",
    "\n",
    "    General Info: http://www.python.org\n",
    "    Python tutorial http://www.python.org/doc/tut/\n",
    "    NetworkX http://networkx.github.io/\n",
    "    NumPy and SciPy Guide http://docs.scipy.org/\n",
    "    Matplotlib gallery http://matplotlib.sourceforge.net/gallery.html\n",
    "    \n",
    "\n",
    "Remember that:\n",
    "\n",
    "    you have to press ctrl-return or shift-return, to execute the code in the code sections, only then the variables are \"generated\" and can be used\n",
    "    you can execute the whole notebook by Cell->runAll\n",
    "\n",
    "\n",
    "\n"
   ]
  },
  {
   "cell_type": "markdown",
   "metadata": {},
   "source": [
    "Import modules\n",
    "--------------\n",
    "\n",
    "following modules will be needed to run this notebook:"
   ]
  },
  {
   "cell_type": "code",
   "execution_count": null,
   "metadata": {
    "collapsed": false,
    "jupyter": {
     "outputs_hidden": false
    }
   },
   "outputs": [],
   "source": [
    "import sys\n",
    "sys.path.append(\"templates\")\n",
    "%load_ext autoreload\n",
    "%autoreload 2\n",
    "from IPPerfMonitor import IPPerfMonitor\n",
    "\n",
    "\n",
    "import networkx as nx\n",
    "import rand \n",
    "from scipy.spatial import cKDTree\n",
    "\n",
    "#reload modules if changed externally e.g. InnoKonz2DEnv.\n",
    "%load_ext autoreload \n",
    "%autoreload 2\n",
    "%matplotlib inline\n"
   ]
  },
  {
   "cell_type": "markdown",
   "metadata": {},
   "source": [
    "Visibility Roadmap\n",
    "==================\n",
    "\n",
    "*Slightly modified* as described in the slides. See comments in code"
   ]
  },
  {
   "cell_type": "code",
   "execution_count": null,
   "metadata": {
    "collapsed": false,
    "jupyter": {
     "outputs_hidden": false
    }
   },
   "outputs": [],
   "source": [
    "import IPPRMBase\n",
    "\n",
    "class VisibilityStatsHandler():\n",
    "    \n",
    "    def __init__(self):\n",
    "        self.graph = nx.Graph()\n",
    "        \n",
    "    def addNodeAtPos(self,nodeNumber,pos):\n",
    "        self.graph.add_node(nodeNumber, pos=pos, color='yellow')\n",
    "        return\n",
    "    \n",
    "    def addVisTest(self,fr,to):\n",
    "        self.graph.add_edge(fr, to)\n",
    "        return\n",
    "        \n",
    "class VisPRM(IPPRMBase.PRMBase):\n",
    "    \"\"\"Class implements an simplified version of a visibility PRM\"\"\"\n",
    "\n",
    "    def __init__(self, _collChecker, _statsHandler = None):\n",
    "        super(VisPRM, self).__init__(_collChecker)\n",
    "        self.graph = nx.Graph()\n",
    "        self.statsHandler = VisibilityStatsHandler()\n",
    "                \n",
    "    def _isVisible(self, pos, guardPos):\n",
    "        return not self._collisionChecker.lineInCollision(pos, guardPos)\n",
    "\n",
    "    def _learnRoadmap(self, ntry):\n",
    "\n",
    "        nodeNumber = 0\n",
    "        currTry = 0\n",
    "        while currTry < ntry:\n",
    "            #print currTry\n",
    "            # select a random  free position\n",
    "            q_pos = self._getRandomFreePosition()\n",
    "            if self.statsHandler:\n",
    "                self.statsHandler.addNodeAtPos(nodeNumber, q_pos)\n",
    "           \n",
    "            g_vis = None\n",
    "        \n",
    "            # every connected component represents one guard\n",
    "            merged = False\n",
    "            for comp in nx.connected_components(self.graph): # Impliciteley represents G_vis\n",
    "                found = False\n",
    "                merged = False\n",
    "                for g in comp: # connected components consists of guards and connection: only test nodes of type 'Guards'\n",
    "                    if self.graph.nodes[g]['nodeType'] == 'Guard':\n",
    "                        if self.statsHandler:\n",
    "                            self.statsHandler.addVisTest(nodeNumber, g)\n",
    "                        if self._isVisible(q_pos,self.graph.nodes[g]['pos']):\n",
    "                            found = True\n",
    "                            if g_vis == None:\n",
    "                                g_vis = g\n",
    "                            else:\n",
    "                                self.graph.add_node(nodeNumber, pos = q_pos, color='lightblue', nodeType = 'Connection')\n",
    "                                self.graph.add_edge(nodeNumber, g)\n",
    "                                self.graph.add_edge(nodeNumber, g_vis)\n",
    "                                #print \"ADDED Connection node\", nodeNumber\n",
    "                                merged = True\n",
    "                        # break, if node was visible,because visibility from one node of the guard is sufficient...\n",
    "                        if found == True: break;\n",
    "                # break, if connection was found. Reason: computed connected components (comp) are not correct any more, \n",
    "                # they've changed because of merging\n",
    "                if merged == True: # how  does it change the behaviour? What has to be done to keep the original behaviour?\n",
    "                    break;                    \n",
    "\n",
    "            if (merged==False) and (g_vis == None):\n",
    "                self.graph.add_node(nodeNumber, pos = q_pos, color='red', nodeType = 'Guard')\n",
    "                #print \"ADDED Guard \", nodeNumber\n",
    "                currTry = 0\n",
    "            else:\n",
    "                currTry += 1\n",
    "\n",
    "            nodeNumber += 1\n",
    "\n",
    "    def planPath(self, startList, goalList, config):\n",
    "        \"\"\"\n",
    "        \n",
    "        Args:\n",
    "            start (array): start position in planning space\n",
    "            goal (array) : goal position in planning space\n",
    "            config (dict): dictionary with the needed information about the configuration options\n",
    "            \n",
    "        Example:\n",
    "        \n",
    "            config[\"ntry\"] = 40 \n",
    "        \n",
    "        \"\"\"\n",
    "        # 0. reset\n",
    "        self.graph.clear()\n",
    "        \n",
    "        # 1. check start and goal whether collision free (s. BaseClass)\n",
    "        checkedStartList, checkedGoalList = self._checkStartGoal(startList,goalList)\n",
    "        \n",
    "        # 2. learn Roadmap\n",
    "        self._learnRoadmap(config[\"ntry\"])\n",
    "\n",
    "        # 3. find connection of start and goal to roadmap\n",
    "        # find nearest, collision-free connection between node on graph and start\n",
    "        posList = nx.get_node_attributes(self.graph,'pos')\n",
    "        kdTree = cKDTree(list(posList.values()))\n",
    "        \n",
    "        result = kdTree.query(checkedStartList[0],k=5)\n",
    "        for node in result[1]:\n",
    "            if not self._collisionChecker.lineInCollision(checkedStartList[0],self.graph.nodes[list(posList.keys())[node]]['pos']):\n",
    "                 self.graph.add_node(\"start\", pos=checkedStartList[0], color='lightgreen')\n",
    "                 self.graph.add_edge(\"start\", list(posList.keys())[node])\n",
    "                 break\n",
    "\n",
    "        result = kdTree.query(checkedGoalList[0],k=5)\n",
    "        for node in result[1]:\n",
    "            if not self._collisionChecker.lineInCollision(checkedGoalList[0],self.graph.nodes[list(posList.keys())[node]]['pos']):\n",
    "                 self.graph.add_node(\"goal\", pos=checkedGoalList[0], color='lightgreen')\n",
    "                 self.graph.add_edge(\"goal\", list(posList.keys())[node])\n",
    "                 break\n",
    "\n",
    "        try:\n",
    "            path = nx.shortest_path(self.graph,\"start\",\"goal\")\n",
    "        except:\n",
    "            return []\n",
    "        return path\n"
   ]
  },
  {
   "cell_type": "markdown",
   "metadata": {},
   "source": [
    "Tests\n",
    "----"
   ]
  },
  {
   "cell_type": "code",
   "execution_count": null,
   "metadata": {
    "tags": []
   },
   "outputs": [],
   "source": [
    "def visibilityPRMVisualize(planner, solution, ax = None, nodeSize = 300):\n",
    "    # get a list of positions of all nodes by returning the content of the attribute 'pos'\n",
    "    graph = planner.graph\n",
    "    statsHandler = planner.statsHandler\n",
    "    collChecker = planner._collisionChecker\n",
    "    pos = nx.get_node_attributes(graph,'pos')\n",
    "    color = nx.get_node_attributes(graph,'color')\n",
    "    \n",
    "    if statsHandler:\n",
    "        statPos = nx.get_node_attributes(statsHandler.graph,'pos')\n",
    "        nx.draw(statsHandler.graph, pos=statPos, alpha=0.2,edge_color='y',node_size=nodeSize)\n",
    "        \n",
    "    # draw graph (nodes colorized by degree)\n",
    "    nx.draw(graph, pos = pos, nodelist=list(color.keys()), with_labels=True, node_color = list(color.values())) \n",
    "    nx.draw_networkx_edges(graph,pos,\n",
    "                               edge_color='b',\n",
    "                               width=3.0\n",
    "                            )\n",
    "   \n",
    "    collChecker.drawObstacles(ax)\n",
    "    # get nodes based on solution path\n",
    "    Gsp = nx.subgraph(graph,solution)\n",
    "\n",
    "    # draw edges based on solution path\n",
    "    nx.draw_networkx_edges(Gsp,pos,alpha=0.8,edge_color='g',width=10, label=\"Solution Path\")\n",
    "        \n",
    "    # draw start and goal\n",
    "    # draw start and goal\n",
    "    if \"start\" in graph.nodes(): \n",
    "        nx.draw_networkx_nodes(graph,pos,nodelist=[\"start\"],\n",
    "                                   node_size=nodeSize,\n",
    "                                   node_color='#00dd00',  ax = ax)\n",
    "    if \"goal\" in graph.nodes():\n",
    "        nx.draw_networkx_nodes(graph,pos,nodelist=[\"goal\"],\n",
    "                                   node_size=nodeSize,\n",
    "                                   node_color='#00dd00',  ax = ax)\n"
   ]
  },
  {
   "cell_type": "code",
   "execution_count": null,
   "metadata": {},
   "outputs": [],
   "source": [
    "import matplotlib.pylab as plt \n",
    "from shapely.geometry import Point, Polygon, LineString\n",
    "from IPEnvironment import CollisionChecker\n",
    "from IPVISBasicPRM import basicPRMVisualize"
   ]
  },
  {
   "cell_type": "code",
   "execution_count": null,
   "metadata": {},
   "outputs": [],
   "source": [
    "import IPTestSuite"
   ]
  },
  {
   "cell_type": "code",
   "execution_count": null,
   "metadata": {},
   "outputs": [],
   "source": [
    "benchList = IPTestSuite.benchList"
   ]
  },
  {
   "cell_type": "code",
   "execution_count": null,
   "metadata": {},
   "outputs": [],
   "source": [
    "\n",
    "visConfig = dict()\n",
    "visConfig[\"ntry\"] = 40\n",
    "\n",
    "for bench in benchList:\n",
    "    try:\n",
    "        fig_local = plt.figure(figsize=(10,10))\n",
    "        ax = fig_local.add_subplot(1,1,1)\n",
    "        statsHandler = VisibilityStatsHandler()\n",
    "        vis = VisPRM(bench.collisionChecker, statsHandler)\n",
    "        solution = vis.planPath(bench.startList, bench.goalList, visConfig)\n",
    "        title = bench.name\n",
    "        if solution == []:\n",
    "            title += \" (No path found!)\"\n",
    "        title += \"\\n Assumed complexity level \" + str(bench.level)\n",
    "        ax.set_title(title)\n",
    "        visibilityPRMVisualize(vis, solution, ax=ax, nodeSize=50)\n",
    "    except Exception as e:\n",
    "        print(\"ERROR: \",bench.name, e)"
   ]
  },
  {
   "cell_type": "markdown",
   "metadata": {},
   "source": [
    "Tasks / Excercises\n",
    "==================\n",
    "\n",
    "* Play with number of iterations (VisPRM(50,collChecker,statsHandler), VisPRM(300,collChecker,statsHandler))\n",
    "* Test different environments (simpleField, trapField, fatBottleNeckField, bottleNeckField, clutteredField)\n",
    "* Think of how to extend the collision checker (InnoKonz2dEnv.py or InnoKonzShapelyEnv.py) to gain more insights, e.g. how many collision tests where made, line tests were made, etc..."
   ]
  }
 ],
 "metadata": {
  "kernelspec": {
   "display_name": "Python 3 (ipykernel)",
   "language": "python",
   "name": "python3"
  },
  "language_info": {
   "codemirror_mode": {
    "name": "ipython",
    "version": 3
   },
   "file_extension": ".py",
   "mimetype": "text/x-python",
   "name": "python",
   "nbconvert_exporter": "python",
   "pygments_lexer": "ipython3",
   "version": "3.9.17"
  }
 },
 "nbformat": 4,
 "nbformat_minor": 4
}
