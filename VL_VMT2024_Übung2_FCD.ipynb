{
  "cells": [
    {
      "cell_type": "markdown",
      "metadata": {
        "id": "nMGD4hrv66LU"
      },
      "source": [
        "# Hausarbeit - Analyse von FCD"
      ]
    },
    {
      "cell_type": "markdown",
      "metadata": {
        "id": "_v2jo5vu18rW"
      },
      "source": [
        "\n",
        "Die Hausarbeit ist freiwillig, aber durch die Bearbeitung lernen Sie viel zur Datenauswertung und Analyse von FCD. Eine Abgabe ist bis 07.06.2024 möglich (an josephine.grau@kit.edu). Sie erhalten dann eine Rückmeldung/Korrektur.\n",
        "Bei der Bearbeitung können Sie sich von der Übung zur Auswertung stationärer Messdaten inspirieren lassen."
      ]
    },
    {
      "cell_type": "markdown",
      "metadata": {
        "id": "CkmQqN1iMIOX"
      },
      "source": [
        "### Daten\n",
        "Im Folgenden sollen Floating Car Data (FCD) von Karlsruhe vom 28.09.2021 (Datei ka-28-09.csv) genauer analysiert werden.\n",
        "Laden Sie die Daten auf Google Colab hoch (alternativ speichern Sie diese an einem passenden lokalen Speicherort). Achtung: die Datei ist sehr groß, das kann eine Weile dauern. Importieren Sie die Bibliotheken pandas und plotly.express.\n",
        "Erstellen Sie ein pandas Dataframe und filtern Sie nach benötigten Spalten."
      ]
    },
    {
      "cell_type": "code",
      "execution_count": null,
      "metadata": {
        "id": "TT8N90lJ4Zxa"
      },
      "outputs": [],
      "source": [
        "# Daten Upload in google colab\n",
        "from google.colab import files\n",
        "uploaded = files.upload()"
      ]
    },
    {
      "cell_type": "code",
      "execution_count": null,
      "metadata": {
        "id": "-rTGioIM18rY"
      },
      "outputs": [],
      "source": [
        "# Import und Datenaufbereitung\n",
        "import # IHR CODE\n",
        "\n",
        "df = # IHR CODE"
      ]
    },
    {
      "cell_type": "markdown",
      "metadata": {
        "id": "YFvtKuDv2D_n"
      },
      "source": [
        "### Filterung\n",
        "Filtern Sie aus den Daten eine Region und einen Zeitraum. Sie können für die Filterung eines einfachen Rechtecks die Koordinatenangaben nutzen. Für den Zeitraum nutzen Sie die Zeitstempel, die Sie in das pandas-Format \"datetime\" umwandeln. Zur zeitlichen Filterung eignet sich die Funktion [pd.between_time](https://pandas.pydata.org/docs/reference/api/pandas.DataFrame.between_time.html). Dafür kann die Zeitangabe vorübergehend als Index gesetzt werden (pd.set_index, anschließend wieder pd.reset_index)."
      ]
    },
    {
      "cell_type": "code",
      "execution_count": null,
      "metadata": {
        "id": "BkAyZhnk18rZ"
      },
      "outputs": [],
      "source": [
        "# Filterung einer Region\n",
        "# IHR CODE\n",
        "\n",
        "# Filterung eines Zeitraums\n",
        "# IHR CODE"
      ]
    },
    {
      "cell_type": "markdown",
      "metadata": {
        "id": "ZJAbPV8A7LUi"
      },
      "source": [
        "### Visualisierung\n",
        "Visualisieren Sie die Daten (z.B. durch Plotten der Koordinaten, Einfärben der Geschwindigkeiten, Einfärben der IDs, ...). Dafür eignet sich die Funktion [scatter_mapbox](https://plotly.com/python/scattermapbox/) von plotly.express. Verwenden Sie als Hintergrundkarte Open-Street-Map (mapbox_style = \"open-street-map\"). [Hier](https://plotly.github.io/plotly.py-docs/generated/plotly.express.scatter_mapbox.html) findet man die Dokumentation mit allen Parametern für diese Funktion.\n"
      ]
    },
    {
      "cell_type": "code",
      "execution_count": null,
      "metadata": {
        "id": "1ieuUSOF18rb"
      },
      "outputs": [],
      "source": [
        "import # IHR CODE\n",
        "\n",
        "fig = px.scatter_mapbox(\n",
        "        df,\n",
        "        # IHR CODE\n",
        "        mapbox_style=\"open-street-map\",\n",
        "    )\n",
        "fig.show()"
      ]
    },
    {
      "cell_type": "markdown",
      "metadata": {
        "id": "9O0phCvEOw_b"
      },
      "source": [
        "Beschreiben Sie kurz, was Sie in Ihrer Visualisierung darstellen und daraus erkennen können (und was nicht): <IHR TEXT>"
      ]
    },
    {
      "cell_type": "markdown",
      "metadata": {
        "id": "0xy5kL407ZmY"
      },
      "source": [
        "### Analyse\n",
        "Untersuchen Sie den (gefilterten) Datensatz: Wie viele Datenpunkte liegen insgesamt und pro Stunde vor? Ermitteln und plotten Sie die Geschwindigkeitsverteilung.\n"
      ]
    },
    {
      "cell_type": "code",
      "execution_count": null,
      "metadata": {
        "id": "skWgGD8EQfRk"
      },
      "outputs": [],
      "source": [
        "# Anzahl Datenpunkte insgesamt\n",
        "# IHR CODE\n",
        "\n",
        "# Anzahl Datenpunkte pro Stunde\n",
        "# IHR CODE"
      ]
    },
    {
      "cell_type": "code",
      "execution_count": null,
      "metadata": {
        "id": "BGVlTXi-18rb"
      },
      "outputs": [],
      "source": [
        "# Geschwindigkeitsverteilung\n",
        "# IHR CODE"
      ]
    },
    {
      "cell_type": "markdown",
      "metadata": {
        "id": "wbAVL67m92e_"
      },
      "source": [
        "Ermitteln und plotten Sie die Verteilung der Sendeintervalle. Sie können dabei wie folgt vorgehen:\n",
        "\n",
        "1.   Sortieren Sie den DataFrame nach Fahrzeug ID und Zeit. Nützliche Funktion: [df.sort_values](https://pandas.pydata.org/docs/reference/api/pandas.DataFrame.sort_values.html)\n",
        "2.   Verschieben Sie die Zeitsplate um eine Zeile und berechnen Sie die Zeitdifferenz (=Sendeintervall). Achten Sie auf eine richtige Verwendung des DateTime-Formats. Eine sinnvolle Einheit für das Sendeintervall sind Sekunden. Nützliche Funktion: [df.shift](https://pandas.pydata.org/pandas-docs/stable/reference/api/pandas.DataFrame.shift.html)\n",
        "3.   Überprüfen Sie, dass keine Sendeintervalle zwischen verschiedenen Fahrzeug-IDs berechnet werden. Dazu verschieben Sie die Spalte mit der Fahrzeug ID und prüfen ob die Fahrzeug ID mit der verschobenen Fahrzeug ID übereinstimmt (dann kann ein Sendeintervall bestimmt werden, sonst nicht).\n",
        "4.   Filtern Sie sehr hohe Sendeintervalle (Fahrtpausen) mithilfe eines sinnvollen Quantils.\n",
        "5.   Plotten Sie ein Histogramm der Sendeintervalle."
      ]
    },
    {
      "cell_type": "code",
      "execution_count": null,
      "metadata": {
        "id": "vXNssPCRZfUB"
      },
      "outputs": [],
      "source": [
        "# Verteilung der Sendeintervalle\n",
        "\n",
        "# Sortieren nach FzID und Zeit\n",
        "# IHR CODE\n",
        "\n",
        "# shiften der Uhrzeit und Berechnung des Sendeintervalls\n",
        "# IHR CODE\n",
        "\n",
        "# shiften der FzIDs, um keine Sendeintervalle zwischen verschiedenen FzIds zu berechnen\n",
        "# IHR CODE\n",
        "\n",
        "# Filtern von sehr hohen Sendefrequenzen (Fahrtpausen)\n",
        "# IHR CODE\n",
        "\n",
        "# Histogramm\n",
        "# IHR CODE"
      ]
    },
    {
      "cell_type": "markdown",
      "metadata": {
        "id": "OWQSHbnyQH6H"
      },
      "source": [
        "Fassen Sie die Ergebnisse Ihrer Analyse kurz zusammen:\n",
        "<IHR TEXT>"
      ]
    },
    {
      "cell_type": "markdown",
      "metadata": {
        "id": "AUmkvzTv7tOB"
      },
      "source": [
        "### Reisezeitberechnung\n",
        "Führen Sie eine \"virtuelle\" Reisezeitberechnung der Kriegsstraße durch. Stellen Sie dafür sicher, dass NICHT der gefilterte DataFrame sondern alle Daten genutzt werden (evtl. DataFrame nochmal erstellen).\n",
        "Der Code für die virtuelle Reisezeitberechnung ist bereits vollständig vorhanden. Fügen Sie fehlende Kommentare ein, um den Code zu erklären. Nutzen Sie die Dokumentation von *pandas*, wenn Funktionen verwendet werden, die Sie nicht kennen."
      ]
    },
    {
      "cell_type": "code",
      "execution_count": null,
      "metadata": {
        "id": "K0cTku5Z18rc"
      },
      "outputs": [],
      "source": [
        "import plotly.graph_objects as go\n",
        "\n",
        "def anpr_filter(\n",
        "    df: pd.DataFrame,\n",
        "    coord_start: tuple,\n",
        "    coord_end: tuple,\n",
        "    fang_x: float = 0.001, # Fangradius um x-Koordinate\n",
        "    fang_y: float = 0.001  # Fangradius um y-Koordinate\n",
        "):\n",
        "    \"\"\"Filtert Fahrzeuge die die gesamte Strecke von 'coord_start' nach 'coord_end' fahren und berechnet Reisezeiten.\n",
        "    Vergleichbar mit einer ANPR-Messung.\n",
        "    \"\"\"\n",
        "    x_start, y_start = coord_start\n",
        "    x_end, y_end = coord_end\n",
        "\n",
        "    # KOMMENTAR EINFÜGEN\n",
        "    df_start = df[(abs(df.Längengrad - x_start) < fang_x) & (abs(df.Breitengrad - y_start) < fang_y)].copy()\n",
        "    df_end = df[(abs(df.Längengrad - x_end) < fang_x) & (abs(df.Breitengrad - y_end) < fang_y)].copy()\n",
        "\n",
        "    # KOMMENTAR EINFÜGEN\n",
        "    df_start[\"Zeit_start\"] = pd.to_datetime(df_start[\"Zeit\"])\n",
        "    df_end[\"Zeit_end\"] = pd.to_datetime(df_end[\"Zeit\"])\n",
        "\n",
        "    # KOMMENTAR EINFÜGEN\n",
        "    df_anpr = df_start.merge(df_end, on=\"FzID\", how=\"inner\")\n",
        "\n",
        "    # KOMMENTAR EINFÜGEN\n",
        "    df_anpr_fr1 = df_anpr[(df_anpr.Zeit_end > df_anpr.Zeit_start)].copy()\n",
        "    df_anpr_fr1[\"Fahrtrichtung\"] = 1\n",
        "\n",
        "    # KOMMENTAR EINFÜGEN\n",
        "    df_anpr_fr1[\"dt\"] = ((df_anpr_fr1.Zeit_end - df_anpr_fr1.Zeit_start).abs().dt.total_seconds())\n",
        "\n",
        "    # KOMMENTAR EINFÜGEN\n",
        "    df_anpr_fr1 = df_anpr_fr1.sort_values(by=\"dt\").drop_duplicates(subset=\"FzID\")\n",
        "\n",
        "    # KOMMENTAR EINFÜGEN\n",
        "    df_anpr_fr2 = df_anpr[(df_anpr.Zeit_end < df_anpr.Zeit_start)].copy()\n",
        "    df_anpr_fr2[\"Fahrtrichtung\"] = 2\n",
        "\n",
        "    df_anpr_fr2[\"dt\"] = ((df_anpr_fr2.Zeit_end - df_anpr_fr2.Zeit_start).abs().dt.total_seconds())\n",
        "    df_anpr_fr2 = df_anpr_fr2.sort_values(by=\"dt\").drop_duplicates(subset=\"FzID\")\n",
        "\n",
        "    # KOMMENTAR EINFÜGEN\n",
        "    df_anpr_merged = pd.concat([df_anpr_fr1, df_anpr_fr2])\n",
        "    return df_anpr_merged\n",
        "\n",
        "\n",
        "def plot_travel_times(\n",
        "    df_anpr: pd.DataFrame,\n",
        "    title: str = \"\",\n",
        "    remove_outliers: bool = False,\n",
        "):\n",
        "    # KOMMENTAR EINFÜGEN\n",
        "    if remove_outliers:\n",
        "        df_anpr = df_anpr[df_anpr.dt < df_anpr.dt.quantile(0.95)]\n",
        "\n",
        "    # Layout für Plot\n",
        "    layout = go.Layout(\n",
        "        width=1000,\n",
        "        height=600,\n",
        "        title= title,\n",
        "        yaxis_title=\"Reisezeit [Sekunden]\",\n",
        "        yaxis_range=[0, 1000],\n",
        "    )\n",
        "    # Plot\n",
        "    fig = go.Figure(\n",
        "        data=go.Scatter(\n",
        "            x=df_anpr.Zeit_start,\n",
        "            y=df_anpr.dt,\n",
        "            mode=\"markers\"\n",
        "        ),\n",
        "        layout=layout,\n",
        "    )\n",
        "\n",
        "    fig.show()\n",
        "\n",
        "\n",
        "# Koordinaten eines Abschnitts der Kriegsstraße\n",
        "coord_start = (8.364803, 49.00543)\n",
        "coord_end = (8.410254, 49.00596)\n",
        "\n",
        "# Berechnung der Reisezeiten\n",
        "df_anpr = anpr_filter(df, coord_start, coord_end)\n",
        "\n",
        "# Plotten der Reisezeit für Fahrtrichtung 1\n",
        "plot_travel_times(\n",
        "    df_anpr[df_anpr['Fahrtrichtung'] == 1],\n",
        "    title = \"Reisezeiten Fahrtrichtung 1\",\n",
        "    remove_outliers = True,\n",
        ")"
      ]
    },
    {
      "cell_type": "markdown",
      "metadata": {
        "id": "B8oZ0mjqmziS"
      },
      "source": [
        "Wie unterscheidet sich diese \"Reisezeitmessung\" zu einer Reisezeitmessung mit ANPR? Was sind potenzielle Probleme bei dieser Art von Reisezeitbestimmung? Wie könnte man diese Probleme zumindest reduzieren?"
      ]
    }
  ],
  "metadata": {
    "colab": {
      "provenance": [],
      "toc_visible": true
    },
    "interpreter": {
      "hash": "ac59ebe37160ed0dfa835113d9b8498d9f09ceb179beaac4002f036b9467c963"
    },
    "kernelspec": {
      "display_name": "Python 3 (system-wide)",
      "language": "python",
      "metadata": {
        "cocalc": {
          "description": "Python 3 programming language",
          "priority": 100,
          "url": "https://www.python.org/"
        }
      },
      "name": "python3",
      "resource_dir": "/ext/jupyter/kernels/python3"
    },
    "language_info": {
      "codemirror_mode": {
        "name": "ipython",
        "version": 3
      },
      "file_extension": ".py",
      "mimetype": "text/x-python",
      "name": "python",
      "nbconvert_exporter": "python",
      "pygments_lexer": "ipython3",
      "version": "3.10.7"
    }
  },
  "nbformat": 4,
  "nbformat_minor": 0
}
