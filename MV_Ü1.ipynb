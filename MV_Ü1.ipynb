{
 "cells": [
  {
   "cell_type": "markdown",
   "metadata": {},
   "source": [
    "<img src=\"kit_logo.jpg\" width=\"200\" height=\"200\" align=\"right\"/>\n",
    "\n",
    "##### Lehrstuhl für Analytics and Statistics (IOR)\n",
    "##### Prof. Dr. Oliver Grothe\n",
    "##### SS 2020"
   ]
  },
  {
   "cell_type": "markdown",
   "metadata": {},
   "source": [
    "# Multivariate Verfahren\n",
    "## Übung 1"
   ]
  },
  {
   "cell_type": "markdown",
   "metadata": {},
   "source": [
    "### Aufgabe 2"
   ]
  },
  {
   "cell_type": "markdown",
   "metadata": {},
   "source": [
    "Laden Sie die Ordner ,,mv_u1” aus Ilias herunter. Diese enthalten eine kleine Einführung in Python."
   ]
  },
  {
   "cell_type": "markdown",
   "metadata": {},
   "source": [
    "Sie finden eine *`requirements.txt `*-Datei im Ordner. Öffnen Sie eine Befehlszeile und führen Sie \n",
    "*`pip install -r path/to/requirements.txt`* bevor Sie das  *`.ipynb`* Notebook öffnen."
   ]
  },
  {
   "cell_type": "markdown",
   "metadata": {},
   "source": [
    "#### Python & Jupyter Notebook - kurze Einführung ####"
   ]
  },
  {
   "cell_type": "code",
   "execution_count": 1,
   "metadata": {},
   "outputs": [],
   "source": [
    "# Auskommentieren von Codes mit \"#\"\n",
    "\n",
    "# Einfügen einer neuen Zelle, klicken das '+' Symbol\n",
    "# Alternativ: mit den Menübefehl Insert > Insert Cell Above/Below oder mit Kurzbefehl: A für oben oder B für unten。 \n",
    "\n",
    "# Änderung des Zelltyps über das Dropdownmenü oder mit Kurzbefehl: M für Markdown oder Y für Code. \n",
    "# Alternativ: mit den Menübefehl Cell > Cell Type > Markdown.\n",
    "\n",
    "# Durchführung einer einzelne Zelle, anklicken +'Run' oder Kurzbefhel: Strg+Enter\n",
    "\n",
    "# Index-Ziffern von Zellen als Indikator für die Reihenfolge der Ausführung. \n",
    "\n",
    "# Python-Interpreter beendet und erneut startet mit den Menübefehl Kernel > Restartden.\n",
    "# Beim Neustart werden auch alle Variablen aus dem Arbeitsbereich gelöscht.\n",
    "# Alternativ: Restart & Clear Output für zusätzlich Löschen aller Einträge in der Ausgabe\n",
    "# Erforderlich falls die Umgebung mit alten Daten kontaminiert ist.\n",
    "\n",
    "\n",
    "# Autovervollständigung Mittels der Tab-Taste, die mit diesem Buchstaben beginnenden Variablen und Objekte können ausgewählt werden\n",
    "# Strg + Z für Rückgängig machen (Undo).\n",
    "# help(\"<Befehl>\") öffnet die Hilfe für <Befehl>.\n",
    "# <object_name?> Anzeigen alle Details zum Objekt <object_name>.\n",
    "# Eine Berechnung kann jederzeit mit Strg + C beendet werden."
   ]
  },
  {
   "cell_type": "markdown",
   "metadata": {},
   "source": [
    "### Hallo"
   ]
  },
  {
   "cell_type": "code",
   "execution_count": 2,
   "metadata": {},
   "outputs": [
    {
     "name": "stdout",
     "output_type": "stream",
     "text": [
      "hello world!\n"
     ]
    }
   ],
   "source": [
    "# print\n",
    "print(\"hello world!\")"
   ]
  },
  {
   "cell_type": "code",
   "execution_count": 3,
   "metadata": {},
   "outputs": [
    {
     "name": "stdout",
     "output_type": "stream",
     "text": [
      "^C\n"
     ]
    }
   ],
   "source": [
    "#!conda install pandas\n"
   ]
  },
  {
   "cell_type": "code",
   "execution_count": 4,
   "metadata": {},
   "outputs": [
    {
     "name": "stdout",
     "output_type": "stream",
     "text": [
      "Collecting seaborn==0.10.0\n",
      "  Using cached seaborn-0.10.0-py3-none-any.whl (215 kB)\n",
      "Requirement already satisfied: scipy>=1.0.1 in c:\\users\\fabian\\anaconda3\\envs\\uebung\\lib\\site-packages (from seaborn==0.10.0) (1.6.2)\n",
      "Requirement already satisfied: pandas>=0.22.0 in c:\\users\\fabian\\anaconda3\\envs\\uebung\\lib\\site-packages (from seaborn==0.10.0) (1.2.4)\n",
      "Requirement already satisfied: numpy>=1.13.3 in c:\\users\\fabian\\anaconda3\\envs\\uebung\\lib\\site-packages (from seaborn==0.10.0) (1.19.2)\n",
      "Requirement already satisfied: matplotlib>=2.1.2 in c:\\users\\fabian\\anaconda3\\envs\\uebung\\lib\\site-packages (from seaborn==0.10.0) (3.3.4)\n",
      "Requirement already satisfied: pillow>=6.2.0 in c:\\users\\fabian\\anaconda3\\envs\\uebung\\lib\\site-packages (from matplotlib>=2.1.2->seaborn==0.10.0) (8.2.0)\n",
      "Requirement already satisfied: pyparsing!=2.0.4,!=2.1.2,!=2.1.6,>=2.0.3 in c:\\users\\fabian\\anaconda3\\envs\\uebung\\lib\\site-packages (from matplotlib>=2.1.2->seaborn==0.10.0) (2.4.7)\n",
      "Requirement already satisfied: cycler>=0.10 in c:\\users\\fabian\\anaconda3\\envs\\uebung\\lib\\site-packages (from matplotlib>=2.1.2->seaborn==0.10.0) (0.10.0)\n",
      "Requirement already satisfied: kiwisolver>=1.0.1 in c:\\users\\fabian\\anaconda3\\envs\\uebung\\lib\\site-packages (from matplotlib>=2.1.2->seaborn==0.10.0) (1.3.1)\n",
      "Requirement already satisfied: python-dateutil>=2.1 in c:\\users\\fabian\\anaconda3\\envs\\uebung\\lib\\site-packages (from matplotlib>=2.1.2->seaborn==0.10.0) (2.8.1)\n",
      "Requirement already satisfied: six in c:\\users\\fabian\\anaconda3\\envs\\uebung\\lib\\site-packages (from cycler>=0.10->matplotlib>=2.1.2->seaborn==0.10.0) (1.15.0)\n",
      "Requirement already satisfied: pytz>=2017.3 in c:\\users\\fabian\\anaconda3\\envs\\uebung\\lib\\site-packages (from pandas>=0.22.0->seaborn==0.10.0) (2021.1)\n",
      "Installing collected packages: seaborn\n",
      "  Attempting uninstall: seaborn\n",
      "    Found existing installation: seaborn 0.11.2\n",
      "    Uninstalling seaborn-0.11.2:\n",
      "      Successfully uninstalled seaborn-0.11.2\n",
      "Successfully installed seaborn-0.10.0\n",
      "^C\n"
     ]
    }
   ],
   "source": [
    "#Install extra packages using pip: !pip install<package name>\n",
    "#!pip install seaborn==0.10.0\n",
    "#!pip install tqdm"
   ]
  },
  {
   "cell_type": "code",
   "execution_count": 5,
   "metadata": {},
   "outputs": [
    {
     "name": "stdout",
     "output_type": "stream",
     "text": [
      "Requirement already satisfied: tqdm in c:\\users\\fabian\\anaconda3\\envs\\uebung\\lib\\site-packages (4.62.3)\n",
      "Requirement already satisfied: colorama in c:\\users\\fabian\\anaconda3\\envs\\uebung\\lib\\site-packages (from tqdm) (0.4.4)\n"
     ]
    }
   ],
   "source": [
    "#Importieren und Umbenennen der Bibliotheks\n",
    "import numpy as np\n",
    "from numpy import linalg as la\n",
    "import pandas as pd\n",
    "import matplotlib.pyplot as plt\n",
    "import seaborn as sns"
   ]
  },
  {
   "cell_type": "markdown",
   "metadata": {},
   "source": [
    "#### Variablenzuweisung und Variablentypen"
   ]
  },
  {
   "cell_type": "code",
   "execution_count": 6,
   "metadata": {},
   "outputs": [
    {
     "name": "stdout",
     "output_type": "stream",
     "text": [
      "this is my variable: 3.9\n",
      "this is my variable:3.9\n",
      "this is the typ of my variable: <class 'float'>\n"
     ]
    }
   ],
   "source": [
    "my_variable = 3.9\n",
    "print('this is my variable:', my_variable)\n",
    "print('this is my variable:'+ str( my_variable))\n",
    "print('this is the typ of my variable:', type(my_variable))"
   ]
  },
  {
   "cell_type": "code",
   "execution_count": 7,
   "metadata": {},
   "outputs": [
    {
     "name": "stdout",
     "output_type": "stream",
     "text": [
      "A string of characters, with newline \n",
      " CAPITALS, etc.\n",
      "A string of characters, with newline \n",
      " CAPITALS, etc.\n",
      "We can format strings for printing 5.00\n"
     ]
    }
   ],
   "source": [
    "a = \"A string of characters, with newline \\n CAPITALS, etc.\"\n",
    "print(a)\n",
    "b = 5.0\n",
    "newstring = a + \"\\nWe can format strings for printing %.2f\"\n",
    "print(newstring %b)"
   ]
  },
  {
   "cell_type": "markdown",
   "metadata": {},
   "source": [
    "#### Erzeugung & Verwendung eigener Funktionen und Klassen"
   ]
  },
  {
   "cell_type": "markdown",
   "metadata": {},
   "source": [
    "Function"
   ]
  },
  {
   "cell_type": "code",
   "execution_count": 8,
   "metadata": {},
   "outputs": [],
   "source": [
    "def square(x):\n",
    "    \"\"\"Square of x.\"\"\"\n",
    "   \n",
    "    return x*x\n",
    "\n",
    "def cube(x):\n",
    "    \"\"\"Cube of x.\"\"\"\n",
    "    return x**3"
   ]
  },
  {
   "cell_type": "code",
   "execution_count": 9,
   "metadata": {},
   "outputs": [],
   "source": [
    "# create a dictionary of functions\n",
    "funcs = {\n",
    "    'square': square,\n",
    "    'cube': cube,\n",
    "}"
   ]
  },
  {
   "cell_type": "code",
   "execution_count": 10,
   "metadata": {},
   "outputs": [
    {
     "name": "stdout",
     "output_type": "stream",
     "text": [
      "the square of 2 is 4\n",
      "the cube of 2 is 8\n",
      "function cube has a value of: 8\n",
      "function square has a value of: 4\n"
     ]
    }
   ],
   "source": [
    "x = 2\n",
    "\n",
    "print('the square of',x, 'is',square(x))\n",
    "print('the cube of',x, 'is', cube(x))\n",
    "\n",
    "for func in sorted(funcs):\n",
    "    print('function', func, 'has a value of:', funcs[func](x))"
   ]
  },
  {
   "cell_type": "markdown",
   "metadata": {},
   "source": [
    "Class"
   ]
  },
  {
   "cell_type": "code",
   "execution_count": 11,
   "metadata": {},
   "outputs": [],
   "source": [
    "class Vector :\n",
    "    \"\"\"A simple vector class.\"\"\"\n",
    "    \n",
    "    def __init__(self, x = 0.0, y = 0.0, z = 0.0) :\n",
    "        self.x = x\n",
    "        self.y = y\n",
    "        self.z = z\n",
    "        \n",
    "    def __str__(self) :\n",
    "        return \"( \" + str(self.x) + \", \" + str(self.y) + \", \" + str(self.z) + \")\""
   ]
  },
  {
   "cell_type": "code",
   "execution_count": 12,
   "metadata": {},
   "outputs": [
    {
     "name": "stdout",
     "output_type": "stream",
     "text": [
      "( 0.0, 0.0, 0.0)\n"
     ]
    }
   ],
   "source": [
    "# initialize vector\n",
    "vec0 = Vector()\n",
    "print(vec0)"
   ]
  },
  {
   "cell_type": "code",
   "execution_count": 13,
   "metadata": {},
   "outputs": [
    {
     "name": "stdout",
     "output_type": "stream",
     "text": [
      "( 1.0, 2.0, 3.0)\n"
     ]
    }
   ],
   "source": [
    "# Instantiate vector\n",
    "vec1 = Vector( 1.0, 2.0, 3.0)\n",
    "print(vec1)"
   ]
  },
  {
   "cell_type": "code",
   "execution_count": 14,
   "metadata": {},
   "outputs": [
    {
     "name": "stdout",
     "output_type": "stream",
     "text": [
      "( 1.0, 2.0, 5.0)\n"
     ]
    }
   ],
   "source": [
    "# Change member variable:\n",
    "vec1.z = 5.0\n",
    "print(vec1)"
   ]
  },
  {
   "cell_type": "markdown",
   "metadata": {},
   "source": [
    "#### Erzeugung spezieller Vektoren und Matrizen"
   ]
  },
  {
   "cell_type": "markdown",
   "metadata": {},
   "source": [
    "Array/Vektor"
   ]
  },
  {
   "cell_type": "code",
   "execution_count": 15,
   "metadata": {},
   "outputs": [
    {
     "data": {
      "text/plain": [
       "array([1., 2., 3.])"
      ]
     },
     "execution_count": 15,
     "metadata": {},
     "output_type": "execute_result"
    }
   ],
   "source": [
    "# Erstellen Array/Vektor\n",
    "v = np.array([1.0, 2.0, 3.0])\n",
    "v"
   ]
  },
  {
   "cell_type": "code",
   "execution_count": 16,
   "metadata": {},
   "outputs": [
    {
     "data": {
      "text/plain": [
       "(3,)"
      ]
     },
     "execution_count": 16,
     "metadata": {},
     "output_type": "execute_result"
    }
   ],
   "source": [
    "v.shape"
   ]
  },
  {
   "cell_type": "code",
   "execution_count": 17,
   "metadata": {},
   "outputs": [
    {
     "data": {
      "text/plain": [
       "numpy.ndarray"
      ]
     },
     "execution_count": 17,
     "metadata": {},
     "output_type": "execute_result"
    }
   ],
   "source": [
    "type(v)"
   ]
  },
  {
   "cell_type": "code",
   "execution_count": 18,
   "metadata": {},
   "outputs": [
    {
     "data": {
      "text/plain": [
       "array([-3.14159265, -2.44346095, -1.74532925, -1.04719755, -0.34906585,\n",
       "        0.34906585,  1.04719755,  1.74532925,  2.44346095,  3.14159265])"
      ]
     },
     "execution_count": 18,
     "metadata": {},
     "output_type": "execute_result"
    }
   ],
   "source": [
    "# Erstellen Array/Vektor von gleichmäßig verteilte Zahlen über ein bestimmtes Intervall\n",
    "xi = np.linspace(-np.pi, np.pi, 10)\n",
    "np.shape(xi)\n",
    "xi"
   ]
  },
  {
   "cell_type": "code",
   "execution_count": 19,
   "metadata": {},
   "outputs": [
    {
     "data": {
      "text/plain": [
       "array([[5., 6., 5.],\n",
       "       [3., 2., 0.]])"
      ]
     },
     "execution_count": 19,
     "metadata": {},
     "output_type": "execute_result"
    }
   ],
   "source": [
    "# Erstellen mehr dimensional Array\n",
    "n = np.array( [ [5.0, 6.0, 5.0], [3.0, 2.0, 0.0] ])\n",
    "n"
   ]
  },
  {
   "cell_type": "code",
   "execution_count": 20,
   "metadata": {},
   "outputs": [
    {
     "data": {
      "text/plain": [
       "dtype('float64')"
      ]
     },
     "execution_count": 20,
     "metadata": {},
     "output_type": "execute_result"
    }
   ],
   "source": [
    "n.dtype"
   ]
  },
  {
   "cell_type": "code",
   "execution_count": 21,
   "metadata": {},
   "outputs": [
    {
     "data": {
      "text/plain": [
       "numpy.ndarray"
      ]
     },
     "execution_count": 21,
     "metadata": {},
     "output_type": "execute_result"
    }
   ],
   "source": [
    "type(n)"
   ]
  },
  {
   "cell_type": "code",
   "execution_count": 22,
   "metadata": {},
   "outputs": [
    {
     "data": {
      "text/plain": [
       "array([[5., 6., 5., 5., 6., 5.],\n",
       "       [3., 2., 0., 3., 2., 0.]])"
      ]
     },
     "execution_count": 22,
     "metadata": {},
     "output_type": "execute_result"
    }
   ],
   "source": [
    "# Konkatenation von Arrays\n",
    "np.concatenate((n, n),axis=1)  "
   ]
  },
  {
   "cell_type": "code",
   "execution_count": 23,
   "metadata": {},
   "outputs": [
    {
     "data": {
      "text/plain": [
       "array([[5., 6., 5.],\n",
       "       [3., 2., 0.],\n",
       "       [5., 6., 5.],\n",
       "       [3., 2., 0.]])"
      ]
     },
     "execution_count": 23,
     "metadata": {},
     "output_type": "execute_result"
    }
   ],
   "source": [
    "np.append(n, n, axis=0)"
   ]
  },
  {
   "cell_type": "code",
   "execution_count": 24,
   "metadata": {},
   "outputs": [
    {
     "data": {
      "text/plain": [
       "array([[5., 6.],\n",
       "       [3., 2.]])"
      ]
     },
     "execution_count": 24,
     "metadata": {},
     "output_type": "execute_result"
    }
   ],
   "source": [
    "# Selektion, z.B. alle Zeilen, Spalte 0 und 1\n",
    "n[:, :2] "
   ]
  },
  {
   "cell_type": "code",
   "execution_count": 25,
   "metadata": {},
   "outputs": [
    {
     "data": {
      "text/plain": [
       "array([[5., 3.],\n",
       "       [6., 2.],\n",
       "       [5., 0.]])"
      ]
     },
     "execution_count": 25,
     "metadata": {},
     "output_type": "execute_result"
    }
   ],
   "source": [
    "# Transponieren\n",
    "n_t = n.transpose()\n",
    "n_t"
   ]
  },
  {
   "cell_type": "code",
   "execution_count": 26,
   "metadata": {},
   "outputs": [
    {
     "data": {
      "text/plain": [
       "array([[-0.25 ,  0.75 ],\n",
       "       [ 0.375, -0.625]])"
      ]
     },
     "execution_count": 26,
     "metadata": {},
     "output_type": "execute_result"
    }
   ],
   "source": [
    "# Inverse\n",
    "n_i = la.inv(n[:, :2])\n",
    "n_i"
   ]
  },
  {
   "cell_type": "code",
   "execution_count": 27,
   "metadata": {},
   "outputs": [
    {
     "data": {
      "text/plain": [
       "-0.875"
      ]
     },
     "execution_count": 27,
     "metadata": {},
     "output_type": "execute_result"
    }
   ],
   "source": [
    "# Trace/Spur\n",
    "trace= np.trace(n_i)\n",
    "trace"
   ]
  },
  {
   "cell_type": "code",
   "execution_count": 28,
   "metadata": {},
   "outputs": [
    {
     "data": {
      "text/plain": [
       "array([[1, 0, 0, 0],\n",
       "       [0, 2, 0, 0],\n",
       "       [0, 0, 3, 0],\n",
       "       [0, 0, 0, 4]])"
      ]
     },
     "execution_count": 28,
     "metadata": {},
     "output_type": "execute_result"
    }
   ],
   "source": [
    "# Erzeugen 4x4-Matrix mit Diagonalelemnt 1,2,3,4\n",
    "np.diag([1, 2, 3, 4])"
   ]
  },
  {
   "cell_type": "code",
   "execution_count": 29,
   "metadata": {},
   "outputs": [
    {
     "data": {
      "text/plain": [
       "array([[4, 0, 2, 0],\n",
       "       [0, 3, 4, 3]])"
      ]
     },
     "execution_count": 29,
     "metadata": {},
     "output_type": "execute_result"
    }
   ],
   "source": [
    "# Erzeugen 2x4-Matrix ganzzahliger Zufallszahlen auf dem Intervall [0,4]\n",
    "np.random.randint(5, size=(2, 4))"
   ]
  },
  {
   "cell_type": "code",
   "execution_count": 30,
   "metadata": {},
   "outputs": [
    {
     "data": {
      "text/plain": [
       "array([0, 1, 2, 3, 4, 5, 6, 7, 8, 9])"
      ]
     },
     "execution_count": 30,
     "metadata": {},
     "output_type": "execute_result"
    }
   ],
   "source": [
    "# Erzeugen ein Array mit asdfasf verteilte Werte innerhalb Intervalls [10,30)\n",
    "np.arange( 10 )"
   ]
  },
  {
   "cell_type": "code",
   "execution_count": 31,
   "metadata": {},
   "outputs": [
    {
     "name": "stdout",
     "output_type": "stream",
     "text": [
      "[[   0    1    2 ...   97   98   99]\n",
      " [ 100  101  102 ...  197  198  199]\n",
      " [ 200  201  202 ...  297  298  299]\n",
      " ...\n",
      " [9700 9701 9702 ... 9797 9798 9799]\n",
      " [9800 9801 9802 ... 9897 9898 9899]\n",
      " [9900 9901 9902 ... 9997 9998 9999]]\n"
     ]
    }
   ],
   "source": [
    "# Reshape\n",
    "print(np.arange(10000).reshape(100,100))"
   ]
  },
  {
   "cell_type": "code",
   "execution_count": 32,
   "metadata": {},
   "outputs": [
    {
     "data": {
      "text/plain": [
       "array([[1., 1., 1.],\n",
       "       [1., 1., 1.],\n",
       "       [1., 1., 1.]])"
      ]
     },
     "execution_count": 32,
     "metadata": {},
     "output_type": "execute_result"
    }
   ],
   "source": [
    "# Erzeugen eine 3x3-Array mit 1en\n",
    "d_id = np.ones((3,3)) \n",
    "d_id"
   ]
  },
  {
   "cell_type": "code",
   "execution_count": 33,
   "metadata": {},
   "outputs": [
    {
     "data": {
      "text/plain": [
       "array([[1., 0., 0.],\n",
       "       [0., 1., 0.],\n",
       "       [0., 0., 1.]])"
      ]
     },
     "execution_count": 33,
     "metadata": {},
     "output_type": "execute_result"
    }
   ],
   "source": [
    "# Erzeugt eine 3x3-Einheitsmatrix\n",
    "d_unit = np.eye(3)\n",
    "d_unit"
   ]
  },
  {
   "cell_type": "code",
   "execution_count": 34,
   "metadata": {},
   "outputs": [
    {
     "data": {
      "text/plain": [
       "array([[[0., 0., 0.],\n",
       "        [0., 0., 0.],\n",
       "        [0., 0., 0.]],\n",
       "\n",
       "       [[0., 0., 0.],\n",
       "        [0., 0., 0.],\n",
       "        [0., 0., 0.]],\n",
       "\n",
       "       [[0., 0., 0.],\n",
       "        [0., 0., 0.],\n",
       "        [0., 0., 0.]]])"
      ]
     },
     "execution_count": 34,
     "metadata": {},
     "output_type": "execute_result"
    }
   ],
   "source": [
    "# Erzeugen eine 3x3x3-Array mit 0en\n",
    "d_null = np.zeros((3,3,3))\n",
    "d_null"
   ]
  },
  {
   "cell_type": "code",
   "execution_count": 35,
   "metadata": {},
   "outputs": [
    {
     "name": "stdout",
     "output_type": "stream",
     "text": [
      "Determinate: -0.12500000000000003\n",
      "Norm: 1.0752906583803283\n",
      "Eigenwerte: [-0.85676275 -0.01823725]\n",
      "Eigenvektoren: [[-0.52573111 -0.85065081]\n",
      " [ 0.85065081 -0.52573111]]\n"
     ]
    }
   ],
   "source": [
    "det = la.det(n_i)\n",
    "print('Determinate:', det)\n",
    "norm = la.norm(n_i)\n",
    "print('Norm:', norm)\n",
    "w, v = la.eigh(n_i)\n",
    "print('Eigenwerte:',w)\n",
    "print('Eigenvektoren:',v)"
   ]
  },
  {
   "cell_type": "code",
   "execution_count": 36,
   "metadata": {},
   "outputs": [
    {
     "name": "stdout",
     "output_type": "stream",
     "text": [
      "X near by Z? [[ True  True  True ...  True  True  True]\n",
      " [ True  True  True ...  True  True  True]\n",
      " [ True  True  True ...  True  True  True]\n",
      " ...\n",
      " [ True  True  True ...  True  True  True]\n",
      " [ True  True  True ...  True  True  True]\n",
      " [ True  True  True ...  True  True  True]]\n",
      "Y=Z? [[ True  True  True ...  True  True  True]\n",
      " [ True  True  True ...  True  True  True]\n",
      " [ True  True  True ...  True  True  True]\n",
      " ...\n",
      " [ True  True  True ...  True  True  True]\n",
      " [ True  True  True ...  True  True  True]\n",
      " [ True  True  True ...  True  True  True]]\n"
     ]
    }
   ],
   "source": [
    "# dot product of multiple arrays \n",
    "# Prepare some data\n",
    "A = np.random.random((10000, 100))\n",
    "B = np.random.random((100, 100))\n",
    "C = np.random.random((100, 5))\n",
    "D = np.random.random((5, 333))\n",
    "\n",
    "# the actual dot multiplication\n",
    "X = la.multi_dot([A, B, C, D])\n",
    "#print('results with multi_dot:',X)\n",
    "#instead of:\n",
    "Y = np.dot(np.dot(np.dot(A, B), C), D)\n",
    "#print('results with np.dot:',Y)\n",
    "# or\n",
    "Z = A.dot(B).dot(C).dot(D)\n",
    "#print('results witth object.dot',Z)\n",
    "print('X near by Z?',X-Z<0.0001)\n",
    "print('Y=Z?', Y==Z)"
   ]
  },
  {
   "cell_type": "markdown",
   "metadata": {},
   "source": [
    "Matrix"
   ]
  },
  {
   "cell_type": "code",
   "execution_count": 37,
   "metadata": {},
   "outputs": [],
   "source": [
    "import numpy.matlib"
   ]
  },
  {
   "cell_type": "markdown",
   "metadata": {},
   "source": [
    "Für alle folgenden Operationen kann auch immer ein numpy array verwendet werden! Einziger Unterschied: Matrix X strikt zweidimensional und a*b entspricht Matrixmultiplikation, während a*b von numpy.arrays emementweise multiplikation darstellt."
   ]
  },
  {
   "cell_type": "code",
   "execution_count": 38,
   "metadata": {},
   "outputs": [
    {
     "data": {
      "text/plain": [
       "matrix([[1., 2., 3.],\n",
       "        [4., 5., 6.]])"
      ]
     },
     "execution_count": 38,
     "metadata": {},
     "output_type": "execute_result"
    }
   ],
   "source": [
    "# Erstellen Matrix\n",
    "m = np.matrix( [ [1.0, 2.0, 3.0], [4.0, 5.0, 6.0] ])\n",
    "m"
   ]
  },
  {
   "cell_type": "code",
   "execution_count": 39,
   "metadata": {},
   "outputs": [
    {
     "data": {
      "text/plain": [
       "numpy.matrix"
      ]
     },
     "execution_count": 39,
     "metadata": {},
     "output_type": "execute_result"
    }
   ],
   "source": [
    "type(m)"
   ]
  },
  {
   "cell_type": "code",
   "execution_count": 40,
   "metadata": {},
   "outputs": [
    {
     "data": {
      "text/plain": [
       "(2, 3)"
      ]
     },
     "execution_count": 40,
     "metadata": {},
     "output_type": "execute_result"
    }
   ],
   "source": [
    "# Tupel der Matrixdimensionen.\n",
    "m.shape"
   ]
  },
  {
   "cell_type": "code",
   "execution_count": 41,
   "metadata": {},
   "outputs": [
    {
     "data": {
      "text/plain": [
       "6"
      ]
     },
     "execution_count": 41,
     "metadata": {},
     "output_type": "execute_result"
    }
   ],
   "source": [
    "# Anzahl der Elemente im Matrix\n",
    "m.size"
   ]
  },
  {
   "cell_type": "code",
   "execution_count": 42,
   "metadata": {},
   "outputs": [
    {
     "data": {
      "text/plain": [
       "matrix([[1., 2.],\n",
       "        [4., 5.]])"
      ]
     },
     "execution_count": 42,
     "metadata": {},
     "output_type": "execute_result"
    }
   ],
   "source": [
    "# alle Zeilen, Spalte 0 und 1\n",
    "m[:, :2] "
   ]
  },
  {
   "cell_type": "code",
   "execution_count": 43,
   "metadata": {},
   "outputs": [
    {
     "data": {
      "text/plain": [
       "matrix([[1., 4.],\n",
       "        [2., 5.],\n",
       "        [3., 6.]])"
      ]
     },
     "execution_count": 43,
     "metadata": {},
     "output_type": "execute_result"
    }
   ],
   "source": [
    "# Transponieren des Matrixs\n",
    "m_t = m.T\n",
    "m_t"
   ]
  },
  {
   "cell_type": "code",
   "execution_count": 44,
   "metadata": {},
   "outputs": [
    {
     "data": {
      "text/plain": [
       "matrix([[1., 4.],\n",
       "        [3., 6.]])"
      ]
     },
     "execution_count": 44,
     "metadata": {},
     "output_type": "execute_result"
    }
   ],
   "source": [
    "# Selektion, z.B. Zeile 0 und 2, alle Spalten\n",
    "m_t[[0,2],:] "
   ]
  },
  {
   "cell_type": "code",
   "execution_count": 45,
   "metadata": {},
   "outputs": [
    {
     "data": {
      "text/plain": [
       "matrix([[-0.94444444, -0.11111111,  0.72222222],\n",
       "        [ 0.44444444,  0.11111111, -0.22222222]])"
      ]
     },
     "execution_count": 45,
     "metadata": {},
     "output_type": "execute_result"
    }
   ],
   "source": [
    "# Inverse\n",
    "m_inv= m_t.I\n",
    "m_inv"
   ]
  },
  {
   "cell_type": "code",
   "execution_count": 46,
   "metadata": {},
   "outputs": [
    {
     "data": {
      "text/plain": [
       "matrix([[1., 1., 1.],\n",
       "        [1., 1., 1.],\n",
       "        [1., 1., 1.]])"
      ]
     },
     "execution_count": 46,
     "metadata": {},
     "output_type": "execute_result"
    }
   ],
   "source": [
    "# Erzeugen eine 3x3-Matrix mit 1en\n",
    "c_id = np.matlib.ones((3,3)) \n",
    "c_id"
   ]
  },
  {
   "cell_type": "code",
   "execution_count": 47,
   "metadata": {},
   "outputs": [
    {
     "data": {
      "text/plain": [
       "matrix([[1., 0., 0.],\n",
       "        [0., 1., 0.],\n",
       "        [0., 0., 1.]])"
      ]
     },
     "execution_count": 47,
     "metadata": {},
     "output_type": "execute_result"
    }
   ],
   "source": [
    "# Erzeugt eine 3x3-Einheitsmatrix\n",
    "c_unit = np.matlib.eye(3)\n",
    "c_unit"
   ]
  },
  {
   "cell_type": "code",
   "execution_count": 48,
   "metadata": {},
   "outputs": [
    {
     "data": {
      "text/plain": [
       "matrix([[0., 0., 0.],\n",
       "        [0., 0., 0.]])"
      ]
     },
     "execution_count": 48,
     "metadata": {},
     "output_type": "execute_result"
    }
   ],
   "source": [
    "# Erzeugen eine 3x3x3-Matrix mit 0en\n",
    "c_null = np.matlib.zeros((2,3))\n",
    "c_null"
   ]
  },
  {
   "cell_type": "code",
   "execution_count": 49,
   "metadata": {},
   "outputs": [
    {
     "name": "stdout",
     "output_type": "stream",
     "text": [
      "n*n:\n",
      " [[25. 36. 25.]\n",
      " [ 9.  4.  0.]]\n",
      "power of 2:\n",
      " [[25. 36. 25.]\n",
      " [ 9.  4.  0.]]\n",
      "square:\n",
      " [[25. 36. 25.]\n",
      " [ 9.  4.  0.]]\n"
     ]
    }
   ],
   "source": [
    "# N^2\n",
    "s1 = n*n # ist np. array n=np.array( [ [5.0, 6.0, 5.0], [3.0, 2.0, 0.0] ])\n",
    "s2 = np.power(n,2)\n",
    "s3 = np.square(n)\n",
    "print('n*n:\\n',s1)\n",
    "print('power of 2:\\n',s2)\n",
    "print('square:\\n',s3)"
   ]
  },
  {
   "cell_type": "code",
   "execution_count": 50,
   "metadata": {},
   "outputs": [
    {
     "data": {
      "text/plain": [
       "array([[2.5, 3. , 2.5],\n",
       "       [1.5, 1. , 0. ]])"
      ]
     },
     "execution_count": 50,
     "metadata": {},
     "output_type": "execute_result"
    }
   ],
   "source": [
    "# N/2, dividiert jedes einzelne Element der Matrix durch 2\n",
    "np.divide(n,2)"
   ]
  },
  {
   "cell_type": "code",
   "execution_count": 51,
   "metadata": {},
   "outputs": [
    {
     "data": {
      "text/plain": [
       "array([[86., 27.],\n",
       "       [27., 13.]])"
      ]
     },
     "execution_count": 51,
     "metadata": {},
     "output_type": "execute_result"
    }
   ],
   "source": [
    "# N*N'\n",
    "n.dot(n_t)\n"
   ]
  },
  {
   "cell_type": "code",
   "execution_count": 52,
   "metadata": {},
   "outputs": [
    {
     "data": {
      "text/plain": [
       "array([[34., 36., 25.],\n",
       "       [36., 40., 30.],\n",
       "       [25., 30., 25.]])"
      ]
     },
     "execution_count": 52,
     "metadata": {},
     "output_type": "execute_result"
    }
   ],
   "source": [
    "# N'*N\n",
    "n_t.dot(n)"
   ]
  },
  {
   "cell_type": "code",
   "execution_count": 53,
   "metadata": {},
   "outputs": [
    {
     "data": {
      "text/plain": [
       "matrix([[14., 32.],\n",
       "        [32., 77.]])"
      ]
     },
     "execution_count": 53,
     "metadata": {},
     "output_type": "execute_result"
    }
   ],
   "source": [
    "# M*M'\n",
    "m.dot(m_t)"
   ]
  },
  {
   "cell_type": "code",
   "execution_count": 54,
   "metadata": {},
   "outputs": [
    {
     "data": {
      "text/plain": [
       "matrix([[14., 32.],\n",
       "        [32., 77.]])"
      ]
     },
     "execution_count": 54,
     "metadata": {},
     "output_type": "execute_result"
    }
   ],
   "source": [
    "# M*M'\n",
    "m*m_t"
   ]
  },
  {
   "cell_type": "code",
   "execution_count": 55,
   "metadata": {},
   "outputs": [
    {
     "data": {
      "text/plain": [
       "matrix([[17., 22., 27.],\n",
       "        [22., 29., 36.],\n",
       "        [27., 36., 45.]])"
      ]
     },
     "execution_count": 55,
     "metadata": {},
     "output_type": "execute_result"
    }
   ],
   "source": [
    "# M'*M\n",
    "m_t.dot(m)"
   ]
  },
  {
   "cell_type": "code",
   "execution_count": 56,
   "metadata": {},
   "outputs": [
    {
     "data": {
      "text/plain": [
       "matrix([[17., 22., 27.],\n",
       "        [22., 29., 36.],\n",
       "        [27., 36., 45.]])"
      ]
     },
     "execution_count": 56,
     "metadata": {},
     "output_type": "execute_result"
    }
   ],
   "source": [
    "# M'*M\n",
    "m_t*m"
   ]
  },
  {
   "cell_type": "code",
   "execution_count": 57,
   "metadata": {},
   "outputs": [
    {
     "data": {
      "text/plain": [
       "40.20949941184553"
      ]
     },
     "execution_count": 57,
     "metadata": {},
     "output_type": "execute_result"
    }
   ],
   "source": [
    "# Matrix product of two arrays. --> skalarprodukt\n",
    "np.matmul(xi, xi)"
   ]
  },
  {
   "cell_type": "code",
   "execution_count": 58,
   "metadata": {},
   "outputs": [
    {
     "data": {
      "text/plain": [
       "matrix([[32., 80.],\n",
       "        [ 7., 22.]])"
      ]
     },
     "execution_count": 58,
     "metadata": {},
     "output_type": "execute_result"
    }
   ],
   "source": [
    "np.matmul(n, m_t)\n",
    "#np.dot(n,m_t)"
   ]
  },
  {
   "cell_type": "code",
   "execution_count": 59,
   "metadata": {},
   "outputs": [
    {
     "data": {
      "text/plain": [
       "40.20949941184553"
      ]
     },
     "execution_count": 59,
     "metadata": {},
     "output_type": "execute_result"
    }
   ],
   "source": [
    "# Sklarprodukt\n",
    "np.dot(xi,xi)"
   ]
  },
  {
   "cell_type": "code",
   "execution_count": 60,
   "metadata": {},
   "outputs": [
    {
     "data": {
      "text/plain": [
       "array([[ 9.8696044 ,  7.67635898,  5.48311356,  3.28986813,  1.09662271,\n",
       "        -1.09662271, -3.28986813, -5.48311356, -7.67635898, -9.8696044 ],\n",
       "       [ 7.67635898,  5.97050143,  4.26464388,  2.55878633,  0.85292878,\n",
       "        -0.85292878, -2.55878633, -4.26464388, -5.97050143, -7.67635898],\n",
       "       [ 5.48311356,  4.26464388,  3.0461742 ,  1.82770452,  0.60923484,\n",
       "        -0.60923484, -1.82770452, -3.0461742 , -4.26464388, -5.48311356],\n",
       "       [ 3.28986813,  2.55878633,  1.82770452,  1.09662271,  0.3655409 ,\n",
       "        -0.3655409 , -1.09662271, -1.82770452, -2.55878633, -3.28986813],\n",
       "       [ 1.09662271,  0.85292878,  0.60923484,  0.3655409 ,  0.12184697,\n",
       "        -0.12184697, -0.3655409 , -0.60923484, -0.85292878, -1.09662271],\n",
       "       [-1.09662271, -0.85292878, -0.60923484, -0.3655409 , -0.12184697,\n",
       "         0.12184697,  0.3655409 ,  0.60923484,  0.85292878,  1.09662271],\n",
       "       [-3.28986813, -2.55878633, -1.82770452, -1.09662271, -0.3655409 ,\n",
       "         0.3655409 ,  1.09662271,  1.82770452,  2.55878633,  3.28986813],\n",
       "       [-5.48311356, -4.26464388, -3.0461742 , -1.82770452, -0.60923484,\n",
       "         0.60923484,  1.82770452,  3.0461742 ,  4.26464388,  5.48311356],\n",
       "       [-7.67635898, -5.97050143, -4.26464388, -2.55878633, -0.85292878,\n",
       "         0.85292878,  2.55878633,  4.26464388,  5.97050143,  7.67635898],\n",
       "       [-9.8696044 , -7.67635898, -5.48311356, -3.28986813, -1.09662271,\n",
       "         1.09662271,  3.28986813,  5.48311356,  7.67635898,  9.8696044 ]])"
      ]
     },
     "execution_count": 60,
     "metadata": {},
     "output_type": "execute_result"
    }
   ],
   "source": [
    "# Tensorprodukt\n",
    "np.tensordot(xi,xi,0)"
   ]
  },
  {
   "cell_type": "code",
   "execution_count": 61,
   "metadata": {},
   "outputs": [
    {
     "data": {
      "text/plain": [
       "matrix([[6., 8., 8.],\n",
       "        [7., 7., 6.]])"
      ]
     },
     "execution_count": 61,
     "metadata": {},
     "output_type": "execute_result"
    }
   ],
   "source": [
    "# elementweise Rechnung \n",
    "# N + M\n",
    "np.add(n,m)\n",
    "n+m"
   ]
  },
  {
   "cell_type": "code",
   "execution_count": 62,
   "metadata": {},
   "outputs": [
    {
     "data": {
      "text/plain": [
       "matrix([[ 4.,  4.,  2.],\n",
       "        [-1., -3., -6.]])"
      ]
     },
     "execution_count": 62,
     "metadata": {},
     "output_type": "execute_result"
    }
   ],
   "source": [
    "# N - M\n",
    "np.subtract(n,m)"
   ]
  },
  {
   "cell_type": "code",
   "execution_count": 63,
   "metadata": {},
   "outputs": [
    {
     "data": {
      "text/plain": [
       "matrix([[5.        , 3.        , 1.66666667],\n",
       "        [0.75      , 0.4       , 0.        ]])"
      ]
     },
     "execution_count": 63,
     "metadata": {},
     "output_type": "execute_result"
    }
   ],
   "source": [
    "# N / M\n",
    "np.divide(n,m)"
   ]
  },
  {
   "cell_type": "markdown",
   "metadata": {},
   "source": [
    "#### Zufallszahlengenerator, wichtig bei Simulationen"
   ]
  },
  {
   "cell_type": "code",
   "execution_count": 64,
   "metadata": {},
   "outputs": [
    {
     "data": {
      "text/plain": [
       "array([3, 0, 1, 2, 3, 3, 3, 3, 0, 1, 2, 3])"
      ]
     },
     "execution_count": 64,
     "metadata": {},
     "output_type": "execute_result"
    }
   ],
   "source": [
    "# Set seed\n",
    "np.random.seed(7) \n",
    "\n",
    "# Sampling is done with replacement by default\n",
    "np.random.choice(4, 12)\n"
   ]
  },
  {
   "cell_type": "code",
   "execution_count": 65,
   "metadata": {},
   "outputs": [
    {
     "data": {
      "text/plain": [
       "array([2, 0, 0, 1, 3, 3, 0, 0, 0, 3, 0, 1])"
      ]
     },
     "execution_count": 65,
     "metadata": {},
     "output_type": "execute_result"
    }
   ],
   "source": [
    "# Probability weights can be given\n",
    "np.random.choice(4, 12, p=[.4, .1, .1, .4])"
   ]
  },
  {
   "cell_type": "markdown",
   "metadata": {},
   "source": [
    "#### numerische Optimerung, MLE Methode als Bsp."
   ]
  },
  {
   "cell_type": "code",
   "execution_count": 66,
   "metadata": {},
   "outputs": [],
   "source": [
    "np.random.seed(123)\n",
    "# set parameters\n",
    "N = 100\n",
    "beta_0 = 3\n",
    "beta_1 = 8\n",
    "# create random variables\n",
    "X = np.random.normal(loc = 10, scale = 2, size = N)\n",
    "e = np.random.normal(loc = 0, scale = 2, size = len(X))\n",
    "Y = beta_0 + beta_1 * X + e"
   ]
  },
  {
   "cell_type": "code",
   "execution_count": 67,
   "metadata": {},
   "outputs": [],
   "source": [
    "# define the loglikelihood function\n",
    "def log_lik(par_vec, y, x):\n",
    "    # If the standard deviation parameter is negative, return a large value:\n",
    "    if par_vec[2] < 0:\n",
    "        return(1e8)\n",
    "    # The likelihood function values:\n",
    "    from scipy.stats import norm\n",
    "    lik = norm.pdf(y, \n",
    "                   loc = par_vec[0] + par_vec[1] * x, \n",
    "                   scale = par_vec[2])\n",
    "    #This is similar to calculating the likelihood for Y - XB\n",
    "    # res = y - par_vec[0] - par_vec[1] * x\n",
    "    # lik = norm.pdf(res, loc = 0, sd = par_vec[2])\n",
    "    \n",
    "    # If all logarithms are zero, return a large value\n",
    "    if all(v == 0 for v in lik):\n",
    "        return(1e8)\n",
    "    # Logarithm of zero = -Inf\n",
    "    return(-sum(np.log(lik[np.nonzero(lik)])))"
   ]
  },
  {
   "cell_type": "code",
   "execution_count": 68,
   "metadata": {},
   "outputs": [
    {
     "name": "stdout",
     "output_type": "stream",
     "text": [
      "      fun: 208.14955038268405\n",
      " hess_inv: array([[ 9.05819963e-01, -8.53095681e-02, -1.10830063e-02],\n",
      "       [-8.53095681e-02,  8.36302332e-03,  8.98637383e-04],\n",
      "       [-1.10830063e-02,  8.98637383e-04,  1.96245099e-02]])\n",
      "      jac: array([1.90734863e-06, 9.53674316e-06, 0.00000000e+00])\n",
      "  message: 'Optimization terminated successfully.'\n",
      "     nfev: 156\n",
      "      nit: 20\n",
      "     njev: 39\n",
      "   status: 0\n",
      "  success: True\n",
      "        x: array([3.12775495, 7.98340735, 1.93974592])\n"
     ]
    }
   ],
   "source": [
    "import scipy.optimize as optimize\n",
    "opt_res = optimize.minimize(fun = log_lik, \n",
    "                            x0 = [0, 0, 10], \n",
    "                            args = (Y, X))\n",
    "print(opt_res)"
   ]
  },
  {
   "cell_type": "code",
   "execution_count": 69,
   "metadata": {},
   "outputs": [
    {
     "name": "stdout",
     "output_type": "stream",
     "text": [
      "[3.12775495 7.98340735 1.93974592]\n",
      "[0.95174574 0.09144957 0.14008751]\n",
      "5.782198176469986e-06\n"
     ]
    }
   ],
   "source": [
    "print(opt_res.x)\n",
    "#Std-Errors out of inv. Hessian-Matrix (also possible to check for Minimum )\n",
    "print(np.sqrt(np.diag(opt_res.hess_inv)))\n",
    "print(la.det(opt_res.hess_inv))\n"
   ]
  },
  {
   "cell_type": "code",
   "execution_count": 70,
   "metadata": {},
   "outputs": [
    {
     "name": "stdout",
     "output_type": "stream",
     "text": [
      "[3.12775395 7.98340745]\n",
      "1.9594392282714\n"
     ]
    }
   ],
   "source": [
    "import statsmodels.api as sm\n",
    "print(sm.OLS(Y, sm.add_constant(X)).fit().params)\n",
    "print(np.sqrt(sum(sm.OLS(Y, sm.add_constant(X)).fit().resid**2) / (N - 2)))"
   ]
  },
  {
   "cell_type": "markdown",
   "metadata": {},
   "source": [
    "#### Reprise of bootstrap example for Monte Carlo integration"
   ]
  },
  {
   "cell_type": "code",
   "execution_count": 71,
   "metadata": {},
   "outputs": [],
   "source": [
    "# def a function\n",
    "def f(x):\n",
    "    return x * np.cos(71*x) + np.sin(13*x)"
   ]
  },
  {
   "cell_type": "code",
   "execution_count": 72,
   "metadata": {},
   "outputs": [],
   "source": [
    "# data sample for integration\n",
    "n = 100\n",
    "x = f(np.random.random(n))"
   ]
  },
  {
   "cell_type": "code",
   "execution_count": 73,
   "metadata": {},
   "outputs": [],
   "source": [
    "# bootstrap MC integration\n",
    "reps = 1000\n",
    "xb = np.random.choice(x, (n, reps), replace=True)\n",
    "yb = 1/np.arange(1, n+1)[:, None] * np.cumsum(xb, axis=0)\n",
    "upper, lower = np.percentile(yb, [2.5, 97.5], axis=1)"
   ]
  },
  {
   "cell_type": "code",
   "execution_count": 74,
   "metadata": {},
   "outputs": [
    {
     "data": {
      "image/png": "[encoded data removed]",
      "text/plain": [
       "<Figure size 432x288 with 1 Axes>"
      ]
     },
     "metadata": {
      "needs_background": "light"
     },
     "output_type": "display_data"
    }
   ],
   "source": [
    "# plot\n",
    "plt.plot(np.arange(1, n+1)[:, None], yb, c='grey', alpha=0.02)\n",
    "#plt.plot(np.arange(1, n+1), yb[:, 0], c='red', linewidth=1)\n",
    "plt.plot(np.arange(1, n+1), np.mean(yb[:, :],axis=1), c='red', linewidth=1)\n",
    "plt.plot(np.arange(1, n+1), upper, 'b', np.arange(1, n+1), lower, 'b');"
   ]
  },
  {
   "cell_type": "markdown",
   "metadata": {},
   "source": [
    "#### Grafische Darstellung von Daten"
   ]
  },
  {
   "cell_type": "code",
   "execution_count": 75,
   "metadata": {},
   "outputs": [
    {
     "data": {
      "image/png": "[encoded data removed]",
      "text/plain": [
       "<Figure size 432x288 with 1 Axes>"
      ]
     },
     "metadata": {
      "needs_background": "light"
     },
     "output_type": "display_data"
    }
   ],
   "source": [
    "# Interaktive Nutzung und inline Darstellung mit Matplotlib magic\n",
    "%matplotlib inline \n",
    "#enable plotting in the current Notebook.\n",
    "\n",
    "plt.figure()\n",
    "x = np.linspace(0, 5 * np.pi, 1000)\n",
    "for n in range(1, 4):\n",
    "    plt.plot(np.sin(n * x))\n",
    "plt.show()"
   ]
  },
  {
   "cell_type": "markdown",
   "metadata": {},
   "source": [
    "#### Visualisierung von mehrdimensionalen Daten mit Seaborn"
   ]
  },
  {
   "cell_type": "code",
   "execution_count": 76,
   "metadata": {},
   "outputs": [
    {
     "data": {
      "text/plain": [
       "Text(0.5, 1.08, 'Pairplot of Iris dataset')"
      ]
     },
     "execution_count": 76,
     "metadata": {},
     "output_type": "execute_result"
    },
    {
     "data": {
      "image/png": "[encoded data removed]",
      "text/plain": [
       "<Figure size 806.85x720 with 20 Axes>"
      ]
     },
     "metadata": {},
     "output_type": "display_data"
    }
   ],
   "source": [
    "sns.set(style=\"ticks\", color_codes=True)\n",
    "iris = sns.load_dataset(\"iris\")\n",
    "g = sns.pairplot(iris, hue=\"species\",markers=[\"o\",  \"X\", 'd'])\n",
    "g.fig.suptitle(\"Pairplot of Iris dataset\",fontsize=15, y=1.08)"
   ]
  },
  {
   "cell_type": "code",
   "execution_count": null,
   "metadata": {},
   "outputs": [],
   "source": []
  }
 ],
 "metadata": {
  "kernelspec": {
   "display_name": "Python 3",
   "language": "python",
   "name": "python3"
  },
  "language_info": {
   "codemirror_mode": {
    "name": "ipython",
    "version": 3
   },
   "file_extension": ".py",
   "mimetype": "text/x-python",
   "name": "python",
   "nbconvert_exporter": "python",
   "pygments_lexer": "ipython3",
   "version": "3.9.4"
  }
 },
 "nbformat": 4,
 "nbformat_minor": 2
}
