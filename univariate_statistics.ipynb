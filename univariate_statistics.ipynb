{
  "nbformat": 4,
  "nbformat_minor": 0,
  "metadata": {
    "colab": {
      "provenance": []
    },
    "kernelspec": {
      "name": "python3",
      "display_name": "Python 3"
    },
    "language_info": {
      "name": "python"
    }
  },
  "cells": [
    {
      "cell_type": "markdown",
      "source": [
        "# Univariate statistics\n",
        "\n",
        "This short script demonstrates the difference between a **population** and a **sample**. The function below will draw a sample from a population of known parameters and you can inspect the sample for the resulting *statistic*."
      ],
      "metadata": {
        "id": "Dt01RfJwwWKY"
      }
    },
    {
      "cell_type": "code",
      "execution_count": 1,
      "metadata": {
        "id": "_ficGZxuwSwS"
      },
      "outputs": [],
      "source": [
        "import numpy as np\n",
        "import matplotlib.pyplot as plt"
      ]
    },
    {
      "cell_type": "markdown",
      "source": [
        "The population has a **location** of `10` and a **scale** of `6`."
      ],
      "metadata": {
        "id": "oVSY9KLnIsPH"
      }
    },
    {
      "cell_type": "code",
      "source": [
        "def draw_sample(size: int):\n",
        "  # use always the same sample\n",
        "  np.random.seed(42)\n",
        "  sample = np.random.normal(10, 6, size=10000)[:size]\n",
        "\n",
        "  # draw a plot\n",
        "  fig, ax = plt.subplots(1, 1, figsize=(6,4))\n",
        "  ax.plot(sample, [np.random.random() for _ in range(len(sample))], 'b.')\n",
        "\n",
        "  # calculate the statistical moments\n",
        "  print(f\"Location: {np.mean(sample).round(2)}\")\n",
        "  print(f\"Scale:    {np.var(sample).round(2)}\")\n",
        "\n",
        "  return fig"
      ],
      "metadata": {
        "id": "h0ydWwy_TZhO"
      },
      "execution_count": 2,
      "outputs": []
    },
    {
      "cell_type": "markdown",
      "source": [
        "Now draw samples of different size to inspect the effects."
      ],
      "metadata": {
        "id": "7jg56ozqJI1T"
      }
    },
    {
      "cell_type": "code",
      "source": [
        "fig = draw_sample(5)"
      ],
      "metadata": {
        "colab": {
          "base_uri": "https://localhost:8080/",
          "height": 401
        },
        "id": "Zt3cOCpXTzER",
        "outputId": "3dce9c52-47a0-44f9-e21c-b9dadd80268a"
      },
      "execution_count": 4,
      "outputs": [
        {
          "output_type": "stream",
          "name": "stdout",
          "text": [
            "Location: 12.75\n",
            "Scale:    14.45\n"
          ]
        },
        {
          "output_type": "display_data",
          "data": {
            "text/plain": [
              "<Figure size 600x400 with 1 Axes>"
            ],
            "image/png": "[encoded data removed]"
          },
          "metadata": {}
        }
      ]
    }
  ]
}