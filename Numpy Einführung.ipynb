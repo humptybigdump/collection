{
 "cells": [
  {
   "cell_type": "markdown",
   "metadata": {},
   "source": [
    "### Numpy\n",
    "Numpy ist eine performante Bibliothek für numerische Operationen in Python. Der Kern von Numpy ist die `array` Datenstruktur.\n",
    "\n",
    "Neben dieser kurzen Einführung ist auch dieses Tutorial empfehlenswert (Englisch): https://numpy.org/doc/stable/user/quickstart.html\n",
    "\n",
    "In der Notebook Version dieses Tutorials können Sie die Beispiele auch bearbeiten und experimentieren"
   ]
  },
  {
   "cell_type": "code",
   "execution_count": 1,
   "metadata": {},
   "outputs": [
    {
     "data": {
      "text/plain": [
       "array([1, 2, 3, 4, 5])"
      ]
     },
     "execution_count": 1,
     "metadata": {},
     "output_type": "execute_result"
    }
   ],
   "source": [
    "import numpy as np  # Es ist üblich, numpy als np zu importieren\n",
    "\n",
    "np.array([1, 2, 3, 4, 5])"
   ]
  },
  {
   "cell_type": "markdown",
   "metadata": {},
   "source": [
    "Anders als Python Listen haben Numpy Arrays einen festen Datentyp. Dieser wird bei der Initialisierung automatisch aus den gegeben Werten ermittelt."
   ]
  },
  {
   "cell_type": "code",
   "execution_count": 2,
   "metadata": {},
   "outputs": [
    {
     "data": {
      "text/plain": [
       "dtype('int32')"
      ]
     },
     "execution_count": 2,
     "metadata": {},
     "output_type": "execute_result"
    }
   ],
   "source": [
    "np.array([1, 2, 3, 4, 5]).dtype"
   ]
  },
  {
   "cell_type": "code",
   "execution_count": 3,
   "metadata": {},
   "outputs": [
    {
     "data": {
      "text/plain": [
       "dtype('float64')"
      ]
     },
     "execution_count": 3,
     "metadata": {},
     "output_type": "execute_result"
    }
   ],
   "source": [
    "np.array([1, 2, 2.5]).dtype"
   ]
  },
  {
   "cell_type": "markdown",
   "metadata": {},
   "source": [
    "Standardmäßig werden Arrays mit Fließkommazahlen mit double precision (float64) initialisiert. Wenn aus Speicher- oder Leistungsgründen single precision gewünscht wird, kann das Array folgendermaßen initialisiert werden:"
   ]
  },
  {
   "cell_type": "code",
   "execution_count": 4,
   "metadata": {},
   "outputs": [
    {
     "data": {
      "text/plain": [
       "dtype('float32')"
      ]
     },
     "execution_count": 4,
     "metadata": {},
     "output_type": "execute_result"
    }
   ],
   "source": [
    "np.array([1, 2, 2.4], dtype=np.float32).dtype"
   ]
  },
  {
   "cell_type": "markdown",
   "metadata": {},
   "source": [
    "Es findet keine automatische Konvertierung von Arraytypen statt (beachten Sie bei dem folgenden Beispiel, dass Arrays 0-indiziert sind):"
   ]
  },
  {
   "cell_type": "code",
   "execution_count": 5,
   "metadata": {},
   "outputs": [
    {
     "name": "stdout",
     "output_type": "stream",
     "text": [
      "int32\n",
      "int32\n",
      "[1 2 3 3 5]\n"
     ]
    }
   ],
   "source": [
    "a = np.array([1, 2, 3, 4, 5])\n",
    "print(a.dtype)\n",
    "a[3] = 3.5\n",
    "print(a.dtype)\n",
    "print(a)"
   ]
  },
  {
   "cell_type": "markdown",
   "metadata": {},
   "source": [
    "Wenn Sie in ein integer Array Fließkommazahlen schreiben möchten, müssen Sie es zuerst konvertieren:"
   ]
  },
  {
   "cell_type": "code",
   "execution_count": 6,
   "metadata": {},
   "outputs": [
    {
     "name": "stdout",
     "output_type": "stream",
     "text": [
      "float64\n",
      "[1.  2.  3.  3.5 5. ]\n"
     ]
    }
   ],
   "source": [
    "a = np.array([1, 2, 3, 4, 5])\n",
    "a = a.astype(np.float64)\n",
    "a[3] = 3.5\n",
    "print(a.dtype)\n",
    "print(a)"
   ]
  },
  {
   "cell_type": "markdown",
   "metadata": {},
   "source": [
    "Eine wichtige Funktionalität von Arrays ist, dass sie mehrdimensional sein können, mit einer belibigen Anzahl an Dimensionen"
   ]
  },
  {
   "cell_type": "code",
   "execution_count": 7,
   "metadata": {},
   "outputs": [
    {
     "data": {
      "text/plain": [
       "(2, 3)"
      ]
     },
     "execution_count": 7,
     "metadata": {},
     "output_type": "execute_result"
    }
   ],
   "source": [
    "a = np.array([[1, 2, 3],\n",
    "              [4, 5, 6]])\n",
    "a.shape"
   ]
  },
  {
   "cell_type": "markdown",
   "metadata": {},
   "source": [
    "Damit bieten sich Arrays an, Matrizen und Arrays von Matrizen darzustellen.\n",
    "\n",
    "Es gibt auch andere Möglichkeiten, Arrays zu erstellen (entnehmen Sie die Details der jeweiligen Dokumentation)"
   ]
  },
  {
   "cell_type": "code",
   "execution_count": 8,
   "metadata": {},
   "outputs": [
    {
     "name": "stdout",
     "output_type": "stream",
     "text": [
      "[2 4 6 8]\n",
      "[0.         0.11111111 0.22222222 0.33333333 0.44444444 0.55555556\n",
      " 0.66666667 0.77777778 0.88888889 1.        ]\n",
      "[[0. 0. 0.]\n",
      " [0. 0. 0.]]\n"
     ]
    }
   ],
   "source": [
    "print(np.arange(2, 10, 2))\n",
    "print(np.linspace(0, 1, 10))\n",
    "print(np.zeros((2, 3)))"
   ]
  },
  {
   "cell_type": "markdown",
   "metadata": {},
   "source": [
    "Arrays können genau wie Python `list`s indiziert werden"
   ]
  },
  {
   "cell_type": "code",
   "execution_count": 9,
   "metadata": {},
   "outputs": [
    {
     "name": "stdout",
     "output_type": "stream",
     "text": [
      "[2 3 4]\n",
      "[0 1 2]\n",
      "[17 18 19]\n",
      "[2 4 6 8]\n",
      "[ 0  2  4  6  8 10 12 14 16 18]\n"
     ]
    }
   ],
   "source": [
    "a = np.arange(20)\n",
    "print(a[2:5])  # Von Index 2 (einschließlich) bis Index 5 (nicht einschließlich)\n",
    "print(a[:3])   # Von Anfang bis index 3 (nicht einschließlich)\n",
    "print(a[17:])  # Von Index 17 (einschließlich) bis Ende\n",
    "print(a[2:10:2])  # Von 2 bis 10 (nicht einschließlich), in 2er Schritten\n",
    "print(a[::2])  # Alle geraden Indizes"
   ]
  },
  {
   "cell_type": "markdown",
   "metadata": {},
   "source": [
    "Außerdem dazu können integer Arrays als Index verwendet werden"
   ]
  },
  {
   "cell_type": "code",
   "execution_count": 10,
   "metadata": {},
   "outputs": [
    {
     "data": {
      "text/plain": [
       "array([6, 1, 5])"
      ]
     },
     "execution_count": 10,
     "metadata": {},
     "output_type": "execute_result"
    }
   ],
   "source": [
    "a = np.array([3, 5, 6, 2, 7, 1, 8])\n",
    "ind = np.array([2, 5, 1])\n",
    "a[ind]  # gibt np.array([a[2], a[5], a[1]])"
   ]
  },
  {
   "cell_type": "markdown",
   "metadata": {},
   "source": [
    "Für Mehrdimensionale Arrays:"
   ]
  },
  {
   "cell_type": "code",
   "execution_count": 11,
   "metadata": {},
   "outputs": [
    {
     "name": "stdout",
     "output_type": "stream",
     "text": [
      "0\n",
      "[[3]\n",
      " [7]]\n",
      "[ 8  9 10 11]\n",
      "[ 2  6 10]\n"
     ]
    }
   ],
   "source": [
    "a = np.array([[0, 1,  2,  3],\n",
    "              [4, 5,  6,  7],\n",
    "              [8, 9, 10, 11]])\n",
    "print(a[0, 0])  # Element 0 der ersten Achse, Element 0 der zweiten Achse\n",
    "print(a[:2, 3:4])\n",
    "print(a[2])  # Wähle Index 1 aus der ersten Achse und die gesamte zweite Achse\n",
    "print(a[:, 2])  # Wähle die gesamte erste Achse und Index 1 in der zweiten Achse"
   ]
  },
  {
   "cell_type": "markdown",
   "metadata": {},
   "source": [
    "Mit der `reshape` Operation können Sie die Größe des Arrays verändern, solange die Gesamtanzahl der Elemente gleich bleibt. Dadurch wird das Array nicht kopiert, es ändert sich lediglich die Interpretation der Speicherregion."
   ]
  },
  {
   "cell_type": "code",
   "execution_count": 12,
   "metadata": {},
   "outputs": [
    {
     "data": {
      "text/plain": [
       "array([[ 0,  1,  2,  3],\n",
       "       [ 4,  5,  6,  7],\n",
       "       [ 8,  9, 10, 11],\n",
       "       [12, 13, 14, 15],\n",
       "       [16, 17, 18, 19]])"
      ]
     },
     "execution_count": 12,
     "metadata": {},
     "output_type": "execute_result"
    }
   ],
   "source": [
    "np.arange(20).reshape(5, 4)"
   ]
  },
  {
   "cell_type": "code",
   "execution_count": 13,
   "metadata": {},
   "outputs": [
    {
     "data": {
      "text/plain": [
       "array([[ 0,  1,  2,  3],\n",
       "       [ 4,  5,  6,  7],\n",
       "       [ 8,  9, 10, 11],\n",
       "       [12, 13, 14, 15],\n",
       "       [16, 17, 18, 19]])"
      ]
     },
     "execution_count": 13,
     "metadata": {},
     "output_type": "execute_result"
    }
   ],
   "source": [
    "np.arange(20).reshape(-1, 4)  # Maximal eine Dimension kann mit -1 angegeben werden, der Wert wird dann automatisch bestimmt"
   ]
  },
  {
   "cell_type": "markdown",
   "metadata": {},
   "source": [
    "Arrays können auch beschrieben werden"
   ]
  },
  {
   "cell_type": "code",
   "execution_count": 14,
   "metadata": {},
   "outputs": [
    {
     "name": "stdout",
     "output_type": "stream",
     "text": [
      "[0 1 7 3 4]\n",
      "[0 1 1 2 4]\n"
     ]
    }
   ],
   "source": [
    "a = np.arange(5)\n",
    "a[2] = 7\n",
    "print(a)\n",
    "a[2:4] = [1, 2]\n",
    "print(a)"
   ]
  },
  {
   "cell_type": "markdown",
   "metadata": {},
   "source": [
    "Arrays können durch mathematische Operationen miteinander oder mit Zahlen kombiniert werden. Dabei können Operationen auch gleich auf mehrere Elemente gleichzeitig angewendet werden"
   ]
  },
  {
   "cell_type": "code",
   "execution_count": 15,
   "metadata": {},
   "outputs": [
    {
     "name": "stdout",
     "output_type": "stream",
     "text": [
      "[4 4 4 4 4]\n",
      "[ 0  7 14 21 28]\n"
     ]
    }
   ],
   "source": [
    "a = np.arange(5)\n",
    "b = np.arange(4, -1, -1)  # [4, 3, 2, 1, 0]\n",
    "print(a + b)\n",
    "print(a * 7)"
   ]
  },
  {
   "cell_type": "markdown",
   "metadata": {},
   "source": [
    "Eine Wichtige (implizite) Operation ist das Broadcasting. Damit können Sie z.B. Vektoren auf Matrizen addieren:"
   ]
  },
  {
   "cell_type": "code",
   "execution_count": 16,
   "metadata": {},
   "outputs": [
    {
     "data": {
      "text/plain": [
       "array([[ 0,  2,  4,  6],\n",
       "       [ 4,  6,  8, 10],\n",
       "       [ 8, 10, 12, 14],\n",
       "       [12, 14, 16, 18],\n",
       "       [16, 18, 20, 22]])"
      ]
     },
     "execution_count": 16,
     "metadata": {},
     "output_type": "execute_result"
    }
   ],
   "source": [
    "a = np.arange(20).reshape(5, 4)  # eine 5 x 4 Matrix\n",
    "b = np.arange(4)\n",
    "a + b"
   ]
  },
  {
   "cell_type": "markdown",
   "metadata": {},
   "source": [
    "Im Beispiel Oben wird ein Vektor auf jede Zeile der Matrix addiert. Was aber, wenn sie Spaltenweise addieren möchten? Ändern sie im Beispiel die Dimension von `b` auf 5.\n",
    "\n",
    "Die Dimensionen der Arrays können durch Broadcasting nur dann angeglichen werden, wenn sie in den letzten Dimension(en) übereinstimmen.\n",
    "\n",
    "Zeilenweise Addieren ist jedoch trotzdem möglich:"
   ]
  },
  {
   "cell_type": "code",
   "execution_count": 17,
   "metadata": {},
   "outputs": [
    {
     "data": {
      "text/plain": [
       "array([[ 0,  1,  2,  3],\n",
       "       [ 5,  6,  7,  8],\n",
       "       [10, 11, 12, 13],\n",
       "       [15, 16, 17, 18],\n",
       "       [20, 21, 22, 23]])"
      ]
     },
     "execution_count": 17,
     "metadata": {},
     "output_type": "execute_result"
    }
   ],
   "source": [
    "b = np.arange(5)\n",
    "a + b.reshape(5, 1)"
   ]
  },
  {
   "cell_type": "markdown",
   "metadata": {},
   "source": [
    "Broadcasting kommt zum Einsatz, wenn zwei Arrays mit ungleichen Größen kombiniert werden sollen (durch eine arithmetische Operation). Dabei gelten zwei Regeln:\n",
    "\n",
    "1. Hat ein Array weniger Dimensionen als das andere, werden implizit Dimensionen der Größe 1 *vorne* an dessen Größe angehängt bis beide gleich viele Dimensionen haben - Veranschaulichen Sie sich, dass das die Anzahl der Elemente im Array nicht verändert\n",
    "2. Wenn sich die Größe der Arrays an einer Dimension unterscheidet und eines der Arrays in dieser Dimension die Größe 1 hat, werden die Einträge des Arrays entlang dieser Dimension \"dupliziert\" bis die Dimensionen überein stimmen.\n",
    "\n",
    "Nicht alle Arrays können so angeglichen werden:"
   ]
  },
  {
   "cell_type": "code",
   "execution_count": 18,
   "metadata": {},
   "outputs": [
    {
     "ename": "ValueError",
     "evalue": "operands could not be broadcast together with shapes (5,4) (3,4) ",
     "output_type": "error",
     "traceback": [
      "\u001b[1;31m---------------------------------------------------------------------------\u001b[0m",
      "\u001b[1;31mValueError\u001b[0m                                Traceback (most recent call last)",
      "\u001b[1;32m<ipython-input-18-a8ee816542b9>\u001b[0m in \u001b[0;36m<module>\u001b[1;34m\u001b[0m\n\u001b[0;32m      1\u001b[0m \u001b[0ma\u001b[0m \u001b[1;33m=\u001b[0m \u001b[0mnp\u001b[0m\u001b[1;33m.\u001b[0m\u001b[0marange\u001b[0m\u001b[1;33m(\u001b[0m\u001b[1;36m20\u001b[0m\u001b[1;33m)\u001b[0m\u001b[1;33m.\u001b[0m\u001b[0mreshape\u001b[0m\u001b[1;33m(\u001b[0m\u001b[1;36m5\u001b[0m\u001b[1;33m,\u001b[0m \u001b[1;36m4\u001b[0m\u001b[1;33m)\u001b[0m\u001b[1;33m\u001b[0m\u001b[1;33m\u001b[0m\u001b[0m\n\u001b[0;32m      2\u001b[0m \u001b[0mb\u001b[0m \u001b[1;33m=\u001b[0m \u001b[0mnp\u001b[0m\u001b[1;33m.\u001b[0m\u001b[0marange\u001b[0m\u001b[1;33m(\u001b[0m\u001b[1;36m12\u001b[0m\u001b[1;33m)\u001b[0m\u001b[1;33m.\u001b[0m\u001b[0mreshape\u001b[0m\u001b[1;33m(\u001b[0m\u001b[1;36m3\u001b[0m\u001b[1;33m,\u001b[0m \u001b[1;36m4\u001b[0m\u001b[1;33m)\u001b[0m\u001b[1;33m\u001b[0m\u001b[1;33m\u001b[0m\u001b[0m\n\u001b[1;32m----> 3\u001b[1;33m \u001b[0ma\u001b[0m \u001b[1;33m+\u001b[0m \u001b[0mb\u001b[0m\u001b[1;33m\u001b[0m\u001b[1;33m\u001b[0m\u001b[0m\n\u001b[0m",
      "\u001b[1;31mValueError\u001b[0m: operands could not be broadcast together with shapes (5,4) (3,4) "
     ]
    }
   ],
   "source": [
    "a = np.arange(20).reshape(5, 4)\n",
    "b = np.arange(12).reshape(3, 4)\n",
    "a + b"
   ]
  },
  {
   "cell_type": "code",
   "execution_count": 19,
   "metadata": {},
   "outputs": [
    {
     "data": {
      "text/plain": [
       "array([[ 0,  1,  2,  3],\n",
       "       [ 5,  6,  7,  8],\n",
       "       [10, 11, 12, 13],\n",
       "       [15, 16, 17, 18],\n",
       "       [20, 21, 22, 23]])"
      ]
     },
     "execution_count": 19,
     "metadata": {},
     "output_type": "execute_result"
    }
   ],
   "source": [
    "# Weitere Beispiele für broadcasting:\n",
    "np.arange(80).reshape(4, 5, 4) + np.arange(5).reshape(1, 5, 1)  # .reshape(5, 1) wäre auch möglich\n",
    "np.arange(20).reshape(5, 4) + np.arange(5)[:, None]  # Mit None indizieren ist alternative syntax zu .reshape(5, 1)"
   ]
  },
  {
   "cell_type": "markdown",
   "metadata": {},
   "source": [
    "Beim broadcasting werden nicht tatsächlich Speichereinträge vervielfältigt, es ist rein durch strides im Speicher implementiert. Die Details gehen über dieses Tutorial hinaus.\n",
    "\n",
    "Durch broadcasting und Vektoroperationen lassen sich komplexe Operationen auf vielen Einträgen kompakt notieren. Viel wichtiger ist aber, dass durch diese Befehle besondere Vektorfunktionen Ihrer Hardware genutzt werden, die diese Operationen um ein Vielfaches schneller durchführen, als eine äquivalente `for` Schleife. Falls Sie in Ihrem Numpy Code `for` Schleifen verwenden, um Arrays zu manipulieren, überlegen Sie ob der gleiche Effekt durch Broadcasting und Vektoroperationen erreicht werden könnte.\n",
    "\n",
    "*Beispiel*: Die folgenden zwei codeblöcke sind äquivalent:"
   ]
  },
  {
   "cell_type": "code",
   "execution_count": 20,
   "metadata": {},
   "outputs": [
    {
     "name": "stdout",
     "output_type": "stream",
     "text": [
      "14.9 µs ± 1.39 µs per loop (mean ± std. dev. of 7 runs, 100000 loops each)\n"
     ]
    }
   ],
   "source": [
    "%%timeit\n",
    "a = np.arange(50)\n",
    "for i in range(len(a)):\n",
    "    a[i] += 2"
   ]
  },
  {
   "cell_type": "code",
   "execution_count": 21,
   "metadata": {},
   "outputs": [
    {
     "name": "stdout",
     "output_type": "stream",
     "text": [
      "1.84 µs ± 21 ns per loop (mean ± std. dev. of 7 runs, 1000000 loops each)\n"
     ]
    }
   ],
   "source": [
    "%%timeit\n",
    "a = np.arange(50)\n",
    "a += 2"
   ]
  },
  {
   "cell_type": "markdown",
   "metadata": {},
   "source": [
    "Schon für diese relativ kleinen Arrays ist der Laufzeitunterschied messbar. Übrigens `%%timeit` ist eine sogenannte Magic Command, mit der in Notebooks die Ausführungszeit für eine Code-Zelle gemessen werden kann.\n",
    "\n",
    "Das waren die wichtigsten Grundlagen von Numpy. Viele Eigenschaften, besonders broadcasting, kann man nur durch Erfahrung und Verwendung lernen. Numpy zu lernen zahlt sich aus - Quasi jede Data Science oder Machine Learning Bibliothek (inkl. die bekannten TensorFlow und PyTorch) verwenden entweder direkt numpy oder haben das gleiche Interface, inklusive der Indizierungssemantik und Broadcasting.\n",
    "\n",
    "Abschließend wollen wir noch einige nützliche Numpy Funktionen vorstellen. Die Details entnehmen Sie wie immer der jeweiligen Dokumentation"
   ]
  },
  {
   "cell_type": "code",
   "execution_count": 22,
   "metadata": {},
   "outputs": [
    {
     "data": {
      "text/plain": [
       "(1.5, 1.118033988749895)"
      ]
     },
     "execution_count": 22,
     "metadata": {},
     "output_type": "execute_result"
    }
   ],
   "source": [
    "a = np.arange(20).reshape(5, 4)\n",
    "b = np.arange(4)\n",
    "\n",
    "np.dot(a, b)  # Matrix/Vektormultiplikation. Äquivalent: a.dot(b) und a @ b\n",
    "np.dot(a, a.T)  # .T ist die Transposition. Diese Syntax ist nur für zweidimensionale Arrays\n",
    "np.transpose(a, (0, 1))  # Allgemeine Transposition mit Angabe der zu tauschenden Achsen\n",
    "np.exp(b), np.sqrt(b), np.log(b + 1)  # auch möglich: b.exp() b.sqrt() (b+1).log()\n",
    "np.concatenate([b, b])\n",
    "np.stack([b, b], axis=1)  # vgl. np.stack([b, b], axis=0)\n",
    "np.sum(b), np.sum(a, axis=1)  # auch möglich: b.sum() a.sum(1)\n",
    "np.mean(b), np.std(b)  # auch möglich: b.mean(), b.std()"
   ]
  },
  {
   "cell_type": "markdown",
   "metadata": {},
   "source": [
    "### Pyplot\n",
    "\n",
    "Pyplot ist eine Bibliothek zum Zeichnen von Graphen. Sie funktioniert auch direkt mit numpy arrays:"
   ]
  },
  {
   "cell_type": "code",
   "execution_count": 28,
   "metadata": {},
   "outputs": [],
   "source": [
    "x = np.linspace(-10, 10, 201)  # Ein Array von -10 bis 10 (einschließlich) in 201 Schritten\n",
    "y = 1 / (1 + np.exp(-x))  # Die sigmoid-funktion"
   ]
  },
  {
   "cell_type": "code",
   "execution_count": 30,
   "metadata": {},
   "outputs": [
    {
     "data": {
      "image/png": "[encoded data removed]",
      "text/plain": [
       "<Figure size 432x288 with 1 Axes>"
      ]
     },
     "metadata": {
      "needs_background": "light"
     },
     "output_type": "display_data"
    }
   ],
   "source": [
    "import matplotlib.pyplot as plt\n",
    "\n",
    "plt.plot(x, y)\n",
    "plt.xlabel(\"x\")\n",
    "plt.ylabel(\"$\\\\sigma(x)$\")\n",
    "plt.show()"
   ]
  },
  {
   "cell_type": "markdown",
   "metadata": {},
   "source": [
    "Eine ausführlichere Einführung übersteigt dieses Tutorial. Falls Sie pyplot für die Aufgaben benötigen, werden wir geeignete Methoden vorschlagen."
   ]
  },
  {
   "cell_type": "code",
   "execution_count": null,
   "metadata": {},
   "outputs": [],
   "source": []
  }
 ],
 "metadata": {
  "kernelspec": {
   "display_name": "Python 3",
   "language": "python",
   "name": "python3"
  },
  "language_info": {
   "codemirror_mode": {
    "name": "ipython",
    "version": 3
   },
   "file_extension": ".py",
   "mimetype": "text/x-python",
   "name": "python",
   "nbconvert_exporter": "python",
   "pygments_lexer": "ipython3",
   "version": "3.7.4"
  }
 },
 "nbformat": 4,
 "nbformat_minor": 4
}
