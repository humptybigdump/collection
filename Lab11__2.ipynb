{
 "cells": [
  {
   "cell_type": "markdown",
   "id": "0e42763e",
   "metadata": {},
   "source": [
    "# Stochastic Simulation\n",
    "\n",
    "*Winter Semester 2023/24*\n",
    "\n",
    "09.02.2024\n",
    "\n",
    "Prof. Sebastian Krumscheid<br>\n",
    "Asstistant: Stjepan Salatovic"
   ]
  },
  {
   "cell_type": "markdown",
   "id": "5c5187ec",
   "metadata": {},
   "source": [
    "<h3 align=\"center\">\n",
    "Exercise sheet 11\n",
    "</h3>\n",
    "\n",
    "---\n",
    "\n",
    "<h1 align=\"center\">\n",
    "Markov Chains Monte Carlo\n",
    "</h1>"
   ]
  },
  {
   "cell_type": "code",
   "execution_count": 1,
   "id": "f636d6f9",
   "metadata": {},
   "outputs": [],
   "source": [
    "import matplotlib.pyplot as plt\n",
    "import numpy as np\n",
    "\n",
    "from scipy.stats import norm\n",
    "from tqdm.notebook import tqdm\n",
    "from typing import List, Tuple"
   ]
  },
  {
   "cell_type": "code",
   "execution_count": 2,
   "id": "a82b0a91-6d0f-436d-bc1e-bfc75cc60fd5",
   "metadata": {},
   "outputs": [],
   "source": [
    "plt.rc('axes', labelsize=14)     # fontsize of the x and y labels\n",
    "plt.rc('xtick', labelsize=12)    # fontsize of the tick labels\n",
    "plt.rc('ytick', labelsize=12)    # fontsize of the tick labels\n",
    "plt.rc('legend', fontsize=14)    # legend fontsize"
   ]
  },
  {
   "cell_type": "markdown",
   "id": "77d52ade-5638-4c42-87cb-4d5d7992f83d",
   "metadata": {},
   "source": [
    "## Exercise 1"
   ]
  },
  {
   "attachments": {
    "2dcc6189-de52-45c3-b911-7ecb9ce32105.png": {
     "image/png": "[encoded data removed]"
    }
   },
   "cell_type": "markdown",
   "id": "f0f2bee9-f5d8-4125-ac15-e6c0c977bffb",
   "metadata": {},
   "source": [
    "![Ising-eps-converted-to-1.png](attachment:2dcc6189-de52-45c3-b911-7ecb9ce32105.png)"
   ]
  },
  {
   "attachments": {},
   "cell_type": "markdown",
   "id": "dbe4b4ce-17c8-420a-a650-a3272bdd7c62",
   "metadata": {},
   "source": [
    "Let us consider a 2D uniform square-lattice with atoms placed at each\n",
    "vertex, as is sketched in the Figure above.\n",
    "The atoms can have an upward (red arrow) or a downward (blue\n",
    "arrow) pointing magnetic moment (so-called _spin_). Specifically,\n",
    "let the lattice be made out of $m \\times m$ atoms. Therefore the\n",
    "system's possible states are the $2^{m^2}$ possible spin choices for\n",
    "the $m^2$ atoms.  That is, the spin of the atom at position\n",
    "$(i,j)$ in the lattice is denoted with $s_{ij}$, $1\\le i,j\\le m$, and\n",
    "can take a value in $\\{-1,+1\\}$. A specific system configuration is\n",
    "described by the matrix\n",
    "$\\boldsymbol{S}=\\left( s_{ij} \\right)\\in \\{-1,+1\\}^{m\\times m}$,\n",
    "containing the spin of each of the $m^2$ atoms.\n",
    "\n",
    "The energy of a given system state of this Ising model is given by $$\\tag{1} H(\\boldsymbol{S}) = - \\sum_{i,j=1}^{m} \\left( \\frac{1}{2} J s_{ij} (s_{i-1,j} + s_{i+1,j} + s_{i,j-1} + s_{i,j+1}) + Bs_{ij}\\right)\\;,$$\n",
    "where $J$ is a magnetic coupling constant and $B$ is a constant\n",
    "describing the external magnetic field. To account for boundary\n",
    "effects, we set $s_{0,j}= s_{j,0} = s_{m+1,j} = s_{j,m+1} = 0$ for all $j \\in \\{1, \\ldots, m\\}$ in (1).\n",
    "The probability of obtaining a specific system state is then given by the\n",
    "_Boltzmann_ distribution with Probability Mass Function (PMF) $$\\tag{2} f(\\boldsymbol{S})\\equiv f_\\beta(\\boldsymbol{S}) = \\frac{1}{Z_\\beta} e^{-H(\\boldsymbol{S})\\beta}\\;,$$\n",
    "where $\\beta = 1/(k_B T)$ denotes the so-called inverse-temperature\n",
    "(or thermodynamic beta) with $k_B$ being the Boltzmann constant and\n",
    "$T$ the absolute temperature. Here, $Z_\\beta$ denotes the\n",
    "normalization constant that makes the target distribution\n",
    "$f_\\beta\\colon \\{-1,+1\\}^{m\\times m}\\to \\mathbb{R}_+$ a proper PMF.\n",
    "\n",
    "Let's denote by $M(\\boldsymbol{S}) =  \\sum_{i,j=1}^{m} s_{ij}/m^2$\n",
    "the system's average magnetic moment corresponding to the configuration\n",
    "$\\boldsymbol{S}$.\n",
    "Notice that the random realizations of the\n",
    "configuration matrix $\\boldsymbol{S}$ depend on the inverse\n",
    "temperature $\\beta$. \n",
    "The expected value of the average magnetic moment $\\overline{M}(\\beta)$\n",
    "as a function of the inverse temperature $\\beta$ thus reads $$\\tag{3}\\overline{M}(\\beta) %= \\mathbb{E }\\left[M(\\boldsymbol{S}) \\right]\n",
    "= \\sum_{\\boldsymbol{S}\\in \\mathcal{K}} M(\\boldsymbol{S}) f_\\beta(\\boldsymbol{S}) =  \\frac{1}{Z_\\beta} \\sum_{\\boldsymbol{S}\\in \\mathcal{K}} M(\\boldsymbol{S}) e^{-H(\\boldsymbol{S})\\beta} \\;,$$\n",
    "where $\\mathcal{K}=\\{-1,1  \\}^{m\\times m}$ is the set of all possible system\n",
    "configurations. Since the explicit computation of the normalization\n",
    "constant $Z_\\beta$ is computationally expensive (Explain why!), we\n",
    "rely on the Metropolis–Hastings algorithm here. That is, at each step\n",
    "a candidate configuration is proposed by randomly choosing an atom, with uniform\n",
    "probability,  and  \"flipping\" its\n",
    "spin."
   ]
  },
  {
   "cell_type": "markdown",
   "id": "8d0c3205-80cc-49cb-8d06-b04f93003fd7",
   "metadata": {},
   "source": [
    "1. Write a function that implements the Metropolis–Hastings\n",
    "\talgorithm for the Ising model. The input parameters for your\n",
    "\tfunction are: the number of steps $n$ of the chain that should be\n",
    "\tsimulated, the number of atoms $m^2$, the inverse temperature\n",
    "\t$\\beta$, the constants $J$ and $B$, and the initial state of the\n",
    "\tsystem. The function should return a list of energies and mean magnetic\n",
    "\tmoments computed for each step of the chain, as well as the final\n",
    "\tconfiguration of the system."
   ]
  },
  {
   "cell_type": "code",
   "execution_count": 3,
   "id": "15a0d090-51d9-4fe4-ad47-4101db3ce2c9",
   "metadata": {},
   "outputs": [],
   "source": [
    "def H(S: np.array, J: float, B: float) -> float:\n",
    "    \"\"\"\n",
    "    Computes the energy of a given system state `S` in the context of the Ising model.\n",
    "\n",
    "    Args:\n",
    "        S (np.array): The state of the system, represented as a 2D numpy array of spins, where each spin can be +1 or -1.\n",
    "        J (float): The magnetic coupling constant between neighboring spins.\n",
    "        B (float): The external magnetic field constant interacting with the spins.\n",
    "\n",
    "    Returns:\n",
    "        float: The total energy of the system state `S`.\n",
    "    \"\"\"\n",
    "    # TODO\n",
    "    return"
   ]
  },
  {
   "cell_type": "markdown",
   "id": "8ea75294-972a-4443-ae65-665c4d7ffe86",
   "metadata": {},
   "source": [
    "The following cell verifies the correct implementation of your `H` function. If the `assert` statement passes without raising an error, it indicates that your function behaves as expected."
   ]
  },
  {
   "cell_type": "code",
   "execution_count": null,
   "id": "7ae80fc4-79fb-4091-ba26-12f7cb0362c7",
   "metadata": {},
   "outputs": [],
   "source": [
    "# CHECKPOINT\n",
    "np.random.seed(999)\n",
    "m = 50\n",
    "random_state = np.random.choice([-1, 1], size=(m, m))\n",
    "\n",
    "assert H(random_state, J=1, B=0.25) == 52"
   ]
  },
  {
   "cell_type": "code",
   "execution_count": 5,
   "id": "e5abb321-bbb9-4f7e-b8a3-b4a0aa556b05",
   "metadata": {},
   "outputs": [],
   "source": [
    "def ising(n: int, m: int, beta: float, J: float, B: float, S0: np.array) -> Tuple[np.array, np.array, np.array]:\n",
    "    \"\"\"\n",
    "    Simulates the Ising model using the Metropolis algorithm over a square lattice.\n",
    "\n",
    "    Args:\n",
    "        n (int): The number of steps to perform.\n",
    "        m (int): The size of the lattice (m x m).\n",
    "        beta (float): The inverse temperature of the system (1/kT).\n",
    "        J (float): The magnetic coupling constant between neighboring spins.\n",
    "        B (float): The external magnetic field constant interacting with the spins.\n",
    "        S0 (np.array): The initial state of the system, a 2D numpy array of spins (m x m).\n",
    "\n",
    "    Returns:\n",
    "        - E (np.array): The energy of the system at each step.\n",
    "        - M (np.array): The magnetic moment of the system at each step.\n",
    "        - S (np.array): The final state of the system.\n",
    "    \"\"\"\n",
    "    # TODO\n",
    "    return"
   ]
  },
  {
   "cell_type": "markdown",
   "id": "41e7c189-d6fe-41dd-a940-fcedde81489e",
   "metadata": {},
   "source": [
    "2. Use your function with $\\beta=1/3$ and for $n$, such that both the energy and the average magnetic moment appear to have reached stationarity. \n",
    "\tPlot also the final system configuration.\n",
    "\tFurthermore, compute the mean magnetic moment $\\overline{M}(\\beta)$\n",
    "\tfor different values of $\\beta\\in [\\frac{1}{3},1]$ and\n",
    "\t$n=5\\cdot 10^6$.  Choose a lattice of $50 \\times 50$ atoms, $J=1$,\n",
    "\tand $B>0$, say $B = 10^{-1}$, for all simulations.\n",
    "\n",
    "    **Hint:** For plotting a system state, have a look at the [`plt.spy()`](https://matplotlib.org/stable/api/_as_gen/matplotlib.pyplot.spy.html) function."
   ]
  },
  {
   "cell_type": "markdown",
   "id": "75380b4e-b200-47b0-876c-1204ef1ddd24",
   "metadata": {},
   "source": [
    "## Exercise 2\n",
    "\n",
    "Recall that the standard Metropolis–Hastings algorithm accepts a new candidate state $j$ drawn from the transition matrix $Q$, given the current state $i$, with probability $\\alpha(i,j)=\\min \\left(\\frac{\\pi_j Q_{ji}}{\\pi_i Q_{ij}},1\\right)$, where $\\pi$ is the target probability measure.\n",
    "Consider now a Metropolis-Hastings algorithm that uses the follwing alternative acceptance probabilities $$\\alpha_1(i,j)=\\frac{\\pi_j Q_{ji}}{\\pi_jQ_{ji}+\\pi_iQ_{ij}},$$ and $$\\alpha_2(i,j)=\\frac{\\delta_{ij}}{\\pi_i Q_{ij}},$$ with $\\delta$ such that $\\delta_{ij} \\leq \\pi_i Q_{ij} \\forall i,j$. \n",
    "Show that, in both cases, the produced Markov chain satisfies the detailed balance condition."
   ]
  },
  {
   "cell_type": "markdown",
   "id": "5fd0af65-5d98-402b-a9ac-864be4af091b",
   "metadata": {},
   "source": [
    "## Exercise 3 (Optional)\n",
    "Consider the following AR(k) model defined by $$\\mathbf{y}_n = A \\mathbf{ y}_{n-1} +\\mathbf{ \\xi}_n, \\quad \\mathbf{ \\xi}_n\\overset{\\text{iid}}{\\sim} \\mathcal{N}(0,\\Gamma), \\ \\ \\mathbf{ \\xi}_n\\in\\mathbb{R}^k,$$ with $ A\\in \\mathbb{R}^{k\\times k}$, invertible and $\\Gamma\\in \\mathbb{R}^{k\\times k} $ full rank."
   ]
  },
  {
   "cell_type": "markdown",
   "id": "39c85589-e8fd-4b10-81eb-69541f4ba8f9",
   "metadata": {},
   "source": [
    "1. Show that the previous process is a Markov chain."
   ]
  },
  {
   "cell_type": "markdown",
   "id": "2b302dd7-6f6f-4d84-9c28-f80674e649ee",
   "metadata": {},
   "source": [
    "2. Show that if $\\mathbf{ y}_0 \\sim \\mathcal{N}(0,\\Gamma_0)$, then $\\mathbf{y}_n$ follows  a multivariate Gaussian distribution for all $n$. "
   ]
  },
  {
   "cell_type": "markdown",
   "id": "b3aa714a-3ee9-4259-9e43-953007bdea6a",
   "metadata": {},
   "source": [
    "3. Find the invariant distribution of an AR(1) process (i.e., a special case of the previous model). "
   ]
  },
  {
   "cell_type": "markdown",
   "id": "30730f46-9b96-4aff-97b8-7ed161c25679",
   "metadata": {},
   "source": [
    "4. Simulate the AR(1) process with $a = 0.8, \\gamma = 0.2, \\gamma_0 = 2$ and assess its convergence to the invariant distribution. In addition, verify the ergodic theorem on the quantity  $$\\hat \\mu^N=\\frac{1}{N}\\sum_{n=1}^{N}y_n.$$ "
   ]
  },
  {
   "cell_type": "code",
   "execution_count": 6,
   "id": "d2ed750c-f557-4e04-8dc8-5b5826606a24",
   "metadata": {},
   "outputs": [],
   "source": [
    "def AR_1(a: float, gamma: float, gamma0: float, n: int, n_samples: int) -> np.array:\n",
    "    \"\"\"\n",
    "    Generates samples from an autoregressive process of order 1 (AR(1)).\n",
    "\n",
    "    Args:\n",
    "        a (float): The autoregressive coefficient.\n",
    "        gamma (float): The variance of the innovation process.\n",
    "        gamma0 (float): The variance of the initial observation.\n",
    "        n (int): The number of time steps in the AR(1) process.\n",
    "        n_samples (int): The number of independent AR(1) processes to simulate.\n",
    "\n",
    "    Returns:\n",
    "        np.array: A two-dimensional numpy array where each row represents one AR(1) process,\n",
    "                  and each column represents a time step.\n",
    "    \"\"\"\n",
    "    # TODO\n",
    "    return"
   ]
  },
  {
   "cell_type": "markdown",
   "id": "1b8b2f65-953d-446b-8900-4daf4e4f77f9",
   "metadata": {},
   "source": [
    "5. Establish theoretically the convergence of $\\hat \\mu ^N$ by using the strong law of large numbers, and a weighted version of the central limit theorem (e.g. Lindeberg-Feller)."
   ]
  }
 ],
 "metadata": {
  "kernelspec": {
   "display_name": "Python 3 (ipykernel)",
   "language": "python",
   "name": "python3"
  },
  "language_info": {
   "codemirror_mode": {
    "name": "ipython",
    "version": 3
   },
   "file_extension": ".py",
   "mimetype": "text/x-python",
   "name": "python",
   "nbconvert_exporter": "python",
   "pygments_lexer": "ipython3",
   "version": "3.10.12"
  },
  "widgets": {
   "application/vnd.jupyter.widget-state+json": {
    "state": {},
    "version_major": 2,
    "version_minor": 0
   }
  }
 },
 "nbformat": 4,
 "nbformat_minor": 5
}
