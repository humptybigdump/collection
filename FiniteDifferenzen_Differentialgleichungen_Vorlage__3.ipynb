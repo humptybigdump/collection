{
 "cells": [
  {
   "cell_type": "markdown",
   "metadata": {},
   "source": [
    "# Finite Differenzen zur Lösung partieller Differentialgleichungen "
   ]
  },
  {
   "cell_type": "code",
   "execution_count": 1,
   "metadata": {},
   "outputs": [],
   "source": [
    "# wie immer, lass uns einige wichtige Module importieren\n",
    "import numpy as np\n",
    "from matplotlib import pyplot as plt\n",
    "from matplotlib import ticker as mtick"
   ]
  },
  {
   "cell_type": "markdown",
   "metadata": {},
   "source": [
    "---"
   ]
  },
  {
   "cell_type": "markdown",
   "metadata": {},
   "source": [
    "## Aufgabe 5.1\n",
    "\n",
    "Betrachten Sie einen Eisenstab der Länge $L=1$m und Temperaturleitfähigkeit $k = \\frac{\\lambda}{\\rho c_p} = 22,8\\cdot 10^{-6}\\mathrm{m^2/s}$, wessen Ende ($x=0$) befestigt ist und bei konstanter Temperatur $T_L = 373$K gehalten wird. Das freie Ende ($x=L$) gibt der Umgebung einen Wärmestrom $q_R = - \\lambda \\frac{\\mathrm{d} T}{\\mathrm{d} x} = 100 \\mathrm{W/m^2}$ ab, wobei $\\lambda = 81 \\mathrm{\\frac{W}{m\\,K}}$ die Wärmeleitfähigkeit und $c_p = 0,425 \\mathrm{\\frac{kJ}{kg\\,K}}$ die spezifische massenbezogene Wärmekapazität vom Eisen sind. Die Temperaturverteilung $T(x)$ im Stab wird von der folgenden eindimensionalen stationären Wärmeleitungsgleichung bestimmt:\n",
    "\n",
    "\\begin{equation}\n",
    "    k T_{/xx} + s(x) = 0 \\, .                        \\qquad\\qquad\\qquad\\text{(1)}\n",
    "    \\label{eq:diff}\n",
    "\\end{equation}\n",
    "\n",
    "Grundgleichung (1) ist eine lineare Diffusionsgleichung elliptisches Charakters. Eine Heizquelle $s(x) = 10^{-3} \\sin(x \\pi/L )\\, K/s$ befindet sich in der Mitte des Stabs und heizt diesen zusätzlich. Diskretisieren Sie die Gleichung (1) mit finiten Differenzen zweiter Ordnung auf einem äquidistanten Gitter mit $n=50$ Punkten und lösen Sie diese mit den gegebenen Randbedingungen."
   ]
  },
  {
   "cell_type": "code",
   "execution_count": 2,
   "metadata": {},
   "outputs": [],
   "source": [
    "##########\n",
    "# INPUTS #\n",
    "##########\n",
    "\n",
    "N =             # [-] Anzahl von Knoten\n",
    "L =             # [m] Länge des Gebiets\n",
    "\n",
    "kappa =         # [m^2/s] Temperaturleitfähigkeit\n",
    "lam =           # [W/mK] Wärmeleitfähigkeit\n",
    "qR =            # [W/m^2] Wärmestrom am linken Rand\n",
    "TL =            # [K] Temperatur am rechten Rand"
   ]
  },
  {
   "cell_type": "markdown",
   "metadata": {},
   "source": [
    "Zuerst können wir das Lösungsgebiet diskretisieren und den diskreten Quellterm berechnen"
   ]
  },
  {
   "cell_type": "code",
   "execution_count": 26,
   "metadata": {},
   "outputs": [],
   "source": [
    "       # [m] Auflösung\n",
    "       # Gitter (Vektor der Koordinaten)\n",
    "       # Amplitude der Quelle\n",
    "       # Quellterm (Vektor des lokalen Quellterms)"
   ]
  },
  {
   "cell_type": "markdown",
   "metadata": {},
   "source": [
    "Die diskretisierte Gleichnug (1) kann in Matrix/Vektor Form wie folgt umgeschrieben werden:\n",
    "\n",
    "\\begin{equation}\n",
    "   \\mathsf{D_2} \\mathbf{T} = - \\mathbf{s}/k  \\, ,                        \\qquad\\qquad\\qquad\\text{(2)}\n",
    "\\end{equation}\n",
    "\n",
    "wobei $\\mathsf{D_2}$ die Matrix der zweiten Ableitung dastellt, während $\\mathbf{T}$ der Vektoren der unbekannten Temperaturwerte und $\\mathbf{s}$  der Vektor des bekannten Quellterms ist. Die entsprechende Zeilen des Gleichungssystems (2) sollen durch die diskrete Form der Randbedingungen an den Rändern ersetzt werden. Das so modifizierte Gleichungssystem, welches auch die Randbedingungen beinhaltet kann wie folgt geschrieben werden:\n",
    "\n",
    "\\begin{equation}\n",
    "   \\mathsf{A} \\mathbf{T} = \\mathbf{b}  \\, ,                        \\qquad\\qquad\\qquad\\text{(3)}\n",
    "\\end{equation}\n",
    "\n",
    "wobei $\\mathsf{A}$ die Systemmatrix ist und $\\mathbf{b}$ der Vekrot der bekannten rechten Seite. Im Folgenden berechnen wir $\\mathsf{A}$ und  $\\mathbf{b}$ für das gegebene Problem."
   ]
  },
  {
   "cell_type": "code",
   "execution_count": 27,
   "metadata": {
    "scrolled": false
   },
   "outputs": [
    {
     "data": {
      "image/png": "[encoded data removed]",
      "text/plain": [
       "<Figure size 432x288 with 1 Axes>"
      ]
     },
     "metadata": {
      "needs_background": "light"
     },
     "output_type": "display_data"
    }
   ],
   "source": [
    "# Wir definieren zuerst die Matrix A als Matrix D2\n",
    "# und den Vektor b als -s/k. Wir setzten die Randbedingungen \n",
    "# in einem zweiten Moment. \n",
    "\n",
    "\n",
    "# Dirichlet Randbedingung links (erste Zeile des Gleichgunssystems)\n",
    "\n",
    "\n",
    "# Neumann Randbedingung am rechten Rand (letzte Zeile des Gleichungssystems)\n",
    "# vorgegebener Wärmestrom qR = - lambda*dT/dx, also\n",
    "# dT/dx = -qR / lambda\n",
    "\n",
    "\n",
    "# Wir können die Struktur der Matrix A darstellen\n"
   ]
  },
  {
   "cell_type": "markdown",
   "metadata": {},
   "source": [
    "Wir können jetzt das Gleichungssystem mit np.linalg.solve lösen."
   ]
  },
  {
   "cell_type": "code",
   "execution_count": 28,
   "metadata": {},
   "outputs": [],
   "source": []
  },
  {
   "cell_type": "markdown",
   "metadata": {},
   "source": [
    "Stellen sie das Ergebnis in einem Diagramm dar. "
   ]
  },
  {
   "cell_type": "code",
   "execution_count": 29,
   "metadata": {
    "scrolled": true
   },
   "outputs": [
    {
     "data": {
      "image/png": "[encoded data removed]",
      "text/plain": [
       "<Figure size 432x288 with 1 Axes>"
      ]
     },
     "metadata": {
      "needs_background": "light"
     },
     "output_type": "display_data"
    }
   ],
   "source": [
    "# Darstellung der Lösung\n"
   ]
  },
  {
   "cell_type": "markdown",
   "metadata": {},
   "source": [
    "Berechnen Sie die analytische Lösung von Gleichung (1)..."
   ]
  },
  {
   "cell_type": "code",
   "execution_count": null,
   "metadata": {},
   "outputs": [],
   "source": []
  },
  {
   "cell_type": "markdown",
   "metadata": {},
   "source": [
    "...  und vergleichen Sie diese mit Ihrem numerischem Ergebnis. "
   ]
  },
  {
   "cell_type": "code",
   "execution_count": null,
   "metadata": {},
   "outputs": [],
   "source": []
  },
  {
   "cell_type": "markdown",
   "metadata": {},
   "source": [
    "---"
   ]
  },
  {
   "cell_type": "markdown",
   "metadata": {},
   "source": [
    "## Aufgabe 5.1"
   ]
  },
  {
   "cell_type": "markdown",
   "metadata": {},
   "source": [
    "Ändern wir nun das betrachtete Randwertproblem. Der Stab wird durch ein mit Fluid gefülltem Rohr der Länge $L$ ersetzt. Das Fluid im Rohr, im Gegensatz zu einem Festkörper, kann strömen, so dass der Wärmetransport im Rohr sowohl durch die Temperaturleitfähigkeit $k$ (Diffusion von Wärme) als auch durch die Bewegung vom Fluid selbst (Konvektion) erfolgen kann. Für den Einlass und Auslass des Rohres werden der Einfachheit halber Dirichlet-Randbedingungen verwendet. Keine Wärmequelle ist vorhanden. Das vollständige Problem lautet wie folgt:  \n",
    "\n",
    "\\begin{equation}\n",
    "    U T_{/x} - k T_{/xx} = 0 \\, ,                      \\qquad\\qquad\\qquad\\text{(3)}\n",
    "    \\label{eq:advdiff}\n",
    "\\end{equation}\n",
    "\n",
    "wobei $U$ eine Konvektionsgeschwindigkeit ist. Die Gleichung (3) kann wie folgt auch in dimensionsloser Form umgeschrieben werden, in dem Sie diese Mal den Faktor $L^2/(k \\overline{T})$ multiplizieren, wobei $\\overline{T}$ eine charakteristische Temperatur ist: \n",
    "\n",
    "\\begin{equation}\n",
    "    Pe T^\\ast_{/x^\\ast} - T^\\ast_{/x^\\ast x^\\ast} = 0 \\, .                      \\qquad\\qquad\\qquad\\text{(4)}\n",
    "    \\label{eq:advdiffnondim}\n",
    "\\end{equation}\n",
    "\n",
    "In Gleichung (4) ist $Pe = U L / \\kappa$ die Peclet-Zahl, welche das Verhältnis des konvektiven und diffusiven Transports darstellt, während $T^\\ast$ und $x^\\ast$ die dimensionslose Temperatur und Koordinate sind. \n",
    "\n",
    "\n",
    "Diskretisieren Sie die Gleichung (4) mit zentralen finiten Differenzen zweiter Ordnung. Die dimensionslose Temperatur am linken und rechten Rand ist $T^\\ast_L=0$ und $T^\\ast_L=10$. Setzten Sie eine Peclet-Zahl von $Pe=50$. Diskretisieren Sie das Lösungsgebiet der dimensionslose Länge $L^\\ast=1$ in $N=10,25,30,50$ Punkten. Lösen Sie die diskrete partielle Differentialgleichung und vergleichen Sie das Ergebnis mit der analytischen Lösung\n",
    "\n",
    "\\begin{equation}\n",
    "        T^\\ast(x^\\ast) = T^\\ast_L + \\frac{\\exp(Pe\\, x^\\ast)-1}{\\exp(Pe) - 1}(T^\\ast_R - T^\\ast_L) \\, . \\qquad\\qquad\\qquad\\text{(5)}\n",
    "\\end{equation}\n",
    "    \n",
    "Erhalten Sie immer ein sinnvolles Ergebnis? "
   ]
  },
  {
   "cell_type": "code",
   "execution_count": null,
   "metadata": {},
   "outputs": [],
   "source": [
    "#################\n",
    "# USER SETTINGS #\n",
    "#################\n",
    "\n",
    "# [-] number of nodes\n",
    "\n",
    "# [-] Peclet number\n",
    "# [K] temperature at the end of the beam\n",
    "# [K] temperature at the root of the beam"
   ]
  },
  {
   "cell_type": "code",
   "execution_count": null,
   "metadata": {},
   "outputs": [],
   "source": [
    " # [m] grid resolution\n"
   ]
  },
  {
   "cell_type": "markdown",
   "metadata": {},
   "source": [
    "Die diskretisierte Gleichnug (4) kann in Matrix/Vektor Form wie folgt umgeschrieben werden:\n",
    "\n",
    "\\begin{equation}\n",
    "   Pe\\mathsf{D_1} \\mathbf{T} - \\mathsf{D_2} \\mathbf{T} =  \\mathbf{0}  \\, ,                        \\qquad\\qquad\\qquad\\text{(6)}\n",
    "\\end{equation}\n",
    "\n",
    "also auch \n",
    "\n",
    "\\begin{equation}\n",
    "   (Pe\\mathsf{D_1} - \\mathsf{D_2}) \\mathbf{T} =  \\mathbf{0}  \\, ,                        \\qquad\\qquad\\qquad\\text{(6)}\n",
    "\\end{equation}\n",
    "\n",
    "Die entsprechende Zeilen des Gleichungssystems (6) sollen durch die diskrete Form der Randbedingungen an den Rändern ersetzt werden. Das so modifizierte Gleichungssystem, welches auch die Randbedingungen beinhaltet kann wie folgt geschrieben werden:\n",
    "\n",
    "\\begin{equation}\n",
    "   \\mathsf{A} \\mathbf{T} = \\mathbf{b}  \\, ,                        \\qquad\\qquad\\qquad\\text{(3)}\n",
    "\\end{equation}\n",
    "\n",
    "wobei $\\mathsf{A}$ die Systemmatrix ist und $\\mathbf{b}$ der Vekrot der bekannten rechten Seite. Im Folgenden berechnen wir $\\mathsf{A}$ und  $\\mathbf{b}$ für das gegebene Problem."
   ]
  },
  {
   "cell_type": "code",
   "execution_count": null,
   "metadata": {},
   "outputs": [],
   "source": [
    "# Wir definieren A\n",
    "# zuerst mit dem konvektiven Term \n",
    "\n",
    "# und dann mit dem diffusivem\n",
    "\n",
    "\n",
    "# Wir deklarieren b\n",
    "\n",
    "\n",
    "# Randbedingungen\n",
    "\n",
    "\n",
    "# Wir können die Struktur der Matrix A darstellen\n"
   ]
  },
  {
   "cell_type": "markdown",
   "metadata": {},
   "source": [
    "Endlich können wir das Gleichungssystem lösen, die analytische Lösung berechnen...."
   ]
  },
  {
   "cell_type": "code",
   "execution_count": null,
   "metadata": {},
   "outputs": [],
   "source": []
  },
  {
   "cell_type": "markdown",
   "metadata": {},
   "source": [
    "...und das Ergebnis darstellen"
   ]
  },
  {
   "cell_type": "code",
   "execution_count": null,
   "metadata": {
    "scrolled": true
   },
   "outputs": [],
   "source": []
  },
  {
   "cell_type": "markdown",
   "metadata": {},
   "source": [
    "In der Definition der P\\'eclet-Zahl kann auch die Giterweite $\\Delta x$ als bezugslänge verwendet werden. In diesem Fall handelt es sich um die numerische P\\'eclet Zahl $Pe_\\Delta = U \\delta x / k$. Diese Zahl ist ausschlaggebend für die Stabilität des numerischen Verfahrens. Überprüfen Sie, dass ein sinnvolles Ergebnis mit dem aktuellen numerischen Verfahren nur für $Pe_\\Delta<2$ erreicht wird. "
   ]
  },
  {
   "cell_type": "code",
   "execution_count": null,
   "metadata": {},
   "outputs": [],
   "source": []
  },
  {
   "cell_type": "markdown",
   "metadata": {},
   "source": [
    "Ersetzten Sie in der Diskretisierung des Konvektionsterms die zentrale Differenz zweiter Ordnung mit einer asymmetrischen Differenz erster Ordnung, welche die Richtung der Konvektion berücksichtigt. So werden beispielsweise Rückwärtsdifferenzen verwenden, wenn die Konvektionsgeschwindigkeit $U$ positiv ist. Ein solches Verfahren ist Aufwind (engl. Upwind) benannt. Lösen Sie die Differentialgleichung mit dem neuen Verfahren für die Parameters des Aufgabenteils a). Erhalten Sie immer ein sinnvolles Ergebnis?"
   ]
  },
  {
   "cell_type": "code",
   "execution_count": null,
   "metadata": {},
   "outputs": [],
   "source": [
    "# Wir definieren A\n",
    "# zuerst mit dem konvektiven Term \n",
    "\n",
    "# und dann mit dem diffusivem\n",
    "\n",
    "\n",
    "# Wir deklarieren b\n",
    "\n",
    "\n",
    "# Randbedingungen\n",
    "\n",
    "\n",
    "# Wir können die Struktur der Matrix A darstellen\n",
    "\n"
   ]
  },
  {
   "cell_type": "markdown",
   "metadata": {},
   "source": [
    "Wir könne jetzt das Gleichungssystem lösen"
   ]
  },
  {
   "cell_type": "code",
   "execution_count": null,
   "metadata": {},
   "outputs": [],
   "source": [
    "\n"
   ]
  },
  {
   "cell_type": "markdown",
   "metadata": {},
   "source": [
    "und das Ergebnis plotten"
   ]
  },
  {
   "cell_type": "code",
   "execution_count": null,
   "metadata": {},
   "outputs": [],
   "source": [
    "\n"
   ]
  }
 ],
 "metadata": {
  "kernelspec": {
   "display_name": "Python 3",
   "language": "python",
   "name": "python3"
  },
  "language_info": {
   "codemirror_mode": {
    "name": "ipython",
    "version": 3
   },
   "file_extension": ".py",
   "mimetype": "text/x-python",
   "name": "python",
   "nbconvert_exporter": "python",
   "pygments_lexer": "ipython3",
   "version": "3.8.5"
  }
 },
 "nbformat": 4,
 "nbformat_minor": 4
}
