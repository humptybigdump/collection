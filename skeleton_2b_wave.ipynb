{
 "cells": [
  {
   "cell_type": "code",
   "execution_count": null,
   "metadata": {},
   "outputs": [],
   "source": [
    "import numpy as np\n",
    "import matplotlib.pyplot as plt\n",
    "from matplotlib.animation import FuncAnimation\n",
    "from itertools import product as nested\n",
    "\n",
    "from mpl_toolkits.axes_grid1 import make_axes_locatable # utility for adjusting the axes\n",
    "\n",
    "%matplotlib notebook"
   ]
  },
  {
   "cell_type": "markdown",
   "metadata": {},
   "source": [
    "We can reuse some functionality from mesh_utils, even though we don't need to convert the solution field to a vector since we don't want to solve an equation system.\n",
    "\n",
    "Import our custom mesh:"
   ]
  },
  {
   "cell_type": "code",
   "execution_count": null,
   "metadata": {},
   "outputs": [],
   "source": [
    "from mesh_utils import rectangular_mesh # import class rectangular_mesh from custom module mesh_utils"
   ]
  },
  {
   "cell_type": "markdown",
   "metadata": {},
   "source": [
    "## User settings"
   ]
  },
  {
   "cell_type": "code",
   "execution_count": null,
   "metadata": {},
   "outputs": [],
   "source": [
    "n = 50; l = 10 # number of points and length of side of domain (it's square)\n",
    "\n",
    "c = 1 # wave propagation speed\n",
    "\n",
    "radius = l/8 # radius of area where disturbance is applied\n",
    "\n",
    "CFL_max = 0.99 # used to calculate time step\n",
    "\n",
    "t_frame = 5 # time delay between each frame in ms"
   ]
  },
  {
   "cell_type": "markdown",
   "metadata": {},
   "source": [
    "## Actual code"
   ]
  },
  {
   "cell_type": "code",
   "execution_count": null,
   "metadata": {},
   "outputs": [],
   "source": [
    "# allocation:\n",
    "# newly calculated field, field at current time step, field at previous time step, right hand side\n",
    "u_new, u_curr, u_old, rhs = [np.zeros((n,n)) for i in range(4)]"
   ]
  },
  {
   "cell_type": "code",
   "execution_count": null,
   "metadata": {},
   "outputs": [],
   "source": [
    "# calculate mesh and time step\n",
    "m = rectangular_mesh(...)\n",
    "dt = #"
   ]
  },
  {
   "cell_type": "code",
   "execution_count": null,
   "metadata": {},
   "outputs": [],
   "source": [
    "# apply disturbance\n",
    "# ..."
   ]
  },
  {
   "cell_type": "markdown",
   "metadata": {},
   "source": [
    "Let's define a function that calculates right hand side:\n",
    "$$ R(u) = c^2 \\left( \\dfrac{d^2u}{dx^2} + \\dfrac{d^2u}{dy^2} \\right) $$\n"
   ]
  },
  {
   "cell_type": "code",
   "execution_count": null,
   "metadata": {},
   "outputs": [],
   "source": [
    "def get_rhs():\n",
    "    # if you want to replace rhs, i.e. rhs = your_expression, then you need to do\n",
    "    # global rhs \n",
    "    # if you only replace individual values, i.e. rhs[i, j] = your_expression, this is not necessary.\n",
    "    \n",
    "    # ..."
   ]
  },
  {
   "cell_type": "markdown",
   "metadata": {},
   "source": [
    "Let's also have a function applying the boundary condition on `u_new`:"
   ]
  },
  {
   "cell_type": "code",
   "execution_count": null,
   "metadata": {},
   "outputs": [],
   "source": [
    "def set_boundary_condition():\n",
    "    \n",
    "    # see also comment in get_rhs regarding the necessity of \"global u_new\"\n",
    "    \n",
    "    # ..."
   ]
  },
  {
   "cell_type": "code",
   "execution_count": null,
   "metadata": {},
   "outputs": [],
   "source": [
    "# let us now initialise animation\n",
    "fig = plt.figure()\n",
    "ax = fig.add_subplot(111, aspect='equal')\n",
    "canvas = ax.pcolormesh(m.y, m.x, u_curr, shading='gouraud', cmap='Spectral', vmin = -3*radius, vmax = 3*radius)\n",
    "axes_divider = make_axes_locatable(ax)\n",
    "color_axis = axes_divider.append_axes(\"right\", size=\"5%\", pad=0.1)\n",
    "cbar = plt.colorbar(canvas, cax=color_axis)"
   ]
  },
  {
   "cell_type": "markdown",
   "metadata": {},
   "source": [
    "Usual time step function:"
   ]
  },
  {
   "cell_type": "code",
   "execution_count": null,
   "metadata": {},
   "outputs": [],
   "source": [
    "def time_step(ii):\n",
    "    \n",
    "    global rhs, u_new, u_curr, u_old\n",
    "    \n",
    "    # calculate right hand side\n",
    "    \n",
    "    # calculate new field\n",
    "    \n",
    "    # apply boundary condition\n",
    "    \n",
    "    # Switching the references to the arrays. Only the references to the arrays are copied, not the arrays themselves!\n",
    "    u_old, u_curr, u_new = u_curr, u_new, u_old\n",
    "    # update the plot\n",
    "    canvas.set_array(u_curr.ravel()) # this function wants a 1d array, so remember to ravel\n",
    "\n",
    "    # return\n",
    "    return canvas"
   ]
  },
  {
   "cell_type": "code",
   "execution_count": null,
   "metadata": {},
   "outputs": [],
   "source": [
    "# finally, animate!\n",
    "animation = FuncAnimation(fig, func=time_step, interval=t_frame)\n",
    "plt.show()"
   ]
  }
 ],
 "metadata": {
  "kernelspec": {
   "display_name": "Python 3 (ipykernel)",
   "language": "python",
   "name": "python3"
  },
  "language_info": {
   "codemirror_mode": {
    "name": "ipython",
    "version": 3
   },
   "file_extension": ".py",
   "mimetype": "text/x-python",
   "name": "python",
   "nbconvert_exporter": "python",
   "pygments_lexer": "ipython3",
   "version": "3.10.6"
  }
 },
 "nbformat": 4,
 "nbformat_minor": 4
}
