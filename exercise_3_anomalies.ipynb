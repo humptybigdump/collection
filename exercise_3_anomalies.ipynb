{
  "metadata": {
    "kernelspec": {
      "name": "python",
      "display_name": "Python (Pyodide)",
      "language": "python"
    },
    "language_info": {
      "codemirror_mode": {
        "name": "python",
        "version": 3
      },
      "file_extension": ".py",
      "mimetype": "text/x-python",
      "name": "python",
      "nbconvert_exporter": "python",
      "pygments_lexer": "ipython3",
      "version": "3.8"
    }
  },
  "nbformat_minor": 5,
  "nbformat": 4,
  "cells": [
    {
      "id": "491546f1-9d41-42a0-9e9b-ce6d053bd3e9",
      "cell_type": "markdown",
      "source": "# Satellite Climatology: Remote Sensing of a Changing Climate: Exercises - 3\n## Anomaly analyses\n\nOlimpia Bruno, contact: olimpia.bruno@kit.edu",
      "metadata": {}
    },
    {
      "id": "27063d9c-4919-4131-9837-4ca392042e32",
      "cell_type": "markdown",
      "source": "Tasks:\n1. Find a way to calculate the seasonal cycle (monthly means) of the data (for each pixel at once)\n2. Use the seasonal cycle to calculate anomalies from this \"climatological seasonal cycle\"\n3. Standardize the anomalies to z scores (transformation into standard deviations from mean) to get a quantification of how large the anomalies are with respect to the distribution. Use the following equation for this:  $$z = (x - u) / s$$ where $u$ is the mean of the samples, and $s$ is the standard deviation of the samples.\n4. Analyze the derived standardized anomalies for an interesting period: El nino (last one 2015), a specific heat wave/drought (e.g. summer 2003 in Europe) or other extreme/interesting event you may be interested in. \n",
      "metadata": {}
    },
    {
      "id": "a892bc5f-c4a0-4897-82a7-862869b9b548",
      "cell_type": "code",
      "source": "# import relevant modules first\nimport xarray as xr\nimport matplotlib.pyplot as plt\nimport cartopy.crs as ccrs\n\n# define the path to the data\ndataDir = \"../data/\"\n\n# open the data\nds = xr.open_dataset(dataDir+\"2001_2020_modis_monthly_l3_teaching.nc\", engine=\"netcdf4\")",
      "metadata": {
        "tags": []
      },
      "outputs": [],
      "execution_count": 1
    }
  ]
}