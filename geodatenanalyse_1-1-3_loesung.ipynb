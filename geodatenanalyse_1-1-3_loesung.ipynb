{
 "cells": [
  {
   "cell_type": "markdown",
   "metadata": {},
   "source": [
    "# Geodatenanalyse 1\n",
    "\n",
    "## Tag 1 / Block 1 - Lösung zur Übung 3"
   ]
  },
  {
   "cell_type": "markdown",
   "metadata": {},
   "source": [
    "### Aufgabe 1\n",
    "#### Daten zu einer Person\n",
    "- Erstelle ein Dictionary mit Informationen über einen Freund oder Freundin. Speichere darin den Vornamen, Nachnamen und Alter der Person. Gebe jede dieser Informationen einzeln aus. \n",
    "- Füge den Wohnort als weitere Information hinzu."
   ]
  },
  {
   "cell_type": "code",
   "execution_count": 9,
   "metadata": {},
   "outputs": [
    {
     "name": "stdout",
     "output_type": "stream",
     "text": [
      "Donald\n",
      "Duck\n",
      "76\n"
     ]
    }
   ],
   "source": [
    "person = {\"Vorname\": \"Donald\",\n",
    "          \"Nachname\": \"Duck\", \n",
    "          \"Alter\": 76}\n",
    "\n",
    "print(person[\"Vorname\"])\n",
    "print(person[\"Nachname\"])\n",
    "print(person[\"Alter\"])"
   ]
  },
  {
   "cell_type": "code",
   "execution_count": 7,
   "metadata": {},
   "outputs": [
    {
     "data": {
      "text/plain": [
       "{'Vorname': 'Donald',\n",
       " 'Nachname': 'Duck',\n",
       " 'Alter': 76,\n",
       " 'Wohnort': 'Entenhausen'}"
      ]
     },
     "execution_count": 7,
     "metadata": {},
     "output_type": "execute_result"
    }
   ],
   "source": [
    "person[\"Wohnort\"] = \"Entenhausen\"\n",
    "person"
   ]
  },
  {
   "cell_type": "markdown",
   "metadata": {},
   "source": [
    "### Aufgabe 2\n",
    "#### Bedingte Tests und Anweisungen\n",
    "Schreibe mindestens 6 verschiedene bedingte Tests. Dabei sollten folgende Kriterien erfüllt werden:\n",
    "- mindestens 3 *True* und 3 *False* Bedingungen\n",
    "- mindestens eine Test der mehrere Bedingungen enthält\n",
    "- mindestens ein Test mithilfe einer Liste\n",
    "- mindestens ein Test dem eine Anweisung folgt (if-else)\n",
    "\n",
    "Die verschiedenen Kritieren können natürlich auch miteinander verknüpft werden."
   ]
  },
  {
   "cell_type": "code",
   "execution_count": null,
   "metadata": {},
   "outputs": [],
   "source": [
    "# Siehe Vorlesung"
   ]
  },
  {
   "cell_type": "markdown",
   "metadata": {},
   "source": [
    "### Aufgabe 3\n",
    "#### 3.1 Benutzereingabe\n",
    "- Schreibe ein kurzes Programm das den Benutzer nach seiner Lieblingsfarbe fragt. Entspricht die Antwort deiner eigenen Lieblingsfarbe, gebe eine entsprechende Nachricht aus. Andernfalls melde dem Benutzer seine Farbe zurück.\n",
    "- Frage den Benutzer nach einer Zahl. Melde dem Benutzer zurück, ob seine Zahl durch 2 teilbar ist.\n"
   ]
  },
  {
   "cell_type": "code",
   "execution_count": 14,
   "metadata": {},
   "outputs": [
    {
     "name": "stdout",
     "output_type": "stream",
     "text": [
      "Was ist deine Lieblingsfarbe? Grün\n",
      "Grün\n",
      "\n",
      "Wow, das ist auch meine Lieblingsfarbe!!\n"
     ]
    }
   ],
   "source": [
    "# Lieblingsfarbe\n",
    "color = input(\"Was ist deine Lieblingsfarbe? \")\n",
    "print(color)\n",
    "if color.lower() == \"grün\":\n",
    "    print(\"\\nWow, das ist auch meine Lieblingsfarbe!!\")\n",
    "else:\n",
    "    print(\"\\nDeine Lieblingsfarbe ist also \", color)"
   ]
  },
  {
   "cell_type": "code",
   "execution_count": 18,
   "metadata": {},
   "outputs": [
    {
     "name": "stdout",
     "output_type": "stream",
     "text": [
      "Nenne mir eine Zahl! 16\n",
      "Deine Zahl lässt sich durch 2 teilen!\n"
     ]
    }
   ],
   "source": [
    "# Durch zwei teilbar\n",
    "number = eval(input(\"Nenne mir eine Zahl! \"))\n",
    "if number % 2 == 0:\n",
    "    print(\"Deine Zahl lässt sich durch 2 teilen!\")\n",
    "else:\n",
    "    print(\"Deine Zahl lässt sich nicht durch 2 teilen!\")"
   ]
  },
  {
   "cell_type": "markdown",
   "metadata": {},
   "source": [
    "#### 3.2. While Schleife\n",
    "Frage den Benutzer dieses Mal so lange nach einer neuen Zahl, bis dieser eine Zahl nennt die durch 3 teilbar ist. Passe dafür die Lösung aus der vorherigen Aufgabe an und nutze eine Schleife."
   ]
  },
  {
   "cell_type": "code",
   "execution_count": 23,
   "metadata": {},
   "outputs": [
    {
     "name": "stdout",
     "output_type": "stream",
     "text": [
      "Nenne mir eine Zahl! 4\n",
      "Deine Zahl lässt sich nicht durch 3 teilen!\n",
      "Nenne mir eine Zahl! 3\n",
      "Deine Zahl lässt sich durch 3 teilen!\n"
     ]
    }
   ],
   "source": [
    "# Durch drei teilbar\n",
    "number = 1\n",
    "while number % 3 != 0:\n",
    "    number = eval(input(\"Nenne mir eine Zahl! \"))\n",
    "    if number %3 != 0:\n",
    "        print(\"Deine Zahl lässt sich nicht durch 3 teilen!\")\n",
    "\n",
    "print(\"Deine Zahl lässt sich durch 3 teilen!\")    "
   ]
  },
  {
   "cell_type": "markdown",
   "metadata": {},
   "source": [
    "### Aufgabe 4\n",
    "#### Deine eigene Funktion\n",
    "- Schreibe eine Funktion mit dem Namen *hiking()*, die Eingangsparameter für die <font color=\"green\">zurückgelegte Strecke</font>, die dafür <font color=\"green\">benötigte Zeit</font> und den <font color=\"green\">Ort der Wanderung</font> hat. \n",
    "\n",
    "    Die Funktion sollte eine Nachricht, mit dem durchschnittlichen Lauftempo und dem Ortsnamen ausgeben. Diese könnte zum Beispiel folgendermaßen lauten:\n",
    " > \" Bei unserer Wanderung in Zermatt hatten wir ein durchschnittliches Lauftempo von 3.5 km/h!\" \n",
    " \n",
    "\n",
    "- Bei einem Tempo von unter 2 km pro Stunde soll eine zusätzliche Nachricht ausgegeben werden, mit dem Hinweis, dass die Wanderung wohl besonders anstrengend oder steil war."
   ]
  },
  {
   "cell_type": "code",
   "execution_count": 54,
   "metadata": {},
   "outputs": [
    {
     "name": "stdout",
     "output_type": "stream",
     "text": [
      "Bei unserer Wanderung in Zermatt hatten wir ein durchschnittliches Lauftempo von 3.5 km/h!\n",
      "Bei unserer Wanderung in Bruchsal hatten wir ein durchschnittliches Lauftempo von 1.5 km/h!\n",
      "Die Wanderung muss besonders anstrengend gewesen sein!\n"
     ]
    }
   ],
   "source": [
    "# eigene Funktion erstellen\n",
    "def hiking(distance, time, location):\n",
    "    speed = distance / time\n",
    "    print(\"Bei unserer Wanderung in\",str(location), \n",
    "          \"hatten wir ein durchschnittliches Lauftempo von\",\n",
    "          speed,\"km/h!\")    \n",
    "    if speed < 2.0:\n",
    "        print(\"Die Wanderung muss besonders anstrengend gewesen sein!\")\n",
    "\n",
    "# Schnell unterwegs in Zermatt\n",
    "hiking(10.5,3,\"Zermatt\")\n",
    "\n",
    "# Was war da los in Bruchsal\n",
    "hiking(6,4,\"Bruchsal\")"
   ]
  },
  {
   "cell_type": "markdown",
   "metadata": {},
   "source": [
    "### Aufgabe 5\n",
    "#### Pizzabelag\n",
    "Wir haben vor einiger Zeit eine .txt Datei mit einer Zutatenliste für unsere Lieblingspizza angelegt.\n",
    "- Öffne und lese die Datei *Pizza.txt*.\n",
    "- Füge der Liste drei weitere Zutaten hinzu und schreibe diese Liste in eine neue .txt Datei mit dem Namen *Pizza_neu*.txt*.\n",
    "- Vergiss nicht, die Dateien wieder zu schließen."
   ]
  },
  {
   "cell_type": "code",
   "execution_count": 65,
   "metadata": {
    "scrolled": true
   },
   "outputs": [
    {
     "name": "stdout",
     "output_type": "stream",
     "text": [
      "Kaese\n",
      "Tomaten\n",
      "Ziebeln\n",
      "Schinken\n",
      "Ruccola\n"
     ]
    }
   ],
   "source": [
    "# Pizzabelag\n",
    "## Lesen\n",
    "path = \"Daten\\Pizza.txt\"\n",
    "# open mit \"read\" mode\n",
    "pizza_file = open(path,\"r\")\n",
    "# read\n",
    "toppings = pizza_file.read()\n",
    "print(toppings)\n",
    "\n",
    "## Erstelle eine neue Datei\n",
    "new_path = \"Daten\\Pizza_neu.txt\"\n",
    "# open mit \"write\" mode\n",
    "pizza_new_file = open(new_path,\"w\")\n",
    "\n",
    "# Titel, den wir unserer neuen Datei hinzufügen möchten\n",
    "new_toppings = [\"Gurken\",\"Selerie\",\"Knoblauch\"]\n",
    "\n",
    "# write\n",
    "pizza_new_file.write(toppings)\n",
    "for i in new_toppings:\n",
    "    pizza_new_file.write(\"\\n\"+i)\n",
    "    \n",
    "pizza_file.close()\n",
    "pizza_new_file.close()    "
   ]
  },
  {
   "cell_type": "markdown",
   "metadata": {},
   "source": [
    "## ENDE"
   ]
  }
 ],
 "metadata": {
  "kernelspec": {
   "display_name": "Python 3",
   "language": "python",
   "name": "python3"
  },
  "language_info": {
   "codemirror_mode": {
    "name": "ipython",
    "version": 3
   },
   "file_extension": ".py",
   "mimetype": "text/x-python",
   "name": "python",
   "nbconvert_exporter": "python",
   "pygments_lexer": "ipython3",
   "version": "3.7.10"
  }
 },
 "nbformat": 4,
 "nbformat_minor": 4
}
