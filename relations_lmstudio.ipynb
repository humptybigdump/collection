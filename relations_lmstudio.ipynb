{
 "cells": [
  {
   "cell_type": "code",
   "execution_count": 27,
   "id": "initial_id",
   "metadata": {
    "collapsed": true,
    "ExecuteTime": {
     "end_time": "2025-03-14T13:17:18.071500Z",
     "start_time": "2025-03-14T13:17:16.041483Z"
    }
   },
   "outputs": [],
   "source": [
    "import lmstudio as lms\n",
    "\n",
    "#model = lms.llm(\"llama-3.2-1b-instruct\")\n",
    "\n",
    "model = lms.llm(\"llama-3.3-70b-instruct\")"
   ]
  },
  {
   "cell_type": "code",
   "execution_count": 28,
   "outputs": [
    {
     "name": "stdout",
     "output_type": "stream",
     "text": [
      "I'm an artificial intelligence model known as Llama. Llama stands for \"Large Language Model Meta AI.\"\n"
     ]
    }
   ],
   "source": [
    "result = model.respond(\"Who are you?\")\n",
    "\n",
    "print(result)"
   ],
   "metadata": {
    "collapsed": false,
    "ExecuteTime": {
     "end_time": "2025-03-14T13:17:30.480824Z",
     "start_time": "2025-03-14T13:17:20.052675Z"
    }
   },
   "id": "8b2375d2a93929b8"
  },
  {
   "cell_type": "code",
   "execution_count": 10,
   "outputs": [
    {
     "name": "stdout",
     "output_type": "stream",
     "text": [
      "8\n"
     ]
    }
   ],
   "source": [
    "c1 = \"Japan\"\n",
    "c2 = \"China\"\n",
    "\n",
    "system_msg = 'You are a political scientist with expert knowledge on international relations. You will be asked about bilateral relations between two countries. Please answer on a scale from 0 to 9 where 0 means \"very bad relation\" and 9 means \"very positive relation\".  Please answer only with a single number from 0 to 9.'\n",
    "\n",
    "user_msg = f\"\"\"How would you rate the relation between {c1} and {c2}?\"\"\"\n",
    "\n",
    "#messages = [{\"role\": \"system\", \"content\": system_msg},\n",
    "#            {\"role\": \"user\", \"content\": user_msg}]\n",
    "\n",
    "chat = lms.Chat()\n",
    "chat.add_system_prompt(system_msg)\n",
    "chat.add_user_message(user_msg)\n",
    "result = model.respond(chat)\n",
    "\n",
    "print(result)\n"
   ],
   "metadata": {
    "collapsed": false,
    "ExecuteTime": {
     "end_time": "2025-03-14T13:02:53.139103Z",
     "start_time": "2025-03-14T13:02:53.051758Z"
    }
   },
   "id": "8927fe2bd50d8b1e"
  },
  {
   "cell_type": "code",
   "execution_count": 29,
   "outputs": [
    {
     "name": "stdout",
     "output_type": "stream",
     "text": [
      "4\n",
      "4\n",
      "4\n",
      "4\n",
      "4\n",
      "4\n",
      "4\n",
      "4\n",
      "4\n",
      "4\n"
     ]
    }
   ],
   "source": [
    "num_samples = 10\n",
    "ratings = []\n",
    "for sample in range(num_samples):\n",
    "    #print(sample)\n",
    "    chat = lms.Chat()\n",
    "    chat.add_system_prompt(system_msg)\n",
    "    chat.add_user_message(user_msg)\n",
    "    result = model.respond(chat)\n",
    "    ratings.append(float(result.content))\n",
    "    print(result)\n",
    "\n"
   ],
   "metadata": {
    "collapsed": false,
    "ExecuteTime": {
     "end_time": "2025-03-14T13:17:44.544072Z",
     "start_time": "2025-03-14T13:17:33.978100Z"
    }
   },
   "id": "704cca27a18b7d4a"
  },
  {
   "cell_type": "code",
   "execution_count": 23,
   "outputs": [
    {
     "data": {
      "text/plain": "'3'"
     },
     "execution_count": 23,
     "metadata": {},
     "output_type": "execute_result"
    }
   ],
   "source": [
    "#(result.content)"
   ],
   "metadata": {
    "collapsed": false,
    "ExecuteTime": {
     "end_time": "2025-03-14T13:11:16.846160Z",
     "start_time": "2025-03-14T13:11:16.840987Z"
    }
   },
   "id": "ac2eecf9ffeb579b"
  },
  {
   "cell_type": "code",
   "execution_count": 30,
   "outputs": [
    {
     "data": {
      "text/plain": "<Figure size 640x480 with 1 Axes>",
      "image/png": "[encoded data removed]"
     },
     "metadata": {},
     "output_type": "display_data"
    }
   ],
   "source": [
    "import matplotlib.pyplot as plt\n",
    "\n",
    "\n",
    "# Plot the histogram\n",
    "plt.hist(ratings, bins=5, edgecolor=\"black\")\n",
    "\n",
    "# Labels and title\n",
    "plt.xlabel(\"Ratings\")\n",
    "plt.ylabel(\"Frequency\")\n",
    "plt.title(\"Histogram of Ratings\")\n",
    "\n",
    "# Show the plot\n",
    "plt.show()\n"
   ],
   "metadata": {
    "collapsed": false,
    "ExecuteTime": {
     "end_time": "2025-03-14T13:18:04.315363Z",
     "start_time": "2025-03-14T13:18:04.252468Z"
    }
   },
   "id": "1ff053ac1005441c"
  },
  {
   "cell_type": "code",
   "execution_count": null,
   "outputs": [],
   "source": [],
   "metadata": {
    "collapsed": false
   },
   "id": "eacb81db6de8e13c"
  },
  {
   "cell_type": "code",
   "execution_count": 32,
   "outputs": [],
   "source": [
    "import numpy as np\n",
    "countries=[\n",
    "    'United States',\n",
    "    'China',\n",
    "    'Russia',\n",
    "    'India',\n",
    "    'Germany',\n",
    "    'United Kingdom',\n",
    "    'France',\n",
    "    'Japan',\n",
    "    'Brazil',\n",
    "    'South Korea']\n",
    "\n"
   ],
   "metadata": {
    "collapsed": false,
    "ExecuteTime": {
     "end_time": "2025-03-14T13:27:14.380550Z",
     "start_time": "2025-03-14T13:27:14.376849Z"
    }
   },
   "id": "6f551b115175cd20"
  },
  {
   "cell_type": "code",
   "execution_count": 34,
   "outputs": [
    {
     "name": "stdout",
     "output_type": "stream",
     "text": [
      "United States United States 9\n",
      "United States China 4\n",
      "United States Russia 2\n",
      "United States India 8\n",
      "United States Germany 8\n",
      "United States United Kingdom 8\n",
      "United States France 8\n",
      "United States Japan 8\n",
      "United States Brazil 7\n",
      "United States South Korea 8\n",
      "China United States 4\n",
      "China China 9\n",
      "China Russia 8\n",
      "China India 4\n",
      "China Germany 7\n",
      "China United Kingdom 5\n",
      "China France 7\n",
      "China Japan 4\n",
      "China Brazil 8\n",
      "China South Korea 6\n",
      "Russia United States 2\n",
      "Russia China 8\n",
      "Russia Russia 9\n",
      "Russia India 8\n",
      "Russia Germany 4\n",
      "Russia United Kingdom 2\n",
      "Russia France 4\n",
      "Russia Japan 4\n",
      "Russia Brazil 6\n",
      "Russia South Korea 5\n",
      "India United States 8\n",
      "India China 4\n",
      "India Russia 8\n",
      "India India 9\n",
      "India Germany 8\n",
      "India United Kingdom 7\n",
      "India France 8\n",
      "India Japan 8\n",
      "India Brazil 7\n",
      "India South Korea 7\n",
      "Germany United States 8\n",
      "Germany China 6\n",
      "Germany Russia 2\n",
      "Germany India 7\n",
      "Germany Germany 9\n",
      "Germany United Kingdom 7\n",
      "Germany France 8\n",
      "Germany Japan 8\n",
      "Germany Brazil 7\n",
      "Germany South Korea 8\n",
      "United Kingdom United States 8\n",
      "United Kingdom China 4\n",
      "United Kingdom Russia 2\n",
      "United Kingdom India 7\n",
      "United Kingdom Germany 8\n",
      "United Kingdom United Kingdom 9\n",
      "United Kingdom France 7\n",
      "United Kingdom Japan 8\n",
      "United Kingdom Brazil 6\n",
      "United Kingdom South Korea 8\n",
      "France United States 7\n",
      "France China 6\n",
      "France Russia 4\n",
      "France India 8\n",
      "France Germany 8\n",
      "France United Kingdom 6\n",
      "France France 9\n",
      "France Japan 8\n",
      "France Brazil 7\n",
      "France South Korea 7\n",
      "Japan United States 8\n",
      "Japan China 4\n",
      "Japan Russia 4\n",
      "Japan India 8\n",
      "Japan Germany 8\n",
      "Japan United Kingdom 8\n",
      "Japan France 8\n",
      "Japan Japan 9\n",
      "Japan Brazil 7\n",
      "Japan South Korea 4\n",
      "Brazil United States 7\n",
      "Brazil China 8\n",
      "Brazil Russia 7\n",
      "Brazil India 7\n",
      "Brazil Germany 7\n",
      "Brazil United Kingdom 6\n",
      "Brazil France 7\n",
      "Brazil Japan 8\n",
      "Brazil Brazil 9\n",
      "Brazil South Korea 7\n",
      "South Korea United States 8\n",
      "South Korea China 6\n",
      "South Korea Russia 5\n",
      "South Korea India 7\n",
      "South Korea Germany 8\n",
      "South Korea United Kingdom 8\n",
      "South Korea France 8\n",
      "South Korea Japan 4\n",
      "South Korea Brazil 6\n",
      "South Korea South Korea 9\n"
     ]
    }
   ],
   "source": [
    "numC = len(countries)\n",
    "IRmatrix = np.zeros((numC, numC))\n",
    "IRlist = []\n",
    "\n",
    "system_msg = 'You are a political scientist with expert knowledge on international relations. You will be asked about bilateral relations between two countries. Please answer on a scale from 0 to 9 where 0 means \"very bad relation\" and 9 means \"very positive relation\". Please answer only with a single number from 0 to 9.'\n",
    "\n",
    "for c1x,c1 in enumerate(countries):\n",
    "    for c2x,c2 in enumerate(countries):\n",
    "        #if c2x > c1x:   \n",
    "        user_msg = f\"\"\"How would you rate the relation between {c1} and {c2}?\"\"\"\n",
    "\n",
    "        chat = lms.Chat()\n",
    "        chat.add_system_prompt(system_msg)\n",
    "        chat.add_user_message(user_msg)\n",
    "        rating = model.respond(chat)\n",
    "\n",
    "        #IRmatrix[c1x,c2x] = rating\n",
    "        #IRmatrix[c2x,c1x] = rating\n",
    "        print(c1,c2,rating)\n",
    "        rel = [c1,c2,float(rating.content)]\n",
    "        IRlist.append(rel)\n"
   ],
   "metadata": {
    "collapsed": false,
    "ExecuteTime": {
     "end_time": "2025-03-14T13:31:02.162390Z",
     "start_time": "2025-03-14T13:28:27.978805Z"
    }
   },
   "id": "81fc38a7e2946b41"
  },
  {
   "cell_type": "code",
   "execution_count": 22,
   "outputs": [
    {
     "data": {
      "text/plain": "'4'"
     },
     "execution_count": 22,
     "metadata": {},
     "output_type": "execute_result"
    }
   ],
   "source": [
    "IRlist[1][2].content"
   ],
   "metadata": {
    "collapsed": false,
    "ExecuteTime": {
     "end_time": "2025-03-14T08:56:05.019846Z",
     "start_time": "2025-03-14T08:56:05.015245Z"
    }
   },
   "id": "4bbd91de70c6a80c"
  },
  {
   "cell_type": "code",
   "execution_count": 37,
   "outputs": [],
   "source": [
    "import networkx as nx\n",
    "from pyvis.network import Network\n",
    "graph = nx.DiGraph()\n",
    "for c in countries:\n",
    "    graph.add_node(c, color=\"grey\", label=c)\n",
    "\n",
    "for rel in IRlist:\n",
    "    #print(rel)\n",
    "    if rel[2] > 5:\n",
    "        graph.add_edge(rel[0],rel[1], weight = rel[2])\n",
    "    \n",
    "    #print(rel[0],rel[1], rel[2])\n",
    "#graph.edges"
   ],
   "metadata": {
    "collapsed": false,
    "ExecuteTime": {
     "end_time": "2025-03-14T13:44:54.181293Z",
     "start_time": "2025-03-14T13:44:54.173700Z"
    }
   },
   "id": "78ff973f22cbf541"
  },
  {
   "cell_type": "code",
   "execution_count": 38,
   "outputs": [
    {
     "name": "stdout",
     "output_type": "stream",
     "text": [
      "Warning: When  cdn_resources is 'local' jupyter notebook has issues displaying graphics on chrome/safari. Use cdn_resources='in_line' or cdn_resources='remote' if you have issues viewing graphics in a notebook.\n",
      "interactive_graph.html\n"
     ]
    },
    {
     "data": {
      "text/plain": "<IPython.lib.display.IFrame at 0x117f5b4a0>",
      "text/html": "\n        <iframe\n            width=\"100%\"\n            height=\"750px\"\n            src=\"interactive_graph.html\"\n            frameborder=\"0\"\n            allowfullscreen\n            \n        ></iframe>\n        "
     },
     "execution_count": 38,
     "metadata": {},
     "output_type": "execute_result"
    }
   ],
   "source": [
    "#import streamlit.components.v1 as components\n",
    "\n",
    "net = Network(\n",
    "    notebook=True,\n",
    "    height=\"750px\",\n",
    "    width=\"100%\",\n",
    "    directed=True,\n",
    "    bgcolor=\"#ffffff\",\n",
    "    font_color=\"black\"\n",
    "    #cdn_resources=\"in_line\"  # Fix for Jupyter display issues\n",
    ")\n",
    "# Convert NetworkX graph to Pyvis graph\n",
    "net.from_nx(graph)\n",
    "\n",
    "# Show the interactive graph\n",
    "net.show(\"interactive_graph.html\")\n",
    "\n",
    "#HtmlFile = open(\"interactive_graph.html\", 'r', encoding='utf-8')\n",
    "#source_code = HtmlFile.read()\n",
    "#components.html(source_code, height=800, width=800, scrolling=True)\n",
    "\n"
   ],
   "metadata": {
    "collapsed": false,
    "ExecuteTime": {
     "end_time": "2025-03-14T13:44:56.598268Z",
     "start_time": "2025-03-14T13:44:56.580400Z"
    }
   },
   "id": "fcbeacb740ae6c85"
  },
  {
   "cell_type": "code",
   "execution_count": null,
   "outputs": [],
   "source": [],
   "metadata": {
    "collapsed": false
   },
   "id": "897b979d76676c69"
  }
 ],
 "metadata": {
  "kernelspec": {
   "display_name": "Python 3",
   "language": "python",
   "name": "python3"
  },
  "language_info": {
   "codemirror_mode": {
    "name": "ipython",
    "version": 2
   },
   "file_extension": ".py",
   "mimetype": "text/x-python",
   "name": "python",
   "nbconvert_exporter": "python",
   "pygments_lexer": "ipython2",
   "version": "2.7.6"
  }
 },
 "nbformat": 4,
 "nbformat_minor": 5
}
