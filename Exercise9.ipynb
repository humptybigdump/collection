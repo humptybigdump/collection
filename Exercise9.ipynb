{
  "nbformat": 4,
  "nbformat_minor": 0,
  "metadata": {
    "colab": {
      "provenance": []
    },
    "kernelspec": {
      "name": "python3",
      "display_name": "Python 3"
    },
    "language_info": {
      "name": "python"
    }
  },
  "cells": [
    {
      "cell_type": "code",
      "source": [
        "# if you use google colab use this line\n",
        "# if you have local installation please make sure to use this version of matplotlib\n",
        "# otherwise, some of the visualizations may not work\n",
        "!pip install matplotlib==3.7.0"
      ],
      "metadata": {
        "colab": {
          "base_uri": "https://localhost:8080/"
        },
        "id": "2CK8vI0tr2iH",
        "outputId": "b6d10387-5dd7-4a26-eedc-d18793179a40"
      },
      "execution_count": null,
      "outputs": [
        {
          "output_type": "stream",
          "name": "stdout",
          "text": [
            "Requirement already satisfied: matplotlib==3.7.0 in /usr/local/lib/python3.11/dist-packages (3.7.0)\n",
            "Requirement already satisfied: contourpy>=1.0.1 in /usr/local/lib/python3.11/dist-packages (from matplotlib==3.7.0) (1.3.1)\n",
            "Requirement already satisfied: cycler>=0.10 in /usr/local/lib/python3.11/dist-packages (from matplotlib==3.7.0) (0.12.1)\n",
            "Requirement already satisfied: fonttools>=4.22.0 in /usr/local/lib/python3.11/dist-packages (from matplotlib==3.7.0) (4.55.3)\n",
            "Requirement already satisfied: kiwisolver>=1.0.1 in /usr/local/lib/python3.11/dist-packages (from matplotlib==3.7.0) (1.4.8)\n",
            "Requirement already satisfied: numpy>=1.20 in /usr/local/lib/python3.11/dist-packages (from matplotlib==3.7.0) (1.26.4)\n",
            "Requirement already satisfied: packaging>=20.0 in /usr/local/lib/python3.11/dist-packages (from matplotlib==3.7.0) (24.2)\n",
            "Requirement already satisfied: pillow>=6.2.0 in /usr/local/lib/python3.11/dist-packages (from matplotlib==3.7.0) (11.1.0)\n",
            "Requirement already satisfied: pyparsing>=2.3.1 in /usr/local/lib/python3.11/dist-packages (from matplotlib==3.7.0) (3.2.1)\n",
            "Requirement already satisfied: python-dateutil>=2.7 in /usr/local/lib/python3.11/dist-packages (from matplotlib==3.7.0) (2.8.2)\n",
            "Requirement already satisfied: six>=1.5 in /usr/local/lib/python3.11/dist-packages (from python-dateutil>=2.7->matplotlib==3.7.0) (1.17.0)\n"
          ]
        }
      ]
    },
    {
      "cell_type": "code",
      "execution_count": null,
      "metadata": {
        "id": "gPbSj35gmk1g"
      },
      "outputs": [],
      "source": [
        "import numpy as np\n",
        "import matplotlib.pyplot as plt\n",
        "\n",
        "from scipy.spatial import Voronoi, voronoi_plot_2d\n",
        "import imageio\n",
        "\n",
        "from IPython.display import Image\n",
        "from copy import deepcopy\n",
        "\n",
        "np.random.seed(42)"
      ]
    },
    {
      "cell_type": "code",
      "source": [
        "# helper functions for visualization\n",
        "def build_figure(samples, centroids, labels, voronoi=True):\n",
        "\n",
        "    fig = plt.figure(figsize=(9, 6))\n",
        "    plt.rc('grid', linestyle=\"--\", color='gray', alpha=0.5)\n",
        "\n",
        "    if voronoi:\n",
        "        vor = Voronoi(np.array(centroids))\n",
        "        fig = voronoi_plot_2d(vor, show_vertices=False, show_points=False, ax=plt.gca())\n",
        "\n",
        "    plt.scatter(samples[:, 0], samples[:, 1], marker='x', s=10, c=get_color_palette(labels, color_map), alpha=0.2)\n",
        "\n",
        "    for i, c in enumerate(centroids):\n",
        "        plt.scatter(centroids[i][0], centroids[i][1], marker='x', s=100, color='red')\n",
        "\n",
        "    plt.xlim([-4, 4])\n",
        "    plt.ylim([-4, 4])\n",
        "    plt.xlabel(\"$x_1$\")\n",
        "    plt.ylabel(\"$x_2$\")\n",
        "    plt.title(\"Visualization of Samples from \" + str(len(centroids)) + \" Clusters\")\n",
        "    plt.grid(True)\n",
        "\n",
        "    return fig\n",
        "\n",
        "def animate_cluster(samples, centroids, labels, voronoi=True):\n",
        "    figure = build_figure(samples, centroids, labels, voronoi=voronoi)\n",
        "    return figure\n",
        "\n",
        "def animate_kmeans_results(X, results, fps=2, voronoi=True):\n",
        "    images = []\n",
        "    for i in range(len(results)):\n",
        "        fig = animate_cluster(X, results[i][0], results[i][1],  voronoi=voronoi)\n",
        "        fig.canvas.draw()\n",
        "        image_from_plot = np.frombuffer(fig.canvas.tostring_rgb(), dtype=np.uint8)\n",
        "        image_from_plot = image_from_plot.reshape(fig.canvas.get_width_height()[::-1] + (3,))\n",
        "        plt.close()\n",
        "        images.append(image_from_plot)\n",
        "\n",
        "    duration = int(1000 * 1 / fps)\n",
        "    imageio.mimsave('./example.gif', images, fps=fps, duration=duration, loop=0)\n",
        "    with open('./example.gif','rb') as f:\n",
        "        display(Image(data=f.read(), format='png'))\n",
        "\n",
        "def plot_elbow(wcss):\n",
        "    plt.figure(figsize=(9, 6))\n",
        "    plt.rc('grid', linestyle=\"--\", color='gray', alpha=0.5)\n",
        "    plt.plot(np.linspace(1, len(wcss), len(wcss)), wcss)\n",
        "\n",
        "    plt.grid(True)\n",
        "    plt.show()"
      ],
      "metadata": {
        "id": "z7xjxOsyqS49"
      },
      "execution_count": null,
      "outputs": []
    },
    {
      "cell_type": "markdown",
      "source": [
        "# Task 9.1: A Structured Dataset"
      ],
      "metadata": {
        "id": "SDI8Gxhhmw5-"
      }
    },
    {
      "cell_type": "markdown",
      "source": [
        "Create a dataset of two-dimensional vectors. Draw 1000 samples each from the normal distributions\n",
        "with\n",
        "\n",
        "$\n",
        "\\mu_1 = \\begin{pmatrix} 1 \\\\ 1\\end{pmatrix},\n",
        "\\Sigma_1 = \\begin{pmatrix} 0.5 & 0.2 \\\\ 0.2 & 0.5 \\end{pmatrix},\n",
        "\\mu_2 = \\begin{pmatrix} 0 \\\\ -2\\end{pmatrix},\n",
        "\\Sigma_2 = \\begin{pmatrix} 0.3 & 0.2 \\\\ 0.2 & 0.2 \\end{pmatrix},\n",
        "\\mu_3 = \\begin{pmatrix} -2 \\\\ -1\\end{pmatrix},\n",
        "\\Sigma_3 = \\begin{pmatrix} 0.1 & 0.2 \\\\ 0.2 & 0.8 \\end{pmatrix}\n",
        "$\n",
        "\n",
        "Each normal distribution results in one cluster of points.\n",
        "Visualize the position of the points and clusters and use this set for the next exercises."
      ],
      "metadata": {
        "id": "FGX83Ycs9N5x"
      }
    },
    {
      "cell_type": "code",
      "source": [
        "# helper functions for visualization\n",
        "COLOR_MAP = [\"green\", \"purple\", \"blue\", \"magenta\", \"orange\", \"gray\", \"pink\", \"maroon\", \"cyan\", \"olive\"]\n",
        "\n",
        "def get_color_palette(labels, color_map=COLOR_MAP):\n",
        "    return [color_map[l] for l in labels if l < len(color_map)]\n",
        "\n",
        "def visualize_cluster(samples, centroids, labels, voronoi=True):\n",
        "    fig = plt.figure(figsize=(9, 6))\n",
        "    plt.rc('grid', linestyle=\"--\", color='gray', alpha=0.5)\n",
        "\n",
        "    if voronoi:\n",
        "        vor = Voronoi(np.array(centroids))\n",
        "        fig = voronoi_plot_2d(vor, show_vertices=False, show_points=False, ax=plt.gca())\n",
        "\n",
        "    plt.scatter(samples[:, 0], samples[:, 1], marker='x', s=10, c=get_color_palette(labels, color_map), alpha=0.2)\n",
        "\n",
        "    for i, c in enumerate(centroids):\n",
        "        plt.scatter(centroids[i][0], centroids[i][1], marker='x', s=100, color='red')\n",
        "\n",
        "    plt.xlim([-4, 4])\n",
        "    plt.ylim([-4, 4])\n",
        "    plt.xlabel(\"$x_1$\")\n",
        "    plt.ylabel(\"$x_2$\")\n",
        "    plt.title(\"Visualization of Samples from \" + str(len(centroids)) + \" Clusters\")\n",
        "    plt.grid(True)\n",
        "    plt.show()"
      ],
      "metadata": {
        "id": "_H-b9U8Fnk14"
      },
      "execution_count": null,
      "outputs": []
    },
    {
      "cell_type": "code",
      "source": [
        "# TODO: generate the data points from the three clusters and visualize the dataset (use function visualize_cluster or implement your own visualization)\n",
        "\n",
        "# TODO: Define parameters for the normal distributions\n",
        "\n",
        "# TODO: Generate samples from the three normal distributions\n",
        "\n",
        "# TODO: Visualize the clusters"
      ],
      "metadata": {
        "id": "hht78wVmnK3C"
      },
      "execution_count": null,
      "outputs": []
    },
    {
      "cell_type": "markdown",
      "source": [
        "# Task 9.2: K-means Clustering"
      ],
      "metadata": {
        "id": "qHcn7hlJpe5t"
      }
    },
    {
      "cell_type": "markdown",
      "source": [
        "a) Implement the ”K-means Clustering” algorithm and use it on the dataset you created in the last task. Initialize the algorithm with $K = 3$ randomly chosen prototypes first. Then repeat the experiment with $K = 5$ and $K = 10$ prototypes."
      ],
      "metadata": {
        "id": "PzSEuMvwsrE3"
      }
    },
    {
      "cell_type": "code",
      "source": [
        "\n",
        "class kMeans:\n",
        "    def __init__(self, k=2, max_iter=1000, tol=1e-4):\n",
        "        self.k = k\n",
        "        self.max_iter = max_iter\n",
        "        self.tol = tol # tolerance as stopping criterion\n",
        "        self.centroids = []\n",
        "        self.results = []\n",
        "        self.wcss = 0.0\n",
        "\n",
        "    def fit(self, X):\n",
        "        # TODO: implement K-means clustering\n",
        "\n",
        "        # TODO: initialize centroids\n",
        "\n",
        "        for i in range(self.max_iter):\n",
        "            # store intermediate results if you want to use function animate_kmeans_results\n",
        "            self.results.append([self.centroids, self.predict(X)])\n",
        "\n",
        "            # TODO: E-Step: Assign clusters\n",
        "\n",
        "            # TODO: M-Step: Calculate new centroids\n",
        "\n",
        "            # TODO: Check for convergence using tolerance\n",
        "\n",
        "            # TODO: Update centroids\n",
        "\n",
        "    def predict(self, X):\n",
        "        # Assign clusters to new data\n",
        "        return self.assign_classes(X)\n",
        "\n",
        "    def assign_classes(self, X):\n",
        "        # TODO: Calculate distances to centroids\n",
        "        # TODO: Assign the closest cluster to each point\n",
        "        return\n",
        "\n",
        "    def calculate_wcss(self, X):\n",
        "        # TODO: task b) Calculate the within-cluster sum of squares (WCSS)\n",
        "        return"
      ],
      "metadata": {
        "id": "9KFUt_wJpd-j"
      },
      "execution_count": null,
      "outputs": []
    },
    {
      "cell_type": "code",
      "source": [
        "# TODO: Run kMeans with k = 3\n",
        "\n",
        "# TODO: visualize result (you can use visualize_cluster, animate_kmeans_results or implement your own visualization)"
      ],
      "metadata": {
        "id": "1sYBLQ_Xp0me"
      },
      "execution_count": null,
      "outputs": []
    },
    {
      "cell_type": "code",
      "source": [
        "# TODO: Run kMeans with k = 5\n",
        "\n",
        "# TODO: visualize result (you can use visualize_cluster, animate_kmeans_results or implement your own visualization)"
      ],
      "metadata": {
        "id": "4taP6UYIsSe2"
      },
      "execution_count": null,
      "outputs": []
    },
    {
      "cell_type": "code",
      "source": [
        "# TODO: Run kMeans with k = 10\n",
        "\n",
        "# TODO: visualize result (you can use visualize_cluster, animate_kmeans_results or implement your own visualization)"
      ],
      "metadata": {
        "id": "-NxUbAicsc2g"
      },
      "execution_count": null,
      "outputs": []
    },
    {
      "cell_type": "markdown",
      "source": [
        "b) As we randomly initialize k clusters we iteratively adjust these k clusters till the k centroids reach an equilibrium state. However, the main thing we do before initializing these clusters is to determine how many clusters we have to use. To do so, there is the ”Elbow Method”. For every value of k = [1, ..., kmax], calculate the within-cluster sum of squares (WCSS) value. After that plot the WCSSs and determine the optimal k."
      ],
      "metadata": {
        "id": "durhBKLks9WQ"
      }
    },
    {
      "cell_type": "code",
      "source": [
        "# TODO: In class kMeans implement the function calculate_wcss\n",
        "\n",
        "# TODO: Calculate the WCSS for k = [1, 10] and plot the WCSS's for all k."
      ],
      "metadata": {
        "id": "a-D0yxjFtG8a"
      },
      "execution_count": null,
      "outputs": []
    },
    {
      "cell_type": "markdown",
      "source": [
        "c) Now implement the online variant of K-means and use it on the same dataset. Choose the prototypes as above. Again visualize the steps of the algorithm. Explain the results and the differences compared to a)."
      ],
      "metadata": {
        "id": "E9FOy3S8tfA_"
      }
    },
    {
      "cell_type": "code",
      "source": [
        "class OnlinekMeans(kMeans):\n",
        "    def __init__(self, prototypes=None, *args, **kwargs):\n",
        "        super().__init__(*args, **kwargs)\n",
        "        self.centroids = None if not prototypes else  np.array(prototypes, dtype=np.float32)\n",
        "        self.counts = np.zeros(self.k)\n",
        "\n",
        "    def fit(self, X):\n",
        "        # implement Online Kmeans algorithms\n",
        "\n",
        "        # TODO: Randomly initialize centroids\n",
        "\n",
        "        for _ in range(self.max_iter):\n",
        "            centroids_pre = deepcopy(self.centroids)\n",
        "\n",
        "            for x in X:\n",
        "                # TODO: E-Step: Find the closest centroid\n",
        "\n",
        "                # TODO: Update the count for the closest centroid\n",
        "\n",
        "                # TODO: M-Step: Update centroids\n",
        "\n",
        "            # TODO: stop if change is smaller than tolerance\n"
      ],
      "metadata": {
        "id": "_OH0Xo3Dti6z",
        "colab": {
          "base_uri": "https://localhost:8080/",
          "height": 110
        },
        "outputId": "7da1b101-dc49-41de-eeb0-3270970f988c"
      },
      "execution_count": null,
      "outputs": [
        {
          "output_type": "error",
          "ename": "IndentationError",
          "evalue": "expected an indented block after 'for' statement on line 15 (<ipython-input-18-f85213fb839b>, line 24)",
          "traceback": [
            "\u001b[0;36m  File \u001b[0;32m\"<ipython-input-18-f85213fb839b>\"\u001b[0;36m, line \u001b[0;32m24\u001b[0m\n\u001b[0;31m    return\u001b[0m\n\u001b[0m    ^\u001b[0m\n\u001b[0;31mIndentationError\u001b[0m\u001b[0;31m:\u001b[0m expected an indented block after 'for' statement on line 15\n"
          ]
        }
      ]
    },
    {
      "cell_type": "code",
      "source": [
        "# TODO: Run online Kmeans with k = 3 and visualize result (use visualize_cluster of implement your own visualization)"
      ],
      "metadata": {
        "id": "0__pCrE-teXz"
      },
      "execution_count": null,
      "outputs": []
    },
    {
      "cell_type": "markdown",
      "source": [
        "d) Again, determine the optimal number of cluster centroids k for the online variant of K-means."
      ],
      "metadata": {
        "id": "SxiPi6VhuQpB"
      }
    },
    {
      "cell_type": "code",
      "source": [
        "# TODO: Calculate the WCSS for k = [1, 10], plot the WCSS's for all k, and determine the optimal k."
      ],
      "metadata": {
        "id": "_y5OrqPuuSLY"
      },
      "execution_count": null,
      "outputs": []
    },
    {
      "cell_type": "markdown",
      "source": [
        "# Task 9.3: Another Structured Dataset"
      ],
      "metadata": {
        "id": "gcxzJP9-LtQh"
      }
    },
    {
      "cell_type": "markdown",
      "source": [],
      "metadata": {
        "id": "YWE8OUO1L3-K"
      }
    },
    {
      "cell_type": "markdown",
      "source": [
        "a) Generate a dataset of three-dimensional vectors $(x_1, x_2, x_3)^T$ . Draw 2000 samples in the following way:\n",
        "\n",
        "For $x_3 = 0$ draw $x_1, x_2$ normally distributed with $μ_1 = [0; 0], Σ_1 = [0.5, 0; 0, 0.5]$ (1000 samples). The\n",
        "other 1000 samples should be uniformly distributed within a cylinder that has the base in the $x_1, x_2$\n",
        "surface (center (0, 0), radius 0.5) and the axis along the $x_3$-axis from $x_3 = 0$ to $x_3 = 5$.\n"
      ],
      "metadata": {
        "id": "VaaqjzgrL8Hm"
      }
    },
    {
      "cell_type": "code",
      "source": [
        "# helper functions for visualization\n",
        "\n",
        "def visualize_3d(X, centroids=None, labels=None):\n",
        "    fig = plt.figure(figsize=(10, 8))\n",
        "    ax = fig.add_subplot(111, projection='3d')\n",
        "    if labels is not None:\n",
        "        ax.scatter(X[:, 0], X[:, 1], X[:, 2], alpha=0.05, c=get_color_palette(labels, color_map))\n",
        "    else:\n",
        "        ax.scatter(X[:, 0], X[:, 1], X[:, 2], alpha=0.05)\n",
        "    if centroids is not None:\n",
        "        for i, c in enumerate(centroids):\n",
        "            ax.scatter(centroids[i][0], centroids[i][1], centroids[i][2], marker='x', color='green', s=100)\n",
        "\n",
        "\n",
        "    ax.set_xlabel('$x_1$')\n",
        "    ax.set_ylabel('$x_2$')\n",
        "    ax.set_zlabel('$x_3$')\n",
        "    ax.set_title('3D Dataset Visualization')\n",
        "    plt.show()"
      ],
      "metadata": {
        "id": "_x3oV7B531U5"
      },
      "execution_count": null,
      "outputs": []
    },
    {
      "cell_type": "code",
      "source": [
        "# TODO: generate dataset\n",
        "\n",
        "# TODO: visualize dataset"
      ],
      "metadata": {
        "id": "XcdRvsjz1XQT"
      },
      "execution_count": null,
      "outputs": []
    },
    {
      "cell_type": "markdown",
      "source": [
        "b) Use online K-means with the following initialization on your dataset"
      ],
      "metadata": {
        "id": "9xTeJ_4T1XpO"
      }
    },
    {
      "cell_type": "markdown",
      "source": [
        "1. More than two prototypes on the $x_3$-axis;"
      ],
      "metadata": {
        "id": "g_ZWuhIC0sxz"
      }
    },
    {
      "cell_type": "code",
      "source": [
        "# TODO: define initial prototypes run Online Kmeans and visualize results"
      ],
      "metadata": {
        "id": "8PHyWqYa0zbm"
      },
      "execution_count": null,
      "outputs": []
    },
    {
      "cell_type": "markdown",
      "source": [
        "2. More than two prototypes on the x3-axis, one of those with $x_3 = 0$"
      ],
      "metadata": {
        "id": "2jfLT6E44Qjs"
      }
    },
    {
      "cell_type": "code",
      "source": [
        "# TODO: define initial prototypes run Online Kmeans and visualize results"
      ],
      "metadata": {
        "id": "zLV__8ZT4P3u"
      },
      "execution_count": null,
      "outputs": []
    },
    {
      "cell_type": "markdown",
      "source": [
        "3. Two prototypes with $x_3 = 0$"
      ],
      "metadata": {
        "id": "m3dn_Fyn5A9D"
      }
    },
    {
      "cell_type": "code",
      "source": [
        "# TODO: define initial prototypes run Online Kmeans and visualize results"
      ],
      "metadata": {
        "id": "zvY0_XQD5O8x"
      },
      "execution_count": null,
      "outputs": []
    },
    {
      "cell_type": "markdown",
      "source": [
        "4. One prototype with $x_3 = 0$, one on the $x_1, x_2$ surface."
      ],
      "metadata": {
        "id": "a8D2XwtM6xW9"
      }
    },
    {
      "cell_type": "code",
      "source": [
        "# TODO: define initial prototypes run Online Kmeans and visualize results"
      ],
      "metadata": {
        "id": "MGFUEexc6y3O"
      },
      "execution_count": null,
      "outputs": []
    },
    {
      "cell_type": "markdown",
      "source": [
        "c) Again, determine the optimal number of cluster centroids $k$ for the online variant of K-means.\n"
      ],
      "metadata": {
        "id": "c4hYQnbAEh3t"
      }
    },
    {
      "cell_type": "code",
      "source": [
        "# TODO: calculate wcss and visualize results"
      ],
      "metadata": {
        "id": "n7w_xbgD7RLV"
      },
      "execution_count": null,
      "outputs": []
    }
  ]
}