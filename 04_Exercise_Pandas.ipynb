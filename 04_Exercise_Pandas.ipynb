{
 "cells": [
  {
   "cell_type": "markdown",
   "id": "favorite-appearance",
   "metadata": {},
   "source": [
    "# Geospatial Data Analysis I \n",
    "\n",
    "## Pandas - Exercise"
   ]
  },
  {
   "cell_type": "markdown",
   "id": "narrow-ghana",
   "metadata": {},
   "source": [
    "### Exercise 1: DataFrames\n",
    "\n",
    "#### Create a  DataFrame\n",
    "\n",
    "- Create a **DataFrame** containing the <font color=\"green\">names</font> und <font color=\"green\">diameters</font> of the planets in our solar system. Import pandas and use the following information:\n",
    "\n",
    "    - Merkur: 4879,4 km  \n",
    "    - Venus: 12103,6 km\n",
    "    - Erde: 12756,3 km\n",
    "    - Mars: 6792,4 km\n",
    "    - Jupiter: 142984 km\n",
    "    - Saturn: 120536 km\n",
    "    - Uranus: 51118 km"
   ]
  },
  {
   "cell_type": "code",
   "execution_count": null,
   "id": "technological-education",
   "metadata": {},
   "outputs": [],
   "source": [
    "#[1]\n"
   ]
  },
  {
   "cell_type": "markdown",
   "id": "useful-extent",
   "metadata": {},
   "source": [
    "#### Accessing and adding columns\n",
    "\n",
    "- Save the <font color=\"green\">diameter</font> of the planets in a new variable **d** as **NumPy-Array** using the attribute ``data.values``.\n",
    "\n",
    "- Add two columns for <font color=\"green\">circumference</font> and <font color=\"green\">surface</font> to your planet DataFrame. Add the columns using the syntax: \n",
    "\n",
    "``df[\"NewCoulumn\"] = calculation...``\n",
    "\n",
    "To keep it simple usinf the following equations for calulating circumference and surface:\n",
    "\n",
    "> $$U = \\pi * d$$\n",
    "> $$O = \\pi * d^2$$\n",
    "\n",
    "**Hint:** Import NumPy to use *Pi* as ``np.pi``."
   ]
  },
  {
   "cell_type": "code",
   "execution_count": null,
   "id": "solved-parking",
   "metadata": {},
   "outputs": [],
   "source": [
    "#[2]\n",
    "\n"
   ]
  },
  {
   "cell_type": "markdown",
   "id": "military-camera",
   "metadata": {},
   "source": [
    "Saving DataFrames \n",
    "\n",
    "- save your DataFrame as <font color=\"green\">.csv file</font> using the Pandas method <font color=\"red\">to_*</font>."
   ]
  },
  {
   "cell_type": "code",
   "execution_count": null,
   "id": "knowing-shipping",
   "metadata": {},
   "outputs": [],
   "source": [
    "#[3] DataFrame speichern \n"
   ]
  },
  {
   "cell_type": "markdown",
   "id": "stylish-diary",
   "metadata": {},
   "source": [
    "### Exercise 2: Indexing\n",
    "\n",
    "To explore futher functionalities in Pandas we are going to use a dataset from the NASA Exoplanet Archive (see also ILIAS):\n",
    "\n",
    "https://exoplanetarchive.ipac.caltech.edu/\n",
    "\n",
    "This datset contains information on exoplantes that have been discovered  outside of our solar system. \n",
    "\n",
    "#### Importing a table using Pandas\n",
    "\n",
    "- Use Pandas <font color=\"red\">read_*</font> functionality to import the data on the first sheet (<font color=\"red\">sheet = \"name\" </font>) of the Excel spreadsheet *NASA_exoplanets.xlsx*\n",
    "\n",
    "**Hinweis** By default Pandas also imports the first sheet of an Excel file. "
   ]
  },
  {
   "cell_type": "code",
   "execution_count": null,
   "id": "indonesian-infrastructure",
   "metadata": {},
   "outputs": [],
   "source": [
    "#[4] importing the NASA Exoplanet Archive data set\n"
   ]
  },
  {
   "cell_type": "markdown",
   "id": "differential-syndicate",
   "metadata": {},
   "source": [
    "#### Inspecting the table \n",
    "- Have a look at the first and last entries in the data set using the ``head()`` und ``tail()`` functionalities.\n",
    "- Use ``info()`` to get an overview on the entire data set. \n",
    "- What is the data type of the *disc_year* column in the **DataFrame**? \n",
    "- What is the dimension (``shape``) of the **DataFrame**?"
   ]
  },
  {
   "cell_type": "code",
   "execution_count": null,
   "id": "parallel-mineral",
   "metadata": {},
   "outputs": [],
   "source": [
    "#[5] first entries of the DataFrame\n"
   ]
  },
  {
   "cell_type": "code",
   "execution_count": null,
   "id": "urban-neighbor",
   "metadata": {},
   "outputs": [],
   "source": [
    "#[6] last entries of the DataFrame\n"
   ]
  },
  {
   "cell_type": "code",
   "execution_count": null,
   "id": "smaller-poverty",
   "metadata": {},
   "outputs": [],
   "source": [
    "#[7] overview\n"
   ]
  },
  {
   "cell_type": "code",
   "execution_count": null,
   "id": "superior-valuation",
   "metadata": {},
   "outputs": [],
   "source": [
    "#[8] Dimensions of the DataFrame\n"
   ]
  },
  {
   "cell_type": "markdown",
   "id": "corporate-aberdeen",
   "metadata": {},
   "source": [
    "#### Indexing and selecting\n",
    "- Use a label-based query with <font color=\"red\">.loc</font> to output:\n",
    "\n",
    "    - the entire column *pl_name* as a **DataFrame**.\n",
    "    - the first 100 rows of the column *number_stars* and *number_planets* as **DataFrame**.\n",
    "    - every second row of column *pl_name* as a **Series** object.\n",
    "\n",
    "**Achtung:** die Label-basierte Abfrage ist in Pandas **inklusiv**. Das heißt, der *Stopwert* wird beim indizieren ebenfalls mit ausgegeben. "
   ]
  },
  {
   "cell_type": "code",
   "execution_count": null,
   "id": "ff9f09e4",
   "metadata": {},
   "outputs": [],
   "source": [
    "#[9] entire column pl_name as DataFrame\n"
   ]
  },
  {
   "cell_type": "code",
   "execution_count": null,
   "id": "65bb777f",
   "metadata": {},
   "outputs": [],
   "source": [
    "#[10] the first 100 rows of column number_stars and number_planets as DataFrame\n"
   ]
  },
  {
   "cell_type": "code",
   "execution_count": null,
   "id": "2a2e88a2",
   "metadata": {},
   "outputs": [],
   "source": [
    "#[11] every second row of column pl_name as Series\n"
   ]
  },
  {
   "cell_type": "markdown",
   "id": "11a7ab5a",
   "metadata": {},
   "source": [
    "- Use integer-based queries with <font color=\"red\">.iloc</font> to output:\n",
    "    - the last 100 rwos of all columns as a **DataFrame**.\n",
    "    - rows 5,8 and 20 of the first two columns as a **DataFrame**.\n",
    "    - the year of discovery (*disc_year*) for row index 250."
   ]
  },
  {
   "cell_type": "code",
   "execution_count": null,
   "id": "infinite-smell",
   "metadata": {},
   "outputs": [],
   "source": [
    "#[12] the last 100 rows of all columns as DataFrame\n"
   ]
  },
  {
   "cell_type": "code",
   "execution_count": null,
   "id": "successful-spare",
   "metadata": {},
   "outputs": [],
   "source": [
    "#[10] Rows 5,8 und 20 of the first two columns as DataFrame.\n"
   ]
  },
  {
   "cell_type": "code",
   "execution_count": null,
   "id": "australian-funeral",
   "metadata": {},
   "outputs": [],
   "source": [
    "#[11] the year of discovery (*disc_year*) for row index 250\n"
   ]
  },
  {
   "cell_type": "markdown",
   "id": "b14f0926",
   "metadata": {},
   "source": [
    "### Exercise 3: Combining data and tables\n",
    "\n",
    "Now we are going to add more information to our data set. \n",
    "\n",
    "In addition to general information on name, number of stars and planets, discovery etc. that were already contained in the .xlsx file (*NASA_exoplanets.xlsx*), there are more parameters to be found in: \n",
    "\n",
    "**Planetary Parameters**\n",
    "- planet_part1.csv\n",
    "- planet_part2.csv"
   ]
  },
  {
   "cell_type": "markdown",
   "id": "d2dd2a2f",
   "metadata": {},
   "source": [
    "- Import the addition tabels / data from the <font color=\"green\">csv. Dateien</font> into separate Pandas **DataFrame**.\n",
    "\n",
    "- Inspect both data sets using functionalities such as ``.head()`` oder ``.info()``. Is there a common identifier (e.g. column name)?"
   ]
  },
  {
   "cell_type": "code",
   "execution_count": null,
   "id": "a0b3526a",
   "metadata": {},
   "outputs": [],
   "source": [
    "#[15] importing the data sets\n",
    "\n"
   ]
  },
  {
   "cell_type": "markdown",
   "id": "73bb62be",
   "metadata": {},
   "source": [
    "- Use the ``concat()`` method to combine both planetary data sets (*planet_part1.csv*, *planet_part2.csv*) into one **DataFrame**. "
   ]
  },
  {
   "cell_type": "code",
   "execution_count": null,
   "id": "f4b9d000",
   "metadata": {},
   "outputs": [],
   "source": [
    "#[16] concat \n"
   ]
  },
  {
   "cell_type": "markdown",
   "id": "eb979cbc",
   "metadata": {},
   "source": [
    "- Now use the ``merge()`` method to combine the exoplanet dataset from above and the newly concated planteary data sets into one single **DataFrame**  using a common identifier. \n",
    "\n",
    "- How many rows and columns are contained in the new **DataFrame**?"
   ]
  },
  {
   "cell_type": "code",
   "execution_count": null,
   "id": "da37c372",
   "metadata": {},
   "outputs": [],
   "source": [
    "#[17] combining both DataFrames using the common identifier \"pl_name\"\n"
   ]
  },
  {
   "cell_type": "markdown",
   "id": "english-module",
   "metadata": {},
   "source": [
    "## END"
   ]
  }
 ],
 "metadata": {
  "kernelspec": {
   "display_name": "GDA1",
   "language": "python",
   "name": "python3"
  },
  "language_info": {
   "codemirror_mode": {
    "name": "ipython",
    "version": 3
   },
   "file_extension": ".py",
   "mimetype": "text/x-python",
   "name": "python",
   "nbconvert_exporter": "python",
   "pygments_lexer": "ipython3",
   "version": "3.11.5"
  }
 },
 "nbformat": 4,
 "nbformat_minor": 5
}
