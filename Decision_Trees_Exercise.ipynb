{
 "cells": [
  {
   "cell_type": "markdown",
   "id": "7d25d827",
   "metadata": {},
   "source": [
    "# Decision Trees:\n",
    "We will use the dataset below to learn a decision tree that predicts if we play tennis (Yes or No). Based on the attribute, Temperature (hot or cold), Outlook (sunny, overcast or rain), Humidity (high or normal), and Wind (weak or strong)\n",
    "\n",
    "Training Dataset:\n",
    "\n",
    "|Outlook  |  Temperatur | Humidity | Wind | PlayTennis|  \n",
    "| ----------- | ----------- |----------- | ----------- | ----------- |\n",
    "|sunny    |  hot  |   high  | weak    | no\n",
    "|sunny    |  hot  |   high  | strong  | no\n",
    "|overcast |  hot  |   high  | weak    | yes\n",
    "|rain     | mild  |   high  | weak    | yes\n",
    "|rain     | cold  |   normal|  weak   | yes\n",
    "|rain     | cold  |   normal|  strong | no\n",
    "|overcast | cold  |   normal|  strong | yes\n",
    "|sunny    |  mild |   high  |  weak   | no\n",
    "|sunny    |  cold |   normal|  weak   | yes\n",
    "|rain     | mild  |  normal | weak    | yes\n",
    "|sunny    | mild  |  normal | strong  | yes\n",
    "|overcast | mild  | high    | strong  | yes\n",
    "|overcast | hot   | normal  | weak    | yes\n",
    "|rain     | mild  |  high   | strong  | no\n",
    "\n",
    "\n",
    "New Sample:\n",
    "\n",
    "|Outlook  |  Temperatur | Humidity | Wind | PlayTennis|  \n",
    "| ----------- | ----------- |----------- | ----------- | ----------- |\n",
    "|rain     |  mild  |  normal  | strong | ?\n",
    "\n",
    "The right answer is PlayTennis = no\n",
    "\n",
    "For this task, you can write your answers using $log_2$\n",
    "1. What is the entropy $H(PlayTennis?)$?\n",
    "2. What is the conditional entropy $H(PlayTennis? |Humidity)$? \n",
    "3. What is the conditional entropy $H(PlayTennis?| Wind)$?\n",
    "4. What is the information gain  $IG(Humidity)$?\n",
    "5. What is the information gain  $IG(Wind)$?\n",
    "6. What feature will we split on at the root? Why?\n",
    "7. How can the new sample be classified in view of the tree, with only two attributes Humidity and Wind?"
   ]
  },
  {
   "cell_type": "markdown",
   "id": "e9b09f70",
   "metadata": {},
   "source": [
    "What is the entropy $𝐻(𝑃𝑙𝑎𝑦𝑇𝑒𝑛𝑛𝑖𝑠?)$?\n",
    "\n",
    "Entropy:\n",
    "$$H(Y) = - \\sum_{i=1}^k P(Y=y_i) \\log_2 P(Y=y_i)$$"
   ]
  },
  {
   "cell_type": "code",
   "execution_count": null,
   "id": "ea60c1e6",
   "metadata": {},
   "outputs": [],
   "source": [
    "import pandas as pd\n",
    "import numpy as np\n",
    "from collections import Counter\n",
    "\n",
    "dataset = pd.DataFrame({'Outlook':['sunny','sunny','overcast','rain','rain','rain','overcast','sunny','sunny','rain','sunny','overcast','overcast','rain'],  \n",
    "                        'Temperatur':['hot','hot','hot','mild','cold','cold','cold','mild','cold','mild','mild','mild','hot','mild'], \n",
    "                        'Humidity':['high','high','high','high','normal','normal','normal','high','normal','normal','normal','high','normal','high'], \n",
    "                        'Wind' :['weak','strong','weak','weak','weak','strong','strong','weak','weak','weak','strong','strong','weak','strong'], \n",
    "                        'PlayTennis':[0,0,1,1,1,0,1,0,1,1,1,1,1,0]})\n",
    "dataset"
   ]
  },
  {
   "cell_type": "code",
   "execution_count": null,
   "id": "bd5623fc",
   "metadata": {},
   "outputs": [],
   "source": [
    "from scipy.stats import entropy\n",
    "P_tennis       = 9/14\n",
    "P_no_tennis    = 5/14\n",
    "entropy_tennis = entropy([P_tennis, P_no_tennis], base=2)\n",
    "print(entropy_tennis)"
   ]
  },
  {
   "cell_type": "markdown",
   "id": "721605bc",
   "metadata": {},
   "source": [
    "$$P(PlayTennis ==  yes) = \\frac{9}{14}$$\n",
    "$$P(PlayTennis ==  no) = \\frac{5}{14}$$\n",
    "$$ H(PlayTennis) =  - \\frac{9}{14} * \\log_2 (\\frac{9}{14})  - \\frac{5}{14} * \\log_2 (\\frac{5}{14})  $$"
   ]
  },
  {
   "cell_type": "code",
   "execution_count": null,
   "id": "6a00d8c1",
   "metadata": {},
   "outputs": [],
   "source": [
    "from math import log\n",
    "\n",
    "def entropy_(data, base):\n",
    "    value,counts = np.unique(data, return_counts=True)\n",
    "    # print(\"value\", value)\n",
    "    # print(\"counts\", counts)\n",
    "    probs = counts / len(data)\n",
    "    ent = 0\n",
    "    for p in probs:\n",
    "        if p > 0.:\n",
    "            ent -= p * log(p, base)\n",
    "    return ent"
   ]
  },
  {
   "cell_type": "code",
   "execution_count": null,
   "id": "8ab4a823",
   "metadata": {},
   "outputs": [],
   "source": [
    "print(entropy_(dataset['PlayTennis'], 2))"
   ]
  },
  {
   "cell_type": "markdown",
   "id": "6563987d",
   "metadata": {},
   "source": [
    "What is the conditional entropy 𝐻(𝑃𝑙𝑎𝑦𝑇𝑒𝑛𝑛𝑖𝑠?|𝐻𝑢𝑚𝑖𝑑𝑖𝑡𝑦)\n",
    "\n",
    "$$P(Humidity =  high)   = \\frac{7}{14}$$\n",
    "$$P(Humidity =  normal) = \\frac{7}{14}$$"
   ]
  },
  {
   "cell_type": "code",
   "execution_count": null,
   "id": "04ffe686",
   "metadata": {},
   "outputs": [],
   "source": [
    "data1 = dataset['PlayTennis'][dataset['Humidity']=='high']\n",
    "print(data1)"
   ]
  },
  {
   "cell_type": "markdown",
   "id": "ee4c83da",
   "metadata": {},
   "source": [
    "$$ H(PlayTennis|Humidity=high) =  - \\frac{4}{7} * \\log_2 (\\frac{4}{7})  - \\frac{3}{7} * \\log_2 (\\frac{3}{7})  $$"
   ]
  },
  {
   "cell_type": "code",
   "execution_count": null,
   "id": "b92ea7cb",
   "metadata": {},
   "outputs": [],
   "source": [
    " - 4/7 * log(4/7 ,2)  - 3/7 * log(3/7 , 2)"
   ]
  },
  {
   "cell_type": "code",
   "execution_count": null,
   "id": "75f497dc",
   "metadata": {},
   "outputs": [],
   "source": [
    "data2 = dataset['PlayTennis'][dataset['Humidity']=='normal']\n",
    "print(data2)"
   ]
  },
  {
   "cell_type": "markdown",
   "id": "4585cf1e",
   "metadata": {},
   "source": [
    "$$ H(PlayTennis|Humidity=normal) =  - \\frac{1}{7} * \\log_2 (\\frac{1}{7})  - \\frac{6}{7} * \\log_2 (\\frac{6}{7})  $$"
   ]
  },
  {
   "cell_type": "code",
   "execution_count": null,
   "id": "4709c975",
   "metadata": {},
   "outputs": [],
   "source": [
    "- 1/7 * log(1/7 ,2)  - 6/7 * log(6/7 , 2)"
   ]
  },
  {
   "cell_type": "code",
   "execution_count": null,
   "id": "42875b0b",
   "metadata": {},
   "outputs": [],
   "source": [
    "def centropy_(data,attribute1,attribute2, base):\n",
    "    value,counts = np.unique(data[attribute2],return_counts=True)\n",
    "    probs = counts / len(data)\n",
    "    cent = 0\n",
    "    for v,p in zip(value,probs):\n",
    "        _data =  data[attribute1][data[attribute2]==v]\n",
    "        ent   = entropy_(_data, 2)\n",
    "        if p > 0.:\n",
    "            cent += p * ent\n",
    "    return cent"
   ]
  },
  {
   "cell_type": "code",
   "execution_count": null,
   "id": "28a73c39",
   "metadata": {},
   "outputs": [],
   "source": [
    "centropy_(data,'PlayTennis','Humidity', 2)"
   ]
  },
  {
   "cell_type": "markdown",
   "id": "8aa97dbb",
   "metadata": {},
   "source": [
    "$$ H(PlayTennis|Humidity) =  𝑃(𝐻𝑢𝑚𝑖𝑑𝑖𝑡𝑦=normal) H(PlayTennis|Humidity=normal)  + 𝑃(𝐻𝑢𝑚𝑖𝑑𝑖𝑡𝑦=ℎ𝑖𝑔ℎ) H(PlayTennis|Humidity=ℎ𝑖𝑔ℎ)$$"
   ]
  },
  {
   "cell_type": "code",
   "execution_count": null,
   "id": "70cebd1f",
   "metadata": {},
   "outputs": [],
   "source": [
    "7/14 * 0.9852281360342516 + 7/14 *  0.5916727785823275"
   ]
  },
  {
   "cell_type": "markdown",
   "id": "c05dcfea",
   "metadata": {},
   "source": [
    "What is the conditional entropy 𝐻(𝑃𝑙𝑎𝑦𝑇𝑒𝑛𝑛𝑖𝑠?|Wind)"
   ]
  },
  {
   "cell_type": "code",
   "execution_count": null,
   "id": "86cd4373",
   "metadata": {},
   "outputs": [],
   "source": [
    "centropy_(dataset,'PlayTennis','Wind', 2)"
   ]
  },
  {
   "cell_type": "markdown",
   "id": "aaa03fd0",
   "metadata": {},
   "source": [
    "What is the information gain $𝐼𝐺(𝐻𝑢𝑚𝑖𝑑𝑖𝑡𝑦)$?\n",
    "$$𝐼𝐺(𝐻𝑢𝑚𝑖𝑑𝑖𝑡𝑦) = 𝐻(𝑃𝑙𝑎𝑦𝑇𝑒𝑛𝑛𝑖𝑠?) - 𝐻(𝑃𝑙𝑎𝑦𝑇𝑒𝑛𝑛𝑖𝑠?|𝐻𝑢𝑚𝑖𝑑𝑖𝑡𝑦) = 0.9402859586706309 - 0.7884504573082896 = 0.1518 $$ "
   ]
  },
  {
   "cell_type": "code",
   "execution_count": null,
   "id": "03b49f72",
   "metadata": {},
   "outputs": [],
   "source": [
    "def ig(data,attribute1,attribute2, base):\n",
    "    return entropy_(data[attribute1], base) - centropy_(data,attribute1,attribute2, base)      "
   ]
  },
  {
   "cell_type": "code",
   "execution_count": null,
   "id": "9dfc9bdb",
   "metadata": {},
   "outputs": [],
   "source": [
    "print(ig(dataset,'PlayTennis','Humidity', 2))"
   ]
  },
  {
   "cell_type": "markdown",
   "id": "9636bd6c",
   "metadata": {},
   "source": [
    "What is the information gain $𝐼𝐺(𝑊𝑖𝑛𝑑)$?"
   ]
  },
  {
   "cell_type": "code",
   "execution_count": null,
   "id": "974a3cdf",
   "metadata": {},
   "outputs": [],
   "source": [
    "print(ig(dataset,'PlayTennis','Wind', 2))"
   ]
  },
  {
   "cell_type": "markdown",
   "id": "cbf7e89d",
   "metadata": {},
   "source": [
    "What feature will we split on at the root? Why?"
   ]
  },
  {
   "cell_type": "markdown",
   "id": "82d3a685",
   "metadata": {},
   "source": [
    "How can the new sample be classified in view of the tree, with only two attributes Humidity and Wind?\n",
    "* Humidity = normal \t\n",
    "* Wind = strong"
   ]
  },
  {
   "cell_type": "code",
   "execution_count": null,
   "id": "916b1f4f",
   "metadata": {},
   "outputs": [],
   "source": [
    "node_1= dataset[dataset['Humidity']=='normal']\n",
    "node_1"
   ]
  },
  {
   "cell_type": "code",
   "execution_count": null,
   "id": "ab1be88b",
   "metadata": {},
   "outputs": [],
   "source": [
    "node_2= node_1[dataset['Wind']=='strong']\n",
    "node_2"
   ]
  },
  {
   "cell_type": "code",
   "execution_count": null,
   "id": "208d1ef2",
   "metadata": {},
   "outputs": [],
   "source": [
    "print(\"we will play Tennis with probablitiy\", 2/3)"
   ]
  },
  {
   "cell_type": "markdown",
   "id": "42783557",
   "metadata": {},
   "source": [
    "## Random Forest \n",
    "\n",
    "Consider the construction of a Random Forest with $t = 6$ binary trees. To make the trees uncorrelated, random sampling \"bootstrap sampling\" is used. Assume that each tree uses $n = 8$ bootstrap training samples.\n",
    "\n",
    "* Calculate the probability that a given sample (e.g., the first sample) is never considered by the third tree."
   ]
  },
  {
   "cell_type": "code",
   "execution_count": null,
   "id": "8e984419",
   "metadata": {
    "scrolled": true
   },
   "outputs": [],
   "source": [
    "n = 8\n",
    "## The probability that it is considered in the third tree\n",
    "p = 1/n\n",
    "# The probability that it is not considered in the third tree is\n",
    "p_not = 1- p \n",
    "print(p_not)"
   ]
  },
  {
   "cell_type": "markdown",
   "id": "61984d69",
   "metadata": {},
   "source": [
    "Is this anwer correct and why?"
   ]
  },
  {
   "cell_type": "code",
   "execution_count": null,
   "id": "b5223f0c",
   "metadata": {},
   "outputs": [],
   "source": []
  }
 ],
 "metadata": {
  "kernelspec": {
   "display_name": "venv_wmec",
   "language": "python",
   "name": "venv_wmec"
  },
  "language_info": {
   "codemirror_mode": {
    "name": "ipython",
    "version": 3
   },
   "file_extension": ".py",
   "mimetype": "text/x-python",
   "name": "python",
   "nbconvert_exporter": "python",
   "pygments_lexer": "ipython3",
   "version": "3.8.10"
  }
 },
 "nbformat": 4,
 "nbformat_minor": 5
}
