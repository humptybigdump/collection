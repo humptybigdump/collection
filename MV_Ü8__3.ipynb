{
 "cells": [
  {
   "cell_type": "markdown",
   "metadata": {},
   "source": [
    "<img src=\"kit_logo.jpg\" width=\"200\" height=\"200\" align=\"right\"/>\n",
    "\n",
    "##### Lehrstuhl für Analytics and Statistics (IOR)\n",
    "##### Prof. Dr. Oliver Grothe\n",
    "##### SS 2020"
   ]
  },
  {
   "cell_type": "markdown",
   "metadata": {},
   "source": [
    "# Multivariate Verfahren\n",
    "## Übung 8"
   ]
  },
  {
   "cell_type": "markdown",
   "metadata": {},
   "source": [
    "### Aufgabe 5"
   ]
  },
  {
   "cell_type": "markdown",
   "metadata": {},
   "source": [
    "Verwenden Sie den Datensatz *`psi.csv`* aus Ilias. Der Datensatz enthält Werte einer\n",
    "Studie zu Schülern im Bildungssystem PSI (Personalized System of Instruction). \n",
    "\n",
    "Schätzen Sie ein Logit-Modell auf der abhängigen Variablen ,,GRADE”, die angibt, ob sich die Note\n",
    "des Schülers verbessert hat (Kodierung 1) oder nicht (Kodierung 0). Verwenden Sie als Regressoren\n",
    "einen konstanten Term, sowie die Variablen ,,PSI” (Dummyvariable zur Teilnahme\n",
    "am PSI), ,,TUCE” (Resultate eines Vortests) und ,,GPA” (Grade Point Average, entspricht\n",
    "der deutschen Abiturnote).\n"
   ]
  },
  {
   "cell_type": "markdown",
   "metadata": {},
   "source": [
    "#### Datenvorbereitung"
   ]
  },
  {
   "cell_type": "markdown",
   "metadata": {},
   "source": [
    "- Daten einlesen:"
   ]
  },
  {
   "cell_type": "code",
   "execution_count": 1,
   "metadata": {},
   "outputs": [
    {
     "data": {
      "text/html": [
       "<div>\n",
       "<style scoped>\n",
       "    .dataframe tbody tr th:only-of-type {\n",
       "        vertical-align: middle;\n",
       "    }\n",
       "\n",
       "    .dataframe tbody tr th {\n",
       "        vertical-align: top;\n",
       "    }\n",
       "\n",
       "    .dataframe thead th {\n",
       "        text-align: right;\n",
       "    }\n",
       "</style>\n",
       "<table border=\"1\" class=\"dataframe\">\n",
       "  <thead>\n",
       "    <tr style=\"text-align: right;\">\n",
       "      <th></th>\n",
       "      <th>GRADE</th>\n",
       "      <th>PSI</th>\n",
       "      <th>TUCE</th>\n",
       "      <th>GPA</th>\n",
       "    </tr>\n",
       "  </thead>\n",
       "  <tbody>\n",
       "    <tr>\n",
       "      <th>0</th>\n",
       "      <td>0</td>\n",
       "      <td>0</td>\n",
       "      <td>20</td>\n",
       "      <td>2.66</td>\n",
       "    </tr>\n",
       "    <tr>\n",
       "      <th>1</th>\n",
       "      <td>0</td>\n",
       "      <td>0</td>\n",
       "      <td>22</td>\n",
       "      <td>2.89</td>\n",
       "    </tr>\n",
       "    <tr>\n",
       "      <th>2</th>\n",
       "      <td>0</td>\n",
       "      <td>0</td>\n",
       "      <td>24</td>\n",
       "      <td>3.28</td>\n",
       "    </tr>\n",
       "    <tr>\n",
       "      <th>3</th>\n",
       "      <td>0</td>\n",
       "      <td>0</td>\n",
       "      <td>12</td>\n",
       "      <td>2.92</td>\n",
       "    </tr>\n",
       "    <tr>\n",
       "      <th>4</th>\n",
       "      <td>1</td>\n",
       "      <td>0</td>\n",
       "      <td>21</td>\n",
       "      <td>4.00</td>\n",
       "    </tr>\n",
       "    <tr>\n",
       "      <th>5</th>\n",
       "      <td>0</td>\n",
       "      <td>0</td>\n",
       "      <td>17</td>\n",
       "      <td>2.86</td>\n",
       "    </tr>\n",
       "    <tr>\n",
       "      <th>6</th>\n",
       "      <td>0</td>\n",
       "      <td>0</td>\n",
       "      <td>17</td>\n",
       "      <td>2.76</td>\n",
       "    </tr>\n",
       "    <tr>\n",
       "      <th>7</th>\n",
       "      <td>0</td>\n",
       "      <td>0</td>\n",
       "      <td>21</td>\n",
       "      <td>2.87</td>\n",
       "    </tr>\n",
       "    <tr>\n",
       "      <th>8</th>\n",
       "      <td>0</td>\n",
       "      <td>0</td>\n",
       "      <td>25</td>\n",
       "      <td>3.03</td>\n",
       "    </tr>\n",
       "    <tr>\n",
       "      <th>9</th>\n",
       "      <td>1</td>\n",
       "      <td>0</td>\n",
       "      <td>29</td>\n",
       "      <td>3.92</td>\n",
       "    </tr>\n",
       "  </tbody>\n",
       "</table>\n",
       "</div>"
      ],
      "text/plain": [
       "   GRADE  PSI  TUCE   GPA\n",
       "0      0    0    20  2.66\n",
       "1      0    0    22  2.89\n",
       "2      0    0    24  3.28\n",
       "3      0    0    12  2.92\n",
       "4      1    0    21  4.00\n",
       "5      0    0    17  2.86\n",
       "6      0    0    17  2.76\n",
       "7      0    0    21  2.87\n",
       "8      0    0    25  3.03\n",
       "9      1    0    29  3.92"
      ]
     },
     "execution_count": 1,
     "metadata": {},
     "output_type": "execute_result"
    }
   ],
   "source": [
    "import numpy as np\n",
    "import pandas as pd\n",
    "from mpl_toolkits import mplot3d\n",
    "%matplotlib inline\n",
    "import matplotlib.pyplot as plt\n",
    "df = pd.read_csv(\"psi.csv\",sep=',',header=None)\n",
    "df.columns=['GRADE', 'PSI', 'TUCE', 'GPA']\n",
    "df[:10]"
   ]
  },
  {
   "cell_type": "markdown",
   "metadata": {},
   "source": [
    "-  Eine konstante Spalte in Regressoren hinzufügen"
   ]
  },
  {
   "cell_type": "code",
   "execution_count": 2,
   "metadata": {},
   "outputs": [
    {
     "data": {
      "text/plain": [
       "array([[ 1.  ,  0.  , 20.  ,  2.66],\n",
       "       [ 1.  ,  0.  , 22.  ,  2.89],\n",
       "       [ 1.  ,  0.  , 24.  ,  3.28],\n",
       "       [ 1.  ,  0.  , 12.  ,  2.92],\n",
       "       [ 1.  ,  0.  , 21.  ,  4.  ],\n",
       "       [ 1.  ,  0.  , 17.  ,  2.86],\n",
       "       [ 1.  ,  0.  , 17.  ,  2.76],\n",
       "       [ 1.  ,  0.  , 21.  ,  2.87],\n",
       "       [ 1.  ,  0.  , 25.  ,  3.03],\n",
       "       [ 1.  ,  0.  , 29.  ,  3.92]])"
      ]
     },
     "execution_count": 2,
     "metadata": {},
     "output_type": "execute_result"
    }
   ],
   "source": [
    "import statsmodels.api as sm\n",
    "data=pd.DataFrame.to_numpy(df.iloc[:,1:])\n",
    "X=sm.add_constant(data)\n",
    "X[:10]"
   ]
  },
  {
   "cell_type": "markdown",
   "metadata": {},
   "source": [
    "- Regressand: Grade value"
   ]
  },
  {
   "cell_type": "code",
   "execution_count": 3,
   "metadata": {},
   "outputs": [
    {
     "data": {
      "text/plain": [
       "array([0, 0, 0, 0, 1, 0, 0, 0, 0, 1], dtype=int64)"
      ]
     },
     "execution_count": 3,
     "metadata": {},
     "output_type": "execute_result"
    }
   ],
   "source": [
    "gd=pd.DataFrame.to_numpy(df.iloc[:,0])\n",
    "gd[:10]"
   ]
  },
  {
   "cell_type": "markdown",
   "metadata": {},
   "source": [
    "- Plot Daten markiert mit Grade"
   ]
  },
  {
   "cell_type": "code",
   "execution_count": 14,
   "metadata": {},
   "outputs": [],
   "source": [
    "data_1 = X[gd == 1] # Schüler mit verbessert Note \n",
    "data_0 = X[gd == 0] # Schüler mit nicht verbessert Note "
   ]
  },
  {
   "cell_type": "code",
   "execution_count": 13,
   "metadata": {},
   "outputs": [
    {
     "data": {
      "image/png": "[encoded data removed]",
      "text/plain": [
       "<Figure size 432x288 with 1 Axes>"
      ]
     },
     "metadata": {
      "needs_background": "light"
     },
     "output_type": "display_data"
    }
   ],
   "source": [
    "fig = plt.figure()\n",
    "ax = plt.axes(projection='3d')\n",
    "ax.scatter(data_1[:,1],data_1[:,2],data_1[:,3],c='red',label='grade=1')\n",
    "ax.scatter(data_0[:,1],data_0[:,2],data_0[:,3],c='blue',label='grade=´0')\n",
    "ax.view_init(None, 300)\n",
    "ax.legend(loc='upper right')\n",
    "plt.show()"
   ]
  },
  {
   "cell_type": "markdown",
   "metadata": {},
   "source": [
    "#### Logistische Regression"
   ]
  },
  {
   "cell_type": "markdown",
   "metadata": {},
   "source": [
    "- manuelle Schätzung der Parameter"
   ]
  },
  {
   "cell_type": "code",
   "execution_count": 16,
   "metadata": {},
   "outputs": [
    {
     "name": "stdout",
     "output_type": "stream",
     "text": [
      "Optimization terminated successfully.\n",
      "         Current function value: 12.889634\n",
      "         Iterations: 257\n",
      "         Function evaluations: 432\n"
     ]
    }
   ],
   "source": [
    "# caculate per hand (mle)\n",
    "from scipy.optimize import fmin\n",
    "from numpy import exp,log,sum\n",
    "def logcdf(x):\n",
    "    y = exp(x)/(1+exp(x))\n",
    "    return y\n",
    "def negloglike(b,x,y):\n",
    "    likeli = logcdf(np.multiply(np.transpose(2*y-1),np.dot(x,b)))\n",
    "    ll = sum(log(likeli))\n",
    "    return -ll\n",
    "beta_logit = fmin(negloglike,x0=np.array([1,1,1,1]), args=(X,gd))\n"
   ]
  },
  {
   "cell_type": "markdown",
   "metadata": {},
   "source": [
    "Die geschätzten Koeffizienten $\\hat{\\beta}$"
   ]
  },
  {
   "cell_type": "code",
   "execution_count": 17,
   "metadata": {},
   "outputs": [
    {
     "data": {
      "text/plain": [
       "array([-13.02136302,   2.37869558,   0.09515761,   2.82611797])"
      ]
     },
     "execution_count": 17,
     "metadata": {},
     "output_type": "execute_result"
    }
   ],
   "source": [
    "beta_logit"
   ]
  },
  {
   "cell_type": "markdown",
   "metadata": {},
   "source": [
    "Die minimierte negative Loglikelihood"
   ]
  },
  {
   "cell_type": "code",
   "execution_count": 18,
   "metadata": {},
   "outputs": [
    {
     "data": {
      "text/plain": [
       "12.8896342222045"
      ]
     },
     "execution_count": 18,
     "metadata": {},
     "output_type": "execute_result"
    }
   ],
   "source": [
    "ll_logit = negloglike(beta_logit,X,gd)\n",
    "ll_logit"
   ]
  },
  {
   "cell_type": "markdown",
   "metadata": {},
   "source": [
    "- Schätzung der Parameter mit generalisierte lineare Modelle (GLM)"
   ]
  },
  {
   "cell_type": "code",
   "execution_count": 21,
   "metadata": {},
   "outputs": [
    {
     "data": {
      "text/plain": [
       "array([-13.02134686,   2.37868765,   0.09515766,   2.82611259])"
      ]
     },
     "execution_count": 21,
     "metadata": {},
     "output_type": "execute_result"
    }
   ],
   "source": [
    "# generalized linear regression using binomial dirtriburion \n",
    "import statsmodels.api as sm \n",
    "glm_binom = sm.GLM(gd,X,family=sm.families.Binomial())\n",
    "glm_result = glm_binom.fit()\n",
    "\n",
    "beta_logit_2=glm_result.params\n",
    "beta_logit_2"
   ]
  },
  {
   "cell_type": "code",
   "execution_count": 23,
   "metadata": {},
   "outputs": [
    {
     "data": {
      "text/plain": [
       "12.889634222131416"
      ]
     },
     "execution_count": 23,
     "metadata": {},
     "output_type": "execute_result"
    }
   ],
   "source": [
    "ll_logit_2 = negloglike(beta_logit_2,X,gd)\n",
    "ll_logit_2"
   ]
  }
 ],
 "metadata": {
  "kernelspec": {
   "display_name": "Python 3",
   "language": "python",
   "name": "python3"
  },
  "language_info": {
   "codemirror_mode": {
    "name": "ipython",
    "version": 3
   },
   "file_extension": ".py",
   "mimetype": "text/x-python",
   "name": "python",
   "nbconvert_exporter": "python",
   "pygments_lexer": "ipython3",
   "version": "3.7.4"
  }
 },
 "nbformat": 4,
 "nbformat_minor": 4
}
