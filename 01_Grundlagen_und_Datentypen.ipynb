{
 "cells": [
  {
   "cell_type": "markdown",
   "metadata": {},
   "source": [
    "## Grundlegende Datentypen und Operatoren"
   ]
  },
  {
   "cell_type": "code",
   "execution_count": null,
   "metadata": {},
   "outputs": [],
   "source": [
    "# Integer\n",
    "a = 1\n",
    "print(a)\n",
    "print(type(a))"
   ]
  },
  {
   "cell_type": "code",
   "execution_count": null,
   "metadata": {},
   "outputs": [],
   "source": [
    "# Double\n",
    "b = 1.\n",
    "print(b)\n",
    "print(type(b))"
   ]
  },
  {
   "cell_type": "code",
   "execution_count": null,
   "metadata": {},
   "outputs": [],
   "source": [
    "# String\n",
    "string1 = 'Hello World'\n",
    "string2 = \"Hello World\"\n",
    "print(string1,string2)\n",
    "print(string1 + string2)"
   ]
  },
  {
   "cell_type": "code",
   "execution_count": null,
   "metadata": {},
   "outputs": [],
   "source": [
    "# Python erlaubt die dynamische Zuweisung von Datentypen (vs. statische Zuweisung + Kompilieren, wie z.B in Fortran).\n",
    "# Der Datentyp einer Variable muss also nicht explizit im Voraus gesetzt werden.\n",
    "# Python schließt bei Ausführung des Codes automatisch auf den korrekten Datentyp, dieser kann sich im Code auch ändern.\n",
    "\n",
    "q = 1\n",
    "print(type(q))\n",
    "q = 3.14\n",
    "print(type(q))\n",
    "q = \"Ich bin ein String\"\n",
    "print(type(q))\n",
    "\n",
    "# Vorteil: Besser lesbarer, weniger verboser Code - Beschränkung auf die eigentliche \"Logik\" des Programms\n",
    "# Nachteil: Geschwindigkeit, gewisse Fehleranfälligkeit \n",
    "# (Bei größeren Anwendungungen bei denen der Datentyp relevant ist, sind ggf. manuelle typechecks angebracht)"
   ]
  },
  {
   "cell_type": "code",
   "execution_count": null,
   "metadata": {},
   "outputs": [],
   "source": [
    "# Addition\n",
    "a = 1\n",
    "b = 2\n",
    "\n",
    "c = a + b\n",
    "print(c)\n",
    "print(type(c))\n",
    "\n",
    "# Anmerkung: Bei gemischter Nutzung schließt Python (sofern möglich) auf den resultierenden Datentyp\n",
    "# Beispiel: double + int -> Konvertierung zu double\n",
    "\n",
    "a = 1\n",
    "b = 2.5\n",
    "\n",
    "c = a + b\n",
    "print(c)\n",
    "print(type(c))"
   ]
  },
  {
   "cell_type": "code",
   "execution_count": null,
   "metadata": {},
   "outputs": [],
   "source": [
    "# Multiplikation und Division\n",
    "d = (c-b)/c*a\n",
    "print(d)"
   ]
  },
  {
   "cell_type": "code",
   "execution_count": null,
   "metadata": {},
   "outputs": [],
   "source": [
    "# Potenzen\n",
    "e = c**2\n",
    "print(e)"
   ]
  },
  {
   "cell_type": "code",
   "execution_count": null,
   "metadata": {},
   "outputs": [],
   "source": [
    "# Modulo Operator\n",
    "f = 24%7\n",
    "print(f)"
   ]
  },
  {
   "cell_type": "markdown",
   "metadata": {},
   "source": [
    "## Listen, Tupel und Dictionaries"
   ]
  },
  {
   "cell_type": "code",
   "execution_count": null,
   "metadata": {},
   "outputs": [],
   "source": [
    "# Listen\n",
    "\n",
    "liste_1 = [1,2,3.,4,'String']\n",
    "print(liste_1)"
   ]
  },
  {
   "cell_type": "code",
   "execution_count": null,
   "metadata": {},
   "outputs": [],
   "source": [
    "# Tupel\n",
    "\n",
    "tupel_1 = (1,2,3.,4,'String')\n",
    "print(tupel_1)"
   ]
  },
  {
   "cell_type": "code",
   "execution_count": null,
   "metadata": {},
   "outputs": [],
   "source": [
    "# Auf Elemente zugreifen - WICHTIG: Indizierung beginnt bei 0!\n",
    "\n",
    "print(liste_1[4])\n",
    "print(tupel_1[2])"
   ]
  },
  {
   "cell_type": "code",
   "execution_count": null,
   "metadata": {},
   "outputs": [],
   "source": [
    "# Slicing - man kann einfach auf mehrere Elemente einer Liste/eines Tupels zugreifen.\n",
    "\n",
    "# Achtung: Die Syntax [i:j] ruft die Elemente i, i+1 , ... , j-1 (!) auf.\n",
    "# Das kann zunächst etwas ungewohnt sein, hat aber den Vorteil, dass sich\n",
    "# aus \"j-i\" leicht die Anzahl der Elemente ablesen lässt\n",
    "# Beispiel: [2:5] -> ab Index 2 werden 3 Elemente aufgerufen\n",
    "\n",
    "print(liste_1[2:5])\n",
    "print(tupel_1[1:3])"
   ]
  },
  {
   "cell_type": "code",
   "execution_count": null,
   "metadata": {},
   "outputs": [],
   "source": [
    "# Liste: veränderbar, Tupel: unveränderbar\n",
    "\n",
    "neue_Liste = [1,2,3,4]\n",
    "neues_Tupel = (1,2,3,4)\n",
    "\n",
    "neue_Liste[0] = 10\n",
    "print(neue_Liste)\n",
    "neue_Liste[2:4] = [22, 33]\n",
    "print(neue_Liste)\n",
    "\n",
    "# Versucht man ein Tupel zu ändern gibt es einen Error\n",
    "try:\n",
    "    neues_Tupel[0] = 10\n",
    "except Exception as e:\n",
    "    print(\"Da ging etwas schief! Error Message:\" ,e)"
   ]
  },
  {
   "cell_type": "code",
   "execution_count": null,
   "metadata": {},
   "outputs": [],
   "source": [
    "# Es existieren noch viele weitere Möglichkeiten zur Manipulation von Listen\n",
    "\n",
    "# Beispiel: Ein Element an eine Liste anhängen\n",
    "liste_1.append(3.5) \n",
    "print(liste_1)\n",
    "\n",
    "# Beispiel: Ein Element aus einer Liste entfernen\n",
    "liste_1.remove('String')\n",
    "print(liste_1)\n",
    "\n",
    "# Beispiel: Liste sortieren\n",
    "liste_1.sort()\n",
    "print(liste_1)\n",
    "\n",
    "# Beispiel: Listen addieren\n",
    "print(liste_1 + [77, 88, 99])\n",
    "\n",
    "# Für mehr Methoden und Beispiele: https://docs.python.org/3/tutorial/datastructures.html#more-on-lists"
   ]
  },
  {
   "cell_type": "code",
   "execution_count": null,
   "metadata": {},
   "outputs": [],
   "source": [
    "# Dictionaries - Listen und Tupel sind geordnete Datenobjekte (die Einträge lassen sich über den Index sortieren)\n",
    "# Dictionaries sind ungeordnet, die Einträge haben keine \"natürliche\" Reihenfolge sondern werden jeweils Tags zugeordnet\n",
    "\n",
    "Studenten = {\n",
    "    \"Anne\" : 25,\n",
    "    \"Daniel\" : 29,\n",
    "    \"Jürgen\" : 22\n",
    "    }\n",
    "\n",
    "print(Studenten[\"Jürgen\"])\n",
    "\n",
    "# Eine Übersicht zur Syntax und Methoden von Dictionaries: https://www.programiz.com/python-programming/dictionary"
   ]
  },
  {
   "cell_type": "markdown",
   "metadata": {},
   "source": [
    "## Loops"
   ]
  },
  {
   "cell_type": "code",
   "execution_count": null,
   "metadata": {},
   "outputs": [],
   "source": [
    "# for-loop\n",
    "# In Python gibt es keine Klammern, wie in C++ und kein end, wie in Matlab. Stattdessen wird mit Tab eingerückt:\n",
    "for i in range(10):\n",
    "    print(i)\n",
    "    \n",
    "# Achtung: Die Einrückungen sind in diesem Falle nicht nur für die Optik sondern tatsächlich syntaxrelevant!"
   ]
  },
  {
   "cell_type": "code",
   "execution_count": null,
   "metadata": {},
   "outputs": [],
   "source": [
    "# while-loop\n",
    "\n",
    "i = 0\n",
    "while i < 10:\n",
    "    print(i)\n",
    "    i+=1"
   ]
  },
  {
   "cell_type": "markdown",
   "metadata": {},
   "source": [
    "## Bool'sche Operationen"
   ]
  },
  {
   "cell_type": "code",
   "execution_count": null,
   "metadata": {},
   "outputs": [],
   "source": [
    "# If Abfrage\n",
    "# In Python gibt es die üblichen Vergleichsoperatoren: <, <=, >, >=, !=, ==\n",
    "\n",
    "for i in range(4):\n",
    "    if i<2:\n",
    "        print('tic')\n",
    "    else:\n",
    "        print('toc')\n"
   ]
  },
  {
   "cell_type": "code",
   "execution_count": null,
   "metadata": {},
   "outputs": [],
   "source": [
    "# Verknüpfung/Negation von Bedingungen über die Logische Operatoren: and, or und not\n",
    "\n",
    "print(not 5 < 4)\n",
    "print(5 < 4 and 2 > 1)\n",
    "print(5 < 4 or 2 > 1)"
   ]
  },
  {
   "cell_type": "markdown",
   "metadata": {},
   "source": [
    "## List Comprehension"
   ]
  },
  {
   "cell_type": "code",
   "execution_count": null,
   "metadata": {},
   "outputs": [],
   "source": [
    "# Über for loops kann man in Python elegant über die Elemente einer Liste (oder anderer iterierbarer Objekte) iterieren\n",
    "\n",
    "# klassisch:\n",
    "for i in range(len(liste_1)):\n",
    "    print(liste_1[i]**2)\n",
    "\n",
    "print(\"\")\n",
    "# python:\n",
    "for element in liste_1:\n",
    "    print(element**2)"
   ]
  },
  {
   "cell_type": "code",
   "execution_count": null,
   "metadata": {},
   "outputs": [],
   "source": [
    "# Für das Füllen/Erstellen von Listen existiert ebenfalls eine einfache/gut lesbare Syntax\n",
    "\n",
    "# klassisch:\n",
    "liste_2 = []\n",
    "for i in range(10):\n",
    "    liste_2.append(i)\n",
    "print(liste_2)\n",
    "\n",
    "# python:\n",
    "liste_3 = [i for i in range(10)]\n",
    "print(liste_3)"
   ]
  },
  {
   "cell_type": "code",
   "execution_count": null,
   "metadata": {},
   "outputs": [],
   "source": [
    "# Das kann auch mit if Bedingungen verknüpft werden\n",
    "\n",
    "liste_4 = [element for element in liste_3 if element%2 == 0]\n",
    "print(liste_4)"
   ]
  }
 ],
 "metadata": {
  "kernelspec": {
   "display_name": "Python 3",
   "language": "python",
   "name": "python3"
  },
  "language_info": {
   "codemirror_mode": {
    "name": "ipython",
    "version": 3
   },
   "file_extension": ".py",
   "mimetype": "text/x-python",
   "name": "python",
   "nbconvert_exporter": "python",
   "pygments_lexer": "ipython3",
   "version": "3.7.3"
  }
 },
 "nbformat": 4,
 "nbformat_minor": 2
}
