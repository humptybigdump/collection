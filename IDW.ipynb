{
  "nbformat": 4,
  "nbformat_minor": 0,
  "metadata": {
    "colab": {
      "provenance": []
    },
    "kernelspec": {
      "name": "python3",
      "display_name": "Python 3"
    },
    "language_info": {
      "name": "python"
    }
  },
  "cells": [
    {
      "cell_type": "markdown",
      "source": [
        "# IDW\n",
        "\n",
        "This exercise is build around the IDW - inverse distance weights - algorithm. Here, you should learn how to code a basic algorithm yourself. That means, do not simply import one of the many available IDW algorithms, but code it yourself.\n",
        "\n",
        "The code shown here is optimized for easy understanding, not performance."
      ],
      "metadata": {
        "id": "N0IzrdM7uoJ5"
      }
    },
    {
      "cell_type": "markdown",
      "source": [
        "## Loading data\n",
        "\n",
        "This first part loads the data from google drive and prepares it for geo-spatial analysis"
      ],
      "metadata": {
        "id": "oVaNRWIW6-yF"
      }
    },
    {
      "cell_type": "code",
      "source": [
        "from google.colab import drive\n",
        "drive.mount('/content/drive')"
      ],
      "metadata": {
        "id": "toQmkgHqvMtj"
      },
      "execution_count": null,
      "outputs": []
    },
    {
      "cell_type": "code",
      "execution_count": null,
      "metadata": {
        "id": "OlUcZfGeundP"
      },
      "outputs": [],
      "source": [
        "from pathlib import Path\n",
        "import math\n",
        "import pandas as pd\n",
        "import pyproj\n",
        "\n",
        "# You need to change this path to match your google drive\n",
        "PATH = Path('/content/drive/MyDrive/Geostatistics/content/data')"
      ]
    },
    {
      "cell_type": "code",
      "source": [
        "input_data = pd.read_csv(PATH / 'precipitation_sums_2022-2023.csv')\n",
        "input_data"
      ],
      "metadata": {
        "id": "8xcLqGaCv3cW"
      },
      "execution_count": null,
      "outputs": []
    },
    {
      "cell_type": "code",
      "source": [
        "# We need to transform from WGS84 to UTM coordinates\n",
        "src = pyproj.crs.CRS.from_epsg(4326)\n",
        "tgt = pyproj.crs.CRS.from_epsg(25832)\n",
        "transform = pyproj.Transformer.from_crs(src, tgt)"
      ],
      "metadata": {
        "id": "OwPUlqzVwDG5"
      },
      "execution_count": null,
      "outputs": []
    },
    {
      "cell_type": "code",
      "source": [
        "# to get input data in the right resoultion, we copy the relevant stations from the file\n",
        "# we will also only use data from Baden-Württemberg\n",
        "sample = input_data.where(input_data.state =='Baden-Württemberg').dropna(how='all')[['longitude', 'latitude', 'value']]\n",
        "\n",
        "# now transform\n",
        "proj_coords = [transform.transform(row.longitude, row.latitude) for _, row in sample.iterrows()]\n",
        "sample['x'] = [p[0] for p in proj_coords]\n",
        "sample['y'] = [p[1] for p in proj_coords]\n",
        "\n",
        "# drop longitude and latitude again\n",
        "sample.drop(['longitude', 'latitude'], axis='columns', inplace=True)\n",
        "sample"
      ],
      "metadata": {
        "id": "VzA0R4-Y1wuO"
      },
      "execution_count": null,
      "outputs": []
    },
    {
      "cell_type": "markdown",
      "source": [
        "## IDW alogrithm\n",
        "\n",
        "In this part you should implement the IDW algorithm for one point."
      ],
      "metadata": {
        "id": "IpQ4nIh46819"
      }
    },
    {
      "cell_type": "code",
      "source": [
        "# first of all, we create a convex hull from the input data\n",
        "from shapely.geometry import MultiPoint, Point\n",
        "\n",
        "points = MultiPoint(list(zip(sample.x, sample.y)))\n",
        "convex_hull = points.convex_hull\n",
        "\n",
        "print(points.bounds)\n",
        "convex_hull"
      ],
      "metadata": {
        "id": "QuBCl60Q7cxt"
      },
      "execution_count": null,
      "outputs": []
    },
    {
      "cell_type": "code",
      "source": [
        "# You can either add an actual location here, or generate a random locations with my code\n",
        "import random\n",
        "\n",
        "def random_point():\n",
        "  return [\n",
        "      random.randint(int(points.bounds[0]), int(points.bounds[2])),   # x-coordinate\n",
        "      random.randint(int(points.bounds[1]), int(points.bounds[3]))    # y-coordinate\n",
        "  ]\n",
        "\n",
        "# set a seed so that we all get the same value\n",
        "random.seed(42)\n",
        "\n",
        "# initial guess\n",
        "location = random_point()\n",
        "\n",
        "# run a loop to create new locations until the location is not only in the\n",
        "# bounding box, but also in the convex hull\n",
        "while not convex_hull.contains(Point(location)):\n",
        "  # do the same thing\n",
        "  location = random_point()\n",
        "\n",
        "# finally we have a location\n",
        "location"
      ],
      "metadata": {
        "id": "t3lCaH9I7LnI"
      },
      "execution_count": null,
      "outputs": []
    },
    {
      "cell_type": "markdown",
      "source": [
        "### Task 4.1\n",
        "\n",
        "Complete the cell below by replacnig `pass` with the actual algorithm to interpolate the value at the location `(x, y)`"
      ],
      "metadata": {
        "id": "K_5zhyJmQF18"
      }
    },
    {
      "cell_type": "code",
      "source": [
        "# Here is your assignment:\n",
        "from math import sqrt\n",
        "\n",
        "def idw_point(x, y, coordinates, values, p = 1) -> float:\n",
        "  # calculate the distances\n",
        "  dist = [sqrt((x - p[0])**2 + (y - p[1])**2) for p in coordinates]\n",
        "\n",
        "  # derive the weights\n",
        "  weights = []                      # <- CHANGE THIS\n",
        "\n",
        "  # weighted sum\n",
        "  weighted_sum = 42                 # <- CHANGE THIS\n",
        "\n",
        "  return weighted_sum"
      ],
      "metadata": {
        "id": "rg8p6tj69zbH"
      },
      "execution_count": null,
      "outputs": []
    },
    {
      "cell_type": "markdown",
      "source": [
        "If you don't change the random seed in `random_point`, you can use this cell to test your code. As long as it raises an `AssertionError`, it did not deliver the expected result"
      ],
      "metadata": {
        "id": "Nm1ghJ0oemnL"
      }
    },
    {
      "cell_type": "code",
      "source": [
        "# test your code\n",
        "\n",
        "coordinates = sample[['x', 'y']].values.tolist()\n",
        "values = sample.value.values.tolist()\n",
        "\n",
        "prediction = idw_point(location[0], location[1], coordinates, values)\n",
        "\n",
        "# test\n",
        "assert prediction - 1946.87 < 0.1\n",
        "print(f\"Rainfall at location ({location[0]}, {location[1]}): {prediction}\")"
      ],
      "metadata": {
        "id": "_i0TBABNsNBr"
      },
      "execution_count": null,
      "outputs": []
    },
    {
      "cell_type": "markdown",
      "source": [
        "### Task 4.2\n",
        "\n",
        "Complete the cell below, in order to create a grid\n"
      ],
      "metadata": {
        "id": "8ljtg8fWr_X5"
      }
    },
    {
      "cell_type": "code",
      "source": [
        "# Set the cell size in meter\n",
        "cell_size = 5000\n",
        "\n",
        "# generate a bounding box from the sample\n",
        "minx =\n",
        "miny =\n",
        "maxx =\n",
        "maxy =\n",
        "\n",
        "# create the x-coordinates\n",
        "x_coords = list(range(minx, maxx + cell_size, cell_size))\n",
        "y_coords = list(range(miny, maxy + cell_size, cell_size))\n",
        "\n",
        "# calculate the grid size\n",
        "grid_size = (len(x_coords), len(y_coords))\n",
        "\n",
        "# grid container - we just list the coordinate combinations in long 1D array\n",
        "grid = []\n",
        "\n",
        "for x in x_coords:\n",
        "  for y in y_coords:\n",
        "    grid.append([x, y])\n",
        "\n",
        "print(f\"Generated a grid of size: {grid_size}\")\n"
      ],
      "metadata": {
        "id": "h_Wwm32_sMD0"
      },
      "execution_count": null,
      "outputs": []
    },
    {
      "cell_type": "markdown",
      "source": [
        "### Task 4.3\n",
        "\n",
        "Now apply the point function to the list of coordinates."
      ],
      "metadata": {
        "id": "1CdLFWkHanO2"
      }
    },
    {
      "cell_type": "code",
      "source": [
        "# this is just a progress bar\n",
        "from tqdm import tqdm\n",
        "\n",
        "# create a container for the result\n",
        "prediction = []\n",
        "\n",
        "# go for each location\n",
        "for (x, y) in tqdm(grid):\n",
        "  # do something here\n"
      ],
      "metadata": {
        "id": "yu1108BpYBKa"
      },
      "execution_count": null,
      "outputs": []
    },
    {
      "cell_type": "markdown",
      "source": [
        "### Bonus\n",
        "\n",
        "Plot your result. For that, you need to transform your data into a meshgrid"
      ],
      "metadata": {
        "id": "z_CPou20bOl_"
      }
    },
    {
      "cell_type": "code",
      "source": [
        "import numpy as np\n",
        "import matplotlib.pyplot as plt\n",
        "\n",
        "# create a grid of all x-coordinates and y-coordinates\n",
        "xx, yy = np.meshgrid(x_coords, y_coords)\n",
        "\n",
        "# reshape the predictions to match the grid. Then transpose to have the rows in the correct order\n",
        "pred = np.asarray(prediction).reshape(grid_size).T\n",
        "\n",
        "plt.imshow(pred, origin='lower', cmap='Blues')\n",
        "plt.colorbar()"
      ],
      "metadata": {
        "colab": {
          "base_uri": "https://localhost:8080/",
          "height": 451
        },
        "id": "i-CS00kgbUdX",
        "outputId": "364dcc20-3e5c-4b84-e33f-81bcd0296bd7"
      },
      "execution_count": null,
      "outputs": [
        {
          "output_type": "execute_result",
          "data": {
            "text/plain": [
              "<matplotlib.colorbar.Colorbar at 0x7ab53d0fdcc0>"
            ]
          },
          "metadata": {},
          "execution_count": 36
        },
        {
          "output_type": "display_data",
          "data": {
            "text/plain": [
              "<Figure size 640x480 with 2 Axes>"
            ],
            "image/png": "[encoded data removed]"
          },
          "metadata": {}
        }
      ]
    }
  ]
}