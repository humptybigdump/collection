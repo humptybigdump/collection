{
 "cells": [
  {
   "cell_type": "markdown",
   "metadata": {},
   "source": [
    "# Lösungsblatt zum 2. Python-Workshop\n",
    "\n",
    "**Hinweis:** Zusätzliche Erläuterungen zu Aufgabe 4 (Potenzmethode) in extra Datei."
   ]
  },
  {
   "cell_type": "markdown",
   "metadata": {},
   "source": [
    "## Aufgabe 1 (leicht)\n",
    "\n",
    "Schreiben Sie eine Prozedur `euclidean_norm(x)`, die für einen Vektor \\\\(x = (x_i) \\in \\mathbb{R}^n\\\\) die Euklid-Norm \n",
    "  \n",
    "\\\\[  \\left\\lVert x \\right\\rVert_2 = \\sqrt{ \\sum_{i=1}^n x_i^2 } \\\\]\n",
    "  \n",
    "berechnet. \n",
    "\n",
    "**Hinweis:** Die Anzahl der Komponenten eines Vektors \\\\(x\\\\) bestimmt man mit `len(x)`."
   ]
  },
  {
   "cell_type": "code",
   "execution_count": 6,
   "metadata": {},
   "outputs": [],
   "source": [
    "import numpy as np\n",
    "def euclidean_norm(x):\n",
    "    n = len(x) \n",
    "    s = 0\n",
    "    for k in range(0,n):\n",
    "        s = s + x[k]**2\n",
    "    return np.sqrt(s)"
   ]
  },
  {
   "cell_type": "code",
   "execution_count": null,
   "metadata": {},
   "outputs": [],
   "source": [
    "# Test\n",
    "x = np.array( [4,4,2] ); print( euclidean_norm( x ) )\n",
    "x = np.array( [-6,2,-3] ); print( euclidean_norm( x ) )\n",
    "x = np.array( [1,-1,1] ); print( euclidean_norm( x ) )"
   ]
  },
  {
   "cell_type": "markdown",
   "metadata": {},
   "source": [
    "## Aufgabe 2 (leicht)\n",
    "\n",
    "Schreiben Sie eine Prozedur `kreuzprod(x,y)`, die das Kreuzprodukt zweier Vektoren \\\\(x,y \\in \\mathbb{R}^3\\\\) berechnet.\n",
    "\n",
    "**Hinweis:** Legen Sie (in der Prozedur) zunächst mit `np.zeros(3)` einen Nullvektor an und füllen Sie diesen mit den Werten des Kreuzprodukts."
   ]
  },
  {
   "cell_type": "code",
   "execution_count": null,
   "metadata": {},
   "outputs": [],
   "source": [
    "import numpy as np"
   ]
  },
  {
   "cell_type": "code",
   "execution_count": null,
   "metadata": {},
   "outputs": [],
   "source": [
    "def kreuzprod( x, y ):\n",
    "    z = np.zeros(3)\n",
    "    z[0] = x[1]*y[2]-x[2]*y[1]\n",
    "    z[1] = x[2]*y[0]-x[0]*y[2]\n",
    "    z[2] = x[0]*y[1]-x[1]*y[0]\n",
    "    return z"
   ]
  },
  {
   "cell_type": "code",
   "execution_count": null,
   "metadata": {},
   "outputs": [],
   "source": [
    "# Beispiel\n",
    "# Wir vergleichen das Ergebnis unserer Prozedur mit dem Ergebnis \n",
    "# der in Numpy verfügbaren Kreuprodukt-Prozedur np.cross.\n",
    "x = np.array( [1,2,3.4] )\n",
    "y = np.array( [1,-1,5] )\n",
    "print( x, 'x', y, '=', kreuzprod(x,y), '=', np.cross( x, y ) )"
   ]
  },
  {
   "cell_type": "markdown",
   "metadata": {},
   "source": [
    "## Aufgabe 3 (mittel)\n",
    "\n",
    "Schreiben Sie eine Prozedur `maxnorm(x)`, die die Maximumnorm eines Vektors \\\\(x \\in \\mathbb{R}^n\\\\) berechnet (ohne Verwendung des `max`-Befehls).\n",
    "\n",
    "**Hinweis:** Die Anzahl der Komponenten eines Vektors \\\\(x\\\\) bestimmt man mit `len(x)`."
   ]
  },
  {
   "cell_type": "code",
   "execution_count": null,
   "metadata": {},
   "outputs": [],
   "source": [
    "import numpy as np"
   ]
  },
  {
   "cell_type": "code",
   "execution_count": null,
   "metadata": {},
   "outputs": [],
   "source": [
    "def maxnorm(x):\n",
    "    n = len(x)\n",
    "    res=0\n",
    "    for i in range(0,n):\n",
    "        if abs(x[i])>res:\n",
    "            res = abs(x[i])\n",
    "            \n",
    "    return res"
   ]
  },
  {
   "cell_type": "code",
   "execution_count": null,
   "metadata": {},
   "outputs": [],
   "source": [
    "# Beispiel\n",
    "vec = np.array([2,-7,4,-5,6,1])\n",
    "print('Vektor:',vec)\n",
    "print('Maximumsnorm des Vektors:',maxnorm(vec))"
   ]
  },
  {
   "cell_type": "markdown",
   "metadata": {},
   "source": [
    "## Aufgabe 4 (mittel)\n",
    "\n",
    "Schreiben Sie eine Funktion `PM(A,x,k)`, die für eine Matrix \\\\(A\\\\), einen Vektor \\\\(x\\\\) und eine natürliche Zahl \\\\(k\\\\) den Einheitsvektor \n",
    "\n",
    "\\\\[\\dfrac{A^k x}{\\lVert A^k x \\rVert_2}\\\\]\n",
    "\n",
    "berechnet. Nehmen Sie ohne Prüfung an, dass \\\\(A\\\\) quadratisch ist und die Dimensionen von \\\\(A\\\\) und \\\\(x\\\\) kompatibel sind. Verwenden Sie zur Berechnung der Euklid-Norm \\\\(\\lVert\\cdot\\rVert_2\\\\) die Prozedur aus Aufgabe 1.\n",
    "\n",
    "Testen Sie Ihre Prozedur zunächst mit \n",
    "\n",
    "\\\\[A = \\left(\\begin{array}{cc} 1 & 2 \\\\ 3 & 0 \\end{array} \\right), \\qquad x = \\left(\\begin{array}{cc} \\frac12 \\\\ -\\frac12 \\end{array} \\right), \\qquad k = 10, 20, 50.\\\\] \n",
    "\n",
    "Verwenden Sie dann beliebige andere Vektoren \\\\(x\\\\) mit derselben Matrix \\\\(A\\\\). Was beobachten Sie? "
   ]
  },
  {
   "cell_type": "code",
   "execution_count": 3,
   "metadata": {},
   "outputs": [],
   "source": [
    "import numpy as np"
   ]
  },
  {
   "cell_type": "code",
   "execution_count": 4,
   "metadata": {},
   "outputs": [],
   "source": [
    "# Prozedur zur Potenzmethode\n",
    "# Die Normierung des Vektors wird nach jeder Multiplikation durchgeführt (Zusatzaufwand!), \n",
    "# da A^n*x für große Werte von n größer als maxreal werden kann, falls A große Eigenwerte besitzt \n",
    "def PM( A, x, k ):\n",
    "    y = x\n",
    "    for k in range(k):\n",
    "        y = A@y\n",
    "        y = y / euclidean_norm(y)\n",
    "    return y"
   ]
  },
  {
   "cell_type": "markdown",
   "metadata": {},
   "source": [
    "Beachten Sie, dass in der Prozedur nur Matrix-Vektor-Produkte berechnet werden und keine (aufwendigen) Matrix-Matrix-Produkte!"
   ]
  },
  {
   "cell_type": "code",
   "execution_count": 7,
   "metadata": {},
   "outputs": [
    {
     "name": "stdout",
     "output_type": "stream",
     "text": [
      "A = [[1 2]\n",
      " [3 0]] \n",
      "\n",
      "10 Iterationen:\n",
      "[0.7665221  0.64221793]\n",
      "[ 0.5 -0.5]\n",
      "\n",
      "20 Iterationen:\n",
      "[0.70816954 0.70604243]\n",
      "\n",
      "50 Iterationen:\n",
      "[0.70710679 0.70710678]\n"
     ]
    }
   ],
   "source": [
    "# Beispiel\n",
    "A = np.array( [ [1,2], [3,0] ] )\n",
    "x = np.array( [1/2,-1/2] )\n",
    "print( 'A =', A, '\\n' )\n",
    "#\n",
    "print( '10 Iterationen:')\n",
    "print( PM( A, x, 10 ) )\n",
    "print(x)\n",
    "print( '\\n20 Iterationen:')\n",
    "print( PM( A, x, 20 ) )\n",
    "print( '\\n50 Iterationen:')\n",
    "print( PM( A, x, 50 ) )"
   ]
  },
  {
   "cell_type": "code",
   "execution_count": null,
   "metadata": {},
   "outputs": [],
   "source": [
    "# Beispiel 2\n",
    "A = np.array( [ [1,2], [3,0] ] )\n",
    "x = np.array( [-np.sqrt(2),-30] )\n",
    "print( 'A =', A, '\\n' )\n",
    "#\n",
    "print( '10 Iterationen:')\n",
    "print( PM( A, x, 10 ) )\n",
    "print(x)\n",
    "print( '\\n20 Iterationen:')\n",
    "print( PM( A, x, 20 ) )\n",
    "print( '\\n50 Iterationen:')\n",
    "print( PM( A, x, 50 ) )"
   ]
  },
  {
   "cell_type": "markdown",
   "metadata": {},
   "source": [
    "Offenbar konvergieren die Vektoren aus der Prozedur für hinreichend großes \\\\(k\\\\) unabhängig vom Startvektor gegen einen der Vektoren \\\\( (\\sqrt2,\\sqrt2)^T \\\\) oder \\\\( (-\\sqrt2,-\\sqrt2)^T \\\\). Schauen Sie sich für eine Erklärung der Ergebnise die Datei \"Erläuterungen zu A4\" im Ilias an."
   ]
  },
  {
   "cell_type": "markdown",
   "metadata": {},
   "source": [
    "## Aufgabe 5 (schwer)\n",
    "\n",
    "1. Schreiben Sie eine Prozedur `LU(A)`, die für eine Matrix \\\\(A\\in\\mathbb{R}^{n\\times n}\\\\) die Matrizen \\\\(L\\\\) und \\\\(U\\\\) der LU-Zerlegung von \\\\(A\\\\) berechnet.  \n",
    "**Hinweis**: Speichern Sie in Ihrer Prozedur zuallererst eine Kopie der Matrix \\\\(A\\\\) als Matrix \\\\(U\\\\), indem Sie den Befehl `U = np.copy(A)` eingeben. Bringen Sie dann innerhalb Ihrer Prozedur die Matrix \\\\(U\\\\) in Dreiecksform und geben Sie sie zusammen mit der Matrix \\\\(L\\\\) zurück. Belassen Sie die Matrix \\\\(A\\\\) hingegen unverändert (*).\n",
    "2. Schreiben Sie eine Prozedur `forward_substitution(L,b)`, die für eine untere Dreiecksmatrix \\\\(L\\in\\mathbb{R}^{n\\times n}\\\\) mit Einsen auf der Diagonale und einen Vektor \\\\(b\\in\\mathbb{R}^n\\\\) die Lösung des LGS \\\\(Lx=b\\\\) mittels Vorwärtssubstitution berechnet.\n",
    "3. Schreiben Sie eine Prozedur `backward_substitution(U,b)`, die für eine obere Dreiecksmatrix \\\\(U\\in\\mathbb{R}^{n\\times n}\\\\) und einen Vektor \\\\(b\\in\\mathbb{R}^n\\\\) die Lösung des LGS \\\\(Ux=b\\\\) mittels Rückwärtssubstitution berechnet.\n",
    "4. Schreiben Sie eine Funktion `LGS(A,b)`, die das LGS \\\\(A x = b\\\\) mithilfe einer LU-Zerlegung von \\\\(A\\\\) löst. \n",
    "\n",
    "Testen Sie all Ihre Prozeduren für das lineare Gleichungssystem \\\\(Ax = b\\\\) mit \n",
    "\n",
    "\\\\[ A = \\begin{pmatrix} 2 & 1 & 1 & 0 \\\\ 4 & 3 & 3 & 1 \\\\ 8 & 7 & 9 & 5 \\\\ 6 & 7 & 9 & 8 \\end{pmatrix}, \\qquad b = \\begin{pmatrix} 0 \\\\ 1 \\\\ 3 \\\\ 2 \\end{pmatrix}. \\\\] \n",
    "\n",
    "Überprüfen Sie insbesondere, ob das Ergebnis Ihrer Prozedur aus Teil 4 tatsächlich eine Lösung des LGS ist.\n",
    "\n",
    "Ändern Sie schließlich die Matrix \\\\(A\\\\) zu\n",
    "\n",
    "\\\\[ A = \\begin{pmatrix} 2 & 2 & -2 & 9 \\\\ 0 & 0 & 2 & 1 \\\\ 2 & 1 & -1 & 3 \\\\ 4 & 0 & 6 & 0 \\end{pmatrix} \\\\]\n",
    "\n",
    "und wenden Sie Ihre Prozeduren erneut an. Was beobachten Sie? Warum?\n",
    "\n",
    "---\n",
    "\n",
    "(*): Der Hinweis ist nötig, da in Python bei Arrays (im Gegensatz zu den klassischen Variablentypen) innerhalb von Prozeduren standardmäßig keine lokale Kopie der Eingabevariablen erstellt wird. Ändern Sie die als Eingabeparameter übergebene Matrix \\\\(A\\\\) innerhalb der Prozedur, so wird gelichzeitig auch die ursprüngliche Matrix \\\\(A\\\\) außerhalb der Prozedur geändert. Durch den Befehl `np.copy(A)` zwingen Sie Pyton hingegen, eine unabhängige Kopie von \\\\(A\\\\) zu erstellen."
   ]
  },
  {
   "cell_type": "code",
   "execution_count": null,
   "metadata": {},
   "outputs": [],
   "source": [
    "import numpy as np"
   ]
  },
  {
   "cell_type": "markdown",
   "metadata": {},
   "source": [
    "#### Prozedur zur LU-Zerlegung:"
   ]
  },
  {
   "cell_type": "code",
   "execution_count": null,
   "metadata": {},
   "outputs": [],
   "source": [
    "def LU(A):\n",
    "    U = np.copy(A)\n",
    "    n = U.shape[0]\n",
    "    L = np.eye(n)\n",
    "    \n",
    "    for k in range(0,n-1):\n",
    "        for i in range(k+1,n):\n",
    "            L[i,k]=U[i,k]/U[k,k]\n",
    "            U[i,k]=0\n",
    "            for j in range(k+1,n):\n",
    "                U[i,j] = -L[i,k]*U[k,j] + U[i,j] \n",
    "    \n",
    "    return L,U"
   ]
  },
  {
   "cell_type": "markdown",
   "metadata": {},
   "source": [
    "**Erläuterungen:** Die Matrix A wird spaltenweise in Dreiecksform gebracht und ergibt am Ende die gewünschte obere Dreiecksmatrix U. Die Matrix L erstellen wir separat. Indem wir L als Einheitsmatrix definieren, erhalten wir direkt die gewünschten Einsen auf der Diagonalen von L. Dann werden in der äußersten for-Schleife die Spalten der Matrix A durchgegangen. Da wir in der letzten Spalte von A keine Nullen erzeugen müssen, bewegt sich der zugehörige Spaltenindex k nur in `range(0,n-1)`. Um in der k-ten Spalte Nullen unterhalb der Diagonale zu erzeugen, werden in der zweiten for-Schleife alle Zeilen unterhalb der Diagonalen, d.h. unterhalb der k-ten Zeile durchgegangen. Für die i-te Zeile berechnen wir zunächst den Eintrag der Matrix L in der i-ten Zeile und k-ten Spalte. Mit dem (-1)-fachen dieses Eintrags, d.h. mit `-L[i,k]`, müssen wir die k-te Zeile von A multiplizieren und dann auf die i-te Zeile von A addieren, um die gewünschte Null in der i-ten Zeile und k-ten Spalte von A zu erzeugen. Den entsprechenden Eintrag von A (`A[i,k]`) setzen wir auf Null und führen in der dritten for-Schleife die Verrechnung der beiden Zeilen durch.\n",
    "\n",
    "Test der Prozedur:"
   ]
  },
  {
   "cell_type": "code",
   "execution_count": null,
   "metadata": {
    "scrolled": true
   },
   "outputs": [],
   "source": [
    "A = np.array([ [2,1,1,0], [4,3,3,1], [8,7,9,5], [6,7,9,8] ])\n",
    "print('Matrix A:')\n",
    "print(A)\n",
    "\n",
    "L,U = LU(A)\n",
    "print('Untere Dreiecksmatrix L:')\n",
    "print(L)\n",
    "print('Obere Dreiecksmatrix U:')\n",
    "print(U)\n",
    "print('Test: Matrix-Produkt von L mit U sollte A entsprechen: ')\n",
    "print(L@U)"
   ]
  },
  {
   "cell_type": "markdown",
   "metadata": {},
   "source": [
    "#### Prozedur zur Vorwärtssubstitution"
   ]
  },
  {
   "cell_type": "code",
   "execution_count": null,
   "metadata": {},
   "outputs": [],
   "source": [
    "def forward_substitution(L,b):\n",
    "    n = len(b)\n",
    "    x = np.zeros(n)\n",
    "    \n",
    "    for i in range(n):\n",
    "        x[i] = b[i]\n",
    "        for j in range(i):\n",
    "            x[i] = x[i] - L[i,j]*x[j]\n",
    "            \n",
    "    return x"
   ]
  },
  {
   "cell_type": "markdown",
   "metadata": {},
   "source": [
    "#### Prozedur zur Rückwärtssubstitution"
   ]
  },
  {
   "cell_type": "code",
   "execution_count": null,
   "metadata": {},
   "outputs": [],
   "source": [
    "def backward_substitution(U,b):\n",
    "    n = len(b)\n",
    "    x = np.zeros(n)\n",
    "    \n",
    "    for i in range(n-1,-1,-1):\n",
    "        x[i] = b[i]\n",
    "        for j in range(i+1,n):\n",
    "            x[i] = x[i] - U[i,j]*x[j]\n",
    "        x[i] = x[i] / U[i,i]\n",
    "    \n",
    "    return x            "
   ]
  },
  {
   "cell_type": "markdown",
   "metadata": {},
   "source": [
    "#### Prozedur zur Lösung eines LGS mit einer gegebenen LU-Zerlegung"
   ]
  },
  {
   "cell_type": "code",
   "execution_count": null,
   "metadata": {},
   "outputs": [],
   "source": [
    "def LGS(A,b):\n",
    "    # Berechne LU-ZErlegung von A\n",
    "    L,U = LU(A)\n",
    "    # Löse Ly = b mit Vorwärtssubstitution\n",
    "    y = forward_substitution(L,b)\n",
    "    # Löse Ux = y mit Rückwärtssubstitution\n",
    "    x = backward_substitution(U,y)\n",
    "    \n",
    "    return x"
   ]
  },
  {
   "cell_type": "markdown",
   "metadata": {},
   "source": [
    "#### Test der Prozedur mit der ersten Matrix:"
   ]
  },
  {
   "cell_type": "code",
   "execution_count": null,
   "metadata": {
    "scrolled": true
   },
   "outputs": [],
   "source": [
    "A = np.array([ [2,1,1,0], [4,3,3,1], [8,7,9,5], [6,7,9,8] ])\n",
    "print('Matrix A:')\n",
    "print(A)\n",
    "\n",
    "b = np.array([0,1,3,2])\n",
    "print('Rechte Seite b:')\n",
    "print('b=',b)\n",
    "\n",
    "x = LGS(A,b)\n",
    "print('Lösung des LGS Ax=b:')\n",
    "print('x =',x)\n",
    "print('Überprüfung: Ist Ax tatsächlich gleich b?')\n",
    "print('Ax = ', A@x)\n"
   ]
  },
  {
   "cell_type": "markdown",
   "metadata": {},
   "source": [
    "#### Test der Prozedur mit der zweiten Matrix:"
   ]
  },
  {
   "cell_type": "code",
   "execution_count": null,
   "metadata": {},
   "outputs": [],
   "source": [
    "A = np.array([ [2,2,-2,9], [0,0,2,1], [2,1,-1,3], [4,0,6,0] ])\n",
    "print('Matrix A:')\n",
    "print(A)\n",
    "\n",
    "b = np.array([0,1,3,2])\n",
    "print('Rechte Seite b:')\n",
    "print('b=',b)\n",
    "\n",
    "x = LGS(A,b)\n",
    "print('Lösung des LGS Ax=b:')\n",
    "print('x =',x)\n",
    "print('Überprüfung: Ist Ax tatsächlich gleich b?')\n",
    "print('Ax = ', A@x)"
   ]
  },
  {
   "cell_type": "markdown",
   "metadata": {},
   "source": [
    "Der Aufruf der Prozedur endet hier in einem Fehler mit dem zusätzlichen Hinweis \"divide by zero encountered\" in der Zeile `L[i,k]=U[i,k]/U[k,k]`. Dies liegt daran, dass (irgendwann im Laufe der Prozedur) das Diagonalelement \\\\(U_{kk}\\\\) der Matrix \\\\(U\\\\) Null ist und demenstprechend keine LU-Zerlegung der Matrix \\\\(A\\\\) existiert. Stattdessen müsste man eine Zeilenvertauschung durchführen, was auf eine PALU-Zerlegung führen würde."
   ]
  }
 ],
 "metadata": {
  "kernelspec": {
   "display_name": "Python 3",
   "language": "python",
   "name": "python3"
  },
  "language_info": {
   "codemirror_mode": {
    "name": "ipython",
    "version": 3
   },
   "file_extension": ".py",
   "mimetype": "text/x-python",
   "name": "python",
   "nbconvert_exporter": "python",
   "pygments_lexer": "ipython3",
   "version": "3.8.3"
  }
 },
 "nbformat": 4,
 "nbformat_minor": 4
}
