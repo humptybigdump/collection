{
 "cells": [
  {
   "cell_type": "markdown",
   "metadata": {},
   "source": [
    "# Messunsicherheit\n",
    "Ein Wagen rollt eine schiefe Ebene aus Holz hinunter und passiert dabei zwei Lichtschranken im Abstand von einem Meter. Die Zeit, die der Wagen zum Durchlaufen der Strecke benötigt wird mit einer Stoppuhr gemessen, die Zeiten auf Tausendstelsekunden genau anzeigt. Die erste Lichtschranke startet die Stoppuhr, die zweiten hält sie wieder an.\n"
   ]
  },
  {
   "cell_type": "code",
   "execution_count": 13,
   "metadata": {},
   "outputs": [
    {
     "name": "stdout",
     "output_type": "stream",
     "text": [
      "[1.1894 1.2481 1.3304 1.1753 1.2087 1.2446 1.218  1.2364 1.2615 1.1744\n",
      " 1.1962 1.1848 1.1688 1.1958 1.211  1.1916 1.1701 1.1768 1.1725 1.1616\n",
      " 1.1825 1.2365]\n",
      "Mean:                1.206\n",
      "Standard deviation:  0.040\n",
      "Uncertainty of mean: 0.009\n"
     ]
    },
    {
     "data": {
      "image/png": "[encoded data removed]",
      "text/plain": [
       "<Figure size 640x480 with 1 Axes>"
      ]
     },
     "metadata": {},
     "output_type": "display_data"
    }
   ],
   "source": [
    "import matplotlib\n",
    "import numpy as np\n",
    "import matplotlib.pyplot as plt\n",
    "\n",
    "# read data file (CSV format)\n",
    "data = np.genfromtxt('../Daten/Daten_Messfehler.csv', delimiter=\",\", skip_header=1 )\n",
    "\n",
    "# measured durations in seconds \n",
    "#durations = np.array([1.1894, 1.2481, 1.3304, 1.1753, 1.2087, 1.2446, 1.218,  1.2364, 1.2615, 1.1744,\n",
    " 1.1962, 1.1848, 1.1688, 1.1958, 1.211,  1.1916, 1.1701, 1.1768, 1.1725, 1.1616,\n",
    " 1.1825, 1.2365] )\n",
    "# get array of durations as projection of second data column\n",
    "durations = data[:,1]\n",
    "\n",
    "# mean and sample standard deviation\n",
    "mean   = durations.mean()           # arithmetic mean\n",
    "std    = durations.std( ddof = 1 )  # Bessel's correction: N-1 in denominator\n",
    "sqrtn  = np.sqrt( len( durations ) ) # sqrt(N)\n",
    "\n",
    "print( \"Mean:                %5.3f\" % mean )\n",
    "print( \"Standard deviation:  %5.3f\" % std )\n",
    "print( \"Uncertainty of mean: %5.3f\" % (std/sqrtn) )\n",
    " \n",
    "# Plot\n",
    "fig,ax = plt.subplots()\n",
    "\n",
    "# histogram\n",
    "dmin = np.round( 0.9*durations.min(), 1 )\n",
    "dmax = np.round( 1.1*durations.max(), 1 )\n",
    "bin_boundaries = np.arange( dmin, dmax, 0.025 )\n",
    "ax.hist( durations, bins=bin_boundaries )\n",
    "\n",
    "# axis labels and grid\n",
    "ax.set_xlabel( r'Duration (s)' )\n",
    "ax.set_ylabel( r'Frequency' )\n",
    "ax.grid( True )\n",
    "\n",
    "# save and show figure\n",
    "plt.savefig( 'messunsicherheit.pdf' )\n",
    "plt.show()"
   ]
  },
  {
   "cell_type": "code",
   "execution_count": null,
   "metadata": {},
   "outputs": [],
   "source": []
  }
 ],
 "metadata": {
  "kernelspec": {
   "display_name": "Python 3",
   "language": "python",
   "name": "python3"
  },
  "language_info": {
   "codemirror_mode": {
    "name": "ipython",
    "version": 3
   },
   "file_extension": ".py",
   "mimetype": "text/x-python",
   "name": "python",
   "nbconvert_exporter": "python",
   "pygments_lexer": "ipython3",
   "version": "3.12.7"
  }
 },
 "nbformat": 4,
 "nbformat_minor": 4
}
