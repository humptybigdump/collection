{
 "cells": [
  {
   "cell_type": "markdown",
   "id": "409a4343",
   "metadata": {},
   "source": [
    "<img src=\"KITlogo_1c_deutsch-eps-converted-to.pdf\" width=\"200\" height=\"200\" align=\"right\"/>\n",
    "\n",
    "##### Lehrstuhl für Analytics and Statistics (IOR)\n",
    "##### Prof. Dr. Oliver Grothe\n",
    "##### SoSe 2024"
   ]
  },
  {
   "cell_type": "markdown",
   "id": "59025995",
   "metadata": {},
   "source": [
    "# Analyse multivariater Daten\n",
    "## Übung 8\n"
   ]
  },
  {
   "cell_type": "code",
   "execution_count": 2,
   "id": "ec408441",
   "metadata": {},
   "outputs": [],
   "source": [
    "import pandas as pd\n",
    "import numpy as np\n",
    "from scipy.stats import t\n",
    "from numpy import linalg\n",
    "import scipy\n",
    "import seaborn as sns\n",
    "import statsmodels.api as sm\n",
    "from statsmodels.formula.api import ols\n",
    "#!pip install seaborn --upgrade\n",
    "import matplotlib.pyplot as plt\n",
    "# Plotting\n",
    "plt.rcParams['figure.figsize'] = [12, 9]\n",
    "sns.set(style='darkgrid')\n",
    "\n",
    "# Warnungen unterdrücken\n",
    "def warn(*args, **kwargs):\n",
    "    pass\n",
    "import warnings\n",
    "warnings.warn = warn"
   ]
  },
  {
   "cell_type": "markdown",
   "id": "51cfb934",
   "metadata": {},
   "source": [
    "## Aufgabe 6\n",
    "Dateneingabe"
   ]
  },
  {
   "cell_type": "code",
   "execution_count": 5,
   "id": "c3ede117",
   "metadata": {},
   "outputs": [
    {
     "data": {
      "text/html": [
       "<div>\n",
       "<style scoped>\n",
       "    .dataframe tbody tr th:only-of-type {\n",
       "        vertical-align: middle;\n",
       "    }\n",
       "\n",
       "    .dataframe tbody tr th {\n",
       "        vertical-align: top;\n",
       "    }\n",
       "\n",
       "    .dataframe thead th {\n",
       "        text-align: right;\n",
       "    }\n",
       "</style>\n",
       "<table border=\"1\" class=\"dataframe\">\n",
       "  <thead>\n",
       "    <tr style=\"text-align: right;\">\n",
       "      <th></th>\n",
       "      <th>Voll</th>\n",
       "      <th>Dreitage</th>\n",
       "      <th>Oberlippe</th>\n",
       "      <th>Ohne</th>\n",
       "    </tr>\n",
       "  </thead>\n",
       "  <tbody>\n",
       "    <tr>\n",
       "      <th>0</th>\n",
       "      <td>1</td>\n",
       "      <td>5</td>\n",
       "      <td>2</td>\n",
       "      <td>0</td>\n",
       "    </tr>\n",
       "    <tr>\n",
       "      <th>1</th>\n",
       "      <td>2</td>\n",
       "      <td>6</td>\n",
       "      <td>4</td>\n",
       "      <td>0</td>\n",
       "    </tr>\n",
       "    <tr>\n",
       "      <th>2</th>\n",
       "      <td>3</td>\n",
       "      <td>10</td>\n",
       "      <td>5</td>\n",
       "      <td>2</td>\n",
       "    </tr>\n",
       "    <tr>\n",
       "      <th>3</th>\n",
       "      <td>4</td>\n",
       "      <td>12</td>\n",
       "      <td>6</td>\n",
       "      <td>5</td>\n",
       "    </tr>\n",
       "    <tr>\n",
       "      <th>4</th>\n",
       "      <td>1</td>\n",
       "      <td>15</td>\n",
       "      <td>4</td>\n",
       "      <td>3</td>\n",
       "    </tr>\n",
       "    <tr>\n",
       "      <th>5</th>\n",
       "      <td>0</td>\n",
       "      <td>7</td>\n",
       "      <td>3</td>\n",
       "      <td>4</td>\n",
       "    </tr>\n",
       "    <tr>\n",
       "      <th>6</th>\n",
       "      <td>3</td>\n",
       "      <td>8</td>\n",
       "      <td>2</td>\n",
       "      <td>2</td>\n",
       "    </tr>\n",
       "    <tr>\n",
       "      <th>7</th>\n",
       "      <td>0</td>\n",
       "      <td>2</td>\n",
       "      <td>3</td>\n",
       "      <td>1</td>\n",
       "    </tr>\n",
       "    <tr>\n",
       "      <th>8</th>\n",
       "      <td>2</td>\n",
       "      <td>10</td>\n",
       "      <td>1</td>\n",
       "      <td>1</td>\n",
       "    </tr>\n",
       "    <tr>\n",
       "      <th>9</th>\n",
       "      <td>1</td>\n",
       "      <td>5</td>\n",
       "      <td>0</td>\n",
       "      <td>2</td>\n",
       "    </tr>\n",
       "  </tbody>\n",
       "</table>\n",
       "</div>"
      ],
      "text/plain": [
       "   Voll  Dreitage  Oberlippe  Ohne\n",
       "0     1         5          2     0\n",
       "1     2         6          4     0\n",
       "2     3        10          5     2\n",
       "3     4        12          6     5\n",
       "4     1        15          4     3\n",
       "5     0         7          3     4\n",
       "6     3         8          2     2\n",
       "7     0         2          3     1\n",
       "8     2        10          1     1\n",
       "9     1         5          0     2"
      ]
     },
     "execution_count": 5,
     "metadata": {},
     "output_type": "execute_result"
    }
   ],
   "source": [
    "late_beard = np.array([[1, 5, 2, 0],\n",
    "    [2, 6, 4, 0],\n",
    "    [3, 10, 5, 2],\n",
    "    [4, 12, 6, 5],\n",
    "    [1, 15, 4, 3],\n",
    "    [0, 7, 3, 4],\n",
    "    [3, 8, 2, 2],\n",
    "    [0, 2, 3, 1],\n",
    "    [2, 10, 1, 1],\n",
    "    [1, 5, 0, 2]])\n",
    "df=pd.DataFrame(late_beard,columns=['Voll','Dreitage','Oberlippe','Ohne'])\n",
    "df"
   ]
  },
  {
   "cell_type": "code",
   "execution_count": 19,
   "id": "371be070",
   "metadata": {},
   "outputs": [
    {
     "name": "stdout",
     "output_type": "stream",
     "text": [
      "15.35922810489857 1.3479617458583985e-06\n"
     ]
    },
    {
     "data": {
      "text/html": [
       "<div>\n",
       "<style scoped>\n",
       "    .dataframe tbody tr th:only-of-type {\n",
       "        vertical-align: middle;\n",
       "    }\n",
       "\n",
       "    .dataframe tbody tr th {\n",
       "        vertical-align: top;\n",
       "    }\n",
       "\n",
       "    .dataframe thead th {\n",
       "        text-align: right;\n",
       "    }\n",
       "</style>\n",
       "<table border=\"1\" class=\"dataframe\">\n",
       "  <thead>\n",
       "    <tr style=\"text-align: right;\">\n",
       "      <th></th>\n",
       "      <th>sum_sq</th>\n",
       "      <th>df</th>\n",
       "      <th>F</th>\n",
       "      <th>PR(&gt;F)</th>\n",
       "    </tr>\n",
       "  </thead>\n",
       "  <tbody>\n",
       "    <tr>\n",
       "      <th>C(beardtype)</th>\n",
       "      <td>258.675</td>\n",
       "      <td>3.0</td>\n",
       "      <td>15.359228</td>\n",
       "      <td>0.000001</td>\n",
       "    </tr>\n",
       "    <tr>\n",
       "      <th>Residual</th>\n",
       "      <td>202.100</td>\n",
       "      <td>36.0</td>\n",
       "      <td>NaN</td>\n",
       "      <td>NaN</td>\n",
       "    </tr>\n",
       "  </tbody>\n",
       "</table>\n",
       "</div>"
      ],
      "text/plain": [
       "               sum_sq    df          F    PR(>F)\n",
       "C(beardtype)  258.675   3.0  15.359228  0.000001\n",
       "Residual      202.100  36.0        NaN       NaN"
      ]
     },
     "execution_count": 19,
     "metadata": {},
     "output_type": "execute_result"
    }
   ],
   "source": [
    "# reshape the d dataframe suitable for statsmodels package \n",
    "df_melt = pd.melt(df.reset_index(), id_vars=['index'], value_vars=['Voll', 'Dreitage', 'Oberlippe', 'Ohne'])\n",
    "# replace column names\n",
    "df_melt.columns = ['index', 'beardtype', 'value']\n",
    "\n",
    "import scipy.stats as stats\n",
    "# stats f_oneway functions takes the groups as input and returns ANOVA F and p value\n",
    "fvalue, pvalue = stats.f_oneway(df['Voll'], df['Dreitage'], df['Oberlippe'], df['Ohne'])\n",
    "print(fvalue, pvalue)\n",
    "\n",
    "\n",
    "# get ANOVA table as R like output\n",
    "import statsmodels.api as sm\n",
    "from statsmodels.formula.api import ols\n",
    "\n",
    "# Ordinary Least Squares (OLS) model\n",
    "model = ols('value ~ C(beardtype)', data=df_melt).fit()\n",
    "anova_table = sm.stats.anova_lm(model, typ=2)\n",
    "anova_table\n"
   ]
  },
  {
   "cell_type": "markdown",
   "id": "96d4fcd3",
   "metadata": {},
   "source": [
    "p Wert < 0.05 ist signifikant. Daher signifikanter Unterschiede zwischen den Bartträgern."
   ]
  },
  {
   "cell_type": "markdown",
   "id": "62735c88-1665-4031-897e-6c7653bd97c7",
   "metadata": {},
   "source": [
    "## Aufgabe 7\n",
    "Bestimmen Sie Eigenwerte und Eigenvektoren der Matrix $A$"
   ]
  },
  {
   "cell_type": "code",
   "execution_count": 15,
   "id": "bbac69a8",
   "metadata": {},
   "outputs": [
    {
     "data": {
      "text/plain": [
       "array([[ 3, -1, -1],\n",
       "       [-1,  3,  1],\n",
       "       [-1,  1,  5]])"
      ]
     },
     "execution_count": 15,
     "metadata": {},
     "output_type": "execute_result"
    }
   ],
   "source": [
    "A=np.array([[3,-1,-1],[-1,3,1],[-1,1,5]])\n",
    "A"
   ]
  },
  {
   "cell_type": "code",
   "execution_count": 18,
   "id": "4d97424a",
   "metadata": {},
   "outputs": [],
   "source": [
    "ew,ev = linalg.eig(A)"
   ]
  },
  {
   "cell_type": "code",
   "execution_count": 19,
   "id": "502a5a46",
   "metadata": {},
   "outputs": [
    {
     "data": {
      "text/plain": [
       "array([6., 2., 3.])"
      ]
     },
     "execution_count": 19,
     "metadata": {},
     "output_type": "execute_result"
    }
   ],
   "source": [
    "ew"
   ]
  },
  {
   "cell_type": "code",
   "execution_count": 20,
   "id": "120f59cb",
   "metadata": {},
   "outputs": [
    {
     "data": {
      "text/plain": [
       "array([[-4.08248290e-01,  7.07106781e-01,  5.77350269e-01],\n",
       "       [ 4.08248290e-01,  7.07106781e-01, -5.77350269e-01],\n",
       "       [ 8.16496581e-01, -1.27652686e-16,  5.77350269e-01]])"
      ]
     },
     "execution_count": 20,
     "metadata": {},
     "output_type": "execute_result"
    }
   ],
   "source": [
    "ev"
   ]
  },
  {
   "cell_type": "code",
   "execution_count": 26,
   "id": "b8e34960",
   "metadata": {},
   "outputs": [],
   "source": [
    "B=np.dot(ev.T,A)"
   ]
  },
  {
   "cell_type": "code",
   "execution_count": 27,
   "id": "76115434",
   "metadata": {},
   "outputs": [
    {
     "data": {
      "text/plain": [
       "array([[ 6.00000000e+00,  1.59507816e-15,  1.23742931e-15],\n",
       "       [ 1.31427776e-15,  2.00000000e+00, -4.10823025e-16],\n",
       "       [ 9.15855623e-16, -6.65190147e-16,  3.00000000e+00]])"
      ]
     },
     "execution_count": 27,
     "metadata": {},
     "output_type": "execute_result"
    }
   ],
   "source": [
    "np.dot(B,ev)"
   ]
  }
 ],
 "metadata": {
  "kernelspec": {
   "display_name": "Python 3 (ipykernel)",
   "language": "python",
   "name": "python3"
  },
  "language_info": {
   "codemirror_mode": {
    "name": "ipython",
    "version": 3
   },
   "file_extension": ".py",
   "mimetype": "text/x-python",
   "name": "python",
   "nbconvert_exporter": "python",
   "pygments_lexer": "ipython3",
   "version": "3.11.7"
  }
 },
 "nbformat": 4,
 "nbformat_minor": 5
}
