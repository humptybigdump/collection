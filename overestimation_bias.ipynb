{
 "cells": [
  {
   "cell_type": "code",
   "execution_count": null,
   "id": "796f17ba-5c66-446f-aadb-6f02a385eebd",
   "metadata": {},
   "outputs": [],
   "source": [
    "Demonstrate the overestimation bias using sampling from a Gaussian distribution"
   ]
  },
  {
   "cell_type": "code",
   "execution_count": 39,
   "id": "acbe2670-0459-4330-a5ef-b371a2da5caa",
   "metadata": {},
   "outputs": [],
   "source": [
    "import numpy as np\n",
    "n_samples = 100\n",
    "\n",
    "mu_X = 0\n",
    "mu_Y = 0\n",
    "\n",
    "sigma_X = 1\n",
    "sigma_Y = 1\n",
    "\n",
    "# Define two random variables: X ~ N(0, 1), Y ~ N(0, 1)\n",
    "X = np.random.normal(mu_X, sigma_X, n_samples)\n",
    "Y = np.random.normal(mu_Y, sigma_Y, n_samples)\n",
    "\n",
    "# Compute max(X, Y) for each sample\n",
    "max_XY = np.maximum(X, Y)\n",
    "\n",
    "# Estimate E[max(X, Y)]\n",
    "expectation_of_max = np.mean(max_XY)\n"
   ]
  },
  {
   "cell_type": "code",
   "execution_count": 27,
   "id": "453ef7ff",
   "metadata": {},
   "outputs": [
    {
     "data": {
      "text/plain": [
       "0.5684862841954088"
      ]
     },
     "execution_count": 27,
     "metadata": {},
     "output_type": "execute_result"
    }
   ],
   "source": [
    "expectation_of_max"
   ]
  },
  {
   "cell_type": "code",
   "execution_count": 40,
   "id": "50e1b7af-246c-4cad-a209-a8c0537f92e8",
   "metadata": {},
   "outputs": [],
   "source": [
    " # Estimate E[X] and E[Y]\n",
    "expectation_X = np.mean(X)\n",
    "expectation_Y = np.mean(Y)\n",
    "\n",
    "# Compute max(E[X], E[Y])\n",
    "max_of_expectations = max(expectation_X, expectation_Y)"
   ]
  },
  {
   "cell_type": "code",
   "execution_count": 29,
   "id": "18345d28",
   "metadata": {},
   "outputs": [
    {
     "data": {
      "text/plain": [
       "0.001405372716880747"
      ]
     },
     "execution_count": 29,
     "metadata": {},
     "output_type": "execute_result"
    }
   ],
   "source": [
    "max_of_expectations"
   ]
  },
  {
   "cell_type": "code",
   "execution_count": 41,
   "id": "739a9e53",
   "metadata": {},
   "outputs": [],
   "source": [
    "# Now do it the \"double Q-learning\" way \n",
    "Z  = np.stack([X, Y])\n",
    "argmax_indices = np.argmax(Z, axis=0)\n",
    "\n",
    "X = np.random.normal(mu_X, sigma_X, n_samples)\n",
    "Y = np.random.normal(mu_Y, sigma_Y, n_samples)\n",
    "\n",
    "# ok... whats wrong here?\n",
    "max_values = np.where(argmax_indices == 0, X, Y)\n",
    "meanV = np.mean(max_values)"
   ]
  },
  {
   "cell_type": "code",
   "execution_count": 33,
   "id": "c81adfe8",
   "metadata": {},
   "outputs": [
    {
     "data": {
      "text/plain": [
       "-0.005201152648017259"
      ]
     },
     "execution_count": 33,
     "metadata": {},
     "output_type": "execute_result"
    }
   ],
   "source": [
    "meanV"
   ]
  },
  {
   "cell_type": "code",
   "execution_count": 42,
   "id": "95cf4cfd",
   "metadata": {},
   "outputs": [
    {
     "name": "stdout",
     "output_type": "stream",
     "text": [
      "Monte Carlo Simulation with 100 samples:\n",
      "Expectation of max(X, Y): 0.5489\n",
      "Max of expectations (max(E[X], E[Y])): 0.0565\n",
      "Difference (Bias): 0.4924\n",
      "DoubleQ Estimate: 0.0644\n"
     ]
    }
   ],
   "source": [
    "print(f\"Monte Carlo Simulation with {n_samples} samples:\")\n",
    "print(f\"Expectation of max(X, Y): {expectation_of_max:.4f}\")\n",
    "print(f\"Max of expectations (max(E[X], E[Y])): {max_of_expectations:.4f}\")\n",
    "print(f\"Difference (Bias): {expectation_of_max - max_of_expectations:.4f}\")\n",
    "\n",
    "print(f\"DoubleQ Estimate: {meanV:.4f}\")"
   ]
  },
  {
   "cell_type": "code",
   "execution_count": null,
   "id": "fa470d59",
   "metadata": {},
   "outputs": [],
   "source": []
  },
  {
   "cell_type": "code",
   "execution_count": null,
   "id": "1beea549",
   "metadata": {},
   "outputs": [],
   "source": []
  }
 ],
 "metadata": {
  "kernelspec": {
   "display_name": "Python 3 (ipykernel)",
   "language": "python",
   "name": "python3"
  },
  "language_info": {
   "codemirror_mode": {
    "name": "ipython",
    "version": 3
   },
   "file_extension": ".py",
   "mimetype": "text/x-python",
   "name": "python",
   "nbconvert_exporter": "python",
   "pygments_lexer": "ipython3",
   "version": "3.10.9"
  }
 },
 "nbformat": 4,
 "nbformat_minor": 5
}
