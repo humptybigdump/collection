{
 "cells": [
  {
   "cell_type": "markdown",
   "id": "respiratory-lithuania",
   "metadata": {},
   "source": [
    "# Bayesian Network\n",
    "In the lecture 10 (slide 39) we saw an example about Bayesian Network.\n",
    "<img src=\"https://i.imgur.com/qjzGoeY.png\" style=\"width:300px;height:250px;\">\n",
    "\n",
    "To make it simpler, we will consider a small part of this network in the blue box. \n",
    "\n",
    "$R$ and $S$ both variables are Bernoulli $\\mathcal{B}$ distributed.\n",
    "$$R \\sim \\mathcal{B}(0.8)$$\n",
    "$$S \\sim \\mathcal{B}(0.1)$$\n",
    "L is dependent on the $R$ and $S$ \n",
    "\n",
    "* If $R$ is True, $P(R=True)=0.8$ and $S$ is True, $P(S=True)=0.1$ then:\n",
    "$$L \\sim \\mathcal{B}(0.4)$$\n",
    "\n",
    "* If $R$ is True, $P(R=False)=0.2$ and $S$ is True, $P(S=True)=0.1$ then:\n",
    "$$L \\sim \\mathcal{B}(0.1)$$\n",
    "\n",
    "* If $R$ is True, $P(R=True)=0.8$ and $S$ is True, $P(S=False)=0.9$ then:\n",
    "$$L \\sim \\mathcal{B}(0.8)$$\n",
    "\n",
    "* If $R$ is True, $P(R=False)=0.2$ and $S$ is True, $P(S=False)=0.9$ then:\n",
    "$$L \\sim \\mathcal{B}(0.2)$$"
   ]
  },
  {
   "cell_type": "markdown",
   "id": "offensive-theorem",
   "metadata": {},
   "source": [
    "Let's start by defining the sample methods using the `NumPy` function `\n",
    "np.random.binomial(1, p)`, which draws a sample from a Bernoulli distribution with probability `p`:"
   ]
  },
  {
   "cell_type": "code",
   "execution_count": null,
   "id": "athletic-refund",
   "metadata": {},
   "outputs": [],
   "source": [
    "import numpy as np\n",
    "np.random.seed(7)\n",
    "\n",
    "def R_sample(p=0.8):\n",
    "    return np.random.binomial(1, p)\n",
    "\n",
    "def S_sample(p=0.1):\n",
    "    return np.random.binomial(1, p)\n",
    "\n",
    "def L_sample(r, s, p1=0.4, p2=0.1, p3=0.8, p4=0.2):\n",
    "    if r == 1 and s == 1: \n",
    "        return np.random.binomial(1, p1)\n",
    "    elif r == 0 and s == 1: \n",
    "        return np.random.binomial(1, p2)\n",
    "    elif r == 1 and s == 0:\n",
    "        return np.random.binomial(1, p3)\n",
    "    else:\n",
    "        return np.random.binomial(1, p4)"
   ]
  },
  {
   "cell_type": "markdown",
   "id": "through-candle",
   "metadata": {},
   "source": [
    "As the variables are Boolean, the total number of probabilities is 8. we set `Nsamples` to 5: (you can increase this number to get a better estimation of the joint distributions) "
   ]
  },
  {
   "cell_type": "code",
   "execution_count": null,
   "id": "disabled-webcam",
   "metadata": {},
   "outputs": [],
   "source": [
    "N = 3\n",
    "Nsamples = 5\n",
    "\n",
    "S = np.zeros((N, Nsamples))\n",
    "Fsamples = {}\n",
    "\n",
    "for t in range(Nsamples):\n",
    "    r = R_sample()\n",
    "    s = S_sample()\n",
    "    l = L_sample(r,s)\n",
    "\n",
    "    sample = (r, s, l)\n",
    "\n",
    "    if sample in Fsamples:\n",
    "        Fsamples[sample] += 1\n",
    "    else:\n",
    "        Fsamples[sample] = 1"
   ]
  },
  {
   "cell_type": "markdown",
   "id": "rental-dominant",
   "metadata": {},
   "source": [
    "When the sampling is complete, it's possible to extract the full joint probability:"
   ]
  },
  {
   "cell_type": "code",
   "execution_count": null,
   "id": "ongoing-concord",
   "metadata": {},
   "outputs": [],
   "source": [
    "samples = np.array(list(Fsamples.keys()), dtype=np.bool_)\n",
    "probabilities = np.array(list(Fsamples.values()), dtype=np.float64) / Nsamples"
   ]
  },
  {
   "cell_type": "code",
   "execution_count": null,
   "id": "featured-summit",
   "metadata": {},
   "outputs": [],
   "source": [
    "for i in range(len(samples)):\n",
    "    print('{} has {} sample/s in the dataset'.format(samples[i], np.int(probabilities[i]*Nsamples)))"
   ]
  },
  {
   "cell_type": "code",
   "execution_count": null,
   "id": "handy-marriage",
   "metadata": {},
   "outputs": [],
   "source": [
    "for i in range(len(samples)):\n",
    "    print('P{} = {}'.format(samples[i], probabilities[i])) "
   ]
  },
  {
   "cell_type": "markdown",
   "id": "wireless-subcommittee",
   "metadata": {},
   "source": [
    "We can also query the model. \n",
    "\n",
    "Given a joint distribution (e.g., $P(l,r,s)$) we can obtain any “marginal” probability (e.g., P$(l)$) by summing out the other variables, e.g., \n",
    "$$P(l) =Σ_r Σ_s P(r,s,l)$$\n",
    "\n",
    "For example, we could be interested in $P(l=False)$. We can do this by looking for all the elements where $l=False$, and summing up the relative probabilities:\n",
    "\n",
    "$$P(l=False)=P(r=True, s=True, l=False+  \\\\\n",
    "             P(r=False,s=True, l=False) + \\\\\n",
    "             P(r=True,s=False, l=False) + \\\\\n",
    "             P(r=False,s=Fals, l=False) = \\\\ \n",
    "             0.2 + 0  + 0.2 + 0 = 0.4$$"
   ]
  },
  {
   "cell_type": "code",
   "execution_count": null,
   "id": "irish-cache",
   "metadata": {},
   "outputs": [],
   "source": [
    "p3f = np.argwhere(samples[:, 2]==False)\n",
    "print(np.sum(probabilities[p3f]))"
   ]
  },
  {
   "cell_type": "markdown",
   "id": "acting-mailing",
   "metadata": {},
   "source": [
    "$𝑃(𝑙=True)$"
   ]
  },
  {
   "cell_type": "code",
   "execution_count": null,
   "id": "general-monday",
   "metadata": {},
   "outputs": [],
   "source": [
    "p3t = np.argwhere(samples[:, 2]==True)\n",
    "print(np.sum(probabilities[p3t]))"
   ]
  }
 ],
 "metadata": {
  "kernelspec": {
   "display_name": "venv_ml",
   "language": "python",
   "name": "venv_ml"
  },
  "language_info": {
   "codemirror_mode": {
    "name": "ipython",
    "version": 3
   },
   "file_extension": ".py",
   "mimetype": "text/x-python",
   "name": "python",
   "nbconvert_exporter": "python",
   "pygments_lexer": "ipython3",
   "version": "3.8.2"
  }
 },
 "nbformat": 4,
 "nbformat_minor": 5
}
