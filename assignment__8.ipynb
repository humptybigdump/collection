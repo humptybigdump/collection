{
 "cells": [
  {
   "cell_type": "markdown",
   "metadata": {
    "pycharm": {
     "name": "#%% md\n"
    }
   },
   "source": [
    "# Machine Vision 2022/23 - Assignment 1: Basic Python and Application of Filters\n",
    "\n",
    "This assignment will introduce you to python and the most important features you will need throughout the machine vision course.\n",
    "&nbsp;\n",
    "\n",
    "\n",
    "#### Part 1: Basic Python Functions\n",
    "\n",
    "In python, packages are imported using the `import x` keyword. If you want to shorten its name, an alias can be used `import x as y`.\n",
    "Additionally, if only a specific function is imported the `from` keyword is used.\n",
    "\n",
    "This course heavily relies on the [NumPY](https://numpy.org/) library, which is the de-facto standard library for array computation in python.\n",
    "&nbsp;"
   ]
  },
  {
   "cell_type": "code",
   "execution_count": 2,
   "metadata": {
    "pycharm": {
     "name": "#%%\n"
    },
    "ExecuteTime": {
     "end_time": "2023-10-27T13:42:23.021204403Z",
     "start_time": "2023-10-27T13:42:22.635967098Z"
    }
   },
   "outputs": [],
   "source": [
    "# @student: import the numpy library using the alias \"np\"\n",
    "import numpy as np"
   ]
  },
  {
   "cell_type": "markdown",
   "metadata": {
    "pycharm": {
     "name": "#%% md\n"
    }
   },
   "source": [
    "\n",
    "Numpy offers implementations of common math functions like sin, cos, log, exp, sqrt, min, max, mean, and so on."
   ]
  },
  {
   "cell_type": "code",
   "execution_count": 3,
   "metadata": {
    "pycharm": {
     "name": "#%%\n"
    },
    "ExecuteTime": {
     "end_time": "2023-10-27T13:42:31.332340276Z",
     "start_time": "2023-10-27T13:42:31.158415067Z"
    }
   },
   "outputs": [
    {
     "data": {
      "text/plain": "0.47942553860420295"
     },
     "execution_count": 3,
     "metadata": {},
     "output_type": "execute_result"
    }
   ],
   "source": [
    "# @student: calculate the sin of 0.5\n",
    "np.sin(0.5)"
   ]
  },
  {
   "cell_type": "markdown",
   "metadata": {
    "pycharm": {
     "name": "#%% md\n"
    }
   },
   "source": [
    "The array class `np.array` stores multidimensional values."
   ]
  },
  {
   "cell_type": "code",
   "execution_count": null,
   "metadata": {
    "pycharm": {
     "name": "#%%\n"
    }
   },
   "outputs": [],
   "source": [
    "# The np.array([...]) constructor takes a list of elements as argument.\n",
    "# @student: create an array containing the values from 0 to 10\n",
    "\n",
    "\n",
    "# Numpy also offers the numpy.arange() and numpy.linspace() functions which both offer the functionality\n",
    "# to create arrays containing a range of values.\n",
    "# @student: create an array containing the values from 0 to 10 using numpy.arange() and numpy.linspace()\n"
   ]
  },
  {
   "cell_type": "markdown",
   "metadata": {
    "pycharm": {
     "name": "#%% md\n"
    }
   },
   "source": [
    "If an array is passed to a common math function like sine(x), the function is applied to each element individually."
   ]
  },
  {
   "cell_type": "code",
   "execution_count": null,
   "metadata": {
    "pycharm": {
     "name": "#%%\n"
    }
   },
   "outputs": [],
   "source": [
    "# @student: calculate the sine of the interval from 0 to 2*pi.\n"
   ]
  },
  {
   "cell_type": "markdown",
   "metadata": {
    "pycharm": {
     "name": "#%% md\n"
    }
   },
   "source": [
    "The next package we will use is matplotlib. This package provides different visualization tools for data."
   ]
  },
  {
   "cell_type": "code",
   "execution_count": null,
   "metadata": {
    "pycharm": {
     "name": "#%%\n"
    }
   },
   "outputs": [],
   "source": [
    "import matplotlib.pyplot as plt\n",
    "\n",
    "# @student: plot the calculated sine wave\n",
    "# the plt.plot(x, y) function takes x values as first argument and y values as second argument\n",
    "# https://matplotlib.org/stable/api/_as_gen/matplotlib.pyplot.plot.html\n"
   ]
  },
  {
   "cell_type": "markdown",
   "metadata": {
    "pycharm": {
     "name": "#%% md\n"
    }
   },
   "source": [
    "#### Part 2: Linear Algebra\n",
    "\n",
    "In computer vision, linear algebra is frequently used. NumPy offers different algorithms on vectors/matrices.\n",
    "\n",
    "$$\\begin{bmatrix} 30 \\\\ 8 \\\\ 2 \\end{bmatrix} = \\begin{bmatrix} 3 & 5 & 1 \\\\ 2 & 0 & 1 \\\\ -1 & 1 & 0 \\end{bmatrix} * \\begin{bmatrix} 2 \\\\ 4 \\\\ 4 \\end{bmatrix} $$"
   ]
  },
  {
   "cell_type": "code",
   "execution_count": null,
   "metadata": {
    "pycharm": {
     "name": "#%%\n"
    }
   },
   "outputs": [],
   "source": [
    "# @student: calculate the equation above using numpys arrays\n",
    "\n",
    "# it is important not to use the * operator for matrix multiplication.\n",
    "# For matrix multiplication the function np.matmul(m1, m2) exists. Please use\n",
    "# this function as it performs the expected multiplication.\n"
   ]
  },
  {
   "cell_type": "markdown",
   "metadata": {
    "pycharm": {
     "name": "#%% md\n"
    }
   },
   "source": [
    "Often, systems of equations in the form $Ax + b$ need to be solved for x. Numpy offers a variety of different functions to solve such systems."
   ]
  },
  {
   "cell_type": "code",
   "execution_count": null,
   "metadata": {
    "pycharm": {
     "name": "#%%\n"
    }
   },
   "outputs": [],
   "source": [
    "from numpy.linalg import inv\n",
    "# @student: solve using the inverse of A\n",
    "x_inv = ...\n",
    "\n",
    "from numpy.linalg import solve\n",
    "# @student: solve using np.linalg.solve\n",
    "x_solve = ...\n",
    "\n",
    "assert np.allclose(x_inv, x), \"x_inv and x are not equal\"\n",
    "assert np.allclose(x_solve, x), \"x_solve and x are not equal\""
   ]
  },
  {
   "cell_type": "markdown",
   "metadata": {
    "pycharm": {
     "name": "#%% md\n"
    }
   },
   "source": [
    "#### Part 2: Images\n",
    "\n",
    "We will use the [skimage](https://scikit-image.org/) library to load, store, and transform images. In skimage, images are stored as numpy arrays.\n",
    "Therefore, we can use numpy functions on images and use the traditional numpy array indexing.\n",
    "\n",
    "If you have no experience using numpy array indexing, please read this short guide [NumPY Array Indexing](https://www.w3schools.com/python/numpy/numpy_array_slicing.asp#:~:text=Slicing%20in%20python%20means%20taking,start%3Aend%3Astep%5D%20.)"
   ]
  },
  {
   "cell_type": "code",
   "execution_count": null,
   "metadata": {
    "pycharm": {
     "name": "#%%\n"
    }
   },
   "outputs": [],
   "source": [
    "import skimage\n",
    "\n",
    "gray_img = skimage.io.imread(\"res/cable_salat.png\")\n",
    "plt.imshow(gray_img, cmap='gray')\n",
    "plt.show()\n",
    "\n",
    "# It is highly important to understand the shape of an image\n",
    "# The first dimension refers to the v axis, while the second dimension refers to the u axis\n",
    "print(f\"Image shape [v,u]: {gray_img.shape}\")"
   ]
  },
  {
   "cell_type": "code",
   "execution_count": null,
   "metadata": {
    "pycharm": {
     "name": "#%%\n"
    }
   },
   "outputs": [],
   "source": [
    "# @student: access all pixels where u < 100\n",
    "plt.imshow(gray_img[...], cmap=\"gray\")\n",
    "plt.show()\n",
    "\n",
    "# @student: access all pixels where 150 < u < 250\n",
    "plt.imshow(gray_img[...], cmap=\"gray\")\n",
    "plt.show()\n",
    "\n",
    "# @student: access all pixels where v < 50\n",
    "plt.imshow(gray_img[...], cmap=\"gray\")\n",
    "plt.show()\n",
    "\n",
    "# @student: access all pixels where 100 < v < 200\n",
    "plt.imshow(gray_img[...], cmap=\"gray\")\n",
    "plt.show()"
   ]
  },
  {
   "cell_type": "code",
   "execution_count": null,
   "metadata": {
    "pycharm": {
     "name": "#%%\n"
    }
   },
   "outputs": [],
   "source": [
    "# @student: calculate min, max, and mean pixel values of the loaded image\n",
    "# you are free to use all numpy functions\n",
    "\n",
    "min = ...\n",
    "max = ...\n",
    "mean = ...\n",
    "\n",
    "print(f\"min gray value: {min}\")\n",
    "print(f\"max gray value: {max}\")\n",
    "print(f\"mean gray value: {mean}\")"
   ]
  },
  {
   "cell_type": "markdown",
   "metadata": {
    "pycharm": {
     "name": "#%% md\n"
    }
   },
   "source": [
    "Implement a euclidean distance function that calculates the euclidean distance between two matrices.\n",
    "\n",
    "$ecd = \\sqrt{ \\sum_i (u_i - v_i)^2 } $, where $u$ and $v$ are two arrays of the same shape."
   ]
  },
  {
   "cell_type": "code",
   "execution_count": null,
   "metadata": {
    "pycharm": {
     "name": "#%%\n"
    }
   },
   "outputs": [],
   "source": [
    "def ecd(u: np.ndarray, v: np.ndarray) -> np.ndarray:\n",
    "    assert u.shape == v.shape, f\"shape of u {u.shape} does not equal shape of v {v.shape}\"\n",
    "\n",
    "    # @student: implement the euclidean distance function between two images\n",
    "    ecd = ...\n",
    "\n",
    "    return ecd\n",
    "\n",
    "r1 = ecd(np.array([10, 10, 10]), np.array([10, 10, 10]))\n",
    "\n",
    "assert r1 == 0, \"Wrong implementation of ecd\"\n",
    "\n",
    "r2 = ecd(np.array([10, 10, 10]), np.array([0, 0, 5]))\n",
    "\n",
    "assert r2 == 15, \"Wrong implementation of ecd\""
   ]
  },
  {
   "cell_type": "markdown",
   "metadata": {
    "pycharm": {
     "name": "#%% md\n"
    }
   },
   "source": [
    "#### Part 3: Salt And Pepper Noise\n",
    "\n",
    "In the lecture, different noise types are discussed. In this exercise, you have to implement simulated salt and pepper noise on an image."
   ]
  },
  {
   "cell_type": "code",
   "execution_count": null,
   "metadata": {
    "pycharm": {
     "name": "#%%\n"
    }
   },
   "outputs": [],
   "source": [
    "import copy\n",
    "\n",
    "def add_salt_and_pepper_noise(img: np.ndarray, percentage: float) -> np.ndarray:\n",
    "    noisy_img = copy.deepcopy(img)\n",
    "\n",
    "    # @student: implement salt and pepper noise\n",
    "    # hint: using numpy you can set multiple indexes at the same time\n",
    "    # noisy_img[[v0, v1, ..., vn], [u0, u1, ... un]] = 0\n",
    "    #\n",
    "    # np.random.randint(...) generates a random integer\n",
    "    # https://numpy.org/doc/stable/reference/random/generated/numpy.random.randint.html\n",
    "\n",
    "    return noisy_img\n",
    "\n",
    "\n",
    "salt_pepper_img = add_salt_and_pepper_noise(gray_img, 0.005)\n",
    "_, (ax1, ax2) = plt.subplots(1, 2)\n",
    "figure_size = plt.gcf().get_size_inches()\n",
    "plt.gcf().set_size_inches(3 * figure_size)\n",
    "ax1.imshow(gray_img, cmap=\"gray\")\n",
    "ax2.imshow(salt_pepper_img, cmap=\"gray\")\n",
    "plt.show()"
   ]
  },
  {
   "cell_type": "markdown",
   "metadata": {
    "pycharm": {
     "name": "#%% md\n"
    }
   },
   "source": [
    "#### Part 4: Gaussian Kernel And The Wiener Filter\n",
    "\n",
    "In order to smooth an image, a gaussian kernel can be used. Implement the gaussian kernel which is given by $f(x) = \\frac{1}{\\sqrt{2\\pi\\sigma^2}}e^{-\\frac{1}{2}\\frac{x^2}{\\sigma^2}}$."
   ]
  },
  {
   "cell_type": "code",
   "execution_count": null,
   "metadata": {
    "pycharm": {
     "name": "#%%\n"
    }
   },
   "outputs": [],
   "source": [
    "# scipy is a python library for scientific computing\n",
    "# We will use the scipy.signal.convolve2d() function\n",
    "# Which has two arguments a data source (in our case an image np.ndarray) and a kernel (np.ndarray)\n",
    "\n",
    "import scipy.signal\n",
    "\n",
    "def create_gaussian_kernel(size: int, sigma_squared: float):\n",
    "    assert size % 2 == 1, \"Kernel size must be uneven\"\n",
    "\n",
    "    # @student: implement the gaussian kernel creation\n",
    "    return ...\n",
    "\n",
    "gaussian_kernel = create_gaussian_kernel(11, 4.0)\n",
    "noise_img = scipy.signal.convolve2d(gray_img, gaussian_kernel, mode=\"same\", boundary='fill', fillvalue=0)\n",
    "\n",
    "_, (ax1, ax2) = plt.subplots(1, 2)\n",
    "figure_size = plt.gcf().get_size_inches()\n",
    "plt.gcf().set_size_inches(3 * figure_size)\n",
    "ax1.imshow(gray_img, cmap=\"gray\")\n",
    "ax2.imshow(noise_img, cmap=\"gray\")\n",
    "plt.show()"
   ]
  },
  {
   "cell_type": "markdown",
   "metadata": {
    "pycharm": {
     "name": "#%% md\n"
    }
   },
   "source": [
    "After the application of the gaussian filter the image is artificially blured.\n",
    "We will now use a wiener filter in order to remove the blur."
   ]
  },
  {
   "cell_type": "code",
   "execution_count": null,
   "metadata": {
    "pycharm": {
     "name": "#%%\n"
    }
   },
   "outputs": [],
   "source": [
    "from skimage import restoration\n",
    "\n",
    "# @student: call the restoration.wiener(...) function in order to remove the blur\n",
    "# https://scikit-image.org/docs/stable/api/skimage.restoration.html#skimage.restoration.wiener\n",
    "wiener_img = restoration.wiener(...)\n",
    "\n",
    "_, (ax1, ax2, ax3) = plt.subplots(1, 3)\n",
    "figure_size = plt.gcf().get_size_inches()\n",
    "plt.gcf().set_size_inches(5 * figure_size)\n",
    "ax1.imshow(gray_img, cmap=\"gray\")\n",
    "ax2.imshow(noise_img, cmap=\"gray\")\n",
    "ax3.imshow(wiener_img, cmap=\"gray\")\n",
    "plt.show()"
   ]
  }
 ],
 "metadata": {
  "kernelspec": {
   "display_name": "Python 3 (ipykernel)",
   "language": "python",
   "name": "python3"
  },
  "language_info": {
   "codemirror_mode": {
    "name": "ipython",
    "version": 3
   },
   "file_extension": ".py",
   "mimetype": "text/x-python",
   "name": "python",
   "nbconvert_exporter": "python",
   "pygments_lexer": "ipython3",
   "version": "3.10.4"
  }
 },
 "nbformat": 4,
 "nbformat_minor": 1
}
