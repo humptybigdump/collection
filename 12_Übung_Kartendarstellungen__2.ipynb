{
 "cells": [
  {
   "attachments": {},
   "cell_type": "markdown",
   "metadata": {},
   "source": [
    "# Geodatenanalyse 1\n",
    "\n",
    "## Übung 12: Kartendarstellungen in Python "
   ]
  },
  {
   "cell_type": "code",
   "execution_count": null,
   "metadata": {},
   "outputs": [],
   "source": [
    "# [1]\n",
    "\n",
    "import cartopy\n",
    "import cartopy.crs as ccrs\n",
    "import geopandas as geopd\n",
    "import pandas as pd\n",
    "import contextily as ctx\n",
    "import matplotlib.pyplot as plt\n",
    "import numpy as np\n",
    "import shapely as shp"
   ]
  },
  {
   "attachments": {},
   "cell_type": "markdown",
   "metadata": {},
   "source": [
    "### Übung 1: Einfache Karten mit *Cartopy*\n",
    "\n",
    "In dieser Übung geht es um die Erstellung von einfachen Karten:\n",
    "\n",
    "#### Aufgabe 1\n",
    "\n",
    "Bilde Deutschland auf einer Karte ab. Verwende dazu die UTM Projektion (Zone 32). Benutzt dazu die Funktion `cartopy.crs.UTM(zone=32)`. \n",
    "\n",
    "Zeichnet auch die Küstenlinien und die Landesgrenzen ein."
   ]
  },
  {
   "cell_type": "code",
   "execution_count": null,
   "metadata": {},
   "outputs": [],
   "source": [
    "# [2] \n",
    "# eine Achse erstellen und die Projektion definieren\n",
    "\n",
    "\n",
    "# die features Küstenlinien und Landesgrenzen hinzufügen\n",
    "\n",
    "\n",
    "# den Kartenausschnitt festlegen\n",
    "\n",
    "\n",
    "# Kartentitel\n"
   ]
  },
  {
   "attachments": {},
   "cell_type": "markdown",
   "metadata": {},
   "source": [
    "#### Aufgabe 2\n",
    "\n",
    "Zeichne mit Hilfe von Geolokation und *Geopy* deinen Geburtsort als roten Punkt auf diese Karte. Verändere dafür ggfs. den Kartenausschnitt. \n",
    "\n",
    "Achtung: Die Koordinaten aus *Geopy* müssen über das Argument `transform=ccrs.KBS` in das Koordinatensystem deiner Karte transformiert werden! KBS steht für Koordinatenbezugssystem, wobei bei `transform` das Ausgangs-KBS angegeben wird. Im Falle der Geolokation mit *Geopy* ist das `Geodetic()`. "
   ]
  },
  {
   "cell_type": "code",
   "execution_count": null,
   "metadata": {},
   "outputs": [],
   "source": [
    "# [3]\n",
    "# eine Achse erstellen und die Projektion definieren\n",
    "\n",
    "\n",
    "# die features Küstenlinien und Landesgrenzen hinzufügen\n",
    "\n",
    "\n",
    "# Geolokation mit Geopy\n",
    "\n",
    "\n",
    "# Lokation auf der Achse darstellen, transform-Argument benutzen \n",
    "\n",
    "\n",
    "# den Kartenausschnitt festlegen\n",
    "\n",
    "\n",
    "# Kartentitel\n",
    "\n"
   ]
  },
  {
   "attachments": {},
   "cell_type": "markdown",
   "metadata": {},
   "source": [
    "### Übung 2: Geopandas und Hintergrundkarten \n",
    "\n",
    "Die Datei *data/Messstellen_Karlsruhe.xlsx* enthält eine Liste von Grundwassermessstellen im Stadtgebiet von Karlsruhe. Die Koordinaten für diese Messstellen sind in DHDN (3-degree Gauss-Kruger Zone 3) angegeben.\n",
    "\n",
    "#### Aufgabe 1\n",
    "\n",
    "- Lese zunächst den Datensatz als Pandas DataFrame ein. Er enthält Spalten mit den Rechts- und Hochwerten, die jedoch erstmal bloße Zahlen darstellen. \n",
    "\n",
    "- Damit diese einen räumlichen Bezug bekommen, müssen diesen mit Hilfe von *Shapely* Geometrien zugewiesen werden. Im Falle von Messstellen also Punkte. Erstelle mit Hilfe eines for-loops einen neuen DataFrame, der zeilenweise für jede Messstelle die entsprechend Geometrie erzeugt. Benutze dafür den Befehl: `shapely.geometry.Point(Rechtswert, Hochwert)`. \n",
    "\n",
    "- Erzeuge dann einen GeoDataFrame, basierend auf dem DataFrame unter Angabe der Projektion `crs=\"EPSG:31467\"`und der Geometrie `geometry=Geometrie` \n",
    "\n",
    "- Transformiere anschließend die Koordinaten der Messstellen in das WGS84 Koordinatensystem (`GeoDataFrame.to_crs('epsg:4326')`) und speichere die Ergebnisse als Shape-Datei.\n"
   ]
  },
  {
   "cell_type": "code",
   "execution_count": null,
   "metadata": {},
   "outputs": [],
   "source": [
    "# [4] \n",
    "\n",
    "# Daten einlesen als DataFrame\n",
    "\n",
    "\n",
    "# Geometrien erzeugen, z.B. mit Hilfe eines for-loops über alle Zeilen in dem DataFrame\n",
    "\n",
    "\n",
    "# GeoDataFrame erzeugen\n",
    "\n",
    "\n",
    "# Ändere die Projektion in WGS84 ('epsg:4326')\n",
    "\n",
    "\n",
    "# speichern als Shape-Datei\n"
   ]
  },
  {
   "attachments": {},
   "cell_type": "markdown",
   "metadata": {},
   "source": [
    "#### Aufgabe 2\n",
    "\n",
    "Erstelle eine Karte dieser Messstellen, auf der im Hintergrund das Stadtgebiet darstellt ist, z. B. mit Contextily oder OpenStreetMap. \n",
    "\n",
    "Falls die Karte, bzw. die Namen auf der Karte \"verzerrt\" wirken, ändere die Projektion so dass es besser aussieht ;)"
   ]
  },
  {
   "cell_type": "code",
   "execution_count": null,
   "metadata": {},
   "outputs": [],
   "source": [
    "# [5] \n",
    "\n",
    "# Figure, bzw. Achsenobjekt erzeugen \n",
    "\n",
    "\n",
    "# shapefile der Messstellen laden\n",
    "\n",
    "\n",
    "# ggfs. Projektion ändern\n",
    "\n",
    "\n",
    "# Messstellen darstellen\n",
    "\n",
    "\n",
    "# Basemap hinzufügen \n",
    "\n",
    "\n",
    "# Titel, Achsenbeschriftungen usw. hinzufügen\n",
    "\n"
   ]
  },
  {
   "attachments": {},
   "cell_type": "markdown",
   "metadata": {},
   "source": [
    "## Ende"
   ]
  }
 ],
 "metadata": {
  "kernelspec": {
   "display_name": "geo",
   "language": "python",
   "name": "python3"
  },
  "language_info": {
   "codemirror_mode": {
    "name": "ipython",
    "version": 3
   },
   "file_extension": ".py",
   "mimetype": "text/x-python",
   "name": "python",
   "nbconvert_exporter": "python",
   "pygments_lexer": "ipython3",
   "version": "3.7.10 | packaged by conda-forge | (default, Feb 19 2021, 15:37:01) [MSC v.1916 64 bit (AMD64)]"
  },
  "vscode": {
   "interpreter": {
    "hash": "3300ec8b5507aec522babb7f78544e850a4d96db278cf3d23aba41e21e8713a6"
   }
  }
 },
 "nbformat": 4,
 "nbformat_minor": 4
}
