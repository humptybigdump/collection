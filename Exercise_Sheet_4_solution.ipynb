{
 "cells": [
  {
   "cell_type": "markdown",
   "metadata": {},
   "source": [
    "# Tutorial 4"
   ]
  },
  {
   "cell_type": "code",
   "execution_count": 13,
   "metadata": {},
   "outputs": [
    {
     "name": "stdout",
     "output_type": "stream",
     "text": [
      "Using matplotlib backend: Qt5Agg\n"
     ]
    }
   ],
   "source": [
    "%matplotlib\n",
    "import numpy as np\n",
    "import matplotlib.pyplot as plt\n",
    "from scipy import special\n",
    "import ipywidgets as widgets\n",
    "from IPython.display import clear_output, display\n"
   ]
  },
  {
   "cell_type": "markdown",
   "metadata": {},
   "source": [
    "In this tutorial, modulation formats, detection and the error probability will be investigated.\n"
   ]
  },
  {
   "cell_type": "markdown",
   "metadata": {},
   "source": [
    "\n",
    "## Task 1\n",
    "\n",
    "Generate equiprobable N BPSK symbols and add AWGN to simulate the channel."
   ]
  },
  {
   "cell_type": "code",
   "execution_count": 14,
   "metadata": {},
   "outputs": [],
   "source": [
    "# Simulation parameters\n",
    "N = 100000  # number of symbols\n",
    "SNR_dB = 1  # signal to noise ratio in dB\n",
    "hist_bins = 100  # number of bins in the histogram\n"
   ]
  },
  {
   "cell_type": "code",
   "execution_count": 15,
   "metadata": {},
   "outputs": [],
   "source": [
    "# generate N random symbols with values 0 and 1\n",
    "bits = np.random.randint(2, size=N) # YOUR CODE HERE \n",
    "symbols = 2 * bits - 1  # YOUR CODE HERE # BPSK modulation\n",
    "\n",
    "# generate noise with variance according to the required SNR and mean 0\n",
    "sigma = np.sqrt(1 / (2 * 10 ** (SNR_dB / 10))) # YOUR CODE HERE # noise std. deviation\n",
    "noise = sigma * np.random.randn(N) # YOUR CODE HERE # noise\n",
    "\n",
    "# add noise to the symbols\n",
    "received = symbols + noise # YOUR CODE HERE # AWGN channel\n"
   ]
  },
  {
   "cell_type": "markdown",
   "metadata": {},
   "source": [
    "Plot the histogram of the received values and the conditional probabilities for the channel for the symbols $+1$ and $-1$ "
   ]
  },
  {
   "cell_type": "code",
   "execution_count": 16,
   "metadata": {},
   "outputs": [],
   "source": [
    "# plot the histogram of the received symbols for +1 and -1\n",
    "\n",
    "# Normalize the histograms\n",
    "hist_0 , bins_0 = np.histogram(received[bits == 0], bins=hist_bins, density=True)\n",
    "hist_1, bins_1 = np.histogram(received[bits == 1], bins=hist_bins, density=True)\n",
    "\n",
    "#plot the histograms\n",
    "plt.figure()\n",
    "plt.bar(bins_0[:-1], hist_0, width=0.05, label='Hist : -1', alpha=0.5)\n",
    "plt.bar(bins_1[:-1], hist_1, width=0.05, label='Hist : +1', alpha=0.5)\n",
    "plt.xlabel('Received Value')\n",
    "plt.title('Histogram of received symbols')\n",
    "\n",
    "# plot the gaussian pdf with the same variance as the noise with the mean +1 and -1\n",
    "\n",
    "x = np.linspace(-4, 4, 1000)\n",
    "gaussian_1 = 1 / (sigma * np.sqrt(2 * np.pi)) * np.exp(-(x - 1) ** 2 / (2 * sigma ** 2)) # YOUR CODE HERE # gaussian pdf with mean +1 \n",
    "gaussian_m1 = 1 / (sigma * np.sqrt(2 * np.pi)) * np.exp(-(x + 1) ** 2 / (2 * sigma ** 2)) # YOUR CODE HERE # gaussian pdf with mean -1\n",
    "\n",
    "plt.plot(x, gaussian_1, label='$\\mathcal{N}(1,\\sigma^2)$', color='r')\n",
    "plt.plot(x, gaussian_m1, label='$\\mathcal{N}(-1,\\sigma^2)$', color='b')\n",
    "plt.legend()\n",
    "plt.show()\n"
   ]
  },
  {
   "cell_type": "markdown",
   "metadata": {},
   "source": [
    "### Check\n",
    "\n",
    "Check whether the histograms and pdfs match. "
   ]
  },
  {
   "cell_type": "markdown",
   "metadata": {},
   "source": [
    "## Task 2\n",
    "\n",
    "In this task, you do the threshold detection on the received symbol and calculate the symbol error rate (SER)."
   ]
  },
  {
   "cell_type": "code",
   "execution_count": 17,
   "metadata": {},
   "outputs": [
    {
     "name": "stdout",
     "output_type": "stream",
     "text": [
      "The simulated SER =  0.05639\n"
     ]
    }
   ],
   "source": [
    "\n",
    "detection_threshold = 0  # SET THE DETECTION THRESHOLD HERE\n",
    "\n",
    "\n",
    "detected_bits = np.zeros(N)\n",
    "detected_bits[received > detection_threshold] = 1 # YOUR CODE HERE # detected bits\n",
    "    \n",
    "    # calculate the SER\n",
    "SER = np.sum(np.abs(bits - detected_bits)) / N\n",
    "\n",
    "print('The simulated SER = ', SER)\n"
   ]
  },
  {
   "cell_type": "markdown",
   "metadata": {},
   "source": [
    "Calculate the analytical symbol error probability and compare it to the simulated SER."
   ]
  },
  {
   "cell_type": "code",
   "execution_count": 18,
   "metadata": {},
   "outputs": [
    {
     "name": "stdout",
     "output_type": "stream",
     "text": [
      "The analytical error probability is:  0.056281951976541456\n"
     ]
    }
   ],
   "source": [
    "# define the Q function in terms of the error function special.erf()\n",
    "def Q(x):\n",
    "    return 0.5 * (1 - special.erf(x / np.sqrt(2))) # YOUR CODE HERE # q function\n",
    "\n",
    "\n",
    "SER_analytical = Q(np.sqrt(2 * 10 ** (SNR_dB / 10))) # YOUR CODE HERE # theoretical SER\n",
    "\n",
    "print('The analytical error probability is: ', SER_analytical)\n"
   ]
  },
  {
   "cell_type": "markdown",
   "metadata": {},
   "source": [
    "### Questions\n",
    "\n",
    "1)  What is the effect of the SNR on the received symbol pdfs? Change the SNR value and the comment.\n",
    "2) What is the effect of the detection threshold on the SER? What is the optimal detection threshold?\n",
    "3) Compare the simulated error rate and the theoretical error error probability."
   ]
  },
  {
   "cell_type": "markdown",
   "metadata": {},
   "source": [
    "### Answers\n",
    "\n",
    "1) Conditional pdfs overlap more with the decreasing SNR.\n",
    "2) For the uniform symbols, the optimal threshold is 0 due to nearest neighbor rule. Threshold is selected to minimize the error rate.\n",
    "3) They are approximately equal. "
   ]
  },
  {
   "cell_type": "markdown",
   "metadata": {},
   "source": [
    "# Task 3\n",
    "\n",
    "In this task, you do the detection for non-uniform symbols."
   ]
  },
  {
   "cell_type": "markdown",
   "metadata": {},
   "source": [
    "Generate $N$ non-uniform BPSK symbols with the probabilities $p_0$ and $p_1$ and simulate the AWGN channel."
   ]
  },
  {
   "cell_type": "code",
   "execution_count": 19,
   "metadata": {},
   "outputs": [],
   "source": [
    "p_0 = 0.9\n",
    "p_1 = 0.1\n",
    "\n",
    "bits = np.random.choice([0, 1], size=N, p=[p_0, p_1]) #YOUR CODE HERE # generate the bits according to the probabilities using np.random.choice\n",
    "\n",
    "# generate the symbols according to the probabilities\n",
    "symbols = 2 * bits - 1  #YOUR CODE HERE # BPSK modulation \n",
    "\n",
    "# generate noise with variance according to the required SNR and mean 0\n",
    "noise = sigma * np.random.randn(N) #YOUR CODE HERE # noise\n",
    "received = symbols + noise #YOUR CODE HERE # AWGN channel\n",
    "\n",
    "hist_0 , bins_0 = np.histogram(received[bits == 0], bins=hist_bins, density=True)\n",
    "hist_1, bins_1 = np.histogram(received[bits == 1], bins=hist_bins, density=True)\n",
    "\n",
    "# plot the histogram of the received symbols for +1 and -1\n",
    "plt.figure()\n",
    "plt.bar(bins_0[:-1], hist_0 * p_0, width=0.05, label='Hist : -1', alpha=0.5)\n",
    "plt.bar(bins_1[:-1], hist_1 * p_1, width=0.05, label='Hist : +1', alpha=0.5)\n",
    "plt.xlabel('Received Value')\n",
    "plt.title('Histogram of received symbols')\n",
    "\n",
    "\n",
    "# plot the gaussian pdf with the same variance as the noise with the mean +1 and -1\n",
    "gaussian_1 = 1 / (sigma * np.sqrt(2 * np.pi)) * np.exp(-(x - 1) ** 2 / (2 * sigma ** 2)) # YOUR CODE HERE # gaussian pdf with mean +1 \n",
    "gaussian_m1 = 1 / (sigma * np.sqrt(2 * np.pi)) * np.exp(-(x + 1) ** 2 / (2 * sigma ** 2)) # YOUR CODE HERE # gaussian pdf with mean -1\n",
    "\n",
    "gaussian_1 = gaussian_1 * p_1\n",
    "gaussian_m1 = gaussian_m1 * p_0\n",
    "\n",
    "plt.plot(x, gaussian_1, label='$p_1 \\cdot \\mathcal{N}(1,\\sigma^2)$', color='r')\n",
    "plt.plot(x, gaussian_m1, label='$p_0 \\cdot \\mathcal{N}(-1,\\sigma^2)$', color='b')\n",
    "plt.legend()\n",
    "plt.show()\n",
    "\n",
    "\n"
   ]
  },
  {
   "cell_type": "markdown",
   "metadata": {},
   "source": [
    "Do the threshold detection by setting the threshold to minimize error rate."
   ]
  },
  {
   "cell_type": "code",
   "execution_count": 20,
   "metadata": {},
   "outputs": [
    {
     "data": {
      "application/vnd.jupyter.widget-view+json": {
       "model_id": "84515a16497c4e69bb530e367d975d17",
       "version_major": 2,
       "version_minor": 0
      },
      "text/plain": [
       "FloatSlider(value=0.98, description='Threshold:', layout=Layout(width='50%'), max=1.0, min=-1.0, step=0.01)"
      ]
     },
     "metadata": {},
     "output_type": "display_data"
    }
   ],
   "source": [
    "# Define the slider\n",
    "threshold_slider = widgets.FloatSlider(min=-1, max=1, step=0.01, description='Threshold:', layout=widgets.Layout(width='50%'))\n",
    "\n",
    "# Display the slider\n",
    "display(threshold_slider)\n",
    "\n",
    "# Create empty lists to store the threshold and SER values\n",
    "threshold_values = []\n",
    "ser_values = []\n",
    "\n",
    "# Define a function to perform the detection and calculate the SER\n",
    "def update_threshold(change):\n",
    "    detection_threshold = change.new\n",
    "    \n",
    "    # Clear the output of the current cell\n",
    "    clear_output(wait=True)\n",
    "\n",
    "    detected_bits = np.zeros(N)\n",
    "    detected_bits[received > detection_threshold] = 1\n",
    "    SER_nonuniform = np.sum(np.abs(bits - detected_bits)) / N\n",
    "\n",
    "    # Append the threshold and SER values to the lists\n",
    "    threshold_values.append(detection_threshold)\n",
    "    ser_values.append(SER_nonuniform)\n",
    "\n",
    "    # Print the SER\n",
    "    #print('The SER for non-uniform symbols for the threshold', detection_threshold, 'is:', SER_nonuniform)\n",
    "\n",
    "    \n",
    "    # Display the slider\n",
    "    display(threshold_slider)\n",
    "\n",
    "    #clear the previous plots\n",
    "    plt.clf()\n",
    "\n",
    "    # Plot on the first subplot\n",
    "    plt.subplot(1, 2, 1)\n",
    "    plt.plot(x, gaussian_1, label='$p_1 \\cdot \\mathcal{N}(1,\\sigma^2)$', color='r')\n",
    "    plt.plot(x, gaussian_m1, label='$p_0 \\cdot \\mathcal{N}(-1,\\sigma^2)$', color='b')\n",
    "    plt.axvline(x=detection_threshold, ymin=0, ymax=1, color='g', linestyle='--', label='Threshold')\n",
    "    plt.ylim(0, 0.6)\n",
    "    plt.xlim(-4, 4)\n",
    "    plt.xlabel('Received Value')\n",
    "    plt.ylabel('Conditional pdf')\n",
    "    plt.legend()\n",
    "\n",
    "    # Plot on the second subplot\n",
    "    plt.subplot(1, 2, 2)\n",
    "    plt.plot(threshold_values, ser_values, color='orange')\n",
    "    plt.xlabel('Threshold')\n",
    "    plt.grid()\n",
    "    plt.ylabel('SER')\n",
    "\n",
    "    # Display the plots\n",
    "    plt.tight_layout()\n",
    "    plt.show()    \n",
    "\n",
    "# Call the function when the value of the slider changes\n",
    "threshold_slider.observe(update_threshold, 'value')\n",
    "\n"
   ]
  },
  {
   "cell_type": "markdown",
   "metadata": {},
   "source": [
    "### Questions\n",
    "1) How do you decide on the threshold value and why?\n",
    "2) Can you calculate the threshold value analytically? Derive and state the equation for the optimal threshold. "
   ]
  },
  {
   "cell_type": "markdown",
   "metadata": {},
   "source": [
    "### Answers\n",
    "1) We decide on the threshold to minimize the error rate/probability. It is the point at which conditional probabilities intersect as MAP rule states.\n",
    "3) With the MAP rule, the threshold can be calculated analytically. It is $$ x = 0.5 \\sigma_n^2 \\ln \\left(\\frac{p_0}{p_1}\\right )$$"
   ]
  },
  {
   "cell_type": "markdown",
   "metadata": {},
   "source": [
    "# Task 4\n",
    "\n",
    "In this task, you will do the detection and the error rate calculation for M-QAM and M-PSK modulated symbols. Firstly generate the constellation maps for M-QAM and M-PSK modulations."
   ]
  },
  {
   "cell_type": "code",
   "execution_count": 22,
   "metadata": {},
   "outputs": [],
   "source": [
    "M = 16  # modulation order\n",
    "SNR_dB = 17  # signal to noise ratio in dB\n",
    "\n",
    "sigma = np.sqrt(1 / (2 * 10 ** (SNR_dB / 10))) # YOUR CODE HERE # noise std. deviation\n",
    "\n",
    "\n",
    "# Generate the constellation diagram for M-QAM modulation\n",
    "constellation_qam = (2 * np.arange(np.sqrt(M)) - (np.sqrt(M) - 1)) # YOUR CODE HERE # generate the constellation for one dimension (like ASK)\n",
    "constellation_qam = constellation_qam + 1j * constellation_qam[:, None] # YOUR CODE HERE # generate the constellation by extending the one dimensional constellation to two dimensions\n",
    "constellation_qam /= np.sqrt(np.mean(np.abs(constellation_qam) ** 2)) # YOUR CODE HERE # normalize the constellation\n",
    "constellation_qam = constellation_qam.flatten()\n",
    "\n",
    "\n",
    "# Generate the constellation diagram for M-PSK modulation\n",
    "constellation_psk = np.exp(1j * 2 * np.pi * np.arange(M) / M) # YOUR CODE HERE # generate the constellation\n",
    "constellation_psk = constellation_psk.flatten()\n"
   ]
  },
  {
   "cell_type": "code",
   "execution_count": 30,
   "metadata": {},
   "outputs": [],
   "source": [
    "# plot the constellation diagrams\n",
    "plt.figure()\n",
    "plt.scatter(constellation_qam.real, constellation_qam.imag, label='QAM', marker='x')\n",
    "plt.scatter(constellation_psk.real, constellation_psk.imag, label='PSK', marker='o')\n",
    "plt.xlabel('In-Phase')\n",
    "plt.ylabel('Quadrature')\n",
    "plt.legend(loc=(1.1,0.87))\n",
    "plt.grid()\n",
    "plt.axis('square')\n",
    "plt.show()\n"
   ]
  },
  {
   "cell_type": "markdown",
   "metadata": {},
   "source": [
    "Generate uniform N M-QAM symbols and simulate the AWGN channel.  "
   ]
  },
  {
   "cell_type": "code",
   "execution_count": 31,
   "metadata": {},
   "outputs": [],
   "source": [
    "\n",
    "symbols = np.random.randint(M, size=N) # YOUR CODE HERE  # generate N random symbols with values 0 and M-1 \n",
    "symbols = constellation_qam[symbols] \n",
    "\n",
    "# generate noise with variance according to the required SNR and mean 0\n",
    "noise = sigma * np.random.randn(2 * N)  # YOUR CODE HERE # generate noise with variance according to the required SNR and mean 0\n",
    "noise = noise[::2] + 1j * noise[1::2] # YOUR CODE HERE # convert the noise to a complex number\n",
    "received = symbols + noise # YOUR CODE HERE # add noise to the symbols\n",
    "\n",
    "# plot the constellation diagram\n",
    "plt.figure()\n",
    "plt.scatter(np.real(received[0:2000]), np.imag(received[0:2000]), label='Rx')\n",
    "plt.scatter(np.real(symbols[0:100]), np.imag(symbols[0:100]),color='r', label='Tx', marker='x')\n",
    "plt.title('Constellation diagram')\n",
    "plt.xlabel('In-phase')\n",
    "plt.ylabel('Quadrature')\n",
    "plt.grid()\n",
    "plt.legend(loc=(1.1,0.87))\n",
    "plt.axis('square')  \n",
    "plt.show()\n"
   ]
  },
  {
   "cell_type": "markdown",
   "metadata": {},
   "source": [
    "Firstly, do the detection by selecting the closest constellation point to the received signal. Calculate the SER for the received symbols."
   ]
  },
  {
   "cell_type": "code",
   "execution_count": 25,
   "metadata": {},
   "outputs": [
    {
     "name": "stdout",
     "output_type": "stream",
     "text": [
      "The SER for QAM is:  0.00252\n"
     ]
    }
   ],
   "source": [
    "\n",
    "detected_symbols = np.zeros(N, dtype=complex)\n",
    "\n",
    "# do the detection by choosing the closest symbol in the constellation\n",
    "for i in range(N):\n",
    "    detected_symbols[i] = constellation_qam[np.argmin(np.abs(received[i] - constellation_qam))] \n",
    "\n",
    "\n",
    "#calculate the SER\n",
    "\n",
    "SER = np.sum(np.abs(symbols - detected_symbols) > 0.01) / N\n",
    "\n",
    "print('The SER for QAM is: ', SER)\n",
    "\n",
    "#print (symbols[0:10])\n",
    "#print (detected_symbols[0:10])"
   ]
  },
  {
   "cell_type": "markdown",
   "metadata": {},
   "source": [
    "Calculate the analytical symbol error probability using the equation from the lecture  $$ P_s \\approx \\frac{4(\\sqrt{M}-1)}{\\sqrt{M}} Q \\left(\\sqrt{\\frac{3\\log_2(M)}{M-1}\\gamma_b} \\right).$$"
   ]
  },
  {
   "cell_type": "code",
   "execution_count": 26,
   "metadata": {},
   "outputs": [
    {
     "name": "stdout",
     "output_type": "stream",
     "text": [
      "The SER for QAM is:  0.00252\n",
      "The analytical error probability for QAM is:  0.0023180244461353805\n"
     ]
    }
   ],
   "source": [
    "gamma_b = 10 ** (SNR_dB / 10) / np.log2(M) # YOUR CODE HERE # SNR per bit\n",
    "SER_analytical = 4 * (np.sqrt(M)-1)/np.sqrt(M) * Q(np.sqrt(3 * np.log2(M) / (M-1) * gamma_b)) # YOUR CODE HERE\n",
    "\n",
    "print('The SER for QAM is: ', SER)\n",
    "print('The analytical error probability for QAM is: ', SER_analytical)"
   ]
  },
  {
   "cell_type": "markdown",
   "metadata": {},
   "source": [
    "Then, do the same for the M - PSK modulation by generating N symbols and simulating the channel."
   ]
  },
  {
   "cell_type": "code",
   "execution_count": 27,
   "metadata": {},
   "outputs": [],
   "source": [
    "symbols = np.random.randint(M, size=N)\n",
    "symbols = constellation_psk[symbols]\n",
    "\n",
    "# generate noise with variance according to the required SNR and mean 0\n",
    "noise = sigma * np.random.randn( N) + 1j * sigma * np.random.randn(N) # YOUR CODE HERE # complex noise\n",
    "received = symbols + noise # YOUR CODE HERE # simulate the AWGN channel\n",
    "\n",
    "# plot the constellation diagram\n",
    "plt.figure()\n",
    "plt.scatter(np.real(received[0:2000]), np.imag(received[0:2000]), label='Rx')\n",
    "plt.scatter(np.real(symbols[0:100]), np.imag(symbols[0:100]),color='r', label='Tx', marker='x')\n",
    "plt.title('Constellation diagram')\n",
    "plt.xlabel('In-phase')\n",
    "plt.ylabel('Quadrature')\n",
    "plt.grid()\n",
    "plt.legend(loc=(1.1,0.87))\n",
    "plt.axis('square')  \n",
    "plt.show()\n"
   ]
  },
  {
   "cell_type": "markdown",
   "metadata": {},
   "source": [
    "Calculate the symbol error rate after the detection."
   ]
  },
  {
   "cell_type": "code",
   "execution_count": 28,
   "metadata": {},
   "outputs": [
    {
     "name": "stdout",
     "output_type": "stream",
     "text": [
      "The SER for PSK is:  0.05037\n"
     ]
    }
   ],
   "source": [
    "detected_symbols = np.zeros(N, dtype=complex)\n",
    "\n",
    "# do the detection by choosing the closest symbol in the constellation\n",
    "for i in range(N):\n",
    "    detected_symbols[i] = constellation_psk[np.argmin(np.abs(received[i] - constellation_psk) **2 )] # YOUR CODE HERE # do the detection by choosing the closest symbol in the constellation\n",
    "\n",
    "\n",
    "#calculate the SER\n",
    "\n",
    "SER = np.sum(np.abs(symbols - detected_symbols) > 0.01) / N\n",
    "\n",
    "print('The SER for PSK is: ', SER)\n"
   ]
  },
  {
   "cell_type": "markdown",
   "metadata": {},
   "source": [
    "Calculate the analytical symbol error probability using the following equation from the lecture $$ P_s \\approx 2 Q\\left( \\sqrt{\\frac{2\\log_2 (M) \\pi^2}{M^2} \\gamma_b }  \\right) $$"
   ]
  },
  {
   "cell_type": "code",
   "execution_count": 29,
   "metadata": {},
   "outputs": [
    {
     "name": "stdout",
     "output_type": "stream",
     "text": [
      "The SER for PSK is:  0.05037\n",
      "The analytical error probability for PSK is:  0.04931881111324832\n"
     ]
    }
   ],
   "source": [
    "SER_analytical = 2 * Q(np.sqrt(2 * gamma_b * (np.pi**2) * np.log2(M) / (M ** 2) ))  # YOUR CODE HERE\n",
    "\n",
    "\n",
    "print('The SER for PSK is: ', SER)\n",
    "print('The analytical error probability for PSK is: ', SER_analytical)\n"
   ]
  },
  {
   "cell_type": "markdown",
   "metadata": {},
   "source": [
    "### Questions\n",
    "\n",
    "1) Which modulation format do you choose by looking at their performance at the same SNR? Why?\n",
    "2) Do the analytical and simulated error rates correspond to each other?  \n",
    "3) Try the simulation also for SNR value of 5 dB and M = 4. Compare the simulated error rates obtained from the QAM and PSK modulation. Do they match? Why?\n",
    "4) Now, for the parameter setting in the previous question, compare the analytical error probabilities with the simulated error rates for QAM and PSK. Comment on the result. "
   ]
  },
  {
   "cell_type": "markdown",
   "metadata": {},
   "source": [
    "### Answers\n",
    "\n",
    "1) QAM since the error rate is small. We distribute the points more evenly in the same area, minimum distance between the points are larger.\n",
    "2) Due to high SNR, they are the same.\n",
    "3) They are the same modulation shifted by $\\pi/4$, so the simulated error rates are the same.\n",
    "4) Since the SNR value is small, the nearest neighbor assumption done in the PSK $P_s$ derivation does not hold. Thats why, we see lower value for the analytical SER compared to the simulated one. For QAM, we don't have nearest neighbor assumption, so the simulated and analytical $P_s$ values are approximately equal. "
   ]
  }
 ],
 "metadata": {
  "kernelspec": {
   "display_name": "base",
   "language": "python",
   "name": "python3"
  },
  "language_info": {
   "codemirror_mode": {
    "name": "ipython",
    "version": 3
   },
   "file_extension": ".py",
   "mimetype": "text/x-python",
   "name": "python",
   "nbconvert_exporter": "python",
   "pygments_lexer": "ipython3",
   "version": "3.9.7"
  }
 },
 "nbformat": 4,
 "nbformat_minor": 4
}
