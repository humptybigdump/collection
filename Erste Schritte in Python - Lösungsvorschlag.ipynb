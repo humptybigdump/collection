{
 "cells": [
  {
   "cell_type": "markdown",
   "metadata": {},
   "source": [
    "# Einführendes Jupyter Notebook\n",
    "\n",
    "Mit Hilfe dieses Notebooks sollen Sie sich mit der Programmiersprache Python vertraut machen. Es werden Ihnen viele verschiedene Konzepte und Befehle vorgestellt. Zusätzlich bearbeiten Sie ein paar kleine Programmieraufgaben. Natürlich müssen Sie all das nicht sofort im Kopf behalten. Stattdessen sollten Sie nach Bearbeitung dieses Notebook nur wissen, welche Konzepte und Befehle es prinzipiell gibt. Wenn Sie diese dann in zukünftigen Programmieraufgaben verwenden, können Sie dieses Notebook als \"Lexikon\" für die Details benutzen."
   ]
  },
  {
   "cell_type": "markdown",
   "metadata": {},
   "source": [
    "---\n",
    "\n",
    "# 1. Arbeiten mit einem Jupyter Notebook\n",
    "\n",
    "- Mit `help(Ausdruck)` können Sie sich Informationen zu \"Ausdruck\" anzeigen lassen.\n",
    "- Sie können in den Zellen, die mit \"`In [ ]:`\" beginnen, Python-Code eingeben. Wenn Sie **SHIFT+Enter** drücken, wird der Code ausgeführt und die nächste Zelle wird ausgewählt. Führen Sie als Test den folgenden Code aus:"
   ]
  },
  {
   "cell_type": "code",
   "execution_count": null,
   "metadata": {},
   "outputs": [],
   "source": [
    "help(print)"
   ]
  },
  {
   "cell_type": "markdown",
   "metadata": {},
   "source": [
    "- Denken Sie unbedingt daran, dass Sie beim Durcharbeiten dieses Notebooks alle Zellen der Reihe nach ausführen."
   ]
  },
  {
   "cell_type": "code",
   "execution_count": null,
   "metadata": {
    "scrolled": true
   },
   "outputs": [],
   "source": [
    "print(\"Hallo jupyter notebook\")"
   ]
  },
  {
   "cell_type": "markdown",
   "metadata": {},
   "source": [
    "- Dabei ist es möglich mehrere Zeilen zu programmieren, die dann nacheinander ausgeführt werden."
   ]
  },
  {
   "cell_type": "code",
   "execution_count": null,
   "metadata": {},
   "outputs": [],
   "source": [
    "a = 5\n",
    "b = 13\n",
    "print(a + b)"
   ]
  },
  {
   "cell_type": "markdown",
   "metadata": {},
   "source": [
    "- Falls die **letzte Zeile** in einer Code-Zelle einen Wert beinhaltet, wird dieser als \"`Out [n]:`\" ausgegeben. Hierfür ist kein Aufruf von `print` notwendig."
   ]
  },
  {
   "cell_type": "code",
   "execution_count": null,
   "metadata": {},
   "outputs": [],
   "source": [
    "print(\"Variablen bleiben über Zellen hinweg erhalten:\")\n",
    "a + b"
   ]
  },
  {
   "cell_type": "markdown",
   "metadata": {},
   "source": [
    "*Übrigens*: Durch `#` wird der Rest der Zeile zu einem Kommentar. Das ist immer mal wieder nützlich."
   ]
  },
  {
   "cell_type": "code",
   "execution_count": null,
   "metadata": {},
   "outputs": [],
   "source": [
    "# Dies ist ein Kommentar\n",
    "\"Dies ist kein Kommentar.\""
   ]
  },
  {
   "cell_type": "code",
   "execution_count": null,
   "metadata": {},
   "outputs": [],
   "source": [
    "a = range(3)\n",
    "print(a)"
   ]
  },
  {
   "cell_type": "code",
   "execution_count": null,
   "metadata": {},
   "outputs": [],
   "source": [
    "for j in [1,3,6]:\n",
    "    print(j)"
   ]
  },
  {
   "cell_type": "markdown",
   "metadata": {},
   "source": [
    "---\n",
    "\n",
    "# 2. Grundlagen in Python\n",
    "\n",
    "## 2.1 Listen\n",
    "In Listen können mehrere Elemente (auch von verschiedenen Typen) in einer Variable gespeichert werden. Erzeugung durch eckige Klammern und dann durch Kommas getrennte Auflistung der Elemente.\n",
    "\n",
    "**Beachten Sie:** Listen sind für uns noch keine \"Vektoren\".\n"
   ]
  },
  {
   "cell_type": "code",
   "execution_count": 7,
   "metadata": {},
   "outputs": [
    {
     "name": "stdout",
     "output_type": "stream",
     "text": [
      "[1, 2, 3, 'Hallo']\n"
     ]
    }
   ],
   "source": [
    "lst1 = [1,2,3,'Hallo']\n",
    "print(lst1)"
   ]
  },
  {
   "cell_type": "code",
   "execution_count": 8,
   "metadata": {},
   "outputs": [
    {
     "name": "stdout",
     "output_type": "stream",
     "text": [
      "<class 'list'>\n"
     ]
    }
   ],
   "source": [
    "print(type(lst1))"
   ]
  },
  {
   "cell_type": "markdown",
   "metadata": {},
   "source": [
    "Zugriff auf und Veränderung von Listenelementen durch eckige Klammern + Index. \n",
    "\n",
    "**Achtung:** Indizierung startet in Python immer bei 0!"
   ]
  },
  {
   "cell_type": "code",
   "execution_count": 9,
   "metadata": {},
   "outputs": [
    {
     "name": "stdout",
     "output_type": "stream",
     "text": [
      "2\n",
      "Hallo\n"
     ]
    }
   ],
   "source": [
    "print( lst1[1] )\n",
    "print( lst1[3] )"
   ]
  },
  {
   "cell_type": "code",
   "execution_count": 10,
   "metadata": {},
   "outputs": [
    {
     "name": "stdout",
     "output_type": "stream",
     "text": [
      "[1, 17, 3, 'Hallo']\n"
     ]
    }
   ],
   "source": [
    "lst1[1] = 17\n",
    "print(lst1)"
   ]
  },
  {
   "cell_type": "code",
   "execution_count": 11,
   "metadata": {
    "scrolled": true
   },
   "outputs": [
    {
     "ename": "IndexError",
     "evalue": "list index out of range",
     "output_type": "error",
     "traceback": [
      "\u001b[1;31m---------------------------------------------------------------------------\u001b[0m",
      "\u001b[1;31mIndexError\u001b[0m                                Traceback (most recent call last)",
      "\u001b[1;32m~\\AppData\\Local\\Temp\\ipykernel_16004\\1140360231.py\u001b[0m in \u001b[0;36m<module>\u001b[1;34m\u001b[0m\n\u001b[1;32m----> 1\u001b[1;33m \u001b[0mprint\u001b[0m\u001b[1;33m(\u001b[0m \u001b[0mlst1\u001b[0m\u001b[1;33m[\u001b[0m\u001b[1;36m4\u001b[0m\u001b[1;33m]\u001b[0m \u001b[1;33m)\u001b[0m\u001b[1;33m\u001b[0m\u001b[1;33m\u001b[0m\u001b[0m\n\u001b[0m",
      "\u001b[1;31mIndexError\u001b[0m: list index out of range"
     ]
    }
   ],
   "source": [
    "print( lst1[4] )"
   ]
  },
  {
   "cell_type": "markdown",
   "metadata": {},
   "source": [
    "## 2.2 Schleifen"
   ]
  },
  {
   "cell_type": "markdown",
   "metadata": {},
   "source": [
    "Mit einer for-Schleife kann man über jede Liste (oder auch über Vektoren oder Tupel) iterieren. Die Syntax sieht wie folgt aus:"
   ]
  },
  {
   "cell_type": "code",
   "execution_count": null,
   "metadata": {},
   "outputs": [],
   "source": [
    "for j in lst1:\n",
    "    print(j)\n",
    "    print('Ich bin Teil der for-Schleife')\n",
    "print('Ich bin nicht Teil der for-Schleife')"
   ]
  },
  {
   "cell_type": "markdown",
   "metadata": {},
   "source": [
    "Man beachte den Doppelpunkt nach der Liste sowie die Einrückung aller zur for-Schleife gehörender Anweisungen."
   ]
  },
  {
   "cell_type": "markdown",
   "metadata": {},
   "source": [
    "## 2.3 Die Range-Funktion\n",
    "Mit Hilfe der `range`-Funktion lässt sich die for-Schleife ideal für Iterationen nutzen. Beobachten Sie unten, wie die `range`-Funktion funktioniert:"
   ]
  },
  {
   "cell_type": "code",
   "execution_count": 3,
   "metadata": {},
   "outputs": [
    {
     "name": "stdout",
     "output_type": "stream",
     "text": [
      "0\n",
      "1\n",
      "2\n",
      "3\n",
      "4\n"
     ]
    }
   ],
   "source": [
    "for j in range(5):\n",
    "    print(j)"
   ]
  },
  {
   "cell_type": "code",
   "execution_count": 4,
   "metadata": {},
   "outputs": [
    {
     "name": "stdout",
     "output_type": "stream",
     "text": [
      "2\n",
      "3\n",
      "4\n",
      "5\n",
      "6\n"
     ]
    }
   ],
   "source": [
    "for j in range(2,7):\n",
    "    print(j)"
   ]
  },
  {
   "cell_type": "code",
   "execution_count": 5,
   "metadata": {
    "scrolled": true
   },
   "outputs": [
    {
     "name": "stdout",
     "output_type": "stream",
     "text": [
      "0\n",
      "5\n",
      "10\n",
      "15\n",
      "20\n"
     ]
    }
   ],
   "source": [
    "for j in range(0,25,5):\n",
    "    print(j)"
   ]
  },
  {
   "cell_type": "markdown",
   "metadata": {},
   "source": [
    "## 2.4 Prozeduren\n",
    "Für immer wieder benötigte Code-Abschnitte bieten sich Prozeduren an. Die **Syntax zur Definition einer Prozedur** sieht folgendermaßen aus:\n",
    "\n",
    "    def PROZEDURNAME(EINGABEPARAMETER):\n",
    "        Anweisungs-Block\n",
    "        return AUSGABEVARIABLEN\n",
    "\n",
    "Falls mehrere Variablen eingegeben/ausgegeben werden sollen: Mit Komma trennen.\n",
    "\n",
    "Was macht zum Beispiel die folgende Prozedur? Was liefert der Aufruf für ein Ergebnis?"
   ]
  },
  {
   "cell_type": "code",
   "execution_count": 20,
   "metadata": {},
   "outputs": [],
   "source": [
    "def meineProzedur(n):\n",
    "    s1 = 0\n",
    "    s2 = 0\n",
    "    for k in range(1,n+1):\n",
    "        s1 = s1 + k\n",
    "        s2 = s2 + k**2\n",
    "    return s1,s2"
   ]
  },
  {
   "cell_type": "code",
   "execution_count": 24,
   "metadata": {
    "scrolled": true
   },
   "outputs": [
    {
     "data": {
      "text/plain": [
       "(6, 14)"
      ]
     },
     "execution_count": 24,
     "metadata": {},
     "output_type": "execute_result"
    }
   ],
   "source": [
    "meineProzedur(3)"
   ]
  },
  {
   "cell_type": "markdown",
   "metadata": {},
   "source": [
    "**Aufgabe:** Schreiben Sie eine Prozedur `fak`, die die Fakultät einer natürlichen Zahl $n$ berechnet und testen Sie diese mit verschiedenen Aufrufen."
   ]
  },
  {
   "cell_type": "code",
   "execution_count": 95,
   "metadata": {},
   "outputs": [],
   "source": [
    "def fak(n):\n",
    "    res = 1\n",
    "    for k in range(2,n+1):\n",
    "        res = res*k\n",
    "    return res"
   ]
  },
  {
   "cell_type": "code",
   "execution_count": 98,
   "metadata": {},
   "outputs": [
    {
     "data": {
      "text/plain": [
       "120"
      ]
     },
     "execution_count": 98,
     "metadata": {},
     "output_type": "execute_result"
    }
   ],
   "source": [
    "fak(5)"
   ]
  },
  {
   "cell_type": "markdown",
   "metadata": {},
   "source": [
    "---\n",
    "\n",
    "# 3. Vektoren und Matrizen in Python"
   ]
  },
  {
   "cell_type": "markdown",
   "metadata": {},
   "source": [
    "## 3.1: Grundlagen"
   ]
  },
  {
   "cell_type": "markdown",
   "metadata": {},
   "source": [
    "Für Vektoren und Matrizen gibt es in Python den speziellen Datentyp `ndarray`. Dieser Datentyp unterscheidet sich in mehrerlei Hinsicht von Listen:\n",
    "- `ndarrays` können nur Zahlen als Einträge enthalten\n",
    "- `ndarrays` können mehrere Dimensionen haben (1D-arrays: Vektoren; 2D-arrays: Matrizen; nD-arrays: Tensoren)\n",
    "- mit `ndarrays` können verschiedenste Rechenoperationen durchgfeührt werden\n",
    "\n",
    "Der Datentyp `ndarray` steht in Python nach der Einbindung von `numpy`, üblicherweise durch `import numpy as np`, zur Verfügung.\n",
    "\n",
    "**Eindimensionale Arrays (Vektoren)** erzeugt man, indem man eine Liste von Zahlen mit Hilfe des Befehls `np.array` zu einem `ndarray` umwandelt:"
   ]
  },
  {
   "cell_type": "code",
   "execution_count": 28,
   "metadata": {},
   "outputs": [],
   "source": [
    "import numpy as np"
   ]
  },
  {
   "cell_type": "code",
   "execution_count": 29,
   "metadata": {
    "scrolled": true
   },
   "outputs": [
    {
     "name": "stdout",
     "output_type": "stream",
     "text": [
      "<class 'numpy.ndarray'>\n",
      "[ 4  6 17]\n",
      "[1 2 3]\n"
     ]
    }
   ],
   "source": [
    "v1 = np.array([4,6,17])\n",
    "v2 = np.array([1,2,3])\n",
    "print(type(v1))\n",
    "print(v1)\n",
    "print(v2)"
   ]
  },
  {
   "cell_type": "code",
   "execution_count": 30,
   "metadata": {},
   "outputs": [
    {
     "name": "stdout",
     "output_type": "stream",
     "text": [
      "[ 5  8 20]\n"
     ]
    }
   ],
   "source": [
    "print(v1+v2)"
   ]
  },
  {
   "cell_type": "markdown",
   "metadata": {},
   "source": [
    "Immer wieder nützlich: Die Länge von Vektoren kann über den `len` Befehl ausgelesen werden:"
   ]
  },
  {
   "cell_type": "code",
   "execution_count": 38,
   "metadata": {},
   "outputs": [
    {
     "name": "stdout",
     "output_type": "stream",
     "text": [
      "3\n"
     ]
    }
   ],
   "source": [
    "print(len(v1))"
   ]
  },
  {
   "cell_type": "markdown",
   "metadata": {},
   "source": [
    "**Zweidimensionales Arrays (Matrizen)** erzeugt man aus einer Liste, deren Elemente jeweils wieder eine Liste sind, die jeweils die **Zeilen** der Matrix enthalten:"
   ]
  },
  {
   "cell_type": "code",
   "execution_count": 31,
   "metadata": {},
   "outputs": [
    {
     "name": "stdout",
     "output_type": "stream",
     "text": [
      "A= \n",
      " [[1 2 3]\n",
      " [4 5 6]\n",
      " [7 8 9]]\n"
     ]
    }
   ],
   "source": [
    "A = np.array([[1,2,3], [4, 5, 6], [7, 8, 9]])\n",
    "print(\"A=\",\"\\n\",A)"
   ]
  },
  {
   "cell_type": "markdown",
   "metadata": {},
   "source": [
    "Zur besseren Visualisierung stellen wir eine Funktion zur Ausgabe einer Matrix bereit. (Führen Sie die folgende Zelle zunächst einfach nur aus. Es ist nicht notwendig, dass Sie den Code dazu nachvollziehen können.)"
   ]
  },
  {
   "cell_type": "code",
   "execution_count": 32,
   "metadata": {},
   "outputs": [],
   "source": [
    "# Funktion, um eine Matrix \"schöner\" auszugeben:\n",
    "def printmatrix(A):\n",
    "    if A.dtype == \"int\":\n",
    "        print('\\n'.join([''.join(['{:4}'.format(item) for item in row]) for row in A])+\"\\n\")\n",
    "    else:\n",
    "        print('\\n'.join([''.join(['{:6.1f}'.format(item) for item in row]) for row in A])+\"\\n\")   "
   ]
  },
  {
   "cell_type": "code",
   "execution_count": 33,
   "metadata": {},
   "outputs": [
    {
     "name": "stdout",
     "output_type": "stream",
     "text": [
      "A =\n",
      "   1   2   3\n",
      "   4   5   6\n",
      "   7   8   9\n",
      "\n"
     ]
    }
   ],
   "source": [
    "print(\"A =\")\n",
    "printmatrix(A)"
   ]
  },
  {
   "cell_type": "markdown",
   "metadata": {},
   "source": [
    "In den folgenden Beispielen sehen Sie, wie man auf Matrixeinträge zugreift. Beachten Sie, dass die Indizes in Python immer mit 0 beginnen, d.h. den ersten Eintrag einer Matrix `A` der Größe $N\\times N$ erhält man über `A[0,0]`, den letzten über `A[N-1,N-1]`."
   ]
  },
  {
   "cell_type": "code",
   "execution_count": 35,
   "metadata": {},
   "outputs": [
    {
     "name": "stdout",
     "output_type": "stream",
     "text": [
      "Erster Eintrag der Matrix A:  1\n",
      "Letzter Eintrag der Matrix A:  9\n"
     ]
    }
   ],
   "source": [
    "print(\"Erster Eintrag der Matrix A: \", A[0,0])\n",
    "print(\"Letzter Eintrag der Matrix A: \", A[2,2])"
   ]
  },
  {
   "cell_type": "markdown",
   "metadata": {},
   "source": [
    "Die Größe einer Matrix erhält man über den Befehl `np.shape` als Tupel (erst Anzahl Zeilen, dann Anzahl Spalten):"
   ]
  },
  {
   "cell_type": "code",
   "execution_count": 40,
   "metadata": {},
   "outputs": [
    {
     "name": "stdout",
     "output_type": "stream",
     "text": [
      "   1   2\n",
      "   3   4\n",
      "   5   6\n",
      "\n",
      "Die Matrix B hat 3 Zeilen und 2 Spalten.\n"
     ]
    }
   ],
   "source": [
    "B = np.array([[1,2],[3,4],[5,6]])\n",
    "printmatrix(B)\n",
    "sz = np.shape(B)\n",
    "print('Die Matrix B hat',sz[0],'Zeilen und',sz[1],'Spalten.')"
   ]
  },
  {
   "cell_type": "markdown",
   "metadata": {},
   "source": [
    "**Aufgabe:** Schreiben Sie eine Prozedur `countPositive`, die für eine Matrix $A$ beliebiger Größe die Anzahl an positiven Einträgen zählt und zurückgibt:"
   ]
  },
  {
   "cell_type": "code",
   "execution_count": 41,
   "metadata": {},
   "outputs": [],
   "source": [
    "def countPositive(A):\n",
    "    sz = np.shape(A)\n",
    "    k = 0 # Zähler für die positiven Einträge\n",
    "    for i in range(0,sz[0]): # gehe alle Zeilen duch\n",
    "        for j in range(0,sz[1]): # gehe alle Spalten durch\n",
    "            if A[i,j]>0: # überprüfe, ob der ij-te Eintrag positiv ist\n",
    "                k=k+1\n",
    "    return k"
   ]
  },
  {
   "cell_type": "code",
   "execution_count": 44,
   "metadata": {},
   "outputs": [
    {
     "name": "stdout",
     "output_type": "stream",
     "text": [
      "  -1.0   0.0\n",
      "   3.0  -2.0\n",
      "   1.0   2.0\n",
      "   0.1  -0.1\n",
      "\n",
      "Anzahl positiver Einträge: 4\n"
     ]
    }
   ],
   "source": [
    "mat = np.array([ [-1,0],[3,-2],[1,2],[0.1,-0.1] ])\n",
    "printmatrix(mat)\n",
    "print('Anzahl positiver Einträge:',countPositive(mat))"
   ]
  },
  {
   "cell_type": "markdown",
   "metadata": {},
   "source": [
    "## 3.2 Matrix-Slicing"
   ]
  },
  {
   "cell_type": "markdown",
   "metadata": {},
   "source": [
    "Beim Zugriff auf Matrixeinträge kann man in den eckigen Klammern für Zeilen- und Spaltenindex nicht nur einzelne Zahlen eingeben, sondern auch Ausdrücke der Form \n",
    "- `start:stop` mit zwei natürlichen Zahlen `start` und `stop` --> Alle Indizes von `start` bis `stop`-1\n",
    "- `start:stop:step` mit drei natürlichen Zahlen `start`, `stop` und `step` --> Alle Indizes von `start` bis (maximal) `stop`-1 im Abstand von `step`\n",
    "\n",
    "Damit greift man dann gleichzeitig auf alle Elemente des Arrays zu, die durch die jeweiligen Indizes erreicht werden. "
   ]
  },
  {
   "cell_type": "code",
   "execution_count": 66,
   "metadata": {},
   "outputs": [
    {
     "name": "stdout",
     "output_type": "stream",
     "text": [
      "   1   2   3   4\n",
      "   5   6   7   8\n",
      "   9  10  11  12\n",
      "  13  14  15  16\n",
      "  17  18  19  20\n",
      "\n"
     ]
    }
   ],
   "source": [
    "A = np.array([ [1,2,3,4] , [5,6,7,8] , [9,10,11,12], [13,14,15,16], [17,18,19,20] ])\n",
    "printmatrix(A)"
   ]
  },
  {
   "cell_type": "code",
   "execution_count": 48,
   "metadata": {},
   "outputs": [
    {
     "name": "stdout",
     "output_type": "stream",
     "text": [
      "2. Zeile von A:  [5 6 7 8]\n",
      "3. Spalte von A:  [ 3  7 11 15 19]\n",
      "A ohne die äußeren Zeilen und Spalten:\n",
      "   6   7\n",
      "  10  11\n",
      "  14  15\n",
      "\n"
     ]
    }
   ],
   "source": [
    "print(\"2. Zeile von A: \", A[1,0:4])\n",
    "print(\"3. Spalte von A: \", A[0:5,2])\n",
    "print(\"A ohne die äußeren Zeilen und Spalten:\")\n",
    "printmatrix(A[1:4,1:3])"
   ]
  },
  {
   "cell_type": "markdown",
   "metadata": {},
   "source": [
    "Bei der Verwendung von `start:stop` oder `start:stop:step` kann sowohl für `start` als auch für `stop` einfach **keine Zahl** eingegeben werden.\n",
    "\n",
    "- Wird `start` weggelassen, so wird mit dem Index 0 angefangen (also mit der ersten Zeile/Spalte)\n",
    "- Wird `stop` weggelassen, so werden alle Elemente bis zum letzten ausgewählt (also bis zur letzten Zeile/Spalte)"
   ]
  },
  {
   "cell_type": "code",
   "execution_count": 50,
   "metadata": {},
   "outputs": [
    {
     "name": "stdout",
     "output_type": "stream",
     "text": [
      "[1 5 9]\n",
      "[ 1  5  9 13 17]\n"
     ]
    }
   ],
   "source": [
    "# Erste drei Einträge der ersten Spalte von A\n",
    "print( A[:3,0] )"
   ]
  },
  {
   "cell_type": "code",
   "execution_count": 51,
   "metadata": {},
   "outputs": [
    {
     "name": "stdout",
     "output_type": "stream",
     "text": [
      "[ 1  5  9 13 17]\n"
     ]
    }
   ],
   "source": [
    "# Komplette erste Spalte von A\n",
    "print( A[:,0] )"
   ]
  },
  {
   "cell_type": "code",
   "execution_count": 67,
   "metadata": {
    "scrolled": true
   },
   "outputs": [
    {
     "name": "stdout",
     "output_type": "stream",
     "text": [
      "   1   2   3   4\n",
      "   5   6   7   8\n",
      "   9  10  11  12\n",
      "\n"
     ]
    }
   ],
   "source": [
    "# Erste drei Zeilen von A\n",
    "printmatrix( A[0:3,:] )"
   ]
  },
  {
   "cell_type": "markdown",
   "metadata": {},
   "source": [
    "Was bewirkt demnach der folgende Aufruf?"
   ]
  },
  {
   "cell_type": "code",
   "execution_count": 68,
   "metadata": {},
   "outputs": [
    {
     "name": "stdout",
     "output_type": "stream",
     "text": [
      "  17  18  19  20\n",
      "  13  14  15  16\n",
      "   9  10  11  12\n",
      "   5   6   7   8\n",
      "   1   2   3   4\n",
      "\n"
     ]
    }
   ],
   "source": [
    "printmatrix( A[::-1,:] )"
   ]
  },
  {
   "cell_type": "markdown",
   "metadata": {},
   "source": [
    "## 3.3 Spezielle Vektoren und Matrizen"
   ]
  },
  {
   "cell_type": "markdown",
   "metadata": {},
   "source": [
    "__Vektoren mit aufsteigenden, äquidistanten Zahlen (Abstand vorgegeben):__ `np.arange(start,stop)` mit zwei Zahlen `start` und `stop` bzw. `np.arange(start,stop,step)` wenn der Abstand zwischend den Zahlen `step` statt 1 sein soll.\n",
    "\n",
    "**Beachte:** Die Zahl `stop` selbst **ist nicht** im Array enthalten."
   ]
  },
  {
   "cell_type": "code",
   "execution_count": 54,
   "metadata": {},
   "outputs": [
    {
     "name": "stdout",
     "output_type": "stream",
     "text": [
      "[1 2 3 4]\n"
     ]
    }
   ],
   "source": [
    "a = np.arange(1,5)\n",
    "print(a)"
   ]
  },
  {
   "cell_type": "code",
   "execution_count": 55,
   "metadata": {},
   "outputs": [
    {
     "name": "stdout",
     "output_type": "stream",
     "text": [
      "[1.  1.4 1.8 2.2 2.6 3.  3.4 3.8 4.2 4.6]\n"
     ]
    }
   ],
   "source": [
    "b = np.arange(1,5,0.4)\n",
    "print(b)"
   ]
  },
  {
   "cell_type": "markdown",
   "metadata": {},
   "source": [
    "__Vektoren mit aufsteigenden, äquidistanten Zahlen (Anzahl Punkte vorgegeben):__ `np.linspace(start,stop,N)` mit `start` und `stop` wie oben und mit der Anzahl an Punkten $N$."
   ]
  },
  {
   "cell_type": "code",
   "execution_count": 88,
   "metadata": {},
   "outputs": [
    {
     "name": "stdout",
     "output_type": "stream",
     "text": [
      "[1.    1.125 1.25  1.375 1.5   1.625 1.75  1.875 2.   ]\n"
     ]
    }
   ],
   "source": [
    "a = np.linspace(1,2,9)\n",
    "print(a)"
   ]
  },
  {
   "cell_type": "markdown",
   "metadata": {},
   "source": [
    "Beachte: Im Gegensatz zu oben ist die Zahl `stop` hier im Vektor enthalten!"
   ]
  },
  {
   "cell_type": "markdown",
   "metadata": {},
   "source": [
    "**Einheitsmatrix**: `eye(n)` wobei n die gewünschte Größe ist:"
   ]
  },
  {
   "cell_type": "code",
   "execution_count": 56,
   "metadata": {},
   "outputs": [
    {
     "name": "stdout",
     "output_type": "stream",
     "text": [
      "   1.0   0.0   0.0   0.0   0.0\n",
      "   0.0   1.0   0.0   0.0   0.0\n",
      "   0.0   0.0   1.0   0.0   0.0\n",
      "   0.0   0.0   0.0   1.0   0.0\n",
      "   0.0   0.0   0.0   0.0   1.0\n",
      "\n"
     ]
    }
   ],
   "source": [
    "A=np.eye(5)\n",
    "printmatrix(A)"
   ]
  },
  {
   "cell_type": "markdown",
   "metadata": {},
   "source": [
    "**Vektor/Matrix nur aus Einsen**: `ones(n)` oder `ones([n,m])`, wobei n die Anzahl an Zeilen, m die Anzahl an Spalten ist"
   ]
  },
  {
   "cell_type": "code",
   "execution_count": 57,
   "metadata": {},
   "outputs": [
    {
     "name": "stdout",
     "output_type": "stream",
     "text": [
      "[1. 1. 1. 1.]\n",
      "\n",
      "   1.0   1.0\n",
      "   1.0   1.0\n",
      "   1.0   1.0\n",
      "\n"
     ]
    }
   ],
   "source": [
    "v = np.ones(4)\n",
    "A = np.ones([3,2])\n",
    "print(v)\n",
    "print()\n",
    "printmatrix(A)"
   ]
  },
  {
   "cell_type": "markdown",
   "metadata": {},
   "source": [
    "**Vektor/Matrix nur aus Nullen:** `zeros(n)` oder `zeros([n,m])`, wobei n die Anzahl an Zeilen, m die Anzahl an Spalten ist"
   ]
  },
  {
   "cell_type": "markdown",
   "metadata": {},
   "source": [
    "**Diagonalmatrizen** `np.diag(v,n)`. Hierbei wird ein Vektor `v` und eine natürliche Zahl `n` übergeben.\n",
    "Die von `np.diag(v, n)` erzeugte Matrix enthält den Vektor `v` als `n`-te Nebendiagonale und sonst Nullen.\n",
    "Dabei entspricht `n=0` (Defaultwert, muss nicht übergeben werden) der Hauptdiagonale, `n=-1` der ersten unteren Nebendiagonale und `n=1` der ersten oberen Nebendiagonale. "
   ]
  },
  {
   "cell_type": "code",
   "execution_count": 58,
   "metadata": {},
   "outputs": [
    {
     "name": "stdout",
     "output_type": "stream",
     "text": [
      "   0   0   0   0   0\n",
      "   0   0   0   0   0\n",
      "   1   0   0   0   0\n",
      "   0   2   0   0   0\n",
      "   0   0   3   0   0\n",
      "\n",
      "   0   1   0\n",
      "   0   0   2\n",
      "   0   0   0\n",
      "\n",
      "   1   0   0\n",
      "   0   2   0\n",
      "   0   0   3\n",
      "\n"
     ]
    }
   ],
   "source": [
    "v = np.array([1,2,3])\n",
    "printmatrix(np.diag(v,-2))\n",
    "printmatrix(np.diag(v[0:2], 1))\n",
    "printmatrix(np.diag(v))"
   ]
  },
  {
   "cell_type": "markdown",
   "metadata": {},
   "source": [
    "## 3.4 Rechnen mit Vektoren und Matrizen"
   ]
  },
  {
   "cell_type": "markdown",
   "metadata": {},
   "source": [
    "Nun wollen wir verschiedene Rechenoperationen mit den folgenden Matrizen `A`, `B` und `C` durchführen."
   ]
  },
  {
   "cell_type": "code",
   "execution_count": 59,
   "metadata": {},
   "outputs": [
    {
     "name": "stdout",
     "output_type": "stream",
     "text": [
      "A:\n",
      "   2.0   0.0   0.0\n",
      "   0.0   2.0   0.0\n",
      "   0.0   0.0   2.0\n",
      "\n",
      "B:\n",
      "   1   2   3\n",
      "   4   5   6\n",
      "   7   8   9\n",
      "\n",
      "C:\n",
      "   1.0   1.0\n",
      "   1.0   1.0\n",
      "   1.0   1.0\n",
      "\n"
     ]
    }
   ],
   "source": [
    "A = 2 * np.eye(3)\n",
    "B = np.array([[1,2,3],[4,5,6],[7,8,9]])\n",
    "C = np.ones((3,2))\n",
    "print(\"A:\")\n",
    "printmatrix(A)\n",
    "print(\"B:\")\n",
    "printmatrix(B)\n",
    "print(\"C:\")\n",
    "printmatrix(C)"
   ]
  },
  {
   "cell_type": "markdown",
   "metadata": {},
   "source": [
    "Vektoren und Matrizen lassen sich (fast) genauso Addieren und Multiplizieren, wie man das vermutet."
   ]
  },
  {
   "cell_type": "code",
   "execution_count": 60,
   "metadata": {},
   "outputs": [
    {
     "name": "stdout",
     "output_type": "stream",
     "text": [
      "A+B:\n",
      "   3.0   2.0   3.0\n",
      "   4.0   7.0   6.0\n",
      "   7.0   8.0  11.0\n",
      "\n",
      "A*B:\n",
      "   2.0   0.0   0.0\n",
      "   0.0  10.0   0.0\n",
      "   0.0   0.0  18.0\n",
      "\n",
      "A@B:\n",
      "   2.0   4.0   6.0\n",
      "   8.0  10.0  12.0\n",
      "  14.0  16.0  18.0\n",
      "\n",
      "A@C:\n",
      "   2.0   2.0\n",
      "   2.0   2.0\n",
      "   2.0   2.0\n",
      "\n",
      "A/C:\n",
      "   2.0   0.0   0.0\n",
      "   0.0   0.4   0.0\n",
      "   0.0   0.0   0.2\n",
      "\n"
     ]
    }
   ],
   "source": [
    "print(\"A+B:\")\n",
    "printmatrix(A+B)\n",
    "print(\"A*B:\")\n",
    "printmatrix(A*B)\n",
    "print(\"A@B:\")\n",
    "printmatrix(A@B)\n",
    "print(\"A@C:\")\n",
    "printmatrix(A@C)\n",
    "print(\"A/C:\")\n",
    "printmatrix(A/B)"
   ]
  },
  {
   "cell_type": "markdown",
   "metadata": {},
   "source": [
    "__WICHTIG!__ Welche der Operationen `*` und `@` entspricht der punktweisen Matrix-Multiplikation, welche der \"normalen\" Matrix-Multiplikation? \n",
    "Was macht `/`?"
   ]
  },
  {
   "cell_type": "markdown",
   "metadata": {},
   "source": [
    "Versuchen Sie nun, den Umgang mit Matrizen etwas zu verinnerlichen. Dazu eine kleine Aufgabe:\n",
    "\n",
    "__Aufgabe:__ Nutzen Sie untenstehende leere Zelle, um die folgenden Matrizen zu erzeugen.\n",
    "\n",
    "$$ A = \\begin{pmatrix}  & 1 &  & 1 & & 1 &  & 1\\\\ 1 &  & 1 & & 1 &  & 1 &  \\\\   & 1 &  & 1 & & 1 &  & 1\\\\ 1 &  & 1 & & 1 &  & 1 &  \\\\  & 1 &  & 1 & & 1 &  & 1\\\\ 1 &  & 1 & & 1 &  & 1 &  \\\\   & 1 &  & 1 & & 1 &  & 1\\\\ 1 &  & 1 & & 1 &  & 1 & \\end{pmatrix}, \\qquad B = \\begin{pmatrix} -2 & 1 &  &  \\\\ 1 & -2 & 1 &  \\\\  & 1 & -2 & 1 \\\\  &  & 1 & -2 & 1 \\\\ & & & 1 & -2 \\end{pmatrix}, \\qquad \n",
    "C = \\begin{pmatrix} -1 &  &  & 1 & 1 & &  & -1 \\\\  & -1 &  & 1 & 1 &  & -1 &  \\\\ &  & -1 & 1 & 1 & -1 &  & \\\\\n",
    "1 & 1 & 1 & 1 &  1 & 1 & 1 & 1 \\\\ 1 & 1 & 1 & 1 & 1 & 1 & 1 & 1  \\\\\n",
    " &  & -1 & 1 & 1 & -1 &  &  \\\\  & -1 &  & 1  & 1 &  & -1 &  \\\\-1 &  &  & 1 & 1 &  &  & -1 \\end{pmatrix} $$\n",
    " \n",
    " _Hinweis:_ Wir haben hier die gängige Konvention benutzt, dass Einträge, die $0$ sind, weggelassen werden. \n",
    " Das erleichtert es, die Struktur einer Matrix zu erkennen."
   ]
  },
  {
   "cell_type": "code",
   "execution_count": 71,
   "metadata": {},
   "outputs": [
    {
     "name": "stdout",
     "output_type": "stream",
     "text": [
      "   0.0   1.0   0.0   1.0   0.0   1.0   0.0   1.0\n",
      "   1.0   0.0   1.0   0.0   1.0   0.0   1.0   0.0\n",
      "   0.0   1.0   0.0   1.0   0.0   1.0   0.0   1.0\n",
      "   1.0   0.0   1.0   0.0   1.0   0.0   1.0   0.0\n",
      "   0.0   1.0   0.0   1.0   0.0   1.0   0.0   1.0\n",
      "   1.0   0.0   1.0   0.0   1.0   0.0   1.0   0.0\n",
      "   0.0   1.0   0.0   1.0   0.0   1.0   0.0   1.0\n",
      "   1.0   0.0   1.0   0.0   1.0   0.0   1.0   0.0\n",
      "\n",
      "  -2.0   1.0   0.0   0.0   0.0\n",
      "   1.0  -2.0   1.0   0.0   0.0\n",
      "   0.0   1.0  -2.0   1.0   0.0\n",
      "   0.0   0.0   1.0  -2.0   1.0\n",
      "   0.0   0.0   0.0   1.0  -2.0\n",
      "\n",
      "  -1.0   0.0   0.0   1.0   1.0   0.0   0.0  -1.0\n",
      "   0.0  -1.0   0.0   1.0   1.0   0.0  -1.0   0.0\n",
      "   0.0   0.0  -1.0   1.0   1.0  -1.0   0.0   0.0\n",
      "   1.0   1.0   1.0   1.0   1.0   1.0   1.0   1.0\n",
      "   1.0   1.0   1.0   1.0   1.0   1.0   1.0   1.0\n",
      "   0.0   0.0  -1.0   1.0   1.0  -1.0   0.0   0.0\n",
      "   0.0  -1.0   0.0   1.0   1.0   0.0  -1.0   0.0\n",
      "  -1.0   0.0   0.0   1.0   1.0   0.0   0.0  -1.0\n",
      "\n"
     ]
    }
   ],
   "source": [
    "A = np.zeros([8,8])\n",
    "A[0:8:2,1:8:2] = 1\n",
    "A[1:8:2,0:8:2] = 1 \n",
    "printmatrix(A)\n",
    "\n",
    "B = np.diag(-2*np.ones(5))\n",
    "B = B + np.diag(np.ones(4),1)\n",
    "B = B + np.diag(np.ones(4),-1)\n",
    "printmatrix(B)\n",
    "\n",
    "v = -1 * np.ones(8)\n",
    "C = np.diag(v)\n",
    "C = C + C[::-1,:]\n",
    "C[3:5,:] = 1\n",
    "C[:,3:5] = 1\n",
    "printmatrix(C)"
   ]
  },
  {
   "cell_type": "markdown",
   "metadata": {},
   "source": [
    "## 3.5 Achtung: Kopie einer Matrix vs Ansicht auf eine Matrix"
   ]
  },
  {
   "cell_type": "markdown",
   "metadata": {},
   "source": [
    "Mit dem Zugriffs-Operator `[]` und dem Doppelpunkt-Operator (siehe Abschnitt 2.) wird keine Kopie der Daten des Arrays erstellt, sondern nur eine **Ansicht** auf diese Daten realisiert. Die folgenden Änderungen an der Matrix B oder C betreffen daher jeweils beide Matrizen!"
   ]
  },
  {
   "cell_type": "code",
   "execution_count": 72,
   "metadata": {},
   "outputs": [
    {
     "name": "stdout",
     "output_type": "stream",
     "text": [
      "   1.0   2.0   3.0\n",
      "   4.0   5.0   6.0\n",
      "   7.0   8.0   9.0\n",
      "\n",
      "   1.0   2.0\n",
      "   4.0   5.0\n",
      "\n",
      "  33.0   2.0   3.0\n",
      "   4.0 -23.0   6.0\n",
      "   7.0   8.0   9.0\n",
      "\n",
      "  33.0   2.0\n",
      "   4.0 -23.0\n",
      "\n"
     ]
    }
   ],
   "source": [
    "B = np.array([[1.0, 2, 3], [4, 5, 6], [7, 8, 9]])\n",
    "printmatrix(B)\n",
    "C = B[:2,:2]\n",
    "printmatrix(C)\n",
    "B[0,0] = 33\n",
    "C[1,1] = -23\n",
    "printmatrix(B)\n",
    "printmatrix(C)"
   ]
  },
  {
   "cell_type": "markdown",
   "metadata": {},
   "source": [
    "Braucht man tatsächlich eine unabhängige Kopie einer (Teil-)Matrix, dann muss das `copy()`-Attribut verwendet werden:"
   ]
  },
  {
   "cell_type": "code",
   "execution_count": 73,
   "metadata": {},
   "outputs": [
    {
     "name": "stdout",
     "output_type": "stream",
     "text": [
      "   1.0   2.0   3.0\n",
      "   4.0   5.0   6.0\n",
      "   7.0   8.0   9.0\n",
      "\n",
      "   1.0   2.0\n",
      "   4.0   5.0\n",
      "\n",
      "  33.0   2.0   3.0\n",
      "   4.0   5.0   6.0\n",
      "   7.0   8.0   9.0\n",
      "\n",
      "   1.0   2.0\n",
      "   4.0 -23.0\n",
      "\n"
     ]
    }
   ],
   "source": [
    "B = np.array([[1.0, 2, 3], [4, 5, 6], [7, 8, 9]])\n",
    "printmatrix(B)\n",
    "C = B[:2,:2].copy()\n",
    "printmatrix(C)\n",
    "B[0,0] = 33\n",
    "C[1,1] = -23\n",
    "printmatrix(B)\n",
    "printmatrix(C)"
   ]
  },
  {
   "cell_type": "markdown",
   "metadata": {},
   "source": [
    "## 4. Plotten von Funktionen\n",
    "\n",
    "### 4.1 Grundprinzip\n",
    "\n",
    "Funktionsgraphen zeichnet man in Python, indem man ganz viele Punkte des Funktionsgraphen berechnet und diese verbindet. \n",
    "\n",
    "Hat man die Funktionsvorschrift einer Funktion gegeben, so geht man also folgendermaßen vor:\n",
    "- Man erstellt einen Vektor aus ganz vielen \\\\(x\\\\)-Werten\n",
    "- Man berechnet zu all diesen \\\\(x\\\\)-Werten die Funktionswerte und speichert sie in einem zweiten Vektor\n",
    "- Man zeichnet all diese Punkte in ein Bild ein und verbindet diese\n",
    "\n",
    "Für den lezten Schritt, also zum Einzeichnen aller Punkte, brauchen wir das Paket `matplotbib.pyplot`, dass üblicherweise über `import matplotbib.pyplot as plt` eingebunden wird. Dieses Paket beinhaltet den Befehl `plt.plot(x,y)`, der alle Punkte mit den \n",
    "\\\\(x\\\\)-Werten aus `x` und den \\\\(y\\\\)-Werten aus `y` in ein Bild einzeichnet und verbindet. Um das Bild dann auch tatsächlich anzuzeigen, muss zusätzlich der Befehl `plt.show()` ausgeführt werden.\n",
    "\n",
    "Wir schauen uns das ganze anhand der Funktion \\\\(f\\\\) mit\n",
    "\n",
    "\\\\[ f(x)=\\frac{1}{5} e^{sin(3x)} \\ \\text{ für } \\ x\\in[-1,1] \\\\]\n",
    "\n",
    "an:"
   ]
  },
  {
   "cell_type": "code",
   "execution_count": 74,
   "metadata": {},
   "outputs": [],
   "source": [
    "import matplotlib.pyplot as plt\n",
    "\n",
    "def f(x):\n",
    "    return 1/5*np.exp(np.sin(3*x))"
   ]
  },
  {
   "cell_type": "code",
   "execution_count": 75,
   "metadata": {},
   "outputs": [
    {
     "data": {
      "image/png": "[encoded data removed]",
      "text/plain": [
       "<Figure size 640x480 with 1 Axes>"
      ]
     },
     "metadata": {},
     "output_type": "display_data"
    }
   ],
   "source": [
    "h = 0.001\n",
    "x = np.arange(-1,1+h,h)\n",
    "y = f(x)\n",
    "plt.plot(x,y)\n",
    "plt.show()"
   ]
  },
  {
   "cell_type": "markdown",
   "metadata": {},
   "source": [
    "Durch die Wahl eines sehr kleinen Wertes für den Abstand zweier x-Werte erscheint der Graph als geschwungene Linie. Was sich dahinter aber eigentlich verbirgt zeigt eine deutlich größere Wahl von $h$:"
   ]
  },
  {
   "cell_type": "code",
   "execution_count": 76,
   "metadata": {},
   "outputs": [
    {
     "data": {
      "image/png": "[encoded data removed]",
      "text/plain": [
       "<Figure size 640x480 with 1 Axes>"
      ]
     },
     "metadata": {},
     "output_type": "display_data"
    }
   ],
   "source": [
    "h = 0.5\n",
    "x = np.arange(-1,1+h,h)\n",
    "y = f(x)\n",
    "plt.plot(x,y)\n",
    "plt.show()"
   ]
  },
  {
   "cell_type": "markdown",
   "metadata": {},
   "source": [
    "**Aufgabe:** Nutzen Sie den `plot` Befehl, um ein Quadrat zu zeichnen."
   ]
  },
  {
   "cell_type": "code",
   "execution_count": 100,
   "metadata": {},
   "outputs": [
    {
     "data": {
      "image/png": "[encoded data removed]",
      "text/plain": [
       "<Figure size 640x480 with 1 Axes>"
      ]
     },
     "metadata": {},
     "output_type": "display_data"
    }
   ],
   "source": [
    "x = np.array([0,1,1,0,0])\n",
    "y = np.array([0,0,1,1,0])\n",
    "plt.plot(x,y)\n",
    "plt.xlim([-0.3,1.3])\n",
    "plt.ylim([-0.1,1.1])\n",
    "plt.show()"
   ]
  },
  {
   "cell_type": "markdown",
   "metadata": {},
   "source": [
    "### 4.2 Verschönerungen\n",
    "\n",
    "Zusätzlich gibt es zahlreiche Möglichkeiten, die Darstellung eines Graphen zu beeinfluss/zu verschönern. Die einfachsten Darstellungsanpassungen können mit geeigneten Spezifizierern im dritten Argument des `plot` Befehls erfolgen.\n",
    "Im Laufe des Semesters werden Sie immer weitere Möglichkeiten kennen lernen."
   ]
  },
  {
   "cell_type": "code",
   "execution_count": 90,
   "metadata": {},
   "outputs": [
    {
     "data": {
      "image/png": "[encoded data removed]",
      "text/plain": [
       "<Figure size 640x480 with 1 Axes>"
      ]
     },
     "metadata": {},
     "output_type": "display_data"
    }
   ],
   "source": [
    "h = 0.001\n",
    "x = np.arange(-1,1+h,h)\n",
    "y = f(x)\n",
    "plt.plot(x,y,'g--') # g = green, -- = gestrichelt\n",
    "\n",
    "h = 0.25\n",
    "x = np.arange(-1,1+h,h)\n",
    "y = f(x)\n",
    "plt.plot(x,y,'ro' ) # r = red, o = Kreise\n",
    "\n",
    "plt.show()"
   ]
  },
  {
   "cell_type": "code",
   "execution_count": null,
   "metadata": {},
   "outputs": [],
   "source": []
  }
 ],
 "metadata": {
  "kernelspec": {
   "display_name": "Python 3 (ipykernel)",
   "language": "python",
   "name": "python3"
  },
  "language_info": {
   "codemirror_mode": {
    "name": "ipython",
    "version": 3
   },
   "file_extension": ".py",
   "mimetype": "text/x-python",
   "name": "python",
   "nbconvert_exporter": "python",
   "pygments_lexer": "ipython3",
   "version": "3.9.13"
  }
 },
 "nbformat": 4,
 "nbformat_minor": 2
}
