{
 "cells": [
  {
   "cell_type": "markdown",
   "metadata": {},
   "source": [
    "# Tutorial 2\n",
    "\n",
    "## Modulation and Matched-Filter Receiver"
   ]
  },
  {
   "cell_type": "code",
   "execution_count": null,
   "metadata": {},
   "outputs": [],
   "source": [
    "import numpy as np  # make the numpy package available and use 'np' as alias\n",
    "import matplotlib.pyplot as plt  # plotting library\n",
    "%matplotlib inline\n",
    "YOUR_CODE_HERE = None  # placeholder"
   ]
  },
  {
   "cell_type": "markdown",
   "metadata": {},
   "source": [
    "### Exercise 1\n",
    "Implement a BPSK modulator"
   ]
  },
  {
   "cell_type": "markdown",
   "metadata": {},
   "source": [
    "#### a) Generate random bits\n",
    "Generate 42 random bits with equal probability for a 0 or a 1.  Use `numpy.random.default_rng().choice` for this!"
   ]
  },
  {
   "cell_type": "code",
   "execution_count": null,
   "metadata": {},
   "outputs": [],
   "source": [
    "nbits = 42\n",
    "rng = np.random.default_rng()\n",
    "bits = YOUR_CODE_HERE\n",
    "\n",
    "#print(bits) # print bits\n",
    "#print(np.sum(bits)/nbits) # print fraction of bits that are 1"
   ]
  },
  {
   "cell_type": "code",
   "execution_count": null,
   "metadata": {},
   "outputs": [],
   "source": [
    "plt.stem(bits)\n",
    "plt.title(\"Bits\")\n",
    "plt.xlabel(\"Index\")\n",
    "plt.margins(y=0.1, x=0);"
   ]
  },
  {
   "cell_type": "markdown",
   "metadata": {},
   "source": [
    "#### b) Convert bits to BPSK symbols\n",
    "Assign the bits in the following way: logical 0 -> -1, logical 1 -> 1"
   ]
  },
  {
   "cell_type": "code",
   "execution_count": null,
   "metadata": {},
   "outputs": [],
   "source": [
    "symbols = YOUR_CODE_HERE"
   ]
  },
  {
   "cell_type": "code",
   "execution_count": null,
   "metadata": {},
   "outputs": [],
   "source": [
    "plt.stem(symbols)\n",
    "plt.title(\"BPSK Symbols\")\n",
    "plt.xlabel(\"Index\")\n",
    "plt.margins(y=0.1, x=0);"
   ]
  },
  {
   "cell_type": "markdown",
   "metadata": {},
   "source": [
    "#### c) Pulse shaping\n",
    "Use the given RRC-filter for the pulse shaping. Don't forget that `g` is upsampled by sps compared to your bitstream. "
   ]
  },
  {
   "cell_type": "code",
   "execution_count": null,
   "metadata": {},
   "outputs": [],
   "source": [
    "import rrc  # requires rrc.py to be accessible (e.g., in the same directory)\n",
    "sps = 4  # samples per symbol\n",
    "K = 8  # length of the impulse response in symbols\n",
    "rho = 0.5  # RRC rolloff factor\n",
    "g = rrc.get_rrc_ir(K * sps + 1, sps, 1, rho)  # RRC impulse response\n",
    "\n",
    "plt.plot(g)\n",
    "plt.title(\"RRC impulse response\")\n",
    "plt.xlabel(\"Index\")\n",
    "plt.xlim(0, K * sps + 1)\n",
    "\n",
    "plt.figure()\n",
    "nfft = 1024\n",
    "f = np.linspace(-0.5, 0.5, nfft)\n",
    "G = np.abs(np.fft.fftshift(np.fft.fft(np.concatenate((g, np.zeros(nfft-g.size))))))**2\n",
    "plt.semilogy(f, G)\n",
    "plt.title(\"RRC spectrum\")\n",
    "plt.xlim(-0.5, 0.5);"
   ]
  },
  {
   "cell_type": "code",
   "execution_count": null,
   "metadata": {},
   "outputs": [],
   "source": [
    "s_BB = YOUR_CODE_HERE"
   ]
  },
  {
   "cell_type": "code",
   "execution_count": null,
   "metadata": {},
   "outputs": [],
   "source": [
    "plt.plot(s_BB)\n",
    "plt.title(\"Baseband signal\")\n",
    "plt.xlabel(\"Index\")\n",
    "\n",
    "plt.figure()\n",
    "f = np.linspace(-0.5, 0.5, s_BB.size)\n",
    "S_BB = np.abs(np.fft.fftshift(np.fft.fft(s_BB)))**2/s_BB.size\n",
    "plt.semilogy(f, S_BB)\n",
    "plt.xlim(-0.5, 0.5)\n",
    "plt.xlabel(\"f/B\")\n",
    "plt.title(\"Baseband spectrum\");"
   ]
  },
  {
   "cell_type": "markdown",
   "metadata": {},
   "source": [
    "#### d) Theoretical questions\n",
    "1. How does your choice of `K` (length of the impulse response in symbols) affect the spectrum and why?\n",
    "2. Which pros and cons does a large `K` offer?\n",
    "3. What effect does the choice of `sps` (samples per symbol) have on the spectrum and why?"
   ]
  },
  {
   "cell_type": "markdown",
   "metadata": {},
   "source": [
    "### Exercise 2\n",
    "Implement a Matched-filter receiver for the BPSK modulator you created in exercise 1!"
   ]
  },
  {
   "cell_type": "markdown",
   "metadata": {},
   "source": [
    "#### a) Determine the Matched-filter for the modulator from question 1! "
   ]
  },
  {
   "cell_type": "code",
   "execution_count": null,
   "metadata": {},
   "outputs": [],
   "source": [
    "g_MF = YOUR_CODE_HERE"
   ]
  },
  {
   "cell_type": "markdown",
   "metadata": {},
   "source": [
    "#### b) Apply the matched filter to the Baseband signal `s_BB`! "
   ]
  },
  {
   "cell_type": "code",
   "execution_count": null,
   "metadata": {},
   "outputs": [],
   "source": [
    "y = YOUR_CODE_HERE"
   ]
  },
  {
   "cell_type": "code",
   "execution_count": null,
   "metadata": {},
   "outputs": [],
   "source": [
    "plt.plot(y)\n",
    "plt.title(\"Baseband signal after Matched Filtering\")\n",
    "plt.xlabel(\"Index\")\n",
    "plt.xlim(0, y.size)\n",
    "\n",
    "plt.figure()\n",
    "f = np.linspace(-0.5, 0.5, y.size)\n",
    "Y = np.abs(np.fft.fftshift(np.fft.fft(y)))**2/y.size\n",
    "plt.semilogy(f, Y)\n",
    "plt.xlim(-0.5, 0.5)\n",
    "plt.title(\"Baseband spectrum after Matched Filtering\");"
   ]
  },
  {
   "cell_type": "markdown",
   "metadata": {},
   "source": [
    "#### c) In order to reconstruct the BPSK symbols, sample `y`.  *Note*:  Look at the initial delay"
   ]
  },
  {
   "cell_type": "code",
   "execution_count": null,
   "metadata": {},
   "outputs": [],
   "source": [
    "recv_symbols = YOUR_CODE_HERE"
   ]
  },
  {
   "cell_type": "code",
   "execution_count": null,
   "metadata": {},
   "outputs": [],
   "source": [
    "plt.stem(recv_symbols)\n",
    "plt.title(\"Received BPSK symbols\")\n",
    "plt.margins(y=0.1, x=0)\n",
    "plt.xlabel(\"Index\");"
   ]
  },
  {
   "cell_type": "markdown",
   "metadata": {},
   "source": [
    "#### d) Reconstruct the transmitted bitstream!"
   ]
  },
  {
   "cell_type": "code",
   "execution_count": null,
   "metadata": {},
   "outputs": [],
   "source": [
    "recv_bits = YOUR_CODE_HERE"
   ]
  },
  {
   "cell_type": "code",
   "execution_count": null,
   "metadata": {},
   "outputs": [],
   "source": [
    "if (recv_bits == bits).all():\n",
    "    print(\"Transmission successful!\")\n",
    "else:\n",
    "    print(\"Error(s) occurred!\")"
   ]
  },
  {
   "cell_type": "markdown",
   "metadata": {},
   "source": [
    "### Theoretical questions\n",
    "1. What causes the delay in the filtered baseband signal?\n",
    "2. What effect would a receive filter that is not \"matched\" have?"
   ]
  },
  {
   "cell_type": "code",
   "execution_count": null,
   "metadata": {},
   "outputs": [],
   "source": []
  }
 ],
 "metadata": {
  "anaconda-cloud": {},
  "kernelspec": {
   "display_name": "Python 3 (ipykernel)",
   "language": "python",
   "name": "python3"
  },
  "language_info": {
   "codemirror_mode": {
    "name": "ipython",
    "version": 3
   },
   "file_extension": ".py",
   "mimetype": "text/x-python",
   "name": "python",
   "nbconvert_exporter": "python",
   "pygments_lexer": "ipython3",
   "version": "3.10.4"
  }
 },
 "nbformat": 4,
 "nbformat_minor": 1
}
