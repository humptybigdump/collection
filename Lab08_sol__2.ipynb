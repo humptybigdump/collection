{
 "cells": [
  {
   "cell_type": "markdown",
   "id": "0e42763e",
   "metadata": {},
   "source": [
    "# Stochastic Simulation\n",
    "\n",
    "*Winter Semester 2023/24*\n",
    "\n",
    "12.01.2024\n",
    "\n",
    "Prof. Sebastian Krumscheid<br>\n",
    "Asstistant: Stjepan Salatovic"
   ]
  },
  {
   "cell_type": "markdown",
   "id": "5c5187ec",
   "metadata": {},
   "source": [
    "<h3 align=\"center\">\n",
    "Exercise sheet 08\n",
    "</h3>\n",
    "\n",
    "---\n",
    "\n",
    "<h1 align=\"center\">\n",
    "Control Variates and Stratification\n",
    "</h1>"
   ]
  },
  {
   "cell_type": "code",
   "execution_count": 1,
   "id": "f636d6f9",
   "metadata": {},
   "outputs": [],
   "source": [
    "import matplotlib.pyplot as plt\n",
    "import numpy as np\n",
    "\n",
    "from ipywidgets import interact\n",
    "from scipy.stats import norm\n",
    "from tqdm.notebook import tqdm\n",
    "from typing import Tuple, List"
   ]
  },
  {
   "cell_type": "code",
   "execution_count": 2,
   "id": "a82b0a91-6d0f-436d-bc1e-bfc75cc60fd5",
   "metadata": {},
   "outputs": [],
   "source": [
    "plt.rc('axes', labelsize=14)     # fontsize of the x and y labels\n",
    "plt.rc('xtick', labelsize=12)    # fontsize of the tick labels\n",
    "plt.rc('ytick', labelsize=12)    # fontsize of the tick labels\n",
    "plt.rc('legend', fontsize=14)    # legend fontsize"
   ]
  },
  {
   "cell_type": "markdown",
   "id": "4d0d84ff-b2fb-4e5d-adb1-9fca7ff97936",
   "metadata": {},
   "source": [
    "## Exercise 1\n",
    "\n",
    "Suppose we wish to construct a Brownian motion path\n",
    "$\\{B_t\\colon B_0=0,\\, 0\\le t\\le T\\}$ that finishes at $T= 1$ in $S$\n",
    "distinct strata. To stratify standard Brownian motion on its endpoint,\n",
    "one first generates the $S$ values at $T=1$ and then samples the\n",
    "Brownian paths on the interval $[0,T]$ conditional upon these\n",
    "stratified terminal values."
   ]
  },
  {
   "cell_type": "markdown",
   "id": "41fbb360-4b49-4967-b511-74a6172e4100",
   "metadata": {},
   "source": [
    "1. Implement an algorithm that generates\n",
    "\tstratified standard Brownian motion using $S$ equiprobable\n",
    "\tstrata. Specifically, for each stratum $\\Omega_j$, $j=1,\\dots,S$,\n",
    "\tyour algorithm should produce $N_j$ stratified Brownian samples\n",
    "\tpaths $B_{t_m}^{(i,j)}$, $i=1,\\dots,N_j$, evaluated in the discrete\n",
    "\ttimes $t_m = m/M$ with $m=1,\\dots, M\\in\\mathbb{N}$. Test your\n",
    "\timplementation for $S=12$, $M=1000$, and $N_j=2$ by plotting the\n",
    "\tstratified samples paths.\n",
    "\n",
    "    **Hint:** Brownian bridge sampling."
   ]
  },
  {
   "cell_type": "code",
   "execution_count": 3,
   "id": "01b72e91-f167-43fe-9fd3-b9a1382c6984",
   "metadata": {},
   "outputs": [],
   "source": [
    "def brownian_bridges(terminal_values: np.array, M: int) -> np.array:\n",
    "    \"\"\"\n",
    "    Generates Brownian bridges using `M` sample points that\n",
    "    start in 0 and end in given `terminal_values`.\n",
    "    \"\"\"\n",
    "    t = np.linspace(0, 1, M)\n",
    "    dt = t[1] - t[0]\n",
    "\n",
    "    N = len(terminal_values)    \n",
    "    W = np.zeros((N, M))\n",
    "    W[:, 1:] = np.sqrt(dt) * np.random.randn(N, M - 1).cumsum(axis=1)\n",
    "    \n",
    "    B = W + t * (terminal_values - W[:, -1]).reshape(-1, 1)\n",
    "\n",
    "    return B"
   ]
  },
  {
   "cell_type": "code",
   "execution_count": 4,
   "id": "1b1652fa-1700-49f7-969b-133675ba9c2b",
   "metadata": {},
   "outputs": [],
   "source": [
    "def stratified_brownian_motions(S: int, N: np.array, M: int, T: float=1) -> np.array:\n",
    "    \"\"\"\n",
    "    Generates stratified Brownian motions with `S` strata and `M` sample points.\n",
    "    The array of sample sizes in each stratum is given by `N`.\n",
    "    \"\"\"\n",
    "    U = []\n",
    "    for j in range(S):\n",
    "        low = j / S\n",
    "        high = (j + 1) / S\n",
    "        U.append(np.random.uniform(low, high, size=N[j]))\n",
    "    U = np.hstack(U)\n",
    "    \n",
    "    terminal_values = norm.ppf(U, loc=0, scale=np.sqrt(T))\n",
    "    paths = brownian_bridges(terminal_values, M)\n",
    "\n",
    "    return paths"
   ]
  },
  {
   "cell_type": "code",
   "execution_count": 5,
   "id": "1b1407fe-8c90-4ee5-affb-86dad001f248",
   "metadata": {},
   "outputs": [
    {
     "data": {
      "application/vnd.jupyter.widget-view+json": {
       "model_id": "3e5aad7c20374422a0f04844ebfe595c",
       "version_major": 2,
       "version_minor": 0
      },
      "text/plain": [
       "interactive(children=(Dropdown(description='S', options=(3, 4, 5, 6, 7, 8, 9, 10, 11, 12), value=3), Dropdown(…"
      ]
     },
     "metadata": {},
     "output_type": "display_data"
    }
   ],
   "source": [
    "def plot_strat_brownian_motions(S: int, N: int):\n",
    "    \"\"\"Interaction helper.\"\"\"\n",
    "    N = N * np.ones(S).astype(int)\n",
    "    M = 1000\n",
    "    T = 1\n",
    "    x = stratified_brownian_motions(S, N, M, T)\n",
    "\n",
    "    t = np.linspace(0, T, M)\n",
    "\n",
    "    s = 0\n",
    "    e = 0\n",
    "    for j, Nj in enumerate(N):\n",
    "        e += Nj\n",
    "        plt.plot(t, x[s:e].T, \"C\" + str(j))\n",
    "        s = e\n",
    "\n",
    "    plt.xlabel(\"$t$\")\n",
    "    plt.ylabel(\"$B_t^{(i, j)}$\")\n",
    "    plt.title(\"Stratified Brownian motions\")\n",
    "\n",
    "interact(plot_strat_brownian_motions, S=np.arange(3, 13), N=np.arange(2, 11));"
   ]
  },
  {
   "cell_type": "markdown",
   "id": "3fa0bd5f-8298-4d42-8353-dc16e6ebdfb4",
   "metadata": {},
   "source": [
    "2. Consider the geometric Brownian motion process $X_t$ that solves\n",
    "\t\\begin{equation*}\n",
    "\tdX= rX\\,dt + \\sigma X\\,dW\\;,\\quad X(0) = X_0\\;,\n",
    "\t\\end{equation*}\n",
    "\tand which is given by $X_t = X_0e^{Y_t}$, where\n",
    "\t$Y_t = (r-\\sigma^2/2)t + \\sigma W_t$ with $W$ being a standard\n",
    "\tWiener process. For $M\\in\\mathbb{N}$, let\n",
    "\t\\begin{equation*}\n",
    "\t\\Psi\\bigl(X_{t_0},\\dots , X_{t_M}\\bigr) = \\max_{0\\le m\\le M}X_{t_m} - \\min_{0\\le m\\le M}X_{t_m}\\;,\n",
    "\t\\end{equation*}\n",
    "\twhere $t_m=m/M$ as before.  We want to estimate\n",
    "\t$\\mu = \\mathbb{E}\\bigl[\\Psi\\bigl(X_{t_0},\\dots , X_{t_M}\\bigr)\\bigr]$ for\n",
    "\t$X_0=6$, $r=0.05$, $\\sigma = 0.3$, and $M=100$. Use your procedure\n",
    "\tdeveloped in point 1 to estimate $\\mu$ using\n",
    "\tstratified sampling with $S=10$ strata. Moreover, compute the total\n",
    "\tnumber of samples $N$ such that the asymptotic $99\\%$ confidence\n",
    "\tinterval is smaller than $2\\, tol$ for $tol = 10^{-2},\n",
    "\t10^{-3}$. Investigate both proportional and optimal sampling\n",
    "\tallocation in each strata and compare it to a crude Monte Carlo approach.\n",
    "\t\n",
    "\t**Remark:** The function $\\Psi$ is related to the value of a\n",
    "\tlook-back option whose payoff is equivalent to buying at the minimum\n",
    "\tand selling at the maximum price on the time interval $[0, T=1]$. As\n",
    "\tgiven here, $\\Psi$ omits the (constant) discount factor $e^{-rT}$\n",
    "\tthat compensates for waiting until time $T$ to collect the payoff.\n",
    "\n",
    "    **Remark:** At first glance, it may seem unusual that the `crude_Monte_carlo` and `stratification` function headers include an optional sample size `N` as an argument. This is because these functions are designed to automatically determine the sample size. However, the inclusion of `N` provides flexibility, allowing for a specific sample size to be set if needed. This will be particularly useful in the third part of the exercise."
   ]
  },
  {
   "cell_type": "code",
   "execution_count": 6,
   "id": "ce37eed3-c14c-412d-a7e7-040d85710fa8",
   "metadata": {},
   "outputs": [],
   "source": [
    "X0 = 6\n",
    "r = 0.05\n",
    "sigma = 0.3\n",
    "S = 10\n",
    "M = 100\n",
    "T = 1\n",
    "t = np.linspace(0, T, M)"
   ]
  },
  {
   "cell_type": "code",
   "execution_count": 7,
   "id": "bdce4add-24f7-45a8-8e2f-85b05c2ecfa4",
   "metadata": {},
   "outputs": [],
   "source": [
    "alpha = 0.01\n",
    "cval = norm.ppf(1 - alpha / 2)"
   ]
  },
  {
   "cell_type": "code",
   "execution_count": 8,
   "id": "745af0f2-20dc-45fc-a28f-a0f4dc249cbc",
   "metadata": {},
   "outputs": [],
   "source": [
    "N_pilot = 100"
   ]
  },
  {
   "cell_type": "code",
   "execution_count": 9,
   "id": "1fbba3b1-6d46-4e01-ae0f-846b71044be7",
   "metadata": {},
   "outputs": [],
   "source": [
    "gBm = lambda W: X0 * np.exp((r - sigma ** 2 / 2) * t + sigma * W)"
   ]
  },
  {
   "cell_type": "code",
   "execution_count": 10,
   "id": "581875ab-7507-49e9-afb8-8b168b34528b",
   "metadata": {},
   "outputs": [],
   "source": [
    "def crude_Monte_Carlo(tol: float, N: float=None) -> Tuple[float, float, int]:\n",
    "    \"\"\"\n",
    "    Performs a crude Monte Carlo estimation based on a specified tolerance level, `tol`.\n",
    "    Returns the estimated mean, variance, as well as the sample size used.\n",
    "    \"\"\"\n",
    "    def generate_samples(n: int) -> np.array:\n",
    "        dt = t[1] - t[0]\n",
    "        w = np.zeros((n, M))\n",
    "        w[:, 1:] = np.sqrt(dt) * np.random.randn(n, M - 1).cumsum(axis=1)\n",
    "        x = gBm(w)\n",
    "        psi = x.max(axis=1) - x.min(axis=1)\n",
    "        return psi\n",
    "\n",
    "    # Pilot run to estimate variance\n",
    "    psi_pilot = generate_samples(N_pilot)\n",
    "    var_pilot = np.var(psi_pilot, ddof=1)\n",
    "\n",
    "    # Calculate required sample size based on pilot variance\n",
    "    if N is None:\n",
    "        N = int(np.ceil((cval * np.sqrt(var_pilot) / tol) ** 2))\n",
    "\n",
    "    # Main run with calculated sample size\n",
    "    psi_main = generate_samples(N)\n",
    "\n",
    "    mc_mean = np.mean(psi_main)\n",
    "    mc_var = np.var(psi_main, ddof=1)\n",
    "\n",
    "    return mc_mean, mc_var, N"
   ]
  },
  {
   "cell_type": "code",
   "execution_count": 11,
   "id": "a98b13f4-ca16-4425-b83b-3d3d4fa85385",
   "metadata": {},
   "outputs": [],
   "source": [
    "def pilot_run(S: int, N_pilot: int) -> np.array:\n",
    "    \"\"\"\n",
    "    Performs a pilot run for a stratified Monte Carlo simulation with `S` strata and `N_pilot` samples per stratum.\n",
    "    Returns the variance of each stratum.\n",
    "    \"\"\"\n",
    "    Nj = N_pilot * np.ones(S).astype(int)\n",
    "\n",
    "    w = stratified_brownian_motions(S, Nj, M, T)\n",
    "    x = gBm(w)\n",
    "    psi = x.max(axis=1) - x.min(axis=1)\n",
    "    \n",
    "    strata = np.split(psi, Nj.cumsum()[:-1])\n",
    "    vars = np.array([np.var(stratum, ddof=1) for stratum in strata])\n",
    "    \n",
    "    return vars"
   ]
  },
  {
   "cell_type": "code",
   "execution_count": 12,
   "id": "02343532-e611-4c4a-9cd8-c386093644b9",
   "metadata": {},
   "outputs": [],
   "source": [
    "def stratification(S: int, M: int, tol: float, alloc: str, N: int=None) -> Tuple[float, float, np.array]:\n",
    "    \"\"\"\n",
    "    Performs a stratified Monte Carlo simulation with `S` strata, based on a specified tolerance level, `tol`.\n",
    "    The allocation of samples to strata is determined by the `alloc` parameter, which can be either \"proportional\" or \"optimal\".\n",
    "    Returns the mean, variance, and number of samples in each stratum.\n",
    "    \"\"\"\n",
    "    vars = pilot_run(S, N_pilot)\n",
    "    p = 1 / S\n",
    "\n",
    "    if alloc == \"proportional\":\n",
    "        var = p * vars.sum()\n",
    "        if N is None:\n",
    "            N = int(np.ceil((cval * np.sqrt(var) / tol) ** 2))\n",
    "        Nj = (p * N * np.ones(S)).astype(int)\n",
    "\n",
    "    elif alloc == \"optimal\":\n",
    "        var = (p * np.sqrt(vars).sum()) ** 2\n",
    "        if N is None:\n",
    "            N = int(np.ceil((cval * np.sqrt(var) / tol) ** 2))\n",
    "        Nj = np.ceil(N * vars / vars.sum()).astype(int)\n",
    "    \n",
    "    w = stratified_brownian_motions(S, Nj, M, T)\n",
    "    x = gBm(w)\n",
    "    psi = x.max(axis=1) - x.min(axis=1)\n",
    "    \n",
    "    strata = np.split(psi, Nj.cumsum()[:-1])\n",
    "    vars = np.array([np.var(stratum, ddof=1) for stratum in strata])\n",
    "    means = np.array([np.mean(stratum) for stratum in strata])\n",
    "\n",
    "    mean = p * means.sum()\n",
    "    var = p * vars.sum() if alloc == \"proportional\" else (p * np.sqrt(vars).sum()) ** 2\n",
    "\n",
    "    return mean, var, Nj    "
   ]
  },
  {
   "cell_type": "markdown",
   "id": "965238d8-6713-44f9-b2cc-dc1c97de8fdc",
   "metadata": {},
   "source": [
    "Since the geometric Brownian motion is given as an explicit\n",
    "function of Brownian motion, realizations of stratified geometric\n",
    "Brownian motion can be easily generated using the procedure of point 1.\n",
    "In fact, let $B_{t_m}^{(i,j)}$ denote the $i$-th realization,\n",
    "$i=1,\\dots,N_j$, of the Brownian motion stratified to the stratum\n",
    "$\\Omega_j$, $j=1,\\dots,S$, evaluated in the discrete times\n",
    "$t_m = m/M$. Then the discrete time realizations of the stratified\n",
    "geometric Brownian motion are simply obtained by\n",
    "\\begin{equation*}\n",
    "X_{t_m}^{(i,j)} = X_0\\exp \\biggl[\\biggl(r-\\frac{\\sigma^2}{2}\\biggr)t_m + \\sigma B_{t_m}^{(i,j)}\\biggr]\\;.\n",
    "\\end{equation*}\n",
    "Compared to Monte Carlo, stratification yields a significant\n",
    "variance reduction. For example, for $tol=10^{-2}$, the\n",
    "stratification estimator with optimal sample allocation requires\n",
    "$N_{\\text{str}} \\approx 30000$ for an $99\\%$ confidence interval, while\n",
    "the Monte Carlo method needs $N_{\\text{mc}} \\approx 90000$. The mean and the variance can be seen in the output of the cell down below. "
   ]
  },
  {
   "cell_type": "code",
   "execution_count": 13,
   "id": "c5731466-5298-412e-9162-6694b31fe1d4",
   "metadata": {},
   "outputs": [
    {
     "name": "stdout",
     "output_type": "stream",
     "text": [
      "S = 10, tol = 1.000e-02, alpha = 0.01\n",
      "----------------------------------------\n",
      "Crude Monte Carlo       | est = 2.755, var = 1.330, N = 124546\n",
      "Proportional allocation | est = 2.754, var = 0.519, N = 33300\n",
      "Optimal allocation      | est = 2.761, var = 0.446, N = 31131\n"
     ]
    }
   ],
   "source": [
    "tol = 0.01\n",
    "\n",
    "mean_mc, var_mc, N_mc = crude_Monte_Carlo(tol)\n",
    "mean_prop, var_prop, Nj_prop = stratification(S, M, tol, \"proportional\")\n",
    "mean_opt, var_opt, Nj_opt = stratification(S, M, tol, \"optimal\")\n",
    "\n",
    "print(f\"S = {S}, tol = {tol:.3e}, alpha = {alpha}\")\n",
    "print(\"-\" * 40)\n",
    "print(f\"Crude Monte Carlo {'':<6}| est = {mean_mc:.3f}, var = {var_mc:.3f}, N = {N_mc}\")\n",
    "print(f\"Proportional allocation {'':<0}| est = {mean_prop:.3f}, var = {var_prop:.3f}, N = {Nj_prop.sum()}\")\n",
    "print(f\"Optimal allocation {'':<5}| est = {mean_opt:.3f}, var = {var_opt:.3f}, N = {Nj_opt.sum()}\")"
   ]
  },
  {
   "cell_type": "markdown",
   "id": "5da30480-9962-4570-8b9f-d2082e3b7d64",
   "metadata": {},
   "source": [
    "3. Repeat the previous point, but now consider only $N_j=2$ samples\n",
    "\tper stratum $\\Omega_j$, $j=1,\\dots, S$, and investigate the\n",
    "\testimator's variance decay as a function of $S$."
   ]
  },
  {
   "cell_type": "markdown",
   "id": "022bca82-04ce-4e5c-accc-616d00f78ff4",
   "metadata": {},
   "source": [
    "If we keep $N_j=2$ fixed and increase $S$, effectively, we are increasing the sample size $N=2S$. The following Figure shows the variance of the estimator as a function of $S$. We see that it dereases as $S^{-1}\\sim N^{-1},$ as expected for a Monte Carlo estimator."
   ]
  },
  {
   "cell_type": "code",
   "execution_count": 14,
   "id": "bfa96854-5d9a-40e9-aaeb-670ce0f3d3c1",
   "metadata": {},
   "outputs": [
    {
     "data": {
      "application/vnd.jupyter.widget-view+json": {
       "model_id": "95426a2ef8cc4c318500dd332337b960",
       "version_major": 2,
       "version_minor": 0
      },
      "text/plain": [
       "0it [00:00, ?it/s]"
      ]
     },
     "metadata": {},
     "output_type": "display_data"
    }
   ],
   "source": [
    "S_arr = np.logspace(1, 4, 10).astype(int)\n",
    "\n",
    "vars_mc = np.zeros(len(S_arr))\n",
    "vars_strat = np.zeros(len(S_arr))\n",
    "for i, S in tqdm(enumerate(S_arr)):\n",
    "    N = 2 * S\n",
    "\n",
    "    _, var_mc, _ = crude_Monte_Carlo(tol, N=N)\n",
    "    _, var_strat, _ = stratification(S, M, tol, \"proportional\", N=N)\n",
    "\n",
    "    vars_mc[i] = var_mc / N\n",
    "    vars_strat[i] = var_strat / N"
   ]
  },
  {
   "cell_type": "code",
   "execution_count": 15,
   "id": "f101de26-e0c3-4ae8-9609-02baab02e3a5",
   "metadata": {},
   "outputs": [
    {
     "data": {
      "image/png": "[encoded data removed]",
      "text/plain": [
       "<Figure size 640x480 with 1 Axes>"
      ]
     },
     "metadata": {},
     "output_type": "display_data"
    }
   ],
   "source": [
    "plt.loglog(2 * S_arr, vars_mc, \"o-\", label=\"Crude Monte Carlo\")\n",
    "plt.loglog(2 * S_arr, vars_strat, \"o-\", label=\"Stratification\")\n",
    "plt.loglog(2 * S_arr, (2 * S_arr) ** -1.0, \"k--\", label=\"$N^{-1}$\")\n",
    "plt.grid()\n",
    "plt.xlabel(\"$N = 2S$\")\n",
    "plt.ylabel(\"Variance\")\n",
    "plt.legend();"
   ]
  },
  {
   "cell_type": "markdown",
   "id": "6148b94d-8a5a-4fbf-9f66-2505abbd4561",
   "metadata": {},
   "source": [
    "## Exercise 2\n",
    "\n",
    "Consider the problem of estimating $\\mu = \\mathbb{E}(Z)$ for $Z=\\psi(X)$ and\n",
    "$X\\sim U(0,1)$."
   ]
  },
  {
   "cell_type": "markdown",
   "id": "7c9d0a41-ba28-4880-8dac-e9cb9a9f90b0",
   "metadata": {},
   "source": [
    "1. Show that the _randomized midpoint quadrature_ estimator\n",
    "\t\\begin{equation*}\n",
    "\t\\hat\\mu_S := \\frac{1}{S}\\sum_{j=1}^{S}\\psi\\biggl(\\frac{j-1+U_j}{S}\\biggr)\\;,\n",
    "\t\\end{equation*}\n",
    "\twith $U_1,\\dots,U_S$ i.i.d. $U(0,1)$, corresponds to a stratified\n",
    "\tsampling estimator of $\\mu$.\n",
    "\n",
    "    **Hint:** Consider uniform strata.\n",
    "   \n",
    "    **Optional:** Explain why $\\hat\\mu_S $ is called _randomized\n",
    "\t\tmidpoint quadrature_ estimator."
   ]
  },
  {
   "cell_type": "markdown",
   "id": "d2d5701e-1642-487d-8224-360c3e6ec261",
   "metadata": {},
   "source": [
    "The estimator $\\hat\\mu_S$ is a stratified sampling estimator with\n",
    "  \\begin{equation*}\n",
    "    \\Omega_j = \\biggl(\\frac{j-1}{S},\\frac{j}{S}\\biggr)\\;,\\quad\\text{and}\\quad\n",
    "  N_j = 1\\;,\n",
    "\\end{equation*}\n",
    "for $j=1,\\dots, S$.\n",
    "\n",
    "The name is motivated by the close similarity to the midpoint\n",
    "quadrature. That is, consider approximating $\\int_0^1 \\psi(x)\\,dx$ by\n",
    "the midpoint rule using the partition $\\Omega_j$:\n",
    "\\begin{equation*}\n",
    "  \\int_0^1 \\psi(x)\\,dx = \\sum_{j=1}^S \\int_{\\frac{j-1}{S}}^{\\frac{j}{S}} \\psi(x)\\,dx\n",
    "  \\approx  \\sum_{j=1}^S\\psi\\biggl(\\frac{j-1}{S} + \\frac{1}{2S}\\biggr)\\;.\n",
    "\\end{equation*}\n",
    "Since $\\mathbb{E}(U_j) = 1/2$, $\\hat\\mu_S$ can be viewed as a randomized\n",
    "midpoint rule."
   ]
  },
  {
   "cell_type": "markdown",
   "id": "42e97b06-b15c-4057-9349-379072ab4727",
   "metadata": {},
   "source": [
    "2. Suppose that $\\psi\\in C^1\\bigl([0,1]\\bigr)$. Show that the\n",
    "\testimator $\\hat\\mu_S$, which is a Monte Carlo type\n",
    "\testimator, converges with _super-canonical rate_ (i.e. faster\n",
    "\tthan $S^{-1/2}$). Specifically, show that\n",
    "\t$$\\sqrt{\\mathbb{E}[{(\\mu-\\hat\\mu_S)}^2]} \\le c S^{-3/2}\\;,$$\n",
    "\tfor an appropriate positive constant $c<\\infty$ independent of\n",
    "\t$S$. Determine also the constant $c$."
   ]
  },
  {
   "cell_type": "markdown",
   "id": "d1bb6778-b685-4058-92e3-822acb21e936",
   "metadata": {},
   "source": [
    "We compute the mean squared error of the stratified sampling\n",
    "  estimator as\n",
    "  \\begin{equation*}\n",
    "    \\mathbb{E}\\bigl({(\\mu-\\hat\\mu_S)}^2\\bigr) = \\mathbb{V}\\textrm{ar}(\\hat\\mu_S) = S^{-2}\\sum_{j=1}^S\\mathbb{V}\\textrm{ar}\\biggl[\\psi\\biggl(\\frac{j-1}{S} + \\frac{U_j}{S}\\biggr)\\biggr]\\;.\n",
    "  \\end{equation*}\n",
    "  To quantify the variance term, we linearize the function $\\psi$\n",
    "  around  the point $(j-1)/S$, which yields\n",
    "  \\begin{equation*}\n",
    "    \\mathbb{V}\\textrm{ar}\\biggl[\\psi\\biggl(\\frac{j-1}{S} + \\frac{U_j}{S}\\biggr)\\biggr] =\n",
    "    \\mathbb{V}\\textrm{ar}\\biggl[\\psi\\biggl(\\frac{j-1}{S}\\biggr) + \\psi'(\\xi_j)\\frac{U_j}{S}\\biggr]\n",
    "    = S^{-2}\\mathbb{V}\\textrm{ar}\\bigl[ \\psi'(\\xi_j)U_j\\bigr]\\;,\n",
    "  \\end{equation*}\n",
    "  for some $\\xi_j$ between $(j-1)/S$ and $(j-1+U_j)/S$. From the\n",
    "  hypothesis, it follows that\n",
    "  $\\mathbb{V}\\textrm{ar}\\bigl[ \\psi'(\\xi_j)U_j\\bigr] \\le C^2/3$ for all $j=1,\\dots, S$,\n",
    "  where $C = \\sup_{x\\in [0,1]}\\lvert\\psi'(x) \\rvert$. Consequently, we\n",
    "  find that\n",
    "  \\begin{equation*}\n",
    "    \\mathbb{E}\\bigl({(\\mu-\\hat\\mu_S)}^2\\bigr) \\le \\frac{C^2}{3} S^{-3}\\;,\n",
    "  \\end{equation*}\n",
    "  as required.   "
   ]
  },
  {
   "cell_type": "markdown",
   "id": "a906154a-1976-4bbc-a37d-395c128c698e",
   "metadata": {},
   "source": [
    "## Exercise 3\n",
    "\n",
    "1. Consider the random variable $Z = 4\\, \\mathbb{I}_{\\{U_1^2 + U_2^2\\le 1\\}}$ with $U_1,U_2 \\overset{\\text{i.i.d.}}{\\sim} \\mathcal{U}(0,1)$, so that $\\mathbb{E}(Z) = \\pi$. Consider the control variates $\\tilde{Z}_{\\alpha,i} = Z - \\alpha(Y_i-\\mathbb{E}(Y_i))$ where the controls $Y_i$ are given by:\n",
    "$$\n",
    "Y_1 := \\mathbb{I}_{\\{U_1 + U_2\\le 1\\}}\\;,\\quad Y_2 := \\mathbb{I}_{\\{U_1 + U_2\\ge \\sqrt{2}\\}}\\;,\\quad\\text{and}\\quad Y_3 := (U_1+U_2-1)\\mathbb{I}_{\\{1<U_1 + U_2\\le \\sqrt{2}\\}}\\;.\n",
    "$$\n",
    "Estimate their respective expected variance reduction $\\mathbb{V}\\text{ar}(\\tilde{Z}_{\\alpha, i})/\\mathbb{V}\\text{ar}(Z)$ using $N= 10^6$ simulations.\n",
    "\n",
    "    **Hint:** The expectations for the control variates are given by\n",
    "    - $\\mathbb{E}(Y_1) = 1/2$\n",
    "    - $\\mathbb{E}(Y_2) = 3 - 2\\sqrt{2}$\n",
    "    - $\\mathbb{E}(Y_3) = -\\frac{8\\sqrt{2}}{3} +\\frac{23}{6}$"
   ]
  },
  {
   "cell_type": "markdown",
   "id": "c5fbeaed-692e-426f-8eb8-94cf5c21f9c9",
   "metadata": {},
   "source": [
    "A possible implementation of this problem is shown below. The predicted variance reductions\n",
    "are compared to the variance of the control variates $\\tilde{Z}_{\\alpha}$ computed using the optimal choice\n",
    "of control parameter $\\alpha$ for each combination of controls. The console output is shown below.\n",
    "As can be seen from the console output, the best performing case is when all three control\n",
    "variates are used."
   ]
  },
  {
   "cell_type": "code",
   "execution_count": 30,
   "id": "b7503240-0485-4f5e-af55-5ed1ddb46c73",
   "metadata": {
    "scrolled": true
   },
   "outputs": [],
   "source": [
    "def control_variate_estimator(Z: np.array, Y: np.array, mean_Y: float) -> np.array:\n",
    "    \"\"\"\n",
    "    Control variate estimation using original (`Z`) and control variate realizations (`Y`),\n",
    "    as well as the expected value for Y (`mean_Y`).\n",
    "    Returns the control variate estimator array.\n",
    "    \"\"\"\n",
    "    var_Y = np.var(Y, ddof=1)\n",
    "    cov_ZY = np.cov(Z, Y, ddof=1)[0, 1]\n",
    "    alpha = cov_ZY / var_Y\n",
    "    Z_cv = Z - alpha * (Y - mean_Y)\n",
    "    return Z_cv"
   ]
  },
  {
   "cell_type": "code",
   "execution_count": 17,
   "id": "ba993d57-52a5-4f11-a250-c2c45ae86d22",
   "metadata": {},
   "outputs": [],
   "source": [
    "N = 10 ** 6\n",
    "\n",
    "U = np.random.rand(N, 2)"
   ]
  },
  {
   "cell_type": "code",
   "execution_count": 18,
   "id": "c59bcbeb-06a9-4afa-a117-1ab468ae200d",
   "metadata": {},
   "outputs": [],
   "source": [
    "Z = 4 * (np.linalg.norm(U, axis=1) <= 1)"
   ]
  },
  {
   "cell_type": "code",
   "execution_count": 19,
   "id": "842ad746-6988-491b-9792-e24ea27ccbaf",
   "metadata": {},
   "outputs": [],
   "source": [
    "Y1 = np.sum(U, axis=1) <= 1\n",
    "Y2 = np.sum(U, axis=1) >= np.sqrt(2)\n",
    "Y3 = (np.sum(U, axis=1) - 1) * (1 < np.sum(U, axis=1)) * (np.sum(U, axis=1) <= np.sqrt(2))"
   ]
  },
  {
   "cell_type": "code",
   "execution_count": 20,
   "id": "a74b5f10-40c6-4bb6-84db-d1a1bd7243df",
   "metadata": {},
   "outputs": [],
   "source": [
    "mean_Y1 = 1 / 2\n",
    "mean_Y2 = 3 - 2 * np.sqrt(2)\n",
    "mean_Y3 = - 8 * np.sqrt(2) / 3 + 23 / 6"
   ]
  },
  {
   "cell_type": "code",
   "execution_count": 21,
   "id": "99ccc826-dc32-4301-b6f1-9c6008dcb7e4",
   "metadata": {},
   "outputs": [],
   "source": [
    "Z1 = control_variate_estimator(Z, Y1, mean_Y1)\n",
    "Z2 = control_variate_estimator(Z, Y2, mean_Y2)\n",
    "Z3 = control_variate_estimator(Z, Y3, mean_Y3)"
   ]
  },
  {
   "cell_type": "code",
   "execution_count": 22,
   "id": "7e0cf9bf-e89a-42a9-9756-859820a73084",
   "metadata": {},
   "outputs": [],
   "source": [
    "var_red_Z1 = np.var(Z1, ddof=1) / np.var(Z, ddof=1)\n",
    "var_red_Z2 = np.var(Z2, ddof=1) / np.var(Z, ddof=1)\n",
    "var_red_Z3 = np.var(Z3, ddof=1) / np.var(Z, ddof=1)"
   ]
  },
  {
   "cell_type": "code",
   "execution_count": 23,
   "id": "3537178e-15d4-476c-8d34-9e0ceb84c76a",
   "metadata": {},
   "outputs": [
    {
     "name": "stdout",
     "output_type": "stream",
     "text": [
      "Variance reduction using Z1: 0.7259\n",
      "Variance reduction using Z2: 0.2412\n",
      "Variance reduction using Z3: 0.9997\n"
     ]
    }
   ],
   "source": [
    "print(f\"Variance reduction using Z1: {var_red_Z1:.4f}\")\n",
    "print(f\"Variance reduction using Z2: {var_red_Z2:.4f}\")\n",
    "print(f\"Variance reduction using Z3: {var_red_Z3:.4f}\")"
   ]
  },
  {
   "cell_type": "markdown",
   "id": "89b433d7-3011-4d6f-9c65-886a54fd7af4",
   "metadata": {},
   "source": [
    "2. Consider again the random variable  $Z= 4\\, \\mathbb{I}_{\\{U_1^2 + U_2^2\\le 1\\}}$ as in point 1.\n",
    "We now wish to use multiple control variates and compare their variance reduction to the single control variate case.\n",
    "Consider the control variate $\\tilde{Z}_{\\boldsymbol{\\alpha}} = Z - \\boldsymbol{\\alpha} \\cdot (\\mathbf{Y} - \\mathbb{E}(\\mathbf{Y}))$ where $\\boldsymbol{\\alpha} \\in \\mathbb{R}^d$ and $\\mathbf{Y}$ is a $d$-dimensional control vector.\n",
    "Perform simulations and report the expected variance reduction $\\mathbb{V}\\text{ar}(\\tilde{Z}_{\\boldsymbol{\\alpha}}) / \\mathbb{V}\\text{ar}(Z)$ for each of the following control vectors:\n",
    "    \\begin{equation*}\n",
    "      \\boldsymbol{Y}^1 := (Y_1,Y_2)^T\\;,  \\quad \\boldsymbol{Y}^2 := (Y_1,Y_3)^T\\;,  \\quad\n",
    "      \\boldsymbol{Y}^3 := (Y_2,Y_3)^T\\;,  \\quad\\text{and}\\quad\n",
    "      \\boldsymbol{Y}^4 := (Y_1,Y_2,Y_3)^T\\;.\n",
    "    \\end{equation*}\n",
    "Here, the random variables $Y_i$, $i=1,2,3$ are as described in point 1."
   ]
  },
  {
   "cell_type": "code",
   "execution_count": 24,
   "id": "b8d014c8-291e-4b83-8649-73c08944d69b",
   "metadata": {},
   "outputs": [],
   "source": [
    "def multiple_control_variate_estimator(Z: np.array, Y: List[np.array], mean_Y: List[float]) -> np.array:\n",
    "    \"\"\"\n",
    "    Control variate estimation using original (`Z`) and control variates realizations (`Y`),\n",
    "    as well as the expected values for Y (`mean_Y`).\n",
    "    Returns the control variate estimator array.\n",
    "    \"\"\"\n",
    "    cov_YY = np.cov(Y, ddof=1)\n",
    "    cov_ZY = np.cov(Z, Y, ddof=1)[0, 1:]\n",
    "    alpha = np.linalg.solve(cov_YY, cov_ZY)\n",
    "    Z_cv = Z - np.dot(alpha, np.stack([y - mean_y for y, mean_y in zip(Y, mean_Y)]))\n",
    "    return Z_cv"
   ]
  },
  {
   "cell_type": "code",
   "execution_count": 25,
   "id": "ce6db185-9295-4f0b-9392-08eb7b1861c5",
   "metadata": {},
   "outputs": [],
   "source": [
    "Z1 = multiple_control_variate_estimator(Z, [Y1, Y2], [mean_Y1, mean_Y2])\n",
    "Z2 = multiple_control_variate_estimator(Z, [Y1, Y3], [mean_Y1, mean_Y3])\n",
    "Z3 = multiple_control_variate_estimator(Z, [Y2, Y3], [mean_Y2, mean_Y3])\n",
    "Z4 = multiple_control_variate_estimator(Z, [Y1, Y2, Y3], [mean_Y1, mean_Y2, mean_Y3])"
   ]
  },
  {
   "cell_type": "code",
   "execution_count": 26,
   "id": "16d5957c-1aba-4739-8f21-a01a01109d5d",
   "metadata": {},
   "outputs": [],
   "source": [
    "var_red_Z1 = np.var(Z1, ddof=1) / np.var(Z, ddof=1)\n",
    "var_red_Z2 = np.var(Z2, ddof=1) / np.var(Z, ddof=1)\n",
    "var_red_Z3 = np.var(Z3, ddof=1) / np.var(Z, ddof=1)\n",
    "var_red_Z4 = np.var(Z4, ddof=1) / np.var(Z, ddof=1)"
   ]
  },
  {
   "cell_type": "code",
   "execution_count": 27,
   "id": "9f555d84-ccbb-468f-b757-eb12891deafd",
   "metadata": {},
   "outputs": [
    {
     "name": "stdout",
     "output_type": "stream",
     "text": [
      "Variance reduction using Z1: 0.2210\n",
      "Variance reduction using Z2: 0.6183\n",
      "Variance reduction using Z3: 0.1805\n",
      "Variance reduction using Z4: 0.1742\n"
     ]
    }
   ],
   "source": [
    "print(f\"Variance reduction using Z1: {var_red_Z1:.4f}\")\n",
    "print(f\"Variance reduction using Z2: {var_red_Z2:.4f}\")\n",
    "print(f\"Variance reduction using Z3: {var_red_Z3:.4f}\")\n",
    "print(f\"Variance reduction using Z4: {var_red_Z4:.4f}\")"
   ]
  },
  {
   "cell_type": "markdown",
   "id": "d207dc44-6b1e-4e5f-a930-a36e78764961",
   "metadata": {},
   "source": [
    "3. Implement a one-shot control variate algorithm for the control vector with the best variance reduction."
   ]
  },
  {
   "cell_type": "code",
   "execution_count": 28,
   "id": "aac4e3f2-7139-4561-8804-fa37d2e02d8d",
   "metadata": {},
   "outputs": [],
   "source": [
    "def one_shot_best_variance(N: int, alpha: float=0.05) -> Tuple[float, float]:\n",
    "    \"\"\"\n",
    "    Performs a one-shot Monte Carlo simulation with `N` samples using\n",
    "    control variate estimation to calculate the mean and confidence interval.\n",
    "    \"\"\"\n",
    "    U = np.random.rand(N, 2)\n",
    "\n",
    "    Z = 4 * (np.linalg.norm(U, axis=1) <= 1)\n",
    "\n",
    "    Y1 = np.sum(U, axis=1) <= 1\n",
    "    Y2 = np.sum(U, axis=1) >= np.sqrt(2)\n",
    "    Y3 = (np.sum(U, axis=1) - 1) * (1 < np.sum(U, axis=1)) * (np.sum(U, axis=1) <= np.sqrt(2))\n",
    "    \n",
    "    Z_cv = multiple_control_variate_estimator(Z, [Y1, Y2, Y3], [mean_Y1, mean_Y2, mean_Y3])\n",
    "\n",
    "    mean = Z_cv.mean()\n",
    "    var = Z_cv.var(ddof=1)\n",
    "\n",
    "    cval = norm.ppf(1 - alpha / 2)\n",
    "    ci = cval * var / np.sqrt(N)\n",
    "\n",
    "    return mean, ci"
   ]
  },
  {
   "cell_type": "code",
   "execution_count": 29,
   "id": "0d325388-8f96-4835-aab8-165912791c23",
   "metadata": {},
   "outputs": [
    {
     "name": "stdout",
     "output_type": "stream",
     "text": [
      "Control variate estimation: 3.143 ± 9.485e-03\n"
     ]
    }
   ],
   "source": [
    "N = 10 ** 4\n",
    "\n",
    "mean, ci = one_shot_best_variance(N)\n",
    "print(f\"Control variate estimation: {mean:.3f} ± {ci:.3e}\")"
   ]
  },
  {
   "cell_type": "markdown",
   "id": "39983de6-a989-4d85-beed-232181a68220",
   "metadata": {},
   "source": [
    "4. **Optional:** Show that the expectations of the control variates\n",
    "$$\n",
    "Y_1 := \\mathbb{I}_{\\{U_1 + U_2\\le 1\\}}\\;,\\quad Y_2 := \\mathbb{I}_{\\{U_1 + U_2\\ge \\sqrt{2}\\}}\\;,\\quad\\text{and}\\quad Y_3 := (U_1+U_2-1)\\mathbb{I}_{\\{1<U_1 + U_2\\le \\sqrt{2}\\}}\n",
    "$$\n",
    "are indeed given by\n",
    "    - $\\mathbb{E}(Y_1) = 1/2$\n",
    "    - $\\mathbb{E}(Y_2) = 3 - 2\\sqrt{2}$\n",
    "    - $\\mathbb{E}(Y_3) = -\\frac{8\\sqrt{2}}{3} +\\frac{23}{6}$.\n",
    "\n",
    "\n",
    "   **Hint:** Keep in mind that the probability density function for the sum of two independent random variables can be determined by performing the convolution of their individual density functions."
   ]
  },
  {
   "cell_type": "markdown",
   "id": "859b6615-83d6-4e68-acdd-530f2a1db860",
   "metadata": {},
   "source": [
    "Given two independent and identically distributed random variables $U_1, U_2 \\sim \\mathcal{U}(0,1)$ with probability density functions $ f_{U_1} $ and $ f_{U_2} $ respectively, the density of $ U := U_1 + U_2 $ is obtained by the convolution of $ f_{U_1} $ and $ f_{U_2} $:\n",
    "\n",
    "$$\n",
    "f_{U}(t) = (f_{U_1} * f_{U_2})(t) = \\int_{-\\infty}^{\\infty} f_{U_1}(t - z) f_{U_2}(z) dz.\n",
    "$$\n",
    "\n",
    "Since $ U_1 $ and $ U_2 $ are uniformly distributed, the convolution simplifies to\n",
    "\n",
    "$$\n",
    "\\begin{align}\n",
    "f_{U}(t) &= \\int_{-\\infty}^{\\infty} \\mathbb{I}_{\\{0 \\leq t - z \\leq 1\\}} \\cdot \\mathbb{I}_{\\{0 \\leq z \\leq 1\\}} dz \\\\\n",
    "         &= \\int_{-\\infty}^{\\infty} \\mathbb{I}_{\\{\\max{(0, \\, t-1)} \\leq \\,z\\, \\leq \\min{(1, \\,t)}\\}} dz \\\\\n",
    "         &= \\min{(1, \\,t)} - \\max{(0, \\,t-1)}.\n",
    "\\end{align}\n",
    "$$\n",
    "\n",
    "Integrating the density function $f_{U}$ yields the cumulative distribution function (CDF)\n",
    "\n",
    "$$\n",
    "F_{U}(t) = \\begin{cases} \n",
    "\\frac{1}{2}t^2 & \\text{if } 0 \\leq t < 1, \\\\\n",
    "-\\frac{1}{2}t^2 + 2t - 1 & \\text{if } 1 \\leq t < 2.\n",
    "\\end{cases}\n",
    "$$\n",
    "\n",
    "The expected values $ \\mathbb{E}(Y_1) $ and $ \\mathbb{E}(Y_2) $ can be directly computed using the CDF \n",
    "\n",
    "$$\n",
    "\\mathbb{E}(Y_1) = F_U(1) = \\frac{1}{2},\n",
    "$$\n",
    "\n",
    "$$\n",
    "\\mathbb{E}(Y_2) = 1 - F_U(\\sqrt{2}) = 3 - 2\\sqrt{2}.\n",
    "$$\n",
    "\n",
    "For $ Y_3 $, the expected value is given by:\n",
    "\n",
    "$$\n",
    "\\begin{align}\n",
    "\\mathbb{E}(Y_3) &= \\int_{-\\infty}^\\infty (u - 1) \\cdot \\mathbb{I}_{\\{1 < u \\leq \\sqrt{2}\\}} \\cdot f_U(u) du \\\\\n",
    "                &= \\int_1^{\\sqrt{2}} (u - 1) (2 - u) du \\\\\n",
    "                &= -\\frac{8\\sqrt{2}}{3} + \\frac{23}{6}.\n",
    "\\end{align}\n",
    "$$"
   ]
  },
  {
   "cell_type": "markdown",
   "id": "c31f986b-4d71-427a-8a78-a47fdc4fd805",
   "metadata": {},
   "source": [
    "## Exercise 4 (optional, no solution)\n",
    "\n",
    "Let $Z$ be a random variable of which we would like to estimate the mean value and let $Y$ be a suitable control variate. It the mean of $Y$ is known, we can build a Control Variate Monte Carlo estimator as $$\\tag{1}\\hat\\mu_{CV} = \\frac{1}{N}\\sum_i ( Z^{(i)}-\\alpha (Y^{(i)}-E[Y]) ) ,\\text{ with } (Z^{(i)},Y^{(i)}) \\sim \\text{i.i.d $(Z,Y)$}.$$\n",
    "\n",
    "Consider now that case in which $\\mathbb{E}[Y]$ is not known and we need to estimate it via sampling."
   ]
  },
  {
   "cell_type": "markdown",
   "id": "c1208d4d-3476-4857-918d-9b6b0586797b",
   "metadata": {},
   "source": [
    "1. A first idea is to estimate $\\mathbb{E}[Y]$ by the sample average estimator $\\hat{\\mu}_Y = \\frac{1}{N} \\sum_j Y^{(j)}$ using the same sample as in Eq. (1). Show that the resulting estimator is unbiased but its variance is not smaller than (actually equal to) the one of a crude Monte Carlo estimator on $Z$."
   ]
  },
  {
   "cell_type": "markdown",
   "id": "d63d5859-785c-4f9b-9ac5-24fa87ac696a",
   "metadata": {},
   "source": [
    "2. A second idea is to estimate $\\mathbb{E}[Y]$ with an independent Monte Carlo estimator using a sample size $N_Y$.\n",
    "Let us denote by $C_Z$ the cost of generating $Z^{(i)}$ and by $C_Y$ the cost of generating $Y^{(i)}$, which we assume smaller than $C_Z$, and rename the sample size $N$ used in Eq.(1) as $N_Z$. For a given total budget $C=N_Z(C_Z+C_Y) + N_YC_Y$ for this control variate estimator, determine the optimal choice of $N_Z$ and $N_Y$ and the minimal variance achievable by the above strategy."
   ]
  },
  {
   "cell_type": "markdown",
   "id": "77ff0a7f-cee7-4bd8-a122-2e5ed7cca2b3",
   "metadata": {},
   "source": [
    "3. Compare then the variance obtained with that of a crude Monte Carlo estimator that uses a sample size $N$ the exhausts the same total budget $C=N C_Z$."
   ]
  }
 ],
 "metadata": {
  "kernelspec": {
   "display_name": "Python 3 (ipykernel)",
   "language": "python",
   "name": "python3"
  },
  "language_info": {
   "codemirror_mode": {
    "name": "ipython",
    "version": 3
   },
   "file_extension": ".py",
   "mimetype": "text/x-python",
   "name": "python",
   "nbconvert_exporter": "python",
   "pygments_lexer": "ipython3",
   "version": "3.10.12"
  },
  "widgets": {
   "application/vnd.jupyter.widget-state+json": {
    "state": {
     "16dfa38a602c4bfaae273c7bf4bfbf3b": {
      "model_module": "@jupyter-widgets/base",
      "model_module_version": "2.0.0",
      "model_name": "LayoutModel",
      "state": {}
     },
     "192373e311894cd4bd48771988202260": {
      "model_module": "@jupyter-widgets/controls",
      "model_module_version": "2.0.0",
      "model_name": "DescriptionStyleModel",
      "state": {
       "description_width": ""
      }
     },
     "199ed5de9ec14fd3a7324b8264c32d94": {
      "model_module": "@jupyter-widgets/controls",
      "model_module_version": "2.0.0",
      "model_name": "HTMLModel",
      "state": {
       "layout": "IPY_MODEL_8f8716abf3cc4be68c18c52defa7e0d1",
       "style": "IPY_MODEL_82aabcc90cf54238afcf001183d7eefe",
       "value": " 10/? [00:06&lt;00:00,  2.76it/s]"
      }
     },
     "24c96cba72f14687884ee9d7f276f321": {
      "model_module": "@jupyter-widgets/controls",
      "model_module_version": "2.0.0",
      "model_name": "ProgressStyleModel",
      "state": {
       "description_width": ""
      }
     },
     "2c90bdacdcee433c94f8f0d94b0f3a46": {
      "model_module": "@jupyter-widgets/base",
      "model_module_version": "2.0.0",
      "model_name": "LayoutModel",
      "state": {}
     },
     "2d5cc16cf97548458dfecd827ded26e2": {
      "model_module": "@jupyter-widgets/controls",
      "model_module_version": "2.0.0",
      "model_name": "HTMLModel",
      "state": {
       "layout": "IPY_MODEL_a9d933018f8f4a48905cfb91fa64ea9b",
       "style": "IPY_MODEL_c9f501dba2f742509065e9bbe10debbd"
      }
     },
     "3e5aad7c20374422a0f04844ebfe595c": {
      "model_module": "@jupyter-widgets/controls",
      "model_module_version": "2.0.0",
      "model_name": "VBoxModel",
      "state": {
       "_dom_classes": [
        "widget-interact"
       ],
       "children": [
        "IPY_MODEL_613f091b3a7b4e0fb66899d2ff4f8989",
        "IPY_MODEL_8f922e70531c493a942883ee03b5494e",
        "IPY_MODEL_ef0f1734a3b14616b1153695c0686557"
       ],
       "layout": "IPY_MODEL_edff9278c68c4759979d8549eb342645"
      }
     },
     "613f091b3a7b4e0fb66899d2ff4f8989": {
      "model_module": "@jupyter-widgets/controls",
      "model_module_version": "2.0.0",
      "model_name": "DropdownModel",
      "state": {
       "_options_labels": [
        "3",
        "4",
        "5",
        "6",
        "7",
        "8",
        "9",
        "10",
        "11",
        "12"
       ],
       "description": "S",
       "index": 0,
       "layout": "IPY_MODEL_8970d187c96d46b194402bc09517081b",
       "style": "IPY_MODEL_192373e311894cd4bd48771988202260"
      }
     },
     "703c346d69b04c33a14edcabac1bf70d": {
      "model_module": "@jupyter-widgets/controls",
      "model_module_version": "2.0.0",
      "model_name": "FloatProgressModel",
      "state": {
       "bar_style": "success",
       "layout": "IPY_MODEL_b4fb150f6772431588e340c62f711a17",
       "max": 1,
       "style": "IPY_MODEL_24c96cba72f14687884ee9d7f276f321",
       "value": 1
      }
     },
     "82aabcc90cf54238afcf001183d7eefe": {
      "model_module": "@jupyter-widgets/controls",
      "model_module_version": "2.0.0",
      "model_name": "HTMLStyleModel",
      "state": {
       "description_width": "",
       "font_size": null,
       "text_color": null
      }
     },
     "8970d187c96d46b194402bc09517081b": {
      "model_module": "@jupyter-widgets/base",
      "model_module_version": "2.0.0",
      "model_name": "LayoutModel",
      "state": {}
     },
     "8f8716abf3cc4be68c18c52defa7e0d1": {
      "model_module": "@jupyter-widgets/base",
      "model_module_version": "2.0.0",
      "model_name": "LayoutModel",
      "state": {}
     },
     "8f922e70531c493a942883ee03b5494e": {
      "model_module": "@jupyter-widgets/controls",
      "model_module_version": "2.0.0",
      "model_name": "DropdownModel",
      "state": {
       "_options_labels": [
        "2",
        "3",
        "4",
        "5",
        "6",
        "7",
        "8",
        "9",
        "10"
       ],
       "description": "N",
       "index": 0,
       "layout": "IPY_MODEL_96ce803f4b83423894306a6442453a16",
       "style": "IPY_MODEL_f798fe01b5904f80a81b6b438b9ba0f2"
      }
     },
     "95426a2ef8cc4c318500dd332337b960": {
      "model_module": "@jupyter-widgets/controls",
      "model_module_version": "2.0.0",
      "model_name": "HBoxModel",
      "state": {
       "children": [
        "IPY_MODEL_2d5cc16cf97548458dfecd827ded26e2",
        "IPY_MODEL_703c346d69b04c33a14edcabac1bf70d",
        "IPY_MODEL_199ed5de9ec14fd3a7324b8264c32d94"
       ],
       "layout": "IPY_MODEL_2c90bdacdcee433c94f8f0d94b0f3a46"
      }
     },
     "96ce803f4b83423894306a6442453a16": {
      "model_module": "@jupyter-widgets/base",
      "model_module_version": "2.0.0",
      "model_name": "LayoutModel",
      "state": {}
     },
     "a9d933018f8f4a48905cfb91fa64ea9b": {
      "model_module": "@jupyter-widgets/base",
      "model_module_version": "2.0.0",
      "model_name": "LayoutModel",
      "state": {}
     },
     "b4fb150f6772431588e340c62f711a17": {
      "model_module": "@jupyter-widgets/base",
      "model_module_version": "2.0.0",
      "model_name": "LayoutModel",
      "state": {
       "width": "20px"
      }
     },
     "c9f501dba2f742509065e9bbe10debbd": {
      "model_module": "@jupyter-widgets/controls",
      "model_module_version": "2.0.0",
      "model_name": "HTMLStyleModel",
      "state": {
       "description_width": "",
       "font_size": null,
       "text_color": null
      }
     },
     "edff9278c68c4759979d8549eb342645": {
      "model_module": "@jupyter-widgets/base",
      "model_module_version": "2.0.0",
      "model_name": "LayoutModel",
      "state": {}
     },
     "ef0f1734a3b14616b1153695c0686557": {
      "model_module": "@jupyter-widgets/output",
      "model_module_version": "1.0.0",
      "model_name": "OutputModel",
      "state": {
       "layout": "IPY_MODEL_16dfa38a602c4bfaae273c7bf4bfbf3b",
       "outputs": [
        {
         "data": {
          "image/png": "iVBORw0KGgoAAAANSUhEUgAAAloAAAHQCAYAAAB5mMTJAAAAOXRFWHRTb2Z0d2FyZQBNYXRwbG90bGliIHZlcnNpb24zLjguMCwgaHR0cHM6Ly9tYXRwbG90bGliLm9yZy81sbWrAAAACXBIWXMAAA9hAAAPYQGoP6dpAAEAAElEQVR4nOydd3gU1feH3930XiAhoSV0kF5D71VARYqCKMX2s+tXUEERsaEiCiqgggIiitKUqhTpvYt0AqGm955Ndn5/TGZ2Z0sKSUiA+z4PDzN37szcnezOnDn3nM/RSZIkIRAIBAKBQCAodfTlPQCBQCAQCASCuxVhaAkEAoFAIBCUEcLQEggEAoFAICgjhKElEAgEAoFAUEYIQ0sgEAgEAoGgjBCGlkAgEAgEAkEZIQwtgUAgEAgEgjJCGFoCgUAgEAgEZYQwtAQCgUAgEAjKCGFoCQSCYhMaGsrYsWM1bRcuXKBv3774+Pig0+n4448/WLRoETqdjoiIiFI799ixYwkNDS21490p3KufG2D79u3odDq2b99e3kMRCIqNMLQEggrIyZMnGTZsGCEhIbi6ulKtWjX69OnD119/ren38ccf88cff5TJGPbu3ct7771HUlJSkfqPGTOGkydP8tFHH7FkyRLatGlTJuMqKt27d0en06n/nJ2dqVWrFs888wzXrl0r17EJbDN37lwWLVpU3sMQCEoVnah1KBBULPbu3UuPHj2oWbMmY8aMISgoiGvXrrF//37Cw8O5ePGi2tfT05Nhw4aVycPp888/Z+LEiVy+fNnKk5KdnY1er8fJyQmAzMxM3N3defvtt/nwww/Vfnl5eRgMBlxcXNDpdKUyrrFjx7J9+/ZCvWTdu3cnPDyc6dOnA5CTk8Pp06f59ttvqVSpEmfOnMHd3b1UxnQ7MBgMGI1GXFxcynsoZUaTJk2oXLmylefKaDSSk5ODs7Mzer3wDwjuLBzLewACgUDLRx99hI+PD4cOHcLX11ezLSYm5paPm56ejoeHRwlHJ2P5sI+NjQWwGq+DgwMODg6lcs5bwcfHh9GjR2vaatWqxYsvvsiePXvo06eP3X1L83qVBopRey+i1+txdXUt72EIBLeEeDUQCCoY4eHhNG7c2MpoAQgMDFSXdTod6enpLF68WJ0eU+Km3nvvPXQ6HadPn2bUqFH4+fnRuXNnAP7991/Gjh1L7dq1cXV1JSgoiPHjxxMfH68e+7333mPixImAbJgox1e8SOYxWu+99x4hISEATJw4EZ1Op3rA7MVobdy4kS5duuDh4YGXlxcDBw7k1KlTVp/3jz/+oEmTJri6utKkSRNWr15d3MtpRVBQEACOjqb3zIKuV25uLh988AF16tTBxcWF0NBQJk+eTHZ2trr///73PypVqoT5BMFLL72ETqfjq6++Utuio6PR6XTMmzcPMMUe/f7773z00UdUr14dV1dXevXqpfFcgu0Yrc8//5yOHTtSqVIl3NzcaN26NStWrLD6zDqdjhdffFG9ni4uLjRu3Ji//vqr0OtlPsZp06ZRrVo1vLy8GDZsGMnJyWRnZ/Pqq68SGBiIp6cn48aN01ybol7D0NBQTp06xY4dO9TvW/fu3TVjsPR0LV++nNatW+Pm5kblypUZPXo0N27csLpunp6e3Lhxg4ceeghPT08CAgKYMGECeXl5mr7Lli2jdevWeHl54e3tTdOmTZk9e3ah10ggKAjh0RIIKhghISHs27eP//77jyZNmtjtt2TJEp566inatWvHM888A0CdOnU0fYYPH069evX4+OOPVSNg8+bNXLp0iXHjxhEUFMSpU6f4/vvvOXXqFPv370en0/Hwww9z/vx5fv31V7788ksqV64MQEBAgNU4Hn74YXx9fXnttdcYOXIk999/P56engWOe8yYMfTr149PP/2UjIwM5s2bR+fOnTl27JhqTGzatImhQ4dy3333MX36dOLj4xk3bhzVq1cv8rXMy8sjLi4OkKfezpw5w9SpU6lbty6dOnWy6m/rej311FMsXryYYcOG8frrr3PgwAGmT5/OmTNnVMOvS5cufPnll5w6dUr9m+3atQu9Xs+uXbt4+eWX1TaArl27as77ySefoNfrmTBhAsnJyXz22Wc89thjHDhwoMDPN3v2bB544AEee+wxcnJyWLZsGcOHD2fdunUMHDhQ03f37t2sWrWK559/Hi8vL7766iuGDh3K1atXqVSpUqHXcvr06bi5ufHWW29x8eJFvv76a5ycnNDr9SQmJvLee++xf/9+Fi1aRK1atXj33XfVfYtyDWfNmsVLL72Ep6cnb7/9NgBVqlSxO55FixYxbtw42rZty/Tp04mOjmb27Nns2bOHY8eOaV5U8vLy6NevH2FhYXz++eds2bKFmTNnUqdOHZ577jlA/l2MHDmSXr168emnnwJw5swZ9uzZwyuvvFLo9REI7CIJBIIKxaZNmyQHBwfJwcFB6tChg/TGG29If//9t5STk2PV18PDQxozZoxV+9SpUyVAGjlypNW2jIwMq7Zff/1VAqSdO3eqbTNmzJAA6fLly1b9Q0JCNOe9fPmyBEgzZszQ9Fu4cKHmGKmpqZKvr6/09NNPa/pFRUVJPj4+mvYWLVpIwcHBUlJSktq2adMmCZBCQkKsxmRJt27dJMDqX6NGjaRLly5p+tq7XsePH5cA6amnntK0T5gwQQKkf/75R5IkSYqJiZEAae7cuZIkSVJSUpKk1+ul4cOHS1WqVFH3e/nllyV/f3/JaDRKkiRJ27ZtU8eUnZ2t9ps9e7YESCdPnlTbxowZY/W5Lf+WOTk5UpMmTaSePXtq2gHJ2dlZunjxotp24sQJCZC+/vpr+xfRbIxNmjTRfAdHjhwp6XQ6acCAAZr+HTp00IyzqNdQkiSpcePGUrdu3eyOYdu2bernDAwMlJo0aSJlZmaq/datWycB0rvvvqu2jRkzRgKk999/X3PMli1bSq1bt1bXX3nlFcnb21vKzc0t8HoIBMVFTB0KBBWMPn36sG/fPh544AFOnDjBZ599Rr9+/ahWrRpr1qwp1rH+7//+z6rNzc1NXc7KyiIuLo727dsDcPTo0ZINvhA2b95MUlISI0eOJC4uTv3n4OBAWFgY27ZtAyAyMpLjx48zZswYfHx81P379OnDfffdV+TzhYaGsnnzZjZv3szGjRuZNWsWycnJDBgwQI0rM8fyem3YsAGQpwbNef311wFYv349IHv6GjZsyM6dOwHYs2cPDg4OTJw4kejoaC5cuADIHq3OnTtbJQaMGzcOZ2dndb1Lly4AXLp0qcDPZ/63TExMJDk5mS5dutj8O/bu3Vvj8WzWrBne3t6FnkPhiSee0MSJhYWFIUkS48eP1/QLCwvj2rVr5ObmAkW/hsXh8OHDxMTE8Pzzz2titwYOHEjDhg1tHtPyb9ulSxfNZ/f19SU9PZ3NmzcXezwCQUEIQ0sgqIC0bduWVatWkZiYyMGDB5k0aRKpqakMGzaM06dPF/k4tWrVsmpLSEjglVdeoUqVKri5uREQEKD2S05OLrXPYAvF4OjZsycBAQGaf5s2bVKD/a9cuQJAvXr1rI7RoEGDIp/Pw8OD3r1707t3b/r3788rr7zCmjVrOHfuHJ988olVf8vrdeXKFfR6PXXr1tW0BwUF4evrq44T5Ae3MjW4a9cu2rRpQ5s2bfD392fXrl2kpKRw4sQJ1Ygyp2bNmpp1Pz8/QDaeCmLdunW0b98eV1dX/P39CQgIYN68eTb/jpbnUM5T2Dns7a8YwDVq1LBqNxqN6hiKcw2LirKPre9Cw4YNrY7p6upqNe1t+dmff/556tevz4ABA6hevTrjx48vUgybQFAYIkZLIKjAODs707ZtW9q2bUv9+vUZN24cy5cvZ+rUqUXa39zjoTBixAj27t3LxIkTadGiBZ6enhiNRvr374/RaCztj6BBOf6SJUvUoHRzzAPUy4rWrVvj4+Ojep/MsXW9gCJJU3Tu3Jn58+dz6dIldu3aRZcuXdDpdHTu3Jldu3ZRtWpVjEajTUPLXmamVID6zq5du3jggQfo2rUrc+fOJTg4GCcnJxYuXMgvv/xSKucoyv5FPW5pyXvcCkXJfA0MDOT48eP8/fffbNy4kY0bN7Jw4UKeeOIJFi9efBtGKbhbEYaWQHCHoAiARkZGqm3FfXglJiaydetWpk2bpglWVjxN5pTFg1GZugoMDKR37952+ylZjLbGde7cuRKPIy8vj7S0tEL7hYSEYDQauXDhAo0aNVLbo6OjSUpKUscJpum+zZs3c+jQId566y1ADnyfN28eVatWxcPDg9atW5d4/AArV67E1dWVv//+WyO3sXDhwlI5fmlRnGtY1O+css+5c+fo2bOnZtu5c+c0xywOzs7ODB48mMGDB2M0Gnn++ef57rvvmDJlipVHTiAoKmLqUCCoYGzbts2ml0GJdTGfLvHw8CiycjuY3uwtjz9r1iyrvoqGVHGOXxj9+vXD29ubjz/+GIPBYLVdiZsKDg6mRYsWLF68WDMNtnnz5mJNndpi27ZtpKWl0bx580L73n///YD19fniiy8ANJl9tWrVolq1anz55ZcYDAY1q7FLly6Eh4ezYsUK2rdvX2peOwcHB3Q6nUaiICIioswqBdwqxbmGRf0+t2nThsDAQL799luNRMTGjRs5c+aMVcZlUTCXNwFZu6tZs2YAVnIVAkFxEB4tgaCC8dJLL5GRkcGQIUNo2LAhOTk57N27l99++43Q0FDGjRun9m3dujVbtmzhiy++oGrVqtSqVYuwsDC7x/b29qZr16589tlnGAwGqlWrxqZNm7h8+bJVX8Xz8vbbb/Poo4/i5OTE4MGDSyTi6e3tzbx583j88cdp1aoVjz76KAEBAVy9epX169fTqVMnvvnmG0CWExg4cCCdO3dm/PjxJCQk8PXXX9O4ceMieaNAjjn7+eefAVnL6dy5c8ybN0+VKSiM5s2bM2bMGL7//nuSkpLo1q0bBw8eZPHixTz00EP06NFD079Lly4sW7aMpk2bqnFWrVq1wsPDg/PnzzNq1KjiXK4CGThwIF988QX9+/dn1KhRxMTEMGfOHOrWrcu///5baucpKcW5hq1bt2bevHl8+OGH1K1bl8DAQCuPFcjirZ9++injxo2jW7dujBw5UpV3CA0N5bXXXiv2OJ966ikSEhLo2bMn1atX58qVK3z99de0aNFC44kTCIpNeaY8CgQCazZu3CiNHz9eatiwoeTp6Sk5OztLdevWlV566SUpOjpa0/fs2bNS165dJTc3NwlQJRcUuYLY2Fir41+/fl0aMmSI5OvrK/n4+EjDhw+Xbt68KQHS1KlTNX0/+OADqVq1apJer9fINNyqvIPCtm3bpH79+kk+Pj6Sq6urVKdOHWns2LHS4cOHNf1WrlwpNWrUSHJxcZHuu+8+adWqVTZlDmxhKe+g0+kkf39/6YEHHpCOHDmi6VvQ9TIYDNK0adOkWrVqSU5OTlKNGjWkSZMmSVlZWVZ958yZIwHSc889p2nv3bu3BEhbt261ug6AtHz5ck27cj0XLlyottn63D/88INUr149ycXFRWrYsKG0cOFC9bOYA0gvvPCC1Xgt/462sDdG5W976NAhTbuta1nUaxgVFSUNHDhQ8vLykgBV6sFS3kHht99+k1q2bCm5uLhI/v7+0mOPPSZdv35d02fMmDGSh4eH1eeyvE4rVqyQ+vbtKwUGBkrOzs5SzZo1pWeffVaKjIws8PoIBIUhah0KBAKBQCAQlBEiRksgEAgEAoGgjBCGlkAgEAgEAkEZIQwtgUAgEAgEgjJCGFoCgUAgEAgEZYQwtAQCgUAgEAjKCGFoCQQCgUAgEJQRQrC0HDEajdy8eRMvL69yrQMmEAgEAoGg6EiSRGpqKlWrVkWvL9hnJQytcuTmzZtWle8FAoFAIBDcGVy7do3q1asX2EcYWuWIl5cXIP+hvL29y3k0AoFAIBAIikJKSgo1atRQn+MFIQytckSZLvT29haGlkAgEAgEdxhFCfsRwfACgUAgEAgEZYQwtAQCgUAgEAjKCGFoCQQCgUAgEJQRwtASCAQCgUAgKCOEoSUQCAQCgUBQRghDSyAQCAQCgaCMEIaWQCAQCAQCQRkhDC2BQCAQCASCMkIYWgKBQCAQCARlhDC0BAKBQCAQCMoIYWgJBAKBQCAQlBHC0BIIBAKBQCAoI4ShJRAIBAJBKZJnzCvvIQgqEMLQEggEAoGglJi6dypdf+tKVHpUeQ9FUEEQhpZAIBAIBKXEqgurSMlJYcHJBXb7nEs4x+/nfscoGW/jyATlhWN5D0AgEAgEgruBzNxMdflI9BEkSWLlhZX8cfEPvur5Ff6u/gAMWzsMADdHNwbXGVwuYxXcPoRHSyAQCASCUuBm2k11+WLSRcJ+CWPavmmciD3B/H/nW/U/FnPsdg5PUE4IQ0sgEAgEglLAMi7L3MOVkpMCgCRJapvBaLg9AxOUK8LQEggEAoGgFEjKTrK7bU34Gsb/PZ7radfVtlxj7m0YlaC8EYaWQCAQCASlQHJ2MgB9QvpQ1aOq1fZDUYf49OCn6rri5RLc3QhDSyAQCASCUkAxnLydvelcrbPNPucSz6nLO6/v5IN9H4jsw7scYWgJBAKBQFAKKB4tHxcfqnlVs9nHMo7r9/O/82/sv2U+NkH5IQwtgUAgEAhKSJ4xj5/P/AzkG1qetg0tW+y+sbushiWoAAhDSyAQCASCEnI24ay67KBzoLJbZXW9kX8jq/6fdPmETlU7ARCXGVf2AxSUG0KwVCAQCASCEmIe2N6leheqelSlmmc1qnpWZX6f+eQYcxi6ZijXUq/RyL8R99e6n3RDOntu7ikwW1Fw5yMMLYFAIBAISkhqTioAzQOaU9unNgDrhqzDQeeATqfDTe/Gl92/5Jezv/Bss2fR6XT4uPgAkJiVWG7jFpQ9wtASCAQCgaCEpBnSAFTjCcBRr33ENvBvwLSO09R1Pxc/oGD9LcGdj4jREggEAoGghCgeLS9nryLvoxhlwtC6uxGGlkAgEAgEJUQJaPd08izyPn6uskcrOTtZU5pHcHchDC2BQCAQCEpAdl42i04tAuSMw6Li6+ILQJ6Ux5A/hxCbEVsGoxOUN8LQEggEAoGgBNxIvaEum8s6FIazgzPuju4AhCeHs+DkglIfm6D8EYaWQCAQCATF4HrqdW6m3VTXozJMau/D6g8r1rHMg+czcjNKPjhBheOeNbTS0tKYOnUq/fv3x9/fH51Ox6JFi4q076JFi9DpdDb/RUVFFX4AgUAgENyRnIg9wZA/hzDkzyG8uPVF/rj4BzEZMQB0rNpRjbsqKtl52eryHxf/UIPq7yXWhq+lz4o+nEs4V3jnO5B7Vt4hLi6O999/n5o1a9K8eXO2b99e7GO8//771KpVS9Pm6+tbOgMUCAQCQYViTfga3t79trq+4/oOdlzfwSMNHgEg0D2w2MdMyErQrL+w9QUW9F2As4NzyQZ7BzF592QAPjv0GT/0+6GcR1P63LOGVnBwMJGRkQQFBXH48GHatm1b7GMMGDCANm3alMHoBAKBQFDRMDeyzFl9YTUgi5UWl+7Vu7P9+nZ1/VjMMeafnM8LLV64pTFWZK6mXOXbE98yvsl46vrVBSDDYJouNUrG8hpamXLPGlouLi4EBQWV+Dipqam4u7vj4FD0TBOBQCAQ3HnodXqbxkCOMQe9Ts+QukOKfcypHadS87+a/HT6J7Vtx7Udd5WhZcgzMOf4HH74T/ZWrb20lqebPk1UehTrL69X++VJeeU1xDLlno3RKg169OiBt7c37u7uPPDAA1y4cKHA/tnZ2aSkpGj+CQQCgaDik2HIUI0sRZbBnMpulXHQF/+Fu7JbZSa2ncimoZt4rfVrAJxJOENMRgyXki4xePVgVpxfUaKxlzdLzixRjSyF+Sfns/bSWo3hap5gcDchDK1bwN3dnbFjxzJnzhxWr17NG2+8wdatW+nYsSPXrl2zu9/06dPx8fFR/9WoUeM2jlogEAgEBSFJEh/u/5BZR2aRlpPGrCOzOBV/CoD4rHgAXB1ceTvMegpRCYi/VYI9gwkLClPXn/z7SVZeWElESgTT9k1j6ZmlJTp+efJf3H9F6peQlXBXCrfes1OHJWHEiBGMGDFCXX/ooYfo168fXbt25aOPPuLbb7+1ud+kSZP43//+p66npKQIY0sguEvINeZa1bYT3FlcSLrAb+d+A+Bg1EFOxp1k141drHxgJfGZsqFVya2SzczCl1u+XOLzB7gHqMsRKRE0ymikrn9y8BM+OfgJax9aS4h3CJN3T6ayW2Veb/N6ic9bluQZ8zibcLZIfQ1GA+mGdDydi66ub4vItEjmnZhHnpTHk02epLZv7RIdr6QIj1Yp0blzZ8LCwtiyZYvdPi4uLnh7e2v+CQSCO5+I5Ai6/96dj/Z/VN5DEZSA8KRwdflk3EkAzieeB+BaqjxbEegeiL+rv9W+Tzd7usTnr+Raido+JqNgY8RGqz5brm5hTfga1l1ax6JTizDkGUp83rJk89XN6rWz5KWWL1m1WWZhFoWLiRc1QfUfH/iY1RdXsyZ8DfNOzCv28UobYWiVIjVq1CAhofhfEoFAcGfzxs43SM5OZtm5ZeU9FEEJsKXjVNWjKiDrZwE0rtSYOr51eKDOA+jQler5HfQOLB+8nCAP+4la/8b+yzt73lHXlRqLFZUNlzYAUNOrpqa9VWArmgU0s+pfXEPrUNQhhqwZwivbXlHbLiSZ4qWvpFwp1vHKAuHnLkUuXbpEQEBA4R0FAsFdhb03dsGdxY20G1ZtaYY00g3p/B3xNwBtqrRBr9PzUeePeLfDu8z/dz49avYotTE4OzgT4h1CVLosfu3v6s+nXT/leMxx5hyfw7Zr2zT9YzJjCPYMLrXzlzaXky8D8Hb7tzkdf5pd13fh7ODMlPZTcNI7qf3cHN3IzM0stqGlZGvuj9wPyHF25se4lnoNSZLQ6UrXKC4OwqNVCJGRkZw9exaDweSejY21Lvy5YcMGjhw5Qv/+/W/n8AQCQQXAYDTdH3KNueU4EkFJsJX1lpqTytHooyRlJxHkEUS3Gt3UbS4OLrzY8kUaV2pcquNoWrmpujyu8TjaB7dnVKNRNvtW5ELUBqOB66nXAajtU5unmj7F4gGLmd93PjW9a1LFowpujm446hxpH9wegItJF20eKys3i1UXVnE85rimXYmdU8jIzSAzN1NdTzOkkZSdVHof6ha4pz1a33zzDUlJSdy8Kf+41q5dy/Xr8pfipZdewsfHh0mTJrF48WIuX75MaGgoAB07dqRly5a0adMGHx8fjh49yo8//kiNGjWYPHlyeX0cgUBQDhglIzl5Oer6a9teY1aPWbeU6i8oX2x5tCQkjsceB2QD6HYkPAytN5RfzvxCVl4WHap2AMDb2ZsaXjWsvKclzXYsK7Zf287MwzPJlXLxcPKwqZqv1+nZPGwzucZc1l9az7Zr2zgZe9Kq318RfzFl9xSy8rJwcXDhr6F/qcW7zY2qrNwsdSrV3dEdFwcXErMTic2MLXZppNLknja0Pv/8c65cMc3frlq1ilWrVgEwevRofHx8bO73yCOPsH79ejZt2kRGRgbBwcE8/fTTTJ06lSpVqtyWsQsEgorBv7H/ImFKSd9+fTsHog7QsWrHchyVoLikG9JVCQdLdl3fBUAd3zq3ZSzVvaqzefhmsnOzNZmIdXzqWBla5e2tscdL/5gC3XvU6IFeZ3sCTSmqXd+/PgBXU69qtucac5m4Y6K6np2Xzc+nf+bV1q9aHSs+K171SlZ2q4yLo2xoxWXGUd+vfok+T0m4p6cOIyIikCTJ5j/Fe7Vo0SLNOsCHH37IsWPHSEpKIicnhytXrjB37lxhZAkE9yCLTi2yapuwY4IaYyO4M4hIibC77UzCGQBaV2l9m0Yje7DMjSyAmt6mgHJFNLUiGlrmHl6ATtU6FbpPgJv8WS8lX+K5Lc+p2ZS2pnN/+O8HDkUdAmQDWSE2I5Y9N/YActJCZVfZ61XeCQP3tKElEAgEJeV0/GmrttSc1DtaYPJeJCI5AoBqntVw0MnTvubaWFXcq9AuqF15DE0l1CdUXW5SuQlQMQ0ty4D2osSwKVOBALtv7Kbrb13Jzsu28nApzDg0A5BjsBSORB9RddDaV22vHlMYWgKBQHCHcj7xPJHpkeh1epYMWKLZtujUIpKykspnYIJio3i02ge3Z+nApWwetpm6vnXV7WHBYXanv24XfUP6Euodipezlzo1nZydXK5jsoW5oTWq4ShCvUML3cfbWasrmWZIY8npJXYzeiXk2Sdzj9af4X+SlZeFh5MHg+sMFoaWQCAQ3OmsvrAagF41e9EisAXHHz/OmPvGqNtnHZ1VTiMrH3KNuXyw7wOe3/K8RkDyTkDxaIV6h9K4UmOCPII0AdzmmYDlhY+LD388+Adbhm0hxDsEgL0391Y4eRHF0Grg14BJYZOKJK1gq8/v5363yipUOJtwljY/t9HUSlSkJFoEtsBJ70SrKq14tMGjtA68fVO+thCGlkAgENwiSpxI35C+gCw4OaD2AHV7bGbFTb0vC2Yensnv539n141d6hTOnUBCVgJ/RfwFaKfnzGOk6vnVu93DsomD3gF3J3dNYeshfw4hMSux/AZlRnJ2MktOy95dWwr6BfFCixe4r9J9fNXjK1wcXIhMj1RjrgCebPIkDf0bqus5xhxbh6G6Z3UAutfoztvt36ZXSK/ifoxSRRhaAoFAcAsY8gxqeZaWgS3V9vq+puwmJ70TR6OPkpaTZrX/3UZSVpLGuLIVu1ZReX7L8+qy+YPc3FCoKIaWgnmpnuy87Nt+vVNzUm22zzg0g7039wIwqM6gYh3z/5r/H78N+o0eNXuoshb/xcsFqSe1m8SrrV9lQd8FhR6nhlfFqiEsDC2BQCC4BaIzopGQcNY7a6aYnByc+KrHVwBsvbqVMX+N4YsjX5TXMMucf67+wx8X/+BE7AmNcOtfEX+x9epWQC4sXBBfHf2KIX8OKZVYmsSsRN7b+x6n4k8VeR+lr7PeWVP+xlHvyJ8P/cmqB1ZZxRCVN5aFl29nrNbiU4vp9Gsnlp9fbrXtdIJs8D3X/DkeqPPALZ8jxCtEs64YvV7OXjb7uzi4qMvC0BIIBII7jGsp1xixdgR/Xf5LbYtMjwQg2DPYKr6klk8tzfry88vtegDuZAx5Bl7Z9gpT9kxRH7DmAeOvbnuVd3a/Q6dlnXjoj4e4f9X9msLNCvNPzudi0kW+OfZNicf05s43WXlhJY+ue7TIqumKltO3fb612lbbp3aF82YpLBtkqq2ZnHN7DK1cYy6fH/4cCYmNl62LXsdlyMZy75DeJTqPZVkhDycPAKuEhA7BHVgyYIk6fQ/C0BIIBII7jil7p3Am4QwTd5qEExWdLFsFgEN9Qmke0FzT1vHXjqy7tK5sB3obkCSJG2k3kCSJ62nX1XYlENl8SgvkTLB0QzrhyeFcS73G9IPTNdvNp1WPRB+55XGdiT/Dpwc/ZV/kPrXt4wMfk5WbxReHv+C/uP9s7meUjKRkpwDWBnJFp3GlxgytNxRA/QxlzdUUk9yCp5PWq2bIM5CYLceKKbpYt4rl70qRswBYMXgFc3rNYfeju/muz3e0CGzB/zX/PwBcHVyp7lW9ROcube5pZXiBQCAoCqfiTNNQGYYMHl3/qGpYBLlbG1pgOxB40q5JDKpdvLiVisa3/37L3ONzGVF/BL+f/11tv5IiV9mo7VPbbr06gCNRR/jz4p90r9EdHxcfrqSaqnNEpERwIPIAB6MO0qtmL+6rdF+RxzXmrzGaciwgT91+fexrfjr9EwtPLeTkGG15l4jkCL779ztV2d/H2XY1kIqMt4s8pXk7PFp/XPyDKXumqOvm0gpgklFw1DtqgvVvBfNYuXc7vKspodPAvwEN/Bto+tf0rql6+Nwc3Up07tJGeLQEAoGgELLystTllRdWqkYWWE9xKIxsONL2sXKzbLbfKcw9PhdAY2SByaNVWJmaXCmXd/a8w1ObngKwUtB/atNTfP/v9zyy7hG2Xtla5HFZGlkgP6yVwGyQvXHmfHHkC42X0cnBqcjnqygoxmFxY7SORB9h7F9j+efqP0Xex9zIAkjJ0XrRojOiAQh0CyySpENBVPOsxtQOU+lUrRP9Q/sXaZ/GlRqXeoHv0kAYWgKBQFAA5jo9YG0Y2CqWC9ChageWDVpGI/9Gmvab6dYlRcqKI9FHmHN8zm0RbFQMnSCPIKZ1nGa1/emmT2vWzyac5VrKtQKnvGYcnlGiMbk6umoMWyWuTmH3jd0lOn5FQIkvK6pCvCRJzDw8k7F/jeVI9BF+OfNLgf3f3/c+o9aP4kLiBattlnGHip5XaU3dDas/jG97f2s3AP5OQRhaAoFAUACW5UR+Ov2TZt1Jb98LoghfmnMj9YZmXZIkm96Y0mD6gel8e+JbXt32apkcH+DBOg+qyzp0tAxsycP1HmZCmwlqe6BbIK2qtLLa92ziWdUT0y+0n9X2ok4BWXqqGvjJ00op2SmaQtHmRnJWbpaaJVnLpxavtnq1SOeqaCiGfnR6NOmG9EKFYo/GHNXU5zwQdYB9N/fZ7CtJEsvPL+dk3Ek+3P+h1XZzj9a5hHNM3j0ZkL1RAhPC0BIIBIICKKw4dI8aPQrc/mjDR/FyMr2R30y7yc20m1xKvgTAW7veot3SdrRb2o7t17aXdLgaziWeA+BE7IlSKXKtKOErPNPsGVWhHORsLyWg3Nyr4e3ibTNmZ9f1XWpsUYBbgJX3z7yOXUGY99szcg/vd3ofgPDkcI0Ra250KUaCg86BPx/8kyebPlmkc1U0FEM+PCmcPiv6EPZLmCqrYQvLuCqAZzY/Y3NK29xLdjTmqNX2tJw0DEYD6YZ0ntn8jNpe0bL+yhthaAkEAkEBmGdZWfLL/b+oUzf26Fi1I3tG7uGxRo8B8OGBDxmwagCPrnuUxKxENlzeAMhTby/985JGi6okWD5Q39z5JiDrW80+OrtQbStLLidf5t2976rrm4dt5qWWL6mfCyAj1+RNMa8T6OviS03vmng6eVLDqwYvtngRgNUXV7PgpCxA6e3izZT2U+hUtRNfdJd1x4oqiaEUHvZy9sLb2dvu30Qp53Im/gzLzsqB0x5OHiWOJypPFEMrV8pVr1dBHkx7sVy2DPGYjBi7x/F08kRCotWSVjz595Oq57dvSF+G1BtS1OHfEwhDSyAQCApAUaYeUX8EYUFhavuGIRtoGlC0+nc6nU4znWKUjGTmZrLt2jarvoXFzBSV17e/rlk/GnOUledXMnHHRBacXMCHB6ynggpi5/Wd6vJrrV9TH/DuTu6qxMDLLV9W+9T0qqkutwxsibezNxsf3sjywcsZ0WCE1fF9nH1oGtCUb/t8S+sqcm26dEM6J2JPsD9yf4HTq4ejDqvnAdRiwpYosWoj1o1g/sn5gH0BzDsFLycv3B3drdrtTSEqnrx+of00EiSW8WtQcAmpgbUHqsuK4OszzZ5hZveZdq//vYowtAQCgaAAFGmH5oHNWdBvATO7zWRhv4XU8C7e9Iith+HUvVOt2pSyPiUhOy+bPTf3WLW/t+89dXnF+RWciT9T5GNGpEQA8FDdhxjbeKxm26SwSSy9fykP1X1IbdPpdMzpNYeh9YbyVFM5w9DX1RcPJw9Nqr6CeZv5VOvoDaN5etPT9F7emz039lhlugEcjDoIQLugdoCsEr70/qWA7HkZ3Wg0IE8dWnoMLbWg7jR0Op1NLTfl72WOIc/AJwc/AcDb2Zsf+/2oGqfT9k3jQOQBQI7NysrNspss8E3PbzQeSwUxZWgbYWgJBAKBHXKNuZxJkI2RJpVkwcS+oX1pE9Sm2MfqG9q38E7A9dTrhXcqhLMJZ4vUrziFn5Up1LZBba3UuV0cXGgW0MxqCq5r9a681/E93J2sjUzLQHfz+CwnByer7Sk5Kfzflv/jwT8e1BhLRsnI0Wg5fsj879IsoBk7H9nJ1uFb1bix+Mx4bqZpsz5zjbkFf/A7AFuZr+YSJHnGPP6O+JvvT36vtmXnZePs4KzKcdxIu8HHBz7GkGfggT8eoO3Stiw9IxuriqEKstewW41uNnXi2ge3L7XPdDchDC2BQCCww+Xky2TmZuLh5EGoT2iJjuXl7KXGHlkysPZA1QNzNOZoiY2tiOQIdXnF4BVW219q+RIga4I1XdyUr45+Vfgx8z0k5sHvJWFW91nqspezl9Vx7Xma4jLjOJ9g8volZCWQZkhDr9Or2YYKfq5+uDu5U8m1EiAbWpZiqorQ6p2MeSxV9xrdAa1H69ezvzJhxwS+PWEqMaQEvwd7mHTgLiVfIjI90sob1juktzo9rHgn21fVGlU/9vvRpmdNIAwtgUAgsIuiHVTfr76VF+dW6Fyts7qsPLAAOlXtRF3fujjq5GIdqy6sKtF5lAfliPojqO9XXzU0AA49doinmj6Fq4Or2qbEK9kjMzdTfZhbFvu9VTpW68iOR3bwaqtXmdNrjpU3rJKbaczdqnfTbFPKvIBJJLOya2Uc9baLnSjHis+K18SagRxEfqejGFf1/OrRKlCW0TA3tldfXG21z7PNnwW0hhagkX5QCHQP5J3277Dx4Y10rd4VkKcen232rNpHiasTWCMMLYFAILCD4v2wrN93q7g5urFi8Apm95hNp6qd1Pau1bvi7uTOG+3eAGB/5P5bPockSWp6f8NKDdHpdGwbsY1J7SbxaZdPcXV0Ra/T80GnDzT7Zedl2z2mMm3o7eyNr6vvLY/NEn9Xf55s+qQaJ2SOuWH7+H2Pa7ZtvboVQ548fagUjg5wt19bTzW0MuM5EXMCMJV4MZ8Wu1N5ttmzvB32Ngv7LVSTEG6kmfTakrKSNP13PbKL+n71Aflvas7y88utjl/JtRKOekcrIdIh9YbgqHOkU9VOpfIicrciah0KBAKBHcKTwgFsBv7eKkqdNqNkZMx9Y6jjW0eVI1CCuc29EcUhKzeLJzY+weXky+jQMSB0ACAHTI9qNErTt75/fc16VHqU3WnBteFrgdK9DoWRk5ejLrcNaou7o7sqH7Hi/ArcHN14o+0bqqetQEMr36OXlZdFeLL8N53ZbSbxWfEVsmRLcXF3cufRho8CUNldzvgzrwZg7gEM8gjSGMuWNQPtHd8W1Tyr8cdDf9it92nJ8vPLiUyL5IUWL+Cgd1DbD0Ud4qfTPzGp3SSqelYt0rHuJIQJKhAIBDbYeX0n/1yT68AVVr/vVtDr9ExoO0GjOaTEuKQaUm0KSxaEJEk89OdDavC+hISns/2Muto+tfm0y6fqumWQuDmKWOXgOoOLNaaSoARWezp5otfpWf/weur4mP4OS04vISErQf28llNg5rg7uWuyPt0c3ajuVZ2WgS1xdnAuo09QPgS4yQZnXGacqphvnjzQ0K+hpn+QR5DNOL6icDPtJoNWD6LN0jbsvbG3wL6GPAPv73uf+SfnsyZ8jdp+Kv4U4/8ez/Zr23l/3/u3NI6KjjC0BALBPU1KTopVCZes3Cxe2PqCun67PDkeTh5qEHh0enSx9j0YdVAzXTSq4agCesvcX/t+VRvMXDXdEkV5vbQC4YvCCy1e4Lnmz7F0oJwkUNmtMr1Cemn69F7emxXnZSOhsIw385ivhv4N79qpLuVzGowGYjJirOQwanrXtNqngX8DK1X+EfVH0MCvQYGliTZf2awuP7vlWbv9AK6lXVOXT8TK07fphnQeXfeo2n43JCbY4u78pgkEAkEROJdwjq7LuvLBfm28klIcFyDUO/S2CjAqXq3iFp82j+vqXr07r7R6pUj7KfpViVmJdvuk58jeNQ8nj2KNqSR4OnvyfIvnNfFxVdyraPqYe2oKk9wwTwhoU6X48hx3Ci4OLury1H1TNd9lwKaGGWizCPuH9uetsLdY8cCKAksTFVaLMsOQwdrwtWTlZnEl2WREKSry+29qYxELM34vJl7k+3+/V+Pz7hSEoSUQCO5Zfjj5A3lSniYAeNWFVTy85mF1fenApbe1RIsSpGz5ECqIDEMGK8+vBGBax2l83etru3E1lig1CAsytBSPlrmQaHmgBLDbwjKo2xJzj1bboLalNqaKiPJ3ik6P1khhAPi52Da0+of2V5d71exVYLF0kL2+f0f8rWmzVKN/ddurTN49me///V7jrVK+a2cTtXpv5oaWUTIy/9/5asHrcwnnGLJmCF8f+5of//uxwLFVNIShJRAI7llSDaZaetl52USlR2nU2nvU6FHoA7y0UVL1bRXxtcfxmOMkZifi5uhG35CiCaMqKMKTipfBkjxjnhqE7uF8+zxatlCMUEsG1R5U6L7mHi3z0jN3I78P/h2Qp+KOxx5X2yu7VbYrnFvPr566XJinCuCrY1+pivwK19NM+m+SJLEvUjaSVl1YpdHmUr5rltPjESkRTD8wnTPxZxi1fhRfHftKLVY9Zc8Utd/h6MOFjq8iIbIOBQLBPcmlpEuaEiNXUq5o1LQB/tf6f7d7WGrWlVIAGeSH1uYrm2lVpRWVXCtZedhiMuXMu1aBrQoMgLeFMpW08sJKHqz7oEZq4XT8aVU+Acq/XI2royvf9f6OTw59ov6tPu78MV2qdSl03yH1hnAl5QqPNny0yN6+O5WqnlXxdvYmJSdF1WT7uPPH9K/V366nyknvxKutXuV47HE6Vu1Y4PEPRx1myeklVu3mXlHz2LD4rHhWXliprl9Nvcr0A9NVDTRzfjn7Czuv79QYbdl52Zqp9OImipQ3wqMlEAjuSZadW6ZZD08K17w1AyVWg78VzD1MSpD++svreX3H6/T4vQcPr3nYql5fUSQO7GEeHD1171SOxRzj4wMfk5aTxpN/P8mL/7wIgLPeuUJk6HWs1pGRDUeq64NqDyqStleTyk1Y0G8BvUN6l+HoKgZ6nd4qOSDAPaDQ6cAnmz7J1z2/xsnBdr/VF1bzV8RfjPt7nM3t265tU7+bBU1Fg2xQ7b0pZyqObzJes83cyAK5LFVVD5Psw/nE83dU6SRhaAkEgnsSyyDhr45+RWZuprr+Vru3bveQAK3mkxIbteaiKR3+YtJFLiVdUtclSVJr/dmqeVcYHYI78H5HOa3+cvJlntj4BL+e/ZV39ryjnh8gx5hj7xC3nYG1B1LNsxoP1HngtsbP3Uk81ugxzbq92KyicjjqMO/ufZeJOyZq2l9o8QK9asrZoEvPLOXrY18DEJURZXWM7tW72zz2iAYjCjz3tdRrGi2w7LzsW9aaKw+EoSUQCO5JFKPqvkr3Adq36Pc7vm/1oLpdmE9rTdwpP9Qup2inNC8lmwytn07/xJ6bewA0b/1FRafTMaTeECsdKkVdXkERU60IeDt7s/HhjXzU+aPyHkqFpVWVVhrJBvNkgKKyNnwtb+58k6zcLKsXE4Ww4DA1oQJg4X8LORZzjKc3PQ3I38lHGjzCpHaTmNVjls1jVPOsxvLBy3mgzgM2tydkJageMsXjaykFYZSMxflotxVhaAkEgjIhz5hX3kNQyTBkaJTGwWRoWZbX6RPSx+4N/3aheB/23NhDbEasGjSsBMqbG1qKJhFgN9C5KCgPMEsc9Y7M7DaT2T1m3/KxywLhySoc85I5SvWB4jB592Q2XN7A7+d+1yjNm+Pt7K0xtNwc3ZhzfI66fjP9Ju+0f4dRjUbhoHewkghZ0HcBIGeUvtH2Dc025XdwPfW6WiKqUSXZeDT3mO27uY9Ov3Zi8anFxf6MtwNhaAkEglJFkiTe3/c+nZd1VmvklSdZuVn0Wt6LB/94kOTsZF7f/jr7I/erhpalgOOU9lM05UHKg3l95qnLu27sQkLCzdGNJpWaAKaYLIC0HHl6b3LYZLycb11+wZ6hNbrRaPqG9i12kL2g/OlZs6e6XFh8liXmWlUzDs/QiOGa4+3srYkNzMzN5EDkAXXdXJEfYHF/rTEUFhymLlt+f5VC1YpGXKBbILW8awFoAumf2fwMaYY05h6fW/gHKweEoSUQCEqVi0kXWX5+OWmGNKv07/IgPCmcNEMa19Ou03lZZzZd2cTTm55Ws9ZCvUPVvlXcq9gVdLydNK7UWB3XvBOy0dXQv6H6QLucfFkNOlZS5Wt41SjROe0ZWi+3fLlExxWUH/fXup8XW7zIF92/KPa+yvdOYcf1HTb7ebt4c3+t+21ua1ypMV92/1LT1sC/AdtGbCPQLdCqoLdep6dFQAsAmlZuSuPKch3Kk3EnAWge2FwV9FW8vObaXY76iimkcM8aWmlpaUydOpX+/fvj7++PTqdj0aJFRd4/KSmJZ555hoCAADw8POjRowdHjxZd90YguFsxl0hIzk4ux5HIWGboWWLu0Xq/U8Wptaa83Uely1MkYxqPURXqj8Uco++KvqwNX8u5xHOAfUOpqJir3/u7+qNDxyMNHrGbgSao+Oh1ep5t/ix9QvoUa78z8WeYf3K+pk2ZOpzWcRodgjvwSINHmNNrDi4OLvi5+vFhpw81/dsFtWPZoGV0rGYtFVHZrTJbhm/hzXZvWm1bPGAxBx87yC8Df7H6Ttf3q69WB1A8WmcTTKKnFbWsUsU0/24DcXFxvP/++9SsWZPmzZuzffv2Iu9rNBoZOHAgJ06cYOLEiVSuXJm5c+fSvXt3jhw5Qr169Qo/iEBwl2I+xWBPBPN2kpSdVOB2Pxc/WgS0IDojmlaBrW7PoIqAuVCqg86BjlU7amKz4jLjmLx7srpeUkOrU7VO/PDfDwA8ft/jDKg1QC1QLLi3KKjAeJsqbXi43sNW7ZYe1cJiwuzF2Ol1elUw1fL7F+IdQhWPfEMr36N1Memiuj0pOwmD0VDsadKy5p41tIKDg4mMjCQoKIjDhw/Ttm3RSzKsWLGCvXv3snz5coYNGwbAiBEjqF+/PlOnTuWXX34pq2ELBBWeO83QcnN0Y1H/RRglY4Xy3pgbWkEeQbg5ulHZ1X7NxVvJKjOndZXWjG40moSsBIbUHVLi4wnuPDIMGaTkpBCbaRKpDfYIJjI9Ul1Xpu4ssQxyL42KCuZq9SB7n9UA+bTrnE04S3hSuKZPQmaCaoxVFO5ZQ8vFxYWgINtfmMJYsWIFVapU4eGHTVZ9QEAAI0aM4OeffyY7OxsXF5cCjiAQ3L2YG1qKunmGIYPPD39O6yqtGVh74G0dT2HTl26ObjjoHXCgfAPgLTEPDFaMHlvFrae0n8IDdR4o8Vu8Xqe3OZUjuHd4bstzHI89rkp9hAWF0TywOd//+z0ge7PsidZaxkcVNmVfFCyLiNfyrqX5ng9fO9yqzwtbX2Bkw5EMqTekwkwlVoxR3GEcO3aMVq1aoddrL1+7du3IyMjg/PnzdvYUCMoHg9Fw27xL5obWvsh9pBvSmXdiHsvPL+etXW/ddtmHcwnn1OW6vnWZ31cbe+LiUDFfisyD8hXvgK1syBENRuDq6HrbxiW4ezkacxSjZFR/w52rdVZ15gAeafiI3X2re1XX/JaycrNKPB6dTqfRhnN3csfJwUnjLbMs43Mu8Rzv7XuP9ZfWl/j8pYUwtG6ByMhIgoODrdqVtps3bc9vZ2dnk5KSovknENwOPtr/ET1+78Hp+NNlep7M3Eyr+I72v7Tn17O/qut/R/xdpmMwx5BnYGPERnV9ZreZ1PTSyjlUVD2mofWGqsvm9QbNaVq56e0ajuAuR6mJaE6jSo3oWLUjld0q4+fiR+eqne3u7+LgwrYR29T10ipfNbvnbGp61eTjzh+rbcsGLrPSvzOv0QmoIr4VAWFo3QKZmZk2pwZdXV3V7baYPn06Pj4+6r8aNUqWji0QFIXUnFRWXliJUTKy+sLqEh/LUvhTYe+NvbRb2k4VFjTHvO3NXW/yf1v+T63jV9LxFDQ1GJ0RTa4xF2e9M/8+8S+1fWtrgnQX9ltY4jGUFcGeppc585iTz7p+Rk2vmrwT9g5f9fyqPIYmuAuZuneqVVuTyk1wc3Tj90G/s3zw8kK11LycvVjUfxGjGo7iySZPlsq4Gvo3ZP3D6xlcZ7DaVsO7Bk82NR0/0C3Q6gWqNGLESot7NkarJLi5uZGdbf0wycrKUrfbYtKkSfzvf/9T11NSUoSxJShTotKjePkfkw5SVt6tu/PjMuMYumYojnpH1g9ZbzVd9Uf4H+pyA78G1POrx7pL62wea8+NPYQnhVPXr26xx3Eu4Rw7r+/ksUaP0W9FP5wcnNgybIvNQHYliDfYM1j1XHk4efB8i+dBgjZBbYp9/tvJz/f/zA8nf2BCmwlq24BaAxhQa0A5jkpwt2E5nT+u8ThaBrZUA9yLU6y8dZXWqtBoWWKeZRvsGWwVv6jEh1YEhKF1CygZi5YobVWr2q435uLiIoLkBbeVl/95mTMJZ9R1c42r4rLs7DI1zuuJjU/w++DftR3MHFRD6w9lZMORvNjyRfqv7K+2v9TyJbXo7IWkC7dkaD2+8XEyczP56li+N8cAMZkxVPOsZtVX0aCyzJR6rvlzxT5vedA8oLnwWgnKHMs4p/+1+Z+dnhUHc0MryCNILc2jYK9kUHkgpg5vgRYtWnD06FGMRm0RywMHDuDu7k79+vXLaWQCgYmErASNkQWyoWVvyi4uM46/I/62G8RqHt91JuEMh6MOa6YElZv1K61e4ZEGctCsZZHj8U3Gq9o4FxIvFPMTySilc8xJyLQd6H8o6hAAIV4ht3QugeBe4Hrq9cI7VTAC3QPVZb1OT6eqnTTb47MqjkdLGFqFEBkZydmzZzEYTKmqw4YNIzo6mlWrTMGDcXFxLF++nMGDBwuvlaDcyTBk0Ge5tRp0Sk6K3ezDjw98zIQdE3ht+2uk5aRpYp+MkpF/4/7V9B/39zja/NyG5OxkJEniepp8s25TpY2aVm0ZaO6od2Rkw5FA6b5x2rup7ry+E4D+tfrb3C4QCLS/xa97fl2OIyk65lOFdX3r4unsyZZhW/ihryy6K6YOKwjffPMNSUlJapbg2rVruX5dfli89NJL+Pj4MGnSJBYvXszly5cJDQ0FZEOrffv2jBs3jtOnT6vK8Hl5eUybNq28Po5AoLL16lZyjLaD1i8lX7ISozwYeZDNVzYDsPvGbh5e8zBxmXHseGQHEhLHY47bDTpfemYpV1OvqoWOq3tV12x/qulTLDi5QJ2u83X1BSAxO7HYn8u80K05tm6qecY81ais5VOr2OcSCO4VFIHSAbUG0L1G9/IdTDHY8PAG1oavVWsmVvGogruTXMQ6zZBGVm5WhZA+uacNrc8//5wrV66o66tWrVK9VKNHj8bHx3YJAQcHBzZs2MDEiRP56quvyMzMpG3btixatIgGDRrclrELBAVRkIzD+L/H80CdB2jg14DhDYaTnZvNk5u0GUJKEPnYv8YSnhROfT95OrymV02upl7V9I3OiNZo1lgGpT7b7Fk6Vu2oBsgqys5JWUnF+kznEs4xbO0wm9viMuOQJImVF1byV8RfTGwzkQD3AKT8wLHCyoEIBPcyyouKLUHcikwNrxpyYosZnk6eOOudyTHmEJ8VbzN283ZzT08dRkREIEmSzX+K92rRokWadQU/Pz8WLFhAXFwc6enpbN++nTZtKnYGk+De4VT8Kc36ux3eJSw4TF1fE76GGYdn8N2J7zidYN8oO594njwpT431shUkm5Jt0oOzpcTs6uhK26C26jZFiLO4Hq3ZR2dr1ieHTSbUOxSAb45/Q7OfmjFt3zQORB5gwo4JJGbJx/d29q5wtc8EgoqEMnV4pxlattDpdOrnqCgB8fe0oSUQ3I1EpUdxPOa4pm14/eF0qdbFqu+Wq1s4Ey8bUUEeQbg7uhd47CaVmli1mWcyrn6gcJ0uxaOlGEJFxXzqckHfBYxsOJLX27xus29ESoQ6bVjSYssCwd2OMnV4txQRVwwte0K/txthaAkEdxlnE84iIeGsd6ZZ5WbM6TUHgFGNRln1vZJyhVlHZwHwaINHCy3GaktPJzxZLupaw6sGtX1rW223pLK7fBNMyUnhSsoVu/2Mkimr93DUYTUYf1aPWap3zrLorIKPi48q7WBeykYgEFijeH7ulkLiyn3MUraivBCGlkBwl6HEW3So2oGlA5fStXpXAJz0Tjzd9Gm7+zXyb1SomnJBRVqVabzC8Hb2Vsf0y5lfbPbZcW0HzX9qzof7P8QoGXl1+6vqNvPA9iB324Xhk7OTmbx7MiArSwsEAvvcqTFa9lAKTSsvW+WNMLQEgruI6PRoZh6ZCdi+af5f8/9jVo9ZdKvezWpbk4AmvNb6NU1bA78GVllIbo5y5YMH6zyoaa/rW3Tx0VENZe/aXxF/2dz+xs43APjt3G/8+N+P6rRhiHcINbxM1RQsiyz7u/pbTRX2rtm7yOMSCO41DHkGNV7ybpk6VASKK4qhdU9nHQoEdxOSJDFp9yRSc1IB29MAzg7O9KrZi+7Vu9P659bkSXLpjUX9F+Ht7E3rKq3ZNmIbPi4+5Bpz0aEjLjOOuIw4xjQeA8Dvg37nROwJGvg34M/wP9VjWyozF0TTALkYckJWAhmGDDUlWyEjN0NdVoLgq3lWY90Q2yV9FJYNXMabu97UaIU1qWwdVyYQCGTe2vUWAI46x7smO7eqpyyU/FfEX/Sv1Z9eNXuV63iER0sguENZG76WVRdMormrLqxSldABtU6ZLRz0DjjoTN6gppWbqsuV3SrjpHfCzdENV0dXqntV59dBv6qin6E+oTxY90HN8YfVH0bvkKJ7jrydvfFy9gJMUhIKih6XJbV9bMd/ze4xm1aBrdjw8AaCPYMJ8daqwFsacQKBQCY+M55NVzYBsphwQaEBdxKKHA3Aq9teLb+B5HN3XFWB4B4j3ZDO5N2Tmbp3qqpHNePwDE2ffqH9inw8ZwfnYo/B08lTXX699evFllBQ9G0sA+JPxp4E5KlI85gxy3qFCj1r9mTxgMXqlGJNr5rqtt8H/W5zH4FAoJU/ME8+udMxDy8AWHxqcTmNREYYWgLBHchfl02xTco0meIuB9j96O5Chfre7/Q+UDyDzBw/Vz9ea/0a74S9g6ezZ+E7WNC4UmMAVl/QSkJcSr4EyMH5LQNbqu1KgGuhx63cWF0uznSmQHCvYZ6VZ+TuMbT0Oj3PNzcJmdorO3a7EDFaAsEdxu/nfueD/R+o6/FZ8Vy+clkt0tymSpsixVoMrD2QOr51SqScPL7J+Fved0zjMay8sJKdN3YSkxGjFolVphKrelbF22DyaBUmPaHQIbgDL7Z40WoKUSAQaDHXmWoR0KL8BlIGPNv8WRacXECOMYcH6z5Y+A5liDC0BII7hJiMGP65+g9fHf1K0/7P1X/4+czP6vorrV4p8jHLU/qglk8tGvk34kzCGU7GnqRXiBywejNdrj1a1bOqGtgPFNkg1Ol0PNv82dIfsEBwl2Hu0fqo80flOJLSR6/Ts2zQMrJys+zGd94uhKElENwhfHfiO34/bx1zZG5kgf1YpopIqHcoZxLOcC31mtp2LUVeDvYIJis3S20X2YMCQelyPfU6IL+cmYce3C3YEzS+3YgYLYHgDuFi0kV12cPJg8fve9xmvzvJ0KruVR2QjcVey3vxw8kfuJp6FUedI/dVuo8+IX3wcvbiwToPqvpdAoGgdFAKxFsGjwtKF+HREgjuQN4Oe5vmAc1ZdnYZBqNBbV/5wMpyHFXxCfUJBUxTGEo5oFZVWqlxZnse3YOEVB7DEwjuahRPsnmmrqD0ER4tgeAOICErQa0p+F2f7xhcZzA1vWvy50N/qirrD9Z5UKMfcyfQrXo3m7IQ5mr0Op3urtH3EQjKk6+Pfc1nhz5DkiTSctLUbDzh0SpbhEdLIKjgRKZFMmj1IHKMOQAabakaXjWYFDaJZ5o9g6+LbzmN8NbxcfHBy9lLveHX9a1LQ/+GDK8/vJxHJhDcXWQYMvj+3+8BeKTBI2QY5OoL/q7+tyTPIig6wtASCCo4m65sUo0sQFVUN8dWuZ07BUkyTQuufnB1AT0FgoqDJEmkGdJs/h4rIlEZprp/V1KuqIkmwptV9gh/vEBQwTHXugHbhtadzN0klCi4d/j62Nd0XdaVrVe2lvdQioR5geXwpHDOJpwF7Je2EpQewtASCCo48VnxmnUvp7vL0DL3aAkEFZld13cx78Q8jJKRBScXkCvl8ur2V++I73B0ukkz63D0YeafnA9As4Bm5TWkewYxdSgQVHAsy0c4ORSvpmBF5054SAkEkiTx/Fa5rEsdnzoEuAUQkykXQD+feJ4G/g3Kc3iFYq5Vt/P6TnW5fXD78hjOPYXwaAkEFZz4zPjCO93BdK7eGYDqntXLeSQCgX2up11Xl1/f8bpqZAFcSLpQHkMCICcvh6+OfsXbu9/WTA9aci7xnFXbxDYTVS07QdkhPFoCQQUmNiNWLbJ8t/J22NvU8anDoDqDynsoAoFNjJKR57Y8Z3e7Mi1nlIysOL+C5gHNy8zDFZkWyccHP2Zc43G0qtKK3879pk4DxmfF823vb23up8RkmSN+c7cH4dESCCowu27s0giSDq03tBxHUzb4uPjwbPNnS1TcWiAoS/ZH7udKyhW72xVP0trwtXyw/wOGrR12S+f59OCnPLflOQx5pt/8jbQb/HDyB34+LZfa+ub4N2y/tp0xf43BkGfQjGvPjT02j5uQlUBMhuyBe631awC0C2qHv6v/LY1TUDyER0sgqMBEpEQAMKz+MPqE9KF1ldblOyCB4B4kOTu5wO2R6ZEA7Llp29ApCnGZcWrd0nF/j+Ohug8R4BbAi/+8qPZpXLkxa8LXqOsfHfgIo2TK2r2v0n2aY6blpOHh5MG5BHnasKZXTcY3Gc+g2oPwdBLaWbcLYWgJBBUQQ56BsX+P5d/YfwGo51uPjlU7lvOoBIJ7E1uGlpujG++0f4e3d7/Njus7WBu+Vi3SfCscjjqsLp+IPcGJ2BNWHqexf43VrK+8oC25lZaTpi5vvLyRN3a+wfsd31e94rV8agEQ6B54y+MUFB8xdSgQVDA+P/Q5Yb+EqUYWmGoCCgSC209cZhwAwR7Batt3fb5jcO3BhAWFATB592ROxp1Utx+LOVascyhTe+ZYZhybe69scTX1Kr+d/Q2D0cAbO98A4N2975KUnQQgpgrLCWFoCQQViAxDBotPL9bEZQGEeoeWz4AEAoFqaD1c72Eea/QYnat1plnlZuh0Omb3nG1znyc2PlGscyTnFDw9ac7/Wv+Pym6VbW778MCHPLb+MU1bYlYiAH6ufsUak6B0EIaWQFCBuJx82WZ7kEfQbR6JQCBQUAwVf1d/3mr3FvN6z8NB7wCAh5MHSwYsKfE5UrJTity3aeWmrBuyjpaBLW1uP5NwRrMeniQXpPdzEYZWeSAMLYGgAnEx6aLNdr1O/FQFgvIi1ZAK2C9/1SKwBVM7TLXeLydVs77+0nr+ivjL5jFScmRDa2KbiYxuNNpqu7ujO3qdnmaVm9GqSis8nDyo4l5F3f5Kq1fsjv9I9BFAeLTKCxEMLxBUIG6m37Rq83b2LoeRCAQCBSXIvKA6o4NqD2L7te3suL5DbbucfFktcROTEcNbu94CZBHixxppp/eUqUNvF2+NQRTsEcyYxmMYUGsAaTlp+Lv6qy9ens6mzMF+of0Y3Wg0PX7vQZpBHm+rwFYcjTmqFqUXhlb5IF6TBYIKhK2AWHFzFAjKF8UzVZAkgqujK9/0+oaTY06qAfLmYsNn4k3TeZ8c/MSq9FRqtnwOH2cfOlTtoBp1Q+sN5bFGj+Hv6k9N75oa48rFwUVd9nHxwdXRVSOU2qtmL805lKxDwe1FGFoCQQUh15jLivMrrNot33wFAsHtpbCpQ0sUg8Y85vJU/ClNH0vJCCUz0MfFh8pulVn1wCq+6/0dzzR7xu55zLMQFSPQvOj8Q/Ue0vQXZa7KB2FoCQQVhJ9O/6Quezh50KlaJ+b2mssjDR4px1EJBPc2kiSpU4dFFfms7Vsb0Hq0TsSe0PSJytDWJYzNjAVQswmDPILoWK0jOp3O7nnMDS1lOvHlVi/jpHdidKPReDt70zaoLQBP3PdEgccSlB0iRksgqADkGnNZctqUubR52OYivz0LBIKyIzM3kzwpDyi+R2v7te0cjjqMi4MLe2/u1fSJTIukoX9DQJZ1yczNBLAr22ALy+lHgHp+9dgzcg+uDq4ATOs4jQORB3iw7oNFPq6gdBEeLYGgAvBf3H/EZcbh6+LL0dFHhZElEFQQlCk+B50Dbo5uRdqntk9tdXnBfws4HH3Yqs+BqANk52UDcDDqIACOOkfcndyLPLa2wW1ttrs5uqneqxpeNRhWfxhOeqciH1dQutyzhlZ2djZvvvkmVatWxc3NjbCwMDZv3lzofu+99x46nc7qn6ur620YteBuRYnlaOTfCCcHcUMUCCoCkiQxdI1cyL2aZ7UiT70FuAWYHcQUfzW60WhVumHpmaVM2jUJgIk7JgKQK+UWa3z9Qvoxo+sMNjy8oVj7CW4v9+zU4dixY1mxYgWvvvoq9erVY9GiRdx///1s27aNzp07F7r/vHnz8PQ0zdc7ODiU5XAFdzmXU2RDS5TaEQgqDqmGVDUQvqpn1SLvp9PpmNd7Hs9teY6YzBiqZMt6V36ufuqUHsDmK5u5kHiBrLwsANpUaVOs8el0OvrX6l+sfQS3n3vS0Dp48CDLli1jxowZTJgwAYAnnniCJk2a8MYbb7B3795CjgDDhg2jcuWiz6ULBObcSLvB4ajDDKo9CAe9A+cTzwMi/VogqEjEZsSqywUJgtpCMcwuJF7gQuIFAHxdfPF18dX0e3jNwwA46Z34od8PJRitoKJyT04drlixAgcHB555xpQ26+rqypNPPsm+ffu4du1aoceQJImUlBSbwYgCQUFk5mYyZc8U3tnzDl8e+ZI8Yx4nYuSMpOYBzct5dAKBQEHRtavrW5cmlZsUa1/zAtQKvi6+Gp0rc/qH9hcVIO5S7sm/6rFjx6hfvz7e3lrF7Xbt2gFw/PjxQo9Ru3ZtfHx88PLyYvTo0URHR5fFUAV3GVHpUQxaPYhDUYcAWHx6MZeTL5NmSMPVwZX6fvXLeYQCgQAgJy+HL498CRQvE1DBzdENf1d/TZuviy8h3iHU8alj1V+RYRDcfdyTU4eRkZEEB1u/bShtN29al0FR8PPz48UXX6RDhw64uLiwa9cu5syZw8GDBzl8+LCV8WZOdnY22dnZ6npKStGLiAruDlacX2Gl/j7zyExAnmpw1N+TP0mBoMKx9MxStThzoHtg8XaOuwh+Ifi7+pOQlaA2K96sn+7/iWPRx3jxnxfVbQHuAVaHEdwd3JN39czMTFxcXKzalczBzMxMu/u+8op2nn7o0KG0a9eOxx57jLlz5/LWW2/Z3Xf69OlMmzbtFkctuBu4mWZtxO++sRvQltMQCATly56be9Rlc7mGQjn3F/z6CNTphW8lU8LU7B6z8XHxAeT6pR2rddTsditeM8GdwT05dejm5qbxLClkZWWp24vDqFGjCAoKYsuWLQX2mzRpEsnJyeq/osSCCe4OsvOyicuMIybTupahQkqO8HAKBBUFc92pQjMOjSaFdnZ9Lv8fvpVpZw8S4lWDkfWG0fPaSYgP1xzfXJdLGFp3L/ekoRUcHExkZKRVu9JWtWrR03gVatSoQUJCQoF9XFxc8Pb21vwT3J1cSbnCsDXD+PXsr0iSxJTdU+izog8HIg8AsKDvAkY1HKXZ56129r2hAoHg9hKfGa8ud6nWxX7Hawfh01A4vFBeNyuLUzMlinUt3mTy+UOw+V3Ymj+jcfUA7PycPGOe2tfPRRSPv1u5J6cOW7RowbZt20hJSdEYOwcOHFC3FwdJkoiIiKBly5alOUzBHYokSQz5cwgGo4GPD3xMuiGdjREbNX0C3AM0Hqyjjx8Vys0CQQUiPks2tJYNXIancwE1DpcOh+xkWPcqtB4LZsYTAPu+gYhd8vLpP+X/f+wLQE6tmmo3B73QYrxbuSc9WsOGDSMvL4/vv/9ebcvOzmbhwoWEhYVRo0YNAK5evcrZs2c1+8bGxmLJvHnziI2NpX9/IRwngOOxxzEYDer67KOzNduruFehhmcNjWaWMLIEgoqDJElq6R1fV1/7Ha/sg6wk0/o0P4g8ru1zYZN2Pc+A4N7invRohYWFMXz4cCZNmkRMTAx169Zl8eLFRERE8MMPJsG4J554gh07dmi0skJCQnjkkUdo2rQprq6u7N69m2XLltGiRQueffbZ8vg4ggrG0eijdrd1qdaF19u8jpODE6MbjSYzN5M+IX1u4+gEAkFhZOZmqnUILQVGNfzzoUWDma6iV1VItZHBHv5PiccnuLO4Jw0tgJ9++okpU6awZMkSEhMTadasGevWraNr164F7vfYY4+xd+9eVq5cSVZWFiEhIbzxxhu8/fbbuLsXvRio4O5k6ZmlzDo6C4A+IX3YfMVUP/O9Du8xtP5Qdd3dyb3YatMCgaDsUbKDnfROuDta3NeNRki8DO7+kJVs+wDdJ0G3N+Hr1pAQrt228Y0yGLGgInPPGlqurq7MmDGDGTNm2O2zfft2q7b58+eX4agEdzrrwtepy9U9q9MhuAP7IvcB0LKKiOETCCokF7bA+Y3Q9yNwcuWtXXJiisFosC4k/d9KWPVUwcdr/zzodOBT3WRouVeGjDhIjFC7/V9iMt/6+fBsMzEbcjdzT8ZoCQRlRWauSYMtIzeDaR3lLKNAt0BqeYs6hgJBhWTpUDi0APZ9DcC5xHP2++6aaX+bRwA8PB9c85OsfGqYtg1dAKHa7MXnkpJZdT2S55s+g+Du5Z71aAkEZUFURpS6/GiDRwn2DObPh/7E3dHd+s1YIBBULK4fBsDTyZM0QxrvhL1j3Se4OcSe0bbpneDlo+BbU9vubSYVVKku1O1lykBE9nTUMxgg+RpUsi7LI7g7EB4tgaCUSM1JJd2QDsDuR3dT168uIKtKB3kElefQBAKBPXJzTMvpsWTnZZNmSAOgX2g/6/7GXO16SGd445K1kQXgZCZ+7RUEVc3CBzq9alpOsV/2TXDnIwwtgaCUUGqauTu647NpqlyKQyAQVGzSok3LUf8Rk3QZAGe9s1oyR0OObITR8nF4Yg2MXmGaKrTEvZJp2cEJarSHwMbyet1eUKubvCwMrbsaMXUoEJQSKdmyAKm33gmOLJT/TQwHD1FaQyCosCRdNS3nZRN5Va49GuwZbHu6PztV/r9OT6jdreBjNxsBZ9ZArfxsdidXeGa7bNz51oDjv8jtKTdK9hkEFRrh0RIISglF6d1bZyY+evNYOY1GIBCo7P4Slo+FvFzrbZe2a1avx50G5KxhmyiGlotX4ed1coPRK6GTmYyLo7NsZIFputFSAkJwVyEMLYGglFAMLZ+k62aNZfCmmpsDR3/SvokLBALbGI2w5T04tdq2WOiNI/L/Th4AXMufOqzuZcfQUqYOi2JoFUaV/GnE/1ZD7PmSH09QIRGGlkBQSiglO7yNpqKyZRJ7cWgBrHkJ5nUu/WMLBHcb5urs2Sk2tudnCtfuhgTszpRflEK9Q20fT/FoFVT/sKgENZX/N6TDnLZweVfB/QV3JMLQEghKQvg2iJanGtSpQ42hVQYerQg5hoRsO6rUAkEFIDYjlql7p/J3xN+3fIz4zHii0qMK71jgQcym5VY+aV30OTVS/j+oGbEODpyVstChY2DtgdbHkiSTGry9APji4F8bfENM64eEIPbdiDC0BIJb5b+VsOQhmNeBZYe/5utjstihxtBKvFL65/WqYlrOTiv949/t5ObAwvth8WB5WklQ6qTlpNFzeU9WXVjFhB0TbukYkiQxav0o+q3sp2b0FsSpuFNcS7lmvSHZos1MmZ3cbMjMP3ZQU2IdHAAIcPbGz8kLzqw1ebwA0mIgLwfQgWcpSbZ0eMG0XBrTkYIKhzC0BIJb5fBCAHKBj059rzb75Zm9McdYCBuWBjqzn+2VPRD1HyRcKv3z3K2c/lO+bpd3Wj+EBaXC2YSzmnWD0VDoPqsvrGbKnilqncHI9Ehupt/EKBk5GHUQo2TfKN58ZTOPrn+Upzc/bb0xM1G7fmqVaVkxohycoXI94hzk31bl1Bj4oBL8Nhr+miT32TINZtaXlz0D5aD20qCWWeaiMi0puKsQhta9QtJViDpZ3qO4e5AkiJXLdFx2ctJs8s8zeyBkxEF6XOmdNz1OjtFS2PYRfNcV5oSpqtaCQrhhdp0SL5ffOO5i4rK03/mYjJgC+19MvMi7e9/lj4t/0G9lPzIMGZxLMJXBmbRzEl2WdeF8ou2A8eXnlgNwI+0GXxz+guMxx00bLQ2tfz4EQ1b+tnxvlntl8Agg1jHfo2X+G1YMs91fmNrMtbdKSmBD6CbXVuT0n3BmXcH9BXccwtC6F5AkmNUUvu0MydcL73+vkpsNe79RDagCSbkB6fLD46yz1tCqlJcHLx8Dj0C5QYkBKQ1WWdREizwBUp48nbFnVumd527GfOpIeALLhMg07Xe+sDirQ9GHNOvHY4/z2/nf1PVcKZeUnBSmH5huc//4rHh1eeGphTy+8XHTxswk6x2uH8zflm+EufmBqy9x+VOHlc290s6ekGphWNXtXeDnKTZhZkWlf3vMFAcmuCsQhta9QJzZW2D0KdtaMncBl+PSuRKffusHOLwQNr0Nc9oV3vf0GnUxwpZHy7s6uPvLDRmFx5cUmYIMg6sHSu88dzMJZl4sIZFRJijTfwqR6QW/bMRnxmvW5xybw54be6z6KSWuzMkz5nEt1XoKOCcvh2sp10hQvGn3PWTaeG4jXDsEyfnJKm5+oNdzo+EAAILMtbxz0uDHvtqDD/6qwM9TbNz9ofP/TOvXDpbu8QXlijC07gUu7TAtb3wDPgrStt0FvLD0KD0+3063Gdu5HHeLxtbNo6blgoKkEy7DlqkAZLcey1YPN81mf2OeHL/hlm9oxZy+tfFYkp2mTU9vPU67PT1GDtYV2MdohCSzBIXUEma0CWxiaVhN2jXJypiKTIvkaops6CoeqUb+jQD4N+5fm8fNzstWl9Ny0jgUdYiVF1aSmZtp1ffviL+5f/X9PJ+Ub7TU7w+P5iux758LP/SGNS/K626+AFyV5OOHNButjZ0y94I+tRV8qtn+4CWh91RoPlJe/m00/Lu89M8hKBeEoXUvcH6jaTkxAowG+PXRchtOaSNJEutPmm7sa0/Y166Ki4nk53+OkpxhIzjX1ayuWXQB8Wxn18tTdT41meyaQ7izNig2IDd/2sElX2fnr7dgbseSTVMZsuDr1pCR/7AatxH6T5cL2jYdAZUbyO1XrL0AAjPSoiE3y7R+46j9voJb5ma6/Bts6N9QbZt+0DTtZ8gzMGrDKIavHU5cZhwnY+Xf28DaA9FhKntTz6+e5rjmhtaL/7zI+L/H88H+D2yO4cP9HwJwysVFbnDxgmqtbfZNcPXEYDQQkRIBQEjj4TBmjc2+VG9ju700CLxP/j83C1Y9BXmFJxEIKj7C0LoXiDlr3WbIuGtS2zNytLo4NxIzkSTJuqMxj8pzGzJ6Zw+mrLQROK4oRAMc+M7+CfNjs2g0iE03d2s2TYlLQJ1INBcrjTkFx3+V4+VuhYRwSDPzvgQ3l8t7jFsPQ+dD/fypjQubCz7O4R/h77ettYTuFSyD3+POyWrhabGQVEoZiCdXmGrY3aMoMVrmRZljM2LV5WMxx4jLjCMjN4Nvjn3DuUQ5LrK6Z3UkTL+RdkHaafysfCP5UvIljkQfoSAycjPUZQNA7e7gWQUcXbVjdXCgV/I+Hv7zYVVGIsgjX7rhtVPagw6eXeA5S4xnFe16/MWyPZ/gtiAMrbudvFztA9qc9/3gYAECedePwKZ3bBtqdsgy5DH1z/94/fcTZOfenod5apY25uy3w9d4Y4WNqQezoNjjp81kF3IyYN9craF1Zq2st2SL/CxCg6u/pvno5auMSDXTtTL3nADs/Aw+rlbwNbeHZZaTs4d2vWor+X9bXrOIPfDzUDkeZd1rsO8bOP1H8cdwN6DomvnUMLVtmw5z28PcDiWPp0uPk0Ux/3iubDTU7gASsxJJM8i/gxdamDSiErNN2X/mRtLKCyvV5fp+9elW3TRld3+t+zXHTs1JxSgZmbRrUrHGtK3Ha6y+ulk24by0+lfnnJ3JRVK9WQBezvl6Vt4WU4QtRhfrvMXGM1C7LjLF7wqEoXW3c20/FKA/w4YJplRnS5YOg71fw/rXNc1RyVkcvJxAbGq21S57w+NYvO8KK49eZ/u5WKvtZUFKlpl7XZeN3vUqy49YeCckCf5boa76YaZXs3Ei/G1x485Ogcs7ICcdSZI4djWRLEOerIt1fCkAq69kaHZxqt9fXmj0gPz//Z+Diw90Mbt+hnT5mheHG0dgyRDTekAj6z4++XXZkq9DSiQc+gEubpXbFt0PF7fIRpZCxG7rY9wLKC8doZ0hqJm8fP2gLMORkwqf1YI/XrC/f2GYFyj+7bFbP84dzJUU2cAM9gimZWBL5vaaC0BcpknywVJnC6BlYEtqeNdgQpsJvNzyZfaN3Md9le7DzdEUA5ljzOG/uP84HW8d9/hwvYftjun1iJW8u/ddtlzdAs0eIc/Bme98vfmwkh/XnBw1fd0c3XDS5/uldTrtgRy0fUsdS0PrxDL53nXtkChQfwcjDK27nRXjrdv8amnXv+1kWyhP0ZgxCxKPT8um4ydbGfHdPtp+tIXriRmM+HYffx6Xs3eiU0zG1383bk+KcqqZoeVWfSketebi6H1CO314apWcCJBPJZ1ZUPmxn03LvaZCzQ7y8tJhsORhJq/+jyFz97Lxj19kz0c+f1xJUpfn9JwDD82DQbPgAVkhnjo94K0r0H1yyT7gxje16+M2WPdR3ryTr8EXDWH9/+Dnh+HCFlOfyBOm5Yrmbbl2CBY/UPZv8Gn5xr9HAIz6zXaf4z/f+rT6oR9My1EnSzfj9A7hcrI8PRviLZeWaRYgG7SpOakcjzlOnjGP/+L+s9pPiecK9Qnl6WZP4+nsiaPekSUDljC49mC1n2JkVXarzLKBy9T2QbUH8fP9P/N+x/ftjm3j5Y3QYzKbRy/hGz9ffvP24rNKfpo+Xk4W6uxD8sMIhi8qwqcvBjnp1hp7llOH4Vthmq8cuL9o0F2bMX63Iwytux1lyskrGJoOhwYDoblFIHz8RfjzRbsZWHlGI5IkkZ2bx7adO9ns9DoP6mWPyENz9nAwIoFXlh2XD5VmMrT+vV46htbV+AzORdlXTE7Jnzqs4u2Co6csZeHst5dfTq/g17O/yl4eC4Ozss7O2BoPgUAzj9G1/fx68CrVdbEMPPWqpmu0o/wwzssIoZ53WzlFu804NYMJkN+IHRzl629O3AX7H9iSdDPP4PDFJtkIc7yCQG/jbXuVmVK2+RTybRTqXLDrEgt2FZAIkHxDfpBc3gG/PW6/X2mgxNd5Bsp/E7MYIg3ftCm6kZSTDquehW/awtW92m2n/7znvIf7I/cD0MBPTtDwdjbVBPz5zM/surGLmMwYTfwWQK7RthHRwL8BH3f5WI3XOpMgT/t7OXvRuHJjavnUwsPJg4b+DWke0JweNXrYHdt/cf8hSRInYk/Y7ePkoJVrofmjMCVOvjeUJr88AjPqwIHvwZCfNeleSdboCukMrcZo++ekQVZS6Y5BcFsQhtbdjiIxMHolDF0AI3+B4BbW/U7/IacUK5i9OeXm5vHpX+do8+EWQvZPpo4+ktnO+dMBado4JvP1kzeSbQelFwNJkug6Yxv9Zu2k86f/cCnWurZfSqbs0apV2RS35OB+lU8Ov8/HBz4m5qB1YHsP/XEkxbA0j9fxryWngZvxsH4nu11ewRntg+CGo3xDNhr86DD9n4I1vEavlL1dCt+0KVpAutEoTwUCDPoSGj9ku5/eAZoMM617VZVL9WTaMRYSr9yWjKaE9BwWbdjJwvU7Sc60c74f+5mN67Kscp9SsO7SLaPIX3gEyEawLaMV5OSDz2rJ5Y0KY/O78O8yrV6dMn287lVYNBBuHi/JqCsUMRkxmsB2o2TkQuIFtUSOYmj1DpFFPXU6HT1r9ARkBfifz8ge5EG1B2mOa55RaIvqXvL0+Jl42dBSDLjfB/3OXw//pcZV+br68miDR+ksuVodIzI9kh6/9+BCkvyiM6DWAKs+N9JsFIK3NL5KwoXN8OsoiNglr2+cCFvzvXA6nXyvGLceHvgK+n0M9cx+H5Yq94I7AmFo3c2k3DQ9aM09KnV72za2rh+SA9/3zNboxugw8u2OcFKzcvHBtjHh5SJ7U+LMPFoJ6TlEpWjjvyKTM5m/85Ic71QEzB/O1xMz+XC9de1AJRjezcX2jfpGurXcwwCHQ+hmNoDV/ydnYAKM/1v+v25vaPWE2vcL52+1O1dvy6kOXyI5y14xo0Geevh2R7j9D1Klsezt0gy8CBpOadGQly0bTS0L8fZ0eN60/H+7tTpAlkh5t+WmfSM2gd0ur7DH9RUGf7nV2vDOzbGuNxh7VlvupDRJN5s6BOj/ifx/lSa2++/NnwaOuyB7fa/u126/vEtbEkmhRphFv53FG2duToXMDM3Oy6bX8l70XN5TrV+47OwyHl7zMAtOLkCSJJKz5d9FVc+q6n7jm8oe5fDkcA5EysK6/UP7E+hmikka19ji92FBdc98Q8vMowXg6uiKr6uvpu/b7d9mXqYzrbKs40/js+LVMTzZ5EmrzMYyZ+kwOLde27Z/LqTHW/ft8AI89jv4ytOwwtC6MymRoZWXl0dkZCTh4eGkpKQUvoPg9rLmJdOy+Y3IwRHG/wXV8vVgzKvQzw2T39B/elBtctbl4ZTvzTHa+cp4u8lvfFcTtAHi8RYerzdW/MtHG87w/NKi6RfFWATcp2dbTy8ohpaDi23vzdlI2/XRADjxq0mbSglE1TuY4qxsII3fxH/+vdE5yt95ySBPgfx68JptfS57FKWgsaJc7l298LfqoGZyzbReU8Gjkmzc2UIJLr4NZT4SrpvS0x1Sr7PjvNk06NEl8IWNwH6wztgsDYxG0wuE8uBq0B9ePCzrktXuLreZJxsoJasWPwDHlsCmKdrjLdZ6ZVRCOmrXi5OmHx8O06tZx+ZVAMxL6yRmyQ99RR/r62Nfk5mbSZ4kG4ieTp5q3xCvEM1xRtQfQYvAFvzQ7weebvo0Ox7ZQV2/ugWeW4n5UlAzA+2QnhzHrGhTDNSw+sM02ztW7UgD/wbM7T2XXwf+qgbTN63ctMDjlghb5YAUZtS2H/CuhCMUtL+gwlJsQys9PZ358+fTq1cvvL29qV69OvXr18fPz486derw3HPPceRIwfomgtvERbNAaL3Fn9rJDUb9Dj2nwDPbrEtKpGhrInohG1AODqbj7J/Uix8fbw5ApiGP6JQs/r2ejE4H3q6yhyvFYrpo1wX5xvfP2aIpmEdbeMSyck1Byr8fusbE96ay7m9ZkNXoaPuYV/LfAmfnDiFF74PRTBDxnJMTRxRBQzc/W7urfJs7iO7ZM5n8xynWn4xC7yBPY0p5pgfKzguFZFr2nmZaLopu0978v4t/aOF9dTroMQm65JfyUKavLPHM9+bY8sTcKpH/2oxpSo82GRg1dDH8cSx/Wib5uqzKnWGn4Laj9bRPiUmNlL2XekfwM3toV64Hrt7wxJ/wXjK8sB/G5nsckq9CVgqk5ntFrx80fU5707Iu3lCtlRxPp8gBpFh7Ve1y/BdZEPfQfIgupaoCpUR0hklmRDG0nPUmwd6rqfKLgYPOQZMt6OvqS/OA5ur6uCay9yrUJ5SXW72Mv6udKVwz2gW1Q68z3X/MY79UTq2G35+AK3vxyIrCz2jE0SiPw1Iq4vU2cjawi4MLTSo34a12b/Fm2zeZ2W1moWO5ZWILkcr5byXEXYT1E0zlgcB0bxIerTuSYhlan3/+OSEhISxatIhevXqxevVqjh8/zrlz59i3bx9TpkzBYDDQt29f+vXrx7lzRSjOKygbMhPl6SaAJ+2IWHpUgq4TwLuqKdPODi91qMS7fapTTzJlqwUd+oTuq1vTWBdBenYu1/K9WTX83KlXRX7b1EgvANV8TTdfo7Hw+K2Dl+WHmWK4XYpNU6efog6tZAazWO/yNgA5umibx4hzlsewMS+MlT2308N9FQDRDg48XrUK44MDiXB0tA6MbmmKWcvS6fgkdxQRUjC/HrzKzvOx6BzzDa1ck6GVbWYI2qTjSxCY72kyLwVji+jTcHadvFzfOpakUGqGwTsx8PQ2uM/koVTjnw58WzpxWpH/wnddtLFW+eTFm4Lua+hiOXolUT6n5QOn6xvadVuB/SVFiaHyCy3cO6hMtSddhS3vabf9+5uccr/jM2171Vby3/fpbfJ644egfv41yS6Gx9/FzFNjee5yxry0jqKL5eZk+k3/fFqOv/J09kRnIY3wcsuX1eVgD4vkkCLg6+pL1+pdTesuvqaNeQb5e7h8rJyAsND0e2lpmMiCvgtoG9RWNfDeCXuH+n71Ncd3c3Rj9H2jCfYs/tiKxNX9soadOe6VtOupUbBslGxkLx9rNjjF0Lr3sljvBoplaP3333/s3buXPXv2MHnyZPr27UvTpk2pW7cu7dq1Y+zYsSxYsICoqCgeeeQRDhwQRW7LjcM/yvpZfrWgetvC+/uFgs7B7uZxTZwY72nx99z9JfrcLJ5z/JPsXKMaT+Xl6qgaRkkZBk1cjouT6SuXmGFHEDQfSZJYcUT2rI1oUwNnBz2pWblcT8wEYx7PxJpKejiQR4akDaA25vgCcMFFvuHHS1481j4Ubzf5DXyLhxuZej1GnY6NrYdae/0GfMZ2j/7sdHOlbWgNnPy05W10jnImpNHM0LqZZF1zTYPeARrlTzcVNnVonhnY6haz8RxdZO9Kl3ztrvsekkswKcQXEFdWVM7nx7bFnZdjmsykQiSzTMcauhimZEyXpwstskBPVX1Y64HbP7f0pRGu51cDUPSzCsLbFF/E4R+0285tkKfWzZMsXjsle4b7fgiVzabAXPO9LtcOwLr/USTMH6apxfCE3QY0hlZWIusvrVdjsgCOxsghAebThgptg9oyquEoJodNxkFv/15TEA/XNWllKcHxAOyeJRv7NgiuVIewYDlm7sUWL7Kw93IWbAhi9pZiZP6WFEmSX0TOrM0fVHPo8XZ+3cSapn6x5+RqBSB7TxW88r+P5jUXBXcMxTK0Fi1aRP369Qvt5+TkxPjx43niiScK7SsoI5SpisZDrEX3bOHoDEEFxCYkXZUFHW2QKclTb4qAqYeLoxqz9daqk4ycbwogzjQrl2MZKG/JjaRMIpPlPi/1rEeDIPlN/78byZBwCVfJtP9Ih39IydUaWtkxAwG47OTI716euNbbztObx3HZ8Qv2GesT6Wjymlw2Wo/l4I1sxsY/zps+cpq6a9BaHNzyjR99Fjq9bLBIeSYPxI3EQgwtMGU5FjZ1qEwT1O2j9XLcCsHN4H9n5cxTc2JO2e5fHFLMpjg2vSMrredjzDR5cprqLtNHd1AOSLeID7uY6SlnWZmjePNuFUnCkHiFVMWbdP2Q/H/N9vb3UXByg+oWQdJKuv3lnbIUhUJIZ5NgrCUuZtNbh38omvForq1UWmWBSomodJPhnJiVyFu73tJsv5Yqj9dW/JROp2NS2CRGNhx5y+ev4WXKEK7maabavu1Dm/2fzXmVXMn0O3d2cObAeUcuxKTx5ZbzXE/MsLmfgiRJXIlPL5L3vUDSLUIK2j4N3d6Qs5xfPATP5idLRFlUtNg1U/ZqBuTXjCxKFqygwlEsQ2vcuHFkZsoPkps3K9ablsACxatgrulUGJb6WsBBp/yHTdJVSLU9Neeukw0sxdDycnHE29U0NbP/UoI6rWieRWgZf2XJyiPyA7xxVW983J2oFyi/JV+KS7cqSfO+00ISc2Tv10sNvyL98ovkpjZFn+uGpNPxQWV/khwPcDTmKDr3CzxX04Ed+lDTWAzWshFfbj4P6Egymtz7Dp7ylJeDq3wuN30lMLqo228mF8HQ8s1/WBTm0VIMrUJix4qMd7D1lFlxYodscWk7HF2sbds/B4A8o6TxbnVysG/U5Rp18ufs8KJZoykRQpIkcnfPKvpUmiGTxPnduH9Vf/r81k2OJ1K+M36hRTtGv4/MVnSmaUBL6vWxfwxXi+no6FNwZR8ACw5+zq8b/s/a+DI3tLKSbIsJlxPmhtbFJFP8nXnxaLDt0SoNzL1Y5lmNtvgm90H+NrYjwyzDOTE9hxl/m0JalJhRe2z8L4puM7bz+aZbCIORJNlDlZMBC3prt7UYZVp2ctVKzJiz9X3Y/aUsNwKl82IkuO0Uy9Byc3MjJ0ee7qlevToBAQH06tWL1157jYULF3L06FGyswvWQhHcJrLzDYfieEJaj7XyakW456e9p0aapjEsYpkGOhygGrFqhqDs0dLG2ByKSOB6YoamALStEj4KR64k8OUWOaamToB80w7N18m6bMPQStTryZHk7+bY1p1YMX4EJ9/rS6BU2ebx85zSifAyPeCi86zfbGNSZUMw2N9kEIbVdUHvehX3ENkz1MBHOw1VbI9WQTpjpW1oKQz53rRckum583/LU2iWJZ4c3UCSuJ6YgbtUsMdgZV5nxuVMJE3JJm1sVkbFzAj83/bX6HPue+L3zpYfXoVxYTP/pFwkytGRdCmXNRf/VL1o30Xt5s2db5JXmHxC5XqgeGZqdgD/2tZ97nsIOr1i/xiWhtbiQbCwP1fOrmH2mcV8HLuH3O8tZDiULFiFosiA3CbMpw6Xn1+uLn/f53tVfgEgwD1As19mTiHXuoi4OrryTtg7vNLqFZNHy4aK//uGx5mdO9Tq3GcitbFyBy7ZkFQw44vN8j1o7vbw4msCHvgO5rSDWU218ZjjNsohBOYU9hvfM0v+PzPxtmQLA/J1PbpELjsmKBHFMrTmzp2Lj49847h+/To//fQTffr0ISoqihkzZhAWFoaXlxf33XcfY8aM4ddff8V4q6UsBCVDmeYrJAUaYMf5WE7dTJanS5RAXuCKMRCd8qBIjZSLEwN0ftXqGC31F1myX76ZeLo60rVegGbG8kxkCn2/1GoJxaRka8rnmDNvu0lJvIq37DGqZWZo5aXID5/9RjkVP8FBvnH5Onni7OhMq5p+eLk6MbO2ViXa0U6QdXRGtNWDNz49B8glMcf0oLuQvgePWnPV9W6hzZg5vDkLnpClMm4kZRZ+Q/apDuggN9O6BIc5ZWVoNX8Euk6Ul3d/IXtMrh2SBWsTiqEYf/Qn7fqkG+DkLn+uM2u5FJuOF/YNz+58z+uG59lmbGkytKq3NiUhKNIKwJarW4lzdKB7SHUmHfqkcOPj5jFiHE0Ps8+PzCTcID9kv7n8Bxsub2DPzT329pZx84PHlsu1KocvsipGjJM7DPis4Kl586lDMyIjTL+z1JTr2oenZeB8BUnplyRJI++gUMW9Cn6ufhqvVsvAlurywcsJNH3v71KLiXqk4SM81fQpU4NFgPh/xlB+zBuAl4e7vNlgkoSJS9fGhR64nIAkSZy8nsyF6FSr366/hymj8tRNi7+L0Qibp8K5jbYHGp1fTso8s7bhIGvpDyhaeIdCaZbPSroqa7bZ4tx6OTN4bnvT93Pv1/mCwmJGqzjcso5W1apVGTBgAG+99Ra//vorp0+fJi0tjX379jFhwgTc3d159dVXefnllws/mKD0UT1aBbvw91yMY8yPBxk2T57OwMEJhi8mzjWU/zO8ht7dFwDp0g75hubmB+2fhxFLYKSpztgbjssA+SZlyDUSVrsSvz3TgYHN5Aye+bsuq94sff49Zebm83T5bJtNz1ak2RRcTn4mX2PDSdrqznI9NomsRPmHftoop+kn5MtO+KcnwnfdVP2pZrpcQgwmY+7o6KMcGGWdpJFrzKXee4tp8+EWEtJzMOQZScowoHeJJVcy3ajTDVrB1hreNRjaujpd6wfgoNeRnWvkWkIhXi1HF9NDO/mqqV2StA/VsjK0ADzMitcuHyeXwDmzFlY+WfRjKMrWICdcuHiqcUw3D//JuEWH8NTle7QenEuai7aOW0SW6bupaKEBEJof1Jwf12KpGL4u9jBJsxrLYqE2MEpGIiIPE+eg9Rqsd8rD/JFiPg1ml5AO0Otd8Kqindr0riYHwHtVITI5k5j8afDj15K0mbaOzlaHlIAd51ep68l6Pdww05XLUh7o+T+UClJ2JS4zjqw86+n+ADfZe1XJzTTF3riSScNt+sYz5Bol1UNd6ljEP+ny70NVvGWJEHOPllIirGfDQBz1OiKTs6g1aQODv9lNny93UmvSBlULT5IkjYdaowEHEP6P7Gn69VFTCR1zslKs2wrQ5+Px1fLvp+1T8Owu+aW306vW/UqrfNapP2Rv29Zptrebe7JmNZVfCje9I2cMf9EI9nxlez+BFaWqDO/i4kLr1q0ZP3488+bNY8OGDfzyyy+leQpBUcnJN7ScCza0fj0oP+gzDXnsC4+XdY4aP8SMuks4I4Xg7CF7tHT5IoR5vrXkmIL7HoAGAyDs/wCoqY+liU6+ASiipe1q+TOijTb24MEWVXm5Vz11PSnDwObTpmnAjJxcluy/onl7HNS8KpxZR+11I1ju8j7f5b7DzUvyTSDXPRAa3K96tCrl5UHkcfgv/0EWd47gXNNDXKfT4e7kTlUPU6ZPiKec4OHkv4+4tGx+PXiVxPw3XwfXgh/Gge6yweLsqKdNiGwQdZ2xjajkQgQ3lenDZaNN5Y7WvgyfhsB7PvK/U6vldt+ato9RElzNPC0XzeQ/bhRRAy832/SW232yXDYEZEkJIOaiLLzoqXi0KtXB/c1znJdsB42nZZsZJ/kp79KlbSSve43rKdaxbJccHWDVMzaPNfPwTAYbI/jdW+vNjXfQk2KmAxeXWXB8jk36fSTXvXv1P3D3JznTQP9Zu7j/q93M2x7OQ3P28NE6i6kW72qa1b893PnZx3T9Uxz02vI9ikdL0fraMk3O0izI+3kbuJ4mexgt468a+MvJIua1C83jpy5Gm+Ifb7kk1/Uj9jPuLAPN8wnK94SbhysolStq+LlRw9/d5n4nricBcCgikRtmWcRWgfM5ZnGdETa8o5axdYNm2S/5BFCnp5wQMnCmnLxSrRX0maYtrQWyTti+OfaPU1SW5yd3WEpOKJhPe2cly3UZzdk8BUHRKNMSPE2aNGHKFPHHKA+MWfKPPNVGvS9zrsSbbh4j5+/n1d+Oc+JaEgn50gvOntobw94buZyPNruBmHlg5jrNphqxNK/hq7a1ruFFTV00irfr/Qeb4OumDcj+8/gN9Qb83Y5LTPnDlFmz5vl2tN39DPz2mNrWQh9OvfitANSoGQqP/ExCiKwD5p+Xf1ON+le+0Z1ZR4dMa6PHx0zssJWvLLfg7LcfB49z5OQa86cNwcNd/qzmatFNKjWhRUALqntW575K96nt7WqZrtWkVRbZQ5YoKuSpN+XsuowE66k4hdBOBR/rVsgpoC5jIcSnZZOZqggn6uRpyPybcpRrLQDq6a4DEp66/AeVixd6vY65zuMxSjq+NAzVHDPN3KOV/zD6yduLzvFbeGiNdTHfcGdHu9IHP522fR0T9XpSzIRQlTIsxcbBSZUC2XsxjuRMA3Fp2Xz6l5wo8dthC8Pw6W2m9HzgrLP2+5+s15tkNvIMppJQSp3S6JOykOW5Dbc23lJCyShsXKkxb7Y1qdZ3rtYZ0BaFruQqG8v/Xk8i1ayaQ2GZxjZJjIAFPWF2c9vbFw/WrEZIsuc0yEf+W5uX+1IqVVTydKG6nxu2+GnfFR75bh8jvtunaY9JsfC8mxtatrxMisHc9ilZDNeyBFdRGfaD6UVG4e/JRX8pKgq2vG8luEcItJSpoeXi4sJrr71Wlqe4ZbKzs3nzzTepWrUqbm5uhIWFsXmzHWFPC27cuMGIESPw9fXF29ubBx98kEuXLhW+420kO0P+4czcYb84ryHPyLnoVKv2izFpXMhv/+1fbeBlsuTObvNMHbOMq5r6WL4I3MCLPU06Qh7/vMNOl9fop5dT633cnNDrtfEIBy4nMOVP2bjaetbk3apfxZNmif9oPS5m5AFrHf7jr6ubueItT18EKIbWzeNyHIHRwONZOsbcN4bv+5iCwL1cTAWoV++qSk6CHDfhXnMh8y8/x8FIeSrHxVW+2bSu0lrt37hyYxYPWMzaIWtxcTBlHCo3doBj15JsjlnFvC7hzs/hj+dt96va0jqgujRoOBCcPGxvK8DrcC0hg06f/sO05XvlBhcvjf7YhL/k4GIPXTZ+pOJH/sPIXU5KOOnamhbZ3zM772HNcTVTh27+GIHPK9mfMr3kJBsrVxLDuZx8WTZUZreAXdoaiXqgfX6mdJKDnhQ3k4F9NOYo8ZkFB0MXxvF870eBeFWBsSapihgHbZxgil4vZ5UlRmhLsFjGoZWzKvj1VNmjVd2rOl2qd0Gv0xPkEUS3GnIwv2JcAapY6Y5zWm/TxRjr7N5CiTXz9pkVuwes4tc257XifYMsKxTkLRtS5h4tJWGnsqeLXY/WljPRHLhsivtqVt1Hs6+KuXFiy9umeLQaDzG9WN0qPja82paZjMVBksDBbFr7kxqy4Ks5RQm6L83qEncx92xR6bFjx/LFF1/w2GOPMXv2bBwcHLj//vvZvXt3gfulpaXRo0cPduzYweTJk5k2bRrHjh2jW7duxMeX7KZdauTl4pKfRbfunP0bW3hsmhr/ZM6fx28Qke/pOpWgNYpSJDfORpndYBprvQ0tdKdJz43j2NVE2n20Bd2h+QC867SEDx6U4zY8XawD0n/ef5XriRkE5cdVBJDIIHbDlql2x7/LzY1dOYeZuGMiezPkh0CbrPybYUK4Gtjt5FGZCW0n0KGqSf3ew8l0k03NysWQbAredXCJ4fOTL4E+G0cn+foFeQQxq/ssWgW24qmmT6HX6a0C66t4mQytjMKyrNz8TG+p0SfhvJ2A2ofL6EbmFQQTzsmGnCU3jsDS4TanQ9b9G0mWwcjpy/mB6hbB3ruvZZGRr6v2pdM8HHVGJHRqHUlJghQ8AO33KilTO3V43dH6O2LOEVdXngoKZNCah3jgjweYtXoEfTyzidqu1VNq4xbMM0ny9zVR78AJN+3D9WxCISVRCsFebUsr3aVKddjRfAbTDSM55aD1Eifr9XK5rNnN4QczqYhqrbTHsOV1uI0oHq3qXtUJ8Q5h9QOrWfnASpz0stE7vMFw+of259Mun6r75Fpch33ht3CPdDLzyn8YAHvNprqiTXIHcW1f52nDBKKRr29oZflvHZOazZC5e/j7VJSqyxfs60rbUJMhr9dBt/raTEmFNiHy8ay8ceZJC7aqPCh/r5Jq4IHtjFfLbN/iYMiUyzyZs/pZ7bpiaBUUurD+dUgrWjm1e5kyMbT0ej09e/assDUPDx48yLJly5g+fTozZszgmWee4Z9//iEkJIQ33nijwH3nzp3LhQsXWLduHW+88QavvfYamzZtIjIykpkzy7BGVnFIj0Wvk8iV9CTgxd+ntG/GZxPOEp8Zz6kbtm/cO/M9Vi6OelLQPpjSceOC+Vup3gGqNFFXJztn0HdlX5Yc3a15AwwkiX5N5ADwQc2qMqZDiJqpp9D3y51sOSP/aJc4f8LLyZ/J2Y5mvNdyD2eMcnxTslm8zZX8GmuqoQWyxhOo3hRzBtaWxUyNOfnxQLnW2WF6p0TILxxd2a0yvUJ6sXjAYoI8gqz6AviZZSjl5BoLj0ep1d267X8W8T3+tQo+Rklw8QKDjamcBb3gwiZYOsxqk6Lm76UEuZvFeilGe7wkt3V3OAHkByfneziMFteke4MAzXGVcV2wmF4DGJFi8r6ecXHmgJvpAfyDUw5Rjo4s8NX+HX18a+OHHL8X4ezE565aj8iZhJKlrluWmFLoN2snuXnaB+HV4H58lzeYcAf5wVs9P0kjzaOS1f4ADPhUFrYMzp8yy3/wXYhOVXXpbjnm6RZQPFqKaGht39qaeoNujm7M6DaD+2ubagoqEilKUt0Puy9bXZdCMdNTQzKaYhcBYvP/fm7+XKhnSuSoE+BBj4aBODnIJz52NYkvN59XtfuCfVx5qEU1vhjRnDmjWhH+8f30bmSWIJKPl6sjw9tUR6+T5WgORZhlOJobvpEn5LeIPbNNWYiKR8tO5mmxcLDz4mFH27BQbHlHY07DsaUmj7aShNH+eXhiDYz4ybpkEMCZNTC3Axz6wXqbACgjQ+vHH3+kW7duFTbjcMWKFTg4OPDMM6ZgWldXV5588kn27dvHtWv2hSRXrFhB27ZtadvWVNamYcOG9OrVi99//71Mx11U0uPl8cfiixE9k1edVLddTLzI8LXD6f57dzZclstBPGIRsK7g5KAnE22MV5AugWNXk7RerfysuPcq+bPJ0yP/PH/RU2/KpHLS5akB7s6OeqY92ISGwV78r4+p0oC5F6ih3sbfoMsEgnzdcCaXPOCdAO2PvlJuHj7mciJKCQsPa0Orb0hfQnJeISPiOQAebtbAqo/OMYVs5BuZPePKHEV+QkGJ88oz5pGSY8OodXCEUcu1bd5Vod90OfvonRhrvZ3Sps/78v8N7gffEO02Q4Z84wV+2hfBe2tOcfxqEoBJtsHsIaI8xBJ0Fg+Wvibhzzwzw2BC3/pM6Ctf9yQzz1BURjR/1NGqsjsbJd6OT+SbqILfni39iD5ewVSud7/NvgB/XvyTpWeWYjDaNpgKIyUz12b7hZg0NSnE1Df/HA5ye8182YF0bxu19YKayjIgAz83BUNnp5CcaaDPlzvp8tk21l3YTrPZE+g2Yyvp2bbHUZooGlpVPQoWCjUnOj+uafIAWYYlO9dIoh0voF0sY4XMX76Ul6kmQ7mYIF+DHg0C2PK/bni7OuHubDJQ4tKyScj/TQZ7u6HT6Xi4VXUGNgtGp9PRqa72PvHRkCYcndKHRsHe9M9/SdTobpmVHiLpKpz/Cza/K2chRuwBJUO5tKb+x/9t3TazPsScg78myeESReHSDvuB7H8+DzMbwE8PmeIG3fygdje5XuqEC3Kw/oNmwfjrX5eNtPVFLDF1D1IsQ+ull14iK0u+mSYn25+/HTt2LFOnTmXPnkJ0asqJY8eOUb9+fby9tQ+Edu3km/vx48dt7mc0Gvn3339p06aN1bZ27doRHh5Oamr5qziHXz7LQRdn9jvLD/749BxVkd1cO+hguqwH1TrUdixMng0NtBv5AqCjF5gFEt//OTHVW7HS25SN1Dl1HT86f67ZNzIqmk2notR0686fbuOLzeeZOVwr+unjYkNTpvU46D6JhkFeuOmy+dfFOm2+ln99+QFVLT+eSgkWtfEWptPpCHJujpQnj/mx9taueQf3y2RLKTjpnayUr23h7+HMX6+a6q1diEnGKBmZc3wOXZZ14XDUYU1/SZJYq0tngY+3nCowMT/Or8PzcvaRowtlTv2+cgbdIz/bjiP583mk3Bze/fMUi/ZGcDD/jV7xaMXnufLgnD1ciE5VM7TSHC0yqzq8oC42qGL6zb3Ysx6BXvJnTEjPIfSt9Xz+9zle/udltqdpg4tz9Dr0QBMKviZJFpIOkiTh2/UNAnO1hsizzeRpkoiUCD45+AkzDs0o8Lj2sOfRArhi09CSwEG+TsG58u8g3dXG1NKTW0zLyoM6K5mr+VP6ercrTNr7Evht4qZxm5opV1ZIkkRClvy3r+xmWwTYForxXTfQEz932UtZWI1TKwza60hatKxhFfmvqXagd1XOR8n33npVvNQYsdBKJo98XH4gvJuTg5WgMkDtAE9GtqtJl3qV+fOFTjwWFoJTvte8fhX5b2SehWgVw2ReMmpRvnFfs2PBmYbFoWZ7bT1Qhfk95Nqg2z6y3mZJ5An46QE5ucIeadFwaZupHJB53U+9gxzc33I09BSJbkWlWIZWcnKyamj5+fkRGhrKgw8+yJQpU1ixYgXnz5+/ra7sWyUyMpLgYOu3SKXNXnmhhIQEsrOzb2lfkAPwU1JSNP/Kgg8uzuLJqkHMD5SolD+dpUw1mGcGKTSuau3afqZrbTINsqGVa/Y1mZcr/9Dj0nLoNXO7rHcV2JCUofM1+9+0EWPTbusIPvv5T77dEc57a0yxFTl5pu/M6PY12f5MPat9qdkBHBzpVj+ASs55nHSxfuA2qdEF/m+39c3IUmgyn5Y1ZQPT2VFPq5rWxqZLZVlUsnGlxpqg94JoGORNjwYBoMvhvUMv0HdFX+afnI9RMvLB/g80fT879BmT977LbH9fIkYvA49Kt+xZKRG+NeQbqK04ECA90lqJ3Qf5bX3XtRxOXEtizI8HVe2zBFcLz5iZGOOHDzXhwRZVWfmcnHzg6641mOfsPGZzOq9p/pSw53A7mZn5bPHQTnUnZiVC5fo0yjFd1zfbvsmjDbXlpn49+2uBx7WHeUkpkGN9lN/clbh0MnJy+WTjWc5Fpcp99TnodPL3PTg/finNpypUbQUDZkCL0bJchnlckmJoZSYRm5aF3vUaHqHzTJuD/mRLxD+cS7iFMjGFoNwvUnJS1O+mv1vRDQfFoxXo7aJOrSekF9PQsvRoGXPhyELZg5TPjWwXVh6VpzbN72cfDWlK+9ra8Qb7uKqGmCXTH27KkifDNJnTAFV93einP8jAi9NMU4JKbJJ3vmTJeRsep6bW0+8lIjfbuk3xnF3ZZ70tO1WO/1Nemk9aeNCDm8t6cAVhL0bLVikrkalok2IZWj/99BO+vr4AnD17lhkzZtCsWTNOnDjBhAkTaNiwIV5eXoSFhZXFWEuNzMxMXGw8qF1dXdXt9vYDbmlfgOnTp+Pj46P+q1HDTn2rEhIgyQ+bJAdTJtyei3KAekyGdurFzS2VOgGeWN52vt8pe1cCvFxwHLsOarSHZ3aQjMlrFR6bzuK9chBoeq72BxaVr8r9k7cXm9zl7J+6+pt84LiIr/+5wKK9EWpfQ56RWY+0oGd9f96scxW/Mza01/IDN3U6HVL3SWz1sE7NVtLMqWSh91KprlVfgCc712JivwZs/Z+cNfVBpw9o6teBrEhtgL+5ynVBSJLEJwc/Ic5jPl4N3+Vm1lmiM0wxFJeSL/HP1X/UdfPlZO9grqRcofOvnfns0GdFOl+pY8fQ8vyhMz6kadoq6+S3+ThJNgJuJmdxPV+oNdrfzOP7xJ+a/YJ8XJn9aEtah5iMXDcnkxfKwT1C039o3SE00HvwSdW+8NC3uFh43ZwLKfbbuHJj0OmobWZoDaw9kEqulYpsPNsjMT1HlUd5rXd9utUPYOcbPRjaWn7wXknIYNqa03y7I5x+s3Zy7GoSOr18jfQ44t/vEwDSkeCZbRD2DDw0B7q/qT2R4hG5tp+k6Ks4eR+3Gsvy6x8wbO0wjCUJkLZg3819tP+lPb+f+534LHnKzNPJ0+Z1u56YocZjKRjyjMSny4ZBFW9X/PON6oJKb9lE8Wg1MzOOT/+hUSdfe82NjJw86lfxZGBT04twk2o+zLeIBVWETItDbackvnOeReeMLXA83yhXKhcoNTBt6XlZlDQrMZYJEubYCjPY+gH8PBS2vievW2YWjvjJfkF0BQsdOBU/G/GjpalafxdxyzFa9evXZ/jw4XzwwQesWbOGiIgIEhMT2bBhA48//nhpjrHUcXNzs1mTUfHWubnZ1ldR2m9lX4BJkyaRnJys/isoFqwk1K8rB3qnOui57PwReucYpm88y5C5e7mcdEPT1zH0IyJTE7H3uArxd5d1nJ78G6q2YPajLTTb/7uRTGqWgV8OaVWfL+v8mOfRixmV/Hi9SgDK7b+t/iw+eq0xGpWcxUNNKvFj9kS8Vo6Sy8KA7LJWfuR1TanMxjaPczTfsN08bDM/9vuRd8LeoV1QflxP9bZoqGTDQwa4OjnwQo+6apr3Q3UfYma32RiS2iHlmR4m91W+z+b+ltxMv8nSM0uJyNxvt88r217ht7O/YZSMxGSajN6UnBQGrR5ERm4GS04vKdL5Sp0CbuI99Mc165V1sjc2XjLFn8zMrwuXU7s39P9UNrKKkNb+Ui/ZEHby24db9aVqu5ezF/9rO4EVj++n5uBvoMVIq30XRUbzeLK1Z3iCrhKvNn+ex++T70VVzGQBfF180el0mkBugJtpxSsrYq50/kSHEBaPb0d1P3dC8qerrsZnsOE/UzzRuehUdA6KoeWOl4svAGk2CpprqNlR9Spsj5iBcyX7IRlKwHppMGHHBLLzsvlg/weqt8xc/V1h27kYOn+6jcFf79ZkW8alZSNJ4KjX4e/urHq0Xvr1GKcty9kURE6+oeXsDh3z434v75S9WgDOXvyTI8eAPd+9Lo4O2seap4sjjmaSMsE+RTC0jHlyMedrcpxncOpx07bLO2SZCSVWrGZ77b4hnaBaGzm2TgljKC06vizHStkiO0X2qiler4TLcPA7eXnPbFkK4/ohU3/PIJNXqq/FtOOwH2X5h2ptrAvRKwQ2AkujO/JEcT7NPUOpBsP7+PjQtWtXXnzxxdI8bKkTHBxMZKS1vpTSVrWq7WBPf39/XFxcbmlfkD1h3t7emn9lQbt63dVlB7cbOPmbbsxHr1s/TGZuWGfVptCsuq9mfUAT7bTpkSuJdJuxnZXH5MBJr/zaiml6HduC+qn9PkGOWXDUGenFQQJJpKP+P0Y5bJVV1E/8YqoNppByE1JuwINzwSxgOCZLzor0cPIgyCOItkFteaThI6bpAK8g0Jl9tQPqU1RkeQkdedmm85nrAxVEbIZthWpLPjzwIYlZiZpp3N03CpYVuS34VLf7Bu6vM8Uefj2yJZXI92hh/R2uG+gF7f+vyNpBz3evyx+v1cI1yOT9eifsHf588E8rY8iSpjk5vJGQRKcMrfHef+hvPNniOdwc5RefB4avJsTBnaG1BqrfE0vPzIf7tdIQBZGcYWD5YdmoebpLLU3GaYi/HBtpGaMFqB6t7GwXDl+Wt1uWdbLCwRGaPUIusI2CsyRLKlcBsPTMUnZe36lJ4Hhjp5yNbSsp5LeD8gtjdEq2KnQMcD2/fE2glwt6vU6VbgH484T2ha9AlOvj5A51elhv7/C8GhoRUsndarNOp8PHTCQ5sCgerWNLYMt7stzG2fVU22L2TLt5TDayJCPonSC4hXbfoKbw9FZZaLS0k1mc3eGheba3SUb4ZQTsniUXXv/KYlw7Z2jj3ZSai/HhsOltbd8mQ+Glo/D4Kuzi7A69p8rlvJTp7RuH7fe/hymWoWUwFC9+xF7/YcOGkZZ2C8J1pUSLFi04f/68VYzUgQMH1O220Ov1NG3alMOHrb9MBw4coHbt2nh5lYJmSgmp6aedknRwNd3UMnLlB6Yh1eSlGXHjTQboTcHt5tOITatrH3TOjnoeblmN+4Ll9kxDnhxzoZffopQbsc4hCydXUyr0D/r2HDHKnqXPnb7jV+cP+cX5Yz52+gH/pH8xXNiGXXZ/qVldeEp+k1VqrNlk8Gz5/7ZP2dexycuF85s0qc46nY45o1phzDEF/JqXFrHH8ZjjBXqizBXkAc2UIlh7Igp9+JYVwxfLdSzficEwKZJfcnsC4JtvaE1s48jg2g6EBcqB3HGS9bVpYRHfUhSOxWpV2nvW7EmAewF/X6BVYCsIkhMpXkrUBiYrpZEUvGq0Y+1j+3mv6yf8dyOZXRdiGVxHqyhuq46fPX49dJVMQx4Ng7yYfH8jzTblYR8Rl64VYgV6N8//dRldWbhLfjkr1KMFENqFdL32dp1x5SmyY3tq2q6klGzq5ljMMT45+AkvbH3B5vZmlbWJK1mGPPZfNmXimZeeOnJF/l01qSZ/R57uYpqa1lkFKxSA6tHysJnYkuvip2pc2RMh9XQ1xYz6e9jx0Jhz0SwZYdko7baUG9pAcV+LEBBX38KPXxKc7QgNKxz+EU7/ad2ulNpp86ScXHR/fgKIecWBvh/CC/leL98ahWdMdngBXjmh/g4VD6BAS7EMrXr16vHNN9+QmFiwQvHevXsZMWIEn3/+uc3tq1evJiPD+m0vLS2NGTNuLfunOAwbNoy8vDy+/96kFJ6dnc3ChQsJCwtTY6euXr3K2bNnrfY9dOiQxtg6d+4c//zzD8OHDy/zsRcFf1dt8KeDm+khrkxd5MT1QDLKN584BwfedlrKonFtWf5/HRjayjRnr6grm/PFIy3Y8EoXmlQzGWE6vXyjC3CVy1/odHlk6UznfaqnNz7BptipOnqTV9AYd5EzZ0xld6yIvwDXTC7vVRfkt6yIlAj7+7R6Ap7bB/0/sd/n0Hz4ZTj8pp3qbhXii2QwfTbf/Ckee1xNucrjGx9n05VNmnbl+gKEeodqtj2y7hHN+o007Rt++1/a8/2e4yw4tIWo9CgkSeJM/BmbyQylSqU6ZNS9nwX7bvDj/khikW+041v68M9zjXn+7BiY0xb35IuASTNL4c3+DYvmMbBg301TIK+UE0Al18Iz2+r61oVndkC3N2mck0OjbJM3xVaws06nQ5IkBn29m8d/OEiXgEeZHDZZzUBMyS76dNbaE7JneGzHUKtzKVNTilinXgfnPxzAwqdrsTdZnsqRcj0w5srxjtdSr3E85njBJ6zVlbRK2hg6d10QjzV4BkOk6fsbkXwNQ96tJ1RcSiq4wkWnaqZyULl5RnrN3KGR5tgXHk+Xz/5hyf4rnMivjtAmP6u5ZiV33ugvy3kUK04rPX+K3c3PpqGV7uCNJMnX2d8iuULBXCTZMgFDQ/g/MLORKZuxoH4g1yx1coO6ZkKzloZXWdBwkP1tfqGQbCcsRe8E3SfB4Fmy7E12mlwoWqHJ0GLNAAByUoJSYD76lMkwFqgUy9Bau3YtmzZtolq1anTr1o3XXnuNzz77jNmzZzNt2jRGjhxJSEgIw4YNo1OnTkyYMEGz/1NPPcW3334LYNOjlZaWxltvvVWCj1M0wsLCGD58OJMmTeKNN97g+++/p2fPnkRERPDZZ6ZA5CeeeIJGjbRvq88//zx16tRh4MCBzJgxg1mzZtGnTx+qVKnC66+/XuZjLwruTu5Ux+ytTYLGejmeRDG0pDx38lJkIcRYRweiJT9a1PClbag/zWv6qrsGeNkPGB4dZsou0+V7tDwc/UCSv1bxhovq9mBfHXUbtrB5HMeMGCrrkgr+UPlFdzNzTVNE5mVxbHHGUceRuH/tx94oAnvKTUIZq48bj4eZbjYFGVpfHf2KgasH2t6YZ3rz9Hf156G6D9k9zqVk6wfc1xcfZ/bp13hsw2O8v/99RqwbccvZccXh14PX+HD9GaZvPEuSJBsDnsYUaudeRpebKae158qGdZzkQzVf2Riv4u3CY+2LXwA73ZDO0RhZcy0n8lHSrzxNZAE18eb0mkPfkL683OplufxP26fA1YcvfFrTLqgd3/S0UyQXWH/SZODvvZjIyIYj6VFTno6KzYzlfGLhmdN5RkktJRNW2/rBbxkjZJRkT/DZtB2mtlxvJINp3zd3agPgrcag05HWQutZOfTWEKYObkyQQ1syb8oveWsurabD0u4kKWKTxSQ8OdzuNi8nL81vbsuZGK3cAfDRhjNcS8hkyh//cS2/CHPtyqYEmgBP+X4Sm1YMQ0spwVO5nk3x4WQn2fPp6+5sVd5LwcPc0HIrwKO16hm7NTQBVSyZqPwwB5/8GNLe75k61R9g//ilRQMLbbjO5qXuJFOgviUBDUzThwmX4eD32u12CnQXSIaZtpiUV7iReg9SLEOradOmrFmzhlOnTjFw4EAuXbrEL7/8wrx589i0aRN+fn7Mnj2bq1ev8sorr+DkpP1C6/V61dCqV68etWvXZsiQIbz33nusWrWKH374gSpVqpTepyuAn376iVdffZUlS5bw8ssvYzAYWLduHV27di1wPy8vL7Zv307Xrl358MMPmTJlCs2bN2fHjh0EBBQ81XE7+cqzKa2VYso6eNJ/Bv/P3lnHV1X+cfxzO9bdY4xtjBg9ukNBUBQpBRUVsbCwMTCwfyZ2ITaCGCgq3d3NiI31WPft8/vjuafuPfeu+3m/XnvtnrzPzu495/t84/P9SvUaZHIy64+0leM+hszKrigUKJN5cTM9DzWfV8DeGAGS/zFj7QzM/28+DBYDZiXzMzeZgtw45YwOMnsj60ITf8OqtFQCvWZKjjVadgXekJgFCV3kdq9BQTXfZ/H1Ea69VWarGTP/mol5/87D1b9ejd8v/O6cQ2U/53adFjPWzhDlt8QG+vLDULieAbPeNSlCvfnxB+mC8PKwl0Vij4NCB2F219lSh4q4UnUFq1NWAyD5M03FvydzsfN8AVYIKkKLGHvYtaoIOLHa6Zilc8Zgw6KR+P7OQfjj/uHw1qpQaiwVGcTuMNvMWLhpIYxWI2K8YxChGgrG4o1L+cSQsdq9QlYbg9u+3o/kVzZCaeyOt0e/zYd0PYOBR1MQOfMHfHX1V1zvPSkW/sj3Erxofw9/DfEAFxmKcOOfN+K3C79JHsuSVVwNo8UGtUKOKBeNiYWwQrZsqxoASAwJBCBDiIzorpWa+NDnpdJLGPzjYKfq0yyGf69H+z0BrYp8LkuqzWDMvDyJkSnDhvTa9W11pKCqQLQ8LnocXhn2Ojp5dcLyictF21IL+PD21D7Oualncki4OdKfHzc7cTuaXowqUy28s1YzaacFAIFdxbIXdgoVJEzsq3dtQNXao+WmavM1xb3IY+zRAtbQYot1QnsCs34AbvkNcKX035h0dTDmVHqihQcAGft4IdcbPgceu0CS3T2DgbyTpAn34W9JDtemF8Xn+e1eYO+nbvudOuHQbxL/PCHd+7ED476hmAs6d+5cY6saKdhQnVKpxMaNG5GTk4Pjx49j//79+Oqrr2A2m/Hqq6/WZ0h1RqvV4q233nIbqty6davk+sjISKxatUpyW2sh3i8Bn538HQNiiIdhp06LxVWnAERCxjBYpvgcaXYRx3SVEsOC+bCLVVA5xAr7nS8+jxlr+dDo3HVzMSV2Cn67byr2pl7BVxeyYASglweBseoAudhwqjRXEtmFuzYDuSeBtXzXAG9ZFXSQmOEKv+z2WRPbBDjCM8KtWvv+XHGuwHO7noNSrsSa69ags4+4LPn+0GCg6Cye2fkMfo2ZDXQegcFhpJJIJVdh6d6luK7LdegVJM5PKTOVcWXvy8YuwwObHxBt7xPcC/9dJsammiFjXdBrAV7Y8wJu6X4Lnkh+AstPih9eNaGSq1BkKIJCpqhV7hgAVJusOJpRgoGd/aFwMeNPySvHPd87t8wqtIcOUZpBqq0AHNWosdLbC1MNDMYmRcNgMaBMsR8mWU9UmQMx+bfJ8Nf644+pf7jUK2JZk7IGB/NIGH5M9BicLffCpfwqXLxSgZxSA57/4yQ+ndsf1SYrtqUQQ/nv4zkY2sXBsyHxAJa6DkKKKknIy9chp+btg29jWry46bWQC/nEgIgN8nDyXrG8eF0PLPnzFBJDvfDkRCJ2+/uF37ntQV7ke+VtGo081Q5oFVo8sOkBGK1GaBRqrvr0iWT+Prs1mxg2XY1WzEviw4UvXNsDj/xaD0+EgM+3X8TRjBIghLzHw/0ehr/WH32CBmLOJ2cR4vM0uvqLuyewavQj4gMxOzkafxwVe4LY+wjr8QSA5Bh/+OpVKKkyY9u5fEwSSDFIUpRKdLNUHi5lCK7I/ABkwc+NASXyaLkxyOAdIfbQsMSMwOaiSehmslfVsV4hoZRMNzfhvMbGUQR1yyvAPEGuFWswKpSAZxAwdCGw2a7jV3IZ+FN8r+K4cgr490nSAzW6ljJNjt5TQwnp27nwEBAoLa3T0aiXodVQKisrOS2qm25yLtmmNAKxo6DZ/iYUDAOrTIZzGjXK7A8FL5sNfeQZsJnJ/yBdqYI69yRRCz76EwZ1u4s7jUwmAxgGK8+tFJ3+XPE5nDt0DttmXYf3Tr0Ko5LMOvWIhqk8Hmp/8c2KS+6O6A+E9RUZWj6ogEImNYMSPKRPrAaGPoBX9xFDPFDrD5xcQ3IVlM432Ie2POS0zmKz4J2D72CuVwLSTq1CYFUGxgnHWJUPrJkPAOjyQil+mfILPjryEVaeW4l1qeuw+6bdovOdLjxN/iTPCAwK429Krwx/BWeLzuKmrjfhv8tEVDGvkHiGbky4ERNiJnDVdEPDh+KdQ+9wx7409CV8e/pb6IwDsed4J6gDtkLtz+cvpZWlYewvY6GSq/D79b8jwtOFxo2AF9eews8HMvDkxETcO7qL5D5ncqTzk9hOACjiQ5uLggORr1TihA5YyzB4asdT2JS+CX2D++Lhfg+j1FiKUmMpsiuzEaIPgdlm5qr/HNmTw/9tXXy6wBTkCSAPlwoq8e0ekti94LtDuH1YDLcfK4JZVy4ViNMVWIVyx7HVpK/Fhg27BHu63Oe2oTG4bWgMt5xVkSVKVO8dOAgbAVQalIAKKDQUYmvmVqfzXKm6gmB9MLZfPoQ/iv8DtIC3zUIEKO3J8df3jcBb60Mg/A+W1qEBtcFsxavriDe3j5Z41oJ0YRgWOg79l5Kk8OxSA0wWG9RK8p4Mw+DDLSQ1IDnGH93CpAtOgrw08NLyho2HRomxicFYcziLu45uKbCLsAbG88K33aeKkr2LDGS9nxsDSqvkDWK3oUOhF90zFKiw94lVqOGtU6GsyCERPbCO+UxNSbqErIxSMAGREjt1xddXAdO+cBmFEOHo0WL5aCDw8AmSCyaTu5aJ6AA0qqGVmZkJHx+fGivvpAQ/KY1M1CBA5QGr/eaUrlKhzH5j9rarBEfbq0KzVUo8GRSAN1bfQdZf2ICVCy4hzEdHvpxfT8R5ValkoPlkwUkuvwYASksDYSoYD7W/+Eu/5vwaPJR5Ef7lV4B5fwM3rQTz18OQleegs6YcsACn1CpEmy3wYj1ZDEOSX6sKgZyjYCoLkVlBcg8iK4qA1bcDfW8BpopzcqrMVTBapW8qWzO3Yiu2kr8lJAi3CjSYsozFSOpMPIDBP4/C5Pip2JZFvDjlJufWSq/sJdozPQJ6QKfU4fkhz6PaXI3rulyH67pcB6vNCj9lJAoqjUjJ4D/zQsmCrv5dcU/ve1BcXYU4xY2YEhuDSTHXYdCrm8BYzFy+mxArY4XVasWB3AOIiKvZ0Pr5AEmMfePfsy4NrYsOD70Bnfxw8HIxshnnMEi+XfX/sgKYs24OThSQMMqRK0eQXcl7NU4VnMJTp59Cenk6/pn2D/Qq54owVg4EAGJ8YmAMIg8yNqwHkGbVlwt4D6mjMGZtYdvXsBQLFMp/mfILZv5FHir51fk4kr0PfcOlZ/Tn88jY4t0YWgDI59f+/RMaWXf3uhuD/YYB2Ivyajng5nZ56soxBMdMwP1b54FtO+ppsxKvgcCrEeipExlaWTU0G84srkKl0YquoV44fJkvbqq02AVYfz4Da4V48lNcZeLEPndf5CdSfnoVfPVqeGuVKHOoshzQybnjQpz9ugn/xy7JtRfJBAm8ade+D3QZS+4LUYNQnEb+j+5CgnmC5PtAT4fnz9m/SUJ48nxxWx2FCuhxA2kS3XcuBqT7wS/b4T4QKK3R1ywIDUEA2PyS8z6scfXXIsCVWqJHMF9wIGTNXbUztFzlAzJW4JdbgNIsUr14x7+N146ojdEoOlo5OTno168fOnXqBF9fX9xyyy2cQnpJSQm+//57LFu2DP/++y8sllrE5SkNR6EiKtMCCu2GFtt4OVDQy3Cdpwd+8fLkvoqDYgMQHaAnsfzsw8i1SufcOHqOftqbz/UPdOTtK7tI/kDOMaDrRMimvAcrALMsEzt1WsyOCMOM6M4wso6sgXcCc/kcqKzcQ5zB8/IZuyfkyHdApdh7xlYjeqo80SOgh+RYWL71kdZpumIsEoX1PFTimWxeZR73Pv1CiNDnjIQZuLXHrdw+CrkCbw1dgapLD+NQuuveoPf3uR9pKaPx1JoziH/mH4x7exvX2oWxun4Kny8+7/Zvk8JVovd5u6H10Lh4bFw0Ei9f3xMAYIT44VXtEApkjSyWjDK+2mlH1g4czT+KIkMRFx50JL+ahLy6+XdD76DeiLaX5++6IP6f/nuKf6DkuUmUd0eOXXogIYR8Pi8VVHKtoLoFdMMrw3nRxsf+vQNpF8/CZOG/I2+vP4cpy3Zg1SFi7Me5M7T2fAy8Esr128ytJOPvE9QHC/su5IyC7CL3uTCn97zjtC7IanXqs/e/6b2gquKFM1OKLzgexmG22jD8jS24+r3tKKwwIiWPNx6ySkvIC6uz0XLLV7wExyWBkcT2A4yW0LBKjnF+sMYEkO+SY9NtJza9BGyz52F2FuTO6vyA/vOAEY8CMcO5qkd3Hq1sQdI+lzCfdwq4vBv4dT7x2P63mDRHZrnmf8CMb4DFOUDPaRgU6w/GUZZCJ90ntlm47U8iYOqo4yVk9e3EWD34lfT2q5YC9+0BPKVyo2spwcF+FkPIPUN0rqxDxBgsOAcclej40UFoFENr8eLFOHr0KDw8PBAcHIwffvgBCxcuxKlTp9ClSxfcdtttePjhhzF58mT06NEDp0+frvmklIbTQ9xK5qKa3Dy9BQbWktCruNcvB/pjtZeDa3zvx7AAyLO31HEMVQnlBhibe3G+o1r7TLLSnnCr1uN7by9cHxmOe0NJQmuW3ILjg+8Crv+MNC0N7wMEJYIB8NKG+wAAXX3jIbqlOjRIZb0HCX4J+HnKzzhx2wl8N6lhauuO4aRzxXxfuRkJrmU9EkP8AChQUGGCwWyV3MditWHjGX5GyVZy3dA3AqaiYZLHAO4rxIQEevIPTWECsxDW0OrfyQ9xwV6oYjKgDtgKmaICllGLuf1ylO7/x6llfDPotRf56iOp5PjN6ZuxK4uI6T7c72EAQLhPzcnl+eVGWKw2GMxWlAqkBVzx36lcrDqYwVUcshpwAPDN7jSYreT7cF2X69ArkAi2XlHI8efy1/DJVnKNrTYGyzZfwMks3m8UH+xgBJekA58OJ5OT/54mlZm7iJ5bTiV573g/4gHhvC+Ms3EwvKoa9xWXAAAuFqc49b+8uawcMIm9QfEhXjhw96eIqHoaAHC88ADXBNqR/an8+ov5lSJhVbZ6mGGcow4pefx7Zgv0sqb2IfcEfw/nY/oIKphZ2IR4tsmzS3a8zb0sjnFR2QveM+nOo/XE1cQjdv+YLkQqZuMLwCdDgeWTnJtWA0Q2pOtE8pqdoOpUeM9yI7/PNdLyRc1GUFfgqpeBm2qoRP7qKvGyTA6MfRaY+hEwZCEJ7d21GVDqiKo9i4sesSIsRuCKXUSXrXyscOFNTbdPjvNOA1lHgBXXAfs+q/k92gGNYmht3LgRsbGxyMzMRE5ODlasWIEffvgBDz74IMrKyjB9+nTce++9GDx4MM6fP4+JEyc2WUNlihgF+Afjn57EiPKx8obW9KiR0Cv5meiHfr4wA6QFhc0KFKUiV6mAVSaDEjK3kgpVaXyCpUoi5FQsVxCPGavxovbAV77OHqUt+iFAn9mA0n7jLs/BUY0ae+ztjcI0DrPI7COiRfYBE6jjE6b9tA2beZYZisGU8lpXKcWk5HxSzCS3VYneOiU09vyQKw65RZnFVbjuw514a710M+DHr+6Kmf07w1LBJ5Sq5Wru73LsW2m1WZ08VgzDiEQzj2WWOL2PyWJDmt0Aiw/xxI7MHZi3YTY0wf/i1onpUI7hpQeO1RD2P1PIK5dbGd6wZD06QoTeULawIcTH9fnnDIqGQi6DjQEKK024/qNdGPL6JlFjZ4ZhcOvX+7Hg24NgGAaXCytx7/eH8Pjq45yAZqcA8WQit9QAnN8AHPsZS3oTBXBfqxUMZFybHSkvWkyggwfnuxtINZow0VjjDYZhsCGNVAGGe5LqvABOSV7sNUjMTsYnefnobCb/sxK5nCsAYelithD9IwcUcgVm9xoCxkLGdSRLusRfKHFRVGlCemEV5JpseMS9ArmK3JcZm/RnusxArnVqPvm8PDu5G3T2KuWR8fz3bUR8IAbG+KNXhHPBBhu6K3An8WDmr/evA75H3zd249dDmSg3iI1Om43hPIzukuGv6hGKA8+Mx2NXdQW+Gu8kgixCoQGCEp1We2tVuMSEo698FfDkZRJqbA14hzvLPQhxFD9+rhAY+TjQdy6f9+YTCTx+HrjtL5KbBRD1e4dogROXdwFVBcSL1X0qKVoAgGs/IJWQQnKOA2m7gE+GAMsnkuKaf+peVNcWaRRDKy8vD5MnT+Zaytxyyy0YNGgQtm7dii+++AIrV67Ehx9+iF27duGDDz5AZmYmPvrooxrOSmkMfpzCu2svq8nsOVspSM3TeKPKws/oihQKvBzojxlfJ+FC7iEADI7YPVGJcj0e6f8Iro+7HismrhC9z89TfobNyM+ApoQsRr/gfnh1OF9FWq6Q44pCQapeqothhhyVMueP4Pf7HQwPQymOa/ibqM4x/HXsR2DDElIKDqDEWAJAbFzVJDpaExYw6P37RHx4hOSDsWG7BH/3ybAymYzLa9l5oQC/HMhAof0B88Kfp3E8sxSfbXPW0Jo7OBrhvjq8ekMS+nncA3NZEqYEvoKDcw/iswlkFiiUq2AYBneuvxOT1kwSeY8qTVYYBeGvrGJnz1JaYSUsNgaeGiVCvbXYkcXrimVVi/8Xvzt6PB3P5UJE1lGQNadC3MYqxIOEGzQOHjNhkeSknmGc3MjF/AqczS1HlcmKI+l8jtGVciO2p+Rj/ek8bEvJx5RlO+HYd7p3lA+GduEnApmFFcAP04Hf7saxTcQLVyWTIwilUAdsw5rza7D94gXoIr+BwoNcj9Fdg6AWVhzmngAKJcJ1VYX4/cLvnPcxOZT04ZSqxrRUxCO2goTavO2ToTSVEhNW82KY91fYPWCmCuDcv8DPc4A0vn1T5yBPMDbyebvr+514ae1pXLjChwaPZZTgx33p3HJ+uQE5pQZogv+BXMXvp2CkqzgPpRXjvh8OcaFcYReAeUNj8PD4ePy8YDC+u3MQfrlniGRVJuvRqjJZucpFJ8rI54VR6fHoTnKtHl11DP1f3ojLhbzh8PUu3oPqLnTIvm9NVbAAgKiBklWsbFJ/mcECRuvDGymtAc/gmvdhkbt47Gu8yLZ4gQfMUWfLEVYJPnowSVdhW6X5xwJhvcX7VuQCx+zeN4tg4mKT9vS3JxrF0LJYLAgIEHsw+vUjeStTp4obYC5cuBD9+vXDn3/+2RhvTamB7gHdIXcwZq4Y7LM1nR8Q1hsTYyaKtv/m5YmzKgWe3fU8ymUyLA4iM9VkqxyBukC8POxlLi+Jex//7hjUmc/HeGrcWKyYtALXdrkWm2dsRoic3LgyVErgwNfA/xJwbtVsmCTkBhiIvQe2Mc9ih54PKaVm7EK+Qi5Wid71Hmk9AaDYQB68QuNKmHRdXxgAnx3/DBabBScLSJJuvG/NybAh3uTBsvi3E3ji1+N4eOVRAMTAETJZUOo+Mp5osikVckzs2hWGrDm4kh9GDDc9MUpKjCVc0v/pwtM4lHcIWRVZOJR3CCYrCacUOYRnskqcPTNscndcsCdkMhkulPAGA+uJSu92DXrFROGwVgulTIGbE3nxzOu6XOd0TkfpifPF52GxWfDT2Z+QWprKhdJYhDlwtw4hQrjT+0dCp+INr04Beu5a7jzP6z2xhqTBbMXHW/ixz1t+wKkFDgCMTgjGp7fwntlHvvqXex2a+h8AwCSXwaTLgib4HyzZvQRf7H0YSq+z0EeTvL2ePXej33f9cO/Ge4ma+iVejHSnTotJkWHYp9UA5TlILeWNgZ4BPbnXb97YS2Qc9DNWwcuuJ+djf/jkCyZFVmMQbrD42v/ocuCnWcDZv4D1z3H7hPtowdjINZLJjfh6Vyomf7CTC49+vSsFAG9455cbUVpthkwp9pDdMZRPPl80gZ9M3P7NAaw7wXsnhYaWUiHHw+MTMFhCxFWIh1oBrYrck1x6tcpIUYXNMwxCr5/JasO/J3NRVGkCwzD49TBvwLvVx3JF9BDg/v1AkiD8P+B2yV297G18rDYG1S7SAFoM74ia9wGAzq415jh0vkA3+3d62+vksyaFoQzY+hp5zeZnedv11PZ8SJpcC7GaSE6tI3td9G5sRzRqU2khvr6+AAA/P+eQzaBBg5xa21CaDsfQ1oUrc/BQwmbg8YuA3h+PDngUrwx/BS8MeUG0X2l1AV4P4P9/3YtzXM4+ZDIZPry5H96a3gsXXpkEvdr+gDBXI2jNvQivKgFgT8g3VwJWE47ZpKuOZAqxMTCtaCf26XhD66xGjbHRkbgU4uDet7fFkPJoyWVy9ApMgpIB5pe4TkxfXFCEvzKyMYGR7pkGAL9d+A3p5emQQYZEf+cQgyNhDnlHO84X4LFVx5DjoKrdPdwbaxcOx7uzeuOqHrx3sJND8rC32htqOXmYsj0SPzrKe4jv3Xgv7lpPJDoKK8UPsuwSZ48WK+3AVtEJDYPLZZfx1I6nMNlwEox9Bn9rj9swOZbPmbm1+63o6sc/mIN0QU4G6Lmic/jxzI94dd+rmLl2JoqNrtt4Lbm2B767cyCem9IdlQLtqzAfLecd/Hgrn5/GtnN5d0MKVuxx3+vvxn6RkMtl8NaqcMcwoqcWKeM9g4PBn/ftSP5aXfHkw7S3Xn0JK05/BQtjwc6snfjw6IcksdrO4qAAZKpUmB8WAhRf5qRN7u19LxSCJsMzk6Nw+JmxeCm/EOMrq/Bl+V48qyKCtIfMYs02ADDlXw2Twv65FOZoFV0iFY7/PIkuP42AykreQ64qAWCD0WLDgdQiFBuKsdXwALSR33OHZpZUo6TKBLmK/38oZAp4CMI+1ySFYXw3Z49JiLfGpY6YO2QymSBPy4WhZc/7OW1wNtpe++cs+r28AUv+PCUKlWtUtRiL2WGiEdCF5DoJE7i7SueD6QVCzp9vv4RPt12sVY5gs9B/Hmk7Nv5F4L69RKDUIUcXIT2B2bVMSB/LG+8485f0PkIPLtsSyMtuaKX8K/pOuMWxoXU7pMkMLXcEBwejvNyFlUxpdHQK/kFvNQaBsXoiOtCT6ywf6hGK67pcx+WPsChNldjkwd9wE6rKSCm0C4K8NJgxIEp88z39J3BhAwLsM+pCBX+zOm1Pzr+xrAIv5hfihpjrAQAGaxWXOH6x+CIulkn3X/vGz1e8oiwLBdUF+C+NeCV8Nb7kxvr1JGDD8/h69HvYmp6Bh4pLsUjNt4qZVl6BSRWVeLioGDeVV6CTxQI/M/8AmFMq/qy+tIeUUQ+PGM6FvNwRIaEevvpQpsiIAEjSelKkD27oKxZmZCvx0ouqcCCtCMmvbEJVGRn/35fI/8Ox+u/wlcMoqC5AoYNHS8rQ2nGeGBrJnf3BMIxT+xb2PQBSFLCw70IkBSZhaPhQdPPvhlifWPQM5D01UV5RuKPnHdAoNOgd1BsyyFBuLufaBxmsBs4jCABfXSWuiFLIZRgRHwQfB70jpULOGVpCnv2dnIvN1ZHiq9sGYGBnfzw8njcAxyQGYZHyF6zW8GXxKgDKGlSxf0sXh1P25+7nlbB7zYJZEFKyVRehsprkDDpWrgKALHUbbqioxLtXCkQh8WKr+HNVmXo/LOU94edn9xoLdbIUapKnuO9TyEtSEW3v0qANWwOPLv+DTFWE345k4c8L/8Amq4LK6zRut2t8Hc0oQaWlkpvcfDfpO6yZugZWhv8bugR5INxX/BmO8NXh4znuW2C5g83Tyi93TohnGAaXDm8CAKy3f86TInxw25BOov2+3XMZZ3PJd9PfQy2ZDwYAyDwIVNiN6fP/ibeF2sNbQi0oF+K3wrDjexvP4/V/zmLx7yck9212PIOB65YBwx8GgrsRgdIbv4IoBzBuPKCpQZKEJSgB8LHfI8uypPepthvnIT2BkO7ktXe49L5C5I6qUq0oBNtENJqh9dFHH2H69Ol44403sHnz5hqT3WvqJ0ZpPDzVgi+XldwwoyW63LMhKZY0lRKV9ni+B+ToZLYAxby3g622WzpsqZt3J//nACsxKgoEOTgpdkNrRHU1phlsCLXH92UKA5c4/scliS70dq7oHRLpCy/h46Mfc4txvnEk4TJ9N7DrfWgM5fCxMYBSi7kzf8d9fe7DT9f8iBeLK/FmfiHuLC3nXPD+Rj5vLcpixorsPKgdPrPdA7q7+bt5VLWc9QdIVG0BQLivDnIZCZHN+HQPCiqMsJST6rhj+SdgtVlRanT20h3LP4Yie0VWJ3vpfXZJtei7Z7MxOJlNvqtDYgNQZamChSHhtlifWDjyz7R/oJKrIJPJ8NmEz/DLtb9ApVBhTNQYbp843ziMiByBLTO34LtJ33FeP1YDDQC+PPElABJ2HBg2sFbXBwBCfaQfglfKDdzfKsW4biH45e4hiBJ87kfEB+FB5e8Se9ftxq9X6nk18chkRJr5cOV+rQaVVaQKS0pHDPnShRCBNv7z52VWIcloxF39veDp5UtWCtXLFSo+VwZAdw/egJeri6D0PItVhzLx+9E0bn2fTnax4ur98OhCWv14q73RJ7gPYn1icfvQGIxMCMKnc/tBJpOJvLIvTe2BXU+NRX8JjazaEuim5+HWlHwYc4g35ARDPoMh3lrcPUpaAw4ANi4aJe1dyzoEfDkO+Iy0OmLTCzhY9fMIcSpEbfn7eE7NO7UUcoVYt6quGlashla5cyELAN7QEkpcSBlaMjnQaxa/bHMI53u4aF1nrODybts6jWJo9e3bF6WlpVizZg2efvppTJgwAe+99x4AYNasWXj11Vfx999/IzPT9YyT0nQE63m3P2MlN3vHyivH/RxZ6z+K1C8KZtKPDXgMq69djalxU10ex5ZOs4ZWYQC5cZoValywJ+cnmkyAzhdeGpJHJZMbMOvzPWAYBqklvGG3zCNJdGqrzQr4k5tvhUyGr/RyrEohrZEe6vcQaRki7F2WZRdW1flBpVDh3t73omdQkjjXy67b5Wfk86f0Ngb9jEZcWyHOqQrS1a635VXdeQOW7XsnRYCndI6JWikX9WoDAKuRnPNC8SWUmkrBSIgRbrq8CQX20GHPcDLbrzRZUVbN3+hKqs1cq5QQby0XdlXL1U5h0dFRoxGkl/6bR0WNwusjXsf9fe7H/X3vB0Dy4mQyGboFdJM8BiBtjGpDpN0rGOyiyfkDgh6GjrxyQ0/pDS6Usi0CO+uzXAkhRwfyq/Jhsxs+xtCeOCso3Nir06LaXhXroZT437OK+6KmwMB2W19El5MH46RyA/7QPI+nMu4D2HZBu97jdy7LJm1T7Hg5VIrJVUWA3IAzhSn82zLHoPS4AF3Ud5AryXc0zIPPEfTzUOPbOwZiYk+yLtyXN3ClJml1hQsdskKiabuAHe8ANhsu5FUgQkb+hgyGfN5CvDUI99W5FIl1mQhvTydAeQ6QLugB2GUs6UvIJmz3u5XINdx/wO24X5rqrMvHMAyXA9fqsAgmH64MGlew8g7lLozJ2hpajE2sT8bCprQYJFI5jOXA+72AlwOB93oBuz6o/bhbIY2iDH/o0CGYzWacOHEChw8fxqFDh3D48GEcP34cq1atwqpVqzi3q5+fH3Q651AKpekI9wjHIRDhRMbu0eokIS7oqfaEh8qDb5cj3MbmOwkSHPUqvVP/MxH558jNDeDK1fdqlMie9Cq+sxXDkrISXlYbwi1WwGbhFNNliirklBdh8pprkVFBcm66B3THaFk43kjdgjf9/VCoVKDCVAHMWQVk7MeKPUvxqZ6fN3DaVsKQgL29DrS+WHciB2uPZePN6b3gJWzh4xcDAPAXaI2xRmKIg9huoC4QsFpIn7HOI8jNW4KeET7464Hh8PNQI9xHi7+O5+CBn5wNAyfFagGOits2IzGKi4xXOC0qb7U33h79Ng7kHsDnxz/Hsfxj0KrIjTbCT4cADzUKK034alcql+BcZDfEvEI34tszORgaPhQACbs69pJMChQbuo4I87aECPO3HKmpGnTOoGj8sC8dz08h3kPH0GHvKF8cyyjBPoE2FMtjVyVgwcguXNsYJxwa35oYBbbZegMgifbxRiuSqw2QMwxsbirMLIwFRaZSBAL4o/ikaNsJjQZVsAJQSnu02IbJ/mJvzaBJt2DMSRticj5FHyP5HyrKMogHZjccmh+LjWxvQxlR4rYjUxfBq8ubgJL3kr1z7AXookWHOaUOCBndNRjD4gKgUylqTHavDU4SD98QeYJ8iw4f/BeIu7RkrDl2mZhQ+/9dWEErxGU1obC90teCarrhi8h3lkWhAgbyrcdccfPAaDz/hzj3qPPTpMfg5F5heHlqT/h7SE+YWgRhR4uEia73k8LLbnjbCxNgLCfaV7GjgfFLSKN5QGxo+Yn7yHKwTbg7DSOSEACR77GaAKuRGIQKFWmtFN6H5H+xXtuSy8DRH4BhD0qeui3QaC14VCoV+vXrh379+mH+fPJAs1qtOHXqFA4dOsQZX8eOHUNRUVHtymwpjUKkF5/zY7OQGaErz4DNRfd6Lftlqm0PNYuR9LqyMzrpNmgKNiK7Kg/3527kKtu6+cRCJssGrn0fgTpfAIBMWQGV9wnOyALsD4Ged+OaA18gKHIw7jBdQIW5AtU+4Xgr5TxWCYys0VGj+aq3agnRRp0v7vuBeLfigj3xqFCTyJ6fIczTSVL6AFoNFA6hwyB9EJGW2PkO+XnBdZJ9T0H+yLW9wxHircWHWy5gewqfiB3k4n8iiU0HS0VXKD3P4aczvwAgyf+DwwYjWB+Mz49/jmJDMTIqyAMr0k+HcF8dCitN+GDTeVzfJxyxQZ4orDBBpioC/Dbi/cMbuYbb3hpvUasgAPBR166JtSNCz9iMhBmc1xEgnkd3vDS1J+4e2YVTHReG/h4Zn4CUK+U4llHidFy0vx4Lx9ZQESpI5s1iAnCN8TWUwhOqnP1Qep5Gn9B5UM3uB9nqWYDCOXnfR+MDT5UnsiqykKaUI9AC7CsSz9wvqlScQLBUjhbn0fKPJWHrsiwgqBvuGNEF8O4B/ObgdXPRM5JD54/JFWX4ytcXNrsBpvQ8C8hq9rhcE+tai8lHp8IP8we73F5X2M96frn478vc/TPmKMjnpYTxQJW971CIRMg40FODggqjqA+mE1KtZYC6e3fsKBVyzvh35O/jOVAr5Hh3Vp96nbtJ0frUPXTI5l3lnQRMVUTqIfsw+Rm/hPdoCc8b0h2Y/A7w9yLpc45+Cvj2etKexzOUr2g0lJBejatukz7OlVetjdCkyfAKhQK9evXC7bffjg8//BC7d+9GeXk5Tpw4geXLl9d8AkqjIAwJMBYv/DB/kEtDd16PeZLrZewM2VWpryMV4huc1iOImzEL5QMWjXqdCOglTuaEOGXKckAmThTv5NWJ9BV7IhWeE0hOWKW5Ej+f/Vn04F4eORXLxi7jD6x2fkAKZ2B5ZQaSPAoAGt6w6GM0Qskw6GIywc8rAtAHYGi1uGKpW0A3cWVNHfIOB3b2x7d3DBR5FrUCKQNHvLX8nOjAM+Nx96hYWKuJAX38CqngDdAGiH6Xm8ux8Ry51lF+elHYklWCP3i5GHIVH2pi9cF8ND4YHjFcNAZJj0wtSApKwvjo8ZjbbS6eH/I8V9364tAXRaKyUijkMlFrlxjB6zKDGXFB4lDShO4hGB4XiPdn96l5YHZDax0zDMOMy1AKTzw4Ng7Pjbodgzwex4PXTAC8wxDuEcMdEiRIEve2WNHZi7iFUlVKQO0Fnd2YYr1/hUoFUu0hcqfrZzERNXmAGFpzVgE9pwOzSeWhZOJy6jbndSwPHgVCk9DFbME6VTx+mkDy4GS1MLJeGf4Kru50dY37NRZB9jC5Y9VhX/NRPKX6GYCgoTl4T+br05KgVsrx4nU9cPDZ8Ti25CosudZNmy1XPR893H/u3PHKDUm4c7i05+bvEzmwtKYw4rQvSUXlzb/U/Vi/zsT4t5qAzANE0V0I22fR0WhNvhMIdOHF9gwFHjxMWgfFCO4v1cWkHZIrDKXE2GNfX2lbqgXNXnUol8vRo0cP3HrrrTXvTGkUxnUax7WQef6agRgW5/omM6/HPMzpNsd5g9ZuhDhqo7iiqkC87BGEcA9xaGLxoMXoEdiDE9AL0BEDQaaohMp3v2hfVugRen942j0tFeYKJ3X07iZB8uSW14Dtb5HXAi2x9Grec6SQy4GJrwF95gD37uLWB1ptWJ+RhR+z80iIQR+AniYTviqswA2dr8GP1/wIlVwlzvOpdPiba8Er15MHslTuh5DPbx2AuGBP/Dh/EIK8NAjx0nJhYLZiLM6XKMjrFB5gE7o9E16BTFGBKH89Hr+av/ldLqxEcaUJ/9u8C/pOfNXfkSskpBnmEYau/l3x7aRvuW2OrWBqi0quwrtj3sWTA0ke0Y0JN2LrzK24Ie6GGo50RiaT4eHx8fDVq3DTwCgsGClO2B+ZEITv5w9C3+haJGrbDa0cJa9B9OC4eNw6JAbf3D6Q02V6IJlohumVnhhj4z0r4RUFiM0nHqlNej0YD38ux21a/DQoZGLD2WPVfOCTYUDBBSI2ujSIhABVepIPE9IDmP4VkRwAALWEoSXMzRIy8Q3AvzOXVxORshE9z25AjHdMjZfBZvbFdV2ua9YoAx86NInziAR0DeH/fk8NuZZD4wJx8oWrcZu9atKxMtUJV+1gGtij8Lkp3TFzgLg6WCmXwWSxSSb4txi9ZgCPpRBB0boik/HGUNpOUSEUtr7Be2N9o52PVbvIRfUMJukZV73MhyYB4I+FxHPmDjaE+cU44ONBzoZfK6ZF5B0ozYu32pvLvVGp3D8s9So9nkx+Ek8NfEq8gfX2SCUuCjFXA2sfAo4K+m9pfYDEKU45P47tfPw0fpDL5JDJGCi04kqXYRF8Dy4P+5e42lIt8hIsKC6Fft+n5KZgKOUb0gJAt2thsxsfiy/woayf9qdjY1EwcP3H/A0jhuRuBFlt0Pe6iTSvtSfMDywrwkvlFiQF2fOVSgUFHiXuNZykGB4fiJSlk3DL4E5u9xscG4CNi0ZhqN1IDvBUg7GJw0ix3iTv6v1NFyDM2/GMfR9VSMMnp5ZiyhByXV9ddxb931wBjy7iViS7s8mskn1A9w3ui9t73I4Y7xiMix5X57/PFQG6gHo/2B8en4Ajz01AXLAXPDRKLLupL7ctpC7hV3tLpTwFX6wgVbk2KXYiPhv/GdZMXY1+Rfz/O9JsweBMknuyS6/DVr0HJ5brr/UXtSDysNkQnXuaPEyWTyRioyz+sdIq47UtxQeAHteT30IPbv45DAx1rui8q6QUEyr5fC2bqfkbI7Ohw/SiKry/7pDkPsrEiZjWNwIDOvmhV6Qvt95lzp0UUobWlHc5aZuGIBwTwHvdsiVEgdssnKG1AygU9Fbd+iqQc4y8ljK0prwDKLVAiCCvU6kV5Q6KZCMy95P3kIK9x5dlkohKIfG649KWuv0tLQg1tDoIrHSDowdICplMhjnd5qCbv6BajK12EiaXO2KqBH67Bzj0DbDf3ixU6wPctQXQ+3MNdVkcc4AUcoVk5eNdSeIkVS8Vr/L++XFe06ibyT4z/vcp59lO31sw0fg6rjUuxU6bOKl7/rcHMX/FAV72YPrXwPgXgMcuADd8Qv4G4QxYWJLPzuoAoJLPt3LF6ewy3PzFXhy6zOeOqZXyOhsdfno1YBXnrXgpicdwz8VCMIzgq60sx5x/bsLaS2uxreQ9qAM3QOl1HB6xH0DmEKJl6eTNG36LBizC2hvWOqm9tyTC6+Ut8GoM6VKHRG2713VYL2J4T+4V5nLXoRFDEeEZgTihXpjFjEGCcPJBGDghVj+tH+dhDDdbsPtyJn+zdfyc+LtIIK5LNwO2BD9CMHmpyMPIyJFOuz5YXIrFhfznT6tufpXzoOpL0IB8X9fsEX9XV1pGI6PPo8Cop/DOrD5Yfe/QWkukiDBVOVe7XfsBMOCO+g5bxE0Do7lQdlKED8LseWS5pe3Q0ErfQ/KopJAytML7Ak9lABNe5Nd5R4gnFEnTa37/sc/z3rjSLCBjH79N4y19TCuEGlodBLYsv6C69uGtJUOWQC1XY2GfhYBXKErlMizUGvDvpX+cd159J/BqOKynfxfXQMVN4EIhY6PEVXmOhhYAeKqcZ/H+GrHxpVI4hwvUchXGVtnFOLW+Tm5om28MUpgoTpfHkY1nrqCc7bvmGUzK7T0FuQc9BTeFtB2k67zVIvZi1VAoUGm04L2NKdh9sRA3frKnQVpy/h7OHi3GTIzBvDIjqjPmuTxWG7gVukheIfqmrnNwX+/7RPtIPaBbK8O6BGDWgCi8cWMS14+uVthlEEb2ScRfDwzHOzN713AAkDD1C8yy6RFqsWBElQFqAE/ZjZYcxsyJvfpqfPHkwCcxK34GVipj3N9o/aU/k9DUwdDaZ5/YDHuYV+nO2IeR2z7E1zl5eKSoGJ5WIDaT/F8DrTb4yEhodEKX5Nq/T2NwfgP0Xw7Hz96kbyjbdggApsvfxZOWBagc/DAgrAauD1te4V+PXgz0vx3ofVPDzilAIZdhy2OjsXLBYHx/5yCE2UVdcyUakLdZ/DrXXDjgKgyrVIs/w/0dEt1jRgDdrnV/bqWGby9UlkVkQFgMpWTS++9TwKk/SI4swwCblwJHvpc+XwtBDa0OAtuOxl3rE0d6BPbAnpv34O7edwNeYfjYzxfb9Fo8vsOh43pVEXByNYrkcoyLisCiYEEOmA+f/xLmGYZh4XwIUKfUodJcKRLbLDc5J9u/9VcRSVp3wxPJT0LeyX7utB3AidWi7RV659J1LwdtqpJKN2HV+PHAM3l8XsG2N4mRJRTfc5O/diCtCP1e3oD1p/lQRnED2nf4e6i5HC0AYBgZDAZPMAyDK+UGWCsT4KsKlTyWcfBiqRQKrtoQAH677rd6J763BEqFHG9M74VZyRIza3fYy8dlHoHoGeHj1NBaCplfJzx7+z5sGPY/JIwjRRlhFnI9L3v4oNxMPr9+GlIB+uzQ5+E7kte4wqgnnc6JcBdimY5VYnHjye+QnsCEl4FZPwBR7Gw/wz5AORDGt++RXViPZIMRd5SWY12xBnmyaSjqfgsA4Fe/Ybi71914ZqhYw6vJ2UMMrL6mg+ikKIC3jBhaTFA3HLM3pveui8Fcw/sAAEY+Dlz7XsONNwdkMhkGxQbAR6/iClbKDe1DZBMA8UDZJW+c8O8C3LxKehuLsP0bOwEQnnvSm4DeTWGCTAb42HPhCi8ARwUthHa+S6ob934CrLqVFIpkHSJ5uX/cDxSlAt9MAc5vdD/GZoAaWh0EVq9ISkHcHVyfRIUSl7Quckbssfs/PT1QqFRgo4ce3K3GoYP7bT34WY2NsWHCqgmY+OtErgny04Oe5rZ7yqJQnXkTSouj8P1e9/lPPhofYJTAAMzYS37HXw3M/gkVZueP+ujEYKy6Zwi3XFzlWlkcAJF+ePAoeV1VABx3qORxkb+26mAGZny6x0kDKKOoSnL/2kAMLd4YYixeyC8zo6jSBLOVeMoe6n+v03F6pbMBNTpqNJJDk+Gp8kQ3/27o4utagbvdYKoELHYPqL4O4UaWxMlAd9J4N9quEZdiIYa2XCaHtzCsITx/lEPOVHAPoKsLWQWlhvSuY5mxghhqs74jmkLdpvChGdbQ2vQisOVVydP5KUzYu3gc/CNJqDTEWImFfRc2f0jYzLeB2qZ6EI8oyaQox+wBs5WBQi5rHC0qnyj+tbzpH3WedkOrQqKReZtGKjQIkOrBhKukt7EIw+JSnlvvcKCzG++5TA4E2XNqj6/kKx0Bcg9O28kvp+8Th+V/uYVMun+40f0YmwFqaHUQWEOLTdatiYLqAlRbqkXrypUuZpl20cV0Fe8hSlWpkKZU4Y3iw7hYclEyTJZTmYNyczkqzBXIrSRfoHHR4zDcfx4Za6kPLOW9Acix8cwV2Gz8OfoFi70AA0IHiG+sLOOeBxKvQYU9LCi8gcsAJMf4o1sYeSjWaGgBxNgKtXsMLjjMlCQ8Wqezy/D46uOSp5r60S63bWPcoVUp8OnsUfwKRomcUgNy7PkhgZ5q3JhwA36ZwhuDwbpgxPjEcMsJfglYMXEFkkOTEaALwNob1uKrq7/qGBp3bIWoQiNd3VcbvMKA8H7o4hGGnv58OyZfjS/kgipXkaEVEAfcuQG44XPguQLgrs3uvSxDHwD6ziVNgjWewJjF4gcWO9svTgNe8BF7cfSBpMkvpynH6h7ZxyNs49OcmMX3lWQ5UazfXUgmAUNiA9xKndQadpJo7/bQ1Hiqyf2v0uTe0DJarPhoywXsPF/3KuUWQWhoscntbM5uTWh9gIdPAI9flC74AJxDk8IcuuyjQNy4mvXjAODSZvFnixVJBUg7nxaEGlodBD8NCR2y5efuKKguwNWrr8bkNZNRWM3fjMscZ4U5x0nVXf45HNGoscqbj8ef73UDPu03Bd9f+hPX/3E9RqwcgeyKbFSZeS8OKyUAiFux2NhQgoX3CpzJKcPpHH6ft0a9hQf7PoibEm/C+2PeJ3pMAV1IIrtCUHnmR5K6y+2zTE+NEh/e3Bfdw7zx2FVE7oBt37Fidxru//Ewqmq4UXIaPFkHyW/2QeaQo7XzfAGu+cBFJY2dpX+7LlHOLzfiz2PZXIscFoPZis+2XUSEn9BAkCG31IDMYnLtIvz0XPsbVkdtZNRI+Gv5cFSUVxT6hfAGa6AuEF51ScBuy7DVaF4hrh8ANSGTAXeuh2zhQUyJu45b7aR27xkKhPUhieo+0cSr1XsWUcJ20cCYQ64Apn5EmgRL4SkdHgYAzN8AzFwBsF5sYxlQksEbWsWpJMRuqr9ntV44GFosWXYV+AExjVAFaTbwhiRrjDYxnEfL6Lq4oNpkxZDXNuOt/87h1q/34XxeLXUJWxLhBHb8C6Rq845/a3+8b7R73bIABw964rXA7fbzn/6DNKGOqkUeYfpe15WLrMe3haCGVgfB1z4DKTWWkh6BbjhffB4mmwn51fnYlL4JAPGEZYD3vliK0oAvxgAf9EP23vdxV6g4Yf18aFfsLuMr8kqNpbjt39tEht6OLP5LIfS0XTGS8l2bWXzD/fsErw4crA/GXb3uwuJBizE2WpBk3/NGsRCePRmTzZvw1CgxpVc41j00ghPC9LPrJW05l4+/j+fg18MuutWzOOYUxNhzwxw8WlvO8RWeIxOkE0pPZ7vO67r/x8N48Kcj+GTrBdH6/07l4rV/zmLKMoHbnJEhp9SAjCLyEIvy42eAX1/9NR7p/wge7f+oSFfpXJF0Q+MGYbMBG18A9nzU+OduDCqukDwOVpPHy3WlYa1QqAClBiMj+PCHwlE6QC4nlbfzNzV+CEvhprmHsRxIsT+wWO/Oez2BlP/I6+I04Nc7gfXPNu6Y3MEwLlW+s+0CpV2C6ulhZDn7N/BKCF8lV5/QcD3w0LChQ9c5WnsvFXJebBsD/NWam1Kz+AqkZ/R+xOMU3M31/nUluLt4OWY4EJlMPrOWalLJnrqd3+7Ou+XYNJylhZXlqaHVQWDzMBgwkgnnQoSViScKTmDZkWXYkiHWLKm8vAOwWXBICVwdFQGjwwPkq9MrnBLvcytz8cWJL7jlDWkbuNesAVZprsSlCqLPYiknX0BWGPCTrReRVuDch9EJCbE8NnToqXV+MAV7i7WXDKYayt0dZ2ediEYZp/JtJ6eUGD3R/nosu6kvBnTyg0wGTOvHFwi46t0GAPvt/fs+3CI2tIRtS2xGMhZzeRLyygxIt+d9CVvVRHpF4o6ed8BT7SlS/r+95+3u/sq6U11MtG12vgv8t5iXHGhNfDwE+GIscI70p+Ma5zaQKO8oJPgRHTPH6loAxMBqqpDs2Of410MfJB4AgHh0MuzCv6ECSZODX4qPP/gVmo3qYsBkD+N055vRH7d1xmYr0UOLD2mAobX5FeDnm/llmbzB4qS1hW38Xmn3aJUZzFh7LBtVJgsMZit+3JeO5/8UV0NvPONCULU14SvwaDXFtQwVNH3XeJFQukLJh8hP/y7eX+9PQu4sQd3ESfdSlLWsodVovQ4prRuVXAUvlRfKzeUoNhZzHi4phFpbv1/4XXKfiuzD8AHwha97LZO+wX3ho/bB1sytAICsCt5bZGH4EN3inYvRJ6gP0svTYYMNNrMPGHMAfl4wGP2i/fDLQSIUOfp/W5H2unTzYo6xzwKXtgKDecmC0moyy/SWMLTig8XhMtYoc4nSQRQzcQqwYQlpU3FmLVeyzAoXLr6mG3x0Knx9ezJKq8wI8FTjnxO5qDZba5UXZjCLjTHh+KrS50PpeQ7m0n4oZEw4dJkYt4mh0iHAEI8QHLnlCI5eOYrewTXLGdSa1O3At1PFzY4vbAL6SnQZqC0WU6NXiXEdC46vJL8b6tES8N7o93Cu+JzYw9ocDH+EJOcHJRJjLvsICaFUFgJXzpB9htxPqrMyD0ifg2GazhAEgF3vE8OblUnxDAVmfotbnnkDlTY1Cv374P6hMagwWtA1pAHh670fi5cH39co4qS1gTW0WJmYx1cdw3+n8jA7OQpBXhos28xPmD6d2w/3/XAYp7LLkFtqQKhEL8dWgzB0WNvcrLqg8wMSJgEp/4gnDQFxQL5Eqx3vcPGYwnoRTa3Mfc77KlSA1SwWR20BqEerA8EaVzXladVGa6viCkk01AiS3PVKPf69URy7f3/M+3hn9DuixsKu+PHsj7hn4z0AAKuBeH26hXk7KUHXqD8V1BV4Mg0Yw1cwsl4gqcbNXUPFM+grDo1unWDL7Nnx+MUAQ+xG3dY3uJ6HrEcr3JfcRL21KkT566FXK7H7KfIwLqkyw2ipm2BkuaCqibH4wlwyCGp7Xhqbx9Ynytfl8Uq5EgNCB5AWQo3FznfFRhbguqFvbTj1G2lRs2YBUEOou9ZIJcT6N16FZZR3FMZ3Gi9OhG8O5AoSymENJTZUtmY+b1h2GUeS8F1RkAIcWkFyuBqTkgxg5Vxgw/PECDphlwOwJ1jfe8ed8Iwfhm/vGIh5wzpj4dj4+hdjGCt4bxlLl+YzetnQ4ZmcMhRUGPHfKeKt+vlABv49yXt3ZydHYWLPMM7rnFHczDlydUWtB2Z8Qwo46tqYurZM+wyY+R2QPJ9f56ra0WYjCfRsEUtEMuDjLN8DgBhZgOsJRjNBDa0ORG0rD2ujHv+0JQu5CgWqogdx62YnzkaEZ4RoPz+tH1QKFb68ShyuWH3tasxImIFeQbzmz39p/3GvzSUDAEj3MssvN6KkJk+QwyyWN7ScZ45JEb5QyGWCfWsQHIwZjvzRbwAAHjcvQEmVGRi+iOQO5J0Azv0Ds9XGGWxSs1UfnQoqBXnPwoqavVpsQnxaQSW+2kl6jj1+dVck2xOHbQ4J89GC0GGzkCNRWVnfSp/KAmDVPPL6+Ergd2eZinpx4AvndbGjG+fcrQmpnCSdr3uP1R/3A2sfJDlc5kYU3PxhBvHyshz5jvy2P0SHdgm0N1d30RuvJvZ9Dnw/XawCL8yhDHHfQ7QxETaIH7BUXJEsvPRxwcRAYHND61t53Kz0uIEUcDQVWh8ilyK8b0tVkQNk8iCT8XliXiG8qKkrWrirBTW0OhA1aWkdzz+O63+/HusvrwcAp6a4Qs6rlVgRGIJcu0DjlNgpeLDvgwAArULCsND44IG+DwAAegb0RLxfPJ4f8jx+uOYHrq9ifjXRQLmt+21Ydet8bHlstOR7X/PBDox6ayvnMXIFwzB49vcTeP6Pk8gsJvtKebTUSjm2PjYaE7qTNkWptcgDOxU2DUmGL7HKOgqXi6rITK+fvVF6yr/IKzOAYQCVQoZAD+f3lMtlXGNdKQ+axSr2DrEhxnt/OMyt89QoEWzvrza+G9+vb3ZyVPNKNBhKnZuIA0Srqj58PES8fHwlmcU2hJxjJElfiFc4EBgvuXubxjHvLGES/3rCS/xrfSDQy/7wFM748880zjjKc53PxXqcXHkr6so/jwMXNhBP2QVSuINOQ4H79gF3bmy0HLzaEOipwSgXRS8y8N/HcLuCPFvtXOOksaPiKuRbchl4N4n/zOr8nFMA/BzaWnUZ0/jjqwPU0OpAsOrwF0suOm2zMTbMWTcHF0v5bcvGLkOQLgg6pQ6L+i9CpGckwgTPu+/1SqSVpQEA7up1F1dtFaCTrvJZ0GsBTtx2Aj9N+UkUXnHsbzg0fCj6Rfuhc6D0LLegwoTSajO+3pkqSgx35FJBJb7fm45v91zGthRixAW7aDoc5a/HS1PJ7PdifqXb8wLA1nP5KIcegAyfb7dfM7t3j7lyGq/8TR4woT5ayOXSRg/rdTqV7Wz4OuaJ5ZYasO9SIc4IJC68tEqE2g2taH8dvrptAF6e2gPPTnGo4qmBQ5eLMPZ/W0VVkrXGUAbs/VR6Ww1FF5JYzdIhR6ny7PXPAt9ez4cH3J3zMwlRxPjxTZuX1FIExPGvRz0JzFjOLw97CHjYnpBtLJNWqs8+ShS4V1wrrvaqK4UXXG9rDEPLIviOMlYg5yh53XkkEJxYO0mARqa3i5D9OYGMA6t67+fBerTakZJ8Y5I4mUj1dBruvK1UUHik9yd5WywzvgEeOirevyG5oo0ANbQ6EPG+ZPb++8XfYbGJH+R7svc47R/jHYPfpv6GP6//E7f3vB3/3PgP3hz8guS5g3T8TO6+PiRf6apONagG2xEaWiq5Cn1D+tbquC92pCL5lY3YniLdzFlolLCEuUk6DfXWcvlgb/4rkYRpx2pj8OvhTG5581m7YRBEXNnWvDP4x56TESwRqmQZEU9CHFLChWzyPsuUZTsx6/O9onUWG4MQe8VkXrkR47qF4JYhMVxSbm15899zuFRQiduXH6h7/8WtrwNbpZXIax06NJYD2/8HZBzgpQccKSCSH1w/MwDYvYxUOV7a5vrcDCM20qa8C0x+B0i+S+zdaU8IdYkG3AmoHMrhdb7kt9UEqPSkMk/IXw+TcG3qduDvR+s/DrZTQnAPYI64JVajGFql/HcQCg0vyOoZIr1/M2A015xPmBhGkv397aFD6tFygU8k8OhZ4NY/3DdY1/mJDa269AhtJqih1YG4udvN8FB5oNRYijOFvEufYRiReChLoD4QPhofhHrw7vc+3W7EJ+M/cdpX2Az62thr8eM1P2Lp8KW1GpcwUT7KKwo6CZ2UD292bXx9stXZQwdIa1R18nedCyKTyTA8jhg/juE8s9WGg2lFsNoY5JUZRAnpRouN5EjZb/BKcwUUIDfccd3E3johSZG+AIBL+c4hNikj0ZEe4d4IsXu0pHpBXik3wORGPoLFJjCuckoNOJdbB0/UXoFeVryDYX36dyDPtSArx5ZXgc0vA1+NB1baZ57BPcS5NsWp5FyfDge+u0EssmlxkVNUeBF4OxHYJDCo+t4KJN8JTP5fs5X9NztB3YgwamCCdENgoRL+O4mAp5vKy6qi+o+DNbS8w4DIAeJtQm2m+lKcyr8uOMcbWqwh2QJM7Ok+VPn7/cO4lAHWo1XYFnK0Wgq9P5F6mLEcuG6Zs0BvWB8SNhQaWqxRpnFfEd+cUEOrA6FWqDEghNzwThbyei4v7nkRnx3/TLSvv9Zf0uABgBC984xRmBMkk8mQFJTk8nhHNAoN5nabC51Sh5eHvSy5z5Re4ZjaR7qyJMJP+n0Opzsn/fvo3Vfa3TKYPADyy434/UgWbvt6PzKKqvDCn6cw/dM9WLE7jdOqYr1jDGMv6Rbod+lhxH2ju+C+0XHOb2InWlB1JPQkma023PM9ycUSJtiyDIsLwKp7hqBHuI/A0BIbhlvOXsGQ1zZj8gc7apSrEHrPrvlgB65+bzv2XSrEvOX78diqY+Kdq4uJkWMxAStv4df3mgXM/BaY9gXxGrF8MgQ44KDbJCTzoHNJPkA8Hg8eAXrbNZHWPUbOlXeSeLGE5dpWFw+qHe+Q3minfiPLIT3dC3y2F5RqYOF+4J6d0gKpMhkQKei5qHGjWyWhSVdrqkvIb60PMWrZBthAw9TaMw6Q5P1tb/Lrdr1PKieBFjWg+0b74a8HhmNykrTxKqwGZsP+2SXuc00pAOInkBxYodzLNf8j7ZVkMrEBxt4PRpPcX/SY1nzjdEEHuOtQhLDeqSIDmalmlGXg1/O/Ou0X5eWi4gMQtXEBSPJ6Q3ly4JNYNGCRW8kBVyExpUQOFMMwOJYhzn2K8K3Z8GNnm5nFVXh45VEAwJwv93HG1dvrz2HJdSSXKy7YE8VVJhjMNhy6XASlTIaRMjnA2KCDEbE1KFxH+OogkwFVJisKK03ce+eW8h4ak8UGH51KZAw9PakbekaQKppQgUfr0OUiFFeaMb57CD7ZehFWG4PzVyqw7Vw+JveSvvFnl1QjrZD3DpVUkfcRhikfv7orMejK84CPBxEhQaUOuCxQpp/yHglR9Zrp3APy70eBzqOBwDjg8m6iBM16HVyVXfeaCWi9yTFS5AtU7atdeF0cjYz26sGSwjFc6MiMb0iFIWMjlXlyOa+5JcRFu5xawXq0tPaKr9k/AB8NIp62mloPucJmJZ5PdzSF1lMd6Bnhg5ev74kgLw3mDY3Bk78ex77UIsxOFt9T2UlUegOay3c49IFEGFqlBwbexa9XqsnkoTgNiLC3FRt0DxDel3i9WhhqaHUwHCUeMir4/JXbut+GFadXAHBOUBcSoAtAgl8CUorJDPLRAQ3I4xBQk66TUNV9/vDOkMlInhZrHAgpqTKj2iFf4vf7h9U4BrYqsUwQGhTeCEO8tVyifIi3Fj46FQxmI+74hvQ9vOilh8JcAQ+ZgdPPcoVaKUeQpwZXyo3ILTUIqhB5Q2vRhARoVArsuViI/07lol+0H3qE8y5x1qNVZbLixk9Int3mR0chSzBL3nWxwMnQKjOYcTanHDM/c87Nc2T+ioNY+8BwUppfXUxa2LB4hQGT3yZaO9wfJmFglqSRJPflkwDvSGDRKbKe7Tmo8+cNpsnvkHJy9vxSCIUMXYW3lA7Xn33gUwCfCOD6T4Df7iY5bFJGFiDZKL3WOBpaHoHES+ko+FsXqp291E60AoPa30ONF+wTsndm9cHR9BJc1UMcCWA92tkl1TBZbE56gRQJpn0O/PUI0O065213/GvPO7RPMuQKvmtHC9Nh/7MlJSVYsGABgoKC4OHhgTFjxuDw4cM1Hwhg3rx5kMlkTj+JiTWLcrY0bOUha2jlVZIH3bDwYXgs+TEMCRsCpUyJSZ0nuTwHAHw36TtEe0VjYszEZpMS8FTzhtag2AAux8kxcRwA8iuIMeSrV+HNG3th1T1DJKUdHAnwVIs8ZAoHbxkDPnnVT69y0vkyycmXXA8jZwS5w9ceyhT+DWwYUKWQ4cZ+kbiudzhem5aEw89NwJe3DRBdb51a4aR2P2/5AZH0xYlMsWevzGDGoFc21crIAgSGZnGa88arXyHVQUJCegIhSeJ1JRlAmt0DVpZJ8qcA4iUDyOwzdgwJFSbfyVcDugoxCQ0DV4YW21SYpRU8gFsV7LV1J+ZoMZAwcX1wNLQA4qVsiKFVKV34IqIh4c4mIMJXh8m9wqBSiB+3QV4aaJRy2Bjg3u8P1SqfssMTGA/M+wsYtMB5m1xRsye3heiQHi2bzYbJkyfj2LFjePzxxxEYGIiPP/4Yo0ePxqFDhxAfX7O2jkajwZdfinNPfHxa/4yZDfutv7weay+uxfO7nwdAWrMAwGcTPoPZZoa6ht5RepUef93wV7PqNQk9WlH+OlyxGyQlEoYWuy3YS4OZya7DoI6oFHJM7hWGP46SpsM3D4zGd3svc9vTi6pwyp5k76tXw1cnvk4GmQY6ADoYamdo6djKI/I3FFYYcZ9dK2tC9xCX0hBCQry1KDPwFX6OoYhzueUwWWw4kFaEOV9KtKmogdJqM5lxS3kTEiY6r9N4AvfuJCr5bEViaYY4pHNmLVHYP/YjWfaJBG793flc0UPIT7qDUXhSUMXmqmFshYNMRDM1F24zBCaQvog2iRy+wffxuXM73hZ1Wag1Rfam8o3Y5sitoaXxAZKmtxnJDplMxvU63XT2Cp77/STemN6rhqMobZEOaWitXr0au3fvxqpVqzB9Oum9NXPmTCQkJGDJkiX48ccfazyHUqnE3Llzm3qojY63mg87Ld65mHvNJrjLZLIajSyWZhXFBF/VDwBRfnoY7T0AS+0eJoZhkFtmQJiPDvkVJPxWGy+WI4M6B3CGVoyDlpfVxmD3ReIp8dOrEeglvlZFZjX8AASoLbWSWWCT8+//8TBGJlyFNYf5JO+4GnK8WCL9dDh/xVlKQa2Qw1unQkGFETsv5HPhTVf8cvcQkZdrTNcgbD9fAKuNQVGlCaGOhta45917D0Y/SXJxNjwPFF8Gzizjt21cQn5YPF2EqhUqYN7fxJh614XKt0Mzb1jNpNdlht2ojBxIDDlB70sKyDW/bpm08n6YoA/mtteJ8RI33rl60BWmKtJzEQAianlMbaiUEMbtPIqsv2tz/XO/WgHrTuZQQ6ud0iFDh6tXr0ZISAimTeOrEYKCgjBz5kz88ccfMBpr6HVnx2q1oqysATkMLUDPwJ6S6zv7dJZc35oQ6s14aJRc2I31aL27IQVDXtuMXw9lCjxadb/xRgqqGLuFudZk8dOrEOknrgosMhPjqntg7RrZmgUK8N/uuYyL+cRgig3ywH1jXFcsCuniwiAL8FRjij0364EfneU7hIzvFoKBnf2x/pGR2P/MOHx2S3+8N7svAuwl6AUVRuf8mKSZNQ+ObaNxcrXr6kBALLLpiFxBDKXY0YBUHp+jofXv08AP08n7BXYF7lxPysO9Wk5fqdXS52bSlJolbgL5XXxZvN/W14Avx9V8PkMZqQD8bzFgNZLWKEJdr7py6jfSZodFytC69Q/g3l1t0sgaKVCSLzdYUGVyXSFsttpwubCe3RYoLUqHNLSOHDmCfv36Qe5QlTRw4EBUVVUhJSWlxnNUVVXB29sbPj4+8Pf3x/3334+Kinr2dmtGfDQ+OHzLYZHuFQDE+dbuod6SjLe3yGEV49mwW5XJCpPFhg82EyXqJX+ecttEuiaEoqbdw7xxzyjyoJjSK0yk/OyrV4uMMgCoZsj73dI/ELVBWNqdWlDJGVoPjYuHVlU7Y61LMP+/FKrpJ8f4Y+HYOGhVclSaXAspTugegicmdgUAJIR4IdhLi6t7hMJHp0KAPUE/r8zA50LN+RV4oRTwrUVItrbClLXRVbrld+CJS/wy27+sqkAsjirsaRjWu82EklqM8S8AzxcBT2eSMnqAhHylFLlraoX09yLiwTxkV6Pvd1v9rz/DkJ6X/zxOWq7kngQMJfbz3goMWQjc+BU5fxv9H781vRceGsenqry38TzKDWb8uC8dG0/nifZd9MsxjHprq9N6SuunQ4YOc3JyMHKkc0uOsDAy+8/OzkZSUpLTduF+TzzxBPr16webzYZ///0XH3/8MY4dO4atW7dCqZS+rEajUeQtaylvmEquwsyuM/H1ya+5dTHeMS0ylrrQK9IX6x8ZyRlCXlolZDK7+LcgT0urknPJ8K5a7rijS5AnJieFIdBTDV+9Go9MiMfAzn4Y1DkAz/1xEscySsh+wR4wOfQkrAQZm//6h4Du42o0RhJDvZGSR4yEvDIDsktIyLMuTaFHJQQhwleHggojFoyMha9OhfwKI6b3j4RercS4biH4+7h0HtOtQzrhpanSXk4AiA/2xJmcMqw9moVxrEcrKKHWY6uVoZUwSVrvyRGZTKz67BMBlIEkXZdmkCazjsr2/q3fU9sqkCvIte0kqMwVynewVBWQooLNLwMB8UC/W8TbHVX6/TuTUK7C7omsLibSILXxPgk9qKXpwK/zgTi7V03rA1xVO0Hk1kyItxaPTEjAb0eykF5Uhc+3X8LuiwU4mUWeDZdevYbL01x7jKQzLNt8npt0UtoGbd7QstlsMJlqVxWj0Wggk8lQXV0Njcb5AazVki9/dbV77ZjXXntNtDx79mwkJCTgmWeewerVqzF79myXx7344ou1GmtTMz9pPqw2KwaGDUT3gO5QKdxLK7QWEkL4B61cLoOPToWSKjM2n+VneRqlgsuxqo9HSy6X4aM5/UTnG5tIbmyzk6Ox5nAWRncNQrCXFv56Ne4eFYsIXx2e/+MUshiBJ+vAFzW2eXl2cjeczC7FpfxK7BC04vH3qF2eHECa1O56aqzL7Uuu7Q4fnQo/7hOH2OYP74wnJrqvlJ3WLwJ/HsvGvPMPADb7JEHn7/YYEfpAQKYgveiEBHYFZq4gCfJ1kV0Qei5UeuIJyz1OQl1BicDyaxzepw5GIQUI7Qn0vYVIeUjx+RggvA9w9i+y3Hcu8Ns9RBh2xjfOlZ5n/wbWPgzcvZ1IgHw8hPyf7nTRaklIhYPnJv8MEGLv46lp/YVHdSHIS8MVsbBGFgDklhm4JtQsNQkQU1ofbT50uH37duh0ulr9nDtHRA51Op1kHpbBYOC215VHHnkEcrkcGzdudLnP008/jdLSUu4nI0OiUW4z4aX2wmPJj2Fk5EgE6moX5mqN+NrlFZ789QS3TqghVR9Dyx0DO/vj34dH4MObiSGmVMjx9KRumGWvbExlBBVWjj3kJAj21uLTuf2d1jtWMzaEYC8tXr0hCd/fOYhbp5TL8MiEhBq1e6L99dDAhD42vpOAWyVxR+Ry0kZDyB3/AffvIx4o7zCxBlddUOt5j1lJOqlyS98t3sdReoJSM9ctk86FA4g0h7DRdFURcPxnUnzwz5POBvXp3wFzJekOsP8LEvrL2At8Mbbm9j6OhhYAnLSLK2tbT3uVxuDF63o4pSEAQFqBc07WxfxKpBdWOa2ntF7avEcrMTERy5cvr3lH8KHBsLAw5OQ4h1LYdeHh0q1e3KHT6RAQEICiItc3D41GI+lJo9QfH70acHPT6RriOpm9viSGOt/kNUoFll7fE0xVGLDdHpKtZVNlqTY7XtrG/2oOjw/E/sXjkG1XnveoRVVksLcWUTKBTML0r13v7Ap9IF+WP+55IHqw+/1rInooMaiS5wMZ+8m6ksvAxc38PjIFsOhMq9XVadXIZEDnkcDFTUBEf+DaD4BPBSFFoYhpkaDP6BWHRuxaH15LS+MJFAl6E2YdAo7+AAx9wPU4WHmOmBHkd9oOflsrbBzcEHpG+OD7Owdh9P+2itZfLqqClOTmbcv3I8BDjRBvrcj7TmmdtHlDKzQ0FPPmzavTMX369MGOHTtgs9lECfH79u2DXq9HQkLdww3l5eUoKChAUJBEE1dKk9ElyIPLmXLkiYlduWTu5mDu4E4AOgGe/yO9+Spya3WcRqnAijsG4rav93PraqOfVR+CvbUIroW+F4unRolENQlpGoOSoOl5Y93f1CMQYOWP4mpon1Ibbl5JWvBEDgDK7de45DIvJzDsIWDUk61OuLJNMeMbIHUbMWo9AogIbd5J5/2ExlOpwEN/zdvECGO1uKwmkt8lZP2zRHJD7qLog9Xh8okkel8iQ6t9ebQAIFDC+842i2cccg9TCyqRavd2fWBjnISVKa2LNh86rA/Tp09HXl4e1qxZw60rKCjAqlWrcO2114q8ThcvXsTFi/yszWAwoLy83OmcL7/8MhiGwcSJEgKOlCZjcGdehPL5Kd05yQeVQoare4S6Oqxp8bK/r5SSugtGJQRhVEIrNNL3fIQPZaR5b4W+lhWEjghzsLwjGj4mrTcQlUw8L2y1Ykk6bwj0mk2NrIai9Qa6XUuMLAC4/mPp/53QuBL2nFz3qLhZeFkOUCEhNprpRtuNbfUU3te5qKIh6vKtFA+1s8HJVk9XuakaLqgwivqjUlofbd6jVR+mT5+OwYMH4/bbb8fp06c5ZXir1eqUrD5uHKlySUtLAwDk5uaib9++uOmmm7iWO//99x/WrVuHiRMnYurUqc36t3R0Bnbm83/8PdQ4+vxVyCiqgk6t4HoHNjuRyeR37gnicfGqncE3NjEY21Jq0WKkPtiswJ4PgZjhJBxUWw6t4F6W6CJRL2114QO6sdXZ2Qdw3ile4dxV2x5K/QnrDUQNAk6tEa8XepncceIX6fVFl4DoQdLb2H6Wob1IXpeQWuQ/tjVkMhkSQ71wNpefyF+xG1rl9t6rCrkM6x8ZiXFv89Wdty8/gNM5ZVj34Ah0D29/nr72QIc0tBQKBdatW4fHH38cH3zwAaqrq5GcnIxvvvkGXbt2dXusr68vpkyZgg0bNmDFihWwWq2Ii4vDq6++iscee8xJm4vStAjzm0Ltsg9RdZBGaBK8QokaeeZ+YPcy0g+wFswd3AlWG4MhXZqgVcyR74m+EUA0sGrCVAlc3CJqb1OKeubFjHuO5OoEd2t8vaOALiRx22aX91B7tbtE6VaDt0Tu6qWtdT/PkIUkEf7Yj3x4UAo2v0sfQNTfWXrfRMRr2yHf3jkQn2+7hGBvDV5dd5bzaBVVksp6H50KnQM8RAbZ6RySM3fvD4ew7fExLTNwils6pKEFAH5+fvjyyy+d+hU6wnqyWHx9ffHddy5KnynNjkwmw6/3DsHJrDIM6lwH2YGmpv88YmhlH631IQq5DHcMbwTdp/xzJFlY+GDM5PO/cOYvovR93Qdi79a+z0iC8tSPgE+dxSpTtd1Qr7RbjRcw7bP6HFkzSg2RJGDzs6SMAUrjUN+ehWovwGT30vhEE8mTvZ+Q5cu7pY9hGL6YRONFtNvmbybeynas8B/spcWzU7rjqD3vlG0On5JHrl+XIA/I5TL89cBwDH19M+fxAoDLhVXYc7EQXUO96iQPQ2l6OqyhRWk/9O/kj/6dWpGRBQB+MeT35Z1k1t9cM/Dso8Dno4CgbsD9gnCLVaC9s3IO+b3/S+AGu6FVeBH45wnyWsLIetk8FzJl96YZc0MJ78cbWrVVoqfUHe96Glr3bCd6aXIlES6VK4Ae1wMbniPfj82vAEkzxEK45mpeKoKVE4msQ8i7jcMKFueVGZFWUIkzdq8VW/GsVMg5L5eQm74g3/lnJ3fD/BGxzTRaSk3QOBeF0hQIH0o/16P5eGkWsP0toLqkbsftep/8zj/Dr7NZgcu7nPcVlumnbnPeLuAf60AUVdVOGLjZiRD42YLch/4pDcCrBm+hqzZKXmFES03rzctt+ETylYPb3wR+uFGs6m9k85RkgKrjFTb46Xkdsxs/2Y3PtpMQa69IvrDEYmOcjmNZ+vcZl9sozQ81tCiUpkAYZjE5V6nWyL9PApuXAitrYaRd2sqX2Zdl8+stdsNo00vi6jAWQf4V0iQMMQGV0KJYYgbdKhC2jWE9iZTGRzh5UEiEpu4VhAFDe/GvXWmZ9ZrFvy5JJ15VFpMgbNgB815lglzGQsH3bkR87SuT914qrHknSrPQ8T7BFEpzIHy4eNYxpyRlPXBmLXntWNVVcQU4u4409728G9j3OfDtVOCDPuQYYXUW+7Da9R6/7v79JNcFAErsxhfDSHu8BFRCi+Iqs9t9Wgz/zqTvXVgfoPv1LT2a9otw8sCKiLJMeImE+ML6kOVr3gLmrgHmb3J9vlFPAGOfA/xJ03ZkH+a3sd7WdiZMWhc+cRAiDfBQcwU/ADAi3n1Hj8VrTrjdTmk+aI4WhdJUTF8OrL4dUNZeIBRWM7D6DvE6Yzn/wPnqKqA4leQilYh7Fzp5v4zlzu1vAhP4h1jlFdK4d8trxLslrN5zwAIliltr6BAgCuPuVMYpDUepAUKTiAJ88p3EMGIbP7OyHbf+AZRmkgKFmvAIBEY+RvTPii6SnpWhSaQ6lQ0ddmBD6+oeoVApZDBbSYjwqUnivqTLbuqLXRcKcbmoEsO6BKJ3lC8yiqrw2j9nsO5ELsqNFmSVVEOlkCHYqw73IEqjQz1aFEpTwYZPSi4TTa3akHvcOdT4WiQvflpsDxE6GllSsB6tgHjyO7g7kVfQ+pDqL4CEDPfbKwIH3c0f6+EcopBKvqV0MG7/F3j0HOkhKfRwsYaWzrd2RpYQtkn57mXAx4OJocb2QVTXoa9mO0MulyE2kP/7hd4sAPDVqzG5VxjuGx2H3lG+AIi0zQvX9gBAxE6Hvb4Zkz/YCYvV1mzjpjhDDS0KpanwFBgrO9+r3TEXt5Df8VfxxhBAGvLWFbY8nq3emvwOvy3EXkHIViAq1MD4F0koBzJx/oydcoMFZnrD7thoPHm1+ISr+fW6BlT9Onpdf5gJrLqNvPZzkWDfQVgwkq8cDKll66xATw3UCv7Rnl9uFImg1pXM4ioYLa6V6Sk1Q0OHFEpTofXhGyCn7yG5UDUJdp60K293u45XxgaA038QZffaENSNVB3+OJO0UWFFIYVCnj5R4mMGLgAUShLKGbiAhGwE7yeTkeGXVJkRJNGTjdIBGfEYaa1TVQiE96n/eRy7BVw5xb8OTar/edsBN/SNwMYzeSipMiM2sHbVl3K5DL0ifXDwcjG37khGCXpG+Lg5SpoDaUWY8ekeJMf4Qa2UIy7IEy9OraPHkkI9WhRKkzJ3Ncl9Kstyr4INAHs+4h8yiZOBziP5bVJVgwPucF4H8L0FDSXAEYG4rjDfxVHYc/wLguO9iWXlbW9l02MafHSk3JyGDykcGk8iRDt3dcN6D7rzhoV0bENLLpfhk7n98dOCwVAqav+4fv1G8XUrqqjf9/bjLRcAAAfSirHrQiFW7LmMSqOlhqMojlBDi0JpStQepEccAKRul95n/bPAR4OA/xaT5dBeJJwy8Q1g5rfSx/h1BoY/wi/f+BX5PfwR1wnEGoFHy8OhYkmhghO3rCHnm/IOpzRdWGl03o9CaQjuwoMd3KNVX+KCvfDN7ckIs+d1VZncG0e/H8nC7gsFTuv9JBTmz1+paJxBdiCooUWhNDVs09ysg87bjOUkCVgYJrze3p5E4wl0nwrM/I7kayXfRdarvYC7t5PKw1k/kATlpOnAojPAmGedc15YhAaY0Oga/6LzvgAR/xz/AqDzQ6AH8VhQjxal0YkaBEz/mkiPOEqhtON2O03N6K7BmDmApAhUujG0TmWX4uGVR3Hzl/tgdRBBLZTwhKU0IN+roey7VIiRb27B2+vPtdgY6gPN0aJQmpqIAeR35iHnbRVXxMtjn3Ou2up+HfkBgKELiZHE5lt1m8Lvx4YDAxPgRI9ppPUJS+JkoM8cIvbZd06NfwLr0aKGFqXRkcmAnjeS1wu2EYmR3R8C0YNbdlztAL2afOerTK6T2c/k8IZTakEl4oL5Ske216KQ9zedx4wBkSJR1eZiwXeHUFptxlc7U/HoVW2nCwT1aFEoTQ3buDn/DFBwQbytMl+8XFNPRL8Y1x4rFqFMA0C0jaZ9Ll6nUAHXf1wrIwsA/D2JoVVQYaKVh5SmwzuMeGqveRPoOa2lR9Pm0WuIL6XK6NrQOnS5iHt9KrtUtK1AwqOVVVKNrSn5TuubGquNQWk10fmrMlnBMK5bELU2qKFFoTQ1XiF8ld+H/YEP+vI6WEKPVkAcEN634e+n8QKezQeGLwLu2kKMN6kcrDoQYPdofbDpPLo++w+OZpRgy9krNDGWQmnFeNg9Wq5ChwazFb8eyuKWT2fz/U8tVhsnUvz2jN54/Greg7TzvHM+V1OTWVwlWmaNrrYANbQolOZgxKP866JLwKrbyWvWoxU5ELhzgzi81xCUamD8EnHD5QbgL0iKtTHA9R/twu3fHMD8FQfbxMwys7gKH225AIOZ6gFROg56NfFoVbsIHeaVGWASeKhP5/CGVlGViVOkub5vBO4fE8e1/Tkj2K+5cPSu5ZW1ncIcamhRKM3BgNuB2/7il9nEeFbyIax3zSHBFsRfovoIAPZcKkRKXstWIaUXEiPKnajizE/34K3/zuH1f8663IdCaW/oOY+W9Hcjv1xsrJzKLuMmTmwivL9eDYWc5GO9eF0PyGXA7ouFSMlr3qT4MoPYg/XN7lTJSd7aY9mY+uFOpBdWOW1rKaihRaE0FwFdnNdlHiC/2TyuVkqgp2udpH2phc04EjE7zudj5Ftb8NZ/5/DpVmmdMoZhkF1qAABsOJ3XnMOjUFoUDw2bDC8dOsyxfy96RnhDIZehqNKE3DKyLs/+W/jdjw3yxNhEUgm67kROk41bijKHUOFP+zPw8wFnfcEHfjqCY5mleOmv0801tBqhhhaF0lx4hoqXv54EZOwjr1t5hZUrjxYAnMwqdbmtqXlpLX8zPZ5ZIrkP++AAwM3MKZSOABs6rBQkw5/OLkNqQSUAYpQAgLdWxSnP77lYiOySapyy52vFh4j7TY7vFszt15yUGZyNxfWncl3uv/FMHvd3tjTU0KJQmgu5HHjoGL+cvpv8jh0N+HdukSHVlgAHQ0spl2He0BgAQFpBy7no1Ur+FqZRSd/O2Fk7QHK1aJ4WpaPgpSWGVrk97FZUacI1H+zAmP9tRZrACOkR7o0IPx0AYNEvxzD09c3YfZEkvPeO9BWds2+0HwAywbLZmi8/82AaqY6c1DMUId7Ey5ZdQr7bW89dQW6pwSmUOOZ/W1HcCiRpqKFFoTQnfjFA9BDxuunLW2QodSHAU4MIXx3UCjm+uHUAtjw2GtP6RQAALjXzrLHMYMa85fvx/d7LMFr4RN6sYmfNHwDIFRhaNgY414KCixRKc+Jtb51ltNhgMFtFSez3/XCYe/3guHgEO/Qw3XWBeKwSQsWdJuKCPeGhVqDSZEXs4nXYcZ6Xevj9SBaGvrZJ0rtsstjw8/50FFTUPYm90mjBH0ezARDj8ae7SATgXF451hzOxLzlBzD4tU3o89IGp2P/c+P1ai6ooUWhNDdBifzr7lNbdRI8i0Iuw3+PjMTB58ZjQvcQRPnrERvkCYVchoIKo2h23NSs3J+Brefy8ezvJ3FB0A4kW2BQCcl1WE9biFA6Cp5qJdhoeVm1GY+sPMptYysMHxmfAC+tCsFeWslzdPLXi5YVchlGJgRxy0+uPs69fnjlUWSXGvCEYB0AlFaZkfDsP3hqzQmMenNLnf+OrBJ+ElVabea8bwDxwAm3OfLUmhMtIkchhBpaFEpz4xvFv9b6ttgw6oqnRglvrUq0PDiWGImbz15xdVijcyZXurS8sMLo1EIEAA5dLhYtZ5dIe74olPaGXC6Dl/07+8/JXFxxqDKcNSAKd4+KBQAEeTkXvMhlQLivzmn9/BGx3OvsUgP+99853PcD3/mi3CGf6oPN57nXlSZrnSsCl+9K5V4/NC4BGqUCYxODa338xjMtWwRDDS0KpbnxERhaOt8WG0ZjkBxDDK2Dl4uw9K/TOJpR0qTvZ7LYnIy6z2/pD5mMhAUdm16brTb8aw8dDI8jGkBSbUUolPaKt47kaTkaG8PjAvH6jUnQqkhlYnSA3unYcF+dKA+SpX8nP5x+6Wpo7XmRH265gHUn+BCdUiEuOrlcKPZ437Z8f63Hb7Ha8NN+Ul3opVWiezhpP3bTwOhanyM2yKPW+zYF1NCiUJob7wj+dRvyaEmRGEpueutO5OLLnam4/qNdTfp+xzNLUFLFhwf6Rvviqh6hCLA3vb7iIGJYXGmC1cZALgOm9AoDAGSVGHAquxTzVxzAuhM5bUJwlUKpLyWV5Puywx4+e3h8PE6/dDW+npcs6lc4PC6QSzJnifZ3Nr5Y9GolRglCiEIcq3uFuZQA6anIJrezVJusePmv06KcLwDIEOReapS8oHOUv7OnzRWdAqihRaF0LEK6868t0nlFbYWeEd7N+n5n7Inso7sG4fNb+uOLW0nDbjaRN7/cCIZh8PXOVCzflYoMe9sOP70aUfaHRnZJNZ5ecwIbz1zBfT8cxtZzzd+3jUJpLvwcKoYDPTXQq5VOniqVQo6fFwzBwM58zmgnCS+XkM6BnpLrL+VXoqSKr/aTUqZ/bNUxHEkvRkGFEQazFd2e/xdf7UzFLV/t5/IqX/jzFMb8byt3zHuz+nCvYwI8JOVa5DLg4zn9sHHRFtK36QAAOgtJREFUSG4dK13RUlBDi0JpbnR+pA+hUgf0vLGlR9MgIv306Bvt2yTnrjRasC0lH0+vOY7SKjPKDGa88OcpAEC3MG9c1SOUE1MMsDe9Lq4y4b9TeXjpr9N4ce1p3PjJHgBEB4zNNckuqUaRoOR754WWTZSlUJqSpdf3FC27Ex/uHOiBmwUhuSg3Hi0A0EiEFVn6vLSB+54Jv29hPiTpPq2wCjd8vBuj39qKf06KxU8Hv7YJJVUmfLM7jVs3Ij4Qw+0tgABAq1Ig3Nc5gf/sSxNxTVIY4oK98OP8Qfh0br8a/46mhhpaFEpLMO55YHEWENS15n1bOTf2i2zQ8U+sPoaJ720X6VuZLDZMen8Hbvt6P37an4Glf5/GR1sucMnuvSN9ROfwsZex55YZ8Mm2i07v4e+h5m7wVSarKGm+ykV7EgqlPTAyIQg/zh/ELbOTElcIPWCd/N17goTeLykO2wtR2FY/PjoV7hwu1gysMFrw2Tbnrg4ns8RFL4NjA5z2mT+cJOV7aZQYEhuAiT1D0eflDdh6juRxDo0LxMSeYW7H2BwoW3oAFEqHRCYDZI3UQLqFmd4/EnsuFuJve0sOq42ptQK7zcbgl4OZAEgOyeiuQfj9SBa8dSqkF/GVSbsuFIjySRxvur56Ymi9+e85yfcJ8FRzSb+AWMT0p/3pePWGnqLzUyjtiSFdAjAiPhDn8yrQLcx9uF8oTuwuRwsAhsUF4tO5/ZAQ4oUADw1+OpCO2clRmPjeDuSWGZBbZoDBbEW5kVQhbn9iDPZdclaUPyuhbXf+injdfaOdW5jdOqQTwny0iPLXYdL7O7n1C749hJRXJrkde3NCPVoUCqVBaFUKvD+7D7fM9iSrjWq0ULzQaLHi+T9O4vHVx3H3d4dE+2WXGjgtnVEJQfDVi2flfnrnWfqv9w7lXvcI97GPVfqWt6MWOjv3/3gY17y/w2XfOAqltSKTyfDN7QOx+6mx8NS496+wavKAdCWiIxN7hiE2yBM+ehXuGdUFvno1xncn0gt5ZQbOm6VWyuGtVUrKSEhxOL2Ee33XiM6SEyGZTIYJ3UNE+wKAyWpz2rcloYYWhUJpMEqFHF72G3hRlQkZRVXot3QDXv/nrNvjhCKj+1OLuDJud7C6PzXRL9oX4xKDEeajxaxkIqnBJs87IlTMlqLMYMbfx3NwOqcM60/locxgxqKVR7GphfV5KJTaopDLIK+FpznKT4/RXYNwfZ9wLiRfV0K9SZj+s22XkG+fTAV5aiCTyRAfwivNOybkX9U9hHvNhh1HxAfi6UndXL7X/tQiPPPbyXqNs7mghhaFQmkU2GTz9KIqfLLtIkqqzPhUIl8KILIL5QazSDz02z2Xa/U+QRLJvEUO/czkMjLb/WpeMvY8PY5LAPbViT1fbL/Gi/lELZ5hGKw5nImUPHHY4mwOv7zkz1P4bNtFrDmShTtXHIS5lc2eKZSGIJcT79d7s/vW+xxxwaQa0WS1carsbI6kp0aJlQsG46aB0Tj07HjRcR/e3A9zBpFkfNaDHe2vd2sgXi5yL37q2BmiJaCGFoVCaRS6BJPE2Qt5FW4bN1eZLOj78gaMeHMLTmaVuj2nY6K9XCYdzrhlSCfIZKQcvUe4N76/c5DTPgBEM/TEUC/070Qa5B68XAyGYbDzQgEW/XIMV727HZcLK7kw4QnBOEurzVh7jK+SOtbEIq0USltjQvdQ7vUBu15WpKBtzqDYALw2LYlTrWdRK+UYEOMnWufY0N6RwgrpptFGixW/HcnEyLe24K/j2XUaf2NDk+EpFEqjEBdEZrGXCirwj0AlutJogYcgLyQlj3iPSqrMnMr7hO4h6BriBa1KjgNpxdiWko/EUC+8PbM3NpzORZm9pcfep8eJRAtZEkO9cfjZCfDRqdzOfoWG1tjEYIzuGgQPtQKX8itx/ce7RUbTqLe2QiYj2j2HLovFFYWJ+qdzyjAgpvX3q6RQmguFXIZhcQHYdaGQy38U9icUEuWvQ0ZRNad11T1MXFE8qwYF+EJ7aHJEfCAuXqng0hHySo14es0JmCw2/HMyF1N6hTfob2oI1NCiUCiNQpA9L2PfpSJUCzxaeWUGxAbxwoYFgn5rbLXRU5MS0cW+j8Vqw88HMrheZh4aJWdo+ehd54w4CjNKIUz0jfDTwUurQtdQLxxOL5H0TDEM8NDPR92qUB/PdO+Vo1A6IsWV4gbPkX7SifXL5yVj2eYLeHBcPACgS5AHovx1KDdY8POCwYiQ6LUIAAazFYcuF3MVxCPiA/HdnYMw+NVNyC0z4NV1Z2Awk7D+sgaEQRuDDhk6zMnJwVNPPYUxY8bAy8sLMpkMW7durdM5srKyMHPmTPj6+sLb2xtTp07FpUvOWiAUSkfBz24EXSoQ9zXLcciRyHJo6uzvoRYpNysVcswd3InL+RLKMqgVDbtlyeUysA6vEXGkfUhtqqBySlzneaw/lYuMGvJEKJSOhmMifUKItIp8XLAX3p/dl5toKRVyrH94FPY8NY5r8SXF2+vPYc6X+zhZGX97G65ALzLhYnucAqhVEUBT0iENrXPnzuGNN95AVlYWkpKS6nx8RUUFxowZg23btmHx4sV48cUXceTIEYwaNQqFhc4aIRRKR0BKYgEQh9kAILNYvJwQ4ulWw0poXDWG1tX2J8bg7weHc7lernI8hFhsDJRyGT6Z049b1y3MGwEeapQZLBjx5hasO5Hj5gwUSsfilRvEivTCasOa0KkV0Knd6wx+sSNVtMzmWwZ7idXiR7rox9icdEhDq3///igsLERKSgoWLVpU5+M//vhjnD9/Hn/99ReeeOIJPPLII1i/fj1ycnLw9ttvN8GIKZTWj6tScEdDy9GjFe7jvjmsYwl4Q4n003O6WgBwdY9QN3vzqBRyTEoKwwR7Cfo9o2JxTRKvOn3fD4cbdZwUSlsmNsgTP8wfhBBvDab0CoO3tn5SEbVhev9IdLZ7xbuGig2616bV3ZnS2HTIHC0vr9pb1lKsXr0aycnJSE5O5tYlJiZi3Lhx+OWXX/Dqq682dIgUSpvDMUfKS6tEucEi4dESG1phEv3KhDS2oeXI7cNiEOCpRkygB6Z9vBsAmR0PjvXH3ktFOGTX82H7qr03qw/O5pahb5QfQry1+G5v7WQpKJSOxrC4QOxbPL7mHetBiLcGeWUk3/Ot6b249b0jfUX7hfu4v780Bx3So9UQbDYbjh8/jgEDnIUPBw4ciIsXL6K83LmdAIXS3vF18GixVT7C/KUj6cVOyeNhNXi03DWubQyUCjmm9YtEv2g/3DWiM/z0KrxxYxIevzoR8cF8XsmfC4cDIMn5/Tv5Qy6XYWCMP+fhkstqp4ZPoVAaBsMwKLcXyKx7cIQopWBMojhU2Bpaa1FDq44UFRXBaDQiLMy5USW7LjtbWrPDaDSirKxM9EOhtBf0agVu6BsBP70Ka+4bituGdgIAXC7kDa31p8VK6hqlHKNqyKHwdVNp2Ng8M7k7Dj83AXHBxOv98PgEhPtocX2fcJFEBYtcLsOym0hFk40B19ONQqE0HRVGC9cMvpODrp5GqcCgGppdNzdtPnRos9lgMtWczAoAGo2mwdZtdXU1dy5HtFqtaB9HXnvtNbz44osNen8KpbUik8nw7qw+3HKl3egorTajtMoMH70KafaKxMev7oqhXQIQ6KlBVA2Na5+e1A2nsss4FfemRniPCPXRYtdTY93eN7QqBXQqBarNVvJ31rNtCYVCqR1syNBLo5ScACXH+GNfapHT+paizRta27dvx5gxY2q175kzZ5CYmNig99PpSJjDaDQ6bTMYDKJ9HHn66adFyfdlZWWIiopq0HgolNaKh0aJQE81CipMuOGTXfjwpn5ItRta3cO90Tfar4YzEKL89dj2eO2+401BbSZnvnoVqkutKKk2IRo1N+KtL1fKDPhpfwaGxgWgd6Rvk+evUSgtydpj2dh0Jg9Lb0hCdkk1lu9Kg9FsxZojWQCAYG9paZaFY+NgtFhrXejS1LR5QysxMRHLly+v1b5S4b664u/vD41Gg5wc51Judl14uLQCrUajkfSEUSjtlWh/PQoqTLiUX4lrPtjBrRfqZrUHfHQq5JQaUFJlrnnnBvDAT0ewL7UI724EBnX2x8q7h9TqOIZhwDAtrydEodSWvDIDHvjpCACgV6Qv3t2Q4hSadyUpo1Up8Mzk7k0+xtrS5g2t0NBQzJs3r9neTy6XIykpCQcPHnTatm/fPsTGxja4qpFCaS+EeEtX/LhSe26rsHlkxVW1S2OoL8JwyL7UIlQYLfCUCJ0IYRgGsz7fi3KDBWsXDoOygaKvFEpz8O2eNO71vydzJfMfY4PaxoSNfuNqID09HWfPnhWtmz59Og4cOCAyts6dO4fNmzdjxowZzT1ECqXV0jPCR3J9e3vYswZlbqlrBfmaWH8qF9M+3oWt567U+pj9qTULJBdVmrA/tQhncsqQVlhZ4/4USkvy4ebzmPnZHny05SK3bn+ac77Vw+PjsXBMfHMOrd60eY9WfVm6dCkA4NSpUwCA7777Djt37gQAPPvss9x+t956K7Zt2waG4cu277vvPnzxxReYPHkyHnvsMahUKrzzzjsICQnBo48+2ox/BYXSupk7uBP0agV6Rfriz6NZ+G7vZcwfEdvSw2p0WA+doxhrbTGYrbj7+0NgGODhlUdx9PmrYLHacDyrFD3DfaBWyiWlI77YnoqxiSFuz31ZIK+RX25CXHC9hkihNDkGsxX/W5/icntiqBduGhiNPlG+6B3l23wDayAd1tB67rnnRMtff/0191poaEnh5eWFrVu34pFHHsHSpUths9kwevRovPvuuwgKanm5fwqlteCjU+H2YZ0BEBHQZyZ3h0rR/vKEIvzshlZx/Qyts7nlYOdyJVVmnM0tw8T3SE7b7cNisOTaHsgt471l/Tv54dDlYuy5VIiEZ//BkNgATOkVhhkDnItr0gXyGnsuFmBIl4B6jZFCaWouXKlwuz3ST4/bmqn6uDFpX/77OkCSQ6V/hGzdutVpHQBERkZi1apVKC0tRXl5OdauXYu4uLjmGj6F0iZRK+WtQkCwsWHbCDk20K4tJzJLRMsLfzzCvV6+Kw0AuLBf50APfD2P70phstiwLSUfj68+DovV5nRuoTL/B5svUFFVSqvFUczYkYgauki0VjqsoUWhUCiNhbeOBAcq6ilYeszhAeM4s193IodrWh3tr3ep1XXjJ7vx1/FsbEvJxzXv78DZ3DKRYCwA5JTVP4+MQmlKNp3Jc7u9W5h3M42kcemwoUMKhUJpLFjRxPoYWiaLDbsvFLjdR9iwmlXCntwrDH8fF8vMHMssFXnDbvt6P6IdBGFT8yvbXdUnpX1wJofvltIj3Bu/3TcMo9/agmy7p7gt5WUJoR4tCoVCaSCeEoZWlcmCR1YedTKGHNlwOg/ZpQZolHIEeEjrAgnpFEBK2t+d2Qdf3ebcc1VIXpkRh9NLAABBXkTDL5VWHlJaIQzDIL+CCIHvfmos/npgONRKOf5+cARuHdIJD46NQ2Jo25ROooYWhUKhNBDW0DJZbDDb86T+PZmL345k4f4fDyOn1HWS/OUiYvhc3SMUkTW0IwIAP7tml1opx4BONfd0s9pzsnpHEqmNvAZIUFAoTUVJlRlmK/msBnry7fL8PNR4aWpPLLqqa5vN76SGFoVCoTQQYb81tsfjeUGe1els1w3kC8qJyGmYrxbeWv48PjqVZIud5BjeuPLRq3D3yFhM7x+JvtG+WDAyFkkutMvYRtn55c7twyiUluaK/XPpp5f+3LdlaI4WhUKhNBCVQg61Ug6TxYa/T+Tgmd9OirZnu/EiseGSIE8NvAVJ7sFeGpGx9sTErpjQLcSpCffT13QTLZssNtzz/SFsPssLn6oUMnQOJMddKaceLUrrI89epBHo2f7a1LUvs5FCoVBaCDZ86GhkAUCum9BhgX0mH+SlwYNjeaVrx4a584bGID6k5hwVtVKOr+cl47VpSdw6s5VBsBcpjd9yLr9O6vMUSnNwNKMEAJDQRvOw3EENLQqFQmkE3PUczC6R9iIxDIPUApKjFeKtRUKIJ7dNp1KI9tWr6xaA6OzQuFvYd3Le8gN1OheF0tSwxv/g2PYnqEsNLQqFQmkE/CUqBheMJO2GDqcXSx7zzoYU5JYZoFMp0CfKV5Ts29AQyqDO4kT5eIERBwB3fHMAJouzwCmF0tykF1bhcHoJFHIZruruvqVUW4QaWhQKhdIIOIqIDuzsjwfHxUMpl+FyYRV+PZQpUmW/cKUCyzZfAAD0ifKF1u7Bevzqrojw1eGBcXwYMdCzZtkHR2QyGTYuGgkfnQpPTOwKlULOVSwCwOazV7Dronv9LgqlOThm74yQFOEj8ry2F6ihRaFQKI3AeMFMfMm13fHL3UPgqVEiLph4kh5ddQyfbLvI7XM+r5x7PSuZ71F4/5g47HpqLCJ8dfh0bj9E+unw2S3u9bJcERfshaPPT8B9o0l7sD8XDhdtv1hDbzkKpTk4m0uqcruFtb/8LIBWHVIoFEqjcPPAaGgUcgyLDxQpr3cL88bZXGJUvfXfOdw/Jg4miw2/Hs4CAMhlwNQ+4ZLnnNgzDBN7hjVoXMJwZJS/XqQonyIw9iiUluJsDvkcJoa2zRY7NUE9WhQKhdIIKOQyzEyOcmpv0ytSrGv10/50fLsnDRvtfd3uGdWlWYUYX5uWBK2K3PqvNLGmVmZxFdYeywbD0EbWFNewE5G2qvxeE9TQolAolCZkcpLYI/XFjkvYe6mQW76qR2izjsdbq8Inc/sDIC16mpJZn+3FAz8dwS8HM5r0fShtlzKDGVklRP6EerQoFAqFUmeCvbX4c+EwPGRPbi+pMuOCPTfq/jFd0KcFGuWG2DW1zuSUiRL0Gxv2Afrroawmew9K2+ac3ZsV7qOFj15Vw95tE2poUSgUShPTK9IX0/tHAgCKKk1IK6wCAPSN8muR8QjFUH8/2rhGUKXR4mS87U8rwroT7ptrUzomZ3NIInzXdho2BKihRaFQKM2Ch4SgaaBXy7QbCRBofh3PLG20857ILEXPF/7D6/+eddLoen/j+UZ7H0r7wGC24ucDJKzsqkdne4AaWhQKhdIMeGgUTusCJEROmwOZTIYl13YH0LhNpr/dkwaGAT7ffgnf7b0s2qaQN1/CP6Vt8PuRLJzKLoNercDcIZ1aejhNBjW0KBQKpRnQKBVQK/hbboCH2qlBdHMSZPemNWaTaVZ4EgBe/uu0aFt7rDssrjRh/oqD+O9UbksPpU2Sa28kPTkpjOvF2R6hhhaFQqE0E55aPnz49szeLTgScA+2xvJoncwqRUqeswAq23OxwmhulPdpTXy45QI2nsnD3d8dahQJi6YsTGiNVJmsAAC/FvLsNhfU0KJQKJRmQikInznqbTU3wXaPVm6ZoVGMhFPZ0rlen8ztBwCoMFgkt1ttDN7dkIJ9AsmLtkJhBW+kXvXudhgtVrf7m62ue0uezCpF0gv/4VNB94D2TqWRfCb0auewenuCGloUCoXSTKiV/C2Xbc3TUkT46aCQy2Aw2xpFT6us2tmQen1aEtcDstxgkTTolu9KxfubzmPW53sbPIbmRqfmPZTnr1Tg062XRF6pP45m4Zav9uFifgXmfLkX8c/8g18PZUqe6/HVx1FpsuL1f842+bhbC6xHy0PdvpvUUEOLQqFQmoknJiaiX7QvPry5b7OqwUuhUsgR6Ue8atvP5zf4fAV2786dwzsj7fXJOLd0ImYPjIaXlhhaFhuDz7dfQpVJbJDtSy3iXre10JlGKX6EvrsxBe9vItWVn227iId+Pood5wsw7u1t2HWBeOweXXVM0uBML6xs+gG3MjiPlkShSHuCGloUCoXSTFzXOxxr7huGKb2kexs2N7H2/KknVh9HTmk1vtmVipUH0ut1rny7oRXoSUKSGiV5eOpV/EP0tX/OOiXJl1bzuVs5ZY2XmN9UMAyDRSuP4rFVx1AuEQ59f9N5GMxWvObGM7X2uFhTzGZjUGniw44WNyHG9gT1aFEoFAqlXfPQ+ATu9W9HsvDC2tN48tcTyCiqqvO5CitMAIBAT3Fis1wug59A8fun/RmiXKUCQZ5TWkHr9+pcKqjEmiNZWH0oE78eJmFAXwdF8w83X3B7jqUOxuYlh787r4l7ULYWKmiOFoVCoVDaM32ifDGlF+nFuPsCn4w+4s0tyCmtrtO5SqqIoeWnd64ge392X4T58OX7KXnl3Ot8QX6Yo8HRGmHbJwlZPKkbogVSHR9uIYZWqLe0ZIHOwbAQXg8AuNIGPHsN5VJ+BY5mlACQFvNtT1BDi0KhUDowbKhv54UC0fo1h8WteRiGwf0/Hsa0j3fBYHaurmNDgFL96kYmBGHP0+MwLC4AAHDAnpdVbbKi3MiH39qCRyslt9xpXXJnf2xYNBJ/LhwmWt8j3Bs6Qeh0zqBoAEB2STWsgny0zGKxB7HA7h1sr5zLLcf4d7Zxy9TQolAoFEq7xd+FhtHyXanIE3hW9qUW4e/jOTicXoITWWIphz+OZnH9G9kqQylGJwQDAP61C3yyTadZ2oKhlV0q9jYdfm4COgd6QKNUcJphLJF+OoQI+kpO7BkKtUIOs5VBtuBvzyoWXwdhOLU98t+pXLB2pk6lEHkD2yPU0KJQKJQOTIBDTlW/aF8AxKvykiCX6KTAuDon8OpcLqzEQz8f5ZbdGVrjuhFD6/DlEhjMVvx+ROw1S20DlXf5Dkr6QkPVS6sSLQd7azkFfgCICfBAdAAxKi7bDVOjxYo1DtfhYFpxo4+7NbHnIglTPzg2DrueGuvS2G8vUEOLQqFQOjCRfrw3QaWQ4et5ybhnVBcAQKYgKb6kiq8OFOYpbUsRS0O4M7Q6B3ogwEMNk9WGhT8e5nKZ7h4VCwDIKKpq1RV3BrMVG89ccbtPlB8vRBvspUHXUC9uOdJPhxi7oZVaWAmGYfDAj0e46sVxicQQ/fVwpkgMtT1hszGc0T6xZ1i7N7IAamhRKBRKh2ZolwBOJf7VG5Lgq1djQnfywC+q4nOFhK9zBeGzI+klovNpVa4ryGQyGa7tTaQthAZLcid/qJUkpJZT2noTwVceyKhxH2H/yhBvLR4en4AhsQF4bVoSZDIZOgWQ8OLlgkq89d85rD+dBwCY0isMT05K5I5deyy7kUffOkgvqkK50QK1Uo74kJYV7W0u2ncGGoVCoVDcolLI8f38QcgoqsK4biEA+MrBkkrei1UiMLSEjahdtd5xxaNXJeCb3WmidaE+WvjpVcgrM6K02oyouv4RdeSjLRew7Vw+lt+eXKdEbMeCgdnJziMVVl2G+mgR6KnBTwsGc+tYj9aXO1O5dY9dlYCFY+MBAIsmJOCdDSk4kVVW63G1JU7aPy/dQr2gUnQMXw81tCgUCqWDkxDihYQQPsTFhnPKjRaYLDaolXKRB+qKXefpcHox10j6jRuT0CfKr8b38tKqoFcrOLFKgITYiMFj5LSVmgKTxYZtKfl4679zAIA1R7Jwy+BOtT7+Yj75W/83ozdkACYlhTrt0z3cm3vdJcjZYxPrsO7uUbGckQUACXYvz6+HM/HqtJ6c8Gt74aTdgOwZ4dPCI2k+qKFFoVAoFBHeWhXkMsDGEE/W+SsVMFn43KmskmpYrDYs+eMUAGBqn3DMSo6u9fkDPTVIF+R/BXhq4Gn3LFU2oaH1+j9n8fUu3pNkMLlvAu0IGzLt38nPqcKQ5cZ+kSiuMmFij1Ao5M5tlpJj/BHtr0d6URXmDo7GUxMTRdu7hvKG2u9Hsup0XR1hGAYZRdWI8te1eMsnFrayVGjYt3c6ht/OgZycHDz11FMYM2YMvLy8IJPJsHXr1lof/8ILL0Amkzn9aLXS4nQUCoXSlpDLZfC1h8AuFVRizpf7RNsZBvjlYCYu2T08bPJ8bXl7Zm/RskIu49qwNKVH66RDmLNaQg/MFZVGC+eFE1YSOqJWynHf6Dgnz5Vw+7d3DMRHN/fDS9f1dDKAOgd6cNpmyzZfkOyLWBvSCirR+el1GPnWFvx7Mrde52gKWCFcoYBte6dDerTOnTuHN954A/Hx8UhKSsKePXvqdZ5PPvkEnp78l0mhaF8uXgqF0nHx06tQVGnC7M/3cuv+uH8Y1p3IwWfbL2F/aiHXny/cR+fqNJIkx/jjmWu64ZV1Z7BgJKk49OA8WnXzMtUFo4NhlVcHBfZ8e7hUr1Zw3rf6EhPogRgXHjEAWHxNIhb9cgyZxdXYmpKPMV2D6/wePwsS99edzMWkpLB6jbWxYXXIwur4mWnLdEhDq3///igsLIS/vz9Wr16NGTNm1Os806dPR2BgYCOPjkKhUFoeR5mGN6f3Qu8oXy7kt9+u7i6XAV7auj9K5g2LwcDO/kiy5+p4ashEtSlDh8UCiQqgboYWm5fmzpvVWAzo5M+9/mTrRfjr1UiK8IFcIhTpCqHo6eHLxWAYpsXDhyaLjRtXmG/H8Wh1yNChl5cX/P39a96xBhiGQVlZWb1duxQKhdJaMVv5+9qI+EBM7xcJAIgLJl581jOhVyvrZACwqBRy9I7y5Y5lPVqvrDuDAUs34NplO7nk87piMFslQ5DF9srJZyd3AwDk1sHQYpXcQ1z0L2xMogP0eG9WHwDEoJ360S7M/GwP1+bIEauNwZH0YhgtvMeuuJKvEs0qqcaeS4VShzYrJVUmMAwgkwH+Ej0x2ysd0tBqLGJjY+Hj4wMvLy/MnTsXeXl5bvc3Go0oKysT/VAoFEprROhZ+u7OQZxB5JgE3lg5VcLefwUVJpzIKsW4t7dxIbvaUmG0YNL7OzDijc1IL+QT7s1WGycMmmhPOM8trf25WZFWqUrCpuD6vhGID+bf6+DlYjzw0xHRPharDQzD4Msdl3DDx7vx0lpeyb+wUtwv8VhGaYs7BcoMxFD01qrqZZy3VaihVQ/8/PywcOFCfPbZZ1i9ejXmz5+PlStXYsSIEW6Np9deew0+Pj7cT1RUU6vFUCgUSv0od2FAuRMkbQiuQnKHLtetHc3vR7KQWlCJ4iozVuxJ49az3iyZjJdQKKgwYskfJwGQCMXCHw/jxk92O/UaPHS5iFOxjwtuPpHN56Z0BwBE+JJ8pp3n87mG3jvPFyDumX/Q+el1eO2fswCAH/alg2EYvLcxBUczSgDwIeA3/j2LR3851qLGFtd43E33gPZIm8/RstlsMJlq1+lco9E0Soz6oYceEi3feOONGDhwIObMmYOPP/4YTz31lORxTz/9NBYtWsQtl5WVUWOLQqG0ShaMiMUr685gskQSdfcwb5zOIZPK5fOSG+X9bhnSCeUGC8oMZqw5zPf+q2v4UNge6JLgWNa7Fe6j46r6AGDFnssoqDBh/ojO+Ot4DgBg8ZoT+PzWAdw+N37CF0w1p6E1MiEIh54dDz+9Gv2XbkBxlRnn8yoQ6qPF3K/2SR6z8kAG3tt4nlseEhvANfFecyQL3joVXriuR7OM35GyamK8e+vavOlRJ9q8R2v79u3Q6XS1+jl37lyTjePmm29GaGgoNm7c6HIfjUYDb29v0Q+FQqG0Ru4Y3hm/3D0E/5vR22nbN3ck48Ob++LSq9dgTGLdK+KkCPbS4oXreqBnuFjI8nxeuYsjpLksaEwt1Oq6ZNdvig3ygFwuw+3DYrhtf5/IwQ0f7+aW15/Ow5rDmZLnb05DCyAaY3K5jAt3HssswY7z+S73f2rNCe51mI8WSZHi6/nN7rQ6h2MbC2HosCPR5s3KxMRELF++vFb7hoU1bXlrVFQUioqKmvQ9KBQKpTlQyGUY2Fm6aCjYS4spvcKb5H2n9YvAVztTYWNI38MTWXVr8ZMmyMvKKK6GzcZALpfhXC4x2NgcsyXX9sDyXWkuz/P2+hRMsxcACAlvIf2n4fGB2HOpEBvP5HGJ5AM7+3PVn454apTY+vhofL0zzWlbXpmhWaonAWD3xQJ8v/cyllzbA4UVJPpEQ4dtjNDQUMybN6+lhwGGYZCWloa+ffu29FAoFAqlzeKrV2Pnk2NQVGlC/6UbcTG/EicyS508M1KUVpmRWsB7tEwWG3LLDAjz0XKinYNjA7jtWpUcBrNNdI6+0b44kl6CrJJqfLH9Ej7aeoHbNjYxuMUkEkZ3DcJb/53D1nO8N+uR8Qm47ev9MFltTvsP7OwPjVIBqZzzGZ/uwdbHRzdLBeXNX5AQ57oTvGhqR/NotfnQYVOTnp6Os2fPitbl5zu7bT/55BPk5+dj4sSJzTU0CoVCaZfIZDIEeGrQM4KEy1YdyqjhCAKbtxTqrUUne/Pm9KIqGMw2ZNnlGYbH89qHjkYWADw4Nh79O5Geja+sO4MSgfbWJ3P71eOvaRykWtb0jfaFUsFbUmpBk+ZYu+dudnI0ekZ4QyXYr9psxWJBiLEpyCiqwp3fHJDcFunXccRKgXbg0aovS5cuBQCcOkV6dX333XfYuXMnAODZZ5/l9rv11luxbds2UaVGp06dMGvWLCQlJUGr1WLnzp34+eef0adPH9x9993N+FdQKBRK++X6PhE4mVXmJDQqRUmViUvQH901CFkl1bhcWIXFa07g5wWDAdjFVWtQdY8L9kSoRHjw6h4hLdrgWaWQY1RCELal8BN9rUqBz27pj3nLD2DByFgcSC3CQXuVZri9UtFHr8JfD4yAwWzF8De2cBWVm85ewYUr5YgLbpqegw/+fARH0kskt03oEdIk79la6bCG1nPPPSda/vrrr7nXQkNLijlz5mD37t349ddfYTAY0KlTJzzxxBN45plnoNfrm2S8FAqF0tFgc3nKXAh1CjmRVQqrjUHnQA+8fmMvvPDnKew4X4Ds0mouCdtLq3Ib+uvfyQ9R/nqn0NbQLgH47JYBLo5qPj68uS+SXlgPAFxIcEQ8qUz00qpwMK0Is+wtk8Z3ExszWpUCPy8YhJf+OoPtdmNt4Y9H8O/DI5tkrKy8hCPvz+7DJfZ3FDqsoVVbLRGpZtNffPFFI4+GQqFQKI54s4aWoWZDK9euVM+GpZ6Y2BXf7E6DwWxDZjEJGzq2CuoZ4Y2TWWUYlxiMR6/qyoUbHeUHPrq55UKGQry0Kqx/ZCQeW3UMj4xP4NazDcAHxQYg9bVrYLUxUCqcM4Pigr3w7R0D8cKfp/DN7jRO7d6RH/ZdhlapwLR+EfXOSVMp5DBZxKHZsYnBmNonol7na8t0WEOLQqFQKK0b1rNUG48Wa2iF2hO89WolfHQqlFabOW0tLwdP1ee3DMCaw5mYM6gT/Dz4ljBCj9bYxGDRtpYmIcQLfy4c7nK7TCYT5W1J8cDYOHyzOw1lBgsMZiuyS6rhqVEi2FuLy4WVeOY3IuL6y8EMrLx7SJ3GZ7LYoJTLYLYn6Ef46rj8OMeuAh0FmgxPoVAolFYJ61kqra65zQ/bt1CYX8W2EVr69xkAzh6tcF8dFo6NdzKkvAXyA2EtJOfQlPgL/t7JH+zA2Le34eYvSSGBUE5jX2pRnVosLd+Vip5L/sNr/5wBGzT67f6h3HbPGvLj2ivU0KJQKBRKq8SnhtBhfrkRt369H5vO5HHhwTAfvqKte7g4F8hbW7sHvXA/Nqm8PSEMB17MJ3IYrNfvTI64jdyBtNprQ/5xNBsmqw1f7EgFQOQzgr20uGVwJ6iVclzft+OFDQFqaFEoFAqllcIaWiaLDd/vvey0/d2NKdieko87VxzE2VxiILB9DAHg/dliXUPvWgpl+ul5j0979GgBwFe3OSf3myw2XCkTq8Z/ueNSrc9Z7mAQsyHYF6/rgdMvXk1DhxQKhUKhtCaEoaZnfz/ptL1KENbKsxsIiWG8F6tzoAcWX5PILXcPq12128DO/pyB1TOiZqHUtsiAGGfV/0qjBUWVRL195gCiip+SJ91rstpkxe6LBVwuFsMwXC4WyxV7qx+5XCaZnN9R6JgBUwqFQqG0ehwr3iqMFpHx5aiIHh/s6ZQHtGBkF5zOLsPJ7DLM6B9Vq/fVqhRY/8hIZJVUSwqFtgd8dCpE+um4kCsAVJosKLAbWv2i/fDLwUzklxsx7u2tCPXR4rs7BpHQ4PZL2HAmD8czS7FoQgIeHBePnFIDDGYbZDKglkX9HYaOa2JSKBQKpU2RZ094Z8kqES+P6yYthPne7L7YuGgUfPS1b/3ipVW1e72nX+4egmU39YVGSUyBKpOVk3wQNs++mF+JXRcKkVNmwKfbLuLtDSk4nkmS5j/fTkKLbKPr3pG+eHh8PAAgqZ16A+sK9WhRKBQKpU2QV2pAlyBiADAMgzR7X8P3Z/dBYYUJswfWzmNFIYT76hDuq8Ob/51FRlE1tp3LR7493BfoqUG4jxbZpbwxm11Sjfc2nhedg23tcyCNKNKPiA/EwjFxiPTTY1hcACjUo0WhUCiUVszr05K41x9vvYh3N6SAYRgUVppQWm2GTAZc1T0UdwzvDL2a+g7qg4f9um08k8eti/TTYekNPTG5Vxi37uf9zj0nVfbcq5N2WYhekb5QKuSY3j9SVAHakaGfSgqFQqG0WmYPjEZ+uRFvb0jBzgsF2HmhAL2jfKBTkcdXhK8OOnXL9SBsD+jt14/N17pnVBcoFXKMTQzB2MQQyGVHsPZYNn49nOl0rEohh9XGcPIQ3cLaZ05bQ6AeLQqFQqG0asZ2CxYtn80t5/SdaB5Qw/GwFxCwVYMBDgKuSRHiXLUbBHpYWSXVSC+qgsXGQC4D9WJJQA0tCoVCobRqov31ouX8ciPWncgBAAyLC2yJIbUrgrw0omVHpfy7RsSKVPWv7xuBvU+P45bH/G8rAJLXpZDXrzdie4YaWhQKhUJp1Tj2KPxhbzrO5pZDr1ZgiiCHiFI/HA1ZR4+WTCbDI+MToFHKsWBkLEbGByLUR4vBsWItrmBvscFGIVBDi0KhUChtClY/q2eED3z1rafhc1vl+j7i1jhSTbRvHxaDc0snYfE13Th9szuHx4r2CfZqnyr6DYUaWhQKhUJp9Ui1bwn2oh6UxiAm0APXJIVyy12CnK+1o3gsAIzvFszJOwDtt11RQ6GGFoVCoVBaPc9f2x2AOBG7U4De1e6UOuIj6APpGKp1hUwmw9Lre3LLQpFTCg+Vd6BQKBRKq2dM12BsfWw0Ivx0uH1YDH7Ym447hnVu6WG1G+aPiMXfx3Mwb2hMnY4b2oUvRogJ6JhNo2tCxjC0K1FLUVZWBh8fH5SWlsLbu323eqBQKBRK68ZmYyCvR9XgC3+ewsmsUnx356AOo2lWl+c39WhRKBQKhUKpl5EFAC9c16ORR9K+oDlaFAqFQqFQKE0ENbQoFAqFQqFQmghqaFEoFAqFQqE0EdTQolAoFAqFQmkiqKFFoVAoFAqF0kRQQ4tCoVAoFAqliaCGFoVCoVAoFEoTQQ0tCoVCoVAolCaCGloUCoVCoVAoTQQ1tCgUCoVCoVCaCGpoUSgUCoVCoTQR1NCiUCgUCoVCaSKooUWhUCgUCoXSRFBDi0KhUCgUCqWJULb0ADoyDMMAAMrKylp4JBQKhUKhUGoL+9xmn+PuoIZWC1JeXg4AiIqKauGRUCgUCoVCqSvl5eXw8fFxu4+MqY05RmkSbDYbsrOz4eXlBZlM1qjnLisrQ1RUFDIyMuDt7d2o56bw0OvcPNDr3DzQ69w80OvcfDTVtWYYBuXl5QgPD4dc7j4Li3q0WhC5XI7IyMgmfQ9vb2/6RW4G6HVuHuh1bh7odW4e6HVuPpriWtfkyWKhyfAUCoVCoVAoTQQ1tCgUCoVCoVCaCGpotVM0Gg2WLFkCjUbT0kNp19Dr3DzQ69w80OvcPNDr3Hy0hmtNk+EpFAqFQqFQmgjq0aJQKBQKhUJpIqihRaFQKBQKhdJEUEOLQqFQKBQKpYmghhaFQqFQKBRKE0ENrTaG0WjEk08+ifDwcOh0OgwaNAgbNmyo1bFZWVmYOXMmfH194e3tjalTp+LSpUtNPOK2SX2v85o1azBr1izExsZCr9eja9euePTRR1FSUtL0g26DNOTzLGTChAmQyWRYuHBhE4yy7dPQ67xy5UoMGTIEHh4e8PX1xdChQ7F58+YmHHHbpCHXeePGjRgzZgwCAwPh6+uLgQMH4rvvvmviEbdNKioqsGTJEkycOBH+/v6QyWT45ptvan18SUkJFixYgKCgIHh4eGDMmDE4fPhw0w2YobQpZs+ezSiVSuaxxx5jPvvsM2bIkCGMUqlkduzY4fa48vJyJj4+ngkODmbeeOMN5p133mGioqKYyMhIpqCgoJlG33ao73UOCAhgkpKSmOeee4754osvmAcffJBRq9VMYmIiU1VV1UyjbzvU9zoL+fXXXxkPDw8GAHP//fc34WjbLg25zkuWLGFkMhkzY8YM5tNPP2WWLVvG3H333cy3337bDCNvW9T3Ov/xxx+MTCZjhg4dyixbtoz58MMPmZEjRzIAmHfeeaeZRt92SE1NZQAw0dHRzOjRoxkAzPLly2t1rNVqZYYOHcp4eHgwL7zwAvPhhx8y3bt3Z7y8vJiUlJQmGS81tNoQ+/btYwAwb731Freuurqa6dKlCzNkyBC3x77xxhsMAGb//v3cujNnzjAKhYJ5+umnm2zMbZGGXOctW7Y4rVuxYgUDgPniiy8ae6htmoZcZ+H+MTExzEsvvUQNLRc05Drv2bOHkclk9GFfCxpynSdMmMCEh4czBoOBW2c2m5kuXbowvXr1arIxt1UMBgOTk5PDMAzDHDhwoE6G1sqVKxkAzKpVq7h1V65cYXx9fZmbbrqpKYbL0NBhG2L16tVQKBRYsGABt06r1eLOO+/Enj17kJGR4fbY5ORkJCcnc+sSExMxbtw4/PLLL0067rZGQ67z6NGjndbdcMMNAIAzZ840+ljbMg25zixvvvkmbDYbHnvssaYcapumIdf5vffeQ2hoKB566CEwDIOKiormGHKbpCHXuaysDH5+fiJRTaVSicDAQOh0uiYdd1tEo9EgNDS0XseuXr0aISEhmDZtGrcuKCgIM2fOxB9//AGj0dhYw+SghlYb4siRI0hISHBqjDlw4EAAwNGjRyWPs9lsOH78OAYMGOC0beDAgbh48SLKy8sbfbxtlfpeZ1fk5uYCAAIDAxtlfO2Fhl7n9PR0vP7663jjjTfow8gNDbnOmzZtQnJyMj744AMEBQXBy8sLYWFh+PDDD5tyyG2Shlzn0aNH49SpU3juuedw4cIFXLx4ES+//DIOHjyIJ554oimH3eE4cuQI+vXrB7lcbP4MHDgQVVVVSElJafT3VDb6GSlNRk5ODsLCwpzWs+uys7MljysqKoLRaKzx2K5duzbiaNsu9b3OrnjjjTegUCgwffr0Rhlfe6Gh1/nRRx9F3759MXv27CYZX3uhvte5uLgYBQUF2LVrFzZv3owlS5YgOjoay5cvxwMPPACVSoW77767ScfelmjI5/m5555DamoqXnnlFSxduhQAoNfr8euvv2Lq1KlNM+AOSk5ODkaOHOm0Xvh/SkpKatT3pIZWG6K6ulqyX5NWq+W2uzoOQL2O7YjU9zpL8eOPP+Krr77CE088gfj4+EYbY3ugIdd5y5Yt+PXXX7Fv374mG197ob7XmQ0TFhYW4ueff8asWbMAANOnT0dSUhKWLl1KDS0BDfk8azQaJCQkYPr06Zg2bRqsVis+//xzzJ07Fxs2bMDgwYObbNwdjca8v9cWami1IXQ6nWT82GAwcNtdHQegXsd2ROp7nR3ZsWMH7rzzTlx99f/bu5uQqNo3juO/8YUp0TCloaQXtBDLonGhE7UYWj2W0UIqKQgXLSIQa2G1aBFhgUQgFC0S2vRGguBOwl2LQMmk2owmkSkpJlYoaenk9V+Ew39SH3jGc+Y4z/P9wNncZw5e52K4/Z1zH49/6caNG47W+G+QaJ+j0ajq6+t1+vTpuGcOsbSVzhuZmZlxd2PT0tJUU1Ojq1evamhoSFu3bnWh6tSzknmjrq5OXV1d6u3tjS1pnThxQqWlpTp//jwXFA5yan7/J3hGK4Vs2rRJo6Oji8YXxgoKCpY8Li8vT36/P6Fj/4sS7fP/e/PmjY4ePardu3erra1NGRlc0/wp0T4/ePBA/f39Onv2rAYHB2ObJE1NTWlwcFDT09Ou1Z1qVjJvrFmzRvn5+UpPT4/bFwgEJP1eXsRvifZ5dnZW9+/fV1VVVdxzQ5mZmTp06JB6eno0OzvrTtH/QU7M7/8UQSuFBINBvXv3TpOTk3HjC1c7wWBwyePS0tK0Z88e9fT0LNrX3d2toqIi5eTkOF5vqkq0zwvev3+vyspKBQIBdXR0KDs7261SU1qifR4aGtLc3JwOHDigwsLC2Cb9DmGFhYXq7Ox0tfZUspJ5IxgManx8fNEv+oXnjTZs2OB8wSkq0T5PTEwoGo3q169fi/bNzc1pfn5+yX1ITDAYVG9vr+bn5+PGu7u7lZWVpeLiYud/qCsvjYArurq6Fr2n5cePH7Zjxw4LhUKxsY8fP1okEok7tqmpySTZy5cvY2N9fX2Wnp5uly9fdr/4FLKSPo+OjlpRUZEVFBTYhw8fklVySkq0z5FIxNrb2xdtkuzw4cPW3t5uIyMjST2X1Wwl3+fm5maTZC0tLbGxmZkZKyoqsl27drlffApJtM/RaNRyc3OtuLjYfv78GRufmpqyzZs3W0lJSXJOIEX93Xu0RkZGLBKJ2OzsbGzs6dOni96jNT4+brm5uVZTU+NKjQStFHP8+HHLyMiwixcv2r1792z//v2WkZFhz58/j30mHA7bnxl6cnLStm/fboFAwG7evGnNzc22ZcsWKygosM+fPyf7NFa9RPu8d+9ek2SXLl2yhw8fxm2dnZ3JPo1VL9E+L0W8sHRZifZ5enraSktLLTMz0xoaGuz27dtWXl5u6enp1tHRkezTWPUS7fP169dNkpWVlVlzc7PdunXLdu7caZLs0aNHyT6NlHDnzh1rbGy0c+fOmSSrrq62xsZGa2xstG/fvpmZWW1trUmKu+iNRqO2b98+y87OtmvXrtndu3ettLTUcnJyrK+vz5VaCVopZmZmxhoaGmzjxo3m9/utvLzcnj17FveZ5X4xDQ8P27Fjx2zdunWWnZ1tR44csYGBgWSVnlIS7bOkZbdwOJzEM0gNK/k+/4mgtbyV9HlsbMxqa2stLy/P/H6/hUKhRcfit5X0+fHjx1ZRUWG5ubm2du1aC4VC1tbWlqzSU862bduWnWsXgtVSQcvM7MuXL3bmzBnLz8+3rKwsC4fDcas9TvOZmTm/IAkAAAAehgcAAHAJQQsAAMAlBC0AAACXELQAAABcQtACAABwCUELAADAJQQtAAAAlxC0AAAAXELQAgAAcAlBCwBccOXKFfl8Pr148cLrUgB4iKAFAC549eqV0tLSFAwGvS4FgIf4X4cA4IJAIKC8vDz19fV5XQoAD3FHCwAcdOHCBfl8Po2Pj6u/v18+ny+2RSIRr8sDkGQZXhcAAP8mFRUVqqmpUWtrqyorKxUKhSRJPp9PxcXFHlcHINkIWgDgoFOnTunTp09qbW1VXV2dqqqqvC4JgIdYOgQAh/X29kqSysrKPK4EgNd4GB4AHFZSUqKvX79qbGzM61IAeIw7WgDgoO/fv2tgYIDXOgCQRNACAEe9fv1a8/PzLBsCkETQAgBHvX37VpK4owVAEkELABw1MTEhSVq/fr3HlQBYDXi9AwA4aGHJsL6+XtXV1fL7/Tp48KDC4bDHlQHwAn91CAAOa2pqUktLi4aHhxWNRvXkyROdPHnS67IAeICgBQAA4BKe0QIAAHAJQQsAAMAlBC0AAACXELQAAABcQtACAABwCUELAADAJQQtAAAAlxC0AAAAXELQAgAAcAlBCwAAwCUELQAAAJcQtAAAAFxC0AIAAHDJ/wCmzleeGcEZcAAAAABJRU5ErkJggg==",
          "text/plain": "<Figure size 640x480 with 1 Axes>"
         },
         "metadata": {},
         "output_type": "display_data"
        }
       ]
      }
     },
     "f798fe01b5904f80a81b6b438b9ba0f2": {
      "model_module": "@jupyter-widgets/controls",
      "model_module_version": "2.0.0",
      "model_name": "DescriptionStyleModel",
      "state": {
       "description_width": ""
      }
     }
    },
    "version_major": 2,
    "version_minor": 0
   }
  }
 },
 "nbformat": 4,
 "nbformat_minor": 5
}
