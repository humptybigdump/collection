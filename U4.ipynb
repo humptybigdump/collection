{
 "cells": [
  {
   "cell_type": "markdown",
   "id": "579bec46",
   "metadata": {},
   "source": [
    "<img src=\"KITlogo_1c_deutsch.eps\" width=\"200\" height=\"200\" align=\"right\"/>\n",
    "\n",
    "##### Lehrstuhl für Analytics and Statistics (IOR)\n",
    "##### Prof. Dr. Oliver Grothe\n",
    "##### SoSe 2024"
   ]
  },
  {
   "cell_type": "markdown",
   "id": "ef693724",
   "metadata": {},
   "source": [
    "# Analyse multivariater Daten\n",
    "## Übung 4"
   ]
  },
  {
   "cell_type": "markdown",
   "id": "67ba1aa3",
   "metadata": {},
   "source": [
    "Laden Sie den Datensatz $\\textit{statstud}$ aus Ilias herunter."
   ]
  },
  {
   "cell_type": "markdown",
   "id": "ef8a1d81",
   "metadata": {},
   "source": [
    "a) Schätzen Sie die Erwartungswerte fur die Merkmale Größe (im Datensatz Spalte 1) und\n",
    "Schuhgröße (im Datensatz Spalte 2)"
   ]
  },
  {
   "cell_type": "code",
   "execution_count": 3,
   "id": "22156a85",
   "metadata": {},
   "outputs": [
    {
     "data": {
      "text/html": [
       "<div>\n",
       "<style scoped>\n",
       "    .dataframe tbody tr th:only-of-type {\n",
       "        vertical-align: middle;\n",
       "    }\n",
       "\n",
       "    .dataframe tbody tr th {\n",
       "        vertical-align: top;\n",
       "    }\n",
       "\n",
       "    .dataframe thead th {\n",
       "        text-align: right;\n",
       "    }\n",
       "</style>\n",
       "<table border=\"1\" class=\"dataframe\">\n",
       "  <thead>\n",
       "    <tr style=\"text-align: right;\">\n",
       "      <th></th>\n",
       "      <th>0</th>\n",
       "      <th>1</th>\n",
       "      <th>2</th>\n",
       "      <th>3</th>\n",
       "      <th>4</th>\n",
       "      <th>5</th>\n",
       "      <th>6</th>\n",
       "      <th>7</th>\n",
       "      <th>8</th>\n",
       "      <th>9</th>\n",
       "      <th>10</th>\n",
       "      <th>11</th>\n",
       "      <th>12</th>\n",
       "    </tr>\n",
       "  </thead>\n",
       "  <tbody>\n",
       "    <tr>\n",
       "      <th>0</th>\n",
       "      <td>177</td>\n",
       "      <td>43.0</td>\n",
       "      <td>75.0</td>\n",
       "      <td>1</td>\n",
       "      <td>3</td>\n",
       "      <td>88</td>\n",
       "      <td>3.0</td>\n",
       "      <td>1.6</td>\n",
       "      <td>0</td>\n",
       "      <td>0</td>\n",
       "      <td>0.0</td>\n",
       "      <td>1</td>\n",
       "      <td>7.0</td>\n",
       "    </tr>\n",
       "    <tr>\n",
       "      <th>1</th>\n",
       "      <td>190</td>\n",
       "      <td>45.0</td>\n",
       "      <td>87.0</td>\n",
       "      <td>2</td>\n",
       "      <td>6</td>\n",
       "      <td>83</td>\n",
       "      <td>4.0</td>\n",
       "      <td>3.7</td>\n",
       "      <td>0</td>\n",
       "      <td>1</td>\n",
       "      <td>0.0</td>\n",
       "      <td>1</td>\n",
       "      <td>5.0</td>\n",
       "    </tr>\n",
       "    <tr>\n",
       "      <th>2</th>\n",
       "      <td>162</td>\n",
       "      <td>37.0</td>\n",
       "      <td>49.0</td>\n",
       "      <td>1</td>\n",
       "      <td>1</td>\n",
       "      <td>89</td>\n",
       "      <td>3.2</td>\n",
       "      <td>2.1</td>\n",
       "      <td>0</td>\n",
       "      <td>0</td>\n",
       "      <td>0.0</td>\n",
       "      <td>0</td>\n",
       "      <td>4.0</td>\n",
       "    </tr>\n",
       "    <tr>\n",
       "      <th>3</th>\n",
       "      <td>179</td>\n",
       "      <td>42.5</td>\n",
       "      <td>80.0</td>\n",
       "      <td>2</td>\n",
       "      <td>6</td>\n",
       "      <td>85</td>\n",
       "      <td>3.0</td>\n",
       "      <td>2.0</td>\n",
       "      <td>1</td>\n",
       "      <td>1</td>\n",
       "      <td>0.0</td>\n",
       "      <td>1</td>\n",
       "      <td>5.0</td>\n",
       "    </tr>\n",
       "    <tr>\n",
       "      <th>4</th>\n",
       "      <td>178</td>\n",
       "      <td>39.0</td>\n",
       "      <td>52.0</td>\n",
       "      <td>1</td>\n",
       "      <td>7</td>\n",
       "      <td>85</td>\n",
       "      <td>2.7</td>\n",
       "      <td>2.2</td>\n",
       "      <td>0</td>\n",
       "      <td>1</td>\n",
       "      <td>0.0</td>\n",
       "      <td>1</td>\n",
       "      <td>2.0</td>\n",
       "    </tr>\n",
       "  </tbody>\n",
       "</table>\n",
       "</div>"
      ],
      "text/plain": [
       "    0     1     2   3   4   5    6    7   8   9    10  11   12\n",
       "0  177  43.0  75.0   1   3  88  3.0  1.6   0   0  0.0   1  7.0\n",
       "1  190  45.0  87.0   2   6  83  4.0  3.7   0   1  0.0   1  5.0\n",
       "2  162  37.0  49.0   1   1  89  3.2  2.1   0   0  0.0   0  4.0\n",
       "3  179  42.5  80.0   2   6  85  3.0  2.0   1   1  0.0   1  5.0\n",
       "4  178  39.0  52.0   1   7  85  2.7  2.2   0   1  0.0   1  2.0"
      ]
     },
     "execution_count": 3,
     "metadata": {},
     "output_type": "execute_result"
    }
   ],
   "source": [
    "import pandas as pd\n",
    "import numpy as np\n",
    "from scipy.stats import norm\n",
    "import matplotlib.pyplot as plt\n",
    "data=pd.read_csv('statstud.csv', sep=';',header=None)\n",
    "data.head()"
   ]
  },
  {
   "cell_type": "markdown",
   "id": "12efb3e1",
   "metadata": {},
   "source": [
    "Erwartungswert Größe"
   ]
  },
  {
   "cell_type": "code",
   "execution_count": 7,
   "id": "698848a7",
   "metadata": {},
   "outputs": [
    {
     "data": {
      "text/plain": [
       "0    176.943662\n",
       "1     41.514184\n",
       "dtype: float64"
      ]
     },
     "execution_count": 7,
     "metadata": {},
     "output_type": "execute_result"
    }
   ],
   "source": [
    "E_groesse=np.mean(data, axis=0)\n",
    "E_groesse[:2]"
   ]
  },
  {
   "cell_type": "markdown",
   "id": "9b36685e",
   "metadata": {},
   "source": [
    "nach Geschlecht: weiblich"
   ]
  },
  {
   "cell_type": "code",
   "execution_count": 8,
   "id": "41685310",
   "metadata": {},
   "outputs": [
    {
     "name": "stdout",
     "output_type": "stream",
     "text": [
      "      0     1     2   3   4   5    6    7   8   9    10  11   12\n",
      "0    177  43.0  75.0   1   3  88  3.0  1.6   0   0  0.0   1  7.0\n",
      "2    162  37.0  49.0   1   1  89  3.2  2.1   0   0  0.0   0  4.0\n",
      "4    178  39.0  52.0   1   7  85  2.7  2.2   0   1  0.0   1  2.0\n",
      "7    177  40.0  60.0   1   9  86  4.0  2.3   0   0  0.0   1  4.0\n",
      "8    176  39.0  64.0   1  10  88  1.7  1.6   0   0  0.0   0  5.0\n",
      "..   ...   ...   ...  ..  ..  ..  ...  ...  ..  ..  ...  ..  ...\n",
      "126  178  41.0  65.0   1  11  86  1.7  1.2   0   0  0.0   1  7.0\n",
      "127  164  37.0  53.0   1   5  89  3.0  1.4   0   0  0.0   1  7.0\n",
      "129  176  43.0  73.0   1   5  88  2.0  2.9   1   0  0.0   1  3.0\n",
      "132  173  38.0  55.0   1   8  86  5.0  3.0   0   0  0.0   1  4.0\n",
      "141  165  36.0  52.0   1   6  89  1.7  1.0   1   0  0.0   1  3.0\n",
      "\n",
      "[67 rows x 13 columns]\n"
     ]
    },
    {
     "data": {
      "text/plain": [
       "0    170.179104\n",
       "1     38.888060\n",
       "dtype: float64"
      ]
     },
     "execution_count": 8,
     "metadata": {},
     "output_type": "execute_result"
    }
   ],
   "source": [
    "data_f=data.loc[data.iloc[:,3]==1]\n",
    "print(data_f)\n",
    "E_groesse_f=np.mean(data_f, axis=0)\n",
    "E_groesse_f[:2]\n",
    "#data_np=np.array(data)\n",
    "#data_f=data_np[data_np[:,3]==1]\n",
    "#data_f\n"
   ]
  },
  {
   "cell_type": "markdown",
   "id": "da7d39eb",
   "metadata": {},
   "source": [
    "nach Geschlecht: männlich"
   ]
  },
  {
   "cell_type": "code",
   "execution_count": 9,
   "id": "a12ff3c6",
   "metadata": {},
   "outputs": [
    {
     "name": "stdout",
     "output_type": "stream",
     "text": [
      "      0     1     2   3   4   5    6    7   8   9    10  11   12\n",
      "1    190  45.0  87.0   2   6  83  4.0  3.7   0   1  0.0   1  5.0\n",
      "3    179  42.5  80.0   2   6  85  3.0  2.0   1   1  0.0   1  5.0\n",
      "5    186  44.0  76.0   2   2  89  2.7  1.7   1   0  0.0   0  5.0\n",
      "6    187  46.0  70.0   2   6  88  2.0  2.6   0   0  0.0   0  3.0\n",
      "11   180  44.0  73.0   2   9  87  1.7  2.0   0   0  0.0   1  8.0\n",
      "..   ...   ...   ...  ..  ..  ..  ...  ...  ..  ..  ...  ..  ...\n",
      "136  180  42.0  85.0   2  12  88  2.7  1.6   0   0  0.0   1  5.0\n",
      "137  178  43.0  75.0   2   6  90  1.7  NaN   1   0  0.0   1  3.0\n",
      "138  186  45.0  87.0   2   8  82  2.0  3.0   1   0  0.0   1  3.0\n",
      "139  194  46.0  70.0   2   5  88  3.0  1.8   1   0  0.0   1  2.0\n",
      "140  175  44.0  70.0   2   5  89  1.7  1.8   0   0  0.0   1  5.0\n",
      "\n",
      "[75 rows x 13 columns]\n"
     ]
    },
    {
     "data": {
      "text/plain": [
       "0    182.986667\n",
       "1     43.891892\n",
       "dtype: float64"
      ]
     },
     "execution_count": 9,
     "metadata": {},
     "output_type": "execute_result"
    }
   ],
   "source": [
    "data_m=data.loc[data.iloc[:,3]==2]\n",
    "print(data_m)\n",
    "E_groesse_m=np.mean(data_m, axis=0)\n",
    "E_groesse_m[:2]\n",
    "#data_np=np.array(data)\n",
    "#data_f=data_np[data_np[:,3]==1]\n",
    "#data_f"
   ]
  },
  {
   "cell_type": "markdown",
   "id": "3a9b23ec",
   "metadata": {},
   "source": [
    "b) Geben Sie fur die Schätzer aus (a) Konfidenzintervalle zum Niveau von 95% an. Gehen\n",
    "Sie dabei davon aus, dass die Grundgesamtheiten jeweils normalverteilt sind."
   ]
  },
  {
   "cell_type": "markdown",
   "id": "b660eef3",
   "metadata": {},
   "source": [
    "Erinnerung: $\\bar{X}\\sim(\\mu,\\sigma^2/n)$  \n",
    "$0.975=N(X_{0.975}/\\sigma)\\rightarrow X_{0.975}=N^{-1}(0.975)*\\sigma$ für zentriertes $X$"
   ]
  },
  {
   "cell_type": "code",
   "execution_count": 10,
   "id": "58ce167d",
   "metadata": {},
   "outputs": [
    {
     "name": "stdout",
     "output_type": "stream",
     "text": [
      "sigma:  0.7557441370384541 0.24680154380051286\n",
      "[175.4624306817083, 178.42489326195366]\n",
      "[41.03046225998523, 41.99790653434101]\n"
     ]
    }
   ],
   "source": [
    "sig_groesse = np.std(data.iloc[:,0])/np.sqrt(data.shape[0])\n",
    "sig_schuhgroesse = np.std(data.iloc[:,1])/np.sqrt(data.shape[0])\n",
    "print(\"sigma: \",sig_groesse, sig_schuhgroesse)\n",
    "alpha=0.05\n",
    "CI_groesse = [E_groesse[0] - norm.ppf(1-alpha/2)*sig_groesse ,E_groesse[0] + norm.ppf(1-alpha/2)*sig_groesse ]\n",
    "\n",
    "CI_schuhgroesse =[E_groesse[1] - norm.ppf(1-alpha/2)*sig_schuhgroesse ,E_groesse[1] + norm.ppf(1-alpha/2)*sig_schuhgroesse ]\n",
    "print(CI_groesse)\n",
    "print(CI_schuhgroesse)"
   ]
  },
  {
   "cell_type": "code",
   "execution_count": 35,
   "id": "1e0769f8",
   "metadata": {},
   "outputs": [
    {
     "name": "stdout",
     "output_type": "stream",
     "text": [
      "[168.6284677878164, 171.72974116740747]\n",
      "[38.49993047056699, 39.27618893241809]\n",
      "[181.57896293400333, 184.39437039933003]\n",
      "[43.55988047124815, 44.22390331253564]\n"
     ]
    }
   ],
   "source": [
    "sig_groesse_f= np.std(data_f.iloc[:,0])/np.sqrt(data_f.shape[0]-1)\n",
    "sig_schuhgroesse_f = np.std(data_f.iloc[:,1])/np.sqrt(data_f.shape[0]-1)\n",
    "\n",
    "sig_groesse_m= np.std(data_m.iloc[:,0])/np.sqrt(data_m.shape[0]-1)\n",
    "sig_schuhgroesse_m = np.std(data_m.iloc[:,1])/np.sqrt(data_m.shape[0]-1)\n",
    "\n",
    "alpha=0.05\n",
    "CI_groesse_f = [E_groesse_f[0] - norm.ppf(1-alpha/2)*sig_groesse_f ,E_groesse_f[0] + norm.ppf(1-alpha/2)*sig_groesse_f ]\n",
    "CI_schuhgroesse_f =[E_groesse_f[1] - norm.ppf(1-alpha/2)*sig_schuhgroesse_f ,E_groesse_f[1] + norm.ppf(1-alpha/2)*sig_schuhgroesse_f ]\n",
    "print(CI_groesse_f)\n",
    "print(CI_schuhgroesse_f)\n",
    "\n",
    "CI_groesse_m = [E_groesse_m[0] - norm.ppf(1-alpha/2)*sig_groesse_m ,E_groesse_m[0] + norm.ppf(1-alpha/2)*sig_groesse_m ]\n",
    "CI_schuhgroesse_m =[E_groesse_m[1] - norm.ppf(1-alpha/2)*sig_schuhgroesse_m ,E_groesse_m[1] + norm.ppf(1-alpha/2)*sig_schuhgroesse_m ]\n",
    "print(CI_groesse_m)\n",
    "print(CI_schuhgroesse_m)"
   ]
  },
  {
   "cell_type": "markdown",
   "id": "e1f14aa2",
   "metadata": {},
   "source": [
    "c) Schätzen Sie Erwartungswert und Varianz des Merkmals Größe mit Hilfe der Maximum Likelihood-Funktion in Python"
   ]
  },
  {
   "cell_type": "code",
   "execution_count": 53,
   "id": "06cb0e91",
   "metadata": {},
   "outputs": [
    {
     "name": "stdout",
     "output_type": "stream",
     "text": [
      " final_simplex: (array([[176.94366643,   8.9739477 ],\n",
      "       [176.9436633 ,   8.97401636],\n",
      "       [176.94359383,   8.97401698]]), array([513.08378268, 513.08378269, 513.08378269]))\n",
      "           fun: 513.0837826839573\n",
      "       message: 'Optimization terminated successfully.'\n",
      "          nfev: 157\n",
      "           nit: 83\n",
      "        status: 0\n",
      "       success: True\n",
      "             x: array([176.94366643,   8.9739477 ])\n"
     ]
    }
   ],
   "source": [
    "import scipy.optimize as optimize\n",
    "import math\n",
    "def gaussian(params):\n",
    "    mean = params[0]   \n",
    "    sd = params[1]\n",
    "\n",
    "    # Calculate negative log likelihood\n",
    "    nll = -np.sum(norm.logpdf(data.loc[:,0], loc=mean, scale=sd))\n",
    "\n",
    "    return nll\n",
    "\n",
    "\n",
    "initParams = [1, 1]\n",
    "\n",
    "results = optimize.minimize(gaussian, initParams, method='Nelder-Mead')\n",
    "print(results)"
   ]
  },
  {
   "cell_type": "markdown",
   "id": "5f211cee",
   "metadata": {},
   "source": [
    "d) Sei X eine standardnormalverteilte Zufallsvariable. Schätzen Sie die Wahrscheinlichkeiten P (X ≤ 1:6449) und P (X ≤ 1:96) durch einen geeigneten Schätzer aus einer simulierten Stichprobe in Python, basierend auf der Funktion scipy.stats.norm.rvs(). Geben Sie ein 0.95-Konfidenzintervall fur die Wahrscheinlichkeiten an. Wie ändert sich die Standardabweichung Ihrer Schätzung bei Verhundertfachung des Umfangs der simulierten Stichprobe?"
   ]
  },
  {
   "cell_type": "code",
   "execution_count": 49,
   "id": "b40a80a4",
   "metadata": {},
   "outputs": [
    {
     "name": "stdout",
     "output_type": "stream",
     "text": [
      "0.95021 0.97516\n",
      "0.0006878296002644841 0.0004921684102012234\n",
      "[0.948861878755981, 0.951558121244019]\n",
      "[0.9743504550054096, 0.9759695449945904]\n"
     ]
    }
   ],
   "source": [
    "sample_groesse = 100000\n",
    "n = norm.rvs(0,1,sample_groesse)\n",
    "\n",
    "#mu\n",
    "sum(x<=1.6449 for x in n)\n",
    "phi_16449 = sum(x<=1.6449 for x in n)/sample_groesse;\n",
    "phi_196 = sum(x<=1.96 for x in n)/sample_groesse;\n",
    "print(phi_16449,phi_196)\n",
    "\n",
    "#sigma aus binomialverteilung\n",
    "std_16449 = np.sqrt(phi_16449*(1-phi_16449)/sample_groesse)\n",
    "std_196 = np.sqrt(phi_196*(1-phi_196)/sample_groesse)\n",
    "print(std_16449,std_196)\n",
    "\n",
    "alpha=0.05\n",
    "# Konfidenzintervalle\n",
    "CI_16499 = [phi_16449 - norm.ppf(1-alpha/2)*std_16449 , phi_16449 + norm.ppf(1-alpha/2)*std_16449]\n",
    "CI_196 = [phi_196 + norm.ppf(alpha)*np.sqrt(phi_196*(1-phi_196)/sample_groesse) , phi_196 - norm.ppf(alpha)*np.sqrt(phi_196*(1-phi_196)/sample_groesse)]\n",
    "print(CI_16499)\n",
    "print(CI_196)"
   ]
  },
  {
   "cell_type": "markdown",
   "id": "a55b9241",
   "metadata": {},
   "source": [
    "e) Illustrieren Sie den zentralen Grenzwertsatz anhand einer entsprechend normierten\n",
    "Summe aus 12 unabhängigen (0, 1)-rechteckverteilten Zufallsvariablen."
   ]
  },
  {
   "cell_type": "code",
   "execution_count": 55,
   "id": "caf10394",
   "metadata": {},
   "outputs": [
    {
     "data": {
      "image/png": "[encoded data removed]",
      "text/plain": [
       "<Figure size 432x288 with 1 Axes>"
      ]
     },
     "metadata": {
      "needs_background": "light"
     },
     "output_type": "display_data"
    }
   ],
   "source": [
    "iterations=100000\n",
    "result=np.zeros(iterations)\n",
    "n=12\n",
    "\n",
    "for i in range(0,iterations):\n",
    "    sample=np.random.uniform(0,1,n)\n",
    "    sample_sum=np.sum(sample)\n",
    "    result[i]=sample_sum\n",
    "      \n",
    "# Plot the histogram.\n",
    "plt.hist(result, bins=25, density=True, alpha=0.6, color='b')\n",
    "  \n",
    "# Plot the PDF.\n",
    "mu=0.5*n\n",
    "std=1/12*n\n",
    "xmin, xmax = plt.xlim()\n",
    "x = np.linspace(xmin, xmax, 100)\n",
    "p = norm.pdf(x, mu, std)\n",
    "  \n",
    "plt.plot(x, p, 'k', linewidth=2)\n",
    "title = \"Fit Values: {:.2f} and {:.2f}\".format(mu, std)\n",
    "plt.title(title)\n",
    "  \n",
    "plt.show()\n"
   ]
  },
  {
   "cell_type": "code",
   "execution_count": null,
   "id": "11659d1b",
   "metadata": {},
   "outputs": [],
   "source": []
  }
 ],
 "metadata": {
  "kernelspec": {
   "display_name": "Python 3 (ipykernel)",
   "language": "python",
   "name": "python3"
  },
  "language_info": {
   "codemirror_mode": {
    "name": "ipython",
    "version": 3
   },
   "file_extension": ".py",
   "mimetype": "text/x-python",
   "name": "python",
   "nbconvert_exporter": "python",
   "pygments_lexer": "ipython3",
   "version": "3.11.7"
  }
 },
 "nbformat": 4,
 "nbformat_minor": 5
}
