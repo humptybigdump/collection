{
 "cells": [
  {
   "cell_type": "markdown",
   "metadata": {},
   "source": [
    "# Geodatenanalyse 1\n",
    "\n",
    "## Einführung in die Progammierung mit Python - Übung"
   ]
  },
  {
   "cell_type": "markdown",
   "metadata": {},
   "source": [
    "### Aufgabe 1\n",
    "#### Einfache Rechenoperationen\n",
    "Schreibe jeweils ein Rechenbeispiel für eine Addition, Substraktion, Multiplikation, Division und einen Exponenten bei der die Zahl 9 heraus kommt.\n",
    "\n",
    "#### Hinweis\n",
    "Nutze die *print()* Funktion um alle deine Ergebnisse in dieser und den nachfolgenden Ausgabe zu sehen."
   ]
  },
  {
   "cell_type": "code",
   "execution_count": null,
   "metadata": {},
   "outputs": [],
   "source": []
  },
  {
   "cell_type": "markdown",
   "metadata": {},
   "source": [
    "#### Zinsen\n",
    "- Wie hoch ist dein Endkapital bei einer Einlage von 10000 Euro, einem Zinsatz von 2 % p.a. und einer Laufzeit von 10 Jahren?\n",
    "> $$Einlage * Zinsatz^{Laufzeit}$$\n",
    "\n",
    "- Speichere dein Endkapital in einer Variablen. Welchen Datentype hat deine berechnete Einlage?\n",
    "- Schreibe eine Nachricht als Ausgabe, die dein Endkapital als ganze Zahl vom Type *integer* ausweist:\n",
    "> Mein Endkapital beträgt: 12189"
   ]
  },
  {
   "cell_type": "code",
   "execution_count": null,
   "metadata": {},
   "outputs": [],
   "source": []
  },
  {
   "cell_type": "markdown",
   "metadata": {},
   "source": [
    "### Aufgabe 2\n",
    "\n",
    "#### Variablen zuweisen\n",
    "-  Wähle eine Vorlesung, die du dieses Semester besuchst, und weise dem Titel, sowie dem Wochentag der Veranstaltung, und dem Dozenten/der Dozentin eine entsprechende Variablen zu, wie z.B.: \n",
    "> Titel = \"Hydrogeologie\"\n",
    "\n",
    "- Füge deinem Code einen Kommentar hinzu, der einen Hinweis auf die von dir ausgesuchte Vorlesung enthält.\n",
    "\n",
    "\n",
    "- Gebe für jede Variable eine einfache selbst gewählte und individuelle Nachricht aus. Eine Nachricht könnte zum Beispiel sein: \n",
    "> \"Für die Hydrogeologie muss ich viel lernen.\"\n"
   ]
  },
  {
   "cell_type": "code",
   "execution_count": null,
   "metadata": {},
   "outputs": [],
   "source": []
  },
  {
   "cell_type": "markdown",
   "metadata": {},
   "source": [
    "#### Liste erstellen und indizieren\n",
    "- Erstelle eine Liste \"*Vorlesung*\" aus den Variablen der letzten Aufgabe.\n",
    "\n",
    "\n",
    "- Gebe das dritte Element deiner Liste aus.\n",
    "\n",
    "\n",
    "- Mit drei Elementen ist unsere Liste noch verhältnismäßig kurz und wir können die Anzahl der Elemente ohne Probleme auf einen Blick bestimmen. Oft möchten wir die Listenlänge aber dynamisch als Variable verwenden können. Zum Beispiel um die aktuelle Anzahl Besucher einer Veranstaltung oder Einrichtung abzufragen, oder die Menge der Daten zu bestimmen, die wir in einer Visualisierung auswerten möchten. Spätestens bei sehr langen Listen benötigen wir also eine entsprechende Funktion. Schaue dir hierzu folgende Funktion an und gebe damit eine entsprechende Nachricht mit der Listenlänge aus:\n",
    ">len()\n"
   ]
  },
  {
   "cell_type": "code",
   "execution_count": null,
   "metadata": {},
   "outputs": [],
   "source": []
  },
  {
   "cell_type": "markdown",
   "metadata": {},
   "source": [
    "### Aufgabe 3\n",
    "#### Liste verändern\n",
    "- Verwende deine zuvor erstellte Liste und ersetze den Dozenten/ die Dozentin mit Hilfe des Listenindex durch jemand anderes."
   ]
  },
  {
   "cell_type": "code",
   "execution_count": null,
   "metadata": {},
   "outputs": [],
   "source": []
  },
  {
   "cell_type": "markdown",
   "metadata": {},
   "source": [
    "## ENDE"
   ]
  }
 ],
 "metadata": {
  "kernelspec": {
   "display_name": "Python 3.8.8 ('base')",
   "language": "python",
   "name": "python3"
  },
  "language_info": {
   "codemirror_mode": {
    "name": "ipython",
    "version": 3
   },
   "file_extension": ".py",
   "mimetype": "text/x-python",
   "name": "python",
   "nbconvert_exporter": "python",
   "pygments_lexer": "ipython3",
   "version": "3.8.8"
  },
  "toc": {
   "base_numbering": 1,
   "nav_menu": {},
   "number_sections": true,
   "sideBar": true,
   "skip_h1_title": false,
   "title_cell": "Table of Contents",
   "title_sidebar": "Contents",
   "toc_cell": false,
   "toc_position": {},
   "toc_section_display": true,
   "toc_window_display": false
  },
  "vscode": {
   "interpreter": {
    "hash": "e4cce46d6be9934fbd27f9ca0432556941ea5bdf741d4f4d64c6cd7f8dfa8fba"
   }
  }
 },
 "nbformat": 4,
 "nbformat_minor": 4
}
