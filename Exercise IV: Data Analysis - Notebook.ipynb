{
 "cells": [
  {
   "cell_type": "markdown",
   "metadata": {},
   "source": [
    "**Data Science and AI for Energy Systems** \n",
    "\n",
    "Karlsruhe Institute of Technology\n",
    "\n",
    "Institute of Automation and Applied Informatics\n",
    "\n",
    "Summer Term 2024\n",
    "\n",
    "---"
   ]
  },
  {
   "cell_type": "markdown",
   "metadata": {},
   "source": [
    "# Exercise IV: Data Analysis"
   ]
  },
  {
   "cell_type": "markdown",
   "metadata": {},
   "source": [
    "**Imports**"
   ]
  },
  {
   "cell_type": "code",
   "execution_count": 1,
   "metadata": {},
   "outputs": [],
   "source": [
    "#!pip install emd\n",
    "import emd\n",
    "import scipy as sc\n",
    "import numpy as np\n",
    "import pandas as pd\n",
    "import matplotlib.pyplot as plt\n",
    "from scipy.fft import fft, fftfreq\n",
    "import statsmodels\n",
    "import seaborn as sns\n",
    "import matplotlib"
   ]
  },
  {
   "cell_type": "markdown",
   "metadata": {},
   "source": [
    "## Problem IV.2 (Programming) -- Basic data analysis methods in Python "
   ]
  },
  {
   "cell_type": "markdown",
   "metadata": {},
   "source": [
    "#### We consider several basic data analysis methods like calculation of the moments, computation of the autocorrelation, a Fourier analysis and an Empirical Mode Decomposition. In order to understand the concepts of the methods in detail, we apply them to both synthetic data and empirical load time series. In this exercise we consider a synthetic dataset, part of which was already shown in task I.1 (d). The dataset is given as *synthetic\\_data\\_ex4.csv* in the BW-Sync-and-share folder [https://bwsyncandshare.kit.edu/s/QPySS7eZCWjSjYP](https://bwsyncandshare.kit.edu/s/QPySS7eZCWjSjYP)."
   ]
  },
  {
   "cell_type": "markdown",
   "metadata": {},
   "source": [
    "***\n",
    "**(a) Calculate mean, standard deviation, skewness and kurtosis for the  synthetic data set.**\n"
   ]
  },
  {
   "cell_type": "code",
   "execution_count": 3,
   "metadata": {},
   "outputs": [
    {
     "data": {
      "text/plain": [
       "'You can use the following functions:\\nmean: np.mean\\nstandard deviation: np.std\\nskewness: sc.stats.skew\\nkurtosis: sc.stats.kurtosis'"
      ]
     },
     "execution_count": 3,
     "metadata": {},
     "output_type": "execute_result"
    }
   ],
   "source": [
    "df_syn = pd.read_csv('data/synthetic_data_ex4.csv', index_col=0)\n",
    "df_syn_values = df_syn.values\n",
    "'''You can use the following functions:\n",
    "mean: np.mean\n",
    "standard deviation: np.std\n",
    "skewness: sc.stats.skew\n",
    "kurtosis: sc.stats.kurtosis'''\n",
    "# Now calculate the mean, standard deviation, skewness and kurtosis of the synthetic data:\n"
   ]
  },
  {
   "cell_type": "markdown",
   "metadata": {},
   "source": [
    "***\n",
    "**(b) Show the probability distribution for the time series (use *seaborn.kdeplot*). Which kind of modality can you observe?**"
   ]
  },
  {
   "cell_type": "code",
   "execution_count": null,
   "metadata": {},
   "outputs": [],
   "source": []
  },
  {
   "cell_type": "markdown",
   "metadata": {},
   "source": [
    "***\n",
    "**(c) Calculate the increments of the time series and plot the probability distribution (use again *seaborn.kdeplot*). Which kind of modality can you observe?**"
   ]
  },
  {
   "cell_type": "code",
   "execution_count": 10,
   "metadata": {},
   "outputs": [
    {
     "data": {
      "text/plain": [
       "'Use pd.DataFrame.diff() to calculate the increments of the synthetic data.'"
      ]
     },
     "execution_count": 10,
     "metadata": {},
     "output_type": "execute_result"
    }
   ],
   "source": [
    "'''Use pd.DataFrame.diff() or np.diff() to calculate the increments of the synthetic data:'''\n"
   ]
  },
  {
   "cell_type": "markdown",
   "metadata": {},
   "source": [
    "***\n",
    "**(d) Plot the autocorrelation $\\rho_{xx}(\\tau)$ for $\\tau \\in [0,1000]$, you can use the function *acf* from the module *statsmodels.tsa.stattools*, with $nlags = 1000$. Which behaviour can you observe in the autocorrelation?**"
   ]
  },
  {
   "cell_type": "code",
   "execution_count": null,
   "metadata": {},
   "outputs": [],
   "source": []
  },
  {
   "cell_type": "markdown",
   "metadata": {},
   "source": [
    "***\n",
    "**(e) We do a Fourier analysis, calculating the Discrete Fourier Transform (DFT) and the Fast Fourier Transform (FFT)**"
   ]
  },
  {
   "cell_type": "markdown",
   "metadata": {},
   "source": [
    "(i): Write a formula to calculate the DFT, which is given as $X_k = \\sum_{m=0}^{n-1}x_m e^{-2i\\pi km/n}$ for discrete measurements $x_0,x_1,\\ldots , x_{n-1}$. Calculate the DFT with this formula."
   ]
  },
  {
   "cell_type": "code",
   "execution_count": null,
   "metadata": {},
   "outputs": [],
   "source": []
  },
  {
   "cell_type": "markdown",
   "metadata": {},
   "source": [
    "(ii) Now use *scipy.fft.fft* and *scipy.fft.fftfreq* to calculate the Fast Fourier Transform."
   ]
  },
  {
   "cell_type": "code",
   "execution_count": 19,
   "metadata": {},
   "outputs": [
    {
     "data": {
      "text/plain": [
       "'\\nUse the following example as a guide for (ii) and (iii) below:\\n\\n# Number of sample points\\nN = 600\\n# sample spacing\\nT = 1.0 / 800.0\\nx = np.linspace(0.0, N*T, N, endpoint=False)\\ny = np.sin(50.0 * 2.0*np.pi*x) + 0.5*np.sin(80.0 * 2.0*np.pi*x)\\nyf = fft(y)\\nxf = fftfreq(N, T)[:N//2]\\nplt.plot(xf, 2.0/N * np.abs(yf[0:N//2]))\\nplt.grid()\\nplt.show()\\n\\n'"
      ]
     },
     "execution_count": 19,
     "metadata": {},
     "output_type": "execute_result"
    }
   ],
   "source": [
    "'''\n",
    "Use the following example as a guide for (ii) and (iii) below:\n",
    "\n",
    "# Number of sample points\n",
    "N = 600\n",
    "# sample spacing\n",
    "T = 1.0 / 800.0\n",
    "x = np.linspace(0.0, N*T, N, endpoint=False)\n",
    "y = np.sin(50.0 * 2.0*np.pi*x) + 0.5*np.sin(80.0 * 2.0*np.pi*x)\n",
    "yf = fft(y)\n",
    "xf = fftfreq(N, T)[:N//2]\n",
    "plt.plot(xf, 2.0/N * np.abs(yf[0:N//2]))\n",
    "plt.grid()\n",
    "plt.show()\n",
    "\n",
    "'''\n",
    "# The Fast Fourier Transform (FFT) is calculated as follows:\n"
   ]
  },
  {
   "cell_type": "markdown",
   "metadata": {},
   "source": [
    "(iii) Plot the Fourier amplitudes depending on the frequency, using as well the results from (i) as also from (ii). Are the results (almost) identical? What are the main frequencies of the signal?"
   ]
  },
  {
   "cell_type": "code",
   "execution_count": null,
   "metadata": {},
   "outputs": [],
   "source": []
  },
  {
   "cell_type": "markdown",
   "metadata": {},
   "source": [
    "***\n",
    "**(f) Finally we carry out an Empirical Mode Decomposition: For extracting the Intrinsic Mode Functions (IMFs) of the signal, use the function *emd.sift.sift*. You can plot the IMFs with *emd.plotting.plot\\_imfs*. <br>How many mode functions are extracted, and which mode functions are relevant for the long-time oscillations, short-time oscillations and noise?**"
   ]
  },
  {
   "cell_type": "code",
   "execution_count": null,
   "metadata": {},
   "outputs": [],
   "source": []
  },
  {
   "cell_type": "markdown",
   "metadata": {},
   "source": [
    "## Problem IV.3 (Programming) -- Basic data analysis methods for  a load time series"
   ]
  },
  {
   "cell_type": "markdown",
   "metadata": {},
   "source": [
    "#### As we now saw some basic data analysis concepts applied on a synthetic dataset, we want to apply the same methods to an empirical time series which shows several months of energy demand of an industrial building, with a time resolution of $15$ minutes. The empirical dataset is given as *empirical\\_load\\_data\\_ex4.csv* in the BW-Sync-and-share folder [https://bwsyncandshare.kit.edu/s/QPySS7eZCWjSjYP](https://bwsyncandshare.kit.edu/s/QPySS7eZCWjSjYP)."
   ]
  },
  {
   "cell_type": "markdown",
   "metadata": {},
   "source": [
    "***\n",
    "**(a) Calculate the mean, standard deviation, skewness and kurtosis for the load time series.**"
   ]
  },
  {
   "cell_type": "code",
   "execution_count": 4,
   "metadata": {},
   "outputs": [],
   "source": [
    "df_load = pd.read_csv('data/empirical_data_ex4.csv', parse_dates=True, index_col=0, names=['Load time series']).squeeze()\n",
    "df_load_values = df_load.values\n",
    "# Now calculate the mean, standard deviation, skewness and kurtosis of the empirical data:\n"
   ]
  },
  {
   "cell_type": "markdown",
   "metadata": {},
   "source": [
    "***\n",
    "**(b) Show the probability distribution for the time series (use *seaborn.kdeplot*). In especially, plot the results with different smoothing parameters *bw\\_adjust* $\\in \\{0.1,0.5,1\\}$ and plot also the histogram using *plt.hist* with $50$ bins.**"
   ]
  },
  {
   "cell_type": "code",
   "execution_count": null,
   "metadata": {},
   "outputs": [],
   "source": []
  },
  {
   "cell_type": "markdown",
   "metadata": {},
   "source": [
    "***\n",
    "**(c) Calculate the increments of the time series and plot the probability distribution (use again *seaborn.kdeplot*).**\n"
   ]
  },
  {
   "cell_type": "markdown",
   "metadata": {},
   "source": [
    "Calculate the increments:"
   ]
  },
  {
   "cell_type": "code",
   "execution_count": null,
   "metadata": {},
   "outputs": [],
   "source": []
  },
  {
   "cell_type": "markdown",
   "metadata": {},
   "source": [
    "***\n",
    "**(d) Plot the autocorrelation $\\rho_{xx}(\\tau)$ for $\\tau \\in [0,24*4*10]$ (10 days). Which behaviour can you observe in the autocorrelation?**"
   ]
  },
  {
   "cell_type": "code",
   "execution_count": null,
   "metadata": {},
   "outputs": [],
   "source": []
  },
  {
   "cell_type": "markdown",
   "metadata": {},
   "source": [
    "***\n",
    "**(e) We do a Fourier analysis calculating the Fast Fourier Transform: Use *scipy.fft.fft* and *scipy.fft.fftfreq* to calculate the Fast Fourier Transform. Plot the Fourier amplitudes depending on the frequency. What are main frequencies of the signal?**"
   ]
  },
  {
   "cell_type": "code",
   "execution_count": null,
   "metadata": {},
   "outputs": [],
   "source": []
  },
  {
   "cell_type": "markdown",
   "metadata": {},
   "source": [
    "***\n",
    "**(f) As for the synthetic time series in Exercise IV.2, we carry out an Empirical Mode Decomposition: <br>Use the function *emd.sift.sift* for extracting the Intrinsic Mode Functions (IMFs) of the load signal. You can plot the IMFs with *emd.plotting.plot\\_imfs*. How many mode functions are extracted, and do the modes provide information about the oscillations and trends that determine the time series?**"
   ]
  },
  {
   "cell_type": "code",
   "execution_count": null,
   "metadata": {},
   "outputs": [],
   "source": []
  },
  {
   "cell_type": "markdown",
   "metadata": {},
   "source": [
    "### Additional note: The synthetic dataset for Exercise IV.2 is created as follows:"
   ]
  },
  {
   "cell_type": "code",
   "execution_count": 21,
   "metadata": {},
   "outputs": [],
   "source": [
    "time=np.linspace(0,1,1000, endpoint=False)\n",
    "cleanData = 2*np.sin(time*10*2*np.pi) + 0.3*np.sin(time*85*2*np.pi) \n",
    "#add Gaussian noise\n",
    "noiseProcess = sc.stats.norm(loc = 0, scale = 0.1).rvs(size=len(time))\n",
    "synthetic_data = cleanData+noiseProcess"
   ]
  },
  {
   "cell_type": "markdown",
   "metadata": {},
   "source": [
    "You can change the dataset and analyze the data for different parameters."
   ]
  },
  {
   "cell_type": "code",
   "execution_count": null,
   "metadata": {},
   "outputs": [],
   "source": []
  }
 ],
 "metadata": {
  "kernelspec": {
   "display_name": "Python 3 (ipykernel)",
   "language": "python",
   "name": "python3"
  },
  "language_info": {
   "codemirror_mode": {
    "name": "ipython",
    "version": 3
   },
   "file_extension": ".py",
   "mimetype": "text/x-python",
   "name": "python",
   "nbconvert_exporter": "python",
   "pygments_lexer": "ipython3",
   "version": "3.9.18"
  }
 },
 "nbformat": 4,
 "nbformat_minor": 4
}
