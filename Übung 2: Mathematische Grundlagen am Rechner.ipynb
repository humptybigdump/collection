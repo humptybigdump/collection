{
  "cells": [
    {
      "cell_type": "markdown",
      "metadata": {},
      "source": [
        "<div style=\"text-align:center\">Marco Seiz, Andreas Prahs, Anastasia August<br>\n",
        "KIT, Institut f\u00fcr Angewandte Materialien (IAM)<br>\n",
        "Mikrostrukturmodellierung und Simulation (MMS)\n",
        "</div>\n",
        "<h1>Mikrostruktursimulation <br/>Rechner\u00fcbung Grundlagen Mathematik WS 22/23</h1>"
      ]
    },
    {
      "cell_type": "markdown",
      "metadata": {},
      "source": [
        "In dieser Rechner\u00fcbung sollen die Erkenntnisse aus der schriftlichen \u00dcbung mit Hilfe von Python vertieft und angewendet werden. Hierzu werden Ihnen Codefragmente zur Verf\u00fcgung gestellt, die Sie vervollst\u00e4ndigen sollen.\n",
        "Falls Sie keine eigene Pythonumgebung aufsetzen k\u00f6nnen, so senden Sie eine kurze Mail an den \u00dcbungsleiter (marco.seiz@kit.edu) und Sie werden Zugang zu einer entsprechenden Umgebung erhalten.\n",
        "\n",
        "Einzelne Zellen wie die n\u00e4chste k\u00f6nnen mit Shift+Enter ausgef\u00fchrt werden. W\u00e4hrend der Ausf\u00fchrung wird links von der Zelle ein `[*]` angezeigt, um die aktuelle Bearbeitung zu verdeutlichen, und nach Ausf\u00fchrung wird eine Zahl zwischen den Klammern stehen, welche zur Kennzeichnung der Reihenfolge der Ausf\u00fchrung dient. \n",
        "Die Befehle in der n\u00e4chsten Zeile dienen dazu die n\u00f6tigen Bibliotheken f\u00fcr die \u00dcbung einzubinden. Danach beginnt die eigentliche \u00dcbung."
      ]
    },
    {
      "cell_type": "code",
      "execution_count": null,
      "metadata": {},
      "outputs": [],
      "source": [
        "%matplotlib notebook\n",
        "import matplotlib.pyplot as plt\n",
        "import matplotlib as mpl\n",
        "import math\n",
        "import numpy as np\n",
        "mpl.rcParams.update({'font.size': 16})\n",
        "mpl.rcParams['figure.figsize'] = (9,6)\n",
        "mpl.rcParams['axes.grid'] = True\n",
        "from sympy import *\n",
        "import time\n",
        "from numba import jit\n",
        "import numba\n",
        "import warnings\n",
        "warnings.filterwarnings('ignore')\n",
        "init_printing()\n",
        "dtes = 0.5\n",
        "dtis = [0.5, 10, 100]\n",
        "runtime_expl = {dtes :  []}\n",
        "runtime_expl_jit = {dtes :  []}\n",
        "runtime_impl = {}\n",
        "for dti in dtis:\n",
        "    runtime_impl[dti] = []"
      ]
    },
    {
      "cell_type": "markdown",
      "metadata": {},
      "source": [
        "<h3>Aufgabe 1 a)<br>\n",
        "Analytische L\u00f6sung</h3>"
      ]
    },
    {
      "cell_type": "markdown",
      "metadata": {},
      "source": [
        "Gegeben ist die Funktion $f = \\exp(2x+1)$. Definieren Sie diese Funktion und bestimmen Sie die analytische Ableitung mit Hilfe von sympy. Geben Sie den Wert der Ableitung an der Stelle $x=1$ in symbolischer wie auch numerischer Form an.\n",
        "\n",
        "Hinweis: Die Ableitung einer Funktion $f(x)$ nach $x$ l\u00e4sst sich mit `diff(f(x), x)` bestimmen. Mit `N(ausdruck)` wird der Ausdruck numerisch ausgewertet."
      ]
    },
    {
      "cell_type": "code",
      "execution_count": null,
      "metadata": {},
      "outputs": [],
      "source": [
        "x = symbols('x') \n",
        "x_pos = 1 \n",
        "#hier f mit Lambda(x, expr) definieren, damit direkt als Funktion aufrufbar\n",
        "f = Lambda(x, \n",
        "display(f)\n",
        "df = \n",
        "display(df)\n",
        "symb = \n",
        "print(\"Symbolische Berechnung: %s\" % (symb))\n",
        "display(symb)\n",
        "evaluated = \n",
        "print(\"Numerische Berechnung: %e\" % (evaluated))"
      ]
    },
    {
      "cell_type": "markdown",
      "metadata": {},
      "source": [
        "<h3>Aufgabe 1 b)<br>\n",
        "Numerische Differentiation</h3>"
      ]
    },
    {
      "cell_type": "markdown",
      "metadata": {},
      "source": [
        "Es sollen nun mehrere numerische Verfahren zur N\u00e4herung der Ableitung untersucht werden. Die Verfahren basieren darauf, die Steigung der Funktion \u00fcber St\u00fctzpunkte zu bestimmen.\n",
        "\n",
        "Implementieren Sie die folgenden Verfahren in den vordefinierten Funktionen und berechnen sie wiederum die Ableitung\n",
        "an der Stelle $x=1$ f\u00fcr jedes Verfahren. Der Wert hinter `return` wird von der Funktion zur\u00fcckgegeben.\n",
        "\n",
        "1. R\u00fcckw\u00e4rtsdifferenz 1. Ordnung $$\\frac{\\partial f(x)}{\\partial x} \\approx \\frac{f(x_i)-f(x_{i-1})}{x_i-x_{i-1}}$$\n",
        "2. Vorw\u00e4rtsdifferenz 1. Ordnung $$\\frac{\\partial f(x)}{\\partial x} \\approx \\frac{f(x_{i+1})-f(x_{i})}{x_{i+1}-x_{i}}$$\n",
        "3. Zentrale Differenz 2. Ordnung $$\\frac{\\partial f(x)}{\\partial x} \\approx \\frac{f(x_{i+1})-f(x_{i-1})}{x_{i+1}-x_{i-1}}$$\n",
        "4. R\u00fcckw\u00e4rtsdifferenz 3. Ordnung $$\\frac{\\partial f(x)}{\\partial x} \\approx \\frac{11 f(x_{i})- 18 f(x_{i-1}) + 9 f(x_{i-2}) -2 f(x_{i-3})}{3(x_{i+1}-x_{i-1})}$$\n",
        "5. Zentrale Differenz 4. Ordnung $$\\frac{\\partial f(x)}{\\partial x} \\approx \\frac{-f(x_{i+2}) + 8 f(x_{i+1}) - 8 f(x_{i-1}) +f(x_{i-2})}{6(x_{i+1}-x_{i-1})}$$"
      ]
    },
    {
      "cell_type": "code",
      "execution_count": null,
      "metadata": {},
      "outputs": [],
      "source": [
        "dx = 1.0/100.0\n",
        "def diff_rueck_1_ordn(dx):\n",
        "    return \n",
        "print(\"R\u00fcckw\u00e4rtsdifferenz %e\"%N(diff_rueck_1_ordn(dx)))"
      ]
    },
    {
      "cell_type": "code",
      "execution_count": null,
      "metadata": {},
      "outputs": [],
      "source": [
        "def diff_vor_1_ordn(dx):\n",
        "    return \n",
        "print(\"Vorw\u00e4rtsdifferenz %e\"%N(diff_vor_1_ordn(dx)))"
      ]
    },
    {
      "cell_type": "code",
      "execution_count": null,
      "metadata": {},
      "outputs": [],
      "source": [
        "def diff_zentral_2_ordn(dx):\n",
        "    return \n",
        "print(\"Zentraldifferenz 2. Ordnung %e\"%N(diff_zentral_2_ordn(dx)))"
      ]
    },
    {
      "cell_type": "code",
      "execution_count": null,
      "metadata": {},
      "outputs": [],
      "source": [
        "def diff_rueck_3_ordn(dx):\n",
        "    return \n",
        "print(\"R\u00fcckw\u00e4rtsdifferenz 3. Ordnung %e\"%N(diff_rueck_3_ordn(dx)))"
      ]
    },
    {
      "cell_type": "code",
      "execution_count": null,
      "metadata": {},
      "outputs": [],
      "source": [
        "def diff_zentral_4_ordn(dx):\n",
        "    return \n",
        "print(\"Zentraldifferenz 4. Ordnung %e\"%N(diff_zentral_4_ordn(dx)))"
      ]
    },
    {
      "cell_type": "markdown",
      "metadata": {},
      "source": [
        "<h3>Aufgabe 1 c)<br>\n",
        "Fehlerordnung</h3>\n",
        "Vervollst\u00e4ndigen Sie die <b>err</b> Funktion so, dass diese die Differenz $|f'-f'_{\\text{num}}|$ zwischen der analytischen $f'$ und dem numerischen Verfahren $f'_{\\text{num}}$ zur\u00fcckliefert. F\u00fcllen Sie das Array <b>k</b> mit den Werten $2^{-i}$, wobei $i$ den Index des Arrays darstellt.\n",
        "\n",
        "Visualisieren Sie nun die numerischen Fehler und diskutieren Sie die Ergebnisse im Kontext der Gr\u00f6\u00dfe des Fehlers und der Fehlerordnung. Was sagt die Steigung im Diagramm aus? Wie sieht es ohne doppellogarithmitsche Auftragung aus? Hinweis: In der Visualisierung kann mit dem leeren Rechteck gezoomt werden.\n",
        "\n",
        "\n"
      ]
    },
    {
      "cell_type": "code",
      "execution_count": null,
      "metadata": {},
      "outputs": [],
      "source": [
        "K = 10\n",
        "err = np.zeros(K)\n",
        "\n",
        "\n",
        "# Fehlerfunktion\n",
        "def err(calc_method, dx):\n",
        "    ret = \n",
        "    return ret\n",
        "\n",
        "# Abstand der Gitterpunkte\n",
        "k = np.zeros(K)\n",
        "\n",
        "\n",
        "\n",
        "fig_dxErr, ax_dxErr = plt.subplots()\n",
        "\n",
        "# Setze beide Skalen zu logarithmischen Skalen\n",
        "ax_dxErr.set_yscale('log')\n",
        "ax_dxErr.set_xscale('log')\n",
        "ax_dxErr.set_xlabel(\"Abstand der St\u00fctzpunkte\")\n",
        "ax_dxErr.set_ylabel(\"Fehler\")\n",
        "ax_dxErr.plot(k,[err(diff_rueck_1_ordn,i) for i in k],\"-x\", label='1. Ordnung r\u00fcckw\u00e4rts')\n",
        "ax_dxErr.plot(k,[err(diff_vor_1_ordn,i) for i in k],\"-x\", label='1. Ordnung vorw\u00e4rts')\n",
        "ax_dxErr.plot(k,[err(diff_zentral_2_ordn,i) for i in k],\"-x\", label='2. Ordnung zentral')\n",
        "ax_dxErr.plot(k,[err(diff_rueck_3_ordn,i) for i in k],\"-x\", label='3. Ordnung r\u00fcckw\u00e4rts')\n",
        "ax_dxErr.plot(k,[err(diff_zentral_4_ordn,i) for i in k],\"-x\", label='4. Ordnung zentral')\n",
        "ax_dxErr.legend(ncol=1);"
      ]
    },
    {
      "cell_type": "markdown",
      "metadata": {},
      "source": [
        "<h3>Aufgabe 2</h3>"
      ]
    },
    {
      "cell_type": "markdown",
      "metadata": {},
      "source": [
        "Gegeben ist die eindimensionale Diffusionsgleichung\n",
        "$$ \\frac{\\partial c}{\\partial t} = D \\frac{\\partial^2 c}{\\partial x^2}.$$\n",
        "Diese Gleichung soll nun numerisch mit verschiedenen Verfahren gel\u00f6st werden. Der Wert der Diffusionskonstanten $D$ betr\u00e4gt 1, die Raumschrittweite $\\Delta x$ sei 1 und es sollen 50 Gitterpunkte zur Aufl\u00f6sung des Gebiets verwendet werden. Die Zeitschrittweite betr\u00e4gt $\\Delta t = 0.5$."
      ]
    },
    {
      "cell_type": "code",
      "execution_count": null,
      "metadata": {},
      "outputs": [],
      "source": [
        "# Simulations- und Diskretisierungsparameter\n",
        "D=1\n",
        "deltax=1\n",
        "gridpoints=50 #50 # mit Randpunkten\n",
        "# Zeitschrittweite f\u00fcr das explizite Verfahren\n",
        "deltat_explicit=0.5"
      ]
    },
    {
      "cell_type": "markdown",
      "metadata": {},
      "source": [
        "<h3>2 a) Explizites Eulerverfahren</h3>"
      ]
    },
    {
      "cell_type": "markdown",
      "metadata": {},
      "source": [
        "Implementieren Sie die Berechnung der zweiten Ableitung mit zentralen Differenzen zweiter Ordnung f\u00fcr ein Skalarfeld und darauf aufbauend die Zeitintegration mit Hilfe des expliziten Eulerverfahrens erster Ordnung.\n",
        "\n",
        "Hinweis: Es ist hilfreich, sich die diskretisierte Form der Gleichung aufzuschreiben. "
      ]
    },
    {
      "cell_type": "code",
      "execution_count": null,
      "metadata": {},
      "outputs": [],
      "source": [
        "# Berechnung der zweiten r\u00e4umliche Ableitung von c an der Stelle i\n",
        "# Hinweis: Das i-te Element eines Arrays ist \u00fcber c[i] verf\u00fcgbar.\n",
        "#@jit\n",
        "def diff2Ord2(c, i):\n",
        "    return  \n",
        "    \n",
        "# Zeitintegration mit dem expliziten Eulerverfahren\n",
        "#@jit\n",
        "def explEuler1Ord(cold, cnew):\n",
        "    length = cold.shape[0]\n",
        "    start = 1\n",
        "    end = length-1\n",
        "    for i in range(start, end):\n"
      ]
    },
    {
      "cell_type": "markdown",
      "metadata": {},
      "source": [
        "<h3>2 b) Rand- und Anfangsbedingungen</h3>"
      ]
    },
    {
      "cell_type": "markdown",
      "metadata": {},
      "source": [
        "F\u00fcr die L\u00f6sung des Anfangsrandwertproblems sind Anfangs- und Randbedingungen notwendig. Implementieren Sie die folgendenen Bedingungen:\n",
        "\n",
        "Dirichlet-Randbedingung am linken Rand: $c(0,t) = 0$\n",
        "\n",
        "Dirichlet-Randbedingung am rechten Rand: $c(L,t) = 1$\n",
        "\n",
        "Anfangsbedingung: $c(x,0) = 0$"
      ]
    },
    {
      "cell_type": "code",
      "execution_count": null,
      "metadata": {},
      "outputs": [],
      "source": [
        "# Randbedingungen mit dem Ansatz \u00fcber ghost- oder halo-Zellen; in diesen Zellen wird sp\u00e4ter nicht gerechnet\n",
        "# sondern es wird nur der Wert, der zur Erf\u00fcllung der Randbedingung sorgt, gesetzt.\n",
        "# Hinweis: a[-1] ist das letzte Element von a, entspricht also dem rechten Rand.\n",
        "def bcs(c):\n",
        "    c[0] = \n",
        "    c[-1] = \n",
        "\n",
        "# Anfangsbedingungen\n",
        "# Hinweis: a[:] entspricht allen Elementen von a\n",
        "def ini(c):\n"
      ]
    },
    {
      "cell_type": "markdown",
      "metadata": {},
      "source": [
        "<h3>2 c) Simulation und Analyse</h3>"
      ]
    },
    {
      "cell_type": "markdown",
      "metadata": {},
      "source": [
        "L\u00f6sen sie nun die Gleichung numerisch f\u00fcr eine Zeitschrittweite von $\\Delta t=0.5$. Was f\u00fcr ein Zustand wird ann\u00e4hernd erreicht?\n",
        "\n",
        "\n",
        "\n",
        "Hat die Wahl der Anfangsbedingung einen Einfluss auf das Ergebnis mit den gegebenen Randbedingung? Beachten Sie dabei die Antwort auf die vorherige Frage.\n",
        "\n",
        "\n",
        "Setzen Sie nun die Zeitschrittweite auf $\\Delta t=0.51$. Wie ver\u00e4ndert sich die L\u00f6sung und warum?\n",
        "\n",
        "\n"
      ]
    },
    {
      "cell_type": "code",
      "execution_count": null,
      "metadata": {},
      "outputs": [],
      "source": [
        "# Initialisieren der Felder\n",
        "cold=np.zeros(gridpoints)\n",
        "cnew=np.zeros(gridpoints)\n",
        "ini(cold)\n",
        "framelist_e=[]\n",
        "times_e=[]\n",
        "t=0"
      ]
    },
    {
      "cell_type": "code",
      "execution_count": null,
      "metadata": {},
      "outputs": [],
      "source": [
        "#Simulation\n",
        "if hasattr(explEuler1Ord, \"compile\"):\n",
        "    explEuler1Ord.compile((numba.float64[:], numba.float64[:])) # precompile \n",
        "goaltime = 0.7*gridpoints**2\n",
        "print(\"Zielzeit ist %lf\" % (goaltime))\n",
        "timesteps=int(goaltime/deltat_explicit)\n",
        "writefreq=int(timesteps/5) \n",
        "bcs(cold)\n",
        "start = time.time()\n",
        "if len(times_e) == 0:\n",
        "    framelist_e.append(cold.copy())\n",
        "    times_e.append(0)\n",
        "for i in range(timesteps): # [0,1,...,timesteps-1]\n",
        "    if i%writefreq == 0 and i != 0:\n",
        "        framelist_e.append(cold.copy())\n",
        "        times_e.append(t)\n",
        "    explEuler1Ord(cold, cnew)\n",
        "    bcs(cnew)\n",
        "    cold, cnew = cnew, cold\n",
        "    t = t + deltat_explicit\n",
        "framelist_e.append(cold.copy())\n",
        "times_e.append(t)\n",
        "end = time.time()\n",
        "print(\"Laufzeit: %f Sekunden\" % (end-start))\n",
        "if gridpoints == 100:\n",
        "    jitted = hasattr(explEuler1Ord, \"compile\")\n",
        "    if jitted:\n",
        "        runtime_expl_jit[deltat_explicit].append(end-start)\n",
        "    else:\n",
        "        runtime_expl[deltat_explicit].append(end-start)"
      ]
    },
    {
      "cell_type": "code",
      "execution_count": null,
      "metadata": {},
      "outputs": [],
      "source": []
    },
    {
      "cell_type": "code",
      "execution_count": null,
      "metadata": {},
      "outputs": [],
      "source": [
        "fig_e, ax_e = plt.subplots()\n",
        "for i in range(len(framelist_e)):\n",
        "    ax_e.plot(framelist_e[i], label=\"%.1f\" % (times_e[i]))\n",
        "    \n",
        "ax_e.set_xlabel(\"Gitterposition / -\")\n",
        "ax_e.set_ylabel(\"Konzentration / -\")\n",
        "\n",
        "ax_e.legend(ncol=2,title=\"Simulationszeit\")\n",
        "ax_e.set_title(\"Expliziter Euler, $\\mathrm{\\Delta t}$=%.3g\" % (deltat_explicit))\n",
        "fig_e.tight_layout()\n",
        "if gridpoints == 50:\n",
        "    fig_e.savefig(\"konzentration_dt%2g.pdf\" % (deltat_explicit)) \n",
        "# Mit Hilfe von fig_e.savefig wird die Ausgabe als PDF-Datei im Notebookordner gespeichert.\n",
        "# Damit k\u00f6nnen Sie bequem die Ergebnisse unterschiedlicher Zeitschrittweiten vergleichen, die \u00fcber die\n",
        "# Zahl am Ende identifiziert werden."
      ]
    },
    {
      "cell_type": "markdown",
      "metadata": {},
      "source": [
        "<h3>2 d) Implizites Eulerverfahren</h3>"
      ]
    },
    {
      "cell_type": "markdown",
      "metadata": {},
      "source": [
        "Implementieren Sie nun das implizite Eulerverfahren. Es gilt:\n",
        "\n",
        "$$ \\frac{c^{n+1}_{i} - c^{n}_{i}}{\\Delta t} = D \\frac{c_{i+1}^{n+1} - 2c_{i}^{n+1} + c_{i-1}^{n+1}}{\\Delta x^2}$$\n",
        "\n",
        "Bestimmen Sie zun\u00e4chst die Matrix $A$ in\n",
        "\n",
        "$$ A \\vec{c}^{n+1} = \\vec{c}^{n}  $$\n",
        "\n",
        "wobei die Vektoren $\\vec{c}$ das eindimensionale Konzentrationsfeld zu den Zeitschritten $n$ und $n+1$ darstellen. Sie k\u00f6nnen die Struktur der Matrix $A$ aus einem Beispiel mit 3 Feldpunkten (inklusive R\u00e4ndern) bestimmen.\n"
      ]
    },
    {
      "cell_type": "code",
      "execution_count": null,
      "metadata": {},
      "outputs": [],
      "source": [
        "# Zeitschrittweite und charakteristische Zahl des Problems f\u00fcr das implizite Verfahren\n",
        "deltat_implicit = 0.5 \n",
        "#deltat_implicit = dtis[0] # F\u00fcr Aufgabe 2f) bietet sich das Setzen des Zeitschritts hiermit an.\n",
        "alpha = D*deltat_implicit / (deltax**2)"
      ]
    },
    {
      "cell_type": "code",
      "execution_count": null,
      "metadata": {},
      "outputs": [],
      "source": [
        "# Berechnung der inneren Zellen\n",
        "A = np.zeros([gridpoints, gridpoints])\n",
        "for i in range(1,gridpoints-1):\n",
        "    A[i, i] = \n",
        "    A[i, i - 1] = \n",
        "    A[i, i + 1] = \n",
        "# Fixe Dirichlet-Randbedingungen werden direkt in der Matrix abgebildet\n",
        "A[0,0]=1\n",
        "A[-1, -1]=1"
      ]
    },
    {
      "cell_type": "markdown",
      "metadata": {},
      "source": [
        "Wie berechnet sich nun der neue Zeitschritt?"
      ]
    },
    {
      "cell_type": "code",
      "execution_count": null,
      "metadata": {},
      "outputs": [],
      "source": [
        "Ainv=np.linalg.inv(A)\n",
        "# Zeitintegration mit dem implizitem Eulerverfahren\n",
        "# Die L\u00f6sung x eines linearen Gleichungssystem Ax=b l\u00e4sst sich mit np.linalg.solve(A, b) bestimmen.\n",
        "# Alternativ l\u00e4sst sich die Inverse in diesem Fall vor der Funktion berechnen mit Ainv=np.linalg.inv(A)\n",
        "# und der neue Zeitschritt \u00fcber Matrixmultiplikation (np.matmul(Matrix, Vektor)) bestimmen.\n",
        "#@jit\n",
        "def implEuler2Ord(cold, cnew):\n"
      ]
    },
    {
      "cell_type": "markdown",
      "metadata": {},
      "source": [
        "<h3> 2 e) Simulation und Analyse </h3>"
      ]
    },
    {
      "cell_type": "markdown",
      "metadata": {},
      "source": [
        "L\u00f6sen sie nun die Gleichung numerisch f\u00fcr eine Zeitschrittweite von $\\Delta t=0.5$. Unterscheidet sich die L\u00f6sung von der des expliziten Verfahrens mit selber Zeitschrittweite? Wie verh\u00e4lt sich die L\u00f6sung bei gr\u00f6\u00dferen Zeitschrittweiten? Vergleichen und erkl\u00e4ren Sie die Unterschiede zum expliziten Verfahren bei $\\Delta t > 0.5$.\n",
        "\n",
        "\n"
      ]
    },
    {
      "cell_type": "code",
      "execution_count": null,
      "metadata": {},
      "outputs": [],
      "source": [
        "#Initialisieren der Felder\n",
        "cold = np.zeros(gridpoints)\n",
        "cnew = np.zeros_like(cold)\n",
        "#ini(cold)\n",
        "ini(cold)\n",
        "bcs(cold) # die Randbedingungen m\u00fcssen initial auf das Feld aufgepr\u00e4gt werden\n",
        "framelist_i=[]\n",
        "times_i=[]\n",
        "t=0"
      ]
    },
    {
      "cell_type": "code",
      "execution_count": null,
      "metadata": {},
      "outputs": [],
      "source": [
        "#Simulation\n",
        "goaltime=0.7*gridpoints**2\n",
        "timesteps=int(goaltime/deltat_implicit)\n",
        "print(\"Zielzeit ist %lf\" % (goaltime))\n",
        "writefreq=int(timesteps/5)\n",
        "\n",
        "start=time.time()\n",
        "for i in range(timesteps+1):\n",
        "    if i%writefreq == 0:\n",
        "        framelist_i.append(cold.copy())\n",
        "        times_i.append(t)\n",
        "    implEuler2Ord(cold, cnew)\n",
        "    cold, cnew = cnew, cold\n",
        "    t = t + deltat_implicit\n",
        "framelist_e.append(cold.copy())\n",
        "times_e.append(t)\n",
        "end = time.time()\n",
        "print(\"Laufzeit: %f Sekunden\" % (end-start))\n",
        "if gridpoints == 100:\n",
        "    runtime_impl[deltat_implicit].append(end-start)"
      ]
    },
    {
      "cell_type": "code",
      "execution_count": null,
      "metadata": {},
      "outputs": [],
      "source": [
        "deltat_implicit"
      ]
    },
    {
      "cell_type": "code",
      "execution_count": null,
      "metadata": {},
      "outputs": [],
      "source": [
        "fig_i, ax_i = plt.subplots()\n",
        "for i in range(len(framelist_i)):\n",
        "    ax_i.plot(framelist_i[i], label=\"%.1f\" % (times_i[i]))\n",
        "\n",
        "ax_i.set_xlabel(\"Gitterposition / -\")\n",
        "ax_i.set_ylabel(\"Konzentration / -\")\n",
        "ax_i.legend(ncol=2,title=\"Simulationszeit\")\n",
        "ax_i.set_title(\"Impliziter Euler, $\\mathrm{\\Delta t}$=%.3g\" % (deltat_implicit))\n",
        "fig_i.tight_layout()\n",
        "if gridpoints == 50:\n",
        "    fig_i.savefig(\"konzentration-implizit_dt%2g.pdf\" % (deltat_implicit) )"
      ]
    },
    {
      "cell_type": "markdown",
      "metadata": {},
      "source": [
        "<h3> 2 f) Vergleich der Verfahren </h3>"
      ]
    },
    {
      "cell_type": "markdown",
      "metadata": {},
      "source": [
        "Es soll die Laufzeit der Verfahren f\u00fcr unterschiedliche sinnvolle Zeitschrittweiten verglichen werden. Erh\u00f6hen Sie daf\u00fcr zuerst die Zahl der Gitterpunkte (`gridpoints`) auf 100. F\u00fcr das explizite Verfahren soll die Zeitschrittweite $\\Delta t = 0.5$ verwendet werden, w\u00e4hrend f\u00fcr das implizite Verfahren die Zeitschrittweiten $\\Delta t \\in  \\{0.5, 10, 100\\}$ (`deltat_implicit`) verwendet werden sollen.\n",
        "\n",
        "Wie beeinflusst der @jit-Dekorator die Laufzeit der Verfahren? Entfernen Sie hierzu die '#' an den entsprechenden Funktionsdefinition vor dem @jit und f\u00fchren Sie die Simulationen erneut aus.\n",
        "\n",
        "Diskutieren Sie die Vor- und Nachteile der Verfahren. Was fehlt in einer Betrachtung, die nur die Laufzeit beachtet?\n",
        "\n",
        "Die Laufzeiten werden mit `gridpoints = 100` automatisch in den Variablen `runtime_expl, runtime_expl_jit` und `runtime_impl` abgespeichert, wo diese \u00fcber den verwendeten Zeitschritt zug\u00e4nglich sind, wie in der Zelle hierunter gezeigt.\n",
        "\n",
        "\n",
        "\n",
        "\n"
      ]
    },
    {
      "cell_type": "code",
      "execution_count": null,
      "metadata": {},
      "outputs": [],
      "source": [
        "names = [\"Expl. Euler\", \"Expl. Euler + JIT\"]\n",
        "[names.append(x) for x in [\"Impl. Euler $\\Delta t=%.3g$\" % (k)  for k in runtime_impl.keys()]]\n",
        "dats = [np.average(runtime_expl[0.5]), np.average(runtime_expl_jit[0.5])]\n",
        "[dats.append(np.average(x)) for x in runtime_impl.values()]\n",
        "\n",
        "fig, ax = plt.subplots()\n",
        "xx = np.arange(len(names))\n",
        "ax.bar(xx, dats)\n",
        "ax.set_xticks(xx)\n",
        "ax.set_xticklabels(names, rotation=-45)\n",
        "ax.set_ylabel(\"Durchschnittl. Laufzeit / s\")\n",
        "fig.tight_layout()\n"
      ]
    },
    {
      "cell_type": "code",
      "execution_count": null,
      "metadata": {},
      "outputs": [],
      "source": [
        "## Alternative Betrachtungsweise mit Histogrammen, dank unterschiedlichen Skalen aber z.T. schwer lesbar.\n",
        "fig, ax = plt.subplots()\n",
        "ax.hist(runtime_expl[0.5], label=\"Expl. Euler\")\n",
        "print(\"Expl. Euler ohne JIT: %.3g\" % (np.average(runtime_expl[0.5])))\n",
        "ax.hist(runtime_expl_jit[0.5], label=\"Expl. Euler, JIT\")\n",
        "print(\"Expl. Euler mit JIT: %.3g\" % (np.average(runtime_expl_jit[0.5])))\n",
        "for k, v in runtime_impl.items():\n",
        "    ax.hist(v, label = \"Impl. Euler, $\\Delta t=%.3g$\" % (k))\n",
        "    print(r\"Impl. Euler $\\Delta t=%.3g$: %.3g\" % ( k, np.average(runtime_impl[k])))\n",
        "ax.set_xlabel(\"Laufzeit / s\")\n",
        "ax.set_ylabel(\"Beobachtungen / -\")\n",
        "ax.legend()\n",
        "fig.tight_layout()"
      ]
    },
    {
      "cell_type": "code",
      "execution_count": null,
      "metadata": {},
      "outputs": [],
      "source": []
    }
  ],
  "metadata": {
    "kernelspec": {
      "display_name": "Python 3",
      "language": "python",
      "name": "python3"
    },
    "language_info": {
      "codemirror_mode": {
        "name": "ipython",
        "version": 3
      },
      "file_extension": ".py",
      "mimetype": "text/x-python",
      "name": "python",
      "nbconvert_exporter": "python",
      "pygments_lexer": "ipython3",
      "version": "3.7.3"
    }
  },
  "nbformat": 4,
  "nbformat_minor": 2
}