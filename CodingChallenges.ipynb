{
 "cells": [
  {
   "cell_type": "markdown",
   "metadata": {},
   "source": [
    "# Coding Challenges for I2RF\n",
    "This Jupyter Notebook has eight coding challenges for Python. \n",
    "Note: Feel free to search the web as much as you want but first try it on your own.\n",
    "\n",
    "---"
   ]
  },
  {
   "cell_type": "markdown",
   "metadata": {},
   "source": [
    "## Challenge One - Inputs and Outputs\n",
    "Write a script which can do the following:\n",
    "1. Say Hello to the user\n",
    "2. Ask for the user's name\n",
    "3. Greet the user by their name (use an f-string for this)\n",
    "\n",
    "This will give you can idea of handling prints, inputs and f-strings. <br>\n",
    "If you want an extra challenge, you can additionally ask for the user's birthday and calculate the numbers of days until their next birthday. "
   ]
  },
  {
   "cell_type": "code",
   "execution_count": null,
   "metadata": {},
   "outputs": [],
   "source": [
    "if __name__ == \"__main__\":\n",
    "    <YOUR CODE HERE>"
   ]
  },
  {
   "cell_type": "markdown",
   "metadata": {},
   "source": [
    "---\n",
    "## Challenge Two - Calculator\n",
    "Write a simple calculator. \n",
    "It should ask for a number, an mathematical operation (+, -, *, /) and a second number. \n",
    "\n",
    "**Do not use the eval() function of Python. This function evaluates any code. It should be avoided at all cost!**\n",
    "\n",
    "Also account for the case the the input is not a number or the operation is not possible!"
   ]
  },
  {
   "cell_type": "code",
   "execution_count": null,
   "metadata": {},
   "outputs": [],
   "source": [
    "if __name__ == \"__main__\":\n",
    "    <YOUR CODE HERE>"
   ]
  },
  {
   "cell_type": "markdown",
   "metadata": {},
   "source": [
    "---\n",
    "## Challenge Three - Star Pyramid\n",
    "Create a function which can print a star pyramid:\n",
    "\n",
    "```\n",
    "            *               \n",
    "        *   *   *           \n",
    "    *   *   *   *   *       \n",
    "*   *   *   *   *   *   *   \n",
    "```\n",
    "The function should only require the number of levels which it should print."
   ]
  },
  {
   "cell_type": "code",
   "execution_count": null,
   "metadata": {},
   "outputs": [],
   "source": [
    "def createPyramid(levels)->None:\n",
    "    <YOUR CODE HERE>\n",
    "\n",
    "if __name__ == \"__main__\":\n",
    "    createPyramid(10)"
   ]
  },
  {
   "cell_type": "markdown",
   "metadata": {},
   "source": [
    "---\n",
    "## Challenge Four - Fibonacci Sequence\n",
    "Write a code which can calculate the [Fibonacci Sequence](https://en.wikipedia.org/wiki/Fibonacci_sequence). \n",
    "Input the number sequence elements $n$. Print out the full sequence.\n",
    "\n",
    "As an advanced challenge you can also plot the Fibonacci Spiral. "
   ]
  },
  {
   "cell_type": "code",
   "execution_count": null,
   "metadata": {},
   "outputs": [],
   "source": [
    "def fibonacci(n)->None:\n",
    "    <YOUR CODE HERE>\n",
    "\n",
    "if __name__ == \"__main__\":\n",
    "    fibonacci(100)"
   ]
  },
  {
   "cell_type": "markdown",
   "metadata": {},
   "source": [
    "--- \n",
    "## Challenge Five - Prime Numbers\n",
    "Write a function which can check whether a number $x$ is a prime number or not. <br>\n",
    "Try to come up with an efficient algorithm. <br>\n",
    "If you are using this Jupyter Notebook in VS Code, you can check in the bottom left corner of a code block how fast you program is. "
   ]
  },
  {
   "cell_type": "code",
   "execution_count": null,
   "metadata": {},
   "outputs": [],
   "source": [
    "def isPrime(x)->bool:\n",
    "    <YOUR CODE HERE>\n",
    "\n",
    "if __name__ == \"__main__\":\n",
    "    print(isPrime(1337))"
   ]
  },
  {
   "cell_type": "markdown",
   "metadata": {},
   "source": [
    "---\n",
    "## Challenge Six - Reading Data from a file\n",
    "Download the provided `CodingChallenge_6.txt` file from ILIAS. Find a way to read in its values and plot them in a scatter plot.<br>\n",
    "\n",
    "1. Create a function `readFile` which takes a `filePath` and read the data. Return the data in a data format of your choice.\n",
    "2. Create a function `createPlot` which takes your data and creates a scatter plot. "
   ]
  },
  {
   "cell_type": "code",
   "execution_count": null,
   "metadata": {},
   "outputs": [],
   "source": [
    "def readFile(filePath:str):\n",
    "    <YOUR CODE HERE>\n",
    "\n",
    "def createPlot(data):\n",
    "    <YOUR CODE HERE>\n",
    "\n",
    "if __name__ == \"__main__\":\n",
    "    data = readFile(\"path/to/your/file\")\n",
    "    createPlot(data)"
   ]
  },
  {
   "cell_type": "markdown",
   "metadata": {},
   "source": [
    "--- \n",
    "## Challenge Seven - I2RF Progress Tracker\n",
    "Write a program which can track your I2RF Report progress. <br>\n",
    "The program should be object oriented around a class `Tracker`.\n",
    "The class should have this functions:\n",
    "- Check the status of all reports (n/a, open, coding, submitted, passed, rework needed)\n",
    "- Change the status of a report\n",
    "- The ability to take notes on reports\n",
    "- The ability to take general notes\n",
    "- Additional functions of your choice\n",
    "\n",
    "The current state should be save in a database. This can simply be a json file or a more complex sqlite database. \n",
    "If you run the program, it must restore the state from the database. \n",
    "\n",
    "In order to interact with the program it should constantly wait for a user input and call the respective class function. \n",
    "Make sure to cover bad inputs. "
   ]
  },
  {
   "cell_type": "code",
   "execution_count": null,
   "metadata": {},
   "outputs": [],
   "source": [
    "class Tracker():\n",
    "    def __init__(self) -> None:\n",
    "        <YOUR CODE HERE>\n",
    "    \n",
    "    def waitForUserInput(self):\n",
    "        <YOUR CODE HERE>\n",
    "\n",
    "    def reportStatus(self, ...):\n",
    "        <YOUR CODE HERE>\n",
    "\n",
    "    # ...\n",
    "\n",
    "if __name__ == \"__main__\":\n",
    "    t = Tracker()\n",
    "    t.waitForUserInput()"
   ]
  },
  {
   "cell_type": "markdown",
   "metadata": {},
   "source": [
    "---\n",
    "## Challenge Eight - Git\n",
    "This day has no dedicated coding challenge. \n",
    "However, you can use it to learn something about Git. \n",
    "\n",
    "[Git](https://git-scm.com/) is a version control system. \n",
    "It is commonly used to track changes you made to your code. \n",
    "You may have heard about [GitHub](https://www.github.com) or the [KIT gitlab](https://gitlab.kit.edu/). \n",
    "Both of them are a version control service. \n",
    "\n",
    "You can use either of them to securely store your I2RF Code and to prevent data loss. \n",
    "There are multiple tutorials available online. Search for them and learn some Git if you want. \n",
    "\n",
    "---\n"
   ]
  }
 ],
 "metadata": {
  "kernelspec": {
   "display_name": "venv",
   "language": "python",
   "name": "python3"
  },
  "language_info": {
   "codemirror_mode": {
    "name": "ipython",
    "version": 3
   },
   "file_extension": ".py",
   "mimetype": "text/x-python",
   "name": "python",
   "nbconvert_exporter": "python",
   "pygments_lexer": "ipython3",
   "version": "3.11.9"
  }
 },
 "nbformat": 4,
 "nbformat_minor": 2
}
