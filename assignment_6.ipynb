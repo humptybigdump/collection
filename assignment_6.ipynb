{
 "cells": [
  {
   "cell_type": "markdown",
   "metadata": {
    "pycharm": {
     "name": "#%% md\n"
    }
   },
   "source": [
    "# Machine Vision 2024/25 - Assignment 6: Cross-Validation & SVM\n",
    "\n",
    "These exercises are made to become familiar with classification techniques of machine learning like support\n",
    "vector machines and cross-validation.\n",
    "\n",
    "Your task is to develop a method to classify images of smileys into the two categories, happy smileys and sad smileys.\n",
    "In the file smileys `res/images_train.npy` you will find a set of training images, while the corresponding labels are stored in `res/labels_train.npy`.\n",
    "\n",
    "The class label `+1` refers to happy smileys and `−1` to sad smileys."
   ]
  },
  {
   "cell_type": "code",
   "execution_count": 1,
   "metadata": {
    "pycharm": {
     "name": "#%%\n"
    }
   },
   "outputs": [],
   "source": [
    "import math\n",
    "import matplotlib.pyplot as plt\n",
    "import numpy as np\n",
    "from sklearn.metrics import confusion_matrix, ConfusionMatrixDisplay\n",
    "from sklearn.svm import SVC"
   ]
  },
  {
   "cell_type": "markdown",
   "metadata": {
    "pycharm": {
     "name": "#%% md\n"
    }
   },
   "source": [
    "#### Part 1: Cross-Validation\n",
    "\n",
    "##### Preparation"
   ]
  },
  {
   "cell_type": "code",
   "execution_count": 2,
   "metadata": {
    "pycharm": {
     "name": "#%%sio.loadmat(\"res\")\n"
    }
   },
   "outputs": [
    {
     "data": {
      "text/plain": [
       "Ellipsis"
      ]
     },
     "execution_count": 2,
     "metadata": {},
     "output_type": "execute_result"
    }
   ],
   "source": [
    "# @student: load the train/test images and labels\n",
    "X_train, y_train = ..., ...\n",
    "X_test, y_test = ..., ...\n",
    "\n",
    "# @student: Print the shape of the training and test set. How many training images are in the set, how many test images?\n",
    "...\n",
    "\n",
    "# @student: visualize one smiley and print its shape\n",
    "..."
   ]
  },
  {
   "cell_type": "markdown",
   "metadata": {
    "pycharm": {
     "name": "#%% md\n"
    }
   },
   "source": [
    "##### Input Feature Space\n",
    "\n",
    "In Machine Learning a common task is to engineer the feature space. In our case, the feature space is the full image.\n",
    "However, not every feature (pixel) may contribute equally while classifying. Therefore, by providing less, more important features, your classifier may return better results.\n",
    "Hence, your task is to find a feature space that is more suited than the whole picture.\n",
    "\n",
    "Hint: If you look at the face, which pixels are you looking at in order to classify if the face is happy or sad?\n",
    "\n",
    "<br></br>\n",
    "**IMPORTANT: Please finish the assignment first using the whole face, afterwards you may search for a more suited feature space**"
   ]
  },
  {
   "cell_type": "code",
   "execution_count": 3,
   "metadata": {
    "pycharm": {
     "name": "#%%\n"
    }
   },
   "outputs": [
    {
     "data": {
      "text/plain": [
       "Ellipsis"
      ]
     },
     "execution_count": 3,
     "metadata": {},
     "output_type": "execute_result"
    }
   ],
   "source": [
    "# IMPORTANT: Do not work on this task until you finished this assignment\n",
    "\n",
    "def transform_feature_space(*, X):\n",
    "    # @student: transform input feature space\n",
    "    ...\n",
    "\n",
    "    return X\n",
    "\n",
    "X_train = transform_feature_space(X=X_train)\n",
    "X_test = transform_feature_space(X=X_test)\n",
    "\n",
    "# @student: visualize one image in the transformed feature space and print its shape\n",
    "..."
   ]
  },
  {
   "cell_type": "markdown",
   "metadata": {
    "pycharm": {
     "name": "#%% md\n"
    }
   },
   "source": [
    "##### Input Data Permutation\n",
    "\n",
    "Depending on the machine learning algorithm/optimization the order in which the training samples are learned influences the result.\n",
    "Therefore, it is a good practice to randomly permutate the training data and its labels.\n",
    "\n",
    "However, you have to make sure to shuffle both data and labels in the same way."
   ]
  },
  {
   "cell_type": "code",
   "execution_count": 4,
   "metadata": {
    "pycharm": {
     "name": "#%%\n"
    }
   },
   "outputs": [],
   "source": [
    "def random_permutation(*, X, y) -> (np.ndarray, np.ndarray):\n",
    "    assert X.shape[0] == y.shape[0]\n",
    "\n",
    "    # @student: randomly permutate X, y in the same way\n",
    "    ...\n",
    "    return ..."
   ]
  },
  {
   "cell_type": "markdown",
   "metadata": {
    "pycharm": {
     "name": "#%% md\n"
    }
   },
   "source": [
    "##### K-Folds\n",
    "\n",
    "In order to use k-fold cross validation, the dataset has to be split into k folds."
   ]
  },
  {
   "cell_type": "code",
   "execution_count": 5,
   "metadata": {
    "pycharm": {
     "name": "#%%\n"
    }
   },
   "outputs": [],
   "source": [
    "def split_k_folds(*, X, y, k) -> (np.ndarray, np.ndarray):\n",
    "    assert X.shape[0] == y.shape[0], f\"X has a different amount of images than labels exist in y (X: {X.shape[0]}, y: {y.shape[0]})\"\n",
    "    assert (X.shape[0] / k).is_integer(), f\"The number of images is not evenly divisible by k (X: {X.shape[0]}, k: {k}, X/k = {X.shape[0]/k})\"\n",
    "\n",
    "    # @student: Split X, y in k even folds\n",
    "    X = ...\n",
    "    y = ...\n",
    "\n",
    "    # Hint: shapes should be: X = [k, num_images/k, u pixels, v pixels], y = [k, num_labels/k]\n",
    "    return X, y"
   ]
  },
  {
   "cell_type": "markdown",
   "metadata": {
    "pycharm": {
     "name": "#%% md\n"
    }
   },
   "source": [
    "Depending on the index `i` of the SVM, the train and validation split is determined."
   ]
  },
  {
   "cell_type": "code",
   "execution_count": 6,
   "metadata": {
    "pycharm": {
     "name": "#%%\n"
    }
   },
   "outputs": [],
   "source": [
    "def get_train_and_val_data_for_i(*, X, y, k, i) -> (np.ndarray, np.ndarray, np.ndarray, np.ndarray):\n",
    "    # @student get the train and validation data of the k-folds for the i-th SVM\n",
    "\n",
    "    ...\n",
    "\n",
    "    return X_train, y_train, X_val, y_val"
   ]
  },
  {
   "cell_type": "markdown",
   "metadata": {
    "pycharm": {
     "name": "#%% md\n"
    }
   },
   "source": [
    "##### Metrics\n",
    "\n",
    "In order to decide which SVM performs best, different metrics can be used.\n",
    "For this task we will use the F1-Score, which is the harmonic mean of precision and recall.\n",
    "\n",
    "<br></br>\n",
    "$P = \\frac{TP}{TP+FP}$\n",
    "<br></br>\n",
    "$R = \\frac{TP}{TP+FN}$\n",
    "<br></br>\n",
    "$F1 = 2\\frac{P*R}{P+R}$"
   ]
  },
  {
   "cell_type": "code",
   "execution_count": 7,
   "metadata": {
    "pycharm": {
     "name": "#%%\n"
    }
   },
   "outputs": [],
   "source": [
    "def calculate_f1_score(*, y, y_pred):\n",
    "    # @student: calculate f1-score\n",
    "    # hint: the function np.logical_and() may help you\n",
    "\n",
    "    TP = ...\n",
    "    FP = ...\n",
    "    FN = ...\n",
    "\n",
    "    # calculate P\n",
    "    if math.isclose(TP + FP, 0.0):\n",
    "        P = 0\n",
    "    else:\n",
    "        P = ...\n",
    "\n",
    "    # calculate R\n",
    "    if math.isclose(TP + FN, 0.0):\n",
    "        R = 0\n",
    "    else:\n",
    "        R = ...\n",
    "\n",
    "    # calculate F1-Score\n",
    "    if math.isclose(P + R, 0.0):\n",
    "        return 0\n",
    "\n",
    "    return ..."
   ]
  },
  {
   "cell_type": "markdown",
   "metadata": {
    "pycharm": {
     "name": "#%% md\n"
    }
   },
   "source": [
    "##### Input Feature Space\n",
    "\n",
    "The SVM input is a linear input. Therefore, two-dimensional images have to be transformed into a one dimensional list of pixels"
   ]
  },
  {
   "cell_type": "code",
   "execution_count": 8,
   "metadata": {
    "pycharm": {
     "name": "#%%\n"
    }
   },
   "outputs": [],
   "source": [
    "def flatten(*, X, y):\n",
    "    # @student: reshape the image into a one-dimensional array\n",
    "    return ..."
   ]
  },
  {
   "cell_type": "markdown",
   "metadata": {
    "pycharm": {
     "name": "#%% md\n"
    }
   },
   "source": [
    "##### K-Fold Cross Validation"
   ]
  },
  {
   "cell_type": "code",
   "execution_count": 9,
   "metadata": {
    "pycharm": {
     "name": "#%%\n"
    }
   },
   "outputs": [],
   "source": [
    "def k_fold_cross_validation(*, X, y, C, sigma, k=4):\n",
    "    assert X.shape[0] == y.shape[0]\n",
    "\n",
    "    X, y = random_permutation(X=X, y=y)\n",
    "    X_split, y_split = split_k_folds(X=X, y=y, k=k)\n",
    "\n",
    "    # Create k SVM's\n",
    "    svms = [SVC(C=C, gamma=sigma) for _ in range(k)]\n",
    "\n",
    "    # Accumulate F1-Score over k-folds\n",
    "    f1_acc = 0\n",
    "    # Train and validate on k-folds\n",
    "    for i in range(k):\n",
    "        X_train, y_train, X_val, y_val = get_train_and_val_data_for_i(X=X_split, y=y_split, k=k, i=i)\n",
    "\n",
    "        # Train and Evaluate\n",
    "        X_train, y_train = flatten(X=X_train, y=y_train)\n",
    "        X_val, y_val = flatten(X=X_val, y=y_val)\n",
    "        print(X_train.shape)\n",
    "        svms[i].fit(X_train, y_train)\n",
    "\n",
    "        y_pred = svms[i].predict(X_val)\n",
    "        f1_acc += calculate_f1_score(y=y_val, y_pred=y_pred)\n",
    "\n",
    "    # @student: return final f1 score\n",
    "    return ..."
   ]
  },
  {
   "cell_type": "markdown",
   "metadata": {
    "pycharm": {
     "name": "#%% md\n"
    }
   },
   "source": [
    "##### Execution\n",
    "\n",
    "An SVM using the RBF kernel has two different hyperparameters: `C` and `sigma`.\n",
    "You want to optimize these hyperparameters to obtain the highest F1-Score.\n",
    "\n",
    "To achieve this, different methods exist. You could perform a brute-force grid search, in which\n",
    "you train and evaluate an SVM with all possible combinations of C and sigma."
   ]
  },
  {
   "cell_type": "code",
   "execution_count": 10,
   "metadata": {
    "pycharm": {
     "name": "#%%\n"
    }
   },
   "outputs": [
    {
     "ename": "TypeError",
     "evalue": "object of type 'ellipsis' has no len()",
     "output_type": "error",
     "traceback": [
      "\u001b[0;31m---------------------------------------------------------------------------\u001b[0m",
      "\u001b[0;31mTypeError\u001b[0m                                 Traceback (most recent call last)",
      "Input \u001b[0;32mIn [10]\u001b[0m, in \u001b[0;36m<cell line: 7>\u001b[0;34m()\u001b[0m\n\u001b[1;32m      4\u001b[0m \u001b[38;5;66;03m# @student: create span over possible sigma values\u001b[39;00m\n\u001b[1;32m      5\u001b[0m sigma \u001b[38;5;241m=\u001b[39m \u001b[38;5;241m.\u001b[39m\u001b[38;5;241m.\u001b[39m\u001b[38;5;241m.\u001b[39m\n\u001b[0;32m----> 7\u001b[0m f1_kfolds \u001b[38;5;241m=\u001b[39m np\u001b[38;5;241m.\u001b[39mndarray(shape\u001b[38;5;241m=\u001b[39m[\u001b[38;5;28;43mlen\u001b[39;49m\u001b[43m(\u001b[49m\u001b[43mC\u001b[49m\u001b[43m)\u001b[49m, \u001b[38;5;28mlen\u001b[39m(sigma)])\n\u001b[1;32m      9\u001b[0m \u001b[38;5;66;03m# @student: Execute k-fold cross validation grid search and store f1-scores in f1_kfolds\u001b[39;00m\n\u001b[1;32m     10\u001b[0m \u001b[38;5;241m.\u001b[39m\u001b[38;5;241m.\u001b[39m\u001b[38;5;241m.\u001b[39m\n",
      "\u001b[0;31mTypeError\u001b[0m: object of type 'ellipsis' has no len()"
     ]
    }
   ],
   "source": [
    "# @student: create space over possible C values\n",
    "C = ...\n",
    "\n",
    "# @student: create span over possible sigma values\n",
    "sigma = ...\n",
    "\n",
    "f1_kfolds = np.ndarray(shape=[len(C), len(sigma)])\n",
    "\n",
    "# @student: Execute k-fold cross validation grid search and store f1-scores in f1_kfolds\n",
    "...\n",
    "\n",
    "# get index of the best f1-score\n",
    "best_parameters = np.unravel_index(np.argmax(f1_kfolds, axis=None), f1_kfolds.shape)\n",
    "best_f1 = np.max(f1_kfolds)\n",
    "best_c = C[best_parameters[0]]\n",
    "best_sigma = sigma[best_parameters[1]]\n",
    "print(f\"F1: {best_f1} with C = {best_c}, sigma = {best_sigma}\")"
   ]
  },
  {
   "cell_type": "markdown",
   "metadata": {
    "pycharm": {
     "name": "#%% md\n"
    }
   },
   "source": [
    "##### Final Training\n",
    "\n",
    "Using k-fold cross-validation we determined the optimal hyperparameters. Next, we want to train the SVM on the full training dataset and evaluate on the test dataset."
   ]
  },
  {
   "cell_type": "code",
   "execution_count": null,
   "metadata": {
    "pycharm": {
     "name": "#%%\n"
    }
   },
   "outputs": [],
   "source": [
    "# @student: train on the full train dataset using the optimal c and sigma\n",
    "..."
   ]
  },
  {
   "cell_type": "markdown",
   "metadata": {
    "pycharm": {
     "name": "#%% md\n"
    }
   },
   "source": [
    "##### Evaluation"
   ]
  },
  {
   "cell_type": "code",
   "execution_count": null,
   "metadata": {
    "pycharm": {
     "name": "#%%\n"
    }
   },
   "outputs": [],
   "source": [
    "# @student: calculate the F1-score on the full test dataset\n",
    "..."
   ]
  },
  {
   "cell_type": "markdown",
   "metadata": {
    "pycharm": {
     "name": "#%% md\n"
    }
   },
   "source": [
    "To gain a detailed understanding of the prediction, we will use a confusion matrix."
   ]
  },
  {
   "cell_type": "code",
   "execution_count": null,
   "metadata": {
    "pycharm": {
     "name": "#%%\n"
    }
   },
   "outputs": [],
   "source": [
    "def calculate_confusion_matrix(*, y, y_pred) -> np.ndarray:\n",
    "    # @student: calculate the confusion matrix\n",
    "    # hint: the function np.logical_and() may help you\n",
    "\n",
    "    PP = ...\n",
    "    NP = ...\n",
    "    PN = ...\n",
    "    NN = ...\n",
    "\n",
    "    return np.array([[PP, PN], [NP, NN]])\n",
    "\n",
    "\n",
    "cm = calculate_confusion_matrix(y=y_test, y_pred=y_pred)\n",
    "disp = ConfusionMatrixDisplay(cm, display_labels=[\"1\", \"-1\"])\n",
    "disp.plot()\n",
    "plt.show()"
   ]
  },
  {
   "cell_type": "code",
   "execution_count": null,
   "metadata": {
    "pycharm": {
     "name": "#%%\n"
    }
   },
   "outputs": [],
   "source": []
  }
 ],
 "metadata": {
  "kernelspec": {
   "display_name": "Python 3 (ipykernel)",
   "language": "python",
   "name": "python3"
  },
  "language_info": {
   "codemirror_mode": {
    "name": "ipython",
    "version": 3
   },
   "file_extension": ".py",
   "mimetype": "text/x-python",
   "name": "python",
   "nbconvert_exporter": "python",
   "pygments_lexer": "ipython3",
   "version": "3.10.4"
  }
 },
 "nbformat": 4,
 "nbformat_minor": 1
}
