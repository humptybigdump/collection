{
 "cells": [
  {
   "attachments": {},
   "cell_type": "markdown",
   "metadata": {},
   "source": [
    "## Conda Installation "
   ]
  },
  {
   "attachments": {},
   "cell_type": "markdown",
   "metadata": {},
   "source": [
    " Anaconda is recommended to manage the various toolkits in Python. \n",
    " 1. First of all, you can download it from the website https://www.anaconda.com/products/individual and choose the version that corresponds to the computer system you are currently using. \n",
    " 2. Once downloaded, you need to add the path where Anaconda is stored to the global variable"
   ]
  },
  {
   "attachments": {},
   "cell_type": "markdown",
   "metadata": {},
   "source": [
    "Create a virtual env named torch with python 3.8\n",
    "\n",
    "`conda create --name gnn python=3.8 -y`"
   ]
  },
  {
   "attachments": {},
   "cell_type": "markdown",
   "metadata": {},
   "source": [
    "activate the created enviorment \n",
    "\n",
    "`conda activate gnn`"
   ]
  },
  {
   "attachments": {},
   "cell_type": "markdown",
   "metadata": {},
   "source": [
    "Installation of necessary toolkits, in terminal paste them, in notebook use !pip or ##bash\n",
    "\n",
    "`pip install torch torchvision`\n",
    "\n",
    "`pip install matplotlib`"
   ]
  },
  {
   "attachments": {},
   "cell_type": "markdown",
   "metadata": {},
   "source": [
    "Next, you need to add conda enviorment in your notebook to finish following tasks.\n",
    "`conda install -c anaconda ipykernel`\n",
    "\n",
    "`python -m ipykernel install --user --name=gnn`"
   ]
  },
  {
   "attachments": {},
   "cell_type": "markdown",
   "metadata": {},
   "source": [
    "`jupyter notebook` #conda notebook, find your enviorment under \"kernel\""
   ]
  },
  {
   "attachments": {},
   "cell_type": "markdown",
   "metadata": {},
   "source": [
    "# Deep Learning - Basic "
   ]
  },
  {
   "attachments": {},
   "cell_type": "markdown",
   "metadata": {},
   "source": [
    "Jupyter Notebook Installation please refer to https://www.jianshu.com/p/91365f343585 "
   ]
  },
  {
   "cell_type": "code",
   "execution_count": 1,
   "metadata": {
    "pycharm": {
     "is_executing": true
    }
   },
   "outputs": [],
   "source": [
    "# install pytorch, torchvision, matplotlib\n",
    "import torch\n",
    "from torch import nn\n",
    "import torch.nn.functional as F "
   ]
  },
  {
   "attachments": {},
   "cell_type": "markdown",
   "metadata": {},
   "source": [
    "## 0. PyTorch Basic\n",
    "PyTorch is the mose welcome DL framework in acedemic community. Comparing with Tensorflow, PyTorch is based on dynamic computation graph, implying that it rebuilds a new computational when forward computation is performed. So your code behaves more pythonic. "
   ]
  },
  {
   "attachments": {},
   "cell_type": "markdown",
   "metadata": {},
   "source": [
    "### 0.1 Tensor Class\n",
    "Similar to numpy.array, the core class in Pytorch is Tensor. It is defined to be a multi-dimensional class, representating one- and high-dimensional matrix in machine learning computing. "
   ]
  },
  {
   "cell_type": "code",
   "execution_count": 2,
   "metadata": {},
   "outputs": [
    {
     "name": "stdout",
     "output_type": "stream",
     "text": [
      "tensor([[-0.1190, -0.2415, -0.3293],\n",
      "        [ 2.4542,  0.8481, -2.7512]])\n",
      "tensor([[1., 1., 1.],\n",
      "        [1., 1., 1.]])\n",
      "tensor([[ 0.8810,  0.7585,  0.6707],\n",
      "        [ 3.4542,  1.8481, -1.7512]])\n"
     ]
    }
   ],
   "source": [
    "# random tensor with special is used to initialize the neural network \n",
    "a = torch.randn((2, 3))\n",
    "print(a)\n",
    "b = torch.ones((2, 3))\n",
    "print(b)\n",
    "print(a + b)"
   ]
  },
  {
   "cell_type": "code",
   "execution_count": 3,
   "metadata": {},
   "outputs": [
    {
     "name": "stdout",
     "output_type": "stream",
     "text": [
      "tensor([[1., 1.],\n",
      "        [1., 1.],\n",
      "        [1., 1.]])\n",
      "tensor([[-0.6897, -0.6897],\n",
      "        [ 0.5512,  0.5512]])\n"
     ]
    }
   ],
   "source": [
    "a.add(b)\n",
    "c = torch.ones((3, 2))\n",
    "print(c)\n",
    "print(a.mm(c))  "
   ]
  },
  {
   "cell_type": "code",
   "execution_count": 4,
   "metadata": {
    "scrolled": true
   },
   "outputs": [
    {
     "data": {
      "text/plain": [
       "tensor([[-0.1190, -0.2415, -0.3293],\n",
       "        [ 2.4542,  0.8481, -2.7512]])"
      ]
     },
     "execution_count": 4,
     "metadata": {},
     "output_type": "execute_result"
    }
   ],
   "source": [
    "a.to('cpu') # configurate the device; default cpu \n",
    "# a.to('cuda') \n",
    "# a.cuda(device:int)"
   ]
  },
  {
   "attachments": {},
   "cell_type": "markdown",
   "metadata": {},
   "source": [
    "### 0.2 PyTorch Backpropagation"
   ]
  },
  {
   "attachments": {},
   "cell_type": "markdown",
   "metadata": {},
   "source": [
    "#### 0.2.1 Autograd"
   ]
  },
  {
   "cell_type": "code",
   "execution_count": 5,
   "metadata": {},
   "outputs": [
    {
     "data": {
      "text/plain": [
       "tensor([[1., 1.],\n",
       "        [1., 1.]], requires_grad=True)"
      ]
     },
     "execution_count": 5,
     "metadata": {},
     "output_type": "execute_result"
    }
   ],
   "source": [
    "# we create a tensor, where its gradient w.r.t. loss is required，记为a_（和前面的a区别开）\n",
    "a_ = torch.ones((2,2), requires_grad=True)\n",
    "a_"
   ]
  },
  {
   "cell_type": "code",
   "execution_count": 6,
   "metadata": {},
   "outputs": [
    {
     "data": {
      "text/plain": [
       "tensor([[2., 2.],\n",
       "        [2., 2.]], grad_fn=<AddBackward0>)"
      ]
     },
     "execution_count": 6,
     "metadata": {},
     "output_type": "execute_result"
    }
   ],
   "source": [
    "b_ = a_ + 1\n",
    "b_"
   ]
  },
  {
   "cell_type": "code",
   "execution_count": 7,
   "metadata": {},
   "outputs": [
    {
     "data": {
      "text/plain": [
       "tensor(8., grad_fn=<SumBackward0>)"
      ]
     },
     "execution_count": 7,
     "metadata": {},
     "output_type": "execute_result"
    }
   ],
   "source": [
    "# create a form of loss, so we can calculate the gradient, for example sum_\n",
    "sum_ = b_.sum()\n",
    "sum_"
   ]
  },
  {
   "cell_type": "code",
   "execution_count": 8,
   "metadata": {},
   "outputs": [],
   "source": [
    "sum_.backward()"
   ]
  },
  {
   "cell_type": "code",
   "execution_count": 9,
   "metadata": {},
   "outputs": [
    {
     "data": {
      "text/plain": [
       "tensor([[1., 1.],\n",
       "        [1., 1.]])"
      ]
     },
     "execution_count": 9,
     "metadata": {},
     "output_type": "execute_result"
    }
   ],
   "source": [
    "# A1 for Q1.\n",
    "a_.grad\n",
    "# Q2 what is value of backward() now and why?"
   ]
  },
  {
   "attachments": {},
   "cell_type": "markdown",
   "metadata": {},
   "source": [
    "### 0.2.2 PyTorch Optimizer\n",
    "With given gradient to each weight and bias in the neural network, you can update them to achieve better performance. There are several optimizers available in Pytorch https://pytorch.org/docs/stable/optim.html. Two widely accepted optimizers are Adam and RMSProp. Choosing an optimizer as well as a hyperparameter depends on the distribution of the data and model as well as the engineer's experience. Fortunately, there are some general rules and basic theory can help you to build a successful model faster, but beyond the scope of this course. Refer to https://www.coursera.org/learn/deep-neural-network?skipBrowseRedirect=true"
   ]
  },
  {
   "cell_type": "code",
   "execution_count": 10,
   "metadata": {},
   "outputs": [],
   "source": [
    "param = nn.Parameter(torch.ones(2,2))\n",
    "optimizer0 = torch.optim.SGD([param], lr=0.1)"
   ]
  },
  {
   "cell_type": "code",
   "execution_count": 11,
   "metadata": {},
   "outputs": [],
   "source": [
    "# random defined loss \n",
    "loss0 = (param**2).sum()"
   ]
  },
  {
   "cell_type": "code",
   "execution_count": 12,
   "metadata": {},
   "outputs": [
    {
     "name": "stdout",
     "output_type": "stream",
     "text": [
      "Parameter containing:\n",
      "tensor([[0.8000, 0.8000],\n",
      "        [0.8000, 0.8000]], requires_grad=True)\n"
     ]
    }
   ],
   "source": [
    "# before performing backward for the network please clear the gradient using zero_grad()\n",
    "optimizer0.zero_grad() \n",
    "loss0.backward()\n",
    "optimizer0.step()\n",
    "print(param)"
   ]
  },
  {
   "cell_type": "code",
   "execution_count": 13,
   "metadata": {},
   "outputs": [
    {
     "name": "stdout",
     "output_type": "stream",
     "text": [
      "loss value: 2.56\n",
      "loss value: 1.64\n",
      "loss value: 1.05\n",
      "loss value: 0.67\n",
      "loss value: 0.43\n",
      "loss value: 0.27\n",
      "loss value: 0.18\n",
      "loss value: 0.11\n",
      "loss value: 0.07\n",
      "loss value: 0.05\n",
      "loss value: 0.03\n",
      "loss value: 0.02\n",
      "loss value: 0.01\n",
      "loss value: 0.01\n",
      "loss value: 0.00\n",
      "loss value: 0.00\n",
      "loss value: 0.00\n",
      "loss value: 0.00\n",
      "loss value: 0.00\n",
      "loss value: 0.00\n",
      "updated params： Parameter containing:\n",
      "tensor([[0.0092, 0.0092],\n",
      "        [0.0092, 0.0092]], requires_grad=True)\n"
     ]
    }
   ],
   "source": [
    "# E1: Please write a random loop and Q3 which factors is relevant to the convergence speed.\n",
    "for i in range(20):\n",
    "    optimizer0.zero_grad()\n",
    "    loss0 = (param**2).sum()\n",
    "    loss0.backward()\n",
    "    optimizer0.step()\n",
    "    print('loss value: {:.2f}'.format(loss0.item()))\n",
    "print('updated params：', param)"
   ]
  },
  {
   "attachments": {},
   "cell_type": "markdown",
   "metadata": {},
   "source": [
    "## 1. Probe Project CNN"
   ]
  },
  {
   "attachments": {},
   "cell_type": "markdown",
   "metadata": {},
   "source": [
    "MNIST is one of the oldest image datasets, containing 10 kinds of characters. Based on this dataset, you need to implement a classifier which character contained in each image. \n",
    "# Q4: what is your loss function, and metrics, why?"
   ]
  },
  {
   "attachments": {},
   "cell_type": "markdown",
   "metadata": {},
   "source": [
    "You dont need to download and preproces MNIST from scratch, it is available in torchvision. "
   ]
  },
  {
   "cell_type": "code",
   "execution_count": 14,
   "metadata": {},
   "outputs": [],
   "source": [
    "import matplotlib.pyplot as plt\n",
    "from torchvision import datasets, transforms\n",
    "\n",
    "data_train = datasets.MNIST('data', train=True, download=True, transform=transforms.ToTensor())\n",
    "data_test = datasets.MNIST('data', train=False, download=True, transform=transforms.ToTensor())"
   ]
  },
  {
   "cell_type": "code",
   "execution_count": 15,
   "metadata": {},
   "outputs": [
    {
     "data": {
      "text/plain": [
       "torch.Size([1, 28, 28])"
      ]
     },
     "execution_count": 15,
     "metadata": {},
     "output_type": "execute_result"
    }
   ],
   "source": [
    "img, label = data_train[0] \n",
    "img.size() "
   ]
  },
  {
   "cell_type": "code",
   "execution_count": 16,
   "metadata": {},
   "outputs": [
    {
     "data": {
      "image/png": "[encoded data removed]",
      "text/plain": [
       "<Figure size 1000x200 with 10 Axes>"
      ]
     },
     "metadata": {},
     "output_type": "display_data"
    }
   ],
   "source": [
    "# visualize first 10 samples \n",
    "plt.figure(figsize=(10, 2))\n",
    "for i in range(10):\n",
    "    img, label = data_train[i]\n",
    "    img = img.numpy().squeeze() # 用squeeze()函数将img的size从（1，28，28）变成（28，28），从而方便可视化\n",
    "    plt.subplot(1, 10, i+1)\n",
    "    plt.imshow(img)"
   ]
  },
  {
   "attachments": {},
   "cell_type": "markdown",
   "metadata": {},
   "source": [
    "### 2.1. Create your Neural Network using Matrix Operation."
   ]
  },
  {
   "attachments": {},
   "cell_type": "markdown",
   "metadata": {},
   "source": [
    "### 2.1.1 Matrix Operation helps you understand better"
   ]
  },
  {
   "attachments": {},
   "cell_type": "markdown",
   "metadata": {},
   "source": [
    "Your Warm-Up exercise is to implement a multilayer perceptron. \n",
    "```\n",
    "# PseudoCode\n",
    "class MLP:\n",
    "    def __init__(self):\n",
    "        self.layer1 = xxx\n",
    "        self.layer2 = xxx\n",
    "    \n",
    "    def forward(self, x): # x input \n",
    "        #  self.layer1\n",
    "        # nonlinear activation function \n",
    "        # self.layer2 \n",
    "        return something\n",
    "```"
   ]
  },
  {
   "attachments": {},
   "cell_type": "markdown",
   "metadata": {},
   "source": [
    "## Linear Layer \n",
    "$\\hat{y}= \\sigma (W*x+b)$ "
   ]
  },
  {
   "cell_type": "code",
   "execution_count": 17,
   "metadata": {},
   "outputs": [],
   "source": [
    "class Linear(nn.Module): # inherit torch.nn.Module\n",
    "    def __init__(self, in_features, out_features, ):\n",
    "        super(Linear, self).__init__() # super() # same as nn.Module.__init__(self)\n",
    "        self.weight = nn.Parameter(torch.randn(in_features, out_features)) \n",
    "        self.bias = nn.Parameter(torch.randn(out_features))\n",
    "        \n",
    "    def forward(self, x): # x: input \n",
    "        # Your code \n",
    "        x = x.mm(self.weight) \n",
    "        return x + self.bias"
   ]
  },
  {
   "attachments": {},
   "cell_type": "markdown",
   "metadata": {},
   "source": [
    "1. Inheriting `nn.Module`(`torch.nn.Module`) while building your linear layer brings you lots of rewards. You can use/reload `eval()`、`to()`as well as initializing function `super(Linear, self).__init__()`；\n",
    "1. Right initializing method will save your training process time to converge and yield slightly better performance. `torch.randn()`\n",
    "1. #Q5 should we use Softmax layer at the end?"
   ]
  },
  {
   "cell_type": "code",
   "execution_count": 18,
   "metadata": {},
   "outputs": [],
   "source": [
    "class MLP(nn.Module):\n",
    "    def __init__(self, in_features, hidden_features, out_features):\n",
    "        super(MLP, self).__init__()\n",
    "        # Your code\n",
    "        self.in_features = in_features\n",
    "        self.layer1 = Linear(in_features, hidden_features)  \n",
    "        self.layer2 = Linear(hidden_features, out_features)\n",
    "        \n",
    "    def forward(self,x):\n",
    "        # transform your input image into tensor\n",
    "        x = x.view(-1, self.in_features)\n",
    "        x = self.layer1(x)\n",
    "        x = F.relu(x)\n",
    "        return self.layer2(x)"
   ]
  },
  {
   "attachments": {},
   "cell_type": "markdown",
   "metadata": {},
   "source": [
    "### 2.1.2 Neural layer in Pytorch\n",
    "Next we will use the linear layer defined in PyTorch directly (`torch.nn.Linear`) instead of defining it manually."
   ]
  },
  {
   "attachments": {},
   "cell_type": "markdown",
   "metadata": {},
   "source": [
    "### 2.1.3 Foward propogation"
   ]
  },
  {
   "cell_type": "code",
   "execution_count": 35,
   "metadata": {},
   "outputs": [
    {
     "data": {
      "text/plain": [
       "torch.Size([784])"
      ]
     },
     "execution_count": 35,
     "metadata": {},
     "output_type": "execute_result"
    }
   ],
   "source": [
    "# Please implement forward propogation using one image\n",
    "img, label = data_train[0]\n",
    "img = img.view(-1)  # transform input into vector (1,28,28) --> (784,)\n",
    "feat_dim = len(img) \n",
    "num_classes = 10\n",
    "model = MLP(in_features=feat_dim, hidden_features=256, out_features=num_classes)\n",
    "img.shape"
   ]
  },
  {
   "cell_type": "code",
   "execution_count": 37,
   "metadata": {},
   "outputs": [
    {
     "data": {
      "text/plain": [
       "tensor(1.)"
      ]
     },
     "execution_count": 37,
     "metadata": {},
     "output_type": "execute_result"
    }
   ],
   "source": [
    "t = img.view(-1, 2)\n",
    "t[0][0] = 1\n",
    "img[0][0]"
   ]
  },
  {
   "cell_type": "code",
   "execution_count": 20,
   "metadata": {},
   "outputs": [
    {
     "data": {
      "text/plain": [
       "MLP(\n",
       "  (layer1): Linear()\n",
       "  (layer2): Linear()\n",
       ")"
      ]
     },
     "execution_count": 20,
     "metadata": {},
     "output_type": "execute_result"
    }
   ],
   "source": [
    "model"
   ]
  },
  {
   "cell_type": "code",
   "execution_count": 21,
   "metadata": {},
   "outputs": [],
   "source": [
    "# config the device of model\n",
    "device = 'cuda' if torch.cuda.is_available() else 'cpu'"
   ]
  },
  {
   "cell_type": "code",
   "execution_count": 22,
   "metadata": {},
   "outputs": [
    {
     "data": {
      "text/plain": [
       "'cpu'"
      ]
     },
     "execution_count": 22,
     "metadata": {},
     "output_type": "execute_result"
    }
   ],
   "source": [
    "device"
   ]
  },
  {
   "cell_type": "code",
   "execution_count": 23,
   "metadata": {},
   "outputs": [],
   "source": [
    "# data and model must configurated to be the same device\n",
    "model = model.to(device) \n",
    "img = img.to(device)  "
   ]
  },
  {
   "cell_type": "code",
   "execution_count": 24,
   "metadata": {},
   "outputs": [
    {
     "data": {
      "text/plain": [
       "tensor([[  24.8122,   33.4462,   -9.9727, -190.9121,  117.9582,   28.7875,\n",
       "           51.4292,   75.1379, -160.5095, -233.7135]], grad_fn=<AddBackward0>)"
      ]
     },
     "execution_count": 24,
     "metadata": {},
     "output_type": "execute_result"
    }
   ],
   "source": [
    "output = model(img)\n",
    "output"
   ]
  },
  {
   "attachments": {},
   "cell_type": "markdown",
   "metadata": {},
   "source": [
    "# Machine learning Classifier"
   ]
  },
  {
   "cell_type": "code",
   "execution_count": 25,
   "metadata": {},
   "outputs": [
    {
     "name": "stdout",
     "output_type": "stream",
     "text": [
      "Predicted: 4 ; Ground truth: 5\n"
     ]
    }
   ],
   "source": [
    "# We choose the class has maximized probability and compare with ground truth.\n",
    "predicted = output.argmax()\n",
    "print('Predicted:', predicted.item(), '; Ground truth:', label)"
   ]
  },
  {
   "attachments": {},
   "cell_type": "markdown",
   "metadata": {},
   "source": [
    "### 2.2 Train Loop\n",
    "The parameters in the model have not been optimised, so the predictions are often not optimal. Next we explain how to train a neural network. For Graph Neural Network the training loop is the same. \n",
    "```\n",
    "# PseudoCode\n",
    "def train():\n",
    "    for epoch in num_epochs:\n",
    "        # read input\n",
    "        # forward\n",
    "        # loss\n",
    "        # backward\n",
    "        # update\n",
    "```"
   ]
  },
  {
   "cell_type": "code",
   "execution_count": 26,
   "metadata": {},
   "outputs": [],
   "source": [
    "def train(model, data, num_epochs=5, learning_rate=1e-3, batch_size=32):\n",
    "    \n",
    "    optimizer = torch.optim.Adam(model.parameters(),\n",
    "                                 lr=learning_rate, \n",
    "                                 weight_decay=1e-5)    \n",
    "    \n",
    "    train_loader = torch.utils.data.DataLoader(data, \n",
    "                                               batch_size=batch_size, \n",
    "                                               shuffle=True)\n",
    "    \n",
    "    criterion = nn.CrossEntropyLoss()\n",
    "    \n",
    "    for epoch in range(num_epochs):\n",
    "        loss_total = 0 \n",
    "        for data in train_loader:\n",
    "            # remove gradient \n",
    "            optimizer.zero_grad()\n",
    "            \n",
    "            # config the device \n",
    "            img, label = data\n",
    "            img = img.to(device)\n",
    "            label = label.to(device)\n",
    "            \n",
    "            # prediction \n",
    "            output = model(img)\n",
    "\n",
    "            # check the device of img and output make sure they are on the same device, if not then img.to(DEVICE)\n",
    "            loss = criterion(output, label)\n",
    "            loss.backward()\n",
    "            \n",
    "            optimizer.step()\n",
    "        loss_total += loss.item()\n",
    "        print('Epoch: {}, Training Loss: {:.4f}'.format(epoch+1, loss_total))\n"
   ]
  },
  {
   "cell_type": "code",
   "execution_count": 27,
   "metadata": {},
   "outputs": [
    {
     "name": "stdout",
     "output_type": "stream",
     "text": [
      "Epoch: 1, Training Loss: 4.2714\n",
      "Epoch: 2, Training Loss: 4.1680\n",
      "Epoch: 3, Training Loss: 0.0010\n",
      "Epoch: 4, Training Loss: 0.3839\n",
      "Epoch: 5, Training Loss: 1.4862\n"
     ]
    }
   ],
   "source": [
    "train(model, data_train)"
   ]
  },
  {
   "cell_type": "code",
   "execution_count": 28,
   "metadata": {},
   "outputs": [],
   "source": [
    "@torch.no_grad() # During evaluation, parameters don't need to be updated, you can close autograd to save memory\n",
    "def test(model, data, batch_size=128):\n",
    "    num_correct = 0\n",
    "    num_total = 0 \n",
    "    \n",
    "    test_loader = torch.utils.data.DataLoader(data, \n",
    "                                              batch_size=batch_size, \n",
    "                                              shuffle=False)\n",
    "    for data in test_loader: \n",
    "        img, label = data\n",
    "        img = img.to(device)\n",
    "        label = label.to(device)\n",
    "        output = model(img)\n",
    "        predicted = output.argmax(1)\n",
    "        num_total += len(label)\n",
    "        num_correct += (predicted == label).sum()\n",
    "    print(' Acc : {:.2f}%'.format(num_correct / num_total))    "
   ]
  },
  {
   "cell_type": "code",
   "execution_count": 29,
   "metadata": {},
   "outputs": [
    {
     "name": "stdout",
     "output_type": "stream",
     "text": [
      " Acc : 0.97%\n",
      " Acc : 0.94%\n"
     ]
    }
   ],
   "source": [
    "test(model, data_train)\n",
    "test(model, data_test)"
   ]
  }
 ],
 "metadata": {
  "kernelspec": {
   "display_name": "gnn",
   "language": "python",
   "name": "python3"
  },
  "language_info": {
   "codemirror_mode": {
    "name": "ipython",
    "version": 3
   },
   "file_extension": ".py",
   "mimetype": "text/x-python",
   "name": "python",
   "nbconvert_exporter": "python",
   "pygments_lexer": "ipython3",
   "version": "3.8.16"
  },
  "vscode": {
   "interpreter": {
    "hash": "619993b1dd7dc5a8ffd0ce1e4939e3790e46a66a33a4b854e6e47a9bd061fee8"
   }
  }
 },
 "nbformat": 4,
 "nbformat_minor": 4
}
