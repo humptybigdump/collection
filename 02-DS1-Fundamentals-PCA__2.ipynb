{
 "cells": [
  {
   "cell_type": "markdown",
   "id": "4496c528",
   "metadata": {},
   "source": [
    "# Let's compute the PCA step by step"
   ]
  },
  {
   "cell_type": "markdown",
   "id": "eb902e65",
   "metadata": {},
   "source": [
    "Data preparation"
   ]
  },
  {
   "cell_type": "code",
   "execution_count": null,
   "id": "778ec3aa",
   "metadata": {},
   "outputs": [],
   "source": [
    "import seaborn as sns \n",
    "import numpy as np\n",
    "import pandas as pd\n",
    "\n",
    "iris = sns.load_dataset(\"iris\") # Load the iris data set\n",
    "\n",
    "labels = iris[\"species\"] # (save those labels for later)\n",
    "del iris[\"species\"] # delete the non-numerical column\n",
    "\n",
    "iris"
   ]
  },
  {
   "cell_type": "markdown",
   "id": "b665bd2d",
   "metadata": {},
   "source": [
    "### (1) Standardize"
   ]
  },
  {
   "cell_type": "code",
   "execution_count": null,
   "id": "3d619e76",
   "metadata": {},
   "outputs": [],
   "source": [
    "iris_s = iris\n",
    "for col in iris_s.columns:  # standardize\n",
    "    iris_s.loc[:,col] = (iris_s[col] - iris_s[col].mean()) / iris_s[col].std()"
   ]
  },
  {
   "cell_type": "markdown",
   "id": "84e069d6",
   "metadata": {},
   "source": [
    "### (2) Compute the principal components"
   ]
  },
  {
   "cell_type": "code",
   "execution_count": null,
   "id": "f9beeb39",
   "metadata": {},
   "outputs": [],
   "source": [
    "cov = np.dot(iris_s.T, iris_s)/iris.shape[0] # Compute the covariance matrix\n",
    "eig = np.linalg.eig(cov) # Compute the eigenvalues + eigenvectors\n",
    "eig # First array is the eigenvalues v1, v2, v3, v4. Second array is the matrix V"
   ]
  },
  {
   "cell_type": "code",
   "execution_count": null,
   "id": "45bbd4fb",
   "metadata": {},
   "outputs": [],
   "source": [
    "eig[0] # eigenvalues"
   ]
  },
  {
   "cell_type": "code",
   "execution_count": null,
   "id": "c4daadd5",
   "metadata": {},
   "outputs": [],
   "source": [
    "eig[1][:,0] # first eigenvector"
   ]
  },
  {
   "cell_type": "code",
   "execution_count": null,
   "id": "e10f762c",
   "metadata": {},
   "outputs": [],
   "source": [
    "eig[1][:,0:2] # Selecting the first two eigenvector"
   ]
  },
  {
   "cell_type": "code",
   "execution_count": null,
   "id": "a710713d",
   "metadata": {
    "scrolled": true
   },
   "outputs": [],
   "source": [
    "pd.DataFrame(data=np.dot(eig[1],eig[1].T)).round().abs()  # V*V^T is indeed the identity (just checking)"
   ]
  },
  {
   "cell_type": "markdown",
   "id": "1d30d589",
   "metadata": {},
   "source": [
    "### (3) Use the eigenvectors for change of basis of the data"
   ]
  },
  {
   "cell_type": "code",
   "execution_count": null,
   "id": "b49c9051",
   "metadata": {},
   "outputs": [],
   "source": [
    "pd.DataFrame(np.dot(iris_s, eig[1])) # Transform with all eigenvectors"
   ]
  },
  {
   "cell_type": "markdown",
   "id": "ff316ea3",
   "metadata": {},
   "source": [
    "### (4) Discard less significant PCs"
   ]
  },
  {
   "cell_type": "code",
   "execution_count": null,
   "id": "0a0f82dd",
   "metadata": {},
   "outputs": [],
   "source": [
    "pd.DataFrame(np.dot(iris_s, eig[1][:,0:2])) # Transform with the first two eigenvectors"
   ]
  },
  {
   "cell_type": "code",
   "execution_count": null,
   "id": "592d62d0",
   "metadata": {},
   "outputs": [],
   "source": [
    "%matplotlib notebook\n",
    "import matplotlib.pyplot as plt\n",
    "\n",
    "fig, ax = plt.subplots(1, 1, figsize=(5,4))\n",
    "\n",
    "res = pd.DataFrame(np.dot(iris_s, eig[1][:,0:2]))\n",
    "sns.scatterplot(res[0], res[1], hue=labels)\n",
    "plt.legend(title=\"\")\n",
    "plt.xlabel(\"PC1\")\n",
    "plt.ylabel(\"PC2\")\n",
    "plt.tight_layout()\n",
    "#plt.savefig(\"example_iris_pca.pdf\")"
   ]
  },
  {
   "cell_type": "markdown",
   "id": "0c6e57db",
   "metadata": {},
   "source": [
    "# Let's compare with ready-made software from sklearn"
   ]
  },
  {
   "cell_type": "code",
   "execution_count": null,
   "id": "48ccd6aa",
   "metadata": {},
   "outputs": [],
   "source": [
    "from sklearn.decomposition import PCA \n",
    "\n",
    "n_components = 4\n",
    "pca = PCA(n_components)\n",
    "pcs = pca.fit_transform(iris)\n",
    "pd.DataFrame(data=pcs) # Same results!"
   ]
  },
  {
   "cell_type": "code",
   "execution_count": null,
   "id": "9c0a532f",
   "metadata": {},
   "outputs": [],
   "source": [
    "pca.explained_variance_ratio_ # explained variance of each component (normalized)"
   ]
  },
  {
   "cell_type": "code",
   "execution_count": null,
   "id": "d154cf74",
   "metadata": {},
   "outputs": [],
   "source": [
    "n_components = 2\n",
    "pca = PCA(n_components)\n",
    "pcs = pca.fit_transform(iris)\n",
    "pd.DataFrame(data=pcs) # Same results! "
   ]
  },
  {
   "cell_type": "code",
   "execution_count": null,
   "id": "2ad4e349",
   "metadata": {},
   "outputs": [],
   "source": []
  }
 ],
 "metadata": {
  "kernelspec": {
   "display_name": "Python 3",
   "language": "python",
   "name": "python3"
  },
  "language_info": {
   "codemirror_mode": {
    "name": "ipython",
    "version": 3
   },
   "file_extension": ".py",
   "mimetype": "text/x-python",
   "name": "python",
   "nbconvert_exporter": "python",
   "pygments_lexer": "ipython3",
   "version": "3.8.8"
  }
 },
 "nbformat": 4,
 "nbformat_minor": 5
}
