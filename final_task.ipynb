{
 "cells": [
  {
   "cell_type": "markdown",
   "metadata": {},
   "source": [
    "# Data Analysis in Geoscience Remote Sensing Projects: Exercises\n",
    "## Final task handed in by: YOURNAME, on DATE\n",
    "Hendrik Andersen, contact: hendrik.andersen@kit.edu\n",
    "\n",
    "You are provided with a data set for the final task. The data in the file 'data_final_task.csv' contain information on regional averages of low-cloud occurrence and meteorological factors in the Southeast Atlantic (10°S-20°S, 0°E-10°E - this means that the study area is about 1000 km x 1000 km large). The DataFrame contains the following variables:\n",
    "- sst: sea surface temperature\n",
    "- eis: estimated inversion strength\n",
    "- t_adv: temperature advection\n",
    "- w700: vertical pressure velocity at 700 hPa (this is the vertical wind speed, given in Pa/s: positive numbers mean subsiding air masses)\n",
    "- rhft: relative humidity in the free troposphere (free troposphere is above the cloud layer)\n",
    "- clf: Liquid water cloud fraction\n",
    "\n",
    "The data on clouds are from a satellite data set from the MODIS sensor on board NASA's Terra satellite. The product name is MOD08_M3, downloaded from https://ladsweb.modaps.eosdis.nasa.gov/ for more information check out https://ladsweb.modaps.eosdis.nasa.gov/missions-and-measurements/products/MOD08_M3/#overview\n",
    "\n",
    "The meteorological data are ERA5 reanalysis data on meteorological factors thought to be important for low cloud cover. The data is downloaded from https://cds.climate.copernicus.eu/cdsapp#!/dataset/reanalysis-era5-single-levels?tab=overview\n",
    "\n",
    "For more information on how reanalysis data are generated, check out the 2-minute video from Copernicus ECMWF here: https://www.youtube.com/watch?v=FAGobvUGl24\n",
    "\n",
    "Your task is to analyze the data to\n",
    "1. quantitatively and visually describe the data \n",
    "2. analyze relationships between cloud fraction and the cloud-controlling factors using\n",
    "    - regression analysis\n",
    "    - a machine learning model (e.g. feature importance, SHAP)\n",
    "3. describe/discuss the results of your analyses in the provided markdown cells. Are your results in agreement with scientific publications on the topic? You may use the following papers as main guiding resources:\n",
    "    - Cesana and Del Genio (2021): Observational constraint on cloud feebacks suggests moderate climate sensitivity, Nature Climate Change, doi: 10.1038/s41558-020-00970-y\n",
    "    - Klein and Hartmann (1993): The seasonal cycle of low stratiform clouds, Journal of Climate, doi: 10.1175/1520-0442(1993)006<1587:TSCOLS>2.0.CO;2\n",
    "    - Andersen et al. (2022): Attribution of Observed Recent Decrease in Low Clouds Over the Northeastern Pacific to Cloud-Controlling Factors, Geophysical Research Letters, doi: 10.1029/2021GL096498\n",
    "\n",
    "You can find more specific tasks in the cells below"
   ]
  },
  {
   "cell_type": "markdown",
   "metadata": {},
   "source": [
    "__Task__: \n",
    "In a typical scientific workflow, the first step is to get an overview of the data. Typically, visualizations and descriptive statistics are very useful to achieve this.  \n",
    "1. Use pandas to load the dataset, use the time column as the index column\n",
    "2. Calculate the mean and standard deviation of cloud fraction and plot the distribution of cloud fraction in a histogram.\n",
    "3. Plot the CLF time series and describe seasonal patterns."
   ]
  },
  {
   "cell_type": "code",
   "execution_count": 31,
   "metadata": {},
   "outputs": [
    {
     "data": {
      "text/plain": [
       "<matplotlib.axes._subplots.AxesSubplot at 0x7f6c316a9990>"
      ]
     },
     "execution_count": 31,
     "metadata": {},
     "output_type": "execute_result"
    },
    {
     "data": {
      "image/png": "[encoded data removed]",
      "text/plain": [
       "<Figure size 432x288 with 1 Axes>"
      ]
     },
     "metadata": {
      "needs_background": "light"
     },
     "output_type": "display_data"
    }
   ],
   "source": [
    "# use this cell for your code, make sure to comment your code to make it understandable"
   ]
  },
  {
   "cell_type": "markdown",
   "metadata": {},
   "source": [
    "Describe the results here"
   ]
  },
  {
   "cell_type": "markdown",
   "metadata": {},
   "source": [
    "__Task__: \n",
    "1. Compute a regression analysis of clf with each meteorological predictor\n",
    "2. Describe the sensitivities of CLF to the meteorological predictors:\n",
    "    - How sensitive are low clouds to changes in meteorological predictors (in individual simple regression models, and in a multiple regression framework)?\n",
    "    - Are the relationships significant?\n",
    "    - Are there strong correlations between the different predictors that could influence the sensitivity estimates?"
   ]
  },
  {
   "cell_type": "code",
   "execution_count": 38,
   "metadata": {},
   "outputs": [],
   "source": [
    "# use this cell for your code, make sure to comment your code to make it understandable"
   ]
  },
  {
   "cell_type": "markdown",
   "metadata": {},
   "source": [
    "Describe the results here"
   ]
  },
  {
   "cell_type": "markdown",
   "metadata": {},
   "source": [
    "__Task__:\n",
    "Use a machine learning model to \n",
    "1. Predict CLF as accurately as possible [low validation error (e.g. MSE or RMSE) and high explained variance (R²), tuning of hyperparameters]\n",
    "2. Plot a scatter plot of observed CLF vs. model predicted CLF for the both training and test data sets to visualize model performance and check for overfitting. Do the same for a multiple linear regression model, is the machine learning model better than the multiple regression?\n",
    "3. Which predictors are most important for the model to predict CLF? [feature importance]\n",
    "3. Analyze the two most important meteorological features in more detail: How do they influence the prediction of CLF? [partial dependency, SHAP] "
   ]
  },
  {
   "cell_type": "code",
   "execution_count": 307,
   "metadata": {},
   "outputs": [],
   "source": [
    "# use this cell for your code, make sure to comment your code to make it understandable\n",
    "# some code to help you get started:\n",
    "X = data_df.drop(['clf'],axis=1)\n",
    "y = data_df.drop(['sst','eis','w700','rhft','t_adv'],axis=1)\n",
    "\n",
    "# you can start here by separating training and test data sets"
   ]
  },
  {
   "cell_type": "markdown",
   "metadata": {},
   "source": [
    "Describe the results here"
   ]
  }
 ],
 "metadata": {
  "kernelspec": {
   "display_name": "Python 3 (ipykernel)",
   "language": "python",
   "name": "python3"
  },
  "language_info": {
   "codemirror_mode": {
    "name": "ipython",
    "version": 3
   },
   "file_extension": ".py",
   "mimetype": "text/x-python",
   "name": "python",
   "nbconvert_exporter": "python",
   "pygments_lexer": "ipython3",
   "version": "3.10.4"
  }
 },
 "nbformat": 4,
 "nbformat_minor": 4
}
