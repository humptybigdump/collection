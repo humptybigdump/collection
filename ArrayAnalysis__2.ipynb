{
 "cells": [
  {
   "cell_type": "markdown",
   "metadata": {},
   "source": [
    "# Practicals in Seismology, winter semester 2022/23\n",
    "\n",
    "\n",
    "---\n",
    "#### Week 4, 17 November 2022\n",
    "#### Topics: Array Analysis\n",
    "#### Responsible: Dr. Yajian Gao, Dr. Caroline Chalumeau\n",
    "---\n",
    "**In this week's practicals you will work with array data, learn and(or recapulate and practice**\n",
    "\n",
    "* how to distinguish local and teleseismic earthquakes\n",
    "* how to identify different phases of teleseimic earthquakes\n",
    "* how to determine slowness and backazimuth of an arriving phase\n",
    "* how to use array parameters to determine the earthquake source location\n",
    "---"
   ]
  },
  {
   "cell_type": "markdown",
   "metadata": {},
   "source": [
    "As we have done it in the previous jupyter notebooks, we import obspy. Furthermore we import the function \"read\" and \"UTCDateTime\" from obspy."
   ]
  },
  {
   "cell_type": "code",
   "execution_count": 1,
   "metadata": {},
   "outputs": [],
   "source": [
    "#will be changed to reading in files"
   ]
  },
  {
   "cell_type": "markdown",
   "metadata": {},
   "source": [
    "For the analysis we will use predefined functions, which are located in the folder \"scripts\" and file \"utils.py\". Run the following cell to import those functions!"
   ]
  },
  {
   "cell_type": "code",
   "execution_count": 2,
   "metadata": {},
   "outputs": [],
   "source": [
    "import sys\n",
    "sys.path.append('scripts')\n",
    "from utils import *"
   ]
  },
  {
   "cell_type": "markdown",
   "metadata": {},
   "source": [
    "### 1) Local Earthquake\n",
    "For determining slowness and backazimuth of the local earthquake, we will use the data of a seismic array close to Santiaguito volcano in 2019. Actually, the array was installed to monitor volcanic activity, but it is also sufficient to analyse local earthquakes. In this exercise we will use the data of the earthquake occuring on 8.01.19 between 20:00-21:00 UTC.\n",
    "#### a) Seismogram\n",
    "Read the data of station ARR1 and have a look at the dayplot. Do you find the exact time of the local event to which we were referring?"
   ]
  },
  {
   "cell_type": "code",
   "execution_count": null,
   "metadata": {},
   "outputs": [],
   "source": [
    "#read file with filepath: data/X5.ARR1.00.HHZ.D.2019.008\n",
    "\n",
    "# plot dayplot\n"
   ]
  },
  {
   "cell_type": "markdown",
   "metadata": {},
   "source": [
    "Cut the stream in reasonable limits (e.g. 1min time window) and show a Figure of the local earthquake. Can you determine the P- and S-onset? What is the S-P traveltime?"
   ]
  },
  {
   "cell_type": "code",
   "execution_count": null,
   "metadata": {},
   "outputs": [],
   "source": [
    "#copy stream\n",
    "\n",
    "#define t1 and t2 with UTCDateTime and trim the data\n",
    "\n",
    "\n",
    "#plot\n"
   ]
  },
  {
   "cell_type": "markdown",
   "metadata": {},
   "source": [
    "#### b) Array Analysis\n",
    "In order to determine from which direction this earthquake came from, we carry out array analysis. Therefore we have to read the data from all array stations. For the beginning, we only use the vertical component. <br>\n",
    "Remember, that you can include wildcards (e.g. ? ) in the filename, to read multiple files at once."
   ]
  },
  {
   "cell_type": "code",
   "execution_count": null,
   "metadata": {},
   "outputs": [],
   "source": [
    "#read data\n"
   ]
  },
  {
   "cell_type": "markdown",
   "metadata": {},
   "source": [
    "Cut the stream again, so it will only contain the data of the earthquake (e.g. 1min time window)."
   ]
  },
  {
   "cell_type": "code",
   "execution_count": null,
   "metadata": {},
   "outputs": [],
   "source": [
    "#copy stream\n",
    "\n",
    "#define t1 and t2 with UTCDateTime and trim the data"
   ]
  },
  {
   "cell_type": "markdown",
   "metadata": {},
   "source": [
    "Plot the whole stream and check the similarities between the seismograms of the different stations.<br>\n",
    "The command <code>%matplotlib qt5</code> will open the Figures in an external window. Now, you can zoom in the plot (e.g. P-wave onset)."
   ]
  },
  {
   "cell_type": "code",
   "execution_count": null,
   "metadata": {},
   "outputs": [],
   "source": [
    "#%matplotlib qt5\n"
   ]
  },
  {
   "cell_type": "markdown",
   "metadata": {},
   "source": [
    "**P-phase**<br>\n",
    "We first determine the slowness and the backazimuth of the P-wave arrival.  <br>\n",
    "The algorithm is based on the beamforming technique. It shifts the traces for various possible slowness and backazimuths values and stacks all traces. The closer the slowness and baz (backazimuth) are to the true values of the event, the higher is the similarity of the waveforms and the amplitudes of the stacked trace. <br>\n",
    "Therefore it is important, that the chosen time window only includes the relevant phase. In this algorithm, the analysis is carried out for data in a specifing time (from <code>start</code> to <code>end</code>). Within this period, a sliding window with length <code>win_len</code> is used to calculate with beamforming the most likely parameter pair (slowness, baz) for the given data. <br>\n",
    "The data is presented in a polar histogram, showing parameters which are determined more often in brighter colors.\n",
    "\n",
    "In the following cell we have to define different parameters, which are important for the analyis.\n",
    "- start   : start of time window to analyse (UTCDateTime) \n",
    "- end     : end of time window, which should only be a few (<3s for the local earthquake)  (UTCDateTime) \n",
    "- fmin    : lower frequency of filter in Hz(int/float)\n",
    "- fmax    : upper frequency of filter in Hz(int/float) \n",
    "- win_len : length of sliding time window in s (int/float)\n",
    "- smax    : maximal slowness value of grid search in s/km (int/float)\n",
    "\n",
    "For a local earthquake, the total time window should not be longer than a few seconds, because it should only include the onset of the phase. Because the passband of the instruments starts at frequencies > 1Hz, lower frequencies should not be considered (e.g. 1-30Hz). "
   ]
  },
  {
   "cell_type": "code",
   "execution_count": null,
   "metadata": {},
   "outputs": [],
   "source": [
    "start   =    #UTCDateTime\n",
    "end     =    #UTCDateTime\n",
    "fmin    =  1  \n",
    "fmax    =  30\n",
    "win_len =  1\n",
    "smax    =  0.5"
   ]
  },
  {
   "cell_type": "markdown",
   "metadata": {},
   "source": [
    "With the given parameters we can now run the array analysis. <br>\n",
    "In the resulting polar plot, the angle corresponds to the backazimuth and the distance from the center to the slowness. Areas with higher color identify more parameter pairs."
   ]
  },
  {
   "cell_type": "code",
   "execution_count": null,
   "metadata": {},
   "outputs": [],
   "source": [
    "array_hist_st(st2,start,end,fmin=fmin, fmax=fmax,win_len=win_len,smax=smax, stationfile='station_AR.csv')   "
   ]
  },
  {
   "cell_type": "markdown",
   "metadata": {},
   "source": [
    "What backazimuth and slowness values can you find for the event? You can also vary the implemented parameters (e.g. win_len, frequency band)! How do they influence the result?<br>\n",
    "The array is located at 14.74836°N 91.58299°W. <br>\n",
    "Check the array location on Google Maps (Satellite view) and find Santiaguito volcano in its sourrounding.\n",
    "Can you confirm, that this event is most likely not a volcanic event?\n"
   ]
  },
  {
   "cell_type": "markdown",
   "metadata": {},
   "source": [
    "Now you can do the same analysis for the S-wave onset!"
   ]
  },
  {
   "cell_type": "code",
   "execution_count": null,
   "metadata": {},
   "outputs": [],
   "source": [
    "#define parameters\n",
    "start   =    #UTCDateTime\n",
    "end     =    #UTCDateTime\n",
    "fmin    =  1  \n",
    "fmax    =  15\n",
    "win_len =  1\n",
    "smax    =  0.5\n",
    "\n",
    "#run analysis\n",
    "array_hist_st(st2,start,end,fmin=fmin, fmax=fmax,win_len=win_len,smax=smax, stationfile='station_AR.csv')"
   ]
  },
  {
   "cell_type": "markdown",
   "metadata": {},
   "source": [
    "### 2) Teleseismic Earthquake\n",
    "With the distance between earthquake and array the frequency content of the earthquake signal decreases and the wavelength increases. Therefore, the inter-station distance of the array at Santiaguito is to small to analyze teleseismic events.\n",
    "With the Gräfenberg array, which is located in the south-east of Germany, we find a better suited alternative for this task.<br>\n",
    "The seismic data (vertical component) for one day of all Gräfenberg stations is available in the folder \"data\". For the station \"GRA4\" the horizontal components are available too.\n",
    "<img src=\"data/GR_array.png\" alt=\"drawing\" width=\"350\"> <br>\n",
    "(https://gfzpublic.gfz-potsdam.de/rest/items/item_4027_9/component/file_4028/content)\n",
    "#### a) Seismogram\n",
    "Read the data of station GR4 and have a look at the dayplot. When did the earthquake occur?"
   ]
  },
  {
   "cell_type": "code",
   "execution_count": null,
   "metadata": {},
   "outputs": [],
   "source": [
    "# read the data in files 'GR.GRA4..BHE.D.2011.070','GR.GRA4..BHN.D.2011.070','GR.GRA4..BHZ.D.2011.070' which are located in the folder 'data'"
   ]
  },
  {
   "cell_type": "code",
   "execution_count": null,
   "metadata": {},
   "outputs": [],
   "source": [
    "# plot a dayplot of one component"
   ]
  },
  {
   "cell_type": "markdown",
   "metadata": {},
   "source": [
    "Show a Figure with all three components of the teleseismic earthquake. The earthquake occured in a distance of 82° and a depth of 28km.<br>\n",
    "Have a look at the travel time curves (e.g. https://www.usgs.gov/natural-hazards/earthquake-hazards/science/earthquake-travel-times?qt-science_center_objects=0#qt-science_center_objects or http://rses.anu.edu.au/seismology/AK135tables.pdf). <br>\n",
    "Try to identify different phase arrivals! Can you identify the P-phase? Ist the S-wave visible? Do you see PP, SS?\n"
   ]
  },
  {
   "cell_type": "code",
   "execution_count": null,
   "metadata": {},
   "outputs": [],
   "source": [
    "#copy stream\n",
    "\n",
    "#define t1, t2 (UTCDateTime(...))\n",
    "\n",
    "\n",
    "#trim stream and plot it\n"
   ]
  },
  {
   "cell_type": "markdown",
   "metadata": {},
   "source": [
    "#### b) Array Analysis\n",
    "For the array analysis we have to read the data from all stations (Z-component).<br>\n",
    "Remember, that you can include wildcards (e.g. ? ) in the filename, to read multiple files at once. Your stream should contain 14 traces."
   ]
  },
  {
   "cell_type": "code",
   "execution_count": null,
   "metadata": {},
   "outputs": [],
   "source": [
    "#read array data\n"
   ]
  },
  {
   "cell_type": "markdown",
   "metadata": {},
   "source": [
    "**First onset** <br>\n",
    "Now, copy the stream and trim it to the first onset (e.g. 2min time window). "
   ]
  },
  {
   "cell_type": "code",
   "execution_count": null,
   "metadata": {
    "scrolled": false
   },
   "outputs": [],
   "source": [
    "#copy stream and trim it"
   ]
  },
  {
   "cell_type": "markdown",
   "metadata": {},
   "source": [
    "We have to define the parameters for the array analysis again. Because the frequency of the teleseimic is significatly lower than the frequency of a local earthquakes we have to vary the variables below.\n",
    "- choose a lower frequency band (e.g. 2-100s)\n",
    "- increase the size of the sliding window (e.g. 100s) and the total time window (eg. 120s)\n",
    "- the incoming phases are faster and approaching with a lower incident angle. Therefore the slowness is lower and we should decrease the maximal slowness (e.g. 0.1 s/km)\n"
   ]
  },
  {
   "cell_type": "code",
   "execution_count": null,
   "metadata": {},
   "outputs": [],
   "source": [
    "start   =    #UTCDateTime\n",
    "end     =    #UTCDateTime\n",
    "fmin    =    \n",
    "fmax    =  \n",
    "win_len =  \n",
    "smax    = "
   ]
  },
  {
   "cell_type": "markdown",
   "metadata": {},
   "source": [
    "Run the array analysis and determine the slowness and the backazimuth for the P-wave. Check how different parameters influence the results!"
   ]
  },
  {
   "cell_type": "code",
   "execution_count": null,
   "metadata": {},
   "outputs": [],
   "source": [
    "array_hist_st(st_p,start,end,fmin=fmin, fmax=fmax,win_len=win_len,smax=smax, stationfile='station_GR.csv')"
   ]
  },
  {
   "cell_type": "code",
   "execution_count": null,
   "metadata": {},
   "outputs": [],
   "source": []
  },
  {
   "cell_type": "markdown",
   "metadata": {},
   "source": [
    "By knowing the distance (82°) and the direction (backazimuth) of the earthquake you can estimate the source location with a map (or better a globe). Remember, 1° is appoximal equal to 111km.<br>\n",
    "Can you find out, where the earthquake happend?"
   ]
  },
  {
   "cell_type": "markdown",
   "metadata": {},
   "source": [
    "1 you need to plot the great circle along 82 deg epicentral distance"
   ]
  },
  {
   "cell_type": "code",
   "execution_count": 2,
   "metadata": {},
   "outputs": [],
   "source": [
    "from pyproj import Geod\n",
    "###be careful seispy/2022.05 only works for this function\n",
    "def circle(geod, lon, lat, radius, n_samples=360):\n",
    "    \"\"\"\n",
    "    Return the coordinates of a geodetic circle of a given\n",
    "    radius about a lon/lat point.\n",
    "\n",
    "    Radius is in meters in the geodetic's coordinate system.\n",
    "\n",
    "    \"\"\"\n",
    "    lons, lats, back_azim = geod.fwd(np.repeat(lon, n_samples),\n",
    "                                     np.repeat(lat, n_samples),\n",
    "                                     np.linspace(360, 0, n_samples),\n",
    "                                     np.repeat(radius, n_samples),\n",
    "                                     radians=False)\n",
    "    return lons, lats\n",
    "\n",
    "\n"
   ]
  },
  {
   "cell_type": "markdown",
   "metadata": {},
   "source": [
    "give minimum distance and maximum distance"
   ]
  },
  {
   "cell_type": "code",
   "execution_count": 3,
   "metadata": {},
   "outputs": [],
   "source": [
    "import numpy as np\n",
    "geod = Geod(ellps='WGS84')\n",
    "lon1,lat1=circle(geod, 11.22172,49.691888, 81*111*1000,n_samples=360)\n",
    "lon2,lat2=circle(geod, 11.22172,49.691888, 81*111*1000,n_samples=360)"
   ]
  },
  {
   "cell_type": "code",
   "execution_count": null,
   "metadata": {},
   "outputs": [],
   "source": [
    "###plot the great circle\n",
    "import pygmt\n",
    "fig = pygmt.Figure()\n",
    "points1 = pygmt.project(center=[ 11.22172,49.691888], azimuth=30, generate=10,length=[0,90])\n",
    "points2 = pygmt.project(center=[ 11.22172,49.691888], azimuth=45, generate=10,length=[0,90])\n",
    "\n",
    "# create a plot with coast and Mercator projection (M)\n",
    "fig.basemap(region=[-10,180, -90, 90], projection='W15c', frame=True)\n",
    "fig.coast(shorelines=True, area_thresh=5000)\n",
    "\n",
    "# plot individual points of first great circle as seagreen line\n",
    "fig.plot(x=lon1, y=lat1, pen=\"2p,red\")\n",
    "fig.plot(x=lon2, y=lat2, pen=\"2p,red\")\n",
    "#fig.plot(x=points2.r, y=points2.s, pen=\"2p,seagreen\")\n",
    "fig.show()"
   ]
  },
  {
   "cell_type": "code",
   "execution_count": null,
   "metadata": {},
   "outputs": [],
   "source": [
    "import pygmt\n",
    "fig = pygmt.Figure()\n",
    "azi_min=\n",
    "azi_max=\n",
    "points1 = pygmt.project(center=[ 11.22172,49.691888], azimuth=azi_min, generate=10,length=[0,90])\n",
    "points2 = pygmt.project(center=[ 11.22172,49.691888], azimuth=azi_max, generate=10,length=[0,90])\n",
    "\n",
    "# create a plot with coast and Mercator projection (M)\n",
    "fig.basemap(region=[-10,180, -90, 90], projection='W15c', frame=True)\n",
    "fig.coast(shorelines=True, area_thresh=5000)\n",
    "fig.plot(x=lon1, y=lat1, pen=\"2p,red\")\n",
    "fig.plot(x=lon2, y=lat2, pen=\"2p,red\")\n",
    "# plot individual points of first great circle as seagreen line\n",
    "fig.plot(x=points1.r, y=points1.s, pen=\"2p,seagreen\")\n",
    "fig.plot(x=points2.r, y=points2.s, pen=\"2p,seagreen\")\n",
    "fig.show()"
   ]
  },
  {
   "cell_type": "code",
   "execution_count": null,
   "metadata": {},
   "outputs": [],
   "source": []
  },
  {
   "cell_type": "code",
   "execution_count": null,
   "metadata": {},
   "outputs": [],
   "source": []
  },
  {
   "cell_type": "markdown",
   "metadata": {},
   "source": [
    "**Reflected S-wave** <br>\n",
    "Now, carry out the same analysis for the reflected S-wave (SS-phase). Think about the velocity and the raypath and connected incident angle of the SS-phase. Will the slowness be higher or lower than the slowness of the P-phase?<br>You can use the table below, to find out, when the SS-phase should arrive and then try to find it in the seismogram.\n",
    "<img src=\"data/travel_time.png\" alt=\"drawing\" width=\"550\"> <br>\n",
    "(Table is taking from: http://rses.anu.edu.au/seismology/AK135tables.pdf)"
   ]
  },
  {
   "cell_type": "markdown",
   "metadata": {},
   "source": [
    "Cut a time window of 2-5min, which includes the onset of the SS-phase."
   ]
  },
  {
   "cell_type": "code",
   "execution_count": null,
   "metadata": {},
   "outputs": [],
   "source": [
    "#copy and trim stream\n",
    "\n"
   ]
  },
  {
   "cell_type": "markdown",
   "metadata": {},
   "source": [
    "Define the parameters of the array analysis. You have to adjust the parameters (start, end, win_len, smax) again. "
   ]
  },
  {
   "cell_type": "code",
   "execution_count": null,
   "metadata": {},
   "outputs": [],
   "source": [
    "start   =   #UTCDateTime\n",
    "end     =   #UTCDateTime  \n",
    "fmin    =  \n",
    "fmax    =  \n",
    "win_len =   #has to increase!!\n",
    "smax    =   # do you expect higher or lower slowness values than for the P-phase?"
   ]
  },
  {
   "cell_type": "markdown",
   "metadata": {},
   "source": [
    "Run the array analysis!"
   ]
  },
  {
   "cell_type": "code",
   "execution_count": null,
   "metadata": {},
   "outputs": [],
   "source": [
    "array_hist_st(st_ss,start,end,fmin=fmin, fmax=fmax,win_len=win_len,smax=smax, stationfile='station_GR.csv')"
   ]
  },
  {
   "cell_type": "markdown",
   "metadata": {},
   "source": [
    "Compare the slowness and backazimuth of the P-phase and the SS-phase. Do the results confirm your considerations from before? <br>\n",
    "In the table with the travel times there is an additional column with the expected slowenss in s/°. Convert those values to s/km and compare them with your results."
   ]
  },
  {
   "cell_type": "markdown",
   "metadata": {},
   "source": [
    "**Bonus:** <br>\n",
    "Can you identify an additional phase and determine slowness and backazimuth?\n",
    "    "
   ]
  }
 ],
 "metadata": {
  "kernelspec": {
   "display_name": "Python 3 (ipykernel)",
   "language": "python",
   "name": "python3"
  },
  "language_info": {
   "codemirror_mode": {
    "name": "ipython",
    "version": 3
   },
   "file_extension": ".py",
   "mimetype": "text/x-python",
   "name": "python",
   "nbconvert_exporter": "python",
   "pygments_lexer": "ipython3",
   "version": "3.9.13"
  }
 },
 "nbformat": 4,
 "nbformat_minor": 4
}
