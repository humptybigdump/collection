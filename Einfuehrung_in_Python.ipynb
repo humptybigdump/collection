{
 "cells": [
  {
   "cell_type": "markdown",
   "metadata": {},
   "source": [
    "## Datentypen"
   ]
  },
  {
   "cell_type": "code",
   "execution_count": 1,
   "metadata": {},
   "outputs": [
    {
     "name": "stdout",
     "output_type": "stream",
     "text": [
      "1\n",
      "<class 'int'>\n"
     ]
    }
   ],
   "source": [
    "# Integer\n",
    "a = 1\n",
    "print(a)\n",
    "print(type(a))"
   ]
  },
  {
   "cell_type": "code",
   "execution_count": 2,
   "metadata": {},
   "outputs": [
    {
     "name": "stdout",
     "output_type": "stream",
     "text": [
      "1.0\n",
      "<class 'float'>\n"
     ]
    }
   ],
   "source": [
    "# Double\n",
    "b = 1.\n",
    "print(b)\n",
    "print(type(b))"
   ]
  },
  {
   "cell_type": "code",
   "execution_count": 3,
   "metadata": {},
   "outputs": [
    {
     "name": "stdout",
     "output_type": "stream",
     "text": [
      "Hello World Hello World\n",
      "Hello WorldHello World\n"
     ]
    }
   ],
   "source": [
    "# String\n",
    "string1 = 'Hello World'\n",
    "string2 = \"Hello World\"\n",
    "print(string1,string2)\n",
    "print(string1 + string2)"
   ]
  },
  {
   "cell_type": "code",
   "execution_count": 4,
   "metadata": {},
   "outputs": [
    {
     "name": "stdout",
     "output_type": "stream",
     "text": [
      "2.0\n",
      "<class 'float'>\n"
     ]
    }
   ],
   "source": [
    "# Int + Double = Double\n",
    "c = a+b\n",
    "print(c)\n",
    "print(type(c))"
   ]
  },
  {
   "cell_type": "code",
   "execution_count": 5,
   "metadata": {},
   "outputs": [
    {
     "name": "stdout",
     "output_type": "stream",
     "text": [
      "0.5\n"
     ]
    }
   ],
   "source": [
    "# - Mal Geteilt - Wie gehabt\n",
    "d = (c-b)/c*a\n",
    "print(d)"
   ]
  },
  {
   "cell_type": "code",
   "execution_count": 6,
   "metadata": {},
   "outputs": [
    {
     "name": "stdout",
     "output_type": "stream",
     "text": [
      "4.0\n"
     ]
    }
   ],
   "source": [
    "# Potenzen\n",
    "e = c**2\n",
    "print(e)"
   ]
  },
  {
   "cell_type": "code",
   "execution_count": 7,
   "metadata": {},
   "outputs": [
    {
     "name": "stdout",
     "output_type": "stream",
     "text": [
      "3\n"
     ]
    }
   ],
   "source": [
    "# Modulo Operator\n",
    "f = 24%7\n",
    "print(f)"
   ]
  },
  {
   "cell_type": "markdown",
   "metadata": {},
   "source": [
    "## Listen, Tupel und Dictionaries"
   ]
  },
  {
   "cell_type": "code",
   "execution_count": 8,
   "metadata": {},
   "outputs": [
    {
     "name": "stdout",
     "output_type": "stream",
     "text": [
      "[1, 2, 3.0, 4, 'String']\n"
     ]
    }
   ],
   "source": [
    "# Listen\n",
    "\n",
    "liste_1 = [1,2,3.,4,'String']\n",
    "print(liste_1)"
   ]
  },
  {
   "cell_type": "code",
   "execution_count": 9,
   "metadata": {},
   "outputs": [
    {
     "name": "stdout",
     "output_type": "stream",
     "text": [
      "(1, 2, 3.0, 4, 'String')\n"
     ]
    }
   ],
   "source": [
    "# Tupel\n",
    "\n",
    "tupel_1 = (1,2,3.,4,'String')\n",
    "print(tupel_1)"
   ]
  },
  {
   "cell_type": "code",
   "execution_count": 10,
   "metadata": {},
   "outputs": [
    {
     "name": "stdout",
     "output_type": "stream",
     "text": [
      "String\n",
      "3.0\n"
     ]
    }
   ],
   "source": [
    "# Auf Elemente zugreifen - WICHTIG: Indizierung beginnt bei 0!\n",
    "\n",
    "print(liste_1[4])\n",
    "print(tupel_1[2])"
   ]
  },
  {
   "cell_type": "code",
   "execution_count": 11,
   "metadata": {},
   "outputs": [
    {
     "name": "stdout",
     "output_type": "stream",
     "text": [
      "[3.0, 4, 'String']\n",
      "(2, 3.0)\n"
     ]
    }
   ],
   "source": [
    "# Slicing - man kann einfach auf mehrere Elemente einer Liste/eines Tupels zugreifen.\n",
    "\n",
    "# Achtung: Die Syntax [i:j] ruft die Elemente i, i+1 , ... , j-1 (!) auf.\n",
    "# Das kann zunächst etwas ungewohnt sein, hat aber den Vorteil, dass sich\n",
    "# aus \"j-i\" leicht die Anzahl der Elemente ablesen lässt\n",
    "# Beispiel: [2:5] -> ab Index 2 werden 3 Elemente aufgerufen\n",
    "\n",
    "print(liste_1[2:5])\n",
    "print(tupel_1[1:3])"
   ]
  },
  {
   "cell_type": "code",
   "execution_count": 12,
   "metadata": {},
   "outputs": [
    {
     "name": "stdout",
     "output_type": "stream",
     "text": [
      "[10, 2, 3, 4]\n",
      "[10, 2, 22, 33]\n"
     ]
    }
   ],
   "source": [
    "# Liste: veränderbar, Tupel: unveränderbar\n",
    "\n",
    "neue_Liste = [1,2,3,4]\n",
    "neues_Tupel = (1,2,3,4)\n",
    "\n",
    "neue_Liste[0] = 10\n",
    "print(neue_Liste)\n",
    "neue_Liste[2:4] = [22, 33]\n",
    "print(neue_Liste)\n",
    "\n",
    "#neues_Tupel[0] = 10 # <= das ergibt einen Error"
   ]
  },
  {
   "cell_type": "code",
   "execution_count": 13,
   "metadata": {},
   "outputs": [
    {
     "name": "stdout",
     "output_type": "stream",
     "text": [
      "[1, 2, 3.0, 4, 'String', 3.5]\n",
      "[1, 2, 3.0, 4, 3.5]\n",
      "[1, 2, 3.0, 3.5, 4]\n",
      "[1, 2, 3.0, 3.5, 4, 77, 88, 99]\n"
     ]
    }
   ],
   "source": [
    "# Es existieren noch viele weitere Möglichkeiten zur Manipulation von Listen\n",
    "\n",
    "# Beispiel: Ein Element an eine Liste anhängen\n",
    "liste_1.append(3.5) \n",
    "print(liste_1)\n",
    "\n",
    "# Beispiel: Ein Element aus einer Liste entfernen\n",
    "liste_1.remove('String')\n",
    "print(liste_1)\n",
    "\n",
    "# Beispiel: Liste sortieren\n",
    "liste_1.sort()\n",
    "print(liste_1)\n",
    "\n",
    "# Beispiel: Listen addieren\n",
    "print(liste_1 + [77, 88, 99])\n",
    "\n",
    "# Für mehr Methoden und Beispiele: https://docs.python.org/3/tutorial/datastructures.html#more-on-lists"
   ]
  },
  {
   "cell_type": "code",
   "execution_count": 14,
   "metadata": {},
   "outputs": [
    {
     "name": "stdout",
     "output_type": "stream",
     "text": [
      "22\n"
     ]
    }
   ],
   "source": [
    "# Dictionaries - Listen und Tupel sind geordnete Datenobjekte (die Einträge lassen sich über den Index sortieren)\n",
    "# Dictionaries sind ungeordnet, die Einträge haben keine \"natürliche\" Reihenfolge sondern werden jeweils Tags zugeordnet\n",
    "\n",
    "Studenten = {\n",
    "    \"Anne\" : 25,\n",
    "    \"Daniel\" : 29,\n",
    "    \"Jürgen\" : 22\n",
    "    }\n",
    "\n",
    "print(Studenten[\"Jürgen\"])\n",
    "\n",
    "# Eine Übersicht zur Syntax und Methoden von Dictionaries: https://www.programiz.com/python-programming/dictionary"
   ]
  },
  {
   "cell_type": "markdown",
   "metadata": {},
   "source": [
    "## Loops"
   ]
  },
  {
   "cell_type": "code",
   "execution_count": 19,
   "metadata": {},
   "outputs": [
    {
     "name": "stdout",
     "output_type": "stream",
     "text": [
      "0\n",
      "1\n",
      "2\n",
      "3\n",
      "4\n",
      "5\n",
      "6\n",
      "7\n",
      "8\n",
      "9\n"
     ]
    }
   ],
   "source": [
    "# for-loop\n",
    "# In Python gibt es keine Klammern, wie in C++ und kein end, wie in Matlab. Stattdessen wird mit Tab eingerückt:\n",
    "for i in range(10):\n",
    "    print(i)"
   ]
  },
  {
   "cell_type": "code",
   "execution_count": 20,
   "metadata": {},
   "outputs": [
    {
     "name": "stdout",
     "output_type": "stream",
     "text": [
      "1\n",
      "2\n",
      "3.0\n",
      "3.5\n",
      "4\n"
     ]
    }
   ],
   "source": [
    "for item in liste_1:\n",
    "    print(item)"
   ]
  },
  {
   "cell_type": "code",
   "execution_count": 21,
   "metadata": {},
   "outputs": [
    {
     "name": "stdout",
     "output_type": "stream",
     "text": [
      "0\n",
      "1\n",
      "2\n",
      "3\n",
      "4\n",
      "5\n",
      "6\n",
      "7\n",
      "8\n",
      "9\n"
     ]
    }
   ],
   "source": [
    "# while-loop\n",
    "\n",
    "i = 0\n",
    "while i < 10:\n",
    "    print(i)\n",
    "    i+=1"
   ]
  },
  {
   "cell_type": "markdown",
   "metadata": {},
   "source": [
    "## Bool'sche Operationen"
   ]
  },
  {
   "cell_type": "code",
   "execution_count": 22,
   "metadata": {},
   "outputs": [
    {
     "name": "stdout",
     "output_type": "stream",
     "text": [
      "tic\n",
      "tic\n",
      "toc\n",
      "toc\n"
     ]
    }
   ],
   "source": [
    "# If Abfrage\n",
    "# In Python gibt es die üblichen Vergleichsoperatoren: <, <=, >, >=, !=, ==\n",
    "\n",
    "for i in range(4):\n",
    "    if i<2:\n",
    "        print('tic')\n",
    "    else:\n",
    "        print('toc')\n"
   ]
  },
  {
   "cell_type": "code",
   "execution_count": 23,
   "metadata": {},
   "outputs": [
    {
     "name": "stdout",
     "output_type": "stream",
     "text": [
      "True\n",
      "False\n",
      "True\n"
     ]
    }
   ],
   "source": [
    "# Verknüpfung/Negation von Bedingungen über die Logische Operatoren: and, or und not\n",
    "\n",
    "print(not 5 < 4)\n",
    "print(5 < 4 and 2 > 1)\n",
    "print(5 < 4 or 2 > 1)"
   ]
  },
  {
   "cell_type": "markdown",
   "metadata": {},
   "source": [
    "## spezielle Syntax"
   ]
  },
  {
   "cell_type": "code",
   "execution_count": 24,
   "metadata": {},
   "outputs": [
    {
     "name": "stdout",
     "output_type": "stream",
     "text": [
      "1\n",
      "4\n",
      "9.0\n",
      "12.25\n",
      "16\n",
      "\n",
      "1\n",
      "4\n",
      "9.0\n",
      "12.25\n",
      "16\n"
     ]
    }
   ],
   "source": [
    "# Über for loops kann man in Python elegant über die Elemente einer Liste (oder anderer iterierbarer Objekte) iterieren\n",
    "\n",
    "# klassisch:\n",
    "for i in range(len(liste_1)):\n",
    "    print(liste_1[i]**2)\n",
    "\n",
    "print(\"\")\n",
    "# python:\n",
    "for element in liste_1:\n",
    "    print(element**2)"
   ]
  },
  {
   "cell_type": "code",
   "execution_count": 25,
   "metadata": {},
   "outputs": [
    {
     "name": "stdout",
     "output_type": "stream",
     "text": [
      "[0, 1, 2, 3, 4, 5, 6, 7, 8, 9]\n",
      "[0, 1, 2, 3, 4, 5, 6, 7, 8, 9]\n"
     ]
    }
   ],
   "source": [
    "# Für das Füllen/Erstellen von Listen existiert ebenfalls eine einfache/gut lesbare Syntax\n",
    "\n",
    "# klassisch:\n",
    "liste_2 = []\n",
    "for i in range(10):\n",
    "    liste_2.append(i)\n",
    "print(liste_2)\n",
    "\n",
    "# python:\n",
    "liste_3 = [i for i in range(10)]\n",
    "print(liste_3)"
   ]
  },
  {
   "cell_type": "code",
   "execution_count": 26,
   "metadata": {},
   "outputs": [
    {
     "name": "stdout",
     "output_type": "stream",
     "text": [
      "[0, 2, 4, 6, 8]\n"
     ]
    }
   ],
   "source": [
    "# Das kann auch mit if Bedingungen verknüpft werden\n",
    "\n",
    "liste_4 = [element for element in liste_3 if element%2 == 0]\n",
    "print(liste_4)"
   ]
  },
  {
   "cell_type": "code",
   "execution_count": null,
   "metadata": {},
   "outputs": [],
   "source": []
  }
 ],
 "metadata": {
  "kernelspec": {
   "display_name": "Python 3",
   "language": "python",
   "name": "python3"
  },
  "language_info": {
   "codemirror_mode": {
    "name": "ipython",
    "version": 3
   },
   "file_extension": ".py",
   "mimetype": "text/x-python",
   "name": "python",
   "nbconvert_exporter": "python",
   "pygments_lexer": "ipython3",
   "version": "3.8.5"
  }
 },
 "nbformat": 4,
 "nbformat_minor": 2
}
