{
 "cells": [
  {
   "cell_type": "code",
   "execution_count": 1,
   "metadata": {},
   "outputs": [],
   "source": [
    "# Funktionenblöcke werden über das Keyword \"def\" eingeleitet\n",
    "\n",
    "def exponentiate(base,exponent):\n",
    "    return base**exponent"
   ]
  },
  {
   "cell_type": "code",
   "execution_count": 2,
   "metadata": {},
   "outputs": [
    {
     "name": "stdout",
     "output_type": "stream",
     "text": [
      "None\n"
     ]
    }
   ],
   "source": [
    "def dummy():\n",
    "    return None\n",
    "\n",
    "print(dummy())"
   ]
  },
  {
   "cell_type": "code",
   "execution_count": 3,
   "metadata": {},
   "outputs": [
    {
     "name": "stdout",
     "output_type": "stream",
     "text": [
      "49\n"
     ]
    }
   ],
   "source": [
    "# Funktionsaufruf\n",
    "# x und y werden über die Position der eingegebenen Argumente bestimmt\n",
    "a = exponentiate(7,2)\n",
    "print(a)"
   ]
  },
  {
   "cell_type": "code",
   "execution_count": 4,
   "metadata": {},
   "outputs": [
    {
     "name": "stdout",
     "output_type": "stream",
     "text": [
      "49\n",
      "49\n",
      "49\n"
     ]
    }
   ],
   "source": [
    "# Alternativ kann die Eingabe auch über die Keywords erfolgen\n",
    "# Dies kann bei komplexen Funktionen (mit vielen Argumenten) für eine bessere Lesbarkeit sorgen\n",
    "\n",
    "a = exponentiate(base = 7, exponent = 2)\n",
    "print(a)\n",
    "\n",
    "# Hierbei ist die Reihenfolge egal\n",
    "a = exponentiate(exponent = 2, base = 7)\n",
    "print(a)\n",
    "\n",
    "# Kann auch gemischt verwendet werden (hierbei stehen die Keywordarguments immer hinten)\n",
    "a = exponentiate(7, exponent = 2)\n",
    "print(a)"
   ]
  },
  {
   "cell_type": "code",
   "execution_count": 5,
   "metadata": {},
   "outputs": [
    {
     "name": "stdout",
     "output_type": "stream",
     "text": [
      "Mechanik ist toll!\n",
      "Mechanik ist doof!\n"
     ]
    }
   ],
   "source": [
    "# Eine Funktion kann mit optionalen Parmetern definiert werden, die standardmäßig gesetzt werden\n",
    "\n",
    "def praise(subjekt, adjektiv = \"toll\"):\n",
    "    return f\"{subjekt} ist {adjektiv}!\"\n",
    "    \n",
    "\n",
    "print(praise(\"Mechanik\"))\n",
    "print(praise(\"Mechanik\", adjektiv = \"doof\")) # :("
   ]
  },
  {
   "cell_type": "code",
   "execution_count": 6,
   "metadata": {},
   "outputs": [
    {
     "name": "stdout",
     "output_type": "stream",
     "text": [
      "My Input:  (2, 3, 6, 7, 9, 10)\n",
      "2  is even\n",
      "3  is odd\n",
      "6  is even\n",
      "7  is odd\n",
      "9  is odd\n",
      "10  is even\n"
     ]
    }
   ],
   "source": [
    "# Funktionen können über *args auch mit einer flexiblen Anzahl von Argumenten definiert werden\n",
    "\n",
    "def checkIfEven(*numbers):\n",
    "    \n",
    "    print(\"My Input: \", numbers) # argumente werden als Tupel übergeben\n",
    "    \n",
    "    for number in numbers:\n",
    "        if number%2 == 0:\n",
    "            print(number, \" is even\")\n",
    "        else:\n",
    "            print(number, \" is odd\")\n",
    "    \n",
    "checkIfEven(2,3,6,7,9,10)    "
   ]
  },
  {
   "cell_type": "code",
   "execution_count": 7,
   "metadata": {},
   "outputs": [
    {
     "name": "stdout",
     "output_type": "stream",
     "text": [
      "My Input:  (2, 3, 6, 7, 22)\n",
      "2  is even\n",
      "3  is odd\n",
      "6  is even\n",
      "7  is odd\n",
      "22  is even\n"
     ]
    }
   ],
   "source": [
    "# Umgekehrt können über * auch tupel als Argumente entpackt werden\n",
    "\n",
    "myArguments = (2,3,6,7,22)\n",
    "\n",
    "checkIfEven(*myArguments)"
   ]
  },
  {
   "cell_type": "code",
   "execution_count": 8,
   "metadata": {},
   "outputs": [
    {
     "name": "stdout",
     "output_type": "stream",
     "text": [
      "My Input : {'Mechanik': 'toll', 'Optimierung': 'fantastisch'}\n",
      "Mechanik ist toll!\n",
      "Optimierung ist fantastisch!\n"
     ]
    }
   ],
   "source": [
    "# Gleiches gilt für Keywordargumente über **kwargs\n",
    "\n",
    "def praiseMany(**kwargs):\n",
    "    \n",
    "    print(\"My Input :\", kwargs) # Keywordargumente werden als dict übergeben\n",
    "    \n",
    "    for key in kwargs.keys():\n",
    "        print(f\"{key} ist {kwargs[key]}!\")\n",
    "\n",
    "praiseMany(Mechanik = \"toll\", Optimierung = \"fantastisch\")"
   ]
  },
  {
   "cell_type": "code",
   "execution_count": 9,
   "metadata": {},
   "outputs": [
    {
     "name": "stdout",
     "output_type": "stream",
     "text": [
      "My Input : {'Mechanik': 'toll', 'Python': 'super'}\n",
      "Mechanik ist toll!\n",
      "Python ist super!\n"
     ]
    }
   ],
   "source": [
    "# Umgekehrt können über ** auch dicts als Argumente entpackt werden\n",
    "\n",
    "myKeywordArguments = {\"Mechanik\": \"toll\", \"Python\": \"super\"}\n",
    "\n",
    "praiseMany(**myKeywordArguments)"
   ]
  },
  {
   "cell_type": "code",
   "execution_count": 10,
   "metadata": {},
   "outputs": [
    {
     "name": "stdout",
     "output_type": "stream",
     "text": [
      "Hi!\n",
      "<function sayHi at 0x7fd1fc1b68b0>\n"
     ]
    }
   ],
   "source": [
    "# Unterscheidung zwischen Funktionen und ihrem Aufruf\n",
    "\n",
    "def sayHi():\n",
    "    return \"Hi!\"\n",
    "    \n",
    "print(sayHi()) #Aufruf der Funktion\n",
    "print(sayHi) #Funktion als Objekt\n"
   ]
  },
  {
   "cell_type": "code",
   "execution_count": 18,
   "metadata": {},
   "outputs": [
    {
     "data": {
      "text/plain": [
       "0"
      ]
     },
     "execution_count": 18,
     "metadata": {},
     "output_type": "execute_result"
    }
   ],
   "source": []
  },
  {
   "cell_type": "code",
   "execution_count": null,
   "metadata": {},
   "outputs": [],
   "source": [
    "# Funktionen können als Objekte behandelt werden, z.B. kann man Sie in Listen und Dicts stecken\n",
    "\n",
    "def add(x,y):\n",
    "    return x+y\n",
    "\n",
    "def substract(x,y):\n",
    "    return x-y\n",
    "\n",
    "myFunctionList = [add, substract, exponentiate] # ohne (args) als Objekt\n",
    "print(myFunctionList[0](1,3)) # mit (args) für den Funktionsaufruf\n",
    "\n",
    "myFunctionDict = {\"addition\": add, \"subtraction\": substract, \"exponentiation\": exponentiate}\n",
    "print(myFunctionDict[\"subtraction\"](5,2))\n"
   ]
  },
  {
   "cell_type": "code",
   "execution_count": null,
   "metadata": {},
   "outputs": [],
   "source": [
    "# Funktionen können auch an andere Funktionen übergeben werden\n",
    "\n",
    "def callAnotherFunctionTwice(function, calls = 2, functionargs = (), functionkwargs = {}):\n",
    "    \n",
    "    for i in range(calls):\n",
    "        result = function(*functionargs, **functionkwargs)\n",
    "        print(result)\n",
    "\n",
    "callAnotherFunctionTwice(add, functionargs = (2,3))\n",
    "callAnotherFunctionTwice(praise, calls = 7, functionargs = (\"Python\",), functionkwargs = {\"adjektiv\": \"klasse\"})"
   ]
  },
  {
   "cell_type": "code",
   "execution_count": 19,
   "metadata": {},
   "outputs": [],
   "source": [
    "# Python unterstützt objektorientiertes Programmieren. \n",
    "# In Objekten werden Daten und Funktionen die mit diesen Daten operieren zusammengefasst.\n",
    "# Eine Klasse funktioniert als \"Blaupause\" für einen bestimmten Typ von Objekt und wird über den \"class\" Befehl eingeleitet\n",
    "\n",
    "class Student(object):\n",
    "    \n",
    "    # Funktionen einer Klasse werden als Methoden bezeichnet. Diese werden wie Funktionen über \"def\" eingeleitet.\n",
    "    # Als erstes Argument muss hier stets \"self\", also das Objekt selbst übergeben werden.\n",
    "    \n",
    "    # bei __init__() handelt es sich den Konstruktor der Klasse also die Methode die beim Instanzieren von Objekten\n",
    "    # aufgerufen wird. Im Konstruktor können z.B. bestimmte Attribute des Objekts festgelegt werden.\n",
    "    \n",
    "    def __init__(self, name, age):\n",
    "        self.name = name\n",
    "        self.age = age\n",
    "        self.hours_studied = 0\n",
    "        self.hours_for_graduation = 100\n",
    "        self.has_graduated = False\n",
    "    \n",
    "    def study(self,hours):\n",
    "        self.hours_studied += hours\n",
    "        print(f\"{self.name} studied for {hours} hours\")\n",
    "        \n",
    "    def graduate(self):\n",
    "        \n",
    "        if self.hours_studied < self.hours_for_graduation:\n",
    "            print(f\"{self.name} has to study {self.hours_for_graduation-self.hours_studied} more hours to graduate :(\")\n",
    "        else:\n",
    "            print(f\"Congratulations {self.name}, you're graduated!\")\n",
    "            self.has_graduated = True\n",
    "    \n",
    "    def sayHi(self):\n",
    "        print(f\"Hi, I'm {self.name}. I am {self.age} years old.\")"
   ]
  },
  {
   "cell_type": "code",
   "execution_count": 20,
   "metadata": {},
   "outputs": [
    {
     "name": "stdout",
     "output_type": "stream",
     "text": [
      "Hi, I'm Jörg. I am 22 years old.\n",
      "Jörg studied for 75 hours\n",
      "Jörg has to study 25 more hours to graduate :(\n",
      "Has he graduated? False\n",
      "Jörg studied for 50 hours\n",
      "Congratulations Jörg, you're graduated!\n",
      "Has he graduated? True\n"
     ]
    }
   ],
   "source": [
    "# Instanziierung von Objekten\n",
    "\n",
    "Jörg = Student(\"Jörg\", 22)\n",
    "\n",
    "# Aufruf von Methoden:\n",
    "# Das argument \"self\", für das Objekt wird automatisch übergeben, \n",
    "# beim Aufruf einer Methode muss für dieses Argument also nichts übergeben werden\n",
    "\n",
    "Jörg.sayHi()\n",
    "Jörg.study(75)\n",
    "Jörg.graduate()\n",
    "print(\"Has he graduated?\", Jörg.has_graduated)\n",
    "Jörg.study(50)\n",
    "Jörg.graduate()\n",
    "print(\"Has he graduated?\", Jörg.has_graduated)\n"
   ]
  },
  {
   "cell_type": "code",
   "execution_count": 21,
   "metadata": {},
   "outputs": [
    {
     "name": "stdout",
     "output_type": "stream",
     "text": [
      "Hi, I'm Anne. I am 24 years old. I study at the KIT.\n",
      "Anne studied for 75 hours\n",
      "Anne has to study 125 more hours to graduate :(\n",
      "Is she graduated? False\n",
      "Anne studied for 150 hours\n",
      "Congratulations Anne, you're graduated!\n",
      "Is she graduated? True\n"
     ]
    }
   ],
   "source": [
    "# Vererbung\n",
    "# Klassen können von anderen Klassen abgeleitet werden, dies nennt man Vererbung.\n",
    "# Dabei erbt die Klasse die Attribute und Methoden der Mutterklasse\n",
    "\n",
    "class KITStudent(Student): # hier wird die Mutterklasse angegeben, von der geerbt wird\n",
    "    \n",
    "    # Standardmäßig übernimmt die Subklasse die Methoden und Attribute der übergeordneten Klasse.\n",
    "    # Sollen diese verändert/erweitert werden, müssen sie überschrieben werden.\n",
    "    \n",
    "    def __init__(self, name, age):\n",
    "        Student.__init__(self, name , age) # ruft den Konstruktor der Student Klasse auf\n",
    "        self.University = \"KIT\"\n",
    "        self.hours_for_graduation = 200\n",
    "    \n",
    "    def sayHi(self):\n",
    "        print(f\"Hi, I'm {self.name}. I am {self.age} years old. I study at the {self.University}.\")\n",
    "        \n",
    "\n",
    "Anne = KITStudent(\"Anne\", 24)\n",
    "\n",
    "# \n",
    "\n",
    "Anne.sayHi()\n",
    "Anne.study(75)\n",
    "Anne.graduate()\n",
    "print(\"Is she graduated?\", Anne.has_graduated)\n",
    "Anne.study(150)\n",
    "Anne.graduate()\n",
    "print(\"Is she graduated?\", Anne.has_graduated)\n"
   ]
  },
  {
   "cell_type": "code",
   "execution_count": 23,
   "metadata": {},
   "outputs": [
    {
     "name": "stdout",
     "output_type": "stream",
     "text": [
      "[[282692.31 121153.85 121153.85      0.        0.        0.  ]\n",
      " [121153.85 282692.31 121153.85      0.        0.        0.  ]\n",
      " [121153.85 121153.85 282692.31      0.        0.        0.  ]\n",
      " [     0.        0.        0.   161538.46      0.        0.  ]\n",
      " [     0.        0.        0.        0.   161538.46      0.  ]\n",
      " [     0.        0.        0.        0.        0.   161538.46]]\n"
     ]
    }
   ],
   "source": [
    "# Manchmal ist es nützlich eine abstrakte Klasse als Template für andere Klassen zu definieren,\n",
    "# um die Methoden für diese festzulegen\n",
    "\n",
    "import numpy as np\n",
    "\n",
    "class AbstractLinearElasticStiffness(object):\n",
    "    \n",
    "    def __init__(self):\n",
    "        raise Exception(\"The abstract linear elastic material can not be instantiated!\")\n",
    "        \n",
    "    def computeStiffnessMatrix(self):\n",
    "        pass # Das wollen wir an dieser Stelle noch nicht spezifizieren\n",
    "    \n",
    "    \n",
    "class isotropicLinearElasticStiffness(AbstractLinearElasticStiffness):\n",
    "    \n",
    "    def __init__(self, E, nu):\n",
    "        # Engineering parameters\n",
    "        self.E = E\n",
    "        self.nu = nu\n",
    "        # Eigenvalues\n",
    "        self.K = self.E/(3*(1-2*self.nu))\n",
    "        self.G = self.E/(2*(1+self.nu))\n",
    "        # Lame constants\n",
    "        self.mu = self.G\n",
    "        self.lam = self.K - 2/3*self.G\n",
    "        \n",
    "    def computeStiffnessMatrix(self):\n",
    "        \n",
    "        # Wir nehmen hier mal die Mandel-Notation (normierte Voigt Notation)\n",
    "        \n",
    "        C11 = self.lam + 2*self.mu\n",
    "        C12 = self.lam\n",
    "        C44 = 2*self.mu\n",
    "        \n",
    "        C = np.array([  C11, C12, C12,  0,   0,   0,\n",
    "                        C12, C11, C12,  0,   0,   0,\n",
    "                        C12, C12, C11,  0,   0,   0,\n",
    "                          0,   0,   0, C44,  0,   0,\n",
    "                          0,   0,   0,  0, C44,   0,\n",
    "                          0,   0,   0,  0,  0,   C44]).reshape((6,6))\n",
    "        \n",
    "        return C\n",
    "\n",
    "np.set_printoptions(precision = 2) # Zur Formatierung, kann ignoriert werden\n",
    "\n",
    "steel_stiffness = isotropicLinearElasticStiffness( E = 210000, nu = 0.3 )\n",
    "print(steel_stiffness.computeStiffnessMatrix())\n",
    "\n"
   ]
  },
  {
   "cell_type": "code",
   "execution_count": 24,
   "metadata": {},
   "outputs": [
    {
     "name": "stdout",
     "output_type": "stream",
     "text": [
      "[2826.92 1211.54 1211.54    0.      0.      0.  ]\n"
     ]
    }
   ],
   "source": [
    "# Objekte können wiederrum andere Objekte als Attribut besitzen und auf deren Methoden/Attribute zugreifen\n",
    "\n",
    "class LinearElasticMaterial(object):\n",
    "    \n",
    "    def __init__(self,stiffness):\n",
    "        self.stiffness = stiffness\n",
    "        \n",
    "    def computeStress(self,strain):\n",
    "        \n",
    "        stiffness_matrix = self.stiffness.computeStiffnessMatrix()\n",
    "        \n",
    "        return np.dot(stiffness_matrix,strain)\n",
    "    \n",
    "steel = LinearElasticMaterial(steel_stiffness)\n",
    "strain = np.array([0.01,0.,0.,0.,0.,0.])\n",
    "\n",
    "stress = steel.computeStress(strain)\n",
    "print(stress)\n"
   ]
  },
  {
   "cell_type": "code",
   "execution_count": null,
   "metadata": {},
   "outputs": [],
   "source": []
  }
 ],
 "metadata": {
  "kernelspec": {
   "display_name": "Python 3",
   "language": "python",
   "name": "python3"
  },
  "language_info": {
   "codemirror_mode": {
    "name": "ipython",
    "version": 3
   },
   "file_extension": ".py",
   "mimetype": "text/x-python",
   "name": "python",
   "nbconvert_exporter": "python",
   "pygments_lexer": "ipython3",
   "version": "3.8.5"
  }
 },
 "nbformat": 4,
 "nbformat_minor": 2
}
