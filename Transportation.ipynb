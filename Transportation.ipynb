{
 "cells": [
  {
   "cell_type": "code",
   "execution_count": 2,
   "metadata": {},
   "outputs": [],
   "source": [
    "from gurobipy import GRB, Model"
   ]
  },
  {
   "cell_type": "markdown",
   "metadata": {},
   "source": [
    "# Transportation model"
   ]
  },
  {
   "cell_type": "markdown",
   "metadata": {},
   "source": [
    "## Read data"
   ]
  },
  {
   "cell_type": "markdown",
   "metadata": {},
   "source": [
    "In a real-world example you would read this data from files or a database using data processing packages like Pandas."
   ]
  },
  {
   "cell_type": "markdown",
   "metadata": {},
   "source": [
    "<img src=\"Data_Transportation.png\">"
   ]
  },
  {
   "cell_type": "markdown",
   "metadata": {},
   "source": [
    "Warehouses"
   ]
  },
  {
   "cell_type": "code",
   "execution_count": 8,
   "metadata": {},
   "outputs": [],
   "source": [
    "warehouses = [f\"W{i}\" for i in range(1, 4)]"
   ]
  },
  {
   "cell_type": "markdown",
   "metadata": {},
   "source": [
    "Customers"
   ]
  },
  {
   "cell_type": "code",
   "execution_count": 10,
   "metadata": {},
   "outputs": [],
   "source": [
    "customers = [f\"C{i}\" for i in range(1, 6)]"
   ]
  },
  {
   "cell_type": "markdown",
   "metadata": {},
   "source": [
    "Variable transportation costs (per unit)"
   ]
  },
  {
   "cell_type": "code",
   "execution_count": 13,
   "metadata": {},
   "outputs": [],
   "source": [
    "transport_costs = {\n",
    "    ('W1', 'C1'): 4,\n",
    "    ('W1', 'C2'): 5,\n",
    "    ('W1', 'C3'): 6,\n",
    "    ('W1', 'C4'): 8,\n",
    "    ('W1', 'C5'): 10,\n",
    "    ('W2', 'C1'): 6,\n",
    "    ('W2', 'C2'): 4,\n",
    "    ('W2', 'C3'): 3,\n",
    "    ('W2', 'C4'): 5,\n",
    "    ('W2', 'C5'): 8,\n",
    "    ('W3', 'C1'): 9,\n",
    "    ('W3', 'C2'): 7,\n",
    "    ('W3', 'C3'): 4,\n",
    "    ('W3', 'C4'): 2,\n",
    "    ('W3', 'C5'): 4,\n",
    "    \n",
    "}"
   ]
  },
  {
   "cell_type": "markdown",
   "metadata": {},
   "source": [
    "Demand"
   ]
  },
  {
   "cell_type": "code",
   "execution_count": 15,
   "metadata": {},
   "outputs": [],
   "source": [
    "dem = {\n",
    "    'C1': 80,\n",
    "    'C2': 270,\n",
    "    'C3': 250,\n",
    "    'C4': 160,\n",
    "    'C5': 180\n",
    "}"
   ]
  },
  {
   "cell_type": "markdown",
   "metadata": {},
   "source": [
    "Capacity"
   ]
  },
  {
   "cell_type": "code",
   "execution_count": 16,
   "metadata": {},
   "outputs": [],
   "source": [
    "cap = {\n",
    "    'W1': 500,\n",
    "    'W2': 500,\n",
    "    'W3': 500\n",
    "}"
   ]
  },
  {
   "cell_type": "markdown",
   "metadata": {},
   "source": [
    "## Optimization Model"
   ]
  },
  {
   "cell_type": "code",
   "execution_count": 17,
   "metadata": {},
   "outputs": [
    {
     "name": "stdout",
     "output_type": "stream",
     "text": [
      "Using license file c:\\gurobi\\gurobi.lic\n",
      "Set parameter CloudAccessID\n",
      "Set parameter CloudSecretKey\n",
      "Set parameter CloudPool to value 427039-DSM\n",
      "Waiting for cloud server to start (pool 427039-DSM)...\n",
      "Starting...\n",
      "Starting...\n",
      "Starting...\n",
      "Starting...\n",
      "Starting...\n",
      "Compute Server job ID: 6310fc22-36b6-4d25-9074-39eee9e9f278\n",
      "Capacity available on '427039-DSM' cloud pool - connecting...\n",
      "Established HTTPS encrypted connection\n"
     ]
    }
   ],
   "source": [
    "m = Model('Transportation model')"
   ]
  },
  {
   "cell_type": "markdown",
   "metadata": {},
   "source": [
    "### Decision variables"
   ]
  },
  {
   "cell_type": "markdown",
   "metadata": {},
   "source": [
    "How much to transport from which warehouse to which customer? (we cannot transport a negative amount -> lower bound = 0)"
   ]
  },
  {
   "cell_type": "code",
   "execution_count": 18,
   "metadata": {},
   "outputs": [],
   "source": [
    "x = m.addVars(warehouses, customers, lb=0)"
   ]
  },
  {
   "cell_type": "markdown",
   "metadata": {},
   "source": [
    "### Constraints"
   ]
  },
  {
   "cell_type": "markdown",
   "metadata": {},
   "source": [
    "Satisfy demand, i.e. for EACH customer we consider the aggregated transportation flows from all warehouses."
   ]
  },
  {
   "cell_type": "code",
   "execution_count": 20,
   "metadata": {},
   "outputs": [],
   "source": [
    "m.addConstrs(\n",
    "    x.sum('*', c) >= dem[c] for c in customers\n",
    ")\n",
    "m.update()"
   ]
  },
  {
   "cell_type": "markdown",
   "metadata": {},
   "source": [
    "Respect maximal warehouse capacity"
   ]
  },
  {
   "cell_type": "code",
   "execution_count": 21,
   "metadata": {},
   "outputs": [],
   "source": [
    "m.addConstrs(\n",
    "    x.sum(w, '*') <= cap[w] for w in warehouses\n",
    ")\n",
    "m.update()"
   ]
  },
  {
   "cell_type": "markdown",
   "metadata": {},
   "source": [
    "### Objective function"
   ]
  },
  {
   "cell_type": "markdown",
   "metadata": {},
   "source": [
    "The total transportation costs (unit*cost) is to be minimized"
   ]
  },
  {
   "cell_type": "code",
   "execution_count": 22,
   "metadata": {},
   "outputs": [],
   "source": [
    "m.setObjective(x.prod(transport_costs))"
   ]
  },
  {
   "cell_type": "markdown",
   "metadata": {},
   "source": [
    "### Solve the problem"
   ]
  },
  {
   "cell_type": "code",
   "execution_count": 23,
   "metadata": {},
   "outputs": [
    {
     "name": "stdout",
     "output_type": "stream",
     "text": [
      "Gurobi Optimizer version 9.1.0 build v9.1.0rc0 (win64)\n",
      "Gurobi Optimizer version 9.1.0 build v9.1.0rc0 (linux64)\n",
      "Thread count: 8 physical cores, 16 logical processors, using up to 16 threads\n",
      "Optimize a model with 8 rows, 15 columns and 30 nonzeros\n",
      "Model fingerprint: 0x6ddedd56\n",
      "Coefficient statistics:\n",
      "  Matrix range     [1e+00, 1e+00]\n",
      "  Objective range  [2e+00, 1e+01]\n",
      "  Bounds range     [0e+00, 0e+00]\n",
      "  RHS range        [8e+01, 5e+02]\n",
      "Presolve time: 0.01s\n",
      "Presolved: 8 rows, 15 columns, 30 nonzeros\n",
      "\n",
      "Iteration    Objective       Primal Inf.    Dual Inf.      Time\n",
      "       0    0.0000000e+00   9.400000e+02   0.000000e+00      0s\n",
      "       6    3.2100000e+03   0.000000e+00   0.000000e+00      0s\n",
      "\n",
      "Solved in 6 iterations and 0.02 seconds\n",
      "Optimal objective  3.210000000e+03\n"
     ]
    }
   ],
   "source": [
    "m.optimize()"
   ]
  },
  {
   "cell_type": "markdown",
   "metadata": {},
   "source": [
    "### Get the solution"
   ]
  },
  {
   "cell_type": "code",
   "execution_count": 25,
   "metadata": {},
   "outputs": [
    {
     "name": "stdout",
     "output_type": "stream",
     "text": [
      "From warehouse W1 to customer C1: 80.0\n",
      "From warehouse W1 to customer C2: 20.0\n",
      "From warehouse W1 to customer C3: 0.0\n",
      "From warehouse W1 to customer C4: 0.0\n",
      "From warehouse W1 to customer C5: 0.0\n",
      "From warehouse W2 to customer C1: 0.0\n",
      "From warehouse W2 to customer C2: 250.0\n",
      "From warehouse W2 to customer C3: 250.0\n",
      "From warehouse W2 to customer C4: 0.0\n",
      "From warehouse W2 to customer C5: 0.0\n",
      "From warehouse W3 to customer C1: 0.0\n",
      "From warehouse W3 to customer C2: 0.0\n",
      "From warehouse W3 to customer C3: 0.0\n",
      "From warehouse W3 to customer C4: 160.0\n",
      "From warehouse W3 to customer C5: 180.0\n",
      "The total transportation costs are 3210.0\n"
     ]
    }
   ],
   "source": [
    "for w in warehouses:\n",
    "    for c in customers:\n",
    "        print(f'From warehouse {w} to customer {c}: {x[w, c].X}')\n",
    "       \n",
    "print(f'The total transportation costs are {m.ObjVal}')"
   ]
  },
  {
   "cell_type": "markdown",
   "metadata": {},
   "source": [
    "### Summary\n",
    "\n",
    "The whole optimization problem consists of just these 6 lines of code"
   ]
  },
  {
   "cell_type": "code",
   "execution_count": 18,
   "metadata": {},
   "outputs": [
    {
     "name": "stdout",
     "output_type": "stream",
     "text": [
      "Gurobi Optimizer version 9.0.3 build v9.0.3rc0 (win64)\n",
      "Optimize a model with 8 rows, 15 columns and 30 nonzeros\n",
      "Model fingerprint: 0x6ddedd56\n",
      "Coefficient statistics:\n",
      "  Matrix range     [1e+00, 1e+00]\n",
      "  Objective range  [2e+00, 1e+01]\n",
      "  Bounds range     [0e+00, 0e+00]\n",
      "  RHS range        [8e+01, 5e+02]\n",
      "Presolve time: 0.00s\n",
      "Presolved: 8 rows, 15 columns, 30 nonzeros\n",
      "\n",
      "Iteration    Objective       Primal Inf.    Dual Inf.      Time\n",
      "       0    0.0000000e+00   9.400000e+02   0.000000e+00      0s\n",
      "       6    3.2100000e+03   0.000000e+00   0.000000e+00      0s\n",
      "\n",
      "Solved in 6 iterations and 0.00 seconds\n",
      "Optimal objective  3.210000000e+03\n"
     ]
    }
   ],
   "source": [
    "m = Model('Transportation model')\n",
    "x = m.addVars(warehouses, customers, lb=0)\n",
    "m.addConstrs(x.sum('*', c) >= dem[c] for c in customers)\n",
    "m.addConstrs(x.sum(w, '*') <= cap[w] for w in warehouses)\n",
    "m.setObjective(x.prod(transport_costs))\n",
    "m.optimize()"
   ]
  },
  {
   "cell_type": "code",
   "execution_count": null,
   "metadata": {},
   "outputs": [],
   "source": []
  }
 ],
 "metadata": {
  "kernelspec": {
   "display_name": "Python 3",
   "language": "python",
   "name": "python3"
  },
  "language_info": {
   "codemirror_mode": {
    "name": "ipython",
    "version": 3
   },
   "file_extension": ".py",
   "mimetype": "text/x-python",
   "name": "python",
   "nbconvert_exporter": "python",
   "pygments_lexer": "ipython3",
   "version": "3.7.8"
  }
 },
 "nbformat": 4,
 "nbformat_minor": 4
}
