{
 "cells": [
  {
   "cell_type": "code",
   "execution_count": null,
   "metadata": {},
   "outputs": [],
   "source": [
    "## ***Uncertainty Quantification***\n",
    "\n",
    "Exercise 3\n",
    "\n",
    "Prof. Dr. Martin Frank\n",
    "\n",
    "#### **EXERCISE SHEET 3**"
   ]
  },
  {
   "cell_type": "code",
   "execution_count": null,
   "metadata": {},
   "outputs": [],
   "source": [
    "!pip install chaospy\n",
    "import numpy as np\n",
    "import math\n",
    "import scipy.special\n",
    "from mpl_toolkits.mplot3d import Axes3D  # noqa: F401 unused import\n",
    "import matplotlib.pyplot as plt\n",
    "from matplotlib import cm\n",
    "import chaospy.distributions.copulas.clayton"
   ]
  },
  {
   "cell_type": "markdown",
   "metadata": {},
   "source": [
    "&nbsp;&nbsp;&nbsp;&nbsp;&nbsp;&nbsp;   \n",
    "\n",
    "**EXERCISE 1)**\n",
    "\n",
    "Consider the ODE with uncertainties\n",
    "$$\n",
    "\\dot u(t,z) = -z_1 u(t,z),\\quad u(0,z)=z_2.\n",
    "$$ \n",
    "Derive expressions for the\n",
    "sensitivities of \n",
    "$$R(u(z)) = \\int_0^T u(t,z)dt$$ \n",
    "with respect to $z_1$ and $z_2$ by\n",
    "\n",
    "&nbsp;&nbsp;&nbsp;&nbsp;&nbsp;&nbsp;   (a) using the explicit solution,\n",
    "\n",
    "&nbsp;&nbsp;&nbsp;&nbsp;&nbsp;&nbsp;   (b) using forward differentiation,\n",
    "\n",
    "&nbsp;&nbsp;&nbsp;&nbsp;&nbsp;&nbsp;   (c) using adjoints."
   ]
  },
  {
   "cell_type": "markdown",
   "metadata": {},
   "source": [
    "\n",
    "&nbsp;\n",
    "\n",
    "**EXERCISE 2)**\n",
    "\n",
    "Assume a (discretized) system can be written in the form\n",
    "$$ E(u,z) = 0,$$\n",
    "\n",
    "where\n",
    "- the solution $u$ $\\in \\mathbb{R}^K$\n",
    "- the parameters $z$ $\\in \\mathbb{R}^N$\n",
    "\n",
    "and the constraint E: $\\mathbb{R}^K \\times \\mathbb{R}^N \\rightarrow \\mathbb{R}^K$ admits a unique solution for $u$ depending on $z$. Assume further that we have quantities of interest\n",
    "$$R(u) = R(u(z))$$\n",
    "with $R: \\mathbb{R}^K \\rightarrow \\mathbb{R}^I$. We are interested in the sensitivity of $R$ with respect to $z$, i.e.\n",
    "\n",
    "&nbsp;&nbsp;&nbsp;&nbsp;&nbsp;&nbsp;   (a) Derive formulas for the sensitivities by forward-differentiation.\n",
    "\n",
    "&nbsp;&nbsp;&nbsp;&nbsp;&nbsp;&nbsp;   (b) Derive formulas for the sensitivities by adjoint calculus.\n",
    "\n",
    "&nbsp;&nbsp;&nbsp;&nbsp;&nbsp;&nbsp;   (c) Discuss the dimensions of all objects. When is forward differentiation advantageous, when adjoints?\n",
    "\n",
    "&nbsp;\n"
   ]
  },
  {
   "cell_type": "code",
   "execution_count": null,
   "metadata": {},
   "outputs": [],
   "source": [
    "\n",
    "&nbsp;\n",
    "\n",
    "### **Additional Exercises**\n",
    "\n",
    "&nbsp;\n",
    "\n",
    "**EXERCISE 3)**\n",
    "\n",
    "We want to compute the expected value of $g(Z)=\\sqrt{Z} sin(2\\pi Z)$, where $Z$ is uniformly distributed in [0,1], with the help of Monte-Carlo. We use control variates to speed up the computation. \n",
    "\n",
    "&nbsp;&nbsp;&nbsp;&nbsp;&nbsp;&nbsp;   (a) Plot $g$ and the control variate $\\lambda$ by running the following block of code. Choose different values of $\\lambda$ and try to get \n",
    "\n"
   ]
  },
  {
   "cell_type": "code",
   "execution_count": null,
   "metadata": {},
   "outputs": [],
   "source": [
    "#Define g and h\n",
    "\n",
    "def g(Z):\n",
    "  y=math.sqrt(Z)*math.sin(2*math.pi*Z)\n",
    "  return y\n",
    "\n",
    "def h(Z):\n",
    "  y=math.sin(2*math.pi*Z)\n",
    "  return y \n",
    "\n",
    "g=np.vectorize(g)\n",
    "h=np.vectorize(h)\n",
    "\n",
    "#Plot g and control variate h\n",
    "lambda_c = 10\n",
    "zGrid = np.linspace(start=0,stop=1,num=1000)\n",
    "plt.figure(figsize=(8,5))\n",
    "plt.plot(zGrid,g(zGrid),label='g')\n",
    "plt.plot(zGrid,lambda_c*h(zGrid),linestyle='--',linewidth=2,label='h')\n",
    "_=plt.legend(shadow=True, fancybox=True)"
   ]
  },
  {
   "cell_type": "markdown",
   "metadata": {},
   "source": [
    "&nbsp;&nbsp;&nbsp;&nbsp;&nbsp;&nbsp;   (b) Compute the expected value of $g$ by using Monte Carlo with and without control variate. How does the choice of $\\lambda$ affect the solution?"
   ]
  },
  {
   "cell_type": "code",
   "execution_count": null,
   "metadata": {},
   "outputs": [],
   "source": [
    "N=5000  #number of samples\n",
    "\n",
    "tmpMC = 0\n",
    "tmpCV = 0\n",
    "\n",
    "expectedMC = np.zeros((N,1))\n",
    "expectedCV = np.zeros((N,1))\n",
    "\n",
    "for i in range(N):\n",
    "  Z=np.random.uniform(0,1,(1,1))\n",
    "\n",
    "  #Your code: Save MC and CV expectation value approximation with i+1 samples in expectedMC(i) and expectedCV(i)\n",
    "  #...\n",
    "  #expectedMC[i], expectedCV[i], tmpMC, tmpCV = solution_b(tmpMC,tmpCV,Z,lambda_c,i+1) #(run code section below exercise c) & uncomment this line to see solution)\n",
    "\n",
    "print(\"Expected value is {0}\".format(expectedMC[N-1]))\n",
    "\n",
    "expectedExact = -0.11980826271647446\n",
    "\n",
    "plt.figure(figsize=(8,5))\n",
    "plt.loglog(np.arange(1,N+1),abs(expectedMC-expectedExact),label='MC')\n",
    "plt.loglog(np.arange(1,N+1),abs(expectedCV-expectedExact),label='CV')\n",
    "plt.loglog(np.arange(1,N+1),1/np.sqrt(np.arange(1,N+1)),linestyle='--',linewidth=2,label='slope 1/2')\n",
    "_=plt.legend(shadow=True, fancybox=True)"
   ]
  },
  {
   "cell_type": "markdown",
   "metadata": {},
   "source": [
    "&nbsp;&nbsp;&nbsp;&nbsp;&nbsp;&nbsp;   (c) Look at the code below. What is implemented here? How is the value of $\\lambda$ picked?"
   ]
  },
  {
   "cell_type": "code",
   "execution_count": null,
   "metadata": {},
   "outputs": [],
   "source": [
    "def estimateCov (covOld,QgOld,N,Z):\n",
    "  y=(N-1)/N*covOld + 1/N* (g(Z)-QgOld)* (h(Z)-QgOld)\n",
    "  return y\n",
    "\n",
    "#Compute integral with CV and optimal lambda\n",
    "\n",
    "expectedCVL = np.zeros((N,1))\n",
    "tmpCVL = 0\n",
    "covOld = 0.5           #estimated covariance\n",
    "expectedOld = -0.1     #estimated mean\n",
    "varH = 0.5             #exact variance of function h\n",
    "\n",
    "for i in range(N):\n",
    "  Z = np.random.uniform(0,1,(1,1))\n",
    "  cov = estimateCov(covOld, expectedOld, i+1 , Z) #update covariance\n",
    "  lambdaOpt = cov/varH\n",
    "  tmpCVL = tmpCVL + (g(Z) - lambdaOpt*h(Z))\n",
    "  expectedCVL[i] = 1/(i+1)*tmpCVL\n",
    "  covOld = cov\n",
    "  expectedOld = expectedCVL[i]\n",
    "\n",
    "print(\"Expected value is {0}\".format(expectedCVL[N-1]))\n",
    "\n",
    "expectedExact = -0.11980826271647446\n",
    "plt.figure(figsize=(8,5))\n",
    "plt.loglog(np.arange(1,N+1),abs(expectedMC-expectedExact),label='MC')\n",
    "plt.loglog(np.arange(1,N+1),abs(expectedCV-expectedExact),linestyle='--',linewidth=2,label='CV')\n",
    "plt.loglog(np.arange(1,N+1),abs(expectedCVL-expectedExact),linestyle='-.',linewidth=2,label='CVOpt')\n",
    "plt.loglog(np.arange(1,N+1),1/np.sqrt(np.arange(1,N+1)),label='slope 1/2')\n",
    "_=plt.legend(shadow=True, fancybox=True)\n",
    "\n",
    "print(\"Lambda is {0}\".format(lambdaOpt))\n",
    "\n",
    "plt.figure(figsize=(8,5))\n",
    "plt.plot(zGrid,g(zGrid),label='g')\n",
    "plt.plot(zGrid,np.squeeze(lambdaOpt*h(zGrid)),label='$\\lambda_{Opt} \\; h$')\n",
    "plt.plot(zGrid,lambda_c*h(zGrid),linestyle='--',linewidth=2,label='$\\lambda \\; h$')\n",
    "_=plt.legend(shadow=True, fancybox=True)"
   ]
  },
  {
   "cell_type": "code",
   "execution_count": null,
   "metadata": {},
   "outputs": [],
   "source": [
    "#Solution to fill in field in (b)\n",
    "\n",
    "def solution_b (tmpMC,tmpCV,Z,lambda_c,i):\n",
    "  tmpMC = tmpMC + g(Z);\n",
    "  tmpCV = tmpCV + (g(Z)-lambda_c*h(Z));\n",
    "  expectedMC_i = (1.0/i)*tmpMC;\n",
    "  expectedCV_i = (1.0/i)*tmpCV;\n",
    "\n",
    "  return expectedMC_i, expectedCV_i, tmpMC, tmpCV"
   ]
  }
 ],
 "metadata": {
  "kernelspec": {
   "display_name": "Python 3 (ipykernel)",
   "language": "python",
   "name": "python3"
  },
  "language_info": {
   "codemirror_mode": {
    "name": "ipython",
    "version": 3
   },
   "file_extension": ".py",
   "mimetype": "text/x-python",
   "name": "python",
   "nbconvert_exporter": "python",
   "pygments_lexer": "ipython3",
   "version": "3.10.4"
  }
 },
 "nbformat": 4,
 "nbformat_minor": 4
}
