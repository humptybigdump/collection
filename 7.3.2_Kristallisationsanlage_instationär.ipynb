{
 "cells": [
  {
   "cell_type": "markdown",
   "id": "0f515752-63be-4bef-ac2c-71fa6693a36e",
   "metadata": {
    "tags": []
   },
   "source": [
    "# Kap. 7.3.2 Modellierung nichtlinearer, instationärer Prozesse\n",
    "## Kristallisationsanlage, instationär"
   ]
  },
  {
   "cell_type": "code",
   "execution_count": 11,
   "id": "a11c1a7d-5b8d-4035-b3e8-d42f0cfc4b1c",
   "metadata": {},
   "outputs": [],
   "source": [
    "from scipy.optimize import fsolve\n",
    "import numpy as np\n",
    "import pandas as pd\n",
    "import matplotlib.pyplot as plt"
   ]
  },
  {
   "cell_type": "markdown",
   "id": "8a25c480-c7fe-4e11-a229-c7e67e09aa9d",
   "metadata": {
    "tags": []
   },
   "source": [
    "# Definition der Funktion(en)"
   ]
  },
  {
   "cell_type": "code",
   "execution_count": 12,
   "id": "721ca594-f0d3-4849-b6fb-83784c2e52b2",
   "metadata": {},
   "outputs": [],
   "source": [
    "# System aus MODELLGLEICHUNGEN ohne differentielle Gleichungen \n",
    "# solange Sättigung noch nicht erreicht ist\n",
    "\n",
    "def EqSys_ohneF(X_var, X_para, M_KS, M_KW):\n",
    "     \n",
    "    # (Rück-)Benennung aller verwendeten Prozessgrößen\n",
    "    [M0, x0s, x0w, M5, x5s, x5w, \n",
    "     x3s, x3w, alpha, M_K, x2s_sat] = X_para\n",
    "    [M1, x1s, x1w, M2, x2s, x2w, M4, x4s, \n",
    "     x4w, M6, x6w, M7, x7s, x7w, x6s]  = X_var  # letzter Eintrag x6s\n",
    "    \n",
    "\n",
    "    res1 = M0 + M7 - M1              \n",
    "    res2 = M0*x0s + M7*x7s - M1*x1s  \n",
    "    res3 = M0*x0w + M7*x7w - M1*x1w  \n",
    "    res4 = M1 - M2 - M5             \n",
    "    res7 = M2 - M6                    # Gl.(7, 28a)\n",
    "    res8 = M2*x2s - M6*x6s            # Gl.(8, 28a)\n",
    "    res9 = M2*x2w - M6*x6w            # Gl.(9, 28a)\n",
    "    res10 = M6 - M4 - M7               \n",
    "    res11 = M6*x6s - M4*x4s - M7*x7s   \n",
    "    res12 = M6*x6w - M4*x4w - M7*x7w  \n",
    "    res18 = alpha*M6 - M4             \n",
    "    res20 = x2s*M_K - M_KS           \n",
    "    res22 = x2w*M_K - M_KW           \n",
    "    res23 = x6s - x7s                 \n",
    "    res24 = x6w - x7w                \n",
    "   \n",
    "    # zu minimierender Residuumsvektor\n",
    "    Res = [res1, res2, res3, res4, res7, res8, res9, res10, \n",
    "           res11, res12, res18, res20, res22, res23, res24]\n",
    "    \n",
    "    return Res"
   ]
  },
  {
   "cell_type": "code",
   "execution_count": 13,
   "id": "998272a0-34f4-4e42-9c8e-4cd1244b7b37",
   "metadata": {},
   "outputs": [],
   "source": [
    "# System aus MODELLGLEICHUNGEN ohne differentielle Gleichungen \n",
    "# sobald Sättigung erreicht ist\n",
    "\n",
    "def EqSys_mitF(X_var, X_para, M_KS, M_KW):\n",
    "   \n",
    "    # (Rück-)Benennung aller verwendeten Prozessgrößen\n",
    "    [M0, x0s, x0w, M5, x5s, x5w, \n",
    "     x3s, x3w, alpha, M_K, x6s] = X_para      # x6s = x2s_sat Gl.(28b)\n",
    "    [M1, x1s, x1w, M2, x2s, x2w, M4, x4s, \n",
    "     x4w, M6, x6w, M7, x7s, x7w, M3] = X_var  # letzter Eintrag M3\n",
    "\n",
    "    res1 = M0 + M7 - M1             \n",
    "    res2 = M0*x0s + M7*x7s - M1*x1s \n",
    "    res3 = M0*x0w + M7*x7w - M1*x1w \n",
    "    res4 = M1 - M2 - M5             \n",
    "    res7 = M2 - M3 - M6             \n",
    "    res8 = M2*x2s - M3*x3s - M6*x6s \n",
    "    res9 = M2*x2w - M3*x3w - M6*x6w  \n",
    "    res10 = M6 - M4 - M7              \n",
    "    res11 = M6*x6s - M4*x4s - M7*x7s  \n",
    "    res12 = M6*x6w - M4*x4w - M7*x7w \n",
    "    res18 = alpha*M6 - M4            \n",
    "    res20 = x2s*M_K - M_KS          \n",
    "    res22 = x2w*M_K - M_KW          \n",
    "    res23 = x6s - x7s                \n",
    "    res24 = x6w - x7w                \n",
    "   \n",
    "    # zu minimierender Residuumsvektor\n",
    "    Res = [res1, res2, res3, res4, res7, res8, res9, res10, \n",
    "           res11, res12, res18, res20, res22, res23, res24]\n",
    "    \n",
    "    return Res"
   ]
  },
  {
   "cell_type": "code",
   "execution_count": 14,
   "id": "7dd3fa06-731a-46e9-a43d-f6b76e5ab471",
   "metadata": {},
   "outputs": [],
   "source": [
    "# Approximation an instationäre Lösung als aufrufbare Funktion\n",
    "\n",
    "def zeit_iteration(X_para, X_var_0_ohneF, X_var_0_mitF, M_KS, M_KW, t_range):  \n",
    "    \n",
    "    x2s = M_KS/M_K   # Salzmassenanteil zu Beginn\n",
    "    \n",
    "    M_KS_list = [None] * len(t_range)\n",
    "    M_KW_list = [None] * len(t_range)\n",
    "    M1_list = [None] * len(t_range)\n",
    "    M2_list = [None] * len(t_range)\n",
    "    M3_list = [0] * len(t_range)       # da M3=0 vor Sättigung\n",
    "    M4_list = [None] * len(t_range)\n",
    "    M6_list = [None] * len(t_range)\n",
    "    M7_list = [None] * len(t_range)\n",
    "    x2s_list = [None] * len(t_range)\n",
    "    x2w_list = [None] * len(t_range)\n",
    "    \n",
    "    for i, t in enumerate(t_range):\n",
    "        \n",
    "        # falls Salzmassenanteil in Strom 2 kleiner als Löslichkeit x2s_sat\n",
    "        if (x2s <= x2s_sat): \n",
    "        \n",
    "            # Aufruf der Lösungsfunktion für algebraisches Gleichungssystem\n",
    "            X_var_ohneF = fsolve(lambda X_var_ohneF: \n",
    "                                 EqSys_ohneF(X_var_ohneF, X_para, M_KS, M_KW), \n",
    "                                 X_var_0_ohneF)\n",
    "            \n",
    "            [M1, x1s, x1w, M2, x2s, x2w, M4, x4s, \n",
    "             x4w, M6, x6w, M7, x7s, x7w, x6s] = X_var_ohneF\n",
    "\n",
    "            M_KS_list[i] = M_KS\n",
    "            M_KW_list[i] = M_KW\n",
    "            M1_list[i] = M1\n",
    "            M2_list[i] = M2\n",
    "            M4_list[i] = M4\n",
    "            M6_list[i] = M6\n",
    "            M7_list[i] = M7\n",
    "            x2s_list[i] = x2s\n",
    "            x2w_list[i] = x2w\n",
    "            \n",
    "            # Aktualisieren der differentiellen Prozessgrößen gemäß \n",
    "            # der diskretisierten instationären Differntialgleichungen\n",
    "            M_KS += delta_t*(M1*x1s - M2*x2s - M5*x5s) \n",
    "            M_KW += delta_t*(M1*x1w - M2*x2w - M5*x5w)\n",
    "            \n",
    "            # Aktualisierung der algebraischen Variablen\n",
    "            X_var_0_ohneF = X_var_ohneF\n",
    "\n",
    "        # falls Salzmassenanteil in Strom 2 größer als Löslichkeit x2s_sat    \n",
    "        elif (x2s > x2s_sat): \n",
    "\n",
    "            X_var_mitF = fsolve(lambda X_var_mitF: \n",
    "                                EqSys_mitF(X_var_mitF, X_para, M_KS, M_KW), \n",
    "                                X_var_0_mitF)\n",
    "            \n",
    "            [M1, x1s, x1w, M2, x2s, x2w, M4, x4s, \n",
    "             x4w, M6, x6w, M7, x7s, x7w, M3] = X_var_mitF\n",
    "            \n",
    "            M_KS_list[i] = M_KS\n",
    "            M_KW_list[i] = M_KW\n",
    "            M1_list[i] = M1\n",
    "            M2_list[i] = M2\n",
    "            M3_list[i] = M3\n",
    "            M4_list[i] = M4\n",
    "            M6_list[i] = M6\n",
    "            M7_list[i] = M7\n",
    "            x2s_list[i] = x2s\n",
    "            x2w_list[i] = x2w\n",
    "            \n",
    "            M_KS += delta_t*(M1*x1s - M2*x2s - M5*x5s) \n",
    "            M_KW += delta_t*(M1*x1w - M2*x2w - M5*x5w)\n",
    "            \n",
    "            X_var_0_mitF = X_var_mitF\n",
    "\n",
    "            \n",
    "    return (M_KS_list, M_KW_list, M1_list, \n",
    "            M2_list, M3_list, M4_list, M6_list, \n",
    "            M7_list, x2s_list, x2w_list)"
   ]
  },
  {
   "cell_type": "markdown",
   "id": "2b85b833-85e4-4f47-aa1d-a255739e130d",
   "metadata": {},
   "source": [
    "# Eingabe der Werte"
   ]
  },
  {
   "cell_type": "code",
   "execution_count": 15,
   "id": "7a307a71-c65c-4d5c-96fd-7d12d8da11bc",
   "metadata": {},
   "outputs": [],
   "source": [
    "'''\n",
    "alle Größen: \n",
    "t = Zeit [s]\n",
    "M = Massenstrom [kg/s]\n",
    "M_ = Masse [kg]\n",
    "x = Massenanteil in Strom [-]\n",
    "alpha = Splitfaktor [-]\n",
    "\n",
    "einige Indizes: (Indizierung siehe Modellgleichungen im Skript)\n",
    "_w = Wasser\n",
    "_s = Salz\n",
    "'''\n",
    "\n",
    "# Vorgabe PARAMETER (Typ ZWANG)\n",
    "M0 = 1000/3600    # Feed-Massenstrom [kg/s] Gl.(13)\n",
    "x0s = 0.5         # Gl.(14)\n",
    "x0w = 0.49        # Gl.(15)\n",
    "x5s = 0           # Gl.(16)\n",
    "x5w = 1           # Gl.(17)\n",
    "x3s = 1           # Gl.(25)\n",
    "x3w = 0           # Gl.(26)\n",
    "alpha = 0.1       # Gl.(19)\n",
    "M5 = 465.11/3600  # Gl.(27)     \n",
    "M_K = 2000        # Masse im Kristallisator [kg] Gl.(21) \n",
    "x2s_sat = 0.5     # Gl.(28b)\n",
    "X_para = [M0, x0s, x0w, M5, x5s, x5w, x3s, x3w, alpha, M_K, x2s_sat]\n",
    "\n",
    "# Variablen\n",
    "X_var_names_ohneF = ['M1', 'x1s', 'x1w', 'M2', 'x2s', 'x2w', 'M4', \n",
    "                     'x4s', 'x4w', 'M6', 'x6w', 'M7', 'x7s', 'x7w', 'x6s'] \n",
    "X_var_0_ohneF = [0.416, 0.33, 0.33, 0.277, 0.33, 0.33, 0.0277, \n",
    "                 0.33, 0.33, 0.277, 0.33, 0.138, 0.33, 0.33, 0.33]\n",
    "\n",
    "X_var_names_mitF = ['M1', 'x1s', 'x1w', 'M2', 'x2s', 'x2w', 'M4', \n",
    "                    'x4s', 'x4w', 'M6', 'x6w', 'M7', 'x7s', 'x7w', 'M3']\n",
    "X_var_0_mitF = [0.416, 0.33, 0.33, 0.277, 0.33, 0.33, 0.0277, \n",
    "                0.33, 0.33, 0.277, 0.33, 0.138, 0.33, 0.33, 0.0277]  \n",
    "\n",
    "# Differentielle VARIABLEN; benötigen Anfangswerte;\n",
    "M_KS = 0      # Salzmasse im Kristallisator [kg]\n",
    "M_KW = M_K    # Wassermasse im Kristallisator [kg]\n",
    "\n",
    "# Erzeugung von t-Inputvektor: Zeitwertsliste [s]\n",
    "delta_t = 10\n",
    "t_ende = 100000\n",
    "t_range = np.arange(0, t_ende+delta_t, delta_t)"
   ]
  },
  {
   "cell_type": "markdown",
   "id": "ae2fd12a-1c51-447e-bd25-9fb86f61d23d",
   "metadata": {},
   "source": [
    "# Lösung durch Aufruf der Funktion(en)"
   ]
  },
  {
   "cell_type": "code",
   "execution_count": 16,
   "id": "2d0b38d2-ba1f-4d47-97e8-9c7b2a39ab26",
   "metadata": {},
   "outputs": [],
   "source": [
    "# Aufruf der Funktion zur instationären Lösung:\n",
    "(M_KS_list, M_KW_list, M1_list, \n",
    " M2_list, M3_list, M4_list, M6_list, \n",
    " M7_list, x2s_list, x2w_list) = zeit_iteration(X_para, X_var_0_ohneF, \n",
    "                                               X_var_0_mitF, M_KS, M_KW, \n",
    "                                               t_range) "
   ]
  },
  {
   "cell_type": "code",
   "execution_count": 17,
   "id": "203c8e96-1f5a-4e2c-9b43-da8fcf063373",
   "metadata": {
    "tags": []
   },
   "outputs": [],
   "source": [
    "t_range =  [i/3600 for i in t_range]\n",
    "M1_list = [i*3600 for i in M1_list]\n",
    "M2_list = [i*3600 for i in M2_list]\n",
    "M3_list = [i*3600 for i in M3_list]\n",
    "M4_list = [i*3600 for i in M4_list]\n",
    "M6_list = [i*3600 for i in M6_list]\n",
    "M7_list = [i*3600 for i in M7_list]"
   ]
  },
  {
   "cell_type": "markdown",
   "id": "7f52a32a-ee1b-4da7-8ad5-821c60a34502",
   "metadata": {},
   "source": [
    "# Untersuchung der Ergebnisse"
   ]
  },
  {
   "cell_type": "code",
   "execution_count": 18,
   "id": "3350b58e-4e64-4ba1-b103-ede3a315de18",
   "metadata": {
    "tags": []
   },
   "outputs": [],
   "source": [
    "# Definition einer aufrufbaren Plotfunktion\n",
    "def plot_values(x_list, y_lists, \n",
    "                x_label='x_label', y_label='y_label', figname=None):\n",
    "    \n",
    "    fig, ax = plt.subplots()\n",
    "    \n",
    "    for y_list, name in y_lists:\n",
    "        ax.plot(x_list, y_list, label=name)\n",
    "    \n",
    "    plt.xlabel(x_label)\n",
    "    plt.ylabel(y_label)\n",
    "    plt.grid()\n",
    "    plt.legend()\n",
    "    \n",
    "    if figname != None:\n",
    "        fig.savefig(figname, dpi=300)"
   ]
  },
  {
   "cell_type": "code",
   "execution_count": 19,
   "id": "91f05346-9372-4bcc-90fb-f0d6ff9aea6e",
   "metadata": {},
   "outputs": [
    {
     "data": {
      "image/png": "[encoded data removed]",
      "text/plain": [
       "<Figure size 432x288 with 1 Axes>"
      ]
     },
     "metadata": {
      "needs_background": "light"
     },
     "output_type": "display_data"
    }
   ],
   "source": [
    "y_lists = [[M1_list, '\\u1E401'], [M2_list, '\\u1E402'], \n",
    "           [M3_list, '\\u1E403'], [M4_list, '\\u1E404'], \n",
    "           [M6_list, '\\u1E406'], [M7_list, '\\u1E407']]\n",
    "\n",
    "plot_values(t_range, y_lists, \n",
    "            x_label='Zeit t [h]', \n",
    "            y_label = 'Massenstöme $\\u1E40_{i}$ [kg/h]')"
   ]
  },
  {
   "cell_type": "code",
   "execution_count": 20,
   "id": "db98dd04-bcec-444f-9cea-2f0ea838990f",
   "metadata": {
    "tags": []
   },
   "outputs": [
    {
     "data": {
      "image/png": "[encoded data removed]",
      "text/plain": [
       "<Figure size 432x288 with 1 Axes>"
      ]
     },
     "metadata": {
      "needs_background": "light"
     },
     "output_type": "display_data"
    }
   ],
   "source": [
    "y_lists_x = [[x2s_list, 'x2s'], [x2w_list, 'x2w']]\n",
    "\n",
    "plot_values(t_range, y_lists_x, \n",
    "            x_label='Zeit t [h]', y_label = 'Massenanteil $x_{i}$ [-]')"
   ]
  },
  {
   "cell_type": "code",
   "execution_count": null,
   "id": "1e4974eb-ccf2-4cf8-a217-572b43d83808",
   "metadata": {},
   "outputs": [],
   "source": []
  },
  {
   "cell_type": "code",
   "execution_count": null,
   "id": "0462293e-8a1d-4a3c-8b7a-8bbf27360937",
   "metadata": {},
   "outputs": [],
   "source": []
  }
 ],
 "metadata": {
  "kernelspec": {
   "display_name": "Python 3 (ipykernel)",
   "language": "python",
   "name": "python3"
  },
  "language_info": {
   "codemirror_mode": {
    "name": "ipython",
    "version": 3
   },
   "file_extension": ".py",
   "mimetype": "text/x-python",
   "name": "python",
   "nbconvert_exporter": "python",
   "pygments_lexer": "ipython3",
   "version": "3.8.12"
  }
 },
 "nbformat": 4,
 "nbformat_minor": 5
}
