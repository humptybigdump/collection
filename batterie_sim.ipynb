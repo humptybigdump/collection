{
 "cells": [
  {
   "cell_type": "markdown",
   "id": "65394c59-ee89-4400-84e0-40be496dac48",
   "metadata": {},
   "source": [
    "# Simulation einer Batterie\n",
    "\n",
    "Ihr müsst eine \"Zelle\" ausführen. Hierzu einfach den kleinen play button drücken oder Umschalt+Enter wen ihr in einen Block klickt unten könnt Ihr dann Werte einsetzen\n",
    "\n",
    "Hierfür müsst Ihr PyBAMM installieren\n",
    "das geht via \n",
    "```\n",
    "pip install pybamm\n",
    "```\n"
   ]
  },
  {
   "cell_type": "code",
   "execution_count": null,
   "id": "e47d1e36-3b03-4ee8-b102-4be8b13cfbeb",
   "metadata": {},
   "outputs": [],
   "source": [
    "#ein paar importe damit wir loslegen können\n",
    "import pybamm\n",
    "import matplotlib.pyplot as plt"
   ]
  },
  {
   "cell_type": "markdown",
   "id": "e154f6a8-2af4-4dd4-ae69-e993e079590a",
   "metadata": {},
   "source": [
    "Im folgenden werden wir ein ziemliches Standartexperiment in der Baterieforschung machen: das sogenannte CCCV experiment. Zuerst legt man einen konstanten Strom (constant current - CC) und dann eine konstante spannung (constant voltage - CV). Im Grunde handelt es sich hierbei um zuerst ein Chronopotentiometrisches und dann um ein Chronoamperometrisches Messverfahren.\\\n",
    "Idr gibt man den Ladestrom in einer C-Rate an d.h. ein 1C Strom Läd die Batterie in Einer Stunde d.h. wenn es eine Batterie wäre mit 3.4Ah dann wäre eine 1C Rate eben 3.4A. Wenn man 5C macht dementsprechen der Strom der die Batterie theoretisch in 1/5 Stunde - also 12 min - laden würde usw. Läd man Langsamer Schreibt man idr C/6 also eine volle Ladung in 6-Stunden. Man kann aber auch 1/6C schreiben.\\\n",
    "In CV part legt man die maximale Spannung an die noch sicher ist - hier nun 4.1V. Das mach man so lange bis ein gewisser minimaler Strom Erreicht ist. Ihr könnt euch das so vorstellen das die Batterie im CC teil auf ca. 95% oder so läd und man dann im CV part auf 100% läd. Das schauen wir uns noch genauer an!\\\n",
    "Damit die Zelle nicht zu warm wird sollte man sie ein wenig ruhen lassen.\\\n",
    "Im folgenden machen wir nun einen langsamen Lade- und Entladezyklus!"
   ]
  },
  {
   "cell_type": "code",
   "execution_count": null,
   "id": "f8ae60d6-4136-4c54-91ae-578fa44333c7",
   "metadata": {},
   "outputs": [],
   "source": [
    "pybamm.set_logging_level(\"INFO\")\n",
    "experiment = pybamm.Experiment(\n",
    "    [\n",
    "        (\n",
    "            \"Charge at C/20 until 4.1 V\",\n",
    "            \"Hold at 4.1 V until C/50\",\n",
    "            \"Rest for 1 hour\",\n",
    "            \"Discharge at C/20 until 3.3 V\",\n",
    "\n",
    "        )\n",
    "    ]\n",
    ")\n",
    "model = pybamm.lithium_ion.DFN()\n",
    "\n",
    "sim = pybamm.Simulation(\n",
    "    model, experiment=experiment, solver=pybamm.CasadiSolver(\"fast with events\")\n",
    ")\n",
    "sim.solve(initial_soc=0.0)"
   ]
  },
  {
   "cell_type": "markdown",
   "id": "7048b07d-05ee-4ad1-95bc-6f21a0c15fe7",
   "metadata": {},
   "source": [
    "Wir plotten nun das Ergebnis und schauen uns den Spannungsverlauf genauer an!"
   ]
  },
  {
   "cell_type": "code",
   "execution_count": null,
   "id": "c56287d8-2363-45d6-afce-a4fd9fd1b15c",
   "metadata": {},
   "outputs": [],
   "source": [
    "t = sol[\"Time [h]\"].entries\n",
    "V = sol[\"Terminal voltage [V]\"].entries\n",
    "I = sol[\"Current [A]\"].entries\n",
    "\n",
    "plt.plot(t,V,label=\"C/20\")\n",
    "plt.legend()\n",
    "plt.xlabel(\"Time [h]\")\n",
    "plt.xlabel(\"Potential [V]\")\n",
    "plt.show()"
   ]
  },
  {
   "cell_type": "markdown",
   "id": "00a2386f-716b-4334-8b27-282e3a47f433",
   "metadata": {},
   "source": [
    "In der Vorlesung werden wir das einwenig genauer diskutieren aber schaut euch qualitativ den Verlauf an!\n",
    "Ein Paar Fragen zum überlegen:\\\n",
    "1) Bis zu welchen state of charge (SOC) laden wir in etwa im CC teil?\n",
    "2) Warum macht die Spannung solche \"Wellen\"?"
   ]
  },
  {
   "cell_type": "markdown",
   "id": "b3739854-95f5-4894-b6de-9978c1ad576e",
   "metadata": {},
   "source": [
    "# Vergleich zu LFP\n",
    "Lithium Eisen Phosphat ist eine sehr günstige und umweltfreundliche Alternative zu NMC. Wir simulieren mal eine solche zelle!"
   ]
  },
  {
   "cell_type": "code",
   "execution_count": null,
   "id": "e4c1af4e-d5b6-4ab2-87bc-f190edceb0eb",
   "metadata": {},
   "outputs": [],
   "source": [
    "\n",
    "#let's look at LFP\n",
    "parameter_values = pybamm.ParameterValues(\"Prada2013\")\n",
    "\n",
    "experiment = pybamm.Experiment(\n",
    "    [\n",
    "        (\n",
    "            \"Charge at C/20 until 3.9 V\",\n",
    "            \"Hold at 3.9 V until C/50\",\n",
    "            \"Rest for 1 hour\",\n",
    "            \"Discharge at C/20 until 2.1 V\",\n",
    "\n",
    "        )\n",
    "    ]\n",
    ")\n",
    "\n",
    "sim = pybamm.Simulation(\n",
    "    model, experiment=experiment, solver=pybamm.CasadiSolver(\"safe\"),parameter_values=parameter_values\n",
    ")\n",
    "sol = sim.solve(initial_soc=0.00)\n",
    "\n",
    "t = sol[\"Time [h]\"].entries\n",
    "V = sol[\"Terminal voltage [V]\"].entries\n",
    "I = sol[\"Current [A]\"].entries\n",
    "\n",
    "plt.plot(t,V,label=\"C/20\")\n",
    "plt.legend()\n",
    "plt.xlabel(\"Time [h]\")\n",
    "plt.xlabel(\"Potential [V]\")\n",
    "plt.show()"
   ]
  },
  {
   "cell_type": "markdown",
   "id": "ace9c7e5-fa64-4891-8349-dc2a644c649e",
   "metadata": {},
   "source": [
    "Was fällt euch auf? Habt ihr eine Ahnung warum es ein Plateau gibt?"
   ]
  },
  {
   "cell_type": "markdown",
   "id": "f48a7ead-8bb8-49e7-9b34-0376d7073e5d",
   "metadata": {},
   "source": [
    "# Ein bisschen schnell laden!\n",
    "\n",
    "Wir schauen uns mal an wie das Ladeverhalten bei unterschiedlichen C-raten aussieht"
   ]
  },
  {
   "cell_type": "code",
   "execution_count": null,
   "id": "60f1112d-8516-4a21-b36b-5e47008b7d5f",
   "metadata": {},
   "outputs": [],
   "source": [
    "\n",
    "raten = [1/24, 1/10, 1/5, 1]\n",
    "for rate in raten:\n",
    "    print(rate)\n",
    "    experiment = pybamm.Experiment(\n",
    "        [\n",
    "            (\n",
    "                \"Charge at {}C until 3.9 V\".format(rate),\n",
    "                \"Hold at 3.9 V until C/50\",\n",
    "                \"Rest for 1 hour\",\n",
    "                \"Discharge at {}C until 2.1 V\".format(rate),\n",
    "            )\n",
    "        ]\n",
    "    )\n",
    "\n",
    "    sim = pybamm.Simulation(\n",
    "        model, experiment=experiment, solver=pybamm.CasadiSolver(\"safe\")\n",
    "    )\n",
    "    sol = sim.solve(initial_soc=0.001)\n",
    "\n",
    "    t = sol[\"Time [h]\"].entries\n",
    "    V = sol[\"Terminal voltage [V]\"].entries\n",
    "    I = sol[\"Current [A]\"].entries\n",
    "    capa = -sol['Discharge capacity [A.h]'].entries\n",
    "    plt.plot(capa,V,label=\"{}C\".format(rate))\n",
    "    plt.legend()\n",
    "    plt.xlabel(\"Capacity [A.h]\")\n",
    "    plt.ylabel(\"Potential [V]\")\n",
    "plt.show()"
   ]
  },
  {
   "cell_type": "markdown",
   "id": "7f815bcd-e339-41f2-b669-7982f54e490c",
   "metadata": {},
   "source": [
    "Schaut euch das ergebnis an und überlegt mal welche form des ladens besonders energie (in)effizient ist!\n",
    "\n",
    "Nur um ein paar Zahlen zu nennen: Mein Auto hatte 77kWh und wurde von mir auf dem Weg von/nach Karlsruhe meistens einmal kurz mit 250kW geladen -> Was ist das in etwa für eine C-rate und wie effizient ist das (Akkukühlung ausgenommen!)?"
   ]
  },
  {
   "cell_type": "code",
   "execution_count": null,
   "id": "e962d9e6-6a85-403b-bdff-e3bf36bf45d5",
   "metadata": {},
   "outputs": [],
   "source": []
  }
 ],
 "metadata": {
  "kernelspec": {
   "display_name": "Python 3 (ipykernel)",
   "language": "python",
   "name": "python3"
  },
  "language_info": {
   "name": ""
  }
 },
 "nbformat": 4,
 "nbformat_minor": 5
}
