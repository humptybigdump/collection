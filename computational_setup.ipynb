{
 "cells": [
  {
   "cell_type": "markdown",
   "id": "4941973a-b842-4e09-bccf-c7452bc17f09",
   "metadata": {},
   "source": [
    "# Exercise 0: Computational Setup"
   ]
  },
  {
   "cell_type": "markdown",
   "id": "d6c367a9-9726-494c-a524-4fc8856eef51",
   "metadata": {},
   "source": [
    "This notebook covers some basic functionalities we will use throughout the lecture. We will roughly address the following points:\n",
    "1. **Overview of notebook cells**\n",
    "2. **IPython command magic**\n",
    "3. **Debugging your code**\n",
    "4. **Interactive visualization with widgets**\n",
    "5. **Some general tips**\n",
    "\n",
    "This is just a very brief (and incomplete) overview. If you would like to learn more about Jupyter, have a look at the extensive [documentation](https://docs.jupyter.org/en/latest/)"
   ]
  },
  {
   "cell_type": "markdown",
   "id": "457bbcdc-69f2-4eab-951c-31f757bb6d0b",
   "metadata": {},
   "source": [
    "# Overview of Notebook Cells"
   ]
  },
  {
   "cell_type": "markdown",
   "id": "aeac4879-6649-4679-8884-d48730a9e3a2",
   "metadata": {},
   "source": [
    "### Markdown Cells\n",
    "\n",
    "Jupyter notebook cells can be rendered as standard [Markdown](https://www.markdownguide.org/basic-syntax/)\n",
    "\n",
    "We can also embed **links, images, sounds and animations**:\n",
    "\n",
    "![Neural Network](neural_network.svg)"
   ]
  },
  {
   "cell_type": "markdown",
   "id": "d81b7c0d-a0db-4a16-8fda-cf74ab329da3",
   "metadata": {},
   "source": [
    "[Mathjax](https://www.mathjax.org/) allows for the Latex-like definition of math equations:\n",
    "\n",
    "$$ \\bigg\\{ -\\frac{\\hbar}{2\\mu r^2} \\bigg[ \\frac{\\partial}{\\partial r} \\big( r^2 \\frac{\\partial}{\\partial r} \\big) + \\frac{1}{\\mathrm{sin}(\\theta)} \\frac{\\partial}{\\partial\\theta} \\big( \\mathrm{sin}(\\theta)\\frac{\\partial}{\\partial\\theta} \\big) + \\frac{1}{\\mathrm{sin}^2(\\theta)}\\frac{\\partial^2}{\\partial\\phi^2} \\bigg] -\\frac{e^2}{4\\pi\\epsilon_0 r} \\bigg\\} \\psi(r,\\theta,\\phi) = E \\psi(r,\\theta,\\phi)$$"
   ]
  },
  {
   "cell_type": "markdown",
   "id": "a2b59cf8-3241-4ce9-9658-3c036162d3ca",
   "metadata": {},
   "source": [
    "### Code Cells\n",
    "\n",
    "Code cells are executed via the [IPython interpreter](https://ipython.readthedocs.io/en/stable/) that has lots of cool features compared to standard Python (as we will see later). The output of code cells is always shown below the cell itself.\n",
    "\n",
    "Jupyter notebooks have **two output modes**: \n",
    "1. *Explicit* output, e.g. via the `print()` function\n",
    "2. *Automatic* output of the last computational result of the cell\n",
    "\n",
    "You will also notice that code cells have a `[]` identifier on their left side. The identifier shows the *execution order* (`[xyz]`) or that a computation is *in progress* (`[*]`). We further use the [Language Server Protocol](https://jupyterlab-lsp.readthedocs.io/en/latest/index.html) for quick docs, autocompletion and other enhancements."
   ]
  },
  {
   "cell_type": "markdown",
   "id": "92aecbf5-834e-44ae-aea7-bf7819b91d43",
   "metadata": {},
   "source": [
    "#### Quick example"
   ]
  },
  {
   "cell_type": "code",
   "execution_count": null,
   "id": "618540c3-9ed4-4542-8fa9-1b99bc26028c",
   "metadata": {},
   "outputs": [],
   "source": [
    "import numpy as np\n",
    "\n",
    "# Compute mean and standard deviation for a sequence of random numbers:\n",
    "rand_num_gen = np.random.default_rng()\n",
    "rand_num_arr = rand_num_gen.uniform(0, 1, 100)\n",
    "mean_val = np.mean(rand_num_arr)\n",
    "variance_val = np.var(rand_num_arr)\n",
    "\n",
    "# This is explicit output\n",
    "print(f\"Mean: {mean_val}\\nVariance: {variance_val}\")\n",
    "\n",
    "# This is automatic output\n",
    "[mean_val, variance_val]"
   ]
  },
  {
   "cell_type": "markdown",
   "id": "61070583-516f-421f-a67f-b2b812532e1c",
   "metadata": {},
   "source": [
    "\n",
    "\n",
    "# IPython Command Magic"
   ]
  },
  {
   "cell_type": "markdown",
   "id": "a1f39c87",
   "metadata": {},
   "source": [
    "IPython provides cool additional features via [Magic Commands](https://ipython.readthedocs.io/en/stable/interactive/magics.html). We distinguish between *line magic*, prefixed by `%`, and *cell magic*, prefixed by `%%`. Note that the list below is not exhaustive, but rather a short overview of directives that may be useful to you."
   ]
  },
  {
   "cell_type": "markdown",
   "id": "d872de16-a6d0-41c1-8367-0c8920f0bd31",
   "metadata": {},
   "source": [
    "Two other helpful command symbols are `?` and `!`. Appending a command with `?` shows the documentation of the that command. Prefixing a line with `!` translates that line into a system call."
   ]
  },
  {
   "cell_type": "code",
   "execution_count": null,
   "id": "773949b0",
   "metadata": {},
   "outputs": [],
   "source": [
    "print?"
   ]
  },
  {
   "cell_type": "markdown",
   "id": "9126bbe8-c8d6-401d-966d-55360a8e8f74",
   "metadata": {},
   "source": [
    "This command works on linux only:"
   ]
  },
  {
   "cell_type": "code",
   "execution_count": null,
   "id": "467c34c6",
   "metadata": {},
   "outputs": [],
   "source": [
    "!pwd"
   ]
  },
  {
   "cell_type": "markdown",
   "id": "5f5a0a67",
   "metadata": {},
   "source": [
    "The `%lsmagic`, `%quickref` and `%magic`directives show a list of available commands and more extensive documentation, respectively."
   ]
  },
  {
   "cell_type": "code",
   "execution_count": null,
   "id": "29c4f627",
   "metadata": {},
   "outputs": [],
   "source": [
    "%lsmagic"
   ]
  },
  {
   "cell_type": "code",
   "execution_count": null,
   "id": "ee4d57af",
   "metadata": {},
   "outputs": [],
   "source": [
    "%quickref"
   ]
  },
  {
   "cell_type": "code",
   "execution_count": null,
   "id": "709771a4",
   "metadata": {},
   "outputs": [],
   "source": [
    "%magic"
   ]
  },
  {
   "cell_type": "markdown",
   "id": "38d58e84-8d2e-4da0-8255-3eac1dea965a",
   "metadata": {},
   "source": [
    "We can time command execution with `%time`"
   ]
  },
  {
   "cell_type": "code",
   "execution_count": null,
   "id": "02f6af81",
   "metadata": {},
   "outputs": [],
   "source": [
    "%time for _ in range(1000): True"
   ]
  },
  {
   "cell_type": "markdown",
   "id": "59ee97dc-80af-4cb1-bb5d-059ef09b09bf",
   "metadata": {},
   "source": [
    "or, more elaborately, with `%timeit`, which executes a command multiple times and evaluates the runtime statistics."
   ]
  },
  {
   "cell_type": "code",
   "execution_count": null,
   "id": "8cf001f1",
   "metadata": {},
   "outputs": [],
   "source": [
    "%timeit for _ in range(1000): True"
   ]
  },
  {
   "cell_type": "markdown",
   "id": "3a913f0d-3cee-4b29-ac8d-528b6a339035",
   "metadata": {},
   "source": [
    "The `%run` directive allows us to call external Python scripts."
   ]
  },
  {
   "cell_type": "code",
   "execution_count": null,
   "id": "a7ad41eb",
   "metadata": {},
   "outputs": [],
   "source": [
    "%run external.py"
   ]
  },
  {
   "cell_type": "markdown",
   "id": "01677b5b-9018-4ebc-beb4-05f7371619e0",
   "metadata": {},
   "source": [
    "We can also use the `conda` cli from within a notebook, e.g. to install additional packages."
   ]
  },
  {
   "cell_type": "code",
   "execution_count": null,
   "id": "f711a008",
   "metadata": {},
   "outputs": [],
   "source": [
    "%conda install numpy"
   ]
  },
  {
   "cell_type": "markdown",
   "id": "f0a91e37-63dc-40ff-b619-33a4eefce797",
   "metadata": {},
   "source": [
    "For visualization with `matplotlib`, notebooks provide a number of different backends. Note that not every backend might work in every situation. A save bet is the default option `inline`, which generates static plots. "
   ]
  },
  {
   "cell_type": "code",
   "execution_count": null,
   "id": "6fdeb5ef",
   "metadata": {},
   "outputs": [],
   "source": [
    "%matplotlib --list"
   ]
  },
  {
   "cell_type": "code",
   "execution_count": null,
   "id": "94ddbdc1",
   "metadata": {},
   "outputs": [],
   "source": [
    "%matplotlib widget\n",
    "\n",
    "import numpy as np\n",
    "import matplotlib.pyplot as plt\n",
    "\n",
    "rand_num_gen = np.random.default_rng()\n",
    "rand_num_arr = rand_num_gen.uniform(0, 1, 100)\n",
    "\n",
    "data = {'a': np.arange(50),\n",
    "        'b': np.arange(50) + 10 * rand_num_gen.normal(size=50),\n",
    "        'c': rand_num_gen.integers(low=0, high=50, size=50),\n",
    "        'd': 1000 * np.abs(rand_num_gen.normal(size=50))}\n",
    "\n",
    "_, ax = plt.subplots()\n",
    "ax.scatter('a', 'b', c='c', s='d', data=data)\n",
    "ax.set_xlabel('entry a')\n",
    "ax.set_ylabel('entry b')"
   ]
  },
  {
   "cell_type": "markdown",
   "id": "53204634-eddf-4319-bdb2-c1805713a330",
   "metadata": {},
   "source": [
    "# Debugging your Code"
   ]
  },
  {
   "cell_type": "markdown",
   "id": "239bd1f2-b5d0-4e62-91c8-569182e3ff30",
   "metadata": {},
   "source": [
    "Jupyterlab ships with a debugger frontend by default. Just click on the bug symbol in the top right corner to enter debugging mode."
   ]
  },
  {
   "cell_type": "code",
   "execution_count": null,
   "id": "c2d7dde5-eecf-44dc-993e-6aef9b92ab2e",
   "metadata": {},
   "outputs": [],
   "source": [
    "def add(a, b):\n",
    "    return a+b\n",
    "\n",
    "\n",
    "result = add(1, 2)\n",
    "result"
   ]
  },
  {
   "cell_type": "markdown",
   "id": "273a1e1a-c194-420e-9ed1-578de5c95a45",
   "metadata": {},
   "source": [
    "# Interactive Widgets"
   ]
  },
  {
   "cell_type": "markdown",
   "id": "04e38403-c9f9-4831-8ab7-09c95df14f73",
   "metadata": {},
   "source": [
    "The [IPyWidgets](https://ipywidgets.readthedocs.io/en/stable/) library provides some great functionalities for interactive data representation and visualization. It provides various elements such as sliders, buttons, text boxes, etc. These elements can be linked to function arguments in Python. Each time we interact with an element, the function is executed with the modified value for the argument."
   ]
  },
  {
   "cell_type": "code",
   "execution_count": null,
   "id": "6c7bb1c7-53c9-48cc-9b3c-665bf9f26c52",
   "metadata": {},
   "outputs": [],
   "source": [
    "%matplotlib widget\n",
    "\n",
    "import numpy as np\n",
    "import ipywidgets as widgets\n",
    "import matplotlib.pyplot as plt\n",
    "\n",
    "_, ax = plt.subplots()\n",
    "\n",
    "def plot_sine(frequency, ax):\n",
    "    ax.clear()\n",
    "    x = np.arange(0, 2*np.pi, 0.01)\n",
    "    y = np.sin(frequency*x)\n",
    "    ax.plot(x, y)\n",
    "\n",
    "\n",
    "interactive_plot = widgets.interact(plot_sine, \n",
    "                                    frequency=widgets.FloatSlider(value=5, min=1, max=10, step=0.1),\n",
    "                                    ax=widgets.fixed(ax))"
   ]
  },
  {
   "cell_type": "markdown",
   "id": "b347a7f4-8568-4528-96df-59be9295f915",
   "metadata": {},
   "source": [
    "**Additional Hint:** IPython stores all matplotlib figures until they are explicitly deleted. If you call a function like the above too often, it might clutter your memory. Call `plt.close('all')` to close all figures currently in memory."
   ]
  },
  {
   "cell_type": "markdown",
   "id": "e8b0f826-9d39-4db9-9585-948ce6f81149",
   "metadata": {},
   "source": [
    "# Some General Tips"
   ]
  },
  {
   "cell_type": "markdown",
   "id": "414287e6-dcbe-4d48-b20b-c42dfb948f7a",
   "metadata": {},
   "source": [
    "- **Be aware of the ambiguous execution order:** Code might have unintended side effects depending on the order in which cells are executed\n",
    "- **Write coherent code:** To minimize ordering effects. Import all libraries at the top of the file, put into one cell what belongs together, do not re-use variables excessively, define namespaces\n",
    "- **Modularize:** Write functions and classes, keep notebooks short and create multiple files\n",
    "- **Use a consistent (and practical) coding style:** Check out [PEP8](https://peps.python.org/pep-0008/) or the [Google style guide](https://google.github.io/styleguide/pyguide.html), use expressive names for everything\n",
    "- **Write Documentation:** In Markdown cells or with [Docstrings](https://realpython.com/documenting-python-code/) \n",
    "- **Write proper headers:** Give a title, a description of the notebook, and an overview of its contents\n",
    "- **Learn keyboard shortcuts:** Super helpful!"
   ]
  },
  {
   "cell_type": "markdown",
   "id": "65e3b4ef-951a-4451-9779-4192713a1cb8",
   "metadata": {},
   "source": [
    "# Testing the Virtual Environment"
   ]
  },
  {
   "cell_type": "markdown",
   "id": "a60e2707-32c4-42aa-b434-64fca5d6b025",
   "metadata": {},
   "source": [
    "To check if our virtual environment is set up correctly, we import some of the most relevant libraries. The code below should run without any errors."
   ]
  },
  {
   "cell_type": "code",
   "execution_count": null,
   "id": "c7718392-de68-4893-87ae-c095dff0ed5b",
   "metadata": {},
   "outputs": [],
   "source": [
    "import ipywidgets\n",
    "import matplotlib\n",
    "import numpy\n",
    "import pandas\n",
    "import scipy\n",
    "import seaborn\n",
    "import sklearn"
   ]
  }
 ],
 "metadata": {
  "kernelspec": {
   "display_name": "Python 3 (ipykernel)",
   "language": "python",
   "name": "python3"
  },
  "language_info": {
   "codemirror_mode": {
    "name": "ipython",
    "version": 3
   },
   "file_extension": ".py",
   "mimetype": "text/x-python",
   "name": "python",
   "nbconvert_exporter": "python",
   "pygments_lexer": "ipython3",
   "version": "3.11.3"
  }
 },
 "nbformat": 4,
 "nbformat_minor": 5
}
