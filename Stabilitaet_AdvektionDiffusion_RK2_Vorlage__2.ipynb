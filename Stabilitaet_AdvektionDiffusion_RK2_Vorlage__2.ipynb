{
 "cells": [
  {
   "cell_type": "markdown",
   "metadata": {},
   "source": [
    "# Numerische Verifizierung der von Neumann Stbilitätsanalyse"
   ]
  },
  {
   "cell_type": "code",
   "execution_count": null,
   "metadata": {},
   "outputs": [],
   "source": [
    "# wie immer, lass uns einige wichtige Module importieren\n",
    "import numpy as np\n",
    "from matplotlib import pyplot as plt\n",
    "from matplotlib import ticker as mtick"
   ]
  },
  {
   "cell_type": "markdown",
   "metadata": {},
   "source": [
    "---"
   ]
  },
  {
   "cell_type": "markdown",
   "metadata": {},
   "source": [
    "## Aufgabe 9.2"
   ]
  },
  {
   "cell_type": "markdown",
   "metadata": {},
   "source": [
    "### Zusatz zu Aufgabe 9.2b)\n",
    "\n",
    "In der Aufgabe wird gefragt, die Eigenwerte $(\\Delta t \\lambda_j)$ des diskreten räumlichen Operators $R(\\phi)$ herzuleiten. Wenn Sie es noch nicht gemacht haben, leiten Sie den Ausdruck analytisch her und stellen Sie danach das Ergebnis hier graphisch dar. "
   ]
  },
  {
   "cell_type": "code",
   "execution_count": null,
   "metadata": {},
   "outputs": [],
   "source": [
    "# Wir definieren den Vektor\n",
    "# des Phasenwinkels theta, wobei 0<=theta<=2pi\n",
    "# und diskretisieren theta mit 1000 Punkte\n",
    "\n",
    "# Wir definieren zwei beliebige (sigma,beta)-Werte\n",
    "\n",
    "# Wir berechnen die Eigenwerte lambda*dt\n",
    "\n",
    "# Wir stellen die Mende der Eigenwerte dar in dem\n",
    "# Raum der komplexen Zahlen\n"
   ]
  },
  {
   "cell_type": "markdown",
   "metadata": {},
   "source": [
    "### Zusatz zu Aufgabe 9.2d)\n",
    "\n",
    "In der Aufgabe wird gefragt, die Stabiltätsregion des vorgeschlagenen Runge--Kutta Verfahrens zu berechnen. Das Ergebnis ist ein komplexer Ausdruck, welcher sich am Besten graphisch darstellen lässt. Leiten Sie den Ausdruck für die marginale Stabilitätsregion und stellen das Ergebnis hier unten graphisch dar. "
   ]
  },
  {
   "cell_type": "code",
   "execution_count": null,
   "metadata": {},
   "outputs": [],
   "source": [
    "# Wir haben den Vektor theta hier oben bereits definiert\n",
    "\n",
    "# Wir definieren den Ausdruck der marginalen Stabilität (dt*lambdaLIM).\n",
    "# Das müssen wir sowohl für die Lösung mit + und -\n",
    "\n",
    "# Wir stellen die Menge der Eigenwerte, welche zur marginalen Stabilität führen, \n",
    "# in dem Raum der komplexen Zahlen graphisch dar\n"
   ]
  },
  {
   "cell_type": "markdown",
   "metadata": {},
   "source": [
    "### Zusatz zu Aufgabe 9.2e)\n",
    "\n",
    "In der Aufgabe wird gefragt, die Stabiltätsregion des Gesamtverfahrens zu berechnen. Diese ist von zwei Kurven eingeschlossen. Eine davon weist einen komplexen Ausdruck auf uns kann nur graphisch dargestellt werden. Stellen die neutrale Stabilitätskurven des Gesamtverfahrens dar."
   ]
  },
  {
   "cell_type": "code",
   "execution_count": null,
   "metadata": {},
   "outputs": [],
   "source": [
    "# Wir definieren theta neu, weil der bereich sich geänder hat\n",
    "# und ist jetzt 0<=theta<=pi\n",
    "\n",
    "# Wir gehen jetzt alle theta durch und finden die Paare (sigma, beta), die \n",
    "# zur marginalen Stabilität durch die zweite Bedingung führen \n",
    "# Es reicht hierfür, dass wir die Teillösung mit dem \"+\" berücksichtigen\n",
    "\n",
    "\n",
    "# Wir stellen das Ergebnis im Raum (sigma, beta) dar\n"
   ]
  },
  {
   "cell_type": "markdown",
   "metadata": {},
   "source": [
    "### Aufgabe 9.3\n",
    "\n",
    "earbeiten Sie Ihr Jupyter Notebook von Übung 8, so dass diese die Advektions-Diffunsionsgleichung Gleichung mit dem in Aufgabenteil 8.1 beschriebenen Verfahren lösen. \n",
    "\n",
    "Ihr Algorithmus könnte folgende Struktur aufweisen:\n",
    "* Definieren Sie die notwendigen Parameter. \n",
    "* Definieren Sie die diskreten Vektoren $\\mathbf{x}$ der KV Mittelpunkte, $\\mathbf{\\phi}$ der Lösungsvariablen, $\\mathbf{\\phi}^{(n)}$ der bereits berechneten Lösungsvariablen, und $\\mathbf{F}$ der Flüsse an den KV Grenzflächen. \n",
    "* Initialisieren Sie den Lösungsvektor $\\mathbf{\\phi}$ mit der Anfangsbedingung\n",
    "\\begin{equation}\n",
    "            \\phi(x,t=0) = \\cos(k_x x)    \n",
    "\\end{equation}\n",
    "Wählen Sie als Wellenzahl $k_x=2\\pi$.\n",
    "        \n",
    "* Iterieren Sie die Berechnung der Lösung im nächsten Zeitschritt für eine Anzahl von Zeitschritten $N_t=200$. Dieser Schritt beinhaltet folgende Operationen:\n",
    "    - Iterieren Sie über die Anzahl von Stufen ($1,\\cdots,K$) des Runge--Kutta Verfahrens\n",
    "        + Speichern Sie die bereits berechnete Lösungsvariablen $\\mathbf{\\phi}^{(n)} \\leftarrow \\mathbf{\\phi}$\n",
    "        + Iterieren Sie über alle KV Grenzflächen, um die advektive und diffusive Flüsse zu berechnen und in den Vektor $\\mathbf{F}$ zu speichern. \n",
    "        + Iterieren Sie über alle KV, um die Lösung durch die Bilanz der Flüsse zu aktualisieren.\n",
    "* Stellen Sie das Ergebnis dar und verifizieren Sie diese, in dem Sie die numerische und analytische Lösung vergleichen. "
   ]
  },
  {
   "cell_type": "code",
   "execution_count": null,
   "metadata": {},
   "outputs": [],
   "source": [
    "##########\n",
    "# INPUTS #\n",
    "##########\n",
    "\n",
    "         # [m] Länge des Gebiets\n",
    "         # [m/s] Advektionsgeschwindigkeit\n",
    "\n",
    "         # Anzahl der zu berechnende Zeitschritte\n",
    "         # Anzahl von Zellen / Kontrollvolumina (KV)\n",
    "         # dimensionsloser Parameter alfa/(dx^2/dt) = nu * dt / dx^2 = beta\n",
    "         # dimensionsloser Parameter U/(dx/dt) = U * dt / dx = sigma"
   ]
  },
  {
   "cell_type": "markdown",
   "metadata": {},
   "source": [
    "Definieren Sie die Vektoren $\\mathbf{x}$ der Koordinaten von den Mittelpunkten der Kontrollvolumina (KV), $\\mathbf{\\phi}$ der unbekannten Lösungsvariable, $\\mathbf{F}$ der Flüsse an den KV Grenzflächen. Nachdem Sie in dem oberen Block $L$ und $N_x$ definiert haben, können Sie jetzt die Breite $\\Delta x$ des Kontrollvolumens auch definieren.  Die Zeitschrittweite $\\Delta t$ und der Diffusionskoeffizienten $\\nu$ werden aus den dimensionslosen Parametern $\\beta$ und $\\sigma$ hergeleitet."
   ]
  },
  {
   "cell_type": "code",
   "execution_count": null,
   "metadata": {},
   "outputs": [],
   "source": [
    "                      # [m] Auflösung\n",
    "                      # [s] Zeitschritt\n",
    "                      # [m^2/s] Diffusionskoeffizient\n",
    "\n",
    "       # Gitter (Vektor der Koordinate von den KV Mittelpunkten)\n",
    "       # Gitter (Vektor der Koordinate der KV Grenzfflächen: nicht nötig für Berechnung!)\n",
    "       # Vektor der im KV gemittelten phi-Werte\n",
    "       # Vektor der im KV gemittelten phi-Werte im vorigen Zeitpunkt\n",
    "       # Vektor der Flüsse an den KV Grenzflächen"
   ]
  },
  {
   "cell_type": "markdown",
   "metadata": {},
   "source": [
    "Initialisieren Sie den Lösungsvektor $\\mathbf{\\phi}$ mit der in Aufgabenteil 8.1a) vorgegebenen Anfangsbedingung\n",
    "\n",
    "$$ \\phi(x,t=0) = A \\cos (k_x x) \\, . \\qquad \\qquad (2)$$\n",
    "\n",
    "Wählen Sie als Wellenzahl $k_x=2\\pi$ und $A=1$."
   ]
  },
  {
   "cell_type": "code",
   "execution_count": null,
   "metadata": {
    "scrolled": false
   },
   "outputs": [],
   "source": [
    "# Wir speichern die Anfangsbedingung in dem Vektor phi\n"
   ]
  },
  {
   "cell_type": "markdown",
   "metadata": {},
   "source": [
    "Iterieren Sie die Berechnung der Lösung im nächsten Zeitschritt für eine Anzahl von Zeitschritten $N_t=200$. Dieser Schritt beinhaltet folgende Operationen:\n",
    "        \n",
    "* Iterieren Sie über alle KV Grenzflächen, um die advektive und diffusive Flüsse zu berechnen und in den Vektor $\\mathbf{F}$ zu speichern. \n",
    "* Iterieren Sie über alle KV, um die Lösung durch die Bilanz der Flüsse zu aktualisieren."
   ]
  },
  {
   "cell_type": "code",
   "execution_count": null,
   "metadata": {
    "scrolled": true
   },
   "outputs": [],
   "source": [
    "# Zuerst definieren wir die Zeit\n",
    "# vor der Integration sind wir beim Zeitpunkt null\n",
    "\n",
    "\n",
    "# Wir können auch die Koeffizienten der Runge-Kutta Methode definieren\n",
    "\n",
    "# Wir starten die zeitliche Integration\n",
    "# als For-Schleife für Nt Zeitschritte\n",
    "for n in range(Nt):\n",
    "    # Wir aktualisieren die Zeit\n",
    "\n",
    "    # Die aktuelle Lösung ist jetzt die alte Lösung\n",
    "    # (Vorsicht! Keine \"view\" herstellen sondern eine \"copy\")\n",
    "\n",
    "    # Wir iterieren über die Stufen der RK Methode\n",
    "\n",
    "        # Wir berechnen die Flüsse: Achten Sie auf \n",
    "        # die periodischen Randbedingungen! \n",
    "\n",
    "            # Wir berechnen die diffusive Flüsse (grad(phi)*n) \n",
    "            # mit den zentralen finiten Differenzen\n",
    " \n",
    "            # und dann die advektive Flüsse (U*phi) \n",
    "            # mit linearen Interpolation\n",
    "\n",
    "        # Wir aktualisieren die Lösung\n",
    "        # durch die Bilanz der Flüsse\n",
    "\n"
   ]
  },
  {
   "cell_type": "markdown",
   "metadata": {},
   "source": [
    "Bevor wir die Lösung darstellen, ist es sinnvoll, die analytische exakte Lösung des Problems zu implementieren. Das machen wir mit einer Funktion. "
   ]
  },
  {
   "cell_type": "code",
   "execution_count": null,
   "metadata": {},
   "outputs": [],
   "source": [
    "# Wir definieren die Funktion, mit der wir die exakten Lösung definieren \n",
    "def phi_exakt(t,x,A,nu,U,kx):\n",
    "\n",
    "    \n",
    "\n",
    "# Wir können jetzt die exakte Lösung berechnen\n"
   ]
  },
  {
   "cell_type": "markdown",
   "metadata": {},
   "source": [
    "Stellen Sie das Ergebnis dar und überprüfen Sie diese, in dem Sie es mit dem erwarteten Ergebnis vergleichen. "
   ]
  },
  {
   "cell_type": "code",
   "execution_count": null,
   "metadata": {
    "scrolled": true
   },
   "outputs": [],
   "source": [
    "# Wir öffnen eine neue Abbildung\n",
    "\n",
    "# wir stellen die exakte und numerische Lösung dar\n",
    "\n",
    "# wir setzen Grenzen für die x- und y-Achse:\n",
    "# Wir sehen gleich wozu wir das brauchen\n",
    "\n",
    "# wir zeigen die Legende an\n",
    "\n",
    "# und beschriften die Achsen\n"
   ]
  },
  {
   "cell_type": "markdown",
   "metadata": {},
   "source": [
    "Verifizieren Sie, dass Ihr Ergebnis bezüglich der Stabilität des numerischen Verfahren aus Aufgabe 8.2 korrekt ist und sich in die Stabilitätseigenschaften des Verfahrens tatsächlich wiederspiegelt. Um dies zu erreichen, variieren Sie in ihrem Jupyter Notebook die Parameter $\\sigma = U / (\\Delta x / \\Delta t)$ und $\\beta = \\nu / (\\Delta x^2 / \\Delta t)$ im folgenden Bereich\n",
    "\n",
    "$$ \\sigma = 0 \\cdots 1.8,  \\qquad \\beta = 0 \\cdots 1.5 \\, , $$\n",
    "\n",
    "und beobachten Sie das Verhalten der Lösung. Für welche Werte von $(\\sigma, \\beta)$ ist die Lösung stabil? \n",
    "    \n",
    "Hinweis: Sie können eine Fehlernorm zur von Ihnen berechneten analytischen Lösung verwenden, um in Ihrem Jupyter Notebook die Stabilität der Lösung zu bewerten. Erhöhen Sie hierfür die Anzahl von Zeitschritte zu $N_t=1000$."
   ]
  },
  {
   "cell_type": "code",
   "execution_count": null,
   "metadata": {},
   "outputs": [],
   "source": [
    "# Gleich werden wir das obere Problem für unterschiedliche Werte von sigma und beta lösen müssen\n",
    "#\n",
    "# Es bietet sich also an, die Definition des Problems \n",
    "# und seine Lösung in eine Funktion zu implementieren\n",
    "#\n",
    "def solve_advdiff(Nx,Nt,U,L,sigma,beta):\n",
    "    # zuerst definieren wir die abhängigen Parameter\n",
    "                           # [m] Auflösung\n",
    "    # wenn sigma=0, dann muss U=0 und wir können den Zeitschritt nicht aus \n",
    "    # sigma berechnen. In diesem Fall müssen wir den Zeitschritt \n",
    "    # vorgeben\n",
    "    if sigma==0:\n",
    "\n",
    "    else:\n",
    "              # [s] Zeitschritt\n",
    "              # [m^2/s] Diffusionskoeffizient\n",
    " \n",
    "    # und die Vektoren der Koordinaten und Lösungsvektoren\n",
    "           # Gitter (Vektor der Koordinate von den KV Mittelpunkten)\n",
    "           # Gitter (Vektor der Koordinate der KV Grenzfflächen: nicht nötig für Berechnung!)\n",
    "           # Vektor der im KV gemittelten phi-Werte\n",
    "           # Vektor der im KV gemittelten phi-Werte im vorigen Zeitpunkt\n",
    "           # Vektor der Flüsse an den KV Grenzflächen\n",
    "\n",
    "    # Wir speichern die Anfangsbedingung in dem Vektor phi\n",
    "\n",
    "    \n",
    "    # Wenn beide beta und sigma null sind, \n",
    "    # dann passiert nichts in der Gleichung: wir haben\n",
    "    # weder diffusion noch advektion\n",
    "\n",
    "\n",
    "    # Zuerst definieren wir die Zeit\n",
    "    # vor der Integration sind wir beim Zeitpunkt null\n",
    "\n",
    "    \n",
    "    # Wir starten die zeitliche Integration\n",
    "    # als For-Schleife für Nt Zeitschritte\n",
    "\n",
    "        # Wir aktualisieren die Zeit\n",
    "\n",
    "        # Die aktuelle Lösung ist jetzt die alte Lösung\n",
    "        # (Vorsicht! Keine \"view\" herstellen sondern eine \"copy\")\n",
    "\n",
    "        # Wir iterieren über die Stufen der RK Methode\n",
    "\n",
    "            # Wir berechnen die Flüsse: Achten Sie auf \n",
    "            # die periodischen Randbedingungen! \n",
    "\n",
    "                # Wir berechnen die diffusive Flüsse (grad(phi)*n) \n",
    "                # mit den zentralen finiten Differenzen\n",
    "\n",
    "                # und dann die advektive Flüsse (U*phi) \n",
    "                # mit linearen Interpolation\n",
    "\n",
    "            # Wir aktualisieren die Lösung\n",
    "            # durch die Bilanz der Flüsse\n",
    "\n",
    "  \n",
    "    # Wir können gleich auch die analytische Lösung berechnen\n",
    " \n",
    "    # Die Funktion soll die Lösung und die Koordinate zurückgeben\n",
    "\n",
    "    \n",
    "    \n",
    "# Wir können eine weitere Funktion definieren, mit der wir durch den Vergleich\n",
    "# mit der analytischen Lösung bestimmen können, ob die Lösung stabil war\n",
    "def isStabil(phi,phi_ex):\n"
   ]
  },
  {
   "cell_type": "markdown",
   "metadata": {},
   "source": [
    "Jetzt sind wir bereit, um tatsächlich den Parameterraum zu untesuchen"
   ]
  },
  {
   "cell_type": "code",
   "execution_count": null,
   "metadata": {},
   "outputs": [],
   "source": [
    "    # Parameterraum sigma\n",
    "    # Parameterraum beta\n",
    "# Array von \"dtype=bool\" mit True-Werte, wenn die Kombination (sigma,beta) stabil ist\n",
    "  \n",
    "# Wir erhähren die Anzahl von Zeitschritten\n",
    " \n",
    "\n",
    "# Loop für alle sigma\n",
    "for iS,sigma in enumerate(sigmas):\n",
    "    # Loop für alle betas\n",
    "    for iB,beta in enumerate(betas):\n",
    "        # Löse die Gleichung\n",
    "       \n",
    "        # Kontrolliere die Stabilität\n"
   ]
  },
  {
   "cell_type": "markdown",
   "metadata": {},
   "source": [
    "Stellen Sie das Ergebnis des Aufgabenteils 9.3b) in einem Diagramm dar, welches auf der Ordinate den Parameter $\\beta$ und auf der Abszisse den Parameter $\\sigma$ zeigt. Kennzeichnen Sie mit dem Symbol $\\times$ die $(\\sigma,\\beta)$-Kombinationen, die zu einer stabilen Lösung geführt haben. Die instabile Fälle werden ansonsten mit dem Symbol $\\circ$ gekennzeichnet. Stellen im selben Diagramm auch die Kurven der neutralen Stabilitätsgrenze, so wie sie diese in Aufgabe 9.2 bestimmt haben. Stimmen die numerischen Ergebnisse mit Ihrer Erwartung aus der Stabilitätsanalyse überein?"
   ]
  },
  {
   "cell_type": "code",
   "execution_count": null,
   "metadata": {
    "scrolled": false
   },
   "outputs": [],
   "source": [
    "# Wir öffnen eine neue Abbildung\n",
    "\n",
    "# Wir gehe die Fälle durch und plotten sie\n",
    "# Loop für alle sigma\n",
    "\n",
    "    # Loop für alle betas\n",
    "\n",
    "        # Fall-Unterscheidung in Abhängigkeit\n",
    "        # der Stabilität\n",
    "        if stable[iS,iB]:   #wenn stabil\n",
    "            # Plotten mit x\n",
    "            \n",
    "        else:               #wenn instabil\n",
    "            # Plotten mit o\n",
    "\n",
    "# Wir plotten auch die Kurven aus der Stabilitätsanalyse\n",
    "\n",
    "# Wir plotten eie Legende\n"
   ]
  },
  {
   "cell_type": "code",
   "execution_count": null,
   "metadata": {},
   "outputs": [],
   "source": []
  }
 ],
 "metadata": {
  "kernelspec": {
   "display_name": "Python 3",
   "language": "python",
   "name": "python3"
  },
  "language_info": {
   "codemirror_mode": {
    "name": "ipython",
    "version": 3
   },
   "file_extension": ".py",
   "mimetype": "text/x-python",
   "name": "python",
   "nbconvert_exporter": "python",
   "pygments_lexer": "ipython3",
   "version": "3.8.8"
  }
 },
 "nbformat": 4,
 "nbformat_minor": 4
}
