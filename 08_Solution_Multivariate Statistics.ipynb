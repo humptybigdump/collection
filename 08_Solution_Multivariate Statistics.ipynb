{
 "cells": [
  {
   "cell_type": "markdown",
   "metadata": {},
   "source": [
    "# Geospatial Data Analysis I \n",
    "\n",
    "## Multivariate statistics - Solution"
   ]
  },
  {
   "cell_type": "markdown",
   "metadata": {},
   "source": [
    "This exercise is about analysing and visualising multi-dimensional data. For this will again use the dataset on groundwater paremeters in Karlsruhe (the large one: \"Data_GW_KA.csv\"). \n",
    "\n",
    "- Import the csv or excel file as a Dataframe via Pandas.  \n",
    "\n",
    "- Check the dataframe for any columns that contain strings or NaNs and drop them, as we will not be able to work with them here. "
   ]
  },
  {
   "cell_type": "code",
   "execution_count": 1,
   "metadata": {},
   "outputs": [
    {
     "data": {
      "text/html": [
       "<div>\n",
       "<style scoped>\n",
       "    .dataframe tbody tr th:only-of-type {\n",
       "        vertical-align: middle;\n",
       "    }\n",
       "\n",
       "    .dataframe tbody tr th {\n",
       "        vertical-align: top;\n",
       "    }\n",
       "\n",
       "    .dataframe thead th {\n",
       "        text-align: right;\n",
       "    }\n",
       "</style>\n",
       "<table border=\"1\" class=\"dataframe\">\n",
       "  <thead>\n",
       "    <tr style=\"text-align: right;\">\n",
       "      <th></th>\n",
       "      <th>Depth_m</th>\n",
       "      <th>Oxygen_mg/l</th>\n",
       "      <th>GW_Temperature_°C</th>\n",
       "      <th>electric_conductivity_mS/cm</th>\n",
       "      <th>pH</th>\n",
       "      <th>Phosphate_mg/l</th>\n",
       "      <th>Nitrate_mg/l</th>\n",
       "      <th>Detritus</th>\n",
       "      <th>Sediment</th>\n",
       "      <th>Geology</th>\n",
       "      <th>Land_use</th>\n",
       "      <th>Abundancy_Species</th>\n",
       "      <th>Abundancy_Individuals</th>\n",
       "      <th>Perc_Crustaceen_%</th>\n",
       "      <th>Perc_Oligochaeten_%</th>\n",
       "    </tr>\n",
       "  </thead>\n",
       "  <tbody>\n",
       "    <tr>\n",
       "      <th>0</th>\n",
       "      <td>39.0</td>\n",
       "      <td>0.97</td>\n",
       "      <td>14.4</td>\n",
       "      <td>608.00</td>\n",
       "      <td>6.98</td>\n",
       "      <td>0.10</td>\n",
       "      <td>1.50</td>\n",
       "      <td>3</td>\n",
       "      <td>3.0</td>\n",
       "      <td>1</td>\n",
       "      <td>1</td>\n",
       "      <td>0</td>\n",
       "      <td>0</td>\n",
       "      <td>0</td>\n",
       "      <td>0</td>\n",
       "    </tr>\n",
       "    <tr>\n",
       "      <th>1</th>\n",
       "      <td>10.0</td>\n",
       "      <td>1.45</td>\n",
       "      <td>14.0</td>\n",
       "      <td>557.67</td>\n",
       "      <td>7.00</td>\n",
       "      <td>0.07</td>\n",
       "      <td>7.00</td>\n",
       "      <td>2</td>\n",
       "      <td>2.0</td>\n",
       "      <td>2</td>\n",
       "      <td>1</td>\n",
       "      <td>2</td>\n",
       "      <td>4</td>\n",
       "      <td>100</td>\n",
       "      <td>0</td>\n",
       "    </tr>\n",
       "    <tr>\n",
       "      <th>2</th>\n",
       "      <td>15.8</td>\n",
       "      <td>1.07</td>\n",
       "      <td>12.5</td>\n",
       "      <td>592.00</td>\n",
       "      <td>7.06</td>\n",
       "      <td>0.10</td>\n",
       "      <td>1.50</td>\n",
       "      <td>3</td>\n",
       "      <td>3.0</td>\n",
       "      <td>3</td>\n",
       "      <td>1</td>\n",
       "      <td>0</td>\n",
       "      <td>0</td>\n",
       "      <td>0</td>\n",
       "      <td>0</td>\n",
       "    </tr>\n",
       "    <tr>\n",
       "      <th>3</th>\n",
       "      <td>9.3</td>\n",
       "      <td>1.29</td>\n",
       "      <td>14.4</td>\n",
       "      <td>689.00</td>\n",
       "      <td>7.02</td>\n",
       "      <td>0.20</td>\n",
       "      <td>1.50</td>\n",
       "      <td>3</td>\n",
       "      <td>3.0</td>\n",
       "      <td>4</td>\n",
       "      <td>1</td>\n",
       "      <td>1</td>\n",
       "      <td>1</td>\n",
       "      <td>0</td>\n",
       "      <td>100</td>\n",
       "    </tr>\n",
       "    <tr>\n",
       "      <th>4</th>\n",
       "      <td>11.0</td>\n",
       "      <td>4.02</td>\n",
       "      <td>14.2</td>\n",
       "      <td>846.00</td>\n",
       "      <td>7.06</td>\n",
       "      <td>0.40</td>\n",
       "      <td>7.33</td>\n",
       "      <td>3</td>\n",
       "      <td>3.0</td>\n",
       "      <td>1</td>\n",
       "      <td>1</td>\n",
       "      <td>3</td>\n",
       "      <td>7</td>\n",
       "      <td>86</td>\n",
       "      <td>14</td>\n",
       "    </tr>\n",
       "  </tbody>\n",
       "</table>\n",
       "</div>"
      ],
      "text/plain": [
       "   Depth_m  Oxygen_mg/l  GW_Temperature_°C  electric_conductivity_mS/cm    pH  \\\n",
       "0     39.0         0.97               14.4                       608.00  6.98   \n",
       "1     10.0         1.45               14.0                       557.67  7.00   \n",
       "2     15.8         1.07               12.5                       592.00  7.06   \n",
       "3      9.3         1.29               14.4                       689.00  7.02   \n",
       "4     11.0         4.02               14.2                       846.00  7.06   \n",
       "\n",
       "   Phosphate_mg/l  Nitrate_mg/l  Detritus  Sediment  Geology  Land_use  \\\n",
       "0            0.10          1.50         3       3.0        1         1   \n",
       "1            0.07          7.00         2       2.0        2         1   \n",
       "2            0.10          1.50         3       3.0        3         1   \n",
       "3            0.20          1.50         3       3.0        4         1   \n",
       "4            0.40          7.33         3       3.0        1         1   \n",
       "\n",
       "   Abundancy_Species  Abundancy_Individuals  Perc_Crustaceen_%  \\\n",
       "0                  0                      0                  0   \n",
       "1                  2                      4                100   \n",
       "2                  0                      0                  0   \n",
       "3                  1                      1                  0   \n",
       "4                  3                      7                 86   \n",
       "\n",
       "   Perc_Oligochaeten_%  \n",
       "0                    0  \n",
       "1                    0  \n",
       "2                    0  \n",
       "3                  100  \n",
       "4                   14  "
      ]
     },
     "execution_count": 1,
     "metadata": {},
     "output_type": "execute_result"
    }
   ],
   "source": [
    "# [1]\n",
    "import pandas as pd  \n",
    "data = pd.read_csv('Data_GW_KA.csv', sep=';', encoding='cp1252') # \n",
    "\n",
    "data = data.drop(columns='Name') # strings cannot be standardised\n",
    "data = data.drop(columns='Iron_mg/l') # strings cannot be standardised\n",
    "\n",
    "data.head() "
   ]
  },
  {
   "attachments": {},
   "cell_type": "markdown",
   "metadata": {},
   "source": [
    "### Exercise 1: Principal component analysis in 5 steps\n",
    "\n",
    "#### 1. Standardising the data\n",
    "\n",
    "From last week we already know that the variances and covariances of the dataset vary over several orders of magnitude. Accordingly, we need to standardise (or transform) all parameters before further analysis, so that they follow a standard normal distribution *N* (0, 1). \n",
    "\n",
    "One option in Python to do this is the function `sklearn.preprocessing.StandardScaler().fit_transform()` from the package `sklearn`. \n",
    "\n",
    "- Import the function `sklearn.preprocessing.StandardScaler().fit_transform()`. \n",
    "\n",
    "- Create a variable for the standardised data using the method above. The first brackets takes no arguments (i.e. it remains empty), the second one takes the name of the dataset to be transformed. \n",
    "\n",
    "- Check the statistical characteristics of the created standardised dataset.  "
   ]
  },
  {
   "cell_type": "code",
   "execution_count": 2,
   "metadata": {},
   "outputs": [
    {
     "data": {
      "text/plain": [
       "DescribeResult(nobs=39, minmax=(array([-0.90089419, -1.4886461 , -1.46949961, -2.30618548, -4.28627906,\n",
       "       -0.44315535, -1.2079113 , -1.05522364, -1.06439404, -1.288304  ,\n",
       "       -0.50800051, -1.97180121, -0.63913771, -1.26059179, -1.04098467]), array([4.82659722, 2.67648053, 1.92461181, 3.49528357, 1.18135541,\n",
       "       5.90054486, 1.91657501, 1.43894133, 1.45220903, 0.92833671,\n",
       "       1.96850197, 2.30043474, 3.64444484, 1.20619595, 1.48222242])), mean=array([ 5.35184432e-16,  3.24526730e-16, -1.06467541e-15, -3.61534164e-16,\n",
       "        7.51535586e-16,  1.31038343e-16, -4.78249918e-16, -5.69345141e-17,\n",
       "        9.10952225e-17, -2.27738056e-17,  1.93577348e-16,  7.25915055e-17,\n",
       "       -4.27008856e-18,  1.85037171e-17,  9.96353996e-18]), variance=array([1.02631579, 1.02631579, 1.02631579, 1.02631579, 1.02631579,\n",
       "       1.02631579, 1.02631579, 1.02631579, 1.02631579, 1.02631579,\n",
       "       1.02631579, 1.02631579, 1.02631579, 1.02631579, 1.02631579]), skewness=array([ 3.19237577,  0.55890712,  0.08101566,  0.43557037, -1.98776623,\n",
       "        5.26588403,  0.3441257 ,  0.28425712,  0.30469781, -0.27297781,\n",
       "        1.46050146, -0.14131242,  2.07064683, -0.172912  ,  0.46330601]), kurtosis=array([12.15044664, -0.20971921, -1.09617802,  2.73617547,  6.18484796,\n",
       "       28.11205754, -1.13864308, -1.391603  , -1.45509853, -1.75747031,\n",
       "        0.13306452, -0.678528  ,  3.78652663, -1.66416253, -1.43670271]))"
      ]
     },
     "execution_count": 2,
     "metadata": {},
     "output_type": "execute_result"
    }
   ],
   "source": [
    "# [2] \n",
    "\n",
    "from sklearn.preprocessing import StandardScaler \n",
    "from scipy.stats import describe\n",
    "\n",
    "data_std = StandardScaler().fit_transform(data)\n",
    "\n",
    "describe(data_std)"
   ]
  },
  {
   "cell_type": "markdown",
   "metadata": {},
   "source": [
    "#### 2. Calculating eigenvalues and eigenvectors\n",
    "\n",
    "Now we can calculate the eigenvalues and eigenvectors of the covariance matrix, i.e. the axes in the parameter space that later represent the prinicpal components.\n",
    "\n",
    "- First, calcualte the covariance matrix of your data using `numpy.cov(data.T)`. The `.T` is used to calculate the transposed data matrix (columns become rows), which simplifies matrix handling in the following steps. \n",
    "\n",
    "- Then, use `numpy.linalg.eig()` to calculate the eigenvalues and eigenvectors (i.e. two outputs for one function) with the covariance matrix as the input. "
   ]
  },
  {
   "cell_type": "code",
   "execution_count": 3,
   "metadata": {},
   "outputs": [
    {
     "name": "stdout",
     "output_type": "stream",
     "text": [
      "[[ 1.02631579e+00  1.84719598e-01 -8.69440726e-02  4.46882576e-02\n",
      "   1.36302760e-01 -1.81242936e-01 -3.55866558e-01  2.42718455e-01\n",
      "   3.08165968e-01 -1.14381300e-01  3.15998223e-01 -2.08389560e-01\n",
      "  -8.87729018e-03 -9.26690686e-02 -2.53206116e-01]\n",
      " [ 1.84719598e-01  1.02631579e+00 -1.46588767e-01  3.07524955e-01\n",
      "   3.56611865e-01 -1.95991191e-01 -7.65247773e-02 -2.74827912e-02\n",
      "   6.29534190e-02 -3.51136760e-02  5.08510652e-01  4.88231121e-01\n",
      "   2.34985224e-01  1.37214750e-01  1.31849150e-01]\n",
      " [-8.69440726e-02 -1.46588767e-01  1.02631579e+00  2.71991339e-01\n",
      "  -1.29201119e-01 -6.14004168e-02  2.12383128e-01 -1.81439072e-02\n",
      "  -8.26261987e-03  2.62269580e-01 -7.10695292e-01  5.04463564e-03\n",
      "   5.51790182e-02 -2.24651631e-01  1.92273920e-01]\n",
      " [ 4.46882576e-02  3.07524955e-01  2.71991339e-01  1.02631579e+00\n",
      "   6.71009444e-02 -2.78239160e-02  2.36120321e-01  7.97279898e-02\n",
      "   9.64961674e-02  1.12890684e-02 -2.42265281e-03  2.39654626e-01\n",
      "   4.28721207e-02  2.98212466e-01 -2.96898003e-01]\n",
      " [ 1.36302760e-01  3.56611865e-01 -1.29201119e-01  6.71009444e-02\n",
      "   1.02631579e+00  5.17760705e-02 -4.44735569e-01 -1.28386489e-01\n",
      "  -4.43861350e-02  1.59591070e-01  4.82297578e-01  2.59548581e-01\n",
      "   8.89770802e-02  2.46406135e-01 -1.18449805e-01]\n",
      " [-1.81242936e-01 -1.95991191e-01 -6.14004168e-02 -2.78239160e-02\n",
      "   5.17760705e-02  1.02631579e+00  1.15332272e-01 -1.97724554e-01\n",
      "  -1.98264275e-01  2.10612799e-01 -1.42849884e-01  1.58205496e-01\n",
      "  -3.16913734e-02  2.03012696e-01 -1.47730904e-01]\n",
      " [-3.55866558e-01 -7.65247773e-02  2.12383128e-01  2.36120321e-01\n",
      "  -4.44735569e-01  1.15332272e-01  1.02631579e+00 -1.50326279e-01\n",
      "  -2.02527131e-01  3.52122335e-02 -4.59112139e-01  3.36726967e-01\n",
      "  -6.67419464e-02  2.50069458e-01 -1.33054096e-01]\n",
      " [ 2.42718455e-01 -2.74827912e-02 -1.81439072e-02  7.97279898e-02\n",
      "  -1.28386489e-01 -1.97724554e-01 -1.50326279e-01  1.02631579e+00\n",
      "   9.94603298e-01 -1.10051076e-01 -6.25182766e-02 -1.72561316e-01\n",
      "   8.45702053e-02 -9.74572952e-02 -1.88352961e-01]\n",
      " [ 3.08165968e-01  6.29534190e-02 -8.26261987e-03  9.64961674e-02\n",
      "  -4.43861350e-02 -1.98264275e-01 -2.02527131e-01  9.94603298e-01\n",
      "   1.02631579e+00 -1.10859190e-01  1.82723778e-02 -1.11450916e-01\n",
      "   1.50319933e-01 -1.57226816e-01 -1.29595807e-01]\n",
      " [-1.14381300e-01 -3.51136760e-02  2.62269580e-01  1.12890684e-02\n",
      "   1.59591070e-01  2.10612799e-01  3.52122335e-02 -1.10051076e-01\n",
      "  -1.10859190e-01  1.02631579e+00 -2.38298837e-01  5.11201735e-02\n",
      "  -2.91121554e-01  1.10441924e-02  2.76758791e-04]\n",
      " [ 3.15998223e-01  5.08510652e-01 -7.10695292e-01 -2.42265281e-03\n",
      "   4.82297578e-01 -1.42849884e-01 -4.59112139e-01 -6.25182766e-02\n",
      "   1.82723778e-02 -2.38298837e-01  1.02631579e+00  1.78478457e-01\n",
      "   1.31163644e-01  2.41433521e-01 -1.46436130e-01]\n",
      " [-2.08389560e-01  4.88231121e-01  5.04463564e-03  2.39654626e-01\n",
      "   2.59548581e-01  1.58205496e-01  3.36726967e-01 -1.72561316e-01\n",
      "  -1.11450916e-01  5.11201735e-02  1.78478457e-01  1.02631579e+00\n",
      "   3.48580484e-01  5.02863778e-01 -1.67696906e-01]\n",
      " [-8.87729018e-03  2.34985224e-01  5.51790182e-02  4.28721207e-02\n",
      "   8.89770802e-02 -3.16913734e-02 -6.67419464e-02  8.45702053e-02\n",
      "   1.50319933e-01 -2.91121554e-01  1.31163644e-01  3.48580484e-01\n",
      "   1.02631579e+00  1.14406256e-01  9.36363861e-03]\n",
      " [-9.26690686e-02  1.37214750e-01 -2.24651631e-01  2.98212466e-01\n",
      "   2.46406135e-01  2.03012696e-01  2.50069458e-01 -9.74572952e-02\n",
      "  -1.57226816e-01  1.10441924e-02  2.41433521e-01  5.02863778e-01\n",
      "   1.14406256e-01  1.02631579e+00 -7.99517386e-01]\n",
      " [-2.53206116e-01  1.31849150e-01  1.92273920e-01 -2.96898003e-01\n",
      "  -1.18449805e-01 -1.47730904e-01 -1.33054096e-01 -1.88352961e-01\n",
      "  -1.29595807e-01  2.76758791e-04 -1.46436130e-01 -1.67696906e-01\n",
      "   9.36363861e-03 -7.99517386e-01  1.02631579e+00]]\n",
      "[2.98362382 2.69932921 2.11267832 1.66383795 1.39993193 1.11144811\n",
      " 0.90999742 0.71388975 0.64398812 0.43738333 0.01557325 0.07559529\n",
      " 0.11742792 0.26901269 0.24101972]\n",
      "[[ 0.2148891   0.30597167 -0.0474351   0.11453328 -0.20589664  0.3151731\n",
      "  -0.34070474  0.41650824  0.54530896 -0.12421966 -0.02490408  0.26387094\n",
      "  -0.09881101  0.11285436 -0.0894959 ]\n",
      " [ 0.36525401 -0.0361922   0.06298973 -0.45640463 -0.10458973  0.1426799\n",
      "   0.29638496  0.23287539  0.11990397  0.03522716  0.00421306 -0.23899608\n",
      "  -0.07622561 -0.24672683  0.58326316]\n",
      " [-0.3106417  -0.0774804  -0.23767105 -0.34615694 -0.35031843  0.04005907\n",
      "  -0.40250703 -0.09664161  0.03654587 -0.21254353 -0.05040021 -0.08530976\n",
      "   0.542843   -0.26959342  0.04265802]\n",
      " [ 0.14084981 -0.16143611 -0.3621254  -0.20206703 -0.21651944  0.38939251\n",
      "  -0.07041767  0.24870539 -0.57806822  0.26955603 -0.00593088  0.10137257\n",
      "  -0.16304635  0.13036642 -0.23685271]\n",
      " [ 0.35038887 -0.04838644  0.2095852  -0.03688456 -0.42793628 -0.19759662\n",
      "  -0.14174355 -0.2604347  -0.22410876 -0.46072352 -0.03478329  0.00630055\n",
      "  -0.09285706  0.47700022  0.1400589 ]\n",
      " [-0.04576564 -0.2683428   0.01563145  0.28181817 -0.09105961 -0.50900621\n",
      "  -0.05833214  0.71443758 -0.16790029 -0.07269772 -0.02673964 -0.0194664\n",
      "   0.12572494 -0.05627676  0.10717142]\n",
      " [-0.18700741 -0.35908707 -0.30139367 -0.0743677   0.25727604  0.18911527\n",
      "   0.27182231  0.10026801  0.2408093  -0.17404993 -0.02791656  0.00958818\n",
      "   0.24389365  0.61870308  0.14962633]\n",
      " [ 0.06595438  0.40609975 -0.45432325  0.03392131 -0.01625671 -0.23105957\n",
      "   0.2440255  -0.0525134  -0.06488592 -0.05911819 -0.6915737   0.12286502\n",
      "   0.01256162 -0.02963598  0.07143261]\n",
      " [ 0.10616576  0.4225409  -0.42019243 -0.04073742 -0.05390966 -0.25518749\n",
      "   0.21802554  0.01856611 -0.03666708 -0.08787701  0.69734963 -0.01423147\n",
      "   0.12195872  0.05487345 -0.05107987]\n",
      " [-0.12772047 -0.16050311  0.01395556  0.06942486 -0.64430143 -0.1720544\n",
      "   0.29708362 -0.12561608  0.32565639  0.52316204 -0.00646019  0.04151718\n",
      "   0.00806743  0.12875347 -0.077382  ]\n",
      " [ 0.48594361  0.09428273  0.27348796  0.05722007  0.08513773  0.09192964\n",
      "   0.13632733  0.04253762 -0.06806461  0.17792287 -0.09930369 -0.05329445\n",
      "   0.71629534  0.06778827 -0.27228765]\n",
      " [ 0.26271961 -0.3677747  -0.12003095 -0.30319328  0.05089881 -0.21819751\n",
      "   0.16862589 -0.00130757  0.26281886 -0.30248008 -0.0541005  -0.02320505\n",
      "  -0.185437   -0.22854531 -0.60008017]\n",
      " [ 0.18711692 -0.00352115 -0.10106322 -0.3747602   0.29524018 -0.42193578\n",
      "  -0.49476447 -0.04973056  0.13536765  0.45388296 -0.02819779  0.00077458\n",
      "  -0.04042202  0.2624753   0.07872248]\n",
      " [ 0.32114993 -0.36541961 -0.23134237  0.26553329  0.05940282  0.0114181\n",
      "  -0.056597   -0.25998768  0.02205362  0.03187042  0.12361564  0.61327849\n",
      "   0.10877635 -0.27394843  0.29167563]\n",
      " [-0.26265975  0.15100853  0.36749044 -0.46671755  0.02494335 -0.10415127\n",
      "   0.2033894   0.14844315 -0.11060878 -0.05056444  0.02461739  0.67725651\n",
      "   0.05675525  0.04458579 -0.03430733]]\n"
     ]
    }
   ],
   "source": [
    "# [3] \n",
    "import numpy as np\n",
    "\n",
    "# Covariance matrix\n",
    "cov_std = np.cov(data_std.T)\n",
    "print(cov_std)\n",
    "\n",
    "# eigenvalues and eigenvectors\n",
    "eig_vals, eig_vecs = np.linalg.eig(cov_std)\n",
    "print(eig_vals)\n",
    "print(eig_vecs)"
   ]
  },
  {
   "attachments": {},
   "cell_type": "markdown",
   "metadata": {},
   "source": [
    "#### 3. Determining principal components\n",
    "\n",
    "The aim of principal component analysis is to reduce the dimensions of the dataset, e.g. for visualising the entire information of the data in 2D, while preserving as much information, i.e. variance, as possible. The direction (orientation of the axes in the parameter space) of the principal components is equal to the eigenvectors (with a unit length of 1). In order to preserve as much information as possible, we are interested in the eigenvectors with the highest eigenvalues. \n",
    "\n",
    "- First, define a new variable as an empty list (`name = [[]]*n`), with `n` being the number of eigenvalues. \n",
    "\n",
    "- Now, we want to fill this list with the eigenvalues (one value) and the corresponding eigenvectors (*n* values) per row: row_list = [(eigenvalue, eigenvector)]. You can e.g. use a for-loop to do so. Because we are interested in overall information content, we need to use the absolute values `numpy.abs(array)` for eigenvalues and eigenvectors. \n",
    "\n",
    "Tipp: in the for-loop, the indexing for eigenvalues is per row (with a simple index `[i]`), the eigenvectors need to be indexed column-wise (`[:,i]`), as the eigenvectors are a 15x15 matrix. "
   ]
  },
  {
   "cell_type": "code",
   "execution_count": 4,
   "metadata": {},
   "outputs": [
    {
     "data": {
      "text/plain": [
       "[[(2.983623823753347,\n",
       "   array([ 0.2148891 ,  0.36525401, -0.3106417 ,  0.14084981,  0.35038887,\n",
       "          -0.04576564, -0.18700741,  0.06595438,  0.10616576, -0.12772047,\n",
       "           0.48594361,  0.26271961,  0.18711692,  0.32114993, -0.26265975]))],\n",
       " [(2.6993292050779893,\n",
       "   array([ 0.30597167, -0.0361922 , -0.0774804 , -0.16143611, -0.04838644,\n",
       "          -0.2683428 , -0.35908707,  0.40609975,  0.4225409 , -0.16050311,\n",
       "           0.09428273, -0.3677747 , -0.00352115, -0.36541961,  0.15100853]))],\n",
       " [(2.112678315826858,\n",
       "   array([-0.0474351 ,  0.06298973, -0.23767105, -0.3621254 ,  0.2095852 ,\n",
       "           0.01563145, -0.30139367, -0.45432325, -0.42019243,  0.01395556,\n",
       "           0.27348796, -0.12003095, -0.10106322, -0.23134237,  0.36749044]))],\n",
       " [(1.663837946335116,\n",
       "   array([ 0.11453328, -0.45640463, -0.34615694, -0.20206703, -0.03688456,\n",
       "           0.28181817, -0.0743677 ,  0.03392131, -0.04073742,  0.06942486,\n",
       "           0.05722007, -0.30319328, -0.3747602 ,  0.26553329, -0.46671755]))],\n",
       " [(1.3999319282841023,\n",
       "   array([-0.20589664, -0.10458973, -0.35031843, -0.21651944, -0.42793628,\n",
       "          -0.09105961,  0.25727604, -0.01625671, -0.05390966, -0.64430143,\n",
       "           0.08513773,  0.05089881,  0.29524018,  0.05940282,  0.02494335]))],\n",
       " [(1.1114481143161588,\n",
       "   array([ 0.3151731 ,  0.1426799 ,  0.04005907,  0.38939251, -0.19759662,\n",
       "          -0.50900621,  0.18911527, -0.23105957, -0.25518749, -0.1720544 ,\n",
       "           0.09192964, -0.21819751, -0.42193578,  0.0114181 , -0.10415127]))],\n",
       " [(0.9099974191526582,\n",
       "   array([-0.34070474,  0.29638496, -0.40250703, -0.07041767, -0.14174355,\n",
       "          -0.05833214,  0.27182231,  0.2440255 ,  0.21802554,  0.29708362,\n",
       "           0.13632733,  0.16862589, -0.49476447, -0.056597  ,  0.2033894 ]))],\n",
       " [(0.713889752720309,\n",
       "   array([ 0.41650824,  0.23287539, -0.09664161,  0.24870539, -0.2604347 ,\n",
       "           0.71443758,  0.10026801, -0.0525134 ,  0.01856611, -0.12561608,\n",
       "           0.04253762, -0.00130757, -0.04973056, -0.25998768,  0.14844315]))],\n",
       " [(0.6439881233998795,\n",
       "   array([ 0.54530896,  0.11990397,  0.03654587, -0.57806822, -0.22410876,\n",
       "          -0.16790029,  0.2408093 , -0.06488592, -0.03666708,  0.32565639,\n",
       "          -0.06806461,  0.26281886,  0.13536765,  0.02205362, -0.11060878]))],\n",
       " [(0.4373833344140537,\n",
       "   array([-0.12421966,  0.03522716, -0.21254353,  0.26955603, -0.46072352,\n",
       "          -0.07269772, -0.17404993, -0.05911819, -0.08787701,  0.52316204,\n",
       "           0.17792287, -0.30248008,  0.45388296,  0.03187042, -0.05056444]))],\n",
       " [(0.01557325353387315,\n",
       "   array([-0.02490408,  0.00421306, -0.05040021, -0.00593088, -0.03478329,\n",
       "          -0.02673964, -0.02791656, -0.6915737 ,  0.69734963, -0.00646019,\n",
       "          -0.09930369, -0.0541005 , -0.02819779,  0.12361564,  0.02461739]))],\n",
       " [(0.07559529094947615,\n",
       "   array([ 0.26387094, -0.23899608, -0.08530976,  0.10137257,  0.00630055,\n",
       "          -0.0194664 ,  0.00958818,  0.12286502, -0.01423147,  0.04151718,\n",
       "          -0.05329445, -0.02320505,  0.00077458,  0.61327849,  0.67725651]))],\n",
       " [(0.11742792408349226,\n",
       "   array([-0.09881101, -0.07622561,  0.542843  , -0.16304635, -0.09285706,\n",
       "           0.12572494,  0.24389365,  0.01256162,  0.12195872,  0.00806743,\n",
       "           0.71629534, -0.185437  , -0.04042202,  0.10877635,  0.05675525]))],\n",
       " [(0.2690126928961566,\n",
       "   array([ 0.11285436, -0.24672683, -0.26959342,  0.13036642,  0.47700022,\n",
       "          -0.05627676,  0.61870308, -0.02963598,  0.05487345,  0.12875347,\n",
       "           0.06778827, -0.22854531,  0.2624753 , -0.27394843,  0.04458579]))],\n",
       " [(0.241019717361803,\n",
       "   array([-0.0894959 ,  0.58326316,  0.04265802, -0.23685271,  0.1400589 ,\n",
       "           0.10717142,  0.14962633,  0.07143261, -0.05107987, -0.077382  ,\n",
       "          -0.27228765, -0.60008017,  0.07872248,  0.29167563, -0.03430733]))]]"
      ]
     },
     "execution_count": 4,
     "metadata": {},
     "output_type": "execute_result"
    }
   ],
   "source": [
    "# [4]\n",
    "# new, empty list\n",
    "eig_pairs = [[]]*(len(eig_vals))\n",
    "\n",
    "# for-loop for filling the list\n",
    "for i in range(len(eig_vals)):\n",
    "    eig_pairs[i] = [(np.abs(eig_vals[i]), eig_vecs[:,i])]\n",
    "\n",
    "eig_pairs"
   ]
  },
  {
   "cell_type": "markdown",
   "metadata": {},
   "source": [
    "Now we need to identify the rows with the highest eigenvalues. \n",
    "\n",
    "- Sort the created list using `list.sort()` and `list.reverse()`, in a way that the first entry has the highest eigenvalue. "
   ]
  },
  {
   "cell_type": "code",
   "execution_count": 5,
   "metadata": {},
   "outputs": [
    {
     "name": "stdout",
     "output_type": "stream",
     "text": [
      "[[(2.983623823753347, array([ 0.2148891 ,  0.36525401, -0.3106417 ,  0.14084981,  0.35038887,\n",
      "       -0.04576564, -0.18700741,  0.06595438,  0.10616576, -0.12772047,\n",
      "        0.48594361,  0.26271961,  0.18711692,  0.32114993, -0.26265975]))], [(2.6993292050779893, array([ 0.30597167, -0.0361922 , -0.0774804 , -0.16143611, -0.04838644,\n",
      "       -0.2683428 , -0.35908707,  0.40609975,  0.4225409 , -0.16050311,\n",
      "        0.09428273, -0.3677747 , -0.00352115, -0.36541961,  0.15100853]))], [(2.112678315826858, array([-0.0474351 ,  0.06298973, -0.23767105, -0.3621254 ,  0.2095852 ,\n",
      "        0.01563145, -0.30139367, -0.45432325, -0.42019243,  0.01395556,\n",
      "        0.27348796, -0.12003095, -0.10106322, -0.23134237,  0.36749044]))], [(1.663837946335116, array([ 0.11453328, -0.45640463, -0.34615694, -0.20206703, -0.03688456,\n",
      "        0.28181817, -0.0743677 ,  0.03392131, -0.04073742,  0.06942486,\n",
      "        0.05722007, -0.30319328, -0.3747602 ,  0.26553329, -0.46671755]))], [(1.3999319282841023, array([-0.20589664, -0.10458973, -0.35031843, -0.21651944, -0.42793628,\n",
      "       -0.09105961,  0.25727604, -0.01625671, -0.05390966, -0.64430143,\n",
      "        0.08513773,  0.05089881,  0.29524018,  0.05940282,  0.02494335]))], [(1.1114481143161588, array([ 0.3151731 ,  0.1426799 ,  0.04005907,  0.38939251, -0.19759662,\n",
      "       -0.50900621,  0.18911527, -0.23105957, -0.25518749, -0.1720544 ,\n",
      "        0.09192964, -0.21819751, -0.42193578,  0.0114181 , -0.10415127]))], [(0.9099974191526582, array([-0.34070474,  0.29638496, -0.40250703, -0.07041767, -0.14174355,\n",
      "       -0.05833214,  0.27182231,  0.2440255 ,  0.21802554,  0.29708362,\n",
      "        0.13632733,  0.16862589, -0.49476447, -0.056597  ,  0.2033894 ]))], [(0.713889752720309, array([ 0.41650824,  0.23287539, -0.09664161,  0.24870539, -0.2604347 ,\n",
      "        0.71443758,  0.10026801, -0.0525134 ,  0.01856611, -0.12561608,\n",
      "        0.04253762, -0.00130757, -0.04973056, -0.25998768,  0.14844315]))], [(0.6439881233998795, array([ 0.54530896,  0.11990397,  0.03654587, -0.57806822, -0.22410876,\n",
      "       -0.16790029,  0.2408093 , -0.06488592, -0.03666708,  0.32565639,\n",
      "       -0.06806461,  0.26281886,  0.13536765,  0.02205362, -0.11060878]))], [(0.4373833344140537, array([-0.12421966,  0.03522716, -0.21254353,  0.26955603, -0.46072352,\n",
      "       -0.07269772, -0.17404993, -0.05911819, -0.08787701,  0.52316204,\n",
      "        0.17792287, -0.30248008,  0.45388296,  0.03187042, -0.05056444]))], [(0.2690126928961566, array([ 0.11285436, -0.24672683, -0.26959342,  0.13036642,  0.47700022,\n",
      "       -0.05627676,  0.61870308, -0.02963598,  0.05487345,  0.12875347,\n",
      "        0.06778827, -0.22854531,  0.2624753 , -0.27394843,  0.04458579]))], [(0.241019717361803, array([-0.0894959 ,  0.58326316,  0.04265802, -0.23685271,  0.1400589 ,\n",
      "        0.10717142,  0.14962633,  0.07143261, -0.05107987, -0.077382  ,\n",
      "       -0.27228765, -0.60008017,  0.07872248,  0.29167563, -0.03430733]))], [(0.11742792408349226, array([-0.09881101, -0.07622561,  0.542843  , -0.16304635, -0.09285706,\n",
      "        0.12572494,  0.24389365,  0.01256162,  0.12195872,  0.00806743,\n",
      "        0.71629534, -0.185437  , -0.04042202,  0.10877635,  0.05675525]))], [(0.07559529094947615, array([ 0.26387094, -0.23899608, -0.08530976,  0.10137257,  0.00630055,\n",
      "       -0.0194664 ,  0.00958818,  0.12286502, -0.01423147,  0.04151718,\n",
      "       -0.05329445, -0.02320505,  0.00077458,  0.61327849,  0.67725651]))], [(0.01557325353387315, array([-0.02490408,  0.00421306, -0.05040021, -0.00593088, -0.03478329,\n",
      "       -0.02673964, -0.02791656, -0.6915737 ,  0.69734963, -0.00646019,\n",
      "       -0.09930369, -0.0541005 , -0.02819779,  0.12361564,  0.02461739]))]]\n"
     ]
    }
   ],
   "source": [
    "# [5] \n",
    "\n",
    "eig_pairs.sort()\n",
    "eig_pairs.reverse()\n",
    "\n",
    "# sortierte Wertepaare anzeigen lassen\n",
    "print(eig_pairs)"
   ]
  },
  {
   "attachments": {},
   "cell_type": "markdown",
   "metadata": {},
   "source": [
    "The first two rows of this list now contain the two main principal components with the largest variances. \n",
    "\n",
    "- Save these first two rows as two separate variables of the type `list`.  "
   ]
  },
  {
   "cell_type": "code",
   "execution_count": 6,
   "metadata": {},
   "outputs": [
    {
     "name": "stdout",
     "output_type": "stream",
     "text": [
      "[(2.983623823753347, array([ 0.2148891 ,  0.36525401, -0.3106417 ,  0.14084981,  0.35038887,\n",
      "       -0.04576564, -0.18700741,  0.06595438,  0.10616576, -0.12772047,\n",
      "        0.48594361,  0.26271961,  0.18711692,  0.32114993, -0.26265975]))] [(2.6993292050779893, array([ 0.30597167, -0.0361922 , -0.0774804 , -0.16143611, -0.04838644,\n",
      "       -0.2683428 , -0.35908707,  0.40609975,  0.4225409 , -0.16050311,\n",
      "        0.09428273, -0.3677747 , -0.00352115, -0.36541961,  0.15100853]))]\n"
     ]
    }
   ],
   "source": [
    "# [6]\n",
    "# principal components 1 und 2\n",
    "pc1 = eig_pairs[0]\n",
    "pc2 = eig_pairs[1]\n",
    "\n",
    "print(pc1, pc2)"
   ]
  },
  {
   "cell_type": "markdown",
   "metadata": {},
   "source": [
    "#### 4. Constructing the matrix for visualisation \n",
    "\n",
    "Using the principal components as rotational axes, we now want to transform (or project) the orginal data points onto the two identified axes in the parameter space (i.e. the principal components). In order to reduce 15 parameters to two dimensions we need a 15x2 matrix, with the two eigenvectors (those with the highest eigenvalue) as columns. You have already saved these two eigenvectors and their eigenvalues as seperate lists in the last step. \n",
    "\n",
    "- Use `numpy.stack((vector1, vector2))` to create the required transformation matrix. With the additional argument `axis=-1` you can make sure that the two lists (or vectors) are aligned horizontally. Also, make sure the correc index, so that only the eigenvector is contained in the matrix (we do not need the eigenvalues anymore). \n",
    "\n",
    "- Check the size of the created matrix to make sure it has 15x2 dimensions. "
   ]
  },
  {
   "cell_type": "code",
   "execution_count": 7,
   "metadata": {},
   "outputs": [
    {
     "name": "stdout",
     "output_type": "stream",
     "text": [
      "(15, 2)\n",
      "[[ 0.2148891   0.30597167]\n",
      " [ 0.36525401 -0.0361922 ]\n",
      " [-0.3106417  -0.0774804 ]\n",
      " [ 0.14084981 -0.16143611]\n",
      " [ 0.35038887 -0.04838644]\n",
      " [-0.04576564 -0.2683428 ]\n",
      " [-0.18700741 -0.35908707]\n",
      " [ 0.06595438  0.40609975]\n",
      " [ 0.10616576  0.4225409 ]\n",
      " [-0.12772047 -0.16050311]\n",
      " [ 0.48594361  0.09428273]\n",
      " [ 0.26271961 -0.3677747 ]\n",
      " [ 0.18711692 -0.00352115]\n",
      " [ 0.32114993 -0.36541961]\n",
      " [-0.26265975  0.15100853]]\n"
     ]
    }
   ],
   "source": [
    "# [7]\n",
    "# creating transformation matrix\n",
    "matrix_W = np.stack((pc1[0][1], pc2[0][1]), axis=-1) \n",
    "\n",
    "# print matrix\n",
    "print(matrix_W.shape)\n",
    "print (matrix_W)"
   ]
  },
  {
   "cell_type": "markdown",
   "metadata": {},
   "source": [
    "#### 5. Projection onto the new axes and visualisation\n",
    "\n",
    "Now, you can perform the tranforamtion of your standardised matrix from above using the equation `Y = data x W `. \n",
    "\n",
    "- Use the syntax for matrix multplication `matrix1.dot(matrix2)` your transform your data. The output matrix should have the dimension 39 x 2 (datapoints x PCs).  "
   ]
  },
  {
   "cell_type": "code",
   "execution_count": 8,
   "metadata": {},
   "outputs": [
    {
     "name": "stdout",
     "output_type": "stream",
     "text": [
      "(39, 2)\n"
     ]
    }
   ],
   "source": [
    "# [8]\n",
    "# Matrix multiplication \n",
    "Y = data_std.dot(matrix_W)\n",
    "\n",
    "# Größe der Matrix anzeigen lassen\n",
    "print(np.shape(Y))"
   ]
  },
  {
   "attachments": {},
   "cell_type": "markdown",
   "metadata": {},
   "source": [
    "To make further analysis of the PCA results easier, we can convert the matrix into a `pandas` DataFrame. Also, we can then add additional information to this DataFrame for enhanced visualisation. \n",
    "\n",
    "- Convert the matrix (or ndarray) into a DataFrame (x = pd.DataFrame(data = data, columns = ['column', 'more columns']))\n",
    "\n",
    "- Add a column with the values for the land use type (the original ones, not the standardised ones) to this DataFrame. \n",
    "\n",
    "- Then, visualise the PCA results as a Score Plot, i.e. a scatter plot with the first PC on the x-axis, and the second PC on the y-axis. Use the land use type as color for the scatter points. What do the results indicate for the land use?  "
   ]
  },
  {
   "cell_type": "code",
   "execution_count": 19,
   "metadata": {},
   "outputs": [
    {
     "name": "stdout",
     "output_type": "stream",
     "text": [
      "(39, 2)\n",
      "    principal component 1  principal component 2  Land_use\n",
      "0               -0.392310               4.492717         1\n",
      "1               -0.837859              -0.133916         1\n",
      "2               -1.123591               2.994448         1\n",
      "3               -2.184060               2.370946         1\n",
      "4                0.112368               0.344115         1\n",
      "5               -1.942483               0.463036         1\n",
      "6               -1.468191               1.542993         1\n",
      "7               -1.976517              -0.502661         1\n",
      "8               -1.764048               0.364215         1\n",
      "9               -0.435029              -3.717836         1\n",
      "10              -1.686851               0.915478         1\n",
      "11              -1.966881               1.436134         1\n",
      "12              -1.108189              -1.257953         1\n",
      "13              -1.184446               2.020239         1\n",
      "14               0.059804              -2.201549         1\n",
      "15              -1.079665              -0.896639         1\n",
      "16              -0.416691              -0.422199         1\n",
      "17              -0.713091               1.495435         1\n",
      "18               0.097523              -2.117869         1\n",
      "19              -0.017961              -1.584137         1\n",
      "20              -2.403651              -1.144363         1\n",
      "21              -0.107143              -2.443391         1\n",
      "22               0.733479              -0.170084         1\n",
      "23              -0.181014              -1.449257         1\n",
      "24               1.020289              -1.070002         1\n",
      "25               0.375632              -0.034334         1\n",
      "26              -2.404687               0.317555         1\n",
      "27              -0.083325              -1.506137         1\n",
      "28               0.409965               0.351862         1\n",
      "29               0.575228              -0.168679         1\n",
      "30              -0.153775              -2.193272         1\n",
      "31               1.582203              -0.371236         2\n",
      "32               4.370110               0.751127         2\n",
      "33               1.892017              -0.539210         2\n",
      "34               3.932314               1.854351         2\n",
      "35               2.535775               1.848598         2\n",
      "36               3.016718               1.106594         2\n",
      "37               2.383234              -0.363352         2\n",
      "38               2.534799              -0.381766         2\n"
     ]
    },
    {
     "data": {
      "image/png": "[encoded data removed]",
      "text/plain": [
       "<Figure size 800x500 with 1 Axes>"
      ]
     },
     "metadata": {},
     "output_type": "display_data"
    }
   ],
   "source": [
    "# [9]\n",
    "# aus ndarray einen DataFrame erzeugen \n",
    "principalDf = pd.DataFrame(data = Y , columns = ['principal component 1', 'principal component 2'])\n",
    "\n",
    "print(principalDf.shape)\n",
    "\n",
    "#print(principalDf)\n",
    "\n",
    "# eine dritte Spalte mit den Werten der Flächennutzung ergänzen\n",
    "Z = pd.DataFrame(data,columns = ['Land_use'])\n",
    "finalDf = pd.concat([principalDf, Z], axis = 1) \n",
    "\n",
    "print(finalDf)\n",
    "\n",
    "# hier Abbildung mit matplotlib erzeugen\n",
    "\n",
    "import matplotlib.pyplot as plt\n",
    "fig = plt.figure(1, figsize=(8, 5))\n",
    "ax = fig.add_subplot(1,1,1) \n",
    "ax.scatter(finalDf['principal component 1'], \n",
    "           finalDf['principal component 2'], \n",
    "           c = finalDf['Land_use']*30)\n",
    "ax.set_xlabel('principal component 1', fontsize = 15) \n",
    "ax.set_ylabel('principal component 2', fontsize = 15)\n",
    "ax.set_title('2 Component PCA manually', fontsize = 20) \n",
    "plt.show()\n",
    "\n"
   ]
  },
  {
   "attachments": {},
   "cell_type": "markdown",
   "metadata": {},
   "source": [
    "### Principal Component Analysis with sklearn\n",
    "\n",
    "The Python Packge `sklearn` contains many useful functions and methods for statistical analysis and machine learning. One of them is `sklearn.decomposition.PCA()` for principal component analysis. \n",
    "\n",
    "- Define a variable using `sklearn.decomposition.PCA()`, with the desired number of components as an input argument (`n_components=15`). Check the data type of the created variable. \n",
    "\n",
    "- You can then calculate the transformed dataset by applying the function `.fit_transform()` as an attribute to the just created variable. The function requires the original (standardised) data as an input argument. "
   ]
  },
  {
   "cell_type": "code",
   "execution_count": null,
   "metadata": {},
   "outputs": [
    {
     "name": "stdout",
     "output_type": "stream",
     "text": [
      "<class 'sklearn.decomposition._pca.PCA'>\n",
      "(39, 15)\n"
     ]
    }
   ],
   "source": [
    "# [10]\n",
    "# import the package\n",
    "from sklearn.decomposition import PCA\n",
    "\n",
    "# creating the model object\n",
    "model = PCA(n_components=15)\n",
    "print(type(model))\n",
    "\n",
    "# applying fit transform\n",
    "data_reduced = model.fit_transform(data_std)\n",
    "print(data_reduced.shape)"
   ]
  },
  {
   "attachments": {},
   "cell_type": "markdown",
   "metadata": {},
   "source": [
    "For evaluating the meaningfulness of the PCA results it is important to know, how much of the original variance (and thus information) is contained in the new transformed dataset. \n",
    "\n",
    "- Calculate the explained variance by applying the attribute `.explained_variance_ratio_` to the created PCA object from above. \n",
    "\n",
    "- Also, calculate the sum of all variances. Check (e.g. print) the values of both the individually explained variances for each PC and the sum of all variances. How would you evaluate the results?"
   ]
  },
  {
   "cell_type": "code",
   "execution_count": null,
   "metadata": {},
   "outputs": [
    {
     "name": "stdout",
     "output_type": "stream",
     "text": [
      "[0.19380804 0.17534104 0.13723381 0.10807836 0.09093575 0.07219663\n",
      " 0.05911094 0.04637233 0.04183171 0.02841123 0.01747433 0.01565598\n",
      " 0.0076278  0.00491046 0.0010116 ]\n",
      "1.0000000000000002\n"
     ]
    }
   ],
   "source": [
    "# [11] \n",
    "# calculating the individual variances\n",
    "var_exp = model.explained_variance_ratio_\n",
    "\n",
    "# Sum of the variances \n",
    "var_tot = sum(model.explained_variance_ratio_)\n",
    "\n",
    "# print both parameters\n",
    "print (var_exp)\n",
    "print(var_tot)"
   ]
  },
  {
   "cell_type": "markdown",
   "metadata": {},
   "source": [
    "- Now you can plot the PCA results from `sklearn` analogue to the Score Plot above, and compare both visualisation. "
   ]
  },
  {
   "cell_type": "code",
   "execution_count": null,
   "metadata": {},
   "outputs": [
    {
     "data": {
      "image/png": "[encoded data removed]",
      "text/plain": [
       "<Figure size 800x500 with 1 Axes>"
      ]
     },
     "metadata": {},
     "output_type": "display_data"
    }
   ],
   "source": [
    "# [12] \n",
    "\n",
    "pcs = np.column_stack((data_reduced[:,0], data_reduced[:,1]))\n",
    "\n",
    "principalDf2 = pd.DataFrame(data = pcs, columns = ['principal component 1', 'principal component 2'])\n",
    "finalDf2 = pd.concat([principalDf2,pd.DataFrame(data,columns = ['Land_use'])], axis = 1) \n",
    "\n",
    "fig = plt.figure(1, figsize=(8, 5))\n",
    "ax = fig.add_subplot(1,1,1) \n",
    "ax.scatter(finalDf2['principal component 1'], \n",
    "           finalDf2['principal component 2'], \n",
    "           c = finalDf2['Land_use'])\n",
    "ax.set_xlabel('principal component 1', fontsize = 15) \n",
    "ax.set_ylabel('principal component 2', fontsize = 15)\n",
    "ax.set_title('2 Component PCA sklearn', fontsize = 20) \n",
    "plt.show()"
   ]
  },
  {
   "cell_type": "markdown",
   "metadata": {},
   "source": [
    "If you have done everything correctly, both plots should look identically (or maybe with mirrored results, if you have switched the orientation of one of the axes). \n",
    "\n",
    "Other ways to inspect and visualise PCA results include the Loading Plot, i.e. a bar plot showing the contribution of each parameter to the principal components. \n",
    "\n",
    "- Create a Loading plot, for the first two PCs (e.g. using `subplots` in `matplotlib`) and the bars according to the parameters in your dataset. \n",
    "\n",
    "- Looking at this plot, you can now assess the importance of each parameter in the different PCs. How would you rate the importance of the land use? "
   ]
  },
  {
   "cell_type": "code",
   "execution_count": 27,
   "metadata": {},
   "outputs": [
    {
     "data": {
      "image/png": "[encoded data removed]",
      "text/plain": [
       "<Figure size 2000x500 with 2 Axes>"
      ]
     },
     "metadata": {},
     "output_type": "display_data"
    }
   ],
   "source": [
    "# [13] Loading Plot\n",
    "\n",
    "fig = plt.figure(1, figsize=(20, 5))\n",
    "ax1 = plt.subplot(211)\n",
    "\n",
    "bars = ['Depth', 'Oxygen', 'Temperature', 'Electric conductivity', 'pH', 'Phosphate', 'Nitrate', 'Detritus', 'Sediment', 'Geology', 'Land use', 'Species', 'Individual', 'Crustacea', 'Oligochates']\n",
    "\n",
    "ax1.bar(bars, model.components_[0], color='k')\n",
    "ax1.hlines(0, -1, 15, colors='k', lw=1)\n",
    "ax1.set_ylabel('PC1 loadings')\n",
    "ax1.set_xlim(-0.5, 14.5)\n",
    "\n",
    "ax2 = plt.subplot(212)\n",
    "ax2.bar(bars, model.components_[1], color='k')\n",
    "ax2.hlines(0, -1, 15, colors='k', lw=1)\n",
    "ax2.set_ylabel('PC2 loadings')\n",
    "ax2.set_xlim(-0.5, 14.5)\n",
    "\n",
    "\n",
    "plt.show()\n"
   ]
  },
  {
   "cell_type": "markdown",
   "metadata": {},
   "source": [
    "## END\n",
    "\n",
    "### References: \n",
    "\n",
    "Koch et al. (2020), Groundwater fauna in an urban area: natural or affected? https://hess.copernicus.org/preprints/hess-2020-151/hess-2020-151.pdf\n",
    "\n",
    "Lever et al. (2017) Principal component analysis, Nature Methods 14(7), 641-642, https://doi.org/10.1038/nmeth.4346 \n",
    "\n",
    "https://towardsdatascience.com/a-complete-guide-to-principal-component-analysis-pca-in-machine-learning-664f34fc3e5a"
   ]
  }
 ],
 "metadata": {
  "kernelspec": {
   "display_name": "GDA1",
   "language": "python",
   "name": "python3"
  },
  "language_info": {
   "codemirror_mode": {
    "name": "ipython",
    "version": 3
   },
   "file_extension": ".py",
   "mimetype": "text/x-python",
   "name": "python",
   "nbconvert_exporter": "python",
   "pygments_lexer": "ipython3",
   "version": "3.11.5"
  }
 },
 "nbformat": 4,
 "nbformat_minor": 4
}
