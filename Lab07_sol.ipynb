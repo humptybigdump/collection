{
 "cells": [
  {
   "cell_type": "markdown",
   "id": "0e42763e",
   "metadata": {},
   "source": [
    "# Stochastic Simulation\n",
    "\n",
    "*Winter Semester 2024/25*\n",
    "\n",
    "20.12.2024\n",
    "\n",
    "Prof. Sebastian Krumscheid<br>\n",
    "Assistants: Stjepan Salatovic, Louise Kluge"
   ]
  },
  {
   "cell_type": "markdown",
   "id": "5c5187ec",
   "metadata": {},
   "source": [
    "<h3 align=\"center\">\n",
    "Exercise sheet 07\n",
    "</h3>\n",
    "\n",
    "---\n",
    "\n",
    "<h1 align=\"center\">\n",
    "Variance Reduction Techniques (cont.)\n",
    "</h1>"
   ]
  },
  {
   "cell_type": "code",
   "execution_count": 93,
   "id": "f636d6f9",
   "metadata": {},
   "outputs": [],
   "source": [
    "import matplotlib.pyplot as plt\n",
    "import numpy as np\n",
    "\n",
    "from typing import Tuple\n",
    "from tqdm.notebook import tqdm\n",
    "from scipy.stats import norm, multivariate_normal\n",
    "from scipy.integrate import nquad"
   ]
  },
  {
   "cell_type": "code",
   "execution_count": 94,
   "id": "a82b0a91-6d0f-436d-bc1e-bfc75cc60fd5",
   "metadata": {},
   "outputs": [],
   "source": [
    "plt.rc('axes', labelsize=14)     # fontsize of the x and y labels\n",
    "plt.rc('xtick', labelsize=12)    # fontsize of the tick labels\n",
    "plt.rc('ytick', labelsize=12)    # fontsize of the tick labels\n",
    "plt.rc('legend', fontsize=14)    # legend fontsize"
   ]
  },
  {
   "cell_type": "markdown",
   "id": "4d0d84ff-b2fb-4e5d-adb1-9fca7ff97936",
   "metadata": {},
   "source": [
    "## Exercise 1\n",
    "\n",
    "Suppose we are given a control variate $Y$ with known mean $\\mathbb{E}(Y)$ and\n",
    "consider the usual modified random variable\n",
    "\\begin{equation*}\n",
    "  \\tilde{Z}_\\alpha = Z + \\alpha\\bigl(Y-\\mathbb{E}(Y)\\bigr)\\;,\n",
    "\\end{equation*}\n",
    "from which we aim at estimating $\\mu=\\mathbb{E}(Z)$. In fact, here we consider\n",
    "the following _one-shot algorithm_ for estimating $\\mu$:\n",
    "\n",
    "---\n",
    "\n",
    "**Algorithm 1** One-shot algorithm\n",
    "\n",
    "- Generate $N$ i.i.d. replicas $\\bigl(Z^{(i)},Y^{(i)}\\bigr)$, $i=1,\\dots, N$.\n",
    "- Estimate ${\\alpha}_{\\text{opt}}$ by $\\hat{\\alpha}_{\\text{opt}} := -\\hat{\\sigma}_{Z,Y}^2/\\hat{\\sigma}_{Y}^2$, using the usual unbiased mean, variance, and covariance estimators based on the sample ${\\bigl(Z^{(i)},Y^{(i)}\\bigr)}_{i=1,\\dots,N}$.\n",
    "- Compute the control variate estimator of $\\mu$ as $$\n",
    "    \\hat\\mu = \\frac{1}{N}\\sum_{i=1}^N \\Bigl(Z^{(i)} + \\hat{\\alpha}_{\\text{opt}}\\bigl(Y^{(i)} - \\mathbb{E}(Y)\\bigr)\\Bigr)\\;.$$\n",
    "---"
   ]
  },
  {
   "cell_type": "markdown",
   "id": "696e9f95-fc46-401e-b226-2fec94255819",
   "metadata": {},
   "source": [
    "1. Show that the estimator $\\hat\\mu$ is asymptotically normally\n",
    "  distributed, in the sense that\n",
    "  \\begin{equation*}\n",
    "    \\sqrt{N}\\frac{ \\hat\\mu - \\mu}{\\sigma_{\\text{opt}}} \\underset{N\\to\\infty}{\\Rightarrow} \\mathcal{N}(0,1)\\;,\\quad\\text{where}\\quad \\sigma_{\\text{opt}} = \\sqrt{\\text{Var}(\\tilde{Z}_{\\alpha_\\text{opt}})}\\;.\n",
    "  \\end{equation*}\n",
    "  Furthermore, explain why the asymptotic normality also holds when\n",
    "  $\\sigma_{\\text{opt}}$ is replaced by the usual empirical standard\n",
    "  deviation based on a sample of realizations of\n",
    "  $\\tilde{Z}_{\\alpha_\\text{opt}}$.\n",
    "\n",
    "      **Hint:** Consider re-writing the estimator as the summation of the control variate estimator computed with the exact $\\alpha_{\\text{opt}}$ and a correction term involving $\\hat{\\alpha}_{\\text{opt}}-\\alpha_{\\text{opt}}$ as follows:\n",
    "      \\begin{align*}\n",
    "     \\hat\\mu &= \\frac{1}{N}\\sum_{i=1}^N \\Bigl(Z^{(i)} + \\alpha_{\\text{opt}}\\bigl(Y^{(i)} - \\mathbb{E}(Y)\\bigr)\\Bigr) + (\\hat{\\alpha}_{\\text{opt}}-\\alpha_{\\text{opt}})\\Bigl( \\frac{1}{N}\\sum_{i=1}^N Y^{(i)} -  \\mathbb{E}(Y) \\Bigr).\n",
    "    \\end{align*}  \n",
    "      Then, recall Slutsky's theorem, which states\n",
    "        that if $\\xi_n$ converges in distribution to $\\xi$ and $\\eta_n$\n",
    "        converges in probability to a constant $c$, then\n",
    "        $$f(\\xi_n,\\eta_n) \\underset{n\\to\\infty}{\\Rightarrow} f(\\xi,c)$$ for\n",
    "        any continuous function $f\\colon\\mathbb{R}\\times\\mathbb{R}\\to \\mathbb{R}$. Here, the\n",
    "        symbol $\\Rightarrow$ denotes convergence in distribution."
   ]
  },
  {
   "cell_type": "markdown",
   "id": "4c13ba95-48d3-4c4e-a089-903b9a0f9a79",
   "metadata": {},
   "source": [
    "Because\n",
    "  $\\hat{\\alpha}_{\\text{opt}}\\equiv \\hat{\\alpha}_{\\text{opt}}(N)$\n",
    "  depends on the samples\n",
    "  ${\\bigl(Z^{(i)}, Y^{(i)}\\bigr)}_{i=1,\\dots, N}$, the control variate\n",
    "  estimator $\\hat\\mu$ is not unbiased (notice that it is unbiased for\n",
    "  any $\\alpha$ deterministic though!), but only asymptotically\n",
    "  unbiased. Consequently, the CLT (i.e. the asymptotic normality) for\n",
    "  $\\hat\\mu$ is not immediate, although not very difficult either. In\n",
    "  fact, first note that $\\hat\\mu$ can be written as\n",
    "  \\begin{equation*}\n",
    "    \\begin{aligned}\n",
    "      \\hat\\mu &= \\frac{1}{N}\\sum_{i=1}^N \\Bigl(Z^{(i)} + \\alpha_{\\text{opt}}\\bigl(Y^{(i)} - \\mathbb{E}(Y)\\bigr)\\Bigr) + (\\hat{\\alpha}_{\\text{opt}}-\\alpha_{\\text{opt}})\\Bigl( \\frac{1}{N}\\sum_{i=1}^NY^{(i)} -  \\mathbb{E}(Y) \\Bigr)\\\\\n",
    "      &=E_N\\bigl(\\tilde{Z}_{\\alpha_{\\text{opt}}}\\bigr) +\n",
    "      (\\hat{\\alpha}_{\\text{opt}}-\\alpha_{\\text{opt}})\\Bigl(E_N(Y) -\n",
    "      \\mathbb{E}(Y) \\Bigr)\\;,\n",
    "    \\end{aligned}\n",
    "  \\end{equation*}\n",
    "  where $E_N(\\xi) := \\frac{1}{N}\\sum_{i=1}^N\\xi^{(i)}$ denotes the\n",
    "  sample average of $\\xi$. Since\n",
    "  $\\mathbb{E}\\bigl(\\tilde{Z}_{\\alpha}\\bigr) = \\mu$ for any deterministic\n",
    "  $\\alpha$, we find that\n",
    "  \\begin{equation*}\n",
    "    \\begin{aligned}\n",
    "    \\sqrt{N}\\,\\frac{\\hat\\mu - \\mu}{\\sigma_{\\text{opt}}} &= \\sqrt{N}\\,\\frac{E_N\\bigl(\\tilde{Z}_{\\alpha_{\\text{opt}}}\\bigr) - \\mathbb{E}\\bigl(\\tilde{Z}_{\\alpha_{\\text{opt}}}\\bigr)}{\\sqrt{\\text{Var}(\\tilde{Z}_{\\alpha_\\text{opt}})}}\n",
    "    + \\sqrt{N}\\,\\frac{E_N(Y) -  \\mathbb{E}(Y) }{\\sqrt{\\text{Var}(Y)}}\\,\\sqrt{\\frac{\\text{Var}(Y)}{\\text{Var}(\\tilde{Z}_{\\alpha_\\text{opt}})}}(\\hat{\\alpha}_{\\text{opt}}-\\alpha_{\\text{opt}})\\\\\n",
    "    &= \\xi_N + C\\,\\zeta_N\\eta_N \\;,\n",
    "  \\end{aligned}\n",
    "\\end{equation*}\n",
    "for $C = \\sqrt{\\text{Var}(Y)/\\text{Var}(\\tilde{Z}_{\\alpha_\\text{opt}})}$ and \n",
    "\\begin{equation*}\n",
    "  \\xi_N := \\sqrt{N}\\,\\frac{E_N\\bigl(\\tilde{Z}_{\\alpha_{\\text{opt}}}\\bigr) - \\mathbb{E}\\bigl(\\tilde{Z}_{\\alpha_{\\text{opt}}}\\bigr)}{\\sqrt{\\text{Var}(\\tilde{Z}_{\\alpha_\\text{opt}})}}\\;,\\quad\n",
    "  \\eta_N := \\sqrt{N}\\,\\frac{E_N(Y) -  \\mathbb{E}(Y) }{\\sqrt{\\text{Var}(Y)}}\\;,\\quad \\zeta_N := \\hat{\\alpha}_{\\text{opt}}(N)-\\alpha_{\\text{opt}}\\;.\n",
    "\\end{equation*}\n",
    "The individual limits for these three random variables are\n",
    "\\begin{equation*}\n",
    "\\xi_N\\Rightarrow \\mathcal{N}(0,1)\\;,\\quad \\eta_N\\Rightarrow \\mathcal{N}(0,1)\\;,\\quad\\zeta_N\\to 0\\;\\text{in prob.}\n",
    "\\end{equation*}\n",
    "It follows from Slutsky's theorem that $\\zeta_N\\eta_N \\Rightarrow\n",
    "0$. Since the product converges to a constant, it follows that\n",
    "$\\zeta_N\\eta_N \\to 0$ in probability. The CLT for $\\hat\\mu$ then\n",
    "follows in view of using Slutsky's theorem again."
   ]
  },
  {
   "cell_type": "markdown",
   "id": "a654f713-3798-408f-818f-377ecedcc831",
   "metadata": {},
   "source": [
    "2. Implement the one-shot algorithm described above. Apply it to\n",
    "  the examples considered in Lab 06, Exercise 1. That is, approximate\n",
    "  the probability $p = \\mathbb{P}(\\boldsymbol{X}\\in A)$ for the sets\n",
    "  $A=\\bigl\\{\\boldsymbol{x}=(x_1,x_2)\\in\\mathbb{R}^2\\colon x_i\\ge\n",
    "  a,\\,i=1,2\\bigr\\}$ with $a=1,3,10$. Here,\n",
    "  $\\boldsymbol{X}\\sim\\mathcal{N}(\\boldsymbol{0},\\Sigma)$ with\n",
    "  $\\Sigma=\\bigl(\\begin{smallmatrix} 4 & -1\\\\ -1 &\n",
    "    4 \\end{smallmatrix}\\bigr).$\n",
    "    1. First, explain why $Y = \\mathbb{I}_{\\{X_1+X_2\\ge 2a\\}}$ for\n",
    "    $\\boldsymbol{X} = (X_1,X_2)$ could be a decent control variate for\n",
    "    this problem.\n",
    "    2. Then perform simulations and investigate the variance\n",
    "    reduction effect for the control variate $Y$. Moreover, use the\n",
    "    result proved in point 1 to compute asymptotic $95\\%$ confidence\n",
    "    intervals.\n",
    "    3. Can you think of other appropriate control variates?"
   ]
  },
  {
   "cell_type": "markdown",
   "id": "df814b31-79e5-4971-ade4-3160f9c45e4f",
   "metadata": {},
   "source": [
    "Implementation is identical to a Monte Carlo method for the\n",
    "  random variable $\\tilde{Z}_{\\alpha_{\\text{opt}}}$, once\n",
    "  $\\hat{\\alpha}_{\\text{opt}}$ has been estimated.\n",
    "    \n",
    "A. The control variate $Y = \\mathbb{I}_{\\{X_1+X_2\\ge 2a\\}}$ is\n",
    "motivated by the observation that\n",
    "$\\min(X_1,X_2)\\le \\frac{X_1+X_2}{2}$ and the fact that the\n",
    "distribution of the random variable $\\xi = X_1+X_2$ is known so\n",
    "that $\\mathbb{E}(Y)$ is also given. In fact, $\\xi = B\\boldsymbol{X}$ for\n",
    "$B=(1,1)$, so that\n",
    "$\\xi\\sim \\mathcal{N}(0,B\\Sigma B^T) = \\mathcal{N}(0,6)$. It\n",
    "follows that $\\mathbb{E}(Y) = 1- \\Phi(2a/\\sqrt{6})$, where $\\Phi$ is the\n",
    "CDF of the $\\mathcal{N}(0,1)$ distribution."
   ]
  },
  {
   "cell_type": "code",
   "execution_count": 95,
   "id": "83fa2f1c-0d14-4d8c-9275-bad8955abcbc",
   "metadata": {},
   "outputs": [],
   "source": [
    "def crude_Monte_Carlo(N: int, a: float, fix_seed: bool=False) -> Tuple[float, float]:\n",
    "    \"\"\"\n",
    "    Estimates the probability of both components of a random variable X being greater\n",
    "    than or equal to `a`, using a crude Monte Carlo simulation.\n",
    "    Returns estimates for mean as well as variance.\n",
    "    \"\"\"\n",
    "    if fix_seed:\n",
    "        np.random.seed(999)\n",
    "    x = phi.rvs(size=N)\n",
    "    psi = lambda x, a: (x[:, 0] >= a) * (x[:, 1] >= a)\n",
    "    z = psi(x, a)\n",
    "    mc_mean = np.mean(z)\n",
    "    mc_var = np.var(z, ddof=1)\n",
    "\n",
    "    return mc_mean, mc_var"
   ]
  },
  {
   "cell_type": "code",
   "execution_count": 96,
   "id": "bf3b86c9-1169-461b-b83c-48429f004fd4",
   "metadata": {},
   "outputs": [],
   "source": [
    "def importance_sampling(N: int, a: float, delta: float=1.0, fix_seed: bool=False) -> Tuple[float, float]:\n",
    "    \"\"\"\n",
    "    Estimates the probability of both components of a random variable X being greater\n",
    "    than or equal to `a`, using importance sampling with a Gaussian distribution.\n",
    "    Returns estimates for mean as well as variance.\n",
    "    \"\"\"\n",
    "    if fix_seed:\n",
    "        np.random.seed(999)\n",
    "    x_star = np.array([a, a])\n",
    "    g = multivariate_normal(mean=x_star, cov=delta * sigma)\n",
    "    x = g.rvs(size=N)\n",
    "    psi = lambda x, a: (x[:, 0] >= a) * (x[:, 1] >= a)\n",
    "    z = psi(x, a) * phi.pdf(x) / g.pdf(x)\n",
    "    mc_mean = np.mean(z)\n",
    "    mc_var = np.var(z, ddof=1)\n",
    "\n",
    "    return mc_mean, mc_var"
   ]
  },
  {
   "cell_type": "code",
   "execution_count": 137,
   "id": "2245d764-a62c-46b9-80d2-f5e756dcd8c2",
   "metadata": {},
   "outputs": [],
   "source": [
    "def control_variate(N: int, a: float, fix_seed: bool=False) -> Tuple[float, float]:\n",
    "    \"\"\"\n",
    "    Estimates the probability of both components of a random variable X being greater\n",
    "    than or equal to `a`, using a one-shot control variate algorithm.\n",
    "    Returns estimates for mean as well as variance.\n",
    "    \"\"\"\n",
    "    if fix_seed:\n",
    "        np.random.seed(999)\n",
    "    x = phi.rvs(size=N)\n",
    "    psi = lambda x, a: (x[:, 0] >= a) * (x[:, 1] >= a)\n",
    "    psi_cv = lambda x, a: x[:, 0] + x[:, 1] >= 2 * a\n",
    "    z = psi(x, a)\n",
    "    y = psi_cv(x, a)\n",
    "    exp_y = 1 - norm().cdf(2 * a / np.sqrt(6))\n",
    "\n",
    "    cov_zy = 1 / (N - 1) * np.sum((z - np.mean(z)) * (y - exp_y))\n",
    "    cov_yy = np.var(y, ddof=1)\n",
    "    opt_alpha = -cov_zy / cov_yy\n",
    "\n",
    "    z_alpha = z + opt_alpha * (y - exp_y)\n",
    "    z = psi(x, a)\n",
    "    cv_mean = np.mean(z_alpha)\n",
    "    cv_var = np.var(z_alpha, ddof=1)\n",
    "\n",
    "    return cv_mean, cv_var"
   ]
  },
  {
   "cell_type": "code",
   "execution_count": 138,
   "id": "11bf8b95-9a73-43a9-b2e8-01b8f7a2036f",
   "metadata": {},
   "outputs": [],
   "source": [
    "sigma = np.array([\n",
    "    [4, -1],\n",
    "    [-1, 4],\n",
    "])\n",
    "phi = multivariate_normal(cov=sigma)"
   ]
  },
  {
   "cell_type": "code",
   "execution_count": 139,
   "id": "ef247b31-d548-4735-b089-ac7202cd501c",
   "metadata": {},
   "outputs": [],
   "source": [
    "a_vals = [1, 3]\n",
    "true_p = [\n",
    "    nquad(\n",
    "        lambda x, y: phi.pdf([x, y]),\n",
    "        ranges=[(a, np.inf), (a, np.inf)])[0]\n",
    "    for a in a_vals\n",
    "]"
   ]
  },
  {
   "cell_type": "code",
   "execution_count": 140,
   "id": "7c0df810-f4c2-4e30-9594-a88e85073475",
   "metadata": {},
   "outputs": [
    {
     "name": "stdout",
     "output_type": "stream",
     "text": [
      "Crude Monte Carlo with N = 100000 samples\n",
      "-----------------------------------------\n",
      "a = 1  | p = 0.06529 ± 1.531e-03 | rel. RMSE = 1.265e-02\n",
      "a = 3  | p = 0.00144 ± 2.350e-04 | rel. RMSE = 9.711e-02\n",
      "\n",
      "Importance sampling with N = 100000 samples\n",
      "-----------------------------------------\n",
      "a = 1  | p = 0.06437 ± 8.702e-04 | rel. RMSE = 1.224e-02\n",
      "a = 3  | p = 0.00137 ± 2.796e-05 | rel. RMSE = 1.208e-02\n",
      "\n",
      "Control variate with N = 100000 samples\n",
      "-------------------------------------------\n",
      "a = 1  | p = 0.06545 ± 1.300e-03 | rel. RMSE = 1.203e-02\n",
      "a = 3  | p = 0.00137 ± 2.101e-04 | rel. RMSE = 7.842e-02\n"
     ]
    }
   ],
   "source": [
    "alpha = 0.05\n",
    "cval = norm().ppf(1 - alpha / 2)\n",
    "\n",
    "N = 100_000\n",
    "\n",
    "print(f\"Crude Monte Carlo with N = {N} samples\\n\" + \"-\" * 41)\n",
    "for a in a_vals:\n",
    "    p = true_p[a_vals.index(a)]\n",
    "    mean, var = crude_Monte_Carlo(N, a)\n",
    "    ci = cval * np.sqrt(var / N)\n",
    "    rmse = np.sqrt((mean - p) ** 2 + var / N) / p\n",
    "    print(f\"a = {a:<2} | p = {mean:.5f} ± {ci:.3e} | rel. RMSE = {rmse:.3e}\")\n",
    "\n",
    "print(f\"\\nImportance sampling with N = {N} samples\\n\" + \"-\" * 41)\n",
    "for a in a_vals:\n",
    "    p = true_p[a_vals.index(a)]\n",
    "    mean, var = importance_sampling(N, a)\n",
    "    ci = cval * np.sqrt(var / N)\n",
    "    rmse = np.sqrt((mean - p) ** 2 + var / N) / p\n",
    "    print(f\"a = {a:<2} | p = {mean:.5f} ± {ci:.3e} | rel. RMSE = {rmse:.3e}\")\n",
    "\n",
    "print(f\"\\nControl variate with N = {N} samples\\n\" + \"-\" * 43)\n",
    "for a in a_vals:\n",
    "    p = true_p[a_vals.index(a)]\n",
    "    mean, var = control_variate(N, a)\n",
    "    ci = cval * np.sqrt(var / N)\n",
    "    rmse = np.sqrt((mean - p) ** 2 + var / N) / p\n",
    "    print(f\"a = {a:<2} | p = {mean:.5f} ± {ci:.3e} | rel. RMSE = {rmse:.3e}\")"
   ]
  },
  {
   "cell_type": "code",
   "execution_count": 141,
   "id": "218591df-7851-41d9-88c5-fafff761ed99",
   "metadata": {},
   "outputs": [
    {
     "data": {
      "application/vnd.jupyter.widget-view+json": {
       "model_id": "0d695cc2e2ab4e12851332b14216c42b",
       "version_major": 2,
       "version_minor": 0
      },
      "text/plain": [
       "0it [00:00, ?it/s]"
      ]
     },
     "metadata": {},
     "output_type": "display_data"
    }
   ],
   "source": [
    "a_vals = np.linspace(1, 3, 100)\n",
    "\n",
    "N = 100_000\n",
    "\n",
    "var_red_is = np.zeros(len(a_vals))\n",
    "var_red_cv = np.zeros(len(a_vals))\n",
    "for i, a in tqdm(enumerate(a_vals)):\n",
    "    _, cmc_var = crude_Monte_Carlo(N, a, fix_seed=True)\n",
    "    _, is_var = importance_sampling(N, a, fix_seed=True)\n",
    "    _, cv_var = control_variate(N, a, fix_seed=True)\n",
    "\n",
    "    var_red_is[i] = cmc_var / is_var\n",
    "    var_red_cv[i] = cmc_var / cv_var"
   ]
  },
  {
   "cell_type": "code",
   "execution_count": 142,
   "id": "841cb628-7ae3-40f1-9dec-29899637b4f2",
   "metadata": {},
   "outputs": [
    {
     "data": {
      "image/png": "[encoded data removed]",
      "text/plain": [
       "<Figure size 640x480 with 1 Axes>"
      ]
     },
     "metadata": {},
     "output_type": "display_data"
    }
   ],
   "source": [
    "plt.semilogy(a_vals, var_red_is, label=\"Importance sampling\")\n",
    "plt.semilogy(a_vals, var_red_cv, label=\"Control variate\")\n",
    "plt.grid()\n",
    "plt.yticks([1, 10])\n",
    "plt.xlabel(r\"a\")\n",
    "plt.ylabel(\"$\\hat{\\sigma}^2_{CMC} \\,/\\, \\hat{\\sigma}^2$\")\n",
    "plt.title(\"Variance reduction compared to crude MC\")\n",
    "plt.legend();"
   ]
  },
  {
   "cell_type": "markdown",
   "id": "5c5c5efb-a352-45ac-8ec2-1c49570a0aac",
   "metadata": {},
   "source": [
    "B. We concentrate on the values of $a \\in [1, 3]$, since, for much larger values of $a$, there are almost no samples falling in the region of $A$, which results in issues computing $\\hat{\\alpha}_{opt}$. Hence, importance sampling is much more effective for larger values of $a$ for this problem, which can be observed in the Figure above. Still, for the one-shot algorithm with control variates, we observe a strict variance reduction compared to crude Monte Carlo (i.e. $\\hat{\\sigma}^2_{CMC} \\,/\\, \\hat{\\sigma}_{CV}^2 > 1$), that decreases with $a$. Note the exponentially increasing variance reduction achieved with importance sampling."
   ]
  },
  {
   "cell_type": "markdown",
   "id": "5e9e6e80-433f-468e-830a-230efbc9d901",
   "metadata": {},
   "source": [
    "C. Another simple control variate could, for example, be $Y_j = \\mathbb{I}_{\\{X_j\\ge a\\}}$. Of course, this one does not perform as well as $Y$."
   ]
  },
  {
   "cell_type": "markdown",
   "id": "5e6ec4b1",
   "metadata": {},
   "source": [
    "## Exercise 2\n",
    "\n",
    "Suppose that we wish to compute\n",
    "$\\mu =\n",
    "\\mathbb{E}\\bigl[\\Psi_\\tau(X_0,\\dots,X_\\tau)\\mathbb{I}_{\\{\\tau<\\infty\\}}\\bigr]$,\n",
    "where $\\tau$ is a stopping time adapted to the discrete time, discrete\n",
    "state Markov chain $\\{X_n\\in\\mathbb{Z}^d\\colon n\\in\\mathbb{N}_0\\}$ with\n",
    "initial probability distribution $p_0$ (i.e. $X_0\\sim p_0$) and with\n",
    "Markov transition probabilities $p_{i,j}\\in [0,1]$ such\n",
    "that\n",
    "\\begin{equation*}\n",
    "p_{i,j} = \\mathbb{P}(X_{n+1} = j \\vert X_n=i) \\quad \\forall\\,i,j\\in\\mathbb{Z}^d\\;.\n",
    "\\end{equation*}\n",
    "Instead of relying on the evolution of this Markov chain, it is\n",
    "natural to try to use importance measures that preserve the Markov\n",
    "property (so as to guarantee that the paths can be simulated\n",
    "efficiently under the importance measure). That is, one replaces the\n",
    "transition probabilities $p_{i,j}$ by other Markov transition\n",
    "probabilities $q_{i,j}\\in [0,1]$, which dominate $p_{i,j}$ (i.e.\n",
    "$q_{i,j} = 0 \\Rightarrow p_{i,j}=0$); analogously for the initial\n",
    "distribution. Moreover, we require that the stopping time $\\tau$ is\n",
    "almost surely finite for the Markov process with transition\n",
    "probabilities $q_{i,j}$, which appears natural from a practical point\n",
    "of view."
   ]
  },
  {
   "cell_type": "markdown",
   "id": "5bfbb859-1132-41de-ae53-2363411da15a",
   "metadata": {},
   "source": [
    "1. Prove that\n",
    "$\\mu =\n",
    "\\mathbb{E}\\bigl[\\Psi_\\tau(X_0,\\dots,X_\\tau)\\mathbb{I}_{\\tau<\\infty}\\bigr]$\n",
    "can be written as:\n",
    "\\begin{equation*}\n",
    "\\mu = \\mathbb{E}_q \\bigl[\\Psi_\\tau(X_0,\\dots,X_\\tau)w(X_0,\\dots,X_\\tau)\\bigr]\\;,\\quad\\text{with}\\quad\n",
    "w(X_0,\\dots,X_m) = \\frac{p_0(X_0)}{q_0(X_0)}\\prod_{j=1}^m \\frac{p_{X_{j-1},X_j}}{q_{X_{j-1},X_j}}\\;.\n",
    "\\end{equation*}"
   ]
  },
  {
   "cell_type": "markdown",
   "id": "a919f7c4-6840-42df-8135-9579d1b2af83",
   "metadata": {},
   "source": [
    "The claim follows from the Markov property and properties of\n",
    "\tconditional expectations. Indeed, let $\\mathbb{E}_p$ denote the expectation\n",
    "\twith respect to the transition probabilities $p_{i,j}$ and $\\mathbb{E}_{p,X_{0:k}}$ the expectation with respect to the density corresponding to the first $k$ steps of the process. Then\n",
    "\t\\begin{equation*}\n",
    "\t\\begin{aligned}\n",
    "\t\\mu &= \\mathbb{E}_p\\bigl[\\Psi_\\tau(X_0,\\dots,X_\\tau)\\mathbb{I}_{\\tau<\\infty}\\bigr]\n",
    "\t= \\sum_{m=0}^\\infty\\mathbb{E}_p\\bigl[\\Psi_m(X_0,\\dots,X_m)\\mathbb{I}_{\\tau=m}\\bigr]\\\\\n",
    "\t&=\\sum_{m=0}^\\infty\\mathbb{E}_{p,X_{0:m-1}}\\Bigl[\\mathbb{E}_p\\bigl[\\Psi_m(X_0,\\dots,X_m)\\mathbb{I}_{\\tau=m}\\bigl\\vert\\bigr.X_0,\\dots, X_{m-1}\\bigr] \\Bigr]\\\\\n",
    "\t& =\\sum_{m=0}^\\infty\\mathbb{E}_{p,X_{0:m-1}}\\Bigl[\\mathbb{E}_q\\bigl[\\Psi_m(X_0,\\dots,X_m)\\mathbb{I}_{\\tau=m}\\frac{p_{X_{m-1},X_m}}{q_{X_{m-1},X_m}}\\bigl\\vert\\bigr.X_0,\\dots, X_{m-1}\\bigr] \\Bigr]\\\\\n",
    "\t& = \\dots\n",
    "\t= \\sum_{m=0}^\\infty\\mathbb{E}_q\\bigl[\\Psi_m(X_0,\\dots,X_m)\\mathbb{I}_{\\tau=m}\\prod_{j=1}^m\\frac{p_{X_{j-1},X_j}}{q_{X_{j-1},X_j}}\\frac{p(X_0)}{q(X_0)}\\bigr]\\\\\n",
    "\t& = \\mathbb{E}_q\\bigl[\\Psi_\\tau(X_0,\\dots,X_\\tau)\\prod_{j=1}^\\tau\\frac{p_{X_{j-1},X_j}}{q_{X_{j-1},X_j}}\\frac{p(X_0)}{q(X_0)}\\bigr]\\;,\n",
    "\t\\end{aligned}\n",
    "\t\\end{equation*}\n",
    "\twhere the last equality is due to the assumption that $\\tau$ is\n",
    "\talmost surely finite under the importance sampling distribution\n",
    "\t(denoted by $q$)."
   ]
  },
  {
   "cell_type": "markdown",
   "id": "a4e624c9-a333-4214-9744-5a51755ab237",
   "metadata": {},
   "source": [
    "2. Implement the importance sampling algorithm for discrete time\n",
    "Markov processes to the random walk\n",
    "$\\{X_n\\in\\mathbb{Z}\\colon X_0=0, n\\in\\mathbb{N}\\}$ with transition\n",
    "probabilities:\n",
    "\\begin{equation*}\n",
    "p_{i,i+1} \\equiv\\mathbb{P}(X_{n+1}=i+1\\vert X_{n}=i) = \\frac{1}{2} = \\mathbb{P}(X_{n+1}=i-1\\vert X_{n}=i) \\equiv  p_{i,i-1}\\;,\\quad n\\ge 0,\\,i\\in\\mathbb{Z}\\;.\n",
    "\\end{equation*}\n",
    "Consider the stopping time $\\tau_K := \\inf\\{n\\colon X_n = K\\}$ for a\n",
    "given constant $K=4$ and apply the algorithm to estimate\n",
    "$\\mathbb{P}\\bigl(\\tau_K<T\\bigr)$ with $T=10$. For the importance sampling, consider the random walk with\n",
    "transition probabilities\n",
    "\\begin{equation*}\n",
    "q_{i,i+1} \\equiv\\mathbb{P}(X_{n+1}=i+1\\vert X_{n}=i) = \\alpha > 1-\\alpha=\\mathbb{P}(X_{n+1}=i-1\\vert X_{n}=i) \\equiv  q_{i,i-1}\\;.\n",
    "\\end{equation*}\n",
    "Experiment with different\n",
    "values for $\\alpha$."
   ]
  },
  {
   "cell_type": "markdown",
   "id": "bf4ab7d1-65f0-4d73-846b-b702e3968963",
   "metadata": {},
   "source": [
    "For this example the weight function simplifies to\n",
    "\\begin{equation*}\n",
    "w(X_0,\\dots, X_m) = \\frac{1}{{(2\\alpha)}^{n_\\text{up}}} \\frac{1}{{\\bigl(2(1-\\alpha)\\bigr)}^{n_\\text{down}}}\\;,\\quad\n",
    "m = n_\\text{up} + n_\\text{down}\\;,\n",
    "\\end{equation*}\n",
    "where $n_\\text{up} = \\sum_{j=1}^m\\mathbb{I}(X_j-X_{j-1} = 1)$ is the\n",
    "number of increments in the process.\n",
    "\n",
    "When applying the importance sampling method, we observe a\n",
    "variance reduction (i.e. efficiency improvement) compared to the\n",
    "crude MC method, which results in narrower confidence intervals. When\n",
    "repeating the experiment for different values of the transition\n",
    "probability $\\alpha$, the Figure down below indicates an optimal\n",
    "value of around $\\alpha \\approx 0.807$."
   ]
  },
  {
   "cell_type": "code",
   "execution_count": 143,
   "id": "b06ecd77-9f4e-44a3-953a-6ce9f453db3a",
   "metadata": {},
   "outputs": [],
   "source": [
    "def estimate_prob(N: int, a: float, K: int, T: int, importance_sampling: bool=False, fix_seed: bool=False) -> Tuple[float, float]:\n",
    "    \"\"\"\n",
    "    Estimates the probability of a random walk reaching `K` within a given\n",
    "    number of steps `T` based on `N` Monte Carlo samples.\n",
    "    Returns the mean as well as the variance of the estimator.\n",
    "    \"\"\"\n",
    "    if fix_seed:\n",
    "        np.random.seed(999)\n",
    "\n",
    "    u = np.random.rand(N, T - 1)\n",
    "    incr = (2 * (u < a) - 1)\n",
    "    x = incr.cumsum(axis=1)\n",
    "\n",
    "    if importance_sampling:\n",
    "        stop_times = np.argmax(x == K, axis=1)\n",
    "        stop_times[stop_times == 0] = (T - 1) - 1\n",
    "        mask = np.arange(T - 1) <= stop_times[:, np.newaxis]\n",
    "        n_up = ((incr == 1) * mask).sum(axis=1)\n",
    "        n_down = ((incr == -1) * mask).sum(axis=1)\n",
    "        weight = 1 / 2 ** (stop_times + 1) / a ** n_up / (1 - a) ** n_down\n",
    "    else:\n",
    "        weight = 1\n",
    "\n",
    "    z = np.any(x == K, axis=1) * weight\n",
    "\n",
    "    return np.mean(z), np.var(z, ddof=1)"
   ]
  },
  {
   "cell_type": "code",
   "execution_count": 144,
   "id": "bfba7df5-6875-44e5-a543-b04da02ae5c2",
   "metadata": {},
   "outputs": [],
   "source": [
    "N = 100_000\n",
    "K = 4\n",
    "T = 10"
   ]
  },
  {
   "cell_type": "code",
   "execution_count": 145,
   "id": "8331f72c-f0b5-4104-8631-ed791a795040",
   "metadata": {},
   "outputs": [
    {
     "name": "stdout",
     "output_type": "stream",
     "text": [
      "N = 100000 Samples\n",
      "------------------------------\n",
      "Crude Monte Carlo    | Mean: 0.181, Variance: 0.148\n",
      "Importance sampling | Mean: 0.180, Variance: 0.013\n"
     ]
    }
   ],
   "source": [
    "a = 0.5\n",
    "mean_cmc, var_cmc = estimate_prob(N, a, K, T, importance_sampling=False)\n",
    "\n",
    "a = 0.81\n",
    "mean_is, var_is = estimate_prob(N, a, K, T, importance_sampling=True)\n",
    "\n",
    "print(f\"N = {N} Samples\\n\" + \"-\" * 30)\n",
    "print(f\"Crude Monte Carlo {'':<3}| Mean: {mean_cmc:.3f}, Variance: {var_cmc:.3f}\")\n",
    "print(f\"Importance sampling | Mean: {mean_is:.3f}, Variance: {var_is:.3f}\")"
   ]
  },
  {
   "cell_type": "code",
   "execution_count": 146,
   "id": "63cb9166-e271-4285-af26-23d8858b42ff",
   "metadata": {},
   "outputs": [
    {
     "data": {
      "application/vnd.jupyter.widget-view+json": {
       "model_id": "73d3c37f0eeb4ecb85bc1e2d7af3ca81",
       "version_major": 2,
       "version_minor": 0
      },
      "text/plain": [
       "0it [00:00, ?it/s]"
      ]
     },
     "metadata": {},
     "output_type": "display_data"
    },
    {
     "name": "stdout",
     "output_type": "stream",
     "text": [
      "Optimal alpha: 0.807\n"
     ]
    }
   ],
   "source": [
    "a = 0.5\n",
    "_, var_cmc = estimate_prob(N, a, K, T, importance_sampling=False, fix_seed=True)\n",
    "\n",
    "a_vals = np.linspace(0.5, 0.99, 100)\n",
    "var_ratios = np.zeros(len(a_vals))\n",
    "\n",
    "varmc = np.zeros(len(a_vals))\n",
    "varis = np.zeros(len(a_vals))\n",
    "for i, a in tqdm(enumerate(a_vals)):\n",
    "    _, var_is = estimate_prob(N, a, K, T, importance_sampling=True, fix_seed=True)\n",
    "    var_ratios[i] = var_cmc / var_is\n",
    "\n",
    "    varmc[i] = var_cmc\n",
    "    varis[i] = var_is\n",
    "\n",
    "opt_alpha = a_vals[var_ratios.argmax()]\n",
    "print(f\"Optimal alpha: {opt_alpha:.3f}\")"
   ]
  },
  {
   "cell_type": "code",
   "execution_count": 147,
   "id": "193a5d96-6e8f-4146-8a91-72bfabd9031d",
   "metadata": {},
   "outputs": [
    {
     "data": {
      "image/png": "[encoded data removed]",
      "text/plain": [
       "<Figure size 640x480 with 1 Axes>"
      ]
     },
     "metadata": {},
     "output_type": "display_data"
    }
   ],
   "source": [
    "plt.plot(a_vals, var_ratios)\n",
    "plt.plot([opt_alpha], [var_ratios.max()], \"ro\", label=r\"$\\alpha_{opt} \\approx\" +  f\"{opt_alpha:.3f}$\")\n",
    "plt.xlabel(r\"$\\alpha$\")\n",
    "plt.ylabel(r\"$\\hat{\\sigma}^2_{CMC} \\,/\\, \\hat{\\sigma}^2_{IS}$\")\n",
    "plt.title(r\"Variance reduction over $\\alpha$\")\n",
    "plt.legend();"
   ]
  }
 ],
 "metadata": {
  "kernelspec": {
   "display_name": "Python 3 (ipykernel)",
   "language": "python",
   "name": "python3"
  },
  "language_info": {
   "codemirror_mode": {
    "name": "ipython",
    "version": 3
   },
   "file_extension": ".py",
   "mimetype": "text/x-python",
   "name": "python",
   "nbconvert_exporter": "python",
   "pygments_lexer": "ipython3",
   "version": "3.10.12"
  },
  "widgets": {
   "application/vnd.jupyter.widget-state+json": {
    "state": {
     "01d49dbcff714d7a9673fe2a51686c55": {
      "model_module": "@jupyter-widgets/controls",
      "model_module_version": "2.0.0",
      "model_name": "HTMLStyleModel",
      "state": {
       "description_width": "",
       "font_size": null,
       "text_color": null
      }
     },
     "055b8688309e47bab94b4822c8eff0f7": {
      "model_module": "@jupyter-widgets/base",
      "model_module_version": "2.0.0",
      "model_name": "LayoutModel",
      "state": {
       "width": "20px"
      }
     },
     "0889827706874c299c07a294731db4c3": {
      "model_module": "@jupyter-widgets/base",
      "model_module_version": "2.0.0",
      "model_name": "LayoutModel",
      "state": {}
     },
     "0b23d3a24460445a8023f5540551e0b1": {
      "model_module": "@jupyter-widgets/controls",
      "model_module_version": "2.0.0",
      "model_name": "HTMLModel",
      "state": {
       "layout": "IPY_MODEL_5c81e9a7c2a245798d45ae987a7a6b96",
       "style": "IPY_MODEL_bbc7f9ee9407418cb16c209d8f66f420",
       "value": " 100/? [00:01&lt;00:00, 57.83it/s]"
      }
     },
     "0cdd985a0e9e4e3b9eb6839ae48f3472": {
      "model_module": "@jupyter-widgets/controls",
      "model_module_version": "2.0.0",
      "model_name": "HTMLModel",
      "state": {
       "layout": "IPY_MODEL_be75ce4f7e41464cab49fdcd2901f471",
       "style": "IPY_MODEL_95497de86000480ab576d942fe5322ec"
      }
     },
     "0d695cc2e2ab4e12851332b14216c42b": {
      "model_module": "@jupyter-widgets/controls",
      "model_module_version": "2.0.0",
      "model_name": "HBoxModel",
      "state": {
       "children": [
        "IPY_MODEL_7ef017029591472db8e3c02799e3c431",
        "IPY_MODEL_ad010c59304f4c289b45d16c228fbf0f",
        "IPY_MODEL_e8bf0c318f654c7f8a72f373dd84fa77"
       ],
       "layout": "IPY_MODEL_dce0bab0ae1749f6b560cfd9eb81e1cf"
      }
     },
     "0e5db51a84c34a41b94f0f6362e908ec": {
      "model_module": "@jupyter-widgets/controls",
      "model_module_version": "2.0.0",
      "model_name": "FloatProgressModel",
      "state": {
       "bar_style": "success",
       "layout": "IPY_MODEL_41fdc5a1ced348d2b79f1ce31780bc59",
       "max": 1,
       "style": "IPY_MODEL_8f0060780110468faf2157d7fd63c3a9",
       "value": 1
      }
     },
     "0faa43a2ca584e6e9e214efdebe6fb8a": {
      "model_module": "@jupyter-widgets/controls",
      "model_module_version": "2.0.0",
      "model_name": "FloatProgressModel",
      "state": {
       "bar_style": "success",
       "layout": "IPY_MODEL_055b8688309e47bab94b4822c8eff0f7",
       "max": 1,
       "style": "IPY_MODEL_bb6ade6af941468bbcf1a2d5f0ee8067",
       "value": 1
      }
     },
     "18d4d4edd8484b99ac560077ccb6e6f2": {
      "model_module": "@jupyter-widgets/base",
      "model_module_version": "2.0.0",
      "model_name": "LayoutModel",
      "state": {}
     },
     "22d6da2e91fc40bf969c5d49eadb1509": {
      "model_module": "@jupyter-widgets/base",
      "model_module_version": "2.0.0",
      "model_name": "LayoutModel",
      "state": {}
     },
     "23275442fcc3412e80cc0f476b62dca5": {
      "model_module": "@jupyter-widgets/controls",
      "model_module_version": "2.0.0",
      "model_name": "HTMLModel",
      "state": {
       "layout": "IPY_MODEL_faf8bfb58c5a4811878651452c8131a1",
       "style": "IPY_MODEL_01d49dbcff714d7a9673fe2a51686c55",
       "value": " 100/? [00:02&lt;00:00, 42.90it/s]"
      }
     },
     "26b6c5bd9beb48e7926b93ab263c50ee": {
      "model_module": "@jupyter-widgets/base",
      "model_module_version": "2.0.0",
      "model_name": "LayoutModel",
      "state": {
       "width": "20px"
      }
     },
     "2d0a9589f24c431e9e1f2f5d9ee55f93": {
      "model_module": "@jupyter-widgets/base",
      "model_module_version": "2.0.0",
      "model_name": "LayoutModel",
      "state": {}
     },
     "2d77aaffc37643f6bc708c10eddb1951": {
      "model_module": "@jupyter-widgets/controls",
      "model_module_version": "2.0.0",
      "model_name": "HTMLModel",
      "state": {
       "layout": "IPY_MODEL_64b28f0cf3f84371b8456105902e2723",
       "style": "IPY_MODEL_fb3c235b054e4479b141eaea7ca8b9b5",
       "value": " 100/? [00:04&lt;00:00, 20.48it/s]"
      }
     },
     "309ff2a813174a34941b7a3f8cf7d3ea": {
      "model_module": "@jupyter-widgets/controls",
      "model_module_version": "2.0.0",
      "model_name": "HTMLStyleModel",
      "state": {
       "description_width": "",
       "font_size": null,
       "text_color": null
      }
     },
     "3e74d57daf6c45a7993b48d575d6b0b7": {
      "model_module": "@jupyter-widgets/base",
      "model_module_version": "2.0.0",
      "model_name": "LayoutModel",
      "state": {
       "width": "20px"
      }
     },
     "3ef86b927cc34a06941fb63d946f31e2": {
      "model_module": "@jupyter-widgets/controls",
      "model_module_version": "2.0.0",
      "model_name": "FloatProgressModel",
      "state": {
       "bar_style": "success",
       "layout": "IPY_MODEL_a450a26b65284ede9a1bca49a97251ea",
       "max": 1,
       "style": "IPY_MODEL_8425d4724baf4b33ad6456d73d73bbe7",
       "value": 1
      }
     },
     "41fdc5a1ced348d2b79f1ce31780bc59": {
      "model_module": "@jupyter-widgets/base",
      "model_module_version": "2.0.0",
      "model_name": "LayoutModel",
      "state": {
       "width": "20px"
      }
     },
     "450867e9fe8e44ac823cc248c539d7f8": {
      "model_module": "@jupyter-widgets/controls",
      "model_module_version": "2.0.0",
      "model_name": "HBoxModel",
      "state": {
       "children": [
        "IPY_MODEL_99be5dd000b94206b13dc15305a3942c",
        "IPY_MODEL_3ef86b927cc34a06941fb63d946f31e2",
        "IPY_MODEL_d47ef8e979bc49de9411f6079d45ca38"
       ],
       "layout": "IPY_MODEL_e6e2103d04e845b5b40cc1d6f4198642"
      }
     },
     "46f8184573e94abfa3beb3e91a4bb16a": {
      "model_module": "@jupyter-widgets/base",
      "model_module_version": "2.0.0",
      "model_name": "LayoutModel",
      "state": {
       "width": "20px"
      }
     },
     "47e00a8439b84277913ae8b1a04ecea8": {
      "model_module": "@jupyter-widgets/controls",
      "model_module_version": "2.0.0",
      "model_name": "HTMLStyleModel",
      "state": {
       "description_width": "",
       "font_size": null,
       "text_color": null
      }
     },
     "4f925fa7a3cf40b0865bb3104d22c087": {
      "model_module": "@jupyter-widgets/controls",
      "model_module_version": "2.0.0",
      "model_name": "HBoxModel",
      "state": {
       "children": [
        "IPY_MODEL_abc2ea33c3c14a1b9c02538f0ff805cf",
        "IPY_MODEL_af3a8786e1464d7bbaf8e9fbbeaf3e35",
        "IPY_MODEL_a6e1279168e44d1781d823279bc616a3"
       ],
       "layout": "IPY_MODEL_0889827706874c299c07a294731db4c3"
      }
     },
     "58ed0cc4ff434c82af16ff13ee5b4ab5": {
      "model_module": "@jupyter-widgets/controls",
      "model_module_version": "2.0.0",
      "model_name": "ProgressStyleModel",
      "state": {
       "description_width": ""
      }
     },
     "5c81e9a7c2a245798d45ae987a7a6b96": {
      "model_module": "@jupyter-widgets/base",
      "model_module_version": "2.0.0",
      "model_name": "LayoutModel",
      "state": {}
     },
     "64b28f0cf3f84371b8456105902e2723": {
      "model_module": "@jupyter-widgets/base",
      "model_module_version": "2.0.0",
      "model_name": "LayoutModel",
      "state": {}
     },
     "6b8ed730e9ff423d855d3d16386208dd": {
      "model_module": "@jupyter-widgets/controls",
      "model_module_version": "2.0.0",
      "model_name": "HTMLStyleModel",
      "state": {
       "description_width": "",
       "font_size": null,
       "text_color": null
      }
     },
     "6d3be3308079420281f3d7c99c98c86f": {
      "model_module": "@jupyter-widgets/base",
      "model_module_version": "2.0.0",
      "model_name": "LayoutModel",
      "state": {}
     },
     "73d3c37f0eeb4ecb85bc1e2d7af3ca81": {
      "model_module": "@jupyter-widgets/controls",
      "model_module_version": "2.0.0",
      "model_name": "HBoxModel",
      "state": {
       "children": [
        "IPY_MODEL_0cdd985a0e9e4e3b9eb6839ae48f3472",
        "IPY_MODEL_0e5db51a84c34a41b94f0f6362e908ec",
        "IPY_MODEL_0b23d3a24460445a8023f5540551e0b1"
       ],
       "layout": "IPY_MODEL_18d4d4edd8484b99ac560077ccb6e6f2"
      }
     },
     "740015cba19648a99ac170fbb8b06d2d": {
      "model_module": "@jupyter-widgets/base",
      "model_module_version": "2.0.0",
      "model_name": "LayoutModel",
      "state": {}
     },
     "7ef017029591472db8e3c02799e3c431": {
      "model_module": "@jupyter-widgets/controls",
      "model_module_version": "2.0.0",
      "model_name": "HTMLModel",
      "state": {
       "layout": "IPY_MODEL_6d3be3308079420281f3d7c99c98c86f",
       "style": "IPY_MODEL_6b8ed730e9ff423d855d3d16386208dd"
      }
     },
     "8425d4724baf4b33ad6456d73d73bbe7": {
      "model_module": "@jupyter-widgets/controls",
      "model_module_version": "2.0.0",
      "model_name": "ProgressStyleModel",
      "state": {
       "description_width": ""
      }
     },
     "89133facbf3247a4a3ab7b542f5c38fe": {
      "model_module": "@jupyter-widgets/controls",
      "model_module_version": "2.0.0",
      "model_name": "HBoxModel",
      "state": {
       "children": [
        "IPY_MODEL_c7348688ef364939b564b71b7c07f58c",
        "IPY_MODEL_0faa43a2ca584e6e9e214efdebe6fb8a",
        "IPY_MODEL_2d77aaffc37643f6bc708c10eddb1951"
       ],
       "layout": "IPY_MODEL_93175e639a53435c8cb36dfa91b9d67b"
      }
     },
     "891ca69383b84d06886b4a5b75f3b81b": {
      "model_module": "@jupyter-widgets/controls",
      "model_module_version": "2.0.0",
      "model_name": "HTMLStyleModel",
      "state": {
       "description_width": "",
       "font_size": null,
       "text_color": null
      }
     },
     "8a35de39275941fe8d03010c8674ce93": {
      "model_module": "@jupyter-widgets/controls",
      "model_module_version": "2.0.0",
      "model_name": "HTMLStyleModel",
      "state": {
       "description_width": "",
       "font_size": null,
       "text_color": null
      }
     },
     "8f0060780110468faf2157d7fd63c3a9": {
      "model_module": "@jupyter-widgets/controls",
      "model_module_version": "2.0.0",
      "model_name": "ProgressStyleModel",
      "state": {
       "description_width": ""
      }
     },
     "8fe7ba06b1d04760939cdb5d448ea6f9": {
      "model_module": "@jupyter-widgets/controls",
      "model_module_version": "2.0.0",
      "model_name": "FloatProgressModel",
      "state": {
       "bar_style": "success",
       "layout": "IPY_MODEL_26b6c5bd9beb48e7926b93ab263c50ee",
       "max": 1,
       "style": "IPY_MODEL_d4f7e44972274b5da449dc032bb7f53f",
       "value": 1
      }
     },
     "90ed207889b74d35a19be86875ac3bd2": {
      "model_module": "@jupyter-widgets/base",
      "model_module_version": "2.0.0",
      "model_name": "LayoutModel",
      "state": {}
     },
     "93175e639a53435c8cb36dfa91b9d67b": {
      "model_module": "@jupyter-widgets/base",
      "model_module_version": "2.0.0",
      "model_name": "LayoutModel",
      "state": {}
     },
     "95497de86000480ab576d942fe5322ec": {
      "model_module": "@jupyter-widgets/controls",
      "model_module_version": "2.0.0",
      "model_name": "HTMLStyleModel",
      "state": {
       "description_width": "",
       "font_size": null,
       "text_color": null
      }
     },
     "99719ff43f6b425bb34bafcb55935371": {
      "model_module": "@jupyter-widgets/base",
      "model_module_version": "2.0.0",
      "model_name": "LayoutModel",
      "state": {}
     },
     "99be5dd000b94206b13dc15305a3942c": {
      "model_module": "@jupyter-widgets/controls",
      "model_module_version": "2.0.0",
      "model_name": "HTMLModel",
      "state": {
       "layout": "IPY_MODEL_2d0a9589f24c431e9e1f2f5d9ee55f93",
       "style": "IPY_MODEL_8a35de39275941fe8d03010c8674ce93"
      }
     },
     "a450a26b65284ede9a1bca49a97251ea": {
      "model_module": "@jupyter-widgets/base",
      "model_module_version": "2.0.0",
      "model_name": "LayoutModel",
      "state": {
       "width": "20px"
      }
     },
     "a572d1f23eda4c11ae51dee9efeb6d75": {
      "model_module": "@jupyter-widgets/controls",
      "model_module_version": "2.0.0",
      "model_name": "HBoxModel",
      "state": {
       "children": [
        "IPY_MODEL_edfe76680935482d81832055ec5ac08c",
        "IPY_MODEL_8fe7ba06b1d04760939cdb5d448ea6f9",
        "IPY_MODEL_23275442fcc3412e80cc0f476b62dca5"
       ],
       "layout": "IPY_MODEL_22d6da2e91fc40bf969c5d49eadb1509"
      }
     },
     "a6e1279168e44d1781d823279bc616a3": {
      "model_module": "@jupyter-widgets/controls",
      "model_module_version": "2.0.0",
      "model_name": "HTMLModel",
      "state": {
       "layout": "IPY_MODEL_d7058aea35354c7684b10e9b4f9c4c3a",
       "style": "IPY_MODEL_d56e36240e844d4da3affef670a32195",
       "value": " 68/? [00:01&lt;00:00, 40.72it/s]"
      }
     },
     "abc2ea33c3c14a1b9c02538f0ff805cf": {
      "model_module": "@jupyter-widgets/controls",
      "model_module_version": "2.0.0",
      "model_name": "HTMLModel",
      "state": {
       "layout": "IPY_MODEL_99719ff43f6b425bb34bafcb55935371",
       "style": "IPY_MODEL_309ff2a813174a34941b7a3f8cf7d3ea"
      }
     },
     "ad010c59304f4c289b45d16c228fbf0f": {
      "model_module": "@jupyter-widgets/controls",
      "model_module_version": "2.0.0",
      "model_name": "FloatProgressModel",
      "state": {
       "bar_style": "success",
       "layout": "IPY_MODEL_3e74d57daf6c45a7993b48d575d6b0b7",
       "max": 1,
       "style": "IPY_MODEL_f61058be74f54370a3ddc43b2d45a832",
       "value": 1
      }
     },
     "af3a8786e1464d7bbaf8e9fbbeaf3e35": {
      "model_module": "@jupyter-widgets/controls",
      "model_module_version": "2.0.0",
      "model_name": "FloatProgressModel",
      "state": {
       "bar_style": "danger",
       "layout": "IPY_MODEL_46f8184573e94abfa3beb3e91a4bb16a",
       "max": 1,
       "style": "IPY_MODEL_58ed0cc4ff434c82af16ff13ee5b4ab5",
       "value": 1
      }
     },
     "bb6ade6af941468bbcf1a2d5f0ee8067": {
      "model_module": "@jupyter-widgets/controls",
      "model_module_version": "2.0.0",
      "model_name": "ProgressStyleModel",
      "state": {
       "description_width": ""
      }
     },
     "bbc7f9ee9407418cb16c209d8f66f420": {
      "model_module": "@jupyter-widgets/controls",
      "model_module_version": "2.0.0",
      "model_name": "HTMLStyleModel",
      "state": {
       "description_width": "",
       "font_size": null,
       "text_color": null
      }
     },
     "be75ce4f7e41464cab49fdcd2901f471": {
      "model_module": "@jupyter-widgets/base",
      "model_module_version": "2.0.0",
      "model_name": "LayoutModel",
      "state": {}
     },
     "c7348688ef364939b564b71b7c07f58c": {
      "model_module": "@jupyter-widgets/controls",
      "model_module_version": "2.0.0",
      "model_name": "HTMLModel",
      "state": {
       "layout": "IPY_MODEL_e0a022bfe97a42a98331de4d4d0b6536",
       "style": "IPY_MODEL_47e00a8439b84277913ae8b1a04ecea8"
      }
     },
     "d47ef8e979bc49de9411f6079d45ca38": {
      "model_module": "@jupyter-widgets/controls",
      "model_module_version": "2.0.0",
      "model_name": "HTMLModel",
      "state": {
       "layout": "IPY_MODEL_740015cba19648a99ac170fbb8b06d2d",
       "style": "IPY_MODEL_891ca69383b84d06886b4a5b75f3b81b",
       "value": " 100/? [00:02&lt;00:00, 49.20it/s]"
      }
     },
     "d4f7e44972274b5da449dc032bb7f53f": {
      "model_module": "@jupyter-widgets/controls",
      "model_module_version": "2.0.0",
      "model_name": "ProgressStyleModel",
      "state": {
       "description_width": ""
      }
     },
     "d56e36240e844d4da3affef670a32195": {
      "model_module": "@jupyter-widgets/controls",
      "model_module_version": "2.0.0",
      "model_name": "HTMLStyleModel",
      "state": {
       "description_width": "",
       "font_size": null,
       "text_color": null
      }
     },
     "d7058aea35354c7684b10e9b4f9c4c3a": {
      "model_module": "@jupyter-widgets/base",
      "model_module_version": "2.0.0",
      "model_name": "LayoutModel",
      "state": {}
     },
     "dce0bab0ae1749f6b560cfd9eb81e1cf": {
      "model_module": "@jupyter-widgets/base",
      "model_module_version": "2.0.0",
      "model_name": "LayoutModel",
      "state": {}
     },
     "df01d5c3b66342f3b559cc7f77d91de2": {
      "model_module": "@jupyter-widgets/base",
      "model_module_version": "2.0.0",
      "model_name": "LayoutModel",
      "state": {}
     },
     "df0993044b594e11ab9cf94a0d36a089": {
      "model_module": "@jupyter-widgets/controls",
      "model_module_version": "2.0.0",
      "model_name": "HTMLStyleModel",
      "state": {
       "description_width": "",
       "font_size": null,
       "text_color": null
      }
     },
     "e0a022bfe97a42a98331de4d4d0b6536": {
      "model_module": "@jupyter-widgets/base",
      "model_module_version": "2.0.0",
      "model_name": "LayoutModel",
      "state": {}
     },
     "e60000990a3c43eb81eb8a2bf74adff6": {
      "model_module": "@jupyter-widgets/controls",
      "model_module_version": "2.0.0",
      "model_name": "HTMLStyleModel",
      "state": {
       "description_width": "",
       "font_size": null,
       "text_color": null
      }
     },
     "e6e2103d04e845b5b40cc1d6f4198642": {
      "model_module": "@jupyter-widgets/base",
      "model_module_version": "2.0.0",
      "model_name": "LayoutModel",
      "state": {}
     },
     "e8bf0c318f654c7f8a72f373dd84fa77": {
      "model_module": "@jupyter-widgets/controls",
      "model_module_version": "2.0.0",
      "model_name": "HTMLModel",
      "state": {
       "layout": "IPY_MODEL_90ed207889b74d35a19be86875ac3bd2",
       "style": "IPY_MODEL_e60000990a3c43eb81eb8a2bf74adff6",
       "value": " 100/? [00:02&lt;00:00, 45.04it/s]"
      }
     },
     "edfe76680935482d81832055ec5ac08c": {
      "model_module": "@jupyter-widgets/controls",
      "model_module_version": "2.0.0",
      "model_name": "HTMLModel",
      "state": {
       "layout": "IPY_MODEL_df01d5c3b66342f3b559cc7f77d91de2",
       "style": "IPY_MODEL_df0993044b594e11ab9cf94a0d36a089"
      }
     },
     "f61058be74f54370a3ddc43b2d45a832": {
      "model_module": "@jupyter-widgets/controls",
      "model_module_version": "2.0.0",
      "model_name": "ProgressStyleModel",
      "state": {
       "description_width": ""
      }
     },
     "faf8bfb58c5a4811878651452c8131a1": {
      "model_module": "@jupyter-widgets/base",
      "model_module_version": "2.0.0",
      "model_name": "LayoutModel",
      "state": {}
     },
     "fb3c235b054e4479b141eaea7ca8b9b5": {
      "model_module": "@jupyter-widgets/controls",
      "model_module_version": "2.0.0",
      "model_name": "HTMLStyleModel",
      "state": {
       "description_width": "",
       "font_size": null,
       "text_color": null
      }
     }
    },
    "version_major": 2,
    "version_minor": 0
   }
  }
 },
 "nbformat": 4,
 "nbformat_minor": 5
}
