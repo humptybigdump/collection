{
 "cells": [
  {
   "cell_type": "markdown",
   "source": [
    "## Numpy - Grundlagen"
   ],
   "metadata": {}
  },
  {
   "cell_type": "code",
   "execution_count": 1,
   "source": [
    "# Eine Bibliothek importieren\n",
    "import numpy as np # Numpy: Fundamentales Paket für scientific computing"
   ],
   "outputs": [],
   "metadata": {}
  },
  {
   "cell_type": "code",
   "execution_count": 2,
   "source": [
    "# Numpy arrays als fundamentale Datenstruktur\n",
    "\n",
    "# Erstellung über Listen...\n",
    "a = np.array([1,2,3,4,5])\n",
    "print(a)\n",
    "# oder Tupel\n",
    "a = np.array((1,2,3,4,5))\n",
    "print(a)"
   ],
   "outputs": [
    {
     "output_type": "stream",
     "name": "stdout",
     "text": [
      "[1 2 3 4 5]\n",
      "[1 2 3 4 5]\n"
     ]
    }
   ],
   "metadata": {}
  },
  {
   "cell_type": "code",
   "execution_count": 3,
   "source": [
    "# Bei einer Mischung von doubles und integers wird standardmäßig zu doubles konvertiert\n",
    "a = np.array([1,2,3.,4,5])\n",
    "print(a) #Alle Einträge als double\n",
    "print(a.dtype)\n"
   ],
   "outputs": [
    {
     "output_type": "stream",
     "name": "stdout",
     "text": [
      "[1. 2. 3. 4. 5.]\n",
      "float64\n"
     ]
    }
   ],
   "metadata": {}
  },
  {
   "cell_type": "code",
   "execution_count": 4,
   "source": [
    "# Falls notwendig kann der Datentyp des Arrays kann aber auch manuell gesetzt werden\n",
    "a = np.array([1,2,3.,4,5], dtype=np.int)\n",
    "print(a)\n",
    "print(a.dtype)"
   ],
   "outputs": [
    {
     "output_type": "stream",
     "name": "stdout",
     "text": [
      "[1 2 3 4 5]\n",
      "int64\n"
     ]
    },
    {
     "output_type": "stream",
     "name": "stderr",
     "text": [
      "/home/lennart/anaconda3/envs/p37/lib/python3.7/site-packages/ipykernel_launcher.py:2: DeprecationWarning: `np.int` is a deprecated alias for the builtin `int`. To silence this warning, use `int` by itself. Doing this will not modify any behavior and is safe. When replacing `np.int`, you may wish to use e.g. `np.int64` or `np.int32` to specify the precision. If you wish to review your current use, check the release note link for additional information.\n",
      "Deprecated in NumPy 1.20; for more details and guidance: https://numpy.org/devdocs/release/1.20.0-notes.html#deprecations\n",
      "  \n"
     ]
    }
   ],
   "metadata": {}
  },
  {
   "cell_type": "code",
   "execution_count": 5,
   "source": [
    "# Beispiele für bestimmte 1D arrays:\n",
    "array_1 = np.zeros(5); print(array_1)\n",
    "array_2 = np.ones(5) ; print(array_2)\n",
    "array_3 = np.arange(5);print(array_3)\n",
    "array_4 = np.linspace(0,4,5);print(array_4)"
   ],
   "outputs": [
    {
     "output_type": "stream",
     "name": "stdout",
     "text": [
      "[0. 0. 0. 0. 0.]\n",
      "[1. 1. 1. 1. 1.]\n",
      "[0 1 2 3 4]\n",
      "[0. 1. 2. 3. 4.]\n"
     ]
    }
   ],
   "metadata": {}
  },
  {
   "cell_type": "code",
   "execution_count": 6,
   "source": [
    "# Einheitsmatrix\n",
    "identity = np.eye(3); print(identity)"
   ],
   "outputs": [
    {
     "output_type": "stream",
     "name": "stdout",
     "text": [
      "[[1. 0. 0.]\n",
      " [0. 1. 0.]\n",
      " [0. 0. 1.]]\n"
     ]
    }
   ],
   "metadata": {}
  },
  {
   "cell_type": "code",
   "execution_count": 7,
   "source": [
    "# Zeros und ones auch in beliebigen Dimensionen mit angabe der shape\n",
    "zeros = np.zeros([3,4]);print(zeros)\n",
    "print(\"\")\n",
    "ones = np.ones([5,2]);print(ones)"
   ],
   "outputs": [
    {
     "output_type": "stream",
     "name": "stdout",
     "text": [
      "[[0. 0. 0. 0.]\n",
      " [0. 0. 0. 0.]\n",
      " [0. 0. 0. 0.]]\n",
      "\n",
      "[[1. 1.]\n",
      " [1. 1.]\n",
      " [1. 1.]\n",
      " [1. 1.]\n",
      " [1. 1.]]\n"
     ]
    }
   ],
   "metadata": {}
  },
  {
   "cell_type": "code",
   "execution_count": 8,
   "source": [
    "# Generierung von Zufallszahlen\n",
    "random = np.random.random([5,3]);print(random)"
   ],
   "outputs": [
    {
     "output_type": "stream",
     "name": "stdout",
     "text": [
      "[[0.90271474 0.76630912 0.47765414]\n",
      " [0.8986973  0.75499488 0.0700164 ]\n",
      " [0.04485176 0.12422973 0.17846175]\n",
      " [0.92548254 0.95882934 0.76407337]\n",
      " [0.58201271 0.58492219 0.93378911]]\n"
     ]
    }
   ],
   "metadata": {}
  },
  {
   "cell_type": "code",
   "execution_count": 9,
   "source": [
    "# ravel und  reshape:\n",
    "a = np.arange(9);print(a)\n",
    "b = a.reshape([3,3]);print(b)"
   ],
   "outputs": [
    {
     "output_type": "stream",
     "name": "stdout",
     "text": [
      "[0 1 2 3 4 5 6 7 8]\n",
      "[[0 1 2]\n",
      " [3 4 5]\n",
      " [6 7 8]]\n"
     ]
    }
   ],
   "metadata": {}
  },
  {
   "cell_type": "code",
   "execution_count": 10,
   "source": [
    "# slicing\n",
    "d = b[:,0]\n",
    "e = b[2,:]"
   ],
   "outputs": [],
   "metadata": {}
  },
  {
   "cell_type": "code",
   "execution_count": 11,
   "source": [
    "# Operationen werden (im Gegensatz zu Matlab) standardmäßig Elementweise durchgeführt\n",
    "a = np.arange(9).reshape((3,3))\n",
    "b = np.array([2,6,3])\n",
    "c = np.array([4,2,5])\n",
    "\n",
    "# Beispiel: Operationen mit Skalaren\n",
    "print(a+4);print(\"\")\n",
    "print(b*3);print(\"\")\n",
    "print(c**2);print(\"\")"
   ],
   "outputs": [
    {
     "output_type": "stream",
     "name": "stdout",
     "text": [
      "[[ 4  5  6]\n",
      " [ 7  8  9]\n",
      " [10 11 12]]\n",
      "\n",
      "[ 6 18  9]\n",
      "\n",
      "[16  4 25]\n",
      "\n"
     ]
    }
   ],
   "metadata": {}
  },
  {
   "cell_type": "code",
   "execution_count": 12,
   "source": [
    "# Beispiel: Operationen zwischen Arrays finden elementweise statt\n",
    "print(b+c)\n",
    "print(b*c)\n",
    "print(b**c)\n",
    "print(b/c)"
   ],
   "outputs": [
    {
     "output_type": "stream",
     "name": "stdout",
     "text": [
      "[6 8 8]\n",
      "[ 8 12 15]\n",
      "[ 16  36 243]\n",
      "[0.5 3.  0.6]\n"
     ]
    }
   ],
   "metadata": {}
  },
  {
   "cell_type": "code",
   "execution_count": 13,
   "source": [
    "# Standard Funktionen werden auch elementweise ausgeführt\n",
    "print(np.exp(a))\n",
    "print(np.sin(a))\n",
    "print(np.sqrt(a))\n",
    "print(np.log(a+1))"
   ],
   "outputs": [
    {
     "output_type": "stream",
     "name": "stdout",
     "text": [
      "[[1.00000000e+00 2.71828183e+00 7.38905610e+00]\n",
      " [2.00855369e+01 5.45981500e+01 1.48413159e+02]\n",
      " [4.03428793e+02 1.09663316e+03 2.98095799e+03]]\n",
      "[[ 0.          0.84147098  0.90929743]\n",
      " [ 0.14112001 -0.7568025  -0.95892427]\n",
      " [-0.2794155   0.6569866   0.98935825]]\n",
      "[[0.         1.         1.41421356]\n",
      " [1.73205081 2.         2.23606798]\n",
      " [2.44948974 2.64575131 2.82842712]]\n",
      "[[0.         0.69314718 1.09861229]\n",
      " [1.38629436 1.60943791 1.79175947]\n",
      " [1.94591015 2.07944154 2.19722458]]\n"
     ]
    }
   ],
   "metadata": {}
  },
  {
   "cell_type": "markdown",
   "source": [
    "## Assignment von Numpy arrays"
   ],
   "metadata": {}
  },
  {
   "cell_type": "code",
   "execution_count": 14,
   "source": [
    "# Wir gehen kurz darauf ein, wie das Assignment von numpy arrays gehandhabt wird.\n",
    "\n",
    "# erzeugen wir zunächst ein neues array \n",
    "a = np.ones(5) \n",
    "print(a)"
   ],
   "outputs": [
    {
     "output_type": "stream",
     "name": "stdout",
     "text": [
      "[1. 1. 1. 1. 1.]\n"
     ]
    }
   ],
   "metadata": {}
  },
  {
   "cell_type": "code",
   "execution_count": 15,
   "source": [
    "# Betrachten wir folgende Zuweisung:\n",
    "b = a\n",
    "# In Python wird hierbei kein neues Array erstellt, b verweist lediglich auf a.\n",
    "# Daher betreffen Änderungen in b auch a:\n",
    "b *= 10\n",
    "print(a)"
   ],
   "outputs": [
    {
     "output_type": "stream",
     "name": "stdout",
     "text": [
      "[10. 10. 10. 10. 10.]\n"
     ]
    }
   ],
   "metadata": {}
  },
  {
   "cell_type": "code",
   "execution_count": 16,
   "source": [
    "# Das selbe gilt für slices:\n",
    "a = np.ones([4,3])\n",
    "b = a[:,2]\n",
    "b *= 2\n",
    "print(a)"
   ],
   "outputs": [
    {
     "output_type": "stream",
     "name": "stdout",
     "text": [
      "[[1. 1. 2.]\n",
      " [1. 1. 2.]\n",
      " [1. 1. 2.]\n",
      " [1. 1. 2.]]\n"
     ]
    }
   ],
   "metadata": {}
  },
  {
   "cell_type": "code",
   "execution_count": 17,
   "source": [
    "# Um eine unabhängige Kopie zu erzeugen, kann die .copy methode genutzt werden:\n",
    "c = a.copy()\n",
    "c*=12\n",
    "print(a)\n",
    "print(c)"
   ],
   "outputs": [
    {
     "output_type": "stream",
     "name": "stdout",
     "text": [
      "[[1. 1. 2.]\n",
      " [1. 1. 2.]\n",
      " [1. 1. 2.]\n",
      " [1. 1. 2.]]\n",
      "[[12. 12. 24.]\n",
      " [12. 12. 24.]\n",
      " [12. 12. 24.]\n",
      " [12. 12. 24.]]\n"
     ]
    }
   ],
   "metadata": {}
  },
  {
   "cell_type": "code",
   "execution_count": 18,
   "source": [
    "# Alternativ, können wir für ein bestehendes Array der richtigen Größe\n",
    "# die Einträge mit den Einträgen von a überschreiben\n",
    "\n",
    "d = np.ones(a.shape)\n",
    "d[:] = a\n",
    "\n",
    "# Beide Arrays bleiben unabhängig voneinander:\n",
    "\n",
    "d*=4\n",
    "print(a)\n",
    "print(d)"
   ],
   "outputs": [
    {
     "output_type": "stream",
     "name": "stdout",
     "text": [
      "[[1. 1. 2.]\n",
      " [1. 1. 2.]\n",
      " [1. 1. 2.]\n",
      " [1. 1. 2.]]\n",
      "[[4. 4. 8.]\n",
      " [4. 4. 8.]\n",
      " [4. 4. 8.]\n",
      " [4. 4. 8.]]\n"
     ]
    }
   ],
   "metadata": {}
  },
  {
   "cell_type": "code",
   "execution_count": 19,
   "source": [
    "# In funktionen kann man, statt einen neuen array zurückzugeben (Standard in Matlab) den array selbst bearbeiten, vgl c++\n",
    "def manipulate(array):\n",
    "    for i in range(len(array)):\n",
    "        array[i] = np.exp(array[i])\n",
    "        \n",
    "a = np.array((3.,0.,1.,2.))\n",
    "manipulate(a)\n",
    "print(a)"
   ],
   "outputs": [
    {
     "output_type": "stream",
     "name": "stdout",
     "text": [
      "[20.08553692  1.          2.71828183  7.3890561 ]\n"
     ]
    }
   ],
   "metadata": {}
  },
  {
   "cell_type": "code",
   "execution_count": 20,
   "source": [
    "# Achtung: Neuzuweisungen innerhalb der Funktion bleiben lokal, sind also außerhalb nicht wirksam\n",
    "def useless_manipulate(array):\n",
    "    array = np.ones(array.shape)\n",
    "    \n",
    "a = np.array((3.,0.,1.,2.))\n",
    "useless_manipulate(a)\n",
    "print(a)\n",
    "# Dies könnte man in der Funktion z.B. mit array[:] = ... reparieren"
   ],
   "outputs": [
    {
     "output_type": "stream",
     "name": "stdout",
     "text": [
      "[3. 0. 1. 2.]\n"
     ]
    }
   ],
   "metadata": {}
  },
  {
   "cell_type": "markdown",
   "source": [
    "## Manipulation der Arraystruktur"
   ],
   "metadata": {}
  },
  {
   "cell_type": "code",
   "execution_count": 21,
   "source": [
    "# reshape und ravel\n",
    "a = np.eye(4)\n",
    "my_ravel = (a.ravel());print(my_ravel)\n",
    "print(\"\")\n",
    "my_reshape = a.reshape([8,2]);print(my_reshape)\n",
    "print(\"\")\n",
    "print(a)"
   ],
   "outputs": [
    {
     "output_type": "stream",
     "name": "stdout",
     "text": [
      "[1. 0. 0. 0. 0. 1. 0. 0. 0. 0. 1. 0. 0. 0. 0. 1.]\n",
      "\n",
      "[[1. 0.]\n",
      " [0. 0.]\n",
      " [0. 1.]\n",
      " [0. 0.]\n",
      " [0. 0.]\n",
      " [1. 0.]\n",
      " [0. 0.]\n",
      " [0. 1.]]\n",
      "\n",
      "[[1. 0. 0. 0.]\n",
      " [0. 1. 0. 0.]\n",
      " [0. 0. 1. 0.]\n",
      " [0. 0. 0. 1.]]\n"
     ]
    }
   ],
   "metadata": {}
  },
  {
   "cell_type": "code",
   "execution_count": 22,
   "source": [
    "# reshape ändert den array nicht:\n",
    "a.reshape([2,8]);print(a)\n"
   ],
   "outputs": [
    {
     "output_type": "stream",
     "name": "stdout",
     "text": [
      "[[1. 0. 0. 0.]\n",
      " [0. 1. 0. 0.]\n",
      " [0. 0. 1. 0.]\n",
      " [0. 0. 0. 1.]]\n"
     ]
    }
   ],
   "metadata": {}
  },
  {
   "cell_type": "code",
   "execution_count": 23,
   "source": [
    "# resize ändert den array\n",
    "a.resize([2,8]);print(a)"
   ],
   "outputs": [
    {
     "output_type": "stream",
     "name": "stdout",
     "text": [
      "[[1. 0. 0. 0. 0. 1. 0. 0.]\n",
      " [0. 0. 1. 0. 0. 0. 0. 1.]]\n"
     ]
    }
   ],
   "metadata": {}
  },
  {
   "cell_type": "code",
   "execution_count": 24,
   "source": [
    "# Array transponieren\n",
    "print(my_reshape.T)"
   ],
   "outputs": [
    {
     "output_type": "stream",
     "name": "stdout",
     "text": [
      "[[1. 0. 0. 0. 0. 1. 0. 0.]\n",
      " [0. 0. 1. 0. 0. 0. 0. 1.]]\n"
     ]
    }
   ],
   "metadata": {}
  },
  {
   "cell_type": "code",
   "execution_count": 25,
   "source": [
    "# Wie auch bei slices gilt: Bei reshape, ravel und der Transposition werden keine neuen Objekte erzeugt\n",
    "a = np.eye(4)\n",
    "my_ravel = a.ravel()\n",
    "my_ravel[0] = 20\n",
    "print(a)\n",
    "print(\"\")\n",
    "\n",
    "a = np.ones((4,4))\n",
    "my_reshape = a.reshape((2,8))\n",
    "my_reshape[0,:] *= 2\n",
    "print(a)\n",
    "print(\"\")\n",
    "\n",
    "a = np.arange(16).reshape((4,4))\n",
    "my_transpose = a.T\n",
    "my_transpose[0,:] = 50\n",
    "print(a)"
   ],
   "outputs": [
    {
     "output_type": "stream",
     "name": "stdout",
     "text": [
      "[[20.  0.  0.  0.]\n",
      " [ 0.  1.  0.  0.]\n",
      " [ 0.  0.  1.  0.]\n",
      " [ 0.  0.  0.  1.]]\n",
      "\n",
      "[[2. 2. 2. 2.]\n",
      " [2. 2. 2. 2.]\n",
      " [1. 1. 1. 1.]\n",
      " [1. 1. 1. 1.]]\n",
      "\n",
      "[[50  1  2  3]\n",
      " [50  5  6  7]\n",
      " [50  9 10 11]\n",
      " [50 13 14 15]]\n"
     ]
    }
   ],
   "metadata": {}
  },
  {
   "cell_type": "markdown",
   "source": [
    "## Lineare Algebra mit numpy"
   ],
   "metadata": {}
  },
  {
   "cell_type": "code",
   "execution_count": 26,
   "source": [
    "# Skalarprodukt von Vektoren\n",
    "a = np.arange(2,10)\n",
    "print(a @ a)\n",
    "print(a.dot(a))\n",
    "print(np.matmul(a,a))\n",
    "print(np.inner(a,a))\n",
    "print(np.sum(a*a))"
   ],
   "outputs": [
    {
     "output_type": "stream",
     "name": "stdout",
     "text": [
      "284\n",
      "284\n",
      "284\n",
      "284\n",
      "284\n"
     ]
    }
   ],
   "metadata": {}
  },
  {
   "cell_type": "code",
   "execution_count": 27,
   "source": [
    "# Dyadisches Produkt\n",
    "print(np.outer(a,a))"
   ],
   "outputs": [
    {
     "output_type": "stream",
     "name": "stdout",
     "text": [
      "[[ 4  6  8 10 12 14 16 18]\n",
      " [ 6  9 12 15 18 21 24 27]\n",
      " [ 8 12 16 20 24 28 32 36]\n",
      " [10 15 20 25 30 35 40 45]\n",
      " [12 18 24 30 36 42 48 54]\n",
      " [14 21 28 35 42 49 56 63]\n",
      " [16 24 32 40 48 56 64 72]\n",
      " [18 27 36 45 54 63 72 81]]\n"
     ]
    }
   ],
   "metadata": {}
  },
  {
   "cell_type": "code",
   "execution_count": 28,
   "source": [
    "# Matrix-Vektor Multiplikation\n",
    "A = np.arange(9).reshape([3,3])\n",
    "print(A @ A)\n",
    "print(np.matmul(A,A))\n",
    "print(np.dot(A,A))"
   ],
   "outputs": [
    {
     "output_type": "stream",
     "name": "stdout",
     "text": [
      "[[ 15  18  21]\n",
      " [ 42  54  66]\n",
      " [ 69  90 111]]\n",
      "[[ 15  18  21]\n",
      " [ 42  54  66]\n",
      " [ 69  90 111]]\n",
      "[[ 15  18  21]\n",
      " [ 42  54  66]\n",
      " [ 69  90 111]]\n"
     ]
    }
   ],
   "metadata": {}
  },
  {
   "cell_type": "code",
   "execution_count": 29,
   "source": [
    "# Viele weitergehende Funktionen der linearen Algebra sind in der linalg Bibliothek von numpy enthalten\n",
    "# https://docs.scipy.org/doc/numpy/reference/routines.linalg.html\n",
    "\n",
    "# Für versierte Matlab user ist folgende Seite mit \"Übersetzungen\" hilfreich:\n",
    "# https://docs.scipy.org/doc/numpy/user/numpy-for-matlab-users.html\n",
    "\n",
    "# Beispiel: LGS lösen\n",
    "A = np.array([[2,1,-1],[1,-1,-1],[2,2,1]])\n",
    "b = np.array([1,3,1])\n",
    "x = np.linalg.solve(A,b);\n",
    "print('A =\\n',A)\n",
    "print('b = \\n',b)\n",
    "print('x = \\n',x)"
   ],
   "outputs": [
    {
     "output_type": "stream",
     "name": "stdout",
     "text": [
      "A =\n",
      " [[ 2  1 -1]\n",
      " [ 1 -1 -1]\n",
      " [ 2  2  1]]\n",
      "b = \n",
      " [1 3 1]\n",
      "x = \n",
      " [ 2. -2.  1.]\n"
     ]
    }
   ],
   "metadata": {}
  },
  {
   "cell_type": "code",
   "execution_count": 30,
   "source": [
    "# Beispiel: Eigenwerte bestimmen\n",
    "B = np.array( [[10.,  15  ,-12],[ 15 , -3 , -8 ],[ -12 ,-8  ,13 ]])\n",
    "print('B =\\n',B)\n",
    "la,v = np.linalg.eig(B)\n",
    "print('la =\\n',la)\n",
    "print('Eigenvektoren in Spalten:\\n',v)\n",
    "print('EV zu groesstem EW:\\n',v[:,0])"
   ],
   "outputs": [
    {
     "output_type": "stream",
     "name": "stdout",
     "text": [
      "B =\n",
      " [[ 10.  15. -12.]\n",
      " [ 15.  -3.  -8.]\n",
      " [-12.  -8.  13.]]\n",
      "la =\n",
      " [ 31.24668963 -12.84831449   1.60162486]\n",
      "Eigenvektoren in Spalten:\n",
      " [[-0.65503945 -0.54687846  0.52138974]\n",
      " [-0.43175821  0.83719571  0.33569061]\n",
      " [ 0.62008722  0.00522371  0.78451549]]\n",
      "EV zu groesstem EW:\n",
      " [-0.65503945 -0.43175821  0.62008722]\n"
     ]
    }
   ],
   "metadata": {}
  },
  {
   "cell_type": "code",
   "execution_count": 31,
   "source": [
    "# Determinante\n",
    "print('Det(B) =\\n',np.linalg.det(B))\n",
    "# Spur\n",
    "print('Spur(B)=\\n',np.trace(B))"
   ],
   "outputs": [
    {
     "output_type": "stream",
     "name": "stdout",
     "text": [
      "Det(B) =\n",
      " -642.9999999999998\n",
      "Spur(B)=\n",
      " 20.0\n"
     ]
    }
   ],
   "metadata": {}
  },
  {
   "cell_type": "markdown",
   "source": [
    "## Plots mit matplotlib"
   ],
   "metadata": {}
  },
  {
   "cell_type": "code",
   "execution_count": 32,
   "source": [
    "import matplotlib.pyplot as plt\n",
    "# Die matplotlib Bibliothek bietet zahlreiche Möglichkeiten der Visualisierung\n",
    "# Wir zeigen hier nur die grundlegende Syntax zum plotten von Funktionen\n",
    "# Für Beispiele und Weiterführende Infos: https://matplotlib.org/tutorials/introductory/pyplot.html\n",
    "\n",
    "x = np.linspace(0,2*np.pi)\n",
    "y = np.sin(x)\n",
    "plt.plot(x,y)\n",
    "plt.show()"
   ],
   "outputs": [
    {
     "output_type": "display_data",
     "data": {
      "image/png": "[encoded data removed]",
      "text/plain": [
       "<Figure size 432x288 with 1 Axes>"
      ]
     },
     "metadata": {
      "needs_background": "light"
     }
    }
   ],
   "metadata": {}
  },
  {
   "cell_type": "code",
   "execution_count": 33,
   "source": [
    "def gaussFunction(x):\n",
    "    return np.exp(-x**2) - np.exp(-(x-8)**2)\n",
    "\n",
    "x = np.linspace(-3,10,499)\n",
    "y = gaussFunction(x)\n",
    "plt.plot(x,y)\n",
    "plt.show()"
   ],
   "outputs": [
    {
     "output_type": "display_data",
     "data": {
      "image/png": "[encoded data removed]",
      "text/plain": [
       "<Figure size 432x288 with 1 Axes>"
      ]
     },
     "metadata": {
      "needs_background": "light"
     }
    }
   ],
   "metadata": {}
  },
  {
   "cell_type": "code",
   "execution_count": null,
   "source": [],
   "outputs": [],
   "metadata": {}
  }
 ],
 "metadata": {
  "kernelspec": {
   "name": "python3",
   "display_name": "Python 3.7.9 64-bit ('p37': conda)"
  },
  "language_info": {
   "codemirror_mode": {
    "name": "ipython",
    "version": 3
   },
   "file_extension": ".py",
   "mimetype": "text/x-python",
   "name": "python",
   "nbconvert_exporter": "python",
   "pygments_lexer": "ipython3",
   "version": "3.7.9"
  },
  "interpreter": {
   "hash": "57115fa14748ed2ec7c19b421872ec248b08c7ae5a6fb4caa1d3a2ab35c53d21"
  }
 },
 "nbformat": 4,
 "nbformat_minor": 2
}