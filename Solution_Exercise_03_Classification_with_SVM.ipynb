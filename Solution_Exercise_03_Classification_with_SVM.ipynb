{
 "cells": [
  {
   "cell_type": "code",
   "execution_count": null,
   "metadata": {},
   "outputs": [],
   "source": [
    "# enables inline plotting\n",
    "%matplotlib inline\n",
    "import numpy as np\n",
    "import matplotlib.pyplot as plt\n",
    "# use seaborn plotting defaults\n",
    "import seaborn as sns; sns.set()"
   ]
  },
  {
   "cell_type": "markdown",
   "metadata": {},
   "source": [
    "#### Solution Task 1: Constructing linear separators\n",
    "One can easily draw three different linear separators that classify the data correctly. However as soon as you add a new data the found separators might not be perfect anymore.\n"
   ]
  },
  {
   "cell_type": "code",
   "execution_count": null,
   "metadata": {
    "scrolled": true
   },
   "outputs": [],
   "source": [
    "from sklearn.datasets import make_blobs\n",
    "# create 50 samples with 2 centers and a standard deviation of 0.7\n",
    "data, labels = make_blobs(n_samples=50, centers=2, random_state=0, cluster_std=0.70)\n",
    "# plot the created data, with the lables as the color, the size set to 50 and the color map set to summer\n",
    "plt.scatter(data[:, 0], data[:, 1], c=labels, s=50, cmap='summer');\n",
    "\n",
    "# create a equidistant spaced array from the min to the max values of the data (x)\n",
    "xfit = np.linspace(np.min(data[:, 0]), np.max(data[:, 0]))\n",
    "\n",
    "#SOLUTION (one of many)\n",
    "for m, b in [(0.9, 0.75), (0.5, 1.6), (0, 2.7)]:\n",
    "    yfit = m * xfit + b\n",
    "    plt.plot(xfit, yfit, '-')\n",
    "    \n",
    "# set the axis limits to the min and max values of the data\n",
    "plt.xlim(np.min(data[:, 0]), np.max(data[:, 0]));\n",
    "plt.ylim(np.min(data[:, 1]), np.max(data[:, 1]));"
   ]
  },
  {
   "cell_type": "markdown",
   "metadata": {},
   "source": [
    "#### Solution Task 2: Maximizing Margins\n",
    "The line that maximizes the margin between the two classes is the one we will choose as the optimal model. Support vector machines are an example of such a maximum margin estimator."
   ]
  },
  {
   "cell_type": "code",
   "execution_count": null,
   "metadata": {
    "scrolled": true
   },
   "outputs": [],
   "source": [
    "from sklearn.datasets import make_blobs\n",
    "# create 50 samples with 2 centers and a standard deviation of 0.7\n",
    "data, labels = make_blobs(n_samples=50, centers=2, random_state=0, cluster_std=0.70)\n",
    "# plot the created data, with the lables as the color, the size set to 50 and the color map set to summer\n",
    "plt.scatter(data[:, 0], data[:, 1], c=labels, s=50, cmap='summer');\n",
    "\n",
    "# create a equidistant spaced array from the min to the max values of the data (x)\n",
    "xfit = np.linspace(np.min(data[:, 0]), np.max(data[:, 0]))\n",
    "\n",
    "#SOLUTION\n",
    "for m, b, margin in [(0.9, 0.75, 0.07), (0.5, 1.6, 0.28), (0, 2.7, 0.1)]:\n",
    "    yfit = m * xfit + b\n",
    "    plt.plot(xfit, yfit, '-')\n",
    "    # draw a margin around the line\n",
    "    plt.fill_between(xfit, yfit - margin, yfit + margin, edgecolor='none', color='r', alpha=0.1)\n",
    "\n",
    "# set the axis limits to the min and max values of the data\n",
    "plt.xlim(np.min(data[:, 0]), np.max(data[:, 0]));\n",
    "plt.ylim(np.min(data[:, 1]), np.max(data[:, 1]));"
   ]
  },
  {
   "cell_type": "markdown",
   "metadata": {},
   "source": [
    "#### Solution Task 3: Transforming Data\n"
   ]
  },
  {
   "cell_type": "code",
   "execution_count": null,
   "metadata": {
    "scrolled": true
   },
   "outputs": [],
   "source": [
    "from sklearn.datasets import make_circles\n",
    "data, labels = make_circles(100, factor=.1, noise=.1)\n",
    "#ONE SOLUTION\n",
    "r = (data ** 2).sum(1)\n",
    "\n",
    "from mpl_toolkits import mplot3d\n",
    "\n",
    "def plot_3D(data, labels, r, elev=10, azim=30):\n",
    "    ax = plt.subplot(projection='3d')\n",
    "    ax.scatter3D(data[:, 0], data[:, 1], r, c=labels, s=50, cmap='summer')\n",
    "    ax.view_init(elev=elev, azim=azim)\n",
    "    ax.set_xlabel('x')\n",
    "    ax.set_ylabel('y')\n",
    "    ax.set_zlabel('r')\n",
    "    return ax\n",
    "\n",
    "def plot_3D_hyperplane(data,r,ax):\n",
    "    x = np.linspace(np.min(data[:, 0]), np.max(data[:, 0]),2)\n",
    "    y = np.linspace(np.min(data[:, 1]), np.max(data[:, 1]),2)\n",
    "    X, Y = np.meshgrid(x, y)\n",
    "    r = np.ones(X.shape)*r\n",
    "    ax.plot_surface(X, Y, r, color='r', alpha=0.4);\n",
    "\n",
    "# plot the data in 3d\n",
    "ax = plot_3D(data,labels,r)\n",
    "# draw a possible hyperplane for linear separation\n",
    "plot_3D_hyperplane(data,np.average(r),ax)"
   ]
  }
 ],
 "metadata": {
  "kernelspec": {
   "display_name": "ml_env",
   "language": "python",
   "name": "ml_env"
  },
  "language_info": {
   "codemirror_mode": {
    "name": "ipython",
    "version": 3
   },
   "file_extension": ".py",
   "mimetype": "text/x-python",
   "name": "python",
   "nbconvert_exporter": "python",
   "pygments_lexer": "ipython3",
   "version": "3.8.5"
  }
 },
 "nbformat": 4,
 "nbformat_minor": 2
}
