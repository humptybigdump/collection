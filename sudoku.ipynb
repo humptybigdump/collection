{
 "cells": [
  {
   "cell_type": "code",
   "execution_count": 1,
   "metadata": {},
   "outputs": [],
   "source": [
    "from gurobipy import GRB, Model"
   ]
  },
  {
   "cell_type": "markdown",
   "metadata": {},
   "source": [
    "# Sudoku - Integer Formulation"
   ]
  },
  {
   "cell_type": "markdown",
   "metadata": {},
   "source": [
    "## Data"
   ]
  },
  {
   "cell_type": "code",
   "execution_count": 7,
   "metadata": {},
   "outputs": [],
   "source": [
    "init_nums = {\n",
    "    (1, 1): 8,\n",
    "    (2, 3): 3, (2, 4): 6,\n",
    "    (3, 2): 7, (3, 5): 9, (3, 7): 2,\n",
    "    (4, 2): 5, (4, 6): 7,\n",
    "    (5, 5): 4, (5, 6): 5, (5, 7): 7,\n",
    "    (6, 4): 1, (6, 8): 3,\n",
    "    (7, 3): 1, (7, 8): 6, (7, 9): 8,\n",
    "    (8, 3): 8, (8, 4): 5, (8, 8): 1,\n",
    "    (9, 2): 9, (9, 7): 4\n",
    "}"
   ]
  },
  {
   "cell_type": "code",
   "execution_count": 11,
   "metadata": {},
   "outputs": [],
   "source": [
    "rows = range(1, 10)\n",
    "columns = range(1, 10)\n",
    "boxes = [\n",
    "    [(3*i + k, 3*j + l) for k in range(1, 4) for l in range(1, 4)]\n",
    "    for i in range(3) for j in range(3)\n",
    "]"
   ]
  },
  {
   "cell_type": "code",
   "execution_count": 28,
   "metadata": {},
   "outputs": [],
   "source": [
    "M = 9"
   ]
  },
  {
   "cell_type": "markdown",
   "metadata": {},
   "source": [
    "## Model"
   ]
  },
  {
   "cell_type": "code",
   "execution_count": 48,
   "metadata": {},
   "outputs": [],
   "source": [
    "m = Model(\"Sudoku integer\")"
   ]
  },
  {
   "cell_type": "code",
   "execution_count": 49,
   "metadata": {},
   "outputs": [],
   "source": [
    "y = m.addVars(rows, columns, vtype=GRB.INTEGER, lb=1, ub=9)"
   ]
  },
  {
   "cell_type": "code",
   "execution_count": 50,
   "metadata": {},
   "outputs": [],
   "source": [
    "b = m.addVars(rows, columns, rows, columns, vtype=GRB.BINARY)"
   ]
  },
  {
   "cell_type": "code",
   "execution_count": 51,
   "metadata": {},
   "outputs": [],
   "source": [
    "m.addConstrs(\n",
    "    y[r, c] == v for ((r, c), v) in init_nums.items()\n",
    ")\n",
    "m.update()"
   ]
  },
  {
   "cell_type": "markdown",
   "metadata": {},
   "source": [
    "unique value per row"
   ]
  },
  {
   "cell_type": "code",
   "execution_count": 52,
   "metadata": {},
   "outputs": [],
   "source": [
    "for r in rows:\n",
    "    for c in columns:\n",
    "        for c1 in columns:\n",
    "            if c != c1:\n",
    "                m.addConstr(y[r, c] + 1 <= y[r, c1] + b[r, c, r, c1] * M)\n",
    "                m.addConstr(y[r, c] >= y[r, c1] + 1 - (1 - b[r, c, r, c1]) * M)"
   ]
  },
  {
   "cell_type": "markdown",
   "metadata": {},
   "source": [
    "unique value per column"
   ]
  },
  {
   "cell_type": "code",
   "execution_count": 53,
   "metadata": {},
   "outputs": [],
   "source": [
    "for c in columns:\n",
    "    for r in rows:\n",
    "        for r1 in rows:\n",
    "            if r != r1:\n",
    "                m.addConstr(y[r, c] + 1 <= y[r1, c] + b[r, c, r1, c] * M)\n",
    "                m.addConstr(y[r, c] >= y[r1, c] + 1 - (1-b[r, c, r1, c]) * M)"
   ]
  },
  {
   "cell_type": "markdown",
   "metadata": {},
   "source": [
    "unique value per box"
   ]
  },
  {
   "cell_type": "code",
   "execution_count": 54,
   "metadata": {},
   "outputs": [],
   "source": [
    "for box in boxes:\n",
    "    for (r, c) in box:\n",
    "        for (r1, c1) in box:\n",
    "            if (r,c) != (r1, c1):\n",
    "                m.addConstr(y[r, c] + 1 <= y[r1, c1] + b[r, c, r1, c1] * M)\n",
    "                m.addConstr(y[r, c] >= y[r1, c1] + 1 - (1-b[r, c, r1, c1]) * M)"
   ]
  },
  {
   "cell_type": "code",
   "execution_count": 55,
   "metadata": {},
   "outputs": [
    {
     "name": "stdout",
     "output_type": "stream",
     "text": [
      "Gurobi Optimizer version 9.0.3 build v9.0.3rc0 (win64)\n",
      "Optimize a model with 3909 rows, 6642 columns and 11685 nonzeros\n",
      "Model fingerprint: 0x1a5c6ec6\n",
      "Variable types: 0 continuous, 6642 integer (6561 binary)\n",
      "Coefficient statistics:\n",
      "  Matrix range     [1e+00, 9e+00]\n",
      "  Objective range  [0e+00, 0e+00]\n",
      "  Bounds range     [1e+00, 9e+00]\n",
      "  RHS range        [1e+00, 9e+00]\n",
      "Presolve removed 2298 rows and 5797 columns\n",
      "Presolve time: 0.05s\n",
      "Presolved: 1611 rows, 845 columns, 4631 nonzeros\n",
      "Variable types: 0 continuous, 845 integer (786 binary)\n",
      "\n",
      "Root relaxation: objective 0.000000e+00, 612 iterations, 0.00 seconds\n",
      "\n",
      "    Nodes    |    Current Node    |     Objective Bounds      |     Work\n",
      " Expl Unexpl |  Obj  Depth IntInf | Incumbent    BestBd   Gap | It/Node Time\n",
      "\n",
      "     0     0    0.00000    0   19          -    0.00000      -     -    0s\n",
      "     0     0    0.00000    0   70          -    0.00000      -     -    0s\n",
      "     0     0    0.00000    0   70          -    0.00000      -     -    0s\n",
      "     0     0    0.00000    0   35          -    0.00000      -     -    0s\n",
      "     0     0    0.00000    0   20          -    0.00000      -     -    0s\n",
      "     0     2    0.00000    0   20          -    0.00000      -     -    0s\n",
      "  5607   216 infeasible   21               -    0.00000      -  87.2    5s\n",
      "* 7908   206              16       0.0000000    0.00000  0.00%  87.8    7s\n",
      "\n",
      "Cutting planes:\n",
      "  Learned: 401\n",
      "  Gomory: 17\n",
      "  Cover: 5385\n",
      "  Implied bound: 610\n",
      "  Clique: 51\n",
      "  MIR: 72\n",
      "  StrongCG: 8\n",
      "  Inf proof: 21\n",
      "  Zero half: 13\n",
      "  RLT: 1\n",
      "  Relax-and-lift: 61\n",
      "\n",
      "Explored 8244 nodes (724627 simplex iterations) in 7.52 seconds\n",
      "Thread count was 16 (of 16 available processors)\n",
      "\n",
      "Solution count 1: 0 \n",
      "\n",
      "Optimal solution found (tolerance 1.00e-04)\n",
      "Best objective 0.000000000000e+00, best bound 0.000000000000e+00, gap 0.0000%\n"
     ]
    }
   ],
   "source": [
    "m.optimize()"
   ]
  },
  {
   "cell_type": "code",
   "execution_count": 56,
   "metadata": {},
   "outputs": [
    {
     "name": "stdout",
     "output_type": "stream",
     "text": [
      "+-------+-------+-------+\n",
      "| 8 1 2 | 7 5 3 | 6 4 9 |\n",
      "| 9 4 3 | 6 8 2 | 1 7 5 |\n",
      "| 6 7 5 | 4 9 1 | 2 8 3 |\n",
      "+-------+-------+-------+\n",
      "| 1 5 4 | 2 3 7 | 8 9 6 |\n",
      "| 3 6 9 | 8 4 5 | 7 2 1 |\n",
      "| 2 8 7 | 1 6 9 | 5 3 4 |\n",
      "+-------+-------+-------+\n",
      "| 5 2 1 | 9 7 4 | 3 6 8 |\n",
      "| 4 3 8 | 5 2 6 | 9 1 7 |\n",
      "| 7 9 6 | 3 1 8 | 4 5 2 |\n",
      "+-------+-------+-------+\n"
     ]
    }
   ],
   "source": [
    "for r in rows:\n",
    "    if (r - 1) % 3 == 0:\n",
    "        print('+-------+-------+-------+')\n",
    "    line = ''\n",
    "    for c in columns:\n",
    "        if (c - 1) % 3 == 0:\n",
    "            line += '| '\n",
    "        line += f'{int(y[r, c].X)} '\n",
    "        if c == 9:\n",
    "            line += '|'\n",
    "    print(line)\n",
    "print('+-------+-------+-------+')"
   ]
  },
  {
   "cell_type": "markdown",
   "metadata": {},
   "source": [
    "# Sudoku - Binary Formulation"
   ]
  },
  {
   "cell_type": "markdown",
   "metadata": {},
   "source": [
    "## Data"
   ]
  },
  {
   "cell_type": "code",
   "execution_count": 3,
   "metadata": {},
   "outputs": [],
   "source": [
    "values = range(1, 10)"
   ]
  },
  {
   "cell_type": "code",
   "execution_count": 4,
   "metadata": {},
   "outputs": [],
   "source": [
    "rows = range(1, 10)\n",
    "columns = range(1, 10)\n",
    "boxes = [\n",
    "    [(3*i + k, 3*j + l) for k in range(1, 4) for l in range(1, 4)]\n",
    "    for i in range(3) for j in range(3)\n",
    "]"
   ]
  },
  {
   "cell_type": "markdown",
   "metadata": {},
   "source": [
    "## Model"
   ]
  },
  {
   "cell_type": "code",
   "execution_count": 14,
   "metadata": {},
   "outputs": [],
   "source": [
    "m = Model(\"Sudoku binary\")"
   ]
  },
  {
   "cell_type": "code",
   "execution_count": 15,
   "metadata": {},
   "outputs": [],
   "source": [
    "y = m.addVars(rows, columns, values, vtype=GRB.BINARY)"
   ]
  },
  {
   "cell_type": "code",
   "execution_count": 16,
   "metadata": {},
   "outputs": [],
   "source": [
    "m.addConstrs(\n",
    "    y[r, c, v] == 1 for ((r, c), v) in init_nums.items()\n",
    ")\n",
    "m.update()"
   ]
  },
  {
   "cell_type": "markdown",
   "metadata": {},
   "source": [
    "One value per entry"
   ]
  },
  {
   "cell_type": "code",
   "execution_count": 17,
   "metadata": {},
   "outputs": [],
   "source": [
    "m.addConstrs(\n",
    "    sum(y[r, c, v] for v in values) == 1 for r in rows for c in columns\n",
    ")\n",
    "m.update()"
   ]
  },
  {
   "cell_type": "markdown",
   "metadata": {},
   "source": [
    "uniqe value per row"
   ]
  },
  {
   "cell_type": "code",
   "execution_count": 21,
   "metadata": {},
   "outputs": [],
   "source": [
    "m.addConstrs(\n",
    "    sum(y[r, c, v] for c in columns) == 1 for r in rows for v in values\n",
    ")\n",
    "m.update()"
   ]
  },
  {
   "cell_type": "markdown",
   "metadata": {},
   "source": [
    "unique value per column"
   ]
  },
  {
   "cell_type": "code",
   "execution_count": 24,
   "metadata": {},
   "outputs": [],
   "source": [
    "m.addConstrs(\n",
    "    sum(y[r, c, v] for r in rows) == 1 for c in columns for v in values\n",
    ")\n",
    "m.update()"
   ]
  },
  {
   "cell_type": "markdown",
   "metadata": {},
   "source": [
    "unique value per box"
   ]
  },
  {
   "cell_type": "code",
   "execution_count": 29,
   "metadata": {},
   "outputs": [],
   "source": [
    "for box in boxes:\n",
    "    m.addConstrs(\n",
    "        sum(y[r, c, v] for (r, c) in box) == 1 for v in values\n",
    "    )\n",
    "m.update()"
   ]
  },
  {
   "cell_type": "code",
   "execution_count": 30,
   "metadata": {},
   "outputs": [
    {
     "name": "stdout",
     "output_type": "stream",
     "text": [
      "Gurobi Optimizer version 9.0.3 build v9.0.3rc0 (win64)\n",
      "Optimize a model with 427 rows, 729 columns and 3675 nonzeros\n",
      "Model fingerprint: 0x8c48c1f9\n",
      "Variable types: 0 continuous, 729 integer (729 binary)\n",
      "Coefficient statistics:\n",
      "  Matrix range     [1e+00, 1e+00]\n",
      "  Objective range  [0e+00, 0e+00]\n",
      "  Bounds range     [1e+00, 1e+00]\n",
      "  RHS range        [1e+00, 1e+00]\n",
      "\n",
      "MIP start from previous solve did not produce a new incumbent solution\n",
      "MIP start from previous solve violates constraint R345 by 1.000000000\n",
      "\n",
      "Presolve removed 214 rows and 493 columns\n",
      "Presolve time: 0.01s\n",
      "Presolved: 213 rows, 236 columns, 940 nonzeros\n",
      "Variable types: 0 continuous, 236 integer (236 binary)\n",
      "\n",
      "Root relaxation: objective 0.000000e+00, 249 iterations, 0.00 seconds\n",
      "\n",
      "    Nodes    |    Current Node    |     Objective Bounds      |     Work\n",
      " Expl Unexpl |  Obj  Depth IntInf | Incumbent    BestBd   Gap | It/Node Time\n",
      "\n",
      "     0     0    0.00000    0  101          -    0.00000      -     -    0s\n",
      "H    0     0                       0.0000000    0.00000  0.00%     -    0s\n",
      "     0     0    0.00000    0   80    0.00000    0.00000  0.00%     -    0s\n",
      "\n",
      "Cutting planes:\n",
      "  Gomory: 1\n",
      "  Clique: 1\n",
      "  Zero half: 5\n",
      "\n",
      "Explored 1 nodes (344 simplex iterations) in 0.03 seconds\n",
      "Thread count was 16 (of 16 available processors)\n",
      "\n",
      "Solution count 1: 0 \n",
      "\n",
      "Optimal solution found (tolerance 1.00e-04)\n",
      "Best objective 0.000000000000e+00, best bound 0.000000000000e+00, gap 0.0000%\n"
     ]
    }
   ],
   "source": [
    "m.optimize()"
   ]
  },
  {
   "cell_type": "code",
   "execution_count": 31,
   "metadata": {},
   "outputs": [
    {
     "name": "stdout",
     "output_type": "stream",
     "text": [
      "+-------+-------+-------+\n",
      "| 8 1 2 | 7 5 3 | 6 4 9 |\n",
      "| 9 4 3 | 6 8 2 | 1 7 5 |\n",
      "| 6 7 5 | 4 9 1 | 2 8 3 |\n",
      "+-------+-------+-------+\n",
      "| 1 5 4 | 2 3 7 | 8 9 6 |\n",
      "| 3 6 9 | 8 4 5 | 7 2 1 |\n",
      "| 2 8 7 | 1 6 9 | 5 3 4 |\n",
      "+-------+-------+-------+\n",
      "| 5 2 1 | 9 7 4 | 3 6 8 |\n",
      "| 4 3 8 | 5 2 6 | 9 1 7 |\n",
      "| 7 9 6 | 3 1 8 | 4 5 2 |\n",
      "+-------+-------+-------+\n"
     ]
    }
   ],
   "source": [
    "for r in rows:\n",
    "    if (r - 1) % 3 == 0:\n",
    "        print('+-------+-------+-------+')\n",
    "    line = ''\n",
    "    for c in columns:\n",
    "        if (c - 1) % 3 == 0:\n",
    "            line += '| '\n",
    "        val = int(sum(y[r, c, v].X * v for v in values))\n",
    "        line += '{} '.format(val)\n",
    "        if c == 9:\n",
    "            line += '|'\n",
    "    print(line)\n",
    "print('+-------+-------+-------+')"
   ]
  },
  {
   "cell_type": "code",
   "execution_count": null,
   "metadata": {},
   "outputs": [],
   "source": []
  }
 ],
 "metadata": {
  "kernelspec": {
   "display_name": "Python 3",
   "language": "python",
   "name": "python3"
  },
  "language_info": {
   "codemirror_mode": {
    "name": "ipython",
    "version": 3
   },
   "file_extension": ".py",
   "mimetype": "text/x-python",
   "name": "python",
   "nbconvert_exporter": "python",
   "pygments_lexer": "ipython3",
   "version": "3.7.8"
  }
 },
 "nbformat": 4,
 "nbformat_minor": 4
}
