{
 "cells": [
  {
   "cell_type": "markdown",
   "metadata": {},
   "source": [
    "# PCA auf Bilddateien\n",
    "## Bild in Graustufen\n",
    "\n",
    "Für Bilder in Graustufen ist die Berechnung einfacher, weil solche Bilder als Matrix der Größe (Breite in Pixel, Höhe in Pixel) dargestellt werden können. \n",
    "Wie unten gezeigt, müssen bei farbigen Bildern die Kanäle aufgetrennt und seperat bearbeitet werden."
   ]
  },
  {
   "cell_type": "code",
   "execution_count": null,
   "metadata": {
    "pycharm": {
     "name": "#%%\n"
    }
   },
   "outputs": [],
   "source": [
    "from PIL import Image\n",
    "import numpy as np\n",
    "import matplotlib.pyplot as plt\n",
    "from sklearn.decomposition import PCA\n",
    "%matplotlib inline\n",
    "\n",
    "\n",
    "def show_image(im: Image, ax: plt.Axes = None):\n",
    "    \"Show image 'im' in notebook cell using matplotlib's imshow\"\n",
    "    if ax is None:\n",
    "        _, ax = plt.subplots(1, 1, figsize=(20, 13))\n",
    "    ax.imshow(im)\n",
    "\n",
    "    # Hide x and y axis\n",
    "    ax.get_xaxis().set_visible(False)\n",
    "    ax.get_yaxis().set_visible(False)\n"
   ]
  },
  {
   "cell_type": "markdown",
   "metadata": {},
   "source": [
    "* Darstellung des ursprünglichen Bildes"
   ]
  },
  {
   "cell_type": "code",
   "execution_count": null,
   "metadata": {
    "pycharm": {
     "name": "#%%\n"
    }
   },
   "outputs": [],
   "source": [
    "im = Image.open('data/elbphilharmonie_sw.tiff')\n",
    "print('Image size: ', im.size, '\\nImage mode: ', im.mode)\n",
    "\n",
    "show_image(im)\n"
   ]
  },
  {
   "cell_type": "markdown",
   "metadata": {},
   "source": [
    "* Hauptkomponentenanalyse des Bildes"
   ]
  },
  {
   "cell_type": "code",
   "execution_count": null,
   "metadata": {},
   "outputs": [],
   "source": [
    "# Convert internal representation to grey and convert to numpy array\n",
    "im_np_array = np.asarray(im.convert('L'))\n",
    "\n",
    "pca = PCA()\n",
    "score = pca.fit_transform(im_np_array)\n",
    "coeff = pca.components_.T\n"
   ]
  },
  {
   "cell_type": "code",
   "execution_count": null,
   "metadata": {},
   "outputs": [],
   "source": [
    "cumulative_variance_explained = pca.explained_variance_ratio_.cumsum()\n",
    "fig, ax = plt.subplots(1, 1, figsize=(20, 10))\n",
    "ax.plot(cumulative_variance_explained)\n",
    "ax.set_ylim([0, 1.1])\n",
    "ax.set(xlabel='Anzahl Dimensionen', ylabel='Anteil erklärter Varianz')\n",
    "\n",
    "for var_expl in [0.9, 0.95, 0.99]:\n",
    "    print(\n",
    "        f'Number of dimensions explaining {var_expl * 100} % of the variance: {np.nonzero(cumulative_variance_explained >= var_expl)[0].min()}')\n"
   ]
  },
  {
   "cell_type": "markdown",
   "metadata": {},
   "source": [
    "* Darstellung des mittels PCA dimensionsreduzierten Bildes"
   ]
  },
  {
   "cell_type": "code",
   "execution_count": null,
   "metadata": {
    "pycharm": {
     "name": "#%%\n"
    }
   },
   "outputs": [],
   "source": [
    "nb_components = 404\n",
    "\n",
    "im_np_array_reduced = score[:, :nb_components] @ coeff[:,\n",
    "                                                       :nb_components].T + pca.mean_\n",
    "show_image(Image.fromarray(im_np_array_reduced))\n"
   ]
  },
  {
   "cell_type": "markdown",
   "metadata": {
    "pycharm": {
     "name": "#%%\n"
    }
   },
   "source": [
    "## Farbiges Bild"
   ]
  },
  {
   "cell_type": "code",
   "execution_count": null,
   "metadata": {},
   "outputs": [],
   "source": [
    "im = Image.open('data/elbphilharmonie.tiff')\n",
    "show_image(im)\n"
   ]
  },
  {
   "cell_type": "code",
   "execution_count": null,
   "metadata": {},
   "outputs": [],
   "source": [
    "# Convert internal representation to grey and convert to numpy array\n",
    "im_np_array = np.asarray(im)\n",
    "\n",
    "print('Shape: ', im_np_array.shape)\n",
    "\n",
    "fig, ax = plt.subplots(1, 3, figsize=(18, 4))\n",
    "for channel in range(3):\n",
    "    im_single_color = np.zeros_like(im_np_array)\n",
    "    im_single_color[:, :, channel] = im_np_array[:, :, channel]\n",
    "    show_image(Image.fromarray(im_single_color), ax=ax[channel])\n"
   ]
  },
  {
   "cell_type": "code",
   "execution_count": null,
   "metadata": {},
   "outputs": [],
   "source": [
    "pca_dict = {}\n",
    "score_dict = {}\n",
    "coeff_dict = {}\n",
    "\n",
    "for channel in range(3):\n",
    "    pca_dict[channel] = PCA()\n",
    "    score_dict[channel] = pca_dict[channel].fit_transform(\n",
    "        im_np_array[:, :, channel])\n",
    "    coeff_dict[channel] = pca_dict[channel].components_.T\n"
   ]
  },
  {
   "cell_type": "code",
   "execution_count": null,
   "metadata": {},
   "outputs": [],
   "source": [
    "fig, ax = plt.subplots(1, 1, figsize=(20, 10))\n",
    "for channel in range(3):\n",
    "    cumulative_variance_explained = pca_dict[channel].explained_variance_ratio_.cumsum(\n",
    "    )\n",
    "    ax.plot(cumulative_variance_explained, label=channel)\n",
    "ax.set_ylim([0, 1.1])\n",
    "ax.set(xlabel='Anzahl Dimensionen', ylabel='Anteil erklärter Varianz')\n",
    "ax.legend()\n"
   ]
  },
  {
   "cell_type": "code",
   "execution_count": null,
   "metadata": {},
   "outputs": [],
   "source": [
    "nb_components = 1000\n",
    "\n",
    "im_np_array_reduced = np.zeros_like(im_np_array)\n",
    "\n",
    "for channel in range(3):\n",
    "    im_np_array_reduced[:, :, channel] = \\\n",
    "        score_dict[channel][:, :nb_components] @ \\\n",
    "        coeff_dict[channel][:, :nb_components].T + \\\n",
    "        pca_dict[channel].mean_\n",
    "\n",
    "show_image(Image.fromarray(im_np_array_reduced))\n"
   ]
  }
 ],
 "metadata": {
  "kernelspec": {
   "display_name": "Python 3.10.4 ('venv': venv)",
   "language": "python",
   "name": "python3"
  },
  "language_info": {
   "codemirror_mode": {
    "name": "ipython",
    "version": 3
   },
   "file_extension": ".py",
   "mimetype": "text/x-python",
   "name": "python",
   "nbconvert_exporter": "python",
   "pygments_lexer": "ipython3",
   "version": "3.10.4"
  },
  "latex_envs": {
   "LaTeX_envs_menu_present": true,
   "autoclose": false,
   "autocomplete": true,
   "bibliofile": "biblio.bib",
   "cite_by": "apalike",
   "current_citInitial": 1,
   "eqLabelWithNumbers": true,
   "eqNumInitial": 1,
   "hotkeys": {
    "equation": "Ctrl-E",
    "itemize": "Ctrl-I"
   },
   "labels_anchors": false,
   "latex_user_defs": false,
   "report_style_numbering": false,
   "user_envs_cfg": false
  },
  "toc": {
   "base_numbering": 1,
   "nav_menu": {},
   "number_sections": true,
   "sideBar": true,
   "skip_h1_title": false,
   "title_cell": "Table of Contents",
   "title_sidebar": "Contents",
   "toc_cell": false,
   "toc_position": {},
   "toc_section_display": true,
   "toc_window_display": false
  },
  "varInspector": {
   "cols": {
    "lenName": 16,
    "lenType": 16,
    "lenVar": 40
   },
   "kernels_config": {
    "python": {
     "delete_cmd_postfix": "",
     "delete_cmd_prefix": "del ",
     "library": "var_list.py",
     "varRefreshCmd": "print(var_dic_list())"
    },
    "r": {
     "delete_cmd_postfix": ") ",
     "delete_cmd_prefix": "rm(",
     "library": "var_list.r",
     "varRefreshCmd": "cat(var_dic_list()) "
    }
   },
   "types_to_exclude": [
    "module",
    "function",
    "builtin_function_or_method",
    "instance",
    "_Feature"
   ],
   "window_display": false
  },
  "vscode": {
   "interpreter": {
    "hash": "744f1ca0fa93ee713ec396edee2ca2d83f08d337b4804b3d81e4d628628502ad"
   }
  }
 },
 "nbformat": 4,
 "nbformat_minor": 1
}
