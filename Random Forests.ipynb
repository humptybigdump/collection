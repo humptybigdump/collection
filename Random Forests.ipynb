{
 "cells": [
  {
   "cell_type": "markdown",
   "id": "f34e67f8",
   "metadata": {},
   "source": [
    "# Random Forests vs. Decision Tree\n",
    "\n",
    "We are building a random forest on our own and compare it to a decision tree."
   ]
  },
  {
   "cell_type": "markdown",
   "id": "df3fba43",
   "metadata": {},
   "source": [
    "First some imports:"
   ]
  },
  {
   "cell_type": "code",
   "execution_count": 1,
   "id": "69bb9bdd",
   "metadata": {},
   "outputs": [],
   "source": [
    "from sklearn.tree import DecisionTreeClassifier\n",
    "from sklearn.preprocessing import LabelEncoder\n",
    "import numpy as np\n",
    "import pandas as pd\n",
    "from openml.datasets import get_dataset\n",
    "import seaborn as sns\n",
    "import matplotlib.pyplot as plt\n",
    "sns.set()\n",
    "\n",
    "# a random number generator with fixed random state\n",
    "random_state = 0\n",
    "rng = np.random.default_rng(random_state)"
   ]
  },
  {
   "cell_type": "markdown",
   "id": "304f454b",
   "metadata": {},
   "source": [
    "Next we define our utility functions\n",
    "- data frame shuffling\n",
    "- computing the majority vote for each row in the provided data"
   ]
  },
  {
   "cell_type": "code",
   "execution_count": 2,
   "id": "92e120d0",
   "metadata": {},
   "outputs": [],
   "source": [
    "def shuffle_df(df: pd.DataFrame):\n",
    "    return df.sample(frac=1).reset_index(drop=True)\n",
    "\n",
    "\n",
    "def get_majority_vote(predictions: np.ndarray):\n",
    "    labels = []\n",
    "    for pred in predictions:\n",
    "        values, counts = np.unique(pred, return_counts=True)  # we want to count along the rows\n",
    "        max_index = np.argmax(counts)\n",
    "        label = values[max_index]\n",
    "        labels.append(label)\n",
    "    return np.array(labels)"
   ]
  },
  {
   "cell_type": "markdown",
   "id": "db04b6ad",
   "metadata": {},
   "source": [
    "## Building the Random Forest\n",
    "\n",
    "### Parameters:\n",
    "- the number of trees \n",
    "- the fraction of data points used to train each tree\n",
    "\n",
    "We set the number of dimensions for each tree to sqrt(d)"
   ]
  },
  {
   "cell_type": "code",
   "execution_count": 3,
   "id": "58079c16",
   "metadata": {},
   "outputs": [],
   "source": [
    "class RandomForest:\n",
    "    def __init__(self, n_components: int,\n",
    "                 frac_observations_per_tree: float = 0.2):\n",
    "        self.n_components = n_components\n",
    "        self.frac_observations_per_tree = frac_observations_per_tree\n",
    "        self.forest = [DecisionTreeClassifier() for _ in range(n_components)]\n",
    "        self.features_per_tree = []\n",
    "\n",
    "    # for now we only support dataframes, but we could extend our forest to also handle numpy arrays\n",
    "    def fit(self, X: pd.DataFrame, y: pd.Series):\n",
    "        n_dimensions = X.shape[-1]\n",
    "        num_features_per_tree = np.sqrt(n_dimensions).astype(int)  # compute the number of features used in each tree\n",
    "        self.features_per_tree = []  # we need to store those features for the prediction phase later on\n",
    "        all_data_indices = np.arange(len(y))\n",
    "        num_observations_per_tree = int(len(all_data_indices * self.frac_observations_per_tree))\n",
    "        for tree in self.forest:  # loop over all trees in the forest\n",
    "            # subsample data and dimensions\n",
    "            sampled_indices = rng.choice(all_data_indices, size=num_observations_per_tree, replace=True)  # bootstrap\n",
    "            sampled_dimensions = rng.choice(X.columns, num_features_per_tree, replace=False)  # choose dimensions randomly\n",
    "            self.features_per_tree.append(sampled_dimensions)  # store those dimensions\n",
    "\n",
    "            # train tree\n",
    "            X_tree = X.loc[sampled_indices, sampled_dimensions]  # select samples and dimensions\n",
    "            y_tree = y.loc[sampled_indices]\n",
    "            tree.fit(X_tree, y_tree)  # fit the tree\n",
    "\n",
    "    def predict(self, X: pd.DataFrame):\n",
    "        predictions = [\n",
    "            tree.predict(X[dimensions])  # get the dimensions that belong to each tree\n",
    "            for dimensions, tree in zip(self.features_per_tree, self.forest)\n",
    "        ]\n",
    "        predictions = np.array(predictions).T  # this has shape (#data, #components)\n",
    "        labels = get_majority_vote(predictions)\n",
    "        return labels"
   ]
  },
  {
   "cell_type": "markdown",
   "id": "68579d51",
   "metadata": {},
   "source": [
    "## Evaluation\n",
    "\n",
    "### Dataset\n",
    "\n",
    "We classify measurements from 16 chemical sensors exposed to 6 gases at various levels of concentrations.\n",
    "\n",
    "There are six possible classes:\n",
    "\n",
    "1. Ethanol \n",
    "2. Ethylene  \n",
    "3. Ammonia \n",
    "4. Acetaldehyde \n",
    "5. Acetone \n",
    "6. Toluene\n",
    "\n",
    "- Our goal is to classify the type of gas from the measurements"
   ]
  },
  {
   "cell_type": "markdown",
   "id": "9ab42bad",
   "metadata": {},
   "source": [
    "### Data loading and preprocessing"
   ]
  },
  {
   "cell_type": "code",
   "execution_count": 4,
   "id": "12272d44",
   "metadata": {},
   "outputs": [],
   "source": [
    "GAS_IDENTIFICATION = 1476\n",
    "data = get_dataset(GAS_IDENTIFICATION).get_data()[0]\n",
    "data.dropna(axis=0, inplace=True)\n",
    "if \"id\" in data.columns:\n",
    "    data = data.drop(\"id\", axis=1)\n",
    "data = shuffle_df(data)\n",
    "data.rename({\"Class\": \"class\"}, axis=1, inplace=True)\n",
    "data[\"class\"] = LabelEncoder().fit_transform(data[\"class\"])\n",
    "\n",
    "num_train = int(0.7 * len(data))\n",
    "train, test = data.loc[:num_train], data.loc[num_train:]"
   ]
  },
  {
   "cell_type": "markdown",
   "id": "9124e741",
   "metadata": {},
   "source": [
    "We compare four algorithms:"
   ]
  },
  {
   "cell_type": "code",
   "execution_count": 5,
   "id": "9c11578c",
   "metadata": {},
   "outputs": [],
   "source": [
    "algorithms = {\n",
    "    \"Decision tree\": DecisionTreeClassifier(),\n",
    "    \"Random forest ( 3)\": RandomForest(n_components=3),\n",
    "    \"Random forest (10)\": RandomForest(n_components=10),\n",
    "    \"Random forest (30)\": RandomForest(n_components=30),\n",
    "    \"Random forest (100)\": RandomForest(n_components=100),\n",
    "}"
   ]
  },
  {
   "cell_type": "markdown",
   "id": "ef617295",
   "metadata": {},
   "source": [
    "Fit each algorithm on the same data:"
   ]
  },
  {
   "cell_type": "code",
   "execution_count": 6,
   "id": "508fed71",
   "metadata": {},
   "outputs": [],
   "source": [
    "X_train = train.drop(\"class\", axis=1)\n",
    "y_train = train[\"class\"]\n",
    "for alg in algorithms.values():\n",
    "    alg.fit(X_train, y_train)"
   ]
  },
  {
   "cell_type": "markdown",
   "id": "fd57a307",
   "metadata": {},
   "source": [
    "- Evaluate the algorithms on train and test data\n",
    "- Store the results in a dataframe"
   ]
  },
  {
   "cell_type": "code",
   "execution_count": 7,
   "id": "01a305e3",
   "metadata": {},
   "outputs": [],
   "source": [
    "eval_datasets = {\"Training data\": train, \"Test data\": test}\n",
    "result_df = []\n",
    "for ds_name, eval_data in eval_datasets.items():\n",
    "    for alg_name, alg in algorithms.items():\n",
    "        majority_vote_agreement = np.sum(test[\"class\"])\n",
    "        if majority_vote_agreement < 0.5 * len(eval_data):\n",
    "            majority_vote_agreement = len(eval_data) - majority_vote_agreement\n",
    "        X_this = eval_data.drop(\"class\", axis=1)\n",
    "        y_this = eval_data[\"class\"]\n",
    "        predictions = alg.predict(X_this)\n",
    "        correct_predictions = predictions == y_this\n",
    "        num_correct = np.sum(correct_predictions)\n",
    "        accuracy = num_correct / len(eval_data)\n",
    "        result_df.append([ds_name, alg_name, accuracy])\n",
    "\n",
    "result_df = pd.DataFrame(result_df, columns=[\"Dataset\", \"Algorithm\", \"Accuracy\"])"
   ]
  },
  {
   "cell_type": "markdown",
   "id": "bf1cbd37",
   "metadata": {},
   "source": [
    "Let's have a look at the result:"
   ]
  },
  {
   "cell_type": "code",
   "execution_count": 8,
   "id": "ff4a9daf",
   "metadata": {},
   "outputs": [
    {
     "data": {
      "text/html": [
       "<div>\n",
       "<style scoped>\n",
       "    .dataframe tbody tr th:only-of-type {\n",
       "        vertical-align: middle;\n",
       "    }\n",
       "\n",
       "    .dataframe tbody tr th {\n",
       "        vertical-align: top;\n",
       "    }\n",
       "\n",
       "    .dataframe thead th {\n",
       "        text-align: right;\n",
       "    }\n",
       "</style>\n",
       "<table border=\"1\" class=\"dataframe\">\n",
       "  <thead>\n",
       "    <tr style=\"text-align: right;\">\n",
       "      <th></th>\n",
       "      <th>Dataset</th>\n",
       "      <th>Algorithm</th>\n",
       "      <th>Accuracy</th>\n",
       "    </tr>\n",
       "  </thead>\n",
       "  <tbody>\n",
       "    <tr>\n",
       "      <th>0</th>\n",
       "      <td>Training data</td>\n",
       "      <td>Decision tree</td>\n",
       "      <td>1.000000</td>\n",
       "    </tr>\n",
       "    <tr>\n",
       "      <th>1</th>\n",
       "      <td>Training data</td>\n",
       "      <td>Random forest ( 3)</td>\n",
       "      <td>0.995995</td>\n",
       "    </tr>\n",
       "    <tr>\n",
       "      <th>2</th>\n",
       "      <td>Training data</td>\n",
       "      <td>Random forest (10)</td>\n",
       "      <td>0.999897</td>\n",
       "    </tr>\n",
       "    <tr>\n",
       "      <th>3</th>\n",
       "      <td>Training data</td>\n",
       "      <td>Random forest (30)</td>\n",
       "      <td>1.000000</td>\n",
       "    </tr>\n",
       "    <tr>\n",
       "      <th>4</th>\n",
       "      <td>Training data</td>\n",
       "      <td>Random forest (100)</td>\n",
       "      <td>1.000000</td>\n",
       "    </tr>\n",
       "    <tr>\n",
       "      <th>5</th>\n",
       "      <td>Test data</td>\n",
       "      <td>Decision tree</td>\n",
       "      <td>0.968368</td>\n",
       "    </tr>\n",
       "    <tr>\n",
       "      <th>6</th>\n",
       "      <td>Test data</td>\n",
       "      <td>Random forest ( 3)</td>\n",
       "      <td>0.975557</td>\n",
       "    </tr>\n",
       "    <tr>\n",
       "      <th>7</th>\n",
       "      <td>Test data</td>\n",
       "      <td>Random forest (10)</td>\n",
       "      <td>0.990415</td>\n",
       "    </tr>\n",
       "    <tr>\n",
       "      <th>8</th>\n",
       "      <td>Test data</td>\n",
       "      <td>Random forest (30)</td>\n",
       "      <td>0.994009</td>\n",
       "    </tr>\n",
       "    <tr>\n",
       "      <th>9</th>\n",
       "      <td>Test data</td>\n",
       "      <td>Random forest (100)</td>\n",
       "      <td>0.994249</td>\n",
       "    </tr>\n",
       "  </tbody>\n",
       "</table>\n",
       "</div>"
      ],
      "text/plain": [
       "         Dataset            Algorithm  Accuracy\n",
       "0  Training data        Decision tree  1.000000\n",
       "1  Training data   Random forest ( 3)  0.995995\n",
       "2  Training data   Random forest (10)  0.999897\n",
       "3  Training data   Random forest (30)  1.000000\n",
       "4  Training data  Random forest (100)  1.000000\n",
       "5      Test data        Decision tree  0.968368\n",
       "6      Test data   Random forest ( 3)  0.975557\n",
       "7      Test data   Random forest (10)  0.990415\n",
       "8      Test data   Random forest (30)  0.994009\n",
       "9      Test data  Random forest (100)  0.994249"
      ]
     },
     "metadata": {},
     "output_type": "display_data"
    },
    {
     "data": {
      "image/png": "[encoded data removed]",
      "text/plain": [
       "<Figure size 432x288 with 1 Axes>"
      ]
     },
     "metadata": {},
     "output_type": "display_data"
    }
   ],
   "source": [
    "display(result_df)\n",
    "sns.barplot(data=result_df, x=\"Dataset\", y=\"Accuracy\", hue=\"Algorithm\")\n",
    "plt.ylim((np.min(result_df[\"Accuracy\"]) - 0.01, 1.0))\n",
    "plt.title(\"Comparison of decision tree and random forests\")\n",
    "plt.legend(loc=\"lower left\")\n",
    "plt.tight_layout(pad=.5)\n",
    "plt.show()"
   ]
  },
  {
   "cell_type": "markdown",
   "id": "23a2a507",
   "metadata": {},
   "source": [
    "- Decision tree has perfect performance on training data but lowest performance on test data\n",
    "    - slight overfitting\n",
    "- Random forest with only 3 components already outperforms decision tree on test data (with our configuration)\n",
    "- Performance of random forest increases with number of components but saturates eventually"
   ]
  }
 ],
 "metadata": {
  "kernelspec": {
   "display_name": "E2_kernel",
   "language": "python",
   "name": "e2_kernel"
  },
  "language_info": {
   "codemirror_mode": {
    "name": "ipython",
    "version": 3
   },
   "file_extension": ".py",
   "mimetype": "text/x-python",
   "name": "python",
   "nbconvert_exporter": "python",
   "pygments_lexer": "ipython3",
   "version": "3.8.10"
  }
 },
 "nbformat": 4,
 "nbformat_minor": 5
}
