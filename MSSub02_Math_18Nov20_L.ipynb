{
 "cells": [
  {
   "cell_type": "markdown",
   "metadata": {},
   "source": [
    "<div style=\"text-align:center\">Marco Seiz, Michael Kellner, Anastasia August<br>\n",
    "KIT, Institut für Angewandte Materialien (IAM)<br>\n",
    "Computational Materials Science (CMS)\n",
    "</div>\n",
    "<h1>Mikrostruktursimulation <br/>Rechnerübung Grundlagen Mathematik WS 20/21</h1>"
   ]
  },
  {
   "cell_type": "code",
   "execution_count": null,
   "metadata": {},
   "outputs": [],
   "source": [
    "%matplotlib notebook\n",
    "import matplotlib.pyplot as plt\n",
    "import matplotlib as mpl\n",
    "import math\n",
    "import numpy as np\n",
    "mpl.rcParams.update({'font.size': 16})\n",
    "mpl.rcParams['figure.figsize'] = (9,6)\n",
    "mpl.rcParams['axes.grid'] = True\n",
    "from sympy import *\n",
    "import time\n",
    "from numba import jit\n",
    "import warnings\n",
    "warnings.filterwarnings('ignore')\n",
    "#from matplotlib import cm\n",
    "#from matplotlib import colors\n",
    "#from ipywidgets import interactive\n",
    "\n",
    "init_printing()"
   ]
  },
  {
   "cell_type": "markdown",
   "metadata": {},
   "source": [
    "<h3>Aufgabe 1 a)<br>\n",
    "Analytische Lösung</h3>"
   ]
  },
  {
   "cell_type": "markdown",
   "metadata": {},
   "source": [
    "Gegeben ist die Funktion $f = exp(x+1)$. Definieren Sie diese Funktion und bestimmen Sie die analytische Ableitung mit Hilfe von sympy. Geben Sie den Wert der Ableitung an der Stelle $x=1$ an."
   ]
  },
  {
   "cell_type": "code",
   "execution_count": null,
   "metadata": {},
   "outputs": [],
   "source": [
    "x = symbols('x') \n",
    "x_pos = \n",
    "f = \n",
    "display(f)\n",
    "df = \n",
    "display(df)\n",
    "print(\"Symbolische Berechnung:\")\n",
    "symb = \n",
    "display(symb)\n",
    "evaluated = \n",
    "print(\"exakte Lösung: %e\" % (evaluated))"
   ]
  },
  {
   "cell_type": "markdown",
   "metadata": {},
   "source": [
    "<h3>Aufgabe 1 b)<br>\n",
    "zu implementierende Verfahren</h3>"
   ]
  },
  {
   "cell_type": "markdown",
   "metadata": {},
   "source": [
    "Es sollen nun mehrere numerische Verfahren zur Näherung der Ableitung untersucht werden. Die Verfahren basieren darauf, die Steigung der Funktion über Stützpunkte zu bestimmen.\n",
    "\n",
    "Implementieren Sie die folgenden Verfahren in den vordefinierten Funktionen und berechnen sie wiederum die Ableitung\n",
    "an der Stelle $x=1$ für jedes Verfahren. Der Wert hinter `return` wird von der Funktion zurückgegeben.\n",
    "\n",
    "1. Rückwärtsdifferenz 1. Ordnung $$\\frac{\\partial f(x)}{\\partial x} \\approx \\frac{f(x_i)-f(x_{i-1})}{x_i-x_{i-1}}$$\n",
    "2. Vorwärtsdifferenz 1. Ordnung $$\\frac{\\partial f(x)}{\\partial x} \\approx \\frac{f(x_{i+1})-f(x_{i})}{x_{i+1}-x_{i}}$$\n",
    "3. Zentrale Differenz 2. Ordnung $$\\frac{\\partial f(x)}{\\partial x} \\approx \\frac{f(x_{i+1})-f(x_{i-1})}{x_{i+1}-x_{i-1}}$$\n",
    "4. Rückwärtsdifferenz 3. Ordnung $$\\frac{\\partial f(x)}{\\partial x} \\approx \\frac{11 f(x_{i})- 18 f(x_{i-1}) + 9 f(x_{i-2}) -2 f(x_{i-3})}{3(x_{i+1}-x_{i-1})}$$\n",
    "5. Zentrale Differenz 4. Ordnung $$\\frac{\\partial f(x)}{\\partial x} \\approx \\frac{-f(x_{i+2}) + 8 f(x_{i+1}) - 8 f(x_{i-1}) +f(x_{i-2})}{6(x_{i+1}-x_{i-1})}$$"
   ]
  },
  {
   "cell_type": "code",
   "execution_count": null,
   "metadata": {},
   "outputs": [],
   "source": [
    "dx = 1.0/100.0\n",
    "def diff_rueck_1_ordn(dx):\n",
    "    return \n",
    "print(\"Rückwärtsdifferenz %e\"%N(diff_rueck_1_ordn(dx)))"
   ]
  },
  {
   "cell_type": "code",
   "execution_count": null,
   "metadata": {},
   "outputs": [],
   "source": [
    "def diff_vor_1_ordn(dx):\n",
    "    return \n",
    "print(\"Vorwärtsdifferenz %e\"%N(diff_vor_1_ordn(dx)))"
   ]
  },
  {
   "cell_type": "code",
   "execution_count": null,
   "metadata": {},
   "outputs": [],
   "source": [
    "def diff_zentral_2_ordn(dx):\n",
    "    return \n",
    "print(\"Zentraldifferenz 2. Ordnung %e\"%N(diff_zentral_2_ordn(dx)))"
   ]
  },
  {
   "cell_type": "code",
   "execution_count": null,
   "metadata": {},
   "outputs": [],
   "source": [
    "def diff_rueck_3_ordn(dx):\n",
    "    return \n",
    "print(\"Rückwärtsdifferenz 3. Ordnung %e\"%N(diff_rueck_3_ordn(dx)))"
   ]
  },
  {
   "cell_type": "code",
   "execution_count": null,
   "metadata": {},
   "outputs": [],
   "source": [
    "def diff_zentral_4_ordn(dx):\n",
    "    return \n",
    "print(\"Zentraldifferenz 4. Ordnung %e\"%N(diff_zentral_4_ordn(dx)))"
   ]
  },
  {
   "cell_type": "markdown",
   "metadata": {},
   "source": [
    "<h3>Aufgabe 1 c)<br>\n",
    "Fehlerverlauf Plotten</h3>\n",
    "Vervollständigen Sie die <b>err</b> Funktion so, dass diese die Differenz $|f'-f'_{\\text{num}}|$ zwischen der analytischen $f'$ und dem numerischen Verfahren $f'_{\\text{num}}$ zurück liefert. Füllen Sie mit Hilfe der <b>for-</b> Schleife das Array <b>k</b> mit den Werten $2^{-i}$, wobei $i$ den Index des Arrays darstellt. Aktivieren Sie anschließend die plot funktion um sich die Ergebnise grafisch darstellen zu lassen.\n",
    "\n",
    "Visualisieren Sie die numerischen Fehler und diskutieren Sie die Ergebnisse. Was sagt die Steigung im Diagramm aus? Wie sieht es ohne doppellogarithmitsche Auftragung aus?\n",
    "\n"
   ]
  },
  {
   "cell_type": "code",
   "execution_count": null,
   "metadata": {},
   "outputs": [],
   "source": [
    "K = 10\n",
    "err = np.zeros(K)\n",
    "\n",
    "\n",
    "# Fehlerfunktion\n",
    "def err(calc_method, dx):\n",
    "    ret = \n",
    "    return ret\n",
    "\n",
    "# Abstand der Gitterpunkte\n",
    "k = np.zeros(K)\n",
    "\n",
    "\n",
    "\n",
    "fig_dxErr, ax_dxErr = plt.subplots()\n",
    "\n",
    "# Setze beide Skalen zu logarithmischen Skalen\n",
    "ax_dxErr.set_yscale('log')\n",
    "ax_dxErr.set_xscale('log')\n",
    "ax_dxErr.set_xlabel(\"Abstand der Stützpunkte\")\n",
    "ax_dxErr.set_ylabel(\"Fehler\")\n",
    "ax_dxErr.plot(k,[err(diff_rueck_1_ordn,i) for i in k],\"-x\", label='1. Ordnung rückwärts')\n",
    "ax_dxErr.plot(k,[err(diff_vor_1_ordn,i) for i in k],\"-x\", label='1. Ordnung vorwärts')\n",
    "ax_dxErr.plot(k,[err(diff_zentral_2_ordn,i) for i in k],\"-x\", label='2. Ordnung zentral')\n",
    "ax_dxErr.plot(k,[err(diff_rueck_3_ordn,i) for i in k],\"-x\", label='3. Ordnung rückwärts')\n",
    "ax_dxErr.plot(k,[err(diff_zentral_4_ordn,i) for i in k],\"-x\", label='4. Ordnung zentral')\n",
    "ax_dxErr.legend(ncol=1);"
   ]
  },
  {
   "cell_type": "markdown",
   "metadata": {},
   "source": [
    "<h3>Aufgabe 2</h3>"
   ]
  },
  {
   "cell_type": "markdown",
   "metadata": {},
   "source": [
    "Gegeben ist die eindimensionale Diffusionsgleichung\n",
    "$$ \\frac{\\partial c}{\\partial t} = D \\frac{\\partial^2 c}{\\partial x^2}.$$\n",
    "Diese Gleichung soll nun numerisch mit verschiedenen Verfahren gelöst werden. Der Wert der Diffusionskonstanten $D$ beträgt 1, die Raumschrittweite $\\Delta x$ sei 1 und es sollen 50 Gitterpunkte zur Auflösung des Gebiets verwendet werden."
   ]
  },
  {
   "cell_type": "code",
   "execution_count": null,
   "metadata": {},
   "outputs": [],
   "source": [
    "# Simulations- und Diskretisierungsparameter\n",
    "D=1\n",
    "deltax=1\n",
    "gridpoints=50 # mit Randpunkten\n",
    "# Zeitschrittweite für das explizite Verfahren\n",
    "deltat_explicit=0.5"
   ]
  },
  {
   "cell_type": "markdown",
   "metadata": {},
   "source": [
    "<h3>2 a) Explizites Eulerverfahren</h3>"
   ]
  },
  {
   "cell_type": "markdown",
   "metadata": {},
   "source": [
    "Implementieren Sie die Berechnung der zweiten Ableitung mit zentralen Differenzen zweiter Ordnung für ein Skalarfeld und darauf aufbauend die Zeitintegration mit Hilfe des expliziten Eulerverfahrens erster Ordnung.\n",
    "\n",
    "Hinweis: Es ist hilfreich, sich die diskretisierte Form der Gleichung aufzuschreiben. "
   ]
  },
  {
   "cell_type": "code",
   "execution_count": null,
   "metadata": {},
   "outputs": [],
   "source": [
    "# Berechnung der zweiten räumliche Ableitung von c an der Stelle i\n",
    "# Hinweis: Das i-te Element eines Arrays ist über c[i] verfügbar.\n",
    "#@jit\n",
    "def diff2Ord2(c, i):\n",
    "    return  \n",
    "    \n",
    "# Zeitintegration mit dem expliziten Eulerverfahren\n",
    "#@jit\n",
    "def explEuler1Ord(cold, cnew):\n",
    "    length = cold.shape[0]\n",
    "    start = 1\n",
    "    end = length-1\n",
    "    for i in range(start, end):\n",
    "        cnew[i] = \n",
    "        "
   ]
  },
  {
   "cell_type": "markdown",
   "metadata": {},
   "source": [
    "<h3>2 b) Rand- und Anfangsbedingungen</h3>"
   ]
  },
  {
   "cell_type": "markdown",
   "metadata": {},
   "source": [
    "Für die Lösung des Anfangsrandwertproblems sind Anfangs- und Randbedingungen notwendig. Implementieren Sie die folgendenen Bedingungen:\n",
    "\n",
    "Dirichlet-Randbedingung am linken Rand: $c(0,t) = 0$\n",
    "\n",
    "Dirichlet-Randbedingung am rechten Rand: $c(L,t) = 1$\n",
    "\n",
    "Anfangsbedingung: $c(x,0) = 0$"
   ]
  },
  {
   "cell_type": "code",
   "execution_count": null,
   "metadata": {},
   "outputs": [],
   "source": [
    "# Randbedingungen mit dem Ansatz über ghost- oder halo-Zellen; in diesen Zellen wird später nicht gerechnet\n",
    "# Hinweis: a[-1] ist das letzte Element von a, entspricht also dem rechten Rand\n",
    "def bcs(c):\n",
    "    c[0] = \n",
    "    c[-1] = \n",
    "\n",
    "# Anfangsbedingungen\n",
    "# Hinweis: a[:] entspricht allen Elementen von a\n",
    "def ini(c):\n",
    "    c[:] = \n",
    "        "
   ]
  },
  {
   "cell_type": "markdown",
   "metadata": {},
   "source": [
    "<h3>2 c) Simulation und Analyse</h3>"
   ]
  },
  {
   "cell_type": "markdown",
   "metadata": {},
   "source": [
    "Lösen sie nun die Gleichung numerisch für eine Zeitschrittweite von $\\Delta t=0.5$. Was für ein Zustand wird annähernd erreicht?\n",
    "\n",
    "\n",
    "Setzen Sie nun die Zeitschrittweite auf $\\Delta t=0.51$. Wie verändert sich die Lösung und warum?\n",
    "\n",
    "\n"
   ]
  },
  {
   "cell_type": "code",
   "execution_count": null,
   "metadata": {},
   "outputs": [],
   "source": [
    "# Initialisieren der Felder\n",
    "cold=np.zeros(gridpoints)\n",
    "cnew=np.zeros(gridpoints)\n",
    "ini(cold)\n",
    "framelist_e=[]\n",
    "times_e=[]"
   ]
  },
  {
   "cell_type": "code",
   "execution_count": null,
   "metadata": {},
   "outputs": [],
   "source": [
    "#Simulation\n",
    "goaltime = gridpoints*15\n",
    "print(\"Zielzeit ist %lf\" % (goaltime))\n",
    "timesteps=int(goaltime/deltat_explicit)\n",
    "writefreq=int(timesteps/5) \n",
    "bcs(cold)\n",
    "start = time.time()\n",
    "for i in range(timesteps+1):\n",
    "    if i%writefreq == 0:\n",
    "        framelist_e.append(cold.copy())\n",
    "        times_e.append(i*deltat_explicit)\n",
    "    explEuler1Ord(cold, cnew)\n",
    "    bcs(cnew)\n",
    "    cold, cnew = cnew, cold\n",
    "end = time.time()\n",
    "print(\"Laufzeit: %f Sekunden\" % (end-start))"
   ]
  },
  {
   "cell_type": "code",
   "execution_count": null,
   "metadata": {},
   "outputs": [],
   "source": [
    "fig_e, ax_e = plt.subplots()\n",
    "for i in range(len(framelist_e)):\n",
    "    ax_e.plot(framelist_e[i], label=\"%.1f\" % (times_e[i]))\n",
    "    \n",
    "ax_e.set_xlabel(\"Gitterposition / -\")\n",
    "ax_e.set_ylabel(\"Konzentration / -\")\n",
    "\n",
    "ax_e.legend(ncol=2,title=\"Simulationszeit\")\n",
    "fig_e.savefig(\"konzentration_dt05.pdf\") \n",
    "# Hier können Sie den Dateinamen zum Speichern eingeben. \n",
    "# Speichern Sie die Ergebnisse unterschiedlicher Zeitschrittweiten in unterschiedlichen PDF-Dateien ab,\n",
    "# damit Sie diese visuell vergleichen können."
   ]
  },
  {
   "cell_type": "markdown",
   "metadata": {},
   "source": [
    "<h3>2 d) Implizites Eulerverfahren</h3>"
   ]
  },
  {
   "cell_type": "markdown",
   "metadata": {},
   "source": [
    "Implementieren Sie nun das implizite Eulerverfahren. Es gilt:\n",
    "\n",
    "$$ \\frac{c^{n+1}_{i} - c^{n}_{i}}{\\Delta t} = D \\frac{c_{i+1}^{n+1} - 2c_{i}^{n+1} + c_{i-1}^{n+1}}{\\Delta x^2}$$\n",
    "\n",
    "Bestimmen Sie zunächst die Matrix $A$ in\n",
    "\n",
    "$$ A \\vec{c}^{n+1} = \\vec{c}^{n}  $$\n",
    "\n",
    "wobei die Vektoren $\\vec{c}$ das eindimensionale Konzentrationsfeld zu den Zeitschritten $n$ und $n+1$ darstellen. Sie können die Struktur der Matrix $A$ aus einem Beispiel mit 3 Feldpunkten (inklusive Rändern) bestimmen.\n"
   ]
  },
  {
   "cell_type": "code",
   "execution_count": null,
   "metadata": {},
   "outputs": [],
   "source": [
    "# Zeitschrittweite und charakteristische Zahl des Problems für das implizite Verfahren\n",
    "deltat_implicit = 0.5\n",
    "alpha = D*deltat_implicit / (deltax**2)\n"
   ]
  },
  {
   "cell_type": "code",
   "execution_count": null,
   "metadata": {},
   "outputs": [],
   "source": [
    "# Berechnung der inneren Zellen\n",
    "A = np.zeros([gridpoints, gridpoints])\n",
    "for i in range(1,gridpoints-1):\n",
    "    A[i, i] = \n",
    "    A[i, i - 1] = \n",
    "    A[i, i + 1] = \n",
    "# Fixe Dirichlet-Randbedingungen werden direkt in der Matrix abgebildet\n",
    "A[0,0]=1 \n",
    "A[-1, -1]=1\n"
   ]
  },
  {
   "cell_type": "markdown",
   "metadata": {},
   "source": [
    "Wie berechnet sich nun der neue Zeitschritt?"
   ]
  },
  {
   "cell_type": "code",
   "execution_count": null,
   "metadata": {},
   "outputs": [],
   "source": [
    "# Ainv=\n",
    "# Zeitintegration mit dem implizitem Eulerverfahren\n",
    "# Die Lösung x eines linearen Gleichungssystem Ax=b lässt sich mit np.linalg.solve(A, b) bestimmen.\n",
    "# Alternativ lässt sich die Inverse in diesem Fall vor der Funktion berechnen mit Ainv=np.linalg.inv(A)\n",
    "# und der neue Zeitschritt über Matrixmultiplikation (np.matmul(Ainv, cold)) bestimmen.\n",
    "#@jit\n",
    "def implEuler2Ord(cold, cnew):\n",
    "    cnew[:] = \n",
    "    \n",
    "    \n",
    "    \n"
   ]
  },
  {
   "cell_type": "markdown",
   "metadata": {},
   "source": [
    "<h3> 2 e) Simulation und Analyse </h3>"
   ]
  },
  {
   "cell_type": "markdown",
   "metadata": {},
   "source": [
    "Lösen sie nun die Gleichung numerisch für eine Zeitschrittweite von $\\Delta t=0.5$. Unterscheidet sich die Lösung von der des expliziten Verfahrens mit selber Zeitschrittweite? Wie verhält sich die Lösung bei größeren Zeitschrittweiten? Vergleichen und erklären Sie die Unterschiede zum expliziten Verfahren bei $\\Delta t > 0.5$.\n",
    "\n",
    "\n"
   ]
  },
  {
   "cell_type": "code",
   "execution_count": null,
   "metadata": {},
   "outputs": [],
   "source": [
    "#Initialisieren der Felder\n",
    "ini(cold)\n",
    "bcs(cold) # die Randbedingungen müssen initial auf das Feld aufgeprägt werden\n",
    "framelist_i=[]\n",
    "times_i=[]"
   ]
  },
  {
   "cell_type": "code",
   "execution_count": null,
   "metadata": {},
   "outputs": [],
   "source": [
    "#Simulation\n",
    "timesteps=int(goaltime/deltat_implicit)\n",
    "print(\"Zielzeit ist %lf\" % (goaltime))\n",
    "writefreq=int(timesteps/5)\n",
    "\n",
    "start=time.time()\n",
    "for i in range(timesteps+1):\n",
    "    if i%writefreq == 0:\n",
    "        framelist_i.append(cold.copy())\n",
    "        times_i.append(i*deltat_implicit)\n",
    "    implEuler2Ord(cold, cnew)\n",
    "    cold, cnew = cnew, cold\n",
    "end = time.time()\n",
    "print(\"Laufzeit: %f Sekunden\" % (end-start))"
   ]
  },
  {
   "cell_type": "code",
   "execution_count": null,
   "metadata": {},
   "outputs": [],
   "source": [
    "fig_i, ax_i = plt.subplots()\n",
    "for i in range(len(framelist_i)):\n",
    "    ax_i.plot(framelist_i[i], label=\"%.1f\" % (times_i[i]))\n",
    "\n",
    "ax_i.set_xlabel(\"Gitterposition / -\")\n",
    "ax_i.set_ylabel(\"Konzentration / -\")\n",
    "ax_i.legend(ncol=2,title=\"Simulationszeit\")\n",
    "fig_i.savefig(\"konzentration-implizit.pdf\")"
   ]
  },
  {
   "cell_type": "markdown",
   "metadata": {},
   "source": [
    "<h3> 2 f) Vergleich der Verfahren </h3>"
   ]
  },
  {
   "cell_type": "markdown",
   "metadata": {},
   "source": [
    "Es soll die Laufzeit der Verfahren für unterschiedliche sinnvolle Zeitschrittweiten verglichen werden. Erhöhen Sie dafür zuerst die Zahl der Gitterpunkte (gridpoints) auf 250. Für das explizite Verfahren soll die Zeitschrittweite $\\Delta t = 0.5$ verwendet werden, während für das implizite Verfahren die Zeitschrittweiten $\\Delta t \\in  \\{0.5, 25, 250\\}$ verwendet werden sollen.\n",
    "\n",
    "Wie beeinflusst der @jit-Dekorator die Laufzeit der Verfahren? Entfernen Sie hierzu die '#' an den entsprechenden Funktionsdefinition vor dem @jit und führen Sie die Simulationen erneut aus. Führen Sie die Zellen mit der Initialisierung der Felder und der der Simulation mehrfach aus.\n",
    "\n",
    "Diskutieren Sie die Vor- und Nachteile der Verfahren.\n",
    "\n",
    "\n",
    "\n",
    "\n"
   ]
  },
  {
   "cell_type": "code",
   "execution_count": null,
   "metadata": {},
   "outputs": [],
   "source": []
  }
 ],
 "metadata": {
  "kernelspec": {
   "display_name": "Python 3",
   "language": "python",
   "name": "python3"
  },
  "language_info": {
   "codemirror_mode": {
    "name": "ipython",
    "version": 3
   },
   "file_extension": ".py",
   "mimetype": "text/x-python",
   "name": "python",
   "nbconvert_exporter": "python",
   "pygments_lexer": "ipython3",
   "version": "3.5.3"
  }
 },
 "nbformat": 4,
 "nbformat_minor": 2
}
