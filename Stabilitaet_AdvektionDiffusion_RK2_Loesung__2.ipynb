{
 "cells": [
  {
   "cell_type": "markdown",
   "metadata": {},
   "source": [
    "# Numerische Verifizierung der eigenwertbasierten Stabilitätsanalyse"
   ]
  },
  {
   "cell_type": "code",
   "execution_count": null,
   "metadata": {},
   "outputs": [],
   "source": [
    "# wie immer, lass uns einige wichtige Module importieren\n",
    "import numpy as np\n",
    "from matplotlib import pyplot as plt\n",
    "from matplotlib import ticker as mtick"
   ]
  },
  {
   "cell_type": "markdown",
   "metadata": {},
   "source": [
    "---"
   ]
  },
  {
   "cell_type": "markdown",
   "metadata": {},
   "source": [
    "## Aufgabe 9.2"
   ]
  },
  {
   "cell_type": "markdown",
   "metadata": {},
   "source": [
    "### Zusatz zu Aufgabe 9.2b)\n",
    "\n",
    "In der Aufgabe wird gefragt, die Eigenwerte $(\\Delta t \\lambda_j)$ des diskreten räumlichen Operators $R(\\phi)$ herzuleiten. Wenn Sie es noch nicht gemacht haben, leiten Sie den Ausdruck analytisch her und stellen Sie danach das Ergebnis hier graphisch dar. "
   ]
  },
  {
   "cell_type": "code",
   "execution_count": null,
   "metadata": {},
   "outputs": [],
   "source": [
    "# Wir definieren den Vektor\n",
    "# des Phasenwinkels theta, wobei 0<=theta<=2pi\n",
    "# und diskretisieren theta mit 1000 Punkte\n",
    "theta = np.linspace(0,2*np.pi,1000)\n",
    "\n",
    "# Wir definieren zwei beliebige (sigma,beta)-Werte\n",
    "sigma = 1\n",
    "beta = 1\n",
    "\n",
    "# Wir berechnen die Eigenwerte lambda*dt\n",
    "lambda_dt = sigma*1j*np.sin(theta) + 2*beta*(np.cos(theta)-1)\n",
    "\n",
    "# ---------------------------------------------------------------\n",
    "# BONUS! \n",
    "# Eigenwerte des diskreten Operators (numerisch)\n",
    "#\n",
    "# Um die Eigenwerte des diskreten Operators aus der diskreten\n",
    "# Matrix R_delta zu berechnen, so wie in der Vorlesung besprochen, \n",
    "# müssen wir zuerst konkrete Diskretisierungparameter definieren\n",
    "Lx = 1\n",
    "Nx = 100\n",
    "dx = Lx/Nx\n",
    "\n",
    "# Wir definieren die Matrix R_delta\n",
    "R_delta_dt = np.zeros([Nx,Nx])\n",
    "# und füllen Sie aus (achten Sie auf die periodischen\n",
    "#                     Randbedingungen!)\n",
    "for i in range(Nx):\n",
    "    R_delta_dt[i,i-1] += sigma*0.5 + beta\n",
    "    R_delta_dt[i,i] += - 2* beta\n",
    "    R_delta_dt[i,(i+1)%Nx] += -sigma*0.5 + beta\n",
    "    \n",
    "# Wir können die Eigenwerte der Matrix R_delta_dt berechnen\n",
    "lambda_dt_num, eigv = np.linalg.eig(R_delta_dt)\n",
    "# ---------------------------------------------------------------\n",
    "\n",
    "# Wir stellen die Mende der Eigenwerte dar in dem\n",
    "# Raum der komplexen Zahlen\n",
    "plt.figure()\n",
    "plt.plot(np.real(lambda_dt), np.imag(lambda_dt), 'r')\n",
    "plt.plot(np.real(lambda_dt_num), np.imag(lambda_dt_num), 'xr')\n",
    "plt.xlabel(r'$\\mathcal{R}(\\Delta t \\lambda_j)$')\n",
    "plt.ylabel(r'$\\mathcal{I}(\\Delta t \\lambda_j)$')\n",
    "plt.xlim(np.array([-4,4])*beta)\n",
    "plt.ylim(np.array([-1,1])*sigma)\n",
    "plt.show()"
   ]
  },
  {
   "cell_type": "markdown",
   "metadata": {},
   "source": [
    "### Zusatz zu Aufgabe 9.2d)\n",
    "\n",
    "In der Aufgabe wird gefragt, die Stabiltätsregion des vorgeschlagenen Runge--Kutta Verfahrens zu berechnen. Das Ergebnis ist ein komplexer Ausdruck, welcher sich am Besten graphisch darstellen lässt. Leiten Sie den Ausdruck für die marginale Stabilitätsregion und stellen das Ergebnis hier unten graphisch dar. "
   ]
  },
  {
   "cell_type": "code",
   "execution_count": null,
   "metadata": {},
   "outputs": [],
   "source": [
    "# Wir haben den Vektor theta hier oben bereits definiert\n",
    "\n",
    "\n",
    "# Wir definieren den Ausdruck der marginalen Stabilität (dt*lambdaLIM).\n",
    "# Das müssen wir sowohl für die Lösung mit + und -\n",
    "lambdaLIM_dt_pos = -1 + np.sqrt(2*np.cos(theta)-1+2j*np.sin(theta))\n",
    "lambdaLIM_dt_neg = -1 - np.sqrt(2*np.cos(theta)-1+2j*np.sin(theta))\n",
    "\n",
    "# Wir stellen die Menge der Eigenwerte, welche zur marginalen Stabilität führen, \n",
    "# in dem Raum der komplexen Zahlen graphisch dar\n",
    "plt.figure()\n",
    "plt.plot(np.real(lambdaLIM_dt_pos), np.imag(lambdaLIM_dt_pos), 'b')\n",
    "plt.plot(np.real(lambdaLIM_dt_neg), np.imag(lambdaLIM_dt_neg), 'b')\n",
    "plt.xlabel(r'$\\mathcal{R}(\\Delta t \\lambda_j)$')\n",
    "plt.ylabel(r'$\\mathcal{I}(\\Delta t \\lambda_j)$')\n",
    "plt.show()\n"
   ]
  },
  {
   "cell_type": "markdown",
   "metadata": {},
   "source": [
    "### Zusatz zu Aufgabe 9.2e)\n",
    "\n",
    "In der Aufgabe wird gefragt, die Stabiltätsregion des Gesamtverfahrens zu berechnen. Diese ist von zwei Kurven eingeschlossen. Eine davon weist einen komplexen Ausdruck auf uns kann nur graphisch dargestellt werden. Stellen die neutrale Stabilitätskurven des Gesamtverfahrens dar."
   ]
  },
  {
   "cell_type": "code",
   "execution_count": null,
   "metadata": {},
   "outputs": [],
   "source": [
    "# Wir definieren theta neu, weil der bereich sich geänder hat\n",
    "# und ist jetzt 0<=theta<=pi\n",
    "theta = np.linspace(0,np.pi,1000)\n",
    "\n",
    "# Wir gehen jetzt alle theta durch und finden die Paare (sigma, beta), die \n",
    "# zur marginalen Stabilität durch die zweite Bedingung führen \n",
    "# Es reicht hierfür, dass wir die Teillösung mit dem \"+\" berücksichtigen\n",
    "S = -1+ np.sqrt(2*np.cos(theta)-1+2j*np.sin(theta))\n",
    "beta_lim = -np.real(S)/2\n",
    "sigma_lim = np.imag(S)\n",
    "\n",
    "# Wir stellen das Ergebnis im Raum (sigma, beta) dar\n",
    "plt.figure()\n",
    "plt.plot(sigma_lim,0.5*np.ones(sigma_lim.shape), label='Bedingung 1')\n",
    "plt.plot(sigma_lim, beta_lim, label='Bedingung 2')\n",
    "plt.xlabel('sigma')\n",
    "plt.ylabel('beta')\n",
    "plt.legend()\n",
    "plt.plot()\n",
    "plt.show()"
   ]
  },
  {
   "cell_type": "markdown",
   "metadata": {},
   "source": [
    "### Aufgabe 9.3\n",
    "\n",
    "earbeiten Sie Ihr Jupyter Notebook von Übung 8, so dass diese die Advektions-Diffunsionsgleichung Gleichung mit dem in Aufgabenteil 8.1 beschriebenen Verfahren lösen. \n",
    "\n",
    "Ihr Algorithmus könnte folgende Struktur aufweisen:\n",
    "* Definieren Sie die notwendigen Parameter. \n",
    "* Definieren Sie die diskreten Vektoren $\\mathbf{x}$ der KV Mittelpunkte, $\\mathbf{\\phi}$ der Lösungsvariablen, $\\mathbf{\\phi}^{(n)}$ der bereits berechneten Lösungsvariablen, und $\\mathbf{F}$ der Flüsse an den KV Grenzflächen. \n",
    "* Initialisieren Sie den Lösungsvektor $\\mathbf{\\phi}$ mit der Anfangsbedingung\n",
    "\\begin{equation}\n",
    "            \\phi(x,t=0) = \\cos(k_x x)    \n",
    "\\end{equation}\n",
    "Wählen Sie als Wellenzahl $k_x=2\\pi$.\n",
    "        \n",
    "* Iterieren Sie die Berechnung der Lösung im nächsten Zeitschritt für eine Anzahl von Zeitschritten $N_t=200$. Dieser Schritt beinhaltet folgende Operationen:\n",
    "    - Iterieren Sie über die Anzahl von Stufen ($1,\\cdots,K$) des Runge--Kutta Verfahrens\n",
    "        + Speichern Sie die bereits berechnete Lösungsvariablen $\\mathbf{\\phi}^{(n)} \\leftarrow \\mathbf{\\phi}$\n",
    "        + Iterieren Sie über alle KV Grenzflächen, um die advektive und diffusive Flüsse zu berechnen und in den Vektor $\\mathbf{F}$ zu speichern. \n",
    "        + Iterieren Sie über alle KV, um die Lösung durch die Bilanz der Flüsse zu aktualisieren.\n",
    "* Stellen Sie das Ergebnis dar und verifizieren Sie diese, in dem Sie die numerische und analytische Lösung vergleichen. "
   ]
  },
  {
   "cell_type": "code",
   "execution_count": null,
   "metadata": {},
   "outputs": [],
   "source": [
    "##########\n",
    "# INPUTS #\n",
    "##########\n",
    "\n",
    "L = 1.0           # [m] Länge des Gebiets\n",
    "U = 1.0           # [m/s] Advektionsgeschwindigkeit\n",
    "\n",
    "Nt = 20         # Anzahl der zu berechnende Zeitschritte\n",
    "Nx = 20         # Anzahl von Zellen / Kontrollvolumina (KV)\n",
    "beta = 0.4      # dimensionsloser Parameter alfa/(dx^2/dt) = nu * dt / dx^2 = beta\n",
    "sigma = 0.6     # dimensionsloser Parameter U/(dx/dt) = U * dt / dx = sigma"
   ]
  },
  {
   "cell_type": "markdown",
   "metadata": {},
   "source": [
    "Definieren Sie die Vektoren $\\mathbf{x}$ der Koordinaten von den Mittelpunkten der Kontrollvolumina (KV), $\\mathbf{\\phi}$ der unbekannten Lösungsvariable, $\\mathbf{F}$ der Flüsse an den KV Grenzflächen. Nachdem Sie in dem oberen Block $L$ und $N_x$ definiert haben, können Sie jetzt die Breite $\\Delta x$ des Kontrollvolumens auch definieren.  Die Zeitschrittweite $\\Delta t$ und der Diffusionskoeffizienten $\\nu$ werden aus den dimensionslosen Parametern $\\beta$ und $\\sigma$ hergeleitet."
   ]
  },
  {
   "cell_type": "code",
   "execution_count": null,
   "metadata": {},
   "outputs": [],
   "source": [
    "dx = L/Nx                     # [m] Auflösung\n",
    "dt = sigma*dx/U               # [s] Zeitschritt\n",
    "nu = beta * dx**2/dt          # [m^2/s] Diffusionskoeffizient\n",
    "\n",
    "x = (np.arange(Nx)+0.5)*dx    # Gitter (Vektor der Koordinate von den KV Mittelpunkten)\n",
    "x_I =(np.arange(Nx+1))*dx     # Gitter (Vektor der Koordinate der KV Grenzfflächen: nicht nötig für Berechnung!)\n",
    "phi = np.zeros(Nx)            # Vektor der im KV gemittelten phi-Werte\n",
    "phi_n = np.zeros(Nx)          # Vektor der im KV gemittelten phi-Werte im vorigen Zeitpunkt\n",
    "F = np.zeros(Nx+1)            # Vektor der Flüsse an den KV Grenzflächen"
   ]
  },
  {
   "cell_type": "markdown",
   "metadata": {},
   "source": [
    "Initialisieren Sie den Lösungsvektor $\\mathbf{\\phi}$ mit der in Aufgabenteil 8.1a) vorgegebenen Anfangsbedingung\n",
    "\n",
    "$$ \\phi(x,t=0) = A \\cos (k_x x) \\, . \\qquad \\qquad (2)$$\n",
    "\n",
    "Wählen Sie als Wellenzahl $k_x=2\\pi$ und $A=1$."
   ]
  },
  {
   "cell_type": "code",
   "execution_count": null,
   "metadata": {
    "scrolled": false
   },
   "outputs": [],
   "source": [
    "# Wir speichern die Anfangsbedingung in dem Vektor phi\n",
    "phi += np.cos(2*np.pi*x)"
   ]
  },
  {
   "cell_type": "markdown",
   "metadata": {},
   "source": [
    "Iterieren Sie die Berechnung der Lösung im nächsten Zeitschritt für eine Anzahl von Zeitschritten $N_t=200$. Dieser Schritt beinhaltet folgende Operationen:\n",
    "        \n",
    "* Iterieren Sie über alle KV Grenzflächen, um die advektive und diffusive Flüsse zu berechnen und in den Vektor $\\mathbf{F}$ zu speichern. \n",
    "* Iterieren Sie über alle KV, um die Lösung durch die Bilanz der Flüsse zu aktualisieren."
   ]
  },
  {
   "cell_type": "code",
   "execution_count": null,
   "metadata": {
    "scrolled": true
   },
   "outputs": [],
   "source": [
    "# Zuerst definieren wir die Zeit\n",
    "# vor der Integration sind wir beim Zeitpunkt null\n",
    "t=0\n",
    "\n",
    "# Wir können auch die Koeffizienten der Runge-Kutta Methode definieren\n",
    "RK2 = np.array([0.5,1.0])\n",
    "\n",
    "# Wir starten die zeitliche Integration\n",
    "# als For-Schleife für Nt Zeitschritte\n",
    "for n in range(Nt):\n",
    "    # Wir aktualisieren die Zeit\n",
    "    t = t+dt\n",
    "    # Die aktuelle Lösung ist jetzt die alte Lösung\n",
    "    # (Vorsicht! Keine \"view\" herstellen sondern eine \"copy\")\n",
    "    phi_n = phi.copy()\n",
    "    # Wir iterieren über die Stufen der RK Methode\n",
    "    for s in range(RK2.size):\n",
    "        # Wir berechnen die Flüsse: Achten Sie auf \n",
    "        # die periodischen Randbedingungen! \n",
    "        for iF in range(Nx+1):\n",
    "            # Wir berechnen die diffusive Flüsse (grad(phi)*n) \n",
    "            # mit den zentralen finiten Differenzen\n",
    "            F[iF] = -nu*(phi[iF%Nx]-phi[iF-1])/dx\n",
    "            # und dann die advektive Flüsse (U*phi) \n",
    "            # mit linearen Interpolation\n",
    "            F[iF] += 0.5*U*(phi[iF%Nx] + phi[iF-1])\n",
    "        # Wir aktualisieren die Lösung\n",
    "        # durch die Bilanz der Flüsse\n",
    "        for i in range(Nx):\n",
    "            phi[i] = phi_n[i] + dt*RK2[s]*(F[i]-F[i+1])/dx"
   ]
  },
  {
   "cell_type": "markdown",
   "metadata": {},
   "source": [
    "Bevor wir die Lösung darstellen, ist es sinnvoll, die analytische exakte Lösung des Problems zu implementieren. Das machen wir mit einer Funktion. "
   ]
  },
  {
   "cell_type": "code",
   "execution_count": null,
   "metadata": {},
   "outputs": [],
   "source": [
    "# Wir definieren die Funktion, mit der wir die exakten Lösung definieren \n",
    "def phi_exakt(t,x,A,nu,U,kx):\n",
    "    phi_exakt = A*np.cos(kx*(x-U*t))*np.exp(-nu*t*kx**2)\n",
    "    return phi_exakt\n",
    "    \n",
    "# Wir können jetzt die exakte Lösung berechnen\n",
    "x_ex =np.linspace(0,L,Nx)\n",
    "phi_ex = phi_exakt(t,x_ex,1.0,nu,U,2*np.pi)"
   ]
  },
  {
   "cell_type": "markdown",
   "metadata": {},
   "source": [
    "Stellen Sie das Ergebnis dar und überprüfen Sie diese, in dem Sie es mit dem erwarteten Ergebnis vergleichen. "
   ]
  },
  {
   "cell_type": "code",
   "execution_count": null,
   "metadata": {
    "scrolled": true
   },
   "outputs": [],
   "source": [
    "# Wir öffnen eine neue Abbildung\n",
    "plt.figure()\n",
    "# wir stellen die exakte und numerische Lösung dar\n",
    "plt.plot(x,phi,'.',label='numerisch')\n",
    "plt.plot(x_ex,phi_ex, label='exakt')\n",
    "# wir setzen Grenzen für die x- und y-Achse:\n",
    "# Wir sehen gleich wozu wir das brauchen\n",
    "plt.xlim([0,1])\n",
    "# wir zeigen die Legende an\n",
    "plt.legend()\n",
    "# und beschriften die Achsen\n",
    "plt.xlabel('x')\n",
    "plt.ylabel('phi')\n",
    "plt.show()"
   ]
  },
  {
   "cell_type": "markdown",
   "metadata": {},
   "source": [
    "Verifizieren Sie, dass Ihr Ergebnis bezüglich der Stabilität des numerischen Verfahren aus Aufgabe 8.2 korrekt ist und sich in die Stabilitätseigenschaften des Verfahrens tatsächlich wiederspiegelt. Um dies zu erreichen, variieren Sie in ihrem Jupyter Notebook die Parameter $\\sigma = U / (\\Delta x / \\Delta t)$ und $\\beta = \\nu / (\\Delta x^2 / \\Delta t)$ im folgenden Bereich\n",
    "\n",
    "$$ \\sigma = 0 \\cdots 1.8,  \\qquad \\beta = 0 \\cdots 1.5 \\, , $$\n",
    "\n",
    "und beobachten Sie das Verhalten der Lösung. Für welche Werte von $(\\sigma, \\beta)$ ist die Lösung stabil? \n",
    "    \n",
    "Hinweis: Sie können eine Fehlernorm zur von Ihnen berechneten analytischen Lösung verwenden, um in Ihrem Jupyter Notebook die Stabilität der Lösung zu bewerten. Erhöhen Sie hierfür die Anzahl von Zeitschritte zu $N_t=1000$."
   ]
  },
  {
   "cell_type": "code",
   "execution_count": null,
   "metadata": {},
   "outputs": [],
   "source": [
    "# Gleich werden wir das obere Problem für unterschiedliche Werte von sigma und beta lösen müssen\n",
    "#\n",
    "# Es bietet sich also an, die Definition des Problems \n",
    "# und seine Lösung in eine Funktion zu implementieren\n",
    "#\n",
    "def solve_advdiff(Nx,Nt,U,L,sigma,beta):\n",
    "    # zuerst definieren wir die abhängigen Parameter\n",
    "    dx = L/Nx                       # [m] Auflösung\n",
    "    # wenn sigma=0, dann muss U=0 und wir können den Zeitschritt nicht aus \n",
    "    # sigma berechnen. In diesem Fall müssen wir den Zeitschritt \n",
    "    # vorgeben\n",
    "    if sigma==0:\n",
    "        U = 0\n",
    "        dt = 1e-3\n",
    "    else:\n",
    "         dt = sigma*dx/U     # [s] Zeitschritt\n",
    "    nu = beta*dx**2/dt          # [m^2/s] Diffusionskoeffizient\n",
    " \n",
    "    # und die Vektoren der Koordinaten und Lösungsvektoren\n",
    "    x = (np.arange(Nx)+0.5)*dx       # Gitter (Vektor der Koordinate von den KV Mittelpunkten)\n",
    "    x_I = (np.arange(Nx)+1)*dx       # Gitter (Vektor der Koordinate der KV Grenzfflächen: nicht nötig für Berechnung!)\n",
    "    phi = np.zeros(Nx)       # Vektor der im KV gemittelten phi-Werte\n",
    "    phi_n = np.zeros(Nx)       # Vektor der im KV gemittelten phi-Werte im vorigen Zeitpunkt\n",
    "    F = np.zeros(Nx+1)       # Vektor der Flüsse an den KV Grenzflächen\n",
    "\n",
    "    # Wir speichern die Anfangsbedingung in dem Vektor phi\n",
    "    phi = np.cos(2*np.pi*x)\n",
    "    \n",
    "    # Wenn beide beta und sigma null sind, \n",
    "    # dann passiert nichts in der Gleichung: wir haben\n",
    "    # weder diffusion noch advektion\n",
    "    if sigma==0 and beta==0:\n",
    "        return x, phi, phi\n",
    "\n",
    "    # Zuerst definieren wir die Zeit\n",
    "    # vor der Integration sind wir beim Zeitpunkt null\n",
    "    t=0\n",
    "    \n",
    "    # Wir starten die zeitliche Integration\n",
    "    # als For-Schleife für Nt Zeitschritte\n",
    "    for n in range(Nt):\n",
    "        # Wir aktualisieren die Zeit\n",
    "        t = t + dt\n",
    "        # Die aktuelle Lösung ist jetzt die alte Lösung\n",
    "        # (Vorsicht! Keine \"view\" herstellen sondern eine \"copy\")\n",
    "        phi_n = phi.copy()\n",
    "        # Wir iterieren über die Stufen der RK Methode\n",
    "        for s in range(RK2.size):\n",
    "            # Wir berechnen die Flüsse: Achten Sie auf \n",
    "            # die periodischen Randbedingungen! \n",
    "            for iF in range(Nx+1):\n",
    "                # Wir berechnen die diffusive Flüsse (grad(phi)*n) \n",
    "                # mit den zentralen finiten Differenzen\n",
    "                F[iF] = -nu*(phi[iF % Nx]-phi[iF-1])/dx\n",
    "                # und dann die advektive Flüsse (U*phi) \n",
    "                # mit linearen Interpolation\n",
    "                F[iF] += 0.5*U*(phi[iF % Nx] + phi[iF-1])\n",
    "            # Wir aktualisieren die Lösung\n",
    "            # durch die Bilanz der Flüsse\n",
    "            for i in range(Nx):\n",
    "                phi[i] = phi_n[i] + dt*RK2[s]*(F[i]-F[i+1])/dx\n",
    "\n",
    "  \n",
    "    # Wir können gleich auch die analytische Lösung berechnen\n",
    "    phi_ex = phi_exakt(t,x,1.0,nu,U,2*np.pi)\n",
    "\n",
    "    # Die Funktion soll die Lösung und die Koordinate zurückgeben\n",
    "    return x, phi, phi_ex\n",
    "    \n",
    "    \n",
    "# Wir können eine weitere Funktion definieren, mit der wir durch den Vergleich\n",
    "# mit der analytischen Lösung bestimmen können, ob die Lösung stabil war\n",
    "def isStabil(phi,phi_ex):\n",
    "    Emax = np.max(np.abs(phi-phi_ex))\n",
    "    return Emax<10\n"
   ]
  },
  {
   "cell_type": "markdown",
   "metadata": {},
   "source": [
    "Jetzt sind wir bereit, um tatsächlich den Parameterraum zu untesuchen"
   ]
  },
  {
   "cell_type": "code",
   "execution_count": null,
   "metadata": {},
   "outputs": [],
   "source": [
    "sigmas = np.linspace(0,1.8,20)    # Parameterraum sigma\n",
    "betas = np.linspace(0,1.5,20)    # Parameterraum beta\n",
    "# Array von \"dtype=bool\" mit True-Werte, wenn die Kombination (sigma,beta) stabil ist\n",
    "stable = np.zeros((sigmas.size, betas.size), dtype=bool)  \n",
    "# Wir erhähren die Anzahl von Zeitschritten\n",
    "Nt = 1000\n",
    "\n",
    "# Loop für alle sigma\n",
    "for iS,sigma in enumerate(sigmas):\n",
    "    # Loop für alle betas\n",
    "    for iB,beta in enumerate(betas):\n",
    "        # Löse die Gleichung\n",
    "        x,phi,phi_ex = solve_advdiff(Nx,Nt,U,L,sigma,beta)\n",
    "        # Kontrolliere die Stabilität\n",
    "        stable[iS,iB] = isStabil(phi, phi_ex)"
   ]
  },
  {
   "cell_type": "markdown",
   "metadata": {},
   "source": [
    "Stellen Sie das Ergebnis des Aufgabenteils 9.3b) in einem Diagramm dar, welches auf der Ordinate den Parameter $\\beta$ und auf der Abszisse den Parameter $\\sigma$ zeigt. Kennzeichnen Sie mit dem Symbol $\\times$ die $(\\sigma,\\beta)$-Kombinationen, die zu einer stabilen Lösung geführt haben. Die instabile Fälle werden ansonsten mit dem Symbol $\\circ$ gekennzeichnet. Stellen im selben Diagramm auch die Kurven der neutralen Stabilitätsgrenze, so wie sie diese in Aufgabe 9.2 bestimmt haben. Stimmen die numerischen Ergebnisse mit Ihrer Erwartung aus der Stabilitätsanalyse überein?"
   ]
  },
  {
   "cell_type": "code",
   "execution_count": null,
   "metadata": {
    "scrolled": false
   },
   "outputs": [],
   "source": [
    "# Wir öffnen eine neue Abbildung\n",
    "plt.figure()\n",
    "# Wir gehe die Fälle durch und plotten sie\n",
    "# Loop für alle sigma\n",
    "for iS,sigma in enumerate(sigmas):\n",
    "    # Loop für alle betas\n",
    "    for iB,beta in enumerate(betas):\n",
    "        # Fall-Unterscheidung in Abhängigkeit\n",
    "        # der Stabilität\n",
    "        if stable[iS,iB]:   #wenn stabil\n",
    "            plt.plot(sigma,beta,'kx') # Plotten mit x\n",
    "        else:               #wenn instabil\n",
    "            plt.plot(sigma,beta,'ko') # Plotten mit o\n",
    "\n",
    "# Wir plotten auch die Kurven aus der Stabilitätsanalyse\n",
    "plt.plot(sigma_lim, 0.5*np.ones(sigma_lim.shape), label='Bedingung 1')\n",
    "plt.plot(sigma_lim, beta_lim, label='Bedingung 2')\n",
    "plt.plot(sigmas, 0.5*sigmas**2, '--', label='Euler explizit')\n",
    "# Wir plotten eie Legende\n",
    "plt.legend()\n",
    "plt.show()\n"
   ]
  },
  {
   "cell_type": "markdown",
   "metadata": {},
   "source": [
    "**freiwillige Vertiefung** Betrachten Sie jetzt das gleiche problem wie bisher aber ohne periodische Randbedingungen. Stattdessen wird am linken Rand eine Dirchlet Randbedingung verwendet:\n",
    "\n",
    "\\begin{equation}\n",
    "        \\phi_0 = \\phi_L(t) \\,\n",
    "\\end{equation}\n",
    "    \n",
    "wobei  $\\phi_L(t) = \\cos (k_x U t)$. Am rechten Rand verwenden Sie die folgende sogenannte \\textit{konvektive Auslassbedingung}:\n",
    "    \n",
    "\\begin{equation}\n",
    "        (\\phi_{/t})_R = -(U\\phi_{/x})_R\\,\n",
    "\\end{equation}\n",
    "    \n",
    "welche Sie mit einem Aufwind-verfahren erster Ordnung diskretisieren, damit Sie keine Lösungsvariablen außerhalb des Lösungsgebietes benötigen. \n",
    "\n",
    "Schreiben Sie die räumlich diskretisierte Advektions-Diffusionsgleichung in die folgende Form um \n",
    "\n",
    "\\begin{equation}\n",
    "        \\frac{\\mathrm{d} \\mathbf{U}}{\\mathrm{d}t} = \\mathsf{S}\\mathbf{U} + \\mathbf{Q} \\,\n",
    "\\end{equation}\n",
    "    \n",
    "sehen Sie hierzu Vorlesung 10. Berechnen Sie die Eigenwerte $\\lambda_j$ der Matrix $\\mathsf{S}$ für unterschiedliche Werte von $\\sigma$ und $\\beta$ und stellen Sie diese in den komplexen Raum dar, nachdem Sie die Eigenwerte mit $\\Delta t$ multipliziert haben. \n",
    "    "
   ]
  },
  {
   "cell_type": "code",
   "execution_count": null,
   "metadata": {},
   "outputs": [],
   "source": [
    "# Wir definieren den Vektor\n",
    "# des Phasenwinkels theta, wobei 0<=theta<=2pi\n",
    "# und diskretisieren theta mit 1000 Punkte\n",
    "#\n",
    "# Das hatten wir am Anfang schon gemacht; der Vektor\n",
    "# ist inzwischen wieder überschrieben worden\n",
    "\n",
    "# Damit wir mit den Eigenwerten des periodischen Falls\n",
    "# am Anfang vergleichen können, wählen wir wieder die \n",
    "# gleichen Werte von sigma und beta\n",
    "\n",
    "\n",
    "\n",
    "# Eigenwerte des diskreten Operators (numerisch)\n",
    "#\n",
    "# Um die Eigenwerte des diskreten Operators aus der diskreten\n",
    "# Matrix R_delta zu berechnen, so wie in der Vorlesung besprochen, \n",
    "# müssen wir zuerst konkrete Diskretisierungparameter definieren\n",
    "#\n",
    "# Wir wählen die Parameter so wie in Aufgabe 9.2b)\n",
    "\n",
    "# Wir definieren die Matrix R_delta\n",
    "\n",
    "# und füllen Sie aus (achten Sie auf die geänderten Randbedingungen!)\n",
    "\n",
    "    # Wir haben keine periodischen Randbedingung mehr, \n",
    "    # der durch die Dirichler-Randbeidnugn bekannten linken\n",
    "    # Nachbar ist in dem Vektor Q mit dem jeweiligen Vorkoeffizienten\n",
    "    \n",
    "    \n",
    "# In der letzten Zeile der Matrix haben wir die konvektive Ausflussbedingung\n",
    "\n",
    "    \n",
    "# Wir können die Eigenwerte der Matrix R_delta_dt berechnen\n",
    "\n",
    "# ---------------------------------------------------------------\n",
    "\n",
    "# Wir stellen die Mende der Eigenwerte dar in dem\n",
    "# Raum der komplexen Zahlen\n"
   ]
  },
  {
   "cell_type": "markdown",
   "metadata": {},
   "source": [
    "Wir beobachten, dass die neuen Randbedingungen zu einer Verrigenrung des Betrags der Eigenwerte vom räumlichen Operator (im Vergleich zum periodischen Fall) führen. Tatsächlich liege alle Eigenwerde innerhalb der Ellipse vom periodischen Fall. Die Dirchlet-Randbedingung zusammen mit der mit Aufwind diskretisierten Ausflussrandbedingung haben einen dämpfenden Effekt auf die quasidiskrete Gleichung."
   ]
  },
  {
   "cell_type": "code",
   "execution_count": null,
   "metadata": {},
   "outputs": [],
   "source": []
  }
 ],
 "metadata": {
  "kernelspec": {
   "display_name": "Python 3 (ipykernel)",
   "language": "python",
   "name": "python3"
  },
  "language_info": {
   "codemirror_mode": {
    "name": "ipython",
    "version": 3
   },
   "file_extension": ".py",
   "mimetype": "text/x-python",
   "name": "python",
   "nbconvert_exporter": "python",
   "pygments_lexer": "ipython3",
   "version": "3.11.5"
  }
 },
 "nbformat": 4,
 "nbformat_minor": 4
}
